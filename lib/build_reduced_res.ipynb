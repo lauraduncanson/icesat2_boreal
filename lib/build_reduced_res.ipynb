{
 "cells": [
  {
   "cell_type": "markdown",
   "id": "2e901cb2",
   "metadata": {},
   "source": [
    "# Build a reduced resolution version of the Boreal Biomass COG mosaic\n",
    "this reduced res version can be used in ggplot to produce maps for pubs and presentations  \n",
    "reference:   \n",
    "https://gist.github.com/wildintellect/  \n",
    "https://gist.github.com/wildintellect/2efd429da476df46def6af2aa0d1c039  \n",
    "https://github.com/MAAP-Project/maap-documentation-examples/blob/feat/oviews/visualization/OverviewResampling.ipynb"
   ]
  },
  {
   "cell_type": "code",
   "execution_count": 1,
   "id": "2f5f33ad",
   "metadata": {},
   "outputs": [
    {
     "name": "stdout",
     "output_type": "stream",
     "text": [
      "Collecting package metadata (current_repodata.json): done\n",
      "Solving environment: failed with initial frozen solve. Retrying with flexible solve.\n",
      "Collecting package metadata (repodata.json): done\n",
      "Solving environment: failed with initial frozen solve. Retrying with flexible solve.\n",
      "\n",
      "PackagesNotFoundError: The following packages are not available from current channels:\n",
      "\n",
      "  - mamba\n",
      "\n",
      "Current channels:\n",
      "\n",
      "  - https://repo.anaconda.com/pkgs/main/linux-64\n",
      "  - https://repo.anaconda.com/pkgs/main/noarch\n",
      "  - https://repo.anaconda.com/pkgs/r/linux-64\n",
      "  - https://repo.anaconda.com/pkgs/r/noarch\n",
      "\n",
      "To search for alternate channels that may provide the conda package you're\n",
      "looking for, navigate to\n",
      "\n",
      "    https://anaconda.org\n",
      "\n",
      "and use the search bar at the top of the page.\n",
      "\n",
      "\n",
      "/bin/bash: mamba: command not found\n",
      "\n",
      "CommandNotFoundError: Your shell has not been properly configured to use 'conda activate'.\n",
      "To initialize your shell, run\n",
      "\n",
      "    $ conda init <SHELL_NAME>\n",
      "\n",
      "Currently supported shells are:\n",
      "  - bash\n",
      "  - fish\n",
      "  - tcsh\n",
      "  - xonsh\n",
      "  - zsh\n",
      "  - powershell\n",
      "\n",
      "See 'conda init --help' for more information and options.\n",
      "\n",
      "IMPORTANT: You may need to close and restart your shell after running 'conda init'.\n",
      "\n",
      "\n"
     ]
    }
   ],
   "source": [
    "!conda install mamba\n",
    "!mamba create -y -n gdal34 -c conda-forge 'gdal>=3.4.3' geopandas ipykernel\n",
    "!conda activate gdal34\n",
    "#After this runs switch the kernel of the notebook, may require stopping and closing the notebook"
   ]
  },
  {
   "cell_type": "code",
   "execution_count": 1,
   "id": "99d13f96",
   "metadata": {},
   "outputs": [
    {
     "name": "stderr",
     "output_type": "stream",
     "text": [
      "/projects/.local/lib/python3.7/site-packages/geopandas/_compat.py:110: UserWarning: The Shapely GEOS version (3.8.0-CAPI-1.13.1 ) is incompatible with the GEOS version PyGEOS was compiled with (3.10.1-CAPI-1.16.0). Conversions between both will be slow.\n",
      "  shapely_geos_version, geos_capi_version_string\n"
     ]
    }
   ],
   "source": [
    "import geopandas as gpd\n",
    "import os\n",
    "import subprocess\n",
    "\n",
    "from multiprocessing import Pool\n",
    "from functools import partial\n",
    "\n",
    "os.environ['GDAL_DISABLE_READDIR_ON_OPEN'] = 'EMPTY_DIR'"
   ]
  },
  {
   "cell_type": "markdown",
   "id": "5e42031b",
   "metadata": {},
   "source": [
    "## Get the MosaicJson which has the s3 path to the COGs"
   ]
  },
  {
   "cell_type": "code",
   "execution_count": 3,
   "id": "8f5981e9",
   "metadata": {},
   "outputs": [
    {
     "name": "stdout",
     "output_type": "stream",
     "text": [
      "<class 'geopandas.geodataframe.GeoDataFrame'>\n",
      "RangeIndex: 4925 entries, 0 to 4924\n",
      "Data columns (total 7 columns):\n",
      " #   Column        Non-Null Count  Dtype   \n",
      "---  ------        --------------  -----   \n",
      " 0   tile_num      4925 non-null   int64   \n",
      " 1   tile_version  4925 non-null   object  \n",
      " 2   tile_group    4925 non-null   object  \n",
      " 3   map_version   0 non-null      object  \n",
      " 4   s3_path       4925 non-null   object  \n",
      " 5   local_path    4925 non-null   object  \n",
      " 6   geometry      4925 non-null   geometry\n",
      "dtypes: geometry(1), int64(1), object(5)\n",
      "memory usage: 269.5+ KB\n"
     ]
    }
   ],
   "source": [
    "# load up the tile_output_index\n",
    "# dump the s3 column to a txt file (try a small sample)\n",
    "# generate a VRT from txt file\n",
    "tile_index_json_fn = \"/projects/shared-buckets/nathanmthomas/DPS_tile_lists/07/AGB_tindex_master.json\"\n",
    "tile_index_json_fn = '/projects/shared-buckets/nathanmthomas/DPS_tile_lists/AGB/fall2022/map_boreal_2022_v3/11/AGB_tindex_master.json'\n",
    "tile_index_json_fn = \"/projects/shared-buckets/nathanmthomas/DPS_tile_lists/AGB/winter2023/map_boreal_2022_rh_noground_v4/AGB_tindex_master.json\"\n",
    "tile_index_json_fn = '/projects/shared-buckets/nathanmthomas/DPS_tile_lists/AGB/c2020/map_boreal_2022_rh_noground_v4/AGB_tindex_master.json'\n",
    "tiles = gpd.read_file(tile_index_json_fn)\n",
    "tiles.info()"
   ]
  },
  {
   "cell_type": "markdown",
   "id": "fb153edb",
   "metadata": {},
   "source": [
    "## Build the list of COGs needed for the VRT"
   ]
  },
  {
   "cell_type": "code",
   "execution_count": 4,
   "id": "c6c63151",
   "metadata": {},
   "outputs": [],
   "source": [
    "outdir = os.path.dirname(tile_index_json_fn)\n",
    "vrt_list_fn = os.path.join(outdir, \"AGB_tindex.txt\")\n",
    "vrt_fn = os.path.join(outdir, \"AGB_tindex.vrt\")"
   ]
  },
  {
   "cell_type": "code",
   "execution_count": 5,
   "id": "0e383831",
   "metadata": {},
   "outputs": [],
   "source": [
    "with open(vrt_list_fn, 'w') as f:\n",
    "    for text in tiles.s3_path.tolist():\n",
    "        f.write(text.replace(\"s3:/\",\"/vsis3\") + '\\n')     "
   ]
  },
  {
   "cell_type": "markdown",
   "id": "fed08dfa",
   "metadata": {},
   "source": [
    "## Build the VRT mosaic needed"
   ]
  },
  {
   "cell_type": "code",
   "execution_count": 6,
   "id": "83c748b2",
   "metadata": {},
   "outputs": [
    {
     "name": "stdout",
     "output_type": "stream",
     "text": [
      "0...10...20...30...40...50...60...70...80...90...100 - done.\n",
      "\n",
      "real\t11m2.287s\n",
      "user\t0m17.269s\n",
      "sys\t0m1.061s\n"
     ]
    }
   ],
   "source": [
    "#get the bbox as part of the gdalbuildvrt and define it, to save time calculating\n",
    "boreal_tiles = gpd.read_file('/projects/shared-buckets/nathanmthomas/boreal_tiles_v003.gpkg')\n",
    "boreal_tiles.crs\n",
    "tiles.to_crs(boreal_tiles.crs).total_bounds\n",
    "\n",
    "# time gdalbuildvrt -te -5391478 1323304 5408522 9243304 -input_file_list shared-buckets/alexdevseed/AGB_tindex.txt AGB_tindex.vrt\n",
    "!time gdalbuildvrt -allow_projection_difference -te -5391478 1323304 5408522 10323304 -input_file_list $vrt_list_fn $vrt_fn"
   ]
  },
  {
   "cell_type": "markdown",
   "id": "158a7d44",
   "metadata": {},
   "source": [
    "### Build the function to handle the res reduction"
   ]
  },
  {
   "cell_type": "code",
   "execution_count": 7,
   "id": "2710c9f6",
   "metadata": {},
   "outputs": [],
   "source": [
    "def generate_reduced_res(in_vrt_fn, method, tr=900, outdir=None):\n",
    "    ''' \n",
    "    Build a COG that is a reduced resolution version of the original VRT with overview built with resampling method of choice\n",
    "    in_vrt_fn = input VRT filename\n",
    "    method = the resampling method {nearest,bilinear,cubic,cubicspline,lanczos,average,rms,mode}\n",
    "    tr = target resolution in meters\n",
    "    return the path to the new reduced resolution COG\n",
    "    '''\n",
    "    #make sure the output folder exists\n",
    "    #os.makedirs(out_dir, exist_ok=True)\n",
    "    #writing directly to 'bucket' can be slow since it's using s3fuse /tmp is preferred.\n",
    "    #out_cog_fn = f'/projects/tmp/AGB_tindex_{method}_{str(tr)}m.tif'\n",
    "    #out_cog_fn = f'{os.path.splitext(in_vrt_fn)[0]}_{method}_{str(tr)}m.tif'\n",
    "    \n",
    "    extension = f'_{method}_{str(tr)}m.tif'\n",
    "    out_basename = os.path.splitext(os.path.basename(in_vrt_fn))[0] + extension\n",
    "    \n",
    "    if outdir is None:\n",
    "        out_cog_fn = f'{os.path.dirname(in_vrt_fn)}/{out_basename}'\n",
    "    else:\n",
    "        out_cog_fn = f'{outdir}/{out_basename}'\n",
    "    \n",
    "    process = subprocess.run(['gdal_translate', '-of', 'GTiff',\n",
    "                              '-tr', f'{str(tr)}', f'{str(tr)}',\n",
    "                              '-r', f'{method}',\n",
    "                              #'-co', f'OVERVIEW_RESAMPLING={method}',\n",
    "                              '-co', 'COMPRESS=Deflate',\n",
    "                              f'{in_vrt_fn}', f'{out_cog_fn}'\n",
    "                             ], \n",
    "                         stdout=subprocess.PIPE, \n",
    "                         universal_newlines=True)\n",
    "    #print(process)\n",
    "    #print(out_cog_fn)\n",
    "\n",
    "    return out_cog_fn"
   ]
  },
  {
   "cell_type": "code",
   "execution_count": 8,
   "id": "d9bb6ebd",
   "metadata": {},
   "outputs": [],
   "source": [
    "# time gdal_translate -of COG -tr 900 900 -co BIGTIFF=IF_NEEDED -co COMPRESS=DEFLATE -co PREDICTOR=2 GDAL_DISABLE_READDIR_ON_OPEN=EMPTY_DIR AGB_tindex.vrt icesat2_boreal_biomass_900m.tif\n",
    "#!time gdal_translate -of COG -tr 3600 3600 -co BIGTIFF=IF_NEEDED -co COMPRESS=DEFLATE -co PREDICTOR=2 -r {method} -co OVERVIEW_RESAMPLING={method} /projects/my-public-bucket/DPS_tile_lists/07/AGB_tindex.vrt /projects/tmp/AGB_tindex_avg_3600m.tif\n",
    "\n",
    "# This subetted window works takes 30 minutes\n",
    "#time gdal_translate -of COG -tr 900 900 -srcwin 0 0 60000 60000 -co BIGTIFF=IF_NEEDED -co COMPRESS=DEFLATE -co PREDICTOR=2 -r average -co OVERVIEW_RESAMPLING=average /projects/my-public-bucket/DPS_tile_lists/07/AGB_tindex.vrt /projects/tmp/AGB_tindex_avg_900m_sub.tif"
   ]
  },
  {
   "cell_type": "code",
   "execution_count": 9,
   "id": "f55dbe25",
   "metadata": {},
   "outputs": [],
   "source": [
    "#generate_reduced_res(vrt_fn, 'average', tr=3600)"
   ]
  },
  {
   "cell_type": "markdown",
   "id": "d478a147",
   "metadata": {},
   "source": [
    "## Current working solutions (Feb 2023)\n",
    "\n",
    "Loop over all the input tiles and reduce each one - in parrallel. This ensures that only 1 file needs to be read at a time and should be more memory efficient. The VRT of the reduced tiles would then be made and converted into a single GTiff or COG with no additional resampling required."
   ]
  },
  {
   "cell_type": "code",
   "execution_count": 10,
   "id": "2cef93eb",
   "metadata": {},
   "outputs": [
    {
     "data": {
      "text/plain": [
       "['/vsis3/maap-ops-workspace/lduncanson/dps_output/run_boreal_biomass_quick_v2_ubuntu/map_boreal_2022_rh_noground_v4/2023/02/15/05/42/01/342476/boreal_agb_202302151676439579_1326.tif',\n",
       " '/vsis3/maap-ops-workspace/lduncanson/dps_output/run_boreal_biomass_quick_v2_ubuntu/map_boreal_2022_rh_noground_v4/2023/02/15/04/37/27/666751/boreal_agb_202302151676435792_3402.tif',\n",
       " '/vsis3/maap-ops-workspace/lduncanson/dps_output/run_boreal_biomass_quick_v2_ubuntu/map_boreal_2022_rh_noground_v4/2023/02/15/04/37/07/664247/boreal_agb_202302151676435665_3417.tif',\n",
       " '/vsis3/maap-ops-workspace/lduncanson/dps_output/run_boreal_biomass_quick_v2_ubuntu/map_boreal_2022_rh_noground_v4/2023/02/15/04/16/33/261650/boreal_agb_202302151676434536_3215.tif',\n",
       " '/vsis3/maap-ops-workspace/lduncanson/dps_output/run_boreal_biomass_quick_v2_ubuntu/map_boreal_2022_rh_noground_v4/2023/02/15/04/15/13/780147/boreal_agb_202302151676434460_3035.tif',\n",
       " '/vsis3/maap-ops-workspace/lduncanson/dps_output/run_boreal_biomass_quick_v2_ubuntu/map_boreal_2022_rh_noground_v4/2023/02/15/03/50/37/623710/boreal_agb_202302151676432986_2782.tif',\n",
       " '/vsis3/maap-ops-workspace/lduncanson/dps_output/run_boreal_biomass_quick_v2_ubuntu/map_boreal_2022_rh_noground_v4/2023/02/15/03/17/19/699737/boreal_agb_202302151676430990_1278.tif',\n",
       " '/vsis3/maap-ops-workspace/lduncanson/dps_output/run_boreal_biomass_quick_v2_ubuntu/map_boreal_2022_rh_noground_v4/2023/02/15/03/14/21/735377/boreal_agb_202302151676430794_26340.tif',\n",
       " '/vsis3/maap-ops-workspace/lduncanson/dps_output/run_boreal_biomass_quick_v2_ubuntu/map_boreal_2022_rh_noground_v4/2023/02/15/03/12/14/064650/boreal_agb_202302151676430594_0611.tif',\n",
       " '/vsis3/maap-ops-workspace/lduncanson/dps_output/run_boreal_biomass_quick_v2_ubuntu/map_boreal_2022_rh_noground_v4/2023/02/15/03/11/40/679801/boreal_agb_202302151676430633_40664.tif',\n",
       " '/vsis3/maap-ops-workspace/lduncanson/dps_output/run_boreal_biomass_quick_v2_ubuntu/map_boreal_2022_rh_noground_v4/2023/02/15/03/10/26/907725/boreal_agb_202302151676430487_1321.tif',\n",
       " '/vsis3/maap-ops-workspace/lduncanson/dps_output/run_boreal_biomass_quick_v2_ubuntu/map_boreal_2022_rh_noground_v4/2023/02/15/03/05/51/662624/boreal_agb_202302151676430302_1108.tif',\n",
       " '/vsis3/maap-ops-workspace/lduncanson/dps_output/run_boreal_biomass_quick_v2_ubuntu/map_boreal_2022_rh_noground_v4/2023/02/15/03/05/17/907837/boreal_agb_202302151676430173_0608.tif']"
      ]
     },
     "execution_count": 10,
     "metadata": {},
     "output_type": "execute_result"
    }
   ],
   "source": [
    "vsi_list = [text.replace(\"s3:/\",\"/vsis3\") for text in tiles.s3_path.tolist()]\n",
    "vsi_list[0:13]"
   ]
  },
  {
   "cell_type": "code",
   "execution_count": 11,
   "id": "18d8dd53",
   "metadata": {},
   "outputs": [],
   "source": [
    "#testing 1\n",
    "# there was a bug in the gdal43 env where AWS permissions failed, switched back to base\n",
    "#generate_reduced_res(vsi_list[2], 'average', tr=3000)"
   ]
  },
  {
   "cell_type": "code",
   "execution_count": 12,
   "id": "c04076a5",
   "metadata": {},
   "outputs": [],
   "source": [
    "# with Pool(processes=10) as pool:\n",
    "#     pool.map(partial(generate_reduced_res, method='average', tr=6000), vsi_list[13:])"
   ]
  },
  {
   "cell_type": "markdown",
   "id": "277a8326",
   "metadata": {},
   "source": [
    "## Output dir for the resampled tiles\n",
    "sometimes you cant write these next to their originals b/c they are in someone else's private bucket"
   ]
  },
  {
   "cell_type": "code",
   "execution_count": 13,
   "id": "0aa0507e",
   "metadata": {},
   "outputs": [
    {
     "data": {
      "text/plain": [
       "'/projects/shared-buckets/nathanmthomas/DPS_tile_lists/AGB/c2020/map_boreal_2022_rh_noground_v4/resample/'"
      ]
     },
     "execution_count": 13,
     "metadata": {},
     "output_type": "execute_result"
    }
   ],
   "source": [
    "output_location = os.path.dirname(tile_index_json_fn) + '/resample/'\n",
    "!mkdir -p $output_location\n",
    "output_location"
   ]
  },
  {
   "cell_type": "markdown",
   "id": "5f713f24",
   "metadata": {},
   "source": [
    "## Do individual tile resampling \n",
    "##### (Find the missing tiles and fix)\n",
    "\n",
    "1. Load up the list of files that were produced.\n",
    "1. Compare against list of inputs, make a list of missing\n",
    "1. Run the missing tiles through resampler."
   ]
  },
  {
   "cell_type": "code",
   "execution_count": 14,
   "id": "d921b0b5",
   "metadata": {},
   "outputs": [
    {
     "data": {
      "text/plain": [
       "0"
      ]
     },
     "execution_count": 14,
     "metadata": {},
     "output_type": "execute_result"
    }
   ],
   "source": [
    "resampled = os.listdir(output_location)\n",
    "\n",
    "resampled_tif = [file for file in resampled if file.endswith('.tif')]\n",
    "len(resampled_tif)"
   ]
  },
  {
   "cell_type": "code",
   "execution_count": 15,
   "id": "292c54d0",
   "metadata": {},
   "outputs": [
    {
     "data": {
      "text/plain": [
       "[]"
      ]
     },
     "execution_count": 15,
     "metadata": {},
     "output_type": "execute_result"
    }
   ],
   "source": [
    "resampled_tilenum = [int(os.path.basename(file).split(\"_\")[3]) for file in resampled_tif]\n",
    "resampled_tilenum[10:20]"
   ]
  },
  {
   "cell_type": "code",
   "execution_count": 16,
   "id": "08858de7",
   "metadata": {},
   "outputs": [
    {
     "name": "stdout",
     "output_type": "stream",
     "text": [
      "4925\n"
     ]
    },
    {
     "data": {
      "text/plain": [
       "'/vsis3/maap-ops-workspace/lduncanson/dps_output/run_boreal_biomass_quick_v2_ubuntu/map_boreal_2022_rh_noground_v4/2023/02/15/05/42/01/342476/boreal_agb_202302151676439579_1326.tif'"
      ]
     },
     "execution_count": 16,
     "metadata": {},
     "output_type": "execute_result"
    }
   ],
   "source": [
    "missing = tiles.loc[~tiles['tile_num'].isin(resampled_tilenum)].s3_path.tolist()\n",
    "missing = [text.replace(\"s3:/\",\"/vsis3\") for text in missing]\n",
    "print(len(missing))\n",
    "missing[0]"
   ]
  },
  {
   "cell_type": "markdown",
   "id": "9269cc23",
   "metadata": {},
   "source": [
    "### Reduce res of individual tiles"
   ]
  },
  {
   "cell_type": "code",
   "execution_count": null,
   "id": "1b847884",
   "metadata": {},
   "outputs": [],
   "source": [
    "with Pool(processes=10) as pool:\n",
    "    pool.map(partial(generate_reduced_res, method='nearest', tr=4500, outdir=output_location), missing)\n",
    "#[generate_reduced_res(fix, 'average', tr=3000, outdir=output_location) for fix in missing]"
   ]
  },
  {
   "cell_type": "markdown",
   "id": "24358cb7",
   "metadata": {},
   "source": [
    "### Build a VRT of the reduced res individual tiles"
   ]
  },
  {
   "cell_type": "code",
   "execution_count": null,
   "id": "6f4b7131",
   "metadata": {},
   "outputs": [],
   "source": [
    "!time gdalbuildvrt -allow_projection_difference -te -5391478 1323304 5408522 10323304 $vrt_fn $output_location/*.tif"
   ]
  },
  {
   "cell_type": "markdown",
   "id": "5e6e7e3e",
   "metadata": {},
   "source": [
    "### Make a mosaic COG of the reduced res VRT for plotting, mapping, etc"
   ]
  },
  {
   "cell_type": "code",
   "execution_count": null,
   "id": "03cacd33",
   "metadata": {},
   "outputs": [],
   "source": [
    "%%time\n",
    "generate_reduced_res(vrt_fn, 'average', tr=4500)"
   ]
  },
  {
   "cell_type": "code",
   "execution_count": null,
   "id": "b3ef9a84",
   "metadata": {},
   "outputs": [],
   "source": [
    "vrt_fn"
   ]
  },
  {
   "cell_type": "code",
   "execution_count": null,
   "id": "30baf9fa",
   "metadata": {},
   "outputs": [],
   "source": []
  }
 ],
 "metadata": {
  "kernelspec": {
   "display_name": "Python [conda env:root] *",
   "language": "python",
   "name": "conda-root-py"
  },
  "language_info": {
   "codemirror_mode": {
    "name": "ipython",
    "version": 3
   },
   "file_extension": ".py",
   "mimetype": "text/x-python",
   "name": "python",
   "nbconvert_exporter": "python",
   "pygments_lexer": "ipython3",
   "version": "3.7.8"
  }
 },
 "nbformat": 4,
 "nbformat_minor": 5
}
