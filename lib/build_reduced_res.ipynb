{
 "cells": [
  {
   "cell_type": "markdown",
   "id": "376508ac",
   "metadata": {},
   "source": [
    "# Build a reduced resolution version of the Boreal Biomass COG mosaic\n",
    "this reduced res version can be used in ggplot to produce maps for pubs and presentations  \n",
    "reference:   \n",
    "https://gist.github.com/wildintellect/  \n",
    "https://gist.github.com/wildintellect/2efd429da476df46def6af2aa0d1c039  \n",
    "https://github.com/MAAP-Project/maap-documentation-examples/blob/feat/oviews/visualization/OverviewResampling.ipynb"
   ]
  },
  {
   "cell_type": "code",
   "execution_count": 1,
   "id": "a90468d4",
   "metadata": {},
   "outputs": [
    {
     "name": "stdout",
     "output_type": "stream",
     "text": [
      "Collecting package metadata (current_repodata.json): done\n",
      "Solving environment: failed with initial frozen solve. Retrying with flexible solve.\n",
      "Collecting package metadata (repodata.json): done\n",
      "Solving environment: failed with initial frozen solve. Retrying with flexible solve.\n",
      "\n",
      "PackagesNotFoundError: The following packages are not available from current channels:\n",
      "\n",
      "  - mamba\n",
      "\n",
      "Current channels:\n",
      "\n",
      "  - https://repo.anaconda.com/pkgs/main/linux-64\n",
      "  - https://repo.anaconda.com/pkgs/main/noarch\n",
      "  - https://repo.anaconda.com/pkgs/r/linux-64\n",
      "  - https://repo.anaconda.com/pkgs/r/noarch\n",
      "\n",
      "To search for alternate channels that may provide the conda package you're\n",
      "looking for, navigate to\n",
      "\n",
      "    https://anaconda.org\n",
      "\n",
      "and use the search bar at the top of the page.\n",
      "\n",
      "\n",
      "/bin/bash: mamba: command not found\n",
      "\n",
      "CommandNotFoundError: Your shell has not been properly configured to use 'conda activate'.\n",
      "To initialize your shell, run\n",
      "\n",
      "    $ conda init <SHELL_NAME>\n",
      "\n",
      "Currently supported shells are:\n",
      "  - bash\n",
      "  - fish\n",
      "  - tcsh\n",
      "  - xonsh\n",
      "  - zsh\n",
      "  - powershell\n",
      "\n",
      "See 'conda init --help' for more information and options.\n",
      "\n",
      "IMPORTANT: You may need to close and restart your shell after running 'conda init'.\n",
      "\n",
      "\n"
     ]
    }
   ],
   "source": [
    "!conda install mamba\n",
    "!mamba create -y -n gdal34 -c conda-forge 'gdal>=3.4.3' geopandas ipykernel\n",
    "!conda activate gdal34\n",
    "#After this runs switch the kernel of the notebook, may require stopping and closing the notebook"
   ]
  },
  {
   "cell_type": "code",
   "execution_count": 16,
   "id": "2a7032f2",
   "metadata": {},
   "outputs": [],
   "source": [
    "import geopandas as gpd\n",
    "import os\n",
    "import subprocess\n",
    "\n",
    "from multiprocessing import Pool\n",
    "from functools import partial\n",
    "\n",
    "os.environ['GDAL_DISABLE_READDIR_ON_OPEN'] = 'EMPTY_DIR'"
   ]
  },
  {
   "cell_type": "markdown",
   "id": "8e7b7a01",
   "metadata": {},
   "source": [
    "## Get the MosaicJson which has the s3 path to the COGs"
   ]
  },
  {
   "cell_type": "code",
   "execution_count": 17,
   "id": "40a61429",
   "metadata": {},
   "outputs": [
    {
     "data": {
      "text/html": [
       "<div>\n",
       "<style scoped>\n",
       "    .dataframe tbody tr th:only-of-type {\n",
       "        vertical-align: middle;\n",
       "    }\n",
       "\n",
       "    .dataframe tbody tr th {\n",
       "        vertical-align: top;\n",
       "    }\n",
       "\n",
       "    .dataframe thead th {\n",
       "        text-align: right;\n",
       "    }\n",
       "</style>\n",
       "<table border=\"1\" class=\"dataframe\">\n",
       "  <thead>\n",
       "    <tr style=\"text-align: right;\">\n",
       "      <th></th>\n",
       "      <th>tile_num</th>\n",
       "      <th>tile_version</th>\n",
       "      <th>tile_group</th>\n",
       "      <th>map_version</th>\n",
       "      <th>s3_path</th>\n",
       "      <th>local_path</th>\n",
       "      <th>geometry</th>\n",
       "    </tr>\n",
       "  </thead>\n",
       "  <tbody>\n",
       "    <tr>\n",
       "      <th>0</th>\n",
       "      <td>3407</td>\n",
       "      <td>version 1</td>\n",
       "      <td>eurasia east</td>\n",
       "      <td>None</td>\n",
       "      <td>s3://maap-ops-workspace/lduncanson/dps_output/...</td>\n",
       "      <td>/projects/my-private-bucket/dps_output/run_bor...</td>\n",
       "      <td>POLYGON ((116.49754 50.47596, 117.25220 51.127...</td>\n",
       "    </tr>\n",
       "    <tr>\n",
       "      <th>1</th>\n",
       "      <td>1590</td>\n",
       "      <td>version 1</td>\n",
       "      <td>eurasia central</td>\n",
       "      <td>None</td>\n",
       "      <td>s3://maap-ops-workspace/lduncanson/dps_output/...</td>\n",
       "      <td>/projects/my-private-bucket/dps_output/run_bor...</td>\n",
       "      <td>POLYGON ((86.41692 61.19673, 86.72497 61.97926...</td>\n",
       "    </tr>\n",
       "    <tr>\n",
       "      <th>2</th>\n",
       "      <td>2227</td>\n",
       "      <td>version 1</td>\n",
       "      <td>north america centra</td>\n",
       "      <td>None</td>\n",
       "      <td>s3://maap-ops-workspace/lduncanson/dps_output/...</td>\n",
       "      <td>/projects/my-private-bucket/dps_output/run_bor...</td>\n",
       "      <td>POLYGON ((-93.13096 46.08335, -92.82043 45.295...</td>\n",
       "    </tr>\n",
       "    <tr>\n",
       "      <th>3</th>\n",
       "      <td>1669</td>\n",
       "      <td>version 1</td>\n",
       "      <td>north america east</td>\n",
       "      <td>None</td>\n",
       "      <td>s3://maap-ops-workspace/lduncanson/dps_output/...</td>\n",
       "      <td>/projects/my-private-bucket/dps_output/run_bor...</td>\n",
       "      <td>POLYGON ((-84.51029 49.85542, -84.32755 49.053...</td>\n",
       "    </tr>\n",
       "    <tr>\n",
       "      <th>4</th>\n",
       "      <td>3633</td>\n",
       "      <td>version 1</td>\n",
       "      <td>eurasia east</td>\n",
       "      <td>None</td>\n",
       "      <td>s3://maap-ops-workspace/lduncanson/dps_output/...</td>\n",
       "      <td>/projects/my-private-bucket/dps_output/run_bor...</td>\n",
       "      <td>POLYGON ((176.12423 66.36034, 178.15684 66.394...</td>\n",
       "    </tr>\n",
       "  </tbody>\n",
       "</table>\n",
       "</div>"
      ],
      "text/plain": [
       "   tile_num tile_version            tile_group map_version  \\\n",
       "0      3407    version 1          eurasia east        None   \n",
       "1      1590    version 1       eurasia central        None   \n",
       "2      2227    version 1  north america centra        None   \n",
       "3      1669    version 1    north america east        None   \n",
       "4      3633    version 1          eurasia east        None   \n",
       "\n",
       "                                             s3_path  \\\n",
       "0  s3://maap-ops-workspace/lduncanson/dps_output/...   \n",
       "1  s3://maap-ops-workspace/lduncanson/dps_output/...   \n",
       "2  s3://maap-ops-workspace/lduncanson/dps_output/...   \n",
       "3  s3://maap-ops-workspace/lduncanson/dps_output/...   \n",
       "4  s3://maap-ops-workspace/lduncanson/dps_output/...   \n",
       "\n",
       "                                          local_path  \\\n",
       "0  /projects/my-private-bucket/dps_output/run_bor...   \n",
       "1  /projects/my-private-bucket/dps_output/run_bor...   \n",
       "2  /projects/my-private-bucket/dps_output/run_bor...   \n",
       "3  /projects/my-private-bucket/dps_output/run_bor...   \n",
       "4  /projects/my-private-bucket/dps_output/run_bor...   \n",
       "\n",
       "                                            geometry  \n",
       "0  POLYGON ((116.49754 50.47596, 117.25220 51.127...  \n",
       "1  POLYGON ((86.41692 61.19673, 86.72497 61.97926...  \n",
       "2  POLYGON ((-93.13096 46.08335, -92.82043 45.295...  \n",
       "3  POLYGON ((-84.51029 49.85542, -84.32755 49.053...  \n",
       "4  POLYGON ((176.12423 66.36034, 178.15684 66.394...  "
      ]
     },
     "execution_count": 17,
     "metadata": {},
     "output_type": "execute_result"
    }
   ],
   "source": [
    "# load up the tile_output_index\n",
    "# dump the s3 column to a txt file (try a small sample)\n",
    "# generate a VRT from txt file\n",
    "tile_index_json_fn = \"/projects/shared-buckets/nathanmthomas/DPS_tile_lists/07/AGB_tindex_master.json\"\n",
    "tile_index_json_fn = '/projects/shared-buckets/nathanmthomas/DPS_tile_lists/AGB/fall2022/map_boreal_2022_v3/11/AGB_tindex_master.json'\n",
    "tiles = gpd.read_file(tile_index_json_fn)\n",
    "tiles.head()"
   ]
  },
  {
   "cell_type": "markdown",
   "id": "7f856a2f",
   "metadata": {},
   "source": [
    "## Build the list of COGs needed for the VRT"
   ]
  },
  {
   "cell_type": "code",
   "execution_count": 18,
   "id": "5e69a73b",
   "metadata": {},
   "outputs": [],
   "source": [
    "outdir = os.path.dirname(tile_index_json_fn)\n",
    "vrt_list_fn = os.path.join(outdir, \"AGB_tindex.txt\")\n",
    "vrt_fn = os.path.join(outdir, \"AGB_tindex.vrt\")"
   ]
  },
  {
   "cell_type": "code",
   "execution_count": 11,
   "id": "626b6f52",
   "metadata": {},
   "outputs": [],
   "source": [
    "with open(vrt_list_fn, 'w') as f:\n",
    "    for text in tiles.s3_path.tolist():\n",
    "        f.write(text.replace(\"s3:/\",\"/vsis3\") + '\\n')     "
   ]
  },
  {
   "cell_type": "markdown",
   "id": "ee16069c",
   "metadata": {},
   "source": [
    "## Build the VRT mosaic needed"
   ]
  },
  {
   "cell_type": "code",
   "execution_count": 12,
   "id": "5fe4f769",
   "metadata": {},
   "outputs": [
    {
     "name": "stdout",
     "output_type": "stream",
     "text": [
      "0...10...20...30...40...50...60...70...80...90...100 - done.\n",
      "\n",
      "real\t8m22.283s\n",
      "user\t0m15.520s\n",
      "sys\t0m1.063s\n"
     ]
    }
   ],
   "source": [
    "#get the bbox as part of the gdalbuildvrt and define it, to save time calculating\n",
    "boreal_tiles = gpd.read_file('/projects/shared-buckets/nathanmthomas/boreal_tiles_v003.gpkg')\n",
    "boreal_tiles.crs\n",
    "tiles.to_crs(boreal_tiles.crs).total_bounds\n",
    "\n",
    "# time gdalbuildvrt -te -5391478 1323304 5408522 9243304 -input_file_list shared-buckets/alexdevseed/AGB_tindex.txt AGB_tindex.vrt\n",
    "!time gdalbuildvrt -allow_projection_difference -te -5391478 1323304 5408522 10323304 -input_file_list $vrt_list_fn $vrt_fn"
   ]
  },
  {
   "cell_type": "markdown",
   "id": "1b264697",
   "metadata": {},
   "source": [
    "### Build the function to handle the res reduction"
   ]
  },
  {
   "cell_type": "code",
   "execution_count": 35,
   "id": "f6421037",
   "metadata": {},
   "outputs": [],
   "source": [
    "def generate_reduced_res(in_vrt_fn, method, tr=900, outdir=None):\n",
    "    ''' \n",
    "    Build a COG that is a reduced resolution version of the original VRT with overview built with resampling method of choice\n",
    "    in_vrt_fn = input VRT filename\n",
    "    method = the resampling method\n",
    "    tr = target resolution in meters\n",
    "    return the path to the new reduced resolution COG\n",
    "    '''\n",
    "    #make sure the output folder exists\n",
    "    #os.makedirs(out_dir, exist_ok=True)\n",
    "    #writing directly to 'bucket' can be slow since it's using s3fuse /tmp is preferred.\n",
    "    #out_cog_fn = f'/projects/tmp/AGB_tindex_{method}_{str(tr)}m.tif'\n",
    "    #out_cog_fn = f'{os.path.splitext(in_vrt_fn)[0]}_{method}_{str(tr)}m.tif'\n",
    "    \n",
    "    extension = f'_{method}_{str(tr)}m.tif'\n",
    "    out_basename = os.path.splitext(os.path.basename(in_vrt_fn))[0] + extension\n",
    "    \n",
    "    if outdir is None:\n",
    "        out_cog_fn = f'{os.path.dirname(in_vrt_fn)}/{out_basename}'\n",
    "    else:\n",
    "        out_cog_fn = f'{outdir}/{out_basename}'\n",
    "    \n",
    "    process = subprocess.run(['gdal_translate', '-of', 'GTiff',\n",
    "                              '-tr', f'{str(tr)}', f'{str(tr)}',\n",
    "                              '-r', f'{method}',\n",
    "                              #'-co', f'OVERVIEW_RESAMPLING={method}',\n",
    "                              '-co', 'COMPRESS=Deflate',\n",
    "                              f'{in_vrt_fn}', f'{out_cog_fn}'\n",
    "                             ], \n",
    "                         stdout=subprocess.PIPE, \n",
    "                         universal_newlines=True)\n",
    "    #print(process)\n",
    "    #print(out_cog_fn)\n",
    "\n",
    "    return out_cog_fn"
   ]
  },
  {
   "cell_type": "code",
   "execution_count": 14,
   "id": "891da48f",
   "metadata": {},
   "outputs": [],
   "source": [
    "# time gdal_translate -of COG -tr 900 900 -co BIGTIFF=IF_NEEDED -co COMPRESS=DEFLATE -co PREDICTOR=2 GDAL_DISABLE_READDIR_ON_OPEN=EMPTY_DIR AGB_tindex.vrt icesat2_boreal_biomass_900m.tif\n",
    "#!time gdal_translate -of COG -tr 3600 3600 -co BIGTIFF=IF_NEEDED -co COMPRESS=DEFLATE -co PREDICTOR=2 -r {method} -co OVERVIEW_RESAMPLING={method} /projects/my-public-bucket/DPS_tile_lists/07/AGB_tindex.vrt /projects/tmp/AGB_tindex_avg_3600m.tif\n",
    "\n",
    "# This subetted window works takes 30 minutes\n",
    "#time gdal_translate -of COG -tr 900 900 -srcwin 0 0 60000 60000 -co BIGTIFF=IF_NEEDED -co COMPRESS=DEFLATE -co PREDICTOR=2 -r average -co OVERVIEW_RESAMPLING=average /projects/my-public-bucket/DPS_tile_lists/07/AGB_tindex.vrt /projects/tmp/AGB_tindex_avg_900m_sub.tif"
   ]
  },
  {
   "cell_type": "code",
   "execution_count": null,
   "id": "fc37f0b9",
   "metadata": {},
   "outputs": [],
   "source": [
    "#generate_reduced_res(vrt_fn, 'average', tr=3600)"
   ]
  },
  {
   "cell_type": "markdown",
   "id": "c477dc6e",
   "metadata": {},
   "source": [
    "## Current working solutions (Feb 2023)\n",
    "\n",
    "Loop over all the input tiles and reduce each one - in parrallel. This ensures that only 1 file needs to be read at a time and should be more memory efficient. The VRT of the reduced tiles would then be made and converted into a single GTiff or COG with no additional resampling required."
   ]
  },
  {
   "cell_type": "code",
   "execution_count": 23,
   "id": "fd4ab024",
   "metadata": {},
   "outputs": [
    {
     "data": {
      "text/plain": [
       "['/vsis3/maap-ops-workspace/lduncanson/dps_output/run_boreal_biomass_quick_v2_ubuntu/map_boreal_2022_v3/2022/11/21/19/49/35/452366/boreal_agb_202211211669060101_3407.tif',\n",
       " '/vsis3/maap-ops-workspace/lduncanson/dps_output/run_boreal_biomass_quick_v2_ubuntu/map_boreal_2022_v3/2022/11/21/19/09/56/603958/boreal_agb_202211211669057723_1590.tif',\n",
       " '/vsis3/maap-ops-workspace/lduncanson/dps_output/run_boreal_biomass_quick_v2_ubuntu/map_boreal_2022_v3/2022/11/21/18/46/19/085056/boreal_agb_202211211669056308_2227.tif',\n",
       " '/vsis3/maap-ops-workspace/lduncanson/dps_output/run_boreal_biomass_quick_v2_ubuntu/map_boreal_2022_v3/2022/11/21/18/33/22/074064/boreal_agb_202211211669055535_1669.tif',\n",
       " '/vsis3/maap-ops-workspace/lduncanson/dps_output/run_boreal_biomass_quick_v2_ubuntu/map_boreal_2022_v3/2022/11/21/18/24/14/398161/boreal_agb_202211211669054977_3633.tif',\n",
       " '/vsis3/maap-ops-workspace/lduncanson/dps_output/run_boreal_biomass_quick_v2_ubuntu/map_boreal_2022_v3/2022/11/21/18/19/40/772820/boreal_agb_202211211669054704_3623.tif',\n",
       " '/vsis3/maap-ops-workspace/lduncanson/dps_output/run_boreal_biomass_quick_v2_ubuntu/map_boreal_2022_v3/2022/11/21/18/14/49/412679/boreal_agb_202211211669054421_3127.tif',\n",
       " '/vsis3/maap-ops-workspace/lduncanson/dps_output/run_boreal_biomass_quick_v2_ubuntu/map_boreal_2022_v3/2022/11/21/17/55/38/045767/boreal_agb_202211211669053264_1539.tif',\n",
       " '/vsis3/maap-ops-workspace/lduncanson/dps_output/run_boreal_biomass_quick_v2_ubuntu/map_boreal_2022_v3/2022/11/21/17/39/57/994852/boreal_agb_202211211669052324_3255.tif',\n",
       " '/vsis3/maap-ops-workspace/lduncanson/dps_output/run_boreal_biomass_quick_v2_ubuntu/map_boreal_2022_v3/2022/11/21/17/34/20/877126/boreal_agb_202211211669052005_2705.tif',\n",
       " '/vsis3/maap-ops-workspace/lduncanson/dps_output/run_boreal_biomass_quick_v2_ubuntu/map_boreal_2022_v3/2022/11/21/17/07/41/927501/boreal_agb_202211211669050402_1167.tif',\n",
       " '/vsis3/maap-ops-workspace/lduncanson/dps_output/run_boreal_biomass_quick_v2_ubuntu/map_boreal_2022_v3/2022/11/21/17/05/16/807298/boreal_agb_202211211669050233_3639.tif',\n",
       " '/vsis3/maap-ops-workspace/lduncanson/dps_output/run_boreal_biomass_quick_v2_ubuntu/map_boreal_2022_v3/2022/11/21/16/40/03/524991/boreal_agb_202211211669048728_3179.tif']"
      ]
     },
     "execution_count": 23,
     "metadata": {},
     "output_type": "execute_result"
    }
   ],
   "source": [
    "vsi_list = [text.replace(\"s3:/\",\"/vsis3\") for text in tiles.s3_path.tolist()]\n",
    "vsi_list[0:13]"
   ]
  },
  {
   "cell_type": "code",
   "execution_count": 21,
   "id": "c8222dca",
   "metadata": {},
   "outputs": [],
   "source": [
    "#testing 1\n",
    "# there was a bug in the gdal43 env where AWS permissions failed, switched back to base\n",
    "#generate_reduced_res(vsi_list[2], 'average', tr=3000)"
   ]
  },
  {
   "cell_type": "code",
   "execution_count": null,
   "id": "742f1b5c",
   "metadata": {},
   "outputs": [],
   "source": [
    "# with Pool(processes=10) as pool:\n",
    "#     pool.map(partial(generate_reduced_res, method='average', tr=6000), vsi_list[13:])"
   ]
  },
  {
   "cell_type": "markdown",
   "id": "382ac293",
   "metadata": {},
   "source": [
    "#### Choose an output dir for the resampled tiles\n",
    "sometimes you cant write these next to their originals b/c they are in someone else's private bucket"
   ]
  },
  {
   "cell_type": "code",
   "execution_count": null,
   "id": "616cbea0",
   "metadata": {},
   "outputs": [],
   "source": [
    "output_location = os.path.dirname(tile_index_json_fn) + '/resample/'\n",
    "!mkdir -p $output_location"
   ]
  },
  {
   "cell_type": "markdown",
   "id": "27f2c49f",
   "metadata": {},
   "source": [
    "## Do individual tile resampling \n",
    "##### (Find the missing tiles and fix)\n",
    "\n",
    "1. Load up the list of files that were produced.\n",
    "1. Compare against list of inputs, make a list of missing\n",
    "1. Run the missing tiles through resampler."
   ]
  },
  {
   "cell_type": "code",
   "execution_count": 36,
   "id": "3dd2683a",
   "metadata": {},
   "outputs": [
    {
     "data": {
      "text/plain": [
       "0"
      ]
     },
     "execution_count": 36,
     "metadata": {},
     "output_type": "execute_result"
    }
   ],
   "source": [
    "resampled = os.listdir(output_location)\n",
    "\n",
    "resampled_tif = [file for file in resampled if file.endswith('.tif')]\n",
    "len(resampled_tif)"
   ]
  },
  {
   "cell_type": "code",
   "execution_count": 31,
   "id": "9ca441dc",
   "metadata": {},
   "outputs": [
    {
     "data": {
      "text/plain": [
       "[]"
      ]
     },
     "execution_count": 31,
     "metadata": {},
     "output_type": "execute_result"
    }
   ],
   "source": [
    "resampled_tilenum = [int(os.path.basename(file).split(\"_\")[3]) for file in resampled_tif]\n",
    "resampled_tilenum[10:20]"
   ]
  },
  {
   "cell_type": "code",
   "execution_count": 34,
   "id": "fd78b1e2",
   "metadata": {},
   "outputs": [
    {
     "name": "stdout",
     "output_type": "stream",
     "text": [
      "4714\n"
     ]
    },
    {
     "data": {
      "text/plain": [
       "'/vsis3/maap-ops-workspace/lduncanson/dps_output/run_boreal_biomass_quick_v2_ubuntu/map_boreal_2022_v3/2022/11/21/19/49/35/452366/boreal_agb_202211211669060101_3407.tif'"
      ]
     },
     "execution_count": 34,
     "metadata": {},
     "output_type": "execute_result"
    }
   ],
   "source": [
    "missing = tiles.loc[~tiles['tile_num'].isin(resampled_tilenum)].s3_path.tolist()\n",
    "missing = [text.replace(\"s3:/\",\"/vsis3\") for text in missing]\n",
    "print(len(missing))\n",
    "missing[0]"
   ]
  },
  {
   "cell_type": "code",
   "execution_count": 39,
   "id": "c2622fc9",
   "metadata": {},
   "outputs": [],
   "source": [
    "with Pool(processes=10) as pool:\n",
    "    pool.map(partial(generate_reduced_res, method='average', tr=3000, outdir=output_location), missing)\n",
    "#[generate_reduced_res(fix, 'average', tr=3000, outdir=output_location) for fix in missing]"
   ]
  },
  {
   "cell_type": "markdown",
   "id": "1114b2b4",
   "metadata": {},
   "source": [
    "### Build a VRT of the coarsened individual tiles"
   ]
  },
  {
   "cell_type": "code",
   "execution_count": 41,
   "id": "31e4034c",
   "metadata": {},
   "outputs": [
    {
     "name": "stdout",
     "output_type": "stream",
     "text": [
      "0...10...20...30...40...50...60...70...80...90...100 - done.\n",
      "\n",
      "real\t1m17.469s\n",
      "user\t0m10.405s\n",
      "sys\t0m0.727s\n"
     ]
    }
   ],
   "source": [
    "!time gdalbuildvrt -allow_projection_difference -te -5391478 1323304 5408522 10323304 $vrt_fn $output_location/*.tif"
   ]
  },
  {
   "cell_type": "markdown",
   "id": "4ace6ee6",
   "metadata": {},
   "source": [
    "### Make a COG of the coarsened VRT for plotting, mapping, etc"
   ]
  },
  {
   "cell_type": "code",
   "execution_count": 42,
   "id": "eb2e1698",
   "metadata": {},
   "outputs": [
    {
     "name": "stdout",
     "output_type": "stream",
     "text": [
      "CPU times: user 2.19 ms, sys: 10 ms, total: 12.2 ms\n",
      "Wall time: 1min 47s\n"
     ]
    },
    {
     "data": {
      "text/plain": [
       "'/projects/shared-buckets/nathanmthomas/DPS_tile_lists/AGB/fall2022/map_boreal_2022_v3/11/AGB_tindex_average_3000m.tif'"
      ]
     },
     "execution_count": 42,
     "metadata": {},
     "output_type": "execute_result"
    }
   ],
   "source": [
    "%%time\n",
    "generate_reduced_res(vrt_fn, 'average', tr=3000)"
   ]
  },
  {
   "cell_type": "code",
   "execution_count": null,
   "id": "f956bd41",
   "metadata": {},
   "outputs": [],
   "source": []
  }
 ],
 "metadata": {
  "kernelspec": {
   "display_name": "Python [conda env:root] *",
   "language": "python",
   "name": "conda-root-py"
  },
  "language_info": {
   "codemirror_mode": {
    "name": "ipython",
    "version": 3
   },
   "file_extension": ".py",
   "mimetype": "text/x-python",
   "name": "python",
   "nbconvert_exporter": "python",
   "pygments_lexer": "ipython3",
   "version": "3.7.8"
  }
 },
 "nbformat": 4,
 "nbformat_minor": 5
}
