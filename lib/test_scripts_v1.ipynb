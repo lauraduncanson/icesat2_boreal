{
 "cells": [
  {
   "cell_type": "markdown",
   "id": "51fc6b35",
   "metadata": {},
   "source": [
    "# Test scripts on command line\n",
    "Use this notebook as a test space"
   ]
  },
  {
   "cell_type": "code",
   "execution_count": 1,
   "id": "debc99b8",
   "metadata": {},
   "outputs": [
    {
     "name": "stdout",
     "output_type": "stream",
     "text": [
      "Requirement already satisfied: h5py==3.1.0 in /projects/.local/lib/python3.7/site-packages (from -r /projects/Developer/icesat2_boreal/dps/requirements_main.txt (line 3)) (3.1.0)\n",
      "Requirement already satisfied: pandas==1.2.2 in /projects/.local/lib/python3.7/site-packages (from -r /projects/Developer/icesat2_boreal/dps/requirements_main.txt (line 4)) (1.2.2)\n",
      "Requirement already satisfied: pygeos==0.12.0 in /projects/.local/lib/python3.7/site-packages (from -r /projects/Developer/icesat2_boreal/dps/requirements_main.txt (line 7)) (0.12.0)\n",
      "Requirement already satisfied: rtree==0.9.7 in /projects/.local/lib/python3.7/site-packages (from -r /projects/Developer/icesat2_boreal/dps/requirements_main.txt (line 8)) (0.9.7)\n",
      "Requirement already satisfied: numpy==1.21.0 in /projects/.local/lib/python3.7/site-packages (from -r /projects/Developer/icesat2_boreal/dps/requirements_main.txt (line 9)) (1.21.0)\n",
      "Requirement already satisfied: geopandas==0.9.0 in /projects/.local/lib/python3.7/site-packages (from -r /projects/Developer/icesat2_boreal/dps/requirements_main.txt (line 12)) (0.9.0)\n",
      "Requirement already satisfied: rasterio==1.2.6 in /projects/.local/lib/python3.7/site-packages (from -r /projects/Developer/icesat2_boreal/dps/requirements_main.txt (line 13)) (1.2.6)\n",
      "Requirement already satisfied: importlib_resources in /opt/conda/lib/python3.7/site-packages (from -r /projects/Developer/icesat2_boreal/dps/requirements_main.txt (line 14)) (5.10.0)\n",
      "Requirement already satisfied: contextily in /projects/.local/lib/python3.7/site-packages (from -r /projects/Developer/icesat2_boreal/dps/requirements_main.txt (line 15)) (1.2.0)\n",
      "Requirement already satisfied: fsspec in /opt/conda/lib/python3.7/site-packages (from -r /projects/Developer/icesat2_boreal/dps/requirements_main.txt (line 16)) (2022.11.0)\n",
      "Collecting s3fs==0.3.4\n",
      "  Using cached s3fs-0.3.4-py3-none-any.whl (18 kB)\n",
      "Requirement already satisfied: rio-cogeo==2.3.1 in /projects/.local/lib/python3.7/site-packages (from -r /projects/Developer/icesat2_boreal/dps/requirements_main.txt (line 22)) (2.3.1)\n",
      "Requirement already satisfied: rio-tiler==2.1.4 in /opt/conda/lib/python3.7/site-packages (from -r /projects/Developer/icesat2_boreal/dps/requirements_main.txt (line 23)) (2.1.4)\n",
      "Requirement already satisfied: morecantile==2.1.4 in /projects/.local/lib/python3.7/site-packages (from -r /projects/Developer/icesat2_boreal/dps/requirements_main.txt (line 25)) (2.1.4)\n",
      "Requirement already satisfied: pystac-client in /projects/.local/lib/python3.7/site-packages (from -r /projects/Developer/icesat2_boreal/dps/requirements_main.txt (line 26)) (0.5.1)\n",
      "Requirement already satisfied: cachetools in /opt/conda/lib/python3.7/site-packages (from -r /projects/Developer/icesat2_boreal/dps/requirements_main.txt (line 48)) (5.2.0)\n",
      "Requirement already satisfied: cached-property in /projects/.local/lib/python3.7/site-packages (from h5py==3.1.0->-r /projects/Developer/icesat2_boreal/dps/requirements_main.txt (line 3)) (1.5.2)\n",
      "Requirement already satisfied: pytz>=2017.3 in /opt/conda/lib/python3.7/site-packages (from pandas==1.2.2->-r /projects/Developer/icesat2_boreal/dps/requirements_main.txt (line 4)) (2021.1)\n",
      "Requirement already satisfied: python-dateutil>=2.7.3 in /opt/conda/lib/python3.7/site-packages (from pandas==1.2.2->-r /projects/Developer/icesat2_boreal/dps/requirements_main.txt (line 4)) (2.8.2)\n",
      "Requirement already satisfied: pyproj>=2.2.0 in /opt/conda/lib/python3.7/site-packages (from geopandas==0.9.0->-r /projects/Developer/icesat2_boreal/dps/requirements_main.txt (line 12)) (2.6.1.post1)\n",
      "Requirement already satisfied: shapely>=1.6 in /projects/.local/lib/python3.7/site-packages (from geopandas==0.9.0->-r /projects/Developer/icesat2_boreal/dps/requirements_main.txt (line 12)) (1.7.1)\n",
      "Requirement already satisfied: fiona>=1.8 in /projects/.local/lib/python3.7/site-packages (from geopandas==0.9.0->-r /projects/Developer/icesat2_boreal/dps/requirements_main.txt (line 12)) (1.8.20)\n",
      "Requirement already satisfied: attrs in /opt/conda/lib/python3.7/site-packages (from rasterio==1.2.6->-r /projects/Developer/icesat2_boreal/dps/requirements_main.txt (line 13)) (20.2.0)\n",
      "Requirement already satisfied: click-plugins in /opt/conda/lib/python3.7/site-packages (from rasterio==1.2.6->-r /projects/Developer/icesat2_boreal/dps/requirements_main.txt (line 13)) (1.1.1)\n",
      "Requirement already satisfied: affine in /opt/conda/lib/python3.7/site-packages (from rasterio==1.2.6->-r /projects/Developer/icesat2_boreal/dps/requirements_main.txt (line 13)) (2.3.0)\n",
      "Requirement already satisfied: setuptools in /opt/conda/lib/python3.7/site-packages (from rasterio==1.2.6->-r /projects/Developer/icesat2_boreal/dps/requirements_main.txt (line 13)) (49.6.0.post20201009)\n",
      "Requirement already satisfied: certifi in /opt/conda/lib/python3.7/site-packages (from rasterio==1.2.6->-r /projects/Developer/icesat2_boreal/dps/requirements_main.txt (line 13)) (2021.5.30)\n",
      "Requirement already satisfied: click>=4.0 in /opt/conda/lib/python3.7/site-packages (from rasterio==1.2.6->-r /projects/Developer/icesat2_boreal/dps/requirements_main.txt (line 13)) (7.1.2)\n",
      "Requirement already satisfied: cligj>=0.5 in /opt/conda/lib/python3.7/site-packages (from rasterio==1.2.6->-r /projects/Developer/icesat2_boreal/dps/requirements_main.txt (line 13)) (0.7.0)\n",
      "Requirement already satisfied: snuggs>=1.4.1 in /opt/conda/lib/python3.7/site-packages (from rasterio==1.2.6->-r /projects/Developer/icesat2_boreal/dps/requirements_main.txt (line 13)) (1.4.7)\n",
      "Requirement already satisfied: botocore>=1.12.91 in /opt/conda/lib/python3.7/site-packages (from s3fs==0.3.4->-r /projects/Developer/icesat2_boreal/dps/requirements_main.txt (line 17)) (1.27.59)\n",
      "Requirement already satisfied: boto3>=1.9.91 in /projects/.local/lib/python3.7/site-packages (from s3fs==0.3.4->-r /projects/Developer/icesat2_boreal/dps/requirements_main.txt (line 17)) (1.24.59)\n",
      "Requirement already satisfied: pydantic in /projects/.local/lib/python3.7/site-packages (from rio-cogeo==2.3.1->-r /projects/Developer/icesat2_boreal/dps/requirements_main.txt (line 22)) (1.8.2)\n",
      "Requirement already satisfied: numexpr in /projects/.local/lib/python3.7/site-packages (from rio-tiler==2.1.4->-r /projects/Developer/icesat2_boreal/dps/requirements_main.txt (line 23)) (2.7.3)\n",
      "Requirement already satisfied: requests in /projects/.local/lib/python3.7/site-packages (from rio-tiler==2.1.4->-r /projects/Developer/icesat2_boreal/dps/requirements_main.txt (line 23)) (2.27.1)\n",
      "Requirement already satisfied: rio-color in /projects/.local/lib/python3.7/site-packages (from rio-tiler==2.1.4->-r /projects/Developer/icesat2_boreal/dps/requirements_main.txt (line 23)) (1.0.3)\n",
      "Requirement already satisfied: pystac>=0.5.3 in /projects/.local/lib/python3.7/site-packages (from rio-tiler==2.1.4->-r /projects/Developer/icesat2_boreal/dps/requirements_main.txt (line 23)) (1.5.0)\n",
      "Requirement already satisfied: zipp>=3.1.0 in /opt/conda/lib/python3.7/site-packages (from importlib_resources->-r /projects/Developer/icesat2_boreal/dps/requirements_main.txt (line 14)) (3.6.0)\n",
      "Requirement already satisfied: xyzservices in /projects/.local/lib/python3.7/site-packages (from contextily->-r /projects/Developer/icesat2_boreal/dps/requirements_main.txt (line 15)) (2022.3.0)\n",
      "Requirement already satisfied: pillow in /projects/.local/lib/python3.7/site-packages (from contextily->-r /projects/Developer/icesat2_boreal/dps/requirements_main.txt (line 15)) (8.3.2)\n",
      "Requirement already satisfied: matplotlib in /opt/conda/lib/python3.7/site-packages (from contextily->-r /projects/Developer/icesat2_boreal/dps/requirements_main.txt (line 15)) (3.2.2)\n",
      "Requirement already satisfied: geopy in /projects/.local/lib/python3.7/site-packages (from contextily->-r /projects/Developer/icesat2_boreal/dps/requirements_main.txt (line 15)) (2.2.0)\n",
      "Requirement already satisfied: mercantile in /projects/.local/lib/python3.7/site-packages (from contextily->-r /projects/Developer/icesat2_boreal/dps/requirements_main.txt (line 15)) (1.2.1)\n",
      "Requirement already satisfied: joblib in /projects/.local/lib/python3.7/site-packages (from contextily->-r /projects/Developer/icesat2_boreal/dps/requirements_main.txt (line 15)) (1.0.1)\n",
      "Requirement already satisfied: jmespath<2.0.0,>=0.7.1 in /opt/conda/lib/python3.7/site-packages/jmespath-0.10.0-py3.7.egg (from boto3>=1.9.91->s3fs==0.3.4->-r /projects/Developer/icesat2_boreal/dps/requirements_main.txt (line 17)) (0.10.0)\n",
      "Requirement already satisfied: s3transfer<0.7.0,>=0.6.0 in /projects/.local/lib/python3.7/site-packages (from boto3>=1.9.91->s3fs==0.3.4->-r /projects/Developer/icesat2_boreal/dps/requirements_main.txt (line 17)) (0.6.0)\n",
      "Requirement already satisfied: urllib3<1.27,>=1.25.4 in /opt/conda/lib/python3.7/site-packages (from botocore>=1.12.91->s3fs==0.3.4->-r /projects/Developer/icesat2_boreal/dps/requirements_main.txt (line 17)) (1.25.11)\n",
      "Requirement already satisfied: six>=1.7 in /opt/conda/lib/python3.7/site-packages (from fiona>=1.8->geopandas==0.9.0->-r /projects/Developer/icesat2_boreal/dps/requirements_main.txt (line 12)) (1.15.0)\n",
      "Requirement already satisfied: munch in /projects/.local/lib/python3.7/site-packages (from fiona>=1.8->geopandas==0.9.0->-r /projects/Developer/icesat2_boreal/dps/requirements_main.txt (line 12)) (2.5.0)\n",
      "Requirement already satisfied: typing-extensions>=3.7 in /opt/conda/lib/python3.7/site-packages (from pystac>=0.5.3->rio-tiler==2.1.4->-r /projects/Developer/icesat2_boreal/dps/requirements_main.txt (line 23)) (3.10.0.2)\n",
      "Requirement already satisfied: idna<4,>=2.5 in /opt/conda/lib/python3.7/site-packages (from requests->rio-tiler==2.1.4->-r /projects/Developer/icesat2_boreal/dps/requirements_main.txt (line 23)) (2.10)\n",
      "Requirement already satisfied: charset-normalizer~=2.0.0 in /projects/.local/lib/python3.7/site-packages (from requests->rio-tiler==2.1.4->-r /projects/Developer/icesat2_boreal/dps/requirements_main.txt (line 23)) (2.0.12)\n",
      "Requirement already satisfied: pyparsing>=2.1.6 in /opt/conda/lib/python3.7/site-packages (from snuggs>=1.4.1->rasterio==1.2.6->-r /projects/Developer/icesat2_boreal/dps/requirements_main.txt (line 13)) (2.4.7)\n",
      "Requirement already satisfied: geographiclib<2,>=1.49 in /projects/.local/lib/python3.7/site-packages (from geopy->contextily->-r /projects/Developer/icesat2_boreal/dps/requirements_main.txt (line 15)) (1.52)\n",
      "Requirement already satisfied: kiwisolver>=1.0.1 in /opt/conda/lib/python3.7/site-packages (from matplotlib->contextily->-r /projects/Developer/icesat2_boreal/dps/requirements_main.txt (line 15)) (1.3.1)\n",
      "Requirement already satisfied: cycler>=0.10 in /opt/conda/lib/python3.7/site-packages (from matplotlib->contextily->-r /projects/Developer/icesat2_boreal/dps/requirements_main.txt (line 15)) (0.10.0)\n",
      "Requirement already satisfied: rio-mucho in /projects/.local/lib/python3.7/site-packages (from rio-color->rio-tiler==2.1.4->-r /projects/Developer/icesat2_boreal/dps/requirements_main.txt (line 23)) (1.0.0)\n",
      "Installing collected packages: s3fs\n",
      "  Attempting uninstall: s3fs\n",
      "    Found existing installation: s3fs 2022.11.0\n",
      "    Uninstalling s3fs-2022.11.0:\n",
      "      Successfully uninstalled s3fs-2022.11.0\n",
      "Successfully installed s3fs-0.3.4\n",
      "\u001b[33mWARNING: Running pip as the 'root' user can result in broken permissions and conflicting behaviour with the system package manager. It is recommended to use a virtual environment instead: https://pip.pypa.io/warnings/venv\u001b[0m\u001b[33m\n",
      "\u001b[0m\u001b[33mWARNING: You are using pip version 22.0.3; however, version 22.3.1 is available.\n",
      "You should consider upgrading via the '/opt/conda/bin/python3.7 -m pip install --upgrade pip' command.\u001b[0m\u001b[33m\n",
      "\u001b[0mRequirement already satisfied: pystac_client in /projects/.local/lib/python3.7/site-packages (0.5.1)\n",
      "Requirement already satisfied: requests>=2.27.1 in /projects/.local/lib/python3.7/site-packages (from pystac_client) (2.27.1)\n",
      "Requirement already satisfied: pystac>=1.4.0 in /projects/.local/lib/python3.7/site-packages (from pystac_client) (1.5.0)\n",
      "Requirement already satisfied: python-dateutil>=2.7.0 in /opt/conda/lib/python3.7/site-packages (from pystac_client) (2.8.2)\n",
      "Requirement already satisfied: typing-extensions>=3.7 in /opt/conda/lib/python3.7/site-packages (from pystac>=1.4.0->pystac_client) (3.10.0.2)\n",
      "Requirement already satisfied: six>=1.5 in /opt/conda/lib/python3.7/site-packages (from python-dateutil>=2.7.0->pystac_client) (1.15.0)\n",
      "Requirement already satisfied: charset-normalizer~=2.0.0 in /projects/.local/lib/python3.7/site-packages (from requests>=2.27.1->pystac_client) (2.0.12)\n",
      "Requirement already satisfied: certifi>=2017.4.17 in /opt/conda/lib/python3.7/site-packages (from requests>=2.27.1->pystac_client) (2021.5.30)\n",
      "Requirement already satisfied: idna<4,>=2.5 in /opt/conda/lib/python3.7/site-packages (from requests>=2.27.1->pystac_client) (2.10)\n",
      "Requirement already satisfied: urllib3<1.27,>=1.21.1 in /opt/conda/lib/python3.7/site-packages (from requests>=2.27.1->pystac_client) (1.25.11)\n",
      "\u001b[33mWARNING: Running pip as the 'root' user can result in broken permissions and conflicting behaviour with the system package manager. It is recommended to use a virtual environment instead: https://pip.pypa.io/warnings/venv\u001b[0m\u001b[33m\n",
      "\u001b[0m\u001b[33mWARNING: You are using pip version 22.0.3; however, version 22.3.1 is available.\n",
      "You should consider upgrading via the '/opt/conda/bin/python3.7 -m pip install --upgrade pip' command.\u001b[0m\u001b[33m\n",
      "\u001b[0m"
     ]
    },
    {
     "name": "stderr",
     "output_type": "stream",
     "text": [
      "/projects/.local/lib/python3.7/site-packages/geopandas/_compat.py:110: UserWarning: The Shapely GEOS version (3.8.0-CAPI-1.13.1 ) is incompatible with the GEOS version PyGEOS was compiled with (3.10.1-CAPI-1.16.0). Conversions between both will be slow.\n",
      "  shapely_geos_version, geos_capi_version_string\n"
     ]
    }
   ],
   "source": [
    "!pip install -U -r /projects/Developer/icesat2_boreal/dps/requirements_main.txt\n",
    "!pip install pystac_client\n",
    "from platform import python_version\n",
    "python_version()\n",
    "import sys\n",
    "import os\n",
    "sys.path.append('/projects/icesat2_boreal/lib')\n",
    "sys.path.append('/projects/Developer/icesat2_boreal/lib')\n",
    "import ExtractUtils\n",
    "from pyproj import CRS, Transformer\n",
    "import geopandas as gpd\n",
    "import maplib_folium"
   ]
  },
  {
   "cell_type": "code",
   "execution_count": null,
   "id": "0025bf59",
   "metadata": {},
   "outputs": [],
   "source": [
    "%%time\n",
    "!python /projects/Developer/icesat2_boreal/lib/build_tindex_master.py -t ATL08_filt -y 2022 -m_list 04 --maap_version tile_atl08\n",
    "#!python /projects/icesat2_boreal/lib/build_tindex_master.py -t ATL08_filt -y 2022 -m run_LC_height_thresholds -o /projects/my-private-bucket/"
   ]
  },
  {
   "cell_type": "markdown",
   "id": "dbe27038",
   "metadata": {},
   "source": [
    "### Read in some tiles layers"
   ]
  },
  {
   "cell_type": "code",
   "execution_count": 21,
   "id": "d28b1677",
   "metadata": {},
   "outputs": [
    {
     "data": {
      "text/plain": [
       "<matplotlib.axes._subplots.AxesSubplot at 0x7f7c454d3550>"
      ]
     },
     "execution_count": 21,
     "metadata": {},
     "output_type": "execute_result"
    },
    {
     "data": {
      "image/png": "[encoded data removed]",
      "text/plain": [
       "<Figure size 432x288 with 1 Axes>"
      ]
     },
     "metadata": {
      "needs_background": "light"
     },
     "output_type": "display_data"
    }
   ],
   "source": [
    "dem_tiles_index_path = '/projects/shared-buckets/nathanmthomas/dem30m_tiles.geojson'\n",
    "dem_tiles_index = gpd.read_file(dem_tiles_index_path)\n",
    "dem_tiles_index['tile_num'] = dem_tiles_index.index\n",
    "\n",
    "boreal_tile_index_path = '/projects/my-public-bucket/boreal_tiles_v003.gpkg'\n",
    "boreal_tile_index = gpd.read_file(boreal_tile_index_path)\n",
    "boreal_tile_index.plot(column='tile_version')\n",
    "\n",
    "#boreal_tile_index[boreal_tile_index.tile_version=='version 2']"
   ]
  },
  {
   "cell_type": "code",
   "execution_count": 22,
   "id": "269275e1",
   "metadata": {},
   "outputs": [],
   "source": [
    "if False:\n",
    "    c = gpd.read_file('/projects/my-public-bucket/analyze_agb/footprints_v100_2020_v100_2020_map.gpkg')\n",
    "    c.path.to_list()[0]"
   ]
  },
  {
   "cell_type": "code",
   "execution_count": 23,
   "id": "bf98476b",
   "metadata": {},
   "outputs": [],
   "source": [
    "if False:\n",
    "    # One time, make a column with the s3 path\n",
    "    c['s3_path'] = c['path'].str.replace('https://esa-worldcover.s3.eu-central-1.amazonaws.com', 's3://esa-worldcover') + '/' + c['file']\n",
    "\n",
    "    c.s3_path.to_list()[0]\n",
    "    c.to_file('/projects/my-public-bucket/analyze_agb/footprints_v100_2020_v100_2020_map-s3.gpkg', driver='GPKG', overwrite=True)"
   ]
  },
  {
   "cell_type": "markdown",
   "id": "62105dc6",
   "metadata": {},
   "source": [
    "#### Set up vars to pass to each script"
   ]
  },
  {
   "cell_type": "code",
   "execution_count": 24,
   "id": "70fc7d4a",
   "metadata": {},
   "outputs": [],
   "source": [
    "#TILE_NUM = 12967\n",
    "#INDEX_FN = '/projects/shared-buckets/lduncanson/dem30m_tiles_v2.geojson'#\n",
    "#INDEX_LYR = 'dem30m_tiles_v2'\n",
    "\n",
    "ID_COL_NAME = 'tile_num'\n",
    "TILE_NUM = 1580 #, 3300, 3679, 3864 #27367 #1933 #3585 #1927 #131 #3417# 4253\n",
    "INDEX_FN = '/projects/shared-buckets/nathanmthomas/boreal_tiles_v003.gpkg'\n",
    "INDEX_LYR = 'boreal_tiles_v003'\n",
    "\n",
    "if False:\n",
    "    HYBAS_FILE = 'hybas_lake_as_lev07_v1c'\n",
    "    ID_COL_NAME = 'HYBAS_ID'\n",
    "    TILE_NUM = 4070084980 #4070000010 #3417# 4253\n",
    "    INDEX_FN = f'/projects/my-public-bucket/analyze_agb/hydrobasins/{HYBAS_FILE}.shp'\n",
    "    ADD_STR = '-reprj'\n",
    "    INDEX_REPRJ_FN = INDEX_FN.replace('.shp', ADD_STR+'.gpkg')\n",
    "    \n",
    "    # Reproject hydrobasin to equal area (boreal_tiles)\n",
    "    gpd.read_file(INDEX_FN).to_crs(boreal_tile_index.crs).to_file(INDEX_REPRJ_FN, driver='GPKG')\n",
    "    \n",
    "    INDEX_LYR = HYBAS_FILE + ADD_STR\n",
    "    z = gpd.read_file(INDEX_FN)\n",
    "    \n",
    "if False:\n",
    "    z[z[ID_COL_NAME]==TILE_NUM].plot()\n",
    "\n",
    "    z = gpd.read_file(INDEX_REPRJ_FN)\n",
    "    z[z[ID_COL_NAME]==TILE_NUM].plot()"
   ]
  },
  {
   "cell_type": "code",
   "execution_count": 6,
   "id": "52689e79",
   "metadata": {},
   "outputs": [],
   "source": [
    "if False:\n",
    "    c = gpd.read_file('/projects/my-public-bucket/analyze_agb/footprints_v100_2020_v100_2020_map-s3.gpkg')\n",
    "    c.head()"
   ]
  },
  {
   "cell_type": "markdown",
   "id": "814d0224",
   "metadata": {},
   "source": [
    "## Run build_stack.py with hydrobasins\n",
    "* reprojected to equal area using boreal_tiles_index\n",
    "* s0 output has same res and crs as output AGB vrt"
   ]
  },
  {
   "cell_type": "code",
   "execution_count": 245,
   "id": "a7222e6d",
   "metadata": {},
   "outputs": [],
   "source": [
    "RASTER_NAME = 'esa_worldcover_v100_2020'\n",
    "COVAR_TILE_FN = '/projects/my-public-bucket/analyze_agb/footprints_v100_2020_v100_2020_map-s3.gpkg'\n",
    "IN_COVAR_S3_COL = 's3_path'\n",
    "NODATA_VAL = 0\n",
    "\n",
    "# This needs to be correctlyy in 4326 - \n",
    "RASTER_NAME = 'biomass_prelim'\n",
    "COVAR_TILE_FN = '/projects/shared-buckets/lduncanson/DPS_tile_lists/AGB_tindex_master.json'\n",
    "IN_COVAR_S3_COL = 's3'\n",
    "NODATA_VAL = -9999"
   ]
  },
  {
   "cell_type": "code",
   "execution_count": 246,
   "id": "f7ced752",
   "metadata": {},
   "outputs": [
    {
     "name": "stdout",
     "output_type": "stream",
     "text": [
      "Reset projection and reproject...\n",
      "/projects/my-public-bucket/analyze_agb/AGB_tindex_master.json\n"
     ]
    },
    {
     "data": {
      "text/plain": [
       "<matplotlib.axes._subplots.AxesSubplot at 0x7fb03db00b50>"
      ]
     },
     "execution_count": 246,
     "metadata": {},
     "output_type": "execute_result"
    },
    {
     "data": {
      "image/png": "[encoded data removed]",
      "text/plain": [
       "<Figure size 432x288 with 1 Axes>"
      ]
     },
     "metadata": {
      "needs_background": "light"
     },
     "output_type": "display_data"
    }
   ],
   "source": [
    "x = gpd.read_file(COVAR_TILE_FN)\n",
    "\n",
    "if RASTER_NAME == 'biomass_prelim':\n",
    "\n",
    "    print('Reset projection and reproject...')\n",
    "    x = x.set_crs(boreal_tile_index.crs, allow_override=True, inplace=True).to_crs(4326)\n",
    "\n",
    "    # Write a new JSON that should have the prj set correctly in 4326\n",
    "    COVAR_TILE_FN = os.path.join('/projects/my-public-bucket/analyze_agb' , os.path.split(COVAR_TILE_FN)[1])\n",
    "    print(COVAR_TILE_FN)\n",
    "    x.to_file(COVAR_TILE_FN, driver='GeoJSON', overwrite=True)\n",
    "\n",
    "# Verify 4326\n",
    "ax = x.plot()\n",
    "z[z[ID_COL_NAME]==TILE_NUM].to_crs(4326).plot(color='red', ax=ax)\n"
   ]
  },
  {
   "cell_type": "code",
   "execution_count": 247,
   "id": "a693fcf9",
   "metadata": {},
   "outputs": [
    {
     "name": "stdout",
     "output_type": "stream",
     "text": [
      "--in_tile_fn /projects/my-public-bucket/analyze_agb/hydrobasins/hybas_lake_as_lev07_v1c-reprj.gpkg --in_tile_id_col HYBAS_ID --in_tile_num 4070084980 --tile_buffer_m 0 --in_tile_layer hybas_lake_as_lev07_v1c-reprj -o /projects/test_data/ --topo_off --covar_src_name biomass_prelim --covar_tile_fn /projects/my-public-bucket/analyze_agb/AGB_tindex_master.json --in_covar_s3_col s3 --input_nodata_value -9999 --clip\n",
      "/opt/conda/lib/python3.7/site-packages/geopandas/_compat.py:110: UserWarning: The Shapely GEOS version (3.8.0-CAPI-1.13.1 ) is incompatible with the GEOS version PyGEOS was compiled with (3.10.1-CAPI-1.16.0). Conversions between both will be slow.\n",
      "  shapely_geos_version, geos_capi_version_string\n",
      "The covariate's filename(s) intersecting the 0 m bbox for tile id 4070084980:\n",
      " s3://maap-ops-workspace/lduncanson/dps_output/run_boreal_biomass_ubuntu/master/2021/10/16/05/28/01/047798/boreal_agb_20211016_3975_cog.tif\n",
      "s3://maap-ops-workspace/lduncanson/dps_output/run_boreal_biomass_ubuntu/master/2021/10/16/07/15/09/994615/boreal_agb_20211016_3974_cog.tif\n",
      "s3://maap-ops-workspace/lduncanson/dps_output/run_boreal_biomass_ubuntu/master/2021/10/16/07/29/07/212954/boreal_agb_20211016_3887_cog.tif\n",
      "bbox: [-2710952.8814417096, 2500376.0104843467, -2653028.1065694047, 2614790.519245169]\n",
      "Writing stack as cloud-optimized geotiff: /projects/tmp/biomass_prelim_4070084980_cog.tif\n",
      "Clipping to feature polygon...\n",
      "Orig stack shape:\t\t (4, 3813, 1930)\n",
      "Output resolution:\t\t (30, 30)\n",
      "Writing img to memory...\n",
      "build_stack.py:143: RasterioDeprecationWarning: Source dataset should be opened in read-only mode. Use of datasets opened in modes other than 'r' will be disallowed in a future version.\n",
      "  write_cog(mosaic, cog_fn, tile_parts['tile_crs'], out_trans, bandnames_list, out_crs=tile_parts['tile_crs'], resolution=(res, res), clip_geom=clip_geom, clip_crs=clip_crs, input_nodata_value=args.input_nodata_value)\n",
      "{'driver': 'VRT', 'dtype': 'float64', 'nodata': -9999, 'width': 1930, 'height': 3813, 'count': 4, 'crs': CRS.from_wkt('PROJCS[\"unnamed\",GEOGCS[\"GRS 1980(IUGG, 1980)\",DATUM[\"unknown\",SPHEROID[\"GRS80\",6378137,298.257222101],TOWGS84[0,0,0,0,0,0,0]],PRIMEM[\"Greenwich\",0],UNIT[\"degree\",0.0174532925199433]],PROJECTION[\"Albers_Conic_Equal_Area\"],PARAMETER[\"standard_parallel_1\",50],PARAMETER[\"standard_parallel_2\",70],PARAMETER[\"latitude_of_center\",40],PARAMETER[\"longitude_of_center\",180],PARAMETER[\"false_easting\",0],PARAMETER[\"false_northing\",0],UNIT[\"Meter\",1],AXIS[\"Easting\",EAST],AXIS[\"Northing\",NORTH]]'), 'transform': Affine(30.00773491301388, 0.0, -2710952.8814417096,\n",
      "       0.0, -30.00773491301388, 2614790.519245169), 'blockxsize': 512, 'blockysize': 128, 'tiled': True}\n",
      "Reading input: <open WarpedVRT name='WarpedVRT(/vsimem/cdf479aa-4878-41ae-af4e-3749db3a898f/cdf479aa-4878-41ae-af4e-3749db3a898f.tif)' mode='r'>\n",
      "\u001b[?25l  [####################################]  100%          \u001b[?25h\n",
      "Adding overviews...\n",
      "Updating dataset tags...\n",
      "Writing output to: /projects/tmp/biomass_prelim_4070084980_cog.tif\n",
      "Image written to disk:\t\t /projects/tmp/biomass_prelim_4070084980_cog.tif\n"
     ]
    }
   ],
   "source": [
    "# index shapes should be in equal area\n",
    "# covar tiles should be in 4326\n",
    "args = f\"--in_tile_fn {INDEX_REPRJ_FN} \\\n",
    "--in_tile_id_col {ID_COL_NAME} \\\n",
    "--in_tile_num {TILE_NUM} \\\n",
    "--tile_buffer_m 0 \\\n",
    "--in_tile_layer {INDEX_LYR} \\\n",
    "-o /projects/test_data/ \\\n",
    "--topo_off \\\n",
    "--covar_src_name {RASTER_NAME} \\\n",
    "--covar_tile_fn {COVAR_TILE_FN} \\\n",
    "--in_covar_s3_col {IN_COVAR_S3_COL} \\\n",
    "--input_nodata_value {NODATA_VAL} \\\n",
    "--clip\" #<-- testing a clip to polygon\n",
    "print(args)\n",
    "!python build_stack.py $args"
   ]
  },
  {
   "cell_type": "code",
   "execution_count": 248,
   "id": "18ebcd26",
   "metadata": {},
   "outputs": [],
   "source": [
    "cog_fn = '/projects/tmp/esa_worldcover_v100_2020_131_cog.tif'\n",
    "cog_fn = f'/projects/tmp/{RASTER_NAME}_{TILE_NUM}_cog.tif'\n",
    "covar_stack_names = ['esa worldcover']"
   ]
  },
  {
   "cell_type": "code",
   "execution_count": 249,
   "id": "27dac2d9",
   "metadata": {},
   "outputs": [
    {
     "name": "stdout",
     "output_type": "stream",
     "text": [
      "/projects/tmp/biomass_prelim_4070084980_cog.tif\n",
      "4\n",
      "(3813, 1930)\n",
      "(3813, 1930)\n",
      "-1.0075219858189395e+43\n"
     ]
    },
    {
     "data": {
      "image/png": "[encoded data removed]",
      "text/plain": [
       "<Figure size 2160x720 with 2 Axes>"
      ]
     },
     "metadata": {
      "needs_background": "light"
     },
     "output_type": "display_data"
    }
   ],
   "source": [
    "## %%time\n",
    "import numpy as np\n",
    "import matplotlib.pyplot as plt\n",
    "from matplotlib.colors import ListedColormap, BoundaryNorm\n",
    "import rasterio\n",
    "from rasterio.plot import show_hist, show\n",
    "import numpy.ma as ma\n",
    "\n",
    "# Read back in the topo_stack_cog_fn and plot\n",
    "print(cog_fn)\n",
    "with rasterio.open(cog_fn) as dataset:\n",
    "\n",
    "    print(dataset.count)\n",
    "    \n",
    "    covar_stack = dataset.read(1)\n",
    "    print(covar_stack.shape)\n",
    "\n",
    "    lc_mask = covar_stack.copy()\n",
    "    print(lc_mask.shape)\n",
    "    \n",
    "    # For LC value of interest, set to 1, else mask out\n",
    "    LC_VAL = 90\n",
    "    #lc_mask = np.ma.masked_array(covar_stack, mask=covar_stack[covar_stack != 10], fill_value=1)\n",
    "    #lc_mask = ma.masked_where(covar_stack == LC_VAL, 1)\n",
    "    lc_mask[np.where(covar_stack > 0)] = 0\n",
    "    lc_mask[np.where(covar_stack == LC_VAL)] = 1\n",
    "    \n",
    "    lc_mask = ma.masked_values(lc_mask, 0)\n",
    "    print(lc_mask.sum())\n",
    "    \n",
    "    names_worldcover = ['nodata','Trees', 'Shrubland', 'Grassland','Cropland','Built-up','Barren / sparse vegetation','Snow and ice','Open water','Herbaceous wetland','Mangroves','Moss and lichen']\n",
    "    cols_worldcover = [\"white\",\"#006400\",\"#ffbb22\",\"#ffff4c\",\"#f096ff\",\"#fa0000\",\"#b4b4b4\",\"#f0f0f0\",\"#0064c8\",\"#0096a0\",\"#00cf75\",\"#fae6a0\"]\n",
    "    #cols_worldcover = [\"white\",\"green\",\"orange\",\"yellow\",\"purple\",\"red\",\"brown\",\"gray\",\"blue\",\"pink\",\"cyan\",\"black\"]\n",
    "    cols_mask = [\"white\", \"red\"]\n",
    "    # Plot data using nicer colors\n",
    "\n",
    "    values_worldcover = [0,10,20,30,40,50,60,70,80,90,95,100]\n",
    "    values_mask = [0,1]\n",
    "    \n",
    "    cmap_worldcover = ListedColormap(cols_worldcover)\n",
    "    norm_worldcover = BoundaryNorm(values_worldcover, len(cols_worldcover))\n",
    "    \n",
    "    cmap_masked = ListedColormap(cols_mask)\n",
    "    norm_masked= BoundaryNorm(values_mask, len(cols_mask))\n",
    "\n",
    "    # To plot with a legend:\n",
    "    # https://www.earthdatascience.org/courses/use-data-open-source-python/intro-raster-data-python/raster-data-processing/classify-plot-raster-data-in-python/\n",
    "    fig, (ax1, ax2) = plt.subplots(nrows=1, ncols=2, figsize=(30,10), sharex=True, sharey=True)\n",
    "    ax1.imshow(covar_stack, cmap=cmap_worldcover, norm=norm_worldcover)\n",
    "    ax2.imshow(lc_mask, clim=(0,1))\n",
    "    #show(lc_mask, cmap=cmap_masked, norm=norm_masked)\n",
    "    #show_hist(lc_mask, bins=len(values_masked)+1, lw=0.0, stacked=False, alpha=0.3, histtype='stepfilled', title=\"Histogram of ESA Worldcover Class Values\")"
   ]
  },
  {
   "cell_type": "code",
   "execution_count": null,
   "id": "a36bc213",
   "metadata": {},
   "outputs": [],
   "source": [
    "# This should work once you figure out the move axis of the stack: need 3 bands\n",
    "n: int = len(covar_stack)\n",
    "covar_stack_cmaps = [\"Spectral\"]\n",
    "print(covar_stack.shape)\n",
    "\n",
    "fig, axes = plt.subplots(1,n, figsize=(n*3,5))\n",
    "\n",
    "for i in range(n):\n",
    "    \n",
    "    print(covar_stack[i].min(), covar_stack[i].max())\n",
    "    array_to_show = covar_stack[i]\n",
    "    clims = (np.nanpercentile(covar_stack[i], 10), np.nanpercentile(covar_stack[i], 90))\n",
    "    \n",
    "    if 'elevation' in covar_stack_names[i]:\n",
    "        #Replace elevation with its hillshade for display purposes\n",
    "        array_to_show = hillshade(covar_stack[i],315,45)\n",
    "        clims = None\n",
    "    \n",
    "    show(array_to_show, ax=axes[i], cmap=covar_stack_cmaps[i], clim=clims, title=covar_stack_names[i])\n",
    "    \n",
    "    fig, (axmap, axhist) = plt.subplots(1,2, figsize=(10,5))\n",
    "    show(array_to_show, ax=axmap, cmap=covar_cmaps[i], clim=clims, title=covar_stack_names[i])\n",
    "    show_hist(covar_stack[i], ax=axhist, title=covar_stack_names[i], bins=50, lw=0.0, stacked=True, alpha=1)\n",
    "\n",
    "\n",
    "if False:\n",
    "    fig, axes = plt.subplots(1,n, figsize=(n*3,30))\n",
    "\n",
    "    for i in range(n):\n",
    "        show_hist(covar_stack[i], ax=axes[i], title=covar_stack_names[i], bins=50, lw=0.0, stacked=True, alpha=1)"
   ]
  },
  {
   "cell_type": "markdown",
   "id": "cdcb7801",
   "metadata": {},
   "source": [
    "#### Test a run of the topo stacks: 3.1.5_dps.py"
   ]
  },
  {
   "cell_type": "code",
   "execution_count": 7,
   "id": "dd3df2df",
   "metadata": {},
   "outputs": [
    {
     "name": "stdout",
     "output_type": "stream",
     "text": [
      "--in_tile_fn /projects/shared-buckets/nathanmthomas/boreal_tiles_v003.gpkg --in_tile_num 3585 --tile_buffer_m 120 --in_tile_layer boreal_tiles_v003 -o /projects/test_data/ --topo_tile_fn /projects/shared-buckets/nathanmthomas/dem30m_tiles.geojson\n",
      "/opt/conda/lib/python3.7/site-packages/geopandas/_compat.py:110: UserWarning: The Shapely GEOS version (3.8.0-CAPI-1.13.1 ) is incompatible with the GEOS version PyGEOS was compiled with (3.10.1-CAPI-1.16.0). Conversions between both will be slow.\n",
      "  shapely_geos_version, geos_capi_version_string\n",
      "The DEM filename(s) intersecting the 120 m bbox for tile id 3585:\n",
      " s3://copernicus-dem-30m/Copernicus_DSM_COG_10_N45_00_W114_00_DEM/Copernicus_DSM_COG_10_N45_00_W114_00_DEM.tif\n",
      "s3://copernicus-dem-30m/Copernicus_DSM_COG_10_N45_00_W115_00_DEM/Copernicus_DSM_COG_10_N45_00_W115_00_DEM.tif\n",
      "s3://copernicus-dem-30m/Copernicus_DSM_COG_10_N46_00_W114_00_DEM/Copernicus_DSM_COG_10_N46_00_W114_00_DEM.tif\n",
      "s3://copernicus-dem-30m/Copernicus_DSM_COG_10_N46_00_W115_00_DEM/Copernicus_DSM_COG_10_N46_00_W115_00_DEM.tif\n",
      "Input nodata isnt provided; assuming NaN...\n",
      "Orig stack shape:\t\t (1, 3007, 3008)\n",
      "Output resolution:\t\t (30, 30)\n",
      "Writing img to memory...\n",
      "3.1.5_dps.py:122: RasterioDeprecationWarning: Source dataset should be opened in read-only mode. Use of datasets opened in modes other than 'r' will be disallowed in a future version.\n",
      "  write_cog(mosaic, cog_fn, tile_parts['tile_crs'], out_trans, [\"elevation\"], out_crs=tile_parts['tile_crs'], resolution=(res, res))\n",
      "{'driver': 'VRT', 'dtype': 'float32', 'nodata': nan, 'width': 3008, 'height': 3007, 'count': 1, 'crs': CRS.from_wkt('PROJCS[\"unnamed\",GEOGCS[\"GRS 1980(IUGG, 1980)\",DATUM[\"unknown\",SPHEROID[\"GRS80\",6378137,298.257222101],TOWGS84[0,0,0,0,0,0,0]],PRIMEM[\"Greenwich\",0],UNIT[\"degree\",0.0174532925199433]],PROJECTION[\"Albers_Conic_Equal_Area\"],PARAMETER[\"standard_parallel_1\",50],PARAMETER[\"standard_parallel_2\",70],PARAMETER[\"latitude_of_center\",40],PARAMETER[\"longitude_of_center\",180],PARAMETER[\"false_easting\",0],PARAMETER[\"false_northing\",0],UNIT[\"Meter\",1],AXIS[\"Easting\",EAST],AXIS[\"Northing\",NORTH]]'), 'transform': Affine(30.005027547622934, 0.0, 4328401.8714755615,\n",
      "       0.0, -30.005027547622934, 3033424.082196144), 'blockxsize': 512, 'blockysize': 128, 'tiled': True}\n",
      "Reading input: <open WarpedVRT name='WarpedVRT(/vsimem/643859a7-5a56-4052-ae97-f3d201e29953/643859a7-5a56-4052-ae97-f3d201e29953.tif)' mode='r'>\n",
      "\u001b[?25l  [####################################]  100%\u001b[?25h\n",
      "Adding overviews...\n",
      "Updating dataset tags...\n",
      "Writing output to: /projects/tmp/Copernicus_3585_cog.tif\n",
      "Image written to disk:\t\t /projects/tmp/Copernicus_3585_cog.tif\n",
      "Opening DEM...\n",
      "NoData Value:  0\n",
      "| 30.01, 0.00, 4328401.87|\n",
      "| 0.00,-30.01, 3033424.08|\n",
      "| 0.00, 0.00, 1.00|\n",
      "Calculating Slope...\n",
      "NoData Value:  -9999.0\n",
      "Calculating TPI...\n",
      "NoData Value:  -9999.0\n",
      "Calculating TSRI...\n",
      "NoData Value:  -9999.0\n",
      "Slope mask created to indicate water where slope = 0\n",
      "Input nodata isnt provided; assuming NaN...\n",
      "Orig stack shape:\t\t (5, 3007, 3008)\n",
      "Output resolution:\t\t (30, 30)\n",
      "Writing img to memory...\n",
      "/projects/Developer/icesat2_boreal/lib/CovariateUtils_topo.py:203: RasterioDeprecationWarning: Source dataset should be opened in read-only mode. Use of datasets opened in modes other than 'r' will be disallowed in a future version.\n",
      "  align = True)\n",
      "{'driver': 'VRT', 'dtype': 'float32', 'nodata': nan, 'width': 3001, 'height': 3000, 'count': 5, 'crs': CRS.from_wkt('PROJCS[\"unnamed\",GEOGCS[\"GRS 1980(IUGG, 1980)\",DATUM[\"unknown\",SPHEROID[\"GRS80\",6378137,298.257222101],TOWGS84[0,0,0,0,0,0,0]],PRIMEM[\"Greenwich\",0],UNIT[\"degree\",0.0174532925199433]],PROJECTION[\"Albers_Conic_Equal_Area\"],PARAMETER[\"standard_parallel_1\",50],PARAMETER[\"standard_parallel_2\",70],PARAMETER[\"latitude_of_center\",40],PARAMETER[\"longitude_of_center\",180],PARAMETER[\"false_easting\",0],PARAMETER[\"false_northing\",0],UNIT[\"Meter\",1],AXIS[\"Easting\",EAST],AXIS[\"Northing\",NORTH]]'), 'transform': Affine(30.0, 0.0, 4328521.8714755615,\n",
      "       0.0, -30.0, 3033304.082196144), 'blockxsize': 512, 'blockysize': 128, 'tiled': True}\n",
      "Reading input: <open WarpedVRT name='WarpedVRT(/vsimem/832b5941-acf8-488e-902d-bd2478d1e804/832b5941-acf8-488e-902d-bd2478d1e804.tif)' mode='r'>\n",
      "\u001b[?25l  [####################################]  100%          \u001b[?25h\n",
      "Adding overviews...\n",
      "Updating dataset tags...\n",
      "Writing output to: /projects/test_data/Copernicus_3585_cog_topo_stack.tif\n",
      "Image written to disk:\t\t /projects/test_data/Copernicus_3585_cog_topo_stack.tif\n",
      "Output topo covariate stack COG: /projects/test_data/Copernicus_3585_cog_topo_stack.tif\n",
      "Removing tmp file: /projects/tmp/Copernicus_3585_cog.tif\n"
     ]
    }
   ],
   "source": [
    "args = f\"--in_tile_fn {INDEX_FN} \\\n",
    "--in_tile_num {TILE_NUM} \\\n",
    "--tile_buffer_m 120 \\\n",
    "--in_tile_layer {INDEX_LYR} \\\n",
    "-o /projects/test_data/ \\\n",
    "--topo_tile_fn /projects/shared-buckets/nathanmthomas/dem30m_tiles.geojson\"\n",
    "print(args)\n",
    "!python 3.1.5_dps.py $args"
   ]
  },
  {
   "cell_type": "markdown",
   "id": "ff18c50a",
   "metadata": {},
   "source": [
    "#### Test a run of the MS comp stacks: 3.1.2_dps.py"
   ]
  },
  {
   "cell_type": "code",
   "execution_count": 36,
   "id": "9ae5bd0a",
   "metadata": {},
   "outputs": [
    {
     "data": {
      "text/plain": [
       "'mc50_06-15_09-01_2015_2015'"
      ]
     },
     "execution_count": 36,
     "metadata": {},
     "output_type": "execute_result"
    }
   ],
   "source": [
    "MS_DATA_TYPE = 'HLS'#'LS8' # 'HLS'\n",
    "if MS_DATA_TYPE == 'LS8':\n",
    "    SAT_API = 'https://landsatlook.usgs.gov/sat-api'\n",
    "else:\n",
    "    SAT_API = 'https://cmr.earthdata.nasa.gov/stac/LPCLOUD'\n",
    "MAX_CLOUDS = 50\n",
    "SEASON_START = '06-15'\n",
    "SEASON_STOP = '09-01'\n",
    "YEAR_START = '2015'\n",
    "YEAR_STOP = '2015'\n",
    "RUN_NAME = f'mc{MAX_CLOUDS}_{SEASON_START}_{SEASON_STOP}_{YEAR_START}_{YEAR_STOP}'\n",
    "RUN_NAME"
   ]
  },
  {
   "cell_type": "code",
   "execution_count": 26,
   "id": "85e08fa0",
   "metadata": {},
   "outputs": [
    {
     "name": "stdout",
     "output_type": "stream",
     "text": [
      "Python 3.7.8\n"
     ]
    }
   ],
   "source": [
    "!python --version\n",
    "#1580, 3300, 3679, 3864]"
   ]
  },
  {
   "cell_type": "code",
   "execution_count": 37,
   "id": "f664cf68",
   "metadata": {},
   "outputs": [
    {
     "name": "stdout",
     "output_type": "stream",
     "text": [
      "-i /projects/shared-buckets/nathanmthomas/boreal_tiles_v003.gpkg --in_tile_num 3864 -lyr boreal_tiles_v003 -o /projects/test_data/HLS_test_redo -a https://cmr.earthdata.nasa.gov/stac/LPCLOUD --tile_buffer_m 0 -sy 2015 -ey 2015 -smd 06-15 -emd 09-01 -mc 50 -t HLS\n",
      "/projects/.local/lib/python3.7/site-packages/geopandas/_compat.py:110: UserWarning: The Shapely GEOS version (3.8.0-CAPI-1.13.1 ) is incompatible with the GEOS version PyGEOS was compiled with (3.10.1-CAPI-1.16.0). Conversions between both will be slow.\n",
      "  shapely_geos_version, geos_capi_version_string\n",
      "\n",
      "Tiles path:\t\t /projects/shared-buckets/nathanmthomas/boreal_tiles_v003.gpkg\n",
      "Tile number:\t\t 3864\n",
      "Output res (m):\t\t 30\n",
      "in_bbox:\t\t [4058522.0672571864, 2673303.645790478, 4148522.103416919, 2763303.721323371]\n",
      "bbox 4326:\t\t [-119.72587444713841, 45.96029421547558, -118.094314697371, 47.10676579747141]\n",
      "get HLS data\n",
      "run function\n",
      "opening client\n",
      "start_month_day:\t\t 06-15\n",
      "start date, end date:\t\t 2015-06-15T00:00:00Z 2015-09-01T23:59:59Z\n",
      "\n",
      "Conducting HLS search now...\n",
      "Search query parameters:\n",
      "<pystac_client.item_search.ItemSearch object at 0x7f5710f76d10>\n",
      "\n",
      "initial results:\t\t 101\n",
      "filtered results:\t\t 62\n",
      "\n",
      "Search complete.\n",
      "\n",
      "62\n",
      "# of files per band:\t\t 62\n",
      "Example path to a band:\t\t s3://lp-prod-protected/HLSL30.020/HLS.L30.T10TGR.2015167T184909.v2.0/HLS.L30.T10TGR.2015167T184909.v2.0.B02.tif\n",
      "Creating NDVI stack...\n",
      "HLS\n",
      "^C\n",
      "Traceback (most recent call last):\n",
      "  File \"3.1.2_dps.py\", line 548, in <module>\n",
      "    main()\n",
      "  File \"3.1.2_dps.py\", line 375, in main\n",
      "    NDVIstack = [CreateNDVIstack_HLS(red_bands[i],nir_bands[i],fmask_bands[i], in_bbox, out_crs, out_crs, height, width, args.composite_type) for i in range(len(red_bands))]\n",
      "  File \"3.1.2_dps.py\", line 375, in <listcomp>\n",
      "    NDVIstack = [CreateNDVIstack_HLS(red_bands[i],nir_bands[i],fmask_bands[i], in_bbox, out_crs, out_crs, height, width, args.composite_type) for i in range(len(red_bands))]\n",
      "  File \"3.1.2_dps.py\", line 98, in CreateNDVIstack_HLS\n",
      "    return np.ma.array(np.where(((fmaskarr==1) | (REDarr>0.1) | (REDarr<0.01)), -9999, (NIRarr-REDarr)/(NIRarr+REDarr)))\n",
      "  File \"/projects/.local/lib/python3.7/site-packages/numpy/ma/core.py\", line 4197, in __truediv__\n",
      "    return true_divide(self, other)\n",
      "  File \"/projects/.local/lib/python3.7/site-packages/numpy/ma/core.py\", line 1166, in __call__\n",
      "    m |= domain(da, db)\n",
      "  File \"/projects/.local/lib/python3.7/site-packages/numpy/ma/core.py\", line 853, in __call__\n",
      "    return umath.absolute(a) * self.tolerance >= umath.absolute(b)\n",
      "KeyboardInterrupt\n"
     ]
    }
   ],
   "source": [
    "#1580 , 3300, 3679, 3864\n",
    "args = f\"-i {INDEX_FN} \\\n",
    "--in_tile_num {3864} \\\n",
    "-lyr {INDEX_LYR} \\\n",
    "-o /projects/test_data/HLS_test_redo \\\n",
    "-a {SAT_API} \\\n",
    "--tile_buffer_m 0 \\\n",
    "-sy {YEAR_START} -ey {YEAR_STOP} -smd {SEASON_START} -emd {SEASON_STOP} -mc {MAX_CLOUDS} -t {MS_DATA_TYPE}\"\n",
    "\n",
    "print(args)\n",
    "!python 3.1.2_dps.py $args"
   ]
  },
  {
   "cell_type": "markdown",
   "id": "e256b61b",
   "metadata": {},
   "source": [
    "#### Test a run of tile_atl08.py"
   ]
  },
  {
   "cell_type": "code",
   "execution_count": 19,
   "id": "55dec256",
   "metadata": {},
   "outputs": [
    {
     "name": "stdout",
     "output_type": "stream",
     "text": [
      "-LC_filter True --extract_covars --do_30m --do_dps -years_list 2019 2020 2021 -o /projects/my-public-bucket/atl08_filt_covar_tiles -in_tile_num 3417 -in_tile_fn /projects/shared-buckets/nathanmthomas/boreal_tiles_v003.gpkg -in_tile_layer boreal_tiles_v003 -in_tile_id_col tile_num -csv_list_fn /projects/shared-buckets/lduncanson/DPS_tile_lists/ATL08_tindex_master.csv -topo_stack_list_fn /projects/shared-buckets/nathanmthomas/DPS_tile_lists/Topo_tindex_master.csv -landsat_stack_list_fn /projects/shared-buckets/nathanmthomas/DPS_tile_lists/HLS_tindex_master.csv -landsat_cols_list Blue Green Red NIR SWIR SWIR2 NDVI SAVI MSAVI NDMI EVI NBR NBR2 TCB TCG TCW ValidMask Xgeo Ygeo JulianDate yearDate -user_stacks nathanmthomas -user_atl08 lduncanson -thresh_sol_el 5 -v_ATL08 5 -minmonth 4 -maxmonth 10\n",
      "/opt/conda/lib/python3.7/site-packages/geopandas/_compat.py:110: UserWarning: The Shapely GEOS version (3.8.0-CAPI-1.13.1 ) is incompatible with the GEOS version PyGEOS was compiled with (3.10.1-CAPI-1.16.0). Conversions between both will be slow.\n",
      "  shapely_geos_version, geos_capi_version_string\n",
      "\n",
      "Land cover filtering set to: True\n",
      "\n",
      "Working on tile:\t 3417\n",
      "From layer:\t\t boreal_tiles_v003\n",
      "In vector file:\t\t /projects/shared-buckets/nathanmthomas/boreal_tiles_v003.gpkg\n",
      "ATL08 version:\t\t 5\n",
      "Season start:\t\t 04-01\n",
      "Season end:\t\t 10-31\n",
      "Years:\t\t\t [2019, 2020, 2021]\n",
      "ATL08 bin length:\t 30m\n",
      "\n",
      "Doing MAAP query by tile bounds to find all intersecting ATL08 \n",
      "\tTILE_NUM: 3417 (125.22365970154516,56.1267467790354,127.32584293146424,57.25586624283884)\n",
      "\tSearching MAAP for granules using these parameters: \n",
      "\t[{'short_name': 'ATL08', 'version': '005', 'bounding_box': '125.22365970154516,56.1267467790354,127.32584293146424,57.25586624283884', 'limit': 10000, 'temporal': '2019-04-01T00:00:00Z,2019-10-31T23:59:59Z'}, {'short_name': 'ATL08', 'version': '005', 'bounding_box': '125.22365970154516,56.1267467790354,127.32584293146424,57.25586624283884', 'limit': 10000, 'temporal': '2020-04-01T00:00:00Z,2020-10-31T23:59:59Z'}, {'short_name': 'ATL08', 'version': '005', 'bounding_box': '125.22365970154516,56.1267467790354,127.32584293146424,57.25586624283884', 'limit': 10000, 'temporal': '2021-04-01T00:00:00Z,2021-10-31T23:59:59Z'}]\n",
      "\t\t# ATL08 for tile 3417: 156\n",
      "\n",
      "This is either a DPS job (for which the CSV has an s3 path, or the CSV exists locally.)\n",
      "\n",
      "Reading existing list of ATL08 CSVs: /projects/shared-buckets/lduncanson/DPS_tile_lists/ATL08_tindex_master.csv\n",
      "\tDoing 30m ATL08 data?  True\n",
      "\tFind ATL08 CSVs you expect for a tile based on the h5 granule search...\n",
      "\t\t# of all ATL08 granules for tile: 156\n",
      "\t\t# of all_atl08_csvs: 46166\n",
      "\t# of ATL08 CSV found for tile 3417: 122\n",
      "\t# of ATL08 CSV NOT found for tile 3417: 34\n",
      "Creating pandas data frame...\n",
      "\n",
      "Filtering by tile: 3417\n",
      "[125.22365970154516, 127.32584293146424, 56.1267467790354, 57.25586624283884]\n",
      "Bounds clipped 176094 obs. down to 7013 obs.\n",
      "Bounds clipped 104405 obs. down to 0 obs.\n",
      "Bounds clipped 58292 obs. down to 0 obs.\n",
      "Bounds clipped 153227 obs. down to 7605 obs.\n",
      "Bounds clipped 160866 obs. down to 473 obs.\n",
      "Bounds clipped 111095 obs. down to 11571 obs.\n",
      "Bounds clipped 82852 obs. down to 469 obs.\n",
      "Bounds clipped 111534 obs. down to 0 obs.\n",
      "Bounds clipped 102226 obs. down to 1867 obs.\n",
      "Bounds clipped 119247 obs. down to 0 obs.\n",
      "Bounds clipped 108827 obs. down to 3473 obs.\n",
      "Bounds clipped 58517 obs. down to 3807 obs.\n",
      "Bounds clipped 29377 obs. down to 865 obs.\n",
      "Bounds clipped 57961 obs. down to 2274 obs.\n",
      "Bounds clipped 46750 obs. down to 1660 obs.\n",
      "Bounds clipped 53834 obs. down to 0 obs.\n",
      "Bounds clipped 84975 obs. down to 2302 obs.\n",
      "Bounds clipped 61186 obs. down to 168 obs.\n",
      "Bounds clipped 101940 obs. down to 2346 obs.\n",
      "Bounds clipped 72272 obs. down to 40 obs.\n",
      "Bounds clipped 16326 obs. down to 0 obs.\n",
      "Bounds clipped 121891 obs. down to 0 obs.\n",
      "Bounds clipped 39332 obs. down to 203 obs.\n",
      "Bounds clipped 6174 obs. down to 0 obs.\n",
      "Bounds clipped 80786 obs. down to 0 obs.\n",
      "Bounds clipped 54566 obs. down to 376 obs.\n",
      "Bounds clipped 43480 obs. down to 17 obs.\n",
      "Bounds clipped 49078 obs. down to 3193 obs.\n",
      "Bounds clipped 61756 obs. down to 1940 obs.\n",
      "Bounds clipped 7786 obs. down to 58 obs.\n",
      "Bounds clipped 40726 obs. down to 0 obs.\n",
      "Bounds clipped 83931 obs. down to 944 obs.\n",
      "Bounds clipped 122116 obs. down to 9122 obs.\n",
      "Bounds clipped 38860 obs. down to 420 obs.\n",
      "Bounds clipped 63440 obs. down to 10 obs.\n",
      "Bounds clipped 60211 obs. down to 0 obs.\n",
      "Bounds clipped 36477 obs. down to 0 obs.\n",
      "Bounds clipped 99970 obs. down to 0 obs.\n",
      "Bounds clipped 52342 obs. down to 0 obs.\n",
      "Bounds clipped 72610 obs. down to 0 obs.\n",
      "Bounds clipped 27318 obs. down to 3008 obs.\n",
      "Bounds clipped 111386 obs. down to 936 obs.\n",
      "Bounds clipped 76550 obs. down to 0 obs.\n",
      "Bounds clipped 170054 obs. down to 0 obs.\n",
      "Bounds clipped 187592 obs. down to 12699 obs.\n",
      "Bounds clipped 88863 obs. down to 4088 obs.\n",
      "Bounds clipped 122734 obs. down to 1273 obs.\n",
      "Bounds clipped 171671 obs. down to 10638 obs.\n",
      "Bounds clipped 143567 obs. down to 55 obs.\n",
      "Bounds clipped 156132 obs. down to 0 obs.\n",
      "Bounds clipped 101438 obs. down to 2272 obs.\n",
      "Bounds clipped 7623 obs. down to 0 obs.\n",
      "Bounds clipped 97594 obs. down to 7289 obs.\n",
      "Bounds clipped 144761 obs. down to 4720 obs.\n",
      "Bounds clipped 76706 obs. down to 4709 obs.\n",
      "Bounds clipped 56929 obs. down to 9068 obs.\n",
      "Bounds clipped 110900 obs. down to 0 obs.\n",
      "Bounds clipped 122720 obs. down to 0 obs.\n",
      "Bounds clipped 34768 obs. down to 1465 obs.\n",
      "Bounds clipped 6668 obs. down to 0 obs.\n",
      "Bounds clipped 106900 obs. down to 736 obs.\n",
      "Bounds clipped 102664 obs. down to 8465 obs.\n",
      "Bounds clipped 73177 obs. down to 0 obs.\n",
      "Bounds clipped 104395 obs. down to 0 obs.\n",
      "Bounds clipped 91447 obs. down to 0 obs.\n",
      "Bounds clipped 110454 obs. down to 3629 obs.\n",
      "Bounds clipped 49822 obs. down to 0 obs.\n",
      "Bounds clipped 28531 obs. down to 3007 obs.\n",
      "Bounds clipped 33539 obs. down to 2305 obs.\n",
      "Bounds clipped 72826 obs. down to 100 obs.\n",
      "Bounds clipped 76174 obs. down to 0 obs.\n",
      "Bounds clipped 128314 obs. down to 696 obs.\n",
      "Bounds clipped 36951 obs. down to 0 obs.\n",
      "Bounds clipped 93917 obs. down to 2307 obs.\n",
      "Bounds clipped 53868 obs. down to 0 obs.\n",
      "Bounds clipped 46530 obs. down to 3554 obs.\n",
      "Bounds clipped 64132 obs. down to 2224 obs.\n",
      "Bounds clipped 54849 obs. down to 9447 obs.\n",
      "Bounds clipped 66742 obs. down to 1046 obs.\n",
      "Bounds clipped 36972 obs. down to 0 obs.\n",
      "Bounds clipped 3782 obs. down to 0 obs.\n",
      "Bounds clipped 20754 obs. down to 0 obs.\n",
      "Bounds clipped 30198 obs. down to 679 obs.\n",
      "Bounds clipped 74121 obs. down to 0 obs.\n",
      "Bounds clipped 40619 obs. down to 512 obs.\n",
      "Bounds clipped 88139 obs. down to 0 obs.\n",
      "Bounds clipped 14866 obs. down to 1009 obs.\n",
      "Bounds clipped 22006 obs. down to 971 obs.\n",
      "Bounds clipped 99968 obs. down to 509 obs.\n",
      "Bounds clipped 18730 obs. down to 0 obs.\n",
      "Bounds clipped 151227 obs. down to 0 obs.\n",
      "Bounds clipped 41490 obs. down to 542 obs.\n",
      "Bounds clipped 75191 obs. down to 0 obs.\n",
      "Bounds clipped 54209 obs. down to 13428 obs.\n",
      "Bounds clipped 23580 obs. down to 4825 obs.\n",
      "Bounds clipped 105926 obs. down to 3697 obs.\n",
      "Bounds clipped 175991 obs. down to 1722 obs.\n",
      "Bounds clipped 106666 obs. down to 11529 obs.\n",
      "Bounds clipped 128361 obs. down to 0 obs.\n",
      "Bounds clipped 71959 obs. down to 0 obs.\n",
      "Bounds clipped 1017 obs. down to 0 obs.\n",
      "Bounds clipped 50467 obs. down to 0 obs.\n",
      "Bounds clipped 64082 obs. down to 3488 obs.\n",
      "Bounds clipped 20136 obs. down to 270 obs.\n",
      "Bounds clipped 17368 obs. down to 0 obs.\n",
      "Bounds clipped 35381 obs. down to 0 obs.\n",
      "Bounds clipped 5521 obs. down to 515 obs.\n",
      "Bounds clipped 55778 obs. down to 0 obs.\n",
      "Bounds clipped 86419 obs. down to 7609 obs.\n",
      "Bounds clipped 56145 obs. down to 1001 obs.\n",
      "Bounds clipped 50357 obs. down to 7067 obs.\n",
      "Bounds clipped 104680 obs. down to 11866 obs.\n",
      "Bounds clipped 33260 obs. down to 20 obs.\n",
      "Bounds clipped 63838 obs. down to 0 obs.\n",
      "Bounds clipped 104042 obs. down to 0 obs.\n",
      "Bounds clipped 88183 obs. down to 4801 obs.\n",
      "Bounds clipped 105509 obs. down to 0 obs.\n",
      "Bounds clipped 96324 obs. down to 10475 obs.\n",
      "Bounds clipped 23324 obs. down to 196 obs.\n",
      "Bounds clipped 100836 obs. down to 402 obs.\n",
      "Bounds clipped 82326 obs. down to 7333 obs.\n",
      "Bounds clipped 88433 obs. down to 0 obs.\n",
      "\n",
      "Pre-filter data cleaning...\n",
      "Pandas version: 1.2.2\n",
      "\tGet beam type from orbit orientation and ground track: ['Weak' 'Strong']\n",
      "\tCast some columns to:\n",
      "\t\ttype float: ['lat', 'lon', 'h_can', 'h_te_best', 'ter_slp']\n",
      "\t\ttype integer: ['n_ca_ph', 'n_seg_ph', 'n_toc_ph']\n",
      "Quality filtering with aggressive land-cover based (v3) filters updated in Jan/Feb 2022 ...\n",
      "\n",
      "Filtering by quality\n",
      "\tBefore quality filtering: \t\t256418 observations in the input dataframe.\n",
      "\tAfter msw_flg=0: \t\t144839 observations in the dataframe.\n",
      "\tAfter beam_type=Strong: \t\t77536 observations in the dataframe.\n",
      "\tAfter seg_snow=1: \t\t38517 observations in the dataframe.\n",
      "\tLand cover threshold dictionary: \n",
      "{0: 0, 111: 60, 113: 60, 112: 60, 114: 60, 115: 60, 116: 60, 121: 50, 123: 50, 122: 50, 124: 50, 125: 50, 126: 50, 20: 20, 30: 10, 90: 10, 100: 5, 60: 5, 40: 0, 50: 0, 70: 0, 80: 0, 200: 0}\n",
      "\tAfter land-cover specific h_can thresholds: \t\t33452 observations in the dataframe.\n",
      "\tAfter h_can_unc <5, seg_cover<32767, sol_el<5, sig_topo<2.5, h_dif_ref<25: \t\t0 observations in the dataframe.\n",
      "\tAfter month filters: 4-10\n",
      "\tAfter all quality filtering: \t\t0 observations in the output dataframe.\n",
      "\tReturning a pandas data frame.\n",
      "\tFiltered obs. for columns: ['lon', 'lat', 'rh25', 'rh50', 'rh60', 'rh70', 'rh75', 'rh80', 'rh90', 'h_can', 'h_max_can', 'ter_slp', 'h_te_best', 'seg_landcov', 'sol_el', 'y', 'm', 'doy', 'seg_cover']\n",
      "\tData frame shape: (0, 19) \n",
      "\n",
      "No ATL08 obs after quality filtering.\n",
      "\n",
      "CPU times: user 4.87 s, sys: 1.68 s, total: 6.55 s\n",
      "Wall time: 7min 29s\n"
     ]
    }
   ],
   "source": [
    "%%time\n",
    "args = f\"\\\n",
    "-LC_filter True \\\n",
    "--extract_covars \\\n",
    "--do_30m \\\n",
    "--do_dps \\\n",
    "-years_list 2019 2020 2021 \\\n",
    "-o /projects/my-public-bucket/atl08_filt_covar_tiles \\\n",
    "-in_tile_num {TILE_NUM} \\\n",
    "-in_tile_fn {INDEX_FN} \\\n",
    "-in_tile_layer {INDEX_LYR} \\\n",
    "-in_tile_id_col tile_num \\\n",
    "-csv_list_fn /projects/shared-buckets/lduncanson/DPS_tile_lists/ATL08_tindex_master.csv \\\n",
    "-topo_stack_list_fn /projects/shared-buckets/nathanmthomas/DPS_tile_lists/Topo_tindex_master.csv \\\n",
    "-landsat_stack_list_fn /projects/shared-buckets/nathanmthomas/DPS_tile_lists/HLS_tindex_master.csv \\\n",
    "-landsat_cols_list Blue Green Red NIR SWIR SWIR2 NDVI SAVI MSAVI NDMI EVI NBR NBR2 TCB TCG TCW ValidMask Xgeo Ygeo JulianDate yearDate \\\n",
    "-user_stacks nathanmthomas \\\n",
    "-user_atl08 lduncanson \\\n",
    "-thresh_sol_el 5 \\\n",
    "-v_ATL08 5 -minmonth 4 -maxmonth 10\"\n",
    "print(args)\n",
    "!python tile_atl08.py $args"
   ]
  },
  {
   "cell_type": "code",
   "execution_count": 24,
   "id": "9aae1f3e",
   "metadata": {},
   "outputs": [
    {
     "name": "stdout",
     "output_type": "stream",
     "text": [
      "Requirement already satisfied: pyreadr in /opt/conda/lib/python3.7/site-packages (0.4.7)\n",
      "Requirement already satisfied: pandas>=1.2.0 in /projects/.local/lib/python3.7/site-packages (from pyreadr) (1.2.2)\n",
      "Requirement already satisfied: pytz>=2017.3 in /opt/conda/lib/python3.7/site-packages (from pandas>=1.2.0->pyreadr) (2021.1)\n",
      "Requirement already satisfied: python-dateutil>=2.7.3 in /opt/conda/lib/python3.7/site-packages (from pandas>=1.2.0->pyreadr) (2.8.2)\n",
      "Requirement already satisfied: numpy>=1.16.5 in /projects/.local/lib/python3.7/site-packages (from pandas>=1.2.0->pyreadr) (1.21.0)\n",
      "Requirement already satisfied: six>=1.5 in /opt/conda/lib/python3.7/site-packages (from python-dateutil>=2.7.3->pandas>=1.2.0->pyreadr) (1.15.0)\n",
      "\u001b[33mWARNING: Running pip as the 'root' user can result in broken permissions and conflicting behaviour with the system package manager. It is recommended to use a virtual environment instead: https://pip.pypa.io/warnings/venv\u001b[0m\u001b[33m\n",
      "\u001b[0m\u001b[33mWARNING: You are using pip version 22.0.3; however, version 22.3.1 is available.\n",
      "You should consider upgrading via the '/opt/conda/bin/python3.7 -m pip install --upgrade pip' command.\u001b[0m\u001b[33m\n",
      "\u001b[0mCollecting rpy2\n",
      "  Downloading rpy2-3.5.6.tar.gz (211 kB)\n",
      "\u001b[2K     \u001b[90m━━━━━━━━━━━━━━━━━━━━━━━━━━━━━━━━━━━━━━━\u001b[0m \u001b[32m212.0/212.0 KB\u001b[0m \u001b[31m3.3 MB/s\u001b[0m eta \u001b[36m0:00:00\u001b[0ma \u001b[36m0:00:01\u001b[0m\n",
      "\u001b[?25h  Installing build dependencies ... \u001b[?25ldone\n",
      "\u001b[?25h  Getting requirements to build wheel ... \u001b[?25lerror\n",
      "  \u001b[1;31merror\u001b[0m: \u001b[1msubprocess-exited-with-error\u001b[0m\n",
      "  \n",
      "  \u001b[31m×\u001b[0m \u001b[32mGetting requirements to build wheel\u001b[0m did not run successfully.\n",
      "  \u001b[31m│\u001b[0m exit code: \u001b[1;36m1\u001b[0m\n",
      "  \u001b[31m╰─>\u001b[0m \u001b[31m[6 lines of output]\u001b[0m\n",
      "  \u001b[31m   \u001b[0m Unable to determine R home: [Errno 2] No such file or directory: 'R': 'R'\n",
      "  \u001b[31m   \u001b[0m cffi mode is CFFI_MODE.ANY\n",
      "  \u001b[31m   \u001b[0m Looking for R home with: R RHOME\n",
      "  \u001b[31m   \u001b[0m Unable to determine R home: [Errno 2] No such file or directory: 'R': 'R'\n",
      "  \u001b[31m   \u001b[0m R home found: None\n",
      "  \u001b[31m   \u001b[0m Error: rpy2 in API mode cannot be built without R in the PATH or R_HOME defined. Correct this or force ABI mode-only by defining the environment variable RPY2_CFFI_MODE=ABI\n",
      "  \u001b[31m   \u001b[0m \u001b[31m[end of output]\u001b[0m\n",
      "  \n",
      "  \u001b[1;35mnote\u001b[0m: This error originates from a subprocess, and is likely not a problem with pip.\n",
      "\u001b[1;31merror\u001b[0m: \u001b[1msubprocess-exited-with-error\u001b[0m\n",
      "\n",
      "\u001b[31m×\u001b[0m \u001b[32mGetting requirements to build wheel\u001b[0m did not run successfully.\n",
      "\u001b[31m│\u001b[0m exit code: \u001b[1;36m1\u001b[0m\n",
      "\u001b[31m╰─>\u001b[0m See above for output.\n",
      "\n",
      "\u001b[1;35mnote\u001b[0m: This error originates from a subprocess, and is likely not a problem with pip.\n",
      "\u001b[33mWARNING: You are using pip version 22.0.3; however, version 22.3.1 is available.\n",
      "You should consider upgrading via the '/opt/conda/bin/python3.7 -m pip install --upgrade pip' command.\u001b[0m\u001b[33m\n",
      "\u001b[0m\u001b[?25h"
     ]
    }
   ],
   "source": [
    "!pip install pyreadr\n",
    "!pip install rpy2"
   ]
  },
  {
   "cell_type": "code",
   "execution_count": 44,
   "id": "4d9da85c",
   "metadata": {},
   "outputs": [
    {
     "name": "stdout",
     "output_type": "stream",
     "text": [
      "s3://maap-ops-workspace/lduncanson/dps_output/run_boreal_biomass_quick_v2_ubuntu/map_boreal_2022_v3/2022/11/11/22/38/21/238233/boreal_agb_202211111668206230_25745_stats.Rds\n"
     ]
    },
    {
     "data": {
      "text/plain": [
       "'/projects/test_data/boreal_agb_202211111668206230_25745_stats.Rds'"
      ]
     },
     "execution_count": 44,
     "metadata": {},
     "output_type": "execute_result"
    }
   ],
   "source": []
  },
  {
   "cell_type": "code",
   "execution_count": 46,
   "id": "82fd4a35",
   "metadata": {},
   "outputs": [],
   "source": []
  },
  {
   "cell_type": "code",
   "execution_count": 53,
   "id": "bd92aa79",
   "metadata": {},
   "outputs": [
    {
     "data": {
      "text/html": [
       "<div>\n",
       "<style scoped>\n",
       "    .dataframe tbody tr th:only-of-type {\n",
       "        vertical-align: middle;\n",
       "    }\n",
       "\n",
       "    .dataframe tbody tr th {\n",
       "        vertical-align: top;\n",
       "    }\n",
       "\n",
       "    .dataframe thead th {\n",
       "        text-align: right;\n",
       "    }\n",
       "</style>\n",
       "<table border=\"1\" class=\"dataframe\">\n",
       "  <thead>\n",
       "    <tr style=\"text-align: right;\">\n",
       "      <th></th>\n",
       "      <th>Unnamed: 0</th>\n",
       "      <th>s3_path</th>\n",
       "      <th>local_path</th>\n",
       "      <th>file</th>\n",
       "      <th>tile_num</th>\n",
       "    </tr>\n",
       "  </thead>\n",
       "  <tbody>\n",
       "    <tr>\n",
       "      <th>0</th>\n",
       "      <td>7</td>\n",
       "      <td>s3://maap-ops-workspace/lduncanson/dps_output/...</td>\n",
       "      <td>/projects/my-private-bucket/dps_output/run_bor...</td>\n",
       "      <td>boreal_agb_202211171668646589_1327.tif</td>\n",
       "      <td>1327</td>\n",
       "    </tr>\n",
       "    <tr>\n",
       "      <th>1</th>\n",
       "      <td>6</td>\n",
       "      <td>s3://maap-ops-workspace/lduncanson/dps_output/...</td>\n",
       "      <td>/projects/my-private-bucket/dps_output/run_bor...</td>\n",
       "      <td>boreal_agb_202211171668646584_0480.tif</td>\n",
       "      <td>480</td>\n",
       "    </tr>\n",
       "    <tr>\n",
       "      <th>2</th>\n",
       "      <td>5</td>\n",
       "      <td>s3://maap-ops-workspace/lduncanson/dps_output/...</td>\n",
       "      <td>/projects/my-private-bucket/dps_output/run_bor...</td>\n",
       "      <td>boreal_agb_202211171668646291_2566.tif</td>\n",
       "      <td>2566</td>\n",
       "    </tr>\n",
       "    <tr>\n",
       "      <th>3</th>\n",
       "      <td>4</td>\n",
       "      <td>s3://maap-ops-workspace/lduncanson/dps_output/...</td>\n",
       "      <td>/projects/my-private-bucket/dps_output/run_bor...</td>\n",
       "      <td>boreal_agb_202211171668645668_24615.tif</td>\n",
       "      <td>24615</td>\n",
       "    </tr>\n",
       "    <tr>\n",
       "      <th>4</th>\n",
       "      <td>3</td>\n",
       "      <td>s3://maap-ops-workspace/lduncanson/dps_output/...</td>\n",
       "      <td>/projects/my-private-bucket/dps_output/run_bor...</td>\n",
       "      <td>boreal_agb_202211171668645520_0868.tif</td>\n",
       "      <td>868</td>\n",
       "    </tr>\n",
       "    <tr>\n",
       "      <th>...</th>\n",
       "      <td>...</td>\n",
       "      <td>...</td>\n",
       "      <td>...</td>\n",
       "      <td>...</td>\n",
       "      <td>...</td>\n",
       "    </tr>\n",
       "    <tr>\n",
       "      <th>4629</th>\n",
       "      <td>4</td>\n",
       "      <td>s3://maap-ops-workspace/lduncanson/dps_output/...</td>\n",
       "      <td>/projects/my-private-bucket/dps_output/run_bor...</td>\n",
       "      <td>boreal_agb_202211111668206230_25745.tif</td>\n",
       "      <td>25745</td>\n",
       "    </tr>\n",
       "    <tr>\n",
       "      <th>4630</th>\n",
       "      <td>3</td>\n",
       "      <td>s3://maap-ops-workspace/lduncanson/dps_output/...</td>\n",
       "      <td>/projects/my-private-bucket/dps_output/run_bor...</td>\n",
       "      <td>boreal_agb_202211111668205557_26297.tif</td>\n",
       "      <td>26297</td>\n",
       "    </tr>\n",
       "    <tr>\n",
       "      <th>4631</th>\n",
       "      <td>2</td>\n",
       "      <td>s3://maap-ops-workspace/lduncanson/dps_output/...</td>\n",
       "      <td>/projects/my-private-bucket/dps_output/run_bor...</td>\n",
       "      <td>boreal_agb_202211111668204586_3943.tif</td>\n",
       "      <td>3943</td>\n",
       "    </tr>\n",
       "    <tr>\n",
       "      <th>4632</th>\n",
       "      <td>1</td>\n",
       "      <td>s3://maap-ops-workspace/lduncanson/dps_output/...</td>\n",
       "      <td>/projects/my-private-bucket/dps_output/run_bor...</td>\n",
       "      <td>boreal_agb_202211111668204477_37079.tif</td>\n",
       "      <td>37079</td>\n",
       "    </tr>\n",
       "    <tr>\n",
       "      <th>4633</th>\n",
       "      <td>0</td>\n",
       "      <td>s3://maap-ops-workspace/lduncanson/dps_output/...</td>\n",
       "      <td>/projects/my-private-bucket/dps_output/run_bor...</td>\n",
       "      <td>boreal_agb_202211111668203884_2348.tif</td>\n",
       "      <td>2348</td>\n",
       "    </tr>\n",
       "  </tbody>\n",
       "</table>\n",
       "<p>4634 rows × 5 columns</p>\n",
       "</div>"
      ],
      "text/plain": [
       "      Unnamed: 0                                            s3_path  \\\n",
       "0              7  s3://maap-ops-workspace/lduncanson/dps_output/...   \n",
       "1              6  s3://maap-ops-workspace/lduncanson/dps_output/...   \n",
       "2              5  s3://maap-ops-workspace/lduncanson/dps_output/...   \n",
       "3              4  s3://maap-ops-workspace/lduncanson/dps_output/...   \n",
       "4              3  s3://maap-ops-workspace/lduncanson/dps_output/...   \n",
       "...          ...                                                ...   \n",
       "4629           4  s3://maap-ops-workspace/lduncanson/dps_output/...   \n",
       "4630           3  s3://maap-ops-workspace/lduncanson/dps_output/...   \n",
       "4631           2  s3://maap-ops-workspace/lduncanson/dps_output/...   \n",
       "4632           1  s3://maap-ops-workspace/lduncanson/dps_output/...   \n",
       "4633           0  s3://maap-ops-workspace/lduncanson/dps_output/...   \n",
       "\n",
       "                                             local_path  \\\n",
       "0     /projects/my-private-bucket/dps_output/run_bor...   \n",
       "1     /projects/my-private-bucket/dps_output/run_bor...   \n",
       "2     /projects/my-private-bucket/dps_output/run_bor...   \n",
       "3     /projects/my-private-bucket/dps_output/run_bor...   \n",
       "4     /projects/my-private-bucket/dps_output/run_bor...   \n",
       "...                                                 ...   \n",
       "4629  /projects/my-private-bucket/dps_output/run_bor...   \n",
       "4630  /projects/my-private-bucket/dps_output/run_bor...   \n",
       "4631  /projects/my-private-bucket/dps_output/run_bor...   \n",
       "4632  /projects/my-private-bucket/dps_output/run_bor...   \n",
       "4633  /projects/my-private-bucket/dps_output/run_bor...   \n",
       "\n",
       "                                         file  tile_num  \n",
       "0      boreal_agb_202211171668646589_1327.tif      1327  \n",
       "1      boreal_agb_202211171668646584_0480.tif       480  \n",
       "2      boreal_agb_202211171668646291_2566.tif      2566  \n",
       "3     boreal_agb_202211171668645668_24615.tif     24615  \n",
       "4      boreal_agb_202211171668645520_0868.tif       868  \n",
       "...                                       ...       ...  \n",
       "4629  boreal_agb_202211111668206230_25745.tif     25745  \n",
       "4630  boreal_agb_202211111668205557_26297.tif     26297  \n",
       "4631   boreal_agb_202211111668204586_3943.tif      3943  \n",
       "4632  boreal_agb_202211111668204477_37079.tif     37079  \n",
       "4633   boreal_agb_202211111668203884_2348.tif      2348  \n",
       "\n",
       "[4634 rows x 5 columns]"
      ]
     },
     "execution_count": 53,
     "metadata": {},
     "output_type": "execute_result"
    }
   ],
   "source": [
    "import s3fs\n",
    "import os\n",
    "\n",
    "import pyreadr\n",
    "import pandas as pd\n",
    "\n",
    "AGB_tindex_fn = '/projects/my-public-bucket/DPS_tile_lists/AGB/fall2022/map_boreal_2022_v3/11/AGB_tindex_master.csv'#.replace('/projects/my-public-bucket','s3://maap-ops-workspace/shared/lduncanson')\n",
    "s3 = s3fs.S3FileSystem(anon=True)\n",
    "tindex = pd.read_csv(AGB_tindex_fn)\n",
    "tindex"
   ]
  },
  {
   "cell_type": "code",
   "execution_count": 56,
   "id": "1205210e",
   "metadata": {},
   "outputs": [
    {
     "data": {
      "text/plain": [
       "'/projects/my-private-bucket/dps_output/run_boreal_biomass_quick_v2_ubuntu/map_boreal_2022_v3/2022/11/11/22/38/21/238233/boreal_agb_202211111668206230_25745.tif'"
      ]
     },
     "execution_count": 56,
     "metadata": {},
     "output_type": "execute_result"
    }
   ],
   "source": [
    "tindex.tail().local_path.to_list()[0]"
   ]
  },
  {
   "cell_type": "code",
   "execution_count": 54,
   "id": "c33d6d5f",
   "metadata": {},
   "outputs": [
    {
     "name": "stdout",
     "output_type": "stream",
     "text": [
      "s3://maap-ops-workspace/lduncanson/dps_output/run_boreal_biomass_quick_v2_ubuntu/map_boreal_2022_v3/2022/11/11/22/38/21/238233/boreal_agb_202211111668206230_25745_stats.Rds\n"
     ]
    }
   ],
   "source": [
    "\n",
    "\n",
    "rds_fn = tindex.tail().local_path.to_list()[0].replace('.tif', '_stats.Rds').replace('/projects/my-private-bucket','s3://maap-ops-workspace/lduncanson')\n",
    "print(rds_fn)\n",
    "rds_fn\n",
    "local_rds_fn = '/projects/test_data/' + os.path.basename(rds_fn)\n",
    "local_rds_fn\n",
    "\n",
    "s3 = s3fs.S3FileSystem(anon=True)\n",
    "s3.download(rds_fn, local_rds_fn)\n",
    "\n",
    "result = pyreadr.read_r(local_rds_fn) # also works for RData\n",
    "\n",
    "# done! \n",
    "# result is a dictionary where keys are the name of objects and the values python\n",
    "# objects. In the case of Rds there is only one object with None as key\n",
    "#df = result[None] # extract the pandas data frame "
   ]
  },
  {
   "cell_type": "code",
   "execution_count": 55,
   "id": "e4ebab29",
   "metadata": {},
   "outputs": [
    {
     "data": {
      "text/plain": [
       "OrderedDict()"
      ]
     },
     "execution_count": 55,
     "metadata": {},
     "output_type": "execute_result"
    }
   ],
   "source": [
    "result"
   ]
  },
  {
   "cell_type": "code",
   "execution_count": null,
   "id": "278acbe5",
   "metadata": {},
   "outputs": [],
   "source": []
  }
 ],
 "metadata": {
  "kernelspec": {
   "display_name": "Python 3 (ipykernel)",
   "language": "python",
   "name": "python3"
  },
  "language_info": {
   "codemirror_mode": {
    "name": "ipython",
    "version": 3
   },
   "file_extension": ".py",
   "mimetype": "text/x-python",
   "name": "python",
   "nbconvert_exporter": "python",
   "pygments_lexer": "ipython3",
   "version": "3.7.8"
  }
 },
 "nbformat": 4,
 "nbformat_minor": 5
}
