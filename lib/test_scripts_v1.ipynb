{
 "cells": [
  {
   "cell_type": "markdown",
   "id": "1ef00a4a",
   "metadata": {},
   "source": [
    "# Test scripts on command line\n",
    "Use this notebook as a test space"
   ]
  },
  {
   "cell_type": "code",
   "execution_count": 1,
   "id": "c822ae12",
   "metadata": {},
   "outputs": [
    {
     "name": "stderr",
     "output_type": "stream",
     "text": [
      "/projects/.local/lib/python3.7/site-packages/geopandas/_compat.py:110: UserWarning: The Shapely GEOS version (3.8.0-CAPI-1.13.1 ) is incompatible with the GEOS version PyGEOS was compiled with (3.10.1-CAPI-1.16.0). Conversions between both will be slow.\n",
      "  shapely_geos_version, geos_capi_version_string\n"
     ]
    }
   ],
   "source": [
    "from platform import python_version\n",
    "python_version()\n",
    "import sys\n",
    "sys.path.append('/projects/icesat2_boreal/lib')\n",
    "sys.path.append('/projects/Developer/icesat2_boreal/lib')\n",
    "import ExtractUtils\n",
    "from pyproj import CRS, Transformer\n"
   ]
  },
  {
   "cell_type": "code",
   "execution_count": 70,
   "id": "6403042f",
   "metadata": {},
   "outputs": [
    {
     "name": "stdout",
     "output_type": "stream",
     "text": [
      "/projects/.local/lib/python3.7/site-packages/geopandas/_compat.py:110: UserWarning: The Shapely GEOS version (3.8.0-CAPI-1.13.1 ) is incompatible with the GEOS version PyGEOS was compiled with (3.9.1-CAPI-1.14.2). Conversions between both will be slow.\n",
      "  shapely_geos_version, geos_capi_version_string\n",
      "\n",
      "Building a list of tiles:  ATL08\n",
      "\n",
      "Output dir:  /projects/my-public-bucket/DPS_tile_lists\n",
      "# of duplicate tiles: 46584\n",
      "Final # of tiles: 46166\n",
      "df shape :                                              s3_path  ... tile_num\n",
      "0  s3://maap-ops-workspace/lduncanson/dps_output/...  ...       NA\n",
      "1  s3://maap-ops-workspace/lduncanson/dps_output/...  ...       NA\n",
      "2  s3://maap-ops-workspace/lduncanson/dps_output/...  ...       NA\n",
      "3  s3://maap-ops-workspace/lduncanson/dps_output/...  ...       NA\n",
      "4  s3://maap-ops-workspace/lduncanson/dps_output/...  ...       NA\n",
      "\n",
      "[5 rows x 4 columns]\n",
      "Writing tindex master csv: /projects/my-public-bucket/DPS_tile_lists/ATL08_tindex_master.csv\n"
     ]
    }
   ],
   "source": [
    "!python /projects/icesat2_boreal/lib/build_tindex_master.py -t ATL08_filt -y 2022 -m run_LC_height_thresholds -o /projects/my-private-bucket/"
   ]
  },
  {
   "cell_type": "code",
   "execution_count": 6,
   "id": "9b460b1e",
   "metadata": {},
   "outputs": [
    {
     "data": {
      "text/html": [
       "<div>\n",
       "<style scoped>\n",
       "    .dataframe tbody tr th:only-of-type {\n",
       "        vertical-align: middle;\n",
       "    }\n",
       "\n",
       "    .dataframe tbody tr th {\n",
       "        vertical-align: top;\n",
       "    }\n",
       "\n",
       "    .dataframe thead th {\n",
       "        text-align: right;\n",
       "    }\n",
       "</style>\n",
       "<table border=\"1\" class=\"dataframe\">\n",
       "  <thead>\n",
       "    <tr style=\"text-align: right;\">\n",
       "      <th></th>\n",
       "      <th>id</th>\n",
       "      <th>key</th>\n",
       "      <th>s3</th>\n",
       "      <th>geometry</th>\n",
       "    </tr>\n",
       "  </thead>\n",
       "  <tbody>\n",
       "    <tr>\n",
       "      <th>0</th>\n",
       "      <td>Copernicus_DSM_COG_10_N80_00_W104_00_DEM</td>\n",
       "      <td>Copernicus_DSM_COG_10_N80_00_W104_00_DEM/Coper...</td>\n",
       "      <td>s3://copernicus-dem-30m/Copernicus_DSM_COG_10_...</td>\n",
       "      <td>POLYGON ((-104.00069 80.00014, -104.00069 81.0...</td>\n",
       "    </tr>\n",
       "    <tr>\n",
       "      <th>1</th>\n",
       "      <td>Copernicus_DSM_COG_10_N80_00_W103_00_DEM</td>\n",
       "      <td>Copernicus_DSM_COG_10_N80_00_W103_00_DEM/Coper...</td>\n",
       "      <td>s3://copernicus-dem-30m/Copernicus_DSM_COG_10_...</td>\n",
       "      <td>POLYGON ((-103.00069 80.00014, -103.00069 81.0...</td>\n",
       "    </tr>\n",
       "    <tr>\n",
       "      <th>2</th>\n",
       "      <td>Copernicus_DSM_COG_10_N80_00_W102_00_DEM</td>\n",
       "      <td>Copernicus_DSM_COG_10_N80_00_W102_00_DEM/Coper...</td>\n",
       "      <td>s3://copernicus-dem-30m/Copernicus_DSM_COG_10_...</td>\n",
       "      <td>POLYGON ((-102.00069 80.00014, -102.00069 81.0...</td>\n",
       "    </tr>\n",
       "    <tr>\n",
       "      <th>3</th>\n",
       "      <td>Copernicus_DSM_COG_10_N80_00_W101_00_DEM</td>\n",
       "      <td>Copernicus_DSM_COG_10_N80_00_W101_00_DEM/Coper...</td>\n",
       "      <td>s3://copernicus-dem-30m/Copernicus_DSM_COG_10_...</td>\n",
       "      <td>POLYGON ((-101.00069 80.00014, -101.00069 81.0...</td>\n",
       "    </tr>\n",
       "    <tr>\n",
       "      <th>4</th>\n",
       "      <td>Copernicus_DSM_COG_10_N80_00_W100_00_DEM</td>\n",
       "      <td>Copernicus_DSM_COG_10_N80_00_W100_00_DEM/Coper...</td>\n",
       "      <td>s3://copernicus-dem-30m/Copernicus_DSM_COG_10_...</td>\n",
       "      <td>POLYGON ((-100.00069 80.00014, -100.00069 81.0...</td>\n",
       "    </tr>\n",
       "  </tbody>\n",
       "</table>\n",
       "</div>"
      ],
      "text/plain": [
       "                                         id  \\\n",
       "0  Copernicus_DSM_COG_10_N80_00_W104_00_DEM   \n",
       "1  Copernicus_DSM_COG_10_N80_00_W103_00_DEM   \n",
       "2  Copernicus_DSM_COG_10_N80_00_W102_00_DEM   \n",
       "3  Copernicus_DSM_COG_10_N80_00_W101_00_DEM   \n",
       "4  Copernicus_DSM_COG_10_N80_00_W100_00_DEM   \n",
       "\n",
       "                                                 key  \\\n",
       "0  Copernicus_DSM_COG_10_N80_00_W104_00_DEM/Coper...   \n",
       "1  Copernicus_DSM_COG_10_N80_00_W103_00_DEM/Coper...   \n",
       "2  Copernicus_DSM_COG_10_N80_00_W102_00_DEM/Coper...   \n",
       "3  Copernicus_DSM_COG_10_N80_00_W101_00_DEM/Coper...   \n",
       "4  Copernicus_DSM_COG_10_N80_00_W100_00_DEM/Coper...   \n",
       "\n",
       "                                                  s3  \\\n",
       "0  s3://copernicus-dem-30m/Copernicus_DSM_COG_10_...   \n",
       "1  s3://copernicus-dem-30m/Copernicus_DSM_COG_10_...   \n",
       "2  s3://copernicus-dem-30m/Copernicus_DSM_COG_10_...   \n",
       "3  s3://copernicus-dem-30m/Copernicus_DSM_COG_10_...   \n",
       "4  s3://copernicus-dem-30m/Copernicus_DSM_COG_10_...   \n",
       "\n",
       "                                            geometry  \n",
       "0  POLYGON ((-104.00069 80.00014, -104.00069 81.0...  \n",
       "1  POLYGON ((-103.00069 80.00014, -103.00069 81.0...  \n",
       "2  POLYGON ((-102.00069 80.00014, -102.00069 81.0...  \n",
       "3  POLYGON ((-101.00069 80.00014, -101.00069 81.0...  \n",
       "4  POLYGON ((-100.00069 80.00014, -100.00069 81.0...  "
      ]
     },
     "execution_count": 6,
     "metadata": {},
     "output_type": "execute_result"
    },
    {
     "data": {
      "image/png": "[encoded data removed]",
      "text/plain": [
       "<Figure size 432x288 with 1 Axes>"
      ]
     },
     "metadata": {
      "needs_background": "light"
     },
     "output_type": "display_data"
    }
   ],
   "source": [
    "import geopandas\n",
    "\n",
    "dem_tiles_index_path = '/projects/shared-buckets/nathanmthomas/dem30m_tiles.geojson'\n",
    "dem_tiles_index = geopandas.read_file(dem_tiles_index_path)\n",
    "dem_tiles_index['tile_num'] = dem_tiles_index.index\n",
    "\n",
    "boreal_tile_index_path = '/projects/shared-buckets/nathanmthomas/boreal_tiles_v003.gpkg'\n",
    "boreal_tile_index = geopandas.read_file(boreal_tile_index_path)\n",
    "boreal_tile_index.plot(column='tile_version')\n",
    "\n",
    "#boreal_tile_index[boreal_tile_index.tile_version=='version 2']"
   ]
  },
  {
   "cell_type": "code",
   "execution_count": 2,
   "id": "f06b96a2",
   "metadata": {},
   "outputs": [
    {
     "ename": "NameError",
     "evalue": "name 'dem_tiles_index' is not defined",
     "output_type": "error",
     "traceback": [
      "\u001b[0;31m---------------------------------------------------------------------------\u001b[0m",
      "\u001b[0;31mNameError\u001b[0m                                 Traceback (most recent call last)",
      "\u001b[0;32m/tmp/ipykernel_9367/3632804333.py\u001b[0m in \u001b[0;36m<module>\u001b[0;34m\u001b[0m\n\u001b[0;32m----> 1\u001b[0;31m \u001b[0mdem_tiles_index\u001b[0m\u001b[0;34m.\u001b[0m\u001b[0mtile_num\u001b[0m\u001b[0;34m.\u001b[0m\u001b[0mto_list\u001b[0m\u001b[0;34m(\u001b[0m\u001b[0;34m)\u001b[0m\u001b[0;34m.\u001b[0m\u001b[0msort\u001b[0m\u001b[0;34m(\u001b[0m\u001b[0;34m)\u001b[0m\u001b[0;34m\u001b[0m\u001b[0;34m\u001b[0m\u001b[0m\n\u001b[0m",
      "\u001b[0;31mNameError\u001b[0m: name 'dem_tiles_index' is not defined"
     ]
    }
   ],
   "source": [
    "dem_tiles_index.tile_num.to_list().sort()"
   ]
  },
  {
   "cell_type": "code",
   "execution_count": null,
   "id": "3d1eea1c",
   "metadata": {},
   "outputs": [],
   "source": [
    "import sys\n",
    "sys.path.append('/projects/icesat2_boreal/lib')\n",
    "import maplib_folium"
   ]
  },
  {
   "cell_type": "code",
   "execution_count": 2,
   "id": "972279e2",
   "metadata": {},
   "outputs": [],
   "source": [
    "TILE_NUM = 131"
   ]
  },
  {
   "cell_type": "code",
   "execution_count": 22,
   "id": "af89ae4d",
   "metadata": {},
   "outputs": [
    {
     "name": "stdout",
     "output_type": "stream",
     "text": [
      "/projects/.local/lib/python3.7/site-packages/geopandas/_compat.py:110: UserWarning: The Shapely GEOS version (3.8.0-CAPI-1.13.1 ) is incompatible with the GEOS version PyGEOS was compiled with (3.9.1-CAPI-1.14.2). Conversions between both will be slow.\n",
      "  shapely_geos_version, geos_capi_version_string\n",
      "The DEM filename(s) intersecting the 120 m bbox for tile id 42935:\n",
      " s3://copernicus-dem-30m/Copernicus_DSM_COG_10_N63_00_W171_00_DEM/Copernicus_DSM_COG_10_N63_00_W171_00_DEM.tif\n",
      "s3://copernicus-dem-30m/Copernicus_DSM_COG_10_N63_00_W172_00_DEM/Copernicus_DSM_COG_10_N63_00_W172_00_DEM.tif\n",
      "Orig stack shape:  (1, 3008, 3008)\n",
      "Output resolution:  (30, 30)\n",
      "Writing img to memory...\n",
      "/projects/icesat2_boreal/lib/3.1.5_dps.py:120: RasterioDeprecationWarning: Source dataset should be opened in read-only mode. Use of datasets opened in modes other than 'r' will be disallowed in a future version.\n",
      "  write_cog(mosaic, dem_cog_fn, tile_parts['tile_crs'], out_trans, [\"elevation\"], out_crs=tile_parts['tile_crs'], resolution=(res, res))\n",
      "{'driver': 'VRT', 'dtype': 'float32', 'nodata': nan, 'width': 3008, 'height': 3008, 'count': 1, 'crs': CRS.from_wkt('PROJCS[\"unknown\",GEOGCS[\"unknown\",DATUM[\"Unknown based on GRS80 ellipsoid\",SPHEROID[\"GRS 1980\",6378137,298.257222101,AUTHORITY[\"EPSG\",\"7019\"]],TOWGS84[0,0,0,0,0,0,0]],PRIMEM[\"Greenwich\",0,AUTHORITY[\"EPSG\",\"8901\"]],UNIT[\"degree\",0.0174532925199433]],PROJECTION[\"Albers_Conic_Equal_Area\"],PARAMETER[\"latitude_of_center\",40],PARAMETER[\"longitude_of_center\",180],PARAMETER[\"standard_parallel_1\",50],PARAMETER[\"standard_parallel_2\",70],PARAMETER[\"false_easting\",0],PARAMETER[\"false_northing\",0],UNIT[\"metre\",1,AUTHORITY[\"EPSG\",\"9001\"]],AXIS[\"Easting\",EAST],AXIS[\"Northing\",NORTH]]'), 'transform': Affine(30.0, 0.0, 368401.99999999534,\n",
      "       0.0, -30.0, 2673424.0000000093), 'blockxsize': 512, 'blockysize': 128, 'tiled': True}\n",
      "Reading input: <open WarpedVRT name='WarpedVRT(/vsimem/b0525bf0-d830-40db-86a7-c4fea795db23/b0525bf0-d830-40db-86a7-c4fea795db23.tif)' mode='r'>\n",
      "\u001b[?25l  [####################################]  100%\u001b[?25h\n",
      "Adding overviews...\n",
      "Updating dataset tags...\n",
      "Writing output to: /projects/tmp/Copernicus_42935_covars_cog.tif\n",
      "Image written to disk:  /projects/tmp/Copernicus_42935_covars_cog.tif\n",
      "Opening DEM...\n",
      "NoData Value:  0.0\n",
      "| 30.00, 0.00, 368402.00|\n",
      "| 0.00,-30.00, 2673424.00|\n",
      "| 0.00, 0.00, 1.00|\n",
      "Calculating Slope...\n",
      "NoData Value:  -9999.0\n",
      "Calculating TPI...\n",
      "NoData Value:  -9999.0\n",
      "Calculating TSRI...\n",
      "NoData Value:  -9999.0\n",
      "Slope mask created to indicate water where slope = 0\n",
      "Orig stack shape:  (5, 3008, 3008)\n",
      "Output resolution:  (30, 30)\n",
      "Writing img to memory...\n",
      "/projects/icesat2_boreal/lib/CovariateUtils_topo.py:203: RasterioDeprecationWarning: Source dataset should be opened in read-only mode. Use of datasets opened in modes other than 'r' will be disallowed in a future version.\n",
      "  align = True)\n",
      "{'driver': 'VRT', 'dtype': 'float32', 'nodata': nan, 'width': 3000, 'height': 3000, 'count': 5, 'crs': CRS.from_wkt('PROJCS[\"unknown\",GEOGCS[\"unknown\",DATUM[\"Unknown based on GRS80 ellipsoid\",SPHEROID[\"GRS 1980\",6378137,298.257222101,AUTHORITY[\"EPSG\",\"7019\"]],TOWGS84[0,0,0,0,0,0,0]],PRIMEM[\"Greenwich\",0,AUTHORITY[\"EPSG\",\"8901\"]],UNIT[\"degree\",0.0174532925199433]],PROJECTION[\"Albers_Conic_Equal_Area\"],PARAMETER[\"latitude_of_center\",40],PARAMETER[\"longitude_of_center\",180],PARAMETER[\"standard_parallel_1\",50],PARAMETER[\"standard_parallel_2\",70],PARAMETER[\"false_easting\",0],PARAMETER[\"false_northing\",0],UNIT[\"metre\",1,AUTHORITY[\"EPSG\",\"9001\"]],AXIS[\"Easting\",EAST],AXIS[\"Northing\",NORTH]]'), 'transform': Affine(30.0, 0.0, 368521.99999999534,\n",
      "       0.0, -30.0, 2673304.0000000093), 'blockxsize': 512, 'blockysize': 128, 'tiled': True}\n",
      "Reading input: <open WarpedVRT name='WarpedVRT(/vsimem/5fb0b51b-5dbc-489f-9e7a-74be105f6187/5fb0b51b-5dbc-489f-9e7a-74be105f6187.tif)' mode='r'>\n",
      "\u001b[?25l  [####################################]  100%          \u001b[?25h\n",
      "Adding overviews...\n",
      "Updating dataset tags...\n",
      "Writing output to: /projects/test_data/Copernicus_42935_covars_cog_topo_stack.tif\n",
      "Image written to disk:  /projects/test_data/Copernicus_42935_covars_cog_topo_stack.tif\n",
      "Output topo covariate stack COG:  /projects/test_data/Copernicus_42935_covars_cog_topo_stack.tif\n"
     ]
    }
   ],
   "source": [
    "args = f\"--in_tile_fn /projects/shared-buckets/nathanmthomas/boreal_tiles_v003.gpkg \\\n",
    "--in_tile_num {TILE_NUM} \\\n",
    "--tile_buffer_m 120 \\\n",
    "--in_tile_layer boreal_tiles_v003 \\\n",
    "-o /projects/test_data/ \\\n",
    "--topo_tile_fn /projects/shared-buckets/nathanmthomas/dem30m_tiles.geojson\"\n",
    "!python /projects/icesat2_boreal/lib/3.1.5_dps.py $args"
   ]
  },
  {
   "cell_type": "code",
   "execution_count": 14,
   "id": "bfff875c",
   "metadata": {},
   "outputs": [
    {
     "name": "stdout",
     "output_type": "stream",
     "text": [
      "Requirement already satisfied: pystac_client in /opt/conda/lib/python3.7/site-packages (0.3.2)\n",
      "Requirement already satisfied: requests>=2.25 in /projects/.local/lib/python3.7/site-packages (from pystac_client) (2.27.1)\n",
      "Requirement already satisfied: pystac~=1.2.0 in /opt/conda/lib/python3.7/site-packages (from pystac_client) (1.2.0)\n",
      "Requirement already satisfied: python-dateutil>=2.7.0 in /projects/.local/lib/python3.7/site-packages (from pystac~=1.2.0->pystac_client) (2.8.0)\n",
      "Requirement already satisfied: typing-extensions>=3.7 in /opt/conda/lib/python3.7/site-packages (from pystac~=1.2.0->pystac_client) (3.7.4.3)\n",
      "Requirement already satisfied: certifi>=2017.4.17 in /opt/conda/lib/python3.7/site-packages (from requests>=2.25->pystac_client) (2020.12.5)\n",
      "Requirement already satisfied: urllib3<1.27,>=1.21.1 in /projects/.local/lib/python3.7/site-packages (from requests>=2.25->pystac_client) (1.26.7)\n",
      "Requirement already satisfied: idna<4,>=2.5 in /opt/conda/lib/python3.7/site-packages (from requests>=2.25->pystac_client) (2.8)\n",
      "Requirement already satisfied: charset-normalizer~=2.0.0 in /projects/.local/lib/python3.7/site-packages (from requests>=2.25->pystac_client) (2.0.10)\n",
      "Requirement already satisfied: six>=1.5 in /opt/conda/lib/python3.7/site-packages (from python-dateutil>=2.7.0->pystac~=1.2.0->pystac_client) (1.12.0)\n",
      "\u001b[33mWARNING: Running pip as the 'root' user can result in broken permissions and conflicting behaviour with the system package manager. It is recommended to use a virtual environment instead: https://pip.pypa.io/warnings/venv\u001b[0m\u001b[33m\n",
      "\u001b[0m/projects/.local/lib/python3.7/site-packages/geopandas/_compat.py:110: UserWarning: The Shapely GEOS version (3.8.0-CAPI-1.13.1 ) is incompatible with the GEOS version PyGEOS was compiled with (3.9.1-CAPI-1.14.2). Conversions between both will be slow.\n",
      "  shapely_geos_version, geos_capi_version_string\n",
      "06-01\n",
      "geopkg path =  /projects/shared-buckets/lduncanson/dem30m_tiles_v2.geojson\n",
      "tile number =  12967\n",
      "output resolution =  30\n",
      "in_bbox =  [-15.000138888888898, 13.000138888888884, -14.000138888888898, 14.000138888888884]\n",
      "get HLS data\n",
      "run function\n",
      "opening client\n",
      "start_month_day 06-01\n",
      "start date, end date =  2020-06-01T00:00:00Z 2020-06-15T23:59:59Z\n",
      "conducting search\n",
      "initial results =  4\n",
      "filtered results =  4\n",
      "opening client\n",
      "start_month_day 06-01\n",
      "start date, end date =  2021-06-01T00:00:00Z 2021-06-15T23:59:59Z\n",
      "conducting search\n",
      "initial results =  8\n",
      "filtered results =  7\n",
      "4\n",
      "Number of files per band = 11\n",
      "s3://lp-prod-protected/HLSL30.020/HLS.L30.T28PDA.2020159T112051.v2.0/HLS.L30.T28PDA.2020159T112051.v2.0.B02.tif\n",
      "Number of files per band = 11\n",
      "Creating NDVI stack...\n",
      "HLS\n",
      "finished\n",
      "Make NDVI valid mask\n",
      "/projects/.local/lib/python3.7/site-packages/numpy/ma/core.py:2830: VisibleDeprecationWarning: Creating an ndarray from ragged nested sequences (which is a list-or-tuple of lists-or-tuples-or ndarrays with different lengths or shapes) is deprecated. If you meant to do this, you must specify 'dtype=object' when creating the ndarray.\n",
      "  order=order, subok=True, ndmin=ndmin)\n",
      "shape =  (11,)\n",
      "Traceback (most recent call last):\n",
      "  File \"3.1.2_dps.py\", line 464, in <module>\n",
      "    main()\n",
      "  File \"3.1.2_dps.py\", line 357, in main\n",
      "    MaxNDVI = np.ma.max(np.ma.array(NDVIstack),axis=0)\n",
      "  File \"/projects/.local/lib/python3.7/site-packages/numpy/ma/core.py\", line 6713, in max\n",
      "    return obj.max(axis=axis, fill_value=fill_value, out=out, **kwargs)\n",
      "  File \"/projects/.local/lib/python3.7/site-packages/numpy/ma/core.py\", line 5835, in max\n",
      "    axis=axis, out=out, **kwargs).view(type(self))\n",
      "  File \"/projects/.local/lib/python3.7/site-packages/numpy/core/_methods.py\", line 40, in _amax\n",
      "    return umr_maximum(a, axis, None, out, keepdims, initial, where)\n",
      "ValueError: operands could not be broadcast together with shapes (3642,3642) (3649,3649) \n"
     ]
    }
   ],
   "source": [
    "!pip install pystac_client\n",
    "\n",
    "TILE_NUM = 12967\n",
    "INDEX_FN = '/projects/shared-buckets/lduncanson/dem30m_tiles_v2.geojson'#\n",
    "INDEX_LYR = 'dem30m_tiles_v2'\n",
    "\n",
    "TILE_NUM = 3421\n",
    "INDEX_FN = '/projects/shared-buckets/nathanmthomas/boreal_tiles_v003.gpkg'\n",
    "INDEX_LYR = 'boreal_tiles_v003'\n",
    "\n",
    "args = f\"-i {INDEX_FN} \\\n",
    "--in_tile_num {TILE_NUM} \\\n",
    "-lyr {INDEX_LYR} \\\n",
    "-o /projects/test_data \\\n",
    "-a https://cmr.earthdata.nasa.gov/stac/LPCLOUD \\\n",
    "--tile_buffer_m 0 \\\n",
    "-sy 2020 -ey 2021 -smd 06-01 -emd 06-15 -mc 40 -t HLS\"\n",
    "!python 3.1.2_dps.py $args"
   ]
  },
  {
   "cell_type": "code",
   "execution_count": 9,
   "id": "9432847d",
   "metadata": {},
   "outputs": [
    {
     "name": "stdout",
     "output_type": "stream",
     "text": [
      "--updated_filters --extract_covars --do_30m --do_dps -years_list 2019 2020 2021 -o /projects/my-public-bucket/atl08_filt_covar_tiles -in_tile_num 10 -in_tile_fn /projects/shared-buckets/nathanmthomas/boreal_tiles_v003.gpkg -in_tile_layer boreal_tiles_v003 -in_tile_id_col tile_num -csv_list_fn /projects/shared-buckets/lduncanson/DPS_tile_lists/ATL08_tindex_master.csv -topo_stack_list_fn /projects/shared-buckets/nathanmthomas/DPS_tile_lists/Topo_tindex_master.csv -landsat_stack_list_fn /projects/shared-buckets/nathanmthomas/DPS_tile_lists/Landsat_tindex_master.csv -user_stacks nathanmthomas -user_atl08 lduncanson -thresh_sol_el 5 -v_ATL08 5 -minmonth 4 -maxmonth 10\n",
      "/projects/.local/lib/python3.7/site-packages/geopandas/_compat.py:110: UserWarning: The Shapely GEOS version (3.8.0-CAPI-1.13.1 ) is incompatible with the GEOS version PyGEOS was compiled with (3.9.1-CAPI-1.14.2). Conversions between both will be slow.\n",
      "  shapely_geos_version, geos_capi_version_string\n",
      "\n",
      "Working on tile:\t 10\n",
      "From layer:\t\t boreal_tiles_v003\n",
      "In vector file:\t\t /projects/shared-buckets/nathanmthomas/boreal_tiles_v003.gpkg\n",
      "ATL08 version:\t\t 5\n",
      "Season start:\t\t 04-01\n",
      "Season end:\t\t 10-31\n",
      "Years:\t\t\t [2019, 2020, 2021]\n",
      "ATL08 bin length:\t 30m\n",
      "\n",
      "Doing MAAP query by tile bounds to find all intersecting ATL08 \n",
      "\tTILE_NUM: 10 (7.483984605164516,57.14696993683849,9.605428102161962,58.25312321456532)\n",
      "\tSearching MAAP for granules using these parameters: \n",
      "\t[{'short_name': 'ATL08', 'version': '005', 'bounding_box': '7.483984605164516,57.14696993683849,9.605428102161962,58.25312321456532', 'limit': 10000, 'temporal': '2019-04-01T00:00:00Z,2019-10-31T23:59:59Z'}, {'short_name': 'ATL08', 'version': '005', 'bounding_box': '7.483984605164516,57.14696993683849,9.605428102161962,58.25312321456532', 'limit': 10000, 'temporal': '2020-04-01T00:00:00Z,2020-10-31T23:59:59Z'}, {'short_name': 'ATL08', 'version': '005', 'bounding_box': '7.483984605164516,57.14696993683849,9.605428102161962,58.25312321456532', 'limit': 10000, 'temporal': '2021-04-01T00:00:00Z,2021-10-31T23:59:59Z'}]\n",
      "\t\t# ATL08 for tile 10: 163\n",
      "\n",
      "This is either a DPS job (for which the CSV has an s3 path, or the CSV exists locally.)\n",
      "\n",
      "Reading existing list of ATL08 CSVs: /projects/shared-buckets/lduncanson/DPS_tile_lists/ATL08_tindex_master.csv\n",
      "\tDoing 30m ATL08 data?  True\n",
      "\tFind ATL08 CSVs you expect for a tile based on the h5 granule search...\n",
      "\t\t# of all ATL08 granules for tile: 163\n",
      "\t\t# of all_atl08_csvs: 46166\n",
      "\t# of ATL08 CSV found for tile 10: 134\n",
      "\t# of ATL08 CSV NOT found for tile 10: 29\n",
      "Creating pandas data frame...\n",
      "\n",
      "Pre-filter data cleaning...\n",
      "Pandas version: 1.2.2\n",
      "\tGet beam type from orbit orientation and ground track: ['Weak' 'Strong']\n",
      "\tCast some columns to:\n",
      "\t\ttype float: ['lat', 'lon', 'h_can', 'h_te_best', 'ter_slp']\n",
      "\t\ttype integer: ['n_ca_ph', 'n_seg_ph', 'n_toc_ph']\n",
      "\n",
      "Filtering by tile: 10\n",
      "[7.483984605164516, 9.605428102161962, 57.14696993683849, 58.25312321456532]\n",
      "Quality filtering with aggressive land-cover based (v3) filters updated in Jan/Feb 2022 ...\n",
      "\n",
      "Filtering by quality\n",
      "\tBefore quality filtering: \t\t128514 observations in the input dataframe.\n",
      "\tAfter msw_flg=0: \t\t75771 observations in the dataframe.\n",
      "\tAfter beam_type=Strong: \t\t52549 observations in the dataframe.\n",
      "\tAfter seg_snow=1: \t\t3064 observations in the dataframe.\n",
      "\tLand cover threshold dictionary: \n",
      "{0: 0, 111: 60, 113: 60, 112: 60, 114: 60, 115: 60, 116: 60, 121: 50, 123: 50, 122: 50, 124: 50, 125: 50, 126: 50, 20: 20, 30: 10, 90: 10, 100: 5, 60: 5, 40: 0, 50: 0, 70: 0, 80: 0, 200: 0}\n",
      "\tAfter land-cover specific h_can thresholds: \t\t451 observations in the dataframe.\n",
      "\tAfter h_can_unc <5, seg_cover<32767, sol_el<5, sig_topo<2.5, h_dif_ref<25: \t\t0 observations in the dataframe.\n",
      "\tAfter month filters: 4-10\n",
      "\tAfter all quality filtering: \t\t0 observations in the output dataframe.\n",
      "\tReturning a pandas data frame.\n",
      "\tFiltered obs. for columns: ['lon', 'lat', 'rh25', 'rh50', 'rh60', 'rh70', 'rh75', 'rh80', 'rh90', 'h_can', 'h_max_can', 'ter_slp', 'h_te_best', 'seg_landcov', 'sol_el', 'y', 'm', 'doy', 'seg_cover']\n",
      "\tData frame shape: (0, 19) \n",
      "No ATL08 obs. for tile 10\n",
      "CPU times: user 4.91 s, sys: 1.81 s, total: 6.72 s\n",
      "Wall time: 7min 12s\n"
     ]
    }
   ],
   "source": [
    "%%time\n",
    "args = f\"\\\n",
    "-LC_filter True \\\n",
    "--extract_covars \\\n",
    "--do_30m \\\n",
    "--do_dps \\\n",
    "-years_list 2019 2020 2021 \\\n",
    "-o /projects/my-public-bucket/atl08_filt_covar_tiles \\\n",
    "-in_tile_num {TILE_NUM} \\\n",
    "-in_tile_fn /projects/shared-buckets/nathanmthomas/boreal_tiles_v003.gpkg \\\n",
    "-in_tile_layer boreal_tiles_v003 \\\n",
    "-in_tile_id_col tile_num \\\n",
    "-csv_list_fn /projects/shared-buckets/lduncanson/DPS_tile_lists/ATL08_tindex_master.csv \\\n",
    "-topo_stack_list_fn /projects/shared-buckets/nathanmthomas/DPS_tile_lists/Topo_tindex_master.csv \\\n",
    "-landsat_stack_list_fn /projects/shared-buckets/nathanmthomas/DPS_tile_lists/Landsat_tindex_master.csv \\\n",
    "-user_stacks nathanmthomas \\\n",
    "-user_atl08 lduncanson \\\n",
    "-thresh_sol_el 5 \\\n",
    "-v_ATL08 5 -minmonth 4 -maxmonth 10\"\n",
    "print(args)\n",
    "!python /projects/icesat2_boreal/lib/tile_atl08.py $args"
   ]
  }
 ],
 "metadata": {
  "kernelspec": {
   "display_name": "Python 3 (ipykernel)",
   "language": "python",
   "name": "python3"
  },
  "language_info": {
   "codemirror_mode": {
    "name": "ipython",
    "version": 3
   },
   "file_extension": ".py",
   "mimetype": "text/x-python",
   "name": "python",
   "nbconvert_exporter": "python",
   "pygments_lexer": "ipython3",
   "version": "3.7.8"
  }
 },
 "nbformat": 4,
 "nbformat_minor": 5
}
