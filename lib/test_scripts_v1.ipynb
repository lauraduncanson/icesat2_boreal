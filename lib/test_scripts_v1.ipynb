{
 "cells": [
  {
   "cell_type": "markdown",
   "id": "768bf58a",
   "metadata": {},
   "source": [
    "# Test scripts on command line\n",
    "Use this notebook as a test space"
   ]
  },
  {
   "cell_type": "code",
   "execution_count": null,
   "id": "ac3e7e02",
   "metadata": {},
   "outputs": [],
   "source": [
    "!pip install -U -r /projects/Developer/icesat2_boreal/dps/requirements_main.txt\n",
    "!pip install pystac_client\n",
    "from platform import python_version\n",
    "python_version()\n",
    "import sys\n",
    "sys.path.append('/projects/icesat2_boreal/lib')\n",
    "sys.path.append('/projects/Developer/icesat2_boreal_new/icesat2_boreal/lib')\n",
    "import ExtractUtils\n",
    "from pyproj import CRS, Transformer\n",
    "import geopandas as gpd\n",
    "import maplib_folium"
   ]
  },
  {
   "cell_type": "code",
   "execution_count": null,
   "id": "2f878dd0",
   "metadata": {},
   "outputs": [
    {
     "name": "stdout",
     "output_type": "stream",
     "text": [
      "/opt/conda/lib/python3.7/site-packages/geopandas/_compat.py:110: UserWarning: The Shapely GEOS version (3.8.0-CAPI-1.13.1 ) is incompatible with the GEOS version PyGEOS was compiled with (3.10.1-CAPI-1.16.0). Conversions between both will be slow.\n",
      "  shapely_geos_version, geos_capi_version_string\n",
      "\n",
      "Building a list of tiles:\n",
      "MAAP version:\t\tmaster\n",
      "Type:\t\tATL08\n",
      "Year:\t\t2022\n",
      "Month:\t\t['01', '02', '03']\n",
      "Days:\t\t1-31\n",
      "\n",
      "Output dir:  /projects/my-public-bucket/DPS_tile_lists\n"
     ]
    }
   ],
   "source": [
    "!python /projects/Developer/icesat2_boreal/lib/build_tindex_master.py -t ATL08 -y 2022 -m_list 01 02 03\n",
    "#!python /projects/icesat2_boreal/lib/build_tindex_master.py -t ATL08_filt -y 2022 -m run_LC_height_thresholds -o /projects/my-private-bucket/"
   ]
  },
  {
   "cell_type": "markdown",
   "id": "c762b120",
   "metadata": {},
   "source": [
    "### Read in some tiles layers"
   ]
  },
  {
   "cell_type": "code",
   "execution_count": 2,
   "id": "c70ae602",
   "metadata": {},
   "outputs": [
    {
     "data": {
      "text/plain": [
       "<matplotlib.axes._subplots.AxesSubplot at 0x7f0148159150>"
      ]
     },
     "execution_count": 2,
     "metadata": {},
     "output_type": "execute_result"
    },
    {
     "data": {
      "image/png": "[encoded data removed]",
      "text/plain": [
       "<Figure size 432x288 with 1 Axes>"
      ]
     },
     "metadata": {
      "needs_background": "light"
     },
     "output_type": "display_data"
    }
   ],
   "source": [
    "\n",
    "dem_tiles_index_path = '/projects/shared-buckets/nathanmthomas/dem30m_tiles.geojson'\n",
    "dem_tiles_index = gpd.read_file(dem_tiles_index_path)\n",
    "dem_tiles_index['tile_num'] = dem_tiles_index.index\n",
    "\n",
    "boreal_tile_index_path = '/projects/my-public-bucket/old_boreal_tiles/boreal_tiles_v003_old.gpkg'\n",
    "boreal_tile_index = gpd.read_file(boreal_tile_index_path)\n",
    "boreal_tile_index.plot(column='tile_version')\n",
    "\n",
    "#boreal_tile_index[boreal_tile_index.tile_version=='version 2']"
   ]
  },
  {
   "cell_type": "markdown",
   "id": "520d22bb",
   "metadata": {},
   "source": [
    "#### Set up vars to pass to each script"
   ]
  },
  {
   "cell_type": "code",
   "execution_count": 7,
   "id": "a8cc0b8c",
   "metadata": {},
   "outputs": [
    {
     "data": {
      "text/plain": [
       "<matplotlib.axes._subplots.AxesSubplot at 0x7f5d112d1150>"
      ]
     },
     "execution_count": 7,
     "metadata": {},
     "output_type": "execute_result"
    },
    {
     "data": {
      "image/png": "[encoded data removed]",
      "text/plain": [
       "<Figure size 432x288 with 1 Axes>"
      ]
     },
     "metadata": {
      "needs_background": "light"
     },
     "output_type": "display_data"
    }
   ],
   "source": [
    "#TILE_NUM = 12967\n",
    "#INDEX_FN = '/projects/shared-buckets/lduncanson/dem30m_tiles_v2.geojson'#\n",
    "#INDEX_LYR = 'dem30m_tiles_v2'\n",
    "\n",
    "#TILE_NUM = [38380, 37748, 2270, 2422, 2500, 2583, 2739, 2900, 2988, 2653, 2810, 2886, 2805][0]\n",
    "TILE_NUM = 3476\n",
    "INDEX_FN = '/projects/shared-buckets/nathanmthomas/boreal_tiles_v003.gpkg'\n",
    "INDEX_LYR = 'boreal_tiles_v003'\n",
    "z = gpd.read_file(INDEX_FN)\n",
    "z[z.tile_num==TILE_NUM].plot()"
   ]
  },
  {
   "cell_type": "markdown",
   "id": "7e090eae",
   "metadata": {},
   "source": [
    "#### Test a run of the topo stacks: 3.1.5_dps.py"
   ]
  },
  {
   "cell_type": "code",
   "execution_count": null,
   "id": "583fa6de",
   "metadata": {},
   "outputs": [],
   "source": [
    "args = f\"--in_tile_fn {INDEX_FN} \\\n",
    "--in_tile_num {TILE_NUM} \\\n",
    "--tile_buffer_m 120 \\\n",
    "--in_tile_layer {INDEX_LYR} \\\n",
    "-o /projects/test_data/ \\\n",
    "--topo_tile_fn /projects/shared-buckets/nathanmthomas/dem30m_tiles.geojson\"\n",
    "print(args)\n",
    "!python 3.1.5_dps.py $args"
   ]
  },
  {
   "cell_type": "markdown",
   "id": "328f4eb1",
   "metadata": {},
   "source": [
    "#### Test a run of the MS comp stacks: 3.1.2_dps.py"
   ]
  },
  {
   "cell_type": "code",
   "execution_count": 8,
   "id": "d8781d53",
   "metadata": {},
   "outputs": [
    {
     "data": {
      "text/plain": [
       "'mc25_7-01_09-01_2019_2021'"
      ]
     },
     "execution_count": 8,
     "metadata": {},
     "output_type": "execute_result"
    }
   ],
   "source": [
    "MS_DATA_TYPE = 'LS8' # 'HLS'\n",
    "if MS_DATA_TYPE == 'LS8':\n",
    "    SAT_API = 'https://landsatlook.usgs.gov/sat-api'\n",
    "else:\n",
    "    SAT_API = 'https://cmr.earthdata.nasa.gov/stac/LPCLOUD'\n",
    "MAX_CLOUDS = 25\n",
    "SEASON_START = '7-01'\n",
    "SEASON_STOP = '09-01'\n",
    "YEAR_START = '2019'\n",
    "YEAR_STOP = '2021'\n",
    "RUN_NAME = f'mc{MAX_CLOUDS}_{SEASON_START}_{SEASON_STOP}_{YEAR_START}_{YEAR_STOP}'\n",
    "RUN_NAME"
   ]
  },
  {
   "cell_type": "code",
   "execution_count": 9,
   "id": "21e367cf",
   "metadata": {},
   "outputs": [
    {
     "name": "stdout",
     "output_type": "stream",
     "text": [
      "-i /projects/shared-buckets/nathanmthomas/boreal_tiles_v003.gpkg --in_tile_num 3476 -lyr boreal_tiles_v003 -o /projects/test_data -a https://landsatlook.usgs.gov/sat-api --tile_buffer_m 0 -sy 2019 -ey 2021 -smd 7-01 -emd 09-01 -mc 25 -t LS8\n",
      "/opt/conda/lib/python3.7/site-packages/geopandas/_compat.py:110: UserWarning: The Shapely GEOS version (3.8.0-CAPI-1.13.1 ) is incompatible with the GEOS version PyGEOS was compiled with (3.10.1-CAPI-1.16.0). Conversions between both will be slow.\n",
      "  shapely_geos_version, geos_capi_version_string\n",
      "\n",
      "Tiles path:\t\t /projects/shared-buckets/nathanmthomas/boreal_tiles_v003.gpkg\n",
      "Tile number:\t\t 3476\n",
      "Output res (m):\t\t 30\n",
      "in_bbox:\t\t [3068521.9999999953, 3033304.0000000093, 3158521.9999999953, 3123304.0000000093]\n",
      "bbox 4326:\t\t [-125.09810592409934, 54.8513319681673, -123.06962644374654, 55.98147942810227]\n",
      "get ls8 data\n",
      "\n",
      "Printing tile parts:\n",
      "\t{'geom_orig':       tile_num  ...                                           geometry\n",
      "3475      3476  ...  POLYGON ((3068522.000 3123304.000, 3158522.000...\n",
      "\n",
      "[1 rows x 5 columns], 'geom_orig_buffered': 3475    POLYGON ((3068522.000 3123304.000, 3158522.000...\n",
      "dtype: geometry, 'bbox_orig': [3068521.9999999953, 3033304.0000000093, 3158521.9999999953, 3123304.0000000093], 'tile_crs': CRS.from_wkt('PROJCS[\"unnamed\",GEOGCS[\"GRS 1980(IUGG, 1980)\",DATUM[\"unknown\",SPHEROID[\"GRS80\",6378137,298.257222101],TOWGS84[0,0,0,0,0,0,0]],PRIMEM[\"Greenwich\",0],UNIT[\"degree\",0.0174532925199433]],PROJECTION[\"Albers_Conic_Equal_Area\"],PARAMETER[\"standard_parallel_1\",50],PARAMETER[\"standard_parallel_2\",70],PARAMETER[\"latitude_of_center\",40],PARAMETER[\"longitude_of_center\",180],PARAMETER[\"false_easting\",0],PARAMETER[\"false_northing\",0],UNIT[\"Meter\",1],AXIS[\"Easting\",EAST],AXIS[\"Northing\",NORTH]]'), 'geom_4326':       tile_num  ...                                           geometry\n",
      "3475      3476  ...  POLYGON ((-124.03471 55.98148, -123.06963 55.3...\n",
      "\n",
      "[1 rows x 5 columns], 'bbox_4326': [-125.09810592409934, 54.8513319681673, -123.06962644374654, 55.98147942810227], 'geom_4326_buffered': 3475    POLYGON ((-124.03471 55.98148, -123.06963 55.3...\n",
      "dtype: geometry, 'bbox_4326_buffered': [-125.09810592409934, 54.8513319681673, -123.06962644374654, 55.98147942810227]}\n",
      "range(2019, 2022)\n",
      "start date, end date:\t\t 2019-07-01T00:00:00Z 2019-09-01T23:59:59Z\n",
      "\n",
      "Conducting Landsat 8 search now...\n",
      "Search query parameters:\n",
      "{'time': '2019-07-01T00:00:00Z/2019-09-01T23:59:59Z', 'bbox': [-125.09810592409934, 54.8513319681673, -123.06962644374654, 55.98147942810227], 'query': {'collections': ['landsat-c2l2-sr'], 'platform': {'in': ['LANDSAT_8']}, 'eo:cloud_cover': {'gte': 0, 'lt': 25}, 'landsat:collection_category': {'in': ['T1']}}, 'limit': 20}\n",
      "\n",
      "\n",
      "Search complete.\n",
      "\n",
      "start date, end date:\t\t 2020-07-01T00:00:00Z 2020-09-01T23:59:59Z\n",
      "\n",
      "Conducting Landsat 8 search now...\n",
      "Search query parameters:\n",
      "{'time': '2020-07-01T00:00:00Z/2020-09-01T23:59:59Z', 'bbox': [-125.09810592409934, 54.8513319681673, -123.06962644374654, 55.98147942810227], 'query': {'collections': ['landsat-c2l2-sr'], 'platform': {'in': ['LANDSAT_8']}, 'eo:cloud_cover': {'gte': 0, 'lt': 25}, 'landsat:collection_category': {'in': ['T1']}}, 'limit': 20}\n",
      "\n",
      "\n",
      "Search complete.\n",
      "\n",
      "start date, end date:\t\t 2021-07-01T00:00:00Z 2021-09-01T23:59:59Z\n",
      "\n",
      "Conducting Landsat 8 search now...\n",
      "Search query parameters:\n",
      "{'time': '2021-07-01T00:00:00Z/2021-09-01T23:59:59Z', 'bbox': [-125.09810592409934, 54.8513319681673, -123.06962644374654, 55.98147942810227], 'query': {'collections': ['landsat-c2l2-sr'], 'platform': {'in': ['LANDSAT_8']}, 'eo:cloud_cover': {'gte': 0, 'lt': 25}, 'landsat:collection_category': {'in': ['T1']}}, 'limit': 20}\n",
      "\n",
      "\n",
      "Search complete.\n",
      "\n",
      "scene total:  [3, 5, 8]\n",
      "# of files per band:\t\t 16\n",
      "Example path to a band:\t\t s3://usgs-landsat/collection02/level-2/standard/oli-tirs/2019/048/022/LC08_L2SP_048022_20190702_20200827_02_T1/LC08_L2SP_048022_20190702_20200827_02_T1_SR_B2.TIF\n",
      "Creating NDVI stack...\n",
      "LS8\n",
      "finished\n",
      "Make NDVI valid mask\n",
      "shape:\t\t (16, 3000, 3000)\n",
      "Get stack nan mask\n",
      "Calculate Stack max NDVI image\n",
      "Create LUT of max NDVI positions\n",
      "Creating Blue Composite\n",
      "\t\tMaskedFile\n",
      "\t\tComposite\n",
      "Creating Green Composite\n",
      "\t\tMaskedFile\n",
      "\t\tComposite\n",
      "Creating Red Composite\n",
      "\t\tMaskedFile\n",
      "\t\tComposite\n",
      "Creating NIR Composite\n",
      "\t\tMaskedFile\n",
      "\t\tComposite\n",
      "Creating SWIR2 Composite\n",
      "\t\tMaskedFile\n",
      "\t\tComposite\n",
      "Creating NDVI Composite\n",
      "Traceback (most recent call last):\n",
      "  File \"3.1.2_dps.py\", line 542, in <module>\n",
      "    main()\n",
      "  File \"3.1.2_dps.py\", line 431, in main\n",
      "    elif args.composite == 'LS8':\n",
      "AttributeError: 'Namespace' object has no attribute 'composite'\n"
     ]
    }
   ],
   "source": [
    "args = f\"-i {INDEX_FN} \\\n",
    "--in_tile_num {TILE_NUM} \\\n",
    "-lyr {INDEX_LYR} \\\n",
    "-o /projects/test_data \\\n",
    "-a {SAT_API} \\\n",
    "--tile_buffer_m 0 \\\n",
    "-sy {YEAR_START} -ey {YEAR_STOP} -smd {SEASON_START} -emd {SEASON_STOP} -mc {MAX_CLOUDS} -t {MS_DATA_TYPE}\"\n",
    "print(args)\n",
    "!python 3.1.2_dps.py $args"
   ]
  },
  {
   "cell_type": "markdown",
   "id": "da5dcbaf",
   "metadata": {},
   "source": [
    "#### Test a run of tile_atl08.py"
   ]
  },
  {
   "cell_type": "code",
   "execution_count": 32,
   "id": "42b3eb20",
   "metadata": {},
   "outputs": [
    {
     "name": "stdout",
     "output_type": "stream",
     "text": [
      "-LC_filter True --extract_covars --do_30m --do_dps -years_list 2019 2020 2021 -o /projects/my-public-bucket/atl08_filt_covar_tiles -in_tile_num 2717 -in_tile_fn /projects/shared-buckets/nathanmthomas/boreal_tiles_v003.gpkg -in_tile_layer boreal_tiles_v003 -in_tile_id_col tile_num -csv_list_fn /projects/shared-buckets/lduncanson/DPS_tile_lists/ATL08_tindex_master.csv -topo_stack_list_fn /projects/shared-buckets/nathanmthomas/DPS_tile_lists/Topo_tindex_master.csv -landsat_stack_list_fn /projects/shared-buckets/nathanmthomas/DPS_tile_lists/HLS_tindex_master.csv -landsat_cols_list Blue Green Red NIR SWIR SWIR2 NDVI SAVI MSAVI NDMI EVI NBR NBR2 TCB TCG TCW ValidMask Xgeo Ygeo JulianDate yearDate -user_stacks nathanmthomas -user_atl08 lduncanson -thresh_sol_el 5 -v_ATL08 5 -minmonth 4 -maxmonth 10\n",
      "/opt/conda/lib/python3.7/site-packages/geopandas/_compat.py:110: UserWarning: The Shapely GEOS version (3.8.0-CAPI-1.13.1 ) is incompatible with the GEOS version PyGEOS was compiled with (3.10.1-CAPI-1.16.0). Conversions between both will be slow.\n",
      "  shapely_geos_version, geos_capi_version_string\n",
      "\n",
      "Land cover filtering set to: True\n",
      "\n",
      "Working on tile:\t 2717\n",
      "From layer:\t\t boreal_tiles_v003\n",
      "In vector file:\t\t /projects/shared-buckets/nathanmthomas/boreal_tiles_v003.gpkg\n",
      "ATL08 version:\t\t 5\n",
      "Season start:\t\t 04-01\n",
      "Season end:\t\t 10-31\n",
      "Years:\t\t\t [2019, 2020, 2021]\n",
      "ATL08 bin length:\t 30m\n",
      "\n",
      "Doing MAAP query by tile bounds to find all intersecting ATL08 \n",
      "\tTILE_NUM: 2717 (110.32923537493312,56.274355810833164,112.38064264516979,57.37194509910274)\n",
      "\tSearching MAAP for granules using these parameters: \n",
      "\t[{'short_name': 'ATL08', 'version': '005', 'bounding_box': '110.32923537493312,56.274355810833164,112.38064264516979,57.37194509910274', 'limit': 10000, 'temporal': '2019-04-01T00:00:00Z,2019-10-31T23:59:59Z'}, {'short_name': 'ATL08', 'version': '005', 'bounding_box': '110.32923537493312,56.274355810833164,112.38064264516979,57.37194509910274', 'limit': 10000, 'temporal': '2020-04-01T00:00:00Z,2020-10-31T23:59:59Z'}, {'short_name': 'ATL08', 'version': '005', 'bounding_box': '110.32923537493312,56.274355810833164,112.38064264516979,57.37194509910274', 'limit': 10000, 'temporal': '2021-04-01T00:00:00Z,2021-10-31T23:59:59Z'}]\n",
      "\t\t# ATL08 for tile 2717: 147\n",
      "\n",
      "This is either a DPS job (for which the CSV has an s3 path, or the CSV exists locally.)\n",
      "\n",
      "Reading existing list of ATL08 CSVs: /projects/shared-buckets/lduncanson/DPS_tile_lists/ATL08_tindex_master.csv\n",
      "\tDoing 30m ATL08 data?  True\n",
      "\tFind ATL08 CSVs you expect for a tile based on the h5 granule search...\n",
      "\t\t# of all ATL08 granules for tile: 147\n",
      "\t\t# of all_atl08_csvs: 46166\n",
      "\t# of ATL08 CSV found for tile 2717: 107\n",
      "\t# of ATL08 CSV NOT found for tile 2717: 40\n",
      "Creating pandas data frame...\n",
      "\n",
      "Filtering by tile: 2717\n",
      "[110.32923537493312, 112.38064264516979, 56.274355810833164, 57.37194509910274]\n",
      "Bounds clipped 111699 obs. down to 1829 obs.\n",
      "Bounds clipped 91272 obs. down to 1091 obs.\n",
      "Bounds clipped 158570 obs. down to 11345 obs.\n",
      "Bounds clipped 116824 obs. down to 2348 obs.\n",
      "Bounds clipped 136771 obs. down to 7023 obs.\n",
      "Bounds clipped 123288 obs. down to 4410 obs.\n",
      "Bounds clipped 160621 obs. down to 5692 obs.\n",
      "Bounds clipped 20939 obs. down to 0 obs.\n",
      "Bounds clipped 102338 obs. down to 748 obs.\n",
      "Bounds clipped 122127 obs. down to 0 obs.\n",
      "Bounds clipped 67259 obs. down to 0 obs.\n",
      "Bounds clipped 109241 obs. down to 2690 obs.\n",
      "Bounds clipped 143911 obs. down to 0 obs.\n",
      "Bounds clipped 106039 obs. down to 199 obs.\n",
      "Bounds clipped 67945 obs. down to 0 obs.\n",
      "Bounds clipped 154410 obs. down to 0 obs.\n",
      "Bounds clipped 107190 obs. down to 2805 obs.\n",
      "Bounds clipped 114111 obs. down to 0 obs.\n",
      "Bounds clipped 116647 obs. down to 0 obs.\n",
      "Bounds clipped 82265 obs. down to 4648 obs.\n",
      "Bounds clipped 73790 obs. down to 2221 obs.\n",
      "Bounds clipped 44980 obs. down to 0 obs.\n",
      "Bounds clipped 20784 obs. down to 554 obs.\n",
      "Bounds clipped 68681 obs. down to 174 obs.\n",
      "Bounds clipped 47534 obs. down to 27 obs.\n",
      "Bounds clipped 47294 obs. down to 18 obs.\n",
      "Bounds clipped 62793 obs. down to 0 obs.\n",
      "Bounds clipped 50473 obs. down to 101 obs.\n",
      "Bounds clipped 67515 obs. down to 0 obs.\n",
      "Bounds clipped 119272 obs. down to 588 obs.\n",
      "Bounds clipped 53763 obs. down to 1711 obs.\n",
      "Bounds clipped 36641 obs. down to 0 obs.\n",
      "Bounds clipped 107808 obs. down to 0 obs.\n",
      "Bounds clipped 57118 obs. down to 522 obs.\n",
      "Bounds clipped 58357 obs. down to 0 obs.\n",
      "Bounds clipped 88943 obs. down to 0 obs.\n",
      "Bounds clipped 94280 obs. down to 2379 obs.\n",
      "Bounds clipped 165589 obs. down to 269 obs.\n",
      "Bounds clipped 46263 obs. down to 0 obs.\n",
      "Bounds clipped 29677 obs. down to 0 obs.\n",
      "Bounds clipped 98913 obs. down to 497 obs.\n",
      "Bounds clipped 90231 obs. down to 0 obs.\n",
      "Bounds clipped 15195 obs. down to 0 obs.\n",
      "Bounds clipped 176038 obs. down to 8209 obs.\n",
      "Bounds clipped 135666 obs. down to 8804 obs.\n",
      "Bounds clipped 126016 obs. down to 4716 obs.\n",
      "Bounds clipped 56178 obs. down to 0 obs.\n",
      "Bounds clipped 63977 obs. down to 10055 obs.\n",
      "Bounds clipped 114444 obs. down to 6209 obs.\n",
      "Bounds clipped 109577 obs. down to 0 obs.\n",
      "Bounds clipped 45298 obs. down to 0 obs.\n",
      "Bounds clipped 100680 obs. down to 0 obs.\n",
      "Bounds clipped 129741 obs. down to 537 obs.\n",
      "Bounds clipped 40760 obs. down to 0 obs.\n",
      "Bounds clipped 108631 obs. down to 5586 obs.\n",
      "Bounds clipped 103761 obs. down to 2762 obs.\n",
      "Bounds clipped 70890 obs. down to 6387 obs.\n",
      "Bounds clipped 58075 obs. down to 802 obs.\n",
      "Bounds clipped 71790 obs. down to 14 obs.\n",
      "Bounds clipped 42953 obs. down to 0 obs.\n",
      "Bounds clipped 69585 obs. down to 0 obs.\n",
      "Bounds clipped 136958 obs. down to 2277 obs.\n",
      "Bounds clipped 55589 obs. down to 40 obs.\n",
      "Bounds clipped 34443 obs. down to 0 obs.\n",
      "Bounds clipped 22150 obs. down to 0 obs.\n",
      "Bounds clipped 109511 obs. down to 0 obs.\n",
      "Bounds clipped 68067 obs. down to 5946 obs.\n",
      "Bounds clipped 48016 obs. down to 0 obs.\n",
      "Bounds clipped 115099 obs. down to 9276 obs.\n",
      "Bounds clipped 5327 obs. down to 0 obs.\n",
      "Bounds clipped 75285 obs. down to 0 obs.\n",
      "Bounds clipped 70613 obs. down to 76 obs.\n",
      "Bounds clipped 88183 obs. down to 50 obs.\n",
      "Bounds clipped 20901 obs. down to 0 obs.\n",
      "Bounds clipped 68731 obs. down to 0 obs.\n",
      "Bounds clipped 97431 obs. down to 9834 obs.\n",
      "Bounds clipped 40920 obs. down to 0 obs.\n",
      "Bounds clipped 109127 obs. down to 471 obs.\n",
      "Bounds clipped 81569 obs. down to 3026 obs.\n",
      "Bounds clipped 97861 obs. down to 0 obs.\n",
      "Bounds clipped 40454 obs. down to 5390 obs.\n",
      "Bounds clipped 185781 obs. down to 12959 obs.\n",
      "Bounds clipped 136312 obs. down to 1224 obs.\n",
      "Bounds clipped 187705 obs. down to 115 obs.\n",
      "Bounds clipped 81646 obs. down to 0 obs.\n",
      "Bounds clipped 176763 obs. down to 2349 obs.\n",
      "Bounds clipped 108202 obs. down to 7767 obs.\n",
      "Bounds clipped 128417 obs. down to 12727 obs.\n",
      "Bounds clipped 50261 obs. down to 217 obs.\n",
      "Bounds clipped 55321 obs. down to 0 obs.\n",
      "Bounds clipped 180697 obs. down to 8405 obs.\n",
      "Bounds clipped 114133 obs. down to 226 obs.\n",
      "Bounds clipped 74071 obs. down to 6934 obs.\n",
      "Bounds clipped 60624 obs. down to 1864 obs.\n",
      "Bounds clipped 105482 obs. down to 0 obs.\n",
      "Bounds clipped 54084 obs. down to 1539 obs.\n",
      "Bounds clipped 26525 obs. down to 0 obs.\n",
      "Bounds clipped 82771 obs. down to 0 obs.\n",
      "Bounds clipped 49105 obs. down to 3574 obs.\n",
      "Bounds clipped 35577 obs. down to 0 obs.\n",
      "Bounds clipped 60917 obs. down to 0 obs.\n",
      "Bounds clipped 65029 obs. down to 5081 obs.\n",
      "Bounds clipped 106579 obs. down to 0 obs.\n",
      "Bounds clipped 86090 obs. down to 6100 obs.\n",
      "Bounds clipped 97373 obs. down to 0 obs.\n",
      "Bounds clipped 20074 obs. down to 0 obs.\n",
      "Bounds clipped 61246 obs. down to 1218 obs.\n",
      "\n",
      "Pre-filter data cleaning...\n",
      "Pandas version: 1.2.2\n",
      "\tGet beam type from orbit orientation and ground track: ['Weak' 'Strong']\n",
      "\tCast some columns to:\n",
      "\t\ttype float: ['lat', 'lon', 'h_can', 'h_te_best', 'ter_slp']\n",
      "\t\ttype integer: ['n_ca_ph', 'n_seg_ph', 'n_toc_ph']\n",
      "Quality filtering with aggressive land-cover based (v3) filters updated in Jan/Feb 2022 ...\n",
      "\n",
      "Filtering by quality\n",
      "\tBefore quality filtering: \t\t216655 observations in the input dataframe.\n",
      "\tAfter msw_flg=0: \t\t122811 observations in the dataframe.\n",
      "\tAfter beam_type=Strong: \t\t66950 observations in the dataframe.\n",
      "\tAfter seg_snow=1: \t\t31228 observations in the dataframe.\n",
      "\tLand cover threshold dictionary: \n",
      "{0: 0, 111: 60, 113: 60, 112: 60, 114: 60, 115: 60, 116: 60, 121: 50, 123: 50, 122: 50, 124: 50, 125: 50, 126: 50, 20: 20, 30: 10, 90: 10, 100: 5, 60: 5, 40: 0, 50: 0, 70: 0, 80: 0, 200: 0}\n",
      "\tAfter land-cover specific h_can thresholds: \t\t26517 observations in the dataframe.\n",
      "\tAfter h_can_unc <5, seg_cover<32767, sol_el<5, sig_topo<2.5, h_dif_ref<25: \t\t927 observations in the dataframe.\n",
      "\tAfter month filters: 4-10\n",
      "\tAfter all quality filtering: \t\t927 observations in the output dataframe.\n",
      "\tReturning a pandas data frame.\n",
      "\tFiltered obs. for columns: ['lon', 'lat', 'rh25', 'rh50', 'rh60', 'rh70', 'rh75', 'rh80', 'rh90', 'h_can', 'h_max_can', 'ter_slp', 'h_te_best', 'seg_landcov', 'sol_el', 'y', 'm', 'doy', 'seg_cover']\n",
      "\tData frame shape: (927, 19) \n",
      "\n",
      "Getting stack fn from:  /projects/shared-buckets/nathanmthomas/DPS_tile_lists/Topo_tindex_master.csv\n",
      "\t s3://maap-ops-workspace/nathanmthomas/dps_output/do_topo_stack_3-1-5_ubuntu/ops/2021/09/16/05/57/29/546439/Copernicus_2717_covars_cog_topo_stack.tif\n",
      "\n",
      "Getting stack fn from:  /projects/shared-buckets/nathanmthomas/DPS_tile_lists/HLS_tindex_master.csv\n",
      "\t s3://maap-ops-workspace/nathanmthomas/dps_output/do_HLS_stack_3-1-2_ubuntu/master/2022/04/02/01/28/51/654854/HLS_2717_06-15_09-01_2019_2021.tif\n",
      "\n",
      "Extract covars for 927 ATL08 obs...\n",
      "\tExtracting raster values from:  s3://maap-ops-workspace/nathanmthomas/dps_output/do_topo_stack_3-1-5_ubuntu/ops/2021/09/16/05/57/29/546439/Copernicus_2717_covars_cog_topo_stack.tif\n",
      "\tRe-project points to match raster...\n",
      "\tReturning 927 points with 5 new raster value columns: ['elevation', 'slope', 'tsri', 'tpi', 'slopemask']\n",
      "\tExtracting raster values from:  s3://maap-ops-workspace/nathanmthomas/dps_output/do_HLS_stack_3-1-2_ubuntu/master/2022/04/02/01/28/51/654854/HLS_2717_06-15_09-01_2019_2021.tif\n",
      "\tReturning 927 points with 21 new raster value columns: ['Blue', 'Green', 'Red', 'NIR', 'SWIR', 'SWIR2', 'NDVI', 'SAVI', 'MSAVI', 'NDMI', 'EVI', 'NBR', 'NBR2', 'TCB', 'TCG', 'TCW', 'ValidMask', 'Xgeo', 'Ygeo', 'JulianDate', 'yearDate']\n",
      "Writing a the tile's CSV with extracted covars: \n",
      "/projects/my-public-bucket/atl08_filt_covar_tiles/atl08_005_30m_filt_topo_landsat_20220416_2717.csv\n",
      "Writing a sample CSV of 250 sol elev obs. < 5: /projects/my-public-bucket/atl08_filt_covar_tiles/atl08_005_30m_filt_topo_landsat_20220416_2717_SAMPLE_n250.csv\n",
      "Wrote output csv/geojson of filtered ATL08 obs with topo and Landsat covariates for tile 2717: /projects/my-public-bucket/atl08_filt_covar_tiles/atl08_005_30m_filt_topo_landsat_20220416_2717\n",
      "CPU times: user 6.51 s, sys: 2.42 s, total: 8.93 s\n",
      "Wall time: 8min 50s\n"
     ]
    }
   ],
   "source": [
    "%%time\n",
    "args = f\"\\\n",
    "-LC_filter True \\\n",
    "--extract_covars \\\n",
    "--do_30m \\\n",
    "--do_dps \\\n",
    "-years_list 2019 2020 2021 \\\n",
    "-o /projects/my-public-bucket/atl08_filt_covar_tiles \\\n",
    "-in_tile_num {TILE_NUM} \\\n",
    "-in_tile_fn {INDEX_FN} \\\n",
    "-in_tile_layer {INDEX_LYR} \\\n",
    "-in_tile_id_col tile_num \\\n",
    "-csv_list_fn /projects/shared-buckets/lduncanson/DPS_tile_lists/ATL08_tindex_master.csv \\\n",
    "-topo_stack_list_fn /projects/shared-buckets/nathanmthomas/DPS_tile_lists/Topo_tindex_master.csv \\\n",
    "-landsat_stack_list_fn /projects/shared-buckets/nathanmthomas/DPS_tile_lists/HLS_tindex_master.csv \\\n",
    "-landsat_cols_list Blue Green Red NIR SWIR SWIR2 NDVI SAVI MSAVI NDMI EVI NBR NBR2 TCB TCG TCW ValidMask Xgeo Ygeo JulianDate yearDate \\\n",
    "-user_stacks nathanmthomas \\\n",
    "-user_atl08 lduncanson \\\n",
    "-thresh_sol_el 5 \\\n",
    "-v_ATL08 5 -minmonth 4 -maxmonth 10\"\n",
    "print(args)\n",
    "!python tile_atl08.py $args"
   ]
  },
  {
   "cell_type": "code",
   "execution_count": null,
   "id": "edd84910",
   "metadata": {},
   "outputs": [],
   "source": []
  }
 ],
 "metadata": {
  "kernelspec": {
   "display_name": "Python 3 (ipykernel)",
   "language": "python",
   "name": "python3"
  },
  "language_info": {
   "codemirror_mode": {
    "name": "ipython",
    "version": 3
   },
   "file_extension": ".py",
   "mimetype": "text/x-python",
   "name": "python",
   "nbconvert_exporter": "python",
   "pygments_lexer": "ipython3",
   "version": "3.7.8"
  }
 },
 "nbformat": 4,
 "nbformat_minor": 5
}
