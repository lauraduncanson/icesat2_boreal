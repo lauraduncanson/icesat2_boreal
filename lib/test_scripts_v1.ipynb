{
 "cells": [
  {
   "cell_type": "markdown",
   "id": "cff2ac68",
   "metadata": {},
   "source": [
    "# Test scripts on command line\n",
    "Use this notebook as a test space"
   ]
  },
  {
   "cell_type": "code",
   "execution_count": 14,
   "id": "fb04fc3c",
   "metadata": {},
   "outputs": [
    {
     "name": "stdout",
     "output_type": "stream",
     "text": [
      "Requirement already satisfied: h5py==3.1.0 in /projects/.local/lib/python3.7/site-packages (from -r /projects/Developer/icesat2_boreal/dps/requirements_main.txt (line 3)) (3.1.0)\n",
      "Requirement already satisfied: pandas==1.2.2 in /projects/.local/lib/python3.7/site-packages (from -r /projects/Developer/icesat2_boreal/dps/requirements_main.txt (line 4)) (1.2.2)\n",
      "Requirement already satisfied: pygeos==0.12.0 in /projects/.local/lib/python3.7/site-packages (from -r /projects/Developer/icesat2_boreal/dps/requirements_main.txt (line 7)) (0.12.0)\n",
      "Requirement already satisfied: rtree==0.9.7 in /projects/.local/lib/python3.7/site-packages (from -r /projects/Developer/icesat2_boreal/dps/requirements_main.txt (line 8)) (0.9.7)\n",
      "Requirement already satisfied: numpy==1.21.0 in /projects/.local/lib/python3.7/site-packages (from -r /projects/Developer/icesat2_boreal/dps/requirements_main.txt (line 9)) (1.21.0)\n",
      "Requirement already satisfied: geopandas==0.9.0 in /opt/conda/lib/python3.7/site-packages (from -r /projects/Developer/icesat2_boreal/dps/requirements_main.txt (line 12)) (0.9.0)\n",
      "Requirement already satisfied: rasterio==1.2.6 in /opt/conda/lib/python3.7/site-packages (from -r /projects/Developer/icesat2_boreal/dps/requirements_main.txt (line 13)) (1.2.6)\n",
      "Requirement already satisfied: importlib_resources in /opt/conda/lib/python3.7/site-packages (from -r /projects/Developer/icesat2_boreal/dps/requirements_main.txt (line 14)) (5.7.1)\n",
      "Requirement already satisfied: contextily in /opt/conda/lib/python3.7/site-packages (from -r /projects/Developer/icesat2_boreal/dps/requirements_main.txt (line 15)) (1.2.0)\n",
      "Requirement already satisfied: fsspec in /opt/conda/lib/python3.7/site-packages (from -r /projects/Developer/icesat2_boreal/dps/requirements_main.txt (line 16)) (2022.3.0)\n",
      "Requirement already satisfied: s3fs in /opt/conda/lib/python3.7/site-packages (from -r /projects/Developer/icesat2_boreal/dps/requirements_main.txt (line 17)) (2022.3.0)\n",
      "Requirement already satisfied: rio-cogeo==2.3.1 in /opt/conda/lib/python3.7/site-packages (from -r /projects/Developer/icesat2_boreal/dps/requirements_main.txt (line 22)) (2.3.1)\n",
      "Requirement already satisfied: rio-tiler==2.1.4 in /opt/conda/lib/python3.7/site-packages (from -r /projects/Developer/icesat2_boreal/dps/requirements_main.txt (line 23)) (2.1.4)\n",
      "Requirement already satisfied: morecantile==2.1.4 in /opt/conda/lib/python3.7/site-packages (from -r /projects/Developer/icesat2_boreal/dps/requirements_main.txt (line 25)) (2.1.4)\n",
      "Requirement already satisfied: pystac-client in /projects/.local/lib/python3.7/site-packages (from -r /projects/Developer/icesat2_boreal/dps/requirements_main.txt (line 26)) (0.3.2)\n",
      "Requirement already satisfied: cached-property in /projects/.local/lib/python3.7/site-packages (from h5py==3.1.0->-r /projects/Developer/icesat2_boreal/dps/requirements_main.txt (line 3)) (1.5.2)\n",
      "Requirement already satisfied: python-dateutil>=2.7.3 in /opt/conda/lib/python3.7/site-packages (from pandas==1.2.2->-r /projects/Developer/icesat2_boreal/dps/requirements_main.txt (line 4)) (2.8.2)\n",
      "Requirement already satisfied: pytz>=2017.3 in /opt/conda/lib/python3.7/site-packages (from pandas==1.2.2->-r /projects/Developer/icesat2_boreal/dps/requirements_main.txt (line 4)) (2021.1)\n",
      "Requirement already satisfied: fiona>=1.8 in /projects/.local/lib/python3.7/site-packages (from geopandas==0.9.0->-r /projects/Developer/icesat2_boreal/dps/requirements_main.txt (line 12)) (1.8.20)\n",
      "Requirement already satisfied: shapely>=1.6 in /projects/.local/lib/python3.7/site-packages (from geopandas==0.9.0->-r /projects/Developer/icesat2_boreal/dps/requirements_main.txt (line 12)) (1.7.1)\n",
      "Requirement already satisfied: pyproj>=2.2.0 in /opt/conda/lib/python3.7/site-packages (from geopandas==0.9.0->-r /projects/Developer/icesat2_boreal/dps/requirements_main.txt (line 12)) (3.2.1)\n",
      "Requirement already satisfied: snuggs>=1.4.1 in /opt/conda/lib/python3.7/site-packages (from rasterio==1.2.6->-r /projects/Developer/icesat2_boreal/dps/requirements_main.txt (line 13)) (1.4.7)\n",
      "Requirement already satisfied: click>=4.0 in /opt/conda/lib/python3.7/site-packages (from rasterio==1.2.6->-r /projects/Developer/icesat2_boreal/dps/requirements_main.txt (line 13)) (7.1.2)\n",
      "Requirement already satisfied: cligj>=0.5 in /opt/conda/lib/python3.7/site-packages (from rasterio==1.2.6->-r /projects/Developer/icesat2_boreal/dps/requirements_main.txt (line 13)) (0.7.0)\n",
      "Requirement already satisfied: certifi in /opt/conda/lib/python3.7/site-packages (from rasterio==1.2.6->-r /projects/Developer/icesat2_boreal/dps/requirements_main.txt (line 13)) (2021.5.30)\n",
      "Requirement already satisfied: click-plugins in /opt/conda/lib/python3.7/site-packages (from rasterio==1.2.6->-r /projects/Developer/icesat2_boreal/dps/requirements_main.txt (line 13)) (1.1.1)\n",
      "Requirement already satisfied: setuptools in /opt/conda/lib/python3.7/site-packages (from rasterio==1.2.6->-r /projects/Developer/icesat2_boreal/dps/requirements_main.txt (line 13)) (49.6.0.post20201009)\n",
      "Requirement already satisfied: attrs in /opt/conda/lib/python3.7/site-packages (from rasterio==1.2.6->-r /projects/Developer/icesat2_boreal/dps/requirements_main.txt (line 13)) (20.2.0)\n",
      "Requirement already satisfied: affine in /opt/conda/lib/python3.7/site-packages (from rasterio==1.2.6->-r /projects/Developer/icesat2_boreal/dps/requirements_main.txt (line 13)) (2.3.0)\n",
      "Requirement already satisfied: pydantic in /projects/.local/lib/python3.7/site-packages (from rio-cogeo==2.3.1->-r /projects/Developer/icesat2_boreal/dps/requirements_main.txt (line 22)) (1.8.2)\n",
      "Requirement already satisfied: rio-color in /projects/.local/lib/python3.7/site-packages (from rio-tiler==2.1.4->-r /projects/Developer/icesat2_boreal/dps/requirements_main.txt (line 23)) (1.0.3)\n",
      "Requirement already satisfied: requests in /projects/.local/lib/python3.7/site-packages (from rio-tiler==2.1.4->-r /projects/Developer/icesat2_boreal/dps/requirements_main.txt (line 23)) (2.27.1)\n",
      "Requirement already satisfied: numexpr in /projects/.local/lib/python3.7/site-packages (from rio-tiler==2.1.4->-r /projects/Developer/icesat2_boreal/dps/requirements_main.txt (line 23)) (2.7.3)\n",
      "Requirement already satisfied: pystac>=0.5.3 in /projects/.local/lib/python3.7/site-packages (from rio-tiler==2.1.4->-r /projects/Developer/icesat2_boreal/dps/requirements_main.txt (line 23)) (1.2.0)\n",
      "Requirement already satisfied: boto3 in /opt/conda/lib/python3.7/site-packages (from rio-tiler==2.1.4->-r /projects/Developer/icesat2_boreal/dps/requirements_main.txt (line 23)) (1.21.21)\n",
      "Requirement already satisfied: zipp>=3.1.0 in /opt/conda/lib/python3.7/site-packages (from importlib_resources->-r /projects/Developer/icesat2_boreal/dps/requirements_main.txt (line 14)) (3.6.0)\n",
      "Requirement already satisfied: matplotlib in /opt/conda/lib/python3.7/site-packages (from contextily->-r /projects/Developer/icesat2_boreal/dps/requirements_main.txt (line 15)) (3.2.2)\n",
      "Requirement already satisfied: pillow in /projects/.local/lib/python3.7/site-packages (from contextily->-r /projects/Developer/icesat2_boreal/dps/requirements_main.txt (line 15)) (8.3.2)\n",
      "Requirement already satisfied: mercantile in /projects/.local/lib/python3.7/site-packages (from contextily->-r /projects/Developer/icesat2_boreal/dps/requirements_main.txt (line 15)) (1.2.1)\n",
      "Requirement already satisfied: geopy in /projects/.local/lib/python3.7/site-packages (from contextily->-r /projects/Developer/icesat2_boreal/dps/requirements_main.txt (line 15)) (2.2.0)\n",
      "Requirement already satisfied: xyzservices in /projects/.local/lib/python3.7/site-packages (from contextily->-r /projects/Developer/icesat2_boreal/dps/requirements_main.txt (line 15)) (2022.3.0)\n",
      "Requirement already satisfied: joblib in /projects/.local/lib/python3.7/site-packages (from contextily->-r /projects/Developer/icesat2_boreal/dps/requirements_main.txt (line 15)) (1.0.1)\n",
      "Requirement already satisfied: aiohttp<=4 in /projects/.local/lib/python3.7/site-packages (from s3fs->-r /projects/Developer/icesat2_boreal/dps/requirements_main.txt (line 17)) (3.7.4.post0)\n",
      "Requirement already satisfied: aiobotocore~=2.2.0 in /opt/conda/lib/python3.7/site-packages (from s3fs->-r /projects/Developer/icesat2_boreal/dps/requirements_main.txt (line 17)) (2.2.0)\n",
      "Requirement already satisfied: wrapt>=1.10.10 in /projects/.local/lib/python3.7/site-packages (from aiobotocore~=2.2.0->s3fs->-r /projects/Developer/icesat2_boreal/dps/requirements_main.txt (line 17)) (1.12.1)\n",
      "Requirement already satisfied: aioitertools>=0.5.1 in /projects/.local/lib/python3.7/site-packages (from aiobotocore~=2.2.0->s3fs->-r /projects/Developer/icesat2_boreal/dps/requirements_main.txt (line 17)) (0.8.0)\n",
      "Requirement already satisfied: botocore<1.24.22,>=1.24.21 in /opt/conda/lib/python3.7/site-packages (from aiobotocore~=2.2.0->s3fs->-r /projects/Developer/icesat2_boreal/dps/requirements_main.txt (line 17)) (1.24.21)\n",
      "Requirement already satisfied: typing-extensions>=3.6.5 in /opt/conda/lib/python3.7/site-packages (from aiohttp<=4->s3fs->-r /projects/Developer/icesat2_boreal/dps/requirements_main.txt (line 17)) (3.10.0.2)\n",
      "Requirement already satisfied: multidict<7.0,>=4.5 in /projects/.local/lib/python3.7/site-packages (from aiohttp<=4->s3fs->-r /projects/Developer/icesat2_boreal/dps/requirements_main.txt (line 17)) (5.1.0)\n",
      "Requirement already satisfied: yarl<2.0,>=1.0 in /projects/.local/lib/python3.7/site-packages (from aiohttp<=4->s3fs->-r /projects/Developer/icesat2_boreal/dps/requirements_main.txt (line 17)) (1.6.3)\n",
      "Requirement already satisfied: chardet<5.0,>=2.0 in /opt/conda/lib/python3.7/site-packages (from aiohttp<=4->s3fs->-r /projects/Developer/icesat2_boreal/dps/requirements_main.txt (line 17)) (3.0.4)\n",
      "Requirement already satisfied: async-timeout<4.0,>=3.0 in /projects/.local/lib/python3.7/site-packages (from aiohttp<=4->s3fs->-r /projects/Developer/icesat2_boreal/dps/requirements_main.txt (line 17)) (3.0.1)\n",
      "Requirement already satisfied: munch in /projects/.local/lib/python3.7/site-packages (from fiona>=1.8->geopandas==0.9.0->-r /projects/Developer/icesat2_boreal/dps/requirements_main.txt (line 12)) (2.5.0)\n",
      "Requirement already satisfied: six>=1.7 in /opt/conda/lib/python3.7/site-packages (from fiona>=1.8->geopandas==0.9.0->-r /projects/Developer/icesat2_boreal/dps/requirements_main.txt (line 12)) (1.15.0)\n",
      "Requirement already satisfied: charset-normalizer~=2.0.0 in /projects/.local/lib/python3.7/site-packages (from requests->rio-tiler==2.1.4->-r /projects/Developer/icesat2_boreal/dps/requirements_main.txt (line 23)) (2.0.12)\n",
      "Requirement already satisfied: idna<4,>=2.5 in /opt/conda/lib/python3.7/site-packages (from requests->rio-tiler==2.1.4->-r /projects/Developer/icesat2_boreal/dps/requirements_main.txt (line 23)) (2.10)\n",
      "Requirement already satisfied: urllib3<1.27,>=1.21.1 in /opt/conda/lib/python3.7/site-packages (from requests->rio-tiler==2.1.4->-r /projects/Developer/icesat2_boreal/dps/requirements_main.txt (line 23)) (1.25.11)\n",
      "Requirement already satisfied: pyparsing>=2.1.6 in /opt/conda/lib/python3.7/site-packages (from snuggs>=1.4.1->rasterio==1.2.6->-r /projects/Developer/icesat2_boreal/dps/requirements_main.txt (line 13)) (2.4.7)\n",
      "Requirement already satisfied: jmespath<2.0.0,>=0.7.1 in /opt/conda/lib/python3.7/site-packages/jmespath-0.10.0-py3.7.egg (from boto3->rio-tiler==2.1.4->-r /projects/Developer/icesat2_boreal/dps/requirements_main.txt (line 23)) (0.10.0)\n",
      "Requirement already satisfied: s3transfer<0.6.0,>=0.5.0 in /opt/conda/lib/python3.7/site-packages/s3transfer-0.5.0-py3.7.egg (from boto3->rio-tiler==2.1.4->-r /projects/Developer/icesat2_boreal/dps/requirements_main.txt (line 23)) (0.5.0)\n",
      "Requirement already satisfied: geographiclib<2,>=1.49 in /projects/.local/lib/python3.7/site-packages (from geopy->contextily->-r /projects/Developer/icesat2_boreal/dps/requirements_main.txt (line 15)) (1.52)\n",
      "Requirement already satisfied: cycler>=0.10 in /opt/conda/lib/python3.7/site-packages (from matplotlib->contextily->-r /projects/Developer/icesat2_boreal/dps/requirements_main.txt (line 15)) (0.10.0)\n",
      "Requirement already satisfied: kiwisolver>=1.0.1 in /opt/conda/lib/python3.7/site-packages (from matplotlib->contextily->-r /projects/Developer/icesat2_boreal/dps/requirements_main.txt (line 15)) (1.3.1)\n",
      "Requirement already satisfied: rio-mucho in /projects/.local/lib/python3.7/site-packages (from rio-color->rio-tiler==2.1.4->-r /projects/Developer/icesat2_boreal/dps/requirements_main.txt (line 23)) (1.0.0)\n",
      "\u001b[33mWARNING: Running pip as the 'root' user can result in broken permissions and conflicting behaviour with the system package manager. It is recommended to use a virtual environment instead: https://pip.pypa.io/warnings/venv\u001b[0m\u001b[33m\n",
      "\u001b[0m\u001b[33mWARNING: You are using pip version 22.0.3; however, version 22.0.4 is available.\n",
      "You should consider upgrading via the '/opt/conda/bin/python3.7 -m pip install --upgrade pip' command.\u001b[0m\u001b[33m\n",
      "\u001b[0mRequirement already satisfied: pystac_client in /projects/.local/lib/python3.7/site-packages (0.3.2)\n",
      "Requirement already satisfied: pystac~=1.2.0 in /projects/.local/lib/python3.7/site-packages (from pystac_client) (1.2.0)\n",
      "Requirement already satisfied: requests>=2.25 in /projects/.local/lib/python3.7/site-packages (from pystac_client) (2.27.1)\n",
      "Requirement already satisfied: python-dateutil>=2.7.0 in /opt/conda/lib/python3.7/site-packages (from pystac~=1.2.0->pystac_client) (2.8.2)\n",
      "Requirement already satisfied: typing-extensions>=3.7 in /opt/conda/lib/python3.7/site-packages (from pystac~=1.2.0->pystac_client) (3.10.0.2)\n",
      "Requirement already satisfied: certifi>=2017.4.17 in /opt/conda/lib/python3.7/site-packages (from requests>=2.25->pystac_client) (2021.5.30)\n",
      "Requirement already satisfied: charset-normalizer~=2.0.0 in /projects/.local/lib/python3.7/site-packages (from requests>=2.25->pystac_client) (2.0.12)\n",
      "Requirement already satisfied: idna<4,>=2.5 in /opt/conda/lib/python3.7/site-packages (from requests>=2.25->pystac_client) (2.10)\n",
      "Requirement already satisfied: urllib3<1.27,>=1.21.1 in /opt/conda/lib/python3.7/site-packages (from requests>=2.25->pystac_client) (1.25.11)\n",
      "Requirement already satisfied: six>=1.5 in /opt/conda/lib/python3.7/site-packages (from python-dateutil>=2.7.0->pystac~=1.2.0->pystac_client) (1.15.0)\n",
      "\u001b[33mWARNING: Running pip as the 'root' user can result in broken permissions and conflicting behaviour with the system package manager. It is recommended to use a virtual environment instead: https://pip.pypa.io/warnings/venv\u001b[0m\u001b[33m\n",
      "\u001b[0m\u001b[33mWARNING: You are using pip version 22.0.3; however, version 22.0.4 is available.\n",
      "You should consider upgrading via the '/opt/conda/bin/python3.7 -m pip install --upgrade pip' command.\u001b[0m\u001b[33m\n",
      "\u001b[0m"
     ]
    }
   ],
   "source": [
    "!pip install -U -r /projects/Developer/icesat2_boreal/dps/requirements_main.txt\n",
    "!pip install pystac_client\n",
    "from platform import python_version\n",
    "python_version()\n",
    "import sys\n",
    "sys.path.append('/projects/icesat2_boreal/lib')\n",
    "sys.path.append('/projects/Developer/icesat2_boreal/lib')\n",
    "import ExtractUtils\n",
    "from pyproj import CRS, Transformer\n",
    "import geopandas as gpd\n",
    "import maplib_folium"
   ]
  },
  {
   "cell_type": "code",
   "execution_count": null,
   "id": "497a8196",
   "metadata": {},
   "outputs": [],
   "source": [
    "%%time\n",
    "!python /projects/Developer/icesat2_boreal/lib/build_tindex_master.py -t ATL08_filt -y 2022 -m_list 04 --maap_version tile_atl08\n",
    "#!python /projects/icesat2_boreal/lib/build_tindex_master.py -t ATL08_filt -y 2022 -m run_LC_height_thresholds -o /projects/my-private-bucket/"
   ]
  },
  {
   "cell_type": "markdown",
   "id": "fa441299",
   "metadata": {},
   "source": [
    "### Read in some tiles layers"
   ]
  },
  {
   "cell_type": "code",
   "execution_count": 15,
   "id": "dffec84e",
   "metadata": {},
   "outputs": [
    {
     "data": {
      "text/plain": [
       "<matplotlib.axes._subplots.AxesSubplot at 0x7feb595a0090>"
      ]
     },
     "execution_count": 15,
     "metadata": {},
     "output_type": "execute_result"
    },
    {
     "data": {
      "image/png": "[encoded data removed]",
      "text/plain": [
       "<Figure size 432x288 with 1 Axes>"
      ]
     },
     "metadata": {
      "needs_background": "light"
     },
     "output_type": "display_data"
    }
   ],
   "source": [
    "\n",
    "dem_tiles_index_path = '/projects/shared-buckets/nathanmthomas/dem30m_tiles.geojson'\n",
    "dem_tiles_index = gpd.read_file(dem_tiles_index_path)\n",
    "dem_tiles_index['tile_num'] = dem_tiles_index.index\n",
    "\n",
    "boreal_tile_index_path = '/projects/my-public-bucket/old_boreal_tiles/boreal_tiles_v003_old.gpkg'\n",
    "boreal_tile_index = gpd.read_file(boreal_tile_index_path)\n",
    "boreal_tile_index.plot(column='tile_version')\n",
    "\n",
    "#boreal_tile_index[boreal_tile_index.tile_version=='version 2']"
   ]
  },
  {
   "cell_type": "markdown",
   "id": "0f3991b3",
   "metadata": {},
   "source": [
    "#### Set up vars to pass to each script"
   ]
  },
  {
   "cell_type": "code",
   "execution_count": 20,
   "id": "787c45b3",
   "metadata": {},
   "outputs": [
    {
     "name": "stderr",
     "output_type": "stream",
     "text": [
      "/opt/conda/lib/python3.7/site-packages/geopandas/plotting.py:681: UserWarning: The GeoDataFrame you are attempting to plot is empty. Nothing has been displayed.\n",
      "  UserWarning,\n"
     ]
    },
    {
     "data": {
      "text/plain": [
       "<matplotlib.axes._subplots.AxesSubplot at 0x7feb5949b7d0>"
      ]
     },
     "execution_count": 20,
     "metadata": {},
     "output_type": "execute_result"
    },
    {
     "data": {
      "image/png": "[encoded data removed]",
      "text/plain": [
       "<Figure size 432x288 with 1 Axes>"
      ]
     },
     "metadata": {
      "needs_background": "light"
     },
     "output_type": "display_data"
    }
   ],
   "source": [
    "#TILE_NUM = 12967\n",
    "#INDEX_FN = '/projects/shared-buckets/lduncanson/dem30m_tiles_v2.geojson'#\n",
    "#INDEX_LYR = 'dem30m_tiles_v2'\n",
    "\n",
    "#TILE_NUM = [38380, 37748, 2270, 2422, 2500, 2583, 2739, 2900, 2988, 2653, 2810, 2886, 2805][0]\n",
    "TILE_NUM = 36369 #3417# 4253\n",
    "INDEX_FN = '/projects/shared-buckets/nathanmthomas/boreal_tiles_v003.gpkg'\n",
    "INDEX_LYR = 'boreal_tiles_v003'\n",
    "z = gpd.read_file(INDEX_FN)\n",
    "z[z.tile_num==TILE_NUM].plot()"
   ]
  },
  {
   "cell_type": "markdown",
   "id": "4bc87093",
   "metadata": {},
   "source": [
    "#### Test a run of the topo stacks: 3.1.5_dps.py"
   ]
  },
  {
   "cell_type": "code",
   "execution_count": null,
   "id": "14d865c6",
   "metadata": {},
   "outputs": [],
   "source": [
    "args = f\"--in_tile_fn {INDEX_FN} \\\n",
    "--in_tile_num {TILE_NUM} \\\n",
    "--tile_buffer_m 120 \\\n",
    "--in_tile_layer {INDEX_LYR} \\\n",
    "-o /projects/test_data/ \\\n",
    "--topo_tile_fn /projects/shared-buckets/nathanmthomas/dem30m_tiles.geojson\"\n",
    "print(args)\n",
    "!python 3.1.5_dps.py $args"
   ]
  },
  {
   "cell_type": "markdown",
   "id": "71ae790f",
   "metadata": {},
   "source": [
    "#### Test a run of the MS comp stacks: 3.1.2_dps.py"
   ]
  },
  {
   "cell_type": "code",
   "execution_count": 4,
   "id": "155002e3",
   "metadata": {},
   "outputs": [
    {
     "data": {
      "text/plain": [
       "'mc25_7-01_09-01_2019_2021'"
      ]
     },
     "execution_count": 4,
     "metadata": {},
     "output_type": "execute_result"
    }
   ],
   "source": [
    "MS_DATA_TYPE = 'LS8' # 'HLS'\n",
    "if MS_DATA_TYPE == 'LS8':\n",
    "    SAT_API = 'https://landsatlook.usgs.gov/sat-api'\n",
    "else:\n",
    "    SAT_API = 'https://cmr.earthdata.nasa.gov/stac/LPCLOUD'\n",
    "MAX_CLOUDS = 25\n",
    "SEASON_START = '7-01'\n",
    "SEASON_STOP = '09-01'\n",
    "YEAR_START = '2019'\n",
    "YEAR_STOP = '2021'\n",
    "RUN_NAME = f'mc{MAX_CLOUDS}_{SEASON_START}_{SEASON_STOP}_{YEAR_START}_{YEAR_STOP}'\n",
    "RUN_NAME"
   ]
  },
  {
   "cell_type": "code",
   "execution_count": null,
   "id": "f0ead1ec",
   "metadata": {},
   "outputs": [],
   "source": [
    "!python 3.1.2_dps.py -h\n"
   ]
  },
  {
   "cell_type": "code",
   "execution_count": null,
   "id": "4f5c55a5",
   "metadata": {},
   "outputs": [],
   "source": [
    "args = f\"-i {INDEX_FN} \\\n",
    "--in_tile_num {TILE_NUM} \\\n",
    "-lyr {INDEX_LYR} \\\n",
    "-o /projects/test_data \\\n",
    "-a {SAT_API} \\\n",
    "--tile_buffer_m 0 \\\n",
    "-sy {YEAR_START} -ey {YEAR_STOP} -smd {SEASON_START} -emd {SEASON_STOP} -mc {MAX_CLOUDS} -t {MS_DATA_TYPE}\"\n",
    "print(args)\n",
    "!python 3.1.2_dps.py $args"
   ]
  },
  {
   "cell_type": "markdown",
   "id": "78db7998",
   "metadata": {},
   "source": [
    "#### Test a run of tile_atl08.py"
   ]
  },
  {
   "cell_type": "code",
   "execution_count": 19,
   "id": "776c5ee0",
   "metadata": {},
   "outputs": [
    {
     "name": "stdout",
     "output_type": "stream",
     "text": [
      "-LC_filter True --extract_covars --do_30m --do_dps -years_list 2019 2020 2021 -o /projects/my-public-bucket/atl08_filt_covar_tiles -in_tile_num 3417 -in_tile_fn /projects/shared-buckets/nathanmthomas/boreal_tiles_v003.gpkg -in_tile_layer boreal_tiles_v003 -in_tile_id_col tile_num -csv_list_fn /projects/shared-buckets/lduncanson/DPS_tile_lists/ATL08_tindex_master.csv -topo_stack_list_fn /projects/shared-buckets/nathanmthomas/DPS_tile_lists/Topo_tindex_master.csv -landsat_stack_list_fn /projects/shared-buckets/nathanmthomas/DPS_tile_lists/HLS_tindex_master.csv -landsat_cols_list Blue Green Red NIR SWIR SWIR2 NDVI SAVI MSAVI NDMI EVI NBR NBR2 TCB TCG TCW ValidMask Xgeo Ygeo JulianDate yearDate -user_stacks nathanmthomas -user_atl08 lduncanson -thresh_sol_el 5 -v_ATL08 5 -minmonth 4 -maxmonth 10\n",
      "/opt/conda/lib/python3.7/site-packages/geopandas/_compat.py:110: UserWarning: The Shapely GEOS version (3.8.0-CAPI-1.13.1 ) is incompatible with the GEOS version PyGEOS was compiled with (3.10.1-CAPI-1.16.0). Conversions between both will be slow.\n",
      "  shapely_geos_version, geos_capi_version_string\n",
      "\n",
      "Land cover filtering set to: True\n",
      "\n",
      "Working on tile:\t 3417\n",
      "From layer:\t\t boreal_tiles_v003\n",
      "In vector file:\t\t /projects/shared-buckets/nathanmthomas/boreal_tiles_v003.gpkg\n",
      "ATL08 version:\t\t 5\n",
      "Season start:\t\t 04-01\n",
      "Season end:\t\t 10-31\n",
      "Years:\t\t\t [2019, 2020, 2021]\n",
      "ATL08 bin length:\t 30m\n",
      "\n",
      "Doing MAAP query by tile bounds to find all intersecting ATL08 \n",
      "\tTILE_NUM: 3417 (125.22365970154516,56.1267467790354,127.32584293146424,57.25586624283884)\n",
      "\tSearching MAAP for granules using these parameters: \n",
      "\t[{'short_name': 'ATL08', 'version': '005', 'bounding_box': '125.22365970154516,56.1267467790354,127.32584293146424,57.25586624283884', 'limit': 10000, 'temporal': '2019-04-01T00:00:00Z,2019-10-31T23:59:59Z'}, {'short_name': 'ATL08', 'version': '005', 'bounding_box': '125.22365970154516,56.1267467790354,127.32584293146424,57.25586624283884', 'limit': 10000, 'temporal': '2020-04-01T00:00:00Z,2020-10-31T23:59:59Z'}, {'short_name': 'ATL08', 'version': '005', 'bounding_box': '125.22365970154516,56.1267467790354,127.32584293146424,57.25586624283884', 'limit': 10000, 'temporal': '2021-04-01T00:00:00Z,2021-10-31T23:59:59Z'}]\n",
      "\t\t# ATL08 for tile 3417: 156\n",
      "\n",
      "This is either a DPS job (for which the CSV has an s3 path, or the CSV exists locally.)\n",
      "\n",
      "Reading existing list of ATL08 CSVs: /projects/shared-buckets/lduncanson/DPS_tile_lists/ATL08_tindex_master.csv\n",
      "\tDoing 30m ATL08 data?  True\n",
      "\tFind ATL08 CSVs you expect for a tile based on the h5 granule search...\n",
      "\t\t# of all ATL08 granules for tile: 156\n",
      "\t\t# of all_atl08_csvs: 46166\n",
      "\t# of ATL08 CSV found for tile 3417: 122\n",
      "\t# of ATL08 CSV NOT found for tile 3417: 34\n",
      "Creating pandas data frame...\n",
      "\n",
      "Filtering by tile: 3417\n",
      "[125.22365970154516, 127.32584293146424, 56.1267467790354, 57.25586624283884]\n",
      "Bounds clipped 176094 obs. down to 7013 obs.\n",
      "Bounds clipped 104405 obs. down to 0 obs.\n",
      "Bounds clipped 58292 obs. down to 0 obs.\n",
      "Bounds clipped 153227 obs. down to 7605 obs.\n",
      "Bounds clipped 160866 obs. down to 473 obs.\n",
      "Bounds clipped 111095 obs. down to 11571 obs.\n",
      "Bounds clipped 82852 obs. down to 469 obs.\n",
      "Bounds clipped 111534 obs. down to 0 obs.\n",
      "Bounds clipped 102226 obs. down to 1867 obs.\n",
      "Bounds clipped 119247 obs. down to 0 obs.\n",
      "Bounds clipped 108827 obs. down to 3473 obs.\n",
      "Bounds clipped 58517 obs. down to 3807 obs.\n",
      "Bounds clipped 29377 obs. down to 865 obs.\n",
      "Bounds clipped 57961 obs. down to 2274 obs.\n",
      "Bounds clipped 46750 obs. down to 1660 obs.\n",
      "Bounds clipped 53834 obs. down to 0 obs.\n",
      "Bounds clipped 84975 obs. down to 2302 obs.\n",
      "Bounds clipped 61186 obs. down to 168 obs.\n",
      "Bounds clipped 101940 obs. down to 2346 obs.\n",
      "Bounds clipped 72272 obs. down to 40 obs.\n",
      "Bounds clipped 16326 obs. down to 0 obs.\n",
      "Bounds clipped 121891 obs. down to 0 obs.\n",
      "Bounds clipped 39332 obs. down to 203 obs.\n",
      "Bounds clipped 6174 obs. down to 0 obs.\n",
      "Bounds clipped 80786 obs. down to 0 obs.\n",
      "Bounds clipped 54566 obs. down to 376 obs.\n",
      "Bounds clipped 43480 obs. down to 17 obs.\n",
      "Bounds clipped 49078 obs. down to 3193 obs.\n",
      "Bounds clipped 61756 obs. down to 1940 obs.\n",
      "Bounds clipped 7786 obs. down to 58 obs.\n",
      "Bounds clipped 40726 obs. down to 0 obs.\n",
      "Bounds clipped 83931 obs. down to 944 obs.\n",
      "Bounds clipped 122116 obs. down to 9122 obs.\n",
      "Bounds clipped 38860 obs. down to 420 obs.\n",
      "Bounds clipped 63440 obs. down to 10 obs.\n",
      "Bounds clipped 60211 obs. down to 0 obs.\n",
      "Bounds clipped 36477 obs. down to 0 obs.\n",
      "Bounds clipped 99970 obs. down to 0 obs.\n",
      "Bounds clipped 52342 obs. down to 0 obs.\n",
      "Bounds clipped 72610 obs. down to 0 obs.\n",
      "Bounds clipped 27318 obs. down to 3008 obs.\n",
      "Bounds clipped 111386 obs. down to 936 obs.\n",
      "Bounds clipped 76550 obs. down to 0 obs.\n",
      "Bounds clipped 170054 obs. down to 0 obs.\n",
      "Bounds clipped 187592 obs. down to 12699 obs.\n",
      "Bounds clipped 88863 obs. down to 4088 obs.\n",
      "Bounds clipped 122734 obs. down to 1273 obs.\n",
      "Bounds clipped 171671 obs. down to 10638 obs.\n",
      "Bounds clipped 143567 obs. down to 55 obs.\n",
      "Bounds clipped 156132 obs. down to 0 obs.\n",
      "Bounds clipped 101438 obs. down to 2272 obs.\n",
      "Bounds clipped 7623 obs. down to 0 obs.\n",
      "Bounds clipped 97594 obs. down to 7289 obs.\n",
      "Bounds clipped 144761 obs. down to 4720 obs.\n",
      "Bounds clipped 76706 obs. down to 4709 obs.\n",
      "Bounds clipped 56929 obs. down to 9068 obs.\n",
      "Bounds clipped 110900 obs. down to 0 obs.\n",
      "Bounds clipped 122720 obs. down to 0 obs.\n",
      "Bounds clipped 34768 obs. down to 1465 obs.\n",
      "Bounds clipped 6668 obs. down to 0 obs.\n",
      "Bounds clipped 106900 obs. down to 736 obs.\n",
      "Bounds clipped 102664 obs. down to 8465 obs.\n",
      "Bounds clipped 73177 obs. down to 0 obs.\n",
      "Bounds clipped 104395 obs. down to 0 obs.\n",
      "Bounds clipped 91447 obs. down to 0 obs.\n",
      "Bounds clipped 110454 obs. down to 3629 obs.\n",
      "Bounds clipped 49822 obs. down to 0 obs.\n",
      "Bounds clipped 28531 obs. down to 3007 obs.\n",
      "Bounds clipped 33539 obs. down to 2305 obs.\n",
      "Bounds clipped 72826 obs. down to 100 obs.\n",
      "Bounds clipped 76174 obs. down to 0 obs.\n",
      "Bounds clipped 128314 obs. down to 696 obs.\n",
      "Bounds clipped 36951 obs. down to 0 obs.\n",
      "Bounds clipped 93917 obs. down to 2307 obs.\n",
      "Bounds clipped 53868 obs. down to 0 obs.\n",
      "Bounds clipped 46530 obs. down to 3554 obs.\n",
      "Bounds clipped 64132 obs. down to 2224 obs.\n",
      "Bounds clipped 54849 obs. down to 9447 obs.\n",
      "Bounds clipped 66742 obs. down to 1046 obs.\n",
      "Bounds clipped 36972 obs. down to 0 obs.\n",
      "Bounds clipped 3782 obs. down to 0 obs.\n",
      "Bounds clipped 20754 obs. down to 0 obs.\n",
      "Bounds clipped 30198 obs. down to 679 obs.\n",
      "Bounds clipped 74121 obs. down to 0 obs.\n",
      "Bounds clipped 40619 obs. down to 512 obs.\n",
      "Bounds clipped 88139 obs. down to 0 obs.\n",
      "Bounds clipped 14866 obs. down to 1009 obs.\n",
      "Bounds clipped 22006 obs. down to 971 obs.\n",
      "Bounds clipped 99968 obs. down to 509 obs.\n",
      "Bounds clipped 18730 obs. down to 0 obs.\n",
      "Bounds clipped 151227 obs. down to 0 obs.\n",
      "Bounds clipped 41490 obs. down to 542 obs.\n",
      "Bounds clipped 75191 obs. down to 0 obs.\n",
      "Bounds clipped 54209 obs. down to 13428 obs.\n",
      "Bounds clipped 23580 obs. down to 4825 obs.\n",
      "Bounds clipped 105926 obs. down to 3697 obs.\n",
      "Bounds clipped 175991 obs. down to 1722 obs.\n",
      "Bounds clipped 106666 obs. down to 11529 obs.\n",
      "Bounds clipped 128361 obs. down to 0 obs.\n",
      "Bounds clipped 71959 obs. down to 0 obs.\n",
      "Bounds clipped 1017 obs. down to 0 obs.\n",
      "Bounds clipped 50467 obs. down to 0 obs.\n",
      "Bounds clipped 64082 obs. down to 3488 obs.\n",
      "Bounds clipped 20136 obs. down to 270 obs.\n",
      "Bounds clipped 17368 obs. down to 0 obs.\n",
      "Bounds clipped 35381 obs. down to 0 obs.\n",
      "Bounds clipped 5521 obs. down to 515 obs.\n",
      "Bounds clipped 55778 obs. down to 0 obs.\n",
      "Bounds clipped 86419 obs. down to 7609 obs.\n",
      "Bounds clipped 56145 obs. down to 1001 obs.\n",
      "Bounds clipped 50357 obs. down to 7067 obs.\n",
      "Bounds clipped 104680 obs. down to 11866 obs.\n",
      "Bounds clipped 33260 obs. down to 20 obs.\n",
      "Bounds clipped 63838 obs. down to 0 obs.\n",
      "Bounds clipped 104042 obs. down to 0 obs.\n",
      "Bounds clipped 88183 obs. down to 4801 obs.\n",
      "Bounds clipped 105509 obs. down to 0 obs.\n",
      "Bounds clipped 96324 obs. down to 10475 obs.\n",
      "Bounds clipped 23324 obs. down to 196 obs.\n",
      "Bounds clipped 100836 obs. down to 402 obs.\n",
      "Bounds clipped 82326 obs. down to 7333 obs.\n",
      "Bounds clipped 88433 obs. down to 0 obs.\n",
      "\n",
      "Pre-filter data cleaning...\n",
      "Pandas version: 1.2.2\n",
      "\tGet beam type from orbit orientation and ground track: ['Weak' 'Strong']\n",
      "\tCast some columns to:\n",
      "\t\ttype float: ['lat', 'lon', 'h_can', 'h_te_best', 'ter_slp']\n",
      "\t\ttype integer: ['n_ca_ph', 'n_seg_ph', 'n_toc_ph']\n",
      "Quality filtering with aggressive land-cover based (v3) filters updated in Jan/Feb 2022 ...\n",
      "\n",
      "Filtering by quality\n",
      "\tBefore quality filtering: \t\t256418 observations in the input dataframe.\n",
      "\tAfter msw_flg=0: \t\t144839 observations in the dataframe.\n",
      "\tAfter beam_type=Strong: \t\t77536 observations in the dataframe.\n",
      "\tAfter seg_snow=1: \t\t38517 observations in the dataframe.\n",
      "\tLand cover threshold dictionary: \n",
      "{0: 0, 111: 60, 113: 60, 112: 60, 114: 60, 115: 60, 116: 60, 121: 50, 123: 50, 122: 50, 124: 50, 125: 50, 126: 50, 20: 20, 30: 10, 90: 10, 100: 5, 60: 5, 40: 0, 50: 0, 70: 0, 80: 0, 200: 0}\n",
      "\tAfter land-cover specific h_can thresholds: \t\t33452 observations in the dataframe.\n",
      "\tAfter h_can_unc <5, seg_cover<32767, sol_el<5, sig_topo<2.5, h_dif_ref<25: \t\t0 observations in the dataframe.\n",
      "\tAfter month filters: 4-10\n",
      "\tAfter all quality filtering: \t\t0 observations in the output dataframe.\n",
      "\tReturning a pandas data frame.\n",
      "\tFiltered obs. for columns: ['lon', 'lat', 'rh25', 'rh50', 'rh60', 'rh70', 'rh75', 'rh80', 'rh90', 'h_can', 'h_max_can', 'ter_slp', 'h_te_best', 'seg_landcov', 'sol_el', 'y', 'm', 'doy', 'seg_cover']\n",
      "\tData frame shape: (0, 19) \n",
      "\n",
      "No ATL08 obs after quality filtering.\n",
      "\n",
      "CPU times: user 4.87 s, sys: 1.68 s, total: 6.55 s\n",
      "Wall time: 7min 29s\n"
     ]
    }
   ],
   "source": [
    "%%time\n",
    "args = f\"\\\n",
    "-LC_filter True \\\n",
    "--extract_covars \\\n",
    "--do_30m \\\n",
    "--do_dps \\\n",
    "-years_list 2019 2020 2021 \\\n",
    "-o /projects/my-public-bucket/atl08_filt_covar_tiles \\\n",
    "-in_tile_num {TILE_NUM} \\\n",
    "-in_tile_fn {INDEX_FN} \\\n",
    "-in_tile_layer {INDEX_LYR} \\\n",
    "-in_tile_id_col tile_num \\\n",
    "-csv_list_fn /projects/shared-buckets/lduncanson/DPS_tile_lists/ATL08_tindex_master.csv \\\n",
    "-topo_stack_list_fn /projects/shared-buckets/nathanmthomas/DPS_tile_lists/Topo_tindex_master.csv \\\n",
    "-landsat_stack_list_fn /projects/shared-buckets/nathanmthomas/DPS_tile_lists/HLS_tindex_master.csv \\\n",
    "-landsat_cols_list Blue Green Red NIR SWIR SWIR2 NDVI SAVI MSAVI NDMI EVI NBR NBR2 TCB TCG TCW ValidMask Xgeo Ygeo JulianDate yearDate \\\n",
    "-user_stacks nathanmthomas \\\n",
    "-user_atl08 lduncanson \\\n",
    "-thresh_sol_el 5 \\\n",
    "-v_ATL08 5 -minmonth 4 -maxmonth 10\"\n",
    "print(args)\n",
    "!python tile_atl08.py $args"
   ]
  },
  {
   "cell_type": "code",
   "execution_count": null,
   "id": "0e04094a",
   "metadata": {},
   "outputs": [],
   "source": []
  }
 ],
 "metadata": {
  "kernelspec": {
   "display_name": "Python 3 (ipykernel)",
   "language": "python",
   "name": "python3"
  },
  "language_info": {
   "codemirror_mode": {
    "name": "ipython",
    "version": 3
   },
   "file_extension": ".py",
   "mimetype": "text/x-python",
   "name": "python",
   "nbconvert_exporter": "python",
   "pygments_lexer": "ipython3",
   "version": "3.7.8"
  }
 },
 "nbformat": 4,
 "nbformat_minor": 5
}
