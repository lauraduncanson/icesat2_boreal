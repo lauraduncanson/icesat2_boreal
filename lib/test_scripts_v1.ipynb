{
 "cells": [
  {
   "cell_type": "markdown",
   "id": "e647461e",
   "metadata": {},
   "source": [
    "# Test scripts on command line\n",
    "Use this notebook as a test space"
   ]
  },
  {
   "cell_type": "code",
   "execution_count": 8,
   "id": "d1a7deac",
   "metadata": {},
   "outputs": [
    {
     "name": "stdout",
     "output_type": "stream",
     "text": [
      "Requirement already satisfied: h5py==3.1.0 in /projects/.local/lib/python3.7/site-packages (from -r /projects/Developer/icesat2_boreal/dps/requirements_main.txt (line 3)) (3.1.0)\n",
      "Requirement already satisfied: pandas==1.2.2 in /projects/.local/lib/python3.7/site-packages (from -r /projects/Developer/icesat2_boreal/dps/requirements_main.txt (line 4)) (1.2.2)\n",
      "Requirement already satisfied: pygeos==0.12.0 in /projects/.local/lib/python3.7/site-packages (from -r /projects/Developer/icesat2_boreal/dps/requirements_main.txt (line 7)) (0.12.0)\n",
      "Requirement already satisfied: rtree==0.9.7 in /projects/.local/lib/python3.7/site-packages (from -r /projects/Developer/icesat2_boreal/dps/requirements_main.txt (line 8)) (0.9.7)\n",
      "Requirement already satisfied: numpy==1.21.0 in /projects/.local/lib/python3.7/site-packages (from -r /projects/Developer/icesat2_boreal/dps/requirements_main.txt (line 9)) (1.21.0)\n",
      "Requirement already satisfied: geopandas==0.9.0 in /opt/conda/lib/python3.7/site-packages (from -r /projects/Developer/icesat2_boreal/dps/requirements_main.txt (line 12)) (0.9.0)\n",
      "Requirement already satisfied: rasterio==1.2.6 in /opt/conda/lib/python3.7/site-packages (from -r /projects/Developer/icesat2_boreal/dps/requirements_main.txt (line 13)) (1.2.6)\n",
      "Requirement already satisfied: importlib_resources in /opt/conda/lib/python3.7/site-packages (from -r /projects/Developer/icesat2_boreal/dps/requirements_main.txt (line 14)) (5.7.1)\n",
      "Requirement already satisfied: contextily in /opt/conda/lib/python3.7/site-packages (from -r /projects/Developer/icesat2_boreal/dps/requirements_main.txt (line 15)) (1.2.0)\n",
      "Requirement already satisfied: fsspec in /opt/conda/lib/python3.7/site-packages (from -r /projects/Developer/icesat2_boreal/dps/requirements_main.txt (line 16)) (2022.3.0)\n",
      "Requirement already satisfied: s3fs in /opt/conda/lib/python3.7/site-packages (from -r /projects/Developer/icesat2_boreal/dps/requirements_main.txt (line 17)) (2022.3.0)\n",
      "Requirement already satisfied: rio-cogeo==2.3.1 in /opt/conda/lib/python3.7/site-packages (from -r /projects/Developer/icesat2_boreal/dps/requirements_main.txt (line 22)) (2.3.1)\n",
      "Requirement already satisfied: rio-tiler==2.1.4 in /opt/conda/lib/python3.7/site-packages (from -r /projects/Developer/icesat2_boreal/dps/requirements_main.txt (line 23)) (2.1.4)\n",
      "Requirement already satisfied: morecantile==2.1.4 in /opt/conda/lib/python3.7/site-packages (from -r /projects/Developer/icesat2_boreal/dps/requirements_main.txt (line 25)) (2.1.4)\n",
      "Requirement already satisfied: pystac-client in /projects/.local/lib/python3.7/site-packages (from -r /projects/Developer/icesat2_boreal/dps/requirements_main.txt (line 26)) (0.3.2)\n",
      "Requirement already satisfied: cached-property in /projects/.local/lib/python3.7/site-packages (from h5py==3.1.0->-r /projects/Developer/icesat2_boreal/dps/requirements_main.txt (line 3)) (1.5.2)\n",
      "Requirement already satisfied: pytz>=2017.3 in /opt/conda/lib/python3.7/site-packages (from pandas==1.2.2->-r /projects/Developer/icesat2_boreal/dps/requirements_main.txt (line 4)) (2021.1)\n",
      "Requirement already satisfied: python-dateutil>=2.7.3 in /opt/conda/lib/python3.7/site-packages (from pandas==1.2.2->-r /projects/Developer/icesat2_boreal/dps/requirements_main.txt (line 4)) (2.8.2)\n",
      "Requirement already satisfied: pyproj>=2.2.0 in /opt/conda/lib/python3.7/site-packages (from geopandas==0.9.0->-r /projects/Developer/icesat2_boreal/dps/requirements_main.txt (line 12)) (2.6.1.post1)\n",
      "Requirement already satisfied: fiona>=1.8 in /projects/.local/lib/python3.7/site-packages (from geopandas==0.9.0->-r /projects/Developer/icesat2_boreal/dps/requirements_main.txt (line 12)) (1.8.20)\n",
      "Requirement already satisfied: shapely>=1.6 in /projects/.local/lib/python3.7/site-packages (from geopandas==0.9.0->-r /projects/Developer/icesat2_boreal/dps/requirements_main.txt (line 12)) (1.7.1)\n",
      "Requirement already satisfied: snuggs>=1.4.1 in /opt/conda/lib/python3.7/site-packages (from rasterio==1.2.6->-r /projects/Developer/icesat2_boreal/dps/requirements_main.txt (line 13)) (1.4.7)\n",
      "Requirement already satisfied: setuptools in /opt/conda/lib/python3.7/site-packages (from rasterio==1.2.6->-r /projects/Developer/icesat2_boreal/dps/requirements_main.txt (line 13)) (49.6.0.post20201009)\n",
      "Requirement already satisfied: attrs in /opt/conda/lib/python3.7/site-packages (from rasterio==1.2.6->-r /projects/Developer/icesat2_boreal/dps/requirements_main.txt (line 13)) (20.2.0)\n",
      "Requirement already satisfied: cligj>=0.5 in /opt/conda/lib/python3.7/site-packages (from rasterio==1.2.6->-r /projects/Developer/icesat2_boreal/dps/requirements_main.txt (line 13)) (0.7.0)\n",
      "Requirement already satisfied: click-plugins in /opt/conda/lib/python3.7/site-packages (from rasterio==1.2.6->-r /projects/Developer/icesat2_boreal/dps/requirements_main.txt (line 13)) (1.1.1)\n",
      "Requirement already satisfied: affine in /opt/conda/lib/python3.7/site-packages (from rasterio==1.2.6->-r /projects/Developer/icesat2_boreal/dps/requirements_main.txt (line 13)) (2.3.0)\n",
      "Requirement already satisfied: click>=4.0 in /opt/conda/lib/python3.7/site-packages (from rasterio==1.2.6->-r /projects/Developer/icesat2_boreal/dps/requirements_main.txt (line 13)) (7.1.2)\n",
      "Requirement already satisfied: certifi in /opt/conda/lib/python3.7/site-packages (from rasterio==1.2.6->-r /projects/Developer/icesat2_boreal/dps/requirements_main.txt (line 13)) (2021.5.30)\n",
      "Requirement already satisfied: pydantic in /projects/.local/lib/python3.7/site-packages (from rio-cogeo==2.3.1->-r /projects/Developer/icesat2_boreal/dps/requirements_main.txt (line 22)) (1.8.2)\n",
      "Requirement already satisfied: requests in /projects/.local/lib/python3.7/site-packages (from rio-tiler==2.1.4->-r /projects/Developer/icesat2_boreal/dps/requirements_main.txt (line 23)) (2.27.1)\n",
      "Requirement already satisfied: numexpr in /projects/.local/lib/python3.7/site-packages (from rio-tiler==2.1.4->-r /projects/Developer/icesat2_boreal/dps/requirements_main.txt (line 23)) (2.7.3)\n",
      "Requirement already satisfied: boto3 in /opt/conda/lib/python3.7/site-packages (from rio-tiler==2.1.4->-r /projects/Developer/icesat2_boreal/dps/requirements_main.txt (line 23)) (1.21.21)\n",
      "Requirement already satisfied: rio-color in /projects/.local/lib/python3.7/site-packages (from rio-tiler==2.1.4->-r /projects/Developer/icesat2_boreal/dps/requirements_main.txt (line 23)) (1.0.3)\n",
      "Requirement already satisfied: pystac>=0.5.3 in /projects/.local/lib/python3.7/site-packages (from rio-tiler==2.1.4->-r /projects/Developer/icesat2_boreal/dps/requirements_main.txt (line 23)) (1.2.0)\n",
      "Requirement already satisfied: zipp>=3.1.0 in /opt/conda/lib/python3.7/site-packages (from importlib_resources->-r /projects/Developer/icesat2_boreal/dps/requirements_main.txt (line 14)) (3.6.0)\n",
      "Requirement already satisfied: matplotlib in /opt/conda/lib/python3.7/site-packages (from contextily->-r /projects/Developer/icesat2_boreal/dps/requirements_main.txt (line 15)) (3.2.2)\n",
      "Requirement already satisfied: mercantile in /projects/.local/lib/python3.7/site-packages (from contextily->-r /projects/Developer/icesat2_boreal/dps/requirements_main.txt (line 15)) (1.2.1)\n",
      "Requirement already satisfied: joblib in /projects/.local/lib/python3.7/site-packages (from contextily->-r /projects/Developer/icesat2_boreal/dps/requirements_main.txt (line 15)) (1.0.1)\n",
      "Requirement already satisfied: geopy in /projects/.local/lib/python3.7/site-packages (from contextily->-r /projects/Developer/icesat2_boreal/dps/requirements_main.txt (line 15)) (2.2.0)\n",
      "Requirement already satisfied: pillow in /projects/.local/lib/python3.7/site-packages (from contextily->-r /projects/Developer/icesat2_boreal/dps/requirements_main.txt (line 15)) (8.3.2)\n",
      "Requirement already satisfied: xyzservices in /projects/.local/lib/python3.7/site-packages (from contextily->-r /projects/Developer/icesat2_boreal/dps/requirements_main.txt (line 15)) (2022.3.0)\n",
      "Requirement already satisfied: aiohttp<=4 in /projects/.local/lib/python3.7/site-packages (from s3fs->-r /projects/Developer/icesat2_boreal/dps/requirements_main.txt (line 17)) (3.7.4.post0)\n",
      "Requirement already satisfied: aiobotocore~=2.2.0 in /opt/conda/lib/python3.7/site-packages (from s3fs->-r /projects/Developer/icesat2_boreal/dps/requirements_main.txt (line 17)) (2.2.0)\n",
      "Requirement already satisfied: botocore<1.24.22,>=1.24.21 in /opt/conda/lib/python3.7/site-packages (from aiobotocore~=2.2.0->s3fs->-r /projects/Developer/icesat2_boreal/dps/requirements_main.txt (line 17)) (1.24.21)\n",
      "Requirement already satisfied: aioitertools>=0.5.1 in /projects/.local/lib/python3.7/site-packages (from aiobotocore~=2.2.0->s3fs->-r /projects/Developer/icesat2_boreal/dps/requirements_main.txt (line 17)) (0.8.0)\n",
      "Requirement already satisfied: wrapt>=1.10.10 in /projects/.local/lib/python3.7/site-packages (from aiobotocore~=2.2.0->s3fs->-r /projects/Developer/icesat2_boreal/dps/requirements_main.txt (line 17)) (1.12.1)\n",
      "Requirement already satisfied: async-timeout<4.0,>=3.0 in /projects/.local/lib/python3.7/site-packages (from aiohttp<=4->s3fs->-r /projects/Developer/icesat2_boreal/dps/requirements_main.txt (line 17)) (3.0.1)\n",
      "Requirement already satisfied: typing-extensions>=3.6.5 in /opt/conda/lib/python3.7/site-packages (from aiohttp<=4->s3fs->-r /projects/Developer/icesat2_boreal/dps/requirements_main.txt (line 17)) (3.10.0.2)\n",
      "Requirement already satisfied: yarl<2.0,>=1.0 in /projects/.local/lib/python3.7/site-packages (from aiohttp<=4->s3fs->-r /projects/Developer/icesat2_boreal/dps/requirements_main.txt (line 17)) (1.6.3)\n",
      "Requirement already satisfied: multidict<7.0,>=4.5 in /projects/.local/lib/python3.7/site-packages (from aiohttp<=4->s3fs->-r /projects/Developer/icesat2_boreal/dps/requirements_main.txt (line 17)) (5.1.0)\n",
      "Requirement already satisfied: chardet<5.0,>=2.0 in /opt/conda/lib/python3.7/site-packages (from aiohttp<=4->s3fs->-r /projects/Developer/icesat2_boreal/dps/requirements_main.txt (line 17)) (3.0.4)\n",
      "Requirement already satisfied: munch in /projects/.local/lib/python3.7/site-packages (from fiona>=1.8->geopandas==0.9.0->-r /projects/Developer/icesat2_boreal/dps/requirements_main.txt (line 12)) (2.5.0)\n",
      "Requirement already satisfied: six>=1.7 in /opt/conda/lib/python3.7/site-packages (from fiona>=1.8->geopandas==0.9.0->-r /projects/Developer/icesat2_boreal/dps/requirements_main.txt (line 12)) (1.15.0)\n",
      "Requirement already satisfied: urllib3<1.27,>=1.21.1 in /opt/conda/lib/python3.7/site-packages (from requests->rio-tiler==2.1.4->-r /projects/Developer/icesat2_boreal/dps/requirements_main.txt (line 23)) (1.25.11)\n",
      "Requirement already satisfied: idna<4,>=2.5 in /opt/conda/lib/python3.7/site-packages (from requests->rio-tiler==2.1.4->-r /projects/Developer/icesat2_boreal/dps/requirements_main.txt (line 23)) (2.10)\n",
      "Requirement already satisfied: charset-normalizer~=2.0.0 in /projects/.local/lib/python3.7/site-packages (from requests->rio-tiler==2.1.4->-r /projects/Developer/icesat2_boreal/dps/requirements_main.txt (line 23)) (2.0.12)\n",
      "Requirement already satisfied: pyparsing>=2.1.6 in /opt/conda/lib/python3.7/site-packages (from snuggs>=1.4.1->rasterio==1.2.6->-r /projects/Developer/icesat2_boreal/dps/requirements_main.txt (line 13)) (2.4.7)\n",
      "Requirement already satisfied: s3transfer<0.6.0,>=0.5.0 in /opt/conda/lib/python3.7/site-packages/s3transfer-0.5.0-py3.7.egg (from boto3->rio-tiler==2.1.4->-r /projects/Developer/icesat2_boreal/dps/requirements_main.txt (line 23)) (0.5.0)\n",
      "Requirement already satisfied: jmespath<2.0.0,>=0.7.1 in /opt/conda/lib/python3.7/site-packages/jmespath-0.10.0-py3.7.egg (from boto3->rio-tiler==2.1.4->-r /projects/Developer/icesat2_boreal/dps/requirements_main.txt (line 23)) (0.10.0)\n",
      "Requirement already satisfied: geographiclib<2,>=1.49 in /projects/.local/lib/python3.7/site-packages (from geopy->contextily->-r /projects/Developer/icesat2_boreal/dps/requirements_main.txt (line 15)) (1.52)\n",
      "Requirement already satisfied: cycler>=0.10 in /opt/conda/lib/python3.7/site-packages (from matplotlib->contextily->-r /projects/Developer/icesat2_boreal/dps/requirements_main.txt (line 15)) (0.10.0)\n",
      "Requirement already satisfied: kiwisolver>=1.0.1 in /opt/conda/lib/python3.7/site-packages (from matplotlib->contextily->-r /projects/Developer/icesat2_boreal/dps/requirements_main.txt (line 15)) (1.3.1)\n",
      "Requirement already satisfied: rio-mucho in /projects/.local/lib/python3.7/site-packages (from rio-color->rio-tiler==2.1.4->-r /projects/Developer/icesat2_boreal/dps/requirements_main.txt (line 23)) (1.0.0)\n",
      "\u001b[33mWARNING: Running pip as the 'root' user can result in broken permissions and conflicting behaviour with the system package manager. It is recommended to use a virtual environment instead: https://pip.pypa.io/warnings/venv\u001b[0m\u001b[33m\n",
      "\u001b[0m\u001b[33mWARNING: You are using pip version 22.0.3; however, version 22.0.4 is available.\n",
      "You should consider upgrading via the '/opt/conda/bin/python3.7 -m pip install --upgrade pip' command.\u001b[0m\u001b[33m\n",
      "\u001b[0mRequirement already satisfied: pystac_client in /projects/.local/lib/python3.7/site-packages (0.3.2)\n",
      "Requirement already satisfied: requests>=2.25 in /projects/.local/lib/python3.7/site-packages (from pystac_client) (2.27.1)\n",
      "Requirement already satisfied: pystac~=1.2.0 in /projects/.local/lib/python3.7/site-packages (from pystac_client) (1.2.0)\n",
      "Requirement already satisfied: typing-extensions>=3.7 in /opt/conda/lib/python3.7/site-packages (from pystac~=1.2.0->pystac_client) (3.10.0.2)\n",
      "Requirement already satisfied: python-dateutil>=2.7.0 in /opt/conda/lib/python3.7/site-packages (from pystac~=1.2.0->pystac_client) (2.8.2)\n",
      "Requirement already satisfied: idna<4,>=2.5 in /opt/conda/lib/python3.7/site-packages (from requests>=2.25->pystac_client) (2.10)\n",
      "Requirement already satisfied: certifi>=2017.4.17 in /opt/conda/lib/python3.7/site-packages (from requests>=2.25->pystac_client) (2021.5.30)\n",
      "Requirement already satisfied: urllib3<1.27,>=1.21.1 in /opt/conda/lib/python3.7/site-packages (from requests>=2.25->pystac_client) (1.25.11)\n",
      "Requirement already satisfied: charset-normalizer~=2.0.0 in /projects/.local/lib/python3.7/site-packages (from requests>=2.25->pystac_client) (2.0.12)\n",
      "Requirement already satisfied: six>=1.5 in /opt/conda/lib/python3.7/site-packages (from python-dateutil>=2.7.0->pystac~=1.2.0->pystac_client) (1.15.0)\n",
      "\u001b[33mWARNING: Running pip as the 'root' user can result in broken permissions and conflicting behaviour with the system package manager. It is recommended to use a virtual environment instead: https://pip.pypa.io/warnings/venv\u001b[0m\u001b[33m\n",
      "\u001b[0m\u001b[33mWARNING: You are using pip version 22.0.3; however, version 22.0.4 is available.\n",
      "You should consider upgrading via the '/opt/conda/bin/python3.7 -m pip install --upgrade pip' command.\u001b[0m\u001b[33m\n",
      "\u001b[0m"
     ]
    }
   ],
   "source": [
    "!pip install -U -r /projects/Developer/icesat2_boreal/dps/requirements_main.txt\n",
    "!pip install pystac_client\n",
    "from platform import python_version\n",
    "python_version()\n",
    "import sys\n",
    "sys.path.append('/projects/icesat2_boreal/lib')\n",
    "sys.path.append('/projects/Developer/icesat2_boreal/lib')\n",
    "import ExtractUtils\n",
    "from pyproj import CRS, Transformer\n",
    "import geopandas as gpd\n",
    "import maplib_folium"
   ]
  },
  {
   "cell_type": "code",
   "execution_count": null,
   "id": "d9638254",
   "metadata": {},
   "outputs": [],
   "source": [
    "%%time\n",
    "!python /projects/Developer/icesat2_boreal/lib/build_tindex_master.py -t ATL08_filt -y 2022 -m_list 04 --maap_version tile_atl08\n",
    "#!python /projects/icesat2_boreal/lib/build_tindex_master.py -t ATL08_filt -y 2022 -m run_LC_height_thresholds -o /projects/my-private-bucket/"
   ]
  },
  {
   "cell_type": "markdown",
   "id": "dcd4dabf",
   "metadata": {},
   "source": [
    "### Read in some tiles layers"
   ]
  },
  {
   "cell_type": "code",
   "execution_count": 2,
   "id": "cc7942f2",
   "metadata": {},
   "outputs": [
    {
     "data": {
      "text/plain": [
       "<matplotlib.axes._subplots.AxesSubplot at 0x7f1c5d510e90>"
      ]
     },
     "execution_count": 2,
     "metadata": {},
     "output_type": "execute_result"
    },
    {
     "data": {
      "image/png": "[encoded data removed]",
      "text/plain": [
       "<Figure size 432x288 with 1 Axes>"
      ]
     },
     "metadata": {
      "needs_background": "light"
     },
     "output_type": "display_data"
    }
   ],
   "source": [
    "\n",
    "dem_tiles_index_path = '/projects/shared-buckets/nathanmthomas/dem30m_tiles.geojson'\n",
    "dem_tiles_index = gpd.read_file(dem_tiles_index_path)\n",
    "dem_tiles_index['tile_num'] = dem_tiles_index.index\n",
    "\n",
    "boreal_tile_index_path = '/projects/my-public-bucket/old_boreal_tiles/boreal_tiles_v003_old.gpkg'\n",
    "boreal_tile_index = gpd.read_file(boreal_tile_index_path)\n",
    "boreal_tile_index.plot(column='tile_version')\n",
    "\n",
    "#boreal_tile_index[boreal_tile_index.tile_version=='version 2']"
   ]
  },
  {
   "cell_type": "markdown",
   "id": "46dd2529",
   "metadata": {},
   "source": [
    "#### Set up vars to pass to each script"
   ]
  },
  {
   "cell_type": "code",
   "execution_count": 4,
   "id": "7fa61e2d",
   "metadata": {},
   "outputs": [
    {
     "data": {
      "text/plain": [
       "<matplotlib.axes._subplots.AxesSubplot at 0x7feb5970bb90>"
      ]
     },
     "execution_count": 4,
     "metadata": {},
     "output_type": "execute_result"
    },
    {
     "data": {
      "image/png": "[encoded data removed]",
      "text/plain": [
       "<Figure size 432x288 with 1 Axes>"
      ]
     },
     "metadata": {
      "needs_background": "light"
     },
     "output_type": "display_data"
    }
   ],
   "source": [
    "#TILE_NUM = 12967\n",
    "#INDEX_FN = '/projects/shared-buckets/lduncanson/dem30m_tiles_v2.geojson'#\n",
    "#INDEX_LYR = 'dem30m_tiles_v2'\n",
    "\n",
    "#TILE_NUM = [38380, 37748, 2270, 2422, 2500, 2583, 2739, 2900, 2988, 2653, 2810, 2886, 2805][0]\n",
    "TILE_NUM = 1398\n",
    "INDEX_FN = '/projects/shared-buckets/nathanmthomas/boreal_tiles_v003.gpkg'\n",
    "INDEX_LYR = 'boreal_tiles_v003'\n",
    "z = gpd.read_file(INDEX_FN)\n",
    "z[z.tile_num==TILE_NUM].plot()"
   ]
  },
  {
   "cell_type": "markdown",
   "id": "129d1007",
   "metadata": {},
   "source": [
    "#### Test a run of the topo stacks: 3.1.5_dps.py"
   ]
  },
  {
   "cell_type": "code",
   "execution_count": null,
   "id": "12c62e23",
   "metadata": {},
   "outputs": [],
   "source": [
    "args = f\"--in_tile_fn {INDEX_FN} \\\n",
    "--in_tile_num {TILE_NUM} \\\n",
    "--tile_buffer_m 120 \\\n",
    "--in_tile_layer {INDEX_LYR} \\\n",
    "-o /projects/test_data/ \\\n",
    "--topo_tile_fn /projects/shared-buckets/nathanmthomas/dem30m_tiles.geojson\"\n",
    "print(args)\n",
    "!python 3.1.5_dps.py $args"
   ]
  },
  {
   "cell_type": "markdown",
   "id": "f0c053c7",
   "metadata": {},
   "source": [
    "#### Test a run of the MS comp stacks: 3.1.2_dps.py"
   ]
  },
  {
   "cell_type": "code",
   "execution_count": 4,
   "id": "0281ddaf",
   "metadata": {},
   "outputs": [
    {
     "data": {
      "text/plain": [
       "'mc25_7-01_09-01_2019_2021'"
      ]
     },
     "execution_count": 4,
     "metadata": {},
     "output_type": "execute_result"
    }
   ],
   "source": [
    "MS_DATA_TYPE = 'LS8' # 'HLS'\n",
    "if MS_DATA_TYPE == 'LS8':\n",
    "    SAT_API = 'https://landsatlook.usgs.gov/sat-api'\n",
    "else:\n",
    "    SAT_API = 'https://cmr.earthdata.nasa.gov/stac/LPCLOUD'\n",
    "MAX_CLOUDS = 25\n",
    "SEASON_START = '7-01'\n",
    "SEASON_STOP = '09-01'\n",
    "YEAR_START = '2019'\n",
    "YEAR_STOP = '2021'\n",
    "RUN_NAME = f'mc{MAX_CLOUDS}_{SEASON_START}_{SEASON_STOP}_{YEAR_START}_{YEAR_STOP}'\n",
    "RUN_NAME"
   ]
  },
  {
   "cell_type": "code",
   "execution_count": 10,
   "id": "2b05246e",
   "metadata": {},
   "outputs": [
    {
     "name": "stdout",
     "output_type": "stream",
     "text": [
      "/opt/conda/lib/python3.7/site-packages/geopandas/_compat.py:110: UserWarning: The Shapely GEOS version (3.8.0-CAPI-1.13.1 ) is incompatible with the GEOS version PyGEOS was compiled with (3.10.1-CAPI-1.16.0). Conversions between both will be slow.\n",
      "  shapely_geos_version, geos_capi_version_string\n",
      "usage: 3.1.2_dps.py [-h] [-i IN_TILE_FN] [-n IN_TILE_NUM] [-o OUTPUT_DIR]\n",
      "                    [-b TILE_BUFFER_M] [-r RES] [-lyr IN_TILE_LAYER]\n",
      "                    [-in_tile_id_col IN_TILE_ID_COL] [-a SAT_API]\n",
      "                    [-j JSON_FILE] [-l LOCAL] [-sy START_YEAR] [-ey END_YEAR]\n",
      "                    [-smd START_MONTH_DAY] [-emd END_MONTH_DAY]\n",
      "                    [-mc MAX_CLOUD] [-t [{HLS,LS8}]]\n",
      "\n",
      "optional arguments:\n",
      "  -h, --help            show this help message and exit\n",
      "  -i IN_TILE_FN, --in_tile_fn IN_TILE_FN\n",
      "                        The filename of the stack's set of vector tiles\n",
      "  -n IN_TILE_NUM, --in_tile_num IN_TILE_NUM\n",
      "                        The id of a tile that will define the bounds of the\n",
      "                        raster stacking\n",
      "  -o OUTPUT_DIR, --output_dir OUTPUT_DIR\n",
      "                        The path for the JSON files to be written\n",
      "  -b TILE_BUFFER_M, --tile_buffer_m TILE_BUFFER_M\n",
      "                        The buffer size (m) applied to the extent of the\n",
      "                        specified stack tile\n",
      "  -r RES, --res RES     The output resolution of the stack\n",
      "  -lyr IN_TILE_LAYER, --in_tile_layer IN_TILE_LAYER\n",
      "                        The layer name of the stack tiles dataset\n",
      "  -in_tile_id_col IN_TILE_ID_COL\n",
      "                        The column of the tile layer name of the stack tiles\n",
      "                        dataset that holds the tile num\n",
      "  -a SAT_API, --sat_api SAT_API\n",
      "                        URL of USGS query endpoint\n",
      "  -j JSON_FILE, --json_file JSON_FILE\n",
      "                        The S3 path to the query response json\n",
      "  -l LOCAL, --local LOCAL\n",
      "                        Dictate whether it is a run using local paths\n",
      "  -sy START_YEAR, --start_year START_YEAR\n",
      "                        specify the start year date (e.g., 2020)\n",
      "  -ey END_YEAR, --end_year END_YEAR\n",
      "                        specify the end year date (e.g., 2021)\n",
      "  -smd START_MONTH_DAY, --start_month_day START_MONTH_DAY\n",
      "                        specify the start month and day (e.g., 06-01)\n",
      "  -emd END_MONTH_DAY, --end_month_day END_MONTH_DAY\n",
      "                        specify the end month and day (e.g., 09-15)\n",
      "  -mc MAX_CLOUD, --max_cloud MAX_CLOUD\n",
      "                        specify the max amount of cloud\n",
      "  -t [{HLS,LS8}], --composite_type [{HLS,LS8}]\n",
      "                        Specify the composite type\n"
     ]
    }
   ],
   "source": [
    "!python 3.1.2_dps.py -h\n"
   ]
  },
  {
   "cell_type": "code",
   "execution_count": 5,
   "id": "536cf9a0",
   "metadata": {},
   "outputs": [
    {
     "name": "stdout",
     "output_type": "stream",
     "text": [
      "-i /projects/shared-buckets/nathanmthomas/boreal_tiles_v003.gpkg --in_tile_num 1398 -lyr boreal_tiles_v003 -o /projects/test_data -a https://landsatlook.usgs.gov/sat-api --tile_buffer_m 0 -sy 2019 -ey 2021 -smd 7-01 -emd 09-01 -mc 25 -t LS8\n",
      "/opt/conda/lib/python3.7/site-packages/geopandas/_compat.py:110: UserWarning: The Shapely GEOS version (3.8.0-CAPI-1.13.1 ) is incompatible with the GEOS version PyGEOS was compiled with (3.10.1-CAPI-1.16.0). Conversions between both will be slow.\n",
      "  shapely_geos_version, geos_capi_version_string\n",
      "\n",
      "Tiles path:\t\t /projects/shared-buckets/nathanmthomas/boreal_tiles_v003.gpkg\n",
      "Tile number:\t\t 1398\n",
      "Output res (m):\t\t 30\n",
      "in_bbox:\t\t [-5571478.000000006, 5463304.000000009, -5481478.000000006, 5553304.000000009]\n",
      "bbox 4326:\t\t [78.80085603774032, 42.97766754208642, 79.96855853549698, 43.8607283562278]\n",
      "get ls8 data\n",
      "\n",
      "Printing tile parts:\n",
      "\t{'geom_orig':       tile_num  ...                                           geometry\n",
      "1397      1398  ...  POLYGON ((-5571478.000 5553304.000, -5481478.0...\n",
      "\n",
      "[1 rows x 5 columns], 'geom_orig_buffered': 1397    POLYGON ((-5571478.000 5553304.000, -5481478.0...\n",
      "dtype: geometry, 'bbox_orig': [-5571478.000000006, 5463304.000000009, -5481478.000000006, 5553304.000000009], 'tile_crs': CRS.from_wkt('PROJCS[\"unnamed\",GEOGCS[\"GRS 1980(IUGG, 1980)\",DATUM[\"unknown\",SPHEROID[\"GRS80\",6378137,298.257222101],TOWGS84[0,0,0,0,0,0,0]],PRIMEM[\"Greenwich\",0],UNIT[\"degree\",0.0174532925199433]],PROJECTION[\"Albers_Conic_Equal_Area\"],PARAMETER[\"standard_parallel_1\",50],PARAMETER[\"standard_parallel_2\",70],PARAMETER[\"latitude_of_center\",40],PARAMETER[\"longitude_of_center\",180],PARAMETER[\"false_easting\",0],PARAMETER[\"false_northing\",0],UNIT[\"Meter\",1],AXIS[\"Easting\",EAST],AXIS[\"Northing\",NORTH]]'), 'geom_4326':       tile_num  ...                                           geometry\n",
      "1397      1398  ...  POLYGON ((78.80086 43.03740, 78.87158 43.86073...\n",
      "\n",
      "[1 rows x 5 columns], 'bbox_4326': [78.80085603774032, 42.97766754208642, 79.96855853549698, 43.8607283562278], 'geom_4326_buffered': 1397    POLYGON ((78.80086 43.03740, 78.87158 43.86073...\n",
      "dtype: geometry, 'bbox_4326_buffered': [78.80085603774032, 42.97766754208642, 79.96855853549698, 43.8607283562278]}\n",
      "range(2019, 2022)\n",
      "start date, end date:\t\t 2019-07-01T00:00:00Z 2019-09-01T23:59:59Z\n",
      "\n",
      "Conducting Landsat 8 search now...\n",
      "Search query parameters:\n",
      "{'time': '2019-07-01T00:00:00Z/2019-09-01T23:59:59Z', 'bbox': [78.80085603774032, 42.97766754208642, 79.96855853549698, 43.8607283562278], 'query': {'collections': ['landsat-c2l2-sr'], 'platform': {'in': ['LANDSAT_8']}, 'eo:cloud_cover': {'gte': 0, 'lt': 25}, 'landsat:collection_category': {'in': ['T1']}}, 'limit': 500}\n",
      "\n",
      "\n",
      "Search complete.\n",
      "\n",
      "start date, end date:\t\t 2020-07-01T00:00:00Z 2020-09-01T23:59:59Z\n",
      "\n",
      "Conducting Landsat 8 search now...\n",
      "Search query parameters:\n",
      "{'time': '2020-07-01T00:00:00Z/2020-09-01T23:59:59Z', 'bbox': [78.80085603774032, 42.97766754208642, 79.96855853549698, 43.8607283562278], 'query': {'collections': ['landsat-c2l2-sr'], 'platform': {'in': ['LANDSAT_8']}, 'eo:cloud_cover': {'gte': 0, 'lt': 25}, 'landsat:collection_category': {'in': ['T1']}}, 'limit': 500}\n",
      "\n",
      "\n",
      "Search complete.\n",
      "\n",
      "start date, end date:\t\t 2021-07-01T00:00:00Z 2021-09-01T23:59:59Z\n",
      "\n",
      "Conducting Landsat 8 search now...\n",
      "Search query parameters:\n",
      "{'time': '2021-07-01T00:00:00Z/2021-09-01T23:59:59Z', 'bbox': [78.80085603774032, 42.97766754208642, 79.96855853549698, 43.8607283562278], 'query': {'collections': ['landsat-c2l2-sr'], 'platform': {'in': ['LANDSAT_8']}, 'eo:cloud_cover': {'gte': 0, 'lt': 25}, 'landsat:collection_category': {'in': ['T1']}}, 'limit': 500}\n",
      "\n",
      "\n",
      "Search complete.\n",
      "\n",
      "scene total:  [12, 5, 10]\n",
      "# of files per band:\t\t 27\n",
      "Example path to a band:\t\t s3://usgs-landsat/collection02/level-2/standard/oli-tirs/2019/147/030/LC08_L2SP_147030_20190724_20200827_02_T1/LC08_L2SP_147030_20190724_20200827_02_T1_SR_B2.TIF\n",
      "Creating NDVI stack...\n",
      "LS8\n",
      "finished\n",
      "Make NDVI valid mask\n",
      "shape:\t\t (27, 3000, 3000)\n",
      "Get stack nan mask\n",
      "Calculate Stack max NDVI image\n"
     ]
    }
   ],
   "source": [
    "args = f\"-i {INDEX_FN} \\\n",
    "--in_tile_num {TILE_NUM} \\\n",
    "-lyr {INDEX_LYR} \\\n",
    "-o /projects/test_data \\\n",
    "-a {SAT_API} \\\n",
    "--tile_buffer_m 0 \\\n",
    "-sy {YEAR_START} -ey {YEAR_STOP} -smd {SEASON_START} -emd {SEASON_STOP} -mc {MAX_CLOUDS} -t {MS_DATA_TYPE}\"\n",
    "print(args)\n",
    "!python 3.1.2_dps.py $args"
   ]
  },
  {
   "cell_type": "markdown",
   "id": "87469e39",
   "metadata": {},
   "source": [
    "#### Test a run of tile_atl08.py"
   ]
  },
  {
   "cell_type": "code",
   "execution_count": null,
   "id": "eae43ff9",
   "metadata": {},
   "outputs": [],
   "source": [
    "%%time\n",
    "args = f\"\\\n",
    "-LC_filter True \\\n",
    "--extract_covars \\\n",
    "--do_30m \\\n",
    "--do_dps \\\n",
    "-years_list 2019 2020 2021 \\\n",
    "-o /projects/my-public-bucket/atl08_filt_covar_tiles \\\n",
    "-in_tile_num {TILE_NUM} \\\n",
    "-in_tile_fn {INDEX_FN} \\\n",
    "-in_tile_layer {INDEX_LYR} \\\n",
    "-in_tile_id_col tile_num \\\n",
    "-csv_list_fn /projects/shared-buckets/lduncanson/DPS_tile_lists/ATL08_tindex_master.csv \\\n",
    "-topo_stack_list_fn /projects/shared-buckets/nathanmthomas/DPS_tile_lists/Topo_tindex_master.csv \\\n",
    "-landsat_stack_list_fn /projects/shared-buckets/nathanmthomas/DPS_tile_lists/HLS_tindex_master.csv \\\n",
    "-landsat_cols_list Blue Green Red NIR SWIR SWIR2 NDVI SAVI MSAVI NDMI EVI NBR NBR2 TCB TCG TCW ValidMask Xgeo Ygeo JulianDate yearDate \\\n",
    "-user_stacks nathanmthomas \\\n",
    "-user_atl08 lduncanson \\\n",
    "-thresh_sol_el 5 \\\n",
    "-v_ATL08 5 -minmonth 4 -maxmonth 10\"\n",
    "print(args)\n",
    "!python tile_atl08.py $args"
   ]
  },
  {
   "cell_type": "code",
   "execution_count": null,
   "id": "2a5bd5e4",
   "metadata": {},
   "outputs": [],
   "source": []
  }
 ],
 "metadata": {
  "kernelspec": {
   "display_name": "Python 3 (ipykernel)",
   "language": "python",
   "name": "python3"
  },
  "language_info": {
   "codemirror_mode": {
    "name": "ipython",
    "version": 3
   },
   "file_extension": ".py",
   "mimetype": "text/x-python",
   "name": "python",
   "nbconvert_exporter": "python",
   "pygments_lexer": "ipython3",
   "version": "3.7.8"
  }
 },
 "nbformat": 4,
 "nbformat_minor": 5
}
