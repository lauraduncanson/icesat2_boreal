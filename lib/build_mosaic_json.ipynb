{
 "cells": [
  {
   "cell_type": "markdown",
   "id": "b4e91351",
   "metadata": {},
   "source": [
    "# Build a tile index csv and Mosaic Json for COGs"
   ]
  },
  {
   "cell_type": "markdown",
   "id": "a6bcbc80",
   "metadata": {},
   "source": [
    "##### Path to your icesat2_boreal/lib dir - clone the icesat2_boreal GitHub repository\n",
    "https://github.com/lauraduncanson/icesat2_boreal.git"
   ]
  },
  {
   "cell_type": "code",
   "execution_count": 1,
   "id": "6345fc6a",
   "metadata": {},
   "outputs": [],
   "source": [
    "ICESAT2_BOREAL_REPO_PATH = '/projects/Developer/icesat2_boreal' # /projects/Developer/icesat2_boreal/lib\n",
    "ICESAT2_BOREAL_LIB_PATH = ICESAT2_BOREAL_REPO_PATH + '/lib'"
   ]
  },
  {
   "cell_type": "code",
   "execution_count": 2,
   "id": "16d2a6ba",
   "metadata": {},
   "outputs": [
    {
     "name": "stdout",
     "output_type": "stream",
     "text": [
      "Requirement already satisfied: h5py==3.1.0 in /projects/.local/lib/python3.7/site-packages (from -r /projects/Developer/icesat2_boreal/dps/requirements_main.txt (line 3)) (3.1.0)\n",
      "Requirement already satisfied: pandas==1.2.2 in /projects/.local/lib/python3.7/site-packages (from -r /projects/Developer/icesat2_boreal/dps/requirements_main.txt (line 4)) (1.2.2)\n",
      "Requirement already satisfied: pygeos==0.12.0 in /projects/.local/lib/python3.7/site-packages (from -r /projects/Developer/icesat2_boreal/dps/requirements_main.txt (line 7)) (0.12.0)\n",
      "Requirement already satisfied: rtree==0.9.7 in /projects/.local/lib/python3.7/site-packages (from -r /projects/Developer/icesat2_boreal/dps/requirements_main.txt (line 8)) (0.9.7)\n",
      "Requirement already satisfied: numpy==1.21.0 in /projects/.local/lib/python3.7/site-packages (from -r /projects/Developer/icesat2_boreal/dps/requirements_main.txt (line 9)) (1.21.0)\n",
      "Requirement already satisfied: geopandas==0.9.0 in /opt/conda/lib/python3.7/site-packages (from -r /projects/Developer/icesat2_boreal/dps/requirements_main.txt (line 12)) (0.9.0)\n",
      "Requirement already satisfied: rasterio==1.2.6 in /opt/conda/lib/python3.7/site-packages (from -r /projects/Developer/icesat2_boreal/dps/requirements_main.txt (line 13)) (1.2.6)\n",
      "Requirement already satisfied: importlib_resources in /opt/conda/lib/python3.7/site-packages (from -r /projects/Developer/icesat2_boreal/dps/requirements_main.txt (line 14)) (5.7.1)\n",
      "Requirement already satisfied: contextily in /opt/conda/lib/python3.7/site-packages (from -r /projects/Developer/icesat2_boreal/dps/requirements_main.txt (line 15)) (1.2.0)\n",
      "Requirement already satisfied: fsspec in /opt/conda/lib/python3.7/site-packages (from -r /projects/Developer/icesat2_boreal/dps/requirements_main.txt (line 16)) (2022.3.0)\n",
      "Requirement already satisfied: s3fs in /opt/conda/lib/python3.7/site-packages (from -r /projects/Developer/icesat2_boreal/dps/requirements_main.txt (line 17)) (2022.3.0)\n",
      "Requirement already satisfied: rio-cogeo==2.3.1 in /opt/conda/lib/python3.7/site-packages (from -r /projects/Developer/icesat2_boreal/dps/requirements_main.txt (line 22)) (2.3.1)\n",
      "Requirement already satisfied: rio-tiler==2.1.4 in /opt/conda/lib/python3.7/site-packages (from -r /projects/Developer/icesat2_boreal/dps/requirements_main.txt (line 23)) (2.1.4)\n",
      "Requirement already satisfied: morecantile==2.1.4 in /opt/conda/lib/python3.7/site-packages (from -r /projects/Developer/icesat2_boreal/dps/requirements_main.txt (line 25)) (2.1.4)\n",
      "Requirement already satisfied: pystac-client in /opt/conda/lib/python3.7/site-packages (from -r /projects/Developer/icesat2_boreal/dps/requirements_main.txt (line 26)) (0.3.3)\n",
      "Requirement already satisfied: cached-property in /projects/.local/lib/python3.7/site-packages (from h5py==3.1.0->-r /projects/Developer/icesat2_boreal/dps/requirements_main.txt (line 3)) (1.5.2)\n",
      "Requirement already satisfied: pytz>=2017.3 in /opt/conda/lib/python3.7/site-packages (from pandas==1.2.2->-r /projects/Developer/icesat2_boreal/dps/requirements_main.txt (line 4)) (2021.1)\n",
      "Requirement already satisfied: python-dateutil>=2.7.3 in /opt/conda/lib/python3.7/site-packages (from pandas==1.2.2->-r /projects/Developer/icesat2_boreal/dps/requirements_main.txt (line 4)) (2.8.2)\n",
      "Requirement already satisfied: shapely>=1.6 in /projects/.local/lib/python3.7/site-packages (from geopandas==0.9.0->-r /projects/Developer/icesat2_boreal/dps/requirements_main.txt (line 12)) (1.7.1)\n",
      "Requirement already satisfied: pyproj>=2.2.0 in /opt/conda/lib/python3.7/site-packages (from geopandas==0.9.0->-r /projects/Developer/icesat2_boreal/dps/requirements_main.txt (line 12)) (2.6.1.post1)\n",
      "Requirement already satisfied: fiona>=1.8 in /projects/.local/lib/python3.7/site-packages (from geopandas==0.9.0->-r /projects/Developer/icesat2_boreal/dps/requirements_main.txt (line 12)) (1.8.20)\n",
      "Requirement already satisfied: certifi in /opt/conda/lib/python3.7/site-packages (from rasterio==1.2.6->-r /projects/Developer/icesat2_boreal/dps/requirements_main.txt (line 13)) (2021.5.30)\n",
      "Requirement already satisfied: click>=4.0 in /opt/conda/lib/python3.7/site-packages (from rasterio==1.2.6->-r /projects/Developer/icesat2_boreal/dps/requirements_main.txt (line 13)) (7.1.2)\n",
      "Requirement already satisfied: attrs in /opt/conda/lib/python3.7/site-packages (from rasterio==1.2.6->-r /projects/Developer/icesat2_boreal/dps/requirements_main.txt (line 13)) (20.2.0)\n",
      "Requirement already satisfied: click-plugins in /opt/conda/lib/python3.7/site-packages (from rasterio==1.2.6->-r /projects/Developer/icesat2_boreal/dps/requirements_main.txt (line 13)) (1.1.1)\n",
      "Requirement already satisfied: setuptools in /opt/conda/lib/python3.7/site-packages (from rasterio==1.2.6->-r /projects/Developer/icesat2_boreal/dps/requirements_main.txt (line 13)) (49.6.0.post20201009)\n",
      "Requirement already satisfied: snuggs>=1.4.1 in /opt/conda/lib/python3.7/site-packages (from rasterio==1.2.6->-r /projects/Developer/icesat2_boreal/dps/requirements_main.txt (line 13)) (1.4.7)\n",
      "Requirement already satisfied: affine in /opt/conda/lib/python3.7/site-packages (from rasterio==1.2.6->-r /projects/Developer/icesat2_boreal/dps/requirements_main.txt (line 13)) (2.3.0)\n",
      "Requirement already satisfied: cligj>=0.5 in /opt/conda/lib/python3.7/site-packages (from rasterio==1.2.6->-r /projects/Developer/icesat2_boreal/dps/requirements_main.txt (line 13)) (0.7.0)\n",
      "Requirement already satisfied: pydantic in /projects/.local/lib/python3.7/site-packages (from rio-cogeo==2.3.1->-r /projects/Developer/icesat2_boreal/dps/requirements_main.txt (line 22)) (1.8.2)\n",
      "Requirement already satisfied: requests in /projects/.local/lib/python3.7/site-packages (from rio-tiler==2.1.4->-r /projects/Developer/icesat2_boreal/dps/requirements_main.txt (line 23)) (2.27.1)\n",
      "Requirement already satisfied: numexpr in /projects/.local/lib/python3.7/site-packages (from rio-tiler==2.1.4->-r /projects/Developer/icesat2_boreal/dps/requirements_main.txt (line 23)) (2.7.3)\n",
      "Requirement already satisfied: rio-color in /projects/.local/lib/python3.7/site-packages (from rio-tiler==2.1.4->-r /projects/Developer/icesat2_boreal/dps/requirements_main.txt (line 23)) (1.0.3)\n",
      "Requirement already satisfied: boto3 in /opt/conda/lib/python3.7/site-packages (from rio-tiler==2.1.4->-r /projects/Developer/icesat2_boreal/dps/requirements_main.txt (line 23)) (1.21.21)\n",
      "Requirement already satisfied: pystac>=0.5.3 in /opt/conda/lib/python3.7/site-packages (from rio-tiler==2.1.4->-r /projects/Developer/icesat2_boreal/dps/requirements_main.txt (line 23)) (1.4.0)\n",
      "Requirement already satisfied: zipp>=3.1.0 in /opt/conda/lib/python3.7/site-packages (from importlib_resources->-r /projects/Developer/icesat2_boreal/dps/requirements_main.txt (line 14)) (3.6.0)\n",
      "Requirement already satisfied: pillow in /projects/.local/lib/python3.7/site-packages (from contextily->-r /projects/Developer/icesat2_boreal/dps/requirements_main.txt (line 15)) (8.3.2)\n",
      "Requirement already satisfied: geopy in /projects/.local/lib/python3.7/site-packages (from contextily->-r /projects/Developer/icesat2_boreal/dps/requirements_main.txt (line 15)) (2.2.0)\n",
      "Requirement already satisfied: mercantile in /projects/.local/lib/python3.7/site-packages (from contextily->-r /projects/Developer/icesat2_boreal/dps/requirements_main.txt (line 15)) (1.2.1)\n",
      "Requirement already satisfied: joblib in /projects/.local/lib/python3.7/site-packages (from contextily->-r /projects/Developer/icesat2_boreal/dps/requirements_main.txt (line 15)) (1.0.1)\n",
      "Requirement already satisfied: xyzservices in /projects/.local/lib/python3.7/site-packages (from contextily->-r /projects/Developer/icesat2_boreal/dps/requirements_main.txt (line 15)) (2022.3.0)\n",
      "Requirement already satisfied: matplotlib in /opt/conda/lib/python3.7/site-packages (from contextily->-r /projects/Developer/icesat2_boreal/dps/requirements_main.txt (line 15)) (3.2.2)\n",
      "Requirement already satisfied: aiobotocore~=2.2.0 in /opt/conda/lib/python3.7/site-packages (from s3fs->-r /projects/Developer/icesat2_boreal/dps/requirements_main.txt (line 17)) (2.2.0)\n",
      "Requirement already satisfied: aiohttp<=4 in /projects/.local/lib/python3.7/site-packages (from s3fs->-r /projects/Developer/icesat2_boreal/dps/requirements_main.txt (line 17)) (3.7.4.post0)\n",
      "Requirement already satisfied: botocore<1.24.22,>=1.24.21 in /opt/conda/lib/python3.7/site-packages (from aiobotocore~=2.2.0->s3fs->-r /projects/Developer/icesat2_boreal/dps/requirements_main.txt (line 17)) (1.24.21)\n",
      "Requirement already satisfied: wrapt>=1.10.10 in /projects/.local/lib/python3.7/site-packages (from aiobotocore~=2.2.0->s3fs->-r /projects/Developer/icesat2_boreal/dps/requirements_main.txt (line 17)) (1.12.1)\n",
      "Requirement already satisfied: aioitertools>=0.5.1 in /projects/.local/lib/python3.7/site-packages (from aiobotocore~=2.2.0->s3fs->-r /projects/Developer/icesat2_boreal/dps/requirements_main.txt (line 17)) (0.8.0)\n",
      "Requirement already satisfied: chardet<5.0,>=2.0 in /opt/conda/lib/python3.7/site-packages (from aiohttp<=4->s3fs->-r /projects/Developer/icesat2_boreal/dps/requirements_main.txt (line 17)) (3.0.4)\n",
      "Requirement already satisfied: multidict<7.0,>=4.5 in /projects/.local/lib/python3.7/site-packages (from aiohttp<=4->s3fs->-r /projects/Developer/icesat2_boreal/dps/requirements_main.txt (line 17)) (5.1.0)\n",
      "Requirement already satisfied: typing-extensions>=3.6.5 in /opt/conda/lib/python3.7/site-packages (from aiohttp<=4->s3fs->-r /projects/Developer/icesat2_boreal/dps/requirements_main.txt (line 17)) (3.10.0.2)\n",
      "Requirement already satisfied: async-timeout<4.0,>=3.0 in /projects/.local/lib/python3.7/site-packages (from aiohttp<=4->s3fs->-r /projects/Developer/icesat2_boreal/dps/requirements_main.txt (line 17)) (3.0.1)\n",
      "Requirement already satisfied: yarl<2.0,>=1.0 in /projects/.local/lib/python3.7/site-packages (from aiohttp<=4->s3fs->-r /projects/Developer/icesat2_boreal/dps/requirements_main.txt (line 17)) (1.6.3)\n",
      "Requirement already satisfied: six>=1.7 in /opt/conda/lib/python3.7/site-packages (from fiona>=1.8->geopandas==0.9.0->-r /projects/Developer/icesat2_boreal/dps/requirements_main.txt (line 12)) (1.15.0)\n",
      "Requirement already satisfied: munch in /projects/.local/lib/python3.7/site-packages (from fiona>=1.8->geopandas==0.9.0->-r /projects/Developer/icesat2_boreal/dps/requirements_main.txt (line 12)) (2.5.0)\n",
      "Requirement already satisfied: charset-normalizer~=2.0.0 in /projects/.local/lib/python3.7/site-packages (from requests->rio-tiler==2.1.4->-r /projects/Developer/icesat2_boreal/dps/requirements_main.txt (line 23)) (2.0.12)\n",
      "Requirement already satisfied: urllib3<1.27,>=1.21.1 in /opt/conda/lib/python3.7/site-packages (from requests->rio-tiler==2.1.4->-r /projects/Developer/icesat2_boreal/dps/requirements_main.txt (line 23)) (1.25.11)\n",
      "Requirement already satisfied: idna<4,>=2.5 in /opt/conda/lib/python3.7/site-packages (from requests->rio-tiler==2.1.4->-r /projects/Developer/icesat2_boreal/dps/requirements_main.txt (line 23)) (2.10)\n",
      "Requirement already satisfied: pyparsing>=2.1.6 in /opt/conda/lib/python3.7/site-packages (from snuggs>=1.4.1->rasterio==1.2.6->-r /projects/Developer/icesat2_boreal/dps/requirements_main.txt (line 13)) (2.4.7)\n",
      "Requirement already satisfied: jmespath<2.0.0,>=0.7.1 in /opt/conda/lib/python3.7/site-packages/jmespath-0.10.0-py3.7.egg (from boto3->rio-tiler==2.1.4->-r /projects/Developer/icesat2_boreal/dps/requirements_main.txt (line 23)) (0.10.0)\n",
      "Requirement already satisfied: s3transfer<0.6.0,>=0.5.0 in /opt/conda/lib/python3.7/site-packages/s3transfer-0.5.0-py3.7.egg (from boto3->rio-tiler==2.1.4->-r /projects/Developer/icesat2_boreal/dps/requirements_main.txt (line 23)) (0.5.0)\n",
      "Requirement already satisfied: geographiclib<2,>=1.49 in /projects/.local/lib/python3.7/site-packages (from geopy->contextily->-r /projects/Developer/icesat2_boreal/dps/requirements_main.txt (line 15)) (1.52)\n",
      "Requirement already satisfied: cycler>=0.10 in /opt/conda/lib/python3.7/site-packages (from matplotlib->contextily->-r /projects/Developer/icesat2_boreal/dps/requirements_main.txt (line 15)) (0.10.0)\n",
      "Requirement already satisfied: kiwisolver>=1.0.1 in /opt/conda/lib/python3.7/site-packages (from matplotlib->contextily->-r /projects/Developer/icesat2_boreal/dps/requirements_main.txt (line 15)) (1.3.1)\n",
      "Requirement already satisfied: rio-mucho in /projects/.local/lib/python3.7/site-packages (from rio-color->rio-tiler==2.1.4->-r /projects/Developer/icesat2_boreal/dps/requirements_main.txt (line 23)) (1.0.0)\n",
      "\u001b[33mWARNING: Running pip as the 'root' user can result in broken permissions and conflicting behaviour with the system package manager. It is recommended to use a virtual environment instead: https://pip.pypa.io/warnings/venv\u001b[0m\u001b[33m\n",
      "\u001b[0m\u001b[33mWARNING: You are using pip version 22.0.3; however, version 22.1 is available.\n",
      "You should consider upgrading via the '/opt/conda/bin/python3.7 -m pip install --upgrade pip' command.\u001b[0m\u001b[33m\n",
      "\u001b[0m"
     ]
    }
   ],
   "source": [
    "!pip install -U -r $ICESAT2_BOREAL_REPO_PATH/dps/requirements_main.txt"
   ]
  },
  {
   "cell_type": "code",
   "execution_count": 3,
   "id": "7bd87e8f",
   "metadata": {},
   "outputs": [
    {
     "name": "stderr",
     "output_type": "stream",
     "text": [
      "/opt/conda/lib/python3.7/site-packages/geopandas/_compat.py:110: UserWarning: The Shapely GEOS version (3.8.0-CAPI-1.13.1 ) is incompatible with the GEOS version PyGEOS was compiled with (3.10.1-CAPI-1.16.0). Conversions between both will be slow.\n",
      "  shapely_geos_version, geos_capi_version_string\n"
     ]
    }
   ],
   "source": [
    "import geopandas\n",
    "import pandas as pd\n",
    "import os\n",
    "import json\n",
    "import collections\n",
    "import numpy as np\n",
    "import sys\n",
    "import s3fs\n",
    "import matplotlib.pyplot as plt\n",
    "sys.path.append(ICESAT2_BOREAL_LIB_PATH)\n",
    "import maplib_folium\n",
    "import ExtractUtils"
   ]
  },
  {
   "cell_type": "markdown",
   "id": "64cd15c2",
   "metadata": {},
   "source": [
    "### Build the tile index csv"
   ]
  },
  {
   "cell_type": "code",
   "execution_count": 4,
   "id": "1c84e6b2",
   "metadata": {},
   "outputs": [],
   "source": [
    "DPS_DATA_TYPE = 'HLS' #'AGB'\n",
    "DPS_ALG_NAME = 'do_HLS_stack_3-1-2_ubuntu'\n",
    "DPS_RUN = 'spring2022'\n",
    "OUT_MASTER_CSV_JSON_DIR = '/projects/my-public-bucket/DPS_tile_lists/'+DPS_RUN\n",
    "OUT_MASTER_CSV_JSON_DIR = '/projects/my-public-bucket/DPS_tile_lists/HLS_test_redo/'+DPS_RUN\n",
    "#DPS_DIR = 's3://maap-ops-workspace/lduncanson/dps_output/run_boreal_biomass_v4_ubuntu/master/2022/norway_mask1'\n",
    "\n",
    "AGB_tindex_master_fn    = os.path.join(OUT_MASTER_CSV_JSON_DIR, f'{DPS_DATA_TYPE}_tindex_master.csv')\n",
    "tile_matches_geojson_fn = os.path.join(OUT_MASTER_CSV_JSON_DIR, f'{DPS_DATA_TYPE}_tindex_master.json')\n",
    "out_mosaic_json_fn      = os.path.join(OUT_MASTER_CSV_JSON_DIR, f'{DPS_DATA_TYPE}_tindex_master_mosaic.json')"
   ]
  },
  {
   "cell_type": "code",
   "execution_count": 5,
   "id": "bad20971",
   "metadata": {},
   "outputs": [],
   "source": [
    "#!python $ICESAT2_BOREAL_LIB_PATH/build_tindex_master.py --type ATL08_filt -m $DPS_RUN -o $OUT_MASTER_CSV_JSON_DIR"
   ]
  },
  {
   "cell_type": "code",
   "execution_count": 6,
   "id": "8129be14",
   "metadata": {},
   "outputs": [
    {
     "name": "stdout",
     "output_type": "stream",
     "text": [
      "/opt/conda/lib/python3.7/site-packages/geopandas/_compat.py:110: UserWarning: The Shapely GEOS version (3.8.0-CAPI-1.13.1 ) is incompatible with the GEOS version PyGEOS was compiled with (3.10.1-CAPI-1.16.0). Conversions between both will be slow.\n",
      "  shapely_geos_version, geos_capi_version_string\n",
      "\n",
      "Building a list of tiles:\n",
      "MAAP version:\t\tmaster\n",
      "Type:\t\tHLS\n",
      "Year:\t\t2022\n",
      "Month:\t\t['spring2022']\n",
      "Days:\t\t1-31\n",
      "\n",
      "Output dir:  /projects/my-public-bucket/DPS_tile_lists/HLS_test_redo/spring2022\n",
      "                                             s3_path  ...                                file\n",
      "0  s3://maap-ops-workspace/nathanmthomas/dps_outp...  ...     HLS_7_06-01_09-15_2019_2021.tif\n",
      "1  s3://maap-ops-workspace/nathanmthomas/dps_outp...  ...   HLS_178_06-01_09-15_2019_2021.tif\n",
      "2  s3://maap-ops-workspace/nathanmthomas/dps_outp...  ...   HLS_275_06-01_09-15_2019_2021.tif\n",
      "3  s3://maap-ops-workspace/nathanmthomas/dps_outp...  ...  HLS_3848_06-01_09-15_2019_2021.tif\n",
      "4  s3://maap-ops-workspace/nathanmthomas/dps_outp...  ...     HLS_4_06-01_09-15_2019_2021.tif\n",
      "\n",
      "[5 rows x 3 columns]\n",
      "/projects/.local/lib/python3.7/site-packages/pandas/core/indexing.py:1597: SettingWithCopyWarning: \n",
      "A value is trying to be set on a copy of a slice from a DataFrame.\n",
      "Try using .loc[row_indexer,col_indexer] = value instead\n",
      "\n",
      "See the caveats in the documentation: https://pandas.pydata.org/pandas-docs/stable/user_guide/indexing.html#returning-a-view-versus-a-copy\n",
      "  self.obj[key] = value\n",
      "/projects/.local/lib/python3.7/site-packages/pandas/core/indexing.py:1720: SettingWithCopyWarning: \n",
      "A value is trying to be set on a copy of a slice from a DataFrame.\n",
      "Try using .loc[row_indexer,col_indexer] = value instead\n",
      "\n",
      "See the caveats in the documentation: https://pandas.pydata.org/pandas-docs/stable/user_guide/indexing.html#returning-a-view-versus-a-copy\n",
      "  self._setitem_single_column(loc, value, pi)\n",
      "# of duplicate tiles: 396\n",
      "Final # of tiles: 4240\n",
      "df shape :                                                 s3_path  ... tile_num\n",
      "2882  s3://maap-ops-workspace/nathanmthomas/dps_outp...  ...     1590\n",
      "2881  s3://maap-ops-workspace/nathanmthomas/dps_outp...  ...     1755\n",
      "2880  s3://maap-ops-workspace/nathanmthomas/dps_outp...  ...     1955\n",
      "2879  s3://maap-ops-workspace/nathanmthomas/dps_outp...  ...     2570\n",
      "2878  s3://maap-ops-workspace/nathanmthomas/dps_outp...  ...     1297\n",
      "\n",
      "[5 rows x 4 columns]\n",
      "Writing tindex master csv: /projects/my-public-bucket/DPS_tile_lists/HLS_test_redo/spring2022/HLS_tindex_master.csv\n"
     ]
    }
   ],
   "source": [
    "!python $ICESAT2_BOREAL_LIB_PATH/build_tindex_master.py --type $DPS_DATA_TYPE -alg_name $DPS_ALG_NAME -m $DPS_RUN -o $OUT_MASTER_CSV_JSON_DIR"
   ]
  },
  {
   "cell_type": "code",
   "execution_count": 7,
   "id": "74c1d1d9",
   "metadata": {},
   "outputs": [
    {
     "data": {
      "text/plain": [
       "4240"
      ]
     },
     "execution_count": 7,
     "metadata": {},
     "output_type": "execute_result"
    }
   ],
   "source": [
    "tindex_master = pd.read_csv(AGB_tindex_master_fn)\n",
    "tindex_master.head()\n",
    "len(tindex_master)"
   ]
  },
  {
   "cell_type": "markdown",
   "id": "67347285",
   "metadata": {},
   "source": [
    "### Get all boreal tiles"
   ]
  },
  {
   "cell_type": "code",
   "execution_count": 8,
   "id": "ebe10df8",
   "metadata": {},
   "outputs": [
    {
     "ename": "DriverError",
     "evalue": "/projects/shared-buckets/nathanmthomas/boreal_tiles_v003.gpkg: Transport endpoint is not connected",
     "output_type": "error",
     "traceback": [
      "\u001b[0;31m---------------------------------------------------------------------------\u001b[0m",
      "\u001b[0;31mCPLE_OpenFailedError\u001b[0m                      Traceback (most recent call last)",
      "\u001b[0;32mfiona/_shim.pyx\u001b[0m in \u001b[0;36mfiona._shim.gdal_open_vector\u001b[0;34m()\u001b[0m\n",
      "\u001b[0;32mfiona/_err.pyx\u001b[0m in \u001b[0;36mfiona._err.exc_wrap_pointer\u001b[0;34m()\u001b[0m\n",
      "\u001b[0;31mCPLE_OpenFailedError\u001b[0m: /projects/shared-buckets/nathanmthomas/boreal_tiles_v003.gpkg: Transport endpoint is not connected",
      "\nDuring handling of the above exception, another exception occurred:\n",
      "\u001b[0;31mDriverError\u001b[0m                               Traceback (most recent call last)",
      "\u001b[0;32m/tmp/ipykernel_4181/4137154901.py\u001b[0m in \u001b[0;36m<module>\u001b[0;34m\u001b[0m\n\u001b[1;32m      1\u001b[0m \u001b[0mboreal_tile_index_path\u001b[0m \u001b[0;34m=\u001b[0m \u001b[0;34m'/projects/shared-buckets/nathanmthomas/boreal_tiles_v003.gpkg'\u001b[0m\u001b[0;34m\u001b[0m\u001b[0;34m\u001b[0m\u001b[0m\n\u001b[0;32m----> 2\u001b[0;31m \u001b[0mboreal_tile_index\u001b[0m \u001b[0;34m=\u001b[0m \u001b[0mgeopandas\u001b[0m\u001b[0;34m.\u001b[0m\u001b[0mread_file\u001b[0m\u001b[0;34m(\u001b[0m\u001b[0mboreal_tile_index_path\u001b[0m\u001b[0;34m)\u001b[0m\u001b[0;34m\u001b[0m\u001b[0;34m\u001b[0m\u001b[0m\n\u001b[0m\u001b[1;32m      3\u001b[0m \u001b[0;34m\u001b[0m\u001b[0m\n\u001b[1;32m      4\u001b[0m \u001b[0mboreal_tile_index\u001b[0m\u001b[0;34m[\u001b[0m\u001b[0;34m\"tile_num\"\u001b[0m\u001b[0;34m]\u001b[0m \u001b[0;34m=\u001b[0m \u001b[0mboreal_tile_index\u001b[0m\u001b[0;34m[\u001b[0m\u001b[0;34m\"tile_num\"\u001b[0m\u001b[0;34m]\u001b[0m\u001b[0;34m.\u001b[0m\u001b[0mastype\u001b[0m\u001b[0;34m(\u001b[0m\u001b[0mint\u001b[0m\u001b[0;34m)\u001b[0m\u001b[0;34m\u001b[0m\u001b[0;34m\u001b[0m\u001b[0m\n\u001b[1;32m      5\u001b[0m \u001b[0;34m\u001b[0m\u001b[0m\n",
      "\u001b[0;32m/opt/conda/lib/python3.7/site-packages/geopandas/io/file.py\u001b[0m in \u001b[0;36m_read_file\u001b[0;34m(filename, bbox, mask, rows, **kwargs)\u001b[0m\n\u001b[1;32m    158\u001b[0m \u001b[0;34m\u001b[0m\u001b[0m\n\u001b[1;32m    159\u001b[0m     \u001b[0;32mwith\u001b[0m \u001b[0mfiona_env\u001b[0m\u001b[0;34m(\u001b[0m\u001b[0;34m)\u001b[0m\u001b[0;34m:\u001b[0m\u001b[0;34m\u001b[0m\u001b[0;34m\u001b[0m\u001b[0m\n\u001b[0;32m--> 160\u001b[0;31m         \u001b[0;32mwith\u001b[0m \u001b[0mreader\u001b[0m\u001b[0;34m(\u001b[0m\u001b[0mpath_or_bytes\u001b[0m\u001b[0;34m,\u001b[0m \u001b[0;34m**\u001b[0m\u001b[0mkwargs\u001b[0m\u001b[0;34m)\u001b[0m \u001b[0;32mas\u001b[0m \u001b[0mfeatures\u001b[0m\u001b[0;34m:\u001b[0m\u001b[0;34m\u001b[0m\u001b[0;34m\u001b[0m\u001b[0m\n\u001b[0m\u001b[1;32m    161\u001b[0m \u001b[0;34m\u001b[0m\u001b[0m\n\u001b[1;32m    162\u001b[0m             \u001b[0;31m# In a future Fiona release the crs attribute of features will\u001b[0m\u001b[0;34m\u001b[0m\u001b[0;34m\u001b[0m\u001b[0;34m\u001b[0m\u001b[0m\n",
      "\u001b[0;32m~/.local/lib/python3.7/site-packages/fiona/env.py\u001b[0m in \u001b[0;36mwrapper\u001b[0;34m(*args, **kwargs)\u001b[0m\n\u001b[1;32m    406\u001b[0m     \u001b[0;32mdef\u001b[0m \u001b[0mwrapper\u001b[0m\u001b[0;34m(\u001b[0m\u001b[0;34m*\u001b[0m\u001b[0margs\u001b[0m\u001b[0;34m,\u001b[0m \u001b[0;34m**\u001b[0m\u001b[0mkwargs\u001b[0m\u001b[0;34m)\u001b[0m\u001b[0;34m:\u001b[0m\u001b[0;34m\u001b[0m\u001b[0;34m\u001b[0m\u001b[0m\n\u001b[1;32m    407\u001b[0m         \u001b[0;32mif\u001b[0m \u001b[0mlocal\u001b[0m\u001b[0;34m.\u001b[0m\u001b[0m_env\u001b[0m\u001b[0;34m:\u001b[0m\u001b[0;34m\u001b[0m\u001b[0;34m\u001b[0m\u001b[0m\n\u001b[0;32m--> 408\u001b[0;31m             \u001b[0;32mreturn\u001b[0m \u001b[0mf\u001b[0m\u001b[0;34m(\u001b[0m\u001b[0;34m*\u001b[0m\u001b[0margs\u001b[0m\u001b[0;34m,\u001b[0m \u001b[0;34m**\u001b[0m\u001b[0mkwargs\u001b[0m\u001b[0;34m)\u001b[0m\u001b[0;34m\u001b[0m\u001b[0;34m\u001b[0m\u001b[0m\n\u001b[0m\u001b[1;32m    409\u001b[0m         \u001b[0;32melse\u001b[0m\u001b[0;34m:\u001b[0m\u001b[0;34m\u001b[0m\u001b[0;34m\u001b[0m\u001b[0m\n\u001b[1;32m    410\u001b[0m             \u001b[0;32mif\u001b[0m \u001b[0misinstance\u001b[0m\u001b[0;34m(\u001b[0m\u001b[0margs\u001b[0m\u001b[0;34m[\u001b[0m\u001b[0;36m0\u001b[0m\u001b[0;34m]\u001b[0m\u001b[0;34m,\u001b[0m \u001b[0mstr\u001b[0m\u001b[0;34m)\u001b[0m\u001b[0;34m:\u001b[0m\u001b[0;34m\u001b[0m\u001b[0;34m\u001b[0m\u001b[0m\n",
      "\u001b[0;32m~/.local/lib/python3.7/site-packages/fiona/__init__.py\u001b[0m in \u001b[0;36mopen\u001b[0;34m(fp, mode, driver, schema, crs, encoding, layer, vfs, enabled_drivers, crs_wkt, **kwargs)\u001b[0m\n\u001b[1;32m    255\u001b[0m         \u001b[0;32mif\u001b[0m \u001b[0mmode\u001b[0m \u001b[0;32min\u001b[0m \u001b[0;34m(\u001b[0m\u001b[0;34m'a'\u001b[0m\u001b[0;34m,\u001b[0m \u001b[0;34m'r'\u001b[0m\u001b[0;34m)\u001b[0m\u001b[0;34m:\u001b[0m\u001b[0;34m\u001b[0m\u001b[0;34m\u001b[0m\u001b[0m\n\u001b[1;32m    256\u001b[0m             c = Collection(path, mode, driver=driver, encoding=encoding,\n\u001b[0;32m--> 257\u001b[0;31m                            layer=layer, enabled_drivers=enabled_drivers, **kwargs)\n\u001b[0m\u001b[1;32m    258\u001b[0m         \u001b[0;32melif\u001b[0m \u001b[0mmode\u001b[0m \u001b[0;34m==\u001b[0m \u001b[0;34m'w'\u001b[0m\u001b[0;34m:\u001b[0m\u001b[0;34m\u001b[0m\u001b[0;34m\u001b[0m\u001b[0m\n\u001b[1;32m    259\u001b[0m             \u001b[0;32mif\u001b[0m \u001b[0mschema\u001b[0m\u001b[0;34m:\u001b[0m\u001b[0;34m\u001b[0m\u001b[0;34m\u001b[0m\u001b[0m\n",
      "\u001b[0;32m~/.local/lib/python3.7/site-packages/fiona/collection.py\u001b[0m in \u001b[0;36m__init__\u001b[0;34m(self, path, mode, driver, schema, crs, encoding, layer, vsi, archive, enabled_drivers, crs_wkt, ignore_fields, ignore_geometry, **kwargs)\u001b[0m\n\u001b[1;32m    160\u001b[0m             \u001b[0;32mif\u001b[0m \u001b[0mself\u001b[0m\u001b[0;34m.\u001b[0m\u001b[0mmode\u001b[0m \u001b[0;34m==\u001b[0m \u001b[0;34m'r'\u001b[0m\u001b[0;34m:\u001b[0m\u001b[0;34m\u001b[0m\u001b[0;34m\u001b[0m\u001b[0m\n\u001b[1;32m    161\u001b[0m                 \u001b[0mself\u001b[0m\u001b[0;34m.\u001b[0m\u001b[0msession\u001b[0m \u001b[0;34m=\u001b[0m \u001b[0mSession\u001b[0m\u001b[0;34m(\u001b[0m\u001b[0;34m)\u001b[0m\u001b[0;34m\u001b[0m\u001b[0;34m\u001b[0m\u001b[0m\n\u001b[0;32m--> 162\u001b[0;31m                 \u001b[0mself\u001b[0m\u001b[0;34m.\u001b[0m\u001b[0msession\u001b[0m\u001b[0;34m.\u001b[0m\u001b[0mstart\u001b[0m\u001b[0;34m(\u001b[0m\u001b[0mself\u001b[0m\u001b[0;34m,\u001b[0m \u001b[0;34m**\u001b[0m\u001b[0mkwargs\u001b[0m\u001b[0;34m)\u001b[0m\u001b[0;34m\u001b[0m\u001b[0;34m\u001b[0m\u001b[0m\n\u001b[0m\u001b[1;32m    163\u001b[0m             \u001b[0;32melif\u001b[0m \u001b[0mself\u001b[0m\u001b[0;34m.\u001b[0m\u001b[0mmode\u001b[0m \u001b[0;32min\u001b[0m \u001b[0;34m(\u001b[0m\u001b[0;34m'a'\u001b[0m\u001b[0;34m,\u001b[0m \u001b[0;34m'w'\u001b[0m\u001b[0;34m)\u001b[0m\u001b[0;34m:\u001b[0m\u001b[0;34m\u001b[0m\u001b[0;34m\u001b[0m\u001b[0m\n\u001b[1;32m    164\u001b[0m                 \u001b[0mself\u001b[0m\u001b[0;34m.\u001b[0m\u001b[0msession\u001b[0m \u001b[0;34m=\u001b[0m \u001b[0mWritingSession\u001b[0m\u001b[0;34m(\u001b[0m\u001b[0;34m)\u001b[0m\u001b[0;34m\u001b[0m\u001b[0;34m\u001b[0m\u001b[0m\n",
      "\u001b[0;32mfiona/ogrext.pyx\u001b[0m in \u001b[0;36mfiona.ogrext.Session.start\u001b[0;34m()\u001b[0m\n",
      "\u001b[0;32mfiona/_shim.pyx\u001b[0m in \u001b[0;36mfiona._shim.gdal_open_vector\u001b[0;34m()\u001b[0m\n",
      "\u001b[0;31mDriverError\u001b[0m: /projects/shared-buckets/nathanmthomas/boreal_tiles_v003.gpkg: Transport endpoint is not connected"
     ]
    }
   ],
   "source": [
    "boreal_tile_index_path = '/projects/shared-buckets/nathanmthomas/boreal_tiles_v003.gpkg' \n",
    "boreal_tile_index = geopandas.read_file(boreal_tile_index_path)\n",
    "\n",
    "boreal_tile_index[\"tile_num\"] = boreal_tile_index[\"tile_num\"].astype(int)\n",
    "\n",
    "#fig, ax = plt.subplots(nrows=1, ncols=1, figsize=(15,10))\n",
    "#boreal_tile_index.plot(column='tile_num', linewidth=0.1, legend=True, ax=ax, cmap='Spectral')"
   ]
  },
  {
   "cell_type": "code",
   "execution_count": null,
   "id": "efcdeea5",
   "metadata": {},
   "outputs": [],
   "source": [
    "AGB_TILES_NEEDED = ExtractUtils.GET_TILES_NEEDED(DPS_DATA_TYPE = DPS_DATA_TYPE, \\\n",
    "                                                tindex_master_fn = AGB_tindex_master_fn,\\\n",
    "                                                boreal_tile_index_path = boreal_tile_index_path)"
   ]
  },
  {
   "cell_type": "code",
   "execution_count": null,
   "id": "378baab0",
   "metadata": {},
   "outputs": [],
   "source": [
    "BAD_TILE_LIST = [3540,3634,3728,3823,3916,4004]\n",
    "\n",
    "# For the tindex_master, convert it into vector tiles that show the tiles we have\n",
    "cols_list = ['tile_num','s3_path','local_path']\n",
    "\n",
    "# Select the rows we have results for\n",
    "tile_index_matches = boreal_tile_index.merge(tindex_master[~tindex_master['tile_num'].isin(BAD_TILE_LIST)][cols_list], how='right', on='tile_num')\n",
    "tile_index_matches = tile_index_matches[tile_index_matches['s3_path'].notna()]\n",
    "tile_index_matches.head()"
   ]
  },
  {
   "cell_type": "markdown",
   "id": "8d877da4",
   "metadata": {},
   "source": [
    "## Build a MosaicJSON"
   ]
  },
  {
   "cell_type": "markdown",
   "id": "fc4ca6f9",
   "metadata": {},
   "source": [
    "##### Build tile geojsons needed for mosaic jsons"
   ]
  },
  {
   "cell_type": "code",
   "execution_count": null,
   "id": "d87b1bd2",
   "metadata": {},
   "outputs": [],
   "source": [
    "# Corrections were made to ensure GeoJSON *_tindex_master.json was set correctly to 4326\n",
    "tile_matches_geojson_string = tile_index_matches.to_crs(\"EPSG:4326\")\n",
    "\n",
    "#Write copy to disk for debug \n",
    "tile_matches_geojson_string.to_file(tile_matches_geojson_fn, driver='GeoJSON')\n",
    "\n",
    "boreal = geopandas.read_file('/projects/my-public-bucket/analyze_agb/input_zones/wwf_circumboreal_Dissolve.geojson')\n",
    "ax = boreal.boundary.plot(color='black')\n",
    "tile_matches_geojson_string.plot(ax=ax)\n",
    "tile_matches_geojson_string = tile_matches_geojson_string.to_json()\n",
    "\n",
    "# This is formatted nicely (printed)\n",
    "tile_matches_geojson = json.loads(tile_matches_geojson_string)"
   ]
  },
  {
   "cell_type": "code",
   "execution_count": null,
   "id": "e7d83dc9",
   "metadata": {},
   "outputs": [],
   "source": [
    "\n",
    "from typing import Dict\n",
    "from cogeo_mosaic.mosaic import MosaicJSON\n",
    "from cogeo_mosaic.backends import MosaicBackend\n",
    "\n",
    "def get_accessor(feature: Dict):\n",
    "    \"\"\"Return specific feature identifier.\"\"\"\n",
    "    return feature[\"properties\"][\"s3_path\"]\n",
    "\n",
    "#out_mosaic_json_fn = f's3://maap-ops-workspace/shared/{DPS_DATA_USER}/DPS_tile_lists/{DPS_DATA_TYPE}_tindex_master_mosaic.json' \n",
    "#out_mosaic_json_fn = f's3://maap-ops-workspace/shared/alexdevseed/DPS_tile_lists/{DPS_DATA_TYPE}_tindex_master_mosaic.json' \n",
    "\n",
    "print(f\"Building {out_mosaic_json_fn}\")\n",
    "mosaicdata = MosaicJSON.from_features(tile_matches_geojson.get('features'), minzoom=6, maxzoom=18, accessor=get_accessor)\n",
    "\n",
    "with MosaicBackend(out_mosaic_json_fn, mosaic_def=mosaicdata) as mosaic:\n",
    "    mosaic.write(overwrite=True)"
   ]
  },
  {
   "cell_type": "markdown",
   "id": "dbc10e8a",
   "metadata": {},
   "source": [
    "### Build a mosaic json of a test local tile"
   ]
  },
  {
   "cell_type": "code",
   "execution_count": null,
   "id": "d0b594fb",
   "metadata": {},
   "outputs": [],
   "source": [
    "if False:\n",
    "    TEST_TILE_NUM = 42 #3000\n",
    "\n",
    "    # -- Adjust this manually\n",
    "    tmp = boreal_tile_index[boreal_tile_index.tile_num == TEST_TILE_NUM]\n",
    "    #tmp['s3_path'] = f's3://maap-ops-workspace/shared/nathanmthomas/test_hls/test_mc40_3yrs/HLS_{TEST_TILE_NUM}_06-01_09-15_2019_2021.tif'\n",
    "    tmp['s3_path'] =  f's3://maap-ops-workspace/shared/lduncanson/testing/output/boreal_agb_202205041651688894_00{TEST_TILE_NUM}.tif'\n",
    "    #out_mosaic_json_TEST_fn = f'/projects/my-public-bucket/test_hls/test_mc40_3yrs/HLS_tile_test_mosaic_tile_{TEST_TILE_NUM}.json'\n",
    "\n",
    "    tile_matches_geojson_TEST_fn = f'/projects/my-public-bucket/TEST_tindex_{TEST_TILE_NUM}.json'\n",
    "    out_mosaic_json_TEST_fn = f'/projects/my-public-bucket/TEST_tindex_mosaic_{TEST_TILE_NUM}.json'\n",
    "    # --\n",
    "\n",
    "\n",
    "    # Corrections were made to ensure GeoJSON *_tindex_master.json was set correctly to 4326\n",
    "    tile_matches_geojson_string = tmp.to_crs(\"EPSG:4326\")\n",
    "\n",
    "    #Write copy to disk for debug \n",
    "    tile_matches_geojson_string.to_file(tile_matches_geojson_TEST_fn, driver='GeoJSON')\n",
    "\n",
    "    tile_matches_geojson_string.plot()\n",
    "    tile_matches_geojson_string = tile_matches_geojson_string.to_json()\n",
    "\n",
    "    # This is formatted nicely (printed)\n",
    "    tile_matches_geojson = json.loads(tile_matches_geojson_string)\n",
    "\n",
    "    print(f\"Building {out_mosaic_json_TEST_fn}\")\n",
    "    mosaicdata = MosaicJSON.from_features(tile_matches_geojson.get('features'), minzoom=6, maxzoom=18, accessor=get_accessor)\n",
    "\n",
    "    with MosaicBackend(out_mosaic_json_TEST_fn, mosaic_def=mosaicdata) as mosaic:\n",
    "        mosaic.write(overwrite=True)\n",
    "\n",
    "    out_mosaic_json_TEST_fn"
   ]
  }
 ],
 "metadata": {
  "kernelspec": {
   "display_name": "Python 3 (ipykernel)",
   "language": "python",
   "name": "python3"
  },
  "language_info": {
   "codemirror_mode": {
    "name": "ipython",
    "version": 3
   },
   "file_extension": ".py",
   "mimetype": "text/x-python",
   "name": "python",
   "nbconvert_exporter": "python",
   "pygments_lexer": "ipython3",
   "version": "3.7.8"
  }
 },
 "nbformat": 4,
 "nbformat_minor": 5
}
