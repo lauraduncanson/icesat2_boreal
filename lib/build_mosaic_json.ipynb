{
 "cells": [
  {
   "cell_type": "markdown",
   "id": "lovely-rouge",
   "metadata": {},
   "source": [
    "# Build a tile index csv and Mosaic Json for COGs"
   ]
  },
  {
   "cell_type": "markdown",
   "id": "bright-brother",
   "metadata": {},
   "source": [
    "##### Path to your icesat2_boreal/lib dir - clone the icesat2_boreal GitHub repository\n",
    "https://github.com/lauraduncanson/icesat2_boreal.git"
   ]
  },
  {
   "cell_type": "code",
   "execution_count": 1,
   "id": "likely-announcement",
   "metadata": {},
   "outputs": [],
   "source": [
    "ICESAT2_BOREAL_REPO_PATH = '/projects/icesat2_boreal' # /projects/Developer/icesat2_boreal/lib\n",
    "ICESAT2_BOREAL_LIB_PATH = ICESAT2_BOREAL_REPO_PATH + '/lib'"
   ]
  },
  {
   "cell_type": "code",
   "execution_count": 2,
   "id": "french-syracuse",
   "metadata": {},
   "outputs": [],
   "source": [
    "#!pip install -U -r $ICESAT2_BOREAL_REPO_PATH/dps/requirements_main.txt\n",
    "#!pip install -U pygeos"
   ]
  },
  {
   "cell_type": "code",
   "execution_count": 3,
   "id": "governing-numbers",
   "metadata": {},
   "outputs": [
    {
     "name": "stderr",
     "output_type": "stream",
     "text": [
      "/projects/.local/lib/python3.7/site-packages/geopandas/_compat.py:110: UserWarning: The Shapely GEOS version (3.8.0-CAPI-1.13.1 ) is incompatible with the GEOS version PyGEOS was compiled with (3.10.1-CAPI-1.16.0). Conversions between both will be slow.\n",
      "  shapely_geos_version, geos_capi_version_string\n"
     ]
    }
   ],
   "source": [
    "import geopandas\n",
    "import pandas as pd\n",
    "import os\n",
    "import json\n",
    "import collections\n",
    "import numpy as np\n",
    "import sys\n",
    "import s3fs\n",
    "import matplotlib.pyplot as plt\n",
    "sys.path.append(ICESAT2_BOREAL_LIB_PATH)\n",
    "import maplib_folium\n",
    "import ExtractUtils"
   ]
  },
  {
   "cell_type": "markdown",
   "id": "urban-requirement",
   "metadata": {},
   "source": [
    "### Build the tile index csv"
   ]
  },
  {
   "cell_type": "code",
   "execution_count": 4,
   "id": "headed-coordinate",
   "metadata": {},
   "outputs": [],
   "source": [
    "DPS_DATA_TYPE = 'AGB'\n",
    "DPS_TEST_NAME = '05'\n",
    "OUT_MASTER_CSV_JSON_DIR = '/projects/my-public-bucket/DPS_tile_lists/'+DPS_TEST_NAME\n",
    "#DPS_DIR = 's3://maap-ops-workspace/lduncanson/dps_output/run_boreal_biomass_v4_ubuntu/master/2022/norway_mask1'\n",
    "\n",
    "AGB_tindex_master_fn    = os.path.join(OUT_MASTER_CSV_JSON_DIR, f'{DPS_DATA_TYPE}_tindex_master.csv')\n",
    "tile_matches_geojson_fn = os.path.join(OUT_MASTER_CSV_JSON_DIR, f'{DPS_DATA_TYPE}_tindex_master.json')\n",
    "out_mosaic_json_fn      = os.path.join(OUT_MASTER_CSV_JSON_DIR, f'{DPS_DATA_TYPE}_tindex_master_mosaic.json')"
   ]
  },
  {
   "cell_type": "code",
   "execution_count": 5,
   "id": "parallel-berkeley",
   "metadata": {},
   "outputs": [
    {
     "name": "stdout",
     "output_type": "stream",
     "text": [
      "/projects/.local/lib/python3.7/site-packages/geopandas/_compat.py:110: UserWarning: The Shapely GEOS version (3.8.0-CAPI-1.13.1 ) is incompatible with the GEOS version PyGEOS was compiled with (3.10.1-CAPI-1.16.0). Conversions between both will be slow.\n",
      "  shapely_geos_version, geos_capi_version_string\n",
      "\n",
      "Building a list of tiles:\n",
      "MAAP version:\t\tmaster\n",
      "Type:\t\tAGB\n",
      "Year:\t\t2022\n",
      "Month:\t\t['05']\n",
      "Days:\t\t1-31\n",
      "\n",
      "Output dir:  /projects/my-public-bucket/DPS_tile_lists/05\n",
      "                                             s3_path  ...                                     file\n",
      "0  s3://maap-ops-workspace/lduncanson/dps_output/...  ...   boreal_agb_202205121652398244_0757.tif\n",
      "1  s3://maap-ops-workspace/lduncanson/dps_output/...  ...  boreal_agb_202205121652398369_33269.tif\n",
      "2  s3://maap-ops-workspace/lduncanson/dps_output/...  ...   boreal_agb_202205121652398467_1391.tif\n",
      "3  s3://maap-ops-workspace/lduncanson/dps_output/...  ...   boreal_agb_202205121652398481_1447.tif\n",
      "4  s3://maap-ops-workspace/lduncanson/dps_output/...  ...   boreal_agb_202205121652398514_0639.tif\n",
      "\n",
      "[5 rows x 3 columns]\n",
      "\n",
      "No duplicates found.\n",
      "\n",
      "# of duplicate tiles: 0\n",
      "Final # of tiles: 10\n",
      "df shape :                                              s3_path  ... tile_num\n",
      "9  s3://maap-ops-workspace/lduncanson/dps_output/...  ...      405\n",
      "8  s3://maap-ops-workspace/lduncanson/dps_output/...  ...      373\n",
      "7  s3://maap-ops-workspace/lduncanson/dps_output/...  ...      727\n",
      "6  s3://maap-ops-workspace/lduncanson/dps_output/...  ...      640\n",
      "5  s3://maap-ops-workspace/lduncanson/dps_output/...  ...      726\n",
      "\n",
      "[5 rows x 4 columns]\n",
      "Writing tindex master csv: /projects/my-public-bucket/DPS_tile_lists/05/AGB_tindex_master.csv\n"
     ]
    }
   ],
   "source": [
    "!python $ICESAT2_BOREAL_LIB_PATH/build_tindex_master.py --type AGB -m $DPS_TEST_NAME -o $OUT_MASTER_CSV_JSON_DIR"
   ]
  },
  {
   "cell_type": "code",
   "execution_count": 6,
   "id": "random-embassy",
   "metadata": {},
   "outputs": [
    {
     "data": {
      "text/plain": [
       "10"
      ]
     },
     "execution_count": 6,
     "metadata": {},
     "output_type": "execute_result"
    }
   ],
   "source": [
    "tindex_master = pd.read_csv(AGB_tindex_master_fn)\n",
    "tindex_master.head()\n",
    "len(tindex_master)"
   ]
  },
  {
   "cell_type": "markdown",
   "id": "invalid-convert",
   "metadata": {},
   "source": [
    "### Get all boreal tiles"
   ]
  },
  {
   "cell_type": "code",
   "execution_count": 7,
   "id": "infinite-bridal",
   "metadata": {},
   "outputs": [],
   "source": [
    "boreal_tile_index_path = '/projects/shared-buckets/nathanmthomas/boreal_tiles_v003.gpkg' \n",
    "boreal_tile_index = geopandas.read_file(boreal_tile_index_path)\n",
    "\n",
    "boreal_tile_index[\"tile_num\"] = boreal_tile_index[\"tile_num\"].astype(int)\n",
    "\n",
    "#fig, ax = plt.subplots(nrows=1, ncols=1, figsize=(15,10))\n",
    "#boreal_tile_index.plot(column='tile_num', linewidth=0.1, legend=True, ax=ax, cmap='Spectral')"
   ]
  },
  {
   "cell_type": "code",
   "execution_count": 8,
   "id": "disabled-tooth",
   "metadata": {},
   "outputs": [
    {
     "name": "stdout",
     "output_type": "stream",
     "text": [
      "                      count\n",
      "tile_group                 \n",
      "alaska extra             20\n",
      "canada extra             49\n",
      "conus extra              98\n",
      "eurasia central        1169\n",
      "eurasia east           1098\n",
      "eurasia north           159\n",
      "eurasia west            612\n",
      "europe north            358\n",
      "fennoscand south         26\n",
      "north america centra    714\n",
      "north america east      494\n",
      "north america west      470\n",
      "uk                       70\n",
      "Tile status report for AGB from /projects/my-public-bucket/DPS_tile_lists/05/AGB_tindex_master.csv:\n",
      "\t# of boreal tiles in boreal v003:\t\t\t5337\n",
      "\t# of boreal tiles in water:\t\t\t\t0\n",
      "\t# of boreal tiles used study (from Topo coverage):\t5337\n",
      "\t# of boreal tiles with AGB:\t\t\t\t10\n",
      "\t# of boreal tiles still needing AGB from all:\t5327\n"
     ]
    },
    {
     "data": {
      "image/png": "[encoded data removed]",
      "text/plain": [
       "<Figure size 1152x1152 with 1 Axes>"
      ]
     },
     "metadata": {
      "needs_background": "light"
     },
     "output_type": "display_data"
    }
   ],
   "source": [
    "AGB_TILES_NEEDED = ExtractUtils.GET_TILES_NEEDED(DPS_DATA_TYPE = 'AGB', \\\n",
    "                                                tindex_master_fn = AGB_tindex_master_fn,\\\n",
    "                                                boreal_tile_index_path = boreal_tile_index_path)"
   ]
  },
  {
   "cell_type": "code",
   "execution_count": 9,
   "id": "demanding-census",
   "metadata": {},
   "outputs": [
    {
     "data": {
      "text/html": [
       "<div>\n",
       "<style scoped>\n",
       "    .dataframe tbody tr th:only-of-type {\n",
       "        vertical-align: middle;\n",
       "    }\n",
       "\n",
       "    .dataframe tbody tr th {\n",
       "        vertical-align: top;\n",
       "    }\n",
       "\n",
       "    .dataframe thead th {\n",
       "        text-align: right;\n",
       "    }\n",
       "</style>\n",
       "<table border=\"1\" class=\"dataframe\">\n",
       "  <thead>\n",
       "    <tr style=\"text-align: right;\">\n",
       "      <th></th>\n",
       "      <th>tile_num</th>\n",
       "      <th>tile_version</th>\n",
       "      <th>tile_group</th>\n",
       "      <th>map_version</th>\n",
       "      <th>geometry</th>\n",
       "      <th>s3_path</th>\n",
       "      <th>local_path</th>\n",
       "    </tr>\n",
       "  </thead>\n",
       "  <tbody>\n",
       "    <tr>\n",
       "      <th>0</th>\n",
       "      <td>405</td>\n",
       "      <td>version 1</td>\n",
       "      <td>eurasia west</td>\n",
       "      <td>None</td>\n",
       "      <td>POLYGON ((-3231478.000 7443304.000, -3141478.0...</td>\n",
       "      <td>s3://maap-ops-workspace/lduncanson/dps_output/...</td>\n",
       "      <td>/projects/my-private-bucket/dps_output/run_bor...</td>\n",
       "    </tr>\n",
       "    <tr>\n",
       "      <th>1</th>\n",
       "      <td>373</td>\n",
       "      <td>version 1</td>\n",
       "      <td>eurasia west</td>\n",
       "      <td>None</td>\n",
       "      <td>POLYGON ((-3231478.000 7533304.000, -3141478.0...</td>\n",
       "      <td>s3://maap-ops-workspace/lduncanson/dps_output/...</td>\n",
       "      <td>/projects/my-private-bucket/dps_output/run_bor...</td>\n",
       "    </tr>\n",
       "    <tr>\n",
       "      <th>2</th>\n",
       "      <td>727</td>\n",
       "      <td>version 1</td>\n",
       "      <td>eurasia west</td>\n",
       "      <td>None</td>\n",
       "      <td>POLYGON ((-3591478.000 6723304.000, -3501478.0...</td>\n",
       "      <td>s3://maap-ops-workspace/lduncanson/dps_output/...</td>\n",
       "      <td>/projects/my-private-bucket/dps_output/run_bor...</td>\n",
       "    </tr>\n",
       "    <tr>\n",
       "      <th>3</th>\n",
       "      <td>640</td>\n",
       "      <td>version 1</td>\n",
       "      <td>eurasia west</td>\n",
       "      <td>None</td>\n",
       "      <td>POLYGON ((-3411478.000 6903304.000, -3321478.0...</td>\n",
       "      <td>s3://maap-ops-workspace/lduncanson/dps_output/...</td>\n",
       "      <td>/projects/my-private-bucket/dps_output/run_bor...</td>\n",
       "    </tr>\n",
       "    <tr>\n",
       "      <th>4</th>\n",
       "      <td>726</td>\n",
       "      <td>version 1</td>\n",
       "      <td>eurasia west</td>\n",
       "      <td>None</td>\n",
       "      <td>POLYGON ((-3681478.000 6723304.000, -3591478.0...</td>\n",
       "      <td>s3://maap-ops-workspace/lduncanson/dps_output/...</td>\n",
       "      <td>/projects/my-private-bucket/dps_output/run_bor...</td>\n",
       "    </tr>\n",
       "  </tbody>\n",
       "</table>\n",
       "</div>"
      ],
      "text/plain": [
       "   tile_num tile_version    tile_group map_version  \\\n",
       "0       405    version 1  eurasia west        None   \n",
       "1       373    version 1  eurasia west        None   \n",
       "2       727    version 1  eurasia west        None   \n",
       "3       640    version 1  eurasia west        None   \n",
       "4       726    version 1  eurasia west        None   \n",
       "\n",
       "                                            geometry  \\\n",
       "0  POLYGON ((-3231478.000 7443304.000, -3141478.0...   \n",
       "1  POLYGON ((-3231478.000 7533304.000, -3141478.0...   \n",
       "2  POLYGON ((-3591478.000 6723304.000, -3501478.0...   \n",
       "3  POLYGON ((-3411478.000 6903304.000, -3321478.0...   \n",
       "4  POLYGON ((-3681478.000 6723304.000, -3591478.0...   \n",
       "\n",
       "                                             s3_path  \\\n",
       "0  s3://maap-ops-workspace/lduncanson/dps_output/...   \n",
       "1  s3://maap-ops-workspace/lduncanson/dps_output/...   \n",
       "2  s3://maap-ops-workspace/lduncanson/dps_output/...   \n",
       "3  s3://maap-ops-workspace/lduncanson/dps_output/...   \n",
       "4  s3://maap-ops-workspace/lduncanson/dps_output/...   \n",
       "\n",
       "                                          local_path  \n",
       "0  /projects/my-private-bucket/dps_output/run_bor...  \n",
       "1  /projects/my-private-bucket/dps_output/run_bor...  \n",
       "2  /projects/my-private-bucket/dps_output/run_bor...  \n",
       "3  /projects/my-private-bucket/dps_output/run_bor...  \n",
       "4  /projects/my-private-bucket/dps_output/run_bor...  "
      ]
     },
     "execution_count": 9,
     "metadata": {},
     "output_type": "execute_result"
    }
   ],
   "source": [
    "BAD_TILE_LIST = [3540,3634,3728,3823,3916,4004]\n",
    "\n",
    "# For the tindex_master, convert it into vector tiles that show the tiles we have\n",
    "cols_list = ['tile_num','s3_path','local_path']\n",
    "\n",
    "# Select the rows we have results for\n",
    "tile_index_matches = boreal_tile_index.merge(tindex_master[~tindex_master['tile_num'].isin(BAD_TILE_LIST)][cols_list], how='right', on='tile_num')\n",
    "tile_index_matches = tile_index_matches[tile_index_matches['s3_path'].notna()]\n",
    "tile_index_matches.head()"
   ]
  },
  {
   "cell_type": "markdown",
   "id": "smooth-thumbnail",
   "metadata": {},
   "source": [
    "## Build a MosaicJSON"
   ]
  },
  {
   "cell_type": "markdown",
   "id": "introductory-singer",
   "metadata": {},
   "source": [
    "##### Build tile geojsons needed for mosaic jsons"
   ]
  },
  {
   "cell_type": "code",
   "execution_count": 10,
   "id": "cooperative-hearing",
   "metadata": {},
   "outputs": [
    {
     "data": {
      "image/png": "[encoded data removed]",
      "text/plain": [
       "<Figure size 1152x1152 with 1 Axes>"
      ]
     },
     "metadata": {
      "needs_background": "light"
     },
     "output_type": "display_data"
    }
   ],
   "source": [
    "# Corrections were made to ensure GeoJSON *_tindex_master.json was set correctly to 4326\n",
    "tile_matches_geojson_string = tile_index_matches.to_crs(\"EPSG:4326\")\n",
    "\n",
    "#Write copy to disk for debug \n",
    "tile_matches_geojson_string.to_file(tile_matches_geojson_fn, driver='GeoJSON')\n",
    "\n",
    "tile_matches_geojson_string.plot()\n",
    "tile_matches_geojson_string = tile_matches_geojson_string.to_json()\n",
    "\n",
    "# This is formatted nicely (printed)\n",
    "tile_matches_geojson = json.loads(tile_matches_geojson_string)"
   ]
  },
  {
   "cell_type": "code",
   "execution_count": 11,
   "id": "latest-assumption",
   "metadata": {},
   "outputs": [
    {
     "name": "stdout",
     "output_type": "stream",
     "text": [
      "Building /projects/my-public-bucket/DPS_tile_lists/05/AGB_tindex_master_mosaic.json\n"
     ]
    }
   ],
   "source": [
    "\n",
    "from typing import Dict\n",
    "from cogeo_mosaic.mosaic import MosaicJSON\n",
    "from cogeo_mosaic.backends import MosaicBackend\n",
    "\n",
    "def get_accessor(feature: Dict):\n",
    "    \"\"\"Return specific feature identifier.\"\"\"\n",
    "    return feature[\"properties\"][\"s3_path\"]\n",
    "\n",
    "#out_mosaic_json_fn = f's3://maap-ops-workspace/shared/{DPS_DATA_USER}/DPS_tile_lists/{DPS_DATA_TYPE}_tindex_master_mosaic.json' \n",
    "#out_mosaic_json_fn = f's3://maap-ops-workspace/shared/alexdevseed/DPS_tile_lists/{DPS_DATA_TYPE}_tindex_master_mosaic.json' \n",
    "\n",
    "print(f\"Building {out_mosaic_json_fn}\")\n",
    "mosaicdata = MosaicJSON.from_features(tile_matches_geojson.get('features'), minzoom=6, maxzoom=18, accessor=get_accessor)\n",
    "\n",
    "with MosaicBackend(out_mosaic_json_fn, mosaic_def=mosaicdata) as mosaic:\n",
    "    mosaic.write(overwrite=True)"
   ]
  },
  {
   "cell_type": "code",
   "execution_count": 12,
   "id": "processed-think",
   "metadata": {},
   "outputs": [
    {
     "data": {
      "text/plain": [
       "['s3://maap-ops-workspace/lduncanson/dps_output/run_boreal_biomass_quick_ubuntu/master/2022/05/12/23/52/43/453027/boreal_agb_202205121652399486_0405.tif',\n",
       " 's3://maap-ops-workspace/lduncanson/dps_output/run_boreal_biomass_quick_ubuntu/master/2022/05/12/23/45/48/224595/boreal_agb_202205121652399051_0373.tif',\n",
       " 's3://maap-ops-workspace/lduncanson/dps_output/run_boreal_biomass_quick_ubuntu/master/2022/05/12/23/45/17/847991/boreal_agb_202205121652399019_0727.tif',\n",
       " 's3://maap-ops-workspace/lduncanson/dps_output/run_boreal_biomass_quick_ubuntu/master/2022/05/12/23/39/01/738717/boreal_agb_202205121652398662_0640.tif',\n",
       " 's3://maap-ops-workspace/lduncanson/dps_output/run_boreal_biomass_quick_ubuntu/master/2022/05/12/23/38/38/222393/boreal_agb_202205121652398642_0726.tif']"
      ]
     },
     "execution_count": 12,
     "metadata": {},
     "output_type": "execute_result"
    }
   ],
   "source": [
    "z = geopandas.read_file(tile_matches_geojson_fn)\n",
    "tile_matches_geojson_fn\n",
    "z.head().s3_path.to_list()"
   ]
  }
 ],
 "metadata": {
  "kernelspec": {
   "display_name": "Python 3",
   "language": "python",
   "name": "python3"
  },
  "language_info": {
   "codemirror_mode": {
    "name": "ipython",
    "version": 3
   },
   "file_extension": ".py",
   "mimetype": "text/x-python",
   "name": "python",
   "nbconvert_exporter": "python",
   "pygments_lexer": "ipython3",
   "version": "3.7.4"
  }
 },
 "nbformat": 4,
 "nbformat_minor": 5
}
