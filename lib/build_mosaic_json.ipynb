{
 "cells": [
  {
   "cell_type": "markdown",
   "id": "7ed45087",
   "metadata": {},
   "source": [
    "# Build a tile index csv and Mosaic Json for COGs"
   ]
  },
  {
   "cell_type": "markdown",
   "id": "39acf93a",
   "metadata": {},
   "source": [
    "##### Path to your icesat2_boreal/lib dir - clone the icesat2_boreal GitHub repository\n",
    "https://github.com/lauraduncanson/icesat2_boreal.git"
   ]
  },
  {
   "cell_type": "code",
   "execution_count": 1,
   "id": "3d6126de",
   "metadata": {},
   "outputs": [],
   "source": [
    "ICESAT2_BOREAL_REPO_PATH = '/projects/Developer/icesat2_boreal' # /projects/Developer/icesat2_boreal/lib\n",
    "ICESAT2_BOREAL_LIB_PATH = ICESAT2_BOREAL_REPO_PATH + '/lib'"
   ]
  },
  {
   "cell_type": "code",
   "execution_count": 2,
   "id": "bf60b356",
   "metadata": {},
   "outputs": [
    {
     "name": "stderr",
     "output_type": "stream",
     "text": [
      "/opt/conda/lib/python3.7/site-packages/geopandas/_compat.py:110: UserWarning: The Shapely GEOS version (3.8.0-CAPI-1.13.1 ) is incompatible with the GEOS version PyGEOS was compiled with (3.10.1-CAPI-1.16.0). Conversions between both will be slow.\n",
      "  shapely_geos_version, geos_capi_version_string\n"
     ]
    },
    {
     "name": "stdout",
     "output_type": "stream",
     "text": [
      "Importing packages complete.\n"
     ]
    }
   ],
   "source": [
    "try:\n",
    "    import geopandas as gpd\n",
    "except ModuleNotFoundError:\n",
    "    print('Need to pip install packages...')\n",
    "    !pip install -U -r $ICESAT2_BOREAL_REPO_PATH/dps/requirements_main.txt\n",
    "    \n",
    "import geopandas\n",
    "import pandas as pd\n",
    "import os\n",
    "import json\n",
    "import collections\n",
    "import numpy as np\n",
    "import sys\n",
    "import s3fs\n",
    "import matplotlib.pyplot as plt\n",
    "sys.path.append(ICESAT2_BOREAL_LIB_PATH)\n",
    "import maplib_folium\n",
    "import ExtractUtils\n",
    "print(\"Importing packages complete.\")"
   ]
  },
  {
   "cell_type": "markdown",
   "id": "875988b2",
   "metadata": {},
   "source": [
    "### Build the tile index csv"
   ]
  },
  {
   "cell_type": "code",
   "execution_count": 3,
   "id": "35958895",
   "metadata": {},
   "outputs": [],
   "source": [
    "DPS_DATA_TYPE = 'AGB'#'HLS'\n",
    "DPS_ALG_NAME = 'run_boreal_biomass_v5_ubuntu'#'do_HLS_stack_3-1-2_ubuntu'\n",
    "DPS_RUN = '05'#'spring2022'\n",
    "\n",
    "OUT_MASTER_CSV_JSON_DIR = '/projects/my-public-bucket/DPS_tile_lists/'+DPS_RUN\n",
    "#OUT_MASTER_CSV_JSON_DIR = '/projects/my-public-bucket/DPS_tile_lists/HLS_test_redo/'+DPS_RUN\n",
    "#DPS_DIR = 's3://maap-ops-workspace/lduncanson/dps_output/run_boreal_biomass_v4_ubuntu/master/2022/norway_mask1'\n",
    "\n",
    "tindex_master_fn        = os.path.join(OUT_MASTER_CSV_JSON_DIR, f'{DPS_DATA_TYPE}_tindex_master.csv')\n",
    "tile_matches_geojson_fn = os.path.join(OUT_MASTER_CSV_JSON_DIR, f'{DPS_DATA_TYPE}_tindex_master.json')\n",
    "out_mosaic_json_fn      = os.path.join(OUT_MASTER_CSV_JSON_DIR, f'{DPS_DATA_TYPE}_tindex_master_mosaic.json')"
   ]
  },
  {
   "cell_type": "code",
   "execution_count": 4,
   "id": "e7d8215b",
   "metadata": {},
   "outputs": [],
   "source": [
    "#!python $ICESAT2_BOREAL_LIB_PATH/build_tindex_master.py --type ATL08_filt -m $DPS_RUN -o $OUT_MASTER_CSV_JSON_DIR"
   ]
  },
  {
   "cell_type": "code",
   "execution_count": 5,
   "id": "b5ca270f",
   "metadata": {},
   "outputs": [
    {
     "name": "stdout",
     "output_type": "stream",
     "text": [
      "/opt/conda/lib/python3.7/site-packages/geopandas/_compat.py:110: UserWarning: The Shapely GEOS version (3.8.0-CAPI-1.13.1 ) is incompatible with the GEOS version PyGEOS was compiled with (3.10.1-CAPI-1.16.0). Conversions between both will be slow.\n",
      "  shapely_geos_version, geos_capi_version_string\n",
      "\n",
      "Building a list of tiles:\n",
      "MAAP version:\t\tmaster\n",
      "Type:\t\tAGB\n",
      "Year:\t\t2022\n",
      "Month:\t\t['05']\n",
      "Days:\t\t1-31\n",
      "\n",
      "Output dir:  /projects/my-public-bucket/DPS_tile_lists/05\n",
      "bucket = s3://maap-ops-workspace\n",
      "dps_out_searchkey_list = ['lduncanson/dps_output/run_boreal_biomass_v5_ubuntu/master/2022/05/01/**/*.tif', 'lduncanson/dps_output/run_boreal_biomass_v5_ubuntu/master/2022/05/02/**/*.tif', 'lduncanson/dps_output/run_boreal_biomass_v5_ubuntu/master/2022/05/03/**/*.tif', 'lduncanson/dps_output/run_boreal_biomass_v5_ubuntu/master/2022/05/04/**/*.tif', 'lduncanson/dps_output/run_boreal_biomass_v5_ubuntu/master/2022/05/05/**/*.tif', 'lduncanson/dps_output/run_boreal_biomass_v5_ubuntu/master/2022/05/06/**/*.tif', 'lduncanson/dps_output/run_boreal_biomass_v5_ubuntu/master/2022/05/07/**/*.tif', 'lduncanson/dps_output/run_boreal_biomass_v5_ubuntu/master/2022/05/08/**/*.tif', 'lduncanson/dps_output/run_boreal_biomass_v5_ubuntu/master/2022/05/09/**/*.tif', 'lduncanson/dps_output/run_boreal_biomass_v5_ubuntu/master/2022/05/10/**/*.tif', 'lduncanson/dps_output/run_boreal_biomass_v5_ubuntu/master/2022/05/11/**/*.tif', 'lduncanson/dps_output/run_boreal_biomass_v5_ubuntu/master/2022/05/12/**/*.tif', 'lduncanson/dps_output/run_boreal_biomass_v5_ubuntu/master/2022/05/13/**/*.tif', 'lduncanson/dps_output/run_boreal_biomass_v5_ubuntu/master/2022/05/14/**/*.tif', 'lduncanson/dps_output/run_boreal_biomass_v5_ubuntu/master/2022/05/15/**/*.tif', 'lduncanson/dps_output/run_boreal_biomass_v5_ubuntu/master/2022/05/16/**/*.tif', 'lduncanson/dps_output/run_boreal_biomass_v5_ubuntu/master/2022/05/17/**/*.tif', 'lduncanson/dps_output/run_boreal_biomass_v5_ubuntu/master/2022/05/18/**/*.tif', 'lduncanson/dps_output/run_boreal_biomass_v5_ubuntu/master/2022/05/19/**/*.tif', 'lduncanson/dps_output/run_boreal_biomass_v5_ubuntu/master/2022/05/20/**/*.tif', 'lduncanson/dps_output/run_boreal_biomass_v5_ubuntu/master/2022/05/21/**/*.tif', 'lduncanson/dps_output/run_boreal_biomass_v5_ubuntu/master/2022/05/22/**/*.tif', 'lduncanson/dps_output/run_boreal_biomass_v5_ubuntu/master/2022/05/23/**/*.tif', 'lduncanson/dps_output/run_boreal_biomass_v5_ubuntu/master/2022/05/24/**/*.tif', 'lduncanson/dps_output/run_boreal_biomass_v5_ubuntu/master/2022/05/25/**/*.tif', 'lduncanson/dps_output/run_boreal_biomass_v5_ubuntu/master/2022/05/26/**/*.tif', 'lduncanson/dps_output/run_boreal_biomass_v5_ubuntu/master/2022/05/27/**/*.tif', 'lduncanson/dps_output/run_boreal_biomass_v5_ubuntu/master/2022/05/28/**/*.tif', 'lduncanson/dps_output/run_boreal_biomass_v5_ubuntu/master/2022/05/29/**/*.tif', 'lduncanson/dps_output/run_boreal_biomass_v5_ubuntu/master/2022/05/30/**/*.tif', 'lduncanson/dps_output/run_boreal_biomass_v5_ubuntu/master/2022/05/31/**/*.tif']\n",
      "col_name = s3_path\n",
      "\n",
      "DF call with search:\n",
      "df = pd.concat([pd.DataFrame(s3.glob(os.path.join(bucket, searchkey)), columns=[col_name]) for searchkey in dps_out_searchkey_list])\n",
      "                                             s3_path  ...                                     file\n",
      "0  s3://maap-ops-workspace/lduncanson/dps_output/...  ...   boreal_agb_202205091652138373_0485.tif\n",
      "1  s3://maap-ops-workspace/lduncanson/dps_output/...  ...   boreal_agb_202205091652138590_0250.tif\n",
      "2  s3://maap-ops-workspace/lduncanson/dps_output/...  ...   boreal_agb_202205091652138610_0065.tif\n",
      "3  s3://maap-ops-workspace/lduncanson/dps_output/...  ...  boreal_agb_202205091652138957_40857.tif\n",
      "4  s3://maap-ops-workspace/lduncanson/dps_output/...  ...   boreal_agb_202205091652138953_0225.tif\n",
      "\n",
      "[5 rows x 3 columns]\n",
      "/projects/.local/lib/python3.7/site-packages/pandas/core/indexing.py:1597: SettingWithCopyWarning: \n",
      "A value is trying to be set on a copy of a slice from a DataFrame.\n",
      "Try using .loc[row_indexer,col_indexer] = value instead\n",
      "\n",
      "See the caveats in the documentation: https://pandas.pydata.org/pandas-docs/stable/user_guide/indexing.html#returning-a-view-versus-a-copy\n",
      "  self.obj[key] = value\n",
      "/projects/.local/lib/python3.7/site-packages/pandas/core/indexing.py:1720: SettingWithCopyWarning: \n",
      "A value is trying to be set on a copy of a slice from a DataFrame.\n",
      "Try using .loc[row_indexer,col_indexer] = value instead\n",
      "\n",
      "See the caveats in the documentation: https://pandas.pydata.org/pandas-docs/stable/user_guide/indexing.html#returning-a-view-versus-a-copy\n",
      "  self._setitem_single_column(loc, value, pi)\n",
      "# of duplicate tiles: 6\n",
      "Final # of tiles: 4578\n",
      "df shape :                                               s3_path  ... tile_num\n",
      "50  s3://maap-ops-workspace/lduncanson/dps_output/...  ...     2339\n",
      "49  s3://maap-ops-workspace/lduncanson/dps_output/...  ...     2139\n",
      "48  s3://maap-ops-workspace/lduncanson/dps_output/...  ...     2765\n",
      "47  s3://maap-ops-workspace/lduncanson/dps_output/...  ...     3153\n",
      "46  s3://maap-ops-workspace/lduncanson/dps_output/...  ...     2152\n",
      "\n",
      "[5 rows x 4 columns]\n",
      "Writing tindex master csv: /projects/my-public-bucket/DPS_tile_lists/05/AGB_tindex_master.csv\n"
     ]
    }
   ],
   "source": [
    "!python $ICESAT2_BOREAL_LIB_PATH/build_tindex_master.py --type $DPS_DATA_TYPE -alg_name $DPS_ALG_NAME -m $DPS_RUN -o $OUT_MASTER_CSV_JSON_DIR"
   ]
  },
  {
   "cell_type": "code",
   "execution_count": 6,
   "id": "c4847c2b",
   "metadata": {},
   "outputs": [
    {
     "data": {
      "text/plain": [
       "4578"
      ]
     },
     "execution_count": 6,
     "metadata": {},
     "output_type": "execute_result"
    }
   ],
   "source": [
    "tindex_master = pd.read_csv(tindex_master_fn)\n",
    "tindex_master.head()\n",
    "len(tindex_master)"
   ]
  },
  {
   "cell_type": "code",
   "execution_count": 7,
   "id": "5115ef00",
   "metadata": {},
   "outputs": [
    {
     "data": {
      "text/plain": [
       "'/projects/my-public-bucket/DPS_tile_lists/05/AGB_tindex_master.csv'"
      ]
     },
     "execution_count": 7,
     "metadata": {},
     "output_type": "execute_result"
    }
   ],
   "source": [
    "tindex_master_fn"
   ]
  },
  {
   "cell_type": "markdown",
   "id": "f5871465",
   "metadata": {},
   "source": [
    "### Get all boreal tiles"
   ]
  },
  {
   "cell_type": "code",
   "execution_count": 8,
   "id": "c1b8342f",
   "metadata": {},
   "outputs": [],
   "source": [
    "boreal_tile_index_path = '/projects/shared-buckets/nathanmthomas/boreal_tiles_v003.gpkg' \n",
    "boreal_tile_index = geopandas.read_file(boreal_tile_index_path)\n",
    "\n",
    "boreal_tile_index[\"tile_num\"] = boreal_tile_index[\"tile_num\"].astype(int)\n",
    "\n",
    "#fig, ax = plt.subplots(nrows=1, ncols=1, figsize=(15,10))\n",
    "#boreal_tile_index.plot(column='tile_num', linewidth=0.1, legend=True, ax=ax, cmap='Spectral')"
   ]
  },
  {
   "cell_type": "markdown",
   "id": "8acde68a",
   "metadata": {},
   "source": [
    "### Find tiles needed for target DPS data type"
   ]
  },
  {
   "cell_type": "code",
   "execution_count": 9,
   "id": "ecd661ea",
   "metadata": {},
   "outputs": [
    {
     "name": "stdout",
     "output_type": "stream",
     "text": [
      "                      count\n",
      "tile_group                 \n",
      "alaska extra             20\n",
      "canada extra             49\n",
      "conus extra              98\n",
      "eurasia central        1169\n",
      "eurasia east           1098\n",
      "eurasia north           159\n",
      "eurasia west            612\n",
      "europe north            358\n",
      "fennoscand south         26\n",
      "north america centra    714\n",
      "north america east      494\n",
      "north america west      470\n",
      "uk                       70\n",
      "Tile status report for AGB from /projects/my-public-bucket/DPS_tile_lists/05/AGB_tindex_master.csv:\n",
      "\t# of boreal tiles in boreal v003:\t\t\t5337\n",
      "\t# of boreal tiles in water:\t\t\t\t0\n",
      "\t# of boreal tiles used study (from Topo coverage):\t5337\n",
      "\t# of boreal tiles with AGB:\t\t\t\t4578\n",
      "\t# of boreal tiles still needing AGB from all:\t759\n"
     ]
    },
    {
     "data": {
      "image/png": "[encoded data removed]",
      "text/plain": [
       "<Figure size 576x576 with 1 Axes>"
      ]
     },
     "metadata": {
      "needs_background": "light"
     },
     "output_type": "display_data"
    }
   ],
   "source": [
    "TILES_NEEDED = ExtractUtils.GET_TILES_NEEDED(DPS_DATA_TYPE = DPS_DATA_TYPE, \\\n",
    "                                                tindex_master_fn = tindex_master_fn,\\\n",
    "                                                 USER='nathanmthomas', \\\n",
    "                                                 TYPE = 'public', \\\n",
    "                                                boreal_tile_index_path = boreal_tile_index_path)"
   ]
  },
  {
   "cell_type": "code",
   "execution_count": 10,
   "id": "0cfba437",
   "metadata": {},
   "outputs": [
    {
     "data": {
      "text/html": [
       "<div>\n",
       "<style scoped>\n",
       "    .dataframe tbody tr th:only-of-type {\n",
       "        vertical-align: middle;\n",
       "    }\n",
       "\n",
       "    .dataframe tbody tr th {\n",
       "        vertical-align: top;\n",
       "    }\n",
       "\n",
       "    .dataframe thead th {\n",
       "        text-align: right;\n",
       "    }\n",
       "</style>\n",
       "<table border=\"1\" class=\"dataframe\">\n",
       "  <thead>\n",
       "    <tr style=\"text-align: right;\">\n",
       "      <th></th>\n",
       "      <th>tile_num</th>\n",
       "      <th>tile_version</th>\n",
       "      <th>tile_group</th>\n",
       "      <th>map_version</th>\n",
       "      <th>geometry</th>\n",
       "      <th>s3_path</th>\n",
       "      <th>local_path</th>\n",
       "    </tr>\n",
       "  </thead>\n",
       "  <tbody>\n",
       "    <tr>\n",
       "      <th>0</th>\n",
       "      <td>2339</td>\n",
       "      <td>version 1</td>\n",
       "      <td>eurasia central</td>\n",
       "      <td>None</td>\n",
       "      <td>POLYGON ((-2511478.000 4293304.000, -2421478.0...</td>\n",
       "      <td>s3://maap-ops-workspace/lduncanson/dps_output/...</td>\n",
       "      <td>/projects/my-private-bucket/dps_output/run_bor...</td>\n",
       "    </tr>\n",
       "    <tr>\n",
       "      <th>1</th>\n",
       "      <td>2139</td>\n",
       "      <td>version 1</td>\n",
       "      <td>north america centra</td>\n",
       "      <td>None</td>\n",
       "      <td>POLYGON ((3878522.000 4563304.000, 3968522.000...</td>\n",
       "      <td>s3://maap-ops-workspace/lduncanson/dps_output/...</td>\n",
       "      <td>/projects/my-private-bucket/dps_output/run_bor...</td>\n",
       "    </tr>\n",
       "    <tr>\n",
       "      <th>2</th>\n",
       "      <td>2765</td>\n",
       "      <td>version 1</td>\n",
       "      <td>north america centra</td>\n",
       "      <td>None</td>\n",
       "      <td>POLYGON ((3248522.000 3843304.000, 3338522.000...</td>\n",
       "      <td>s3://maap-ops-workspace/lduncanson/dps_output/...</td>\n",
       "      <td>/projects/my-private-bucket/dps_output/run_bor...</td>\n",
       "    </tr>\n",
       "    <tr>\n",
       "      <th>3</th>\n",
       "      <td>3153</td>\n",
       "      <td>version 1</td>\n",
       "      <td>eurasia east</td>\n",
       "      <td>None</td>\n",
       "      <td>POLYGON ((-1881478.000 3393304.000, -1791478.0...</td>\n",
       "      <td>s3://maap-ops-workspace/lduncanson/dps_output/...</td>\n",
       "      <td>/projects/my-private-bucket/dps_output/run_bor...</td>\n",
       "    </tr>\n",
       "    <tr>\n",
       "      <th>4</th>\n",
       "      <td>2152</td>\n",
       "      <td>version 1</td>\n",
       "      <td>north america centra</td>\n",
       "      <td>None</td>\n",
       "      <td>POLYGON ((5048522.251 4563304.022, 5138522.253...</td>\n",
       "      <td>s3://maap-ops-workspace/lduncanson/dps_output/...</td>\n",
       "      <td>/projects/my-private-bucket/dps_output/run_bor...</td>\n",
       "    </tr>\n",
       "  </tbody>\n",
       "</table>\n",
       "</div>"
      ],
      "text/plain": [
       "   tile_num tile_version            tile_group map_version  \\\n",
       "0      2339    version 1       eurasia central        None   \n",
       "1      2139    version 1  north america centra        None   \n",
       "2      2765    version 1  north america centra        None   \n",
       "3      3153    version 1          eurasia east        None   \n",
       "4      2152    version 1  north america centra        None   \n",
       "\n",
       "                                            geometry  \\\n",
       "0  POLYGON ((-2511478.000 4293304.000, -2421478.0...   \n",
       "1  POLYGON ((3878522.000 4563304.000, 3968522.000...   \n",
       "2  POLYGON ((3248522.000 3843304.000, 3338522.000...   \n",
       "3  POLYGON ((-1881478.000 3393304.000, -1791478.0...   \n",
       "4  POLYGON ((5048522.251 4563304.022, 5138522.253...   \n",
       "\n",
       "                                             s3_path  \\\n",
       "0  s3://maap-ops-workspace/lduncanson/dps_output/...   \n",
       "1  s3://maap-ops-workspace/lduncanson/dps_output/...   \n",
       "2  s3://maap-ops-workspace/lduncanson/dps_output/...   \n",
       "3  s3://maap-ops-workspace/lduncanson/dps_output/...   \n",
       "4  s3://maap-ops-workspace/lduncanson/dps_output/...   \n",
       "\n",
       "                                          local_path  \n",
       "0  /projects/my-private-bucket/dps_output/run_bor...  \n",
       "1  /projects/my-private-bucket/dps_output/run_bor...  \n",
       "2  /projects/my-private-bucket/dps_output/run_bor...  \n",
       "3  /projects/my-private-bucket/dps_output/run_bor...  \n",
       "4  /projects/my-private-bucket/dps_output/run_bor...  "
      ]
     },
     "execution_count": 10,
     "metadata": {},
     "output_type": "execute_result"
    }
   ],
   "source": [
    "BAD_TILE_LIST = [3540,3634,3728,3823,3916,4004]\n",
    "\n",
    "# For the tindex_master, convert it into vector tiles that show the tiles we have\n",
    "cols_list = ['tile_num','s3_path','local_path']\n",
    "\n",
    "# Select the rows we have results for\n",
    "tile_index_matches = boreal_tile_index.merge(tindex_master[~tindex_master['tile_num'].isin(BAD_TILE_LIST)][cols_list], how='right', on='tile_num')\n",
    "tile_index_matches = tile_index_matches[tile_index_matches['s3_path'].notna()]\n",
    "tile_index_matches.head()"
   ]
  },
  {
   "cell_type": "markdown",
   "id": "562e6438",
   "metadata": {},
   "source": [
    "## Build a MosaicJSON"
   ]
  },
  {
   "cell_type": "markdown",
   "id": "30f26347",
   "metadata": {},
   "source": [
    "##### Build tile geojsons needed for mosaic jsons"
   ]
  },
  {
   "cell_type": "code",
   "execution_count": 11,
   "id": "98ff588b",
   "metadata": {},
   "outputs": [
    {
     "data": {
      "image/png": "[encoded data removed]",
      "text/plain": [
       "<Figure size 576x576 with 1 Axes>"
      ]
     },
     "metadata": {
      "needs_background": "light"
     },
     "output_type": "display_data"
    }
   ],
   "source": [
    "import shapely\n",
    "# Corrections were made to ensure GeoJSON *_tindex_master.json was set correctly to 4326\n",
    "tile_matches_geojson_string = tile_index_matches.to_crs(\"EPSG:4326\")\n",
    "\n",
    "#Write copy to disk for debug \n",
    "tile_matches_geojson_string.to_file(tile_matches_geojson_fn, driver='GeoJSON')\n",
    "\n",
    "world = geopandas.read_file(geopandas.datasets.get_path(\"naturalearth_lowres\") )\n",
    "\n",
    "# Create a custom polygon\n",
    "polygon = shapely.geometry.Polygon([(-180, 45), (-180, 75), (180, 75), (180, 45), (-180, 45)])\n",
    "poly_gdf = geopandas.GeoDataFrame([1], geometry=[polygon], crs=world.crs)\n",
    "#poly_gdf.plot()\n",
    "world_clip = geopandas.clip(world, poly_gdf)\n",
    "ax = world_clip.plot(color='gray')\n",
    "\n",
    "boreal = geopandas.read_file('/projects/my-public-bucket/analyze_agb/input_zones/wwf_circumboreal_Dissolve.geojson')\n",
    "ax = boreal.boundary.plot(color='black', ax=ax)\n",
    "tile_matches_geojson_string.boundary.plot(color='orange', ax=ax)\n",
    "\n",
    "tile_matches_geojson_string = tile_matches_geojson_string.to_json()\n",
    "\n",
    "# This is formatted nicely (printed)\n",
    "tile_matches_geojson = json.loads(tile_matches_geojson_string)"
   ]
  },
  {
   "cell_type": "markdown",
   "id": "400228c6",
   "metadata": {},
   "source": [
    "Map a subset (intersecting 45-75N) of these tiles for a paper figure"
   ]
  },
  {
   "cell_type": "code",
   "execution_count": 12,
   "id": "ce92ac13",
   "metadata": {},
   "outputs": [
    {
     "name": "stderr",
     "output_type": "stream",
     "text": [
      "/opt/conda/lib/python3.7/site-packages/geopandas/base.py:32: UserWarning: The indices of the two GeoSeries are different.\n",
      "  warn(\"The indices of the two GeoSeries are different.\")\n"
     ]
    },
    {
     "data": {
      "text/html": [
       "<div>\n",
       "<style scoped>\n",
       "    .dataframe tbody tr th:only-of-type {\n",
       "        vertical-align: middle;\n",
       "    }\n",
       "\n",
       "    .dataframe tbody tr th {\n",
       "        vertical-align: top;\n",
       "    }\n",
       "\n",
       "    .dataframe thead th {\n",
       "        text-align: right;\n",
       "    }\n",
       "</style>\n",
       "<table border=\"1\" class=\"dataframe\">\n",
       "  <thead>\n",
       "    <tr style=\"text-align: right;\">\n",
       "      <th></th>\n",
       "      <th>tile_num</th>\n",
       "      <th>tile_version</th>\n",
       "      <th>tile_group</th>\n",
       "      <th>map_version</th>\n",
       "      <th>geometry</th>\n",
       "    </tr>\n",
       "  </thead>\n",
       "  <tbody>\n",
       "    <tr>\n",
       "      <th>110</th>\n",
       "      <td>111</td>\n",
       "      <td>version 1</td>\n",
       "      <td>eurasia west</td>\n",
       "      <td>None</td>\n",
       "      <td>POLYGON ((13.85443 63.23479, 12.40400 63.72105...</td>\n",
       "    </tr>\n",
       "    <tr>\n",
       "      <th>120</th>\n",
       "      <td>121</td>\n",
       "      <td>version 1</td>\n",
       "      <td>eurasia west</td>\n",
       "      <td>None</td>\n",
       "      <td>POLYGON ((27.10407 58.26161, 26.07842 58.86433...</td>\n",
       "    </tr>\n",
       "  </tbody>\n",
       "</table>\n",
       "</div>"
      ],
      "text/plain": [
       "     tile_num tile_version    tile_group map_version  \\\n",
       "110       111    version 1  eurasia west        None   \n",
       "120       121    version 1  eurasia west        None   \n",
       "\n",
       "                                              geometry  \n",
       "110  POLYGON ((13.85443 63.23479, 12.40400 63.72105...  \n",
       "120  POLYGON ((27.10407 58.26161, 26.07842 58.86433...  "
      ]
     },
     "execution_count": 12,
     "metadata": {},
     "output_type": "execute_result"
    }
   ],
   "source": [
    "tmp = boreal_tile_index.to_crs(4326)\n",
    "\n",
    "selector = tmp.intersects(world_clip.geometry)\n",
    "tiles_subset = tmp[selector]\n",
    "tiles_subset"
   ]
  },
  {
   "cell_type": "code",
   "execution_count": 13,
   "id": "e0965389",
   "metadata": {},
   "outputs": [
    {
     "name": "stdout",
     "output_type": "stream",
     "text": [
      "Building /projects/my-public-bucket/DPS_tile_lists/05/AGB_tindex_master_mosaic.json\n"
     ]
    },
    {
     "name": "stderr",
     "output_type": "stream",
     "text": [
      "/projects/.local/lib/python3.7/site-packages/mercantile/__init__.py:79: FutureWarning: Mercantile 2.0 will require tile x and y to be within the range (0, 2 ** zoom)\n",
      "  FutureWarning,\n"
     ]
    }
   ],
   "source": [
    "\n",
    "from typing import Dict\n",
    "from cogeo_mosaic.mosaic import MosaicJSON\n",
    "from cogeo_mosaic.backends import MosaicBackend\n",
    "\n",
    "def get_accessor(feature: Dict):\n",
    "    \"\"\"Return specific feature identifier.\"\"\"\n",
    "    return feature[\"properties\"][\"s3_path\"]\n",
    "\n",
    "#out_mosaic_json_fn = f's3://maap-ops-workspace/shared/{DPS_DATA_USER}/DPS_tile_lists/{DPS_DATA_TYPE}_tindex_master_mosaic.json' \n",
    "#out_mosaic_json_fn = f's3://maap-ops-workspace/shared/alexdevseed/DPS_tile_lists/{DPS_DATA_TYPE}_tindex_master_mosaic.json' \n",
    "\n",
    "print(f\"Building {out_mosaic_json_fn}\")\n",
    "mosaicdata = MosaicJSON.from_features(tile_matches_geojson.get('features'), minzoom=6, maxzoom=18, accessor=get_accessor)\n",
    "\n",
    "with MosaicBackend(out_mosaic_json_fn, mosaic_def=mosaicdata) as mosaic:\n",
    "    mosaic.write(overwrite=True)"
   ]
  },
  {
   "cell_type": "markdown",
   "id": "7a7e9add",
   "metadata": {},
   "source": [
    "### Build a mosaic json of a test local tile"
   ]
  },
  {
   "cell_type": "code",
   "execution_count": 14,
   "id": "86a99ced",
   "metadata": {},
   "outputs": [],
   "source": [
    "if False:\n",
    "    TEST_TILE_NUM = 42 #3000\n",
    "\n",
    "    # -- Adjust this manually\n",
    "    tmp = boreal_tile_index[boreal_tile_index.tile_num == TEST_TILE_NUM]\n",
    "    #tmp['s3_path'] = f's3://maap-ops-workspace/shared/nathanmthomas/test_hls/test_mc40_3yrs/HLS_{TEST_TILE_NUM}_06-01_09-15_2019_2021.tif'\n",
    "    tmp['s3_path'] =  f's3://maap-ops-workspace/shared/lduncanson/testing/output/boreal_agb_202205041651688894_00{TEST_TILE_NUM}.tif'\n",
    "    #out_mosaic_json_TEST_fn = f'/projects/my-public-bucket/test_hls/test_mc40_3yrs/HLS_tile_test_mosaic_tile_{TEST_TILE_NUM}.json'\n",
    "\n",
    "    tile_matches_geojson_TEST_fn = f'/projects/my-public-bucket/TEST_tindex_{TEST_TILE_NUM}.json'\n",
    "    out_mosaic_json_TEST_fn = f'/projects/my-public-bucket/TEST_tindex_mosaic_{TEST_TILE_NUM}.json'\n",
    "    # --\n",
    "\n",
    "\n",
    "    # Corrections were made to ensure GeoJSON *_tindex_master.json was set correctly to 4326\n",
    "    tile_matches_geojson_string = tmp.to_crs(\"EPSG:4326\")\n",
    "\n",
    "    #Write copy to disk for debug \n",
    "    tile_matches_geojson_string.to_file(tile_matches_geojson_TEST_fn, driver='GeoJSON')\n",
    "\n",
    "    tile_matches_geojson_string.plot()\n",
    "    tile_matches_geojson_string = tile_matches_geojson_string.to_json()\n",
    "\n",
    "    # This is formatted nicely (printed)\n",
    "    tile_matches_geojson = json.loads(tile_matches_geojson_string)\n",
    "\n",
    "    print(f\"Building {out_mosaic_json_TEST_fn}\")\n",
    "    mosaicdata = MosaicJSON.from_features(tile_matches_geojson.get('features'), minzoom=6, maxzoom=18, accessor=get_accessor)\n",
    "\n",
    "    with MosaicBackend(out_mosaic_json_TEST_fn, mosaic_def=mosaicdata) as mosaic:\n",
    "        mosaic.write(overwrite=True)\n",
    "\n",
    "    out_mosaic_json_TEST_fn"
   ]
  },
  {
   "cell_type": "code",
   "execution_count": null,
   "id": "e155ae61",
   "metadata": {},
   "outputs": [],
   "source": []
  }
 ],
 "metadata": {
  "kernelspec": {
   "display_name": "Python 3 (ipykernel)",
   "language": "python",
   "name": "python3"
  },
  "language_info": {
   "codemirror_mode": {
    "name": "ipython",
    "version": 3
   },
   "file_extension": ".py",
   "mimetype": "text/x-python",
   "name": "python",
   "nbconvert_exporter": "python",
   "pygments_lexer": "ipython3",
   "version": "3.7.8"
  }
 },
 "nbformat": 4,
 "nbformat_minor": 5
}
