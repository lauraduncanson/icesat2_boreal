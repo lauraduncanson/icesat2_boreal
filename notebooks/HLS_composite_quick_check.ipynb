{
 "cells": [
  {
   "cell_type": "markdown",
   "id": "bf04aca7-7370-4c58-8bb8-7c886b2ddd19",
   "metadata": {},
   "source": [
    "# Run an HLS composite data search quickly on a tile\n",
    "\n",
    "This notebook provides an example of how to:\n",
    " - run a quick search to check # of available HLS scenes for a HLS seasonal greenest pixel composite on a focal tile  \n",
    " - run that a composite  \n",
    " \n",
    "Each tile is 3000 x 3000 pixels at 30 m resolution\n",
    "\n",
    "Paul Montesano, PhD"
   ]
  },
  {
   "cell_type": "code",
   "execution_count": 1,
   "id": "366c68df-98bd-4562-a166-8210cde5fb71",
   "metadata": {
    "tags": []
   },
   "outputs": [],
   "source": [
    "import os"
   ]
  },
  {
   "cell_type": "code",
   "execution_count": 3,
   "id": "7f95f19b-5b01-468d-bfb3-429a2430523d",
   "metadata": {
    "tags": []
   },
   "outputs": [],
   "source": [
    "FOCAL_TILE = 2422"
   ]
  },
  {
   "cell_type": "markdown",
   "id": "6af55329-cdf8-4d8f-a4ea-56234e79a47f",
   "metadata": {},
   "source": [
    "#### HLS composite parameters"
   ]
  },
  {
   "cell_type": "code",
   "execution_count": null,
   "id": "6f30e507-6d36-4e1c-a89b-42737db233f6",
   "metadata": {},
   "outputs": [],
   "source": [
    "YEAR = 2014\n",
    "SEASON_START = '07-01'\n",
    "SEASON_STOP = '08-31' \n",
    "MAX_CLOUDS = 10\n",
    "MS_DATA_TYPE = 'HLS'"
   ]
  },
  {
   "cell_type": "code",
   "execution_count": 5,
   "id": "90fc6df5-7307-468c-8fbe-f2406450e38e",
   "metadata": {
    "tags": []
   },
   "outputs": [],
   "source": [
    "INDEX_FN =  'https://maap-ops-workspace.s3.amazonaws.com/shared/montesano/databank/boreal_tiles_v004.gpkg'\n",
    "INDEX_LYR = 'boreal_tiles_v004'\n",
    "SAT_API = 'https://cmr.earthdata.nasa.gov/stac/LPCLOUD'\n",
    "OUTDIR = '/projects/my-private-bucket/tmp'\n",
    "\n",
    "args = f\"-i {INDEX_FN} \\\n",
    "-lyr {INDEX_LYR} \\\n",
    "-a {SAT_API} \\\n",
    "--tile_buffer_m 0 \\\n",
    "--in_tile_num {FOCAL_TILE} \\\n",
    "-o {OUTDIR} \\\n",
    "-sy {YEAR} -ey {YEAR} -smd {SEASON_START} -emd {SEASON_STOP} -mc {MAX_CLOUDS} \\\n",
    "--composite_type {MS_DATA_TYPE} \\\n",
    "--hls_product H30 \\\n",
    "--rangelims_red 0 1 \\\n",
    "--thresh_min_ndvi -1\""
   ]
  },
  {
   "cell_type": "markdown",
   "id": "6a115073-82c5-4a9d-bbfe-7f20404f55a4",
   "metadata": {},
   "source": [
    "### Run HLS search only \n",
    "this is fast - no compositing - it tells you how many HLS scenes are available for this tile based on parameters"
   ]
  },
  {
   "cell_type": "code",
   "execution_count": 6,
   "id": "19e2fdd2-3745-44e2-ac12-7a0235d3443d",
   "metadata": {
    "tags": []
   },
   "outputs": [
    {
     "name": "stdout",
     "output_type": "stream",
     "text": [
      "python /projects/code/icesat2_boreal/lib/3.1.2_dps.py -i https://maap-ops-workspace.s3.amazonaws.com/shared/montesano/databank/boreal_tiles_v004.gpkg -lyr boreal_tiles_v004 -a https://cmr.earthdata.nasa.gov/stac/LPCLOUD --tile_buffer_m 0 --in_tile_num 2422 -o /projects/my-private-bucket/tmp -sy 2014 -ey 2014 -smd 07-01 -emd 08-31 -mc 10 --composite_type HLS --hls_product H30 --rangelims_red 0 1 --thresh_min_ndvi -1 --search_only\n",
      "\n",
      "Tiles path:\t\t https://maap-ops-workspace.s3.amazonaws.com/shared/montesano/databank/boreal_tiles_v004.gpkg\n",
      "Tile number:\t\t 2422\n",
      "Output res (m):\t\t 30\n",
      "in_bbox:\t\t [-1791478.0000000047, 4113304.0000000093, -1701478.0000000047, 4203304.000000009]\n",
      "bbox 4326:\t\t [125.65378735345928, 70.23761759131604, 129.10749149273934, 71.38291000560454]\n",
      "Getting output dims from buffered (buffer=0.0) original tile geometry...\n",
      "Output dims:\t\t3000 x 3000\n",
      "Composite type:\t\tHLS\n",
      "\n",
      "Getting HLS data...\n",
      "bbox: [125.65378735345928, 70.23761759131604, 129.10749149273934, 71.38291000560454]\n",
      "\n",
      "Querying STAC...\n",
      "start date, end date:\t\t 2014-07-01T00:00:00Z 2014-08-31T23:59:59Z\n",
      "\n",
      "Conducting HLS search now...\n",
      "Searching for:\t\t\t['HLSL30.v2.0', 'HLSS30.v2.0']\n",
      "initial results:\t\t 197\n",
      "filtered results:\t\t 32\n",
      "\n",
      "Search complete.\n",
      "\n",
      "32\n",
      "HLS.L30.T51WWT.2014184T032748.v2.0\n",
      "HLS.L30.T52WDC.2014184T032748.v2.0\n",
      "HLS.L30.T51WXT.2014184T032748.v2.0\n",
      "HLS.L30.T51WWU.2014186T031528.v2.0\n",
      "HLS.L30.T52WEC.2014186T031528.v2.0\n",
      "HLS.L30.T52WDD.2014186T031528.v2.0\n",
      "HLS.L30.T52WDC.2014186T031528.v2.0\n",
      "HLS.L30.T51WXU.2014186T031528.v2.0\n",
      "HLS.L30.T51WXT.2014186T031528.v2.0\n",
      "HLS.L30.T52WEE.2014186T031528.v2.0\n",
      "HLS.L30.T52WDE.2014186T031528.v2.0\n",
      "HLS.L30.T51WXV.2014186T031528.v2.0\n",
      "HLS.L30.T52WED.2014186T031528.v2.0\n",
      "HLS.L30.T51WWT.2014186T031552.v2.0\n",
      "HLS.L30.T52WDD.2014202T031532.v2.0\n",
      "HLS.L30.T51WXT.2014202T031532.v2.0\n",
      "HLS.L30.T52WEC.2014202T031532.v2.0\n",
      "HLS.L30.T51WWU.2014202T031532.v2.0\n",
      "HLS.L30.T52WDC.2014202T031532.v2.0\n",
      "HLS.L30.T51WXU.2014202T031532.v2.0\n",
      "HLS.L30.T52WED.2014202T031532.v2.0\n",
      "HLS.L30.T51WWT.2014202T031556.v2.0\n",
      "HLS.L30.T51WWT.2014207T033405.v2.0\n",
      "HLS.L30.T52WED.2014209T032121.v2.0\n",
      "HLS.L30.T51WWV.2014209T032121.v2.0\n",
      "HLS.L30.T52WDC.2014209T032145.v2.0\n",
      "HLS.L30.T51WXU.2014209T032145.v2.0\n",
      "HLS.L30.T51WWU.2014209T032145.v2.0\n",
      "HLS.L30.T52WDD.2014209T032145.v2.0\n",
      "HLS.L30.T51WXT.2014209T032145.v2.0\n",
      "HLS.L30.T51WXV.2014211T030901.v2.0\n",
      "HLS.L30.T51WWU.2014214T033957.v2.0\n",
      "Search only mode. Master JSON written: /projects/my-private-bucket/tmp/master_2422_2014-07-01_2014-08-31_HLS.json\n"
     ]
    }
   ],
   "source": [
    "cmd = f'python /projects/code/icesat2_boreal/lib/3.1.2_dps.py {args} --search_only'\n",
    "!echo $cmd\n",
    "!eval $cmd"
   ]
  },
  {
   "cell_type": "markdown",
   "id": "2b72c5ae-bb48-4c34-9423-694e559ea113",
   "metadata": {},
   "source": [
    "### Run HLS composite \n",
    "if params return:  \n",
    "`>` ~100 scenes maybe this could take 10-15 mins  \n",
    "`>` ~175 scenes maybe too much for 32Gb of RAM?"
   ]
  },
  {
   "cell_type": "code",
   "execution_count": null,
   "id": "f0e05abd-be2b-40ae-a040-0651d3e16376",
   "metadata": {
    "tags": []
   },
   "outputs": [
    {
     "name": "stdout",
     "output_type": "stream",
     "text": [
      "python /projects/code/icesat2_boreal/lib/3.1.2_dps.py -i https://maap-ops-workspace.s3.amazonaws.com/shared/montesano/databank/boreal_tiles_v004.gpkg -lyr boreal_tiles_v004 -a https://cmr.earthdata.nasa.gov/stac/LPCLOUD --tile_buffer_m 0 --in_tile_num 2422 -o /projects/my-private-bucket/tmp -sy 2014 -ey 2014 -smd 07-01 -emd 08-31 -mc 10 --composite_type HLS --hls_product H30 --rangelims_red 0 1 --thresh_min_ndvi -1\n",
      "\n",
      "Tiles path:\t\t https://maap-ops-workspace.s3.amazonaws.com/shared/montesano/databank/boreal_tiles_v004.gpkg\n",
      "Tile number:\t\t 2422\n",
      "Output res (m):\t\t 30\n",
      "in_bbox:\t\t [-1791478.0000000047, 4113304.0000000093, -1701478.0000000047, 4203304.000000009]\n",
      "bbox 4326:\t\t [125.65378735345928, 70.23761759131604, 129.10749149273934, 71.38291000560454]\n",
      "Getting output dims from buffered (buffer=0.0) original tile geometry...\n",
      "Output dims:\t\t3000 x 3000\n",
      "Composite type:\t\tHLS\n",
      "\n",
      "Getting HLS data...\n",
      "bbox: [125.65378735345928, 70.23761759131604, 129.10749149273934, 71.38291000560454]\n",
      "\n",
      "Querying STAC...\n",
      "start date, end date:\t\t 2014-07-01T00:00:00Z 2014-08-31T23:59:59Z\n",
      "\n",
      "Conducting HLS search now...\n",
      "Searching for:\t\t\t['HLSL30.v2.0', 'HLSS30.v2.0']\n",
      "initial results:\t\t 197\n",
      "filtered results:\t\t 32\n",
      "\n",
      "Search complete.\n",
      "\n",
      "32\n",
      "HLS.L30.T51WWT.2014184T032748.v2.0\n",
      "HLS.L30.T52WDC.2014184T032748.v2.0\n",
      "HLS.L30.T51WXT.2014184T032748.v2.0\n",
      "HLS.L30.T51WWU.2014186T031528.v2.0\n",
      "HLS.L30.T52WEC.2014186T031528.v2.0\n",
      "HLS.L30.T52WDD.2014186T031528.v2.0\n",
      "HLS.L30.T52WDC.2014186T031528.v2.0\n",
      "HLS.L30.T51WXU.2014186T031528.v2.0\n",
      "HLS.L30.T51WXT.2014186T031528.v2.0\n",
      "HLS.L30.T52WEE.2014186T031528.v2.0\n",
      "HLS.L30.T52WDE.2014186T031528.v2.0\n",
      "HLS.L30.T51WXV.2014186T031528.v2.0\n",
      "HLS.L30.T52WED.2014186T031528.v2.0\n",
      "HLS.L30.T51WWT.2014186T031552.v2.0\n",
      "HLS.L30.T52WDD.2014202T031532.v2.0\n",
      "HLS.L30.T51WXT.2014202T031532.v2.0\n",
      "HLS.L30.T52WEC.2014202T031532.v2.0\n",
      "HLS.L30.T51WWU.2014202T031532.v2.0\n",
      "HLS.L30.T52WDC.2014202T031532.v2.0\n",
      "HLS.L30.T51WXU.2014202T031532.v2.0\n",
      "HLS.L30.T52WED.2014202T031532.v2.0\n",
      "HLS.L30.T51WWT.2014202T031556.v2.0\n",
      "HLS.L30.T51WWT.2014207T033405.v2.0\n",
      "HLS.L30.T52WED.2014209T032121.v2.0\n",
      "HLS.L30.T51WWV.2014209T032121.v2.0\n",
      "HLS.L30.T52WDC.2014209T032145.v2.0\n",
      "HLS.L30.T51WXU.2014209T032145.v2.0\n",
      "HLS.L30.T51WWU.2014209T032145.v2.0\n",
      "HLS.L30.T52WDD.2014209T032145.v2.0\n",
      "HLS.L30.T51WXT.2014209T032145.v2.0\n",
      "HLS.L30.T51WXV.2014211T030901.v2.0\n",
      "HLS.L30.T51WWU.2014214T033957.v2.0\n",
      "\n",
      "Total # of scenes for composite:\t\t32\n",
      "Creating NDVI stack...\n",
      "HLS\n",
      "Min, max Red value before mask: --, --\n",
      "Red rangelims: [0.0, 1.0]\n",
      "Min, max Red value before mask: --, --\n",
      "Red rangelims: [0.0, 1.0]\n",
      "Min, max Red value before mask: --, --\n",
      "Red rangelims: [0.0, 1.0]\n",
      "Min, max Red value before mask: --, --\n",
      "Red rangelims: [0.0, 1.0]\n",
      "Min, max Red value before mask: -0.00019999999494757503, 0.5153999924659729\n",
      "Red rangelims: [0.0, 1.0]\n",
      "Min, max Red value before mask: -0.0008999999845400453, 0.27239999175071716\n",
      "Red rangelims: [0.0, 1.0]\n",
      "Min, max Red value before mask: 0.0031999999191612005, 0.2369999885559082\n",
      "Red rangelims: [0.0, 1.0]\n",
      "Min, max Red value before mask: --, --\n",
      "Red rangelims: [0.0, 1.0]\n",
      "Min, max Red value before mask: --, --\n",
      "Red rangelims: [0.0, 1.0]\n",
      "Min, max Red value before mask: 0.019500000402331352, 0.1542000025510788\n",
      "Red rangelims: [0.0, 1.0]\n",
      "Min, max Red value before mask: 0.022599998861551285, 0.14829999208450317\n",
      "Red rangelims: [0.0, 1.0]\n",
      "Min, max Red value before mask: 0.014699999243021011, 0.15320000052452087\n",
      "Red rangelims: [0.0, 1.0]\n",
      "Min, max Red value before mask: 0.019999999552965164, 0.14229999482631683\n",
      "Red rangelims: [0.0, 1.0]\n",
      "Min, max Red value before mask: -0.0429999977350235, 0.8398999571800232\n",
      "Red rangelims: [0.0, 1.0]\n",
      "Min, max Red value before mask: -0.009999999776482582, 0.779699981212616\n",
      "Red rangelims: [0.0, 1.0]\n",
      "Min, max Red value before mask: -0.013899999670684338, 0.6679999828338623\n",
      "Red rangelims: [0.0, 1.0]\n",
      "Min, max Red value before mask: -0.00699999975040555, 0.8363999724388123\n",
      "Red rangelims: [0.0, 1.0]\n",
      "Min, max Red value before mask: -0.03309999778866768, 0.5475999712944031\n",
      "Red rangelims: [0.0, 1.0]\n",
      "Min, max Red value before mask: 0.010599999688565731, 0.17839999496936798\n",
      "Red rangelims: [0.0, 1.0]\n",
      "Min, max Red value before mask: 0.004799999762326479, 0.18299999833106995\n",
      "Red rangelims: [0.0, 1.0]\n",
      "Min, max Red value before mask: 0.003700000001117587, 0.19299998879432678\n",
      "Red rangelims: [0.0, 1.0]\n",
      "Min, max Red value before mask: 0.006099999882280827, 0.17989999055862427\n",
      "Red rangelims: [0.0, 1.0]\n",
      "Min, max Red value before mask: -0.05900000035762787, 0.8718999624252319\n",
      "Red rangelims: [0.0, 1.0]\n",
      "Min, max Red value before mask: -0.013499999418854713, 0.8003000020980835\n",
      "Red rangelims: [0.0, 1.0]\n",
      "Min, max Red value before mask: -0.02369999885559082, 0.6710000038146973\n",
      "Red rangelims: [0.0, 1.0]\n",
      "Min, max Red value before mask: -0.03480000048875809, 0.8486999869346619\n",
      "Red rangelims: [0.0, 1.0]\n",
      "Min, max Red value before mask: --, --\n",
      "Red rangelims: [0.0, 1.0]\n",
      "Min, max Red value before mask: --, --\n",
      "Red rangelims: [0.0, 1.0]\n",
      "Min, max Red value before mask: 0.0015999999595806003, 0.3880999982357025\n",
      "Red rangelims: [0.0, 1.0]\n",
      "Min, max Red value before mask: 0.0, 0.16439999639987946\n",
      "Red rangelims: [0.0, 1.0]\n",
      "Min, max Red value before mask: 0.003999999724328518, 0.14270000159740448\n",
      "Red rangelims: [0.0, 1.0]\n",
      "Min, max Red value before mask: --, --\n",
      "Red rangelims: [0.0, 1.0]\n",
      "finished\n",
      "Make NDVI valid mask\n",
      "shape:\t\t (32, 3000, 3000)\n",
      "Get stack nan mask\n",
      "Calculate Stack max NDVI image\n",
      "Create LUT of max NDVI positions\n",
      "Creating Blue Composite\n",
      "\t\tMaskedFile\n"
     ]
    }
   ],
   "source": [
    "%%time\n",
    "cmd = f'python /projects/code/icesat2_boreal/lib/3.1.2_dps.py {args}'\n",
    "!echo $cmd\n",
    "!eval $cmd"
   ]
  },
  {
   "cell_type": "code",
   "execution_count": null,
   "id": "be8e334d-101f-4be5-a5d7-f092400af0d5",
   "metadata": {},
   "outputs": [],
   "source": []
  }
 ],
 "metadata": {
  "kernelspec": {
   "display_name": "Python 3 (ipykernel)",
   "language": "python",
   "name": "python3"
  },
  "language_info": {
   "codemirror_mode": {
    "name": "ipython",
    "version": 3
   },
   "file_extension": ".py",
   "mimetype": "text/x-python",
   "name": "python",
   "nbconvert_exporter": "python",
   "pygments_lexer": "ipython3",
   "version": "3.10.13"
  }
 },
 "nbformat": 4,
 "nbformat_minor": 5
}
