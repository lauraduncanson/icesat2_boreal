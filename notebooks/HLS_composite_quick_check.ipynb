{
 "cells": [
  {
   "cell_type": "markdown",
   "id": "bf04aca7-7370-4c58-8bb8-7c886b2ddd19",
   "metadata": {},
   "source": [
    "# Run an HLS composite data search quickly on a tile\n",
    "\n",
    "This notebook provides an example of how to:\n",
    " - run a quick search to check # of available HLS scenes for a HLS seasonal greenest pixel composite on a focal tile  \n",
    " - run that a composite  \n",
    " \n",
    "Each tile is 3000 x 3000 pixels at 30 m resolution\n",
    "\n",
    "Paul Montesano, PhD"
   ]
  },
  {
   "cell_type": "code",
   "execution_count": 13,
   "id": "366c68df-98bd-4562-a166-8210cde5fb71",
   "metadata": {
    "tags": []
   },
   "outputs": [],
   "source": [
    "import os, sys\n",
    "ICESAT2_BOREAL_REPO_PATH = '/projects/code/icesat2_boreal/lib' \n",
    "sys.path.append(ICESAT2_BOREAL_REPO_PATH)"
   ]
  },
  {
   "cell_type": "code",
   "execution_count": 67,
   "id": "9d7a7eab-349d-49bf-8d62-f8aec961c92b",
   "metadata": {},
   "outputs": [],
   "source": [
    "import geopandas as gpd\n",
    "import pandas as pd\n",
    "\n",
    "import datetime\n",
    "\n",
    "import json\n",
    "import glob\n",
    "\n",
    "import s3fs\n",
    "import numpy as np\n",
    "s3 = s3fs.S3FileSystem(anon=False)"
   ]
  },
  {
   "cell_type": "code",
   "execution_count": 87,
   "id": "7f95f19b-5b01-468d-bfb3-429a2430523d",
   "metadata": {
    "tags": []
   },
   "outputs": [],
   "source": [
    "FOCAL_TILE = 3823"
   ]
  },
  {
   "cell_type": "markdown",
   "id": "6af55329-cdf8-4d8f-a4ea-56234e79a47f",
   "metadata": {},
   "source": [
    "#### HLS composite parameters"
   ]
  },
  {
   "cell_type": "code",
   "execution_count": 110,
   "id": "6f30e507-6d36-4e1c-a89b-42737db233f6",
   "metadata": {
    "tags": []
   },
   "outputs": [],
   "source": [
    "YEAR = 2020\n",
    "SEASON_START = '07-01'\n",
    "SEASON_STOP = '08-31' \n",
    "MAX_CLOUDS = 25\n",
    "MS_DATA_TYPE = 'HLS'"
   ]
  },
  {
   "cell_type": "code",
   "execution_count": 111,
   "id": "90fc6df5-7307-468c-8fbe-f2406450e38e",
   "metadata": {
    "tags": []
   },
   "outputs": [],
   "source": [
    "INDEX_FN =  'https://maap-ops-workspace.s3.amazonaws.com/shared/montesano/databank/boreal_tiles_v004_model_ready.gpkg'\n",
    "INDEX_LYR = 'boreal_tiles_v004_model_ready'\n",
    "SAT_API = 'https://cmr.earthdata.nasa.gov/stac/LPCLOUD'\n",
    "OUTDIR = '/projects/my-private-bucket/tmp'\n",
    "\n",
    "args = f\"-i {INDEX_FN} \\\n",
    "-lyr {INDEX_LYR} \\\n",
    "-a {SAT_API} \\\n",
    "--tile_buffer_m 0 \\\n",
    "--in_tile_num {FOCAL_TILE} \\\n",
    "-o {OUTDIR} \\\n",
    "-sy {YEAR} -ey {YEAR} -smd {SEASON_START} -emd {SEASON_STOP} -mc {MAX_CLOUDS} \\\n",
    "--composite_type {MS_DATA_TYPE} \\\n",
    "--hls_product H30 \\\n",
    "--rangelims_red 0 1 \\\n",
    "--thresh_min_ndvi -1\""
   ]
  },
  {
   "cell_type": "markdown",
   "id": "6a115073-82c5-4a9d-bbfe-7f20404f55a4",
   "metadata": {},
   "source": [
    "### Run HLS search only \n",
    "this is fast - no compositing - it tells you how many HLS scenes are available for this tile based on parameters"
   ]
  },
  {
   "cell_type": "code",
   "execution_count": 112,
   "id": "19e2fdd2-3745-44e2-ac12-7a0235d3443d",
   "metadata": {
    "tags": []
   },
   "outputs": [
    {
     "name": "stdout",
     "output_type": "stream",
     "text": [
      "python /projects/code/icesat2_boreal/lib/3.1.2_dps.py -i https://maap-ops-workspace.s3.amazonaws.com/shared/montesano/databank/boreal_tiles_v004_model_ready.gpkg -lyr boreal_tiles_v004_model_ready -a https://cmr.earthdata.nasa.gov/stac/LPCLOUD --tile_buffer_m 0 --in_tile_num 3823 -o /projects/my-private-bucket/tmp -sy 2020 -ey 2020 -smd 07-01 -emd 08-31 -mc 25 --composite_type HLS --hls_product H30 --rangelims_red 0 1 --thresh_min_ndvi -1 --search_only\n",
      "\n",
      "Tiles path:\t\t https://maap-ops-workspace.s3.amazonaws.com/shared/montesano/databank/boreal_tiles_v004_model_ready.gpkg\n",
      "Tile number:\t\t 3823\n",
      "Output res (m):\t\t 30\n",
      "in_bbox:\t\t [-81478.00000000466, 2673304.0000000093, -0.46874016203220914, 2763304.0000000093]\n",
      "bbox 4326:\t\t [178.2621539860503, 64.00454437333856, 179.99999, 64.80974254538371]\n",
      "Getting output dims from buffered (buffer=0.0) original tile geometry...\n",
      "Output dims:\t\t3000 x 2715\n",
      "Composite type:\t\tHLS\n",
      "\n",
      "Getting HLS data...\n",
      "bbox: [178.2621539860503, 64.00454437333856, 179.99999, 64.80974254538371]\n",
      "\n",
      "Querying STAC...\n",
      "start date, end date:\t\t 2020-07-01T00:00:00Z 2020-08-31T23:59:59Z\n",
      "\n",
      "Conducting HLS search now...\n",
      "Searching for:\t\t\t['HLSL30.v2.0', 'HLSS30.v2.0']\n",
      "initial results:\t\t 100\n",
      "filtered results:\t\t 27\n",
      "\n",
      "Search complete.\n",
      "\n",
      "27\n",
      "HLS.S30.T01WCN.2020184T233649.v2.0\n",
      "HLS.L30.T01WCM.2020190T233436.v2.0\n",
      "HLS.L30.T60WWS.2020190T233436.v2.0\n",
      "HLS.S30.T01WCM.2020190T235619.v2.0\n",
      "HLS.S30.T60WWS.2020190T235619.v2.0\n",
      "HLS.S30.T60VXR.2020197T234629.v2.0\n",
      "HLS.S30.T60VWR.2020197T234629.v2.0\n",
      "HLS.L30.T01WCN.2020201T231607.v2.0\n",
      "HLS.L30.T60WWS.2020201T231631.v2.0\n",
      "HLS.S30.T01WCN.2020202T234631.v2.0\n",
      "HLS.S30.T01WCM.2020202T234631.v2.0\n",
      "HLS.S30.T60WWS.2020202T234631.v2.0\n",
      "HLS.S30.T01WCN.2020204T233649.v2.0\n",
      "HLS.S30.T01WCM.2020204T233649.v2.0\n",
      "HLS.S30.T60WWS.2020204T233649.v2.0\n",
      "HLS.S30.T60VWR.2020204T233649.v2.0\n",
      "HLS.L30.T60WWS.2020206T233441.v2.0\n",
      "HLS.L30.T60VWR.2020206T233505.v2.0\n",
      "HLS.S30.T60WWS.2020207T234629.v2.0\n",
      "HLS.S30.T60VWR.2020207T234629.v2.0\n",
      "HLS.L30.T01WCM.2020208T232220.v2.0\n",
      "HLS.L30.T01WCN.2020208T232220.v2.0\n",
      "HLS.L30.T60WWS.2020208T232244.v2.0\n",
      "HLS.L30.T60VWR.2020208T232244.v2.0\n",
      "HLS.L30.T60VXR.2020208T232244.v2.0\n",
      "HLS.S30.T60VXR.2020209T233651.v2.0\n",
      "HLS.S30.T60VWR.2020209T233651.v2.0\n",
      "Search only mode. Master JSON written: /projects/my-private-bucket/tmp/master_3823_2020-07-01_2020-08-31_HLS.json\n"
     ]
    }
   ],
   "source": [
    "cmd = f'python /projects/code/icesat2_boreal/lib/3.1.2_dps.py {args} --search_only'\n",
    "!echo $cmd\n",
    "!eval $cmd"
   ]
  },
  {
   "cell_type": "markdown",
   "id": "2c658779-779b-4fe4-9814-024e5b3f8be4",
   "metadata": {},
   "source": [
    "### Plot some HLS metadata for the scene query returned above"
   ]
  },
  {
   "cell_type": "code",
   "execution_count": 113,
   "id": "05ce00c8-ce20-42d4-9421-f87244fd5d4c",
   "metadata": {
    "tags": []
   },
   "outputs": [
    {
     "data": {
      "text/plain": [
       "'/projects/my-private-bucket/tmp/master_3823_2020-07-01_2020-08-31_HLS.json'"
      ]
     },
     "execution_count": 113,
     "metadata": {},
     "output_type": "execute_result"
    }
   ],
   "source": [
    "hls_json_meta_list = [f'/projects/my-private-bucket/tmp/master_{FOCAL_TILE}_{YEAR}-{SEASON_START}_{YEAR}-{SEASON_STOP}_HLS.json']\n",
    "hls_json_meta_list[0]"
   ]
  },
  {
   "cell_type": "code",
   "execution_count": 114,
   "id": "c42ac33b-3753-47a4-ace7-4473279a5f58",
   "metadata": {
    "tags": []
   },
   "outputs": [
    {
     "name": "stdout",
     "output_type": "stream",
     "text": [
      "<class 'pandas.core.frame.DataFrame'>\n",
      "RangeIndex: 1 entries, 0 to 0\n",
      "Data columns (total 4 columns):\n",
      " #   Column    Non-Null Count  Dtype \n",
      "---  ------    --------------  ----- \n",
      " 0   filename  1 non-null      object\n",
      " 1   year      1 non-null      object\n",
      " 2   season    1 non-null      object\n",
      " 3   counts    1 non-null      int64 \n",
      "dtypes: int64(1), object(3)\n",
      "memory usage: 160.0+ bytes\n",
      "CPU times: user 44.3 ms, sys: 2.3 ms, total: 46.6 ms\n",
      "Wall time: 64.4 ms\n"
     ]
    }
   ],
   "source": [
    "%%time\n",
    "\n",
    "gdf_list = []\n",
    "df_list = []\n",
    "df_smry_list = []\n",
    "fn_not_found_list=[]\n",
    "\n",
    "def season_classifier(row):\n",
    "    if '01' in row[\"start_month\"]:\n",
    "        return \"wet\"\n",
    "    else:\n",
    "        return \"dry\"\n",
    "\n",
    "for fn in hls_json_meta_list:\n",
    "    \n",
    "    # Cant make gdf and df during one single open...\n",
    "    try:\n",
    "        with open(fn) as f:\n",
    "\n",
    "            # Build geodataframes\n",
    "            gdf = gpd.GeoDataFrame.from_features(json.load(f), crs=4326)\n",
    "            gdf_list.append(gdf)\n",
    "\n",
    "        with open(fn) as f:\n",
    "\n",
    "            # Build dataframe of attributes\n",
    "            df = pd.json_normalize(json.load(f), record_path=['features'])\n",
    "            #df['datetime'] = pd.to_datetime(df.id.str.split('.', expand=True)[3], format='%Y%jT%H%M%S')\n",
    "            #df['doy'] = df['datetime'].dt.dayofyear\n",
    "            df['filename'] = os.path.basename(fn)\n",
    "            df['start'] = os.path.basename(fn).split('_')[2]\n",
    "            df['start_month'] = os.path.basename(fn).split('_')[2].split('-')[1]\n",
    "            df['year'] = os.path.basename(fn).split('_')[2].split('-')[0]\n",
    "            df['season'] = 'none'\n",
    "            if False:\n",
    "                df['season'] = df.apply(season_classifier, axis=1)\n",
    "            df['end'] = os.path.basename(fn).split('_')[3]\n",
    "            df_smry = df.groupby(['filename','year','season']).size().reset_index(name='counts')\n",
    "            df_list.append(df)\n",
    "            df_smry_list.append(df_smry)\n",
    "    except:\n",
    "        print(f'File not found: {fn}')\n",
    "        fn_not_found_list.append(fn)\n",
    "\n",
    "df = pd.concat(df_list)\n",
    "df_smry = pd.concat(df_smry_list)\n",
    "df_smry.info()"
   ]
  },
  {
   "cell_type": "markdown",
   "id": "186a50b5-d54c-4859-ac8d-da6720167c4e",
   "metadata": {},
   "source": [
    "### Geodataframe show all the pieces of HLS scenes from the search above\n",
    "duplicate HLS scenes indicate where scenes were used for multiple tiles"
   ]
  },
  {
   "cell_type": "code",
   "execution_count": 115,
   "id": "a89218c1-9e6f-4c94-ad85-7ce6e15bb5f0",
   "metadata": {
    "tags": []
   },
   "outputs": [
    {
     "name": "stdout",
     "output_type": "stream",
     "text": [
      "CPU times: user 6.91 ms, sys: 0 ns, total: 6.91 ms\n",
      "Wall time: 6.17 ms\n"
     ]
    }
   ],
   "source": [
    "%%time\n",
    "hls_scene_part_gdf = pd.concat([pd.concat(gdf_list), pd.concat(df_list)], axis=1)\n",
    "hls_scene_part_gdf.drop( [c for c in hls_scene_part_gdf.columns for s in ['assets','links','properties'] if s in c], axis=1, inplace=True)"
   ]
  },
  {
   "cell_type": "code",
   "execution_count": 116,
   "id": "10945af0-722d-464a-9cec-f9d69a689510",
   "metadata": {
    "tags": []
   },
   "outputs": [
    {
     "data": {
      "text/plain": [
       "(27, 19)"
      ]
     },
     "execution_count": 116,
     "metadata": {},
     "output_type": "execute_result"
    }
   ],
   "source": [
    "hls_scene_part_gdf.shape"
   ]
  },
  {
   "cell_type": "code",
   "execution_count": 117,
   "id": "f627d7a2-fcd2-4809-8696-2eea21c45ca9",
   "metadata": {
    "tags": []
   },
   "outputs": [
    {
     "data": {
      "text/plain": [
       "(27, 1)"
      ]
     },
     "execution_count": 117,
     "metadata": {},
     "output_type": "execute_result"
    }
   ],
   "source": [
    "hls_scene_part_gdf.groupby('id').agg({'id':['count']}).shape"
   ]
  },
  {
   "cell_type": "code",
   "execution_count": 118,
   "id": "a48c11c6-8415-4628-8e43-465ff8d171f3",
   "metadata": {
    "tags": []
   },
   "outputs": [],
   "source": [
    "hls_scene_gdf = hls_scene_part_gdf.dissolve(by='id')"
   ]
  },
  {
   "cell_type": "code",
   "execution_count": 119,
   "id": "bef04089-5366-4596-b0c9-dc3b237fb0ea",
   "metadata": {
    "tags": []
   },
   "outputs": [],
   "source": [
    "hls_scene_gdf['datetime'] = pd.to_datetime(hls_scene_gdf['datetime'])\n",
    "hls_scene_gdf['doy'] = pd.to_datetime(hls_scene_gdf['datetime']).dt.dayofyear"
   ]
  },
  {
   "cell_type": "code",
   "execution_count": 120,
   "id": "fd460840-4d5b-432e-9190-612762ae7f14",
   "metadata": {
    "tags": []
   },
   "outputs": [
    {
     "name": "stdout",
     "output_type": "stream",
     "text": [
      "<class 'geopandas.geodataframe.GeoDataFrame'>\n",
      "Index: 27 entries, HLS.L30.T01WCM.2020190T233436.v2.0 to HLS.S30.T60WWS.2020207T234629.v2.0\n",
      "Data columns (total 19 columns):\n",
      " #   Column                Non-Null Count  Dtype              \n",
      "---  ------                --------------  -----              \n",
      " 0   geometry              27 non-null     geometry           \n",
      " 1   datetime              27 non-null     datetime64[ns, UTC]\n",
      " 2   eo:cloud_cover        27 non-null     int64              \n",
      " 3   start_datetime        27 non-null     object             \n",
      " 4   end_datetime          27 non-null     object             \n",
      " 5   type                  27 non-null     object             \n",
      " 6   stac_version          27 non-null     object             \n",
      " 7   stac_extensions       27 non-null     object             \n",
      " 8   bbox                  27 non-null     object             \n",
      " 9   collection            27 non-null     object             \n",
      " 10  geometry.type         27 non-null     object             \n",
      " 11  geometry.coordinates  27 non-null     object             \n",
      " 12  filename              27 non-null     object             \n",
      " 13  start                 27 non-null     object             \n",
      " 14  start_month           27 non-null     object             \n",
      " 15  year                  27 non-null     object             \n",
      " 16  season                27 non-null     object             \n",
      " 17  end                   27 non-null     object             \n",
      " 18  doy                   27 non-null     int32              \n",
      "dtypes: datetime64[ns, UTC](1), geometry(1), int32(1), int64(1), object(15)\n",
      "memory usage: 5.2+ KB\n"
     ]
    }
   ],
   "source": [
    "hls_scene_gdf.info()"
   ]
  },
  {
   "cell_type": "code",
   "execution_count": 121,
   "id": "1da5eae3-0fe1-483e-acaf-58d79e053e26",
   "metadata": {
    "tags": []
   },
   "outputs": [
    {
     "data": {
      "image/png": "[encoded data removed]",
      "text/plain": [
       "<Figure size 1200x300 with 1 Axes>"
      ]
     },
     "metadata": {},
     "output_type": "display_data"
    },
    {
     "data": {
      "image/png": "[encoded data removed]",
      "text/plain": [
       "<Figure size 1200x300 with 2 Axes>"
      ]
     },
     "metadata": {},
     "output_type": "display_data"
    }
   ],
   "source": [
    "hls_scene_gdf.plot(alpha=0.05, legend=True, figsize=(12,3))\n",
    "ax = hls_scene_gdf.plot(column='eo:cloud_cover', alpha=0.25, cmap='RdYlGn_r', legend=True, figsize=(12,3))"
   ]
  },
  {
   "cell_type": "markdown",
   "id": "2b72c5ae-bb48-4c34-9423-694e559ea113",
   "metadata": {},
   "source": [
    "### Run HLS composite \n",
    "if params return:  \n",
    "`>` ~100 scenes maybe this could take 15-25 mins?  \n",
    "`>` ~175 scenes maybe too much for 32Gb of RAM?"
   ]
  },
  {
   "cell_type": "code",
   "execution_count": 122,
   "id": "f0e05abd-be2b-40ae-a040-0651d3e16376",
   "metadata": {
    "tags": []
   },
   "outputs": [
    {
     "name": "stdout",
     "output_type": "stream",
     "text": [
      "python /projects/code/icesat2_boreal/lib/3.1.2_dps.py -i https://maap-ops-workspace.s3.amazonaws.com/shared/montesano/databank/boreal_tiles_v004_model_ready.gpkg -lyr boreal_tiles_v004_model_ready -a https://cmr.earthdata.nasa.gov/stac/LPCLOUD --tile_buffer_m 0 --in_tile_num 3823 -o /projects/my-private-bucket/tmp -sy 2020 -ey 2020 -smd 07-01 -emd 08-31 -mc 25 --composite_type HLS --hls_product H30 --rangelims_red 0 1 --thresh_min_ndvi -1\n",
      "\n",
      "Tiles path:\t\t https://maap-ops-workspace.s3.amazonaws.com/shared/montesano/databank/boreal_tiles_v004_model_ready.gpkg\n",
      "Tile number:\t\t 3823\n",
      "Output res (m):\t\t 30\n",
      "in_bbox:\t\t [-81478.00000000466, 2673304.0000000093, -0.46874016203220914, 2763304.0000000093]\n",
      "bbox 4326:\t\t [178.2621539860503, 64.00454437333856, 179.99999, 64.80974254538371]\n",
      "Getting output dims from buffered (buffer=0.0) original tile geometry...\n",
      "Output dims:\t\t3000 x 2715\n",
      "Composite type:\t\tHLS\n",
      "\n",
      "Getting HLS data...\n",
      "bbox: [178.2621539860503, 64.00454437333856, 179.99999, 64.80974254538371]\n",
      "\n",
      "Querying STAC...\n",
      "start date, end date:\t\t 2020-07-01T00:00:00Z 2020-08-31T23:59:59Z\n",
      "\n",
      "Conducting HLS search now...\n",
      "Searching for:\t\t\t['HLSL30.v2.0', 'HLSS30.v2.0']\n",
      "initial results:\t\t 100\n",
      "filtered results:\t\t 27\n",
      "\n",
      "Search complete.\n",
      "\n",
      "27\n",
      "HLS.S30.T01WCN.2020184T233649.v2.0\n",
      "HLS.L30.T01WCM.2020190T233436.v2.0\n",
      "HLS.L30.T60WWS.2020190T233436.v2.0\n",
      "HLS.S30.T01WCM.2020190T235619.v2.0\n",
      "HLS.S30.T60WWS.2020190T235619.v2.0\n",
      "HLS.S30.T60VXR.2020197T234629.v2.0\n",
      "HLS.S30.T60VWR.2020197T234629.v2.0\n",
      "HLS.L30.T01WCN.2020201T231607.v2.0\n",
      "HLS.L30.T60WWS.2020201T231631.v2.0\n",
      "HLS.S30.T01WCN.2020202T234631.v2.0\n",
      "HLS.S30.T01WCM.2020202T234631.v2.0\n",
      "HLS.S30.T60WWS.2020202T234631.v2.0\n",
      "HLS.S30.T01WCN.2020204T233649.v2.0\n",
      "HLS.S30.T01WCM.2020204T233649.v2.0\n",
      "HLS.S30.T60WWS.2020204T233649.v2.0\n",
      "HLS.S30.T60VWR.2020204T233649.v2.0\n",
      "HLS.L30.T60WWS.2020206T233441.v2.0\n",
      "HLS.L30.T60VWR.2020206T233505.v2.0\n",
      "HLS.S30.T60WWS.2020207T234629.v2.0\n",
      "HLS.S30.T60VWR.2020207T234629.v2.0\n",
      "HLS.L30.T01WCM.2020208T232220.v2.0\n",
      "HLS.L30.T01WCN.2020208T232220.v2.0\n",
      "HLS.L30.T60WWS.2020208T232244.v2.0\n",
      "HLS.L30.T60VWR.2020208T232244.v2.0\n",
      "HLS.L30.T60VXR.2020208T232244.v2.0\n",
      "HLS.S30.T60VXR.2020209T233651.v2.0\n",
      "HLS.S30.T60VWR.2020209T233651.v2.0\n",
      "\n",
      "Total # of scenes for composite:\t\t27\n",
      "Creating NDVI stack...\n",
      "HLS\n",
      "Min, max Red value before mask: -0.05609999969601631, 0.7124999761581421\n",
      "Red rangelims: [0.0, 1.0]\n",
      "Min, max Red value before mask: -0.033399999141693115, 0.2101999968290329\n",
      "Red rangelims: [0.0, 1.0]\n",
      "Min, max Red value before mask: -0.0024999999441206455, 0.007899999618530273\n",
      "Red rangelims: [0.0, 1.0]\n",
      "Min, max Red value before mask: -0.014499999582767487, 0.1639000028371811\n",
      "Red rangelims: [0.0, 1.0]\n",
      "Min, max Red value before mask: 0.008499999530613422, 0.09019999951124191\n",
      "Red rangelims: [0.0, 1.0]\n",
      "Min, max Red value before mask: -0.006899999920278788, 0.1200999990105629\n",
      "Red rangelims: [0.0, 1.0]\n",
      "Min, max Red value before mask: 0.011500000022351742, 0.033799998462200165\n",
      "Red rangelims: [0.0, 1.0]\n",
      "Min, max Red value before mask: -0.11019999533891678, 1.083799958229065\n",
      "Red rangelims: [0.0, 1.0]\n",
      "Min, max Red value before mask: 0.0016999999061226845, 0.006799999624490738\n",
      "Red rangelims: [0.0, 1.0]\n",
      "Min, max Red value before mask: -0.12409999966621399, 0.5428000092506409\n",
      "Red rangelims: [0.0, 1.0]\n",
      "Min, max Red value before mask: -0.035599999129772186, 0.3725999891757965\n",
      "Red rangelims: [0.0, 1.0]\n",
      "Min, max Red value before mask: -0.12150000035762787, 0.6936999559402466\n",
      "Red rangelims: [0.0, 1.0]\n",
      "Min, max Red value before mask: -0.1314999908208847, 0.4950999915599823\n",
      "Red rangelims: [0.0, 1.0]\n",
      "Min, max Red value before mask: -0.005699999630451202, 0.41200000047683716\n",
      "Red rangelims: [0.0, 1.0]\n",
      "Min, max Red value before mask: -0.01549999974668026, 0.5769000053405762\n",
      "Red rangelims: [0.0, 1.0]\n",
      "Min, max Red value before mask: -0.009499999694526196, 0.4910999834537506\n",
      "Red rangelims: [0.0, 1.0]\n",
      "Min, max Red value before mask: -0.0037999998312443495, 0.40959998965263367\n",
      "Red rangelims: [0.0, 1.0]\n",
      "Min, max Red value before mask: -0.11769999563694, 0.5128999948501587\n",
      "Red rangelims: [0.0, 1.0]\n",
      "Min, max Red value before mask: 0.0011999999405816197, 0.121799997985363\n",
      "Red rangelims: [0.0, 1.0]\n",
      "Min, max Red value before mask: -0.004699999932199717, 0.08370000123977661\n",
      "Red rangelims: [0.0, 1.0]\n",
      "Min, max Red value before mask: -0.12139999866485596, 0.19629999995231628\n",
      "Red rangelims: [0.0, 1.0]\n",
      "Min, max Red value before mask: -0.07779999822378159, 0.24650000035762787\n",
      "Red rangelims: [0.0, 1.0]\n",
      "Min, max Red value before mask: -0.08309999853372574, 0.12690000236034393\n",
      "Red rangelims: [0.0, 1.0]\n",
      "Min, max Red value before mask: -0.13509999215602875, 1.1388999223709106\n",
      "Red rangelims: [0.0, 1.0]\n",
      "Min, max Red value before mask: -0.13120000064373016, 0.8447999954223633\n",
      "Red rangelims: [0.0, 1.0]\n",
      "Min, max Red value before mask: -0.00279999990016222, 0.6930999755859375\n",
      "Red rangelims: [0.0, 1.0]\n",
      "Min, max Red value before mask: -0.01640000008046627, 0.5324999690055847\n",
      "Red rangelims: [0.0, 1.0]\n",
      "finished\n",
      "Make NDVI valid mask\n",
      "shape:\t\t (27, 3000, 2715)\n",
      "Get stack nan mask\n",
      "Calculate Stack max NDVI image\n",
      "Create LUT of max NDVI positions\n",
      "Creating Blue Composite\n",
      "\t\tMaskedFile\n",
      "\t\tComposite\n",
      "Creating Green Composite\n",
      "\t\tMaskedFile\n",
      "\t\tComposite\n",
      "Creating Red Composite\n",
      "\t\tMaskedFile\n",
      "\t\tComposite\n",
      "Creating NIR Composite\n",
      "\t\tMaskedFile\n",
      "\t\tComposite\n",
      "Creating SWIR Composite\n",
      "\t\tMaskedFile\n",
      "\t\tComposite\n",
      "Creating SWIR2 Composite\n",
      "\t\tMaskedFile\n",
      "\t\tComposite\n",
      "Creating NDVI Composite\n",
      "Creating Julian Date Comp\n",
      "Creating Year Date Comp\n",
      "Generating covariates\n",
      "\tSAVI Created\n",
      "\tMSAVI Created\n",
      "\tNDMI Created\n",
      "\tEVI Created\n",
      "\tNBR Created\n",
      "\tNBR2 Created\n",
      "\tTassCap Created\n",
      "Calculating X and Y pixel center coords...\n",
      "Min NDVI value before mask: -39.00001907348633\n",
      "Min NDVI threshold: -1.0\n",
      "\tVegetation mask created: valid data where NDVI > -1.0\n",
      "\n",
      "Creating raster stack...\n",
      "\n",
      "Assigning band names:\n",
      "\t['Blue', 'Green', 'Red', 'NIR', 'SWIR', 'SWIR2', 'NDVI', 'SAVI', 'MSAVI', 'NDMI', 'EVI', 'NBR', 'NBR2', 'TCB', 'TCG', 'TCW', 'ValidMask', 'Xgeo', 'Ygeo', 'JulianDate', 'yearDate']\n",
      "\n",
      "specifying output directory and filename\n",
      "\n",
      "Apply a common mask across all layers of stack...\n",
      "Stack shape pre-mask:\t\t(21, 3000, 2715)\n",
      "Stack shape post-mask:\t\t(21, 3000, 2715)\n",
      "Shape of input:\t\t\t (21, 3000, 2715)\n",
      "Input nodata isnt provided; assuming NaN...\n",
      "Resampling:\t\t\t 0\t[0=nearest, 1=blinear, 2=cubic]\n",
      "Output resolution:\t\t (30, 30)\n",
      "Writing img to memory...\n",
      "/projects/code/icesat2_boreal/lib/3.1.2_dps.py:615: RasterioDeprecationWarning: Source dataset should be opened in read-only mode. Use of datasets opened in modes other than 'r' will be disallowed in a future version.\n",
      "  write_cog(stack,\n",
      "Current stack shape:\t\t(21,2716,3000)\n",
      "Reading input: <open WarpedVRT name='WarpedVRT(/vsimem/03ded07f-337e-4862-81dd-3bffd8804d58/03ded07f-337e-4862-81dd-3bffd8804d58.tif)' mode='r'>\n",
      "\u001b[?25l  [####################################]  100%          \u001b[?25h\n",
      "Adding overviews...\n",
      "Updating dataset tags...\n",
      "Writing output to: /projects/my-private-bucket/tmp/HLS_3823_07-01_08-31_2020_2020.tif\n",
      "_tiffWriteProc: Software caused connection abort.\n",
      "_tiffWriteProc: Transport endpoint is not connected.\n",
      "_tiffWriteProc: Transport endpoint is not connected.\n",
      "_tiffSeekProc: Transport endpoint is not connected.\n",
      "_tiffSeekProc: Transport endpoint is not connected.\n",
      "_tiffSeekProc: Transport endpoint is not connected.\n",
      "_tiffSeekProc: Transport endpoint is not connected.\n",
      "_tiffSeekProc: Transport endpoint is not connected.\n",
      "_tiffSeekProc: Transport endpoint is not connected.\n",
      "_tiffSeekProc: Transport endpoint is not connected.\n",
      "_tiffSeekProc: Transport endpoint is not connected.\n",
      "_tiffSeekProc: Transport endpoint is not connected.\n",
      "_tiffSeekProc: Transport endpoint is not connected.\n",
      "_tiffSeekProc: Transport endpoint is not connected.\n",
      "_tiffSeekProc: Transport endpoint is not connected.\n",
      "_tiffSeekProc: Transport endpoint is not connected.\n",
      "_tiffSeekProc: Transport endpoint is not connected.\n",
      "Traceback (most recent call last):\n",
      "  File \"/projects/code/icesat2_boreal/lib/3.1.2_dps.py\", line 648, in <module>\n",
      "    main()\n",
      "  File \"/projects/code/icesat2_boreal/lib/3.1.2_dps.py\", line 615, in main\n",
      "    write_cog(stack,\n",
      "  File \"/projects/code/icesat2_boreal/lib/CovariateUtils.py\", line 287, in write_cog\n",
      "    cog_translate(\n",
      "  File \"/opt/conda/envs/pangeo/lib/python3.10/site-packages/rio_cogeo/cogeo.py\", line 407, in cog_translate\n",
      "    copy(tmp_dst, dst_path, copy_src_overviews=True, **dst_kwargs)\n",
      "  File \"/opt/conda/envs/pangeo/lib/python3.10/site-packages/rasterio/env.py\", line 451, in wrapper\n",
      "    return f(*args, **kwds)\n",
      "  File \"rasterio/shutil.pyx\", line 139, in rasterio.shutil.copy\n",
      "  File \"rasterio/_err.pyx\", line 221, in rasterio._err.exc_wrap_pointer\n",
      "rasterio._err.CPLE_FileIOError: /projects/my-private-bucket/tmp/HLS_3823_07-01_08-31_2020_2020.tif.msk: I/O error\n",
      "\u001b[0mCPU times: user 4.53 s, sys: 2.08 s, total: 6.61 s\n",
      "Wall time: 10min 9s\n"
     ]
    }
   ],
   "source": [
    "%%time\n",
    "cmd = f'python /projects/code/icesat2_boreal/lib/3.1.2_dps.py {args}'\n",
    "!echo $cmd\n",
    "!eval $cmd"
   ]
  },
  {
   "cell_type": "markdown",
   "id": "ac6f81c2-e474-4b5f-9bbf-ee42a49101db",
   "metadata": {},
   "source": [
    "## Plot the HLS composite created above"
   ]
  },
  {
   "cell_type": "code",
   "execution_count": 123,
   "id": "01297081-474b-4109-a767-c804b1104d52",
   "metadata": {
    "tags": []
   },
   "outputs": [],
   "source": [
    "import plotlib\n",
    "import rasterio\n",
    "from rasterio.plot import show_hist, show\n",
    "import numpy as np\n",
    "import matplotlib.pyplot as plt"
   ]
  },
  {
   "cell_type": "code",
   "execution_count": 124,
   "id": "33de8e5a-3639-427c-a2a2-ef4fd071fc29",
   "metadata": {
    "tags": []
   },
   "outputs": [
    {
     "data": {
      "text/plain": [
       "<module 'plotlib' from '/projects/code/icesat2_boreal/lib/plotlib.py'>"
      ]
     },
     "execution_count": 124,
     "metadata": {},
     "output_type": "execute_result"
    }
   ],
   "source": [
    "import importlib\n",
    "importlib.reload(plotlib)"
   ]
  },
  {
   "cell_type": "code",
   "execution_count": 125,
   "id": "19de9ad2-fb04-4c43-9aa7-94b268855553",
   "metadata": {
    "tags": []
   },
   "outputs": [],
   "source": [
    "#YEAR = 2014"
   ]
  },
  {
   "cell_type": "code",
   "execution_count": 126,
   "id": "5dd3e902-c5da-41dc-b168-3cfe0d995722",
   "metadata": {
    "tags": []
   },
   "outputs": [],
   "source": [
    "fn = f'/projects/my-private-bucket/tmp/HLS_{FOCAL_TILE}_{SEASON_START}_{SEASON_STOP}_{YEAR}_{YEAR}.tif'"
   ]
  },
  {
   "cell_type": "code",
   "execution_count": 127,
   "id": "be8e334d-101f-4be5-a5d7-f092400af0d5",
   "metadata": {
    "tags": []
   },
   "outputs": [
    {
     "name": "stdout",
     "output_type": "stream",
     "text": [
      "/projects/my-private-bucket/tmp/HLS_3823_07-01_08-31_2020_2020_rescaled_3band_temp.tif\n"
     ]
    },
    {
     "ename": "TypeError",
     "evalue": "/projects/my-private-bucket/tmp/HLS_3823_07-01_08-31_2020_2020.tif: Transport endpoint is not connected",
     "output_type": "error",
     "traceback": [
      "\u001b[0;31m---------------------------------------------------------------------------\u001b[0m",
      "\u001b[0;31mCPLE_OpenFailedError\u001b[0m                      Traceback (most recent call last)",
      "File \u001b[0;32mrasterio/_base.pyx:69\u001b[0m, in \u001b[0;36mrasterio._base.get_dataset_driver\u001b[0;34m()\u001b[0m\n",
      "File \u001b[0;32mrasterio/_err.pyx:221\u001b[0m, in \u001b[0;36mrasterio._err.exc_wrap_pointer\u001b[0;34m()\u001b[0m\n",
      "\u001b[0;31mCPLE_OpenFailedError\u001b[0m: /projects/my-private-bucket/tmp/HLS_3823_07-01_08-31_2020_2020.tif: Transport endpoint is not connected",
      "\nDuring handling of the above exception, another exception occurred:\n",
      "\u001b[0;31mTypeError\u001b[0m                                 Traceback (most recent call last)",
      "Cell \u001b[0;32mIn[127], line 4\u001b[0m\n\u001b[1;32m      2\u001b[0m rescaled_multiband_fn \u001b[38;5;241m=\u001b[39m os\u001b[38;5;241m.\u001b[39mpath\u001b[38;5;241m.\u001b[39mjoin(outdir, os\u001b[38;5;241m.\u001b[39mpath\u001b[38;5;241m.\u001b[39mbasename(fn)\u001b[38;5;241m.\u001b[39mreplace(\u001b[38;5;124m'\u001b[39m\u001b[38;5;124m.tif\u001b[39m\u001b[38;5;124m'\u001b[39m,\u001b[38;5;124m'\u001b[39m\u001b[38;5;124m_rescaled_3band_temp.tif\u001b[39m\u001b[38;5;124m'\u001b[39m))\n\u001b[1;32m      3\u001b[0m \u001b[38;5;28mprint\u001b[39m(rescaled_multiband_fn)\n\u001b[0;32m----> 4\u001b[0m \u001b[43mplotlib\u001b[49m\u001b[38;5;241;43m.\u001b[39;49m\u001b[43mrescale_multiband_for_plot\u001b[49m\u001b[43m(\u001b[49m\u001b[43mfn\u001b[49m\u001b[43m,\u001b[49m\u001b[43m \u001b[49m\u001b[43mrescaled_multiband_fn\u001b[49m\u001b[43m,\u001b[49m\u001b[43m \u001b[49m\u001b[43mbandlist\u001b[49m\u001b[43m \u001b[49m\u001b[38;5;241;43m=\u001b[39;49m\u001b[43m \u001b[49m\u001b[43m[\u001b[49m\u001b[38;5;241;43m6\u001b[39;49m\u001b[43m,\u001b[49m\u001b[38;5;241;43m4\u001b[39;49m\u001b[43m,\u001b[49m\u001b[38;5;241;43m3\u001b[39;49m\u001b[43m]\u001b[49m\u001b[43m,\u001b[49m\u001b[43m \u001b[49m\u001b[43mpct\u001b[49m\u001b[38;5;241;43m=\u001b[39;49m\u001b[43m[\u001b[49m\u001b[38;5;241;43m25\u001b[39;49m\u001b[43m,\u001b[49m\u001b[38;5;241;43m85\u001b[39;49m\u001b[43m]\u001b[49m\u001b[43m,\u001b[49m\u001b[43m \u001b[49m\u001b[43mnodata\u001b[49m\u001b[38;5;241;43m=\u001b[39;49m\u001b[38;5;241;43m-\u001b[39;49m\u001b[38;5;241;43m9999.0\u001b[39;49m\u001b[43m)\u001b[49m \n",
      "File \u001b[0;32m~/code/icesat2_boreal/lib/plotlib.py:31\u001b[0m, in \u001b[0;36mrescale_multiband_for_plot\u001b[0;34m(fn, rescaled_multiband_fn, bandlist, pct, nodata)\u001b[0m\n\u001b[1;32m     27\u001b[0m \u001b[38;5;28;01mdef\u001b[39;00m \u001b[38;5;21mrescale_multiband_for_plot\u001b[39m(fn, rescaled_multiband_fn, bandlist \u001b[38;5;241m=\u001b[39m [\u001b[38;5;241m4\u001b[39m,\u001b[38;5;241m3\u001b[39m,\u001b[38;5;241m2\u001b[39m], pct\u001b[38;5;241m=\u001b[39m[\u001b[38;5;241m5\u001b[39m,\u001b[38;5;241m95\u001b[39m], nodata\u001b[38;5;241m=\u001b[39m\u001b[38;5;241m-\u001b[39m\u001b[38;5;241m9999.0\u001b[39m):\n\u001b[1;32m     28\u001b[0m     \n\u001b[1;32m     29\u001b[0m     \u001b[38;5;66;03m# add a reduced res: https://gis.stackexchange.com/questions/434441/specifying-target-resolution-when-resampling-with-rasterio\u001b[39;00m\n\u001b[0;32m---> 31\u001b[0m     \u001b[38;5;28;01mwith\u001b[39;00m \u001b[43mrasterio\u001b[49m\u001b[38;5;241;43m.\u001b[39;49m\u001b[43mopen\u001b[49m\u001b[43m(\u001b[49m\u001b[43mfn\u001b[49m\u001b[43m,\u001b[49m\u001b[43m \u001b[49m\u001b[38;5;124;43m\"\u001b[39;49m\u001b[38;5;124;43mr+\u001b[39;49m\u001b[38;5;124;43m\"\u001b[39;49m\u001b[43m)\u001b[49m \u001b[38;5;28;01mas\u001b[39;00m src1:\n\u001b[1;32m     32\u001b[0m         \u001b[38;5;66;03m#print(src1.profile)\u001b[39;00m\n\u001b[1;32m     34\u001b[0m         src1\u001b[38;5;241m.\u001b[39mnodata \u001b[38;5;241m=\u001b[39m nodata\n\u001b[1;32m     35\u001b[0m         arr_list \u001b[38;5;241m=\u001b[39m []\n",
      "File \u001b[0;32m/opt/conda/envs/pangeo/lib/python3.10/site-packages/rasterio/env.py:451\u001b[0m, in \u001b[0;36mensure_env_with_credentials.<locals>.wrapper\u001b[0;34m(*args, **kwds)\u001b[0m\n\u001b[1;32m    448\u001b[0m     session \u001b[38;5;241m=\u001b[39m DummySession()\n\u001b[1;32m    450\u001b[0m \u001b[38;5;28;01mwith\u001b[39;00m env_ctor(session\u001b[38;5;241m=\u001b[39msession):\n\u001b[0;32m--> 451\u001b[0m     \u001b[38;5;28;01mreturn\u001b[39;00m \u001b[43mf\u001b[49m\u001b[43m(\u001b[49m\u001b[38;5;241;43m*\u001b[39;49m\u001b[43margs\u001b[49m\u001b[43m,\u001b[49m\u001b[43m \u001b[49m\u001b[38;5;241;43m*\u001b[39;49m\u001b[38;5;241;43m*\u001b[39;49m\u001b[43mkwds\u001b[49m\u001b[43m)\u001b[49m\n",
      "File \u001b[0;32m/opt/conda/envs/pangeo/lib/python3.10/site-packages/rasterio/__init__.py:306\u001b[0m, in \u001b[0;36mopen\u001b[0;34m(fp, mode, driver, width, height, count, crs, transform, dtype, nodata, sharing, **kwargs)\u001b[0m\n\u001b[1;32m    304\u001b[0m     dataset \u001b[38;5;241m=\u001b[39m DatasetReader(path, driver\u001b[38;5;241m=\u001b[39mdriver, sharing\u001b[38;5;241m=\u001b[39msharing, \u001b[38;5;241m*\u001b[39m\u001b[38;5;241m*\u001b[39mkwargs)\n\u001b[1;32m    305\u001b[0m \u001b[38;5;28;01melif\u001b[39;00m mode \u001b[38;5;241m==\u001b[39m \u001b[38;5;124m\"\u001b[39m\u001b[38;5;124mr+\u001b[39m\u001b[38;5;124m\"\u001b[39m:\n\u001b[0;32m--> 306\u001b[0m     dataset \u001b[38;5;241m=\u001b[39m \u001b[43mget_writer_for_path\u001b[49m\u001b[43m(\u001b[49m\u001b[43mpath\u001b[49m\u001b[43m,\u001b[49m\u001b[43m \u001b[49m\u001b[43mdriver\u001b[49m\u001b[38;5;241;43m=\u001b[39;49m\u001b[43mdriver\u001b[49m\u001b[43m)\u001b[49m(\n\u001b[1;32m    307\u001b[0m         path, mode, driver\u001b[38;5;241m=\u001b[39mdriver, sharing\u001b[38;5;241m=\u001b[39msharing, \u001b[38;5;241m*\u001b[39m\u001b[38;5;241m*\u001b[39mkwargs\n\u001b[1;32m    308\u001b[0m     )\n\u001b[1;32m    309\u001b[0m \u001b[38;5;28;01melif\u001b[39;00m mode\u001b[38;5;241m.\u001b[39mstartswith(\u001b[38;5;124m\"\u001b[39m\u001b[38;5;124mw\u001b[39m\u001b[38;5;124m\"\u001b[39m):\n\u001b[1;32m    310\u001b[0m     \u001b[38;5;28;01mif\u001b[39;00m \u001b[38;5;129;01mnot\u001b[39;00m driver:\n",
      "File \u001b[0;32m/opt/conda/envs/pangeo/lib/python3.10/site-packages/rasterio/io.py:299\u001b[0m, in \u001b[0;36mget_writer_for_path\u001b[0;34m(path, driver)\u001b[0m\n\u001b[1;32m    297\u001b[0m \u001b[38;5;250m\u001b[39m\u001b[38;5;124;03m\"\"\"Return the writer class appropriate for the existing dataset.\"\"\"\u001b[39;00m\n\u001b[1;32m    298\u001b[0m \u001b[38;5;28;01mif\u001b[39;00m \u001b[38;5;129;01mnot\u001b[39;00m driver:\n\u001b[0;32m--> 299\u001b[0m     driver \u001b[38;5;241m=\u001b[39m \u001b[43mget_dataset_driver\u001b[49m\u001b[43m(\u001b[49m\u001b[43mpath\u001b[49m\u001b[43m)\u001b[49m\n\u001b[1;32m    300\u001b[0m \u001b[38;5;28;01mreturn\u001b[39;00m get_writer_for_driver(driver)\n",
      "File \u001b[0;32mrasterio/_base.pyx:74\u001b[0m, in \u001b[0;36mrasterio._base.get_dataset_driver\u001b[0;34m()\u001b[0m\n",
      "\u001b[0;31mTypeError\u001b[0m: /projects/my-private-bucket/tmp/HLS_3823_07-01_08-31_2020_2020.tif: Transport endpoint is not connected"
     ]
    }
   ],
   "source": [
    "outdir = os.path.dirname(fn)\n",
    "rescaled_multiband_fn = os.path.join(outdir, os.path.basename(fn).replace('.tif','_rescaled_3band_temp.tif'))\n",
    "print(rescaled_multiband_fn)\n",
    "plotlib.rescale_multiband_for_plot(fn, rescaled_multiband_fn, bandlist = [6,4,3], pct=[25,85], nodata=-9999.0) "
   ]
  },
  {
   "cell_type": "code",
   "execution_count": null,
   "id": "71bbfbdc-eefc-4f98-9fc0-e05196c7d312",
   "metadata": {
    "tags": []
   },
   "outputs": [],
   "source": [
    "fig,ax=plt.subplots(figsize=(15,15))\n",
    "with rasterio.open(rescaled_multiband_fn) as src:\n",
    "    show(src.read(),transform=src.transform, ax=ax, title=os.path.basename(fn))"
   ]
  },
  {
   "cell_type": "code",
   "execution_count": null,
   "id": "10824d12-937b-4293-99fb-825f27cbc7b6",
   "metadata": {},
   "outputs": [],
   "source": []
  }
 ],
 "metadata": {
  "kernelspec": {
   "display_name": "Python 3 (ipykernel)",
   "language": "python",
   "name": "python3"
  },
  "language_info": {
   "codemirror_mode": {
    "name": "ipython",
    "version": 3
   },
   "file_extension": ".py",
   "mimetype": "text/x-python",
   "name": "python",
   "nbconvert_exporter": "python",
   "pygments_lexer": "ipython3",
   "version": "3.10.13"
  }
 },
 "nbformat": 4,
 "nbformat_minor": 5
}
