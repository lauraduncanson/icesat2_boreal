{
 "cells": [
  {
   "cell_type": "code",
   "execution_count": 144,
   "id": "02485bad",
   "metadata": {},
   "outputs": [],
   "source": [
    "import ee\n",
    "import numpy as np\n",
    "import geopandas as gpd\n",
    "import pandas as pd\n",
    "import shapely\n",
    "import glob\n",
    "import os\n",
    "from shapely.geometry import Polygon\n",
    "from shapely.geometry import box\n",
    "import matplotlib\n",
    "import matplotlib.pyplot as plt"
   ]
  },
  {
   "cell_type": "code",
   "execution_count": 3,
   "id": "9dc551e6",
   "metadata": {},
   "outputs": [
    {
     "data": {
      "text/html": [
       "<p>To authorize access needed by Earth Engine, open the following\n",
       "        URL in a web browser and follow the instructions:</p>\n",
       "        <p><a href=https://code.earthengine.google.com/client-auth?scopes=https%3A//www.googleapis.com/auth/earthengine%20https%3A//www.googleapis.com/auth/devstorage.full_control&request_id=7mRyblvw69PqK90fos-MTt-mbfQqtlW31IiDSA4UT_s&tc=DJwkUAUzhc1zCDs6f0piJGXhny7W-jN701AfgnkmdKs&cc=xCR7PXV5lVQx0AW0IXIZ556IETcwFHeDdT4k-A6BftQ>https://code.earthengine.google.com/client-auth?scopes=https%3A//www.googleapis.com/auth/earthengine%20https%3A//www.googleapis.com/auth/devstorage.full_control&request_id=7mRyblvw69PqK90fos-MTt-mbfQqtlW31IiDSA4UT_s&tc=DJwkUAUzhc1zCDs6f0piJGXhny7W-jN701AfgnkmdKs&cc=xCR7PXV5lVQx0AW0IXIZ556IETcwFHeDdT4k-A6BftQ</a></p>\n",
       "        <p>The authorization workflow will generate a code, which you should paste in the box below.</p>\n",
       "        "
      ],
      "text/plain": [
       "<IPython.core.display.HTML object>"
      ]
     },
     "metadata": {},
     "output_type": "display_data"
    },
    {
     "name": "stdin",
     "output_type": "stream",
     "text": [
      "Enter verification code:  4/1AbUR2VP6rgBkmmibWixM5qKExfShvMCIVd93TmPlLbgunIgHpBZX8fpz9ho\n"
     ]
    },
    {
     "name": "stdout",
     "output_type": "stream",
     "text": [
      "\n",
      "Successfully saved authorization token.\n"
     ]
    }
   ],
   "source": [
    "ee.Authenticate()"
   ]
  },
  {
   "cell_type": "code",
   "execution_count": 5,
   "id": "31093ee1",
   "metadata": {},
   "outputs": [],
   "source": [
    "from ee_download import download_image_by_asset_path, Curler"
   ]
  },
  {
   "cell_type": "code",
   "execution_count": 78,
   "id": "1cda7725",
   "metadata": {},
   "outputs": [
    {
     "data": {
      "image/png": "[encoded data removed]",
      "text/plain": [
       "<Figure size 432x288 with 1 Axes>"
      ]
     },
     "metadata": {
      "needs_background": "light"
     },
     "output_type": "display_data"
    }
   ],
   "source": [
    "# create bbox\n",
    "\n",
    "xmin = -139.3936913514372\n",
    "ymin = 56.57864833838931\n",
    "xmax = -114.82728842468266\n",
    "ymax = 67.87397926052299\n",
    "\n",
    "\n",
    "footprint = box(xmin, ymin, xmax, ymax)\n",
    "\n",
    "poly = gpd.GeoDataFrame(pd.DataFrame(['box'], columns = ['geometry']),crs ='epsg:4326',geometry = [footprint])\n",
    "poly.plot()\n",
    "poly.to_file('/projects/Developer/icesat2_boreal/notebooks/radar_integration/Data/test_footprint.gpkg', driver='GPKG')\n"
   ]
  },
  {
   "cell_type": "code",
   "execution_count": 79,
   "id": "822d0849",
   "metadata": {},
   "outputs": [],
   "source": [
    "# import poly as if you have the data\n",
    "\n",
    "gdf = gpd.read_file('/projects/Developer/icesat2_boreal/notebooks/radar_integration/Data/test_footprint.gpkg', crs='EPSG:4326')"
   ]
  },
  {
   "cell_type": "code",
   "execution_count": 80,
   "id": "0e33328a",
   "metadata": {},
   "outputs": [
    {
     "data": {
      "text/html": [
       "<div>\n",
       "<style scoped>\n",
       "    .dataframe tbody tr th:only-of-type {\n",
       "        vertical-align: middle;\n",
       "    }\n",
       "\n",
       "    .dataframe tbody tr th {\n",
       "        vertical-align: top;\n",
       "    }\n",
       "\n",
       "    .dataframe thead th {\n",
       "        text-align: right;\n",
       "    }\n",
       "</style>\n",
       "<table border=\"1\" class=\"dataframe\">\n",
       "  <thead>\n",
       "    <tr style=\"text-align: right;\">\n",
       "      <th></th>\n",
       "      <th>minx</th>\n",
       "      <th>miny</th>\n",
       "      <th>maxx</th>\n",
       "      <th>maxy</th>\n",
       "    </tr>\n",
       "  </thead>\n",
       "  <tbody>\n",
       "    <tr>\n",
       "      <th>0</th>\n",
       "      <td>-139.393691</td>\n",
       "      <td>56.578648</td>\n",
       "      <td>-114.827288</td>\n",
       "      <td>67.873979</td>\n",
       "    </tr>\n",
       "  </tbody>\n",
       "</table>\n",
       "</div>"
      ],
      "text/plain": [
       "         minx       miny        maxx       maxy\n",
       "0 -139.393691  56.578648 -114.827288  67.873979"
      ]
     },
     "execution_count": 80,
     "metadata": {},
     "output_type": "execute_result"
    }
   ],
   "source": [
    "gdf.bounds"
   ]
  },
  {
   "cell_type": "code",
   "execution_count": 81,
   "id": "20ac0e48",
   "metadata": {},
   "outputs": [],
   "source": [
    "# make sub-footprint\n",
    "cols = 91153\n",
    "rows = 41812\n",
    "\n",
    "minx = gdf.bounds.iloc[:,0][0]\n",
    "miny = gdf.bounds.iloc[:,1][0]\n",
    "maxx = gdf.bounds.iloc[:,2][0]\n",
    "maxy = gdf.bounds.iloc[:,3][0]"
   ]
  },
  {
   "cell_type": "code",
   "execution_count": 82,
   "id": "3f5daffa",
   "metadata": {},
   "outputs": [
    {
     "data": {
      "text/plain": [
       "(-139.3936913514372, 56.57864833838931, -114.82728842468266, 67.87397926052299)"
      ]
     },
     "execution_count": 82,
     "metadata": {},
     "output_type": "execute_result"
    }
   ],
   "source": [
    "minx, miny, maxx, maxy"
   ]
  },
  {
   "cell_type": "code",
   "execution_count": 104,
   "id": "7552b0a0",
   "metadata": {},
   "outputs": [
    {
     "data": {
      "text/plain": [
       "-136.69861791153346"
      ]
     },
     "execution_count": 104,
     "metadata": {},
     "output_type": "execute_result"
    }
   ],
   "source": [
    "sub_ftprint_nCols= (abs(minx - maxx)/91153)*10000\n",
    "sub_ftprint_maxx = minx + sub_ftprint_nCols\n",
    "sub_ftprint_maxx"
   ]
  },
  {
   "cell_type": "code",
   "execution_count": 105,
   "id": "0aab03e2",
   "metadata": {},
   "outputs": [
    {
     "data": {
      "text/plain": [
       "59.28010507859157"
      ]
     },
     "execution_count": 105,
     "metadata": {},
     "output_type": "execute_result"
    }
   ],
   "source": [
    "sub_ftprint_nRows = (abs(miny - maxy)/41812)*10000\n",
    "sub_ftprint_maxy = miny + sub_ftprint_nRows\n",
    "sub_ftprint_maxy"
   ]
  },
  {
   "cell_type": "code",
   "execution_count": 106,
   "id": "b5ecef29",
   "metadata": {},
   "outputs": [],
   "source": [
    "sub_ftprint_bbox = box(minx, miny, sub_ftprint_maxx, sub_ftprint_maxy)"
   ]
  },
  {
   "cell_type": "code",
   "execution_count": 107,
   "id": "8c141293",
   "metadata": {},
   "outputs": [],
   "source": [
    "sub_ftprint_bbox = gpd.GeoDataFrame(pd.DataFrame(['box'], columns = ['geometry']),crs ='epsg:4326',geometry = [sub_ftprint_bbox])\n",
    "\n"
   ]
  },
  {
   "cell_type": "code",
   "execution_count": 108,
   "id": "c0798502",
   "metadata": {},
   "outputs": [
    {
     "data": {
      "text/plain": [
       "<matplotlib.axes._subplots.AxesSubplot at 0x7f01d3ef0e10>"
      ]
     },
     "execution_count": 108,
     "metadata": {},
     "output_type": "execute_result"
    },
    {
     "data": {
      "image/png": "[encoded data removed]",
      "text/plain": [
       "<Figure size 432x288 with 1 Axes>"
      ]
     },
     "metadata": {
      "needs_background": "light"
     },
     "output_type": "display_data"
    }
   ],
   "source": [
    "fig, ax = plt.subplots(1, 1)\n",
    "gdf.plot(ax=ax)\n",
    "sub_ftprint_bbox.plot(ax=ax, facecolor='y')"
   ]
  },
  {
   "cell_type": "code",
   "execution_count": null,
   "id": "0c82cdc2",
   "metadata": {},
   "outputs": [],
   "source": [
    "# This will download all the tiles we need each to a zip, \n",
    "# the files inside are all named the same so next step is to overwrite that with the zip name\n",
    "\n",
    "bbox_list = [sub_ftprint_bbox.bounds.iloc[:,0][0],sub_ftprint_bbox.bounds.iloc[:,1][0],sub_ftprint_bbox.bounds.iloc[:,2][0],sub_ftprint_bbox.bounds.iloc[:,3][0]]\n",
    "bbox_list\n",
    "gee_geom = ee.Geometry.Rectangle(bbox_list)\n",
    "print(gee_geom)\n",
    "    \n",
    "downloaded_images = download_image_by_asset_path(\n",
    "    asset_path = \"projects/ee-foreststructure-above/assets/s1_vh_asc_pwr_frzn\",\n",
    "    output_folder = \"/projects/Developer/icesat2_boreal/notebooks/radar_integration/\",\n",
    "    #region = gee_geom,\n",
    "    #idx = str('test_file')\n",
    "    )"
   ]
  },
  {
   "cell_type": "code",
   "execution_count": 111,
   "id": "a58a1a3d",
   "metadata": {},
   "outputs": [],
   "source": []
  },
  {
   "cell_type": "markdown",
   "id": "6ac23999-b02b-47eb-a859-72e9f4e606cd",
   "metadata": {},
   "source": [
    "# Test download of GEE asset in custom Albers projection\n",
    "Paul Montesano  \n",
    "June 22 2023"
   ]
  },
  {
   "cell_type": "markdown",
   "id": "518f3eaf-4df6-41c6-8ea7-56c8e3169129",
   "metadata": {},
   "source": [
    "#### GEE asset vector tiles"
   ]
  },
  {
   "cell_type": "code",
   "execution_count": 127,
   "id": "9aef5633",
   "metadata": {},
   "outputs": [
    {
     "data": {
      "image/png": "[encoded data removed]",
      "text/plain": [
       "<Figure size 640x480 with 1 Axes>"
      ]
     },
     "metadata": {},
     "output_type": "display_data"
    }
   ],
   "source": [
    "agg_tiles_gdf = gpd.read_file('/projects/shared-buckets/montesano/databank/boreal_tiles_v003_agg18.gpkg')\n",
    "agg_tiles_gdf.plot(ec='black', column='agg_tile_num')\n",
    "agg_tiles_gdf.boundary.plot(ax=ax, ec='black', alpha = 0.25)\n",
    "\n",
    "agg_tiles_gdf['coords'] = agg_tiles_gdf['geometry'].apply(lambda x: x.representative_point().coords[:])\n",
    "agg_tiles_gdf['coords'] = [coords[0] for coords in agg_tiles_gdf['coords']]\n",
    "\n",
    "text = [ plt.annotate(text=row['agg_tile_num'], xy=row['coords'],horizontalalignment='center') for idx, row in agg_tiles_gdf.iterrows() ]"
   ]
  },
  {
   "cell_type": "markdown",
   "id": "741ff2ae-36e0-4597-a0d4-ff1f1b0c1f6f",
   "metadata": {},
   "source": [
    "#### Get bounds of first tile in gdf"
   ]
  },
  {
   "cell_type": "code",
   "execution_count": 128,
   "id": "4afad27c-2de1-498f-8a58-465c5fb0c8e4",
   "metadata": {},
   "outputs": [],
   "source": [
    "TILE_ID = 19"
   ]
  },
  {
   "cell_type": "code",
   "execution_count": 129,
   "id": "ca2d3779-5825-4c11-ba56-ef6962b9e26e",
   "metadata": {},
   "outputs": [],
   "source": [
    "minx, miny, maxx, maxy = agg_tiles_gdf.bounds.iloc[TILE_ID - 1].to_list()"
   ]
  },
  {
   "cell_type": "markdown",
   "id": "44f1f247-e9db-4bf2-9b2d-011cd76359a1",
   "metadata": {},
   "source": [
    "To downoad images in a collection, the pixel dims need be 32768 or less"
   ]
  },
  {
   "cell_type": "code",
   "execution_count": 130,
   "id": "a0442e52-e9ca-4f27-91bd-b28c8f6ae424",
   "metadata": {},
   "outputs": [],
   "source": [
    "# make subtile geom\n",
    "npix = 32768"
   ]
  },
  {
   "cell_type": "code",
   "execution_count": 131,
   "id": "8099ab9d-f6fe-48f5-a74a-74d29d64d258",
   "metadata": {},
   "outputs": [
    {
     "data": {
      "text/plain": [
       "-2377093.2343750056"
      ]
     },
     "execution_count": 131,
     "metadata": {},
     "output_type": "execute_result"
    }
   ],
   "source": [
    "ncols= (abs(minx - maxx)/npix)*1e4\n",
    "sub_bbox_maxx = minx + ncols\n",
    "sub_bbox_maxx"
   ]
  },
  {
   "cell_type": "code",
   "execution_count": 132,
   "id": "249b5d9b-01aa-48eb-a77d-479a0c09036c",
   "metadata": {},
   "outputs": [
    {
     "data": {
      "text/plain": [
       "4967688.765625009"
      ]
     },
     "execution_count": 132,
     "metadata": {},
     "output_type": "execute_result"
    }
   ],
   "source": [
    "nrows = (abs(miny - maxy)/npix)*1e4\n",
    "sub_bbox_maxy = miny + nrows\n",
    "sub_bbox_maxy"
   ]
  },
  {
   "cell_type": "code",
   "execution_count": 149,
   "id": "16147a05-da22-411a-9c00-4201afc9864c",
   "metadata": {},
   "outputs": [
    {
     "data": {
      "text/plain": [
       "<AxesSubplot:>"
      ]
     },
     "execution_count": 149,
     "metadata": {},
     "output_type": "execute_result"
    },
    {
     "data": {
      "image/png": "[encoded data removed]",
      "text/plain": [
       "<Figure size 640x480 with 1 Axes>"
      ]
     },
     "metadata": {},
     "output_type": "display_data"
    }
   ],
   "source": [
    "ax = agg_tiles_gdf.plot(ec='black', column='agg_tile_num')\n",
    "\n",
    "bbox_geom = box(minx, miny, sub_bbox_maxx, sub_bbox_maxy)\n",
    "bbox_gdf = gpd.GeoDataFrame(geometry = [bbox_geom], crs = agg_tiles_gdf.crs)\n",
    "\n",
    "bbox_gdf.plot(ax = ax, facecolor='red', ec='white', figsize=(2,2))"
   ]
  },
  {
   "cell_type": "markdown",
   "id": "953ee9c6-1b67-4227-a8c1-09440b5f4b34",
   "metadata": {},
   "source": [
    "## Get paths of the images in the image collection of our SAR stacks in GEE"
   ]
  },
  {
   "cell_type": "code",
   "execution_count": 118,
   "id": "fee30e3e-9906-4339-88a2-2ff5ae1b99a8",
   "metadata": {},
   "outputs": [],
   "source": [
    "import sys\n",
    "sys.path.append('/projects/code/icesat2_boreal/notebooks/radar_integration')\n",
    "import ee_download"
   ]
  },
  {
   "cell_type": "code",
   "execution_count": 137,
   "id": "f9a4242f-10a8-4a74-a87b-33a02e6a2055",
   "metadata": {},
   "outputs": [
    {
     "data": {
      "text/plain": [
       "['projects/foreststructure/Circumboreal/S1_Composites_albers/s1_vv_vh_gamma_2018_pwr_tile19',\n",
       " 'projects/foreststructure/Circumboreal/S1_Composites_albers/s1_vv_vh_gamma_2018_pwr_tile20',\n",
       " 'projects/foreststructure/Circumboreal/S1_Composites_albers/s1_vv_vh_gamma_2018_pwr_tile26']"
      ]
     },
     "execution_count": 137,
     "metadata": {},
     "output_type": "execute_result"
    }
   ],
   "source": [
    "COLL_ID = \"projects/foreststructure/Circumboreal/S1_Composites_albers\"\n",
    "OUTDIR = \"/projects/my-public-bucket/databank/s1_composites\"\n",
    "\n",
    "collection = ee.ImageCollection( COLL_ID)\n",
    "collection_items = collection.toList(1000).getInfo()\n",
    "collection_items_df = pd.DataFrame.from_dict(collection_items)\n",
    "image_asset_path_list = collection_items_df.id.to_list()\n",
    "image_asset_path_list"
   ]
  },
  {
   "cell_type": "code",
   "execution_count": 95,
   "id": "dd59dc67-3fdd-4c0d-a13f-f13cdfdceddb",
   "metadata": {},
   "outputs": [],
   "source": [
    "#downloaded_images = ee_download.download_images_in_collection(COLL_ID, OUTDIR, max_items=100)"
   ]
  },
  {
   "cell_type": "code",
   "execution_count": 119,
   "id": "309b7f88-d625-412a-b407-8a1d0d467bc6",
   "metadata": {},
   "outputs": [
    {
     "name": "stdout",
     "output_type": "stream",
     "text": [
      "ee.Geometry({\n",
      "  \"functionInvocationValue\": {\n",
      "    \"functionName\": \"GeometryConstructors.Polygon\",\n",
      "    \"arguments\": {\n",
      "      \"coordinates\": {\n",
      "        \"constantValue\": [\n",
      "          [\n",
      "            [\n",
      "              -2871478.0000000056,\n",
      "              4967688.765625009\n",
      "            ],\n",
      "            [\n",
      "              -2871478.0000000056,\n",
      "              4473304.000000009\n",
      "            ],\n",
      "            [\n",
      "              -2377093.2343750056,\n",
      "              4473304.000000009\n",
      "            ],\n",
      "            [\n",
      "              -2377093.2343750056,\n",
      "              4967688.765625009\n",
      "            ]\n",
      "          ]\n",
      "        ]\n",
      "      },\n",
      "      \"evenOdd\": {\n",
      "        \"constantValue\": true\n",
      "      }\n",
      "    }\n",
      "  }\n",
      "})\n"
     ]
    },
    {
     "ename": "EEException",
     "evalue": "Unable to export unbounded image.",
     "output_type": "error",
     "traceback": [
      "\u001b[0;31m---------------------------------------------------------------------------\u001b[0m",
      "\u001b[0;31mHttpError\u001b[0m                                 Traceback (most recent call last)",
      "File \u001b[0;32m/opt/conda/lib/python3.10/site-packages/ee/data.py:345\u001b[0m, in \u001b[0;36m_execute_cloud_call\u001b[0;34m(call, num_retries)\u001b[0m\n\u001b[1;32m    344\u001b[0m \u001b[38;5;28;01mtry\u001b[39;00m:\n\u001b[0;32m--> 345\u001b[0m   \u001b[38;5;28;01mreturn\u001b[39;00m \u001b[43mcall\u001b[49m\u001b[38;5;241;43m.\u001b[39;49m\u001b[43mexecute\u001b[49m\u001b[43m(\u001b[49m\u001b[43mnum_retries\u001b[49m\u001b[38;5;241;43m=\u001b[39;49m\u001b[43mnum_retries\u001b[49m\u001b[43m)\u001b[49m\n\u001b[1;32m    346\u001b[0m \u001b[38;5;28;01mexcept\u001b[39;00m googleapiclient\u001b[38;5;241m.\u001b[39merrors\u001b[38;5;241m.\u001b[39mHttpError \u001b[38;5;28;01mas\u001b[39;00m e:\n",
      "File \u001b[0;32m/opt/conda/lib/python3.10/site-packages/googleapiclient/_helpers.py:130\u001b[0m, in \u001b[0;36mpositional.<locals>.positional_decorator.<locals>.positional_wrapper\u001b[0;34m(*args, **kwargs)\u001b[0m\n\u001b[1;32m    129\u001b[0m         logger\u001b[38;5;241m.\u001b[39mwarning(message)\n\u001b[0;32m--> 130\u001b[0m \u001b[38;5;28;01mreturn\u001b[39;00m \u001b[43mwrapped\u001b[49m\u001b[43m(\u001b[49m\u001b[38;5;241;43m*\u001b[39;49m\u001b[43margs\u001b[49m\u001b[43m,\u001b[49m\u001b[43m \u001b[49m\u001b[38;5;241;43m*\u001b[39;49m\u001b[38;5;241;43m*\u001b[39;49m\u001b[43mkwargs\u001b[49m\u001b[43m)\u001b[49m\n",
      "File \u001b[0;32m/opt/conda/lib/python3.10/site-packages/googleapiclient/http.py:938\u001b[0m, in \u001b[0;36mHttpRequest.execute\u001b[0;34m(self, http, num_retries)\u001b[0m\n\u001b[1;32m    937\u001b[0m \u001b[38;5;28;01mif\u001b[39;00m resp\u001b[38;5;241m.\u001b[39mstatus \u001b[38;5;241m>\u001b[39m\u001b[38;5;241m=\u001b[39m \u001b[38;5;241m300\u001b[39m:\n\u001b[0;32m--> 938\u001b[0m     \u001b[38;5;28;01mraise\u001b[39;00m HttpError(resp, content, uri\u001b[38;5;241m=\u001b[39m\u001b[38;5;28mself\u001b[39m\u001b[38;5;241m.\u001b[39muri)\n\u001b[1;32m    939\u001b[0m \u001b[38;5;28;01mreturn\u001b[39;00m \u001b[38;5;28mself\u001b[39m\u001b[38;5;241m.\u001b[39mpostproc(resp, content)\n",
      "\u001b[0;31mHttpError\u001b[0m: <HttpError 400 when requesting https://earthengine.googleapis.com/v1alpha/projects/earthengine-legacy/thumbnails?fields=name&alt=json returned \"Unable to export unbounded image.\". Details: \"Unable to export unbounded image.\">",
      "\nDuring handling of the above exception, another exception occurred:\n",
      "\u001b[0;31mEEException\u001b[0m                               Traceback (most recent call last)",
      "Cell \u001b[0;32mIn[119], line 11\u001b[0m\n\u001b[1;32m      7\u001b[0m \u001b[38;5;28mprint\u001b[39m(gee_geom)\n\u001b[1;32m      9\u001b[0m \u001b[38;5;28;01mfor\u001b[39;00m image_asset_path \u001b[38;5;129;01min\u001b[39;00m collection_items_df\u001b[38;5;241m.\u001b[39mid\u001b[38;5;241m.\u001b[39mto_list():\n\u001b[0;32m---> 11\u001b[0m     downloaded_image \u001b[38;5;241m=\u001b[39m \u001b[43mee_download\u001b[49m\u001b[38;5;241;43m.\u001b[39;49m\u001b[43mdownload_image_by_asset_path\u001b[49m\u001b[43m(\u001b[49m\n\u001b[1;32m     12\u001b[0m \u001b[43m        \u001b[49m\u001b[43masset_path\u001b[49m\u001b[43m \u001b[49m\u001b[38;5;241;43m=\u001b[39;49m\u001b[43m \u001b[49m\u001b[43mimage_asset_path\u001b[49m\u001b[43m,\u001b[49m\n\u001b[1;32m     13\u001b[0m \u001b[43m        \u001b[49m\u001b[43moutput_folder\u001b[49m\u001b[43m \u001b[49m\u001b[38;5;241;43m=\u001b[39;49m\u001b[43m \u001b[49m\u001b[43mOUTDIR\u001b[49m\u001b[43m,\u001b[49m\n\u001b[1;32m     14\u001b[0m \u001b[43m        \u001b[49m\u001b[43mregion\u001b[49m\u001b[43m \u001b[49m\u001b[38;5;241;43m=\u001b[39;49m\u001b[43m \u001b[49m\u001b[43mgee_geom\u001b[49m\n\u001b[1;32m     15\u001b[0m \u001b[43m        \u001b[49m\u001b[43m)\u001b[49m\n",
      "File \u001b[0;32m~/code/icesat2_boreal/notebooks/radar_integration/ee_download.py:46\u001b[0m, in \u001b[0;36mdownload_image_by_asset_path\u001b[0;34m(asset_path, output_folder, region, idx)\u001b[0m\n\u001b[1;32m     44\u001b[0m image \u001b[38;5;241m=\u001b[39m ee\u001b[38;5;241m.\u001b[39mImage(asset_path)  \u001b[38;5;66;03m# this approach comes from https://github.com/google/earthengine-api/blob/master/python/examples/py/Image/download.py\u001b[39;00m\n\u001b[1;32m     45\u001b[0m \u001b[38;5;28;01mif\u001b[39;00m region \u001b[38;5;129;01mis\u001b[39;00m \u001b[38;5;129;01mnot\u001b[39;00m \u001b[38;5;28;01mNone\u001b[39;00m:\n\u001b[0;32m---> 46\u001b[0m     path \u001b[38;5;241m=\u001b[39m \u001b[43mimage\u001b[49m\u001b[38;5;241;43m.\u001b[39;49m\u001b[43mgetDownloadUrl\u001b[49m\u001b[43m(\u001b[49m\u001b[43m{\u001b[49m\n\u001b[1;32m     47\u001b[0m \u001b[43m        \u001b[49m\u001b[38;5;66;43;03m#'scale': 30,\u001b[39;49;00m\n\u001b[1;32m     48\u001b[0m \u001b[43m        \u001b[49m\u001b[38;5;66;43;03m#'crs': 'EPSG:3310',\u001b[39;49;00m\n\u001b[1;32m     49\u001b[0m \u001b[43m        \u001b[49m\u001b[38;5;124;43m'\u001b[39;49m\u001b[38;5;124;43mregion\u001b[39;49m\u001b[38;5;124;43m'\u001b[39;49m\u001b[43m:\u001b[49m\u001b[43m \u001b[49m\u001b[43mregion\u001b[49m\n\u001b[1;32m     50\u001b[0m \u001b[43m    \u001b[49m\u001b[43m}\u001b[49m\u001b[43m)\u001b[49m\n\u001b[1;32m     51\u001b[0m \u001b[38;5;28;01melse\u001b[39;00m:\n\u001b[1;32m     52\u001b[0m     path \u001b[38;5;241m=\u001b[39m image\u001b[38;5;241m.\u001b[39mgetDownloadUrl({\n\u001b[1;32m     53\u001b[0m         \u001b[38;5;66;03m#'scale': 30,\u001b[39;00m\n\u001b[1;32m     54\u001b[0m         \u001b[38;5;66;03m#'crs': 'EPSG:3310',\u001b[39;00m\n\u001b[1;32m     55\u001b[0m         \u001b[38;5;66;03m#'region': '[[-120, 35], [-119, 35], [-119, 34], [-120, 34]]'\u001b[39;00m\n\u001b[1;32m     56\u001b[0m     })\n",
      "File \u001b[0;32m/opt/conda/lib/python3.10/site-packages/ee/deprecation.py:32\u001b[0m, in \u001b[0;36mDeprecated.<locals>.Decorator.<locals>.Wrapper\u001b[0;34m(*args, **kwargs)\u001b[0m\n\u001b[1;32m     25\u001b[0m \u001b[38;5;129m@functools\u001b[39m\u001b[38;5;241m.\u001b[39mwraps(func)\n\u001b[1;32m     26\u001b[0m \u001b[38;5;28;01mdef\u001b[39;00m \u001b[38;5;21mWrapper\u001b[39m(\u001b[38;5;241m*\u001b[39margs, \u001b[38;5;241m*\u001b[39m\u001b[38;5;241m*\u001b[39mkwargs):\n\u001b[1;32m     27\u001b[0m   warnings\u001b[38;5;241m.\u001b[39mwarn_explicit(\n\u001b[1;32m     28\u001b[0m       \u001b[38;5;124m'\u001b[39m\u001b[38;5;132;01m%s\u001b[39;00m\u001b[38;5;124m() is deprecated: \u001b[39m\u001b[38;5;132;01m%s\u001b[39;00m\u001b[38;5;124m'\u001b[39m \u001b[38;5;241m%\u001b[39m (func\u001b[38;5;241m.\u001b[39m\u001b[38;5;18m__name__\u001b[39m, message),\n\u001b[1;32m     29\u001b[0m       category\u001b[38;5;241m=\u001b[39m\u001b[38;5;167;01mDeprecationWarning\u001b[39;00m,\n\u001b[1;32m     30\u001b[0m       filename\u001b[38;5;241m=\u001b[39mfunc\u001b[38;5;241m.\u001b[39m\u001b[38;5;18m__code__\u001b[39m\u001b[38;5;241m.\u001b[39mco_filename,\n\u001b[1;32m     31\u001b[0m       lineno\u001b[38;5;241m=\u001b[39mfunc\u001b[38;5;241m.\u001b[39m\u001b[38;5;18m__code__\u001b[39m\u001b[38;5;241m.\u001b[39mco_firstlineno \u001b[38;5;241m+\u001b[39m \u001b[38;5;241m1\u001b[39m)\n\u001b[0;32m---> 32\u001b[0m   \u001b[38;5;28;01mreturn\u001b[39;00m \u001b[43mfunc\u001b[49m\u001b[43m(\u001b[49m\u001b[38;5;241;43m*\u001b[39;49m\u001b[43margs\u001b[49m\u001b[43m,\u001b[49m\u001b[43m \u001b[49m\u001b[38;5;241;43m*\u001b[39;49m\u001b[38;5;241;43m*\u001b[39;49m\u001b[43mkwargs\u001b[49m\u001b[43m)\u001b[49m\n",
      "File \u001b[0;32m/opt/conda/lib/python3.10/site-packages/ee/image.py:469\u001b[0m, in \u001b[0;36mImage.getDownloadURL\u001b[0;34m(self, params)\u001b[0m\n\u001b[1;32m    467\u001b[0m request \u001b[38;5;241m=\u001b[39m params \u001b[38;5;129;01mor\u001b[39;00m {}\n\u001b[1;32m    468\u001b[0m request[\u001b[38;5;124m'\u001b[39m\u001b[38;5;124mimage\u001b[39m\u001b[38;5;124m'\u001b[39m] \u001b[38;5;241m=\u001b[39m \u001b[38;5;28mself\u001b[39m\n\u001b[0;32m--> 469\u001b[0m \u001b[38;5;28;01mreturn\u001b[39;00m data\u001b[38;5;241m.\u001b[39mmakeDownloadUrl(\u001b[43mdata\u001b[49m\u001b[38;5;241;43m.\u001b[39;49m\u001b[43mgetDownloadId\u001b[49m\u001b[43m(\u001b[49m\u001b[43mrequest\u001b[49m\u001b[43m)\u001b[49m)\n",
      "File \u001b[0;32m/opt/conda/lib/python3.10/site-packages/ee/data.py:1198\u001b[0m, in \u001b[0;36mgetDownloadId\u001b[0;34m(params)\u001b[0m\n\u001b[1;32m   1193\u001b[0m queryParams \u001b[38;5;241m=\u001b[39m {\n\u001b[1;32m   1194\u001b[0m     \u001b[38;5;124m'\u001b[39m\u001b[38;5;124mfields\u001b[39m\u001b[38;5;124m'\u001b[39m: \u001b[38;5;124m'\u001b[39m\u001b[38;5;124mname\u001b[39m\u001b[38;5;124m'\u001b[39m,\n\u001b[1;32m   1195\u001b[0m     \u001b[38;5;124m'\u001b[39m\u001b[38;5;124mbody\u001b[39m\u001b[38;5;124m'\u001b[39m: request,\n\u001b[1;32m   1196\u001b[0m }\n\u001b[1;32m   1197\u001b[0m _maybe_populate_workload_tag(queryParams)\n\u001b[0;32m-> 1198\u001b[0m result \u001b[38;5;241m=\u001b[39m \u001b[43m_execute_cloud_call\u001b[49m\u001b[43m(\u001b[49m\n\u001b[1;32m   1199\u001b[0m \u001b[43m    \u001b[49m\u001b[43m_get_cloud_projects\u001b[49m\u001b[43m(\u001b[49m\u001b[43m)\u001b[49m\n\u001b[1;32m   1200\u001b[0m \u001b[43m    \u001b[49m\u001b[38;5;241;43m.\u001b[39;49m\u001b[43mthumbnails\u001b[49m\u001b[43m(\u001b[49m\u001b[43m)\u001b[49m\n\u001b[1;32m   1201\u001b[0m \u001b[43m    \u001b[49m\u001b[38;5;241;43m.\u001b[39;49m\u001b[43mcreate\u001b[49m\u001b[43m(\u001b[49m\u001b[43mparent\u001b[49m\u001b[38;5;241;43m=\u001b[39;49m\u001b[43m_get_projects_path\u001b[49m\u001b[43m(\u001b[49m\u001b[43m)\u001b[49m\u001b[43m,\u001b[49m\u001b[43m \u001b[49m\u001b[38;5;241;43m*\u001b[39;49m\u001b[38;5;241;43m*\u001b[39;49m\u001b[43mqueryParams\u001b[49m\u001b[43m)\u001b[49m\n\u001b[1;32m   1202\u001b[0m \u001b[43m\u001b[49m\u001b[43m)\u001b[49m\n\u001b[1;32m   1203\u001b[0m \u001b[38;5;28;01mreturn\u001b[39;00m {\u001b[38;5;124m'\u001b[39m\u001b[38;5;124mdocid\u001b[39m\u001b[38;5;124m'\u001b[39m: result[\u001b[38;5;124m'\u001b[39m\u001b[38;5;124mname\u001b[39m\u001b[38;5;124m'\u001b[39m], \u001b[38;5;124m'\u001b[39m\u001b[38;5;124mtoken\u001b[39m\u001b[38;5;124m'\u001b[39m: \u001b[38;5;124m'\u001b[39m\u001b[38;5;124m'\u001b[39m}\n",
      "File \u001b[0;32m/opt/conda/lib/python3.10/site-packages/ee/data.py:347\u001b[0m, in \u001b[0;36m_execute_cloud_call\u001b[0;34m(call, num_retries)\u001b[0m\n\u001b[1;32m    345\u001b[0m   \u001b[38;5;28;01mreturn\u001b[39;00m call\u001b[38;5;241m.\u001b[39mexecute(num_retries\u001b[38;5;241m=\u001b[39mnum_retries)\n\u001b[1;32m    346\u001b[0m \u001b[38;5;28;01mexcept\u001b[39;00m googleapiclient\u001b[38;5;241m.\u001b[39merrors\u001b[38;5;241m.\u001b[39mHttpError \u001b[38;5;28;01mas\u001b[39;00m e:\n\u001b[0;32m--> 347\u001b[0m   \u001b[38;5;28;01mraise\u001b[39;00m _translate_cloud_exception(e)\n",
      "\u001b[0;31mEEException\u001b[0m: Unable to export unbounded image."
     ]
    }
   ],
   "source": [
    "# This will download all the tiles we need each to a zip, \n",
    "# the files inside are all named the same so next step is to overwrite that with the zip name\n",
    "\n",
    "bbox_list = list(bbox_gdf.total_bounds)\n",
    "bbox_list\n",
    "gee_geom = ee.Geometry.Rectangle(bbox_list)\n",
    "print(gee_geom)\n",
    "\n",
    "for image_asset_path in image_asset_path_list:\n",
    "    \n",
    "    downloaded_image = ee_download.download_image_by_asset_path(\n",
    "        asset_path = image_asset_path,\n",
    "        output_folder = OUTDIR,\n",
    "        region = gee_geom\n",
    "        )"
   ]
  }
 ],
 "metadata": {
  "kernelspec": {
   "display_name": "Python 3 (ipykernel)",
   "language": "python",
   "name": "python3"
  },
  "language_info": {
   "codemirror_mode": {
    "name": "ipython",
    "version": 3
   },
   "file_extension": ".py",
   "mimetype": "text/x-python",
   "name": "python",
   "nbconvert_exporter": "python",
   "pygments_lexer": "ipython3",
   "version": "3.10.8"
  }
 },
 "nbformat": 4,
 "nbformat_minor": 5
}
