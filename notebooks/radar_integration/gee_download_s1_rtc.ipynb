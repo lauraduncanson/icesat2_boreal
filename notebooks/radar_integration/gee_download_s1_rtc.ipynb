{
 "cells": [
  {
   "cell_type": "code",
   "execution_count": 88,
   "id": "02485bad",
   "metadata": {},
   "outputs": [],
   "source": [
    "import ee\n",
    "import numpy as np\n",
    "import geopandas as gpd\n",
    "import pandas as pd\n",
    "import shapely\n",
    "import glob\n",
    "import os\n",
    "from shapely.geometry import Polygon\n",
    "from shapely.geometry import box\n",
    "import matplotlib\n",
    "import matplotlib.pyplot as plt"
   ]
  },
  {
   "cell_type": "code",
   "execution_count": 2,
   "id": "9dc551e6",
   "metadata": {},
   "outputs": [
    {
     "data": {
      "text/html": [
       "<p>To authorize access needed by Earth Engine, open the following\n",
       "        URL in a web browser and follow the instructions:</p>\n",
       "        <p><a href=https://code.earthengine.google.com/client-auth?scopes=https%3A//www.googleapis.com/auth/earthengine%20https%3A//www.googleapis.com/auth/devstorage.full_control&request_id=192oFVgFMaCWurwwBXAhqFkJYml_lTv4irfiCdUFFE0&tc=Zg8utY-7dNE2iD62fYqjeGARU9HAr3EUrz003b8q0mM&cc=jEqHcH9DsNh5Npw3UcjbaHEAM_QoiHiGvYWl8dmsI2s>https://code.earthengine.google.com/client-auth?scopes=https%3A//www.googleapis.com/auth/earthengine%20https%3A//www.googleapis.com/auth/devstorage.full_control&request_id=192oFVgFMaCWurwwBXAhqFkJYml_lTv4irfiCdUFFE0&tc=Zg8utY-7dNE2iD62fYqjeGARU9HAr3EUrz003b8q0mM&cc=jEqHcH9DsNh5Npw3UcjbaHEAM_QoiHiGvYWl8dmsI2s</a></p>\n",
       "        <p>The authorization workflow will generate a code, which you should paste in the box below.</p>\n",
       "        "
      ],
      "text/plain": [
       "<IPython.core.display.HTML object>"
      ]
     },
     "metadata": {},
     "output_type": "display_data"
    },
    {
     "name": "stdin",
     "output_type": "stream",
     "text": [
      "Enter verification code:  4/1AVHEtk5TBn39OzP8Bhs41ctImzNdE08hC7gwb7SnmVcfNG4KxHspFSPu9ao\n"
     ]
    },
    {
     "name": "stdout",
     "output_type": "stream",
     "text": [
      "\n",
      "Successfully saved authorization token.\n"
     ]
    }
   ],
   "source": [
    "ee.Authenticate()"
   ]
  },
  {
   "cell_type": "code",
   "execution_count": 3,
   "id": "31093ee1",
   "metadata": {},
   "outputs": [],
   "source": [
    "from ee_download import download_image_by_asset_path, Curler"
   ]
  },
  {
   "cell_type": "code",
   "execution_count": 78,
   "id": "1cda7725",
   "metadata": {},
   "outputs": [
    {
     "data": {
      "image/png": "[encoded data removed]",
      "text/plain": [
       "<Figure size 432x288 with 1 Axes>"
      ]
     },
     "metadata": {
      "needs_background": "light"
     },
     "output_type": "display_data"
    }
   ],
   "source": [
    "# create bbox\n",
    "\n",
    "xmin = -139.3936913514372\n",
    "ymin = 56.57864833838931\n",
    "xmax = -114.82728842468266\n",
    "ymax = 67.87397926052299\n",
    "\n",
    "\n",
    "footprint = box(xmin, ymin, xmax, ymax)\n",
    "\n",
    "poly = gpd.GeoDataFrame(pd.DataFrame(['box'], columns = ['geometry']),crs ='epsg:4326',geometry = [footprint])\n",
    "poly.plot()\n",
    "poly.to_file('/projects/Developer/icesat2_boreal/notebooks/radar_integration/Data/test_footprint.gpkg', driver='GPKG')\n"
   ]
  },
  {
   "cell_type": "code",
   "execution_count": 79,
   "id": "822d0849",
   "metadata": {},
   "outputs": [],
   "source": [
    "# import poly as if you have the data\n",
    "\n",
    "gdf = gpd.read_file('/projects/Developer/icesat2_boreal/notebooks/radar_integration/Data/test_footprint.gpkg', crs='EPSG:4326')"
   ]
  },
  {
   "cell_type": "code",
   "execution_count": 80,
   "id": "0e33328a",
   "metadata": {},
   "outputs": [
    {
     "data": {
      "text/html": [
       "<div>\n",
       "<style scoped>\n",
       "    .dataframe tbody tr th:only-of-type {\n",
       "        vertical-align: middle;\n",
       "    }\n",
       "\n",
       "    .dataframe tbody tr th {\n",
       "        vertical-align: top;\n",
       "    }\n",
       "\n",
       "    .dataframe thead th {\n",
       "        text-align: right;\n",
       "    }\n",
       "</style>\n",
       "<table border=\"1\" class=\"dataframe\">\n",
       "  <thead>\n",
       "    <tr style=\"text-align: right;\">\n",
       "      <th></th>\n",
       "      <th>minx</th>\n",
       "      <th>miny</th>\n",
       "      <th>maxx</th>\n",
       "      <th>maxy</th>\n",
       "    </tr>\n",
       "  </thead>\n",
       "  <tbody>\n",
       "    <tr>\n",
       "      <th>0</th>\n",
       "      <td>-139.393691</td>\n",
       "      <td>56.578648</td>\n",
       "      <td>-114.827288</td>\n",
       "      <td>67.873979</td>\n",
       "    </tr>\n",
       "  </tbody>\n",
       "</table>\n",
       "</div>"
      ],
      "text/plain": [
       "         minx       miny        maxx       maxy\n",
       "0 -139.393691  56.578648 -114.827288  67.873979"
      ]
     },
     "execution_count": 80,
     "metadata": {},
     "output_type": "execute_result"
    }
   ],
   "source": [
    "gdf.bounds"
   ]
  },
  {
   "cell_type": "code",
   "execution_count": 81,
   "id": "20ac0e48",
   "metadata": {},
   "outputs": [],
   "source": [
    "# make sub-footprint\n",
    "cols = 91153\n",
    "rows = 41812\n",
    "\n",
    "minx = gdf.bounds.iloc[:,0][0]\n",
    "miny = gdf.bounds.iloc[:,1][0]\n",
    "maxx = gdf.bounds.iloc[:,2][0]\n",
    "maxy = gdf.bounds.iloc[:,3][0]"
   ]
  },
  {
   "cell_type": "code",
   "execution_count": 82,
   "id": "3f5daffa",
   "metadata": {},
   "outputs": [
    {
     "data": {
      "text/plain": [
       "(-139.3936913514372, 56.57864833838931, -114.82728842468266, 67.87397926052299)"
      ]
     },
     "execution_count": 82,
     "metadata": {},
     "output_type": "execute_result"
    }
   ],
   "source": [
    "minx, miny, maxx, maxy"
   ]
  },
  {
   "cell_type": "code",
   "execution_count": 104,
   "id": "7552b0a0",
   "metadata": {},
   "outputs": [
    {
     "data": {
      "text/plain": [
       "-136.69861791153346"
      ]
     },
     "execution_count": 104,
     "metadata": {},
     "output_type": "execute_result"
    }
   ],
   "source": [
    "sub_ftprint_nCols= (abs(minx - maxx)/91153)*10000\n",
    "sub_ftprint_maxx = minx + sub_ftprint_nCols\n",
    "sub_ftprint_maxx"
   ]
  },
  {
   "cell_type": "code",
   "execution_count": 105,
   "id": "0aab03e2",
   "metadata": {},
   "outputs": [
    {
     "data": {
      "text/plain": [
       "59.28010507859157"
      ]
     },
     "execution_count": 105,
     "metadata": {},
     "output_type": "execute_result"
    }
   ],
   "source": [
    "sub_ftprint_nRows = (abs(miny - maxy)/41812)*10000\n",
    "sub_ftprint_maxy = miny + sub_ftprint_nRows\n",
    "sub_ftprint_maxy"
   ]
  },
  {
   "cell_type": "code",
   "execution_count": 106,
   "id": "b5ecef29",
   "metadata": {},
   "outputs": [],
   "source": [
    "sub_ftprint_bbox = box(minx, miny, sub_ftprint_maxx, sub_ftprint_maxy)"
   ]
  },
  {
   "cell_type": "code",
   "execution_count": 107,
   "id": "8c141293",
   "metadata": {},
   "outputs": [],
   "source": [
    "sub_ftprint_bbox = gpd.GeoDataFrame(pd.DataFrame(['box'], columns = ['geometry']),crs ='epsg:4326',geometry = [sub_ftprint_bbox])\n",
    "\n"
   ]
  },
  {
   "cell_type": "code",
   "execution_count": 108,
   "id": "c0798502",
   "metadata": {},
   "outputs": [
    {
     "data": {
      "text/plain": [
       "<matplotlib.axes._subplots.AxesSubplot at 0x7f01d3ef0e10>"
      ]
     },
     "execution_count": 108,
     "metadata": {},
     "output_type": "execute_result"
    },
    {
     "data": {
      "image/png": "[encoded data removed]",
      "text/plain": [
       "<Figure size 432x288 with 1 Axes>"
      ]
     },
     "metadata": {
      "needs_background": "light"
     },
     "output_type": "display_data"
    }
   ],
   "source": [
    "fig, ax = plt.subplots(1, 1)\n",
    "gdf.plot(ax=ax)\n",
    "sub_ftprint_bbox.plot(ax=ax, facecolor='y')"
   ]
  },
  {
   "cell_type": "code",
   "execution_count": null,
   "id": "0c82cdc2",
   "metadata": {},
   "outputs": [],
   "source": [
    "# This will download all the tiles we need each to a zip, \n",
    "# the files inside are all named the same so next step is to overwrite that with the zip name\n",
    "\n",
    "bbox_list = [sub_ftprint_bbox.bounds.iloc[:,0][0],sub_ftprint_bbox.bounds.iloc[:,1][0],sub_ftprint_bbox.bounds.iloc[:,2][0],sub_ftprint_bbox.bounds.iloc[:,3][0]]\n",
    "bbox_list\n",
    "gee_geom = ee.Geometry.Rectangle(bbox_list)\n",
    "print(gee_geom)\n",
    "    \n",
    "downloaded_images = download_image_by_asset_path(\n",
    "    asset_path = \"projects/ee-foreststructure-above/assets/s1_vh_asc_pwr_frzn\",\n",
    "    output_folder = \"/projects/Developer/icesat2_boreal/notebooks/radar_integration/\",\n",
    "    #region = gee_geom,\n",
    "    #idx = str('test_file')\n",
    "    )"
   ]
  },
  {
   "cell_type": "code",
   "execution_count": 111,
   "id": "a58a1a3d",
   "metadata": {},
   "outputs": [],
   "source": []
  },
  {
   "cell_type": "code",
   "execution_count": null,
   "id": "be48fa8d",
   "metadata": {},
   "outputs": [],
   "source": []
  },
  {
   "cell_type": "code",
   "execution_count": null,
   "id": "9aef5633",
   "metadata": {},
   "outputs": [],
   "source": []
  },
  {
   "cell_type": "code",
   "execution_count": null,
   "id": "3f153ef1",
   "metadata": {},
   "outputs": [],
   "source": []
  }
 ],
 "metadata": {
  "kernelspec": {
   "display_name": "Python 3 (ipykernel)",
   "language": "python",
   "name": "python3"
  },
  "language_info": {
   "codemirror_mode": {
    "name": "ipython",
    "version": 3
   },
   "file_extension": ".py",
   "mimetype": "text/x-python",
   "name": "python",
   "nbconvert_exporter": "python",
   "pygments_lexer": "ipython3",
   "version": "3.7.8"
  }
 },
 "nbformat": 4,
 "nbformat_minor": 5
}
