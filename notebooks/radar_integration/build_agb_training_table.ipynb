{
 "cells": [
  {
   "cell_type": "markdown",
   "id": "3af60c53",
   "metadata": {},
   "source": [
    "# Build ML models"
   ]
  },
  {
   "cell_type": "markdown",
   "id": "27729536",
   "metadata": {},
   "source": [
    "- Read in the IS2 AGB trainig data.\n",
    "- create a tindex of S1 boreal tiles\n",
    "- using he tile num, reduce the IS2 training data to where we have S1\n",
    "- Read in topo and HLS tindex and subset to whre we have S1\n",
    "\n",
    "##### Note: Training data will contain point with a tile num that will match S1 tile id but it will be outside of S1 bounds. This is to include 'globabl' training at the individual tile scale"
   ]
  },
  {
   "cell_type": "code",
   "execution_count": 1,
   "id": "91e2172f",
   "metadata": {},
   "outputs": [
    {
     "name": "stderr",
     "output_type": "stream",
     "text": [
      "/projects/.local/lib/python3.7/site-packages/geopandas/_compat.py:110: UserWarning: The Shapely GEOS version (3.8.0-CAPI-1.13.1 ) is incompatible with the GEOS version PyGEOS was compiled with (3.10.1-CAPI-1.16.0). Conversions between both will be slow.\n",
      "  shapely_geos_version, geos_capi_version_string\n"
     ]
    },
    {
     "name": "stdout",
     "output_type": "stream",
     "text": [
      "packages imported\n"
     ]
    }
   ],
   "source": [
    "import pandas as pd\n",
    "import geopandas as gpd\n",
    "import glob\n",
    "import os\n",
    "import numpy as np\n",
    "import rasterio as rio\n",
    "import subprocess\n",
    "print('packages imported')"
   ]
  },
  {
   "cell_type": "markdown",
   "id": "69c4c8d8",
   "metadata": {},
   "source": [
    "### Import the IS2 AGB training bank"
   ]
  },
  {
   "cell_type": "code",
   "execution_count": 3,
   "id": "11bb253c",
   "metadata": {},
   "outputs": [
    {
     "name": "stdout",
     "output_type": "stream",
     "text": [
      "original df has 41706828 rows\n"
     ]
    }
   ],
   "source": [
    "training_feather = '/projects/shared-buckets/montesano/boreal_polar_map/tables/atl08_agb_train_tiles.feather'\n",
    "df = pd.read_feather(training_feather)\n",
    "df['tile_num_int'] = df['tile_num'].astype('int64')\n",
    "print('original df has ' + str(len(df)) + ' rows')"
   ]
  },
  {
   "cell_type": "markdown",
   "id": "70565a2b",
   "metadata": {},
   "source": [
    "### Get list of Fall radar S1 data and create lists of useful params"
   ]
  },
  {
   "cell_type": "code",
   "execution_count": 4,
   "id": "f60c4451",
   "metadata": {},
   "outputs": [
    {
     "name": "stdout",
     "output_type": "stream",
     "text": [
      "['s1_rtc_10_vvvh_Spring.tif', 's1_rtc_111_vvvh_Spring.tif', 's1_rtc_112_vvvh_Spring.tif', 's1_rtc_113_vvvh_Spring.tif', 's1_rtc_114_vvvh_Spring.tif', 's1_rtc_11_vvvh_Spring.tif', 's1_rtc_12_vvvh_Spring.tif', 's1_rtc_131_vvvh_Spring.tif', 's1_rtc_132_vvvh_Spring.tif', 's1_rtc_133_vvvh_Spring.tif', 's1_rtc_134_vvvh_Spring.tif', 's1_rtc_152_vvvh_Spring.tif', 's1_rtc_153_vvvh_Spring.tif', 's1_rtc_154_vvvh_Spring.tif', 's1_rtc_16_vvvh_Spring.tif', 's1_rtc_177_vvvh_Spring.tif', 's1_rtc_17_vvvh_Spring.tif', 's1_rtc_18_vvvh_Spring.tif', 's1_rtc_198_vvvh_Spring.tif', 's1_rtc_199_vvvh_Spring.tif', 's1_rtc_19_vvvh_Spring.tif', 's1_rtc_200_vvvh_Spring.tif', 's1_rtc_201_vvvh_Spring.tif', 's1_rtc_222_vvvh_Spring.tif', 's1_rtc_223_vvvh_Spring.tif', 's1_rtc_224_vvvh_Spring.tif', 's1_rtc_225_vvvh_Spring.tif', 's1_rtc_247_vvvh_Spring.tif', 's1_rtc_248_vvvh_Spring.tif', 's1_rtc_249_vvvh_Spring.tif', 's1_rtc_27_vvvh_Spring.tif', 's1_rtc_31_vvvh_Spring.tif', 's1_rtc_3271_vvvh_Spring.tif', 's1_rtc_3272_vvvh_Spring.tif', 's1_rtc_3273_vvvh_Spring.tif', 's1_rtc_32_vvvh_Spring.tif', 's1_rtc_3363_vvvh_Spring.tif', 's1_rtc_3364_vvvh_Spring.tif', 's1_rtc_3365_vvvh_Spring.tif', 's1_rtc_3366_vvvh_Spring.tif', 's1_rtc_3367_vvvh_Spring.tif', 's1_rtc_3455_vvvh_Spring.tif', 's1_rtc_3456_vvvh_Spring.tif', 's1_rtc_3457_vvvh_Spring.tif', 's1_rtc_3458_vvvh_Spring.tif', 's1_rtc_3459_vvvh_Spring.tif', 's1_rtc_3460_vvvh_Spring.tif', 's1_rtc_3461_vvvh_Spring.tif', 's1_rtc_3550_vvvh_Spring.tif', 's1_rtc_3551_vvvh_Spring.tif', 's1_rtc_3552_vvvh_Spring.tif', 's1_rtc_3553_vvvh_Spring.tif', 's1_rtc_3554_vvvh_Spring.tif', 's1_rtc_3555_vvvh_Spring.tif', 's1_rtc_3556_vvvh_Spring.tif', 's1_rtc_355_vvvh_Spring.tif', 's1_rtc_356_vvvh_Spring.tif', 's1_rtc_3644_vvvh_Spring.tif', 's1_rtc_3645_vvvh_Spring.tif', 's1_rtc_3646_vvvh_Spring.tif', 's1_rtc_3647_vvvh_Spring.tif', 's1_rtc_3648_vvvh_Spring.tif', 's1_rtc_3649_vvvh_Spring.tif', 's1_rtc_37_vvvh_Spring.tif', 's1_rtc_386_vvvh_Spring.tif', 's1_rtc_387_vvvh_Spring.tif', 's1_rtc_388_vvvh_Spring.tif', 's1_rtc_38_vvvh_Spring.tif', 's1_rtc_39_vvvh_Spring.tif', 's1_rtc_418_vvvh_Spring.tif', 's1_rtc_419_vvvh_Spring.tif', 's1_rtc_41_vvvh_Spring.tif', 's1_rtc_42_vvvh_Spring.tif', 's1_rtc_43_vvvh_Spring.tif', 's1_rtc_450_vvvh_Spring.tif', 's1_rtc_47_vvvh_Spring.tif', 's1_rtc_48_vvvh_Spring.tif', 's1_rtc_49_vvvh_Spring.tif', 's1_rtc_4_vvvh_Spring.tif', 's1_rtc_50_vvvh_Spring.tif', 's1_rtc_52_vvvh_Spring.tif', 's1_rtc_53_vvvh_Spring.tif', 's1_rtc_54_vvvh_Spring.tif', 's1_rtc_58_vvvh_Spring.tif', 's1_rtc_59_vvvh_Spring.tif', 's1_rtc_5_vvvh_Spring.tif', 's1_rtc_60_vvvh_Spring.tif', 's1_rtc_61_vvvh_Spring.tif', 's1_rtc_6_vvvh_Spring.tif', 's1_rtc_72_vvvh_Spring.tif', 's1_rtc_73_vvvh_Spring.tif', 's1_rtc_94_vvvh_Spring.tif', 's1_rtc_9_vvvh_Spring.tif']\n",
      "['s1_rtc_10_vvvh_Fall.tif', 's1_rtc_111_vvvh_Fall.tif', 's1_rtc_112_vvvh_Fall.tif', 's1_rtc_113_vvvh_Fall.tif', 's1_rtc_114_vvvh_Fall.tif', 's1_rtc_11_vvvh_Fall.tif', 's1_rtc_12_vvvh_Fall.tif', 's1_rtc_131_vvvh_Fall.tif', 's1_rtc_132_vvvh_Fall.tif', 's1_rtc_133_vvvh_Fall.tif', 's1_rtc_134_vvvh_Fall.tif', 's1_rtc_152_vvvh_Fall.tif', 's1_rtc_153_vvvh_Fall.tif', 's1_rtc_154_vvvh_Fall.tif', 's1_rtc_16_vvvh_Fall.tif', 's1_rtc_177_vvvh_Fall.tif', 's1_rtc_17_vvvh_Fall.tif', 's1_rtc_18_vvvh_Fall.tif', 's1_rtc_198_vvvh_Fall.tif', 's1_rtc_199_vvvh_Fall.tif', 's1_rtc_19_vvvh_Fall.tif', 's1_rtc_200_vvvh_Fall.tif', 's1_rtc_201_vvvh_Fall.tif', 's1_rtc_222_vvvh_Fall.tif', 's1_rtc_223_vvvh_Fall.tif', 's1_rtc_224_vvvh_Fall.tif', 's1_rtc_225_vvvh_Fall.tif', 's1_rtc_247_vvvh_Fall.tif', 's1_rtc_248_vvvh_Fall.tif', 's1_rtc_249_vvvh_Fall.tif', 's1_rtc_27_vvvh_Fall.tif', 's1_rtc_31_vvvh_Fall.tif', 's1_rtc_3271_vvvh_Fall.tif', 's1_rtc_3272_vvvh_Fall.tif', 's1_rtc_3273_vvvh_Fall.tif', 's1_rtc_32_vvvh_Fall.tif', 's1_rtc_3363_vvvh_Fall.tif', 's1_rtc_3364_vvvh_Fall.tif', 's1_rtc_3365_vvvh_Fall.tif', 's1_rtc_3366_vvvh_Fall.tif', 's1_rtc_3367_vvvh_Fall.tif', 's1_rtc_3455_vvvh_Fall.tif', 's1_rtc_3456_vvvh_Fall.tif', 's1_rtc_3457_vvvh_Fall.tif', 's1_rtc_3458_vvvh_Fall.tif', 's1_rtc_3459_vvvh_Fall.tif', 's1_rtc_3460_vvvh_Fall.tif', 's1_rtc_3461_vvvh_Fall.tif', 's1_rtc_3550_vvvh_Fall.tif', 's1_rtc_3551_vvvh_Fall.tif', 's1_rtc_3552_vvvh_Fall.tif', 's1_rtc_3553_vvvh_Fall.tif', 's1_rtc_3554_vvvh_Fall.tif', 's1_rtc_3555_vvvh_Fall.tif', 's1_rtc_3556_vvvh_Fall.tif', 's1_rtc_355_vvvh_Fall.tif', 's1_rtc_356_vvvh_Fall.tif', 's1_rtc_3644_vvvh_Fall.tif', 's1_rtc_3645_vvvh_Fall.tif', 's1_rtc_3646_vvvh_Fall.tif', 's1_rtc_3647_vvvh_Fall.tif', 's1_rtc_3648_vvvh_Fall.tif', 's1_rtc_3649_vvvh_Fall.tif', 's1_rtc_37_vvvh_Fall.tif', 's1_rtc_386_vvvh_Fall.tif', 's1_rtc_387_vvvh_Fall.tif', 's1_rtc_388_vvvh_Fall.tif', 's1_rtc_38_vvvh_Fall.tif', 's1_rtc_39_vvvh_Fall.tif', 's1_rtc_418_vvvh_Fall.tif', 's1_rtc_419_vvvh_Fall.tif', 's1_rtc_41_vvvh_Fall.tif', 's1_rtc_42_vvvh_Fall.tif', 's1_rtc_43_vvvh_Fall.tif', 's1_rtc_450_vvvh_Fall.tif', 's1_rtc_47_vvvh_Fall.tif', 's1_rtc_48_vvvh_Fall.tif', 's1_rtc_49_vvvh_Fall.tif', 's1_rtc_4_vvvh_Fall.tif', 's1_rtc_50_vvvh_Fall.tif', 's1_rtc_52_vvvh_Fall.tif', 's1_rtc_53_vvvh_Fall.tif', 's1_rtc_54_vvvh_Fall.tif', 's1_rtc_58_vvvh_Fall.tif', 's1_rtc_59_vvvh_Fall.tif', 's1_rtc_5_vvvh_Fall.tif', 's1_rtc_60_vvvh_Fall.tif', 's1_rtc_61_vvvh_Fall.tif', 's1_rtc_6_vvvh_Fall.tif', 's1_rtc_72_vvvh_Fall.tif', 's1_rtc_73_vvvh_Fall.tif', 's1_rtc_94_vvvh_Fall.tif', 's1_rtc_9_vvvh_Fall.tif']\n"
     ]
    }
   ],
   "source": [
    "s1_path = '/projects/my-public-bucket/sentinel1_seasonal_comps/S1_RTC_tindex/'\n",
    "\n",
    "folders = ['Fall','Spring']\n",
    "\n",
    "for folder in folders:\n",
    "    if folder=='Fall':\n",
    "        files = glob.glob(os.path.join(s1_path, folder +'/*.tif'))\n",
    "        fall_tile_num = []\n",
    "        fall_filenames = []\n",
    "        fall_paths = []\n",
    "        for file in files:\n",
    "            fall_tile_num.append(int(file.split('/')[-1].split('_')[2]))\n",
    "            fall_filenames.append(file.split('/')[-1])\n",
    "            fall_paths.append(file)\n",
    "    elif folder=='Spring':\n",
    "        files = glob.glob(os.path.join(s1_path, folder +'/*.tif'))\n",
    "        spring_tile_num = []\n",
    "        spring_filenames = []\n",
    "        spring_paths = []\n",
    "        for file in files:\n",
    "            spring_tile_num.append(int(file.split('/')[-1].split('_')[2]))\n",
    "            spring_filenames.append(file.split('/')[-1])\n",
    "            spring_paths.append(file)\n",
    "\n",
    "print(spring_filenames)\n",
    "print(fall_filenames)\n",
    "#s1_df = pd.DataFrame({'filepath':paths, 'filename':filenames, 'tile_num':tile_num})\n",
    "#s1_df.head()\n",
    "#len(s1_df)"
   ]
  },
  {
   "cell_type": "markdown",
   "id": "3d7ce657",
   "metadata": {},
   "source": [
    "### Subset the IS2 AGB df if we have corresponding S1 tile num"
   ]
  },
  {
   "cell_type": "code",
   "execution_count": 5,
   "id": "9742605c",
   "metadata": {},
   "outputs": [
    {
     "name": "stdout",
     "output_type": "stream",
     "text": [
      "subset IS2 df based on S1 tile ids\n",
      "[   4    9   10   11   12   16   17   18   19   27   31   37   38   39\n",
      "   41   42   43   47   48   49   50   52   53   54   58   59   60   61\n",
      "   72   73   94  111  112  113  131  132  133  152  153  154  177  198\n",
      "  199  200  201  222  223  224  225  247  248  249  355  356  386  387\n",
      "  388  418  419 3271 3272 3273 3363 3364 3365 3366 3367 3455 3456 3457\n",
      " 3458 3459 3460 3461 3550 3551 3552 3553 3554 3555 3556 3644 3645 3646\n",
      " 3647 3648 3649]\n",
      "df has 763251 rows\n"
     ]
    }
   ],
   "source": [
    "print(\"subset IS2 df based on S1 tile ids\")\n",
    "sub_df = df[df['tile_num_int'].isin(fall_tile_num)]\n",
    "print(np.sort(np.unique(sub_df['tile_num_int'])))\n",
    "\n",
    "print('df has ' + str(len(sub_df)) + ' rows')"
   ]
  },
  {
   "cell_type": "markdown",
   "id": "c816b25f",
   "metadata": {},
   "source": [
    "### Create a gdf of the IS2 points for covar extraction"
   ]
  },
  {
   "cell_type": "code",
   "execution_count": 6,
   "id": "9585ed75",
   "metadata": {},
   "outputs": [
    {
     "name": "stdout",
     "output_type": "stream",
     "text": [
      "             lon        lat         AGB        SE tile_num  tile_num_int  \\\n",
      "287471  6.944713  58.303544  108.670335  0.001075     0010            10   \n",
      "287472  6.981278  58.207990   11.443054  0.001203     0010            10   \n",
      "287473  8.541175  58.509150   35.422381  0.001075     0010            10   \n",
      "287474  7.052336  58.575449   11.564917  0.001075     0010            10   \n",
      "287475  8.675406  58.913518   26.539087  0.001203     0010            10   \n",
      "\n",
      "                        geometry  \n",
      "287471  POINT (6.94471 58.30354)  \n",
      "287472  POINT (6.98128 58.20799)  \n",
      "287473  POINT (8.54117 58.50915)  \n",
      "287474  POINT (7.05234 58.57545)  \n",
      "287475  POINT (8.67541 58.91352)  \n"
     ]
    }
   ],
   "source": [
    "sub_gdf = gpd.GeoDataFrame(\n",
    "    sub_df, geometry=gpd.points_from_xy(sub_df.lon, sub_df.lat), crs='EPSG:4326')\n",
    "print(sub_gdf.head())\n",
    "\n",
    "#sub_gdf.to_file('/projects/my-public-bucket/sentinel1_seasonal_comps/sub_gdf.gpkg', driver='GPKG')"
   ]
  },
  {
   "cell_type": "markdown",
   "id": "817fd894",
   "metadata": {},
   "source": [
    "### Training tiles: A list f the tile nums where we have data"
   ]
  },
  {
   "cell_type": "markdown",
   "id": "59ce40e0",
   "metadata": {},
   "source": [
    "### Load the topo and hls tindex"
   ]
  },
  {
   "cell_type": "code",
   "execution_count": 7,
   "id": "0c2a8b6f",
   "metadata": {},
   "outputs": [
    {
     "data": {
      "text/html": [
       "<div>\n",
       "<style scoped>\n",
       "    .dataframe tbody tr th:only-of-type {\n",
       "        vertical-align: middle;\n",
       "    }\n",
       "\n",
       "    .dataframe tbody tr th {\n",
       "        vertical-align: top;\n",
       "    }\n",
       "\n",
       "    .dataframe thead th {\n",
       "        text-align: right;\n",
       "    }\n",
       "</style>\n",
       "<table border=\"1\" class=\"dataframe\">\n",
       "  <thead>\n",
       "    <tr style=\"text-align: right;\">\n",
       "      <th></th>\n",
       "      <th>Unnamed: 0</th>\n",
       "      <th>Unnamed: 0.1</th>\n",
       "      <th>s3_path</th>\n",
       "      <th>local_path</th>\n",
       "      <th>file</th>\n",
       "      <th>tile_num</th>\n",
       "    </tr>\n",
       "  </thead>\n",
       "  <tbody>\n",
       "    <tr>\n",
       "      <th>121</th>\n",
       "      <td>65</td>\n",
       "      <td>31</td>\n",
       "      <td>s3://maap-ops-workspace/nathanmthomas/dps_outp...</td>\n",
       "      <td>/projects/my-private-bucket/dps_output/do_HLS_...</td>\n",
       "      <td>HLS_3364_06-01_09-15_2019_2021.tif</td>\n",
       "      <td>3364</td>\n",
       "    </tr>\n",
       "    <tr>\n",
       "      <th>125</th>\n",
       "      <td>69</td>\n",
       "      <td>27</td>\n",
       "      <td>s3://maap-ops-workspace/nathanmthomas/dps_outp...</td>\n",
       "      <td>/projects/my-private-bucket/dps_output/do_HLS_...</td>\n",
       "      <td>HLS_112_06-01_09-15_2019_2021.tif</td>\n",
       "      <td>112</td>\n",
       "    </tr>\n",
       "    <tr>\n",
       "      <th>142</th>\n",
       "      <td>86</td>\n",
       "      <td>10</td>\n",
       "      <td>s3://maap-ops-workspace/nathanmthomas/dps_outp...</td>\n",
       "      <td>/projects/my-private-bucket/dps_output/do_HLS_...</td>\n",
       "      <td>HLS_3272_06-01_09-15_2019_2021.tif</td>\n",
       "      <td>3272</td>\n",
       "    </tr>\n",
       "    <tr>\n",
       "      <th>143</th>\n",
       "      <td>87</td>\n",
       "      <td>9</td>\n",
       "      <td>s3://maap-ops-workspace/nathanmthomas/dps_outp...</td>\n",
       "      <td>/projects/my-private-bucket/dps_output/do_HLS_...</td>\n",
       "      <td>HLS_48_06-01_09-15_2019_2021.tif</td>\n",
       "      <td>48</td>\n",
       "    </tr>\n",
       "    <tr>\n",
       "      <th>150</th>\n",
       "      <td>94</td>\n",
       "      <td>2</td>\n",
       "      <td>s3://maap-ops-workspace/nathanmthomas/dps_outp...</td>\n",
       "      <td>/projects/my-private-bucket/dps_output/do_HLS_...</td>\n",
       "      <td>HLS_225_06-01_09-15_2019_2021.tif</td>\n",
       "      <td>225</td>\n",
       "    </tr>\n",
       "  </tbody>\n",
       "</table>\n",
       "</div>"
      ],
      "text/plain": [
       "     Unnamed: 0  Unnamed: 0.1  \\\n",
       "121          65            31   \n",
       "125          69            27   \n",
       "142          86            10   \n",
       "143          87             9   \n",
       "150          94             2   \n",
       "\n",
       "                                               s3_path  \\\n",
       "121  s3://maap-ops-workspace/nathanmthomas/dps_outp...   \n",
       "125  s3://maap-ops-workspace/nathanmthomas/dps_outp...   \n",
       "142  s3://maap-ops-workspace/nathanmthomas/dps_outp...   \n",
       "143  s3://maap-ops-workspace/nathanmthomas/dps_outp...   \n",
       "150  s3://maap-ops-workspace/nathanmthomas/dps_outp...   \n",
       "\n",
       "                                            local_path  \\\n",
       "121  /projects/my-private-bucket/dps_output/do_HLS_...   \n",
       "125  /projects/my-private-bucket/dps_output/do_HLS_...   \n",
       "142  /projects/my-private-bucket/dps_output/do_HLS_...   \n",
       "143  /projects/my-private-bucket/dps_output/do_HLS_...   \n",
       "150  /projects/my-private-bucket/dps_output/do_HLS_...   \n",
       "\n",
       "                                   file  tile_num  \n",
       "121  HLS_3364_06-01_09-15_2019_2021.tif      3364  \n",
       "125   HLS_112_06-01_09-15_2019_2021.tif       112  \n",
       "142  HLS_3272_06-01_09-15_2019_2021.tif      3272  \n",
       "143    HLS_48_06-01_09-15_2019_2021.tif        48  \n",
       "150   HLS_225_06-01_09-15_2019_2021.tif       225  "
      ]
     },
     "execution_count": 7,
     "metadata": {},
     "output_type": "execute_result"
    }
   ],
   "source": [
    "# load topo tindex\n",
    "Topo_mosaic_fn  = '/projects/my-public-bucket/DPS_tile_lists/Topo_tindex_master.csv'\n",
    "topo = pd.read_csv(Topo_mosaic_fn)\n",
    "sub_topo = topo[topo['tile_num'].isin(fall_tile_num)]\n",
    "\n",
    "# load HLS index\n",
    "HLS_mosaic_fn  = '/projects/my-public-bucket/DPS_tile_lists/HLS/c2020/HLS_stack_2022_v2/HLS_tindex_master.csv'\n",
    "hls = pd.read_csv(HLS_mosaic_fn)\n",
    "sub_hls = hls[hls['tile_num'].isin(fall_tile_num)]\n",
    "\n",
    "sub_hls.head()"
   ]
  },
  {
   "cell_type": "markdown",
   "id": "76200b1b",
   "metadata": {},
   "source": [
    "### create Vrts of the tiles for point extraction"
   ]
  },
  {
   "cell_type": "code",
   "execution_count": 16,
   "id": "d34951ae",
   "metadata": {},
   "outputs": [
    {
     "name": "stdout",
     "output_type": "stream",
     "text": [
      "0...10...20...30...40...50...60...70...80...90...100 - done.\n",
      "0...10...20...30...40...50...60...70...80...90...100 - done.\n",
      "0...10...20...30...40...50...60...70...80...90...100 - done.\n",
      "0...10...20...30...40...50...60...70...80...90...100 - done.\n"
     ]
    }
   ],
   "source": [
    "hls_paths = sub_hls['local_path'].to_list()\n",
    "topo_paths = sub_topo['local_path'].to_list()\n",
    "s1_fall_paths = fall_paths\n",
    "s1_spring_paths = spring_paths\n",
    "\n",
    "hls_vrt = '/projects/my-public-bucket/sentinel1_seasonal_comps/VRTs/HLS_IS2_vrt.vrt'\n",
    "topo_vrt = '/projects/my-public-bucket/sentinel1_seasonal_comps/VRTs/TOPO_IS2_vrt.vrt'\n",
    "s1_fall_vrt = '/projects/my-public-bucket/sentinel1_seasonal_comps/VRTs/S1_IS2_FALL_vrt.vrt'\n",
    "s1_spring_vrt = '/projects/my-public-bucket/sentinel1_seasonal_comps/VRTs/S1_IS2_SPRING_vrt.vrt'\n",
    "\n",
    "if False:\n",
    "    subprocess.call(' '.join(['gdalbuildvrt', hls_vrt] + hls_paths),shell=True)\n",
    "    subprocess.call(' '.join(['gdalbuildvrt', topo_vrt] + topo_paths),shell=True)\n",
    "    subprocess.call(' '.join(['gdalbuildvrt', s1_fall_vrt] + s1_fall_paths),shell=True)\n",
    "    subprocess.call(' '.join(['gdalbuildvrt', s1_spring_vrt] + s1_spring_paths),shell=True)\n",
    "\n"
   ]
  },
  {
   "cell_type": "markdown",
   "id": "201d9cb0",
   "metadata": {},
   "source": [
    "### Get CRS of imagery to use as master CRS"
   ]
  },
  {
   "cell_type": "code",
   "execution_count": 17,
   "id": "71abf051",
   "metadata": {},
   "outputs": [
    {
     "data": {
      "text/plain": [
       "CRS.from_wkt('PROJCS[\"unnamed\",GEOGCS[\"GRS 1980(IUGG, 1980)\",DATUM[\"unknown\",SPHEROID[\"GRS80\",6378137,298.257222101],TOWGS84[0,0,0,0,0,0,0]],PRIMEM[\"Greenwich\",0],UNIT[\"degree\",0.0174532925199433,AUTHORITY[\"EPSG\",\"9122\"]]],PROJECTION[\"Albers_Conic_Equal_Area\"],PARAMETER[\"latitude_of_center\",40],PARAMETER[\"longitude_of_center\",180],PARAMETER[\"standard_parallel_1\",50],PARAMETER[\"standard_parallel_2\",70],PARAMETER[\"false_easting\",0],PARAMETER[\"false_northing\",0],UNIT[\"metre\",1,AUTHORITY[\"EPSG\",\"9001\"]],AXIS[\"Easting\",EAST],AXIS[\"Northing\",NORTH]]')"
      ]
     },
     "execution_count": 17,
     "metadata": {},
     "output_type": "execute_result"
    }
   ],
   "source": [
    "with rio.open(s1_fall_vrt) as f:\n",
    "    master_crs = f.crs\n",
    "    \n",
    "master_crs"
   ]
  },
  {
   "cell_type": "markdown",
   "id": "f8eb8dcd",
   "metadata": {},
   "source": [
    "### Reproj IS2 gdf to same crs as covars"
   ]
  },
  {
   "cell_type": "code",
   "execution_count": 18,
   "id": "096092f9",
   "metadata": {},
   "outputs": [],
   "source": [
    "sub_gdf_proj = sub_gdf.to_crs(master_crs)"
   ]
  },
  {
   "cell_type": "markdown",
   "id": "55cfdaed",
   "metadata": {},
   "source": [
    "### extract covars to IS2 df"
   ]
  },
  {
   "cell_type": "code",
   "execution_count": 19,
   "id": "059126f7",
   "metadata": {},
   "outputs": [],
   "source": [
    "# get x,y locations\n",
    "coord_list = [(x,y) for x,y in zip(sub_gdf_proj['geometry'].x , sub_gdf_proj['geometry'].y)]"
   ]
  },
  {
   "cell_type": "code",
   "execution_count": 21,
   "id": "cfc44bd8",
   "metadata": {},
   "outputs": [
    {
     "name": "stdout",
     "output_type": "stream",
     "text": [
      "Sampling topo...\n",
      "Finished\n"
     ]
    }
   ],
   "source": [
    "# sample the vrts using the x,y locations\n",
    "if False:\n",
    "    print('Sampling topo...')\n",
    "    topo_src = rio.open(topo_vrt)\n",
    "    sub_gdf_proj['topo_covar'] = [x for x in topo_src.sample(coord_list)]\n",
    "    print('Finished')\n",
    "\n",
    "    print('Sampling hls...')\n",
    "    hls_src = rio.open(hls_vrt)\n",
    "    sub_gdf_proj['hls_covar'] = [x for x in hls_src.sample(coord_list)]\n",
    "    print('Finished')\n",
    "\n",
    "    print('Sampling fall s1...')\n",
    "    s1_fall_src = rio.open(s1_fall_vrt)\n",
    "    sub_gdf_proj['s1_fall_covar'] = [x for x in s1_fall_src.sample(coord_list)]\n",
    "    print('Finished')\n",
    "\n",
    "    print('Sampling spring s1...')\n",
    "    s1_spring_src = rio.open(s1_spring_vrt)\n",
    "    sub_gdf_proj['s1_spring_covar'] = [x for x in s1_spring_src.sample(coord_list)]\n",
    "    print('Finished')"
   ]
  },
  {
   "cell_type": "markdown",
   "id": "2e660a0c",
   "metadata": {},
   "source": [
    "#### Split the lists extracted by src.sample up into individual columns"
   ]
  },
  {
   "cell_type": "code",
   "execution_count": 22,
   "id": "c90e2048",
   "metadata": {},
   "outputs": [],
   "source": [
    "sub_gdf_proj['elevation'] = [x[0] for x in sub_gdf_proj['topo_covar']]\n",
    "sub_gdf_proj['slope'] = [x[1] for x in sub_gdf_proj['topo_covar']]\n",
    "sub_gdf_proj['tsri'] = [x[2] for x in sub_gdf_proj['topo_covar']]\n",
    "sub_gdf_proj['tpi'] = [x[3] for x in sub_gdf_proj['topo_covar']]\n",
    "sub_gdf_proj['slope_mask'] = [x[4] for x in sub_gdf_proj['topo_covar']]\n",
    "\n",
    "sub_gdf_proj['blue'] = [x[0] for x in sub_gdf_proj['hls_covar']]\n",
    "sub_gdf_proj['green'] = [x[1] for x in sub_gdf_proj['hls_covar']]\n",
    "sub_gdf_proj['red'] = [x[2] for x in sub_gdf_proj['hls_covar']]\n",
    "sub_gdf_proj['nir'] = [x[3] for x in sub_gdf_proj['hls_covar']]\n",
    "sub_gdf_proj['swir'] = [x[4] for x in sub_gdf_proj['hls_covar']]\n",
    "sub_gdf_proj['swir2'] = [x[5] for x in sub_gdf_proj['hls_covar']]\n",
    "sub_gdf_proj['ndvi'] = [x[6] for x in sub_gdf_proj['hls_covar']]\n",
    "sub_gdf_proj['savi'] = [x[7] for x in sub_gdf_proj['hls_covar']]\n",
    "sub_gdf_proj['msavi'] = [x[8] for x in sub_gdf_proj['hls_covar']]\n",
    "sub_gdf_proj['ndmi'] = [x[9] for x in sub_gdf_proj['hls_covar']]\n",
    "sub_gdf_proj['evi'] = [x[4] for x in sub_gdf_proj['hls_covar']]\n",
    "sub_gdf_proj['nbr'] = [x[10] for x in sub_gdf_proj['hls_covar']]\n",
    "sub_gdf_proj['nbr2'] = [x[11] for x in sub_gdf_proj['hls_covar']]\n",
    "sub_gdf_proj['tcb'] = [x[12] for x in sub_gdf_proj['hls_covar']]\n",
    "sub_gdf_proj['tcg'] = [x[13] for x in sub_gdf_proj['hls_covar']]\n",
    "sub_gdf_proj['tcw'] = [x[14] for x in sub_gdf_proj['hls_covar']]\n",
    "\n",
    "sub_gdf_proj['vv_fall'] = [x[0] for x in sub_gdf_proj['s1_fall_covar']]\n",
    "sub_gdf_proj['vh_fall'] = [x[1] for x in sub_gdf_proj['s1_fall_covar']]\n",
    "\n",
    "sub_gdf_proj['vv_spring'] = [x[0] for x in sub_gdf_proj['s1_spring_covar']]\n",
    "sub_gdf_proj['vh_spring'] = [x[1] for x in sub_gdf_proj['s1_spring_covar']]\n",
    "\n",
    "\n"
   ]
  },
  {
   "cell_type": "markdown",
   "id": "f4e912ad",
   "metadata": {},
   "source": [
    "#### Drop the coar lists"
   ]
  },
  {
   "cell_type": "code",
   "execution_count": 23,
   "id": "633091b6",
   "metadata": {},
   "outputs": [],
   "source": [
    "sub_gdf_proj = sub_gdf_proj.drop(['topo_covar', 'hls_covar', 's1_fall_covar', 's1_spring_covar'], axis=1)"
   ]
  },
  {
   "cell_type": "markdown",
   "id": "c8663ebb",
   "metadata": {},
   "source": [
    "#### Remove zeros to reduce the data to where we only have valid S1 data"
   ]
  },
  {
   "cell_type": "code",
   "execution_count": 25,
   "id": "1ab9e2a7",
   "metadata": {},
   "outputs": [],
   "source": [
    "sub_gdf_proj = sub_gdf_proj[sub_gdf_proj['vv_fall']>0]"
   ]
  },
  {
   "cell_type": "markdown",
   "id": "50ba0d5b",
   "metadata": {},
   "source": [
    "#### Convert S1 to db units"
   ]
  },
  {
   "cell_type": "code",
   "execution_count": 31,
   "id": "c5403468",
   "metadata": {},
   "outputs": [],
   "source": [
    "sub_gdf_proj['vv_fall_db'] = 10*np.log10(sub_gdf_proj['vv_fall'])\n",
    "sub_gdf_proj['vh_fall_db'] = 10*np.log10(sub_gdf_proj['vh_fall'])\n",
    "sub_gdf_proj['vv_spring_db'] = 10*np.log10(sub_gdf_proj['vv_spring'])\n",
    "sub_gdf_proj['vh_spring_db'] = 10*np.log10(sub_gdf_proj['vh_spring'])"
   ]
  },
  {
   "cell_type": "markdown",
   "id": "20656b66",
   "metadata": {},
   "source": [
    "#### write to GPKG"
   ]
  },
  {
   "cell_type": "code",
   "execution_count": 41,
   "id": "fb8bf1fb",
   "metadata": {},
   "outputs": [],
   "source": [
    "sub_gdf_proj_4326 = sub_gdf_proj.to_crs('EPSG:4326')"
   ]
  },
  {
   "cell_type": "code",
   "execution_count": 42,
   "id": "5f17746f",
   "metadata": {},
   "outputs": [],
   "source": [
    "sub_gdf_proj_4326.to_file('/projects/my-public-bucket/sentinel1_seasonal_comps/IS2_AGB_CoVars_training_s1.gpkg', driver='GPKG')"
   ]
  },
  {
   "cell_type": "code",
   "execution_count": 43,
   "id": "9ba0cc66",
   "metadata": {},
   "outputs": [
    {
     "data": {
      "text/plain": [
       "<matplotlib.axes._subplots.AxesSubplot at 0x7fd13752b2d0>"
      ]
     },
     "execution_count": 43,
     "metadata": {},
     "output_type": "execute_result"
    },
    {
     "data": {
      "image/png": "[encoded data removed]",
      "text/plain": [
       "<Figure size 432x288 with 1 Axes>"
      ]
     },
     "metadata": {
      "needs_background": "light"
     },
     "output_type": "display_data"
    }
   ],
   "source": [
    "sub_gdf_proj_4326.plot()"
   ]
  },
  {
   "cell_type": "code",
   "execution_count": 40,
   "id": "d8578f4e",
   "metadata": {},
   "outputs": [
    {
     "data": {
      "text/html": [
       "<div>\n",
       "<style scoped>\n",
       "    .dataframe tbody tr th:only-of-type {\n",
       "        vertical-align: middle;\n",
       "    }\n",
       "\n",
       "    .dataframe tbody tr th {\n",
       "        vertical-align: top;\n",
       "    }\n",
       "\n",
       "    .dataframe thead th {\n",
       "        text-align: right;\n",
       "    }\n",
       "</style>\n",
       "<table border=\"1\" class=\"dataframe\">\n",
       "  <thead>\n",
       "    <tr style=\"text-align: right;\">\n",
       "      <th></th>\n",
       "      <th>lon</th>\n",
       "      <th>lat</th>\n",
       "      <th>AGB</th>\n",
       "      <th>SE</th>\n",
       "      <th>tile_num</th>\n",
       "      <th>tile_num_int</th>\n",
       "      <th>geometry</th>\n",
       "      <th>elevation</th>\n",
       "      <th>slope</th>\n",
       "      <th>tsri</th>\n",
       "      <th>...</th>\n",
       "      <th>tcg</th>\n",
       "      <th>tcw</th>\n",
       "      <th>vv_fall</th>\n",
       "      <th>vh_fall</th>\n",
       "      <th>vv_spring</th>\n",
       "      <th>vh_spring</th>\n",
       "      <th>vv_fall_db</th>\n",
       "      <th>vh_fall_db</th>\n",
       "      <th>vv_spring_db</th>\n",
       "      <th>vh_spring_db</th>\n",
       "    </tr>\n",
       "  </thead>\n",
       "  <tbody>\n",
       "    <tr>\n",
       "      <th>287471</th>\n",
       "      <td>6.944713</td>\n",
       "      <td>58.303544</td>\n",
       "      <td>108.670335</td>\n",
       "      <td>0.001075</td>\n",
       "      <td>0010</td>\n",
       "      <td>10</td>\n",
       "      <td>POINT (-2081273.860 9192083.093)</td>\n",
       "      <td>11.690205</td>\n",
       "      <td>6.911824</td>\n",
       "      <td>0.461431</td>\n",
       "      <td>...</td>\n",
       "      <td>0.219431</td>\n",
       "      <td>0.240048</td>\n",
       "      <td>0.123201</td>\n",
       "      <td>0.030401</td>\n",
       "      <td>0.106778</td>\n",
       "      <td>0.027224</td>\n",
       "      <td>-9.093846</td>\n",
       "      <td>-15.171074</td>\n",
       "      <td>-9.715164</td>\n",
       "      <td>-15.650456</td>\n",
       "    </tr>\n",
       "    <tr>\n",
       "      <th>287472</th>\n",
       "      <td>6.981278</td>\n",
       "      <td>58.207990</td>\n",
       "      <td>11.443054</td>\n",
       "      <td>0.001203</td>\n",
       "      <td>0010</td>\n",
       "      <td>10</td>\n",
       "      <td>POINT (-2088845.237 9200057.707)</td>\n",
       "      <td>374.015564</td>\n",
       "      <td>6.466940</td>\n",
       "      <td>0.894134</td>\n",
       "      <td>...</td>\n",
       "      <td>0.272507</td>\n",
       "      <td>0.259743</td>\n",
       "      <td>0.101544</td>\n",
       "      <td>0.030397</td>\n",
       "      <td>0.117073</td>\n",
       "      <td>0.027667</td>\n",
       "      <td>-9.933438</td>\n",
       "      <td>-15.171671</td>\n",
       "      <td>-9.315430</td>\n",
       "      <td>-15.580442</td>\n",
       "    </tr>\n",
       "    <tr>\n",
       "      <th>287473</th>\n",
       "      <td>8.541175</td>\n",
       "      <td>58.509150</td>\n",
       "      <td>35.422381</td>\n",
       "      <td>0.001075</td>\n",
       "      <td>0010</td>\n",
       "      <td>10</td>\n",
       "      <td>POINT (-2145725.372 9122392.534)</td>\n",
       "      <td>156.643097</td>\n",
       "      <td>20.723127</td>\n",
       "      <td>0.519634</td>\n",
       "      <td>...</td>\n",
       "      <td>0.165595</td>\n",
       "      <td>0.170754</td>\n",
       "      <td>0.157074</td>\n",
       "      <td>0.047012</td>\n",
       "      <td>0.175254</td>\n",
       "      <td>0.048996</td>\n",
       "      <td>-8.038956</td>\n",
       "      <td>-13.277913</td>\n",
       "      <td>-7.563322</td>\n",
       "      <td>-13.098364</td>\n",
       "    </tr>\n",
       "    <tr>\n",
       "      <th>287474</th>\n",
       "      <td>7.052336</td>\n",
       "      <td>58.575449</td>\n",
       "      <td>11.564917</td>\n",
       "      <td>0.001075</td>\n",
       "      <td>0010</td>\n",
       "      <td>10</td>\n",
       "      <td>POINT (-2070030.441 9162839.792)</td>\n",
       "      <td>461.456512</td>\n",
       "      <td>8.078266</td>\n",
       "      <td>0.999326</td>\n",
       "      <td>...</td>\n",
       "      <td>0.282242</td>\n",
       "      <td>0.250962</td>\n",
       "      <td>0.109208</td>\n",
       "      <td>0.026812</td>\n",
       "      <td>0.092610</td>\n",
       "      <td>0.019654</td>\n",
       "      <td>-9.617460</td>\n",
       "      <td>-15.716705</td>\n",
       "      <td>-10.333415</td>\n",
       "      <td>-17.065559</td>\n",
       "    </tr>\n",
       "    <tr>\n",
       "      <th>287476</th>\n",
       "      <td>6.960767</td>\n",
       "      <td>58.100499</td>\n",
       "      <td>65.062633</td>\n",
       "      <td>0.008893</td>\n",
       "      <td>0010</td>\n",
       "      <td>10</td>\n",
       "      <td>POINT (-2094346.573 9210942.104)</td>\n",
       "      <td>32.583660</td>\n",
       "      <td>11.026880</td>\n",
       "      <td>0.745768</td>\n",
       "      <td>...</td>\n",
       "      <td>0.322008</td>\n",
       "      <td>0.320757</td>\n",
       "      <td>0.208911</td>\n",
       "      <td>0.047254</td>\n",
       "      <td>0.159392</td>\n",
       "      <td>0.063567</td>\n",
       "      <td>-6.800391</td>\n",
       "      <td>-13.255622</td>\n",
       "      <td>-7.975332</td>\n",
       "      <td>-11.967664</td>\n",
       "    </tr>\n",
       "    <tr>\n",
       "      <th>...</th>\n",
       "      <td>...</td>\n",
       "      <td>...</td>\n",
       "      <td>...</td>\n",
       "      <td>...</td>\n",
       "      <td>...</td>\n",
       "      <td>...</td>\n",
       "      <td>...</td>\n",
       "      <td>...</td>\n",
       "      <td>...</td>\n",
       "      <td>...</td>\n",
       "      <td>...</td>\n",
       "      <td>...</td>\n",
       "      <td>...</td>\n",
       "      <td>...</td>\n",
       "      <td>...</td>\n",
       "      <td>...</td>\n",
       "      <td>...</td>\n",
       "      <td>...</td>\n",
       "      <td>...</td>\n",
       "      <td>...</td>\n",
       "      <td>...</td>\n",
       "    </tr>\n",
       "    <tr>\n",
       "      <th>41706462</th>\n",
       "      <td>-144.676529</td>\n",
       "      <td>64.134824</td>\n",
       "      <td>4.667318</td>\n",
       "      <td>0.001203</td>\n",
       "      <td>0225</td>\n",
       "      <td>225</td>\n",
       "      <td>POINT (1618791.092 3122708.153)</td>\n",
       "      <td>492.176392</td>\n",
       "      <td>5.915209</td>\n",
       "      <td>0.304363</td>\n",
       "      <td>...</td>\n",
       "      <td>0.277536</td>\n",
       "      <td>0.252923</td>\n",
       "      <td>0.157135</td>\n",
       "      <td>0.041806</td>\n",
       "      <td>0.087734</td>\n",
       "      <td>0.018979</td>\n",
       "      <td>-8.037276</td>\n",
       "      <td>-13.787599</td>\n",
       "      <td>-10.568332</td>\n",
       "      <td>-17.217365</td>\n",
       "    </tr>\n",
       "    <tr>\n",
       "      <th>41706464</th>\n",
       "      <td>-146.520936</td>\n",
       "      <td>62.933722</td>\n",
       "      <td>16.825646</td>\n",
       "      <td>0.001075</td>\n",
       "      <td>0225</td>\n",
       "      <td>225</td>\n",
       "      <td>POINT (1606545.747 2959984.641)</td>\n",
       "      <td>877.207458</td>\n",
       "      <td>9.359911</td>\n",
       "      <td>0.243640</td>\n",
       "      <td>...</td>\n",
       "      <td>0.294354</td>\n",
       "      <td>0.254843</td>\n",
       "      <td>0.064984</td>\n",
       "      <td>0.013836</td>\n",
       "      <td>0.051199</td>\n",
       "      <td>0.007151</td>\n",
       "      <td>-11.871930</td>\n",
       "      <td>-18.589745</td>\n",
       "      <td>-12.907392</td>\n",
       "      <td>-21.456090</td>\n",
       "    </tr>\n",
       "    <tr>\n",
       "      <th>41706494</th>\n",
       "      <td>-149.310157</td>\n",
       "      <td>65.035941</td>\n",
       "      <td>9.164867</td>\n",
       "      <td>0.001075</td>\n",
       "      <td>0225</td>\n",
       "      <td>225</td>\n",
       "      <td>POINT (1377758.348 3109174.742)</td>\n",
       "      <td>93.919228</td>\n",
       "      <td>0.711308</td>\n",
       "      <td>0.159242</td>\n",
       "      <td>...</td>\n",
       "      <td>0.276067</td>\n",
       "      <td>0.244414</td>\n",
       "      <td>0.119058</td>\n",
       "      <td>0.032951</td>\n",
       "      <td>0.088257</td>\n",
       "      <td>0.023042</td>\n",
       "      <td>-9.242422</td>\n",
       "      <td>-14.821351</td>\n",
       "      <td>-10.542484</td>\n",
       "      <td>-16.374708</td>\n",
       "    </tr>\n",
       "    <tr>\n",
       "      <th>41706627</th>\n",
       "      <td>-145.165420</td>\n",
       "      <td>65.271523</td>\n",
       "      <td>3.677342</td>\n",
       "      <td>0.001075</td>\n",
       "      <td>0225</td>\n",
       "      <td>225</td>\n",
       "      <td>POINT (1534777.694 3222575.196)</td>\n",
       "      <td>432.987274</td>\n",
       "      <td>3.069923</td>\n",
       "      <td>0.995804</td>\n",
       "      <td>...</td>\n",
       "      <td>0.259394</td>\n",
       "      <td>0.182122</td>\n",
       "      <td>0.111455</td>\n",
       "      <td>0.027403</td>\n",
       "      <td>0.049822</td>\n",
       "      <td>0.007044</td>\n",
       "      <td>-9.528988</td>\n",
       "      <td>-15.622085</td>\n",
       "      <td>-13.025767</td>\n",
       "      <td>-21.522073</td>\n",
       "    </tr>\n",
       "    <tr>\n",
       "      <th>41706636</th>\n",
       "      <td>-144.368928</td>\n",
       "      <td>64.812943</td>\n",
       "      <td>5.889610</td>\n",
       "      <td>0.001075</td>\n",
       "      <td>0225</td>\n",
       "      <td>225</td>\n",
       "      <td>POINT (1592767.783 3196271.889)</td>\n",
       "      <td>617.117493</td>\n",
       "      <td>3.314979</td>\n",
       "      <td>0.766252</td>\n",
       "      <td>...</td>\n",
       "      <td>0.269559</td>\n",
       "      <td>0.225527</td>\n",
       "      <td>0.092341</td>\n",
       "      <td>0.031005</td>\n",
       "      <td>0.074877</td>\n",
       "      <td>0.011334</td>\n",
       "      <td>-10.346054</td>\n",
       "      <td>-15.085673</td>\n",
       "      <td>-11.256529</td>\n",
       "      <td>-19.456054</td>\n",
       "    </tr>\n",
       "  </tbody>\n",
       "</table>\n",
       "<p>170225 rows × 36 columns</p>\n",
       "</div>"
      ],
      "text/plain": [
       "                 lon        lat         AGB        SE tile_num  tile_num_int  \\\n",
       "287471      6.944713  58.303544  108.670335  0.001075     0010            10   \n",
       "287472      6.981278  58.207990   11.443054  0.001203     0010            10   \n",
       "287473      8.541175  58.509150   35.422381  0.001075     0010            10   \n",
       "287474      7.052336  58.575449   11.564917  0.001075     0010            10   \n",
       "287476      6.960767  58.100499   65.062633  0.008893     0010            10   \n",
       "...              ...        ...         ...       ...      ...           ...   \n",
       "41706462 -144.676529  64.134824    4.667318  0.001203     0225           225   \n",
       "41706464 -146.520936  62.933722   16.825646  0.001075     0225           225   \n",
       "41706494 -149.310157  65.035941    9.164867  0.001075     0225           225   \n",
       "41706627 -145.165420  65.271523    3.677342  0.001075     0225           225   \n",
       "41706636 -144.368928  64.812943    5.889610  0.001075     0225           225   \n",
       "\n",
       "                                  geometry   elevation      slope      tsri  \\\n",
       "287471    POINT (-2081273.860 9192083.093)   11.690205   6.911824  0.461431   \n",
       "287472    POINT (-2088845.237 9200057.707)  374.015564   6.466940  0.894134   \n",
       "287473    POINT (-2145725.372 9122392.534)  156.643097  20.723127  0.519634   \n",
       "287474    POINT (-2070030.441 9162839.792)  461.456512   8.078266  0.999326   \n",
       "287476    POINT (-2094346.573 9210942.104)   32.583660  11.026880  0.745768   \n",
       "...                                    ...         ...        ...       ...   \n",
       "41706462   POINT (1618791.092 3122708.153)  492.176392   5.915209  0.304363   \n",
       "41706464   POINT (1606545.747 2959984.641)  877.207458   9.359911  0.243640   \n",
       "41706494   POINT (1377758.348 3109174.742)   93.919228   0.711308  0.159242   \n",
       "41706627   POINT (1534777.694 3222575.196)  432.987274   3.069923  0.995804   \n",
       "41706636   POINT (1592767.783 3196271.889)  617.117493   3.314979  0.766252   \n",
       "\n",
       "          ...       tcg       tcw   vv_fall   vh_fall  vv_spring  vh_spring  \\\n",
       "287471    ...  0.219431  0.240048  0.123201  0.030401   0.106778   0.027224   \n",
       "287472    ...  0.272507  0.259743  0.101544  0.030397   0.117073   0.027667   \n",
       "287473    ...  0.165595  0.170754  0.157074  0.047012   0.175254   0.048996   \n",
       "287474    ...  0.282242  0.250962  0.109208  0.026812   0.092610   0.019654   \n",
       "287476    ...  0.322008  0.320757  0.208911  0.047254   0.159392   0.063567   \n",
       "...       ...       ...       ...       ...       ...        ...        ...   \n",
       "41706462  ...  0.277536  0.252923  0.157135  0.041806   0.087734   0.018979   \n",
       "41706464  ...  0.294354  0.254843  0.064984  0.013836   0.051199   0.007151   \n",
       "41706494  ...  0.276067  0.244414  0.119058  0.032951   0.088257   0.023042   \n",
       "41706627  ...  0.259394  0.182122  0.111455  0.027403   0.049822   0.007044   \n",
       "41706636  ...  0.269559  0.225527  0.092341  0.031005   0.074877   0.011334   \n",
       "\n",
       "          vv_fall_db  vh_fall_db  vv_spring_db  vh_spring_db  \n",
       "287471     -9.093846  -15.171074     -9.715164    -15.650456  \n",
       "287472     -9.933438  -15.171671     -9.315430    -15.580442  \n",
       "287473     -8.038956  -13.277913     -7.563322    -13.098364  \n",
       "287474     -9.617460  -15.716705    -10.333415    -17.065559  \n",
       "287476     -6.800391  -13.255622     -7.975332    -11.967664  \n",
       "...              ...         ...           ...           ...  \n",
       "41706462   -8.037276  -13.787599    -10.568332    -17.217365  \n",
       "41706464  -11.871930  -18.589745    -12.907392    -21.456090  \n",
       "41706494   -9.242422  -14.821351    -10.542484    -16.374708  \n",
       "41706627   -9.528988  -15.622085    -13.025767    -21.522073  \n",
       "41706636  -10.346054  -15.085673    -11.256529    -19.456054  \n",
       "\n",
       "[170225 rows x 36 columns]"
      ]
     },
     "execution_count": 40,
     "metadata": {},
     "output_type": "execute_result"
    }
   ],
   "source": []
  },
  {
   "cell_type": "code",
   "execution_count": null,
   "id": "80e2b260",
   "metadata": {},
   "outputs": [],
   "source": []
  }
 ],
 "metadata": {
  "kernelspec": {
   "display_name": "Python 3 (ipykernel)",
   "language": "python",
   "name": "python3"
  },
  "language_info": {
   "codemirror_mode": {
    "name": "ipython",
    "version": 3
   },
   "file_extension": ".py",
   "mimetype": "text/x-python",
   "name": "python",
   "nbconvert_exporter": "python",
   "pygments_lexer": "ipython3",
   "version": "3.7.8"
  }
 },
 "nbformat": 4,
 "nbformat_minor": 5
}
