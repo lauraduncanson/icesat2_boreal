{
 "cells": [
  {
   "cell_type": "markdown",
   "id": "bbedc393",
   "metadata": {},
   "source": [
    "# Create S1 RTC for Tindex (Super sites)"
   ]
  },
  {
   "cell_type": "markdown",
   "id": "6bbb0eb2",
   "metadata": {},
   "source": [
    "## Create GEE derived S1 RTC stacks for each vector grid cell"
   ]
  },
  {
   "cell_type": "markdown",
   "id": "7040c549",
   "metadata": {},
   "source": [
    "- S1 RTC are in UTM\n",
    "- Tindex is equal area above proj\n",
    "- Datasets are transformed to 4326 for cross-referencing (as with HLS code)"
   ]
  },
  {
   "cell_type": "code",
   "execution_count": 2,
   "id": "46998f79",
   "metadata": {},
   "outputs": [
    {
     "name": "stderr",
     "output_type": "stream",
     "text": [
      "/projects/.local/lib/python3.7/site-packages/geopandas/_compat.py:110: UserWarning: The Shapely GEOS version (3.8.0-CAPI-1.13.1 ) is incompatible with the GEOS version PyGEOS was compiled with (3.10.1-CAPI-1.16.0). Conversions between both will be slow.\n",
      "  shapely_geos_version, geos_capi_version_string\n"
     ]
    }
   ],
   "source": [
    "# import libraries\n",
    "import os\n",
    "import rasterio as rio\n",
    "import geopandas as gpd\n",
    "import pandas as pd\n",
    "from shapely.geometry import Polygon\n",
    "from shapely.geometry import box\n",
    "import folium\n",
    "from pyproj import Transformer\n",
    "from rio_tiler.io import COGReader\n",
    "from rasterio.windows import from_bounds\n",
    "import numpy as np\n",
    "import numpy.ma as ma\n",
    "from rasterio import enums\n",
    "from rasterio.io import MemoryFile\n",
    "from rasterio.crs import CRS\n",
    "from rasterio.vrt import WarpedVRT\n",
    "from rasterio.warp import array_bounds, calculate_default_transform\n",
    "from rio_cogeo.profiles import cog_profiles\n",
    "from rio_cogeo.cogeo import cog_translate\n",
    "import affine\n",
    "import glob"
   ]
  },
  {
   "cell_type": "markdown",
   "id": "cba1578c",
   "metadata": {},
   "source": [
    "#### Open the boreal tindex (modified to include a smaller number of tiles) and store some key properties"
   ]
  },
  {
   "cell_type": "code",
   "execution_count": 3,
   "id": "cb90f1bf",
   "metadata": {},
   "outputs": [
    {
     "name": "stdout",
     "output_type": "stream",
     "text": [
      "EPSG:4326\n"
     ]
    },
    {
     "data": {
      "text/plain": [
       "<matplotlib.axes._subplots.AxesSubplot at 0x7fb4546a4a10>"
      ]
     },
     "execution_count": 3,
     "metadata": {},
     "output_type": "execute_result"
    },
    {
     "data": {
      "image/png": "[encoded data removed]",
      "text/plain": [
       "<Figure size 432x288 with 1 Axes>"
      ]
     },
     "metadata": {
      "needs_background": "light"
     },
     "output_type": "display_data"
    }
   ],
   "source": [
    "# open the borel tindex\n",
    "tindex = '/projects/my-public-bucket/boreal_tiles_v003.gpkg'\n",
    "tind = gpd.read_file(tindex)\n",
    "#tind = tind.iloc[3008:3015]\n",
    "#tind.reset_index(inplace=True)\n",
    "\n",
    "\n",
    "tind_4326 = tind.to_crs(\"EPSG:4326\")\n",
    "in_crs = tind_4326.crs\n",
    "print(in_crs)\n",
    "out_crs = tind.crs\n",
    "#tind_4326.reset_index(inplace=True)\n",
    "tind.plot()"
   ]
  },
  {
   "cell_type": "markdown",
   "id": "208ff410",
   "metadata": {},
   "source": [
    "#### read in data per tile, reduce and write"
   ]
  },
  {
   "cell_type": "code",
   "execution_count": 4,
   "id": "aa8f61c6",
   "metadata": {},
   "outputs": [],
   "source": [
    "def read_cog(vrt_file, in_crs, bbox):\n",
    "    resolution = 30\n",
    "    width = 3000\n",
    "    height = 3000\n",
    "    with COGReader(vrt_file) as cog:\n",
    "        bounds_crs = in_crs\n",
    "        # set dst crs to be tindex\n",
    "        dst_crs = in_crs\n",
    "        # Do window read\n",
    "        img = cog.part(bbox, bounds_crs=bounds_crs, max_size=None, dst_crs=dst_crs, height=height, width=width)\n",
    "        # append data to list where there are some S1 values\n",
    "        # skips empty tiles where there is no S1 (or just nans)\n",
    "        return img.data\n",
    "        \n",
    "    "
   ]
  },
  {
   "cell_type": "code",
   "execution_count": 5,
   "id": "660e2731",
   "metadata": {},
   "outputs": [],
   "source": [
    "def write_out_cog(arr, outname, out_crs, out_bbox):\n",
    "    # set up write kwargs\n",
    "    src_profile = dict(\n",
    "        driver=\"GTiff\",\n",
    "        height=arr.shape[1],\n",
    "        width=arr.shape[2],\n",
    "        count=arr.shape[0],\n",
    "        dtype=arr.dtype,\n",
    "        crs=out_crs,\n",
    "        #set affine tform\n",
    "        #(res, 0, minx, 0, -res, maxy)\n",
    "        transform = affine.Affine(30, 0, out_bbox[0], 0, -30, out_bbox[3]),\n",
    "        compress='lzw',\n",
    "        nodata=0)\n",
    "\n",
    "    # write to disk\n",
    "    new_dataset = rio.open(outname, 'w', **src_profile)\n",
    "    new_dataset.write(arr)"
   ]
  },
  {
   "cell_type": "code",
   "execution_count": 6,
   "id": "df057f09",
   "metadata": {},
   "outputs": [
    {
     "name": "stdout",
     "output_type": "stream",
     "text": [
      "5195\n"
     ]
    }
   ],
   "source": [
    "vrt_file = '/projects/my-public-bucket/sentinel1_seasonal_comps/GEE/S1_RTC_GEE.vrt'\n",
    "outpath = '/projects/my-public-bucket/sentinel1_seasonal_comps/GEE/large_test_tiffs_tindex/'\n",
    "\n",
    "outfiles_list = glob.glob(outpath + '*')\n",
    "skip_nums = [41619,41807,41995,3540,3634,3728,3823,3916,4004]\n",
    "skip_list = [outfiles_list.append(os.path.join(outpath, f\"S1_RTC_{num}.txt\")) for num in skip_nums]\n",
    "\n",
    "print(len(outfiles_list))"
   ]
  },
  {
   "cell_type": "code",
   "execution_count": null,
   "id": "76227367",
   "metadata": {},
   "outputs": [
    {
     "name": "stderr",
     "output_type": "stream",
     "text": [
      "/opt/conda/lib/python3.7/site-packages/rio_tiler/io/cogeo.py:117: NoOverviewWarning: The dataset has no Overviews. rio-tiler performances might be impacted.\n",
      "  NoOverviewWarning,\n"
     ]
    },
    {
     "name": "stdout",
     "output_type": "stream",
     "text": [
      "/projects/my-public-bucket/sentinel1_seasonal_comps/GEE/large_test_tiffs_tindex/S1_RTC_2590.tif\n",
      "/projects/my-public-bucket/sentinel1_seasonal_comps/GEE/large_test_tiffs_tindex/S1_RTC_2591.tif\n",
      "/projects/my-public-bucket/sentinel1_seasonal_comps/GEE/large_test_tiffs_tindex/S1_RTC_2592.tif\n",
      "/projects/my-public-bucket/sentinel1_seasonal_comps/GEE/large_test_tiffs_tindex/S1_RTC_2593.tif\n",
      "/projects/my-public-bucket/sentinel1_seasonal_comps/GEE/large_test_tiffs_tindex/S1_RTC_2594.tif\n",
      "/projects/my-public-bucket/sentinel1_seasonal_comps/GEE/large_test_tiffs_tindex/S1_RTC_2595.tif\n",
      "/projects/my-public-bucket/sentinel1_seasonal_comps/GEE/large_test_tiffs_tindex/S1_RTC_2596.tif\n",
      "/projects/my-public-bucket/sentinel1_seasonal_comps/GEE/large_test_tiffs_tindex/S1_RTC_2597.tif\n",
      "/projects/my-public-bucket/sentinel1_seasonal_comps/GEE/large_test_tiffs_tindex/S1_RTC_2598.tif\n",
      "/projects/my-public-bucket/sentinel1_seasonal_comps/GEE/large_test_tiffs_tindex/S1_RTC_2599.tif\n",
      "/projects/my-public-bucket/sentinel1_seasonal_comps/GEE/large_test_tiffs_tindex/S1_RTC_2600.tif\n",
      "/projects/my-public-bucket/sentinel1_seasonal_comps/GEE/large_test_tiffs_tindex/S1_RTC_2669.tif\n",
      "/projects/my-public-bucket/sentinel1_seasonal_comps/GEE/large_test_tiffs_tindex/S1_RTC_2670.tif\n",
      "/projects/my-public-bucket/sentinel1_seasonal_comps/GEE/large_test_tiffs_tindex/S1_RTC_2671.tif\n",
      "/projects/my-public-bucket/sentinel1_seasonal_comps/GEE/large_test_tiffs_tindex/S1_RTC_2672.tif\n",
      "/projects/my-public-bucket/sentinel1_seasonal_comps/GEE/large_test_tiffs_tindex/S1_RTC_2673.tif\n",
      "/projects/my-public-bucket/sentinel1_seasonal_comps/GEE/large_test_tiffs_tindex/S1_RTC_2674.tif\n",
      "/projects/my-public-bucket/sentinel1_seasonal_comps/GEE/large_test_tiffs_tindex/S1_RTC_2675.tif\n",
      "/projects/my-public-bucket/sentinel1_seasonal_comps/GEE/large_test_tiffs_tindex/S1_RTC_2676.tif\n",
      "/projects/my-public-bucket/sentinel1_seasonal_comps/GEE/large_test_tiffs_tindex/S1_RTC_2677.tif\n",
      "/projects/my-public-bucket/sentinel1_seasonal_comps/GEE/large_test_tiffs_tindex/S1_RTC_2678.tif\n",
      "/projects/my-public-bucket/sentinel1_seasonal_comps/GEE/large_test_tiffs_tindex/S1_RTC_2679.tif\n",
      "/projects/my-public-bucket/sentinel1_seasonal_comps/GEE/large_test_tiffs_tindex/S1_RTC_2680.tif\n",
      "/projects/my-public-bucket/sentinel1_seasonal_comps/GEE/large_test_tiffs_tindex/S1_RTC_2750.tif\n",
      "/projects/my-public-bucket/sentinel1_seasonal_comps/GEE/large_test_tiffs_tindex/S1_RTC_2751.tif\n",
      "/projects/my-public-bucket/sentinel1_seasonal_comps/GEE/large_test_tiffs_tindex/S1_RTC_2752.tif\n",
      "/projects/my-public-bucket/sentinel1_seasonal_comps/GEE/large_test_tiffs_tindex/S1_RTC_2753.tif\n",
      "/projects/my-public-bucket/sentinel1_seasonal_comps/GEE/large_test_tiffs_tindex/S1_RTC_2754.tif\n",
      "/projects/my-public-bucket/sentinel1_seasonal_comps/GEE/large_test_tiffs_tindex/S1_RTC_2755.tif\n",
      "/projects/my-public-bucket/sentinel1_seasonal_comps/GEE/large_test_tiffs_tindex/S1_RTC_2756.tif\n",
      "/projects/my-public-bucket/sentinel1_seasonal_comps/GEE/large_test_tiffs_tindex/S1_RTC_2757.tif\n",
      "/projects/my-public-bucket/sentinel1_seasonal_comps/GEE/large_test_tiffs_tindex/S1_RTC_2758.tif\n",
      "/projects/my-public-bucket/sentinel1_seasonal_comps/GEE/large_test_tiffs_tindex/S1_RTC_2759.tif\n",
      "/projects/my-public-bucket/sentinel1_seasonal_comps/GEE/large_test_tiffs_tindex/S1_RTC_2760.tif\n"
     ]
    }
   ],
   "source": [
    "for index, rows in tind_4326.iterrows():\n",
    "    tile_id = tind_4326.iloc[index]['tile_num']\n",
    "    name = f'S1_RTC_{str(tile_id)}.tif'\n",
    "    outtxt = os.path.join(outpath, name.replace('.tif','.txt'))\n",
    "    outfile = os.path.join(outpath, name)\n",
    "    if outtxt in outfiles_list:\n",
    "        pass\n",
    "    elif outfile in outfiles_list:\n",
    "        pass\n",
    "    else:\n",
    "        bbox = tind_4326.iloc[index]['geometry'].bounds\n",
    "        out_bbox = tind.iloc[index]['geometry'].bounds\n",
    "        img_data = read_cog(vrt_file, in_crs, bbox)\n",
    "        if np.amax(img_data)==0.:\n",
    "            print(outtxt)\n",
    "            txtfile = open(outtxt, 'w+')\n",
    "            txtfile.close()\n",
    "        else:\n",
    "            print(outfile)\n",
    "            write_out_cog(img_data, outfile, out_crs, out_bbox)\n"
   ]
  },
  {
   "cell_type": "markdown",
   "id": "3ba8efd9",
   "metadata": {},
   "source": [
    "## Example: running `build_stack`"
   ]
  },
  {
   "cell_type": "code",
   "execution_count": 14,
   "id": "7a02c620",
   "metadata": {},
   "outputs": [
    {
     "data": {
      "text/html": [
       "<div>\n",
       "<style scoped>\n",
       "    .dataframe tbody tr th:only-of-type {\n",
       "        vertical-align: middle;\n",
       "    }\n",
       "\n",
       "    .dataframe tbody tr th {\n",
       "        vertical-align: top;\n",
       "    }\n",
       "\n",
       "    .dataframe thead th {\n",
       "        text-align: right;\n",
       "    }\n",
       "</style>\n",
       "<table border=\"1\" class=\"dataframe\">\n",
       "  <thead>\n",
       "    <tr style=\"text-align: right;\">\n",
       "      <th></th>\n",
       "      <th>tile_num</th>\n",
       "      <th>tile_version</th>\n",
       "      <th>tile_group</th>\n",
       "      <th>map_version</th>\n",
       "      <th>tile_number</th>\n",
       "      <th>geometry</th>\n",
       "    </tr>\n",
       "  </thead>\n",
       "  <tbody>\n",
       "    <tr>\n",
       "      <th>0</th>\n",
       "      <td>1</td>\n",
       "      <td>version 1</td>\n",
       "      <td>eurasia west</td>\n",
       "      <td>None</td>\n",
       "      <td>1</td>\n",
       "      <td>POLYGON ((-2151478.000 9423304.000, -2061478.0...</td>\n",
       "    </tr>\n",
       "    <tr>\n",
       "      <th>1</th>\n",
       "      <td>2</td>\n",
       "      <td>version 1</td>\n",
       "      <td>eurasia west</td>\n",
       "      <td>None</td>\n",
       "      <td>2</td>\n",
       "      <td>POLYGON ((-2061478.000 9423304.000, -1971478.0...</td>\n",
       "    </tr>\n",
       "    <tr>\n",
       "      <th>2</th>\n",
       "      <td>3</td>\n",
       "      <td>version 1</td>\n",
       "      <td>eurasia west</td>\n",
       "      <td>None</td>\n",
       "      <td>3</td>\n",
       "      <td>POLYGON ((-1971478.000 9423304.000, -1881478.0...</td>\n",
       "    </tr>\n",
       "    <tr>\n",
       "      <th>3</th>\n",
       "      <td>4</td>\n",
       "      <td>version 1</td>\n",
       "      <td>eurasia west</td>\n",
       "      <td>None</td>\n",
       "      <td>4</td>\n",
       "      <td>POLYGON ((-2241478.000 9333304.000, -2151478.0...</td>\n",
       "    </tr>\n",
       "    <tr>\n",
       "      <th>4</th>\n",
       "      <td>5</td>\n",
       "      <td>version 1</td>\n",
       "      <td>eurasia west</td>\n",
       "      <td>None</td>\n",
       "      <td>5</td>\n",
       "      <td>POLYGON ((-2151478.000 9333304.000, -2061478.0...</td>\n",
       "    </tr>\n",
       "  </tbody>\n",
       "</table>\n",
       "</div>"
      ],
      "text/plain": [
       "   tile_num tile_version    tile_group map_version  tile_number  \\\n",
       "0         1    version 1  eurasia west        None            1   \n",
       "1         2    version 1  eurasia west        None            2   \n",
       "2         3    version 1  eurasia west        None            3   \n",
       "3         4    version 1  eurasia west        None            4   \n",
       "4         5    version 1  eurasia west        None            5   \n",
       "\n",
       "                                            geometry  \n",
       "0  POLYGON ((-2151478.000 9423304.000, -2061478.0...  \n",
       "1  POLYGON ((-2061478.000 9423304.000, -1971478.0...  \n",
       "2  POLYGON ((-1971478.000 9423304.000, -1881478.0...  \n",
       "3  POLYGON ((-2241478.000 9333304.000, -2151478.0...  \n",
       "4  POLYGON ((-2151478.000 9333304.000, -2061478.0...  "
      ]
     },
     "execution_count": 14,
     "metadata": {},
     "output_type": "execute_result"
    }
   ],
   "source": [
    "tind.head()"
   ]
  },
  {
   "cell_type": "markdown",
   "id": "804a86a2",
   "metadata": {},
   "source": [
    "##### Example of the footprints of the 'covariate' tiles\n",
    "This will be a footprints of the SAR raster files that we want to return as rasters packed into out tiles extents"
   ]
  },
  {
   "cell_type": "code",
   "execution_count": 15,
   "id": "96835f5a",
   "metadata": {},
   "outputs": [],
   "source": [
    "def get_geom_from_datasetmask(rio_dataset, GET_ONLY_DATASETMASK=True):\n",
    "    import rasterio\n",
    "    if GET_ONLY_DATASETMASK:\n",
    "        results = (\n",
    "                    {'properties': {'raster_value': v}, 'geometry': s} for i, (s, v) in enumerate(rasterio.features.shapes(rio_dataset.dataset_mask(), transform=rio_dataset.transform))\n",
    "                )\n",
    "    else:\n",
    "        ma = np.ma.fix_invalid(rio_dataset.read())\n",
    "        results = (\n",
    "                    {'properties': {'raster_value': v}, 'geometry': s} for i, (s, v) in enumerate(rasterio.features.shapes(rio_dataset.read_masks(), transform=rio_dataset.transform))\n",
    "                    #{'properties': {'raster_value': v}, 'geometry': s} for i, (s, v) in enumerate(rasterio.features.shapes(ma, transform=rio_dataset.transform))\n",
    "                )\n",
    "        \n",
    "    geom = list(results)\n",
    "\n",
    "    #return(geom, rio_dataset.crs)\n",
    "    return(geom)\n",
    "\n",
    "def raster_footprint(r_fn, DO_DATAMASK=True, GET_ONLY_DATASETMASK=True, R_READ_MODE='r+', MANY_CRS=False, DISSOLVE_FIELD='file'):\n",
    "    import rasterio\n",
    "    try:\n",
    "        with rasterio.open(r_fn, mode=R_READ_MODE) as dataset:\n",
    "\n",
    "            if DO_DATAMASK:\n",
    "                # TODO: Fix this. This flag does nothing right now\n",
    "                if GET_ONLY_DATASETMASK:\n",
    "                    job_string = 'valid data mask (high memory)'\n",
    "                else:\n",
    "                    job_string = 'valid data mask + the nodata (most memory)'\n",
    "                #geom, dataset.crs = get_geom_from_datasetmask(dataset)\n",
    "                geom = get_geom_from_datasetmask(dataset, GET_ONLY_DATASETMASK=GET_ONLY_DATASETMASK)\n",
    "\n",
    "            else:\n",
    "                job_string = 'raster image bounds (low memory)'\n",
    "                geom = get_geom_from_bounds(dataset)\n",
    "            \n",
    "            # Dissolve so you dont return 1 polygon for each unique raster value...\n",
    "            footprints_gdf  = gpd.GeoDataFrame.from_features(geom, crs=dataset.crs)\n",
    "            \n",
    "            #print(footprints_gdf.crs.axis_info[0].unit_name)\n",
    "            #print(dataset.crs)\n",
    "\n",
    "            footprints_gdf['path'], footprints_gdf['file'] = os.path.split(r_fn)\n",
    "            footprints_gdf['local_path'] = r_fn\n",
    "            if DISSOLVE_FIELD in footprints_gdf.columns:\n",
    "                footprints_gdf = footprints_gdf.dissolve(by=DISSOLVE_FIELD, as_index=False)\n",
    "                footprints_gdf = footprints_gdf.drop(columns=['raster_value'])\n",
    "            else:\n",
    "                print(f\"Can't dissolve by {DISSOLVE_FIELD}. Field not found.\")\n",
    "\n",
    "            if False:\n",
    "                print(f'Getting {job_string} for: {os.path.basename(r_fn)} ...')\n",
    "\n",
    "            if 'm' in footprints_gdf.crs.axis_info[0].unit_name:\n",
    "                # Get area\n",
    "                footprints_gdf[\"area_km2\"] = footprints_gdf['geometry'].area/1e6\n",
    "                footprints_gdf[\"area_ha\"] = footprints_gdf['geometry'].area/1e4\n",
    "\n",
    "            if MANY_CRS:\n",
    "                #print('There are multiple CRSs in this set, so reprojecting everything to 4326...')\n",
    "                footprints_gdf = footprints_gdf.to_crs(4326)\n",
    "\n",
    "            return footprints_gdf\n",
    "    except Exception as e: \n",
    "        print(e)\n",
    "        print(r_fn)\n",
    "    \n",
    "def build_footprint_db(gdf_list, TO_GCS=True, WRITE_GPKG=True, OUT_F_NAME='footprints.gpkg', OUT_LYR_NAME='footprints', DROP_DUPLICATES=True):\n",
    "    \n",
    "    print(\"Building GDF from list...\")\n",
    "    footprints_gdf = gpd.GeoDataFrame( pd.concat( gdf_list, ignore_index=True) )\n",
    "    \n",
    "    if DROP_DUPLICATES:\n",
    "        footprints_gdf = footprints_gdf.drop_duplicates()\n",
    "    \n",
    "    if TO_GCS:\n",
    "        print(\"Converting to GCS...\")\n",
    "        footprints_gdf = footprints_gdf.to_crs({'init': 'epsg:4326'})\n",
    "        \n",
    "    if WRITE_GPKG:\n",
    "        footprints_gdf.to_file(OUT_F_NAME, driver=\"GPKG\", layer=OUT_LYR_NAME)\n",
    "        print(f\"Wrote out spatial footprints to {OUT_F_NAME}\")\n",
    "        \n",
    "    return footprints_gdf\n",
    "\n",
    "def local_to_s3(url, user = 'nathanmthomas', type='public'):\n",
    "    ''' A Function to convert local paths to s3 urls'''\n",
    "    if type == 'public':\n",
    "        replacement_str = f's3://maap-ops-workspace/shared/{user}'\n",
    "    else:\n",
    "        replacement_str = f's3://maap-ops-workspace/{user}'\n",
    "    return url.replace(f'/projects/my-{type}-bucket', replacement_str)"
   ]
  },
  {
   "cell_type": "markdown",
   "id": "74cd4631",
   "metadata": {},
   "source": [
    "### Building covariate (SAR) data mask footprints"
   ]
  },
  {
   "cell_type": "code",
   "execution_count": 16,
   "id": "d7f7fd06",
   "metadata": {},
   "outputs": [
    {
     "data": {
      "text/plain": [
       "['/projects/my-public-bucket/sentinel1_seasonal_comps/Alaska_Fall/Alaska_fid_1_p94_f210_Fall_vh_median.tif',\n",
       " '/projects/my-public-bucket/sentinel1_seasonal_comps/Alaska_Fall/Alaska_fid_1_p94_f210_Fall_vv_median.tif']"
      ]
     },
     "execution_count": 16,
     "metadata": {},
     "output_type": "execute_result"
    }
   ],
   "source": [
    "import glob, os\n",
    "import pandas as pd\n",
    "\n",
    "fn_sar_list_ak = glob.glob('/projects/my-public-bucket/sentinel1_seasonal_comps/Alaska*/*tif')\n",
    "fn_sar_list_norway = glob.glob('/projects/my-public-bucket/sentinel1_seasonal_comps/Norway*/*tif')\n",
    "fn_sar_list = fn_sar_list_ak + fn_sar_list_norway\n",
    "fn_sar_list[0:2]"
   ]
  },
  {
   "cell_type": "code",
   "execution_count": 17,
   "id": "ab438ac7",
   "metadata": {},
   "outputs": [
    {
     "name": "stdout",
     "output_type": "stream",
     "text": [
      "Building GDF from list...\n"
     ]
    },
    {
     "data": {
      "text/plain": [
       "<matplotlib.axes._subplots.AxesSubplot at 0x7fb1681391d0>"
      ]
     },
     "execution_count": 17,
     "metadata": {},
     "output_type": "execute_result"
    },
    {
     "data": {
      "image/png": "[encoded data removed]",
      "text/plain": [
       "<Figure size 432x288 with 1 Axes>"
      ]
     },
     "metadata": {
      "needs_background": "light"
     },
     "output_type": "display_data"
    }
   ],
   "source": [
    "if False:\n",
    "    out_foot_fn = '/projects/my-public-bucket/sentinel1_seasonal_comps/footprints_sentinel1_seasonal.gpkg'\n",
    "    f_gdf_lst = [raster_footprint(r_fn, DO_DATAMASK=True, GET_ONLY_DATASETMASK=False, R_READ_MODE='r', MANY_CRS=True, DISSOLVE_FIELD='file') for r_fn in fn_sar_list]\n",
    "    footprint_gdf = build_footprint_db(f_gdf_lst, TO_GCS=False, WRITE_GPKG=False, OUT_F_NAME=out_foot_fn, OUT_LYR_NAME='s1')\n",
    "    footprint_gdf.boundary.plot()\n",
    "    \n",
    "    footprint_gdf['s3_path'] = [local_to_s3(f, user='nathanmthomas') for f in footprint_gdf['local_path'].tolist()]\n",
    "    footprint_gdf.to_file(out_foot_fn, driver='GPKG')\n",
    "    footprint_gdf.head()"
   ]
  },
  {
   "cell_type": "code",
   "execution_count": 18,
   "id": "0cd05fb1",
   "metadata": {},
   "outputs": [
    {
     "data": {
      "text/html": [
       "<div>\n",
       "<style scoped>\n",
       "    .dataframe tbody tr th:only-of-type {\n",
       "        vertical-align: middle;\n",
       "    }\n",
       "\n",
       "    .dataframe tbody tr th {\n",
       "        vertical-align: top;\n",
       "    }\n",
       "\n",
       "    .dataframe thead th {\n",
       "        text-align: right;\n",
       "    }\n",
       "</style>\n",
       "<table border=\"1\" class=\"dataframe\">\n",
       "  <thead>\n",
       "    <tr style=\"text-align: right;\">\n",
       "      <th></th>\n",
       "      <th>file</th>\n",
       "      <th>geometry</th>\n",
       "      <th>path</th>\n",
       "      <th>local_path</th>\n",
       "      <th>area_km2</th>\n",
       "      <th>area_ha</th>\n",
       "      <th>s3_path</th>\n",
       "    </tr>\n",
       "  </thead>\n",
       "  <tbody>\n",
       "    <tr>\n",
       "      <th>0</th>\n",
       "      <td>Alaska_fid_1_p94_f210_Fall_vh_median.tif</td>\n",
       "      <td>POLYGON ((-150.26604 65.97773, -150.02450 63.9...</td>\n",
       "      <td>/projects/my-public-bucket/sentinel1_seasonal_...</td>\n",
       "      <td>/projects/my-public-bucket/sentinel1_seasonal_...</td>\n",
       "      <td>66113.2800</td>\n",
       "      <td>6611328.00</td>\n",
       "      <td>s3://maap-ops-workspace/shared/nathanmthomas/s...</td>\n",
       "    </tr>\n",
       "    <tr>\n",
       "      <th>1</th>\n",
       "      <td>Alaska_fid_1_p94_f210_Fall_vv_median.tif</td>\n",
       "      <td>POLYGON ((-150.26604 65.97773, -150.02450 63.9...</td>\n",
       "      <td>/projects/my-public-bucket/sentinel1_seasonal_...</td>\n",
       "      <td>/projects/my-public-bucket/sentinel1_seasonal_...</td>\n",
       "      <td>66113.2800</td>\n",
       "      <td>6611328.00</td>\n",
       "      <td>s3://maap-ops-workspace/shared/nathanmthomas/s...</td>\n",
       "    </tr>\n",
       "    <tr>\n",
       "      <th>2</th>\n",
       "      <td>Alaska_fid_2_p94_f205_Fall_vh_median.tif</td>\n",
       "      <td>POLYGON ((-149.39174 64.53082, -149.22446 62.4...</td>\n",
       "      <td>/projects/my-public-bucket/sentinel1_seasonal_...</td>\n",
       "      <td>/projects/my-public-bucket/sentinel1_seasonal_...</td>\n",
       "      <td>67143.1995</td>\n",
       "      <td>6714319.95</td>\n",
       "      <td>s3://maap-ops-workspace/shared/nathanmthomas/s...</td>\n",
       "    </tr>\n",
       "    <tr>\n",
       "      <th>3</th>\n",
       "      <td>Alaska_fid_2_p94_f205_Fall_vv_median.tif</td>\n",
       "      <td>POLYGON ((-149.39174 64.53082, -149.22446 62.4...</td>\n",
       "      <td>/projects/my-public-bucket/sentinel1_seasonal_...</td>\n",
       "      <td>/projects/my-public-bucket/sentinel1_seasonal_...</td>\n",
       "      <td>67143.1995</td>\n",
       "      <td>6714319.95</td>\n",
       "      <td>s3://maap-ops-workspace/shared/nathanmthomas/s...</td>\n",
       "    </tr>\n",
       "    <tr>\n",
       "      <th>4</th>\n",
       "      <td>Alaska_fid_3_p131_f378_Fall_vh_median.tif</td>\n",
       "      <td>POLYGON ((-153.17586 65.17088, -153.16378 63.1...</td>\n",
       "      <td>/projects/my-public-bucket/sentinel1_seasonal_...</td>\n",
       "      <td>/projects/my-public-bucket/sentinel1_seasonal_...</td>\n",
       "      <td>62302.0680</td>\n",
       "      <td>6230206.80</td>\n",
       "      <td>s3://maap-ops-workspace/shared/nathanmthomas/s...</td>\n",
       "    </tr>\n",
       "  </tbody>\n",
       "</table>\n",
       "</div>"
      ],
      "text/plain": [
       "                                        file  \\\n",
       "0   Alaska_fid_1_p94_f210_Fall_vh_median.tif   \n",
       "1   Alaska_fid_1_p94_f210_Fall_vv_median.tif   \n",
       "2   Alaska_fid_2_p94_f205_Fall_vh_median.tif   \n",
       "3   Alaska_fid_2_p94_f205_Fall_vv_median.tif   \n",
       "4  Alaska_fid_3_p131_f378_Fall_vh_median.tif   \n",
       "\n",
       "                                            geometry  \\\n",
       "0  POLYGON ((-150.26604 65.97773, -150.02450 63.9...   \n",
       "1  POLYGON ((-150.26604 65.97773, -150.02450 63.9...   \n",
       "2  POLYGON ((-149.39174 64.53082, -149.22446 62.4...   \n",
       "3  POLYGON ((-149.39174 64.53082, -149.22446 62.4...   \n",
       "4  POLYGON ((-153.17586 65.17088, -153.16378 63.1...   \n",
       "\n",
       "                                                path  \\\n",
       "0  /projects/my-public-bucket/sentinel1_seasonal_...   \n",
       "1  /projects/my-public-bucket/sentinel1_seasonal_...   \n",
       "2  /projects/my-public-bucket/sentinel1_seasonal_...   \n",
       "3  /projects/my-public-bucket/sentinel1_seasonal_...   \n",
       "4  /projects/my-public-bucket/sentinel1_seasonal_...   \n",
       "\n",
       "                                          local_path    area_km2     area_ha  \\\n",
       "0  /projects/my-public-bucket/sentinel1_seasonal_...  66113.2800  6611328.00   \n",
       "1  /projects/my-public-bucket/sentinel1_seasonal_...  66113.2800  6611328.00   \n",
       "2  /projects/my-public-bucket/sentinel1_seasonal_...  67143.1995  6714319.95   \n",
       "3  /projects/my-public-bucket/sentinel1_seasonal_...  67143.1995  6714319.95   \n",
       "4  /projects/my-public-bucket/sentinel1_seasonal_...  62302.0680  6230206.80   \n",
       "\n",
       "                                             s3_path  \n",
       "0  s3://maap-ops-workspace/shared/nathanmthomas/s...  \n",
       "1  s3://maap-ops-workspace/shared/nathanmthomas/s...  \n",
       "2  s3://maap-ops-workspace/shared/nathanmthomas/s...  \n",
       "3  s3://maap-ops-workspace/shared/nathanmthomas/s...  \n",
       "4  s3://maap-ops-workspace/shared/nathanmthomas/s...  "
      ]
     },
     "execution_count": 18,
     "metadata": {},
     "output_type": "execute_result"
    }
   ],
   "source": [
    "footprint_gdf['s3_path'] = [local_to_s3(f, user='nathanmthomas') for f in footprint_gdf['local_path'].tolist()]\n",
    "footprint_gdf.to_file(out_foot_fn, driver='GPKG')\n",
    "footprint_gdf.head()"
   ]
  },
  {
   "cell_type": "code",
   "execution_count": 40,
   "id": "f4974bd1",
   "metadata": {},
   "outputs": [],
   "source": [
    "# covar_foot_index = gpd.read_file('/projects/my-public-bucket/DPS_tile_lists/HT/winter2023/map_boreal_2022_rh_ground_v1/HT_tindex_master.json')\n",
    "# covar_foot_index.head()"
   ]
  },
  {
   "cell_type": "code",
   "execution_count": 19,
   "id": "fdc3389e",
   "metadata": {},
   "outputs": [],
   "source": [
    "TILE_NUM = 3553"
   ]
  },
  {
   "cell_type": "code",
   "execution_count": 20,
   "id": "16d5e6ea",
   "metadata": {},
   "outputs": [],
   "source": [
    "BUILD_STACK_DICT_LIST = [\n",
    "        {\n",
    "            'INDEX_FN': '/projects/shared-buckets/nathanmthomas/boreal_tiles_v003.gpkg',#'/projects/my-public-bucket/sentinel1_seasonal_comps/Tindex/boreal_tiles_v003_S1RTC.gpkg',\n",
    "            'ID_COL_NAME':'tile_num',\n",
    "            'TILE_NUM':TILE_NUM,\n",
    "            'INDEX_LYR':'boreal_tiles_v003',\n",
    "            # AGB data is accessed\n",
    "            # This needs to be correctly in 4326 - \n",
    "            'RASTER_NAME': 's1',\n",
    "            'COVAR_TILE_FN': out_foot_fn,\n",
    "            'IN_COVAR_S3_COL': 's3_path',\n",
    "            'NODATA_VAL': -9999,\n",
    "            'OUTPUT_CLIP_COG_FN':'/projects/my-public-bucket/sentinel1_seasonal_comps/out_build_stack',\n",
    "            'CREDENTIALS_FN': None\n",
    "        }\n",
    "    ]\n"
   ]
  },
  {
   "cell_type": "code",
   "execution_count": 21,
   "id": "f3ed9db4",
   "metadata": {},
   "outputs": [
    {
     "data": {
      "text/plain": [
       "{'INDEX_FN': '/projects/shared-buckets/nathanmthomas/boreal_tiles_v003.gpkg',\n",
       " 'ID_COL_NAME': 'tile_num',\n",
       " 'TILE_NUM': 3553,\n",
       " 'INDEX_LYR': 'boreal_tiles_v003',\n",
       " 'RASTER_NAME': 's1',\n",
       " 'COVAR_TILE_FN': '/projects/my-public-bucket/sentinel1_seasonal_comps/footprints_sentinel1_seasonal.gpkg',\n",
       " 'IN_COVAR_S3_COL': 's3_path',\n",
       " 'NODATA_VAL': -9999,\n",
       " 'OUTPUT_CLIP_COG_FN': '/projects/my-public-bucket/sentinel1_seasonal_comps/out_build_stack',\n",
       " 'CREDENTIALS_FN': None}"
      ]
     },
     "execution_count": 21,
     "metadata": {},
     "output_type": "execute_result"
    }
   ],
   "source": [
    "BUILD_STACK_DICT = BUILD_STACK_DICT_LIST[0]\n",
    "BUILD_STACK_DICT"
   ]
  },
  {
   "cell_type": "code",
   "execution_count": 22,
   "id": "9dff6f0a",
   "metadata": {},
   "outputs": [],
   "source": [
    "import sys\n",
    "sys.path.append('/projects/Developer/icesat2_boreal/lib')\n",
    "from build_stack import *\n",
    "def run_build_stack():\n",
    "        build_stack_(\n",
    "            stack_tile_fn = BUILD_STACK_DICT['INDEX_FN'], \n",
    "            in_tile_id_col = BUILD_STACK_DICT['ID_COL_NAME'], \n",
    "            stack_tile_id = BUILD_STACK_DICT['TILE_NUM'],\n",
    "            tile_buffer_m = 0, \n",
    "            stack_tile_layer = BUILD_STACK_DICT['INDEX_LYR'],\n",
    "            covar_tile_fn = BUILD_STACK_DICT['COVAR_TILE_FN'],\n",
    "            in_covar_s3_col = BUILD_STACK_DICT['IN_COVAR_S3_COL'], \n",
    "            res = 30, \n",
    "            input_nodata_value = BUILD_STACK_DICT['NODATA_VAL'],\n",
    "            tmp_out_path = '/projects/tmp', \n",
    "            covar_src_name = BUILD_STACK_DICT['RASTER_NAME'],\n",
    "            clip = True, \n",
    "            topo_off = True, \n",
    "            output_dir = BUILD_STACK_DICT['OUTPUT_CLIP_COG_FN'],\n",
    "            height = None,\n",
    "            width = None\n",
    "           )\n"
   ]
  },
  {
   "cell_type": "code",
   "execution_count": 23,
   "id": "a1a30a44",
   "metadata": {},
   "outputs": [
    {
     "name": "stdout",
     "output_type": "stream",
     "text": [
      "The covariate's filename(s) intersecting the 0 m buffered bbox for tile id 3553:\n",
      " s3://maap-ops-workspace/shared/nathanmthomas/sentinel1_seasonal_comps/Alaska_Fall/Alaska_fid_1_p94_f210_Fall_vh_median.tif\n",
      "s3://maap-ops-workspace/shared/nathanmthomas/sentinel1_seasonal_comps/Alaska_Fall/Alaska_fid_1_p94_f210_Fall_vv_median.tif\n",
      "s3://maap-ops-workspace/shared/nathanmthomas/sentinel1_seasonal_comps/Alaska_Fall/Alaska_fid_2_p94_f205_Fall_vh_median.tif\n",
      "s3://maap-ops-workspace/shared/nathanmthomas/sentinel1_seasonal_comps/Alaska_Fall/Alaska_fid_2_p94_f205_Fall_vv_median.tif\n",
      "s3://maap-ops-workspace/shared/nathanmthomas/sentinel1_seasonal_comps/Alaska_Fall/Alaska_fid_3_p131_f378_Fall_vh_median.tif\n",
      "s3://maap-ops-workspace/shared/nathanmthomas/sentinel1_seasonal_comps/Alaska_Fall/Alaska_fid_3_p131_f378_Fall_vv_median.tif\n",
      "s3://maap-ops-workspace/shared/nathanmthomas/sentinel1_seasonal_comps/Alaska_Spring/Alaska_fid_1_p94_f210_Spring_vh_median.tif\n",
      "s3://maap-ops-workspace/shared/nathanmthomas/sentinel1_seasonal_comps/Alaska_Spring/Alaska_fid_1_p94_f210_Spring_vv_median.tif\n",
      "s3://maap-ops-workspace/shared/nathanmthomas/sentinel1_seasonal_comps/Alaska_Spring/Alaska_fid_2_p94_f205_Spring_vh_median.tif\n",
      "s3://maap-ops-workspace/shared/nathanmthomas/sentinel1_seasonal_comps/Alaska_Spring/Alaska_fid_2_p94_f205_Spring_vv_median.tif\n",
      "s3://maap-ops-workspace/shared/nathanmthomas/sentinel1_seasonal_comps/Alaska_Spring/Alaska_fid_3_p131_f378_Spring_vh_median.tif\n",
      "s3://maap-ops-workspace/shared/nathanmthomas/sentinel1_seasonal_comps/Alaska_Spring/Alaska_fid_3_p131_f378_Spring_vv_median.tif\n",
      "in_bbox: [1448521.9999999953, 2943304.0000000093, 1538521.9999999953, 3033304.0000000093]\n",
      "Getting output height and width from buffered (buffer=0) original tile geometry...\n",
      "3000 x 3000\n"
     ]
    },
    {
     "name": "stderr",
     "output_type": "stream",
     "text": [
      "/projects/.local/lib/python3.7/site-packages/rio_tiler/io/cogeo.py:117: NoOverviewWarning: The dataset has no Overviews. rio-tiler performances might be impacted.\n",
      "  NoOverviewWarning,\n",
      "/projects/Developer/icesat2_boreal/lib/build_stack.py:162: RasterioDeprecationWarning: Source dataset should be opened in read-only mode. Use of datasets opened in modes other than 'r' will be disallowed in a future version.\n",
      "  input_nodata_value=input_nodata_value\n",
      "Reading input: <open WarpedVRT name='WarpedVRT(/vsimem/a3471564-a2f2-48a3-8713-6ee1bcae49dd/a3471564-a2f2-48a3-8713-6ee1bcae49dd.tif)' mode='r'>\n"
     ]
    },
    {
     "name": "stdout",
     "output_type": "stream",
     "text": [
      "Writing stack as cloud-optimized geotiff: /projects/my-public-bucket/sentinel1_seasonal_comps/out_build_stack/s1_3553_cog.tif\n",
      "Clipping to feature polygon...\n",
      "Orig stack shape:\t\t (1, 3000, 3000)\n",
      "Output resolution:\t\t (30, 30)\n",
      "Writing img to memory...\n",
      "{'driver': 'VRT', 'dtype': 'float32', 'nodata': -9999, 'width': 3000, 'height': 3000, 'count': 1, 'crs': CRS.from_wkt('PROJCS[\"unnamed\",GEOGCS[\"GRS 1980(IUGG, 1980)\",DATUM[\"unknown\",SPHEROID[\"GRS80\",6378137,298.257222101],TOWGS84[0,0,0,0,0,0,0]],PRIMEM[\"Greenwich\",0],UNIT[\"degree\",0.0174532925199433]],PROJECTION[\"Albers_Conic_Equal_Area\"],PARAMETER[\"standard_parallel_1\",50],PARAMETER[\"standard_parallel_2\",70],PARAMETER[\"latitude_of_center\",40],PARAMETER[\"longitude_of_center\",180],PARAMETER[\"false_easting\",0],PARAMETER[\"false_northing\",0],UNIT[\"Meter\",1],AXIS[\"Easting\",EAST],AXIS[\"Northing\",NORTH]]'), 'transform': Affine(30.0, 0.0, 1448521.9999999953,\n",
      "       0.0, -30.0, 3033304.0000000093), 'blockxsize': 512, 'blockysize': 128, 'tiled': True}\n"
     ]
    },
    {
     "name": "stderr",
     "output_type": "stream",
     "text": [
      "Adding overviews...\n",
      "Updating dataset tags...\n",
      "Writing output to: /projects/my-public-bucket/sentinel1_seasonal_comps/out_build_stack/s1_3553_cog.tif\n"
     ]
    },
    {
     "name": "stdout",
     "output_type": "stream",
     "text": [
      "Image written to disk:\t\t /projects/my-public-bucket/sentinel1_seasonal_comps/out_build_stack/s1_3553_cog.tif\n"
     ]
    }
   ],
   "source": [
    "run_build_stack()"
   ]
  },
  {
   "cell_type": "code",
   "execution_count": null,
   "id": "ce4f41db",
   "metadata": {},
   "outputs": [],
   "source": []
  }
 ],
 "metadata": {
  "kernelspec": {
   "display_name": "Python 3 (ipykernel)",
   "language": "python",
   "name": "python3"
  },
  "language_info": {
   "codemirror_mode": {
    "name": "ipython",
    "version": 3
   },
   "file_extension": ".py",
   "mimetype": "text/x-python",
   "name": "python",
   "nbconvert_exporter": "python",
   "pygments_lexer": "ipython3",
   "version": "3.7.8"
  }
 },
 "nbformat": 4,
 "nbformat_minor": 5
}
