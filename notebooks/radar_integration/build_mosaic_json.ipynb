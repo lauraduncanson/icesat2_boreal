{
 "cells": [
  {
   "cell_type": "code",
   "execution_count": null,
   "id": "c7cfe432",
   "metadata": {},
   "outputs": [],
   "source": []
  },
  {
   "cell_type": "code",
   "execution_count": 1,
   "id": "033738ea",
   "metadata": {},
   "outputs": [
    {
     "name": "stderr",
     "output_type": "stream",
     "text": [
      "/projects/.local/lib/python3.7/site-packages/geopandas/_compat.py:110: UserWarning: The Shapely GEOS version (3.8.0-CAPI-1.13.1 ) is incompatible with the GEOS version PyGEOS was compiled with (3.10.1-CAPI-1.16.0). Conversions between both will be slow.\n",
      "  shapely_geos_version, geos_capi_version_string\n"
     ]
    },
    {
     "name": "stdout",
     "output_type": "stream",
     "text": [
      "Importing packages complete.\n"
     ]
    }
   ],
   "source": [
    "try:\n",
    "    import geopandas as gpd\n",
    "except ModuleNotFoundError:\n",
    "    print('Need to pip install packages...')\n",
    "    !pip install -U -r $ICESAT2_BOREAL_REPO_PATH/dps/requirements_main.txt\n",
    "    \n",
    "import geopandas as gpd\n",
    "import pandas as pd\n",
    "import os\n",
    "import json\n",
    "import collections\n",
    "import numpy as np\n",
    "import sys\n",
    "import s3fs\n",
    "import matplotlib.pyplot as plt\n",
    "import rasterio as rio\n",
    "print(\"Importing packages complete.\")\n",
    "from shapely.geometry import Polygon\n",
    "from shapely.geometry import box"
   ]
  },
  {
   "cell_type": "markdown",
   "id": "8e241f01",
   "metadata": {},
   "source": []
  },
  {
   "cell_type": "code",
   "execution_count": 2,
   "id": "9612a9fe",
   "metadata": {},
   "outputs": [],
   "source": [
    "def local_to_s3(url, user = 'nathanmthomas', type='public'):\n",
    "    ''' A Function to convert local paths to s3 urls'''\n",
    "    if type == 'public':\n",
    "        replacement_str = f's3://maap-ops-workspace/shared/{user}'\n",
    "    else:\n",
    "        replacement_str = f's3://maap-ops-workspace/{user}'\n",
    "    return url.replace(f'/projects/my-{type}-bucket', replacement_str)"
   ]
  },
  {
   "cell_type": "code",
   "execution_count": 9,
   "id": "514c744a",
   "metadata": {},
   "outputs": [
    {
     "data": {
      "text/html": [
       "<div>\n",
       "<style scoped>\n",
       "    .dataframe tbody tr th:only-of-type {\n",
       "        vertical-align: middle;\n",
       "    }\n",
       "\n",
       "    .dataframe tbody tr th {\n",
       "        vertical-align: top;\n",
       "    }\n",
       "\n",
       "    .dataframe thead th {\n",
       "        text-align: right;\n",
       "    }\n",
       "</style>\n",
       "<table border=\"1\" class=\"dataframe\">\n",
       "  <thead>\n",
       "    <tr style=\"text-align: right;\">\n",
       "      <th></th>\n",
       "      <th>filepath</th>\n",
       "      <th>tile_num</th>\n",
       "      <th>geometry</th>\n",
       "    </tr>\n",
       "  </thead>\n",
       "  <tbody>\n",
       "    <tr>\n",
       "      <th>0</th>\n",
       "      <td>/projects/my-public-bucket/sentinel1_seasonal_...</td>\n",
       "      <td>10</td>\n",
       "      <td>POLYGON ((-2151478.000 9153304.000, -2151478.0...</td>\n",
       "    </tr>\n",
       "    <tr>\n",
       "      <th>1</th>\n",
       "      <td>/projects/my-public-bucket/sentinel1_seasonal_...</td>\n",
       "      <td>111</td>\n",
       "      <td>POLYGON ((-1971478.000 8433304.000, -1971478.0...</td>\n",
       "    </tr>\n",
       "    <tr>\n",
       "      <th>2</th>\n",
       "      <td>/projects/my-public-bucket/sentinel1_seasonal_...</td>\n",
       "      <td>112</td>\n",
       "      <td>POLYGON ((-1881478.000 8433304.000, -1881478.0...</td>\n",
       "    </tr>\n",
       "    <tr>\n",
       "      <th>3</th>\n",
       "      <td>/projects/my-public-bucket/sentinel1_seasonal_...</td>\n",
       "      <td>113</td>\n",
       "      <td>POLYGON ((-1791478.000 8433304.000, -1791478.0...</td>\n",
       "    </tr>\n",
       "    <tr>\n",
       "      <th>4</th>\n",
       "      <td>/projects/my-public-bucket/sentinel1_seasonal_...</td>\n",
       "      <td>114</td>\n",
       "      <td>POLYGON ((-1701478.000 8433304.000, -1701478.0...</td>\n",
       "    </tr>\n",
       "    <tr>\n",
       "      <th>...</th>\n",
       "      <td>...</td>\n",
       "      <td>...</td>\n",
       "      <td>...</td>\n",
       "    </tr>\n",
       "    <tr>\n",
       "      <th>88</th>\n",
       "      <td>/projects/my-public-bucket/sentinel1_seasonal_...</td>\n",
       "      <td>6</td>\n",
       "      <td>POLYGON ((-1971478.000 9243304.000, -1971478.0...</td>\n",
       "    </tr>\n",
       "    <tr>\n",
       "      <th>89</th>\n",
       "      <td>/projects/my-public-bucket/sentinel1_seasonal_...</td>\n",
       "      <td>72</td>\n",
       "      <td>POLYGON ((-2241478.000 8613304.000, -2241478.0...</td>\n",
       "    </tr>\n",
       "    <tr>\n",
       "      <th>90</th>\n",
       "      <td>/projects/my-public-bucket/sentinel1_seasonal_...</td>\n",
       "      <td>73</td>\n",
       "      <td>POLYGON ((-2151478.000 8613304.000, -2151478.0...</td>\n",
       "    </tr>\n",
       "    <tr>\n",
       "      <th>91</th>\n",
       "      <td>/projects/my-public-bucket/sentinel1_seasonal_...</td>\n",
       "      <td>94</td>\n",
       "      <td>POLYGON ((-1791478.000 8523304.000, -1791478.0...</td>\n",
       "    </tr>\n",
       "    <tr>\n",
       "      <th>92</th>\n",
       "      <td>/projects/my-public-bucket/sentinel1_seasonal_...</td>\n",
       "      <td>9</td>\n",
       "      <td>POLYGON ((-2241478.000 9153304.000, -2241478.0...</td>\n",
       "    </tr>\n",
       "  </tbody>\n",
       "</table>\n",
       "<p>93 rows × 3 columns</p>\n",
       "</div>"
      ],
      "text/plain": [
       "                                             filepath tile_num  \\\n",
       "0   /projects/my-public-bucket/sentinel1_seasonal_...       10   \n",
       "1   /projects/my-public-bucket/sentinel1_seasonal_...      111   \n",
       "2   /projects/my-public-bucket/sentinel1_seasonal_...      112   \n",
       "3   /projects/my-public-bucket/sentinel1_seasonal_...      113   \n",
       "4   /projects/my-public-bucket/sentinel1_seasonal_...      114   \n",
       "..                                                ...      ...   \n",
       "88  /projects/my-public-bucket/sentinel1_seasonal_...        6   \n",
       "89  /projects/my-public-bucket/sentinel1_seasonal_...       72   \n",
       "90  /projects/my-public-bucket/sentinel1_seasonal_...       73   \n",
       "91  /projects/my-public-bucket/sentinel1_seasonal_...       94   \n",
       "92  /projects/my-public-bucket/sentinel1_seasonal_...        9   \n",
       "\n",
       "                                             geometry  \n",
       "0   POLYGON ((-2151478.000 9153304.000, -2151478.0...  \n",
       "1   POLYGON ((-1971478.000 8433304.000, -1971478.0...  \n",
       "2   POLYGON ((-1881478.000 8433304.000, -1881478.0...  \n",
       "3   POLYGON ((-1791478.000 8433304.000, -1791478.0...  \n",
       "4   POLYGON ((-1701478.000 8433304.000, -1701478.0...  \n",
       "..                                                ...  \n",
       "88  POLYGON ((-1971478.000 9243304.000, -1971478.0...  \n",
       "89  POLYGON ((-2241478.000 8613304.000, -2241478.0...  \n",
       "90  POLYGON ((-2151478.000 8613304.000, -2151478.0...  \n",
       "91  POLYGON ((-1791478.000 8523304.000, -1791478.0...  \n",
       "92  POLYGON ((-2241478.000 9153304.000, -2241478.0...  \n",
       "\n",
       "[93 rows x 3 columns]"
      ]
     },
     "execution_count": 9,
     "metadata": {},
     "output_type": "execute_result"
    }
   ],
   "source": [
    "import glob, os\n",
    "import pandas as pd\n",
    "\n",
    "fn_sar_list = glob.glob('/projects/my-public-bucket/sentinel1_seasonal_comps/S1_RTC_tindex/Fall/*.tif')\n",
    "\n",
    "# set up lists for attributes\n",
    "filepaths = []\n",
    "geom = []\n",
    "tile_nums=[]\n",
    "for file in fn_sar_list:\n",
    "    with rio.open(file) as f:\n",
    "        # get image bounds and transform to 4326\n",
    "        xmin, ymin, xmax, ymax = f.bounds\n",
    "        #shapely box: minx, miny, maxx, maxy of S1 bounds\n",
    "        poly = box(xmin,ymin,xmax,ymax)\n",
    "        geom.append(poly)\n",
    "        filepaths.append(file)\n",
    "        tile_nums.append(file.split('/')[-1].split('_')[2])\n",
    "        in_crs = f.crs\n",
    "        \n",
    "gdf = gpd.GeoDataFrame({'filepath':filepaths, 'tile_num':tile_nums, 'geometry':geom}, crs=in_crs)\n",
    "\n",
    "gdf\n"
   ]
  },
  {
   "cell_type": "code",
   "execution_count": 10,
   "id": "574600a4",
   "metadata": {},
   "outputs": [
    {
     "data": {
      "image/png": "[encoded data removed]",
      "text/plain": [
       "<Figure size 432x288 with 1 Axes>"
      ]
     },
     "metadata": {
      "needs_background": "light"
     },
     "output_type": "display_data"
    }
   ],
   "source": [
    "if True:\n",
    "    out_foot_fn = '/projects/my-public-bucket/sentinel1_seasonal_comps/S1_RTC_tindex/footprints_sentinel1_Fall.gpkg'\n",
    "    gdf.boundary.plot()\n",
    "    \n",
    "    gdf['s3_path'] = [local_to_s3(f, user='nathanmthomas') for f in gdf['filepath'].tolist()]\n",
    "    gdf.to_file(out_foot_fn, driver='GPKG')\n",
    "    gdf.head()"
   ]
  },
  {
   "cell_type": "markdown",
   "id": "7d36469e",
   "metadata": {},
   "source": [
    "### Build Mosaic Json"
   ]
  },
  {
   "cell_type": "code",
   "execution_count": 39,
   "id": "5ffa4f5a",
   "metadata": {},
   "outputs": [
    {
     "data": {
      "image/png": "[encoded data removed]",
      "text/plain": [
       "<Figure size 432x288 with 1 Axes>"
      ]
     },
     "metadata": {
      "needs_background": "light"
     },
     "output_type": "display_data"
    }
   ],
   "source": [
    "import shapely\n",
    "# Corrections were made to ensure GeoJSON *_tindex_master.json was set correctly to 4326\n",
    "gdf_4326 = gdf.to_crs(\"EPSG:4326\")\n",
    "\n",
    "#Write copy to disk for debug \n",
    "out_mosaic_json_fn = '/projects/my-public-bucket/sentinel1_seasonal_comps/S1_RTC_tindex/footprints_sentinel1_Fall.json'\n",
    "gdf_4326.to_file(out_mosaic_json_fn, driver='GeoJSON')\n",
    "\n",
    "world = gpd.read_file(gpd.datasets.get_path(\"naturalearth_lowres\") )\n",
    "\n",
    "# Create a custom polygon\n",
    "polygon = shapely.geometry.Polygon([(-180, 45), (-180, 75), (180, 75), (180, 45), (-180, 45)])\n",
    "poly_gdf = gpd.GeoDataFrame([1], geometry=[polygon], crs=world.crs)\n",
    "#poly_gdf.plot()\n",
    "world_clip = gpd.clip(world, poly_gdf)\n",
    "ax = world_clip.plot(color='gray')\n",
    "\n",
    "boreal = gpd.read_file('/projects/shared-buckets/nathanmthomas/analyze_agb/input_zones/wwf_circumboreal_Dissolve.geojson')\n",
    "ax = boreal.boundary.plot(color='black', ax=ax)\n",
    "gdf_4326.boundary.plot(color='orange', ax=ax)\n",
    "\n",
    "out_mosaic_json = gdf_4326.to_json()\n",
    "\n",
    "# This is formatted nicely (printed)\n",
    "mosaic_geojson = json.loads(out_mosaic_json)\n",
    "\n"
   ]
  },
  {
   "cell_type": "code",
   "execution_count": 42,
   "id": "2fe07e84",
   "metadata": {},
   "outputs": [
    {
     "name": "stdout",
     "output_type": "stream",
     "text": [
      "Building /projects/my-public-bucket/sentinel1_seasonal_comps/S1_RTC_tindex/footprints_sentinel1_Fall_mosaicjson.json\n"
     ]
    }
   ],
   "source": [
    "from typing import Dict\n",
    "from cogeo_mosaic.mosaic import MosaicJSON\n",
    "from cogeo_mosaic.backends import MosaicBackend\n",
    "\n",
    "def get_accessor(feature: Dict):\n",
    "    \"\"\"Return specific feature identifier.\"\"\"\n",
    "    return feature[\"properties\"][\"s3_path\"]\n",
    "\n",
    "out_mosaic_json = '/projects/my-public-bucket/sentinel1_seasonal_comps/S1_RTC_tindex/footprints_sentinel1_Fall_mosaicjson.json'\n",
    "\n",
    "print(f\"Building {out_mosaic_json}\")\n",
    "mosaicdata = MosaicJSON.from_features(tile_matches_geojson.get('features'), minzoom=6, maxzoom=18, accessor=get_accessor)\n",
    "\n",
    "with MosaicBackend(out_mosaic_json, mosaic_def=mosaicdata) as mosaic:\n",
    "    mosaic.write(overwrite=True)"
   ]
  },
  {
   "cell_type": "code",
   "execution_count": null,
   "id": "1d1e2f06",
   "metadata": {},
   "outputs": [],
   "source": []
  }
 ],
 "metadata": {
  "kernelspec": {
   "display_name": "Python 3 (ipykernel)",
   "language": "python",
   "name": "python3"
  },
  "language_info": {
   "codemirror_mode": {
    "name": "ipython",
    "version": 3
   },
   "file_extension": ".py",
   "mimetype": "text/x-python",
   "name": "python",
   "nbconvert_exporter": "python",
   "pygments_lexer": "ipython3",
   "version": "3.7.8"
  }
 },
 "nbformat": 4,
 "nbformat_minor": 5
}
