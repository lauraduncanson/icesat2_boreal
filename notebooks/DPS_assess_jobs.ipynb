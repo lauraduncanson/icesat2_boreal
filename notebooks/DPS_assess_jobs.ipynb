{
 "cells": [
  {
   "cell_type": "code",
   "execution_count": 1,
   "id": "e80f6377-5fa3-4a29-8757-15f22041a517",
   "metadata": {
    "tags": []
   },
   "outputs": [],
   "source": [
    "from maap.maap import MAAP\n",
    "maap = MAAP(maap_host='api.maap-project.org')"
   ]
  },
  {
   "cell_type": "markdown",
   "id": "0353e7a2-0969-43c5-b8d5-bd40f9e8c0c6",
   "metadata": {},
   "source": [
    "# Assess DPS job submissions"
   ]
  },
  {
   "cell_type": "code",
   "execution_count": 2,
   "id": "18486a37-a6fd-4fa0-a73b-f572160862c2",
   "metadata": {
    "tags": []
   },
   "outputs": [
    {
     "name": "stdout",
     "output_type": "stream",
     "text": [
      "Requirement already satisfied: xmltodict in /opt/conda/lib/python3.10/site-packages (0.13.0)\n",
      "\u001b[33mWARNING: Running pip as the 'root' user can result in broken permissions and conflicting behaviour with the system package manager. It is recommended to use a virtual environment instead: https://pip.pypa.io/warnings/venv\u001b[0m\u001b[33m\n",
      "\u001b[0mNASA MAAP\n"
     ]
    }
   ],
   "source": [
    "import os\n",
    "import geopandas\n",
    "import pandas as pd\n",
    "import glob\n",
    "import datetime\n",
    "!pip install xmltodict\n",
    "import xmltodict\n",
    "import sys\n",
    "sys.path.append('/projects/code/icesat2_boreal/lib')\n",
    "import ExtractUtils\n",
    "import plotnine\n",
    "from plotnine import *"
   ]
  },
  {
   "cell_type": "code",
   "execution_count": 3,
   "id": "1809fe93-8e2b-42cf-acb1-78d1921c6581",
   "metadata": {
    "tags": []
   },
   "outputs": [
    {
     "name": "stdout",
     "output_type": "stream",
     "text": [
      "NASA MAAP\n"
     ]
    },
    {
     "data": {
      "text/plain": [
       "<module 'ExtractUtils' from '/projects/code/icesat2_boreal/lib/ExtractUtils.py'>"
      ]
     },
     "execution_count": 3,
     "metadata": {},
     "output_type": "execute_result"
    }
   ],
   "source": [
    "import importlib\n",
    "import ExtractUtils\n",
    "importlib.reload(ExtractUtils)"
   ]
  },
  {
   "cell_type": "code",
   "execution_count": 4,
   "id": "9ae3f24f-ecfd-466f-9bde-43db0897b6be",
   "metadata": {
    "tags": []
   },
   "outputs": [],
   "source": [
    "def ASSES_DPS(fn, IDENTIFIER):  \n",
    "    \n",
    "    #if DPS_DATETIME in fn and not 'job_status' in fn:\n",
    "    DPS_alg_id = os.path.basename(fn.split('_submission_results_')[0].replace('DPS_',''))\n",
    "    thentime = fn.split('_')[-1].replace('.csv','')\n",
    "    print(f'DPS alg:\\t\\t{DPS_alg_id}')\n",
    "    print(f'DPS launch time:\\t{thentime}')\n",
    "    z = ExtractUtils.BUILD_TABLE_JOBSTATUS(pd.read_csv(fn))\n",
    "    # Save job status table\n",
    "    z.to_csv(f'/projects/my-public-bucket/dps_submission_results/DPS_{IDENTIFIER}_submission_results_job_status_{len(z)}_{thentime}.csv')\n",
    "    return z"
   ]
  },
  {
   "cell_type": "code",
   "execution_count": 29,
   "id": "002ada72-6ce1-4aa4-92da-ef3ec95637a5",
   "metadata": {
    "tags": []
   },
   "outputs": [],
   "source": [
    "IDENTIFIER='SAR_S1_2019'\n",
    "MAAP_VERSION = 'EXPORT_GEE_v6'\n",
    "ALGO_ID = \"do_gee_download_by_subtile\"\n",
    "RUN_NAME = f'{IDENTIFIER}_{MAAP_VERSION}'"
   ]
  },
  {
   "cell_type": "code",
   "execution_count": 30,
   "id": "2ab62065-5f62-4a29-8eec-f1772675cd97",
   "metadata": {
    "tags": []
   },
   "outputs": [
    {
     "data": {
      "text/plain": [
       "['/projects/my-public-bucket/dps_submission_results/DPS_do_gee_download_by_subtile_SAR_S1_2019_EXPORT_GEE_v6_submission_results_192_202401061112.csv',\n",
       " '/projects/my-public-bucket/dps_submission_results/DPS_do_gee_download_by_subtile_SAR_S1_2019_EXPORT_GEE_v6_submission_results_13_202401061038.csv',\n",
       " '/projects/my-public-bucket/dps_submission_results/DPS_do_gee_download_by_subtile_SAR_S1_2019_EXPORT_GEE_v6_submission_results_192_202401060919.csv',\n",
       " '/projects/my-public-bucket/dps_submission_results/DPS_do_gee_download_by_subtile_SAR_S1_2019_EXPORT_GEE_v6_submission_results_13_202401060917.csv',\n",
       " '/projects/my-public-bucket/dps_submission_results/DPS_do_gee_download_by_subtile_SAR_S1_2019_EXPORT_GEE_v6_submission_results_30_202401060842.csv',\n",
       " '/projects/my-public-bucket/dps_submission_results/DPS_do_gee_download_by_subtile_SAR_S1_2019_EXPORT_GEE_v6_submission_results_30_202401060835.csv',\n",
       " '/projects/my-public-bucket/dps_submission_results/DPS_do_gee_download_by_subtile_SAR_S1_2019_EXPORT_GEE_v6_submission_results_74_202401060504.csv',\n",
       " '/projects/my-public-bucket/dps_submission_results/DPS_do_gee_download_by_subtile_SAR_S1_2019_EXPORT_GEE_v6_submission_results_74_202401050543.csv',\n",
       " '/projects/my-public-bucket/dps_submission_results/DPS_do_gee_download_by_subtile_SAR_S1_2019_EXPORT_GEE_v6_submission_results_74_202401050437.csv',\n",
       " '/projects/my-public-bucket/dps_submission_results/DPS_do_gee_download_by_subtile_SAR_S1_2019_EXPORT_GEE_v6_submission_results_525_202401041729.csv',\n",
       " '/projects/my-public-bucket/dps_submission_results/DPS_do_gee_download_by_subtile_SAR_S1_2019_EXPORT_GEE_v6_submission_results_1341_202401041540.csv',\n",
       " '/projects/my-public-bucket/dps_submission_results/DPS_do_gee_download_by_subtile_SAR_S1_2019_EXPORT_GEE_v6_submission_results_6559_202401040731.csv',\n",
       " '/projects/my-public-bucket/dps_submission_results/DPS_do_gee_download_by_subtile_SAR_S1_2019_EXPORT_GEE_v6_submission_results_6559_202401040707.csv',\n",
       " '/projects/my-public-bucket/dps_submission_results/DPS_do_gee_download_by_subtile_SAR_S1_2019_EXPORT_GEE_v6_submission_results_26412_202401031849.csv',\n",
       " '/projects/my-public-bucket/dps_submission_results/DPS_do_gee_download_by_subtile_SAR_S1_2019_EXPORT_GEE_v6_submission_results_227774_202401021417.csv']"
      ]
     },
     "execution_count": 30,
     "metadata": {},
     "output_type": "execute_result"
    }
   ],
   "source": [
    "LIST_SUBMISSIONS = sorted(glob.glob(f'/projects/my-public-bucket/dps_submission_results/DPS_{ALGO_ID}_{RUN_NAME}_submission_results_*.csv'),key=ExtractUtils.func, reverse=True)\n",
    "LIST_SUBMISSIONS"
   ]
  },
  {
   "cell_type": "code",
   "execution_count": 31,
   "id": "83a0f6e4-6f8b-4602-a360-abc4b7454cf9",
   "metadata": {
    "tags": []
   },
   "outputs": [
    {
     "name": "stdout",
     "output_type": "stream",
     "text": [
      "DPS alg:\t\tdo_gee_download_by_subtile_SAR_S1_2019_EXPORT_GEE_v6\n",
      "DPS launch time:\t202401061112\n",
      "multiprocessing...\n",
      "Count total jobs:\t192\n",
      "Count pending jobs:\t0\n",
      "Count running jobs:\t0\n",
      "Count succeeded jobs:\t0\n",
      "Count failed jobs:\t192\n",
      "% of failed jobs:\t100.0\n",
      "\n",
      "CPU times: user 79.8 ms, sys: 215 ms, total: 295 ms\n",
      "Wall time: 1.8 s\n"
     ]
    }
   ],
   "source": [
    "%%time\n",
    "out_df_list = [ASSES_DPS(fn, IDENTIFIER) for fn in LIST_SUBMISSIONS[0:1]]"
   ]
  },
  {
   "cell_type": "code",
   "execution_count": 16,
   "id": "a495bbf3-4f9f-42b1-8400-f058e6c228e2",
   "metadata": {
    "tags": []
   },
   "outputs": [],
   "source": [
    "IDENTIFIER='SAR_S1_2019'\n",
    "MAAP_VERSION = ''\n",
    "ALGO_ID = \"run_build_stack\"\n",
    "RUN_NAME = f'{IDENTIFIER}'"
   ]
  },
  {
   "cell_type": "code",
   "execution_count": 17,
   "id": "027f7abb-0097-45c8-8468-b5f1bf4f8ae2",
   "metadata": {
    "tags": []
   },
   "outputs": [
    {
     "data": {
      "text/plain": [
       "['/projects/my-public-bucket/dps_submission_results/DPS_run_build_stack_SAR_S1_2019_submission_results_9_202401101210.csv',\n",
       " '/projects/my-public-bucket/dps_submission_results/DPS_run_build_stack_SAR_S1_2019_submission_results_8_202401081650.csv',\n",
       " '/projects/my-public-bucket/dps_submission_results/DPS_run_build_stack_SAR_S1_2019_submission_results_8_202401070648.csv',\n",
       " '/projects/my-public-bucket/dps_submission_results/DPS_run_build_stack_SAR_S1_2019_submission_results_84_202401061217.csv',\n",
       " '/projects/my-public-bucket/dps_submission_results/DPS_run_build_stack_SAR_S1_2019_submission_results_5_202401061157.csv',\n",
       " '/projects/my-public-bucket/dps_submission_results/DPS_run_build_stack_SAR_S1_2019_submission_results_5_202401061127.csv',\n",
       " '/projects/my-public-bucket/dps_submission_results/DPS_run_build_stack_SAR_S1_2019_submission_results_18_202401061042.csv',\n",
       " '/projects/my-public-bucket/dps_submission_results/DPS_run_build_stack_SAR_S1_2019_submission_results_18_202401061020.csv',\n",
       " '/projects/my-public-bucket/dps_submission_results/DPS_run_build_stack_SAR_S1_2019_submission_results_1615_202401051115.csv',\n",
       " '/projects/my-public-bucket/dps_submission_results/DPS_run_build_stack_SAR_S1_2019_submission_results_10_202401051106.csv',\n",
       " '/projects/my-public-bucket/dps_submission_results/DPS_run_build_stack_SAR_S1_2019_submission_results_3_202401051019.csv',\n",
       " '/projects/my-public-bucket/dps_submission_results/DPS_run_build_stack_SAR_S1_2019_submission_results_22_202401050951.csv',\n",
       " '/projects/my-public-bucket/dps_submission_results/DPS_run_build_stack_SAR_S1_2019_submission_results_42_202401050943.csv',\n",
       " '/projects/my-public-bucket/dps_submission_results/DPS_run_build_stack_SAR_S1_2019_submission_results_46_202401050929.csv',\n",
       " '/projects/my-public-bucket/dps_submission_results/DPS_run_build_stack_SAR_S1_2019_submission_results_292_202401050822.csv',\n",
       " '/projects/my-public-bucket/dps_submission_results/DPS_run_build_stack_SAR_S1_2019_submission_results_44_202401050712.csv',\n",
       " '/projects/my-public-bucket/dps_submission_results/DPS_run_build_stack_SAR_S1_2019_submission_results_5241_202312311458.csv']"
      ]
     },
     "execution_count": 17,
     "metadata": {},
     "output_type": "execute_result"
    }
   ],
   "source": [
    "LIST_SUBMISSIONS = sorted(glob.glob(f'/projects/my-public-bucket/dps_submission_results/DPS_{ALGO_ID}_{RUN_NAME}_submission_results_*.csv'),key=ExtractUtils.func, reverse=True)\n",
    "LIST_SUBMISSIONS"
   ]
  },
  {
   "cell_type": "code",
   "execution_count": 25,
   "id": "32015d03-50ca-4d89-a955-39c0db5bc503",
   "metadata": {
    "tags": []
   },
   "outputs": [
    {
     "name": "stdout",
     "output_type": "stream",
     "text": [
      "DPS alg:\t\trun_build_stack_SAR_S1_2019\n",
      "DPS launch time:\t202401101210\n",
      "multiprocessing...\n",
      "Count total jobs:\t9\n",
      "Count pending jobs:\t0\n",
      "Count running jobs:\t0\n",
      "Count succeeded jobs:\t9\n",
      "Count failed jobs:\t0\n",
      "% of failed jobs:\tNothing has failed...yet\n",
      "\n",
      "DPS alg:\t\trun_build_stack_SAR_S1_2019\n",
      "DPS launch time:\t202401081650\n",
      "multiprocessing...\n",
      "Count total jobs:\t8\n",
      "Count pending jobs:\t0\n",
      "Count running jobs:\t0\n",
      "Count succeeded jobs:\t7\n",
      "Count failed jobs:\t1\n",
      "% of failed jobs:\t12.5\n",
      "\n",
      "CPU times: user 59.4 ms, sys: 328 ms, total: 387 ms\n",
      "Wall time: 783 ms\n"
     ]
    }
   ],
   "source": [
    "%%time\n",
    "out_df_list = [ASSES_DPS(fn, IDENTIFIER) for fn in LIST_SUBMISSIONS[0:2]]"
   ]
  },
  {
   "cell_type": "code",
   "execution_count": 9,
   "id": "1a56118c-ab26-4bd6-9df0-55619ef2aa04",
   "metadata": {
    "tags": []
   },
   "outputs": [],
   "source": [
    "IDENTIFIER='TEST_SAR_S1_2019'\n",
    "MAAP_VERSION = 'EXPORT_GEE_v5'\n",
    "ALGO_ID = \"do_gee_download_by_subtile\"\n",
    "RUN_NAME = f'{IDENTIFIER}_{MAAP_VERSION}'"
   ]
  },
  {
   "cell_type": "code",
   "execution_count": 40,
   "id": "267bdfde-64f3-47f0-ab3b-379c987a2855",
   "metadata": {
    "tags": []
   },
   "outputs": [
    {
     "data": {
      "text/plain": [
       "['http://maap-ops-workspace.s3-website-us-west-2.amazonaws.com/montesano/dps_output/do_gee_download_by_subtile/EXPORT_GEE_v5/TEST_SAR_S1_2019/2023/12/29/13/15/31/279325',\n",
       " 's3://s3.us-west-2.amazonaws.com:80/maap-ops-workspace/montesano/dps_output/do_gee_download_by_subtile/EXPORT_GEE_v5/TEST_SAR_S1_2019/2023/12/29/13/15/31/279325',\n",
       " 'https://s3.console.aws.amazon.com/s3/buckets/maap-ops-workspace/montesano/dps_output/do_gee_download_by_subtile/EXPORT_GEE_v5/TEST_SAR_S1_2019/2023/12/29/13/15/31/279325/?region=us-east-1&tab=overview']"
      ]
     },
     "execution_count": 40,
     "metadata": {},
     "output_type": "execute_result"
    }
   ],
   "source": [
    "maap.getJobResult(\"caf8e65d-af39-4697-b402-e741745f58f8\")"
   ]
  },
  {
   "cell_type": "code",
   "execution_count": 8,
   "id": "ba353436-e474-4b4b-b5fb-1b4fbc03aeae",
   "metadata": {
    "tags": []
   },
   "outputs": [
    {
     "data": {
      "text/plain": [
       "{'{http://www.opengis.net/ows/2.0}Exception': None}"
      ]
     },
     "execution_count": 8,
     "metadata": {},
     "output_type": "execute_result"
    }
   ],
   "source": [
    "maap.getJobStatus(\"caf8e65d-af39-4697-b402-e741745f58f8\")\n",
    "maap.getJobMetrics(\"caf8e65d-af39-4697-b402-e741745f58f8\")"
   ]
  },
  {
   "cell_type": "code",
   "execution_count": 37,
   "id": "eff9dc31-992d-4144-ab17-9f0622fee444",
   "metadata": {
    "tags": []
   },
   "outputs": [
    {
     "data": {
      "text/plain": [
       "{'{http://www.opengis.net/ows/2.0}Exception': None}"
      ]
     },
     "execution_count": 37,
     "metadata": {},
     "output_type": "execute_result"
    }
   ],
   "source": [
    "maap.getJobMetrics(\"caf8e65d-af39-4697-b402-e741745f58f8\")"
   ]
  },
  {
   "cell_type": "code",
   "execution_count": 22,
   "id": "9b911a57-d96e-48be-bbf0-319023048801",
   "metadata": {
    "tags": []
   },
   "outputs": [
    {
     "data": {
      "text/html": [
       "<div>\n",
       "<style scoped>\n",
       "    .dataframe tbody tr th:only-of-type {\n",
       "        vertical-align: middle;\n",
       "    }\n",
       "\n",
       "    .dataframe tbody tr th {\n",
       "        vertical-align: top;\n",
       "    }\n",
       "\n",
       "    .dataframe thead th {\n",
       "        text-align: right;\n",
       "    }\n",
       "</style>\n",
       "<table border=\"1\" class=\"dataframe\">\n",
       "  <thead>\n",
       "    <tr style=\"text-align: right;\">\n",
       "      <th></th>\n",
       "      <th>Unnamed: 0</th>\n",
       "      <th>dps_num</th>\n",
       "      <th>tile_num</th>\n",
       "      <th>submit_time</th>\n",
       "      <th>dbs_job_hour</th>\n",
       "      <th>algo_id</th>\n",
       "      <th>user</th>\n",
       "      <th>worker_type</th>\n",
       "      <th>job_id</th>\n",
       "      <th>submit_status</th>\n",
       "      <th>run_name</th>\n",
       "      <th>status</th>\n",
       "    </tr>\n",
       "  </thead>\n",
       "  <tbody>\n",
       "    <tr>\n",
       "      <th>0</th>\n",
       "      <td>0</td>\n",
       "      <td>1</td>\n",
       "      <td>24670</td>\n",
       "      <td>2024-01-08-16-50-1704761456</td>\n",
       "      <td>16</td>\n",
       "      <td>run_build_stack</td>\n",
       "      <td>montesano</td>\n",
       "      <td>maap-dps-worker-32gb</td>\n",
       "      <td>026e7a95-b0b8-4311-a559-ce3ba00d80ed</td>\n",
       "      <td>success</td>\n",
       "      <td>build_stack_S1/SAR_S1_2019</td>\n",
       "      <td>Succeeded</td>\n",
       "    </tr>\n",
       "    <tr>\n",
       "      <th>1</th>\n",
       "      <td>0</td>\n",
       "      <td>2</td>\n",
       "      <td>24389</td>\n",
       "      <td>2024-01-08-16-50-1704761456</td>\n",
       "      <td>16</td>\n",
       "      <td>run_build_stack</td>\n",
       "      <td>montesano</td>\n",
       "      <td>maap-dps-worker-32gb</td>\n",
       "      <td>0e8eb543-5f5c-4bfd-8005-ab1194ba393d</td>\n",
       "      <td>success</td>\n",
       "      <td>build_stack_S1/SAR_S1_2019</td>\n",
       "      <td>Succeeded</td>\n",
       "    </tr>\n",
       "    <tr>\n",
       "      <th>2</th>\n",
       "      <td>0</td>\n",
       "      <td>3</td>\n",
       "      <td>24108</td>\n",
       "      <td>2024-01-08-16-50-1704761456</td>\n",
       "      <td>16</td>\n",
       "      <td>run_build_stack</td>\n",
       "      <td>montesano</td>\n",
       "      <td>maap-dps-worker-32gb</td>\n",
       "      <td>cf8e6967-54f9-4dd9-bbba-67eaba7161d0</td>\n",
       "      <td>success</td>\n",
       "      <td>build_stack_S1/SAR_S1_2019</td>\n",
       "      <td>Succeeded</td>\n",
       "    </tr>\n",
       "    <tr>\n",
       "      <th>3</th>\n",
       "      <td>0</td>\n",
       "      <td>4</td>\n",
       "      <td>24109</td>\n",
       "      <td>2024-01-08-16-50-1704761456</td>\n",
       "      <td>16</td>\n",
       "      <td>run_build_stack</td>\n",
       "      <td>montesano</td>\n",
       "      <td>maap-dps-worker-32gb</td>\n",
       "      <td>5ad7bdeb-c0e2-4e96-86c7-154355a7a2f1</td>\n",
       "      <td>success</td>\n",
       "      <td>build_stack_S1/SAR_S1_2019</td>\n",
       "      <td>Succeeded</td>\n",
       "    </tr>\n",
       "    <tr>\n",
       "      <th>4</th>\n",
       "      <td>0</td>\n",
       "      <td>5</td>\n",
       "      <td>23827</td>\n",
       "      <td>2024-01-08-16-50-1704761456</td>\n",
       "      <td>16</td>\n",
       "      <td>run_build_stack</td>\n",
       "      <td>montesano</td>\n",
       "      <td>maap-dps-worker-32gb</td>\n",
       "      <td>6a53e290-d10c-4a13-a587-5f598d5015e0</td>\n",
       "      <td>success</td>\n",
       "      <td>build_stack_S1/SAR_S1_2019</td>\n",
       "      <td>Succeeded</td>\n",
       "    </tr>\n",
       "    <tr>\n",
       "      <th>5</th>\n",
       "      <td>0</td>\n",
       "      <td>6</td>\n",
       "      <td>23828</td>\n",
       "      <td>2024-01-08-16-50-1704761456</td>\n",
       "      <td>16</td>\n",
       "      <td>run_build_stack</td>\n",
       "      <td>montesano</td>\n",
       "      <td>maap-dps-worker-32gb</td>\n",
       "      <td>f1e0a32a-9f0a-4106-9e1e-ff7465d31133</td>\n",
       "      <td>success</td>\n",
       "      <td>build_stack_S1/SAR_S1_2019</td>\n",
       "      <td>Succeeded</td>\n",
       "    </tr>\n",
       "    <tr>\n",
       "      <th>6</th>\n",
       "      <td>0</td>\n",
       "      <td>7</td>\n",
       "      <td>23547</td>\n",
       "      <td>2024-01-08-16-50-1704761456</td>\n",
       "      <td>16</td>\n",
       "      <td>run_build_stack</td>\n",
       "      <td>montesano</td>\n",
       "      <td>maap-dps-worker-32gb</td>\n",
       "      <td>4c29efe2-099c-4d9c-b3af-c7a0506dc006</td>\n",
       "      <td>success</td>\n",
       "      <td>build_stack_S1/SAR_S1_2019</td>\n",
       "      <td>Succeeded</td>\n",
       "    </tr>\n",
       "    <tr>\n",
       "      <th>7</th>\n",
       "      <td>0</td>\n",
       "      <td>8</td>\n",
       "      <td>22938</td>\n",
       "      <td>2024-01-08-16-50-1704761456</td>\n",
       "      <td>16</td>\n",
       "      <td>run_build_stack</td>\n",
       "      <td>montesano</td>\n",
       "      <td>maap-dps-worker-32gb</td>\n",
       "      <td>4d38e780-5de0-4106-be90-b8f4c9a067ad</td>\n",
       "      <td>success</td>\n",
       "      <td>build_stack_S1/SAR_S1_2019</td>\n",
       "      <td>Failed</td>\n",
       "    </tr>\n",
       "  </tbody>\n",
       "</table>\n",
       "</div>"
      ],
      "text/plain": [
       "   Unnamed: 0  dps_num  tile_num                  submit_time  dbs_job_hour  \\\n",
       "0           0        1     24670  2024-01-08-16-50-1704761456            16   \n",
       "1           0        2     24389  2024-01-08-16-50-1704761456            16   \n",
       "2           0        3     24108  2024-01-08-16-50-1704761456            16   \n",
       "3           0        4     24109  2024-01-08-16-50-1704761456            16   \n",
       "4           0        5     23827  2024-01-08-16-50-1704761456            16   \n",
       "5           0        6     23828  2024-01-08-16-50-1704761456            16   \n",
       "6           0        7     23547  2024-01-08-16-50-1704761456            16   \n",
       "7           0        8     22938  2024-01-08-16-50-1704761456            16   \n",
       "\n",
       "           algo_id       user           worker_type  \\\n",
       "0  run_build_stack  montesano  maap-dps-worker-32gb   \n",
       "1  run_build_stack  montesano  maap-dps-worker-32gb   \n",
       "2  run_build_stack  montesano  maap-dps-worker-32gb   \n",
       "3  run_build_stack  montesano  maap-dps-worker-32gb   \n",
       "4  run_build_stack  montesano  maap-dps-worker-32gb   \n",
       "5  run_build_stack  montesano  maap-dps-worker-32gb   \n",
       "6  run_build_stack  montesano  maap-dps-worker-32gb   \n",
       "7  run_build_stack  montesano  maap-dps-worker-32gb   \n",
       "\n",
       "                                 job_id submit_status  \\\n",
       "0  026e7a95-b0b8-4311-a559-ce3ba00d80ed       success   \n",
       "1  0e8eb543-5f5c-4bfd-8005-ab1194ba393d       success   \n",
       "2  cf8e6967-54f9-4dd9-bbba-67eaba7161d0       success   \n",
       "3  5ad7bdeb-c0e2-4e96-86c7-154355a7a2f1       success   \n",
       "4  6a53e290-d10c-4a13-a587-5f598d5015e0       success   \n",
       "5  f1e0a32a-9f0a-4106-9e1e-ff7465d31133       success   \n",
       "6  4c29efe2-099c-4d9c-b3af-c7a0506dc006       success   \n",
       "7  4d38e780-5de0-4106-be90-b8f4c9a067ad       success   \n",
       "\n",
       "                     run_name     status  \n",
       "0  build_stack_S1/SAR_S1_2019  Succeeded  \n",
       "1  build_stack_S1/SAR_S1_2019  Succeeded  \n",
       "2  build_stack_S1/SAR_S1_2019  Succeeded  \n",
       "3  build_stack_S1/SAR_S1_2019  Succeeded  \n",
       "4  build_stack_S1/SAR_S1_2019  Succeeded  \n",
       "5  build_stack_S1/SAR_S1_2019  Succeeded  \n",
       "6  build_stack_S1/SAR_S1_2019  Succeeded  \n",
       "7  build_stack_S1/SAR_S1_2019     Failed  "
      ]
     },
     "execution_count": 22,
     "metadata": {},
     "output_type": "execute_result"
    }
   ],
   "source": [
    "out_df_list[1]"
   ]
  },
  {
   "cell_type": "code",
   "execution_count": 54,
   "id": "613908e7-fdf7-4ed7-ae4a-2fd59425ada0",
   "metadata": {
    "tags": []
   },
   "outputs": [
    {
     "name": "stderr",
     "output_type": "stream",
     "text": [
      "/projects/env/above/lib/python3.9/site-packages/plotnine/stats/stat_count.py:70: FutureWarning: The provided callable <function sum at 0x7fc874059280> is currently using DataFrameGroupBy.sum. In a future version of pandas, the provided callable will be used directly. To keep current behavior pass the string \"sum\" instead.\n"
     ]
    },
    {
     "ename": "AttributeError",
     "evalue": "'identity_trans' object has no attribute 'dataspace_is_numerical'",
     "output_type": "error",
     "traceback": [
      "\u001b[0;31m---------------------------------------------------------------------------\u001b[0m",
      "\u001b[0;31mAttributeError\u001b[0m                            Traceback (most recent call last)",
      "Cell \u001b[0;32mIn[54], line 2\u001b[0m\n\u001b[1;32m      1\u001b[0m \u001b[38;5;66;03m#for df in out_df_list:\u001b[39;00m\n\u001b[0;32m----> 2\u001b[0m \u001b[38;5;28;43mprint\u001b[39;49m\u001b[43m(\u001b[49m\n\u001b[1;32m      3\u001b[0m \u001b[43m    \u001b[49m\u001b[43mggplot\u001b[49m\u001b[43m(\u001b[49m\u001b[43mdf\u001b[49m\u001b[43m,\u001b[49m\u001b[43m \u001b[49m\u001b[43mmapping\u001b[49m\u001b[38;5;241;43m=\u001b[39;49m\u001b[43maes\u001b[49m\u001b[43m(\u001b[49m\u001b[43mx\u001b[49m\u001b[38;5;241;43m=\u001b[39;49m\u001b[38;5;124;43m'\u001b[39;49m\u001b[38;5;124;43mstatus\u001b[39;49m\u001b[38;5;124;43m'\u001b[39;49m\u001b[43m)\u001b[49m\u001b[43m)\u001b[49m\u001b[43m \u001b[49m\n\u001b[1;32m      4\u001b[0m \u001b[43m    \u001b[49m\u001b[38;5;241;43m+\u001b[39;49m\u001b[43m \u001b[49m\u001b[43mgeom_bar\u001b[49m\u001b[43m(\u001b[49m\u001b[43m)\u001b[49m\n\u001b[1;32m      5\u001b[0m \u001b[43m    \u001b[49m\u001b[38;5;241;43m+\u001b[39;49m\u001b[43m \u001b[49m\u001b[43mtheme_bw\u001b[49m\u001b[43m(\u001b[49m\u001b[43m)\u001b[49m\n\u001b[1;32m      6\u001b[0m \u001b[43m    \u001b[49m\u001b[43m)\u001b[49m\n",
      "File \u001b[0;32m~/env/above/lib/python3.9/site-packages/plotnine/ggplot.py:105\u001b[0m, in \u001b[0;36mggplot.__str__\u001b[0;34m(self)\u001b[0m\n\u001b[1;32m    101\u001b[0m \u001b[38;5;28;01mdef\u001b[39;00m \u001b[38;5;21m__str__\u001b[39m(\u001b[38;5;28mself\u001b[39m) \u001b[38;5;241m-\u001b[39m\u001b[38;5;241m>\u001b[39m \u001b[38;5;28mstr\u001b[39m:\n\u001b[1;32m    102\u001b[0m \u001b[38;5;250m    \u001b[39m\u001b[38;5;124;03m\"\"\"\u001b[39;00m\n\u001b[1;32m    103\u001b[0m \u001b[38;5;124;03m    Print/show the plot\u001b[39;00m\n\u001b[1;32m    104\u001b[0m \u001b[38;5;124;03m    \"\"\"\u001b[39;00m\n\u001b[0;32m--> 105\u001b[0m     \u001b[38;5;28;43mself\u001b[39;49m\u001b[38;5;241;43m.\u001b[39;49m\u001b[43mdraw\u001b[49m\u001b[43m(\u001b[49m\u001b[43mshow\u001b[49m\u001b[38;5;241;43m=\u001b[39;49m\u001b[38;5;28;43;01mTrue\u001b[39;49;00m\u001b[43m)\u001b[49m\n\u001b[1;32m    107\u001b[0m     \u001b[38;5;66;03m# Return and empty string so that print(p) is \"pretty\"\u001b[39;00m\n\u001b[1;32m    108\u001b[0m     \u001b[38;5;28;01mreturn\u001b[39;00m \u001b[38;5;124m\"\u001b[39m\u001b[38;5;124m\"\u001b[39m\n",
      "File \u001b[0;32m~/env/above/lib/python3.9/site-packages/plotnine/ggplot.py:224\u001b[0m, in \u001b[0;36mggplot.draw\u001b[0;34m(self, show)\u001b[0m\n\u001b[1;32m    222\u001b[0m \u001b[38;5;28mself\u001b[39m \u001b[38;5;241m=\u001b[39m deepcopy(\u001b[38;5;28mself\u001b[39m)\n\u001b[1;32m    223\u001b[0m \u001b[38;5;28;01mwith\u001b[39;00m plot_context(\u001b[38;5;28mself\u001b[39m, show\u001b[38;5;241m=\u001b[39mshow):\n\u001b[0;32m--> 224\u001b[0m     \u001b[38;5;28;43mself\u001b[39;49m\u001b[38;5;241;43m.\u001b[39;49m\u001b[43m_build\u001b[49m\u001b[43m(\u001b[49m\u001b[43m)\u001b[49m\n\u001b[1;32m    226\u001b[0m     \u001b[38;5;66;03m# setup\u001b[39;00m\n\u001b[1;32m    227\u001b[0m     figure, axs \u001b[38;5;241m=\u001b[39m \u001b[38;5;28mself\u001b[39m\u001b[38;5;241m.\u001b[39m_create_figure()\n",
      "File \u001b[0;32m~/env/above/lib/python3.9/site-packages/plotnine/ggplot.py:336\u001b[0m, in \u001b[0;36mggplot._build\u001b[0;34m(self)\u001b[0m\n\u001b[1;32m    333\u001b[0m layers\u001b[38;5;241m.\u001b[39msetup_data()\n\u001b[1;32m    335\u001b[0m \u001b[38;5;66;03m# Apply position adjustments\u001b[39;00m\n\u001b[0;32m--> 336\u001b[0m \u001b[43mlayers\u001b[49m\u001b[38;5;241;43m.\u001b[39;49m\u001b[43mcompute_position\u001b[49m\u001b[43m(\u001b[49m\u001b[43mlayout\u001b[49m\u001b[43m)\u001b[49m\n\u001b[1;32m    338\u001b[0m \u001b[38;5;66;03m# Reset position scales, then re-train and map.  This\u001b[39;00m\n\u001b[1;32m    339\u001b[0m \u001b[38;5;66;03m# ensures that facets have control over the range of\u001b[39;00m\n\u001b[1;32m    340\u001b[0m \u001b[38;5;66;03m# a plot.\u001b[39;00m\n\u001b[1;32m    341\u001b[0m layout\u001b[38;5;241m.\u001b[39mreset_position_scales()\n",
      "File \u001b[0;32m~/env/above/lib/python3.9/site-packages/plotnine/layer.py:479\u001b[0m, in \u001b[0;36mLayers.compute_position\u001b[0;34m(self, layout)\u001b[0m\n\u001b[1;32m    477\u001b[0m \u001b[38;5;28;01mdef\u001b[39;00m \u001b[38;5;21mcompute_position\u001b[39m(\u001b[38;5;28mself\u001b[39m, layout: Layout):\n\u001b[1;32m    478\u001b[0m     \u001b[38;5;28;01mfor\u001b[39;00m l \u001b[38;5;129;01min\u001b[39;00m \u001b[38;5;28mself\u001b[39m:\n\u001b[0;32m--> 479\u001b[0m         \u001b[43ml\u001b[49m\u001b[38;5;241;43m.\u001b[39;49m\u001b[43mcompute_position\u001b[49m\u001b[43m(\u001b[49m\u001b[43mlayout\u001b[49m\u001b[43m)\u001b[49m\n",
      "File \u001b[0;32m~/env/above/lib/python3.9/site-packages/plotnine/layer.py:345\u001b[0m, in \u001b[0;36mlayer.compute_position\u001b[0;34m(self, layout)\u001b[0m\n\u001b[1;32m    343\u001b[0m params \u001b[38;5;241m=\u001b[39m \u001b[38;5;28mself\u001b[39m\u001b[38;5;241m.\u001b[39mposition\u001b[38;5;241m.\u001b[39msetup_params(\u001b[38;5;28mself\u001b[39m\u001b[38;5;241m.\u001b[39mdata)\n\u001b[1;32m    344\u001b[0m data \u001b[38;5;241m=\u001b[39m \u001b[38;5;28mself\u001b[39m\u001b[38;5;241m.\u001b[39mposition\u001b[38;5;241m.\u001b[39msetup_data(\u001b[38;5;28mself\u001b[39m\u001b[38;5;241m.\u001b[39mdata, params)\n\u001b[0;32m--> 345\u001b[0m data \u001b[38;5;241m=\u001b[39m \u001b[38;5;28;43mself\u001b[39;49m\u001b[38;5;241;43m.\u001b[39;49m\u001b[43mposition\u001b[49m\u001b[38;5;241;43m.\u001b[39;49m\u001b[43mcompute_layer\u001b[49m\u001b[43m(\u001b[49m\u001b[43mdata\u001b[49m\u001b[43m,\u001b[49m\u001b[43m \u001b[49m\u001b[43mparams\u001b[49m\u001b[43m,\u001b[49m\u001b[43m \u001b[49m\u001b[43mlayout\u001b[49m\u001b[43m)\u001b[49m\n\u001b[1;32m    346\u001b[0m \u001b[38;5;28mself\u001b[39m\u001b[38;5;241m.\u001b[39mdata \u001b[38;5;241m=\u001b[39m data\n",
      "File \u001b[0;32m~/env/above/lib/python3.9/site-packages/plotnine/positions/position.py:79\u001b[0m, in \u001b[0;36mposition.compute_layer\u001b[0;34m(cls, data, params, layout)\u001b[0m\n\u001b[1;32m     76\u001b[0m     scales \u001b[38;5;241m=\u001b[39m layout\u001b[38;5;241m.\u001b[39mget_scales(pdata[\u001b[38;5;124m\"\u001b[39m\u001b[38;5;124mPANEL\u001b[39m\u001b[38;5;124m\"\u001b[39m]\u001b[38;5;241m.\u001b[39miat[\u001b[38;5;241m0\u001b[39m])\n\u001b[1;32m     77\u001b[0m     \u001b[38;5;28;01mreturn\u001b[39;00m \u001b[38;5;28mcls\u001b[39m\u001b[38;5;241m.\u001b[39mcompute_panel(pdata, scales, params)\n\u001b[0;32m---> 79\u001b[0m \u001b[38;5;28;01mreturn\u001b[39;00m \u001b[43mgroupby_apply\u001b[49m\u001b[43m(\u001b[49m\u001b[43mdata\u001b[49m\u001b[43m,\u001b[49m\u001b[43m \u001b[49m\u001b[38;5;124;43m\"\u001b[39;49m\u001b[38;5;124;43mPANEL\u001b[39;49m\u001b[38;5;124;43m\"\u001b[39;49m\u001b[43m,\u001b[49m\u001b[43m \u001b[49m\u001b[43mfn\u001b[49m\u001b[43m)\u001b[49m\n",
      "File \u001b[0;32m~/env/above/lib/python3.9/site-packages/plotnine/utils.py:599\u001b[0m, in \u001b[0;36mgroupby_apply\u001b[0;34m(df, cols, func, *args, **kwargs)\u001b[0m\n\u001b[1;32m    595\u001b[0m lst \u001b[38;5;241m=\u001b[39m []\n\u001b[1;32m    596\u001b[0m \u001b[38;5;28;01mfor\u001b[39;00m _, d \u001b[38;5;129;01min\u001b[39;00m df\u001b[38;5;241m.\u001b[39mgroupby(cols):\n\u001b[1;32m    597\u001b[0m     \u001b[38;5;66;03m# function fn should be free to modify dataframe d, therefore\u001b[39;00m\n\u001b[1;32m    598\u001b[0m     \u001b[38;5;66;03m# do not mark d as a slice of df i.e no SettingWithCopyWarning\u001b[39;00m\n\u001b[0;32m--> 599\u001b[0m     lst\u001b[38;5;241m.\u001b[39mappend(\u001b[43mfunc\u001b[49m\u001b[43m(\u001b[49m\u001b[43md\u001b[49m\u001b[43m,\u001b[49m\u001b[43m \u001b[49m\u001b[38;5;241;43m*\u001b[39;49m\u001b[43margs\u001b[49m\u001b[43m,\u001b[49m\u001b[43m \u001b[49m\u001b[38;5;241;43m*\u001b[39;49m\u001b[38;5;241;43m*\u001b[39;49m\u001b[43mkwargs\u001b[49m\u001b[43m)\u001b[49m)\n\u001b[1;32m    600\u001b[0m \u001b[38;5;28;01mreturn\u001b[39;00m pd\u001b[38;5;241m.\u001b[39mconcat(lst, axis\u001b[38;5;241m=\u001b[39maxis, ignore_index\u001b[38;5;241m=\u001b[39m\u001b[38;5;28;01mTrue\u001b[39;00m)\n",
      "File \u001b[0;32m~/env/above/lib/python3.9/site-packages/plotnine/positions/position.py:77\u001b[0m, in \u001b[0;36mposition.compute_layer.<locals>.fn\u001b[0;34m(pdata)\u001b[0m\n\u001b[1;32m     75\u001b[0m     \u001b[38;5;28;01mreturn\u001b[39;00m pdata\n\u001b[1;32m     76\u001b[0m scales \u001b[38;5;241m=\u001b[39m layout\u001b[38;5;241m.\u001b[39mget_scales(pdata[\u001b[38;5;124m\"\u001b[39m\u001b[38;5;124mPANEL\u001b[39m\u001b[38;5;124m\"\u001b[39m]\u001b[38;5;241m.\u001b[39miat[\u001b[38;5;241m0\u001b[39m])\n\u001b[0;32m---> 77\u001b[0m \u001b[38;5;28;01mreturn\u001b[39;00m \u001b[38;5;28;43mcls\u001b[39;49m\u001b[38;5;241;43m.\u001b[39;49m\u001b[43mcompute_panel\u001b[49m\u001b[43m(\u001b[49m\u001b[43mpdata\u001b[49m\u001b[43m,\u001b[49m\u001b[43m \u001b[49m\u001b[43mscales\u001b[49m\u001b[43m,\u001b[49m\u001b[43m \u001b[49m\u001b[43mparams\u001b[49m\u001b[43m)\u001b[49m\n",
      "File \u001b[0;32m~/env/above/lib/python3.9/site-packages/plotnine/positions/position_stack.py:103\u001b[0m, in \u001b[0;36mposition_stack.compute_panel\u001b[0;34m(cls, data, scales, params)\u001b[0m\n\u001b[1;32m     98\u001b[0m             \u001b[38;5;28;01mreturn\u001b[39;00m sc\u001b[38;5;241m.\u001b[39mtrans\n\u001b[1;32m    100\u001b[0m \u001b[38;5;66;03m# Positioning happens after scale transformation and stacking\u001b[39;00m\n\u001b[1;32m    101\u001b[0m \u001b[38;5;66;03m# only works well for linear data. If the scale is non-linear,\u001b[39;00m\n\u001b[1;32m    102\u001b[0m \u001b[38;5;66;03m# we undo the transformation, stack and redo the transformation\u001b[39;00m\n\u001b[0;32m--> 103\u001b[0m nl_trans \u001b[38;5;241m=\u001b[39m \u001b[43mget_non_linear_trans\u001b[49m\u001b[43m(\u001b[49m\u001b[43mscales\u001b[49m\u001b[38;5;241;43m.\u001b[39;49m\u001b[43my\u001b[49m\u001b[43m)\u001b[49m\n\u001b[1;32m    104\u001b[0m \u001b[38;5;28;01mif\u001b[39;00m nl_trans:\n\u001b[1;32m    105\u001b[0m     data \u001b[38;5;241m=\u001b[39m \u001b[38;5;28mcls\u001b[39m\u001b[38;5;241m.\u001b[39mtransform_position(data, trans_y\u001b[38;5;241m=\u001b[39mnl_trans\u001b[38;5;241m.\u001b[39minverse)\n",
      "File \u001b[0;32m~/env/above/lib/python3.9/site-packages/plotnine/positions/position_stack.py:97\u001b[0m, in \u001b[0;36mposition_stack.compute_panel.<locals>.get_non_linear_trans\u001b[0;34m(sc)\u001b[0m\n\u001b[1;32m     94\u001b[0m \u001b[38;5;28;01mfrom\u001b[39;00m \u001b[38;5;21;01m.\u001b[39;00m\u001b[38;5;21;01m.\u001b[39;00m\u001b[38;5;21;01mscales\u001b[39;00m\u001b[38;5;21;01m.\u001b[39;00m\u001b[38;5;21;01mscale\u001b[39;00m \u001b[38;5;28;01mimport\u001b[39;00m scale_continuous\n\u001b[1;32m     96\u001b[0m \u001b[38;5;28;01mif\u001b[39;00m \u001b[38;5;28misinstance\u001b[39m(sc, scale_continuous):\n\u001b[0;32m---> 97\u001b[0m     \u001b[38;5;28;01mif\u001b[39;00m \u001b[43m_is_non_linear_trans\u001b[49m\u001b[43m(\u001b[49m\u001b[43msc\u001b[49m\u001b[38;5;241;43m.\u001b[39;49m\u001b[43mtrans\u001b[49m\u001b[43m)\u001b[49m:\n\u001b[1;32m     98\u001b[0m         \u001b[38;5;28;01mreturn\u001b[39;00m sc\u001b[38;5;241m.\u001b[39mtrans\n",
      "File \u001b[0;32m~/env/above/lib/python3.9/site-packages/plotnine/positions/position_stack.py:87\u001b[0m, in \u001b[0;36mposition_stack.compute_panel.<locals>._is_non_linear_trans\u001b[0;34m(trans)\u001b[0m\n\u001b[1;32m     84\u001b[0m \u001b[38;5;28;01mif\u001b[39;00m tname\u001b[38;5;241m.\u001b[39mendswith(\u001b[38;5;124m\"\u001b[39m\u001b[38;5;124m_trans\u001b[39m\u001b[38;5;124m\"\u001b[39m):\n\u001b[1;32m     85\u001b[0m     tname \u001b[38;5;241m=\u001b[39m tname[:\u001b[38;5;241m-\u001b[39m\u001b[38;5;241m6\u001b[39m]\n\u001b[1;32m     86\u001b[0m \u001b[38;5;28;01mreturn\u001b[39;00m (\n\u001b[0;32m---> 87\u001b[0m     \u001b[43mtrans\u001b[49m\u001b[38;5;241;43m.\u001b[39;49m\u001b[43mdataspace_is_numerical\u001b[49m \u001b[38;5;129;01mand\u001b[39;00m tname \u001b[38;5;129;01mnot\u001b[39;00m \u001b[38;5;129;01min\u001b[39;00m linear_transforms\n\u001b[1;32m     88\u001b[0m )\n",
      "\u001b[0;31mAttributeError\u001b[0m: 'identity_trans' object has no attribute 'dataspace_is_numerical'"
     ]
    }
   ],
   "source": [
    "#for df in out_df_list:\n",
    "print(\n",
    "    ggplot(df, mapping=aes(x='status')) \n",
    "    + geom_bar()\n",
    "    + theme_bw()\n",
    ")"
   ]
  }
 ],
 "metadata": {
  "kernelspec": {
   "display_name": "/projects/env/above",
   "language": "python",
   "name": "python3"
  },
  "language_info": {
   "codemirror_mode": {
    "name": "ipython",
    "version": 3
   },
   "file_extension": ".py",
   "mimetype": "text/x-python",
   "name": "python",
   "nbconvert_exporter": "python",
   "pygments_lexer": "ipython3",
   "version": "3.9.18"
  }
 },
 "nbformat": 4,
 "nbformat_minor": 5
}
