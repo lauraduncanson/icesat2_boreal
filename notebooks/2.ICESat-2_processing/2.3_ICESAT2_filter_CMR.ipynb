{
 "cells": [
  {
   "cell_type": "markdown",
   "metadata": {},
   "source": [
    "# Filter ATL08\n",
    "\n",
    "1. Get the BBOX by TileID from 3.x notebooks\n",
    "2. Query CMR for matching ATL08 granules\n",
    "3. Get the IDs (later download urls)\n",
    "4. list the csv (or read from the "
   ]
  },
  {
   "cell_type": "code",
   "execution_count": 119,
   "metadata": {},
   "outputs": [],
   "source": [
    "import os\n",
    "import itertools\n",
    "import copy\n",
    "\n",
    "#from notebooks.general.covariateutils import get_index_tile\n",
    "#import notebooks.general.CovariateUtils \n",
    "from CovariateUtils import get_index_tile\n",
    "# import the MAAP package\n",
    "from maap.maap import MAAP\n",
    "\n",
    "# create MAAP class\n",
    "maap = MAAP()\n"
   ]
  },
  {
   "cell_type": "code",
   "execution_count": 15,
   "metadata": {},
   "outputs": [
    {
     "data": {
      "text/plain": [
       "'-116.85483935749697,50.57021397455074,-116.26013039328576,50.94612905730388'"
      ]
     },
     "execution_count": 15,
     "metadata": {},
     "output_type": "execute_result"
    }
   ],
   "source": [
    "#bbox = '-101.5,45.5,-100.5,46.5'\n",
    "\n",
    "geojson_path_albers = \"/projects/maap-users/alexdevseed/boreal_tiles.gpkg\"\n",
    "layer = \"boreal_tiles_albers\"\n",
    "tile_n = 30543\n",
    "\n",
    "tile_id = get_index_tile(geojson_path_albers, tile_n, buffer=0, layer = layer)\n",
    "\n",
    "in_bbox = \",\".join(str(coord) for coord in tile_id['bbox_4326'])\n",
    "out_crs = tile_id['tile_crs']\n",
    "in_bbox"
   ]
  },
  {
   "cell_type": "code",
   "execution_count": 140,
   "metadata": {},
   "outputs": [
    {
     "data": {
      "text/plain": [
       "['2019-06-01T00:00:00Z,2019-09-30T23:59:59Z',\n",
       " '2020-06-01T00:00:00Z,2020-09-30T23:59:59Z',\n",
       " '2021-06-01T00:00:00Z,2021-09-30T23:59:59Z']"
      ]
     },
     "execution_count": 140,
     "metadata": {},
     "output_type": "execute_result"
    }
   ],
   "source": [
    "YEARS = [2019, 2020, 2021]\n",
    "DATE_START = '06-01T00:00:00Z' # SUMMER\n",
    "DATE_END = '09-30T23:59:59Z' # SUMMER\n",
    "\n",
    "date_filters = [f'{year}-{DATE_START},{year}-{DATE_END}' for year in YEARS]\n",
    "date_filters"
   ]
  },
  {
   "cell_type": "code",
   "execution_count": 141,
   "metadata": {},
   "outputs": [],
   "source": [
    "base_query = {\n",
    "    'short_name':\"ATL08\",\n",
    "    'version':\"003\",\n",
    "    'bounding_box':in_bbox\n",
    "}\n",
    "    \n",
    "q3 = [build_query(copy.copy(base_query), date_filter) for date_filter in date_filters]\n",
    "queries = [dict(base_query, temporal=date_filter) for date_filter in date_filters]"
   ]
  },
  {
   "cell_type": "code",
   "execution_count": 142,
   "metadata": {},
   "outputs": [],
   "source": [
    "# query CMR as many seasons as necessary\n",
    "result_chain = itertools.chain.from_iterable([maap.searchGranule(**query) for query in queries])"
   ]
  },
  {
   "cell_type": "code",
   "execution_count": 143,
   "metadata": {},
   "outputs": [],
   "source": [
    "# get the s3 urls for granules we want to process\n",
    "granules = [item.getDownloadUrl() for item in result_chain]"
   ]
  },
  {
   "cell_type": "code",
   "execution_count": 116,
   "metadata": {},
   "outputs": [],
   "source": [
    "# now convert each granule to las format, keeping only relevant dimensions\n",
    "# eventually make this a dps job to be run over hundreds of granules\n",
    "# granules only ever need to be converted once, unless dimensions change"
   ]
  },
  {
   "cell_type": "code",
   "execution_count": 144,
   "metadata": {},
   "outputs": [
    {
     "data": {
      "text/plain": [
       "['s3://nasa-maap-data-store/file-staging/nasa-map/ATL08___003/ATL08_20190603002339_10040306_003_01.h5',\n",
       " 's3://nasa-maap-data-store/file-staging/nasa-map/ATL08___003/ATL08_20190607001520_10650306_003_01.h5',\n",
       " 's3://nasa-maap-data-store/file-staging/nasa-map/ATL08___003/ATL08_20190621110851_12860302_003_01.h5',\n",
       " 's3://nasa-maap-data-store/file-staging/nasa-map/ATL08___003/ATL08_20190720094445_03410402_003_01.h5',\n",
       " 's3://nasa-maap-data-store/file-staging/nasa-map/ATL08___003/ATL08_20190803212724_05620406_003_01.h5',\n",
       " 's3://nasa-maap-data-store/file-staging/nasa-map/ATL08___003/ATL08_20190818082057_07830402_003_01.h5',\n",
       " 's3://nasa-maap-data-store/file-staging/nasa-map/ATL08___003/ATL08_20190822081238_08440402_003_01.h5',\n",
       " 's3://nasa-maap-data-store/file-staging/nasa-map/ATL08___003/ATL08_20190901200329_10040406_003_01.h5',\n",
       " 's3://nasa-maap-data-store/file-staging/nasa-map/ATL08___003/ATL08_20190905195508_10650406_003_01.h5',\n",
       " 's3://nasa-maap-data-store/file-staging/nasa-map/ATL08___003/ATL08_20190920064842_12860402_003_01.h5',\n",
       " 's3://nasa-maap-data-store/file-staging/nasa-map/ATL08___003/ATL08_20190930183934_00590506_003_01.h5',\n",
       " 's3://nasa-maap-data-store/file-staging/nasa-map/ATL08___003/ATL08_20200604065433_10650706_003_01.h5',\n",
       " 's3://nasa-maap-data-store/file-staging/nasa-map/ATL08___003/ATL08_20200618174803_12860702_003_01.h5',\n",
       " 's3://cumulus-map-internal/file-staging/maap-prod/ATL08___003/ATL08_20200629053854_00590806_003_01.h5',\n",
       " 's3://cumulus-map-internal/file-staging/maap-prod/ATL08___003/ATL08_20200703053034_01200806_003_01.h5',\n",
       " 's3://nasa-maap-data-store/file-staging/nasa-map/ATL08___003/ATL08_20200717162407_03410802_003_01.h5',\n",
       " 's3://nasa-maap-data-store/file-staging/nasa-map/ATL08___003/ATL08_20200801040638_05620806_003_01.h5',\n",
       " 's3://nasa-maap-data-store/file-staging/nasa-map/ATL08___003/ATL08_20200815150009_07830802_003_01.h5',\n",
       " 's3://nasa-maap-data-store/file-staging/nasa-map/ATL08___003/ATL08_20200819145149_08440802_003_01.h5',\n",
       " 's3://nasa-maap-data-store/file-staging/nasa-map/ATL08___003/ATL08_20200830024240_10040806_003_01.h5',\n",
       " 's3://nasa-maap-data-store/file-staging/nasa-map/ATL08___003/ATL08_20200903023419_10650806_003_01.h5',\n",
       " 's3://nasa-maap-data-store/file-staging/nasa-map/ATL08___003/ATL08_20200928011843_00590906_003_01.h5']"
      ]
     },
     "execution_count": 144,
     "metadata": {},
     "output_type": "execute_result"
    }
   ],
   "source": [
    "granules"
   ]
  },
  {
   "cell_type": "code",
   "execution_count": 197,
   "metadata": {},
   "outputs": [],
   "source": [
    "tracks = list(itertools.chain.from_iterable([[f\"gt{i}l\",f\"gt{i}r\"] for i in range(1,4)]))\n",
    "\n",
    "template_dimensions = {\n",
    "    \"X\" : \"gtx/land_segments/longitude\",\n",
    "    \"Y\" : \"gtx/land_segments/latitude\",\n",
    "    \"Z\" : \"gtx/land_segments/dem_h\",\n",
    "    \"HeightAboveGround\" : \"gtx/land_segments/canopy/h_canopy\",\n",
    "    \"ElevationLow\" : \"gtx/land_segments/terrain/h_te_best_fit\",\n",
    "    \"OffsetTime\": \"gtx/land_segments/delta_time\",\n",
    "    \"landcover\": \"gtx/land_segments/segment_landcover\"\n",
    "}\n",
    "\n",
    "\n",
    "tmpl_filters = [\n",
    "    {\n",
    "      \"type\": \"filters.merge\"\n",
    "    },\n",
    "    {\n",
    "        \"limits\": \"HeightAboveGround[:34028235000000000000000000000000000000]\",\n",
    "        \"type\": \"filters.range\",\n",
    "        \"tag\": \"nodata\"\n",
    "    },\n",
    "    {\n",
    "        \"type\": \"filters.ferry\",\n",
    "        \"dimensions\": \"=>GpsTime\"\n",
    "    },\n",
    "    {\n",
    "        \"type\": \"filters.assign\",\n",
    "        \"value\": \"GpsTime = OffsetTime + 1198800018\"\n",
    "    },\n",
    "    {\n",
    "      \"type\":\"filters.colorinterp\",\n",
    "      \"ramp\":\"pestel_shades\",\n",
    "      \"dimension\":\"Z\"\n",
    "    }\n",
    "]\n",
    "\n",
    "tmpl_writers = {\n",
    "        \"type\" : \"writers.las\",\n",
    "        \"extra_dims\": \"all\",\n",
    "        \"pdal_metadata\": True,\n",
    "        \"minor_version\": \"4\",\n",
    "        \"a_srs\": \"EPSG:4326\"\n",
    "}"
   ]
  },
  {
   "cell_type": "code",
   "execution_count": 199,
   "metadata": {},
   "outputs": [],
   "source": [
    "def set_track(item, track):\n",
    "    return (item[0], item[1].replace('gtx', track))\n",
    "\n",
    "def build_dimensions(template_dimensions, track):\n",
    "    dimensions = dict([set_track(item, track) for item in template_dimensions.items()])\n",
    "    reader = dict(type=\"readers.hdf\",dimensions=dimensions)\n",
    "    return reader"
   ]
  },
  {
   "cell_type": "code",
   "execution_count": 200,
   "metadata": {},
   "outputs": [],
   "source": [
    "#set_track(copy.copy(template_reader), tracks[0])\n",
    "\n",
    "readers = [build_dimensions(template_dimensions, track) for track in tracks]\n",
    "#for track in tracks:\n",
    "#    dimensions = dict([set_track(item, track) for item in template_dimensions.items()])\n",
    "#    reader = dict(type=\"readers.hdf\",dimensions=dimensions)\n",
    "#    print(reader)\n",
    "pipeline = readers+tmpl_filters+[tmpl_writers]"
   ]
  },
  {
   "cell_type": "code",
   "execution_count": 165,
   "metadata": {},
   "outputs": [
    {
     "name": "stdout",
     "output_type": "stream",
     "text": [
      "{'pipeline': [{'type': 'readers.hdf', 'dimensions': {'X': 'gt1r/land_segments/longitude', 'Y': 'gt1r/land_segments/latitude', 'Z': 'gt1r/land_segments/dem_h', 'HeightAboveGround': 'gt1r/land_segments/canopy/h_canopy', 'ElevationLow': 'gt1r/land_segments/terrain/h_te_best_fit', 'OffsetTime': 'gt1r/land_segments/delta_time', 'landcover': 'gt1r/land_segments/segment_landcover'}}, {'type': 'readers.hdf', 'dimensions': {'X': 'gt1l/land_segments/longitude', 'Y': 'gt1l/land_segments/latitude', 'Z': 'gt1l/land_segments/dem_h', 'HeightAboveGround': 'gt1l/land_segments/canopy/h_canopy', 'ElevationLow': 'gt1l/land_segments/terrain/h_te_best_fit', 'OffsetTime': 'gt1l/land_segments/delta_time', 'landcover': 'gt1l/land_segments/segment_landcover'}}, {'type': 'readers.hdf', 'dimensions': {'X': 'gt2r/land_segments/longitude', 'Y': 'gt2r/land_segments/latitude', 'Z': 'gt2r/land_segments/dem_h', 'HeightAboveGround': 'gt2r/land_segments/canopy/h_canopy', 'ElevationLow': 'gt2r/land_segments/terrain/h_te_best_fit', 'OffsetTime': 'gt2r/land_segments/delta_time', 'landcover': 'gt2r/land_segments/segment_landcover'}}, {'type': 'readers.hdf', 'dimensions': {'X': 'gt2l/land_segments/longitude', 'Y': 'gt2l/land_segments/latitude', 'Z': 'gt2l/land_segments/dem_h', 'HeightAboveGround': 'gt2l/land_segments/canopy/h_canopy', 'ElevationLow': 'gt2l/land_segments/terrain/h_te_best_fit', 'OffsetTime': 'gt2l/land_segments/delta_time', 'landcover': 'gt2l/land_segments/segment_landcover'}}, {'type': 'readers.hdf', 'dimensions': {'X': 'gt3r/land_segments/longitude', 'Y': 'gt3r/land_segments/latitude', 'Z': 'gt3r/land_segments/dem_h', 'HeightAboveGround': 'gt3r/land_segments/canopy/h_canopy', 'ElevationLow': 'gt3r/land_segments/terrain/h_te_best_fit', 'OffsetTime': 'gt3r/land_segments/delta_time', 'landcover': 'gt3r/land_segments/segment_landcover'}}, {'type': 'readers.hdf', 'dimensions': {'X': 'gt3l/land_segments/longitude', 'Y': 'gt3l/land_segments/latitude', 'Z': 'gt3l/land_segments/dem_h', 'HeightAboveGround': 'gt3l/land_segments/canopy/h_canopy', 'ElevationLow': 'gt3l/land_segments/terrain/h_te_best_fit', 'OffsetTime': 'gt3l/land_segments/delta_time', 'landcover': 'gt3l/land_segments/segment_landcover'}}, {'type': 'filters.merge'}, {'limits': 'HeightAboveGround[:34028235000000000000000000000000000000]', 'type': 'filters.range', 'tag': 'nodata'}, {'type': 'filters.ferry', 'dimensions': '=>GpsTime'}, {'type': 'filters.assign', 'value': 'GpsTime = OffsetTime + 1198800018'}, {'type': 'filters.colorinterp', 'ramp': 'pestel_shades', 'dimension': 'Z'}, {'type': 'writers.las', 'extra_dims': 'all', 'pdal_metadata': True, 'minor_version': '4', 'a_srs': 'EPSG:4326'}]}\n"
     ]
    }
   ],
   "source": [
    "import json\n",
    "\n",
    "with open('hdf-to-las.json') as f:\n",
    "    data = json.load(f)\n",
    "print(data)"
   ]
  },
  {
   "cell_type": "code",
   "execution_count": 203,
   "metadata": {},
   "outputs": [
    {
     "data": {
      "text/plain": [
       "'[{\"type\": \"readers.hdf\", \"dimensions\": {\"X\": \"gt1l/land_segments/longitude\", \"Y\": \"gt1l/land_segments/latitude\", \"Z\": \"gt1l/land_segments/dem_h\", \"HeightAboveGround\": \"gt1l/land_segments/canopy/h_canopy\", \"ElevationLow\": \"gt1l/land_segments/terrain/h_te_best_fit\", \"OffsetTime\": \"gt1l/land_segments/delta_time\", \"landcover\": \"gt1l/land_segments/segment_landcover\"}}, {\"type\": \"readers.hdf\", \"dimensions\": {\"X\": \"gt1r/land_segments/longitude\", \"Y\": \"gt1r/land_segments/latitude\", \"Z\": \"gt1r/land_segments/dem_h\", \"HeightAboveGround\": \"gt1r/land_segments/canopy/h_canopy\", \"ElevationLow\": \"gt1r/land_segments/terrain/h_te_best_fit\", \"OffsetTime\": \"gt1r/land_segments/delta_time\", \"landcover\": \"gt1r/land_segments/segment_landcover\"}}, {\"type\": \"readers.hdf\", \"dimensions\": {\"X\": \"gt2l/land_segments/longitude\", \"Y\": \"gt2l/land_segments/latitude\", \"Z\": \"gt2l/land_segments/dem_h\", \"HeightAboveGround\": \"gt2l/land_segments/canopy/h_canopy\", \"ElevationLow\": \"gt2l/land_segments/terrain/h_te_best_fit\", \"OffsetTime\": \"gt2l/land_segments/delta_time\", \"landcover\": \"gt2l/land_segments/segment_landcover\"}}, {\"type\": \"readers.hdf\", \"dimensions\": {\"X\": \"gt2r/land_segments/longitude\", \"Y\": \"gt2r/land_segments/latitude\", \"Z\": \"gt2r/land_segments/dem_h\", \"HeightAboveGround\": \"gt2r/land_segments/canopy/h_canopy\", \"ElevationLow\": \"gt2r/land_segments/terrain/h_te_best_fit\", \"OffsetTime\": \"gt2r/land_segments/delta_time\", \"landcover\": \"gt2r/land_segments/segment_landcover\"}}, {\"type\": \"readers.hdf\", \"dimensions\": {\"X\": \"gt3l/land_segments/longitude\", \"Y\": \"gt3l/land_segments/latitude\", \"Z\": \"gt3l/land_segments/dem_h\", \"HeightAboveGround\": \"gt3l/land_segments/canopy/h_canopy\", \"ElevationLow\": \"gt3l/land_segments/terrain/h_te_best_fit\", \"OffsetTime\": \"gt3l/land_segments/delta_time\", \"landcover\": \"gt3l/land_segments/segment_landcover\"}}, {\"type\": \"readers.hdf\", \"dimensions\": {\"X\": \"gt3r/land_segments/longitude\", \"Y\": \"gt3r/land_segments/latitude\", \"Z\": \"gt3r/land_segments/dem_h\", \"HeightAboveGround\": \"gt3r/land_segments/canopy/h_canopy\", \"ElevationLow\": \"gt3r/land_segments/terrain/h_te_best_fit\", \"OffsetTime\": \"gt3r/land_segments/delta_time\", \"landcover\": \"gt3r/land_segments/segment_landcover\"}}, {\"type\": \"filters.merge\"}, {\"limits\": \"HeightAboveGround[:34028235000000000000000000000000000000]\", \"type\": \"filters.range\", \"tag\": \"nodata\"}, {\"type\": \"filters.ferry\", \"dimensions\": \"=>GpsTime\"}, {\"type\": \"filters.assign\", \"value\": \"GpsTime = OffsetTime + 1198800018\"}, {\"type\": \"filters.colorinterp\", \"ramp\": \"pestel_shades\", \"dimension\": \"Z\"}, {\"type\": \"writers.las\", \"extra_dims\": \"all\", \"pdal_metadata\": true, \"minor_version\": \"4\", \"a_srs\": \"EPSG:4326\"}]'"
      ]
     },
     "execution_count": 203,
     "metadata": {},
     "output_type": "execute_result"
    }
   ],
   "source": [
    "pipeline_json = json.dumps(pipeline)"
   ]
  },
  {
   "cell_type": "code",
   "execution_count": 198,
   "metadata": {},
   "outputs": [
    {
     "data": {
      "text/plain": [
       "['gt1l', 'gt1r', 'gt2l', 'gt2r', 'gt3l', 'gt3r']"
      ]
     },
     "execution_count": 198,
     "metadata": {},
     "output_type": "execute_result"
    }
   ],
   "source": []
  }
 ],
 "metadata": {
  "kernelspec": {
   "display_name": "Python [conda env:root] *",
   "language": "python",
   "name": "conda-root-py"
  },
  "language_info": {
   "codemirror_mode": {
    "name": "ipython",
    "version": 3
   },
   "file_extension": ".py",
   "mimetype": "text/x-python",
   "name": "python",
   "nbconvert_exporter": "python",
   "pygments_lexer": "ipython3",
   "version": "3.7.8"
  }
 },
 "nbformat": 4,
 "nbformat_minor": 4
}
