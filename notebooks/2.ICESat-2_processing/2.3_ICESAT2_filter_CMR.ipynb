{
 "cells": [
  {
   "cell_type": "markdown",
   "metadata": {},
   "source": [
    "# Filter ATL08\n",
    "\n",
    "1. Get the BBOX by TileID from 3.x notebooks\n",
    "2. Query CMR for matching ATL08 granules\n",
    "3. Get the IDs (later download urls)\n",
    "4. list the csv (or read from the "
   ]
  },
  {
   "cell_type": "code",
   "execution_count": 119,
   "metadata": {},
   "outputs": [],
   "source": [
    "import os\n",
    "import itertools\n",
    "import copy\n",
    "\n",
    "#from notebooks.general.covariateutils import get_index_tile\n",
    "#import notebooks.general.CovariateUtils \n",
    "from CovariateUtils import get_index_tile\n",
    "# import the MAAP package\n",
    "from maap.maap import MAAP\n",
    "\n",
    "# create MAAP class\n",
    "maap = MAAP()\n"
   ]
  },
  {
   "cell_type": "code",
   "execution_count": 37,
   "metadata": {},
   "outputs": [
    {
     "data": {
      "text/plain": [
       "'/projects/icesat2_boreal/notebooks/2.ICESat-2_processing'"
      ]
     },
     "execution_count": 37,
     "metadata": {},
     "output_type": "execute_result"
    }
   ],
   "source": [
    "os.getcwd()"
   ]
  },
  {
   "cell_type": "code",
   "execution_count": 15,
   "metadata": {},
   "outputs": [
    {
     "data": {
      "text/plain": [
       "'-116.85483935749697,50.57021397455074,-116.26013039328576,50.94612905730388'"
      ]
     },
     "execution_count": 15,
     "metadata": {},
     "output_type": "execute_result"
    }
   ],
   "source": [
    "#bbox = '-101.5,45.5,-100.5,46.5'\n",
    "\n",
    "geojson_path_albers = \"/projects/maap-users/alexdevseed/boreal_tiles.gpkg\"\n",
    "layer = \"boreal_tiles_albers\"\n",
    "tile_n = 30543\n",
    "\n",
    "tile_id = get_index_tile(geojson_path_albers, tile_n, buffer=0, layer = layer)\n",
    "\n",
    "in_bbox = \",\".join(str(coord) for coord in tile_id['bbox_4326'])\n",
    "out_crs = tile_id['tile_crs']\n",
    "in_bbox"
   ]
  },
  {
   "cell_type": "code",
   "execution_count": 62,
   "metadata": {},
   "outputs": [],
   "source": [
    "\n",
    "# generated from this EDSC search: https://ade.maap-project.org:30052/search?q=ATL08\n",
    "# TODO pass more filtering\n",
    "results = maap.searchGranule(short_name=\"ATL08\",\n",
    "                             version=\"003\", \n",
    "                             bounding_box=in_bbox)"
   ]
  },
  {
   "cell_type": "code",
   "execution_count": 66,
   "metadata": {},
   "outputs": [
    {
     "data": {
      "text/plain": [
       "maap.Result.Granule"
      ]
     },
     "execution_count": 66,
     "metadata": {},
     "output_type": "execute_result"
    }
   ],
   "source": [
    "type(results[0])"
   ]
  },
  {
   "cell_type": "code",
   "execution_count": 28,
   "metadata": {},
   "outputs": [
    {
     "data": {
      "text/plain": [
       "['ATL08_20181020224531_03410102_003_01.h5',\n",
       " 'ATL08_20181104102812_05620106_003_01.h5',\n",
       " 'ATL08_20181118212141_07830102_003_01.h5',\n",
       " 'ATL08_20181122211318_08440102_003_01.h5',\n",
       " 'ATL08_20181203090405_10040106_003_01.h5',\n",
       " 'ATL08_20181207085545_10650106_003_01.h5',\n",
       " 'ATL08_20181221194919_12860102_003_01.h5',\n",
       " 'ATL08_20190101074013_00590206_003_01.h5',\n",
       " 'ATL08_20190105073153_01200206_003_01.h5',\n",
       " 'ATL08_20190119182518_03410202_003_01.h5',\n",
       " 'ATL08_20190203060805_05620206_003_01.h5',\n",
       " 'ATL08_20190217170132_07830202_003_01.h5',\n",
       " 'ATL08_20190221165313_08440202_003_01.h5',\n",
       " 'ATL08_20190304044405_10040206_003_01.h5',\n",
       " 'ATL08_20190308043545_10650206_003_01.h5',\n",
       " 'ATL08_20190322152915_12860202_003_01.h5',\n",
       " 'ATL08_20190402032005_00590306_003_01.h5',\n",
       " 'ATL08_20190406031145_01200306_003_01.h5',\n",
       " 'ATL08_20190420140513_03410302_003_01.h5',\n",
       " 'ATL08_20190505014742_05620306_003_01.h5']"
      ]
     },
     "execution_count": 28,
     "metadata": {},
     "output_type": "execute_result"
    }
   ],
   "source": [
    "csv = [os.path.basename(item.getDownloadUrl()) for item in results]\n",
    "csv"
   ]
  },
  {
   "cell_type": "code",
   "execution_count": 132,
   "metadata": {},
   "outputs": [
    {
     "data": {
      "text/plain": [
       "['2019-06-01T00:00:00Z,2019-09-30T23:59:59Z',\n",
       " '2020-06-01T00:00:00Z,2020-09-30T23:59:59Z']"
      ]
     },
     "execution_count": 132,
     "metadata": {},
     "output_type": "execute_result"
    }
   ],
   "source": [
    "YEARS = [2019, 2020]\n",
    "DATE_START = '06-01T00:00:00Z' # SUMMER\n",
    "DATE_END = '09-30T23:59:59Z' # SUMMER\n",
    "\n",
    "date_filters = [f'{year}-{DATE_START},{year}-{DATE_END}' for year in YEARS]\n",
    "date_filters"
   ]
  },
  {
   "cell_type": "code",
   "execution_count": 136,
   "metadata": {},
   "outputs": [],
   "source": [
    "queries2 = [{\n",
    "    'short_name':\"ATL08\",\n",
    "    'version':\"003\", \n",
    "    'bounding_box':in_bbox,\n",
    "    'temporal':date_filter[0]\n",
    "    },\n",
    "    {\n",
    "    'short_name':\"ATL08\",\n",
    "    'version':\"003\", \n",
    "    'bounding_box':in_bbox,\n",
    "    'temporal':date_filter[1]\n",
    "    }\n",
    "]\n",
    "\n",
    "\n",
    "def build_query(base_query: dict, date: str) -> dict:\n",
    "    base_query[\"temporal\"] = date\n",
    "    return base_query\n",
    "\n",
    "base_query = {\n",
    "    'short_name':\"ATL08\",\n",
    "    'version':\"003\",\n",
    "    'bounding_box':in_bbox\n",
    "}\n",
    "    \n",
    "q3 = [build_query(copy.copy(base_query), date_filter) for date_filter in date_filters]\n",
    "queries = [dict(base_query, temporal=date_filter) for date_filter in date_filters]"
   ]
  },
  {
   "cell_type": "code",
   "execution_count": 135,
   "metadata": {},
   "outputs": [
    {
     "data": {
      "text/plain": [
       "[{'short_name': 'ATL08',\n",
       "  'version': '003',\n",
       "  'bounding_box': '-116.85483935749697,50.57021397455074,-116.26013039328576,50.94612905730388',\n",
       "  'temporal': '2019-06-01T00:00:00Z,2019-09-30T23:59:59Z'},\n",
       " {'short_name': 'ATL08',\n",
       "  'version': '003',\n",
       "  'bounding_box': '-116.85483935749697,50.57021397455074,-116.26013039328576,50.94612905730388',\n",
       "  'temporal': '2020-06-01T00:00:00Z,2020-09-30T23:59:59Z'}]"
      ]
     },
     "execution_count": 135,
     "metadata": {},
     "output_type": "execute_result"
    }
   ],
   "source": [
    "q3"
   ]
  },
  {
   "cell_type": "code",
   "execution_count": 137,
   "metadata": {},
   "outputs": [],
   "source": [
    "# query CMR as many seasons as necessary\n",
    "result_chain = itertools.chain.from_iterable([maap.searchGranule(**query) for query in queries])"
   ]
  },
  {
   "cell_type": "code",
   "execution_count": 138,
   "metadata": {},
   "outputs": [],
   "source": [
    "# get the s3 urls for granules we want to process\n",
    "granules = [item.getDownloadUrl() for item in result_chain]"
   ]
  },
  {
   "cell_type": "code",
   "execution_count": 116,
   "metadata": {},
   "outputs": [],
   "source": [
    "# now convert each granule to las format, keeping only relevant dimensions\n",
    "# eventually make this a dps job to be run over hundreds of granules\n",
    "# granules only ever need to be converted once, unless dimensions change"
   ]
  },
  {
   "cell_type": "code",
   "execution_count": 139,
   "metadata": {},
   "outputs": [
    {
     "data": {
      "text/plain": [
       "['s3://nasa-maap-data-store/file-staging/nasa-map/ATL08___003/ATL08_20190603002339_10040306_003_01.h5',\n",
       " 's3://nasa-maap-data-store/file-staging/nasa-map/ATL08___003/ATL08_20190607001520_10650306_003_01.h5',\n",
       " 's3://nasa-maap-data-store/file-staging/nasa-map/ATL08___003/ATL08_20190621110851_12860302_003_01.h5',\n",
       " 's3://nasa-maap-data-store/file-staging/nasa-map/ATL08___003/ATL08_20190720094445_03410402_003_01.h5',\n",
       " 's3://nasa-maap-data-store/file-staging/nasa-map/ATL08___003/ATL08_20190803212724_05620406_003_01.h5',\n",
       " 's3://nasa-maap-data-store/file-staging/nasa-map/ATL08___003/ATL08_20190818082057_07830402_003_01.h5',\n",
       " 's3://nasa-maap-data-store/file-staging/nasa-map/ATL08___003/ATL08_20190822081238_08440402_003_01.h5',\n",
       " 's3://nasa-maap-data-store/file-staging/nasa-map/ATL08___003/ATL08_20190901200329_10040406_003_01.h5',\n",
       " 's3://nasa-maap-data-store/file-staging/nasa-map/ATL08___003/ATL08_20190905195508_10650406_003_01.h5',\n",
       " 's3://nasa-maap-data-store/file-staging/nasa-map/ATL08___003/ATL08_20190920064842_12860402_003_01.h5',\n",
       " 's3://nasa-maap-data-store/file-staging/nasa-map/ATL08___003/ATL08_20190930183934_00590506_003_01.h5',\n",
       " 's3://nasa-maap-data-store/file-staging/nasa-map/ATL08___003/ATL08_20200604065433_10650706_003_01.h5',\n",
       " 's3://nasa-maap-data-store/file-staging/nasa-map/ATL08___003/ATL08_20200618174803_12860702_003_01.h5',\n",
       " 's3://cumulus-map-internal/file-staging/maap-prod/ATL08___003/ATL08_20200629053854_00590806_003_01.h5',\n",
       " 's3://cumulus-map-internal/file-staging/maap-prod/ATL08___003/ATL08_20200703053034_01200806_003_01.h5',\n",
       " 's3://nasa-maap-data-store/file-staging/nasa-map/ATL08___003/ATL08_20200717162407_03410802_003_01.h5',\n",
       " 's3://nasa-maap-data-store/file-staging/nasa-map/ATL08___003/ATL08_20200801040638_05620806_003_01.h5',\n",
       " 's3://nasa-maap-data-store/file-staging/nasa-map/ATL08___003/ATL08_20200815150009_07830802_003_01.h5',\n",
       " 's3://nasa-maap-data-store/file-staging/nasa-map/ATL08___003/ATL08_20200819145149_08440802_003_01.h5',\n",
       " 's3://nasa-maap-data-store/file-staging/nasa-map/ATL08___003/ATL08_20200830024240_10040806_003_01.h5',\n",
       " 's3://nasa-maap-data-store/file-staging/nasa-map/ATL08___003/ATL08_20200903023419_10650806_003_01.h5',\n",
       " 's3://nasa-maap-data-store/file-staging/nasa-map/ATL08___003/ATL08_20200928011843_00590906_003_01.h5']"
      ]
     },
     "execution_count": 139,
     "metadata": {},
     "output_type": "execute_result"
    }
   ],
   "source": [
    "granules"
   ]
  }
 ],
 "metadata": {
  "kernelspec": {
   "display_name": "Python [conda env:root] *",
   "language": "python",
   "name": "conda-root-py"
  },
  "language_info": {
   "codemirror_mode": {
    "name": "ipython",
    "version": 3
   },
   "file_extension": ".py",
   "mimetype": "text/x-python",
   "name": "python",
   "nbconvert_exporter": "python",
   "pygments_lexer": "ipython3",
   "version": "3.7.8"
  }
 },
 "nbformat": 4,
 "nbformat_minor": 4
}
