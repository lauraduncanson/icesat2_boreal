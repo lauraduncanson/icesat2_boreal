{
 "cells": [
  {
   "cell_type": "markdown",
   "metadata": {},
   "source": [
    "# Filter ATL08\n",
    "\n",
    "1. Get the BBOX by TileID from 3.x notebooks\n",
    "2. Query CMR for matching ATL08 granules\n",
    "3. Get the IDs (later download urls)\n",
    "4. list the csv (or read from the "
   ]
  },
  {
   "cell_type": "code",
   "execution_count": 32,
   "metadata": {},
   "outputs": [
    {
     "ename": "ModuleNotFoundError",
     "evalue": "No module named 'notebooks1'",
     "output_type": "error",
     "traceback": [
      "\u001b[0;31m---------------------------------------------------------------------------\u001b[0m",
      "\u001b[0;31mModuleNotFoundError\u001b[0m                       Traceback (most recent call last)",
      "\u001b[0;32m<ipython-input-32-bf1815595c9f>\u001b[0m in \u001b[0;36m<module>\u001b[0;34m\u001b[0m\n\u001b[1;32m      1\u001b[0m \u001b[0;32mimport\u001b[0m \u001b[0mos\u001b[0m\u001b[0;34m\u001b[0m\u001b[0;34m\u001b[0m\u001b[0m\n\u001b[1;32m      2\u001b[0m \u001b[0;34m\u001b[0m\u001b[0m\n\u001b[0;32m----> 3\u001b[0;31m \u001b[0;32mfrom\u001b[0m \u001b[0mnotebooks1\u001b[0m\u001b[0;34m.\u001b[0m\u001b[0mgeneral\u001b[0m\u001b[0;34m.\u001b[0m\u001b[0mcovariateutils\u001b[0m \u001b[0;32mimport\u001b[0m \u001b[0mget_index_tile\u001b[0m\u001b[0;34m\u001b[0m\u001b[0;34m\u001b[0m\u001b[0m\n\u001b[0m\u001b[1;32m      4\u001b[0m \u001b[0;31m#import notebooks.general.CovariateUtils\u001b[0m\u001b[0;34m\u001b[0m\u001b[0;34m\u001b[0m\u001b[0;34m\u001b[0m\u001b[0m\n\u001b[1;32m      5\u001b[0m \u001b[0;31m#from CovariateUtils import get_index_tile\u001b[0m\u001b[0;34m\u001b[0m\u001b[0;34m\u001b[0m\u001b[0;34m\u001b[0m\u001b[0m\n",
      "\u001b[0;31mModuleNotFoundError\u001b[0m: No module named 'notebooks1'"
     ]
    }
   ],
   "source": [
    "import os\n",
    "\n",
    "from notebooks1.general.covariateutils import get_index_tile\n",
    "#import notebooks.general.CovariateUtils \n",
    "#from CovariateUtils import get_index_tile\n",
    "# import the MAAP package\n",
    "from maap.maap import MAAP\n",
    "\n",
    "# create MAAP class\n",
    "maap = MAAP()\n"
   ]
  },
  {
   "cell_type": "code",
   "execution_count": 15,
   "metadata": {},
   "outputs": [
    {
     "data": {
      "text/plain": [
       "'-116.85483935749697,50.57021397455074,-116.26013039328576,50.94612905730388'"
      ]
     },
     "execution_count": 15,
     "metadata": {},
     "output_type": "execute_result"
    }
   ],
   "source": [
    "#bbox = '-101.5,45.5,-100.5,46.5'\n",
    "\n",
    "geojson_path_albers = \"/projects/maap-users/alexdevseed/boreal_tiles.gpkg\"\n",
    "layer = \"boreal_tiles_albers\"\n",
    "tile_n = 30543\n",
    "\n",
    "tile_id = get_index_tile(geojson_path_albers, tile_n, buffer=0, layer = layer)\n",
    "\n",
    "in_bbox = \",\".join(str(coord) for coord in tile_id['bbox_4326'])\n",
    "out_crs = tile_id['tile_crs']\n",
    "in_bbox"
   ]
  },
  {
   "cell_type": "code",
   "execution_count": 17,
   "metadata": {},
   "outputs": [],
   "source": [
    "\n",
    "# generated from this EDSC search: https://ade.maap-project.org:30052/search?q=ATL08\n",
    "results = maap.searchGranule(short_name=\"ATL08\",version=\"003\", bounding_box=in_bbox)"
   ]
  },
  {
   "cell_type": "code",
   "execution_count": 28,
   "metadata": {},
   "outputs": [
    {
     "data": {
      "text/plain": [
       "['ATL08_20181020224531_03410102_003_01.h5',\n",
       " 'ATL08_20181104102812_05620106_003_01.h5',\n",
       " 'ATL08_20181118212141_07830102_003_01.h5',\n",
       " 'ATL08_20181122211318_08440102_003_01.h5',\n",
       " 'ATL08_20181203090405_10040106_003_01.h5',\n",
       " 'ATL08_20181207085545_10650106_003_01.h5',\n",
       " 'ATL08_20181221194919_12860102_003_01.h5',\n",
       " 'ATL08_20190101074013_00590206_003_01.h5',\n",
       " 'ATL08_20190105073153_01200206_003_01.h5',\n",
       " 'ATL08_20190119182518_03410202_003_01.h5',\n",
       " 'ATL08_20190203060805_05620206_003_01.h5',\n",
       " 'ATL08_20190217170132_07830202_003_01.h5',\n",
       " 'ATL08_20190221165313_08440202_003_01.h5',\n",
       " 'ATL08_20190304044405_10040206_003_01.h5',\n",
       " 'ATL08_20190308043545_10650206_003_01.h5',\n",
       " 'ATL08_20190322152915_12860202_003_01.h5',\n",
       " 'ATL08_20190402032005_00590306_003_01.h5',\n",
       " 'ATL08_20190406031145_01200306_003_01.h5',\n",
       " 'ATL08_20190420140513_03410302_003_01.h5',\n",
       " 'ATL08_20190505014742_05620306_003_01.h5']"
      ]
     },
     "execution_count": 28,
     "metadata": {},
     "output_type": "execute_result"
    }
   ],
   "source": [
    "csv = [os.path.basename(item.getDownloadUrl()) for item in results]\n",
    "csv"
   ]
  }
 ],
 "metadata": {
  "kernelspec": {
   "display_name": "Python [conda env:root] *",
   "language": "python",
   "name": "conda-root-py"
  },
  "language_info": {
   "codemirror_mode": {
    "name": "ipython",
    "version": 3
   },
   "file_extension": ".py",
   "mimetype": "text/x-python",
   "name": "python",
   "nbconvert_exporter": "python",
   "pygments_lexer": "ipython3",
   "version": "3.7.8"
  }
 },
 "nbformat": 4,
 "nbformat_minor": 4
}
