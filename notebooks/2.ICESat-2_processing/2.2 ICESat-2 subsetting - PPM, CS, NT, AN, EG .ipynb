{
 "cells": [
  {
   "cell_type": "markdown",
   "metadata": {},
   "source": [
    "# 2.2 ICESat-2 subsetting by vector bbox tiles\n",
    "#### This notebook will create a lookup table that lists all potential ATL08 files that intersect the vector bbox tiles used to create covariate stacks.\n",
    "#### This lookup table will then be used to build tile-specific ATL08 data frames to which the covariates will be extracted on a tile basis.\n",
    "#### Steps: for each tile id;\n",
    "#### 1. make a list of all ATL08 files (like in 2.3)\n",
    "#### 2. loop over this list and get min/max lon, and determine if within min/max lon of tile id\n",
    "#### 3. "
   ]
  }
 ],
 "metadata": {
  "kernelspec": {
   "display_name": "Python 3",
   "language": "python",
   "name": "python3"
  },
  "language_info": {
   "codemirror_mode": {
    "name": "ipython",
    "version": 3
   },
   "file_extension": ".py",
   "mimetype": "text/x-python",
   "name": "python",
   "nbconvert_exporter": "python",
   "pygments_lexer": "ipython3",
   "version": "3.7.8"
  }
 },
 "nbformat": 4,
 "nbformat_minor": 4
}
