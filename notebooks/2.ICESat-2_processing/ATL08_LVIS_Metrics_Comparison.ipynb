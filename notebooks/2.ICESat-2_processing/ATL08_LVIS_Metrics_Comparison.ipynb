{
 "cells": [
  {
   "cell_type": "markdown",
   "id": "corrected-coordinate",
   "metadata": {},
   "source": [
    "# ATL08 and LVIS height comparison:\n",
    "\n",
    "##### This notebook will 1) read in the ICESat-2 ATL08 (created in ATL08_retrieval.ipynb) and 2019 LVIS L2 file, 2) convert the ATL08 and LVIS data to spatial features, and 3) compare the canopy top height and ground elevation from two datasets at ATL08 segment level (100m * 12m).\n",
    "\n",
    "##### For LVIS retrieval, please see notebook/1.Reference product/1.2.1 LVIS biomass model over plot.ipynb for details"
   ]
  },
  {
   "cell_type": "code",
   "execution_count": 14,
   "id": "great-romantic",
   "metadata": {},
   "outputs": [],
   "source": [
    "#install.packages(sp)\n",
    "#install.packages(ggplot2)\n",
    "#install.packages(raster)\n",
    "#install.packages(maptools)\n",
    "#install.packages(\"tidyverse\")\n",
    "#install.packages(\"optparse\")\n",
    "#install.packages(\"geojsonio\")\n",
    "#install.packages(rgeos)\n",
    "#install.packages(gstat)\n",
    "#install.packages(lidR)\n",
    "#install.packages(sf)\n",
    "#install.packages(fs)\n",
    "#install.packages(rgdal)\n",
    "library(sp)\n",
    "library(ggplot2)\n",
    "library(raster)\n",
    "library(maptools)\n",
    "library(tidyverse)\n",
    "library(optparse)\n",
    "library(geojsonio)\n",
    "library(rgeos)\n",
    "library(gstat)\n",
    "library(sf)\n",
    "library(fs)\n",
    "library(rgdal)"
   ]
  },
  {
   "cell_type": "code",
   "execution_count": 2,
   "id": "employed-spray",
   "metadata": {},
   "outputs": [
    {
     "name": "stdout",
     "output_type": "stream",
     "text": [
      "[1] 1\n",
      "[1] 2\n",
      "[1] 3\n",
      "[1] 4\n",
      "[1] 5\n",
      "[1] 6\n",
      "[1] 7\n",
      "[1] 8\n",
      "[1] 9\n",
      "[1] 10\n",
      "[1] 11\n",
      "[1] 12\n",
      "[1] 13\n",
      "[1] 14\n",
      "[1] 15\n",
      "[1] 16\n",
      "[1] 17\n",
      "[1] 18\n",
      "[1] 19\n",
      "[1] 20\n",
      "[1] 21\n",
      "[1] 22\n",
      "[1] 23\n",
      "[1] 24\n",
      "[1] 25\n",
      "[1] 26\n",
      "[1] 27\n",
      "[1] 28\n",
      "[1] 29\n",
      "[1] 30\n",
      "[1] 31\n",
      "[1] 32\n",
      "[1] 33\n",
      "[1] 34\n",
      "[1] 35\n",
      "[1] 36\n",
      "[1] 37\n",
      "[1] 38\n",
      "[1] 39\n",
      "[1] 40\n",
      "[1] 41\n",
      "[1] 42\n",
      "[1] 43\n",
      "[1] 44\n",
      "[1] 45\n",
      "[1] 46\n",
      "[1] 47\n",
      "[1] 48\n",
      "[1] 49\n",
      "[1] 50\n",
      "[1] 51\n",
      "[1] 52\n",
      "[1] 53\n",
      "[1] 54\n",
      "[1] 55\n",
      "[1] 56\n",
      "[1] 57\n",
      "[1] 58\n",
      "[1] 59\n",
      "[1] 60\n",
      "[1] 61\n",
      "[1] 62\n",
      "[1] 63\n",
      "[1] 64\n",
      "[1] 65\n",
      "[1] 66\n",
      "[1] 67\n",
      "[1] 68\n",
      "[1] 69\n",
      "[1] 70\n",
      "[1] 71\n",
      "[1] 72\n",
      "[1] 73\n",
      "[1] 74\n",
      "[1] 75\n",
      "[1] 76\n",
      "[1] 77\n",
      "[1] 78\n",
      "[1] 79\n",
      "[1] 80\n",
      "[1] 81\n",
      "[1] 82\n",
      "[1] 83\n",
      "[1] 84\n",
      "[1] 85\n",
      "[1] 86\n",
      "[1] 87\n",
      "[1] 88\n",
      "[1] 89\n",
      "[1] 90\n",
      "[1] 91\n",
      "[1] 92\n",
      "[1] 93\n",
      "[1] 94\n",
      "[1] 95\n",
      "[1] 96\n",
      "[1] 97\n"
     ]
    }
   ],
   "source": [
    "#Convert the ATL08 file from the csv format to the point features. Then create ATL08 segments (100m*12m) using each ATL08 coordinates as centroids \n",
    "atl08_list <- list.files('/projects/ICESat-2_LVIS/ATL08_csv/',pattern = \".csv\",full.names = TRUE)\n",
    "\n",
    "for(i in 1:length(atl08_list)) {\n",
    "  if(i==1) {\n",
    "    atl08_temp <- read.csv(atl08_list[1])\n",
    "    atl08_temp$filename <- substr(atl08_list[1],1,nchar(atl08_list[1])-9)\n",
    "    atl08_temp$track_num <- substr(atl08_list[1],73,77)\n",
    "    atl08_file <- atl08_temp\n",
    "  }\n",
    "  if(i>1) {\n",
    "    atl08_temp <- read.csv(atl08_list[i])\n",
    "    atl08_temp$filename <- substr(atl08_list[i],1,nchar(atl08_list[i])-9)\n",
    "    atl08_temp$track_num <- substr(atl08_list[i],73,77)\n",
    "    atl08_file <- rbind(atl08_file,atl08_temp)\n",
    "  }\n",
    "  print(i)\n",
    "}\n",
    "\n",
    "#Extract the ATL08 within latitudinal bounds\n",
    "atl08_file <- atl08_file[which(atl08_file$latitude >= 61.983453 & atl08_file$latitude <= 67.918485),]\n",
    "write.csv(atl08_file,file = '/projects/ICESat-2_LVIS/ATL08/Intersected_ATL08.csv')"
   ]
  },
  {
   "cell_type": "code",
   "execution_count": 21,
   "id": "flying-portugal",
   "metadata": {},
   "outputs": [
    {
     "ename": "ERROR",
     "evalue": "Error in `coordinates<-`(`*tmp*`, value = c(\"longitude\", \"latitude\")): setting coordinates cannot be done on Spatial objects, where they have already been set\n",
     "output_type": "error",
     "traceback": [
      "Error in `coordinates<-`(`*tmp*`, value = c(\"longitude\", \"latitude\")): setting coordinates cannot be done on Spatial objects, where they have already been set\nTraceback:\n",
      "1. `coordinates<-`(`*tmp*`, value = c(\"longitude\", \"latitude\"))",
      "2. `coordinates<-`(`*tmp*`, value = c(\"longitude\", \"latitude\"))",
      "3. stop(\"setting coordinates cannot be done on Spatial objects, where they have already been set\")"
     ]
    }
   ],
   "source": [
    "#Convert the ATL08 file to spatial features with coordinates assigned\n",
    "coordinates(atl08_file) <- c(\"longitude\",\"latitude\")\n",
    "proj4string(atl08_file) <- CRS(\"+proj=longlat +datum=WGS84 +no_defs\")\n",
    "atl08_file <- spTransform(atl08_file, CRS(\"+init=epsg:32606\"))"
   ]
  },
  {
   "cell_type": "code",
   "execution_count": 30,
   "id": "little-factor",
   "metadata": {},
   "outputs": [
    {
     "name": "stderr",
     "output_type": "stream",
     "text": [
      "Warning message in showSRID(uprojargs, format = \"WKT2\", multiline = \"YES\", prefer_proj = prefer_proj):\n",
      "“Discarded datum WGS_1984 in Proj4 definition”\n"
     ]
    },
    {
     "name": "stdout",
     "output_type": "stream",
     "text": [
      "[1] 1\n"
     ]
    },
    {
     "name": "stderr",
     "output_type": "stream",
     "text": [
      "Warning message in showSRID(uprojargs, format = \"WKT2\", multiline = \"YES\", prefer_proj = prefer_proj):\n",
      "“Discarded datum WGS_1984 in Proj4 definition”\n"
     ]
    },
    {
     "name": "stdout",
     "output_type": "stream",
     "text": [
      "[1] 2\n"
     ]
    },
    {
     "name": "stderr",
     "output_type": "stream",
     "text": [
      "Warning message in showSRID(uprojargs, format = \"WKT2\", multiline = \"YES\", prefer_proj = prefer_proj):\n",
      "“Discarded datum WGS_1984 in Proj4 definition”\n"
     ]
    },
    {
     "name": "stdout",
     "output_type": "stream",
     "text": [
      "[1] 3\n"
     ]
    },
    {
     "name": "stderr",
     "output_type": "stream",
     "text": [
      "Warning message in showSRID(uprojargs, format = \"WKT2\", multiline = \"YES\", prefer_proj = prefer_proj):\n",
      "“Discarded datum WGS_1984 in Proj4 definition”\n"
     ]
    },
    {
     "name": "stdout",
     "output_type": "stream",
     "text": [
      "[1] 4\n"
     ]
    },
    {
     "name": "stderr",
     "output_type": "stream",
     "text": [
      "Warning message in showSRID(uprojargs, format = \"WKT2\", multiline = \"YES\", prefer_proj = prefer_proj):\n",
      "“Discarded datum WGS_1984 in Proj4 definition”\n"
     ]
    },
    {
     "name": "stdout",
     "output_type": "stream",
     "text": [
      "[1] 5\n"
     ]
    },
    {
     "name": "stderr",
     "output_type": "stream",
     "text": [
      "Warning message in showSRID(uprojargs, format = \"WKT2\", multiline = \"YES\", prefer_proj = prefer_proj):\n",
      "“Discarded datum WGS_1984 in Proj4 definition”\n"
     ]
    },
    {
     "name": "stdout",
     "output_type": "stream",
     "text": [
      "[1] 6\n",
      "[1] 1\n"
     ]
    },
    {
     "name": "stderr",
     "output_type": "stream",
     "text": [
      "Warning message in showSRID(uprojargs, format = \"WKT2\", multiline = \"YES\", prefer_proj = prefer_proj):\n",
      "“Discarded datum WGS_1984 in Proj4 definition”\n"
     ]
    },
    {
     "name": "stdout",
     "output_type": "stream",
     "text": [
      "[1] 1\n"
     ]
    },
    {
     "name": "stderr",
     "output_type": "stream",
     "text": [
      "Warning message in showSRID(uprojargs, format = \"WKT2\", multiline = \"YES\", prefer_proj = prefer_proj):\n",
      "“Discarded datum WGS_1984 in Proj4 definition”\n"
     ]
    },
    {
     "name": "stdout",
     "output_type": "stream",
     "text": [
      "[1] 2\n"
     ]
    },
    {
     "name": "stderr",
     "output_type": "stream",
     "text": [
      "Warning message in showSRID(uprojargs, format = \"WKT2\", multiline = \"YES\", prefer_proj = prefer_proj):\n",
      "“Discarded datum WGS_1984 in Proj4 definition”\n"
     ]
    },
    {
     "name": "stdout",
     "output_type": "stream",
     "text": [
      "[1] 3\n"
     ]
    },
    {
     "name": "stderr",
     "output_type": "stream",
     "text": [
      "Warning message in showSRID(uprojargs, format = \"WKT2\", multiline = \"YES\", prefer_proj = prefer_proj):\n",
      "“Discarded datum WGS_1984 in Proj4 definition”\n"
     ]
    },
    {
     "name": "stdout",
     "output_type": "stream",
     "text": [
      "[1] 4\n"
     ]
    },
    {
     "name": "stderr",
     "output_type": "stream",
     "text": [
      "Warning message in showSRID(uprojargs, format = \"WKT2\", multiline = \"YES\", prefer_proj = prefer_proj):\n",
      "“Discarded datum WGS_1984 in Proj4 definition”\n"
     ]
    },
    {
     "name": "stdout",
     "output_type": "stream",
     "text": [
      "[1] 5\n"
     ]
    },
    {
     "name": "stderr",
     "output_type": "stream",
     "text": [
      "Warning message in showSRID(uprojargs, format = \"WKT2\", multiline = \"YES\", prefer_proj = prefer_proj):\n",
      "“Discarded datum WGS_1984 in Proj4 definition”\n"
     ]
    },
    {
     "name": "stdout",
     "output_type": "stream",
     "text": [
      "[1] 6\n",
      "[1] 2\n"
     ]
    },
    {
     "name": "stderr",
     "output_type": "stream",
     "text": [
      "Warning message in showSRID(uprojargs, format = \"WKT2\", multiline = \"YES\", prefer_proj = prefer_proj):\n",
      "“Discarded datum WGS_1984 in Proj4 definition”\n"
     ]
    },
    {
     "name": "stdout",
     "output_type": "stream",
     "text": [
      "[1] 1\n"
     ]
    },
    {
     "name": "stderr",
     "output_type": "stream",
     "text": [
      "Warning message in showSRID(uprojargs, format = \"WKT2\", multiline = \"YES\", prefer_proj = prefer_proj):\n",
      "“Discarded datum WGS_1984 in Proj4 definition”\n"
     ]
    },
    {
     "name": "stdout",
     "output_type": "stream",
     "text": [
      "[1] 2\n"
     ]
    },
    {
     "name": "stderr",
     "output_type": "stream",
     "text": [
      "Warning message in showSRID(uprojargs, format = \"WKT2\", multiline = \"YES\", prefer_proj = prefer_proj):\n",
      "“Discarded datum WGS_1984 in Proj4 definition”\n"
     ]
    },
    {
     "name": "stdout",
     "output_type": "stream",
     "text": [
      "[1] 3\n"
     ]
    },
    {
     "name": "stderr",
     "output_type": "stream",
     "text": [
      "Warning message in showSRID(uprojargs, format = \"WKT2\", multiline = \"YES\", prefer_proj = prefer_proj):\n",
      "“Discarded datum WGS_1984 in Proj4 definition”\n"
     ]
    },
    {
     "name": "stdout",
     "output_type": "stream",
     "text": [
      "[1] 4\n"
     ]
    },
    {
     "name": "stderr",
     "output_type": "stream",
     "text": [
      "Warning message in showSRID(uprojargs, format = \"WKT2\", multiline = \"YES\", prefer_proj = prefer_proj):\n",
      "“Discarded datum WGS_1984 in Proj4 definition”\n"
     ]
    },
    {
     "name": "stdout",
     "output_type": "stream",
     "text": [
      "[1] 5\n"
     ]
    },
    {
     "name": "stderr",
     "output_type": "stream",
     "text": [
      "Warning message in showSRID(uprojargs, format = \"WKT2\", multiline = \"YES\", prefer_proj = prefer_proj):\n",
      "“Discarded datum WGS_1984 in Proj4 definition”\n"
     ]
    },
    {
     "name": "stdout",
     "output_type": "stream",
     "text": [
      "[1] 6\n",
      "[1] 3\n"
     ]
    },
    {
     "name": "stderr",
     "output_type": "stream",
     "text": [
      "Warning message in showSRID(uprojargs, format = \"WKT2\", multiline = \"YES\", prefer_proj = prefer_proj):\n",
      "“Discarded datum WGS_1984 in Proj4 definition”\n"
     ]
    },
    {
     "name": "stdout",
     "output_type": "stream",
     "text": [
      "[1] 1\n"
     ]
    },
    {
     "name": "stderr",
     "output_type": "stream",
     "text": [
      "Warning message in showSRID(uprojargs, format = \"WKT2\", multiline = \"YES\", prefer_proj = prefer_proj):\n",
      "“Discarded datum WGS_1984 in Proj4 definition”\n"
     ]
    },
    {
     "name": "stdout",
     "output_type": "stream",
     "text": [
      "[1] 2\n"
     ]
    },
    {
     "name": "stderr",
     "output_type": "stream",
     "text": [
      "Warning message in showSRID(uprojargs, format = \"WKT2\", multiline = \"YES\", prefer_proj = prefer_proj):\n",
      "“Discarded datum WGS_1984 in Proj4 definition”\n"
     ]
    },
    {
     "name": "stdout",
     "output_type": "stream",
     "text": [
      "[1] 3\n"
     ]
    },
    {
     "name": "stderr",
     "output_type": "stream",
     "text": [
      "Warning message in showSRID(uprojargs, format = \"WKT2\", multiline = \"YES\", prefer_proj = prefer_proj):\n",
      "“Discarded datum WGS_1984 in Proj4 definition”\n"
     ]
    },
    {
     "name": "stdout",
     "output_type": "stream",
     "text": [
      "[1] 4\n"
     ]
    },
    {
     "name": "stderr",
     "output_type": "stream",
     "text": [
      "Warning message in showSRID(uprojargs, format = \"WKT2\", multiline = \"YES\", prefer_proj = prefer_proj):\n",
      "“Discarded datum WGS_1984 in Proj4 definition”\n"
     ]
    },
    {
     "name": "stdout",
     "output_type": "stream",
     "text": [
      "[1] 5\n"
     ]
    },
    {
     "name": "stderr",
     "output_type": "stream",
     "text": [
      "Warning message in showSRID(uprojargs, format = \"WKT2\", multiline = \"YES\", prefer_proj = prefer_proj):\n",
      "“Discarded datum WGS_1984 in Proj4 definition”\n"
     ]
    },
    {
     "name": "stdout",
     "output_type": "stream",
     "text": [
      "[1] 6\n",
      "[1] 4\n"
     ]
    },
    {
     "name": "stderr",
     "output_type": "stream",
     "text": [
      "Warning message in showSRID(uprojargs, format = \"WKT2\", multiline = \"YES\", prefer_proj = prefer_proj):\n",
      "“Discarded datum WGS_1984 in Proj4 definition”\n"
     ]
    },
    {
     "name": "stdout",
     "output_type": "stream",
     "text": [
      "[1] 1\n"
     ]
    },
    {
     "name": "stderr",
     "output_type": "stream",
     "text": [
      "Warning message in showSRID(uprojargs, format = \"WKT2\", multiline = \"YES\", prefer_proj = prefer_proj):\n",
      "“Discarded datum WGS_1984 in Proj4 definition”\n"
     ]
    },
    {
     "name": "stdout",
     "output_type": "stream",
     "text": [
      "[1] 2\n"
     ]
    },
    {
     "name": "stderr",
     "output_type": "stream",
     "text": [
      "Warning message in showSRID(uprojargs, format = \"WKT2\", multiline = \"YES\", prefer_proj = prefer_proj):\n",
      "“Discarded datum WGS_1984 in Proj4 definition”\n"
     ]
    },
    {
     "name": "stdout",
     "output_type": "stream",
     "text": [
      "[1] 3\n"
     ]
    },
    {
     "name": "stderr",
     "output_type": "stream",
     "text": [
      "Warning message in showSRID(uprojargs, format = \"WKT2\", multiline = \"YES\", prefer_proj = prefer_proj):\n",
      "“Discarded datum WGS_1984 in Proj4 definition”\n"
     ]
    },
    {
     "name": "stdout",
     "output_type": "stream",
     "text": [
      "[1] 4\n"
     ]
    },
    {
     "name": "stderr",
     "output_type": "stream",
     "text": [
      "Warning message in showSRID(uprojargs, format = \"WKT2\", multiline = \"YES\", prefer_proj = prefer_proj):\n",
      "“Discarded datum WGS_1984 in Proj4 definition”\n"
     ]
    },
    {
     "name": "stdout",
     "output_type": "stream",
     "text": [
      "[1] 5\n"
     ]
    },
    {
     "name": "stderr",
     "output_type": "stream",
     "text": [
      "Warning message in showSRID(uprojargs, format = \"WKT2\", multiline = \"YES\", prefer_proj = prefer_proj):\n",
      "“Discarded datum WGS_1984 in Proj4 definition”\n"
     ]
    },
    {
     "name": "stdout",
     "output_type": "stream",
     "text": [
      "[1] 6\n",
      "[1] 5\n"
     ]
    },
    {
     "name": "stderr",
     "output_type": "stream",
     "text": [
      "Warning message in showSRID(uprojargs, format = \"WKT2\", multiline = \"YES\", prefer_proj = prefer_proj):\n",
      "“Discarded datum WGS_1984 in Proj4 definition”\n"
     ]
    },
    {
     "name": "stdout",
     "output_type": "stream",
     "text": [
      "[1] 1\n"
     ]
    },
    {
     "name": "stderr",
     "output_type": "stream",
     "text": [
      "Warning message in showSRID(uprojargs, format = \"WKT2\", multiline = \"YES\", prefer_proj = prefer_proj):\n",
      "“Discarded datum WGS_1984 in Proj4 definition”\n"
     ]
    },
    {
     "name": "stdout",
     "output_type": "stream",
     "text": [
      "[1] 2\n"
     ]
    },
    {
     "name": "stderr",
     "output_type": "stream",
     "text": [
      "Warning message in showSRID(uprojargs, format = \"WKT2\", multiline = \"YES\", prefer_proj = prefer_proj):\n",
      "“Discarded datum WGS_1984 in Proj4 definition”\n"
     ]
    },
    {
     "name": "stdout",
     "output_type": "stream",
     "text": [
      "[1] 3\n"
     ]
    },
    {
     "name": "stderr",
     "output_type": "stream",
     "text": [
      "Warning message in showSRID(uprojargs, format = \"WKT2\", multiline = \"YES\", prefer_proj = prefer_proj):\n",
      "“Discarded datum WGS_1984 in Proj4 definition”\n"
     ]
    },
    {
     "name": "stdout",
     "output_type": "stream",
     "text": [
      "[1] 4\n"
     ]
    },
    {
     "name": "stderr",
     "output_type": "stream",
     "text": [
      "Warning message in showSRID(uprojargs, format = \"WKT2\", multiline = \"YES\", prefer_proj = prefer_proj):\n",
      "“Discarded datum WGS_1984 in Proj4 definition”\n"
     ]
    },
    {
     "name": "stdout",
     "output_type": "stream",
     "text": [
      "[1] 5\n"
     ]
    },
    {
     "name": "stderr",
     "output_type": "stream",
     "text": [
      "Warning message in showSRID(uprojargs, format = \"WKT2\", multiline = \"YES\", prefer_proj = prefer_proj):\n",
      "“Discarded datum WGS_1984 in Proj4 definition”\n"
     ]
    },
    {
     "name": "stdout",
     "output_type": "stream",
     "text": [
      "[1] 6\n",
      "[1] 6\n"
     ]
    },
    {
     "name": "stderr",
     "output_type": "stream",
     "text": [
      "Warning message in showSRID(uprojargs, format = \"WKT2\", multiline = \"YES\", prefer_proj = prefer_proj):\n",
      "“Discarded datum WGS_1984 in Proj4 definition”\n"
     ]
    },
    {
     "name": "stdout",
     "output_type": "stream",
     "text": [
      "[1] 1\n"
     ]
    },
    {
     "name": "stderr",
     "output_type": "stream",
     "text": [
      "Warning message in showSRID(uprojargs, format = \"WKT2\", multiline = \"YES\", prefer_proj = prefer_proj):\n",
      "“Discarded datum WGS_1984 in Proj4 definition”\n"
     ]
    },
    {
     "name": "stdout",
     "output_type": "stream",
     "text": [
      "[1] 2\n"
     ]
    },
    {
     "name": "stderr",
     "output_type": "stream",
     "text": [
      "Warning message in showSRID(uprojargs, format = \"WKT2\", multiline = \"YES\", prefer_proj = prefer_proj):\n",
      "“Discarded datum WGS_1984 in Proj4 definition”\n"
     ]
    },
    {
     "name": "stdout",
     "output_type": "stream",
     "text": [
      "[1] 3\n"
     ]
    },
    {
     "name": "stderr",
     "output_type": "stream",
     "text": [
      "Warning message in showSRID(uprojargs, format = \"WKT2\", multiline = \"YES\", prefer_proj = prefer_proj):\n",
      "“Discarded datum WGS_1984 in Proj4 definition”\n"
     ]
    },
    {
     "name": "stdout",
     "output_type": "stream",
     "text": [
      "[1] 4\n"
     ]
    },
    {
     "name": "stderr",
     "output_type": "stream",
     "text": [
      "Warning message in showSRID(uprojargs, format = \"WKT2\", multiline = \"YES\", prefer_proj = prefer_proj):\n",
      "“Discarded datum WGS_1984 in Proj4 definition”\n"
     ]
    },
    {
     "name": "stdout",
     "output_type": "stream",
     "text": [
      "[1] 5\n"
     ]
    },
    {
     "name": "stderr",
     "output_type": "stream",
     "text": [
      "Warning message in showSRID(uprojargs, format = \"WKT2\", multiline = \"YES\", prefer_proj = prefer_proj):\n",
      "“Discarded datum WGS_1984 in Proj4 definition”\n"
     ]
    },
    {
     "name": "stdout",
     "output_type": "stream",
     "text": [
      "[1] 6\n",
      "[1] 7\n"
     ]
    },
    {
     "name": "stderr",
     "output_type": "stream",
     "text": [
      "Warning message in showSRID(uprojargs, format = \"WKT2\", multiline = \"YES\", prefer_proj = prefer_proj):\n",
      "“Discarded datum WGS_1984 in Proj4 definition”\n"
     ]
    },
    {
     "name": "stdout",
     "output_type": "stream",
     "text": [
      "[1] 1\n"
     ]
    },
    {
     "name": "stderr",
     "output_type": "stream",
     "text": [
      "Warning message in showSRID(uprojargs, format = \"WKT2\", multiline = \"YES\", prefer_proj = prefer_proj):\n",
      "“Discarded datum WGS_1984 in Proj4 definition”\n"
     ]
    },
    {
     "name": "stdout",
     "output_type": "stream",
     "text": [
      "[1] 2\n"
     ]
    },
    {
     "name": "stderr",
     "output_type": "stream",
     "text": [
      "Warning message in showSRID(uprojargs, format = \"WKT2\", multiline = \"YES\", prefer_proj = prefer_proj):\n",
      "“Discarded datum WGS_1984 in Proj4 definition”\n"
     ]
    },
    {
     "name": "stdout",
     "output_type": "stream",
     "text": [
      "[1] 3\n"
     ]
    },
    {
     "name": "stderr",
     "output_type": "stream",
     "text": [
      "Warning message in showSRID(uprojargs, format = \"WKT2\", multiline = \"YES\", prefer_proj = prefer_proj):\n",
      "“Discarded datum WGS_1984 in Proj4 definition”\n"
     ]
    },
    {
     "name": "stdout",
     "output_type": "stream",
     "text": [
      "[1] 4\n"
     ]
    },
    {
     "name": "stderr",
     "output_type": "stream",
     "text": [
      "Warning message in showSRID(uprojargs, format = \"WKT2\", multiline = \"YES\", prefer_proj = prefer_proj):\n",
      "“Discarded datum WGS_1984 in Proj4 definition”\n"
     ]
    },
    {
     "name": "stdout",
     "output_type": "stream",
     "text": [
      "[1] 5\n"
     ]
    },
    {
     "name": "stderr",
     "output_type": "stream",
     "text": [
      "Warning message in showSRID(uprojargs, format = \"WKT2\", multiline = \"YES\", prefer_proj = prefer_proj):\n",
      "“Discarded datum WGS_1984 in Proj4 definition”\n"
     ]
    },
    {
     "name": "stdout",
     "output_type": "stream",
     "text": [
      "[1] 6\n",
      "[1] 8\n"
     ]
    },
    {
     "name": "stderr",
     "output_type": "stream",
     "text": [
      "Warning message in showSRID(uprojargs, format = \"WKT2\", multiline = \"YES\", prefer_proj = prefer_proj):\n",
      "“Discarded datum WGS_1984 in Proj4 definition”\n"
     ]
    },
    {
     "name": "stdout",
     "output_type": "stream",
     "text": [
      "[1] 1\n"
     ]
    },
    {
     "name": "stderr",
     "output_type": "stream",
     "text": [
      "Warning message in showSRID(uprojargs, format = \"WKT2\", multiline = \"YES\", prefer_proj = prefer_proj):\n",
      "“Discarded datum WGS_1984 in Proj4 definition”\n"
     ]
    },
    {
     "name": "stdout",
     "output_type": "stream",
     "text": [
      "[1] 2\n"
     ]
    },
    {
     "name": "stderr",
     "output_type": "stream",
     "text": [
      "Warning message in showSRID(uprojargs, format = \"WKT2\", multiline = \"YES\", prefer_proj = prefer_proj):\n",
      "“Discarded datum WGS_1984 in Proj4 definition”\n"
     ]
    },
    {
     "name": "stdout",
     "output_type": "stream",
     "text": [
      "[1] 3\n"
     ]
    },
    {
     "name": "stderr",
     "output_type": "stream",
     "text": [
      "Warning message in showSRID(uprojargs, format = \"WKT2\", multiline = \"YES\", prefer_proj = prefer_proj):\n",
      "“Discarded datum WGS_1984 in Proj4 definition”\n"
     ]
    },
    {
     "name": "stdout",
     "output_type": "stream",
     "text": [
      "[1] 4\n"
     ]
    },
    {
     "name": "stderr",
     "output_type": "stream",
     "text": [
      "Warning message in showSRID(uprojargs, format = \"WKT2\", multiline = \"YES\", prefer_proj = prefer_proj):\n",
      "“Discarded datum WGS_1984 in Proj4 definition”\n"
     ]
    },
    {
     "name": "stdout",
     "output_type": "stream",
     "text": [
      "[1] 5\n"
     ]
    },
    {
     "name": "stderr",
     "output_type": "stream",
     "text": [
      "Warning message in showSRID(uprojargs, format = \"WKT2\", multiline = \"YES\", prefer_proj = prefer_proj):\n",
      "“Discarded datum WGS_1984 in Proj4 definition”\n"
     ]
    },
    {
     "name": "stdout",
     "output_type": "stream",
     "text": [
      "[1] 6\n",
      "[1] 9\n"
     ]
    },
    {
     "name": "stderr",
     "output_type": "stream",
     "text": [
      "Warning message in showSRID(uprojargs, format = \"WKT2\", multiline = \"YES\", prefer_proj = prefer_proj):\n",
      "“Discarded datum WGS_1984 in Proj4 definition”\n"
     ]
    },
    {
     "name": "stdout",
     "output_type": "stream",
     "text": [
      "[1] 1\n"
     ]
    },
    {
     "name": "stderr",
     "output_type": "stream",
     "text": [
      "Warning message in showSRID(uprojargs, format = \"WKT2\", multiline = \"YES\", prefer_proj = prefer_proj):\n",
      "“Discarded datum WGS_1984 in Proj4 definition”\n"
     ]
    },
    {
     "name": "stdout",
     "output_type": "stream",
     "text": [
      "[1] 2\n"
     ]
    },
    {
     "name": "stderr",
     "output_type": "stream",
     "text": [
      "Warning message in showSRID(uprojargs, format = \"WKT2\", multiline = \"YES\", prefer_proj = prefer_proj):\n",
      "“Discarded datum WGS_1984 in Proj4 definition”\n"
     ]
    },
    {
     "name": "stdout",
     "output_type": "stream",
     "text": [
      "[1] 3\n"
     ]
    },
    {
     "name": "stderr",
     "output_type": "stream",
     "text": [
      "Warning message in showSRID(uprojargs, format = \"WKT2\", multiline = \"YES\", prefer_proj = prefer_proj):\n",
      "“Discarded datum WGS_1984 in Proj4 definition”\n"
     ]
    },
    {
     "name": "stdout",
     "output_type": "stream",
     "text": [
      "[1] 4\n"
     ]
    },
    {
     "name": "stderr",
     "output_type": "stream",
     "text": [
      "Warning message in showSRID(uprojargs, format = \"WKT2\", multiline = \"YES\", prefer_proj = prefer_proj):\n",
      "“Discarded datum WGS_1984 in Proj4 definition”\n"
     ]
    },
    {
     "name": "stdout",
     "output_type": "stream",
     "text": [
      "[1] 5\n"
     ]
    },
    {
     "name": "stderr",
     "output_type": "stream",
     "text": [
      "Warning message in showSRID(uprojargs, format = \"WKT2\", multiline = \"YES\", prefer_proj = prefer_proj):\n",
      "“Discarded datum WGS_1984 in Proj4 definition”\n"
     ]
    },
    {
     "name": "stdout",
     "output_type": "stream",
     "text": [
      "[1] 6\n",
      "[1] 10\n"
     ]
    },
    {
     "name": "stderr",
     "output_type": "stream",
     "text": [
      "Warning message in showSRID(uprojargs, format = \"WKT2\", multiline = \"YES\", prefer_proj = prefer_proj):\n",
      "“Discarded datum WGS_1984 in Proj4 definition”\n"
     ]
    },
    {
     "name": "stdout",
     "output_type": "stream",
     "text": [
      "[1] 1\n"
     ]
    },
    {
     "name": "stderr",
     "output_type": "stream",
     "text": [
      "Warning message in showSRID(uprojargs, format = \"WKT2\", multiline = \"YES\", prefer_proj = prefer_proj):\n",
      "“Discarded datum WGS_1984 in Proj4 definition”\n"
     ]
    },
    {
     "name": "stdout",
     "output_type": "stream",
     "text": [
      "[1] 2\n"
     ]
    },
    {
     "name": "stderr",
     "output_type": "stream",
     "text": [
      "Warning message in showSRID(uprojargs, format = \"WKT2\", multiline = \"YES\", prefer_proj = prefer_proj):\n",
      "“Discarded datum WGS_1984 in Proj4 definition”\n"
     ]
    },
    {
     "name": "stdout",
     "output_type": "stream",
     "text": [
      "[1] 3\n"
     ]
    },
    {
     "name": "stderr",
     "output_type": "stream",
     "text": [
      "Warning message in showSRID(uprojargs, format = \"WKT2\", multiline = \"YES\", prefer_proj = prefer_proj):\n",
      "“Discarded datum WGS_1984 in Proj4 definition”\n"
     ]
    },
    {
     "name": "stdout",
     "output_type": "stream",
     "text": [
      "[1] 4\n"
     ]
    },
    {
     "name": "stderr",
     "output_type": "stream",
     "text": [
      "Warning message in showSRID(uprojargs, format = \"WKT2\", multiline = \"YES\", prefer_proj = prefer_proj):\n",
      "“Discarded datum WGS_1984 in Proj4 definition”\n"
     ]
    },
    {
     "name": "stdout",
     "output_type": "stream",
     "text": [
      "[1] 5\n"
     ]
    },
    {
     "name": "stderr",
     "output_type": "stream",
     "text": [
      "Warning message in showSRID(uprojargs, format = \"WKT2\", multiline = \"YES\", prefer_proj = prefer_proj):\n",
      "“Discarded datum WGS_1984 in Proj4 definition”\n"
     ]
    },
    {
     "name": "stdout",
     "output_type": "stream",
     "text": [
      "[1] 6\n",
      "[1] 11\n"
     ]
    },
    {
     "name": "stderr",
     "output_type": "stream",
     "text": [
      "Warning message in showSRID(uprojargs, format = \"WKT2\", multiline = \"YES\", prefer_proj = prefer_proj):\n",
      "“Discarded datum WGS_1984 in Proj4 definition”\n"
     ]
    },
    {
     "name": "stdout",
     "output_type": "stream",
     "text": [
      "[1] 1\n",
      "[1] \"no data contained\"\n",
      "[1] 2\n",
      "[1] \"no data contained\"\n",
      "[1] 3\n",
      "[1] \"no data contained\"\n",
      "[1] 4\n",
      "[1] \"no data contained\"\n",
      "[1] 5\n",
      "[1] \"no data contained\"\n",
      "[1] 6\n",
      "[1] 12\n"
     ]
    },
    {
     "name": "stderr",
     "output_type": "stream",
     "text": [
      "Warning message in showSRID(uprojargs, format = \"WKT2\", multiline = \"YES\", prefer_proj = prefer_proj):\n",
      "“Discarded datum WGS_1984 in Proj4 definition”\n"
     ]
    },
    {
     "name": "stdout",
     "output_type": "stream",
     "text": [
      "[1] 1\n"
     ]
    },
    {
     "name": "stderr",
     "output_type": "stream",
     "text": [
      "Warning message in showSRID(uprojargs, format = \"WKT2\", multiline = \"YES\", prefer_proj = prefer_proj):\n",
      "“Discarded datum WGS_1984 in Proj4 definition”\n"
     ]
    },
    {
     "name": "stdout",
     "output_type": "stream",
     "text": [
      "[1] 2\n"
     ]
    },
    {
     "name": "stderr",
     "output_type": "stream",
     "text": [
      "Warning message in showSRID(uprojargs, format = \"WKT2\", multiline = \"YES\", prefer_proj = prefer_proj):\n",
      "“Discarded datum WGS_1984 in Proj4 definition”\n"
     ]
    },
    {
     "name": "stdout",
     "output_type": "stream",
     "text": [
      "[1] 3\n"
     ]
    },
    {
     "name": "stderr",
     "output_type": "stream",
     "text": [
      "Warning message in showSRID(uprojargs, format = \"WKT2\", multiline = \"YES\", prefer_proj = prefer_proj):\n",
      "“Discarded datum WGS_1984 in Proj4 definition”\n"
     ]
    },
    {
     "name": "stdout",
     "output_type": "stream",
     "text": [
      "[1] 4\n"
     ]
    },
    {
     "name": "stderr",
     "output_type": "stream",
     "text": [
      "Warning message in showSRID(uprojargs, format = \"WKT2\", multiline = \"YES\", prefer_proj = prefer_proj):\n",
      "“Discarded datum WGS_1984 in Proj4 definition”\n"
     ]
    },
    {
     "name": "stdout",
     "output_type": "stream",
     "text": [
      "[1] 5\n"
     ]
    },
    {
     "name": "stderr",
     "output_type": "stream",
     "text": [
      "Warning message in showSRID(uprojargs, format = \"WKT2\", multiline = \"YES\", prefer_proj = prefer_proj):\n",
      "“Discarded datum WGS_1984 in Proj4 definition”\n"
     ]
    },
    {
     "name": "stdout",
     "output_type": "stream",
     "text": [
      "[1] 6\n",
      "[1] 13\n"
     ]
    },
    {
     "name": "stderr",
     "output_type": "stream",
     "text": [
      "Warning message in showSRID(uprojargs, format = \"WKT2\", multiline = \"YES\", prefer_proj = prefer_proj):\n",
      "“Discarded datum WGS_1984 in Proj4 definition”\n"
     ]
    },
    {
     "name": "stdout",
     "output_type": "stream",
     "text": [
      "[1] 1\n"
     ]
    },
    {
     "name": "stderr",
     "output_type": "stream",
     "text": [
      "Warning message in showSRID(uprojargs, format = \"WKT2\", multiline = \"YES\", prefer_proj = prefer_proj):\n",
      "“Discarded datum WGS_1984 in Proj4 definition”\n"
     ]
    },
    {
     "name": "stdout",
     "output_type": "stream",
     "text": [
      "[1] 2\n"
     ]
    },
    {
     "name": "stderr",
     "output_type": "stream",
     "text": [
      "Warning message in showSRID(uprojargs, format = \"WKT2\", multiline = \"YES\", prefer_proj = prefer_proj):\n",
      "“Discarded datum WGS_1984 in Proj4 definition”\n"
     ]
    },
    {
     "name": "stdout",
     "output_type": "stream",
     "text": [
      "[1] 3\n"
     ]
    },
    {
     "name": "stderr",
     "output_type": "stream",
     "text": [
      "Warning message in showSRID(uprojargs, format = \"WKT2\", multiline = \"YES\", prefer_proj = prefer_proj):\n",
      "“Discarded datum WGS_1984 in Proj4 definition”\n"
     ]
    },
    {
     "name": "stdout",
     "output_type": "stream",
     "text": [
      "[1] 4\n"
     ]
    },
    {
     "name": "stderr",
     "output_type": "stream",
     "text": [
      "Warning message in showSRID(uprojargs, format = \"WKT2\", multiline = \"YES\", prefer_proj = prefer_proj):\n",
      "“Discarded datum WGS_1984 in Proj4 definition”\n"
     ]
    },
    {
     "name": "stdout",
     "output_type": "stream",
     "text": [
      "[1] 5\n"
     ]
    },
    {
     "name": "stderr",
     "output_type": "stream",
     "text": [
      "Warning message in showSRID(uprojargs, format = \"WKT2\", multiline = \"YES\", prefer_proj = prefer_proj):\n",
      "“Discarded datum WGS_1984 in Proj4 definition”\n"
     ]
    },
    {
     "name": "stdout",
     "output_type": "stream",
     "text": [
      "[1] 6\n",
      "[1] 14\n"
     ]
    },
    {
     "name": "stderr",
     "output_type": "stream",
     "text": [
      "Warning message in showSRID(uprojargs, format = \"WKT2\", multiline = \"YES\", prefer_proj = prefer_proj):\n",
      "“Discarded datum WGS_1984 in Proj4 definition”\n"
     ]
    },
    {
     "name": "stdout",
     "output_type": "stream",
     "text": [
      "[1] 1\n"
     ]
    },
    {
     "name": "stderr",
     "output_type": "stream",
     "text": [
      "Warning message in showSRID(uprojargs, format = \"WKT2\", multiline = \"YES\", prefer_proj = prefer_proj):\n",
      "“Discarded datum WGS_1984 in Proj4 definition”\n"
     ]
    },
    {
     "name": "stdout",
     "output_type": "stream",
     "text": [
      "[1] 2\n"
     ]
    },
    {
     "name": "stderr",
     "output_type": "stream",
     "text": [
      "Warning message in showSRID(uprojargs, format = \"WKT2\", multiline = \"YES\", prefer_proj = prefer_proj):\n",
      "“Discarded datum WGS_1984 in Proj4 definition”\n"
     ]
    },
    {
     "name": "stdout",
     "output_type": "stream",
     "text": [
      "[1] 3\n"
     ]
    },
    {
     "name": "stderr",
     "output_type": "stream",
     "text": [
      "Warning message in showSRID(uprojargs, format = \"WKT2\", multiline = \"YES\", prefer_proj = prefer_proj):\n",
      "“Discarded datum WGS_1984 in Proj4 definition”\n"
     ]
    },
    {
     "name": "stdout",
     "output_type": "stream",
     "text": [
      "[1] 4\n"
     ]
    },
    {
     "name": "stderr",
     "output_type": "stream",
     "text": [
      "Warning message in showSRID(uprojargs, format = \"WKT2\", multiline = \"YES\", prefer_proj = prefer_proj):\n",
      "“Discarded datum WGS_1984 in Proj4 definition”\n"
     ]
    },
    {
     "name": "stdout",
     "output_type": "stream",
     "text": [
      "[1] 5\n"
     ]
    },
    {
     "name": "stderr",
     "output_type": "stream",
     "text": [
      "Warning message in showSRID(uprojargs, format = \"WKT2\", multiline = \"YES\", prefer_proj = prefer_proj):\n",
      "“Discarded datum WGS_1984 in Proj4 definition”\n"
     ]
    },
    {
     "name": "stdout",
     "output_type": "stream",
     "text": [
      "[1] 6\n",
      "[1] 15\n"
     ]
    },
    {
     "name": "stderr",
     "output_type": "stream",
     "text": [
      "Warning message in showSRID(uprojargs, format = \"WKT2\", multiline = \"YES\", prefer_proj = prefer_proj):\n",
      "“Discarded datum WGS_1984 in Proj4 definition”\n"
     ]
    },
    {
     "name": "stdout",
     "output_type": "stream",
     "text": [
      "[1] 1\n"
     ]
    },
    {
     "name": "stderr",
     "output_type": "stream",
     "text": [
      "Warning message in showSRID(uprojargs, format = \"WKT2\", multiline = \"YES\", prefer_proj = prefer_proj):\n",
      "“Discarded datum WGS_1984 in Proj4 definition”\n"
     ]
    },
    {
     "name": "stdout",
     "output_type": "stream",
     "text": [
      "[1] 2\n"
     ]
    },
    {
     "name": "stderr",
     "output_type": "stream",
     "text": [
      "Warning message in showSRID(uprojargs, format = \"WKT2\", multiline = \"YES\", prefer_proj = prefer_proj):\n",
      "“Discarded datum WGS_1984 in Proj4 definition”\n"
     ]
    },
    {
     "name": "stdout",
     "output_type": "stream",
     "text": [
      "[1] 3\n"
     ]
    },
    {
     "name": "stderr",
     "output_type": "stream",
     "text": [
      "Warning message in showSRID(uprojargs, format = \"WKT2\", multiline = \"YES\", prefer_proj = prefer_proj):\n",
      "“Discarded datum WGS_1984 in Proj4 definition”\n"
     ]
    },
    {
     "name": "stdout",
     "output_type": "stream",
     "text": [
      "[1] 4\n"
     ]
    },
    {
     "name": "stderr",
     "output_type": "stream",
     "text": [
      "Warning message in showSRID(uprojargs, format = \"WKT2\", multiline = \"YES\", prefer_proj = prefer_proj):\n",
      "“Discarded datum WGS_1984 in Proj4 definition”\n"
     ]
    },
    {
     "name": "stdout",
     "output_type": "stream",
     "text": [
      "[1] 5\n"
     ]
    },
    {
     "name": "stderr",
     "output_type": "stream",
     "text": [
      "Warning message in showSRID(uprojargs, format = \"WKT2\", multiline = \"YES\", prefer_proj = prefer_proj):\n",
      "“Discarded datum WGS_1984 in Proj4 definition”\n"
     ]
    },
    {
     "name": "stdout",
     "output_type": "stream",
     "text": [
      "[1] 6\n",
      "[1] 16\n"
     ]
    },
    {
     "name": "stderr",
     "output_type": "stream",
     "text": [
      "Warning message in showSRID(uprojargs, format = \"WKT2\", multiline = \"YES\", prefer_proj = prefer_proj):\n",
      "“Discarded datum WGS_1984 in Proj4 definition”\n"
     ]
    },
    {
     "name": "stdout",
     "output_type": "stream",
     "text": [
      "[1] 1\n"
     ]
    },
    {
     "name": "stderr",
     "output_type": "stream",
     "text": [
      "Warning message in showSRID(uprojargs, format = \"WKT2\", multiline = \"YES\", prefer_proj = prefer_proj):\n",
      "“Discarded datum WGS_1984 in Proj4 definition”\n"
     ]
    },
    {
     "name": "stdout",
     "output_type": "stream",
     "text": [
      "[1] 2\n"
     ]
    },
    {
     "name": "stderr",
     "output_type": "stream",
     "text": [
      "Warning message in showSRID(uprojargs, format = \"WKT2\", multiline = \"YES\", prefer_proj = prefer_proj):\n",
      "“Discarded datum WGS_1984 in Proj4 definition”\n"
     ]
    },
    {
     "name": "stdout",
     "output_type": "stream",
     "text": [
      "[1] 3\n"
     ]
    },
    {
     "name": "stderr",
     "output_type": "stream",
     "text": [
      "Warning message in showSRID(uprojargs, format = \"WKT2\", multiline = \"YES\", prefer_proj = prefer_proj):\n",
      "“Discarded datum WGS_1984 in Proj4 definition”\n"
     ]
    },
    {
     "name": "stdout",
     "output_type": "stream",
     "text": [
      "[1] 4\n"
     ]
    },
    {
     "name": "stderr",
     "output_type": "stream",
     "text": [
      "Warning message in showSRID(uprojargs, format = \"WKT2\", multiline = \"YES\", prefer_proj = prefer_proj):\n",
      "“Discarded datum WGS_1984 in Proj4 definition”\n"
     ]
    },
    {
     "name": "stdout",
     "output_type": "stream",
     "text": [
      "[1] 5\n"
     ]
    },
    {
     "name": "stderr",
     "output_type": "stream",
     "text": [
      "Warning message in showSRID(uprojargs, format = \"WKT2\", multiline = \"YES\", prefer_proj = prefer_proj):\n",
      "“Discarded datum WGS_1984 in Proj4 definition”\n"
     ]
    },
    {
     "name": "stdout",
     "output_type": "stream",
     "text": [
      "[1] 6\n",
      "[1] 17\n"
     ]
    }
   ],
   "source": [
    "#Create ATL08 segment (100m * 12m) as shapefile\n",
    "atl08_name <- unique(atl08_file$filename)\n",
    "atl08_track <- unique(atl08_file@data$track_num)\n",
    "\n",
    "#loop over all the granules and tracks\n",
    "for(i in 1:length(atl08_name)) {\n",
    " for(j in 1:length(atl08_track)) { \n",
    "#Check the data availability\n",
    "if(nrow(atl08_file[which(atl08_file@data$filename == atl08_name[i] & atl08_file$track_num == atl08_track[j]),])>0) {\n",
    "atl08_file_temp <- atl08_file[which(atl08_file@data$filename == atl08_name[i] & atl08_file$track_num == atl08_track[j]),] \n",
    "atl08_file_temp@data$ID <- c(1:nrow(atl08_file_temp@data))\n",
    "xmin <- atl08_file_temp@bbox[1,1]\n",
    "xmax <- atl08_file_temp@bbox[1,2]\n",
    "ymin <- atl08_file_temp@bbox[2,1]\n",
    "ymax <- atl08_file_temp@bbox[2,2]\n",
    "n = nrow(atl08_file_temp@coords)\n",
    "x_diff <- atl08_file_temp@coords[1,1] -atl08_file_temp@coords[n,1]\n",
    "y_diff <- atl08_file_temp@coords[1,2] -atl08_file_temp@coords[n,2]\n",
    "#Check the inclination of each track\n",
    "if(x_diff / y_diff < 0) {\n",
    "beita <- atan((ymax-ymin)/(xmax-xmin))\n",
    "atl08_file_temp@data$x_min <- atl08_file_temp@coords[,1] - 50*cos(beita) - 6*sin(beita)\n",
    "atl08_file_temp@data$x_max2 <- atl08_file_temp@coords[,1] - 50*cos(beita) +  6*sin(beita)\n",
    "atl08_file_temp@data$x_min2 <- atl08_file_temp@coords[,1] + 50*cos(beita) -  6*sin(beita)\n",
    "atl08_file_temp@data$x_max <- atl08_file_temp@coords[,1] + 50*cos(beita) + 6*sin(beita)\n",
    "\n",
    "atl08_file_temp@data$y_min <- atl08_file_temp@coords[,2] - 50*sin(beita) -  6*cos(beita)\n",
    "atl08_file_temp@data$y_min2 <- atl08_file_temp@coords[,2] - 50*sin(beita) + 6*cos(beita)\n",
    "atl08_file_temp@data$y_max2 <- atl08_file_temp@coords[,2] + 50*sin(beita) - 6*cos(beita)\n",
    "atl08_file_temp@data$y_max <- atl08_file_temp@coords[,2] + 50*sin(beita) + 6*cos(beita)\n",
    "\n",
    "df <- atl08_file_temp@data\n",
    "ATL08_file_temp_poly <- lapply(1:nrow(df), function(x){\n",
    "  ## create a matrix of coordinates that also 'close' the polygon\n",
    "  res <- matrix(c(df[x, 'x_min'], df[x, 'y_max2'],\n",
    "                  df[x, 'x_min2'], df[x, 'y_min'],\n",
    "                  df[x, 'x_max'], df[x, 'y_min2'],\n",
    "                  df[x, 'x_max2'], df[x, 'y_max'],\n",
    "                  df[x, 'x_min'], df[x, 'y_max2'])  ## need to close the polygon\n",
    "                , ncol =2, byrow = T\n",
    "  )\n",
    "  ## create polygon objects\n",
    "  st_polygon(list(res))\n",
    "  \n",
    "})\n",
    "ATL08_file_temp_poly <- st_sf(ID = df[, 'ID'], st_sfc(ATL08_file_temp_poly))\n",
    "ATL08_file_temp_poly<- as(ATL08_file_temp_poly,'Spatial')\n",
    "crs(ATL08_file_temp_poly) <- \"+init=epsg:32606\"\n",
    "ATL08_file_temp_poly@data$Max_Canopy <- atl08_file_temp@data$h_max_canopy\n",
    "ATL08_file_temp_poly@data$Ground<- atl08_file_temp@data$atl03_ground_median\n",
    "ATL08_file_temp_poly@data$time <- atl08_file_temp@data$delta_time\n",
    "ATL08_file_temp_poly@data$slope<- atl08_file_temp@data$terrain_slope\n",
    "ATL08_file_temp_poly@data$cloud <- atl08_file_temp@data$msw_flag\n",
    "\n",
    "if(i==1 & j==1) {\n",
    "  atl08_poly <- ATL08_file_temp_poly\n",
    "} else {atl08_poly <- bind(ATL08_file_temp_poly,atl08_poly)} }\n",
    "\n",
    "if(x_diff / y_diff > 0) {\n",
    "beita <- atan((ymax-ymin)/(xmax-xmin))\n",
    "\n",
    "atl08_file_temp@data$x_min <- atl08_file_temp@coords[,1] - 50*cos(beita) - 6*cos(pi/2-beita)\n",
    "atl08_file_temp@data$x_max2 <- atl08_file_temp@coords[,1] - 50*cos(beita) + 6*cos(pi/2-beita)\n",
    "atl08_file_temp@data$x_min2 <- atl08_file_temp@coords[,1] + 50*cos(beita) - 6*cos(pi/2-beita)\n",
    "atl08_file_temp@data$x_max <- atl08_file_temp@coords[,1] + 50*cos(beita) + 6*cos(pi/2-beita)\n",
    "\n",
    "atl08_file_temp@data$y_min <- atl08_file_temp@coords[,2] - 50*sin(beita) - 6*sin(pi/2-beita)\n",
    "atl08_file_temp@data$y_min2 <- atl08_file_temp@coords[,2] - 50*sin(beita) + 6*sin(pi/2-beita)\n",
    "atl08_file_temp@data$y_max2 <- atl08_file_temp@coords[,2] + 50*sin(beita) - 6*sin(pi/2-beita)\n",
    "atl08_file_temp@data$y_max <- atl08_file_temp@coords[,2] + 50*sin(beita) + 6*sin(pi/2-beita)\n",
    "\n",
    "df <- atl08_file_temp@data\n",
    "ATL08_file_temp_poly <- lapply(1:nrow(df), function(x){\n",
    "  res <- matrix(c(df[x, 'x_min'], df[x, 'y_min2'],\n",
    "                  df[x, 'x_min2'], df[x, 'y_max'],\n",
    "                  df[x, 'x_max'], df[x, 'y_max2'],\n",
    "                  df[x, 'x_max2'], df[x, 'y_min'],\n",
    "                  df[x, 'x_min'], df[x, 'y_min2']) \n",
    "                , ncol =2, byrow = T\n",
    "  )\n",
    "  st_polygon(list(res))\n",
    "  \n",
    "})\n",
    "ATL08_file_temp_poly <- st_sf(ID = df[, 'ID'], st_sfc(ATL08_file_temp_poly))\n",
    "ATL08_file_temp_poly<- as(ATL08_file_temp_poly,'Spatial')\n",
    "crs(ATL08_file_temp_poly) <- \"+init=epsg:32606\"\n",
    "ATL08_file_temp_poly@data$Max_Canopy <- atl08_file_temp@data$h_max_canopy\n",
    "ATL08_file_temp_poly@data$Ground<- atl08_file_temp@data$atl03_ground_median\n",
    "ATL08_file_temp_poly@data$time <- atl08_file_temp@data$delta_time\n",
    "ATL08_file_temp_poly@data$slope<- atl08_file_temp@data$terrain_slope\n",
    "ATL08_file_temp_poly@data$cloud <- atl08_file_temp@data$msw_flag\n",
    "\n",
    "\n",
    "if(i==1 & j==1) {\n",
    "  atl08_poly <- ATL08_file_temp_poly\n",
    "} else {atl08_poly <- bind(ATL08_file_temp_poly,atl08_poly)}}}\n",
    " else(print(\"no data contained\"))\n",
    "print(j)\n",
    "            }\n",
    "  print(i) \n",
    "}\n",
    "\n",
    "atl08_poly@data$ID <-  c(1:nrow(atl08_poly@data))\n",
    "\n",
    "rgdal::writeOGR(obj = atl08_poly,dsn = '/projects/ICESat-2_LVIS/ATL08_Segments/atl08.shp',layer = 'atl08_poly',driver = \"ESRI Shapefile\")\n",
    "\n",
    "##Read in ATL08 Shapefile if saved already \n",
    "#atl08_poly <- rgdal::readOGR(dsn = '/projects/ICESat-2_LVIS/ATL08_Segments/')"
   ]
  },
  {
   "cell_type": "code",
   "execution_count": 21,
   "id": "ethical-tennis",
   "metadata": {},
   "outputs": [
    {
     "name": "stdout",
     "output_type": "stream",
     "text": [
      "OGR data source with driver: ESRI Shapefile \n",
      "Source: \"/projects/ICESat-2_LVIS/ATL08_Segments\", layer: \"atl08\"\n",
      "with 309340 features\n",
      "It has 6 fields\n"
     ]
    }
   ],
   "source": [
    "#Read in ATL08 file if already saved in a directory\n",
    "atl08_poly <- rgdal::readOGR(dsn = '/projects/ICESat-2_LVIS/ATL08_Segments/')"
   ]
  },
  {
   "cell_type": "code",
   "execution_count": 42,
   "id": "minus-tuning",
   "metadata": {},
   "outputs": [],
   "source": [
    "#Use the function from Paul (lvis_metrics.R) to convert LVIS L2 file from txt format to spatial point features\n",
    "id_cols = c(\"LFID\", \"SHOTNUMBER\", \"TIME\", \"GLON\", \"GLAT\", \"ZG\")\n",
    "t_cols  = c(\"TLON\", \"TLAT\", \"ZT\")\n",
    "h_cols  = c(\"HLON\",\"HLAT\", \"ZH\")\n",
    "rh_metrics = c(\"RH010\", \"RH015\", \"RH020\", \"RH025\", \"RH030\", \"RH035\", \"RH040\", \"RH045\", \"RH050\", \"RH055\", \"RH060\", \"RH065\", \"RH070\", \"RH075\", \"RH080\", \"RH085\", \"RH090\", \"RH095\", \"RH096\", \"RH097\", \"RH098\", \"RH099\", \"RH100\")\n",
    "misc_cols = c(\"AZIMUTH\", \"INCIDENTANGLE\", \"RANGE\", \"COMPLEXITY\")\n",
    "channel_cols = c(\"CHANNEL_ZT\", \"CHANNEL_ZG\", \"CHANNEL_RH\")\n",
    "cols <- c(id_cols, h_cols, t_cols, rh_metrics, misc_cols, \"SENSITIVITY\", channel_cols)\n",
    "num_lines_hdr=20\n",
    "\n",
    "load_lvis2 <- function(lvis2_txt_path, num_lines_hdr, cols, crs) {\n",
    "  \n",
    "  lvis2_name <- path_ext_remove(path_file(lvis2_txt_path))\n",
    "  print(paste(\"Loading\", lvis2_name))\n",
    "  print(paste0(\"Skipping lines: \", num_lines_hdr))\n",
    "  lvis2_txt <- read_table2(lvis2_txt_path, skip=num_lines_hdr, col_names=cols)\n",
    "  print(head(lvis2_txt))\n",
    "  lvis2_pts <- lvis2_txt %>%\n",
    "    #dplyr::filter(!is.na(GLON), !is.na(GLAT)) %>%\n",
    "    st_as_sf(coords=c(\"GLON\",\"GLAT\"), crs=4326) %>%\n",
    "    st_transform(crs=\"+proj=utm +zone=06 +datum=WGS84 +units=m +no_defs +ellps=WGS84 +towgs84=0,0,0\")\n",
    "  attr(lvis2_pts, \"lvis2_name\") <- lvis2_name\n",
    "  return(lvis2_pts)\n",
    "}"
   ]
  },
  {
   "cell_type": "code",
   "execution_count": 43,
   "id": "skilled-sigma",
   "metadata": {},
   "outputs": [
    {
     "name": "stdout",
     "output_type": "stream",
     "text": [
      "[1] \"Loading LVISF2_ABoVE2019_0718_R2003_067898\"\n",
      "[1] \"Skipping lines: 20\"\n"
     ]
    },
    {
     "name": "stderr",
     "output_type": "stream",
     "text": [
      "Warning message:\n",
      "“`read_table2()` was deprecated in readr 2.0.0.\n",
      "Please use `read_table()` instead.”\n",
      "\n",
      "\u001b[36m──\u001b[39m \u001b[1m\u001b[1mColumn specification\u001b[1m\u001b[22m \u001b[36m────────────────────────────────────────────────────────\u001b[39m\n",
      "cols(\n",
      "  .default = col_double()\n",
      ")\n",
      "\u001b[36mℹ\u001b[39m Use \u001b[30m\u001b[47m\u001b[30m\u001b[47m`spec()`\u001b[47m\u001b[30m\u001b[49m\u001b[39m for the full column specifications.\n",
      "\n",
      "\n"
     ]
    },
    {
     "name": "stdout",
     "output_type": "stream",
     "text": [
      "\u001b[90m# A tibble: 6 × 43\u001b[39m\n",
      "    LFID SHOTNUMBER   TIME  GLON  GLAT    ZG  HLON  HLAT    ZH  TLON  TLAT    ZT\n",
      "   \u001b[3m\u001b[90m<dbl>\u001b[39m\u001b[23m      \u001b[3m\u001b[90m<dbl>\u001b[39m\u001b[23m  \u001b[3m\u001b[90m<dbl>\u001b[39m\u001b[23m \u001b[3m\u001b[90m<dbl>\u001b[39m\u001b[23m \u001b[3m\u001b[90m<dbl>\u001b[39m\u001b[23m \u001b[3m\u001b[90m<dbl>\u001b[39m\u001b[23m \u001b[3m\u001b[90m<dbl>\u001b[39m\u001b[23m \u001b[3m\u001b[90m<dbl>\u001b[39m\u001b[23m \u001b[3m\u001b[90m<dbl>\u001b[39m\u001b[23m \u001b[3m\u001b[90m<dbl>\u001b[39m\u001b[23m \u001b[3m\u001b[90m<dbl>\u001b[39m\u001b[23m \u001b[3m\u001b[90m<dbl>\u001b[39m\u001b[23m\n",
      "\u001b[90m1\u001b[39m 1.96\u001b[90me\u001b[39m9   55\u001b[4m2\u001b[24m\u001b[4m0\u001b[24m\u001b[4m8\u001b[24m836 \u001b[4m6\u001b[24m\u001b[4m7\u001b[24m898.  210.  62.2  676.  210.  62.2  676.  210.  62.2  678.\n",
      "\u001b[90m2\u001b[39m 1.96\u001b[90me\u001b[39m9   55\u001b[4m2\u001b[24m\u001b[4m0\u001b[24m\u001b[4m8\u001b[24m837 \u001b[4m6\u001b[24m\u001b[4m7\u001b[24m898.  210.  62.2  676.  210.  62.2  676.  210.  62.2  678.\n",
      "\u001b[90m3\u001b[39m 1.96\u001b[90me\u001b[39m9   55\u001b[4m2\u001b[24m\u001b[4m0\u001b[24m\u001b[4m8\u001b[24m838 \u001b[4m6\u001b[24m\u001b[4m7\u001b[24m898.  210.  62.2  676.  210.  62.2  676.  210.  62.2  678.\n",
      "\u001b[90m4\u001b[39m 1.96\u001b[90me\u001b[39m9   55\u001b[4m2\u001b[24m\u001b[4m0\u001b[24m\u001b[4m8\u001b[24m839 \u001b[4m6\u001b[24m\u001b[4m7\u001b[24m898.  210.  62.2  676.  210.  62.2  676.  210.  62.2  678.\n",
      "\u001b[90m5\u001b[39m 1.96\u001b[90me\u001b[39m9   55\u001b[4m2\u001b[24m\u001b[4m0\u001b[24m\u001b[4m8\u001b[24m840 \u001b[4m6\u001b[24m\u001b[4m7\u001b[24m898.  210.  62.2  676.  210.  62.2  676.  210.  62.2  678.\n",
      "\u001b[90m6\u001b[39m 1.96\u001b[90me\u001b[39m9   55\u001b[4m2\u001b[24m\u001b[4m0\u001b[24m\u001b[4m8\u001b[24m841 \u001b[4m6\u001b[24m\u001b[4m7\u001b[24m898.  210.  62.2  676.  210.  62.2  676.  210.  62.2  678.\n",
      "\u001b[90m# … with 31 more variables: RH010 <dbl>, RH015 <dbl>, RH020 <dbl>, RH025 <dbl>,\u001b[39m\n",
      "\u001b[90m#   RH030 <dbl>, RH035 <dbl>, RH040 <dbl>, RH045 <dbl>, RH050 <dbl>,\u001b[39m\n",
      "\u001b[90m#   RH055 <dbl>, RH060 <dbl>, RH065 <dbl>, RH070 <dbl>, RH075 <dbl>,\u001b[39m\n",
      "\u001b[90m#   RH080 <dbl>, RH085 <dbl>, RH090 <dbl>, RH095 <dbl>, RH096 <dbl>,\u001b[39m\n",
      "\u001b[90m#   RH097 <dbl>, RH098 <dbl>, RH099 <dbl>, RH100 <dbl>, AZIMUTH <dbl>,\u001b[39m\n",
      "\u001b[90m#   INCIDENTANGLE <dbl>, RANGE <dbl>, COMPLEXITY <dbl>, SENSITIVITY <dbl>,\u001b[39m\n",
      "\u001b[90m#   CHANNEL_ZT <dbl>, CHANNEL_ZG <dbl>, CHANNEL_RH <dbl>\u001b[39m\n",
      "[1] \"No Overlapped Footprint\"\n",
      "[1] 1\n",
      "[1] \"Loading LVISF2_ABoVE2019_0718_R2003_067985\"\n",
      "[1] \"Skipping lines: 20\"\n"
     ]
    },
    {
     "name": "stderr",
     "output_type": "stream",
     "text": [
      "Warning message:\n",
      "“`read_table2()` was deprecated in readr 2.0.0.\n",
      "Please use `read_table()` instead.”\n",
      "\n",
      "\u001b[36m──\u001b[39m \u001b[1m\u001b[1mColumn specification\u001b[1m\u001b[22m \u001b[36m────────────────────────────────────────────────────────\u001b[39m\n",
      "cols(\n",
      "  .default = col_double()\n",
      ")\n",
      "\u001b[36mℹ\u001b[39m Use \u001b[30m\u001b[47m\u001b[30m\u001b[47m`spec()`\u001b[47m\u001b[30m\u001b[49m\u001b[39m for the full column specifications.\n",
      "\n",
      "\n"
     ]
    },
    {
     "name": "stdout",
     "output_type": "stream",
     "text": [
      "\u001b[90m# A tibble: 6 × 43\u001b[39m\n",
      "    LFID SHOTNUMBER   TIME  GLON  GLAT    ZG  HLON  HLAT    ZH  TLON  TLAT    ZT\n",
      "   \u001b[3m\u001b[90m<dbl>\u001b[39m\u001b[23m      \u001b[3m\u001b[90m<dbl>\u001b[39m\u001b[23m  \u001b[3m\u001b[90m<dbl>\u001b[39m\u001b[23m \u001b[3m\u001b[90m<dbl>\u001b[39m\u001b[23m \u001b[3m\u001b[90m<dbl>\u001b[39m\u001b[23m \u001b[3m\u001b[90m<dbl>\u001b[39m\u001b[23m \u001b[3m\u001b[90m<dbl>\u001b[39m\u001b[23m \u001b[3m\u001b[90m<dbl>\u001b[39m\u001b[23m \u001b[3m\u001b[90m<dbl>\u001b[39m\u001b[23m \u001b[3m\u001b[90m<dbl>\u001b[39m\u001b[23m \u001b[3m\u001b[90m<dbl>\u001b[39m\u001b[23m \u001b[3m\u001b[90m<dbl>\u001b[39m\u001b[23m\n",
      "\u001b[90m1\u001b[39m 1.96\u001b[90me\u001b[39m9   55\u001b[4m5\u001b[24m\u001b[4m6\u001b[24m\u001b[4m0\u001b[24m346 \u001b[4m6\u001b[24m\u001b[4m7\u001b[24m986.  210.  62.0  617.  210.  62.0  617.  210.  62.0  620.\n",
      "\u001b[90m2\u001b[39m 1.96\u001b[90me\u001b[39m9   55\u001b[4m5\u001b[24m\u001b[4m6\u001b[24m\u001b[4m0\u001b[24m347 \u001b[4m6\u001b[24m\u001b[4m7\u001b[24m986.  210.  62.0  616.  210.  62.0  616.  210.  62.0  622.\n",
      "\u001b[90m3\u001b[39m 1.96\u001b[90me\u001b[39m9   55\u001b[4m5\u001b[24m\u001b[4m6\u001b[24m\u001b[4m0\u001b[24m348 \u001b[4m6\u001b[24m\u001b[4m7\u001b[24m986.  210.  62.0  616.  210.  62.0  626.  210.  62.0  627.\n",
      "\u001b[90m4\u001b[39m 1.96\u001b[90me\u001b[39m9   55\u001b[4m5\u001b[24m\u001b[4m6\u001b[24m\u001b[4m0\u001b[24m349 \u001b[4m6\u001b[24m\u001b[4m7\u001b[24m986.  210.  62.0  617.  210.  62.0  625.  210.  62.0  627.\n",
      "\u001b[90m5\u001b[39m 1.96\u001b[90me\u001b[39m9   55\u001b[4m5\u001b[24m\u001b[4m6\u001b[24m\u001b[4m0\u001b[24m350 \u001b[4m6\u001b[24m\u001b[4m7\u001b[24m986.  210.  62.0  616.  210.  62.0  616.  210.  62.0  620.\n",
      "\u001b[90m6\u001b[39m 1.96\u001b[90me\u001b[39m9   55\u001b[4m5\u001b[24m\u001b[4m6\u001b[24m\u001b[4m0\u001b[24m351 \u001b[4m6\u001b[24m\u001b[4m7\u001b[24m986.  210.  62.0  619.  210.  62.0  619.  210.  62.0  621.\n",
      "\u001b[90m# … with 31 more variables: RH010 <dbl>, RH015 <dbl>, RH020 <dbl>, RH025 <dbl>,\u001b[39m\n",
      "\u001b[90m#   RH030 <dbl>, RH035 <dbl>, RH040 <dbl>, RH045 <dbl>, RH050 <dbl>,\u001b[39m\n",
      "\u001b[90m#   RH055 <dbl>, RH060 <dbl>, RH065 <dbl>, RH070 <dbl>, RH075 <dbl>,\u001b[39m\n",
      "\u001b[90m#   RH080 <dbl>, RH085 <dbl>, RH090 <dbl>, RH095 <dbl>, RH096 <dbl>,\u001b[39m\n",
      "\u001b[90m#   RH097 <dbl>, RH098 <dbl>, RH099 <dbl>, RH100 <dbl>, AZIMUTH <dbl>,\u001b[39m\n",
      "\u001b[90m#   INCIDENTANGLE <dbl>, RANGE <dbl>, COMPLEXITY <dbl>, SENSITIVITY <dbl>,\u001b[39m\n",
      "\u001b[90m#   CHANNEL_ZT <dbl>, CHANNEL_ZG <dbl>, CHANNEL_RH <dbl>\u001b[39m\n",
      "[1] \"No Overlapped Footprint\"\n",
      "[1] 2\n",
      "[1] \"Loading LVISF2_ABoVE2019_0718_R2003_068073\"\n",
      "[1] \"Skipping lines: 20\"\n"
     ]
    },
    {
     "name": "stderr",
     "output_type": "stream",
     "text": [
      "Warning message:\n",
      "“`read_table2()` was deprecated in readr 2.0.0.\n",
      "Please use `read_table()` instead.”\n",
      "\n",
      "\u001b[36m──\u001b[39m \u001b[1m\u001b[1mColumn specification\u001b[1m\u001b[22m \u001b[36m────────────────────────────────────────────────────────\u001b[39m\n",
      "cols(\n",
      "  .default = col_double()\n",
      ")\n",
      "\u001b[36mℹ\u001b[39m Use \u001b[30m\u001b[47m\u001b[30m\u001b[47m`spec()`\u001b[47m\u001b[30m\u001b[49m\u001b[39m for the full column specifications.\n",
      "\n",
      "\n"
     ]
    },
    {
     "name": "stdout",
     "output_type": "stream",
     "text": [
      "\u001b[90m# A tibble: 6 × 43\u001b[39m\n",
      "    LFID SHOTNUMBER   TIME  GLON  GLAT    ZG  HLON  HLAT    ZH  TLON  TLAT    ZT\n",
      "   \u001b[3m\u001b[90m<dbl>\u001b[39m\u001b[23m      \u001b[3m\u001b[90m<dbl>\u001b[39m\u001b[23m  \u001b[3m\u001b[90m<dbl>\u001b[39m\u001b[23m \u001b[3m\u001b[90m<dbl>\u001b[39m\u001b[23m \u001b[3m\u001b[90m<dbl>\u001b[39m\u001b[23m \u001b[3m\u001b[90m<dbl>\u001b[39m\u001b[23m \u001b[3m\u001b[90m<dbl>\u001b[39m\u001b[23m \u001b[3m\u001b[90m<dbl>\u001b[39m\u001b[23m \u001b[3m\u001b[90m<dbl>\u001b[39m\u001b[23m \u001b[3m\u001b[90m<dbl>\u001b[39m\u001b[23m \u001b[3m\u001b[90m<dbl>\u001b[39m\u001b[23m \u001b[3m\u001b[90m<dbl>\u001b[39m\u001b[23m\n",
      "\u001b[90m1\u001b[39m 1.96\u001b[90me\u001b[39m9   55\u001b[4m9\u001b[24m\u001b[4m1\u001b[24m\u001b[4m0\u001b[24m632 \u001b[4m6\u001b[24m\u001b[4m8\u001b[24m074.  210.  61.8  461.  210.  61.8  461.  210.  61.8  464.\n",
      "\u001b[90m2\u001b[39m 1.96\u001b[90me\u001b[39m9   55\u001b[4m9\u001b[24m\u001b[4m1\u001b[24m\u001b[4m0\u001b[24m633 \u001b[4m6\u001b[24m\u001b[4m8\u001b[24m074.  210.  61.8  461.  210.  61.8  466.  210.  61.8  469.\n",
      "\u001b[90m3\u001b[39m 1.96\u001b[90me\u001b[39m9   55\u001b[4m9\u001b[24m\u001b[4m1\u001b[24m\u001b[4m0\u001b[24m634 \u001b[4m6\u001b[24m\u001b[4m8\u001b[24m074.  210.  61.8  461.  210.  61.8  461.  210.  61.8  466.\n",
      "\u001b[90m4\u001b[39m 1.96\u001b[90me\u001b[39m9   55\u001b[4m9\u001b[24m\u001b[4m1\u001b[24m\u001b[4m0\u001b[24m635 \u001b[4m6\u001b[24m\u001b[4m8\u001b[24m074.  210.  61.8  462.  210.  61.8  474.  210.  61.8  476.\n",
      "\u001b[90m5\u001b[39m 1.96\u001b[90me\u001b[39m9   55\u001b[4m9\u001b[24m\u001b[4m1\u001b[24m\u001b[4m0\u001b[24m636 \u001b[4m6\u001b[24m\u001b[4m8\u001b[24m074.  210.  61.8  461.  210.  61.8  461.  210.  61.8  464.\n",
      "\u001b[90m6\u001b[39m 1.96\u001b[90me\u001b[39m9   55\u001b[4m9\u001b[24m\u001b[4m1\u001b[24m\u001b[4m0\u001b[24m637 \u001b[4m6\u001b[24m\u001b[4m8\u001b[24m074.  210.  61.8  462.  210.  61.8  469.  210.  61.8  471.\n",
      "\u001b[90m# … with 31 more variables: RH010 <dbl>, RH015 <dbl>, RH020 <dbl>, RH025 <dbl>,\u001b[39m\n",
      "\u001b[90m#   RH030 <dbl>, RH035 <dbl>, RH040 <dbl>, RH045 <dbl>, RH050 <dbl>,\u001b[39m\n",
      "\u001b[90m#   RH055 <dbl>, RH060 <dbl>, RH065 <dbl>, RH070 <dbl>, RH075 <dbl>,\u001b[39m\n",
      "\u001b[90m#   RH080 <dbl>, RH085 <dbl>, RH090 <dbl>, RH095 <dbl>, RH096 <dbl>,\u001b[39m\n",
      "\u001b[90m#   RH097 <dbl>, RH098 <dbl>, RH099 <dbl>, RH100 <dbl>, AZIMUTH <dbl>,\u001b[39m\n",
      "\u001b[90m#   INCIDENTANGLE <dbl>, RANGE <dbl>, COMPLEXITY <dbl>, SENSITIVITY <dbl>,\u001b[39m\n",
      "\u001b[90m#   CHANNEL_ZT <dbl>, CHANNEL_ZG <dbl>, CHANNEL_RH <dbl>\u001b[39m\n",
      "[1] \"No Overlapped Footprint\"\n",
      "[1] 3\n",
      "[1] \"Loading LVISF2_ABoVE2019_0718_R2003_068161\"\n",
      "[1] \"Skipping lines: 20\"\n"
     ]
    },
    {
     "name": "stderr",
     "output_type": "stream",
     "text": [
      "Warning message:\n",
      "“`read_table2()` was deprecated in readr 2.0.0.\n",
      "Please use `read_table()` instead.”\n",
      "\n",
      "\u001b[36m──\u001b[39m \u001b[1m\u001b[1mColumn specification\u001b[1m\u001b[22m \u001b[36m────────────────────────────────────────────────────────\u001b[39m\n",
      "cols(\n",
      "  .default = col_double()\n",
      ")\n",
      "\u001b[36mℹ\u001b[39m Use \u001b[30m\u001b[47m\u001b[30m\u001b[47m`spec()`\u001b[47m\u001b[30m\u001b[49m\u001b[39m for the full column specifications.\n",
      "\n",
      "\n"
     ]
    },
    {
     "name": "stdout",
     "output_type": "stream",
     "text": [
      "\u001b[90m# A tibble: 6 × 43\u001b[39m\n",
      "    LFID SHOTNUMBER   TIME  GLON  GLAT    ZG  HLON  HLAT    ZH  TLON  TLAT    ZT\n",
      "   \u001b[3m\u001b[90m<dbl>\u001b[39m\u001b[23m      \u001b[3m\u001b[90m<dbl>\u001b[39m\u001b[23m  \u001b[3m\u001b[90m<dbl>\u001b[39m\u001b[23m \u001b[3m\u001b[90m<dbl>\u001b[39m\u001b[23m \u001b[3m\u001b[90m<dbl>\u001b[39m\u001b[23m \u001b[3m\u001b[90m<dbl>\u001b[39m\u001b[23m \u001b[3m\u001b[90m<dbl>\u001b[39m\u001b[23m \u001b[3m\u001b[90m<dbl>\u001b[39m\u001b[23m \u001b[3m\u001b[90m<dbl>\u001b[39m\u001b[23m \u001b[3m\u001b[90m<dbl>\u001b[39m\u001b[23m \u001b[3m\u001b[90m<dbl>\u001b[39m\u001b[23m \u001b[3m\u001b[90m<dbl>\u001b[39m\u001b[23m\n",
      "\u001b[90m1\u001b[39m 1.96\u001b[90me\u001b[39m9   56\u001b[4m2\u001b[24m\u001b[4m6\u001b[24m\u001b[4m3\u001b[24m042 \u001b[4m6\u001b[24m\u001b[4m8\u001b[24m162.  210.  61.6  88.8  210.  61.6  109.  210.  61.6  111.\n",
      "\u001b[90m2\u001b[39m 1.96\u001b[90me\u001b[39m9   56\u001b[4m2\u001b[24m\u001b[4m6\u001b[24m\u001b[4m3\u001b[24m043 \u001b[4m6\u001b[24m\u001b[4m8\u001b[24m162.  210.  61.6  89.0  210.  61.6  109.  210.  61.6  111.\n",
      "\u001b[90m3\u001b[39m 1.96\u001b[90me\u001b[39m9   56\u001b[4m2\u001b[24m\u001b[4m6\u001b[24m\u001b[4m3\u001b[24m044 \u001b[4m6\u001b[24m\u001b[4m8\u001b[24m162.  210.  61.6  88.9  210.  61.6  110.  210.  61.6  112.\n",
      "\u001b[90m4\u001b[39m 1.96\u001b[90me\u001b[39m9   56\u001b[4m2\u001b[24m\u001b[4m6\u001b[24m\u001b[4m3\u001b[24m045 \u001b[4m6\u001b[24m\u001b[4m8\u001b[24m162.  210.  61.6  89.1  210.  61.6  109.  210.  61.6  112.\n",
      "\u001b[90m5\u001b[39m 1.96\u001b[90me\u001b[39m9   56\u001b[4m2\u001b[24m\u001b[4m6\u001b[24m\u001b[4m3\u001b[24m046 \u001b[4m6\u001b[24m\u001b[4m8\u001b[24m162.  210.  61.6  89.2  210.  61.6  108.  210.  61.6  111.\n",
      "\u001b[90m6\u001b[39m 1.96\u001b[90me\u001b[39m9   56\u001b[4m2\u001b[24m\u001b[4m6\u001b[24m\u001b[4m3\u001b[24m047 \u001b[4m6\u001b[24m\u001b[4m8\u001b[24m162.  210.  61.6  89.2  210.  61.6  109.  210.  61.6  111.\n",
      "\u001b[90m# … with 31 more variables: RH010 <dbl>, RH015 <dbl>, RH020 <dbl>, RH025 <dbl>,\u001b[39m\n",
      "\u001b[90m#   RH030 <dbl>, RH035 <dbl>, RH040 <dbl>, RH045 <dbl>, RH050 <dbl>,\u001b[39m\n",
      "\u001b[90m#   RH055 <dbl>, RH060 <dbl>, RH065 <dbl>, RH070 <dbl>, RH075 <dbl>,\u001b[39m\n",
      "\u001b[90m#   RH080 <dbl>, RH085 <dbl>, RH090 <dbl>, RH095 <dbl>, RH096 <dbl>,\u001b[39m\n",
      "\u001b[90m#   RH097 <dbl>, RH098 <dbl>, RH099 <dbl>, RH100 <dbl>, AZIMUTH <dbl>,\u001b[39m\n",
      "\u001b[90m#   INCIDENTANGLE <dbl>, RANGE <dbl>, COMPLEXITY <dbl>, SENSITIVITY <dbl>,\u001b[39m\n",
      "\u001b[90m#   CHANNEL_ZT <dbl>, CHANNEL_ZG <dbl>, CHANNEL_RH <dbl>\u001b[39m\n",
      "[1] \"No Overlapped Footprint\"\n",
      "[1] 4\n",
      "[1] \"Loading LVISF2_ABoVE2019_0718_R2003_068252\"\n",
      "[1] \"Skipping lines: 20\"\n"
     ]
    },
    {
     "name": "stderr",
     "output_type": "stream",
     "text": [
      "Warning message:\n",
      "“`read_table2()` was deprecated in readr 2.0.0.\n",
      "Please use `read_table()` instead.”\n",
      "\n",
      "\u001b[36m──\u001b[39m \u001b[1m\u001b[1mColumn specification\u001b[1m\u001b[22m \u001b[36m────────────────────────────────────────────────────────\u001b[39m\n",
      "cols(\n",
      "  .default = col_double()\n",
      ")\n",
      "\u001b[36mℹ\u001b[39m Use \u001b[30m\u001b[47m\u001b[30m\u001b[47m`spec()`\u001b[47m\u001b[30m\u001b[49m\u001b[39m for the full column specifications.\n",
      "\n",
      "\n"
     ]
    },
    {
     "name": "stdout",
     "output_type": "stream",
     "text": [
      "\u001b[90m# A tibble: 6 × 43\u001b[39m\n",
      "    LFID SHOTNUMBER   TIME  GLON  GLAT    ZG  HLON  HLAT    ZH  TLON  TLAT    ZT\n",
      "   \u001b[3m\u001b[90m<dbl>\u001b[39m\u001b[23m      \u001b[3m\u001b[90m<dbl>\u001b[39m\u001b[23m  \u001b[3m\u001b[90m<dbl>\u001b[39m\u001b[23m \u001b[3m\u001b[90m<dbl>\u001b[39m\u001b[23m \u001b[3m\u001b[90m<dbl>\u001b[39m\u001b[23m \u001b[3m\u001b[90m<dbl>\u001b[39m\u001b[23m \u001b[3m\u001b[90m<dbl>\u001b[39m\u001b[23m \u001b[3m\u001b[90m<dbl>\u001b[39m\u001b[23m \u001b[3m\u001b[90m<dbl>\u001b[39m\u001b[23m \u001b[3m\u001b[90m<dbl>\u001b[39m\u001b[23m \u001b[3m\u001b[90m<dbl>\u001b[39m\u001b[23m \u001b[3m\u001b[90m<dbl>\u001b[39m\u001b[23m\n",
      "\u001b[90m1\u001b[39m 1.96\u001b[90me\u001b[39m9   56\u001b[4m6\u001b[24m\u001b[4m2\u001b[24m\u001b[4m7\u001b[24m218 \u001b[4m6\u001b[24m\u001b[4m8\u001b[24m253.  210.  61.4  31.3  210.  61.4  31.3  210.  61.4  33.2\n",
      "\u001b[90m2\u001b[39m 1.96\u001b[90me\u001b[39m9   56\u001b[4m6\u001b[24m\u001b[4m2\u001b[24m\u001b[4m7\u001b[24m219 \u001b[4m6\u001b[24m\u001b[4m8\u001b[24m253.  210.  61.4  31.4  210.  61.4  31.4  210.  61.4  33.2\n",
      "\u001b[90m3\u001b[39m 1.96\u001b[90me\u001b[39m9   56\u001b[4m6\u001b[24m\u001b[4m2\u001b[24m\u001b[4m7\u001b[24m220 \u001b[4m6\u001b[24m\u001b[4m8\u001b[24m253.  210.  61.4  31.4  210.  61.4  31.4  210.  61.4  33.2\n",
      "\u001b[90m4\u001b[39m 1.96\u001b[90me\u001b[39m9   56\u001b[4m6\u001b[24m\u001b[4m2\u001b[24m\u001b[4m7\u001b[24m221 \u001b[4m6\u001b[24m\u001b[4m8\u001b[24m253.  210.  61.4  31.3  210.  61.4  31.3  210.  61.4  33.2\n",
      "\u001b[90m5\u001b[39m 1.96\u001b[90me\u001b[39m9   56\u001b[4m6\u001b[24m\u001b[4m2\u001b[24m\u001b[4m7\u001b[24m222 \u001b[4m6\u001b[24m\u001b[4m8\u001b[24m253.  210.  61.4  31.4  210.  61.4  31.4  210.  61.4  33.2\n",
      "\u001b[90m6\u001b[39m 1.96\u001b[90me\u001b[39m9   56\u001b[4m6\u001b[24m\u001b[4m2\u001b[24m\u001b[4m7\u001b[24m223 \u001b[4m6\u001b[24m\u001b[4m8\u001b[24m253.  210.  61.4  31.4  210.  61.4  31.4  210.  61.4  33.2\n",
      "\u001b[90m# … with 31 more variables: RH010 <dbl>, RH015 <dbl>, RH020 <dbl>, RH025 <dbl>,\u001b[39m\n",
      "\u001b[90m#   RH030 <dbl>, RH035 <dbl>, RH040 <dbl>, RH045 <dbl>, RH050 <dbl>,\u001b[39m\n",
      "\u001b[90m#   RH055 <dbl>, RH060 <dbl>, RH065 <dbl>, RH070 <dbl>, RH075 <dbl>,\u001b[39m\n",
      "\u001b[90m#   RH080 <dbl>, RH085 <dbl>, RH090 <dbl>, RH095 <dbl>, RH096 <dbl>,\u001b[39m\n",
      "\u001b[90m#   RH097 <dbl>, RH098 <dbl>, RH099 <dbl>, RH100 <dbl>, AZIMUTH <dbl>,\u001b[39m\n",
      "\u001b[90m#   INCIDENTANGLE <dbl>, RANGE <dbl>, COMPLEXITY <dbl>, SENSITIVITY <dbl>,\u001b[39m\n",
      "\u001b[90m#   CHANNEL_ZT <dbl>, CHANNEL_ZG <dbl>, CHANNEL_RH <dbl>\u001b[39m\n",
      "[1] \"No Overlapped Footprint\"\n",
      "[1] 5\n",
      "[1] \"Loading LVISF2_ABoVE2019_0718_R2003_068341\"\n",
      "[1] \"Skipping lines: 20\"\n"
     ]
    },
    {
     "name": "stderr",
     "output_type": "stream",
     "text": [
      "Warning message:\n",
      "“`read_table2()` was deprecated in readr 2.0.0.\n",
      "Please use `read_table()` instead.”\n",
      "\n",
      "\u001b[36m──\u001b[39m \u001b[1m\u001b[1mColumn specification\u001b[1m\u001b[22m \u001b[36m────────────────────────────────────────────────────────\u001b[39m\n",
      "cols(\n",
      "  .default = col_double()\n",
      ")\n",
      "\u001b[36mℹ\u001b[39m Use \u001b[30m\u001b[47m\u001b[30m\u001b[47m`spec()`\u001b[47m\u001b[30m\u001b[49m\u001b[39m for the full column specifications.\n",
      "\n",
      "\n"
     ]
    },
    {
     "name": "stdout",
     "output_type": "stream",
     "text": [
      "\u001b[90m# A tibble: 6 × 43\u001b[39m\n",
      "    LFID SHOTNUMBER   TIME  GLON  GLAT    ZG  HLON  HLAT    ZH  TLON  TLAT    ZT\n",
      "   \u001b[3m\u001b[90m<dbl>\u001b[39m\u001b[23m      \u001b[3m\u001b[90m<dbl>\u001b[39m\u001b[23m  \u001b[3m\u001b[90m<dbl>\u001b[39m\u001b[23m \u001b[3m\u001b[90m<dbl>\u001b[39m\u001b[23m \u001b[3m\u001b[90m<dbl>\u001b[39m\u001b[23m \u001b[3m\u001b[90m<dbl>\u001b[39m\u001b[23m \u001b[3m\u001b[90m<dbl>\u001b[39m\u001b[23m \u001b[3m\u001b[90m<dbl>\u001b[39m\u001b[23m \u001b[3m\u001b[90m<dbl>\u001b[39m\u001b[23m \u001b[3m\u001b[90m<dbl>\u001b[39m\u001b[23m \u001b[3m\u001b[90m<dbl>\u001b[39m\u001b[23m \u001b[3m\u001b[90m<dbl>\u001b[39m\u001b[23m\n",
      "\u001b[90m1\u001b[39m 1.96\u001b[90me\u001b[39m9   56\u001b[4m9\u001b[24m\u001b[4m8\u001b[24m\u001b[4m4\u001b[24m479 \u001b[4m6\u001b[24m\u001b[4m8\u001b[24m342.  210.  61.2  10.6  210.  61.2  10.6  210.  61.2  12.1\n",
      "\u001b[90m2\u001b[39m 1.96\u001b[90me\u001b[39m9   56\u001b[4m9\u001b[24m\u001b[4m8\u001b[24m\u001b[4m4\u001b[24m480 \u001b[4m6\u001b[24m\u001b[4m8\u001b[24m342.  210.  61.2  10.5  210.  61.2  10.5  210.  61.2  12  \n",
      "\u001b[90m3\u001b[39m 1.96\u001b[90me\u001b[39m9   56\u001b[4m9\u001b[24m\u001b[4m8\u001b[24m\u001b[4m4\u001b[24m481 \u001b[4m6\u001b[24m\u001b[4m8\u001b[24m342.  210.  61.2  10.5  210.  61.2  10.5  210.  61.2  12.0\n",
      "\u001b[90m4\u001b[39m 1.96\u001b[90me\u001b[39m9   56\u001b[4m9\u001b[24m\u001b[4m8\u001b[24m\u001b[4m4\u001b[24m482 \u001b[4m6\u001b[24m\u001b[4m8\u001b[24m342.  210.  61.2  10.6  210.  61.2  10.6  210.  61.2  12.0\n",
      "\u001b[90m5\u001b[39m 1.96\u001b[90me\u001b[39m9   56\u001b[4m9\u001b[24m\u001b[4m8\u001b[24m\u001b[4m4\u001b[24m483 \u001b[4m6\u001b[24m\u001b[4m8\u001b[24m342.  210.  61.2  10.4  210.  61.2  10.4  210.  61.2  12.0\n",
      "\u001b[90m6\u001b[39m 1.96\u001b[90me\u001b[39m9   56\u001b[4m9\u001b[24m\u001b[4m8\u001b[24m\u001b[4m4\u001b[24m484 \u001b[4m6\u001b[24m\u001b[4m8\u001b[24m342.  210.  61.2  10.5  210.  61.2  10.5  210.  61.2  11.9\n",
      "\u001b[90m# … with 31 more variables: RH010 <dbl>, RH015 <dbl>, RH020 <dbl>, RH025 <dbl>,\u001b[39m\n",
      "\u001b[90m#   RH030 <dbl>, RH035 <dbl>, RH040 <dbl>, RH045 <dbl>, RH050 <dbl>,\u001b[39m\n",
      "\u001b[90m#   RH055 <dbl>, RH060 <dbl>, RH065 <dbl>, RH070 <dbl>, RH075 <dbl>,\u001b[39m\n",
      "\u001b[90m#   RH080 <dbl>, RH085 <dbl>, RH090 <dbl>, RH095 <dbl>, RH096 <dbl>,\u001b[39m\n",
      "\u001b[90m#   RH097 <dbl>, RH098 <dbl>, RH099 <dbl>, RH100 <dbl>, AZIMUTH <dbl>,\u001b[39m\n",
      "\u001b[90m#   INCIDENTANGLE <dbl>, RANGE <dbl>, COMPLEXITY <dbl>, SENSITIVITY <dbl>,\u001b[39m\n",
      "\u001b[90m#   CHANNEL_ZT <dbl>, CHANNEL_ZG <dbl>, CHANNEL_RH <dbl>\u001b[39m\n",
      "[1] \"No Overlapped Footprint\"\n",
      "[1] 6\n",
      "[1] \"Loading LVISF2_ABoVE2019_0718_R2003_068461\"\n",
      "[1] \"Skipping lines: 20\"\n"
     ]
    },
    {
     "name": "stderr",
     "output_type": "stream",
     "text": [
      "Warning message:\n",
      "“`read_table2()` was deprecated in readr 2.0.0.\n",
      "Please use `read_table()` instead.”\n",
      "\n",
      "\u001b[36m──\u001b[39m \u001b[1m\u001b[1mColumn specification\u001b[1m\u001b[22m \u001b[36m────────────────────────────────────────────────────────\u001b[39m\n",
      "cols(\n",
      "  .default = col_double()\n",
      ")\n",
      "\u001b[36mℹ\u001b[39m Use \u001b[30m\u001b[47m\u001b[30m\u001b[47m`spec()`\u001b[47m\u001b[30m\u001b[49m\u001b[39m for the full column specifications.\n",
      "\n",
      "\n"
     ]
    },
    {
     "name": "stdout",
     "output_type": "stream",
     "text": [
      "\u001b[90m# A tibble: 6 × 43\u001b[39m\n",
      "    LFID SHOTNUMBER   TIME  GLON  GLAT    ZG  HLON  HLAT    ZH  TLON  TLAT    ZT\n",
      "   \u001b[3m\u001b[90m<dbl>\u001b[39m\u001b[23m      \u001b[3m\u001b[90m<dbl>\u001b[39m\u001b[23m  \u001b[3m\u001b[90m<dbl>\u001b[39m\u001b[23m \u001b[3m\u001b[90m<dbl>\u001b[39m\u001b[23m \u001b[3m\u001b[90m<dbl>\u001b[39m\u001b[23m \u001b[3m\u001b[90m<dbl>\u001b[39m\u001b[23m \u001b[3m\u001b[90m<dbl>\u001b[39m\u001b[23m \u001b[3m\u001b[90m<dbl>\u001b[39m\u001b[23m \u001b[3m\u001b[90m<dbl>\u001b[39m\u001b[23m \u001b[3m\u001b[90m<dbl>\u001b[39m\u001b[23m \u001b[3m\u001b[90m<dbl>\u001b[39m\u001b[23m \u001b[3m\u001b[90m<dbl>\u001b[39m\u001b[23m\n",
      "\u001b[90m1\u001b[39m 1.96\u001b[90me\u001b[39m9   57\u001b[4m4\u001b[24m\u001b[4m6\u001b[24m\u001b[4m0\u001b[24m636 \u001b[4m6\u001b[24m\u001b[4m8\u001b[24m461.  210.  61.0  10.7  210.  61.0  10.7  210.  61.0  12.2\n",
      "\u001b[90m2\u001b[39m 1.96\u001b[90me\u001b[39m9   57\u001b[4m4\u001b[24m\u001b[4m6\u001b[24m\u001b[4m0\u001b[24m637 \u001b[4m6\u001b[24m\u001b[4m8\u001b[24m461.  210.  61.0  10.7  210.  61.0  10.7  210.  61.0  12.3\n",
      "\u001b[90m3\u001b[39m 1.96\u001b[90me\u001b[39m9   57\u001b[4m4\u001b[24m\u001b[4m6\u001b[24m\u001b[4m0\u001b[24m638 \u001b[4m6\u001b[24m\u001b[4m8\u001b[24m461.  210.  61.0  10.7  210.  61.0  10.7  210.  61.0  12.3\n",
      "\u001b[90m4\u001b[39m 1.96\u001b[90me\u001b[39m9   57\u001b[4m4\u001b[24m\u001b[4m6\u001b[24m\u001b[4m0\u001b[24m639 \u001b[4m6\u001b[24m\u001b[4m8\u001b[24m461.  210.  61.0  10.7  210.  61.0  10.7  210.  61.0  12.2\n",
      "\u001b[90m5\u001b[39m 1.96\u001b[90me\u001b[39m9   57\u001b[4m4\u001b[24m\u001b[4m6\u001b[24m\u001b[4m0\u001b[24m640 \u001b[4m6\u001b[24m\u001b[4m8\u001b[24m461.  210.  61.0  10.7  210.  61.0  10.7  210.  61.0  12.2\n",
      "\u001b[90m6\u001b[39m 1.96\u001b[90me\u001b[39m9   57\u001b[4m4\u001b[24m\u001b[4m6\u001b[24m\u001b[4m0\u001b[24m641 \u001b[4m6\u001b[24m\u001b[4m8\u001b[24m461.  210.  61.0  10.7  210.  61.0  10.7  210.  61.0  12.2\n",
      "\u001b[90m# … with 31 more variables: RH010 <dbl>, RH015 <dbl>, RH020 <dbl>, RH025 <dbl>,\u001b[39m\n",
      "\u001b[90m#   RH030 <dbl>, RH035 <dbl>, RH040 <dbl>, RH045 <dbl>, RH050 <dbl>,\u001b[39m\n",
      "\u001b[90m#   RH055 <dbl>, RH060 <dbl>, RH065 <dbl>, RH070 <dbl>, RH075 <dbl>,\u001b[39m\n",
      "\u001b[90m#   RH080 <dbl>, RH085 <dbl>, RH090 <dbl>, RH095 <dbl>, RH096 <dbl>,\u001b[39m\n",
      "\u001b[90m#   RH097 <dbl>, RH098 <dbl>, RH099 <dbl>, RH100 <dbl>, AZIMUTH <dbl>,\u001b[39m\n",
      "\u001b[90m#   INCIDENTANGLE <dbl>, RANGE <dbl>, COMPLEXITY <dbl>, SENSITIVITY <dbl>,\u001b[39m\n",
      "\u001b[90m#   CHANNEL_ZT <dbl>, CHANNEL_ZG <dbl>, CHANNEL_RH <dbl>\u001b[39m\n",
      "[1] \"No Overlapped Footprint\"\n",
      "[1] 7\n",
      "[1] \"Loading LVISF2_ABoVE2019_0718_R2003_068549\"\n",
      "[1] \"Skipping lines: 20\"\n"
     ]
    },
    {
     "name": "stderr",
     "output_type": "stream",
     "text": [
      "Warning message:\n",
      "“`read_table2()` was deprecated in readr 2.0.0.\n",
      "Please use `read_table()` instead.”\n",
      "\n",
      "\u001b[36m──\u001b[39m \u001b[1m\u001b[1mColumn specification\u001b[1m\u001b[22m \u001b[36m────────────────────────────────────────────────────────\u001b[39m\n",
      "cols(\n",
      "  .default = col_double()\n",
      ")\n",
      "\u001b[36mℹ\u001b[39m Use \u001b[30m\u001b[47m\u001b[30m\u001b[47m`spec()`\u001b[47m\u001b[30m\u001b[49m\u001b[39m for the full column specifications.\n",
      "\n",
      "\n"
     ]
    },
    {
     "name": "stdout",
     "output_type": "stream",
     "text": [
      "\u001b[90m# A tibble: 6 × 43\u001b[39m\n",
      "    LFID SHOTNUMBER   TIME  GLON  GLAT    ZG  HLON  HLAT    ZH  TLON  TLAT    ZT\n",
      "   \u001b[3m\u001b[90m<dbl>\u001b[39m\u001b[23m      \u001b[3m\u001b[90m<dbl>\u001b[39m\u001b[23m  \u001b[3m\u001b[90m<dbl>\u001b[39m\u001b[23m \u001b[3m\u001b[90m<dbl>\u001b[39m\u001b[23m \u001b[3m\u001b[90m<dbl>\u001b[39m\u001b[23m \u001b[3m\u001b[90m<dbl>\u001b[39m\u001b[23m \u001b[3m\u001b[90m<dbl>\u001b[39m\u001b[23m \u001b[3m\u001b[90m<dbl>\u001b[39m\u001b[23m \u001b[3m\u001b[90m<dbl>\u001b[39m\u001b[23m \u001b[3m\u001b[90m<dbl>\u001b[39m\u001b[23m \u001b[3m\u001b[90m<dbl>\u001b[39m\u001b[23m \u001b[3m\u001b[90m<dbl>\u001b[39m\u001b[23m\n",
      "\u001b[90m1\u001b[39m 1.96\u001b[90me\u001b[39m9   57\u001b[4m8\u001b[24m\u001b[4m1\u001b[24m\u001b[4m2\u001b[24m828 \u001b[4m6\u001b[24m\u001b[4m8\u001b[24m549.  210.  60.8  169.  210.  60.8  174.  210.  60.8  175.\n",
      "\u001b[90m2\u001b[39m 1.96\u001b[90me\u001b[39m9   57\u001b[4m8\u001b[24m\u001b[4m1\u001b[24m\u001b[4m2\u001b[24m829 \u001b[4m6\u001b[24m\u001b[4m8\u001b[24m549.  210.  60.8  169.  210.  60.8  174.  210.  60.8  176.\n",
      "\u001b[90m3\u001b[39m 1.96\u001b[90me\u001b[39m9   57\u001b[4m8\u001b[24m\u001b[4m1\u001b[24m\u001b[4m2\u001b[24m830 \u001b[4m6\u001b[24m\u001b[4m8\u001b[24m549.  210.  60.8  170.  210.  60.8  172.  210.  60.8  176.\n",
      "\u001b[90m4\u001b[39m 1.96\u001b[90me\u001b[39m9   57\u001b[4m8\u001b[24m\u001b[4m1\u001b[24m\u001b[4m2\u001b[24m831 \u001b[4m6\u001b[24m\u001b[4m8\u001b[24m549.  210.  60.8  170.  210.  60.8  170.  210.  60.8  175.\n",
      "\u001b[90m5\u001b[39m 1.96\u001b[90me\u001b[39m9   57\u001b[4m8\u001b[24m\u001b[4m1\u001b[24m\u001b[4m2\u001b[24m832 \u001b[4m6\u001b[24m\u001b[4m8\u001b[24m549.  210.  60.8  170.  210.  60.8  172.  210.  60.8  175.\n",
      "\u001b[90m6\u001b[39m 1.96\u001b[90me\u001b[39m9   57\u001b[4m8\u001b[24m\u001b[4m1\u001b[24m\u001b[4m2\u001b[24m833 \u001b[4m6\u001b[24m\u001b[4m8\u001b[24m549.  210.  60.8  170.  210.  60.8  177.  210.  60.8  180.\n",
      "\u001b[90m# … with 31 more variables: RH010 <dbl>, RH015 <dbl>, RH020 <dbl>, RH025 <dbl>,\u001b[39m\n",
      "\u001b[90m#   RH030 <dbl>, RH035 <dbl>, RH040 <dbl>, RH045 <dbl>, RH050 <dbl>,\u001b[39m\n",
      "\u001b[90m#   RH055 <dbl>, RH060 <dbl>, RH065 <dbl>, RH070 <dbl>, RH075 <dbl>,\u001b[39m\n",
      "\u001b[90m#   RH080 <dbl>, RH085 <dbl>, RH090 <dbl>, RH095 <dbl>, RH096 <dbl>,\u001b[39m\n",
      "\u001b[90m#   RH097 <dbl>, RH098 <dbl>, RH099 <dbl>, RH100 <dbl>, AZIMUTH <dbl>,\u001b[39m\n",
      "\u001b[90m#   INCIDENTANGLE <dbl>, RANGE <dbl>, COMPLEXITY <dbl>, SENSITIVITY <dbl>,\u001b[39m\n",
      "\u001b[90m#   CHANNEL_ZT <dbl>, CHANNEL_ZG <dbl>, CHANNEL_RH <dbl>\u001b[39m\n",
      "[1] \"No Overlapped Footprint\"\n",
      "[1] 8\n",
      "[1] \"Loading LVISF2_ABoVE2019_0718_R2003_068637\"\n",
      "[1] \"Skipping lines: 20\"\n"
     ]
    },
    {
     "name": "stderr",
     "output_type": "stream",
     "text": [
      "Warning message:\n",
      "“`read_table2()` was deprecated in readr 2.0.0.\n",
      "Please use `read_table()` instead.”\n",
      "\n",
      "\u001b[36m──\u001b[39m \u001b[1m\u001b[1mColumn specification\u001b[1m\u001b[22m \u001b[36m────────────────────────────────────────────────────────\u001b[39m\n",
      "cols(\n",
      "  .default = col_double()\n",
      ")\n",
      "\u001b[36mℹ\u001b[39m Use \u001b[30m\u001b[47m\u001b[30m\u001b[47m`spec()`\u001b[47m\u001b[30m\u001b[49m\u001b[39m for the full column specifications.\n",
      "\n",
      "\n"
     ]
    },
    {
     "name": "stdout",
     "output_type": "stream",
     "text": [
      "\u001b[90m# A tibble: 6 × 43\u001b[39m\n",
      "    LFID SHOTNUMBER   TIME  GLON  GLAT    ZG  HLON  HLAT    ZH  TLON  TLAT    ZT\n",
      "   \u001b[3m\u001b[90m<dbl>\u001b[39m\u001b[23m      \u001b[3m\u001b[90m<dbl>\u001b[39m\u001b[23m  \u001b[3m\u001b[90m<dbl>\u001b[39m\u001b[23m \u001b[3m\u001b[90m<dbl>\u001b[39m\u001b[23m \u001b[3m\u001b[90m<dbl>\u001b[39m\u001b[23m \u001b[3m\u001b[90m<dbl>\u001b[39m\u001b[23m \u001b[3m\u001b[90m<dbl>\u001b[39m\u001b[23m \u001b[3m\u001b[90m<dbl>\u001b[39m\u001b[23m \u001b[3m\u001b[90m<dbl>\u001b[39m\u001b[23m \u001b[3m\u001b[90m<dbl>\u001b[39m\u001b[23m \u001b[3m\u001b[90m<dbl>\u001b[39m\u001b[23m \u001b[3m\u001b[90m<dbl>\u001b[39m\u001b[23m\n",
      "\u001b[90m1\u001b[39m 1.96\u001b[90me\u001b[39m9   58\u001b[4m1\u001b[24m\u001b[4m6\u001b[24m\u001b[4m4\u001b[24m982 \u001b[4m6\u001b[24m\u001b[4m8\u001b[24m637.  210.  60.6  360.  210.  60.6  366.  210.  60.6  367.\n",
      "\u001b[90m2\u001b[39m 1.96\u001b[90me\u001b[39m9   58\u001b[4m1\u001b[24m\u001b[4m6\u001b[24m\u001b[4m4\u001b[24m983 \u001b[4m6\u001b[24m\u001b[4m8\u001b[24m637.  210.  60.6  357.  210.  60.6  364.  210.  60.6  366.\n",
      "\u001b[90m3\u001b[39m 1.96\u001b[90me\u001b[39m9   58\u001b[4m1\u001b[24m\u001b[4m6\u001b[24m\u001b[4m4\u001b[24m984 \u001b[4m6\u001b[24m\u001b[4m8\u001b[24m637.  210.  60.6  359.  210.  60.6  369.  210.  60.6  370.\n",
      "\u001b[90m4\u001b[39m 1.96\u001b[90me\u001b[39m9   58\u001b[4m1\u001b[24m\u001b[4m6\u001b[24m\u001b[4m4\u001b[24m985 \u001b[4m6\u001b[24m\u001b[4m8\u001b[24m637.  210.  60.6  360.  210.  60.6  375.  210.  60.6  376.\n",
      "\u001b[90m5\u001b[39m 1.96\u001b[90me\u001b[39m9   58\u001b[4m1\u001b[24m\u001b[4m6\u001b[24m\u001b[4m4\u001b[24m986 \u001b[4m6\u001b[24m\u001b[4m8\u001b[24m637.  210.  60.6  357.  210.  60.6  357.  210.  60.6  362.\n",
      "\u001b[90m6\u001b[39m 1.96\u001b[90me\u001b[39m9   58\u001b[4m1\u001b[24m\u001b[4m6\u001b[24m\u001b[4m4\u001b[24m987 \u001b[4m6\u001b[24m\u001b[4m8\u001b[24m637.  210.  60.6  358.  210.  60.6  362.  210.  60.6  366.\n",
      "\u001b[90m# … with 31 more variables: RH010 <dbl>, RH015 <dbl>, RH020 <dbl>, RH025 <dbl>,\u001b[39m\n",
      "\u001b[90m#   RH030 <dbl>, RH035 <dbl>, RH040 <dbl>, RH045 <dbl>, RH050 <dbl>,\u001b[39m\n",
      "\u001b[90m#   RH055 <dbl>, RH060 <dbl>, RH065 <dbl>, RH070 <dbl>, RH075 <dbl>,\u001b[39m\n",
      "\u001b[90m#   RH080 <dbl>, RH085 <dbl>, RH090 <dbl>, RH095 <dbl>, RH096 <dbl>,\u001b[39m\n",
      "\u001b[90m#   RH097 <dbl>, RH098 <dbl>, RH099 <dbl>, RH100 <dbl>, AZIMUTH <dbl>,\u001b[39m\n",
      "\u001b[90m#   INCIDENTANGLE <dbl>, RANGE <dbl>, COMPLEXITY <dbl>, SENSITIVITY <dbl>,\u001b[39m\n",
      "\u001b[90m#   CHANNEL_ZT <dbl>, CHANNEL_ZG <dbl>, CHANNEL_RH <dbl>\u001b[39m\n",
      "[1] \"No Overlapped Footprint\"\n",
      "[1] 9\n",
      "[1] \"Loading LVISF2_ABoVE2019_0722_R2003_067284\"\n",
      "[1] \"Skipping lines: 20\"\n"
     ]
    },
    {
     "name": "stderr",
     "output_type": "stream",
     "text": [
      "Warning message:\n",
      "“`read_table2()` was deprecated in readr 2.0.0.\n",
      "Please use `read_table()` instead.”\n",
      "\n",
      "\u001b[36m──\u001b[39m \u001b[1m\u001b[1mColumn specification\u001b[1m\u001b[22m \u001b[36m────────────────────────────────────────────────────────\u001b[39m\n",
      "cols(\n",
      "  .default = col_double()\n",
      ")\n",
      "\u001b[36mℹ\u001b[39m Use \u001b[30m\u001b[47m\u001b[30m\u001b[47m`spec()`\u001b[47m\u001b[30m\u001b[49m\u001b[39m for the full column specifications.\n",
      "\n",
      "\n"
     ]
    },
    {
     "name": "stdout",
     "output_type": "stream",
     "text": [
      "\u001b[90m# A tibble: 6 × 43\u001b[39m\n",
      "    LFID SHOTNUMBER   TIME  GLON  GLAT    ZG  HLON  HLAT    ZH  TLON  TLAT    ZT\n",
      "   \u001b[3m\u001b[90m<dbl>\u001b[39m\u001b[23m      \u001b[3m\u001b[90m<dbl>\u001b[39m\u001b[23m  \u001b[3m\u001b[90m<dbl>\u001b[39m\u001b[23m \u001b[3m\u001b[90m<dbl>\u001b[39m\u001b[23m \u001b[3m\u001b[90m<dbl>\u001b[39m\u001b[23m \u001b[3m\u001b[90m<dbl>\u001b[39m\u001b[23m \u001b[3m\u001b[90m<dbl>\u001b[39m\u001b[23m \u001b[3m\u001b[90m<dbl>\u001b[39m\u001b[23m \u001b[3m\u001b[90m<dbl>\u001b[39m\u001b[23m \u001b[3m\u001b[90m<dbl>\u001b[39m\u001b[23m \u001b[3m\u001b[90m<dbl>\u001b[39m\u001b[23m \u001b[3m\u001b[90m<dbl>\u001b[39m\u001b[23m\n",
      "\u001b[90m1\u001b[39m 1.96\u001b[90me\u001b[39m9   22\u001b[4m7\u001b[24m\u001b[4m5\u001b[24m\u001b[4m1\u001b[24m731 \u001b[4m6\u001b[24m\u001b[4m7\u001b[24m284.  211.  63.3  769.  211.  63.3  769.  211.  63.3  771.\n",
      "\u001b[90m2\u001b[39m 1.96\u001b[90me\u001b[39m9   22\u001b[4m7\u001b[24m\u001b[4m5\u001b[24m\u001b[4m1\u001b[24m732 \u001b[4m6\u001b[24m\u001b[4m7\u001b[24m284.  211.  63.3  770.  211.  63.3  770.  211.  63.3  772.\n",
      "\u001b[90m3\u001b[39m 1.96\u001b[90me\u001b[39m9   22\u001b[4m7\u001b[24m\u001b[4m5\u001b[24m\u001b[4m1\u001b[24m733 \u001b[4m6\u001b[24m\u001b[4m7\u001b[24m284.  211.  63.3  769.  211.  63.3  769.  211.  63.3  771.\n",
      "\u001b[90m4\u001b[39m 1.96\u001b[90me\u001b[39m9   22\u001b[4m7\u001b[24m\u001b[4m5\u001b[24m\u001b[4m1\u001b[24m734 \u001b[4m6\u001b[24m\u001b[4m7\u001b[24m284.  211.  63.3  769.  211.  63.3  769.  211.  63.3  772.\n",
      "\u001b[90m5\u001b[39m 1.96\u001b[90me\u001b[39m9   22\u001b[4m7\u001b[24m\u001b[4m5\u001b[24m\u001b[4m1\u001b[24m735 \u001b[4m6\u001b[24m\u001b[4m7\u001b[24m284.  211.  63.3  769.  211.  63.3  769.  211.  63.3  772.\n",
      "\u001b[90m6\u001b[39m 1.96\u001b[90me\u001b[39m9   22\u001b[4m7\u001b[24m\u001b[4m5\u001b[24m\u001b[4m1\u001b[24m736 \u001b[4m6\u001b[24m\u001b[4m7\u001b[24m284.  211.  63.3  770.  211.  63.3  770.  211.  63.3  772.\n",
      "\u001b[90m# … with 31 more variables: RH010 <dbl>, RH015 <dbl>, RH020 <dbl>, RH025 <dbl>,\u001b[39m\n",
      "\u001b[90m#   RH030 <dbl>, RH035 <dbl>, RH040 <dbl>, RH045 <dbl>, RH050 <dbl>,\u001b[39m\n",
      "\u001b[90m#   RH055 <dbl>, RH060 <dbl>, RH065 <dbl>, RH070 <dbl>, RH075 <dbl>,\u001b[39m\n",
      "\u001b[90m#   RH080 <dbl>, RH085 <dbl>, RH090 <dbl>, RH095 <dbl>, RH096 <dbl>,\u001b[39m\n",
      "\u001b[90m#   RH097 <dbl>, RH098 <dbl>, RH099 <dbl>, RH100 <dbl>, AZIMUTH <dbl>,\u001b[39m\n",
      "\u001b[90m#   INCIDENTANGLE <dbl>, RANGE <dbl>, COMPLEXITY <dbl>, SENSITIVITY <dbl>,\u001b[39m\n",
      "\u001b[90m#   CHANNEL_ZT <dbl>, CHANNEL_ZG <dbl>, CHANNEL_RH <dbl>\u001b[39m\n",
      "[1] \"No Overlapped Footprint\"\n",
      "[1] 10\n",
      "[1] \"Loading LVISF2_ABoVE2019_0722_R2003_067375\"\n",
      "[1] \"Skipping lines: 20\"\n"
     ]
    },
    {
     "name": "stderr",
     "output_type": "stream",
     "text": [
      "Warning message:\n",
      "“`read_table2()` was deprecated in readr 2.0.0.\n",
      "Please use `read_table()` instead.”\n",
      "\n",
      "\u001b[36m──\u001b[39m \u001b[1m\u001b[1mColumn specification\u001b[1m\u001b[22m \u001b[36m────────────────────────────────────────────────────────\u001b[39m\n",
      "cols(\n",
      "  .default = col_double()\n",
      ")\n",
      "\u001b[36mℹ\u001b[39m Use \u001b[30m\u001b[47m\u001b[30m\u001b[47m`spec()`\u001b[47m\u001b[30m\u001b[49m\u001b[39m for the full column specifications.\n",
      "\n",
      "\n"
     ]
    },
    {
     "name": "stdout",
     "output_type": "stream",
     "text": [
      "\u001b[90m# A tibble: 6 × 43\u001b[39m\n",
      "    LFID SHOTNUMBER   TIME  GLON  GLAT    ZG  HLON  HLAT    ZH  TLON  TLAT    ZT\n",
      "   \u001b[3m\u001b[90m<dbl>\u001b[39m\u001b[23m      \u001b[3m\u001b[90m<dbl>\u001b[39m\u001b[23m  \u001b[3m\u001b[90m<dbl>\u001b[39m\u001b[23m \u001b[3m\u001b[90m<dbl>\u001b[39m\u001b[23m \u001b[3m\u001b[90m<dbl>\u001b[39m\u001b[23m \u001b[3m\u001b[90m<dbl>\u001b[39m\u001b[23m \u001b[3m\u001b[90m<dbl>\u001b[39m\u001b[23m \u001b[3m\u001b[90m<dbl>\u001b[39m\u001b[23m \u001b[3m\u001b[90m<dbl>\u001b[39m\u001b[23m \u001b[3m\u001b[90m<dbl>\u001b[39m\u001b[23m \u001b[3m\u001b[90m<dbl>\u001b[39m\u001b[23m \u001b[3m\u001b[90m<dbl>\u001b[39m\u001b[23m\n",
      "\u001b[90m1\u001b[39m 1.96\u001b[90me\u001b[39m9   23\u001b[4m1\u001b[24m\u001b[4m1\u001b[24m\u001b[4m3\u001b[24m991 \u001b[4m6\u001b[24m\u001b[4m7\u001b[24m375.  211.  63.5 \u001b[4m1\u001b[24m210.  211.  63.5 \u001b[4m1\u001b[24m210.  211.  63.5 \u001b[4m1\u001b[24m213.\n",
      "\u001b[90m2\u001b[39m 1.96\u001b[90me\u001b[39m9   23\u001b[4m1\u001b[24m\u001b[4m1\u001b[24m\u001b[4m3\u001b[24m992 \u001b[4m6\u001b[24m\u001b[4m7\u001b[24m375.  211.  63.5 \u001b[4m1\u001b[24m214.  211.  63.5 \u001b[4m1\u001b[24m214.  211.  63.5 \u001b[4m1\u001b[24m217.\n",
      "\u001b[90m3\u001b[39m 1.96\u001b[90me\u001b[39m9   23\u001b[4m1\u001b[24m\u001b[4m1\u001b[24m\u001b[4m3\u001b[24m993 \u001b[4m6\u001b[24m\u001b[4m7\u001b[24m375.  211.  63.5 \u001b[4m1\u001b[24m218   211.  63.5 \u001b[4m1\u001b[24m219.  211.  63.5 \u001b[4m1\u001b[24m221.\n",
      "\u001b[90m4\u001b[39m 1.96\u001b[90me\u001b[39m9   23\u001b[4m1\u001b[24m\u001b[4m1\u001b[24m\u001b[4m3\u001b[24m994 \u001b[4m6\u001b[24m\u001b[4m7\u001b[24m375.  211.  63.5 \u001b[4m1\u001b[24m218.  211.  63.5 \u001b[4m1\u001b[24m218.  211.  63.5 \u001b[4m1\u001b[24m221.\n",
      "\u001b[90m5\u001b[39m 1.96\u001b[90me\u001b[39m9   23\u001b[4m1\u001b[24m\u001b[4m1\u001b[24m\u001b[4m3\u001b[24m995 \u001b[4m6\u001b[24m\u001b[4m7\u001b[24m375.  211.  63.5 \u001b[4m1\u001b[24m221.  211.  63.5 \u001b[4m1\u001b[24m221.  211.  63.5 \u001b[4m1\u001b[24m225.\n",
      "\u001b[90m6\u001b[39m 1.96\u001b[90me\u001b[39m9   23\u001b[4m1\u001b[24m\u001b[4m1\u001b[24m\u001b[4m3\u001b[24m996 \u001b[4m6\u001b[24m\u001b[4m7\u001b[24m375.  211.  63.5 \u001b[4m1\u001b[24m226.  211.  63.5 \u001b[4m1\u001b[24m226.  211.  63.5 \u001b[4m1\u001b[24m229.\n",
      "\u001b[90m# … with 31 more variables: RH010 <dbl>, RH015 <dbl>, RH020 <dbl>, RH025 <dbl>,\u001b[39m\n",
      "\u001b[90m#   RH030 <dbl>, RH035 <dbl>, RH040 <dbl>, RH045 <dbl>, RH050 <dbl>,\u001b[39m\n",
      "\u001b[90m#   RH055 <dbl>, RH060 <dbl>, RH065 <dbl>, RH070 <dbl>, RH075 <dbl>,\u001b[39m\n",
      "\u001b[90m#   RH080 <dbl>, RH085 <dbl>, RH090 <dbl>, RH095 <dbl>, RH096 <dbl>,\u001b[39m\n",
      "\u001b[90m#   RH097 <dbl>, RH098 <dbl>, RH099 <dbl>, RH100 <dbl>, AZIMUTH <dbl>,\u001b[39m\n",
      "\u001b[90m#   INCIDENTANGLE <dbl>, RANGE <dbl>, COMPLEXITY <dbl>, SENSITIVITY <dbl>,\u001b[39m\n",
      "\u001b[90m#   CHANNEL_ZT <dbl>, CHANNEL_ZG <dbl>, CHANNEL_RH <dbl>\u001b[39m\n",
      "[1] \"No Overlapped Footprint\"\n",
      "[1] 11\n",
      "[1] \"Loading LVISF2_ABoVE2019_0722_R2003_067465\"\n",
      "[1] \"Skipping lines: 20\"\n"
     ]
    },
    {
     "name": "stderr",
     "output_type": "stream",
     "text": [
      "Warning message:\n",
      "“`read_table2()` was deprecated in readr 2.0.0.\n",
      "Please use `read_table()` instead.”\n",
      "\n",
      "\u001b[36m──\u001b[39m \u001b[1m\u001b[1mColumn specification\u001b[1m\u001b[22m \u001b[36m────────────────────────────────────────────────────────\u001b[39m\n",
      "cols(\n",
      "  .default = col_double()\n",
      ")\n",
      "\u001b[36mℹ\u001b[39m Use \u001b[30m\u001b[47m\u001b[30m\u001b[47m`spec()`\u001b[47m\u001b[30m\u001b[49m\u001b[39m for the full column specifications.\n",
      "\n",
      "\n"
     ]
    },
    {
     "name": "stdout",
     "output_type": "stream",
     "text": [
      "\u001b[90m# A tibble: 6 × 43\u001b[39m\n",
      "    LFID SHOTNUMBER   TIME  GLON  GLAT    ZG  HLON  HLAT    ZH  TLON  TLAT    ZT\n",
      "   \u001b[3m\u001b[90m<dbl>\u001b[39m\u001b[23m      \u001b[3m\u001b[90m<dbl>\u001b[39m\u001b[23m  \u001b[3m\u001b[90m<dbl>\u001b[39m\u001b[23m \u001b[3m\u001b[90m<dbl>\u001b[39m\u001b[23m \u001b[3m\u001b[90m<dbl>\u001b[39m\u001b[23m \u001b[3m\u001b[90m<dbl>\u001b[39m\u001b[23m \u001b[3m\u001b[90m<dbl>\u001b[39m\u001b[23m \u001b[3m\u001b[90m<dbl>\u001b[39m\u001b[23m \u001b[3m\u001b[90m<dbl>\u001b[39m\u001b[23m \u001b[3m\u001b[90m<dbl>\u001b[39m\u001b[23m \u001b[3m\u001b[90m<dbl>\u001b[39m\u001b[23m \u001b[3m\u001b[90m<dbl>\u001b[39m\u001b[23m\n",
      "\u001b[90m1\u001b[39m 1.96\u001b[90me\u001b[39m9   23\u001b[4m4\u001b[24m\u001b[4m7\u001b[24m\u001b[4m6\u001b[24m753 \u001b[4m6\u001b[24m\u001b[4m7\u001b[24m466.  211.  63.7  845.  211.  63.7  845.  211.  63.7  847.\n",
      "\u001b[90m2\u001b[39m 1.96\u001b[90me\u001b[39m9   23\u001b[4m4\u001b[24m\u001b[4m7\u001b[24m\u001b[4m6\u001b[24m754 \u001b[4m6\u001b[24m\u001b[4m7\u001b[24m466.  211.  63.7  846.  211.  63.7  847.  211.  63.7  851.\n",
      "\u001b[90m3\u001b[39m 1.96\u001b[90me\u001b[39m9   23\u001b[4m4\u001b[24m\u001b[4m7\u001b[24m\u001b[4m6\u001b[24m755 \u001b[4m6\u001b[24m\u001b[4m7\u001b[24m466.  211.  63.7  845.  211.  63.7  845.  211.  63.7  847.\n",
      "\u001b[90m4\u001b[39m 1.96\u001b[90me\u001b[39m9   23\u001b[4m4\u001b[24m\u001b[4m7\u001b[24m\u001b[4m6\u001b[24m756 \u001b[4m6\u001b[24m\u001b[4m7\u001b[24m466.  211.  63.7  845.  211.  63.7  845.  211.  63.7  847.\n",
      "\u001b[90m5\u001b[39m 1.96\u001b[90me\u001b[39m9   23\u001b[4m4\u001b[24m\u001b[4m7\u001b[24m\u001b[4m6\u001b[24m757 \u001b[4m6\u001b[24m\u001b[4m7\u001b[24m466.  211.  63.7  851.  211.  63.7  851.  211.  63.7  854.\n",
      "\u001b[90m6\u001b[39m 1.96\u001b[90me\u001b[39m9   23\u001b[4m4\u001b[24m\u001b[4m7\u001b[24m\u001b[4m6\u001b[24m758 \u001b[4m6\u001b[24m\u001b[4m7\u001b[24m466.  211.  63.7  847.  211.  63.7  847.  211.  63.7  850.\n",
      "\u001b[90m# … with 31 more variables: RH010 <dbl>, RH015 <dbl>, RH020 <dbl>, RH025 <dbl>,\u001b[39m\n",
      "\u001b[90m#   RH030 <dbl>, RH035 <dbl>, RH040 <dbl>, RH045 <dbl>, RH050 <dbl>,\u001b[39m\n",
      "\u001b[90m#   RH055 <dbl>, RH060 <dbl>, RH065 <dbl>, RH070 <dbl>, RH075 <dbl>,\u001b[39m\n",
      "\u001b[90m#   RH080 <dbl>, RH085 <dbl>, RH090 <dbl>, RH095 <dbl>, RH096 <dbl>,\u001b[39m\n",
      "\u001b[90m#   RH097 <dbl>, RH098 <dbl>, RH099 <dbl>, RH100 <dbl>, AZIMUTH <dbl>,\u001b[39m\n",
      "\u001b[90m#   INCIDENTANGLE <dbl>, RANGE <dbl>, COMPLEXITY <dbl>, SENSITIVITY <dbl>,\u001b[39m\n",
      "\u001b[90m#   CHANNEL_ZT <dbl>, CHANNEL_ZG <dbl>, CHANNEL_RH <dbl>\u001b[39m\n",
      "[1] \"No Overlapped Footprint\"\n",
      "[1] 12\n",
      "[1] \"Loading LVISF2_ABoVE2019_0722_R2003_067553\"\n",
      "[1] \"Skipping lines: 20\"\n"
     ]
    },
    {
     "name": "stderr",
     "output_type": "stream",
     "text": [
      "Warning message:\n",
      "“`read_table2()` was deprecated in readr 2.0.0.\n",
      "Please use `read_table()` instead.”\n",
      "\n",
      "\u001b[36m──\u001b[39m \u001b[1m\u001b[1mColumn specification\u001b[1m\u001b[22m \u001b[36m────────────────────────────────────────────────────────\u001b[39m\n",
      "cols(\n",
      "  .default = col_double()\n",
      ")\n",
      "\u001b[36mℹ\u001b[39m Use \u001b[30m\u001b[47m\u001b[30m\u001b[47m`spec()`\u001b[47m\u001b[30m\u001b[49m\u001b[39m for the full column specifications.\n",
      "\n",
      "\n"
     ]
    },
    {
     "name": "stdout",
     "output_type": "stream",
     "text": [
      "\u001b[90m# A tibble: 6 × 43\u001b[39m\n",
      "    LFID SHOTNUMBER   TIME  GLON  GLAT    ZG  HLON  HLAT    ZH  TLON  TLAT    ZT\n",
      "   \u001b[3m\u001b[90m<dbl>\u001b[39m\u001b[23m      \u001b[3m\u001b[90m<dbl>\u001b[39m\u001b[23m  \u001b[3m\u001b[90m<dbl>\u001b[39m\u001b[23m \u001b[3m\u001b[90m<dbl>\u001b[39m\u001b[23m \u001b[3m\u001b[90m<dbl>\u001b[39m\u001b[23m \u001b[3m\u001b[90m<dbl>\u001b[39m\u001b[23m \u001b[3m\u001b[90m<dbl>\u001b[39m\u001b[23m \u001b[3m\u001b[90m<dbl>\u001b[39m\u001b[23m \u001b[3m\u001b[90m<dbl>\u001b[39m\u001b[23m \u001b[3m\u001b[90m<dbl>\u001b[39m\u001b[23m \u001b[3m\u001b[90m<dbl>\u001b[39m\u001b[23m \u001b[3m\u001b[90m<dbl>\u001b[39m\u001b[23m\n",
      "\u001b[90m1\u001b[39m 1.96\u001b[90me\u001b[39m9   23\u001b[4m8\u001b[24m\u001b[4m2\u001b[24m\u001b[4m6\u001b[24m959 \u001b[4m6\u001b[24m\u001b[4m7\u001b[24m553.  211.  63.9  654.  211.  63.9  658.  211.  63.9  659.\n",
      "\u001b[90m2\u001b[39m 1.96\u001b[90me\u001b[39m9   23\u001b[4m8\u001b[24m\u001b[4m2\u001b[24m\u001b[4m6\u001b[24m960 \u001b[4m6\u001b[24m\u001b[4m7\u001b[24m553.  211.  63.9  654.  211.  63.9  654.  211.  63.9  656.\n",
      "\u001b[90m3\u001b[39m 1.96\u001b[90me\u001b[39m9   23\u001b[4m8\u001b[24m\u001b[4m2\u001b[24m\u001b[4m6\u001b[24m961 \u001b[4m6\u001b[24m\u001b[4m7\u001b[24m553.  211.  63.9  654.  211.  63.9  654.  211.  63.9  657.\n",
      "\u001b[90m4\u001b[39m 1.96\u001b[90me\u001b[39m9   23\u001b[4m8\u001b[24m\u001b[4m2\u001b[24m\u001b[4m6\u001b[24m962 \u001b[4m6\u001b[24m\u001b[4m7\u001b[24m553.  211.  63.9  654.  211.  63.9  654.  211.  63.9  656.\n",
      "\u001b[90m5\u001b[39m 1.96\u001b[90me\u001b[39m9   23\u001b[4m8\u001b[24m\u001b[4m2\u001b[24m\u001b[4m6\u001b[24m963 \u001b[4m6\u001b[24m\u001b[4m7\u001b[24m553.  211.  63.9  654.  211.  63.9  654.  211.  63.9  656.\n",
      "\u001b[90m6\u001b[39m 1.96\u001b[90me\u001b[39m9   23\u001b[4m8\u001b[24m\u001b[4m2\u001b[24m\u001b[4m6\u001b[24m964 \u001b[4m6\u001b[24m\u001b[4m7\u001b[24m553.  211.  63.9  654.  211.  63.9  654.  211.  63.9  658.\n",
      "\u001b[90m# … with 31 more variables: RH010 <dbl>, RH015 <dbl>, RH020 <dbl>, RH025 <dbl>,\u001b[39m\n",
      "\u001b[90m#   RH030 <dbl>, RH035 <dbl>, RH040 <dbl>, RH045 <dbl>, RH050 <dbl>,\u001b[39m\n",
      "\u001b[90m#   RH055 <dbl>, RH060 <dbl>, RH065 <dbl>, RH070 <dbl>, RH075 <dbl>,\u001b[39m\n",
      "\u001b[90m#   RH080 <dbl>, RH085 <dbl>, RH090 <dbl>, RH095 <dbl>, RH096 <dbl>,\u001b[39m\n",
      "\u001b[90m#   RH097 <dbl>, RH098 <dbl>, RH099 <dbl>, RH100 <dbl>, AZIMUTH <dbl>,\u001b[39m\n",
      "\u001b[90m#   INCIDENTANGLE <dbl>, RANGE <dbl>, COMPLEXITY <dbl>, SENSITIVITY <dbl>,\u001b[39m\n",
      "\u001b[90m#   CHANNEL_ZT <dbl>, CHANNEL_ZG <dbl>, CHANNEL_RH <dbl>\u001b[39m\n",
      "[1] \"No Overlapped Footprint\"\n",
      "[1] 13\n",
      "[1] \"Loading LVISF2_ABoVE2019_0722_R2003_067640\"\n",
      "[1] \"Skipping lines: 20\"\n"
     ]
    },
    {
     "name": "stderr",
     "output_type": "stream",
     "text": [
      "Warning message:\n",
      "“`read_table2()` was deprecated in readr 2.0.0.\n",
      "Please use `read_table()` instead.”\n",
      "\n",
      "\u001b[36m──\u001b[39m \u001b[1m\u001b[1mColumn specification\u001b[1m\u001b[22m \u001b[36m────────────────────────────────────────────────────────\u001b[39m\n",
      "cols(\n",
      "  .default = col_double()\n",
      ")\n",
      "\u001b[36mℹ\u001b[39m Use \u001b[30m\u001b[47m\u001b[30m\u001b[47m`spec()`\u001b[47m\u001b[30m\u001b[49m\u001b[39m for the full column specifications.\n",
      "\n",
      "\n"
     ]
    },
    {
     "name": "stdout",
     "output_type": "stream",
     "text": [
      "\u001b[90m# A tibble: 6 × 43\u001b[39m\n",
      "    LFID SHOTNUMBER   TIME  GLON  GLAT    ZG  HLON  HLAT    ZH  TLON  TLAT    ZT\n",
      "   \u001b[3m\u001b[90m<dbl>\u001b[39m\u001b[23m      \u001b[3m\u001b[90m<dbl>\u001b[39m\u001b[23m  \u001b[3m\u001b[90m<dbl>\u001b[39m\u001b[23m \u001b[3m\u001b[90m<dbl>\u001b[39m\u001b[23m \u001b[3m\u001b[90m<dbl>\u001b[39m\u001b[23m \u001b[3m\u001b[90m<dbl>\u001b[39m\u001b[23m \u001b[3m\u001b[90m<dbl>\u001b[39m\u001b[23m \u001b[3m\u001b[90m<dbl>\u001b[39m\u001b[23m \u001b[3m\u001b[90m<dbl>\u001b[39m\u001b[23m \u001b[3m\u001b[90m<dbl>\u001b[39m\u001b[23m \u001b[3m\u001b[90m<dbl>\u001b[39m\u001b[23m \u001b[3m\u001b[90m<dbl>\u001b[39m\u001b[23m\n",
      "\u001b[90m1\u001b[39m 1.96\u001b[90me\u001b[39m9   24\u001b[4m1\u001b[24m\u001b[4m7\u001b[24m\u001b[4m7\u001b[24m088 \u001b[4m6\u001b[24m\u001b[4m7\u001b[24m641.  211.  64.1  284.  211.  64.1  296.  211.  64.1  303.\n",
      "\u001b[90m2\u001b[39m 1.96\u001b[90me\u001b[39m9   24\u001b[4m1\u001b[24m\u001b[4m7\u001b[24m\u001b[4m7\u001b[24m089 \u001b[4m6\u001b[24m\u001b[4m7\u001b[24m641.  211.  64.1  284.  211.  64.1  284.  211.  64.1  288.\n",
      "\u001b[90m3\u001b[39m 1.96\u001b[90me\u001b[39m9   24\u001b[4m1\u001b[24m\u001b[4m7\u001b[24m\u001b[4m7\u001b[24m090 \u001b[4m6\u001b[24m\u001b[4m7\u001b[24m641.  211.  64.1  284.  211.  64.1  302.  211.  64.1  303.\n",
      "\u001b[90m4\u001b[39m 1.96\u001b[90me\u001b[39m9   24\u001b[4m1\u001b[24m\u001b[4m7\u001b[24m\u001b[4m7\u001b[24m091 \u001b[4m6\u001b[24m\u001b[4m7\u001b[24m641.  211.  64.1  284.  211.  64.1  307.  211.  64.1  308.\n",
      "\u001b[90m5\u001b[39m 1.96\u001b[90me\u001b[39m9   24\u001b[4m1\u001b[24m\u001b[4m7\u001b[24m\u001b[4m7\u001b[24m092 \u001b[4m6\u001b[24m\u001b[4m7\u001b[24m641.  211.  64.1  284.  211.  64.1  301.  211.  64.1  303.\n",
      "\u001b[90m6\u001b[39m 1.96\u001b[90me\u001b[39m9   24\u001b[4m1\u001b[24m\u001b[4m7\u001b[24m\u001b[4m7\u001b[24m093 \u001b[4m6\u001b[24m\u001b[4m7\u001b[24m641.  211.  64.1  284.  211.  64.1  294.  211.  64.1  297.\n",
      "\u001b[90m# … with 31 more variables: RH010 <dbl>, RH015 <dbl>, RH020 <dbl>, RH025 <dbl>,\u001b[39m\n",
      "\u001b[90m#   RH030 <dbl>, RH035 <dbl>, RH040 <dbl>, RH045 <dbl>, RH050 <dbl>,\u001b[39m\n",
      "\u001b[90m#   RH055 <dbl>, RH060 <dbl>, RH065 <dbl>, RH070 <dbl>, RH075 <dbl>,\u001b[39m\n",
      "\u001b[90m#   RH080 <dbl>, RH085 <dbl>, RH090 <dbl>, RH095 <dbl>, RH096 <dbl>,\u001b[39m\n",
      "\u001b[90m#   RH097 <dbl>, RH098 <dbl>, RH099 <dbl>, RH100 <dbl>, AZIMUTH <dbl>,\u001b[39m\n",
      "\u001b[90m#   INCIDENTANGLE <dbl>, RANGE <dbl>, COMPLEXITY <dbl>, SENSITIVITY <dbl>,\u001b[39m\n",
      "\u001b[90m#   CHANNEL_ZT <dbl>, CHANNEL_ZG <dbl>, CHANNEL_RH <dbl>\u001b[39m\n",
      "[1] \"No Overlapped Footprint\"\n",
      "[1] 14\n",
      "[1] \"Loading LVISF2_ABoVE2019_0722_R2003_067728\"\n",
      "[1] \"Skipping lines: 20\"\n"
     ]
    },
    {
     "name": "stderr",
     "output_type": "stream",
     "text": [
      "Warning message:\n",
      "“`read_table2()` was deprecated in readr 2.0.0.\n",
      "Please use `read_table()` instead.”\n",
      "\n",
      "\u001b[36m──\u001b[39m \u001b[1m\u001b[1mColumn specification\u001b[1m\u001b[22m \u001b[36m────────────────────────────────────────────────────────\u001b[39m\n",
      "cols(\n",
      "  .default = col_double()\n",
      ")\n",
      "\u001b[36mℹ\u001b[39m Use \u001b[30m\u001b[47m\u001b[30m\u001b[47m`spec()`\u001b[47m\u001b[30m\u001b[49m\u001b[39m for the full column specifications.\n",
      "\n",
      "\n"
     ]
    },
    {
     "name": "stdout",
     "output_type": "stream",
     "text": [
      "\u001b[90m# A tibble: 6 × 43\u001b[39m\n",
      "    LFID SHOTNUMBER   TIME  GLON  GLAT    ZG  HLON  HLAT    ZH  TLON  TLAT    ZT\n",
      "   \u001b[3m\u001b[90m<dbl>\u001b[39m\u001b[23m      \u001b[3m\u001b[90m<dbl>\u001b[39m\u001b[23m  \u001b[3m\u001b[90m<dbl>\u001b[39m\u001b[23m \u001b[3m\u001b[90m<dbl>\u001b[39m\u001b[23m \u001b[3m\u001b[90m<dbl>\u001b[39m\u001b[23m \u001b[3m\u001b[90m<dbl>\u001b[39m\u001b[23m \u001b[3m\u001b[90m<dbl>\u001b[39m\u001b[23m \u001b[3m\u001b[90m<dbl>\u001b[39m\u001b[23m \u001b[3m\u001b[90m<dbl>\u001b[39m\u001b[23m \u001b[3m\u001b[90m<dbl>\u001b[39m\u001b[23m \u001b[3m\u001b[90m<dbl>\u001b[39m\u001b[23m \u001b[3m\u001b[90m<dbl>\u001b[39m\u001b[23m\n",
      "\u001b[90m1\u001b[39m 1.96\u001b[90me\u001b[39m9   24\u001b[4m5\u001b[24m\u001b[4m2\u001b[24m\u001b[4m8\u001b[24m079 \u001b[4m6\u001b[24m\u001b[4m7\u001b[24m729.  211.  64.3  194.  211.  64.3  194.  211.  64.3  196.\n",
      "\u001b[90m2\u001b[39m 1.96\u001b[90me\u001b[39m9   24\u001b[4m5\u001b[24m\u001b[4m2\u001b[24m\u001b[4m8\u001b[24m080 \u001b[4m6\u001b[24m\u001b[4m7\u001b[24m729.  211.  64.3  194.  211.  64.3  194.  211.  64.3  196.\n",
      "\u001b[90m3\u001b[39m 1.96\u001b[90me\u001b[39m9   24\u001b[4m5\u001b[24m\u001b[4m2\u001b[24m\u001b[4m8\u001b[24m081 \u001b[4m6\u001b[24m\u001b[4m7\u001b[24m729.  211.  64.3  194.  211.  64.3  197.  211.  64.3  199.\n",
      "\u001b[90m4\u001b[39m 1.96\u001b[90me\u001b[39m9   24\u001b[4m5\u001b[24m\u001b[4m2\u001b[24m\u001b[4m8\u001b[24m082 \u001b[4m6\u001b[24m\u001b[4m7\u001b[24m729.  211.  64.3  194.  211.  64.3  196.  211.  64.3  198.\n",
      "\u001b[90m5\u001b[39m 1.96\u001b[90me\u001b[39m9   24\u001b[4m5\u001b[24m\u001b[4m2\u001b[24m\u001b[4m8\u001b[24m083 \u001b[4m6\u001b[24m\u001b[4m7\u001b[24m729.  211.  64.3  194.  211.  64.3  194.  211.  64.3  197.\n",
      "\u001b[90m6\u001b[39m 1.96\u001b[90me\u001b[39m9   24\u001b[4m5\u001b[24m\u001b[4m2\u001b[24m\u001b[4m8\u001b[24m084 \u001b[4m6\u001b[24m\u001b[4m7\u001b[24m729.  211.  64.3  198.  211.  64.3  198.  211.  64.3  200.\n",
      "\u001b[90m# … with 31 more variables: RH010 <dbl>, RH015 <dbl>, RH020 <dbl>, RH025 <dbl>,\u001b[39m\n",
      "\u001b[90m#   RH030 <dbl>, RH035 <dbl>, RH040 <dbl>, RH045 <dbl>, RH050 <dbl>,\u001b[39m\n",
      "\u001b[90m#   RH055 <dbl>, RH060 <dbl>, RH065 <dbl>, RH070 <dbl>, RH075 <dbl>,\u001b[39m\n",
      "\u001b[90m#   RH080 <dbl>, RH085 <dbl>, RH090 <dbl>, RH095 <dbl>, RH096 <dbl>,\u001b[39m\n",
      "\u001b[90m#   RH097 <dbl>, RH098 <dbl>, RH099 <dbl>, RH100 <dbl>, AZIMUTH <dbl>,\u001b[39m\n",
      "\u001b[90m#   INCIDENTANGLE <dbl>, RANGE <dbl>, COMPLEXITY <dbl>, SENSITIVITY <dbl>,\u001b[39m\n",
      "\u001b[90m#   CHANNEL_ZT <dbl>, CHANNEL_ZG <dbl>, CHANNEL_RH <dbl>\u001b[39m\n",
      "[1] \"No Overlapped Footprint\"\n",
      "[1] 15\n",
      "[1] \"Loading LVISF2_ABoVE2019_0722_R2003_067816\"\n",
      "[1] \"Skipping lines: 20\"\n"
     ]
    },
    {
     "name": "stderr",
     "output_type": "stream",
     "text": [
      "Warning message:\n",
      "“`read_table2()` was deprecated in readr 2.0.0.\n",
      "Please use `read_table()` instead.”\n",
      "\n",
      "\u001b[36m──\u001b[39m \u001b[1m\u001b[1mColumn specification\u001b[1m\u001b[22m \u001b[36m────────────────────────────────────────────────────────\u001b[39m\n",
      "cols(\n",
      "  .default = col_double()\n",
      ")\n",
      "\u001b[36mℹ\u001b[39m Use \u001b[30m\u001b[47m\u001b[30m\u001b[47m`spec()`\u001b[47m\u001b[30m\u001b[49m\u001b[39m for the full column specifications.\n",
      "\n",
      "\n"
     ]
    },
    {
     "name": "stdout",
     "output_type": "stream",
     "text": [
      "\u001b[90m# A tibble: 6 × 43\u001b[39m\n",
      "    LFID SHOTNUMBER   TIME  GLON  GLAT    ZG  HLON  HLAT    ZH  TLON  TLAT    ZT\n",
      "   \u001b[3m\u001b[90m<dbl>\u001b[39m\u001b[23m      \u001b[3m\u001b[90m<dbl>\u001b[39m\u001b[23m  \u001b[3m\u001b[90m<dbl>\u001b[39m\u001b[23m \u001b[3m\u001b[90m<dbl>\u001b[39m\u001b[23m \u001b[3m\u001b[90m<dbl>\u001b[39m\u001b[23m \u001b[3m\u001b[90m<dbl>\u001b[39m\u001b[23m \u001b[3m\u001b[90m<dbl>\u001b[39m\u001b[23m \u001b[3m\u001b[90m<dbl>\u001b[39m\u001b[23m \u001b[3m\u001b[90m<dbl>\u001b[39m\u001b[23m \u001b[3m\u001b[90m<dbl>\u001b[39m\u001b[23m \u001b[3m\u001b[90m<dbl>\u001b[39m\u001b[23m \u001b[3m\u001b[90m<dbl>\u001b[39m\u001b[23m\n",
      "\u001b[90m1\u001b[39m 1.96\u001b[90me\u001b[39m9   24\u001b[4m8\u001b[24m\u001b[4m7\u001b[24m\u001b[4m9\u001b[24m606 \u001b[4m6\u001b[24m\u001b[4m7\u001b[24m816.  211.  64.5  131.  211.  64.5  131.  211.  64.5  133.\n",
      "\u001b[90m2\u001b[39m 1.96\u001b[90me\u001b[39m9   24\u001b[4m8\u001b[24m\u001b[4m7\u001b[24m\u001b[4m9\u001b[24m607 \u001b[4m6\u001b[24m\u001b[4m7\u001b[24m816.  211.  64.5  131.  211.  64.5  131.  211.  64.5  133.\n",
      "\u001b[90m3\u001b[39m 1.96\u001b[90me\u001b[39m9   24\u001b[4m8\u001b[24m\u001b[4m7\u001b[24m\u001b[4m9\u001b[24m608 \u001b[4m6\u001b[24m\u001b[4m7\u001b[24m816.  211.  64.5  132.  211.  64.5  132.  211.  64.5  136.\n",
      "\u001b[90m4\u001b[39m 1.96\u001b[90me\u001b[39m9   24\u001b[4m8\u001b[24m\u001b[4m7\u001b[24m\u001b[4m9\u001b[24m609 \u001b[4m6\u001b[24m\u001b[4m7\u001b[24m816.  211.  64.5  131.  211.  64.5  138.  211.  64.5  139.\n",
      "\u001b[90m5\u001b[39m 1.96\u001b[90me\u001b[39m9   24\u001b[4m8\u001b[24m\u001b[4m7\u001b[24m\u001b[4m9\u001b[24m610 \u001b[4m6\u001b[24m\u001b[4m7\u001b[24m816.  211.  64.5  131.  211.  64.5  131.  211.  64.5  133.\n",
      "\u001b[90m6\u001b[39m 1.96\u001b[90me\u001b[39m9   24\u001b[4m8\u001b[24m\u001b[4m7\u001b[24m\u001b[4m9\u001b[24m611 \u001b[4m6\u001b[24m\u001b[4m7\u001b[24m816.  211.  64.5  132.  211.  64.5  132.  211.  64.5  137.\n",
      "\u001b[90m# … with 31 more variables: RH010 <dbl>, RH015 <dbl>, RH020 <dbl>, RH025 <dbl>,\u001b[39m\n",
      "\u001b[90m#   RH030 <dbl>, RH035 <dbl>, RH040 <dbl>, RH045 <dbl>, RH050 <dbl>,\u001b[39m\n",
      "\u001b[90m#   RH055 <dbl>, RH060 <dbl>, RH065 <dbl>, RH070 <dbl>, RH075 <dbl>,\u001b[39m\n",
      "\u001b[90m#   RH080 <dbl>, RH085 <dbl>, RH090 <dbl>, RH095 <dbl>, RH096 <dbl>,\u001b[39m\n",
      "\u001b[90m#   RH097 <dbl>, RH098 <dbl>, RH099 <dbl>, RH100 <dbl>, AZIMUTH <dbl>,\u001b[39m\n",
      "\u001b[90m#   INCIDENTANGLE <dbl>, RANGE <dbl>, COMPLEXITY <dbl>, SENSITIVITY <dbl>,\u001b[39m\n",
      "\u001b[90m#   CHANNEL_ZT <dbl>, CHANNEL_ZG <dbl>, CHANNEL_RH <dbl>\u001b[39m\n",
      "[1] \"No Overlapped Footprint\"\n",
      "[1] 16\n",
      "[1] \"Loading LVISF2_ABoVE2019_0722_R2003_067904\"\n",
      "[1] \"Skipping lines: 20\"\n"
     ]
    },
    {
     "name": "stderr",
     "output_type": "stream",
     "text": [
      "Warning message:\n",
      "“`read_table2()` was deprecated in readr 2.0.0.\n",
      "Please use `read_table()` instead.”\n",
      "\n",
      "\u001b[36m──\u001b[39m \u001b[1m\u001b[1mColumn specification\u001b[1m\u001b[22m \u001b[36m────────────────────────────────────────────────────────\u001b[39m\n",
      "cols(\n",
      "  .default = col_double()\n",
      ")\n",
      "\u001b[36mℹ\u001b[39m Use \u001b[30m\u001b[47m\u001b[30m\u001b[47m`spec()`\u001b[47m\u001b[30m\u001b[49m\u001b[39m for the full column specifications.\n",
      "\n",
      "\n"
     ]
    },
    {
     "name": "stdout",
     "output_type": "stream",
     "text": [
      "\u001b[90m# A tibble: 6 × 43\u001b[39m\n",
      "    LFID SHOTNUMBER   TIME  GLON  GLAT    ZG  HLON  HLAT    ZH  TLON  TLAT    ZT\n",
      "   \u001b[3m\u001b[90m<dbl>\u001b[39m\u001b[23m      \u001b[3m\u001b[90m<dbl>\u001b[39m\u001b[23m  \u001b[3m\u001b[90m<dbl>\u001b[39m\u001b[23m \u001b[3m\u001b[90m<dbl>\u001b[39m\u001b[23m \u001b[3m\u001b[90m<dbl>\u001b[39m\u001b[23m \u001b[3m\u001b[90m<dbl>\u001b[39m\u001b[23m \u001b[3m\u001b[90m<dbl>\u001b[39m\u001b[23m \u001b[3m\u001b[90m<dbl>\u001b[39m\u001b[23m \u001b[3m\u001b[90m<dbl>\u001b[39m\u001b[23m \u001b[3m\u001b[90m<dbl>\u001b[39m\u001b[23m \u001b[3m\u001b[90m<dbl>\u001b[39m\u001b[23m \u001b[3m\u001b[90m<dbl>\u001b[39m\u001b[23m\n",
      "\u001b[90m1\u001b[39m 1.96\u001b[90me\u001b[39m9   25\u001b[4m2\u001b[24m\u001b[4m3\u001b[24m\u001b[4m2\u001b[24m348 \u001b[4m6\u001b[24m\u001b[4m7\u001b[24m905.  211.  64.7  114.  211.  64.7  118.  211.  64.7  119.\n",
      "\u001b[90m2\u001b[39m 1.96\u001b[90me\u001b[39m9   25\u001b[4m2\u001b[24m\u001b[4m3\u001b[24m\u001b[4m2\u001b[24m349 \u001b[4m6\u001b[24m\u001b[4m7\u001b[24m905.  211.  64.7  114.  211.  64.7  114.  211.  64.7  117.\n",
      "\u001b[90m3\u001b[39m 1.96\u001b[90me\u001b[39m9   25\u001b[4m2\u001b[24m\u001b[4m3\u001b[24m\u001b[4m2\u001b[24m350 \u001b[4m6\u001b[24m\u001b[4m7\u001b[24m905.  211.  64.7  114   211.  64.7  114   211.  64.7  117.\n",
      "\u001b[90m4\u001b[39m 1.96\u001b[90me\u001b[39m9   25\u001b[4m2\u001b[24m\u001b[4m3\u001b[24m\u001b[4m2\u001b[24m351 \u001b[4m6\u001b[24m\u001b[4m7\u001b[24m905.  211.  64.7  114.  211.  64.7  114.  211.  64.7  120.\n",
      "\u001b[90m5\u001b[39m 1.96\u001b[90me\u001b[39m9   25\u001b[4m2\u001b[24m\u001b[4m3\u001b[24m\u001b[4m2\u001b[24m352 \u001b[4m6\u001b[24m\u001b[4m7\u001b[24m905.  211.  64.7  114.  211.  64.7  114.  211.  64.7  119.\n",
      "\u001b[90m6\u001b[39m 1.96\u001b[90me\u001b[39m9   25\u001b[4m2\u001b[24m\u001b[4m3\u001b[24m\u001b[4m2\u001b[24m353 \u001b[4m6\u001b[24m\u001b[4m7\u001b[24m905.  211.  64.7  114.  211.  64.7  114.  211.  64.7  117.\n",
      "\u001b[90m# … with 31 more variables: RH010 <dbl>, RH015 <dbl>, RH020 <dbl>, RH025 <dbl>,\u001b[39m\n",
      "\u001b[90m#   RH030 <dbl>, RH035 <dbl>, RH040 <dbl>, RH045 <dbl>, RH050 <dbl>,\u001b[39m\n",
      "\u001b[90m#   RH055 <dbl>, RH060 <dbl>, RH065 <dbl>, RH070 <dbl>, RH075 <dbl>,\u001b[39m\n",
      "\u001b[90m#   RH080 <dbl>, RH085 <dbl>, RH090 <dbl>, RH095 <dbl>, RH096 <dbl>,\u001b[39m\n",
      "\u001b[90m#   RH097 <dbl>, RH098 <dbl>, RH099 <dbl>, RH100 <dbl>, AZIMUTH <dbl>,\u001b[39m\n",
      "\u001b[90m#   INCIDENTANGLE <dbl>, RANGE <dbl>, COMPLEXITY <dbl>, SENSITIVITY <dbl>,\u001b[39m\n",
      "\u001b[90m#   CHANNEL_ZT <dbl>, CHANNEL_ZG <dbl>, CHANNEL_RH <dbl>\u001b[39m\n",
      "[1] 17\n",
      "[1] \"Loading LVISF2_ABoVE2019_0722_R2003_067994\"\n",
      "[1] \"Skipping lines: 20\"\n"
     ]
    },
    {
     "name": "stderr",
     "output_type": "stream",
     "text": [
      "Warning message:\n",
      "“`read_table2()` was deprecated in readr 2.0.0.\n",
      "Please use `read_table()` instead.”\n",
      "\n",
      "\u001b[36m──\u001b[39m \u001b[1m\u001b[1mColumn specification\u001b[1m\u001b[22m \u001b[36m────────────────────────────────────────────────────────\u001b[39m\n",
      "cols(\n",
      "  .default = col_double()\n",
      ")\n",
      "\u001b[36mℹ\u001b[39m Use \u001b[30m\u001b[47m\u001b[30m\u001b[47m`spec()`\u001b[47m\u001b[30m\u001b[49m\u001b[39m for the full column specifications.\n",
      "\n",
      "\n"
     ]
    },
    {
     "name": "stdout",
     "output_type": "stream",
     "text": [
      "\u001b[90m# A tibble: 6 × 43\u001b[39m\n",
      "    LFID SHOTNUMBER   TIME  GLON  GLAT    ZG  HLON  HLAT    ZH  TLON  TLAT    ZT\n",
      "   \u001b[3m\u001b[90m<dbl>\u001b[39m\u001b[23m      \u001b[3m\u001b[90m<dbl>\u001b[39m\u001b[23m  \u001b[3m\u001b[90m<dbl>\u001b[39m\u001b[23m \u001b[3m\u001b[90m<dbl>\u001b[39m\u001b[23m \u001b[3m\u001b[90m<dbl>\u001b[39m\u001b[23m \u001b[3m\u001b[90m<dbl>\u001b[39m\u001b[23m \u001b[3m\u001b[90m<dbl>\u001b[39m\u001b[23m \u001b[3m\u001b[90m<dbl>\u001b[39m\u001b[23m \u001b[3m\u001b[90m<dbl>\u001b[39m\u001b[23m \u001b[3m\u001b[90m<dbl>\u001b[39m\u001b[23m \u001b[3m\u001b[90m<dbl>\u001b[39m\u001b[23m \u001b[3m\u001b[90m<dbl>\u001b[39m\u001b[23m\n",
      "\u001b[90m1\u001b[39m 1.96\u001b[90me\u001b[39m9   25\u001b[4m5\u001b[24m\u001b[4m9\u001b[24m\u001b[4m0\u001b[24m846 \u001b[4m6\u001b[24m\u001b[4m7\u001b[24m994.  211.  64.9  108.  211.  64.9  115.  211.  64.9  117.\n",
      "\u001b[90m2\u001b[39m 1.96\u001b[90me\u001b[39m9   25\u001b[4m5\u001b[24m\u001b[4m9\u001b[24m\u001b[4m0\u001b[24m847 \u001b[4m6\u001b[24m\u001b[4m7\u001b[24m994.  211.  64.9  108.  211.  64.9  117.  211.  64.9  119.\n",
      "\u001b[90m3\u001b[39m 1.96\u001b[90me\u001b[39m9   25\u001b[4m5\u001b[24m\u001b[4m9\u001b[24m\u001b[4m0\u001b[24m848 \u001b[4m6\u001b[24m\u001b[4m7\u001b[24m994.  211.  64.9  109.  211.  64.9  114.  211.  64.9  116.\n",
      "\u001b[90m4\u001b[39m 1.96\u001b[90me\u001b[39m9   25\u001b[4m5\u001b[24m\u001b[4m9\u001b[24m\u001b[4m0\u001b[24m849 \u001b[4m6\u001b[24m\u001b[4m7\u001b[24m994.  211.  64.9  108.  211.  64.9  117.  211.  64.9  119.\n",
      "\u001b[90m5\u001b[39m 1.96\u001b[90me\u001b[39m9   25\u001b[4m5\u001b[24m\u001b[4m9\u001b[24m\u001b[4m0\u001b[24m850 \u001b[4m6\u001b[24m\u001b[4m7\u001b[24m994.  211.  64.9  108.  211.  64.9  108.  211.  64.9  112.\n",
      "\u001b[90m6\u001b[39m 1.96\u001b[90me\u001b[39m9   25\u001b[4m5\u001b[24m\u001b[4m9\u001b[24m\u001b[4m0\u001b[24m851 \u001b[4m6\u001b[24m\u001b[4m7\u001b[24m994.  211.  64.9  108.  211.  64.9  111.  211.  64.9  114.\n",
      "\u001b[90m# … with 31 more variables: RH010 <dbl>, RH015 <dbl>, RH020 <dbl>, RH025 <dbl>,\u001b[39m\n",
      "\u001b[90m#   RH030 <dbl>, RH035 <dbl>, RH040 <dbl>, RH045 <dbl>, RH050 <dbl>,\u001b[39m\n",
      "\u001b[90m#   RH055 <dbl>, RH060 <dbl>, RH065 <dbl>, RH070 <dbl>, RH075 <dbl>,\u001b[39m\n",
      "\u001b[90m#   RH080 <dbl>, RH085 <dbl>, RH090 <dbl>, RH095 <dbl>, RH096 <dbl>,\u001b[39m\n",
      "\u001b[90m#   RH097 <dbl>, RH098 <dbl>, RH099 <dbl>, RH100 <dbl>, AZIMUTH <dbl>,\u001b[39m\n",
      "\u001b[90m#   INCIDENTANGLE <dbl>, RANGE <dbl>, COMPLEXITY <dbl>, SENSITIVITY <dbl>,\u001b[39m\n",
      "\u001b[90m#   CHANNEL_ZT <dbl>, CHANNEL_ZG <dbl>, CHANNEL_RH <dbl>\u001b[39m\n",
      "[1] 18\n",
      "[1] \"Loading LVISF2_ABoVE2019_0722_R2003_068087\"\n",
      "[1] \"Skipping lines: 20\"\n"
     ]
    },
    {
     "name": "stderr",
     "output_type": "stream",
     "text": [
      "Warning message:\n",
      "“`read_table2()` was deprecated in readr 2.0.0.\n",
      "Please use `read_table()` instead.”\n",
      "\n",
      "\u001b[36m──\u001b[39m \u001b[1m\u001b[1mColumn specification\u001b[1m\u001b[22m \u001b[36m────────────────────────────────────────────────────────\u001b[39m\n",
      "cols(\n",
      "  .default = col_double()\n",
      ")\n",
      "\u001b[36mℹ\u001b[39m Use \u001b[30m\u001b[47m\u001b[30m\u001b[47m`spec()`\u001b[47m\u001b[30m\u001b[49m\u001b[39m for the full column specifications.\n",
      "\n",
      "\n"
     ]
    },
    {
     "name": "stdout",
     "output_type": "stream",
     "text": [
      "\u001b[90m# A tibble: 6 × 43\u001b[39m\n",
      "    LFID SHOTNUMBER   TIME  GLON  GLAT    ZG  HLON  HLAT    ZH  TLON  TLAT    ZT\n",
      "   \u001b[3m\u001b[90m<dbl>\u001b[39m\u001b[23m      \u001b[3m\u001b[90m<dbl>\u001b[39m\u001b[23m  \u001b[3m\u001b[90m<dbl>\u001b[39m\u001b[23m \u001b[3m\u001b[90m<dbl>\u001b[39m\u001b[23m \u001b[3m\u001b[90m<dbl>\u001b[39m\u001b[23m \u001b[3m\u001b[90m<dbl>\u001b[39m\u001b[23m \u001b[3m\u001b[90m<dbl>\u001b[39m\u001b[23m \u001b[3m\u001b[90m<dbl>\u001b[39m\u001b[23m \u001b[3m\u001b[90m<dbl>\u001b[39m\u001b[23m \u001b[3m\u001b[90m<dbl>\u001b[39m\u001b[23m \u001b[3m\u001b[90m<dbl>\u001b[39m\u001b[23m \u001b[3m\u001b[90m<dbl>\u001b[39m\u001b[23m\n",
      "\u001b[90m1\u001b[39m 1.96\u001b[90me\u001b[39m9   25\u001b[4m9\u001b[24m\u001b[4m6\u001b[24m\u001b[4m5\u001b[24m838 \u001b[4m6\u001b[24m\u001b[4m8\u001b[24m088.  211.  65.1  105.  211.  65.1  111.  211.  65.1  113.\n",
      "\u001b[90m2\u001b[39m 1.96\u001b[90me\u001b[39m9   25\u001b[4m9\u001b[24m\u001b[4m6\u001b[24m\u001b[4m5\u001b[24m839 \u001b[4m6\u001b[24m\u001b[4m8\u001b[24m088.  211.  65.1  105   211.  65.1  105   211.  65.1  107.\n",
      "\u001b[90m3\u001b[39m 1.96\u001b[90me\u001b[39m9   25\u001b[4m9\u001b[24m\u001b[4m6\u001b[24m\u001b[4m5\u001b[24m840 \u001b[4m6\u001b[24m\u001b[4m8\u001b[24m088.  211.  65.1  105.  211.  65.1  105.  211.  65.1  107.\n",
      "\u001b[90m4\u001b[39m 1.96\u001b[90me\u001b[39m9   25\u001b[4m9\u001b[24m\u001b[4m6\u001b[24m\u001b[4m5\u001b[24m841 \u001b[4m6\u001b[24m\u001b[4m8\u001b[24m088.  211.  65.1  105.  211.  65.1  105.  211.  65.1  108.\n",
      "\u001b[90m5\u001b[39m 1.96\u001b[90me\u001b[39m9   25\u001b[4m9\u001b[24m\u001b[4m6\u001b[24m\u001b[4m5\u001b[24m842 \u001b[4m6\u001b[24m\u001b[4m8\u001b[24m088.  211.  65.1  105.  211.  65.1  105.  211.  65.1  107.\n",
      "\u001b[90m6\u001b[39m 1.96\u001b[90me\u001b[39m9   25\u001b[4m9\u001b[24m\u001b[4m6\u001b[24m\u001b[4m5\u001b[24m843 \u001b[4m6\u001b[24m\u001b[4m8\u001b[24m088.  211.  65.1  105.  211.  65.1  105.  211.  65.1  107.\n",
      "\u001b[90m# … with 31 more variables: RH010 <dbl>, RH015 <dbl>, RH020 <dbl>, RH025 <dbl>,\u001b[39m\n",
      "\u001b[90m#   RH030 <dbl>, RH035 <dbl>, RH040 <dbl>, RH045 <dbl>, RH050 <dbl>,\u001b[39m\n",
      "\u001b[90m#   RH055 <dbl>, RH060 <dbl>, RH065 <dbl>, RH070 <dbl>, RH075 <dbl>,\u001b[39m\n",
      "\u001b[90m#   RH080 <dbl>, RH085 <dbl>, RH090 <dbl>, RH095 <dbl>, RH096 <dbl>,\u001b[39m\n",
      "\u001b[90m#   RH097 <dbl>, RH098 <dbl>, RH099 <dbl>, RH100 <dbl>, AZIMUTH <dbl>,\u001b[39m\n",
      "\u001b[90m#   INCIDENTANGLE <dbl>, RANGE <dbl>, COMPLEXITY <dbl>, SENSITIVITY <dbl>,\u001b[39m\n",
      "\u001b[90m#   CHANNEL_ZT <dbl>, CHANNEL_ZG <dbl>, CHANNEL_RH <dbl>\u001b[39m\n",
      "[1] 19\n",
      "[1] \"Loading LVISF2_ABoVE2019_0722_R2003_068178\"\n",
      "[1] \"Skipping lines: 20\"\n"
     ]
    },
    {
     "name": "stderr",
     "output_type": "stream",
     "text": [
      "Warning message:\n",
      "“`read_table2()` was deprecated in readr 2.0.0.\n",
      "Please use `read_table()` instead.”\n",
      "\n",
      "\u001b[36m──\u001b[39m \u001b[1m\u001b[1mColumn specification\u001b[1m\u001b[22m \u001b[36m────────────────────────────────────────────────────────\u001b[39m\n",
      "cols(\n",
      "  .default = col_double()\n",
      ")\n",
      "\u001b[36mℹ\u001b[39m Use \u001b[30m\u001b[47m\u001b[30m\u001b[47m`spec()`\u001b[47m\u001b[30m\u001b[49m\u001b[39m for the full column specifications.\n",
      "\n",
      "\n"
     ]
    },
    {
     "name": "stdout",
     "output_type": "stream",
     "text": [
      "\u001b[90m# A tibble: 6 × 43\u001b[39m\n",
      "    LFID SHOTNUMBER   TIME  GLON  GLAT    ZG  HLON  HLAT    ZH  TLON  TLAT    ZT\n",
      "   \u001b[3m\u001b[90m<dbl>\u001b[39m\u001b[23m      \u001b[3m\u001b[90m<dbl>\u001b[39m\u001b[23m  \u001b[3m\u001b[90m<dbl>\u001b[39m\u001b[23m \u001b[3m\u001b[90m<dbl>\u001b[39m\u001b[23m \u001b[3m\u001b[90m<dbl>\u001b[39m\u001b[23m \u001b[3m\u001b[90m<dbl>\u001b[39m\u001b[23m \u001b[3m\u001b[90m<dbl>\u001b[39m\u001b[23m \u001b[3m\u001b[90m<dbl>\u001b[39m\u001b[23m \u001b[3m\u001b[90m<dbl>\u001b[39m\u001b[23m \u001b[3m\u001b[90m<dbl>\u001b[39m\u001b[23m \u001b[3m\u001b[90m<dbl>\u001b[39m\u001b[23m \u001b[3m\u001b[90m<dbl>\u001b[39m\u001b[23m\n",
      "\u001b[90m1\u001b[39m 1.96\u001b[90me\u001b[39m9   26\u001b[4m3\u001b[24m\u001b[4m2\u001b[24m\u001b[4m7\u001b[24m599 \u001b[4m6\u001b[24m\u001b[4m8\u001b[24m178.  211.  65.3  519.  211.  65.3  521.  211.  65.3  524.\n",
      "\u001b[90m2\u001b[39m 1.96\u001b[90me\u001b[39m9   26\u001b[4m3\u001b[24m\u001b[4m2\u001b[24m\u001b[4m7\u001b[24m600 \u001b[4m6\u001b[24m\u001b[4m8\u001b[24m178.  211.  65.3  515.  211.  65.3  515.  211.  65.3  519.\n",
      "\u001b[90m3\u001b[39m 1.96\u001b[90me\u001b[39m9   26\u001b[4m3\u001b[24m\u001b[4m2\u001b[24m\u001b[4m7\u001b[24m601 \u001b[4m6\u001b[24m\u001b[4m8\u001b[24m178.  211.  65.3  516.  211.  65.3  516.  211.  65.3  521.\n",
      "\u001b[90m4\u001b[39m 1.96\u001b[90me\u001b[39m9   26\u001b[4m3\u001b[24m\u001b[4m2\u001b[24m\u001b[4m7\u001b[24m602 \u001b[4m6\u001b[24m\u001b[4m8\u001b[24m178.  211.  65.3  518.  211.  65.3  520.  211.  65.3  522.\n",
      "\u001b[90m5\u001b[39m 1.96\u001b[90me\u001b[39m9   26\u001b[4m3\u001b[24m\u001b[4m2\u001b[24m\u001b[4m7\u001b[24m603 \u001b[4m6\u001b[24m\u001b[4m8\u001b[24m178.  211.  65.3  515.  211.  65.3  515.  211.  65.3  520.\n",
      "\u001b[90m6\u001b[39m 1.96\u001b[90me\u001b[39m9   26\u001b[4m3\u001b[24m\u001b[4m2\u001b[24m\u001b[4m7\u001b[24m604 \u001b[4m6\u001b[24m\u001b[4m8\u001b[24m178.  211.  65.3  515.  211.  65.3  517.  211.  65.3  520.\n",
      "\u001b[90m# … with 31 more variables: RH010 <dbl>, RH015 <dbl>, RH020 <dbl>, RH025 <dbl>,\u001b[39m\n",
      "\u001b[90m#   RH030 <dbl>, RH035 <dbl>, RH040 <dbl>, RH045 <dbl>, RH050 <dbl>,\u001b[39m\n",
      "\u001b[90m#   RH055 <dbl>, RH060 <dbl>, RH065 <dbl>, RH070 <dbl>, RH075 <dbl>,\u001b[39m\n",
      "\u001b[90m#   RH080 <dbl>, RH085 <dbl>, RH090 <dbl>, RH095 <dbl>, RH096 <dbl>,\u001b[39m\n",
      "\u001b[90m#   RH097 <dbl>, RH098 <dbl>, RH099 <dbl>, RH100 <dbl>, AZIMUTH <dbl>,\u001b[39m\n",
      "\u001b[90m#   INCIDENTANGLE <dbl>, RANGE <dbl>, COMPLEXITY <dbl>, SENSITIVITY <dbl>,\u001b[39m\n",
      "\u001b[90m#   CHANNEL_ZT <dbl>, CHANNEL_ZG <dbl>, CHANNEL_RH <dbl>\u001b[39m\n",
      "[1] \"No Overlapped Footprint\"\n",
      "[1] 20\n",
      "[1] \"Loading LVISF2_ABoVE2019_0722_R2003_068265\"\n",
      "[1] \"Skipping lines: 20\"\n"
     ]
    },
    {
     "name": "stderr",
     "output_type": "stream",
     "text": [
      "Warning message:\n",
      "“`read_table2()` was deprecated in readr 2.0.0.\n",
      "Please use `read_table()` instead.”\n",
      "\n",
      "\u001b[36m──\u001b[39m \u001b[1m\u001b[1mColumn specification\u001b[1m\u001b[22m \u001b[36m────────────────────────────────────────────────────────\u001b[39m\n",
      "cols(\n",
      "  .default = col_double()\n",
      ")\n",
      "\u001b[36mℹ\u001b[39m Use \u001b[30m\u001b[47m\u001b[30m\u001b[47m`spec()`\u001b[47m\u001b[30m\u001b[49m\u001b[39m for the full column specifications.\n",
      "\n",
      "\n"
     ]
    },
    {
     "name": "stdout",
     "output_type": "stream",
     "text": [
      "\u001b[90m# A tibble: 6 × 43\u001b[39m\n",
      "    LFID SHOTNUMBER   TIME  GLON  GLAT    ZG  HLON  HLAT    ZH  TLON  TLAT    ZT\n",
      "   \u001b[3m\u001b[90m<dbl>\u001b[39m\u001b[23m      \u001b[3m\u001b[90m<dbl>\u001b[39m\u001b[23m  \u001b[3m\u001b[90m<dbl>\u001b[39m\u001b[23m \u001b[3m\u001b[90m<dbl>\u001b[39m\u001b[23m \u001b[3m\u001b[90m<dbl>\u001b[39m\u001b[23m \u001b[3m\u001b[90m<dbl>\u001b[39m\u001b[23m \u001b[3m\u001b[90m<dbl>\u001b[39m\u001b[23m \u001b[3m\u001b[90m<dbl>\u001b[39m\u001b[23m \u001b[3m\u001b[90m<dbl>\u001b[39m\u001b[23m \u001b[3m\u001b[90m<dbl>\u001b[39m\u001b[23m \u001b[3m\u001b[90m<dbl>\u001b[39m\u001b[23m \u001b[3m\u001b[90m<dbl>\u001b[39m\u001b[23m\n",
      "\u001b[90m1\u001b[39m 1.96\u001b[90me\u001b[39m9   26\u001b[4m6\u001b[24m\u001b[4m7\u001b[24m\u001b[4m7\u001b[24m618 \u001b[4m6\u001b[24m\u001b[4m8\u001b[24m266.  211.  65.4  440.  211.  65.4  440.  211.  65.4  442.\n",
      "\u001b[90m2\u001b[39m 1.96\u001b[90me\u001b[39m9   26\u001b[4m6\u001b[24m\u001b[4m7\u001b[24m\u001b[4m7\u001b[24m619 \u001b[4m6\u001b[24m\u001b[4m8\u001b[24m266.  211.  65.4  441.  211.  65.4  441.  211.  65.4  443.\n",
      "\u001b[90m3\u001b[39m 1.96\u001b[90me\u001b[39m9   26\u001b[4m6\u001b[24m\u001b[4m7\u001b[24m\u001b[4m7\u001b[24m620 \u001b[4m6\u001b[24m\u001b[4m8\u001b[24m266.  211.  65.4  440.  211.  65.4  440.  211.  65.4  442.\n",
      "\u001b[90m4\u001b[39m 1.96\u001b[90me\u001b[39m9   26\u001b[4m6\u001b[24m\u001b[4m7\u001b[24m\u001b[4m7\u001b[24m621 \u001b[4m6\u001b[24m\u001b[4m8\u001b[24m266.  211.  65.4  439.  211.  65.4  439.  211.  65.4  441.\n",
      "\u001b[90m5\u001b[39m 1.96\u001b[90me\u001b[39m9   26\u001b[4m6\u001b[24m\u001b[4m7\u001b[24m\u001b[4m7\u001b[24m622 \u001b[4m6\u001b[24m\u001b[4m8\u001b[24m266.  211.  65.4  440.  211.  65.4  440.  211.  65.4  442.\n",
      "\u001b[90m6\u001b[39m 1.96\u001b[90me\u001b[39m9   26\u001b[4m6\u001b[24m\u001b[4m7\u001b[24m\u001b[4m7\u001b[24m623 \u001b[4m6\u001b[24m\u001b[4m8\u001b[24m266.  211.  65.4  439.  211.  65.4  439.  211.  65.4  441.\n",
      "\u001b[90m# … with 31 more variables: RH010 <dbl>, RH015 <dbl>, RH020 <dbl>, RH025 <dbl>,\u001b[39m\n",
      "\u001b[90m#   RH030 <dbl>, RH035 <dbl>, RH040 <dbl>, RH045 <dbl>, RH050 <dbl>,\u001b[39m\n",
      "\u001b[90m#   RH055 <dbl>, RH060 <dbl>, RH065 <dbl>, RH070 <dbl>, RH075 <dbl>,\u001b[39m\n",
      "\u001b[90m#   RH080 <dbl>, RH085 <dbl>, RH090 <dbl>, RH095 <dbl>, RH096 <dbl>,\u001b[39m\n",
      "\u001b[90m#   RH097 <dbl>, RH098 <dbl>, RH099 <dbl>, RH100 <dbl>, AZIMUTH <dbl>,\u001b[39m\n",
      "\u001b[90m#   INCIDENTANGLE <dbl>, RANGE <dbl>, COMPLEXITY <dbl>, SENSITIVITY <dbl>,\u001b[39m\n",
      "\u001b[90m#   CHANNEL_ZT <dbl>, CHANNEL_ZG <dbl>, CHANNEL_RH <dbl>\u001b[39m\n",
      "[1] \"No Overlapped Footprint\"\n",
      "[1] 21\n",
      "[1] \"Loading LVISF2_ABoVE2019_0722_R2003_068353\"\n",
      "[1] \"Skipping lines: 20\"\n"
     ]
    },
    {
     "name": "stderr",
     "output_type": "stream",
     "text": [
      "Warning message:\n",
      "“`read_table2()` was deprecated in readr 2.0.0.\n",
      "Please use `read_table()` instead.”\n",
      "\n",
      "\u001b[36m──\u001b[39m \u001b[1m\u001b[1mColumn specification\u001b[1m\u001b[22m \u001b[36m────────────────────────────────────────────────────────\u001b[39m\n",
      "cols(\n",
      "  .default = col_double()\n",
      ")\n",
      "\u001b[36mℹ\u001b[39m Use \u001b[30m\u001b[47m\u001b[30m\u001b[47m`spec()`\u001b[47m\u001b[30m\u001b[49m\u001b[39m for the full column specifications.\n",
      "\n",
      "\n"
     ]
    },
    {
     "name": "stdout",
     "output_type": "stream",
     "text": [
      "\u001b[90m# A tibble: 6 × 43\u001b[39m\n",
      "    LFID SHOTNUMBER   TIME  GLON  GLAT    ZG  HLON  HLAT    ZH  TLON  TLAT    ZT\n",
      "   \u001b[3m\u001b[90m<dbl>\u001b[39m\u001b[23m      \u001b[3m\u001b[90m<dbl>\u001b[39m\u001b[23m  \u001b[3m\u001b[90m<dbl>\u001b[39m\u001b[23m \u001b[3m\u001b[90m<dbl>\u001b[39m\u001b[23m \u001b[3m\u001b[90m<dbl>\u001b[39m\u001b[23m \u001b[3m\u001b[90m<dbl>\u001b[39m\u001b[23m \u001b[3m\u001b[90m<dbl>\u001b[39m\u001b[23m \u001b[3m\u001b[90m<dbl>\u001b[39m\u001b[23m \u001b[3m\u001b[90m<dbl>\u001b[39m\u001b[23m \u001b[3m\u001b[90m<dbl>\u001b[39m\u001b[23m \u001b[3m\u001b[90m<dbl>\u001b[39m\u001b[23m \u001b[3m\u001b[90m<dbl>\u001b[39m\u001b[23m\n",
      "\u001b[90m1\u001b[39m 1.96\u001b[90me\u001b[39m9   27\u001b[4m0\u001b[24m\u001b[4m2\u001b[24m\u001b[4m7\u001b[24m925 \u001b[4m6\u001b[24m\u001b[4m8\u001b[24m353.  211.  65.6  359.  211.  65.6  359.  211.  65.6  362.\n",
      "\u001b[90m2\u001b[39m 1.96\u001b[90me\u001b[39m9   27\u001b[4m0\u001b[24m\u001b[4m2\u001b[24m\u001b[4m7\u001b[24m926 \u001b[4m6\u001b[24m\u001b[4m8\u001b[24m353.  211.  65.6  360.  211.  65.6  360.  211.  65.6  362.\n",
      "\u001b[90m3\u001b[39m 1.96\u001b[90me\u001b[39m9   27\u001b[4m0\u001b[24m\u001b[4m2\u001b[24m\u001b[4m7\u001b[24m927 \u001b[4m6\u001b[24m\u001b[4m8\u001b[24m353.  211.  65.6  359.  211.  65.6  359.  211.  65.6  362.\n",
      "\u001b[90m4\u001b[39m 1.96\u001b[90me\u001b[39m9   27\u001b[4m0\u001b[24m\u001b[4m2\u001b[24m\u001b[4m7\u001b[24m928 \u001b[4m6\u001b[24m\u001b[4m8\u001b[24m353.  211.  65.6  358.  211.  65.6  358.  211.  65.6  361.\n",
      "\u001b[90m5\u001b[39m 1.96\u001b[90me\u001b[39m9   27\u001b[4m0\u001b[24m\u001b[4m2\u001b[24m\u001b[4m7\u001b[24m929 \u001b[4m6\u001b[24m\u001b[4m8\u001b[24m353.  211.  65.6  359   211.  65.6  359   211.  65.6  361.\n",
      "\u001b[90m6\u001b[39m 1.96\u001b[90me\u001b[39m9   27\u001b[4m0\u001b[24m\u001b[4m2\u001b[24m\u001b[4m7\u001b[24m930 \u001b[4m6\u001b[24m\u001b[4m8\u001b[24m353.  211.  65.6  359.  211.  65.6  359.  211.  65.6  361.\n",
      "\u001b[90m# … with 31 more variables: RH010 <dbl>, RH015 <dbl>, RH020 <dbl>, RH025 <dbl>,\u001b[39m\n",
      "\u001b[90m#   RH030 <dbl>, RH035 <dbl>, RH040 <dbl>, RH045 <dbl>, RH050 <dbl>,\u001b[39m\n",
      "\u001b[90m#   RH055 <dbl>, RH060 <dbl>, RH065 <dbl>, RH070 <dbl>, RH075 <dbl>,\u001b[39m\n",
      "\u001b[90m#   RH080 <dbl>, RH085 <dbl>, RH090 <dbl>, RH095 <dbl>, RH096 <dbl>,\u001b[39m\n",
      "\u001b[90m#   RH097 <dbl>, RH098 <dbl>, RH099 <dbl>, RH100 <dbl>, AZIMUTH <dbl>,\u001b[39m\n",
      "\u001b[90m#   INCIDENTANGLE <dbl>, RANGE <dbl>, COMPLEXITY <dbl>, SENSITIVITY <dbl>,\u001b[39m\n",
      "\u001b[90m#   CHANNEL_ZT <dbl>, CHANNEL_ZG <dbl>, CHANNEL_RH <dbl>\u001b[39m\n",
      "[1] \"No Overlapped Footprint\"\n",
      "[1] 22\n",
      "[1] \"Loading LVISF2_ABoVE2019_0722_R2003_068441\"\n",
      "[1] \"Skipping lines: 20\"\n"
     ]
    },
    {
     "name": "stderr",
     "output_type": "stream",
     "text": [
      "Warning message:\n",
      "“`read_table2()` was deprecated in readr 2.0.0.\n",
      "Please use `read_table()` instead.”\n",
      "\n",
      "\u001b[36m──\u001b[39m \u001b[1m\u001b[1mColumn specification\u001b[1m\u001b[22m \u001b[36m────────────────────────────────────────────────────────\u001b[39m\n",
      "cols(\n",
      "  .default = col_double()\n",
      ")\n",
      "\u001b[36mℹ\u001b[39m Use \u001b[30m\u001b[47m\u001b[30m\u001b[47m`spec()`\u001b[47m\u001b[30m\u001b[49m\u001b[39m for the full column specifications.\n",
      "\n",
      "\n"
     ]
    },
    {
     "name": "stdout",
     "output_type": "stream",
     "text": [
      "\u001b[90m# A tibble: 6 × 43\u001b[39m\n",
      "    LFID SHOTNUMBER   TIME  GLON  GLAT    ZG  HLON  HLAT    ZH  TLON  TLAT    ZT\n",
      "   \u001b[3m\u001b[90m<dbl>\u001b[39m\u001b[23m      \u001b[3m\u001b[90m<dbl>\u001b[39m\u001b[23m  \u001b[3m\u001b[90m<dbl>\u001b[39m\u001b[23m \u001b[3m\u001b[90m<dbl>\u001b[39m\u001b[23m \u001b[3m\u001b[90m<dbl>\u001b[39m\u001b[23m \u001b[3m\u001b[90m<dbl>\u001b[39m\u001b[23m \u001b[3m\u001b[90m<dbl>\u001b[39m\u001b[23m \u001b[3m\u001b[90m<dbl>\u001b[39m\u001b[23m \u001b[3m\u001b[90m<dbl>\u001b[39m\u001b[23m \u001b[3m\u001b[90m<dbl>\u001b[39m\u001b[23m \u001b[3m\u001b[90m<dbl>\u001b[39m\u001b[23m \u001b[3m\u001b[90m<dbl>\u001b[39m\u001b[23m\n",
      "\u001b[90m1\u001b[39m 1.96\u001b[90me\u001b[39m9   27\u001b[4m3\u001b[24m\u001b[4m7\u001b[24m\u001b[4m8\u001b[24m417 \u001b[4m6\u001b[24m\u001b[4m8\u001b[24m441.  211.  65.8  413.  211.  65.8  413.  211.  65.8  416.\n",
      "\u001b[90m2\u001b[39m 1.96\u001b[90me\u001b[39m9   27\u001b[4m3\u001b[24m\u001b[4m7\u001b[24m\u001b[4m8\u001b[24m418 \u001b[4m6\u001b[24m\u001b[4m8\u001b[24m441.  211.  65.8  413.  211.  65.8  413.  211.  65.8  417.\n",
      "\u001b[90m3\u001b[39m 1.96\u001b[90me\u001b[39m9   27\u001b[4m3\u001b[24m\u001b[4m7\u001b[24m\u001b[4m8\u001b[24m419 \u001b[4m6\u001b[24m\u001b[4m8\u001b[24m441.  211.  65.8  412.  211.  65.8  412.  211.  65.8  414.\n",
      "\u001b[90m4\u001b[39m 1.96\u001b[90me\u001b[39m9   27\u001b[4m3\u001b[24m\u001b[4m7\u001b[24m\u001b[4m8\u001b[24m420 \u001b[4m6\u001b[24m\u001b[4m8\u001b[24m441.  211.  65.8  412.  211.  65.8  412.  211.  65.8  415.\n",
      "\u001b[90m5\u001b[39m 1.96\u001b[90me\u001b[39m9   27\u001b[4m3\u001b[24m\u001b[4m7\u001b[24m\u001b[4m8\u001b[24m421 \u001b[4m6\u001b[24m\u001b[4m8\u001b[24m441.  211.  65.8  413.  211.  65.8  413.  211.  65.8  416.\n",
      "\u001b[90m6\u001b[39m 1.96\u001b[90me\u001b[39m9   27\u001b[4m3\u001b[24m\u001b[4m7\u001b[24m\u001b[4m8\u001b[24m422 \u001b[4m6\u001b[24m\u001b[4m8\u001b[24m441.  211.  65.8  411.  211.  65.8  411.  211.  65.8  415.\n",
      "\u001b[90m# … with 31 more variables: RH010 <dbl>, RH015 <dbl>, RH020 <dbl>, RH025 <dbl>,\u001b[39m\n",
      "\u001b[90m#   RH030 <dbl>, RH035 <dbl>, RH040 <dbl>, RH045 <dbl>, RH050 <dbl>,\u001b[39m\n",
      "\u001b[90m#   RH055 <dbl>, RH060 <dbl>, RH065 <dbl>, RH070 <dbl>, RH075 <dbl>,\u001b[39m\n",
      "\u001b[90m#   RH080 <dbl>, RH085 <dbl>, RH090 <dbl>, RH095 <dbl>, RH096 <dbl>,\u001b[39m\n",
      "\u001b[90m#   RH097 <dbl>, RH098 <dbl>, RH099 <dbl>, RH100 <dbl>, AZIMUTH <dbl>,\u001b[39m\n",
      "\u001b[90m#   INCIDENTANGLE <dbl>, RANGE <dbl>, COMPLEXITY <dbl>, SENSITIVITY <dbl>,\u001b[39m\n",
      "\u001b[90m#   CHANNEL_ZT <dbl>, CHANNEL_ZG <dbl>, CHANNEL_RH <dbl>\u001b[39m\n",
      "[1] 23\n",
      "[1] \"Loading LVISF2_ABoVE2019_0722_R2003_068528\"\n",
      "[1] \"Skipping lines: 20\"\n"
     ]
    },
    {
     "name": "stderr",
     "output_type": "stream",
     "text": [
      "Warning message:\n",
      "“`read_table2()` was deprecated in readr 2.0.0.\n",
      "Please use `read_table()` instead.”\n",
      "\n",
      "\u001b[36m──\u001b[39m \u001b[1m\u001b[1mColumn specification\u001b[1m\u001b[22m \u001b[36m────────────────────────────────────────────────────────\u001b[39m\n",
      "cols(\n",
      "  .default = col_double()\n",
      ")\n",
      "\u001b[36mℹ\u001b[39m Use \u001b[30m\u001b[47m\u001b[30m\u001b[47m`spec()`\u001b[47m\u001b[30m\u001b[49m\u001b[39m for the full column specifications.\n",
      "\n",
      "\n"
     ]
    },
    {
     "name": "stdout",
     "output_type": "stream",
     "text": [
      "\u001b[90m# A tibble: 6 × 43\u001b[39m\n",
      "    LFID SHOTNUMBER   TIME  GLON  GLAT    ZG  HLON  HLAT    ZH  TLON  TLAT    ZT\n",
      "   \u001b[3m\u001b[90m<dbl>\u001b[39m\u001b[23m      \u001b[3m\u001b[90m<dbl>\u001b[39m\u001b[23m  \u001b[3m\u001b[90m<dbl>\u001b[39m\u001b[23m \u001b[3m\u001b[90m<dbl>\u001b[39m\u001b[23m \u001b[3m\u001b[90m<dbl>\u001b[39m\u001b[23m \u001b[3m\u001b[90m<dbl>\u001b[39m\u001b[23m \u001b[3m\u001b[90m<dbl>\u001b[39m\u001b[23m \u001b[3m\u001b[90m<dbl>\u001b[39m\u001b[23m \u001b[3m\u001b[90m<dbl>\u001b[39m\u001b[23m \u001b[3m\u001b[90m<dbl>\u001b[39m\u001b[23m \u001b[3m\u001b[90m<dbl>\u001b[39m\u001b[23m \u001b[3m\u001b[90m<dbl>\u001b[39m\u001b[23m\n",
      "\u001b[90m1\u001b[39m 1.96\u001b[90me\u001b[39m9   27\u001b[4m7\u001b[24m\u001b[4m2\u001b[24m\u001b[4m8\u001b[24m642 \u001b[4m6\u001b[24m\u001b[4m8\u001b[24m529.  211.  66.0  117.  211.  66.0  117.  211.  66.0  121.\n",
      "\u001b[90m2\u001b[39m 1.96\u001b[90me\u001b[39m9   27\u001b[4m7\u001b[24m\u001b[4m2\u001b[24m\u001b[4m8\u001b[24m643 \u001b[4m6\u001b[24m\u001b[4m8\u001b[24m529.  211.  66.0  117.  211.  66.0  117.  211.  66.0  120.\n",
      "\u001b[90m3\u001b[39m 1.96\u001b[90me\u001b[39m9   27\u001b[4m7\u001b[24m\u001b[4m2\u001b[24m\u001b[4m8\u001b[24m644 \u001b[4m6\u001b[24m\u001b[4m8\u001b[24m529.  211.  66.0  117.  211.  66.0  117.  211.  66.0  120.\n",
      "\u001b[90m4\u001b[39m 1.96\u001b[90me\u001b[39m9   27\u001b[4m7\u001b[24m\u001b[4m2\u001b[24m\u001b[4m8\u001b[24m645 \u001b[4m6\u001b[24m\u001b[4m8\u001b[24m529.  211.  66.0  117.  211.  66.0  117.  211.  66.0  121.\n",
      "\u001b[90m5\u001b[39m 1.96\u001b[90me\u001b[39m9   27\u001b[4m7\u001b[24m\u001b[4m2\u001b[24m\u001b[4m8\u001b[24m646 \u001b[4m6\u001b[24m\u001b[4m8\u001b[24m529.  211.  66.0  117.  211.  66.0  117.  211.  66.0  121.\n",
      "\u001b[90m6\u001b[39m 1.96\u001b[90me\u001b[39m9   27\u001b[4m7\u001b[24m\u001b[4m2\u001b[24m\u001b[4m8\u001b[24m647 \u001b[4m6\u001b[24m\u001b[4m8\u001b[24m529.  211.  66.0  117.  211.  66.0  117.  211.  66.0  121.\n",
      "\u001b[90m# … with 31 more variables: RH010 <dbl>, RH015 <dbl>, RH020 <dbl>, RH025 <dbl>,\u001b[39m\n",
      "\u001b[90m#   RH030 <dbl>, RH035 <dbl>, RH040 <dbl>, RH045 <dbl>, RH050 <dbl>,\u001b[39m\n",
      "\u001b[90m#   RH055 <dbl>, RH060 <dbl>, RH065 <dbl>, RH070 <dbl>, RH075 <dbl>,\u001b[39m\n",
      "\u001b[90m#   RH080 <dbl>, RH085 <dbl>, RH090 <dbl>, RH095 <dbl>, RH096 <dbl>,\u001b[39m\n",
      "\u001b[90m#   RH097 <dbl>, RH098 <dbl>, RH099 <dbl>, RH100 <dbl>, AZIMUTH <dbl>,\u001b[39m\n",
      "\u001b[90m#   INCIDENTANGLE <dbl>, RANGE <dbl>, COMPLEXITY <dbl>, SENSITIVITY <dbl>,\u001b[39m\n",
      "\u001b[90m#   CHANNEL_ZT <dbl>, CHANNEL_ZG <dbl>, CHANNEL_RH <dbl>\u001b[39m\n",
      "[1] 24\n",
      "[1] \"Loading LVISF2_ABoVE2019_0722_R2003_068616\"\n",
      "[1] \"Skipping lines: 20\"\n"
     ]
    },
    {
     "name": "stderr",
     "output_type": "stream",
     "text": [
      "Warning message:\n",
      "“`read_table2()` was deprecated in readr 2.0.0.\n",
      "Please use `read_table()` instead.”\n",
      "\n",
      "\u001b[36m──\u001b[39m \u001b[1m\u001b[1mColumn specification\u001b[1m\u001b[22m \u001b[36m────────────────────────────────────────────────────────\u001b[39m\n",
      "cols(\n",
      "  .default = col_double()\n",
      ")\n",
      "\u001b[36mℹ\u001b[39m Use \u001b[30m\u001b[47m\u001b[30m\u001b[47m`spec()`\u001b[47m\u001b[30m\u001b[49m\u001b[39m for the full column specifications.\n",
      "\n",
      "\n"
     ]
    },
    {
     "name": "stdout",
     "output_type": "stream",
     "text": [
      "\u001b[90m# A tibble: 6 × 43\u001b[39m\n",
      "    LFID SHOTNUMBER   TIME  GLON  GLAT    ZG  HLON  HLAT    ZH  TLON  TLAT    ZT\n",
      "   \u001b[3m\u001b[90m<dbl>\u001b[39m\u001b[23m      \u001b[3m\u001b[90m<dbl>\u001b[39m\u001b[23m  \u001b[3m\u001b[90m<dbl>\u001b[39m\u001b[23m \u001b[3m\u001b[90m<dbl>\u001b[39m\u001b[23m \u001b[3m\u001b[90m<dbl>\u001b[39m\u001b[23m \u001b[3m\u001b[90m<dbl>\u001b[39m\u001b[23m \u001b[3m\u001b[90m<dbl>\u001b[39m\u001b[23m \u001b[3m\u001b[90m<dbl>\u001b[39m\u001b[23m \u001b[3m\u001b[90m<dbl>\u001b[39m\u001b[23m \u001b[3m\u001b[90m<dbl>\u001b[39m\u001b[23m \u001b[3m\u001b[90m<dbl>\u001b[39m\u001b[23m \u001b[3m\u001b[90m<dbl>\u001b[39m\u001b[23m\n",
      "\u001b[90m1\u001b[39m 1.96\u001b[90me\u001b[39m9   28\u001b[4m0\u001b[24m\u001b[4m8\u001b[24m\u001b[4m0\u001b[24m719 \u001b[4m6\u001b[24m\u001b[4m8\u001b[24m617.  211.  66.2  106.  211.  66.2  106.  211.  66.2  109.\n",
      "\u001b[90m2\u001b[39m 1.96\u001b[90me\u001b[39m9   28\u001b[4m0\u001b[24m\u001b[4m8\u001b[24m\u001b[4m0\u001b[24m720 \u001b[4m6\u001b[24m\u001b[4m8\u001b[24m617.  211.  66.2  106.  211.  66.2  106.  211.  66.2  109.\n",
      "\u001b[90m3\u001b[39m 1.96\u001b[90me\u001b[39m9   28\u001b[4m0\u001b[24m\u001b[4m8\u001b[24m\u001b[4m0\u001b[24m721 \u001b[4m6\u001b[24m\u001b[4m8\u001b[24m617.  211.  66.2  106.  211.  66.2  106.  211.  66.2  109.\n",
      "\u001b[90m4\u001b[39m 1.96\u001b[90me\u001b[39m9   28\u001b[4m0\u001b[24m\u001b[4m8\u001b[24m\u001b[4m0\u001b[24m722 \u001b[4m6\u001b[24m\u001b[4m8\u001b[24m617.  211.  66.2  106.  211.  66.2  106.  211.  66.2  109.\n",
      "\u001b[90m5\u001b[39m 1.96\u001b[90me\u001b[39m9   28\u001b[4m0\u001b[24m\u001b[4m8\u001b[24m\u001b[4m0\u001b[24m723 \u001b[4m6\u001b[24m\u001b[4m8\u001b[24m617.  211.  66.2  106.  211.  66.2  106.  211.  66.2  109.\n",
      "\u001b[90m6\u001b[39m 1.96\u001b[90me\u001b[39m9   28\u001b[4m0\u001b[24m\u001b[4m8\u001b[24m\u001b[4m0\u001b[24m724 \u001b[4m6\u001b[24m\u001b[4m8\u001b[24m617.  211.  66.2  106.  211.  66.2  106.  211.  66.2  109.\n",
      "\u001b[90m# … with 31 more variables: RH010 <dbl>, RH015 <dbl>, RH020 <dbl>, RH025 <dbl>,\u001b[39m\n",
      "\u001b[90m#   RH030 <dbl>, RH035 <dbl>, RH040 <dbl>, RH045 <dbl>, RH050 <dbl>,\u001b[39m\n",
      "\u001b[90m#   RH055 <dbl>, RH060 <dbl>, RH065 <dbl>, RH070 <dbl>, RH075 <dbl>,\u001b[39m\n",
      "\u001b[90m#   RH080 <dbl>, RH085 <dbl>, RH090 <dbl>, RH095 <dbl>, RH096 <dbl>,\u001b[39m\n",
      "\u001b[90m#   RH097 <dbl>, RH098 <dbl>, RH099 <dbl>, RH100 <dbl>, AZIMUTH <dbl>,\u001b[39m\n",
      "\u001b[90m#   INCIDENTANGLE <dbl>, RANGE <dbl>, COMPLEXITY <dbl>, SENSITIVITY <dbl>,\u001b[39m\n",
      "\u001b[90m#   CHANNEL_ZT <dbl>, CHANNEL_ZG <dbl>, CHANNEL_RH <dbl>\u001b[39m\n",
      "[1] 25\n",
      "[1] \"Loading LVISF2_ABoVE2019_0722_R2003_068705\"\n",
      "[1] \"Skipping lines: 20\"\n"
     ]
    },
    {
     "name": "stderr",
     "output_type": "stream",
     "text": [
      "Warning message:\n",
      "“`read_table2()` was deprecated in readr 2.0.0.\n",
      "Please use `read_table()` instead.”\n",
      "\n",
      "\u001b[36m──\u001b[39m \u001b[1m\u001b[1mColumn specification\u001b[1m\u001b[22m \u001b[36m────────────────────────────────────────────────────────\u001b[39m\n",
      "cols(\n",
      "  .default = col_double()\n",
      ")\n",
      "\u001b[36mℹ\u001b[39m Use \u001b[30m\u001b[47m\u001b[30m\u001b[47m`spec()`\u001b[47m\u001b[30m\u001b[49m\u001b[39m for the full column specifications.\n",
      "\n",
      "\n"
     ]
    },
    {
     "name": "stdout",
     "output_type": "stream",
     "text": [
      "\u001b[90m# A tibble: 6 × 43\u001b[39m\n",
      "    LFID SHOTNUMBER   TIME  GLON  GLAT    ZG  HLON  HLAT    ZH  TLON  TLAT    ZT\n",
      "   \u001b[3m\u001b[90m<dbl>\u001b[39m\u001b[23m      \u001b[3m\u001b[90m<dbl>\u001b[39m\u001b[23m  \u001b[3m\u001b[90m<dbl>\u001b[39m\u001b[23m \u001b[3m\u001b[90m<dbl>\u001b[39m\u001b[23m \u001b[3m\u001b[90m<dbl>\u001b[39m\u001b[23m \u001b[3m\u001b[90m<dbl>\u001b[39m\u001b[23m \u001b[3m\u001b[90m<dbl>\u001b[39m\u001b[23m \u001b[3m\u001b[90m<dbl>\u001b[39m\u001b[23m \u001b[3m\u001b[90m<dbl>\u001b[39m\u001b[23m \u001b[3m\u001b[90m<dbl>\u001b[39m\u001b[23m \u001b[3m\u001b[90m<dbl>\u001b[39m\u001b[23m \u001b[3m\u001b[90m<dbl>\u001b[39m\u001b[23m\n",
      "\u001b[90m1\u001b[39m 1.96\u001b[90me\u001b[39m9   28\u001b[4m4\u001b[24m\u001b[4m3\u001b[24m\u001b[4m6\u001b[24m047 \u001b[4m6\u001b[24m\u001b[4m8\u001b[24m706.  211.  66.4  150.  211.  66.4  160.  211.  66.4  163.\n",
      "\u001b[90m2\u001b[39m 1.96\u001b[90me\u001b[39m9   28\u001b[4m4\u001b[24m\u001b[4m3\u001b[24m\u001b[4m6\u001b[24m048 \u001b[4m6\u001b[24m\u001b[4m8\u001b[24m706.  211.  66.4  149.  211.  66.4  159.  211.  66.4  162.\n",
      "\u001b[90m3\u001b[39m 1.96\u001b[90me\u001b[39m9   28\u001b[4m4\u001b[24m\u001b[4m3\u001b[24m\u001b[4m6\u001b[24m049 \u001b[4m6\u001b[24m\u001b[4m8\u001b[24m706.  211.  66.4  149.  211.  66.4  158.  211.  66.4  161.\n",
      "\u001b[90m4\u001b[39m 1.96\u001b[90me\u001b[39m9   28\u001b[4m4\u001b[24m\u001b[4m3\u001b[24m\u001b[4m6\u001b[24m050 \u001b[4m6\u001b[24m\u001b[4m8\u001b[24m706.  211.  66.4  150.  211.  66.4  159.  211.  66.4  163.\n",
      "\u001b[90m5\u001b[39m 1.96\u001b[90me\u001b[39m9   28\u001b[4m4\u001b[24m\u001b[4m3\u001b[24m\u001b[4m6\u001b[24m051 \u001b[4m6\u001b[24m\u001b[4m8\u001b[24m706.  211.  66.4  149.  211.  66.4  154.  211.  66.4  159.\n",
      "\u001b[90m6\u001b[39m 1.96\u001b[90me\u001b[39m9   28\u001b[4m4\u001b[24m\u001b[4m3\u001b[24m\u001b[4m6\u001b[24m052 \u001b[4m6\u001b[24m\u001b[4m8\u001b[24m706.  211.  66.4  149.  211.  66.4  165.  211.  66.4  167.\n",
      "\u001b[90m# … with 31 more variables: RH010 <dbl>, RH015 <dbl>, RH020 <dbl>, RH025 <dbl>,\u001b[39m\n",
      "\u001b[90m#   RH030 <dbl>, RH035 <dbl>, RH040 <dbl>, RH045 <dbl>, RH050 <dbl>,\u001b[39m\n",
      "\u001b[90m#   RH055 <dbl>, RH060 <dbl>, RH065 <dbl>, RH070 <dbl>, RH075 <dbl>,\u001b[39m\n",
      "\u001b[90m#   RH080 <dbl>, RH085 <dbl>, RH090 <dbl>, RH095 <dbl>, RH096 <dbl>,\u001b[39m\n",
      "\u001b[90m#   RH097 <dbl>, RH098 <dbl>, RH099 <dbl>, RH100 <dbl>, AZIMUTH <dbl>,\u001b[39m\n",
      "\u001b[90m#   INCIDENTANGLE <dbl>, RANGE <dbl>, COMPLEXITY <dbl>, SENSITIVITY <dbl>,\u001b[39m\n",
      "\u001b[90m#   CHANNEL_ZT <dbl>, CHANNEL_ZG <dbl>, CHANNEL_RH <dbl>\u001b[39m\n",
      "[1] 26\n",
      "[1] \"Loading LVISF2_ABoVE2019_0722_R2003_068793\"\n",
      "[1] \"Skipping lines: 20\"\n"
     ]
    },
    {
     "name": "stderr",
     "output_type": "stream",
     "text": [
      "Warning message:\n",
      "“`read_table2()` was deprecated in readr 2.0.0.\n",
      "Please use `read_table()` instead.”\n",
      "\n",
      "\u001b[36m──\u001b[39m \u001b[1m\u001b[1mColumn specification\u001b[1m\u001b[22m \u001b[36m────────────────────────────────────────────────────────\u001b[39m\n",
      "cols(\n",
      "  .default = col_double()\n",
      ")\n",
      "\u001b[36mℹ\u001b[39m Use \u001b[30m\u001b[47m\u001b[30m\u001b[47m`spec()`\u001b[47m\u001b[30m\u001b[49m\u001b[39m for the full column specifications.\n",
      "\n",
      "\n"
     ]
    },
    {
     "name": "stdout",
     "output_type": "stream",
     "text": [
      "\u001b[90m# A tibble: 6 × 43\u001b[39m\n",
      "    LFID SHOTNUMBER   TIME  GLON  GLAT    ZG  HLON  HLAT    ZH  TLON  TLAT    ZT\n",
      "   \u001b[3m\u001b[90m<dbl>\u001b[39m\u001b[23m      \u001b[3m\u001b[90m<dbl>\u001b[39m\u001b[23m  \u001b[3m\u001b[90m<dbl>\u001b[39m\u001b[23m \u001b[3m\u001b[90m<dbl>\u001b[39m\u001b[23m \u001b[3m\u001b[90m<dbl>\u001b[39m\u001b[23m \u001b[3m\u001b[90m<dbl>\u001b[39m\u001b[23m \u001b[3m\u001b[90m<dbl>\u001b[39m\u001b[23m \u001b[3m\u001b[90m<dbl>\u001b[39m\u001b[23m \u001b[3m\u001b[90m<dbl>\u001b[39m\u001b[23m \u001b[3m\u001b[90m<dbl>\u001b[39m\u001b[23m \u001b[3m\u001b[90m<dbl>\u001b[39m\u001b[23m \u001b[3m\u001b[90m<dbl>\u001b[39m\u001b[23m\n",
      "\u001b[90m1\u001b[39m 1.96\u001b[90me\u001b[39m9   28\u001b[4m7\u001b[24m\u001b[4m8\u001b[24m\u001b[4m6\u001b[24m225 \u001b[4m6\u001b[24m\u001b[4m8\u001b[24m793.  211.  66.6  346.  211.  66.6  349.  211.  66.6  354.\n",
      "\u001b[90m2\u001b[39m 1.96\u001b[90me\u001b[39m9   28\u001b[4m7\u001b[24m\u001b[4m8\u001b[24m\u001b[4m6\u001b[24m226 \u001b[4m6\u001b[24m\u001b[4m8\u001b[24m793.  211.  66.6  345.  211.  66.6  350.  211.  66.6  352.\n",
      "\u001b[90m3\u001b[39m 1.96\u001b[90me\u001b[39m9   28\u001b[4m7\u001b[24m\u001b[4m8\u001b[24m\u001b[4m6\u001b[24m227 \u001b[4m6\u001b[24m\u001b[4m8\u001b[24m793.  211.  66.6  345.  211.  66.6  350.  211.  66.6  353.\n",
      "\u001b[90m4\u001b[39m 1.96\u001b[90me\u001b[39m9   28\u001b[4m7\u001b[24m\u001b[4m8\u001b[24m\u001b[4m6\u001b[24m228 \u001b[4m6\u001b[24m\u001b[4m8\u001b[24m793.  211.  66.6  345.  211.  66.6  350.  211.  66.6  353.\n",
      "\u001b[90m5\u001b[39m 1.96\u001b[90me\u001b[39m9   28\u001b[4m7\u001b[24m\u001b[4m8\u001b[24m\u001b[4m6\u001b[24m229 \u001b[4m6\u001b[24m\u001b[4m8\u001b[24m793.  211.  66.6  345.  211.  66.6  350.  211.  66.6  353.\n",
      "\u001b[90m6\u001b[39m 1.96\u001b[90me\u001b[39m9   28\u001b[4m7\u001b[24m\u001b[4m8\u001b[24m\u001b[4m6\u001b[24m230 \u001b[4m6\u001b[24m\u001b[4m8\u001b[24m793.  211.  66.6  345.  211.  66.6  350.  211.  66.6  352.\n",
      "\u001b[90m# … with 31 more variables: RH010 <dbl>, RH015 <dbl>, RH020 <dbl>, RH025 <dbl>,\u001b[39m\n",
      "\u001b[90m#   RH030 <dbl>, RH035 <dbl>, RH040 <dbl>, RH045 <dbl>, RH050 <dbl>,\u001b[39m\n",
      "\u001b[90m#   RH055 <dbl>, RH060 <dbl>, RH065 <dbl>, RH070 <dbl>, RH075 <dbl>,\u001b[39m\n",
      "\u001b[90m#   RH080 <dbl>, RH085 <dbl>, RH090 <dbl>, RH095 <dbl>, RH096 <dbl>,\u001b[39m\n",
      "\u001b[90m#   RH097 <dbl>, RH098 <dbl>, RH099 <dbl>, RH100 <dbl>, AZIMUTH <dbl>,\u001b[39m\n",
      "\u001b[90m#   INCIDENTANGLE <dbl>, RANGE <dbl>, COMPLEXITY <dbl>, SENSITIVITY <dbl>,\u001b[39m\n",
      "\u001b[90m#   CHANNEL_ZT <dbl>, CHANNEL_ZG <dbl>, CHANNEL_RH <dbl>\u001b[39m\n",
      "[1] 27\n",
      "[1] \"Loading LVISF2_ABoVE2019_0722_R2003_068880\"\n",
      "[1] \"Skipping lines: 20\"\n"
     ]
    },
    {
     "name": "stderr",
     "output_type": "stream",
     "text": [
      "Warning message:\n",
      "“`read_table2()` was deprecated in readr 2.0.0.\n",
      "Please use `read_table()` instead.”\n",
      "\n",
      "\u001b[36m──\u001b[39m \u001b[1m\u001b[1mColumn specification\u001b[1m\u001b[22m \u001b[36m────────────────────────────────────────────────────────\u001b[39m\n",
      "cols(\n",
      "  .default = col_double()\n",
      ")\n",
      "\u001b[36mℹ\u001b[39m Use \u001b[30m\u001b[47m\u001b[30m\u001b[47m`spec()`\u001b[47m\u001b[30m\u001b[49m\u001b[39m for the full column specifications.\n",
      "\n",
      "\n"
     ]
    },
    {
     "name": "stdout",
     "output_type": "stream",
     "text": [
      "\u001b[90m# A tibble: 6 × 43\u001b[39m\n",
      "    LFID SHOTNUMBER   TIME  GLON  GLAT    ZG  HLON  HLAT    ZH  TLON  TLAT    ZT\n",
      "   \u001b[3m\u001b[90m<dbl>\u001b[39m\u001b[23m      \u001b[3m\u001b[90m<dbl>\u001b[39m\u001b[23m  \u001b[3m\u001b[90m<dbl>\u001b[39m\u001b[23m \u001b[3m\u001b[90m<dbl>\u001b[39m\u001b[23m \u001b[3m\u001b[90m<dbl>\u001b[39m\u001b[23m \u001b[3m\u001b[90m<dbl>\u001b[39m\u001b[23m \u001b[3m\u001b[90m<dbl>\u001b[39m\u001b[23m \u001b[3m\u001b[90m<dbl>\u001b[39m\u001b[23m \u001b[3m\u001b[90m<dbl>\u001b[39m\u001b[23m \u001b[3m\u001b[90m<dbl>\u001b[39m\u001b[23m \u001b[3m\u001b[90m<dbl>\u001b[39m\u001b[23m \u001b[3m\u001b[90m<dbl>\u001b[39m\u001b[23m\n",
      "\u001b[90m1\u001b[39m 1.96\u001b[90me\u001b[39m9   29\u001b[4m1\u001b[24m\u001b[4m3\u001b[24m\u001b[4m7\u001b[24m068 \u001b[4m6\u001b[24m\u001b[4m8\u001b[24m881.  212.  66.8  415.  212.  66.8  415.  212.  66.8  420.\n",
      "\u001b[90m2\u001b[39m 1.96\u001b[90me\u001b[39m9   29\u001b[4m1\u001b[24m\u001b[4m3\u001b[24m\u001b[4m7\u001b[24m069 \u001b[4m6\u001b[24m\u001b[4m8\u001b[24m881.  212.  66.8  417.  212.  66.8  420.  212.  66.8  421.\n",
      "\u001b[90m3\u001b[39m 1.96\u001b[90me\u001b[39m9   29\u001b[4m1\u001b[24m\u001b[4m3\u001b[24m\u001b[4m7\u001b[24m070 \u001b[4m6\u001b[24m\u001b[4m8\u001b[24m881.  212.  66.8  413.  212.  66.8  415.  212.  66.8  417.\n",
      "\u001b[90m4\u001b[39m 1.96\u001b[90me\u001b[39m9   29\u001b[4m1\u001b[24m\u001b[4m3\u001b[24m\u001b[4m7\u001b[24m071 \u001b[4m6\u001b[24m\u001b[4m8\u001b[24m881.  212.  66.8  415.  212.  66.8  415.  212.  66.8  419.\n",
      "\u001b[90m5\u001b[39m 1.96\u001b[90me\u001b[39m9   29\u001b[4m1\u001b[24m\u001b[4m3\u001b[24m\u001b[4m7\u001b[24m072 \u001b[4m6\u001b[24m\u001b[4m8\u001b[24m881.  212.  66.8  417.  212.  66.8  420.  212.  66.8  423.\n",
      "\u001b[90m6\u001b[39m 1.96\u001b[90me\u001b[39m9   29\u001b[4m1\u001b[24m\u001b[4m3\u001b[24m\u001b[4m7\u001b[24m073 \u001b[4m6\u001b[24m\u001b[4m8\u001b[24m881.  212.  66.8  412.  212.  66.8  418.  212.  66.8  419.\n",
      "\u001b[90m# … with 31 more variables: RH010 <dbl>, RH015 <dbl>, RH020 <dbl>, RH025 <dbl>,\u001b[39m\n",
      "\u001b[90m#   RH030 <dbl>, RH035 <dbl>, RH040 <dbl>, RH045 <dbl>, RH050 <dbl>,\u001b[39m\n",
      "\u001b[90m#   RH055 <dbl>, RH060 <dbl>, RH065 <dbl>, RH070 <dbl>, RH075 <dbl>,\u001b[39m\n",
      "\u001b[90m#   RH080 <dbl>, RH085 <dbl>, RH090 <dbl>, RH095 <dbl>, RH096 <dbl>,\u001b[39m\n",
      "\u001b[90m#   RH097 <dbl>, RH098 <dbl>, RH099 <dbl>, RH100 <dbl>, AZIMUTH <dbl>,\u001b[39m\n",
      "\u001b[90m#   INCIDENTANGLE <dbl>, RANGE <dbl>, COMPLEXITY <dbl>, SENSITIVITY <dbl>,\u001b[39m\n",
      "\u001b[90m#   CHANNEL_ZT <dbl>, CHANNEL_ZG <dbl>, CHANNEL_RH <dbl>\u001b[39m\n",
      "[1] 28\n",
      "[1] \"Loading LVISF2_ABoVE2019_0722_R2003_068968\"\n",
      "[1] \"Skipping lines: 20\"\n"
     ]
    },
    {
     "name": "stderr",
     "output_type": "stream",
     "text": [
      "Warning message:\n",
      "“`read_table2()` was deprecated in readr 2.0.0.\n",
      "Please use `read_table()` instead.”\n",
      "\n",
      "\u001b[36m──\u001b[39m \u001b[1m\u001b[1mColumn specification\u001b[1m\u001b[22m \u001b[36m────────────────────────────────────────────────────────\u001b[39m\n",
      "cols(\n",
      "  .default = col_double()\n",
      ")\n",
      "\u001b[36mℹ\u001b[39m Use \u001b[30m\u001b[47m\u001b[30m\u001b[47m`spec()`\u001b[47m\u001b[30m\u001b[49m\u001b[39m for the full column specifications.\n",
      "\n",
      "\n"
     ]
    },
    {
     "name": "stdout",
     "output_type": "stream",
     "text": [
      "\u001b[90m# A tibble: 6 × 43\u001b[39m\n",
      "    LFID SHOTNUMBER   TIME  GLON  GLAT    ZG  HLON  HLAT    ZH  TLON  TLAT    ZT\n",
      "   \u001b[3m\u001b[90m<dbl>\u001b[39m\u001b[23m      \u001b[3m\u001b[90m<dbl>\u001b[39m\u001b[23m  \u001b[3m\u001b[90m<dbl>\u001b[39m\u001b[23m \u001b[3m\u001b[90m<dbl>\u001b[39m\u001b[23m \u001b[3m\u001b[90m<dbl>\u001b[39m\u001b[23m \u001b[3m\u001b[90m<dbl>\u001b[39m\u001b[23m \u001b[3m\u001b[90m<dbl>\u001b[39m\u001b[23m \u001b[3m\u001b[90m<dbl>\u001b[39m\u001b[23m \u001b[3m\u001b[90m<dbl>\u001b[39m\u001b[23m \u001b[3m\u001b[90m<dbl>\u001b[39m\u001b[23m \u001b[3m\u001b[90m<dbl>\u001b[39m\u001b[23m \u001b[3m\u001b[90m<dbl>\u001b[39m\u001b[23m\n",
      "\u001b[90m1\u001b[39m 1.96\u001b[90me\u001b[39m9   29\u001b[4m4\u001b[24m\u001b[4m8\u001b[24m\u001b[4m7\u001b[24m139 \u001b[4m6\u001b[24m\u001b[4m8\u001b[24m968.  212.  67.0  540.  212.  67.0  540.  212.  67.0  544.\n",
      "\u001b[90m2\u001b[39m 1.96\u001b[90me\u001b[39m9   29\u001b[4m4\u001b[24m\u001b[4m8\u001b[24m\u001b[4m7\u001b[24m140 \u001b[4m6\u001b[24m\u001b[4m8\u001b[24m968.  212.  67.0  538.  212.  67.0  538.  212.  67.0  540.\n",
      "\u001b[90m3\u001b[39m 1.96\u001b[90me\u001b[39m9   29\u001b[4m4\u001b[24m\u001b[4m8\u001b[24m\u001b[4m7\u001b[24m141 \u001b[4m6\u001b[24m\u001b[4m8\u001b[24m968.  212.  67.0  539.  212.  67.0  539.  212.  67.0  541.\n",
      "\u001b[90m4\u001b[39m 1.96\u001b[90me\u001b[39m9   29\u001b[4m4\u001b[24m\u001b[4m8\u001b[24m\u001b[4m7\u001b[24m142 \u001b[4m6\u001b[24m\u001b[4m8\u001b[24m968.  212.  67.0  540.  212.  67.0  540.  212.  67.0  544.\n",
      "\u001b[90m5\u001b[39m 1.96\u001b[90me\u001b[39m9   29\u001b[4m4\u001b[24m\u001b[4m8\u001b[24m\u001b[4m7\u001b[24m143 \u001b[4m6\u001b[24m\u001b[4m8\u001b[24m968.  212.  67.0  538.  212.  67.0  538.  212.  67.0  540.\n",
      "\u001b[90m6\u001b[39m 1.96\u001b[90me\u001b[39m9   29\u001b[4m4\u001b[24m\u001b[4m8\u001b[24m\u001b[4m7\u001b[24m144 \u001b[4m6\u001b[24m\u001b[4m8\u001b[24m968.  212.  67.0  538.  212.  67.0  540.  212.  67.0  542.\n",
      "\u001b[90m# … with 31 more variables: RH010 <dbl>, RH015 <dbl>, RH020 <dbl>, RH025 <dbl>,\u001b[39m\n",
      "\u001b[90m#   RH030 <dbl>, RH035 <dbl>, RH040 <dbl>, RH045 <dbl>, RH050 <dbl>,\u001b[39m\n",
      "\u001b[90m#   RH055 <dbl>, RH060 <dbl>, RH065 <dbl>, RH070 <dbl>, RH075 <dbl>,\u001b[39m\n",
      "\u001b[90m#   RH080 <dbl>, RH085 <dbl>, RH090 <dbl>, RH095 <dbl>, RH096 <dbl>,\u001b[39m\n",
      "\u001b[90m#   RH097 <dbl>, RH098 <dbl>, RH099 <dbl>, RH100 <dbl>, AZIMUTH <dbl>,\u001b[39m\n",
      "\u001b[90m#   INCIDENTANGLE <dbl>, RANGE <dbl>, COMPLEXITY <dbl>, SENSITIVITY <dbl>,\u001b[39m\n",
      "\u001b[90m#   CHANNEL_ZT <dbl>, CHANNEL_ZG <dbl>, CHANNEL_RH <dbl>\u001b[39m\n",
      "[1] \"No Overlapped Footprint\"\n",
      "[1] 29\n",
      "[1] \"Loading LVISF2_ABoVE2019_0722_R2003_069055\"\n",
      "[1] \"Skipping lines: 20\"\n"
     ]
    },
    {
     "name": "stderr",
     "output_type": "stream",
     "text": [
      "Warning message:\n",
      "“`read_table2()` was deprecated in readr 2.0.0.\n",
      "Please use `read_table()` instead.”\n",
      "\n",
      "\u001b[36m──\u001b[39m \u001b[1m\u001b[1mColumn specification\u001b[1m\u001b[22m \u001b[36m────────────────────────────────────────────────────────\u001b[39m\n",
      "cols(\n",
      "  .default = col_double()\n",
      ")\n",
      "\u001b[36mℹ\u001b[39m Use \u001b[30m\u001b[47m\u001b[30m\u001b[47m`spec()`\u001b[47m\u001b[30m\u001b[49m\u001b[39m for the full column specifications.\n",
      "\n",
      "\n"
     ]
    },
    {
     "name": "stdout",
     "output_type": "stream",
     "text": [
      "\u001b[90m# A tibble: 6 × 43\u001b[39m\n",
      "    LFID SHOTNUMBER   TIME  GLON  GLAT    ZG  HLON  HLAT    ZH  TLON  TLAT    ZT\n",
      "   \u001b[3m\u001b[90m<dbl>\u001b[39m\u001b[23m      \u001b[3m\u001b[90m<dbl>\u001b[39m\u001b[23m  \u001b[3m\u001b[90m<dbl>\u001b[39m\u001b[23m \u001b[3m\u001b[90m<dbl>\u001b[39m\u001b[23m \u001b[3m\u001b[90m<dbl>\u001b[39m\u001b[23m \u001b[3m\u001b[90m<dbl>\u001b[39m\u001b[23m \u001b[3m\u001b[90m<dbl>\u001b[39m\u001b[23m \u001b[3m\u001b[90m<dbl>\u001b[39m\u001b[23m \u001b[3m\u001b[90m<dbl>\u001b[39m\u001b[23m \u001b[3m\u001b[90m<dbl>\u001b[39m\u001b[23m \u001b[3m\u001b[90m<dbl>\u001b[39m\u001b[23m \u001b[3m\u001b[90m<dbl>\u001b[39m\u001b[23m\n",
      "\u001b[90m1\u001b[39m 1.96\u001b[90me\u001b[39m9   29\u001b[4m8\u001b[24m\u001b[4m3\u001b[24m\u001b[4m7\u001b[24m150 \u001b[4m6\u001b[24m\u001b[4m9\u001b[24m056.  212.  67.1  600.  212.  67.1  604.  212.  67.1  606.\n",
      "\u001b[90m2\u001b[39m 1.96\u001b[90me\u001b[39m9   29\u001b[4m8\u001b[24m\u001b[4m3\u001b[24m\u001b[4m7\u001b[24m151 \u001b[4m6\u001b[24m\u001b[4m9\u001b[24m056.  212.  67.1  601.  212.  67.1  605.  212.  67.1  607.\n",
      "\u001b[90m3\u001b[39m 1.96\u001b[90me\u001b[39m9   29\u001b[4m8\u001b[24m\u001b[4m3\u001b[24m\u001b[4m7\u001b[24m152 \u001b[4m6\u001b[24m\u001b[4m9\u001b[24m056.  212.  67.1  601.  212.  67.1  601.  212.  67.1  606.\n",
      "\u001b[90m4\u001b[39m 1.96\u001b[90me\u001b[39m9   29\u001b[4m8\u001b[24m\u001b[4m3\u001b[24m\u001b[4m7\u001b[24m153 \u001b[4m6\u001b[24m\u001b[4m9\u001b[24m056.  212.  67.1  603.  212.  67.1  609.  212.  67.1  610.\n",
      "\u001b[90m5\u001b[39m 1.96\u001b[90me\u001b[39m9   29\u001b[4m8\u001b[24m\u001b[4m3\u001b[24m\u001b[4m7\u001b[24m154 \u001b[4m6\u001b[24m\u001b[4m9\u001b[24m056.  212.  67.1  603.  212.  67.1  603.  212.  67.1  608.\n",
      "\u001b[90m6\u001b[39m 1.96\u001b[90me\u001b[39m9   29\u001b[4m8\u001b[24m\u001b[4m3\u001b[24m\u001b[4m7\u001b[24m155 \u001b[4m6\u001b[24m\u001b[4m9\u001b[24m056.  212.  67.1  604.  212.  67.1  607.  212.  67.1  609.\n",
      "\u001b[90m# … with 31 more variables: RH010 <dbl>, RH015 <dbl>, RH020 <dbl>, RH025 <dbl>,\u001b[39m\n",
      "\u001b[90m#   RH030 <dbl>, RH035 <dbl>, RH040 <dbl>, RH045 <dbl>, RH050 <dbl>,\u001b[39m\n",
      "\u001b[90m#   RH055 <dbl>, RH060 <dbl>, RH065 <dbl>, RH070 <dbl>, RH075 <dbl>,\u001b[39m\n",
      "\u001b[90m#   RH080 <dbl>, RH085 <dbl>, RH090 <dbl>, RH095 <dbl>, RH096 <dbl>,\u001b[39m\n",
      "\u001b[90m#   RH097 <dbl>, RH098 <dbl>, RH099 <dbl>, RH100 <dbl>, AZIMUTH <dbl>,\u001b[39m\n",
      "\u001b[90m#   INCIDENTANGLE <dbl>, RANGE <dbl>, COMPLEXITY <dbl>, SENSITIVITY <dbl>,\u001b[39m\n",
      "\u001b[90m#   CHANNEL_ZT <dbl>, CHANNEL_ZG <dbl>, CHANNEL_RH <dbl>\u001b[39m\n",
      "[1] \"No Overlapped Footprint\"\n",
      "[1] 30\n",
      "[1] \"Loading LVISF2_ABoVE2019_0722_R2003_069143\"\n",
      "[1] \"Skipping lines: 20\"\n"
     ]
    },
    {
     "name": "stderr",
     "output_type": "stream",
     "text": [
      "Warning message:\n",
      "“`read_table2()` was deprecated in readr 2.0.0.\n",
      "Please use `read_table()` instead.”\n",
      "\n",
      "\u001b[36m──\u001b[39m \u001b[1m\u001b[1mColumn specification\u001b[1m\u001b[22m \u001b[36m────────────────────────────────────────────────────────\u001b[39m\n",
      "cols(\n",
      "  .default = col_double()\n",
      ")\n",
      "\u001b[36mℹ\u001b[39m Use \u001b[30m\u001b[47m\u001b[30m\u001b[47m`spec()`\u001b[47m\u001b[30m\u001b[49m\u001b[39m for the full column specifications.\n",
      "\n",
      "\n"
     ]
    },
    {
     "name": "stdout",
     "output_type": "stream",
     "text": [
      "\u001b[90m# A tibble: 6 × 43\u001b[39m\n",
      "    LFID SHOTNUMBER   TIME  GLON  GLAT    ZG  HLON  HLAT    ZH  TLON  TLAT    ZT\n",
      "   \u001b[3m\u001b[90m<dbl>\u001b[39m\u001b[23m      \u001b[3m\u001b[90m<dbl>\u001b[39m\u001b[23m  \u001b[3m\u001b[90m<dbl>\u001b[39m\u001b[23m \u001b[3m\u001b[90m<dbl>\u001b[39m\u001b[23m \u001b[3m\u001b[90m<dbl>\u001b[39m\u001b[23m \u001b[3m\u001b[90m<dbl>\u001b[39m\u001b[23m \u001b[3m\u001b[90m<dbl>\u001b[39m\u001b[23m \u001b[3m\u001b[90m<dbl>\u001b[39m\u001b[23m \u001b[3m\u001b[90m<dbl>\u001b[39m\u001b[23m \u001b[3m\u001b[90m<dbl>\u001b[39m\u001b[23m \u001b[3m\u001b[90m<dbl>\u001b[39m\u001b[23m \u001b[3m\u001b[90m<dbl>\u001b[39m\u001b[23m\n",
      "\u001b[90m1\u001b[39m 1.96\u001b[90me\u001b[39m9   30\u001b[4m1\u001b[24m\u001b[4m8\u001b[24m\u001b[4m8\u001b[24m817 \u001b[4m6\u001b[24m\u001b[4m9\u001b[24m144.  212.  67.3  979.  212.  67.3  979.  212.  67.3  982.\n",
      "\u001b[90m2\u001b[39m 1.96\u001b[90me\u001b[39m9   30\u001b[4m1\u001b[24m\u001b[4m8\u001b[24m\u001b[4m8\u001b[24m818 \u001b[4m6\u001b[24m\u001b[4m9\u001b[24m144.  212.  67.3  978.  212.  67.3  978.  212.  67.3  981.\n",
      "\u001b[90m3\u001b[39m 1.96\u001b[90me\u001b[39m9   30\u001b[4m1\u001b[24m\u001b[4m8\u001b[24m\u001b[4m8\u001b[24m819 \u001b[4m6\u001b[24m\u001b[4m9\u001b[24m144.  212.  67.3  984.  212.  67.3  984.  212.  67.3  988.\n",
      "\u001b[90m4\u001b[39m 1.96\u001b[90me\u001b[39m9   30\u001b[4m1\u001b[24m\u001b[4m8\u001b[24m\u001b[4m8\u001b[24m820 \u001b[4m6\u001b[24m\u001b[4m9\u001b[24m144.  212.  67.3  983.  212.  67.3  983.  212.  67.3  986.\n",
      "\u001b[90m5\u001b[39m 1.96\u001b[90me\u001b[39m9   30\u001b[4m1\u001b[24m\u001b[4m8\u001b[24m\u001b[4m8\u001b[24m821 \u001b[4m6\u001b[24m\u001b[4m9\u001b[24m144.  212.  67.3  981.  212.  67.3  981.  212.  67.3  984.\n",
      "\u001b[90m6\u001b[39m 1.96\u001b[90me\u001b[39m9   30\u001b[4m1\u001b[24m\u001b[4m8\u001b[24m\u001b[4m8\u001b[24m822 \u001b[4m6\u001b[24m\u001b[4m9\u001b[24m144.  212.  67.3  988.  212.  67.3  988.  212.  67.3  991.\n",
      "\u001b[90m# … with 31 more variables: RH010 <dbl>, RH015 <dbl>, RH020 <dbl>, RH025 <dbl>,\u001b[39m\n",
      "\u001b[90m#   RH030 <dbl>, RH035 <dbl>, RH040 <dbl>, RH045 <dbl>, RH050 <dbl>,\u001b[39m\n",
      "\u001b[90m#   RH055 <dbl>, RH060 <dbl>, RH065 <dbl>, RH070 <dbl>, RH075 <dbl>,\u001b[39m\n",
      "\u001b[90m#   RH080 <dbl>, RH085 <dbl>, RH090 <dbl>, RH095 <dbl>, RH096 <dbl>,\u001b[39m\n",
      "\u001b[90m#   RH097 <dbl>, RH098 <dbl>, RH099 <dbl>, RH100 <dbl>, AZIMUTH <dbl>,\u001b[39m\n",
      "\u001b[90m#   INCIDENTANGLE <dbl>, RANGE <dbl>, COMPLEXITY <dbl>, SENSITIVITY <dbl>,\u001b[39m\n",
      "\u001b[90m#   CHANNEL_ZT <dbl>, CHANNEL_ZG <dbl>, CHANNEL_RH <dbl>\u001b[39m\n",
      "[1] \"No Overlapped Footprint\"\n",
      "[1] 31\n",
      "[1] \"Loading LVISF2_ABoVE2019_0722_R2003_069231\"\n",
      "[1] \"Skipping lines: 20\"\n"
     ]
    },
    {
     "name": "stderr",
     "output_type": "stream",
     "text": [
      "Warning message:\n",
      "“`read_table2()` was deprecated in readr 2.0.0.\n",
      "Please use `read_table()` instead.”\n",
      "\n",
      "\u001b[36m──\u001b[39m \u001b[1m\u001b[1mColumn specification\u001b[1m\u001b[22m \u001b[36m────────────────────────────────────────────────────────\u001b[39m\n",
      "cols(\n",
      "  .default = col_double()\n",
      ")\n",
      "\u001b[36mℹ\u001b[39m Use \u001b[30m\u001b[47m\u001b[30m\u001b[47m`spec()`\u001b[47m\u001b[30m\u001b[49m\u001b[39m for the full column specifications.\n",
      "\n",
      "\n"
     ]
    },
    {
     "name": "stdout",
     "output_type": "stream",
     "text": [
      "\u001b[90m# A tibble: 6 × 43\u001b[39m\n",
      "    LFID SHOTNUMBER   TIME  GLON  GLAT    ZG  HLON  HLAT    ZH  TLON  TLAT    ZT\n",
      "   \u001b[3m\u001b[90m<dbl>\u001b[39m\u001b[23m      \u001b[3m\u001b[90m<dbl>\u001b[39m\u001b[23m  \u001b[3m\u001b[90m<dbl>\u001b[39m\u001b[23m \u001b[3m\u001b[90m<dbl>\u001b[39m\u001b[23m \u001b[3m\u001b[90m<dbl>\u001b[39m\u001b[23m \u001b[3m\u001b[90m<dbl>\u001b[39m\u001b[23m \u001b[3m\u001b[90m<dbl>\u001b[39m\u001b[23m \u001b[3m\u001b[90m<dbl>\u001b[39m\u001b[23m \u001b[3m\u001b[90m<dbl>\u001b[39m\u001b[23m \u001b[3m\u001b[90m<dbl>\u001b[39m\u001b[23m \u001b[3m\u001b[90m<dbl>\u001b[39m\u001b[23m \u001b[3m\u001b[90m<dbl>\u001b[39m\u001b[23m\n",
      "\u001b[90m1\u001b[39m 1.96\u001b[90me\u001b[39m9   30\u001b[4m5\u001b[24m\u001b[4m3\u001b[24m\u001b[4m8\u001b[24m829 \u001b[4m6\u001b[24m\u001b[4m9\u001b[24m231.  212.  67.5 \u001b[4m1\u001b[24m217.  212.  67.5 \u001b[4m1\u001b[24m217.  212.  67.5 \u001b[4m1\u001b[24m220.\n",
      "\u001b[90m2\u001b[39m 1.96\u001b[90me\u001b[39m9   30\u001b[4m5\u001b[24m\u001b[4m3\u001b[24m\u001b[4m8\u001b[24m830 \u001b[4m6\u001b[24m\u001b[4m9\u001b[24m231.  212.  67.5 \u001b[4m1\u001b[24m214.  212.  67.5 \u001b[4m1\u001b[24m214.  212.  67.5 \u001b[4m1\u001b[24m217.\n",
      "\u001b[90m3\u001b[39m 1.96\u001b[90me\u001b[39m9   30\u001b[4m5\u001b[24m\u001b[4m3\u001b[24m\u001b[4m8\u001b[24m831 \u001b[4m6\u001b[24m\u001b[4m9\u001b[24m231.  212.  67.5 \u001b[4m1\u001b[24m211.  212.  67.5 \u001b[4m1\u001b[24m211.  212.  67.5 \u001b[4m1\u001b[24m214.\n",
      "\u001b[90m4\u001b[39m 1.96\u001b[90me\u001b[39m9   30\u001b[4m5\u001b[24m\u001b[4m3\u001b[24m\u001b[4m8\u001b[24m832 \u001b[4m6\u001b[24m\u001b[4m9\u001b[24m231.  212.  67.5 \u001b[4m1\u001b[24m218.  212.  67.5 \u001b[4m1\u001b[24m218.  212.  67.5 \u001b[4m1\u001b[24m221.\n",
      "\u001b[90m5\u001b[39m 1.96\u001b[90me\u001b[39m9   30\u001b[4m5\u001b[24m\u001b[4m3\u001b[24m\u001b[4m8\u001b[24m833 \u001b[4m6\u001b[24m\u001b[4m9\u001b[24m231.  212.  67.5 \u001b[4m1\u001b[24m216.  212.  67.5 \u001b[4m1\u001b[24m216.  212.  67.5 \u001b[4m1\u001b[24m218.\n",
      "\u001b[90m6\u001b[39m 1.96\u001b[90me\u001b[39m9   30\u001b[4m5\u001b[24m\u001b[4m3\u001b[24m\u001b[4m8\u001b[24m834 \u001b[4m6\u001b[24m\u001b[4m9\u001b[24m231.  212.  67.5 \u001b[4m1\u001b[24m213.  212.  67.5 \u001b[4m1\u001b[24m213.  212.  67.5 \u001b[4m1\u001b[24m216.\n",
      "\u001b[90m# … with 31 more variables: RH010 <dbl>, RH015 <dbl>, RH020 <dbl>, RH025 <dbl>,\u001b[39m\n",
      "\u001b[90m#   RH030 <dbl>, RH035 <dbl>, RH040 <dbl>, RH045 <dbl>, RH050 <dbl>,\u001b[39m\n",
      "\u001b[90m#   RH055 <dbl>, RH060 <dbl>, RH065 <dbl>, RH070 <dbl>, RH075 <dbl>,\u001b[39m\n",
      "\u001b[90m#   RH080 <dbl>, RH085 <dbl>, RH090 <dbl>, RH095 <dbl>, RH096 <dbl>,\u001b[39m\n",
      "\u001b[90m#   RH097 <dbl>, RH098 <dbl>, RH099 <dbl>, RH100 <dbl>, AZIMUTH <dbl>,\u001b[39m\n",
      "\u001b[90m#   INCIDENTANGLE <dbl>, RANGE <dbl>, COMPLEXITY <dbl>, SENSITIVITY <dbl>,\u001b[39m\n",
      "\u001b[90m#   CHANNEL_ZT <dbl>, CHANNEL_ZG <dbl>, CHANNEL_RH <dbl>\u001b[39m\n",
      "[1] \"No Overlapped Footprint\"\n",
      "[1] 32\n",
      "[1] \"Loading LVISF2_ABoVE2019_0722_R2003_069319\"\n",
      "[1] \"Skipping lines: 20\"\n"
     ]
    },
    {
     "name": "stderr",
     "output_type": "stream",
     "text": [
      "Warning message:\n",
      "“`read_table2()` was deprecated in readr 2.0.0.\n",
      "Please use `read_table()` instead.”\n",
      "\n",
      "\u001b[36m──\u001b[39m \u001b[1m\u001b[1mColumn specification\u001b[1m\u001b[22m \u001b[36m────────────────────────────────────────────────────────\u001b[39m\n",
      "cols(\n",
      "  .default = col_double()\n",
      ")\n",
      "\u001b[36mℹ\u001b[39m Use \u001b[30m\u001b[47m\u001b[30m\u001b[47m`spec()`\u001b[47m\u001b[30m\u001b[49m\u001b[39m for the full column specifications.\n",
      "\n",
      "\n"
     ]
    },
    {
     "name": "stdout",
     "output_type": "stream",
     "text": [
      "\u001b[90m# A tibble: 6 × 43\u001b[39m\n",
      "    LFID SHOTNUMBER   TIME  GLON  GLAT    ZG  HLON  HLAT    ZH  TLON  TLAT    ZT\n",
      "   \u001b[3m\u001b[90m<dbl>\u001b[39m\u001b[23m      \u001b[3m\u001b[90m<dbl>\u001b[39m\u001b[23m  \u001b[3m\u001b[90m<dbl>\u001b[39m\u001b[23m \u001b[3m\u001b[90m<dbl>\u001b[39m\u001b[23m \u001b[3m\u001b[90m<dbl>\u001b[39m\u001b[23m \u001b[3m\u001b[90m<dbl>\u001b[39m\u001b[23m \u001b[3m\u001b[90m<dbl>\u001b[39m\u001b[23m \u001b[3m\u001b[90m<dbl>\u001b[39m\u001b[23m \u001b[3m\u001b[90m<dbl>\u001b[39m\u001b[23m \u001b[3m\u001b[90m<dbl>\u001b[39m\u001b[23m \u001b[3m\u001b[90m<dbl>\u001b[39m\u001b[23m \u001b[3m\u001b[90m<dbl>\u001b[39m\u001b[23m\n",
      "\u001b[90m1\u001b[39m 1.96\u001b[90me\u001b[39m9   30\u001b[4m8\u001b[24m\u001b[4m9\u001b[24m\u001b[4m1\u001b[24m957 \u001b[4m6\u001b[24m\u001b[4m9\u001b[24m320.  212.  67.7  891.  212.  67.7  891.  212.  67.7  894.\n",
      "\u001b[90m2\u001b[39m 1.96\u001b[90me\u001b[39m9   30\u001b[4m8\u001b[24m\u001b[4m9\u001b[24m\u001b[4m1\u001b[24m958 \u001b[4m6\u001b[24m\u001b[4m9\u001b[24m320.  212.  67.7  887.  212.  67.7  887.  212.  67.7  890.\n",
      "\u001b[90m3\u001b[39m 1.96\u001b[90me\u001b[39m9   30\u001b[4m8\u001b[24m\u001b[4m9\u001b[24m\u001b[4m1\u001b[24m959 \u001b[4m6\u001b[24m\u001b[4m9\u001b[24m320.  212.  67.7  896.  212.  67.7  896.  212.  67.7  899.\n",
      "\u001b[90m4\u001b[39m 1.96\u001b[90me\u001b[39m9   30\u001b[4m8\u001b[24m\u001b[4m9\u001b[24m\u001b[4m1\u001b[24m960 \u001b[4m6\u001b[24m\u001b[4m9\u001b[24m320.  212.  67.7  891.  212.  67.7  891.  212.  67.7  895.\n",
      "\u001b[90m5\u001b[39m 1.96\u001b[90me\u001b[39m9   30\u001b[4m8\u001b[24m\u001b[4m9\u001b[24m\u001b[4m1\u001b[24m961 \u001b[4m6\u001b[24m\u001b[4m9\u001b[24m320.  212.  67.7  888.  212.  67.7  888.  212.  67.7  891.\n",
      "\u001b[90m6\u001b[39m 1.96\u001b[90me\u001b[39m9   30\u001b[4m8\u001b[24m\u001b[4m9\u001b[24m\u001b[4m1\u001b[24m962 \u001b[4m6\u001b[24m\u001b[4m9\u001b[24m320.  212.  67.7  897.  212.  67.7  897.  212.  67.7  900.\n",
      "\u001b[90m# … with 31 more variables: RH010 <dbl>, RH015 <dbl>, RH020 <dbl>, RH025 <dbl>,\u001b[39m\n",
      "\u001b[90m#   RH030 <dbl>, RH035 <dbl>, RH040 <dbl>, RH045 <dbl>, RH050 <dbl>,\u001b[39m\n",
      "\u001b[90m#   RH055 <dbl>, RH060 <dbl>, RH065 <dbl>, RH070 <dbl>, RH075 <dbl>,\u001b[39m\n",
      "\u001b[90m#   RH080 <dbl>, RH085 <dbl>, RH090 <dbl>, RH095 <dbl>, RH096 <dbl>,\u001b[39m\n",
      "\u001b[90m#   RH097 <dbl>, RH098 <dbl>, RH099 <dbl>, RH100 <dbl>, AZIMUTH <dbl>,\u001b[39m\n",
      "\u001b[90m#   INCIDENTANGLE <dbl>, RANGE <dbl>, COMPLEXITY <dbl>, SENSITIVITY <dbl>,\u001b[39m\n",
      "\u001b[90m#   CHANNEL_ZT <dbl>, CHANNEL_ZG <dbl>, CHANNEL_RH <dbl>\u001b[39m\n",
      "[1] \"No Overlapped Footprint\"\n",
      "[1] 33\n"
     ]
    }
   ],
   "source": [
    "#Loop over all the LVIS L2 files, extract the footprints overlapped with the ATL08 segments, and combine all\n",
    "#the intersected footprints in an individual file\n",
    "\n",
    "lvis_file_list <- list.files('/projects/ICESat-2_LVIS/LVIS_F_L2/',pattern = \".txt\",full.names = TRUE)\n",
    "for(i in 1:length(lvis_file_list)) {\n",
    "\n",
    "  if(i==1) {\n",
    "  lvis <- load_lvis2(lvis2_txt_path = lvis_file_list[i],num_lines_hdr = num_lines_hdr,cols = cols)\n",
    "  #lvis <- sf::as_Spatial(lvis)\n",
    "  pts_in_poly <- st_join(lvis,atl08, join = st_within)\n",
    "  join_table_temp <- data.frame(pts_in_poly)\n",
    "  non_veg_segment <- which(join_table_temp$Max_Canopy > 3.0e+23)\n",
    "  non_atl08_contained <- which(is.na(join_table_temp$ID)==TRUE)\n",
    "  join_table_temp <- join_table_temp[-c(non_veg_segment,non_atl08_contained),]\n",
    "  if(nrow(join_table_temp)>0) {\n",
    "      join_table <- join_table_temp\n",
    "  } else {print(\"No Overlapped Footprint\")}\n",
    "  }\n",
    "  if(i>1) {\n",
    "  lvis <- load_lvis2(lvis2_txt_path = lvis_file_list[i],num_lines_hdr = num_lines_hdr,cols = cols)\n",
    "  pts_in_poly <- st_join(lvis,atl08, join = st_within)\n",
    "  join_table_temp <- data.frame(pts_in_poly)\n",
    "  non_veg_segment <- which(join_table_temp$Max_Canopy > 3.0e+23)\n",
    "  non_atl08_contained <- which(is.na(join_table_temp$ID)==TRUE)\n",
    "  join_table_temp <- join_table_temp[-c(non_veg_segment,non_atl08_contained),]\n",
    "   if(nrow(join_table_temp)>0) {\n",
    "      join_table <- rbind(join_table,join_table_temp)\n",
    "  } else {print(\"No Overlapped Footprint\")}\n",
    "  \n",
    "  }\n",
    "  print(i)\n",
    "}\n",
    "\n",
    "#LVIS_F <- st_buffer(lvis, dist = 5)\n",
    "#LVIS_F<- sf::as_Spatial(LVIS_F)"
   ]
  },
  {
   "cell_type": "code",
   "execution_count": 50,
   "id": "bibliographic-optics",
   "metadata": {},
   "outputs": [
    {
     "name": "stdout",
     "output_type": "stream",
     "text": [
      "[1] 1\n",
      "[1] 2\n",
      "[1] 3\n",
      "[1] 4\n",
      "[1] 5\n",
      "[1] 6\n",
      "[1] 7\n",
      "[1] 8\n",
      "[1] 9\n",
      "[1] 10\n",
      "[1] 11\n",
      "[1] 12\n",
      "[1] 13\n",
      "[1] 14\n",
      "[1] 15\n",
      "[1] 16\n",
      "[1] 17\n",
      "[1] 18\n",
      "[1] 19\n",
      "[1] 20\n",
      "[1] 21\n",
      "[1] 22\n",
      "[1] 23\n",
      "[1] 24\n",
      "[1] 25\n",
      "[1] 26\n",
      "[1] 27\n",
      "[1] 28\n",
      "[1] 29\n",
      "[1] 30\n",
      "[1] 31\n",
      "[1] 32\n",
      "[1] 33\n",
      "[1] 34\n",
      "[1] 35\n",
      "[1] 36\n",
      "[1] 37\n",
      "[1] 38\n",
      "[1] 39\n",
      "[1] 40\n",
      "[1] 41\n",
      "[1] 42\n",
      "[1] 43\n",
      "[1] 44\n",
      "[1] 45\n",
      "[1] 46\n",
      "[1] 47\n",
      "[1] 48\n",
      "[1] 49\n",
      "[1] 50\n",
      "[1] 51\n",
      "[1] 52\n",
      "[1] 53\n",
      "[1] 54\n",
      "[1] 55\n",
      "[1] 56\n",
      "[1] 57\n",
      "[1] 58\n",
      "[1] 59\n",
      "[1] 60\n",
      "[1] 61\n",
      "[1] 62\n",
      "[1] 63\n",
      "[1] 64\n",
      "[1] 65\n",
      "[1] 66\n",
      "[1] 67\n",
      "[1] 68\n",
      "[1] 69\n",
      "[1] 70\n",
      "[1] 71\n",
      "[1] 72\n",
      "[1] 73\n",
      "[1] 74\n",
      "[1] 75\n",
      "[1] 76\n",
      "[1] 77\n",
      "[1] 78\n",
      "[1] 79\n",
      "[1] 80\n",
      "[1] 81\n",
      "[1] 82\n",
      "[1] 83\n",
      "[1] 84\n",
      "[1] 85\n",
      "[1] 86\n",
      "[1] 87\n",
      "[1] 88\n",
      "[1] 89\n",
      "[1] 90\n",
      "[1] 91\n",
      "[1] 92\n",
      "[1] 93\n",
      "[1] 94\n",
      "[1] 95\n",
      "[1] 96\n",
      "[1] 97\n",
      "[1] 98\n",
      "[1] 99\n",
      "[1] 100\n",
      "[1] 101\n",
      "[1] 102\n",
      "[1] 103\n",
      "[1] 104\n",
      "[1] 105\n",
      "[1] 106\n",
      "[1] 107\n",
      "[1] 108\n",
      "[1] 109\n",
      "[1] 110\n",
      "[1] 111\n",
      "[1] 112\n",
      "[1] 113\n",
      "[1] 114\n",
      "[1] 115\n",
      "[1] 116\n",
      "[1] 117\n",
      "[1] 118\n",
      "[1] 119\n",
      "[1] 120\n",
      "[1] 121\n",
      "[1] 122\n",
      "[1] 123\n",
      "[1] 124\n",
      "[1] 125\n",
      "[1] 126\n",
      "[1] 127\n",
      "[1] 128\n",
      "[1] 129\n",
      "[1] 130\n",
      "[1] 131\n",
      "[1] 132\n",
      "[1] 133\n",
      "[1] 134\n",
      "[1] 135\n",
      "[1] 136\n",
      "[1] 137\n",
      "[1] 138\n",
      "[1] 139\n",
      "[1] 140\n",
      "[1] 141\n",
      "[1] 142\n",
      "[1] 143\n",
      "[1] 144\n",
      "[1] 145\n",
      "[1] 146\n",
      "[1] 147\n",
      "[1] 148\n",
      "[1] 149\n",
      "[1] 150\n",
      "[1] 151\n",
      "[1] 152\n",
      "[1] 153\n",
      "[1] 154\n",
      "[1] 155\n",
      "[1] 156\n",
      "[1] 157\n",
      "[1] 158\n",
      "[1] 159\n",
      "[1] 160\n",
      "[1] 161\n",
      "[1] 162\n",
      "[1] 163\n",
      "[1] 164\n",
      "[1] 165\n",
      "[1] 166\n",
      "[1] 167\n",
      "[1] 168\n",
      "[1] 169\n",
      "[1] 170\n",
      "[1] 171\n",
      "[1] 172\n",
      "[1] 173\n",
      "[1] 174\n",
      "[1] 175\n",
      "[1] 176\n",
      "[1] 177\n",
      "[1] 178\n",
      "[1] 179\n",
      "[1] 180\n",
      "[1] 181\n",
      "[1] 182\n",
      "[1] 183\n",
      "[1] 184\n",
      "[1] 185\n",
      "[1] 186\n",
      "[1] 187\n",
      "[1] 188\n",
      "[1] 189\n",
      "[1] 190\n",
      "[1] 191\n",
      "[1] 192\n",
      "[1] 193\n",
      "[1] 194\n",
      "[1] 195\n",
      "[1] 196\n",
      "[1] 197\n",
      "[1] 198\n",
      "[1] 199\n",
      "[1] 200\n",
      "[1] 201\n",
      "[1] 202\n",
      "[1] 203\n",
      "[1] 204\n",
      "[1] 205\n",
      "[1] 206\n",
      "[1] 207\n",
      "[1] 208\n",
      "[1] 209\n",
      "[1] 210\n",
      "[1] 211\n",
      "[1] 212\n",
      "[1] 213\n",
      "[1] 214\n",
      "[1] 215\n",
      "[1] 216\n",
      "[1] 217\n",
      "[1] 218\n",
      "[1] 219\n",
      "[1] 220\n",
      "[1] 221\n",
      "[1] 222\n",
      "[1] 223\n",
      "[1] 224\n",
      "[1] 225\n",
      "[1] 226\n",
      "[1] 227\n",
      "[1] 228\n",
      "[1] 229\n",
      "[1] 230\n",
      "[1] 231\n",
      "[1] 232\n",
      "[1] 233\n",
      "[1] 234\n",
      "[1] 235\n",
      "[1] 236\n",
      "[1] 237\n",
      "[1] 238\n",
      "[1] 239\n",
      "[1] 240\n",
      "[1] 241\n",
      "[1] 242\n",
      "[1] 243\n",
      "[1] 244\n",
      "[1] 245\n",
      "[1] 246\n",
      "[1] 247\n",
      "[1] 248\n",
      "[1] 249\n",
      "[1] 250\n",
      "[1] 251\n",
      "[1] 252\n",
      "[1] 253\n",
      "[1] 254\n",
      "[1] 255\n",
      "[1] 256\n",
      "[1] 257\n",
      "[1] 258\n",
      "[1] 259\n",
      "[1] 260\n",
      "[1] 261\n",
      "[1] 262\n",
      "[1] 263\n",
      "[1] 264\n",
      "[1] 265\n",
      "[1] 266\n",
      "[1] 267\n",
      "[1] 268\n",
      "[1] 269\n",
      "[1] 270\n",
      "[1] 271\n",
      "[1] 272\n",
      "[1] 273\n",
      "[1] 274\n",
      "[1] 275\n",
      "[1] 276\n",
      "[1] 277\n",
      "[1] 278\n",
      "[1] 279\n",
      "[1] 280\n",
      "[1] 281\n",
      "[1] 282\n",
      "[1] 283\n",
      "[1] 284\n",
      "[1] 285\n",
      "[1] 286\n",
      "[1] 287\n",
      "[1] 288\n",
      "[1] 289\n",
      "[1] 290\n",
      "[1] 291\n",
      "[1] 292\n",
      "[1] 293\n",
      "[1] 294\n",
      "[1] 295\n",
      "[1] 296\n",
      "[1] 297\n",
      "[1] 298\n",
      "[1] 299\n",
      "[1] 300\n",
      "[1] 301\n",
      "[1] 302\n",
      "[1] 303\n",
      "[1] 304\n",
      "[1] 305\n",
      "[1] 306\n",
      "[1] 307\n",
      "[1] 308\n",
      "[1] 309\n",
      "[1] 310\n",
      "[1] 311\n",
      "[1] 312\n",
      "[1] 313\n",
      "[1] 314\n",
      "[1] 315\n",
      "[1] 316\n",
      "[1] 317\n",
      "[1] 318\n",
      "[1] 319\n",
      "[1] 320\n",
      "[1] 321\n",
      "[1] 322\n",
      "[1] 323\n",
      "[1] 324\n",
      "[1] 325\n",
      "[1] 326\n",
      "[1] 327\n",
      "[1] 328\n",
      "[1] 329\n",
      "[1] 330\n",
      "[1] 331\n",
      "[1] 332\n",
      "[1] 333\n",
      "[1] 334\n",
      "[1] 335\n",
      "[1] 336\n",
      "[1] 337\n",
      "[1] 338\n",
      "[1] 339\n",
      "[1] 340\n",
      "[1] 341\n",
      "[1] 342\n",
      "[1] 343\n",
      "[1] 344\n",
      "[1] 345\n",
      "[1] 346\n",
      "[1] 347\n",
      "[1] 348\n",
      "[1] 349\n",
      "[1] 350\n",
      "[1] 351\n",
      "[1] 352\n",
      "[1] 353\n",
      "[1] 354\n",
      "[1] 355\n",
      "[1] 356\n",
      "[1] 357\n",
      "[1] 358\n",
      "[1] 359\n",
      "[1] 360\n",
      "[1] 361\n",
      "[1] 362\n",
      "[1] 363\n",
      "[1] 364\n",
      "[1] 365\n",
      "[1] 366\n",
      "[1] 367\n",
      "[1] 368\n",
      "[1] 369\n",
      "[1] 370\n",
      "[1] 371\n",
      "[1] 372\n",
      "[1] 373\n",
      "[1] 374\n",
      "[1] 375\n",
      "[1] 376\n",
      "[1] 377\n",
      "[1] 378\n",
      "[1] 379\n",
      "[1] 380\n",
      "[1] 381\n",
      "[1] 382\n",
      "[1] 383\n",
      "[1] 384\n",
      "[1] 385\n",
      "[1] 386\n",
      "[1] 387\n",
      "[1] 388\n",
      "[1] 389\n",
      "[1] 390\n",
      "[1] 391\n",
      "[1] 392\n",
      "[1] 393\n",
      "[1] 394\n",
      "[1] 395\n",
      "[1] 396\n",
      "[1] 397\n",
      "[1] 398\n",
      "[1] 399\n",
      "[1] 400\n",
      "[1] 401\n",
      "[1] 402\n",
      "[1] 403\n",
      "[1] 404\n",
      "[1] 405\n",
      "[1] 406\n",
      "[1] 407\n",
      "[1] 408\n",
      "[1] 409\n",
      "[1] 410\n",
      "[1] 411\n",
      "[1] 412\n",
      "[1] 413\n",
      "[1] 414\n",
      "[1] 415\n",
      "[1] 416\n",
      "[1] 417\n",
      "[1] 418\n",
      "[1] 419\n",
      "[1] 420\n",
      "[1] 421\n",
      "[1] 422\n",
      "[1] 423\n",
      "[1] 424\n",
      "[1] 425\n",
      "[1] 426\n",
      "[1] 427\n",
      "[1] 428\n",
      "[1] 429\n",
      "[1] 430\n",
      "[1] 431\n",
      "[1] 432\n",
      "[1] 433\n",
      "[1] 434\n",
      "[1] 435\n",
      "[1] 436\n",
      "[1] 437\n",
      "[1] 438\n",
      "[1] 439\n",
      "[1] 440\n",
      "[1] 441\n",
      "[1] 442\n",
      "[1] 443\n",
      "[1] 444\n",
      "[1] 445\n",
      "[1] 446\n",
      "[1] 447\n",
      "[1] 448\n",
      "[1] 449\n",
      "[1] 450\n",
      "[1] 451\n",
      "[1] 452\n",
      "[1] 453\n",
      "[1] 454\n",
      "[1] 455\n",
      "[1] 456\n",
      "[1] 457\n",
      "[1] 458\n",
      "[1] 459\n",
      "[1] 460\n",
      "[1] 461\n",
      "[1] 462\n",
      "[1] 463\n",
      "[1] 464\n",
      "[1] 465\n",
      "[1] 466\n",
      "[1] 467\n",
      "[1] 468\n",
      "[1] 469\n",
      "[1] 470\n",
      "[1] 471\n",
      "[1] 472\n",
      "[1] 473\n",
      "[1] 474\n",
      "[1] 475\n",
      "[1] 476\n",
      "[1] 477\n",
      "[1] 478\n",
      "[1] 479\n",
      "[1] 480\n",
      "[1] 481\n",
      "[1] 482\n",
      "[1] 483\n",
      "[1] 484\n",
      "[1] 485\n",
      "[1] 486\n",
      "[1] 487\n",
      "[1] 488\n",
      "[1] 489\n",
      "[1] 490\n",
      "[1] 491\n",
      "[1] 492\n",
      "[1] 493\n",
      "[1] 494\n",
      "[1] 495\n",
      "[1] 496\n",
      "[1] 497\n",
      "[1] 498\n",
      "[1] 499\n",
      "[1] 500\n",
      "[1] 501\n",
      "[1] 502\n",
      "[1] 503\n",
      "[1] 504\n",
      "[1] 505\n",
      "[1] 506\n",
      "[1] 507\n",
      "[1] 508\n",
      "[1] 509\n",
      "[1] 510\n",
      "[1] 511\n",
      "[1] 512\n",
      "[1] 513\n",
      "[1] 514\n",
      "[1] 515\n",
      "[1] 516\n",
      "[1] 517\n",
      "[1] 518\n",
      "[1] 519\n",
      "[1] 520\n",
      "[1] 521\n",
      "[1] 522\n",
      "[1] 523\n",
      "[1] 524\n",
      "[1] 525\n",
      "[1] 526\n",
      "[1] 527\n",
      "[1] 528\n",
      "[1] 529\n",
      "[1] 530\n",
      "[1] 531\n",
      "[1] 532\n",
      "[1] 533\n",
      "[1] 534\n",
      "[1] 535\n",
      "[1] 536\n",
      "[1] 537\n",
      "[1] 538\n",
      "[1] 539\n",
      "[1] 540\n",
      "[1] 541\n",
      "[1] 542\n",
      "[1] 543\n",
      "[1] 544\n",
      "[1] 545\n",
      "[1] 546\n",
      "[1] 547\n",
      "[1] 548\n",
      "[1] 549\n",
      "[1] 550\n",
      "[1] 551\n",
      "[1] 552\n",
      "[1] 553\n",
      "[1] 554\n",
      "[1] 555\n",
      "[1] 556\n",
      "[1] 557\n",
      "[1] 558\n",
      "[1] 559\n",
      "[1] 560\n",
      "[1] 561\n",
      "[1] 562\n",
      "[1] 563\n",
      "[1] 564\n",
      "[1] 565\n",
      "[1] 566\n",
      "[1] 567\n",
      "[1] 568\n",
      "[1] 569\n",
      "[1] 570\n",
      "[1] 571\n",
      "[1] 572\n",
      "[1] 573\n",
      "[1] 574\n",
      "[1] 575\n",
      "[1] 576\n",
      "[1] 577\n",
      "[1] 578\n",
      "[1] 579\n",
      "[1] 580\n",
      "[1] 581\n",
      "[1] 582\n",
      "[1] 583\n",
      "[1] 584\n",
      "[1] 585\n",
      "[1] 586\n",
      "[1] 587\n",
      "[1] 588\n",
      "[1] 589\n",
      "[1] 590\n",
      "[1] 591\n",
      "[1] 592\n",
      "[1] 593\n",
      "[1] 594\n",
      "[1] 595\n",
      "[1] 596\n",
      "[1] 597\n",
      "[1] 598\n",
      "[1] 599\n",
      "[1] 600\n",
      "[1] 601\n",
      "[1] 602\n",
      "[1] 603\n",
      "[1] 604\n",
      "[1] 605\n",
      "[1] 606\n",
      "[1] 607\n",
      "[1] 608\n",
      "[1] 609\n",
      "[1] 610\n",
      "[1] 611\n",
      "[1] 612\n",
      "[1] 613\n",
      "[1] 614\n",
      "[1] 615\n",
      "[1] 616\n",
      "[1] 617\n",
      "[1] 618\n",
      "[1] 619\n",
      "[1] 620\n",
      "[1] 621\n",
      "[1] 622\n",
      "[1] 623\n",
      "[1] 624\n",
      "[1] 625\n",
      "[1] 626\n",
      "[1] 627\n",
      "[1] 628\n",
      "[1] 629\n",
      "[1] 630\n",
      "[1] 631\n",
      "[1] 632\n",
      "[1] 633\n",
      "[1] 634\n",
      "[1] 635\n",
      "[1] 636\n",
      "[1] 637\n",
      "[1] 638\n",
      "[1] 639\n",
      "[1] 640\n",
      "[1] 641\n",
      "[1] 642\n",
      "[1] 643\n",
      "[1] 644\n",
      "[1] 645\n",
      "[1] 646\n",
      "[1] 647\n",
      "[1] 648\n",
      "[1] 649\n",
      "[1] 650\n",
      "[1] 651\n",
      "[1] 652\n",
      "[1] 653\n",
      "[1] 654\n",
      "[1] 655\n",
      "[1] 656\n",
      "[1] 657\n",
      "[1] 658\n",
      "[1] 659\n",
      "[1] 660\n",
      "[1] 661\n",
      "[1] 662\n",
      "[1] 663\n",
      "[1] 664\n",
      "[1] 665\n",
      "[1] 666\n",
      "[1] 667\n",
      "[1] 668\n",
      "[1] 669\n",
      "[1] 670\n",
      "[1] 671\n",
      "[1] 672\n",
      "[1] 673\n",
      "[1] 674\n",
      "[1] 675\n",
      "[1] 676\n",
      "[1] 677\n",
      "[1] 678\n",
      "[1] 679\n",
      "[1] 680\n",
      "[1] 681\n",
      "[1] 682\n",
      "[1] 683\n",
      "[1] 684\n",
      "[1] 685\n",
      "[1] 686\n",
      "[1] 687\n",
      "[1] 688\n",
      "[1] 689\n",
      "[1] 690\n",
      "[1] 691\n",
      "[1] 692\n",
      "[1] 693\n",
      "[1] 694\n",
      "[1] 695\n",
      "[1] 696\n",
      "[1] 697\n",
      "[1] 698\n",
      "[1] 699\n",
      "[1] 700\n",
      "[1] 701\n",
      "[1] 702\n",
      "[1] 703\n",
      "[1] 704\n",
      "[1] 705\n",
      "[1] 706\n",
      "[1] 707\n",
      "[1] 708\n",
      "[1] 709\n",
      "[1] 710\n",
      "[1] 711\n",
      "[1] 712\n",
      "[1] 713\n",
      "[1] 714\n",
      "[1] 715\n",
      "[1] 716\n",
      "[1] 717\n",
      "[1] 718\n",
      "[1] 719\n",
      "[1] 720\n",
      "[1] 721\n",
      "[1] 722\n",
      "[1] 723\n",
      "[1] 724\n",
      "[1] 725\n",
      "[1] 726\n",
      "[1] 727\n",
      "[1] 728\n",
      "[1] 729\n",
      "[1] 730\n",
      "[1] 731\n",
      "[1] 732\n",
      "[1] 733\n",
      "[1] 734\n",
      "[1] 735\n",
      "[1] 736\n",
      "[1] 737\n",
      "[1] 738\n",
      "[1] 739\n",
      "[1] 740\n",
      "[1] 741\n",
      "[1] 742\n",
      "[1] 743\n",
      "[1] 744\n",
      "[1] 745\n",
      "[1] 746\n",
      "[1] 747\n",
      "[1] 748\n",
      "[1] 749\n",
      "[1] 750\n",
      "[1] 751\n",
      "[1] 752\n",
      "[1] 753\n",
      "[1] 754\n",
      "[1] 755\n",
      "[1] 756\n",
      "[1] 757\n",
      "[1] 758\n",
      "[1] 759\n",
      "[1] 760\n",
      "[1] 761\n",
      "[1] 762\n",
      "[1] 763\n",
      "[1] 764\n",
      "[1] 765\n",
      "[1] 766\n",
      "[1] 767\n",
      "[1] 768\n",
      "[1] 769\n",
      "[1] 770\n",
      "[1] 771\n",
      "[1] 772\n",
      "[1] 773\n",
      "[1] 774\n",
      "[1] 775\n",
      "[1] 776\n",
      "[1] 777\n",
      "[1] 778\n",
      "[1] 779\n",
      "[1] 780\n",
      "[1] 781\n",
      "[1] 782\n",
      "[1] 783\n",
      "[1] 784\n",
      "[1] 785\n",
      "[1] 786\n",
      "[1] 787\n",
      "[1] 788\n",
      "[1] 789\n",
      "[1] 790\n",
      "[1] 791\n",
      "[1] 792\n",
      "[1] 793\n",
      "[1] 794\n",
      "[1] 795\n",
      "[1] 796\n",
      "[1] 797\n",
      "[1] 798\n",
      "[1] 799\n",
      "[1] 800\n",
      "[1] 801\n",
      "[1] 802\n",
      "[1] 803\n",
      "[1] 804\n",
      "[1] 805\n",
      "[1] 806\n",
      "[1] 807\n",
      "[1] 808\n",
      "[1] 809\n",
      "[1] 810\n",
      "[1] 811\n",
      "[1] 812\n",
      "[1] 813\n",
      "[1] 814\n",
      "[1] 815\n",
      "[1] 816\n",
      "[1] 817\n",
      "[1] 818\n",
      "[1] 819\n",
      "[1] 820\n",
      "[1] 821\n",
      "[1] 822\n",
      "[1] 823\n",
      "[1] 824\n",
      "[1] 825\n",
      "[1] 826\n",
      "[1] 827\n",
      "[1] 828\n",
      "[1] 829\n",
      "[1] 830\n",
      "[1] 831\n",
      "[1] 832\n",
      "[1] 833\n",
      "[1] 834\n",
      "[1] 835\n",
      "[1] 836\n",
      "[1] 837\n",
      "[1] 838\n",
      "[1] 839\n",
      "[1] 840\n",
      "[1] 841\n",
      "[1] 842\n",
      "[1] 843\n",
      "[1] 844\n",
      "[1] 845\n",
      "[1] 846\n",
      "[1] 847\n",
      "[1] 848\n",
      "[1] 849\n",
      "[1] 850\n",
      "[1] 851\n",
      "[1] 852\n",
      "[1] 853\n",
      "[1] 854\n",
      "[1] 855\n",
      "[1] 856\n",
      "[1] 857\n",
      "[1] 858\n",
      "[1] 859\n",
      "[1] 860\n",
      "[1] 861\n",
      "[1] 862\n",
      "[1] 863\n",
      "[1] 864\n",
      "[1] 865\n",
      "[1] 866\n",
      "[1] 867\n",
      "[1] 868\n",
      "[1] 869\n",
      "[1] 870\n",
      "[1] 871\n",
      "[1] 872\n",
      "[1] 873\n",
      "[1] 874\n",
      "[1] 875\n",
      "[1] 876\n",
      "[1] 877\n",
      "[1] 878\n",
      "[1] 879\n",
      "[1] 880\n",
      "[1] 881\n",
      "[1] 882\n",
      "[1] 883\n",
      "[1] 884\n",
      "[1] 885\n",
      "[1] 886\n",
      "[1] 887\n",
      "[1] 888\n",
      "[1] 889\n",
      "[1] 890\n",
      "[1] 891\n",
      "[1] 892\n",
      "[1] 893\n",
      "[1] 894\n",
      "[1] 895\n",
      "[1] 896\n",
      "[1] 897\n",
      "[1] 898\n",
      "[1] 899\n",
      "[1] 900\n",
      "[1] 901\n",
      "[1] 902\n",
      "[1] 903\n",
      "[1] 904\n",
      "[1] 905\n",
      "[1] 906\n",
      "[1] 907\n",
      "[1] 908\n",
      "[1] 909\n",
      "[1] 910\n",
      "[1] 911\n",
      "[1] 912\n",
      "[1] 913\n",
      "[1] 914\n",
      "[1] 915\n",
      "[1] 916\n",
      "[1] 917\n",
      "[1] 918\n",
      "[1] 919\n",
      "[1] 920\n",
      "[1] 921\n",
      "[1] 922\n",
      "[1] 923\n",
      "[1] 924\n",
      "[1] 925\n",
      "[1] 926\n",
      "[1] 927\n",
      "[1] 928\n",
      "[1] 929\n",
      "[1] 930\n",
      "[1] 931\n",
      "[1] 932\n",
      "[1] 933\n",
      "[1] 934\n",
      "[1] 935\n",
      "[1] 936\n",
      "[1] 937\n",
      "[1] 938\n",
      "[1] 939\n",
      "[1] 940\n",
      "[1] 941\n",
      "[1] 942\n",
      "[1] 943\n",
      "[1] 944\n",
      "[1] 945\n",
      "[1] 946\n",
      "[1] 947\n",
      "[1] 948\n",
      "[1] 949\n",
      "[1] 950\n",
      "[1] 951\n",
      "[1] 952\n",
      "[1] 953\n",
      "[1] 954\n",
      "[1] 955\n",
      "[1] 956\n",
      "[1] 957\n",
      "[1] 958\n",
      "[1] 959\n",
      "[1] 960\n",
      "[1] 961\n",
      "[1] 962\n",
      "[1] 963\n",
      "[1] 964\n",
      "[1] 965\n",
      "[1] 966\n",
      "[1] 967\n",
      "[1] 968\n",
      "[1] 969\n",
      "[1] 970\n",
      "[1] 971\n",
      "[1] 972\n",
      "[1] 973\n",
      "[1] 974\n",
      "[1] 975\n",
      "[1] 976\n",
      "[1] 977\n",
      "[1] 978\n",
      "[1] 979\n",
      "[1] 980\n",
      "[1] 981\n",
      "[1] 982\n",
      "[1] 983\n",
      "[1] 984\n",
      "[1] 985\n",
      "[1] 986\n",
      "[1] 987\n",
      "[1] 988\n",
      "[1] 989\n",
      "[1] 990\n",
      "[1] 991\n",
      "[1] 992\n",
      "[1] 993\n",
      "[1] 994\n",
      "[1] 995\n",
      "[1] 996\n",
      "[1] 997\n",
      "[1] 998\n",
      "[1] 999\n",
      "[1] 1000\n",
      "[1] 1001\n",
      "[1] 1002\n",
      "[1] 1003\n",
      "[1] 1004\n",
      "[1] 1005\n",
      "[1] 1006\n",
      "[1] 1007\n",
      "[1] 1008\n",
      "[1] 1009\n",
      "[1] 1010\n",
      "[1] 1011\n",
      "[1] 1012\n",
      "[1] 1013\n",
      "[1] 1014\n",
      "[1] 1015\n",
      "[1] 1016\n",
      "[1] 1017\n",
      "[1] 1018\n",
      "[1] 1019\n",
      "[1] 1020\n",
      "[1] 1021\n",
      "[1] 1022\n",
      "[1] 1023\n",
      "[1] 1024\n",
      "[1] 1025\n",
      "[1] 1026\n",
      "[1] 1027\n",
      "[1] 1028\n",
      "[1] 1029\n",
      "[1] 1030\n",
      "[1] 1031\n",
      "[1] 1032\n",
      "[1] 1033\n",
      "[1] 1034\n",
      "[1] 1035\n",
      "[1] 1036\n",
      "[1] 1037\n",
      "[1] 1038\n",
      "[1] 1039\n",
      "[1] 1040\n",
      "[1] 1041\n",
      "[1] 1042\n",
      "[1] 1043\n",
      "[1] 1044\n",
      "[1] 1045\n",
      "[1] 1046\n",
      "[1] 1047\n",
      "[1] 1048\n",
      "[1] 1049\n",
      "[1] 1050\n",
      "[1] 1051\n",
      "[1] 1052\n",
      "[1] 1053\n",
      "[1] 1054\n",
      "[1] 1055\n",
      "[1] 1056\n",
      "[1] 1057\n",
      "[1] 1058\n",
      "[1] 1059\n",
      "[1] 1060\n",
      "[1] 1061\n",
      "[1] 1062\n",
      "[1] 1063\n",
      "[1] 1064\n",
      "[1] 1065\n",
      "[1] 1066\n",
      "[1] 1067\n",
      "[1] 1068\n",
      "[1] 1069\n",
      "[1] 1070\n",
      "[1] 1071\n",
      "[1] 1072\n",
      "[1] 1073\n",
      "[1] 1074\n",
      "[1] 1075\n",
      "[1] 1076\n",
      "[1] 1077\n",
      "[1] 1078\n",
      "[1] 1079\n",
      "[1] 1080\n",
      "[1] 1081\n",
      "[1] 1082\n",
      "[1] 1083\n",
      "[1] 1084\n",
      "[1] 1085\n",
      "[1] 1086\n",
      "[1] 1087\n",
      "[1] 1088\n",
      "[1] 1089\n",
      "[1] 1090\n",
      "[1] 1091\n",
      "[1] 1092\n",
      "[1] 1093\n",
      "[1] 1094\n",
      "[1] 1095\n",
      "[1] 1096\n",
      "[1] 1097\n",
      "[1] 1098\n",
      "[1] 1099\n",
      "[1] 1100\n",
      "[1] 1101\n",
      "[1] 1102\n",
      "[1] 1103\n",
      "[1] 1104\n",
      "[1] 1105\n",
      "[1] 1106\n",
      "[1] 1107\n",
      "[1] 1108\n",
      "[1] 1109\n",
      "[1] 1110\n",
      "[1] 1111\n",
      "[1] 1112\n",
      "[1] 1113\n",
      "[1] 1114\n",
      "[1] 1115\n",
      "[1] 1116\n",
      "[1] 1117\n",
      "[1] 1118\n",
      "[1] 1119\n",
      "[1] 1120\n",
      "[1] 1121\n",
      "[1] 1122\n",
      "[1] 1123\n",
      "[1] 1124\n",
      "[1] 1125\n",
      "[1] 1126\n",
      "[1] 1127\n",
      "[1] 1128\n",
      "[1] 1129\n",
      "[1] 1130\n",
      "[1] 1131\n",
      "[1] 1132\n",
      "[1] 1133\n",
      "[1] 1134\n",
      "[1] 1135\n",
      "[1] 1136\n",
      "[1] 1137\n",
      "[1] 1138\n",
      "[1] 1139\n",
      "[1] 1140\n",
      "[1] 1141\n",
      "[1] 1142\n",
      "[1] 1143\n",
      "[1] 1144\n",
      "[1] 1145\n",
      "[1] 1146\n",
      "[1] 1147\n",
      "[1] 1148\n",
      "[1] 1149\n",
      "[1] 1150\n",
      "[1] 1151\n",
      "[1] 1152\n",
      "[1] 1153\n",
      "[1] 1154\n",
      "[1] 1155\n",
      "[1] 1156\n",
      "[1] 1157\n",
      "[1] 1158\n",
      "[1] 1159\n",
      "[1] 1160\n",
      "[1] 1161\n",
      "[1] 1162\n",
      "[1] 1163\n",
      "[1] 1164\n",
      "[1] 1165\n",
      "[1] 1166\n",
      "[1] 1167\n",
      "[1] 1168\n",
      "[1] 1169\n",
      "[1] 1170\n",
      "[1] 1171\n",
      "[1] 1172\n",
      "[1] 1173\n",
      "[1] 1174\n",
      "[1] 1175\n",
      "[1] 1176\n",
      "[1] 1177\n",
      "[1] 1178\n",
      "[1] 1179\n",
      "[1] 1180\n",
      "[1] 1181\n",
      "[1] 1182\n",
      "[1] 1183\n",
      "[1] 1184\n",
      "[1] 1185\n",
      "[1] 1186\n",
      "[1] 1187\n",
      "[1] 1188\n",
      "[1] 1189\n",
      "[1] 1190\n",
      "[1] 1191\n",
      "[1] 1192\n",
      "[1] 1193\n",
      "[1] 1194\n",
      "[1] 1195\n",
      "[1] 1196\n",
      "[1] 1197\n",
      "[1] 1198\n",
      "[1] 1199\n",
      "[1] 1200\n",
      "[1] 1201\n",
      "[1] 1202\n",
      "[1] 1203\n",
      "[1] 1204\n",
      "[1] 1205\n",
      "[1] 1206\n",
      "[1] 1207\n",
      "[1] 1208\n",
      "[1] 1209\n",
      "[1] 1210\n",
      "[1] 1211\n",
      "[1] 1212\n",
      "[1] 1213\n",
      "[1] 1214\n",
      "[1] 1215\n",
      "[1] 1216\n",
      "[1] 1217\n",
      "[1] 1218\n",
      "[1] 1219\n",
      "[1] 1220\n",
      "[1] 1221\n",
      "[1] 1222\n",
      "[1] 1223\n",
      "[1] 1224\n",
      "[1] 1225\n",
      "[1] 1226\n",
      "[1] 1227\n",
      "[1] 1228\n",
      "[1] 1229\n",
      "[1] 1230\n",
      "[1] 1231\n",
      "[1] 1232\n",
      "[1] 1233\n",
      "[1] 1234\n",
      "[1] 1235\n",
      "[1] 1236\n",
      "[1] 1237\n",
      "[1] 1238\n",
      "[1] 1239\n",
      "[1] 1240\n",
      "[1] 1241\n",
      "[1] 1242\n",
      "[1] 1243\n",
      "[1] 1244\n",
      "[1] 1245\n",
      "[1] 1246\n",
      "[1] 1247\n",
      "[1] 1248\n",
      "[1] 1249\n",
      "[1] 1250\n",
      "[1] 1251\n",
      "[1] 1252\n",
      "[1] 1253\n",
      "[1] 1254\n",
      "[1] 1255\n",
      "[1] 1256\n",
      "[1] 1257\n",
      "[1] 1258\n",
      "[1] 1259\n",
      "[1] 1260\n",
      "[1] 1261\n",
      "[1] 1262\n",
      "[1] 1263\n",
      "[1] 1264\n",
      "[1] 1265\n",
      "[1] 1266\n",
      "[1] 1267\n",
      "[1] 1268\n",
      "[1] 1269\n",
      "[1] 1270\n",
      "[1] 1271\n",
      "[1] 1272\n",
      "[1] 1273\n",
      "[1] 1274\n",
      "[1] 1275\n",
      "[1] 1276\n",
      "[1] 1277\n",
      "[1] 1278\n",
      "[1] 1279\n",
      "[1] 1280\n",
      "[1] 1281\n",
      "[1] 1282\n",
      "[1] 1283\n",
      "[1] 1284\n",
      "[1] 1285\n",
      "[1] 1286\n",
      "[1] 1287\n",
      "[1] 1288\n",
      "[1] 1289\n",
      "[1] 1290\n",
      "[1] 1291\n",
      "[1] 1292\n",
      "[1] 1293\n",
      "[1] 1294\n",
      "[1] 1295\n",
      "[1] 1296\n",
      "[1] 1297\n",
      "[1] 1298\n",
      "[1] 1299\n",
      "[1] 1300\n",
      "[1] 1301\n",
      "[1] 1302\n",
      "[1] 1303\n",
      "[1] 1304\n",
      "[1] 1305\n",
      "[1] 1306\n",
      "[1] 1307\n",
      "[1] 1308\n",
      "[1] 1309\n",
      "[1] 1310\n",
      "[1] 1311\n",
      "[1] 1312\n",
      "[1] 1313\n",
      "[1] 1314\n",
      "[1] 1315\n",
      "[1] 1316\n",
      "[1] 1317\n",
      "[1] 1318\n",
      "[1] 1319\n",
      "[1] 1320\n",
      "[1] 1321\n",
      "[1] 1322\n",
      "[1] 1323\n",
      "[1] 1324\n",
      "[1] 1325\n",
      "[1] 1326\n",
      "[1] 1327\n",
      "[1] 1328\n",
      "[1] 1329\n",
      "[1] 1330\n",
      "[1] 1331\n",
      "[1] 1332\n",
      "[1] 1333\n",
      "[1] 1334\n",
      "[1] 1335\n",
      "[1] 1336\n",
      "[1] 1337\n",
      "[1] 1338\n",
      "[1] 1339\n",
      "[1] 1340\n",
      "[1] 1341\n",
      "[1] 1342\n",
      "[1] 1343\n",
      "[1] 1344\n",
      "[1] 1345\n",
      "[1] 1346\n",
      "[1] 1347\n",
      "[1] 1348\n",
      "[1] 1349\n",
      "[1] 1350\n",
      "[1] 1351\n",
      "[1] 1352\n",
      "[1] 1353\n",
      "[1] 1354\n",
      "[1] 1355\n",
      "[1] 1356\n",
      "[1] 1357\n",
      "[1] 1358\n",
      "[1] 1359\n",
      "[1] 1360\n",
      "[1] 1361\n",
      "[1] 1362\n",
      "[1] 1363\n",
      "[1] 1364\n",
      "[1] 1365\n",
      "[1] 1366\n",
      "[1] 1367\n",
      "[1] 1368\n",
      "[1] 1369\n",
      "[1] 1370\n",
      "[1] 1371\n",
      "[1] 1372\n",
      "[1] 1373\n",
      "[1] 1374\n",
      "[1] 1375\n",
      "[1] 1376\n",
      "[1] 1377\n",
      "[1] 1378\n",
      "[1] 1379\n",
      "[1] 1380\n",
      "[1] 1381\n",
      "[1] 1382\n",
      "[1] 1383\n",
      "[1] 1384\n",
      "[1] 1385\n",
      "[1] 1386\n",
      "[1] 1387\n",
      "[1] 1388\n",
      "[1] 1389\n",
      "[1] 1390\n",
      "[1] 1391\n",
      "[1] 1392\n",
      "[1] 1393\n",
      "[1] 1394\n",
      "[1] 1395\n",
      "[1] 1396\n",
      "[1] 1397\n",
      "[1] 1398\n",
      "[1] 1399\n",
      "[1] 1400\n",
      "[1] 1401\n",
      "[1] 1402\n",
      "[1] 1403\n",
      "[1] 1404\n",
      "[1] 1405\n",
      "[1] 1406\n",
      "[1] 1407\n",
      "[1] 1408\n",
      "[1] 1409\n",
      "[1] 1410\n",
      "[1] 1411\n",
      "[1] 1412\n",
      "[1] 1413\n",
      "[1] 1414\n",
      "[1] 1415\n",
      "[1] 1416\n",
      "[1] 1417\n",
      "[1] 1418\n",
      "[1] 1419\n",
      "[1] 1420\n",
      "[1] 1421\n",
      "[1] 1422\n",
      "[1] 1423\n",
      "[1] 1424\n",
      "[1] 1425\n",
      "[1] 1426\n",
      "[1] 1427\n",
      "[1] 1428\n",
      "[1] 1429\n",
      "[1] 1430\n",
      "[1] 1431\n",
      "[1] 1432\n",
      "[1] 1433\n",
      "[1] 1434\n",
      "[1] 1435\n",
      "[1] 1436\n",
      "[1] 1437\n",
      "[1] 1438\n",
      "[1] 1439\n",
      "[1] 1440\n",
      "[1] 1441\n",
      "[1] 1442\n",
      "[1] 1443\n",
      "[1] 1444\n",
      "[1] 1445\n",
      "[1] 1446\n",
      "[1] 1447\n",
      "[1] 1448\n",
      "[1] 1449\n",
      "[1] 1450\n",
      "[1] 1451\n",
      "[1] 1452\n",
      "[1] 1453\n",
      "[1] 1454\n",
      "[1] 1455\n",
      "[1] 1456\n",
      "[1] 1457\n",
      "[1] 1458\n",
      "[1] 1459\n",
      "[1] 1460\n",
      "[1] 1461\n",
      "[1] 1462\n",
      "[1] 1463\n",
      "[1] 1464\n",
      "[1] 1465\n",
      "[1] 1466\n",
      "[1] 1467\n",
      "[1] 1468\n",
      "[1] 1469\n",
      "[1] 1470\n",
      "[1] 1471\n",
      "[1] 1472\n",
      "[1] 1473\n",
      "[1] 1474\n",
      "[1] 1475\n",
      "[1] 1476\n",
      "[1] 1477\n",
      "[1] 1478\n",
      "[1] 1479\n",
      "[1] 1480\n",
      "[1] 1481\n",
      "[1] 1482\n",
      "[1] 1483\n",
      "[1] 1484\n",
      "[1] 1485\n",
      "[1] 1486\n",
      "[1] 1487\n",
      "[1] 1488\n",
      "[1] 1489\n",
      "[1] 1490\n",
      "[1] 1491\n",
      "[1] 1492\n",
      "[1] 1493\n",
      "[1] 1494\n",
      "[1] 1495\n",
      "[1] 1496\n",
      "[1] 1497\n",
      "[1] 1498\n",
      "[1] 1499\n",
      "[1] 1500\n",
      "[1] 1501\n",
      "[1] 1502\n",
      "[1] 1503\n",
      "[1] 1504\n",
      "[1] 1505\n",
      "[1] 1506\n",
      "[1] 1507\n",
      "[1] 1508\n",
      "[1] 1509\n",
      "[1] 1510\n",
      "[1] 1511\n",
      "[1] 1512\n",
      "[1] 1513\n",
      "[1] 1514\n",
      "[1] 1515\n"
     ]
    }
   ],
   "source": [
    "#In each ATL08 segments, find the LVIS footprint with highest RH98 and calculate the mean ground elevation by\n",
    "#averageing ZG value of all footprints\n",
    "join_table <- data.frame(join_table)\n",
    "seg_ID <- unique(join_table$ID)\n",
    "ATL08_LVIS_table <- array(data = NA, dim = c(length(seg_ID),9))\n",
    "for(i in 1:length(seg_ID)) {\n",
    "    LVIS_ZG <- c(NA)\n",
    "    LVIS_RH98 <- c(NA)\n",
    "    for(j in 1:nrow(join_table)) {\n",
    "       if(join_table$ID[j] == seg_ID[i]) {\n",
    "        LVIS_ZG <- c(LVIS_ZG,join_table$ZG[j])\n",
    "        LVIS_RH98 <- c(LVIS_RH98,join_table$RH098[j]) }\n",
    "    }\n",
    "     ATL08_LVIS_table[i,1] <- seg_ID[i]\n",
    "     ATL08_LVIS_table[i,2] <- mean(join_table$Ground[which(join_table$ID == seg_ID[i])])\n",
    "     ATL08_LVIS_table[i,3] <- mean(join_table$Max_Canopy[which(join_table$ID == seg_ID[i])])\n",
    "     ATL08_LVIS_table[i,4] <- mean(LVIS_ZG[-1])\n",
    "     ATL08_LVIS_table[i,5] <- median(LVIS_ZG[-1])\n",
    "     ATL08_LVIS_table[i,6] <- max(LVIS_RH98[-1])\n",
    "     ATL08_LVIS_table[i,7] <- mean(join_table$time[which(join_table$ID == seg_ID[i])])\n",
    "     ATL08_LVIS_table[i,8] <- mean(join_table$slope[which(join_table$ID == seg_ID[i])])\n",
    "     ATL08_LVIS_table[i,9] <- mean(join_table$cloud[which(join_table$ID == seg_ID[i])])\n",
    "     print(i)\n",
    "}\n"
   ]
  },
  {
   "cell_type": "code",
   "execution_count": 51,
   "id": "regulation-practice",
   "metadata": {},
   "outputs": [],
   "source": [
    "ATL08_LVIS_table <- data.frame(ATL08_LVIS_table)\n",
    "names(ATL08_LVIS_table) <- c(\"ATL08 ID\", \"ATL08 Ground Elevation\",\"ATL08 Canopy Top Height\",\"LVIS mean ZG\",\"LVIS median ZG\",\"LVIS Max RH98\",\"time\",\"slope\",\"cloud\")"
   ]
  },
  {
   "cell_type": "code",
   "execution_count": 54,
   "id": "distinct-england",
   "metadata": {},
   "outputs": [
    {
     "data": {
      "text/html": [],
      "text/latex": [],
      "text/markdown": [],
      "text/plain": [
       "integer(0)"
      ]
     },
     "metadata": {},
     "output_type": "display_data"
    },
    {
     "data": {
      "image/png": "[encoded data removed]",
      "text/plain": [
       "plot without title"
      ]
     },
     "metadata": {
      "image/png": {
       "height": 420,
       "width": 420
      }
     },
     "output_type": "display_data"
    },
    {
     "data": {
      "text/html": [],
      "text/latex": [],
      "text/markdown": [],
      "text/plain": [
       "integer(0)"
      ]
     },
     "metadata": {},
     "output_type": "display_data"
    },
    {
     "data": {
      "image/png": "[encoded data removed]",
      "text/plain": [
       "plot without title"
      ]
     },
     "metadata": {
      "image/png": {
       "height": 420,
       "width": 420
      }
     },
     "output_type": "display_data"
    }
   ],
   "source": [
    "plot(ATL08_LVIS_table$`ATL08 Ground Elevation`,ATL08_LVIS_table$`LVIS mean ZG`,xlab=\"ATL08 Ground Elevation\",ylab=\"LVIS mean ZG\")+abline(a=0,b=1,col='red')\n",
    "plot(ATL08_LVIS_table$`ATL08 Canopy Top Height`[which(ATL08_LVIS_table$cloud==0 & ATL08_LVIS_table$slope==0)],ATL08_LVIS_table$`LVIS Max RH98`[which(ATL08_LVIS_table$cloud==0)],xlab=\"ATL08 Canopy Top Height\",ylab=\"LVIS Maximum RH98\")+abline(a=0,b=1,col='red')"
   ]
  }
 ],
 "metadata": {
  "kernelspec": {
   "display_name": "R [conda env:r-with-gdal]",
   "language": "R",
   "name": "conda-env-r-with-gdal-r"
  },
  "language_info": {
   "codemirror_mode": "r",
   "file_extension": ".r",
   "mimetype": "text/x-r-source",
   "name": "R",
   "pygments_lexer": "r",
   "version": "4.0.5"
  }
 },
 "nbformat": 4,
 "nbformat_minor": 5
}
