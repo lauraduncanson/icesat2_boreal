{
 "cells": [
  {
   "cell_type": "markdown",
   "metadata": {},
   "source": [
    "# Notebook version of 2.3_dps.py, which runs over a single tile\n",
    "#### cant get 2.3_dps.py to work, so alternate approach is to loop over tile ids and return indiv tile CSVs of ATL08"
   ]
  },
  {
   "cell_type": "code",
   "execution_count": 1,
   "metadata": {},
   "outputs": [
    {
     "name": "stderr",
     "output_type": "stream",
     "text": [
      "/projects/.local/lib/python3.7/site-packages/geopandas/_compat.py:110: UserWarning: The Shapely GEOS version (3.8.0-CAPI-1.13.1 ) is incompatible with the GEOS version PyGEOS was compiled with (3.8.1-CAPI-1.13.3). Conversions between both will be slow.\n",
      "  shapely_geos_version, geos_capi_version_string\n"
     ]
    }
   ],
   "source": [
    "#import pdal\n",
    "import json\n",
    "import os\n",
    "import glob\n",
    "import time\n",
    "\n",
    "import itertools\n",
    "\n",
    "import pandas as pd\n",
    "from pyproj import CRS, Transformer\n",
    "\n",
    "# From CovariateUtils\n",
    "import numpy\n",
    "from rasterio import enums\n",
    "from rasterio.io import MemoryFile\n",
    "from rasterio.crs import CRS\n",
    "from rasterio.vrt import WarpedVRT\n",
    "from rasterio.warp import array_bounds, calculate_default_transform\n",
    "import geopandas\n",
    "\n",
    "import folium\n",
    "import shapely as shp\n",
    "\n",
    "import argparse\n",
    "\n",
    "from maap.maap import MAAP\n",
    "maap = MAAP()\n",
    "\n",
    "import sys\n",
    "sys.path.append('/projects/code/icesat2_boreal/notebooks/3.Gridded_product_development')\n",
    "if False:\n",
    "    \n",
    "    sys.path.append('/projects/code/icesat2_boreal/notebooks/2.ICESat-2_processing')\n",
    "\n",
    "    #TODO: how to get this import right if its in a different dir\n",
    "    from CovariateUtils import get_index_tile\n",
    "\n",
    "import ExtractUtils\n",
    "import FilterUtils\n",
    "\n"
   ]
  },
  {
   "cell_type": "code",
   "execution_count": 2,
   "metadata": {},
   "outputs": [
    {
     "data": {
      "text/plain": [
       "[3270, 3366, 3367, 3461, 3462]"
      ]
     },
     "execution_count": 2,
     "metadata": {},
     "output_type": "execute_result"
    }
   ],
   "source": [
    "maap_query = True\n",
    "\n",
    "dps_dir_topo =       '/projects/r2d2/dps_output/do_topo_stack_3-1-5_ubuntu/master/2021/06/18'\n",
    "dps_dir_csv =        '/projects/r2d2/dps_output/run_extract_atl08_orig_ubuntu/master/2021/06/17' #'/projects/jabba/dps_output/2.3_output'#\n",
    "output_dir =         '/projects/jabba/data/out_tiles'\n",
    "topo_stack_list_fn = '/projects/jabba/data/topo_stack_list.csv'\n",
    "csv_list_fn =        '/projects/jabba/data/extract_atl08_csv_list.csv'\n",
    "TEST = False\n",
    "do_30m = True\n",
    "extract_covars = True\n",
    "\n",
    "in_tile_fn =         '/projects/maap-users/alexdevseed/boreal_tiles.gpkg' # '/projects/jabba/data/grid_boreal_albers_100k.gpkg'# \n",
    "in_tile_layer = 'boreal_tiles_albers'\n",
    "\n",
    "thresh_h_can = 100\n",
    "thresh_h_dif = 100\n",
    "month_min = 6\n",
    "month_max = 9\n",
    "\n",
    "date_start = '06-01'\n",
    "date_end = '09-30'\n",
    "years_list = [2019, 2020, 2021]\n",
    "# NA tiles\n",
    "# Read the boreal tile index file\n",
    "\n",
    "boreal_tile_index = geopandas.read_file(in_tile_fn)\n",
    "boreal_tile_index_subset = boreal_tile_index.to_crs(4326).cx[-170:-50, 50:75]\n",
    "\n",
    "# Boreal NA tiles: need just a list of tile_ids\n",
    "INPUT_TILE_NUM_LIST = boreal_tile_index_subset['layer'].astype(int).tolist()\n",
    "\n",
    "INPUT_TILE_NUM_LIST[0:5]\n"
   ]
  },
  {
   "cell_type": "markdown",
   "metadata": {},
   "source": [
    "#### Build the list of extracted CSV paths from DPS and save all paths in a list - glob.glob takes a while - dont do this for each tile"
   ]
  },
  {
   "cell_type": "code",
   "execution_count": 4,
   "metadata": {},
   "outputs": [
    {
     "name": "stdout",
     "output_type": "stream",
     "text": [
      "CPU times: user 5 µs, sys: 3 µs, total: 8 µs\n",
      "Wall time: 9.3 µs\n"
     ]
    }
   ],
   "source": [
    "%%time\n",
    "# This is sloooow\n",
    "def get_atl08_csv_list(dps_dir_csv, seg_str, csv_list_fn):\n",
    "    print(dps_dir_csv + \"/**/ATL08*\" + seg_str + \".csv\") \n",
    "    #seg_str=\"_30m\"\n",
    "    all_atl08_csvs = glob.glob(dps_dir_csv + \"/**/ATL08*\" + seg_str + \".csv\", recursive=True)\n",
    "    print(len(all_atl08_csvs))\n",
    "    all_atl08_csvs_df = pd.DataFrame({\"path\": all_atl08_csvs})\n",
    "    all_atl08_csvs_df.to_csv(csv_list_fn)\n",
    "    return(all_atl08_csvs_df)\n",
    "    \n",
    "def get_topo_stack_list(dps_dir_topo, topo_stack_list_fn):\n",
    "    all_topo_stacks = glob.glob(dps_dir_topo + \"/**/Copernicus_*_covars_cog_topo_stack.tif\", recursive=True)\n",
    "    print(len(all_topo_stacks))\n",
    "    all_topo_stacks_df = pd.DataFrame({\"path\": all_topo_stacks})\n",
    "    all_topo_stacks_df.to_csv(topo_stack_list_fn)\n",
    "    return(all_topo_stacks_df)\n",
    "\n",
    "def get_topo_stack_fn(topo_stack_list_fn, in_tile_num):\n",
    "    # Find most recent topo stack path for tile in list of topo stack paths \n",
    "    all_topo_stacks_df = pd.read_csv(topo_stack_list_fn)\n",
    "    stack_for_tile = all_topo_stacks_df[all_topo_stacks_df['path'].str.contains(\"Copernicus_\"+str(in_tile_num))]\n",
    "    #[print(i) for i in stack_for_tile.path.to_list()]\n",
    "    topo_stack_fn = stack_for_tile.path.to_list()[0]\n",
    "    return(topo_stack_fn)"
   ]
  },
  {
   "cell_type": "markdown",
   "metadata": {},
   "source": [
    "#### Check the CSVs produced from extract_atl08 for a given tile id"
   ]
  },
  {
   "cell_type": "code",
   "execution_count": 7,
   "metadata": {},
   "outputs": [
    {
     "name": "stdout",
     "output_type": "stream",
     "text": [
      "Need to create the csv list file: /projects/jabba/data/extract_atl08_csv_list.csv\n"
     ]
    }
   ],
   "source": [
    "if os.path.isfile(csv_list_fn):\n",
    "\n",
    "    all_atl08_for_tile = ExtractUtils.maap_search_get_h5_list(tile_num=14151, tile_fn=in_tile_fn, layer=in_tile_layer, DATE_START=date_start, DATE_END=date_end, YEARS=years_list)\n",
    "    all_atl08_csvs_df = pd.read_csv(csv_list_fn)\n",
    "\n",
    "    print([print(i) for i in all_atl08_for_tile])\n",
    "\n",
    "    for g in all_atl08_for_tile:\n",
    "        s = g.split(\"_\")[1]\n",
    "        f = all_atl08_csvs_df[all_atl08_csvs_df['path'].str.contains(s)]\n",
    "        if len(f) > 0:\n",
    "            print(f.path.iloc[0])\n",
    "else:\n",
    "    print(f'Need to create the csv list file: {csv_list_fn}')"
   ]
  },
  {
   "cell_type": "markdown",
   "metadata": {},
   "source": [
    "#### Check for duplicate CSVs"
   ]
  },
  {
   "cell_type": "code",
   "execution_count": 130,
   "metadata": {},
   "outputs": [
    {
     "name": "stdout",
     "output_type": "stream",
     "text": [
      "Length of CSV list from extract_atl08: 10513\n",
      "Length of CSV list from extract_atl08 after removing duplicates: 10119\n",
      "# of duplicates in CSV: 394\n"
     ]
    },
    {
     "data": {
      "text/plain": [
       "['ATL08_30m_20190110100101_01980205_003_01_30m.csv',\n",
       " 'ATL08_30m_20181108212000_06300106_003_01_30m.csv',\n",
       " 'ATL08_30m_20181108210401_06300103_003_01_30m.csv',\n",
       " 'ATL08_30m_20181107011951_06020106_003_01_30m.csv',\n",
       " 'ATL08_30m_20181106215518_06000103_003_01_30m.csv',\n",
       " 'ATL08_30m_20181111120611_06700105_003_01_30m.csv',\n",
       " 'ATL08_30m_20181109001236_06320103_003_01_30m.csv',\n",
       " 'ATL08_30m_20181113204035_07060105_003_01_30m.csv',\n",
       " 'ATL08_30m_20181111084701_06680103_003_01_30m.csv',\n",
       " 'ATL08_30m_20181103072045_05450102_003_01_30m.csv']"
      ]
     },
     "execution_count": 130,
     "metadata": {},
     "output_type": "execute_result"
    }
   ],
   "source": [
    "print(f'Length of CSV list from extract_atl08: {len(all_atl08_csvs_df)}')\n",
    "just_basenames = [os.path.basename(all_atl08_csvs_df.path[i]) for i in range(0,len(all_atl08_csvs_df))]\n",
    "no_dups = set(just_basenames)\n",
    "\n",
    "print(f'Length of CSV list from extract_atl08 after removing duplicates: {len(no_dups)}')\n",
    "\n",
    "# Check, and get list of duplicated ATL08 CSVs\n",
    "import collections\n",
    "dups = [item for item, count in collections.Counter(just_basenames).items() if count > 1]\n",
    "print(f'# of duplicates in CSV: {len(dups)}')\n",
    "len(dups)\n",
    "dups[0:10]"
   ]
  },
  {
   "cell_type": "markdown",
   "metadata": {},
   "source": [
    "# Loop over input tiles to output ATL08 tile CSVs"
   ]
  },
  {
   "cell_type": "code",
   "execution_count": 8,
   "metadata": {},
   "outputs": [
    {
     "name": "stdout",
     "output_type": "stream",
     "text": [
      "\n",
      "Doing MAAP query by tile bounds to find all intersecting ATL08 \n",
      "\tTILE_NUM: 14151 (90.5908057715438,69.20064754680081,91.51877055347914,69.52624448724598)\n",
      "\t\t# ATL08 for tile 14151: 38\n",
      "['ATL08_20190617100158_12240305_003_01.h5', 'ATL08_20190620210844_12770303_003_01.h5', 'ATL08_20190621095338_12850305_003_01.h5', 'ATL08_20190624210024_13380303_003_01.h5', 'ATL08_20190716083750_02790405_003_01.h5', 'ATL08_20190719194438_03320403_003_01.h5', 'ATL08_20190720082932_03400405_003_01.h5', 'ATL08_20190723193622_03930403_003_01.h5', 'ATL08_20190724082115_04010405_003_01.h5', 'ATL08_20190727192804_04540403_003_01.h5', 'ATL08_20190818070544_07820405_003_01.h5', 'ATL08_20190821181232_08350403_003_01.h5', 'ATL08_20190822065725_08430405_003_01.h5', 'ATL08_20190825180413_08960403_003_01.h5', 'ATL08_20190916054149_12240405_003_01.h5', 'ATL08_20190919164836_12770403_003_01.h5', 'ATL08_20190920053329_12850405_003_01.h5', 'ATL08_20190923164018_13380403_003_01.h5', 'ATL08_20190927163159_00120503_003_01.h5', 'ATL08_20200614164110_12240705_003_01.h5', 'ATL08_20200618034757_12770703_003_01.h5', 'ATL08_20200618163250_12850705_003_01.h5', 'ATL08_20200622033938_13380703_003_01.h5', 'ATL08_20200626033118_00120803_003_01.h5', 'ATL08_20200713151713_02790805_003_01.h5', 'ATL08_20200717022401_03320803_003_01.h5', 'ATL08_20200717150854_03400805_003_01.h5', 'ATL08_20200721021541_03930803_003_01.h5', 'ATL08_20200721150035_04010805_003_01.h5', 'ATL08_20200725020720_04540803_003_01.h5', 'ATL08_20200815134456_07820805_003_01.h5', 'ATL08_20200819005143_08350803_003_01.h5', 'ATL08_20200819133636_08430805_003_01.h5', 'ATL08_20200823004323_08960803_003_01.h5', 'ATL08_20200913122058_12240805_003_01.h5', 'ATL08_20200917121238_12850805_003_01.h5', 'ATL08_20200920231926_13380803_003_01.h5', 'ATL08_20200924231106_00120903_003_01.h5']\n",
      "/projects/r2d2/dps_output/run_extract_atl08_orig_ubuntu/master/2021/06/17/**/ATL08*_30m.csv\n",
      "10513\n",
      "\tFind ATL08 CSVs you expect for a tile based on the h5 granule search...\n",
      "\t\t# of all ATL08 granules for tile: 38\n",
      "\t\t# of all_atl08_csvs: 10513\n",
      "\t\tATL08 CSVs expected, but NOT FOUND: \n",
      " ['ATL08_30m_20190617100158_12240305_003_01_30m.csv', 'ATL08_30m_20190621095338_12850305_003_01_30m.csv', 'ATL08_30m_20190716083750_02790405_003_01_30m.csv', 'ATL08_30m_20190719194438_03320403_003_01_30m.csv', 'ATL08_30m_20190720082932_03400405_003_01_30m.csv', 'ATL08_30m_20190723193622_03930403_003_01_30m.csv', 'ATL08_30m_20190724082115_04010405_003_01_30m.csv', 'ATL08_30m_20190818070544_07820405_003_01_30m.csv', 'ATL08_30m_20190825180413_08960403_003_01_30m.csv', 'ATL08_30m_20190916054149_12240405_003_01_30m.csv', 'ATL08_30m_20190919164836_12770403_003_01_30m.csv', 'ATL08_30m_20190920053329_12850405_003_01_30m.csv', 'ATL08_30m_20190923164018_13380403_003_01_30m.csv', 'ATL08_30m_20190927163159_00120503_003_01_30m.csv', 'ATL08_30m_20200614164110_12240705_003_01_30m.csv', 'ATL08_30m_20200618034757_12770703_003_01_30m.csv', 'ATL08_30m_20200618163250_12850705_003_01_30m.csv', 'ATL08_30m_20200622033938_13380703_003_01_30m.csv', 'ATL08_30m_20200626033118_00120803_003_01_30m.csv', 'ATL08_30m_20200713151713_02790805_003_01_30m.csv', 'ATL08_30m_20200717022401_03320803_003_01_30m.csv', 'ATL08_30m_20200717150854_03400805_003_01_30m.csv', 'ATL08_30m_20200721021541_03930803_003_01_30m.csv', 'ATL08_30m_20200721150035_04010805_003_01_30m.csv', 'ATL08_30m_20200725020720_04540803_003_01_30m.csv', 'ATL08_30m_20200815134456_07820805_003_01_30m.csv', 'ATL08_30m_20200819005143_08350803_003_01_30m.csv', 'ATL08_30m_20200819133636_08430805_003_01_30m.csv', 'ATL08_30m_20200823004323_08960803_003_01_30m.csv', 'ATL08_30m_20200913122058_12240805_003_01_30m.csv', 'ATL08_30m_20200917121238_12850805_003_01_30m.csv', 'ATL08_30m_20200920231926_13380803_003_01_30m.csv', 'ATL08_30m_20200924231106_00120903_003_01_30m.csv']\n",
      "\t# of ATL08 CSV found for tile 14151: 5\n",
      "\t# of ATL08 CSV NOT found for tile 14151: 33\n",
      "Creating pandas data frame...\n",
      "\n",
      "Pre-filter data cleaning...\n",
      "\tGet beam type from orbit orientation and ground track: ['Weak' 'Strong']\n",
      "\tCast some columns to:\n",
      "\t\ttype float: ['lat', 'lon', 'h_can', 'h_te_best', 'ter_slp']\n",
      "\t\ttype integer: ['n_ca_ph', 'n_seg_ph', 'n_toc_ph']\n",
      "\n",
      "Filtering by tile: 14151\n",
      "[90.5908057715438, 91.51877055347914, 69.20064754680081, 69.52624448724598]\n",
      "\n",
      "Filtering by quality\n",
      "\tBefore quality filtering: \t\t1223 observations in the input dataframe.\n",
      "\tAfter msw_flg=0: \t\t377 observations in the dataframe.\n",
      "\tAfter beam_type=Strong: \t\t357 observations in the dataframe.\n",
      "\tAfter seg_snow=1: \t\t357 observations in the dataframe.\n",
      "\tAfter all quality filtering: \t\t0 observations in the output dataframe.\n",
      "\tReturning a pandas data frame of filtered observations for columns: ['lon', 'lat', 'rh25', 'rh50', 'rh60', 'rh70', 'rh75', 'rh80', 'rh90', 'h_can', 'h_max_can']\n",
      "\tData frame shape: (0, 11) \n",
      "No ATL08 obs. for tile 14151\n",
      "CPU times: user 13 s, sys: 3.88 s, total: 16.9 s\n",
      "Wall time: 52min 5s\n"
     ]
    }
   ],
   "source": [
    "%%time\n",
    "INPUT_TILE_NUM_LIST = range(30823,30824) #, 30543, 30821, 30822, 30823]:\n",
    "INPUT_TILE_NUM_LIST = [14151]#[30542]#[30543]\n",
    "for in_tile_num in INPUT_TILE_NUM_LIST:\n",
    "    \n",
    "    # TODO: make this an arg\n",
    "    years_list = [2019, 2020, 2021]\n",
    "    \n",
    "    seg_str = '_100m'\n",
    "    if do_30m:\n",
    "        seg_str = '_30m'\n",
    "    if TEST:\n",
    "        seg_str = '' \n",
    "    \n",
    "    if maap_query and dps_dir_csv is not None:\n",
    "        \n",
    "        print(\"\\nDoing MAAP query by tile bounds to find all intersecting ATL08 \")\n",
    "        # Get a list of all ATL08 H5 granule names intersecting the tile (this will be a small list)\n",
    "        all_atl08_for_tile = ExtractUtils.maap_search_get_h5_list(tile_num=in_tile_num, tile_fn=in_tile_fn, layer=in_tile_layer, DATE_START=date_start, DATE_END=date_end, YEARS=years_list)\n",
    "        print([os.path.basename(f) for f in all_atl08_for_tile])      \n",
    "        \n",
    "        if not os.path.isfile(csv_list_fn):\n",
    "            all_atl08_csvs_df = get_atl08_csv_list(dps_dir_csv, seg_str, csv_list_fn)\n",
    "        else:\n",
    "            print(f\"\\tReading existing list of ATL08 CSVs: {csv_list_fn}\")\n",
    "            all_atl08_csvs_df = pd.read_csv(csv_list_fn)\n",
    "            \n",
    "        # Find the ATL08 CSVs from extract that are associated with the ATL08 granules that intersect this tile\n",
    "        # These CSvs are nested deep after DPS runs\n",
    "        # They should match all the ATL08 granules, but probably wont bc: (1) did DPS for ATL08 30m fully complete with no fails? (2) did DPS for extract fully complete with no fails?\n",
    "        all_atl08_csvs_FOUND, all_atl08_csvs_NOT_FOUND = FilterUtils.find_atl08_csv_tile(all_atl08_for_tile, all_atl08_csvs_df, seg_str) \n",
    "        \n",
    "        #all_atl08_csvs_FOUND = [x for x in all_atl08_h5_with_csvs_for_tile if x not in all_atl08_csvs_NOT_FOUND]\n",
    "        print(\"\\t# of ATL08 CSV found for tile {}: {}\".format(in_tile_num, len(all_atl08_csvs_FOUND)))\n",
    "        print(\"\\t# of ATL08 CSV NOT found for tile {}: {}\".format(in_tile_num, len(all_atl08_csvs_NOT_FOUND)))\n",
    "        if len(all_atl08_csvs_FOUND) == 0:\n",
    "            print('\\tNo ATL08 extracted for this tile.')\n",
    "            continue\n",
    "        \n",
    "        # Merge all ATL08 CSV files for the current tile into a pandas df\n",
    "        print(\"Creating pandas data frame...\")\n",
    "        atl08 = pd.concat([pd.read_csv(f) for f in all_atl08_csvs_FOUND ], sort=False, ignore_index=True)\n",
    "        atl08 = FilterUtils.prep_filter_atl08_qual(atl08)\n",
    "\n",
    "        print(\"\\nFiltering by tile: {}\".format(in_tile_num))\n",
    "        # Get tile bounds as xmin,xmax,ymin,ymax\n",
    "        tile = ExtractUtils.get_index_tile(in_tile_fn, in_tile_num, buffer=0, layer=in_tile_layer)\n",
    "        in_bounds = FilterUtils.reorder_4326_bounds(tile)\n",
    "        print(in_bounds)\n",
    "        \n",
    "        # Now filter ATL08 obs by tile bounds (changed to a geopandas clip instead of simple bounds approach)\n",
    "        \n",
    "        atl08 = FilterUtils.filter_atl08_bounds_clip(atl08, tile['geom_4326'])\n",
    "        #atl08 = FilterUtils.filter_atl08_bounds(atl08_df=atl08, in_bounds=in_bounds)\n",
    "\n",
    "    elif maap_query and dps_dir_csv is None:\n",
    "        print(\"\\nNo DPS dir specified: cant get ATL08 CSV list to match with tile bound results from MAAP query.\\n\")\n",
    "        #os._exit(1)\n",
    "        continue\n",
    "    else:\n",
    "        # Filter by bounds: EPT with a the bounds from an input tile\n",
    "        atl08 = FilterUtils.filter_atl08_bounds_tile_ept(in_ept_fn, in_tile_fn, in_tile_num, in_tile_layer, output_dir, return_pdf=True)\n",
    "    \n",
    "    # Filter by quality\n",
    "    atl08_pdf_filt = FilterUtils.filter_atl08_qual(atl08, SUBSET_COLS=True, DO_PREP=False,\n",
    "                                                       subset_cols_list=['rh25','rh50','rh60','rh70','rh75','rh80','rh90','h_can','h_max_can'], \n",
    "                                                       filt_cols=['h_can','h_dif_ref','m','msw_flg','beam_type','seg_snow', 'seg_landcov'], \n",
    "                                                       thresh_h_can=100, thresh_h_dif=100, month_min=6, month_max=9)\n",
    "    atl08=None\n",
    "    \n",
    "    # Convert to geopandas data frame in lat/lon\n",
    "    atl08_gdf = geopandas.GeoDataFrame(atl08_pdf_filt, geometry=geopandas.points_from_xy(atl08_pdf_filt.lon, atl08_pdf_filt.lat), crs='epsg:4326')\n",
    "    out_name_stem = \"atl08_filt\"\n",
    "    atl08_pdf_filt=None\n",
    "    \n",
    "    if extract_covars and len(atl08_gdf) > 0:\n",
    "        ### Below here should be re-worked to follow final chunk of nb 2.3 (6/15/2021)\n",
    "        #\n",
    "        # Extract topo covar values to ATL08 obs (doing a reproject to tile crs)\n",
    "        # TODO: consider just running 3.1.5_dpy.py here to produce this topo stack right before extracting its values\n",
    "        #topo_covar_fn = do_3_1_5_dp.main(in_tile_fn=in_tile_fn, in_tile_num=in_tile_num, tile_buffer_m=120, in_tile_layer=in_tile_layer, topo_tile_fn='https://maap-ops-dataset.s3.amazonaws.com/maap-users/alexdevseed/dem30m_tiles.geojson')\n",
    "        topo_covar_fn = FilterUtils.get_topo_stack_fn(topo_stack_list_fn, in_tile_num)\n",
    "        \n",
    "        if topo_covar_fn is not None:\n",
    "            atl08_gdf = ExtractUtils.extract_value_gdf(topo_covar_fn, atl08_gdf, [\"elevation\",\"slope\",\"tsri\",\"tpi\", \"slopemask\"], reproject=True)\n",
    "            out_name_stem = out_name_stem + \"_topo\"\n",
    "\n",
    "        if False:\n",
    "            # Extract landsat covar values to ATL08 obs\n",
    "            # TODO: consider just running 3.1.2_dpy.py here\n",
    "            landsat_covar_fn = do_3_1_2_dps.main(in_tile_fn=in_tile_fn, in_tile_num=in_tile_num, in_tile_layer=in_tile_layer, sat_api='https://landsatlook.usgs.gov/sat-api', local=args.local)\n",
    "            atl08_gdf = ExtractUtils.extract_value_gdf(landsat_covar_fn, atl08_gdf, ['Blue', 'Green', 'Red', 'NIR', 'SWIR', 'NDVI', 'SAVI', 'MSAVI', 'NDMI', 'EVI', 'NBR', 'NBR2', 'TCB', 'TCG', 'TCW', 'ValidMask', 'Xgeo', 'Ygeo'], reproject=False)\n",
    "            out_name_stem = out_name_stem + \"_landsat\"\n",
    "        \n",
    "    if len(atl08_gdf) == 0:\n",
    "        print(f\"No ATL08 obs. for tile {in_tile_num}\")\n",
    "    else:\n",
    "        # CSV the file\n",
    "        cur_time = time.strftime(\"%Y%m%d\") #\"%Y%m%d%H%M%S\"\n",
    "        out_fn = os.path.join(output_dir, out_name_stem + \"_\" + cur_time + \"_\" + str(in_tile_num) )\n",
    "        atl08_gdf.to_csv(out_fn+\".csv\", index=False, encoding=\"utf-8-sig\")\n",
    "        atl08_gdf.to_file(out_fn+'.geojson', driver=\"GeoJSON\")\n",
    "\n",
    "        print(\"Wrote output csv/geojson of filtered ATL08 obs with topo and Landsat covariates for tile {}: {}\".format(in_tile_num, out_fn) )"
   ]
  },
  {
   "cell_type": "markdown",
   "metadata": {},
   "source": [
    "# Map checks"
   ]
  },
  {
   "cell_type": "code",
   "execution_count": 18,
   "metadata": {},
   "outputs": [
    {
     "name": "stdout",
     "output_type": "stream",
     "text": [
      "<class 'geopandas.geodataframe.GeoDataFrame'>\n",
      "Int64Index: 0 entries\n",
      "Data columns (total 12 columns):\n",
      " #   Column     Non-Null Count  Dtype   \n",
      "---  ------     --------------  -----   \n",
      " 0   lon        0 non-null      float64 \n",
      " 1   lat        0 non-null      float64 \n",
      " 2   rh25       0 non-null      float64 \n",
      " 3   rh50       0 non-null      float64 \n",
      " 4   rh60       0 non-null      float64 \n",
      " 5   rh70       0 non-null      float64 \n",
      " 6   rh75       0 non-null      float64 \n",
      " 7   rh80       0 non-null      float64 \n",
      " 8   rh90       0 non-null      float64 \n",
      " 9   h_can      0 non-null      float64 \n",
      " 10  h_max_can  0 non-null      float64 \n",
      " 11  geometry   0 non-null      geometry\n",
      "dtypes: float64(11), geometry(1)\n",
      "memory usage: 0.0 bytes\n",
      "[83.28732668968276, 43.77415885922252, 83.70052750715054, 44.08299617564999]\n"
     ]
    },
    {
     "data": {
      "text/html": [
       "<div style=\"width:100%;\"><div style=\"position:relative;width:100%;height:0;padding-bottom:60%;\"><span style=\"color:#565656\">Make this Notebook Trusted to load map: File -> Trust Notebook</span><iframe src=\"about:blank\" style=\"position:absolute;width:100%;height:100%;left:0;top:0;border:none !important;\" data-html=%3C%21DOCTYPE%20html%3E%0A%3Chead%3E%20%20%20%20%0A%20%20%20%20%3Cmeta%20http-equiv%3D%22content-type%22%20content%3D%22text/html%3B%20charset%3DUTF-8%22%20/%3E%0A%20%20%20%20%0A%20%20%20%20%20%20%20%20%3Cscript%3E%0A%20%20%20%20%20%20%20%20%20%20%20%20L_NO_TOUCH%20%3D%20false%3B%0A%20%20%20%20%20%20%20%20%20%20%20%20L_DISABLE_3D%20%3D%20false%3B%0A%20%20%20%20%20%20%20%20%3C/script%3E%0A%20%20%20%20%0A%20%20%20%20%3Cstyle%3Ehtml%2C%20body%20%7Bwidth%3A%20100%25%3Bheight%3A%20100%25%3Bmargin%3A%200%3Bpadding%3A%200%3B%7D%3C/style%3E%0A%20%20%20%20%3Cstyle%3E%23map%20%7Bposition%3Aabsolute%3Btop%3A0%3Bbottom%3A0%3Bright%3A0%3Bleft%3A0%3B%7D%3C/style%3E%0A%20%20%20%20%3Cscript%20src%3D%22https%3A//cdn.jsdelivr.net/npm/leaflet%401.6.0/dist/leaflet.js%22%3E%3C/script%3E%0A%20%20%20%20%3Cscript%20src%3D%22https%3A//code.jquery.com/jquery-1.12.4.min.js%22%3E%3C/script%3E%0A%20%20%20%20%3Cscript%20src%3D%22https%3A//maxcdn.bootstrapcdn.com/bootstrap/3.2.0/js/bootstrap.min.js%22%3E%3C/script%3E%0A%20%20%20%20%3Cscript%20src%3D%22https%3A//cdnjs.cloudflare.com/ajax/libs/Leaflet.awesome-markers/2.0.2/leaflet.awesome-markers.js%22%3E%3C/script%3E%0A%20%20%20%20%3Clink%20rel%3D%22stylesheet%22%20href%3D%22https%3A//cdn.jsdelivr.net/npm/leaflet%401.6.0/dist/leaflet.css%22/%3E%0A%20%20%20%20%3Clink%20rel%3D%22stylesheet%22%20href%3D%22https%3A//maxcdn.bootstrapcdn.com/bootstrap/3.2.0/css/bootstrap.min.css%22/%3E%0A%20%20%20%20%3Clink%20rel%3D%22stylesheet%22%20href%3D%22https%3A//maxcdn.bootstrapcdn.com/bootstrap/3.2.0/css/bootstrap-theme.min.css%22/%3E%0A%20%20%20%20%3Clink%20rel%3D%22stylesheet%22%20href%3D%22https%3A//maxcdn.bootstrapcdn.com/font-awesome/4.6.3/css/font-awesome.min.css%22/%3E%0A%20%20%20%20%3Clink%20rel%3D%22stylesheet%22%20href%3D%22https%3A//cdnjs.cloudflare.com/ajax/libs/Leaflet.awesome-markers/2.0.2/leaflet.awesome-markers.css%22/%3E%0A%20%20%20%20%3Clink%20rel%3D%22stylesheet%22%20href%3D%22https%3A//cdn.jsdelivr.net/gh/python-visualization/folium/folium/templates/leaflet.awesome.rotate.min.css%22/%3E%0A%20%20%20%20%0A%20%20%20%20%20%20%20%20%20%20%20%20%3Cmeta%20name%3D%22viewport%22%20content%3D%22width%3Ddevice-width%2C%0A%20%20%20%20%20%20%20%20%20%20%20%20%20%20%20%20initial-scale%3D1.0%2C%20maximum-scale%3D1.0%2C%20user-scalable%3Dno%22%20/%3E%0A%20%20%20%20%20%20%20%20%20%20%20%20%3Cstyle%3E%0A%20%20%20%20%20%20%20%20%20%20%20%20%20%20%20%20%23map_f84fe0a4ed704d6a8f42807c80bafbdb%20%7B%0A%20%20%20%20%20%20%20%20%20%20%20%20%20%20%20%20%20%20%20%20position%3A%20relative%3B%0A%20%20%20%20%20%20%20%20%20%20%20%20%20%20%20%20%20%20%20%20width%3A%20100.0%25%3B%0A%20%20%20%20%20%20%20%20%20%20%20%20%20%20%20%20%20%20%20%20height%3A%20100.0%25%3B%0A%20%20%20%20%20%20%20%20%20%20%20%20%20%20%20%20%20%20%20%20left%3A%200.0%25%3B%0A%20%20%20%20%20%20%20%20%20%20%20%20%20%20%20%20%20%20%20%20top%3A%200.0%25%3B%0A%20%20%20%20%20%20%20%20%20%20%20%20%20%20%20%20%7D%0A%20%20%20%20%20%20%20%20%20%20%20%20%3C/style%3E%0A%20%20%20%20%20%20%20%20%0A%3C/head%3E%0A%3Cbody%3E%20%20%20%20%0A%20%20%20%20%0A%20%20%20%20%20%20%20%20%20%20%20%20%3Cdiv%20class%3D%22folium-map%22%20id%3D%22map_f84fe0a4ed704d6a8f42807c80bafbdb%22%20%3E%3C/div%3E%0A%20%20%20%20%20%20%20%20%0A%3C/body%3E%0A%3Cscript%3E%20%20%20%20%0A%20%20%20%20%0A%20%20%20%20%20%20%20%20%20%20%20%20var%20map_f84fe0a4ed704d6a8f42807c80bafbdb%20%3D%20L.map%28%0A%20%20%20%20%20%20%20%20%20%20%20%20%20%20%20%20%22map_f84fe0a4ed704d6a8f42807c80bafbdb%22%2C%0A%20%20%20%20%20%20%20%20%20%20%20%20%20%20%20%20%7B%0A%20%20%20%20%20%20%20%20%20%20%20%20%20%20%20%20%20%20%20%20center%3A%20%5B43.92875525680898%2C%2083.49344282572504%5D%2C%0A%20%20%20%20%20%20%20%20%20%20%20%20%20%20%20%20%20%20%20%20crs%3A%20L.CRS.EPSG3857%2C%0A%20%20%20%20%20%20%20%20%20%20%20%20%20%20%20%20%20%20%20%20zoom%3A%2011%2C%0A%20%20%20%20%20%20%20%20%20%20%20%20%20%20%20%20%20%20%20%20zoomControl%3A%20true%2C%0A%20%20%20%20%20%20%20%20%20%20%20%20%20%20%20%20%20%20%20%20preferCanvas%3A%20false%2C%0A%20%20%20%20%20%20%20%20%20%20%20%20%20%20%20%20%7D%0A%20%20%20%20%20%20%20%20%20%20%20%20%29%3B%0A%0A%20%20%20%20%20%20%20%20%20%20%20%20%0A%0A%20%20%20%20%20%20%20%20%0A%20%20%20%20%0A%20%20%20%20%20%20%20%20%20%20%20%20var%20tile_layer_d1ae5414ea4a4d76b272b724ae15e934%20%3D%20L.tileLayer%28%0A%20%20%20%20%20%20%20%20%20%20%20%20%20%20%20%20%22https%3A//cartodb-basemaps-%7Bs%7D.global.ssl.fastly.net/light_all/%7Bz%7D/%7Bx%7D/%7By%7D.png%22%2C%0A%20%20%20%20%20%20%20%20%20%20%20%20%20%20%20%20%7B%22attribution%22%3A%20%22%5Cu0026copy%3B%20%5Cu003ca%20href%3D%5C%22http%3A//www.openstreetmap.org/copyright%5C%22%5Cu003eOpenStreetMap%5Cu003c/a%5Cu003e%20contributors%20%5Cu0026copy%3B%20%5Cu003ca%20href%3D%5C%22http%3A//cartodb.com/attributions%5C%22%5Cu003eCartoDB%5Cu003c/a%5Cu003e%2C%20CartoDB%20%5Cu003ca%20href%20%3D%5C%22http%3A//cartodb.com/attributions%5C%22%5Cu003eattributions%5Cu003c/a%5Cu003e%22%2C%20%22detectRetina%22%3A%20false%2C%20%22maxNativeZoom%22%3A%2018%2C%20%22maxZoom%22%3A%2018%2C%20%22minZoom%22%3A%200%2C%20%22noWrap%22%3A%20false%2C%20%22opacity%22%3A%201%2C%20%22subdomains%22%3A%20%22abc%22%2C%20%22tms%22%3A%20false%7D%0A%20%20%20%20%20%20%20%20%20%20%20%20%29.addTo%28map_f84fe0a4ed704d6a8f42807c80bafbdb%29%3B%0A%20%20%20%20%20%20%20%20%0A%20%20%20%20%0A%0A%20%20%20%20%20%20%20%20function%20geo_json_86db7b573259407ab6bab1241d3f964e_onEachFeature%28feature%2C%20layer%29%20%7B%0A%20%20%20%20%20%20%20%20%20%20%20%20layer.on%28%7B%0A%20%20%20%20%20%20%20%20%20%20%20%20%7D%29%3B%0A%20%20%20%20%20%20%20%20%7D%3B%0A%20%20%20%20%20%20%20%20var%20geo_json_86db7b573259407ab6bab1241d3f964e%20%3D%20L.geoJson%28null%2C%20%7B%0A%20%20%20%20%20%20%20%20%20%20%20%20%20%20%20%20onEachFeature%3A%20geo_json_86db7b573259407ab6bab1241d3f964e_onEachFeature%2C%0A%20%20%20%20%20%20%20%20%20%20%20%20%0A%20%20%20%20%20%20%20%20%7D%29%3B%0A%0A%20%20%20%20%20%20%20%20function%20geo_json_86db7b573259407ab6bab1241d3f964e_add%20%28data%29%20%7B%0A%20%20%20%20%20%20%20%20%20%20%20%20geo_json_86db7b573259407ab6bab1241d3f964e%0A%20%20%20%20%20%20%20%20%20%20%20%20%20%20%20%20.addData%28data%29%0A%20%20%20%20%20%20%20%20%20%20%20%20%20%20%20%20.addTo%28map_f84fe0a4ed704d6a8f42807c80bafbdb%29%3B%0A%20%20%20%20%20%20%20%20%7D%0A%20%20%20%20%20%20%20%20%20%20%20%20geo_json_86db7b573259407ab6bab1241d3f964e_add%28%7B%22bbox%22%3A%20%5BNaN%2C%20NaN%2C%20NaN%2C%20NaN%5D%2C%20%22features%22%3A%20%5B%5D%2C%20%22type%22%3A%20%22FeatureCollection%22%7D%29%3B%0A%0A%20%20%20%20%20%20%20%20%0A%20%20%20%20%0A%20%20%20%20%20%20%20%20function%20geo_json_910380c91cc24d41a26dcb176b996e29_styler%28feature%29%20%7B%0A%20%20%20%20%20%20%20%20%20%20%20%20switch%28feature.id%29%20%7B%0A%20%20%20%20%20%20%20%20%20%20%20%20%20%20%20%20default%3A%0A%20%20%20%20%20%20%20%20%20%20%20%20%20%20%20%20%20%20%20%20return%20%7B%22color%22%3A%20%22%23ff0000%22%2C%20%22fillColor%22%3A%20%22%23ff0000%22%7D%3B%0A%20%20%20%20%20%20%20%20%20%20%20%20%7D%0A%20%20%20%20%20%20%20%20%7D%0A%0A%20%20%20%20%20%20%20%20function%20geo_json_910380c91cc24d41a26dcb176b996e29_onEachFeature%28feature%2C%20layer%29%20%7B%0A%20%20%20%20%20%20%20%20%20%20%20%20layer.on%28%7B%0A%20%20%20%20%20%20%20%20%20%20%20%20%7D%29%3B%0A%20%20%20%20%20%20%20%20%7D%3B%0A%20%20%20%20%20%20%20%20var%20geo_json_910380c91cc24d41a26dcb176b996e29%20%3D%20L.geoJson%28null%2C%20%7B%0A%20%20%20%20%20%20%20%20%20%20%20%20%20%20%20%20onEachFeature%3A%20geo_json_910380c91cc24d41a26dcb176b996e29_onEachFeature%2C%0A%20%20%20%20%20%20%20%20%20%20%20%20%0A%20%20%20%20%20%20%20%20%20%20%20%20%20%20%20%20style%3A%20geo_json_910380c91cc24d41a26dcb176b996e29_styler%2C%0A%20%20%20%20%20%20%20%20%7D%29%3B%0A%0A%20%20%20%20%20%20%20%20function%20geo_json_910380c91cc24d41a26dcb176b996e29_add%20%28data%29%20%7B%0A%20%20%20%20%20%20%20%20%20%20%20%20geo_json_910380c91cc24d41a26dcb176b996e29%0A%20%20%20%20%20%20%20%20%20%20%20%20%20%20%20%20.addData%28data%29%0A%20%20%20%20%20%20%20%20%20%20%20%20%20%20%20%20.addTo%28map_f84fe0a4ed704d6a8f42807c80bafbdb%29%3B%0A%20%20%20%20%20%20%20%20%7D%0A%20%20%20%20%20%20%20%20%20%20%20%20geo_json_910380c91cc24d41a26dcb176b996e29_add%28%7B%22features%22%3A%20%5B%7B%22geometry%22%3A%20%7B%22coordinates%22%3A%20%5B%5B%5B83.70052750715054%2C%2043.77415885922252%5D%2C%20%5B83.70052750715054%2C%2044.08299617564999%5D%2C%20%5B83.28732668968276%2C%2044.08299617564999%5D%2C%20%5B83.28732668968276%2C%2043.77415885922252%5D%2C%20%5B83.70052750715054%2C%2043.77415885922252%5D%5D%5D%2C%20%22type%22%3A%20%22Polygon%22%7D%2C%20%22id%22%3A%20%220%22%2C%20%22type%22%3A%20%22Feature%22%7D%5D%2C%20%22type%22%3A%20%22FeatureCollection%22%7D%29%3B%0A%0A%20%20%20%20%20%20%20%20%0A%20%20%20%20%0A%20%20%20%20%20%20%20%20function%20geo_json_4fa813d957be4b6da862aaef7daa2870_styler%28feature%29%20%7B%0A%20%20%20%20%20%20%20%20%20%20%20%20switch%28feature.id%29%20%7B%0A%20%20%20%20%20%20%20%20%20%20%20%20%20%20%20%20default%3A%0A%20%20%20%20%20%20%20%20%20%20%20%20%20%20%20%20%20%20%20%20return%20%7B%22color%22%3A%20%22green%22%2C%20%22fillColor%22%3A%20%22green%22%7D%3B%0A%20%20%20%20%20%20%20%20%20%20%20%20%7D%0A%20%20%20%20%20%20%20%20%7D%0A%0A%20%20%20%20%20%20%20%20function%20geo_json_4fa813d957be4b6da862aaef7daa2870_onEachFeature%28feature%2C%20layer%29%20%7B%0A%20%20%20%20%20%20%20%20%20%20%20%20layer.on%28%7B%0A%20%20%20%20%20%20%20%20%20%20%20%20%7D%29%3B%0A%20%20%20%20%20%20%20%20%7D%3B%0A%20%20%20%20%20%20%20%20var%20geo_json_4fa813d957be4b6da862aaef7daa2870%20%3D%20L.geoJson%28null%2C%20%7B%0A%20%20%20%20%20%20%20%20%20%20%20%20%20%20%20%20onEachFeature%3A%20geo_json_4fa813d957be4b6da862aaef7daa2870_onEachFeature%2C%0A%20%20%20%20%20%20%20%20%20%20%20%20%0A%20%20%20%20%20%20%20%20%20%20%20%20%20%20%20%20style%3A%20geo_json_4fa813d957be4b6da862aaef7daa2870_styler%2C%0A%20%20%20%20%20%20%20%20%7D%29%3B%0A%0A%20%20%20%20%20%20%20%20function%20geo_json_4fa813d957be4b6da862aaef7daa2870_add%20%28data%29%20%7B%0A%20%20%20%20%20%20%20%20%20%20%20%20geo_json_4fa813d957be4b6da862aaef7daa2870%0A%20%20%20%20%20%20%20%20%20%20%20%20%20%20%20%20.addData%28data%29%0A%20%20%20%20%20%20%20%20%20%20%20%20%20%20%20%20.addTo%28map_f84fe0a4ed704d6a8f42807c80bafbdb%29%3B%0A%20%20%20%20%20%20%20%20%7D%0A%20%20%20%20%20%20%20%20%20%20%20%20geo_json_4fa813d957be4b6da862aaef7daa2870_add%28%7B%22bbox%22%3A%20%5B83.28732668968276%2C%2043.77415885922252%2C%2083.70052750715054%2C%2044.08299617564999%5D%2C%20%22features%22%3A%20%5B%7B%22bbox%22%3A%20%5B83.28732668968276%2C%2043.77415885922252%2C%2083.70052750715054%2C%2044.08299617564999%5D%2C%20%22geometry%22%3A%20%7B%22coordinates%22%3A%20%5B%5B%5B83.28732668968276%2C%2043.81080414793117%5D%2C%20%5B83.3354964524457%2C%2044.08299617564999%5D%2C%20%5B83.70052750715054%2C%2044.046185203446555%5D%2C%20%5B83.65042064594175%2C%2043.77415885922252%5D%2C%20%5B83.28732668968276%2C%2043.81080414793117%5D%5D%5D%2C%20%22type%22%3A%20%22Polygon%22%7D%2C%20%22id%22%3A%20%2214550%22%2C%20%22properties%22%3A%20%7B%22layer%22%3A%2014551.0%7D%2C%20%22type%22%3A%20%22Feature%22%7D%5D%2C%20%22type%22%3A%20%22FeatureCollection%22%7D%29%3B%0A%0A%20%20%20%20%20%20%20%20%0A%3C/script%3E onload=\"this.contentDocument.open();this.contentDocument.write(    decodeURIComponent(this.getAttribute('data-html')));this.contentDocument.close();\" allowfullscreen webkitallowfullscreen mozallowfullscreen></iframe></div></div>"
      ],
      "text/plain": [
       "<folium.folium.Map at 0x7fe414e38ed0>"
      ]
     },
     "execution_count": 18,
     "metadata": {},
     "output_type": "execute_result"
    }
   ],
   "source": [
    "atl08_gdf.info()\n",
    "boreal_tile_index_orig = geopandas.read_file('/projects/maap-users/alexdevseed/boreal_tiles.gpkg')\n",
    "\n",
    "#tile_parts = ExtractUtils.get_index_tile(in_tile_fn, in_tile_num, buffer=0, layer=in_tile_layer)\n",
    "#atl08_filt_test = pd.read_csv('/projects/jabba/data/atl08_filt_30543_topo_landsat_20210608185220.csv')\n",
    "#atl08_filt_test_gdf = geopandas.GeoDataFrame(atl08_filt_test, crs='epsg:4326', geometry=geopandas.points_from_xy(atl08_filt_test.lon, atl08_filt_test.lat))\n",
    "\n",
    "# Reformat bbox\n",
    "bbox_list = tile[\"bbox_4326\"]\n",
    "print(bbox_list)\n",
    "center = tile[\"geom_orig\"].centroid.to_crs(4326)\n",
    "\n",
    "m = folium.Map(\n",
    "    # Zoom to center\n",
    "    location=[center.y,center.x],\n",
    "    # Zoom to corner\n",
    "    #location=[bbox_list[1], bbox_list[2]],\n",
    "    tiles=\"cartodbpositron\",\n",
    "    zoom_start=11,\n",
    ")\n",
    "\n",
    "geom_style = {'fillColor': 'green', 'color': 'green'}\n",
    "bbox_style = {'fillColor': '#ff0000', 'color': '#ff0000'}\n",
    "bbox_buf_style = {'fillColor': '#fdae61', 'color': '#fdae61'}\n",
    "\n",
    "#folium.GeoJson(boreal_tile_index_orig, name='tiles').add_to(m)\n",
    "\n",
    "folium.GeoJson(atl08_gdf, name=\"ATL08\").add_to(m)\n",
    "#folium.GeoJson(atl08_filt_test_gdf, name=\"ATL08\").add_to(m)\n",
    "folium.GeoJson(shp.geometry.box(*bbox_list), \n",
    "               name=\"bbox\",\n",
    "               style_function=lambda x:bbox_style).add_to(m)\n",
    "folium.GeoJson(tile['geom_4326'], name='tile', style_function=lambda x:geom_style).add_to(m)\n",
    "m"
   ]
  },
  {
   "cell_type": "markdown",
   "metadata": {},
   "source": [
    "# Debugging..."
   ]
  },
  {
   "cell_type": "code",
   "execution_count": 7,
   "metadata": {},
   "outputs": [],
   "source": [
    "if False:\n",
    "    import pandas as pd\n",
    "    import FilterUtils\n",
    "\n",
    "    all_atl08_csvs_FOUND = ['/projects/r2d2/dps_output/run_extract_atl08_orig_ubuntu/master/2021/06/17/22/56/24/607120/ATL08_30m_20190621110851_12860302_003_01_30m.csv', \n",
    "                            '/projects/r2d2/dps_output/run_extract_atl08_orig_ubuntu/master/2021/06/17/23/12/32/945664/ATL08_30m_20190818082057_07830402_003_01_30m.csv', \n",
    "                            '/projects/r2d2/dps_output/run_extract_atl08_orig_ubuntu/master/2021/06/17/23/11/17/197105/ATL08_30m_20190822081238_08440402_003_01_30m.csv']\n",
    "    atl08_tmp = pd.concat([pd.read_csv(f) for f in all_atl08_csvs_FOUND ], sort=False, ignore_index=True)\n",
    "    in_bounds = [-117.10749852280769, -116.50936927974429, 50.78795362739066, 51.16389512140189]\n",
    "    atl08_tmp = atl08_tmp[(atl08_tmp.lat > in_bounds[2]) &\n",
    "                           (atl08_tmp.lat < in_bounds[3]) &\n",
    "                           (atl08_tmp.lon > in_bounds[0]) &\n",
    "                           (atl08_tmp.lon < in_bounds[1])\n",
    "                                   ]\n",
    "    \n",
    "    print('DEBUG FilterUtils.prep_filter_atl08_qual')\n",
    "    atl08_tmp = FilterUtils.prep_filter_atl08_qual(atl08_tmp)\n",
    "    print(len(atl08_tmp))\n",
    "  "
   ]
  }
 ],
 "metadata": {
  "kernelspec": {
   "display_name": "Python 3",
   "language": "python",
   "name": "python3"
  },
  "language_info": {
   "codemirror_mode": {
    "name": "ipython",
    "version": 3
   },
   "file_extension": ".py",
   "mimetype": "text/x-python",
   "name": "python",
   "nbconvert_exporter": "python",
   "pygments_lexer": "ipython3",
   "version": "3.7.8"
  }
 },
 "nbformat": 4,
 "nbformat_minor": 4
}
