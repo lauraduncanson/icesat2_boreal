{
 "cells": [
  {
   "cell_type": "markdown",
   "id": "7992334a",
   "metadata": {},
   "source": [
    "# Launch DPS for tile_atl08.py"
   ]
  },
  {
   "cell_type": "code",
   "execution_count": 4,
   "id": "55a9fe95",
   "metadata": {},
   "outputs": [],
   "source": [
    "import os\n",
    "import geopandas\n",
    "import pandas as pd\n",
    "from maap.maap import MAAP\n",
    "maap = MAAP()"
   ]
  },
  {
   "cell_type": "code",
   "execution_count": 6,
   "id": "8bec8f4e",
   "metadata": {},
   "outputs": [],
   "source": [
    "def get_stack_fn(stack_list_fn, in_tile_num):\n",
    "    # Find most recent topo/Landsat stack path for tile in list of stack paths from *tindex_master.csv\n",
    "    all_stacks_df = pd.read_csv(stack_list_fn)\n",
    "    stack_for_tile = all_stacks_df[all_stacks_df['location'].str.contains(\"_\"+str(in_tile_num))]\n",
    "    [print(i) for i in stack_for_tile.path.to_list()]\n",
    "    stack_for_tile_fn = stack_for_tile.path.to_list()[0]\n",
    "    if len(stack_for_tile)==0:\n",
    "        stack_for_tile_fn = None\n",
    "    return(stack_for_tile_fn)\n",
    "\n",
    "# nmt added: code that returns df of landsat locations and tile number\n",
    "# This is basically CountOutput.py\n",
    "def get_stack_df(dps_dir, TYPE):\n",
    "    \n",
    "    if \"Landsat\" in TYPE:\n",
    "        root = f\"/projects/my-private-bucket/dps_output/do_landsat_stack_3-1-2_ubuntu/ops/{args.dps_year}/\"\n",
    "        ends_with_str = \"_dps.tif\"\n",
    "    if \"Topo\" in TYPE:\n",
    "        root = f\"/projects/my-private-bucket/dps_output/do_topo_stack_3-1-5_ubuntu/ops/{args.dps_year}/\"\n",
    "        ends_with_str = \"_stack.tif\"\n",
    "    if \"ATL08\" in TYPE:\n",
    "        root = f\"/projects/my-private-bucket/dps_output/run_extract_ubuntu/ops/{args.dps_year}/\"\n",
    "        ends_with_str = \"0m.csv\"\n",
    "            \n",
    "    df = pd.DataFrame(columns=['location', 'tile_num'])\n",
    "\n",
    "    for dir, subdir, files in os.walk(root):\n",
    "        for fname in files:\n",
    "            if fname.endswith(ends_with_str): \n",
    "                 \n",
    "                tile_num = fname.split('_')[1]\n",
    "                   \n",
    "                if \"ATL08\" in TYPE:\n",
    "                    df = df.append({'location':os.path.join(dir+\"/\", fname)},ignore_index=True)\n",
    "                else:\n",
    "                    df = df.append({'location':os.path.join(dir+\"/\", fname), 'tile_num':tile_num},ignore_index=True)\n",
    "        \n",
    "    return df\n",
    "\n",
    "# Topo and Landsat tindex_master csvs from CountOutput.py\n",
    "topo_tindex = \"/projects/my-public-bucket/DPS_tile_lists/Topo_tindex_master.csv\"\n",
    "landsat_tindex = \"/projects/my-public-bucket/DPS_tile_lists/Landsat_tindex_master.csv\"\n",
    "\n",
    "# Model-read subset of tiles for which Topo and Landsat coincide\n",
    "model_ready_tiles_topo = \"/projects/my-public-bucket/DPS_tile_lists/model_ready_tiles_topo_paths.csv\"\n",
    "model_ready_tiles_landsat = \"/projects/my-public-bucket/DPS_tile_lists/model_ready_tiles_landsat_paths.csv\""
   ]
  },
  {
   "cell_type": "markdown",
   "id": "0be543f0",
   "metadata": {},
   "source": [
    "## Get df's from tindex_master csvs for Topo and Landsat tiles"
   ]
  },
  {
   "cell_type": "code",
   "execution_count": 5,
   "id": "757be065",
   "metadata": {},
   "outputs": [],
   "source": [
    "if os.path.isfile(landsat_tindex) and os.path.isfile(topo_tindex):\n",
    "    ls8_df = pd.read_csv(landsat_tindex)\n",
    "    topo_df = pd.read_csv(topo_tindex)\n",
    "else:\n",
    "    s3_stem = 'https://s3.console.aws.amazon.com/s3/buckets/maap-ops-workspace/nathanmthomas'\n",
    "    local_stem = '/projects/my-private-bucket'\n",
    "\n",
    "    ls8_root =  s3_stem + '/dps_output/do_landsat_stack_3-1-2_ubuntu'\n",
    "    topo_root = s3_stem + '/dps_output/do_topo_stack_3-1-5_ubuntu'\n",
    "    \n",
    "    ls8_df = get_stack_df(ls8_root, \"Landsat\")\n",
    "    topo_df = get_stack_df(topo_root, \"Topo\")"
   ]
  },
  {
   "cell_type": "markdown",
   "id": "a377257d",
   "metadata": {},
   "source": [
    "## Get tile nums for coincident Topo and Landsat tiles"
   ]
  },
  {
   "cell_type": "code",
   "execution_count": 7,
   "id": "c11252ed",
   "metadata": {},
   "outputs": [
    {
     "name": "stdout",
     "output_type": "stream",
     "text": [
      "                                            location  tile_num\n",
      "0  /projects/my-private-bucket/dps_output/do_land...     986.0\n",
      "1  /projects/my-private-bucket/dps_output/do_land...     987.0\n",
      "2  /projects/my-private-bucket/dps_output/do_land...     979.0\n",
      "3  /projects/my-private-bucket/dps_output/do_land...     984.0\n",
      "4  /projects/my-private-bucket/dps_output/do_land...     982.0\n",
      "                                            location tile_num\n",
      "0  /projects/my-private-bucket/dps_output/do_topo...      986\n",
      "1  /projects/my-private-bucket/dps_output/do_topo...      987\n",
      "2  /projects/my-private-bucket/dps_output/do_topo...      979\n",
      "3  /projects/my-private-bucket/dps_output/do_topo...      984\n",
      "4  /projects/my-private-bucket/dps_output/do_topo...      982\n",
      "4465 4465\n"
     ]
    }
   ],
   "source": [
    "# added by nmt: get filenames of co-incident landsat and topo\n",
    "\n",
    "topo_sub_df = pd.DataFrame(columns=['location','tile_num'])\n",
    "ls8_sub_df = pd.DataFrame(columns=['location','tile_num'])\n",
    "\n",
    "for i in range(len(ls8_df['tile_num'])):\n",
    "    ls_tile_num = ls8_df['tile_num'][i]\n",
    "    for j in range(len(topo_df['tile_num'])):\n",
    "        topo_tile_num = topo_df['tile_num'][j]\n",
    "        if ls_tile_num == topo_tile_num:\n",
    "            ls8_sub_df = ls8_sub_df.append({'location':ls8_df['location'][i],'tile_num':ls8_df['tile_num'][i]}, ignore_index=True)\n",
    "            topo_sub_df = topo_sub_df.append({'location':topo_df['location'][j],'tile_num':topo_df['tile_num'][j]}, ignore_index=True)\n",
    "\n",
    "ls8_sub_df['tile_num'] = ls8_sub_df['tile_num'].astype(float, errors = 'raise')\n",
    "print(ls8_sub_df.head())\n",
    "print(topo_sub_df.head())\n",
    "print(len(ls8_sub_df),len(topo_sub_df))\n",
    "\n",
    "topo_sub_df.to_csv( model_ready_tiles_topo, index=False, encoding='utf-8-sig')\n",
    "ls8_sub_df.to_csv( model_ready_tiles_landsat, index=False, encoding='utf-8-sig')"
   ]
  },
  {
   "cell_type": "code",
   "execution_count": 18,
   "id": "db315a78",
   "metadata": {},
   "outputs": [
    {
     "data": {
      "text/plain": [
       "[986, 987, 979, 984, 982]"
      ]
     },
     "execution_count": 18,
     "metadata": {},
     "output_type": "execute_result"
    }
   ],
   "source": [
    "INPUT_TILE_NUM_LIST = topo_sub_df['tile_num'].values.astype(int).tolist()\n",
    "INPUT_TILE_NUM_LIST[0:5]"
   ]
  },
  {
   "cell_type": "markdown",
   "id": "e51deb4e",
   "metadata": {},
   "source": [
    "## Run a single DPS job to test"
   ]
  },
  {
   "cell_type": "markdown",
   "id": "61489f34",
   "metadata": {},
   "source": [
    "#### TODO: the chunk below will be wrangled into shape by LD and PM"
   ]
  },
  {
   "cell_type": "code",
   "execution_count": null,
   "id": "785e3dca",
   "metadata": {},
   "outputs": [],
   "source": [
    "#\"https://maap-ops-workspace.s3.amazonaws.com.com/lduncanson\"\n",
    "#s3_stem = 'https://s3.console.aws.amazon.com/s3/buckets/maap-ops-workspace/nathanmthomas'\n",
    "#local_stem = '/projects/my-private-bucket'\n",
    "\n",
    "if RUN_DPS:\n",
    "    ##################################\n",
    "    #Test DPS submission on a single file\n",
    "    INPUT_TILE_NUM = INPUT_TILE_NUM_LIST[0]\n",
    "    \n",
    "    in_param_dict = {\n",
    "                        'in_tile_num': INPUT_TILE_NUM,\n",
    "                        'in_tile_fn': \"/projects/my-public-bucket/boreal_grid_albers90k_gpkg.gpkg\",\n",
    "                        'in_tile_layer': \"grid_boreal_albers90k_gpkg\",\n",
    "                        'csv_list_fn': , # This should be created once above to be referenced in every subsequent DPS run\n",
    "                        'topo_stack_list_fn': \"/projects/my-public-bucket/DPS_tile_lists/Topo_tindex_master.csv\",\n",
    "                        'landsat_stack_list_fn\": \"/projects/my-public-bucket/DPS_tile_lists/Landsat_tindex_master.csv\",'\n",
    "    }\n",
    "\n",
    "    submit_result = maap.submitJob(\n",
    "        identifier='run_tile_atl08_ubuntu',\n",
    "        algo_id='run_tile_atl08_ubuntu',\n",
    "        version='master',\n",
    "        username='lduncanson', # username needs to be the same as whoever created the workspace\n",
    "        queue='maap-dps-worker-8gb',\n",
    "        **in_param_dict\n",
    "    )\n",
    "    \n",
    "    print(submit_result)\n",
    "    "
   ]
  },
  {
   "cell_type": "markdown",
   "id": "890d08af",
   "metadata": {},
   "source": [
    "## DPS over input tiles to output ATL08 tile CSVs"
   ]
  }
 ],
 "metadata": {
  "kernelspec": {
   "display_name": "Python 3",
   "language": "python",
   "name": "python3"
  },
  "language_info": {
   "codemirror_mode": {
    "name": "ipython",
    "version": 3
   },
   "file_extension": ".py",
   "mimetype": "text/x-python",
   "name": "python",
   "nbconvert_exporter": "python",
   "pygments_lexer": "ipython3",
   "version": "3.7.8"
  }
 },
 "nbformat": 4,
 "nbformat_minor": 5
}
