{
 "cells": [
  {
   "cell_type": "markdown",
   "id": "899de8a9-bda8-439a-a207-fc9a991704e0",
   "metadata": {},
   "source": [
    "# Build a tile index (`tindex`) for a set of DPS output"
   ]
  },
  {
   "cell_type": "code",
   "execution_count": 1,
   "id": "1f24d282-6264-4224-bd31-63c3471a4446",
   "metadata": {
    "tags": []
   },
   "outputs": [],
   "source": [
    "from maap.maap import MAAP\n",
    "#maap = MAAP(\"api.maap-project.org\")\n",
    "maap = MAAP()"
   ]
  },
  {
   "cell_type": "code",
   "execution_count": 2,
   "id": "6f8cefaa-aace-4214-ac9b-eac3975cf304",
   "metadata": {
    "tags": []
   },
   "outputs": [],
   "source": [
    "ICESAT2_BOREAL_REPO_PATH = '/projects/code/icesat2_boreal'     \n",
    "ICESAT2_BOREAL_LIB_PATH = ICESAT2_BOREAL_REPO_PATH + '/lib'"
   ]
  },
  {
   "cell_type": "code",
   "execution_count": 3,
   "id": "51bba78e-19c3-47e5-8f81-ee856bac0285",
   "metadata": {
    "tags": []
   },
   "outputs": [
    {
     "name": "stdout",
     "output_type": "stream",
     "text": [
      "Importing packages complete.\n"
     ]
    }
   ],
   "source": [
    "import geopandas as gpd\n",
    "import pandas as pd\n",
    "import os\n",
    "import json\n",
    "import collections\n",
    "import numpy as np\n",
    "import sys\n",
    "import s3fs\n",
    "import matplotlib.pyplot as plt\n",
    "\n",
    "sys.path.append(ICESAT2_BOREAL_LIB_PATH)\n",
    "import maplib_folium\n",
    "from folium import TileLayer\n",
    "print(\"Importing packages complete.\")"
   ]
  },
  {
   "cell_type": "code",
   "execution_count": 4,
   "id": "dc99e4ea-5012-477f-b0c7-cbcaa0919ddb",
   "metadata": {
    "tags": []
   },
   "outputs": [
    {
     "data": {
      "text/plain": [
       "<module 'maplib_folium' from '/projects/code/icesat2_boreal/lib/maplib_folium.py'>"
      ]
     },
     "execution_count": 4,
     "metadata": {},
     "output_type": "execute_result"
    }
   ],
   "source": [
    "import importlib\n",
    "import mosaiclib\n",
    "importlib.reload(mosaiclib)\n",
    "importlib.reload(maplib_folium)"
   ]
  },
  {
   "cell_type": "code",
   "execution_count": 96,
   "id": "0fdaaba5-2b8a-4da0-98e0-05eb401d2069",
   "metadata": {
    "tags": []
   },
   "outputs": [],
   "source": [
    "import mosaiclib\n",
    "from mosaiclib import *"
   ]
  },
  {
   "cell_type": "markdown",
   "id": "5e3ce932-4967-4443-a8ff-5b54b27f37dd",
   "metadata": {},
   "source": [
    "## Build new tindex and MosiacJSONs"
   ]
  },
  {
   "cell_type": "code",
   "execution_count": 78,
   "id": "90ec7e31-d794-400e-8665-47b70dadf4bf",
   "metadata": {
    "tags": []
   },
   "outputs": [],
   "source": [
    "DICT_BUILD_TINDEX = {\n",
    "    'SET' : 'BOREAL_MAP_TEST',\n",
    "    'USER' : 'lduncanson',\n",
    "    'ALG_NAME' : 'run_boreal_biomass_map',\n",
    "    'ALG_VERSION' : 'boreal_agb_2024_v6', \n",
    "    'VAR' : 'AGB',\n",
    "    'VAR' : 'HT',\n",
    "    # In my bucket, this is ALWAYS used to identify output\n",
    "    #'BATCH_NAME' : 'AGB_L30_2020/min_n_1000_funks', #min_n_1000_funks min_n_5000_funks\n",
    "    #'BATCH_NAME' : 'AGB_H30_2020/outlier_remove_fullboreal',\n",
    "    'BATCH_NAME' : 'AGB_H30_2020/Version2_SD',\n",
    "    'BATCH_NAME' : 'Ht_H30_2020/Version2_SD',\n",
    "    'YEAR': 2024,\n",
    "    'DPS_MONTH_LIST' : '07 08 09',        \n",
    "    'DPS_DAY_MIN' : 1 ,\n",
    "    'TILES_INDEX_PATH': boreal_tile_index_path\n",
    "}"
   ]
  },
  {
   "cell_type": "code",
   "execution_count": 79,
   "id": "8c69300e-ee77-4bc4-a59f-14e2b4078c15",
   "metadata": {
    "tags": []
   },
   "outputs": [
    {
     "data": {
      "text/plain": [
       "{'SET': 'BOREAL_MAP_TEST',\n",
       " 'USER': 'lduncanson',\n",
       " 'ALG_NAME': 'run_boreal_biomass_map',\n",
       " 'ALG_VERSION': 'boreal_agb_2024_v6',\n",
       " 'VAR': 'HT',\n",
       " 'BATCH_NAME': 'Ht_H30_2020/Version2_SD',\n",
       " 'YEAR': 2024,\n",
       " 'DPS_MONTH_LIST': '07 08 09',\n",
       " 'DPS_DAY_MIN': 1,\n",
       " 'TILES_INDEX_PATH': '/projects/shared-buckets/montesano/databank/boreal_tiles_v004.gpkg'}"
      ]
     },
     "execution_count": 79,
     "metadata": {},
     "output_type": "execute_result"
    }
   ],
   "source": [
    "DICT_BUILD_TINDEX"
   ]
  },
  {
   "cell_type": "code",
   "execution_count": 102,
   "id": "3329c3b8-9505-47b8-9463-bbe78ce3830d",
   "metadata": {
    "tags": []
   },
   "outputs": [
    {
     "name": "stdout",
     "output_type": "stream",
     "text": [
      "NASA MAAP\n",
      "INFO: Pandarallel will run on 25 workers.\n",
      "INFO: Pandarallel will use Memory file system to transfer data between the main process and workers.\n",
      "NASA MAAP\n",
      "\n",
      "Building a list of tiles:\n",
      "DPS ID:\t\tboreal_agb_2024_v6/Ht_H30_2020/Version2_SD\n",
      "Type:\t\tHT\n",
      "Year:\t\t['2024']\n",
      "Month:\t\t['07', '08', '09']\n",
      "Days:\t\t1-31\n",
      "\n",
      "Output dir:  /projects/my-public-bucket/DPS_tile_lists/BOREAL_MAP_TEST/boreal_agb_2024_v6/Ht_H30_2020/Version2_SD\n",
      "\n",
      "No duplicates found.\n",
      "\n",
      "# of duplicate tiles: 0\n",
      "Final # of tiles: 4873\n",
      "Writing duplicates csv: /projects/my-public-bucket/DPS_tile_lists/BOREAL_MAP_TEST/boreal_agb_2024_v6/Ht_H30_2020/Version2_SD/HT_tindex_master_duplicates.csv\n",
      "Writing tindex master csv: /projects/my-public-bucket/DPS_tile_lists/BOREAL_MAP_TEST/boreal_agb_2024_v6/Ht_H30_2020/Version2_SD/HT_tindex_master.csv\n",
      "Building geodataframe of matches, tindex master json, and mosaic json...\n",
      "Tile index matches geodataframe for json: (4873, 7)\n",
      "Building /projects/my-public-bucket/DPS_tile_lists/BOREAL_MAP_TEST/boreal_agb_2024_v6/Ht_H30_2020/Version2_SD/HT_tindex_master_mosaic.json\n",
      "Writing tindex matches from master json to gpkg: /projects/my-public-bucket/DPS_tile_lists/BOREAL_MAP_TEST/boreal_agb_2024_v6/Ht_H30_2020/Version2_SD/HT_tindex_master.gpkg\n",
      "\n",
      "real\t0m51.650s\n",
      "user\t0m15.264s\n",
      "sys\t0m3.733s\n",
      "CPU times: user 474 ms, sys: 221 ms, total: 695 ms\n",
      "Wall time: 52.1 s\n"
     ]
    }
   ],
   "source": [
    "%%time\n",
    "if True:\n",
    "    DPS_IDENTIFIER = f\"{DICT_BUILD_TINDEX['ALG_VERSION']}/{DICT_BUILD_TINDEX['BATCH_NAME']}\"\n",
    "\n",
    "    OUTDIR = f\"/projects/my-public-bucket/DPS_tile_lists/{DICT_BUILD_TINDEX['SET']}/{DPS_IDENTIFIER}\"\n",
    "    !mkdir -p $OUTDIR\n",
    "\n",
    "    # Build tindex\n",
    "    args = f\"--RETURN_DUPS --user {DICT_BUILD_TINDEX['USER']} --dps_identifier {DPS_IDENTIFIER} \\\n",
    "    -alg_name {DICT_BUILD_TINDEX['ALG_NAME']} -t {DICT_BUILD_TINDEX['VAR']} -y 2024 \\\n",
    "    --dps_month_list {DICT_BUILD_TINDEX['DPS_MONTH_LIST']} -d_min {DICT_BUILD_TINDEX['DPS_DAY_MIN']} --outdir {OUTDIR} \\\n",
    "    -boreal_tile_index_path {DICT_BUILD_TINDEX['TILES_INDEX_PATH']}\"\n",
    "\n",
    "    !time /projects/env/above/bin/python /projects/code/icesat2_boreal/lib/build_tindex_master.py $args --WRITE_TINDEX_MATCHES_GDF"
   ]
  },
  {
   "cell_type": "markdown",
   "id": "9e7bbf13-bd87-4e46-9056-baf9db468dbe",
   "metadata": {},
   "source": [
    "### Check the tindex"
   ]
  },
  {
   "cell_type": "code",
   "execution_count": 97,
   "id": "8cb0ed35-e7ff-4166-89a5-d89973d03a8e",
   "metadata": {
    "tags": []
   },
   "outputs": [
    {
     "data": {
      "text/plain": [
       "'/projects/my-public-bucket/DPS_tile_lists/BOREAL_MAP_TEST/boreal_agb_2024_v6/Ht_H30_2020/Version2_SD/HT_tindex_master.csv'"
      ]
     },
     "execution_count": 97,
     "metadata": {},
     "output_type": "execute_result"
    }
   ],
   "source": [
    "fn = os.path.join(OUTDIR,f\"{DICT_BUILD_TINDEX['VAR']}_tindex_master.csv\")\n",
    "fn"
   ]
  },
  {
   "cell_type": "code",
   "execution_count": 98,
   "id": "1566f79a-6ca0-4b1f-98c0-f1ca30e071ae",
   "metadata": {
    "tags": []
   },
   "outputs": [],
   "source": [
    "tindex_df = pd.read_csv(fn)"
   ]
  },
  {
   "cell_type": "code",
   "execution_count": 99,
   "id": "aa59502f-cf38-42f5-b975-350aa6a5ad35",
   "metadata": {
    "tags": []
   },
   "outputs": [
    {
     "data": {
      "text/plain": [
       "(2504, 5)"
      ]
     },
     "execution_count": 99,
     "metadata": {},
     "output_type": "execute_result"
    }
   ],
   "source": [
    "tindex_df.shape"
   ]
  },
  {
   "cell_type": "code",
   "execution_count": 86,
   "id": "3811ecff-89b5-4aff-aff9-9e53a9b7ffef",
   "metadata": {
    "tags": []
   },
   "outputs": [
    {
     "data": {
      "text/html": [
       "<div>\n",
       "<style scoped>\n",
       "    .dataframe tbody tr th:only-of-type {\n",
       "        vertical-align: middle;\n",
       "    }\n",
       "\n",
       "    .dataframe tbody tr th {\n",
       "        vertical-align: top;\n",
       "    }\n",
       "\n",
       "    .dataframe thead th {\n",
       "        text-align: right;\n",
       "    }\n",
       "</style>\n",
       "<table border=\"1\" class=\"dataframe\">\n",
       "  <thead>\n",
       "    <tr style=\"text-align: right;\">\n",
       "      <th></th>\n",
       "      <th>index</th>\n",
       "      <th>s3_path</th>\n",
       "      <th>local_path</th>\n",
       "      <th>file</th>\n",
       "      <th>tile_num</th>\n",
       "    </tr>\n",
       "  </thead>\n",
       "  <tbody>\n",
       "    <tr>\n",
       "      <th>1627</th>\n",
       "      <td>1627</td>\n",
       "      <td>s3://maap-ops-workspace/lduncanson/dps_output/...</td>\n",
       "      <td>/projects/my-private-bucket/dps_output/run_bor...</td>\n",
       "      <td>boreal_ht_2020_202408281724859081_0004107.tif</td>\n",
       "      <td>4107</td>\n",
       "    </tr>\n",
       "    <tr>\n",
       "      <th>1628</th>\n",
       "      <td>1628</td>\n",
       "      <td>s3://maap-ops-workspace/lduncanson/dps_output/...</td>\n",
       "      <td>/projects/my-private-bucket/dps_output/run_bor...</td>\n",
       "      <td>boreal_ht_2020_202408281724859219_0004344.tif</td>\n",
       "      <td>4344</td>\n",
       "    </tr>\n",
       "    <tr>\n",
       "      <th>1629</th>\n",
       "      <td>1629</td>\n",
       "      <td>s3://maap-ops-workspace/lduncanson/dps_output/...</td>\n",
       "      <td>/projects/my-private-bucket/dps_output/run_bor...</td>\n",
       "      <td>boreal_ht_2020_202408281724859222_0003840.tif</td>\n",
       "      <td>3840</td>\n",
       "    </tr>\n",
       "    <tr>\n",
       "      <th>1630</th>\n",
       "      <td>1630</td>\n",
       "      <td>s3://maap-ops-workspace/lduncanson/dps_output/...</td>\n",
       "      <td>/projects/my-private-bucket/dps_output/run_bor...</td>\n",
       "      <td>boreal_ht_2020_202408281724859622_0001796.tif</td>\n",
       "      <td>1796</td>\n",
       "    </tr>\n",
       "    <tr>\n",
       "      <th>1631</th>\n",
       "      <td>1631</td>\n",
       "      <td>s3://maap-ops-workspace/lduncanson/dps_output/...</td>\n",
       "      <td>/projects/my-private-bucket/dps_output/run_bor...</td>\n",
       "      <td>boreal_ht_2020_202408281724860455_0004176.tif</td>\n",
       "      <td>4176</td>\n",
       "    </tr>\n",
       "  </tbody>\n",
       "</table>\n",
       "</div>"
      ],
      "text/plain": [
       "      index                                            s3_path  \\\n",
       "1627   1627  s3://maap-ops-workspace/lduncanson/dps_output/...   \n",
       "1628   1628  s3://maap-ops-workspace/lduncanson/dps_output/...   \n",
       "1629   1629  s3://maap-ops-workspace/lduncanson/dps_output/...   \n",
       "1630   1630  s3://maap-ops-workspace/lduncanson/dps_output/...   \n",
       "1631   1631  s3://maap-ops-workspace/lduncanson/dps_output/...   \n",
       "\n",
       "                                             local_path  \\\n",
       "1627  /projects/my-private-bucket/dps_output/run_bor...   \n",
       "1628  /projects/my-private-bucket/dps_output/run_bor...   \n",
       "1629  /projects/my-private-bucket/dps_output/run_bor...   \n",
       "1630  /projects/my-private-bucket/dps_output/run_bor...   \n",
       "1631  /projects/my-private-bucket/dps_output/run_bor...   \n",
       "\n",
       "                                               file  tile_num  \n",
       "1627  boreal_ht_2020_202408281724859081_0004107.tif      4107  \n",
       "1628  boreal_ht_2020_202408281724859219_0004344.tif      4344  \n",
       "1629  boreal_ht_2020_202408281724859222_0003840.tif      3840  \n",
       "1630  boreal_ht_2020_202408281724859622_0001796.tif      1796  \n",
       "1631  boreal_ht_2020_202408281724860455_0004176.tif      4176  "
      ]
     },
     "execution_count": 86,
     "metadata": {},
     "output_type": "execute_result"
    }
   ],
   "source": [
    "tindex_df.tail()"
   ]
  },
  {
   "cell_type": "code",
   "execution_count": 54,
   "id": "ba491827-c46f-46f2-a318-fe3eaa0ea114",
   "metadata": {
    "tags": []
   },
   "outputs": [],
   "source": [
    "tindex_gdf = gpd.read_file(os.path.join(OUTDIR,f\"{DICT_BUILD_TINDEX['VAR']}_tindex_master.gpkg\"))"
   ]
  },
  {
   "cell_type": "code",
   "execution_count": 91,
   "id": "61e5046d-25d3-4e44-93a7-37d4a99b9fc2",
   "metadata": {
    "tags": []
   },
   "outputs": [],
   "source": [
    "#tindex_gdf.explore()"
   ]
  },
  {
   "cell_type": "code",
   "execution_count": null,
   "id": "01e51b96-8159-46b5-bd04-6ec9ce6f7445",
   "metadata": {},
   "outputs": [],
   "source": []
  }
 ],
 "metadata": {
  "kernelspec": {
   "display_name": "Python 3 (ipykernel)",
   "language": "python",
   "name": "python3"
  },
  "language_info": {
   "codemirror_mode": {
    "name": "ipython",
    "version": 3
   },
   "file_extension": ".py",
   "mimetype": "text/x-python",
   "name": "python",
   "nbconvert_exporter": "python",
   "pygments_lexer": "ipython3",
   "version": "3.10.13"
  }
 },
 "nbformat": 4,
 "nbformat_minor": 5
}
