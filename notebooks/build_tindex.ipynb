{
 "cells": [
  {
   "cell_type": "markdown",
   "id": "899de8a9-bda8-439a-a207-fc9a991704e0",
   "metadata": {},
   "source": [
    "# Build a tile index (`tindex`) for a set of DPS output"
   ]
  },
  {
   "cell_type": "code",
   "execution_count": null,
   "id": "1f24d282-6264-4224-bd31-63c3471a4446",
   "metadata": {
    "tags": []
   },
   "outputs": [],
   "source": [
    "from maap.maap import MAAP\n",
    "maap = MAAP()"
   ]
  },
  {
   "cell_type": "code",
   "execution_count": null,
   "id": "6f8cefaa-aace-4214-ac9b-eac3975cf304",
   "metadata": {
    "tags": []
   },
   "outputs": [],
   "source": [
    "ICESAT2_BOREAL_REPO_PATH = '/projects/code/icesat2_boreal'     \n",
    "ICESAT2_BOREAL_LIB_PATH = ICESAT2_BOREAL_REPO_PATH + '/lib'"
   ]
  },
  {
   "cell_type": "code",
   "execution_count": null,
   "id": "51bba78e-19c3-47e5-8f81-ee856bac0285",
   "metadata": {
    "tags": []
   },
   "outputs": [],
   "source": [
    "import geopandas as gpd\n",
    "import pandas as pd\n",
    "import os\n",
    "\n",
    "import sys\n",
    "import s3fs\n",
    "\n",
    "sys.path.append(ICESAT2_BOREAL_LIB_PATH)\n",
    "\n",
    "print(\"Importing packages complete.\")"
   ]
  },
  {
   "cell_type": "code",
   "execution_count": null,
   "id": "8ab3082a-efe9-4992-aaf2-8586469da909",
   "metadata": {
    "tags": []
   },
   "outputs": [],
   "source": [
    "!pip install cogeo_mosaic"
   ]
  },
  {
   "cell_type": "code",
   "execution_count": null,
   "id": "dc99e4ea-5012-477f-b0c7-cbcaa0919ddb",
   "metadata": {
    "tags": []
   },
   "outputs": [],
   "source": [
    "import importlib\n",
    "import mosaiclib\n",
    "import maplib_folium\n",
    "importlib.reload(mosaiclib)\n",
    "importlib.reload(maplib_folium)"
   ]
  },
  {
   "cell_type": "code",
   "execution_count": null,
   "id": "0fdaaba5-2b8a-4da0-98e0-05eb401d2069",
   "metadata": {
    "tags": []
   },
   "outputs": [],
   "source": [
    "import mosaiclib\n",
    "from mosaiclib import *"
   ]
  },
  {
   "cell_type": "markdown",
   "id": "5e3ce932-4967-4443-a8ff-5b54b27f37dd",
   "metadata": {},
   "source": [
    "## Build new tindex and MosiacJSONs"
   ]
  },
  {
   "cell_type": "code",
   "execution_count": null,
   "id": "0177ad23-821e-4c20-bdc2-0a2175775f99",
   "metadata": {
    "tags": []
   },
   "outputs": [],
   "source": [
    "DICT_BUILD_TINDEX_ATL08_FILT = {\n",
    "  'SET': 'ATL08',\n",
    " 'USER': 'montesano',\n",
    " 'ALG_NAME': 'run_extract_atl08_covars', \n",
    " 'ALG_VERSION': 'extract_atl08_covars',\n",
    " 'VAR': 'ATL08_filt_extract',\n",
    " 'BATCH_NAME': '2020',\n",
    " 'YEAR': 2024,\n",
    " 'DPS_MONTH_LIST': '02 03',\n",
    " 'DPS_DAY_MIN': 1,\n",
    " 'TILES_INDEX_PATH': '/projects/shared-buckets/montesano/databank/boreal_tiles_v004_model_ready.gpkg'\n",
    "}"
   ]
  },
  {
   "cell_type": "code",
   "execution_count": null,
   "id": "90ec7e31-d794-400e-8665-47b70dadf4bf",
   "metadata": {
    "tags": []
   },
   "outputs": [],
   "source": [
    "DICT_BUILD_TINDEX_AGB = {\n",
    "    'SET' : 'BOREAL_MAP',\n",
    "    'USER' : 'lduncanson',\n",
    "    'ALG_NAME' : 'run_boreal_biomass_map',\n",
    "    'ALG_VERSION' : 'boreal_agb_2024_v6', \n",
    "    'VAR' : 'AGB',\n",
    "    'BATCH_NAME' : 'AGB_H30_2020/Version2_SD',\n",
    "    'YEAR': 2024,\n",
    "    'DPS_MONTH_LIST' : '07 08 09 10',        \n",
    "    'DPS_DAY_MIN' : 1 ,\n",
    "    'TILES_INDEX_PATH': boreal_tile_index_path\n",
    "}\n",
    "DICT_BUILD_TINDEX_HT = {\n",
    "    'SET' : 'BOREAL_MAP_CHECK',\n",
    "    'USER' : 'lduncanson',\n",
    "    'ALG_NAME' : 'run_boreal_biomass_map',\n",
    "    'ALG_VERSION' : 'boreal_agb_2024_v6', \n",
    "    'VAR' : 'HT',\n",
    "    'BATCH_NAME' : 'Ht_H30_2020/Version2_SD',\n",
    "    'YEAR': 2024,\n",
    "    'DPS_MONTH_LIST' : '09 10', #'07 08 09 10',        \n",
    "    'DPS_DAY_MIN' : 1 ,\n",
    "    'TILES_INDEX_PATH': boreal_tile_index_path\n",
    "}"
   ]
  },
  {
   "cell_type": "code",
   "execution_count": null,
   "id": "8c69300e-ee77-4bc4-a59f-14e2b4078c15",
   "metadata": {
    "tags": []
   },
   "outputs": [],
   "source": [
    "DICT_BUILD_TINDEX = DICT_BUILD_TINDEX_ATL08_FILT\n",
    "DICT_BUILD_TINDEX = DICT_BUILD_TINDEX_HT"
   ]
  },
  {
   "cell_type": "code",
   "execution_count": null,
   "id": "3329c3b8-9505-47b8-9463-bbe78ce3830d",
   "metadata": {
    "tags": []
   },
   "outputs": [],
   "source": [
    "%%time\n",
    "if True:\n",
    "    DPS_IDENTIFIER = f\"{DICT_BUILD_TINDEX['ALG_VERSION']}/{DICT_BUILD_TINDEX['BATCH_NAME']}\"\n",
    "\n",
    "    OUTDIR = f\"/projects/my-public-bucket/DPS_tile_lists/{DICT_BUILD_TINDEX['SET']}/{DPS_IDENTIFIER}\"\n",
    "    !mkdir -p $OUTDIR\n",
    "\n",
    "    # Build tindex\n",
    "    args = f\"--RETURN_DUPS --user {DICT_BUILD_TINDEX['USER']} --dps_identifier {DPS_IDENTIFIER} \\\n",
    "    -alg_name {DICT_BUILD_TINDEX['ALG_NAME']} -t {DICT_BUILD_TINDEX['VAR']} -y {DICT_BUILD_TINDEX['YEAR']} \\\n",
    "    --dps_month_list {DICT_BUILD_TINDEX['DPS_MONTH_LIST']} -d_min {DICT_BUILD_TINDEX['DPS_DAY_MIN']} --outdir {OUTDIR} \\\n",
    "    -boreal_tile_index_path {DICT_BUILD_TINDEX['TILES_INDEX_PATH']}\"\n",
    "\n",
    "    !time /projects/env/above/bin/python /projects/code/icesat2_boreal/lib/build_tindex_master.py $args --WRITE_TINDEX_MATCHES_GDF"
   ]
  },
  {
   "cell_type": "markdown",
   "id": "9e7bbf13-bd87-4e46-9056-baf9db468dbe",
   "metadata": {},
   "source": [
    "### Check the tindex"
   ]
  },
  {
   "cell_type": "code",
   "execution_count": null,
   "id": "8cb0ed35-e7ff-4166-89a5-d89973d03a8e",
   "metadata": {
    "tags": []
   },
   "outputs": [],
   "source": [
    "fn_ht  = 's3://maap-ops-workspace/shared/montesano/DPS_tile_lists/BOREAL_MAP/boreal_agb_2024_v6/Ht_H30_2020/Version2_SD/HT_tindex_master.csv' #os.path.join(OUTDIR,\"HT_tindex_master.csv\")\n",
    "fn_agb = 's3://maap-ops-workspace/shared/montesano/DPS_tile_lists/BOREAL_MAP/boreal_agb_2024_v6/AGB_H30_2020/Version2_SD/AGB_tindex_master.csv'"
   ]
  },
  {
   "cell_type": "code",
   "execution_count": null,
   "id": "1566f79a-6ca0-4b1f-98c0-f1ca30e071ae",
   "metadata": {
    "tags": []
   },
   "outputs": [],
   "source": [
    "tindex_ht = pd.read_csv(fn_ht)\n",
    "tindex_agb = pd.read_csv(fn_agb)"
   ]
  },
  {
   "cell_type": "code",
   "execution_count": null,
   "id": "aa59502f-cf38-42f5-b975-350aa6a5ad35",
   "metadata": {
    "tags": []
   },
   "outputs": [],
   "source": [
    "tindex_ht.shape"
   ]
  },
  {
   "cell_type": "code",
   "execution_count": null,
   "id": "883a7314-5544-4de9-95a2-17fd685a9cb4",
   "metadata": {
    "tags": []
   },
   "outputs": [],
   "source": [
    "tindex_agb.shape"
   ]
  },
  {
   "cell_type": "code",
   "execution_count": null,
   "id": "ba491827-c46f-46f2-a318-fe3eaa0ea114",
   "metadata": {
    "tags": []
   },
   "outputs": [],
   "source": [
    "boreal_tiles = gpd.read_file(boreal_tile_index_path.replace('.gpkg','_model_ready.gpkg'))\n",
    "boreal_tiles_orig = gpd.read_file(boreal_tile_index_path)"
   ]
  },
  {
   "cell_type": "code",
   "execution_count": null,
   "id": "bd22b277-07a9-4696-bb1c-f6e15e829c8a",
   "metadata": {
    "tags": []
   },
   "outputs": [],
   "source": [
    "MISSING_LIST_AGB = boreal_tiles[~boreal_tiles.tile_num.isin(tindex_agb.tile_num.to_list())].tile_num.to_list()\n",
    "MISSING_LIST_AGB"
   ]
  },
  {
   "cell_type": "code",
   "execution_count": null,
   "id": "6998b56e-4962-47d4-93e0-3cf316534611",
   "metadata": {
    "tags": []
   },
   "outputs": [],
   "source": [
    "MISSING_LIST_HT = boreal_tiles[~boreal_tiles.tile_num.isin(tindex_ht.tile_num.to_list())].tile_num.to_list()\n",
    "MISSING_LIST_HT"
   ]
  },
  {
   "cell_type": "code",
   "execution_count": null,
   "id": "c79720fe-68fa-4ac2-b1e1-ff42069d38c9",
   "metadata": {
    "tags": []
   },
   "outputs": [],
   "source": [
    "ATL08_FILT_TINDEX_FN_DICT['2020']"
   ]
  },
  {
   "cell_type": "code",
   "execution_count": null,
   "id": "fce7af59-8745-409a-af26-680fcc368349",
   "metadata": {
    "tags": []
   },
   "outputs": [],
   "source": [
    "tindex_atl08 = pd.read_csv(ATL08_FILT_TINDEX_FN_DICT['2020'])\n",
    "ATL08_TILES = tindex_atl08.tile_num.to_list()\n",
    "len(ATL08_TILES)"
   ]
  },
  {
   "cell_type": "code",
   "execution_count": null,
   "id": "d600b12b-3673-4705-9043-0aae475c6878",
   "metadata": {},
   "outputs": [],
   "source": [
    "tindex_atl08[tindex_atl08.tile_num.isin([23497, 23498, 23499])]"
   ]
  },
  {
   "cell_type": "code",
   "execution_count": null,
   "id": "d7d9b9b3-9ab8-4621-b935-9924eb5cdccf",
   "metadata": {
    "tags": []
   },
   "outputs": [],
   "source": [
    "tindex_agb[tindex_agb.tile_num == 22937].s3_path.to_list()[0]"
   ]
  },
  {
   "cell_type": "code",
   "execution_count": null,
   "id": "65d0d5a9-c9df-41af-aff8-7614288f35f3",
   "metadata": {
    "tags": []
   },
   "outputs": [],
   "source": [
    "#boreal_tiles.explore(m=boreal_tiles_orig[boreal_tiles_orig.tile_num.isin(NEED_LIST)].explore(color='red'))"
   ]
  },
  {
   "cell_type": "code",
   "execution_count": null,
   "id": "01e51b96-8159-46b5-bd04-6ec9ce6f7445",
   "metadata": {},
   "outputs": [],
   "source": [
    "s3 = s3fs.S3FileSystem(anon=True)"
   ]
  },
  {
   "cell_type": "code",
   "execution_count": null,
   "id": "057033ec-4dab-4424-b251-a8651b0be4d9",
   "metadata": {
    "tags": []
   },
   "outputs": [],
   "source": [
    "s3.download(tindex_agb[tindex_agb.tile_num == 3082].s3_path.to_list()[0], '/projects/my-public-bucket/tmp')"
   ]
  }
 ],
 "metadata": {
  "kernelspec": {
   "display_name": "Python 3 (ipykernel)",
   "language": "python",
   "name": "python3"
  },
  "language_info": {
   "codemirror_mode": {
    "name": "ipython",
    "version": 3
   },
   "file_extension": ".py",
   "mimetype": "text/x-python",
   "name": "python",
   "nbconvert_exporter": "python",
   "pygments_lexer": "ipython3",
   "version": "3.10.13"
  }
 },
 "nbformat": 4,
 "nbformat_minor": 5
}
