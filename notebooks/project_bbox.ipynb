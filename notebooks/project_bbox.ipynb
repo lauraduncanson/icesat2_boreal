{
 "cells": [
  {
   "cell_type": "markdown",
   "id": "8f7e2aa0",
   "metadata": {},
   "source": [
    "# Project-level bbox and tindex\n",
    "\n",
    "## Create intersection of various selections of tiles  \n",
    "### Used to identify set for ORNL DAAC delivery\n",
    "Updated: Oct 2024 | PMM"
   ]
  },
  {
   "cell_type": "code",
   "execution_count": null,
   "id": "53823bc4",
   "metadata": {
    "tags": []
   },
   "outputs": [],
   "source": [
    "ICESAT2_BOREAL_REPO_PATH = '/projects/code/icesat2_boreal' #'/projects/icesat2_boreal' # /projects/Developer/icesat2_boreal/lib\n",
    "ICESAT2_BOREAL_LIB_PATH = ICESAT2_BOREAL_REPO_PATH + '/lib'\n",
    "#!pip install -U -r $ICESAT2_BOREAL_REPO_PATH/dps/requirements_main.txt"
   ]
  },
  {
   "cell_type": "code",
   "execution_count": null,
   "id": "f1ef98c1-b850-4ba5-9620-43680985c9a9",
   "metadata": {
    "tags": []
   },
   "outputs": [],
   "source": [
    "!pip install contextily"
   ]
  },
  {
   "cell_type": "code",
   "execution_count": null,
   "id": "18224220-e6e2-45e6-9e6c-8231f380aa9d",
   "metadata": {
    "tags": []
   },
   "outputs": [],
   "source": [
    "!pip install cogeo_mosaic"
   ]
  },
  {
   "cell_type": "code",
   "execution_count": null,
   "id": "21d992ac",
   "metadata": {
    "tags": []
   },
   "outputs": [],
   "source": [
    "from shapely.geometry import box\n",
    "import geopandas as gpd\n",
    "from geopandas import GeoDataFrame\n",
    "import pandas as pd\n",
    "import contextily as ctx\n",
    "import os\n",
    "import sys\n",
    "sys.path.append('/projects/code/icesat2_boreal/lib')\n",
    "#import maplib_folium\n",
    "import ExtractUtils"
   ]
  },
  {
   "cell_type": "markdown",
   "id": "ed54068e-5fd7-457c-97fc-64594e4770a7",
   "metadata": {},
   "source": [
    "#### Helper functions"
   ]
  },
  {
   "cell_type": "code",
   "execution_count": null,
   "id": "9428513c",
   "metadata": {
    "tags": []
   },
   "outputs": [],
   "source": [
    "def build_mosaic_json(input_tindex_gdf, input_json_fn, out_masic_json_fn):\n",
    "\n",
    "    from cogeo_mosaic.mosaic import MosaicJSON\n",
    "    from cogeo_mosaic.backends import MosaicBackend\n",
    "    from typing import Dict\n",
    "\n",
    "    def get_accessor(feature: Dict):\n",
    "        \"\"\"Return specific feature identifier.\"\"\"\n",
    "        return feature[\"properties\"][\"s3_path\"]\n",
    "\n",
    "    # Step 1 get the gdf of the tiles matches to the tindex master csv (from build_tindex_master.py on the dps_output)\n",
    "    #tile_index_matches_gdf = get_tile_matches_gdf(tindex_master_fn, boreal_tile_index_path = boreal_tile_index_path, BAD_TILE_LIST = BAD_TILE_LIST, cols_list = cols_list)\n",
    "\n",
    "    # Step 2 get the tiles json rfom the gdf of matched tiles\n",
    "    tile_matches_geojson = ExtractUtils.build_tiles_json(input_tindex_gdf, input_json_fn, SHOW_MAP=True)\n",
    "\n",
    "    print(f\"Building {out_masic_json_fn}\")\n",
    "    mosaicdata = MosaicJSON.from_features(tile_matches_geojson.get('features'), minzoom=6, maxzoom=18, accessor=get_accessor)\n",
    "\n",
    "    with MosaicBackend(out_masic_json_fn, mosaic_def=mosaicdata) as mosaic:\n",
    "        mosaic.write(overwrite=True)"
   ]
  },
  {
   "cell_type": "code",
   "execution_count": null,
   "id": "be464639-c0c5-4228-8ecb-1dcb056ab59c",
   "metadata": {
    "tags": []
   },
   "outputs": [],
   "source": [
    "def select_gdf_subdomain(tindex_json_fn, SUB_GEOMETRY, DESC='min50N', CRS_SUB_GEOMETRY=4326):\n",
    "    \n",
    "    print(tindex_json_fn)\n",
    "    tindex_json_SUBSET_fn        = f\"{os.path.splitext(tindex_json_fn)[0]}_{DESC}.json\"\n",
    "    tindex_mosaic_json_SUBSET_fn = f\"{os.path.splitext(tindex_json_fn)[0]}_mosaic_{DESC}.json\"\n",
    "\n",
    "    tindex = gpd.read_file(tindex_json_fn)\n",
    "    \n",
    "    print(\"Subset by SUB_GEOMETRY...\")\n",
    "    selector = tindex.to_crs(CRS_SUB_GEOMETRY).intersects(SUB_GEOMETRY)\n",
    "    tindex_sub = tindex.to_crs(CRS_SUB_GEOMETRY)[selector]\n",
    "    \n",
    "    print(\"Build mosaic json...\")\n",
    "    build_mosaic_json(tindex_sub, tindex_json_SUBSET_fn, tindex_mosaic_json_SUBSET_fn)\n",
    "        \n",
    "    if False:\n",
    "        tindex_sub.to_file(tindex_master_json_SUBSET_fn, driver='GeoJSON')\n",
    "        \n",
    "    return tindex_sub"
   ]
  },
  {
   "cell_type": "code",
   "execution_count": null,
   "id": "10652f49",
   "metadata": {
    "tags": []
   },
   "outputs": [],
   "source": [
    "# Get boreal domain from wwf \n",
    "boreal_gdf = gpd.read_file('/projects/shared-buckets/nathanmthomas/analyze_agb/input_zones/wwf_circumboreal_Dissolve.geojson')"
   ]
  },
  {
   "cell_type": "markdown",
   "id": "6f3ae65c",
   "metadata": {},
   "source": [
    "# Define a basic project bbox for a min near 50N"
   ]
  },
  {
   "cell_type": "code",
   "execution_count": null,
   "id": "0b69c6a4",
   "metadata": {
    "tags": []
   },
   "outputs": [],
   "source": [
    "boreal_tiles = gpd.read_file('/projects/shared-buckets/montesano/databank/boreal_tiles_v004_model_ready.gpkg')\n",
    "bbox_project_min50 = boreal_tiles.to_crs(4326).total_bounds\n",
    "bbox_project_min50[1] = 51.6\n",
    "bbox_project_min50"
   ]
  },
  {
   "cell_type": "code",
   "execution_count": null,
   "id": "615f1b14",
   "metadata": {
    "tags": []
   },
   "outputs": [],
   "source": [
    "geom_project_min50=box(*bbox_project_min50)\n",
    "geom_project_min50"
   ]
  },
  {
   "cell_type": "code",
   "execution_count": null,
   "id": "3ce21ee2",
   "metadata": {
    "tags": []
   },
   "outputs": [],
   "source": [
    "boreal_tiles.to_crs(4326).total_bounds\n",
    "\n",
    "bbox_fn = '/projects/my-public-bucket/databank/project_bbox_min50.gpkg'\n",
    "\n",
    "gdf_min50 = gpd.GeoDataFrame(index=[0], crs='epsg:4326', geometry=[geom_project_min50])\n",
    "gdf_min50['extent'] = 'boreal biomass domain'\n",
    "gdf_min50.plot()\n",
    "gdf_min50.to_file(bbox_fn, driver='GPKG')"
   ]
  },
  {
   "cell_type": "code",
   "execution_count": null,
   "id": "8d84e170",
   "metadata": {
    "tags": []
   },
   "outputs": [],
   "source": [
    "min50N_SUB_DOMAIN_selection_geometry = gdf_min50.iloc[0].geometry # this is the same as 'geom'\n",
    "min50N_SUB_DOMAIN_selection_geometry"
   ]
  },
  {
   "cell_type": "markdown",
   "id": "abe40d3a",
   "metadata": {},
   "source": [
    "# Select tiles for domain: `BBOX min 50N`"
   ]
  },
  {
   "cell_type": "code",
   "execution_count": null,
   "id": "1746e4fe-2a49-4ada-adda-ab0cad90388d",
   "metadata": {
    "tags": []
   },
   "outputs": [],
   "source": [
    "tindex_json_fn_AGB = '/projects/my-public-bucket/DPS_tile_lists/BOREAL_MAP/boreal_agb_2024_v6/AGB_H30_2020/Version2_SD/AGB_tindex_master.json'"
   ]
  },
  {
   "cell_type": "code",
   "execution_count": null,
   "id": "4ab5241b-5e2e-4a66-9131-106e42a133df",
   "metadata": {
    "tags": []
   },
   "outputs": [],
   "source": [
    "tindex_json_fn_HT  = '/projects/my-public-bucket/DPS_tile_lists/BOREAL_MAP/boreal_agb_2024_v6/Ht_H30_2020/Version2_SD/HT_tindex_master.json'"
   ]
  },
  {
   "cell_type": "code",
   "execution_count": null,
   "id": "b19f73b7",
   "metadata": {
    "tags": []
   },
   "outputs": [],
   "source": [
    "%%time\n",
    "min50_tindex_gdf_list = []\n",
    "for tindex_json_fn in [tindex_json_fn_AGB , tindex_json_fn_HT]:\n",
    "    min50_tindex_gdf_list.append(select_gdf_subdomain(tindex_json_fn, min50N_SUB_DOMAIN_selection_geometry, DESC='min50N'))"
   ]
  },
  {
   "cell_type": "code",
   "execution_count": null,
   "id": "22fcaff3",
   "metadata": {
    "tags": []
   },
   "outputs": [],
   "source": [
    "min50_tindex_gdf_list[0].explore(m=min50_tindex_gdf_list[1].explore(color='red'))"
   ]
  },
  {
   "cell_type": "markdown",
   "id": "4318ce42",
   "metadata": {},
   "source": [
    "# Select tiles for domain: `BOREAL`"
   ]
  },
  {
   "cell_type": "code",
   "execution_count": null,
   "id": "6527d307",
   "metadata": {
    "tags": []
   },
   "outputs": [],
   "source": [
    "tindex_json_SUBSETBOREAL_fn = os.path.splitext(tindex_json_fn)[0] + '_boreal.json'\n",
    "tindex_mosaic_json_SUBSETBOREAL_fn = os.path.splitext(tindex_json_fn)[0] + '_mosaic_boreal.json'"
   ]
  },
  {
   "cell_type": "markdown",
   "id": "adf4cfc6",
   "metadata": {},
   "source": [
    "### Subset covariate tiles by broad domain (boreal)\n",
    "* Build the spatial selector with 'intersects'\n",
    "* do the subset accord to region (where region is identified with the spatial selector)"
   ]
  },
  {
   "cell_type": "code",
   "execution_count": null,
   "id": "52b78cbc",
   "metadata": {
    "tags": []
   },
   "outputs": [],
   "source": [
    "%time\n",
    "#tile_group_region_string = 'wwf_boreal'\n",
    "boreal_gdf['dissolve_field'] = 'for intersect'\n",
    "boreal_geometry = boreal_gdf.dissolve(by='dissolve_field').iloc[0].geometry\n",
    "boreal_geometry"
   ]
  },
  {
   "cell_type": "code",
   "execution_count": null,
   "id": "84208576-aed1-4990-b0f0-53cd9f42ec26",
   "metadata": {
    "tags": []
   },
   "outputs": [],
   "source": [
    "boreal_geometry.simplify(1)"
   ]
  },
  {
   "cell_type": "code",
   "execution_count": null,
   "id": "a3470b75-309d-4552-8e5f-22ce0736f139",
   "metadata": {
    "tags": []
   },
   "outputs": [],
   "source": [
    "%%time\n",
    "boreal_tindex_gdf_list = []\n",
    "for tindex_json_fn in [tindex_json_fn_AGB , tindex_json_fn_HT]:\n",
    "    boreal_tindex_gdf_list.append(select_gdf_subdomain(tindex_json_fn, boreal_geometry.simplify(1), DESC='boreal'))"
   ]
  },
  {
   "cell_type": "code",
   "execution_count": null,
   "id": "77ca3dd4",
   "metadata": {},
   "outputs": [],
   "source": [
    "if False:\n",
    "    AGB_c2020_noground_tindex_BOREAL.to_file(tindex_master_json_SUBSETBOREAL_fn, driver='GeoJSON')\n",
    "    build_mosaic_json(AGB_c2020_noground_tindex_BOREAL, tindex_master_json_SUBSETBOREAL_fn, tindex_master_mosaic_json_SUBSETBOREAL_fn)"
   ]
  },
  {
   "cell_type": "markdown",
   "id": "0ed626d8",
   "metadata": {},
   "source": [
    "# For DAAC upload: build list of union both domains \n",
    "`Note`: this is where tile_num field got messed up.  \n",
    "##### Fixed: June 2023  \n",
    "`re-delivered to ORNL DAAC`"
   ]
  },
  {
   "cell_type": "code",
   "execution_count": null,
   "id": "337ad1e7",
   "metadata": {
    "tags": []
   },
   "outputs": [],
   "source": [
    "tindex_agb_min50N = gpd.read_file(f\"{os.path.splitext(tindex_json_fn_AGB)[0]}_min50N.json\", driver='GeoJSON')\n",
    "tindex_agb_BOREAL = gpd.read_file(f\"{os.path.splitext(tindex_json_fn_AGB)[0]}_boreal.json\", driver='GeoJSON')\n",
    "\n",
    "tindex_ht_min50N = gpd.read_file(f\"{os.path.splitext(tindex_json_fn_HT)[0]}_min50N.json\", driver='GeoJSON')\n",
    "tindex_ht_BOREAL = gpd.read_file(f\"{os.path.splitext(tindex_json_fn_HT)[0]}_boreal.json\", driver='GeoJSON')"
   ]
  },
  {
   "cell_type": "markdown",
   "id": "0aff12c3-78a1-455a-925d-0965a2811bd6",
   "metadata": {},
   "source": [
    "### Get tiles of AGB"
   ]
  },
  {
   "cell_type": "code",
   "execution_count": null,
   "id": "922ad515-15d9-4aa2-9b97-16d4f33b5bc8",
   "metadata": {
    "tags": []
   },
   "outputs": [],
   "source": [
    "def get_union_of_gdfs(tindex_1, tindex_2, OUT_COLS_LIST = ['tile_num', 'tile_group', 's3_path', 'geometry']):\n",
    "    import numpy as np\n",
    "    \"The UNION is the symmetric_difference + intersection\"\n",
    "    \n",
    "    # This show tiles that are in one OR the other\n",
    "    d = gpd.overlay(tindex_1, tindex_2, how='symmetric_difference').fillna(0)\n",
    "    ax = d.plot(alpha=0.5)\n",
    "    print(len(d))\n",
    "\n",
    "    e = gpd.overlay(tindex_1, tindex_2, how='intersection').fillna(0)\n",
    "    ax = e.plot( color='red', alpha=0.5)\n",
    "    print(len(e))\n",
    "\n",
    "    gdf_union = pd.concat([e,d]) #gpd.overlay(tindex_1, tindex_2, how='union')\n",
    "\n",
    "    ax = e.plot( color='red', alpha=0.5)\n",
    "    ax = d.plot(ax = ax, alpha=0.5)\n",
    "    \n",
    "    print(len(gdf_union))\n",
    "    print(f\"{len(d)} + {len(e)} = {len(d)+len(e)}\")\n",
    "    \n",
    "    ## Clean up\n",
    "    gdf_union.replace(0, np.nan, inplace=True)\n",
    "    gdf_union['tile_num'] = gdf_union[[\"tile_num_1\", \"tile_num_2\"]].max(axis=1).astype(int)\n",
    "    gdf_union[\"tile_group\"] = gdf_union[\"tile_group_1\"].fillna(gdf_union[\"tile_group_2\"])\n",
    "    gdf_union[\"s3_path\"] = gdf_union[\"s3_path_1\"].fillna(gdf_union[\"s3_path_2\"]) \n",
    "    \n",
    "    return gdf_union[OUT_COLS_LIST]"
   ]
  },
  {
   "cell_type": "code",
   "execution_count": null,
   "id": "e435c39d",
   "metadata": {
    "tags": []
   },
   "outputs": [],
   "source": [
    "tiles_agb_daac = get_union_of_gdfs(tindex_agb_min50N, tindex_agb_BOREAL)"
   ]
  },
  {
   "cell_type": "code",
   "execution_count": null,
   "id": "bf40778c",
   "metadata": {
    "tags": []
   },
   "outputs": [],
   "source": [
    "tiles_ht_daac = get_union_of_gdfs(tindex_ht_min50N, tindex_ht_BOREAL)"
   ]
  },
  {
   "cell_type": "markdown",
   "id": "02dec5fa-ab20-4671-b090-7a13a67350ce",
   "metadata": {},
   "source": [
    "### Check for missing tiles"
   ]
  },
  {
   "cell_type": "code",
   "execution_count": null,
   "id": "3a50ecf4-c651-4275-875d-431c31887d95",
   "metadata": {
    "tags": []
   },
   "outputs": [],
   "source": [
    "tiles_agb_daac.shape"
   ]
  },
  {
   "cell_type": "code",
   "execution_count": null,
   "id": "8eb72870",
   "metadata": {
    "tags": []
   },
   "outputs": [],
   "source": [
    "tiles_ht_daac.shape"
   ]
  },
  {
   "cell_type": "code",
   "execution_count": null,
   "id": "b805a29f-d45f-4749-b350-0396fd5cd78f",
   "metadata": {
    "tags": []
   },
   "outputs": [],
   "source": [
    "#larger - smaller\n",
    "list(set(tiles_ht_daac.tile_num.to_list()) - set(tiles_agb_daac.tile_num.to_list()))"
   ]
  },
  {
   "cell_type": "code",
   "execution_count": null,
   "id": "755a09a8-c53b-4ec5-b472-4fc55bd695a2",
   "metadata": {
    "tags": []
   },
   "outputs": [],
   "source": [
    "#tindex = pd.read_csv('/projects/my-public-bucket/DPS_tile_lists/run_build_stack_topo/build_stack_v2024_2/CopernicusGLO30/Topo_tindex_master.csv')\n",
    "tindex = pd.read_csv(f'/projects/my-public-bucket/DPS_tile_lists/BOREAL_MAP/boreal_agb_2024_v6/AGB_H30_2020/Version2_SD/AGB_tindex_master.csv')\n",
    "tindex = pd.read_csv(f'/projects/my-public-bucket/DPS_tile_lists/BOREAL_MAP/boreal_agb_2024_v6/Ht_H30_2020/Version2_SD/HT_tindex_master.csv')"
   ]
  },
  {
   "cell_type": "code",
   "execution_count": null,
   "id": "a92517e0-c6f1-465f-9d42-cec08e7424e7",
   "metadata": {
    "tags": []
   },
   "outputs": [],
   "source": [
    "tindex['creation_time'] = pd.to_datetime(tindex.file.str.split('_', expand=True)[3], format='%Y%m%d%H%M%S%f')"
   ]
  },
  {
   "cell_type": "code",
   "execution_count": null,
   "id": "3c805bea-4c79-4936-97aa-ed1b172d6dd5",
   "metadata": {
    "tags": []
   },
   "outputs": [],
   "source": [
    "tindex[tindex.tile_num.isin([22937])]"
   ]
  },
  {
   "cell_type": "code",
   "execution_count": null,
   "id": "36ea0c67-ab12-48b0-8e80-50413878f861",
   "metadata": {
    "tags": []
   },
   "outputs": [],
   "source": [
    "tindex.sort_values('creation_time').tail(92).head(20)"
   ]
  },
  {
   "cell_type": "code",
   "execution_count": null,
   "id": "4c9e8140-3aaf-4f2f-bb78-07873bf82741",
   "metadata": {
    "tags": []
   },
   "outputs": [],
   "source": [
    "bad_subset = tindex[(tindex.creation_time > '2024-08-27') &\n",
    "                    (tindex.creation_time < '2024-10-07')\n",
    "                   ]\n",
    "bad_subset.shape"
   ]
  },
  {
   "cell_type": "code",
   "execution_count": null,
   "id": "2fe3782b-fbff-421a-93ef-bf8c9bb088f0",
   "metadata": {
    "tags": []
   },
   "outputs": [],
   "source": [
    "bad_subset"
   ]
  },
  {
   "cell_type": "code",
   "execution_count": null,
   "id": "6cfcf871-3ca3-4f88-be52-8c505e46a359",
   "metadata": {
    "tags": []
   },
   "outputs": [],
   "source": [
    "print(bad_subset.tile_num.to_list())"
   ]
  },
  {
   "cell_type": "code",
   "execution_count": null,
   "id": "22104de9-a7e6-42f9-8612-f5d273428bb6",
   "metadata": {},
   "outputs": [],
   "source": [
    "fn = tindex[tindex.tile_num == 23827].s3_path.to_list()[0]\n",
    "#fn = tindex[tindex.tile_num == 24108].s3_path.to_list()[0]\n",
    "#fn = tindex[tindex.tile_num == 24389].s3_path.to_list()[0]\n",
    "fn"
   ]
  },
  {
   "cell_type": "markdown",
   "id": "d322fe8d",
   "metadata": {},
   "source": [
    "# Export a boreal tiles DAAC subset "
   ]
  },
  {
   "cell_type": "code",
   "execution_count": null,
   "id": "3e73d3b4-6856-4070-8d25-4d077ae88f0a",
   "metadata": {
    "tags": []
   },
   "outputs": [],
   "source": [
    "tiles_agb_daac.plot(column='tile_group', cmap='viridis')\n",
    "tiles_agb_daac[['tile_num', 'geometry']].to_file('/projects/my-public-bucket/databank/boreal_tiles_v004_AGB_H30_2020_ORNLDAAC.gpkg', driver='GPKG')"
   ]
  },
  {
   "cell_type": "code",
   "execution_count": null,
   "id": "49aa521b-35a0-4678-ae96-e6c566822738",
   "metadata": {
    "tags": []
   },
   "outputs": [],
   "source": [
    "tiles_ht_daac[['tile_num', 'geometry']].to_file('/projects/my-public-bucket/databank/boreal_tiles_v004_HT_H30_2020_ORNLDAAC.gpkg', driver='GPKG')"
   ]
  },
  {
   "cell_type": "code",
   "execution_count": null,
   "id": "f3a83679",
   "metadata": {},
   "outputs": [],
   "source": [
    "# boreal_agb_files[0:5]"
   ]
  },
  {
   "cell_type": "code",
   "execution_count": null,
   "id": "53048f2d",
   "metadata": {},
   "outputs": [],
   "source": [
    "# with open(\"/projects/my-public-bucket/boreal_agb_tiles_DAAC.txt\", 'w') as file:\n",
    "#         for row in boreal_agb_files:\n",
    "#             s = \"\".join(map(str, row))\n",
    "#             file.write(s+'\\n')"
   ]
  }
 ],
 "metadata": {
  "kernelspec": {
   "display_name": "Python 3 (ipykernel)",
   "language": "python",
   "name": "python3"
  },
  "language_info": {
   "codemirror_mode": {
    "name": "ipython",
    "version": 3
   },
   "file_extension": ".py",
   "mimetype": "text/x-python",
   "name": "python",
   "nbconvert_exporter": "python",
   "pygments_lexer": "ipython3",
   "version": "3.10.13"
  }
 },
 "nbformat": 4,
 "nbformat_minor": 5
}
