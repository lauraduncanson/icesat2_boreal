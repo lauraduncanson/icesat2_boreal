{
 "cells": [
  {
   "cell_type": "markdown",
   "id": "11d9370a",
   "metadata": {},
   "source": [
    "# Overlay LC to create mask applied before for zonal stats of AGB\n",
    "* to run zonal stats for certain land cover zones in WorldCover s3 dataset"
   ]
  },
  {
   "cell_type": "code",
   "execution_count": 68,
   "id": "24ca107a",
   "metadata": {},
   "outputs": [],
   "source": [
    "import geopandas as gpd\n",
    "import pandas as pd\n",
    "import rasterio\n",
    "import os\n",
    "import rioxarray\n",
    "import fiona\n",
    "\n",
    "import sys\n",
    "sys.path.append('/projects/icesat2_boreal/lib')\n",
    "sys.path.append('/projects/Developer/icesat2_boreal/lib')\n",
    "import ExtractUtils\n",
    "\n",
    "import numpy as np\n",
    "import matplotlib.pyplot as plt\n",
    "from matplotlib.colors import ListedColormap, BoundaryNorm\n",
    "import rasterio\n",
    "from rasterio.plot import show_hist, show\n",
    "import numpy.ma as ma"
   ]
  },
  {
   "cell_type": "code",
   "execution_count": 10,
   "id": "d6a41633",
   "metadata": {},
   "outputs": [],
   "source": [
    "# a writable outdir\n",
    "outdir = '/projects/my-public-bucket/analyze_agb'"
   ]
  },
  {
   "cell_type": "code",
   "execution_count": 11,
   "id": "1370d1fe",
   "metadata": {},
   "outputs": [],
   "source": [
    "COVAR_FOOTPRINTS_FN = '/projects/my-public-bucket/analyze_agb/footprints_v100_2020_v100_2020_map-s3.gpkg'\n",
    "\n",
    "TILE_NUM = 131 #3417# 4253\n",
    "INDEX_FN = '/projects/shared-buckets/nathanmthomas/boreal_tiles_v003.gpkg'\n",
    "INDEX_LYR = 'boreal_tiles_v003'"
   ]
  },
  {
   "cell_type": "code",
   "execution_count": 12,
   "id": "02aa4718",
   "metadata": {},
   "outputs": [
    {
     "data": {
      "text/html": [
       "<div>\n",
       "<style scoped>\n",
       "    .dataframe tbody tr th:only-of-type {\n",
       "        vertical-align: middle;\n",
       "    }\n",
       "\n",
       "    .dataframe tbody tr th {\n",
       "        vertical-align: top;\n",
       "    }\n",
       "\n",
       "    .dataframe thead th {\n",
       "        text-align: right;\n",
       "    }\n",
       "</style>\n",
       "<table border=\"1\" class=\"dataframe\">\n",
       "  <thead>\n",
       "    <tr style=\"text-align: right;\">\n",
       "      <th></th>\n",
       "      <th>tile_num</th>\n",
       "      <th>tile_version</th>\n",
       "      <th>tile_group</th>\n",
       "      <th>map_version</th>\n",
       "      <th>geometry</th>\n",
       "    </tr>\n",
       "  </thead>\n",
       "  <tbody>\n",
       "    <tr>\n",
       "      <th>328</th>\n",
       "      <td>329</td>\n",
       "      <td>version 1</td>\n",
       "      <td>north america east</td>\n",
       "      <td>None</td>\n",
       "      <td>POLYGON ((4688522.000 7713304.000, 4778522.000...</td>\n",
       "    </tr>\n",
       "    <tr>\n",
       "      <th>329</th>\n",
       "      <td>330</td>\n",
       "      <td>version 1</td>\n",
       "      <td>north america east</td>\n",
       "      <td>None</td>\n",
       "      <td>POLYGON ((4778522.000 7713304.000, 4868522.000...</td>\n",
       "    </tr>\n",
       "    <tr>\n",
       "      <th>330</th>\n",
       "      <td>331</td>\n",
       "      <td>version 1</td>\n",
       "      <td>north america east</td>\n",
       "      <td>None</td>\n",
       "      <td>POLYGON ((4868522.000 7713304.000, 4958522.000...</td>\n",
       "    </tr>\n",
       "    <tr>\n",
       "      <th>331</th>\n",
       "      <td>332</td>\n",
       "      <td>version 1</td>\n",
       "      <td>north america east</td>\n",
       "      <td>None</td>\n",
       "      <td>POLYGON ((4958522.000 7713304.000, 5048522.000...</td>\n",
       "    </tr>\n",
       "    <tr>\n",
       "      <th>357</th>\n",
       "      <td>358</td>\n",
       "      <td>version 1</td>\n",
       "      <td>north america east</td>\n",
       "      <td>None</td>\n",
       "      <td>POLYGON ((4508522.000 7623304.000, 4598522.000...</td>\n",
       "    </tr>\n",
       "  </tbody>\n",
       "</table>\n",
       "</div>"
      ],
      "text/plain": [
       "     tile_num tile_version          tile_group map_version  \\\n",
       "328       329    version 1  north america east        None   \n",
       "329       330    version 1  north america east        None   \n",
       "330       331    version 1  north america east        None   \n",
       "331       332    version 1  north america east        None   \n",
       "357       358    version 1  north america east        None   \n",
       "\n",
       "                                              geometry  \n",
       "328  POLYGON ((4688522.000 7713304.000, 4778522.000...  \n",
       "329  POLYGON ((4778522.000 7713304.000, 4868522.000...  \n",
       "330  POLYGON ((4868522.000 7713304.000, 4958522.000...  \n",
       "331  POLYGON ((4958522.000 7713304.000, 5048522.000...  \n",
       "357  POLYGON ((4508522.000 7623304.000, 4598522.000...  "
      ]
     },
     "execution_count": 12,
     "metadata": {},
     "output_type": "execute_result"
    }
   ],
   "source": [
    "boreal_tiles = gpd.read_file(INDEX_FN)\n",
    "tile_group_region_string = \"america\"\n",
    "tiles_subset = boreal_tiles[boreal_tiles['tile_group'].str.contains(tile_group_region_string)]\n",
    "tiles_subset.head()"
   ]
  },
  {
   "cell_type": "markdown",
   "id": "c9480c75",
   "metadata": {},
   "source": [
    "https://gis.stackexchange.com/questions/345917/overlay-two-raster-geotiffs-using-rasterio-mask"
   ]
  },
  {
   "cell_type": "code",
   "execution_count": 13,
   "id": "871eee78",
   "metadata": {},
   "outputs": [
    {
     "data": {
      "text/plain": [
       "<matplotlib.axes._subplots.AxesSubplot at 0x7fcef2eb3490>"
      ]
     },
     "execution_count": 13,
     "metadata": {},
     "output_type": "execute_result"
    },
    {
     "data": {
      "image/png": "[encoded data removed]",
      "text/plain": [
       "<Figure size 432x288 with 1 Axes>"
      ]
     },
     "metadata": {
      "needs_background": "light"
     },
     "output_type": "display_data"
    }
   ],
   "source": [
    "world = gpd.read_file(gpd.datasets.get_path(\"naturalearth_lowres\") )\n",
    "alaska = world[world.name == 'United States of America'].explode().cx[-170:-50, 50:90]\n",
    "canada = world[world.name == 'Canada']\n",
    "canada_alaska = pd.concat([alaska, canada])\n",
    "#canada_alaska.plot()\n",
    "boreal_gdf = gpd.read_file('/projects/my-public-bucket/analyze_agb/input_zones/wwf_circumboreal_Dissolve.geojson')\n",
    "boreal_gdf.plot()"
   ]
  },
  {
   "cell_type": "markdown",
   "id": "000fa301",
   "metadata": {},
   "source": [
    "### Get the Worldcover covariate tiles"
   ]
  },
  {
   "cell_type": "code",
   "execution_count": 14,
   "id": "faf38372",
   "metadata": {},
   "outputs": [
    {
     "data": {
      "text/html": [
       "<div>\n",
       "<style scoped>\n",
       "    .dataframe tbody tr th:only-of-type {\n",
       "        vertical-align: middle;\n",
       "    }\n",
       "\n",
       "    .dataframe tbody tr th {\n",
       "        vertical-align: top;\n",
       "    }\n",
       "\n",
       "    .dataframe thead th {\n",
       "        text-align: right;\n",
       "    }\n",
       "</style>\n",
       "<table border=\"1\" class=\"dataframe\">\n",
       "  <thead>\n",
       "    <tr style=\"text-align: right;\">\n",
       "      <th></th>\n",
       "      <th>footprint_name</th>\n",
       "      <th>path</th>\n",
       "      <th>file</th>\n",
       "      <th>s3_path</th>\n",
       "      <th>geometry</th>\n",
       "    </tr>\n",
       "  </thead>\n",
       "  <tbody>\n",
       "    <tr>\n",
       "      <th>0</th>\n",
       "      <td>None</td>\n",
       "      <td>https://esa-worldcover.s3.eu-central-1.amazona...</td>\n",
       "      <td>ESA_WorldCover_10m_2020_v100_N00E006_Map.tif</td>\n",
       "      <td>s3://esa-worldcover/v100/2020/map/ESA_WorldCov...</td>\n",
       "      <td>POLYGON ((9.00000 0.00000, 9.00000 3.00000, 6....</td>\n",
       "    </tr>\n",
       "    <tr>\n",
       "      <th>1</th>\n",
       "      <td>None</td>\n",
       "      <td>https://esa-worldcover.s3.eu-central-1.amazona...</td>\n",
       "      <td>ESA_WorldCover_10m_2020_v100_N00E009_Map.tif</td>\n",
       "      <td>s3://esa-worldcover/v100/2020/map/ESA_WorldCov...</td>\n",
       "      <td>POLYGON ((12.00000 0.00000, 12.00000 3.00000, ...</td>\n",
       "    </tr>\n",
       "    <tr>\n",
       "      <th>2</th>\n",
       "      <td>None</td>\n",
       "      <td>https://esa-worldcover.s3.eu-central-1.amazona...</td>\n",
       "      <td>ESA_WorldCover_10m_2020_v100_N00E012_Map.tif</td>\n",
       "      <td>s3://esa-worldcover/v100/2020/map/ESA_WorldCov...</td>\n",
       "      <td>POLYGON ((15.00000 0.00000, 15.00000 3.00000, ...</td>\n",
       "    </tr>\n",
       "    <tr>\n",
       "      <th>3</th>\n",
       "      <td>None</td>\n",
       "      <td>https://esa-worldcover.s3.eu-central-1.amazona...</td>\n",
       "      <td>ESA_WorldCover_10m_2020_v100_N00E015_Map.tif</td>\n",
       "      <td>s3://esa-worldcover/v100/2020/map/ESA_WorldCov...</td>\n",
       "      <td>POLYGON ((18.00000 0.00000, 18.00000 3.00000, ...</td>\n",
       "    </tr>\n",
       "    <tr>\n",
       "      <th>4</th>\n",
       "      <td>None</td>\n",
       "      <td>https://esa-worldcover.s3.eu-central-1.amazona...</td>\n",
       "      <td>ESA_WorldCover_10m_2020_v100_N00E018_Map.tif</td>\n",
       "      <td>s3://esa-worldcover/v100/2020/map/ESA_WorldCov...</td>\n",
       "      <td>POLYGON ((21.00000 0.00000, 21.00000 3.00000, ...</td>\n",
       "    </tr>\n",
       "  </tbody>\n",
       "</table>\n",
       "</div>"
      ],
      "text/plain": [
       "  footprint_name                                               path  \\\n",
       "0           None  https://esa-worldcover.s3.eu-central-1.amazona...   \n",
       "1           None  https://esa-worldcover.s3.eu-central-1.amazona...   \n",
       "2           None  https://esa-worldcover.s3.eu-central-1.amazona...   \n",
       "3           None  https://esa-worldcover.s3.eu-central-1.amazona...   \n",
       "4           None  https://esa-worldcover.s3.eu-central-1.amazona...   \n",
       "\n",
       "                                           file  \\\n",
       "0  ESA_WorldCover_10m_2020_v100_N00E006_Map.tif   \n",
       "1  ESA_WorldCover_10m_2020_v100_N00E009_Map.tif   \n",
       "2  ESA_WorldCover_10m_2020_v100_N00E012_Map.tif   \n",
       "3  ESA_WorldCover_10m_2020_v100_N00E015_Map.tif   \n",
       "4  ESA_WorldCover_10m_2020_v100_N00E018_Map.tif   \n",
       "\n",
       "                                             s3_path  \\\n",
       "0  s3://esa-worldcover/v100/2020/map/ESA_WorldCov...   \n",
       "1  s3://esa-worldcover/v100/2020/map/ESA_WorldCov...   \n",
       "2  s3://esa-worldcover/v100/2020/map/ESA_WorldCov...   \n",
       "3  s3://esa-worldcover/v100/2020/map/ESA_WorldCov...   \n",
       "4  s3://esa-worldcover/v100/2020/map/ESA_WorldCov...   \n",
       "\n",
       "                                            geometry  \n",
       "0  POLYGON ((9.00000 0.00000, 9.00000 3.00000, 6....  \n",
       "1  POLYGON ((12.00000 0.00000, 12.00000 3.00000, ...  \n",
       "2  POLYGON ((15.00000 0.00000, 15.00000 3.00000, ...  \n",
       "3  POLYGON ((18.00000 0.00000, 18.00000 3.00000, ...  \n",
       "4  POLYGON ((21.00000 0.00000, 21.00000 3.00000, ...  "
      ]
     },
     "execution_count": 14,
     "metadata": {},
     "output_type": "execute_result"
    }
   ],
   "source": [
    "# Build a VRT of the LC on s3?\n",
    "covar_footprint_tiles = gpd.read_file(COVAR_FOOTPRINTS_FN)\n",
    "covar_footprint_tiles.head()"
   ]
  },
  {
   "cell_type": "markdown",
   "id": "9dc17efc",
   "metadata": {},
   "source": [
    "### Subset covariate tiles by region\n",
    "* Build the spatial selector with 'intersects'\n",
    "* do the subset accord to region (where region is identified with the spatial selector)"
   ]
  },
  {
   "cell_type": "code",
   "execution_count": 15,
   "id": "b5785ab3",
   "metadata": {},
   "outputs": [
    {
     "data": {
      "text/plain": [
       "<matplotlib.axes._subplots.AxesSubplot at 0x7fcef2eccc10>"
      ]
     },
     "execution_count": 15,
     "metadata": {},
     "output_type": "execute_result"
    },
    {
     "data": {
      "image/png": "[encoded data removed]",
      "text/plain": [
       "<Figure size 432x288 with 1 Axes>"
      ]
     },
     "metadata": {
      "needs_background": "light"
     },
     "output_type": "display_data"
    }
   ],
   "source": [
    "tile_group_region_string = 'wwf_boreal'\n",
    "\n",
    "boreal_gdf['dissolve_field'] = 'for intersect'\n",
    "\n",
    "# Do a dissolve so that there is only 1 polygon to intersect; .iloc[0]\n",
    "selector = covar_footprint_tiles.intersects(boreal_gdf.dissolve(by='dissolve_field').iloc[0].geometry)\n",
    "covar_footprint_tiles_subset = covar_footprint_tiles[selector]\n",
    "covar_footprint_tiles_subset.plot()"
   ]
  },
  {
   "cell_type": "code",
   "execution_count": 16,
   "id": "8f411ff0",
   "metadata": {},
   "outputs": [
    {
     "data": {
      "text/plain": [
       "<matplotlib.axes._subplots.AxesSubplot at 0x7fcef2d76f10>"
      ]
     },
     "execution_count": 16,
     "metadata": {},
     "output_type": "execute_result"
    },
    {
     "data": {
      "image/png": "[encoded data removed]",
      "text/plain": [
       "<Figure size 432x288 with 1 Axes>"
      ]
     },
     "metadata": {
      "needs_background": "light"
     },
     "output_type": "display_data"
    }
   ],
   "source": [
    "tile_group_region_string = tile_group_region_string + '_america'\n",
    "\n",
    "region_selection_geometry = boreal_gdf.cx[-165:-50, 40:90].iloc[0].geometry\n",
    "\n",
    "# Do a dissolve so that there is only 1 polygon to intersect; .iloc[0]\n",
    "selector = covar_footprint_tiles_subset.intersects(region_selection_geometry)\n",
    "\n",
    "covar_footprint_tiles_subset = covar_footprint_tiles_subset[selector]\n",
    "covar_footprint_tiles_subset.plot()"
   ]
  },
  {
   "cell_type": "code",
   "execution_count": 9,
   "id": "0cbc6d6d",
   "metadata": {},
   "outputs": [],
   "source": [
    "# cog bands dict\n",
    "bands_dict = {'1': 'esa_worldcover_v100_2020'\n",
    "             }\n",
    "import os\n",
    "os.environ['AWS_NO_SIGN_REQUEST'] = 'YES'"
   ]
  },
  {
   "cell_type": "markdown",
   "id": "b99acec4",
   "metadata": {},
   "source": [
    "### Set up the clip INDEX: the GPKG that holds 1 specific clip polygon"
   ]
  },
  {
   "cell_type": "code",
   "execution_count": 225,
   "id": "c03e6706",
   "metadata": {},
   "outputs": [
    {
     "data": {
      "image/png": "[encoded data removed]",
      "text/plain": [
       "<Figure size 432x288 with 1 Axes>"
      ]
     },
     "metadata": {
      "needs_background": "light"
     },
     "output_type": "display_data"
    },
    {
     "data": {
      "image/png": "[encoded data removed]",
      "text/plain": [
       "<Figure size 432x288 with 1 Axes>"
      ]
     },
     "metadata": {
      "needs_background": "light"
     },
     "output_type": "display_data"
    }
   ],
   "source": [
    "#TILE_NUM = 12967\n",
    "#INDEX_FN = '/projects/shared-buckets/lduncanson/dem30m_tiles_v2.geojson'#\n",
    "#INDEX_LYR = 'dem30m_tiles_v2'\n",
    "\n",
    "ID_COL_NAME = 'tile_num'\n",
    "TILE_NUM = 131 #3417# 4253\n",
    "INDEX_FN = '/projects/shared-buckets/nathanmthomas/boreal_tiles_v003.gpkg'\n",
    "INDEX_LYR = 'boreal_tiles_v003'\n",
    "\n",
    "if True:\n",
    "    \n",
    "    # Manually select hybas file and HYBAS_ID of interest\n",
    "    HYBAS_FILE = 'hybas_lake_as_lev07_v1c'\n",
    "    ID_COL_NAME = 'HYBAS_ID'\n",
    "    #TILE_NUM = 4070084980 #4070000010 #3417# 4253\n",
    "    \n",
    "    INDEX_FN = f'/projects/my-public-bucket/analyze_agb/hydrobasins/{HYBAS_FILE}.shp'\n",
    "    ADD_STR = '-reprj'\n",
    "    INDEX_REPRJ_FN = INDEX_FN.replace('.shp', ADD_STR+'.gpkg')\n",
    "    \n",
    "    # Reproject hydrobasin to equal area (boreal_tiles)\n",
    "    gpd.read_file(INDEX_FN).to_crs(boreal_tiles.crs).to_file(INDEX_REPRJ_FN, driver='GPKG')\n",
    "    \n",
    "    INDEX_LYR = HYBAS_FILE + ADD_STR\n",
    "    \n",
    "    # Read and plot the basin in orig prj\n",
    "    z = gpd.read_file(INDEX_FN)\n",
    "    \n",
    "    # Get random HYBAS\n",
    "    TILE_NUM = z.sample(n=1)[ID_COL_NAME].to_list()[0]\n",
    "    \n",
    "    z[z[ID_COL_NAME]==TILE_NUM].plot()\n",
    "    \n",
    "    # Read and plot the basin in reproj\n",
    "    z = gpd.read_file(INDEX_REPRJ_FN)\n",
    "    \n",
    "    z[z[ID_COL_NAME]==TILE_NUM].plot()\n",
    "    \n",
    "    # Now change this variable back to what BUILD_STACK_DICT wants\n",
    "    INDEX_FN = INDEX_REPRJ_FN"
   ]
  },
  {
   "cell_type": "code",
   "execution_count": 223,
   "id": "c54aeeea",
   "metadata": {},
   "outputs": [
    {
     "data": {
      "text/plain": [
       "4070726630"
      ]
     },
     "execution_count": 223,
     "metadata": {},
     "output_type": "execute_result"
    }
   ],
   "source": [
    "z.sample(n=1)[ID_COL_NAME].to_list()[0]"
   ]
  },
  {
   "cell_type": "markdown",
   "id": "8a33b5f3",
   "metadata": {},
   "source": [
    "## Using hydrobasin as CLIP INDEX, run build_stack.py (now featuring a geom clip!) for ESA Worldcover and AGB\n",
    "* reprojected to equal area using boreal_tile_index\n",
    "* so output has same res, crs, and clip extent"
   ]
  },
  {
   "cell_type": "code",
   "execution_count": 226,
   "id": "a008bcaa",
   "metadata": {},
   "outputs": [],
   "source": [
    "#BUILD_STACK_DICT = {'INDEX_FN':INDEX_FN,'ID_COL_NAME':ID_COL_NAME,'TILE_NUM':TILE_NUM,'INDEX_LYR':INDEX_LYR,'RASTER_NAME':'','COVAR_TILE_FN':'', 'IN_COVAR_S3_COL':'', 'NODATA_VAL':''}\n",
    "BUILD_STACK_DICT_LIST = [\n",
    "        {\n",
    "            'INDEX_FN':INDEX_FN,\n",
    "            'ID_COL_NAME':ID_COL_NAME,\n",
    "            'TILE_NUM':TILE_NUM,\n",
    "            'INDEX_LYR':INDEX_LYR,\n",
    "            # Worldcover data is accessed via its footprint, with a 's3_path' col identifying the s3 locations of each tile\n",
    "            'RASTER_NAME': 'esa_worldcover_v100_2020',\n",
    "            'COVAR_TILE_FN': '/projects/my-public-bucket/analyze_agb/footprints_v100_2020_v100_2020_map-s3.gpkg',\n",
    "            'IN_COVAR_S3_COL': 's3_path',\n",
    "            'NODATA_VAL': 0,\n",
    "            'OUTPUT_CLIP_COG_FN':''\n",
    "        },\n",
    "        {\n",
    "            'INDEX_FN':INDEX_FN,\n",
    "            'ID_COL_NAME':ID_COL_NAME,\n",
    "            'TILE_NUM':TILE_NUM,\n",
    "            'INDEX_LYR':INDEX_LYR,\n",
    "            # AGB data is accessed\n",
    "            # This needs to be correctlyy in 4326 - \n",
    "            'RASTER_NAME': 'biomass_prelim',\n",
    "            'COVAR_TILE_FN': '/projects/shared-buckets/lduncanson/DPS_tile_lists/AGB_tindex_master.json',\n",
    "            'IN_COVAR_S3_COL': 's3',\n",
    "            'NODATA_VAL': -9999,\n",
    "            'OUTPUT_CLIP_COG_FN':''\n",
    "        }\n",
    "]"
   ]
  },
  {
   "cell_type": "code",
   "execution_count": 65,
   "id": "67b029dc",
   "metadata": {},
   "outputs": [
    {
     "data": {
      "text/plain": [
       "{'INDEX_FN': '/projects/my-public-bucket/analyze_agb/hydrobasins/hybas_lake_as_lev07_v1c-reprj.gpkg',\n",
       " 'ID_COL_NAME': 'HYBAS_ID',\n",
       " 'TILE_NUM': 4070084980,\n",
       " 'INDEX_LYR': 'hybas_lake_as_lev07_v1c-reprj',\n",
       " 'RASTER_NAME': 'biomass_prelim',\n",
       " 'COVAR_TILE_FN': '/projects/shared-buckets/lduncanson/DPS_tile_lists/AGB_tindex_master.json',\n",
       " 'IN_COVAR_S3_COL': 's3',\n",
       " 'NODATA_VAL': -9999,\n",
       " 'OUTPUT_CLIP_COG_FN': ''}"
      ]
     },
     "execution_count": 65,
     "metadata": {},
     "output_type": "execute_result"
    }
   ],
   "source": [
    "BUILD_STACK_DICT_LIST[1]"
   ]
  },
  {
   "cell_type": "code",
   "execution_count": 227,
   "id": "f2aa366f",
   "metadata": {},
   "outputs": [
    {
     "name": "stdout",
     "output_type": "stream",
     "text": [
      "--in_tile_fn /projects/my-public-bucket/analyze_agb/hydrobasins/hybas_lake_as_lev07_v1c-reprj.gpkg     --in_tile_id_col HYBAS_ID     --in_tile_num 4070083020     --tile_buffer_m 0     --in_tile_layer hybas_lake_as_lev07_v1c-reprj     -o /projects/test_data/     --topo_off     --covar_src_name esa_worldcover_v100_2020     --covar_tile_fn /projects/my-public-bucket/analyze_agb/footprints_v100_2020_v100_2020_map-s3.gpkg     --in_covar_s3_col s3_path     --input_nodata_value 0     --clip\n",
      "/opt/conda/lib/python3.7/site-packages/geopandas/_compat.py:110: UserWarning: The Shapely GEOS version (3.8.0-CAPI-1.13.1 ) is incompatible with the GEOS version PyGEOS was compiled with (3.10.1-CAPI-1.16.0). Conversions between both will be slow.\n",
      "  shapely_geos_version, geos_capi_version_string\n",
      "The covariate's filename(s) intersecting the 0 m bbox for tile id 4070083020:\n",
      " s3://esa-worldcover/v100/2020/map/ESA_WorldCover_10m_2020_v100_N54E123_Map.tif\n",
      "bbox: [-3186121.23807665, 3002721.0025259983, -3096914.5495069306, 3077369.606550772]\n",
      "Writing stack as cloud-optimized geotiff: /projects/test_data/esa_worldcover_v100_2020_4070083020_cog.tif\n",
      "Clipping to feature polygon...\n",
      "Orig stack shape:\t\t (1, 2488, 2973)\n",
      "Output resolution:\t\t (30, 30)\n",
      "Writing img to memory...\n",
      "/projects/Developer/icesat2_boreal/lib/build_stack.py:144: RasterioDeprecationWarning: Source dataset should be opened in read-only mode. Use of datasets opened in modes other than 'r' will be disallowed in a future version.\n",
      "  write_cog(mosaic, cog_fn, tile_parts['tile_crs'], out_trans, bandnames_list, out_crs=tile_parts['tile_crs'], resolution=(res, res), clip_geom=clip_geom, clip_crs=clip_crs, input_nodata_value=args.input_nodata_value)\n",
      "{'driver': 'VRT', 'dtype': 'uint8', 'nodata': 0, 'width': 2973, 'height': 2488, 'count': 1, 'crs': CRS.from_wkt('PROJCS[\"unnamed\",GEOGCS[\"GRS 1980(IUGG, 1980)\",DATUM[\"unknown\",SPHEROID[\"GRS80\",6378137,298.257222101],TOWGS84[0,0,0,0,0,0,0]],PRIMEM[\"Greenwich\",0],UNIT[\"degree\",0.0174532925199433]],PROJECTION[\"Albers_Conic_Equal_Area\"],PARAMETER[\"standard_parallel_1\",50],PARAMETER[\"standard_parallel_2\",70],PARAMETER[\"latitude_of_center\",40],PARAMETER[\"longitude_of_center\",180],PARAMETER[\"false_easting\",0],PARAMETER[\"false_northing\",0],UNIT[\"Meter\",1],AXIS[\"Easting\",EAST],AXIS[\"Northing\",NORTH]]'), 'transform': Affine(30.004725717836003, 0.0, -3186121.23807665,\n",
      "       0.0, -30.004725717836003, 3077369.606550772), 'blockxsize': 512, 'blockysize': 128, 'tiled': True}\n",
      "Reading input: <open WarpedVRT name='WarpedVRT(/vsimem/a7182410-1cde-4f0a-8c06-26cabad6519b/a7182410-1cde-4f0a-8c06-26cabad6519b.tif)' mode='r'>\n",
      "Adding overviews...\n",
      "Updating dataset tags...\n",
      "Writing output to: /projects/test_data/esa_worldcover_v100_2020_4070083020_cog.tif\n",
      "Image written to disk:\t\t /projects/test_data/esa_worldcover_v100_2020_4070083020_cog.tif\n",
      "--in_tile_fn /projects/my-public-bucket/analyze_agb/hydrobasins/hybas_lake_as_lev07_v1c-reprj.gpkg     --in_tile_id_col HYBAS_ID     --in_tile_num 4070083020     --tile_buffer_m 0     --in_tile_layer hybas_lake_as_lev07_v1c-reprj     -o /projects/test_data/     --topo_off     --covar_src_name biomass_prelim     --covar_tile_fn /projects/shared-buckets/lduncanson/DPS_tile_lists/AGB_tindex_master.json     --in_covar_s3_col s3     --input_nodata_value -9999     --clip\n",
      "/opt/conda/lib/python3.7/site-packages/geopandas/_compat.py:110: UserWarning: The Shapely GEOS version (3.8.0-CAPI-1.13.1 ) is incompatible with the GEOS version PyGEOS was compiled with (3.10.1-CAPI-1.16.0). Conversions between both will be slow.\n",
      "  shapely_geos_version, geos_capi_version_string\n",
      "The covariate's filename(s) intersecting the 0 m bbox for tile id 4070083020:\n",
      " s3://maap-ops-workspace/lduncanson/dps_output/run_boreal_biomass_ubuntu/master/2021/10/16/06/34/53/698930/boreal_agb_20211016_3415_cog.tif\n",
      "s3://maap-ops-workspace/lduncanson/dps_output/run_boreal_biomass_ubuntu/master/2021/10/16/07/03/25/687856/boreal_agb_20211016_3506_cog.tif\n",
      "s3://maap-ops-workspace/lduncanson/dps_output/run_boreal_biomass_ubuntu/master/2021/10/16/07/05/07/770035/boreal_agb_20211016_3414_cog.tif\n",
      "s3://maap-ops-workspace/lduncanson/dps_output/run_boreal_biomass_ubuntu/master/2021/10/16/07/07/40/871329/boreal_agb_20211016_3505_cog.tif\n",
      "bbox: [-3186121.23807665, 3002721.0025259983, -3096914.5495069306, 3077369.606550772]\n",
      "Writing stack as cloud-optimized geotiff: /projects/test_data/biomass_prelim_4070083020_cog.tif\n",
      "Clipping to feature polygon...\n",
      "Orig stack shape:\t\t (4, 2488, 2973)\n",
      "Output resolution:\t\t (30, 30)\n",
      "Writing img to memory...\n",
      "/projects/Developer/icesat2_boreal/lib/build_stack.py:144: RasterioDeprecationWarning: Source dataset should be opened in read-only mode. Use of datasets opened in modes other than 'r' will be disallowed in a future version.\n",
      "  write_cog(mosaic, cog_fn, tile_parts['tile_crs'], out_trans, bandnames_list, out_crs=tile_parts['tile_crs'], resolution=(res, res), clip_geom=clip_geom, clip_crs=clip_crs, input_nodata_value=args.input_nodata_value)\n",
      "{'driver': 'VRT', 'dtype': 'float64', 'nodata': -9999, 'width': 2973, 'height': 2488, 'count': 4, 'crs': CRS.from_wkt('PROJCS[\"unnamed\",GEOGCS[\"GRS 1980(IUGG, 1980)\",DATUM[\"unknown\",SPHEROID[\"GRS80\",6378137,298.257222101],TOWGS84[0,0,0,0,0,0,0]],PRIMEM[\"Greenwich\",0],UNIT[\"degree\",0.0174532925199433]],PROJECTION[\"Albers_Conic_Equal_Area\"],PARAMETER[\"standard_parallel_1\",50],PARAMETER[\"standard_parallel_2\",70],PARAMETER[\"latitude_of_center\",40],PARAMETER[\"longitude_of_center\",180],PARAMETER[\"false_easting\",0],PARAMETER[\"false_northing\",0],UNIT[\"Meter\",1],AXIS[\"Easting\",EAST],AXIS[\"Northing\",NORTH]]'), 'transform': Affine(30.004725717836003, 0.0, -3186121.23807665,\n",
      "       0.0, -30.004725717836003, 3077369.606550772), 'blockxsize': 512, 'blockysize': 128, 'tiled': True}\n",
      "Reading input: <open WarpedVRT name='WarpedVRT(/vsimem/7d15f9c6-6ec8-43b9-821e-6227f803f98d/7d15f9c6-6ec8-43b9-821e-6227f803f98d.tif)' mode='r'>\n",
      "\u001b[?25l  [####################################]  100%          \u001b[?25h\n",
      "Adding overviews...\n",
      "Updating dataset tags...\n",
      "Writing output to: /projects/test_data/biomass_prelim_4070083020_cog.tif\n",
      "Image written to disk:\t\t /projects/test_data/biomass_prelim_4070083020_cog.tif\n"
     ]
    }
   ],
   "source": [
    "for BUILD_STACK_DICT in BUILD_STACK_DICT_LIST:\n",
    "    if False:\n",
    "        # --Special temporary case\n",
    "        # Uh oh, any mosiac json needs to have the correct projection set\n",
    "        # TODO: fix the setting of the MosaicJson in 3_DPS_review_pmm_v3\n",
    "        if BUILD_STACK_DICT['RASTER_NAME'] == 'biomass_prelim':\n",
    "\n",
    "            x = gpd.read_file(COVAR_TILE_FN)\n",
    "            print('Reset projection and reproject...')\n",
    "            x = x.set_crs(boreal_tiles.crs, allow_override=True, inplace=True).to_crs(4326)\n",
    "\n",
    "            # Write a new JSON that should have the prj set correctly in 4326\n",
    "            COVAR_TILE_FN = os.path.join('/projects/my-public-bucket/analyze_agb' , os.path.split(COVAR_TILE_FN)[1])\n",
    "            print(COVAR_TILE_FN)\n",
    "            x.to_file(COVAR_TILE_FN, driver='GeoJSON', overwrite=True)\n",
    "\n",
    "            ## Verify 4326\n",
    "            #ax = x.plot()\n",
    "            #z[z[ID_COL_NAME]==TILE_NUM].to_crs(4326).plot(color='red', ax=ax)\n",
    "\n",
    "    # INDEX clip shapes should be in equal area\n",
    "    # COVAR_TILE_FN tiles (of raster COGs) should be in 4326\n",
    "    args = f\"--in_tile_fn {BUILD_STACK_DICT['INDEX_FN']} \\\n",
    "    --in_tile_id_col {BUILD_STACK_DICT['ID_COL_NAME']} \\\n",
    "    --in_tile_num {BUILD_STACK_DICT['TILE_NUM']} \\\n",
    "    --tile_buffer_m 0 \\\n",
    "    --in_tile_layer {BUILD_STACK_DICT['INDEX_LYR']} \\\n",
    "    -o /projects/test_data/ \\\n",
    "    --topo_off \\\n",
    "    --covar_src_name {BUILD_STACK_DICT['RASTER_NAME']} \\\n",
    "    --covar_tile_fn {BUILD_STACK_DICT['COVAR_TILE_FN']} \\\n",
    "    --in_covar_s3_col {BUILD_STACK_DICT['IN_COVAR_S3_COL']} \\\n",
    "    --input_nodata_value {BUILD_STACK_DICT['NODATA_VAL']} \\\n",
    "    --clip\" #<-- testing a clip to polygon\n",
    "    \n",
    "    BUILD_STACK_DICT['OUTPUT_CLIP_COG_FN'] = f\"/projects/test_data/{BUILD_STACK_DICT['RASTER_NAME']}_{BUILD_STACK_DICT['TILE_NUM']}_cog.tif\"\n",
    "    \n",
    "    print(args)\n",
    "    !python /projects/Developer/icesat2_boreal/lib/build_stack.py $args"
   ]
  },
  {
   "cell_type": "code",
   "execution_count": 228,
   "id": "612cfb4d",
   "metadata": {},
   "outputs": [
    {
     "data": {
      "text/plain": [
       "{'landcover_cog_fn': '/projects/test_data/esa_worldcover_v100_2020_4070083020_cog.tif',\n",
       " 'biomass_cog_fn': '/projects/test_data/biomass_prelim_4070083020_cog.tif'}"
      ]
     },
     "execution_count": 228,
     "metadata": {},
     "output_type": "execute_result"
    }
   ],
   "source": [
    "# For each clip INDEX (polygon) there are 2 corresponding output clipped COGs you need\n",
    "BASIN_COG_DICT = {'landcover_cog_fn': '', 'biomass_cog_fn':''}\n",
    "for BUILD_STACK_DICT in BUILD_STACK_DICT_LIST:\n",
    "    if 'worldcover' in BUILD_STACK_DICT['OUTPUT_CLIP_COG_FN']:\n",
    "        BASIN_COG_DICT.update({'landcover_cog_fn': BUILD_STACK_DICT['OUTPUT_CLIP_COG_FN']})\n",
    "    else:\n",
    "        BASIN_COG_DICT.update({'biomass_cog_fn': BUILD_STACK_DICT['OUTPUT_CLIP_COG_FN']})\n",
    "BASIN_COG_DICT"
   ]
  },
  {
   "cell_type": "code",
   "execution_count": 83,
   "id": "e23b7b51",
   "metadata": {},
   "outputs": [],
   "source": [
    "cog_fn = '/projects/tmp/esa_worldcover_v100_2020_131_cog.tif'\n",
    "#cog_fn = f'/projects/tmp/{RASTER_NAME}_{TILE_NUM}_cog.tif'\n",
    "cog_fn = '/projects/test_data/esa_worldcover_v100_2020_4070084980_cog.tif'\n",
    "covar_stack_names = ['esa worldcover']"
   ]
  },
  {
   "cell_type": "code",
   "execution_count": 148,
   "id": "fa60baaf",
   "metadata": {},
   "outputs": [
    {
     "name": "stdout",
     "output_type": "stream",
     "text": [
      "(-3.399999952144364e+38,)\n"
     ]
    }
   ],
   "source": [
    "vrt_fn = '/projects/my-public-bucket/analyze_agb/AGB_tindex_america.vrt'\n",
    "with rasterio.open(vrt_fn) as d:\n",
    "    print(d.nodatavals)"
   ]
  },
  {
   "cell_type": "code",
   "execution_count": 237,
   "id": "619c645f",
   "metadata": {},
   "outputs": [],
   "source": [
    "# https://www.neonscience.org/resources/learning-hub/tutorials/mask-raster-py\n",
    "# Define the plot_band_array function from Day 1\n"
   ]
  },
  {
   "cell_type": "markdown",
   "id": "7f82b68f",
   "metadata": {},
   "source": [
    "### Open clipped Worldcover COG and corresponding AGB, loop over LC classes, masking, summing, etc"
   ]
  },
  {
   "cell_type": "code",
   "execution_count": 234,
   "id": "66ae08fe",
   "metadata": {},
   "outputs": [
    {
     "name": "stdout",
     "output_type": "stream",
     "text": [
      "1\n",
      "lc_arr shape: (2488, 2973)\n",
      "agb nodata value: None\n",
      "agb_arr shape: (2488, 2973)\n",
      "0 nodata 0\n",
      "\t# lc pixels in mask:\t\t\t\t0\n",
      "1 Trees 10\n",
      "\t# lc pixels in mask:\t\t\t\t4228465\n",
      "\tMin, Mean, Max values of array:\t\t\t5.4814133644104, 57.92 , 654.5051879882812\n",
      "\tTotal AGB (Mg) in Trees:\t\t\t643.58\n",
      "2 Shrubland 20\n",
      "\t# lc pixels in mask:\t\t\t\t4867\n",
      "\tMin, Mean, Max values of array:\t\t\t6.030940055847168, 37.42 , 381.03131103515625\n",
      "\tTotal AGB (Mg) in Shrubland:\t\t\t415.74\n",
      "3 Grassland 30\n",
      "\t# lc pixels in mask:\t\t\t\t460918\n",
      "\tMin, Mean, Max values of array:\t\t\t6.157501220703125, 28.97 , 606.072509765625\n",
      "\tTotal AGB (Mg) in Grassland:\t\t\t321.93\n",
      "4 Cropland 40\n",
      "\t# lc pixels in mask:\t\t\t\t9\n",
      "\t\t337.90725896387926\n",
      "\tMin, Mean, Max values of array:\t\t\t20.721467971801758, 30.41 , 54.60833740234375\n",
      "\tTotal AGB (Mg) in Cropland:\t\t\t337.91\n",
      "5 Built-up 50\n",
      "\t# lc pixels in mask:\t\t\t\t12155\n",
      "\tMin, Mean, Max values of array:\t\t\t5.915366172790527, 32.23 , 524.8231201171875\n",
      "\tTotal AGB (Mg) in Built-up:\t\t\t358.12\n",
      "6 Barren/sparse 60\n",
      "\t# lc pixels in mask:\t\t\t\t18657\n",
      "\tMin, Mean, Max values of array:\t\t\t5.035669803619385, 34.45 , 561.7781982421875\n",
      "\tTotal AGB (Mg) in Barren/sparse:\t\t\t382.75\n",
      "7 Snow and ice 70\n",
      "\t# lc pixels in mask:\t\t\t\t0\n",
      "8 Open water 80\n",
      "\t# lc pixels in mask:\t\t\t\t10259\n",
      "\tMin, Mean, Max values of array:\t\t\t6.662235736846924, 52.55 , 603.0526733398438\n",
      "\tTotal AGB (Mg) in Open water:\t\t\t583.88\n",
      "9 Herbaceous wetland 90\n",
      "\t# lc pixels in mask:\t\t\t\t1174\n",
      "\tMin, Mean, Max values of array:\t\t\t8.76070499420166, 33.11 , 455.1074523925781\n",
      "\tTotal AGB (Mg) in Herbaceous wetland:\t\t\t367.86\n",
      "10 Mangroves 95\n",
      "\t# lc pixels in mask:\t\t\t\t0\n",
      "11 Moss and lichen 100\n",
      "\t# lc pixels in mask:\t\t\t\t14862\n",
      "\tMin, Mean, Max values of array:\t\t\t5.783833026885986, 28.06 , 606.1812744140625\n",
      "\tTotal AGB (Mg) in Moss and lichen:\t\t\t311.78\n"
     ]
    },
    {
     "data": {
      "image/png": "[encoded data removed]",
      "text/plain": [
       "<Figure size 2160x720 with 14 Axes>"
      ]
     },
     "metadata": {
      "needs_background": "light"
     },
     "output_type": "display_data"
    }
   ],
   "source": [
    "## %%time\n",
    "\n",
    "area_pix_ha = 0.09\n",
    "\n",
    "# The land cover values in which you want to summarize AGB\n",
    "values_worldcover = [0,10,20,30,40,50,60,70,80,90,95,100] #'Trees', 'Shrubland', 'Grassland','Cropland', 'Barren / sparse vegetation', 'Herbaceous wetland','Moss and lichen'\n",
    "\n",
    "fig, axes = plt.subplots(nrows=1, ncols=len(values_worldcover)+2, figsize=(30,10), sharex=True, sharey=True)\n",
    "\n",
    "# Read back in the topo_stack_cog_fn and plot\n",
    "\n",
    "with rasterio.open(BASIN_COG_DICT['landcover_cog_fn']) as dataset:\n",
    "\n",
    "    print(dataset.count)\n",
    "    \n",
    "    lc_arr = dataset.read(1)\n",
    "    print(f\"lc_arr shape: {lc_arr.shape}\")\n",
    "    \n",
    "    # Plotting\n",
    "    names_worldcover = ['nodata','Trees', 'Shrubland', 'Grassland','Cropland','Built-up','Barren/sparse','Snow and ice','Open water','Herbaceous wetland','Mangroves','Moss and lichen']\n",
    "    cols_worldcover = [\"white\",\"#006400\",\"#ffbb22\",\"#ffff4c\",\"#f096ff\",\"#fa0000\",\"#b4b4b4\",\"#f0f0f0\",\"#0064c8\",\"#0096a0\",\"#00cf75\",\"#fae6a0\"]\n",
    "    #cols_worldcover = [\"white\",\"green\",\"orange\",\"yellow\",\"purple\",\"red\",\"brown\",\"gray\",\"blue\",\"pink\",\"cyan\",\"black\"]\n",
    "    cols_mask = [\"white\", \"red\"]\n",
    "    \n",
    "    values_mask = [0,1]\n",
    "\n",
    "    cmap_worldcover = ListedColormap(cols_worldcover)\n",
    "    norm_worldcover = BoundaryNorm(values_worldcover, len(cols_worldcover))\n",
    "\n",
    "    cmap_masked = ListedColormap(cols_mask)\n",
    "    norm_masked= BoundaryNorm(values_mask, len(cols_mask))\n",
    "    \n",
    "    axes[0].imshow(lc_arr, cmap=cmap_worldcover, norm=norm_worldcover)\n",
    "    axes[0].set_title(f\" ESA Worldcover Classes\")\n",
    "    \n",
    "    # Find sum of AGB per LC class\n",
    "    # multiply by AGB values and sum\n",
    "    with rasterio.open(BASIN_COG_DICT['biomass_cog_fn']) as dataset_agb:\n",
    "        \n",
    "        agb_arr = dataset_agb.read(1)\n",
    "        print(f\"agb nodata value: {dataset_agb.nodata}\")\n",
    "        \n",
    "        agb_arr = np.ma.masked_where( (lc_arr==0) | (agb_arr<0), agb_arr)\n",
    "        \n",
    "        print(f\"agb_arr shape: {agb_arr.shape}\")\n",
    "        axes[1].imshow(agb_arr, clim=(0,100))\n",
    "        axes[1].set_title(f\"Boreal Biomass Prelim\")\n",
    "    \n",
    "        for i, LC_VALUE in enumerate(values_worldcover):\n",
    "\n",
    "            LC_NAME = names_worldcover[i]\n",
    "            print(i, LC_NAME, LC_VALUE)\n",
    "\n",
    "            # For LC value of interest\n",
    "            lc_agb_arr = np.ma.masked_where( (lc_arr == 0) | (agb_arr < 0) | (lc_arr != LC_VALUE) , agb_arr)\n",
    "            \n",
    "            num_lc_pixels_in_mask = lc_agb_arr.count()\n",
    "            print(f\"\\t# lc pixels in mask:\\t\\t\\t\\t{num_lc_pixels_in_mask}\")\n",
    "            \n",
    "            #if LC_VALUE == 40:\n",
    "            #    print(f\"\\t\\t{sum(lc_agb_arr[lc_agb_arr.mask == False].tolist()) / (num_lc_pixels_in_mask * area_pix_ha)}\")\n",
    "            \n",
    "            if num_lc_pixels_in_mask > 0:\n",
    "                \n",
    "                print(f\"\\tMin, Mean, Max values of array:\\t\\t\\t{lc_agb_arr.min()}, {round(lc_agb_arr.mean(),2)} , {lc_agb_arr.max()}\")\n",
    "\n",
    "                # ***To get error bars on total (Mg), need to have mean AGB raster and sd AGB raster, and use them to sample a normal distribution of AGB values per pixel, n=100 times per pixel?\n",
    "                # Then get all the totals from the n layers, and get the mean total and the sd of the total\n",
    "                print(f\"\\tTotal AGB (Mg) in {LC_NAME}:\\t\\t\\t{round( lc_agb_arr.sum() / (num_lc_pixels_in_mask * area_pix_ha), 2)}\")\n",
    "            \n",
    "            # To plot with a legend:\n",
    "            # https://www.earthdatascience.org/courses/use-data-open-source-python/intro-raster-data-python/raster-data-processing/classify-plot-raster-data-in-python/\n",
    "            axes[i+2].plot(lc_agb_arr, clim=(0,100))\n",
    "            axes[i+2].set_title(f\"{num_lc_pixels_in_mask}\\n{LC_NAME}\")\n",
    "            #show(lc_mask, cmap=cmap_masked, norm=norm_masked)\n",
    "            #show_hist(lc_mask, bins=len(values_masked)+1, lw=0.0, stacked=False, alpha=0.3, histtype='stepfilled', title=\"Histogram of ESA Worldcover Class Values\")"
   ]
  },
  {
   "cell_type": "code",
   "execution_count": 188,
   "id": "5d76e272",
   "metadata": {},
   "outputs": [
    {
     "name": "stdout",
     "output_type": "stream",
     "text": [
      "lc_arr shape: (6,)\n",
      "agb_arr shape: (6,)\n",
      "# lc pixels in mask: 2\n",
      "[-- 20.78 -- -- -- 10.0]\n",
      "30.78\n"
     ]
    }
   ],
   "source": [
    "lc_arr = np.array([0,10,20,30,40,10])\n",
    "agb_arr = np.array([-9999.0,20.78,5.65,200.8,45.7,10.0])  \n",
    "\n",
    "print(f\"lc_arr shape: {lc_arr.shape}\")\n",
    "print(f\"agb_arr shape: {agb_arr.shape}\")\n",
    "\n",
    "LC_VALUE = 10\n",
    "\n",
    "# For LC value of interest, set to 1, else mask out\n",
    "lc_agb_arr = np.ma.masked_where( (lc_arr == 0) | (agb_arr < 0) | (lc_arr!=LC_VALUE) , agb_arr)\n",
    "\n",
    "num_lc_pixels_in_mask = lc_agb_arr.count()\n",
    "print(f\"# lc pixels in mask: {num_lc_pixels_in_mask}\")\n",
    "\n",
    "print(lc_agb_arr)\n",
    "print(lc_agb_arr.sum())"
   ]
  },
  {
   "cell_type": "markdown",
   "id": "f444aa5d",
   "metadata": {},
   "source": [
    "### Build the VRT of the Worldcover covar data on s3 for the region"
   ]
  },
  {
   "cell_type": "code",
   "execution_count": 28,
   "id": "587b39ea",
   "metadata": {},
   "outputs": [
    {
     "name": "stdout",
     "output_type": "stream",
     "text": [
      "1 esa_worldcover_v100_2020\n",
      "0...10...20...30...40...50...60...70...80...90...100 - done.\n",
      "\n",
      "real\t1m0.068s\n",
      "user\t0m0.868s\n",
      "sys\t0m0.063s\n"
     ]
    }
   ],
   "source": [
    "for bandnum, bandname in bands_dict.items():\n",
    "    \n",
    "    print(bandnum, bandname)\n",
    "    \n",
    "    # Write a vrt list\n",
    "    covar_vrt_list = os.path.join(outdir, f\"cog_tindex.{bandname}.{tile_group_region_string}.txt\")\n",
    "\n",
    "    with open(covar_vrt_list, 'w') as f:\n",
    "\n",
    "        for text in covar_footprint_tiles_subset['s3_path'].tolist():\n",
    "            f.write(text.replace(\"s3:/\",\"/vsis3\") + '\\n')\n",
    "    \n",
    "    # Make vrt name from text file name\n",
    "    covar_vrt_fn = covar_vrt_list.replace('.txt','.vrt')\n",
    "\n",
    "    #get the bbox as part of the gdalbuildvrt and define it, to save time calculating\n",
    "    extent = [int(b) for b in covar_footprint_tiles_subset.total_bounds]\n",
    "    \n",
    "    extent_str = ' '.join(str(e) for e in extent)\n",
    "    \n",
    "    ###!time gdalbuildvrt -b 1 -te 458521 1503304 5408522 7623304 -input_file_list $vrt_list $vrt_fn\n",
    "    !time gdalbuildvrt -b $bandnum -te $extent_str -input_file_list $covar_vrt_list $covar_vrt_fn\n",
    "    print(covar_vrt_fn)\n",
    "    "
   ]
  },
  {
   "cell_type": "code",
   "execution_count": 33,
   "id": "c1a4bee8",
   "metadata": {},
   "outputs": [
    {
     "name": "stdout",
     "output_type": "stream",
     "text": [
      "Collecting rioxarray\n",
      "  Using cached rioxarray-0.9.1-py3-none-any.whl\n",
      "Collecting xarray>=0.17\n",
      "  Using cached xarray-0.20.2-py3-none-any.whl (845 kB)\n",
      "Requirement already satisfied: packaging in /opt/conda/lib/python3.7/site-packages (from rioxarray) (21.0)\n",
      "Requirement already satisfied: pyproj>=2.2 in /opt/conda/lib/python3.7/site-packages (from rioxarray) (2.6.1.post1)\n",
      "Requirement already satisfied: rasterio in /opt/conda/lib/python3.7/site-packages (from rioxarray) (1.2.6)\n",
      "Requirement already satisfied: numpy>=1.18 in /projects/.local/lib/python3.7/site-packages (from xarray>=0.17->rioxarray) (1.21.0)\n",
      "Requirement already satisfied: pandas>=1.1 in /projects/.local/lib/python3.7/site-packages (from xarray>=0.17->rioxarray) (1.2.2)\n",
      "Requirement already satisfied: importlib-metadata in /opt/conda/lib/python3.7/site-packages (from xarray>=0.17->rioxarray) (4.8.1)\n",
      "Requirement already satisfied: typing-extensions>=3.7 in /opt/conda/lib/python3.7/site-packages (from xarray>=0.17->rioxarray) (3.10.0.2)\n",
      "Requirement already satisfied: pyparsing>=2.0.2 in /opt/conda/lib/python3.7/site-packages (from packaging->rioxarray) (2.4.7)\n",
      "Requirement already satisfied: click>=4.0 in /opt/conda/lib/python3.7/site-packages (from rasterio->rioxarray) (7.1.2)\n",
      "Requirement already satisfied: certifi in /opt/conda/lib/python3.7/site-packages (from rasterio->rioxarray) (2021.5.30)\n",
      "Requirement already satisfied: affine in /opt/conda/lib/python3.7/site-packages (from rasterio->rioxarray) (2.3.0)\n",
      "Requirement already satisfied: snuggs>=1.4.1 in /opt/conda/lib/python3.7/site-packages (from rasterio->rioxarray) (1.4.7)\n",
      "Requirement already satisfied: setuptools in /opt/conda/lib/python3.7/site-packages (from rasterio->rioxarray) (49.6.0.post20201009)\n",
      "Requirement already satisfied: click-plugins in /opt/conda/lib/python3.7/site-packages (from rasterio->rioxarray) (1.1.1)\n",
      "Requirement already satisfied: cligj>=0.5 in /opt/conda/lib/python3.7/site-packages (from rasterio->rioxarray) (0.7.0)\n",
      "Requirement already satisfied: attrs in /opt/conda/lib/python3.7/site-packages (from rasterio->rioxarray) (20.2.0)\n",
      "Requirement already satisfied: pytz>=2017.3 in /opt/conda/lib/python3.7/site-packages (from pandas>=1.1->xarray>=0.17->rioxarray) (2021.1)\n",
      "Requirement already satisfied: python-dateutil>=2.7.3 in /opt/conda/lib/python3.7/site-packages (from pandas>=1.1->xarray>=0.17->rioxarray) (2.8.2)\n",
      "Requirement already satisfied: zipp>=0.5 in /opt/conda/lib/python3.7/site-packages (from importlib-metadata->xarray>=0.17->rioxarray) (3.6.0)\n",
      "Requirement already satisfied: six>=1.5 in /opt/conda/lib/python3.7/site-packages (from python-dateutil>=2.7.3->pandas>=1.1->xarray>=0.17->rioxarray) (1.15.0)\n",
      "Installing collected packages: xarray, rioxarray\n",
      "Successfully installed rioxarray-0.9.1 xarray-0.20.2\n",
      "\u001b[33mWARNING: Running pip as the 'root' user can result in broken permissions and conflicting behaviour with the system package manager. It is recommended to use a virtual environment instead: https://pip.pypa.io/warnings/venv\u001b[0m\u001b[33m\n",
      "\u001b[0m\u001b[33mWARNING: You are using pip version 22.0.3; however, version 22.0.4 is available.\n",
      "You should consider upgrading via the '/opt/conda/bin/python3.7 -m pip install --upgrade pip' command.\u001b[0m\u001b[33m\n",
      "\u001b[0m"
     ]
    }
   ],
   "source": [
    "!pip install -U rioxarray"
   ]
  },
  {
   "cell_type": "code",
   "execution_count": 2,
   "id": "75bb3c76",
   "metadata": {},
   "outputs": [],
   "source": [
    "\n",
    "import rioxarray\n",
    "import fiona\n",
    "\n",
    "covar_vrt_fn = '/projects/my-public-bucket/analyze_agb/cog_tindex.esa_worldcover_v100_2020.wwf_boreal_america.vrt'\n",
    "# result from build_stack.py - a LC clip to a hydrobasin at 30m in boreal equal area prj\n",
    "covar_vrt_fn = '/projects/tmp/esa_worldcover_v100_2020_4070084980_cog.tif'\n",
    "vrt_fn = '/projects/my-public-bucket/analyze_agb/cog_tindex.agb_mean.america.vrt'\n",
    "# open the rasters\n",
    "rds1 = rioxarray.open_rasterio(covar_vrt_fn)\n",
    "rds2 = rioxarray.open_rasterio(vrt_fn)"
   ]
  },
  {
   "cell_type": "code",
   "execution_count": 3,
   "id": "886ab2e3",
   "metadata": {},
   "outputs": [
    {
     "data": {
      "text/html": [
       "<div><svg style=\"position: absolute; width: 0; height: 0; overflow: hidden\">\n",
       "<defs>\n",
       "<symbol id=\"icon-database\" viewBox=\"0 0 32 32\">\n",
       "<path d=\"M16 0c-8.837 0-16 2.239-16 5v4c0 2.761 7.163 5 16 5s16-2.239 16-5v-4c0-2.761-7.163-5-16-5z\"></path>\n",
       "<path d=\"M16 17c-8.837 0-16-2.239-16-5v6c0 2.761 7.163 5 16 5s16-2.239 16-5v-6c0 2.761-7.163 5-16 5z\"></path>\n",
       "<path d=\"M16 26c-8.837 0-16-2.239-16-5v6c0 2.761 7.163 5 16 5s16-2.239 16-5v-6c0 2.761-7.163 5-16 5z\"></path>\n",
       "</symbol>\n",
       "<symbol id=\"icon-file-text2\" viewBox=\"0 0 32 32\">\n",
       "<path d=\"M28.681 7.159c-0.694-0.947-1.662-2.053-2.724-3.116s-2.169-2.030-3.116-2.724c-1.612-1.182-2.393-1.319-2.841-1.319h-15.5c-1.378 0-2.5 1.121-2.5 2.5v27c0 1.378 1.122 2.5 2.5 2.5h23c1.378 0 2.5-1.122 2.5-2.5v-19.5c0-0.448-0.137-1.23-1.319-2.841zM24.543 5.457c0.959 0.959 1.712 1.825 2.268 2.543h-4.811v-4.811c0.718 0.556 1.584 1.309 2.543 2.268zM28 29.5c0 0.271-0.229 0.5-0.5 0.5h-23c-0.271 0-0.5-0.229-0.5-0.5v-27c0-0.271 0.229-0.5 0.5-0.5 0 0 15.499-0 15.5 0v7c0 0.552 0.448 1 1 1h7v19.5z\"></path>\n",
       "<path d=\"M23 26h-14c-0.552 0-1-0.448-1-1s0.448-1 1-1h14c0.552 0 1 0.448 1 1s-0.448 1-1 1z\"></path>\n",
       "<path d=\"M23 22h-14c-0.552 0-1-0.448-1-1s0.448-1 1-1h14c0.552 0 1 0.448 1 1s-0.448 1-1 1z\"></path>\n",
       "<path d=\"M23 18h-14c-0.552 0-1-0.448-1-1s0.448-1 1-1h14c0.552 0 1 0.448 1 1s-0.448 1-1 1z\"></path>\n",
       "</symbol>\n",
       "</defs>\n",
       "</svg>\n",
       "<style>/* CSS stylesheet for displaying xarray objects in jupyterlab.\n",
       " *\n",
       " */\n",
       "\n",
       ":root {\n",
       "  --xr-font-color0: var(--jp-content-font-color0, rgba(0, 0, 0, 1));\n",
       "  --xr-font-color2: var(--jp-content-font-color2, rgba(0, 0, 0, 0.54));\n",
       "  --xr-font-color3: var(--jp-content-font-color3, rgba(0, 0, 0, 0.38));\n",
       "  --xr-border-color: var(--jp-border-color2, #e0e0e0);\n",
       "  --xr-disabled-color: var(--jp-layout-color3, #bdbdbd);\n",
       "  --xr-background-color: var(--jp-layout-color0, white);\n",
       "  --xr-background-color-row-even: var(--jp-layout-color1, white);\n",
       "  --xr-background-color-row-odd: var(--jp-layout-color2, #eeeeee);\n",
       "}\n",
       "\n",
       "html[theme=dark],\n",
       "body.vscode-dark {\n",
       "  --xr-font-color0: rgba(255, 255, 255, 1);\n",
       "  --xr-font-color2: rgba(255, 255, 255, 0.54);\n",
       "  --xr-font-color3: rgba(255, 255, 255, 0.38);\n",
       "  --xr-border-color: #1F1F1F;\n",
       "  --xr-disabled-color: #515151;\n",
       "  --xr-background-color: #111111;\n",
       "  --xr-background-color-row-even: #111111;\n",
       "  --xr-background-color-row-odd: #313131;\n",
       "}\n",
       "\n",
       ".xr-wrap {\n",
       "  display: block !important;\n",
       "  min-width: 300px;\n",
       "  max-width: 700px;\n",
       "}\n",
       "\n",
       ".xr-text-repr-fallback {\n",
       "  /* fallback to plain text repr when CSS is not injected (untrusted notebook) */\n",
       "  display: none;\n",
       "}\n",
       "\n",
       ".xr-header {\n",
       "  padding-top: 6px;\n",
       "  padding-bottom: 6px;\n",
       "  margin-bottom: 4px;\n",
       "  border-bottom: solid 1px var(--xr-border-color);\n",
       "}\n",
       "\n",
       ".xr-header > div,\n",
       ".xr-header > ul {\n",
       "  display: inline;\n",
       "  margin-top: 0;\n",
       "  margin-bottom: 0;\n",
       "}\n",
       "\n",
       ".xr-obj-type,\n",
       ".xr-array-name {\n",
       "  margin-left: 2px;\n",
       "  margin-right: 10px;\n",
       "}\n",
       "\n",
       ".xr-obj-type {\n",
       "  color: var(--xr-font-color2);\n",
       "}\n",
       "\n",
       ".xr-sections {\n",
       "  padding-left: 0 !important;\n",
       "  display: grid;\n",
       "  grid-template-columns: 150px auto auto 1fr 20px 20px;\n",
       "}\n",
       "\n",
       ".xr-section-item {\n",
       "  display: contents;\n",
       "}\n",
       "\n",
       ".xr-section-item input {\n",
       "  display: none;\n",
       "}\n",
       "\n",
       ".xr-section-item input + label {\n",
       "  color: var(--xr-disabled-color);\n",
       "}\n",
       "\n",
       ".xr-section-item input:enabled + label {\n",
       "  cursor: pointer;\n",
       "  color: var(--xr-font-color2);\n",
       "}\n",
       "\n",
       ".xr-section-item input:enabled + label:hover {\n",
       "  color: var(--xr-font-color0);\n",
       "}\n",
       "\n",
       ".xr-section-summary {\n",
       "  grid-column: 1;\n",
       "  color: var(--xr-font-color2);\n",
       "  font-weight: 500;\n",
       "}\n",
       "\n",
       ".xr-section-summary > span {\n",
       "  display: inline-block;\n",
       "  padding-left: 0.5em;\n",
       "}\n",
       "\n",
       ".xr-section-summary-in:disabled + label {\n",
       "  color: var(--xr-font-color2);\n",
       "}\n",
       "\n",
       ".xr-section-summary-in + label:before {\n",
       "  display: inline-block;\n",
       "  content: '►';\n",
       "  font-size: 11px;\n",
       "  width: 15px;\n",
       "  text-align: center;\n",
       "}\n",
       "\n",
       ".xr-section-summary-in:disabled + label:before {\n",
       "  color: var(--xr-disabled-color);\n",
       "}\n",
       "\n",
       ".xr-section-summary-in:checked + label:before {\n",
       "  content: '▼';\n",
       "}\n",
       "\n",
       ".xr-section-summary-in:checked + label > span {\n",
       "  display: none;\n",
       "}\n",
       "\n",
       ".xr-section-summary,\n",
       ".xr-section-inline-details {\n",
       "  padding-top: 4px;\n",
       "  padding-bottom: 4px;\n",
       "}\n",
       "\n",
       ".xr-section-inline-details {\n",
       "  grid-column: 2 / -1;\n",
       "}\n",
       "\n",
       ".xr-section-details {\n",
       "  display: none;\n",
       "  grid-column: 1 / -1;\n",
       "  margin-bottom: 5px;\n",
       "}\n",
       "\n",
       ".xr-section-summary-in:checked ~ .xr-section-details {\n",
       "  display: contents;\n",
       "}\n",
       "\n",
       ".xr-array-wrap {\n",
       "  grid-column: 1 / -1;\n",
       "  display: grid;\n",
       "  grid-template-columns: 20px auto;\n",
       "}\n",
       "\n",
       ".xr-array-wrap > label {\n",
       "  grid-column: 1;\n",
       "  vertical-align: top;\n",
       "}\n",
       "\n",
       ".xr-preview {\n",
       "  color: var(--xr-font-color3);\n",
       "}\n",
       "\n",
       ".xr-array-preview,\n",
       ".xr-array-data {\n",
       "  padding: 0 5px !important;\n",
       "  grid-column: 2;\n",
       "}\n",
       "\n",
       ".xr-array-data,\n",
       ".xr-array-in:checked ~ .xr-array-preview {\n",
       "  display: none;\n",
       "}\n",
       "\n",
       ".xr-array-in:checked ~ .xr-array-data,\n",
       ".xr-array-preview {\n",
       "  display: inline-block;\n",
       "}\n",
       "\n",
       ".xr-dim-list {\n",
       "  display: inline-block !important;\n",
       "  list-style: none;\n",
       "  padding: 0 !important;\n",
       "  margin: 0;\n",
       "}\n",
       "\n",
       ".xr-dim-list li {\n",
       "  display: inline-block;\n",
       "  padding: 0;\n",
       "  margin: 0;\n",
       "}\n",
       "\n",
       ".xr-dim-list:before {\n",
       "  content: '(';\n",
       "}\n",
       "\n",
       ".xr-dim-list:after {\n",
       "  content: ')';\n",
       "}\n",
       "\n",
       ".xr-dim-list li:not(:last-child):after {\n",
       "  content: ',';\n",
       "  padding-right: 5px;\n",
       "}\n",
       "\n",
       ".xr-has-index {\n",
       "  font-weight: bold;\n",
       "}\n",
       "\n",
       ".xr-var-list,\n",
       ".xr-var-item {\n",
       "  display: contents;\n",
       "}\n",
       "\n",
       ".xr-var-item > div,\n",
       ".xr-var-item label,\n",
       ".xr-var-item > .xr-var-name span {\n",
       "  background-color: var(--xr-background-color-row-even);\n",
       "  margin-bottom: 0;\n",
       "}\n",
       "\n",
       ".xr-var-item > .xr-var-name:hover span {\n",
       "  padding-right: 5px;\n",
       "}\n",
       "\n",
       ".xr-var-list > li:nth-child(odd) > div,\n",
       ".xr-var-list > li:nth-child(odd) > label,\n",
       ".xr-var-list > li:nth-child(odd) > .xr-var-name span {\n",
       "  background-color: var(--xr-background-color-row-odd);\n",
       "}\n",
       "\n",
       ".xr-var-name {\n",
       "  grid-column: 1;\n",
       "}\n",
       "\n",
       ".xr-var-dims {\n",
       "  grid-column: 2;\n",
       "}\n",
       "\n",
       ".xr-var-dtype {\n",
       "  grid-column: 3;\n",
       "  text-align: right;\n",
       "  color: var(--xr-font-color2);\n",
       "}\n",
       "\n",
       ".xr-var-preview {\n",
       "  grid-column: 4;\n",
       "}\n",
       "\n",
       ".xr-var-name,\n",
       ".xr-var-dims,\n",
       ".xr-var-dtype,\n",
       ".xr-preview,\n",
       ".xr-attrs dt {\n",
       "  white-space: nowrap;\n",
       "  overflow: hidden;\n",
       "  text-overflow: ellipsis;\n",
       "  padding-right: 10px;\n",
       "}\n",
       "\n",
       ".xr-var-name:hover,\n",
       ".xr-var-dims:hover,\n",
       ".xr-var-dtype:hover,\n",
       ".xr-attrs dt:hover {\n",
       "  overflow: visible;\n",
       "  width: auto;\n",
       "  z-index: 1;\n",
       "}\n",
       "\n",
       ".xr-var-attrs,\n",
       ".xr-var-data {\n",
       "  display: none;\n",
       "  background-color: var(--xr-background-color) !important;\n",
       "  padding-bottom: 5px !important;\n",
       "}\n",
       "\n",
       ".xr-var-attrs-in:checked ~ .xr-var-attrs,\n",
       ".xr-var-data-in:checked ~ .xr-var-data {\n",
       "  display: block;\n",
       "}\n",
       "\n",
       ".xr-var-data > table {\n",
       "  float: right;\n",
       "}\n",
       "\n",
       ".xr-var-name span,\n",
       ".xr-var-data,\n",
       ".xr-attrs {\n",
       "  padding-left: 25px !important;\n",
       "}\n",
       "\n",
       ".xr-attrs,\n",
       ".xr-var-attrs,\n",
       ".xr-var-data {\n",
       "  grid-column: 1 / -1;\n",
       "}\n",
       "\n",
       "dl.xr-attrs {\n",
       "  padding: 0;\n",
       "  margin: 0;\n",
       "  display: grid;\n",
       "  grid-template-columns: 125px auto;\n",
       "}\n",
       "\n",
       ".xr-attrs dt,\n",
       ".xr-attrs dd {\n",
       "  padding: 0;\n",
       "  margin: 0;\n",
       "  float: left;\n",
       "  padding-right: 10px;\n",
       "  width: auto;\n",
       "}\n",
       "\n",
       ".xr-attrs dt {\n",
       "  font-weight: normal;\n",
       "  grid-column: 1;\n",
       "}\n",
       "\n",
       ".xr-attrs dt:hover span {\n",
       "  display: inline-block;\n",
       "  background: var(--xr-background-color);\n",
       "  padding-right: 10px;\n",
       "}\n",
       "\n",
       ".xr-attrs dd {\n",
       "  grid-column: 2;\n",
       "  white-space: pre-wrap;\n",
       "  word-break: break-all;\n",
       "}\n",
       "\n",
       ".xr-icon-database,\n",
       ".xr-icon-file-text2 {\n",
       "  display: inline-block;\n",
       "  vertical-align: middle;\n",
       "  width: 1em;\n",
       "  height: 1.5em !important;\n",
       "  stroke-width: 0;\n",
       "  stroke: currentColor;\n",
       "  fill: currentColor;\n",
       "}\n",
       "</style><pre class='xr-text-repr-fallback'>&lt;xarray.DataArray (band: 1, y: 204000, x: 165000)&gt;\n",
       "[33660000000 values with dtype=float32]\n",
       "Coordinates:\n",
       "  * band         (band) int64 1\n",
       "  * x            (x) float64 4.585e+05 4.586e+05 ... 5.408e+06 5.409e+06\n",
       "  * y            (y) float64 7.623e+06 7.623e+06 ... 1.503e+06 1.503e+06\n",
       "    spatial_ref  int64 0\n",
       "Attributes:\n",
       "    _FillValue:    -3.399999952144364e+38\n",
       "    scale_factor:  1.0\n",
       "    add_offset:    0.0</pre><div class='xr-wrap' style='display:none'><div class='xr-header'><div class='xr-obj-type'>xarray.DataArray</div><div class='xr-array-name'></div><ul class='xr-dim-list'><li><span class='xr-has-index'>band</span>: 1</li><li><span class='xr-has-index'>y</span>: 204000</li><li><span class='xr-has-index'>x</span>: 165000</li></ul></div><ul class='xr-sections'><li class='xr-section-item'><div class='xr-array-wrap'><input id='section-61f7cd4e-8178-4d1f-9168-8805971b99f9' class='xr-array-in' type='checkbox' checked><label for='section-61f7cd4e-8178-4d1f-9168-8805971b99f9' title='Show/hide data repr'><svg class='icon xr-icon-database'><use xlink:href='#icon-database'></use></svg></label><div class='xr-array-preview xr-preview'><span>...</span></div><div class='xr-array-data'><pre>[33660000000 values with dtype=float32]</pre></div></div></li><li class='xr-section-item'><input id='section-f0925b72-a7a5-4f96-a023-a865ddbb1f9d' class='xr-section-summary-in' type='checkbox'  checked><label for='section-f0925b72-a7a5-4f96-a023-a865ddbb1f9d' class='xr-section-summary' >Coordinates: <span>(4)</span></label><div class='xr-section-inline-details'></div><div class='xr-section-details'><ul class='xr-var-list'><li class='xr-var-item'><div class='xr-var-name'><span class='xr-has-index'>band</span></div><div class='xr-var-dims'>(band)</div><div class='xr-var-dtype'>int64</div><div class='xr-var-preview xr-preview'>1</div><input id='attrs-49e453aa-1976-4ab5-9877-4529728fe30a' class='xr-var-attrs-in' type='checkbox' disabled><label for='attrs-49e453aa-1976-4ab5-9877-4529728fe30a' title='Show/Hide attributes'><svg class='icon xr-icon-file-text2'><use xlink:href='#icon-file-text2'></use></svg></label><input id='data-28b13903-9d5f-4c96-a22b-d0d2412e49a7' class='xr-var-data-in' type='checkbox'><label for='data-28b13903-9d5f-4c96-a22b-d0d2412e49a7' title='Show/Hide data repr'><svg class='icon xr-icon-database'><use xlink:href='#icon-database'></use></svg></label><div class='xr-var-attrs'><dl class='xr-attrs'></dl></div><div class='xr-var-data'><pre>array([1])</pre></div></li><li class='xr-var-item'><div class='xr-var-name'><span class='xr-has-index'>x</span></div><div class='xr-var-dims'>(x)</div><div class='xr-var-dtype'>float64</div><div class='xr-var-preview xr-preview'>4.585e+05 4.586e+05 ... 5.409e+06</div><input id='attrs-4e952707-ccac-4398-80d0-fab237c29724' class='xr-var-attrs-in' type='checkbox' disabled><label for='attrs-4e952707-ccac-4398-80d0-fab237c29724' title='Show/Hide attributes'><svg class='icon xr-icon-file-text2'><use xlink:href='#icon-file-text2'></use></svg></label><input id='data-29905ca2-b781-439a-9fc2-6fde8845827f' class='xr-var-data-in' type='checkbox'><label for='data-29905ca2-b781-439a-9fc2-6fde8845827f' title='Show/Hide data repr'><svg class='icon xr-icon-database'><use xlink:href='#icon-database'></use></svg></label><div class='xr-var-attrs'><dl class='xr-attrs'></dl></div><div class='xr-var-data'><pre>array([ 458536.,  458566.,  458596., ..., 5408446., 5408476., 5408506.])</pre></div></li><li class='xr-var-item'><div class='xr-var-name'><span class='xr-has-index'>y</span></div><div class='xr-var-dims'>(y)</div><div class='xr-var-dtype'>float64</div><div class='xr-var-preview xr-preview'>7.623e+06 7.623e+06 ... 1.503e+06</div><input id='attrs-83ef9524-c48c-4273-8f64-d9f766cb4870' class='xr-var-attrs-in' type='checkbox' disabled><label for='attrs-83ef9524-c48c-4273-8f64-d9f766cb4870' title='Show/Hide attributes'><svg class='icon xr-icon-file-text2'><use xlink:href='#icon-file-text2'></use></svg></label><input id='data-a93f8cd5-67e0-43d6-a16d-1905f0c22ed7' class='xr-var-data-in' type='checkbox'><label for='data-a93f8cd5-67e0-43d6-a16d-1905f0c22ed7' title='Show/Hide data repr'><svg class='icon xr-icon-database'><use xlink:href='#icon-database'></use></svg></label><div class='xr-var-attrs'><dl class='xr-attrs'></dl></div><div class='xr-var-data'><pre>array([7623289., 7623259., 7623229., ..., 1503379., 1503349., 1503319.])</pre></div></li><li class='xr-var-item'><div class='xr-var-name'><span>spatial_ref</span></div><div class='xr-var-dims'>()</div><div class='xr-var-dtype'>int64</div><div class='xr-var-preview xr-preview'>0</div><input id='attrs-f9af2726-fd7d-4bf6-91b0-a13289c70722' class='xr-var-attrs-in' type='checkbox' ><label for='attrs-f9af2726-fd7d-4bf6-91b0-a13289c70722' title='Show/Hide attributes'><svg class='icon xr-icon-file-text2'><use xlink:href='#icon-file-text2'></use></svg></label><input id='data-3b8a7326-640c-421f-8173-9a57e241c16b' class='xr-var-data-in' type='checkbox'><label for='data-3b8a7326-640c-421f-8173-9a57e241c16b' title='Show/Hide data repr'><svg class='icon xr-icon-database'><use xlink:href='#icon-database'></use></svg></label><div class='xr-var-attrs'><dl class='xr-attrs'><dt><span>crs_wkt :</span></dt><dd>PROJCS[&quot;unknown&quot;,GEOGCS[&quot;NAD83&quot;,DATUM[&quot;North_American_Datum_1983&quot;,SPHEROID[&quot;GRS 1980&quot;,6378137,298.257222101004,AUTHORITY[&quot;EPSG&quot;,&quot;7019&quot;]],AUTHORITY[&quot;EPSG&quot;,&quot;6269&quot;]],PRIMEM[&quot;Greenwich&quot;,0],UNIT[&quot;degree&quot;,0.0174532925199433,AUTHORITY[&quot;EPSG&quot;,&quot;9122&quot;]],AUTHORITY[&quot;EPSG&quot;,&quot;4269&quot;]],PROJECTION[&quot;Albers_Conic_Equal_Area&quot;],PARAMETER[&quot;latitude_of_center&quot;,40],PARAMETER[&quot;longitude_of_center&quot;,180],PARAMETER[&quot;standard_parallel_1&quot;,50],PARAMETER[&quot;standard_parallel_2&quot;,70],PARAMETER[&quot;false_easting&quot;,0],PARAMETER[&quot;false_northing&quot;,0],UNIT[&quot;metre&quot;,1,AUTHORITY[&quot;EPSG&quot;,&quot;9001&quot;]],AXIS[&quot;Easting&quot;,EAST],AXIS[&quot;Northing&quot;,NORTH]]</dd><dt><span>semi_major_axis :</span></dt><dd>6378137.0</dd><dt><span>semi_minor_axis :</span></dt><dd>6356752.314140356</dd><dt><span>inverse_flattening :</span></dt><dd>298.257222101004</dd><dt><span>reference_ellipsoid_name :</span></dt><dd>GRS 1980</dd><dt><span>longitude_of_prime_meridian :</span></dt><dd>0.0</dd><dt><span>prime_meridian_name :</span></dt><dd>Greenwich</dd><dt><span>geographic_crs_name :</span></dt><dd>NAD83</dd><dt><span>horizontal_datum_name :</span></dt><dd>North American Datum 1983</dd><dt><span>projected_crs_name :</span></dt><dd>unknown</dd><dt><span>grid_mapping_name :</span></dt><dd>albers_conical_equal_area</dd><dt><span>standard_parallel :</span></dt><dd>(50.0, 70.0)</dd><dt><span>latitude_of_projection_origin :</span></dt><dd>40.0</dd><dt><span>longitude_of_central_meridian :</span></dt><dd>180.0</dd><dt><span>false_easting :</span></dt><dd>0.0</dd><dt><span>false_northing :</span></dt><dd>0.0</dd><dt><span>spatial_ref :</span></dt><dd>PROJCS[&quot;unknown&quot;,GEOGCS[&quot;NAD83&quot;,DATUM[&quot;North_American_Datum_1983&quot;,SPHEROID[&quot;GRS 1980&quot;,6378137,298.257222101004,AUTHORITY[&quot;EPSG&quot;,&quot;7019&quot;]],AUTHORITY[&quot;EPSG&quot;,&quot;6269&quot;]],PRIMEM[&quot;Greenwich&quot;,0],UNIT[&quot;degree&quot;,0.0174532925199433,AUTHORITY[&quot;EPSG&quot;,&quot;9122&quot;]],AUTHORITY[&quot;EPSG&quot;,&quot;4269&quot;]],PROJECTION[&quot;Albers_Conic_Equal_Area&quot;],PARAMETER[&quot;latitude_of_center&quot;,40],PARAMETER[&quot;longitude_of_center&quot;,180],PARAMETER[&quot;standard_parallel_1&quot;,50],PARAMETER[&quot;standard_parallel_2&quot;,70],PARAMETER[&quot;false_easting&quot;,0],PARAMETER[&quot;false_northing&quot;,0],UNIT[&quot;metre&quot;,1,AUTHORITY[&quot;EPSG&quot;,&quot;9001&quot;]],AXIS[&quot;Easting&quot;,EAST],AXIS[&quot;Northing&quot;,NORTH]]</dd><dt><span>GeoTransform :</span></dt><dd>458521.0 30.0 0.0 7623304.0 0.0 -30.0</dd></dl></div><div class='xr-var-data'><pre>array(0)</pre></div></li></ul></div></li><li class='xr-section-item'><input id='section-9d14cf35-2556-47fe-9dca-9d0d527a15e0' class='xr-section-summary-in' type='checkbox'  checked><label for='section-9d14cf35-2556-47fe-9dca-9d0d527a15e0' class='xr-section-summary' >Attributes: <span>(3)</span></label><div class='xr-section-inline-details'></div><div class='xr-section-details'><dl class='xr-attrs'><dt><span>_FillValue :</span></dt><dd>-3.399999952144364e+38</dd><dt><span>scale_factor :</span></dt><dd>1.0</dd><dt><span>add_offset :</span></dt><dd>0.0</dd></dl></div></li></ul></div></div>"
      ],
      "text/plain": [
       "<xarray.DataArray (band: 1, y: 204000, x: 165000)>\n",
       "[33660000000 values with dtype=float32]\n",
       "Coordinates:\n",
       "  * band         (band) int64 1\n",
       "  * x            (x) float64 4.585e+05 4.586e+05 ... 5.408e+06 5.409e+06\n",
       "  * y            (y) float64 7.623e+06 7.623e+06 ... 1.503e+06 1.503e+06\n",
       "    spatial_ref  int64 0\n",
       "Attributes:\n",
       "    _FillValue:    -3.399999952144364e+38\n",
       "    scale_factor:  1.0\n",
       "    add_offset:    0.0"
      ]
     },
     "execution_count": 3,
     "metadata": {},
     "output_type": "execute_result"
    }
   ],
   "source": [
    "rds2"
   ]
  },
  {
   "cell_type": "code",
   "execution_count": 30,
   "id": "4746974b",
   "metadata": {},
   "outputs": [],
   "source": [
    "# Get a geom that matches some HYBAS_ID\n",
    "with fiona.open('/projects/my-public-bucket/analyze_agb/hydrobasins/hybas_lake_NORTHERN_lev04_v1c.gpkg') as src:\n",
    "    geom_crs = src.crs_wkt\n",
    "    for feature in src:\n",
    "        if feature['properties'][\"HYBAS_ID\"] == 8040007030:\n",
    "            geom = feature[\"geometry\"]"
   ]
  },
  {
   "cell_type": "code",
   "execution_count": 33,
   "id": "c9cb4e3d",
   "metadata": {},
   "outputs": [
    {
     "data": {
      "text/plain": [
       "HYBAS_ID                                            8040000010\n",
       "NEXT_DOWN                                                    0\n",
       "NEXT_SINK                                           8040000010\n",
       "MAIN_BAS                                            8040000010\n",
       "DIST_SINK                                                  0.0\n",
       "DIST_MAIN                                                  0.0\n",
       "SUB_AREA                                               55238.6\n",
       "UP_AREA                                                55238.6\n",
       "PFAF_ID                                                   8111\n",
       "SIDE                                                         M\n",
       "LAKE                                                         0\n",
       "ENDO                                                         0\n",
       "COAST                                                        1\n",
       "ORDER                                                        0\n",
       "SORT                                                         1\n",
       "geometry     (POLYGON ((-144.3680555555555 59.9833333333333...\n",
       "Name: 0, dtype: object"
      ]
     },
     "execution_count": 33,
     "metadata": {},
     "output_type": "execute_result"
    }
   ],
   "source": [
    "z = gpd.read_file('/projects/my-public-bucket/analyze_agb/hydrobasins/hybas_lake_NORTHERN_lev04_v1c.gpkg')\n",
    "z.loc[0]"
   ]
  },
  {
   "cell_type": "markdown",
   "id": "4312aa04",
   "metadata": {},
   "source": [
    "#### Why doesnt this clip work?"
   ]
  },
  {
   "cell_type": "code",
   "execution_count": null,
   "id": "077d63b9",
   "metadata": {},
   "outputs": [],
   "source": [
    "clipped = rioxarray.open_rasterio(\n",
    "    covar_vrt_fn,\n",
    "    masked=True,\n",
    ").rio.clip(z.loc[0].geometry, from_disk=True)\n",
    "#rds1_clipped = rds1.rio.clip(geom, geom_crs)"
   ]
  },
  {
   "cell_type": "code",
   "execution_count": null,
   "id": "9ce107e1",
   "metadata": {},
   "outputs": [],
   "source": [
    "if False:\n",
    "    rds1_clipped = rds1.rio.clip(geoms, geom_crs)\n",
    "    rds2_clipped = rds2.rio.clip(geoms, geom_crs)\n",
    "\n",
    "    # ensure the rasters have the same projection/transform/shape\n",
    "    rds2_match = rds2_clipped.rio.reproject_match(rds2_clipped)"
   ]
  },
  {
   "cell_type": "markdown",
   "id": "f51c6568",
   "metadata": {},
   "source": [
    "## Loop over Worldcover classes, providing them as masks to AGB raster\n",
    "https://gis.stackexchange.com/questions/345917/overlay-two-raster-geotiffs-using-rasterio-mask\n",
    "* build this into ExtractUtils.get_raster_zonalstats()"
   ]
  },
  {
   "cell_type": "code",
   "execution_count": null,
   "id": "c1da9f8f",
   "metadata": {},
   "outputs": [
    {
     "name": "stderr",
     "output_type": "stream",
     "text": [
      "/opt/conda/lib/python3.7/site-packages/rioxarray/raster_writer.py:109: UserWarning: The nodata value (-3.399999952144364e+38) has been automatically changed to (-3.3999999521443642e+38) to match the dtype of the data.\n",
      "  f\"The nodata value ({original_nodata}) has been automatically \"\n"
     ]
    }
   ],
   "source": [
    "# Just use output hydrobasin extent raster from build_stack\n",
    "rds2_match = rds2.rio.reproject_match(rds1)"
   ]
  },
  {
   "cell_type": "code",
   "execution_count": null,
   "id": "175c8db3",
   "metadata": {},
   "outputs": [],
   "source": [
    "\n",
    "\n",
    "try:\n",
    "\n",
    "    #out_image, out_transform = rasterio.mask.mask(dataset=r, shapes=feature_gdf.geometry, crop=True)\n",
    "    # the shapes are the geometry of the regional hydrobasin\n",
    "    out_image, out_transform = rasterio.mask.mask(dataset=r, shapes=ZONAL_STATS_DICT[]'REGION_FN'], crop=True)\n",
    "\n",
    "    # Copy the metadata\n",
    "    out_meta = r.meta.copy()\n",
    "    out_meta.update({\"driver\": \"GTiff\",\n",
    "             \"height\": out_image.shape[1],\n",
    "             \"width\": out_image.shape[2],\n",
    "             \"transform\": out_transform,\n",
    "             \"crs\":r.crs.to_proj4()}\n",
    "                     )\n",
    "    with rasterio.open(out_r_fn, \"w\", **out_meta) as out_r:\n",
    "        out_r.write(out_image)\n",
    "\n",
    "        print(\"Zone\", zonenum, \"clip of\",  os.path.split(r_fn)[1])\n",
    "        print(\"Writing clipped subset to\", out_r_fn)\n",
    "\n",
    "        #show(out_r, cmap='viridis') # <-- this show() is not working here..need to read the raster in again?\n",
    "\n",
    "    # HERE IS WHERE WE CAN DO rasterstat's zonal_stats.\n",
    "    if SHOW_CLIP:\n",
    "        show((rasterio.open(out_r_fn)), cmap='viridis')# <-- this show() works\n",
    "\n",
    "except ValueError:\n",
    "    print(zone_name, \" has no intersection with\", os.path.split(r_fn)[1])\n",
    "    no_raster_intersection_list.append(zone_name)"
   ]
  },
  {
   "cell_type": "code",
   "execution_count": null,
   "id": "4f9006d3",
   "metadata": {},
   "outputs": [],
   "source": [
    "import rioxarray\n",
    "import fiona\n",
    "\n",
    "# open the rasters\n",
    "rds1 = rioxarray.open_rasterio(\"21_32/LC080210322016072801T1/LC08_L1TP_021032_20160728_20170221_01_T1_sr_band3.tif\")\n",
    "rds2 = rioxarray.open_rasterio(\"CDL_2018_18.tif\")\n",
    "\n",
    "# clip the rasters\n",
    "with fiona.open(parc_2018, layer='County_Land_Parcels_IGIO_IN_Apr2018') as src:\n",
    "    geom_crs = src.crs_wkt\n",
    "    geoms = [feature[\"geometry\"] for feature in src]\n",
    "\n",
    "rds1_clipped = rds1.rio.clip(geoms, geom_crs)\n",
    "rds2_clipped = rds2.rio.clip(geoms, geom_crs)\n",
    "\n",
    "# ensure the rasters have the same projection/transform/shape\n",
    "rds2_match = rds2_clipped.rio.reproject_match(rds2_clipped)\n",
    "\n",
    "# write to file\n",
    "rds1_clipped.rio.to_raster(\"LC08_L1TP_021032_20160728_20170221_01_T1_sr_band3__clipped.tif\")\n",
    "rds2_match.rio.to_raster(\"CDL_2018_18__clipped_reprojected.tif\")"
   ]
  },
  {
   "cell_type": "markdown",
   "id": "62fae627",
   "metadata": {},
   "source": [
    "## For a tile, run build_stack.py"
   ]
  },
  {
   "cell_type": "code",
   "execution_count": null,
   "id": "779f8744",
   "metadata": {},
   "outputs": [],
   "source": [
    "args = f\"--in_tile_fn {INDEX_FN} \\\n",
    "--in_tile_num {TILE_NUM} \\\n",
    "--tile_buffer_m 0 \\\n",
    "--in_tile_layer {INDEX_LYR} \\\n",
    "-o /projects/test_data/ \\\n",
    "--topo_off \\\n",
    "--covar_src_name esa_worldcover_v100_2020 \\\n",
    "--covar_tile_fn {COVAR_FOOTPRINTS_FN} \\\n",
    "--in_covar_s3_col s3_path \\\n",
    "--input_nodata_value 0\"\n",
    "print(args)\n",
    "!python build_stack.py $args"
   ]
  }
 ],
 "metadata": {
  "kernelspec": {
   "display_name": "Python 3 (ipykernel)",
   "language": "python",
   "name": "python3"
  },
  "language_info": {
   "codemirror_mode": {
    "name": "ipython",
    "version": 3
   },
   "file_extension": ".py",
   "mimetype": "text/x-python",
   "name": "python",
   "nbconvert_exporter": "python",
   "pygments_lexer": "ipython3",
   "version": "3.7.8"
  }
 },
 "nbformat": 4,
 "nbformat_minor": 5
}
