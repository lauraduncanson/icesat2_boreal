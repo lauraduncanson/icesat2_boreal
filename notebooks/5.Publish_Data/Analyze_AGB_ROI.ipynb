{
 "cells": [
  {
   "cell_type": "code",
   "execution_count": 1,
   "id": "63cff75d",
   "metadata": {},
   "outputs": [
    {
     "name": "stdout",
     "output_type": "stream",
     "text": [
      "Requirement already satisfied: h5py==3.1.0 in /projects/.local/lib/python3.7/site-packages (from -r /projects/Developer/icesat2_boreal/dps/requirements_main.txt (line 3)) (3.1.0)\n",
      "Requirement already satisfied: pandas==1.2.2 in /projects/.local/lib/python3.7/site-packages (from -r /projects/Developer/icesat2_boreal/dps/requirements_main.txt (line 4)) (1.2.2)\n",
      "Requirement already satisfied: pygeos==0.12.0 in /projects/.local/lib/python3.7/site-packages (from -r /projects/Developer/icesat2_boreal/dps/requirements_main.txt (line 7)) (0.12.0)\n",
      "Requirement already satisfied: rtree==0.9.7 in /projects/.local/lib/python3.7/site-packages (from -r /projects/Developer/icesat2_boreal/dps/requirements_main.txt (line 8)) (0.9.7)\n",
      "Requirement already satisfied: numpy==1.21.0 in /projects/.local/lib/python3.7/site-packages (from -r /projects/Developer/icesat2_boreal/dps/requirements_main.txt (line 9)) (1.21.0)\n",
      "Collecting geopandas==0.9.0\n",
      "  Using cached geopandas-0.9.0-py2.py3-none-any.whl (994 kB)\n",
      "Requirement already satisfied: rasterio==1.2.6 in /opt/conda/lib/python3.7/site-packages (from -r /projects/Developer/icesat2_boreal/dps/requirements_main.txt (line 13)) (1.2.6)\n",
      "Requirement already satisfied: importlib_resources in /opt/conda/lib/python3.7/site-packages (from -r /projects/Developer/icesat2_boreal/dps/requirements_main.txt (line 14)) (5.7.1)\n",
      "Requirement already satisfied: contextily in /opt/conda/lib/python3.7/site-packages (from -r /projects/Developer/icesat2_boreal/dps/requirements_main.txt (line 15)) (1.2.0)\n",
      "Requirement already satisfied: fsspec in /opt/conda/lib/python3.7/site-packages (from -r /projects/Developer/icesat2_boreal/dps/requirements_main.txt (line 16)) (2022.3.0)\n",
      "Requirement already satisfied: s3fs in /opt/conda/lib/python3.7/site-packages (from -r /projects/Developer/icesat2_boreal/dps/requirements_main.txt (line 17)) (2022.3.0)\n",
      "Requirement already satisfied: rio-cogeo==2.3.1 in /opt/conda/lib/python3.7/site-packages (from -r /projects/Developer/icesat2_boreal/dps/requirements_main.txt (line 22)) (2.3.1)\n",
      "Requirement already satisfied: rio-tiler==2.1.4 in /opt/conda/lib/python3.7/site-packages (from -r /projects/Developer/icesat2_boreal/dps/requirements_main.txt (line 23)) (2.1.4)\n",
      "Requirement already satisfied: morecantile==2.1.4 in /opt/conda/lib/python3.7/site-packages (from -r /projects/Developer/icesat2_boreal/dps/requirements_main.txt (line 25)) (2.1.4)\n",
      "Requirement already satisfied: pystac-client in /projects/.local/lib/python3.7/site-packages (from -r /projects/Developer/icesat2_boreal/dps/requirements_main.txt (line 26)) (0.3.2)\n",
      "Requirement already satisfied: cached-property in /projects/.local/lib/python3.7/site-packages (from h5py==3.1.0->-r /projects/Developer/icesat2_boreal/dps/requirements_main.txt (line 3)) (1.5.2)\n",
      "Requirement already satisfied: pytz>=2017.3 in /opt/conda/lib/python3.7/site-packages (from pandas==1.2.2->-r /projects/Developer/icesat2_boreal/dps/requirements_main.txt (line 4)) (2021.1)\n",
      "Requirement already satisfied: python-dateutil>=2.7.3 in /opt/conda/lib/python3.7/site-packages (from pandas==1.2.2->-r /projects/Developer/icesat2_boreal/dps/requirements_main.txt (line 4)) (2.8.2)\n",
      "Requirement already satisfied: fiona>=1.8 in /projects/.local/lib/python3.7/site-packages (from geopandas==0.9.0->-r /projects/Developer/icesat2_boreal/dps/requirements_main.txt (line 12)) (1.8.20)\n",
      "Requirement already satisfied: pyproj>=2.2.0 in /opt/conda/lib/python3.7/site-packages (from geopandas==0.9.0->-r /projects/Developer/icesat2_boreal/dps/requirements_main.txt (line 12)) (2.6.1.post1)\n",
      "Requirement already satisfied: shapely>=1.6 in /projects/.local/lib/python3.7/site-packages (from geopandas==0.9.0->-r /projects/Developer/icesat2_boreal/dps/requirements_main.txt (line 12)) (1.7.1)\n",
      "Requirement already satisfied: setuptools in /opt/conda/lib/python3.7/site-packages (from rasterio==1.2.6->-r /projects/Developer/icesat2_boreal/dps/requirements_main.txt (line 13)) (49.6.0.post20201009)\n",
      "Requirement already satisfied: affine in /opt/conda/lib/python3.7/site-packages (from rasterio==1.2.6->-r /projects/Developer/icesat2_boreal/dps/requirements_main.txt (line 13)) (2.3.0)\n",
      "Requirement already satisfied: certifi in /opt/conda/lib/python3.7/site-packages (from rasterio==1.2.6->-r /projects/Developer/icesat2_boreal/dps/requirements_main.txt (line 13)) (2021.5.30)\n",
      "Requirement already satisfied: snuggs>=1.4.1 in /opt/conda/lib/python3.7/site-packages (from rasterio==1.2.6->-r /projects/Developer/icesat2_boreal/dps/requirements_main.txt (line 13)) (1.4.7)\n",
      "Requirement already satisfied: cligj>=0.5 in /opt/conda/lib/python3.7/site-packages (from rasterio==1.2.6->-r /projects/Developer/icesat2_boreal/dps/requirements_main.txt (line 13)) (0.7.0)\n",
      "Requirement already satisfied: click>=4.0 in /opt/conda/lib/python3.7/site-packages (from rasterio==1.2.6->-r /projects/Developer/icesat2_boreal/dps/requirements_main.txt (line 13)) (7.1.2)\n",
      "Requirement already satisfied: attrs in /opt/conda/lib/python3.7/site-packages (from rasterio==1.2.6->-r /projects/Developer/icesat2_boreal/dps/requirements_main.txt (line 13)) (20.2.0)\n",
      "Requirement already satisfied: click-plugins in /opt/conda/lib/python3.7/site-packages (from rasterio==1.2.6->-r /projects/Developer/icesat2_boreal/dps/requirements_main.txt (line 13)) (1.1.1)\n",
      "Requirement already satisfied: pydantic in /projects/.local/lib/python3.7/site-packages (from rio-cogeo==2.3.1->-r /projects/Developer/icesat2_boreal/dps/requirements_main.txt (line 22)) (1.8.2)\n",
      "Requirement already satisfied: numexpr in /projects/.local/lib/python3.7/site-packages (from rio-tiler==2.1.4->-r /projects/Developer/icesat2_boreal/dps/requirements_main.txt (line 23)) (2.7.3)\n",
      "Requirement already satisfied: pystac>=0.5.3 in /projects/.local/lib/python3.7/site-packages (from rio-tiler==2.1.4->-r /projects/Developer/icesat2_boreal/dps/requirements_main.txt (line 23)) (1.2.0)\n",
      "Requirement already satisfied: requests in /projects/.local/lib/python3.7/site-packages (from rio-tiler==2.1.4->-r /projects/Developer/icesat2_boreal/dps/requirements_main.txt (line 23)) (2.27.1)\n",
      "Requirement already satisfied: rio-color in /projects/.local/lib/python3.7/site-packages (from rio-tiler==2.1.4->-r /projects/Developer/icesat2_boreal/dps/requirements_main.txt (line 23)) (1.0.3)\n",
      "Requirement already satisfied: boto3 in /opt/conda/lib/python3.7/site-packages (from rio-tiler==2.1.4->-r /projects/Developer/icesat2_boreal/dps/requirements_main.txt (line 23)) (1.21.21)\n",
      "Requirement already satisfied: zipp>=3.1.0 in /opt/conda/lib/python3.7/site-packages (from importlib_resources->-r /projects/Developer/icesat2_boreal/dps/requirements_main.txt (line 14)) (3.6.0)\n",
      "Requirement already satisfied: pillow in /projects/.local/lib/python3.7/site-packages (from contextily->-r /projects/Developer/icesat2_boreal/dps/requirements_main.txt (line 15)) (8.3.2)\n",
      "Requirement already satisfied: matplotlib in /opt/conda/lib/python3.7/site-packages (from contextily->-r /projects/Developer/icesat2_boreal/dps/requirements_main.txt (line 15)) (3.2.2)\n",
      "Requirement already satisfied: xyzservices in /projects/.local/lib/python3.7/site-packages (from contextily->-r /projects/Developer/icesat2_boreal/dps/requirements_main.txt (line 15)) (2022.3.0)\n",
      "Requirement already satisfied: joblib in /projects/.local/lib/python3.7/site-packages (from contextily->-r /projects/Developer/icesat2_boreal/dps/requirements_main.txt (line 15)) (1.0.1)\n",
      "Requirement already satisfied: geopy in /projects/.local/lib/python3.7/site-packages (from contextily->-r /projects/Developer/icesat2_boreal/dps/requirements_main.txt (line 15)) (2.2.0)\n",
      "Requirement already satisfied: mercantile in /projects/.local/lib/python3.7/site-packages (from contextily->-r /projects/Developer/icesat2_boreal/dps/requirements_main.txt (line 15)) (1.2.1)\n",
      "Requirement already satisfied: aiohttp<=4 in /projects/.local/lib/python3.7/site-packages (from s3fs->-r /projects/Developer/icesat2_boreal/dps/requirements_main.txt (line 17)) (3.7.4.post0)\n",
      "Requirement already satisfied: aiobotocore~=2.2.0 in /opt/conda/lib/python3.7/site-packages (from s3fs->-r /projects/Developer/icesat2_boreal/dps/requirements_main.txt (line 17)) (2.2.0)\n",
      "Requirement already satisfied: aioitertools>=0.5.1 in /projects/.local/lib/python3.7/site-packages (from aiobotocore~=2.2.0->s3fs->-r /projects/Developer/icesat2_boreal/dps/requirements_main.txt (line 17)) (0.8.0)\n",
      "Requirement already satisfied: botocore<1.24.22,>=1.24.21 in /opt/conda/lib/python3.7/site-packages (from aiobotocore~=2.2.0->s3fs->-r /projects/Developer/icesat2_boreal/dps/requirements_main.txt (line 17)) (1.24.21)\n",
      "Requirement already satisfied: wrapt>=1.10.10 in /projects/.local/lib/python3.7/site-packages (from aiobotocore~=2.2.0->s3fs->-r /projects/Developer/icesat2_boreal/dps/requirements_main.txt (line 17)) (1.12.1)\n",
      "Requirement already satisfied: chardet<5.0,>=2.0 in /opt/conda/lib/python3.7/site-packages (from aiohttp<=4->s3fs->-r /projects/Developer/icesat2_boreal/dps/requirements_main.txt (line 17)) (3.0.4)\n",
      "Requirement already satisfied: multidict<7.0,>=4.5 in /projects/.local/lib/python3.7/site-packages (from aiohttp<=4->s3fs->-r /projects/Developer/icesat2_boreal/dps/requirements_main.txt (line 17)) (5.1.0)\n",
      "Requirement already satisfied: typing-extensions>=3.6.5 in /opt/conda/lib/python3.7/site-packages (from aiohttp<=4->s3fs->-r /projects/Developer/icesat2_boreal/dps/requirements_main.txt (line 17)) (3.10.0.2)\n",
      "Requirement already satisfied: async-timeout<4.0,>=3.0 in /projects/.local/lib/python3.7/site-packages (from aiohttp<=4->s3fs->-r /projects/Developer/icesat2_boreal/dps/requirements_main.txt (line 17)) (3.0.1)\n",
      "Requirement already satisfied: yarl<2.0,>=1.0 in /projects/.local/lib/python3.7/site-packages (from aiohttp<=4->s3fs->-r /projects/Developer/icesat2_boreal/dps/requirements_main.txt (line 17)) (1.6.3)\n",
      "Requirement already satisfied: six>=1.7 in /opt/conda/lib/python3.7/site-packages (from fiona>=1.8->geopandas==0.9.0->-r /projects/Developer/icesat2_boreal/dps/requirements_main.txt (line 12)) (1.15.0)\n",
      "Requirement already satisfied: munch in /projects/.local/lib/python3.7/site-packages (from fiona>=1.8->geopandas==0.9.0->-r /projects/Developer/icesat2_boreal/dps/requirements_main.txt (line 12)) (2.5.0)\n",
      "Requirement already satisfied: urllib3<1.27,>=1.21.1 in /opt/conda/lib/python3.7/site-packages (from requests->rio-tiler==2.1.4->-r /projects/Developer/icesat2_boreal/dps/requirements_main.txt (line 23)) (1.25.11)\n",
      "Requirement already satisfied: charset-normalizer~=2.0.0 in /projects/.local/lib/python3.7/site-packages (from requests->rio-tiler==2.1.4->-r /projects/Developer/icesat2_boreal/dps/requirements_main.txt (line 23)) (2.0.12)\n",
      "Requirement already satisfied: idna<4,>=2.5 in /opt/conda/lib/python3.7/site-packages (from requests->rio-tiler==2.1.4->-r /projects/Developer/icesat2_boreal/dps/requirements_main.txt (line 23)) (2.10)\n",
      "Requirement already satisfied: pyparsing>=2.1.6 in /opt/conda/lib/python3.7/site-packages (from snuggs>=1.4.1->rasterio==1.2.6->-r /projects/Developer/icesat2_boreal/dps/requirements_main.txt (line 13)) (2.4.7)\n",
      "Requirement already satisfied: jmespath<2.0.0,>=0.7.1 in /opt/conda/lib/python3.7/site-packages/jmespath-0.10.0-py3.7.egg (from boto3->rio-tiler==2.1.4->-r /projects/Developer/icesat2_boreal/dps/requirements_main.txt (line 23)) (0.10.0)\n",
      "Requirement already satisfied: s3transfer<0.6.0,>=0.5.0 in /opt/conda/lib/python3.7/site-packages/s3transfer-0.5.0-py3.7.egg (from boto3->rio-tiler==2.1.4->-r /projects/Developer/icesat2_boreal/dps/requirements_main.txt (line 23)) (0.5.0)\n",
      "Requirement already satisfied: geographiclib<2,>=1.49 in /projects/.local/lib/python3.7/site-packages (from geopy->contextily->-r /projects/Developer/icesat2_boreal/dps/requirements_main.txt (line 15)) (1.52)\n",
      "Requirement already satisfied: kiwisolver>=1.0.1 in /opt/conda/lib/python3.7/site-packages (from matplotlib->contextily->-r /projects/Developer/icesat2_boreal/dps/requirements_main.txt (line 15)) (1.3.1)\n",
      "Requirement already satisfied: cycler>=0.10 in /opt/conda/lib/python3.7/site-packages (from matplotlib->contextily->-r /projects/Developer/icesat2_boreal/dps/requirements_main.txt (line 15)) (0.10.0)\n",
      "Requirement already satisfied: rio-mucho in /projects/.local/lib/python3.7/site-packages (from rio-color->rio-tiler==2.1.4->-r /projects/Developer/icesat2_boreal/dps/requirements_main.txt (line 23)) (1.0.0)\n",
      "Installing collected packages: geopandas\n",
      "  Attempting uninstall: geopandas\n",
      "    Found existing installation: geopandas 0.10.0\n",
      "    Uninstalling geopandas-0.10.0:\n",
      "      Successfully uninstalled geopandas-0.10.0\n",
      "Successfully installed geopandas-0.9.0\n",
      "\u001b[33mWARNING: Running pip as the 'root' user can result in broken permissions and conflicting behaviour with the system package manager. It is recommended to use a virtual environment instead: https://pip.pypa.io/warnings/venv\u001b[0m\u001b[33m\n",
      "\u001b[0m\u001b[33mWARNING: You are using pip version 22.0.3; however, version 22.0.4 is available.\n",
      "You should consider upgrading via the '/opt/conda/bin/python3.7 -m pip install --upgrade pip' command.\u001b[0m\u001b[33m\n",
      "\u001b[0m"
     ]
    },
    {
     "name": "stderr",
     "output_type": "stream",
     "text": [
      "/opt/conda/lib/python3.7/site-packages/geopandas/_compat.py:110: UserWarning: The Shapely GEOS version (3.8.0-CAPI-1.13.1 ) is incompatible with the GEOS version PyGEOS was compiled with (3.10.1-CAPI-1.16.0). Conversions between both will be slow.\n",
      "  shapely_geos_version, geos_capi_version_string\n"
     ]
    }
   ],
   "source": [
    "!pip install -U -r /projects/Developer/icesat2_boreal/dps/requirements_main.txt\n",
    "\n",
    "import pandas as pd\n",
    "import geopandas as gpd\n",
    "import glob\n",
    "import rasterio\n",
    "import sys\n",
    "sys.path.append('/projects/Developer/icesat2_boreal/lib')\n",
    "import ExtractUtils"
   ]
  },
  {
   "cell_type": "code",
   "execution_count": 7,
   "id": "d21ea964",
   "metadata": {},
   "outputs": [],
   "source": [
    "vrt_fn = '/projects/my-public-bucket/analyze_agb/AGB_tindex_america.vrt'\n",
    "\n",
    "ZONAL_STATS_DICT = {'ZONE_NAME':'','ZONE_FN':'','REGION_NAME':'','REGION_FN':'','RASTER_NAME':'','RASTER_FN':''}\n",
    "ZONAL_STATS_DICT_LIST = [\n",
    "    {\n",
    "            'ZONE_NAME': 'boreal_tiles_v003',\n",
    "            'ZONE_FN': '/projects/shared-buckets/nathanmthomas/boreal_tiles_v003.gpkg',\n",
    "            'REGION_NAME': 'above',\n",
    "            'REGION_FN': '/projects/shared-buckets/lduncanson/data/above/ABoVE_Study_Domain.shp',\n",
    "            'REGION_SEARCH_COL':'Region',\n",
    "            'REGION_SEARCH_STR':'Region',\n",
    "            'RASTER_DATASET_ID': 'biomass_prelim',\n",
    "            'RASTER_FN': vrt_fn,\n",
    "            'OUTPUT_DIR': '/projects/my-public-bucket/analyze_agb'\n",
    "    },\n",
    "    {\n",
    "            'ZONE_NAME': 'boreal_tiles_v003',\n",
    "            'ZONE_FN': '/projects/shared-buckets/nathanmthomas/boreal_tiles_v003.gpkg',\n",
    "            'REGION_NAME': 'boreal_na',\n",
    "            'REGION_FN': '/projects/my-public-bucket/analyze_agb/input_zones/wwf_circumboreal_Dissolve.geojson',\n",
    "            'REGION_SEARCH_COL':'REALM',\n",
    "            'REGION_SEARCH_STR':'NA',\n",
    "            'RASTER_DATASET_ID': 'biomass_prelim',\n",
    "            'RASTER_FN': vrt_fn,\n",
    "            'OUTPUT_DIR': '/projects/my-public-bucket/analyze_agb'\n",
    "    },\n",
    "    {\n",
    "            'ZONE_NAME': 'hybas_lev06',\n",
    "            'ZONE_FN': '/projects/my-public-bucket/analyze_agb/input_zones/hybas_lake_GLOBAL_lev06_v1c.shp',\n",
    "            'REGION_NAME': 'above',\n",
    "            'REGION_FN': '/projects/shared-buckets/lduncanson/data/above/ABoVE_Study_Domain.shp',\n",
    "            'REGION_SEARCH_COL':'Region',\n",
    "            'REGION_SEARCH_STR':'Region',\n",
    "            'RASTER_DATASET_ID': 'biomass_prelim',\n",
    "            'RASTER_FN': vrt_fn,\n",
    "            'OUTPUT_DIR': '/projects/my-public-bucket/analyze_agb'\n",
    "    },\n",
    "    {\n",
    "            'ZONE_NAME': 'hybas_lev06',\n",
    "            'ZONE_FN': '/projects/my-public-bucket/analyze_agb/hydrobasins/hybas_lake_NORTHERN_lev06_v1c.gpkg',\n",
    "            'REGION_NAME': 'above',\n",
    "            'REGION_FN': '/projects/my-public-bucket/analyze_agb/hydrobasins/hybas_lake_NORTHERN_lev03_v1c.gpkg',\n",
    "            'REGION_SEARCH_COL':'Region',\n",
    "            'REGION_SEARCH_STR':'Region',\n",
    "            'RASTER_DATASET_ID': 'biomass_prelim',\n",
    "            'RASTER_FN': vrt_fn,\n",
    "            'OUTPUT_DIR': '/projects/my-public-bucket/analyze_agb'\n",
    "    },\n",
    "]\n"
   ]
  },
  {
   "cell_type": "code",
   "execution_count": 8,
   "id": "f6820b2b",
   "metadata": {},
   "outputs": [
    {
     "data": {
      "text/plain": [
       "{'ZONE_NAME': 'hybas_lev06',\n",
       " 'ZONE_FN': '/projects/my-public-bucket/analyze_agb/hydrobasins/hybas_lake_NORTHERN_lev06_v1c.gpkg',\n",
       " 'REGION_NAME': 'above',\n",
       " 'REGION_FN': '/projects/my-public-bucket/analyze_agb/hydrobasins/hybas_lake_NORTHERN_lev03_v1c.gpkg',\n",
       " 'REGION_SEARCH_COL': 'Region',\n",
       " 'REGION_SEARCH_STR': 'Region',\n",
       " 'RASTER_DATASET_ID': 'biomass_prelim',\n",
       " 'RASTER_FN': '/projects/my-public-bucket/analyze_agb/AGB_tindex_america.vrt',\n",
       " 'OUTPUT_DIR': '/projects/my-public-bucket/analyze_agb'}"
      ]
     },
     "execution_count": 8,
     "metadata": {},
     "output_type": "execute_result"
    }
   ],
   "source": [
    "ZONAL_STATS_DICT = ZONAL_STATS_DICT_LIST[3]\n",
    "ZONAL_STATS_DICT"
   ]
  },
  {
   "cell_type": "markdown",
   "id": "01538ac6",
   "metadata": {},
   "source": [
    "### Select regions of interest with a general box; make a list of individual region geodataframes\n",
    "* indiv region gdfs are needed so you can look over them"
   ]
  },
  {
   "cell_type": "code",
   "execution_count": 9,
   "id": "128d1544",
   "metadata": {},
   "outputs": [
    {
     "name": "stdout",
     "output_type": "stream",
     "text": [
      "<class 'geopandas.geodataframe.GeoDataFrame'>\n",
      "Int64Index: 33 entries, 0 to 133\n",
      "Data columns (total 16 columns):\n",
      " #   Column     Non-Null Count  Dtype   \n",
      "---  ------     --------------  -----   \n",
      " 0   HYBAS_ID   33 non-null     int64   \n",
      " 1   NEXT_DOWN  33 non-null     int64   \n",
      " 2   NEXT_SINK  33 non-null     int64   \n",
      " 3   MAIN_BAS   33 non-null     int64   \n",
      " 4   DIST_SINK  33 non-null     float64 \n",
      " 5   DIST_MAIN  33 non-null     float64 \n",
      " 6   SUB_AREA   33 non-null     float64 \n",
      " 7   UP_AREA    33 non-null     float64 \n",
      " 8   PFAF_ID    33 non-null     int64   \n",
      " 9   SIDE       33 non-null     object  \n",
      " 10  LAKE       33 non-null     int64   \n",
      " 11  ENDO       33 non-null     int64   \n",
      " 12  COAST      33 non-null     int64   \n",
      " 13  ORDER      33 non-null     int64   \n",
      " 14  SORT       33 non-null     int64   \n",
      " 15  geometry   33 non-null     geometry\n",
      "dtypes: float64(4), geometry(1), int64(10), object(1)\n",
      "memory usage: 4.4+ KB\n"
     ]
    },
    {
     "data": {
      "image/png": "[encoded data removed]",
      "text/plain": [
       "<Figure size 432x288 with 1 Axes>"
      ]
     },
     "metadata": {
      "needs_background": "light"
     },
     "output_type": "display_data"
    }
   ],
   "source": [
    "vector_gdf = gpd.read_file(ZONAL_STATS_DICT['REGION_FN']).cx[-180:-45,45:90]\n",
    "vector_gdf.info()\n",
    "vector_gdf.plot()\n",
    "\n",
    "geoms_list = []\n",
    "zone_name_list = []\n",
    "poly_list = []\n",
    "gdf_list = []\n",
    "zone_field_name = 'HYBAS_ID'\n",
    "\n",
    "for idx in vector_gdf.index:\n",
    "    #print(idx)\n",
    "    geom =  vector_gdf.loc[idx].geometry\n",
    "    zonename =  vector_gdf.loc[idx][zone_field_name]\n",
    "    \n",
    "    if geom not in geoms_list:\n",
    "        #gpd.GeoSeries(geom).plot()\n",
    "        geoms_list.append(geom)\n",
    "        zone_name_list.append(zonename)\n",
    "        poly_list.append(gpd.GeoSeries(geom))\n",
    "        gdf_list.append(gpd.GeoDataFrame(geometry=gpd.GeoSeries(geom), crs=vector_gdf.crs))"
   ]
  },
  {
   "cell_type": "code",
   "execution_count": null,
   "id": "066ae7a4",
   "metadata": {},
   "outputs": [],
   "source": [
    "zone_name_list[20]"
   ]
  },
  {
   "cell_type": "markdown",
   "id": "293c7667",
   "metadata": {},
   "source": [
    "## Update the dictionary with region of interest"
   ]
  },
  {
   "cell_type": "code",
   "execution_count": 13,
   "id": "49b9cb06",
   "metadata": {},
   "outputs": [
    {
     "data": {
      "text/plain": [
       "{'ZONE_NAME': 'hybas_lev06',\n",
       " 'ZONE_FN': '/projects/my-public-bucket/analyze_agb/hydrobasins/hybas_lake_NORTHERN_lev06_v1c.gpkg',\n",
       " 'REGION_NAME': 'HYBAS_L03_7030022250',\n",
       " 'REGION_FN':                                             geometry\n",
       " 0  MULTIPOLYGON (((-82.02639 53.05833, -82.02978 ...,\n",
       " 'REGION_SEARCH_COL': 'Region',\n",
       " 'REGION_SEARCH_STR': None,\n",
       " 'RASTER_DATASET_ID': 'biomass_prelim',\n",
       " 'RASTER_FN': '/projects/my-public-bucket/analyze_agb/AGB_tindex_america.vrt',\n",
       " 'OUTPUT_DIR': '/projects/my-public-bucket/analyze_agb'}"
      ]
     },
     "execution_count": 13,
     "metadata": {},
     "output_type": "execute_result"
    },
    {
     "data": {
      "image/png": "[encoded data removed]",
      "text/plain": [
       "<Figure size 432x288 with 1 Axes>"
      ]
     },
     "metadata": {
      "needs_background": "light"
     },
     "output_type": "display_data"
    }
   ],
   "source": [
    "# Example for a single region\n",
    "IDX=24\n",
    "gdf_list[IDX].plot()\n",
    "\n",
    "ZONAL_STATS_DICT.update({'REGION_FN': gdf_list[IDX], 'REGION_SEARCH_STR': None, 'REGION_NAME': f\"HYBAS_L03_{zone_name_list[IDX]}\" })\n",
    "ZONAL_STATS_DICT"
   ]
  },
  {
   "cell_type": "markdown",
   "id": "95192f65",
   "metadata": {},
   "source": [
    "## Loop over regions of interest, returning zonal stats for all zones in region"
   ]
  },
  {
   "cell_type": "code",
   "execution_count": null,
   "id": "f6d36394",
   "metadata": {},
   "outputs": [],
   "source": [
    "%%time\n",
    "for i in range(0, len(gdf_list)):\n",
    "    ZONAL_STATS_DICT.update({'REGION_FN': gdf_list[i], 'REGION_SEARCH_STR': None, 'REGION_NAME': f\"HYBAS_L03_{zone_name_list[i]}\" })\n",
    "    z = ExtractUtils.get_raster_zonalstats(ZONAL_STATS_DICT, DEBUG=False)\n",
    "    ax = z.plot('median', cmap='viridis', legend=True, vmin=0, vmax=75)\n",
    "    print(ax)"
   ]
  },
  {
   "cell_type": "code",
   "execution_count": 6,
   "id": "0f884e6b",
   "metadata": {},
   "outputs": [
    {
     "data": {
      "text/plain": [
       "['/projects/my-public-bucket/analyze_agb/output/zonal.biomass_prelim.hybas_lev06.HYBAS_L03_7030014250.202204220248.geojson',\n",
       " '/projects/my-public-bucket/analyze_agb/output/zonal.biomass_prelim.hybas_lev06.HYBAS_L03_7030014930.202204220249.geojson',\n",
       " '/projects/my-public-bucket/analyze_agb/output/zonal.biomass_prelim.hybas_lev06.HYBAS_L03_7030014940.202204220320.geojson',\n",
       " '/projects/my-public-bucket/analyze_agb/output/zonal.biomass_prelim.hybas_lev06.HYBAS_L03_7030021430.202204220359.geojson',\n",
       " '/projects/my-public-bucket/analyze_agb/output/zonal.biomass_prelim.hybas_lev06.HYBAS_L03_7030022240.202204220429.geojson',\n",
       " '/projects/my-public-bucket/analyze_agb/output/zonal.biomass_prelim.hybas_lev06.HYBAS_L03_7030022250.202204220543.geojson',\n",
       " '/projects/my-public-bucket/analyze_agb/output/zonal.biomass_prelim.hybas_lev06.HYBAS_L03_7030024600.202204220628.geojson',\n",
       " '/projects/my-public-bucket/analyze_agb/output/zonal.biomass_prelim.hybas_lev06.HYBAS_L03_7030027430.202204220706.geojson',\n",
       " '/projects/my-public-bucket/analyze_agb/output/zonal.biomass_prelim.hybas_lev06.HYBAS_L03_7030029460.202204220735.geojson',\n",
       " '/projects/my-public-bucket/analyze_agb/output/zonal.biomass_prelim.hybas_lev06.HYBAS_L03_7030033480.202204220806.geojson',\n",
       " '/projects/my-public-bucket/analyze_agb/output/zonal.biomass_prelim.hybas_lev06.HYBAS_L03_7030034520.202204220825.geojson',\n",
       " '/projects/my-public-bucket/analyze_agb/output/zonal.biomass_prelim.hybas_lev06.HYBAS_L03_7030034530.202204220915.geojson',\n",
       " '/projects/my-public-bucket/analyze_agb/output/zonal.biomass_prelim.hybas_lev06.HYBAS_L03_7030038340.202204220927.geojson',\n",
       " '/projects/my-public-bucket/analyze_agb/output/zonal.biomass_prelim.hybas_lev06.HYBAS_L03_7030047060.202204220932.geojson',\n",
       " '/projects/my-public-bucket/analyze_agb/output/zonal.biomass_prelim.hybas_lev06.HYBAS_L03_8030005510.202204220130.geojson',\n",
       " '/projects/my-public-bucket/analyze_agb/output/zonal.biomass_prelim.hybas_lev06.HYBAS_L03_8030005520.202204221137.geojson',\n",
       " '/projects/my-public-bucket/analyze_agb/output/zonal.biomass_prelim.hybas_lev06.HYBAS_L03_8030008900.202204221154.geojson',\n",
       " '/projects/my-public-bucket/analyze_agb/output/zonal.biomass_prelim.hybas_lev06.HYBAS_L03_8030009560.202204221159.geojson',\n",
       " '/projects/my-public-bucket/analyze_agb/output/zonal.biomass_prelim.hybas_lev06.HYBAS_L03_8030009570.202204221343.geojson',\n",
       " '/projects/my-public-bucket/analyze_agb/output/zonal.biomass_prelim.hybas_lev06.HYBAS_L03_8030010700.202204221353.geojson',\n",
       " '/projects/my-public-bucket/analyze_agb/output/zonal.biomass_prelim.hybas_lev06.HYBAS_L03_8030016860.202204221407.geojson',\n",
       " '/projects/my-public-bucket/analyze_agb/output/zonal.biomass_prelim.hybas_lev06.HYBAS_L03_8030020760.202204221432.geojson',\n",
       " '/projects/my-public-bucket/analyze_agb/output/zonal.biomass_prelim.hybas_lev06.HYBAS_L03_8030022890.202204221432.geojson']"
      ]
     },
     "execution_count": 6,
     "metadata": {},
     "output_type": "execute_result"
    }
   ],
   "source": [
    "files = glob.glob('/projects/my-public-bucket/analyze_agb/output/zonal*.geojson')\n",
    "files"
   ]
  },
  {
   "cell_type": "code",
   "execution_count": 7,
   "id": "5633065b",
   "metadata": {},
   "outputs": [
    {
     "ename": "DriverError",
     "evalue": "'/projects/my-public-bucket/analyze_agb/output/zonal.biomass_prelim.hybas_lev06.HYBAS_L03_7030014250.202204220248.geojson' not recognized as a supported file format.",
     "output_type": "error",
     "traceback": [
      "\u001b[0;31m---------------------------------------------------------------------------\u001b[0m",
      "\u001b[0;31mCPLE_OpenFailedError\u001b[0m                      Traceback (most recent call last)",
      "\u001b[0;32mfiona/_shim.pyx\u001b[0m in \u001b[0;36mfiona._shim.gdal_open_vector\u001b[0;34m()\u001b[0m\n",
      "\u001b[0;32mfiona/_err.pyx\u001b[0m in \u001b[0;36mfiona._err.exc_wrap_pointer\u001b[0;34m()\u001b[0m\n",
      "\u001b[0;31mCPLE_OpenFailedError\u001b[0m: '/projects/my-public-bucket/analyze_agb/output/zonal.biomass_prelim.hybas_lev06.HYBAS_L03_7030014250.202204220248.geojson' not recognized as a supported file format.",
      "\nDuring handling of the above exception, another exception occurred:\n",
      "\u001b[0;31mDriverError\u001b[0m                               Traceback (most recent call last)",
      "\u001b[0;32m/tmp/ipykernel_1041/1921368757.py\u001b[0m in \u001b[0;36m<module>\u001b[0;34m\u001b[0m\n\u001b[0;32m----> 1\u001b[0;31m \u001b[0mz\u001b[0m \u001b[0;34m=\u001b[0m \u001b[0mpd\u001b[0m\u001b[0;34m.\u001b[0m\u001b[0mconcat\u001b[0m\u001b[0;34m(\u001b[0m\u001b[0;34m[\u001b[0m\u001b[0mgpd\u001b[0m\u001b[0;34m.\u001b[0m\u001b[0mread_file\u001b[0m\u001b[0;34m(\u001b[0m\u001b[0mf\u001b[0m\u001b[0;34m)\u001b[0m \u001b[0;32mfor\u001b[0m \u001b[0mf\u001b[0m \u001b[0;32min\u001b[0m \u001b[0mfiles\u001b[0m\u001b[0;34m]\u001b[0m\u001b[0;34m)\u001b[0m\u001b[0;34m\u001b[0m\u001b[0;34m\u001b[0m\u001b[0m\n\u001b[0m\u001b[1;32m      2\u001b[0m \u001b[0;31m#z = gpd.read_file('/projects/shared-buckets/nathanmthomas/analyze_agb/output/zonal.biomass_prelim.hybas_lev06.HYBAS_L03_8030009570.202204221343.geojson')\u001b[0m\u001b[0;34m\u001b[0m\u001b[0;34m\u001b[0m\u001b[0;34m\u001b[0m\u001b[0m\n\u001b[1;32m      3\u001b[0m \u001b[0;31m#'/projects/my-public-bucket/analyze_agb/output/zonal.biomass_prelim.hybas_lev06.HYBAS_L03_7030014250.202204220248.geojson'\u001b[0m\u001b[0;34m\u001b[0m\u001b[0;34m\u001b[0m\u001b[0;34m\u001b[0m\u001b[0m\n",
      "\u001b[0;32m/tmp/ipykernel_1041/1921368757.py\u001b[0m in \u001b[0;36m<listcomp>\u001b[0;34m(.0)\u001b[0m\n\u001b[0;32m----> 1\u001b[0;31m \u001b[0mz\u001b[0m \u001b[0;34m=\u001b[0m \u001b[0mpd\u001b[0m\u001b[0;34m.\u001b[0m\u001b[0mconcat\u001b[0m\u001b[0;34m(\u001b[0m\u001b[0;34m[\u001b[0m\u001b[0mgpd\u001b[0m\u001b[0;34m.\u001b[0m\u001b[0mread_file\u001b[0m\u001b[0;34m(\u001b[0m\u001b[0mf\u001b[0m\u001b[0;34m)\u001b[0m \u001b[0;32mfor\u001b[0m \u001b[0mf\u001b[0m \u001b[0;32min\u001b[0m \u001b[0mfiles\u001b[0m\u001b[0;34m]\u001b[0m\u001b[0;34m)\u001b[0m\u001b[0;34m\u001b[0m\u001b[0;34m\u001b[0m\u001b[0m\n\u001b[0m\u001b[1;32m      2\u001b[0m \u001b[0;31m#z = gpd.read_file('/projects/shared-buckets/nathanmthomas/analyze_agb/output/zonal.biomass_prelim.hybas_lev06.HYBAS_L03_8030009570.202204221343.geojson')\u001b[0m\u001b[0;34m\u001b[0m\u001b[0;34m\u001b[0m\u001b[0;34m\u001b[0m\u001b[0m\n\u001b[1;32m      3\u001b[0m \u001b[0;31m#'/projects/my-public-bucket/analyze_agb/output/zonal.biomass_prelim.hybas_lev06.HYBAS_L03_7030014250.202204220248.geojson'\u001b[0m\u001b[0;34m\u001b[0m\u001b[0;34m\u001b[0m\u001b[0;34m\u001b[0m\u001b[0m\n",
      "\u001b[0;32m/opt/conda/lib/python3.7/site-packages/geopandas/io/file.py\u001b[0m in \u001b[0;36m_read_file\u001b[0;34m(filename, bbox, mask, rows, **kwargs)\u001b[0m\n\u001b[1;32m    158\u001b[0m \u001b[0;34m\u001b[0m\u001b[0m\n\u001b[1;32m    159\u001b[0m     \u001b[0;32mwith\u001b[0m \u001b[0mfiona_env\u001b[0m\u001b[0;34m(\u001b[0m\u001b[0;34m)\u001b[0m\u001b[0;34m:\u001b[0m\u001b[0;34m\u001b[0m\u001b[0;34m\u001b[0m\u001b[0m\n\u001b[0;32m--> 160\u001b[0;31m         \u001b[0;32mwith\u001b[0m \u001b[0mreader\u001b[0m\u001b[0;34m(\u001b[0m\u001b[0mpath_or_bytes\u001b[0m\u001b[0;34m,\u001b[0m \u001b[0;34m**\u001b[0m\u001b[0mkwargs\u001b[0m\u001b[0;34m)\u001b[0m \u001b[0;32mas\u001b[0m \u001b[0mfeatures\u001b[0m\u001b[0;34m:\u001b[0m\u001b[0;34m\u001b[0m\u001b[0;34m\u001b[0m\u001b[0m\n\u001b[0m\u001b[1;32m    161\u001b[0m \u001b[0;34m\u001b[0m\u001b[0m\n\u001b[1;32m    162\u001b[0m             \u001b[0;31m# In a future Fiona release the crs attribute of features will\u001b[0m\u001b[0;34m\u001b[0m\u001b[0;34m\u001b[0m\u001b[0;34m\u001b[0m\u001b[0m\n",
      "\u001b[0;32m~/.local/lib/python3.7/site-packages/fiona/env.py\u001b[0m in \u001b[0;36mwrapper\u001b[0;34m(*args, **kwargs)\u001b[0m\n\u001b[1;32m    406\u001b[0m     \u001b[0;32mdef\u001b[0m \u001b[0mwrapper\u001b[0m\u001b[0;34m(\u001b[0m\u001b[0;34m*\u001b[0m\u001b[0margs\u001b[0m\u001b[0;34m,\u001b[0m \u001b[0;34m**\u001b[0m\u001b[0mkwargs\u001b[0m\u001b[0;34m)\u001b[0m\u001b[0;34m:\u001b[0m\u001b[0;34m\u001b[0m\u001b[0;34m\u001b[0m\u001b[0m\n\u001b[1;32m    407\u001b[0m         \u001b[0;32mif\u001b[0m \u001b[0mlocal\u001b[0m\u001b[0;34m.\u001b[0m\u001b[0m_env\u001b[0m\u001b[0;34m:\u001b[0m\u001b[0;34m\u001b[0m\u001b[0;34m\u001b[0m\u001b[0m\n\u001b[0;32m--> 408\u001b[0;31m             \u001b[0;32mreturn\u001b[0m \u001b[0mf\u001b[0m\u001b[0;34m(\u001b[0m\u001b[0;34m*\u001b[0m\u001b[0margs\u001b[0m\u001b[0;34m,\u001b[0m \u001b[0;34m**\u001b[0m\u001b[0mkwargs\u001b[0m\u001b[0;34m)\u001b[0m\u001b[0;34m\u001b[0m\u001b[0;34m\u001b[0m\u001b[0m\n\u001b[0m\u001b[1;32m    409\u001b[0m         \u001b[0;32melse\u001b[0m\u001b[0;34m:\u001b[0m\u001b[0;34m\u001b[0m\u001b[0;34m\u001b[0m\u001b[0m\n\u001b[1;32m    410\u001b[0m             \u001b[0;32mif\u001b[0m \u001b[0misinstance\u001b[0m\u001b[0;34m(\u001b[0m\u001b[0margs\u001b[0m\u001b[0;34m[\u001b[0m\u001b[0;36m0\u001b[0m\u001b[0;34m]\u001b[0m\u001b[0;34m,\u001b[0m \u001b[0mstr\u001b[0m\u001b[0;34m)\u001b[0m\u001b[0;34m:\u001b[0m\u001b[0;34m\u001b[0m\u001b[0;34m\u001b[0m\u001b[0m\n",
      "\u001b[0;32m~/.local/lib/python3.7/site-packages/fiona/__init__.py\u001b[0m in \u001b[0;36mopen\u001b[0;34m(fp, mode, driver, schema, crs, encoding, layer, vfs, enabled_drivers, crs_wkt, **kwargs)\u001b[0m\n\u001b[1;32m    255\u001b[0m         \u001b[0;32mif\u001b[0m \u001b[0mmode\u001b[0m \u001b[0;32min\u001b[0m \u001b[0;34m(\u001b[0m\u001b[0;34m'a'\u001b[0m\u001b[0;34m,\u001b[0m \u001b[0;34m'r'\u001b[0m\u001b[0;34m)\u001b[0m\u001b[0;34m:\u001b[0m\u001b[0;34m\u001b[0m\u001b[0;34m\u001b[0m\u001b[0m\n\u001b[1;32m    256\u001b[0m             c = Collection(path, mode, driver=driver, encoding=encoding,\n\u001b[0;32m--> 257\u001b[0;31m                            layer=layer, enabled_drivers=enabled_drivers, **kwargs)\n\u001b[0m\u001b[1;32m    258\u001b[0m         \u001b[0;32melif\u001b[0m \u001b[0mmode\u001b[0m \u001b[0;34m==\u001b[0m \u001b[0;34m'w'\u001b[0m\u001b[0;34m:\u001b[0m\u001b[0;34m\u001b[0m\u001b[0;34m\u001b[0m\u001b[0m\n\u001b[1;32m    259\u001b[0m             \u001b[0;32mif\u001b[0m \u001b[0mschema\u001b[0m\u001b[0;34m:\u001b[0m\u001b[0;34m\u001b[0m\u001b[0;34m\u001b[0m\u001b[0m\n",
      "\u001b[0;32m~/.local/lib/python3.7/site-packages/fiona/collection.py\u001b[0m in \u001b[0;36m__init__\u001b[0;34m(self, path, mode, driver, schema, crs, encoding, layer, vsi, archive, enabled_drivers, crs_wkt, ignore_fields, ignore_geometry, **kwargs)\u001b[0m\n\u001b[1;32m    160\u001b[0m             \u001b[0;32mif\u001b[0m \u001b[0mself\u001b[0m\u001b[0;34m.\u001b[0m\u001b[0mmode\u001b[0m \u001b[0;34m==\u001b[0m \u001b[0;34m'r'\u001b[0m\u001b[0;34m:\u001b[0m\u001b[0;34m\u001b[0m\u001b[0;34m\u001b[0m\u001b[0m\n\u001b[1;32m    161\u001b[0m                 \u001b[0mself\u001b[0m\u001b[0;34m.\u001b[0m\u001b[0msession\u001b[0m \u001b[0;34m=\u001b[0m \u001b[0mSession\u001b[0m\u001b[0;34m(\u001b[0m\u001b[0;34m)\u001b[0m\u001b[0;34m\u001b[0m\u001b[0;34m\u001b[0m\u001b[0m\n\u001b[0;32m--> 162\u001b[0;31m                 \u001b[0mself\u001b[0m\u001b[0;34m.\u001b[0m\u001b[0msession\u001b[0m\u001b[0;34m.\u001b[0m\u001b[0mstart\u001b[0m\u001b[0;34m(\u001b[0m\u001b[0mself\u001b[0m\u001b[0;34m,\u001b[0m \u001b[0;34m**\u001b[0m\u001b[0mkwargs\u001b[0m\u001b[0;34m)\u001b[0m\u001b[0;34m\u001b[0m\u001b[0;34m\u001b[0m\u001b[0m\n\u001b[0m\u001b[1;32m    163\u001b[0m             \u001b[0;32melif\u001b[0m \u001b[0mself\u001b[0m\u001b[0;34m.\u001b[0m\u001b[0mmode\u001b[0m \u001b[0;32min\u001b[0m \u001b[0;34m(\u001b[0m\u001b[0;34m'a'\u001b[0m\u001b[0;34m,\u001b[0m \u001b[0;34m'w'\u001b[0m\u001b[0;34m)\u001b[0m\u001b[0;34m:\u001b[0m\u001b[0;34m\u001b[0m\u001b[0;34m\u001b[0m\u001b[0m\n\u001b[1;32m    164\u001b[0m                 \u001b[0mself\u001b[0m\u001b[0;34m.\u001b[0m\u001b[0msession\u001b[0m \u001b[0;34m=\u001b[0m \u001b[0mWritingSession\u001b[0m\u001b[0;34m(\u001b[0m\u001b[0;34m)\u001b[0m\u001b[0;34m\u001b[0m\u001b[0;34m\u001b[0m\u001b[0m\n",
      "\u001b[0;32mfiona/ogrext.pyx\u001b[0m in \u001b[0;36mfiona.ogrext.Session.start\u001b[0;34m()\u001b[0m\n",
      "\u001b[0;32mfiona/_shim.pyx\u001b[0m in \u001b[0;36mfiona._shim.gdal_open_vector\u001b[0;34m()\u001b[0m\n",
      "\u001b[0;31mDriverError\u001b[0m: '/projects/my-public-bucket/analyze_agb/output/zonal.biomass_prelim.hybas_lev06.HYBAS_L03_7030014250.202204220248.geojson' not recognized as a supported file format."
     ]
    }
   ],
   "source": [
    "z = pd.concat([gpd.read_file(f) for f in files])\n",
    "#z = gpd.read_file('/projects/shared-buckets/nathanmthomas/analyze_agb/output/zonal.biomass_prelim.hybas_lev06.HYBAS_L03_8030009570.202204221343.geojson')\n",
    "#'/projects/my-public-bucket/analyze_agb/output/zonal.biomass_prelim.hybas_lev06.HYBAS_L03_7030014250.202204220248.geojson'"
   ]
  },
  {
   "cell_type": "code",
   "execution_count": null,
   "id": "671c3b0e",
   "metadata": {},
   "outputs": [],
   "source": [
    "import geopandas as gpd\n",
    "zonal_lev06 = pd.concat([gpd.read_file(f) for f in files])\n",
    "#zonal_lev06.shape"
   ]
  },
  {
   "cell_type": "code",
   "execution_count": null,
   "id": "596d7669",
   "metadata": {},
   "outputs": [],
   "source": [
    "above_domain_fn = '/projects/shared-buckets/lduncanson/data/above/ABoVE_Study_Domain.shp'\n",
    "above_domain_gdf = gpd.read_file(above_domain_fn)#.cx[-180:-150, 50:75]\n",
    "with rasterio.open(ZONAL_STATS_DICT['RASTER_FN'], mode='r') as src:\n",
    "    raster_crs = src.crs\n",
    "zonal_lev06.set_crs(raster_crs, allow_override=True, inplace=True)\n",
    "zonal_lev06.crs"
   ]
  },
  {
   "cell_type": "code",
   "execution_count": null,
   "id": "77419a3f",
   "metadata": {},
   "outputs": [],
   "source": [
    "import matplotlib.pyplot as plt\n",
    "\n",
    "plt.rcParams['figure.figsize'] = [25, 10]\n",
    "\n",
    "world = gpd.read_file(gpd.datasets.get_path(\"naturalearth_lowres\") )\n",
    "alaska = world[world.name == 'United States of America'].explode().cx[-170:-50, 50:90]\n",
    "canada = world[world.name == 'Canada']\n",
    "canada_alaska = pd.concat([alaska, canada])\n",
    "boreal_gdf = gpd.read_file('/projects/my-public-bucket/analyze_agb/input_zones/wwf_circumboreal_Dissolve.geojson')\n",
    "\n",
    "ax = canada_alaska.cx[-170:-50,50:90].to_crs(above_domain_gdf.crs).boundary.plot(color='black', linewidth=0.25)\n",
    "ax = boreal_gdf.cx[-180:-50,50:90].to_crs(above_domain_gdf.crs).boundary.plot(color='black', ax=ax)\n",
    "zonal_lev06.to_crs(above_domain_gdf.crs).plot('total_Mg', cmap='viridis', legend=True, vmin=0, vmax=1000, ax=ax)\n"
   ]
  },
  {
   "cell_type": "code",
   "execution_count": null,
   "id": "21f37af5",
   "metadata": {},
   "outputs": [],
   "source": [
    "z.hist('median', bins=100)"
   ]
  },
  {
   "cell_type": "code",
   "execution_count": null,
   "id": "7eb11024",
   "metadata": {},
   "outputs": [],
   "source": []
  },
  {
   "cell_type": "code",
   "execution_count": null,
   "id": "7c138f8d",
   "metadata": {},
   "outputs": [],
   "source": []
  },
  {
   "cell_type": "code",
   "execution_count": null,
   "id": "a0646844",
   "metadata": {},
   "outputs": [],
   "source": [
    "hybas_lev06 = pd.concat([gpd.read_file(f) for f in glob.glob('/projects/my-public-bucket/analyze_agb/hydrobasins/hybas_lake_*_lev03_v1c.shp')])\n",
    "hybas_lev06.plot(column='LAKE')\n",
    "hybas_lev06.to_file('/projects/my-public-bucket/analyze_agb/hydrobasins/hybas_lake_NORTHERN_lev03_v1c.gpkg', driver='GPKG')"
   ]
  },
  {
   "cell_type": "code",
   "execution_count": null,
   "id": "cc37637b",
   "metadata": {},
   "outputs": [],
   "source": [
    "import zipfile\n",
    "zipdir = '/projects/my-public-bucket/analyze_agb/hydrobasins'\n",
    "files = glob.glob(f'{zipdir}/*_as_*.zip')\n",
    "for f in files:\n",
    "    with zipfile.ZipFile(f, 'r') as zip_ref:\n",
    "        zip_ref.extractall(zipdir)"
   ]
  }
 ],
 "metadata": {
  "kernelspec": {
   "display_name": "Python 3 (ipykernel)",
   "language": "python",
   "name": "python3"
  },
  "language_info": {
   "codemirror_mode": {
    "name": "ipython",
    "version": 3
   },
   "file_extension": ".py",
   "mimetype": "text/x-python",
   "name": "python",
   "nbconvert_exporter": "python",
   "pygments_lexer": "ipython3",
   "version": "3.7.8"
  }
 },
 "nbformat": 4,
 "nbformat_minor": 5
}
