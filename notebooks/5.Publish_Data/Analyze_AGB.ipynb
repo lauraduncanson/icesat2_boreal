{
 "cells": [
  {
   "cell_type": "code",
   "execution_count": 71,
   "id": "boxed-humanitarian",
   "metadata": {},
   "outputs": [
    {
     "name": "stdout",
     "output_type": "stream",
     "text": [
      "Collecting rasterstats\n",
      "  Downloading rasterstats-0.16.0-py3-none-any.whl (16 kB)\n",
      "Requirement already satisfied: rasterio>=1.0 in /projects/.local/lib/python3.7/site-packages (from rasterstats) (1.2.6)\n",
      "Requirement already satisfied: cligj>=0.4 in /projects/.local/lib/python3.7/site-packages (from rasterstats) (0.7.2)\n",
      "Requirement already satisfied: affine<3.0 in /projects/.local/lib/python3.7/site-packages (from rasterstats) (2.3.0)\n",
      "Collecting simplejson\n",
      "  Downloading simplejson-3.17.6-cp37-cp37m-manylinux_2_5_x86_64.manylinux1_x86_64.manylinux_2_12_x86_64.manylinux2010_x86_64.whl (130 kB)\n",
      "\u001b[K     |████████████████████████████████| 130 kB 8.6 MB/s eta 0:00:01\n",
      "\u001b[?25hRequirement already satisfied: shapely in /projects/.local/lib/python3.7/site-packages (from rasterstats) (1.7.1)\n",
      "Requirement already satisfied: fiona in /projects/.local/lib/python3.7/site-packages (from rasterstats) (1.8.20)\n",
      "Requirement already satisfied: numpy>=1.9 in /opt/conda/lib/python3.7/site-packages (from rasterstats) (1.19.4)\n",
      "Requirement already satisfied: click>=4.0 in /opt/conda/lib/python3.7/site-packages (from cligj>=0.4->rasterstats) (8.0.1)\n",
      "Requirement already satisfied: importlib-metadata in /opt/conda/lib/python3.7/site-packages (from click>=4.0->cligj>=0.4->rasterstats) (3.7.3)\n",
      "Requirement already satisfied: snuggs>=1.4.1 in /projects/.local/lib/python3.7/site-packages (from rasterio>=1.0->rasterstats) (1.4.7)\n",
      "Requirement already satisfied: attrs in /opt/conda/lib/python3.7/site-packages (from rasterio>=1.0->rasterstats) (20.3.0)\n",
      "Requirement already satisfied: certifi in /opt/conda/lib/python3.7/site-packages (from rasterio>=1.0->rasterstats) (2021.5.30)\n",
      "Requirement already satisfied: click-plugins in /projects/.local/lib/python3.7/site-packages (from rasterio>=1.0->rasterstats) (1.1.1)\n",
      "Requirement already satisfied: setuptools in /opt/conda/lib/python3.7/site-packages (from rasterio>=1.0->rasterstats) (41.4.0)\n",
      "Requirement already satisfied: pyparsing>=2.1.6 in /opt/conda/lib/python3.7/site-packages (from snuggs>=1.4.1->rasterio>=1.0->rasterstats) (2.4.7)\n",
      "Requirement already satisfied: munch in /projects/.local/lib/python3.7/site-packages (from fiona->rasterstats) (2.5.0)\n",
      "Requirement already satisfied: six>=1.7 in /opt/conda/lib/python3.7/site-packages (from fiona->rasterstats) (1.12.0)\n",
      "Requirement already satisfied: zipp>=0.5 in /opt/conda/lib/python3.7/site-packages (from importlib-metadata->click>=4.0->cligj>=0.4->rasterstats) (3.4.1)\n",
      "Requirement already satisfied: typing-extensions>=3.6.4 in /opt/conda/lib/python3.7/site-packages (from importlib-metadata->click>=4.0->cligj>=0.4->rasterstats) (3.7.4.3)\n",
      "Installing collected packages: simplejson, rasterstats\n",
      "Successfully installed rasterstats-0.16.0 simplejson-3.17.6\n",
      "\u001b[33mWARNING: Running pip as the 'root' user can result in broken permissions and conflicting behaviour with the system package manager. It is recommended to use a virtual environment instead: https://pip.pypa.io/warnings/venv\u001b[0m\n",
      "\u001b[33mWARNING: You are using pip version 21.2.4; however, version 21.3.1 is available.\n",
      "You should consider upgrading via the '/opt/conda/bin/python -m pip install --upgrade pip' command.\u001b[0m\n"
     ]
    }
   ],
   "source": [
    "!pip install rasterstats"
   ]
  },
  {
   "cell_type": "code",
   "execution_count": 72,
   "id": "medical-breakdown",
   "metadata": {},
   "outputs": [],
   "source": [
    "import os\n",
    "import rasterio\n",
    "import rasterio.mask\n",
    "from rasterio.plot import show\n",
    "from shapely.geometry import mapping\n",
    "from rasterstats import zonal_stats\n",
    "import geopandas as gpd\n",
    "import pandas as pd\n",
    "import fiona\n",
    "from fiona.crs import from_epsg\n",
    "import matplotlib.pyplot as plt"
   ]
  },
  {
   "cell_type": "markdown",
   "id": "gross-queensland",
   "metadata": {},
   "source": [
    "#### Read in vector file of polygon zones"
   ]
  },
  {
   "cell_type": "code",
   "execution_count": 130,
   "id": "resistant-ratio",
   "metadata": {},
   "outputs": [
    {
     "name": "stdout",
     "output_type": "stream",
     "text": [
      "      OBJECTID           AREA  PERIMETER                             ECO_NAME  \\\n",
      "5073      4516  446257.777305    211.292  Interior Alaska-Yukon lowland taiga   \n",
      "4951      4377  160646.465387     87.437          Brooks-British Range tundra   \n",
      "5900      5170  150692.430763    163.622        Alaska-St. Elias Range tundra   \n",
      "3190      2640  129977.642583     97.903              Arctic foothills tundra   \n",
      "1340      2692  106590.293564     48.163             Chukchi Peninsula tundra   \n",
      "\n",
      "     REALM  BIOME  ECO_NUM   ECO_ID  ECO_SYM  GBL_STAT  \\\n",
      "5073    NA    6.0      7.0  50607.0     76.0       3.0   \n",
      "4951    NA   11.0      8.0  51108.0     55.0       3.0   \n",
      "5900    NA   11.0      1.0  51101.0     42.0       3.0   \n",
      "3190    NA   11.0      4.0  51104.0     46.0       3.0   \n",
      "1340    PA   11.0      4.0  81104.0     42.0       3.0   \n",
      "\n",
      "                              G200_REGIO  G200_NUM  G200_BIOME  G200_STAT  \\\n",
      "5073                                None       0.0         0.0        0.0   \n",
      "4951                                None       0.0         0.0        0.0   \n",
      "5900                                None       0.0         0.0        0.0   \n",
      "3190  Alaskan North Slope coastal tundra     113.0        11.0        3.0   \n",
      "1340             Chukhote coastal tundra     117.0        11.0        3.0   \n",
      "\n",
      "      Shape_Leng  Shape_Area  area_km2 eco_code  \\\n",
      "5073  211.293814   84.381347    446261   NA0607   \n",
      "4951   87.437566   34.787761    160646   NA1108   \n",
      "5900  163.623212   25.869427    152718   NA1101   \n",
      "3190   97.903782   29.189830    130032   NA1104   \n",
      "1340   48.163086   21.459760    300485   PA1104   \n",
      "\n",
      "                                               geometry  \n",
      "5073  POLYGON ((-141.06981 68.72863, -141.00002 68.7...  \n",
      "4951  POLYGON ((-140.99905 69.50984, -140.99127 69.5...  \n",
      "5900  POLYGON ((-151.53880 63.06923, -151.54132 63.0...  \n",
      "3190  POLYGON ((-145.42003 70.03096, -145.41837 70.0...  \n",
      "1340  POLYGON ((-179.99999 68.97818, -179.99469 68.9...  \n",
      "CPU times: user 2.93 s, sys: 60.4 ms, total: 3 s\n",
      "Wall time: 3.18 s\n"
     ]
    },
    {
     "data": {
      "image/png": "[encoded data removed]",
      "text/plain": [
       "<Figure size 432x288 with 1 Axes>"
      ]
     },
     "metadata": {
      "needs_background": "light"
     },
     "output_type": "display_data"
    }
   ],
   "source": [
    "%%time\n",
    "# Get the shp filename\n",
    "shp_fn = '/att/gpfsfs/briskfs01/ppl/pmontesa/userfs02/arc/bioclimate_dd.shp'\n",
    "shp_fn = '/att/gpfsfs/briskfs01/ppl/pmontesa/userfs02/data/hydrobasins/hybas_lev03_clip_above.gpkg'\n",
    "shp_fn = '/projects/my-public-bucket/misc_files/hybas_lake_ar_lev08_v1c.shp'\n",
    "shp_fn = '/projects/my-public-bucket/misc_files/wwf_terr_ecos.shp'\n",
    "\n",
    "# Reading in vector and subsetting\n",
    "vector_gdf = gpd.read_file(shp_fn).cx[-180:-150, 50:75]\n",
    "vector_gdf.sort_values(by = 'AREA', ascending=False, inplace=True)\n",
    "\n",
    "vector_gdf = vector_gdf.head()\n",
    "\n",
    "print(vector_gdf)\n",
    "vector_gdf.plot()\n",
    "#\n",
    "\n",
    "vector_file_name = 'bioclimate_dd'\n",
    "vector_file_name = 'hybas_lev03'\n",
    "vector_file_name = 'hybas_lev08'\n",
    "vector_file_name = 'wwfecoregions'\n",
    "\n",
    "zone_field_name = 'zone_'\n",
    "zone_field_name = 'HYBAS_ID'\n",
    "zone_field_name = 'ECO_NAME'\n"
   ]
  },
  {
   "cell_type": "markdown",
   "id": "sacred-weekly",
   "metadata": {},
   "source": [
    "#### Specify raster file"
   ]
  },
  {
   "cell_type": "code",
   "execution_count": 83,
   "id": "outside-collar",
   "metadata": {},
   "outputs": [
    {
     "name": "stdout",
     "output_type": "stream",
     "text": [
      "360000 264000\n",
      "PROJCS[\"unknown\",GEOGCS[\"NAD83\",DATUM[\"North_American_Datum_1983\",SPHEROID[\"GRS 1980\",6378137,298.257222101004,AUTHORITY[\"EPSG\",\"7019\"]],AUTHORITY[\"EPSG\",\"6269\"]],PRIMEM[\"Greenwich\",0],UNIT[\"degree\",0.0174532925199433,AUTHORITY[\"EPSG\",\"9122\"]],AUTHORITY[\"EPSG\",\"4269\"]],PROJECTION[\"Albers_Conic_Equal_Area\"],PARAMETER[\"latitude_of_center\",40],PARAMETER[\"longitude_of_center\",180],PARAMETER[\"standard_parallel_1\",50],PARAMETER[\"standard_parallel_2\",70],PARAMETER[\"false_easting\",0],PARAMETER[\"false_northing\",0],UNIT[\"metre\",1,AUTHORITY[\"EPSG\",\"9001\"]],AXIS[\"Easting\",EAST],AXIS[\"Northing\",NORTH]]\n",
      "(1, 2, 3, 4)\n"
     ]
    }
   ],
   "source": [
    "indir = '/projects/shared-buckets/alexdevseed'\n",
    "outdir = '/projects/my-public-bucket/test_output/analyze_agb'\n",
    "r_fn = os.path.join(indir, 'AGB_tindex.vrt')\n",
    "import rasterio.crs\n",
    "\n",
    "with rasterio.open(r_fn, mode='r') as src:\n",
    "    print(src.width, src.height)\n",
    "    print(src.crs)\n",
    "    print(src.indexes)\n",
    "    to_crs = src.crs"
   ]
  },
  {
   "cell_type": "code",
   "execution_count": 134,
   "id": "fifteen-somerset",
   "metadata": {},
   "outputs": [
    {
     "data": {
      "text/plain": [
       "(5, 19)"
      ]
     },
     "execution_count": 134,
     "metadata": {},
     "output_type": "execute_result"
    }
   ],
   "source": [
    "# Reproject the vector to the raster crs\n",
    "in_gdf = vector_gdf.to_crs(to_crs)\n",
    "in_gdf.shape"
   ]
  },
  {
   "cell_type": "code",
   "execution_count": 135,
   "id": "designed-madrid",
   "metadata": {},
   "outputs": [
    {
     "data": {
      "text/plain": [
       "<AxesSubplot:>"
      ]
     },
     "execution_count": 135,
     "metadata": {},
     "output_type": "execute_result"
    },
    {
     "data": {
      "image/png": "[encoded data removed]",
      "text/plain": [
       "<Figure size 432x288 with 2 Axes>"
      ]
     },
     "metadata": {
      "needs_background": "light"
     },
     "output_type": "display_data"
    }
   ],
   "source": [
    "# Attach zonal_stats to output geodataframe\n",
    "out_gdf = in_gdf.join(\n",
    "    pd.DataFrame(\n",
    "        zonal_stats(\n",
    "            vectors=in_gdf['geometry'], \n",
    "            raster=r_fn, \n",
    "            stats=['max','mean', 'median','std','min','sum','count']\n",
    "        )\n",
    "    ),\n",
    "    how='left'\n",
    ")\n",
    "out_gdf.plot('mean', cmap='viridis', legend=True, vmin=0, vmax=250)"
   ]
  },
  {
   "cell_type": "code",
   "execution_count": 141,
   "id": "changing-richardson",
   "metadata": {},
   "outputs": [
    {
     "data": {
      "text/plain": [
       "<Projected CRS: PROJCS[\"unknown\",GEOGCS[\"NAD83\",DATUM[\"North_Ameri ...>\n",
       "Name: unknown\n",
       "Axis Info [cartesian]:\n",
       "- [east]: Easting (metre)\n",
       "- [north]: Northing (metre)\n",
       "Area of Use:\n",
       "- undefined\n",
       "Coordinate Operation:\n",
       "- name: unnamed\n",
       "- method: Albers Equal Area\n",
       "Datum: North American Datum 1983\n",
       "- Ellipsoid: GRS 1980\n",
       "- Prime Meridian: Greenwich"
      ]
     },
     "execution_count": 141,
     "metadata": {},
     "output_type": "execute_result"
    }
   ],
   "source": [
    "out_gdf.crs\n"
   ]
  },
  {
   "cell_type": "code",
   "execution_count": 68,
   "id": "prompt-psychology",
   "metadata": {},
   "outputs": [],
   "source": [
    "def get_gdf_lists(input_gdf, zone_field_name, SHOW_CLIP=False):\n",
    "    '''\n",
    "    From the input gdf get:\n",
    "        geoms_list: the geoms (features) that you will use to clip\n",
    "        zone_name_list: the names of the geoms (features)\n",
    "    '''\n",
    "    geoms_list = []\n",
    "    zone_name_list = []\n",
    "\n",
    "    for idx in input_gdf.index:\n",
    "        #print(idx)\n",
    "        geom =  input_gdf.loc[idx].geometry\n",
    "        zonename =  input_gdf.loc[idx][zone_field_name]\n",
    "        print(zone_field_name, zonename)\n",
    "        if geom not in geoms_list:\n",
    "            if SHOW_CLIP:\n",
    "                gpd.GeoSeries(geom).plot()\n",
    "            geoms_list.append(geom)\n",
    "            zone_name_list.append(zonename)\n",
    "\n",
    "    print(f'# of indiv features: {len(geoms_list)}')\n",
    "    return [geoms_list, zone_name_list]\n",
    "\n",
    "def do_clip(r_fn, input_gdf, zone_field_name, indir, outdir, vector_fn, SHOW_CLIP = True):\n",
    "    \n",
    "    geoms_list, zone_name_list = get_gdf_lists(input_gdf, zone_field_name, SHOW_CLIP = False)\n",
    "    \n",
    "    feature_pass_list = []\n",
    "    feature_fail_list = []\n",
    "    no_raster_intersection_list = []\n",
    "\n",
    "    with rasterio.open(r_fn, \"r\") as r:\n",
    "\n",
    "        for idx, zone_name in enumerate(zone_name_list):\n",
    "            print(zone_name)\n",
    "            geom = geoms_list[idx]\n",
    "            \n",
    "            feature_gdf = None\n",
    "            try:\n",
    "                feature_gdf = gpd.GeoDataFrame({'name':zone_name, 'geometry':geom}, crs=from_epsg(4326)) #index=[0], \n",
    "                feature_gdf.plot()\n",
    "                # Reproject feature_gdf to raster crs\n",
    "                feature_gdf = feature_gdf.to_crs(r.crs)\n",
    "            except ValueError:\n",
    "                print(f\"Cant get geodataframe for feature {zone_name}\")\n",
    "                feature_fail_list.append(zone_name)\n",
    "                \n",
    "                continue\n",
    "\n",
    "            zone_name = f'{zone_name:03}'\n",
    "            out_r_fn = os.path.join(os.path.split(r_fn.replace(indir, outdir))[0] , os.path.split(r_fn)[1].replace(os.path.splitext(r_fn)[1], '_'+vector_fn+'_'+zone_name+'.tif'))\n",
    "\n",
    "            try:\n",
    "\n",
    "                out_image, out_transform = rasterio.mask.mask(dataset=r, shapes=feature_gdf.geometry, crop=True)\n",
    "\n",
    "                # Copy the metadata\n",
    "                out_meta = r.meta.copy()\n",
    "                out_meta.update({\"driver\": \"GTiff\",\n",
    "                         \"height\": out_image.shape[1],\n",
    "                         \"width\": out_image.shape[2],\n",
    "                         \"transform\": out_transform,\n",
    "                         \"crs\":r.crs.to_proj4()}\n",
    "                                 )\n",
    "                with rasterio.open(out_r_fn, \"w\", **out_meta) as out_r:\n",
    "                    out_r.write(out_image)\n",
    "\n",
    "                    print(\"Zone\", zone_name, \"clip of\",  os.path.split(r_fn)[1])\n",
    "                    print(\"Writing clipped subset to\", out_r_fn)\n",
    "                    feature_pass_list.append(zone_name)\n",
    "\n",
    "                    #show(out_r, cmap='viridis') # <-- this show() is not working here..need to read the raster in again?\n",
    "\n",
    "                # HERE IS WHERE WE CAN DO rasterstat's zonal_stats.\n",
    "                if SHOW_CLIP:\n",
    "                    show((rasterio.open(out_r_fn)), cmap='viridis')# <-- this show() works\n",
    "\n",
    "            except ValueError:\n",
    "                print(zone_name, \" has no intersection with\", os.path.split(r_fn)[1])\n",
    "                no_raster_intersection_list.append(zone_name)\n",
    "    print(f'# features that produced clips: {len(feature_pass_list)}')\n",
    "    print(f'# features that failed to produce geodataframes: {len(feature_fail_list)}')\n",
    "    print(f'# features that didnt have intersection with raster: {len(no_raster_intersection_list)}')"
   ]
  },
  {
   "cell_type": "code",
   "execution_count": 69,
   "id": "banner-hormone",
   "metadata": {},
   "outputs": [
    {
     "name": "stdout",
     "output_type": "stream",
     "text": [
      "HYBAS_ID 8080000010\n",
      "HYBAS_ID 8089023840\n",
      "HYBAS_ID 8080000061\n",
      "HYBAS_ID 8080000062\n",
      "HYBAS_ID 8089051211\n",
      "# of indiv features: 5\n",
      "8080000010\n",
      "Cant get geodataframe for feature 8080000010\n",
      "8089023840\n",
      "Cant get geodataframe for feature 8089023840\n",
      "8080000061\n"
     ]
    },
    {
     "name": "stderr",
     "output_type": "stream",
     "text": [
      "/projects/.local/lib/python3.7/site-packages/pyproj/crs/crs.py:131: FutureWarning: '+init=<authority>:<code>' syntax is deprecated. '<authority>:<code>' is the preferred initialization method. When making the change, be mindful of axis order changes: https://pyproj4.github.io/pyproj/stable/gotchas.html#axis-order-changes-in-proj-6\n",
      "  in_crs_string = _prepare_from_proj_string(in_crs_string)\n"
     ]
    },
    {
     "name": "stdout",
     "output_type": "stream",
     "text": [
      "Zone 8080000061 clip of AGB_tindex.vrt\n",
      "Writing clipped subset to /projects/my-public-bucket/test_output/analyze_agb/AGB_tindex_hybas_lev08_8080000061.tif\n"
     ]
    },
    {
     "data": {
      "image/png": "[encoded data removed]",
      "text/plain": [
       "<Figure size 432x288 with 1 Axes>"
      ]
     },
     "metadata": {
      "needs_background": "light"
     },
     "output_type": "display_data"
    },
    {
     "name": "stdout",
     "output_type": "stream",
     "text": [
      "8080000062\n"
     ]
    },
    {
     "name": "stderr",
     "output_type": "stream",
     "text": [
      "/projects/.local/lib/python3.7/site-packages/pyproj/crs/crs.py:131: FutureWarning: '+init=<authority>:<code>' syntax is deprecated. '<authority>:<code>' is the preferred initialization method. When making the change, be mindful of axis order changes: https://pyproj4.github.io/pyproj/stable/gotchas.html#axis-order-changes-in-proj-6\n",
      "  in_crs_string = _prepare_from_proj_string(in_crs_string)\n"
     ]
    },
    {
     "name": "stdout",
     "output_type": "stream",
     "text": [
      "Zone 8080000062 clip of AGB_tindex.vrt\n",
      "Writing clipped subset to /projects/my-public-bucket/test_output/analyze_agb/AGB_tindex_hybas_lev08_8080000062.tif\n"
     ]
    },
    {
     "data": {
      "image/png": "[encoded data removed]",
      "text/plain": [
       "<Figure size 432x288 with 1 Axes>"
      ]
     },
     "metadata": {
      "needs_background": "light"
     },
     "output_type": "display_data"
    },
    {
     "name": "stdout",
     "output_type": "stream",
     "text": [
      "8089051211\n",
      "Cant get geodataframe for feature 8089051211\n",
      "# features that produced clips: 2\n",
      "# features that failed to produce geodataframes: 3\n",
      "# features that didnt have intersection with raster: 0\n"
     ]
    }
   ],
   "source": [
    "do_clip(r_fn, vector_gdf.head(), zone_field_name, indir, outdir, vector_file_name, SHOW_CLIP = True)"
   ]
  }
 ],
 "metadata": {
  "kernelspec": {
   "display_name": "Python 3",
   "language": "python",
   "name": "python3"
  },
  "language_info": {
   "codemirror_mode": {
    "name": "ipython",
    "version": 3
   },
   "file_extension": ".py",
   "mimetype": "text/x-python",
   "name": "python",
   "nbconvert_exporter": "python",
   "pygments_lexer": "ipython3",
   "version": "3.7.4"
  }
 },
 "nbformat": 4,
 "nbformat_minor": 5
}
