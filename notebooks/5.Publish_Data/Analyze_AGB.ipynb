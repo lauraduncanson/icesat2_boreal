{
 "cells": [
  {
   "cell_type": "markdown",
   "id": "63fa29e1",
   "metadata": {},
   "source": [
    "# Analyze boreal biomass by polygonal zone\n",
    "* updated to try COGReader and its zonal_statistics\n",
    "* some test output from first clipping attempts here: /projects/shared-buckets/lduncanson/test_output/analyze_agb"
   ]
  },
  {
   "cell_type": "code",
   "execution_count": 1,
   "id": "f2a4f9b3",
   "metadata": {},
   "outputs": [
    {
     "name": "stdout",
     "output_type": "stream",
     "text": [
      "Requirement already satisfied: rasterstats in /opt/conda/lib/python3.7/site-packages (0.16.0)\n",
      "Requirement already satisfied: simplejson in /opt/conda/lib/python3.7/site-packages (from rasterstats) (3.17.6)\n",
      "Requirement already satisfied: fiona in /projects/.local/lib/python3.7/site-packages (from rasterstats) (1.8.20)\n",
      "Requirement already satisfied: numpy>=1.9 in /projects/.local/lib/python3.7/site-packages (from rasterstats) (1.21.0)\n",
      "Requirement already satisfied: cligj>=0.4 in /opt/conda/lib/python3.7/site-packages (from rasterstats) (0.7.0)\n",
      "Requirement already satisfied: shapely in /projects/.local/lib/python3.7/site-packages (from rasterstats) (1.7.1)\n",
      "Requirement already satisfied: affine<3.0 in /opt/conda/lib/python3.7/site-packages (from rasterstats) (2.3.0)\n",
      "Requirement already satisfied: rasterio>=1.0 in /projects/.local/lib/python3.7/site-packages (from rasterstats) (1.2.6)\n",
      "Requirement already satisfied: click<8,>=4.0 in /opt/conda/lib/python3.7/site-packages (from cligj>=0.4->rasterstats) (7.1.2)\n",
      "Requirement already satisfied: snuggs>=1.4.1 in /opt/conda/lib/python3.7/site-packages (from rasterio>=1.0->rasterstats) (1.4.7)\n",
      "Requirement already satisfied: attrs in /opt/conda/lib/python3.7/site-packages (from rasterio>=1.0->rasterstats) (20.2.0)\n",
      "Requirement already satisfied: click-plugins in /opt/conda/lib/python3.7/site-packages (from rasterio>=1.0->rasterstats) (1.1.1)\n",
      "Requirement already satisfied: certifi in /opt/conda/lib/python3.7/site-packages (from rasterio>=1.0->rasterstats) (2021.5.30)\n",
      "Requirement already satisfied: setuptools in /opt/conda/lib/python3.7/site-packages (from rasterio>=1.0->rasterstats) (49.6.0.post20201009)\n",
      "Requirement already satisfied: munch in /projects/.local/lib/python3.7/site-packages (from fiona->rasterstats) (2.5.0)\n",
      "Requirement already satisfied: six>=1.7 in /opt/conda/lib/python3.7/site-packages (from fiona->rasterstats) (1.15.0)\n",
      "Requirement already satisfied: pyparsing>=2.1.6 in /opt/conda/lib/python3.7/site-packages (from snuggs>=1.4.1->rasterio>=1.0->rasterstats) (2.4.7)\n",
      "\u001b[33mWARNING: Running pip as the 'root' user can result in broken permissions and conflicting behaviour with the system package manager. It is recommended to use a virtual environment instead: https://pip.pypa.io/warnings/venv\u001b[0m\u001b[33m\n",
      "\u001b[0m\u001b[33mWARNING: You are using pip version 22.0.3; however, version 22.0.4 is available.\n",
      "You should consider upgrading via the '/opt/conda/bin/python3.7 -m pip install --upgrade pip' command.\u001b[0m\u001b[33m\n",
      "\u001b[0m"
     ]
    }
   ],
   "source": [
    "!pip install rasterstats"
   ]
  },
  {
   "cell_type": "code",
   "execution_count": 2,
   "id": "b2298ba5",
   "metadata": {},
   "outputs": [
    {
     "name": "stdout",
     "output_type": "stream",
     "text": [
      "Requirement already satisfied: geopandas==0.10.0 in /opt/conda/lib/python3.7/site-packages (0.10.0)\n",
      "Requirement already satisfied: pyproj>=2.2.0 in /opt/conda/lib/python3.7/site-packages (from geopandas==0.10.0) (2.6.1.post1)\n",
      "Requirement already satisfied: fiona>=1.8 in /projects/.local/lib/python3.7/site-packages (from geopandas==0.10.0) (1.8.20)\n",
      "Requirement already satisfied: shapely>=1.6 in /projects/.local/lib/python3.7/site-packages (from geopandas==0.10.0) (1.7.1)\n",
      "Requirement already satisfied: pandas>=0.25.0 in /projects/.local/lib/python3.7/site-packages (from geopandas==0.10.0) (1.2.2)\n",
      "Requirement already satisfied: click-plugins>=1.0 in /opt/conda/lib/python3.7/site-packages (from fiona>=1.8->geopandas==0.10.0) (1.1.1)\n",
      "Requirement already satisfied: attrs>=17 in /opt/conda/lib/python3.7/site-packages (from fiona>=1.8->geopandas==0.10.0) (20.2.0)\n",
      "Requirement already satisfied: cligj>=0.5 in /opt/conda/lib/python3.7/site-packages (from fiona>=1.8->geopandas==0.10.0) (0.7.0)\n",
      "Requirement already satisfied: setuptools in /opt/conda/lib/python3.7/site-packages (from fiona>=1.8->geopandas==0.10.0) (49.6.0.post20201009)\n",
      "Requirement already satisfied: six>=1.7 in /opt/conda/lib/python3.7/site-packages (from fiona>=1.8->geopandas==0.10.0) (1.15.0)\n",
      "Requirement already satisfied: certifi in /opt/conda/lib/python3.7/site-packages (from fiona>=1.8->geopandas==0.10.0) (2021.5.30)\n",
      "Requirement already satisfied: munch in /projects/.local/lib/python3.7/site-packages (from fiona>=1.8->geopandas==0.10.0) (2.5.0)\n",
      "Requirement already satisfied: click>=4.0 in /opt/conda/lib/python3.7/site-packages (from fiona>=1.8->geopandas==0.10.0) (7.1.2)\n",
      "Requirement already satisfied: pytz>=2017.3 in /opt/conda/lib/python3.7/site-packages (from pandas>=0.25.0->geopandas==0.10.0) (2021.1)\n",
      "Requirement already satisfied: numpy>=1.16.5 in /projects/.local/lib/python3.7/site-packages (from pandas>=0.25.0->geopandas==0.10.0) (1.21.0)\n",
      "Requirement already satisfied: python-dateutil>=2.7.3 in /opt/conda/lib/python3.7/site-packages (from pandas>=0.25.0->geopandas==0.10.0) (2.8.2)\n",
      "\u001b[33mWARNING: Running pip as the 'root' user can result in broken permissions and conflicting behaviour with the system package manager. It is recommended to use a virtual environment instead: https://pip.pypa.io/warnings/venv\u001b[0m\u001b[33m\n",
      "\u001b[0m\u001b[33mWARNING: You are using pip version 22.0.3; however, version 22.0.4 is available.\n",
      "You should consider upgrading via the '/opt/conda/bin/python3.7 -m pip install --upgrade pip' command.\u001b[0m\u001b[33m\n",
      "\u001b[0m"
     ]
    }
   ],
   "source": [
    "!pip install geopandas==0.10.0"
   ]
  },
  {
   "cell_type": "code",
   "execution_count": 1,
   "id": "a6d3d495",
   "metadata": {},
   "outputs": [
    {
     "name": "stdout",
     "output_type": "stream",
     "text": [
      "\u001b[31mERROR: pip's dependency resolver does not currently take into account all the packages that are installed. This behaviour is the source of the following dependency conflicts.\n",
      "rio-tiler 2.1.4 requires morecantile<2.2,>=2.1, but you have morecantile 3.1.2 which is incompatible.\u001b[0m\u001b[31m\n",
      "\u001b[0m\u001b[33mWARNING: Running pip as the 'root' user can result in broken permissions and conflicting behaviour with the system package manager. It is recommended to use a virtual environment instead: https://pip.pypa.io/warnings/venv\u001b[0m\u001b[33m\n",
      "\u001b[0m\u001b[33mWARNING: You are using pip version 22.0.3; however, version 22.0.4 is available.\n",
      "You should consider upgrading via the '/opt/conda/bin/python3.7 -m pip install --upgrade pip' command.\u001b[0m\u001b[33m\n",
      "\u001b[0m\u001b[33mWARNING: Running pip as the 'root' user can result in broken permissions and conflicting behaviour with the system package manager. It is recommended to use a virtual environment instead: https://pip.pypa.io/warnings/venv\u001b[0m\u001b[33m\n",
      "\u001b[0m\u001b[33mWARNING: You are using pip version 22.0.3; however, version 22.0.4 is available.\n",
      "You should consider upgrading via the '/opt/conda/bin/python3.7 -m pip install --upgrade pip' command.\u001b[0m\u001b[33m\n",
      "\u001b[0m"
     ]
    }
   ],
   "source": [
    "#!pip install -U rio-cogeo>=3.0.0\n",
    "!pip install -U rio-tiler>=3.0.0"
   ]
  },
  {
   "cell_type": "code",
   "execution_count": 54,
   "id": "22f23c68",
   "metadata": {},
   "outputs": [
    {
     "name": "stdout",
     "output_type": "stream",
     "text": [
      "Collecting geojson-pydantic\n",
      "  Downloading geojson-pydantic-0.3.3.tar.gz (8.6 kB)\n",
      "  Preparing metadata (setup.py) ... \u001b[?25ldone\n",
      "\u001b[?25hRequirement already satisfied: pydantic in /projects/.local/lib/python3.7/site-packages (from geojson-pydantic) (1.8.2)\n",
      "Requirement already satisfied: typing-extensions>=3.7.4.3 in /opt/conda/lib/python3.7/site-packages (from pydantic->geojson-pydantic) (3.10.0.2)\n",
      "Building wheels for collected packages: geojson-pydantic\n",
      "  Building wheel for geojson-pydantic (setup.py) ... \u001b[?25ldone\n",
      "\u001b[?25h  Created wheel for geojson-pydantic: filename=geojson_pydantic-0.3.3-py3-none-any.whl size=7105 sha256=592c9a85f4e37f92d99306e6568dd2c881a755f95156547d6ae67d72bb5e4868\n",
      "  Stored in directory: /projects/.cache/pip/wheels/f9/d8/a0/305c71e7589f826311f37a9a386358b1aa4253efd58dc9a424\n",
      "Successfully built geojson-pydantic\n",
      "Installing collected packages: geojson-pydantic\n",
      "Successfully installed geojson-pydantic-0.3.3\n",
      "\u001b[33mWARNING: Running pip as the 'root' user can result in broken permissions and conflicting behaviour with the system package manager. It is recommended to use a virtual environment instead: https://pip.pypa.io/warnings/venv\u001b[0m\u001b[33m\n",
      "\u001b[0m\u001b[33mWARNING: You are using pip version 22.0.3; however, version 22.0.4 is available.\n",
      "You should consider upgrading via the '/opt/conda/bin/python3.7 -m pip install --upgrade pip' command.\u001b[0m\u001b[33m\n",
      "\u001b[0m"
     ]
    }
   ],
   "source": [
    "!pip install -U geojson-pydantic"
   ]
  },
  {
   "cell_type": "code",
   "execution_count": 89,
   "id": "44f0dcc7",
   "metadata": {},
   "outputs": [],
   "source": [
    "import os\n",
    "\n",
    "import rio_tiler\n",
    "import rasterstats\n",
    "import rasterio\n",
    "import rasterio.mask\n",
    "from rasterio.plot import show\n",
    "from shapely.geometry import mapping\n",
    "from rasterstats import zonal_stats\n",
    "import geopandas as gpd\n",
    "import pandas as pd\n",
    "import fiona\n",
    "from fiona.crs import from_epsg\n",
    "import matplotlib.pyplot as plt\n",
    "\n",
    "plt.rcParams['figure.figsize'] = [6, 6]"
   ]
  },
  {
   "cell_type": "markdown",
   "id": "123f7ef3",
   "metadata": {},
   "source": [
    "### Read in vector file of polygon zones and boreal tiles\n",
    "* get the tiles intersecting zones of interest"
   ]
  },
  {
   "cell_type": "code",
   "execution_count": 3,
   "id": "4cf63fdb",
   "metadata": {},
   "outputs": [
    {
     "name": "stdout",
     "output_type": "stream",
     "text": [
      "0.10.0\n",
      "3.1.2\n"
     ]
    }
   ],
   "source": [
    "# For geopandas sjoin, need v0.10.0+\n",
    "print(gpd.__version__)\n",
    "# Need rio_tiler >3.0\n",
    "print(rio_tiler.__version__)"
   ]
  },
  {
   "cell_type": "code",
   "execution_count": 75,
   "id": "717eba48",
   "metadata": {},
   "outputs": [
    {
     "data": {
      "text/html": [
       "<div>\n",
       "<style scoped>\n",
       "    .dataframe tbody tr th:only-of-type {\n",
       "        vertical-align: middle;\n",
       "    }\n",
       "\n",
       "    .dataframe tbody tr th {\n",
       "        vertical-align: top;\n",
       "    }\n",
       "\n",
       "    .dataframe thead th {\n",
       "        text-align: right;\n",
       "    }\n",
       "</style>\n",
       "<table border=\"1\" class=\"dataframe\">\n",
       "  <thead>\n",
       "    <tr style=\"text-align: right;\">\n",
       "      <th></th>\n",
       "      <th>OBJECTID</th>\n",
       "      <th>Region</th>\n",
       "      <th>Shape_Leng</th>\n",
       "      <th>Shape_Area</th>\n",
       "      <th>geometry</th>\n",
       "      <th>area_sq_km</th>\n",
       "    </tr>\n",
       "  </thead>\n",
       "  <tbody>\n",
       "    <tr>\n",
       "      <th>1</th>\n",
       "      <td>2</td>\n",
       "      <td>Core Region</td>\n",
       "      <td>2.918602e+07</td>\n",
       "      <td>4.089344e+12</td>\n",
       "      <td>MULTIPOLYGON (((-516903.997 3046012.468, -5182...</td>\n",
       "      <td>4.089344e+06</td>\n",
       "    </tr>\n",
       "    <tr>\n",
       "      <th>0</th>\n",
       "      <td>1</td>\n",
       "      <td>Extended Region</td>\n",
       "      <td>4.184674e+07</td>\n",
       "      <td>2.259954e+12</td>\n",
       "      <td>MULTIPOLYGON (((128142.996 2085540.487, 128130...</td>\n",
       "      <td>2.259954e+06</td>\n",
       "    </tr>\n",
       "  </tbody>\n",
       "</table>\n",
       "</div>"
      ],
      "text/plain": [
       "   OBJECTID           Region    Shape_Leng    Shape_Area  \\\n",
       "1         2      Core Region  2.918602e+07  4.089344e+12   \n",
       "0         1  Extended Region  4.184674e+07  2.259954e+12   \n",
       "\n",
       "                                            geometry    area_sq_km  \n",
       "1  MULTIPOLYGON (((-516903.997 3046012.468, -5182...  4.089344e+06  \n",
       "0  MULTIPOLYGON (((128142.996 2085540.487, 128130...  2.259954e+06  "
      ]
     },
     "execution_count": 75,
     "metadata": {},
     "output_type": "execute_result"
    }
   ],
   "source": [
    "above_domain_gdf"
   ]
  },
  {
   "cell_type": "markdown",
   "id": "c834ce9d",
   "metadata": {},
   "source": [
    "### Get boreal tiles intersecting the ABoVE domain"
   ]
  },
  {
   "cell_type": "code",
   "execution_count": 88,
   "id": "47a2c82b",
   "metadata": {},
   "outputs": [
    {
     "name": "stdout",
     "output_type": "stream",
     "text": [
      "CPU times: user 11.2 s, sys: 172 ms, total: 11.4 s\n",
      "Wall time: 13.5 s\n"
     ]
    },
    {
     "data": {
      "text/plain": [
       "<matplotlib.axes._subplots.AxesSubplot at 0x7fcf09189ad0>"
      ]
     },
     "execution_count": 88,
     "metadata": {},
     "output_type": "execute_result"
    },
    {
     "data": {
      "image/png": "[encoded data removed]",
      "text/plain": [
       "<Figure size 432x432 with 1 Axes>"
      ]
     },
     "metadata": {
      "needs_background": "light"
     },
     "output_type": "display_data"
    }
   ],
   "source": [
    "%%time\n",
    "# Get the shp filename\n",
    "# shp_fn = '/att/gpfsfs/briskfs01/ppl/pmontesa/userfs02/arc/bioclimate_dd.shp'\n",
    "# shp_fn = '/att/gpfsfs/briskfs01/ppl/pmontesa/userfs02/data/hydrobasins/hybas_lev03_clip_above.gpkg'\n",
    "# shp_fn = '/projects/my-public-bucket/misc_files/hybas_lake_ar_lev08_v1c.shp'\n",
    "# shp_fn = '/projects/my-public-bucket/misc_files/wwf_terr_ecos.shp'\n",
    "#shp_fn = '/projects/my-public-bucket/LVIS_ABoVE_spatial_footprints_2017_2019.gpkg'\n",
    "\n",
    "# Reading in zones of interest\n",
    "above_domain_fn = '/projects/shared-buckets/lduncanson/data/above/ABoVE_Study_Domain.shp'\n",
    "above_domain_gdf = gpd.read_file(above_domain_fn)#.cx[-180:-150, 50:75]\n",
    "above_domain_gdf['area_sq_km'] = above_domain_gdf.area / 1e6\n",
    "above_domain_gdf.sort_values(by = 'area_sq_km', ascending=False, inplace=True)\n",
    "above_crs = above_domain_gdf.crs\n",
    "\n",
    "ax = above_domain_gdf.plot(column='Region')\n",
    "\n",
    "# Reading in boreal tiles\n",
    "boreal_tiles_fn = '/projects/shared-buckets/nathanmthomas/boreal_tiles_v003.gpkg'\n",
    "boreal_tiles = gpd.read_file(boreal_tiles_fn).to_crs(above_crs)\n",
    "\n",
    "# Join or intersection\n",
    "if False:\n",
    "    # we want the boreal tiles that intersect the above domain...\n",
    "    boreal_tiles_above = boreal_tiles.sjoin(above_domain_gdf, how='left', predicate='overlaps')\n",
    "else:\n",
    "    # What i actually want is a selection based on an intersection\n",
    "    #boreal_tiles_above = boreal_tiles_above[boreal_tiles_above.tile_num.isin(boreal_tiles.geometry.intersects(above_domain_gdf.geometry).tile_num.to_list())]\n",
    "    \n",
    "    selector1 = boreal_tiles.intersects(above_domain_gdf.iloc[0].geometry)\n",
    "    selector2 = boreal_tiles.intersects(above_domain_gdf.iloc[1].geometry)\n",
    "    #selector = boreal_tiles.overlay(above_domain_gdf, how='intersection')\n",
    "    #selector = boreal_tiles.overlay(above_domain_gdf, how='intersection')\n",
    "    boreal_tiles_above = boreal_tiles[(selector1) | (selector2)]\n",
    "    \n",
    "boreal_tiles_above.geometry.boundary.plot(color=None, edgecolor='k',linewidth = .25, ax=ax)\n"
   ]
  },
  {
   "cell_type": "markdown",
   "id": "79644607",
   "metadata": {},
   "source": [
    "## Build a VRT of the boreal biomass COGs\n",
    "* use tindex master json to create a list for gdal"
   ]
  },
  {
   "cell_type": "code",
   "execution_count": 58,
   "id": "de8ba6af",
   "metadata": {},
   "outputs": [],
   "source": [
    "indir = '/projects/shared-buckets/lduncanson/DPS_tile_lists'\n",
    "# a writable outdir\n",
    "outdir = '/projects/my-public-bucket/analyze_agb'"
   ]
  },
  {
   "cell_type": "code",
   "execution_count": 60,
   "id": "8e9f76e9",
   "metadata": {},
   "outputs": [
    {
     "data": {
      "text/plain": [
       "<matplotlib.axes._subplots.AxesSubplot at 0x7fcef8561050>"
      ]
     },
     "execution_count": 60,
     "metadata": {},
     "output_type": "execute_result"
    },
    {
     "data": {
      "image/png": "[encoded data removed]",
      "text/plain": [
       "<Figure size 432x432 with 1 Axes>"
      ]
     },
     "metadata": {
      "needs_background": "light"
     },
     "output_type": "display_data"
    }
   ],
   "source": [
    "plt.rcParams['figure.figsize'] = [6, 6]\n",
    "tile_json_fn = os.path.join(indir, \"AGB_tindex_master.json\")\n",
    "tiles = gpd.read_file(tile_json_fn)\n",
    "\n",
    "# North america subset\n",
    "tiles_na = tiles[tiles['tile_group'].str.contains(\"america\")]\n",
    "\n",
    "tiles_na.plot(column='tile_group', legend=True)\n"
   ]
  },
  {
   "cell_type": "markdown",
   "id": "3a1682cc",
   "metadata": {},
   "source": [
    "#### Use tiles selection to write a vrt list"
   ]
  },
  {
   "cell_type": "code",
   "execution_count": 61,
   "id": "b37acaf5",
   "metadata": {},
   "outputs": [],
   "source": [
    "# Write a vrt list\n",
    "vrt_list = os.path.join(outdir,\"AGB_tindex_na.txt\")\n",
    "\n",
    "with open(vrt_list, 'w') as f:\n",
    "    \n",
    "    for text in tiles_na.s3.tolist():\n",
    "        f.write(text.replace(\"s3:/\",\"/vsis3\") + '\\n')"
   ]
  },
  {
   "cell_type": "markdown",
   "id": "275a6e3f",
   "metadata": {},
   "source": [
    "#### Build VRT of AGB COGs"
   ]
  },
  {
   "cell_type": "code",
   "execution_count": 112,
   "id": "f66056b9",
   "metadata": {},
   "outputs": [
    {
     "name": "stdout",
     "output_type": "stream",
     "text": [
      "0...10...20...30...40...50...60...70...80...90...100 - done.\n",
      "\n",
      "real\t3m32.895s\n",
      "user\t0m3.827s\n",
      "sys\t0m0.506s\n"
     ]
    }
   ],
   "source": [
    "vrt_fn = vrt_list.replace('.txt','.vrt')\n",
    "\n",
    "#get the bbox as part of the gdalbuildvrt and define it, to save time calculating\n",
    "tiles_na.total_bounds.tolist()\n",
    "!time gdalbuildvrt -b 1 -te 458521 1503304 5408522 7623304 -input_file_list $vrt_list $vrt_fn"
   ]
  },
  {
   "cell_type": "code",
   "execution_count": 72,
   "id": "2be870ba",
   "metadata": {},
   "outputs": [
    {
     "data": {
      "text/plain": [
       "<matplotlib.axes._subplots.AxesSubplot at 0x7fcef86bb190>"
      ]
     },
     "execution_count": 72,
     "metadata": {},
     "output_type": "execute_result"
    },
    {
     "data": {
      "image/png": "[encoded data removed]",
      "text/plain": [
       "<Figure size 432x432 with 1 Axes>"
      ]
     },
     "metadata": {
      "needs_background": "light"
     },
     "output_type": "display_data"
    }
   ],
   "source": [
    "# Get a geojson feature for the zones\n",
    "#geopandas.GeoSeries([shapely_polygon]).to_json()\n",
    "#boreal_tiles.to_json()\n",
    "test_zone = boreal_tiles_above[boreal_tiles_above.tile_num == 1983]#\n",
    "#test_zone = boreal_tiles_above.iloc[0]\n",
    "boreal_tiles_above.head()\n",
    "test_zone.plot()"
   ]
  },
  {
   "cell_type": "markdown",
   "id": "1a91f4ee",
   "metadata": {},
   "source": [
    "### Use rasterstats to access and analyze VRT"
   ]
  },
  {
   "cell_type": "markdown",
   "id": "a0c55d59",
   "metadata": {},
   "source": [
    "#### Read VRT of AGB COGs with rasterio"
   ]
  },
  {
   "cell_type": "code",
   "execution_count": 117,
   "id": "2a76fa79",
   "metadata": {},
   "outputs": [
    {
     "name": "stdout",
     "output_type": "stream",
     "text": [
      "165000 204000\n",
      "PROJCS[\"unknown\",GEOGCS[\"NAD83\",DATUM[\"North_American_Datum_1983\",SPHEROID[\"GRS 1980\",6378137,298.257222101004,AUTHORITY[\"EPSG\",\"7019\"]],AUTHORITY[\"EPSG\",\"6269\"]],PRIMEM[\"Greenwich\",0],UNIT[\"degree\",0.0174532925199433,AUTHORITY[\"EPSG\",\"9122\"]],AUTHORITY[\"EPSG\",\"4269\"]],PROJECTION[\"Albers_Conic_Equal_Area\"],PARAMETER[\"latitude_of_center\",40],PARAMETER[\"longitude_of_center\",180],PARAMETER[\"standard_parallel_1\",50],PARAMETER[\"standard_parallel_2\",70],PARAMETER[\"false_easting\",0],PARAMETER[\"false_northing\",0],UNIT[\"metre\",1,AUTHORITY[\"EPSG\",\"9001\"]],AXIS[\"Easting\",EAST],AXIS[\"Northing\",NORTH]]\n",
      "(1,)\n"
     ]
    }
   ],
   "source": [
    "import rasterio.crs\n",
    "\n",
    "with rasterio.open(vrt_fn, mode='r') as src:\n",
    "    print(src.width, src.height)\n",
    "    print(src.crs)\n",
    "    print(src.indexes)\n",
    "    to_crs = src.crs"
   ]
  },
  {
   "cell_type": "code",
   "execution_count": 140,
   "id": "34a8d558",
   "metadata": {},
   "outputs": [
    {
     "data": {
      "text/html": [
       "<div>\n",
       "<style scoped>\n",
       "    .dataframe tbody tr th:only-of-type {\n",
       "        vertical-align: middle;\n",
       "    }\n",
       "\n",
       "    .dataframe tbody tr th {\n",
       "        vertical-align: top;\n",
       "    }\n",
       "\n",
       "    .dataframe thead th {\n",
       "        text-align: right;\n",
       "    }\n",
       "</style>\n",
       "<table border=\"1\" class=\"dataframe\">\n",
       "  <thead>\n",
       "    <tr style=\"text-align: right;\">\n",
       "      <th></th>\n",
       "      <th>tile_num</th>\n",
       "      <th>tile_version</th>\n",
       "      <th>tile_group</th>\n",
       "      <th>map_version</th>\n",
       "      <th>geometry</th>\n",
       "    </tr>\n",
       "  </thead>\n",
       "  <tbody>\n",
       "    <tr>\n",
       "      <th>1717</th>\n",
       "      <td>1718</td>\n",
       "      <td>version 1</td>\n",
       "      <td>north america east</td>\n",
       "      <td>None</td>\n",
       "      <td>POLYGON ((3878522.000 5103304.000, 3968522.000...</td>\n",
       "    </tr>\n",
       "    <tr>\n",
       "      <th>1718</th>\n",
       "      <td>1719</td>\n",
       "      <td>version 1</td>\n",
       "      <td>north america east</td>\n",
       "      <td>None</td>\n",
       "      <td>POLYGON ((3968522.000 5103304.000, 4058522.000...</td>\n",
       "    </tr>\n",
       "    <tr>\n",
       "      <th>1775</th>\n",
       "      <td>1776</td>\n",
       "      <td>version 1</td>\n",
       "      <td>north america centra</td>\n",
       "      <td>None</td>\n",
       "      <td>POLYGON ((3068522.000 5013304.000, 3158522.000...</td>\n",
       "    </tr>\n",
       "    <tr>\n",
       "      <th>1776</th>\n",
       "      <td>1777</td>\n",
       "      <td>version 1</td>\n",
       "      <td>north america centra</td>\n",
       "      <td>None</td>\n",
       "      <td>POLYGON ((3158522.000 5013304.000, 3248522.000...</td>\n",
       "    </tr>\n",
       "    <tr>\n",
       "      <th>1777</th>\n",
       "      <td>1778</td>\n",
       "      <td>version 1</td>\n",
       "      <td>north america centra</td>\n",
       "      <td>None</td>\n",
       "      <td>POLYGON ((3248522.000 5013304.000, 3338522.000...</td>\n",
       "    </tr>\n",
       "  </tbody>\n",
       "</table>\n",
       "</div>"
      ],
      "text/plain": [
       "      tile_num tile_version            tile_group map_version  \\\n",
       "1717      1718    version 1    north america east        None   \n",
       "1718      1719    version 1    north america east        None   \n",
       "1775      1776    version 1  north america centra        None   \n",
       "1776      1777    version 1  north america centra        None   \n",
       "1777      1778    version 1  north america centra        None   \n",
       "\n",
       "                                               geometry  \n",
       "1717  POLYGON ((3878522.000 5103304.000, 3968522.000...  \n",
       "1718  POLYGON ((3968522.000 5103304.000, 4058522.000...  \n",
       "1775  POLYGON ((3068522.000 5013304.000, 3158522.000...  \n",
       "1776  POLYGON ((3158522.000 5013304.000, 3248522.000...  \n",
       "1777  POLYGON ((3248522.000 5013304.000, 3338522.000...  "
      ]
     },
     "execution_count": 140,
     "metadata": {},
     "output_type": "execute_result"
    }
   ],
   "source": [
    "# Reproject the vector to the raster crs\n",
    "in_gdf = boreal_tiles_above.to_crs(to_crs)\n",
    "in_gdf.head()"
   ]
  },
  {
   "cell_type": "markdown",
   "id": "472b4c02",
   "metadata": {},
   "source": [
    "### Run zonal_stats and attach to output geodataframe"
   ]
  },
  {
   "cell_type": "code",
   "execution_count": null,
   "id": "fc37dbe1",
   "metadata": {},
   "outputs": [],
   "source": [
    "%%time\n",
    "if False:\n",
    "    # Use concat\n",
    "    out_gdf = pd.concat([ in_gdf.reset_index(drop=True),\n",
    "                pd.DataFrame(\n",
    "                    rasterstats.zonal_stats(\n",
    "                        vectors=in_gdf['geometry'], \n",
    "                        raster=vrt_fn, \n",
    "                        stats=['max','mean', 'median','std','min','sum','count']\n",
    "                    )\n",
    "                )],\n",
    "               axis=1)\n",
    "else:\n",
    "    # Use join\n",
    "    out_gdf = in_gdf.reset_index(drop=True).join(\n",
    "        pd.DataFrame(\n",
    "            rasterstats.zonal_stats(\n",
    "                vectors=in_gdf['geometry'], \n",
    "                raster=vrt_fn, \n",
    "                stats=['max','mean', 'median','std','min','sum','count']\n",
    "            )\n",
    "        )\n",
    "    )\n",
    "\n",
    "ax = out_gdf.plot('median', cmap='viridis', legend=True, vmin=0, vmax=250, ax=ax)\n",
    "print(ax)"
   ]
  },
  {
   "cell_type": "code",
   "execution_count": 139,
   "id": "72eb9ae0",
   "metadata": {},
   "outputs": [
    {
     "data": {
      "text/html": [
       "<div>\n",
       "<style scoped>\n",
       "    .dataframe tbody tr th:only-of-type {\n",
       "        vertical-align: middle;\n",
       "    }\n",
       "\n",
       "    .dataframe tbody tr th {\n",
       "        vertical-align: top;\n",
       "    }\n",
       "\n",
       "    .dataframe thead th {\n",
       "        text-align: right;\n",
       "    }\n",
       "</style>\n",
       "<table border=\"1\" class=\"dataframe\">\n",
       "  <thead>\n",
       "    <tr style=\"text-align: right;\">\n",
       "      <th></th>\n",
       "      <th>tile_num</th>\n",
       "      <th>tile_version</th>\n",
       "      <th>tile_group</th>\n",
       "      <th>map_version</th>\n",
       "      <th>geometry</th>\n",
       "      <th>min</th>\n",
       "      <th>max</th>\n",
       "      <th>mean</th>\n",
       "      <th>count</th>\n",
       "      <th>sum</th>\n",
       "      <th>std</th>\n",
       "      <th>median</th>\n",
       "    </tr>\n",
       "  </thead>\n",
       "  <tbody>\n",
       "    <tr>\n",
       "      <th>0</th>\n",
       "      <td>1718</td>\n",
       "      <td>version 1</td>\n",
       "      <td>north america east</td>\n",
       "      <td>None</td>\n",
       "      <td>POLYGON ((3878522.000 5103304.000, 3968522.000...</td>\n",
       "      <td>278.860107</td>\n",
       "      <td>24906.691406</td>\n",
       "      <td>1736.711145</td>\n",
       "      <td>942087</td>\n",
       "      <td>1.636133e+09</td>\n",
       "      <td>1238.213948</td>\n",
       "      <td>1528.915161</td>\n",
       "    </tr>\n",
       "    <tr>\n",
       "      <th>1</th>\n",
       "      <td>1719</td>\n",
       "      <td>version 1</td>\n",
       "      <td>north america east</td>\n",
       "      <td>None</td>\n",
       "      <td>POLYGON ((3968522.000 5103304.000, 4058522.000...</td>\n",
       "      <td>3.735876</td>\n",
       "      <td>456.653381</td>\n",
       "      <td>12.799246</td>\n",
       "      <td>7469838</td>\n",
       "      <td>9.560830e+07</td>\n",
       "      <td>9.430428</td>\n",
       "      <td>10.037302</td>\n",
       "    </tr>\n",
       "    <tr>\n",
       "      <th>2</th>\n",
       "      <td>1776</td>\n",
       "      <td>version 1</td>\n",
       "      <td>north america centra</td>\n",
       "      <td>None</td>\n",
       "      <td>POLYGON ((3068522.000 5013304.000, 3158522.000...</td>\n",
       "      <td>2.005335</td>\n",
       "      <td>539.550354</td>\n",
       "      <td>14.591599</td>\n",
       "      <td>7397942</td>\n",
       "      <td>1.079478e+08</td>\n",
       "      <td>11.484933</td>\n",
       "      <td>11.361522</td>\n",
       "    </tr>\n",
       "    <tr>\n",
       "      <th>3</th>\n",
       "      <td>1777</td>\n",
       "      <td>version 1</td>\n",
       "      <td>north america centra</td>\n",
       "      <td>None</td>\n",
       "      <td>POLYGON ((3158522.000 5013304.000, 3248522.000...</td>\n",
       "      <td>1.573152</td>\n",
       "      <td>413.717316</td>\n",
       "      <td>6.430181</td>\n",
       "      <td>7890035</td>\n",
       "      <td>5.073436e+07</td>\n",
       "      <td>5.302911</td>\n",
       "      <td>5.221301</td>\n",
       "    </tr>\n",
       "    <tr>\n",
       "      <th>4</th>\n",
       "      <td>1778</td>\n",
       "      <td>version 1</td>\n",
       "      <td>north america centra</td>\n",
       "      <td>None</td>\n",
       "      <td>POLYGON ((3248522.000 5013304.000, 3338522.000...</td>\n",
       "      <td>2.024702</td>\n",
       "      <td>235.060593</td>\n",
       "      <td>9.646900</td>\n",
       "      <td>5932156</td>\n",
       "      <td>5.722692e+07</td>\n",
       "      <td>6.598474</td>\n",
       "      <td>7.683988</td>\n",
       "    </tr>\n",
       "  </tbody>\n",
       "</table>\n",
       "</div>"
      ],
      "text/plain": [
       "   tile_num tile_version            tile_group map_version  \\\n",
       "0      1718    version 1    north america east        None   \n",
       "1      1719    version 1    north america east        None   \n",
       "2      1776    version 1  north america centra        None   \n",
       "3      1777    version 1  north america centra        None   \n",
       "4      1778    version 1  north america centra        None   \n",
       "\n",
       "                                            geometry         min  \\\n",
       "0  POLYGON ((3878522.000 5103304.000, 3968522.000...  278.860107   \n",
       "1  POLYGON ((3968522.000 5103304.000, 4058522.000...    3.735876   \n",
       "2  POLYGON ((3068522.000 5013304.000, 3158522.000...    2.005335   \n",
       "3  POLYGON ((3158522.000 5013304.000, 3248522.000...    1.573152   \n",
       "4  POLYGON ((3248522.000 5013304.000, 3338522.000...    2.024702   \n",
       "\n",
       "            max         mean    count           sum          std       median  \n",
       "0  24906.691406  1736.711145   942087  1.636133e+09  1238.213948  1528.915161  \n",
       "1    456.653381    12.799246  7469838  9.560830e+07     9.430428    10.037302  \n",
       "2    539.550354    14.591599  7397942  1.079478e+08    11.484933    11.361522  \n",
       "3    413.717316     6.430181  7890035  5.073436e+07     5.302911     5.221301  \n",
       "4    235.060593     9.646900  5932156  5.722692e+07     6.598474     7.683988  "
      ]
     },
     "execution_count": 139,
     "metadata": {},
     "output_type": "execute_result"
    }
   ],
   "source": [
    "out_gdf.head()"
   ]
  },
  {
   "cell_type": "code",
   "execution_count": 137,
   "id": "239e0f70",
   "metadata": {},
   "outputs": [
    {
     "data": {
      "text/plain": [
       "<matplotlib.axes._subplots.AxesSubplot at 0x7fcef35747d0>"
      ]
     },
     "execution_count": 137,
     "metadata": {},
     "output_type": "execute_result"
    },
    {
     "data": {
      "image/png": "[encoded data removed]",
      "text/plain": [
       "<Figure size 432x432 with 2 Axes>"
      ]
     },
     "metadata": {
      "needs_background": "light"
     },
     "output_type": "display_data"
    }
   ],
   "source": [
    "ax = boreal_tiles_above.geometry.boundary.plot(color=None, edgecolor='k',linewidth = .25)\n",
    "out_gdf.to_crs(boreal_tiles_above.crs).plot('median', cmap='viridis', legend=True, vmin=0, vmax=100, ax=ax)"
   ]
  },
  {
   "cell_type": "markdown",
   "id": "37cb0a97",
   "metadata": {},
   "source": [
    "### Using COGReader to access and analze VRT\n",
    "* select a test zone\n",
    "* read the VRT: https://cogeotiff.github.io/rio-tiler/advanced/feature/\n",
    "* get basic image stats: https://cogeotiff.github.io/rio-tiler/examples/Using-rio-tiler/\n",
    "* get zonal stats: https://cogeotiff.github.io/rio-tiler/advanced/zonal_stats/"
   ]
  },
  {
   "cell_type": "code",
   "execution_count": null,
   "id": "0517e05a",
   "metadata": {},
   "outputs": [],
   "source": [
    "from rio_tiler.io import COGReader\n",
    "from rio_tiler.models import ImageData"
   ]
  },
  {
   "cell_type": "markdown",
   "id": "66019628",
   "metadata": {},
   "source": [
    "Select a test zone"
   ]
  },
  {
   "cell_type": "markdown",
   "id": "497a3ae5",
   "metadata": {},
   "source": [
    "Read COG portion that intersects a feature"
   ]
  },
  {
   "cell_type": "code",
   "execution_count": null,
   "id": "f7aadacd",
   "metadata": {},
   "outputs": [],
   "source": [
    "with COGReader(vrt_fn) as cog:\n",
    "    # Read data for a given geojson polygon\n",
    "    z = cog.feature(test_zone.to_json())  # we limit the max_size to 1024"
   ]
  },
  {
   "cell_type": "markdown",
   "id": "fd2db02b",
   "metadata": {},
   "source": [
    "Test some basic image stats with COGReader"
   ]
  },
  {
   "cell_type": "code",
   "execution_count": null,
   "id": "484073d3",
   "metadata": {},
   "outputs": [],
   "source": [
    "with COGReader(vrt_fn) as cog:\n",
    "    meta = cog.statistics(max_size=256)\n",
    "\n",
    "    assert isinstance(meta, dict)\n",
    "    print(list(meta))\n",
    "    print(meta[\"1\"].dict())"
   ]
  },
  {
   "cell_type": "markdown",
   "id": "6b94d4be",
   "metadata": {},
   "source": [
    "### Enable Zonal Stats with COGReader"
   ]
  },
  {
   "cell_type": "code",
   "execution_count": 55,
   "id": "3c747022",
   "metadata": {},
   "outputs": [],
   "source": [
    "import attr\n",
    "from typing import Any, Union, Optional, List, Dict\n",
    "\n",
    "from rio_tiler import io\n",
    "from rio_tiler.utils import get_array_statistics\n",
    "from rio_tiler.models import BandStatistics\n",
    "\n",
    "from geojson_pydantic.features import Feature, FeatureCollection\n",
    "from geojson_pydantic.geometries import Polygon\n",
    "\n",
    "class COGReader(io.COGReader):\n",
    "    \"\"\"Custom COGReader with zonal_statistics method.\"\"\"\n",
    "\n",
    "    def zonal_statistics(\n",
    "            self,\n",
    "            geojson: Union[FeatureCollection, Feature],\n",
    "            categorical: bool = False,\n",
    "            categories: Optional[List[float]] = None,\n",
    "            percentiles: List[int] = [2, 98],\n",
    "            hist_options: Optional[Dict] = None,\n",
    "            max_size: int = None,\n",
    "            **kwargs: Any,\n",
    "        ) -> FeatureCollection:\n",
    "            \"\"\"Return statistics from GeoJSON features.\n",
    "\n",
    "            Args:\n",
    "                geojson (Feature or FeatureCollection): a GeoJSON Feature or FeatureCollection.\n",
    "                categorical (bool): treat input data as categorical data. Defaults to False.\n",
    "                categories (list of numbers, optional): list of categories to return value for.\n",
    "                percentiles (list of numbers, optional): list of percentile values to calculate. Defaults to `[2, 98]`.\n",
    "                hist_options (dict, optional): Options to forward to numpy.histogram function.\n",
    "                max_size (int, optional): Limit the size of the longest dimension of the dataset read, respecting bounds X/Y aspect ratio. Defaults to None.\n",
    "                kwargs (optional): Options to forward to `self.preview`.\n",
    "\n",
    "            Returns:\n",
    "                FeatureCollection\n",
    "\n",
    "            \"\"\"\n",
    "            kwargs = {**self._kwargs, **kwargs}\n",
    "\n",
    "            hist_options = hist_options or {}\n",
    "\n",
    "            # We transform the input Feature to a FeatureCollection\n",
    "            if not isinstance(geojson, FeatureCollection):\n",
    "                geojson = FeatureCollection(features=[geojson])\n",
    "\n",
    "            for feature in geojson:\n",
    "                # Get data overlapping with the feature (using COGReader.feature method)\n",
    "                data = self.feature(\n",
    "                    feature.dict(exclude_none=True),\n",
    "                    max_size=max_size,\n",
    "                    **kwargs,\n",
    "                )\n",
    "\n",
    "                # Get band statistics for the data\n",
    "                stats = get_array_statistics(\n",
    "                    data.as_masked(),\n",
    "                    categorical=categorical,\n",
    "                    categories=categories,\n",
    "                    percentiles=percentiles,\n",
    "                    **hist_options,\n",
    "                )\n",
    "\n",
    "                # Update input feature properties and add the statistics\n",
    "                feature.properties = feature.properties or {}\n",
    "                feature.properties.update(\n",
    "                    {\n",
    "                        \"statistics\": {\n",
    "                            f\"{data.band_names[ix]}\": BandStatistics(\n",
    "                                **stats[ix]\n",
    "                            )\n",
    "                            for ix in range(len(stats))\n",
    "                        }\n",
    "                    }\n",
    "                )\n",
    "\n",
    "            return geojson\n"
   ]
  },
  {
   "cell_type": "code",
   "execution_count": 53,
   "id": "70709f22",
   "metadata": {},
   "outputs": [
    {
     "name": "stdout",
     "output_type": "stream",
     "text": [
      "3.1.2\n"
     ]
    }
   ],
   "source": [
    "import rio_tiler\n",
    "print(rio_tiler.__version__)"
   ]
  },
  {
   "cell_type": "code",
   "execution_count": null,
   "id": "cc9b1fc5",
   "metadata": {},
   "outputs": [],
   "source": []
  },
  {
   "cell_type": "code",
   "execution_count": null,
   "id": "5a08ba9f",
   "metadata": {},
   "outputs": [],
   "source": []
  },
  {
   "cell_type": "code",
   "execution_count": null,
   "id": "0717801b",
   "metadata": {},
   "outputs": [],
   "source": []
  },
  {
   "cell_type": "markdown",
   "id": "ce146a19",
   "metadata": {},
   "source": [
    "# Test output from first clipping attempts"
   ]
  },
  {
   "cell_type": "code",
   "execution_count": 68,
   "id": "23117093",
   "metadata": {},
   "outputs": [],
   "source": [
    "def get_gdf_lists(input_gdf, zone_field_name, SHOW_CLIP=False):\n",
    "    '''\n",
    "    From the input gdf get:\n",
    "        geoms_list: the geoms (features) that you will use to clip\n",
    "        zone_name_list: the names of the geoms (features)\n",
    "    '''\n",
    "    geoms_list = []\n",
    "    zone_name_list = []\n",
    "\n",
    "    for idx in input_gdf.index:\n",
    "        #print(idx)\n",
    "        geom =  input_gdf.loc[idx].geometry\n",
    "        zonename =  input_gdf.loc[idx][zone_field_name]\n",
    "        print(zone_field_name, zonename)\n",
    "        if geom not in geoms_list:\n",
    "            if SHOW_CLIP:\n",
    "                gpd.GeoSeries(geom).plot()\n",
    "            geoms_list.append(geom)\n",
    "            zone_name_list.append(zonename)\n",
    "\n",
    "    print(f'# of indiv features: {len(geoms_list)}')\n",
    "    return [geoms_list, zone_name_list]\n",
    "\n",
    "def do_clip(r_fn, input_gdf, zone_field_name, indir, outdir, vector_fn, SHOW_CLIP = True):\n",
    "    \n",
    "    geoms_list, zone_name_list = get_gdf_lists(input_gdf, zone_field_name, SHOW_CLIP = False)\n",
    "    \n",
    "    feature_pass_list = []\n",
    "    feature_fail_list = []\n",
    "    no_raster_intersection_list = []\n",
    "\n",
    "    with rasterio.open(r_fn, \"r\") as r:\n",
    "\n",
    "        for idx, zone_name in enumerate(zone_name_list):\n",
    "            print(zone_name)\n",
    "            geom = geoms_list[idx]\n",
    "            \n",
    "            feature_gdf = None\n",
    "            try:\n",
    "                feature_gdf = gpd.GeoDataFrame({'name':zone_name, 'geometry':geom}, crs=from_epsg(4326)) #index=[0], \n",
    "                feature_gdf.plot()\n",
    "                # Reproject feature_gdf to raster crs\n",
    "                feature_gdf = feature_gdf.to_crs(r.crs)\n",
    "            except ValueError:\n",
    "                print(f\"Cant get geodataframe for feature {zone_name}\")\n",
    "                feature_fail_list.append(zone_name)\n",
    "                \n",
    "                continue\n",
    "\n",
    "            zone_name = f'{zone_name:03}'\n",
    "            out_r_fn = os.path.join(os.path.split(r_fn.replace(indir, outdir))[0] , os.path.split(r_fn)[1].replace(os.path.splitext(r_fn)[1], '_'+vector_fn+'_'+zone_name+'.tif'))\n",
    "\n",
    "            try:\n",
    "\n",
    "                out_image, out_transform = rasterio.mask.mask(dataset=r, shapes=feature_gdf.geometry, crop=True)\n",
    "\n",
    "                # Copy the metadata\n",
    "                out_meta = r.meta.copy()\n",
    "                out_meta.update({\"driver\": \"GTiff\",\n",
    "                         \"height\": out_image.shape[1],\n",
    "                         \"width\": out_image.shape[2],\n",
    "                         \"transform\": out_transform,\n",
    "                         \"crs\":r.crs.to_proj4()}\n",
    "                                 )\n",
    "                with rasterio.open(out_r_fn, \"w\", **out_meta) as out_r:\n",
    "                    out_r.write(out_image)\n",
    "\n",
    "                    print(\"Zone\", zone_name, \"clip of\",  os.path.split(r_fn)[1])\n",
    "                    print(\"Writing clipped subset to\", out_r_fn)\n",
    "                    feature_pass_list.append(zone_name)\n",
    "\n",
    "                    #show(out_r, cmap='viridis') # <-- this show() is not working here..need to read the raster in again?\n",
    "\n",
    "                # HERE IS WHERE WE CAN DO rasterstat's zonal_stats.\n",
    "                if SHOW_CLIP:\n",
    "                    show((rasterio.open(out_r_fn)), cmap='viridis')# <-- this show() works\n",
    "\n",
    "            except ValueError:\n",
    "                print(zone_name, \" has no intersection with\", os.path.split(r_fn)[1])\n",
    "                no_raster_intersection_list.append(zone_name)\n",
    "    print(f'# features that produced clips: {len(feature_pass_list)}')\n",
    "    print(f'# features that failed to produce geodataframes: {len(feature_fail_list)}')\n",
    "    print(f'# features that didnt have intersection with raster: {len(no_raster_intersection_list)}')"
   ]
  },
  {
   "cell_type": "code",
   "execution_count": 69,
   "id": "e33ddf9c",
   "metadata": {},
   "outputs": [
    {
     "name": "stdout",
     "output_type": "stream",
     "text": [
      "HYBAS_ID 8080000010\n",
      "HYBAS_ID 8089023840\n",
      "HYBAS_ID 8080000061\n",
      "HYBAS_ID 8080000062\n",
      "HYBAS_ID 8089051211\n",
      "# of indiv features: 5\n",
      "8080000010\n",
      "Cant get geodataframe for feature 8080000010\n",
      "8089023840\n",
      "Cant get geodataframe for feature 8089023840\n",
      "8080000061\n"
     ]
    },
    {
     "name": "stderr",
     "output_type": "stream",
     "text": [
      "/projects/.local/lib/python3.7/site-packages/pyproj/crs/crs.py:131: FutureWarning: '+init=<authority>:<code>' syntax is deprecated. '<authority>:<code>' is the preferred initialization method. When making the change, be mindful of axis order changes: https://pyproj4.github.io/pyproj/stable/gotchas.html#axis-order-changes-in-proj-6\n",
      "  in_crs_string = _prepare_from_proj_string(in_crs_string)\n"
     ]
    },
    {
     "name": "stdout",
     "output_type": "stream",
     "text": [
      "Zone 8080000061 clip of AGB_tindex.vrt\n",
      "Writing clipped subset to /projects/my-public-bucket/test_output/analyze_agb/AGB_tindex_hybas_lev08_8080000061.tif\n"
     ]
    },
    {
     "data": {
      "image/png": "[encoded data removed]",
      "text/plain": [
       "<Figure size 432x288 with 1 Axes>"
      ]
     },
     "metadata": {
      "needs_background": "light"
     },
     "output_type": "display_data"
    },
    {
     "name": "stdout",
     "output_type": "stream",
     "text": [
      "8080000062\n"
     ]
    },
    {
     "name": "stderr",
     "output_type": "stream",
     "text": [
      "/projects/.local/lib/python3.7/site-packages/pyproj/crs/crs.py:131: FutureWarning: '+init=<authority>:<code>' syntax is deprecated. '<authority>:<code>' is the preferred initialization method. When making the change, be mindful of axis order changes: https://pyproj4.github.io/pyproj/stable/gotchas.html#axis-order-changes-in-proj-6\n",
      "  in_crs_string = _prepare_from_proj_string(in_crs_string)\n"
     ]
    },
    {
     "name": "stdout",
     "output_type": "stream",
     "text": [
      "Zone 8080000062 clip of AGB_tindex.vrt\n",
      "Writing clipped subset to /projects/my-public-bucket/test_output/analyze_agb/AGB_tindex_hybas_lev08_8080000062.tif\n"
     ]
    },
    {
     "data": {
      "image/png": "[encoded data removed]",
      "text/plain": [
       "<Figure size 432x288 with 1 Axes>"
      ]
     },
     "metadata": {
      "needs_background": "light"
     },
     "output_type": "display_data"
    },
    {
     "name": "stdout",
     "output_type": "stream",
     "text": [
      "8089051211\n",
      "Cant get geodataframe for feature 8089051211\n",
      "# features that produced clips: 2\n",
      "# features that failed to produce geodataframes: 3\n",
      "# features that didnt have intersection with raster: 0\n"
     ]
    }
   ],
   "source": [
    "do_clip(r_fn, vector_gdf.head(), zone_field_name, indir, outdir, vector_file_name, SHOW_CLIP = True)"
   ]
  }
 ],
 "metadata": {
  "kernelspec": {
   "display_name": "Python 3 (ipykernel)",
   "language": "python",
   "name": "python3"
  },
  "language_info": {
   "codemirror_mode": {
    "name": "ipython",
    "version": 3
   },
   "file_extension": ".py",
   "mimetype": "text/x-python",
   "name": "python",
   "nbconvert_exporter": "python",
   "pygments_lexer": "ipython3",
   "version": "3.7.8"
  }
 },
 "nbformat": 4,
 "nbformat_minor": 5
}
