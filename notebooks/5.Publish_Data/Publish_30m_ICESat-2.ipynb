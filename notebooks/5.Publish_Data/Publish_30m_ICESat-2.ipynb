{
 "cells": [
  {
   "cell_type": "markdown",
   "metadata": {},
   "source": [
    "## Publish 30 m ICESat-2 Boreal Height Product to the MAAP"
   ]
  },
  {
   "cell_type": "code",
   "execution_count": 1,
   "metadata": {},
   "outputs": [],
   "source": [
    "# import the MAAP package\n",
    "from maap.maap import MAAP\n",
    "\n",
    "# import the os module\n",
    "import os\n",
    "\n",
    "# create MAAP class\n",
    "maap = MAAP()"
   ]
  },
  {
   "cell_type": "markdown",
   "metadata": {},
   "source": [
    "## Step 1: Get a list of all files to be published"
   ]
  },
  {
   "cell_type": "code",
   "execution_count": 4,
   "metadata": {},
   "outputs": [
    {
     "name": "stdout",
     "output_type": "stream",
     "text": [
      "['/projects/r2d2/dps_output/run_rebinning_ubuntu/master/2021/06/16/17/23/24/233828/ATL08_30m_20181014001049_02350102_003_01.h5']\n"
     ]
    }
   ],
   "source": [
    "#list the files\n",
    "import os, glob\n",
    "import shutil\n",
    "#try to submit a MAAP job on a single file\n",
    "#list of files from the 30m DPS output\n",
    "test_files = glob.glob(\"/projects/r2d2/dps_output/run_rebinning_ubuntu/master/2021/06/16/17/23/**/*.h5\", recursive=True)\n",
    "#all_files = glob.glob(\"/projects/r2d2/dps_output/run_rebinning_ubuntu/master/2021/06/**/*.h5\", recursive=True)\n",
    "print(test_files)"
   ]
  },
  {
   "cell_type": "markdown",
   "metadata": {},
   "source": [
    "## Step 2: Upload Files"
   ]
  },
  {
   "cell_type": "code",
   "execution_count": 5,
   "metadata": {},
   "outputs": [
    {
     "data": {
      "text/plain": [
       "'Upload file subdirectory: d07d5cc4-1f59-407b-a637-57edff028d2e (keep a record of this if you want to share these files with other users)'"
      ]
     },
     "execution_count": 5,
     "metadata": {},
     "output_type": "execute_result"
    }
   ],
   "source": [
    "maap.uploadFiles(test_files)"
   ]
  },
  {
   "cell_type": "code",
   "execution_count": null,
   "metadata": {},
   "outputs": [],
   "source": []
  }
 ],
 "metadata": {
  "kernelspec": {
   "display_name": "Python 3",
   "language": "python",
   "name": "python3"
  },
  "language_info": {
   "codemirror_mode": {
    "name": "ipython",
    "version": 3
   },
   "file_extension": ".py",
   "mimetype": "text/x-python",
   "name": "python",
   "nbconvert_exporter": "python",
   "pygments_lexer": "ipython3",
   "version": "3.7.4"
  }
 },
 "nbformat": 4,
 "nbformat_minor": 4
}
