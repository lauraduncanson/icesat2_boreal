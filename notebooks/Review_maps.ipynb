{
 "cells": [
  {
   "cell_type": "markdown",
   "id": "1bcb9fac",
   "metadata": {
    "tags": []
   },
   "source": [
    "# Circumpolar boreal forest structure maps\n",
    "+ Woody aboveground biomass density [Mg/ha] \n",
    "+ Vegetation height [m]\n",
    "\n",
    "#### Documentation\n",
    "+ map resolution: 30 m\n",
    "+ map year: 2020\n",
    "+ extent displayed: circumpolar boreal + misc regions further south\n",
    "+ produced as a set of 90 km square cloud-optimized geotiff (COG) map tiles brought together in a MosaicJSON file and mapped with TiTiler and Folium\n",
    "+ results derived from a combination of:\n",
    "  + empirical models linking plant-functional-type allometric models relating woody biomass density with vegetation height at spaceborne lidar observations\n",
    "  + boreal-wide and tile-level empirical models linking spaceborne lidar with other spaceborne covariates.\n",
    "+ built with `ground reference AGB`, `ICESat-2/ATL08 30m segments`, `Harmonized Landsat/Sentinel-2`, `Copernicus GLO30 DEM`, `ESA Worldcover 2020 v1.0`\n",
    "+ work performed as part of the `NASA Arctic/Boreal Vulnerability Experiment (ABoVE)` project\n",
    "+ GitHub repository: https://github.com/lauraduncanson/icesat2_boreal.git"
   ]
  },
  {
   "cell_type": "markdown",
   "id": "e0f2c558-64f9-40eb-bc76-8dc9e0896ef7",
   "metadata": {},
   "source": [
    "| Contributors | Role | Affiliation | \n",
    "| ---------------- | ---------------- | ---------------- |\n",
    "| Paul Montesano paul.m.montesano@nasa.gov |  Co-I | NASA Goddard Space Flight Center |\n",
    "| Laura Duncanson lduncans@umd.edu | PI |  Dept. Geographical Sciences, U. Maryland-College Park |\n",
    "| Nathan Thomas  |  Co-I | Edge Hill University |\n",
    "| Amy Neuenschwander | Co-I | U. Texas at Austin |\n",
    "| Eric Guenther |   | U. Texas at Austin |  \n",
    "| Alex Mandel    |    | DevelopmentSeed, Inc. |  \n",
    "| Ali Zarringhalam |   | Dept. Geographical Sciences, U. Maryland-College Park |\n",
    "| David Minor |   | Dept. Geographical Sciences, U. Maryland-College Park |"
   ]
  },
  {
   "cell_type": "code",
   "execution_count": 1,
   "id": "6dfbb190-0176-498d-ac5b-d989156bcf50",
   "metadata": {
    "tags": []
   },
   "outputs": [],
   "source": [
    "from maap.maap import MAAP\n",
    "maap = MAAP()"
   ]
  },
  {
   "cell_type": "code",
   "execution_count": 2,
   "id": "ca69b1ca",
   "metadata": {
    "scrolled": true,
    "tags": []
   },
   "outputs": [],
   "source": [
    "import geopandas\n",
    "import os\n",
    "import sys\n",
    "import importlib\n",
    "\n",
    "ICESAT2_BOREAL_LIB_PATH = '/projects/code/icesat2_boreal/lib'   \n",
    "sys.path.append(ICESAT2_BOREAL_LIB_PATH)\n",
    "import maplib_folium\n",
    "import mosaiclib\n",
    "from mosaiclib import *\n",
    "import tileslib"
   ]
  },
  {
   "cell_type": "markdown",
   "id": "c2ea0b24-bef5-4129-acc3-dcfbc740611d",
   "metadata": {},
   "source": [
    "# Map\n",
    "Note: zoom-in to display map tiles"
   ]
  },
  {
   "cell_type": "code",
   "execution_count": 3,
   "id": "6ae76d92-0f55-42b7-8060-dc5ccbe22e22",
   "metadata": {
    "tags": []
   },
   "outputs": [],
   "source": [
    "boreal_tiles = geopandas.read_file(boreal_tile_index_path)"
   ]
  },
  {
   "cell_type": "code",
   "execution_count": null,
   "id": "ed9fc4fb-decc-482c-aaed-db6a912bbbfb",
   "metadata": {
    "tags": []
   },
   "outputs": [],
   "source": [
    "maplib_folium.MAP_REGISTERED_DPS_RESULTS(\n",
    "                                boreal_tiles,\n",
    "                                None,\n",
    "                                CHECK_TILES_NAME=None,\n",
    "                                map_width=750, map_height=500, SHOW_WIDGETS=False,\n",
    "                                ADD_TILELAYER = [  \n",
    "                                                    tileslib.HT_TILE_LAYER_DICT['2020_v2.1'],\n",
    "                                                    tileslib.AGB_TILE_LAYER_DICT['2020_v2.1'],\n",
    "                                            ],\n",
    "                             )"
   ]
  }
 ],
 "metadata": {
  "kernelspec": {
   "display_name": "Python 3 (ipykernel)",
   "language": "python",
   "name": "python3"
  },
  "language_info": {
   "codemirror_mode": {
    "name": "ipython",
    "version": 3
   },
   "file_extension": ".py",
   "mimetype": "text/x-python",
   "name": "python",
   "nbconvert_exporter": "python",
   "pygments_lexer": "ipython3",
   "version": "3.10.13"
  }
 },
 "nbformat": 4,
 "nbformat_minor": 5
}
