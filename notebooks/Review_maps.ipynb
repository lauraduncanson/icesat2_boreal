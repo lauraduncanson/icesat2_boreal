{
 "cells": [
  {
   "cell_type": "markdown",
   "id": "1bcb9fac",
   "metadata": {
    "tags": []
   },
   "source": [
    "# Circumpolar boreal forest aboveground biomass & height maps\n",
    "### Review maps from the `NASA ABoVE Boreal Biomass Mapping` project\n",
    "* map resolution: 30 m \n",
    "* built with `ground reference AGB`, `ICESat-2/ATL08`, `Harmonized Landsat/Sentinel-2`, `Copernicus GLO30 DEM`\n",
    "* cloud-optimized geotiff (COG) tiles brought together in a MosaicJSON file and then mapped with TiTiler and Folium\n",
    "\n",
    "Paul Montesano, PhD | paul.m.montesano@nasa.gov   \n",
    "Laura Duncanson (PI), PhD | lduncans@umd.edu  \n",
    "Nathan Thomas, PhD  \n",
    "Amy Neuenschwander, PhD  \n",
    "Eric Guenther  \n",
    "Ali Zarringhalam, PhD  \n",
    "David Minor"
   ]
  },
  {
   "cell_type": "code",
   "execution_count": 1,
   "id": "ebef17f9-f687-4e7d-9c89-3e9a3068b6cb",
   "metadata": {
    "tags": []
   },
   "outputs": [],
   "source": [
    "# !pip install qrcode"
   ]
  },
  {
   "cell_type": "code",
   "execution_count": 2,
   "id": "93886d74-0267-4851-a0bd-b2cd5afc296c",
   "metadata": {
    "tags": []
   },
   "outputs": [],
   "source": [
    "# import qrcode\n",
    "# url = ''\n",
    "# qrcode.make(url)"
   ]
  },
  {
   "cell_type": "code",
   "execution_count": 1,
   "id": "6dfbb190-0176-498d-ac5b-d989156bcf50",
   "metadata": {
    "tags": []
   },
   "outputs": [],
   "source": [
    "from maap.maap import MAAP\n",
    "maap = MAAP()"
   ]
  },
  {
   "cell_type": "code",
   "execution_count": null,
   "id": "6138382f-c352-499d-b3f7-6623a06c98a1",
   "metadata": {},
   "outputs": [],
   "source": [
    "pip install cogeo_mosaic"
   ]
  },
  {
   "cell_type": "code",
   "execution_count": null,
   "id": "ca69b1ca",
   "metadata": {
    "tags": []
   },
   "outputs": [],
   "source": [
    "import geopandas\n",
    "import os\n",
    "import sys\n",
    "import importlib\n",
    "\n",
    "ICESAT2_BOREAL_LIB_PATH = '/projects/code/icesat2_boreal/lib'   \n",
    "sys.path.append(ICESAT2_BOREAL_LIB_PATH)\n",
    "import maplib_folium\n",
    "import mosaiclib\n",
    "from mosaiclib import *\n",
    "import tileslib"
   ]
  },
  {
   "cell_type": "markdown",
   "id": "c2ea0b24-bef5-4129-acc3-dcfbc740611d",
   "metadata": {},
   "source": [
    "# Map"
   ]
  },
  {
   "cell_type": "code",
   "execution_count": 8,
   "id": "6ae76d92-0f55-42b7-8060-dc5ccbe22e22",
   "metadata": {
    "tags": []
   },
   "outputs": [],
   "source": [
    "boreal_tiles = geopandas.read_file(boreal_tile_index_path)"
   ]
  },
  {
   "cell_type": "code",
   "execution_count": null,
   "id": "ed9fc4fb-decc-482c-aaed-db6a912bbbfb",
   "metadata": {
    "tags": []
   },
   "outputs": [],
   "source": [
    "maplib_folium.MAP_REGISTERED_DPS_RESULTS(\n",
    "                                boreal_tiles,\n",
    "                                tile_index_check=boreal_tiles[boreal_tiles.tile_num.isin([1613])],\n",
    "                                CHECK_TILES_NAME='Check',\n",
    "                                map_width=750, map_height=500, SHOW_WIDGETS=False,\n",
    "                                ADD_TILELAYER = [  \n",
    "                                                    #tileslib.S1_2019summer_TILES_LAYER_DICT,\n",
    "                                                    tileslib.S1_2020summer_TILES_LAYER_DICT,\n",
    "                                                    tileslib.HT_2020_TILE_LAYER_DICT,\n",
    "                                                    tileslib.AGB_2020_TILE_LAYER_DICT,\n",
    "                                                    tileslib.HLS_NDVI_TILES_LAYER_DICT['2020'],\n",
    "                                                    tileslib.HLS_NBR2_TILES_LAYER_DICT['2020'],\n",
    "                                                    #tileslib.LC_TILES_LAYER_DICT,\n",
    "                                                    #tileslib.TOPO_TILES_LAYER_DICT\n",
    "                                            ]\n",
    "                             )"
   ]
  },
  {
   "cell_type": "code",
   "execution_count": null,
   "id": "0d85d41a-b1c8-41c2-af92-e2c6d28ee2d9",
   "metadata": {},
   "outputs": [],
   "source": []
  }
 ],
 "metadata": {
  "kernelspec": {
   "display_name": "Python 3 (ipykernel)",
   "language": "python",
   "name": "python3"
  },
  "language_info": {
   "codemirror_mode": {
    "name": "ipython",
    "version": 3
   },
   "file_extension": ".py",
   "mimetype": "text/x-python",
   "name": "python",
   "nbconvert_exporter": "python",
   "pygments_lexer": "ipython3",
   "version": "3.10.13"
  }
 },
 "nbformat": 4,
 "nbformat_minor": 5
}
