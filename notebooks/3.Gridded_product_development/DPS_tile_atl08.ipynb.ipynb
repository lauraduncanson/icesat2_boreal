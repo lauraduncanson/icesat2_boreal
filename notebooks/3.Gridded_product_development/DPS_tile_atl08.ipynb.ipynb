{
 "cells": [
  {
   "cell_type": "code",
   "execution_count": 1,
   "id": "a8387c0d",
   "metadata": {},
   "outputs": [],
   "source": [
    "from maap.maap import MAAP\n",
    "maap = MAAP(maap_host='api.ops.maap-project.org')"
   ]
  },
  {
   "cell_type": "markdown",
   "id": "a25e0c65",
   "metadata": {},
   "source": [
    "# Launch DPS for tile_atl08.py"
   ]
  },
  {
   "cell_type": "code",
   "execution_count": 2,
   "id": "f94cec3e",
   "metadata": {},
   "outputs": [
    {
     "name": "stderr",
     "output_type": "stream",
     "text": [
      "/opt/conda/lib/python3.7/site-packages/geopandas/_compat.py:110: UserWarning: The Shapely GEOS version (3.8.0-CAPI-1.13.1 ) is incompatible with the GEOS version PyGEOS was compiled with (3.10.1-CAPI-1.16.0). Conversions between both will be slow.\n",
      "  shapely_geos_version, geos_capi_version_string\n"
     ]
    },
    {
     "name": "stdout",
     "output_type": "stream",
     "text": [
      "Collecting xmltodict\n",
      "  Using cached xmltodict-0.12.0-py2.py3-none-any.whl (9.2 kB)\n",
      "Installing collected packages: xmltodict\n",
      "Successfully installed xmltodict-0.12.0\n",
      "\u001b[33mWARNING: Running pip as the 'root' user can result in broken permissions and conflicting behaviour with the system package manager. It is recommended to use a virtual environment instead: https://pip.pypa.io/warnings/venv\u001b[0m\u001b[33m\n",
      "\u001b[0m\u001b[33mWARNING: You are using pip version 22.0.3; however, version 22.0.4 is available.\n",
      "You should consider upgrading via the '/opt/conda/bin/python3.7 -m pip install --upgrade pip' command.\u001b[0m\u001b[33m\n",
      "\u001b[0m"
     ]
    }
   ],
   "source": [
    "import os\n",
    "import geopandas\n",
    "import pandas as pd\n",
    "import glob\n",
    "import datetime\n",
    "!pip install xmltodict\n",
    "import xmltodict\n",
    "import sys\n",
    "sys.path.append('/projects/Developer/icesat2_boreal/lib')\n",
    "import ExtractUtils"
   ]
  },
  {
   "cell_type": "code",
   "execution_count": 95,
   "id": "57cef4c1",
   "metadata": {},
   "outputs": [
    {
     "name": "stdout",
     "output_type": "stream",
     "text": [
      "/opt/conda/lib/python3.7/site-packages/geopandas/_compat.py:110: UserWarning: The Shapely GEOS version (3.8.0-CAPI-1.13.1 ) is incompatible with the GEOS version PyGEOS was compiled with (3.10.1-CAPI-1.16.0). Conversions between both will be slow.\n",
      "  shapely_geos_version, geos_capi_version_string\n",
      "\n",
      "Building a list of tiles:\n",
      "MAAP version:\t\tmaster\n",
      "Type:\t\tATL08_filt\n",
      "Year:\t\t2022\n",
      "Month:\t\t['04']\n",
      "Days:\t\t1-31\n",
      "\n",
      "Output dir:  /projects/my-public-bucket/DPS_tile_lists\n",
      "                                             s3_path  ...                                               file\n",
      "0  s3://maap-ops-workspace/lduncanson/dps_output/...  ...  atl08_005_30m_filt_topo_landsat_20220401_0130.csv\n",
      "2  s3://maap-ops-workspace/lduncanson/dps_output/...  ...  atl08_005_30m_filt_topo_landsat_20220401_0094.csv\n",
      "4  s3://maap-ops-workspace/lduncanson/dps_output/...  ...  atl08_005_30m_filt_topo_landsat_20220401_0027.csv\n",
      "6  s3://maap-ops-workspace/lduncanson/dps_output/...  ...  atl08_005_30m_filt_topo_landsat_20220401_0201.csv\n",
      "8  s3://maap-ops-workspace/lduncanson/dps_output/...  ...  atl08_005_30m_filt_topo_landsat_20220401_0250.csv\n",
      "\n",
      "[5 rows x 3 columns]\n",
      "\n",
      "No duplicates found.\n",
      "\n",
      "# of duplicate tiles: 0\n",
      "Final # of tiles: 12\n",
      "df shape :                                               s3_path  ... n_obs\n",
      "22  s3://maap-ops-workspace/lduncanson/dps_output/...  ...  1904\n",
      "20  s3://maap-ops-workspace/lduncanson/dps_output/...  ...   174\n",
      "18  s3://maap-ops-workspace/lduncanson/dps_output/...  ...  7407\n",
      "16  s3://maap-ops-workspace/lduncanson/dps_output/...  ...  8252\n",
      "14  s3://maap-ops-workspace/lduncanson/dps_output/...  ...  6678\n",
      "\n",
      "[5 rows x 5 columns]\n",
      "Writing tindex master csv: /projects/my-public-bucket/DPS_tile_lists/ATL08_filt_tindex_master.csv\n"
     ]
    }
   ],
   "source": [
    "%time\n",
    "!python /projects/Developer/icesat2_boreal/lib/build_tindex_master.py -t ATL08_filt -y 2022 --dps_month_list 04"
   ]
  },
  {
   "cell_type": "markdown",
   "id": "44327292",
   "metadata": {},
   "source": [
    "#### Set the names of the data frames to create"
   ]
  },
  {
   "cell_type": "code",
   "execution_count": 3,
   "id": "30f8127e",
   "metadata": {},
   "outputs": [],
   "source": [
    "# Topo and Landsat tindex_master csvs from build_tindex_master.py\n",
    "topo_tindex_fn    = \"/projects/my-public-bucket/DPS_tile_lists/Topo_tindex_master.csv\"\n",
    "#landsat_tindex_fn = \"/projects/my-public-bucket/DPS_tile_lists/Landsat_tindex_master.csv\"\n",
    "HLS_tindex_fn     = \"/projects/my-public-bucket/DPS_tile_lists/HLS_tindex_master.csv\"\n",
    "\n",
    "topo_df = pd.read_csv(topo_tindex_fn)\n",
    "hls_df = pd.read_csv(HLS_tindex_fn)"
   ]
  },
  {
   "cell_type": "code",
   "execution_count": 4,
   "id": "0eba3849",
   "metadata": {},
   "outputs": [
    {
     "data": {
      "text/plain": [
       "'https://s3.console.aws.amazon.com/s3/buckets/maap-ops-workspace/nathanmthomas/dps_output/do_topo_stack_3-1-5_ubuntu/ops/2021/07/23/23/32/27/934649/Copernicus_3457_covars_cog_topo_stack.tif'"
      ]
     },
     "execution_count": 4,
     "metadata": {},
     "output_type": "execute_result"
    }
   ],
   "source": [
    "\n",
    "topo_df = pd.read_csv(topo_tindex_fn)\n",
    "topo_df[topo_df.tile_num == 3457].local_path.tolist()[0].replace('/projects/my-private-bucket', 'https://s3.console.aws.amazon.com/s3/buckets/maap-ops-workspace/nathanmthomas')\n"
   ]
  },
  {
   "cell_type": "markdown",
   "id": "4ecec1cc",
   "metadata": {},
   "source": [
    "## Get tile ids for which both Topo and HLS stacks exist\n",
    "* join on tile_num"
   ]
  },
  {
   "cell_type": "code",
   "execution_count": 5,
   "id": "fa66bca2",
   "metadata": {},
   "outputs": [
    {
     "name": "stdout",
     "output_type": "stream",
     "text": [
      "Total # tiles ready for tile_atl08.py :\t5178\n"
     ]
    },
    {
     "data": {
      "text/html": [
       "<div>\n",
       "<style scoped>\n",
       "    .dataframe tbody tr th:only-of-type {\n",
       "        vertical-align: middle;\n",
       "    }\n",
       "\n",
       "    .dataframe tbody tr th {\n",
       "        vertical-align: top;\n",
       "    }\n",
       "\n",
       "    .dataframe thead th {\n",
       "        text-align: right;\n",
       "    }\n",
       "</style>\n",
       "<table border=\"1\" class=\"dataframe\">\n",
       "  <thead>\n",
       "    <tr style=\"text-align: right;\">\n",
       "      <th></th>\n",
       "      <th>tile_num</th>\n",
       "      <th>local_path_hls</th>\n",
       "      <th>local_path_topo</th>\n",
       "    </tr>\n",
       "  </thead>\n",
       "  <tbody>\n",
       "    <tr>\n",
       "      <th>0</th>\n",
       "      <td>4441</td>\n",
       "      <td>/projects/my-private-bucket/dps_output/do_HLS_...</td>\n",
       "      <td>/projects/my-private-bucket/dps_output/do_topo...</td>\n",
       "    </tr>\n",
       "    <tr>\n",
       "      <th>1</th>\n",
       "      <td>4476</td>\n",
       "      <td>/projects/my-private-bucket/dps_output/do_HLS_...</td>\n",
       "      <td>/projects/my-private-bucket/dps_output/do_topo...</td>\n",
       "    </tr>\n",
       "    <tr>\n",
       "      <th>2</th>\n",
       "      <td>38433</td>\n",
       "      <td>/projects/my-private-bucket/dps_output/do_HLS_...</td>\n",
       "      <td>/projects/my-private-bucket/dps_output/do_topo...</td>\n",
       "    </tr>\n",
       "    <tr>\n",
       "      <th>3</th>\n",
       "      <td>3189</td>\n",
       "      <td>/projects/my-private-bucket/dps_output/do_HLS_...</td>\n",
       "      <td>/projects/my-private-bucket/dps_output/do_topo...</td>\n",
       "    </tr>\n",
       "    <tr>\n",
       "      <th>4</th>\n",
       "      <td>4536</td>\n",
       "      <td>/projects/my-private-bucket/dps_output/do_HLS_...</td>\n",
       "      <td>/projects/my-private-bucket/dps_output/do_topo...</td>\n",
       "    </tr>\n",
       "  </tbody>\n",
       "</table>\n",
       "</div>"
      ],
      "text/plain": [
       "   tile_num                                     local_path_hls  \\\n",
       "0      4441  /projects/my-private-bucket/dps_output/do_HLS_...   \n",
       "1      4476  /projects/my-private-bucket/dps_output/do_HLS_...   \n",
       "2     38433  /projects/my-private-bucket/dps_output/do_HLS_...   \n",
       "3      3189  /projects/my-private-bucket/dps_output/do_HLS_...   \n",
       "4      4536  /projects/my-private-bucket/dps_output/do_HLS_...   \n",
       "\n",
       "                                     local_path_topo  \n",
       "0  /projects/my-private-bucket/dps_output/do_topo...  \n",
       "1  /projects/my-private-bucket/dps_output/do_topo...  \n",
       "2  /projects/my-private-bucket/dps_output/do_topo...  \n",
       "3  /projects/my-private-bucket/dps_output/do_topo...  \n",
       "4  /projects/my-private-bucket/dps_output/do_topo...  "
      ]
     },
     "execution_count": 5,
     "metadata": {},
     "output_type": "execute_result"
    }
   ],
   "source": [
    "model_ready_tiles_fn = \"s3://maap-ops-workspace/shared/nathanmthomas/DPS_tile_lists/model_ready_tiles.csv\"\n",
    "model_ready_tiles = hls_df[['tile_num','local_path']].join(topo_df[['tile_num','local_path']].set_index('tile_num'), how='inner', on='tile_num',lsuffix='_hls',rsuffix='_topo')\n",
    "model_ready_tiles.to_csv(model_ready_tiles_fn)\n",
    "if False:\n",
    "    # Check some\n",
    "    IDX = 4000\n",
    "    print( model_ready_tiles.local_path_hls.to_list()[IDX])\n",
    "    print( model_ready_tiles.local_path_topo.to_list()[IDX])\n",
    "\n",
    "INPUT_TILE_NUM_LIST = model_ready_tiles.tile_num.to_list()\n",
    "print(f'Total # tiles ready for tile_atl08.py :\\t{len(INPUT_TILE_NUM_LIST)}')\n",
    "model_ready_tiles.head()"
   ]
  },
  {
   "cell_type": "code",
   "execution_count": 6,
   "id": "8104a5f0",
   "metadata": {},
   "outputs": [
    {
     "name": "stdout",
     "output_type": "stream",
     "text": [
      "                      count\n",
      "tile_group                 \n",
      "alaska extra             20\n",
      "canada extra             49\n",
      "conus extra              98\n",
      "eurasia central        1169\n",
      "eurasia east           1098\n",
      "eurasia north           159\n",
      "eurasia west            612\n",
      "europe north            358\n",
      "fennoscand south         26\n",
      "north america centra    714\n",
      "north america east      494\n",
      "north america west      470\n",
      "uk                       70\n",
      "Tile status report for ATL08_filt from s3://maap-ops-workspace/shared/nathanmthomas/DPS_tile_lists/ATL08_filt_tindex_master.csv:\n",
      "\t# of boreal tiles in boreal v003:\t\t\t5337\n",
      "\t# of boreal tiles in water:\t\t\t\t0\n",
      "\t# of boreal tiles used study (from Topo coverage):\t5337\n",
      "\t# of boreal tiles with ATL08_filt:\t\t\t\t4276\n",
      "\t# of boreal tiles still needing ATL08_filt from all:\t1061\n"
     ]
    },
    {
     "data": {
      "image/png": "[encoded data removed]",
      "text/plain": [
       "<Figure size 1152x1152 with 1 Axes>"
      ]
     },
     "metadata": {
      "needs_background": "light"
     },
     "output_type": "display_data"
    }
   ],
   "source": [
    "TILE_ATL08_TILES_NEEDED = ExtractUtils.GET_TILES_NEEDED(DPS_DATA_TYPE = 'ATL08_filt',  tindex_master_fn = 's3://maap-ops-workspace/shared/nathanmthomas/DPS_tile_lists/ATL08_filt_tindex_master.csv', boreal_tile_index_path = '/projects/my-public-bucket/boreal_tiles_v003.gpkg')"
   ]
  },
  {
   "cell_type": "markdown",
   "id": "1836b5b7",
   "metadata": {},
   "source": [
    "#### Tiles needed (red)\n",
    "* tiles below 45N wont process b/c extraction of ATL08 was done with min lat = 45N"
   ]
  },
  {
   "cell_type": "code",
   "execution_count": 15,
   "id": "4900e81f",
   "metadata": {},
   "outputs": [
    {
     "name": "stdout",
     "output_type": "stream",
     "text": [
      "1061\n"
     ]
    },
    {
     "name": "stderr",
     "output_type": "stream",
     "text": [
      "/opt/conda/lib/python3.7/site-packages/ipykernel_launcher.py:5: UserWarning: Geometry is in a geographic CRS. Results from 'centroid' are likely incorrect. Use 'GeoSeries.to_crs()' to re-project geometries to a projected CRS before this operation.\n",
      "\n",
      "  \"\"\"\n"
     ]
    },
    {
     "data": {
      "text/plain": [
       "<matplotlib.axes._subplots.AxesSubplot at 0x7fed3c0e8990>"
      ]
     },
     "execution_count": 15,
     "metadata": {},
     "output_type": "execute_result"
    },
    {
     "data": {
      "image/png": "[encoded data removed]",
      "text/plain": [
       "<Figure size 1152x1152 with 1 Axes>"
      ]
     },
     "metadata": {
      "needs_background": "light"
     },
     "output_type": "display_data"
    }
   ],
   "source": [
    "print(len(TILE_ATL08_TILES_NEEDED))\n",
    "boreal_tile_index_path = '/projects/my-public-bucket/old_boreal_tiles/boreal_tiles_v003_old.gpkg'\n",
    "boreal_tile_index = geopandas.read_file(boreal_tile_index_path)\n",
    "ax=boreal_tile_index.boundary.plot()\n",
    "boreal_tile_index_above45 = boreal_tile_index[(boreal_tile_index.tile_num.isin(TILE_ATL08_TILES_NEEDED)) & (boreal_tile_index.to_crs(4326).geometry.centroid.y > 45)]\n",
    "boreal_tile_index_above45.plot(color='red', ax=ax)"
   ]
  },
  {
   "cell_type": "code",
   "execution_count": 19,
   "id": "ffa58c26",
   "metadata": {},
   "outputs": [
    {
     "data": {
      "text/plain": [
       "741"
      ]
     },
     "execution_count": 19,
     "metadata": {},
     "output_type": "execute_result"
    }
   ],
   "source": [
    "TILE_ATL08_TILES_NEEDED_above45 = boreal_tile_index_above45.tile_num.to_list()\n",
    "\n",
    "INPUT_TILE_NUM_LIST = TILE_ATL08_TILES_NEEDED_above45\n",
    "len(INPUT_TILE_NUM_LIST)"
   ]
  },
  {
   "cell_type": "markdown",
   "id": "0c89efff",
   "metadata": {},
   "source": [
    "##### Test: get a subset of tile ids for test tiles (Norway and others in NA)"
   ]
  },
  {
   "cell_type": "code",
   "execution_count": 20,
   "id": "7d5f3671",
   "metadata": {},
   "outputs": [],
   "source": [
    "DO_EXPERIMENT = False\n",
    "\n",
    "if DO_EXPERIMENT:\n",
    "    NORWAY_TILE_LIST = pd.read_csv('/projects/shared-buckets/lduncanson/misc_files/norway_tiles.csv').layer.tolist()\n",
    "\n",
    "    DELTA_TILE_LIST = [3365,3366,3367,3458,3459,3460,3353,3354,3355] + [3361, 3362]\n",
    "    BONA_TILE_LIST  = [3270,3271,3272, 3456,3457,  3363,3364,3365] + [3268, 3269]\n",
    "    HEALY_TILE_LIST = [ 3551,3552,3553,3645,3646,3647] + [3648, 3649, 3555, 3554]\n",
    "\n",
    "    #DELTA_TILE_LIST = [3365,3366,3367,3458,3460,3353,3354,3355,3549]\n",
    "    #BONA_TILE_LIST  = [3270,3271,3272,3364,3456,3457,3458,3364,3365]\n",
    "    #HEALY_TILE_LIST = [3456,3457,3458,3551,3552, 3553,3645,3646,3647]\n",
    "    INPUT_EXPERIMENT_TILE_NUM_LIST = NORWAY_TILE_LIST + DELTA_TILE_LIST + BONA_TILE_LIST + HEALY_TILE_LIST\n",
    "    ALASKA_TILE_LIST =  list(range(3268,3272+1))+\\\n",
    "                        list(range(3361,3366+1))+\\\n",
    "                        list(range(3454,3459+1))+\\\n",
    "                        list(range(3549,3555+1))+\\\n",
    "                        list(range(3643,3648+1))\n",
    "\n",
    "    INPUT_EXPERIMENT_TILE_NUM_LIST = NORWAY_TILE_LIST + ALASKA_TILE_LIST\n",
    "    len(INPUT_EXPERIMENT_TILE_NUM_LIST)"
   ]
  },
  {
   "cell_type": "markdown",
   "id": "8ed6155b",
   "metadata": {},
   "source": [
    "#### Read in the latest tindex and compare with a previous set of completed tiles to see which ones still need to be run"
   ]
  },
  {
   "cell_type": "code",
   "execution_count": 21,
   "id": "1a6ff3ac",
   "metadata": {},
   "outputs": [],
   "source": [
    "if DO_EXPERIMENT:\n",
    "    import numpy as np\n",
    "    #tindex_master_fn = '/projects/my-private-bucket/dps_output/run_tile_atl08_ubuntu/master/2022/run_no_LC_height_thresholds/ATL08_filt_tindex_master.csv'\n",
    "    NAME_TEST_SUBDIR = 'run_LC_height_thresholds_v2'\n",
    "    tindex_master_DIR = f'/projects/my-private-bucket/dps_output/run_tile_atl08_ubuntu/master/2022/{NAME_TEST_SUBDIR}'\n",
    "    !python /projects/icesat2_boreal/lib/build_tindex_master.py -t ATL08_filt -y 2022 -m $NAME_TEST_SUBDIR -o $tindex_master_DIR\n",
    "\n",
    "    tindex_master_fn = os.path.join(tindex_master_DIR, 'ATL08_filt_tindex_master.csv')\n",
    "    tiles_completed = pd.read_csv(tindex_master_fn)\n",
    "\n",
    "    print(f'Tiles completed: {len(tiles_completed)}')\n",
    "    tile_nums_missing = np.setdiff1d(DPS_INPUT_TILE_NUM_LIST, tiles_completed.tile_num)\n",
    "    print(f'Tiles missing: {len(tile_nums_missing)}')\n",
    "    INPUT_EXPERIMENT_TILE_NUM_LIST = tile_nums_missing.tolist()\n",
    "    print(len(INPUT_EXPERIMENT_TILE_NUM_LIST))"
   ]
  },
  {
   "cell_type": "code",
   "execution_count": 22,
   "id": "8f5693ec",
   "metadata": {},
   "outputs": [
    {
     "data": {
      "text/plain": [
       "46166"
      ]
     },
     "execution_count": 22,
     "metadata": {},
     "output_type": "execute_result"
    }
   ],
   "source": [
    "tindex_master_fn = f'/projects/shared-buckets/lduncanson/DPS_tile_lists/ATL08_tindex_master.csv'\n",
    "tiles = pd.read_csv(tindex_master_fn)\n",
    "len(tiles)"
   ]
  },
  {
   "cell_type": "code",
   "execution_count": 23,
   "id": "df250936",
   "metadata": {},
   "outputs": [],
   "source": [
    "if DO_EXPERIMENT:\n",
    "    tiles_completed_no_LC = pd.read_csv('/projects/my-private-bucket/dps_output/run_tile_atl08_ubuntu/master/2022/run_no_LC_height_thresholds/ATL08_filt_tindex_master.csv')\n",
    "    tiles_completed_LC = pd.read_csv('/projects/my-private-bucket/dps_output/run_tile_atl08_ubuntu/master/2022/run_LC_height_thresholds/ATL08_filt_tindex_master.csv')\n",
    "    print(f\"# tiles for no LC:\\t{len(tiles_completed_no_LC)}\")\n",
    "    print(f\"# tiles for LC:\\t\\t{len(tiles_completed_LC)}\")\n",
    "    tile_nums_missing_no_LC = np.setdiff1d(INPUT_TEST_TILE_NUM_LIST, tiles_completed_no_LC.tile_num)\n",
    "    tile_nums_missing_LC = np.setdiff1d(INPUT_TEST_TILE_NUM_LIST, tiles_completed_LC.tile_num)\n",
    "    tile_nums_missing_no_LC = set(INPUT_TEST_TILE_NUM_LIST) - set(tiles_completed_no_LC.tile_num)\n",
    "    tile_nums_missing_LC = set(INPUT_TEST_TILE_NUM_LIST) - set(tiles_completed_LC.tile_num)\n",
    "    print(f\"tiles missing for no LC:\\t{tile_nums_missing_no_LC}\")\n",
    "    print(f\"tiles missing for LC:\\t\\t{tile_nums_missing_LC}\")\n",
    "\n",
    "    #print(f\"tiles for no LC:\\t{tiles_completed_no_LC.tile_num}\")\n",
    "    #print(f\"tiles for LC:\\t\\t{tiles_completed_LC.tile_num}\")\n",
    "\n",
    "    # The missing tiles common to both runs probably wont process b/c they have no ATL08 over land, or no corresponding Landsat or Topo tiles.\n",
    "    # Those missing that are different in each set need to be run\n",
    "    DPS_INPUT_TILE_NUM_LIST_no_LC = list(set(tiles_completed_LC.tile_num) - set(tiles_completed_no_LC.tile_num))\n",
    "    DPS_INPUT_TILE_NUM_LIST_LC = list(set(tiles_completed_no_LC.tile_num) - set(tiles_completed_LC.tile_num))\n",
    "    print(f\"Tiles still needed for no LC run: {DPS_INPUT_TILE_NUM_LIST_no_LC}\")\n",
    "    print(f\"Tiles still needed for LC run: {DPS_INPUT_TILE_NUM_LIST_LC}\")"
   ]
  },
  {
   "cell_type": "code",
   "execution_count": 24,
   "id": "50562c39",
   "metadata": {},
   "outputs": [],
   "source": [
    "if DO_EXPERIMENT:\n",
    "    month_dir_str = 'run_LC_height_thresholds'\n",
    "    index_out_dir = os.path.join('/projects/my-private-bucket/dps_output/run_tile_atl08_ubuntu/master/2022', month_dir_str)\n",
    "    !python /projects/icesat2_boreal/lib/build_tindex_master.py -t ATL08_filt -y 2022 -m $month_dir_str -o $index_out_dir"
   ]
  },
  {
   "cell_type": "code",
   "execution_count": 31,
   "id": "08bce2b8",
   "metadata": {},
   "outputs": [
    {
     "name": "stdout",
     "output_type": "stream",
     "text": [
      "Running DPS on the FULL list of input\n",
      "List length: 741\n"
     ]
    }
   ],
   "source": [
    "TEST_DPS  = False\n",
    "\n",
    "if TEST_DPS:\n",
    "    DPS_INPUT_TILE_NUM_LIST = INPUT_TEST_TILE_NUM_LIST\n",
    "    \n",
    "    if True:\n",
    "        #!python /projects/icesat2_boreal/lib/build_tindex_master_v2.py -t ATL08_filt -y 2022 -m $month_dir_str -o $index_out_dir\n",
    "        t = pd.read_csv(os.path.join(index_out_dir,'ATL08_filt_tindex_master.csv'))\n",
    "        COMPLETED_TILES = t.tile_num.to_list()\n",
    "        NEED_TILES = list(set(DPS_INPUT_TILE_NUM_LIST) - set(COMPLETED_TILES))\n",
    "\n",
    "        print(NEED_TILES)\n",
    "        DPS_INPUT_TILE_NUM_LIST = NEED_TILES\n",
    "    \n",
    "else:\n",
    "    if DO_EXPERIMENT:\n",
    "        print('Running DPS on the FULL list of EXPERIMENT input')\n",
    "        DPS_INPUT_TILE_NUM_LIST = INPUT_EXPERIMENT_TILE_NUM_LIST\n",
    "    else:\n",
    "        print('Running DPS on the FULL list of input')\n",
    "        DPS_INPUT_TILE_NUM_LIST = INPUT_TILE_NUM_LIST\n",
    "    \n",
    "print(f\"List length: {len(DPS_INPUT_TILE_NUM_LIST)}\")"
   ]
  },
  {
   "cell_type": "markdown",
   "id": "fe2e50b2",
   "metadata": {},
   "source": [
    "## Customize the DPS run (choose params, set up the params dictionary)"
   ]
  },
  {
   "cell_type": "code",
   "execution_count": 29,
   "id": "02cece60",
   "metadata": {},
   "outputs": [],
   "source": [
    "# Set a default params dict\n",
    "in_param_dict = {\n",
    "                        'in_tile_num': '',\n",
    "                        'in_tile_fn': 'https://maap-ops-workspace.s3.amazonaws.com/shared/nathanmthomas/boreal_tiles_v003.gpkg',\n",
    "                        'in_tile_layer': 'boreal_tiles_v003',\n",
    "                        'csv_list_fn': 's3://maap-ops-workspace/shared/lduncanson/DPS_tile_lists/ATL08_tindex_master.csv',\n",
    "                        'topo_stack_list_fn': 's3://maap-ops-workspace/shared/nathanmthomas/DPS_tile_lists/Topo_tindex_master.csv',\n",
    "                        'landsat_stack_list_fn': 's3://maap-ops-workspace/shared/nathanmthomas/DPS_tile_lists/Landsat_tindex_master.csv',\n",
    "                        'landsat_cols_list': 'Blue Green Red NIR SWIR NDVI SAVI MSAVI NDMI EVI NBR NBR2 TCB TCG TCW ValidMask Xgeo Ygeo', \n",
    "                        'years_list': '2020',\n",
    "                        'user_stacks': 'nathanmthomas',\n",
    "                        'user_atl08': 'lduncanson',\n",
    "                        'thresh_sol_el': 0,\n",
    "                        'v_ATL08': 5,\n",
    "                        'minmonth': 6,\n",
    "                        'maxmonth': 9,\n",
    "                        'LC_filter': False\n",
    "    }\n",
    "\n",
    "# Norway test 01 --> run_no_LC_height_thresholds_v2\n",
    "# Just include sol_el so we can use sol_el < 5\n",
    "in_param_dict_norway01 = in_param_dict\n",
    "in_param_dict_norway01['years_list']    = '2019 2020 2021'\n",
    "in_param_dict_norway01['thresh_sol_el'] = 5\n",
    "in_param_dict_norway01['minmonth']      = 4\n",
    "in_param_dict_norway01['maxmonth']      = 10\n",
    "in_param_dict_norway01['LC_filter']     = False\n",
    "\n",
    "# Norway test 02 --> run_LC_height_thresholds_v2\n",
    "# Use v005 ATL08, which will apply lc-based thresholds, extend to all months\n",
    "# NOTE!! make sure you manually update to use the correct filter in tile_atl08.py\n",
    "in_param_dict_norway02 = in_param_dict\n",
    "in_param_dict_norway02['years_list']    = '2019 2020 2021'\n",
    "in_param_dict_norway02['thresh_sol_el'] = 5\n",
    "in_param_dict_norway02['minmonth']      = 4\n",
    "in_param_dict_norway02['maxmonth']      = 10\n",
    "in_param_dict_norway02['LC_filter']     = True\n",
    "\n",
    "# Norway test 03 --> run_LC_height_thresholds_HLS\n",
    "# same as test 02, but with HLS composites from 2019 - 2021\n",
    "# NOTE: HLS composites have SWIR2 JulianDate yearDate\n",
    "in_param_dict_norway03 = in_param_dict\n",
    "in_param_dict_norway03['landsat_stack_list_fn'] = 's3://maap-ops-workspace/shared/nathanmthomas/DPS_tile_lists/HLS_tindex_master.csv'\n",
    "in_param_dict_norway03['landsat_cols_list']     = 'Blue Green Red NIR SWIR SWIR2 NDVI SAVI MSAVI NDMI EVI NBR NBR2 TCB TCG TCW ValidMask Xgeo Ygeo JulianDate yearDate'\n",
    "in_param_dict_norway03['years_list']            = '2019 2020 2021'\n",
    "in_param_dict_norway03['thresh_sol_el']         = 5\n",
    "in_param_dict_norway03['minmonth']              = 4\n",
    "in_param_dict_norway03['maxmonth']              = 10\n",
    "in_param_dict_norway03['LC_filter']             = True"
   ]
  },
  {
   "cell_type": "code",
   "execution_count": 30,
   "id": "b6947670",
   "metadata": {},
   "outputs": [
    {
     "data": {
      "text/plain": [
       "{'in_tile_num': '',\n",
       " 'in_tile_fn': 'https://maap-ops-workspace.s3.amazonaws.com/shared/nathanmthomas/boreal_tiles_v003.gpkg',\n",
       " 'in_tile_layer': 'boreal_tiles_v003',\n",
       " 'csv_list_fn': 's3://maap-ops-workspace/shared/lduncanson/DPS_tile_lists/ATL08_tindex_master.csv',\n",
       " 'topo_stack_list_fn': 's3://maap-ops-workspace/shared/nathanmthomas/DPS_tile_lists/Topo_tindex_master.csv',\n",
       " 'landsat_stack_list_fn': 's3://maap-ops-workspace/shared/nathanmthomas/DPS_tile_lists/HLS_tindex_master.csv',\n",
       " 'landsat_cols_list': 'Blue Green Red NIR SWIR SWIR2 NDVI SAVI MSAVI NDMI EVI NBR NBR2 TCB TCG TCW ValidMask Xgeo Ygeo JulianDate yearDate',\n",
       " 'years_list': '2019 2020 2021',\n",
       " 'user_stacks': 'nathanmthomas',\n",
       " 'user_atl08': 'lduncanson',\n",
       " 'thresh_sol_el': 5,\n",
       " 'v_ATL08': 5,\n",
       " 'minmonth': 4,\n",
       " 'maxmonth': 10,\n",
       " 'LC_filter': True}"
      ]
     },
     "execution_count": 30,
     "metadata": {},
     "output_type": "execute_result"
    }
   ],
   "source": [
    "in_param_dict = in_param_dict_norway03\n",
    "in_param_dict"
   ]
  },
  {
   "cell_type": "code",
   "execution_count": 10,
   "id": "bd334fbb",
   "metadata": {},
   "outputs": [],
   "source": [
    "#DPS_INPUT_TILE_NUM_LIST = DPS_INPUT_TILE_NUM_LIST[0:1]\n",
    "#DPS_INPUT_TILE_NUM_LIST = [2717, 2718]"
   ]
  },
  {
   "cell_type": "markdown",
   "id": "ec61e494",
   "metadata": {},
   "source": [
    "## Run a DPS job across the list"
   ]
  },
  {
   "cell_type": "code",
   "execution_count": 33,
   "id": "d58e4060",
   "metadata": {},
   "outputs": [],
   "source": [
    "RUN_NAME = 'atl08_with_hls'"
   ]
  },
  {
   "cell_type": "code",
   "execution_count": 34,
   "id": "1912371a",
   "metadata": {},
   "outputs": [
    {
     "name": "stdout",
     "output_type": "stream",
     "text": [
      "# of input tiles for DPS: 741\n",
      "DPS run #: 1\t| tile num: 1\t| submit status: success\t| job id: 33649d16-4536-4862-b014-0d245ab62d72\n",
      "DPS run #: 25\t| tile num: 100\t| submit status: success\t| job id: 232bbc0d-7f11-4fd9-a2bd-74e8a97a4288\n",
      "DPS run #: 50\t| tile num: 327\t| submit status: success\t| job id: 23c9355c-1636-444e-a7d7-2e4df99db5cf\n",
      "DPS run #: 100\t| tile num: 530\t| submit status: success\t| job id: 3335b1b0-6b23-43f1-bf2a-aa76152f4f54\n",
      "DPS run #: 200\t| tile num: 1551\t| submit status: success\t| job id: 683b82e3-ca52-4f77-97a7-dc6164ccba03\n",
      "DPS run #: 300\t| tile num: 2610\t| submit status: success\t| job id: f92053dc-1b53-496a-b34f-79ef1999f9ca\n",
      "DPS run #: 400\t| tile num: 3737\t| submit status: success\t| job id: a5a46bb7-44c0-413b-8abb-fc89718a8ccc\n",
      "DPS run #: 500\t| tile num: 4143\t| submit status: success\t| job id: fe3e1c9b-42de-472b-aa51-4f178ff085c7\n",
      "DPS run #: 741\t| tile num: 27365\t| submit status: success\t| job id: ca331930-126d-4aa0-8c7f-c4d941b643c4\n",
      "Current time:\t202204201711\n",
      "CPU times: user 9.01 s, sys: 448 ms, total: 9.46 s\n",
      "Wall time: 2min 58s\n"
     ]
    },
    {
     "data": {
      "text/html": [
       "<div>\n",
       "<style scoped>\n",
       "    .dataframe tbody tr th:only-of-type {\n",
       "        vertical-align: middle;\n",
       "    }\n",
       "\n",
       "    .dataframe tbody tr th {\n",
       "        vertical-align: top;\n",
       "    }\n",
       "\n",
       "    .dataframe thead th {\n",
       "        text-align: right;\n",
       "    }\n",
       "</style>\n",
       "<table border=\"1\" class=\"dataframe\">\n",
       "  <thead>\n",
       "    <tr style=\"text-align: right;\">\n",
       "      <th></th>\n",
       "      <th>status</th>\n",
       "      <th>http_status_code</th>\n",
       "      <th>job_id</th>\n",
       "      <th>dps_num</th>\n",
       "      <th>tile_num</th>\n",
       "      <th>submit_time</th>\n",
       "      <th>dbs_job_hour</th>\n",
       "      <th>algo_id</th>\n",
       "      <th>user</th>\n",
       "      <th>worker_type</th>\n",
       "      <th>run_name</th>\n",
       "    </tr>\n",
       "  </thead>\n",
       "  <tbody>\n",
       "    <tr>\n",
       "      <th>0</th>\n",
       "      <td>success</td>\n",
       "      <td>200</td>\n",
       "      <td>33649d16-4536-4862-b014-0d245ab62d72</td>\n",
       "      <td>1</td>\n",
       "      <td>1</td>\n",
       "      <td>2022-04-20 17:08:59.675355</td>\n",
       "      <td>17</td>\n",
       "      <td>run_tile_atl08_ubuntu</td>\n",
       "      <td>lduncanson</td>\n",
       "      <td>maap-dps-worker-16gb</td>\n",
       "      <td>atl08_with_hls</td>\n",
       "    </tr>\n",
       "    <tr>\n",
       "      <th>0</th>\n",
       "      <td>success</td>\n",
       "      <td>200</td>\n",
       "      <td>b3d43b43-dfe3-4382-b586-89e43576fca2</td>\n",
       "      <td>2</td>\n",
       "      <td>2</td>\n",
       "      <td>2022-04-20 17:08:59.740809</td>\n",
       "      <td>17</td>\n",
       "      <td>run_tile_atl08_ubuntu</td>\n",
       "      <td>lduncanson</td>\n",
       "      <td>maap-dps-worker-16gb</td>\n",
       "      <td>atl08_with_hls</td>\n",
       "    </tr>\n",
       "    <tr>\n",
       "      <th>0</th>\n",
       "      <td>success</td>\n",
       "      <td>200</td>\n",
       "      <td>d0cc7598-16e6-4853-b180-294c5836125a</td>\n",
       "      <td>3</td>\n",
       "      <td>3</td>\n",
       "      <td>2022-04-20 17:08:59.833364</td>\n",
       "      <td>17</td>\n",
       "      <td>run_tile_atl08_ubuntu</td>\n",
       "      <td>lduncanson</td>\n",
       "      <td>maap-dps-worker-16gb</td>\n",
       "      <td>atl08_with_hls</td>\n",
       "    </tr>\n",
       "    <tr>\n",
       "      <th>0</th>\n",
       "      <td>success</td>\n",
       "      <td>200</td>\n",
       "      <td>e7320575-ffbe-4fea-a79e-11223026aa30</td>\n",
       "      <td>4</td>\n",
       "      <td>5</td>\n",
       "      <td>2022-04-20 17:08:59.961803</td>\n",
       "      <td>17</td>\n",
       "      <td>run_tile_atl08_ubuntu</td>\n",
       "      <td>lduncanson</td>\n",
       "      <td>maap-dps-worker-16gb</td>\n",
       "      <td>atl08_with_hls</td>\n",
       "    </tr>\n",
       "    <tr>\n",
       "      <th>0</th>\n",
       "      <td>success</td>\n",
       "      <td>200</td>\n",
       "      <td>8d7ffc19-2217-4b35-97a0-0ed1f1e5d411</td>\n",
       "      <td>5</td>\n",
       "      <td>6</td>\n",
       "      <td>2022-04-20 17:09:00.232787</td>\n",
       "      <td>17</td>\n",
       "      <td>run_tile_atl08_ubuntu</td>\n",
       "      <td>lduncanson</td>\n",
       "      <td>maap-dps-worker-16gb</td>\n",
       "      <td>atl08_with_hls</td>\n",
       "    </tr>\n",
       "    <tr>\n",
       "      <th>...</th>\n",
       "      <td>...</td>\n",
       "      <td>...</td>\n",
       "      <td>...</td>\n",
       "      <td>...</td>\n",
       "      <td>...</td>\n",
       "      <td>...</td>\n",
       "      <td>...</td>\n",
       "      <td>...</td>\n",
       "      <td>...</td>\n",
       "      <td>...</td>\n",
       "      <td>...</td>\n",
       "    </tr>\n",
       "    <tr>\n",
       "      <th>0</th>\n",
       "      <td>success</td>\n",
       "      <td>200</td>\n",
       "      <td>57fd24dd-c7b1-4c62-bfec-9353b30e9441</td>\n",
       "      <td>737</td>\n",
       "      <td>41625</td>\n",
       "      <td>2022-04-20 17:11:56.725835</td>\n",
       "      <td>17</td>\n",
       "      <td>run_tile_atl08_ubuntu</td>\n",
       "      <td>lduncanson</td>\n",
       "      <td>maap-dps-worker-16gb</td>\n",
       "      <td>atl08_with_hls</td>\n",
       "    </tr>\n",
       "    <tr>\n",
       "      <th>0</th>\n",
       "      <td>success</td>\n",
       "      <td>200</td>\n",
       "      <td>236c79f3-f87f-4b1c-95b7-ecbcd08c28ec</td>\n",
       "      <td>738</td>\n",
       "      <td>41807</td>\n",
       "      <td>2022-04-20 17:11:56.972673</td>\n",
       "      <td>17</td>\n",
       "      <td>run_tile_atl08_ubuntu</td>\n",
       "      <td>lduncanson</td>\n",
       "      <td>maap-dps-worker-16gb</td>\n",
       "      <td>atl08_with_hls</td>\n",
       "    </tr>\n",
       "    <tr>\n",
       "      <th>0</th>\n",
       "      <td>success</td>\n",
       "      <td>200</td>\n",
       "      <td>2306aa4a-b2e0-4eed-92cc-a87ab1442473</td>\n",
       "      <td>739</td>\n",
       "      <td>41809</td>\n",
       "      <td>2022-04-20 17:11:57.258704</td>\n",
       "      <td>17</td>\n",
       "      <td>run_tile_atl08_ubuntu</td>\n",
       "      <td>lduncanson</td>\n",
       "      <td>maap-dps-worker-16gb</td>\n",
       "      <td>atl08_with_hls</td>\n",
       "    </tr>\n",
       "    <tr>\n",
       "      <th>0</th>\n",
       "      <td>success</td>\n",
       "      <td>200</td>\n",
       "      <td>f4da2432-cb40-4c14-8da6-bffbd2af6d64</td>\n",
       "      <td>740</td>\n",
       "      <td>41995</td>\n",
       "      <td>2022-04-20 17:11:57.450522</td>\n",
       "      <td>17</td>\n",
       "      <td>run_tile_atl08_ubuntu</td>\n",
       "      <td>lduncanson</td>\n",
       "      <td>maap-dps-worker-16gb</td>\n",
       "      <td>atl08_with_hls</td>\n",
       "    </tr>\n",
       "    <tr>\n",
       "      <th>0</th>\n",
       "      <td>success</td>\n",
       "      <td>200</td>\n",
       "      <td>ca331930-126d-4aa0-8c7f-c4d941b643c4</td>\n",
       "      <td>741</td>\n",
       "      <td>27365</td>\n",
       "      <td>2022-04-20 17:11:57.703345</td>\n",
       "      <td>17</td>\n",
       "      <td>run_tile_atl08_ubuntu</td>\n",
       "      <td>lduncanson</td>\n",
       "      <td>maap-dps-worker-16gb</td>\n",
       "      <td>atl08_with_hls</td>\n",
       "    </tr>\n",
       "  </tbody>\n",
       "</table>\n",
       "<p>741 rows × 11 columns</p>\n",
       "</div>"
      ],
      "text/plain": [
       "     status  http_status_code                                job_id  dps_num  \\\n",
       "0   success               200  33649d16-4536-4862-b014-0d245ab62d72        1   \n",
       "0   success               200  b3d43b43-dfe3-4382-b586-89e43576fca2        2   \n",
       "0   success               200  d0cc7598-16e6-4853-b180-294c5836125a        3   \n",
       "0   success               200  e7320575-ffbe-4fea-a79e-11223026aa30        4   \n",
       "0   success               200  8d7ffc19-2217-4b35-97a0-0ed1f1e5d411        5   \n",
       "..      ...               ...                                   ...      ...   \n",
       "0   success               200  57fd24dd-c7b1-4c62-bfec-9353b30e9441      737   \n",
       "0   success               200  236c79f3-f87f-4b1c-95b7-ecbcd08c28ec      738   \n",
       "0   success               200  2306aa4a-b2e0-4eed-92cc-a87ab1442473      739   \n",
       "0   success               200  f4da2432-cb40-4c14-8da6-bffbd2af6d64      740   \n",
       "0   success               200  ca331930-126d-4aa0-8c7f-c4d941b643c4      741   \n",
       "\n",
       "    tile_num                submit_time  dbs_job_hour                algo_id  \\\n",
       "0          1 2022-04-20 17:08:59.675355            17  run_tile_atl08_ubuntu   \n",
       "0          2 2022-04-20 17:08:59.740809            17  run_tile_atl08_ubuntu   \n",
       "0          3 2022-04-20 17:08:59.833364            17  run_tile_atl08_ubuntu   \n",
       "0          5 2022-04-20 17:08:59.961803            17  run_tile_atl08_ubuntu   \n",
       "0          6 2022-04-20 17:09:00.232787            17  run_tile_atl08_ubuntu   \n",
       "..       ...                        ...           ...                    ...   \n",
       "0      41625 2022-04-20 17:11:56.725835            17  run_tile_atl08_ubuntu   \n",
       "0      41807 2022-04-20 17:11:56.972673            17  run_tile_atl08_ubuntu   \n",
       "0      41809 2022-04-20 17:11:57.258704            17  run_tile_atl08_ubuntu   \n",
       "0      41995 2022-04-20 17:11:57.450522            17  run_tile_atl08_ubuntu   \n",
       "0      27365 2022-04-20 17:11:57.703345            17  run_tile_atl08_ubuntu   \n",
       "\n",
       "          user           worker_type        run_name  \n",
       "0   lduncanson  maap-dps-worker-16gb  atl08_with_hls  \n",
       "0   lduncanson  maap-dps-worker-16gb  atl08_with_hls  \n",
       "0   lduncanson  maap-dps-worker-16gb  atl08_with_hls  \n",
       "0   lduncanson  maap-dps-worker-16gb  atl08_with_hls  \n",
       "0   lduncanson  maap-dps-worker-16gb  atl08_with_hls  \n",
       "..         ...                   ...             ...  \n",
       "0   lduncanson  maap-dps-worker-16gb  atl08_with_hls  \n",
       "0   lduncanson  maap-dps-worker-16gb  atl08_with_hls  \n",
       "0   lduncanson  maap-dps-worker-16gb  atl08_with_hls  \n",
       "0   lduncanson  maap-dps-worker-16gb  atl08_with_hls  \n",
       "0   lduncanson  maap-dps-worker-16gb  atl08_with_hls  \n",
       "\n",
       "[741 rows x 11 columns]"
      ]
     },
     "execution_count": 34,
     "metadata": {},
     "output_type": "execute_result"
    }
   ],
   "source": [
    "%%time\n",
    "submit_results_df_list = []\n",
    "len_input_list = len(DPS_INPUT_TILE_NUM_LIST)\n",
    "print(f\"# of input tiles for DPS: {len_input_list}\")\n",
    "\n",
    "for i, INPUT_TILE_NUM in enumerate(DPS_INPUT_TILE_NUM_LIST):\n",
    "\n",
    "    DPS_num = i+1\n",
    "    IDENTIFIER = 'run_tile_atl08'\n",
    "    ALGO_ID = f'{IDENTIFIER}_ubuntu'\n",
    "    USER = 'lduncanson'\n",
    "    WORKER_TYPE = 'maap-dps-worker-16gb'\n",
    "    \n",
    "    in_param_dict['in_tile_num'] = INPUT_TILE_NUM\n",
    "    \n",
    "    submit_result = maap.submitJob(\n",
    "            identifier=IDENTIFIER,\n",
    "            algo_id=ALGO_ID,\n",
    "            version='tile_atl08',\n",
    "            username=USER, # username needs to be the same as whoever created the workspace\n",
    "            queue=WORKER_TYPE,\n",
    "            **in_param_dict\n",
    "        )\n",
    "    \n",
    "    # Build a dataframe of submission details\n",
    "    submit_result['dps_num'] = DPS_num\n",
    "    submit_result['tile_num'] = INPUT_TILE_NUM\n",
    "    submit_result['submit_time'] = datetime.datetime.now()\n",
    "    submit_result['dbs_job_hour'] =datetime.datetime.now().hour\n",
    "    submit_result['algo_id'] = ALGO_ID\n",
    "    submit_result['user'] = USER\n",
    "    submit_result['worker_type'] = WORKER_TYPE\n",
    "\n",
    "    # Append to a list of data frames of submission results\n",
    "    submit_results_df_list.append(pd.DataFrame([submit_result]))\n",
    "    \n",
    "    if DPS_num in [1, 25,50, 100,200,300,400,500, 750, 1000, 1250, 1500, 1750, 2000, 2250, 2500, 2750, 3000, 3250, 3500, 3750, 4000, 4250, 5000, 7000, 9000, 11000, 13000, 15000, 17000, 19000, 21000, 24000, len_input_list]:\n",
    "        print(f\"DPS run #: {DPS_num}\\t| tile num: {INPUT_TILE_NUM}\\t| submit status: {submit_result['status']}\\t| job id: {submit_result['job_id']}\") \n",
    "        \n",
    "# Build a final submission results df and save\n",
    "submit_results_df = pd.concat(submit_results_df_list)\n",
    "submit_results_df['run_name'] = RUN_NAME\n",
    "nowtime = pd.Timestamp.now().strftime('%Y%m%d%H%M')\n",
    "print(f\"Current time:\\t{nowtime}\")\n",
    "submit_results_df.to_csv(f'/projects/my-public-bucket/dps_submission_results/DPS_{IDENTIFIER}_submission_results_{len_input_list}_{nowtime}.csv')\n",
    "submit_results_df"
   ]
  },
  {
   "cell_type": "markdown",
   "id": "5786c776",
   "metadata": {},
   "source": [
    "After almost any DPS job, you have to assess what succeeded and failed. This involves:\n",
    "1. building a table of job status based on job ids captured in the job_results_df from the DPS run chunk (this takes 40 mins for ~47k jobs) --> this tells you how many jobs failed\n",
    "2. merging the job status table with the job results df --> this tells you which specific granules (or tile nums) failed\n",
    "3. building another input list of granules for a follow-up DPS\n",
    "## Assess DPS results\n",
    "Build a table of job status based on job id - how many jobs failed?"
   ]
  },
  {
   "cell_type": "code",
   "execution_count": 36,
   "id": "87bfcfc1",
   "metadata": {},
   "outputs": [
    {
     "name": "stdout",
     "output_type": "stream",
     "text": [
      "DPS alg:\t\trun_tile_atl08\n",
      "DPS launch time:\t202204201711\n",
      "Count total jobs:\t741\n",
      "Count pending jobs:\t0\n",
      "Count running jobs:\t68\n",
      "Count succeeded jobs:\t0\n",
      "Count failed jobs:\t673\n",
      "% of failed jobs:\t100.0\n",
      "\n",
      "CPU times: user 7.48 s, sys: 447 ms, total: 7.93 s\n",
      "Wall time: 23.7 s\n"
     ]
    }
   ],
   "source": [
    "%%time\n",
    "LIST_SUBMISSIONS = sorted(glob.glob(f'/projects/my-public-bucket/dps_submission_results/DPS_{IDENTIFIER}_submission_results_*.csv'),key=ExtractUtils.func, reverse=True)\n",
    "for DPS_DATETIME in ['202204201711']:\n",
    "    for fn in LIST_SUBMISSIONS:\n",
    "        if DPS_DATETIME in fn and not 'job_status' in fn:\n",
    "            DPS_alg_id = os.path.basename(fn.split('_submission_results_')[0].replace('DPS_',''))\n",
    "            thentime = fn.split('_')[-1].replace('.csv','')\n",
    "            print(f'DPS alg:\\t\\t{DPS_alg_id}')\n",
    "            print(f'DPS launch time:\\t{thentime}')\n",
    "            z = ExtractUtils.BUILD_TABLE_JOBSTATUS(pd.read_csv(fn))\n",
    "            # Save job status table\n",
    "            z.to_csv(f'/projects/my-public-bucket/dps_submission_results/DPS_{IDENTIFIER}_submission_results_job_status_{len(z)}_{thentime}.csv')"
   ]
  },
  {
   "cell_type": "code",
   "execution_count": 100,
   "id": "217fd14d",
   "metadata": {},
   "outputs": [
    {
     "data": {
      "text/plain": [
       "OrderedDict([('wps:Result',\n",
       "              OrderedDict([('@xmlns:ows', 'http://www.opengis.net/ows/2.0'),\n",
       "                           ('@xmlns:schemaLocation',\n",
       "                            'http://schemas.opengis.net/wps/2.0/wps.xsd'),\n",
       "                           ('@xmlns:wps', 'http://www.opengis.net/wps/2.0'),\n",
       "                           ('@xmlns:xsi',\n",
       "                            'http://www.w3.org/2001/XMLSchema-instance'),\n",
       "                           ('wps:JobID',\n",
       "                            'fd103a8d-83b1-41d7-b795-f2f328f16269'),\n",
       "                           ('wps:Output',\n",
       "                            OrderedDict([('@id',\n",
       "                                          'output-2022-03-22T19:20:58.003202'),\n",
       "                                         ('wps:Data',\n",
       "                                          ['http://maap-ops-workspace.s3-website-us-west-2.amazonaws.com/lduncanson/dps_output/run_tile_atl08_ubuntu/master/2022/03/22/19/20/58/003202',\n",
       "                                           's3://s3.us-west-2.amazonaws.com:80/maap-ops-workspace/lduncanson/dps_output/run_tile_atl08_ubuntu/master/2022/03/22/19/20/58/003202',\n",
       "                                           'https://s3.console.aws.amazon.com/s3/buckets/maap-ops-workspace/lduncanson/dps_output/run_tile_atl08_ubuntu/master/2022/03/22/19/20/58/003202/?region=us-east-1&tab=overview'])]))]))])"
      ]
     },
     "execution_count": 100,
     "metadata": {},
     "output_type": "execute_result"
    }
   ],
   "source": [
    "xmltodict.parse(maap.getJobResult(z[z['wps:Status'] =='Succeeded'].iloc[0].job_id).content)"
   ]
  },
  {
   "cell_type": "code",
   "execution_count": 37,
   "id": "2f85526a",
   "metadata": {},
   "outputs": [
    {
     "data": {
      "text/plain": [
       "OrderedDict([('wps:Result',\n",
       "              OrderedDict([('@xmlns:ows', 'http://www.opengis.net/ows/2.0'),\n",
       "                           ('@xmlns:schemaLocation',\n",
       "                            'http://schemas.opengis.net/wps/2.0/wps.xsd'),\n",
       "                           ('@xmlns:wps', 'http://www.opengis.net/wps/2.0'),\n",
       "                           ('@xmlns:xsi',\n",
       "                            'http://www.w3.org/2001/XMLSchema-instance'),\n",
       "                           ('wps:JobID',\n",
       "                            'a9997a82-b3f2-454e-be55-150b39955e73'),\n",
       "                           ('wps:Output',\n",
       "                            OrderedDict([('@id', 'traceback'),\n",
       "                                         ('wps:Data',\n",
       "                                          'activate does not accept more than one argument:\\n[\\'/app/icesat2_boreal/dps/alg_2-4/run_tile_atl08.sh\\', \\'3824\\', \\'boreal_tiles_v003\\', \\'s3://maap-ops-workspace/shared/lduncanson/DPS_tile_lists/ATL08_tindex_master.csv\\', \\'s3://maap-ops-workspace/shared/nathanmthomas/DPS_tile_lists/Topo_tindex_master.csv\\', \\'s3://maap-ops-workspace/shared/nathanmthomas/DPS_tile_lists/HLS_tindex_master.csv\\', \\'Blue Green Red NIR SWIR SWIR2 NDVI SAVI MSAVI NDMI EVI NBR NBR2 TCB TCG TCW ValidMask Xgeo Ygeo JulianDate yearDate\\', \\'2019 2020 2021\\', \\'nathanmthomas\\', \\'lduncanson\\', \\'5\\', \\'5\\', \\'4\\', \\'10\\', \\'True\\']\\n\\n+ /app/icesat2_boreal/dps/alg_2-4/run_tile_atl08.sh 3824 boreal_tiles_v003 s3://maap-ops-workspace/shared/lduncanson/DPS_tile_lists/ATL08_tindex_master.csv s3://maap-ops-workspace/shared/nathanmthomas/DPS_tile_lists/Topo_tindex_master.csv s3://maap-ops-workspace/shared/nathanmthomas/DPS_tile_lists/HLS_tindex_master.csv \\'Blue Green Red NIR SWIR SWIR2 NDVI SAVI MSAVI NDMI EVI NBR NBR2 TCB TCG TCW ValidMask Xgeo Ygeo JulianDate yearDate\\' \\'2019 2020 2021\\' nathanmthomas lduncanson 5 5 4 10 True\\n+++ dirname /app/icesat2_boreal/dps/alg_2-4/run_tile_atl08.sh\\n++ cd /app/icesat2_boreal/dps/alg_2-4\\n++ pwd -P\\n+ basedir=/app/icesat2_boreal/dps/alg_2-4\\n+ unset PROJ_LIB\\n+ mkdir output\\n+ FILENAMELIST=($(ls -d input/*gpkg))\\n++ ls -d input/boreal_tiles_v003.gpkg\\n+ INPUT1=/data/work/jobs/2022/04/20/17/18/job-run_tile_atl08_ubuntu__tile_atl08-20220420T171102.14058Z/input/boreal_tiles_v003.gpkg\\n+ OUTPUTDIR=/data/work/jobs/2022/04/20/17/18/job-run_tile_atl08_ubuntu__tile_atl08-20220420T171102.14058Z/output\\n+ python /app/icesat2_boreal/dps/alg_2-4/../../lib/tile_atl08.py --extract_covars --do_dps --do_30m -o /data/work/jobs/2022/04/20/17/18/job-run_tile_atl08_ubuntu__tile_atl08-20220420T171102.14058Z/output -in_tile_num 3824 -in_tile_fn /data/work/jobs/2022/04/20/17/18/job-run_tile_atl08_ubuntu__tile_atl08-20220420T171102.14058Z/input/boreal_tiles_v003.gpkg -in_tile_layer boreal_tiles_v003 -csv_list_fn s3://maap-ops-workspace/shared/lduncanson/DPS_tile_lists/ATL08_tindex_master.csv -topo_stack_list_fn s3://maap-ops-workspace/shared/nathanmthomas/DPS_tile_lists/Topo_tindex_master.csv -landsat_stack_list_fn s3://maap-ops-workspace/shared/nathanmthomas/DPS_tile_lists/HLS_tindex_master.csv -landsat_cols_list Blue Green Red NIR SWIR SWIR2 NDVI SAVI MSAVI NDMI EVI NBR NBR2 TCB TCG TCW ValidMask Xgeo Ygeo JulianDate yearDate -years_list 2019 2020 2021 -user_stacks nathanmthomas -user_atl08 lduncanson -thresh_sol_el 5 -v_ATL08 5 -minmonth 4 -maxmonth 10 -LC_filter True\\n  File \"/app/icesat2_boreal/dps/alg_2-4/../../lib/tile_atl08.py\", line 352\\n    print(\"\\\\nConverting to geopandas data frame in lat/lon ...\")\"\\n                                                                ^\\nSyntaxError: unterminated string literal (detected at line 352)\\n+ cp _stderr.txt _alt_traceback.txt')]))]))])"
      ]
     },
     "execution_count": 37,
     "metadata": {},
     "output_type": "execute_result"
    }
   ],
   "source": [
    "xmltodict.parse(maap.getJobResult(z[z['wps:Status'] =='Failed'].iloc[400].job_id).content)"
   ]
  },
  {
   "cell_type": "code",
   "execution_count": 25,
   "id": "f59f02b8",
   "metadata": {},
   "outputs": [
    {
     "name": "stdout",
     "output_type": "stream",
     "text": [
      "/projects/.local/lib/python3.7/site-packages/geopandas/_compat.py:110: UserWarning: The Shapely GEOS version (3.8.0-CAPI-1.13.1 ) is incompatible with the GEOS version PyGEOS was compiled with (3.9.1-CAPI-1.14.2). Conversions between both will be slow.\n",
      "  shapely_geos_version, geos_capi_version_string\n",
      "\n",
      "Building a list of tiles:\n",
      "MAAP version:\t\tmaster\n",
      "Type:\t\tATL08_filt\n",
      "Year:\t\t2022\n",
      "Month:\t\t03\n",
      "Days:\t\t1-31\n",
      "\n",
      "Output dir:  /projects/my-private-bucket/dps_output/run_tile_atl08_ubuntu/master/2022/03\n",
      "                                             s3_path  ...                                               file\n",
      "0  s3://maap-ops-workspace/lduncanson/dps_output/...  ...  atl08_005_30m_filt_topo_landsat_20220329_0004.csv\n",
      "2  s3://maap-ops-workspace/lduncanson/dps_output/...  ...  atl08_005_30m_filt_topo_landsat_20220329_0133.csv\n",
      "4  s3://maap-ops-workspace/lduncanson/dps_output/...  ...  atl08_005_30m_filt_topo_landsat_20220329_0131.csv\n",
      "6  s3://maap-ops-workspace/lduncanson/dps_output/...  ...  atl08_005_30m_filt_topo_landsat_20220329_0132.csv\n",
      "8  s3://maap-ops-workspace/lduncanson/dps_output/...  ...  atl08_005_30m_filt_topo_landsat_20220329_0009.csv\n",
      "\n",
      "[5 rows x 3 columns]\n",
      "# of duplicate tiles: 0\n",
      "Final # of tiles: 128\n",
      "df shape :                                              s3_path  ... tile_num\n",
      "0  s3://maap-ops-workspace/lduncanson/dps_output/...  ...     0004\n",
      "2  s3://maap-ops-workspace/lduncanson/dps_output/...  ...     0133\n",
      "4  s3://maap-ops-workspace/lduncanson/dps_output/...  ...     0131\n",
      "6  s3://maap-ops-workspace/lduncanson/dps_output/...  ...     0132\n",
      "8  s3://maap-ops-workspace/lduncanson/dps_output/...  ...     0009\n",
      "\n",
      "[5 rows x 4 columns]\n",
      "Writing tindex master csv: /projects/my-private-bucket/dps_output/run_tile_atl08_ubuntu/master/2022/03/ATL08_filt_tindex_master.csv\n"
     ]
    }
   ],
   "source": [
    "!python /projects/icesat2_boreal/lib/build_tindex_master.py -t ATL08_filt -y 2022 -m 03 -o /projects/my-private-bucket/dps_output/run_tile_atl08_ubuntu/master/2022/03"
   ]
  },
  {
   "cell_type": "code",
   "execution_count": 99,
   "id": "6caf7f7a",
   "metadata": {},
   "outputs": [
    {
     "name": "stdout",
     "output_type": "stream",
     "text": [
      "[387, 388, 5, 6, 7, 10, 14, 16, 275, 21, 25, 27, 28, 29, 416, 37, 38, 296, 26025, 299, 300, 301, 48, 177, 50, 178, 60, 198, 3270, 72, 326, 327, 328, 26574, 354, 355, 356, 357, 247]\n"
     ]
    }
   ],
   "source": []
  },
  {
   "cell_type": "code",
   "execution_count": 153,
   "id": "53a8efdf",
   "metadata": {},
   "outputs": [
    {
     "name": "stdout",
     "output_type": "stream",
     "text": [
      "-LC_filter True --extract_covars --do_30m --do_dps -years_list 2019 2020 2021 -o /projects/my-public-bucket/atl08_filt_covar_tiles -in_tile_num 131 -in_tile_fn /projects/shared-buckets/nathanmthomas/boreal_tiles_v003.gpkg -in_tile_layer boreal_tiles_v003 -in_tile_id_col tile_num -csv_list_fn /projects/shared-buckets/lduncanson/DPS_tile_lists/ATL08_tindex_master.csv -topo_stack_list_fn /projects/shared-buckets/nathanmthomas/DPS_tile_lists/Topo_tindex_master.csv -landsat_stack_list_fn /projects/shared-buckets/nathanmthomas/DPS_tile_lists/Landsat_tindex_master.csv -user_stacks nathanmthomas -user_atl08 lduncanson -thresh_sol_el 5 -v_ATL08 5 -minmonth 4 -maxmonth 10\n",
      "/projects/.local/lib/python3.7/site-packages/geopandas/_compat.py:110: UserWarning: The Shapely GEOS version (3.8.0-CAPI-1.13.1 ) is incompatible with the GEOS version PyGEOS was compiled with (3.9.1-CAPI-1.14.2). Conversions between both will be slow.\n",
      "  shapely_geos_version, geos_capi_version_string\n",
      "\n",
      "Land cover filtering set to: True\n",
      "\n",
      "Working on tile:\t 131\n",
      "From layer:\t\t boreal_tiles_v003\n",
      "In vector file:\t\t /projects/shared-buckets/nathanmthomas/boreal_tiles_v003.gpkg\n",
      "ATL08 version:\t\t 5\n",
      "Season start:\t\t 04-01\n",
      "Season end:\t\t 10-31\n",
      "Years:\t\t\t [2019, 2020, 2021]\n",
      "ATL08 bin length:\t 30m\n",
      "\n",
      "Doing MAAP query by tile bounds to find all intersecting ATL08 \n",
      "\tTILE_NUM: 131 (13.542284675000083,63.85506319420587,16.20544971460586,64.97513449757871)\n",
      "\tSearching MAAP for granules using these parameters: \n",
      "\t[{'short_name': 'ATL08', 'version': '005', 'bounding_box': '13.542284675000083,63.85506319420587,16.20544971460586,64.97513449757871', 'limit': 10000, 'temporal': '2019-04-01T00:00:00Z,2019-10-31T23:59:59Z'}, {'short_name': 'ATL08', 'version': '005', 'bounding_box': '13.542284675000083,63.85506319420587,16.20544971460586,64.97513449757871', 'limit': 10000, 'temporal': '2020-04-01T00:00:00Z,2020-10-31T23:59:59Z'}, {'short_name': 'ATL08', 'version': '005', 'bounding_box': '13.542284675000083,63.85506319420587,16.20544971460586,64.97513449757871', 'limit': 10000, 'temporal': '2021-04-01T00:00:00Z,2021-10-31T23:59:59Z'}]\n",
      "\t\t# ATL08 for tile 131: 195\n",
      "\n",
      "This is either a DPS job (for which the CSV has an s3 path, or the CSV exists locally.)\n",
      "\n",
      "Reading existing list of ATL08 CSVs: /projects/shared-buckets/lduncanson/DPS_tile_lists/ATL08_tindex_master.csv\n",
      "\tDoing 30m ATL08 data?  True\n",
      "\tFind ATL08 CSVs you expect for a tile based on the h5 granule search...\n",
      "\t\t# of all ATL08 granules for tile: 195\n",
      "\t\t# of all_atl08_csvs: 46166\n",
      "\t# of ATL08 CSV found for tile 131: 158\n",
      "\t# of ATL08 CSV NOT found for tile 131: 37\n",
      "Creating pandas data frame...\n",
      "\n",
      "Filtering by tile: 131\n",
      "[13.542284675000083, 16.20544971460586, 63.85506319420587, 64.97513449757871]\n",
      "Bounds clipped 67410 obs. down to 8432 obs.\n",
      "Bounds clipped 33050 obs. down to 1581 obs.\n",
      "Bounds clipped 39560 obs. down to 0 obs.\n",
      "Bounds clipped 50324 obs. down to 3208 obs.\n",
      "Bounds clipped 95567 obs. down to 11660 obs.\n",
      "Bounds clipped 111142 obs. down to 2070 obs.\n",
      "Bounds clipped 105092 obs. down to 811 obs.\n",
      "Bounds clipped 110665 obs. down to 8897 obs.\n",
      "Bounds clipped 8143 obs. down to 0 obs.\n",
      "Bounds clipped 34114 obs. down to 0 obs.\n",
      "Bounds clipped 47439 obs. down to 666 obs.\n",
      "^C\n",
      "Traceback (most recent call last):\n",
      "  File \"/projects/icesat2_boreal/lib/tile_atl08.py\", line 386, in <module>\n",
      "    main()\n",
      "  File \"/projects/icesat2_boreal/lib/tile_atl08.py\", line 308, in main\n",
      "    atl08 = pd.concat([  FilterUtils.filter_atl08_bounds_clip(pd.read_csv(f), tile['geom_4326']) for f in all_atl08_csvs_FOUND ], sort=False, ignore_index=True)\n",
      "  File \"/projects/icesat2_boreal/lib/tile_atl08.py\", line 308, in <listcomp>\n",
      "    atl08 = pd.concat([  FilterUtils.filter_atl08_bounds_clip(pd.read_csv(f), tile['geom_4326']) for f in all_atl08_csvs_FOUND ], sort=False, ignore_index=True)\n",
      "  File \"/projects/.local/lib/python3.7/site-packages/pandas/io/parsers.py\", line 610, in read_csv\n",
      "    return _read(filepath_or_buffer, kwds)\n",
      "  File \"/projects/.local/lib/python3.7/site-packages/pandas/io/parsers.py\", line 468, in _read\n",
      "    return parser.read(nrows)\n",
      "  File \"/projects/.local/lib/python3.7/site-packages/pandas/io/parsers.py\", line 1057, in read\n",
      "    index, columns, col_dict = self._engine.read(nrows)\n",
      "  File \"/projects/.local/lib/python3.7/site-packages/pandas/io/parsers.py\", line 2061, in read\n",
      "    data = self._reader.read(nrows)\n",
      "  File \"pandas/_libs/parsers.pyx\", line 756, in pandas._libs.parsers.TextReader.read\n",
      "  File \"pandas/_libs/parsers.pyx\", line 771, in pandas._libs.parsers.TextReader._read_low_memory\n",
      "  File \"pandas/_libs/parsers.pyx\", line 827, in pandas._libs.parsers.TextReader._read_rows\n",
      "  File \"pandas/_libs/parsers.pyx\", line 814, in pandas._libs.parsers.TextReader._tokenize_rows\n",
      "  File \"pandas/_libs/parsers.pyx\", line 1943, in pandas._libs.parsers.raise_parser_error\n",
      "  File \"/projects/.local/lib/python3.7/site-packages/s3fs/core.py\", line 1938, in _fetch_range\n",
      "    req_kw=self.req_kw,\n",
      "  File \"/projects/.local/lib/python3.7/site-packages/s3fs/core.py\", line 2081, in _fetch_range\n",
      "    return sync(fs.loop, resp[\"Body\"].read)\n",
      "  File \"/projects/.local/lib/python3.7/site-packages/fsspec/asyn.py\", line 59, in sync\n",
      "    if event.wait(1):\n",
      "  File \"/opt/conda/lib/python3.7/threading.py\", line 552, in wait\n",
      "    signaled = self._cond.wait(timeout)\n",
      "  File \"/opt/conda/lib/python3.7/threading.py\", line 300, in wait\n",
      "    gotit = waiter.acquire(True, timeout)\n",
      "KeyboardInterrupt\n",
      "CPU times: user 480 ms, sys: 165 ms, total: 645 ms\n",
      "Wall time: 38.3 s\n"
     ]
    }
   ],
   "source": [
    "%%time\n",
    "TILE_NUM = 131 #NEED_TILES[6]\n",
    "args = f\"\\\n",
    "-LC_filter True \\\n",
    "--extract_covars \\\n",
    "--do_30m \\\n",
    "--do_dps \\\n",
    "-years_list 2019 2020 2021 \\\n",
    "-o /projects/my-public-bucket/atl08_filt_covar_tiles \\\n",
    "-in_tile_num {TILE_NUM} \\\n",
    "-in_tile_fn /projects/shared-buckets/nathanmthomas/boreal_tiles_v003.gpkg \\\n",
    "-in_tile_layer boreal_tiles_v003 \\\n",
    "-in_tile_id_col tile_num \\\n",
    "-csv_list_fn /projects/shared-buckets/lduncanson/DPS_tile_lists/ATL08_tindex_master.csv \\\n",
    "-topo_stack_list_fn /projects/shared-buckets/nathanmthomas/DPS_tile_lists/Topo_tindex_master.csv \\\n",
    "-landsat_stack_list_fn /projects/shared-buckets/nathanmthomas/DPS_tile_lists/Landsat_tindex_master.csv \\\n",
    "-user_stacks nathanmthomas \\\n",
    "-user_atl08 lduncanson \\\n",
    "-thresh_sol_el 5 \\\n",
    "-v_ATL08 5 -minmonth 4 -maxmonth 10\"\n",
    "print(args)\n",
    "!python /projects/icesat2_boreal/lib/tile_atl08.py $args"
   ]
  }
 ],
 "metadata": {
  "kernelspec": {
   "display_name": "Python 3 (ipykernel)",
   "language": "python",
   "name": "python3"
  },
  "language_info": {
   "codemirror_mode": {
    "name": "ipython",
    "version": 3
   },
   "file_extension": ".py",
   "mimetype": "text/x-python",
   "name": "python",
   "nbconvert_exporter": "python",
   "pygments_lexer": "ipython3",
   "version": "3.7.8"
  }
 },
 "nbformat": 4,
 "nbformat_minor": 5
}
