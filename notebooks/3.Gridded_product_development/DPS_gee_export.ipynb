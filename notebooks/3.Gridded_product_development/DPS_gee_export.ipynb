{
 "cells": [
  {
   "cell_type": "markdown",
   "id": "134e71b5-9b53-47cd-a14b-c1c4f5fba92b",
   "metadata": {},
   "source": [
    "# DPS the export of Google Earth Engine assets to MAAP"
   ]
  },
  {
   "cell_type": "code",
   "execution_count": 8,
   "id": "7de2ce36-ba9b-4cc6-a564-2870ef776cd1",
   "metadata": {
    "tags": []
   },
   "outputs": [],
   "source": [
    "import ee\n",
    "import numpy as np\n",
    "import geopandas as gpd\n",
    "import pandas as pd\n",
    "import shapely\n",
    "import glob\n",
    "import os\n",
    "from shapely.geometry import Polygon\n",
    "from shapely.geometry import box\n",
    "import matplotlib\n",
    "import matplotlib.pyplot as plt\n",
    "import rasterio as rio\n",
    "import sys\n",
    "sys.path.append('/projects/code/icesat2_boreal/lib')\n"
   ]
  },
  {
   "cell_type": "code",
   "execution_count": 2,
   "id": "d27b0756-24f2-42d4-ae65-4f58c809703d",
   "metadata": {
    "tags": []
   },
   "outputs": [
    {
     "data": {
      "text/html": [
       "<p>To authorize access needed by Earth Engine, open the following\n",
       "        URL in a web browser and follow the instructions:</p>\n",
       "        <p><a href=https://code.earthengine.google.com/client-auth?scopes=https%3A//www.googleapis.com/auth/earthengine%20https%3A//www.googleapis.com/auth/devstorage.full_control&request_id=_3gDnGvyxkz_4aYkkZQm93jLdVTbVO3SN-0qbIw7_AA&tc=_p5BUQxJa19LOueO0XoL9qcNyg4aubtHvyFnzdVKxsg&cc=tnP89nUDznLFsI0mZtM44-PYdo5cJ2RGBPA8nwiPuAQ>https://code.earthengine.google.com/client-auth?scopes=https%3A//www.googleapis.com/auth/earthengine%20https%3A//www.googleapis.com/auth/devstorage.full_control&request_id=_3gDnGvyxkz_4aYkkZQm93jLdVTbVO3SN-0qbIw7_AA&tc=_p5BUQxJa19LOueO0XoL9qcNyg4aubtHvyFnzdVKxsg&cc=tnP89nUDznLFsI0mZtM44-PYdo5cJ2RGBPA8nwiPuAQ</a></p>\n",
       "        <p>The authorization workflow will generate a code, which you should paste in the box below.</p>\n",
       "        "
      ],
      "text/plain": [
       "<IPython.core.display.HTML object>"
      ]
     },
     "metadata": {},
     "output_type": "display_data"
    },
    {
     "name": "stdin",
     "output_type": "stream",
     "text": [
      "Enter verification code:  4/1Adeu5BUzToi-_-5yzw34VFFxitazlLoCQ7whQQejFmuwHzspJuf3kw8BBkI\n"
     ]
    },
    {
     "name": "stdout",
     "output_type": "stream",
     "text": [
      "\n",
      "Successfully saved authorization token.\n"
     ]
    }
   ],
   "source": [
    "ee.Authenticate()"
   ]
  },
  {
   "cell_type": "code",
   "execution_count": 5,
   "id": "e44ae63e-203b-4d5a-bf93-927296f81a3b",
   "metadata": {
    "tags": []
   },
   "outputs": [],
   "source": [
    "USER = 'montesano' #'nathanmthomas'\n",
    "!mkdir -p /$HOME/shared-buckets/$USER/GEE/"
   ]
  },
  {
   "cell_type": "code",
   "execution_count": 6,
   "id": "23267b0e-9d5e-49e6-aeff-68ce8cceac8e",
   "metadata": {
    "tags": []
   },
   "outputs": [],
   "source": [
    "!cp $HOME/.config/earthengine/credentials /$HOME/shared-buckets/$USER/GEE/"
   ]
  },
  {
   "cell_type": "code",
   "execution_count": 7,
   "id": "e75492d1-7330-4b15-8022-1a45ec95a6f9",
   "metadata": {
    "tags": []
   },
   "outputs": [],
   "source": [
    "creds_file = f'https://maap-ops-workspace.s3.amazonaws.com/{USER}/GEE/credentials'"
   ]
  },
  {
   "cell_type": "markdown",
   "id": "9dc791c9-3983-4507-80ac-21b22415dbc8",
   "metadata": {},
   "source": [
    "## Steps to commit, build DPS registration yaml, register DPS algorithm from yaml\n",
    "### Commit with Tag for running\n",
    "1) Add version name as a *tag_name* of `EXPORT_GEE_v1` or whatever is appropriate - both to this notebook and algorithm config yaml\n",
    "\n",
    "2) follow git instructions (every time!!):  \n",
    " - git add changes  \n",
    " - git commit -m 'message'  \n",
    " - git tag -f `EXPORT_GEE_v1`    \n",
    " - git push  \n",
    " - git push origin -f `EXPORT_GEE_v1`  \n",
    "        # --push to gitlab no longer needed --   \n",
    "        # git push dps    \n",
    "        # git push dps -f `EXPORT_GEE_v1`    \n",
    "\n",
    "3) if it looks weird check git log to make sure tag is at same place as origin and dps"
   ]
  },
  {
   "cell_type": "markdown",
   "id": "ce010981-79b0-4bbe-90e0-f881bf2f3e3c",
   "metadata": {},
   "source": [
    "### Build DPS Registration yaml  \n",
    "- use MAAP Register Algorithm tool  \n",
    "- refer to `code/icesat2_boreal/dps/registered/do_export_gee_to_maap.yml` for existing template  \n",
    "- update reg yaml repository url to the github url (gitlab no longer needed) \n",
    "- update `above_env.yml` and `build_command_main.sh` to include all pinned versions of packages - to ensure stability of env for this alg  "
   ]
  },
  {
   "cell_type": "markdown",
   "id": "9bb0a0ed-5875-4049-b7be-5e005a7b9453",
   "metadata": {},
   "source": [
    "# Register algorithm for DPS"
   ]
  },
  {
   "cell_type": "markdown",
   "id": "b0df7662-b8a6-4cf5-a525-2092d65de346",
   "metadata": {},
   "source": [
    "### Use Registration yaml: Register DPS algorithm\n",
    " - We need to register the DPS algorithm before proceeding to the chunks below..."
   ]
  },
  {
   "cell_type": "code",
   "execution_count": null,
   "id": "d1dd19a1-fc8d-473f-b650-3d2460d7736f",
   "metadata": {
    "tags": []
   },
   "outputs": [],
   "source": [
    "maap.register_algorithm_from_yaml_file(\"/projects/code/icesat2_boreal/dps/registered/do_export_gee_to_maap.yml\").text"
   ]
  },
  {
   "cell_type": "code",
   "execution_count": 4,
   "id": "cd58b017-38aa-4098-a6e6-29168ff3d2e1",
   "metadata": {
    "tags": []
   },
   "outputs": [],
   "source": [
    "IDENTIFIER = 'SAR_S1_2018'"
   ]
  },
  {
   "cell_type": "code",
   "execution_count": 5,
   "id": "5fb1100d-48dc-4c15-90ce-8727b0e27330",
   "metadata": {
    "tags": []
   },
   "outputs": [],
   "source": [
    "# MAAP algorithm version name\n",
    "MAAP_VERSION = \"EXPORT_GEE_v1\""
   ]
  },
  {
   "cell_type": "markdown",
   "id": "8c92ff6b-73eb-41fb-96ec-35ba0a723463",
   "metadata": {},
   "source": [
    "# Process without DPS"
   ]
  },
  {
   "cell_type": "code",
   "execution_count": 135,
   "id": "a1fc5b56-a382-49cd-b663-917ae2686d6d",
   "metadata": {
    "tags": []
   },
   "outputs": [],
   "source": [
    "import sys\n",
    "sys.path.append('/projects/code/icesat2_boreal/lib')\n",
    "import export_gee_to_maap\n",
    "import ee_download\n",
    "import zipfile"
   ]
  },
  {
   "cell_type": "code",
   "execution_count": 65,
   "id": "60a96422-6250-4b2d-b4a9-5ca6a5393bdc",
   "metadata": {
    "tags": []
   },
   "outputs": [],
   "source": [
    "OUTDIR = '/projects/my-public-bucket/export_gee_to_maap_v2'"
   ]
  },
  {
   "cell_type": "code",
   "execution_count": 66,
   "id": "75d6a78e-1d07-4198-bd23-c62984c70a29",
   "metadata": {
    "tags": []
   },
   "outputs": [],
   "source": [
    "S3_PATH = f's3://maap-ops-workspace/shared/montesano/{os.path.basename(OUTDIR)}/'\n",
    "\n",
    "!aws s3 rm --quiet --recursive $S3_PATH"
   ]
  },
  {
   "cell_type": "code",
   "execution_count": 67,
   "id": "3f2b2137-23c0-412f-a42f-6d671a028ce3",
   "metadata": {
    "tags": []
   },
   "outputs": [],
   "source": [
    "!mkdir -p $OUTDIR"
   ]
  },
  {
   "cell_type": "markdown",
   "id": "add0fe05-1aff-496e-b490-4ccbc2fbdf5f",
   "metadata": {
    "tags": []
   },
   "source": [
    "### [1]  Base command line approach"
   ]
  },
  {
   "cell_type": "code",
   "execution_count": 22,
   "id": "a6ecc00a-4848-4183-8d3d-eff69114844c",
   "metadata": {
    "tags": []
   },
   "outputs": [],
   "source": [
    "#!python /projects/code/icesat2_boreal/lib/export_gee_to_maap.py --tile_num 1 --dims 500 --asset_path 'projects/foreststructure/Circumboreal/S1_Composites_albers' --out_dir $OUTDIR"
   ]
  },
  {
   "cell_type": "markdown",
   "id": "bd750d5b-c337-445b-9ab8-776ceb921ae9",
   "metadata": {},
   "source": [
    "## Multiprocess GEE export of subtiles locally, loop over asset tiles"
   ]
  },
  {
   "cell_type": "code",
   "execution_count": 23,
   "id": "e9db8ca3-10e1-45b5-893e-6e045842ae34",
   "metadata": {
    "tags": []
   },
   "outputs": [],
   "source": [
    "# def do_gee_download_by_subtile(index, TILELOC, fishnet_4326, asset_df, OUTDIR):\n",
    "    \n",
    "#     fails = []\n",
    "    \n",
    "#     try:\n",
    "#         minx, miny, maxx, maxy = fishnet_4326.iloc[index].geometry.bounds\n",
    "\n",
    "#         region = ee.Geometry.BBox(minx, miny, maxx, maxy)\n",
    "\n",
    "#         # We want to submit to DPS this...\n",
    "#         #print('Fetching..')\n",
    "#         downloaded_image_fn = ee_download.download_image_by_asset_path(\n",
    "#                                 asset_path = asset_df.iloc[TILELOC]['id'],\n",
    "#                                 output_folder = OUTDIR,\n",
    "#                                 region = region,\n",
    "#                                 idx = str(index)\n",
    "#                                 )\n",
    "#         print(f'Index: {index} : {downloaded_image_fn}')\n",
    "\n",
    "#         # Extract tif to zip\n",
    "#         out_subdir = os.path.join(os.path.dirname(downloaded_image_fn) , os.path.splitext(downloaded_image_fn)[0])\n",
    "#         with zipfile.ZipFile(downloaded_image_fn, 'r') as zip_ref:\n",
    "#             zip_ref.extractall(out_subdir)\n",
    "#         os.remove(downloaded_image_fn)\n",
    "            \n",
    "#     except Exception as e:\n",
    "#         raise e\n",
    "#         fails.append(fishnet_4326.iloc[index])\n",
    "        \n",
    "#     return fails\n",
    "        \n",
    "def find_index_to_process(index, OUTDIR_TILE, DEBUG=False):\n",
    "    '''Get a list of subtile stacks of a GEE asset tile that remain to be processed. Prevents re-doing completing tiles.\n",
    "    Note: 6 bands (tifs) should be finished for each SAR stack\n",
    "    '''\n",
    "    \n",
    "    LIST_INDEX_TO_PROCESS = []\n",
    "    # Ideally use s3.glob here, but s3fs not importing correctly\n",
    "    num_exported_tifs_subtile = len(glob.glob(OUTDIR_TILE +f'/*-subtile{index:06}/*.tif'))\n",
    "    #num_exported_tifs_subtile = len(s3.glob(OUTDIR_TILE +f'/*-subtile{index:06}/*.tif'))\n",
    "    \n",
    "    if DEBUG:\n",
    "        print(f'{num_exported_tifs_subtile} subtiles for tile {index}')\n",
    "\n",
    "    # This prevents re-doing perfectly good and complete exports\n",
    "    # Only add to 'todo' list to export if an existing export sutile dir was interrupted (has less than the expected 6 tifs)\n",
    "    if num_exported_tifs_subtile < 6:\n",
    "        if DEBUG:\n",
    "            print(f'Returning subtile {index} for processing...')\n",
    "        return index\n",
    "    else:\n",
    "        if DEBUG:\n",
    "            print(f'{index} done.')\n",
    "        else:\n",
    "            pass\n",
    "        return None"
   ]
  },
  {
   "cell_type": "code",
   "execution_count": 24,
   "id": "84eee477-31f2-46f0-a139-178bdecacaa1",
   "metadata": {
    "tags": []
   },
   "outputs": [],
   "source": [
    "from multiprocessing import Pool\n",
    "from functools import partial"
   ]
  },
  {
   "cell_type": "code",
   "execution_count": 25,
   "id": "f6940029-2ff0-4705-ae9a-7a2554929cee",
   "metadata": {
    "tags": []
   },
   "outputs": [],
   "source": [
    "# For some reason this is needed to get s3fs to work in ExtractUtils\n",
    "# this upgrades to 0.3.4 even though we already specify this version in requirements_main...\n",
    "##!pip install s3fs --upgrade"
   ]
  },
  {
   "cell_type": "code",
   "execution_count": 26,
   "id": "e80eb461-9710-48a1-9b26-917b20ccca19",
   "metadata": {
    "tags": []
   },
   "outputs": [],
   "source": [
    "import s3fs\n",
    "s3 = s3fs.S3FileSystem(anon=True)"
   ]
  },
  {
   "cell_type": "markdown",
   "id": "bb04ec62-9193-44f3-b193-ad25355fdf11",
   "metadata": {},
   "source": [
    "### Test of multiprocessing: buiding list of subtiles to process\n",
    "this needs a fishnet_4326"
   ]
  },
  {
   "cell_type": "code",
   "execution_count": 29,
   "id": "6f6012a3-180c-4fc5-b175-0800edb51758",
   "metadata": {
    "tags": []
   },
   "outputs": [
    {
     "name": "stdout",
     "output_type": "stream",
     "text": [
      "CPU times: user 2 µs, sys: 2 µs, total: 4 µs\n",
      "Wall time: 7.63 µs\n"
     ]
    }
   ],
   "source": [
    "%%time\n",
    "if False:\n",
    "    OUTDIR_TILE = '/projects/my-public-bucket/export_gee_to_maap_v2/asset_index_001'\n",
    "    full_index_list = [index for index, row in fishnet_4326.iterrows()]\n",
    "    print(f'{len(full_index_list)}')\n",
    "    if True:\n",
    "        with Pool(processes=30) as pool:\n",
    "            LIST_INDEX_TO_PROCESS = pool.map(partial(find_index_to_process, OUTDIR_TILE=OUTDIR_TILE, DEBUG=True), full_index_list[:1])\n",
    "    else:\n",
    "        LIST_INDEX_TO_PROCESS = [find_index_to_process(index, OUTDIR_TILE=OUTDIR_TILE) for index in full_index_list[-50:]]\n",
    "\n",
    "    LIST_INDEX_TO_PROCESS = [index for index in LIST_INDEX_TO_PROCESS if index is not None]\n",
    "    len(LIST_INDEX_TO_PROCESS)\n",
    "    \n",
    "    LIST_INDEX_TO_PROCESS = [index for index in LIST_INDEX_TO_PROCESS if index is not None]\n",
    "    LIST_INDEX_TO_PROCESS"
   ]
  },
  {
   "cell_type": "markdown",
   "id": "5a9c0518-60b1-40e6-85c9-a96478ae742a",
   "metadata": {},
   "source": [
    "# Local loop per GEE asset tile\n",
    "multi-processes the thousands of subtiles per asset tile  \n",
    "delivers to `asset_tile_<TILE_ILOC>/s1_vv_vh_gamma_2018_pwr_tile<TILE_ILOC>-subtile<zero-padded subtile index number>/*.tif`"
   ]
  },
  {
   "cell_type": "markdown",
   "id": "0dda52c0-753e-40a8-9cae-116b135f3b3a",
   "metadata": {},
   "source": [
    "This provides a strategy for DPS.  \n",
    " - a DPS batch could consist of the downloading and unzipping of the thousands (~3000 - 28000) of subtiles for a batch associated with a single GEE asset tile"
   ]
  },
  {
   "cell_type": "code",
   "execution_count": 12,
   "id": "51c45d60-3fc1-4c01-80d7-9dfd6590207a",
   "metadata": {
    "tags": []
   },
   "outputs": [],
   "source": [
    "#do_gee_download_by_subtile.do_gee_download_by_subtile(index, TILELOC=TILELOC, fishnet=fishnet, asset_df=asset_df, OUTDIR=OUTDIR_TILE)"
   ]
  },
  {
   "cell_type": "markdown",
   "id": "684909ad-7a08-44fd-9c55-1e52a06b0642",
   "metadata": {},
   "source": [
    "### Make a geodataframe of asset footprints"
   ]
  },
  {
   "cell_type": "code",
   "execution_count": 30,
   "id": "be488d93-597f-4834-8ee1-b262f2a40d14",
   "metadata": {
    "tags": []
   },
   "outputs": [],
   "source": [
    "# Get the asset data frame that bounds the tiles of the asset in this image collection\n",
    "asset_df = do_gee_download_by_subtile.get_gee_assets('projects/foreststructure/Circumboreal/S1_Composites_albers')\n",
    "\n",
    "asset_properties_df = pd.DataFrame(asset_df.properties.to_list()).reset_index()\n",
    "asset_properties_geom_data = [shapely.geometry.Polygon(asset_df.properties[x]['system:footprint']['coordinates']) for x in list(range(0, len(asset_df.properties.to_list())))]\n",
    "asset_properties_gdf = gpd.GeoDataFrame(asset_properties_df, crs=4326, geometry=gpd.GeoSeries(asset_properties_geom_data)).drop(['system:footprint'], axis=1)"
   ]
  },
  {
   "cell_type": "code",
   "execution_count": 31,
   "id": "e09576b3-c0ba-4571-af73-39a4a1f02e9d",
   "metadata": {
    "tags": []
   },
   "outputs": [
    {
     "data": {
      "text/plain": [
       "<Axes: >"
      ]
     },
     "execution_count": 31,
     "metadata": {},
     "output_type": "execute_result"
    },
    {
     "data": {
      "image/png": "[encoded data removed]",
      "text/plain": [
       "<Figure size 640x480 with 1 Axes>"
      ]
     },
     "metadata": {},
     "output_type": "display_data"
    }
   ],
   "source": [
    "asset_properties_gdf.plot()"
   ]
  },
  {
   "cell_type": "code",
   "execution_count": 32,
   "id": "c4d62b6a-f44d-46d2-9814-11c42f332e0e",
   "metadata": {
    "tags": []
   },
   "outputs": [],
   "source": [
    "#fishnet_4326.explore()"
   ]
  },
  {
   "cell_type": "code",
   "execution_count": 33,
   "id": "7c8ec9b6-1bb3-44f6-8737-7fc32e8a37d2",
   "metadata": {
    "tags": []
   },
   "outputs": [
    {
     "name": "stdout",
     "output_type": "stream",
     "text": [
      "{0: 1, 1: 2, 2: 3, 3: 4, 4: 5, 5: 6, 6: 7, 7: 8, 8: 9, 9: 10, 10: 101, 11: 102, 12: 103, 13: 104, 14: 105, 15: 106, 16: 107, 17: 108, 18: 109, 19: 11, 20: 110, 21: 12, 22: 13, 23: 14, 24: 15, 25: 16, 26: 17, 27: 18, 28: 19, 29: 20, 30: 21, 31: 22, 32: 23, 33: 24, 34: 25, 35: 26, 36: 27, 37: 28, 38: 29, 39: 30, 40: 31, 41: 32, 42: 33, 43: 34, 44: 35, 45: 36, 46: 37, 47: 38, 48: 39, 49: 40, 50: 41, 51: 42, 52: 43, 53: 44, 54: 45, 55: 46, 56: 47, 57: 48, 58: 49, 59: 50, 60: 51, 61: 52, 62: 53, 63: 54, 64: 55, 65: 56, 66: 57, 67: 58, 68: 59, 69: 60, 70: 61, 71: 62, 72: 63, 73: 64, 74: 65, 75: 66, 76: 67, 77: 68, 78: 69, 79: 70, 80: 71, 81: 72, 82: 73, 83: 74, 84: 75, 85: 76, 86: 77, 87: 78, 88: 79, 89: 80, 90: 81, 91: 82, 92: 83, 93: 84, 94: 85, 95: 86, 96: 87, 97: 88, 98: 89, 99: 90, 100: 91, 101: 92, 102: 95, 103: 96, 104: 97, 105: 98, 106: 99}\n"
     ]
    }
   ],
   "source": [
    "# Notice the AGG_TILE_NUM doesnt match index locs, which is ok\n",
    "agg_tile_num_list =  asset_properties_gdf.AGG_TILE_NUM.to_list()\n",
    "keys = asset_properties_gdf.index.to_list()\n",
    "print(dict(zip(keys, agg_tile_num_list)))"
   ]
  },
  {
   "cell_type": "code",
   "execution_count": null,
   "id": "306e0dea-0686-4ba8-8316-11a285c7d80e",
   "metadata": {
    "tags": []
   },
   "outputs": [],
   "source": [
    "region  = fishnet_df.iloc[0]\n",
    "minx, miny, maxx, maxy = region.geometry.bounds\n",
    "region_ee = ee.Geometry.BBox(minx, miny, maxx, maxy)\n",
    "region_ee"
   ]
  },
  {
   "cell_type": "code",
   "execution_count": null,
   "id": "819d7a95-f8f4-4664-9feb-4bdeea9fe0b8",
   "metadata": {
    "tags": []
   },
   "outputs": [],
   "source": [
    "# Pulled out from loop below for testing\n",
    "do_gee_download_by_subtile.do_gee_download_by_subtile(index, TILELOC=TILELOC, fishnet=fishnet_df, asset_df=asset_df, OUTDIR=OUTDIR_TILE)"
   ]
  },
  {
   "cell_type": "code",
   "execution_count": 196,
   "id": "1f6a6808-b45c-42cd-8f85-059e065d56eb",
   "metadata": {
    "tags": []
   },
   "outputs": [
    {
     "data": {
      "text/plain": [
       "<module 'ee_download' from '/projects/code/icesat2_boreal/lib/ee_download.py'>"
      ]
     },
     "execution_count": 196,
     "metadata": {},
     "output_type": "execute_result"
    }
   ],
   "source": [
    "import do_gee_download_by_subtile\n",
    "import export_gee_to_maap\n",
    "import ee_download\n",
    "\n",
    "import importlib\n",
    "importlib.reload(do_gee_download_by_subtile)\n",
    "importlib.reload(export_gee_to_maap)\n",
    "importlib.reload(ee_download)"
   ]
  },
  {
   "cell_type": "code",
   "execution_count": 197,
   "id": "48d1f4bc-6527-4f2b-ac76-ad4794e9b461",
   "metadata": {
    "tags": []
   },
   "outputs": [
    {
     "data": {
      "text/plain": [
       "'/projects/my-public-bucket/export_gee_to_maap_v2'"
      ]
     },
     "execution_count": 197,
     "metadata": {},
     "output_type": "execute_result"
    }
   ],
   "source": [
    "OUTDIR"
   ]
  },
  {
   "cell_type": "code",
   "execution_count": 198,
   "id": "2355d88a-084f-46a6-ad5b-0e22aa16e9e6",
   "metadata": {
    "tags": []
   },
   "outputs": [
    {
     "name": "stdout",
     "output_type": "stream",
     "text": [
      "GEE Asset tile loc # 3 will go an asset tile dir: s1_vv_vh_gamma_2018_pwr_tile04\n",
      "\tasset id = projects/foreststructure/Circumboreal/S1_Composites_albers/s1_vv_vh_gamma_2018_pwr_tile04\n",
      "\trows = 27478 cols =  27585\n",
      "\t3080 subtiles to process\n",
      "\n",
      "\tSubtile 3 for tile loc 3 to subdir: /projects/my-public-bucket/export_gee_to_maap_v2/s1_vv_vh_gamma_2018_pwr_tile04/s1_vv_vh_gamma_2018_pwr_tile04\n",
      "\tasset id = projects/foreststructure/Circumboreal/S1_Composites_albers/s1_vv_vh_gamma_2018_pwr_tile04\n",
      "\trows = 27478 cols =  27585\n",
      "\tSUBTILE_LOC: 3 : extracted tifs to /projects/my-public-bucket/export_gee_to_maap_v2/s1_vv_vh_gamma_2018_pwr_tile04/s1_vv_vh_gamma_2018_pwr_tile04-subtile000003\n",
      "\n",
      "\tSubtile 4 for tile loc 3 to subdir: /projects/my-public-bucket/export_gee_to_maap_v2/s1_vv_vh_gamma_2018_pwr_tile04/s1_vv_vh_gamma_2018_pwr_tile04\n",
      "\tasset id = projects/foreststructure/Circumboreal/S1_Composites_albers/s1_vv_vh_gamma_2018_pwr_tile04\n",
      "\trows = 27478 cols =  27585\n",
      "\tSUBTILE_LOC: 4 : extracted tifs to /projects/my-public-bucket/export_gee_to_maap_v2/s1_vv_vh_gamma_2018_pwr_tile04/s1_vv_vh_gamma_2018_pwr_tile04-subtile000004\n",
      "\n",
      "\tSubtile 5 for tile loc 3 to subdir: /projects/my-public-bucket/export_gee_to_maap_v2/s1_vv_vh_gamma_2018_pwr_tile04/s1_vv_vh_gamma_2018_pwr_tile04\n",
      "\tasset id = projects/foreststructure/Circumboreal/S1_Composites_albers/s1_vv_vh_gamma_2018_pwr_tile04\n",
      "\trows = 27478 cols =  27585\n",
      "\tSUBTILE_LOC: 5 : extracted tifs to /projects/my-public-bucket/export_gee_to_maap_v2/s1_vv_vh_gamma_2018_pwr_tile04/s1_vv_vh_gamma_2018_pwr_tile04-subtile000005\n",
      "\n",
      "\tSubtile 6 for tile loc 3 to subdir: /projects/my-public-bucket/export_gee_to_maap_v2/s1_vv_vh_gamma_2018_pwr_tile04/s1_vv_vh_gamma_2018_pwr_tile04\n",
      "\tasset id = projects/foreststructure/Circumboreal/S1_Composites_albers/s1_vv_vh_gamma_2018_pwr_tile04\n",
      "\trows = 27478 cols =  27585\n",
      "\tSUBTILE_LOC: 6 : extracted tifs to /projects/my-public-bucket/export_gee_to_maap_v2/s1_vv_vh_gamma_2018_pwr_tile04/s1_vv_vh_gamma_2018_pwr_tile04-subtile000006\n",
      "\n",
      "\tSubtile 55 for tile loc 3 to subdir: /projects/my-public-bucket/export_gee_to_maap_v2/s1_vv_vh_gamma_2018_pwr_tile04/s1_vv_vh_gamma_2018_pwr_tile04\n",
      "\tasset id = projects/foreststructure/Circumboreal/S1_Composites_albers/s1_vv_vh_gamma_2018_pwr_tile04\n",
      "\trows = 27478 cols =  27585\n",
      "\tSUBTILE_LOC: 55 : extracted tifs to /projects/my-public-bucket/export_gee_to_maap_v2/s1_vv_vh_gamma_2018_pwr_tile04/s1_vv_vh_gamma_2018_pwr_tile04-subtile000055\n",
      "\n",
      "\tSubtile 56 for tile loc 3 to subdir: /projects/my-public-bucket/export_gee_to_maap_v2/s1_vv_vh_gamma_2018_pwr_tile04/s1_vv_vh_gamma_2018_pwr_tile04\n",
      "\tasset id = projects/foreststructure/Circumboreal/S1_Composites_albers/s1_vv_vh_gamma_2018_pwr_tile04\n",
      "\trows = 27478 cols =  27585\n",
      "\tSUBTILE_LOC: 56 : extracted tifs to /projects/my-public-bucket/export_gee_to_maap_v2/s1_vv_vh_gamma_2018_pwr_tile04/s1_vv_vh_gamma_2018_pwr_tile04-subtile000056\n",
      "\n",
      "\tSubtile 57 for tile loc 3 to subdir: /projects/my-public-bucket/export_gee_to_maap_v2/s1_vv_vh_gamma_2018_pwr_tile04/s1_vv_vh_gamma_2018_pwr_tile04\n",
      "\tasset id = projects/foreststructure/Circumboreal/S1_Composites_albers/s1_vv_vh_gamma_2018_pwr_tile04\n",
      "\trows = 27478 cols =  27585\n",
      "\tSUBTILE_LOC: 57 : extracted tifs to /projects/my-public-bucket/export_gee_to_maap_v2/s1_vv_vh_gamma_2018_pwr_tile04/s1_vv_vh_gamma_2018_pwr_tile04-subtile000057\n",
      "\n",
      "\tSubtile 58 for tile loc 3 to subdir: /projects/my-public-bucket/export_gee_to_maap_v2/s1_vv_vh_gamma_2018_pwr_tile04/s1_vv_vh_gamma_2018_pwr_tile04\n",
      "\tasset id = projects/foreststructure/Circumboreal/S1_Composites_albers/s1_vv_vh_gamma_2018_pwr_tile04\n",
      "\trows = 27478 cols =  27585\n",
      "\tSUBTILE_LOC: 58 : extracted tifs to /projects/my-public-bucket/export_gee_to_maap_v2/s1_vv_vh_gamma_2018_pwr_tile04/s1_vv_vh_gamma_2018_pwr_tile04-subtile000058\n",
      "CPU times: user 1.34 s, sys: 293 ms, total: 1.64 s\n",
      "Wall time: 1min 15s\n"
     ]
    }
   ],
   "source": [
    "%%time\n",
    "\n",
    "ASSET_PATH = 'projects/foreststructure/Circumboreal/S1_Composites_albers'\n",
    "\n",
    "# Append indiv asset tile gdf to this list to concat into a final gdf of all subtiles from all asset tiles\n",
    "fishnet_4326_list = []\n",
    "\n",
    "#for TILELOC in asset_df.index.to_list():\n",
    "for TILELOC in [3]:\n",
    "    \n",
    "    #### IF DPSing by subtile, you need TILELOC and ASSET_PATH to get gee asset_df and the tile fishnet even before you call 'do_gee_download_by_subtile'\n",
    "    \n",
    "    # We need this asset_df to know how to loop over asset tiles - but the script also needs it during processing and to use it to build a fishnet_df \n",
    "    asset_df = do_gee_download_by_subtile.get_gee_assets(ASSET_PATH)\n",
    "    ASSET_TILE_NAME = os.path.basename(asset_df.id.to_list()[TILELOC])\n",
    "    \n",
    "    # --- THIS IS NOW MADE IN do_gee_download_by_subtile\n",
    "    # Make asset tile subdir\n",
    "    OUTDIR_TILE = os.path.join(OUTDIR, ASSET_TILE_NAME)\n",
    "    if not os.path.exists(OUTDIR_TILE):\n",
    "        os.makedirs(OUTDIR_TILE)\n",
    "    \n",
    "    #print(f'GEE Asset tile loc position # {TILELOC} in subdir: {OUTDIR_TILE}')\n",
    "    print(f'GEE Asset tile loc # {TILELOC} will go an asset tile dir: {ASSET_TILE_NAME}')\n",
    "    \n",
    "    fishnet_df = do_gee_download_by_subtile.create_fishnet(asset_df, TILELOC, 500)\n",
    "    fishnet_df['subtile'] = fishnet_df.index\n",
    "    fishnet_df['tile'] = TILELOC\n",
    "    \n",
    "    # iterate over fishnet and import GEE image\n",
    "    fishnet_4326 = fishnet_df.to_crs(\"EPSG:4326\")\n",
    "    \n",
    "    ## This will multprocess the glob for unfinished subtiles\n",
    "    # Get full index list\n",
    "    LIST_INDEX_TO_PROCESS = [index for index, row in fishnet_4326.iterrows()]\n",
    "    \n",
    "    if False:\n",
    "        # Only needed to eliminate replication of subtile processing during local re-runs across an asset tile\n",
    "        with Pool(processes=25) as pool:\n",
    "            LIST_INDEX_TO_PROCESS = pool.map(partial(find_index_to_process, OUTDIR_TILE=OUTDIR_TILE), LIST_INDEX_TO_PROCESS)\n",
    "\n",
    "        # Get rid of Nones in list\n",
    "        LIST_INDEX_TO_PROCESS = [index for index in LIST_INDEX_TO_PROCESS if index is not None]\n",
    "    \n",
    "    print(f'\\t{len(LIST_INDEX_TO_PROCESS)} subtiles to process')\n",
    "    \n",
    "    #\n",
    "    # Process the subtile download for this GEE asset tile\n",
    "    # note: both cause transport endpoint disconnects... need to DPS\n",
    "    # replace this with maap.submitJob()\n",
    "    # \n",
    "    if True:\n",
    "        # Loop\n",
    "        #for index in LIST_INDEX_TO_PROCESS: #<------------CHANGE THIS AFTER TESTS\n",
    "        LIST_FOR_TEST = [LIST_INDEX_TO_PROCESS[x] for x in list(range(3,7))+list(range(55,59)) ]\n",
    "        for index in LIST_FOR_TEST:\n",
    "            args = ''\n",
    "            if False:\n",
    "                # Test of imported function\n",
    "                #do_gee_download_by_subtile.do_gee_download_by_subtile(index, TILELOC=TILELOC, fishnet=fishnet_df, asset_df=asset_df, OUTDIR=OUTDIR_TILE)\n",
    "                do_gee_download_by_subtile.do_gee_download_by_subtile(SUBTILE_LOC=index, TILELOC=TILELOC, ASSET_PATH=ASSET_PATH, OUTDIR=OUTDIR_TILE)\n",
    "            else:\n",
    "                # Test of cmd line main function\n",
    "                args += f'--subtile_loc {index} '\n",
    "                args += f'--tile_loc {TILELOC} '\n",
    "                args += f'--asset_path {ASSET_PATH} '\n",
    "                args += f'--out_dir {OUTDIR_TILE} '\n",
    "                !python /projects/code/icesat2_boreal/lib/do_gee_download_by_subtile.py $args\n",
    "    else:\n",
    "        # Multiprocess\n",
    "        with Pool(processes=25) as pool:\n",
    "            fails = pool.map(partial(do_gee_download_by_subtile.do_gee_download_by_subtile, TILELOC=TILELOC, fishnet=fishnet_df, asset_df=asset_df, OUTDIR=OUTDIR_TILE ), LIST_INDEX_TO_PROCESS)\n",
    "\n",
    "    fishnet_4326_list.append(fishnet_4326)\n",
    "\n",
    "final_fishnet_gdf = pd.concat(fishnet_4326_list)\n",
    "final_fishnet_gdf.to_file(os.path.join(OUTDIR, 'final_fishnet.gpkg'), driver='GPKG')"
   ]
  },
  {
   "cell_type": "code",
   "execution_count": null,
   "id": "1450b6de-e634-4767-916c-563683adf3ae",
   "metadata": {
    "tags": []
   },
   "outputs": [],
   "source": []
  },
  {
   "cell_type": "code",
   "execution_count": 195,
   "id": "5b6a099d-513a-48c5-98e3-4f983e50f70c",
   "metadata": {
    "tags": []
   },
   "outputs": [],
   "source": [
    "S3_PATH = f's3://maap-ops-workspace/shared/montesano/{os.path.basename(OUTDIR)}/'\n",
    "!aws s3 rm --quiet --recursive $S3_PATH\n",
    "!mkdir -p $OUTDIR"
   ]
  },
  {
   "cell_type": "markdown",
   "id": "05e74d85-fa53-41e9-89b7-078934cd9739",
   "metadata": {},
   "source": [
    "# TODO - set this up according to DPS strategy.. "
   ]
  },
  {
   "cell_type": "code",
   "execution_count": null,
   "id": "44ba70a8-935d-44be-adae-ce3fb3b02201",
   "metadata": {
    "tags": []
   },
   "outputs": [],
   "source": [
    "%%time\n",
    "submit_results_df_list = []\n",
    "len_input_list = len(DPS_INPUT_TILE_NUM_LIST)\n",
    "print(f\"# of input tiles for DPS: {len_input_list}\")\n",
    "\n",
    "for i, INPUT_TILE_NUM in enumerate(list(range(0,52))):\n",
    "\n",
    "    DPS_num = i+1\n",
    "    IDENTIFIER = IDENTIFIER \n",
    "    ALGO_ID = \"do_gee_download_subtile_v1\"\n",
    "    USER = 'montesano'\n",
    "    WORKER_TYPE = 'maap-dps-worker-16gb'\n",
    "    \n",
    "    in_param_dict = {\n",
    "                         'tile_num': ,\n",
    "                         'dims': 500,\n",
    "                         'asset_path': 'projects/foreststructure/Circumboreal/S1_Composites_albers'\n",
    "                        \n",
    "        }\n",
    "        \n",
    "    submit_result = maap.submitJob(\n",
    "                                    identifier=IDENTIFIER,\n",
    "                                    algo_id=ALGO_ID,\n",
    "                                    version=MAAP_VERSION, # \"HLS_stack_2023_v1\"\n",
    "                                    username=USER,\n",
    "                                    queue=WORKER_TYPE,\n",
    "                                    # Args that match yaml\n",
    "                                    **in_param_dict\n",
    "        )\n",
    "    \n",
    "    # Build a dataframe of submission details\n",
    "    submit_result_df = pd.DataFrame( \n",
    "        {\n",
    "                'dps_num':[DPS_num],\n",
    "                'tile_num':[INPUT_TILE_NUM],\n",
    "                'submit_time':[datetime.datetime.now()],\n",
    "                'dbs_job_hour': [datetime.datetime.now().hour],\n",
    "                'algo_id': [ALGO_ID],\n",
    "                'user': [USER],\n",
    "                'worker_type': [WORKER_TYPE],\n",
    "                'job_id': [submit_result.id],\n",
    "                'submit_status': [submit_result.retrieve_status()],\n",
    "            \n",
    "        } \n",
    "    )\n",
    "    \n",
    "    # Append to a list of data frames of submission results\n",
    "    submit_results_df_list.append(submit_result_df)\n",
    "    \n",
    "    if DPS_num in [1, 5, 10, 50, 100, 250, 500, 750, 1000, 1500, 2000, 2500, 3000, 3500, 4000, 4500, 5000, 7000, 9000, 11000, 13000, 15000, 17000, 19000, 21000, 24000, len_input_list]:\n",
    "        print(f\"DPS run #: {DPS_num}\\t| tile num: {INPUT_TILE_NUM}\\t| submit status: {submit_result.retrieve_status()}\\t| job id: {submit_result.id}\") \n",
    "        \n",
    "# Build a final submission results df and save\n",
    "submit_results_df = pd.concat(submit_results_df_list)\n",
    "submit_results_df['run_name'] = RUN_NAME\n",
    "nowtime = pd.Timestamp.now().strftime('%Y%m%d%H%M')\n",
    "print(f\"Current time:\\t{nowtime}\")\n",
    "submit_results_df.to_csv(f'/projects/my-public-bucket/dps_submission_results/DPS_{ALGO_ID}_{RUN_NAME}_submission_results_{len_input_list}_{nowtime}.csv')\n",
    "submit_results_df.info()"
   ]
  }
 ],
 "metadata": {
  "kernelspec": {
   "display_name": "Python 3 (ipykernel)",
   "language": "python",
   "name": "python3"
  },
  "language_info": {
   "codemirror_mode": {
    "name": "ipython",
    "version": 3
   },
   "file_extension": ".py",
   "mimetype": "text/x-python",
   "name": "python",
   "nbconvert_exporter": "python",
   "pygments_lexer": "ipython3",
   "version": "3.10.8"
  }
 },
 "nbformat": 4,
 "nbformat_minor": 5
}
