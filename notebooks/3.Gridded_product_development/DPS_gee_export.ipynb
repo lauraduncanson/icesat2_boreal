{
 "cells": [
  {
   "cell_type": "code",
   "execution_count": 3,
   "id": "faff74b9-c6ff-4126-bdd4-bce0f962aa67",
   "metadata": {
    "tags": []
   },
   "outputs": [],
   "source": [
    "from maap.maap import MAAP\n",
    "maap = MAAP()"
   ]
  },
  {
   "cell_type": "markdown",
   "id": "134e71b5-9b53-47cd-a14b-c1c4f5fba92b",
   "metadata": {},
   "source": [
    "# DPS the export of Google Earth Engine assets to MAAP\n",
    "\n",
    "These assets were created and exported by tile via a loop in Google Earth Engine here:  \n",
    "https://code.earthengine.google.com/?scriptPath=users%2Fmmacander%2Fveg_structure%3Asentinel_1%2Fseasonal_s1_tile_export_v2  \n",
    "old version:  \n",
    "https://code.earthengine.google.com/?scriptPath=users%2Fpaulmontesano%2Fdefault%3Aseasonal_s1_tile_export\n",
    "\n",
    "and can be viewed here:  \n",
    "https://code.earthengine.google.com/?scriptPath=users%2Fpaulmontesano%2Fdefault%3Aseasonal_s1_view\n",
    "\n",
    "Here, the composites are created and shown on-the-fly:  \n",
    "https://code.earthengine.google.com/?scriptPath=users%2Fpaulmontesano%2Fdefault%3Aseasonal_s1_comps"
   ]
  },
  {
   "cell_type": "code",
   "execution_count": 2,
   "id": "7de2ce36-ba9b-4cc6-a564-2870ef776cd1",
   "metadata": {
    "tags": []
   },
   "outputs": [
    {
     "name": "stdout",
     "output_type": "stream",
     "text": [
      "NASA MAAP\n"
     ]
    }
   ],
   "source": [
    "import ee\n",
    "import numpy as np\n",
    "import geopandas as gpd\n",
    "import pandas as pd\n",
    "import shapely\n",
    "import glob\n",
    "import os\n",
    "from shapely.geometry import Polygon\n",
    "from shapely.geometry import box\n",
    "import matplotlib\n",
    "import matplotlib.pyplot as plt\n",
    "import rasterio as rio\n",
    "import sys\n",
    "sys.path.append('/projects/code/icesat2_boreal/lib')\n",
    "import ExtractUtils\n",
    "\n",
    "import datetime\n"
   ]
  },
  {
   "cell_type": "code",
   "execution_count": 3,
   "id": "0556f0fb-2896-4a90-adc8-d4aee51bd7d7",
   "metadata": {
    "tags": []
   },
   "outputs": [],
   "source": [
    "#!aws s3 rm --recursive s3://maap-ops-workspace/montesano/dps_output/do_gee_download_by_subtile/EXPORT_GEE_v2/SAR_S1_2018/2023"
   ]
  },
  {
   "cell_type": "markdown",
   "id": "dce698a2-8f6c-4d8a-b32a-c78db4189911",
   "metadata": {},
   "source": [
    "## Authenticate current access to Google Earth Engine\n",
    "Make a current credentials file; copy it to private bucket; get its s3 path to pass to script "
   ]
  },
  {
   "cell_type": "code",
   "execution_count": 6,
   "id": "d27b0756-24f2-42d4-ae65-4f58c809703d",
   "metadata": {
    "tags": []
   },
   "outputs": [
    {
     "data": {
      "text/html": [
       "<p>To authorize access needed by Earth Engine, open the following\n",
       "        URL in a web browser and follow the instructions:</p>\n",
       "        <p><a href=https://code.earthengine.google.com/client-auth?scopes=https%3A//www.googleapis.com/auth/earthengine%20https%3A//www.googleapis.com/auth/devstorage.full_control&request_id=9jKu7xe5AWW2RUeJH0CErCHvSKv7MHS3UDbiT1RhN7I&tc=eG_Fu8ty8y285KqpLjmT1lE9yVntxonRczR9O0VY2C4&cc=326kjCdFrjveqNEWMpx7JngH9e-7ymGyYKmNoxDgVDU>https://code.earthengine.google.com/client-auth?scopes=https%3A//www.googleapis.com/auth/earthengine%20https%3A//www.googleapis.com/auth/devstorage.full_control&request_id=9jKu7xe5AWW2RUeJH0CErCHvSKv7MHS3UDbiT1RhN7I&tc=eG_Fu8ty8y285KqpLjmT1lE9yVntxonRczR9O0VY2C4&cc=326kjCdFrjveqNEWMpx7JngH9e-7ymGyYKmNoxDgVDU</a></p>\n",
       "        <p>The authorization workflow will generate a code, which you should paste in the box below.</p>\n",
       "        "
      ],
      "text/plain": [
       "<IPython.core.display.HTML object>"
      ]
     },
     "metadata": {},
     "output_type": "display_data"
    },
    {
     "name": "stdin",
     "output_type": "stream",
     "text": [
      "Enter verification code:  4/1AfJohXln0jsm3Nl_Bgx8Qh8laWLMxSr07CDCTXhiUS0_Xp5PNmOMBiKk05Q\n"
     ]
    },
    {
     "name": "stdout",
     "output_type": "stream",
     "text": [
      "\n",
      "Successfully saved authorization token.\n"
     ]
    }
   ],
   "source": [
    "ee.Authenticate()"
   ]
  },
  {
   "cell_type": "code",
   "execution_count": 4,
   "id": "e44ae63e-203b-4d5a-bf93-927296f81a3b",
   "metadata": {
    "tags": []
   },
   "outputs": [],
   "source": [
    "USER = 'montesano' #'nathanmthomas'\n",
    "#!mkdir -p $HOME/my-private-bucket/GEE/"
   ]
  },
  {
   "cell_type": "code",
   "execution_count": 5,
   "id": "23267b0e-9d5e-49e6-aeff-68ce8cceac8e",
   "metadata": {
    "tags": []
   },
   "outputs": [],
   "source": [
    "!cp $HOME/.config/earthengine/credentials $HOME/my-private-bucket/"
   ]
  },
  {
   "cell_type": "code",
   "execution_count": 6,
   "id": "e75492d1-7330-4b15-8022-1a45ec95a6f9",
   "metadata": {
    "tags": []
   },
   "outputs": [
    {
     "data": {
      "text/plain": [
       "'https://maap-ops-workspace.s3.amazonaws.com/montesano/credentials'"
      ]
     },
     "execution_count": 6,
     "metadata": {},
     "output_type": "execute_result"
    }
   ],
   "source": [
    "creds_fn = f'https://maap-ops-workspace.s3.amazonaws.com/{USER}/credentials'\n",
    "creds_fn"
   ]
  },
  {
   "cell_type": "markdown",
   "id": "9dc791c9-3983-4507-80ac-21b22415dbc8",
   "metadata": {},
   "source": [
    "## Steps to commit, build DPS registration yaml, register DPS algorithm from yaml\n",
    "### Commit with Tag for running\n",
    "1) Add version name as a *tag_name* of `EXPORT_GEE_v1` or whatever is appropriate - both to this notebook and algorithm config yaml\n",
    "\n",
    "2) follow git instructions (every time!!):  \n",
    " - git add changes  \n",
    " - git commit -m 'message'  \n",
    " - git tag -f `EXPORT_GEE_v2`    \n",
    " - git push  \n",
    " - git push origin -f `EXPORT_GEE_v2`  \n",
    "        # --push to gitlab no longer needed --   \n",
    "        # git push dps    \n",
    "        # git push dps -f `EXPORT_GEE_v2`    \n",
    "\n",
    "3) if it looks weird check git log to make sure tag is at same place as origin and dps"
   ]
  },
  {
   "cell_type": "markdown",
   "id": "ce010981-79b0-4bbe-90e0-f881bf2f3e3c",
   "metadata": {},
   "source": [
    "### Build DPS Registration yaml  \n",
    "- use MAAP Register Algorithm tool  \n",
    "- refer to `code/icesat2_boreal/dps/registered/do_export_gee_to_maap.yml` for existing template  \n",
    "- update reg yaml repository url to the github url (gitlab no longer needed) \n",
    "- update `above_env.yml` and `build_command_main.sh` to include all pinned versions of packages - to ensure stability of env for this alg  "
   ]
  },
  {
   "cell_type": "markdown",
   "id": "9bb0a0ed-5875-4049-b7be-5e005a7b9453",
   "metadata": {},
   "source": [
    "# Register algorithm for DPS"
   ]
  },
  {
   "cell_type": "markdown",
   "id": "b0df7662-b8a6-4cf5-a525-2092d65de346",
   "metadata": {},
   "source": [
    "### Use Registration yaml: Register DPS algorithm\n",
    " - We need to register the DPS algorithm before proceeding to the chunks below..."
   ]
  },
  {
   "cell_type": "code",
   "execution_count": 234,
   "id": "d1dd19a1-fc8d-473f-b650-3d2460d7736f",
   "metadata": {
    "tags": []
   },
   "outputs": [
    {
     "data": {
      "text/plain": [
       "'{\"code\": 200, \"message\": {\"id\": \"d646cc702fadf2556197a5bae06aa5119983d069\", \"short_id\": \"d646cc70\", \"created_at\": \"2023-10-10T20:01:10.000+00:00\", \"parent_ids\": [\"a2819add25170aee1ffaa656f1fabae2d8a42add\"], \"title\": \"Registering algorithm: do_gee_download_by_subtile\", \"message\": \"Registering algorithm: do_gee_download_by_subtile\", \"author_name\": \"root\", \"author_email\": \"root@d77d51470ba9\", \"authored_date\": \"2023-10-10T20:01:10.000+00:00\", \"committer_name\": \"root\", \"committer_email\": \"root@d77d51470ba9\", \"committed_date\": \"2023-10-10T20:01:10.000+00:00\", \"trailers\": {}, \"web_url\": \"https://repo.maap-project.org/root/register-job-hysds-v4/-/commit/d646cc702fadf2556197a5bae06aa5119983d069\", \"stats\": {\"additions\": 2, \"deletions\": 2, \"total\": 4}, \"status\": \"pending\", \"project_id\": 3, \"last_pipeline\": {\"id\": 8459, \"iid\": 240, \"project_id\": 3, \"sha\": \"d646cc702fadf2556197a5bae06aa5119983d069\", \"ref\": \"main\", \"status\": \"pending\", \"source\": \"push\", \"created_at\": \"2023-10-10T20:01:11.660Z\", \"updated_at\": \"2023-10-10T20:01:12.162Z\", \"web_url\": \"https://repo.maap-project.org/root/register-job-hysds-v4/-/pipelines/8459\"}, \"job_web_url\": \"https://repo.maap-project.org/root/register-job-hysds-v4/-/jobs/8644\", \"job_log_url\": \"https://repo.maap-project.org/root/register-job-hysds-v4/-/jobs/8644/raw\"}}\\n'"
      ]
     },
     "execution_count": 234,
     "metadata": {},
     "output_type": "execute_result"
    }
   ],
   "source": [
    "maap.register_algorithm_from_yaml_file(\"/projects/code/icesat2_boreal/dps/registered/do_gee_download_by_subtile.yml\").text"
   ]
  },
  {
   "cell_type": "markdown",
   "id": "05e74d85-fa53-41e9-89b7-078934cd9739",
   "metadata": {},
   "source": [
    "# DPS test"
   ]
  },
  {
   "cell_type": "markdown",
   "id": "affeee3c-a2c2-4cf2-bfe1-855c02efbc46",
   "metadata": {},
   "source": [
    "### Use MAAP gui to View & Submit a single test job\n",
    "check status here"
   ]
  },
  {
   "cell_type": "code",
   "execution_count": 7,
   "id": "5fb1100d-48dc-4c15-90ce-8727b0e27330",
   "metadata": {
    "tags": []
   },
   "outputs": [],
   "source": [
    "# MAAP algorithm version name\n",
    "MAAP_VERSION = \"EXPORT_GEE_v2\""
   ]
  },
  {
   "cell_type": "code",
   "execution_count": 8,
   "id": "f725a351-db4a-4bc0-967c-18ae761b0d08",
   "metadata": {},
   "outputs": [
    {
     "name": "stdout",
     "output_type": "stream",
     "text": [
      "CPU times: user 27.5 ms, sys: 0 ns, total: 27.5 ms\n",
      "Wall time: 127 ms\n"
     ]
    }
   ],
   "source": [
    "%%time\n",
    "submitted_job_dict = maap.submitJob(\n",
    "                identifier='TEST_SAR_S1_2018',\n",
    "                algo_id=\"do_gee_download_by_subtile\",\n",
    "                version=MAAP_VERSION,\n",
    "               username=\"montesano\",\n",
    "               queue=\"maap-dps-worker-8gb\",\n",
    "               creds_fn = 's3://maap-ops-workspace/montesano/credentials',\n",
    "               subtile_loc=\"2\",\n",
    "               id_num=\"3\",\n",
    "               id_col='AGG_TILE_NUM',\n",
    "               tile_size_m=500,\n",
    "               asset_path=\"projects/foreststructure/Circumboreal/S1_Composites_albers\",\n",
    "               out_dir=\"''\")"
   ]
  },
  {
   "cell_type": "code",
   "execution_count": 64,
   "id": "203a8de2-1bda-4293-b297-486569570aa3",
   "metadata": {
    "tags": []
   },
   "outputs": [
    {
     "data": {
      "text/plain": [
       "'success'"
      ]
     },
     "execution_count": 64,
     "metadata": {},
     "output_type": "execute_result"
    }
   ],
   "source": [
    "submitted_job_dict.status"
   ]
  },
  {
   "cell_type": "code",
   "execution_count": 65,
   "id": "c151b045-25fc-4d89-b8ee-2287aac22282",
   "metadata": {
    "tags": []
   },
   "outputs": [
    {
     "data": {
      "text/plain": [
       "'1f339f6a-dc85-45b8-9c18-508540fc7ee1'"
      ]
     },
     "execution_count": 65,
     "metadata": {},
     "output_type": "execute_result"
    }
   ],
   "source": [
    "submitted_job_dict.id"
   ]
  },
  {
   "cell_type": "code",
   "execution_count": 68,
   "id": "95b62932-5364-4378-8a48-f2f1b1c9f04f",
   "metadata": {
    "tags": []
   },
   "outputs": [
    {
     "name": "stdout",
     "output_type": "stream",
     "text": [
      "{'job_id': '1f339f6a-dc85-45b8-9c18-508540fc7ee1', 'status': 'success', 'machine_type': None, 'architecture': None, 'machine_memory_size': None, 'directory_size': None, 'operating_system': None, 'job_start_time': None, 'job_end_time': None, 'job_duration_seconds': None, 'cpu_usage': None, 'cache_usage': None, 'mem_usage': None, 'max_mem_usage': None, 'swap_usage': None, 'read_io_stats': None, 'write_io_stats': None, 'sync_io_stats': None, 'async_io_stats': None, 'total_io_stats': None, 'error_details': None, 'response_code': 200, 'outputs': []}\n"
     ]
    }
   ],
   "source": [
    "print(submitted_job_dict)"
   ]
  },
  {
   "cell_type": "markdown",
   "id": "0f595a91-d0f6-447a-a1af-c1cb5e1e13b3",
   "metadata": {},
   "source": [
    "# DPS\n",
    "### Fishnet of subtiles needed on the fly for each agg tile"
   ]
  },
  {
   "cell_type": "code",
   "execution_count": 23,
   "id": "06744431-a6d4-45b5-83f6-29ee5d2c9a28",
   "metadata": {
    "tags": []
   },
   "outputs": [
    {
     "data": {
      "text/plain": [
       "<module 'do_gee_download_by_subtile' from '/projects/code/icesat2_boreal/lib/do_gee_download_by_subtile.py'>"
      ]
     },
     "execution_count": 23,
     "metadata": {},
     "output_type": "execute_result"
    }
   ],
   "source": [
    "import importlib\n",
    "import do_gee_download_by_subtile\n",
    "importlib.reload(do_gee_download_by_subtile)"
   ]
  },
  {
   "cell_type": "code",
   "execution_count": 11,
   "id": "265c9d4b-a70a-47c9-b9f4-e9ad87546b48",
   "metadata": {
    "tags": []
   },
   "outputs": [],
   "source": [
    "CREDS_FN = 's3://maap-ops-workspace/montesano/credentials'"
   ]
  },
  {
   "cell_type": "code",
   "execution_count": 12,
   "id": "532fff11-bed6-4445-baa0-b2e23be8b328",
   "metadata": {
    "tags": []
   },
   "outputs": [],
   "source": [
    "MAAP_VERSION = \"EXPORT_GEE_v2\"\n",
    "IDENTIFIER = 'SAR_S1_2018'\n",
    "ALGO_ID = \"do_gee_download_by_subtile\"\n",
    "USER = 'montesano'\n",
    "WORKER_TYPE = 'maap-dps-worker-8gb'"
   ]
  },
  {
   "cell_type": "markdown",
   "id": "774126e0-da70-4215-a0be-0d60a10413ba",
   "metadata": {},
   "source": [
    "## Multiprocess DPS submission\n",
    "Might be the best way of doing this"
   ]
  },
  {
   "cell_type": "code",
   "execution_count": 13,
   "id": "d950e8c4-1666-48aa-bb37-a3d1f03b8b44",
   "metadata": {
    "tags": []
   },
   "outputs": [],
   "source": [
    "#### If DPSing by subtile, you need ASSET_PATH to get gee asset_df and TILELOC to get the tile form asset_df to make its fishnet even before you call 'do_gee_download_by_subtile'\n",
    "ASSET_PATH = 'projects/foreststructure/Circumboreal/S1_Composites_albers'\n",
    "\n",
    "# We need this asset_df to know how to loop over asset tiles - but the script also needs it during processing and to use it to build a fishnet_df \n",
    "asset_df = do_gee_download_by_subtile.get_gee_assets(ASSET_PATH)\n",
    "asset_df = pd.concat([asset_df.drop(['properties'], axis=1), asset_df['properties'].apply(pd.Series)], axis=1) # makes the AGG_TILE_NUM field available\n",
    "\n",
    "TILE_FIELD_NAME = 'AGG_TILE_NUM'\n",
    "TILE_SIZE_M = 500"
   ]
  },
  {
   "cell_type": "markdown",
   "id": "99832ab4-11eb-410b-80f3-15aaa1a79536",
   "metadata": {},
   "source": [
    "### Build list of params for DPS submission"
   ]
  },
  {
   "cell_type": "code",
   "execution_count": 47,
   "id": "9ae5009f-a362-471d-b416-2410a0d586fe",
   "metadata": {
    "tags": []
   },
   "outputs": [
    {
     "name": "stdout",
     "output_type": "stream",
     "text": [
      "GEE Asset tile #: 1 name: s1_vv_vh_gamma_2018_pwr_tile01 # of input subtiles for DPS: 3136 (subtile size = 500m)\n",
      "GEE Asset tile #: 2 name: s1_vv_vh_gamma_2018_pwr_tile02 # of input subtiles for DPS: 3136 (subtile size = 500m)\n",
      "GEE Asset tile #: 3 name: s1_vv_vh_gamma_2018_pwr_tile03 # of input subtiles for DPS: 3136 (subtile size = 500m)\n",
      "GEE Asset tile #: 4 name: s1_vv_vh_gamma_2018_pwr_tile04 # of input subtiles for DPS: 3080 (subtile size = 500m)\n",
      "GEE Asset tile #: 5 name: s1_vv_vh_gamma_2018_pwr_tile05 # of input subtiles for DPS: 3080 (subtile size = 500m)\n",
      "GEE Asset tile #: 6 name: s1_vv_vh_gamma_2018_pwr_tile06 # of input subtiles for DPS: 3080 (subtile size = 500m)\n",
      "GEE Asset tile #: 7 name: s1_vv_vh_gamma_2018_pwr_tile07 # of input subtiles for DPS: 3080 (subtile size = 500m)\n",
      "GEE Asset tile #: 8 name: s1_vv_vh_gamma_2018_pwr_tile08 # of input subtiles for DPS: 3136 (subtile size = 500m)\n",
      "GEE Asset tile #: 9 name: s1_vv_vh_gamma_2018_pwr_tile09 # of input subtiles for DPS: 3136 (subtile size = 500m)\n",
      "GEE Asset tile #: 10 name: s1_vv_vh_gamma_2018_pwr_tile10 # of input subtiles for DPS: 3136 (subtile size = 500m)\n",
      "GEE Asset tile #: 11 name: s1_vv_vh_gamma_2018_pwr_tile11 # of input subtiles for DPS: 3136 (subtile size = 500m)\n",
      "GEE Asset tile #: 12 name: s1_vv_vh_gamma_2018_pwr_tile12 # of input subtiles for DPS: 3080 (subtile size = 500m)\n",
      "GEE Asset tile #: 13 name: s1_vv_vh_gamma_2018_pwr_tile13 # of input subtiles for DPS: 1375 (subtile size = 500m)\n",
      "GEE Asset tile #: 14 name: s1_vv_vh_gamma_2018_pwr_tile14 # of input subtiles for DPS: 1375 (subtile size = 500m)\n",
      "GEE Asset tile #: 15 name: s1_vv_vh_gamma_2018_pwr_tile15 # of input subtiles for DPS: 3080 (subtile size = 500m)\n",
      "GEE Asset tile #: 16 name: s1_vv_vh_gamma_2018_pwr_tile16 # of input subtiles for DPS: 3136 (subtile size = 500m)\n",
      "GEE Asset tile #: 17 name: s1_vv_vh_gamma_2018_pwr_tile17 # of input subtiles for DPS: 3136 (subtile size = 500m)\n",
      "GEE Asset tile #: 18 name: s1_vv_vh_gamma_2018_pwr_tile18 # of input subtiles for DPS: 3136 (subtile size = 500m)\n",
      "GEE Asset tile #: 19 name: s1_vv_vh_gamma_2018_pwr_tile19 # of input subtiles for DPS: 3136 (subtile size = 500m)\n",
      "GEE Asset tile #: 20 name: s1_vv_vh_gamma_2018_pwr_tile20 # of input subtiles for DPS: 3080 (subtile size = 500m)\n",
      "GEE Asset tile #: 21 name: s1_vv_vh_gamma_2018_pwr_tile21 # of input subtiles for DPS: 3080 (subtile size = 500m)\n",
      "GEE Asset tile #: 22 name: s1_vv_vh_gamma_2018_pwr_tile22 # of input subtiles for DPS: 3136 (subtile size = 500m)\n",
      "GEE Asset tile #: 23 name: s1_vv_vh_gamma_2018_pwr_tile23 # of input subtiles for DPS: 3136 (subtile size = 500m)\n",
      "GEE Asset tile #: 24 name: s1_vv_vh_gamma_2018_pwr_tile24 # of input subtiles for DPS: 3136 (subtile size = 500m)\n",
      "GEE Asset tile #: 25 name: s1_vv_vh_gamma_2018_pwr_tile25 # of input subtiles for DPS: 3136 (subtile size = 500m)\n",
      "GEE Asset tile #: 26 name: s1_vv_vh_gamma_2018_pwr_tile26 # of input subtiles for DPS: 3136 (subtile size = 500m)\n",
      "GEE Asset tile #: 27 name: s1_vv_vh_gamma_2018_pwr_tile27 # of input subtiles for DPS: 1375 (subtile size = 500m)\n",
      "GEE Asset tile #: 28 name: s1_vv_vh_gamma_2018_pwr_tile28 # of input subtiles for DPS: 1375 (subtile size = 500m)\n",
      "GEE Asset tile #: 29 name: s1_vv_vh_gamma_2018_pwr_tile29 # of input subtiles for DPS: 3136 (subtile size = 500m)\n",
      "GEE Asset tile #: 30 name: s1_vv_vh_gamma_2018_pwr_tile30 # of input subtiles for DPS: 3136 (subtile size = 500m)\n",
      "GEE Asset tile #: 31 name: s1_vv_vh_gamma_2018_pwr_tile31 # of input subtiles for DPS: 3136 (subtile size = 500m)\n",
      "GEE Asset tile #: 32 name: s1_vv_vh_gamma_2018_pwr_tile32 # of input subtiles for DPS: 3136 (subtile size = 500m)\n",
      "GEE Asset tile #: 33 name: s1_vv_vh_gamma_2018_pwr_tile33 # of input subtiles for DPS: 3136 (subtile size = 500m)\n",
      "GEE Asset tile #: 34 name: s1_vv_vh_gamma_2018_pwr_tile34 # of input subtiles for DPS: 3080 (subtile size = 500m)\n",
      "GEE Asset tile #: 35 name: s1_vv_vh_gamma_2018_pwr_tile35 # of input subtiles for DPS: 3025 (subtile size = 500m)\n",
      "GEE Asset tile #: 36 name: s1_vv_vh_gamma_2018_pwr_tile36 # of input subtiles for DPS: 3080 (subtile size = 500m)\n",
      "GEE Asset tile #: 37 name: s1_vv_vh_gamma_2018_pwr_tile37 # of input subtiles for DPS: 3136 (subtile size = 500m)\n",
      "GEE Asset tile #: 38 name: s1_vv_vh_gamma_2018_pwr_tile38 # of input subtiles for DPS: 3136 (subtile size = 500m)\n",
      "GEE Asset tile #: 39 name: s1_vv_vh_gamma_2018_pwr_tile39 # of input subtiles for DPS: 3136 (subtile size = 500m)\n",
      "GEE Asset tile #: 40 name: s1_vv_vh_gamma_2018_pwr_tile40 # of input subtiles for DPS: 3249 (subtile size = 500m)\n",
      "GEE Asset tile #: 41 name: s1_vv_vh_gamma_2018_pwr_tile41 # of input subtiles for DPS: 3249 (subtile size = 500m)\n",
      "GEE Asset tile #: 42 name: s1_vv_vh_gamma_2018_pwr_tile42 # of input subtiles for DPS: 3249 (subtile size = 500m)\n",
      "GEE Asset tile #: 43 name: s1_vv_vh_gamma_2018_pwr_tile43 # of input subtiles for DPS: 3249 (subtile size = 500m)\n",
      "GEE Asset tile #: 44 name: s1_vv_vh_gamma_2018_pwr_tile44 # of input subtiles for DPS: 3136 (subtile size = 500m)\n",
      "GEE Asset tile #: 45 name: s1_vv_vh_gamma_2018_pwr_tile45 # of input subtiles for DPS: 3136 (subtile size = 500m)\n",
      "GEE Asset tile #: 46 name: s1_vv_vh_gamma_2018_pwr_tile46 # of input subtiles for DPS: 3136 (subtile size = 500m)\n",
      "GEE Asset tile #: 47 name: s1_vv_vh_gamma_2018_pwr_tile47 # of input subtiles for DPS: 3080 (subtile size = 500m)\n",
      "GEE Asset tile #: 48 name: s1_vv_vh_gamma_2018_pwr_tile48 # of input subtiles for DPS: 3025 (subtile size = 500m)\n",
      "GEE Asset tile #: 49 name: s1_vv_vh_gamma_2018_pwr_tile49 # of input subtiles for DPS: 3025 (subtile size = 500m)\n",
      "GEE Asset tile #: 50 name: s1_vv_vh_gamma_2018_pwr_tile50 # of input subtiles for DPS: 3080 (subtile size = 500m)\n",
      "GEE Asset tile #: 51 name: s1_vv_vh_gamma_2018_pwr_tile51 # of input subtiles for DPS: 3080 (subtile size = 500m)\n",
      "GEE Asset tile #: 52 name: s1_vv_vh_gamma_2018_pwr_tile52 # of input subtiles for DPS: 3136 (subtile size = 500m)\n",
      "GEE Asset tile #: 53 name: s1_vv_vh_gamma_2018_pwr_tile53 # of input subtiles for DPS: 3136 (subtile size = 500m)\n",
      "GEE Asset tile #: 54 name: s1_vv_vh_gamma_2018_pwr_tile54 # of input subtiles for DPS: 3249 (subtile size = 500m)\n",
      "GEE Asset tile #: 55 name: s1_vv_vh_gamma_2018_pwr_tile55 # of input subtiles for DPS: 3136 (subtile size = 500m)\n",
      "GEE Asset tile #: 56 name: s1_vv_vh_gamma_2018_pwr_tile56 # of input subtiles for DPS: 3136 (subtile size = 500m)\n",
      "GEE Asset tile #: 57 name: s1_vv_vh_gamma_2018_pwr_tile57 # of input subtiles for DPS: 3080 (subtile size = 500m)\n",
      "GEE Asset tile #: 58 name: s1_vv_vh_gamma_2018_pwr_tile58 # of input subtiles for DPS: 3080 (subtile size = 500m)\n",
      "GEE Asset tile #: 59 name: s1_vv_vh_gamma_2018_pwr_tile59 # of input subtiles for DPS: 3025 (subtile size = 500m)\n",
      "GEE Asset tile #: 60 name: s1_vv_vh_gamma_2018_pwr_tile60 # of input subtiles for DPS: 3025 (subtile size = 500m)\n",
      "GEE Asset tile #: 61 name: s1_vv_vh_gamma_2018_pwr_tile61 # of input subtiles for DPS: 3025 (subtile size = 500m)\n",
      "GEE Asset tile #: 62 name: s1_vv_vh_gamma_2018_pwr_tile62 # of input subtiles for DPS: 3080 (subtile size = 500m)\n",
      "GEE Asset tile #: 63 name: s1_vv_vh_gamma_2018_pwr_tile63 # of input subtiles for DPS: 3080 (subtile size = 500m)\n",
      "GEE Asset tile #: 64 name: s1_vv_vh_gamma_2018_pwr_tile64 # of input subtiles for DPS: 3080 (subtile size = 500m)\n",
      "GEE Asset tile #: 65 name: s1_vv_vh_gamma_2018_pwr_tile65 # of input subtiles for DPS: 3136 (subtile size = 500m)\n",
      "GEE Asset tile #: 66 name: s1_vv_vh_gamma_2018_pwr_tile66 # of input subtiles for DPS: 3249 (subtile size = 500m)\n",
      "GEE Asset tile #: 67 name: s1_vv_vh_gamma_2018_pwr_tile67 # of input subtiles for DPS: 3080 (subtile size = 500m)\n",
      "GEE Asset tile #: 68 name: s1_vv_vh_gamma_2018_pwr_tile68 # of input subtiles for DPS: 3080 (subtile size = 500m)\n",
      "GEE Asset tile #: 69 name: s1_vv_vh_gamma_2018_pwr_tile69 # of input subtiles for DPS: 3080 (subtile size = 500m)\n",
      "GEE Asset tile #: 70 name: s1_vv_vh_gamma_2018_pwr_tile70 # of input subtiles for DPS: 3025 (subtile size = 500m)\n",
      "GEE Asset tile #: 71 name: s1_vv_vh_gamma_2018_pwr_tile71 # of input subtiles for DPS: 3025 (subtile size = 500m)\n",
      "GEE Asset tile #: 72 name: s1_vv_vh_gamma_2018_pwr_tile72 # of input subtiles for DPS: 3025 (subtile size = 500m)\n",
      "GEE Asset tile #: 73 name: s1_vv_vh_gamma_2018_pwr_tile73 # of input subtiles for DPS: 3080 (subtile size = 500m)\n",
      "GEE Asset tile #: 74 name: s1_vv_vh_gamma_2018_pwr_tile74 # of input subtiles for DPS: 3080 (subtile size = 500m)\n",
      "GEE Asset tile #: 75 name: s1_vv_vh_gamma_2018_pwr_tile75 # of input subtiles for DPS: 3080 (subtile size = 500m)\n",
      "GEE Asset tile #: 76 name: s1_vv_vh_gamma_2018_pwr_tile76 # of input subtiles for DPS: 3136 (subtile size = 500m)\n",
      "GEE Asset tile #: 77 name: s1_vv_vh_gamma_2018_pwr_tile77 # of input subtiles for DPS: 3080 (subtile size = 500m)\n",
      "GEE Asset tile #: 78 name: s1_vv_vh_gamma_2018_pwr_tile78 # of input subtiles for DPS: 3080 (subtile size = 500m)\n",
      "GEE Asset tile #: 79 name: s1_vv_vh_gamma_2018_pwr_tile79 # of input subtiles for DPS: 3080 (subtile size = 500m)\n",
      "GEE Asset tile #: 80 name: s1_vv_vh_gamma_2018_pwr_tile80 # of input subtiles for DPS: 3025 (subtile size = 500m)\n",
      "GEE Asset tile #: 81 name: s1_vv_vh_gamma_2018_pwr_tile81 # of input subtiles for DPS: 3080 (subtile size = 500m)\n",
      "GEE Asset tile #: 82 name: s1_vv_vh_gamma_2018_pwr_tile82 # of input subtiles for DPS: 3080 (subtile size = 500m)\n",
      "GEE Asset tile #: 83 name: s1_vv_vh_gamma_2018_pwr_tile83 # of input subtiles for DPS: 3136 (subtile size = 500m)\n",
      "GEE Asset tile #: 84 name: s1_vv_vh_gamma_2018_pwr_tile84 # of input subtiles for DPS: 3136 (subtile size = 500m)\n",
      "GEE Asset tile #: 85 name: s1_vv_vh_gamma_2018_pwr_tile85 # of input subtiles for DPS: 3249 (subtile size = 500m)\n",
      "GEE Asset tile #: 86 name: s1_vv_vh_gamma_2018_pwr_tile86 # of input subtiles for DPS: 3080 (subtile size = 500m)\n",
      "GEE Asset tile #: 87 name: s1_vv_vh_gamma_2018_pwr_tile87 # of input subtiles for DPS: 3080 (subtile size = 500m)\n",
      "GEE Asset tile #: 88 name: s1_vv_vh_gamma_2018_pwr_tile88 # of input subtiles for DPS: 3025 (subtile size = 500m)\n",
      "GEE Asset tile #: 89 name: s1_vv_vh_gamma_2018_pwr_tile89 # of input subtiles for DPS: 3080 (subtile size = 500m)\n",
      "GEE Asset tile #: 90 name: s1_vv_vh_gamma_2018_pwr_tile90 # of input subtiles for DPS: 3136 (subtile size = 500m)\n",
      "GEE Asset tile #: 91 name: s1_vv_vh_gamma_2018_pwr_tile91 # of input subtiles for DPS: 3136 (subtile size = 500m)\n",
      "GEE Asset tile #: 92 name: s1_vv_vh_gamma_2018_pwr_tile92 # of input subtiles for DPS: 3136 (subtile size = 500m)\n",
      "GEE Asset tile #: 93 name: s1_vv_vh_gamma_2023_pwr_tile93 # of input subtiles for DPS: 2090 (subtile size = 500m)\n",
      "GEE Asset tile #: 95 name: s1_vv_vh_gamma_2018_pwr_tile95 # of input subtiles for DPS: 3080 (subtile size = 500m)\n",
      "GEE Asset tile #: 96 name: s1_vv_vh_gamma_2018_pwr_tile96 # of input subtiles for DPS: 3136 (subtile size = 500m)\n",
      "GEE Asset tile #: 97 name: s1_vv_vh_gamma_2018_pwr_tile97 # of input subtiles for DPS: 3136 (subtile size = 500m)\n",
      "GEE Asset tile #: 98 name: s1_vv_vh_gamma_2018_pwr_tile98 # of input subtiles for DPS: 3136 (subtile size = 500m)\n",
      "GEE Asset tile #: 99 name: s1_vv_vh_gamma_2018_pwr_tile99 # of input subtiles for DPS: 15989 (subtile size = 500m)\n",
      "GEE Asset tile #: 101 name: s1_vv_vh_gamma_2018_pwr_tile101 # of input subtiles for DPS: 3136 (subtile size = 500m)\n",
      "GEE Asset tile #: 102 name: s1_vv_vh_gamma_2018_pwr_tile102 # of input subtiles for DPS: 3136 (subtile size = 500m)\n",
      "GEE Asset tile #: 103 name: s1_vv_vh_gamma_2018_pwr_tile103 # of input subtiles for DPS: 3136 (subtile size = 500m)\n",
      "GEE Asset tile #: 104 name: s1_vv_vh_gamma_2018_pwr_tile104 # of input subtiles for DPS: 18760 (subtile size = 500m)\n",
      "GEE Asset tile #: 105 name: s1_vv_vh_gamma_2018_pwr_tile105 # of input subtiles for DPS: 23864 (subtile size = 500m)\n",
      "GEE Asset tile #: 106 name: s1_vv_vh_gamma_2018_pwr_tile106 # of input subtiles for DPS: 23712 (subtile size = 500m)\n",
      "GEE Asset tile #: 107 name: s1_vv_vh_gamma_2018_pwr_tile107 # of input subtiles for DPS: 18648 (subtile size = 500m)\n",
      "GEE Asset tile #: 108 name: s1_vv_vh_gamma_2018_pwr_tile108 # of input subtiles for DPS: 21924 (subtile size = 500m)\n",
      "GEE Asset tile #: 109 name: s1_vv_vh_gamma_2018_pwr_tile109 # of input subtiles for DPS: 5776 (subtile size = 500m)\n",
      "GEE Asset tile #: 110 name: s1_vv_vh_gamma_2018_pwr_tile110 # of input subtiles for DPS: 23312 (subtile size = 500m)\n",
      "CPU times: user 1min 27s, sys: 6.25 s, total: 1min 33s\n",
      "Wall time: 4min 23s\n"
     ]
    }
   ],
   "source": [
    "%%time\n",
    "\n",
    "if True:\n",
    "    \n",
    "    DPS_ASSET_TILE_LIST = asset_df.index.to_list()\n",
    "    DPS_ASSET_TILE_LIST = sorted(asset_df[TILE_FIELD_NAME].to_list()) # this field now available\n",
    "\n",
    "    submit_results_df_list = []\n",
    "    n_subtiles_total = 0\n",
    "\n",
    "    LIST_in_param_dict = []\n",
    "    fishnet_4326_list = []\n",
    "\n",
    "    for ASSET_TILE in DPS_ASSET_TILE_LIST:\n",
    "        \n",
    "        if True:\n",
    "            # This should work now - untested here as of 12/14/2023\n",
    "            ASSET_TILE_NAME, fishnet_4326 = MAKE_ASSET_TILE_SUBTILES(ASSET_TILE, asset_df, TILE_FIELD_NAME=TILE_FIELD_NAME, TILE_SIZE_M=TILE_SIZE_M)\n",
    "        else:\n",
    "            # Delete this 'else' if the above works\n",
    "            #ASSET_TILE_NAME = os.path.basename(asset_df.id.to_list()[TILELOC])\n",
    "            ASSET_TILE_NAME = os.path.basename(asset_df[asset_df[TILE_FIELD_NAME]==ASSET_TILE].id.to_list()[0])\n",
    "\n",
    "            # \n",
    "            # Get fishnet of subtiles on the fly to DPS subtile submission\n",
    "            #\n",
    "            #fishnet_df = do_gee_download_by_subtile.create_fishnet(asset_df, TILELOC, 500) # !! This number must be the same as what is in the script\n",
    "            fishnet_df = do_gee_download_by_subtile.create_fishnet(asset_df[asset_df[TILE_FIELD_NAME] == ASSET_TILE], TILE_SIZE_M)\n",
    "            fishnet_df['subtile'] = fishnet_df.index\n",
    "            fishnet_df['tile'] = ASSET_TILE\n",
    "\n",
    "            fishnet_4326 = fishnet_df.to_crs(\"EPSG:4326\")\n",
    "            \n",
    "        fishnet_4326_list.append(fishnet_4326)\n",
    "\n",
    "        n_subtiles = fishnet_4326.shape[0]\n",
    "        n_subtiles_total += n_subtiles\n",
    "\n",
    "        ## This will multprocess the glob for unfinished subtiles\n",
    "        # Get full index list\n",
    "        LIST_SUBTILE_INDEX_TO_DPS = [index for index, row in fishnet_4326.iterrows()]\n",
    "\n",
    "        len_input_list = len(LIST_SUBTILE_INDEX_TO_DPS)\n",
    "        print(f'GEE Asset tile #: {ASSET_TILE} name: {ASSET_TILE_NAME} # of input subtiles for DPS: {len_input_list} (subtile size = {TILE_SIZE_M}m)')\n",
    "\n",
    "        # Loop over DPS submissions of each Agg tile's subtiles\n",
    "        for INPUT_SUBTILE_NUM in LIST_SUBTILE_INDEX_TO_DPS:\n",
    "\n",
    "            in_param_dict = {\n",
    "                                'creds_fn' : CREDS_FN,\n",
    "                                 'subtile_loc': INPUT_SUBTILE_NUM,\n",
    "                                 'id_num': ASSET_TILE,\n",
    "                                 'id_col': TILE_FIELD_NAME,\n",
    "                                 'tile_size_m': TILE_SIZE_M,\n",
    "                                 'asset_path': ASSET_PATH\n",
    "\n",
    "                }\n",
    "\n",
    "            LIST_in_param_dict.append(in_param_dict)\n",
    "\n",
    "\n",
    "    if True:\n",
    "        # Save the subtile gdf for later use with build_tindex\n",
    "        S1_subtile_gdf = pd.concat(fishnet_4326_list)\n",
    "        S1_subtile_gdf.to_file(f'/projects/my-public-bucket/DPS_tile_lists/SAR/{MAAP_VERSION}/{IDENTIFIER}/S1_{TILE_FIELD_NAME}_subtiles.gpkg', driver='GPKG')   "
   ]
  },
  {
   "cell_type": "markdown",
   "id": "b7d92caf-d25e-4ccc-a44d-6844cc25e719",
   "metadata": {},
   "source": [
    "### Test locally"
   ]
  },
  {
   "cell_type": "code",
   "execution_count": 61,
   "id": "73993bd7-ad0a-4451-bc2d-8ec0a6a49307",
   "metadata": {},
   "outputs": [],
   "source": [
    "import rasterio\n",
    "from rasterio.plot import show_hist, show\n"
   ]
  },
  {
   "cell_type": "code",
   "execution_count": 111,
   "id": "1483cf5f-cd43-42f4-8fb6-eccae07f13d5",
   "metadata": {
    "tags": []
   },
   "outputs": [
    {
     "name": "stdout",
     "output_type": "stream",
     "text": [
      "\n",
      "\tSubtile 2501 for AGG_TILE_NUM # 75 (s1_vv_vh_gamma_2018_pwr_tile75) to subdir: /projects/my-public-bucket/local_output/do_gee_download_by_subtile_TEST/s1_vv_vh_gamma_2018_pwr_tile75\n",
      "\tSUBTILE_LOC: 2501 : extracted tifs to /projects/my-public-bucket/local_output/do_gee_download_by_subtile_TEST/s1_vv_vh_gamma_2018_pwr_tile75-subtile002501\n",
      "Multiband geotiff created successfully at: /projects/my-public-bucket/local_output/do_gee_download_by_subtile_TEST/s1_vv_vh_gamma_2018_pwr_tile75-subtile002501/s1_vv_vh_gamma_2018_pwr_tile75-subtile002501.tif\n"
     ]
    },
    {
     "data": {
      "text/plain": [
       "[]"
      ]
     },
     "execution_count": 111,
     "metadata": {},
     "output_type": "execute_result"
    }
   ],
   "source": [
    "importlib.reload(do_gee_download_by_subtile)\n",
    "\n",
    "OUTDIR_TILE = '/projects/my-public-bucket/local_output/do_gee_download_by_subtile_TEST'\n",
    "do_gee_download_by_subtile.do_gee_download_by_subtile(SUBTILE_LOC=2501, ID_NUM=75, ID_COL='AGG_TILE_NUM', ASSET_PATH=ASSET_PATH, TILE_SIZE_M=500, OUTDIR=OUTDIR_TILE)\n"
   ]
  },
  {
   "cell_type": "code",
   "execution_count": 31,
   "id": "f51e5775-5325-4d3d-b5ca-6799ae122f50",
   "metadata": {},
   "outputs": [
    {
     "data": {
      "text/plain": [
       "'/projects/my-public-bucket/local_output/do_gee_download_by_subtile_TEST/s1_vv_vh_gamma_2018_pwr_tile01-subtile000000/*.tif'"
      ]
     },
     "execution_count": 31,
     "metadata": {},
     "output_type": "execute_result"
    }
   ],
   "source": [
    "f'{os.path.dirname(stack_vrt_fn)}/*.tif'"
   ]
  },
  {
   "cell_type": "code",
   "execution_count": 43,
   "id": "f1fa494b-18bb-4f93-9de0-8e8403736614",
   "metadata": {},
   "outputs": [
    {
     "name": "stderr",
     "output_type": "stream",
     "text": [
      "Warning 1: Can't open /projects/my-public-bucket/local_output/do_gee_download_by_subtile_TEST/s1_vv_vh_gamma_2018_pwr_tile01-subtile000000/*.tif. Skipping it\n"
     ]
    }
   ],
   "source": [
    "import subprocess\n",
    "stack_vrt_fn = '/projects/my-public-bucket/local_output/do_gee_download_by_subtile_TEST/s1_vv_vh_gamma_2018_pwr_tile01-subtile000000/s1_vv_vh_gamma_2018_pwr_tile01-subtile000000.vrt'\n",
    "process = subprocess.run(['/projects/env/above/bin/gdalbuildvrt', '-separate', f'{stack_vrt_fn}', os.path.dirname(stack_vrt_fn)+'/*.tif'], \n",
    "                         stdout=subprocess.PIPE, universal_newlines=True)\n"
   ]
  },
  {
   "cell_type": "markdown",
   "id": "7469bbf0-be6e-4957-96b2-39e4767bdbee",
   "metadata": {},
   "source": [
    "## Read in gdf of missing subtiles and build list of params for DPS multiprocessing \n",
    "### `TODO` where was S1_subtiles_missing.gpkg created???"
   ]
  },
  {
   "cell_type": "code",
   "execution_count": 56,
   "id": "0a9d283d-f83f-4006-89a9-e9f3b0336312",
   "metadata": {
    "tags": []
   },
   "outputs": [
    {
     "data": {
      "text/plain": [
       "(36595, 6)"
      ]
     },
     "execution_count": 56,
     "metadata": {},
     "output_type": "execute_result"
    }
   ],
   "source": [
    "S1_subtile_gdf_missing = gpd.read_file(f'/projects/my-public-bucket/DPS_tile_lists/SAR/{MAAP_VERSION}/{IDENTIFIER}/S1_subtiles_missing.gpkg')\n",
    "S1_subtile_gdf_missing.shape"
   ]
  },
  {
   "cell_type": "code",
   "execution_count": 57,
   "id": "74aa34f4-fa20-454d-bb0c-cd2315ee0799",
   "metadata": {
    "tags": []
   },
   "outputs": [],
   "source": [
    "#S1_subtile_gdf_missing.tail(1000).explore()"
   ]
  },
  {
   "cell_type": "code",
   "execution_count": 58,
   "id": "b99ceb16-0c43-408d-878e-4f6cf154a889",
   "metadata": {
    "tags": []
   },
   "outputs": [
    {
     "name": "stdout",
     "output_type": "stream",
     "text": [
      "GEE Asset tile #: 1 name: s1_vv_vh_gamma_2018_pwr_tile01 # of input subtiles for DPS: 485 (subtile size = 500m)\n",
      "GEE Asset tile #: 2 name: s1_vv_vh_gamma_2018_pwr_tile02 # of input subtiles for DPS: 709 (subtile size = 500m)\n",
      "GEE Asset tile #: 3 name: s1_vv_vh_gamma_2018_pwr_tile03 # of input subtiles for DPS: 1112 (subtile size = 500m)\n",
      "GEE Asset tile #: 4 name: s1_vv_vh_gamma_2018_pwr_tile04 # of input subtiles for DPS: 1101 (subtile size = 500m)\n",
      "GEE Asset tile #: 5 name: s1_vv_vh_gamma_2018_pwr_tile05 # of input subtiles for DPS: 1146 (subtile size = 500m)\n",
      "GEE Asset tile #: 6 name: s1_vv_vh_gamma_2018_pwr_tile06 # of input subtiles for DPS: 906 (subtile size = 500m)\n",
      "GEE Asset tile #: 7 name: s1_vv_vh_gamma_2018_pwr_tile07 # of input subtiles for DPS: 436 (subtile size = 500m)\n",
      "GEE Asset tile #: 8 name: s1_vv_vh_gamma_2018_pwr_tile08 # of input subtiles for DPS: 991 (subtile size = 500m)\n",
      "GEE Asset tile #: 9 name: s1_vv_vh_gamma_2018_pwr_tile09 # of input subtiles for DPS: 1116 (subtile size = 500m)\n",
      "GEE Asset tile #: 10 name: s1_vv_vh_gamma_2018_pwr_tile10 # of input subtiles for DPS: 1115 (subtile size = 500m)\n",
      "GEE Asset tile #: 11 name: s1_vv_vh_gamma_2018_pwr_tile11 # of input subtiles for DPS: 1129 (subtile size = 500m)\n",
      "GEE Asset tile #: 12 name: s1_vv_vh_gamma_2018_pwr_tile12 # of input subtiles for DPS: 678 (subtile size = 500m)\n",
      "GEE Asset tile #: 13 name: s1_vv_vh_gamma_2018_pwr_tile13 # of input subtiles for DPS: 965 (subtile size = 500m)\n",
      "GEE Asset tile #: 14 name: s1_vv_vh_gamma_2018_pwr_tile14 # of input subtiles for DPS: 763 (subtile size = 500m)\n",
      "GEE Asset tile #: 15 name: s1_vv_vh_gamma_2018_pwr_tile15 # of input subtiles for DPS: 1120 (subtile size = 500m)\n",
      "GEE Asset tile #: 16 name: s1_vv_vh_gamma_2018_pwr_tile16 # of input subtiles for DPS: 1129 (subtile size = 500m)\n",
      "GEE Asset tile #: 17 name: s1_vv_vh_gamma_2018_pwr_tile17 # of input subtiles for DPS: 1128 (subtile size = 500m)\n",
      "GEE Asset tile #: 18 name: s1_vv_vh_gamma_2018_pwr_tile18 # of input subtiles for DPS: 817 (subtile size = 500m)\n",
      "GEE Asset tile #: 19 name: s1_vv_vh_gamma_2018_pwr_tile19 # of input subtiles for DPS: 491 (subtile size = 500m)\n",
      "GEE Asset tile #: 20 name: s1_vv_vh_gamma_2018_pwr_tile20 # of input subtiles for DPS: 983 (subtile size = 500m)\n",
      "GEE Asset tile #: 21 name: s1_vv_vh_gamma_2018_pwr_tile21 # of input subtiles for DPS: 1115 (subtile size = 500m)\n",
      "GEE Asset tile #: 22 name: s1_vv_vh_gamma_2018_pwr_tile22 # of input subtiles for DPS: 1125 (subtile size = 500m)\n",
      "GEE Asset tile #: 23 name: s1_vv_vh_gamma_2018_pwr_tile23 # of input subtiles for DPS: 1111 (subtile size = 500m)\n",
      "GEE Asset tile #: 24 name: s1_vv_vh_gamma_2018_pwr_tile24 # of input subtiles for DPS: 653 (subtile size = 500m)\n",
      "GEE Asset tile #: 25 name: s1_vv_vh_gamma_2018_pwr_tile25 # of input subtiles for DPS: 553 (subtile size = 500m)\n",
      "GEE Asset tile #: 26 name: s1_vv_vh_gamma_2018_pwr_tile26 # of input subtiles for DPS: 1082 (subtile size = 500m)\n",
      "GEE Asset tile #: 27 name: s1_vv_vh_gamma_2018_pwr_tile27 # of input subtiles for DPS: 749 (subtile size = 500m)\n",
      "GEE Asset tile #: 28 name: s1_vv_vh_gamma_2018_pwr_tile28 # of input subtiles for DPS: 750 (subtile size = 500m)\n",
      "GEE Asset tile #: 30 name: s1_vv_vh_gamma_2018_pwr_tile30 # of input subtiles for DPS: 2 (subtile size = 500m)\n",
      "GEE Asset tile #: 31 name: s1_vv_vh_gamma_2018_pwr_tile31 # of input subtiles for DPS: 9 (subtile size = 500m)\n",
      "GEE Asset tile #: 32 name: s1_vv_vh_gamma_2018_pwr_tile32 # of input subtiles for DPS: 3 (subtile size = 500m)\n",
      "GEE Asset tile #: 33 name: s1_vv_vh_gamma_2018_pwr_tile33 # of input subtiles for DPS: 1 (subtile size = 500m)\n",
      "GEE Asset tile #: 34 name: s1_vv_vh_gamma_2018_pwr_tile34 # of input subtiles for DPS: 1 (subtile size = 500m)\n",
      "GEE Asset tile #: 37 name: s1_vv_vh_gamma_2018_pwr_tile37 # of input subtiles for DPS: 7 (subtile size = 500m)\n",
      "GEE Asset tile #: 38 name: s1_vv_vh_gamma_2018_pwr_tile38 # of input subtiles for DPS: 4 (subtile size = 500m)\n",
      "GEE Asset tile #: 40 name: s1_vv_vh_gamma_2018_pwr_tile40 # of input subtiles for DPS: 10 (subtile size = 500m)\n",
      "GEE Asset tile #: 41 name: s1_vv_vh_gamma_2018_pwr_tile41 # of input subtiles for DPS: 8 (subtile size = 500m)\n",
      "GEE Asset tile #: 42 name: s1_vv_vh_gamma_2018_pwr_tile42 # of input subtiles for DPS: 10 (subtile size = 500m)\n",
      "GEE Asset tile #: 43 name: s1_vv_vh_gamma_2018_pwr_tile43 # of input subtiles for DPS: 6 (subtile size = 500m)\n",
      "GEE Asset tile #: 44 name: s1_vv_vh_gamma_2018_pwr_tile44 # of input subtiles for DPS: 5 (subtile size = 500m)\n",
      "GEE Asset tile #: 45 name: s1_vv_vh_gamma_2018_pwr_tile45 # of input subtiles for DPS: 10 (subtile size = 500m)\n",
      "GEE Asset tile #: 46 name: s1_vv_vh_gamma_2018_pwr_tile46 # of input subtiles for DPS: 4 (subtile size = 500m)\n",
      "GEE Asset tile #: 47 name: s1_vv_vh_gamma_2018_pwr_tile47 # of input subtiles for DPS: 5 (subtile size = 500m)\n",
      "GEE Asset tile #: 48 name: s1_vv_vh_gamma_2018_pwr_tile48 # of input subtiles for DPS: 6 (subtile size = 500m)\n",
      "GEE Asset tile #: 49 name: s1_vv_vh_gamma_2018_pwr_tile49 # of input subtiles for DPS: 3 (subtile size = 500m)\n",
      "GEE Asset tile #: 50 name: s1_vv_vh_gamma_2018_pwr_tile50 # of input subtiles for DPS: 10 (subtile size = 500m)\n",
      "GEE Asset tile #: 51 name: s1_vv_vh_gamma_2018_pwr_tile51 # of input subtiles for DPS: 8 (subtile size = 500m)\n",
      "GEE Asset tile #: 52 name: s1_vv_vh_gamma_2018_pwr_tile52 # of input subtiles for DPS: 3 (subtile size = 500m)\n",
      "GEE Asset tile #: 53 name: s1_vv_vh_gamma_2018_pwr_tile53 # of input subtiles for DPS: 11 (subtile size = 500m)\n",
      "GEE Asset tile #: 54 name: s1_vv_vh_gamma_2018_pwr_tile54 # of input subtiles for DPS: 13 (subtile size = 500m)\n",
      "GEE Asset tile #: 55 name: s1_vv_vh_gamma_2018_pwr_tile55 # of input subtiles for DPS: 5 (subtile size = 500m)\n",
      "GEE Asset tile #: 56 name: s1_vv_vh_gamma_2018_pwr_tile56 # of input subtiles for DPS: 6 (subtile size = 500m)\n",
      "GEE Asset tile #: 57 name: s1_vv_vh_gamma_2018_pwr_tile57 # of input subtiles for DPS: 2 (subtile size = 500m)\n",
      "GEE Asset tile #: 60 name: s1_vv_vh_gamma_2018_pwr_tile60 # of input subtiles for DPS: 1 (subtile size = 500m)\n",
      "GEE Asset tile #: 61 name: s1_vv_vh_gamma_2018_pwr_tile61 # of input subtiles for DPS: 1 (subtile size = 500m)\n",
      "GEE Asset tile #: 62 name: s1_vv_vh_gamma_2018_pwr_tile62 # of input subtiles for DPS: 1 (subtile size = 500m)\n",
      "GEE Asset tile #: 64 name: s1_vv_vh_gamma_2018_pwr_tile64 # of input subtiles for DPS: 1 (subtile size = 500m)\n",
      "GEE Asset tile #: 68 name: s1_vv_vh_gamma_2018_pwr_tile68 # of input subtiles for DPS: 1 (subtile size = 500m)\n",
      "GEE Asset tile #: 69 name: s1_vv_vh_gamma_2018_pwr_tile69 # of input subtiles for DPS: 1 (subtile size = 500m)\n",
      "GEE Asset tile #: 70 name: s1_vv_vh_gamma_2018_pwr_tile70 # of input subtiles for DPS: 1 (subtile size = 500m)\n",
      "GEE Asset tile #: 77 name: s1_vv_vh_gamma_2018_pwr_tile77 # of input subtiles for DPS: 3 (subtile size = 500m)\n",
      "GEE Asset tile #: 78 name: s1_vv_vh_gamma_2018_pwr_tile78 # of input subtiles for DPS: 1 (subtile size = 500m)\n",
      "GEE Asset tile #: 81 name: s1_vv_vh_gamma_2018_pwr_tile81 # of input subtiles for DPS: 2 (subtile size = 500m)\n",
      "GEE Asset tile #: 82 name: s1_vv_vh_gamma_2018_pwr_tile82 # of input subtiles for DPS: 1 (subtile size = 500m)\n",
      "GEE Asset tile #: 83 name: s1_vv_vh_gamma_2018_pwr_tile83 # of input subtiles for DPS: 2 (subtile size = 500m)\n",
      "GEE Asset tile #: 84 name: s1_vv_vh_gamma_2018_pwr_tile84 # of input subtiles for DPS: 2 (subtile size = 500m)\n",
      "GEE Asset tile #: 86 name: s1_vv_vh_gamma_2018_pwr_tile86 # of input subtiles for DPS: 1 (subtile size = 500m)\n",
      "GEE Asset tile #: 87 name: s1_vv_vh_gamma_2018_pwr_tile87 # of input subtiles for DPS: 2 (subtile size = 500m)\n",
      "GEE Asset tile #: 88 name: s1_vv_vh_gamma_2018_pwr_tile88 # of input subtiles for DPS: 1 (subtile size = 500m)\n",
      "GEE Asset tile #: 89 name: s1_vv_vh_gamma_2018_pwr_tile89 # of input subtiles for DPS: 5 (subtile size = 500m)\n",
      "GEE Asset tile #: 90 name: s1_vv_vh_gamma_2018_pwr_tile90 # of input subtiles for DPS: 2 (subtile size = 500m)\n",
      "GEE Asset tile #: 91 name: s1_vv_vh_gamma_2018_pwr_tile91 # of input subtiles for DPS: 4 (subtile size = 500m)\n",
      "GEE Asset tile #: 92 name: s1_vv_vh_gamma_2018_pwr_tile92 # of input subtiles for DPS: 7 (subtile size = 500m)\n",
      "GEE Asset tile #: 95 name: s1_vv_vh_gamma_2018_pwr_tile95 # of input subtiles for DPS: 3 (subtile size = 500m)\n",
      "GEE Asset tile #: 96 name: s1_vv_vh_gamma_2018_pwr_tile96 # of input subtiles for DPS: 6 (subtile size = 500m)\n",
      "GEE Asset tile #: 97 name: s1_vv_vh_gamma_2018_pwr_tile97 # of input subtiles for DPS: 5 (subtile size = 500m)\n",
      "GEE Asset tile #: 98 name: s1_vv_vh_gamma_2018_pwr_tile98 # of input subtiles for DPS: 1 (subtile size = 500m)\n",
      "GEE Asset tile #: 99 name: s1_vv_vh_gamma_2018_pwr_tile99 # of input subtiles for DPS: 10918 (subtile size = 500m)\n",
      "GEE Asset tile #: 101 name: s1_vv_vh_gamma_2018_pwr_tile101 # of input subtiles for DPS: 3 (subtile size = 500m)\n",
      "GEE Asset tile #: 102 name: s1_vv_vh_gamma_2018_pwr_tile102 # of input subtiles for DPS: 4 (subtile size = 500m)\n",
      "GEE Asset tile #: 103 name: s1_vv_vh_gamma_2018_pwr_tile103 # of input subtiles for DPS: 5 (subtile size = 500m)\n"
     ]
    }
   ],
   "source": [
    "# Get the unique list of agg tiles with missing subtiles\n",
    "DPS_ASSET_TILE_LIST = list(set(S1_subtile_gdf_missing.tile_num.to_list()))\n",
    "\n",
    "LIST_in_param_dict = []\n",
    "for ASSET_TILE in DPS_ASSET_TILE_LIST:\n",
    "    ASSET_TILE_NAME = os.path.basename(asset_df[asset_df[TILE_FIELD_NAME]==ASSET_TILE].id.to_list()[0])\n",
    "\n",
    "    # For current agg tile, get the list of missing subtiles\n",
    "    subset_df = S1_subtile_gdf_missing[S1_subtile_gdf_missing.tile_num == ASSET_TILE]\n",
    "    LIST_SUBTILE_INDEX_TO_DPS = subset_df.subtile_num.to_list()\n",
    "    \n",
    "    len_input_list = len(LIST_SUBTILE_INDEX_TO_DPS)\n",
    "    print(f'GEE Asset tile #: {ASSET_TILE} name: {ASSET_TILE_NAME} # of input subtiles for DPS: {len_input_list} (subtile size = {TILE_SIZE_M}m)')\n",
    "    \n",
    "    # Loop over DPS submissions of each Agg tile's subtiles\n",
    "    for INPUT_SUBTILE_NUM in LIST_SUBTILE_INDEX_TO_DPS:\n",
    "         \n",
    "        in_param_dict = {\n",
    "                            'creds_fn' : CREDS_FN,\n",
    "                             'subtile_loc': INPUT_SUBTILE_NUM,\n",
    "                             'id_num': ASSET_TILE,\n",
    "                             'id_col': TILE_FIELD_NAME,\n",
    "                             'tile_size_m': TILE_SIZE_M,\n",
    "                             'asset_path': ASSET_PATH\n",
    "\n",
    "            }\n",
    "        \n",
    "        LIST_in_param_dict.append(in_param_dict)"
   ]
  },
  {
   "cell_type": "code",
   "execution_count": 48,
   "id": "3222babd-8cef-4aed-8b9f-b9ca774abf94",
   "metadata": {
    "tags": []
   },
   "outputs": [
    {
     "data": {
      "text/plain": [
       "455217"
      ]
     },
     "execution_count": 48,
     "metadata": {},
     "output_type": "execute_result"
    }
   ],
   "source": [
    "len(LIST_in_param_dict)"
   ]
  },
  {
   "cell_type": "code",
   "execution_count": 207,
   "id": "70034233-f62c-4bec-95f1-a1c6204bf001",
   "metadata": {},
   "outputs": [],
   "source": [
    "# # Save the subtile gdf for later use with build_tindex\n",
    "# S1_subtile_gdf = pd.concat(fishnet_4326_list)\n",
    "# S1_subtile_gdf.to_file('/projects/my-public-bucket/DPS_tile_lists/SAR/EXPORT_GEE_v1/SAR_S1_2018/S1_subtiles.gpkg', driver='GPKG')"
   ]
  },
  {
   "cell_type": "code",
   "execution_count": 63,
   "id": "6f008bf7-be5a-4d20-89f4-02294d8d3f24",
   "metadata": {},
   "outputs": [],
   "source": [
    "from multiprocessing import Pool\n",
    "from functools import partial"
   ]
  },
  {
   "cell_type": "code",
   "execution_count": 50,
   "id": "9db45153-0034-4344-921a-ea8978b46c1f",
   "metadata": {
    "tags": []
   },
   "outputs": [
    {
     "data": {
      "text/plain": [
       "{'creds_fn': 's3://maap-ops-workspace/montesano/credentials',\n",
       " 'subtile_loc': 23311,\n",
       " 'id_num': 110,\n",
       " 'id_col': 'AGG_TILE_NUM',\n",
       " 'tile_size_m': 500,\n",
       " 'asset_path': 'projects/foreststructure/Circumboreal/S1_Composites_albers'}"
      ]
     },
     "execution_count": 50,
     "metadata": {},
     "output_type": "execute_result"
    }
   ],
   "source": [
    "LIST_in_param_dict[-1]"
   ]
  },
  {
   "cell_type": "markdown",
   "id": "aabbabea-46d7-4f6c-b29f-223e5dc59592",
   "metadata": {
    "tags": []
   },
   "source": [
    "### Set up wrapper for multiprocessing submission"
   ]
  },
  {
   "cell_type": "code",
   "execution_count": 69,
   "id": "b3f8231b-4a2e-4f80-94d7-3f572953ca09",
   "metadata": {
    "tags": []
   },
   "outputs": [],
   "source": [
    "def wrapper_submitJob(in_param_dict, identifier=IDENTIFIER, algo_id=ALGO_ID, version=MAAP_VERSION, username=USER, queue=WORKER_TYPE):\n",
    "    \n",
    "    submit_result = maap.submitJob(identifier=identifier, algo_id=algo_id, version=version, username=username, queue=queue, **in_param_dict)\n",
    "    \n",
    "    DPS_num = 'NA' # useful for serial submission - kept here for consistency in output submission tables\n",
    "    \n",
    "    # Build a dataframe of submission details\n",
    "    submit_result_df = pd.DataFrame( \n",
    "            {\n",
    "                    'dps_num':[DPS_num],\n",
    "                    'tile_num':[in_param_dict['id_num']],\n",
    "                    'subtile_num': [[in_param_dict['subtile_loc']][0]],\n",
    "                    'submit_time':[datetime.datetime.now()],\n",
    "                    'dbs_job_hour': [datetime.datetime.now().hour],\n",
    "                    'algo_id': [ALGO_ID],\n",
    "                    'user': [USER],\n",
    "                    'worker_type': [WORKER_TYPE],\n",
    "                    'job_id': [submit_result.id],\n",
    "                    'submit_status': [submit_result.status],\n",
    "\n",
    "            } \n",
    "        )\n",
    "    if False:\n",
    "        submit_result_df['run_name'] = IDENTIFIER\n",
    "\n",
    "        out_submit_result_fn = f'/projects/my-public-bucket/dps_submission_results/DPS_{ALGO_ID}_{IDENTIFIER}_{MAAP_VERSION}_submission_results.csv'\n",
    "        if os.path.isfile(out_submit_result_fn):\n",
    "            submit_result_df.to_csv(out_submit_result_fn, mode='a', header=False)\n",
    "        else:\n",
    "            submit_result_df.to_csv(out_submit_result_fn)\n",
    "\n",
    "    return submit_result_df"
   ]
  },
  {
   "cell_type": "code",
   "execution_count": 128,
   "id": "ec3006f4-12e9-4cb7-87a0-3b11d051a437",
   "metadata": {
    "tags": []
   },
   "outputs": [
    {
     "data": {
      "text/plain": [
       "455217"
      ]
     },
     "execution_count": 128,
     "metadata": {},
     "output_type": "execute_result"
    }
   ],
   "source": [
    "len(LIST_in_param_dict)"
   ]
  },
  {
   "cell_type": "code",
   "execution_count": 61,
   "id": "05e0f79e-fa07-4472-9e9b-229f21d8f0b7",
   "metadata": {
    "tags": []
   },
   "outputs": [
    {
     "data": {
      "text/plain": [
       "{'creds_fn': 's3://maap-ops-workspace/montesano/credentials',\n",
       " 'subtile_loc': 0,\n",
       " 'id_num': 1,\n",
       " 'id_col': 'AGG_TILE_NUM',\n",
       " 'tile_size_m': 500,\n",
       " 'asset_path': 'projects/foreststructure/Circumboreal/S1_Composites_albers'}"
      ]
     },
     "execution_count": 61,
     "metadata": {},
     "output_type": "execute_result"
    }
   ],
   "source": [
    "LIST_in_param_dict[0]"
   ]
  },
  {
   "cell_type": "code",
   "execution_count": 115,
   "id": "b93d575d-282e-49d9-a0b3-80ecada6464b",
   "metadata": {
    "tags": []
   },
   "outputs": [
    {
     "name": "stdout",
     "output_type": "stream",
     "text": [
      "NASA MAAP\n"
     ]
    },
    {
     "data": {
      "text/plain": [
       "<module 'ExtractUtils' from '/projects/code/icesat2_boreal/lib/ExtractUtils.py'>"
      ]
     },
     "execution_count": 115,
     "metadata": {},
     "output_type": "execute_result"
    }
   ],
   "source": [
    "importlib.reload(ExtractUtils)"
   ]
  },
  {
   "cell_type": "markdown",
   "id": "37673d74-0f78-4263-8631-0675f8fa9ef3",
   "metadata": {},
   "source": [
    "## DPS job submission in parallel\n",
    "request that the devs increase the # of 8GB workers available"
   ]
  },
  {
   "cell_type": "code",
   "execution_count": null,
   "id": "245e9045-a014-4af6-b365-c4a267eb4365",
   "metadata": {},
   "outputs": [],
   "source": [
    "%%time\n",
    "INPUT_LIST = LIST_in_param_dict[160410:] # Restart like this: from dps-job-management; can figure out a total job submitted using filters \n",
    "\n",
    "len_input_list = len(INPUT_LIST)\n",
    "\n",
    "with Pool(processes=30) as pool:\n",
    "    submit_result_df_list = pool.map(partial(wrapper_submitJob), INPUT_LIST)\n",
    "    \n",
    "# Build a final submission results df and save\n",
    "submit_results_df = pd.concat(submit_result_df_list)\n",
    "submit_results_df['run_name'] = IDENTIFIER\n",
    "nowtime = pd.Timestamp.now().strftime('%Y%m%d%H%M')\n",
    "print(f\"Current time:\\t{nowtime}\")\n",
    "submit_results_df.to_csv(f'/projects/my-public-bucket/dps_submission_results/DPS_{ALGO_ID}_{IDENTIFIER}_{MAAP_VERSION}_submission_results_{len_input_list}_{nowtime}.csv')\n",
    "submit_results_df.info()"
   ]
  },
  {
   "cell_type": "code",
   "execution_count": null,
   "id": "46094f75-a069-49fb-a16d-953272ef2f51",
   "metadata": {},
   "outputs": [],
   "source": [
    "submit_results_df.head()"
   ]
  },
  {
   "cell_type": "markdown",
   "id": "dfbc4e6f-247f-455b-95eb-f8f79d433d94",
   "metadata": {},
   "source": [
    "## Run a tindex"
   ]
  },
  {
   "cell_type": "code",
   "execution_count": 14,
   "id": "92ed6d35-24f0-42f7-b90d-8f214e6854cd",
   "metadata": {
    "tags": []
   },
   "outputs": [],
   "source": [
    "DICT_BUILD_TINDEX_SAR = {\n",
    "    'SET' : 'SAR',\n",
    "    'USER' : USER,\n",
    "    'ALG_NAME' : ALGO_ID,\n",
    "    'ALG_VERSION' : MAAP_VERSION,\n",
    "    'VAR' : 'S1',\n",
    "    # In my bucket, this is ALWAYS used to identify output\n",
    "    'BATCH_NAME' : IDENTIFIER,\n",
    "    'DPS_MONTH_LIST' : '12',        \n",
    "    'DPS_DAY_MIN' : 1 ,\n",
    "    'TILES_INDEX_PATH': '/projects/my-public-bucket/databank/boreal_tiles_v003_agg9/boreal_tiles_v003_agg9_subtiles_500m.gpkg'\n",
    "}"
   ]
  },
  {
   "cell_type": "code",
   "execution_count": 16,
   "id": "4649a117-35ab-45ea-831c-02becf45973d",
   "metadata": {
    "tags": []
   },
   "outputs": [
    {
     "data": {
      "text/plain": [
       "{'SET': 'SAR',\n",
       " 'USER': 'montesano',\n",
       " 'ALG_NAME': 'do_gee_download_by_subtile',\n",
       " 'ALG_VERSION': 'EXPORT_GEE_v2',\n",
       " 'VAR': 'S1',\n",
       " 'BATCH_NAME': 'SAR_S1_2018',\n",
       " 'DPS_MONTH_LIST': '12',\n",
       " 'DPS_DAY_MIN': 1,\n",
       " 'TILES_INDEX_PATH': '/projects/my-public-bucket/databank/boreal_tiles_v003_agg9/boreal_tiles_v003_agg9_subtiles_500m.gpkg'}"
      ]
     },
     "execution_count": 16,
     "metadata": {},
     "output_type": "execute_result"
    }
   ],
   "source": [
    "DICT_BUILD_TINDEX = DICT_BUILD_TINDEX_SAR\n",
    "DICT_BUILD_TINDEX"
   ]
  },
  {
   "cell_type": "code",
   "execution_count": 19,
   "id": "9ebb73b5-3a95-40e3-bfab-485b738efe04",
   "metadata": {
    "tags": []
   },
   "outputs": [
    {
     "name": "stdout",
     "output_type": "stream",
     "text": [
      "/projects/env/above/bin/python /projects/code/icesat2_boreal/lib/build_tindex_master.py --RETURN_DUPS --user montesano --dps_identifier EXPORT_GEE_v2/SAR_S1_2018 -alg_name do_gee_download_by_subtile -t S1 -y 2023 --dps_month_list 12 -d_min 1 --outdir /projects/my-public-bucket/DPS_tile_lists/SAR/EXPORT_GEE_v2/SAR_S1_2018 -boreal_tile_index_path /projects/my-public-bucket/databank/boreal_tiles_v003_agg9/boreal_tiles_v003_agg9_subtiles_500m.gpkg --WRITE_TINDEX_MATCHES_GDF\n",
      "\n",
      "real\t0m0.000s\n",
      "user\t0m0.000s\n",
      "sys\t0m0.000s\n",
      "CPU times: user 12.2 ms, sys: 20.6 ms, total: 32.9 ms\n",
      "Wall time: 421 ms\n"
     ]
    }
   ],
   "source": [
    "%%time\n",
    "\n",
    "DPS_IDENTIFIER = f\"{DICT_BUILD_TINDEX['ALG_VERSION']}/{DICT_BUILD_TINDEX['BATCH_NAME']}\"\n",
    "\n",
    "OUTDIR = f\"/projects/my-public-bucket/DPS_tile_lists/{DICT_BUILD_TINDEX['SET']}/{DPS_IDENTIFIER}\"\n",
    "!mkdir -p $OUTDIR\n",
    "\n",
    "# Build tindex\n",
    "args = f\"--RETURN_DUPS --user {DICT_BUILD_TINDEX['USER']} --dps_identifier {DPS_IDENTIFIER} \\\n",
    "-alg_name {DICT_BUILD_TINDEX['ALG_NAME']} -t {DICT_BUILD_TINDEX['VAR']} -y 2023 \\\n",
    "--dps_month_list {DICT_BUILD_TINDEX['DPS_MONTH_LIST']} -d_min {DICT_BUILD_TINDEX['DPS_DAY_MIN']} --outdir {OUTDIR} \\\n",
    "-boreal_tile_index_path {DICT_BUILD_TINDEX['TILES_INDEX_PATH']}\"\n",
    "\n",
    "!time echo /projects/env/above/bin/python /projects/code/icesat2_boreal/lib/build_tindex_master.py $args --WRITE_TINDEX_MATCHES_GDF"
   ]
  },
  {
   "cell_type": "markdown",
   "id": "e4a1af34-94b8-4276-81b6-f806dd4ecf61",
   "metadata": {},
   "source": [
    "## Map the DPS'd subtiles"
   ]
  },
  {
   "cell_type": "code",
   "execution_count": 20,
   "id": "2901298d-51ae-4ca5-b56d-c56502f18ae7",
   "metadata": {
    "tags": []
   },
   "outputs": [
    {
     "name": "stderr",
     "output_type": "stream",
     "text": [
      "/projects/code/icesat2_boreal/lib/ExtractUtils.py:555: FutureWarning: The geopandas.dataset module is deprecated and will be removed in GeoPandas 1.0. You can get the original 'naturalearth_lowres' data from https://www.naturalearthdata.com/downloads/110m-cultural-vectors/.\n",
      "  world = geopandas.read_file(geopandas.datasets.get_path(\"naturalearth_lowres\") )\n"
     ]
    },
    {
     "data": {
      "text/plain": [
       "(51722, 5)"
      ]
     },
     "execution_count": 20,
     "metadata": {},
     "output_type": "execute_result"
    },
    {
     "data": {
      "image/png": "[encoded data removed]",
      "text/plain": [
       "<Figure size 640x480 with 1 Axes>"
      ]
     },
     "metadata": {},
     "output_type": "display_data"
    }
   ],
   "source": [
    "json_fn = 's3://maap-ops-workspace/shared/montesano/DPS_tile_lists/SAR/EXPORT_GEE_v2/SAR_S1_2018/S1_tindex_master.json'\n",
    "gdf = ExtractUtils.make_gdf_from_json(json_fn) \n",
    "ExtractUtils.show_tiles_map(gdf)\n",
    "gdf.shape"
   ]
  },
  {
   "cell_type": "markdown",
   "id": "ced5dee0-fada-4552-af45-86d0dfcb526c",
   "metadata": {},
   "source": [
    "## Build a footprint of subtiles that are expected\n",
    "\n",
    "Putting these 'expected' subtiles in `databank` but `MAKE_ASSET_TILE_SUBTILES()` also run above and written to `my-public-bucket/DPS_tile_lists/SAR/EXPORT_GEE_v2/SAR_S1_2018/S1_AGG_TILE_NUM_subtiles.gpkg`"
   ]
  },
  {
   "cell_type": "code",
   "execution_count": 90,
   "id": "9164883a-d7ce-4cac-8f68-8c8d2073c474",
   "metadata": {
    "tags": []
   },
   "outputs": [
    {
     "name": "stdout",
     "output_type": "stream",
     "text": [
      "1\n",
      "2\n",
      "3\n",
      "4\n",
      "5\n",
      "6\n",
      "7\n",
      "8\n",
      "9\n",
      "10\n",
      "101\n",
      "102\n",
      "103\n",
      "104\n",
      "105\n",
      "106\n",
      "107\n",
      "108\n",
      "109\n",
      "11\n",
      "110\n",
      "12\n",
      "13\n",
      "14\n",
      "15\n",
      "16\n",
      "17\n",
      "18\n",
      "19\n",
      "20\n",
      "21\n",
      "22\n",
      "23\n",
      "24\n",
      "25\n",
      "26\n",
      "27\n",
      "28\n",
      "29\n",
      "30\n",
      "31\n",
      "32\n",
      "33\n",
      "34\n",
      "35\n",
      "36\n",
      "37\n",
      "38\n",
      "39\n",
      "40\n",
      "41\n",
      "42\n",
      "43\n",
      "44\n",
      "45\n",
      "46\n",
      "47\n",
      "48\n",
      "49\n",
      "50\n",
      "51\n",
      "52\n",
      "53\n",
      "54\n",
      "55\n",
      "56\n",
      "57\n",
      "58\n",
      "59\n",
      "60\n",
      "61\n",
      "62\n",
      "63\n",
      "64\n",
      "65\n",
      "66\n",
      "67\n",
      "68\n",
      "69\n",
      "70\n",
      "71\n",
      "72\n",
      "73\n",
      "74\n",
      "75\n",
      "76\n",
      "77\n",
      "78\n",
      "79\n",
      "80\n",
      "81\n",
      "82\n",
      "83\n",
      "84\n",
      "85\n",
      "86\n",
      "87\n",
      "88\n",
      "89\n",
      "90\n",
      "91\n",
      "92\n",
      "95\n",
      "96\n",
      "97\n",
      "98\n",
      "99\n",
      "93\n"
     ]
    }
   ],
   "source": [
    "fishnet_4326_list = []\n",
    "for AGG_TILE_NUM in asset_df.AGG_TILE_NUM.to_list():\n",
    "    print(AGG_TILE_NUM)\n",
    "    ASSET_TILE_NAME, fishnet_4326 = MAKE_ASSET_TILE_SUBTILES(AGG_TILE_NUM, asset_df, TILE_FIELD_NAME=TILE_FIELD_NAME, TILE_SIZE_M=TILE_SIZE_M)\n",
    "    fishnet_4326_list.append(fishnet_4326)\n",
    "\n",
    "z = pd.concat(fishnet_4326_list)\n",
    "z.to_file(f'/projects/my-public-bucket/databank/boreal_tiles_v003_agg9/boreal_tiles_v003_agg9_subtiles_{TILE_SIZE_M}m.gpkg', driver='GPKG')"
   ]
  },
  {
   "cell_type": "code",
   "execution_count": 88,
   "id": "39e74442-242d-48d7-9e2b-33ecba143f70",
   "metadata": {
    "tags": []
   },
   "outputs": [
    {
     "data": {
      "text/html": [
       "<div>\n",
       "<style scoped>\n",
       "    .dataframe tbody tr th:only-of-type {\n",
       "        vertical-align: middle;\n",
       "    }\n",
       "\n",
       "    .dataframe tbody tr th {\n",
       "        vertical-align: top;\n",
       "    }\n",
       "\n",
       "    .dataframe thead th {\n",
       "        text-align: right;\n",
       "    }\n",
       "</style>\n",
       "<table border=\"1\" class=\"dataframe\">\n",
       "  <thead>\n",
       "    <tr style=\"text-align: right;\">\n",
       "      <th></th>\n",
       "      <th>geometry</th>\n",
       "      <th>subtile</th>\n",
       "      <th>tile</th>\n",
       "    </tr>\n",
       "  </thead>\n",
       "  <tbody>\n",
       "    <tr>\n",
       "      <th>0</th>\n",
       "      <td>POLYGON ((128.60784 34.41330, 128.50042 34.515...</td>\n",
       "      <td>0</td>\n",
       "      <td>1</td>\n",
       "    </tr>\n",
       "    <tr>\n",
       "      <th>1</th>\n",
       "      <td>POLYGON ((128.71972 34.51187, 128.61231 34.614...</td>\n",
       "      <td>1</td>\n",
       "      <td>1</td>\n",
       "    </tr>\n",
       "    <tr>\n",
       "      <th>2</th>\n",
       "      <td>POLYGON ((128.83196 34.61022, 128.72457 34.713...</td>\n",
       "      <td>2</td>\n",
       "      <td>1</td>\n",
       "    </tr>\n",
       "    <tr>\n",
       "      <th>3</th>\n",
       "      <td>POLYGON ((128.94455 34.70836, 128.83718 34.811...</td>\n",
       "      <td>3</td>\n",
       "      <td>1</td>\n",
       "    </tr>\n",
       "    <tr>\n",
       "      <th>4</th>\n",
       "      <td>POLYGON ((129.05751 34.80629, 128.95015 34.909...</td>\n",
       "      <td>4</td>\n",
       "      <td>1</td>\n",
       "    </tr>\n",
       "  </tbody>\n",
       "</table>\n",
       "</div>"
      ],
      "text/plain": [
       "                                            geometry  subtile  tile\n",
       "0  POLYGON ((128.60784 34.41330, 128.50042 34.515...        0     1\n",
       "1  POLYGON ((128.71972 34.51187, 128.61231 34.614...        1     1\n",
       "2  POLYGON ((128.83196 34.61022, 128.72457 34.713...        2     1\n",
       "3  POLYGON ((128.94455 34.70836, 128.83718 34.811...        3     1\n",
       "4  POLYGON ((129.05751 34.80629, 128.95015 34.909...        4     1"
      ]
     },
     "execution_count": 88,
     "metadata": {},
     "output_type": "execute_result"
    }
   ],
   "source": [
    "z.head()"
   ]
  },
  {
   "cell_type": "code",
   "execution_count": 84,
   "id": "68035245-b843-4f48-9845-9454e2945116",
   "metadata": {
    "tags": []
   },
   "outputs": [
    {
     "data": {
      "text/plain": [
       "<Axes: >"
      ]
     },
     "execution_count": 84,
     "metadata": {},
     "output_type": "execute_result"
    },
    {
     "data": {
      "image/png": "[encoded data removed]",
      "text/plain": [
       "<Figure size 640x480 with 1 Axes>"
      ]
     },
     "metadata": {},
     "output_type": "display_data"
    }
   ],
   "source": [
    "z.head(10000).plot()"
   ]
  },
  {
   "cell_type": "markdown",
   "id": "439b5d9e-cd95-4457-8a6b-fa48df149d98",
   "metadata": {},
   "source": [
    "# ---------------------------------------  \n",
    "\n",
    "# DPS - serial job submission (slow)"
   ]
  },
  {
   "cell_type": "code",
   "execution_count": 89,
   "id": "877ee820-ab03-4bfe-917d-2e27f9e92814",
   "metadata": {
    "tags": []
   },
   "outputs": [],
   "source": [
    "def MAKE_ASSET_TILE_SUBTILES(AGG_TILE_NUM, asset_df, TILE_FIELD_NAME='AGG_TILE_NUM', TILE_SIZE_M=500):\n",
    "    '''\n",
    "    For an asset tile from GEE, create subtiles of a give size.\n",
    "    This can be used to create a mosaic json of the subtiles of the assets transferred from GEE\n",
    "    The mosiac json is used to view in notebook maps to check for completeness of DPS runs of these asset transfers\n",
    "    '''\n",
    "    if False:\n",
    "        DPS_ASSET_TILE_LIST = asset_df.index.to_list()\n",
    "        ASSET_TILE = DPS_ASSET_TILE_LIST.index(AGG_TILE_NUM+1)\n",
    "        DPS_ASSET_TILE_LIST = sorted(asset_df['AGG_TILE_NUM'].to_list()) # this field now available\n",
    "        ASSET_TILE = DPS_ASSET_TILE_LIST.index(AGG_TILE_NUM+1)\n",
    "    ASSET_TILE = AGG_TILE_NUM\n",
    "\n",
    "    ASSET_TILE_NAME = os.path.basename(asset_df[asset_df[TILE_FIELD_NAME]==ASSET_TILE].id.to_list()[0])\n",
    "\n",
    "    # \n",
    "    # Get fishnet of subtiles on the fly to DPS subtile submission\n",
    "    #\n",
    "    fishnet_df = do_gee_download_by_subtile.create_fishnet(asset_df[asset_df[TILE_FIELD_NAME] == ASSET_TILE], TILE_SIZE_M)\n",
    "    fishnet_df['subtile_num'] = fishnet_df.index\n",
    "    fishnet_df['tile_num'] = ASSET_TILE\n",
    "\n",
    "    fishnet_4326 = fishnet_df.to_crs(\"EPSG:4326\")\n",
    "    \n",
    "    return ASSET_TILE_NAME, fishnet_4326"
   ]
  },
  {
   "cell_type": "code",
   "execution_count": 40,
   "id": "a7442d50-c935-4ecb-bb52-a6b5d66b7687",
   "metadata": {
    "tags": []
   },
   "outputs": [
    {
     "data": {
      "text/plain": [
       "'s1_vv_vh_gamma_2018_pwr_tile01'"
      ]
     },
     "execution_count": 40,
     "metadata": {},
     "output_type": "execute_result"
    }
   ],
   "source": [
    "ASSET_PATH = 'projects/foreststructure/Circumboreal/S1_Composites_albers'\n",
    "\n",
    "# We need this asset_df to know how to loop over asset tiles - but the script also needs it during processing and to use it to build a fishnet_df \n",
    "asset_df = do_gee_download_by_subtile.get_gee_assets(ASSET_PATH)\n",
    "asset_df = pd.concat([asset_df.drop(['properties'], axis=1), asset_df['properties'].apply(pd.Series)], axis=1) # makes the AGG_TILE_NUM field available\n",
    "\n",
    "asset_df.head()\n",
    "\n",
    "ASSET_TILE_NAME = os.path.basename(asset_df.id.to_list()[0])\n",
    "ASSET_TILE_NAME"
   ]
  },
  {
   "cell_type": "code",
   "execution_count": 42,
   "id": "af4b9c71-de57-4d64-a4f3-fefcfc03440d",
   "metadata": {},
   "outputs": [
    {
     "name": "stdout",
     "output_type": "stream",
     "text": [
      "GEE Asset tile loc # 0 will go an asset tile dir: s1_vv_vh_gamma_2018_pwr_tile01\n",
      "\tbbox Albers= -4506720 2043330 -3681390 1218060\n"
     ]
    },
    {
     "ename": "KeyboardInterrupt",
     "evalue": "",
     "output_type": "error",
     "traceback": [
      "\u001b[0;31m---------------------------------------------------------------------------\u001b[0m",
      "\u001b[0;31mKeyboardInterrupt\u001b[0m                         Traceback (most recent call last)",
      "File \u001b[0;32m<timed exec>:28\u001b[0m\n",
      "File \u001b[0;32m~/code/icesat2_boreal/lib/do_gee_download_by_subtile.py:86\u001b[0m, in \u001b[0;36mcreate_fishnet\u001b[0;34m(asset, dims, DEBUG)\u001b[0m\n\u001b[1;32m     84\u001b[0m \u001b[38;5;28;01mwhile\u001b[39;00m y \u001b[38;5;241m<\u001b[39m\u001b[38;5;241m=\u001b[39m maxY:\n\u001b[1;32m     85\u001b[0m     \u001b[38;5;28;01mwhile\u001b[39;00m x \u001b[38;5;241m<\u001b[39m\u001b[38;5;241m=\u001b[39m maxX:\n\u001b[0;32m---> 86\u001b[0m         geom \u001b[38;5;241m=\u001b[39m \u001b[43mgeometry\u001b[49m\u001b[38;5;241;43m.\u001b[39;49m\u001b[43mPolygon\u001b[49m\u001b[43m(\u001b[49m\u001b[43m[\u001b[49m\u001b[43m(\u001b[49m\u001b[43mx\u001b[49m\u001b[43m,\u001b[49m\u001b[43my\u001b[49m\u001b[43m)\u001b[49m\u001b[43m,\u001b[49m\u001b[43m \u001b[49m\u001b[43m(\u001b[49m\u001b[43mx\u001b[49m\u001b[43m,\u001b[49m\u001b[43m \u001b[49m\u001b[43my\u001b[49m\u001b[38;5;241;43m+\u001b[39;49m\u001b[43msquare_size\u001b[49m\u001b[43m)\u001b[49m\u001b[43m,\u001b[49m\u001b[43m \u001b[49m\u001b[43m(\u001b[49m\u001b[43mx\u001b[49m\u001b[38;5;241;43m+\u001b[39;49m\u001b[43msquare_size\u001b[49m\u001b[43m,\u001b[49m\u001b[43m \u001b[49m\u001b[43my\u001b[49m\u001b[38;5;241;43m+\u001b[39;49m\u001b[43msquare_size\u001b[49m\u001b[43m)\u001b[49m\u001b[43m,\u001b[49m\u001b[43m \u001b[49m\u001b[43m(\u001b[49m\u001b[43mx\u001b[49m\u001b[38;5;241;43m+\u001b[39;49m\u001b[43msquare_size\u001b[49m\u001b[43m,\u001b[49m\u001b[43m \u001b[49m\u001b[43my\u001b[49m\u001b[43m)\u001b[49m\u001b[43m,\u001b[49m\u001b[43m \u001b[49m\u001b[43m(\u001b[49m\u001b[43mx\u001b[49m\u001b[43m,\u001b[49m\u001b[43m \u001b[49m\u001b[43my\u001b[49m\u001b[43m)\u001b[49m\u001b[43m]\u001b[49m\u001b[43m)\u001b[49m\n\u001b[1;32m     87\u001b[0m         geom_array\u001b[38;5;241m.\u001b[39mappend(geom)\n\u001b[1;32m     88\u001b[0m         x \u001b[38;5;241m+\u001b[39m\u001b[38;5;241m=\u001b[39m square_size\n",
      "File \u001b[0;32m~/env/above/lib/python3.9/site-packages/shapely/geometry/polygon.py:230\u001b[0m, in \u001b[0;36mPolygon.__new__\u001b[0;34m(self, shell, holes)\u001b[0m\n\u001b[1;32m    228\u001b[0m     \u001b[38;5;28;01mreturn\u001b[39;00m shell\n\u001b[1;32m    229\u001b[0m \u001b[38;5;28;01melse\u001b[39;00m:\n\u001b[0;32m--> 230\u001b[0m     shell \u001b[38;5;241m=\u001b[39m \u001b[43mLinearRing\u001b[49m\u001b[43m(\u001b[49m\u001b[43mshell\u001b[49m\u001b[43m)\u001b[49m\n\u001b[1;32m    232\u001b[0m \u001b[38;5;28;01mif\u001b[39;00m holes \u001b[38;5;129;01mis\u001b[39;00m \u001b[38;5;129;01mnot\u001b[39;00m \u001b[38;5;28;01mNone\u001b[39;00m:\n\u001b[1;32m    233\u001b[0m     \u001b[38;5;28;01mif\u001b[39;00m \u001b[38;5;28mlen\u001b[39m(holes) \u001b[38;5;241m==\u001b[39m \u001b[38;5;241m0\u001b[39m:\n\u001b[1;32m    234\u001b[0m         \u001b[38;5;66;03m# shapely constructor cannot handle holes=[]\u001b[39;00m\n",
      "File \u001b[0;32m~/env/above/lib/python3.9/site-packages/shapely/geometry/polygon.py:104\u001b[0m, in \u001b[0;36mLinearRing.__new__\u001b[0;34m(self, coordinates)\u001b[0m\n\u001b[1;32m     99\u001b[0m \u001b[38;5;28;01mif\u001b[39;00m \u001b[38;5;28mlen\u001b[39m(coordinates) \u001b[38;5;241m==\u001b[39m \u001b[38;5;241m0\u001b[39m:\n\u001b[1;32m    100\u001b[0m     \u001b[38;5;66;03m# empty geometry\u001b[39;00m\n\u001b[1;32m    101\u001b[0m     \u001b[38;5;66;03m# TODO better constructor + should shapely.linearrings handle this?\u001b[39;00m\n\u001b[1;32m    102\u001b[0m     \u001b[38;5;28;01mreturn\u001b[39;00m shapely\u001b[38;5;241m.\u001b[39mfrom_wkt(\u001b[38;5;124m\"\u001b[39m\u001b[38;5;124mLINEARRING EMPTY\u001b[39m\u001b[38;5;124m\"\u001b[39m)\n\u001b[0;32m--> 104\u001b[0m geom \u001b[38;5;241m=\u001b[39m \u001b[43mshapely\u001b[49m\u001b[38;5;241;43m.\u001b[39;49m\u001b[43mlinearrings\u001b[49m\u001b[43m(\u001b[49m\u001b[43mcoordinates\u001b[49m\u001b[43m)\u001b[49m\n\u001b[1;32m    105\u001b[0m \u001b[38;5;28;01mif\u001b[39;00m \u001b[38;5;129;01mnot\u001b[39;00m \u001b[38;5;28misinstance\u001b[39m(geom, LinearRing):\n\u001b[1;32m    106\u001b[0m     \u001b[38;5;28;01mraise\u001b[39;00m \u001b[38;5;167;01mValueError\u001b[39;00m(\u001b[38;5;124m\"\u001b[39m\u001b[38;5;124mInvalid values passed to LinearRing constructor\u001b[39m\u001b[38;5;124m\"\u001b[39m)\n",
      "File \u001b[0;32m~/env/above/lib/python3.9/site-packages/shapely/decorators.py:77\u001b[0m, in \u001b[0;36mmultithreading_enabled.<locals>.wrapped\u001b[0;34m(*args, **kwargs)\u001b[0m\n\u001b[1;32m     75\u001b[0m     \u001b[38;5;28;01mfor\u001b[39;00m arr \u001b[38;5;129;01min\u001b[39;00m array_args:\n\u001b[1;32m     76\u001b[0m         arr\u001b[38;5;241m.\u001b[39mflags\u001b[38;5;241m.\u001b[39mwriteable \u001b[38;5;241m=\u001b[39m \u001b[38;5;28;01mFalse\u001b[39;00m\n\u001b[0;32m---> 77\u001b[0m     \u001b[38;5;28;01mreturn\u001b[39;00m \u001b[43mfunc\u001b[49m\u001b[43m(\u001b[49m\u001b[38;5;241;43m*\u001b[39;49m\u001b[43margs\u001b[49m\u001b[43m,\u001b[49m\u001b[43m \u001b[49m\u001b[38;5;241;43m*\u001b[39;49m\u001b[38;5;241;43m*\u001b[39;49m\u001b[43mkwargs\u001b[49m\u001b[43m)\u001b[49m\n\u001b[1;32m     78\u001b[0m \u001b[38;5;28;01mfinally\u001b[39;00m:\n\u001b[1;32m     79\u001b[0m     \u001b[38;5;28;01mfor\u001b[39;00m arr, old_flag \u001b[38;5;129;01min\u001b[39;00m \u001b[38;5;28mzip\u001b[39m(array_args, old_flags):\n",
      "\u001b[0;31mKeyboardInterrupt\u001b[0m: "
     ]
    }
   ],
   "source": [
    "%%time\n",
    "\n",
    "#### If DPSing by subtile, you need ASSET_PATH to get gee asset_df and TILELOC to get the tile form asset_df to make its fishnet even before you call 'do_gee_download_by_subtile'\n",
    "ASSET_PATH = 'projects/foreststructure/Circumboreal/S1_Composites_albers'\n",
    "\n",
    "# We need this asset_df to know how to loop over asset tiles - but the script also needs it during processing and to use it to build a fishnet_df \n",
    "asset_df = do_gee_download_by_subtile.get_gee_assets(ASSET_PATH)\n",
    "asset_df = pd.concat([asset_df.drop(['properties'], axis=1), asset_df['properties'].apply(pd.Series)], axis=1) # makes the AGG_TILE_NUM field available\n",
    "\n",
    "DPS_ASSET_TILE_LIST = asset_df.index.to_list()\n",
    "# Potential to iterate over AGG TILE  NUM instead of 'index'?\n",
    "#DPS_ASSET_TILE_LIST = sorted(asset_df['AGG_TILE_NUM'].to_list()) # this field now available\n",
    "\n",
    "submit_results_df_list = []\n",
    "n_subtiles_total = 0\n",
    "\n",
    "TILE_SIZE_M = 500\n",
    "\n",
    "DPS_num = 0\n",
    "for TILELOC in DPS_ASSET_TILE_LIST[0:2]:\n",
    "\n",
    "    \n",
    "    ASSET_TILE_NAME = os.path.basename(asset_df.id.to_list()[TILELOC])\n",
    "    \n",
    "    print(f'GEE Asset tile loc # {TILELOC} will go an asset tile dir: {ASSET_TILE_NAME}')\n",
    "    \n",
    "    # \n",
    "    # Get fishnet of subtiles on the fly to DPS subtile submission\n",
    "    #\n",
    "    fishnet_df = do_gee_download_by_subtile.create_fishnet(asset_df, TILELOC, TILE_SIZE_M) # !! This number must be the same as what is in the script\n",
    "    fishnet_df['subtile'] = fishnet_df.index\n",
    "    fishnet_df['tile'] = TILELOC\n",
    "    \n",
    "    fishnet_4326 = fishnet_df.to_crs(\"EPSG:4326\")\n",
    "\n",
    "    n_subtiles = fishnet_4326.shape[0]\n",
    "    n_subtiles_total += n_subtiles\n",
    "    \n",
    "    ## This will multprocess the glob for unfinished subtiles\n",
    "    # Get full index list\n",
    "    LIST_SUBTILE_INDEX_TO_DPS = [index for index, row in fishnet_4326.iterrows()]\n",
    "    \n",
    "    len_input_list = len(LIST_SUBTILE_INDEX_TO_DPS)\n",
    "    print(f\"# of input subtiles for DPS over asset tile {TILELOC}: {len_input_list}\")\n",
    "    \n",
    "    # Loop over DPS submissions of each Agg tile's subtiles\n",
    "    for INPUT_SUBTILE_NUM in LIST_SUBTILE_INDEX_TO_DPS:\n",
    "        \n",
    "        DPS_num += 1\n",
    "    \n",
    "        in_param_dict = {\n",
    "                             'creds_fn' : CRED_FN,\n",
    "                             'subtile_loc': INPUT_SUBTILE_NUM,\n",
    "                             'tile_loc': TILELOC,\n",
    "                             'asset_path': ASSET_PATH,\n",
    "                            'tile_size_m': TILE_SIE_M\n",
    "\n",
    "            }\n",
    "\n",
    "        submit_result = maap.submitJob(\n",
    "                                        identifier=IDENTIFIER,\n",
    "                                        algo_id=ALGO_ID,\n",
    "                                        version=MAAP_VERSION,\n",
    "                                        username=USER,\n",
    "                                        queue=WORKER_TYPE,\n",
    "                                        # Args that match yaml\n",
    "                                        **in_param_dict\n",
    "            )\n",
    "\n",
    "        # Build a dataframe of submission details\n",
    "        submit_result_df = pd.DataFrame( \n",
    "            {\n",
    "                    'dps_num':[DPS_num],\n",
    "                    'tile_num':[TILELOC],\n",
    "                    'subtile_num': [INPUT_SUBTILE_NUM],\n",
    "                    'submit_time':[datetime.datetime.now()],\n",
    "                    'dbs_job_hour': [datetime.datetime.now().hour],\n",
    "                    'algo_id': [ALGO_ID],\n",
    "                    'user': [USER],\n",
    "                    'worker_type': [WORKER_TYPE],\n",
    "                    'job_id': [submit_result.id],\n",
    "                    'submit_status': [submit_result.retrieve_status()],\n",
    "\n",
    "            } \n",
    "        )\n",
    "\n",
    "        # Append to a list of data frames of submission results\n",
    "        submit_results_df_list.append(submit_result_df)\n",
    "\n",
    "        if DPS_num in [1, 5, 10, 50, 100, 250, 500, 750, 1000, 1500, 2000, 2500, 3000, 3500, 4000, 4500, 5000, 7000, 9000, 11000, 13000, 15000, 17000, 19000, 21000, 24000, 25000, n_subtiles_total]:\n",
    "            print(f\"DPS run #: {DPS_num}\\t| Tile loc: {TILELOC}\\t| subtile: {INPUT_SUBTILE_NUM}\\t| submit status: {submit_result.retrieve_status()}\\t| job id: {submit_result.id}\") \n",
    "\n",
    "# Build a final submission results df and save\n",
    "submit_results_df = pd.concat(submit_results_df_list)\n",
    "submit_results_df['run_name'] = IDENTIFIER\n",
    "nowtime = pd.Timestamp.now().strftime('%Y%m%d%H%M')\n",
    "print(f\"Current time:\\t{nowtime}\")\n",
    "submit_results_df.to_csv(f'/projects/my-public-bucket/dps_submission_results/DPS_{ALGO_ID}_{IDENTIFIER}_submission_results_{len_input_list}_{nowtime}.csv')\n",
    "submit_results_df.info()"
   ]
  },
  {
   "cell_type": "code",
   "execution_count": 128,
   "id": "2d396461-438a-46f8-bce7-748d100dd411",
   "metadata": {
    "tags": []
   },
   "outputs": [
    {
     "data": {
      "text/html": [
       "<div>\n",
       "<style scoped>\n",
       "    .dataframe tbody tr th:only-of-type {\n",
       "        vertical-align: middle;\n",
       "    }\n",
       "\n",
       "    .dataframe tbody tr th {\n",
       "        vertical-align: top;\n",
       "    }\n",
       "\n",
       "    .dataframe thead th {\n",
       "        text-align: right;\n",
       "    }\n",
       "</style>\n",
       "<table border=\"1\" class=\"dataframe\">\n",
       "  <thead>\n",
       "    <tr style=\"text-align: right;\">\n",
       "      <th></th>\n",
       "      <th>dps_num</th>\n",
       "      <th>tile_num</th>\n",
       "      <th>subtile_num</th>\n",
       "      <th>submit_time</th>\n",
       "      <th>dbs_job_hour</th>\n",
       "      <th>algo_id</th>\n",
       "      <th>user</th>\n",
       "      <th>worker_type</th>\n",
       "      <th>job_id</th>\n",
       "      <th>submit_status</th>\n",
       "      <th>run_name</th>\n",
       "    </tr>\n",
       "  </thead>\n",
       "  <tbody>\n",
       "    <tr>\n",
       "      <th>0</th>\n",
       "      <td>415719</td>\n",
       "      <td>12</td>\n",
       "      <td>0</td>\n",
       "      <td>2023-10-09 02:21:01.439016</td>\n",
       "      <td>2</td>\n",
       "      <td>do_gee_download_by_subtile</td>\n",
       "      <td>montesano</td>\n",
       "      <td>maap-dps-worker-8gb</td>\n",
       "      <td>7f9f1d33-1d12-4bf7-ad50-9b6e51fe083a</td>\n",
       "      <td>Accepted</td>\n",
       "      <td>SAR_S1_2018</td>\n",
       "    </tr>\n",
       "    <tr>\n",
       "      <th>0</th>\n",
       "      <td>415719</td>\n",
       "      <td>12</td>\n",
       "      <td>1</td>\n",
       "      <td>2023-10-09 02:21:01.753448</td>\n",
       "      <td>2</td>\n",
       "      <td>do_gee_download_by_subtile</td>\n",
       "      <td>montesano</td>\n",
       "      <td>maap-dps-worker-8gb</td>\n",
       "      <td>8f9040de-2fd7-43de-8de6-dd31eb78c61e</td>\n",
       "      <td>Accepted</td>\n",
       "      <td>SAR_S1_2018</td>\n",
       "    </tr>\n",
       "    <tr>\n",
       "      <th>0</th>\n",
       "      <td>415719</td>\n",
       "      <td>12</td>\n",
       "      <td>2</td>\n",
       "      <td>2023-10-09 02:21:01.744644</td>\n",
       "      <td>2</td>\n",
       "      <td>do_gee_download_by_subtile</td>\n",
       "      <td>montesano</td>\n",
       "      <td>maap-dps-worker-8gb</td>\n",
       "      <td>11be8e54-93a1-492d-ac0a-8aaa802852ed</td>\n",
       "      <td>Accepted</td>\n",
       "      <td>SAR_S1_2018</td>\n",
       "    </tr>\n",
       "    <tr>\n",
       "      <th>0</th>\n",
       "      <td>415719</td>\n",
       "      <td>12</td>\n",
       "      <td>3</td>\n",
       "      <td>2023-10-09 02:20:56.375547</td>\n",
       "      <td>2</td>\n",
       "      <td>do_gee_download_by_subtile</td>\n",
       "      <td>montesano</td>\n",
       "      <td>maap-dps-worker-8gb</td>\n",
       "      <td>e30ad2df-10c2-42b3-acf4-6850f4c7895d</td>\n",
       "      <td>Accepted</td>\n",
       "      <td>SAR_S1_2018</td>\n",
       "    </tr>\n",
       "    <tr>\n",
       "      <th>0</th>\n",
       "      <td>415719</td>\n",
       "      <td>12</td>\n",
       "      <td>4</td>\n",
       "      <td>2023-10-09 02:21:02.366877</td>\n",
       "      <td>2</td>\n",
       "      <td>do_gee_download_by_subtile</td>\n",
       "      <td>montesano</td>\n",
       "      <td>maap-dps-worker-8gb</td>\n",
       "      <td>8df21ad2-7a6a-4ce2-a55e-0f5ebf7353aa</td>\n",
       "      <td>Accepted</td>\n",
       "      <td>SAR_S1_2018</td>\n",
       "    </tr>\n",
       "  </tbody>\n",
       "</table>\n",
       "</div>"
      ],
      "text/plain": [
       "   dps_num  tile_num  subtile_num                submit_time  dbs_job_hour  \\\n",
       "0   415719        12            0 2023-10-09 02:21:01.439016             2   \n",
       "0   415719        12            1 2023-10-09 02:21:01.753448             2   \n",
       "0   415719        12            2 2023-10-09 02:21:01.744644             2   \n",
       "0   415719        12            3 2023-10-09 02:20:56.375547             2   \n",
       "0   415719        12            4 2023-10-09 02:21:02.366877             2   \n",
       "\n",
       "                      algo_id       user          worker_type  \\\n",
       "0  do_gee_download_by_subtile  montesano  maap-dps-worker-8gb   \n",
       "0  do_gee_download_by_subtile  montesano  maap-dps-worker-8gb   \n",
       "0  do_gee_download_by_subtile  montesano  maap-dps-worker-8gb   \n",
       "0  do_gee_download_by_subtile  montesano  maap-dps-worker-8gb   \n",
       "0  do_gee_download_by_subtile  montesano  maap-dps-worker-8gb   \n",
       "\n",
       "                                 job_id submit_status     run_name  \n",
       "0  7f9f1d33-1d12-4bf7-ad50-9b6e51fe083a      Accepted  SAR_S1_2018  \n",
       "0  8f9040de-2fd7-43de-8de6-dd31eb78c61e      Accepted  SAR_S1_2018  \n",
       "0  11be8e54-93a1-492d-ac0a-8aaa802852ed      Accepted  SAR_S1_2018  \n",
       "0  e30ad2df-10c2-42b3-acf4-6850f4c7895d      Accepted  SAR_S1_2018  \n",
       "0  8df21ad2-7a6a-4ce2-a55e-0f5ebf7353aa      Accepted  SAR_S1_2018  "
      ]
     },
     "execution_count": 128,
     "metadata": {},
     "output_type": "execute_result"
    }
   ],
   "source": [
    "# submit_results_df.reset_index(drop=True, inplace=True)\n",
    "submit_results_df.head()"
   ]
  },
  {
   "cell_type": "markdown",
   "id": "65459808-aed3-447c-b04d-5d4c72abcf9a",
   "metadata": {},
   "source": [
    "After almost any DPS job, you have to assess what succeeded and failed. This involves:\n",
    "1. building a table of job status based on job ids captured in the job_results_df from the DPS run chunk (this takes 40 mins for ~47k jobs) --> this tells you how many jobs failed\n",
    "2. merging the job status table with the job results df --> this tells you which specific granules (or tile nums) failed\n",
    "3. building another input list of granules for a follow-up DPS\n",
    "## Assess DPS results\n",
    "Build a table of job status based on job id - how many jobs failed?"
   ]
  },
  {
   "cell_type": "code",
   "execution_count": 454,
   "id": "0f15ed19-d7e3-4f44-bcc3-4598f3fc5129",
   "metadata": {
    "tags": []
   },
   "outputs": [
    {
     "data": {
      "text/plain": [
       "['/projects/my-public-bucket/dps_submission_results/DPS_do_gee_download_by_subtile_TEST2_SAR_S1_2018_submission_results_5_202310102121.csv']"
      ]
     },
     "execution_count": 454,
     "metadata": {},
     "output_type": "execute_result"
    }
   ],
   "source": [
    "LIST_SUBMISSIONS = sorted(glob.glob(f'/projects/my-public-bucket/dps_submission_results/DPS_{ALGO_ID}_{IDENTIFIER}_submission_results_*.csv'), key=ExtractUtils.func, reverse=True)[0:1]\n",
    "LIST_SUBMISSIONS"
   ]
  },
  {
   "cell_type": "code",
   "execution_count": 455,
   "id": "deb7b8fd-af0f-44c5-9a2f-cfa5cb21a4e3",
   "metadata": {},
   "outputs": [
    {
     "name": "stdout",
     "output_type": "stream",
     "text": [
      "DPS alg:\t\tdo_gee_download_by_subtile_TEST2_SAR_S1_2018\n",
      "DPS run name:\t\tTEST2_SAR_S1_2018\n",
      "DPS launch time:\t202310102121\n",
      "Count total jobs:\t5\n",
      "Count pending jobs:\t0\n",
      "Count running jobs:\t0\n",
      "Count succeeded jobs:\t5\n",
      "Count failed jobs:\t0\n",
      "% of failed jobs:\tNothing has failed...yet\n",
      "\n",
      "CPU times: user 104 ms, sys: 7.83 ms, total: 111 ms\n",
      "Wall time: 421 ms\n"
     ]
    }
   ],
   "source": [
    "%%time\n",
    "\n",
    "running_list = []\n",
    "fails_list = []\n",
    "success_list = []\n",
    "\n",
    "for fn in LIST_SUBMISSIONS:\n",
    "    if not 'job_status' in fn:\n",
    "\n",
    "        DPS_alg_id = os.path.basename(fn.split('_submission_results_')[0].replace('DPS_',''))\n",
    "        thentime = fn.split('_')[-1].replace('.csv','')\n",
    "        print(f'DPS alg:\\t\\t{DPS_alg_id}')\n",
    "        print(f'DPS run name:\\t\\t{IDENTIFIER}')\n",
    "        print(f'DPS launch time:\\t{thentime}')\n",
    "        df_jstatus = ExtractUtils.BUILD_TABLE_JOBSTATUS(pd.read_csv(fn))\n",
    "        # Save job status table\n",
    "        df_jstatus.to_csv(f'/projects/my-public-bucket/dps_submission_results/DPS_{ALGO_ID}_{IDENTIFIER}_submission_results_job_status_{len(df_jstatus)}_{thentime}.csv')\n",
    "\n",
    "        # Get current fails df and append to list\n",
    "        df_jstatus['run_type'] = IDENTIFIER\n",
    "        running_list.append(df_jstatus[ (df_jstatus['status'] == 'Running') ] )\n",
    "        fails_list.append(  df_jstatus[ (df_jstatus['status'] == 'Failed') ] )\n",
    "        success_list.append(df_jstatus[ (df_jstatus['status'] == 'Succeeded') ] )\n",
    "            \n",
    "df_all_running = pd.concat(running_list)          \n",
    "df_all_fails =   pd.concat(fails_list)\n",
    "df_all_success = pd.concat(success_list)"
   ]
  },
  {
   "cell_type": "code",
   "execution_count": 46,
   "id": "87401f67-f460-4946-b7d5-a7f5ad3e0771",
   "metadata": {
    "tags": []
   },
   "outputs": [],
   "source": [
    "if False:\n",
    "    !aws s3 rm --quiet --recursive s3://maap-ops-workspace/montesano/dps_output/do_gee_download_by_subtile/EXPORT_GEE_v1/   SAR_S1_2018/2023"
   ]
  },
  {
   "cell_type": "markdown",
   "id": "387b1c4e-c017-4c04-8f2a-091533e370a3",
   "metadata": {},
   "source": [
    "## Make S1 subtiles vector - used for mosaic json later?"
   ]
  },
  {
   "cell_type": "markdown",
   "id": "66017b17-6c54-4640-8583-39e0dd9335ee",
   "metadata": {},
   "source": []
  },
  {
   "cell_type": "code",
   "execution_count": null,
   "id": "f84a19a8-b5b6-4ecf-a440-97fe3cefe379",
   "metadata": {},
   "outputs": [],
   "source": [
    "fishnet_4326_list = []\n",
    "for AGG_TILE_NUM in asset_df.AGG_TILE_NUM.to_list()[0:3]:\n",
    "    fishnet_4326 = make_asset_tile_subtiles(AGG_TILE_NUM, asset_df, TILE_FIELD_NAME=TILE_FIELD_NAME, TILE_SIZE_M=TILE_SIZE_M)\n",
    "    fishnet_4326_list.append(fishnet_4326)\n",
    "\n",
    "z = pd.concat(fishnet_4326_list)\n",
    "z.to_file(f'/projects/my-public-bucket/databank/boreal_tiles_v003_agg9/boreal_tiles_v003_agg9_subtiles_{TILE_SIZE_M}m.gpkg', driver='GPKG')\n",
    "\n",
    "z.explore()"
   ]
  },
  {
   "cell_type": "markdown",
   "id": "6fd0b7ad-1778-4b26-a1eb-ae4f4d295112",
   "metadata": {},
   "source": [
    "# -----------------------------------------------------\n",
    "# Process without DPS"
   ]
  },
  {
   "cell_type": "code",
   "execution_count": 65,
   "id": "60a96422-6250-4b2d-b4a9-5ca6a5393bdc",
   "metadata": {
    "tags": []
   },
   "outputs": [],
   "source": [
    "OUTDIR = '/projects/my-public-bucket/export_gee_to_maap_v2'"
   ]
  },
  {
   "cell_type": "code",
   "execution_count": 47,
   "id": "75d6a78e-1d07-4198-bd23-c62984c70a29",
   "metadata": {
    "tags": []
   },
   "outputs": [],
   "source": [
    "if False:\n",
    "    S3_PATH = f's3://maap-ops-workspace/shared/montesano/{os.path.basename(OUTDIR)}/'\n",
    "\n",
    "    !aws s3 rm --quiet --recursive $S3_PATH"
   ]
  },
  {
   "cell_type": "code",
   "execution_count": 67,
   "id": "3f2b2137-23c0-412f-a42f-6d671a028ce3",
   "metadata": {
    "tags": []
   },
   "outputs": [],
   "source": [
    "!mkdir -p $OUTDIR"
   ]
  },
  {
   "cell_type": "markdown",
   "id": "f38e73f5-6172-4929-83fd-f67b505017f9",
   "metadata": {
    "tags": []
   },
   "source": [
    "### [1]  Base command line approach"
   ]
  },
  {
   "cell_type": "code",
   "execution_count": 22,
   "id": "a6ecc00a-4848-4183-8d3d-eff69114844c",
   "metadata": {
    "tags": []
   },
   "outputs": [],
   "source": [
    "#!python /projects/code/icesat2_boreal/lib/export_gee_to_maap.py --tile_num 1 --dims 500 --asset_path 'projects/foreststructure/Circumboreal/S1_Composites_albers' --out_dir $OUTDIR"
   ]
  },
  {
   "cell_type": "markdown",
   "id": "21f79595-5d16-4ca4-a17e-3bcf848338fa",
   "metadata": {},
   "source": [
    "## Multiprocess GEE export of subtiles locally, loop over asset tiles"
   ]
  },
  {
   "cell_type": "code",
   "execution_count": 23,
   "id": "e9db8ca3-10e1-45b5-893e-6e045842ae34",
   "metadata": {
    "tags": []
   },
   "outputs": [],
   "source": [
    "# def do_gee_download_by_subtile(index, TILELOC, fishnet_4326, asset_df, OUTDIR):\n",
    "    \n",
    "#     fails = []\n",
    "    \n",
    "#     try:\n",
    "#         minx, miny, maxx, maxy = fishnet_4326.iloc[index].geometry.bounds\n",
    "\n",
    "#         region = ee.Geometry.BBox(minx, miny, maxx, maxy)\n",
    "\n",
    "#         # We want to submit to DPS this...\n",
    "#         #print('Fetching..')\n",
    "#         downloaded_image_fn = ee_download.download_image_by_asset_path(\n",
    "#                                 asset_path = asset_df.iloc[TILELOC]['id'],\n",
    "#                                 output_folder = OUTDIR,\n",
    "#                                 region = region,\n",
    "#                                 idx = str(index)\n",
    "#                                 )\n",
    "#         print(f'Index: {index} : {downloaded_image_fn}')\n",
    "\n",
    "#         # Extract tif to zip\n",
    "#         out_subdir = os.path.join(os.path.dirname(downloaded_image_fn) , os.path.splitext(downloaded_image_fn)[0])\n",
    "#         with zipfile.ZipFile(downloaded_image_fn, 'r') as zip_ref:\n",
    "#             zip_ref.extractall(out_subdir)\n",
    "#         os.remove(downloaded_image_fn)\n",
    "            \n",
    "#     except Exception as e:\n",
    "#         raise e\n",
    "#         fails.append(fishnet_4326.iloc[index])\n",
    "        \n",
    "#     return fails\n",
    "        \n",
    "def find_index_to_process(index, OUTDIR_TILE, DEBUG=False):\n",
    "    '''Get a list of subtile stacks of a GEE asset tile that remain to be processed. Prevents re-doing completing tiles.\n",
    "    Note: 6 bands (tifs) should be finished for each SAR stack\n",
    "    '''\n",
    "    \n",
    "    LIST_INDEX_TO_PROCESS = []\n",
    "    # Ideally use s3.glob here, but s3fs not importing correctly\n",
    "    num_exported_tifs_subtile = len(glob.glob(OUTDIR_TILE +f'/*-subtile{index:06}/*.tif'))\n",
    "    #num_exported_tifs_subtile = len(s3.glob(OUTDIR_TILE +f'/*-subtile{index:06}/*.tif'))\n",
    "    \n",
    "    if DEBUG:\n",
    "        print(f'{num_exported_tifs_subtile} subtiles for tile {index}')\n",
    "\n",
    "    # This prevents re-doing perfectly good and complete exports\n",
    "    # Only add to 'todo' list to export if an existing export sutile dir was interrupted (has less than the expected 6 tifs)\n",
    "    if num_exported_tifs_subtile < 6:\n",
    "        if DEBUG:\n",
    "            print(f'Returning subtile {index} for processing...')\n",
    "        return index\n",
    "    else:\n",
    "        if DEBUG:\n",
    "            print(f'{index} done.')\n",
    "        else:\n",
    "            pass\n",
    "        return None"
   ]
  },
  {
   "cell_type": "code",
   "execution_count": 24,
   "id": "84eee477-31f2-46f0-a139-178bdecacaa1",
   "metadata": {
    "tags": []
   },
   "outputs": [],
   "source": [
    "from multiprocessing import Pool\n",
    "from functools import partial"
   ]
  },
  {
   "cell_type": "code",
   "execution_count": 25,
   "id": "f6940029-2ff0-4705-ae9a-7a2554929cee",
   "metadata": {
    "tags": []
   },
   "outputs": [],
   "source": [
    "# For some reason this is needed to get s3fs to work in ExtractUtils\n",
    "# this upgrades to 0.3.4 even though we already specify this version in requirements_main...\n",
    "##!pip install s3fs --upgrade"
   ]
  },
  {
   "cell_type": "code",
   "execution_count": 26,
   "id": "e80eb461-9710-48a1-9b26-917b20ccca19",
   "metadata": {
    "tags": []
   },
   "outputs": [],
   "source": [
    "import s3fs\n",
    "s3 = s3fs.S3FileSystem(anon=True)"
   ]
  },
  {
   "cell_type": "markdown",
   "id": "656d26ba-4e9f-428c-8271-838ccdda836b",
   "metadata": {},
   "source": [
    "### Test of multiprocessing: buiding list of subtiles to process\n",
    "this needs a fishnet_4326"
   ]
  },
  {
   "cell_type": "code",
   "execution_count": 29,
   "id": "6f6012a3-180c-4fc5-b175-0800edb51758",
   "metadata": {
    "tags": []
   },
   "outputs": [
    {
     "name": "stdout",
     "output_type": "stream",
     "text": [
      "CPU times: user 2 µs, sys: 2 µs, total: 4 µs\n",
      "Wall time: 7.63 µs\n"
     ]
    }
   ],
   "source": [
    "%%time\n",
    "if False:\n",
    "    OUTDIR_TILE = '/projects/my-public-bucket/export_gee_to_maap_v2/asset_index_001'\n",
    "    full_index_list = [index for index, row in fishnet_4326.iterrows()]\n",
    "    print(f'{len(full_index_list)}')\n",
    "    if True:\n",
    "        with Pool(processes=30) as pool:\n",
    "            LIST_INDEX_TO_PROCESS = pool.map(partial(find_index_to_process, OUTDIR_TILE=OUTDIR_TILE, DEBUG=True), full_index_list[:1])\n",
    "    else:\n",
    "        LIST_INDEX_TO_PROCESS = [find_index_to_process(index, OUTDIR_TILE=OUTDIR_TILE) for index in full_index_list[-50:]]\n",
    "\n",
    "    LIST_INDEX_TO_PROCESS = [index for index in LIST_INDEX_TO_PROCESS if index is not None]\n",
    "    len(LIST_INDEX_TO_PROCESS)\n",
    "    \n",
    "    LIST_INDEX_TO_PROCESS = [index for index in LIST_INDEX_TO_PROCESS if index is not None]\n",
    "    LIST_INDEX_TO_PROCESS"
   ]
  },
  {
   "cell_type": "markdown",
   "id": "36896355-a53d-4ae4-a7e2-f5bd08d754d7",
   "metadata": {},
   "source": [
    "# Local loop per GEE asset tile\n",
    "multi-processes the thousands of subtiles per asset tile  \n",
    "delivers to `asset_tile_<TILE_ILOC>/s1_vv_vh_gamma_2018_pwr_tile<TILE_ILOC>-subtile<zero-padded subtile index number>/*.tif`"
   ]
  },
  {
   "cell_type": "markdown",
   "id": "9ca42b73-2d7f-47b1-8fa3-14960a859ba5",
   "metadata": {},
   "source": [
    "This provides a strategy for DPS.  \n",
    " - a DPS batch could consist of the downloading and unzipping of the thousands (~3000 - 28000) of subtiles for a batch associated with a single GEE asset tile"
   ]
  },
  {
   "cell_type": "code",
   "execution_count": 12,
   "id": "51c45d60-3fc1-4c01-80d7-9dfd6590207a",
   "metadata": {
    "tags": []
   },
   "outputs": [],
   "source": [
    "do_gee_download_by_subtile.do_gee_download_by_subtile(SUBTILE_LOC=1, TILELOC=1, ASSET_PATH='projects/foreststructure/Circumboreal/S1_Composites_albers', OUTDIR=OUTDIR_TILE)"
   ]
  },
  {
   "cell_type": "markdown",
   "id": "0bd29d8d-0dbc-4862-afec-6b472a44e2c5",
   "metadata": {},
   "source": [
    "### Make a geodataframe of asset footprints"
   ]
  },
  {
   "cell_type": "code",
   "execution_count": 30,
   "id": "be488d93-597f-4834-8ee1-b262f2a40d14",
   "metadata": {
    "tags": []
   },
   "outputs": [],
   "source": [
    "# Get the asset data frame that bounds the tiles of the asset in this image collection\n",
    "asset_df = do_gee_download_by_subtile.get_gee_assets('projects/foreststructure/Circumboreal/S1_Composites_albers')\n",
    "\n",
    "asset_properties_df = pd.DataFrame(asset_df.properties.to_list()).reset_index()\n",
    "asset_properties_geom_data = [shapely.geometry.Polygon(asset_df.properties[x]['system:footprint']['coordinates']) for x in list(range(0, len(asset_df.properties.to_list())))]\n",
    "asset_properties_gdf = gpd.GeoDataFrame(asset_properties_df, crs=4326, geometry=gpd.GeoSeries(asset_properties_geom_data)).drop(['system:footprint'], axis=1)"
   ]
  },
  {
   "cell_type": "code",
   "execution_count": 31,
   "id": "e09576b3-c0ba-4571-af73-39a4a1f02e9d",
   "metadata": {
    "tags": []
   },
   "outputs": [
    {
     "data": {
      "text/plain": [
       "<Axes: >"
      ]
     },
     "execution_count": 31,
     "metadata": {},
     "output_type": "execute_result"
    },
    {
     "data": {
      "image/png": "[encoded data removed]",
      "text/plain": [
       "<Figure size 640x480 with 1 Axes>"
      ]
     },
     "metadata": {},
     "output_type": "display_data"
    }
   ],
   "source": [
    "asset_properties_gdf.plot()"
   ]
  },
  {
   "cell_type": "code",
   "execution_count": 32,
   "id": "c4d62b6a-f44d-46d2-9814-11c42f332e0e",
   "metadata": {
    "tags": []
   },
   "outputs": [],
   "source": [
    "#fishnet_4326.explore()"
   ]
  },
  {
   "cell_type": "code",
   "execution_count": 33,
   "id": "7c8ec9b6-1bb3-44f6-8737-7fc32e8a37d2",
   "metadata": {
    "tags": []
   },
   "outputs": [
    {
     "name": "stdout",
     "output_type": "stream",
     "text": [
      "{0: 1, 1: 2, 2: 3, 3: 4, 4: 5, 5: 6, 6: 7, 7: 8, 8: 9, 9: 10, 10: 101, 11: 102, 12: 103, 13: 104, 14: 105, 15: 106, 16: 107, 17: 108, 18: 109, 19: 11, 20: 110, 21: 12, 22: 13, 23: 14, 24: 15, 25: 16, 26: 17, 27: 18, 28: 19, 29: 20, 30: 21, 31: 22, 32: 23, 33: 24, 34: 25, 35: 26, 36: 27, 37: 28, 38: 29, 39: 30, 40: 31, 41: 32, 42: 33, 43: 34, 44: 35, 45: 36, 46: 37, 47: 38, 48: 39, 49: 40, 50: 41, 51: 42, 52: 43, 53: 44, 54: 45, 55: 46, 56: 47, 57: 48, 58: 49, 59: 50, 60: 51, 61: 52, 62: 53, 63: 54, 64: 55, 65: 56, 66: 57, 67: 58, 68: 59, 69: 60, 70: 61, 71: 62, 72: 63, 73: 64, 74: 65, 75: 66, 76: 67, 77: 68, 78: 69, 79: 70, 80: 71, 81: 72, 82: 73, 83: 74, 84: 75, 85: 76, 86: 77, 87: 78, 88: 79, 89: 80, 90: 81, 91: 82, 92: 83, 93: 84, 94: 85, 95: 86, 96: 87, 97: 88, 98: 89, 99: 90, 100: 91, 101: 92, 102: 95, 103: 96, 104: 97, 105: 98, 106: 99}\n"
     ]
    }
   ],
   "source": [
    "# Notice the AGG_TILE_NUM doesnt match index locs, which is ok\n",
    "agg_tile_num_list =  asset_properties_gdf.AGG_TILE_NUM.to_list()\n",
    "keys = asset_properties_gdf.index.to_list()\n",
    "print(dict(zip(keys, agg_tile_num_list)))"
   ]
  },
  {
   "cell_type": "code",
   "execution_count": null,
   "id": "306e0dea-0686-4ba8-8316-11a285c7d80e",
   "metadata": {
    "tags": []
   },
   "outputs": [],
   "source": [
    "region  = fishnet_df.iloc[0]\n",
    "minx, miny, maxx, maxy = region.geometry.bounds\n",
    "region_ee = ee.Geometry.BBox(minx, miny, maxx, maxy)\n",
    "region_ee"
   ]
  },
  {
   "cell_type": "code",
   "execution_count": null,
   "id": "819d7a95-f8f4-4664-9feb-4bdeea9fe0b8",
   "metadata": {
    "tags": []
   },
   "outputs": [],
   "source": [
    "# Pulled out from loop below for testing\n",
    "do_gee_download_by_subtile.do_gee_download_by_subtile(index, TILELOC=TILELOC, fishnet=fishnet_df, asset_df=asset_df, OUTDIR=OUTDIR_TILE)"
   ]
  },
  {
   "cell_type": "code",
   "execution_count": 196,
   "id": "1f6a6808-b45c-42cd-8f85-059e065d56eb",
   "metadata": {
    "tags": []
   },
   "outputs": [
    {
     "data": {
      "text/plain": [
       "<module 'ee_download' from '/projects/code/icesat2_boreal/lib/ee_download.py'>"
      ]
     },
     "execution_count": 196,
     "metadata": {},
     "output_type": "execute_result"
    }
   ],
   "source": [
    "import do_gee_download_by_subtile\n",
    "import export_gee_to_maap\n",
    "import ee_download\n",
    "\n",
    "import importlib\n",
    "importlib.reload(do_gee_download_by_subtile)\n",
    "importlib.reload(export_gee_to_maap)\n",
    "importlib.reload(ee_download)"
   ]
  },
  {
   "cell_type": "code",
   "execution_count": 197,
   "id": "48d1f4bc-6527-4f2b-ac76-ad4794e9b461",
   "metadata": {
    "tags": []
   },
   "outputs": [
    {
     "data": {
      "text/plain": [
       "'/projects/my-public-bucket/export_gee_to_maap_v2'"
      ]
     },
     "execution_count": 197,
     "metadata": {},
     "output_type": "execute_result"
    }
   ],
   "source": [
    "OUTDIR"
   ]
  },
  {
   "cell_type": "code",
   "execution_count": 198,
   "id": "2355d88a-084f-46a6-ad5b-0e22aa16e9e6",
   "metadata": {
    "tags": []
   },
   "outputs": [
    {
     "name": "stdout",
     "output_type": "stream",
     "text": [
      "GEE Asset tile loc # 3 will go an asset tile dir: s1_vv_vh_gamma_2018_pwr_tile04\n",
      "\tasset id = projects/foreststructure/Circumboreal/S1_Composites_albers/s1_vv_vh_gamma_2018_pwr_tile04\n",
      "\trows = 27478 cols =  27585\n",
      "\t3080 subtiles to process\n",
      "\n",
      "\tSubtile 3 for tile loc 3 to subdir: /projects/my-public-bucket/export_gee_to_maap_v2/s1_vv_vh_gamma_2018_pwr_tile04/s1_vv_vh_gamma_2018_pwr_tile04\n",
      "\tasset id = projects/foreststructure/Circumboreal/S1_Composites_albers/s1_vv_vh_gamma_2018_pwr_tile04\n",
      "\trows = 27478 cols =  27585\n",
      "\tSUBTILE_LOC: 3 : extracted tifs to /projects/my-public-bucket/export_gee_to_maap_v2/s1_vv_vh_gamma_2018_pwr_tile04/s1_vv_vh_gamma_2018_pwr_tile04-subtile000003\n",
      "\n",
      "\tSubtile 4 for tile loc 3 to subdir: /projects/my-public-bucket/export_gee_to_maap_v2/s1_vv_vh_gamma_2018_pwr_tile04/s1_vv_vh_gamma_2018_pwr_tile04\n",
      "\tasset id = projects/foreststructure/Circumboreal/S1_Composites_albers/s1_vv_vh_gamma_2018_pwr_tile04\n",
      "\trows = 27478 cols =  27585\n",
      "\tSUBTILE_LOC: 4 : extracted tifs to /projects/my-public-bucket/export_gee_to_maap_v2/s1_vv_vh_gamma_2018_pwr_tile04/s1_vv_vh_gamma_2018_pwr_tile04-subtile000004\n",
      "\n",
      "\tSubtile 5 for tile loc 3 to subdir: /projects/my-public-bucket/export_gee_to_maap_v2/s1_vv_vh_gamma_2018_pwr_tile04/s1_vv_vh_gamma_2018_pwr_tile04\n",
      "\tasset id = projects/foreststructure/Circumboreal/S1_Composites_albers/s1_vv_vh_gamma_2018_pwr_tile04\n",
      "\trows = 27478 cols =  27585\n",
      "\tSUBTILE_LOC: 5 : extracted tifs to /projects/my-public-bucket/export_gee_to_maap_v2/s1_vv_vh_gamma_2018_pwr_tile04/s1_vv_vh_gamma_2018_pwr_tile04-subtile000005\n",
      "\n",
      "\tSubtile 6 for tile loc 3 to subdir: /projects/my-public-bucket/export_gee_to_maap_v2/s1_vv_vh_gamma_2018_pwr_tile04/s1_vv_vh_gamma_2018_pwr_tile04\n",
      "\tasset id = projects/foreststructure/Circumboreal/S1_Composites_albers/s1_vv_vh_gamma_2018_pwr_tile04\n",
      "\trows = 27478 cols =  27585\n",
      "\tSUBTILE_LOC: 6 : extracted tifs to /projects/my-public-bucket/export_gee_to_maap_v2/s1_vv_vh_gamma_2018_pwr_tile04/s1_vv_vh_gamma_2018_pwr_tile04-subtile000006\n",
      "\n",
      "\tSubtile 55 for tile loc 3 to subdir: /projects/my-public-bucket/export_gee_to_maap_v2/s1_vv_vh_gamma_2018_pwr_tile04/s1_vv_vh_gamma_2018_pwr_tile04\n",
      "\tasset id = projects/foreststructure/Circumboreal/S1_Composites_albers/s1_vv_vh_gamma_2018_pwr_tile04\n",
      "\trows = 27478 cols =  27585\n",
      "\tSUBTILE_LOC: 55 : extracted tifs to /projects/my-public-bucket/export_gee_to_maap_v2/s1_vv_vh_gamma_2018_pwr_tile04/s1_vv_vh_gamma_2018_pwr_tile04-subtile000055\n",
      "\n",
      "\tSubtile 56 for tile loc 3 to subdir: /projects/my-public-bucket/export_gee_to_maap_v2/s1_vv_vh_gamma_2018_pwr_tile04/s1_vv_vh_gamma_2018_pwr_tile04\n",
      "\tasset id = projects/foreststructure/Circumboreal/S1_Composites_albers/s1_vv_vh_gamma_2018_pwr_tile04\n",
      "\trows = 27478 cols =  27585\n",
      "\tSUBTILE_LOC: 56 : extracted tifs to /projects/my-public-bucket/export_gee_to_maap_v2/s1_vv_vh_gamma_2018_pwr_tile04/s1_vv_vh_gamma_2018_pwr_tile04-subtile000056\n",
      "\n",
      "\tSubtile 57 for tile loc 3 to subdir: /projects/my-public-bucket/export_gee_to_maap_v2/s1_vv_vh_gamma_2018_pwr_tile04/s1_vv_vh_gamma_2018_pwr_tile04\n",
      "\tasset id = projects/foreststructure/Circumboreal/S1_Composites_albers/s1_vv_vh_gamma_2018_pwr_tile04\n",
      "\trows = 27478 cols =  27585\n",
      "\tSUBTILE_LOC: 57 : extracted tifs to /projects/my-public-bucket/export_gee_to_maap_v2/s1_vv_vh_gamma_2018_pwr_tile04/s1_vv_vh_gamma_2018_pwr_tile04-subtile000057\n",
      "\n",
      "\tSubtile 58 for tile loc 3 to subdir: /projects/my-public-bucket/export_gee_to_maap_v2/s1_vv_vh_gamma_2018_pwr_tile04/s1_vv_vh_gamma_2018_pwr_tile04\n",
      "\tasset id = projects/foreststructure/Circumboreal/S1_Composites_albers/s1_vv_vh_gamma_2018_pwr_tile04\n",
      "\trows = 27478 cols =  27585\n",
      "\tSUBTILE_LOC: 58 : extracted tifs to /projects/my-public-bucket/export_gee_to_maap_v2/s1_vv_vh_gamma_2018_pwr_tile04/s1_vv_vh_gamma_2018_pwr_tile04-subtile000058\n",
      "CPU times: user 1.34 s, sys: 293 ms, total: 1.64 s\n",
      "Wall time: 1min 15s\n"
     ]
    }
   ],
   "source": [
    "%%time\n",
    "\n",
    "ASSET_PATH = 'projects/foreststructure/Circumboreal/S1_Composites_albers'\n",
    "\n",
    "# Append indiv asset tile gdf to this list to concat into a final gdf of all subtiles from all asset tiles\n",
    "fishnet_4326_list = []\n",
    "\n",
    "#for TILELOC in asset_df.index.to_list():\n",
    "for TILELOC in [3]:\n",
    "    \n",
    "    #### IF DPSing by subtile, you need TILELOC and ASSET_PATH to get gee asset_df and the tile fishnet even before you call 'do_gee_download_by_subtile'\n",
    "    \n",
    "    # We need this asset_df to know how to loop over asset tiles - but the script also needs it during processing and to use it to build a fishnet_df \n",
    "    asset_df = do_gee_download_by_subtile.get_gee_assets(ASSET_PATH)\n",
    "    ASSET_TILE_NAME = os.path.basename(asset_df.id.to_list()[TILELOC])\n",
    "    \n",
    "    # --- THIS IS NOW MADE IN do_gee_download_by_subtile\n",
    "    # Make asset tile subdir\n",
    "    OUTDIR_TILE = os.path.join(OUTDIR, ASSET_TILE_NAME)\n",
    "    if not os.path.exists(OUTDIR_TILE):\n",
    "        os.makedirs(OUTDIR_TILE)\n",
    "    \n",
    "    #print(f'GEE Asset tile loc position # {TILELOC} in subdir: {OUTDIR_TILE}')\n",
    "    print(f'GEE Asset tile loc # {TILELOC} will go an asset tile dir: {ASSET_TILE_NAME}')\n",
    "    \n",
    "    fishnet_df = do_gee_download_by_subtile.create_fishnet(asset_df, TILELOC, 500)\n",
    "    fishnet_df['subtile'] = fishnet_df.index\n",
    "    fishnet_df['tile'] = TILELOC\n",
    "    \n",
    "    # iterate over fishnet and import GEE image\n",
    "    fishnet_4326 = fishnet_df.to_crs(\"EPSG:4326\")\n",
    "    \n",
    "    ## This will multprocess the glob for unfinished subtiles\n",
    "    # Get full index list\n",
    "    LIST_INDEX_TO_PROCESS = [index for index, row in fishnet_4326.iterrows()]\n",
    "    \n",
    "    if False:\n",
    "        # Only needed to eliminate replication of subtile processing during local re-runs across an asset tile\n",
    "        with Pool(processes=25) as pool:\n",
    "            LIST_INDEX_TO_PROCESS = pool.map(partial(find_index_to_process, OUTDIR_TILE=OUTDIR_TILE), LIST_INDEX_TO_PROCESS)\n",
    "\n",
    "        # Get rid of Nones in list\n",
    "        LIST_INDEX_TO_PROCESS = [index for index in LIST_INDEX_TO_PROCESS if index is not None]\n",
    "    \n",
    "    print(f'\\t{len(LIST_INDEX_TO_PROCESS)} subtiles to process')\n",
    "    \n",
    "    #\n",
    "    # Process the subtile download for this GEE asset tile\n",
    "    # note: both cause transport endpoint disconnects... need to DPS\n",
    "    # replace this with maap.submitJob()\n",
    "    # \n",
    "    if True:\n",
    "        # Loop\n",
    "        #for index in LIST_INDEX_TO_PROCESS: #<------------CHANGE THIS AFTER TESTS\n",
    "        LIST_FOR_TEST = [LIST_INDEX_TO_PROCESS[x] for x in list(range(3,7))+list(range(55,59)) ]\n",
    "        for index in LIST_FOR_TEST:\n",
    "            args = ''\n",
    "            if False:\n",
    "                # Test of imported function\n",
    "                #do_gee_download_by_subtile.do_gee_download_by_subtile(index, TILELOC=TILELOC, fishnet=fishnet_df, asset_df=asset_df, OUTDIR=OUTDIR_TILE)\n",
    "                do_gee_download_by_subtile.do_gee_download_by_subtile(SUBTILE_LOC=index, TILELOC=TILELOC, ASSET_PATH=ASSET_PATH, OUTDIR=OUTDIR_TILE)\n",
    "            else:\n",
    "                # Test of cmd line main function\n",
    "                args += f'--subtile_loc {index} '\n",
    "                args += f'--tile_loc {TILELOC} '\n",
    "                args += f'--asset_path {ASSET_PATH} '\n",
    "                args += f'--out_dir {OUTDIR_TILE} '\n",
    "                !python /projects/code/icesat2_boreal/lib/do_gee_download_by_subtile.py $args\n",
    "    else:\n",
    "        # Multiprocess\n",
    "        with Pool(processes=25) as pool:\n",
    "            fails = pool.map(partial(do_gee_download_by_subtile.do_gee_download_by_subtile, TILELOC=TILELOC, fishnet=fishnet_df, asset_df=asset_df, OUTDIR=OUTDIR_TILE ), LIST_INDEX_TO_PROCESS)\n",
    "\n",
    "    fishnet_4326_list.append(fishnet_4326)\n",
    "\n",
    "final_fishnet_gdf = pd.concat(fishnet_4326_list)\n",
    "final_fishnet_gdf.to_file(os.path.join(OUTDIR, 'final_fishnet.gpkg'), driver='GPKG')"
   ]
  },
  {
   "cell_type": "code",
   "execution_count": null,
   "id": "1450b6de-e634-4767-916c-563683adf3ae",
   "metadata": {
    "tags": []
   },
   "outputs": [],
   "source": []
  },
  {
   "cell_type": "code",
   "execution_count": 195,
   "id": "5b6a099d-513a-48c5-98e3-4f983e50f70c",
   "metadata": {
    "tags": []
   },
   "outputs": [],
   "source": [
    "# S3_PATH = f's3://maap-ops-workspace/shared/montesano/{os.path.basename(OUTDIR)}/'\n",
    "# !aws s3 rm --quiet --recursive $S3_PATH\n",
    "# !mkdir -p $OUTDIR"
   ]
  }
 ],
 "metadata": {
  "kernelspec": {
   "display_name": "/projects/env/above",
   "language": "python",
   "name": "python3"
  },
  "language_info": {
   "codemirror_mode": {
    "name": "ipython",
    "version": 3
   },
   "file_extension": ".py",
   "mimetype": "text/x-python",
   "name": "python",
   "nbconvert_exporter": "python",
   "pygments_lexer": "ipython3",
   "version": "3.9.18"
  }
 },
 "nbformat": 4,
 "nbformat_minor": 5
}
