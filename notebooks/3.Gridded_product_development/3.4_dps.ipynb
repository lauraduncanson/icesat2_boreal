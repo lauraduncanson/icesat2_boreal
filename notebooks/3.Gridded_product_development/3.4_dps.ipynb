{
 "cells": [
  {
   "cell_type": "code",
   "execution_count": 1,
   "id": "b9a7eaf8",
   "metadata": {},
   "outputs": [],
   "source": [
    "from maap.maap import MAAP\n",
    "maap = MAAP(maap_host='api.ops.maap-project.org')"
   ]
  },
  {
   "cell_type": "markdown",
   "id": "d992742d",
   "metadata": {},
   "source": [
    "# Launch DPS for mapBoreal.R"
   ]
  },
  {
   "cell_type": "code",
   "execution_count": 2,
   "id": "620ff799",
   "metadata": {},
   "outputs": [
    {
     "name": "stderr",
     "output_type": "stream",
     "text": [
      "/projects/.local/lib/python3.7/site-packages/geopandas/_compat.py:110: UserWarning: The Shapely GEOS version (3.8.0-CAPI-1.13.1 ) is incompatible with the GEOS version PyGEOS was compiled with (3.9.1-CAPI-1.14.2). Conversions between both will be slow.\n",
      "  shapely_geos_version, geos_capi_version_string\n"
     ]
    }
   ],
   "source": [
    "import os\n",
    "import geopandas\n",
    "import pandas as pd\n",
    "import json\n",
    "from shutil import copy\n",
    "\n",
    "def local_to_s3(url, user='lduncanson'):\n",
    "    ''' A Function to convert local paths to s3 urls'''\n",
    "    return url.replace('/projects/my-private-bucket', f's3://maap-ops-workspace/{user}')\n",
    "def local_to_https(url, user='lduncanson'):\n",
    "    ''' A Function to convert local paths to https urls'''\n",
    "    return url.replace('/projects/my-private-bucket', f'https://s3.console.aws.amazon.com/s3/buckets/maap-ops-workspace/{user}')\n",
    "def local_to_https_uswest2(url, user='lduncanson'):\n",
    "    ''' A Function to convert local paths to https us-west-s urls'''\n",
    "    return url.replace('/projects/my-private-bucket', f'https://maap-ops-workspace.s3.us-west-2.amazonaws.com/{user}')"
   ]
  },
  {
   "cell_type": "code",
   "execution_count": 3,
   "id": "dac6f223",
   "metadata": {},
   "outputs": [],
   "source": [
    "atl08_filt_tindex_master =   pd.read_csv('s3://maap-ops-workspace/shared/lduncanson/DPS_tile_lists/ATL08_filt_tindex_master.csv')\n",
    "topo_tindex_master =         pd.read_csv('s3://maap-ops-workspace/shared/nathanmthomas/DPS_tile_lists/Topo_tindex_master.csv')\n",
    "landsat_tindex_master =      pd.read_csv('s3://maap-ops-workspace/shared/nathanmthomas/DPS_tile_lists/Landsat_tindex_master.csv')\n",
    "\n",
    "# Convert al local_paths to s3 and https\n",
    "atl08_filt_tindex_master['s3'] = [local_to_s3(local_path, user='lduncanson') for local_path in atl08_filt_tindex_master['local_path']]\n",
    "#.. for data produced by 'lduncanson' workspace\n",
    "atl08_filt_tindex_master['https'] = [local_to_https_uswest2(local_path, user='lduncanson') for local_path in atl08_filt_tindex_master['local_path']]\n",
    "\n",
    "#.. for data produced by 'nathanmthomas' workspace\n",
    "for tindex_master in [topo_tindex_master, landsat_tindex_master]:\n",
    "    tindex_master['s3'] = [local_to_s3(local_path, user='nathanmthomas') for local_path in tindex_master['local_path']]\n",
    "    tindex_master['https'] = [local_to_https_uswest2(local_path, user='nathanmthomas') for local_path in tindex_master['local_path']]"
   ]
  },
  {
   "cell_type": "markdown",
   "id": "233dd00d",
   "metadata": {},
   "source": [
    "# Use the ATL08 filtered tindex master list to tell you which tiles you'll run"
   ]
  },
  {
   "cell_type": "code",
   "execution_count": 4,
   "id": "214221b9",
   "metadata": {},
   "outputs": [
    {
     "name": "stdout",
     "output_type": "stream",
     "text": [
      "3972\n",
      "3937\n"
     ]
    }
   ],
   "source": [
    "INPUT_TILE_NUM_LIST = atl08_filt_tindex_master['tile_num'].values.astype(int).tolist()\n",
    "print(len(INPUT_TILE_NUM_LIST))\n",
    "\n",
    "# Remove duplicate tile nums\n",
    "INPUT_TILE_NUM_LIST = list(set(INPUT_TILE_NUM_LIST))\n",
    "\n",
    "print(len(INPUT_TILE_NUM_LIST))"
   ]
  },
  {
   "cell_type": "code",
   "execution_count": 23,
   "id": "ee32af57",
   "metadata": {},
   "outputs": [
    {
     "name": "stdout",
     "output_type": "stream",
     "text": [
      "s3://maap-ops-workspace/lduncanson/dps_output/run_tile_atl08_ubuntu/master/2021/09/25/08/37/36/740304/atl08_004_30m_filt_topo_landsat_20210925_0009.csv\n",
      "s3://maap-ops-workspace/nathanmthomas/dps_output/do_topo_stack_3-1-5_ubuntu/ops/2021/09/15/18/10/34/658640/Copernicus_9_covars_cog_topo_stack.tif\n",
      "s3://maap-ops-workspace/nathanmthomas/dps_output/do_landsat_stack_3-1-2_ubuntu/ops/2021/09/14/19/20/02/503587/Landsat8_9_comp_cog_2015-2020_dps.tif\n",
      "https://maap-ops-workspace.s3.us-west-2.amazonaws.com/lduncanson/dps_output/run_tile_atl08_ubuntu/master/2021/09/25/08/37/36/740304/atl08_004_30m_filt_topo_landsat_20210925_0009.csv\n",
      "https://maap-ops-workspace.s3.us-west-2.amazonaws.com/nathanmthomas/dps_output/do_topo_stack_3-1-5_ubuntu/ops/2021/09/15/18/10/34/658640/Copernicus_9_covars_cog_topo_stack.tif\n",
      "https://maap-ops-workspace.s3.us-west-2.amazonaws.com/nathanmthomas/dps_output/do_landsat_stack_3-1-2_ubuntu/ops/2021/09/14/19/20/02/503587/Landsat8_9_comp_cog_2015-2020_dps.tif\n"
     ]
    }
   ],
   "source": [
    "# Check s3 with a tile_num\n",
    "in_atl08_s3 =  atl08_filt_tindex_master['s3'].loc[atl08_filt_tindex_master['tile_num'] == INPUT_TILE_NUM_LIST[0]].tolist()[0]\n",
    "in_topo_s3 = topo_tindex_master['s3'].loc[topo_tindex_master['tile_num'] == INPUT_TILE_NUM_LIST[0]].tolist()[0]\n",
    "in_landsat_s3 = landsat_tindex_master['s3'].loc[landsat_tindex_master['tile_num'] == INPUT_TILE_NUM_LIST[0]].tolist()[0]\n",
    "print(in_atl08_s3)\n",
    "print(in_topo_s3)\n",
    "print(in_landsat_s3)\n",
    "# Check retrieval of http s3 path with a tle_num\n",
    "in_atl08_https =  atl08_filt_tindex_master['https'].loc[atl08_filt_tindex_master['tile_num'] == INPUT_TILE_NUM_LIST[0]].tolist()[0]\n",
    "in_topo_https = topo_tindex_master['https'].loc[topo_tindex_master['tile_num'] == INPUT_TILE_NUM_LIST[0]].tolist()[0]\n",
    "in_landsat_https = landsat_tindex_master['https'].loc[landsat_tindex_master['tile_num'] == INPUT_TILE_NUM_LIST[0]].tolist()[0]\n",
    "print(in_atl08_https)\n",
    "print(in_topo_https)\n",
    "print(in_landsat_https)"
   ]
  },
  {
   "cell_type": "markdown",
   "id": "7a1fce6c",
   "metadata": {},
   "source": [
    "## Get file for boreal biomass models\n"
   ]
  },
  {
   "cell_type": "code",
   "execution_count": 17,
   "id": "90d103ac",
   "metadata": {},
   "outputs": [],
   "source": [
    "bio_models_https = 'https://s3.console.aws.amazon.com/s3/buckets/maap-ops-workspace/lduncanson/my-private-bucket/bio_models.tar'"
   ]
  },
  {
   "cell_type": "markdown",
   "id": "7c24a2e3",
   "metadata": {},
   "source": [
    "## Run a DPS job"
   ]
  },
  {
   "cell_type": "code",
   "execution_count": 16,
   "id": "8539d2c6",
   "metadata": {},
   "outputs": [
    {
     "name": "stdout",
     "output_type": "stream",
     "text": [
      "DPS run num: 1, tile num: 1924, job info: {'status': 'success', 'http_status_code': 200, 'job_id': '1dcb20c3-bae8-43c1-8eb3-28721b1b1d01'}\n",
      "DPS job status: <Response [200]>\n",
      "DPS run num: 10, tile num: 274, job info: {'status': 'success', 'http_status_code': 200, 'job_id': 'f5f56a9c-0849-4b7e-9bcb-cd7d95033759'}\n",
      "DPS job status: <Response [200]>\n",
      "DPS run num: 50, tile num: 3580, job info: {'status': 'success', 'http_status_code': 200, 'job_id': 'd1aab9cc-f3ca-47d2-aff9-ba3bdbb78a80'}\n",
      "DPS job status: <Response [200]>\n"
     ]
    }
   ],
   "source": [
    "RUN_DPS  = True\n",
    "\n",
    "if RUN_DPS:\n",
    "    ##################################\n",
    "    #Test DPS submission on a single file\n",
    "    for i, INPUT_TILE_NUM in enumerate(INPUT_TILE_NUM_LIST):\n",
    "        DPS_num = i+1\n",
    "        \n",
    "        # Get the s3 paths of the corresponding input filenames with an input tile_num\n",
    "        in_atl08_https =  atl08_filt_tindex_master['https'].loc[atl08_filt_tindex_master['tile_num'] == INPUT_TILE_NUM].tolist()[0]\n",
    "        in_topo_https = topo_tindex_master['https'].loc[topo_tindex_master['tile_num'] == INPUT_TILE_NUM].tolist()[0]\n",
    "        in_landsat_https = landsat_tindex_master['https'].loc[landsat_tindex_master['tile_num'] == INPUT_TILE_NUM].tolist()[0]\n",
    "        \n",
    "        #print(in_atl08_https) \n",
    "        #print(in_topo_https)\n",
    "        #print(in_landsat_https)\n",
    "        \n",
    "        if True:\n",
    "            in_param_dict = {\n",
    "                                    'in_atl08_fn': f\"input/{os.path.basename(in_atl08_https)}\",\n",
    "                                    'in_topo_fn': f\"input/{os.path.basename(in_topo_https)}\",\n",
    "                                    'in_landsat_fn': f\"input/{os.path.basename(in_landsat_https)}\",\n",
    "                                    'in_atl08_fn_url': in_atl08_https,\n",
    "                                    'in_topo_fn_url': in_topo_https,\n",
    "                                    'in_landsat_fn_url': in_landsat_https\n",
    "                }\n",
    "\n",
    "            submit_result = maap.submitJob(\n",
    "                    identifier='run_boreal_biomass',\n",
    "                    algo_id='run_boreal_biomass_ubuntu',\n",
    "                    version='master',\n",
    "                    username='lduncanson', # username needs to be the same as whoever created the workspace\n",
    "                    queue='maap-dps-worker-32gb',\n",
    "                    **in_param_dict\n",
    "                )\n",
    "\n",
    "            #submit_result = 'submit test'\n",
    "            if DPS_num in [1, 10, 50, 100,200, 500,1000,3000,4000, len(INPUT_TILE_NUM_LIST)]:\n",
    "                print(f\"DPS run num: {DPS_num}, tile num: {INPUT_TILE_NUM}, job info: {submit_result}\") \n",
    "                print(f\"DPS job status: {maap.getJobStatus(submit_result.get('job_id')) }\" )\n",
    " "
   ]
  },
  {
   "cell_type": "markdown",
   "id": "19a9c630",
   "metadata": {},
   "source": [
    "## Get another list just of missing tiles"
   ]
  },
  {
   "cell_type": "code",
   "execution_count": 4,
   "id": "89cdf14b",
   "metadata": {},
   "outputs": [
    {
     "name": "stdout",
     "output_type": "stream",
     "text": [
      "51\n"
     ]
    },
    {
     "data": {
      "text/plain": [
       "50"
      ]
     },
     "execution_count": 4,
     "metadata": {},
     "output_type": "execute_result"
    }
   ],
   "source": [
    "need_tindex_master = pd.read_csv('/projects/my-public-bucket/DPS_tile_lists/Need_tindex_master.csv')\n",
    "print(len(need_tindex_master))\n",
    "\n",
    "INPUT_TILE_NUM_LIST = need_tindex_master.tile_num.tolist()\n",
    "\n",
    "# Remove duplicate tile nums\n",
    "INPUT_TILE_NUM_LIST = list(set(INPUT_TILE_NUM_LIST))\n",
    "\n",
    "len(INPUT_TILE_NUM_LIST)"
   ]
  },
  {
   "cell_type": "code",
   "execution_count": 5,
   "id": "5d4d74de",
   "metadata": {},
   "outputs": [
    {
     "name": "stdout",
     "output_type": "stream",
     "text": [
      "Missing: \t\t51\n"
     ]
    }
   ],
   "source": [
    "len(atl08_filt_tindex_master)\n",
    "\n",
    "tile_index_missing = atl08_filt_tindex_master[atl08_filt_tindex_master['tile_num'].isin(INPUT_TILE_NUM_LIST)]\n",
    "print(f'Missing: \\t\\t{len(tile_index_missing)}')"
   ]
  },
  {
   "cell_type": "markdown",
   "id": "ad54100a",
   "metadata": {},
   "source": [
    "# Run tests of tile and mapBoreal?"
   ]
  },
  {
   "cell_type": "markdown",
   "id": "ae2b7445",
   "metadata": {},
   "source": [
    "#### 1. Run the first part (tile_atl08.py) in LDs workspace (COGs are accessed from nathan's private bucket using the s3 libs and s3 paths)\n",
    "#### 2. Copy COGs locally so they are read by mapBoreal.R"
   ]
  },
  {
   "cell_type": "code",
   "execution_count": 10,
   "id": "3076bfd0",
   "metadata": {},
   "outputs": [
    {
     "name": "stdout",
     "output_type": "stream",
     "text": [
      "/projects/my-private-bucket/dps_output/do_topo_stack_3-1-5_ubuntu/ops/2021/09/15/19/08/46/342487/Copernicus_269_covars_cog_topo_stack.tif\n",
      "/projects/my-private-bucket/dps_output/do_landsat_stack_3-1-2_ubuntu/ops/2021/09/14/19/54/44/275704/Landsat8_269_comp_cog_2015-2020_dps.tif\n",
      "/projects/my-public-bucket/in_stacks_copy/Copernicus_269_covars_cog_topo_stack.tif\n",
      "/projects/icesat2_boreal/dps/alg_3-4-test/test_tiles.sh 269 /projects/shared-buckets/nathanmthomas/in_stacks_copy/Copernicus_269_covars_cog_topo_stack.tif /projects/shared-buckets/nathanmthomas/in_stacks_copy/Landsat8_269_comp_cog_2015-2020_dps.tif\n"
     ]
    }
   ],
   "source": [
    "# Get s3 with a tile_num\n",
    "INPUT_TILE_NUM_LIST = [269] #[2891, 2831, 885]\n",
    "\n",
    "for INPUT_TILE_NUM in INPUT_TILE_NUM_LIST:\n",
    "    \n",
    "\n",
    "    #in_atl08_s3 =  atl08_filt_tindex_master['s3'].loc[atl08_filt_tindex_master['tile_num'] == INPUT_TILE_NUM].tolist()[0]\n",
    "    in_topo_fn = topo_tindex_master['local_path'].loc[topo_tindex_master['tile_num'] == INPUT_TILE_NUM].tolist()[0]\n",
    "    in_landsat_fn = landsat_tindex_master['local_path'].loc[landsat_tindex_master['tile_num'] == INPUT_TILE_NUM].tolist()[0]\n",
    "    #print(in_atl08_s3)\n",
    "    print(in_topo_fn)\n",
    "    print(in_landsat_fn)\n",
    "\n",
    "    to_dir_cog = '/projects/my-public-bucket/in_stacks_copy'\n",
    "    in_topo_fn_local_copy = os.path.join(to_dir_cog, os.path.basename(in_topo_fn)) \n",
    "    in_landsat_fn_local_copy = os.path.join(to_dir_cog, os.path.basename(in_landsat_fn)) \n",
    "    print(os.path.join(to_dir_cog, os.path.basename(in_topo_fn)))\n",
    "\n",
    "    if True:\n",
    "        # This copy is run in 'nathanmthomas' workspace \n",
    "        if not os.path.exists(to_dir_cog):\n",
    "            os.makedirs(to_dir_cog)\n",
    "        copy(in_topo_fn, os.path.join(to_dir_cog, os.path.basename(in_topo_fn)))\n",
    "        copy(in_landsat_fn, os.path.join(to_dir_cog, os.path.basename(in_landsat_fn))) \n",
    "\n",
    "    # This is how to access those copied COGs from 'lduncanson' workspace\n",
    "    in_topo_fn_local_copy = in_topo_fn_local_copy.replace('my-public-bucket','shared-buckets/nathanmthomas')\n",
    "    in_landsat_fn_local_copy = in_landsat_fn_local_copy.replace('my-public-bucket','shared-buckets/nathanmthomas')\n",
    "    print(f'/projects/icesat2_boreal/dps/alg_3-4-test/test_tiles.sh {INPUT_TILE_NUM} {in_topo_fn_local_copy} {in_landsat_fn_local_copy}')"
   ]
  },
  {
   "cell_type": "code",
   "execution_count": 11,
   "id": "69918462",
   "metadata": {},
   "outputs": [
    {
     "data": {
      "text/plain": [
       "2388"
      ]
     },
     "execution_count": 11,
     "metadata": {},
     "output_type": "execute_result"
    }
   ],
   "source": [
    "atl08_test = pd.read_csv('s3://maap-ops-workspace/lduncanson/dps_output/run_tile_atl08_ubuntu/master/2021/09/25/08/37/36/740304/atl08_004_30m_filt_topo_landsat_20210925_0009.csv')\n",
    "len(atl08_test)"
   ]
  }
 ],
 "metadata": {
  "kernelspec": {
   "display_name": "Python 3 (ipykernel)",
   "language": "python",
   "name": "python3"
  },
  "language_info": {
   "codemirror_mode": {
    "name": "ipython",
    "version": 3
   },
   "file_extension": ".py",
   "mimetype": "text/x-python",
   "name": "python",
   "nbconvert_exporter": "python",
   "pygments_lexer": "ipython3",
   "version": "3.7.8"
  }
 },
 "nbformat": 4,
 "nbformat_minor": 5
}
