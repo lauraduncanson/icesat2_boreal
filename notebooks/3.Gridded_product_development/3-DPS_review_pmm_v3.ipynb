{
 "cells": [
  {
   "cell_type": "markdown",
   "id": "9f002d2f",
   "metadata": {},
   "source": [
    "# Review DPS outputs\n",
    "Make a mosaic of DPS outputs.\n",
    "\n",
    "1. make a list of the DPS output paths with build_tindex.master.py\n",
    "2. Identify duplicate tiles\n",
    "3. Identify matching tiles; merge tindex.master with the original index tile file\n",
    "4. make mosaicjson\n",
    "5. View DPS results"
   ]
  },
  {
   "cell_type": "code",
   "execution_count": 1,
   "id": "2d1265c8",
   "metadata": {},
   "outputs": [
    {
     "name": "stderr",
     "output_type": "stream",
     "text": [
      "/opt/conda/lib/python3.7/site-packages/geopandas/_compat.py:110: UserWarning: The Shapely GEOS version (3.8.0-CAPI-1.13.1 ) is incompatible with the GEOS version PyGEOS was compiled with (3.10.1-CAPI-1.16.0). Conversions between both will be slow.\n",
      "  shapely_geos_version, geos_capi_version_string\n"
     ]
    },
    {
     "name": "stdout",
     "output_type": "stream",
     "text": [
      "Requirement already satisfied: pystac in /projects/.local/lib/python3.7/site-packages (1.2.0)\n",
      "Requirement already satisfied: python-dateutil>=2.7.0 in /opt/conda/lib/python3.7/site-packages (from pystac) (2.8.2)\n",
      "Requirement already satisfied: typing-extensions>=3.7 in /opt/conda/lib/python3.7/site-packages (from pystac) (3.10.0.2)\n",
      "Requirement already satisfied: six>=1.5 in /opt/conda/lib/python3.7/site-packages (from python-dateutil>=2.7.0->pystac) (1.15.0)\n",
      "\u001b[33mWARNING: Running pip as the 'root' user can result in broken permissions and conflicting behaviour with the system package manager. It is recommended to use a virtual environment instead: https://pip.pypa.io/warnings/venv\u001b[0m\u001b[33m\n",
      "\u001b[0m\u001b[33mWARNING: You are using pip version 22.0.3; however, version 22.0.4 is available.\n",
      "You should consider upgrading via the '/opt/conda/bin/python3.7 -m pip install --upgrade pip' command.\u001b[0m\u001b[33m\n",
      "\u001b[0mRequirement already satisfied: h5py==3.1.0 in /projects/.local/lib/python3.7/site-packages (from -r /projects/Developer/icesat2_boreal/dps/requirements_main.txt (line 3)) (3.1.0)\n",
      "Requirement already satisfied: pandas==1.2.2 in /projects/.local/lib/python3.7/site-packages (from -r /projects/Developer/icesat2_boreal/dps/requirements_main.txt (line 4)) (1.2.2)\n",
      "Requirement already satisfied: pygeos==0.12.0 in /projects/.local/lib/python3.7/site-packages (from -r /projects/Developer/icesat2_boreal/dps/requirements_main.txt (line 7)) (0.12.0)\n",
      "Requirement already satisfied: rtree==0.9.7 in /projects/.local/lib/python3.7/site-packages (from -r /projects/Developer/icesat2_boreal/dps/requirements_main.txt (line 8)) (0.9.7)\n",
      "Requirement already satisfied: numpy==1.21.0 in /projects/.local/lib/python3.7/site-packages (from -r /projects/Developer/icesat2_boreal/dps/requirements_main.txt (line 9)) (1.21.0)\n",
      "Requirement already satisfied: geopandas==0.9.0 in /opt/conda/lib/python3.7/site-packages (from -r /projects/Developer/icesat2_boreal/dps/requirements_main.txt (line 12)) (0.9.0)\n",
      "Requirement already satisfied: rasterio==1.2.6 in /opt/conda/lib/python3.7/site-packages (from -r /projects/Developer/icesat2_boreal/dps/requirements_main.txt (line 13)) (1.2.6)\n",
      "Requirement already satisfied: importlib_resources in /opt/conda/lib/python3.7/site-packages (from -r /projects/Developer/icesat2_boreal/dps/requirements_main.txt (line 14)) (5.7.1)\n",
      "Requirement already satisfied: contextily in /opt/conda/lib/python3.7/site-packages (from -r /projects/Developer/icesat2_boreal/dps/requirements_main.txt (line 15)) (1.2.0)\n",
      "Requirement already satisfied: fsspec in /opt/conda/lib/python3.7/site-packages (from -r /projects/Developer/icesat2_boreal/dps/requirements_main.txt (line 16)) (2022.3.0)\n",
      "Requirement already satisfied: s3fs in /opt/conda/lib/python3.7/site-packages (from -r /projects/Developer/icesat2_boreal/dps/requirements_main.txt (line 17)) (2022.3.0)\n",
      "Requirement already satisfied: rio-cogeo==2.3.1 in /opt/conda/lib/python3.7/site-packages (from -r /projects/Developer/icesat2_boreal/dps/requirements_main.txt (line 22)) (2.3.1)\n",
      "Requirement already satisfied: rio-tiler==2.1.4 in /opt/conda/lib/python3.7/site-packages (from -r /projects/Developer/icesat2_boreal/dps/requirements_main.txt (line 23)) (2.1.4)\n",
      "Requirement already satisfied: morecantile==2.1.4 in /opt/conda/lib/python3.7/site-packages (from -r /projects/Developer/icesat2_boreal/dps/requirements_main.txt (line 25)) (2.1.4)\n",
      "Requirement already satisfied: pystac-client in /projects/.local/lib/python3.7/site-packages (from -r /projects/Developer/icesat2_boreal/dps/requirements_main.txt (line 26)) (0.3.2)\n",
      "Requirement already satisfied: cached-property in /projects/.local/lib/python3.7/site-packages (from h5py==3.1.0->-r /projects/Developer/icesat2_boreal/dps/requirements_main.txt (line 3)) (1.5.2)\n",
      "Requirement already satisfied: python-dateutil>=2.7.3 in /opt/conda/lib/python3.7/site-packages (from pandas==1.2.2->-r /projects/Developer/icesat2_boreal/dps/requirements_main.txt (line 4)) (2.8.2)\n",
      "Requirement already satisfied: pytz>=2017.3 in /opt/conda/lib/python3.7/site-packages (from pandas==1.2.2->-r /projects/Developer/icesat2_boreal/dps/requirements_main.txt (line 4)) (2021.1)\n",
      "Requirement already satisfied: pyproj>=2.2.0 in /opt/conda/lib/python3.7/site-packages (from geopandas==0.9.0->-r /projects/Developer/icesat2_boreal/dps/requirements_main.txt (line 12)) (3.2.1)\n",
      "Requirement already satisfied: fiona>=1.8 in /projects/.local/lib/python3.7/site-packages (from geopandas==0.9.0->-r /projects/Developer/icesat2_boreal/dps/requirements_main.txt (line 12)) (1.8.20)\n",
      "Requirement already satisfied: shapely>=1.6 in /projects/.local/lib/python3.7/site-packages (from geopandas==0.9.0->-r /projects/Developer/icesat2_boreal/dps/requirements_main.txt (line 12)) (1.7.1)\n",
      "Requirement already satisfied: certifi in /opt/conda/lib/python3.7/site-packages (from rasterio==1.2.6->-r /projects/Developer/icesat2_boreal/dps/requirements_main.txt (line 13)) (2021.5.30)\n",
      "Requirement already satisfied: cligj>=0.5 in /opt/conda/lib/python3.7/site-packages (from rasterio==1.2.6->-r /projects/Developer/icesat2_boreal/dps/requirements_main.txt (line 13)) (0.7.0)\n",
      "Requirement already satisfied: affine in /opt/conda/lib/python3.7/site-packages (from rasterio==1.2.6->-r /projects/Developer/icesat2_boreal/dps/requirements_main.txt (line 13)) (2.3.0)\n",
      "Requirement already satisfied: setuptools in /opt/conda/lib/python3.7/site-packages (from rasterio==1.2.6->-r /projects/Developer/icesat2_boreal/dps/requirements_main.txt (line 13)) (49.6.0.post20201009)\n",
      "Requirement already satisfied: attrs in /opt/conda/lib/python3.7/site-packages (from rasterio==1.2.6->-r /projects/Developer/icesat2_boreal/dps/requirements_main.txt (line 13)) (20.2.0)\n",
      "Requirement already satisfied: click>=4.0 in /opt/conda/lib/python3.7/site-packages (from rasterio==1.2.6->-r /projects/Developer/icesat2_boreal/dps/requirements_main.txt (line 13)) (7.1.2)\n",
      "Requirement already satisfied: snuggs>=1.4.1 in /opt/conda/lib/python3.7/site-packages (from rasterio==1.2.6->-r /projects/Developer/icesat2_boreal/dps/requirements_main.txt (line 13)) (1.4.7)\n",
      "Requirement already satisfied: click-plugins in /opt/conda/lib/python3.7/site-packages (from rasterio==1.2.6->-r /projects/Developer/icesat2_boreal/dps/requirements_main.txt (line 13)) (1.1.1)\n",
      "Requirement already satisfied: pydantic in /projects/.local/lib/python3.7/site-packages (from rio-cogeo==2.3.1->-r /projects/Developer/icesat2_boreal/dps/requirements_main.txt (line 22)) (1.8.2)\n",
      "Requirement already satisfied: numexpr in /projects/.local/lib/python3.7/site-packages (from rio-tiler==2.1.4->-r /projects/Developer/icesat2_boreal/dps/requirements_main.txt (line 23)) (2.7.3)\n",
      "Requirement already satisfied: rio-color in /projects/.local/lib/python3.7/site-packages (from rio-tiler==2.1.4->-r /projects/Developer/icesat2_boreal/dps/requirements_main.txt (line 23)) (1.0.3)\n",
      "Requirement already satisfied: pystac>=0.5.3 in /projects/.local/lib/python3.7/site-packages (from rio-tiler==2.1.4->-r /projects/Developer/icesat2_boreal/dps/requirements_main.txt (line 23)) (1.2.0)\n",
      "Requirement already satisfied: requests in /projects/.local/lib/python3.7/site-packages (from rio-tiler==2.1.4->-r /projects/Developer/icesat2_boreal/dps/requirements_main.txt (line 23)) (2.27.1)\n",
      "Requirement already satisfied: boto3 in /opt/conda/lib/python3.7/site-packages (from rio-tiler==2.1.4->-r /projects/Developer/icesat2_boreal/dps/requirements_main.txt (line 23)) (1.21.21)\n",
      "Requirement already satisfied: zipp>=3.1.0 in /opt/conda/lib/python3.7/site-packages (from importlib_resources->-r /projects/Developer/icesat2_boreal/dps/requirements_main.txt (line 14)) (3.6.0)\n",
      "Requirement already satisfied: mercantile in /projects/.local/lib/python3.7/site-packages (from contextily->-r /projects/Developer/icesat2_boreal/dps/requirements_main.txt (line 15)) (1.2.1)\n",
      "Requirement already satisfied: pillow in /projects/.local/lib/python3.7/site-packages (from contextily->-r /projects/Developer/icesat2_boreal/dps/requirements_main.txt (line 15)) (8.3.2)\n",
      "Requirement already satisfied: matplotlib in /opt/conda/lib/python3.7/site-packages (from contextily->-r /projects/Developer/icesat2_boreal/dps/requirements_main.txt (line 15)) (3.2.2)\n",
      "Requirement already satisfied: xyzservices in /projects/.local/lib/python3.7/site-packages (from contextily->-r /projects/Developer/icesat2_boreal/dps/requirements_main.txt (line 15)) (2022.3.0)\n",
      "Requirement already satisfied: geopy in /projects/.local/lib/python3.7/site-packages (from contextily->-r /projects/Developer/icesat2_boreal/dps/requirements_main.txt (line 15)) (2.2.0)\n",
      "Requirement already satisfied: joblib in /projects/.local/lib/python3.7/site-packages (from contextily->-r /projects/Developer/icesat2_boreal/dps/requirements_main.txt (line 15)) (1.0.1)\n",
      "Requirement already satisfied: aiohttp<=4 in /projects/.local/lib/python3.7/site-packages (from s3fs->-r /projects/Developer/icesat2_boreal/dps/requirements_main.txt (line 17)) (3.7.4.post0)\n",
      "Requirement already satisfied: aiobotocore~=2.2.0 in /opt/conda/lib/python3.7/site-packages (from s3fs->-r /projects/Developer/icesat2_boreal/dps/requirements_main.txt (line 17)) (2.2.0)\n",
      "Requirement already satisfied: wrapt>=1.10.10 in /projects/.local/lib/python3.7/site-packages (from aiobotocore~=2.2.0->s3fs->-r /projects/Developer/icesat2_boreal/dps/requirements_main.txt (line 17)) (1.12.1)\n",
      "Requirement already satisfied: botocore<1.24.22,>=1.24.21 in /opt/conda/lib/python3.7/site-packages (from aiobotocore~=2.2.0->s3fs->-r /projects/Developer/icesat2_boreal/dps/requirements_main.txt (line 17)) (1.24.21)\n",
      "Requirement already satisfied: aioitertools>=0.5.1 in /projects/.local/lib/python3.7/site-packages (from aiobotocore~=2.2.0->s3fs->-r /projects/Developer/icesat2_boreal/dps/requirements_main.txt (line 17)) (0.8.0)\n",
      "Requirement already satisfied: multidict<7.0,>=4.5 in /projects/.local/lib/python3.7/site-packages (from aiohttp<=4->s3fs->-r /projects/Developer/icesat2_boreal/dps/requirements_main.txt (line 17)) (5.1.0)\n",
      "Requirement already satisfied: chardet<5.0,>=2.0 in /opt/conda/lib/python3.7/site-packages (from aiohttp<=4->s3fs->-r /projects/Developer/icesat2_boreal/dps/requirements_main.txt (line 17)) (3.0.4)\n",
      "Requirement already satisfied: typing-extensions>=3.6.5 in /opt/conda/lib/python3.7/site-packages (from aiohttp<=4->s3fs->-r /projects/Developer/icesat2_boreal/dps/requirements_main.txt (line 17)) (3.10.0.2)\n",
      "Requirement already satisfied: yarl<2.0,>=1.0 in /projects/.local/lib/python3.7/site-packages (from aiohttp<=4->s3fs->-r /projects/Developer/icesat2_boreal/dps/requirements_main.txt (line 17)) (1.6.3)\n",
      "Requirement already satisfied: async-timeout<4.0,>=3.0 in /projects/.local/lib/python3.7/site-packages (from aiohttp<=4->s3fs->-r /projects/Developer/icesat2_boreal/dps/requirements_main.txt (line 17)) (3.0.1)\n",
      "Requirement already satisfied: munch in /projects/.local/lib/python3.7/site-packages (from fiona>=1.8->geopandas==0.9.0->-r /projects/Developer/icesat2_boreal/dps/requirements_main.txt (line 12)) (2.5.0)\n",
      "Requirement already satisfied: six>=1.7 in /opt/conda/lib/python3.7/site-packages (from fiona>=1.8->geopandas==0.9.0->-r /projects/Developer/icesat2_boreal/dps/requirements_main.txt (line 12)) (1.15.0)\n",
      "Requirement already satisfied: idna<4,>=2.5 in /opt/conda/lib/python3.7/site-packages (from requests->rio-tiler==2.1.4->-r /projects/Developer/icesat2_boreal/dps/requirements_main.txt (line 23)) (2.10)\n",
      "Requirement already satisfied: urllib3<1.27,>=1.21.1 in /opt/conda/lib/python3.7/site-packages (from requests->rio-tiler==2.1.4->-r /projects/Developer/icesat2_boreal/dps/requirements_main.txt (line 23)) (1.25.11)\n",
      "Requirement already satisfied: charset-normalizer~=2.0.0 in /projects/.local/lib/python3.7/site-packages (from requests->rio-tiler==2.1.4->-r /projects/Developer/icesat2_boreal/dps/requirements_main.txt (line 23)) (2.0.12)\n",
      "Requirement already satisfied: pyparsing>=2.1.6 in /opt/conda/lib/python3.7/site-packages (from snuggs>=1.4.1->rasterio==1.2.6->-r /projects/Developer/icesat2_boreal/dps/requirements_main.txt (line 13)) (2.4.7)\n",
      "Requirement already satisfied: jmespath<2.0.0,>=0.7.1 in /opt/conda/lib/python3.7/site-packages/jmespath-0.10.0-py3.7.egg (from boto3->rio-tiler==2.1.4->-r /projects/Developer/icesat2_boreal/dps/requirements_main.txt (line 23)) (0.10.0)\n",
      "Requirement already satisfied: s3transfer<0.6.0,>=0.5.0 in /opt/conda/lib/python3.7/site-packages/s3transfer-0.5.0-py3.7.egg (from boto3->rio-tiler==2.1.4->-r /projects/Developer/icesat2_boreal/dps/requirements_main.txt (line 23)) (0.5.0)\n",
      "Requirement already satisfied: geographiclib<2,>=1.49 in /projects/.local/lib/python3.7/site-packages (from geopy->contextily->-r /projects/Developer/icesat2_boreal/dps/requirements_main.txt (line 15)) (1.52)\n",
      "Requirement already satisfied: kiwisolver>=1.0.1 in /opt/conda/lib/python3.7/site-packages (from matplotlib->contextily->-r /projects/Developer/icesat2_boreal/dps/requirements_main.txt (line 15)) (1.3.1)\n",
      "Requirement already satisfied: cycler>=0.10 in /opt/conda/lib/python3.7/site-packages (from matplotlib->contextily->-r /projects/Developer/icesat2_boreal/dps/requirements_main.txt (line 15)) (0.10.0)\n",
      "Requirement already satisfied: rio-mucho in /projects/.local/lib/python3.7/site-packages (from rio-color->rio-tiler==2.1.4->-r /projects/Developer/icesat2_boreal/dps/requirements_main.txt (line 23)) (1.0.0)\n",
      "\u001b[33mWARNING: Running pip as the 'root' user can result in broken permissions and conflicting behaviour with the system package manager. It is recommended to use a virtual environment instead: https://pip.pypa.io/warnings/venv\u001b[0m\u001b[33m\n",
      "\u001b[0m\u001b[33mWARNING: You are using pip version 22.0.3; however, version 22.0.4 is available.\n",
      "You should consider upgrading via the '/opt/conda/bin/python3.7 -m pip install --upgrade pip' command.\u001b[0m\u001b[33m\n",
      "\u001b[0m"
     ]
    }
   ],
   "source": [
    "import geopandas\n",
    "import pandas as pd\n",
    "import os\n",
    "import json\n",
    "import collections\n",
    "import numpy as np\n",
    "import sys\n",
    "import s3fs\n",
    "sys.path.append('/projects/icesat2_boreal/lib')\n",
    "sys.path.append('/projects/Developer/icesat2_boreal/lib')\n",
    "\n",
    "import ExtractUtils\n",
    "!pip install pystac\n",
    "!pip install -U -r /projects/Developer/icesat2_boreal/dps/requirements_main.txt\n",
    "import maplib_folium\n",
    "def local_to_s3(url, user = 'nathanmthomas', type='public'):\n",
    "    ''' A Function to convert local paths to s3 urls'''\n",
    "    if type is 'public':\n",
    "        replacement_str = f's3://maap-ops-workspace/shared/{user}'\n",
    "    else:\n",
    "        replacement_str = f's3://maap-ops-workspace/{user}'\n",
    "    return url.replace(f'/projects/my-{type}-bucket', replacement_str)"
   ]
  },
  {
   "cell_type": "markdown",
   "id": "01da01b8",
   "metadata": {},
   "source": [
    "# Choose a DPS data type; get its tile index master file\n",
    "Get a filename of the master list DPS output tiles returned with _build_tindex_master.py"
   ]
  },
  {
   "cell_type": "code",
   "execution_count": 2,
   "id": "59c81f2a",
   "metadata": {},
   "outputs": [],
   "source": [
    "DPS_DATA_TYPE = 'ATL08_filt' #\\\"Topo\\\" \\\"Landsat\\\" \\\"ATL08\\\" \\\"ATL08_filt\\\" \\\"AGB\\\"\n",
    "DPS_DATA_USER = 'nathanmthomas' #'nathanmthomas' 'lduncanson'\n",
    "TEST_HLS = False\n",
    "DPS = True\n",
    "OUT_MASTER_CSV_JSON_DIR = f's3://maap-ops-workspace/shared/{DPS_DATA_USER}/DPS_tile_lists'\n",
    "\n",
    "if DPS_DATA_TYPE == 'HLS':\n",
    "    if TEST_HLS:\n",
    "        # Run tests on set of NORWAY + AK + MISC or any other tiles of interest in DPS_mscomp nb\n",
    "        # misc tests \n",
    "        #NAME_HLS_TEST = 'test_mc0_3yrs'\n",
    "        #NAME_HLS_TEST = 'test_single_years'\n",
    "        #NAME_HLS_TEST = '03'\n",
    "        #DAY_START_TEST = 24\n",
    "\n",
    "        # better tests\n",
    "        #NAME_HLS_TEST = 'test_mc10_3yrs'\n",
    "        #DAY_START_TEST = 23\n",
    "        NAME_HLS_TEST = '03' #'test_mc40_3yrs'\n",
    "        DAY_START_TEST = 24\n",
    "\n",
    "        ENDSTR = '.tif'\n",
    "        if DPS:\n",
    "            OUT_MASTER_CSV_JSON_DIR = f's3://maap-ops-workspace/{DPS_DATA_USER}/dps_output/do_HLS_stack_3-1-2_ubuntu/master/2022/{NAME_HLS_TEST}'  #LOCAL_WRITE_DIR = f'/projects/my-private-bucket/dps_output/do_HLS_stack_3-1-2_ubuntu/master/2022/{NAME_HLS_TEST}'\n",
    "            !python /projects/Developer/icesat2_boreal/lib/build_tindex_master.py -t HLS -y 2022 -m $NAME_HLS_TEST -d_min $DAY_START_TEST -o $OUT_MASTER_CSV_JSON_DIR --ends_with_str $ENDSTR,\n",
    "        else:\n",
    "            LOCAL_DIR_PART = f'shared/nathanmthomas/test_hls/{NAME_HLS_TEST}',\n",
    "            OUT_MASTER_CSV_JSON_DIR = f'/projects/my-public-bucket/test_hls/{NAME_HLS_TEST}',\n",
    "            !python /projects/Developer/icesat2_boreal/lib/build_tindex_master.py -t HLS --LOCAL_TEST -local_dir $LOCAL_DIR_PART -o $OUT_MASTER_CSV_JSON_DIR --ends_with_str $ENDSTR,\n",
    "    else:\n",
    "        NAME_HLS = '03 04' #'test_mc40_3yrs'\n",
    "        DAY_START = 24\n",
    "        #NAME_HLS = '04' #'test_mc40_3yrs'\n",
    "        #DAY_START = 5\n",
    "        #OUT_MASTER_CSV_JSON_DIR = f'/projects/shared-buckets/{DPS_DATA_USER}/DPS_tile_lists'\n",
    "        \n",
    "        !python /projects/Developer/icesat2_boreal/lib/build_tindex_master.py -t HLS -y 2022 -m_list $NAME_HLS #-d_min $DAY_START\n",
    "\n",
    "tindex_master_fn        = os.path.join(OUT_MASTER_CSV_JSON_DIR, f'{DPS_DATA_TYPE}_tindex_master.csv')\n",
    "tile_matches_geojson_fn = os.path.join(OUT_MASTER_CSV_JSON_DIR, f'{DPS_DATA_TYPE}_tindex_master.json')\n",
    "out_mosaic_json_fn      = os.path.join(OUT_MASTER_CSV_JSON_DIR, f'{DPS_DATA_TYPE}_tindex_master_mosaic.json')\n",
    "\n",
    "#tindex_master_fn = '/projects/my-private-bucket/dps_output/run_tile_atl08_ubuntu/master/2022/run_LC_height_thresholds/ATL08_filt_tindex_master.csv'\n",
    "\n",
    "#Get other tile index master files\n",
    "ATL08_filt_sample_tindex_master_fn = 's3://maap-ops-workspace/shared/lduncanson/DPS_tile_lists/ATL08_filt_sample_tindex_master.csv'\n",
    "#ATL08_filt_tindex_master_fn       = '/projects/test_dps/ATL08_filt_tindex_master.csv'#'s3://maap-ops-workspace/shared/lduncanson/DPS_tile_lists/ATL08_filt_tindex_master.csv'\n",
    "ATL08_filt_tindex_master_fn        = 's3://maap-ops-workspace/shared/nathanmthomas/DPS_tile_lists/ATL08_filt_tindex_master.csv'\n",
    "#ATL08_filt_tindex_master_fn        = 's3://maap-ops-workspace/lduncanson/dps_output/run_tile_atl08_ubuntu/master/2022/03/ATL08_filt_tindex_master.csv'\n",
    "Topo_tindex_master_fn              = '/projects/shared-buckets/nathanmthomas/DPS_tile_lists/Topo_tindex_master.csv'\n",
    "\n",
    "Topo_tindex_master                 =  pd.read_csv(Topo_tindex_master_fn)\n",
    "ATL08_filt_tindex_master           =  pd.read_csv(ATL08_filt_tindex_master_fn)\n",
    "ATL08_filt_sample_tindex_master    =  pd.read_csv(ATL08_filt_sample_tindex_master_fn)\n"
   ]
  },
  {
   "cell_type": "code",
   "execution_count": 3,
   "id": "ba68e2f7",
   "metadata": {},
   "outputs": [
    {
     "name": "stdout",
     "output_type": "stream",
     "text": [
      "Building master tile index for: ATL08_filt\n"
     ]
    }
   ],
   "source": [
    "UPDATE_TINDEX = False\n",
    "\n",
    "if not os.path.isfile(tindex_master_fn):\n",
    "     UPDATE_TINDEX = True\n",
    "else:\n",
    "    print('Using existing tindex')\n",
    "    print(tindex_master_fn)\n",
    "\n",
    "    \n",
    "if UPDATE_TINDEX:\n",
    "    print(f\"Building master tile index for: {DPS_DATA_TYPE}\")\n",
    "    dps_month = 'run_LC_height_thresholds'\n",
    "    d_min = 1\n",
    "    #os.system(f\"python /projects/icesat2_boreal/lib/build_tindex_master.py --type {DPS_DATA_TYPE} -m {dps_month} -d_min {d_min}\")\n",
    "    #!python /projects/icesat2_boreal/lib/build_tindex_master_v2.py --type $DPS_DATA_TYPE -m $dps_month -d_min $d_min\n"
   ]
  },
  {
   "cell_type": "markdown",
   "id": "f38fafe1",
   "metadata": {},
   "source": [
    "### Get the tiles needed for the data of interest"
   ]
  },
  {
   "cell_type": "code",
   "execution_count": 4,
   "id": "bea60568",
   "metadata": {},
   "outputs": [
    {
     "name": "stdout",
     "output_type": "stream",
     "text": [
      "# of expected ATL08_filt tiles:\t\t\t\t\t\t4581\n",
      "# of expected covar (from Topo) tiles:\t\t\t\t\t5220\n",
      "# of ATL08_filt tiles needed (compared with ATL08_filt_tindex_master.csv):\t47\n",
      "# of total tiles supposedly needed (from boreal_tiles_v003.gpkg):\t5331\n",
      "[4253, 2894, 3012, 3360, 1264, 3190, 4403, 4477, 4372, 4293, 988, 4408, 3321, 3986, 1263, 380, 378, 411, 3327, 812, 978, 3509, 764, 794, 2932, 2907, 4440, 765, 861, 3335, 1469, 3014, 1261, 1308, 2840, 2495, 1406, 1302, 3017, 2906, 2883, 2994, 2965, 3510, 2814, 2976, 821]\n"
     ]
    }
   ],
   "source": [
    "# Build up a dataframe from the list of dps output files\n",
    "tindex_master = pd.read_csv(tindex_master_fn)\n",
    "\n",
    "if DPS_DATA_TYPE == 'Landsat' or DPS_DATA_TYPE == 'HLS' or DPS_DATA_TYPE == 'Topo':\n",
    "    DPS_DATA_USER = 'nathanmthomas'\n",
    "    \n",
    "tindex_master['s3'] = [local_to_s3(local_path, user=DPS_DATA_USER, type = 'private') for local_path in tindex_master['local_path']]\n",
    "print(f\"# of expected {DPS_DATA_TYPE} tiles:\\t\\t\\t\\t\\t\\t{len(tindex_master)}\")\n",
    "\n",
    "# Wherever there is a 90k Topo tile, there should be data...\n",
    "# Get all covar tiles that should account for the set of output we want\n",
    "topo_tindex_master  = pd.read_csv(Topo_tindex_master_fn)\n",
    "print(f\"# of expected covar (from Topo) tiles:\\t\\t\\t\\t\\t{len(topo_tindex_master.tile_num )}\")\n",
    "\n",
    "# Get all boreal tiles\n",
    "boreal_tile_index_path = '/projects/my-public-bucket/boreal_tiles_v003.gpkg' \n",
    "boreal_tile_index = geopandas.read_file(boreal_tile_index_path)\n",
    "#boreal_tile_index.astype({'layer':'int'})\n",
    "#boreal_tile_index.rename(columns={\"layer\":\"tile_num\"}, inplace=True)\n",
    "boreal_tile_index[\"tile_num\"] = boreal_tile_index[\"tile_num\"].astype(int)\n",
    "\n",
    "bad_tiles = [3540,3634,3728,3823,3916,4004] #Dropping the tiles near antimeridian that reproject poorly.\n",
    "# For some reason, doing this causes 'MosaicJSON.from_features()' to fail...(below)\n",
    "if True:\n",
    "    # Remove bad tiles\n",
    "    boreal_tile_index = boreal_tile_index[~boreal_tile_index['tile_num'].isin(bad_tiles)]\n",
    "    \n",
    "    \n",
    "select_needs = [3360,2994,3190,2840,3012,3014,3017,2932,1261,1263,1264,988,978,794, 380,378,411,821,861,\n",
    "                812,765,764,1308,1302,1469,1406,2495,2883,2965,3321,3509,3510,3327,3335,2976,2906,2907,2894,2814,4253,4293,4403,4440,4408,4372,4477,3986]\n",
    "tile_matches_select_needs = boreal_tile_index.merge(ATL08_filt_tindex_master[ATL08_filt_tindex_master['tile_num'].isin(select_needs)], how='right', on='tile_num')\n",
    "print(f\"# of {DPS_DATA_TYPE} tiles needed (compared with {os.path.basename(ATL08_filt_tindex_master_fn)}):\\t{len(tile_matches_select_needs)}\")\n",
    "\n",
    "print(f\"# of total tiles supposedly needed (from {os.path.basename(boreal_tile_index_path)}):\\t{len(boreal_tile_index)}\")\n",
    "\n",
    "if len(tile_matches_select_needs)<100:\n",
    "    print([t for t in tile_matches_select_needs.tile_num])\n"
   ]
  },
  {
   "cell_type": "markdown",
   "id": "56033f70",
   "metadata": {},
   "source": [
    "### Identify duplicate tiles"
   ]
  },
  {
   "cell_type": "code",
   "execution_count": 5,
   "id": "c9db5930",
   "metadata": {},
   "outputs": [
    {
     "name": "stdout",
     "output_type": "stream",
     "text": [
      "[]\n"
     ]
    }
   ],
   "source": [
    "duplicate_tiles = [item for item, count in collections.Counter(tindex_master[\"tile_num\"]).items() if count > 1]\n",
    "print(duplicate_tiles)"
   ]
  },
  {
   "cell_type": "markdown",
   "id": "85b0ee29",
   "metadata": {},
   "source": [
    "### Identify completed, missing, failed, & duplicate tiles"
   ]
  },
  {
   "cell_type": "code",
   "execution_count": 6,
   "id": "00b69b92",
   "metadata": {},
   "outputs": [
    {
     "name": "stdout",
     "output_type": "stream",
     "text": [
      "Tile status report for ATL08_filt from s3://maap-ops-workspace/shared/nathanmthomas/DPS_tile_lists/ATL08_filt_tindex_master.csv:\n",
      "\t# tiles matched:\t\t4581\n",
      "\t# tiles missing:\t\t0\n",
      "\t# tiles duplicated: \t\t0\n",
      "Missing tiles:\t[]\n",
      "Bad tiles:\t[3540, 3634, 3728, 3823, 3916, 4004]\n"
     ]
    },
    {
     "name": "stderr",
     "output_type": "stream",
     "text": [
      "/opt/conda/lib/python3.7/site-packages/geopandas/plotting.py:681: UserWarning: The GeoDataFrame you are attempting to plot is empty. Nothing has been displayed.\n",
      "  UserWarning,\n"
     ]
    },
    {
     "data": {
      "text/plain": [
       "<matplotlib.axes._subplots.AxesSubplot at 0x7fb0a9ecaad0>"
      ]
     },
     "execution_count": 6,
     "metadata": {},
     "output_type": "execute_result"
    },
    {
     "data": {
      "image/png": "[encoded data removed]",
      "text/plain": [
       "<Figure size 432x288 with 1 Axes>"
      ]
     },
     "metadata": {
      "needs_background": "light"
     },
     "output_type": "display_data"
    }
   ],
   "source": [
    "print(f\"Tile status report for {DPS_DATA_TYPE} from {tindex_master_fn}:\")\n",
    "# For the tindex_master, convert it into vector tiles that show the tiles we have\n",
    "# Select the rows we have results for\n",
    "tile_index_matches = boreal_tile_index.merge(tindex_master[~tindex_master['tile_num'].isin(bad_tiles)][['tile_num','s3_path','local_path']], how='right', on='tile_num')\n",
    "#tile_matches_atl08_filt_samples = boreal_tile_index.merge(ATL08_filt_sample_tindex_master[~ATL08_filt_sample_tindex_master['tile_num'].isin(bad_tiles)], how='right', on='tile_num')\n",
    "print(f'\\t# tiles matched:\\t\\t{len(tile_index_matches)}')\n",
    "\n",
    "# Use the Topo tiles (COVAR set) to get the diff of what tiles we have and what we want\n",
    "# MISSING TILES = DIFF(tiles_we_want, tiles_we_have)\n",
    "#tile_nums_missing = np.setdiff1d(tiles_covars, tile_index_matches.tile_num)\n",
    "tile_nums_missing_list = list(set(topo_tindex_master.tile_num) - set(tile_index_matches.tile_num))\n",
    "tile_nums_missing_list = list(set(tile_index_matches.tile_num) - set(topo_tindex_master.tile_num))\n",
    "# The ATL08 tiles we have may not exactly match the set of COVAR tiles we have\n",
    "# Use the set of ATL08 tiles we have, crossed with the tiles we're missing (based on COVAR set), to get tiles we're missing that we should definitely proces (b/c we have both COVAR and ATL08 tiles for them)\n",
    "#tile_index_missing = boreal_tile_index.merge(boreal_tile_index[boreal_tile_index['tile_num'].isin(tile_nums_missing_list)], how='right', on='tile_num')\n",
    "#tile_index_missing = boreal_tile_index.merge(tindex_master[tindex_master['tile_num'].isin(tile_nums_missing_list)], how='inner', on='tile_num')\n",
    "tile_index_missing = boreal_tile_index[boreal_tile_index['tile_num'].isin(tile_nums_missing_list)]\n",
    "\n",
    "print(f'\\t# tiles missing:\\t\\t{len(tile_index_missing)}')\n",
    "if len(tile_index_missing) > 0:\n",
    "    tile_index_missing.to_file(f'/projects/my-public-bucket/DPS_tile_lists/Need_{DPS_DATA_TYPE}_tindex_master.gpkg', driver='GPKG')\n",
    "    #print(tile_index_missing.head())\n",
    "\n",
    "# Meh, this doesnt give us fails\n",
    "#tile_matches_failed = boreal_tile_index.merge(Topo_tindex_master[Topo_tindex_master['tile_num'].isin(tile_nums_missing)], how='right', on='tile_num')\n",
    "#print(f'Missing b/c failed: \\t{len(tile_matches_failed)}')\n",
    "\n",
    "# Duplicates are also removed in build_tindex_master\n",
    "tile_matches_duplicates = boreal_tile_index.merge(topo_tindex_master.tile_num[topo_tindex_master.tile_num.isin(duplicate_tiles)], how='right', on='tile_num')\n",
    "print(f'\\t# tiles duplicated: \\t\\t{len(tile_matches_duplicates)}')\n",
    "\n",
    "# Drop duplicates\n",
    "tile_index_matches = tile_index_matches.drop_duplicates(subset=['tile_num'], keep='last')\n",
    "print(f\"Missing tiles:\\t{tile_nums_missing_list}\")\n",
    "print(f\"Bad tiles:\\t{bad_tiles}\")\n",
    "\n",
    "ax = boreal_tile_index.plot(color='red')\n",
    "ax = tile_index_matches.plot(color='green', ax=ax)\n",
    "tile_index_missing.plot(column='tile_group', ax=ax)\n"
   ]
  },
  {
   "cell_type": "code",
   "execution_count": 7,
   "id": "77f066a8",
   "metadata": {},
   "outputs": [
    {
     "name": "stdout",
     "output_type": "stream",
     "text": [
      "                      count\n",
      "tile_group                 \n",
      "alaska extra             20\n",
      "canada extra             49\n",
      "conus extra              98\n",
      "eurasia central        1169\n",
      "eurasia east           1098\n",
      "eurasia north           159\n",
      "eurasia west            612\n",
      "europe north            358\n",
      "fennoscand south         26\n",
      "north america centra    714\n",
      "north america east      494\n",
      "north america west      470\n",
      "uk                       70\n",
      "Tile status report for ATL08_filt from s3://maap-ops-workspace/shared/nathanmthomas/DPS_tile_lists/ATL08_filt_tindex_master.csv:\n",
      "\t# of boreal tiles in boreal v003:\t\t\t5337\n",
      "\t# of boreal tiles in water:\t\t\t\t0\n",
      "\t# of boreal tiles used study (from Topo coverage):\t5337\n",
      "\t# of boreal tiles with ATL08_filt:\t\t\t\t4581\n",
      "\t# of boreal tiles still needing ATL08_filt from all:\t756\n"
     ]
    },
    {
     "data": {
      "image/png": "[encoded data removed]",
      "text/plain": [
       "<Figure size 1152x1152 with 1 Axes>"
      ]
     },
     "metadata": {
      "needs_background": "light"
     },
     "output_type": "display_data"
    }
   ],
   "source": [
    "TILE_ATL08_TILES_NEEDED = ExtractUtils.GET_TILES_NEEDED(DPS_DATA_TYPE = 'ATL08_filt', \\\n",
    "                                                tindex_master_fn = 's3://maap-ops-workspace/shared/nathanmthomas/DPS_tile_lists/ATL08_filt_tindex_master.csv',\\\n",
    "                                                boreal_tile_index_path = '/projects/my-public-bucket/boreal_tiles_v003.gpkg')"
   ]
  },
  {
   "cell_type": "code",
   "execution_count": 8,
   "id": "98089304",
   "metadata": {},
   "outputs": [
    {
     "data": {
      "text/html": [
       "<div>\n",
       "<style scoped>\n",
       "    .dataframe tbody tr th:only-of-type {\n",
       "        vertical-align: middle;\n",
       "    }\n",
       "\n",
       "    .dataframe tbody tr th {\n",
       "        vertical-align: top;\n",
       "    }\n",
       "\n",
       "    .dataframe thead th {\n",
       "        text-align: right;\n",
       "    }\n",
       "</style>\n",
       "<table border=\"1\" class=\"dataframe\">\n",
       "  <thead>\n",
       "    <tr style=\"text-align: right;\">\n",
       "      <th></th>\n",
       "      <th>tile_num</th>\n",
       "      <th>tile_version</th>\n",
       "      <th>tile_group</th>\n",
       "      <th>map_version</th>\n",
       "      <th>geometry</th>\n",
       "      <th>s3_path</th>\n",
       "      <th>local_path</th>\n",
       "      <th>s3</th>\n",
       "    </tr>\n",
       "  </thead>\n",
       "  <tbody>\n",
       "    <tr>\n",
       "      <th>0</th>\n",
       "      <td>4253</td>\n",
       "      <td>version 1</td>\n",
       "      <td>eurasia east</td>\n",
       "      <td>None</td>\n",
       "      <td>POLYGON ((-1161478.000 2223304.000, -1071478.0...</td>\n",
       "      <td>s3://maap-ops-workspace/lduncanson/dps_output/...</td>\n",
       "      <td>/projects/my-private-bucket/dps_output/run_til...</td>\n",
       "      <td>s3://maap-ops-workspace/lduncanson/dps_output/...</td>\n",
       "    </tr>\n",
       "    <tr>\n",
       "      <th>1</th>\n",
       "      <td>3896</td>\n",
       "      <td>version 1</td>\n",
       "      <td>eurasia east</td>\n",
       "      <td>None</td>\n",
       "      <td>POLYGON ((-1881478.000 2673304.000, -1791478.0...</td>\n",
       "      <td>s3://maap-ops-workspace/lduncanson/dps_output/...</td>\n",
       "      <td>/projects/my-private-bucket/dps_output/run_til...</td>\n",
       "      <td>s3://maap-ops-workspace/lduncanson/dps_output/...</td>\n",
       "    </tr>\n",
       "    <tr>\n",
       "      <th>2</th>\n",
       "      <td>3411</td>\n",
       "      <td>version 1</td>\n",
       "      <td>eurasia east</td>\n",
       "      <td>None</td>\n",
       "      <td>POLYGON ((-3501478.000 3123304.000, -3411478.0...</td>\n",
       "      <td>s3://maap-ops-workspace/lduncanson/dps_output/...</td>\n",
       "      <td>/projects/my-private-bucket/dps_output/run_til...</td>\n",
       "      <td>s3://maap-ops-workspace/lduncanson/dps_output/...</td>\n",
       "    </tr>\n",
       "    <tr>\n",
       "      <th>3</th>\n",
       "      <td>2273</td>\n",
       "      <td>version 1</td>\n",
       "      <td>north america west</td>\n",
       "      <td>None</td>\n",
       "      <td>POLYGON ((2258522.000 4383304.000, 2348522.000...</td>\n",
       "      <td>s3://maap-ops-workspace/lduncanson/dps_output/...</td>\n",
       "      <td>/projects/my-private-bucket/dps_output/run_til...</td>\n",
       "      <td>s3://maap-ops-workspace/lduncanson/dps_output/...</td>\n",
       "    </tr>\n",
       "    <tr>\n",
       "      <th>4</th>\n",
       "      <td>2530</td>\n",
       "      <td>version 1</td>\n",
       "      <td>north america centra</td>\n",
       "      <td>None</td>\n",
       "      <td>POLYGON ((3878522.000 4113304.000, 3968522.000...</td>\n",
       "      <td>s3://maap-ops-workspace/lduncanson/dps_output/...</td>\n",
       "      <td>/projects/my-private-bucket/dps_output/run_til...</td>\n",
       "      <td>s3://maap-ops-workspace/lduncanson/dps_output/...</td>\n",
       "    </tr>\n",
       "  </tbody>\n",
       "</table>\n",
       "</div>"
      ],
      "text/plain": [
       "   tile_num tile_version            tile_group map_version  \\\n",
       "0      4253    version 1          eurasia east        None   \n",
       "1      3896    version 1          eurasia east        None   \n",
       "2      3411    version 1          eurasia east        None   \n",
       "3      2273    version 1    north america west        None   \n",
       "4      2530    version 1  north america centra        None   \n",
       "\n",
       "                                            geometry  \\\n",
       "0  POLYGON ((-1161478.000 2223304.000, -1071478.0...   \n",
       "1  POLYGON ((-1881478.000 2673304.000, -1791478.0...   \n",
       "2  POLYGON ((-3501478.000 3123304.000, -3411478.0...   \n",
       "3  POLYGON ((2258522.000 4383304.000, 2348522.000...   \n",
       "4  POLYGON ((3878522.000 4113304.000, 3968522.000...   \n",
       "\n",
       "                                             s3_path  \\\n",
       "0  s3://maap-ops-workspace/lduncanson/dps_output/...   \n",
       "1  s3://maap-ops-workspace/lduncanson/dps_output/...   \n",
       "2  s3://maap-ops-workspace/lduncanson/dps_output/...   \n",
       "3  s3://maap-ops-workspace/lduncanson/dps_output/...   \n",
       "4  s3://maap-ops-workspace/lduncanson/dps_output/...   \n",
       "\n",
       "                                          local_path  \\\n",
       "0  /projects/my-private-bucket/dps_output/run_til...   \n",
       "1  /projects/my-private-bucket/dps_output/run_til...   \n",
       "2  /projects/my-private-bucket/dps_output/run_til...   \n",
       "3  /projects/my-private-bucket/dps_output/run_til...   \n",
       "4  /projects/my-private-bucket/dps_output/run_til...   \n",
       "\n",
       "                                                  s3  \n",
       "0  s3://maap-ops-workspace/lduncanson/dps_output/...  \n",
       "1  s3://maap-ops-workspace/lduncanson/dps_output/...  \n",
       "2  s3://maap-ops-workspace/lduncanson/dps_output/...  \n",
       "3  s3://maap-ops-workspace/lduncanson/dps_output/...  \n",
       "4  s3://maap-ops-workspace/lduncanson/dps_output/...  "
      ]
     },
     "execution_count": 8,
     "metadata": {},
     "output_type": "execute_result"
    }
   ],
   "source": [
    "if 's3_path' in tile_index_matches.columns:\n",
    "    tile_index_matches['s3'] = tile_index_matches['s3_path']\n",
    "    \n",
    "tile_index_matches = tile_index_matches[tile_index_matches['s3'].notna()]\n",
    "tile_index_matches.head()"
   ]
  },
  {
   "cell_type": "markdown",
   "id": "5b884541",
   "metadata": {},
   "source": [
    "## Build a MosaicJSON"
   ]
  },
  {
   "cell_type": "markdown",
   "id": "fb1e49bd",
   "metadata": {},
   "source": [
    "##### Build tile geojsons needed for mosaic jsons"
   ]
  },
  {
   "cell_type": "code",
   "execution_count": 9,
   "id": "ca5c5af3",
   "metadata": {},
   "outputs": [
    {
     "name": "stdout",
     "output_type": "stream",
     "text": [
      "Building s3://maap-ops-workspace/shared/nathanmthomas/DPS_tile_lists/ATL08_filt_tindex_master_mosaic.json\n"
     ]
    },
    {
     "name": "stderr",
     "output_type": "stream",
     "text": [
      "/projects/.local/lib/python3.7/site-packages/mercantile/__init__.py:79: FutureWarning: Mercantile 2.0 will require tile x and y to be within the range (0, 2 ** zoom)\n",
      "  FutureWarning,\n"
     ]
    }
   ],
   "source": [
    "tile_matches_geojson_string = tile_index_matches.to_crs(\"EPSG:4326\").to_json()\n",
    "tile_matches_geojson = json.loads(tile_matches_geojson_string)\n",
    "#Write copy to disk for debug\n",
    "#tile_matches_geojson_fn = f's3://maap-ops-workspace/shared/{DPS_DATA_USER}/DPS_tile_lists/{DPS_DATA_TYPE}_tindex_master.json' \n",
    "tile_index_matches.to_file(tile_matches_geojson_fn, driver='GeoJSON')\n",
    "\n",
    "if len(tile_index_missing) > 0:\n",
    "    tile_index_missing_geojson_string = tile_index_missing.to_crs(\"EPSG:4326\").to_json()\n",
    "    tile_index_missing_geojson = json.loads(tile_index_missing_geojson_string)\n",
    "\n",
    "from typing import Dict\n",
    "from cogeo_mosaic.mosaic import MosaicJSON\n",
    "from cogeo_mosaic.backends import MosaicBackend\n",
    "\n",
    "def get_accessor(feature: Dict):\n",
    "    \"\"\"Return specific feature identifier.\"\"\"\n",
    "    return feature[\"properties\"][\"s3\"]\n",
    "\n",
    "#out_mosaic_json_fn = f's3://maap-ops-workspace/shared/{DPS_DATA_USER}/DPS_tile_lists/{DPS_DATA_TYPE}_tindex_master_mosaic.json' \n",
    "#out_mosaic_json_fn = f's3://maap-ops-workspace/shared/alexdevseed/DPS_tile_lists/{DPS_DATA_TYPE}_tindex_master_mosaic.json' \n",
    "\n",
    "print(f\"Building {out_mosaic_json_fn}\")\n",
    "mosaicdata = MosaicJSON.from_features(tile_matches_geojson.get('features'), minzoom=6, maxzoom=18, accessor=get_accessor)\n",
    "\n",
    "with MosaicBackend(out_mosaic_json_fn, mosaic_def=mosaicdata) as mosaic:\n",
    "    mosaic.write(overwrite=True)"
   ]
  },
  {
   "cell_type": "markdown",
   "id": "62ae841a",
   "metadata": {},
   "source": [
    "## View the Results with Folium"
   ]
  },
  {
   "cell_type": "code",
   "execution_count": 10,
   "id": "f7da05a1",
   "metadata": {},
   "outputs": [],
   "source": [
    "from folium import Map, TileLayer, GeoJson, LayerControl, Icon, Marker, features, Figure, CircleMarker\n",
    "from folium import plugins\n",
    "\n",
    "# Setup the mosaic tiling\n",
    "tiler_base = \"https://jqsd6bqdsf.execute-api.us-west-2.amazonaws.com/\" #titiler.maap-project.org\n",
    "tiler_mosaic =  \"\".join([tiler_base, \"mosaicjson/tiles/{z}/{x}/{y}\"])\n",
    "\n",
    "import branca.colormap as cm\n",
    "import matplotlib.cm\n",
    "pal_height_cmap = cm.LinearColormap(colors = ['black','#636363','#fc8d59','#fee08b','#ffffbf','#d9ef8b','#91cf60','#1a9850'], vmin=0, vmax=10)\n",
    "pal_height_cmap.caption = 'Vegetation height from  ATL08 @ 30 m (h_can; rh98)'\n",
    "#pal_height_cmap\n",
    "\n",
    "dem_tiles_index_path = '/projects/shared-buckets/nathanmthomas/dem30m_tiles.geojson'\n",
    "dem_tiles_index = geopandas.read_file(dem_tiles_index_path)\n",
    "dem_tiles_index['tile_num'] = dem_tiles_index.index\n",
    "dem_tiles_index.to_file('/projects/my-public-bucket/dem30m_tiles_v2.geojson', driver='GeoJSON')"
   ]
  },
  {
   "cell_type": "markdown",
   "id": "39181775",
   "metadata": {},
   "source": [
    "bandnames = ['Blue', 'Green', 'Red', 'NIR', 'SWIR', 'SWIR2', 'NDVI', 'SAVI', 'MSAVI', 'NDMI', 'EVI', 'NBR', 'NBR2', 'TCB', 'TCG', 'TCW', 'ValidMask', 'Xgeo', 'Ygeo', 'JulianDate', 'yearDate']\n"
   ]
  },
  {
   "cell_type": "code",
   "execution_count": 11,
   "id": "a848c66b",
   "metadata": {},
   "outputs": [
    {
     "data": {
      "text/plain": [
       "['/projects/my-private-bucket/dps_output/run_tile_atl08_ubuntu/tile_atl08/2022/04/18/18/41/04/112672/atl08_005_30m_filt_topo_landsat_20220418_1043.csv']"
      ]
     },
     "execution_count": 11,
     "metadata": {},
     "output_type": "execute_result"
    }
   ],
   "source": [
    "CHECK_TILES = [1043, 34675, 34674, 34676, 35126, 35125, 35352, 1216, 3193, 3286, 3380, 3938]\n",
    "CHECK_TILES = ATL08_filt_tindex_master.tile_num.to_list()\n",
    "CHECK_TILES = [600, 601, 604, 643, 642, 728, 774, 775, 820, 821, 867, 868, 869, 1080, 917, 918]\n",
    "REDO_TILES = [636, 637, 68, 681, 27641, 27642, 27643, 27912, 27913, 28181, 25736, 26288, 26289, 26563, 26835, 26016, 26017, \\\n",
    "              range(26292,26294+1), 26568, 25180, 24899, 24336, 24337, 24617, 24055, 22937, range(23217, 23219+1), 23499, 24059, 24339, 24340, 24620, 24621, 24063 ]\n",
    "REDO_TILES = [\n",
    "                1043, 1044, \\\n",
    "                34675, 34674, 34676, 35126, 35125, 35352, 1216,\n",
    "                3193, 3286, 3380, 3938, 3949\n",
    "             ]\n",
    "REDO_TILES = [887,888,940, 941, 992, 993,1050, 1214,1215, 1216, 35352] + list(range(34674,34676+1))+ list(range(982,986+1))+ list(range(1041,1044+1))+ list(range(789,791+1))+ list(range(835,836+1))+ list(range(1613,1615+1))+ list(range(1557,1558+1))+\\\n",
    "                list(range(3004,3005+1)) +[2819] + list(range(3089,3097+1)) + list(range(3181,3186+1)) +[3367,3373, 3274, 3279, 3280, 3379, 3380, 3568, 3569, 3662]+list(range(3285,3288+1)) + list(range( 3470,3474+1))\n",
    "STRAGLER_TILES = [1, 156, 179, 251, 331, 359, 488, 491, 1782, 2653, 2739, 2886, 2900, 2902, 3540, 3728, 3823, 3934, 4061, 4062, 4082, 4133, 4200, 4260, 4448, 4479, 4489, 4518, 37080, 37748, 41995]\n",
    "STRAGLER_SUCCESSES = [1912, 1981, 2047, 2335, 2339, 2346, 2416, 2419, 2502, 2573, 2583, 2650, 2663, 2726, 2737, 2743, 2818, 2889, 2896, 2940, 2972, 3063, 3147, 3149, 3154, 3161, 3243, 3300, 40036]\n",
    "REDO_TILES = list(range(37147,37149+1))+list(range(39621,39623+1))+[36469,35802,36474]\n",
    "STRAGGLER_TILES = [3005,3094,3097,3189,4513,4483,3379,3380,3280,3373,36921,36922,36923, 38433,27365,4508,4509,4536,4475,4476,4441]\n",
    "\n",
    "# Get path to a tile\n",
    "tile_index_matches[tile_index_matches['tile_num'].isin([1043])].local_path.to_list()\n",
    "#pd.read_json('/projects/my-private-bucket/dps_output/do_HLS_stack_3-1-2_ubuntu/master/2022/04/02/01/44/31/303702/*json')"
   ]
  },
  {
   "cell_type": "code",
   "execution_count": null,
   "id": "8ed15ab3",
   "metadata": {},
   "outputs": [],
   "source": [
    "maplib_folium.MAP_DPS_RESULTS(tiler_mosaic, \n",
    "                              boreal_tile_index[~boreal_tile_index['tile_num'].isin([])], #bad_tiles \n",
    "                              tile_index_matches, \n",
    "                              boreal_tile_index[boreal_tile_index['tile_num'].isin(TILE_ATL08_TILES_NEEDED)], \n",
    "                              MATCH_TILES_NAME=DPS_DATA_TYPE,\n",
    "                              CHECK_TILES_NAME='ATL08 filt tiles needed',\n",
    "                              mosaic_json_dict = \n",
    "                                  {\n",
    "                                        'agb_mosaic_json_s3_fn':    None,#'s3://maap-ops-workspace/shared/lduncanson/DPS_tile_lists/AGB_tindex_master_mosaic.json',\n",
    "                                        'topo_mosaic_json_s3_fn':   's3://maap-ops-workspace/shared/nathanmthomas/DPS_tile_lists/Topo_tindex_master_mosaic.json',\n",
    "                                        'mscomp_mosaic_json_s3_fn': 's3://maap-ops-workspace/shared/nathanmthomas/DPS_tile_lists/HLS_tindex_master_mosaic.json',\n",
    "                                          'worldcover_json_s3_fn': None\n",
    "                                    },\n",
    "                              mscomp_rgb_dict = None,\n",
    "#                 {\n",
    "#                 'red_bandnum':   5,\n",
    "#                 'green_bandnum': 4,\n",
    "#                 'blue_bandnum':  3,\n",
    "#                 'red_bandmax':   1,\n",
    "#                 'green_bandmax': 1,\n",
    "#                 'blue_bandmax':  1,\n",
    "#                 },\n",
    "                            MS_BANDNAME = 'EVI',\n",
    "                            MS_BANDMIN=0.25,\n",
    "                            MS_BANDMAX=2.5,\n",
    "                            MS_BANDNUM=11,\n",
    "                            MS_BANDCOLORBAR='viridis'\n",
    "                             )\n",
    "#m.save('/projects/my-public-bucket/folium_map_evi.html')"
   ]
  },
  {
   "cell_type": "code",
   "execution_count": null,
   "id": "a9c2fca4",
   "metadata": {},
   "outputs": [],
   "source": [
    "maplib_folium.MAP_DPS_RESULTS(tiler_mosaic, \n",
    "                              boreal_tile_index[~boreal_tile_index['tile_num'].isin(bad_tiles)], \n",
    "                              tile_index_matches, \n",
    "                              boreal_tile_index[boreal_tile_index['tile_num'].isin(REDO_TILES)], \n",
    "                              MATCH_TILES_NAME=DPS_DATA_TYPE,\n",
    "                              CHECK_TILES_NAME='Redo tiles',\n",
    "                              mosaic_json_dict = \n",
    "                                  {\n",
    "                                        'agb_mosaic_json_s3_fn':    None,#'s3://maap-ops-workspace/shared/lduncanson/DPS_tile_lists/AGB_tindex_master_mosaic.json',\n",
    "                                        'topo_mosaic_json_s3_fn':   's3://maap-ops-workspace/shared/nathanmthomas/DPS_tile_lists/Topo_tindex_master_mosaic.json',\n",
    "                                        'mscomp_mosaic_json_s3_fn': 's3://maap-ops-workspace/shared/nathanmthomas/DPS_tile_lists/HLS_tindex_master_mosaic.json'\n",
    "                                    },\n",
    "                              mscomp_rgb_dict = None,\n",
    "                            MS_BANDNAME = 'Day of year',\n",
    "                            MS_BANDMIN=160,\n",
    "                            MS_BANDMAX=260, #1.1,\n",
    "                            MS_BANDNUM=20, #9,\n",
    "                            MS_BANDCOLORBAR='tab20b'\n",
    "                             )\n",
    "\n",
    "#m.save('/projects/my-public-bucket/folium_map_doy.html')"
   ]
  },
  {
   "cell_type": "code",
   "execution_count": null,
   "id": "5f477db7",
   "metadata": {},
   "outputs": [],
   "source": [
    "maplib_folium.MAP_DPS_RESULTS(tiler_mosaic, \n",
    "                              boreal_tile_index[~boreal_tile_index['tile_num'].isin([])], \n",
    "                              tile_index_matches, \n",
    "                              boreal_tile_index[boreal_tile_index['tile_num'].isin(CHECK_TILES)], \n",
    "                              MATCH_TILES_NAME=DPS_DATA_TYPE,\n",
    "                              CHECK_TILES_NAME='Check',\n",
    "                              mosaic_json_dict = \n",
    "                                  {\n",
    "                                        'agb_mosaic_json_s3_fn':    None,#'s3://maap-ops-workspace/shared/lduncanson/DPS_tile_lists/AGB_tindex_master_mosaic.json',\n",
    "                                        'topo_mosaic_json_s3_fn':   's3://maap-ops-workspace/shared/nathanmthomas/DPS_tile_lists/Topo_tindex_master_mosaic.json',\n",
    "                                        'mscomp_mosaic_json_s3_fn': 's3://maap-ops-workspace/shared/nathanmthomas/DPS_tile_lists/HLS_tindex_master_mosaic.json'\n",
    "                                    },\n",
    "                              mscomp_rgb_dict = None,\n",
    "                            MS_BANDNAME = 'NBR2',\n",
    "                            MS_BANDMIN=0.25,\n",
    "                            MS_BANDMAX=0.45, #1.1,\n",
    "                            MS_BANDNUM=13, #9,\n",
    "                            MS_BANDCOLORBAR='nipy_spectral',\n",
    "                            SHOW_WIDGETS=False\n",
    "                             )\n",
    "#m.save('/projects/my-public-bucket/folium_map_nbr2.html')"
   ]
  },
  {
   "cell_type": "markdown",
   "id": "65be9454",
   "metadata": {},
   "source": [
    "#### Show DEM tiles"
   ]
  },
  {
   "cell_type": "code",
   "execution_count": null,
   "id": "3dbfe666",
   "metadata": {},
   "outputs": [],
   "source": [
    "#maplib_folium.MAP_DPS_RESULTS(tiler_mosaic, dem_tiles_index, tile_index_matches, tile_index_missing, MATCH_TILES_NAME=DPS_DATA_TYPE, CHECK_TILES_NAME='Missing tiles')"
   ]
  },
  {
   "cell_type": "code",
   "execution_count": null,
   "id": "f8fd7566",
   "metadata": {},
   "outputs": [],
   "source": [
    "if False:\n",
    "    maplib_folium.map_tile_n_obs(tindex_master_fn='s3://maap-ops-workspace/shared/lduncanson/DPS_tile_lists/ATL08_filt_tindex_master.csv', \n",
    "                   map_name = '# of filtered ATL08 obs. from night & day', max_n_obs=15000)"
   ]
  },
  {
   "cell_type": "code",
   "execution_count": null,
   "id": "9177e3bf",
   "metadata": {},
   "outputs": [],
   "source": [
    "maplib_folium.map_tile_n_obs(tindex_master_fn='s3://maap-ops-workspace/shared/lduncanson/DPS_tile_lists/ATL08_filt_sample_tindex_master.csv', \n",
    "                   map_name = '# of samples of filtered ATL08 obs. from night', max_n_obs=250)"
   ]
  },
  {
   "cell_type": "markdown",
   "id": "81e1e703",
   "metadata": {},
   "source": [
    "#### Examine Focal Tiles "
   ]
  },
  {
   "cell_type": "code",
   "execution_count": null,
   "id": "f4c28816",
   "metadata": {},
   "outputs": [],
   "source": [
    "FOCAL_TILE = 2829\n",
    "if False:\n",
    "    \n",
    "    old = pd.read_csv('s3://maap-ops-workspace/lduncanson/dps_output/run_tile_atl08_ubuntu/master/2021/10/09/02/02/43/982064/atl08_004_30m_filt_topo_landsat_20211009_3457.csv')\n",
    "    len(old)\n",
    "    new = pd.read_csv('s3://maap-ops-workspace/lduncanson/dps_output/run_tile_atl08_ubuntu/master/2022/03/29/19/20/06/218140/atl08_005_30m_filt_topo_landsat_20220329_3457.csv')\n",
    "    old[(old.NDVI > 0) & (old.NDVI < 1)].hist(column='NDVI', bins=50)\n",
    "    old[(old.NDVI > 0) & (old.NDVI < 1)].hist(column='h_can', bins=50)\n",
    "    new[(new.NDVI > 0) & (new.NDVI < 1)].hist(column='NDVI', bins=50)\n",
    "    new[(new.NDVI > 0) & (new.NDVI < 1)].hist(column='h_can', bins=50, by=new['seg_landcov'])\n",
    "    #old.groupby('yearDate')['yearDate'].agg(['count'])"
   ]
  },
  {
   "cell_type": "markdown",
   "id": "5727ba43",
   "metadata": {},
   "source": [
    "#### Map Focal Tile ATL08 \n",
    "* the tile's ATL08 from fall 2021\n",
    "* the tile's ATL08 from spring 2022"
   ]
  },
  {
   "cell_type": "code",
   "execution_count": null,
   "id": "c811d300",
   "metadata": {},
   "outputs": [],
   "source": [
    "maplib_folium.map_tile_atl08(FOCAL_TILE, tiler_mosaic, boreal_tile_index, ATL08_filt_tindex_master_fn = '/projects/shared-buckets/lduncanson/DPS_tile_lists/ATL08_filt_tindex_master_backup.csv',mosaic_json_dict = {'agb_mosaic_json_s3_fn': None}, DO_NIGHT=False)"
   ]
  },
  {
   "cell_type": "code",
   "execution_count": null,
   "id": "a95cd559",
   "metadata": {},
   "outputs": [],
   "source": [
    "maplib_folium.map_tile_atl08(FOCAL_TILE, tiler_mosaic, boreal_tile_index, ATL08_filt_tindex_master_fn = ATL08_filt_tindex_master_fn, DO_NIGHT=False) #, mosaic_json_dict = {'agb_mosaic_json_s3_fn': None}"
   ]
  },
  {
   "cell_type": "code",
   "execution_count": null,
   "id": "add2f4cd",
   "metadata": {},
   "outputs": [],
   "source": [
    "#print(boreal_tile_index[boreal_tile_index.tile_num == 38592].crs)\n",
    "boreal_tile_index[boreal_tile_index.tile_num == 38592].to_crs(4326).geometry.to_json()"
   ]
  },
  {
   "cell_type": "code",
   "execution_count": null,
   "id": "d451e68c",
   "metadata": {},
   "outputs": [],
   "source": [
    "x = pd.read_csv('s3://maap-ops-workspace/lduncanson/dps_output/run_tile_atl08_ubuntu/master/2022/03/ATL08_filt_tindex_master.csv')\n",
    "x"
   ]
  }
 ],
 "metadata": {
  "kernelspec": {
   "display_name": "Python 3 (ipykernel)",
   "language": "python",
   "name": "python3"
  },
  "language_info": {
   "codemirror_mode": {
    "name": "ipython",
    "version": 3
   },
   "file_extension": ".py",
   "mimetype": "text/x-python",
   "name": "python",
   "nbconvert_exporter": "python",
   "pygments_lexer": "ipython3",
   "version": "3.7.8"
  }
 },
 "nbformat": 4,
 "nbformat_minor": 5
}
