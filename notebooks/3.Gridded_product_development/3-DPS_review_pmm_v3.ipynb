{
 "cells": [
  {
   "cell_type": "markdown",
   "id": "a85c5517",
   "metadata": {},
   "source": [
    "# Review DPS outputs\n",
    "Make a mosaic of DPS outputs.\n",
    "\n",
    "1. make a list of the DPS output paths with build_tindex.master.py\n",
    "2. Identify duplicate tiles\n",
    "3. Identify matching tiles; merge tindex.master with the original index tile file\n",
    "4. make mosaicjson\n",
    "5. View DPS results"
   ]
  },
  {
   "cell_type": "code",
   "execution_count": 1,
   "id": "dbd81ab8",
   "metadata": {},
   "outputs": [
    {
     "name": "stdout",
     "output_type": "stream",
     "text": [
      "Collecting pystac\n",
      "  Using cached pystac-1.4.0-py3-none-any.whl (137 kB)\n",
      "Requirement already satisfied: python-dateutil>=2.7.0 in /projects/.local/lib/python3.7/site-packages (from pystac) (2.8.0)\n",
      "Requirement already satisfied: typing-extensions>=3.7 in /opt/conda/lib/python3.7/site-packages (from pystac) (3.7.4.3)\n",
      "Requirement already satisfied: six>=1.5 in /opt/conda/lib/python3.7/site-packages (from python-dateutil>=2.7.0->pystac) (1.12.0)\n",
      "Installing collected packages: pystac\n",
      "Successfully installed pystac-1.4.0\n",
      "\u001b[33mWARNING: Running pip as the 'root' user can result in broken permissions and conflicting behaviour with the system package manager. It is recommended to use a virtual environment instead: https://pip.pypa.io/warnings/venv\u001b[0m\u001b[33m\n",
      "\u001b[0m\u001b[33mWARNING: You are using pip version 22.0.3; however, version 22.1.2 is available.\n",
      "You should consider upgrading via the '/opt/conda/bin/python -m pip install --upgrade pip' command.\u001b[0m\u001b[33m\n",
      "\u001b[0m\u001b[31mERROR: Could not open requirements file: [Errno 2] No such file or directory: '/projects/Developer/icesat2_boreal/dps/requirements_main.txt'\u001b[0m\u001b[31m\n",
      "\u001b[0m\u001b[33mWARNING: You are using pip version 22.0.3; however, version 22.1.2 is available.\n",
      "You should consider upgrading via the '/opt/conda/bin/python -m pip install --upgrade pip' command.\u001b[0m\u001b[33m\n",
      "\u001b[0m"
     ]
    },
    {
     "ename": "ModuleNotFoundError",
     "evalue": "No module named 's3fs'",
     "output_type": "error",
     "traceback": [
      "\u001b[0;31m---------------------------------------------------------------------------\u001b[0m",
      "\u001b[0;31mModuleNotFoundError\u001b[0m                       Traceback (most recent call last)",
      "\u001b[0;32m<ipython-input-1-399564ba67cb>\u001b[0m in \u001b[0;36m<module>\u001b[0;34m\u001b[0m\n\u001b[1;32m      9\u001b[0m \u001b[0;32mimport\u001b[0m \u001b[0mnumpy\u001b[0m \u001b[0;32mas\u001b[0m \u001b[0mnp\u001b[0m\u001b[0;34m\u001b[0m\u001b[0;34m\u001b[0m\u001b[0m\n\u001b[1;32m     10\u001b[0m \u001b[0;32mimport\u001b[0m \u001b[0msys\u001b[0m\u001b[0;34m\u001b[0m\u001b[0;34m\u001b[0m\u001b[0m\n\u001b[0;32m---> 11\u001b[0;31m \u001b[0;32mimport\u001b[0m \u001b[0ms3fs\u001b[0m\u001b[0;34m\u001b[0m\u001b[0;34m\u001b[0m\u001b[0m\n\u001b[0m\u001b[1;32m     12\u001b[0m \u001b[0msys\u001b[0m\u001b[0;34m.\u001b[0m\u001b[0mpath\u001b[0m\u001b[0;34m.\u001b[0m\u001b[0mappend\u001b[0m\u001b[0;34m(\u001b[0m\u001b[0;34m'/projects/icesat2_boreal/lib'\u001b[0m\u001b[0;34m)\u001b[0m\u001b[0;34m\u001b[0m\u001b[0;34m\u001b[0m\u001b[0m\n\u001b[1;32m     13\u001b[0m \u001b[0msys\u001b[0m\u001b[0;34m.\u001b[0m\u001b[0mpath\u001b[0m\u001b[0;34m.\u001b[0m\u001b[0mappend\u001b[0m\u001b[0;34m(\u001b[0m\u001b[0;34m'/projects/Developer/icesat2_boreal/lib'\u001b[0m\u001b[0;34m)\u001b[0m\u001b[0;34m\u001b[0m\u001b[0;34m\u001b[0m\u001b[0m\n",
      "\u001b[0;31mModuleNotFoundError\u001b[0m: No module named 's3fs'"
     ]
    }
   ],
   "source": [
    "!pip install pystac\n",
    "!pip install -U -r /projects/Developer/icesat2_boreal/dps/requirements_main.txt\n",
    "\n",
    "import geopandas\n",
    "import pandas as pd\n",
    "import os\n",
    "import json\n",
    "import collections\n",
    "import numpy as np\n",
    "import sys\n",
    "import s3fs\n",
    "sys.path.append('/projects/icesat2_boreal/lib')\n",
    "sys.path.append('/projects/Developer/icesat2_boreal/lib')\n",
    "\n",
    "import ExtractUtils\n",
    "\n",
    "import maplib_folium\n",
    "def local_to_s3(url, user = 'nathanmthomas', type='public'):\n",
    "    ''' A Function to convert local paths to s3 urls'''\n",
    "    if type is 'public':\n",
    "        replacement_str = f's3://maap-ops-workspace/shared/{user}'\n",
    "    else:\n",
    "        replacement_str = f's3://maap-ops-workspace/{user}'\n",
    "    return url.replace(f'/projects/my-{type}-bucket', replacement_str)"
   ]
  },
  {
   "cell_type": "markdown",
   "id": "b6e92b1a",
   "metadata": {},
   "source": [
    "# Choose a DPS data type; get its tile index master file\n",
    "Get a filename of the master list DPS output tiles returned with _build_tindex_master.py"
   ]
  },
  {
   "cell_type": "code",
   "execution_count": null,
   "id": "2491fd8e",
   "metadata": {},
   "outputs": [],
   "source": [
    "DPS_DATA_TYPE = 'AGB' #\\\"Topo\\\" \\\"Landsat\\\" \\\"ATL08\\\" \\\"ATL08_filt\\\" \\\"AGB\\\"\n",
    "DPS_DATA_USER = 'lduncanson' #'nathanmthomas' 'lduncanson'\n",
    "TEST_HLS = False\n",
    "DPS = True\n",
    "OUT_MASTER_CSV_JSON_DIR = f's3://maap-ops-workspace/shared/{DPS_DATA_USER}/DPS_tile_lists'\n",
    "\n",
    "if DPS_DATA_TYPE == 'HLS':\n",
    "    if TEST_HLS:\n",
    "        # Run tests on set of NORWAY + AK + MISC or any other tiles of interest in DPS_mscomp nb\n",
    "        # misc tests \n",
    "        #NAME_HLS_TEST = 'test_mc0_3yrs'\n",
    "        #NAME_HLS_TEST = 'test_single_years'\n",
    "        #NAME_HLS_TEST = '03'\n",
    "        #DAY_START_TEST = 24\n",
    "\n",
    "        # better tests\n",
    "        #NAME_HLS_TEST = 'test_mc10_3yrs'\n",
    "        #DAY_START_TEST = 23\n",
    "        NAME_HLS_TEST = '03' #'test_mc40_3yrs'\n",
    "        DAY_START_TEST = 24\n",
    "\n",
    "        ENDSTR = '.tif'\n",
    "        if DPS:\n",
    "            OUT_MASTER_CSV_JSON_DIR = f's3://maap-ops-workspace/{DPS_DATA_USER}/dps_output/do_HLS_stack_3-1-2_ubuntu/master/2022/{NAME_HLS_TEST}'  #LOCAL_WRITE_DIR = f'/projects/my-private-bucket/dps_output/do_HLS_stack_3-1-2_ubuntu/master/2022/{NAME_HLS_TEST}'\n",
    "            !python /projects/Developer/icesat2_boreal/lib/build_tindex_master.py -t HLS -y 2022 -m $NAME_HLS_TEST -d_min $DAY_START_TEST -o $OUT_MASTER_CSV_JSON_DIR --ends_with_str $ENDSTR,\n",
    "        else:\n",
    "            LOCAL_DIR_PART = f'shared/nathanmthomas/test_hls/{NAME_HLS_TEST}',\n",
    "            OUT_MASTER_CSV_JSON_DIR = f'/projects/my-public-bucket/test_hls/{NAME_HLS_TEST}',\n",
    "            !python /projects/Developer/icesat2_boreal/lib/build_tindex_master.py -t HLS --LOCAL_TEST -local_dir $LOCAL_DIR_PART -o $OUT_MASTER_CSV_JSON_DIR --ends_with_str $ENDSTR,\n",
    "    else:\n",
    "        NAME_HLS = '03 04' #'test_mc40_3yrs'\n",
    "        DAY_START = 24\n",
    "        #NAME_HLS = '04' #'test_mc40_3yrs'\n",
    "        #DAY_START = 5\n",
    "        #OUT_MASTER_CSV_JSON_DIR = f'/projects/shared-buckets/{DPS_DATA_USER}/DPS_tile_lists'\n",
    "        \n",
    "        !python /projects/Developer/icesat2_boreal/lib/build_tindex_master.py -t HLS -y 2022 -m_list $NAME_HLS #-d_min $DAY_START\n",
    "\n",
    "tindex_master_fn        = os.path.join(OUT_MASTER_CSV_JSON_DIR, f'{DPS_DATA_TYPE}_tindex_master.csv')\n",
    "tile_matches_geojson_fn = os.path.join(OUT_MASTER_CSV_JSON_DIR, f'{DPS_DATA_TYPE}_tindex_master.json')\n",
    "out_mosaic_json_fn      = os.path.join(OUT_MASTER_CSV_JSON_DIR, f'{DPS_DATA_TYPE}_tindex_master_mosaic.json')\n",
    "\n",
    "#tindex_master_fn = '/projects/my-private-bucket/dps_output/run_tile_atl08_ubuntu/master/2022/run_LC_height_thresholds/ATL08_filt_tindex_master.csv'\n",
    "\n",
    "#Get other tile index master files\n",
    "ATL08_filt_sample_tindex_master_fn = 's3://maap-ops-workspace/shared/lduncanson/DPS_tile_lists/ATL08_filt_sample_tindex_master.csv'\n",
    "#ATL08_filt_tindex_master_fn       = '/projects/test_dps/ATL08_filt_tindex_master.csv'#'s3://maap-ops-workspace/shared/lduncanson/DPS_tile_lists/ATL08_filt_tindex_master.csv'\n",
    "ATL08_filt_tindex_master_fn        = 's3://maap-ops-workspace/shared/nathanmthomas/DPS_tile_lists/ATL08_filt_tindex_master.csv'\n",
    "#ATL08_filt_tindex_master_fn        = 's3://maap-ops-workspace/lduncanson/dps_output/run_tile_atl08_ubuntu/master/2022/03/ATL08_filt_tindex_master.csv'\n",
    "Topo_tindex_master_fn              = '/projects/shared-buckets/nathanmthomas/DPS_tile_lists/Topo_tindex_master.csv'\n",
    "\n",
    "Topo_tindex_master                 =  pd.read_csv(Topo_tindex_master_fn)\n",
    "ATL08_filt_tindex_master           =  pd.read_csv(ATL08_filt_tindex_master_fn)\n",
    "ATL08_filt_sample_tindex_master    =  pd.read_csv(ATL08_filt_sample_tindex_master_fn)\n"
   ]
  },
  {
   "cell_type": "code",
   "execution_count": null,
   "id": "7a40ece1",
   "metadata": {},
   "outputs": [],
   "source": [
    "UPDATE_TINDEX = False\n",
    "\n",
    "if not os.path.isfile(tindex_master_fn.replace('s3://maap-ops-workspace/shared',f'/projects/shared-buckets')):\n",
    "     UPDATE_TINDEX = True\n",
    "else:\n",
    "    print('Using existing tindex')\n",
    "    print(tindex_master_fn)\n",
    "\n",
    "    \n",
    "if UPDATE_TINDEX:\n",
    "    print(f\"Building master tile index for: {DPS_DATA_TYPE}\")\n",
    "    #dps_month = 'run_LC_height_thresholds'\n",
    "    #d_min = 1\n",
    "    #os.system(f\"python /projects/icesat2_boreal/lib/build_tindex_master.py --type {DPS_DATA_TYPE} -m {dps_month} -d_min {d_min}\")\n",
    "    !python /projects/Developer/icesat2_boreal/lib/build_tindex_master.py --type $DPS_DATA_TYPE -m 04 -d_min 27 -o /projects/tmp\n"
   ]
  },
  {
   "cell_type": "markdown",
   "id": "be08bc75",
   "metadata": {},
   "source": [
    "### Get the tiles needed for the data of interest"
   ]
  },
  {
   "cell_type": "code",
   "execution_count": null,
   "id": "8695f18f",
   "metadata": {},
   "outputs": [],
   "source": [
    "# Build up a dataframe from the list of dps output files\n",
    "tindex_master = pd.read_csv(tindex_master_fn)\n",
    "\n",
    "if DPS_DATA_TYPE == 'Landsat' or DPS_DATA_TYPE == 'HLS' or DPS_DATA_TYPE == 'Topo':\n",
    "    DPS_DATA_USER = 'nathanmthomas'\n",
    "    \n",
    "tindex_master['s3'] = [local_to_s3(local_path, user=DPS_DATA_USER, type = 'private') for local_path in tindex_master['local_path']]\n",
    "print(f\"# of expected {DPS_DATA_TYPE} tiles:\\t\\t\\t\\t\\t\\t{len(tindex_master)}\")\n",
    "\n",
    "# Wherever there is a 90k Topo tile, there should be data...\n",
    "# Get all covar tiles that should account for the set of output we want\n",
    "topo_tindex_master  = pd.read_csv(Topo_tindex_master_fn)\n",
    "print(f\"# of expected covar (from Topo) tiles:\\t\\t\\t\\t\\t{len(topo_tindex_master.tile_num )}\")\n",
    "\n",
    "# Get all boreal tiles\n",
    "boreal_tile_index_path = '/projects/my-public-bucket/boreal_tiles_v003.gpkg' \n",
    "boreal_tile_index = geopandas.read_file(boreal_tile_index_path)\n",
    "#boreal_tile_index.astype({'layer':'int'})\n",
    "#boreal_tile_index.rename(columns={\"layer\":\"tile_num\"}, inplace=True)\n",
    "boreal_tile_index[\"tile_num\"] = boreal_tile_index[\"tile_num\"].astype(int)\n",
    "\n",
    "bad_tiles = [3540,3634,3728,3823,3916,4004] #Dropping the tiles near antimeridian that reproject poorly.\n",
    "# For some reason, doing this causes 'MosaicJSON.from_features()' to fail...(below)\n",
    "if True:\n",
    "    # Remove bad tiles\n",
    "    boreal_tile_index = boreal_tile_index[~boreal_tile_index['tile_num'].isin(bad_tiles)]\n",
    "    \n",
    "    \n",
    "select_needs = [3360,2994,3190,2840,3012,3014,3017,2932,1261,1263,1264,988,978,794, 380,378,411,821,861,\n",
    "                812,765,764,1308,1302,1469,1406,2495,2883,2965,3321,3509,3510,3327,3335,2976,2906,2907,2894,2814,4253,4293,4403,4440,4408,4372,4477,3986]\n",
    "tile_matches_select_needs = boreal_tile_index.merge(ATL08_filt_tindex_master[ATL08_filt_tindex_master['tile_num'].isin(select_needs)], how='right', on='tile_num')\n",
    "print(f\"# of {DPS_DATA_TYPE} tiles needed (compared with {os.path.basename(ATL08_filt_tindex_master_fn)}):\\t{len(tile_matches_select_needs)}\")\n",
    "\n",
    "print(f\"# of total tiles supposedly needed (from {os.path.basename(boreal_tile_index_path)}):\\t{len(boreal_tile_index)}\")\n",
    "\n",
    "if len(tile_matches_select_needs)<100:\n",
    "    print([t for t in tile_matches_select_needs.tile_num])\n"
   ]
  },
  {
   "cell_type": "markdown",
   "id": "44f0569a",
   "metadata": {},
   "source": [
    "### Identify duplicate tiles"
   ]
  },
  {
   "cell_type": "code",
   "execution_count": null,
   "id": "6bc3d71e",
   "metadata": {},
   "outputs": [],
   "source": [
    "duplicate_tiles = [item for item, count in collections.Counter(tindex_master[\"tile_num\"]).items() if count > 1]\n",
    "print(duplicate_tiles)"
   ]
  },
  {
   "cell_type": "markdown",
   "id": "fa86aa3d",
   "metadata": {},
   "source": [
    "### Identify completed, missing, failed, & duplicate tiles"
   ]
  },
  {
   "cell_type": "code",
   "execution_count": null,
   "id": "8ab710c2",
   "metadata": {},
   "outputs": [],
   "source": [
    "print(f\"Tile status report for {DPS_DATA_TYPE} from {tindex_master_fn}:\")\n",
    "# For the tindex_master, convert it into vector tiles that show the tiles we have\n",
    "cols_list = ['tile_num','s3_path','local_path']\n",
    "if 's3_path' not in tindex_master.columns:\n",
    "    tindex_master['s3_path'] = tindex_master['s3']\n",
    "# Select the rows we have results for\n",
    "tile_index_matches = boreal_tile_index.merge(tindex_master[~tindex_master['tile_num'].isin(bad_tiles)][cols_list], how='right', on='tile_num')\n",
    "#tile_matches_atl08_filt_samples = boreal_tile_index.merge(ATL08_filt_sample_tindex_master[~ATL08_filt_sample_tindex_master['tile_num'].isin(bad_tiles)], how='right', on='tile_num')\n",
    "print(f'\\t# tiles matched:\\t\\t{len(tile_index_matches)}')\n",
    "\n",
    "# Use the Topo tiles (COVAR set) to get the diff of what tiles we have and what we want\n",
    "# MISSING TILES = DIFF(tiles_we_want, tiles_we_have)\n",
    "#tile_nums_missing = np.setdiff1d(tiles_covars, tile_index_matches.tile_num)\n",
    "tile_nums_missing_list = list(set(topo_tindex_master.tile_num) - set(tile_index_matches.tile_num))\n",
    "tile_nums_missing_list = list(set(tile_index_matches.tile_num) - set(topo_tindex_master.tile_num))\n",
    "# The ATL08 tiles we have may not exactly match the set of COVAR tiles we have\n",
    "# Use the set of ATL08 tiles we have, crossed with the tiles we're missing (based on COVAR set), to get tiles we're missing that we should definitely proces (b/c we have both COVAR and ATL08 tiles for them)\n",
    "#tile_index_missing = boreal_tile_index.merge(boreal_tile_index[boreal_tile_index['tile_num'].isin(tile_nums_missing_list)], how='right', on='tile_num')\n",
    "#tile_index_missing = boreal_tile_index.merge(tindex_master[tindex_master['tile_num'].isin(tile_nums_missing_list)], how='inner', on='tile_num')\n",
    "tile_index_missing = boreal_tile_index[boreal_tile_index['tile_num'].isin(tile_nums_missing_list)]\n",
    "\n",
    "print(f'\\t# tiles missing:\\t\\t{len(tile_index_missing)}')\n",
    "if len(tile_index_missing) > 0:\n",
    "    tile_index_missing.to_file(f'/projects/my-public-bucket/DPS_tile_lists/Need_{DPS_DATA_TYPE}_tindex_master.gpkg', driver='GPKG')\n",
    "    #print(tile_index_missing.head())\n",
    "\n",
    "# Meh, this doesnt give us fails\n",
    "#tile_matches_failed = boreal_tile_index.merge(Topo_tindex_master[Topo_tindex_master['tile_num'].isin(tile_nums_missing)], how='right', on='tile_num')\n",
    "#print(f'Missing b/c failed: \\t{len(tile_matches_failed)}')\n",
    "\n",
    "# Duplicates are also removed in build_tindex_master\n",
    "tile_matches_duplicates = boreal_tile_index.merge(topo_tindex_master.tile_num[topo_tindex_master.tile_num.isin(duplicate_tiles)], how='right', on='tile_num')\n",
    "print(f'\\t# tiles duplicated: \\t\\t{len(tile_matches_duplicates)}')\n",
    "\n",
    "# Drop duplicates\n",
    "tile_index_matches = tile_index_matches.drop_duplicates(subset=['tile_num'], keep='last')\n",
    "print(f\"Missing tiles:\\t{tile_nums_missing_list}\")\n",
    "print(f\"Bad tiles:\\t{bad_tiles}\")\n",
    "\n",
    "ax = boreal_tile_index.plot(color='red')\n",
    "ax = tile_index_matches.plot(color='green', ax=ax)\n",
    "tile_index_missing.plot(column='tile_group', ax=ax)\n"
   ]
  },
  {
   "cell_type": "code",
   "execution_count": null,
   "id": "7df76cee",
   "metadata": {},
   "outputs": [],
   "source": [
    "z = pd.read_csv( '/projects/tmp/AGB_tindex_master.csv')\n",
    "z.info()"
   ]
  },
  {
   "cell_type": "code",
   "execution_count": null,
   "id": "e5816f43",
   "metadata": {},
   "outputs": [],
   "source": [
    "TILE_ATL08_TILES_NEEDED = ExtractUtils.GET_TILES_NEEDED(DPS_DATA_TYPE = 'AGB', \\\n",
    "                                                #tindex_master_fn = 's3://maap-ops-workspace/shared/nathanmthomas/DPS_tile_lists/ATL08_filt_tindex_master.csv',\\\n",
    "                                                tindex_master_fn = '/projects/tmp/AGB_tindex_master.csv',\\\n",
    "                                                boreal_tile_index_path = '/projects/my-public-bucket/boreal_tiles_v003.gpkg')"
   ]
  },
  {
   "cell_type": "code",
   "execution_count": null,
   "id": "d2c72450",
   "metadata": {},
   "outputs": [],
   "source": [
    "if 's3_path' in tile_index_matches.columns:\n",
    "    tile_index_matches['s3'] = tile_index_matches['s3_path']\n",
    "    \n",
    "tile_index_matches = tile_index_matches[tile_index_matches['s3'].notna()]\n",
    "tile_index_matches.head()"
   ]
  },
  {
   "cell_type": "markdown",
   "id": "12725680",
   "metadata": {},
   "source": [
    "## Build a MosaicJSON"
   ]
  },
  {
   "cell_type": "markdown",
   "id": "fdafe358",
   "metadata": {},
   "source": [
    "##### Build tile geojsons needed for mosaic jsons"
   ]
  },
  {
   "cell_type": "code",
   "execution_count": null,
   "id": "23951165",
   "metadata": {},
   "outputs": [],
   "source": [
    "# Corrections were made to ensure GeoJSON *_tindex_master.json was set correctly to 4326\n",
    "tile_matches_geojson_string = tile_index_matches.to_crs(\"EPSG:4326\")\n",
    "\n",
    "#Write copy to disk for debug\n",
    "#tile_matches_geojson_fn = f's3://maap-ops-workspace/shared/{DPS_DATA_USER}/DPS_tile_lists/{DPS_DATA_TYPE}_tindex_master.json' \n",
    "tile_matches_geojson_string.to_file(tile_matches_geojson_fn, driver='GeoJSON')\n",
    "\n",
    "tile_matches_geojson_string.plot()\n",
    "tile_matches_geojson_string = tile_matches_geojson_string.to_json()\n",
    "\n",
    "# This is formatted nicely (printed)\n",
    "tile_matches_geojson = json.loads(tile_matches_geojson_string)\n",
    "\n",
    "# TODO: make sure this GeoJSON is set correctly to 4326\n",
    "if len(tile_index_missing) > 0:\n",
    "    tile_index_missing_geojson_string = tile_index_missing.to_crs(\"EPSG:4326\").to_json()\n",
    "    tile_index_missing_geojson = json.loads(tile_index_missing_geojson_string)"
   ]
  },
  {
   "cell_type": "code",
   "execution_count": null,
   "id": "d987427c",
   "metadata": {},
   "outputs": [],
   "source": [
    "\n",
    "from typing import Dict\n",
    "from cogeo_mosaic.mosaic import MosaicJSON\n",
    "from cogeo_mosaic.backends import MosaicBackend\n",
    "\n",
    "def get_accessor(feature: Dict):\n",
    "    \"\"\"Return specific feature identifier.\"\"\"\n",
    "    return feature[\"properties\"][\"s3\"]\n",
    "\n",
    "#out_mosaic_json_fn = f's3://maap-ops-workspace/shared/{DPS_DATA_USER}/DPS_tile_lists/{DPS_DATA_TYPE}_tindex_master_mosaic.json' \n",
    "#out_mosaic_json_fn = f's3://maap-ops-workspace/shared/alexdevseed/DPS_tile_lists/{DPS_DATA_TYPE}_tindex_master_mosaic.json' \n",
    "\n",
    "print(f\"Building {out_mosaic_json_fn}\")\n",
    "mosaicdata = MosaicJSON.from_features(tile_matches_geojson.get('features'), minzoom=6, maxzoom=18, accessor=get_accessor)\n",
    "\n",
    "with MosaicBackend(out_mosaic_json_fn, mosaic_def=mosaicdata) as mosaic:\n",
    "    mosaic.write(overwrite=True)"
   ]
  },
  {
   "cell_type": "markdown",
   "id": "6c39f61c",
   "metadata": {},
   "source": [
    "## View the Results with Folium"
   ]
  },
  {
   "cell_type": "code",
   "execution_count": null,
   "id": "e5bb147a",
   "metadata": {},
   "outputs": [],
   "source": [
    "from folium import Map, TileLayer, GeoJson, LayerControl, Icon, Marker, features, Figure, CircleMarker\n",
    "from folium import plugins\n",
    "\n",
    "# Setup the mosaic tiling\n",
    "tiler_base = \"https://jqsd6bqdsf.execute-api.us-west-2.amazonaws.com/\" #titiler.maap-project.org\n",
    "tiler_mosaic =  \"\".join([tiler_base, \"mosaicjson/tiles/{z}/{x}/{y}\"])\n",
    "\n",
    "import branca.colormap as cm\n",
    "import matplotlib.cm\n",
    "pal_height_cmap = cm.LinearColormap(colors = ['black','#636363','#fc8d59','#fee08b','#ffffbf','#d9ef8b','#91cf60','#1a9850'], vmin=0, vmax=10)\n",
    "pal_height_cmap.caption = 'Vegetation height from  ATL08 @ 30 m (h_can; rh98)'\n",
    "#pal_height_cmap\n",
    "\n",
    "dem_tiles_index_path = '/projects/shared-buckets/nathanmthomas/dem30m_tiles.geojson'\n",
    "dem_tiles_index = geopandas.read_file(dem_tiles_index_path)\n",
    "dem_tiles_index['tile_num'] = dem_tiles_index.index\n",
    "dem_tiles_index.to_file('/projects/my-public-bucket/dem30m_tiles_v2.geojson', driver='GeoJSON')"
   ]
  },
  {
   "cell_type": "markdown",
   "id": "c63f0f45",
   "metadata": {},
   "source": [
    "bandnames = ['Blue', 'Green', 'Red', 'NIR', 'SWIR', 'SWIR2', 'NDVI', 'SAVI', 'MSAVI', 'NDMI', 'EVI', 'NBR', 'NBR2', 'TCB', 'TCG', 'TCW', 'ValidMask', 'Xgeo', 'Ygeo', 'JulianDate', 'yearDate']\n"
   ]
  },
  {
   "cell_type": "code",
   "execution_count": null,
   "id": "db1ea2ad",
   "metadata": {},
   "outputs": [],
   "source": [
    "CHECK_TILES = [1043, 34675, 34674, 34676, 35126, 35125, 35352, 1216, 3193, 3286, 3380, 3938]\n",
    "CHECK_TILES = ATL08_filt_tindex_master.tile_num.to_list()\n",
    "CHECK_TILES = [600, 601, 604, 643, 642, 728, 774, 775, 820, 821, 867, 868, 869, 1080, 917, 918]\n",
    "REDO_TILES = [636, 637, 68, 681, 27641, 27642, 27643, 27912, 27913, 28181, 25736, 26288, 26289, 26563, 26835, 26016, 26017, \\\n",
    "              range(26292,26294+1), 26568, 25180, 24899, 24336, 24337, 24617, 24055, 22937, range(23217, 23219+1), 23499, 24059, 24339, 24340, 24620, 24621, 24063 ]\n",
    "REDO_TILES = [\n",
    "                1043, 1044, \\\n",
    "                34675, 34674, 34676, 35126, 35125, 35352, 1216,\n",
    "                3193, 3286, 3380, 3938, 3949\n",
    "             ]\n",
    "REDO_TILES = [887,888,940, 941, 992, 993,1050, 1214,1215, 1216, 35352] + list(range(34674,34676+1))+ list(range(982,986+1))+ list(range(1041,1044+1))+ list(range(789,791+1))+ list(range(835,836+1))+ list(range(1613,1615+1))+ list(range(1557,1558+1))+\\\n",
    "                list(range(3004,3005+1)) +[2819] + list(range(3089,3097+1)) + list(range(3181,3186+1)) +[3367,3373, 3274, 3279, 3280, 3379, 3380, 3568, 3569, 3662]+list(range(3285,3288+1)) + list(range( 3470,3474+1))\n",
    "STRAGLER_TILES = [1, 156, 179, 251, 331, 359, 488, 491, 1782, 2653, 2739, 2886, 2900, 2902, 3540, 3728, 3823, 3934, 4061, 4062, 4082, 4133, 4200, 4260, 4448, 4479, 4489, 4518, 37080, 37748, 41995]\n",
    "STRAGLER_SUCCESSES = [1912, 1981, 2047, 2335, 2339, 2346, 2416, 2419, 2502, 2573, 2583, 2650, 2663, 2726, 2737, 2743, 2818, 2889, 2896, 2940, 2972, 3063, 3147, 3149, 3154, 3161, 3243, 3300, 40036]\n",
    "REDO_TILES = list(range(37147,37149+1))+list(range(39621,39623+1))+[36469,35802,36474]\n",
    "STRAGGLER_TILES = [3005,3094,3097,3189,4513,4483,3379,3380,3280,3373,36921,36922,36923, 38433,27365,4508,4509,4536,4475,4476,4441]\n",
    "\n",
    "# Get path to a tile\n",
    "tile_index_matches[tile_index_matches['tile_num'].isin([1043])].local_path.to_list()\n",
    "#pd.read_json('/projects/my-private-bucket/dps_output/do_HLS_stack_3-1-2_ubuntu/master/2022/04/02/01/44/31/303702/*json')"
   ]
  },
  {
   "cell_type": "code",
   "execution_count": null,
   "id": "6d29a9e7",
   "metadata": {},
   "outputs": [],
   "source": [
    "maplib_folium.MAP_DPS_RESULTS(tiler_mosaic, \n",
    "                              boreal_tile_index[~boreal_tile_index['tile_num'].isin([])], #bad_tiles \n",
    "                              tile_index_matches, \n",
    "                              boreal_tile_index[boreal_tile_index['tile_num'].isin(TILE_ATL08_TILES_NEEDED)], \n",
    "                              MATCH_TILES_NAME=DPS_DATA_TYPE,\n",
    "                              CHECK_TILES_NAME='ATL08 filt tiles needed',\n",
    "                              mosaic_json_dict = \n",
    "                                  {\n",
    "                                        'agb_mosaic_json_s3_fn':    's3://maap-ops-workspace/shared/lduncanson/DPS_tile_lists/AGB_tindex_master_mosaic.json',\n",
    "                                        'topo_mosaic_json_s3_fn':   's3://maap-ops-workspace/shared/nathanmthomas/DPS_tile_lists/Topo_tindex_master_mosaic.json',\n",
    "                                        'mscomp_mosaic_json_s3_fn': 's3://maap-ops-workspace/shared/nathanmthomas/DPS_tile_lists/HLS_tindex_master_mosaic.json',\n",
    "                                          'worldcover_json_s3_fn': None\n",
    "                                    },\n",
    "                              mscomp_rgb_dict = None,\n",
    "#                 {\n",
    "#                 'red_bandnum':   5,\n",
    "#                 'green_bandnum': 4,\n",
    "#                 'blue_bandnum':  3,\n",
    "#                 'red_bandmax':   1,\n",
    "#                 'green_bandmax': 1,\n",
    "#                 'blue_bandmax':  1,\n",
    "#                 },\n",
    "                            MS_BANDNAME = 'EVI',\n",
    "                            MS_BANDMIN=0.25,\n",
    "                            MS_BANDMAX=2.5,\n",
    "                            MS_BANDNUM=11,\n",
    "                            MS_BANDCOLORBAR='viridis'\n",
    "                             )\n",
    "#m.save('/projects/my-public-bucket/folium_map_evi.html')"
   ]
  },
  {
   "cell_type": "code",
   "execution_count": null,
   "id": "8ac4f24a",
   "metadata": {},
   "outputs": [],
   "source": [
    "maplib_folium.MAP_DPS_RESULTS(tiler_mosaic, \n",
    "                              boreal_tile_index[~boreal_tile_index['tile_num'].isin(bad_tiles)], \n",
    "                              tile_index_matches, \n",
    "                              boreal_tile_index[boreal_tile_index['tile_num'].isin(REDO_TILES)], \n",
    "                              MATCH_TILES_NAME=DPS_DATA_TYPE,\n",
    "                              CHECK_TILES_NAME='Redo tiles',\n",
    "                              mosaic_json_dict = \n",
    "                                  {\n",
    "                                        'agb_mosaic_json_s3_fn':    None,#'s3://maap-ops-workspace/shared/lduncanson/DPS_tile_lists/AGB_tindex_master_mosaic.json',\n",
    "                                        'topo_mosaic_json_s3_fn':   's3://maap-ops-workspace/shared/nathanmthomas/DPS_tile_lists/Topo_tindex_master_mosaic.json',\n",
    "                                        'mscomp_mosaic_json_s3_fn': 's3://maap-ops-workspace/shared/nathanmthomas/DPS_tile_lists/HLS_tindex_master_mosaic.json'\n",
    "                                    },\n",
    "                              mscomp_rgb_dict = None,\n",
    "                            MS_BANDNAME = 'Day of year',\n",
    "                            MS_BANDMIN=160,\n",
    "                            MS_BANDMAX=260, #1.1,\n",
    "                            MS_BANDNUM=20, #9,\n",
    "                            MS_BANDCOLORBAR='tab20b'\n",
    "                             )\n",
    "\n",
    "#m.save('/projects/my-public-bucket/folium_map_doy.html')"
   ]
  },
  {
   "cell_type": "code",
   "execution_count": null,
   "id": "efd1459b",
   "metadata": {},
   "outputs": [],
   "source": [
    "maplib_folium.MAP_DPS_RESULTS(tiler_mosaic, \n",
    "                              boreal_tile_index[~boreal_tile_index['tile_num'].isin([])], \n",
    "                              tile_index_matches, \n",
    "                              boreal_tile_index[boreal_tile_index['tile_num'].isin(CHECK_TILES)], \n",
    "                              MATCH_TILES_NAME=DPS_DATA_TYPE,\n",
    "                              CHECK_TILES_NAME='Check',\n",
    "                              mosaic_json_dict = \n",
    "                                  {\n",
    "                                        'agb_mosaic_json_s3_fn':    None,#'s3://maap-ops-workspace/shared/lduncanson/DPS_tile_lists/AGB_tindex_master_mosaic.json',\n",
    "                                        'topo_mosaic_json_s3_fn':   's3://maap-ops-workspace/shared/nathanmthomas/DPS_tile_lists/Topo_tindex_master_mosaic.json',\n",
    "                                        'mscomp_mosaic_json_s3_fn': 's3://maap-ops-workspace/shared/nathanmthomas/DPS_tile_lists/HLS_tindex_master_mosaic.json'\n",
    "                                    },\n",
    "                              mscomp_rgb_dict = None,\n",
    "                            MS_BANDNAME = 'NBR2',\n",
    "                            MS_BANDMIN=0.25,\n",
    "                            MS_BANDMAX=0.45, #1.1,\n",
    "                            MS_BANDNUM=13, #9,\n",
    "                            MS_BANDCOLORBAR='nipy_spectral',\n",
    "                            SHOW_WIDGETS=False\n",
    "                             )\n",
    "#m.save('/projects/my-public-bucket/folium_map_nbr2.html')"
   ]
  },
  {
   "cell_type": "markdown",
   "id": "2576e2ce",
   "metadata": {},
   "source": [
    "#### Show DEM tiles"
   ]
  },
  {
   "cell_type": "code",
   "execution_count": null,
   "id": "64736d2f",
   "metadata": {},
   "outputs": [],
   "source": [
    "#maplib_folium.MAP_DPS_RESULTS(tiler_mosaic, dem_tiles_index, tile_index_matches, tile_index_missing, MATCH_TILES_NAME=DPS_DATA_TYPE, CHECK_TILES_NAME='Missing tiles')"
   ]
  },
  {
   "cell_type": "code",
   "execution_count": null,
   "id": "4d614e35",
   "metadata": {},
   "outputs": [],
   "source": [
    "if False:\n",
    "    maplib_folium.map_tile_n_obs(tindex_master_fn='s3://maap-ops-workspace/shared/lduncanson/DPS_tile_lists/ATL08_filt_tindex_master.csv', \n",
    "                   map_name = '# of filtered ATL08 obs. from night & day', max_n_obs=15000)"
   ]
  },
  {
   "cell_type": "code",
   "execution_count": null,
   "id": "28c124e2",
   "metadata": {},
   "outputs": [],
   "source": [
    "maplib_folium.map_tile_n_obs(tindex_master_fn='s3://maap-ops-workspace/shared/lduncanson/DPS_tile_lists/ATL08_filt_sample_tindex_master.csv', \n",
    "                   map_name = '# of samples of filtered ATL08 obs. from night', max_n_obs=250)"
   ]
  },
  {
   "cell_type": "markdown",
   "id": "5631b03a",
   "metadata": {},
   "source": [
    "#### Examine Focal Tiles "
   ]
  },
  {
   "cell_type": "code",
   "execution_count": null,
   "id": "f09143d1",
   "metadata": {},
   "outputs": [],
   "source": [
    "FOCAL_TILE = 2829\n",
    "if False:\n",
    "    \n",
    "    old = pd.read_csv('s3://maap-ops-workspace/lduncanson/dps_output/run_tile_atl08_ubuntu/master/2021/10/09/02/02/43/982064/atl08_004_30m_filt_topo_landsat_20211009_3457.csv')\n",
    "    len(old)\n",
    "    new = pd.read_csv('s3://maap-ops-workspace/lduncanson/dps_output/run_tile_atl08_ubuntu/master/2022/03/29/19/20/06/218140/atl08_005_30m_filt_topo_landsat_20220329_3457.csv')\n",
    "    old[(old.NDVI > 0) & (old.NDVI < 1)].hist(column='NDVI', bins=50)\n",
    "    old[(old.NDVI > 0) & (old.NDVI < 1)].hist(column='h_can', bins=50)\n",
    "    new[(new.NDVI > 0) & (new.NDVI < 1)].hist(column='NDVI', bins=50)\n",
    "    new[(new.NDVI > 0) & (new.NDVI < 1)].hist(column='h_can', bins=50, by=new['seg_landcov'])\n",
    "    #old.groupby('yearDate')['yearDate'].agg(['count'])"
   ]
  },
  {
   "cell_type": "markdown",
   "id": "7876b529",
   "metadata": {},
   "source": [
    "#### Map Focal Tile ATL08 \n",
    "* the tile's ATL08 from fall 2021\n",
    "* the tile's ATL08 from spring 2022"
   ]
  },
  {
   "cell_type": "code",
   "execution_count": null,
   "id": "0f4b4c7a",
   "metadata": {},
   "outputs": [],
   "source": [
    "maplib_folium.map_tile_atl08(FOCAL_TILE, tiler_mosaic, boreal_tile_index, ATL08_filt_tindex_master_fn = '/projects/shared-buckets/lduncanson/DPS_tile_lists/ATL08_filt_tindex_master_backup.csv',mosaic_json_dict = {'agb_mosaic_json_s3_fn': None}, DO_NIGHT=False)"
   ]
  },
  {
   "cell_type": "code",
   "execution_count": null,
   "id": "ab7ae3ff",
   "metadata": {},
   "outputs": [],
   "source": [
    "maplib_folium.map_tile_atl08(FOCAL_TILE, tiler_mosaic, boreal_tile_index, ATL08_filt_tindex_master_fn = ATL08_filt_tindex_master_fn, DO_NIGHT=False) #, mosaic_json_dict = {'agb_mosaic_json_s3_fn': None}"
   ]
  },
  {
   "cell_type": "code",
   "execution_count": null,
   "id": "a292395f",
   "metadata": {},
   "outputs": [],
   "source": [
    "#print(boreal_tile_index[boreal_tile_index.tile_num == 38592].crs)\n",
    "boreal_tile_index[boreal_tile_index.tile_num == 38592].to_crs(4326).geometry.to_json()"
   ]
  },
  {
   "cell_type": "code",
   "execution_count": null,
   "id": "72fb3dbf",
   "metadata": {},
   "outputs": [],
   "source": [
    "x = pd.read_csv('s3://maap-ops-workspace/lduncanson/dps_output/run_tile_atl08_ubuntu/master/2022/03/ATL08_filt_tindex_master.csv')\n",
    "x"
   ]
  }
 ],
 "metadata": {
  "kernelspec": {
   "display_name": "Python 3 (ipykernel)",
   "language": "python",
   "name": "python3"
  },
  "language_info": {
   "codemirror_mode": {
    "name": "ipython",
    "version": 3
   },
   "file_extension": ".py",
   "mimetype": "text/x-python",
   "name": "python",
   "nbconvert_exporter": "python",
   "pygments_lexer": "ipython3",
   "version": "3.7.8"
  }
 },
 "nbformat": 4,
 "nbformat_minor": 5
}
