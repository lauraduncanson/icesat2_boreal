{
 "cells": [
  {
   "cell_type": "code",
   "execution_count": 1,
   "id": "3a6b7e25",
   "metadata": {},
   "outputs": [],
   "source": [
    "from maap.maap import MAAP\n",
    "maap = MAAP(maap_host='api.ops.maap-project.org')"
   ]
  },
  {
   "cell_type": "markdown",
   "id": "f67b2f79",
   "metadata": {},
   "source": [
    "# Launch DPS for 3.1.5_dps.py\n",
    "create a topo stack for each tile"
   ]
  },
  {
   "cell_type": "code",
   "execution_count": 2,
   "id": "5eedf117",
   "metadata": {},
   "outputs": [
    {
     "name": "stderr",
     "output_type": "stream",
     "text": [
      "/projects/.local/lib/python3.7/site-packages/geopandas/_compat.py:110: UserWarning: The Shapely GEOS version (3.8.0-CAPI-1.13.1 ) is incompatible with the GEOS version PyGEOS was compiled with (3.9.1-CAPI-1.14.2). Conversions between both will be slow.\n",
      "  shapely_geos_version, geos_capi_version_string\n"
     ]
    }
   ],
   "source": [
    "from os import path\n",
    "import os, glob\n",
    "import datetime\n",
    "import pandas as pd\n",
    "import geopandas as gpd"
   ]
  },
  {
   "cell_type": "markdown",
   "id": "ccc8fb5d",
   "metadata": {},
   "source": [
    "### Build the COMPLETED list of Topo tiles - s3fs implementation"
   ]
  },
  {
   "cell_type": "code",
   "execution_count": 9,
   "id": "c55a2eb0",
   "metadata": {},
   "outputs": [
    {
     "name": "stdout",
     "output_type": "stream",
     "text": [
      "CPU times: user 3.59 s, sys: 44.3 ms, total: 3.63 s\n",
      "Wall time: 5.95 s\n"
     ]
    },
    {
     "data": {
      "text/plain": [
       "3177"
      ]
     },
     "execution_count": 9,
     "metadata": {},
     "output_type": "execute_result"
    }
   ],
   "source": [
    "%%time\n",
    "import s3fs\n",
    "s3 = s3fs.S3FileSystem()\n",
    "bucket = \"s3://maap-ops-workspace\"\n",
    "MAAP_VERSION = \"ops\"\n",
    "searchkey_list = [f'nathanmthomas/dps_output/do_topo_stack_3-1-5_ubuntu/{MAAP_VERSION}/2021/09/{DAY}/**/*_stack.tif' for DAY in ['15','16']]\n",
    "# Concat list of lists to data frame\n",
    "topo_path_df = pd.concat([pd.DataFrame(s3.glob(os.path.join(bucket, searchkey)), columns=['maap_path']) for searchkey in searchkey_list])\n",
    "\n",
    "#Convert data frame to list\n",
    "COMPLETED_TILES_LIST = [i.replace(\"maap-ops-workspace\", \"https://maap-ops-workspace.s3.amazonaws.com\") for i in topo_path_df.maap_path.to_list()]\n",
    "len(COMPLETED_TILES_LIST)"
   ]
  },
  {
   "cell_type": "markdown",
   "id": "f12934f7",
   "metadata": {},
   "source": [
    "#### Get new tiles for version 2"
   ]
  },
  {
   "cell_type": "code",
   "execution_count": 17,
   "id": "5f3aa0f1",
   "metadata": {},
   "outputs": [
    {
     "name": "stdout",
     "output_type": "stream",
     "text": [
      "              count\n",
      "tile_version       \n",
      "version 1      4551\n",
      "version 2       639\n"
     ]
    },
    {
     "data": {
      "image/png": "[encoded data removed]",
      "text/plain": [
       "<Figure size 432x288 with 1 Axes>"
      ]
     },
     "metadata": {
      "needs_background": "light"
     },
     "output_type": "display_data"
    }
   ],
   "source": [
    "# Get all boreal tiles\n",
    "boreal_tile_index_path = '/projects/shared-buckets/nathanmthomas/boreal_tiles_v002.gpkg' #shared-buckets/nathanmthomas/boreal_grid_albers90k_gpkg.gpkg\n",
    "boreal_tile_index = gpd.read_file(boreal_tile_index_path)\n",
    "boreal_tile_index.astype({'layer':'int'})\n",
    "boreal_tile_index.rename(columns={\"layer\":\"tile_num\"}, inplace=True)\n",
    "boreal_tile_index[\"tile_num\"] = boreal_tile_index[\"tile_num\"].astype(int)\n",
    "\n",
    "bad_tiles = [3540,3634,3728,3823,3916,4004] #Dropping the tiles near antimeridian that reproject poorly.\n",
    "if True:\n",
    "    # Remove bad tiles\n",
    "    boreal_tile_index = boreal_tile_index[~boreal_tile_index['tile_num'].isin(bad_tiles)]\n",
    "\n",
    "boreal_tile_index.plot(column='tile_version')\n",
    "print(boreal_tile_index.groupby('tile_version')['tile_group'].agg(['count']))\n",
    "\n",
    "INPUT_TILE_NUM_LIST = boreal_tile_index[boreal_tile_index.tile_version == 'version 2'].tile_num.to_list()\n",
    "VER1_TILE_NUM_LIST = boreal_tile_index[boreal_tile_index.tile_version == 'version 1'].tile_num.to_list()"
   ]
  },
  {
   "cell_type": "code",
   "execution_count": 10,
   "id": "70747fda",
   "metadata": {},
   "outputs": [
    {
     "name": "stdout",
     "output_type": "stream",
     "text": [
      "639 4551 3177\n"
     ]
    }
   ],
   "source": [
    "print(\n",
    "    len(INPUT_TILE_NUM_LIST),\n",
    "    len(VER1_TILE_NUM_LIST),\n",
    "    len(COMPLETED_TILES_LIST)\n",
    ")"
   ]
  },
  {
   "cell_type": "code",
   "execution_count": 13,
   "id": "5ec79e6b",
   "metadata": {},
   "outputs": [
    {
     "name": "stdout",
     "output_type": "stream",
     "text": [
      "Running DPS on a SUBSET list of input\n",
      "[42558, 42559, 42560, 42745, 42746, 42935, 42936, 43326, 45716, 45970]\n"
     ]
    }
   ],
   "source": [
    "TEST_DPS  = True\n",
    "\n",
    "if TEST_DPS:\n",
    "    print('Running DPS on a SUBSET list of input')\n",
    "    DPS_INPUT_TILE_NUM_LIST = INPUT_TILE_NUM_LIST[-10:]\n",
    "    print(DPS_INPUT_TILE_NUM_LIST)\n",
    "else:\n",
    "    print('Running DPS on the FULL list of input')\n",
    "    DPS_INPUT_TILE_NUM_LIST = INPUT_TILE_NUM_LIST\n",
    "    "
   ]
  },
  {
   "cell_type": "markdown",
   "id": "b3fb304a",
   "metadata": {},
   "source": [
    "# Run a DPS of topo tiles"
   ]
  },
  {
   "cell_type": "code",
   "execution_count": 16,
   "id": "d5404f2e",
   "metadata": {},
   "outputs": [
    {
     "name": "stdout",
     "output_type": "stream",
     "text": [
      "DPS run #: 1 | tile num: 42558 | submit status: failed | job id: \n",
      "DPS run #: 10 | tile num: 45970 | submit status: failed | job id: \n"
     ]
    },
    {
     "data": {
      "text/html": [
       "<div>\n",
       "<style scoped>\n",
       "    .dataframe tbody tr th:only-of-type {\n",
       "        vertical-align: middle;\n",
       "    }\n",
       "\n",
       "    .dataframe tbody tr th {\n",
       "        vertical-align: top;\n",
       "    }\n",
       "\n",
       "    .dataframe thead th {\n",
       "        text-align: right;\n",
       "    }\n",
       "</style>\n",
       "<table border=\"1\" class=\"dataframe\">\n",
       "  <thead>\n",
       "    <tr style=\"text-align: right;\">\n",
       "      <th></th>\n",
       "      <th>status</th>\n",
       "      <th>http_status_code</th>\n",
       "      <th>job_id</th>\n",
       "      <th>dps_num</th>\n",
       "      <th>tile_num</th>\n",
       "      <th>submit_time</th>\n",
       "      <th>dbs_job_hour</th>\n",
       "      <th>algo_id</th>\n",
       "      <th>user</th>\n",
       "      <th>worker_type</th>\n",
       "    </tr>\n",
       "  </thead>\n",
       "  <tbody>\n",
       "    <tr>\n",
       "      <th>0</th>\n",
       "      <td>failed</td>\n",
       "      <td>500</td>\n",
       "      <td></td>\n",
       "      <td>1</td>\n",
       "      <td>42558</td>\n",
       "      <td>2022-03-09 19:17:58.380322</td>\n",
       "      <td>19</td>\n",
       "      <td>do_topo_stack_3-1-5_ubuntu</td>\n",
       "      <td>nathanmthomas</td>\n",
       "      <td>maap-dps-worker-8gb</td>\n",
       "    </tr>\n",
       "    <tr>\n",
       "      <th>0</th>\n",
       "      <td>failed</td>\n",
       "      <td>500</td>\n",
       "      <td></td>\n",
       "      <td>2</td>\n",
       "      <td>42559</td>\n",
       "      <td>2022-03-09 19:17:58.423774</td>\n",
       "      <td>19</td>\n",
       "      <td>do_topo_stack_3-1-5_ubuntu</td>\n",
       "      <td>nathanmthomas</td>\n",
       "      <td>maap-dps-worker-8gb</td>\n",
       "    </tr>\n",
       "    <tr>\n",
       "      <th>0</th>\n",
       "      <td>failed</td>\n",
       "      <td>500</td>\n",
       "      <td></td>\n",
       "      <td>3</td>\n",
       "      <td>42560</td>\n",
       "      <td>2022-03-09 19:17:58.484936</td>\n",
       "      <td>19</td>\n",
       "      <td>do_topo_stack_3-1-5_ubuntu</td>\n",
       "      <td>nathanmthomas</td>\n",
       "      <td>maap-dps-worker-8gb</td>\n",
       "    </tr>\n",
       "    <tr>\n",
       "      <th>0</th>\n",
       "      <td>failed</td>\n",
       "      <td>500</td>\n",
       "      <td></td>\n",
       "      <td>4</td>\n",
       "      <td>42745</td>\n",
       "      <td>2022-03-09 19:17:58.538037</td>\n",
       "      <td>19</td>\n",
       "      <td>do_topo_stack_3-1-5_ubuntu</td>\n",
       "      <td>nathanmthomas</td>\n",
       "      <td>maap-dps-worker-8gb</td>\n",
       "    </tr>\n",
       "    <tr>\n",
       "      <th>0</th>\n",
       "      <td>failed</td>\n",
       "      <td>500</td>\n",
       "      <td></td>\n",
       "      <td>5</td>\n",
       "      <td>42746</td>\n",
       "      <td>2022-03-09 19:17:58.590926</td>\n",
       "      <td>19</td>\n",
       "      <td>do_topo_stack_3-1-5_ubuntu</td>\n",
       "      <td>nathanmthomas</td>\n",
       "      <td>maap-dps-worker-8gb</td>\n",
       "    </tr>\n",
       "    <tr>\n",
       "      <th>0</th>\n",
       "      <td>failed</td>\n",
       "      <td>500</td>\n",
       "      <td></td>\n",
       "      <td>6</td>\n",
       "      <td>42935</td>\n",
       "      <td>2022-03-09 19:17:58.641662</td>\n",
       "      <td>19</td>\n",
       "      <td>do_topo_stack_3-1-5_ubuntu</td>\n",
       "      <td>nathanmthomas</td>\n",
       "      <td>maap-dps-worker-8gb</td>\n",
       "    </tr>\n",
       "    <tr>\n",
       "      <th>0</th>\n",
       "      <td>failed</td>\n",
       "      <td>500</td>\n",
       "      <td></td>\n",
       "      <td>7</td>\n",
       "      <td>42936</td>\n",
       "      <td>2022-03-09 19:17:58.682702</td>\n",
       "      <td>19</td>\n",
       "      <td>do_topo_stack_3-1-5_ubuntu</td>\n",
       "      <td>nathanmthomas</td>\n",
       "      <td>maap-dps-worker-8gb</td>\n",
       "    </tr>\n",
       "    <tr>\n",
       "      <th>0</th>\n",
       "      <td>failed</td>\n",
       "      <td>500</td>\n",
       "      <td></td>\n",
       "      <td>8</td>\n",
       "      <td>43326</td>\n",
       "      <td>2022-03-09 19:17:58.724856</td>\n",
       "      <td>19</td>\n",
       "      <td>do_topo_stack_3-1-5_ubuntu</td>\n",
       "      <td>nathanmthomas</td>\n",
       "      <td>maap-dps-worker-8gb</td>\n",
       "    </tr>\n",
       "    <tr>\n",
       "      <th>0</th>\n",
       "      <td>failed</td>\n",
       "      <td>500</td>\n",
       "      <td></td>\n",
       "      <td>9</td>\n",
       "      <td>45716</td>\n",
       "      <td>2022-03-09 19:17:58.764028</td>\n",
       "      <td>19</td>\n",
       "      <td>do_topo_stack_3-1-5_ubuntu</td>\n",
       "      <td>nathanmthomas</td>\n",
       "      <td>maap-dps-worker-8gb</td>\n",
       "    </tr>\n",
       "    <tr>\n",
       "      <th>0</th>\n",
       "      <td>failed</td>\n",
       "      <td>500</td>\n",
       "      <td></td>\n",
       "      <td>10</td>\n",
       "      <td>45970</td>\n",
       "      <td>2022-03-09 19:17:58.802822</td>\n",
       "      <td>19</td>\n",
       "      <td>do_topo_stack_3-1-5_ubuntu</td>\n",
       "      <td>nathanmthomas</td>\n",
       "      <td>maap-dps-worker-8gb</td>\n",
       "    </tr>\n",
       "  </tbody>\n",
       "</table>\n",
       "</div>"
      ],
      "text/plain": [
       "   status  http_status_code job_id  dps_num  tile_num  \\\n",
       "0  failed               500               1     42558   \n",
       "0  failed               500               2     42559   \n",
       "0  failed               500               3     42560   \n",
       "0  failed               500               4     42745   \n",
       "0  failed               500               5     42746   \n",
       "0  failed               500               6     42935   \n",
       "0  failed               500               7     42936   \n",
       "0  failed               500               8     43326   \n",
       "0  failed               500               9     45716   \n",
       "0  failed               500              10     45970   \n",
       "\n",
       "                 submit_time  dbs_job_hour                     algo_id  \\\n",
       "0 2022-03-09 19:17:58.380322            19  do_topo_stack_3-1-5_ubuntu   \n",
       "0 2022-03-09 19:17:58.423774            19  do_topo_stack_3-1-5_ubuntu   \n",
       "0 2022-03-09 19:17:58.484936            19  do_topo_stack_3-1-5_ubuntu   \n",
       "0 2022-03-09 19:17:58.538037            19  do_topo_stack_3-1-5_ubuntu   \n",
       "0 2022-03-09 19:17:58.590926            19  do_topo_stack_3-1-5_ubuntu   \n",
       "0 2022-03-09 19:17:58.641662            19  do_topo_stack_3-1-5_ubuntu   \n",
       "0 2022-03-09 19:17:58.682702            19  do_topo_stack_3-1-5_ubuntu   \n",
       "0 2022-03-09 19:17:58.724856            19  do_topo_stack_3-1-5_ubuntu   \n",
       "0 2022-03-09 19:17:58.764028            19  do_topo_stack_3-1-5_ubuntu   \n",
       "0 2022-03-09 19:17:58.802822            19  do_topo_stack_3-1-5_ubuntu   \n",
       "\n",
       "            user          worker_type  \n",
       "0  nathanmthomas  maap-dps-worker-8gb  \n",
       "0  nathanmthomas  maap-dps-worker-8gb  \n",
       "0  nathanmthomas  maap-dps-worker-8gb  \n",
       "0  nathanmthomas  maap-dps-worker-8gb  \n",
       "0  nathanmthomas  maap-dps-worker-8gb  \n",
       "0  nathanmthomas  maap-dps-worker-8gb  \n",
       "0  nathanmthomas  maap-dps-worker-8gb  \n",
       "0  nathanmthomas  maap-dps-worker-8gb  \n",
       "0  nathanmthomas  maap-dps-worker-8gb  \n",
       "0  nathanmthomas  maap-dps-worker-8gb  "
      ]
     },
     "execution_count": 16,
     "metadata": {},
     "output_type": "execute_result"
    }
   ],
   "source": [
    "submit_results_df_list = []\n",
    "len_input_list = len(DPS_INPUT_TILE_NUM_LIST)\n",
    "\n",
    "for i, INPUT_TILE_NUM in enumerate(DPS_INPUT_TILE_NUM_LIST):\n",
    "\n",
    "    DPS_num = i+1\n",
    "    IDENTIFIER = 'do_topo_stack_3-1-5'\n",
    "    ALGO_ID = f'{IDENTIFIER}_ubuntu'\n",
    "    USER = 'nathanmthomas'\n",
    "    WORKER_TYPE = 'maap-dps-worker-8gb'\n",
    "    \n",
    "    in_param_dict = {\n",
    "                         'in_tile_fn': 'https://maap-ops-workspace.s3.amazonaws.com/shared/nathanmthomas/boreal_tiles_v002.gpkg',\n",
    "                         'in_tile_num': INPUT_TILE_NUM,\n",
    "                         'tile_buffer_m': 120,\n",
    "                         'in_tile_layer': 'boreal_tiles_v002',\n",
    "                         'topo_tile_fn': 'https://maap-ops-workspace.s3.amazonaws.com/shared/nathanmthomas/dem30m_tiles.geojson',\n",
    "        }\n",
    "\n",
    "    submit_result = maap.submitJob(\n",
    "            identifier=IDENTIFIER,\n",
    "            algo_id=ALGO_ID,\n",
    "            version='master',\n",
    "            username=USER, # username needs to be the same as whoever created the workspace\n",
    "            queue=WORKER_TYPE,\n",
    "            **in_param_dict\n",
    "        )\n",
    "    \n",
    "    # Build a dataframe of submission details\n",
    "    submit_result['dps_num'] = DPS_num\n",
    "    submit_result['tile_num'] = INPUT_TILE_NUM\n",
    "    submit_result['submit_time'] = datetime.datetime.now()\n",
    "    submit_result['dbs_job_hour'] =datetime.datetime.now().hour\n",
    "    submit_result['algo_id'] = ALGO_ID\n",
    "    submit_result['user'] = USER\n",
    "    submit_result['worker_type'] = WORKER_TYPE\n",
    "    \n",
    "    # Append to a list of data frames of submission results\n",
    "    submit_results_df_list.append(pd.DataFrame([submit_result]))\n",
    "    \n",
    "    if DPS_num in [1, 100, 250, 500, 750, 1000, 1500, 2000, 2500, 3000, 3500, 4000, 4500, 5000, len_input_list]:\n",
    "        print(f\"DPS run #: {DPS_num} | tile num: {INPUT_TILE_NUM} | submit status: {submit_result['status']} | job id: {submit_result['job_id']}\") \n",
    "\n",
    "# Build a final submission results df and save\n",
    "submit_results_df = pd.concat(submit_results_df_list)\n",
    "nowtime = pd.Timestamp.now().strftime('%Y%m%d%H%M')\n",
    "submit_results_df.to_csv(f'/projects/my-public-bucket/DPS_topo_submission_results_{len_input_list}_{nowtime}.csv')\n",
    "submit_results_df"
   ]
  },
  {
   "cell_type": "markdown",
   "id": "10a6d1a1",
   "metadata": {},
   "source": [
    "After almost any DPS job, you have to assess what succeeded and failed. This involves:\n",
    "1. building a table of job status based on job ids captured in the _submit_results_df_ from the DPS run chunk (this takes 40 mins for ~47k jobs) --> this tells you how many jobs failed\n",
    "2. merging the job status table with the _submit_results_df_ --> this tells you which specific granules (or tile nums) failed\n",
    "3. building another input list of tiles for a follow-up DPS\n",
    "## Assess DPS results\n",
    "Build a table of job status based on job id - how many jobs failed?"
   ]
  },
  {
   "cell_type": "code",
   "execution_count": null,
   "id": "eef7d3cb",
   "metadata": {},
   "outputs": [],
   "source": [
    "%%time\n",
    "def BUILD_TABLE_JOBSTATUS(submit_results_df):\n",
    "    import xmltodict\n",
    "    df = pd.concat([pd.DataFrame(xmltodict.parse(maap.getJobStatus(job_id).content)).transpose() for job_id in submit_results_df.job_id.to_list()])\n",
    "    return df\n",
    "\n",
    "job_status_df = BUILD_TABLE_JOBSTATUS(submit_results_df)\n",
    "#print(job_status_df.head())\n",
    "\n",
    "num_jobs = submit_results_df.shape[0]\n",
    "z = submit_results_df.merge(job_status_df, how='left', left_on='job_id', right_on='wps:JobID')\n",
    "\n",
    "print(f'Count total jobs:\\t{num_jobs}')\n",
    "print(f\"Count pending jobs:\\t{z[z['wps:Status'] =='Accepted'].shape[0]}\")\n",
    "print(f\"Count running jobs:\\t{z[z['wps:Status'] =='Running'].shape[0]}\")\n",
    "print(f\"Count succeeded jobs:\\t{z[z['wps:Status'] =='Succeeded'].shape[0]}\")\n",
    "print(f\"Count failed jobs:\\t{z[z['wps:Status'] =='Failed'].shape[0]}\")\n",
    "print(f\"% of failed jobs:\\t{round(z[z['wps:Status'] =='Failed'].shape[0] / ( z[z['wps:Status'] =='Failed'].shape[0] + z[z['wps:Status'] =='Succeeded'].shape[0] ), 4) * 100}\")"
   ]
  }
 ],
 "metadata": {
  "kernelspec": {
   "display_name": "Python 3 (ipykernel)",
   "language": "python",
   "name": "python3"
  },
  "language_info": {
   "codemirror_mode": {
    "name": "ipython",
    "version": 3
   },
   "file_extension": ".py",
   "mimetype": "text/x-python",
   "name": "python",
   "nbconvert_exporter": "python",
   "pygments_lexer": "ipython3",
   "version": "3.7.8"
  }
 },
 "nbformat": 4,
 "nbformat_minor": 5
}
