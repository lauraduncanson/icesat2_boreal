{
 "cells": [
  {
   "cell_type": "code",
<<<<<<< HEAD
   "execution_count": 2,
   "id": "brief-recovery",
=======
   "execution_count": 1,
<<<<<<< HEAD
   "id": "3a19e7df",
=======
   "id": "3a6b7e25",
>>>>>>> 9342b3c0f31bdf34c528960539886a66983dfc5b
>>>>>>> 23150cd976c6dc4394dc98ad136340b7ce178d2d
   "metadata": {},
   "outputs": [],
   "source": [
    "from maap.maap import MAAP\n",
    "maap = MAAP(maap_host='api.ops.maap-project.org')"
   ]
  },
  {
   "cell_type": "markdown",
<<<<<<< HEAD
   "id": "c40fc8ed",
=======
<<<<<<< HEAD
   "id": "biological-looking",
=======
   "id": "f67b2f79",
>>>>>>> 9342b3c0f31bdf34c528960539886a66983dfc5b
>>>>>>> 23150cd976c6dc4394dc98ad136340b7ce178d2d
   "metadata": {},
   "source": [
    "# Launch DPS for 3.1.5_dps.py\n",
    "create a topo stack for each tile"
   ]
  },
  {
   "cell_type": "code",
<<<<<<< HEAD
   "execution_count": 20,
   "id": "837a105c",
=======
<<<<<<< HEAD
   "execution_count": 3,
   "id": "worst-blink",
=======
   "execution_count": 2,
   "id": "5eedf117",
>>>>>>> 9342b3c0f31bdf34c528960539886a66983dfc5b
>>>>>>> 23150cd976c6dc4394dc98ad136340b7ce178d2d
   "metadata": {},
   "outputs": [
    {
     "name": "stdout",
     "output_type": "stream",
     "text": [
      "Collecting xmltodict\n",
      "  Downloading xmltodict-0.12.0-py2.py3-none-any.whl (9.2 kB)\n",
      "Installing collected packages: xmltodict\n",
      "Successfully installed xmltodict-0.12.0\n",
      "\u001b[33mWARNING: Running pip as the 'root' user can result in broken permissions and conflicting behaviour with the system package manager. It is recommended to use a virtual environment instead: https://pip.pypa.io/warnings/venv\u001b[0m\u001b[33m\n",
      "\u001b[0m\u001b[33mWARNING: You are using pip version 22.0.3; however, version 22.0.4 is available.\n",
      "You should consider upgrading via the '/opt/conda/bin/python3.7 -m pip install --upgrade pip' command.\u001b[0m\u001b[33m\n",
      "\u001b[0m"
     ]
    }
   ],
   "source": [
    "from os import path\n",
    "import os, glob\n",
    "import datetime\n",
    "import pandas as pd\n",
    "import geopandas as gpd\n",
    "!pip install xmltodict"
   ]
  },
  {
   "cell_type": "markdown",
<<<<<<< HEAD
   "id": "945c39c1",
=======
<<<<<<< HEAD
   "id": "quality-heater",
=======
   "id": "ccc8fb5d",
>>>>>>> 9342b3c0f31bdf34c528960539886a66983dfc5b
>>>>>>> 23150cd976c6dc4394dc98ad136340b7ce178d2d
   "metadata": {},
   "source": [
    "### Build the COMPLETED list of Topo tiles - s3fs implementation"
   ]
  },
  {
   "cell_type": "code",
<<<<<<< HEAD
   "execution_count": 39,
   "id": "renewable-theology",
=======
   "execution_count": 9,
<<<<<<< HEAD
   "id": "dc74c846",
=======
   "id": "c55a2eb0",
>>>>>>> 9342b3c0f31bdf34c528960539886a66983dfc5b
>>>>>>> 23150cd976c6dc4394dc98ad136340b7ce178d2d
   "metadata": {},
   "outputs": [
    {
     "name": "stdout",
     "output_type": "stream",
     "text": [
      "CPU times: user 3.59 s, sys: 44.3 ms, total: 3.63 s\n",
      "Wall time: 5.95 s\n"
     ]
    },
    {
     "data": {
      "text/plain": [
       "3177"
      ]
     },
     "execution_count": 9,
     "metadata": {},
     "output_type": "execute_result"
    }
   ],
   "source": [
    "%%time\n",
    "import s3fs\n",
    "s3 = s3fs.S3FileSystem()\n",
    "bucket = \"s3://maap-ops-workspace\"\n",
    "MAAP_VERSION = \"ops\"\n",
    "searchkey_list = [f'nathanmthomas/dps_output/do_topo_stack_3-1-5_ubuntu/{MAAP_VERSION}/2021/09/{DAY}/**/*_stack.tif' for DAY in ['15','16']]\n",
    "# Concat list of lists to data frame\n",
    "topo_path_df = pd.concat([pd.DataFrame(s3.glob(os.path.join(bucket, searchkey)), columns=['maap_path']) for searchkey in searchkey_list])\n",
    "\n",
    "#Convert data frame to list\n",
    "COMPLETED_TILES_LIST = [i.replace(\"maap-ops-workspace\", \"https://maap-ops-workspace.s3.amazonaws.com\") for i in topo_path_df.maap_path.to_list()]\n",
    "len(COMPLETED_TILES_LIST)"
   ]
  },
  {
   "cell_type": "markdown",
<<<<<<< HEAD
   "id": "5f712d65",
=======
<<<<<<< HEAD
   "id": "shaped-ratio",
=======
   "id": "f12934f7",
>>>>>>> 9342b3c0f31bdf34c528960539886a66983dfc5b
>>>>>>> 23150cd976c6dc4394dc98ad136340b7ce178d2d
   "metadata": {},
   "source": [
    "#### Get new tiles for version 2"
   ]
  },
  {
   "cell_type": "code",
<<<<<<< HEAD
   "execution_count": 4,
   "id": "powerful-going",
=======
   "execution_count": 17,
<<<<<<< HEAD
   "id": "f191a23e",
=======
   "id": "5f3aa0f1",
>>>>>>> 9342b3c0f31bdf34c528960539886a66983dfc5b
>>>>>>> 23150cd976c6dc4394dc98ad136340b7ce178d2d
   "metadata": {},
   "outputs": [
    {
     "name": "stdout",
     "output_type": "stream",
     "text": [
      "              count\n",
      "tile_version       \n",
      "version 1      4551\n",
      "version 2       639\n"
     ]
    },
    {
     "data": {
      "image/png": "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\n",
      "text/plain": [
       "<Figure size 432x288 with 1 Axes>"
      ]
     },
     "metadata": {
      "needs_background": "light"
     },
     "output_type": "display_data"
    }
   ],
   "source": [
    "# Get all boreal tiles\n",
    "boreal_tile_index_path = '/projects/shared-buckets/nathanmthomas/boreal_tiles_v002.gpkg' #shared-buckets/nathanmthomas/boreal_grid_albers90k_gpkg.gpkg\n",
    "boreal_tile_index = gpd.read_file(boreal_tile_index_path)\n",
    "boreal_tile_index.astype({'layer':'int'})\n",
    "boreal_tile_index.rename(columns={\"layer\":\"tile_num\"}, inplace=True)\n",
    "boreal_tile_index[\"tile_num\"] = boreal_tile_index[\"tile_num\"].astype(int)\n",
    "\n",
    "bad_tiles = [3540,3634,3728,3823,3916,4004] #Dropping the tiles near antimeridian that reproject poorly.\n",
    "if True:\n",
    "    # Remove bad tiles\n",
    "    boreal_tile_index = boreal_tile_index[~boreal_tile_index['tile_num'].isin(bad_tiles)]\n",
    "\n",
    "boreal_tile_index.plot(column='tile_version')\n",
    "print(boreal_tile_index.groupby('tile_version')['tile_group'].agg(['count']))\n",
    "\n",
    "INPUT_TILE_NUM_LIST = boreal_tile_index[boreal_tile_index.tile_version == 'version 2'].tile_num.to_list()\n",
    "VER1_TILE_NUM_LIST = boreal_tile_index[boreal_tile_index.tile_version == 'version 1'].tile_num.to_list()"
   ]
  },
  {
   "cell_type": "code",
<<<<<<< HEAD
   "execution_count": 6,
   "id": "confirmed-minutes",
=======
   "execution_count": 10,
<<<<<<< HEAD
   "id": "c7b01e95",
=======
   "id": "70747fda",
>>>>>>> 9342b3c0f31bdf34c528960539886a66983dfc5b
>>>>>>> 23150cd976c6dc4394dc98ad136340b7ce178d2d
   "metadata": {},
   "outputs": [
    {
     "name": "stdout",
     "output_type": "stream",
     "text": [
      "639 4551 3177\n"
     ]
    }
   ],
   "source": [
    "print(\n",
    "    len(INPUT_TILE_NUM_LIST),\n",
    "    len(VER1_TILE_NUM_LIST),\n",
    "    len(COMPLETED_TILES_LIST)\n",
    ")"
   ]
  },
  {
   "cell_type": "code",
<<<<<<< HEAD
   "execution_count": 8,
   "id": "vulnerable-glass",
=======
   "execution_count": 13,
<<<<<<< HEAD
   "id": "41eef77c",
=======
   "id": "5ec79e6b",
>>>>>>> 9342b3c0f31bdf34c528960539886a66983dfc5b
>>>>>>> 23150cd976c6dc4394dc98ad136340b7ce178d2d
   "metadata": {},
   "outputs": [
    {
     "name": "stdout",
     "output_type": "stream",
     "text": [
      "Running DPS on a SUBSET list of input\n",
      "[42558, 42559, 42560, 42745, 42746, 42935, 42936, 43326, 45716, 45970]\n"
     ]
    }
   ],
   "source": [
    "TEST_DPS  = True\n",
    "\n",
    "if TEST_DPS:\n",
    "    print('Running DPS on a SUBSET list of input')\n",
    "    DPS_INPUT_TILE_NUM_LIST = INPUT_TILE_NUM_LIST[-10:]\n",
    "    print(DPS_INPUT_TILE_NUM_LIST)\n",
    "else:\n",
    "    print('Running DPS on the FULL list of input')\n",
    "    DPS_INPUT_TILE_NUM_LIST = INPUT_TILE_NUM_LIST\n",
    "    "
   ]
  },
  {
   "cell_type": "markdown",
<<<<<<< HEAD
   "id": "868497b1",
=======
<<<<<<< HEAD
   "id": "efficient-coral",
=======
   "id": "b3fb304a",
>>>>>>> 9342b3c0f31bdf34c528960539886a66983dfc5b
>>>>>>> 23150cd976c6dc4394dc98ad136340b7ce178d2d
   "metadata": {},
   "source": [
    "# Run a DPS of topo tiles"
   ]
  },
  {
   "cell_type": "code",
<<<<<<< HEAD
   "execution_count": 32,
   "id": "9c4c4850",
=======
<<<<<<< HEAD
   "execution_count": 12,
   "id": "exposed-harvest",
=======
   "execution_count": 16,
   "id": "d5404f2e",
>>>>>>> 9342b3c0f31bdf34c528960539886a66983dfc5b
>>>>>>> 23150cd976c6dc4394dc98ad136340b7ce178d2d
   "metadata": {},
   "outputs": [
    {
     "name": "stdout",
     "output_type": "stream",
     "text": [
      "DPS run #: 1\t| tile num: 42558\t| submit status: success\t| job id: a2d4b421-16d1-47f4-83d4-44308f39483c\n",
      "DPS run #: 10\t| tile num: 45970\t| submit status: success\t| job id: 218372b4-d292-4211-94d9-dafc3299915d\n"
     ]
    },
    {
     "data": {
      "text/html": [
       "<div>\n",
       "<style scoped>\n",
       "    .dataframe tbody tr th:only-of-type {\n",
       "        vertical-align: middle;\n",
       "    }\n",
       "\n",
       "    .dataframe tbody tr th {\n",
       "        vertical-align: top;\n",
       "    }\n",
       "\n",
       "    .dataframe thead th {\n",
       "        text-align: right;\n",
       "    }\n",
       "</style>\n",
       "<table border=\"1\" class=\"dataframe\">\n",
       "  <thead>\n",
       "    <tr style=\"text-align: right;\">\n",
       "      <th></th>\n",
       "      <th>status</th>\n",
       "      <th>http_status_code</th>\n",
       "      <th>job_id</th>\n",
       "      <th>dps_num</th>\n",
       "      <th>tile_num</th>\n",
       "      <th>submit_time</th>\n",
       "      <th>dbs_job_hour</th>\n",
       "      <th>algo_id</th>\n",
       "      <th>user</th>\n",
       "      <th>worker_type</th>\n",
       "    </tr>\n",
       "  </thead>\n",
       "  <tbody>\n",
       "    <tr>\n",
       "      <th>0</th>\n",
       "      <td>success</td>\n",
       "      <td>200</td>\n",
       "      <td>a2d4b421-16d1-47f4-83d4-44308f39483c</td>\n",
       "      <td>1</td>\n",
       "      <td>42558</td>\n",
       "      <td>2022-03-09 19:54:32.747185</td>\n",
       "      <td>19</td>\n",
       "      <td>do_topo_stack_3-1-5_ubuntu</td>\n",
       "      <td>nathanmthomas</td>\n",
       "      <td>maap-dps-worker-8gb</td>\n",
       "    </tr>\n",
       "    <tr>\n",
       "      <th>0</th>\n",
       "      <td>success</td>\n",
       "      <td>200</td>\n",
       "      <td>e3c5c0f6-85bb-424d-af52-dfc6ef88bd9f</td>\n",
       "      <td>2</td>\n",
       "      <td>42559</td>\n",
       "      <td>2022-03-09 19:54:33.063920</td>\n",
       "      <td>19</td>\n",
       "      <td>do_topo_stack_3-1-5_ubuntu</td>\n",
       "      <td>nathanmthomas</td>\n",
       "      <td>maap-dps-worker-8gb</td>\n",
       "    </tr>\n",
       "    <tr>\n",
       "      <th>0</th>\n",
       "      <td>success</td>\n",
       "      <td>200</td>\n",
       "      <td>e39d36d0-7fdc-473f-8755-c5831acb64d1</td>\n",
       "      <td>3</td>\n",
       "      <td>42560</td>\n",
       "      <td>2022-03-09 19:54:33.307603</td>\n",
       "      <td>19</td>\n",
       "      <td>do_topo_stack_3-1-5_ubuntu</td>\n",
       "      <td>nathanmthomas</td>\n",
       "      <td>maap-dps-worker-8gb</td>\n",
       "    </tr>\n",
       "    <tr>\n",
       "      <th>0</th>\n",
       "      <td>success</td>\n",
       "      <td>200</td>\n",
       "      <td>d8957987-e5fc-4d3d-b5ec-f57da8465005</td>\n",
       "      <td>4</td>\n",
       "      <td>42745</td>\n",
       "      <td>2022-03-09 19:54:33.773159</td>\n",
       "      <td>19</td>\n",
       "      <td>do_topo_stack_3-1-5_ubuntu</td>\n",
       "      <td>nathanmthomas</td>\n",
       "      <td>maap-dps-worker-8gb</td>\n",
       "    </tr>\n",
       "    <tr>\n",
       "      <th>0</th>\n",
       "      <td>success</td>\n",
       "      <td>200</td>\n",
       "      <td>e7568b4f-6dfc-4ad0-87e1-578b5a6a98ee</td>\n",
       "      <td>5</td>\n",
       "      <td>42746</td>\n",
       "      <td>2022-03-09 19:54:34.071458</td>\n",
       "      <td>19</td>\n",
       "      <td>do_topo_stack_3-1-5_ubuntu</td>\n",
       "      <td>nathanmthomas</td>\n",
       "      <td>maap-dps-worker-8gb</td>\n",
       "    </tr>\n",
       "    <tr>\n",
       "      <th>0</th>\n",
       "      <td>success</td>\n",
       "      <td>200</td>\n",
       "      <td>25830e37-6805-4069-a222-f83bfe71a66a</td>\n",
       "      <td>6</td>\n",
       "      <td>42935</td>\n",
       "      <td>2022-03-09 19:54:34.325900</td>\n",
       "      <td>19</td>\n",
       "      <td>do_topo_stack_3-1-5_ubuntu</td>\n",
       "      <td>nathanmthomas</td>\n",
       "      <td>maap-dps-worker-8gb</td>\n",
       "    </tr>\n",
       "    <tr>\n",
       "      <th>0</th>\n",
       "      <td>success</td>\n",
       "      <td>200</td>\n",
       "      <td>b125f59f-7e60-4b15-b49f-030a384a7201</td>\n",
       "      <td>7</td>\n",
       "      <td>42936</td>\n",
       "      <td>2022-03-09 19:54:34.506648</td>\n",
       "      <td>19</td>\n",
       "      <td>do_topo_stack_3-1-5_ubuntu</td>\n",
       "      <td>nathanmthomas</td>\n",
       "      <td>maap-dps-worker-8gb</td>\n",
       "    </tr>\n",
       "    <tr>\n",
       "      <th>0</th>\n",
       "      <td>success</td>\n",
       "      <td>200</td>\n",
       "      <td>a0e08852-4f68-4356-8651-69f5c6f75b37</td>\n",
       "      <td>8</td>\n",
       "      <td>43326</td>\n",
       "      <td>2022-03-09 19:54:34.765576</td>\n",
       "      <td>19</td>\n",
       "      <td>do_topo_stack_3-1-5_ubuntu</td>\n",
       "      <td>nathanmthomas</td>\n",
       "      <td>maap-dps-worker-8gb</td>\n",
       "    </tr>\n",
       "    <tr>\n",
       "      <th>0</th>\n",
       "      <td>success</td>\n",
       "      <td>200</td>\n",
       "      <td>170afe96-6659-4b5d-af61-335cec94e495</td>\n",
       "      <td>9</td>\n",
       "      <td>45716</td>\n",
       "      <td>2022-03-09 19:54:34.954206</td>\n",
       "      <td>19</td>\n",
       "      <td>do_topo_stack_3-1-5_ubuntu</td>\n",
       "      <td>nathanmthomas</td>\n",
       "      <td>maap-dps-worker-8gb</td>\n",
       "    </tr>\n",
       "    <tr>\n",
       "      <th>0</th>\n",
       "      <td>success</td>\n",
       "      <td>200</td>\n",
       "      <td>218372b4-d292-4211-94d9-dafc3299915d</td>\n",
       "      <td>10</td>\n",
       "      <td>45970</td>\n",
       "      <td>2022-03-09 19:54:35.150457</td>\n",
       "      <td>19</td>\n",
       "      <td>do_topo_stack_3-1-5_ubuntu</td>\n",
       "      <td>nathanmthomas</td>\n",
       "      <td>maap-dps-worker-8gb</td>\n",
       "    </tr>\n",
       "  </tbody>\n",
       "</table>\n",
       "</div>"
      ],
      "text/plain": [
       "    status  http_status_code                                job_id  dps_num  \\\n",
       "0  success               200  a2d4b421-16d1-47f4-83d4-44308f39483c        1   \n",
       "0  success               200  e3c5c0f6-85bb-424d-af52-dfc6ef88bd9f        2   \n",
       "0  success               200  e39d36d0-7fdc-473f-8755-c5831acb64d1        3   \n",
       "0  success               200  d8957987-e5fc-4d3d-b5ec-f57da8465005        4   \n",
       "0  success               200  e7568b4f-6dfc-4ad0-87e1-578b5a6a98ee        5   \n",
       "0  success               200  25830e37-6805-4069-a222-f83bfe71a66a        6   \n",
       "0  success               200  b125f59f-7e60-4b15-b49f-030a384a7201        7   \n",
       "0  success               200  a0e08852-4f68-4356-8651-69f5c6f75b37        8   \n",
       "0  success               200  170afe96-6659-4b5d-af61-335cec94e495        9   \n",
       "0  success               200  218372b4-d292-4211-94d9-dafc3299915d       10   \n",
       "\n",
       "   tile_num                submit_time  dbs_job_hour  \\\n",
       "0     42558 2022-03-09 19:54:32.747185            19   \n",
       "0     42559 2022-03-09 19:54:33.063920            19   \n",
       "0     42560 2022-03-09 19:54:33.307603            19   \n",
       "0     42745 2022-03-09 19:54:33.773159            19   \n",
       "0     42746 2022-03-09 19:54:34.071458            19   \n",
       "0     42935 2022-03-09 19:54:34.325900            19   \n",
       "0     42936 2022-03-09 19:54:34.506648            19   \n",
       "0     43326 2022-03-09 19:54:34.765576            19   \n",
       "0     45716 2022-03-09 19:54:34.954206            19   \n",
       "0     45970 2022-03-09 19:54:35.150457            19   \n",
       "\n",
       "                      algo_id           user          worker_type  \n",
       "0  do_topo_stack_3-1-5_ubuntu  nathanmthomas  maap-dps-worker-8gb  \n",
       "0  do_topo_stack_3-1-5_ubuntu  nathanmthomas  maap-dps-worker-8gb  \n",
       "0  do_topo_stack_3-1-5_ubuntu  nathanmthomas  maap-dps-worker-8gb  \n",
       "0  do_topo_stack_3-1-5_ubuntu  nathanmthomas  maap-dps-worker-8gb  \n",
       "0  do_topo_stack_3-1-5_ubuntu  nathanmthomas  maap-dps-worker-8gb  \n",
       "0  do_topo_stack_3-1-5_ubuntu  nathanmthomas  maap-dps-worker-8gb  \n",
       "0  do_topo_stack_3-1-5_ubuntu  nathanmthomas  maap-dps-worker-8gb  \n",
       "0  do_topo_stack_3-1-5_ubuntu  nathanmthomas  maap-dps-worker-8gb  \n",
       "0  do_topo_stack_3-1-5_ubuntu  nathanmthomas  maap-dps-worker-8gb  \n",
       "0  do_topo_stack_3-1-5_ubuntu  nathanmthomas  maap-dps-worker-8gb  "
      ]
     },
     "execution_count": 32,
     "metadata": {},
     "output_type": "execute_result"
    }
   ],
   "source": [
    "submit_results_df_list = []\n",
    "len_input_list = len(DPS_INPUT_TILE_NUM_LIST)\n",
    "\n",
    "for i, INPUT_TILE_NUM in enumerate(DPS_INPUT_TILE_NUM_LIST):\n",
    "\n",
    "    DPS_num = i+1\n",
    "    IDENTIFIER = 'do_topo_stack_3-1-5'\n",
    "    ALGO_ID = f'{IDENTIFIER}_ubuntu'\n",
    "    USER = 'nathanmthomas'\n",
    "    WORKER_TYPE = 'maap-dps-worker-8gb'\n",
    "    \n",
    "    in_param_dict = {\n",
    "                         'in_tile_fn': 'https://maap-ops-workspace.s3.amazonaws.com/shared/nathanmthomas/boreal_tiles_v002.gpkg',\n",
    "                         'in_tile_num': INPUT_TILE_NUM,\n",
    "                         'tile_buffer_m': 120,\n",
    "                         'in_tile_layer': 'boreal_tiles_v002',\n",
    "                         'topo_tile_fn': 'https://maap-ops-workspace.s3.amazonaws.com/shared/nathanmthomas/dem30m_tiles.geojson',\n",
    "        }\n",
    "\n",
    "    submit_result = maap.submitJob(\n",
    "            identifier=IDENTIFIER,\n",
    "            algo_id=ALGO_ID,\n",
    "            version='ops',\n",
    "            username=USER, # username needs to be the same as whoever created the workspace\n",
    "            queue=WORKER_TYPE,\n",
    "            **in_param_dict\n",
    "        )\n",
    "    \n",
    "    # Build a dataframe of submission details\n",
    "    submit_result['dps_num'] = DPS_num\n",
    "    submit_result['tile_num'] = INPUT_TILE_NUM\n",
    "    submit_result['submit_time'] = datetime.datetime.now()\n",
    "    submit_result['dbs_job_hour'] =datetime.datetime.now().hour\n",
    "    submit_result['algo_id'] = ALGO_ID\n",
    "    submit_result['user'] = USER\n",
    "    submit_result['worker_type'] = WORKER_TYPE\n",
    "    \n",
    "    # Append to a list of data frames of submission results\n",
    "    submit_results_df_list.append(pd.DataFrame([submit_result]))\n",
    "    \n",
    "    if DPS_num in [1, 100, 250, 500, 750, 1000, 1500, 2000, 2500, 3000, 3500, 4000, 4500, 5000, len_input_list]:\n",
<<<<<<< HEAD
    "        print(f\"DPS run #: {DPS_num}\\t| tile num: {INPUT_TILE_NUM}\\t| submit status: {submit_result['status']}\\t| job id: {submit_result['job_id']}\") \n",
=======
<<<<<<< HEAD
    "        print(f\"DPS run #: {DPS_num} | granule name: {os.path.basename(INPUT_TILE_NUM)} | submit status: {submit_result['status']} | job id: {submit_result['job_id']}\") \n",
=======
    "        print(f\"DPS run #: {DPS_num} | tile num: {INPUT_TILE_NUM} | submit status: {submit_result['status']} | job id: {submit_result['job_id']}\") \n",
>>>>>>> 9342b3c0f31bdf34c528960539886a66983dfc5b
>>>>>>> 23150cd976c6dc4394dc98ad136340b7ce178d2d
    "\n",
    "# Build a final submission results df and save\n",
    "submit_results_df = pd.concat(submit_results_df_list)\n",
    "nowtime = pd.Timestamp.now().strftime('%Y%m%d%H%M')\n",
    "submit_results_df.to_csv(f'/projects/my-public-bucket/DPS_topo_submission_results_{len_input_list}_{nowtime}.csv')\n",
    "submit_results_df"
   ]
  },
  {
   "cell_type": "markdown",
<<<<<<< HEAD
   "id": "92cc8b89",
=======
<<<<<<< HEAD
   "id": "fundamental-senior",
=======
   "id": "10a6d1a1",
>>>>>>> 9342b3c0f31bdf34c528960539886a66983dfc5b
>>>>>>> 23150cd976c6dc4394dc98ad136340b7ce178d2d
   "metadata": {},
   "source": [
    "After almost any DPS job, you have to assess what succeeded and failed. This involves:\n",
    "1. building a table of job status based on job ids captured in the _submit_results_df_ from the DPS run chunk (this takes 40 mins for ~47k jobs) --> this tells you how many jobs failed\n",
    "2. merging the job status table with the _submit_results_df_ --> this tells you which specific granules (or tile nums) failed\n",
    "3. building another input list of tiles for a follow-up DPS\n",
    "## Assess DPS results\n",
    "Build a table of job status based on job id - how many jobs failed?"
   ]
  },
  {
   "cell_type": "code",
<<<<<<< HEAD
   "execution_count": 35,
   "id": "278a9cf4",
   "metadata": {},
   "outputs": [
    {
     "name": "stdout",
     "output_type": "stream",
     "text": [
      "Count total jobs:\t10\n",
      "Count pending jobs:\t10\n",
      "Count running jobs:\t0\n",
      "Count succeeded jobs:\t0\n",
      "Count failed jobs:\t0\n"
     ]
    },
    {
     "ename": "ZeroDivisionError",
     "evalue": "division by zero",
     "output_type": "error",
     "traceback": [
      "\u001b[0;31m---------------------------------------------------------------------------\u001b[0m",
      "\u001b[0;31mZeroDivisionError\u001b[0m                         Traceback (most recent call last)",
      "\u001b[0;32m<timed exec>\u001b[0m in \u001b[0;36m<module>\u001b[0;34m\u001b[0m\n",
      "\u001b[0;31mZeroDivisionError\u001b[0m: division by zero"
     ]
    }
   ],
=======
<<<<<<< HEAD
   "execution_count": 103,
   "id": "selected-drink",
   "metadata": {},
   "outputs": [
    {
     "name": "stdout",
     "output_type": "stream",
     "text": [
      "Count total jobs:\t100\n",
      "Count pending jobs:\t0\n",
      "Count running jobs:\t0\n",
      "Count succeeded jobs:\t99\n",
      "Count failed jobs:\t1\n",
      "% of failed jobs:\t1.0\n",
      "CPU times: user 1.05 s, sys: 73.5 ms, total: 1.12 s\n",
      "Wall time: 2.81 s\n"
     ]
    }
   ],
=======
   "execution_count": null,
   "id": "eef7d3cb",
   "metadata": {},
   "outputs": [],
>>>>>>> 9342b3c0f31bdf34c528960539886a66983dfc5b
>>>>>>> 23150cd976c6dc4394dc98ad136340b7ce178d2d
   "source": [
    "%%time\n",
    "def BUILD_TABLE_JOBSTATUS(submit_results_df):\n",
    "    import xmltodict\n",
    "    df = pd.concat([pd.DataFrame(xmltodict.parse(maap.getJobStatus(job_id).content)).transpose() for job_id in submit_results_df.job_id.to_list()])\n",
    "    return df\n",
    "\n",
    "job_status_df = BUILD_TABLE_JOBSTATUS(submit_results_df)\n",
    "#print(job_status_df.head())\n",
    "\n",
    "num_jobs = submit_results_df.shape[0]\n",
    "z = submit_results_df.merge(job_status_df, how='left', left_on='job_id', right_on='wps:JobID')\n",
    "\n",
    "print(f'Count total jobs:\\t{num_jobs}')\n",
    "print(f\"Count pending jobs:\\t{z[z['wps:Status'] =='Accepted'].shape[0]}\")\n",
    "print(f\"Count running jobs:\\t{z[z['wps:Status'] =='Running'].shape[0]}\")\n",
    "print(f\"Count succeeded jobs:\\t{z[z['wps:Status'] =='Succeeded'].shape[0]}\")\n",
    "print(f\"Count failed jobs:\\t{z[z['wps:Status'] =='Failed'].shape[0]}\")\n",
    "print(f\"% of failed jobs:\\t{round(z[z['wps:Status'] =='Failed'].shape[0] / ( z[z['wps:Status'] =='Failed'].shape[0] + z[z['wps:Status'] =='Succeeded'].shape[0] ), 4) * 100}\")"
   ]
  },
  {
   "cell_type": "code",
   "execution_count": 30,
   "id": "6d8e1709",
   "metadata": {},
   "outputs": [
    {
     "data": {
      "text/plain": [
       "OrderedDict([('wps:Result',\n",
       "              OrderedDict([('@xmlns:ows', 'http://www.opengis.net/ows/2.0'),\n",
       "                           ('@xmlns:schemaLocation',\n",
       "                            'http://schemas.opengis.net/wps/2.0/wps.xsd'),\n",
       "                           ('@xmlns:wps', 'http://www.opengis.net/wps/2.0'),\n",
       "                           ('@xmlns:xsi',\n",
       "                            'http://www.w3.org/2001/XMLSchema-instance'),\n",
       "                           ('wps:JobID',\n",
       "                            'a9817a37-3c69-453b-92fd-d0f32788ce77'),\n",
       "                           ('wps:Output',\n",
       "                            OrderedDict([('@id', 'traceback'),\n",
       "                                         ('wps:Data',\n",
       "                                          'activate does not accept more than one argument:\\n[\\'/app/icesat2_boreal/dps/alg_3-1-5/run.sh\\', \\'42745\\', \\'120\\', \\'boreal_tiles_v002\\']\\n\\n+ /app/icesat2_boreal/dps/alg_3-1-5/run.sh 42745 120 boreal_tiles_v002\\nERROR: Exception:\\nTraceback (most recent call last):\\n  File \"/opt/conda/lib/python3.7/site-packages/pip/_vendor/urllib3/response.py\", line 437, in _error_catcher\\n    yield\\n  File \"/opt/conda/lib/python3.7/site-packages/pip/_vendor/urllib3/response.py\", line 519, in read\\n    data = self._fp.read(amt) if not fp_closed else b\"\"\\n  File \"/opt/conda/lib/python3.7/site-packages/pip/_vendor/cachecontrol/filewrapper.py\", line 62, in read\\n    data = self.__fp.read(amt)\\n  File \"/opt/conda/lib/python3.7/http/client.py\", line 457, in read\\n    n = self.readinto(b)\\n  File \"/opt/conda/lib/python3.7/http/client.py\", line 501, in readinto\\n    n = self.fp.readinto(b)\\n  File \"/opt/conda/lib/python3.7/socket.py\", line 589, in readinto\\n    return self._sock.recv_into(b)\\n  File \"/opt/conda/lib/python3.7/ssl.py\", line 1071, in recv_into\\n    return self.read(nbytes, buffer)\\n  File \"/opt/conda/lib/python3.7/ssl.py\", line 929, in read\\n    return self._sslobj.read(len, buffer)\\nsocket.timeout: The read operation timed out\\n\\nDuring handling of the above exception, another exception occurred:\\n\\nTraceback (most recent call last):\\n  File \"/opt/conda/lib/python3.7/site-packages/pip/_internal/cli/base_command.py\", line 228, in _main\\n    status = self.run(options, args)\\n  File \"/opt/conda/lib/python3.7/site-packages/pip/_internal/cli/req_command.py\", line 182, in wrapper\\n    return func(self, options, args)\\n  File \"/opt/conda/lib/python3.7/site-packages/pip/_internal/commands/install.py\", line 324, in run\\n    reqs, check_supported_wheels=not options.target_dir\\n  File \"/opt/conda/lib/python3.7/site-packages/pip/_internal/resolution/legacy/resolver.py\", line 183, in resolve\\n    discovered_reqs.extend(self._resolve_one(requirement_set, req))\\n  File \"/opt/conda/lib/python3.7/site-packages/pip/_internal/resolution/legacy/resolver.py\", line 388, in _resolve_one\\n    abstract_dist = self._get_abstract_dist_for(req_to_install)\\n  File \"/opt/conda/lib/python3.7/site-packages/pip/_internal/resolution/legacy/resolver.py\", line 340, in _get_abstract_dist_for\\n    abstract_dist = self.preparer.prepare_linked_requirement(req)\\n  File \"/opt/conda/lib/python3.7/site-packages/pip/_internal/operations/prepare.py\", line 469, in prepare_linked_requirement\\n    hashes=self._get_linked_req_hashes(req)\\n  File \"/opt/conda/lib/python3.7/site-packages/pip/_internal/operations/prepare.py\", line 259, in unpack_url\\n    hashes=hashes,\\n  File \"/opt/conda/lib/python3.7/site-packages/pip/_internal/operations/prepare.py\", line 130, in get_http_url\\n    link, downloader, temp_dir.path, hashes\\n  File \"/opt/conda/lib/python3.7/site-packages/pip/_internal/operations/prepare.py\", line 282, in _download_http_url\\n    for chunk in download.chunks:\\n  File \"/opt/conda/lib/python3.7/site-packages/pip/_internal/cli/progress_bars.py\", line 168, in iter\\n    for x in it:\\n  File \"/opt/conda/lib/python3.7/site-packages/pip/_internal/network/utils.py\", line 88, in response_chunks\\n    decode_content=False,\\n  File \"/opt/conda/lib/python3.7/site-packages/pip/_vendor/urllib3/response.py\", line 576, in stream\\n    data = self.read(amt=amt, decode_content=decode_content)\\n  File \"/opt/conda/lib/python3.7/site-packages/pip/_vendor/urllib3/response.py\", line 541, in read\\n    raise IncompleteRead(self._fp_bytes_read, self.length_remaining)\\n  File \"/opt/conda/lib/python3.7/contextlib.py\", line 130, in __exit__\\n    self.gen.throw(type, value, traceback)\\n  File \"/opt/conda/lib/python3.7/site-packages/pip/_vendor/urllib3/response.py\", line 442, in _error_catcher\\n    raise ReadTimeoutError(self._pool, None, \"Read timed out.\")\\npip._vendor.urllib3.exceptions.ReadTimeoutError: HTTPSConnectionPool(host=\\'files.pythonhosted.org\\', port=443): Read timed out.\\nTraceback (most recent call last):\\n  File \"/app/icesat2_boreal/dps/alg_3-1-5/../../notebooks/3.Gridded_product_development/3.1.5_dps.py\", line 9, in <module>\\n    import geopandas as gpd\\nModuleNotFoundError: No module named \\'geopandas\\'\\n+ cp _stderr.txt _alt_traceback.txt')]))]))])"
      ]
     },
     "execution_count": 30,
     "metadata": {},
     "output_type": "execute_result"
    }
   ],
   "source": [
    "import xmltodict\n",
    "xmltodict.parse(maap.getJobResult(z[z['wps:Status'] =='Failed'].iloc[0].job_id).content)"
   ]
  }
 ],
 "metadata": {
  "kernelspec": {
   "display_name": "Python 3 (ipykernel)",
   "language": "python",
   "name": "python3"
  },
  "language_info": {
   "codemirror_mode": {
    "name": "ipython",
    "version": 3
   },
   "file_extension": ".py",
   "mimetype": "text/x-python",
   "name": "python",
   "nbconvert_exporter": "python",
   "pygments_lexer": "ipython3",
   "version": "3.7.8"
  }
 },
 "nbformat": 4,
 "nbformat_minor": 5
}
