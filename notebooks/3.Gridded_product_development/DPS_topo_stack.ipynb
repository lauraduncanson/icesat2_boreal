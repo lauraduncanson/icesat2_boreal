{
 "cells": [
  {
   "cell_type": "code",
<<<<<<< HEAD
   "execution_count": 17,
   "id": "scenic-three",
=======
   "execution_count": 1,
   "id": "52c05e6d",
>>>>>>> a383e6009b304c6829f2dcca2e514359959a210d
   "metadata": {},
   "outputs": [],
   "source": [
    "from maap.maap import MAAP\n",
    "maap = MAAP(maap_host='api.ops.maap-project.org')"
   ]
  },
  {
   "cell_type": "markdown",
<<<<<<< HEAD
   "id": "extensive-performer",
=======
   "id": "5fee4fa9",
>>>>>>> a383e6009b304c6829f2dcca2e514359959a210d
   "metadata": {},
   "source": [
    "# Launch DPS for 3.1.5_dps.py\n"
   ]
  },
  {
   "cell_type": "code",
<<<<<<< HEAD
   "execution_count": 18,
   "id": "essential-language",
=======
   "execution_count": 2,
   "id": "17e5678b",
>>>>>>> a383e6009b304c6829f2dcca2e514359959a210d
   "metadata": {},
   "outputs": [
    {
     "name": "stdout",
     "output_type": "stream",
     "text": [
      "Requirement already satisfied: xmltodict in /opt/conda/lib/python3.7/site-packages (0.12.0)\n",
      "\u001b[33mWARNING: Running pip as the 'root' user can result in broken permissions and conflicting behaviour with the system package manager. It is recommended to use a virtual environment instead: https://pip.pypa.io/warnings/venv\u001b[0m\u001b[33m\n",
      "\u001b[0m"
     ]
    }
   ],
   "source": [
    "from os import path\n",
    "import os, glob\n",
    "import datetime\n",
    "import pandas as pd\n",
    "import geopandas as gpd\n",
    "!pip install xmltodict\n",
    "import xmltodict"
   ]
  },
  {
   "cell_type": "markdown",
<<<<<<< HEAD
   "id": "capable-astronomy",
=======
   "id": "57e21614",
>>>>>>> a383e6009b304c6829f2dcca2e514359959a210d
   "metadata": {},
   "source": [
    "### Build the input list of granules - s3fs implementation\n"
   ]
  },
  {
   "cell_type": "code",
<<<<<<< HEAD
   "execution_count": 20,
   "id": "native-tunisia",
=======
   "execution_count": 3,
   "id": "57b599e8",
>>>>>>> a383e6009b304c6829f2dcca2e514359959a210d
   "metadata": {},
   "outputs": [
    {
     "name": "stdout",
     "output_type": "stream",
     "text": [
      "CPU times: user 39.5 ms, sys: 8.89 ms, total: 48.4 ms\n",
      "Wall time: 215 ms\n"
     ]
    },
    {
     "data": {
      "text/plain": [
       "0"
      ]
     },
     "execution_count": 20,
     "metadata": {},
     "output_type": "execute_result"
    }
   ],
   "source": [
    "%%time\n",
    "import s3fs\n",
    "s3 = s3fs.S3FileSystem()\n",
    "bucket = \"s3://maap-ops-workspace\"\n",
    "searchkey_list = [f'nathanmthomas/dps_output/do_topo_stack_3-1-5_ubuntu/master/2021/10/**/*.tif' for DAY in ['03','04','05']]\n",
    "# Concat list of lists to data frame\n",
    "topo_path_df = pd.concat([pd.DataFrame(s3.glob(os.path.join(bucket, searchkey)), columns=['maap_path']) for searchkey in searchkey_list])\n",
    "\n",
    "#Convert data frame to list\n",
    "INPUT_TILE_NUM_LIST = [i.replace(\"maap-ops-workspace\", \"https://maap-ops-workspace.s3.amazonaws.com\") for i in topo_path_df.maap_path.to_list()]\n",
    "len(INPUT_TILE_NUM_LIST)"
   ]
  },
  {
   "cell_type": "markdown",
<<<<<<< HEAD
   "id": "graphic-mouth",
=======
   "id": "2370c215",
>>>>>>> a383e6009b304c6829f2dcca2e514359959a210d
   "metadata": {},
   "source": [
    "### Get new tiles for version 3\n"
   ]
  },
  {
   "cell_type": "code",
<<<<<<< HEAD
   "execution_count": 21,
   "id": "interstate-canon",
=======
   "execution_count": 4,
   "id": "e60a7ee4",
>>>>>>> a383e6009b304c6829f2dcca2e514359959a210d
   "metadata": {},
   "outputs": [
    {
     "data": {
      "image/png": "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\n",
      "text/plain": [
       "<Figure size 432x288 with 1 Axes>"
      ]
     },
     "metadata": {
      "needs_background": "light"
     },
     "output_type": "display_data"
    }
   ],
   "source": [
    "# Get all boreal tiles\n",
    "boreal_tile_index_path = '/projects/shared-buckets/nathanmthomas/boreal_tiles_v003.gpkg' #shared-buckets/nathanmthomas/boreal_grid_albers90k_gpkg.gpkg\n",
    "boreal_tile_index = gpd.read_file(boreal_tile_index_path)\n",
    "\n",
    "bad_tiles = [3540,3634,3728,3823,3916,4004] #Dropping the tiles near antimeridian that reproject poorly.\n",
    "if True:\n",
    "    # Remove bad tiles\n",
    "    boreal_tile_index = boreal_tile_index[~boreal_tile_index['tile_num'].isin(bad_tiles)]\n",
    "\n",
    "boreal_tile_index.plot(column='tile_version')\n",
    "boreal_tile_index.groupby('tile_version')['tile_group'].agg(['count'])\n",
    "\n",
    "INPUT_TILE_NUM_LIST = boreal_tile_index[boreal_tile_index.tile_version == 'version 2'].tile_num.to_list()"
   ]
  },
  {
   "cell_type": "code",
<<<<<<< HEAD
   "execution_count": 22,
   "id": "connected-facing",
=======
   "execution_count": 5,
   "id": "a54e79d0",
>>>>>>> a383e6009b304c6829f2dcca2e514359959a210d
   "metadata": {},
   "outputs": [
    {
     "data": {
      "text/plain": [
       "639"
      ]
     },
     "execution_count": 22,
     "metadata": {},
     "output_type": "execute_result"
    }
   ],
   "source": [
    " len(INPUT_TILE_NUM_LIST)"
   ]
  },
  {
   "cell_type": "code",
<<<<<<< HEAD
   "execution_count": 23,
   "id": "several-nursing",
=======
   "execution_count": 6,
   "id": "de53d78f",
>>>>>>> a383e6009b304c6829f2dcca2e514359959a210d
   "metadata": {},
   "outputs": [
    {
     "name": "stdout",
     "output_type": "stream",
     "text": [
      "Running DPS on the FULL list of input\n",
      "List length: 639\n"
     ]
    }
   ],
   "source": [
    "TEST_DPS  = False\n",
    "\n",
    "if TEST_DPS:\n",
    "    print('Running DPS on a SUBSET list of input')\n",
    "    DPS_INPUT_TILE_NUM_LIST = INPUT_TILE_NUM_LIST[-10:]\n",
    "else:\n",
    "    print('Running DPS on the FULL list of input')\n",
    "    DPS_INPUT_TILE_NUM_LIST = INPUT_TILE_NUM_LIST\n",
    "    \n",
    "print(f\"List length: {len(DPS_INPUT_TILE_NUM_LIST)}\")"
   ]
  },
  {
   "cell_type": "markdown",
<<<<<<< HEAD
   "id": "fifth-stock",
=======
   "id": "77d829e4",
>>>>>>> a383e6009b304c6829f2dcca2e514359959a210d
   "metadata": {},
   "source": [
    "# Run a DPS of topo tiles"
   ]
  },
  {
   "cell_type": "code",
<<<<<<< HEAD
   "execution_count": 14,
   "id": "broad-bedroom",
=======
   "execution_count": 21,
   "id": "753cf4da",
>>>>>>> a383e6009b304c6829f2dcca2e514359959a210d
   "metadata": {},
   "outputs": [
    {
     "name": "stdout",
     "output_type": "stream",
     "text": [
      "# of input tiles for DPS: 10\n",
      "DPS run #: 1\t| tile num: 42558\t| submit status: success\t| job id: 3686c005-1cfd-4ae4-9dbd-4588db8f6524\n",
      "DPS run #: 10\t| tile num: 45970\t| submit status: success\t| job id: c5dc3e35-9e5e-43d0-af4e-2f24c01f49df\n",
      "Current time:\t202203162216\n",
      "CPU times: user 134 ms, sys: 0 ns, total: 134 ms\n",
      "Wall time: 2.34 s\n"
     ]
    },
    {
     "data": {
      "text/html": [
       "<div>\n",
       "<style scoped>\n",
       "    .dataframe tbody tr th:only-of-type {\n",
       "        vertical-align: middle;\n",
       "    }\n",
       "\n",
       "    .dataframe tbody tr th {\n",
       "        vertical-align: top;\n",
       "    }\n",
       "\n",
       "    .dataframe thead th {\n",
       "        text-align: right;\n",
       "    }\n",
       "</style>\n",
       "<table border=\"1\" class=\"dataframe\">\n",
       "  <thead>\n",
       "    <tr style=\"text-align: right;\">\n",
       "      <th></th>\n",
       "      <th>status</th>\n",
       "      <th>http_status_code</th>\n",
       "      <th>job_id</th>\n",
       "      <th>dps_num</th>\n",
       "      <th>tile_num</th>\n",
       "      <th>submit_time</th>\n",
       "      <th>dbs_job_hour</th>\n",
       "      <th>algo_id</th>\n",
       "      <th>user</th>\n",
       "      <th>worker_type</th>\n",
       "    </tr>\n",
       "  </thead>\n",
       "  <tbody>\n",
       "    <tr>\n",
       "      <th>0</th>\n",
       "      <td>success</td>\n",
       "      <td>200</td>\n",
       "      <td>3686c005-1cfd-4ae4-9dbd-4588db8f6524</td>\n",
       "      <td>1</td>\n",
       "      <td>42558</td>\n",
       "      <td>2022-03-16 22:16:05.985041</td>\n",
       "      <td>22</td>\n",
       "      <td>do_topo_stack_3-1-5_ubuntu</td>\n",
       "      <td>lduncanson</td>\n",
       "      <td>maap-dps-worker-8gb</td>\n",
       "    </tr>\n",
       "    <tr>\n",
       "      <th>0</th>\n",
       "      <td>success</td>\n",
       "      <td>200</td>\n",
       "      <td>4834b046-c076-4c7b-85ac-11b1bdfb88df</td>\n",
       "      <td>2</td>\n",
       "      <td>42559</td>\n",
       "      <td>2022-03-16 22:16:06.074743</td>\n",
       "      <td>22</td>\n",
       "      <td>do_topo_stack_3-1-5_ubuntu</td>\n",
       "      <td>lduncanson</td>\n",
       "      <td>maap-dps-worker-8gb</td>\n",
       "    </tr>\n",
       "    <tr>\n",
       "      <th>0</th>\n",
       "      <td>success</td>\n",
       "      <td>200</td>\n",
       "      <td>102278c0-bfd6-462c-bda1-b21a8d826448</td>\n",
       "      <td>3</td>\n",
       "      <td>42560</td>\n",
       "      <td>2022-03-16 22:16:06.204093</td>\n",
       "      <td>22</td>\n",
       "      <td>do_topo_stack_3-1-5_ubuntu</td>\n",
       "      <td>lduncanson</td>\n",
       "      <td>maap-dps-worker-8gb</td>\n",
       "    </tr>\n",
       "    <tr>\n",
       "      <th>0</th>\n",
       "      <td>success</td>\n",
       "      <td>200</td>\n",
       "      <td>f9f0e1f3-9697-4bcb-98b5-40a22ec74859</td>\n",
       "      <td>4</td>\n",
       "      <td>42745</td>\n",
       "      <td>2022-03-16 22:16:06.352788</td>\n",
       "      <td>22</td>\n",
       "      <td>do_topo_stack_3-1-5_ubuntu</td>\n",
       "      <td>lduncanson</td>\n",
       "      <td>maap-dps-worker-8gb</td>\n",
       "    </tr>\n",
       "    <tr>\n",
       "      <th>0</th>\n",
       "      <td>success</td>\n",
       "      <td>200</td>\n",
       "      <td>c413de42-9815-4945-87d9-6c67b22b60a5</td>\n",
       "      <td>5</td>\n",
       "      <td>42746</td>\n",
       "      <td>2022-03-16 22:16:06.998416</td>\n",
       "      <td>22</td>\n",
       "      <td>do_topo_stack_3-1-5_ubuntu</td>\n",
       "      <td>lduncanson</td>\n",
       "      <td>maap-dps-worker-8gb</td>\n",
       "    </tr>\n",
       "    <tr>\n",
       "      <th>0</th>\n",
       "      <td>success</td>\n",
       "      <td>200</td>\n",
       "      <td>0e5582c4-ffbb-4f32-900a-41bb6f467a42</td>\n",
       "      <td>6</td>\n",
       "      <td>42935</td>\n",
       "      <td>2022-03-16 22:16:07.079249</td>\n",
       "      <td>22</td>\n",
       "      <td>do_topo_stack_3-1-5_ubuntu</td>\n",
       "      <td>lduncanson</td>\n",
       "      <td>maap-dps-worker-8gb</td>\n",
       "    </tr>\n",
       "    <tr>\n",
       "      <th>0</th>\n",
       "      <td>success</td>\n",
       "      <td>200</td>\n",
       "      <td>c24fec9d-f384-4174-87fd-b7d820f4f524</td>\n",
       "      <td>7</td>\n",
       "      <td>42936</td>\n",
       "      <td>2022-03-16 22:16:07.259728</td>\n",
       "      <td>22</td>\n",
       "      <td>do_topo_stack_3-1-5_ubuntu</td>\n",
       "      <td>lduncanson</td>\n",
       "      <td>maap-dps-worker-8gb</td>\n",
       "    </tr>\n",
       "    <tr>\n",
       "      <th>0</th>\n",
       "      <td>success</td>\n",
       "      <td>200</td>\n",
       "      <td>9dd01c34-f38f-40ef-b0de-a1baf8c6252d</td>\n",
       "      <td>8</td>\n",
       "      <td>43326</td>\n",
       "      <td>2022-03-16 22:16:07.436146</td>\n",
       "      <td>22</td>\n",
       "      <td>do_topo_stack_3-1-5_ubuntu</td>\n",
       "      <td>lduncanson</td>\n",
       "      <td>maap-dps-worker-8gb</td>\n",
       "    </tr>\n",
       "    <tr>\n",
       "      <th>0</th>\n",
       "      <td>success</td>\n",
       "      <td>200</td>\n",
       "      <td>52f0458e-55e1-486a-95a0-422a92fd8ef5</td>\n",
       "      <td>9</td>\n",
       "      <td>45716</td>\n",
       "      <td>2022-03-16 22:16:07.716595</td>\n",
       "      <td>22</td>\n",
       "      <td>do_topo_stack_3-1-5_ubuntu</td>\n",
       "      <td>lduncanson</td>\n",
       "      <td>maap-dps-worker-8gb</td>\n",
       "    </tr>\n",
       "    <tr>\n",
       "      <th>0</th>\n",
       "      <td>success</td>\n",
       "      <td>200</td>\n",
       "      <td>c5dc3e35-9e5e-43d0-af4e-2f24c01f49df</td>\n",
       "      <td>10</td>\n",
       "      <td>45970</td>\n",
       "      <td>2022-03-16 22:16:07.941326</td>\n",
       "      <td>22</td>\n",
       "      <td>do_topo_stack_3-1-5_ubuntu</td>\n",
       "      <td>lduncanson</td>\n",
       "      <td>maap-dps-worker-8gb</td>\n",
       "    </tr>\n",
       "  </tbody>\n",
       "</table>\n",
       "</div>"
      ],
      "text/plain": [
       "    status  http_status_code                                job_id  dps_num  \\\n",
       "0  success               200  3686c005-1cfd-4ae4-9dbd-4588db8f6524        1   \n",
       "0  success               200  4834b046-c076-4c7b-85ac-11b1bdfb88df        2   \n",
       "0  success               200  102278c0-bfd6-462c-bda1-b21a8d826448        3   \n",
       "0  success               200  f9f0e1f3-9697-4bcb-98b5-40a22ec74859        4   \n",
       "0  success               200  c413de42-9815-4945-87d9-6c67b22b60a5        5   \n",
       "0  success               200  0e5582c4-ffbb-4f32-900a-41bb6f467a42        6   \n",
       "0  success               200  c24fec9d-f384-4174-87fd-b7d820f4f524        7   \n",
       "0  success               200  9dd01c34-f38f-40ef-b0de-a1baf8c6252d        8   \n",
       "0  success               200  52f0458e-55e1-486a-95a0-422a92fd8ef5        9   \n",
       "0  success               200  c5dc3e35-9e5e-43d0-af4e-2f24c01f49df       10   \n",
       "\n",
       "   tile_num                submit_time  dbs_job_hour  \\\n",
       "0     42558 2022-03-16 22:16:05.985041            22   \n",
       "0     42559 2022-03-16 22:16:06.074743            22   \n",
       "0     42560 2022-03-16 22:16:06.204093            22   \n",
       "0     42745 2022-03-16 22:16:06.352788            22   \n",
       "0     42746 2022-03-16 22:16:06.998416            22   \n",
       "0     42935 2022-03-16 22:16:07.079249            22   \n",
       "0     42936 2022-03-16 22:16:07.259728            22   \n",
       "0     43326 2022-03-16 22:16:07.436146            22   \n",
       "0     45716 2022-03-16 22:16:07.716595            22   \n",
       "0     45970 2022-03-16 22:16:07.941326            22   \n",
       "\n",
       "                      algo_id        user          worker_type  \n",
       "0  do_topo_stack_3-1-5_ubuntu  lduncanson  maap-dps-worker-8gb  \n",
       "0  do_topo_stack_3-1-5_ubuntu  lduncanson  maap-dps-worker-8gb  \n",
       "0  do_topo_stack_3-1-5_ubuntu  lduncanson  maap-dps-worker-8gb  \n",
       "0  do_topo_stack_3-1-5_ubuntu  lduncanson  maap-dps-worker-8gb  \n",
       "0  do_topo_stack_3-1-5_ubuntu  lduncanson  maap-dps-worker-8gb  \n",
       "0  do_topo_stack_3-1-5_ubuntu  lduncanson  maap-dps-worker-8gb  \n",
       "0  do_topo_stack_3-1-5_ubuntu  lduncanson  maap-dps-worker-8gb  \n",
       "0  do_topo_stack_3-1-5_ubuntu  lduncanson  maap-dps-worker-8gb  \n",
       "0  do_topo_stack_3-1-5_ubuntu  lduncanson  maap-dps-worker-8gb  \n",
       "0  do_topo_stack_3-1-5_ubuntu  lduncanson  maap-dps-worker-8gb  "
      ]
     },
     "execution_count": 14,
     "metadata": {},
     "output_type": "execute_result"
    }
   ],
   "source": [
    "%%time\n",
    "submit_results_df_list = []\n",
    "len_input_list = len(DPS_INPUT_TILE_NUM_LIST)\n",
    "print(f\"# of input tiles for DPS: {len_input_list}\")\n",
    "\n",
    "for i, INPUT_TILE_NUM in enumerate(DPS_INPUT_TILE_NUM_LIST):\n",
    "\n",
    "    DPS_num = i+1\n",
    "    IDENTIFIER = 'do_topo_stack_3-1-5'\n",
    "    ALGO_ID = f'{IDENTIFIER}_ubuntu'\n",
    "    USER = 'lduncanson'\n",
    "    WORKER_TYPE = 'maap-dps-worker-8gb'\n",
    "    \n",
    "    in_param_dict = {\n",
    "                         'in_tile_fn': 'https://maap-ops-workspace.s3.amazonaws.com/shared/nathanmthomas/boreal_tiles_v003.gpkg',\n",
    "                         'in_tile_num': INPUT_TILE_NUM,\n",
    "                         'tile_buffer_m': 120,\n",
    "                         'in_tile_layer': 'boreal_tiles_v003',\n",
    "                         'topo_tile_fn': 'https://maap-ops-workspace.s3.amazonaws.com/shared/nathanmthomas/dem30m_tiles.geojson',\n",
    "        }\n",
    "\n",
    "    submit_result = maap.submitJob(\n",
    "            identifier=IDENTIFIER,\n",
    "            algo_id=ALGO_ID,\n",
    "            version='master',\n",
    "            username=USER, # username needs to be the same as whoever created the workspace\n",
    "            queue=WORKER_TYPE,\n",
    "            **in_param_dict\n",
    "        )\n",
    "    \n",
    "    # Build a dataframe of submission details\n",
    "    submit_result['dps_num'] = DPS_num\n",
    "    submit_result['tile_num'] = INPUT_TILE_NUM\n",
    "    submit_result['submit_time'] = datetime.datetime.now()\n",
    "    submit_result['dbs_job_hour'] =datetime.datetime.now().hour\n",
    "    submit_result['algo_id'] = ALGO_ID\n",
    "    submit_result['user'] = USER\n",
    "    submit_result['worker_type'] = WORKER_TYPE\n",
    "    \n",
    "    # Append to a list of data frames of submission results\n",
    "    submit_results_df_list.append(pd.DataFrame([submit_result]))\n",
    "    \n",
    "    if DPS_num in [1, 100, 500, 1000, 1500, 2000, 3000, 5000, 7000, 9000, 11000, 13000, 15000, 17000, 19000, 21000, 24000, len_input_list]:\n",
    "        print(f\"DPS run #: {DPS_num}\\t| tile num: {INPUT_TILE_NUM}\\t| submit status: {submit_result['status']}\\t| job id: {submit_result['job_id']}\") \n",
    "        \n",
    "# Build a final submission results df and save\n",
    "submit_results_df = pd.concat(submit_results_df_list)\n",
    "nowtime = pd.Timestamp.now().strftime('%Y%m%d%H%M')\n",
    "print(f\"Current time:\\t{nowtime}\")\n",
    "submit_results_df.to_csv(f'/projects/my-public-bucket/DPS_{IDENTIFIER}_submission_results_{len_input_list}_{nowtime}.csv')\n",
    "submit_results_df"
   ]
  },
  {
   "cell_type": "markdown",
<<<<<<< HEAD
   "id": "hybrid-essex",
=======
   "id": "de8ea98b",
>>>>>>> a383e6009b304c6829f2dcca2e514359959a210d
   "metadata": {},
   "source": [
    "After almost any DPS job, you have to assess what succeeded and failed. This involves:\n",
    "1. building a table of job status based on job ids captured in the job_results_df from the DPS run chunk (this takes 40 mins for ~47k jobs) --> this tells you how many jobs failed\n",
    "2. merging the job status table with the job results df --> this tells you which specific granules (or tile nums) failed\n",
    "3. building another input list of granules for a follow-up DPS\n",
    "## Assess DPS results\n",
    "Build a table of job status based on job id - how many jobs failed?"
   ]
  },
  {
   "cell_type": "code",
   "execution_count": 60,
<<<<<<< HEAD
   "id": "electoral-coaching",
=======
   "id": "65e49dcb",
>>>>>>> a383e6009b304c6829f2dcca2e514359959a210d
   "metadata": {},
   "outputs": [
    {
     "name": "stdout",
     "output_type": "stream",
     "text": [
      "Count total jobs:\t10\n",
      "Count pending jobs:\t0\n",
      "Count running jobs:\t1\n",
      "Count succeeded jobs:\t0\n",
      "Count failed jobs:\t9\n",
      "% of failed jobs:\t100.0\n",
      "CPU times: user 120 ms, sys: 5.81 ms, total: 126 ms\n",
      "Wall time: 317 ms\n"
     ]
    }
   ],
   "source": [
    "%%time\n",
    "def BUILD_TABLE_JOBSTATUS(submit_results_df):\n",
    "    import xmltodict\n",
    "    df = pd.concat([pd.DataFrame(xmltodict.parse(maap.getJobStatus(job_id).content)).transpose() for job_id in submit_results_df.job_id.to_list()])\n",
    "    return df\n",
    "\n",
    "job_status_df = BUILD_TABLE_JOBSTATUS(submit_results_df)\n",
    "#print(job_status_df.head())\n",
    "\n",
    "num_jobs = submit_results_df.shape[0]\n",
    "z = submit_results_df.merge(job_status_df, how='left', left_on='job_id',  right_on='wps:JobID')\n",
    "\n",
    "print(f'Count total jobs:\\t{num_jobs}')\n",
    "print(f\"Count pending jobs:\\t{z[z['wps:Status'] =='Accepted'].shape[0]}\")\n",
    "print(f\"Count running jobs:\\t{z[z['wps:Status'] =='Running'].shape[0]}\")\n",
    "print(f\"Count succeeded jobs:\\t{z[z['wps:Status'] =='Succeeded'].shape[0]}\")\n",
    "print(f\"Count failed jobs:\\t{z[z['wps:Status'] =='Failed'].shape[0]}\")\n",
    "print(f\"% of failed jobs:\\t{round(z[z['wps:Status'] =='Failed'].shape[0] / ( z[z['wps:Status'] =='Failed'].shape[0] + z[z['wps:Status'] =='Succeeded'].shape[0] ), 4) * 100}\")"
   ]
  },
  {
   "cell_type": "code",
   "execution_count": 48,
<<<<<<< HEAD
   "id": "tired-least",
=======
   "id": "b79442ba",
>>>>>>> a383e6009b304c6829f2dcca2e514359959a210d
   "metadata": {},
   "outputs": [
    {
     "data": {
      "text/plain": [
       "OrderedDict([('wps:Result',\n",
       "              OrderedDict([('@xmlns:ows', 'http://www.opengis.net/ows/2.0'),\n",
       "                           ('@xmlns:schemaLocation',\n",
       "                            'http://schemas.opengis.net/wps/2.0/wps.xsd'),\n",
       "                           ('@xmlns:wps', 'http://www.opengis.net/wps/2.0'),\n",
       "                           ('@xmlns:xsi',\n",
       "                            'http://www.w3.org/2001/XMLSchema-instance'),\n",
       "                           ('wps:JobID',\n",
       "                            '442f4441-deaa-4799-bc1f-ad2622927da5'),\n",
       "                           ('wps:Output',\n",
       "                            OrderedDict([('@id',\n",
       "                                          'output-2022-03-11T21:39:30.224518'),\n",
       "                                         ('wps:Data',\n",
       "                                          ['http://maap-ops-workspace.s3-website-us-west-2.amazonaws.com/lduncanson/dps_output/run_tile_atl08_ubuntu/master/2022/03/11/21/39/30/224518',\n",
       "                                           's3://s3.us-west-2.amazonaws.com:80/maap-ops-workspace/lduncanson/dps_output/run_tile_atl08_ubuntu/master/2022/03/11/21/39/30/224518',\n",
       "                                           'https://s3.console.aws.amazon.com/s3/buckets/maap-ops-workspace/lduncanson/dps_output/run_tile_atl08_ubuntu/master/2022/03/11/21/39/30/224518/?region=us-east-1&tab=overview'])]))]))])"
      ]
     },
     "execution_count": 48,
     "metadata": {},
     "output_type": "execute_result"
    }
   ],
   "source": [
    "xmltodict.parse(maap.getJobResult(z[z['wps:Status'] =='Succeeded'].iloc[3].job_id).content)"
   ]
  },
  {
   "cell_type": "code",
   "execution_count": 19,
<<<<<<< HEAD
   "id": "british-therapy",
=======
   "id": "18048295",
>>>>>>> a383e6009b304c6829f2dcca2e514359959a210d
   "metadata": {},
   "outputs": [
    {
     "data": {
      "text/plain": [
       "OrderedDict([('wps:Result',\n",
       "              OrderedDict([('@xmlns:ows', 'http://www.opengis.net/ows/2.0'),\n",
       "                           ('@xmlns:schemaLocation',\n",
       "                            'http://schemas.opengis.net/wps/2.0/wps.xsd'),\n",
       "                           ('@xmlns:wps', 'http://www.opengis.net/wps/2.0'),\n",
       "                           ('@xmlns:xsi',\n",
       "                            'http://www.w3.org/2001/XMLSchema-instance'),\n",
       "                           ('wps:JobID',\n",
       "                            '7d0eea66-6ac7-47e2-8b87-d1904ace5f4d'),\n",
       "                           ('wps:Output',\n",
       "                            OrderedDict([('@id', 'traceback'),\n",
       "                                         ('wps:Data',\n",
       "                                          'activate does not accept more than one argument:\\n[\\'/app/icesat2_boreal/dps/alg_3-1-5/run.sh\\', \\'42558\\', \\'120\\', \\'boreal_tiles_v002\\']\\n\\n+ /app/icesat2_boreal/dps/alg_3-1-5/run.sh 42558 120 boreal_tiles_v002\\n\\nCommandNotFoundError: Your shell has not been properly configured to use \\'conda activate\\'.\\nTo initialize your shell, run\\n\\n    $ conda init <SHELL_NAME>\\n\\nCurrently supported shells are:\\n  - bash\\n  - fish\\n  - tcsh\\n  - xonsh\\n  - zsh\\n  - powershell\\n\\nSee \\'conda init --help\\' for more information and options.\\n\\nIMPORTANT: You may need to close and restart your shell after running \\'conda init\\'.\\n\\n\\nERROR: Invalid requirement: \\'/projects/icesat2_boreal/dps/requirements_main.txt\\'\\nHint: It looks like a path. File \\'/projects/icesat2_boreal/dps/requirements_main.txt\\' does not exist.\\nTraceback (most recent call last):\\n  File \"/app/icesat2_boreal/dps/alg_3-1-5/../../lib/3.1.5_dps.py\", line 8, in <module>\\n    import geopandas as gpd\\nModuleNotFoundError: No module named \\'geopandas\\'\\n+ cp _stderr.txt _alt_traceback.txt')]))]))])"
      ]
     },
     "execution_count": 19,
     "metadata": {},
     "output_type": "execute_result"
    }
   ],
   "source": [
    "xmltodict.parse(maap.getJobResult(z[z['wps:Status'] =='Failed'].iloc[0].job_id).content)"
   ]
  },
  {
   "cell_type": "code",
   "execution_count": null,
<<<<<<< HEAD
   "id": "seventh-lying",
=======
   "id": "9290a397",
>>>>>>> a383e6009b304c6829f2dcca2e514359959a210d
   "metadata": {},
   "outputs": [],
   "source": [
    "!python $basedir/../../lib/tile_atl08.py"
   ]
  }
 ],
 "metadata": {
  "kernelspec": {
   "display_name": "Python 3 (ipykernel)",
   "language": "python",
   "name": "python3"
  },
  "language_info": {
   "codemirror_mode": {
    "name": "ipython",
    "version": 3
   },
   "file_extension": ".py",
   "mimetype": "text/x-python",
   "name": "python",
   "nbconvert_exporter": "python",
   "pygments_lexer": "ipython3",
   "version": "3.7.8"
  }
 },
 "nbformat": 4,
 "nbformat_minor": 5
}
