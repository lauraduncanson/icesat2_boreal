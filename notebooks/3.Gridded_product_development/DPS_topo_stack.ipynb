{
 "cells": [
  {
   "cell_type": "code",
   "execution_count": 29,
   "id": "2a906886",
   "metadata": {},
   "outputs": [],
   "source": [
    "from maap.maap import MAAP\n",
    "maap = MAAP(maap_host='api.ops.maap-project.org')"
   ]
  },
  {
   "cell_type": "markdown",
   "id": "cacf67de",
   "metadata": {},
   "source": [
    "# Launch DPS for 3.1.5_dps.py\n"
   ]
  },
  {
   "cell_type": "code",
   "execution_count": 30,
   "id": "6c309bdd",
   "metadata": {},
   "outputs": [
    {
     "name": "stdout",
     "output_type": "stream",
     "text": [
      "Requirement already satisfied: xmltodict in /opt/conda/lib/python3.7/site-packages (0.12.0)\n",
      "\u001b[33mWARNING: Running pip as the 'root' user can result in broken permissions and conflicting behaviour with the system package manager. It is recommended to use a virtual environment instead: https://pip.pypa.io/warnings/venv\u001b[0m\u001b[33m\n",
      "\u001b[0m\u001b[33mWARNING: You are using pip version 22.0.3; however, version 22.0.4 is available.\n",
      "You should consider upgrading via the '/opt/conda/bin/python3.7 -m pip install --upgrade pip' command.\u001b[0m\u001b[33m\n",
      "\u001b[0m"
     ]
    }
   ],
   "source": [
    "from os import path\n",
    "import os, glob\n",
    "import datetime\n",
    "import pandas as pd\n",
    "import geopandas as gpd\n",
    "!pip install xmltodict\n",
    "import xmltodict"
   ]
  },
  {
   "cell_type": "markdown",
   "id": "7fb31d8e",
   "metadata": {},
   "source": [
    "### Build the input list of granules - s3fs implementation\n"
   ]
  },
  {
   "cell_type": "code",
   "execution_count": 31,
   "id": "00fe357d",
   "metadata": {},
   "outputs": [
    {
     "name": "stdout",
     "output_type": "stream",
     "text": [
      "CPU times: user 51.7 ms, sys: 7.48 ms, total: 59.1 ms\n",
      "Wall time: 1.26 s\n"
     ]
    },
    {
     "data": {
      "text/plain": [
       "0"
      ]
     },
     "execution_count": 31,
     "metadata": {},
     "output_type": "execute_result"
    }
   ],
   "source": [
    "%%time\n",
    "import s3fs\n",
    "s3 = s3fs.S3FileSystem()\n",
    "bucket = \"s3://maap-ops-workspace\"\n",
    "searchkey_list = [f'nathanmthomas/dps_output/do_topo_stack_3-1-5_ubuntu/master/2021/10/**/*.tif' for DAY in ['03','04','05']]\n",
    "# Concat list of lists to data frame\n",
    "topo_path_df = pd.concat([pd.DataFrame(s3.glob(os.path.join(bucket, searchkey)), columns=['maap_path']) for searchkey in searchkey_list])\n",
    "\n",
    "#Convert data frame to list\n",
    "INPUT_TILE_NUM_LIST = [i.replace(\"maap-ops-workspace\", \"https://maap-ops-workspace.s3.amazonaws.com\") for i in topo_path_df.maap_path.to_list()]\n",
    "len(INPUT_TILE_NUM_LIST)"
   ]
  },
  {
   "cell_type": "markdown",
   "id": "3b7066a7",
   "metadata": {},
   "source": [
    "### Get new tiles for version 3\n"
   ]
  },
  {
   "cell_type": "code",
   "execution_count": 32,
   "id": "6a360dbc",
   "metadata": {},
   "outputs": [
    {
     "data": {
      "image/png": "[encoded data removed]",
      "text/plain": [
       "<Figure size 432x288 with 1 Axes>"
      ]
     },
     "metadata": {
      "needs_background": "light"
     },
     "output_type": "display_data"
    }
   ],
   "source": [
    "# Get all boreal tiles\n",
    "boreal_tile_index_path = '/projects/shared-buckets/nathanmthomas/boreal_tiles_v003.gpkg' #shared-buckets/nathanmthomas/boreal_grid_albers90k_gpkg.gpkg\n",
    "boreal_tile_index = gpd.read_file(boreal_tile_index_path)\n",
    "\n",
    "bad_tiles = [3540,3634,3728,3823,3916,4004] #Dropping the tiles near antimeridian that reproject poorly.\n",
    "if True:\n",
    "    # Remove bad tiles\n",
    "    boreal_tile_index = boreal_tile_index[~boreal_tile_index['tile_num'].isin(bad_tiles)]\n",
    "\n",
    "boreal_tile_index.plot(column='tile_version')\n",
    "boreal_tile_index.groupby('tile_version')['tile_group'].agg(['count'])\n",
    "\n",
    "INPUT_TILE_NUM_LIST = boreal_tile_index[boreal_tile_index.tile_version == 'version 2'].tile_num.to_list()"
   ]
  },
  {
   "cell_type": "code",
   "execution_count": 33,
   "id": "6f2ddd78",
   "metadata": {},
   "outputs": [
    {
     "data": {
      "text/plain": [
       "639"
      ]
     },
     "execution_count": 33,
     "metadata": {},
     "output_type": "execute_result"
    }
   ],
   "source": [
    " len(INPUT_TILE_NUM_LIST)"
   ]
  },
  {
   "cell_type": "code",
   "execution_count": 34,
   "id": "d7cce25d",
   "metadata": {},
   "outputs": [
    {
     "name": "stdout",
     "output_type": "stream",
     "text": [
      "Running DPS on the FULL list of input\n",
      "List length: 639\n"
     ]
    }
   ],
   "source": [
    "TEST_DPS  = False\n",
    "\n",
    "if TEST_DPS:\n",
    "    print('Running DPS on a SUBSET list of input')\n",
    "    DPS_INPUT_TILE_NUM_LIST = INPUT_TILE_NUM_LIST[-10:]\n",
    "else:\n",
    "    print('Running DPS on the FULL list of input')\n",
    "    DPS_INPUT_TILE_NUM_LIST = INPUT_TILE_NUM_LIST\n",
    "    \n",
    "print(f\"List length: {len(DPS_INPUT_TILE_NUM_LIST)}\")"
   ]
  },
  {
   "cell_type": "markdown",
   "id": "888314ba",
   "metadata": {},
   "source": [
    "# Run a DPS of topo tiles"
   ]
  },
  {
   "cell_type": "code",
   "execution_count": 61,
   "id": "e37f7666",
   "metadata": {},
   "outputs": [
    {
     "name": "stdout",
     "output_type": "stream",
     "text": [
      "# of input tiles for DPS: 639\n",
      "DPS run #: 1\t| tile num: 23547\t| submit status: success\t| job id: 4a47c794-42cb-428b-b72b-15b1b7a1c20f\n",
      "DPS run #: 100\t| tile num: 25238\t| submit status: success\t| job id: 4fe3818b-0822-49ab-ac8a-3a49155c429d\n",
      "DPS run #: 500\t| tile num: 37143\t| submit status: success\t| job id: e57aae6b-1868-4f22-9898-7af097157735\n",
      "Current time:\t202203190126\n",
      "CPU times: user 7.44 s, sys: 457 ms, total: 7.9 s\n",
      "Wall time: 2min 31s\n"
     ]
    },
    {
     "data": {
      "text/html": [
       "<div>\n",
       "<style scoped>\n",
       "    .dataframe tbody tr th:only-of-type {\n",
       "        vertical-align: middle;\n",
       "    }\n",
       "\n",
       "    .dataframe tbody tr th {\n",
       "        vertical-align: top;\n",
       "    }\n",
       "\n",
       "    .dataframe thead th {\n",
       "        text-align: right;\n",
       "    }\n",
       "</style>\n",
       "<table border=\"1\" class=\"dataframe\">\n",
       "  <thead>\n",
       "    <tr style=\"text-align: right;\">\n",
       "      <th></th>\n",
       "      <th>status</th>\n",
       "      <th>http_status_code</th>\n",
       "      <th>job_id</th>\n",
       "      <th>dps_num</th>\n",
       "      <th>tile_num</th>\n",
       "      <th>submit_time</th>\n",
       "      <th>dbs_job_hour</th>\n",
       "      <th>algo_id</th>\n",
       "      <th>user</th>\n",
       "      <th>worker_type</th>\n",
       "    </tr>\n",
       "  </thead>\n",
       "  <tbody>\n",
       "    <tr>\n",
       "      <th>0</th>\n",
       "      <td>success</td>\n",
       "      <td>200</td>\n",
       "      <td>4a47c794-42cb-428b-b72b-15b1b7a1c20f</td>\n",
       "      <td>1</td>\n",
       "      <td>23547</td>\n",
       "      <td>2022-03-19 01:23:29.174715</td>\n",
       "      <td>1</td>\n",
       "      <td>do_topo_stack_3-1-5_ubuntu</td>\n",
       "      <td>lduncanson</td>\n",
       "      <td>maap-dps-worker-8gb</td>\n",
       "    </tr>\n",
       "    <tr>\n",
       "      <th>0</th>\n",
       "      <td>success</td>\n",
       "      <td>200</td>\n",
       "      <td>995a2fb6-91e0-4b71-9faf-0fc42e419885</td>\n",
       "      <td>2</td>\n",
       "      <td>23548</td>\n",
       "      <td>2022-03-19 01:23:29.250816</td>\n",
       "      <td>1</td>\n",
       "      <td>do_topo_stack_3-1-5_ubuntu</td>\n",
       "      <td>lduncanson</td>\n",
       "      <td>maap-dps-worker-8gb</td>\n",
       "    </tr>\n",
       "    <tr>\n",
       "      <th>0</th>\n",
       "      <td>success</td>\n",
       "      <td>200</td>\n",
       "      <td>e0223b6a-8fa9-4103-9054-c31a0d998f69</td>\n",
       "      <td>3</td>\n",
       "      <td>23549</td>\n",
       "      <td>2022-03-19 01:23:29.354597</td>\n",
       "      <td>1</td>\n",
       "      <td>do_topo_stack_3-1-5_ubuntu</td>\n",
       "      <td>lduncanson</td>\n",
       "      <td>maap-dps-worker-8gb</td>\n",
       "    </tr>\n",
       "    <tr>\n",
       "      <th>0</th>\n",
       "      <td>success</td>\n",
       "      <td>200</td>\n",
       "      <td>a75b62cb-5019-41f8-813c-bee4ee3622b7</td>\n",
       "      <td>4</td>\n",
       "      <td>23550</td>\n",
       "      <td>2022-03-19 01:23:29.527405</td>\n",
       "      <td>1</td>\n",
       "      <td>do_topo_stack_3-1-5_ubuntu</td>\n",
       "      <td>lduncanson</td>\n",
       "      <td>maap-dps-worker-8gb</td>\n",
       "    </tr>\n",
       "    <tr>\n",
       "      <th>0</th>\n",
       "      <td>success</td>\n",
       "      <td>200</td>\n",
       "      <td>b22232ae-0ec4-4440-b01f-6f4b6e2b5926</td>\n",
       "      <td>5</td>\n",
       "      <td>23551</td>\n",
       "      <td>2022-03-19 01:23:29.709935</td>\n",
       "      <td>1</td>\n",
       "      <td>do_topo_stack_3-1-5_ubuntu</td>\n",
       "      <td>lduncanson</td>\n",
       "      <td>maap-dps-worker-8gb</td>\n",
       "    </tr>\n",
       "    <tr>\n",
       "      <th>...</th>\n",
       "      <td>...</td>\n",
       "      <td>...</td>\n",
       "      <td>...</td>\n",
       "      <td>...</td>\n",
       "      <td>...</td>\n",
       "      <td>...</td>\n",
       "      <td>...</td>\n",
       "      <td>...</td>\n",
       "      <td>...</td>\n",
       "      <td>...</td>\n",
       "    </tr>\n",
       "    <tr>\n",
       "      <th>0</th>\n",
       "      <td>success</td>\n",
       "      <td>200</td>\n",
       "      <td>0e40b627-9079-411c-970c-74f410318386</td>\n",
       "      <td>625</td>\n",
       "      <td>42935</td>\n",
       "      <td>2022-03-19 01:25:58.856843</td>\n",
       "      <td>1</td>\n",
       "      <td>do_topo_stack_3-1-5_ubuntu</td>\n",
       "      <td>lduncanson</td>\n",
       "      <td>maap-dps-worker-8gb</td>\n",
       "    </tr>\n",
       "    <tr>\n",
       "      <th>0</th>\n",
       "      <td>success</td>\n",
       "      <td>200</td>\n",
       "      <td>12940f75-8557-4a13-bd58-a91f0093a4f6</td>\n",
       "      <td>626</td>\n",
       "      <td>42936</td>\n",
       "      <td>2022-03-19 01:25:59.160658</td>\n",
       "      <td>1</td>\n",
       "      <td>do_topo_stack_3-1-5_ubuntu</td>\n",
       "      <td>lduncanson</td>\n",
       "      <td>maap-dps-worker-8gb</td>\n",
       "    </tr>\n",
       "    <tr>\n",
       "      <th>0</th>\n",
       "      <td>success</td>\n",
       "      <td>200</td>\n",
       "      <td>a310b29d-1f28-417d-8747-c897007decfb</td>\n",
       "      <td>627</td>\n",
       "      <td>43326</td>\n",
       "      <td>2022-03-19 01:25:59.402581</td>\n",
       "      <td>1</td>\n",
       "      <td>do_topo_stack_3-1-5_ubuntu</td>\n",
       "      <td>lduncanson</td>\n",
       "      <td>maap-dps-worker-8gb</td>\n",
       "    </tr>\n",
       "    <tr>\n",
       "      <th>0</th>\n",
       "      <td>success</td>\n",
       "      <td>200</td>\n",
       "      <td>fdb8198b-1a02-4482-8862-f4bfb445cf3e</td>\n",
       "      <td>628</td>\n",
       "      <td>45716</td>\n",
       "      <td>2022-03-19 01:25:59.594543</td>\n",
       "      <td>1</td>\n",
       "      <td>do_topo_stack_3-1-5_ubuntu</td>\n",
       "      <td>lduncanson</td>\n",
       "      <td>maap-dps-worker-8gb</td>\n",
       "    </tr>\n",
       "    <tr>\n",
       "      <th>0</th>\n",
       "      <td>success</td>\n",
       "      <td>200</td>\n",
       "      <td>097bb743-beef-4e75-95b7-807cd0a74fb4</td>\n",
       "      <td>629</td>\n",
       "      <td>45970</td>\n",
       "      <td>2022-03-19 01:25:59.846384</td>\n",
       "      <td>1</td>\n",
       "      <td>do_topo_stack_3-1-5_ubuntu</td>\n",
       "      <td>lduncanson</td>\n",
       "      <td>maap-dps-worker-8gb</td>\n",
       "    </tr>\n",
       "  </tbody>\n",
       "</table>\n",
       "<p>629 rows × 10 columns</p>\n",
       "</div>"
      ],
      "text/plain": [
       "     status  http_status_code                                job_id  dps_num  \\\n",
       "0   success               200  4a47c794-42cb-428b-b72b-15b1b7a1c20f        1   \n",
       "0   success               200  995a2fb6-91e0-4b71-9faf-0fc42e419885        2   \n",
       "0   success               200  e0223b6a-8fa9-4103-9054-c31a0d998f69        3   \n",
       "0   success               200  a75b62cb-5019-41f8-813c-bee4ee3622b7        4   \n",
       "0   success               200  b22232ae-0ec4-4440-b01f-6f4b6e2b5926        5   \n",
       "..      ...               ...                                   ...      ...   \n",
       "0   success               200  0e40b627-9079-411c-970c-74f410318386      625   \n",
       "0   success               200  12940f75-8557-4a13-bd58-a91f0093a4f6      626   \n",
       "0   success               200  a310b29d-1f28-417d-8747-c897007decfb      627   \n",
       "0   success               200  fdb8198b-1a02-4482-8862-f4bfb445cf3e      628   \n",
       "0   success               200  097bb743-beef-4e75-95b7-807cd0a74fb4      629   \n",
       "\n",
       "    tile_num                submit_time  dbs_job_hour  \\\n",
       "0      23547 2022-03-19 01:23:29.174715             1   \n",
       "0      23548 2022-03-19 01:23:29.250816             1   \n",
       "0      23549 2022-03-19 01:23:29.354597             1   \n",
       "0      23550 2022-03-19 01:23:29.527405             1   \n",
       "0      23551 2022-03-19 01:23:29.709935             1   \n",
       "..       ...                        ...           ...   \n",
       "0      42935 2022-03-19 01:25:58.856843             1   \n",
       "0      42936 2022-03-19 01:25:59.160658             1   \n",
       "0      43326 2022-03-19 01:25:59.402581             1   \n",
       "0      45716 2022-03-19 01:25:59.594543             1   \n",
       "0      45970 2022-03-19 01:25:59.846384             1   \n",
       "\n",
       "                       algo_id        user          worker_type  \n",
       "0   do_topo_stack_3-1-5_ubuntu  lduncanson  maap-dps-worker-8gb  \n",
       "0   do_topo_stack_3-1-5_ubuntu  lduncanson  maap-dps-worker-8gb  \n",
       "0   do_topo_stack_3-1-5_ubuntu  lduncanson  maap-dps-worker-8gb  \n",
       "0   do_topo_stack_3-1-5_ubuntu  lduncanson  maap-dps-worker-8gb  \n",
       "0   do_topo_stack_3-1-5_ubuntu  lduncanson  maap-dps-worker-8gb  \n",
       "..                         ...         ...                  ...  \n",
       "0   do_topo_stack_3-1-5_ubuntu  lduncanson  maap-dps-worker-8gb  \n",
       "0   do_topo_stack_3-1-5_ubuntu  lduncanson  maap-dps-worker-8gb  \n",
       "0   do_topo_stack_3-1-5_ubuntu  lduncanson  maap-dps-worker-8gb  \n",
       "0   do_topo_stack_3-1-5_ubuntu  lduncanson  maap-dps-worker-8gb  \n",
       "0   do_topo_stack_3-1-5_ubuntu  lduncanson  maap-dps-worker-8gb  \n",
       "\n",
       "[629 rows x 10 columns]"
      ]
     },
     "execution_count": 61,
     "metadata": {},
     "output_type": "execute_result"
    }
   ],
   "source": [
    "%%time\n",
    "submit_results_df_list = []\n",
    "len_input_list = len(DPS_INPUT_TILE_NUM_LIST)\n",
    "print(f\"# of input tiles for DPS: {len_input_list}\")\n",
    "\n",
    "for i, INPUT_TILE_NUM in enumerate(DPS_INPUT_TILE_NUM_LIST[10:]):\n",
    "\n",
    "    DPS_num = i+1\n",
    "    IDENTIFIER = 'do_topo_stack_3-1-5'\n",
    "    ALGO_ID = f'{IDENTIFIER}_ubuntu'\n",
    "    USER = 'lduncanson'\n",
    "    WORKER_TYPE = 'maap-dps-worker-8gb'\n",
    "    \n",
    "    in_param_dict = {\n",
    "                         'in_tile_fn': 'https://maap-ops-workspace.s3.amazonaws.com/shared/nathanmthomas/boreal_tiles_v003.gpkg',\n",
    "                         'in_tile_num': INPUT_TILE_NUM,\n",
    "                         'tile_buffer_m': 120,\n",
    "                         'in_tile_layer': 'boreal_tiles_v003',\n",
    "                         'topo_tile_fn': 'https://maap-ops-workspace.s3.amazonaws.com/shared/nathanmthomas/dem30m_tiles.geojson',\n",
    "        }\n",
    "\n",
    "    submit_result = maap.submitJob(\n",
    "            identifier=IDENTIFIER,\n",
    "            algo_id=ALGO_ID,\n",
    "            version='master',\n",
    "            username=USER, # username needs to be the same as whoever created the workspace\n",
    "            queue=WORKER_TYPE,\n",
    "            **in_param_dict\n",
    "        )\n",
    "    \n",
    "    # Build a dataframe of submission details\n",
    "    submit_result['dps_num'] = DPS_num\n",
    "    submit_result['tile_num'] = INPUT_TILE_NUM\n",
    "    submit_result['submit_time'] = datetime.datetime.now()\n",
    "    submit_result['dbs_job_hour'] =datetime.datetime.now().hour\n",
    "    submit_result['algo_id'] = ALGO_ID\n",
    "    submit_result['user'] = USER\n",
    "    submit_result['worker_type'] = WORKER_TYPE\n",
    "    \n",
    "    # Append to a list of data frames of submission results\n",
    "    submit_results_df_list.append(pd.DataFrame([submit_result]))\n",
    "    \n",
    "    if DPS_num in [1, 100, 500, 1000, 1500, 2000, 3000, 5000, 7000, 9000, 11000, 13000, 15000, 17000, 19000, 21000, 24000, len_input_list]:\n",
    "        print(f\"DPS run #: {DPS_num}\\t| tile num: {INPUT_TILE_NUM}\\t| submit status: {submit_result['status']}\\t| job id: {submit_result['job_id']}\") \n",
    "        \n",
    "# Build a final submission results df and save\n",
    "submit_results_df = pd.concat(submit_results_df_list)\n",
    "nowtime = pd.Timestamp.now().strftime('%Y%m%d%H%M')\n",
    "print(f\"Current time:\\t{nowtime}\")\n",
    "submit_results_df.to_csv(f'/projects/my-public-bucket/DPS_{IDENTIFIER}_submission_results_{len_input_list}_{nowtime}.csv')\n",
    "submit_results_df"
   ]
  },
  {
   "cell_type": "markdown",
   "id": "a883d938",
   "metadata": {},
   "source": [
    "After almost any DPS job, you have to assess what succeeded and failed. This involves:\n",
    "1. building a table of job status based on job ids captured in the job_results_df from the DPS run chunk (this takes 40 mins for ~47k jobs) --> this tells you how many jobs failed\n",
    "2. merging the job status table with the job results df --> this tells you which specific granules (or tile nums) failed\n",
    "3. building another input list of granules for a follow-up DPS\n",
    "## Assess DPS results\n",
    "Build a table of job status based on job id - how many jobs failed?"
   ]
  },
  {
   "cell_type": "code",
   "execution_count": 68,
   "id": "0c610afc",
   "metadata": {},
   "outputs": [
    {
     "name": "stdout",
     "output_type": "stream",
     "text": [
      "Count total jobs:\t629\n",
      "Count pending jobs:\t0\n",
      "Count running jobs:\t414\n",
      "Count succeeded jobs:\t60\n",
      "Count failed jobs:\t155\n",
      "% of failed jobs:\t72.09\n",
      "CPU times: user 6.6 s, sys: 456 ms, total: 7.06 s\n",
      "Wall time: 19 s\n"
     ]
    }
   ],
   "source": [
    "%%time\n",
    "def BUILD_TABLE_JOBSTATUS(submit_results_df):\n",
    "    import xmltodict\n",
    "    df = pd.concat([pd.DataFrame(xmltodict.parse(maap.getJobStatus(job_id).content)).transpose() for job_id in submit_results_df.job_id.to_list()])\n",
    "    return df\n",
    "\n",
    "job_status_df = BUILD_TABLE_JOBSTATUS(submit_results_df)\n",
    "#print(job_status_df.head())\n",
    "\n",
    "num_jobs = submit_results_df.shape[0]\n",
    "z = submit_results_df.merge(job_status_df, how='left', left_on='job_id',  right_on='wps:JobID')\n",
    "\n",
    "print(f'Count total jobs:\\t{num_jobs}')\n",
    "print(f\"Count pending jobs:\\t{z[z['wps:Status'] =='Accepted'].shape[0]}\")\n",
    "print(f\"Count running jobs:\\t{z[z['wps:Status'] =='Running'].shape[0]}\")\n",
    "print(f\"Count succeeded jobs:\\t{z[z['wps:Status'] =='Succeeded'].shape[0]}\")\n",
    "print(f\"Count failed jobs:\\t{z[z['wps:Status'] =='Failed'].shape[0]}\")\n",
    "print(f\"% of failed jobs:\\t{round(z[z['wps:Status'] =='Failed'].shape[0] / ( z[z['wps:Status'] =='Failed'].shape[0] + z[z['wps:Status'] =='Succeeded'].shape[0] ), 4) * 100}\")"
   ]
  },
  {
   "cell_type": "code",
   "execution_count": 48,
   "id": "3c04f884",
   "metadata": {},
   "outputs": [
    {
     "data": {
      "text/plain": [
       "OrderedDict([('wps:Result',\n",
       "              OrderedDict([('@xmlns:ows', 'http://www.opengis.net/ows/2.0'),\n",
       "                           ('@xmlns:schemaLocation',\n",
       "                            'http://schemas.opengis.net/wps/2.0/wps.xsd'),\n",
       "                           ('@xmlns:wps', 'http://www.opengis.net/wps/2.0'),\n",
       "                           ('@xmlns:xsi',\n",
       "                            'http://www.w3.org/2001/XMLSchema-instance'),\n",
       "                           ('wps:JobID',\n",
       "                            '442f4441-deaa-4799-bc1f-ad2622927da5'),\n",
       "                           ('wps:Output',\n",
       "                            OrderedDict([('@id',\n",
       "                                          'output-2022-03-11T21:39:30.224518'),\n",
       "                                         ('wps:Data',\n",
       "                                          ['http://maap-ops-workspace.s3-website-us-west-2.amazonaws.com/lduncanson/dps_output/run_tile_atl08_ubuntu/master/2022/03/11/21/39/30/224518',\n",
       "                                           's3://s3.us-west-2.amazonaws.com:80/maap-ops-workspace/lduncanson/dps_output/run_tile_atl08_ubuntu/master/2022/03/11/21/39/30/224518',\n",
       "                                           'https://s3.console.aws.amazon.com/s3/buckets/maap-ops-workspace/lduncanson/dps_output/run_tile_atl08_ubuntu/master/2022/03/11/21/39/30/224518/?region=us-east-1&tab=overview'])]))]))])"
      ]
     },
     "execution_count": 48,
     "metadata": {},
     "output_type": "execute_result"
    }
   ],
   "source": [
    "xmltodict.parse(maap.getJobResult(z[z['wps:Status'] =='Succeeded'].iloc[3].job_id).content)"
   ]
  },
  {
   "cell_type": "code",
   "execution_count": 67,
   "id": "9c35f24e",
   "metadata": {},
   "outputs": [
    {
     "data": {
      "text/plain": [
       "OrderedDict([('wps:Result',\n",
       "              OrderedDict([('@xmlns:ows', 'http://www.opengis.net/ows/2.0'),\n",
       "                           ('@xmlns:schemaLocation',\n",
       "                            'http://schemas.opengis.net/wps/2.0/wps.xsd'),\n",
       "                           ('@xmlns:wps', 'http://www.opengis.net/wps/2.0'),\n",
       "                           ('@xmlns:xsi',\n",
       "                            'http://www.w3.org/2001/XMLSchema-instance'),\n",
       "                           ('wps:JobID',\n",
       "                            'bb33d840-9e34-4c20-b786-04e94d4103af'),\n",
       "                           ('wps:Output',\n",
       "                            OrderedDict([('@id', 'traceback'),\n",
       "                                         ('wps:Data',\n",
       "                                          'activate does not accept more than one argument:\\n[\\'/app/icesat2_boreal/dps/alg_3-1-5/run.sh\\', \\'24620\\', \\'120\\', \\'boreal_tiles_v003\\']\\n\\n+ /app/icesat2_boreal/dps/alg_3-1-5/run.sh 24620 120 boreal_tiles_v003\\n+ unset PROJ_LIB\\n+ mkdir output\\n+++ dirname /app/icesat2_boreal/dps/alg_3-1-5/run.sh\\n++ cd /app/icesat2_boreal/dps/alg_3-1-5\\n++ pwd -P\\n+ basedir=/app/icesat2_boreal/dps/alg_3-1-5\\n+ FILENAMELIST=($(ls -d input/*))\\n++ ls -d input/boreal_tiles_v003.gpkg input/dem30m_tiles.geojson\\n+ INPUT1=/data/work/jobs/2022/03/19/01/29/job-do_topo_stack_3-1-5_ubuntu__master-20220319T012341.146916Z/input/boreal_tiles_v003.gpkg\\n+ INPUT2=/data/work/jobs/2022/03/19/01/29/job-do_topo_stack_3-1-5_ubuntu__master-20220319T012341.146916Z/input/dem30m_tiles.geojson\\n+ OUTPUTDIR=/data/work/jobs/2022/03/19/01/29/job-do_topo_stack_3-1-5_ubuntu__master-20220319T012341.146916Z/output\\n+ python /app/icesat2_boreal/dps/alg_3-1-5/../../lib/3.1.5_dps.py --in_tile_fn /data/work/jobs/2022/03/19/01/29/job-do_topo_stack_3-1-5_ubuntu__master-20220319T012341.146916Z/input/boreal_tiles_v003.gpkg --in_tile_num 24620 --tile_buffer_m 120 --in_tile_layer boreal_tiles_v003 --output_dir /data/work/jobs/2022/03/19/01/29/job-do_topo_stack_3-1-5_ubuntu__master-20220319T012341.146916Z/output --tmp_out_path /data/work/jobs/2022/03/19/01/29/job-do_topo_stack_3-1-5_ubuntu__master-20220319T012341.146916Z/output --topo_tile_fn /data/work/jobs/2022/03/19/01/29/job-do_topo_stack_3-1-5_ubuntu__master-20220319T012341.146916Z/input/dem30m_tiles.geojson\\nERROR 1: PROJ: proj_create_from_database: Open of /opt/conda/envs/icesat2_boreal/share/proj failed\\nTraceback (most recent call last):\\n  File \"rasterio/_io.pyx\", line 701, in rasterio._io.DatasetReaderBase._read\\n  File \"rasterio/shim_rasterioex.pxi\", line 162, in rasterio._shim.io_multi_band\\n  File \"rasterio/_err.pyx\", line 193, in rasterio._err.exc_wrap_int\\nrasterio._err.CPLE_AppDefinedError: IReadBlock failed at X offset 1, Y offset 0: /vsis3/copernicus-dem-30m/Copernicus_DSM_COG_10_N51_00_E008_00_DEM/Copernicus_DSM_COG_10_N51_00_E008_00_DEM.tif, band 1: IReadBlock failed at X offset 0, Y offset 1: TIFFReadEncodedTile() failed.\\n\\nDuring handling of the above exception, another exception occurred:\\n\\nTraceback (most recent call last):\\n  File \"/app/icesat2_boreal/dps/alg_3-1-5/../../lib/3.1.5_dps.py\", line 141, in <module>\\n    main()\\n  File \"/app/icesat2_boreal/dps/alg_3-1-5/../../lib/3.1.5_dps.py\", line 109, in main\\n    img = mosaic_reader(file_s3, reader, bbox, tile_parts[\\'tile_crs\\'], tile_parts[\\'tile_crs\\'], height, width) \\n  File \"/opt/conda/envs/icesat2_boreal/lib/python3.10/site-packages/rio_tiler/mosaic/reader.py\", line 80, in mosaic_reader\\n    for img, asset in filter_tasks(tasks, allowed_exceptions=allowed_exceptions,):\\n  File \"/opt/conda/envs/icesat2_boreal/lib/python3.10/site-packages/rio_tiler/tasks.py\", line 33, in filter_tasks\\n    yield future.result(), asset\\n  File \"/opt/conda/envs/icesat2_boreal/lib/python3.10/concurrent/futures/_base.py\", line 439, in result\\n    return self.__get_result()\\n  File \"/opt/conda/envs/icesat2_boreal/lib/python3.10/concurrent/futures/_base.py\", line 391, in __get_result\\n    raise self._exception\\n  File \"/opt/conda/envs/icesat2_boreal/lib/python3.10/concurrent/futures/thread.py\", line 58, in run\\n    result = self.fn(*self.args, **self.kwargs)\\n  File \"/app/icesat2_boreal/dps/alg_3-1-5/../../lib/3.1.5_dps.py\", line 24, in reader\\n    return cog.part(bbox, bounds_crs=epsg, max_size=None, dst_crs=dst_crs, height=height, width=width)\\n  File \"/opt/conda/envs/icesat2_boreal/lib/python3.10/site-packages/rio_tiler/io/cogeo.py\", line 350, in part\\n    data, mask = reader.part(\\n  File \"/opt/conda/envs/icesat2_boreal/lib/python3.10/site-packages/rio_tiler/reader.py\", line 226, in part\\n    return read(\\n  File \"/opt/conda/envs/icesat2_boreal/lib/python3.10/site-packages/rio_tiler/reader.py\", line 90, in read\\n    data = vrt.read(\\n  File \"rasterio/_warp.pyx\", line 1187, in rasterio._warp.WarpedVRTReaderBase.read\\n  File \"rasterio/_io.pyx\", line 367, in rasterio._io.DatasetReaderBase.read\\n  File \"rasterio/_io.pyx\", line 704, in rasterio._io.DatasetReaderBase._read\\nrasterio.errors.RasterioIOError: Read or write failed. IReadBlock failed at X offset 1, Y offset 0: /vsis3/copernicus-dem-30m/Copernicus_DSM_COG_10_N51_00_E008_00_DEM/Copernicus_DSM_COG_10_N51_00_E008_00_DEM.tif, band 1: IReadBlock failed at X offset 0, Y offset 1: TIFFReadEncodedTile() failed.\\n+ cp _stderr.txt _alt_traceback.txt')]))]))])"
      ]
     },
     "execution_count": 67,
     "metadata": {},
     "output_type": "execute_result"
    }
   ],
   "source": [
    "xmltodict.parse(maap.getJobResult(z[z['wps:Status'] =='Failed'].iloc[0].job_id).content)"
   ]
  },
  {
   "cell_type": "code",
   "execution_count": null,
   "id": "fc314843",
   "metadata": {},
   "outputs": [],
   "source": [
    "!python $basedir/../../lib/tile_atl08.py"
   ]
  }
 ],
 "metadata": {
  "kernelspec": {
   "display_name": "Python 3 (ipykernel)",
   "language": "python",
   "name": "python3"
  },
  "language_info": {
   "codemirror_mode": {
    "name": "ipython",
    "version": 3
   },
   "file_extension": ".py",
   "mimetype": "text/x-python",
   "name": "python",
   "nbconvert_exporter": "python",
   "pygments_lexer": "ipython3",
   "version": "3.7.8"
  }
 },
 "nbformat": 4,
 "nbformat_minor": 5
}
