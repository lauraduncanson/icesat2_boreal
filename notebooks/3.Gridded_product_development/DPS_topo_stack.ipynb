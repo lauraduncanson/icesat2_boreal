{
 "cells": [
  {
   "cell_type": "code",
   "execution_count": 29,
   "id": "2b3a3ee7",
   "metadata": {},
   "outputs": [],
   "source": [
    "from maap.maap import MAAP\n",
    "maap = MAAP(maap_host='api.ops.maap-project.org')"
   ]
  },
  {
   "cell_type": "markdown",
   "id": "fd81ec04",
   "metadata": {},
   "source": [
    "# Launch DPS for 3.1.5_dps.py\n"
   ]
  },
  {
   "cell_type": "code",
   "execution_count": 30,
   "id": "f7a8b69a",
   "metadata": {},
   "outputs": [
    {
     "name": "stdout",
     "output_type": "stream",
     "text": [
      "Requirement already satisfied: xmltodict in /opt/conda/lib/python3.7/site-packages (0.12.0)\n",
      "\u001b[33mWARNING: Running pip as the 'root' user can result in broken permissions and conflicting behaviour with the system package manager. It is recommended to use a virtual environment instead: https://pip.pypa.io/warnings/venv\u001b[0m\u001b[33m\n",
      "\u001b[0m\u001b[33mWARNING: You are using pip version 22.0.3; however, version 22.0.4 is available.\n",
      "You should consider upgrading via the '/opt/conda/bin/python3.7 -m pip install --upgrade pip' command.\u001b[0m\u001b[33m\n",
      "\u001b[0m"
     ]
    }
   ],
   "source": [
    "from os import path\n",
    "import os, glob\n",
    "import datetime\n",
    "import pandas as pd\n",
    "import geopandas as gpd\n",
    "!pip install xmltodict\n",
    "import xmltodict"
   ]
  },
  {
   "cell_type": "markdown",
   "id": "34f53927",
   "metadata": {},
   "source": [
    "### Build the input list of granules - s3fs implementation\n"
   ]
  },
  {
   "cell_type": "code",
   "execution_count": 31,
   "id": "a9e08d21",
   "metadata": {},
   "outputs": [
    {
     "name": "stdout",
     "output_type": "stream",
     "text": [
      "CPU times: user 51.7 ms, sys: 7.48 ms, total: 59.1 ms\n",
      "Wall time: 1.26 s\n"
     ]
    },
    {
     "data": {
      "text/plain": [
       "0"
      ]
     },
     "execution_count": 31,
     "metadata": {},
     "output_type": "execute_result"
    }
   ],
   "source": [
    "%%time\n",
    "import s3fs\n",
    "s3 = s3fs.S3FileSystem()\n",
    "bucket = \"s3://maap-ops-workspace\"\n",
    "searchkey_list = [f'nathanmthomas/dps_output/do_topo_stack_3-1-5_ubuntu/master/2021/10/**/*.tif' for DAY in ['03','04','05']]\n",
    "# Concat list of lists to data frame\n",
    "topo_path_df = pd.concat([pd.DataFrame(s3.glob(os.path.join(bucket, searchkey)), columns=['maap_path']) for searchkey in searchkey_list])\n",
    "\n",
    "#Convert data frame to list\n",
    "INPUT_TILE_NUM_LIST = [i.replace(\"maap-ops-workspace\", \"https://maap-ops-workspace.s3.amazonaws.com\") for i in topo_path_df.maap_path.to_list()]\n",
    "len(INPUT_TILE_NUM_LIST)"
   ]
  },
  {
   "cell_type": "markdown",
   "id": "60e4bc95",
   "metadata": {},
   "source": [
    "### Get new tiles for version 3\n"
   ]
  },
  {
   "cell_type": "code",
   "execution_count": 32,
   "id": "71bae95e",
   "metadata": {},
   "outputs": [
    {
     "data": {
      "image/png": "[encoded data removed]",
      "text/plain": [
       "<Figure size 432x288 with 1 Axes>"
      ]
     },
     "metadata": {
      "needs_background": "light"
     },
     "output_type": "display_data"
    }
   ],
   "source": [
    "# Get all boreal tiles\n",
    "boreal_tile_index_path = '/projects/shared-buckets/nathanmthomas/boreal_tiles_v003.gpkg' #shared-buckets/nathanmthomas/boreal_grid_albers90k_gpkg.gpkg\n",
    "boreal_tile_index = gpd.read_file(boreal_tile_index_path)\n",
    "\n",
    "bad_tiles = [3540,3634,3728,3823,3916,4004] #Dropping the tiles near antimeridian that reproject poorly.\n",
    "if True:\n",
    "    # Remove bad tiles\n",
    "    boreal_tile_index = boreal_tile_index[~boreal_tile_index['tile_num'].isin(bad_tiles)]\n",
    "\n",
    "boreal_tile_index.plot(column='tile_version')\n",
    "boreal_tile_index.groupby('tile_version')['tile_group'].agg(['count'])\n",
    "\n",
    "INPUT_TILE_NUM_LIST = boreal_tile_index[boreal_tile_index.tile_version == 'version 2'].tile_num.to_list()"
   ]
  },
  {
   "cell_type": "code",
   "execution_count": 33,
   "id": "49bcaa74",
   "metadata": {},
   "outputs": [
    {
     "data": {
      "text/plain": [
       "639"
      ]
     },
     "execution_count": 33,
     "metadata": {},
     "output_type": "execute_result"
    }
   ],
   "source": [
    " len(INPUT_TILE_NUM_LIST)"
   ]
  },
  {
   "cell_type": "code",
   "execution_count": 34,
   "id": "646155b6",
   "metadata": {},
   "outputs": [
    {
     "name": "stdout",
     "output_type": "stream",
     "text": [
      "Running DPS on the FULL list of input\n",
      "List length: 639\n"
     ]
    }
   ],
   "source": [
    "TEST_DPS  = False\n",
    "\n",
    "if TEST_DPS:\n",
    "    print('Running DPS on a SUBSET list of input')\n",
    "    DPS_INPUT_TILE_NUM_LIST = INPUT_TILE_NUM_LIST[-10:]\n",
    "else:\n",
    "    print('Running DPS on the FULL list of input')\n",
    "    DPS_INPUT_TILE_NUM_LIST = INPUT_TILE_NUM_LIST\n",
    "    \n",
    "print(f\"List length: {len(DPS_INPUT_TILE_NUM_LIST)}\")"
   ]
  },
  {
   "cell_type": "markdown",
   "id": "c1d80523",
   "metadata": {},
   "source": [
    "# Run a DPS of topo tiles"
   ]
  },
  {
   "cell_type": "code",
   "execution_count": 16,
   "id": "e95134b6",
   "metadata": {},
   "outputs": [
    {
     "name": "stdout",
     "output_type": "stream",
     "text": [
      "# of input tiles for DPS: 639\n",
      "DPS run #: 1\t| tile num: 22937\t| submit status: success\t| job id: 5bae5bee-b9cf-4b83-88ef-ef56e43ff4ce\n",
      "DPS run #: 100\t| tile num: 25181\t| submit status: success\t| job id: 89cd5948-0907-4f69-b193-10735e6985c7\n",
      "DPS run #: 500\t| tile num: 37073\t| submit status: success\t| job id: 736cbfa9-acad-4e2a-80f5-4205d1c7a818\n",
      "DPS run #: 639\t| tile num: 45970\t| submit status: success\t| job id: 9664acab-544b-4d81-a176-2f2853fb7687\n",
      "Current time:\t202203170207\n",
      "CPU times: user 8.33 s, sys: 450 ms, total: 8.78 s\n",
      "Wall time: 2min 36s\n"
     ]
    },
    {
     "data": {
      "text/html": [
       "<div>\n",
       "<style scoped>\n",
       "    .dataframe tbody tr th:only-of-type {\n",
       "        vertical-align: middle;\n",
       "    }\n",
       "\n",
       "    .dataframe tbody tr th {\n",
       "        vertical-align: top;\n",
       "    }\n",
       "\n",
       "    .dataframe thead th {\n",
       "        text-align: right;\n",
       "    }\n",
       "</style>\n",
       "<table border=\"1\" class=\"dataframe\">\n",
       "  <thead>\n",
       "    <tr style=\"text-align: right;\">\n",
       "      <th></th>\n",
       "      <th>status</th>\n",
       "      <th>http_status_code</th>\n",
       "      <th>job_id</th>\n",
       "      <th>dps_num</th>\n",
       "      <th>tile_num</th>\n",
       "      <th>submit_time</th>\n",
       "      <th>dbs_job_hour</th>\n",
       "      <th>algo_id</th>\n",
       "      <th>user</th>\n",
       "      <th>worker_type</th>\n",
       "    </tr>\n",
       "  </thead>\n",
       "  <tbody>\n",
       "    <tr>\n",
       "      <th>0</th>\n",
       "      <td>success</td>\n",
       "      <td>200</td>\n",
       "      <td>5bae5bee-b9cf-4b83-88ef-ef56e43ff4ce</td>\n",
       "      <td>1</td>\n",
       "      <td>22937</td>\n",
       "      <td>2022-03-17 02:04:48.878334</td>\n",
       "      <td>2</td>\n",
       "      <td>do_topo_stack_3-1-5_ubuntu</td>\n",
       "      <td>lduncanson</td>\n",
       "      <td>maap-dps-worker-8gb</td>\n",
       "    </tr>\n",
       "    <tr>\n",
       "      <th>0</th>\n",
       "      <td>success</td>\n",
       "      <td>200</td>\n",
       "      <td>4d39d603-a01a-4844-8e5b-a9637f907c72</td>\n",
       "      <td>2</td>\n",
       "      <td>22938</td>\n",
       "      <td>2022-03-17 02:04:48.957912</td>\n",
       "      <td>2</td>\n",
       "      <td>do_topo_stack_3-1-5_ubuntu</td>\n",
       "      <td>lduncanson</td>\n",
       "      <td>maap-dps-worker-8gb</td>\n",
       "    </tr>\n",
       "    <tr>\n",
       "      <th>0</th>\n",
       "      <td>success</td>\n",
       "      <td>200</td>\n",
       "      <td>e30fc24d-4fa2-4432-9f15-8f68871995bc</td>\n",
       "      <td>3</td>\n",
       "      <td>23217</td>\n",
       "      <td>2022-03-17 02:04:49.077199</td>\n",
       "      <td>2</td>\n",
       "      <td>do_topo_stack_3-1-5_ubuntu</td>\n",
       "      <td>lduncanson</td>\n",
       "      <td>maap-dps-worker-8gb</td>\n",
       "    </tr>\n",
       "    <tr>\n",
       "      <th>0</th>\n",
       "      <td>success</td>\n",
       "      <td>200</td>\n",
       "      <td>f4d8dc61-e938-4182-baaa-d60f1503f638</td>\n",
       "      <td>4</td>\n",
       "      <td>23218</td>\n",
       "      <td>2022-03-17 02:04:49.308896</td>\n",
       "      <td>2</td>\n",
       "      <td>do_topo_stack_3-1-5_ubuntu</td>\n",
       "      <td>lduncanson</td>\n",
       "      <td>maap-dps-worker-8gb</td>\n",
       "    </tr>\n",
       "    <tr>\n",
       "      <th>0</th>\n",
       "      <td>success</td>\n",
       "      <td>200</td>\n",
       "      <td>f7e02d48-7cd3-453f-a062-4b00c7171905</td>\n",
       "      <td>5</td>\n",
       "      <td>23219</td>\n",
       "      <td>2022-03-17 02:04:49.559852</td>\n",
       "      <td>2</td>\n",
       "      <td>do_topo_stack_3-1-5_ubuntu</td>\n",
       "      <td>lduncanson</td>\n",
       "      <td>maap-dps-worker-8gb</td>\n",
       "    </tr>\n",
       "    <tr>\n",
       "      <th>...</th>\n",
       "      <td>...</td>\n",
       "      <td>...</td>\n",
       "      <td>...</td>\n",
       "      <td>...</td>\n",
       "      <td>...</td>\n",
       "      <td>...</td>\n",
       "      <td>...</td>\n",
       "      <td>...</td>\n",
       "      <td>...</td>\n",
       "      <td>...</td>\n",
       "    </tr>\n",
       "    <tr>\n",
       "      <th>0</th>\n",
       "      <td>success</td>\n",
       "      <td>200</td>\n",
       "      <td>aa7c8705-39a5-4037-a7be-17d01a1ccc47</td>\n",
       "      <td>635</td>\n",
       "      <td>42935</td>\n",
       "      <td>2022-03-17 02:07:23.518273</td>\n",
       "      <td>2</td>\n",
       "      <td>do_topo_stack_3-1-5_ubuntu</td>\n",
       "      <td>lduncanson</td>\n",
       "      <td>maap-dps-worker-8gb</td>\n",
       "    </tr>\n",
       "    <tr>\n",
       "      <th>0</th>\n",
       "      <td>success</td>\n",
       "      <td>200</td>\n",
       "      <td>9cf16cb0-8a27-4beb-81a4-5ecd9a510ea1</td>\n",
       "      <td>636</td>\n",
       "      <td>42936</td>\n",
       "      <td>2022-03-17 02:07:23.763953</td>\n",
       "      <td>2</td>\n",
       "      <td>do_topo_stack_3-1-5_ubuntu</td>\n",
       "      <td>lduncanson</td>\n",
       "      <td>maap-dps-worker-8gb</td>\n",
       "    </tr>\n",
       "    <tr>\n",
       "      <th>0</th>\n",
       "      <td>success</td>\n",
       "      <td>200</td>\n",
       "      <td>330f0e6c-ced2-40b2-af06-97fa9a64ed22</td>\n",
       "      <td>637</td>\n",
       "      <td>43326</td>\n",
       "      <td>2022-03-17 02:07:23.991507</td>\n",
       "      <td>2</td>\n",
       "      <td>do_topo_stack_3-1-5_ubuntu</td>\n",
       "      <td>lduncanson</td>\n",
       "      <td>maap-dps-worker-8gb</td>\n",
       "    </tr>\n",
       "    <tr>\n",
       "      <th>0</th>\n",
       "      <td>success</td>\n",
       "      <td>200</td>\n",
       "      <td>9615a4a5-7442-4666-8750-f5d763a9efe1</td>\n",
       "      <td>638</td>\n",
       "      <td>45716</td>\n",
       "      <td>2022-03-17 02:07:24.209125</td>\n",
       "      <td>2</td>\n",
       "      <td>do_topo_stack_3-1-5_ubuntu</td>\n",
       "      <td>lduncanson</td>\n",
       "      <td>maap-dps-worker-8gb</td>\n",
       "    </tr>\n",
       "    <tr>\n",
       "      <th>0</th>\n",
       "      <td>success</td>\n",
       "      <td>200</td>\n",
       "      <td>9664acab-544b-4d81-a176-2f2853fb7687</td>\n",
       "      <td>639</td>\n",
       "      <td>45970</td>\n",
       "      <td>2022-03-17 02:07:24.610560</td>\n",
       "      <td>2</td>\n",
       "      <td>do_topo_stack_3-1-5_ubuntu</td>\n",
       "      <td>lduncanson</td>\n",
       "      <td>maap-dps-worker-8gb</td>\n",
       "    </tr>\n",
       "  </tbody>\n",
       "</table>\n",
       "<p>639 rows × 10 columns</p>\n",
       "</div>"
      ],
      "text/plain": [
       "     status  http_status_code                                job_id  dps_num  \\\n",
       "0   success               200  5bae5bee-b9cf-4b83-88ef-ef56e43ff4ce        1   \n",
       "0   success               200  4d39d603-a01a-4844-8e5b-a9637f907c72        2   \n",
       "0   success               200  e30fc24d-4fa2-4432-9f15-8f68871995bc        3   \n",
       "0   success               200  f4d8dc61-e938-4182-baaa-d60f1503f638        4   \n",
       "0   success               200  f7e02d48-7cd3-453f-a062-4b00c7171905        5   \n",
       "..      ...               ...                                   ...      ...   \n",
       "0   success               200  aa7c8705-39a5-4037-a7be-17d01a1ccc47      635   \n",
       "0   success               200  9cf16cb0-8a27-4beb-81a4-5ecd9a510ea1      636   \n",
       "0   success               200  330f0e6c-ced2-40b2-af06-97fa9a64ed22      637   \n",
       "0   success               200  9615a4a5-7442-4666-8750-f5d763a9efe1      638   \n",
       "0   success               200  9664acab-544b-4d81-a176-2f2853fb7687      639   \n",
       "\n",
       "    tile_num                submit_time  dbs_job_hour  \\\n",
       "0      22937 2022-03-17 02:04:48.878334             2   \n",
       "0      22938 2022-03-17 02:04:48.957912             2   \n",
       "0      23217 2022-03-17 02:04:49.077199             2   \n",
       "0      23218 2022-03-17 02:04:49.308896             2   \n",
       "0      23219 2022-03-17 02:04:49.559852             2   \n",
       "..       ...                        ...           ...   \n",
       "0      42935 2022-03-17 02:07:23.518273             2   \n",
       "0      42936 2022-03-17 02:07:23.763953             2   \n",
       "0      43326 2022-03-17 02:07:23.991507             2   \n",
       "0      45716 2022-03-17 02:07:24.209125             2   \n",
       "0      45970 2022-03-17 02:07:24.610560             2   \n",
       "\n",
       "                       algo_id        user          worker_type  \n",
       "0   do_topo_stack_3-1-5_ubuntu  lduncanson  maap-dps-worker-8gb  \n",
       "0   do_topo_stack_3-1-5_ubuntu  lduncanson  maap-dps-worker-8gb  \n",
       "0   do_topo_stack_3-1-5_ubuntu  lduncanson  maap-dps-worker-8gb  \n",
       "0   do_topo_stack_3-1-5_ubuntu  lduncanson  maap-dps-worker-8gb  \n",
       "0   do_topo_stack_3-1-5_ubuntu  lduncanson  maap-dps-worker-8gb  \n",
       "..                         ...         ...                  ...  \n",
       "0   do_topo_stack_3-1-5_ubuntu  lduncanson  maap-dps-worker-8gb  \n",
       "0   do_topo_stack_3-1-5_ubuntu  lduncanson  maap-dps-worker-8gb  \n",
       "0   do_topo_stack_3-1-5_ubuntu  lduncanson  maap-dps-worker-8gb  \n",
       "0   do_topo_stack_3-1-5_ubuntu  lduncanson  maap-dps-worker-8gb  \n",
       "0   do_topo_stack_3-1-5_ubuntu  lduncanson  maap-dps-worker-8gb  \n",
       "\n",
       "[639 rows x 10 columns]"
      ]
     },
     "execution_count": 16,
     "metadata": {},
     "output_type": "execute_result"
    }
   ],
   "source": [
    "%%time\n",
    "submit_results_df_list = []\n",
    "len_input_list = len(DPS_INPUT_TILE_NUM_LIST)\n",
    "print(f\"# of input tiles for DPS: {len_input_list}\")\n",
    "\n",
    "for i, INPUT_TILE_NUM in enumerate(DPS_INPUT_TILE_NUM_LIST):\n",
    "\n",
    "    DPS_num = i+1\n",
    "    IDENTIFIER = 'do_topo_stack_3-1-5'\n",
    "    ALGO_ID = f'{IDENTIFIER}_ubuntu'\n",
    "    USER = 'lduncanson'\n",
    "    WORKER_TYPE = 'maap-dps-worker-8gb'\n",
    "    \n",
    "    in_param_dict = {\n",
    "                         'in_tile_fn': 'https://maap-ops-workspace.s3.amazonaws.com/shared/nathanmthomas/boreal_tiles_v003.gpkg',\n",
    "                         'in_tile_num': INPUT_TILE_NUM,\n",
    "                         'tile_buffer_m': 120,\n",
    "                         'in_tile_layer': 'boreal_tiles_v003',\n",
    "                         'topo_tile_fn': 'https://maap-ops-workspace.s3.amazonaws.com/shared/nathanmthomas/dem30m_tiles.geojson',\n",
    "        }\n",
    "\n",
    "    submit_result = maap.submitJob(\n",
    "            identifier=IDENTIFIER,\n",
    "            algo_id=ALGO_ID,\n",
    "            version='master',\n",
    "            username=USER, # username needs to be the same as whoever created the workspace\n",
    "            queue=WORKER_TYPE,\n",
    "            **in_param_dict\n",
    "        )\n",
    "    \n",
    "    # Build a dataframe of submission details\n",
    "    submit_result['dps_num'] = DPS_num\n",
    "    submit_result['tile_num'] = INPUT_TILE_NUM\n",
    "    submit_result['submit_time'] = datetime.datetime.now()\n",
    "    submit_result['dbs_job_hour'] =datetime.datetime.now().hour\n",
    "    submit_result['algo_id'] = ALGO_ID\n",
    "    submit_result['user'] = USER\n",
    "    submit_result['worker_type'] = WORKER_TYPE\n",
    "    \n",
    "    # Append to a list of data frames of submission results\n",
    "    submit_results_df_list.append(pd.DataFrame([submit_result]))\n",
    "    \n",
    "    if DPS_num in [1, 100, 500, 1000, 1500, 2000, 3000, 5000, 7000, 9000, 11000, 13000, 15000, 17000, 19000, 21000, 24000, len_input_list]:\n",
    "        print(f\"DPS run #: {DPS_num}\\t| tile num: {INPUT_TILE_NUM}\\t| submit status: {submit_result['status']}\\t| job id: {submit_result['job_id']}\") \n",
    "        \n",
    "# Build a final submission results df and save\n",
    "submit_results_df = pd.concat(submit_results_df_list)\n",
    "nowtime = pd.Timestamp.now().strftime('%Y%m%d%H%M')\n",
    "print(f\"Current time:\\t{nowtime}\")\n",
    "submit_results_df.to_csv(f'/projects/my-public-bucket/DPS_{IDENTIFIER}_submission_results_{len_input_list}_{nowtime}.csv')\n",
    "submit_results_df"
   ]
  },
  {
   "cell_type": "markdown",
   "id": "6e07a98c",
   "metadata": {},
   "source": [
    "After almost any DPS job, you have to assess what succeeded and failed. This involves:\n",
    "1. building a table of job status based on job ids captured in the job_results_df from the DPS run chunk (this takes 40 mins for ~47k jobs) --> this tells you how many jobs failed\n",
    "2. merging the job status table with the job results df --> this tells you which specific granules (or tile nums) failed\n",
    "3. building another input list of granules for a follow-up DPS\n",
    "## Assess DPS results\n",
    "Build a table of job status based on job id - how many jobs failed?"
   ]
  },
  {
   "cell_type": "code",
   "execution_count": null,
   "id": "880fb3b1",
   "metadata": {},
   "outputs": [],
   "source": [
    "%%time\n",
    "def BUILD_TABLE_JOBSTATUS(submit_results_df):\n",
    "    import xmltodict\n",
    "    df = pd.concat([pd.DataFrame(xmltodict.parse(maap.getJobStatus(job_id).content)).transpose() for job_id in submit_results_df.job_id.to_list()])\n",
    "    return df\n",
    "\n",
    "job_status_df = BUILD_TABLE_JOBSTATUS(submit_results_df)\n",
    "#print(job_status_df.head())\n",
    "\n",
    "num_jobs = submit_results_df.shape[0]\n",
    "z = submit_results_df.merge(job_status_df, how='left', left_on='job_id',  right_on='wps:JobID')\n",
    "\n",
    "print(f'Count total jobs:\\t{num_jobs}')\n",
    "print(f\"Count pending jobs:\\t{z[z['wps:Status'] =='Accepted'].shape[0]}\")\n",
    "print(f\"Count running jobs:\\t{z[z['wps:Status'] =='Running'].shape[0]}\")\n",
    "print(f\"Count succeeded jobs:\\t{z[z['wps:Status'] =='Succeeded'].shape[0]}\")\n",
    "print(f\"Count failed jobs:\\t{z[z['wps:Status'] =='Failed'].shape[0]}\")\n",
    "print(f\"% of failed jobs:\\t{round(z[z['wps:Status'] =='Failed'].shape[0] / ( z[z['wps:Status'] =='Failed'].shape[0] + z[z['wps:Status'] =='Succeeded'].shape[0] ), 4) * 100}\")"
   ]
  },
  {
   "cell_type": "code",
   "execution_count": 48,
   "id": "caf579a8",
   "metadata": {},
   "outputs": [
    {
     "data": {
      "text/plain": [
       "OrderedDict([('wps:Result',\n",
       "              OrderedDict([('@xmlns:ows', 'http://www.opengis.net/ows/2.0'),\n",
       "                           ('@xmlns:schemaLocation',\n",
       "                            'http://schemas.opengis.net/wps/2.0/wps.xsd'),\n",
       "                           ('@xmlns:wps', 'http://www.opengis.net/wps/2.0'),\n",
       "                           ('@xmlns:xsi',\n",
       "                            'http://www.w3.org/2001/XMLSchema-instance'),\n",
       "                           ('wps:JobID',\n",
       "                            '442f4441-deaa-4799-bc1f-ad2622927da5'),\n",
       "                           ('wps:Output',\n",
       "                            OrderedDict([('@id',\n",
       "                                          'output-2022-03-11T21:39:30.224518'),\n",
       "                                         ('wps:Data',\n",
       "                                          ['http://maap-ops-workspace.s3-website-us-west-2.amazonaws.com/lduncanson/dps_output/run_tile_atl08_ubuntu/master/2022/03/11/21/39/30/224518',\n",
       "                                           's3://s3.us-west-2.amazonaws.com:80/maap-ops-workspace/lduncanson/dps_output/run_tile_atl08_ubuntu/master/2022/03/11/21/39/30/224518',\n",
       "                                           'https://s3.console.aws.amazon.com/s3/buckets/maap-ops-workspace/lduncanson/dps_output/run_tile_atl08_ubuntu/master/2022/03/11/21/39/30/224518/?region=us-east-1&tab=overview'])]))]))])"
      ]
     },
     "execution_count": 48,
     "metadata": {},
     "output_type": "execute_result"
    }
   ],
   "source": [
    "xmltodict.parse(maap.getJobResult(z[z['wps:Status'] =='Succeeded'].iloc[3].job_id).content)"
   ]
  },
  {
   "cell_type": "code",
   "execution_count": 25,
   "id": "096b04d9",
   "metadata": {},
   "outputs": [
    {
     "data": {
      "text/plain": [
       "OrderedDict([('wps:Result',\n",
       "              OrderedDict([('@xmlns:ows', 'http://www.opengis.net/ows/2.0'),\n",
       "                           ('@xmlns:schemaLocation',\n",
       "                            'http://schemas.opengis.net/wps/2.0/wps.xsd'),\n",
       "                           ('@xmlns:wps', 'http://www.opengis.net/wps/2.0'),\n",
       "                           ('@xmlns:xsi',\n",
       "                            'http://www.w3.org/2001/XMLSchema-instance'),\n",
       "                           ('wps:JobID',\n",
       "                            '07bf62d3-6488-49ab-bbae-81b45f09bfda'),\n",
       "                           ('wps:Output',\n",
       "                            OrderedDict([('@id', 'traceback'),\n",
       "                                         ('wps:Data',\n",
       "                                          'activate does not accept more than one argument:\\n[\\'/app/icesat2_boreal/dps/alg_3-1-5/run.sh\\', \\'23551\\', \\'120\\', \\'boreal_tiles_v003\\']\\n\\n+ /app/icesat2_boreal/dps/alg_3-1-5/run.sh 23551 120 boreal_tiles_v003\\n+ unset PROJ_LIB\\n+ mkdir output\\n+++ dirname /app/icesat2_boreal/dps/alg_3-1-5/run.sh\\n++ cd /app/icesat2_boreal/dps/alg_3-1-5\\n++ pwd -P\\n+ basedir=/app/icesat2_boreal/dps/alg_3-1-5\\n+ FILENAMELIST=($(ls -d input/*))\\n++ ls -d input/boreal_tiles_v003.gpkg input/dem30m_tiles.geojson\\n+ INPUT1=/data/work/jobs/2022/03/17/02/12/job-do_topo_stack_3-1-5_ubuntu__master-20220317T020451.554987Z/input/boreal_tiles_v003.gpkg\\n+ INPUT2=/data/work/jobs/2022/03/17/02/12/job-do_topo_stack_3-1-5_ubuntu__master-20220317T020451.554987Z/input/dem30m_tiles.geojson\\n+ OUTPUTDIR=/data/work/jobs/2022/03/17/02/12/job-do_topo_stack_3-1-5_ubuntu__master-20220317T020451.554987Z/output\\n+ python /app/icesat2_boreal/dps/alg_3-1-5/../../lib/3.1.5_dps.py --in_tile_fn /data/work/jobs/2022/03/17/02/12/job-do_topo_stack_3-1-5_ubuntu__master-20220317T020451.554987Z/input/boreal_tiles_v003.gpkg --in_tile_num 23551 --tile_buffer_m 120 --in_tile_layer boreal_tiles_v003 --output_dir /data/work/jobs/2022/03/17/02/12/job-do_topo_stack_3-1-5_ubuntu__master-20220317T020451.554987Z/output --tmp_out_path /data/work/jobs/2022/03/17/02/12/job-do_topo_stack_3-1-5_ubuntu__master-20220317T020451.554987Z/output --topo_tile_fn /data/work/jobs/2022/03/17/02/12/job-do_topo_stack_3-1-5_ubuntu__master-20220317T020451.554987Z/input/dem30m_tiles.geojson\\nERROR 1: PROJ: proj_create_from_database: Open of /opt/conda/envs/icesat2_boreal/share/proj failed\\nTraceback (most recent call last):\\n  File \"rasterio/_io.pyx\", line 701, in rasterio._io.DatasetReaderBase._read\\n  File \"rasterio/shim_rasterioex.pxi\", line 162, in rasterio._shim.io_multi_band\\n  File \"rasterio/_err.pyx\", line 193, in rasterio._err.exc_wrap_int\\nrasterio._err.CPLE_AppDefinedError: IReadBlock failed at X offset 0, Y offset 11: /vsis3/copernicus-dem-30m/Copernicus_DSM_COG_10_N50_00_W004_00_DEM/Copernicus_DSM_COG_10_N50_00_W004_00_DEM.tif, band 1: IReadBlock failed at X offset 1, Y offset 2: TIFFReadEncodedTile() failed.\\n\\nDuring handling of the above exception, another exception occurred:\\n\\nTraceback (most recent call last):\\n  File \"/app/icesat2_boreal/dps/alg_3-1-5/../../lib/3.1.5_dps.py\", line 141, in <module>\\n    main()\\n  File \"/app/icesat2_boreal/dps/alg_3-1-5/../../lib/3.1.5_dps.py\", line 109, in main\\n    img = mosaic_reader(file_s3, reader, bbox, tile_parts[\\'tile_crs\\'], tile_parts[\\'tile_crs\\'], height, width) \\n  File \"/opt/conda/envs/icesat2_boreal/lib/python3.10/site-packages/rio_tiler/mosaic/reader.py\", line 80, in mosaic_reader\\n    for img, asset in filter_tasks(tasks, allowed_exceptions=allowed_exceptions,):\\n  File \"/opt/conda/envs/icesat2_boreal/lib/python3.10/site-packages/rio_tiler/tasks.py\", line 33, in filter_tasks\\n    yield future.result(), asset\\n  File \"/opt/conda/envs/icesat2_boreal/lib/python3.10/concurrent/futures/_base.py\", line 439, in result\\n    return self.__get_result()\\n  File \"/opt/conda/envs/icesat2_boreal/lib/python3.10/concurrent/futures/_base.py\", line 391, in __get_result\\n    raise self._exception\\n  File \"/opt/conda/envs/icesat2_boreal/lib/python3.10/concurrent/futures/thread.py\", line 58, in run\\n    result = self.fn(*self.args, **self.kwargs)\\n  File \"/app/icesat2_boreal/dps/alg_3-1-5/../../lib/3.1.5_dps.py\", line 24, in reader\\n    return cog.part(bbox, bounds_crs=epsg, max_size=None, dst_crs=dst_crs, height=height, width=width)\\n  File \"/opt/conda/envs/icesat2_boreal/lib/python3.10/site-packages/rio_tiler/io/cogeo.py\", line 350, in part\\n    data, mask = reader.part(\\n  File \"/opt/conda/envs/icesat2_boreal/lib/python3.10/site-packages/rio_tiler/reader.py\", line 226, in part\\n    return read(\\n  File \"/opt/conda/envs/icesat2_boreal/lib/python3.10/site-packages/rio_tiler/reader.py\", line 90, in read\\n    data = vrt.read(\\n  File \"rasterio/_warp.pyx\", line 1187, in rasterio._warp.WarpedVRTReaderBase.read\\n  File \"rasterio/_io.pyx\", line 367, in rasterio._io.DatasetReaderBase.read\\n  File \"rasterio/_io.pyx\", line 704, in rasterio._io.DatasetReaderBase._read\\nrasterio.errors.RasterioIOError: Read or write failed. IReadBlock failed at X offset 0, Y offset 11: /vsis3/copernicus-dem-30m/Copernicus_DSM_COG_10_N50_00_W004_00_DEM/Copernicus_DSM_COG_10_N50_00_W004_00_DEM.tif, band 1: IReadBlock failed at X offset 1, Y offset 2: TIFFReadEncodedTile() failed.\\n+ cp _stderr.txt _alt_traceback.txt')]))]))])"
      ]
     },
     "execution_count": 25,
     "metadata": {},
     "output_type": "execute_result"
    }
   ],
   "source": [
    "xmltodict.parse(maap.getJobResult(z[z['wps:Status'] =='Failed'].iloc[0].job_id).content)"
   ]
  },
  {
   "cell_type": "code",
   "execution_count": null,
   "id": "b990682c",
   "metadata": {},
   "outputs": [],
   "source": [
    "!python $basedir/../../lib/tile_atl08.py"
   ]
  }
 ],
 "metadata": {
  "kernelspec": {
   "display_name": "Python 3 (ipykernel)",
   "language": "python",
   "name": "python3"
  },
  "language_info": {
   "codemirror_mode": {
    "name": "ipython",
    "version": 3
   },
   "file_extension": ".py",
   "mimetype": "text/x-python",
   "name": "python",
   "nbconvert_exporter": "python",
   "pygments_lexer": "ipython3",
   "version": "3.7.8"
  }
 },
 "nbformat": 4,
 "nbformat_minor": 5
}
