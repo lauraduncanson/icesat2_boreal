{
 "cells": [
  {
   "cell_type": "code",
   "execution_count": 1,
   "id": "e1369ccb",
   "metadata": {},
   "outputs": [],
   "source": [
    "from maap.maap import MAAP\n",
    "maap = MAAP(maap_host='api.ops.maap-project.org')"
   ]
  },
  {
   "cell_type": "markdown",
   "id": "c2519bad",
   "metadata": {},
   "source": [
    "# Launch DPS for 3.1.5_dps.py\n"
   ]
  },
  {
   "cell_type": "code",
   "execution_count": 13,
   "id": "4881218b",
   "metadata": {},
   "outputs": [
    {
     "name": "stdout",
     "output_type": "stream",
     "text": [
      "Requirement already satisfied: xmltodict in /opt/conda/lib/python3.7/site-packages (0.12.0)\n",
      "\u001b[33mWARNING: Running pip as the 'root' user can result in broken permissions and conflicting behaviour with the system package manager. It is recommended to use a virtual environment instead: https://pip.pypa.io/warnings/venv\u001b[0m\u001b[33m\n",
      "\u001b[0m\u001b[33mWARNING: You are using pip version 22.0.3; however, version 22.0.4 is available.\n",
      "You should consider upgrading via the '/opt/conda/bin/python3.7 -m pip install --upgrade pip' command.\u001b[0m\u001b[33m\n",
      "\u001b[0m"
     ]
    }
   ],
   "source": [
    "from os import path\n",
    "import os, glob\n",
    "import datetime\n",
    "import pandas as pd\n",
    "import geopandas as gpd\n",
    "!pip install xmltodict\n",
    "import xmltodict\n",
    "import collections\n",
    "import sys\n",
    "sys.path.append('/projects/Developer/icesat2_boreal/lib')\n",
    "import ExtractUtils"
   ]
  },
  {
   "cell_type": "markdown",
   "id": "b1aa00b7",
   "metadata": {},
   "source": [
    "### Build the input list of granules - s3fs implementation\n"
   ]
  },
  {
   "cell_type": "code",
   "execution_count": 3,
   "id": "b550b3df",
   "metadata": {},
   "outputs": [
    {
     "name": "stdout",
     "output_type": "stream",
     "text": [
      "CPU times: user 951 ms, sys: 59.2 ms, total: 1.01 s\n",
      "Wall time: 2.61 s\n"
     ]
    },
    {
     "data": {
      "text/plain": [
       "1420"
      ]
     },
     "execution_count": 3,
     "metadata": {},
     "output_type": "execute_result"
    }
   ],
   "source": [
    "%%time\n",
    "import s3fs\n",
    "s3 = s3fs.S3FileSystem()\n",
    "bucket = \"s3://maap-ops-workspace\"\n",
    "searchkey_list = [f'nathanmthomas/dps_output/do_topo_stack_3-1-5_ubuntu/master/2022/03/**/*.tif' for DAY in ['16','17','18','19']]\n",
    "searchkey_list = [f'nathanmthomas/dps_output/do_topo_stack_3-1-5_ubuntu/master/2022/03/**/*.tif']\n",
    "# Concat list of lists to data frame\n",
    "topo_path_df = pd.concat([pd.DataFrame(s3.glob(os.path.join(bucket, searchkey)), columns=['maap_path']) for searchkey in searchkey_list])\n",
    "\n",
    "#Convert data frame to list\n",
    "INPUT_TILE_NUM_LIST = [i.replace(\"maap-ops-workspace\", \"https://maap-ops-workspace.s3.amazonaws.com\") for i in topo_path_df.maap_path.to_list()]\n",
    "len(INPUT_TILE_NUM_LIST)"
   ]
  },
  {
   "cell_type": "code",
   "execution_count": 31,
   "id": "e01ec6f1",
   "metadata": {},
   "outputs": [
    {
     "name": "stdout",
     "output_type": "stream",
     "text": [
      "/opt/conda/lib/python3.7/site-packages/geopandas/_compat.py:110: UserWarning: The Shapely GEOS version (3.8.0-CAPI-1.13.1 ) is incompatible with the GEOS version PyGEOS was compiled with (3.10.1-CAPI-1.16.0). Conversions between both will be slow.\n",
      "  shapely_geos_version, geos_capi_version_string\n",
      "\n",
      "Building a list of tiles:\n",
      "MAAP version:\t\tops\n",
      "Type:\t\tTopo\n",
      "Year:\t\t2021\n",
      "Month:\t\t['07', '09']\n",
      "Days:\t\t1-31\n",
      "\n",
      "Output dir:  /projects/my-public-bucket/DPS_tile_lists\n",
      "                                             s3_path  ...                                    file\n",
      "0  s3://maap-ops-workspace/nathanmthomas/dps_outp...  ...  Copernicus_1_covars_cog_topo_stack.tif\n",
      "1  s3://maap-ops-workspace/nathanmthomas/dps_outp...  ...  Copernicus_4_covars_cog_topo_stack.tif\n",
      "2  s3://maap-ops-workspace/nathanmthomas/dps_outp...  ...  Copernicus_5_covars_cog_topo_stack.tif\n",
      "3  s3://maap-ops-workspace/nathanmthomas/dps_outp...  ...  Copernicus_6_covars_cog_topo_stack.tif\n",
      "4  s3://maap-ops-workspace/nathanmthomas/dps_outp...  ...  Copernicus_9_covars_cog_topo_stack.tif\n",
      "\n",
      "[5 rows x 3 columns]\n",
      "\n",
      "No duplicates found.\n",
      "\n",
      "# of duplicate tiles: 0\n",
      "Final # of tiles: 4433\n",
      "df shape :                                                 s3_path  ... tile_num\n",
      "2212  s3://maap-ops-workspace/nathanmthomas/dps_outp...  ...     4551\n",
      "2211  s3://maap-ops-workspace/nathanmthomas/dps_outp...  ...     4555\n",
      "2210  s3://maap-ops-workspace/nathanmthomas/dps_outp...  ...     4553\n",
      "2209  s3://maap-ops-workspace/nathanmthomas/dps_outp...  ...     4554\n",
      "2208  s3://maap-ops-workspace/nathanmthomas/dps_outp...  ...     4552\n",
      "\n",
      "[5 rows x 4 columns]\n",
      "Writing tindex master csv: /projects/my-public-bucket/DPS_tile_lists/Topo_tindex_master.csv\n",
      "/opt/conda/lib/python3.7/site-packages/geopandas/_compat.py:110: UserWarning: The Shapely GEOS version (3.8.0-CAPI-1.13.1 ) is incompatible with the GEOS version PyGEOS was compiled with (3.10.1-CAPI-1.16.0). Conversions between both will be slow.\n",
      "  shapely_geos_version, geos_capi_version_string\n",
      "\n",
      "Building a list of tiles:\n",
      "MAAP version:\t\tmaster\n",
      "Type:\t\tTopo\n",
      "Year:\t\t2022\n",
      "Month:\t\t['03', '04']\n",
      "Days:\t\t1-31\n",
      "\n",
      "Output dir:  /projects/my-public-bucket/DPS_tile_lists\n",
      "                                             s3_path  ...                                 file\n",
      "0  s3://maap-ops-workspace/nathanmthomas/dps_outp...  ...  Copernicus_34446_cog_topo_stack.tif\n",
      "1  s3://maap-ops-workspace/nathanmthomas/dps_outp...  ...  Copernicus_34447_cog_topo_stack.tif\n",
      "2  s3://maap-ops-workspace/nathanmthomas/dps_outp...  ...  Copernicus_34903_cog_topo_stack.tif\n",
      "3  s3://maap-ops-workspace/nathanmthomas/dps_outp...  ...  Copernicus_27635_cog_topo_stack.tif\n",
      "4  s3://maap-ops-workspace/nathanmthomas/dps_outp...  ...  Copernicus_36472_cog_topo_stack.tif\n",
      "\n",
      "[5 rows x 3 columns]\n",
      "Appending to existing tindex...\n",
      "/projects/.local/lib/python3.7/site-packages/pandas/core/indexing.py:1597: SettingWithCopyWarning: \n",
      "A value is trying to be set on a copy of a slice from a DataFrame.\n",
      "Try using .loc[row_indexer,col_indexer] = value instead\n",
      "\n",
      "See the caveats in the documentation: https://pandas.pydata.org/pandas-docs/stable/user_guide/indexing.html#returning-a-view-versus-a-copy\n",
      "  self.obj[key] = value\n",
      "/projects/.local/lib/python3.7/site-packages/pandas/core/indexing.py:1720: SettingWithCopyWarning: \n",
      "A value is trying to be set on a copy of a slice from a DataFrame.\n",
      "Try using .loc[row_indexer,col_indexer] = value instead\n",
      "\n",
      "See the caveats in the documentation: https://pandas.pydata.org/pandas-docs/stable/user_guide/indexing.html#returning-a-view-versus-a-copy\n",
      "  self._setitem_single_column(loc, value, pi)\n",
      "# of duplicate tiles: 123\n",
      "Final # of tiles: 5220\n",
      "df shape :    Unnamed: 0  ... tile_num\n",
      "0      2212.0  ...     4551\n",
      "1      2211.0  ...     4555\n",
      "2      2210.0  ...     4553\n",
      "3      2209.0  ...     4554\n",
      "4      2208.0  ...     4552\n",
      "\n",
      "[5 rows x 5 columns]\n",
      "Writing tindex master csv: /projects/my-public-bucket/DPS_tile_lists/Topo_tindex_master.csv\n"
     ]
    }
   ],
   "source": [
    "!python /projects/Developer/icesat2_boreal/lib/build_tindex_master.py -t Topo -y 2021 --dps_month_list 07 09 --maap_version ops\n",
    "!python /projects/Developer/icesat2_boreal/lib/build_tindex_master.py -t Topo -y 2022 --dps_month_list 03 04 --maap_version master --tindex_append"
   ]
  },
  {
   "cell_type": "markdown",
   "id": "2886cd1b",
   "metadata": {},
   "source": [
    "### Get new tiles for version 3\n"
   ]
  },
  {
   "cell_type": "code",
   "execution_count": 4,
   "id": "b3058599",
   "metadata": {},
   "outputs": [
    {
     "data": {
      "image/png": "[encoded data removed]",
      "text/plain": [
       "<Figure size 432x288 with 1 Axes>"
      ]
     },
     "metadata": {
      "needs_background": "light"
     },
     "output_type": "display_data"
    }
   ],
   "source": [
    "# Get all boreal tiles\n",
    "boreal_tile_index_path = '/projects/shared-buckets/nathanmthomas/boreal_tiles_v003.gpkg' #shared-buckets/nathanmthomas/boreal_grid_albers90k_gpkg.gpkg\n",
    "boreal_tile_index = gpd.read_file(boreal_tile_index_path)\n",
    "\n",
    "bad_tiles = [3540,3634,3728,3823,3916,4004] #Dropping the tiles near antimeridian that reproject poorly.\n",
    "if True:\n",
    "    # Remove bad tiles\n",
    "    boreal_tile_index = boreal_tile_index[~boreal_tile_index['tile_num'].isin(bad_tiles)]\n",
    "\n",
    "boreal_tile_index.plot(column='tile_version')\n",
    "boreal_tile_index.groupby('tile_version')['tile_group'].agg(['count'])\n",
    "\n",
    "INPUT_TILE_NUM_LIST = boreal_tile_index[boreal_tile_index.tile_version == 'version 2'].tile_num.to_list()"
   ]
  },
  {
   "cell_type": "code",
   "execution_count": 5,
   "id": "80898736",
   "metadata": {},
   "outputs": [
    {
     "name": "stderr",
     "output_type": "stream",
     "text": [
      "/opt/conda/lib/python3.7/site-packages/geopandas/plotting.py:681: UserWarning: The GeoDataFrame you are attempting to plot is empty. Nothing has been displayed.\n",
      "  UserWarning,\n"
     ]
    },
    {
     "data": {
      "image/png": "[encoded data removed]",
      "text/plain": [
       "<Figure size 432x288 with 1 Axes>"
      ]
     },
     "metadata": {
      "needs_background": "light"
     },
     "output_type": "display_data"
    }
   ],
   "source": [
    "need_tile_index_path = '/projects/my-public-bucket/DPS_tile_lists/Need_Topo_tindex_master.gpkg'\n",
    "need_tile_index = gpd.read_file(need_tile_index_path)\n",
    "\n",
    "if True:\n",
    "    # Remove bad tiles\n",
    "    need_tile_index = need_tile_index[~need_tile_index['tile_num'].isin(bad_tiles)]\n",
    "\n",
    "ax = boreal_tile_index.plot(color='gray')\n",
    "need_tile_index[need_tile_index.tile_version == 'version 2'].plot(column='tile_group', ax=ax)\n",
    "\n",
    "need_tile_index[need_tile_index.tile_version == 'version 2'].groupby('tile_version')['tile_group'].agg(['count'])\n",
    "\n",
    "INPUT_TILE_NUM_LIST = need_tile_index[need_tile_index.tile_version == 'version 2'].tile_num.to_list()"
   ]
  },
  {
   "cell_type": "code",
   "execution_count": 25,
   "id": "1918b4b4",
   "metadata": {},
   "outputs": [
    {
     "data": {
      "text/plain": [
       "1"
      ]
     },
     "execution_count": 25,
     "metadata": {},
     "output_type": "execute_result"
    }
   ],
   "source": [
    "INPUT_TILE_NUM_LIST = [4253,27365,36922,36473,36026,36027]\n",
    "INPUT_TILE_NUM_LIST =[36469]\n",
    "len(INPUT_TILE_NUM_LIST)"
   ]
  },
  {
   "cell_type": "code",
   "execution_count": 27,
   "id": "453c51fb",
   "metadata": {},
   "outputs": [
    {
     "name": "stdout",
     "output_type": "stream",
     "text": [
      "Running DPS on the FULL list of input\n",
      "List length: 1\n"
     ]
    }
   ],
   "source": [
    "TEST_DPS  = False\n",
    "\n",
    "if TEST_DPS:\n",
    "    print('Running DPS on a SUBSET list of input')\n",
    "    DPS_INPUT_TILE_NUM_LIST = INPUT_TILE_NUM_LIST[0:100] #INPUT_TILE_NUM_LIST[100:]\n",
    "else:\n",
    "    print('Running DPS on the FULL list of input')\n",
    "    DPS_INPUT_TILE_NUM_LIST = INPUT_TILE_NUM_LIST\n",
    "    \n",
    "print(f\"List length: {len(DPS_INPUT_TILE_NUM_LIST)}\")"
   ]
  },
  {
   "cell_type": "markdown",
   "id": "453e60d8",
   "metadata": {},
   "source": [
    "# Run a DPS of topo tiles"
   ]
  },
  {
   "cell_type": "code",
   "execution_count": 28,
   "id": "8029f2e6",
   "metadata": {},
   "outputs": [
    {
     "name": "stdout",
     "output_type": "stream",
     "text": [
      "# of input tiles for DPS: 1\n",
      "DPS run #: 1\t| tile num: 36469\t| submit status: success\t| job id: 6b894424-c44e-41ee-8b46-dade46fb731b\n",
      "Current time:\t202204211923\n",
      "CPU times: user 17.7 ms, sys: 0 ns, total: 17.7 ms\n",
      "Wall time: 277 ms\n"
     ]
    },
    {
     "data": {
      "text/html": [
       "<div>\n",
       "<style scoped>\n",
       "    .dataframe tbody tr th:only-of-type {\n",
       "        vertical-align: middle;\n",
       "    }\n",
       "\n",
       "    .dataframe tbody tr th {\n",
       "        vertical-align: top;\n",
       "    }\n",
       "\n",
       "    .dataframe thead th {\n",
       "        text-align: right;\n",
       "    }\n",
       "</style>\n",
       "<table border=\"1\" class=\"dataframe\">\n",
       "  <thead>\n",
       "    <tr style=\"text-align: right;\">\n",
       "      <th></th>\n",
       "      <th>status</th>\n",
       "      <th>http_status_code</th>\n",
       "      <th>job_id</th>\n",
       "      <th>dps_num</th>\n",
       "      <th>tile_num</th>\n",
       "      <th>submit_time</th>\n",
       "      <th>dbs_job_hour</th>\n",
       "      <th>algo_id</th>\n",
       "      <th>user</th>\n",
       "      <th>worker_type</th>\n",
       "    </tr>\n",
       "  </thead>\n",
       "  <tbody>\n",
       "    <tr>\n",
       "      <th>0</th>\n",
       "      <td>success</td>\n",
       "      <td>200</td>\n",
       "      <td>6b894424-c44e-41ee-8b46-dade46fb731b</td>\n",
       "      <td>1</td>\n",
       "      <td>36469</td>\n",
       "      <td>2022-04-21 19:23:37.368078</td>\n",
       "      <td>19</td>\n",
       "      <td>do_topo_stack_3-1-5_ubuntu</td>\n",
       "      <td>nathanmthomas</td>\n",
       "      <td>maap-dps-worker-8gb</td>\n",
       "    </tr>\n",
       "  </tbody>\n",
       "</table>\n",
       "</div>"
      ],
      "text/plain": [
       "    status  http_status_code                                job_id  dps_num  \\\n",
       "0  success               200  6b894424-c44e-41ee-8b46-dade46fb731b        1   \n",
       "\n",
       "   tile_num                submit_time  dbs_job_hour  \\\n",
       "0     36469 2022-04-21 19:23:37.368078            19   \n",
       "\n",
       "                      algo_id           user          worker_type  \n",
       "0  do_topo_stack_3-1-5_ubuntu  nathanmthomas  maap-dps-worker-8gb  "
      ]
     },
     "execution_count": 28,
     "metadata": {},
     "output_type": "execute_result"
    }
   ],
   "source": [
    "%%time\n",
    "submit_results_df_list = []\n",
    "len_input_list = len(DPS_INPUT_TILE_NUM_LIST)\n",
    "print(f\"# of input tiles for DPS: {len_input_list}\")\n",
    "\n",
    "for i, INPUT_TILE_NUM in enumerate(DPS_INPUT_TILE_NUM_LIST):\n",
    "\n",
    "    DPS_num = i+1\n",
    "    IDENTIFIER = 'do_topo_stack_3-1-5'\n",
    "    ALGO_ID = f'{IDENTIFIER}_ubuntu'\n",
    "    USER = 'nathanmthomas'\n",
    "    WORKER_TYPE = 'maap-dps-worker-8gb'\n",
    "    \n",
    "    in_param_dict = {\n",
    "                         'in_tile_fn': 'https://maap-ops-workspace.s3.amazonaws.com/shared/nathanmthomas/boreal_tiles_v003.gpkg',\n",
    "                         'in_tile_num': INPUT_TILE_NUM,\n",
    "                         'tile_buffer_m': 120,\n",
    "                         'in_tile_layer': 'boreal_tiles_v003',\n",
    "                         'topo_tile_fn': 'https://maap-ops-workspace.s3.amazonaws.com/shared/nathanmthomas/dem30m_tiles.geojson',\n",
    "        }\n",
    "\n",
    "    submit_result = maap.submitJob(\n",
    "            identifier=IDENTIFIER,\n",
    "            algo_id=ALGO_ID,\n",
    "            version='master',\n",
    "            username=USER, # username needs to be the same as whoever created the workspace\n",
    "            queue=WORKER_TYPE,\n",
    "            **in_param_dict\n",
    "        )\n",
    "    \n",
    "    # Build a dataframe of submission details\n",
    "    submit_result['dps_num'] = DPS_num\n",
    "    submit_result['tile_num'] = INPUT_TILE_NUM\n",
    "    submit_result['submit_time'] = datetime.datetime.now()\n",
    "    submit_result['dbs_job_hour'] =datetime.datetime.now().hour\n",
    "    submit_result['algo_id'] = ALGO_ID\n",
    "    submit_result['user'] = USER\n",
    "    submit_result['worker_type'] = WORKER_TYPE\n",
    "    \n",
    "    # Append to a list of data frames of submission results\n",
    "    submit_results_df_list.append(pd.DataFrame([submit_result]))\n",
    "    \n",
    "    if DPS_num in [1, 100, 500, 1000, 1500, 2000, 3000, 5000, 7000, 9000, 11000, 13000, 15000, 17000, 19000, 21000, 24000, len_input_list]:\n",
    "        print(f\"DPS run #: {DPS_num}\\t| tile num: {INPUT_TILE_NUM}\\t| submit status: {submit_result['status']}\\t| job id: {submit_result['job_id']}\") \n",
    "        \n",
    "# Build a final submission results df and save\n",
    "submit_results_df = pd.concat(submit_results_df_list)\n",
    "nowtime = pd.Timestamp.now().strftime('%Y%m%d%H%M')\n",
    "print(f\"Current time:\\t{nowtime}\")\n",
    "submit_results_df.to_csv(f'/projects/my-public-bucket/dps_submission_results/DPS_{IDENTIFIER}_submission_results_{len_input_list}_{nowtime}.csv')\n",
    "submit_results_df"
   ]
  },
  {
   "cell_type": "markdown",
   "id": "c2590aea",
   "metadata": {},
   "source": [
    "After almost any DPS job, you have to assess what succeeded and failed. This involves:\n",
    "1. building a table of job status based on job ids captured in the job_results_df from the DPS run chunk (this takes 40 mins for ~47k jobs) --> this tells you how many jobs failed\n",
    "2. merging the job status table with the job results df --> this tells you which specific granules (or tile nums) failed\n",
    "3. building another input list of granules for a follow-up DPS\n",
    "## Assess DPS results\n",
    "Build a table of job status based on job id - how many jobs failed?"
   ]
  },
  {
   "cell_type": "code",
   "execution_count": 30,
   "id": "9c19e714",
   "metadata": {},
   "outputs": [
    {
     "name": "stdout",
     "output_type": "stream",
     "text": [
      "DPS alg:\t\tdo_topo_stack_3-1-5\n",
      "DPS launch time:\t202204211923\n",
      "Count total jobs:\t1\n",
      "Count pending jobs:\t0\n",
      "Count running jobs:\t0\n",
      "Count succeeded jobs:\t1\n",
      "Count failed jobs:\t0\n",
      "% of failed jobs:\tNothing has failed...yet\n",
      "\n",
      "DPS alg:\t\tdo_topo_stack_3-1-5\n",
      "DPS launch time:\t202204211923\n",
      "Count total jobs:\t7\n",
      "Count pending jobs:\t0\n",
      "Count running jobs:\t5\n",
      "Count succeeded jobs:\t1\n",
      "Count failed jobs:\t1\n",
      "% of failed jobs:\t50.0\n",
      "\n",
      "DPS alg:\t\tdo_topo_stack_3-1-5\n",
      "DPS launch time:\t202204211907\n",
      "Count total jobs:\t7\n",
      "Count pending jobs:\t0\n",
      "Count running jobs:\t0\n",
      "Count succeeded jobs:\t6\n",
      "Count failed jobs:\t1\n",
      "% of failed jobs:\t14.29\n",
      "\n",
      "CPU times: user 196 ms, sys: 14.1 ms, total: 211 ms\n",
      "Wall time: 921 ms\n"
     ]
    }
   ],
   "source": [
    "%%time\n",
    "LIST_SUBMISSIONS = sorted(glob.glob(f'/projects/my-public-bucket/dps_submission_results/DPS_{IDENTIFIER}_submission_results_*.csv'),key=ExtractUtils.func, reverse=True)\n",
    "for DPS_DATETIME in ['2022042119']:\n",
    "    for fn in LIST_SUBMISSIONS:\n",
    "        if DPS_DATETIME in fn and not 'job_status' in fn:\n",
    "            DPS_alg_id = os.path.basename(fn.split('_submission_results_')[0].replace('DPS_',''))\n",
    "            thentime = fn.split('_')[-1].replace('.csv','')\n",
    "            print(f'DPS alg:\\t\\t{DPS_alg_id}')\n",
    "            print(f'DPS launch time:\\t{thentime}')\n",
    "            z = ExtractUtils.BUILD_TABLE_JOBSTATUS(pd.read_csv(fn))\n",
    "            # Save job status table\n",
    "            z.to_csv(f'/projects/my-public-bucket/dps_submission_results/DPS_{IDENTIFIER}_submission_results_job_status_{len(z)}_{thentime}.csv')"
   ]
  },
  {
   "cell_type": "code",
   "execution_count": 23,
   "id": "bda887f4",
   "metadata": {},
   "outputs": [
    {
     "data": {
      "text/plain": [
       "OrderedDict([('wps:Result',\n",
       "              OrderedDict([('@xmlns:ows', 'http://www.opengis.net/ows/2.0'),\n",
       "                           ('@xmlns:schemaLocation',\n",
       "                            'http://schemas.opengis.net/wps/2.0/wps.xsd'),\n",
       "                           ('@xmlns:wps', 'http://www.opengis.net/wps/2.0'),\n",
       "                           ('@xmlns:xsi',\n",
       "                            'http://www.w3.org/2001/XMLSchema-instance'),\n",
       "                           ('wps:JobID',\n",
       "                            '9ab97df7-726f-44fd-a638-7c3c6b68104d'),\n",
       "                           ('wps:Output',\n",
       "                            OrderedDict([('@id',\n",
       "                                          'output-2022-04-21T19:14:39.911298'),\n",
       "                                         ('wps:Data',\n",
       "                                          ['http://maap-ops-workspace.s3-website-us-west-2.amazonaws.com/nathanmthomas/dps_output/do_topo_stack_3-1-5_ubuntu/master/2022/04/21/19/14/39/911298',\n",
       "                                           's3://s3.us-west-2.amazonaws.com:80/maap-ops-workspace/nathanmthomas/dps_output/do_topo_stack_3-1-5_ubuntu/master/2022/04/21/19/14/39/911298',\n",
       "                                           'https://s3.console.aws.amazon.com/s3/buckets/maap-ops-workspace/nathanmthomas/dps_output/do_topo_stack_3-1-5_ubuntu/master/2022/04/21/19/14/39/911298/?region=us-east-1&tab=overview'])]))]))])"
      ]
     },
     "execution_count": 23,
     "metadata": {},
     "output_type": "execute_result"
    }
   ],
   "source": [
    "xmltodict.parse(maap.getJobResult(z[z['wps:Status'] =='Succeeded'].iloc[0].job_id).content)"
   ]
  },
  {
   "cell_type": "code",
   "execution_count": 24,
   "id": "cb890779",
   "metadata": {},
   "outputs": [
    {
     "data": {
      "text/plain": [
       "OrderedDict([('wps:Result',\n",
       "              OrderedDict([('@xmlns:ows', 'http://www.opengis.net/ows/2.0'),\n",
       "                           ('@xmlns:schemaLocation',\n",
       "                            'http://schemas.opengis.net/wps/2.0/wps.xsd'),\n",
       "                           ('@xmlns:wps', 'http://www.opengis.net/wps/2.0'),\n",
       "                           ('@xmlns:xsi',\n",
       "                            'http://www.w3.org/2001/XMLSchema-instance'),\n",
       "                           ('wps:JobID',\n",
       "                            'e7db9b48-8251-49f3-a1c4-6ae7de444cd5'),\n",
       "                           ('wps:Output',\n",
       "                            OrderedDict([('@id', 'traceback'),\n",
       "                                         ('wps:Data',\n",
       "                                          'activate does not accept more than one argument:\\n[\\'/app/icesat2_boreal/dps/alg_3-1-5/run.sh\\', \\'36369\\', \\'120\\', \\'boreal_tiles_v003\\']\\n\\n+ /app/icesat2_boreal/dps/alg_3-1-5/run.sh 36369 120 boreal_tiles_v003\\n+ unset PROJ_LIB\\n+ mkdir output\\n+++ dirname /app/icesat2_boreal/dps/alg_3-1-5/run.sh\\n++ cd /app/icesat2_boreal/dps/alg_3-1-5\\n++ pwd -P\\n+ basedir=/app/icesat2_boreal/dps/alg_3-1-5\\n+ FILENAMELIST=($(ls -d input/*))\\n++ ls -d input/boreal_tiles_v003.gpkg input/dem30m_tiles.geojson\\n+ INPUT1=/data/work/jobs/2022/04/21/19/13/job-do_topo_stack_3-1-5_ubuntu__master-20220421T190744.867394Z/input/boreal_tiles_v003.gpkg\\n+ INPUT2=/data/work/jobs/2022/04/21/19/13/job-do_topo_stack_3-1-5_ubuntu__master-20220421T190744.867394Z/input/dem30m_tiles.geojson\\n+ OUTPUTDIR=/data/work/jobs/2022/04/21/19/13/job-do_topo_stack_3-1-5_ubuntu__master-20220421T190744.867394Z/output\\n+ python /app/icesat2_boreal/dps/alg_3-1-5/../../lib/3.1.5_dps.py --in_tile_fn /data/work/jobs/2022/04/21/19/13/job-do_topo_stack_3-1-5_ubuntu__master-20220421T190744.867394Z/input/boreal_tiles_v003.gpkg --in_tile_num 36369 --tile_buffer_m 120 --in_tile_layer boreal_tiles_v003 --output_dir /data/work/jobs/2022/04/21/19/13/job-do_topo_stack_3-1-5_ubuntu__master-20220421T190744.867394Z/output --tmp_out_path /data/work/jobs/2022/04/21/19/13/job-do_topo_stack_3-1-5_ubuntu__master-20220421T190744.867394Z/output --topo_tile_fn /data/work/jobs/2022/04/21/19/13/job-do_topo_stack_3-1-5_ubuntu__master-20220421T190744.867394Z/input/dem30m_tiles.geojson\\nERROR 1: PROJ: proj_create_from_database: Open of /opt/conda/envs/icesat2_boreal/share/proj failed\\nTraceback (most recent call last):\\n  File \"/app/icesat2_boreal/dps/alg_3-1-5/../../lib/3.1.5_dps.py\", line 144, in <module>\\n    main()\\n  File \"/app/icesat2_boreal/dps/alg_3-1-5/../../lib/3.1.5_dps.py\", line 85, in main\\n    tile_parts = get_index_tile(vector_path=stack_tile_fn, id_col=args.in_tile_id_col, tile_id=stack_tile_id, buffer=tile_buffer_m, layer = stack_tile_layer)\\n  File \"/app/icesat2_boreal/lib/CovariateUtils.py\", line 75, in get_index_tile\\n    tile_parts[\"bbox_orig\"] = tile_parts[\"geom_orig\"].bounds.iloc[0].to_list()\\n  File \"/opt/conda/envs/icesat2_boreal/lib/python3.10/site-packages/pandas/core/indexing.py\", line 967, in __getitem__\\n    return self._getitem_axis(maybe_callable, axis=axis)\\n  File \"/opt/conda/envs/icesat2_boreal/lib/python3.10/site-packages/pandas/core/indexing.py\", line 1520, in _getitem_axis\\n    self._validate_integer(key, axis)\\n  File \"/opt/conda/envs/icesat2_boreal/lib/python3.10/site-packages/pandas/core/indexing.py\", line 1452, in _validate_integer\\n    raise IndexError(\"single positional indexer is out-of-bounds\")\\nIndexError: single positional indexer is out-of-bounds\\n+ cp _stderr.txt _alt_traceback.txt')]))]))])"
      ]
     },
     "execution_count": 24,
     "metadata": {},
     "output_type": "execute_result"
    }
   ],
   "source": [
    "xmltodict.parse(maap.getJobResult(z[z['wps:Status'] =='Failed'].iloc[0].job_id).content)"
   ]
  },
  {
   "cell_type": "markdown",
   "id": "d884c4d4",
   "metadata": {},
   "source": [
    "### Update the tile index master csv"
   ]
  },
  {
   "cell_type": "code",
   "execution_count": 50,
   "id": "beb290be",
   "metadata": {},
   "outputs": [
    {
     "name": "stdout",
     "output_type": "stream",
     "text": [
      "/projects/.local/lib/python3.7/site-packages/geopandas/_compat.py:110: UserWarning: The Shapely GEOS version (3.8.0-CAPI-1.13.1 ) is incompatible with the GEOS version PyGEOS was compiled with (3.10.1-CAPI-1.16.0). Conversions between both will be slow.\n",
      "  shapely_geos_version, geos_capi_version_string\n",
      "\n",
      "Building a list of tiles:\n",
      "MAAP version:\t\tmaster\n",
      "Type:\t\tTopo\n",
      "Year:\t\t2022\n",
      "Month:\t\t03\n",
      "Days:\t\t1-31\n",
      "\n",
      "Output dir:  /projects/my-public-bucket/Topo/master\n",
      "                                             s3_path  ...                                        file\n",
      "0  s3://maap-ops-workspace/nathanmthomas/dps_outp...  ...  Copernicus_23548_covars_cog_topo_stack.tif\n",
      "1  s3://maap-ops-workspace/nathanmthomas/dps_outp...  ...  Copernicus_23547_covars_cog_topo_stack.tif\n",
      "2  s3://maap-ops-workspace/nathanmthomas/dps_outp...  ...  Copernicus_23549_covars_cog_topo_stack.tif\n",
      "3  s3://maap-ops-workspace/nathanmthomas/dps_outp...  ...  Copernicus_23550_covars_cog_topo_stack.tif\n",
      "4  s3://maap-ops-workspace/nathanmthomas/dps_outp...  ...  Copernicus_23776_covars_cog_topo_stack.tif\n",
      "\n",
      "[5 rows x 3 columns]\n",
      "# of duplicate tiles: 88\n",
      "Final # of tiles: 639\n",
      "df shape :                                               s3_path  ... tile_num\n",
      "26  s3://maap-ops-workspace/nathanmthomas/dps_outp...  ...    24109\n",
      "89  s3://maap-ops-workspace/nathanmthomas/dps_outp...  ...    23551\n",
      "90  s3://maap-ops-workspace/nathanmthomas/dps_outp...  ...    23550\n",
      "91  s3://maap-ops-workspace/nathanmthomas/dps_outp...  ...    23833\n",
      "92  s3://maap-ops-workspace/nathanmthomas/dps_outp...  ...    23219\n",
      "\n",
      "[5 rows x 4 columns]\n",
      "Writing tindex master csv: /projects/my-public-bucket/Topo/master/Topo_tindex_master.csv\n"
     ]
    }
   ],
   "source": [
    "MAAP_VERSION = 'master'\n",
    "OUTDIR = f'/projects/my-public-bucket/Topo/{MAAP_VERSION}'\n",
    "!python /projects/Developer/icesat2_boreal/lib/build_tindex_master.py -t Topo -y 2022 -m 03 -o $OUTDIR --maap_version $MAAP_VERSION\n",
    "MAAP_VERSION = 'ops'\n",
    "OUTDIR = f'/projects/my-public-bucket/Topo/{MAAP_VERSION}'\n",
    "#!python /projects/Developer/icesat2_boreal/lib/build_tindex_master.py -t Topo -y 2021 -m '*' -o $OUTDIR --maap_version $MAAP_VERSION"
   ]
  },
  {
   "cell_type": "markdown",
   "id": "153827f6",
   "metadata": {},
   "source": [
    "# Combine Topo tindex master csvs from 'ops' and 'master', remove dups, and save to final list"
   ]
  },
  {
   "cell_type": "code",
   "execution_count": 51,
   "id": "b6becb04",
   "metadata": {},
   "outputs": [
    {
     "name": "stdout",
     "output_type": "stream",
     "text": [
      "[]\n",
      "5072\n"
     ]
    },
    {
     "data": {
      "text/html": [
       "<div>\n",
       "<style scoped>\n",
       "    .dataframe tbody tr th:only-of-type {\n",
       "        vertical-align: middle;\n",
       "    }\n",
       "\n",
       "    .dataframe tbody tr th {\n",
       "        vertical-align: top;\n",
       "    }\n",
       "\n",
       "    .dataframe thead th {\n",
       "        text-align: right;\n",
       "    }\n",
       "</style>\n",
       "<table border=\"1\" class=\"dataframe\">\n",
       "  <thead>\n",
       "    <tr style=\"text-align: right;\">\n",
       "      <th></th>\n",
       "      <th>Unnamed: 0</th>\n",
       "      <th>s3_path</th>\n",
       "      <th>local_path</th>\n",
       "      <th>file</th>\n",
       "      <th>tile_num</th>\n",
       "    </tr>\n",
       "  </thead>\n",
       "  <tbody>\n",
       "    <tr>\n",
       "      <th>0</th>\n",
       "      <td>26</td>\n",
       "      <td>s3://maap-ops-workspace/nathanmthomas/dps_outp...</td>\n",
       "      <td>/projects/my-private-bucket/dps_output/do_topo...</td>\n",
       "      <td>Copernicus_24109_covars_cog_topo_stack.tif</td>\n",
       "      <td>24109</td>\n",
       "    </tr>\n",
       "    <tr>\n",
       "      <th>1</th>\n",
       "      <td>89</td>\n",
       "      <td>s3://maap-ops-workspace/nathanmthomas/dps_outp...</td>\n",
       "      <td>/projects/my-private-bucket/dps_output/do_topo...</td>\n",
       "      <td>Copernicus_23551_covars_cog_topo_stack.tif</td>\n",
       "      <td>23551</td>\n",
       "    </tr>\n",
       "    <tr>\n",
       "      <th>2</th>\n",
       "      <td>90</td>\n",
       "      <td>s3://maap-ops-workspace/nathanmthomas/dps_outp...</td>\n",
       "      <td>/projects/my-private-bucket/dps_output/do_topo...</td>\n",
       "      <td>Copernicus_23550_covars_cog_topo_stack.tif</td>\n",
       "      <td>23550</td>\n",
       "    </tr>\n",
       "    <tr>\n",
       "      <th>3</th>\n",
       "      <td>91</td>\n",
       "      <td>s3://maap-ops-workspace/nathanmthomas/dps_outp...</td>\n",
       "      <td>/projects/my-private-bucket/dps_output/do_topo...</td>\n",
       "      <td>Copernicus_23833_covars_cog_topo_stack.tif</td>\n",
       "      <td>23833</td>\n",
       "    </tr>\n",
       "    <tr>\n",
       "      <th>4</th>\n",
       "      <td>92</td>\n",
       "      <td>s3://maap-ops-workspace/nathanmthomas/dps_outp...</td>\n",
       "      <td>/projects/my-private-bucket/dps_output/do_topo...</td>\n",
       "      <td>Copernicus_23219_covars_cog_topo_stack.tif</td>\n",
       "      <td>23219</td>\n",
       "    </tr>\n",
       "  </tbody>\n",
       "</table>\n",
       "</div>"
      ],
      "text/plain": [
       "   Unnamed: 0                                            s3_path  \\\n",
       "0          26  s3://maap-ops-workspace/nathanmthomas/dps_outp...   \n",
       "1          89  s3://maap-ops-workspace/nathanmthomas/dps_outp...   \n",
       "2          90  s3://maap-ops-workspace/nathanmthomas/dps_outp...   \n",
       "3          91  s3://maap-ops-workspace/nathanmthomas/dps_outp...   \n",
       "4          92  s3://maap-ops-workspace/nathanmthomas/dps_outp...   \n",
       "\n",
       "                                          local_path  \\\n",
       "0  /projects/my-private-bucket/dps_output/do_topo...   \n",
       "1  /projects/my-private-bucket/dps_output/do_topo...   \n",
       "2  /projects/my-private-bucket/dps_output/do_topo...   \n",
       "3  /projects/my-private-bucket/dps_output/do_topo...   \n",
       "4  /projects/my-private-bucket/dps_output/do_topo...   \n",
       "\n",
       "                                         file  tile_num  \n",
       "0  Copernicus_24109_covars_cog_topo_stack.tif     24109  \n",
       "1  Copernicus_23551_covars_cog_topo_stack.tif     23551  \n",
       "2  Copernicus_23550_covars_cog_topo_stack.tif     23550  \n",
       "3  Copernicus_23833_covars_cog_topo_stack.tif     23833  \n",
       "4  Copernicus_23219_covars_cog_topo_stack.tif     23219  "
      ]
     },
     "execution_count": 51,
     "metadata": {},
     "output_type": "execute_result"
    }
   ],
   "source": [
    "out_tindex_fn = '/projects/my-public-bucket/DPS_tile_lists/Topo_tindex_master.csv'\n",
    "fn_list = ['/projects/my-public-bucket/Topo/master/Topo_tindex_master.csv', '/projects/my-public-bucket/Topo/ops/Topo_tindex_master.csv']\n",
    "df = pd.concat([pd.read_csv(fn) for fn in fn_list])\n",
    "len(df)\n",
    "duplicate_tiles = [item for item, count in collections.Counter(df[\"tile_num\"]).items() if count > 1]\n",
    "print(duplicate_tiles)\n",
    "print(len(df))\n",
    "df.to_csv(out_tindex_fn)\n",
    "df.head()"
   ]
  },
  {
   "cell_type": "code",
   "execution_count": null,
   "id": "49b228f0",
   "metadata": {},
   "outputs": [],
   "source": []
  }
 ],
 "metadata": {
  "kernelspec": {
   "display_name": "Python 3 (ipykernel)",
   "language": "python",
   "name": "python3"
  },
  "language_info": {
   "codemirror_mode": {
    "name": "ipython",
    "version": 3
   },
   "file_extension": ".py",
   "mimetype": "text/x-python",
   "name": "python",
   "nbconvert_exporter": "python",
   "pygments_lexer": "ipython3",
   "version": "3.7.8"
  }
 },
 "nbformat": 4,
 "nbformat_minor": 5
}
