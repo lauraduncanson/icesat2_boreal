{
 "cells": [
  {
   "cell_type": "markdown",
   "metadata": {},
   "source": [
    "# Create Elevation Index\n",
    "\n",
    "Copernicus 30m DEM on [AWS open data](https://copernicus-dem-30m.s3.amazonaws.com/readme.html) does not have a spatial index of the available tiles. We need to generate one, joining it to the spatial index provided. The polygon index can then be used to query for scenes matching an analysis aoi.\n",
    "\n",
    "\n",
    "1. Download the index shapefile provided by copernicus\n",
    "2. Table join index vectors with list of available files on s3\n",
    "3. Save joined index\n",
    "4. Create visual to determine data availability\n"
   ]
  },
  {
   "cell_type": "code",
   "execution_count": 87,
   "metadata": {},
   "outputs": [],
   "source": [
    "import boto3\n",
    "import geopandas as gpd\n",
    "import os\n",
    "import pandas as pd\n",
    "\n",
    "index_dir = \"/projects/maap-users/alexdevseed/\"\n",
    "index_zip = \"/\".join([\"zip:/\", index_dir, \"grid.zip\"])\n",
    "index_shp = os.path.join(index_dir, \"dem30mGrid.json\")\n",
    "clean_index_geojson =  os.path.join(index_dir, \"dem30m_tiles.geojson\")"
   ]
  },
  {
   "cell_type": "code",
   "execution_count": 9,
   "metadata": {},
   "outputs": [
    {
     "name": "stdout",
     "output_type": "stream",
     "text": [
      "--2021-03-29 22:36:39--  https://copernicus-dem-30m.s3.amazonaws.com/grid.zip\n",
      "Resolving copernicus-dem-30m.s3.amazonaws.com (copernicus-dem-30m.s3.amazonaws.com)... 52.219.72.18\n",
      "Connecting to copernicus-dem-30m.s3.amazonaws.com (copernicus-dem-30m.s3.amazonaws.com)|52.219.72.18|:443... connected.\n",
      "HTTP request sent, awaiting response... 200 OK\n",
      "Length: 2244913 (2.1M) [application/x-zip-compressed]\n",
      "Saving to: ‘/projects/maap-users/alexdevseed/grid.zip’\n",
      "\n",
      "/projects/maap-user 100%[===================>]   2.14M  3.38MB/s    in 0.6s    \n",
      "\n",
      "2021-03-29 22:36:40 (3.38 MB/s) - ‘/projects/maap-users/alexdevseed/grid.zip’ saved [2244913/2244913]\n",
      "\n",
      "Archive:  /projects/maap-users/alexdevseed/grid.zip\n",
      "  inflating: /projects/maap-users/alexdevseed/dem30mGrid.dbf  \n",
      "  inflating: /projects/maap-users/alexdevseed/dem30mGrid.json  \n",
      "  inflating: /projects/maap-users/alexdevseed/dem30mGrid.prj  \n",
      "  inflating: /projects/maap-users/alexdevseed/dem30mGrid.shp  \n",
      "  inflating: /projects/maap-users/alexdevseed/dem30mGrid.shx  \n"
     ]
    }
   ],
   "source": [
    "#https://copernicus-dem-30m.s3.amazonaws.com/grid.zip\n",
    "# save as cop_dem_30m.zip\n",
    "!wget https://copernicus-dem-30m.s3.amazonaws.com/grid.zip -O $index_zip\n",
    "#!unzip -d $index_dir $index_zip # geopandas can read inside a zip"
   ]
  },
  {
   "cell_type": "code",
   "execution_count": 86,
   "metadata": {},
   "outputs": [
    {
     "name": "stdout",
     "output_type": "stream",
     "text": [
      "(64800, 2)\n"
     ]
    },
    {
     "data": {
      "text/html": [
       "<div>\n",
       "<style scoped>\n",
       "    .dataframe tbody tr th:only-of-type {\n",
       "        vertical-align: middle;\n",
       "    }\n",
       "\n",
       "    .dataframe tbody tr th {\n",
       "        vertical-align: top;\n",
       "    }\n",
       "\n",
       "    .dataframe thead th {\n",
       "        text-align: right;\n",
       "    }\n",
       "</style>\n",
       "<table border=\"1\" class=\"dataframe\">\n",
       "  <thead>\n",
       "    <tr style=\"text-align: right;\">\n",
       "      <th></th>\n",
       "      <th>id</th>\n",
       "      <th>geometry</th>\n",
       "    </tr>\n",
       "  </thead>\n",
       "  <tbody>\n",
       "    <tr>\n",
       "      <th>0</th>\n",
       "      <td>Copernicus_DSM_COG_10_N85_00_W180_00_DEM</td>\n",
       "      <td>POLYGON ((-180.001 85.000, -180.001 86.000, -1...</td>\n",
       "    </tr>\n",
       "    <tr>\n",
       "      <th>1</th>\n",
       "      <td>Copernicus_DSM_COG_10_N85_00_W179_00_DEM</td>\n",
       "      <td>POLYGON ((-179.001 85.000, -179.001 86.000, -1...</td>\n",
       "    </tr>\n",
       "    <tr>\n",
       "      <th>2</th>\n",
       "      <td>Copernicus_DSM_COG_10_N85_00_W178_00_DEM</td>\n",
       "      <td>POLYGON ((-178.001 85.000, -178.001 86.000, -1...</td>\n",
       "    </tr>\n",
       "    <tr>\n",
       "      <th>3</th>\n",
       "      <td>Copernicus_DSM_COG_10_N85_00_W177_00_DEM</td>\n",
       "      <td>POLYGON ((-177.001 85.000, -177.001 86.000, -1...</td>\n",
       "    </tr>\n",
       "    <tr>\n",
       "      <th>4</th>\n",
       "      <td>Copernicus_DSM_COG_10_N85_00_W176_00_DEM</td>\n",
       "      <td>POLYGON ((-176.001 85.000, -176.001 86.000, -1...</td>\n",
       "    </tr>\n",
       "  </tbody>\n",
       "</table>\n",
       "</div>"
      ],
      "text/plain": [
       "                                         id  \\\n",
       "0  Copernicus_DSM_COG_10_N85_00_W180_00_DEM   \n",
       "1  Copernicus_DSM_COG_10_N85_00_W179_00_DEM   \n",
       "2  Copernicus_DSM_COG_10_N85_00_W178_00_DEM   \n",
       "3  Copernicus_DSM_COG_10_N85_00_W177_00_DEM   \n",
       "4  Copernicus_DSM_COG_10_N85_00_W176_00_DEM   \n",
       "\n",
       "                                            geometry  \n",
       "0  POLYGON ((-180.001 85.000, -180.001 86.000, -1...  \n",
       "1  POLYGON ((-179.001 85.000, -179.001 86.000, -1...  \n",
       "2  POLYGON ((-178.001 85.000, -178.001 86.000, -1...  \n",
       "3  POLYGON ((-177.001 85.000, -177.001 86.000, -1...  \n",
       "4  POLYGON ((-176.001 85.000, -176.001 86.000, -1...  "
      ]
     },
     "execution_count": 86,
     "metadata": {},
     "output_type": "execute_result"
    }
   ],
   "source": [
    "dem_30m_index = gpd.read_file(index_zip)\n",
    "print(dem_30m_index.shape)\n",
    "dem_30m_index.head()"
   ]
  },
  {
   "cell_type": "code",
   "execution_count": 16,
   "metadata": {},
   "outputs": [],
   "source": [
    "s3 = boto3.resource('s3')\n",
    "bucket = s3.Bucket('copernicus-dem-30m')\n",
    "bucket_files = [s3_file.key for s3_file in bucket.objects.all()]"
   ]
  },
  {
   "cell_type": "code",
   "execution_count": 59,
   "metadata": {},
   "outputs": [
    {
     "name": "stdout",
     "output_type": "stream",
     "text": [
      "(26449, 3)\n"
     ]
    },
    {
     "data": {
      "text/html": [
       "<div>\n",
       "<style scoped>\n",
       "    .dataframe tbody tr th:only-of-type {\n",
       "        vertical-align: middle;\n",
       "    }\n",
       "\n",
       "    .dataframe tbody tr th {\n",
       "        vertical-align: top;\n",
       "    }\n",
       "\n",
       "    .dataframe thead th {\n",
       "        text-align: right;\n",
       "    }\n",
       "</style>\n",
       "<table border=\"1\" class=\"dataframe\">\n",
       "  <thead>\n",
       "    <tr style=\"text-align: right;\">\n",
       "      <th></th>\n",
       "      <th>key</th>\n",
       "      <th>id</th>\n",
       "      <th>s3</th>\n",
       "    </tr>\n",
       "  </thead>\n",
       "  <tbody>\n",
       "    <tr>\n",
       "      <th>0</th>\n",
       "      <td>Copernicus_DSM_COG_10_N00_00_E006_00_DEM/Coper...</td>\n",
       "      <td>Copernicus_DSM_COG_10_N00_00_E006_00_DEM</td>\n",
       "      <td>s3://copernicus-dem-30m/Copernicus_DSM_COG_10_...</td>\n",
       "    </tr>\n",
       "    <tr>\n",
       "      <th>1</th>\n",
       "      <td>Copernicus_DSM_COG_10_N00_00_E009_00_DEM/Coper...</td>\n",
       "      <td>Copernicus_DSM_COG_10_N00_00_E009_00_DEM</td>\n",
       "      <td>s3://copernicus-dem-30m/Copernicus_DSM_COG_10_...</td>\n",
       "    </tr>\n",
       "    <tr>\n",
       "      <th>2</th>\n",
       "      <td>Copernicus_DSM_COG_10_N00_00_E010_00_DEM/Coper...</td>\n",
       "      <td>Copernicus_DSM_COG_10_N00_00_E010_00_DEM</td>\n",
       "      <td>s3://copernicus-dem-30m/Copernicus_DSM_COG_10_...</td>\n",
       "    </tr>\n",
       "    <tr>\n",
       "      <th>3</th>\n",
       "      <td>Copernicus_DSM_COG_10_N00_00_E011_00_DEM/Coper...</td>\n",
       "      <td>Copernicus_DSM_COG_10_N00_00_E011_00_DEM</td>\n",
       "      <td>s3://copernicus-dem-30m/Copernicus_DSM_COG_10_...</td>\n",
       "    </tr>\n",
       "    <tr>\n",
       "      <th>4</th>\n",
       "      <td>Copernicus_DSM_COG_10_N00_00_E012_00_DEM/Coper...</td>\n",
       "      <td>Copernicus_DSM_COG_10_N00_00_E012_00_DEM</td>\n",
       "      <td>s3://copernicus-dem-30m/Copernicus_DSM_COG_10_...</td>\n",
       "    </tr>\n",
       "  </tbody>\n",
       "</table>\n",
       "</div>"
      ],
      "text/plain": [
       "                                                 key  \\\n",
       "0  Copernicus_DSM_COG_10_N00_00_E006_00_DEM/Coper...   \n",
       "1  Copernicus_DSM_COG_10_N00_00_E009_00_DEM/Coper...   \n",
       "2  Copernicus_DSM_COG_10_N00_00_E010_00_DEM/Coper...   \n",
       "3  Copernicus_DSM_COG_10_N00_00_E011_00_DEM/Coper...   \n",
       "4  Copernicus_DSM_COG_10_N00_00_E012_00_DEM/Coper...   \n",
       "\n",
       "                                         id  \\\n",
       "0  Copernicus_DSM_COG_10_N00_00_E006_00_DEM   \n",
       "1  Copernicus_DSM_COG_10_N00_00_E009_00_DEM   \n",
       "2  Copernicus_DSM_COG_10_N00_00_E010_00_DEM   \n",
       "3  Copernicus_DSM_COG_10_N00_00_E011_00_DEM   \n",
       "4  Copernicus_DSM_COG_10_N00_00_E012_00_DEM   \n",
       "\n",
       "                                                  s3  \n",
       "0  s3://copernicus-dem-30m/Copernicus_DSM_COG_10_...  \n",
       "1  s3://copernicus-dem-30m/Copernicus_DSM_COG_10_...  \n",
       "2  s3://copernicus-dem-30m/Copernicus_DSM_COG_10_...  \n",
       "3  s3://copernicus-dem-30m/Copernicus_DSM_COG_10_...  \n",
       "4  s3://copernicus-dem-30m/Copernicus_DSM_COG_10_...  "
      ]
     },
     "execution_count": 59,
     "metadata": {},
     "output_type": "execute_result"
    }
   ],
   "source": [
    "\n",
    "bf_df = pd.DataFrame(bucket_files, columns=[\"key\"])\n",
    "bf_df[\"id\"] = bf_df[\"key\"].str.split(pat=\"/\").str[0]\n",
    "bf_df[\"s3\"] = \"s3://copernicus-dem-30m/\" + bf_df[\"key\"]\n",
    "bf_df.head()"
   ]
  },
  {
   "cell_type": "code",
   "execution_count": 55,
   "metadata": {},
   "outputs": [],
   "source": [
    "dem_30m_index_new = dem_30m_index.merge(bf_df, on=\"id\")"
   ]
  },
  {
   "cell_type": "code",
   "execution_count": 98,
   "metadata": {},
   "outputs": [],
   "source": [
    "dem_30m_index_new.to_file(clean_index_geojson, driver=\"GeoJSON\")"
   ]
  },
  {
   "cell_type": "code",
   "execution_count": 88,
   "metadata": {},
   "outputs": [
    {
     "data": {
      "text/plain": [
       "<AxesSubplot:>"
      ]
     },
     "execution_count": 88,
     "metadata": {},
     "output_type": "execute_result"
    },
    {
     "data": {
      "image/png": "[encoded data removed]",
      "text/plain": [
       "<Figure size 432x288 with 1 Axes>"
      ]
     },
     "metadata": {
      "needs_background": "light"
     },
     "output_type": "display_data"
    }
   ],
   "source": [
    "dem_30m_index_new.plot()"
   ]
  },
  {
   "cell_type": "markdown",
   "metadata": {},
   "source": [
    "## Error Checking\n",
    "\n",
    "Looks pretty good with one small problem, the number of final tiles is not the same as the total number of files in s3. So we need to find the missing files and figure out what they are."
   ]
  },
  {
   "cell_type": "code",
   "execution_count": 89,
   "metadata": {},
   "outputs": [
    {
     "data": {
      "text/plain": [
       "4"
      ]
     },
     "execution_count": 89,
     "metadata": {},
     "output_type": "execute_result"
    }
   ],
   "source": [
    "# Compare the number of S3 files to the number of Tiles after inner join\n",
    "bf_df.shape[0]-dem_30m_index_new.shape[0]\n",
    "# 4 files did not match the index shp? Redo with right join to find which?"
   ]
  },
  {
   "cell_type": "code",
   "execution_count": 97,
   "metadata": {},
   "outputs": [
    {
     "data": {
      "text/html": [
       "<div>\n",
       "<style scoped>\n",
       "    .dataframe tbody tr th:only-of-type {\n",
       "        vertical-align: middle;\n",
       "    }\n",
       "\n",
       "    .dataframe tbody tr th {\n",
       "        vertical-align: top;\n",
       "    }\n",
       "\n",
       "    .dataframe thead th {\n",
       "        text-align: right;\n",
       "    }\n",
       "</style>\n",
       "<table border=\"1\" class=\"dataframe\">\n",
       "  <thead>\n",
       "    <tr style=\"text-align: right;\">\n",
       "      <th></th>\n",
       "      <th>key</th>\n",
       "      <th>id</th>\n",
       "      <th>s3</th>\n",
       "    </tr>\n",
       "  </thead>\n",
       "  <tbody>\n",
       "    <tr>\n",
       "      <th>26445</th>\n",
       "      <td>geometry.txt</td>\n",
       "      <td>geometry.txt</td>\n",
       "      <td>s3://copernicus-dem-30m/geometry.txt</td>\n",
       "    </tr>\n",
       "    <tr>\n",
       "      <th>26446</th>\n",
       "      <td>grid.zip</td>\n",
       "      <td>grid.zip</td>\n",
       "      <td>s3://copernicus-dem-30m/grid.zip</td>\n",
       "    </tr>\n",
       "    <tr>\n",
       "      <th>26447</th>\n",
       "      <td>readme.html</td>\n",
       "      <td>readme.html</td>\n",
       "      <td>s3://copernicus-dem-30m/readme.html</td>\n",
       "    </tr>\n",
       "    <tr>\n",
       "      <th>26448</th>\n",
       "      <td>tileList.txt</td>\n",
       "      <td>tileList.txt</td>\n",
       "      <td>s3://copernicus-dem-30m/tileList.txt</td>\n",
       "    </tr>\n",
       "  </tbody>\n",
       "</table>\n",
       "</div>"
      ],
      "text/plain": [
       "                key            id                                    s3\n",
       "26445  geometry.txt  geometry.txt  s3://copernicus-dem-30m/geometry.txt\n",
       "26446      grid.zip      grid.zip      s3://copernicus-dem-30m/grid.zip\n",
       "26447   readme.html   readme.html   s3://copernicus-dem-30m/readme.html\n",
       "26448  tileList.txt  tileList.txt  s3://copernicus-dem-30m/tileList.txt"
      ]
     },
     "execution_count": 97,
     "metadata": {},
     "output_type": "execute_result"
    }
   ],
   "source": [
    "# Do a right join, then select the records with no match\n",
    "# Or just do an search for id's not in the original json\n",
    "bf_df[~bf_df[\"id\"].isin(dem_30m_index[\"id\"])]\n",
    "#great none of those are actual tiles"
   ]
  }
 ],
 "metadata": {
  "kernelspec": {
   "display_name": "Python [conda env:root] *",
   "language": "python",
   "name": "conda-root-py"
  },
  "language_info": {
   "codemirror_mode": {
    "name": "ipython",
    "version": 3
   },
   "file_extension": ".py",
   "mimetype": "text/x-python",
   "name": "python",
   "nbconvert_exporter": "python",
   "pygments_lexer": "ipython3",
   "version": "3.7.8"
  }
 },
 "nbformat": 4,
 "nbformat_minor": 4
}
