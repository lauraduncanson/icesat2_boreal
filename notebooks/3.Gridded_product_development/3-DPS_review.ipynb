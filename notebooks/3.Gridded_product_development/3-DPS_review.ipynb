{
 "cells": [
  {
   "cell_type": "markdown",
   "id": "variable-controversy",
   "metadata": {},
   "source": [
    "# Review DPS outputs\n",
    "\n",
    "Make a mosaic of DPS outputs.\n",
    "\n",
    "1. make a list of the DPS output paths with build_tindex.master.py\n",
    "2. Identify duplicate tiles\n",
    "3. Identify matching tiles; merge tindex.master with the original index tile file\n",
    "3. convert the local paths to s3 paths\n",
    "4. reproject the bounds to 4326 - convert to geojson (save file or in mem object)\n",
    "5. make mosaicjson Mosaic.from_features\n",
    "6. send mosaicjson to the tile server"
   ]
  },
  {
   "cell_type": "code",
   "execution_count": 4,
   "id": "atlantic-humanity",
   "metadata": {},
   "outputs": [],
   "source": [
    "import geopandas as gpd\n",
    "import pandas as pd\n",
    "import os\n",
    "import json\n",
    "import collections\n",
    "\n",
    "def local_to_s3(url, user = 'nathanmthomas', type='public'):\n",
    "    ''' A Function to convert local paths to s3 urls'''\n",
    "    if type is 'public':\n",
    "        replacement_str = f's3://maap-ops-workspace/shared/{user}'\n",
    "    else:\n",
    "        replacement_str = f's3://maap-ops-workspace/{user}'\n",
    "    return url.replace(f'/projects/my-{type}-bucket', replacement_str)"
   ]
  },
  {
   "cell_type": "code",
   "execution_count": 5,
   "id": "swedish-oakland",
   "metadata": {},
   "outputs": [],
   "source": [
    "if False:\n",
    "    os.system(\"python /projects/icesat2_boreal/lib/build_tindex_master.py --type ATL08_filt\")\n",
    "    \n",
    "tindex_master_fn = 's3://maap-ops-workspace/shared/lduncanson/DPS_tile_lists/ATL08_filt_tindex_master.csv'"
   ]
  },
  {
   "cell_type": "code",
   "execution_count": 6,
   "id": "primary-intro",
   "metadata": {},
   "outputs": [
    {
     "name": "stdout",
     "output_type": "stream",
     "text": [
      "   Unnamed: 0                                         local_path  tile_num  \\\n",
      "0           0  /projects/my-private-bucket/dps_output/run_til...       986   \n",
      "1           1  /projects/my-private-bucket/dps_output/run_til...       986   \n",
      "2           2  /projects/my-private-bucket/dps_output/run_til...       979   \n",
      "3           3  /projects/my-private-bucket/dps_output/run_til...       987   \n",
      "4           4  /projects/my-private-bucket/dps_output/run_til...       982   \n",
      "\n",
      "                                                  s3  \n",
      "0  /projects/my-private-bucket/dps_output/run_til...  \n",
      "1  /projects/my-private-bucket/dps_output/run_til...  \n",
      "2  /projects/my-private-bucket/dps_output/run_til...  \n",
      "3  /projects/my-private-bucket/dps_output/run_til...  \n",
      "4  /projects/my-private-bucket/dps_output/run_til...  \n"
     ]
    },
    {
     "ename": "NameError",
     "evalue": "name 'geopandas' is not defined",
     "output_type": "error",
     "traceback": [
      "\u001b[0;31m---------------------------------------------------------------------------\u001b[0m",
      "\u001b[0;31mNameError\u001b[0m                                 Traceback (most recent call last)",
      "\u001b[0;32m<ipython-input-6-d6f9c76f67f1>\u001b[0m in \u001b[0;36m<module>\u001b[0;34m\u001b[0m\n\u001b[1;32m      6\u001b[0m \u001b[0;31m# Get boreal tiles\u001b[0m\u001b[0;34m\u001b[0m\u001b[0;34m\u001b[0m\u001b[0;34m\u001b[0m\u001b[0m\n\u001b[1;32m      7\u001b[0m \u001b[0mboreal_tile_index_path\u001b[0m \u001b[0;34m=\u001b[0m \u001b[0;34m'/projects/shared-buckets/nathanmthomas/boreal_grid_albers90k_gpkg.gpkg'\u001b[0m\u001b[0;34m\u001b[0m\u001b[0;34m\u001b[0m\u001b[0m\n\u001b[0;32m----> 8\u001b[0;31m \u001b[0mboreal_tile_index\u001b[0m \u001b[0;34m=\u001b[0m \u001b[0mgeopandas\u001b[0m\u001b[0;34m.\u001b[0m\u001b[0mread_file\u001b[0m\u001b[0;34m(\u001b[0m\u001b[0mboreal_tile_index_path\u001b[0m\u001b[0;34m)\u001b[0m\u001b[0;34m\u001b[0m\u001b[0;34m\u001b[0m\u001b[0m\n\u001b[0m\u001b[1;32m      9\u001b[0m \u001b[0mboreal_tile_index\u001b[0m\u001b[0;34m.\u001b[0m\u001b[0mastype\u001b[0m\u001b[0;34m(\u001b[0m\u001b[0;34m{\u001b[0m\u001b[0;34m'layer'\u001b[0m\u001b[0;34m:\u001b[0m\u001b[0;34m'int'\u001b[0m\u001b[0;34m}\u001b[0m\u001b[0;34m)\u001b[0m\u001b[0;34m\u001b[0m\u001b[0;34m\u001b[0m\u001b[0m\n\u001b[1;32m     10\u001b[0m \u001b[0mboreal_tile_index\u001b[0m\u001b[0;34m.\u001b[0m\u001b[0mrename\u001b[0m\u001b[0;34m(\u001b[0m\u001b[0mcolumns\u001b[0m\u001b[0;34m=\u001b[0m\u001b[0;34m{\u001b[0m\u001b[0;34m\"layer\"\u001b[0m\u001b[0;34m:\u001b[0m\u001b[0;34m\"tile_num\"\u001b[0m\u001b[0;34m}\u001b[0m\u001b[0;34m,\u001b[0m \u001b[0minplace\u001b[0m\u001b[0;34m=\u001b[0m\u001b[0;32mTrue\u001b[0m\u001b[0;34m)\u001b[0m\u001b[0;34m\u001b[0m\u001b[0;34m\u001b[0m\u001b[0m\n",
      "\u001b[0;31mNameError\u001b[0m: name 'geopandas' is not defined"
     ]
    }
   ],
   "source": [
    "# Build up a dataframe from the list of dps output files\n",
    "tindex_master = pd.read_csv(tindex_master_fn)\n",
    "tindex_master['s3'] = [local_to_s3(local_path, user='lduncanson') for local_path in tindex_master['local_path']]\n",
    "print(tindex_master.head())\n",
    "\n",
    "# Get boreal tiles\n",
    "boreal_tile_index_path = '/projects/shared-buckets/nathanmthomas/boreal_grid_albers90k_gpkg.gpkg'\n",
    "boreal_tile_index = geopandas.read_file(boreal_tile_index_path)\n",
    "boreal_tile_index.astype({'layer':'int'})\n",
    "boreal_tile_index.rename(columns={\"layer\":\"tile_num\"}, inplace=True)\n",
    "boreal_tile_index[\"tile_num\"] = boreal_tile_index[\"tile_num\"].astype(int)\n",
    "\n",
    "bad_tiles = [3540,3634,3728,3823,3916,4004] #Dropping the tiles near antimeridian that reproject poorly.\n",
    "\n",
    "# For some reason, doing this causes 'MosaicJSON.from_features()' to fail...(below)\n",
    "if True:\n",
    "    # Remove bad tiles\n",
    "    boreal_tile_index = boreal_tile_index[~boreal_tile_index['tile_num'].isin(bad_tiles)]\n",
    "    \n",
    "print(boreal_tile_index.head())"
   ]
  },
  {
   "cell_type": "markdown",
   "id": "friendly-michigan",
   "metadata": {},
   "source": [
    "# Identify duplicate tiles"
   ]
  },
  {
   "cell_type": "code",
   "execution_count": null,
   "id": "interim-element",
   "metadata": {},
   "outputs": [],
   "source": [
    "duplicate_tiles = [item for item, count in collections.Counter(tindex_master[\"tile_num\"]).items() if count > 1]\n",
    "print(duplicate_tiles)"
   ]
  },
  {
   "cell_type": "markdown",
   "id": "southeast-vault",
   "metadata": {},
   "source": [
    "# Identify matching tiles"
   ]
  },
  {
   "cell_type": "code",
   "execution_count": null,
   "id": "worldwide-conviction",
   "metadata": {},
   "outputs": [],
   "source": [
    "# Select the rows we have results for\n",
    "tile_matches = boreal_tile_index.merge(tindex_master[~tindex_master['tile_num'].isin(bad_tiles)], how='right', on='tile_num')\n",
    "print(tile_matches.shape)\n",
    "\n",
    "tile_matches_duplicates = boreal_tile_index.merge(tindex_master[tindex_master['tile_num'].isin(duplicate_tiles)], how='right', on='tile_num')\n",
    "print(tile_matches_duplicates.shape)\n",
    "\n",
    "tile_matches_geojson_string = tile_matches.to_crs(\"EPSG:4326\").to_json()\n",
    "tile_matches_geojson = json.loads(tile_matches_geojson_string)\n",
    "\n",
    "tile_matches_duplicates_geojson_string = tile_matches_duplicates.to_crs(\"EPSG:4326\").to_json()\n",
    "tile_matches_duplicates_geojson = json.loads(tile_matches_duplicates_geojson_string)"
   ]
  }
 ],
 "metadata": {
  "kernelspec": {
   "display_name": "Python 3",
   "language": "python",
   "name": "python3"
  },
  "language_info": {
   "codemirror_mode": {
    "name": "ipython",
    "version": 3
   },
   "file_extension": ".py",
   "mimetype": "text/x-python",
   "name": "python",
   "nbconvert_exporter": "python",
   "pygments_lexer": "ipython3",
   "version": "3.7.3"
  }
 },
 "nbformat": 4,
 "nbformat_minor": 5
}
