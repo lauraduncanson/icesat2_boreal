{
 "cells": [
  {
   "cell_type": "markdown",
   "id": "c9e4b77e",
   "metadata": {},
   "source": [
    "# Review DPS Outputs\n",
    "\n",
    "Make a mosaic of DPS outputs.\n",
    "\n",
    "1. make a list of the DPS output paths\n",
    "2. merge that list with the original index tile file\n",
    "3. convert the local paths to s3 paths\n",
    "4. reproject the bounds to 4326 - convert to geojson (save file or in mem object)\n",
    "5. make mosaicjson Mosaic.from_features\n",
    "6. send mosaicjson to the tile server"
   ]
  },
  {
   "cell_type": "code",
   "execution_count": 93,
   "id": "2b05f6c7",
   "metadata": {},
   "outputs": [],
   "source": [
    "import geopandas as gpd\n",
    "import pandas as pd\n",
    "import os\n",
    "import json"
   ]
  },
  {
   "cell_type": "markdown",
   "id": "5277488f",
   "metadata": {},
   "source": [
    "## Build a Geojson with all the data"
   ]
  },
  {
   "cell_type": "code",
   "execution_count": 19,
   "id": "b2886ae6",
   "metadata": {},
   "outputs": [],
   "source": [
    "def local_to_s3(url):\n",
    "    ''' A Function to convert local paths to s3 urls'''\n",
    "    user = 'nathanmthomas'\n",
    "    return url.replace('/projects/my-private-bucket', f's3://maap-ops-workspace/{user}')"
   ]
  },
  {
   "cell_type": "code",
   "execution_count": 22,
   "id": "489ceb1a",
   "metadata": {},
   "outputs": [
    {
     "data": {
      "text/plain": [
       "['/projects/my-private-bucket/dps_output/do_landsat_stack_3-1-2_ubuntu/ops/2021/07/30/00/25/20/674788/Landsat8_986_comp_cog_2015-2020_dps.tif',\n",
       " '/projects/my-private-bucket/dps_output/do_landsat_stack_3-1-2_ubuntu/ops/2021/07/30/00/28/08/865666/Landsat8_987_comp_cog_2015-2020_dps.tif',\n",
       " '/projects/my-private-bucket/dps_output/do_landsat_stack_3-1-2_ubuntu/ops/2021/07/30/00/29/07/820425/Landsat8_979_comp_cog_2015-2020_dps.tif',\n",
       " '/projects/my-private-bucket/dps_output/do_landsat_stack_3-1-2_ubuntu/ops/2021/07/30/00/29/19/175707/Landsat8_984_comp_cog_2015-2020_dps.tif',\n",
       " '/projects/my-private-bucket/dps_output/do_landsat_stack_3-1-2_ubuntu/ops/2021/07/30/00/29/25/875834/Landsat8_982_comp_cog_2015-2020_dps.tif',\n",
       " '/projects/my-private-bucket/dps_output/do_landsat_stack_3-1-2_ubuntu/ops/2021/07/30/00/29/35/110413/Landsat8_985_comp_cog_2015-2020_dps.tif',\n",
       " '/projects/my-private-bucket/dps_output/do_landsat_stack_3-1-2_ubuntu/ops/2021/07/30/00/31/35/031032/Landsat8_980_comp_cog_2015-2020_dps.tif',\n",
       " '/projects/my-private-bucket/dps_output/do_landsat_stack_3-1-2_ubuntu/ops/2021/07/30/00/31/35/298081/Landsat8_981_comp_cog_2015-2020_dps.tif',\n",
       " '/projects/my-private-bucket/dps_output/do_landsat_stack_3-1-2_ubuntu/ops/2021/07/30/00/32/39/461089/Landsat8_983_comp_cog_2015-2020_dps.tif',\n",
       " '/projects/my-private-bucket/dps_output/do_landsat_stack_3-1-2_ubuntu/ops/2021/07/30/00/33/23/517024/Landsat8_978_comp_cog_2015-2020_dps.tif']"
      ]
     },
     "execution_count": 22,
     "metadata": {},
     "output_type": "execute_result"
    }
   ],
   "source": [
    "# We just need a list of files\n",
    "# TODO: skip making a shapefile from the outputs\n",
    "outputs = gpd.read_file(\"/projects/DPS/Landsat_tindex.shp\")\n",
    "output_local = outputs['location'].tolist()\n",
    "output_local[0:10]"
   ]
  },
  {
   "cell_type": "code",
   "execution_count": 65,
   "id": "c51a7923",
   "metadata": {},
   "outputs": [],
   "source": [
    "# Build up a dataframe from the list of dps output files\n",
    "base_frame = pd.DataFrame(output_local, columns=['local_path'])\n",
    "base_frame['id'] = [int(os.path.basename(local_path).split('_')[1]) for local_path in base_frame['local_path']]\n",
    "base_frame['s3'] = [local_to_s3(local_path) for local_path in base_frame['local_path']]"
   ]
  },
  {
   "cell_type": "code",
   "execution_count": 66,
   "id": "5187a949",
   "metadata": {},
   "outputs": [
    {
     "data": {
      "text/html": [
       "<div>\n",
       "<style scoped>\n",
       "    .dataframe tbody tr th:only-of-type {\n",
       "        vertical-align: middle;\n",
       "    }\n",
       "\n",
       "    .dataframe tbody tr th {\n",
       "        vertical-align: top;\n",
       "    }\n",
       "\n",
       "    .dataframe thead th {\n",
       "        text-align: right;\n",
       "    }\n",
       "</style>\n",
       "<table border=\"1\" class=\"dataframe\">\n",
       "  <thead>\n",
       "    <tr style=\"text-align: right;\">\n",
       "      <th></th>\n",
       "      <th>local_path</th>\n",
       "      <th>id</th>\n",
       "      <th>s3</th>\n",
       "    </tr>\n",
       "  </thead>\n",
       "  <tbody>\n",
       "    <tr>\n",
       "      <th>52</th>\n",
       "      <td>/projects/my-private-bucket/dps_output/do_land...</td>\n",
       "      <td>358</td>\n",
       "      <td>s3://maap-ops-workspace/nathanmthomas/dps_outp...</td>\n",
       "    </tr>\n",
       "    <tr>\n",
       "      <th>56</th>\n",
       "      <td>/projects/my-private-bucket/dps_output/do_land...</td>\n",
       "      <td>389</td>\n",
       "      <td>s3://maap-ops-workspace/nathanmthomas/dps_outp...</td>\n",
       "    </tr>\n",
       "    <tr>\n",
       "      <th>55</th>\n",
       "      <td>/projects/my-private-bucket/dps_output/do_land...</td>\n",
       "      <td>420</td>\n",
       "      <td>s3://maap-ops-workspace/nathanmthomas/dps_outp...</td>\n",
       "    </tr>\n",
       "    <tr>\n",
       "      <th>59</th>\n",
       "      <td>/projects/my-private-bucket/dps_output/do_land...</td>\n",
       "      <td>421</td>\n",
       "      <td>s3://maap-ops-workspace/nathanmthomas/dps_outp...</td>\n",
       "    </tr>\n",
       "    <tr>\n",
       "      <th>48</th>\n",
       "      <td>/projects/my-private-bucket/dps_output/do_land...</td>\n",
       "      <td>451</td>\n",
       "      <td>s3://maap-ops-workspace/nathanmthomas/dps_outp...</td>\n",
       "    </tr>\n",
       "  </tbody>\n",
       "</table>\n",
       "</div>"
      ],
      "text/plain": [
       "                                           local_path   id  \\\n",
       "52  /projects/my-private-bucket/dps_output/do_land...  358   \n",
       "56  /projects/my-private-bucket/dps_output/do_land...  389   \n",
       "55  /projects/my-private-bucket/dps_output/do_land...  420   \n",
       "59  /projects/my-private-bucket/dps_output/do_land...  421   \n",
       "48  /projects/my-private-bucket/dps_output/do_land...  451   \n",
       "\n",
       "                                                   s3  \n",
       "52  s3://maap-ops-workspace/nathanmthomas/dps_outp...  \n",
       "56  s3://maap-ops-workspace/nathanmthomas/dps_outp...  \n",
       "55  s3://maap-ops-workspace/nathanmthomas/dps_outp...  \n",
       "59  s3://maap-ops-workspace/nathanmthomas/dps_outp...  \n",
       "48  s3://maap-ops-workspace/nathanmthomas/dps_outp...  "
      ]
     },
     "execution_count": 66,
     "metadata": {},
     "output_type": "execute_result"
    }
   ],
   "source": [
    "base_frame.sort_values('id', inplace=True)\n",
    "#base_frame.set_index('id', drop=True, inplace=True)\n",
    "base_frame.head()\n"
   ]
  },
  {
   "cell_type": "code",
   "execution_count": 83,
   "id": "faec8fbe",
   "metadata": {},
   "outputs": [
    {
     "data": {
      "text/html": [
       "<div>\n",
       "<style scoped>\n",
       "    .dataframe tbody tr th:only-of-type {\n",
       "        vertical-align: middle;\n",
       "    }\n",
       "\n",
       "    .dataframe tbody tr th {\n",
       "        vertical-align: top;\n",
       "    }\n",
       "\n",
       "    .dataframe thead th {\n",
       "        text-align: right;\n",
       "    }\n",
       "</style>\n",
       "<table border=\"1\" class=\"dataframe\">\n",
       "  <thead>\n",
       "    <tr style=\"text-align: right;\">\n",
       "      <th></th>\n",
       "      <th>id</th>\n",
       "      <th>geometry</th>\n",
       "    </tr>\n",
       "  </thead>\n",
       "  <tbody>\n",
       "    <tr>\n",
       "      <th>0</th>\n",
       "      <td>0</td>\n",
       "      <td>POLYGON ((-2151478.000 9423304.000, -2061478.0...</td>\n",
       "    </tr>\n",
       "    <tr>\n",
       "      <th>1</th>\n",
       "      <td>1</td>\n",
       "      <td>POLYGON ((-2061478.000 9423304.000, -1971478.0...</td>\n",
       "    </tr>\n",
       "    <tr>\n",
       "      <th>2</th>\n",
       "      <td>2</td>\n",
       "      <td>POLYGON ((-1971478.000 9423304.000, -1881478.0...</td>\n",
       "    </tr>\n",
       "    <tr>\n",
       "      <th>3</th>\n",
       "      <td>3</td>\n",
       "      <td>POLYGON ((-2241478.000 9333304.000, -2151478.0...</td>\n",
       "    </tr>\n",
       "    <tr>\n",
       "      <th>4</th>\n",
       "      <td>4</td>\n",
       "      <td>POLYGON ((-2151478.000 9333304.000, -2061478.0...</td>\n",
       "    </tr>\n",
       "  </tbody>\n",
       "</table>\n",
       "</div>"
      ],
      "text/plain": [
       "   id                                           geometry\n",
       "0   0  POLYGON ((-2151478.000 9423304.000, -2061478.0...\n",
       "1   1  POLYGON ((-2061478.000 9423304.000, -1971478.0...\n",
       "2   2  POLYGON ((-1971478.000 9423304.000, -1881478.0...\n",
       "3   3  POLYGON ((-2241478.000 9333304.000, -2151478.0...\n",
       "4   4  POLYGON ((-2151478.000 9333304.000, -2061478.0..."
      ]
     },
     "execution_count": 83,
     "metadata": {},
     "output_type": "execute_result"
    }
   ],
   "source": [
    "vector_path = '/projects/shared-buckets/nathanmthomas/boreal_grid_albers90k_gpkg.gpkg'\n",
    "tile_index = gpd.read_file(vector_path)\n",
    "tile_index['layer'] = tile_index.index\n",
    "tile_index.rename(columns={\"layer\":\"id\"}, inplace=True)\n",
    "tile_index.head()"
   ]
  },
  {
   "cell_type": "code",
   "execution_count": 84,
   "id": "a4c2516b",
   "metadata": {},
   "outputs": [],
   "source": [
    "# Select the rows we have results for\n",
    "tile_matches = tile_index.iloc[base_frame['id'].tolist()].merge(base_frame, on='id')"
   ]
  },
  {
   "cell_type": "code",
   "execution_count": 85,
   "id": "aefc9334",
   "metadata": {},
   "outputs": [
    {
     "data": {
      "text/html": [
       "<div>\n",
       "<style scoped>\n",
       "    .dataframe tbody tr th:only-of-type {\n",
       "        vertical-align: middle;\n",
       "    }\n",
       "\n",
       "    .dataframe tbody tr th {\n",
       "        vertical-align: top;\n",
       "    }\n",
       "\n",
       "    .dataframe thead th {\n",
       "        text-align: right;\n",
       "    }\n",
       "</style>\n",
       "<table border=\"1\" class=\"dataframe\">\n",
       "  <thead>\n",
       "    <tr style=\"text-align: right;\">\n",
       "      <th></th>\n",
       "      <th>id</th>\n",
       "      <th>geometry</th>\n",
       "      <th>local_path</th>\n",
       "      <th>s3</th>\n",
       "    </tr>\n",
       "  </thead>\n",
       "  <tbody>\n",
       "    <tr>\n",
       "      <th>0</th>\n",
       "      <td>358</td>\n",
       "      <td>POLYGON ((4598522.000 7623304.000, 4688522.000...</td>\n",
       "      <td>/projects/my-private-bucket/dps_output/do_land...</td>\n",
       "      <td>s3://maap-ops-workspace/nathanmthomas/dps_outp...</td>\n",
       "    </tr>\n",
       "    <tr>\n",
       "      <th>1</th>\n",
       "      <td>389</td>\n",
       "      <td>POLYGON ((4598522.000 7533304.000, 4688522.000...</td>\n",
       "      <td>/projects/my-private-bucket/dps_output/do_land...</td>\n",
       "      <td>s3://maap-ops-workspace/nathanmthomas/dps_outp...</td>\n",
       "    </tr>\n",
       "    <tr>\n",
       "      <th>2</th>\n",
       "      <td>420</td>\n",
       "      <td>POLYGON ((4508522.000 7443304.000, 4598522.000...</td>\n",
       "      <td>/projects/my-private-bucket/dps_output/do_land...</td>\n",
       "      <td>s3://maap-ops-workspace/nathanmthomas/dps_outp...</td>\n",
       "    </tr>\n",
       "    <tr>\n",
       "      <th>3</th>\n",
       "      <td>421</td>\n",
       "      <td>POLYGON ((4598522.000 7443304.000, 4688522.000...</td>\n",
       "      <td>/projects/my-private-bucket/dps_output/do_land...</td>\n",
       "      <td>s3://maap-ops-workspace/nathanmthomas/dps_outp...</td>\n",
       "    </tr>\n",
       "    <tr>\n",
       "      <th>4</th>\n",
       "      <td>451</td>\n",
       "      <td>POLYGON ((4238522.000 7353304.000, 4328522.000...</td>\n",
       "      <td>/projects/my-private-bucket/dps_output/do_land...</td>\n",
       "      <td>s3://maap-ops-workspace/nathanmthomas/dps_outp...</td>\n",
       "    </tr>\n",
       "  </tbody>\n",
       "</table>\n",
       "</div>"
      ],
      "text/plain": [
       "    id                                           geometry  \\\n",
       "0  358  POLYGON ((4598522.000 7623304.000, 4688522.000...   \n",
       "1  389  POLYGON ((4598522.000 7533304.000, 4688522.000...   \n",
       "2  420  POLYGON ((4508522.000 7443304.000, 4598522.000...   \n",
       "3  421  POLYGON ((4598522.000 7443304.000, 4688522.000...   \n",
       "4  451  POLYGON ((4238522.000 7353304.000, 4328522.000...   \n",
       "\n",
       "                                          local_path  \\\n",
       "0  /projects/my-private-bucket/dps_output/do_land...   \n",
       "1  /projects/my-private-bucket/dps_output/do_land...   \n",
       "2  /projects/my-private-bucket/dps_output/do_land...   \n",
       "3  /projects/my-private-bucket/dps_output/do_land...   \n",
       "4  /projects/my-private-bucket/dps_output/do_land...   \n",
       "\n",
       "                                                  s3  \n",
       "0  s3://maap-ops-workspace/nathanmthomas/dps_outp...  \n",
       "1  s3://maap-ops-workspace/nathanmthomas/dps_outp...  \n",
       "2  s3://maap-ops-workspace/nathanmthomas/dps_outp...  \n",
       "3  s3://maap-ops-workspace/nathanmthomas/dps_outp...  \n",
       "4  s3://maap-ops-workspace/nathanmthomas/dps_outp...  "
      ]
     },
     "execution_count": 85,
     "metadata": {},
     "output_type": "execute_result"
    }
   ],
   "source": [
    "tile_matches.head()"
   ]
  },
  {
   "cell_type": "code",
   "execution_count": 95,
   "id": "72b7b68a",
   "metadata": {},
   "outputs": [],
   "source": [
    "geojson_string = tile_matches.to_crs(\"EPSG:4326\").to_json()\n",
    "geojson = json.loads(geojson_string)"
   ]
  },
  {
   "cell_type": "code",
   "execution_count": 96,
   "id": "5a5f980e",
   "metadata": {},
   "outputs": [
    {
     "data": {
      "text/plain": [
       "{'id': '10',\n",
       " 'type': 'Feature',\n",
       " 'properties': {'id': 491,\n",
       "  'local_path': '/projects/my-private-bucket/dps_output/do_landsat_stack_3-1-2_ubuntu/ops/2021/08/16/20/53/18/088339/Landsat8_491_comp_cog_2015-2020_dps.tif',\n",
       "  's3': 's3://maap-ops-workspace/nathanmthomas/dps_output/do_landsat_stack_3-1-2_ubuntu/ops/2021/08/16/20/53/18/088339/Landsat8_491_comp_cog_2015-2020_dps.tif'},\n",
       " 'geometry': {'type': 'Polygon',\n",
       "  'coordinates': [[[-53.749997757392386, 53.29128049169117],\n",
       "    [-54.15496178265806, 52.52477346033019],\n",
       "    [-55.435091948407276, 52.75709388583292],\n",
       "    [-55.052643172537486, 53.5277365763123],\n",
       "    [-53.749997757392386, 53.29128049169117]]]}}"
      ]
     },
     "execution_count": 96,
     "metadata": {},
     "output_type": "execute_result"
    }
   ],
   "source": [
    "geojson.get('features')[10]"
   ]
  },
  {
   "cell_type": "markdown",
   "id": "b0d475f8",
   "metadata": {},
   "source": [
    "## Build a MosaicJSON"
   ]
  },
  {
   "cell_type": "code",
   "execution_count": 89,
   "id": "147eb47c",
   "metadata": {},
   "outputs": [],
   "source": [
    "from typing import Dict\n",
    "\n",
    "from cogeo_mosaic.mosaic import MosaicJSON\n",
    "from cogeo_mosaic.backends import MosaicBackend"
   ]
  },
  {
   "cell_type": "code",
   "execution_count": 97,
   "id": "d09a69c4",
   "metadata": {},
   "outputs": [],
   "source": [
    "def get_accessor(feature: Dict):\n",
    "    \"\"\"Return specific feature identifier.\"\"\"\n",
    "    return feature[\"properties\"][\"s3\"]"
   ]
  },
  {
   "cell_type": "code",
   "execution_count": 98,
   "id": "c132dd3e",
   "metadata": {},
   "outputs": [],
   "source": [
    "mosaicdata = MosaicJSON.from_features(geojson.get('features'), minzoom=8, maxzoom=16, accessor=get_accessor)"
   ]
  },
  {
   "cell_type": "code",
   "execution_count": 100,
   "id": "a726cb57",
   "metadata": {},
   "outputs": [],
   "source": [
    "mosaic_json = \"/projects/my-public-bucket/Landsat/landsat8_mosaic.json\"\n",
    "with MosaicBackend(mosaic_json, mosaic_def=mosaicdata) as mosaic:\n",
    "    mosaic.write(overwrite=True)\n",
    "    \n",
    "# URL to give tiler is\n",
    "# s3://maap-ops-workspace/shared/nathanmthomas/Landsat/landsat8_mosaic.json"
   ]
  },
  {
   "cell_type": "markdown",
   "id": "f9efb9d9",
   "metadata": {},
   "source": [
    "## View the Results"
   ]
  },
  {
   "cell_type": "code",
   "execution_count": 103,
   "id": "15bf9388",
   "metadata": {},
   "outputs": [],
   "source": [
    "import ipycmc\n",
    "import urllib"
   ]
  },
  {
   "cell_type": "code",
   "execution_count": 107,
   "id": "fd774a19",
   "metadata": {},
   "outputs": [
    {
     "data": {
      "text/plain": [
       "'https://jqsd6bqdsf.execute-api.us-west-2.amazonaws.com/mosaicjson/WMTSCapabilities.xml?tile_format=png&tile_scale=1&pixel_selection=first&TileMatrixSetId=WebMercatorQuad&url=s3%3A%2F%2Fmaap-ops-workspace%2Fshared%2Fnathanmthomas%2FLandsat%2Flandsat8_mosaic.json&bidx=6&resampling_method=nearest&rescale=0%2C1&return_mask=true&colormap_name=magma'"
      ]
     },
     "execution_count": 107,
     "metadata": {},
     "output_type": "execute_result"
    }
   ],
   "source": [
    "wmts_url = \"https://jqsd6bqdsf.execute-api.us-west-2.amazonaws.com/mosaicjson/WMTSCapabilities.xml\"\n",
    "params = {\n",
    "    \"tile_format\":\"png\",\n",
    "    \"tile_scale\":\"1\",\n",
    "    \"pixel_selection\":\"first\",\n",
    "    \"TileMatrixSetId\":\"WebMercatorQuad\",\n",
    "    \"url\":\"s3://maap-ops-workspace/shared/nathanmthomas/Landsat/landsat8_mosaic.json\",\n",
    "    \"bidx\":\"6\", # Select which band to use\n",
    "    \"resampling_method\":\"nearest\",\n",
    "    \"rescale\":\"0,1\", # Values in data are from 0 to 1\n",
    "    \"return_mask\":\"true\",\n",
    "    \"colormap_name\":\"magma\" # Any colormap from matplotlib will work\n",
    "}\n",
    "\n",
    "wmts_call = \"?\".join([wmts_url, urllib.parse.urlencode(params)])\n",
    "\n",
    "# Note Jupyter bug add amp; incorrectly when printing the url\n",
    "wmts_call"
   ]
  },
  {
   "cell_type": "code",
   "execution_count": 108,
   "id": "c1f9c3b4",
   "metadata": {},
   "outputs": [
    {
     "data": {
      "application/vnd.jupyter.widget-view+json": {
       "model_id": "689e6a71444c461d8897d6a3f430eec2",
       "version_major": 2,
       "version_minor": 0
      },
      "text/plain": [
       "MapCMC()"
      ]
     },
     "metadata": {},
     "output_type": "display_data"
    }
   ],
   "source": [
    "w = ipycmc.MapCMC()\n",
    "w"
   ]
  },
  {
   "cell_type": "code",
   "execution_count": 109,
   "id": "ef1a81a6",
   "metadata": {},
   "outputs": [],
   "source": [
    "# This adds a new layer to the map above, call Cloud Optimized GeoTIFF\n",
    "w.load_layer_config(wmts_call, \"wmts/xml\")"
   ]
  }
 ],
 "metadata": {
  "kernelspec": {
   "display_name": "Python [conda env:root] *",
   "language": "python",
   "name": "conda-root-py"
  },
  "language_info": {
   "codemirror_mode": {
    "name": "ipython",
    "version": 3
   },
   "file_extension": ".py",
   "mimetype": "text/x-python",
   "name": "python",
   "nbconvert_exporter": "python",
   "pygments_lexer": "ipython3",
   "version": "3.7.8"
  }
 },
 "nbformat": 4,
 "nbformat_minor": 5
}
