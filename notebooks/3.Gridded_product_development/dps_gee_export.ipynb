{
 "cells": [
  {
   "cell_type": "code",
   "execution_count": null,
   "id": "7de2ce36-ba9b-4cc6-a564-2870ef776cd1",
   "metadata": {
    "tags": []
   },
   "outputs": [],
   "source": [
    "import ee\n",
    "import numpy as np\n",
    "import geopandas as gpd\n",
    "import pandas as pd\n",
    "import shapely\n",
    "import glob\n",
    "import os\n",
    "from shapely.geometry import Polygon\n",
    "from shapely.geometry import box\n",
    "import matplotlib\n",
    "import matplotlib.pyplot as plt\n",
    "import rasterio as rio"
   ]
  },
  {
   "cell_type": "code",
   "execution_count": 2,
   "id": "d27b0756-24f2-42d4-ae65-4f58c809703d",
   "metadata": {
    "tags": []
   },
   "outputs": [
    {
     "data": {
      "text/html": [
       "<p>To authorize access needed by Earth Engine, open the following\n",
       "        URL in a web browser and follow the instructions:</p>\n",
       "        <p><a href=https://code.earthengine.google.com/client-auth?scopes=https%3A//www.googleapis.com/auth/earthengine%20https%3A//www.googleapis.com/auth/devstorage.full_control&request_id=Fz5SQu6THyaesqPiw-Lo8NNRjX35rpSdU6Ne889CY5U&tc=08YgHzeCs3IlskKJOg3K1aTm2Q0ZurSAZ6dg2hlL8Y4&cc=IWD-NBoxMtuUIjoGYBilAA5vbLyYA3ILyxqTaqn792Y>https://code.earthengine.google.com/client-auth?scopes=https%3A//www.googleapis.com/auth/earthengine%20https%3A//www.googleapis.com/auth/devstorage.full_control&request_id=Fz5SQu6THyaesqPiw-Lo8NNRjX35rpSdU6Ne889CY5U&tc=08YgHzeCs3IlskKJOg3K1aTm2Q0ZurSAZ6dg2hlL8Y4&cc=IWD-NBoxMtuUIjoGYBilAA5vbLyYA3ILyxqTaqn792Y</a></p>\n",
       "        <p>The authorization workflow will generate a code, which you should paste in the box below.</p>\n",
       "        "
      ],
      "text/plain": [
       "<IPython.core.display.HTML object>"
      ]
     },
     "metadata": {},
     "output_type": "display_data"
    },
    {
     "name": "stdin",
     "output_type": "stream",
     "text": [
      "Enter verification code:  4/1Adeu5BUFhHW_VJ9duMcJoLciH30AuZ63vUqbYwkUzpN5rf05ZjvJ9Ma7z3c\n"
     ]
    },
    {
     "name": "stdout",
     "output_type": "stream",
     "text": [
      "\n",
      "Successfully saved authorization token.\n"
     ]
    }
   ],
   "source": [
    "ee.Authenticate()"
   ]
  },
  {
   "cell_type": "code",
   "execution_count": 3,
   "id": "23267b0e-9d5e-49e6-aeff-68ce8cceac8e",
   "metadata": {
    "tags": []
   },
   "outputs": [],
   "source": [
    "!cp $HOME/.config/earthengine/credentials /$HOME/shared-buckets/nathanmthomas/GEE/"
   ]
  },
  {
   "cell_type": "code",
   "execution_count": 4,
   "id": "e75492d1-7330-4b15-8022-1a45ec95a6f9",
   "metadata": {
    "tags": []
   },
   "outputs": [],
   "source": [
    "creds_file = 'https://maap-ops-workspace.s3.amazonaws.com/nathanmthomas/GEE/credentials'"
   ]
  },
  {
   "cell_type": "code",
   "execution_count": null,
   "id": "97276f35-d86b-4fa8-ba4f-9fbc9a7e6d85",
   "metadata": {},
   "outputs": [],
   "source": []
  }
 ],
 "metadata": {
  "kernelspec": {
   "display_name": "Python 3 (ipykernel)",
   "language": "python",
   "name": "python3"
  },
  "language_info": {
   "codemirror_mode": {
    "name": "ipython",
    "version": 3
   },
   "file_extension": ".py",
   "mimetype": "text/x-python",
   "name": "python",
   "nbconvert_exporter": "python",
   "pygments_lexer": "ipython3",
   "version": "3.10.8"
  }
 },
 "nbformat": 4,
 "nbformat_minor": 5
}
