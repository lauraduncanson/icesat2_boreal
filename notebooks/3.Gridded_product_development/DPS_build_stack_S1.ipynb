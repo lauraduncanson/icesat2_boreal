{
 "cells": [
  {
   "cell_type": "code",
   "execution_count": 2,
   "id": "765cef38-cb09-4b41-b3f5-741ce0f8880c",
   "metadata": {
    "tags": []
   },
   "outputs": [],
   "source": [
    "from maap.maap import MAAP\n",
    "#maap = MAAP(maap_host='api.ops.maap-project.org')\n",
    "maap = MAAP()"
   ]
  },
  {
   "cell_type": "code",
   "execution_count": 3,
   "id": "ccb59847-05ec-4548-86ce-d2754016d8d5",
   "metadata": {
    "tags": []
   },
   "outputs": [
    {
     "data": {
      "text/plain": [
       "'api.maap-project.org'"
      ]
     },
     "execution_count": 3,
     "metadata": {},
     "output_type": "execute_result"
    }
   ],
   "source": [
    "maap._MAAP_HOST"
   ]
  },
  {
   "cell_type": "code",
   "execution_count": 4,
   "id": "f51b9856-420a-4558-9695-4659c4c218c3",
   "metadata": {
    "tags": []
   },
   "outputs": [],
   "source": [
    "#!pip install -U -r /projects/Developer/icesat2_boreal/dps/requirements_main.txt"
   ]
  },
  {
   "cell_type": "markdown",
   "id": "92e349f2-2bb7-4e77-a8be-fa478174801f",
   "metadata": {},
   "source": [
    "# Launch DPS for build_stack.py"
   ]
  },
  {
   "cell_type": "code",
   "execution_count": 5,
   "id": "c18772f5-3d2f-4592-bf1b-27c39f8b45b2",
   "metadata": {
    "tags": []
   },
   "outputs": [],
   "source": [
    "# For some reason this is needed to get s3fs to work in ExtractUtils\n",
    "# this upgrades to 0.3.4 even though we already specify this version in requirements_main...\n",
    "#!pip install s3fs --upgrade"
   ]
  },
  {
   "cell_type": "code",
   "execution_count": 6,
   "id": "355887be-59d9-40fd-887f-4f51c75b46e4",
   "metadata": {
    "tags": []
   },
   "outputs": [
    {
     "name": "stdout",
     "output_type": "stream",
     "text": [
      "Requirement already satisfied: xmltodict in /opt/conda/lib/python3.10/site-packages (0.13.0)\n",
      "\u001b[33mWARNING: Running pip as the 'root' user can result in broken permissions and conflicting behaviour with the system package manager. It is recommended to use a virtual environment instead: https://pip.pypa.io/warnings/venv\u001b[0m\u001b[33m\n",
      "\u001b[0mNASA MAAP\n"
     ]
    }
   ],
   "source": [
    "import os\n",
    "import geopandas\n",
    "import pandas as pd\n",
    "import glob\n",
    "import datetime\n",
    "!pip install xmltodict\n",
    "import xmltodict\n",
    "import sys\n",
    "sys.path.append('/projects/code/icesat2_boreal/lib')\n",
    "import ExtractUtils"
   ]
  },
  {
   "cell_type": "code",
   "execution_count": 7,
   "id": "8028fc0c-c428-4e20-af4c-969cbe70596a",
   "metadata": {
    "tags": []
   },
   "outputs": [
    {
     "data": {
      "text/plain": [
       "'2023.12.0'"
      ]
     },
     "execution_count": 7,
     "metadata": {},
     "output_type": "execute_result"
    }
   ],
   "source": [
    "import s3fs\n",
    "s3fs.__version__"
   ]
  },
  {
   "cell_type": "markdown",
   "id": "77657f7d-a434-45bf-b33a-5716665dafd7",
   "metadata": {},
   "source": [
    "# Test (locally) the script for DPS"
   ]
  },
  {
   "cell_type": "markdown",
   "id": "10bea964-d769-445b-9f4c-9209b1a8af16",
   "metadata": {},
   "source": [
    "##### To run build_stack.py across a tiled raster dataset you need a bunch of args that we'll gather into a dictionary\n",
    "\n",
    "s3 you need to have a vector footprint of that dataset"
   ]
  },
  {
   "cell_type": "code",
   "execution_count": 8,
   "id": "8a743e78-da51-4dd1-9207-90c1f1256bf0",
   "metadata": {
    "tags": []
   },
   "outputs": [],
   "source": [
    "TILE_NUM = 3459 #354000 #685 # tmp2.gpkg has the subtiles in siberia for this boreal tile"
   ]
  },
  {
   "cell_type": "markdown",
   "id": "020943c5-5dc2-42d1-beb9-3a94bed46909",
   "metadata": {},
   "source": [
    "#### Dictionary preparation makes this script very flexible and transferable to another s3 dataset\n",
    "This dictionary is specific to the ESA Worldcover dataset.  \n",
    "To run '`build_stack.py` across another dataset, just prepare another dictionary here and everything below should be exactly the same.  "
   ]
  },
  {
   "cell_type": "code",
   "execution_count": 9,
   "id": "c0857d69-5395-4618-9815-4bd4d1da53aa",
   "metadata": {
    "tags": []
   },
   "outputs": [],
   "source": [
    "BUILD_STACK_DICT_S1 = {\n",
    "            # Test S1 on tile 3736 in western AK where subtiles overlap near AGG tile boundary \n",
    "            'INDEX_FN': 'https://maap-ops-workspace.s3.amazonaws.com/shared/montesano/databank/boreal_tiles_v004.gpkg',\n",
    "            'ID_COL_NAME': 'tile_num',\n",
    "            'TILE_NUM':TILE_NUM,\n",
    "            'INDEX_LYR': 'boreal_tiles_v004',\n",
    "            'COVAR_SRC_NAME': 'SAR_S1_2018',\n",
    "            'BANDNAMES_LIST': 'vh_median_frozen vh_median_shoulder vh_median_summer vv_median_frozen vv_median_shoulder vv_median_summer', # TODO: NOT SURE what this should be yet... all 6 bands? just 'vh'?\n",
    "            #'COVAR_TILE_FN': 'https://maap-ops-workspace.s3.amazonaws.com/shared/montesano/DPS_tiles_lists/SAR/EXPORT_GEE_v3/SAR_S1_2018/S1_tindex_master.gpkg',\n",
    "            'COVAR_TILE_FN': 'https://maap-ops-workspace.s3.amazonaws.com/shared/montesano/DPS_tile_lists/SAR/EXPORT_GEE_v3/SAR_S1_2018/S1_tindex_master.gpkg',\n",
    "            # 'COVAR_TILE_FN': '/projects/shared-buckets/montesano/DPS_tile_lists/SAR/TEST/S1_tindex_master.gpkg',\n",
    "            'IN_COVAR_S3_COL': 's3_path',\n",
    "            'OUTDIR': '/projects/shared-buckets/montesano/local_output/build_stack_S1',\n",
    "            'NODATA_VAL': 0,\n",
    "            'OUTPUT_CLIP_COG_FN':'',\n",
    "            'CREDENTIALS_FN': None\n",
    "        }"
   ]
  },
  {
   "cell_type": "code",
   "execution_count": 10,
   "id": "5d7a5bad-2ab2-4007-b71c-cbe912dbee22",
   "metadata": {
    "tags": []
   },
   "outputs": [],
   "source": [
    "# run_extract_atl08_orig_ubuntu | export_gee_to_maap_v2\n",
    "#!aws s3 mv --recursive s3://maap-ops-workspace/shared/montesano/run_extract_atl08_orig_ubuntu s3://maap-ops-workspace/shared/montesano/local_output/\n",
    "##!aws s3 mv --recursive s3://maap-ops-workspace/shared/montesano/local_output/master s3://maap-ops-workspace/shared/montesano/local_output/run_extract_atl08_orig_ubuntu/master/\n",
    "#!aws s3 cp --recursive s3://maap-ops-workspace/shared/montesano/local_output/do_gee_download_by_subtile_TEST2 s3://maap-ops-workspace/montesano/dps_output/do_gee_download_by_subtile/do_gee_download_by_subtile_TEST2\n",
    "#!aws s3 cp --recursive s3://maap-ops-workspace/montesano/dps_output/do_gee_download_by_subtile/do_gee_download_by_subtile_TEST2/ \n",
    "#!aws s3 mv --recursive s3://maap-ops-workspace/montesano/dps_output/do_gee_download_by_subtile/do_gee_download_by_subtile_TEST2/ s3://maap-ops-workspace/montesano/dps_output/do_gee_download_by_subtile/TEST/2023/12/16/1/1"
   ]
  },
  {
   "cell_type": "code",
   "execution_count": 11,
   "id": "726abf3d-1c5a-4a81-b19d-603532259b80",
   "metadata": {
    "tags": []
   },
   "outputs": [
    {
     "data": {
      "text/plain": [
       "{'INDEX_FN': 'https://maap-ops-workspace.s3.amazonaws.com/shared/montesano/databank/boreal_tiles_v004.gpkg',\n",
       " 'ID_COL_NAME': 'tile_num',\n",
       " 'TILE_NUM': 3459,\n",
       " 'INDEX_LYR': 'boreal_tiles_v004',\n",
       " 'COVAR_SRC_NAME': 'SAR_S1_2018',\n",
       " 'BANDNAMES_LIST': 'vh_median_frozen vh_median_shoulder vh_median_summer vv_median_frozen vv_median_shoulder vv_median_summer',\n",
       " 'COVAR_TILE_FN': 'https://maap-ops-workspace.s3.amazonaws.com/shared/montesano/DPS_tile_lists/SAR/EXPORT_GEE_v3/SAR_S1_2018/S1_tindex_master.gpkg',\n",
       " 'IN_COVAR_S3_COL': 's3_path',\n",
       " 'OUTDIR': '/projects/shared-buckets/montesano/local_output/build_stack_S1',\n",
       " 'NODATA_VAL': 0,\n",
       " 'OUTPUT_CLIP_COG_FN': '',\n",
       " 'CREDENTIALS_FN': None}"
      ]
     },
     "execution_count": 11,
     "metadata": {},
     "output_type": "execute_result"
    }
   ],
   "source": [
    "BUILD_STACK_DICT = BUILD_STACK_DICT_S1\n",
    "BUILD_STACK_DICT"
   ]
  },
  {
   "cell_type": "code",
   "execution_count": null,
   "id": "f8da7f88-f3df-4cf9-9e7c-6527262251dc",
   "metadata": {
    "tags": []
   },
   "outputs": [],
   "source": [
    "boreal_tiles = geopandas.read_file(BUILD_STACK_DICT['INDEX_FN'])\n",
    "boreal_tiles.explore()"
   ]
  },
  {
   "cell_type": "code",
   "execution_count": 49,
   "id": "443bc2c5-9c1d-4a25-9435-f465bf31fc13",
   "metadata": {
    "tags": []
   },
   "outputs": [
    {
     "data": {
      "text/plain": [
       "<Axes: >"
      ]
     },
     "execution_count": 49,
     "metadata": {},
     "output_type": "execute_result"
    },
    {
     "data": {
      "image/png": "[encoded data removed]",
      "text/plain": [
       "<Figure size 640x480 with 1 Axes>"
      ]
     },
     "metadata": {},
     "output_type": "display_data"
    }
   ],
   "source": [
    "covar_tile_gdf = geopandas.read_file(BUILD_STACK_DICT['COVAR_TILE_FN'])\n",
    "covar_tile_gdf.boundary.plot()"
   ]
  },
  {
   "cell_type": "code",
   "execution_count": 74,
   "id": "8ac47f42-8246-48ad-89b3-0d8a9c9ca4b7",
   "metadata": {
    "tags": []
   },
   "outputs": [
    {
     "data": {
      "text/plain": [
       "'vh_median_frozen vh_median_shoulder vh_median_summer vv_median_frozen vv_median_shoulder vv_median_summer'"
      ]
     },
     "execution_count": 74,
     "metadata": {},
     "output_type": "execute_result"
    }
   ],
   "source": [
    "# INDEX clip shapes should be in equal area\n",
    "# COVAR_TILE_FN tiles (of raster COGs) should be in 4326\n",
    "args = f\"\\\n",
    "    --in_tile_fn {BUILD_STACK_DICT['INDEX_FN']} \\\n",
    "    --in_tile_id_col {BUILD_STACK_DICT['ID_COL_NAME']} \\\n",
    "    --in_tile_num {BUILD_STACK_DICT['TILE_NUM']} \\\n",
    "    --tile_buffer_m 0 \\\n",
    "    --in_tile_layer {BUILD_STACK_DICT['INDEX_LYR']} \\\n",
    "    -o {BUILD_STACK_DICT['OUTDIR']} \\\n",
    "    --topo_off \\\n",
    "    --covar_src_name {BUILD_STACK_DICT['COVAR_SRC_NAME']} \\\n",
    "    --bandnames_list {BUILD_STACK_DICT['BANDNAMES_LIST']} \\\n",
    "    --covar_tile_fn {BUILD_STACK_DICT['COVAR_TILE_FN']} \\\n",
    "    --in_covar_s3_col {BUILD_STACK_DICT['IN_COVAR_S3_COL']} \\\n",
    "    --input_nodata_value {BUILD_STACK_DICT['NODATA_VAL']} \\\n",
    "    --clip\"\n",
    "    #--shape 3000 \\\n",
    "    #--clip\"\n",
    "BUILD_STACK_DICT['BANDNAMES_LIST']"
   ]
  },
  {
   "cell_type": "code",
   "execution_count": null,
   "id": "68699717-3d28-457f-bcd5-8e6c7658ff1a",
   "metadata": {
    "tags": []
   },
   "outputs": [],
   "source": [
    "!/projects/env/above/bin/python /projects/code/icesat2_boreal/lib/build_stack.py $args"
   ]
  },
  {
   "cell_type": "code",
   "execution_count": 12,
   "id": "3b16d5e8",
   "metadata": {
    "tags": []
   },
   "outputs": [],
   "source": [
    "DPS_INPUT_TILE_NUM_LIST = []"
   ]
  },
  {
   "cell_type": "markdown",
   "id": "b49822b3-1a71-4985-905e-827395f0c103",
   "metadata": {},
   "source": [
    "### Use MAAP Registration call in notebook chunk to register DPS algorithm\n",
    " - We need to register a DPS algorithm called `run_build_stack_LC` before proceeding to the chunks below..."
   ]
  },
  {
   "cell_type": "code",
   "execution_count": 17,
   "id": "7810c9e6-5dc8-4969-b1f4-beb3d06e9d96",
   "metadata": {
    "tags": []
   },
   "outputs": [
    {
     "data": {
      "text/plain": [
       "'{\"code\": 200, \"message\": {\"id\": \"eb27331e51024d5ea59700ef5edc8550451ff99b\", \"short_id\": \"eb27331e\", \"created_at\": \"2023-12-28T02:12:47.000+00:00\", \"parent_ids\": [\"89b943ee4e6bbcbfb0f4abf177f2ce59a0791573\"], \"title\": \"Registering algorithm: run_build_stack\", \"message\": \"Registering algorithm: run_build_stack\", \"author_name\": \"root\", \"author_email\": \"root@909fdfe9cc27\", \"authored_date\": \"2023-12-28T02:12:47.000+00:00\", \"committer_name\": \"root\", \"committer_email\": \"root@909fdfe9cc27\", \"committed_date\": \"2023-12-28T02:12:47.000+00:00\", \"trailers\": {}, \"web_url\": \"https://repo.maap-project.org/root/register-job-hysds-v4/-/commit/eb27331e51024d5ea59700ef5edc8550451ff99b\", \"stats\": {\"additions\": 0, \"deletions\": 0, \"total\": 0}, \"status\": \"running\", \"project_id\": 3, \"last_pipeline\": {\"id\": 10909, \"iid\": 673, \"project_id\": 3, \"sha\": \"eb27331e51024d5ea59700ef5edc8550451ff99b\", \"ref\": \"main\", \"status\": \"running\", \"source\": \"push\", \"created_at\": \"2023-12-28T02:12:48.531Z\", \"updated_at\": \"2023-12-28T02:12:49.141Z\", \"web_url\": \"https://repo.maap-project.org/root/register-job-hysds-v4/-/pipelines/10909\"}, \"job_web_url\": \"https://repo.maap-project.org/root/register-job-hysds-v4/-/jobs/11162\", \"job_log_url\": \"https://repo.maap-project.org/root/register-job-hysds-v4/-/jobs/11162/raw\"}}\\n'"
      ]
     },
     "execution_count": 17,
     "metadata": {},
     "output_type": "execute_result"
    }
   ],
   "source": [
    "maap.register_algorithm_from_yaml_file(\"/projects/code/icesat2_boreal/dps/registered/run_build_stack.yml\").text"
   ]
  },
  {
   "cell_type": "code",
   "execution_count": 1,
   "id": "f00f1e42-d230-421b-8f50-1c4e767ac486",
   "metadata": {
    "tags": []
   },
   "outputs": [],
   "source": [
    "#!aws s3 rm --recursive s3://maap-ops-workspace/montesano/dps_output/run_build_stack/LC_ESA_WC_2020\n",
    "#!aws s3 mv s3://maap-ops-workspace/montesano/dps_output/run_build_stack/LC_ESA_WC_2020 s3://maap-ops-workspace/montesano/dps_output/run_build_stack/build_stack_v2023"
   ]
  },
  {
   "cell_type": "markdown",
   "id": "78717570-60b7-4ccf-a105-02fcbd9efe6f",
   "metadata": {},
   "source": [
    "# Build a DPS list"
   ]
  },
  {
   "cell_type": "code",
   "execution_count": 13,
   "id": "d40e2d35",
   "metadata": {
    "tags": []
   },
   "outputs": [
    {
     "name": "stdout",
     "output_type": "stream",
     "text": [
      "5241\n",
      "5241 tiles in s3://maap-ops-workspace/shared/nathanmthomas/DPS_tile_lists/HLS/c2020/HLS_stack_2023_v1/HLS_tindex_master.csv\n",
      "HLS_tindex_master.csv has the most tiles. Using this for DPS tiles list.\n",
      "5220\n"
     ]
    }
   ],
   "source": [
    "#HLS_tindex_master_fn = \"s3://maap-ops-workspace/shared/nathanmthomas/DPS_tile_lists/HLS/fall2022/HLS_stack_2022_v2/HLS_tindex_master.csv\".replace('s3://maap-ops-workspace/shared/nathanmthomas', '/projects/my-public-bucket')\n",
    "Topo_tindex_master_fn = \"s3://maap-ops-workspace/shared/nathanmthomas/DPS_tile_lists/Topo_tindex_master.csv\" #.replace('s3://maap-ops-workspace/shared/nathanmthomas', '/projects/my-public-bucket')\n",
    "\n",
    "# Spring 2022 c2020 composite - use this as template set of tiles (5241 tiles)\n",
    "HLS_EXISTING_TINDEX_FN = 's3://maap-ops-workspace/shared/nathanmthomas/DPS_tile_lists/HLS/c2020/HLS_stack_2023_v1/HLS_tindex_master.csv'\n",
    "\n",
    "s3 = s3fs.S3FileSystem(anon=True)\n",
    "\n",
    "DPS_INPUT_TILE_NUM_LIST = []\n",
    "for tindex_fn in [HLS_EXISTING_TINDEX_FN, Topo_tindex_master_fn]:\n",
    "    tindex = pd.read_csv(tindex_fn, storage_options={'anon':True})\n",
    "    \n",
    "    print(len(tindex['tile_num'].values))\n",
    "    \n",
    "    if len(tindex['tile_num'].values) > len(DPS_INPUT_TILE_NUM_LIST):\n",
    "        print(f\"{len(tindex['tile_num'].values)} tiles in {tindex_fn}\")\n",
    "        print(f'{os.path.basename(tindex_fn)} has the most tiles. Using this for DPS tiles list.')\n",
    "        DPS_INPUT_TILE_NUM_LIST = tindex['tile_num'].values\n",
    "\n",
    "len(DPS_INPUT_TILE_NUM_LIST)\n",
    "TILES_NEEDED = DPS_INPUT_TILE_NUM_LIST"
   ]
  },
  {
   "cell_type": "code",
   "execution_count": 14,
   "id": "8857874a",
   "metadata": {
    "tags": []
   },
   "outputs": [],
   "source": [
    "RUN_IRREGULAR_TILES = False\n",
    "\n",
    "IRREGULAR_TILES_FN = '/projects/my-public-bucket/DPS_tile_lists/HLS_irregular_tiles.csv'\n",
    "\n",
    "if RUN_IRREGULAR_TILES:\n",
    "    DPS_INPUT_TILE_NUM_LIST = []\n",
    "    print(\"Running DPS on irregular tiles that forces a shape of 3000...\")\n",
    "    df = pd.read_csv(IRREGULAR_TILES_FN)\n",
    "    tile_num_list = []\n",
    "    for i in df[\"IrregularTiles\"]:\n",
    "        tile_num = int(i.split('_')[9])\n",
    "        DPS_INPUT_TILE_NUM_LIST.append(tile_num)\n",
    "    print(len(DPS_INPUT_TILE_NUM_LIST))\n",
    "    print(DPS_INPUT_TILE_NUM_LIST)"
   ]
  },
  {
   "cell_type": "code",
   "execution_count": 15,
   "id": "cc5082d9",
   "metadata": {
    "tags": []
   },
   "outputs": [
    {
     "data": {
      "text/plain": [
       "5241"
      ]
     },
     "execution_count": 15,
     "metadata": {},
     "output_type": "execute_result"
    }
   ],
   "source": [
    "len(DPS_INPUT_TILE_NUM_LIST)"
   ]
  },
  {
   "cell_type": "markdown",
   "id": "6a32c06d-2d5d-41e6-ad08-112e3e7fea4f",
   "metadata": {},
   "source": [
    "#### Note: make sure the `in_params_dict` coincides with the args of `build_stack.py`"
   ]
  },
  {
   "cell_type": "code",
   "execution_count": 16,
   "id": "65681b96",
   "metadata": {
    "tags": []
   },
   "outputs": [],
   "source": [
    "#'INDEX_FN': '/projects/my-public-bucket/boreal_tiles_v003.gpkg',\n",
    "in_params_dict = {\n",
    "            'covar_tile_url': 'https://maap-ops-workspace.s3.amazonaws.com/shared/montesano/DPS_tile_lists/SAR/EXPORT_GEE_v3/SAR_S1_2018/S1_tindex_master.gpkg',\n",
    "            'in_tile_url': 'https://maap-ops-workspace.s3.amazonaws.com/shared/montesano/databank/boreal_tiles_v004.gpkg',\n",
    "            'covar_tile_fn': 'S1_tindex_master.gpkg',\n",
    "            'in_tile_fn': 'boreal_tiles_v004.gpkg',\n",
    "            'in_tile_id_col': 'tile_num',\n",
    "            'in_tile_num':\"\",\n",
    "            'tile_buffer_m': 0,\n",
    "            'in_tile_layer': 'boreal_tiles_v004',\n",
    "            #'output_dir': 'dummy',  # a dummy dir so i dont have to change the .yaml now\n",
    "            #'topo_off': 'dummy', # functionality to turn off build a 'topo' stack is FALSE by default - so we have to set this flag (which turns OFF topo building) - this is hardcoded in the .sh now - if we want to build a topo stack with this script, need to learn how to set this flag with params dict \n",
    "            'covar_src_name': 'SAR_S1_2018',\n",
    "            'bandnames_list': 'vh_median_frozen vh_median_shoulder vh_median_summer vv_median_frozen vv_median_shoulder vv_median_summer',\n",
    "            'in_covar_s3_col': 's3_path',\n",
    "            'input_nodata_value': -9999,\n",
    "            'shape': 3000\n",
    "            #'clip': 'dummy' # this is hardcoded in the .sh now - if we want to build a topo stack with this script, need to learn how to set this flag with params dict \n",
    "        }"
   ]
  },
  {
   "cell_type": "code",
   "execution_count": 17,
   "id": "cf6b76d6",
   "metadata": {
    "tags": []
   },
   "outputs": [
    {
     "data": {
      "text/plain": [
       "{'covar_tile_url': 'https://maap-ops-workspace.s3.amazonaws.com/shared/montesano/DPS_tile_lists/SAR/EXPORT_GEE_v3/SAR_S1_2018/S1_tindex_master.gpkg',\n",
       " 'in_tile_url': 'https://maap-ops-workspace.s3.amazonaws.com/shared/montesano/databank/boreal_tiles_v004.gpkg',\n",
       " 'covar_tile_fn': 'S1_tindex_master.gpkg',\n",
       " 'in_tile_fn': 'boreal_tiles_v004.gpkg',\n",
       " 'in_tile_id_col': 'tile_num',\n",
       " 'in_tile_num': '',\n",
       " 'tile_buffer_m': 0,\n",
       " 'in_tile_layer': 'boreal_tiles_v004',\n",
       " 'covar_src_name': 'SAR_S1_2018',\n",
       " 'bandnames_list': 'vh_median_frozen vh_median_shoulder vh_median_summer vv_median_frozen vv_median_shoulder vv_median_summer',\n",
       " 'in_covar_s3_col': 's3_path',\n",
       " 'input_nodata_value': -9999,\n",
       " 'shape': 3000}"
      ]
     },
     "execution_count": 17,
     "metadata": {},
     "output_type": "execute_result"
    }
   ],
   "source": [
    "in_params_dict"
   ]
  },
  {
   "cell_type": "markdown",
   "id": "e6dfd04a-9659-40b0-aefa-4f3f92225cae",
   "metadata": {},
   "source": [
    "## Run a DPS job across the list"
   ]
  },
  {
   "cell_type": "code",
   "execution_count": 18,
   "id": "48c58db9-022d-4a28-95f0-58b06300827b",
   "metadata": {
    "tags": []
   },
   "outputs": [],
   "source": [
    "#DPS_INPUT_TILE_NUM_LIST = CURRENT_MISSING_TILES\n",
    "DPS_INPUT_TILE_NUM_LIST = DPS_INPUT_TILE_NUM_LIST[100:101]"
   ]
  },
  {
   "cell_type": "code",
   "execution_count": 19,
   "id": "5e619703-7095-4f06-b707-9497690434ae",
   "metadata": {
    "tags": []
   },
   "outputs": [],
   "source": [
    "# MAAP algorithm version name\n",
    "IDENTIFIER='TEST_build_stack_S1'\n",
    "MAAP_VERSION = 'build_stack_v2023_2'\n",
    "ALGO_ID = \"run_build_stack\"\n",
    "USER = 'montesano'\n",
    "WORKER_TYPE = 'maap-dps-worker-8gb'"
   ]
  },
  {
   "cell_type": "code",
   "execution_count": 20,
   "id": "01c52cde-1d06-4007-a637-34988938b099",
   "metadata": {
    "tags": []
   },
   "outputs": [],
   "source": [
    "RUN_NAME = IDENTIFIER"
   ]
  },
  {
   "cell_type": "code",
   "execution_count": 21,
   "id": "4abfe38b",
   "metadata": {
    "tags": []
   },
   "outputs": [
    {
     "name": "stdout",
     "output_type": "stream",
     "text": [
      "# of input tiles for DPS: 1\n",
      "DPS run #: 1\t| tile num: 3039\t| submit status: success\t| job id: 69afd1f4-eab8-4f57-be36-e597dbab5f73\n",
      "Current time:\t202312271855\n",
      "<class 'pandas.core.frame.DataFrame'>\n",
      "RangeIndex: 1 entries, 0 to 0\n",
      "Data columns (total 10 columns):\n",
      " #   Column         Non-Null Count  Dtype \n",
      "---  ------         --------------  ----- \n",
      " 0   dps_num        1 non-null      int64 \n",
      " 1   tile_num       1 non-null      int64 \n",
      " 2   submit_time    1 non-null      object\n",
      " 3   dbs_job_hour   1 non-null      int64 \n",
      " 4   algo_id        1 non-null      object\n",
      " 5   user           1 non-null      object\n",
      " 6   worker_type    1 non-null      object\n",
      " 7   job_id         1 non-null      object\n",
      " 8   submit_status  1 non-null      object\n",
      " 9   run_name       1 non-null      object\n",
      "dtypes: int64(3), object(7)\n",
      "memory usage: 208.0+ bytes\n",
      "CPU times: user 30.5 ms, sys: 3.52 ms, total: 34 ms\n",
      "Wall time: 420 ms\n"
     ]
    }
   ],
   "source": [
    "%%time\n",
    "\n",
    "import json\n",
    "\n",
    "submit_results_df_list = []\n",
    "len_input_list = len(DPS_INPUT_TILE_NUM_LIST)\n",
    "print(f\"# of input tiles for DPS: {len_input_list}\")\n",
    "\n",
    "for i, INPUT_TILE_NUM in enumerate(DPS_INPUT_TILE_NUM_LIST):\n",
    "    \n",
    "    DPS_num = i+1\n",
    "    \n",
    "    # Update the in_params_dict with th current INPUT_TILE_NUM\n",
    "    in_params_dict['in_tile_num'] = INPUT_TILE_NUM\n",
    "    \n",
    "    submit_result = maap.submitJob(\n",
    "            identifier=IDENTIFIER,\n",
    "            algo_id=ALGO_ID,\n",
    "            version=MAAP_VERSION,\n",
    "            username=USER, # username needs to be the same as whoever created the workspace\n",
    "            queue=WORKER_TYPE,\n",
    "            **in_params_dict\n",
    "        )\n",
    "    \n",
    "    #print(submit_result)\n",
    "    #break\n",
    "    \n",
    "    # Build a dataframe of submission details\n",
    "    submit_result_df = pd.DataFrame( \n",
    "        {\n",
    "                'dps_num':[DPS_num],\n",
    "                'tile_num':[INPUT_TILE_NUM],\n",
    "                'submit_time':[datetime.datetime.now().strftime('%Y-%m-%d-%H-%M-%s')],\n",
    "                'dbs_job_hour': [datetime.datetime.now().hour],\n",
    "                'algo_id': [ALGO_ID],\n",
    "                'user': [USER],\n",
    "                'worker_type': [WORKER_TYPE],\n",
    "                'job_id': [submit_result.id],\n",
    "                'submit_status': [submit_result.status],\n",
    "            \n",
    "        } \n",
    "    )\n",
    "    \n",
    "    # Append to a list of data frames of submission results\n",
    "    submit_results_df_list.append(submit_result_df)\n",
    "    \n",
    "    if DPS_num in [1, 5, 10, 50, 100, 250, 500, 750, 1000, 1500, 2000, 2500, 3000, 3500, 4000, 4500, 5000, 7000, 9000, 11000, 13000, 15000, 17000, 19000, 21000, 24000, len_input_list]:\n",
    "        print(f\"DPS run #: {DPS_num}\\t| tile num: {INPUT_TILE_NUM}\\t| submit status: {submit_result.status}\\t| job id: {submit_result.id}\") \n",
    "        \n",
    "# Build a final submission results df and save\n",
    "submit_results_df = pd.concat(submit_results_df_list)\n",
    "submit_results_df['run_name'] = RUN_NAME\n",
    "nowtime = pd.Timestamp.now().strftime('%Y%m%d%H%M')\n",
    "print(f\"Current time:\\t{nowtime}\")\n",
    "submit_results_df.to_csv(f'/projects/my-public-bucket/dps_submission_results/DPS_{ALGO_ID}_{RUN_NAME}_submission_results_{len_input_list}_{nowtime}.csv')\n",
    "submit_results_df.info()\n"
   ]
  }
 ],
 "metadata": {
  "kernelspec": {
   "display_name": "/projects/env/above",
   "language": "python",
   "name": "python3"
  },
  "language_info": {
   "codemirror_mode": {
    "name": "ipython",
    "version": 3
   },
   "file_extension": ".py",
   "mimetype": "text/x-python",
   "name": "python",
   "nbconvert_exporter": "python",
   "pygments_lexer": "ipython3",
   "version": "3.9.18"
  }
 },
 "nbformat": 4,
 "nbformat_minor": 5
}
