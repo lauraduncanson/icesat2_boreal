{
 "cells": [
  {
   "cell_type": "code",
   "execution_count": 1,
   "id": "20353ca8",
   "metadata": {},
   "outputs": [],
   "source": [
    "from maap.maap import MAAP\n",
    "maap = MAAP(maap_host='api.ops.maap-project.org')"
   ]
  },
  {
   "cell_type": "markdown",
   "id": "d3397e25",
   "metadata": {},
   "source": [
    "# Launch DPS for 3.1.2_dps.py\n",
    "multi-spectral composites\n"
   ]
  },
  {
   "cell_type": "code",
   "execution_count": 109,
   "id": "f7f84e38",
   "metadata": {},
   "outputs": [
    {
     "name": "stdout",
     "output_type": "stream",
     "text": [
      "Requirement already satisfied: h5py==3.1.0 in /projects/.local/lib/python3.7/site-packages (from -r /projects/Developer/icesat2_boreal/dps/requirements_main.txt (line 3)) (3.1.0)\n",
      "Requirement already satisfied: pandas==1.2.2 in /projects/.local/lib/python3.7/site-packages (from -r /projects/Developer/icesat2_boreal/dps/requirements_main.txt (line 4)) (1.2.2)\n",
      "Requirement already satisfied: pygeos==0.12.0 in /projects/.local/lib/python3.7/site-packages (from -r /projects/Developer/icesat2_boreal/dps/requirements_main.txt (line 7)) (0.12.0)\n",
      "Requirement already satisfied: rtree==0.9.7 in /projects/.local/lib/python3.7/site-packages (from -r /projects/Developer/icesat2_boreal/dps/requirements_main.txt (line 8)) (0.9.7)\n",
      "Requirement already satisfied: numpy==1.21.0 in /projects/.local/lib/python3.7/site-packages (from -r /projects/Developer/icesat2_boreal/dps/requirements_main.txt (line 9)) (1.21.0)\n",
      "Requirement already satisfied: geopandas==0.9.0 in /projects/.local/lib/python3.7/site-packages (from -r /projects/Developer/icesat2_boreal/dps/requirements_main.txt (line 12)) (0.9.0)\n",
      "Requirement already satisfied: rasterio==1.2.6 in /projects/.local/lib/python3.7/site-packages (from -r /projects/Developer/icesat2_boreal/dps/requirements_main.txt (line 13)) (1.2.6)\n",
      "Requirement already satisfied: importlib_resources in /opt/conda/lib/python3.7/site-packages (from -r /projects/Developer/icesat2_boreal/dps/requirements_main.txt (line 14)) (5.6.0)\n",
      "Requirement already satisfied: contextily in /opt/conda/lib/python3.7/site-packages (from -r /projects/Developer/icesat2_boreal/dps/requirements_main.txt (line 15)) (1.2.0)\n",
      "Requirement already satisfied: fsspec in /opt/conda/lib/python3.7/site-packages (from -r /projects/Developer/icesat2_boreal/dps/requirements_main.txt (line 16)) (2022.2.0)\n",
      "Requirement already satisfied: s3fs in /opt/conda/lib/python3.7/site-packages (from -r /projects/Developer/icesat2_boreal/dps/requirements_main.txt (line 17)) (2022.2.0)\n",
      "Requirement already satisfied: rio-cogeo==2.3.1 in /projects/.local/lib/python3.7/site-packages (from -r /projects/Developer/icesat2_boreal/dps/requirements_main.txt (line 22)) (2.3.1)\n",
      "Requirement already satisfied: rio-tiler==2.1.4 in /projects/.local/lib/python3.7/site-packages (from -r /projects/Developer/icesat2_boreal/dps/requirements_main.txt (line 23)) (2.1.4)\n",
      "Requirement already satisfied: morecantile==2.1.4 in /projects/.local/lib/python3.7/site-packages (from -r /projects/Developer/icesat2_boreal/dps/requirements_main.txt (line 25)) (2.1.4)\n",
      "Requirement already satisfied: pystac-client in /projects/.local/lib/python3.7/site-packages (from -r /projects/Developer/icesat2_boreal/dps/requirements_main.txt (line 26)) (0.3.2)\n",
      "Requirement already satisfied: cached-property in /projects/.local/lib/python3.7/site-packages (from h5py==3.1.0->-r /projects/Developer/icesat2_boreal/dps/requirements_main.txt (line 3)) (1.5.2)\n",
      "Requirement already satisfied: pytz>=2017.3 in /opt/conda/lib/python3.7/site-packages (from pandas==1.2.2->-r /projects/Developer/icesat2_boreal/dps/requirements_main.txt (line 4)) (2021.1)\n",
      "Requirement already satisfied: python-dateutil>=2.7.3 in /opt/conda/lib/python3.7/site-packages (from pandas==1.2.2->-r /projects/Developer/icesat2_boreal/dps/requirements_main.txt (line 4)) (2.8.2)\n",
      "Requirement already satisfied: pyproj>=2.2.0 in /opt/conda/lib/python3.7/site-packages (from geopandas==0.9.0->-r /projects/Developer/icesat2_boreal/dps/requirements_main.txt (line 12)) (2.6.1.post1)\n",
      "Requirement already satisfied: fiona>=1.8 in /projects/.local/lib/python3.7/site-packages (from geopandas==0.9.0->-r /projects/Developer/icesat2_boreal/dps/requirements_main.txt (line 12)) (1.8.20)\n",
      "Requirement already satisfied: shapely>=1.6 in /projects/.local/lib/python3.7/site-packages (from geopandas==0.9.0->-r /projects/Developer/icesat2_boreal/dps/requirements_main.txt (line 12)) (1.7.1)\n",
      "Requirement already satisfied: snuggs>=1.4.1 in /opt/conda/lib/python3.7/site-packages (from rasterio==1.2.6->-r /projects/Developer/icesat2_boreal/dps/requirements_main.txt (line 13)) (1.4.7)\n",
      "Requirement already satisfied: click-plugins in /opt/conda/lib/python3.7/site-packages (from rasterio==1.2.6->-r /projects/Developer/icesat2_boreal/dps/requirements_main.txt (line 13)) (1.1.1)\n",
      "Requirement already satisfied: setuptools in /opt/conda/lib/python3.7/site-packages (from rasterio==1.2.6->-r /projects/Developer/icesat2_boreal/dps/requirements_main.txt (line 13)) (49.6.0.post20201009)\n",
      "Requirement already satisfied: cligj>=0.5 in /opt/conda/lib/python3.7/site-packages (from rasterio==1.2.6->-r /projects/Developer/icesat2_boreal/dps/requirements_main.txt (line 13)) (0.7.0)\n",
      "Requirement already satisfied: affine in /opt/conda/lib/python3.7/site-packages (from rasterio==1.2.6->-r /projects/Developer/icesat2_boreal/dps/requirements_main.txt (line 13)) (2.3.0)\n",
      "Requirement already satisfied: certifi in /opt/conda/lib/python3.7/site-packages (from rasterio==1.2.6->-r /projects/Developer/icesat2_boreal/dps/requirements_main.txt (line 13)) (2021.5.30)\n",
      "Requirement already satisfied: click>=4.0 in /opt/conda/lib/python3.7/site-packages (from rasterio==1.2.6->-r /projects/Developer/icesat2_boreal/dps/requirements_main.txt (line 13)) (7.1.2)\n",
      "Requirement already satisfied: attrs in /opt/conda/lib/python3.7/site-packages (from rasterio==1.2.6->-r /projects/Developer/icesat2_boreal/dps/requirements_main.txt (line 13)) (20.2.0)\n",
      "Requirement already satisfied: pydantic in /projects/.local/lib/python3.7/site-packages (from rio-cogeo==2.3.1->-r /projects/Developer/icesat2_boreal/dps/requirements_main.txt (line 22)) (1.8.2)\n",
      "Requirement already satisfied: pystac>=0.5.3 in /projects/.local/lib/python3.7/site-packages (from rio-tiler==2.1.4->-r /projects/Developer/icesat2_boreal/dps/requirements_main.txt (line 23)) (1.2.0)\n",
      "Requirement already satisfied: numexpr in /projects/.local/lib/python3.7/site-packages (from rio-tiler==2.1.4->-r /projects/Developer/icesat2_boreal/dps/requirements_main.txt (line 23)) (2.7.3)\n",
      "Requirement already satisfied: requests in /projects/.local/lib/python3.7/site-packages (from rio-tiler==2.1.4->-r /projects/Developer/icesat2_boreal/dps/requirements_main.txt (line 23)) (2.27.1)\n",
      "Requirement already satisfied: rio-color in /projects/.local/lib/python3.7/site-packages (from rio-tiler==2.1.4->-r /projects/Developer/icesat2_boreal/dps/requirements_main.txt (line 23)) (1.0.3)\n",
      "Requirement already satisfied: boto3 in /opt/conda/lib/python3.7/site-packages (from rio-tiler==2.1.4->-r /projects/Developer/icesat2_boreal/dps/requirements_main.txt (line 23)) (1.20.24)\n",
      "Requirement already satisfied: zipp>=3.1.0 in /opt/conda/lib/python3.7/site-packages (from importlib_resources->-r /projects/Developer/icesat2_boreal/dps/requirements_main.txt (line 14)) (3.6.0)\n",
      "Requirement already satisfied: geopy in /projects/.local/lib/python3.7/site-packages (from contextily->-r /projects/Developer/icesat2_boreal/dps/requirements_main.txt (line 15)) (2.2.0)\n",
      "Requirement already satisfied: pillow in /projects/.local/lib/python3.7/site-packages (from contextily->-r /projects/Developer/icesat2_boreal/dps/requirements_main.txt (line 15)) (8.3.2)\n",
      "Requirement already satisfied: joblib in /projects/.local/lib/python3.7/site-packages (from contextily->-r /projects/Developer/icesat2_boreal/dps/requirements_main.txt (line 15)) (1.0.1)\n",
      "Requirement already satisfied: xyzservices in /projects/.local/lib/python3.7/site-packages (from contextily->-r /projects/Developer/icesat2_boreal/dps/requirements_main.txt (line 15)) (2022.3.0)\n",
      "Requirement already satisfied: matplotlib in /opt/conda/lib/python3.7/site-packages (from contextily->-r /projects/Developer/icesat2_boreal/dps/requirements_main.txt (line 15)) (3.2.2)\n",
      "Requirement already satisfied: mercantile in /projects/.local/lib/python3.7/site-packages (from contextily->-r /projects/Developer/icesat2_boreal/dps/requirements_main.txt (line 15)) (1.2.1)\n",
      "Requirement already satisfied: aiobotocore~=2.1.0 in /opt/conda/lib/python3.7/site-packages (from s3fs->-r /projects/Developer/icesat2_boreal/dps/requirements_main.txt (line 17)) (2.1.2)\n",
      "Requirement already satisfied: aiohttp<=4 in /projects/.local/lib/python3.7/site-packages (from s3fs->-r /projects/Developer/icesat2_boreal/dps/requirements_main.txt (line 17)) (3.7.4.post0)\n",
      "Requirement already satisfied: wrapt>=1.10.10 in /projects/.local/lib/python3.7/site-packages (from aiobotocore~=2.1.0->s3fs->-r /projects/Developer/icesat2_boreal/dps/requirements_main.txt (line 17)) (1.12.1)\n",
      "Requirement already satisfied: botocore<1.23.25,>=1.23.24 in /opt/conda/lib/python3.7/site-packages (from aiobotocore~=2.1.0->s3fs->-r /projects/Developer/icesat2_boreal/dps/requirements_main.txt (line 17)) (1.23.24)\n",
      "Requirement already satisfied: aioitertools>=0.5.1 in /projects/.local/lib/python3.7/site-packages (from aiobotocore~=2.1.0->s3fs->-r /projects/Developer/icesat2_boreal/dps/requirements_main.txt (line 17)) (0.8.0)\n",
      "Requirement already satisfied: typing-extensions>=3.6.5 in /opt/conda/lib/python3.7/site-packages (from aiohttp<=4->s3fs->-r /projects/Developer/icesat2_boreal/dps/requirements_main.txt (line 17)) (3.10.0.2)\n",
      "Requirement already satisfied: async-timeout<4.0,>=3.0 in /projects/.local/lib/python3.7/site-packages (from aiohttp<=4->s3fs->-r /projects/Developer/icesat2_boreal/dps/requirements_main.txt (line 17)) (3.0.1)\n",
      "Requirement already satisfied: chardet<5.0,>=2.0 in /opt/conda/lib/python3.7/site-packages (from aiohttp<=4->s3fs->-r /projects/Developer/icesat2_boreal/dps/requirements_main.txt (line 17)) (3.0.4)\n",
      "Requirement already satisfied: multidict<7.0,>=4.5 in /projects/.local/lib/python3.7/site-packages (from aiohttp<=4->s3fs->-r /projects/Developer/icesat2_boreal/dps/requirements_main.txt (line 17)) (5.1.0)\n",
      "Requirement already satisfied: yarl<2.0,>=1.0 in /projects/.local/lib/python3.7/site-packages (from aiohttp<=4->s3fs->-r /projects/Developer/icesat2_boreal/dps/requirements_main.txt (line 17)) (1.6.3)\n",
      "Requirement already satisfied: six>=1.7 in /opt/conda/lib/python3.7/site-packages (from fiona>=1.8->geopandas==0.9.0->-r /projects/Developer/icesat2_boreal/dps/requirements_main.txt (line 12)) (1.15.0)\n",
      "Requirement already satisfied: munch in /projects/.local/lib/python3.7/site-packages (from fiona>=1.8->geopandas==0.9.0->-r /projects/Developer/icesat2_boreal/dps/requirements_main.txt (line 12)) (2.5.0)\n",
      "Requirement already satisfied: urllib3<1.27,>=1.21.1 in /opt/conda/lib/python3.7/site-packages (from requests->rio-tiler==2.1.4->-r /projects/Developer/icesat2_boreal/dps/requirements_main.txt (line 23)) (1.25.11)\n",
      "Requirement already satisfied: charset-normalizer~=2.0.0 in /projects/.local/lib/python3.7/site-packages (from requests->rio-tiler==2.1.4->-r /projects/Developer/icesat2_boreal/dps/requirements_main.txt (line 23)) (2.0.12)\n",
      "Requirement already satisfied: idna<4,>=2.5 in /opt/conda/lib/python3.7/site-packages (from requests->rio-tiler==2.1.4->-r /projects/Developer/icesat2_boreal/dps/requirements_main.txt (line 23)) (2.10)\n",
      "Requirement already satisfied: pyparsing>=2.1.6 in /opt/conda/lib/python3.7/site-packages (from snuggs>=1.4.1->rasterio==1.2.6->-r /projects/Developer/icesat2_boreal/dps/requirements_main.txt (line 13)) (2.4.7)\n",
      "Requirement already satisfied: s3transfer<0.6.0,>=0.5.0 in /opt/conda/lib/python3.7/site-packages/s3transfer-0.5.0-py3.7.egg (from boto3->rio-tiler==2.1.4->-r /projects/Developer/icesat2_boreal/dps/requirements_main.txt (line 23)) (0.5.0)\n",
      "Requirement already satisfied: jmespath<1.0.0,>=0.7.1 in /opt/conda/lib/python3.7/site-packages/jmespath-0.10.0-py3.7.egg (from boto3->rio-tiler==2.1.4->-r /projects/Developer/icesat2_boreal/dps/requirements_main.txt (line 23)) (0.10.0)\n",
      "Requirement already satisfied: geographiclib<2,>=1.49 in /projects/.local/lib/python3.7/site-packages (from geopy->contextily->-r /projects/Developer/icesat2_boreal/dps/requirements_main.txt (line 15)) (1.52)\n",
      "Requirement already satisfied: kiwisolver>=1.0.1 in /opt/conda/lib/python3.7/site-packages (from matplotlib->contextily->-r /projects/Developer/icesat2_boreal/dps/requirements_main.txt (line 15)) (1.3.1)\n",
      "Requirement already satisfied: cycler>=0.10 in /opt/conda/lib/python3.7/site-packages (from matplotlib->contextily->-r /projects/Developer/icesat2_boreal/dps/requirements_main.txt (line 15)) (0.10.0)\n",
      "Requirement already satisfied: rio-mucho in /projects/.local/lib/python3.7/site-packages (from rio-color->rio-tiler==2.1.4->-r /projects/Developer/icesat2_boreal/dps/requirements_main.txt (line 23)) (1.0.0)\n",
      "\u001b[33mWARNING: Running pip as the 'root' user can result in broken permissions and conflicting behaviour with the system package manager. It is recommended to use a virtual environment instead: https://pip.pypa.io/warnings/venv\u001b[0m\u001b[33m\n",
      "\u001b[0m\u001b[33mWARNING: You are using pip version 22.0.3; however, version 22.0.4 is available.\n",
      "You should consider upgrading via the '/opt/conda/bin/python3.7 -m pip install --upgrade pip' command.\u001b[0m\u001b[33m\n",
      "\u001b[0mRequirement already satisfied: xmltodict in /opt/conda/lib/python3.7/site-packages (0.12.0)\n",
      "\u001b[33mWARNING: Running pip as the 'root' user can result in broken permissions and conflicting behaviour with the system package manager. It is recommended to use a virtual environment instead: https://pip.pypa.io/warnings/venv\u001b[0m\u001b[33m\n",
      "\u001b[0m\u001b[33mWARNING: You are using pip version 22.0.3; however, version 22.0.4 is available.\n",
      "You should consider upgrading via the '/opt/conda/bin/python3.7 -m pip install --upgrade pip' command.\u001b[0m\u001b[33m\n",
      "\u001b[0mRequirement already satisfied: s3fs in /opt/conda/lib/python3.7/site-packages (2022.2.0)\n",
      "Requirement already satisfied: fsspec==2022.02.0 in /opt/conda/lib/python3.7/site-packages (from s3fs) (2022.2.0)\n",
      "Requirement already satisfied: aiohttp<=4 in /projects/.local/lib/python3.7/site-packages (from s3fs) (3.7.4.post0)\n",
      "Requirement already satisfied: aiobotocore~=2.1.0 in /opt/conda/lib/python3.7/site-packages (from s3fs) (2.1.2)\n",
      "Requirement already satisfied: wrapt>=1.10.10 in /projects/.local/lib/python3.7/site-packages (from aiobotocore~=2.1.0->s3fs) (1.12.1)\n",
      "Requirement already satisfied: botocore<1.23.25,>=1.23.24 in /opt/conda/lib/python3.7/site-packages (from aiobotocore~=2.1.0->s3fs) (1.23.24)\n",
      "Requirement already satisfied: aioitertools>=0.5.1 in /projects/.local/lib/python3.7/site-packages (from aiobotocore~=2.1.0->s3fs) (0.8.0)\n",
      "Requirement already satisfied: yarl<2.0,>=1.0 in /projects/.local/lib/python3.7/site-packages (from aiohttp<=4->s3fs) (1.6.3)\n",
      "Requirement already satisfied: chardet<5.0,>=2.0 in /opt/conda/lib/python3.7/site-packages (from aiohttp<=4->s3fs) (3.0.4)\n",
      "Requirement already satisfied: multidict<7.0,>=4.5 in /projects/.local/lib/python3.7/site-packages (from aiohttp<=4->s3fs) (5.1.0)\n",
      "Requirement already satisfied: async-timeout<4.0,>=3.0 in /projects/.local/lib/python3.7/site-packages (from aiohttp<=4->s3fs) (3.0.1)\n",
      "Requirement already satisfied: typing-extensions>=3.6.5 in /opt/conda/lib/python3.7/site-packages (from aiohttp<=4->s3fs) (3.10.0.2)\n",
      "Requirement already satisfied: attrs>=17.3.0 in /opt/conda/lib/python3.7/site-packages (from aiohttp<=4->s3fs) (20.2.0)\n",
      "Requirement already satisfied: jmespath<1.0.0,>=0.7.1 in /opt/conda/lib/python3.7/site-packages/jmespath-0.10.0-py3.7.egg (from botocore<1.23.25,>=1.23.24->aiobotocore~=2.1.0->s3fs) (0.10.0)\n",
      "Requirement already satisfied: python-dateutil<3.0.0,>=2.1 in /opt/conda/lib/python3.7/site-packages (from botocore<1.23.25,>=1.23.24->aiobotocore~=2.1.0->s3fs) (2.8.2)\n",
      "Requirement already satisfied: urllib3<1.27,>=1.25.4 in /opt/conda/lib/python3.7/site-packages (from botocore<1.23.25,>=1.23.24->aiobotocore~=2.1.0->s3fs) (1.25.11)\n",
      "Requirement already satisfied: idna>=2.0 in /opt/conda/lib/python3.7/site-packages (from yarl<2.0,>=1.0->aiohttp<=4->s3fs) (2.10)\n",
      "Requirement already satisfied: six>=1.5 in /opt/conda/lib/python3.7/site-packages (from python-dateutil<3.0.0,>=2.1->botocore<1.23.25,>=1.23.24->aiobotocore~=2.1.0->s3fs) (1.15.0)\n",
      "\u001b[33mWARNING: Running pip as the 'root' user can result in broken permissions and conflicting behaviour with the system package manager. It is recommended to use a virtual environment instead: https://pip.pypa.io/warnings/venv\u001b[0m\u001b[33m\n",
      "\u001b[0m\u001b[33mWARNING: You are using pip version 22.0.3; however, version 22.0.4 is available.\n",
      "You should consider upgrading via the '/opt/conda/bin/python3.7 -m pip install --upgrade pip' command.\u001b[0m\u001b[33m\n",
      "\u001b[0m"
     ]
    },
    {
     "ename": "ImportError",
     "evalue": "cannot import name 'is_valid_ipv6_endpoint_url' from 'botocore.endpoint' (/opt/conda/lib/python3.7/site-packages/botocore-1.21.47-py3.7.egg/botocore/endpoint.py)",
     "output_type": "error",
     "traceback": [
      "\u001b[0;31m---------------------------------------------------------------------------\u001b[0m",
      "\u001b[0;31mImportError\u001b[0m                               Traceback (most recent call last)",
      "\u001b[0;32m/tmp/ipykernel_414/2870977831.py\u001b[0m in \u001b[0;36m<module>\u001b[0;34m\u001b[0m\n\u001b[1;32m      7\u001b[0m \u001b[0mget_ipython\u001b[0m\u001b[0;34m(\u001b[0m\u001b[0;34m)\u001b[0m\u001b[0;34m.\u001b[0m\u001b[0msystem\u001b[0m\u001b[0;34m(\u001b[0m\u001b[0;34m'pip install xmltodict'\u001b[0m\u001b[0;34m)\u001b[0m\u001b[0;34m\u001b[0m\u001b[0;34m\u001b[0m\u001b[0m\n\u001b[1;32m      8\u001b[0m \u001b[0mget_ipython\u001b[0m\u001b[0;34m(\u001b[0m\u001b[0;34m)\u001b[0m\u001b[0;34m.\u001b[0m\u001b[0msystem\u001b[0m\u001b[0;34m(\u001b[0m\u001b[0;34m'pip install s3fs'\u001b[0m\u001b[0;34m)\u001b[0m\u001b[0;34m\u001b[0m\u001b[0;34m\u001b[0m\u001b[0m\n\u001b[0;32m----> 9\u001b[0;31m \u001b[0;32mimport\u001b[0m \u001b[0ms3fs\u001b[0m\u001b[0;34m\u001b[0m\u001b[0;34m\u001b[0m\u001b[0m\n\u001b[0m\u001b[1;32m     10\u001b[0m \u001b[0;32mimport\u001b[0m \u001b[0mxmltodict\u001b[0m\u001b[0;34m\u001b[0m\u001b[0;34m\u001b[0m\u001b[0m\n",
      "\u001b[0;32m/opt/conda/lib/python3.7/site-packages/s3fs/__init__.py\u001b[0m in \u001b[0;36m<module>\u001b[0;34m\u001b[0m\n\u001b[0;32m----> 1\u001b[0;31m \u001b[0;32mfrom\u001b[0m \u001b[0;34m.\u001b[0m\u001b[0mcore\u001b[0m \u001b[0;32mimport\u001b[0m \u001b[0mS3FileSystem\u001b[0m\u001b[0;34m,\u001b[0m \u001b[0mS3File\u001b[0m\u001b[0;34m\u001b[0m\u001b[0;34m\u001b[0m\u001b[0m\n\u001b[0m\u001b[1;32m      2\u001b[0m \u001b[0;32mfrom\u001b[0m \u001b[0;34m.\u001b[0m\u001b[0mmapping\u001b[0m \u001b[0;32mimport\u001b[0m \u001b[0mS3Map\u001b[0m\u001b[0;34m\u001b[0m\u001b[0;34m\u001b[0m\u001b[0m\n\u001b[1;32m      3\u001b[0m \u001b[0;34m\u001b[0m\u001b[0m\n\u001b[1;32m      4\u001b[0m \u001b[0;32mfrom\u001b[0m \u001b[0;34m.\u001b[0m\u001b[0m_version\u001b[0m \u001b[0;32mimport\u001b[0m \u001b[0mget_versions\u001b[0m\u001b[0;34m\u001b[0m\u001b[0;34m\u001b[0m\u001b[0m\n\u001b[1;32m      5\u001b[0m \u001b[0;34m\u001b[0m\u001b[0m\n",
      "\u001b[0;32m/opt/conda/lib/python3.7/site-packages/s3fs/core.py\u001b[0m in \u001b[0;36m<module>\u001b[0;34m\u001b[0m\n\u001b[1;32m     18\u001b[0m \u001b[0;32mimport\u001b[0m \u001b[0maiobotocore\u001b[0m\u001b[0;34m\u001b[0m\u001b[0;34m\u001b[0m\u001b[0m\n\u001b[1;32m     19\u001b[0m \u001b[0;32mimport\u001b[0m \u001b[0mbotocore\u001b[0m\u001b[0;34m\u001b[0m\u001b[0;34m\u001b[0m\u001b[0m\n\u001b[0;32m---> 20\u001b[0;31m \u001b[0;32mimport\u001b[0m \u001b[0maiobotocore\u001b[0m\u001b[0;34m.\u001b[0m\u001b[0msession\u001b[0m\u001b[0;34m\u001b[0m\u001b[0;34m\u001b[0m\u001b[0m\n\u001b[0m\u001b[1;32m     21\u001b[0m \u001b[0;32mfrom\u001b[0m \u001b[0maiobotocore\u001b[0m\u001b[0;34m.\u001b[0m\u001b[0mconfig\u001b[0m \u001b[0;32mimport\u001b[0m \u001b[0mAioConfig\u001b[0m\u001b[0;34m\u001b[0m\u001b[0;34m\u001b[0m\u001b[0m\n\u001b[1;32m     22\u001b[0m \u001b[0;32mfrom\u001b[0m \u001b[0mbotocore\u001b[0m\u001b[0;34m.\u001b[0m\u001b[0mexceptions\u001b[0m \u001b[0;32mimport\u001b[0m \u001b[0mClientError\u001b[0m\u001b[0;34m,\u001b[0m \u001b[0mParamValidationError\u001b[0m\u001b[0;34m\u001b[0m\u001b[0;34m\u001b[0m\u001b[0m\n",
      "\u001b[0;32m/opt/conda/lib/python3.7/site-packages/aiobotocore/session.py\u001b[0m in \u001b[0;36m<module>\u001b[0;34m\u001b[0m\n\u001b[1;32m      4\u001b[0m \u001b[0;32mfrom\u001b[0m \u001b[0mbotocore\u001b[0m \u001b[0;32mimport\u001b[0m \u001b[0mretryhandler\u001b[0m\u001b[0;34m,\u001b[0m \u001b[0mtranslate\u001b[0m\u001b[0;34m\u001b[0m\u001b[0;34m\u001b[0m\u001b[0m\n\u001b[1;32m      5\u001b[0m \u001b[0;32mfrom\u001b[0m \u001b[0mbotocore\u001b[0m\u001b[0;34m.\u001b[0m\u001b[0mexceptions\u001b[0m \u001b[0;32mimport\u001b[0m \u001b[0mPartialCredentialsError\u001b[0m\u001b[0;34m\u001b[0m\u001b[0;34m\u001b[0m\u001b[0m\n\u001b[0;32m----> 6\u001b[0;31m \u001b[0;32mfrom\u001b[0m \u001b[0;34m.\u001b[0m\u001b[0mclient\u001b[0m \u001b[0;32mimport\u001b[0m \u001b[0mAioClientCreator\u001b[0m\u001b[0;34m,\u001b[0m \u001b[0mAioBaseClient\u001b[0m\u001b[0;34m\u001b[0m\u001b[0;34m\u001b[0m\u001b[0m\n\u001b[0m\u001b[1;32m      7\u001b[0m \u001b[0;32mfrom\u001b[0m \u001b[0;34m.\u001b[0m\u001b[0mhooks\u001b[0m \u001b[0;32mimport\u001b[0m \u001b[0mAioHierarchicalEmitter\u001b[0m\u001b[0;34m\u001b[0m\u001b[0;34m\u001b[0m\u001b[0m\n\u001b[1;32m      8\u001b[0m \u001b[0;32mfrom\u001b[0m \u001b[0;34m.\u001b[0m\u001b[0mparsers\u001b[0m \u001b[0;32mimport\u001b[0m \u001b[0mAioResponseParserFactory\u001b[0m\u001b[0;34m\u001b[0m\u001b[0;34m\u001b[0m\u001b[0m\n",
      "\u001b[0;32m/opt/conda/lib/python3.7/site-packages/aiobotocore/client.py\u001b[0m in \u001b[0;36m<module>\u001b[0;34m\u001b[0m\n\u001b[1;32m     10\u001b[0m \u001b[0;34m\u001b[0m\u001b[0m\n\u001b[1;32m     11\u001b[0m \u001b[0;32mfrom\u001b[0m \u001b[0;34m.\u001b[0m\u001b[0mpaginate\u001b[0m \u001b[0;32mimport\u001b[0m \u001b[0mAioPaginator\u001b[0m\u001b[0;34m\u001b[0m\u001b[0;34m\u001b[0m\u001b[0m\n\u001b[0;32m---> 12\u001b[0;31m \u001b[0;32mfrom\u001b[0m \u001b[0;34m.\u001b[0m\u001b[0margs\u001b[0m \u001b[0;32mimport\u001b[0m \u001b[0mAioClientArgsCreator\u001b[0m\u001b[0;34m\u001b[0m\u001b[0;34m\u001b[0m\u001b[0m\n\u001b[0m\u001b[1;32m     13\u001b[0m \u001b[0;32mfrom\u001b[0m \u001b[0;34m.\u001b[0m\u001b[0mutils\u001b[0m \u001b[0;32mimport\u001b[0m \u001b[0mAioS3RegionRedirector\u001b[0m\u001b[0;34m\u001b[0m\u001b[0;34m\u001b[0m\u001b[0m\n\u001b[1;32m     14\u001b[0m \u001b[0;32mfrom\u001b[0m \u001b[0;34m.\u001b[0m\u001b[0mdiscovery\u001b[0m \u001b[0;32mimport\u001b[0m \u001b[0mAioEndpointDiscoveryManager\u001b[0m\u001b[0;34m,\u001b[0m \u001b[0mAioEndpointDiscoveryHandler\u001b[0m\u001b[0;34m\u001b[0m\u001b[0;34m\u001b[0m\u001b[0m\n",
      "\u001b[0;32m/opt/conda/lib/python3.7/site-packages/aiobotocore/args.py\u001b[0m in \u001b[0;36m<module>\u001b[0;34m\u001b[0m\n\u001b[1;32m      6\u001b[0m \u001b[0;34m\u001b[0m\u001b[0m\n\u001b[1;32m      7\u001b[0m \u001b[0;32mfrom\u001b[0m \u001b[0;34m.\u001b[0m\u001b[0mconfig\u001b[0m \u001b[0;32mimport\u001b[0m \u001b[0mAioConfig\u001b[0m\u001b[0;34m\u001b[0m\u001b[0;34m\u001b[0m\u001b[0m\n\u001b[0;32m----> 8\u001b[0;31m \u001b[0;32mfrom\u001b[0m \u001b[0;34m.\u001b[0m\u001b[0mendpoint\u001b[0m \u001b[0;32mimport\u001b[0m \u001b[0mAioEndpointCreator\u001b[0m\u001b[0;34m\u001b[0m\u001b[0;34m\u001b[0m\u001b[0m\n\u001b[0m\u001b[1;32m      9\u001b[0m \u001b[0;32mfrom\u001b[0m \u001b[0;34m.\u001b[0m\u001b[0msigners\u001b[0m \u001b[0;32mimport\u001b[0m \u001b[0mAioRequestSigner\u001b[0m\u001b[0;34m\u001b[0m\u001b[0;34m\u001b[0m\u001b[0m\n\u001b[1;32m     10\u001b[0m \u001b[0;34m\u001b[0m\u001b[0m\n",
      "\u001b[0;32m/opt/conda/lib/python3.7/site-packages/aiobotocore/endpoint.py\u001b[0m in \u001b[0;36m<module>\u001b[0;34m\u001b[0m\n\u001b[1;32m      3\u001b[0m \u001b[0;34m\u001b[0m\u001b[0m\n\u001b[1;32m      4\u001b[0m \u001b[0;32mimport\u001b[0m \u001b[0maiohttp\u001b[0m\u001b[0;34m.\u001b[0m\u001b[0mhttp_exceptions\u001b[0m\u001b[0;34m\u001b[0m\u001b[0;34m\u001b[0m\u001b[0m\n\u001b[0;32m----> 5\u001b[0;31m \u001b[0;32mfrom\u001b[0m \u001b[0mbotocore\u001b[0m\u001b[0;34m.\u001b[0m\u001b[0mendpoint\u001b[0m \u001b[0;32mimport\u001b[0m \u001b[0mEndpointCreator\u001b[0m\u001b[0;34m,\u001b[0m \u001b[0mEndpoint\u001b[0m\u001b[0;34m,\u001b[0m \u001b[0mDEFAULT_TIMEOUT\u001b[0m\u001b[0;34m,\u001b[0m\u001b[0;31m \u001b[0m\u001b[0;31m\\\u001b[0m\u001b[0;34m\u001b[0m\u001b[0;34m\u001b[0m\u001b[0m\n\u001b[0m\u001b[1;32m      6\u001b[0m     \u001b[0mMAX_POOL_CONNECTIONS\u001b[0m\u001b[0;34m,\u001b[0m \u001b[0mlogger\u001b[0m\u001b[0;34m,\u001b[0m \u001b[0mhistory_recorder\u001b[0m\u001b[0;34m,\u001b[0m \u001b[0mcreate_request_object\u001b[0m\u001b[0;34m,\u001b[0m\u001b[0;31m \u001b[0m\u001b[0;31m\\\u001b[0m\u001b[0;34m\u001b[0m\u001b[0;34m\u001b[0m\u001b[0m\n\u001b[1;32m      7\u001b[0m     \u001b[0mis_valid_ipv6_endpoint_url\u001b[0m\u001b[0;34m,\u001b[0m \u001b[0mis_valid_endpoint_url\u001b[0m\u001b[0;34m\u001b[0m\u001b[0;34m\u001b[0m\u001b[0m\n",
      "\u001b[0;31mImportError\u001b[0m: cannot import name 'is_valid_ipv6_endpoint_url' from 'botocore.endpoint' (/opt/conda/lib/python3.7/site-packages/botocore-1.21.47-py3.7.egg/botocore/endpoint.py)"
     ]
    }
   ],
   "source": [
    "from os import path\n",
    "import os, glob\n",
    "import datetime\n",
    "import pandas as pd\n",
    "import geopandas as gpd\n",
    "!pip install -U -r /projects/Developer/icesat2_boreal/dps/requirements_main.txt\n",
    "!pip install xmltodict\n",
    "!pip install s3fs\n",
    "import s3fs\n",
    "import xmltodict"
   ]
  },
  {
   "cell_type": "markdown",
   "id": "0ae2641c",
   "metadata": {},
   "source": [
    "# Show status of MS composites for boreal tiles: find tiles still NEEDED\n",
    "    Colored tiles indicate those still needed - water tiles removed\n",
    "    BLACK tiles are processed"
   ]
  },
  {
   "cell_type": "code",
   "execution_count": 106,
   "id": "c149e5bd",
   "metadata": {},
   "outputs": [],
   "source": [
    "def GET_TILES_NEEDED(DPS_DATA_TYPE = 'HLS',\n",
    "                    boreal_tile_index_path = '/projects/shared-buckets/nathanmthomas/boreal_tiles_v003.gpkg',\n",
    "                    GROUP_FIELD = 'tile_group',\n",
    "                    tindex_master_fn = '/projects/my-private-bucket/dps_output/do_HLS_stack_3-1-2_ubuntu/master/2022/03/HLS_tindex_master.csv',#'s3://maap-ops-workspace/nathanmthomas/dps_output/do_HLS_stack_3-1-2_ubuntu/master/2022/03/HLS_tindex_master.csv',\n",
    "                    topo_tindex_master_fn = '/projects/shared-buckets/nathanmthomas/DPS_tile_lists/Topo_tindex_master.csv',\n",
    "                    bad_tiles = [3540,3634,3728,3823,3916,4004], #Dropping the tiles near antimeridian that reproject poorly.\n",
    "                    REMOVE_BAD_TILES = False,\n",
    "                    REDO_TILES_LIST = None\n",
    "                   ):\n",
    "\n",
    "    # Get all boreal tiles\n",
    "    #shared-buckets/nathanmthomas/boreal_grid_albers90k_gpkg.gpkg\n",
    "    boreal_tile_index = gpd.read_file(boreal_tile_index_path)\n",
    "    \n",
    "    if REMOVE_BAD_TILES:\n",
    "        # Remove bad tiles\n",
    "        boreal_tile_index = boreal_tile_index[~boreal_tile_index['tile_num'].isin(bad_tiles)]\n",
    "\n",
    "    hls_tindex_master = pd.read_csv(tindex_master_fn)\n",
    "    topo_tindex_master = pd.read_csv(topo_tindex_master_fn)\n",
    "    hls_tindex = boreal_tile_index.merge(hls_tindex_master[['tile_num','s3_path','local_path']], how='right', on='tile_num')\n",
    "    topo_tindex = boreal_tile_index.merge(topo_tindex_master[['tile_num','s3_path','local_path']], how='right', on='tile_num')\n",
    "    \n",
    "    if REDO_TILES_LIST is not None:\n",
    "        redo_hls_tindex = hls_tindex[hls_tindex['tile_num'].isin(REDO_TILES_LIST)]\n",
    "        return redo_hls_tindex\n",
    "    else:\n",
    "        print(boreal_tile_index.groupby(GROUP_FIELD)[GROUP_FIELD].agg(['count']))\n",
    "\n",
    "        import matplotlib.pyplot as plt\n",
    "        plt.rcParams['figure.figsize'] = [16, 16]\n",
    "\n",
    "        print(f\"Tile status report for {DPS_DATA_TYPE} from {tindex_master_fn}:\")\n",
    "        print(f'\\t# of boreal tiles in boreal v003:\\t\\t\\t{len(boreal_tile_index)}')\n",
    "\n",
    "        # Get water tiles\n",
    "        water_tiles = list(set(boreal_tile_index.tile_num) - set(topo_tindex.tile_num) )\n",
    "        print(f'\\t# of boreal tiles in water:\\t\\t\\t\\t{len(water_tiles)}')\n",
    "\n",
    "        NUM_STUDY_TILES = len(boreal_tile_index[~boreal_tile_index['tile_num'].isin(water_tiles)])\n",
    "        print(f'\\t# of boreal tiles used study (from Topo coverage):\\t{NUM_STUDY_TILES}')\n",
    "\n",
    "        ax = boreal_tile_index[~boreal_tile_index['tile_num'].isin(water_tiles)].plot(column=GROUP_FIELD, legend=True)\n",
    "        #ax = tiles_topo_index.plot(color='gray', ax=ax)\n",
    "        ax = hls_tindex.plot(color='black', ax = ax)\n",
    "        print(f'\\t# of boreal tiles with {DPS_DATA_TYPE}:\\t\\t\\t\\t{len(hls_tindex)}')\n",
    "\n",
    "        needed_tindex = boreal_tile_index[~boreal_tile_index['tile_num'].isin(hls_tindex.tile_num.to_list() + water_tiles)]\n",
    "        LIST_TILES_NEEDED = needed_tindex.tile_num.to_list()\n",
    "        print(f'\\t# of boreal tiles still needing {DPS_DATA_TYPE}:\\t\\t\\t{len(LIST_TILES_NEEDED)}')\n",
    "\n",
    "        needed_tindex.iloc[0:100].plot(color='#525252', ax = ax)\n",
    "        return LIST_TILES_NEEDED\n"
   ]
  },
  {
   "cell_type": "code",
   "execution_count": 108,
   "id": "edac75b8",
   "metadata": {},
   "outputs": [
    {
     "ename": "ImportError",
     "evalue": "Install s3fs to access S3",
     "output_type": "error",
     "traceback": [
      "\u001b[0;31m---------------------------------------------------------------------------\u001b[0m",
      "\u001b[0;31mImportError\u001b[0m                               Traceback (most recent call last)",
      "\u001b[0;32m/opt/conda/lib/python3.7/site-packages/fsspec/registry.py\u001b[0m in \u001b[0;36mget_filesystem_class\u001b[0;34m(protocol)\u001b[0m\n\u001b[1;32m    218\u001b[0m         \u001b[0;32mtry\u001b[0m\u001b[0;34m:\u001b[0m\u001b[0;34m\u001b[0m\u001b[0;34m\u001b[0m\u001b[0m\n\u001b[0;32m--> 219\u001b[0;31m             \u001b[0mregister_implementation\u001b[0m\u001b[0;34m(\u001b[0m\u001b[0mprotocol\u001b[0m\u001b[0;34m,\u001b[0m \u001b[0m_import_class\u001b[0m\u001b[0;34m(\u001b[0m\u001b[0mbit\u001b[0m\u001b[0;34m[\u001b[0m\u001b[0;34m\"class\"\u001b[0m\u001b[0;34m]\u001b[0m\u001b[0;34m)\u001b[0m\u001b[0;34m)\u001b[0m\u001b[0;34m\u001b[0m\u001b[0;34m\u001b[0m\u001b[0m\n\u001b[0m\u001b[1;32m    220\u001b[0m         \u001b[0;32mexcept\u001b[0m \u001b[0mImportError\u001b[0m \u001b[0;32mas\u001b[0m \u001b[0me\u001b[0m\u001b[0;34m:\u001b[0m\u001b[0;34m\u001b[0m\u001b[0;34m\u001b[0m\u001b[0m\n",
      "\u001b[0;32m/opt/conda/lib/python3.7/site-packages/fsspec/registry.py\u001b[0m in \u001b[0;36m_import_class\u001b[0;34m(cls, minv)\u001b[0m\n\u001b[1;32m    241\u001b[0m         \u001b[0mmod\u001b[0m\u001b[0;34m,\u001b[0m \u001b[0mname\u001b[0m \u001b[0;34m=\u001b[0m \u001b[0mcls\u001b[0m\u001b[0;34m.\u001b[0m\u001b[0mrsplit\u001b[0m\u001b[0;34m(\u001b[0m\u001b[0;34m\".\"\u001b[0m\u001b[0;34m,\u001b[0m \u001b[0;36m1\u001b[0m\u001b[0;34m)\u001b[0m\u001b[0;34m\u001b[0m\u001b[0;34m\u001b[0m\u001b[0m\n\u001b[0;32m--> 242\u001b[0;31m         \u001b[0mmod\u001b[0m \u001b[0;34m=\u001b[0m \u001b[0mimportlib\u001b[0m\u001b[0;34m.\u001b[0m\u001b[0mimport_module\u001b[0m\u001b[0;34m(\u001b[0m\u001b[0mmod\u001b[0m\u001b[0;34m)\u001b[0m\u001b[0;34m\u001b[0m\u001b[0;34m\u001b[0m\u001b[0m\n\u001b[0m\u001b[1;32m    243\u001b[0m         \u001b[0;32mreturn\u001b[0m \u001b[0mgetattr\u001b[0m\u001b[0;34m(\u001b[0m\u001b[0mmod\u001b[0m\u001b[0;34m,\u001b[0m \u001b[0mname\u001b[0m\u001b[0;34m)\u001b[0m\u001b[0;34m\u001b[0m\u001b[0;34m\u001b[0m\u001b[0m\n",
      "\u001b[0;32m/opt/conda/lib/python3.7/importlib/__init__.py\u001b[0m in \u001b[0;36mimport_module\u001b[0;34m(name, package)\u001b[0m\n\u001b[1;32m    126\u001b[0m             \u001b[0mlevel\u001b[0m \u001b[0;34m+=\u001b[0m \u001b[0;36m1\u001b[0m\u001b[0;34m\u001b[0m\u001b[0;34m\u001b[0m\u001b[0m\n\u001b[0;32m--> 127\u001b[0;31m     \u001b[0;32mreturn\u001b[0m \u001b[0m_bootstrap\u001b[0m\u001b[0;34m.\u001b[0m\u001b[0m_gcd_import\u001b[0m\u001b[0;34m(\u001b[0m\u001b[0mname\u001b[0m\u001b[0;34m[\u001b[0m\u001b[0mlevel\u001b[0m\u001b[0;34m:\u001b[0m\u001b[0;34m]\u001b[0m\u001b[0;34m,\u001b[0m \u001b[0mpackage\u001b[0m\u001b[0;34m,\u001b[0m \u001b[0mlevel\u001b[0m\u001b[0;34m)\u001b[0m\u001b[0;34m\u001b[0m\u001b[0;34m\u001b[0m\u001b[0m\n\u001b[0m\u001b[1;32m    128\u001b[0m \u001b[0;34m\u001b[0m\u001b[0m\n",
      "\u001b[0;32m/opt/conda/lib/python3.7/importlib/_bootstrap.py\u001b[0m in \u001b[0;36m_gcd_import\u001b[0;34m(name, package, level)\u001b[0m\n",
      "\u001b[0;32m/opt/conda/lib/python3.7/importlib/_bootstrap.py\u001b[0m in \u001b[0;36m_find_and_load\u001b[0;34m(name, import_)\u001b[0m\n",
      "\u001b[0;32m/opt/conda/lib/python3.7/importlib/_bootstrap.py\u001b[0m in \u001b[0;36m_find_and_load_unlocked\u001b[0;34m(name, import_)\u001b[0m\n",
      "\u001b[0;32m/opt/conda/lib/python3.7/importlib/_bootstrap.py\u001b[0m in \u001b[0;36m_load_unlocked\u001b[0;34m(spec)\u001b[0m\n",
      "\u001b[0;32m/opt/conda/lib/python3.7/importlib/_bootstrap_external.py\u001b[0m in \u001b[0;36mexec_module\u001b[0;34m(self, module)\u001b[0m\n",
      "\u001b[0;32m/opt/conda/lib/python3.7/importlib/_bootstrap.py\u001b[0m in \u001b[0;36m_call_with_frames_removed\u001b[0;34m(f, *args, **kwds)\u001b[0m\n",
      "\u001b[0;32m/opt/conda/lib/python3.7/site-packages/s3fs/__init__.py\u001b[0m in \u001b[0;36m<module>\u001b[0;34m\u001b[0m\n\u001b[0;32m----> 1\u001b[0;31m \u001b[0;32mfrom\u001b[0m \u001b[0;34m.\u001b[0m\u001b[0mcore\u001b[0m \u001b[0;32mimport\u001b[0m \u001b[0mS3FileSystem\u001b[0m\u001b[0;34m,\u001b[0m \u001b[0mS3File\u001b[0m\u001b[0;34m\u001b[0m\u001b[0;34m\u001b[0m\u001b[0m\n\u001b[0m\u001b[1;32m      2\u001b[0m \u001b[0;32mfrom\u001b[0m \u001b[0;34m.\u001b[0m\u001b[0mmapping\u001b[0m \u001b[0;32mimport\u001b[0m \u001b[0mS3Map\u001b[0m\u001b[0;34m\u001b[0m\u001b[0;34m\u001b[0m\u001b[0m\n\u001b[1;32m      3\u001b[0m \u001b[0;34m\u001b[0m\u001b[0m\n",
      "\u001b[0;32m/opt/conda/lib/python3.7/site-packages/s3fs/core.py\u001b[0m in \u001b[0;36m<module>\u001b[0;34m\u001b[0m\n\u001b[1;32m     19\u001b[0m \u001b[0;32mimport\u001b[0m \u001b[0mbotocore\u001b[0m\u001b[0;34m\u001b[0m\u001b[0;34m\u001b[0m\u001b[0m\n\u001b[0;32m---> 20\u001b[0;31m \u001b[0;32mimport\u001b[0m \u001b[0maiobotocore\u001b[0m\u001b[0;34m.\u001b[0m\u001b[0msession\u001b[0m\u001b[0;34m\u001b[0m\u001b[0;34m\u001b[0m\u001b[0m\n\u001b[0m\u001b[1;32m     21\u001b[0m \u001b[0;32mfrom\u001b[0m \u001b[0maiobotocore\u001b[0m\u001b[0;34m.\u001b[0m\u001b[0mconfig\u001b[0m \u001b[0;32mimport\u001b[0m \u001b[0mAioConfig\u001b[0m\u001b[0;34m\u001b[0m\u001b[0;34m\u001b[0m\u001b[0m\n",
      "\u001b[0;32m/opt/conda/lib/python3.7/site-packages/aiobotocore/session.py\u001b[0m in \u001b[0;36m<module>\u001b[0;34m\u001b[0m\n\u001b[1;32m      5\u001b[0m \u001b[0;32mfrom\u001b[0m \u001b[0mbotocore\u001b[0m\u001b[0;34m.\u001b[0m\u001b[0mexceptions\u001b[0m \u001b[0;32mimport\u001b[0m \u001b[0mPartialCredentialsError\u001b[0m\u001b[0;34m\u001b[0m\u001b[0;34m\u001b[0m\u001b[0m\n\u001b[0;32m----> 6\u001b[0;31m \u001b[0;32mfrom\u001b[0m \u001b[0;34m.\u001b[0m\u001b[0mclient\u001b[0m \u001b[0;32mimport\u001b[0m \u001b[0mAioClientCreator\u001b[0m\u001b[0;34m,\u001b[0m \u001b[0mAioBaseClient\u001b[0m\u001b[0;34m\u001b[0m\u001b[0;34m\u001b[0m\u001b[0m\n\u001b[0m\u001b[1;32m      7\u001b[0m \u001b[0;32mfrom\u001b[0m \u001b[0;34m.\u001b[0m\u001b[0mhooks\u001b[0m \u001b[0;32mimport\u001b[0m \u001b[0mAioHierarchicalEmitter\u001b[0m\u001b[0;34m\u001b[0m\u001b[0;34m\u001b[0m\u001b[0m\n",
      "\u001b[0;32m/opt/conda/lib/python3.7/site-packages/aiobotocore/client.py\u001b[0m in \u001b[0;36m<module>\u001b[0;34m\u001b[0m\n\u001b[1;32m     11\u001b[0m \u001b[0;32mfrom\u001b[0m \u001b[0;34m.\u001b[0m\u001b[0mpaginate\u001b[0m \u001b[0;32mimport\u001b[0m \u001b[0mAioPaginator\u001b[0m\u001b[0;34m\u001b[0m\u001b[0;34m\u001b[0m\u001b[0m\n\u001b[0;32m---> 12\u001b[0;31m \u001b[0;32mfrom\u001b[0m \u001b[0;34m.\u001b[0m\u001b[0margs\u001b[0m \u001b[0;32mimport\u001b[0m \u001b[0mAioClientArgsCreator\u001b[0m\u001b[0;34m\u001b[0m\u001b[0;34m\u001b[0m\u001b[0m\n\u001b[0m\u001b[1;32m     13\u001b[0m \u001b[0;32mfrom\u001b[0m \u001b[0;34m.\u001b[0m\u001b[0mutils\u001b[0m \u001b[0;32mimport\u001b[0m \u001b[0mAioS3RegionRedirector\u001b[0m\u001b[0;34m\u001b[0m\u001b[0;34m\u001b[0m\u001b[0m\n",
      "\u001b[0;32m/opt/conda/lib/python3.7/site-packages/aiobotocore/args.py\u001b[0m in \u001b[0;36m<module>\u001b[0;34m\u001b[0m\n\u001b[1;32m      7\u001b[0m \u001b[0;32mfrom\u001b[0m \u001b[0;34m.\u001b[0m\u001b[0mconfig\u001b[0m \u001b[0;32mimport\u001b[0m \u001b[0mAioConfig\u001b[0m\u001b[0;34m\u001b[0m\u001b[0;34m\u001b[0m\u001b[0m\n\u001b[0;32m----> 8\u001b[0;31m \u001b[0;32mfrom\u001b[0m \u001b[0;34m.\u001b[0m\u001b[0mendpoint\u001b[0m \u001b[0;32mimport\u001b[0m \u001b[0mAioEndpointCreator\u001b[0m\u001b[0;34m\u001b[0m\u001b[0;34m\u001b[0m\u001b[0m\n\u001b[0m\u001b[1;32m      9\u001b[0m \u001b[0;32mfrom\u001b[0m \u001b[0;34m.\u001b[0m\u001b[0msigners\u001b[0m \u001b[0;32mimport\u001b[0m \u001b[0mAioRequestSigner\u001b[0m\u001b[0;34m\u001b[0m\u001b[0;34m\u001b[0m\u001b[0m\n",
      "\u001b[0;32m/opt/conda/lib/python3.7/site-packages/aiobotocore/endpoint.py\u001b[0m in \u001b[0;36m<module>\u001b[0;34m\u001b[0m\n\u001b[1;32m      4\u001b[0m \u001b[0;32mimport\u001b[0m \u001b[0maiohttp\u001b[0m\u001b[0;34m.\u001b[0m\u001b[0mhttp_exceptions\u001b[0m\u001b[0;34m\u001b[0m\u001b[0;34m\u001b[0m\u001b[0m\n\u001b[0;32m----> 5\u001b[0;31m \u001b[0;32mfrom\u001b[0m \u001b[0mbotocore\u001b[0m\u001b[0;34m.\u001b[0m\u001b[0mendpoint\u001b[0m \u001b[0;32mimport\u001b[0m \u001b[0mEndpointCreator\u001b[0m\u001b[0;34m,\u001b[0m \u001b[0mEndpoint\u001b[0m\u001b[0;34m,\u001b[0m \u001b[0mDEFAULT_TIMEOUT\u001b[0m\u001b[0;34m,\u001b[0m\u001b[0;31m \u001b[0m\u001b[0;31m\\\u001b[0m\u001b[0;34m\u001b[0m\u001b[0;34m\u001b[0m\u001b[0m\n\u001b[0m\u001b[1;32m      6\u001b[0m     \u001b[0mMAX_POOL_CONNECTIONS\u001b[0m\u001b[0;34m,\u001b[0m \u001b[0mlogger\u001b[0m\u001b[0;34m,\u001b[0m \u001b[0mhistory_recorder\u001b[0m\u001b[0;34m,\u001b[0m \u001b[0mcreate_request_object\u001b[0m\u001b[0;34m,\u001b[0m\u001b[0;31m \u001b[0m\u001b[0;31m\\\u001b[0m\u001b[0;34m\u001b[0m\u001b[0;34m\u001b[0m\u001b[0m\n",
      "\u001b[0;31mImportError\u001b[0m: cannot import name 'is_valid_ipv6_endpoint_url' from 'botocore.endpoint' (/opt/conda/lib/python3.7/site-packages/botocore-1.21.47-py3.7.egg/botocore/endpoint.py)",
      "\nThe above exception was the direct cause of the following exception:\n",
      "\u001b[0;31mImportError\u001b[0m                               Traceback (most recent call last)",
      "\u001b[0;32m/tmp/ipykernel_414/931352176.py\u001b[0m in \u001b[0;36m<module>\u001b[0;34m\u001b[0m\n\u001b[0;32m----> 1\u001b[0;31m \u001b[0mHLS_TILES_NEEDED\u001b[0m \u001b[0;34m=\u001b[0m \u001b[0mGET_TILES_NEEDED\u001b[0m\u001b[0;34m(\u001b[0m\u001b[0mDPS_DATA_TYPE\u001b[0m \u001b[0;34m=\u001b[0m \u001b[0;34m'HLS'\u001b[0m\u001b[0;34m,\u001b[0m \u001b[0mtindex_master_fn\u001b[0m \u001b[0;34m=\u001b[0m \u001b[0;34m's3://maap-ops-workspace/nathanmthomas/dps_output/do_HLS_stack_3-1-2_ubuntu/master/2022/03/HLS_tindex_master.csv'\u001b[0m\u001b[0;34m)\u001b[0m\u001b[0;34m\u001b[0m\u001b[0;34m\u001b[0m\u001b[0m\n\u001b[0m",
      "\u001b[0;32m/tmp/ipykernel_414/3676703563.py\u001b[0m in \u001b[0;36mGET_TILES_NEEDED\u001b[0;34m(DPS_DATA_TYPE, boreal_tile_index_path, GROUP_FIELD, tindex_master_fn, topo_tindex_master_fn, bad_tiles, REMOVE_BAD_TILES, REDO_TILES_LIST)\u001b[0m\n\u001b[1;32m     17\u001b[0m         \u001b[0mboreal_tile_index\u001b[0m \u001b[0;34m=\u001b[0m \u001b[0mboreal_tile_index\u001b[0m\u001b[0;34m[\u001b[0m\u001b[0;34m~\u001b[0m\u001b[0mboreal_tile_index\u001b[0m\u001b[0;34m[\u001b[0m\u001b[0;34m'tile_num'\u001b[0m\u001b[0;34m]\u001b[0m\u001b[0;34m.\u001b[0m\u001b[0misin\u001b[0m\u001b[0;34m(\u001b[0m\u001b[0mbad_tiles\u001b[0m\u001b[0;34m)\u001b[0m\u001b[0;34m]\u001b[0m\u001b[0;34m\u001b[0m\u001b[0;34m\u001b[0m\u001b[0m\n\u001b[1;32m     18\u001b[0m \u001b[0;34m\u001b[0m\u001b[0m\n\u001b[0;32m---> 19\u001b[0;31m     \u001b[0mhls_tindex_master\u001b[0m \u001b[0;34m=\u001b[0m \u001b[0mpd\u001b[0m\u001b[0;34m.\u001b[0m\u001b[0mread_csv\u001b[0m\u001b[0;34m(\u001b[0m\u001b[0mtindex_master_fn\u001b[0m\u001b[0;34m)\u001b[0m\u001b[0;34m\u001b[0m\u001b[0;34m\u001b[0m\u001b[0m\n\u001b[0m\u001b[1;32m     20\u001b[0m     \u001b[0mtopo_tindex_master\u001b[0m \u001b[0;34m=\u001b[0m \u001b[0mpd\u001b[0m\u001b[0;34m.\u001b[0m\u001b[0mread_csv\u001b[0m\u001b[0;34m(\u001b[0m\u001b[0mtopo_tindex_master_fn\u001b[0m\u001b[0;34m)\u001b[0m\u001b[0;34m\u001b[0m\u001b[0;34m\u001b[0m\u001b[0m\n\u001b[1;32m     21\u001b[0m     \u001b[0mhls_tindex\u001b[0m \u001b[0;34m=\u001b[0m \u001b[0mboreal_tile_index\u001b[0m\u001b[0;34m.\u001b[0m\u001b[0mmerge\u001b[0m\u001b[0;34m(\u001b[0m\u001b[0mhls_tindex_master\u001b[0m\u001b[0;34m[\u001b[0m\u001b[0;34m[\u001b[0m\u001b[0;34m'tile_num'\u001b[0m\u001b[0;34m,\u001b[0m\u001b[0;34m's3_path'\u001b[0m\u001b[0;34m,\u001b[0m\u001b[0;34m'local_path'\u001b[0m\u001b[0;34m]\u001b[0m\u001b[0;34m]\u001b[0m\u001b[0;34m,\u001b[0m \u001b[0mhow\u001b[0m\u001b[0;34m=\u001b[0m\u001b[0;34m'right'\u001b[0m\u001b[0;34m,\u001b[0m \u001b[0mon\u001b[0m\u001b[0;34m=\u001b[0m\u001b[0;34m'tile_num'\u001b[0m\u001b[0;34m)\u001b[0m\u001b[0;34m\u001b[0m\u001b[0;34m\u001b[0m\u001b[0m\n",
      "\u001b[0;32m~/.local/lib/python3.7/site-packages/pandas/io/parsers.py\u001b[0m in \u001b[0;36mread_csv\u001b[0;34m(filepath_or_buffer, sep, delimiter, header, names, index_col, usecols, squeeze, prefix, mangle_dupe_cols, dtype, engine, converters, true_values, false_values, skipinitialspace, skiprows, skipfooter, nrows, na_values, keep_default_na, na_filter, verbose, skip_blank_lines, parse_dates, infer_datetime_format, keep_date_col, date_parser, dayfirst, cache_dates, iterator, chunksize, compression, thousands, decimal, lineterminator, quotechar, quoting, doublequote, escapechar, comment, encoding, dialect, error_bad_lines, warn_bad_lines, delim_whitespace, low_memory, memory_map, float_precision, storage_options)\u001b[0m\n\u001b[1;32m    608\u001b[0m     \u001b[0mkwds\u001b[0m\u001b[0;34m.\u001b[0m\u001b[0mupdate\u001b[0m\u001b[0;34m(\u001b[0m\u001b[0mkwds_defaults\u001b[0m\u001b[0;34m)\u001b[0m\u001b[0;34m\u001b[0m\u001b[0;34m\u001b[0m\u001b[0m\n\u001b[1;32m    609\u001b[0m \u001b[0;34m\u001b[0m\u001b[0m\n\u001b[0;32m--> 610\u001b[0;31m     \u001b[0;32mreturn\u001b[0m \u001b[0m_read\u001b[0m\u001b[0;34m(\u001b[0m\u001b[0mfilepath_or_buffer\u001b[0m\u001b[0;34m,\u001b[0m \u001b[0mkwds\u001b[0m\u001b[0;34m)\u001b[0m\u001b[0;34m\u001b[0m\u001b[0;34m\u001b[0m\u001b[0m\n\u001b[0m\u001b[1;32m    611\u001b[0m \u001b[0;34m\u001b[0m\u001b[0m\n\u001b[1;32m    612\u001b[0m \u001b[0;34m\u001b[0m\u001b[0m\n",
      "\u001b[0;32m~/.local/lib/python3.7/site-packages/pandas/io/parsers.py\u001b[0m in \u001b[0;36m_read\u001b[0;34m(filepath_or_buffer, kwds)\u001b[0m\n\u001b[1;32m    460\u001b[0m \u001b[0;34m\u001b[0m\u001b[0m\n\u001b[1;32m    461\u001b[0m     \u001b[0;31m# Create the parser.\u001b[0m\u001b[0;34m\u001b[0m\u001b[0;34m\u001b[0m\u001b[0;34m\u001b[0m\u001b[0m\n\u001b[0;32m--> 462\u001b[0;31m     \u001b[0mparser\u001b[0m \u001b[0;34m=\u001b[0m \u001b[0mTextFileReader\u001b[0m\u001b[0;34m(\u001b[0m\u001b[0mfilepath_or_buffer\u001b[0m\u001b[0;34m,\u001b[0m \u001b[0;34m**\u001b[0m\u001b[0mkwds\u001b[0m\u001b[0;34m)\u001b[0m\u001b[0;34m\u001b[0m\u001b[0;34m\u001b[0m\u001b[0m\n\u001b[0m\u001b[1;32m    463\u001b[0m \u001b[0;34m\u001b[0m\u001b[0m\n\u001b[1;32m    464\u001b[0m     \u001b[0;32mif\u001b[0m \u001b[0mchunksize\u001b[0m \u001b[0;32mor\u001b[0m \u001b[0miterator\u001b[0m\u001b[0;34m:\u001b[0m\u001b[0;34m\u001b[0m\u001b[0;34m\u001b[0m\u001b[0m\n",
      "\u001b[0;32m~/.local/lib/python3.7/site-packages/pandas/io/parsers.py\u001b[0m in \u001b[0;36m__init__\u001b[0;34m(self, f, engine, **kwds)\u001b[0m\n\u001b[1;32m    817\u001b[0m             \u001b[0mself\u001b[0m\u001b[0;34m.\u001b[0m\u001b[0moptions\u001b[0m\u001b[0;34m[\u001b[0m\u001b[0;34m\"has_index_names\"\u001b[0m\u001b[0;34m]\u001b[0m \u001b[0;34m=\u001b[0m \u001b[0mkwds\u001b[0m\u001b[0;34m[\u001b[0m\u001b[0;34m\"has_index_names\"\u001b[0m\u001b[0;34m]\u001b[0m\u001b[0;34m\u001b[0m\u001b[0;34m\u001b[0m\u001b[0m\n\u001b[1;32m    818\u001b[0m \u001b[0;34m\u001b[0m\u001b[0m\n\u001b[0;32m--> 819\u001b[0;31m         \u001b[0mself\u001b[0m\u001b[0;34m.\u001b[0m\u001b[0m_engine\u001b[0m \u001b[0;34m=\u001b[0m \u001b[0mself\u001b[0m\u001b[0;34m.\u001b[0m\u001b[0m_make_engine\u001b[0m\u001b[0;34m(\u001b[0m\u001b[0mself\u001b[0m\u001b[0;34m.\u001b[0m\u001b[0mengine\u001b[0m\u001b[0;34m)\u001b[0m\u001b[0;34m\u001b[0m\u001b[0;34m\u001b[0m\u001b[0m\n\u001b[0m\u001b[1;32m    820\u001b[0m \u001b[0;34m\u001b[0m\u001b[0m\n\u001b[1;32m    821\u001b[0m     \u001b[0;32mdef\u001b[0m \u001b[0mclose\u001b[0m\u001b[0;34m(\u001b[0m\u001b[0mself\u001b[0m\u001b[0;34m)\u001b[0m\u001b[0;34m:\u001b[0m\u001b[0;34m\u001b[0m\u001b[0;34m\u001b[0m\u001b[0m\n",
      "\u001b[0;32m~/.local/lib/python3.7/site-packages/pandas/io/parsers.py\u001b[0m in \u001b[0;36m_make_engine\u001b[0;34m(self, engine)\u001b[0m\n\u001b[1;32m   1048\u001b[0m             )\n\u001b[1;32m   1049\u001b[0m         \u001b[0;31m# error: Too many arguments for \"ParserBase\"\u001b[0m\u001b[0;34m\u001b[0m\u001b[0;34m\u001b[0m\u001b[0;34m\u001b[0m\u001b[0m\n\u001b[0;32m-> 1050\u001b[0;31m         \u001b[0;32mreturn\u001b[0m \u001b[0mmapping\u001b[0m\u001b[0;34m[\u001b[0m\u001b[0mengine\u001b[0m\u001b[0;34m]\u001b[0m\u001b[0;34m(\u001b[0m\u001b[0mself\u001b[0m\u001b[0;34m.\u001b[0m\u001b[0mf\u001b[0m\u001b[0;34m,\u001b[0m \u001b[0;34m**\u001b[0m\u001b[0mself\u001b[0m\u001b[0;34m.\u001b[0m\u001b[0moptions\u001b[0m\u001b[0;34m)\u001b[0m  \u001b[0;31m# type: ignore[call-arg]\u001b[0m\u001b[0;34m\u001b[0m\u001b[0;34m\u001b[0m\u001b[0m\n\u001b[0m\u001b[1;32m   1051\u001b[0m \u001b[0;34m\u001b[0m\u001b[0m\n\u001b[1;32m   1052\u001b[0m     \u001b[0;32mdef\u001b[0m \u001b[0m_failover_to_python\u001b[0m\u001b[0;34m(\u001b[0m\u001b[0mself\u001b[0m\u001b[0;34m)\u001b[0m\u001b[0;34m:\u001b[0m\u001b[0;34m\u001b[0m\u001b[0;34m\u001b[0m\u001b[0m\n",
      "\u001b[0;32m~/.local/lib/python3.7/site-packages/pandas/io/parsers.py\u001b[0m in \u001b[0;36m__init__\u001b[0;34m(self, src, **kwds)\u001b[0m\n\u001b[1;32m   1865\u001b[0m \u001b[0;34m\u001b[0m\u001b[0m\n\u001b[1;32m   1866\u001b[0m         \u001b[0;31m# open handles\u001b[0m\u001b[0;34m\u001b[0m\u001b[0;34m\u001b[0m\u001b[0;34m\u001b[0m\u001b[0m\n\u001b[0;32m-> 1867\u001b[0;31m         \u001b[0mself\u001b[0m\u001b[0;34m.\u001b[0m\u001b[0m_open_handles\u001b[0m\u001b[0;34m(\u001b[0m\u001b[0msrc\u001b[0m\u001b[0;34m,\u001b[0m \u001b[0mkwds\u001b[0m\u001b[0;34m)\u001b[0m\u001b[0;34m\u001b[0m\u001b[0;34m\u001b[0m\u001b[0m\n\u001b[0m\u001b[1;32m   1868\u001b[0m         \u001b[0;32massert\u001b[0m \u001b[0mself\u001b[0m\u001b[0;34m.\u001b[0m\u001b[0mhandles\u001b[0m \u001b[0;32mis\u001b[0m \u001b[0;32mnot\u001b[0m \u001b[0;32mNone\u001b[0m\u001b[0;34m\u001b[0m\u001b[0;34m\u001b[0m\u001b[0m\n\u001b[1;32m   1869\u001b[0m         \u001b[0;32mfor\u001b[0m \u001b[0mkey\u001b[0m \u001b[0;32min\u001b[0m \u001b[0;34m(\u001b[0m\u001b[0;34m\"storage_options\"\u001b[0m\u001b[0;34m,\u001b[0m \u001b[0;34m\"encoding\"\u001b[0m\u001b[0;34m,\u001b[0m \u001b[0;34m\"memory_map\"\u001b[0m\u001b[0;34m,\u001b[0m \u001b[0;34m\"compression\"\u001b[0m\u001b[0;34m)\u001b[0m\u001b[0;34m:\u001b[0m\u001b[0;34m\u001b[0m\u001b[0;34m\u001b[0m\u001b[0m\n",
      "\u001b[0;32m~/.local/lib/python3.7/site-packages/pandas/io/parsers.py\u001b[0m in \u001b[0;36m_open_handles\u001b[0;34m(self, src, kwds)\u001b[0m\n\u001b[1;32m   1366\u001b[0m             \u001b[0mcompression\u001b[0m\u001b[0;34m=\u001b[0m\u001b[0mkwds\u001b[0m\u001b[0;34m.\u001b[0m\u001b[0mget\u001b[0m\u001b[0;34m(\u001b[0m\u001b[0;34m\"compression\"\u001b[0m\u001b[0;34m,\u001b[0m \u001b[0;32mNone\u001b[0m\u001b[0;34m)\u001b[0m\u001b[0;34m,\u001b[0m\u001b[0;34m\u001b[0m\u001b[0;34m\u001b[0m\u001b[0m\n\u001b[1;32m   1367\u001b[0m             \u001b[0mmemory_map\u001b[0m\u001b[0;34m=\u001b[0m\u001b[0mkwds\u001b[0m\u001b[0;34m.\u001b[0m\u001b[0mget\u001b[0m\u001b[0;34m(\u001b[0m\u001b[0;34m\"memory_map\"\u001b[0m\u001b[0;34m,\u001b[0m \u001b[0;32mFalse\u001b[0m\u001b[0;34m)\u001b[0m\u001b[0;34m,\u001b[0m\u001b[0;34m\u001b[0m\u001b[0;34m\u001b[0m\u001b[0m\n\u001b[0;32m-> 1368\u001b[0;31m             \u001b[0mstorage_options\u001b[0m\u001b[0;34m=\u001b[0m\u001b[0mkwds\u001b[0m\u001b[0;34m.\u001b[0m\u001b[0mget\u001b[0m\u001b[0;34m(\u001b[0m\u001b[0;34m\"storage_options\"\u001b[0m\u001b[0;34m,\u001b[0m \u001b[0;32mNone\u001b[0m\u001b[0;34m)\u001b[0m\u001b[0;34m,\u001b[0m\u001b[0;34m\u001b[0m\u001b[0;34m\u001b[0m\u001b[0m\n\u001b[0m\u001b[1;32m   1369\u001b[0m         )\n\u001b[1;32m   1370\u001b[0m \u001b[0;34m\u001b[0m\u001b[0m\n",
      "\u001b[0;32m~/.local/lib/python3.7/site-packages/pandas/io/common.py\u001b[0m in \u001b[0;36mget_handle\u001b[0;34m(path_or_buf, mode, encoding, compression, memory_map, is_text, errors, storage_options)\u001b[0m\n\u001b[1;32m    561\u001b[0m         \u001b[0mcompression\u001b[0m\u001b[0;34m=\u001b[0m\u001b[0mcompression\u001b[0m\u001b[0;34m,\u001b[0m\u001b[0;34m\u001b[0m\u001b[0;34m\u001b[0m\u001b[0m\n\u001b[1;32m    562\u001b[0m         \u001b[0mmode\u001b[0m\u001b[0;34m=\u001b[0m\u001b[0mmode\u001b[0m\u001b[0;34m,\u001b[0m\u001b[0;34m\u001b[0m\u001b[0;34m\u001b[0m\u001b[0m\n\u001b[0;32m--> 563\u001b[0;31m         \u001b[0mstorage_options\u001b[0m\u001b[0;34m=\u001b[0m\u001b[0mstorage_options\u001b[0m\u001b[0;34m,\u001b[0m\u001b[0;34m\u001b[0m\u001b[0;34m\u001b[0m\u001b[0m\n\u001b[0m\u001b[1;32m    564\u001b[0m     )\n\u001b[1;32m    565\u001b[0m \u001b[0;34m\u001b[0m\u001b[0m\n",
      "\u001b[0;32m~/.local/lib/python3.7/site-packages/pandas/io/common.py\u001b[0m in \u001b[0;36m_get_filepath_or_buffer\u001b[0;34m(filepath_or_buffer, encoding, compression, mode, storage_options)\u001b[0m\n\u001b[1;32m    332\u001b[0m         \u001b[0;32mtry\u001b[0m\u001b[0;34m:\u001b[0m\u001b[0;34m\u001b[0m\u001b[0;34m\u001b[0m\u001b[0m\n\u001b[1;32m    333\u001b[0m             file_obj = fsspec.open(\n\u001b[0;32m--> 334\u001b[0;31m                 \u001b[0mfilepath_or_buffer\u001b[0m\u001b[0;34m,\u001b[0m \u001b[0mmode\u001b[0m\u001b[0;34m=\u001b[0m\u001b[0mfsspec_mode\u001b[0m\u001b[0;34m,\u001b[0m \u001b[0;34m**\u001b[0m\u001b[0;34m(\u001b[0m\u001b[0mstorage_options\u001b[0m \u001b[0;32mor\u001b[0m \u001b[0;34m{\u001b[0m\u001b[0;34m}\u001b[0m\u001b[0;34m)\u001b[0m\u001b[0;34m\u001b[0m\u001b[0;34m\u001b[0m\u001b[0m\n\u001b[0m\u001b[1;32m    335\u001b[0m             ).open()\n\u001b[1;32m    336\u001b[0m         \u001b[0;31m# GH 34626 Reads from Public Buckets without Credentials needs anon=True\u001b[0m\u001b[0;34m\u001b[0m\u001b[0;34m\u001b[0m\u001b[0;34m\u001b[0m\u001b[0m\n",
      "\u001b[0;32m/opt/conda/lib/python3.7/site-packages/fsspec/core.py\u001b[0m in \u001b[0;36mopen\u001b[0;34m(urlpath, mode, compression, encoding, errors, protocol, newline, **kwargs)\u001b[0m\n\u001b[1;32m    469\u001b[0m         \u001b[0mnewline\u001b[0m\u001b[0;34m=\u001b[0m\u001b[0mnewline\u001b[0m\u001b[0;34m,\u001b[0m\u001b[0;34m\u001b[0m\u001b[0;34m\u001b[0m\u001b[0m\n\u001b[1;32m    470\u001b[0m         \u001b[0mexpand\u001b[0m\u001b[0;34m=\u001b[0m\u001b[0;32mFalse\u001b[0m\u001b[0;34m,\u001b[0m\u001b[0;34m\u001b[0m\u001b[0;34m\u001b[0m\u001b[0m\n\u001b[0;32m--> 471\u001b[0;31m         \u001b[0;34m**\u001b[0m\u001b[0mkwargs\u001b[0m\u001b[0;34m,\u001b[0m\u001b[0;34m\u001b[0m\u001b[0;34m\u001b[0m\u001b[0m\n\u001b[0m\u001b[1;32m    472\u001b[0m     )[0]\n\u001b[1;32m    473\u001b[0m \u001b[0;34m\u001b[0m\u001b[0m\n",
      "\u001b[0;32m/opt/conda/lib/python3.7/site-packages/fsspec/core.py\u001b[0m in \u001b[0;36mopen_files\u001b[0;34m(urlpath, mode, compression, encoding, errors, name_function, num, protocol, newline, auto_mkdir, expand, **kwargs)\u001b[0m\n\u001b[1;32m    299\u001b[0m         \u001b[0mstorage_options\u001b[0m\u001b[0;34m=\u001b[0m\u001b[0mkwargs\u001b[0m\u001b[0;34m,\u001b[0m\u001b[0;34m\u001b[0m\u001b[0;34m\u001b[0m\u001b[0m\n\u001b[1;32m    300\u001b[0m         \u001b[0mprotocol\u001b[0m\u001b[0;34m=\u001b[0m\u001b[0mprotocol\u001b[0m\u001b[0;34m,\u001b[0m\u001b[0;34m\u001b[0m\u001b[0;34m\u001b[0m\u001b[0m\n\u001b[0;32m--> 301\u001b[0;31m         \u001b[0mexpand\u001b[0m\u001b[0;34m=\u001b[0m\u001b[0mexpand\u001b[0m\u001b[0;34m,\u001b[0m\u001b[0;34m\u001b[0m\u001b[0;34m\u001b[0m\u001b[0m\n\u001b[0m\u001b[1;32m    302\u001b[0m     )\n\u001b[1;32m    303\u001b[0m     \u001b[0;32mif\u001b[0m \u001b[0;34m\"r\"\u001b[0m \u001b[0;32mnot\u001b[0m \u001b[0;32min\u001b[0m \u001b[0mmode\u001b[0m \u001b[0;32mand\u001b[0m \u001b[0mauto_mkdir\u001b[0m\u001b[0;34m:\u001b[0m\u001b[0;34m\u001b[0m\u001b[0;34m\u001b[0m\u001b[0m\n",
      "\u001b[0;32m/opt/conda/lib/python3.7/site-packages/fsspec/core.py\u001b[0m in \u001b[0;36mget_fs_token_paths\u001b[0;34m(urlpath, mode, num, name_function, storage_options, protocol, expand)\u001b[0m\n\u001b[1;32m    630\u001b[0m                         \u001b[0;34m\"share the same protocol\"\u001b[0m\u001b[0;34m\u001b[0m\u001b[0;34m\u001b[0m\u001b[0m\n\u001b[1;32m    631\u001b[0m                     )\n\u001b[0;32m--> 632\u001b[0;31m             \u001b[0mcls\u001b[0m \u001b[0;34m=\u001b[0m \u001b[0mget_filesystem_class\u001b[0m\u001b[0;34m(\u001b[0m\u001b[0mprotocol\u001b[0m\u001b[0;34m)\u001b[0m\u001b[0;34m\u001b[0m\u001b[0;34m\u001b[0m\u001b[0m\n\u001b[0m\u001b[1;32m    633\u001b[0m             \u001b[0moptionss\u001b[0m \u001b[0;34m=\u001b[0m \u001b[0mlist\u001b[0m\u001b[0;34m(\u001b[0m\u001b[0mmap\u001b[0m\u001b[0;34m(\u001b[0m\u001b[0mcls\u001b[0m\u001b[0;34m.\u001b[0m\u001b[0m_get_kwargs_from_urls\u001b[0m\u001b[0;34m,\u001b[0m \u001b[0murlpath\u001b[0m\u001b[0;34m)\u001b[0m\u001b[0;34m)\u001b[0m\u001b[0;34m\u001b[0m\u001b[0;34m\u001b[0m\u001b[0m\n\u001b[1;32m    634\u001b[0m             \u001b[0mpaths\u001b[0m \u001b[0;34m=\u001b[0m \u001b[0;34m[\u001b[0m\u001b[0mcls\u001b[0m\u001b[0;34m.\u001b[0m\u001b[0m_strip_protocol\u001b[0m\u001b[0;34m(\u001b[0m\u001b[0mu\u001b[0m\u001b[0;34m)\u001b[0m \u001b[0;32mfor\u001b[0m \u001b[0mu\u001b[0m \u001b[0;32min\u001b[0m \u001b[0murlpath\u001b[0m\u001b[0;34m]\u001b[0m\u001b[0;34m\u001b[0m\u001b[0;34m\u001b[0m\u001b[0m\n",
      "\u001b[0;32m/opt/conda/lib/python3.7/site-packages/fsspec/registry.py\u001b[0m in \u001b[0;36mget_filesystem_class\u001b[0;34m(protocol)\u001b[0m\n\u001b[1;32m    219\u001b[0m             \u001b[0mregister_implementation\u001b[0m\u001b[0;34m(\u001b[0m\u001b[0mprotocol\u001b[0m\u001b[0;34m,\u001b[0m \u001b[0m_import_class\u001b[0m\u001b[0;34m(\u001b[0m\u001b[0mbit\u001b[0m\u001b[0;34m[\u001b[0m\u001b[0;34m\"class\"\u001b[0m\u001b[0;34m]\u001b[0m\u001b[0;34m)\u001b[0m\u001b[0;34m)\u001b[0m\u001b[0;34m\u001b[0m\u001b[0;34m\u001b[0m\u001b[0m\n\u001b[1;32m    220\u001b[0m         \u001b[0;32mexcept\u001b[0m \u001b[0mImportError\u001b[0m \u001b[0;32mas\u001b[0m \u001b[0me\u001b[0m\u001b[0;34m:\u001b[0m\u001b[0;34m\u001b[0m\u001b[0;34m\u001b[0m\u001b[0m\n\u001b[0;32m--> 221\u001b[0;31m             \u001b[0;32mraise\u001b[0m \u001b[0mImportError\u001b[0m\u001b[0;34m(\u001b[0m\u001b[0mbit\u001b[0m\u001b[0;34m[\u001b[0m\u001b[0;34m\"err\"\u001b[0m\u001b[0;34m]\u001b[0m\u001b[0;34m)\u001b[0m \u001b[0;32mfrom\u001b[0m \u001b[0me\u001b[0m\u001b[0;34m\u001b[0m\u001b[0;34m\u001b[0m\u001b[0m\n\u001b[0m\u001b[1;32m    222\u001b[0m     \u001b[0mcls\u001b[0m \u001b[0;34m=\u001b[0m \u001b[0mregistry\u001b[0m\u001b[0;34m[\u001b[0m\u001b[0mprotocol\u001b[0m\u001b[0;34m]\u001b[0m\u001b[0;34m\u001b[0m\u001b[0;34m\u001b[0m\u001b[0m\n\u001b[1;32m    223\u001b[0m     \u001b[0;32mif\u001b[0m \u001b[0mgetattr\u001b[0m\u001b[0;34m(\u001b[0m\u001b[0mcls\u001b[0m\u001b[0;34m,\u001b[0m \u001b[0;34m\"protocol\"\u001b[0m\u001b[0;34m,\u001b[0m \u001b[0;32mNone\u001b[0m\u001b[0;34m)\u001b[0m \u001b[0;32min\u001b[0m \u001b[0;34m(\u001b[0m\u001b[0;34m\"abstract\"\u001b[0m\u001b[0;34m,\u001b[0m \u001b[0;32mNone\u001b[0m\u001b[0;34m)\u001b[0m\u001b[0;34m:\u001b[0m\u001b[0;34m\u001b[0m\u001b[0;34m\u001b[0m\u001b[0m\n",
      "\u001b[0;31mImportError\u001b[0m: Install s3fs to access S3"
     ]
    }
   ],
   "source": [
    "HLS_TILES_NEEDED = GET_TILES_NEEDED(DPS_DATA_TYPE = 'HLS', tindex_master_fn = 's3://maap-ops-workspace/nathanmthomas/dps_output/do_HLS_stack_3-1-2_ubuntu/master/2022/03/HLS_tindex_master.csv')"
   ]
  },
  {
   "cell_type": "code",
   "execution_count": 27,
   "id": "a1be1887",
   "metadata": {},
   "outputs": [
    {
     "data": {
      "text/plain": [
       "3661"
      ]
     },
     "execution_count": 27,
     "metadata": {},
     "output_type": "execute_result"
    }
   ],
   "source": [
    "INPUT_TILE_NUM_LIST = HLS_TILES_NEEDED\n",
    "len(INPUT_TILE_NUM_LIST)\n"
   ]
  },
  {
   "cell_type": "markdown",
   "id": "f435162a",
   "metadata": {},
   "source": [
    "#### Search for tiles that need to be redone due to artifacts\n",
    "    + artifacts are scene-induced - where max_cloud = 25 was a bit too harsh\n",
    "    + manually specify a redo tiles list after inspecting MS comps\n",
    "    + delete the existing tile dirs for those tiles"
   ]
  },
  {
   "cell_type": "code",
   "execution_count": 94,
   "id": "89d7bd73",
   "metadata": {},
   "outputs": [
    {
     "name": "stdout",
     "output_type": "stream",
     "text": [
      "/projects/my-private-bucket/dps_output/do_HLS_stack_3-1-2_ubuntu/master/2022/03/26/03/03/06/576992\n",
      "/projects/my-private-bucket/dps_output/do_HLS_stack_3-1-2_ubuntu/master/2022/03/26/03/10/49/813706\n",
      "/projects/my-private-bucket/dps_output/do_HLS_stack_3-1-2_ubuntu/master/2022/03/26/03/18/46/962548\n",
      "/projects/my-private-bucket/dps_output/do_HLS_stack_3-1-2_ubuntu/master/2022/03/26/13/23/44/264557\n",
      "/projects/my-private-bucket/dps_output/do_HLS_stack_3-1-2_ubuntu/master/2022/03/26/13/51/22/950583\n",
      "/projects/my-private-bucket/dps_output/do_HLS_stack_3-1-2_ubuntu/master/2022/03/26/16/44/40/040811\n",
      "/projects/my-private-bucket/dps_output/do_HLS_stack_3-1-2_ubuntu/master/2022/03/26/20/40/15/386918\n",
      "/projects/my-private-bucket/dps_output/do_HLS_stack_3-1-2_ubuntu/master/2022/03/27/18/31/48/436455\n",
      "/projects/my-private-bucket/dps_output/do_HLS_stack_3-1-2_ubuntu/master/2022/03/27/18/32/28/851020\n"
     ]
    }
   ],
   "source": [
    "REDO_TILES = [\n",
    "                1043, 1044, \\\n",
    "                34675, 34674, 34676, 35126, 35125, 35352, 1216,\n",
    "                3193, 3286, 3380, 3938, 3949\n",
    "             ]\n",
    "\n",
    "REDO_TILES = [3090, 3833, 3920, 701, 747, 35577, 34443, 3949, 1044, 3470]\n",
    "# Get the tindex of the REDOs\n",
    "redo_hls_tindex = GET_TILES_NEEDED(DPS_DATA_TYPE = 'HLS', REDO_TILES_LIST = REDO_TILES)\n",
    "\n",
    "if False:\n",
    "    # Delete the tile dirs of the tiles needing a REDO\n",
    "    for file in redo_hls_tindex.local_path.to_list():\n",
    "        p = os.path.split(file)[0]\n",
    "        print(p)\n",
    "        !rm -rf $p"
   ]
  },
  {
   "cell_type": "code",
   "execution_count": 95,
   "id": "f9af9bb9",
   "metadata": {},
   "outputs": [
    {
     "name": "stdout",
     "output_type": "stream",
     "text": [
      "[3090, 3833, 3920, 701, 747, 35577, 34443, 3949, 1044]\n"
     ]
    }
   ],
   "source": [
    "INPUT_TILE_NUM_LIST = REDO_TILES\n",
    "print(INPUT_TILE_NUM_LIST)"
   ]
  },
  {
   "cell_type": "code",
   "execution_count": 96,
   "id": "4833cf0a",
   "metadata": {},
   "outputs": [],
   "source": [
    "DO_EXPERIMENT = False"
   ]
  },
  {
   "cell_type": "code",
   "execution_count": 97,
   "id": "af384a82",
   "metadata": {},
   "outputs": [],
   "source": [
    "if DO_EXPERIMENT:\n",
    "    \n",
    "    NORWAY_TILE_LIST = pd.read_csv('/projects/shared-buckets/lduncanson/misc_files/norway_tiles.csv').layer.tolist()\n",
    "\n",
    "    DELTA_TILE_LIST = [3365,3366,3367,3458,3459,3460,3353,3354,3355] + [3361, 3362]\n",
    "    BONA_TILE_LIST  = [3270,3271,3272, 3456,3457,  3363,3364,3365] + [3268, 3269]\n",
    "    HEALY_TILE_LIST = [ 3551,3552,3553,3645,3646,3647] + [3648, 3649, 3555, 3554]\n",
    "\n",
    "    #DELTA_TILE_LIST = [3365,3366,3367,3458,3460,3353,3354,3355,3549]\n",
    "    #BONA_TILE_LIST  = [3270,3271,3272,3364,3456,3457,3458,3364,3365]\n",
    "    #HEALY_TILE_LIST = [3456,3457,3458,3551,3552, 3553,3645,3646,3647]\n",
    "    INPUT_EXPERIMENT_TILE_NUM_LIST = NORWAY_TILE_LIST + DELTA_TILE_LIST + BONA_TILE_LIST + HEALY_TILE_LIST\n",
    "    ALASKA_TILE_LIST =  list(range(3268,3272+1))+\\\n",
    "                        list(range(3361,3366+1))+\\\n",
    "                        list(range(3454,3459+1))+\\\n",
    "                        list(range(3549,3555+1))+\\\n",
    "                        list(range(3643,3648+1))\n",
    "\n",
    "    INPUT_EXPERIMENT_TILE_NUM_LIST = NORWAY_TILE_LIST + ALASKA_TILE_LIST\n",
    "    len(INPUT_EXPERIMENT_TILE_NUM_LIST)"
   ]
  },
  {
   "cell_type": "code",
   "execution_count": 98,
   "id": "81c048a4",
   "metadata": {},
   "outputs": [],
   "source": [
    "if DO_EXPERIMENT:\n",
    "    \n",
    "    ILAB_AK_TILE = [3000]\n",
    "    KENAI_TILE = [4017]\n",
    "    ARY_MAS_TILE = [37744, 37743, 37742]\n",
    "    NRWY_TILE = [131]\n",
    "    SESIB_TILE = [3421]\n",
    "    HOWLAND_TILE = [34210]\n",
    "    BC_TILES = list(range(3846,3868+1)) \n",
    "    MISC_TILES = ARY_MAS_TILE + ILAB_AK_TILE + KENAI_TILE + HOWLAND_TILE + BC_TILES + SESIB_TILE# + NRWY_TILE\n",
    "    print(len(MISC_TILES))\n",
    "    \n",
    "    print(len(MISC_TILES + INPUT_EXPERIMENT_TILE_NUM_LIST))\n",
    "    \n",
    "    DPS_INPUT_TILE_NUM_LIST = HOWLAND_TILE + ARY_MAS_TILE\n",
    "    print(len(DPS_INPUT_TILE_NUM_LIST))\n",
    "    "
   ]
  },
  {
   "cell_type": "code",
   "execution_count": 99,
   "id": "b2c5309c",
   "metadata": {},
   "outputs": [
    {
     "name": "stdout",
     "output_type": "stream",
     "text": [
      "Running DPS on the FULL list of input\n",
      "List length: 9\n"
     ]
    }
   ],
   "source": [
    "TEST_DPS  = False\n",
    "\n",
    "if TEST_DPS:\n",
    "    print('Running DPS on a SUBSET list of input')\n",
    "    DPS_INPUT_TILE_NUM_LIST = INPUT_TILE_NUM_LIST[-10:]\n",
    "else:\n",
    "    if DO_EXPERIMENT:\n",
    "        print('Running DPS on the FULL list of EXPERIMENT input')\n",
    "        DPS_INPUT_TILE_NUM_LIST = MISC_TILES + INPUT_EXPERIMENT_TILE_NUM_LIST\n",
    "    else:\n",
    "        print('Running DPS on the FULL list of input')\n",
    "        DPS_INPUT_TILE_NUM_LIST = INPUT_TILE_NUM_LIST\n",
    "    \n",
    "print(f\"List length: {len(DPS_INPUT_TILE_NUM_LIST)}\")"
   ]
  },
  {
   "cell_type": "markdown",
   "id": "f809dd4a",
   "metadata": {},
   "source": [
    "# Run a DPS of MS Composite tiles"
   ]
  },
  {
   "cell_type": "code",
   "execution_count": 100,
   "id": "20595e40",
   "metadata": {},
   "outputs": [
    {
     "data": {
      "text/plain": [
       "'mc40_3yrs'"
      ]
     },
     "execution_count": 100,
     "metadata": {},
     "output_type": "execute_result"
    }
   ],
   "source": [
    "#DPS_INPUT_TILE_NUM_LIST = DPS_INPUT_TILE_NUM_LIST[2000:2100]\n",
    "MAX_CLOUDS = 40\n",
    "RUN_NAME = f'mc{MAX_CLOUDS}_3yrs'\n",
    "RUN_NAME"
   ]
  },
  {
   "cell_type": "code",
   "execution_count": 101,
   "id": "6e2f456a",
   "metadata": {},
   "outputs": [
    {
     "name": "stdout",
     "output_type": "stream",
     "text": [
      "# of input tiles for DPS: 9\n",
      "DPS run #: 1\t| tile num: 3090\t| submit status: success\t| job id: 6f04f355-d89e-4a8d-87e5-e3c831040c8c\n",
      "DPS run #: 9\t| tile num: 1044\t| submit status: success\t| job id: 1e921f1f-41cb-4b1c-8c71-baf28916fe32\n",
      "Current time:\t202203292204\n",
      "CPU times: user 113 ms, sys: 14.1 ms, total: 127 ms\n",
      "Wall time: 1.89 s\n"
     ]
    },
    {
     "data": {
      "text/html": [
       "<div>\n",
       "<style scoped>\n",
       "    .dataframe tbody tr th:only-of-type {\n",
       "        vertical-align: middle;\n",
       "    }\n",
       "\n",
       "    .dataframe tbody tr th {\n",
       "        vertical-align: top;\n",
       "    }\n",
       "\n",
       "    .dataframe thead th {\n",
       "        text-align: right;\n",
       "    }\n",
       "</style>\n",
       "<table border=\"1\" class=\"dataframe\">\n",
       "  <thead>\n",
       "    <tr style=\"text-align: right;\">\n",
       "      <th></th>\n",
       "      <th>status</th>\n",
       "      <th>http_status_code</th>\n",
       "      <th>job_id</th>\n",
       "      <th>dps_num</th>\n",
       "      <th>tile_num</th>\n",
       "      <th>submit_time</th>\n",
       "      <th>dbs_job_hour</th>\n",
       "      <th>algo_id</th>\n",
       "      <th>user</th>\n",
       "      <th>worker_type</th>\n",
       "      <th>run_name</th>\n",
       "    </tr>\n",
       "  </thead>\n",
       "  <tbody>\n",
       "    <tr>\n",
       "      <th>0</th>\n",
       "      <td>success</td>\n",
       "      <td>200</td>\n",
       "      <td>6f04f355-d89e-4a8d-87e5-e3c831040c8c</td>\n",
       "      <td>1</td>\n",
       "      <td>3090</td>\n",
       "      <td>2022-03-29 22:04:53.027876</td>\n",
       "      <td>22</td>\n",
       "      <td>do_HLS_stack_3-1-2_ubuntu</td>\n",
       "      <td>nathanmthomas</td>\n",
       "      <td>maap-dps-worker-32gb</td>\n",
       "      <td>mc40_3yrs</td>\n",
       "    </tr>\n",
       "    <tr>\n",
       "      <th>0</th>\n",
       "      <td>success</td>\n",
       "      <td>200</td>\n",
       "      <td>f3077cb7-00f8-4740-89ae-bb83a9825dfb</td>\n",
       "      <td>2</td>\n",
       "      <td>3833</td>\n",
       "      <td>2022-03-29 22:04:53.124233</td>\n",
       "      <td>22</td>\n",
       "      <td>do_HLS_stack_3-1-2_ubuntu</td>\n",
       "      <td>nathanmthomas</td>\n",
       "      <td>maap-dps-worker-32gb</td>\n",
       "      <td>mc40_3yrs</td>\n",
       "    </tr>\n",
       "    <tr>\n",
       "      <th>0</th>\n",
       "      <td>success</td>\n",
       "      <td>200</td>\n",
       "      <td>371db16b-9b4d-4a8e-adad-4220f707b914</td>\n",
       "      <td>3</td>\n",
       "      <td>3920</td>\n",
       "      <td>2022-03-29 22:04:53.281856</td>\n",
       "      <td>22</td>\n",
       "      <td>do_HLS_stack_3-1-2_ubuntu</td>\n",
       "      <td>nathanmthomas</td>\n",
       "      <td>maap-dps-worker-32gb</td>\n",
       "      <td>mc40_3yrs</td>\n",
       "    </tr>\n",
       "    <tr>\n",
       "      <th>0</th>\n",
       "      <td>success</td>\n",
       "      <td>200</td>\n",
       "      <td>17fa3dcf-f954-4f94-b64c-99b1728cefd3</td>\n",
       "      <td>4</td>\n",
       "      <td>701</td>\n",
       "      <td>2022-03-29 22:04:53.412520</td>\n",
       "      <td>22</td>\n",
       "      <td>do_HLS_stack_3-1-2_ubuntu</td>\n",
       "      <td>nathanmthomas</td>\n",
       "      <td>maap-dps-worker-32gb</td>\n",
       "      <td>mc40_3yrs</td>\n",
       "    </tr>\n",
       "    <tr>\n",
       "      <th>0</th>\n",
       "      <td>success</td>\n",
       "      <td>200</td>\n",
       "      <td>33e68ad9-5af0-4f8d-8563-bfb5852d2313</td>\n",
       "      <td>5</td>\n",
       "      <td>747</td>\n",
       "      <td>2022-03-29 22:04:53.646039</td>\n",
       "      <td>22</td>\n",
       "      <td>do_HLS_stack_3-1-2_ubuntu</td>\n",
       "      <td>nathanmthomas</td>\n",
       "      <td>maap-dps-worker-32gb</td>\n",
       "      <td>mc40_3yrs</td>\n",
       "    </tr>\n",
       "    <tr>\n",
       "      <th>0</th>\n",
       "      <td>success</td>\n",
       "      <td>200</td>\n",
       "      <td>ad60ef77-8aa1-4007-abf3-54cf1b75a8c3</td>\n",
       "      <td>6</td>\n",
       "      <td>35577</td>\n",
       "      <td>2022-03-29 22:04:53.850469</td>\n",
       "      <td>22</td>\n",
       "      <td>do_HLS_stack_3-1-2_ubuntu</td>\n",
       "      <td>nathanmthomas</td>\n",
       "      <td>maap-dps-worker-32gb</td>\n",
       "      <td>mc40_3yrs</td>\n",
       "    </tr>\n",
       "    <tr>\n",
       "      <th>0</th>\n",
       "      <td>success</td>\n",
       "      <td>200</td>\n",
       "      <td>9a69e4af-83e4-454d-9cfc-28bd31bcd40c</td>\n",
       "      <td>7</td>\n",
       "      <td>34443</td>\n",
       "      <td>2022-03-29 22:04:54.073867</td>\n",
       "      <td>22</td>\n",
       "      <td>do_HLS_stack_3-1-2_ubuntu</td>\n",
       "      <td>nathanmthomas</td>\n",
       "      <td>maap-dps-worker-32gb</td>\n",
       "      <td>mc40_3yrs</td>\n",
       "    </tr>\n",
       "    <tr>\n",
       "      <th>0</th>\n",
       "      <td>success</td>\n",
       "      <td>200</td>\n",
       "      <td>d5b64b74-f752-4ed1-8470-c428f286a4cd</td>\n",
       "      <td>8</td>\n",
       "      <td>3949</td>\n",
       "      <td>2022-03-29 22:04:54.352342</td>\n",
       "      <td>22</td>\n",
       "      <td>do_HLS_stack_3-1-2_ubuntu</td>\n",
       "      <td>nathanmthomas</td>\n",
       "      <td>maap-dps-worker-32gb</td>\n",
       "      <td>mc40_3yrs</td>\n",
       "    </tr>\n",
       "    <tr>\n",
       "      <th>0</th>\n",
       "      <td>success</td>\n",
       "      <td>200</td>\n",
       "      <td>1e921f1f-41cb-4b1c-8c71-baf28916fe32</td>\n",
       "      <td>9</td>\n",
       "      <td>1044</td>\n",
       "      <td>2022-03-29 22:04:54.548634</td>\n",
       "      <td>22</td>\n",
       "      <td>do_HLS_stack_3-1-2_ubuntu</td>\n",
       "      <td>nathanmthomas</td>\n",
       "      <td>maap-dps-worker-32gb</td>\n",
       "      <td>mc40_3yrs</td>\n",
       "    </tr>\n",
       "  </tbody>\n",
       "</table>\n",
       "</div>"
      ],
      "text/plain": [
       "    status  http_status_code                                job_id  dps_num  \\\n",
       "0  success               200  6f04f355-d89e-4a8d-87e5-e3c831040c8c        1   \n",
       "0  success               200  f3077cb7-00f8-4740-89ae-bb83a9825dfb        2   \n",
       "0  success               200  371db16b-9b4d-4a8e-adad-4220f707b914        3   \n",
       "0  success               200  17fa3dcf-f954-4f94-b64c-99b1728cefd3        4   \n",
       "0  success               200  33e68ad9-5af0-4f8d-8563-bfb5852d2313        5   \n",
       "0  success               200  ad60ef77-8aa1-4007-abf3-54cf1b75a8c3        6   \n",
       "0  success               200  9a69e4af-83e4-454d-9cfc-28bd31bcd40c        7   \n",
       "0  success               200  d5b64b74-f752-4ed1-8470-c428f286a4cd        8   \n",
       "0  success               200  1e921f1f-41cb-4b1c-8c71-baf28916fe32        9   \n",
       "\n",
       "   tile_num                submit_time  dbs_job_hour  \\\n",
       "0      3090 2022-03-29 22:04:53.027876            22   \n",
       "0      3833 2022-03-29 22:04:53.124233            22   \n",
       "0      3920 2022-03-29 22:04:53.281856            22   \n",
       "0       701 2022-03-29 22:04:53.412520            22   \n",
       "0       747 2022-03-29 22:04:53.646039            22   \n",
       "0     35577 2022-03-29 22:04:53.850469            22   \n",
       "0     34443 2022-03-29 22:04:54.073867            22   \n",
       "0      3949 2022-03-29 22:04:54.352342            22   \n",
       "0      1044 2022-03-29 22:04:54.548634            22   \n",
       "\n",
       "                     algo_id           user           worker_type   run_name  \n",
       "0  do_HLS_stack_3-1-2_ubuntu  nathanmthomas  maap-dps-worker-32gb  mc40_3yrs  \n",
       "0  do_HLS_stack_3-1-2_ubuntu  nathanmthomas  maap-dps-worker-32gb  mc40_3yrs  \n",
       "0  do_HLS_stack_3-1-2_ubuntu  nathanmthomas  maap-dps-worker-32gb  mc40_3yrs  \n",
       "0  do_HLS_stack_3-1-2_ubuntu  nathanmthomas  maap-dps-worker-32gb  mc40_3yrs  \n",
       "0  do_HLS_stack_3-1-2_ubuntu  nathanmthomas  maap-dps-worker-32gb  mc40_3yrs  \n",
       "0  do_HLS_stack_3-1-2_ubuntu  nathanmthomas  maap-dps-worker-32gb  mc40_3yrs  \n",
       "0  do_HLS_stack_3-1-2_ubuntu  nathanmthomas  maap-dps-worker-32gb  mc40_3yrs  \n",
       "0  do_HLS_stack_3-1-2_ubuntu  nathanmthomas  maap-dps-worker-32gb  mc40_3yrs  \n",
       "0  do_HLS_stack_3-1-2_ubuntu  nathanmthomas  maap-dps-worker-32gb  mc40_3yrs  "
      ]
     },
     "execution_count": 101,
     "metadata": {},
     "output_type": "execute_result"
    }
   ],
   "source": [
    "%%time\n",
    "submit_results_df_list = []\n",
    "len_input_list = len(DPS_INPUT_TILE_NUM_LIST)\n",
    "print(f\"# of input tiles for DPS: {len_input_list}\")\n",
    "\n",
    "for i, INPUT_TILE_NUM in enumerate(DPS_INPUT_TILE_NUM_LIST):\n",
    "\n",
    "    DPS_num = i+1\n",
    "    IDENTIFIER = \"do_HLS_stack_3-1-2\"\n",
    "    ALGO_ID = f'{IDENTIFIER}_ubuntu'\n",
    "    USER = 'nathanmthomas'\n",
    "    WORKER_TYPE = 'maap-dps-worker-32gb'\n",
    "    \n",
    "    in_param_dict = {\n",
    "                         'in_tile_fn': 'https://maap-ops-workspace.s3.amazonaws.com/shared/nathanmthomas/boreal_tiles_v003.gpkg',\n",
    "                         'in_tile_num': INPUT_TILE_NUM,\n",
    "                         'in_tile_layer': 'boreal_tiles_v003',\n",
    "                         'sat_api': 'https://cmr.earthdata.nasa.gov/stac/LPCLOUD',\n",
    "                        #'sat_api': 'https://landsatlook.usgs.gov/sat-api',\n",
    "                         'tile_buffer_m': 0,\n",
    "                         'start_year': '2019',\n",
    "                         'end_year': '2021',\n",
    "                         'start_month_day': '06-01',\n",
    "                         'end_month_day': '09-15',\n",
    "                         'max_cloud': MAX_CLOUDS,\n",
    "                         'composite_type': 'HLS'\n",
    "        }\n",
    "        \n",
    "    submit_result = maap.submitJob(\n",
    "                                    identifier=IDENTIFIER,\n",
    "                                    algo_id=ALGO_ID,\n",
    "                                    version=\"master\",\n",
    "                                    username=USER,\n",
    "                                    queue=WORKER_TYPE,\n",
    "                                    # Args that match yaml\n",
    "                                    **in_param_dict\n",
    "        )\n",
    "    \n",
    "    # Build a dataframe of submission details\n",
    "    submit_result['dps_num'] = DPS_num\n",
    "    submit_result['tile_num'] = INPUT_TILE_NUM\n",
    "    submit_result['submit_time'] = datetime.datetime.now()\n",
    "    submit_result['dbs_job_hour'] =datetime.datetime.now().hour\n",
    "    submit_result['algo_id'] = ALGO_ID\n",
    "    submit_result['user'] = USER\n",
    "    submit_result['worker_type'] = WORKER_TYPE\n",
    "    \n",
    "    # Append to a list of data frames of submission results\n",
    "    submit_results_df_list.append(pd.DataFrame([submit_result]))\n",
    "    \n",
    "    if DPS_num in [1, 25,50, 100,200,300,400,500, 750, 1000, 1250, 1500, 1750, 2000, 2250, 2500, 2750, 3000, 3250, 3500, 3750, 4000, 4250, 5000, 7000, 9000, 11000, 13000, 15000, 17000, 19000, 21000, 24000, len_input_list]:\n",
    "        print(f\"DPS run #: {DPS_num}\\t| tile num: {INPUT_TILE_NUM}\\t| submit status: {submit_result['status']}\\t| job id: {submit_result['job_id']}\") \n",
    "        \n",
    "# Build a final submission results df and save\n",
    "submit_results_df = pd.concat(submit_results_df_list)\n",
    "submit_results_df['run_name'] = RUN_NAME\n",
    "nowtime = pd.Timestamp.now().strftime('%Y%m%d%H%M')\n",
    "print(f\"Current time:\\t{nowtime}\")\n",
    "submit_results_df.to_csv(f'/projects/my-public-bucket/DPS_{IDENTIFIER}_submission_results_{len_input_list}_{nowtime}.csv')\n",
    "submit_results_df"
   ]
  },
  {
   "cell_type": "markdown",
   "id": "10799242",
   "metadata": {},
   "source": [
    "After almost any DPS job, you have to assess what succeeded and failed. This involves:\n",
    "1. building a table of job status based on job ids captured in the job_results_df from the DPS run chunk (this takes 40 mins for ~47k jobs) --> this tells you how many jobs failed\n",
    "2. merging the job status table with the job results df --> this tells you which specific granules (or tile nums) failed\n",
    "3. building another input list of granules for a follow-up DPS\n",
    "## Assess DPS results\n",
    "Build a table of job status based on job id - how many jobs failed?"
   ]
  },
  {
   "cell_type": "code",
   "execution_count": 102,
   "id": "936a0fbe",
   "metadata": {},
   "outputs": [],
   "source": [
    "def BUILD_TABLE_JOBSTATUS(submit_results_df):\n",
    "    import xmltodict\n",
    "    job_status_df = pd.concat([pd.DataFrame(xmltodict.parse(maap.getJobStatus(job_id).content)).transpose() for job_id in submit_results_df.job_id.to_list()])\n",
    "    job_status_df = submit_results_df.merge(job_status_df, how='left', left_on='job_id',  right_on='wps:JobID')\n",
    "    return job_status_df"
   ]
  },
  {
   "cell_type": "code",
   "execution_count": 105,
   "id": "a3d8d69d",
   "metadata": {},
   "outputs": [
    {
     "name": "stdout",
     "output_type": "stream",
     "text": [
      "Count total jobs:\t9\n",
      "Count pending jobs:\t0\n",
      "Count running jobs:\t0\n",
      "Count succeeded jobs:\t9\n",
      "Count failed jobs:\t0\n",
      "% of failed jobs:\t0.0\n",
      "CPU times: user 104 ms, sys: 6.02 ms, total: 110 ms\n",
      "Wall time: 264 ms\n"
     ]
    }
   ],
   "source": [
    "%%time\n",
    "z = BUILD_TABLE_JOBSTATUS(submit_results_df)\n",
    "\n",
    "print(f'Count total jobs:\\t{len(z)}')\n",
    "print(f\"Count pending jobs:\\t{z[z['wps:Status'] =='Accepted'].shape[0]}\")\n",
    "print(f\"Count running jobs:\\t{z[z['wps:Status'] =='Running'].shape[0]}\")\n",
    "print(f\"Count succeeded jobs:\\t{z[z['wps:Status'] =='Succeeded'].shape[0]}\")\n",
    "print(f\"Count failed jobs:\\t{z[z['wps:Status'] =='Failed'].shape[0]}\")\n",
    "print(f\"% of failed jobs:\\t{round(z[z['wps:Status'] =='Failed'].shape[0] / ( z[z['wps:Status'] =='Failed'].shape[0] + z[z['wps:Status'] =='Succeeded'].shape[0] ), 4) * 100}\")"
   ]
  },
  {
   "cell_type": "code",
   "execution_count": 91,
   "id": "44608328",
   "metadata": {},
   "outputs": [
    {
     "name": "stdout",
     "output_type": "stream",
     "text": [
      "[1043, 34675, 34674, 34676, 35126, 35125, 35352, 1216, 3193, 3286, 3380, 3938]\n"
     ]
    }
   ],
   "source": [
    "print(z[z['wps:Status'] =='Succeeded'].tile_num.to_list())"
   ]
  },
  {
   "cell_type": "markdown",
   "id": "c5e2e00c",
   "metadata": {},
   "source": [
    "### Get a list of the FAILS to run through DPS again"
   ]
  },
  {
   "cell_type": "code",
   "execution_count": 92,
   "id": "18d5d547",
   "metadata": {},
   "outputs": [
    {
     "name": "stdout",
     "output_type": "stream",
     "text": [
      "[1044, 344443, 3949]\n"
     ]
    }
   ],
   "source": [
    "DPS_INPUT_TILE_NUM_LIST = z[z['wps:Status'] =='Failed'].tile_num.to_list()#[0:75]\n",
    "print(DPS_INPUT_TILE_NUM_LIST)"
   ]
  },
  {
   "cell_type": "code",
   "execution_count": null,
   "id": "3cd89ddf",
   "metadata": {},
   "outputs": [],
   "source": [
    "z[z['wps:Status'] =='Failed']"
   ]
  },
  {
   "cell_type": "code",
   "execution_count": 85,
   "id": "9de9caf3",
   "metadata": {},
   "outputs": [
    {
     "data": {
      "text/plain": [
       "OrderedDict([('wps:Result',\n",
       "              OrderedDict([('@xmlns:ows', 'http://www.opengis.net/ows/2.0'),\n",
       "                           ('@xmlns:schemaLocation',\n",
       "                            'http://schemas.opengis.net/wps/2.0/wps.xsd'),\n",
       "                           ('@xmlns:wps', 'http://www.opengis.net/wps/2.0'),\n",
       "                           ('@xmlns:xsi',\n",
       "                            'http://www.w3.org/2001/XMLSchema-instance'),\n",
       "                           ('wps:JobID',\n",
       "                            '99a5d07b-99fa-4737-b678-f78e0d9a76d4'),\n",
       "                           ('wps:Output',\n",
       "                            OrderedDict([('@id', 'traceback'),\n",
       "                                         ('wps:Data',\n",
       "                                          'activate does not accept more than one argument:\\n[\\'/app/icesat2_boreal/dps/alg_3-1-2/run.sh\\', \\'344443\\', \\'boreal_tiles_v003\\', \\'https://cmr.earthdata.nasa.gov/stac/LPCLOUD\\', \\'0\\', \\'2019\\', \\'2021\\', \\'06-01\\', \\'09-15\\', \\'40\\', \\'HLS\\']\\n\\n+ /app/icesat2_boreal/dps/alg_3-1-2/run.sh 344443 boreal_tiles_v003 https://cmr.earthdata.nasa.gov/stac/LPCLOUD 0 2019 2021 06-01 09-15 40 HLS\\n+ unset PROJ_LIB\\n+ mkdir output\\n++ ls -d input/boreal_tiles_v003.gpkg\\n+ FILENAMELIST=input/boreal_tiles_v003.gpkg\\n+++ dirname /app/icesat2_boreal/dps/alg_3-1-2/run.sh\\n++ cd /app/icesat2_boreal/dps/alg_3-1-2\\n++ pwd -P\\n+ basedir=/app/icesat2_boreal/dps/alg_3-1-2\\n+ FILENAMELIST=($(ls -d input/*))\\n++ ls -d input/boreal_tiles_v003.gpkg\\n+ INPUT1=/data/work/jobs/2022/03/29/21/20/job-do_HLS_stack_3-1-2_ubuntu__master-20220329T211438.771052Z/input/boreal_tiles_v003.gpkg\\n+ INPUT2=/data/work/jobs/2022/03/29/21/20/job-do_HLS_stack_3-1-2_ubuntu__master-20220329T211438.771052Z/\\n+ OUTPUTDIR=/data/work/jobs/2022/03/29/21/20/job-do_HLS_stack_3-1-2_ubuntu__master-20220329T211438.771052Z/output\\n+ python /app/icesat2_boreal/dps/alg_3-1-2/../../lib/3.1.2_dps.py --in_tile_fn /data/work/jobs/2022/03/29/21/20/job-do_HLS_stack_3-1-2_ubuntu__master-20220329T211438.771052Z/input/boreal_tiles_v003.gpkg --in_tile_num 344443 --in_tile_layer boreal_tiles_v003 --sat_api https://cmr.earthdata.nasa.gov/stac/LPCLOUD --tile_buffer_m 0 --start_year 2019 --end_year 2021 --start_month_day 06-01 --end_month_day 09-15 --max_cloud 40 --composite_type HLS --output_dir /data/work/jobs/2022/03/29/21/20/job-do_HLS_stack_3-1-2_ubuntu__master-20220329T211438.771052Z/output\\nERROR 1: PROJ: proj_create_from_database: Open of /opt/conda/envs/icesat2_boreal/share/proj failed\\nTraceback (most recent call last):\\n  File \"/app/icesat2_boreal/dps/alg_3-1-2/../../lib/3.1.2_dps.py\", line 497, in <module>\\n    main()\\n  File \"/app/icesat2_boreal/dps/alg_3-1-2/../../lib/3.1.2_dps.py\", line 291, in main\\n    tile_id = get_index_tile(vector_path=geojson_path_albers, id_col=args.in_tile_id_col, tile_id=tile_n, buffer=args.tile_buffer_m, layer = args.in_tile_layer)#layer = \"boreal_tiles_albers\"\\n  File \"/app/icesat2_boreal/lib/CovariateUtils.py\", line 75, in get_index_tile\\n    tile_parts[\"bbox_orig\"] = tile_parts[\"geom_orig\"].bounds.iloc[0].to_list()\\n  File \"/opt/conda/envs/icesat2_boreal/lib/python3.10/site-packages/pandas/core/indexing.py\", line 967, in __getitem__\\n    return self._getitem_axis(maybe_callable, axis=axis)\\n  File \"/opt/conda/envs/icesat2_boreal/lib/python3.10/site-packages/pandas/core/indexing.py\", line 1520, in _getitem_axis\\n    self._validate_integer(key, axis)\\n  File \"/opt/conda/envs/icesat2_boreal/lib/python3.10/site-packages/pandas/core/indexing.py\", line 1452, in _validate_integer\\n    raise IndexError(\"single positional indexer is out-of-bounds\")\\nIndexError: single positional indexer is out-of-bounds\\n+ cp _stderr.txt _alt_traceback.txt')]))]))])"
      ]
     },
     "execution_count": 85,
     "metadata": {},
     "output_type": "execute_result"
    }
   ],
   "source": [
    "xmltodict.parse(maap.getJobResult(z[z['wps:Status'] =='Failed'].iloc[0].job_id).content)"
   ]
  },
  {
   "cell_type": "code",
   "execution_count": null,
   "id": "0c326572",
   "metadata": {},
   "outputs": [],
   "source": [
    "#!pip install -U -r /projects/Developer/icesat2_boreal/dps/requirements_main.txt"
   ]
  },
  {
   "cell_type": "code",
   "execution_count": null,
   "id": "ed25e482",
   "metadata": {},
   "outputs": [],
   "source": [
    "#!python /projects/Developer/icesat2_boreal/lib/build_tindex_master.py -t HLS -y 2022 -m 03 -d_min 23"
   ]
  }
 ],
 "metadata": {
  "kernelspec": {
   "display_name": "Python 3 (ipykernel)",
   "language": "python",
   "name": "python3"
  },
  "language_info": {
   "codemirror_mode": {
    "name": "ipython",
    "version": 3
   },
   "file_extension": ".py",
   "mimetype": "text/x-python",
   "name": "python",
   "nbconvert_exporter": "python",
   "pygments_lexer": "ipython3",
   "version": "3.7.8"
  }
 },
 "nbformat": 4,
 "nbformat_minor": 5
}
