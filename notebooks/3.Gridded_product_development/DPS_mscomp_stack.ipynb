{
 "cells": [
  {
   "cell_type": "code",
   "execution_count": 1,
   "id": "65ffedbe",
   "metadata": {},
   "outputs": [],
   "source": [
    "from maap.maap import MAAP\n",
    "maap = MAAP(maap_host='api.ops.maap-project.org')"
   ]
  },
  {
   "cell_type": "markdown",
   "id": "6fa1a329",
   "metadata": {},
   "source": [
    "# Launch DPS for 3.1.2_dps.py\n",
    "multi-spectral composites\n"
   ]
  },
  {
   "cell_type": "code",
   "execution_count": 2,
   "id": "a90c2dea",
   "metadata": {},
   "outputs": [
    {
     "name": "stderr",
     "output_type": "stream",
     "text": [
      "/projects/.local/lib/python3.7/site-packages/geopandas/_compat.py:110: UserWarning: The Shapely GEOS version (3.8.0-CAPI-1.13.1 ) is incompatible with the GEOS version PyGEOS was compiled with (3.10.1-CAPI-1.16.0). Conversions between both will be slow.\n",
      "  shapely_geos_version, geos_capi_version_string\n"
     ]
    },
    {
     "name": "stdout",
     "output_type": "stream",
     "text": [
      "Collecting xmltodict\n",
      "  Using cached xmltodict-0.12.0-py2.py3-none-any.whl (9.2 kB)\n",
      "Installing collected packages: xmltodict\n",
      "Successfully installed xmltodict-0.12.0\n",
      "\u001b[33mWARNING: Running pip as the 'root' user can result in broken permissions and conflicting behaviour with the system package manager. It is recommended to use a virtual environment instead: https://pip.pypa.io/warnings/venv\u001b[0m\u001b[33m\n",
      "\u001b[0m\u001b[33mWARNING: You are using pip version 22.0.3; however, version 22.0.4 is available.\n",
      "You should consider upgrading via the '/opt/conda/bin/python3.7 -m pip install --upgrade pip' command.\u001b[0m\u001b[33m\n",
      "\u001b[0m"
     ]
    }
   ],
   "source": [
    "from os import path\n",
    "import os, glob\n",
    "import datetime\n",
    "import pandas as pd\n",
    "import geopandas as gpd\n",
    "!pip install xmltodict\n",
    "import xmltodict"
   ]
  },
  {
   "cell_type": "markdown",
   "id": "3e8a47b5",
   "metadata": {},
   "source": [
    "# Show status of MS composites for boreal tiles: find tiles still NEEDED\n",
    "    Colored tiles indicate those still needed - water tiles removed\n",
    "    BLACK tiles are processed"
   ]
  },
  {
   "cell_type": "code",
   "execution_count": 463,
   "id": "2f20e09c",
   "metadata": {},
   "outputs": [],
   "source": [
    "def GET_TILES_NEEDED(DPS_DATA_TYPE = 'HLS',\n",
    "                    boreal_tile_index_path = '/projects/shared-buckets/nathanmthomas/boreal_tiles_v003.gpkg',\n",
    "                    GROUP_FIELD = 'tile_group',\n",
    "                    tindex_master_fn = 's3://maap-ops-workspace/nathanmthomas/dps_output/do_HLS_stack_3-1-2_ubuntu/master/2022/03/HLS_tindex_master.csv',\n",
    "                    topo_tindex_master_fn = '/projects/shared-buckets/nathanmthomas/DPS_tile_lists/Topo_tindex_master.csv',\n",
    "                    bad_tiles = [3540,3634,3728,3823,3916,4004], #Dropping the tiles near antimeridian that reproject poorly.\n",
    "                    REMOVE_BAD_TILES = False\n",
    "                   ):\n",
    "\n",
    "    # Get all boreal tiles\n",
    "    #shared-buckets/nathanmthomas/boreal_grid_albers90k_gpkg.gpkg\n",
    "    boreal_tile_index = gpd.read_file(boreal_tile_index_path)\n",
    "    \n",
    "    if REMOVE_BAD_TILES:\n",
    "        # Remove bad tiles\n",
    "        boreal_tile_index = boreal_tile_index[~boreal_tile_index['tile_num'].isin(bad_tiles)]\n",
    "\n",
    "    print(boreal_tile_index.groupby(GROUP_FIELD)[GROUP_FIELD].agg(['count']))\n",
    "    \n",
    "    import matplotlib.pyplot as plt\n",
    "    plt.rcParams['figure.figsize'] = [16, 16]\n",
    "\n",
    "    hls_tindex_master = pd.read_csv(tindex_master_fn)\n",
    "    topo_tindex_master = pd.read_csv(topo_tindex_master_fn)\n",
    "\n",
    "    hls_tindex = boreal_tile_index.merge(hls_tindex_master[['tile_num','s3_path','local_path']], how='right', on='tile_num')\n",
    "    topo_tindex = boreal_tile_index.merge(topo_tindex_master[['tile_num','s3_path','local_path']], how='right', on='tile_num')\n",
    "\n",
    "    print(f\"Tile status report for {DPS_DATA_TYPE} from {tindex_master_fn}:\")\n",
    "    print(f'\\t# of boreal tiles in boreal v003:\\t\\t\\t{len(boreal_tile_index)}')\n",
    "\n",
    "    # Get water tiles\n",
    "    water_tiles = list(set(boreal_tile_index.tile_num) - set(topo_tindex.tile_num) )\n",
    "    print(f'\\t# of boreal tiles in water:\\t\\t\\t\\t{len(water_tiles)}')\n",
    "\n",
    "    NUM_STUDY_TILES = len(boreal_tile_index[~boreal_tile_index['tile_num'].isin(water_tiles)])\n",
    "    print(f'\\t# of boreal tiles used study (from Topo coverage):\\t{NUM_STUDY_TILES}')\n",
    "\n",
    "    ax = boreal_tile_index[~boreal_tile_index['tile_num'].isin(water_tiles)].plot(column=GROUP_FIELD, legend=True)\n",
    "    #ax = tiles_topo_index.plot(color='gray', ax=ax)\n",
    "    ax = hls_tindex.plot(color='black', ax = ax)\n",
    "    print(f'\\t# of boreal tiles with {DPS_DATA_TYPE}:\\t\\t\\t\\t{len(hls_tindex)}')\n",
    "\n",
    "    needed_tindex = boreal_tile_index[~boreal_tile_index['tile_num'].isin(hls_tindex.tile_num.to_list() + water_tiles)]\n",
    "    LIST_TILES_NEEDED = needed_tindex.tile_num.to_list()\n",
    "    print(f'\\t# of boreal tiles still needing {DPS_DATA_TYPE}:\\t\\t\\t{len(LIST_TILES_NEEDED)}')\n",
    "    needed_tindex.iloc[0:100].plot(color='#525252', ax = ax)\n",
    "    return LIST_TILES_NEEDED\n"
   ]
  },
  {
   "cell_type": "code",
   "execution_count": 478,
   "id": "30defecf",
   "metadata": {},
   "outputs": [
    {
     "name": "stdout",
     "output_type": "stream",
     "text": [
      "                      count\n",
      "tile_group                 \n",
      "alaska extra             20\n",
      "canada extra             49\n",
      "conus extra              25\n",
      "eurasia central        1169\n",
      "eurasia east           1098\n",
      "eurasia north           159\n",
      "eurasia west            612\n",
      "europe north            290\n",
      "fennoscand south         26\n",
      "north america centra    714\n",
      "north america east      494\n",
      "north america west      470\n",
      "uk                       70\n",
      "Tile status report for HLS from s3://maap-ops-workspace/nathanmthomas/dps_output/do_HLS_stack_3-1-2_ubuntu/master/2022/03/HLS_tindex_master.csv:\n",
      "\t# of boreal tiles in boreal v003:\t\t\t5196\n",
      "\t# of boreal tiles in water:\t\t\t\t124\n",
      "\t# of boreal tiles used study (from Topo coverage):\t5072\n",
      "\t# of boreal tiles with HLS:\t\t\t\t1412\n",
      "\t# of boreal tiles still needing HLS:\t\t\t3661\n"
     ]
    },
    {
     "data": {
      "image/png": "[encoded data removed]",
      "text/plain": [
       "<Figure size 1152x1152 with 1 Axes>"
      ]
     },
     "metadata": {
      "needs_background": "light"
     },
     "output_type": "display_data"
    }
   ],
   "source": [
    "HLS_TILES_NEEDED = GET_TILES_NEEDED(DPS_DATA_TYPE = 'HLS')"
   ]
  },
  {
   "cell_type": "code",
   "execution_count": 479,
   "id": "af3e8be8",
   "metadata": {},
   "outputs": [
    {
     "data": {
      "text/plain": [
       "3661"
      ]
     },
     "execution_count": 479,
     "metadata": {},
     "output_type": "execute_result"
    }
   ],
   "source": [
    "INPUT_TILE_NUM_LIST = HLS_TILES_NEEDED\n",
    "len(INPUT_TILE_NUM_LIST)\n"
   ]
  },
  {
   "cell_type": "code",
   "execution_count": 466,
   "id": "244f5045",
   "metadata": {},
   "outputs": [],
   "source": [
    "DO_EXPERIMENT = False"
   ]
  },
  {
   "cell_type": "code",
   "execution_count": 467,
   "id": "1afa801c",
   "metadata": {},
   "outputs": [],
   "source": [
    "if DO_EXPERIMENT:\n",
    "    \n",
    "    NORWAY_TILE_LIST = pd.read_csv('/projects/shared-buckets/lduncanson/misc_files/norway_tiles.csv').layer.tolist()\n",
    "\n",
    "    DELTA_TILE_LIST = [3365,3366,3367,3458,3459,3460,3353,3354,3355] + [3361, 3362]\n",
    "    BONA_TILE_LIST  = [3270,3271,3272, 3456,3457,  3363,3364,3365] + [3268, 3269]\n",
    "    HEALY_TILE_LIST = [ 3551,3552,3553,3645,3646,3647] + [3648, 3649, 3555, 3554]\n",
    "\n",
    "    #DELTA_TILE_LIST = [3365,3366,3367,3458,3460,3353,3354,3355,3549]\n",
    "    #BONA_TILE_LIST  = [3270,3271,3272,3364,3456,3457,3458,3364,3365]\n",
    "    #HEALY_TILE_LIST = [3456,3457,3458,3551,3552, 3553,3645,3646,3647]\n",
    "    INPUT_EXPERIMENT_TILE_NUM_LIST = NORWAY_TILE_LIST + DELTA_TILE_LIST + BONA_TILE_LIST + HEALY_TILE_LIST\n",
    "    ALASKA_TILE_LIST =  list(range(3268,3272+1))+\\\n",
    "                        list(range(3361,3366+1))+\\\n",
    "                        list(range(3454,3459+1))+\\\n",
    "                        list(range(3549,3555+1))+\\\n",
    "                        list(range(3643,3648+1))\n",
    "\n",
    "    INPUT_EXPERIMENT_TILE_NUM_LIST = NORWAY_TILE_LIST + ALASKA_TILE_LIST\n",
    "    len(INPUT_EXPERIMENT_TILE_NUM_LIST)"
   ]
  },
  {
   "cell_type": "code",
   "execution_count": 468,
   "id": "edcdc3aa",
   "metadata": {},
   "outputs": [],
   "source": [
    "if DO_EXPERIMENT:\n",
    "    \n",
    "    ILAB_AK_TILE = [3000]\n",
    "    KENAI_TILE = [4017]\n",
    "    ARY_MAS_TILE = [37744, 37743, 37742]\n",
    "    NRWY_TILE = [131]\n",
    "    SESIB_TILE = [3421]\n",
    "    HOWLAND_TILE = [34210]\n",
    "    BC_TILES = list(range(3846,3868+1)) \n",
    "    MISC_TILES = ARY_MAS_TILE + ILAB_AK_TILE + KENAI_TILE + HOWLAND_TILE + BC_TILES + SESIB_TILE# + NRWY_TILE\n",
    "    print(len(MISC_TILES))\n",
    "    \n",
    "    print(len(MISC_TILES + INPUT_EXPERIMENT_TILE_NUM_LIST))\n",
    "    \n",
    "    DPS_INPUT_TILE_NUM_LIST = HOWLAND_TILE + ARY_MAS_TILE\n",
    "    print(len(DPS_INPUT_TILE_NUM_LIST))\n",
    "    "
   ]
  },
  {
   "cell_type": "code",
   "execution_count": 480,
   "id": "73ea1a30",
   "metadata": {},
   "outputs": [
    {
     "name": "stdout",
     "output_type": "stream",
     "text": [
      "Running DPS on the FULL list of input\n",
      "List length: 3661\n"
     ]
    }
   ],
   "source": [
    "TEST_DPS  = False\n",
    "\n",
    "if TEST_DPS:\n",
    "    print('Running DPS on a SUBSET list of input')\n",
    "    DPS_INPUT_TILE_NUM_LIST = INPUT_TILE_NUM_LIST[-10:]\n",
    "else:\n",
    "    if DO_EXPERIMENT:\n",
    "        print('Running DPS on the FULL list of EXPERIMENT input')\n",
    "        DPS_INPUT_TILE_NUM_LIST = MISC_TILES + INPUT_EXPERIMENT_TILE_NUM_LIST\n",
    "    else:\n",
    "        print('Running DPS on the FULL list of input')\n",
    "        DPS_INPUT_TILE_NUM_LIST = INPUT_TILE_NUM_LIST\n",
    "    \n",
    "print(f\"List length: {len(DPS_INPUT_TILE_NUM_LIST)}\")"
   ]
  },
  {
   "cell_type": "markdown",
   "id": "56849f00",
   "metadata": {},
   "source": [
    "# Run a DPS of MS Composite tiles"
   ]
  },
  {
   "cell_type": "code",
   "execution_count": 481,
   "id": "4ec9ca4b",
   "metadata": {},
   "outputs": [
    {
     "data": {
      "text/plain": [
       "'mc25_3yrs'"
      ]
     },
     "execution_count": 481,
     "metadata": {},
     "output_type": "execute_result"
    }
   ],
   "source": [
    "DPS_INPUT_TILE_NUM_LIST = DPS_INPUT_TILE_NUM_LIST[2000:2100]\n",
    "MAX_CLOUDS = 25\n",
    "RUN_NAME = f'mc{MAX_CLOUDS}_3yrs'\n",
    "RUN_NAME"
   ]
  },
  {
   "cell_type": "code",
   "execution_count": 482,
   "id": "f2e8d148",
   "metadata": {},
   "outputs": [
    {
     "name": "stdout",
     "output_type": "stream",
     "text": [
      "# of input tiles for DPS: 100\n",
      "DPS run #: 1\t| tile num: 2558\t| submit status: success\t| job id: f0ae47ff-4802-4527-a97b-09bbd5880d6b\n",
      "DPS run #: 25\t| tile num: 2582\t| submit status: success\t| job id: 96e95db9-7554-4bd9-80c8-0f47258e15fc\n",
      "DPS run #: 50\t| tile num: 2610\t| submit status: success\t| job id: 89dfddca-3403-4a5e-b44b-77f138a12d20\n",
      "DPS run #: 100\t| tile num: 2661\t| submit status: success\t| job id: d906591f-3ba4-4bf2-83fd-c5a63133bf6f\n",
      "Current time:\t202203291226\n",
      "CPU times: user 1.2 s, sys: 64.9 ms, total: 1.27 s\n",
      "Wall time: 23.3 s\n"
     ]
    },
    {
     "data": {
      "text/html": [
       "<div>\n",
       "<style scoped>\n",
       "    .dataframe tbody tr th:only-of-type {\n",
       "        vertical-align: middle;\n",
       "    }\n",
       "\n",
       "    .dataframe tbody tr th {\n",
       "        vertical-align: top;\n",
       "    }\n",
       "\n",
       "    .dataframe thead th {\n",
       "        text-align: right;\n",
       "    }\n",
       "</style>\n",
       "<table border=\"1\" class=\"dataframe\">\n",
       "  <thead>\n",
       "    <tr style=\"text-align: right;\">\n",
       "      <th></th>\n",
       "      <th>status</th>\n",
       "      <th>http_status_code</th>\n",
       "      <th>job_id</th>\n",
       "      <th>dps_num</th>\n",
       "      <th>tile_num</th>\n",
       "      <th>submit_time</th>\n",
       "      <th>dbs_job_hour</th>\n",
       "      <th>algo_id</th>\n",
       "      <th>user</th>\n",
       "      <th>worker_type</th>\n",
       "      <th>run_name</th>\n",
       "    </tr>\n",
       "  </thead>\n",
       "  <tbody>\n",
       "    <tr>\n",
       "      <th>0</th>\n",
       "      <td>success</td>\n",
       "      <td>200</td>\n",
       "      <td>f0ae47ff-4802-4527-a97b-09bbd5880d6b</td>\n",
       "      <td>1</td>\n",
       "      <td>2558</td>\n",
       "      <td>2022-03-29 12:26:20.626262</td>\n",
       "      <td>12</td>\n",
       "      <td>do_HLS_stack_3-1-2_ubuntu</td>\n",
       "      <td>nathanmthomas</td>\n",
       "      <td>maap-dps-worker-32gb</td>\n",
       "      <td>mc25_3yrs</td>\n",
       "    </tr>\n",
       "    <tr>\n",
       "      <th>0</th>\n",
       "      <td>success</td>\n",
       "      <td>200</td>\n",
       "      <td>54264fed-91ef-4e22-a253-1c8e0aeb5849</td>\n",
       "      <td>2</td>\n",
       "      <td>2559</td>\n",
       "      <td>2022-03-29 12:26:20.724152</td>\n",
       "      <td>12</td>\n",
       "      <td>do_HLS_stack_3-1-2_ubuntu</td>\n",
       "      <td>nathanmthomas</td>\n",
       "      <td>maap-dps-worker-32gb</td>\n",
       "      <td>mc25_3yrs</td>\n",
       "    </tr>\n",
       "    <tr>\n",
       "      <th>0</th>\n",
       "      <td>success</td>\n",
       "      <td>200</td>\n",
       "      <td>c65732a5-6847-4caf-bfc4-99c0811d2c19</td>\n",
       "      <td>3</td>\n",
       "      <td>2560</td>\n",
       "      <td>2022-03-29 12:26:20.843499</td>\n",
       "      <td>12</td>\n",
       "      <td>do_HLS_stack_3-1-2_ubuntu</td>\n",
       "      <td>nathanmthomas</td>\n",
       "      <td>maap-dps-worker-32gb</td>\n",
       "      <td>mc25_3yrs</td>\n",
       "    </tr>\n",
       "    <tr>\n",
       "      <th>0</th>\n",
       "      <td>success</td>\n",
       "      <td>200</td>\n",
       "      <td>55ee5189-8873-420b-9fb1-9fee79aa9789</td>\n",
       "      <td>4</td>\n",
       "      <td>2561</td>\n",
       "      <td>2022-03-29 12:26:21.002684</td>\n",
       "      <td>12</td>\n",
       "      <td>do_HLS_stack_3-1-2_ubuntu</td>\n",
       "      <td>nathanmthomas</td>\n",
       "      <td>maap-dps-worker-32gb</td>\n",
       "      <td>mc25_3yrs</td>\n",
       "    </tr>\n",
       "    <tr>\n",
       "      <th>0</th>\n",
       "      <td>success</td>\n",
       "      <td>200</td>\n",
       "      <td>0151261d-5891-4c58-9582-2d7bd3edde90</td>\n",
       "      <td>5</td>\n",
       "      <td>2562</td>\n",
       "      <td>2022-03-29 12:26:21.231130</td>\n",
       "      <td>12</td>\n",
       "      <td>do_HLS_stack_3-1-2_ubuntu</td>\n",
       "      <td>nathanmthomas</td>\n",
       "      <td>maap-dps-worker-32gb</td>\n",
       "      <td>mc25_3yrs</td>\n",
       "    </tr>\n",
       "    <tr>\n",
       "      <th>...</th>\n",
       "      <td>...</td>\n",
       "      <td>...</td>\n",
       "      <td>...</td>\n",
       "      <td>...</td>\n",
       "      <td>...</td>\n",
       "      <td>...</td>\n",
       "      <td>...</td>\n",
       "      <td>...</td>\n",
       "      <td>...</td>\n",
       "      <td>...</td>\n",
       "      <td>...</td>\n",
       "    </tr>\n",
       "    <tr>\n",
       "      <th>0</th>\n",
       "      <td>success</td>\n",
       "      <td>200</td>\n",
       "      <td>6a8891a8-1ae3-4e38-a9a8-605fef87a70e</td>\n",
       "      <td>96</td>\n",
       "      <td>2657</td>\n",
       "      <td>2022-03-29 12:26:42.619509</td>\n",
       "      <td>12</td>\n",
       "      <td>do_HLS_stack_3-1-2_ubuntu</td>\n",
       "      <td>nathanmthomas</td>\n",
       "      <td>maap-dps-worker-32gb</td>\n",
       "      <td>mc25_3yrs</td>\n",
       "    </tr>\n",
       "    <tr>\n",
       "      <th>0</th>\n",
       "      <td>success</td>\n",
       "      <td>200</td>\n",
       "      <td>df5ef7b8-74cc-494c-a8b4-b36cb57dc349</td>\n",
       "      <td>97</td>\n",
       "      <td>2658</td>\n",
       "      <td>2022-03-29 12:26:42.821023</td>\n",
       "      <td>12</td>\n",
       "      <td>do_HLS_stack_3-1-2_ubuntu</td>\n",
       "      <td>nathanmthomas</td>\n",
       "      <td>maap-dps-worker-32gb</td>\n",
       "      <td>mc25_3yrs</td>\n",
       "    </tr>\n",
       "    <tr>\n",
       "      <th>0</th>\n",
       "      <td>success</td>\n",
       "      <td>200</td>\n",
       "      <td>2e3892b6-8488-4155-ba71-3596fd2b0b51</td>\n",
       "      <td>98</td>\n",
       "      <td>2659</td>\n",
       "      <td>2022-03-29 12:26:43.070471</td>\n",
       "      <td>12</td>\n",
       "      <td>do_HLS_stack_3-1-2_ubuntu</td>\n",
       "      <td>nathanmthomas</td>\n",
       "      <td>maap-dps-worker-32gb</td>\n",
       "      <td>mc25_3yrs</td>\n",
       "    </tr>\n",
       "    <tr>\n",
       "      <th>0</th>\n",
       "      <td>success</td>\n",
       "      <td>200</td>\n",
       "      <td>56f86493-0d14-44e6-a9c3-1715219e1856</td>\n",
       "      <td>99</td>\n",
       "      <td>2660</td>\n",
       "      <td>2022-03-29 12:26:43.311609</td>\n",
       "      <td>12</td>\n",
       "      <td>do_HLS_stack_3-1-2_ubuntu</td>\n",
       "      <td>nathanmthomas</td>\n",
       "      <td>maap-dps-worker-32gb</td>\n",
       "      <td>mc25_3yrs</td>\n",
       "    </tr>\n",
       "    <tr>\n",
       "      <th>0</th>\n",
       "      <td>success</td>\n",
       "      <td>200</td>\n",
       "      <td>d906591f-3ba4-4bf2-83fd-c5a63133bf6f</td>\n",
       "      <td>100</td>\n",
       "      <td>2661</td>\n",
       "      <td>2022-03-29 12:26:43.540585</td>\n",
       "      <td>12</td>\n",
       "      <td>do_HLS_stack_3-1-2_ubuntu</td>\n",
       "      <td>nathanmthomas</td>\n",
       "      <td>maap-dps-worker-32gb</td>\n",
       "      <td>mc25_3yrs</td>\n",
       "    </tr>\n",
       "  </tbody>\n",
       "</table>\n",
       "<p>100 rows × 11 columns</p>\n",
       "</div>"
      ],
      "text/plain": [
       "     status  http_status_code                                job_id  dps_num  \\\n",
       "0   success               200  f0ae47ff-4802-4527-a97b-09bbd5880d6b        1   \n",
       "0   success               200  54264fed-91ef-4e22-a253-1c8e0aeb5849        2   \n",
       "0   success               200  c65732a5-6847-4caf-bfc4-99c0811d2c19        3   \n",
       "0   success               200  55ee5189-8873-420b-9fb1-9fee79aa9789        4   \n",
       "0   success               200  0151261d-5891-4c58-9582-2d7bd3edde90        5   \n",
       "..      ...               ...                                   ...      ...   \n",
       "0   success               200  6a8891a8-1ae3-4e38-a9a8-605fef87a70e       96   \n",
       "0   success               200  df5ef7b8-74cc-494c-a8b4-b36cb57dc349       97   \n",
       "0   success               200  2e3892b6-8488-4155-ba71-3596fd2b0b51       98   \n",
       "0   success               200  56f86493-0d14-44e6-a9c3-1715219e1856       99   \n",
       "0   success               200  d906591f-3ba4-4bf2-83fd-c5a63133bf6f      100   \n",
       "\n",
       "    tile_num                submit_time  dbs_job_hour  \\\n",
       "0       2558 2022-03-29 12:26:20.626262            12   \n",
       "0       2559 2022-03-29 12:26:20.724152            12   \n",
       "0       2560 2022-03-29 12:26:20.843499            12   \n",
       "0       2561 2022-03-29 12:26:21.002684            12   \n",
       "0       2562 2022-03-29 12:26:21.231130            12   \n",
       "..       ...                        ...           ...   \n",
       "0       2657 2022-03-29 12:26:42.619509            12   \n",
       "0       2658 2022-03-29 12:26:42.821023            12   \n",
       "0       2659 2022-03-29 12:26:43.070471            12   \n",
       "0       2660 2022-03-29 12:26:43.311609            12   \n",
       "0       2661 2022-03-29 12:26:43.540585            12   \n",
       "\n",
       "                      algo_id           user           worker_type   run_name  \n",
       "0   do_HLS_stack_3-1-2_ubuntu  nathanmthomas  maap-dps-worker-32gb  mc25_3yrs  \n",
       "0   do_HLS_stack_3-1-2_ubuntu  nathanmthomas  maap-dps-worker-32gb  mc25_3yrs  \n",
       "0   do_HLS_stack_3-1-2_ubuntu  nathanmthomas  maap-dps-worker-32gb  mc25_3yrs  \n",
       "0   do_HLS_stack_3-1-2_ubuntu  nathanmthomas  maap-dps-worker-32gb  mc25_3yrs  \n",
       "0   do_HLS_stack_3-1-2_ubuntu  nathanmthomas  maap-dps-worker-32gb  mc25_3yrs  \n",
       "..                        ...            ...                   ...        ...  \n",
       "0   do_HLS_stack_3-1-2_ubuntu  nathanmthomas  maap-dps-worker-32gb  mc25_3yrs  \n",
       "0   do_HLS_stack_3-1-2_ubuntu  nathanmthomas  maap-dps-worker-32gb  mc25_3yrs  \n",
       "0   do_HLS_stack_3-1-2_ubuntu  nathanmthomas  maap-dps-worker-32gb  mc25_3yrs  \n",
       "0   do_HLS_stack_3-1-2_ubuntu  nathanmthomas  maap-dps-worker-32gb  mc25_3yrs  \n",
       "0   do_HLS_stack_3-1-2_ubuntu  nathanmthomas  maap-dps-worker-32gb  mc25_3yrs  \n",
       "\n",
       "[100 rows x 11 columns]"
      ]
     },
     "execution_count": 482,
     "metadata": {},
     "output_type": "execute_result"
    }
   ],
   "source": [
    "%%time\n",
    "submit_results_df_list = []\n",
    "len_input_list = len(DPS_INPUT_TILE_NUM_LIST)\n",
    "print(f\"# of input tiles for DPS: {len_input_list}\")\n",
    "\n",
    "for i, INPUT_TILE_NUM in enumerate(DPS_INPUT_TILE_NUM_LIST):\n",
    "\n",
    "    DPS_num = i+1\n",
    "    IDENTIFIER = \"do_HLS_stack_3-1-2\"\n",
    "    ALGO_ID = f'{IDENTIFIER}_ubuntu'\n",
    "    USER = 'nathanmthomas'\n",
    "    WORKER_TYPE = 'maap-dps-worker-32gb'\n",
    "    \n",
    "    in_param_dict = {\n",
    "                         'in_tile_fn': 'https://maap-ops-workspace.s3.amazonaws.com/shared/nathanmthomas/boreal_tiles_v003.gpkg',\n",
    "                         'in_tile_num': INPUT_TILE_NUM,\n",
    "                         'in_tile_layer': 'boreal_tiles_v003',\n",
    "                         'sat_api': 'https://cmr.earthdata.nasa.gov/stac/LPCLOUD',\n",
    "                        #'sat_api': 'https://landsatlook.usgs.gov/sat-api',\n",
    "                         'tile_buffer_m': 0,\n",
    "                         'start_year': '2019',\n",
    "                         'end_year': '2021',\n",
    "                         'start_month_day': '06-01',\n",
    "                         'end_month_day': '09-15',\n",
    "                         'max_cloud': MAX_CLOUDS,\n",
    "                         'composite_type': 'HLS'\n",
    "        }\n",
    "        \n",
    "    submit_result = maap.submitJob(\n",
    "                                    identifier=IDENTIFIER,\n",
    "                                    algo_id=ALGO_ID,\n",
    "                                    version=\"master\",\n",
    "                                    username=USER,\n",
    "                                    queue=WORKER_TYPE,\n",
    "                                    # Args that match yaml\n",
    "                                    **in_param_dict\n",
    "        )\n",
    "    \n",
    "    # Build a dataframe of submission details\n",
    "    submit_result['dps_num'] = DPS_num\n",
    "    submit_result['tile_num'] = INPUT_TILE_NUM\n",
    "    submit_result['submit_time'] = datetime.datetime.now()\n",
    "    submit_result['dbs_job_hour'] =datetime.datetime.now().hour\n",
    "    submit_result['algo_id'] = ALGO_ID\n",
    "    submit_result['user'] = USER\n",
    "    submit_result['worker_type'] = WORKER_TYPE\n",
    "    \n",
    "    # Append to a list of data frames of submission results\n",
    "    submit_results_df_list.append(pd.DataFrame([submit_result]))\n",
    "    \n",
    "    if DPS_num in [1, 25,50, 100,200,300,400,500, 750, 1000, 1250, 1500, 1750, 2000, 2250, 2500, 2750, 3000, 3250, 3500, 3750, 4000, 4250, 5000, 7000, 9000, 11000, 13000, 15000, 17000, 19000, 21000, 24000, len_input_list]:\n",
    "        print(f\"DPS run #: {DPS_num}\\t| tile num: {INPUT_TILE_NUM}\\t| submit status: {submit_result['status']}\\t| job id: {submit_result['job_id']}\") \n",
    "        \n",
    "# Build a final submission results df and save\n",
    "submit_results_df = pd.concat(submit_results_df_list)\n",
    "submit_results_df['run_name'] = RUN_NAME\n",
    "nowtime = pd.Timestamp.now().strftime('%Y%m%d%H%M')\n",
    "print(f\"Current time:\\t{nowtime}\")\n",
    "submit_results_df.to_csv(f'/projects/my-public-bucket/DPS_{IDENTIFIER}_submission_results_{len_input_list}_{nowtime}.csv')\n",
    "submit_results_df"
   ]
  },
  {
   "cell_type": "markdown",
   "id": "eb72fe39",
   "metadata": {},
   "source": [
    "After almost any DPS job, you have to assess what succeeded and failed. This involves:\n",
    "1. building a table of job status based on job ids captured in the job_results_df from the DPS run chunk (this takes 40 mins for ~47k jobs) --> this tells you how many jobs failed\n",
    "2. merging the job status table with the job results df --> this tells you which specific granules (or tile nums) failed\n",
    "3. building another input list of granules for a follow-up DPS\n",
    "## Assess DPS results\n",
    "Build a table of job status based on job id - how many jobs failed?"
   ]
  },
  {
   "cell_type": "code",
   "execution_count": 252,
   "id": "121b6406",
   "metadata": {},
   "outputs": [
    {
     "name": "stdout",
     "output_type": "stream",
     "text": [
      "CPU times: user 8 µs, sys: 0 ns, total: 8 µs\n",
      "Wall time: 13.4 µs\n"
     ]
    }
   ],
   "source": [
    "def BUILD_TABLE_JOBSTATUS(submit_results_df):\n",
    "    import xmltodict\n",
    "    job_status_df = pd.concat([pd.DataFrame(xmltodict.parse(maap.getJobStatus(job_id).content)).transpose() for job_id in submit_results_df.job_id.to_list()])\n",
    "    job_status_df = submit_results_df.merge(job_status_df, how='left', left_on='job_id',  right_on='wps:JobID')\n",
    "    return job_status_df"
   ]
  },
  {
   "cell_type": "code",
   "execution_count": 477,
   "id": "8a192d6b",
   "metadata": {},
   "outputs": [
    {
     "name": "stdout",
     "output_type": "stream",
     "text": [
      "Count total jobs:\t100\n",
      "Count pending jobs:\t0\n",
      "Count running jobs:\t7\n",
      "Count succeeded jobs:\t47\n",
      "Count failed jobs:\t46\n",
      "% of failed jobs:\t49.46\n",
      "CPU times: user 1.18 s, sys: 70 ms, total: 1.25 s\n",
      "Wall time: 3.21 s\n"
     ]
    }
   ],
   "source": [
    "%%time\n",
    "z = BUILD_TABLE_JOBSTATUS(submit_results_df)\n",
    "\n",
    "print(f'Count total jobs:\\t{len(z)}')\n",
    "print(f\"Count pending jobs:\\t{z[z['wps:Status'] =='Accepted'].shape[0]}\")\n",
    "print(f\"Count running jobs:\\t{z[z['wps:Status'] =='Running'].shape[0]}\")\n",
    "print(f\"Count succeeded jobs:\\t{z[z['wps:Status'] =='Succeeded'].shape[0]}\")\n",
    "print(f\"Count failed jobs:\\t{z[z['wps:Status'] =='Failed'].shape[0]}\")\n",
    "print(f\"% of failed jobs:\\t{round(z[z['wps:Status'] =='Failed'].shape[0] / ( z[z['wps:Status'] =='Failed'].shape[0] + z[z['wps:Status'] =='Succeeded'].shape[0] ), 4) * 100}\")"
   ]
  },
  {
   "cell_type": "code",
   "execution_count": 455,
   "id": "3f034c92",
   "metadata": {},
   "outputs": [
    {
     "name": "stdout",
     "output_type": "stream",
     "text": [
      "[]\n"
     ]
    }
   ],
   "source": [
    "print(z[z['wps:Status'] =='Succeeded'].tile_num.to_list())"
   ]
  },
  {
   "cell_type": "markdown",
   "id": "3477d0bb",
   "metadata": {},
   "source": [
    "### Get a list of the FAILS to run through DPS again"
   ]
  },
  {
   "cell_type": "code",
   "execution_count": 445,
   "id": "6584171e",
   "metadata": {},
   "outputs": [
    {
     "name": "stdout",
     "output_type": "stream",
     "text": [
      "[1, 56, 68, 70, 86, 118, 122, 125, 129, 140, 142, 149, 155, 156, 157, 159, 161, 162, 164, 165, 166, 169, 170, 179, 184, 185, 189, 194, 208, 209, 212, 213, 215, 218, 237, 238, 239, 240, 241, 242, 243, 244, 245, 251, 252, 253, 254, 255, 256, 257, 258, 259, 260, 261, 262, 263, 264, 265, 266, 267, 268, 269, 277, 278, 279, 280, 281, 282, 283, 285, 286, 287, 288, 289, 290]\n"
     ]
    }
   ],
   "source": [
    "DPS_INPUT_TILE_NUM_LIST = z[z['wps:Status'] =='Failed'].tile_num.to_list()#[0:75]\n",
    "print(DPS_INPUT_TILE_NUM_LIST)"
   ]
  },
  {
   "cell_type": "code",
   "execution_count": null,
   "id": "753c2b53",
   "metadata": {},
   "outputs": [],
   "source": [
    "z[z['wps:Status'] =='Failed']"
   ]
  },
  {
   "cell_type": "code",
   "execution_count": 436,
   "id": "269bcf44",
   "metadata": {},
   "outputs": [
    {
     "data": {
      "text/plain": [
       "OrderedDict([('wps:Result',\n",
       "              OrderedDict([('@xmlns:ows', 'http://www.opengis.net/ows/2.0'),\n",
       "                           ('@xmlns:schemaLocation',\n",
       "                            'http://schemas.opengis.net/wps/2.0/wps.xsd'),\n",
       "                           ('@xmlns:wps', 'http://www.opengis.net/wps/2.0'),\n",
       "                           ('@xmlns:xsi',\n",
       "                            'http://www.w3.org/2001/XMLSchema-instance'),\n",
       "                           ('wps:JobID',\n",
       "                            'c928b149-77b3-4ca8-98f8-f448c02a83ec'),\n",
       "                           ('wps:Output',\n",
       "                            OrderedDict([('@id', 'traceback'),\n",
       "                                         ('wps:Data',\n",
       "                                          'activate does not accept more than one argument:\\n[\\'/app/icesat2_boreal/dps/alg_3-1-2/run.sh\\', \\'1766\\', \\'boreal_tiles_v003\\', \\'https://cmr.earthdata.nasa.gov/stac/LPCLOUD\\', \\'0\\', \\'2019\\', \\'2021\\', \\'06-01\\', \\'09-15\\', \\'25\\', \\'HLS\\']\\n\\n+ /app/icesat2_boreal/dps/alg_3-1-2/run.sh 1766 boreal_tiles_v003 https://cmr.earthdata.nasa.gov/stac/LPCLOUD 0 2019 2021 06-01 09-15 25 HLS\\n+ unset PROJ_LIB\\n+ mkdir output\\n++ ls -d input/boreal_tiles_v003.gpkg\\n+ FILENAMELIST=input/boreal_tiles_v003.gpkg\\n+++ dirname /app/icesat2_boreal/dps/alg_3-1-2/run.sh\\n++ cd /app/icesat2_boreal/dps/alg_3-1-2\\n++ pwd -P\\n+ basedir=/app/icesat2_boreal/dps/alg_3-1-2\\n+ FILENAMELIST=($(ls -d input/*))\\n++ ls -d input/boreal_tiles_v003.gpkg\\n+ INPUT1=/data/work/jobs/2022/03/28/18/23/job-do_HLS_stack_3-1-2_ubuntu__master-20220328T181819.709565Z/input/boreal_tiles_v003.gpkg\\n+ INPUT2=/data/work/jobs/2022/03/28/18/23/job-do_HLS_stack_3-1-2_ubuntu__master-20220328T181819.709565Z/\\n+ OUTPUTDIR=/data/work/jobs/2022/03/28/18/23/job-do_HLS_stack_3-1-2_ubuntu__master-20220328T181819.709565Z/output\\n+ python /app/icesat2_boreal/dps/alg_3-1-2/../../lib/3.1.2_dps.py --in_tile_fn /data/work/jobs/2022/03/28/18/23/job-do_HLS_stack_3-1-2_ubuntu__master-20220328T181819.709565Z/input/boreal_tiles_v003.gpkg --in_tile_num 1766 --in_tile_layer boreal_tiles_v003 --sat_api https://cmr.earthdata.nasa.gov/stac/LPCLOUD --tile_buffer_m 0 --start_year 2019 --end_year 2021 --start_month_day 06-01 --end_month_day 09-15 --max_cloud 25 --composite_type HLS --output_dir /data/work/jobs/2022/03/28/18/23/job-do_HLS_stack_3-1-2_ubuntu__master-20220328T181819.709565Z/output\\nERROR 1: PROJ: proj_create_from_database: Open of /opt/conda/envs/icesat2_boreal/share/proj failed\\nTraceback (most recent call last):\\n  File \"/opt/conda/envs/icesat2_boreal/lib/python3.10/site-packages/pystac_client/stac_api_io.py\", line 136, in request\\n    raise APIError(resp.text)\\npystac_client.exceptions.APIError: <html>\\n<head><title>502 Bad Gateway</title></head>\\n<body>\\n<center><h1>502 Bad Gateway</h1></center>\\n</body>\\n</html>\\n\\n\\nDuring handling of the above exception, another exception occurred:\\n\\nTraceback (most recent call last):\\n  File \"/app/icesat2_boreal/dps/alg_3-1-2/../../lib/3.1.2_dps.py\", line 497, in <module>\\n    main()\\n  File \"/app/icesat2_boreal/dps/alg_3-1-2/../../lib/3.1.2_dps.py\", line 316, in main\\n    master_json = get_HLS_data(args.in_tile_fn, args.in_tile_layer, args.in_tile_id_col, args.in_tile_num, args.output_dir, args.sat_api, args.start_year, args.end_year, args.start_month_day, args.end_month_day, args.max_cloud, args.local)\\n  File \"/app/icesat2_boreal/lib/fetch_HLS.py\", line 123, in get_HLS_data\\n    response_by_year = [query_stac(year, bbox, max_cloud, api, start_month_day, end_month_day) for year in years]\\n  File \"/app/icesat2_boreal/lib/fetch_HLS.py\", line 123, in <listcomp>\\n    response_by_year = [query_stac(year, bbox, max_cloud, api, start_month_day, end_month_day) for year in years]\\n  File \"/app/icesat2_boreal/lib/fetch_HLS.py\", line 89, in query_stac\\n    results = search.get_all_items_as_dict()\\n  File \"/opt/conda/envs/icesat2_boreal/lib/python3.10/site-packages/pystac_client/item_search.py\", line 462, in get_all_items_as_dict\\n    for page in self._stac_io.get_pages(self.url, self.method, self.get_parameters()):\\n  File \"/opt/conda/envs/icesat2_boreal/lib/python3.10/site-packages/pystac_client/stac_api_io.py\", line 209, in get_pages\\n    page = self.read_json(url, method=method, parameters=parameters)\\n  File \"/opt/conda/envs/icesat2_boreal/lib/python3.10/site-packages/pystac/stac_io.py\", line 197, in read_json\\n    txt = self.read_text(source, *args, **kwargs)\\n  File \"/opt/conda/envs/icesat2_boreal/lib/python3.10/site-packages/pystac_client/stac_api_io.py\", line 77, in read_text\\n    return self.request(href, *args, parameters=parameters, **kwargs)\\n  File \"/opt/conda/envs/icesat2_boreal/lib/python3.10/site-packages/pystac_client/stac_api_io.py\", line 139, in request\\n    raise APIError(str(err))\\npystac_client.exceptions.APIError: <html>\\n<head><title>502 Bad Gateway</title></head>\\n<body>\\n<center><h1>502 Bad Gateway</h1></center>\\n</body>\\n</html>\\n\\n+ cp _stderr.txt _alt_traceback.txt')]))]))])"
      ]
     },
     "execution_count": 436,
     "metadata": {},
     "output_type": "execute_result"
    }
   ],
   "source": [
    "xmltodict.parse(maap.getJobResult(z[z['wps:Status'] =='Failed'].iloc[300].job_id).content)"
   ]
  },
  {
   "cell_type": "code",
   "execution_count": null,
   "id": "931703ab",
   "metadata": {},
   "outputs": [],
   "source": [
    "#!pip install -U -r /projects/Developer/icesat2_boreal/dps/requirements_main.txt"
   ]
  },
  {
   "cell_type": "code",
   "execution_count": null,
   "id": "815ef503",
   "metadata": {},
   "outputs": [],
   "source": [
    "#!python /projects/Developer/icesat2_boreal/lib/build_tindex_master.py -t HLS -y 2022 -m 03 -d_min 23"
   ]
  }
 ],
 "metadata": {
  "kernelspec": {
   "display_name": "Python 3 (ipykernel)",
   "language": "python",
   "name": "python3"
  },
  "language_info": {
   "codemirror_mode": {
    "name": "ipython",
    "version": 3
   },
   "file_extension": ".py",
   "mimetype": "text/x-python",
   "name": "python",
   "nbconvert_exporter": "python",
   "pygments_lexer": "ipython3",
   "version": "3.7.8"
  }
 },
 "nbformat": 4,
 "nbformat_minor": 5
}
