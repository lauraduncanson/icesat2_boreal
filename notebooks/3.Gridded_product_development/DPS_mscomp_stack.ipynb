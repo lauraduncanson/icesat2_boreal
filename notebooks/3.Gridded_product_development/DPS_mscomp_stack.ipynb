{
 "cells": [
  {
   "cell_type": "code",
   "execution_count": 2,
   "id": "142cb8e9",
   "metadata": {},
   "outputs": [],
   "source": [
    "from maap.maap import MAAP\n",
    "maap = MAAP(maap_host='api.ops.maap-project.org')"
   ]
  },
  {
   "cell_type": "markdown",
   "id": "27e6f6c3",
   "metadata": {},
   "source": [
    "# Launch DPS for 3.1.2_dps.py\n",
    "multi-spectral composites\n"
   ]
  },
  {
   "cell_type": "code",
   "execution_count": 38,
   "id": "4bfc4491",
   "metadata": {},
   "outputs": [
    {
     "name": "stdout",
     "output_type": "stream",
     "text": [
      "Requirement already satisfied: h5py==3.1.0 in /projects/.local/lib/python3.7/site-packages (from -r /projects/Developer/icesat2_boreal/dps/requirements_main.txt (line 3)) (3.1.0)\n",
      "Requirement already satisfied: pandas==1.2.2 in /projects/.local/lib/python3.7/site-packages (from -r /projects/Developer/icesat2_boreal/dps/requirements_main.txt (line 4)) (1.2.2)\n",
      "Requirement already satisfied: pygeos==0.12.0 in /projects/.local/lib/python3.7/site-packages (from -r /projects/Developer/icesat2_boreal/dps/requirements_main.txt (line 7)) (0.12.0)\n",
      "Requirement already satisfied: rtree==0.9.7 in /projects/.local/lib/python3.7/site-packages (from -r /projects/Developer/icesat2_boreal/dps/requirements_main.txt (line 8)) (0.9.7)\n",
      "Requirement already satisfied: numpy==1.21.0 in /projects/.local/lib/python3.7/site-packages (from -r /projects/Developer/icesat2_boreal/dps/requirements_main.txt (line 9)) (1.21.0)\n",
      "Requirement already satisfied: geopandas==0.9.0 in /projects/.local/lib/python3.7/site-packages (from -r /projects/Developer/icesat2_boreal/dps/requirements_main.txt (line 12)) (0.9.0)\n",
      "Requirement already satisfied: rasterio==1.2.6 in /projects/.local/lib/python3.7/site-packages (from -r /projects/Developer/icesat2_boreal/dps/requirements_main.txt (line 13)) (1.2.6)\n",
      "Requirement already satisfied: importlib_resources in /projects/.local/lib/python3.7/site-packages (from -r /projects/Developer/icesat2_boreal/dps/requirements_main.txt (line 14)) (5.9.0)\n",
      "Requirement already satisfied: contextily in /projects/.local/lib/python3.7/site-packages (from -r /projects/Developer/icesat2_boreal/dps/requirements_main.txt (line 15)) (1.2.0)\n",
      "Requirement already satisfied: fsspec in /projects/.local/lib/python3.7/site-packages (from -r /projects/Developer/icesat2_boreal/dps/requirements_main.txt (line 16)) (2022.8.2)\n",
      "Requirement already satisfied: s3fs in /projects/.local/lib/python3.7/site-packages (from -r /projects/Developer/icesat2_boreal/dps/requirements_main.txt (line 17)) (2022.8.2)\n",
      "Requirement already satisfied: rio-cogeo==2.3.1 in /projects/.local/lib/python3.7/site-packages (from -r /projects/Developer/icesat2_boreal/dps/requirements_main.txt (line 22)) (2.3.1)\n",
      "Requirement already satisfied: rio-tiler==2.1.4 in /opt/conda/lib/python3.7/site-packages (from -r /projects/Developer/icesat2_boreal/dps/requirements_main.txt (line 23)) (2.1.4)\n",
      "Requirement already satisfied: morecantile==2.1.4 in /projects/.local/lib/python3.7/site-packages (from -r /projects/Developer/icesat2_boreal/dps/requirements_main.txt (line 25)) (2.1.4)\n",
      "Requirement already satisfied: pystac-client in /projects/.local/lib/python3.7/site-packages (from -r /projects/Developer/icesat2_boreal/dps/requirements_main.txt (line 26)) (0.5.1)\n",
      "Requirement already satisfied: cached-property in /projects/.local/lib/python3.7/site-packages (from h5py==3.1.0->-r /projects/Developer/icesat2_boreal/dps/requirements_main.txt (line 3)) (1.5.2)\n",
      "Requirement already satisfied: python-dateutil>=2.7.3 in /opt/conda/lib/python3.7/site-packages (from pandas==1.2.2->-r /projects/Developer/icesat2_boreal/dps/requirements_main.txt (line 4)) (2.8.2)\n",
      "Requirement already satisfied: pytz>=2017.3 in /opt/conda/lib/python3.7/site-packages (from pandas==1.2.2->-r /projects/Developer/icesat2_boreal/dps/requirements_main.txt (line 4)) (2021.1)\n",
      "Requirement already satisfied: shapely>=1.6 in /projects/.local/lib/python3.7/site-packages (from geopandas==0.9.0->-r /projects/Developer/icesat2_boreal/dps/requirements_main.txt (line 12)) (1.7.1)\n",
      "Requirement already satisfied: pyproj>=2.2.0 in /opt/conda/lib/python3.7/site-packages (from geopandas==0.9.0->-r /projects/Developer/icesat2_boreal/dps/requirements_main.txt (line 12)) (2.6.1.post1)\n",
      "Requirement already satisfied: fiona>=1.8 in /projects/.local/lib/python3.7/site-packages (from geopandas==0.9.0->-r /projects/Developer/icesat2_boreal/dps/requirements_main.txt (line 12)) (1.8.20)\n",
      "Requirement already satisfied: attrs in /opt/conda/lib/python3.7/site-packages (from rasterio==1.2.6->-r /projects/Developer/icesat2_boreal/dps/requirements_main.txt (line 13)) (20.2.0)\n",
      "Requirement already satisfied: snuggs>=1.4.1 in /opt/conda/lib/python3.7/site-packages (from rasterio==1.2.6->-r /projects/Developer/icesat2_boreal/dps/requirements_main.txt (line 13)) (1.4.7)\n",
      "Requirement already satisfied: setuptools in /opt/conda/lib/python3.7/site-packages (from rasterio==1.2.6->-r /projects/Developer/icesat2_boreal/dps/requirements_main.txt (line 13)) (49.6.0.post20201009)\n",
      "Requirement already satisfied: click-plugins in /opt/conda/lib/python3.7/site-packages (from rasterio==1.2.6->-r /projects/Developer/icesat2_boreal/dps/requirements_main.txt (line 13)) (1.1.1)\n",
      "Requirement already satisfied: cligj>=0.5 in /opt/conda/lib/python3.7/site-packages (from rasterio==1.2.6->-r /projects/Developer/icesat2_boreal/dps/requirements_main.txt (line 13)) (0.7.0)\n",
      "Requirement already satisfied: affine in /opt/conda/lib/python3.7/site-packages (from rasterio==1.2.6->-r /projects/Developer/icesat2_boreal/dps/requirements_main.txt (line 13)) (2.3.0)\n",
      "Requirement already satisfied: certifi in /opt/conda/lib/python3.7/site-packages (from rasterio==1.2.6->-r /projects/Developer/icesat2_boreal/dps/requirements_main.txt (line 13)) (2022.9.24)\n",
      "Requirement already satisfied: click>=4.0 in /opt/conda/lib/python3.7/site-packages (from rasterio==1.2.6->-r /projects/Developer/icesat2_boreal/dps/requirements_main.txt (line 13)) (7.1.2)\n",
      "Requirement already satisfied: pydantic in /projects/.local/lib/python3.7/site-packages (from rio-cogeo==2.3.1->-r /projects/Developer/icesat2_boreal/dps/requirements_main.txt (line 22)) (1.8.2)\n",
      "Requirement already satisfied: requests in /projects/.local/lib/python3.7/site-packages (from rio-tiler==2.1.4->-r /projects/Developer/icesat2_boreal/dps/requirements_main.txt (line 23)) (2.27.1)\n",
      "Requirement already satisfied: boto3 in /projects/.local/lib/python3.7/site-packages (from rio-tiler==2.1.4->-r /projects/Developer/icesat2_boreal/dps/requirements_main.txt (line 23)) (1.24.59)\n",
      "Requirement already satisfied: rio-color in /projects/.local/lib/python3.7/site-packages (from rio-tiler==2.1.4->-r /projects/Developer/icesat2_boreal/dps/requirements_main.txt (line 23)) (1.0.3)\n",
      "Requirement already satisfied: pystac>=0.5.3 in /projects/.local/lib/python3.7/site-packages (from rio-tiler==2.1.4->-r /projects/Developer/icesat2_boreal/dps/requirements_main.txt (line 23)) (1.5.0)\n",
      "Requirement already satisfied: numexpr in /projects/.local/lib/python3.7/site-packages (from rio-tiler==2.1.4->-r /projects/Developer/icesat2_boreal/dps/requirements_main.txt (line 23)) (2.7.3)\n",
      "Requirement already satisfied: zipp>=3.1.0 in /opt/conda/lib/python3.7/site-packages (from importlib_resources->-r /projects/Developer/icesat2_boreal/dps/requirements_main.txt (line 14)) (3.6.0)\n",
      "Requirement already satisfied: joblib in /projects/.local/lib/python3.7/site-packages (from contextily->-r /projects/Developer/icesat2_boreal/dps/requirements_main.txt (line 15)) (1.0.1)\n",
      "Requirement already satisfied: pillow in /projects/.local/lib/python3.7/site-packages (from contextily->-r /projects/Developer/icesat2_boreal/dps/requirements_main.txt (line 15)) (8.3.2)\n",
      "Requirement already satisfied: xyzservices in /projects/.local/lib/python3.7/site-packages (from contextily->-r /projects/Developer/icesat2_boreal/dps/requirements_main.txt (line 15)) (2022.3.0)\n",
      "Requirement already satisfied: geopy in /projects/.local/lib/python3.7/site-packages (from contextily->-r /projects/Developer/icesat2_boreal/dps/requirements_main.txt (line 15)) (2.2.0)\n",
      "Requirement already satisfied: mercantile in /projects/.local/lib/python3.7/site-packages (from contextily->-r /projects/Developer/icesat2_boreal/dps/requirements_main.txt (line 15)) (1.2.1)\n",
      "Requirement already satisfied: matplotlib in /opt/conda/lib/python3.7/site-packages (from contextily->-r /projects/Developer/icesat2_boreal/dps/requirements_main.txt (line 15)) (3.2.2)\n",
      "Requirement already satisfied: aiohttp!=4.0.0a0,!=4.0.0a1 in /projects/.local/lib/python3.7/site-packages (from s3fs->-r /projects/Developer/icesat2_boreal/dps/requirements_main.txt (line 17)) (3.7.4.post0)\n",
      "Requirement already satisfied: aiobotocore~=2.4.0 in /projects/.local/lib/python3.7/site-packages (from s3fs->-r /projects/Developer/icesat2_boreal/dps/requirements_main.txt (line 17)) (2.4.0)\n",
      "Requirement already satisfied: aioitertools>=0.5.1 in /projects/.local/lib/python3.7/site-packages (from aiobotocore~=2.4.0->s3fs->-r /projects/Developer/icesat2_boreal/dps/requirements_main.txt (line 17)) (0.8.0)\n",
      "Requirement already satisfied: wrapt>=1.10.10 in /projects/.local/lib/python3.7/site-packages (from aiobotocore~=2.4.0->s3fs->-r /projects/Developer/icesat2_boreal/dps/requirements_main.txt (line 17)) (1.12.1)\n",
      "Requirement already satisfied: botocore<1.27.60,>=1.27.59 in /projects/.local/lib/python3.7/site-packages (from aiobotocore~=2.4.0->s3fs->-r /projects/Developer/icesat2_boreal/dps/requirements_main.txt (line 17)) (1.27.59)\n",
      "Requirement already satisfied: multidict<7.0,>=4.5 in /projects/.local/lib/python3.7/site-packages (from aiohttp!=4.0.0a0,!=4.0.0a1->s3fs->-r /projects/Developer/icesat2_boreal/dps/requirements_main.txt (line 17)) (5.1.0)\n",
      "Requirement already satisfied: chardet<5.0,>=2.0 in /opt/conda/lib/python3.7/site-packages (from aiohttp!=4.0.0a0,!=4.0.0a1->s3fs->-r /projects/Developer/icesat2_boreal/dps/requirements_main.txt (line 17)) (3.0.4)\n",
      "Requirement already satisfied: typing-extensions>=3.6.5 in /opt/conda/lib/python3.7/site-packages (from aiohttp!=4.0.0a0,!=4.0.0a1->s3fs->-r /projects/Developer/icesat2_boreal/dps/requirements_main.txt (line 17)) (3.10.0.2)\n",
      "Requirement already satisfied: async-timeout<4.0,>=3.0 in /projects/.local/lib/python3.7/site-packages (from aiohttp!=4.0.0a0,!=4.0.0a1->s3fs->-r /projects/Developer/icesat2_boreal/dps/requirements_main.txt (line 17)) (3.0.1)\n",
      "Requirement already satisfied: yarl<2.0,>=1.0 in /projects/.local/lib/python3.7/site-packages (from aiohttp!=4.0.0a0,!=4.0.0a1->s3fs->-r /projects/Developer/icesat2_boreal/dps/requirements_main.txt (line 17)) (1.6.3)\n",
      "Requirement already satisfied: six>=1.7 in /opt/conda/lib/python3.7/site-packages (from fiona>=1.8->geopandas==0.9.0->-r /projects/Developer/icesat2_boreal/dps/requirements_main.txt (line 12)) (1.15.0)\n",
      "Requirement already satisfied: munch in /projects/.local/lib/python3.7/site-packages (from fiona>=1.8->geopandas==0.9.0->-r /projects/Developer/icesat2_boreal/dps/requirements_main.txt (line 12)) (2.5.0)\n",
      "Requirement already satisfied: idna<4,>=2.5 in /opt/conda/lib/python3.7/site-packages (from requests->rio-tiler==2.1.4->-r /projects/Developer/icesat2_boreal/dps/requirements_main.txt (line 23)) (2.10)\n",
      "Requirement already satisfied: charset-normalizer~=2.0.0 in /projects/.local/lib/python3.7/site-packages (from requests->rio-tiler==2.1.4->-r /projects/Developer/icesat2_boreal/dps/requirements_main.txt (line 23)) (2.0.12)\n",
      "Requirement already satisfied: urllib3<1.27,>=1.21.1 in /opt/conda/lib/python3.7/site-packages (from requests->rio-tiler==2.1.4->-r /projects/Developer/icesat2_boreal/dps/requirements_main.txt (line 23)) (1.25.11)\n",
      "Requirement already satisfied: pyparsing>=2.1.6 in /opt/conda/lib/python3.7/site-packages (from snuggs>=1.4.1->rasterio==1.2.6->-r /projects/Developer/icesat2_boreal/dps/requirements_main.txt (line 13)) (2.4.7)\n",
      "Requirement already satisfied: s3transfer<0.7.0,>=0.6.0 in /projects/.local/lib/python3.7/site-packages (from boto3->rio-tiler==2.1.4->-r /projects/Developer/icesat2_boreal/dps/requirements_main.txt (line 23)) (0.6.0)\n",
      "Requirement already satisfied: jmespath<2.0.0,>=0.7.1 in /opt/conda/lib/python3.7/site-packages (from boto3->rio-tiler==2.1.4->-r /projects/Developer/icesat2_boreal/dps/requirements_main.txt (line 23)) (1.0.1)\n",
      "Requirement already satisfied: geographiclib<2,>=1.49 in /projects/.local/lib/python3.7/site-packages (from geopy->contextily->-r /projects/Developer/icesat2_boreal/dps/requirements_main.txt (line 15)) (1.52)\n",
      "Requirement already satisfied: kiwisolver>=1.0.1 in /opt/conda/lib/python3.7/site-packages (from matplotlib->contextily->-r /projects/Developer/icesat2_boreal/dps/requirements_main.txt (line 15)) (1.3.1)\n",
      "Requirement already satisfied: cycler>=0.10 in /opt/conda/lib/python3.7/site-packages (from matplotlib->contextily->-r /projects/Developer/icesat2_boreal/dps/requirements_main.txt (line 15)) (0.10.0)\n",
      "Requirement already satisfied: rio-mucho in /projects/.local/lib/python3.7/site-packages (from rio-color->rio-tiler==2.1.4->-r /projects/Developer/icesat2_boreal/dps/requirements_main.txt (line 23)) (1.0.0)\n",
      "\u001b[33mWARNING: Running pip as the 'root' user can result in broken permissions and conflicting behaviour with the system package manager. It is recommended to use a virtual environment instead: https://pip.pypa.io/warnings/venv\u001b[0m\u001b[33m\n",
      "\u001b[0m\u001b[33mWARNING: You are using pip version 22.0.3; however, version 22.2.2 is available.\n",
      "You should consider upgrading via the '/opt/conda/bin/python3.7 -m pip install --upgrade pip' command.\u001b[0m\u001b[33m\n",
      "\u001b[0mRequirement already satisfied: xmltodict in /opt/conda/lib/python3.7/site-packages (0.13.0)\n",
      "\u001b[33mWARNING: Running pip as the 'root' user can result in broken permissions and conflicting behaviour with the system package manager. It is recommended to use a virtual environment instead: https://pip.pypa.io/warnings/venv\u001b[0m\u001b[33m\n",
      "\u001b[0m\u001b[33mWARNING: You are using pip version 22.0.3; however, version 22.2.2 is available.\n",
      "You should consider upgrading via the '/opt/conda/bin/python3.7 -m pip install --upgrade pip' command.\u001b[0m\u001b[33m\n",
      "\u001b[0mRequirement already satisfied: s3fs in /projects/.local/lib/python3.7/site-packages (2022.8.2)\n",
      "Requirement already satisfied: aiobotocore~=2.4.0 in /projects/.local/lib/python3.7/site-packages (from s3fs) (2.4.0)\n",
      "Requirement already satisfied: fsspec==2022.8.2 in /projects/.local/lib/python3.7/site-packages (from s3fs) (2022.8.2)\n",
      "Requirement already satisfied: aiohttp!=4.0.0a0,!=4.0.0a1 in /projects/.local/lib/python3.7/site-packages (from s3fs) (3.7.4.post0)\n",
      "Requirement already satisfied: aioitertools>=0.5.1 in /projects/.local/lib/python3.7/site-packages (from aiobotocore~=2.4.0->s3fs) (0.8.0)\n",
      "Requirement already satisfied: wrapt>=1.10.10 in /projects/.local/lib/python3.7/site-packages (from aiobotocore~=2.4.0->s3fs) (1.12.1)\n",
      "Requirement already satisfied: botocore<1.27.60,>=1.27.59 in /projects/.local/lib/python3.7/site-packages (from aiobotocore~=2.4.0->s3fs) (1.27.59)\n",
      "Requirement already satisfied: multidict<7.0,>=4.5 in /projects/.local/lib/python3.7/site-packages (from aiohttp!=4.0.0a0,!=4.0.0a1->s3fs) (5.1.0)\n",
      "Requirement already satisfied: yarl<2.0,>=1.0 in /projects/.local/lib/python3.7/site-packages (from aiohttp!=4.0.0a0,!=4.0.0a1->s3fs) (1.6.3)\n",
      "Requirement already satisfied: attrs>=17.3.0 in /opt/conda/lib/python3.7/site-packages (from aiohttp!=4.0.0a0,!=4.0.0a1->s3fs) (20.2.0)\n",
      "Requirement already satisfied: async-timeout<4.0,>=3.0 in /projects/.local/lib/python3.7/site-packages (from aiohttp!=4.0.0a0,!=4.0.0a1->s3fs) (3.0.1)\n",
      "Requirement already satisfied: typing-extensions>=3.6.5 in /opt/conda/lib/python3.7/site-packages (from aiohttp!=4.0.0a0,!=4.0.0a1->s3fs) (3.10.0.2)\n",
      "Requirement already satisfied: chardet<5.0,>=2.0 in /opt/conda/lib/python3.7/site-packages (from aiohttp!=4.0.0a0,!=4.0.0a1->s3fs) (3.0.4)\n",
      "Requirement already satisfied: python-dateutil<3.0.0,>=2.1 in /opt/conda/lib/python3.7/site-packages (from botocore<1.27.60,>=1.27.59->aiobotocore~=2.4.0->s3fs) (2.8.2)\n",
      "Requirement already satisfied: urllib3<1.27,>=1.25.4 in /opt/conda/lib/python3.7/site-packages (from botocore<1.27.60,>=1.27.59->aiobotocore~=2.4.0->s3fs) (1.25.11)\n",
      "Requirement already satisfied: jmespath<2.0.0,>=0.7.1 in /opt/conda/lib/python3.7/site-packages (from botocore<1.27.60,>=1.27.59->aiobotocore~=2.4.0->s3fs) (1.0.1)\n",
      "Requirement already satisfied: idna>=2.0 in /opt/conda/lib/python3.7/site-packages (from yarl<2.0,>=1.0->aiohttp!=4.0.0a0,!=4.0.0a1->s3fs) (2.10)\n",
      "Requirement already satisfied: six>=1.5 in /opt/conda/lib/python3.7/site-packages (from python-dateutil<3.0.0,>=2.1->botocore<1.27.60,>=1.27.59->aiobotocore~=2.4.0->s3fs) (1.15.0)\n",
      "\u001b[33mWARNING: Running pip as the 'root' user can result in broken permissions and conflicting behaviour with the system package manager. It is recommended to use a virtual environment instead: https://pip.pypa.io/warnings/venv\u001b[0m\u001b[33m\n",
      "\u001b[0m\u001b[33mWARNING: You are using pip version 22.0.3; however, version 22.2.2 is available.\n",
      "You should consider upgrading via the '/opt/conda/bin/python3.7 -m pip install --upgrade pip' command.\u001b[0m\u001b[33m\n",
      "\u001b[0m"
     ]
    }
   ],
   "source": [
    "from os import path\n",
    "import os, glob\n",
    "import datetime\n",
    "import pandas as pd\n",
    "import geopandas as gpd\n",
    "!pip install -U -r /projects/Developer/icesat2_boreal/dps/requirements_main.txt\n",
    "!pip install xmltodict\n",
    "!pip install s3fs\n",
    "import s3fs\n",
    "import xmltodict\n",
    "import sys\n",
    "sys.path.append('/projects/Developer/icesat2_boreal/lib')\n",
    "import ExtractUtils"
   ]
  },
  {
   "cell_type": "markdown",
   "id": "1e19b5dc",
   "metadata": {},
   "source": [
    "# Show status of MS composites for boreal tiles: find tiles still NEEDED\n",
    "    Colored tiles indicate those still needed - water tiles removed\n",
    "    BLACK tiles are processed"
   ]
  },
  {
   "cell_type": "code",
   "execution_count": 16,
   "id": "7af1f5f2",
   "metadata": {},
   "outputs": [],
   "source": [
    "def GET_TILES_NEEDED(DPS_DATA_TYPE = 'HLS',\n",
    "                    boreal_tile_index_path = '/projects/shared-buckets/nathanmthomas/boreal_tiles_v003.gpkg',\n",
    "                    GROUP_FIELD = 'tile_group',\n",
    "                    tindex_master_fn = '/projects/my-private-bucket/dps_output/do_HLS_stack_3-1-2_ubuntu/master/2022/03/HLS_tindex_master.csv',#'s3://maap-ops-workspace/nathanmthomas/dps_output/do_HLS_stack_3-1-2_ubuntu/master/2022/03/HLS_tindex_master.csv',\n",
    "                    topo_tindex_master_fn = '/projects/shared-buckets/nathanmthomas/DPS_tile_lists/Topo_tindex_master.csv',\n",
    "                    bad_tiles = [3540,3634,3728,3823,3916,4004], #Dropping the tiles near antimeridian that reproject poorly.\n",
    "                    REMOVE_BAD_TILES = False,\n",
    "                    REDO_TILES_LIST = None,\n",
    "                    FIND_TILE_GROUP = None\n",
    "                   ):\n",
    "\n",
    "    # Get all boreal tiles\n",
    "    #shared-buckets/nathanmthomas/boreal_grid_albers90k_gpkg.gpkg\n",
    "    boreal_tile_index = gpd.read_file(boreal_tile_index_path)\n",
    "    \n",
    "    if REMOVE_BAD_TILES:\n",
    "        # Remove bad tiles\n",
    "        boreal_tile_index = boreal_tile_index[~boreal_tile_index['tile_num'].isin(bad_tiles)]\n",
    "\n",
    "    hls_tindex_master = pd.read_csv(tindex_master_fn)\n",
    "    topo_tindex_master = pd.read_csv(topo_tindex_master_fn)\n",
    "    hls_tindex = boreal_tile_index.merge(hls_tindex_master[['tile_num','s3_path','local_path']], how='right', on='tile_num')\n",
    "    topo_tindex = boreal_tile_index.merge(topo_tindex_master[['tile_num','s3_path','local_path']], how='right', on='tile_num')\n",
    "    \n",
    "    if REDO_TILES_LIST is not None:\n",
    "        redo_hls_tindex = hls_tindex[hls_tindex['tile_num'].isin(REDO_TILES_LIST)]\n",
    "        return redo_hls_tindex\n",
    "    else:\n",
    "        print(boreal_tile_index.groupby(GROUP_FIELD)[GROUP_FIELD].agg(['count']))\n",
    "\n",
    "        import matplotlib.pyplot as plt\n",
    "        plt.rcParams['figure.figsize'] = [16, 16]\n",
    "\n",
    "        print(f\"Tile status report for {DPS_DATA_TYPE} from {tindex_master_fn}:\")\n",
    "        print(f'\\t# of boreal tiles in boreal v003:\\t\\t\\t{len(boreal_tile_index)}')\n",
    "\n",
    "        # Get water tiles\n",
    "        water_tiles = list(set(boreal_tile_index.tile_num) - set(topo_tindex.tile_num) )\n",
    "        print(f'\\t# of boreal tiles in water:\\t\\t\\t\\t{len(water_tiles)}')\n",
    "\n",
    "        NUM_STUDY_TILES = len(boreal_tile_index[~boreal_tile_index['tile_num'].isin(water_tiles)])\n",
    "        print(f'\\t# of boreal tiles used study (from Topo coverage):\\t{NUM_STUDY_TILES}')\n",
    "\n",
    "        ax = boreal_tile_index[~boreal_tile_index['tile_num'].isin(water_tiles)].plot(column=GROUP_FIELD, legend=True)\n",
    "        #ax = tiles_topo_index.plot(color='gray', ax=ax)\n",
    "        ax = hls_tindex.plot(color='black', ax = ax)\n",
    "        print(f'\\t# of boreal tiles with {DPS_DATA_TYPE}:\\t\\t\\t\\t{len(hls_tindex)}')\n",
    "\n",
    "        needed_tindex = boreal_tile_index[~boreal_tile_index['tile_num'].isin(hls_tindex.tile_num.to_list() + water_tiles)]\n",
    "        \n",
    "        if FIND_TILE_GROUP is not None:\n",
    "            needed_tindex = needed_tindex[needed_tindex[GROUP_FIELD] == FIND_TILE_GROUP]\n",
    "        else:\n",
    "            FIND_TILE_GROUP = 'all'\n",
    "        LIST_TILES_NEEDED = needed_tindex.tile_num.to_list()\n",
    "        print(f'\\t# of boreal tiles still needing {DPS_DATA_TYPE} from {FIND_TILE_GROUP}:\\t{len(LIST_TILES_NEEDED)}')\n",
    "        # The next 100 tiles in line for processing\n",
    "        #needed_tindex.iloc[0:100].plot(color='#525252', ax = ax)\n",
    "        needed_tindex.plot(color='#525252', ax = ax)\n",
    "        \n",
    "        return LIST_TILES_NEEDED\n"
   ]
  },
  {
   "cell_type": "code",
   "execution_count": 14,
   "id": "6709a2af",
   "metadata": {},
   "outputs": [
    {
     "name": "stdout",
     "output_type": "stream",
     "text": [
      "Running DPS on a ALL tiles from a previous tindex\n",
      "List length: 5245\n"
     ]
    }
   ],
   "source": [
    "RUN_ALL_TILES = True\n",
    "\n",
    "if False:\n",
    "    !python /projects/Developer/icesat2_boreal/lib/build_tindex_master.py -t HLS -y 2022 -m_list 03 04 05\n",
    "\n",
    "HLS_EXISTING_TINDEX_FN = '/projects/shared-buckets/nathanmthomas/DPS_tile_lists/HLS_tindex_master.csv'\n",
    "\n",
    "if RUN_ALL_TILES:\n",
    "    print('Running DPS on a ALL tiles from a previous tindex')\n",
    "    hls_tindex_master = pd.read_csv(HLS_EXISTING_TINDEX_FN)\n",
    "    HLS_TILES_NEEDED = hls_tindex_master.tile_num.to_list()\n",
    "        \n",
    "    print(f\"List length: {len(HLS_TILES_NEEDED)}\")\n",
    "else:\n",
    "    HLS_TILES_NEEDED = GET_TILES_NEEDED(DPS_DATA_TYPE = 'HLS', tindex_master_fn = HLS_EXISTING_TINDEX_FN)\n",
    "    #HLS_TILES_NEEDED = GET_TILES_NEEDED(DPS_DATA_TYPE = 'HLS', FIND_TILE_GROUP = 'north america west', tindex_master_fn = '/projects/shared-buckets/nathanmthomas/DPS_tile_lists/HLS_tindex_master.csv')"
   ]
  },
  {
   "cell_type": "code",
   "execution_count": 30,
   "id": "5449bb88",
   "metadata": {},
   "outputs": [
    {
     "data": {
      "text/plain": [
       "5245"
      ]
     },
     "execution_count": 30,
     "metadata": {},
     "output_type": "execute_result"
    }
   ],
   "source": [
    "INPUT_TILE_NUM_LIST = HLS_TILES_NEEDED\n",
    "len(INPUT_TILE_NUM_LIST)"
   ]
  },
  {
   "cell_type": "markdown",
   "id": "f6b60da0",
   "metadata": {},
   "source": [
    "#### Search for tiles that need to be redone due to artifacts\n",
    "    + artifacts are scene-induced - where max_cloud = 25 was a bit too harsh\n",
    "    + manually specify a redo tiles list after inspecting MS comps\n",
    "    + delete the existing tile dirs for those tiles"
   ]
  },
  {
   "cell_type": "code",
   "execution_count": 18,
   "id": "17cf3b24",
   "metadata": {},
   "outputs": [],
   "source": [
    "if not RUN_ALL_TILES:\n",
    "    REDO_TILES = [\n",
    "                    1043, 1044, \\\n",
    "                    34675, 34674, 34676, 35126, 35125, 35352, 1216,\n",
    "                    3193, 3286, 3380, 3938, 3949\n",
    "                 ]\n",
    "\n",
    "    REDO_TILES = [3090, 3833, 3920, 701, 747, 35577, 34443, 3949, 1044, 3470]\n",
    "    # Get the tindex of the REDOs\n",
    "    redo_hls_tindex = GET_TILES_NEEDED(DPS_DATA_TYPE = 'HLS', REDO_TILES_LIST = REDO_TILES)\n",
    "\n",
    "    if False:\n",
    "        # Delete the tile dirs of the tiles needing a REDO\n",
    "        for file in redo_hls_tindex.local_path.to_list():\n",
    "            p = os.path.split(file)[0]\n",
    "            print(p)\n",
    "            !rm -rf $p\n",
    "            \n",
    "    INPUT_TILE_NUM_LIST = REDO_TILES\n",
    "    print(INPUT_TILE_NUM_LIST)"
   ]
  },
  {
   "cell_type": "code",
   "execution_count": 19,
   "id": "2ad0cb3b",
   "metadata": {},
   "outputs": [],
   "source": [
    "DO_EXPERIMENT = False"
   ]
  },
  {
   "cell_type": "code",
   "execution_count": 20,
   "id": "2a69b66f",
   "metadata": {},
   "outputs": [],
   "source": [
    "if DO_EXPERIMENT:\n",
    "    \n",
    "    NORWAY_TILE_LIST = pd.read_csv('/projects/shared-buckets/lduncanson/misc_files/norway_tiles.csv').layer.tolist()\n",
    "\n",
    "    DELTA_TILE_LIST = [3365,3366,3367,3458,3459,3460,3353,3354,3355] + [3361, 3362]\n",
    "    BONA_TILE_LIST  = [3270,3271,3272, 3456,3457,  3363,3364,3365] + [3268, 3269]\n",
    "    HEALY_TILE_LIST = [ 3551,3552,3553,3645,3646,3647] + [3648, 3649, 3555, 3554]\n",
    "\n",
    "    #DELTA_TILE_LIST = [3365,3366,3367,3458,3460,3353,3354,3355,3549]\n",
    "    #BONA_TILE_LIST  = [3270,3271,3272,3364,3456,3457,3458,3364,3365]\n",
    "    #HEALY_TILE_LIST = [3456,3457,3458,3551,3552, 3553,3645,3646,3647]\n",
    "    INPUT_EXPERIMENT_TILE_NUM_LIST = NORWAY_TILE_LIST + DELTA_TILE_LIST + BONA_TILE_LIST + HEALY_TILE_LIST\n",
    "    ALASKA_TILE_LIST =  list(range(3268,3272+1))+\\\n",
    "                        list(range(3361,3366+1))+\\\n",
    "                        list(range(3454,3459+1))+\\\n",
    "                        list(range(3549,3555+1))+\\\n",
    "                        list(range(3643,3648+1))\n",
    "\n",
    "    INPUT_EXPERIMENT_TILE_NUM_LIST = NORWAY_TILE_LIST + ALASKA_TILE_LIST\n",
    "    len(INPUT_EXPERIMENT_TILE_NUM_LIST)"
   ]
  },
  {
   "cell_type": "code",
   "execution_count": 21,
   "id": "311be3b9",
   "metadata": {},
   "outputs": [],
   "source": [
    "if DO_EXPERIMENT:\n",
    "    \n",
    "    ILAB_AK_TILE = [3000]\n",
    "    KENAI_TILE = [4017]\n",
    "    ARY_MAS_TILE = [37744, 37743, 37742]\n",
    "    NRWY_TILE = [131]\n",
    "    SESIB_TILE = [3421]\n",
    "    HOWLAND_TILE = [34210]\n",
    "    BC_TILES = list(range(3846,3868+1)) \n",
    "    MISC_TILES = ARY_MAS_TILE + ILAB_AK_TILE + KENAI_TILE + HOWLAND_TILE + BC_TILES + SESIB_TILE# + NRWY_TILE\n",
    "    print(len(MISC_TILES))\n",
    "    \n",
    "    print(len(MISC_TILES + INPUT_EXPERIMENT_TILE_NUM_LIST))\n",
    "    \n",
    "    DPS_INPUT_TILE_NUM_LIST = HOWLAND_TILE + ARY_MAS_TILE\n",
    "    print(len(DPS_INPUT_TILE_NUM_LIST))\n",
    "    "
   ]
  },
  {
   "cell_type": "code",
   "execution_count": 22,
   "id": "fc2101ab",
   "metadata": {},
   "outputs": [],
   "source": [
    "# A strip across Siberia that can be improved with shorter seaonal window and broader cloud threshold?\n",
    "if DO_EXPERIMENT:\n",
    "    MISC_TILES = []\n",
    "    INPUT_EXPERIMENT_TILE_NUM_LIST = list(range(1620,1657 + 1))\n",
    "    print(len(INPUT_EXPERIMENT_TILE_NUM_LIST))"
   ]
  },
  {
   "cell_type": "code",
   "execution_count": 31,
   "id": "924b3135",
   "metadata": {},
   "outputs": [
    {
     "name": "stdout",
     "output_type": "stream",
     "text": [
      "Running DPS on the FULL list of input\n",
      "List length: 5245\n"
     ]
    }
   ],
   "source": [
    "TEST_DPS  = False\n",
    "\n",
    "if TEST_DPS:\n",
    "    print('Running DPS on a SUBSET list of input')\n",
    "    DPS_INPUT_TILE_NUM_LIST = INPUT_TILE_NUM_LIST[-10:]\n",
    "else:\n",
    "    if DO_EXPERIMENT:\n",
    "        print('Running DPS on the FULL list of EXPERIMENT input')\n",
    "        DPS_INPUT_TILE_NUM_LIST = MISC_TILES + INPUT_EXPERIMENT_TILE_NUM_LIST\n",
    "    else:\n",
    "        print('Running DPS on the FULL list of input')\n",
    "        DPS_INPUT_TILE_NUM_LIST = INPUT_TILE_NUM_LIST\n",
    "    \n",
    "print(f\"List length: {len(DPS_INPUT_TILE_NUM_LIST)}\")"
   ]
  },
  {
   "cell_type": "markdown",
   "id": "d0e41b1d",
   "metadata": {},
   "source": [
    "# Register DPS algorithm\n",
    "We need to register a DPS algorithm called 'do_HLS_stack_3-1-2' before proceeding to the chunks below..."
   ]
  },
  {
   "cell_type": "code",
   "execution_count": 7,
   "id": "e109f442",
   "metadata": {},
   "outputs": [
    {
     "name": "stdout",
     "output_type": "stream",
     "text": [
      "{\n",
      "  \"algorithm_name\": \"do_HLS_stack_3-1-2\",\n",
      "  \"code_version\": \"master\",\n",
      "  \"environment_name\": \"ubuntu\",\n",
      "  \"repo_url\": \"https://repo.ops.maap-project.org/icesat2_boreal/icesat2_boreal.git\",\n",
      "  \"docker_container_url\": \"mas.maap-project.org:5000/root/ade-base-images/r:latest\",\n",
      "  \"queue\": \"maap-dps-worker-16gb\",\n",
      "  \"algorithm_description\": \"DPS run to create tiled HLS composites\",\n",
      "  \"build_command\": \"icesat2_boreal/dps/build_command_main.sh\",\n",
      "  \"script_command\": \"icesat2_boreal/dps/alg_3-1-2/run.sh\",\n",
      "  \"disk_space\": \"16GB\",\n",
      "  \"algorithm_params\": [\n",
      "    {\n",
      "      \"field\": \"in_tile_fn\",\n",
      "      \"download\": true\n",
      "    },\n",
      "    {\n",
      "      \"field\": \"in_tile_num\",\n",
      "      \"download\": false\n",
      "    },\n",
      "    {\n",
      "      \"field\": \"in_tile_layer\",\n",
      "      \"download\": false\n",
      "    },\n",
      "    {\n",
      "      \"field\": \"sat_api\",\n",
      "      \"download\": false\n",
      "    },\n",
      "    {\n",
      "      \"field\": \"tile_buffer_m\",\n",
      "      \"download\": false\n",
      "    },\n",
      "    {\n",
      "      \"field\": \"start_year\",\n",
      "      \"download\": false\n",
      "    },\n",
      "    {\n",
      "      \"field\": \"end_year\",\n",
      "      \"download\": false\n",
      "    },\n",
      "    {\n",
      "      \"field\": \"start_month_day\",\n",
      "      \"download\": false\n",
      "    },\n",
      "    {\n",
      "      \"field\": \"end_month_day\",\n",
      "      \"download\": false\n",
      "    },\n",
      "    {\n",
      "      \"field\": \"max_cloud\",\n",
      "      \"download\": false\n",
      "    },\n",
      "    {\n",
      "      \"field\": \"composite_type\",\n",
      "      \"download\": false\n",
      "    }\n",
      "  ]\n",
      "}\n",
      "{\"code\": 200, \"message\": {\"id\": \"1f2fdc092e6203911dbf22bc67329bfbea74459a\", \"short_id\": \"1f2fdc09\", \"created_at\": \"2022-10-06T17:27:21.000+00:00\", \"parent_ids\": [\"e4d229062a1945230cb7a5e04774abe0d1f4a984\"], \"title\": \"Registering algorithm: do_HLS_stack_3-1-2_ubuntu\", \"message\": \"Registering algorithm: do_HLS_stack_3-1-2_ubuntu\", \"author_name\": \"www-data\", \"author_email\": \"www-data@ip-10-46-1-136\", \"authored_date\": \"2022-10-06T17:27:21.000+00:00\", \"committer_name\": \"www-data\", \"committer_email\": \"www-data@ip-10-46-1-136\", \"committed_date\": \"2022-10-06T17:27:21.000+00:00\", \"trailers\": {}, \"web_url\": \"https://repo.ops.maap-project.org/root/register-job/-/commit/1f2fdc092e6203911dbf22bc67329bfbea74459a\", \"stats\": {\"additions\": 1, \"deletions\": 1, \"total\": 2}, \"status\": \"pending\", \"project_id\": 2, \"last_pipeline\": {\"id\": 734, \"iid\": 624, \"project_id\": 2, \"sha\": \"1f2fdc092e6203911dbf22bc67329bfbea74459a\", \"ref\": \"master\", \"status\": \"pending\", \"source\": \"push\", \"created_at\": \"2022-10-06T17:27:22.838Z\", \"updated_at\": \"2022-10-06T17:27:23.251Z\", \"web_url\": \"https://repo.ops.maap-project.org/root/register-job/-/pipelines/734\"}, \"job_web_url\": \"https://repo.ops.maap-project.org/root/register-job/-/jobs/881\", \"job_log_url\": \"https://repo.ops.maap-project.org/root/register-job/-/jobs/881/raw\"}}\n",
      "\n"
     ]
    }
   ],
   "source": [
    "!python /projects/register-algorithm /projects/Developer/icesat2_boreal/dps/alg_3-1-2/algorithm_config.yaml"
   ]
  },
  {
   "cell_type": "markdown",
   "id": "f544fcdc",
   "metadata": {},
   "source": [
    "# Run a DPS of MS Composite tiles"
   ]
  },
  {
   "cell_type": "code",
   "execution_count": 33,
   "id": "9bee264b",
   "metadata": {},
   "outputs": [
    {
     "data": {
      "text/plain": [
       "[4441]"
      ]
     },
     "execution_count": 33,
     "metadata": {},
     "output_type": "execute_result"
    }
   ],
   "source": [
    "DPS_INPUT_TILE_NUM_LIST = DPS_INPUT_TILE_NUM_LIST[0:1]\n",
    "DPS_INPUT_TILE_NUM_LIST"
   ]
  },
  {
   "cell_type": "code",
   "execution_count": 34,
   "id": "dcf498a6",
   "metadata": {},
   "outputs": [
    {
     "data": {
      "text/plain": [
       "'mc40_06-15_09-01_2019_2021'"
      ]
     },
     "execution_count": 34,
     "metadata": {},
     "output_type": "execute_result"
    }
   ],
   "source": [
    "#DPS_INPUT_TILE_NUM_LIST = DPS_INPUT_TILE_NUM_LIST[2000:2100]\n",
    "MAX_CLOUDS = 40 #35\n",
    "SEASON_START = '06-15'\n",
    "SEASON_STOP = '09-01'\n",
    "YEAR_START = '2019'\n",
    "YEAR_STOP = '2021'\n",
    "RUN_NAME = f'mc{MAX_CLOUDS}_{SEASON_START}_{SEASON_STOP}_{YEAR_START}_{YEAR_STOP}'\n",
    "RUN_NAME"
   ]
  },
  {
   "cell_type": "code",
   "execution_count": 35,
   "id": "62b32439",
   "metadata": {},
   "outputs": [
    {
     "name": "stdout",
     "output_type": "stream",
     "text": [
      "# of input tiles for DPS: 1\n",
      "DPS run #: 1\t| tile num: 4441\t| submit status: success\t| job id: 89747469-196d-49b7-98d4-0dafb18033f1\n",
      "Current time:\t202210061824\n",
      "CPU times: user 19.5 ms, sys: 2.72 ms, total: 22.2 ms\n",
      "Wall time: 368 ms\n"
     ]
    },
    {
     "data": {
      "text/html": [
       "<div>\n",
       "<style scoped>\n",
       "    .dataframe tbody tr th:only-of-type {\n",
       "        vertical-align: middle;\n",
       "    }\n",
       "\n",
       "    .dataframe tbody tr th {\n",
       "        vertical-align: top;\n",
       "    }\n",
       "\n",
       "    .dataframe thead th {\n",
       "        text-align: right;\n",
       "    }\n",
       "</style>\n",
       "<table border=\"1\" class=\"dataframe\">\n",
       "  <thead>\n",
       "    <tr style=\"text-align: right;\">\n",
       "      <th></th>\n",
       "      <th>status</th>\n",
       "      <th>http_status_code</th>\n",
       "      <th>job_id</th>\n",
       "      <th>dps_num</th>\n",
       "      <th>tile_num</th>\n",
       "      <th>submit_time</th>\n",
       "      <th>dbs_job_hour</th>\n",
       "      <th>algo_id</th>\n",
       "      <th>user</th>\n",
       "      <th>worker_type</th>\n",
       "      <th>run_name</th>\n",
       "    </tr>\n",
       "  </thead>\n",
       "  <tbody>\n",
       "    <tr>\n",
       "      <th>0</th>\n",
       "      <td>success</td>\n",
       "      <td>200</td>\n",
       "      <td>89747469-196d-49b7-98d4-0dafb18033f1</td>\n",
       "      <td>1</td>\n",
       "      <td>4441</td>\n",
       "      <td>2022-10-06 18:24:40.622528</td>\n",
       "      <td>18</td>\n",
       "      <td>do_HLS_stack_3-1-2_ubuntu</td>\n",
       "      <td>nathanmthomas</td>\n",
       "      <td>maap-dps-worker-32gb</td>\n",
       "      <td>mc40_06-15_09-01_2019_2021</td>\n",
       "    </tr>\n",
       "  </tbody>\n",
       "</table>\n",
       "</div>"
      ],
      "text/plain": [
       "    status  http_status_code                                job_id  dps_num  \\\n",
       "0  success               200  89747469-196d-49b7-98d4-0dafb18033f1        1   \n",
       "\n",
       "   tile_num                submit_time  dbs_job_hour  \\\n",
       "0      4441 2022-10-06 18:24:40.622528            18   \n",
       "\n",
       "                     algo_id           user           worker_type  \\\n",
       "0  do_HLS_stack_3-1-2_ubuntu  nathanmthomas  maap-dps-worker-32gb   \n",
       "\n",
       "                     run_name  \n",
       "0  mc40_06-15_09-01_2019_2021  "
      ]
     },
     "execution_count": 35,
     "metadata": {},
     "output_type": "execute_result"
    }
   ],
   "source": [
    "%%time\n",
    "submit_results_df_list = []\n",
    "len_input_list = len(DPS_INPUT_TILE_NUM_LIST)\n",
    "print(f\"# of input tiles for DPS: {len_input_list}\")\n",
    "\n",
    "for i, INPUT_TILE_NUM in enumerate(DPS_INPUT_TILE_NUM_LIST):\n",
    "\n",
    "    DPS_num = i+1\n",
    "    IDENTIFIER = \"do_HLS_stack_3-1-2\"\n",
    "    ALGO_ID = f'{IDENTIFIER}_ubuntu'\n",
    "    USER = 'nathanmthomas'\n",
    "    WORKER_TYPE = 'maap-dps-worker-32gb'\n",
    "    \n",
    "    in_param_dict = {\n",
    "                         'in_tile_fn': 'https://maap-ops-workspace.s3.amazonaws.com/shared/nathanmthomas/boreal_tiles_v003.gpkg',\n",
    "                         'in_tile_num': INPUT_TILE_NUM,\n",
    "                         'in_tile_layer': 'boreal_tiles_v003',\n",
    "                         'sat_api': 'https://cmr.earthdata.nasa.gov/stac/LPCLOUD',\n",
    "                        #'sat_api': 'https://landsatlook.usgs.gov/sat-api',\n",
    "                         'tile_buffer_m': 0,\n",
    "                         'start_year': YEAR_START,\n",
    "                         'end_year': YEAR_STOP,\n",
    "                         'start_month_day': SEASON_START,\n",
    "                         'end_month_day': SEASON_STOP,\n",
    "                         'max_cloud': MAX_CLOUDS,\n",
    "                         'composite_type': 'HLS'\n",
    "        }\n",
    "        \n",
    "    submit_result = maap.submitJob(\n",
    "                                    identifier=IDENTIFIER,\n",
    "                                    algo_id=ALGO_ID,\n",
    "                                    version=\"master\",\n",
    "                                    username=USER,\n",
    "                                    queue=WORKER_TYPE,\n",
    "                                    # Args that match yaml\n",
    "                                    **in_param_dict\n",
    "        )\n",
    "    \n",
    "    # Build a dataframe of submission details\n",
    "    submit_result['dps_num'] = DPS_num\n",
    "    submit_result['tile_num'] = INPUT_TILE_NUM\n",
    "    submit_result['submit_time'] = datetime.datetime.now()\n",
    "    submit_result['dbs_job_hour'] =datetime.datetime.now().hour\n",
    "    submit_result['algo_id'] = ALGO_ID\n",
    "    submit_result['user'] = USER\n",
    "    submit_result['worker_type'] = WORKER_TYPE\n",
    "\n",
    "    # Append to a list of data frames of submission results\n",
    "    submit_results_df_list.append(pd.DataFrame([submit_result]))\n",
    "    \n",
    "    if DPS_num in [1, 25,50, 100,200,300,400,500, 750, 1000, 1250, 1500, 1750, 2000, 2250, 2500, 2750, 3000, 3250, 3500, 3750, 4000, 4250, 5000, 7000, 9000, 11000, 13000, 15000, 17000, 19000, 21000, 24000, len_input_list]:\n",
    "        print(f\"DPS run #: {DPS_num}\\t| tile num: {INPUT_TILE_NUM}\\t| submit status: {submit_result['status']}\\t| job id: {submit_result['job_id']}\") \n",
    "        \n",
    "# Build a final submission results df and save\n",
    "submit_results_df = pd.concat(submit_results_df_list)\n",
    "submit_results_df['run_name'] = RUN_NAME\n",
    "nowtime = pd.Timestamp.now().strftime('%Y%m%d%H%M')\n",
    "print(f\"Current time:\\t{nowtime}\")\n",
    "submit_results_df.to_csv(f'/projects/my-public-bucket/dps_submission_results/DPS_{IDENTIFIER}_submission_results_{len_input_list}_{nowtime}.csv')\n",
    "submit_results_df"
   ]
  },
  {
   "cell_type": "markdown",
   "id": "536df653",
   "metadata": {},
   "source": [
    "After almost any DPS job, you have to assess what succeeded and failed. This involves:\n",
    "1. building a table of job status based on job ids captured in the job_results_df from the DPS run chunk (this takes 40 mins for ~47k jobs) --> this tells you how many jobs failed\n",
    "2. merging the job status table with the job results df --> this tells you which specific granules (or tile nums) failed\n",
    "3. building another input list of granules for a follow-up DPS\n",
    "## Assess DPS results\n",
    "Build a table of job status based on job id - how many jobs failed?"
   ]
  },
  {
   "cell_type": "code",
   "execution_count": 47,
   "id": "fa3cea18",
   "metadata": {},
   "outputs": [
    {
     "name": "stdout",
     "output_type": "stream",
     "text": [
      "DPS alg:\t\tdo_HLS_stack_3-1-2\n",
      "DPS launch time:\t202210061824\n",
      "Count total jobs:\t1\n",
      "Count pending jobs:\t1\n",
      "Count running jobs:\t0\n",
      "Count succeeded jobs:\t0\n",
      "Count failed jobs:\t0\n",
      "% of failed jobs:\tNothing has failed...yet\n",
      "\n",
      "CPU times: user 25.1 ms, sys: 0 ns, total: 25.1 ms\n",
      "Wall time: 395 ms\n"
     ]
    }
   ],
   "source": [
    "%%time\n",
    "LIST_SUBMISSIONS = sorted(glob.glob(f'/projects/my-public-bucket/dps_submission_results/DPS_{IDENTIFIER}_submission_results_*.csv'),key=ExtractUtils.func, reverse=True)\n",
    "for DPS_DATETIME in [nowtime]:\n",
    "    for fn in LIST_SUBMISSIONS:\n",
    "        if DPS_DATETIME in fn and not 'job_status' in fn:\n",
    "            DPS_alg_id = os.path.basename(fn.split('_submission_results_')[0].replace('DPS_',''))\n",
    "            thentime = fn.split('_')[-1].replace('.csv','')\n",
    "            print(f'DPS alg:\\t\\t{DPS_alg_id}')\n",
    "            print(f'DPS launch time:\\t{thentime}')\n",
    "            z = ExtractUtils.BUILD_TABLE_JOBSTATUS(pd.read_csv(fn))\n",
    "            # Save job status table\n",
    "            z.to_csv(f'/projects/my-public-bucket/dps_submission_results/DPS_{IDENTIFIER}_submission_results_job_status_{len(z)}_{thentime}.csv')"
   ]
  },
  {
   "cell_type": "code",
   "execution_count": 155,
   "id": "6031b1ef",
   "metadata": {},
   "outputs": [
    {
     "name": "stdout",
     "output_type": "stream",
     "text": [
      "[34833, 35953, 36626, 36627, 36851, 37073, 37078, 37079]\n"
     ]
    }
   ],
   "source": [
    "print(z[z['wps:Status'] =='Succeeded'].tile_num.to_list())"
   ]
  },
  {
   "cell_type": "markdown",
   "id": "394b2f43",
   "metadata": {},
   "source": [
    "### Get a list of the FAILS to run through DPS again"
   ]
  },
  {
   "cell_type": "code",
   "execution_count": 210,
   "id": "a751b520",
   "metadata": {},
   "outputs": [
    {
     "data": {
      "text/plain": [
       "1174"
      ]
     },
     "execution_count": 210,
     "metadata": {},
     "output_type": "execute_result"
    }
   ],
   "source": [
    "DPS_INPUT_TILE_NUM_LIST = z[z['wps:Status'] =='Failed'].tile_num.to_list()#[0:20]\n",
    "len(DPS_INPUT_TILE_NUM_LIST)"
   ]
  },
  {
   "cell_type": "code",
   "execution_count": null,
   "id": "444db0e6",
   "metadata": {},
   "outputs": [],
   "source": [
    "z[z['wps:Status'] =='Failed']"
   ]
  },
  {
   "cell_type": "code",
   "execution_count": 128,
   "id": "39125f8e",
   "metadata": {},
   "outputs": [
    {
     "data": {
      "text/plain": [
       "OrderedDict([('wps:Result',\n",
       "              OrderedDict([('@xmlns:ows', 'http://www.opengis.net/ows/2.0'),\n",
       "                           ('@xmlns:schemaLocation',\n",
       "                            'http://schemas.opengis.net/wps/2.0/wps.xsd'),\n",
       "                           ('@xmlns:wps', 'http://www.opengis.net/wps/2.0'),\n",
       "                           ('@xmlns:xsi',\n",
       "                            'http://www.w3.org/2001/XMLSchema-instance'),\n",
       "                           ('wps:JobID',\n",
       "                            'f9241567-6d67-4338-8d66-f2e3df11db3c'),\n",
       "                           ('wps:Output',\n",
       "                            OrderedDict([('@id', 'traceback'),\n",
       "                                         ('wps:Data',\n",
       "                                          'activate does not accept more than one argument:\\n[\\'/app/icesat2_boreal/dps/alg_3-1-2/run.sh\\', \\'2590\\', \\'boreal_tiles_v003\\', \\'https://cmr.earthdata.nasa.gov/stac/LPCLOUD\\', \\'0\\', \\'2019\\', \\'2021\\', \\'06-15\\', \\'09-01\\', \\'25\\', \\'HLS\\']\\n\\n+ /app/icesat2_boreal/dps/alg_3-1-2/run.sh 2590 boreal_tiles_v003 https://cmr.earthdata.nasa.gov/stac/LPCLOUD 0 2019 2021 06-15 09-01 25 HLS\\n+ unset PROJ_LIB\\n+ mkdir output\\n++ ls -d input/boreal_tiles_v003.gpkg\\n+ FILENAMELIST=input/boreal_tiles_v003.gpkg\\n+++ dirname /app/icesat2_boreal/dps/alg_3-1-2/run.sh\\n++ cd /app/icesat2_boreal/dps/alg_3-1-2\\n++ pwd -P\\n+ basedir=/app/icesat2_boreal/dps/alg_3-1-2\\n+ FILENAMELIST=($(ls -d input/*))\\n++ ls -d input/boreal_tiles_v003.gpkg\\n+ INPUT1=/data/work/jobs/2022/04/01/16/01/job-do_HLS_stack_3-1-2_ubuntu__master-20220401T155444.229022Z/input/boreal_tiles_v003.gpkg\\n+ INPUT2=/data/work/jobs/2022/04/01/16/01/job-do_HLS_stack_3-1-2_ubuntu__master-20220401T155444.229022Z/\\n+ OUTPUTDIR=/data/work/jobs/2022/04/01/16/01/job-do_HLS_stack_3-1-2_ubuntu__master-20220401T155444.229022Z/output\\n+ python /app/icesat2_boreal/dps/alg_3-1-2/../../lib/3.1.2_dps.py --in_tile_fn /data/work/jobs/2022/04/01/16/01/job-do_HLS_stack_3-1-2_ubuntu__master-20220401T155444.229022Z/input/boreal_tiles_v003.gpkg --in_tile_num 2590 --in_tile_layer boreal_tiles_v003 --sat_api https://cmr.earthdata.nasa.gov/stac/LPCLOUD --tile_buffer_m 0 --start_year 2019 --end_year 2021 --start_month_day 06-15 --end_month_day 09-01 --max_cloud 25 --composite_type HLS --output_dir /data/work/jobs/2022/04/01/16/01/job-do_HLS_stack_3-1-2_ubuntu__master-20220401T155444.229022Z/output\\nERROR 1: PROJ: proj_create_from_database: Open of /opt/conda/envs/icesat2_boreal/share/proj failed\\nTraceback (most recent call last):\\n  File \"/opt/conda/envs/icesat2_boreal/lib/python3.10/site-packages/pystac_client/stac_api_io.py\", line 136, in request\\n    raise APIError(resp.text)\\npystac_client.exceptions.APIError: <html>\\n<head><title>502 Bad Gateway</title></head>\\n<body>\\n<center><h1>502 Bad Gateway</h1></center>\\n</body>\\n</html>\\n\\n\\nDuring handling of the above exception, another exception occurred:\\n\\nTraceback (most recent call last):\\n  File \"/app/icesat2_boreal/dps/alg_3-1-2/../../lib/3.1.2_dps.py\", line 542, in <module>\\n    main()\\n  File \"/app/icesat2_boreal/dps/alg_3-1-2/../../lib/3.1.2_dps.py\", line 322, in main\\n    master_json = get_HLS_data(args.in_tile_fn, args.in_tile_layer, args.in_tile_id_col, args.in_tile_num, args.output_dir, args.sat_api, args.start_year, args.end_year, args.start_month_day, args.end_month_day, args.max_cloud, args.local)\\n  File \"/app/icesat2_boreal/lib/fetch_HLS.py\", line 123, in get_HLS_data\\n    response_by_year = [query_stac(year, bbox, max_cloud, api, start_month_day, end_month_day) for year in years]\\n  File \"/app/icesat2_boreal/lib/fetch_HLS.py\", line 123, in <listcomp>\\n    response_by_year = [query_stac(year, bbox, max_cloud, api, start_month_day, end_month_day) for year in years]\\n  File \"/app/icesat2_boreal/lib/fetch_HLS.py\", line 89, in query_stac\\n    results = search.get_all_items_as_dict()\\n  File \"/opt/conda/envs/icesat2_boreal/lib/python3.10/site-packages/pystac_client/item_search.py\", line 462, in get_all_items_as_dict\\n    for page in self._stac_io.get_pages(self.url, self.method, self.get_parameters()):\\n  File \"/opt/conda/envs/icesat2_boreal/lib/python3.10/site-packages/pystac_client/stac_api_io.py\", line 209, in get_pages\\n    page = self.read_json(url, method=method, parameters=parameters)\\n  File \"/opt/conda/envs/icesat2_boreal/lib/python3.10/site-packages/pystac/stac_io.py\", line 197, in read_json\\n    txt = self.read_text(source, *args, **kwargs)\\n  File \"/opt/conda/envs/icesat2_boreal/lib/python3.10/site-packages/pystac_client/stac_api_io.py\", line 77, in read_text\\n    return self.request(href, *args, parameters=parameters, **kwargs)\\n  File \"/opt/conda/envs/icesat2_boreal/lib/python3.10/site-packages/pystac_client/stac_api_io.py\", line 139, in request\\n    raise APIError(str(err))\\npystac_client.exceptions.APIError: <html>\\n<head><title>502 Bad Gateway</title></head>\\n<body>\\n<center><h1>502 Bad Gateway</h1></center>\\n</body>\\n</html>\\n\\n+ cp _stderr.txt _alt_traceback.txt')]))]))])"
      ]
     },
     "execution_count": 128,
     "metadata": {},
     "output_type": "execute_result"
    }
   ],
   "source": [
    "xmltodict.parse(maap.getJobResult(z[z['wps:Status'] =='Failed'].iloc[25].job_id).content)"
   ]
  },
  {
   "cell_type": "code",
   "execution_count": null,
   "id": "487b665c",
   "metadata": {},
   "outputs": [],
   "source": [
    "#!pip install -U -r /projects/Developer/icesat2_boreal/dps/requirements_main.txt"
   ]
  },
  {
   "cell_type": "code",
   "execution_count": 154,
   "id": "7e8b1439",
   "metadata": {},
   "outputs": [
    {
     "name": "stdout",
     "output_type": "stream",
     "text": [
      "/projects/.local/lib/python3.7/site-packages/geopandas/_compat.py:110: UserWarning: The Shapely GEOS version (3.8.0-CAPI-1.13.1 ) is incompatible with the GEOS version PyGEOS was compiled with (3.10.1-CAPI-1.16.0). Conversions between both will be slow.\n",
      "  shapely_geos_version, geos_capi_version_string\n",
      "\n",
      "Building a list of tiles:\n",
      "MAAP version:\t\tmaster\n",
      "Type:\t\tHLS\n",
      "Year:\t\t2022\n",
      "Month:\t\t03\n",
      "Days:\t\t23-31\n",
      "\n",
      "Output dir:  /projects/my-public-bucket/DPS_tile_lists\n",
      "                                             s3_path  ...                                file\n",
      "0  s3://maap-ops-workspace/nathanmthomas/dps_outp...  ...     HLS_7_06-01_09-15_2019_2021.tif\n",
      "1  s3://maap-ops-workspace/nathanmthomas/dps_outp...  ...   HLS_178_06-01_09-15_2019_2021.tif\n",
      "2  s3://maap-ops-workspace/nathanmthomas/dps_outp...  ...   HLS_275_06-01_09-15_2019_2021.tif\n",
      "3  s3://maap-ops-workspace/nathanmthomas/dps_outp...  ...  HLS_3848_06-01_09-15_2019_2021.tif\n",
      "4  s3://maap-ops-workspace/nathanmthomas/dps_outp...  ...     HLS_4_06-01_09-15_2019_2021.tif\n",
      "\n",
      "[5 rows x 3 columns]\n",
      "# of duplicate tiles: 234\n",
      "Final # of tiles: 1459\n",
      "df shape :                                              s3_path  ... tile_num\n",
      "0  s3://maap-ops-workspace/nathanmthomas/dps_outp...  ...        7\n",
      "1  s3://maap-ops-workspace/nathanmthomas/dps_outp...  ...      178\n",
      "2  s3://maap-ops-workspace/nathanmthomas/dps_outp...  ...      275\n",
      "3  s3://maap-ops-workspace/nathanmthomas/dps_outp...  ...     3848\n",
      "4  s3://maap-ops-workspace/nathanmthomas/dps_outp...  ...        4\n",
      "\n",
      "[5 rows x 4 columns]\n",
      "Writing tindex master csv: /projects/my-public-bucket/DPS_tile_lists/HLS_tindex_master.csv\n"
     ]
    }
   ],
   "source": [
    "!python /projects/Developer/icesat2_boreal/lib/build_tindex_master.py -t HLS -y 2022 -m 03 -d_min 23"
   ]
  }
 ],
 "metadata": {
  "kernelspec": {
   "display_name": "Python 3 (ipykernel)",
   "language": "python",
   "name": "python3"
  },
  "language_info": {
   "codemirror_mode": {
    "name": "ipython",
    "version": 3
   },
   "file_extension": ".py",
   "mimetype": "text/x-python",
   "name": "python",
   "nbconvert_exporter": "python",
   "pygments_lexer": "ipython3",
   "version": "3.7.8"
  }
 },
 "nbformat": 4,
 "nbformat_minor": 5
}
