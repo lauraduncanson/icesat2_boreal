{
 "cells": [
  {
   "cell_type": "code",
   "execution_count": 1,
   "id": "ca92c376",
   "metadata": {},
   "outputs": [],
   "source": [
    "from maap.maap import MAAP\n",
    "maap = MAAP(maap_host='api.ops.maap-project.org')"
   ]
  },
  {
   "cell_type": "markdown",
   "id": "63caf3e8",
   "metadata": {},
   "source": [
    "# Launch DPS for 3.1.2_dps.py\n",
    "multi-spectral composites\n"
   ]
  },
  {
   "cell_type": "code",
   "execution_count": 2,
   "id": "4f2ba47b",
   "metadata": {},
   "outputs": [
    {
     "name": "stderr",
     "output_type": "stream",
     "text": [
      "/projects/.local/lib/python3.7/site-packages/geopandas/_compat.py:110: UserWarning: The Shapely GEOS version (3.8.0-CAPI-1.13.1 ) is incompatible with the GEOS version PyGEOS was compiled with (3.10.1-CAPI-1.16.0). Conversions between both will be slow.\n",
      "  shapely_geos_version, geos_capi_version_string\n"
     ]
    },
    {
     "name": "stdout",
     "output_type": "stream",
     "text": [
      "Collecting xmltodict\n",
      "  Using cached xmltodict-0.12.0-py2.py3-none-any.whl (9.2 kB)\n",
      "Installing collected packages: xmltodict\n",
      "Successfully installed xmltodict-0.12.0\n",
      "\u001b[33mWARNING: Running pip as the 'root' user can result in broken permissions and conflicting behaviour with the system package manager. It is recommended to use a virtual environment instead: https://pip.pypa.io/warnings/venv\u001b[0m\u001b[33m\n",
      "\u001b[0m\u001b[33mWARNING: You are using pip version 22.0.3; however, version 22.0.4 is available.\n",
      "You should consider upgrading via the '/opt/conda/bin/python3.7 -m pip install --upgrade pip' command.\u001b[0m\u001b[33m\n",
      "\u001b[0m"
     ]
    }
   ],
   "source": [
    "from os import path\n",
    "import os, glob\n",
    "import datetime\n",
    "import pandas as pd\n",
    "import geopandas as gpd\n",
    "!pip install xmltodict\n",
    "import xmltodict"
   ]
  },
  {
   "cell_type": "markdown",
   "id": "17208e38",
   "metadata": {},
   "source": [
    "### Build the input list of granules - s3fs implementation\n"
   ]
  },
  {
   "cell_type": "code",
   "execution_count": 3,
   "id": "5440f0bc",
   "metadata": {},
   "outputs": [
    {
     "name": "stdout",
     "output_type": "stream",
     "text": [
      "CPU times: user 228 ms, sys: 46.2 ms, total: 275 ms\n",
      "Wall time: 1.83 s\n"
     ]
    },
    {
     "data": {
      "text/plain": [
       "0"
      ]
     },
     "execution_count": 3,
     "metadata": {},
     "output_type": "execute_result"
    }
   ],
   "source": [
    "%%time\n",
    "import s3fs\n",
    "s3 = s3fs.S3FileSystem()\n",
    "bucket = \"s3://maap-ops-workspace\"\n",
    "searchkey_list = [f'nathanmthomas/dps_output/do_topo_stack_3-1-5_ubuntu/master/2021/10/**/*.tif' for DAY in ['03','04','05']]\n",
    "# Concat list of lists to data frame\n",
    "topo_path_df = pd.concat([pd.DataFrame(s3.glob(os.path.join(bucket, searchkey)), columns=['maap_path']) for searchkey in searchkey_list])\n",
    "\n",
    "#Convert data frame to list\n",
    "INPUT_TILE_NUM_LIST = [i.replace(\"maap-ops-workspace\", \"https://maap-ops-workspace.s3.amazonaws.com\") for i in topo_path_df.maap_path.to_list()]\n",
    "len(INPUT_TILE_NUM_LIST)"
   ]
  },
  {
   "cell_type": "markdown",
   "id": "510214db",
   "metadata": {},
   "source": [
    "### Get new tiles for version 3\n"
   ]
  },
  {
   "cell_type": "code",
   "execution_count": 4,
   "id": "c54681ed",
   "metadata": {},
   "outputs": [
    {
     "name": "stdout",
     "output_type": "stream",
     "text": [
      "                      count\n",
      "tile_group                 \n",
      "alaska extra             20\n",
      "canada extra             49\n",
      "conus extra              25\n",
      "eurasia central        1169\n",
      "eurasia east           1092\n",
      "eurasia north           159\n",
      "eurasia west            612\n",
      "europe north            290\n",
      "fennoscand south         26\n",
      "north america centra    714\n",
      "north america east      494\n",
      "north america west      470\n",
      "uk                       70\n"
     ]
    },
    {
     "data": {
      "image/png": "[encoded data removed]",
      "text/plain": [
       "<Figure size 432x288 with 1 Axes>"
      ]
     },
     "metadata": {
      "needs_background": "light"
     },
     "output_type": "display_data"
    }
   ],
   "source": [
    "# Get all boreal tiles\n",
    "boreal_tile_index_path = '/projects/shared-buckets/nathanmthomas/boreal_tiles_v003.gpkg' #shared-buckets/nathanmthomas/boreal_grid_albers90k_gpkg.gpkg\n",
    "boreal_tile_index = gpd.read_file(boreal_tile_index_path)\n",
    "\n",
    "bad_tiles = [3540,3634,3728,3823,3916,4004] #Dropping the tiles near antimeridian that reproject poorly.\n",
    "if True:\n",
    "    # Remove bad tiles\n",
    "    boreal_tile_index = boreal_tile_index[~boreal_tile_index['tile_num'].isin(bad_tiles)]\n",
    "\n",
    "boreal_tile_index.plot(column='tile_group')\n",
    "print(boreal_tile_index.groupby('tile_group')['tile_group'].agg(['count']))\n",
    "\n",
    "INPUT_TILE_NUM_LIST = boreal_tile_index[boreal_tile_index.tile_group == 'eurasia north'].tile_num.to_list()"
   ]
  },
  {
   "cell_type": "code",
   "execution_count": 5,
   "id": "2d623fa4",
   "metadata": {},
   "outputs": [
    {
     "data": {
      "text/plain": [
       "159"
      ]
     },
     "execution_count": 5,
     "metadata": {},
     "output_type": "execute_result"
    }
   ],
   "source": [
    " len(INPUT_TILE_NUM_LIST)"
   ]
  },
  {
   "cell_type": "code",
   "execution_count": 6,
   "id": "fa54e418",
   "metadata": {},
   "outputs": [
    {
     "data": {
      "text/plain": [
       "153"
      ]
     },
     "execution_count": 6,
     "metadata": {},
     "output_type": "execute_result"
    }
   ],
   "source": [
    "DO_EXPERIMENT = True\n",
    "\n",
    "NORWAY_TILE_LIST = pd.read_csv('/projects/shared-buckets/lduncanson/misc_files/norway_tiles.csv').layer.tolist()\n",
    "    \n",
    "DELTA_TILE_LIST = [3365,3366,3367,3458,3459,3460,3353,3354,3355] + [3361, 3362]\n",
    "BONA_TILE_LIST  = [3270,3271,3272, 3456,3457,  3363,3364,3365] + [3268, 3269]\n",
    "HEALY_TILE_LIST = [ 3551,3552,3553,3645,3646,3647] + [3648, 3649, 3555, 3554]\n",
    "\n",
    "#DELTA_TILE_LIST = [3365,3366,3367,3458,3460,3353,3354,3355,3549]\n",
    "#BONA_TILE_LIST  = [3270,3271,3272,3364,3456,3457,3458,3364,3365]\n",
    "#HEALY_TILE_LIST = [3456,3457,3458,3551,3552, 3553,3645,3646,3647]\n",
    "INPUT_EXPERIMENT_TILE_NUM_LIST = NORWAY_TILE_LIST + DELTA_TILE_LIST + BONA_TILE_LIST + HEALY_TILE_LIST\n",
    "ALASKA_TILE_LIST =  list(range(3268,3272+1))+\\\n",
    "                    list(range(3361,3366+1))+\\\n",
    "                    list(range(3454,3459+1))+\\\n",
    "                    list(range(3549,3555+1))+\\\n",
    "                    list(range(3643,3648+1))\n",
    "\n",
    "INPUT_EXPERIMENT_TILE_NUM_LIST = NORWAY_TILE_LIST + ALASKA_TILE_LIST\n",
    "len(INPUT_EXPERIMENT_TILE_NUM_LIST)"
   ]
  },
  {
   "cell_type": "code",
   "execution_count": 8,
   "id": "662857b8",
   "metadata": {},
   "outputs": [
    {
     "data": {
      "text/plain": [
       "27"
      ]
     },
     "execution_count": 8,
     "metadata": {},
     "output_type": "execute_result"
    }
   ],
   "source": [
    "ILAB_AK_TILE = [3000]\n",
    "KENAI_TILE = [4017]\n",
    "ARY_MAS_TILE = [37744]\n",
    "NRWY_TILE = [131]\n",
    "HOWLAND_TILE = [3421]\n",
    "BC_TILES = list(range(3846,3868+1)) \n",
    "MISC_TILES = ARY_MAS_TILE + ILAB_AK_TILE + KENAI_TILE + HOWLAND_TILE + BC_TILES # + NRWY_TILE\n",
    "len(MISC_TILES)"
   ]
  },
  {
   "cell_type": "code",
   "execution_count": 24,
   "id": "e838b4ec",
   "metadata": {},
   "outputs": [
    {
     "data": {
      "text/plain": [
       "180"
      ]
     },
     "execution_count": 24,
     "metadata": {},
     "output_type": "execute_result"
    }
   ],
   "source": [
    "len(MISC_TILES + INPUT_EXPERIMENT_TILE_NUM_LIST)"
   ]
  },
  {
   "cell_type": "code",
   "execution_count": 12,
   "id": "c25d5569",
   "metadata": {},
   "outputs": [
    {
     "name": "stdout",
     "output_type": "stream",
     "text": [
      "Running DPS on the FULL list of EXPERIMENT input\n",
      "List length: 180\n"
     ]
    }
   ],
   "source": [
    "TEST_DPS  = False\n",
    "\n",
    "if TEST_DPS:\n",
    "    print('Running DPS on a SUBSET list of input')\n",
    "    DPS_INPUT_TILE_NUM_LIST = INPUT_TILE_NUM_LIST[-10:]\n",
    "else:\n",
    "    if DO_EXPERIMENT:\n",
    "        print('Running DPS on the FULL list of EXPERIMENT input')\n",
    "        DPS_INPUT_TILE_NUM_LIST = MISC_TILES + INPUT_EXPERIMENT_TILE_NUM_LIST\n",
    "    else:\n",
    "        print('Running DPS on the FULL list of input')\n",
    "        DPS_INPUT_TILE_NUM_LIST = INPUT_TILE_NUM_LIST\n",
    "    \n",
    "print(f\"List length: {len(DPS_INPUT_TILE_NUM_LIST)}\")"
   ]
  },
  {
   "cell_type": "markdown",
   "id": "3ef44aba",
   "metadata": {},
   "source": [
    "# Run a DPS of MS Composite tiles"
   ]
  },
  {
   "cell_type": "code",
   "execution_count": 26,
   "id": "d30d17a8",
   "metadata": {},
   "outputs": [
    {
     "data": {
      "text/plain": [
       "'test_mc40_3yrs'"
      ]
     },
     "execution_count": 26,
     "metadata": {},
     "output_type": "execute_result"
    }
   ],
   "source": [
    "MAX_CLOUDS = 40\n",
    "RUN_NAME = f'test_mc{MAX_CLOUDS}_3yrs'\n",
    "RUN_NAME"
   ]
  },
  {
   "cell_type": "code",
   "execution_count": 27,
   "id": "676acfe0",
   "metadata": {},
   "outputs": [
    {
     "name": "stdout",
     "output_type": "stream",
     "text": [
      "# of input tiles for DPS: 180\n",
      "DPS run #: 1\t| tile num: 37744\t| submit status: success\t| job id: bab7a334-4976-4307-a532-e5e32a9dfbbe\n",
      "DPS run #: 100\t| tile num: 324\t| submit status: success\t| job id: e3691dc2-a3ef-42bd-8719-919ca97d9777\n",
      "DPS run #: 180\t| tile num: 3648\t| submit status: success\t| job id: bad35459-99b5-45c1-830d-c88809199d49\n",
      "Current time:\t202203242021\n",
      "CPU times: user 2.21 s, sys: 78 ms, total: 2.29 s\n",
      "Wall time: 42.3 s\n"
     ]
    },
    {
     "data": {
      "text/html": [
       "<div>\n",
       "<style scoped>\n",
       "    .dataframe tbody tr th:only-of-type {\n",
       "        vertical-align: middle;\n",
       "    }\n",
       "\n",
       "    .dataframe tbody tr th {\n",
       "        vertical-align: top;\n",
       "    }\n",
       "\n",
       "    .dataframe thead th {\n",
       "        text-align: right;\n",
       "    }\n",
       "</style>\n",
       "<table border=\"1\" class=\"dataframe\">\n",
       "  <thead>\n",
       "    <tr style=\"text-align: right;\">\n",
       "      <th></th>\n",
       "      <th>status</th>\n",
       "      <th>http_status_code</th>\n",
       "      <th>job_id</th>\n",
       "      <th>dps_num</th>\n",
       "      <th>tile_num</th>\n",
       "      <th>submit_time</th>\n",
       "      <th>dbs_job_hour</th>\n",
       "      <th>algo_id</th>\n",
       "      <th>user</th>\n",
       "      <th>worker_type</th>\n",
       "      <th>run_name</th>\n",
       "    </tr>\n",
       "  </thead>\n",
       "  <tbody>\n",
       "    <tr>\n",
       "      <th>0</th>\n",
       "      <td>success</td>\n",
       "      <td>200</td>\n",
       "      <td>bab7a334-4976-4307-a532-e5e32a9dfbbe</td>\n",
       "      <td>1</td>\n",
       "      <td>37744</td>\n",
       "      <td>2022-03-24 20:21:01.883747</td>\n",
       "      <td>20</td>\n",
       "      <td>do_HLS_stack_3-1-2_ubuntu</td>\n",
       "      <td>nathanmthomas</td>\n",
       "      <td>maap-dps-worker-32gb</td>\n",
       "      <td>test_mc40_3yrs</td>\n",
       "    </tr>\n",
       "    <tr>\n",
       "      <th>0</th>\n",
       "      <td>success</td>\n",
       "      <td>200</td>\n",
       "      <td>6ea45c97-a34e-4b12-934d-ad3fbefcc709</td>\n",
       "      <td>2</td>\n",
       "      <td>3000</td>\n",
       "      <td>2022-03-24 20:21:02.017525</td>\n",
       "      <td>20</td>\n",
       "      <td>do_HLS_stack_3-1-2_ubuntu</td>\n",
       "      <td>nathanmthomas</td>\n",
       "      <td>maap-dps-worker-32gb</td>\n",
       "      <td>test_mc40_3yrs</td>\n",
       "    </tr>\n",
       "    <tr>\n",
       "      <th>0</th>\n",
       "      <td>success</td>\n",
       "      <td>200</td>\n",
       "      <td>2723426d-4385-47c9-8d13-c860f830b287</td>\n",
       "      <td>3</td>\n",
       "      <td>4017</td>\n",
       "      <td>2022-03-24 20:21:02.116227</td>\n",
       "      <td>20</td>\n",
       "      <td>do_HLS_stack_3-1-2_ubuntu</td>\n",
       "      <td>nathanmthomas</td>\n",
       "      <td>maap-dps-worker-32gb</td>\n",
       "      <td>test_mc40_3yrs</td>\n",
       "    </tr>\n",
       "    <tr>\n",
       "      <th>0</th>\n",
       "      <td>success</td>\n",
       "      <td>200</td>\n",
       "      <td>ceafb883-9f47-43e5-9b1f-ca110cdad263</td>\n",
       "      <td>4</td>\n",
       "      <td>3421</td>\n",
       "      <td>2022-03-24 20:21:02.326138</td>\n",
       "      <td>20</td>\n",
       "      <td>do_HLS_stack_3-1-2_ubuntu</td>\n",
       "      <td>nathanmthomas</td>\n",
       "      <td>maap-dps-worker-32gb</td>\n",
       "      <td>test_mc40_3yrs</td>\n",
       "    </tr>\n",
       "    <tr>\n",
       "      <th>0</th>\n",
       "      <td>success</td>\n",
       "      <td>200</td>\n",
       "      <td>d3bb516d-cc55-4e06-b38a-b0f38a96fbe7</td>\n",
       "      <td>5</td>\n",
       "      <td>3846</td>\n",
       "      <td>2022-03-24 20:21:02.547305</td>\n",
       "      <td>20</td>\n",
       "      <td>do_HLS_stack_3-1-2_ubuntu</td>\n",
       "      <td>nathanmthomas</td>\n",
       "      <td>maap-dps-worker-32gb</td>\n",
       "      <td>test_mc40_3yrs</td>\n",
       "    </tr>\n",
       "    <tr>\n",
       "      <th>...</th>\n",
       "      <td>...</td>\n",
       "      <td>...</td>\n",
       "      <td>...</td>\n",
       "      <td>...</td>\n",
       "      <td>...</td>\n",
       "      <td>...</td>\n",
       "      <td>...</td>\n",
       "      <td>...</td>\n",
       "      <td>...</td>\n",
       "      <td>...</td>\n",
       "      <td>...</td>\n",
       "    </tr>\n",
       "    <tr>\n",
       "      <th>0</th>\n",
       "      <td>success</td>\n",
       "      <td>200</td>\n",
       "      <td>ce2875e7-7ee3-4bf9-813f-2b9d28be997e</td>\n",
       "      <td>176</td>\n",
       "      <td>3644</td>\n",
       "      <td>2022-03-24 20:21:42.933049</td>\n",
       "      <td>20</td>\n",
       "      <td>do_HLS_stack_3-1-2_ubuntu</td>\n",
       "      <td>nathanmthomas</td>\n",
       "      <td>maap-dps-worker-32gb</td>\n",
       "      <td>test_mc40_3yrs</td>\n",
       "    </tr>\n",
       "    <tr>\n",
       "      <th>0</th>\n",
       "      <td>success</td>\n",
       "      <td>200</td>\n",
       "      <td>f9e61a71-f8c9-4235-b81d-cdb1c86626d2</td>\n",
       "      <td>177</td>\n",
       "      <td>3645</td>\n",
       "      <td>2022-03-24 20:21:43.191119</td>\n",
       "      <td>20</td>\n",
       "      <td>do_HLS_stack_3-1-2_ubuntu</td>\n",
       "      <td>nathanmthomas</td>\n",
       "      <td>maap-dps-worker-32gb</td>\n",
       "      <td>test_mc40_3yrs</td>\n",
       "    </tr>\n",
       "    <tr>\n",
       "      <th>0</th>\n",
       "      <td>success</td>\n",
       "      <td>200</td>\n",
       "      <td>645a81f9-99c9-4d6d-9e03-66dd08e476cf</td>\n",
       "      <td>178</td>\n",
       "      <td>3646</td>\n",
       "      <td>2022-03-24 20:21:43.418570</td>\n",
       "      <td>20</td>\n",
       "      <td>do_HLS_stack_3-1-2_ubuntu</td>\n",
       "      <td>nathanmthomas</td>\n",
       "      <td>maap-dps-worker-32gb</td>\n",
       "      <td>test_mc40_3yrs</td>\n",
       "    </tr>\n",
       "    <tr>\n",
       "      <th>0</th>\n",
       "      <td>success</td>\n",
       "      <td>200</td>\n",
       "      <td>c9e8e9c6-6d07-4518-a279-87a5e6ce85f9</td>\n",
       "      <td>179</td>\n",
       "      <td>3647</td>\n",
       "      <td>2022-03-24 20:21:43.619208</td>\n",
       "      <td>20</td>\n",
       "      <td>do_HLS_stack_3-1-2_ubuntu</td>\n",
       "      <td>nathanmthomas</td>\n",
       "      <td>maap-dps-worker-32gb</td>\n",
       "      <td>test_mc40_3yrs</td>\n",
       "    </tr>\n",
       "    <tr>\n",
       "      <th>0</th>\n",
       "      <td>success</td>\n",
       "      <td>200</td>\n",
       "      <td>bad35459-99b5-45c1-830d-c88809199d49</td>\n",
       "      <td>180</td>\n",
       "      <td>3648</td>\n",
       "      <td>2022-03-24 20:21:43.817158</td>\n",
       "      <td>20</td>\n",
       "      <td>do_HLS_stack_3-1-2_ubuntu</td>\n",
       "      <td>nathanmthomas</td>\n",
       "      <td>maap-dps-worker-32gb</td>\n",
       "      <td>test_mc40_3yrs</td>\n",
       "    </tr>\n",
       "  </tbody>\n",
       "</table>\n",
       "<p>180 rows × 11 columns</p>\n",
       "</div>"
      ],
      "text/plain": [
       "     status  http_status_code                                job_id  dps_num  \\\n",
       "0   success               200  bab7a334-4976-4307-a532-e5e32a9dfbbe        1   \n",
       "0   success               200  6ea45c97-a34e-4b12-934d-ad3fbefcc709        2   \n",
       "0   success               200  2723426d-4385-47c9-8d13-c860f830b287        3   \n",
       "0   success               200  ceafb883-9f47-43e5-9b1f-ca110cdad263        4   \n",
       "0   success               200  d3bb516d-cc55-4e06-b38a-b0f38a96fbe7        5   \n",
       "..      ...               ...                                   ...      ...   \n",
       "0   success               200  ce2875e7-7ee3-4bf9-813f-2b9d28be997e      176   \n",
       "0   success               200  f9e61a71-f8c9-4235-b81d-cdb1c86626d2      177   \n",
       "0   success               200  645a81f9-99c9-4d6d-9e03-66dd08e476cf      178   \n",
       "0   success               200  c9e8e9c6-6d07-4518-a279-87a5e6ce85f9      179   \n",
       "0   success               200  bad35459-99b5-45c1-830d-c88809199d49      180   \n",
       "\n",
       "    tile_num                submit_time  dbs_job_hour  \\\n",
       "0      37744 2022-03-24 20:21:01.883747            20   \n",
       "0       3000 2022-03-24 20:21:02.017525            20   \n",
       "0       4017 2022-03-24 20:21:02.116227            20   \n",
       "0       3421 2022-03-24 20:21:02.326138            20   \n",
       "0       3846 2022-03-24 20:21:02.547305            20   \n",
       "..       ...                        ...           ...   \n",
       "0       3644 2022-03-24 20:21:42.933049            20   \n",
       "0       3645 2022-03-24 20:21:43.191119            20   \n",
       "0       3646 2022-03-24 20:21:43.418570            20   \n",
       "0       3647 2022-03-24 20:21:43.619208            20   \n",
       "0       3648 2022-03-24 20:21:43.817158            20   \n",
       "\n",
       "                      algo_id           user           worker_type  \\\n",
       "0   do_HLS_stack_3-1-2_ubuntu  nathanmthomas  maap-dps-worker-32gb   \n",
       "0   do_HLS_stack_3-1-2_ubuntu  nathanmthomas  maap-dps-worker-32gb   \n",
       "0   do_HLS_stack_3-1-2_ubuntu  nathanmthomas  maap-dps-worker-32gb   \n",
       "0   do_HLS_stack_3-1-2_ubuntu  nathanmthomas  maap-dps-worker-32gb   \n",
       "0   do_HLS_stack_3-1-2_ubuntu  nathanmthomas  maap-dps-worker-32gb   \n",
       "..                        ...            ...                   ...   \n",
       "0   do_HLS_stack_3-1-2_ubuntu  nathanmthomas  maap-dps-worker-32gb   \n",
       "0   do_HLS_stack_3-1-2_ubuntu  nathanmthomas  maap-dps-worker-32gb   \n",
       "0   do_HLS_stack_3-1-2_ubuntu  nathanmthomas  maap-dps-worker-32gb   \n",
       "0   do_HLS_stack_3-1-2_ubuntu  nathanmthomas  maap-dps-worker-32gb   \n",
       "0   do_HLS_stack_3-1-2_ubuntu  nathanmthomas  maap-dps-worker-32gb   \n",
       "\n",
       "          run_name  \n",
       "0   test_mc40_3yrs  \n",
       "0   test_mc40_3yrs  \n",
       "0   test_mc40_3yrs  \n",
       "0   test_mc40_3yrs  \n",
       "0   test_mc40_3yrs  \n",
       "..             ...  \n",
       "0   test_mc40_3yrs  \n",
       "0   test_mc40_3yrs  \n",
       "0   test_mc40_3yrs  \n",
       "0   test_mc40_3yrs  \n",
       "0   test_mc40_3yrs  \n",
       "\n",
       "[180 rows x 11 columns]"
      ]
     },
     "execution_count": 27,
     "metadata": {},
     "output_type": "execute_result"
    }
   ],
   "source": [
    "%%time\n",
    "submit_results_df_list = []\n",
    "len_input_list = len(DPS_INPUT_TILE_NUM_LIST)\n",
    "print(f\"# of input tiles for DPS: {len_input_list}\")\n",
    "\n",
    "for i, INPUT_TILE_NUM in enumerate(DPS_INPUT_TILE_NUM_LIST):\n",
    "\n",
    "    DPS_num = i+1\n",
    "    IDENTIFIER = \"do_HLS_stack_3-1-2\"\n",
    "    ALGO_ID = f'{IDENTIFIER}_ubuntu'\n",
    "    USER = 'nathanmthomas'\n",
    "    WORKER_TYPE = 'maap-dps-worker-32gb'\n",
    "    \n",
    "    in_param_dict = {\n",
    "                         'in_tile_fn': 'https://maap-ops-workspace.s3.amazonaws.com/shared/nathanmthomas/boreal_tiles_v003.gpkg',\n",
    "                         'in_tile_num': INPUT_TILE_NUM,\n",
    "                         'in_tile_layer': 'boreal_tiles_v003',\n",
    "                         'sat_api': 'https://cmr.earthdata.nasa.gov/stac/LPCLOUD',\n",
    "                        #'sat_api': 'https://landsatlook.usgs.gov/sat-api',\n",
    "                         'tile_buffer_m': 0,\n",
    "                         'start_year': '2019',\n",
    "                         'end_year': '2021',\n",
    "                         'start_month_day': '06-01',\n",
    "                         'end_month_day': '09-15',\n",
    "                         'max_cloud': MAX_CLOUDS,\n",
    "                         'composite_type': 'HLS'\n",
    "        }\n",
    "        \n",
    "    submit_result = maap.submitJob(\n",
    "                                    identifier=IDENTIFIER,\n",
    "                                    algo_id=ALGO_ID,\n",
    "                                    version=\"master\",\n",
    "                                    username=USER,\n",
    "                                    queue=WORKER_TYPE,\n",
    "                                    # Args that match yaml\n",
    "                                    **in_param_dict\n",
    "        )\n",
    "    \n",
    "    # Build a dataframe of submission details\n",
    "    submit_result['dps_num'] = DPS_num\n",
    "    submit_result['tile_num'] = INPUT_TILE_NUM\n",
    "    submit_result['submit_time'] = datetime.datetime.now()\n",
    "    submit_result['dbs_job_hour'] =datetime.datetime.now().hour\n",
    "    submit_result['algo_id'] = ALGO_ID\n",
    "    submit_result['user'] = USER\n",
    "    submit_result['worker_type'] = WORKER_TYPE\n",
    "    \n",
    "    # Append to a list of data frames of submission results\n",
    "    submit_results_df_list.append(pd.DataFrame([submit_result]))\n",
    "    \n",
    "    if DPS_num in [1, 100, 500, 1000, 1500, 2000, 3000, 5000, 7000, 9000, 11000, 13000, 15000, 17000, 19000, 21000, 24000, len_input_list]:\n",
    "        print(f\"DPS run #: {DPS_num}\\t| tile num: {INPUT_TILE_NUM}\\t| submit status: {submit_result['status']}\\t| job id: {submit_result['job_id']}\") \n",
    "        \n",
    "# Build a final submission results df and save\n",
    "submit_results_df = pd.concat(submit_results_df_list)\n",
    "submit_results_df['run_name'] = RUN_NAME\n",
    "nowtime = pd.Timestamp.now().strftime('%Y%m%d%H%M')\n",
    "print(f\"Current time:\\t{nowtime}\")\n",
    "submit_results_df.to_csv(f'/projects/my-public-bucket/DPS_{IDENTIFIER}_submission_results_{len_input_list}_{nowtime}.csv')\n",
    "submit_results_df"
   ]
  },
  {
   "cell_type": "markdown",
   "id": "f4f9da76",
   "metadata": {},
   "source": [
    "After almost any DPS job, you have to assess what succeeded and failed. This involves:\n",
    "1. building a table of job status based on job ids captured in the job_results_df from the DPS run chunk (this takes 40 mins for ~47k jobs) --> this tells you how many jobs failed\n",
    "2. merging the job status table with the job results df --> this tells you which specific granules (or tile nums) failed\n",
    "3. building another input list of granules for a follow-up DPS\n",
    "## Assess DPS results\n",
    "Build a table of job status based on job id - how many jobs failed?"
   ]
  },
  {
   "cell_type": "code",
   "execution_count": 53,
   "id": "e356fd8e",
   "metadata": {},
   "outputs": [
    {
     "name": "stdout",
     "output_type": "stream",
     "text": [
      "Count total jobs:\t180\n",
      "Count pending jobs:\t0\n",
      "Count running jobs:\t69\n",
      "Count succeeded jobs:\t58\n",
      "Count failed jobs:\t53\n",
      "% of failed jobs:\t47.75\n",
      "CPU times: user 1.83 s, sys: 104 ms, total: 1.94 s\n",
      "Wall time: 5.49 s\n"
     ]
    }
   ],
   "source": [
    "%%time\n",
    "def BUILD_TABLE_JOBSTATUS(submit_results_df):\n",
    "    import xmltodict\n",
    "    df = pd.concat([pd.DataFrame(xmltodict.parse(maap.getJobStatus(job_id).content)).transpose() for job_id in submit_results_df.job_id.to_list()])\n",
    "    return df\n",
    "\n",
    "job_status_df = BUILD_TABLE_JOBSTATUS(submit_results_df)\n",
    "#print(job_status_df.head())\n",
    "\n",
    "num_jobs = submit_results_df.shape[0]\n",
    "z = submit_results_df.merge(job_status_df, how='left', left_on='job_id',  right_on='wps:JobID')\n",
    "\n",
    "print(f'Count total jobs:\\t{num_jobs}')\n",
    "print(f\"Count pending jobs:\\t{z[z['wps:Status'] =='Accepted'].shape[0]}\")\n",
    "print(f\"Count running jobs:\\t{z[z['wps:Status'] =='Running'].shape[0]}\")\n",
    "print(f\"Count succeeded jobs:\\t{z[z['wps:Status'] =='Succeeded'].shape[0]}\")\n",
    "print(f\"Count failed jobs:\\t{z[z['wps:Status'] =='Failed'].shape[0]}\")\n",
    "print(f\"% of failed jobs:\\t{round(z[z['wps:Status'] =='Failed'].shape[0] / ( z[z['wps:Status'] =='Failed'].shape[0] + z[z['wps:Status'] =='Succeeded'].shape[0] ), 4) * 100}\")"
   ]
  },
  {
   "cell_type": "code",
   "execution_count": 54,
   "id": "059e7ff5",
   "metadata": {},
   "outputs": [
    {
     "name": "stdout",
     "output_type": "stream",
     "text": [
      "[37744, 4017, 3421, 3852, 3855, 3856, 3857, 3858, 3860, 3861, 3862, 3863, 3864, 3865, 3866, 3867, 3868, 132, 5, 6, 9, 10, 272, 273, 11, 274, 13, 16, 153, 417, 25, 26, 27, 296, 297, 299, 37, 301, 48, 49, 197, 73, 76, 354, 93, 225, 357, 386, 130, 3269, 3272, 3364, 3456]\n"
     ]
    }
   ],
   "source": [
    "DPS_INPUT_TILE_NUM_LIST = z[z['wps:Status'] =='Failed'].tile_num.to_list()\n",
    "print(DPS_INPUT_TILE_NUM_LIST)"
   ]
  },
  {
   "cell_type": "code",
   "execution_count": null,
   "id": "d2b7de0b",
   "metadata": {},
   "outputs": [],
   "source": [
    "z[z['wps:Status'] =='Failed']"
   ]
  },
  {
   "cell_type": "code",
   "execution_count": 55,
   "id": "e3402e01",
   "metadata": {},
   "outputs": [
    {
     "data": {
      "text/plain": [
       "OrderedDict([('wps:Result',\n",
       "              OrderedDict([('@xmlns:ows', 'http://www.opengis.net/ows/2.0'),\n",
       "                           ('@xmlns:schemaLocation',\n",
       "                            'http://schemas.opengis.net/wps/2.0/wps.xsd'),\n",
       "                           ('@xmlns:wps', 'http://www.opengis.net/wps/2.0'),\n",
       "                           ('@xmlns:xsi',\n",
       "                            'http://www.w3.org/2001/XMLSchema-instance'),\n",
       "                           ('wps:JobID',\n",
       "                            'ceafb883-9f47-43e5-9b1f-ca110cdad263'),\n",
       "                           ('wps:Output',\n",
       "                            OrderedDict([('@id', 'traceback'),\n",
       "                                         ('wps:Data',\n",
       "                                          \"activate does not accept more than one argument:\\n['/app/icesat2_boreal/dps/alg_3-1-2/run.sh', '3421', 'boreal_tiles_v003', 'https://cmr.earthdata.nasa.gov/stac/LPCLOUD', '0', '2019', '2021', '06-01', '09-15', '40', 'HLS']\\n\\n+ /app/icesat2_boreal/dps/alg_3-1-2/run.sh 3421 boreal_tiles_v003 https://cmr.earthdata.nasa.gov/stac/LPCLOUD 0 2019 2021 06-01 09-15 40 HLS\\n+ unset PROJ_LIB\\n+ mkdir output\\n++ ls -d input/boreal_tiles_v003.gpkg\\n+ FILENAMELIST=input/boreal_tiles_v003.gpkg\\n+++ dirname /app/icesat2_boreal/dps/alg_3-1-2/run.sh\\n++ cd /app/icesat2_boreal/dps/alg_3-1-2\\n++ pwd -P\\n+ basedir=/app/icesat2_boreal/dps/alg_3-1-2\\n+ FILENAMELIST=($(ls -d input/*))\\n++ ls -d input/boreal_tiles_v003.gpkg\\n+ INPUT1=/data/work/jobs/2022/03/24/20/27/job-do_HLS_stack_3-1-2_ubuntu__master-20220324T202102.272890Z/input/boreal_tiles_v003.gpkg\\n+ INPUT2=/data/work/jobs/2022/03/24/20/27/job-do_HLS_stack_3-1-2_ubuntu__master-20220324T202102.272890Z/\\n+ OUTPUTDIR=/data/work/jobs/2022/03/24/20/27/job-do_HLS_stack_3-1-2_ubuntu__master-20220324T202102.272890Z/output\\n+ python /app/icesat2_boreal/dps/alg_3-1-2/../../lib/3.1.2_dps.py --in_tile_fn /data/work/jobs/2022/03/24/20/27/job-do_HLS_stack_3-1-2_ubuntu__master-20220324T202102.272890Z/input/boreal_tiles_v003.gpkg --in_tile_num 3421 --in_tile_layer boreal_tiles_v003 --sat_api https://cmr.earthdata.nasa.gov/stac/LPCLOUD --tile_buffer_m 0 --start_year 2019 --end_year 2021 --start_month_day 06-01 --end_month_day 09-15 --max_cloud 40 --composite_type HLS --output_dir /data/work/jobs/2022/03/24/20/27/job-do_HLS_stack_3-1-2_ubuntu__master-20220324T202102.272890Z/output\\nERROR 1: PROJ: proj_create_from_database: Open of /opt/conda/envs/icesat2_boreal/share/proj failed\\n/app/icesat2_boreal/dps/alg_3-1-2/run.sh: line 59:    28 Killed                  python ${basedir}/../../lib/3.1.2_dps.py --in_tile_fn ${INPUT1} --in_tile_num ${1} --in_tile_layer ${2} --sat_api ${3} --tile_buffer_m ${4} --start_year ${5} --end_year ${6} --start_month_day ${7} --end_month_day ${8} --max_cloud ${9} --composite_type ${10} --output_dir ${OUTPUTDIR}\\n+ cp _stderr.txt _alt_traceback.txt\")]))]))])"
      ]
     },
     "execution_count": 55,
     "metadata": {},
     "output_type": "execute_result"
    }
   ],
   "source": [
    "xmltodict.parse(maap.getJobResult(z[z['wps:Status'] =='Failed'].iloc[2].job_id).content)"
   ]
  },
  {
   "cell_type": "code",
   "execution_count": null,
   "id": "db26fd82",
   "metadata": {},
   "outputs": [],
   "source": [
    "#!pip install -U -r /projects/Developer/icesat2_boreal/dps/requirements_main.txt"
   ]
  },
  {
   "cell_type": "code",
   "execution_count": null,
   "id": "f131c1ae",
   "metadata": {},
   "outputs": [],
   "source": [
    "#!python /projects/Developer/icesat2_boreal/lib/build_tindex_master.py -t HLS -y 2022 -m 03 -d_min 23"
   ]
  }
 ],
 "metadata": {
  "kernelspec": {
   "display_name": "Python 3 (ipykernel)",
   "language": "python",
   "name": "python3"
  },
  "language_info": {
   "codemirror_mode": {
    "name": "ipython",
    "version": 3
   },
   "file_extension": ".py",
   "mimetype": "text/x-python",
   "name": "python",
   "nbconvert_exporter": "python",
   "pygments_lexer": "ipython3",
   "version": "3.7.8"
  }
 },
 "nbformat": 4,
 "nbformat_minor": 5
}
