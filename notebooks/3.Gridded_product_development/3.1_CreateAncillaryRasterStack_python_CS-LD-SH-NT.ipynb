{
 "cells": [
  {
   "cell_type": "markdown",
   "metadata": {},
   "source": [
    "# Create covariate stacks\n",
    "\n",
    "- Covariates will be derived by reducing satellite imagery to useful modelling layers\n",
    "    - Covariates can include: Landsat 8, NASADEM, Sentinel-2, Sentinel-1\n",
    "\n",
    "## Inputs:\n",
    "\n",
    "- bbox_img_tile: An image tile extent will provide the bbox that accesses cloud-optimized GeoTiffs\n",
    "- filters: search for imagery based on days-of-year, cloudcover, year range\n",
    "- Image tile extent will be dictated by data volume of covars & CPU RAM"
   ]
  }
 ],
 "metadata": {
  "kernelspec": {
   "display_name": "Python 3",
   "language": "python",
   "name": "python3"
  },
  "language_info": {
   "codemirror_mode": {
    "name": "ipython",
    "version": 3
   },
   "file_extension": ".py",
   "mimetype": "text/x-python",
   "name": "python",
   "nbconvert_exporter": "python",
   "pygments_lexer": "ipython3",
   "version": "3.7.6"
  }
 },
 "nbformat": 4,
 "nbformat_minor": 4
}