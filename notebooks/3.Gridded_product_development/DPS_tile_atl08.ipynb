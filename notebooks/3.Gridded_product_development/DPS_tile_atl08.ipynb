{
 "cells": [
  {
   "cell_type": "code",
   "execution_count": 1,
   "id": "1169bd76",
   "metadata": {},
   "outputs": [],
   "source": [
    "from maap.maap import MAAP\n",
    "maap = MAAP(maap_host='api.ops.maap-project.org')"
   ]
  },
  {
   "cell_type": "markdown",
   "id": "e8c6b797",
   "metadata": {},
   "source": [
    "# Launch DPS for tile_atl08.py"
   ]
  },
  {
   "cell_type": "code",
   "execution_count": 2,
   "id": "d1869e1f",
   "metadata": {},
   "outputs": [
    {
     "name": "stderr",
     "output_type": "stream",
     "text": [
      "/opt/conda/lib/python3.7/site-packages/geopandas/_compat.py:110: UserWarning: The Shapely GEOS version (3.8.0-CAPI-1.13.1 ) is incompatible with the GEOS version PyGEOS was compiled with (3.10.1-CAPI-1.16.0). Conversions between both will be slow.\n",
      "  shapely_geos_version, geos_capi_version_string\n"
     ]
    },
    {
     "name": "stdout",
     "output_type": "stream",
     "text": [
      "Collecting xmltodict\n",
      "  Using cached xmltodict-0.13.0-py2.py3-none-any.whl (10.0 kB)\n",
      "Installing collected packages: xmltodict\n",
      "Successfully installed xmltodict-0.13.0\n",
      "\u001b[33mWARNING: Running pip as the 'root' user can result in broken permissions and conflicting behaviour with the system package manager. It is recommended to use a virtual environment instead: https://pip.pypa.io/warnings/venv\u001b[0m\u001b[33m\n",
      "\u001b[0m\u001b[33mWARNING: You are using pip version 22.0.3; however, version 22.1.2 is available.\n",
      "You should consider upgrading via the '/opt/conda/bin/python3.7 -m pip install --upgrade pip' command.\u001b[0m\u001b[33m\n",
      "\u001b[0m"
     ]
    }
   ],
   "source": [
    "import os\n",
    "import geopandas\n",
    "import pandas as pd\n",
    "import glob\n",
    "import datetime\n",
    "!pip install xmltodict\n",
    "import xmltodict\n",
    "import sys\n",
    "sys.path.append('/projects/Developer/icesat2_boreal/lib')\n",
    "import ExtractUtils"
   ]
  },
  {
   "cell_type": "code",
   "execution_count": 16,
   "id": "e5c647d4",
   "metadata": {},
   "outputs": [],
   "source": [
    "DPS_DATA_TYPE = 'ATL08_filt'\n",
    "DPS_ALG_NAME = 'run_tile_atl08_ubuntu'\n",
    "DPS_RUN = '07'\n",
    "\n",
    "OUT_MASTER_CSV_JSON_DIR = '/projects/my-public-bucket/DPS_tile_lists/'+DPS_RUN\n",
    "\n",
    "tindex_master_fn        = os.path.join(OUT_MASTER_CSV_JSON_DIR, f'{DPS_DATA_TYPE}_tindex_master.csv')\n",
    "tile_matches_geojson_fn = os.path.join(OUT_MASTER_CSV_JSON_DIR, f'{DPS_DATA_TYPE}_tindex_master.json')\n",
    "out_mosaic_json_fn      = os.path.join(OUT_MASTER_CSV_JSON_DIR, f'{DPS_DATA_TYPE}_tindex_master_mosaic.json')"
   ]
  },
  {
   "cell_type": "code",
   "execution_count": 6,
   "id": "474491c3",
   "metadata": {},
   "outputs": [
    {
     "name": "stdout",
     "output_type": "stream",
     "text": [
      "/opt/conda/lib/python3.7/site-packages/geopandas/_compat.py:110: UserWarning: The Shapely GEOS version (3.8.0-CAPI-1.13.1 ) is incompatible with the GEOS version PyGEOS was compiled with (3.10.1-CAPI-1.16.0). Conversions between both will be slow.\n",
      "  shapely_geos_version, geos_capi_version_string\n",
      "\n",
      "Building a list of tiles:\n",
      "MAAP version:\t\ttile_atl08\n",
      "Type:\t\tATL08_filt\n",
      "Year:\t\t2022\n",
      "Month:\t\t['04']\n",
      "Days:\t\t1-31\n",
      "\n",
      "Output dir:  /projects/my-public-bucket/DPS_tile_lists/07\n",
      "                                             s3_path  ...                                               file\n",
      "0  s3://maap-ops-workspace/lduncanson/dps_output/...  ...  atl08_005_30m_filt_topo_landsat_20220418_4483.csv\n",
      "2  s3://maap-ops-workspace/lduncanson/dps_output/...  ...  atl08_005_30m_filt_topo_landsat_20220418_4476.csv\n",
      "4  s3://maap-ops-workspace/lduncanson/dps_output/...  ...  atl08_005_30m_filt_topo_landsat_20220418_45970...\n",
      "6  s3://maap-ops-workspace/lduncanson/dps_output/...  ...  atl08_005_30m_filt_topo_landsat_20220418_4475.csv\n",
      "8  s3://maap-ops-workspace/lduncanson/dps_output/...  ...  atl08_005_30m_filt_topo_landsat_20220418_4508.csv\n",
      "\n",
      "[5 rows x 3 columns]\n",
      "/projects/.local/lib/python3.7/site-packages/pandas/core/indexing.py:1597: SettingWithCopyWarning: \n",
      "A value is trying to be set on a copy of a slice from a DataFrame.\n",
      "Try using .loc[row_indexer,col_indexer] = value instead\n",
      "\n",
      "See the caveats in the documentation: https://pandas.pydata.org/pandas-docs/stable/user_guide/indexing.html#returning-a-view-versus-a-copy\n",
      "  self.obj[key] = value\n",
      "/projects/.local/lib/python3.7/site-packages/pandas/core/indexing.py:1720: SettingWithCopyWarning: \n",
      "A value is trying to be set on a copy of a slice from a DataFrame.\n",
      "Try using .loc[row_indexer,col_indexer] = value instead\n",
      "\n",
      "See the caveats in the documentation: https://pandas.pydata.org/pandas-docs/stable/user_guide/indexing.html#returning-a-view-versus-a-copy\n",
      "  self._setitem_single_column(loc, value, pi)\n",
      "# of duplicate tiles: 86\n",
      "Final # of tiles: 4581\n",
      "df shape :                                               s3_path  ...  n_obs\n",
      "28  s3://maap-ops-workspace/lduncanson/dps_output/...  ...   2693\n",
      "26  s3://maap-ops-workspace/lduncanson/dps_output/...  ...   3347\n",
      "24  s3://maap-ops-workspace/lduncanson/dps_output/...  ...   1528\n",
      "22  s3://maap-ops-workspace/lduncanson/dps_output/...  ...   1135\n",
      "20  s3://maap-ops-workspace/lduncanson/dps_output/...  ...  25564\n",
      "\n",
      "[5 rows x 5 columns]\n",
      "Writing tindex master csv: /projects/my-public-bucket/DPS_tile_lists/07/ATL08_filt_tindex_master.csv\n",
      "\n",
      "real\t30m14.444s\n",
      "user\t6m6.606s\n",
      "sys\t1m3.277s\n",
      "CPU times: user 18 s, sys: 6.99 s, total: 25 s\n",
      "Wall time: 30min 14s\n"
     ]
    }
   ],
   "source": [
    "%%time\n",
    "!time python /projects/Developer/icesat2_boreal/lib/build_tindex_master.py -t ATL08_filt -alg_name $DPS_ALG_NAME -y 2022 --dps_month_list 04 --maap_version tile_atl08 -o $OUT_MASTER_CSV_JSON_DIR"
   ]
  },
  {
   "cell_type": "markdown",
   "id": "4366b1ce",
   "metadata": {},
   "source": [
    "#### Set the names of the data frames to create"
   ]
  },
  {
   "cell_type": "code",
   "execution_count": 10,
   "id": "ef98adca",
   "metadata": {},
   "outputs": [],
   "source": [
    "# Topo and Landsat tindex_master csvs from build_tindex_master.py\n",
    "topo_tindex_fn    = \"/projects/my-public-bucket/DPS_tile_lists/Topo_tindex_master.csv\"\n",
    "#landsat_tindex_fn = \"/projects/my-public-bucket/DPS_tile_lists/Landsat_tindex_master.csv\"\n",
    "HLS_tindex_fn     = \"/projects/my-public-bucket/DPS_tile_lists/HLS_tindex_master.csv\"\n",
    "\n",
    "topo_df = pd.read_csv(topo_tindex_fn)\n",
    "hls_df = pd.read_csv(HLS_tindex_fn)"
   ]
  },
  {
   "cell_type": "code",
   "execution_count": 11,
   "id": "b3d3706f",
   "metadata": {},
   "outputs": [
    {
     "data": {
      "text/plain": [
       "'https://s3.console.aws.amazon.com/s3/buckets/maap-ops-workspace/nathanmthomas/dps_output/do_topo_stack_3-1-5_ubuntu/ops/2021/07/23/23/32/27/934649/Copernicus_3457_covars_cog_topo_stack.tif'"
      ]
     },
     "execution_count": 11,
     "metadata": {},
     "output_type": "execute_result"
    }
   ],
   "source": [
    "\n",
    "topo_df = pd.read_csv(topo_tindex_fn)\n",
    "topo_df[topo_df.tile_num == 3457].local_path.tolist()[0].replace('/projects/my-private-bucket', 'https://s3.console.aws.amazon.com/s3/buckets/maap-ops-workspace/nathanmthomas')\n"
   ]
  },
  {
   "cell_type": "markdown",
   "id": "063d13fc",
   "metadata": {},
   "source": [
    "## Get tile ids for which both Topo and HLS stacks exist\n",
    "* join on tile_num"
   ]
  },
  {
   "cell_type": "code",
   "execution_count": 12,
   "id": "85db0f72",
   "metadata": {},
   "outputs": [
    {
     "name": "stdout",
     "output_type": "stream",
     "text": [
      "Total # tiles ready for tile_atl08.py :\t5185\n"
     ]
    },
    {
     "data": {
      "text/html": [
       "<div>\n",
       "<style scoped>\n",
       "    .dataframe tbody tr th:only-of-type {\n",
       "        vertical-align: middle;\n",
       "    }\n",
       "\n",
       "    .dataframe tbody tr th {\n",
       "        vertical-align: top;\n",
       "    }\n",
       "\n",
       "    .dataframe thead th {\n",
       "        text-align: right;\n",
       "    }\n",
       "</style>\n",
       "<table border=\"1\" class=\"dataframe\">\n",
       "  <thead>\n",
       "    <tr style=\"text-align: right;\">\n",
       "      <th></th>\n",
       "      <th>tile_num</th>\n",
       "      <th>local_path_hls</th>\n",
       "      <th>local_path_topo</th>\n",
       "    </tr>\n",
       "  </thead>\n",
       "  <tbody>\n",
       "    <tr>\n",
       "      <th>0</th>\n",
       "      <td>4441</td>\n",
       "      <td>/projects/my-private-bucket/dps_output/do_HLS_...</td>\n",
       "      <td>/projects/my-private-bucket/dps_output/do_topo...</td>\n",
       "    </tr>\n",
       "    <tr>\n",
       "      <th>1</th>\n",
       "      <td>4476</td>\n",
       "      <td>/projects/my-private-bucket/dps_output/do_HLS_...</td>\n",
       "      <td>/projects/my-private-bucket/dps_output/do_topo...</td>\n",
       "    </tr>\n",
       "    <tr>\n",
       "      <th>2</th>\n",
       "      <td>38433</td>\n",
       "      <td>/projects/my-private-bucket/dps_output/do_HLS_...</td>\n",
       "      <td>/projects/my-private-bucket/dps_output/do_topo...</td>\n",
       "    </tr>\n",
       "    <tr>\n",
       "      <th>3</th>\n",
       "      <td>3189</td>\n",
       "      <td>/projects/my-private-bucket/dps_output/do_HLS_...</td>\n",
       "      <td>/projects/my-private-bucket/dps_output/do_topo...</td>\n",
       "    </tr>\n",
       "    <tr>\n",
       "      <th>4</th>\n",
       "      <td>4536</td>\n",
       "      <td>/projects/my-private-bucket/dps_output/do_HLS_...</td>\n",
       "      <td>/projects/my-private-bucket/dps_output/do_topo...</td>\n",
       "    </tr>\n",
       "  </tbody>\n",
       "</table>\n",
       "</div>"
      ],
      "text/plain": [
       "   tile_num                                     local_path_hls  \\\n",
       "0      4441  /projects/my-private-bucket/dps_output/do_HLS_...   \n",
       "1      4476  /projects/my-private-bucket/dps_output/do_HLS_...   \n",
       "2     38433  /projects/my-private-bucket/dps_output/do_HLS_...   \n",
       "3      3189  /projects/my-private-bucket/dps_output/do_HLS_...   \n",
       "4      4536  /projects/my-private-bucket/dps_output/do_HLS_...   \n",
       "\n",
       "                                     local_path_topo  \n",
       "0  /projects/my-private-bucket/dps_output/do_topo...  \n",
       "1  /projects/my-private-bucket/dps_output/do_topo...  \n",
       "2  /projects/my-private-bucket/dps_output/do_topo...  \n",
       "3  /projects/my-private-bucket/dps_output/do_topo...  \n",
       "4  /projects/my-private-bucket/dps_output/do_topo...  "
      ]
     },
     "execution_count": 12,
     "metadata": {},
     "output_type": "execute_result"
    }
   ],
   "source": [
    "model_ready_tiles_fn = \"s3://maap-ops-workspace/shared/nathanmthomas/DPS_tile_lists/model_ready_tiles.csv\"\n",
    "model_ready_tiles = hls_df[['tile_num','local_path']].join(topo_df[['tile_num','local_path']].set_index('tile_num'), how='inner', on='tile_num',lsuffix='_hls',rsuffix='_topo')\n",
    "model_ready_tiles.to_csv(model_ready_tiles_fn)\n",
    "if False:\n",
    "    # Check some\n",
    "    IDX = 4000\n",
    "    print( model_ready_tiles.local_path_hls.to_list()[IDX])\n",
    "    print( model_ready_tiles.local_path_topo.to_list()[IDX])\n",
    "\n",
    "INPUT_TILE_NUM_LIST = model_ready_tiles.tile_num.to_list()\n",
    "print(f'Total # tiles ready for tile_atl08.py :\\t{len(INPUT_TILE_NUM_LIST)}')\n",
    "model_ready_tiles.head()"
   ]
  },
  {
   "cell_type": "code",
   "execution_count": 13,
   "id": "d597ef13",
   "metadata": {},
   "outputs": [
    {
     "name": "stdout",
     "output_type": "stream",
     "text": [
      "s3 index path for pandas read: s3://maap-ops-workspace/shared/nathanmthomas/DPS_tile_lists/ATL08_filt_tindex_master.csv\n",
      "                      count\n",
      "tile_group                 \n",
      "alaska extra             20\n",
      "canada extra             49\n",
      "conus extra              98\n",
      "eurasia central        1169\n",
      "eurasia east           1098\n",
      "eurasia north           159\n",
      "eurasia west            612\n",
      "europe north            358\n",
      "fennoscand south         26\n",
      "north america centra    714\n",
      "north america east      494\n",
      "north america west      470\n",
      "uk                       70\n",
      "Tile status report for ATL08_filt from s3://maap-ops-workspace/shared/nathanmthomas/DPS_tile_lists/ATL08_filt_tindex_master.csv:\n",
      "\t# of boreal tiles in boreal v003:\t\t\t5337\n",
      "\t# of boreal tiles in water:\t\t\t\t0\n",
      "\t# of boreal tiles used study (from Topo coverage):\t5337\n",
      "\t# of boreal tiles with ATL08_filt:\t\t\t\t4581\n",
      "\t# of boreal tiles still needing ATL08_filt from all:\t756\n"
     ]
    },
    {
     "data": {
      "image/png": "[encoded data removed]",
      "text/plain": [
       "<Figure size 576x576 with 1 Axes>"
      ]
     },
     "metadata": {
      "needs_background": "light"
     },
     "output_type": "display_data"
    }
   ],
   "source": [
    "TILE_ATL08_TILES_NEEDED = ExtractUtils.GET_TILES_NEEDED(DPS_DATA_TYPE = 'ATL08_filt',  tindex_master_fn = 's3://maap-ops-workspace/shared/nathanmthomas/DPS_tile_lists/ATL08_filt_tindex_master.csv', boreal_tile_index_path = '/projects/my-public-bucket/boreal_tiles_v003.gpkg')"
   ]
  },
  {
   "cell_type": "markdown",
   "id": "660fb6a9",
   "metadata": {},
   "source": [
    "#### Tiles needed (red)\n",
    "* tiles below 45N wont process b/c extraction of ATL08 was done with min lat = 45N"
   ]
  },
  {
   "cell_type": "code",
   "execution_count": 17,
   "id": "cf2fb058",
   "metadata": {},
   "outputs": [
    {
     "name": "stdout",
     "output_type": "stream",
     "text": [
      "756\n",
      "305\n"
     ]
    },
    {
     "data": {
      "image/png": "[encoded data removed]",
      "text/plain": [
       "<Figure size 576x576 with 1 Axes>"
      ]
     },
     "metadata": {
      "needs_background": "light"
     },
     "output_type": "display_data"
    }
   ],
   "source": [
    "print(len(TILE_ATL08_TILES_NEEDED))\n",
    "boreal_tile_index_path = '/projects/my-public-bucket/old_boreal_tiles/boreal_tiles_v003_old.gpkg'\n",
    "boreal_tile_index = geopandas.read_file(boreal_tile_index_path)\n",
    "ax=boreal_tile_index.boundary.plot()\n",
    "boreal_tile_index_above45_model_ready = boreal_tile_index[(boreal_tile_index.tile_num.isin(model_ready_tiles.tile_num.to_list())) & \\\n",
    "                                                          (boreal_tile_index.tile_num.isin(TILE_ATL08_TILES_NEEDED)) & \\\n",
    "                                                          (boreal_tile_index.to_crs(4326).geometry.bounds.maxy > 45)]\n",
    "boreal_tile_index_above45_model_ready.plot(color='red', ax=ax)\n",
    "print(len(boreal_tile_index_above45_model_ready))"
   ]
  },
  {
   "cell_type": "code",
   "execution_count": 18,
   "id": "ffb77ecc",
   "metadata": {},
   "outputs": [
    {
     "data": {
      "text/plain": [
       "1"
      ]
     },
     "execution_count": 18,
     "metadata": {},
     "output_type": "execute_result"
    }
   ],
   "source": [
    "TILE_ATL08_TILES_NEEDED_above45 = boreal_tile_index_above45_model_ready.tile_num.to_list()\n",
    "\n",
    "INPUT_TILE_NUM_LIST = TILE_ATL08_TILES_NEEDED_above45\n",
    "\n",
    "# based on manual inspection in DPS review map\n",
    "INPUT_TILE_NUM_LIST = [1392, 3417, 40664, 2745, 36685, 36238, 36237, 976, 1321, 43210, 4216, 4151, 3845, 3402, 3215, 3035, 2782, 26340, 24394, 24113, 25184, 10, 26004, 27365]\n",
    "INPUT_TILE_NUM_LIST = [3540,3634,3728,3823,3916,4004,41995,41807,41419]\n",
    "INPUT_TILE_NUM_LIST = [26004, 27365, 35060, 609, 40239]\n",
    "INPUT_TILE_NUM_LIST = [3417]\n",
    "len(INPUT_TILE_NUM_LIST)"
   ]
  },
  {
   "cell_type": "markdown",
   "id": "8a027aaa",
   "metadata": {},
   "source": [
    "##### Test: get a subset of tile ids for test tiles (Norway and others in NA)"
   ]
  },
  {
   "cell_type": "code",
   "execution_count": 19,
   "id": "65e6ec6d",
   "metadata": {},
   "outputs": [],
   "source": [
    "DO_EXPERIMENT = False\n",
    "\n",
    "if DO_EXPERIMENT:\n",
    "    NORWAY_TILE_LIST = pd.read_csv('/projects/shared-buckets/lduncanson/misc_files/norway_tiles.csv').layer.tolist()\n",
    "\n",
    "    DELTA_TILE_LIST = [3365,3366,3367,3458,3459,3460,3353,3354,3355] + [3361, 3362]\n",
    "    BONA_TILE_LIST  = [3270,3271,3272, 3456,3457,  3363,3364,3365] + [3268, 3269]\n",
    "    HEALY_TILE_LIST = [ 3551,3552,3553,3645,3646,3647] + [3648, 3649, 3555, 3554]\n",
    "\n",
    "    #DELTA_TILE_LIST = [3365,3366,3367,3458,3460,3353,3354,3355,3549]\n",
    "    #BONA_TILE_LIST  = [3270,3271,3272,3364,3456,3457,3458,3364,3365]\n",
    "    #HEALY_TILE_LIST = [3456,3457,3458,3551,3552, 3553,3645,3646,3647]\n",
    "    INPUT_EXPERIMENT_TILE_NUM_LIST = NORWAY_TILE_LIST + DELTA_TILE_LIST + BONA_TILE_LIST + HEALY_TILE_LIST\n",
    "    ALASKA_TILE_LIST =  list(range(3268,3272+1))+\\\n",
    "                        list(range(3361,3366+1))+\\\n",
    "                        list(range(3454,3459+1))+\\\n",
    "                        list(range(3549,3555+1))+\\\n",
    "                        list(range(3643,3648+1))\n",
    "\n",
    "    INPUT_EXPERIMENT_TILE_NUM_LIST = NORWAY_TILE_LIST + ALASKA_TILE_LIST\n",
    "    len(INPUT_EXPERIMENT_TILE_NUM_LIST)"
   ]
  },
  {
   "cell_type": "markdown",
   "id": "caab4598",
   "metadata": {},
   "source": [
    "#### Read in the latest tindex and compare with a previous set of completed tiles to see which ones still need to be run"
   ]
  },
  {
   "cell_type": "code",
   "execution_count": 20,
   "id": "a27cadcd",
   "metadata": {},
   "outputs": [],
   "source": [
    "if DO_EXPERIMENT:\n",
    "    import numpy as np\n",
    "    #tindex_master_fn = '/projects/my-private-bucket/dps_output/run_tile_atl08_ubuntu/master/2022/run_no_LC_height_thresholds/ATL08_filt_tindex_master.csv'\n",
    "    NAME_TEST_SUBDIR = 'run_LC_height_thresholds_v2'\n",
    "    tindex_master_DIR = f'/projects/my-private-bucket/dps_output/run_tile_atl08_ubuntu/master/2022/{NAME_TEST_SUBDIR}'\n",
    "    !python /projects/icesat2_boreal/lib/build_tindex_master.py -t ATL08_filt -y 2022 -m $NAME_TEST_SUBDIR -o $tindex_master_DIR\n",
    "\n",
    "    tindex_master_fn = os.path.join(tindex_master_DIR, 'ATL08_filt_tindex_master.csv')\n",
    "    tiles_completed = pd.read_csv(tindex_master_fn)\n",
    "\n",
    "    print(f'Tiles completed: {len(tiles_completed)}')\n",
    "    tile_nums_missing = np.setdiff1d(DPS_INPUT_TILE_NUM_LIST, tiles_completed.tile_num)\n",
    "    print(f'Tiles missing: {len(tile_nums_missing)}')\n",
    "    INPUT_EXPERIMENT_TILE_NUM_LIST = tile_nums_missing.tolist()\n",
    "    print(len(INPUT_EXPERIMENT_TILE_NUM_LIST))"
   ]
  },
  {
   "cell_type": "code",
   "execution_count": 21,
   "id": "7be14e22",
   "metadata": {},
   "outputs": [
    {
     "data": {
      "text/plain": [
       "46166"
      ]
     },
     "execution_count": 21,
     "metadata": {},
     "output_type": "execute_result"
    }
   ],
   "source": [
    "tindex_master_fn = f'/projects/shared-buckets/lduncanson/DPS_tile_lists/ATL08_tindex_master.csv'\n",
    "tiles = pd.read_csv(tindex_master_fn)\n",
    "len(tiles)"
   ]
  },
  {
   "cell_type": "code",
   "execution_count": 22,
   "id": "d02a97ae",
   "metadata": {},
   "outputs": [],
   "source": [
    "if DO_EXPERIMENT:\n",
    "    tiles_completed_no_LC = pd.read_csv('/projects/my-private-bucket/dps_output/run_tile_atl08_ubuntu/master/2022/run_no_LC_height_thresholds/ATL08_filt_tindex_master.csv')\n",
    "    tiles_completed_LC = pd.read_csv('/projects/my-private-bucket/dps_output/run_tile_atl08_ubuntu/master/2022/run_LC_height_thresholds/ATL08_filt_tindex_master.csv')\n",
    "    print(f\"# tiles for no LC:\\t{len(tiles_completed_no_LC)}\")\n",
    "    print(f\"# tiles for LC:\\t\\t{len(tiles_completed_LC)}\")\n",
    "    tile_nums_missing_no_LC = np.setdiff1d(INPUT_TEST_TILE_NUM_LIST, tiles_completed_no_LC.tile_num)\n",
    "    tile_nums_missing_LC = np.setdiff1d(INPUT_TEST_TILE_NUM_LIST, tiles_completed_LC.tile_num)\n",
    "    tile_nums_missing_no_LC = set(INPUT_TEST_TILE_NUM_LIST) - set(tiles_completed_no_LC.tile_num)\n",
    "    tile_nums_missing_LC = set(INPUT_TEST_TILE_NUM_LIST) - set(tiles_completed_LC.tile_num)\n",
    "    print(f\"tiles missing for no LC:\\t{tile_nums_missing_no_LC}\")\n",
    "    print(f\"tiles missing for LC:\\t\\t{tile_nums_missing_LC}\")\n",
    "\n",
    "    #print(f\"tiles for no LC:\\t{tiles_completed_no_LC.tile_num}\")\n",
    "    #print(f\"tiles for LC:\\t\\t{tiles_completed_LC.tile_num}\")\n",
    "\n",
    "    # The missing tiles common to both runs probably wont process b/c they have no ATL08 over land, or no corresponding Landsat or Topo tiles.\n",
    "    # Those missing that are different in each set need to be run\n",
    "    DPS_INPUT_TILE_NUM_LIST_no_LC = list(set(tiles_completed_LC.tile_num) - set(tiles_completed_no_LC.tile_num))\n",
    "    DPS_INPUT_TILE_NUM_LIST_LC = list(set(tiles_completed_no_LC.tile_num) - set(tiles_completed_LC.tile_num))\n",
    "    print(f\"Tiles still needed for no LC run: {DPS_INPUT_TILE_NUM_LIST_no_LC}\")\n",
    "    print(f\"Tiles still needed for LC run: {DPS_INPUT_TILE_NUM_LIST_LC}\")"
   ]
  },
  {
   "cell_type": "code",
   "execution_count": 23,
   "id": "79820d58",
   "metadata": {},
   "outputs": [],
   "source": [
    "if DO_EXPERIMENT:\n",
    "    month_dir_str = 'run_LC_height_thresholds'\n",
    "    index_out_dir = os.path.join('/projects/my-private-bucket/dps_output/run_tile_atl08_ubuntu/master/2022', month_dir_str)\n",
    "    !python /projects/icesat2_boreal/lib/build_tindex_master.py -t ATL08_filt -y 2022 -m $month_dir_str -o $index_out_dir"
   ]
  },
  {
   "cell_type": "code",
   "execution_count": 24,
   "id": "5e20b668",
   "metadata": {},
   "outputs": [
    {
     "name": "stdout",
     "output_type": "stream",
     "text": [
      "Running DPS on the FULL list of input\n",
      "List length: 1\n"
     ]
    }
   ],
   "source": [
    "TEST_DPS  = False\n",
    "\n",
    "if TEST_DPS:\n",
    "    DPS_INPUT_TILE_NUM_LIST = INPUT_TEST_TILE_NUM_LIST\n",
    "    \n",
    "    if True:\n",
    "        #!python /projects/icesat2_boreal/lib/build_tindex_master_v2.py -t ATL08_filt -y 2022 -m $month_dir_str -o $index_out_dir\n",
    "        t = pd.read_csv(os.path.join(index_out_dir,'ATL08_filt_tindex_master.csv'))\n",
    "        COMPLETED_TILES = t.tile_num.to_list()\n",
    "        NEED_TILES = list(set(DPS_INPUT_TILE_NUM_LIST) - set(COMPLETED_TILES))\n",
    "\n",
    "        print(NEED_TILES)\n",
    "        DPS_INPUT_TILE_NUM_LIST = NEED_TILES\n",
    "    \n",
    "else:\n",
    "    if DO_EXPERIMENT:\n",
    "        print('Running DPS on the FULL list of EXPERIMENT input')\n",
    "        DPS_INPUT_TILE_NUM_LIST = INPUT_EXPERIMENT_TILE_NUM_LIST\n",
    "    else:\n",
    "        print('Running DPS on the FULL list of input')\n",
    "        DPS_INPUT_TILE_NUM_LIST = INPUT_TILE_NUM_LIST\n",
    "    \n",
    "print(f\"List length: {len(DPS_INPUT_TILE_NUM_LIST)}\")"
   ]
  },
  {
   "cell_type": "markdown",
   "id": "ce04590a",
   "metadata": {},
   "source": [
    "## Customize the DPS run (choose params, set up the params dictionary)"
   ]
  },
  {
   "cell_type": "code",
   "execution_count": 25,
   "id": "0d0e8a7c",
   "metadata": {},
   "outputs": [],
   "source": [
    "# Set a default params dict\n",
    "in_param_dict = {\n",
    "                        'in_tile_num': '',\n",
    "                        'in_tile_fn': 'https://maap-ops-workspace.s3.amazonaws.com/shared/nathanmthomas/boreal_tiles_v003.gpkg',\n",
    "                        'in_tile_layer': 'boreal_tiles_v003',\n",
    "                        'csv_list_fn': 's3://maap-ops-workspace/shared/lduncanson/DPS_tile_lists/ATL08_tindex_master.csv',\n",
    "                        'topo_stack_list_fn': 's3://maap-ops-workspace/shared/nathanmthomas/DPS_tile_lists/Topo_tindex_master.csv',\n",
    "                        'landsat_stack_list_fn': 's3://maap-ops-workspace/shared/nathanmthomas/DPS_tile_lists/Landsat_tindex_master.csv',\n",
    "                        'landsat_cols_list': 'Blue Green Red NIR SWIR NDVI SAVI MSAVI NDMI EVI NBR NBR2 TCB TCG TCW ValidMask Xgeo Ygeo', \n",
    "                        'years_list': '2020',\n",
    "                        'user_stacks': 'nathanmthomas',\n",
    "                        'user_atl08': 'lduncanson',\n",
    "                        'thresh_sol_el': 0,\n",
    "                        'v_ATL08': 5,\n",
    "                        'minmonth': 6,\n",
    "                        'maxmonth': 9,\n",
    "                        'LC_filter': False\n",
    "    }\n",
    "\n",
    "# Norway test 01 --> run_no_LC_height_thresholds_v2\n",
    "# Just include sol_el so we can use sol_el < 5\n",
    "in_param_dict_norway01 = in_param_dict\n",
    "in_param_dict_norway01['years_list']    = '2019 2020 2021'\n",
    "in_param_dict_norway01['thresh_sol_el'] = 5\n",
    "in_param_dict_norway01['minmonth']      = 4\n",
    "in_param_dict_norway01['maxmonth']      = 10\n",
    "in_param_dict_norway01['LC_filter']     = False\n",
    "\n",
    "# Norway test 02 --> run_LC_height_thresholds_v2\n",
    "# Use v005 ATL08, which will apply lc-based thresholds, extend to all months\n",
    "# NOTE!! make sure you manually update to use the correct filter in tile_atl08.py\n",
    "in_param_dict_norway02 = in_param_dict\n",
    "in_param_dict_norway02['years_list']    = '2019 2020 2021'\n",
    "in_param_dict_norway02['thresh_sol_el'] = 5\n",
    "in_param_dict_norway02['minmonth']      = 4\n",
    "in_param_dict_norway02['maxmonth']      = 10\n",
    "in_param_dict_norway02['LC_filter']     = True\n",
    "\n",
    "# THIS IS THE FINAL SET FOR SPRING-2022 and SUMMER-2022 versions\n",
    "# Norway test 03 --> run_LC_height_thresholds_HLS\n",
    "# same as test 02, but with HLS composites from 2019 - 2021\n",
    "# NOTE: HLS composites have SWIR2 JulianDate yearDate\n",
    "in_param_dict_norway03 = in_param_dict\n",
    "in_param_dict_norway03['landsat_stack_list_fn'] = 's3://maap-ops-workspace/shared/nathanmthomas/DPS_tile_lists/HLS_tindex_master.csv'\n",
    "in_param_dict_norway03['landsat_cols_list']     = 'Blue Green Red NIR SWIR SWIR2 NDVI SAVI MSAVI NDMI EVI NBR NBR2 TCB TCG TCW ValidMask Xgeo Ygeo JulianDate yearDate'\n",
    "in_param_dict_norway03['years_list']            = '2019 2020 2021'\n",
    "in_param_dict_norway03['thresh_sol_el']         = 5\n",
    "in_param_dict_norway03['minmonth']              = 4\n",
    "in_param_dict_norway03['maxmonth']              = 10\n",
    "in_param_dict_norway03['LC_filter']             = True"
   ]
  },
  {
   "cell_type": "code",
   "execution_count": 26,
   "id": "bf0c63b9",
   "metadata": {},
   "outputs": [
    {
     "data": {
      "text/plain": [
       "{'in_tile_num': '',\n",
       " 'in_tile_fn': 'https://maap-ops-workspace.s3.amazonaws.com/shared/nathanmthomas/boreal_tiles_v003.gpkg',\n",
       " 'in_tile_layer': 'boreal_tiles_v003',\n",
       " 'csv_list_fn': 's3://maap-ops-workspace/shared/lduncanson/DPS_tile_lists/ATL08_tindex_master.csv',\n",
       " 'topo_stack_list_fn': 's3://maap-ops-workspace/shared/nathanmthomas/DPS_tile_lists/Topo_tindex_master.csv',\n",
       " 'landsat_stack_list_fn': 's3://maap-ops-workspace/shared/nathanmthomas/DPS_tile_lists/HLS_tindex_master.csv',\n",
       " 'landsat_cols_list': 'Blue Green Red NIR SWIR SWIR2 NDVI SAVI MSAVI NDMI EVI NBR NBR2 TCB TCG TCW ValidMask Xgeo Ygeo JulianDate yearDate',\n",
       " 'years_list': '2019 2020 2021',\n",
       " 'user_stacks': 'nathanmthomas',\n",
       " 'user_atl08': 'lduncanson',\n",
       " 'thresh_sol_el': 5,\n",
       " 'v_ATL08': 5,\n",
       " 'minmonth': 4,\n",
       " 'maxmonth': 10,\n",
       " 'LC_filter': True}"
      ]
     },
     "execution_count": 26,
     "metadata": {},
     "output_type": "execute_result"
    }
   ],
   "source": [
    "in_param_dict = in_param_dict_norway03\n",
    "in_param_dict"
   ]
  },
  {
   "cell_type": "code",
   "execution_count": 27,
   "id": "12606339",
   "metadata": {},
   "outputs": [],
   "source": [
    "#DPS_INPUT_TILE_NUM_LIST = DPS_INPUT_TILE_NUM_LIST[0:1]\n",
    "DPS_INPUT_TILE_NUM_LIST = INPUT_TILE_NUM_LIST#[10:] #INPUT_TILE_NUM_LIST[0:10] #INPUT_TILE_NUM_LIST[10:]\n"
   ]
  },
  {
   "cell_type": "markdown",
   "id": "a75a34ec",
   "metadata": {},
   "source": [
    "## Run a DPS job across the list"
   ]
  },
  {
   "cell_type": "code",
   "execution_count": 28,
   "id": "1d139590",
   "metadata": {},
   "outputs": [],
   "source": [
    "RUN_NAME = 'atl08_with_hls'"
   ]
  },
  {
   "cell_type": "code",
   "execution_count": 29,
   "id": "0a3444c3",
   "metadata": {},
   "outputs": [
    {
     "name": "stdout",
     "output_type": "stream",
     "text": [
      "# of input tiles for DPS: 1\n",
      "DPS run #: 1\t| tile num: 3417\t| submit status: success\t| job id: 80195dff-e646-466a-a8c0-d950ee426105\n",
      "Current time:\t202207191849\n",
      "CPU times: user 17.1 ms, sys: 2.65 ms, total: 19.8 ms\n",
      "Wall time: 1.67 s\n"
     ]
    },
    {
     "data": {
      "text/html": [
       "<div>\n",
       "<style scoped>\n",
       "    .dataframe tbody tr th:only-of-type {\n",
       "        vertical-align: middle;\n",
       "    }\n",
       "\n",
       "    .dataframe tbody tr th {\n",
       "        vertical-align: top;\n",
       "    }\n",
       "\n",
       "    .dataframe thead th {\n",
       "        text-align: right;\n",
       "    }\n",
       "</style>\n",
       "<table border=\"1\" class=\"dataframe\">\n",
       "  <thead>\n",
       "    <tr style=\"text-align: right;\">\n",
       "      <th></th>\n",
       "      <th>status</th>\n",
       "      <th>http_status_code</th>\n",
       "      <th>job_id</th>\n",
       "      <th>dps_num</th>\n",
       "      <th>tile_num</th>\n",
       "      <th>submit_time</th>\n",
       "      <th>dbs_job_hour</th>\n",
       "      <th>algo_id</th>\n",
       "      <th>user</th>\n",
       "      <th>worker_type</th>\n",
       "      <th>run_name</th>\n",
       "    </tr>\n",
       "  </thead>\n",
       "  <tbody>\n",
       "    <tr>\n",
       "      <th>0</th>\n",
       "      <td>success</td>\n",
       "      <td>200</td>\n",
       "      <td>80195dff-e646-466a-a8c0-d950ee426105</td>\n",
       "      <td>1</td>\n",
       "      <td>3417</td>\n",
       "      <td>2022-07-19 18:49:25.234955</td>\n",
       "      <td>18</td>\n",
       "      <td>run_tile_atl08_ubuntu</td>\n",
       "      <td>lduncanson</td>\n",
       "      <td>maap-dps-worker-16gb</td>\n",
       "      <td>atl08_with_hls</td>\n",
       "    </tr>\n",
       "  </tbody>\n",
       "</table>\n",
       "</div>"
      ],
      "text/plain": [
       "    status  http_status_code                                job_id  dps_num  \\\n",
       "0  success               200  80195dff-e646-466a-a8c0-d950ee426105        1   \n",
       "\n",
       "   tile_num                submit_time  dbs_job_hour                algo_id  \\\n",
       "0      3417 2022-07-19 18:49:25.234955            18  run_tile_atl08_ubuntu   \n",
       "\n",
       "         user           worker_type        run_name  \n",
       "0  lduncanson  maap-dps-worker-16gb  atl08_with_hls  "
      ]
     },
     "execution_count": 29,
     "metadata": {},
     "output_type": "execute_result"
    }
   ],
   "source": [
    "%%time\n",
    "submit_results_df_list = []\n",
    "len_input_list = len(DPS_INPUT_TILE_NUM_LIST)\n",
    "print(f\"# of input tiles for DPS: {len_input_list}\")\n",
    "\n",
    "for i, INPUT_TILE_NUM in enumerate(DPS_INPUT_TILE_NUM_LIST):\n",
    "\n",
    "    DPS_num = i+1\n",
    "    IDENTIFIER = 'run_tile_atl08'\n",
    "    ALGO_ID = f'{IDENTIFIER}_ubuntu'\n",
    "    USER = 'lduncanson'\n",
    "    WORKER_TYPE = 'maap-dps-worker-16gb'\n",
    "    \n",
    "    in_param_dict['in_tile_num'] = INPUT_TILE_NUM\n",
    "    \n",
    "    submit_result = maap.submitJob(\n",
    "            identifier=IDENTIFIER,\n",
    "            algo_id=ALGO_ID,\n",
    "            version='tile_atl08',\n",
    "            username=USER, # username needs to be the same as whoever created the workspace\n",
    "            queue=WORKER_TYPE,\n",
    "            **in_param_dict\n",
    "        )\n",
    "    \n",
    "    # Build a dataframe of submission details\n",
    "    submit_result['dps_num'] = DPS_num\n",
    "    submit_result['tile_num'] = INPUT_TILE_NUM\n",
    "    submit_result['submit_time'] = datetime.datetime.now()\n",
    "    submit_result['dbs_job_hour'] =datetime.datetime.now().hour\n",
    "    submit_result['algo_id'] = ALGO_ID\n",
    "    submit_result['user'] = USER\n",
    "    submit_result['worker_type'] = WORKER_TYPE\n",
    "\n",
    "    # Append to a list of data frames of submission results\n",
    "    submit_results_df_list.append(pd.DataFrame([submit_result]))\n",
    "    \n",
    "    if DPS_num in [1, 25,50, 100,200,300,400,500, 750, 1000, 1250, 1500, 1750, 2000, 2250, 2500, 2750, 3000, 3250, 3500, 3750, 4000, 4250, 5000, 7000, 9000, 11000, 13000, 15000, 17000, 19000, 21000, 24000, len_input_list]:\n",
    "        print(f\"DPS run #: {DPS_num}\\t| tile num: {INPUT_TILE_NUM}\\t| submit status: {submit_result['status']}\\t| job id: {submit_result['job_id']}\") \n",
    "        \n",
    "# Build a final submission results df and save\n",
    "submit_results_df = pd.concat(submit_results_df_list)\n",
    "submit_results_df['run_name'] = RUN_NAME\n",
    "nowtime = pd.Timestamp.now().strftime('%Y%m%d%H%M')\n",
    "print(f\"Current time:\\t{nowtime}\")\n",
    "submit_results_df.to_csv(f'/projects/my-public-bucket/dps_submission_results/DPS_{IDENTIFIER}_submission_results_{len_input_list}_{nowtime}.csv')\n",
    "submit_results_df"
   ]
  },
  {
   "cell_type": "markdown",
   "id": "83d129ff",
   "metadata": {},
   "source": [
    "After almost any DPS job, you have to assess what succeeded and failed. This involves:\n",
    "1. building a table of job status based on job ids captured in the job_results_df from the DPS run chunk (this takes 40 mins for ~47k jobs) --> this tells you how many jobs failed\n",
    "2. merging the job status table with the job results df --> this tells you which specific granules (or tile nums) failed\n",
    "3. building another input list of granules for a follow-up DPS\n",
    "## Assess DPS results\n",
    "Build a table of job status based on job id - how many jobs failed?"
   ]
  },
  {
   "cell_type": "code",
   "execution_count": 36,
   "id": "8d8c37f8",
   "metadata": {},
   "outputs": [
    {
     "name": "stdout",
     "output_type": "stream",
     "text": [
      "DPS alg:\t\trun_tile_atl08\n",
      "DPS launch time:\t202207191849\n",
      "Count total jobs:\t1\n",
      "Count pending jobs:\t0\n",
      "Count running jobs:\t1\n",
      "Count succeeded jobs:\t0\n",
      "Count failed jobs:\t0\n",
      "% of failed jobs:\tNothing has failed...yet\n",
      "\n",
      "CPU times: user 22 ms, sys: 1.89 ms, total: 23.9 ms\n",
      "Wall time: 257 ms\n"
     ]
    }
   ],
   "source": [
    "%%time\n",
    "LIST_SUBMISSIONS = sorted(glob.glob(f'/projects/my-public-bucket/dps_submission_results/DPS_{IDENTIFIER}_submission_results_*.csv'),key=ExtractUtils.func, reverse=True)\n",
    "for DPS_DATETIME in ['202207191849']:\n",
    "    for fn in LIST_SUBMISSIONS:\n",
    "        if DPS_DATETIME in fn and not 'job_status' in fn:\n",
    "            DPS_alg_id = os.path.basename(fn.split('_submission_results_')[0].replace('DPS_',''))\n",
    "            thentime = fn.split('_')[-1].replace('.csv','')\n",
    "            print(f'DPS alg:\\t\\t{DPS_alg_id}')\n",
    "            print(f'DPS launch time:\\t{thentime}')\n",
    "            z = ExtractUtils.BUILD_TABLE_JOBSTATUS(pd.read_csv(fn))\n",
    "            # Save job status table\n",
    "            z.to_csv(f'/projects/my-public-bucket/dps_submission_results/DPS_{IDENTIFIER}_submission_results_job_status_{len(z)}_{thentime}.csv')"
   ]
  },
  {
   "cell_type": "code",
   "execution_count": 86,
   "id": "f3bf2df1",
   "metadata": {},
   "outputs": [
    {
     "name": "stdout",
     "output_type": "stream",
     "text": [
      "[35060, 609, 40239]\n"
     ]
    }
   ],
   "source": [
    "print(z[z['wps:Status'] =='Succeeded'].tile_num.to_list())"
   ]
  },
  {
   "cell_type": "code",
   "execution_count": 87,
   "id": "98585459",
   "metadata": {},
   "outputs": [
    {
     "data": {
      "text/plain": [
       "[26004, 27365]"
      ]
     },
     "execution_count": 87,
     "metadata": {},
     "output_type": "execute_result"
    }
   ],
   "source": [
    "DPS_INPUT_TILE_NUM_LIST = z[z['wps:Status'] =='Failed'].tile_num.to_list()\n",
    "DPS_INPUT_TILE_NUM_LIST"
   ]
  },
  {
   "cell_type": "code",
   "execution_count": 99,
   "id": "6d8462de",
   "metadata": {},
   "outputs": [
    {
     "data": {
      "text/plain": [
       "OrderedDict([('wps:Result',\n",
       "              OrderedDict([('@xmlns:ows', 'http://www.opengis.net/ows/2.0'),\n",
       "                           ('@xmlns:schemaLocation',\n",
       "                            'http://schemas.opengis.net/wps/2.0/wps.xsd'),\n",
       "                           ('@xmlns:wps', 'http://www.opengis.net/wps/2.0'),\n",
       "                           ('@xmlns:xsi',\n",
       "                            'http://www.w3.org/2001/XMLSchema-instance'),\n",
       "                           ('wps:JobID',\n",
       "                            'b5524f4d-d4b6-4472-93b3-d3496cd30147'),\n",
       "                           ('wps:Output',\n",
       "                            OrderedDict([('@id',\n",
       "                                          'output-2022-04-21T04:15:06.212846'),\n",
       "                                         ('wps:Data',\n",
       "                                          ['http://maap-ops-workspace.s3-website-us-west-2.amazonaws.com/lduncanson/dps_output/run_tile_atl08_ubuntu/tile_atl08/2022/04/21/04/15/06/212846',\n",
       "                                           's3://s3.us-west-2.amazonaws.com:80/maap-ops-workspace/lduncanson/dps_output/run_tile_atl08_ubuntu/tile_atl08/2022/04/21/04/15/06/212846',\n",
       "                                           'https://s3.console.aws.amazon.com/s3/buckets/maap-ops-workspace/lduncanson/dps_output/run_tile_atl08_ubuntu/tile_atl08/2022/04/21/04/15/06/212846/?region=us-east-1&tab=overview'])]))]))])"
      ]
     },
     "execution_count": 99,
     "metadata": {},
     "output_type": "execute_result"
    }
   ],
   "source": [
    "xmltodict.parse(maap.getJobResult(z[z['wps:Status'] =='Succeeded'].iloc[0].job_id).content)"
   ]
  },
  {
   "cell_type": "code",
   "execution_count": 110,
   "id": "0be28138",
   "metadata": {},
   "outputs": [
    {
     "data": {
      "text/plain": [
       "OrderedDict([('wps:Result',\n",
       "              OrderedDict([('@xmlns:ows', 'http://www.opengis.net/ows/2.0'),\n",
       "                           ('@xmlns:schemaLocation',\n",
       "                            'http://schemas.opengis.net/wps/2.0/wps.xsd'),\n",
       "                           ('@xmlns:wps', 'http://www.opengis.net/wps/2.0'),\n",
       "                           ('@xmlns:xsi',\n",
       "                            'http://www.w3.org/2001/XMLSchema-instance'),\n",
       "                           ('wps:JobID',\n",
       "                            '4daa6c40-429c-4458-a1af-655cc2eebdd4'),\n",
       "                           ('wps:Output',\n",
       "                            OrderedDict([('@id', 'traceback'),\n",
       "                                         ('wps:Data',\n",
       "                                          'activate does not accept more than one argument:\\n[\\'/app/icesat2_boreal/dps/alg_2-4/run_tile_atl08.sh\\', \\'4543\\', \\'boreal_tiles_v003\\', \\'s3://maap-ops-workspace/shared/lduncanson/DPS_tile_lists/ATL08_tindex_master.csv\\', \\'s3://maap-ops-workspace/shared/nathanmthomas/DPS_tile_lists/Topo_tindex_master.csv\\', \\'s3://maap-ops-workspace/shared/nathanmthomas/DPS_tile_lists/HLS_tindex_master.csv\\', \\'Blue Green Red NIR SWIR SWIR2 NDVI SAVI MSAVI NDMI EVI NBR NBR2 TCB TCG TCW ValidMask Xgeo Ygeo JulianDate yearDate\\', \\'2019 2020 2021\\', \\'nathanmthomas\\', \\'lduncanson\\', \\'5\\', \\'5\\', \\'4\\', \\'10\\', \\'True\\']\\n\\n+ /app/icesat2_boreal/dps/alg_2-4/run_tile_atl08.sh 4543 boreal_tiles_v003 s3://maap-ops-workspace/shared/lduncanson/DPS_tile_lists/ATL08_tindex_master.csv s3://maap-ops-workspace/shared/nathanmthomas/DPS_tile_lists/Topo_tindex_master.csv s3://maap-ops-workspace/shared/nathanmthomas/DPS_tile_lists/HLS_tindex_master.csv \\'Blue Green Red NIR SWIR SWIR2 NDVI SAVI MSAVI NDMI EVI NBR NBR2 TCB TCG TCW ValidMask Xgeo Ygeo JulianDate yearDate\\' \\'2019 2020 2021\\' nathanmthomas lduncanson 5 5 4 10 True\\n+++ dirname /app/icesat2_boreal/dps/alg_2-4/run_tile_atl08.sh\\n++ cd /app/icesat2_boreal/dps/alg_2-4\\n++ pwd -P\\n+ basedir=/app/icesat2_boreal/dps/alg_2-4\\n+ unset PROJ_LIB\\n+ mkdir output\\n+ FILENAMELIST=($(ls -d input/*gpkg))\\n++ ls -d input/boreal_tiles_v003.gpkg\\n+ INPUT1=/data/work/jobs/2022/04/21/04/11/job-run_tile_atl08_ubuntu__tile_atl08-20220421T040432.875884Z/input/boreal_tiles_v003.gpkg\\n+ OUTPUTDIR=/data/work/jobs/2022/04/21/04/11/job-run_tile_atl08_ubuntu__tile_atl08-20220421T040432.875884Z/output\\n+ python /app/icesat2_boreal/dps/alg_2-4/../../lib/tile_atl08.py --extract_covars --do_dps --do_30m -o /data/work/jobs/2022/04/21/04/11/job-run_tile_atl08_ubuntu__tile_atl08-20220421T040432.875884Z/output -in_tile_num 4543 -in_tile_fn /data/work/jobs/2022/04/21/04/11/job-run_tile_atl08_ubuntu__tile_atl08-20220421T040432.875884Z/input/boreal_tiles_v003.gpkg -in_tile_layer boreal_tiles_v003 -csv_list_fn s3://maap-ops-workspace/shared/lduncanson/DPS_tile_lists/ATL08_tindex_master.csv -topo_stack_list_fn s3://maap-ops-workspace/shared/nathanmthomas/DPS_tile_lists/Topo_tindex_master.csv -landsat_stack_list_fn s3://maap-ops-workspace/shared/nathanmthomas/DPS_tile_lists/HLS_tindex_master.csv -landsat_cols_list Blue Green Red NIR SWIR SWIR2 NDVI SAVI MSAVI NDMI EVI NBR NBR2 TCB TCG TCW ValidMask Xgeo Ygeo JulianDate yearDate -years_list 2019 2020 2021 -user_stacks nathanmthomas -user_atl08 lduncanson -thresh_sol_el 5 -v_ATL08 5 -minmonth 4 -maxmonth 10 -LC_filter True\\nERROR 1: PROJ: proj_create_from_database: Open of /opt/conda/envs/icesat2_boreal/share/proj failed\\nTraceback (most recent call last):\\n  File \"/opt/conda/envs/icesat2_boreal/lib/python3.10/site-packages/urllib3/connection.py\", line 174, in _new_conn\\n    conn = connection.create_connection(\\n  File \"/opt/conda/envs/icesat2_boreal/lib/python3.10/site-packages/urllib3/util/connection.py\", line 95, in create_connection\\n    raise err\\n  File \"/opt/conda/envs/icesat2_boreal/lib/python3.10/site-packages/urllib3/util/connection.py\", line 85, in create_connection\\n    sock.connect(sa)\\nTimeoutError: [Errno 110] Connection timed out\\n\\nDuring handling of the above exception, another exception occurred:\\n\\nTraceback (most recent call last):\\n  File \"/opt/conda/envs/icesat2_boreal/lib/python3.10/site-packages/urllib3/connectionpool.py\", line 703, in urlopen\\n    httplib_response = self._make_request(\\n  File \"/opt/conda/envs/icesat2_boreal/lib/python3.10/site-packages/urllib3/connectionpool.py\", line 386, in _make_request\\n    self._validate_conn(conn)\\n  File \"/opt/conda/envs/icesat2_boreal/lib/python3.10/site-packages/urllib3/connectionpool.py\", line 1040, in _validate_conn\\n    conn.connect()\\n  File \"/opt/conda/envs/icesat2_boreal/lib/python3.10/site-packages/urllib3/connection.py\", line 358, in connect\\n    self.sock = conn = self._new_conn()\\n  File \"/opt/conda/envs/icesat2_boreal/lib/python3.10/site-packages/urllib3/connection.py\", line 179, in _new_conn\\n    raise ConnectTimeoutError(\\nurllib3.exceptions.ConnectTimeoutError: (<urllib3.connection.HTTPSConnection object at 0x7f51404e65c0>, \\'Connection to api.ops.maap-project.org timed out. (connect timeout=None)\\')\\n\\nDuring handling of the above exception, another exception occurred:\\n\\nTraceback (most recent call last):\\n  File \"/opt/conda/envs/icesat2_boreal/lib/python3.10/site-packages/requests/adapters.py\", line 440, in send\\n    resp = conn.urlopen(\\n  File \"/opt/conda/envs/icesat2_boreal/lib/python3.10/site-packages/urllib3/connectionpool.py\", line 785, in urlopen\\n    retries = retries.increment(\\n  File \"/opt/conda/envs/icesat2_boreal/lib/python3.10/site-packages/urllib3/util/retry.py\", line 592, in increment\\n    raise MaxRetryError(_pool, url, error or ResponseError(cause))\\nurllib3.exceptions.MaxRetryError: HTTPSConnectionPool(host=\\'api.ops.maap-project.org\\', port=443): Max retries exceeded with url: /api/cmr/granules?short_name=ATL08&version=005&bounding_box=143.78267093244824%2C45.44345219816385%2C145.35480705278127%2C46.56236249664874&temporal=2020-04-01T00%3A00%3A00Z%2C2020-10-31T23%3A59%3A59Z&page_num=1&page_size=20 (Caused by ConnectTimeoutError(<urllib3.connection.HTTPSConnection object at 0x7f51404e65c0>, \\'Connection to api.ops.maap-project.org timed out. (connect timeout=None)\\'))\\n\\nDuring handling of the above exception, another exception occurred:\\n\\nTraceback (most recent call last):\\n  File \"/app/icesat2_boreal/dps/alg_2-4/../../lib/tile_atl08.py\", line 392, in <module>\\n    main()\\n  File \"/app/icesat2_boreal/dps/alg_2-4/../../lib/tile_atl08.py\", line 252, in main\\n    all_atl08_for_tile = ExtractUtils.maap_search_get_h5_list(tile_num=in_tile_num, id_col=in_tile_id_col, tile_fn=in_tile_fn, layer=in_tile_layer, DATE_START=date_start, DATE_END=date_end, YEARS=years_list, version=v_ATL08)\\n  File \"/app/icesat2_boreal/lib/ExtractUtils.py\", line 120, in maap_search_get_h5_list\\n    result_chain = itertools.chain.from_iterable([maap.searchGranule(**query) for query in queries])\\n  File \"/app/icesat2_boreal/lib/ExtractUtils.py\", line 120, in <listcomp>\\n    result_chain = itertools.chain.from_iterable([maap.searchGranule(**query) for query in queries])\\n  File \"/home/ops/src/maappy/maap/maap.py\", line 112, in searchGranule\\n    results = self._CMR.get_search_results(url=self._SEARCH_GRANULE_URL, limit=limit, **kwargs)\\n  File \"/home/ops/src/maappy/maap/utils/CMR.py\", line 35, in get_search_results\\n    response = requests.get(\\n  File \"/opt/conda/envs/icesat2_boreal/lib/python3.10/site-packages/requests/api.py\", line 75, in get\\n    return request(\\'get\\', url, params=params, **kwargs)\\n  File \"/opt/conda/envs/icesat2_boreal/lib/python3.10/site-packages/requests/api.py\", line 61, in request\\n    return session.request(method=method, url=url, **kwargs)\\n  File \"/opt/conda/envs/icesat2_boreal/lib/python3.10/site-packages/requests/sessions.py\", line 529, in request\\n    resp = self.send(prep, **send_kwargs)\\n  File \"/opt/conda/envs/icesat2_boreal/lib/python3.10/site-packages/requests/sessions.py\", line 645, in send\\n    r = adapter.send(request, **kwargs)\\n  File \"/opt/conda/envs/icesat2_boreal/lib/python3.10/site-packages/requests/adapters.py\", line 507, in send\\n    raise ConnectTimeout(e, request=request)\\nrequests.exceptions.ConnectTimeout: HTTPSConnectionPool(host=\\'api.ops.maap-project.org\\', port=443): Max retries exceeded with url: /api/cmr/granules?short_name=ATL08&version=005&bounding_box=143.78267093244824%2C45.44345219816385%2C145.35480705278127%2C46.56236249664874&temporal=2020-04-01T00%3A00%3A00Z%2C2020-10-31T23%3A59%3A59Z&page_num=1&page_size=20 (Caused by ConnectTimeoutError(<urllib3.connection.HTTPSConnection object at 0x7f51404e65c0>, \\'Connection to api.ops.maap-project.org timed out. (connect timeout=None)\\'))\\n+ cp _stderr.txt _alt_traceback.txt')]))]))])"
      ]
     },
     "execution_count": 110,
     "metadata": {},
     "output_type": "execute_result"
    }
   ],
   "source": [
    "xmltodict.parse(maap.getJobResult(z[z['wps:Status'] =='Failed'].iloc[20].job_id).content)"
   ]
  },
  {
   "cell_type": "code",
   "execution_count": 25,
   "id": "f3cdc6de",
   "metadata": {},
   "outputs": [
    {
     "name": "stdout",
     "output_type": "stream",
     "text": [
      "/projects/.local/lib/python3.7/site-packages/geopandas/_compat.py:110: UserWarning: The Shapely GEOS version (3.8.0-CAPI-1.13.1 ) is incompatible with the GEOS version PyGEOS was compiled with (3.9.1-CAPI-1.14.2). Conversions between both will be slow.\n",
      "  shapely_geos_version, geos_capi_version_string\n",
      "\n",
      "Building a list of tiles:\n",
      "MAAP version:\t\tmaster\n",
      "Type:\t\tATL08_filt\n",
      "Year:\t\t2022\n",
      "Month:\t\t03\n",
      "Days:\t\t1-31\n",
      "\n",
      "Output dir:  /projects/my-private-bucket/dps_output/run_tile_atl08_ubuntu/master/2022/03\n",
      "                                             s3_path  ...                                               file\n",
      "0  s3://maap-ops-workspace/lduncanson/dps_output/...  ...  atl08_005_30m_filt_topo_landsat_20220329_0004.csv\n",
      "2  s3://maap-ops-workspace/lduncanson/dps_output/...  ...  atl08_005_30m_filt_topo_landsat_20220329_0133.csv\n",
      "4  s3://maap-ops-workspace/lduncanson/dps_output/...  ...  atl08_005_30m_filt_topo_landsat_20220329_0131.csv\n",
      "6  s3://maap-ops-workspace/lduncanson/dps_output/...  ...  atl08_005_30m_filt_topo_landsat_20220329_0132.csv\n",
      "8  s3://maap-ops-workspace/lduncanson/dps_output/...  ...  atl08_005_30m_filt_topo_landsat_20220329_0009.csv\n",
      "\n",
      "[5 rows x 3 columns]\n",
      "# of duplicate tiles: 0\n",
      "Final # of tiles: 128\n",
      "df shape :                                              s3_path  ... tile_num\n",
      "0  s3://maap-ops-workspace/lduncanson/dps_output/...  ...     0004\n",
      "2  s3://maap-ops-workspace/lduncanson/dps_output/...  ...     0133\n",
      "4  s3://maap-ops-workspace/lduncanson/dps_output/...  ...     0131\n",
      "6  s3://maap-ops-workspace/lduncanson/dps_output/...  ...     0132\n",
      "8  s3://maap-ops-workspace/lduncanson/dps_output/...  ...     0009\n",
      "\n",
      "[5 rows x 4 columns]\n",
      "Writing tindex master csv: /projects/my-private-bucket/dps_output/run_tile_atl08_ubuntu/master/2022/03/ATL08_filt_tindex_master.csv\n"
     ]
    }
   ],
   "source": [
    "!python /projects/icesat2_boreal/lib/build_tindex_master.py -t ATL08_filt -y 2022 -m 03 -o /projects/my-private-bucket/dps_output/run_tile_atl08_ubuntu/master/2022/03"
   ]
  },
  {
   "cell_type": "code",
   "execution_count": 99,
   "id": "8a6d9ef6",
   "metadata": {},
   "outputs": [
    {
     "name": "stdout",
     "output_type": "stream",
     "text": [
      "[387, 388, 5, 6, 7, 10, 14, 16, 275, 21, 25, 27, 28, 29, 416, 37, 38, 296, 26025, 299, 300, 301, 48, 177, 50, 178, 60, 198, 3270, 72, 326, 327, 328, 26574, 354, 355, 356, 357, 247]\n"
     ]
    }
   ],
   "source": []
  },
  {
   "cell_type": "code",
   "execution_count": 57,
   "id": "860fded4",
   "metadata": {},
   "outputs": [
    {
     "name": "stdout",
     "output_type": "stream",
     "text": [
      "-LC_filter True --extract_covars --do_30m --do_dps -years_list 2019 2020 2021 -o /projects/my-public-bucket/atl08_filt_covar_tiles -in_tile_num 26004 -in_tile_fn /projects/shared-buckets/nathanmthomas/boreal_tiles_v003.gpkg -in_tile_layer boreal_tiles_v003 -in_tile_id_col tile_num -csv_list_fn /projects/shared-buckets/lduncanson/DPS_tile_lists/ATL08_tindex_master.csv -topo_stack_list_fn /projects/shared-buckets/nathanmthomas/DPS_tile_lists/Topo_tindex_master.csv -landsat_stack_list_fn /projects/shared-buckets/nathanmthomas/DPS_tile_lists/HLS_tindex_master.csv -user_stacks nathanmthomas -user_atl08 lduncanson -thresh_sol_el 5 -v_ATL08 5 -minmonth 4 -maxmonth 10\n",
      "/opt/conda/lib/python3.7/site-packages/geopandas/_compat.py:110: UserWarning: The Shapely GEOS version (3.8.0-CAPI-1.13.1 ) is incompatible with the GEOS version PyGEOS was compiled with (3.10.1-CAPI-1.16.0). Conversions between both will be slow.\n",
      "  shapely_geos_version, geos_capi_version_string\n",
      "\n",
      "Land cover filtering set to: True\n",
      "\n",
      "Working on tile:\t 26004\n",
      "From layer:\t\t boreal_tiles_v003\n",
      "In vector file:\t\t /projects/shared-buckets/nathanmthomas/boreal_tiles_v003.gpkg\n",
      "ATL08 version:\t\t 5\n",
      "Season start:\t\t 04-01\n",
      "Season end:\t\t 10-31\n",
      "Years:\t\t\t [2019, 2020, 2021]\n",
      "ATL08 bin length:\t 30m\n",
      "\n",
      "Doing MAAP query by tile bounds to find all intersecting ATL08 \n",
      "\tTILE_NUM: 26004 (28.02011505181814,44.404606772620504,29.60323527264227,45.55907582227042)\n",
      "\tSearching MAAP for granules using these parameters: \n",
      "\t[{'short_name': 'ATL08', 'version': '005', 'bounding_box': '28.02011505181814,44.404606772620504,29.60323527264227,45.55907582227042', 'limit': 10000, 'temporal': '2019-04-01T00:00:00Z,2019-10-31T23:59:59Z'}, {'short_name': 'ATL08', 'version': '005', 'bounding_box': '28.02011505181814,44.404606772620504,29.60323527264227,45.55907582227042', 'limit': 10000, 'temporal': '2020-04-01T00:00:00Z,2020-10-31T23:59:59Z'}, {'short_name': 'ATL08', 'version': '005', 'bounding_box': '28.02011505181814,44.404606772620504,29.60323527264227,45.55907582227042', 'limit': 10000, 'temporal': '2021-04-01T00:00:00Z,2021-10-31T23:59:59Z'}]\n",
      "\t\t# ATL08 for tile 26004: 118\n",
      "\n",
      "This is either a DPS job (for which the CSV has an s3 path, or the CSV exists locally.)\n",
      "\n",
      "Reading existing list of ATL08 CSVs: /projects/shared-buckets/lduncanson/DPS_tile_lists/ATL08_tindex_master.csv\n",
      "\tDoing 30m ATL08 data?  True\n",
      "\tFind ATL08 CSVs you expect for a tile based on the h5 granule search...\n",
      "\t\t# of all ATL08 granules for tile: 118\n",
      "\t\t# of all_atl08_csvs: 46166\n",
      "\t# of ATL08 CSV found for tile 26004: 94\n",
      "\t# of ATL08 CSV NOT found for tile 26004: 24\n",
      "Creating pandas data frame...\n",
      "\n",
      "Filtering by tile: 26004\n",
      "[28.02011505181814, 29.60323527264227, 44.404606772620504, 45.55907582227042]\n",
      "Bounds clipped 154796 obs. down to 4212 obs.\n",
      "Bounds clipped 124770 obs. down to 0 obs.\n",
      "Bounds clipped 54861 obs. down to 0 obs.\n",
      "Bounds clipped 69998 obs. down to 78 obs.\n",
      "Bounds clipped 88126 obs. down to 0 obs.\n",
      "Bounds clipped 87054 obs. down to 700 obs.\n",
      "Bounds clipped 27426 obs. down to 0 obs.\n",
      "Bounds clipped 148 obs. down to 61 obs.\n",
      "Bounds clipped 15581 obs. down to 2359 obs.\n",
      "Bounds clipped 30628 obs. down to 0 obs.\n",
      "Bounds clipped 80015 obs. down to 1023 obs.\n",
      "Bounds clipped 113655 obs. down to 0 obs.\n",
      "Bounds clipped 124544 obs. down to 3462 obs.\n",
      "Bounds clipped 108270 obs. down to 0 obs.\n",
      "Bounds clipped 81466 obs. down to 1147 obs.\n",
      "Bounds clipped 100345 obs. down to 4539 obs.\n",
      "Bounds clipped 51405 obs. down to 1388 obs.\n",
      "Bounds clipped 21188 obs. down to 6 obs.\n",
      "Bounds clipped 35114 obs. down to 734 obs.\n",
      "Bounds clipped 42234 obs. down to 0 obs.\n",
      "Bounds clipped 107454 obs. down to 3385 obs.\n",
      "Bounds clipped 42743 obs. down to 4035 obs.\n",
      "Bounds clipped 100497 obs. down to 0 obs.\n",
      "Bounds clipped 115773 obs. down to 2932 obs.\n",
      "Bounds clipped 105121 obs. down to 0 obs.\n",
      "Bounds clipped 20371 obs. down to 0 obs.\n",
      "Bounds clipped 88772 obs. down to 1187 obs.\n",
      "Bounds clipped 60177 obs. down to 287 obs.\n",
      "Bounds clipped 24157 obs. down to 0 obs.\n",
      "Bounds clipped 45236 obs. down to 3842 obs.\n",
      "Bounds clipped 6730 obs. down to 0 obs.\n",
      "Bounds clipped 5803 obs. down to 0 obs.\n",
      "Bounds clipped 38191 obs. down to 6246 obs.\n",
      "Bounds clipped 73359 obs. down to 667 obs.\n",
      "Bounds clipped 3360 obs. down to 0 obs.\n",
      "Bounds clipped 77737 obs. down to 2471 obs.\n",
      "Bounds clipped 97670 obs. down to 0 obs.\n",
      "Bounds clipped 151185 obs. down to 680 obs.\n",
      "Bounds clipped 105702 obs. down to 4764 obs.\n",
      "Bounds clipped 119610 obs. down to 2069 obs.\n",
      "Bounds clipped 60733 obs. down to 629 obs.\n",
      "Bounds clipped 38221 obs. down to 0 obs.\n",
      "Bounds clipped 50628 obs. down to 955 obs.\n",
      "Bounds clipped 33936 obs. down to 2103 obs.\n",
      "Bounds clipped 128547 obs. down to 0 obs.\n",
      "Bounds clipped 136742 obs. down to 2228 obs.\n",
      "Bounds clipped 32154 obs. down to 0 obs.\n",
      "Bounds clipped 44842 obs. down to 0 obs.\n",
      "Bounds clipped 48015 obs. down to 283 obs.\n",
      "Bounds clipped 98403 obs. down to 862 obs.\n",
      "Bounds clipped 120805 obs. down to 3269 obs.\n",
      "Bounds clipped 157519 obs. down to 0 obs.\n",
      "Bounds clipped 89062 obs. down to 3180 obs.\n",
      "Bounds clipped 52048 obs. down to 0 obs.\n",
      "Bounds clipped 71167 obs. down to 3062 obs.\n",
      "Bounds clipped 3198 obs. down to 2 obs.\n",
      "Bounds clipped 66453 obs. down to 1591 obs.\n",
      "Bounds clipped 79713 obs. down to 384 obs.\n",
      "Bounds clipped 77065 obs. down to 0 obs.\n",
      "Bounds clipped 97555 obs. down to 5328 obs.\n",
      "Bounds clipped 125793 obs. down to 0 obs.\n",
      "Bounds clipped 84753 obs. down to 3179 obs.\n",
      "Bounds clipped 58409 obs. down to 0 obs.\n",
      "Bounds clipped 76608 obs. down to 4717 obs.\n",
      "Bounds clipped 4788 obs. down to 0 obs.\n",
      "Bounds clipped 55689 obs. down to 5265 obs.\n",
      "Bounds clipped 95742 obs. down to 0 obs.\n",
      "Bounds clipped 23635 obs. down to 1709 obs.\n",
      "Bounds clipped 52920 obs. down to 0 obs.\n",
      "Bounds clipped 25830 obs. down to 1769 obs.\n",
      "Bounds clipped 501 obs. down to 0 obs.\n",
      "Bounds clipped 15932 obs. down to 468 obs.\n",
      "Bounds clipped 3107 obs. down to 0 obs.\n",
      "Bounds clipped 45599 obs. down to 0 obs.\n",
      "Bounds clipped 41163 obs. down to 0 obs.\n",
      "Bounds clipped 32628 obs. down to 1621 obs.\n",
      "Bounds clipped 107897 obs. down to 2446 obs.\n",
      "Bounds clipped 62736 obs. down to 146 obs.\n",
      "Bounds clipped 91997 obs. down to 0 obs.\n",
      "Bounds clipped 26455 obs. down to 2850 obs.\n",
      "Bounds clipped 77835 obs. down to 1877 obs.\n",
      "Bounds clipped 70834 obs. down to 0 obs.\n",
      "Bounds clipped 142767 obs. down to 4566 obs.\n",
      "Bounds clipped 39884 obs. down to 0 obs.\n",
      "Bounds clipped 34233 obs. down to 0 obs.\n",
      "Bounds clipped 106230 obs. down to 0 obs.\n",
      "Bounds clipped 84640 obs. down to 255 obs.\n",
      "Bounds clipped 93417 obs. down to 5810 obs.\n",
      "Bounds clipped 72814 obs. down to 0 obs.\n",
      "Bounds clipped 65311 obs. down to 69 obs.\n",
      "Bounds clipped 77638 obs. down to 0 obs.\n",
      "Bounds clipped 75165 obs. down to 2179 obs.\n",
      "Bounds clipped 59304 obs. down to 8 obs.\n",
      "Bounds clipped 113314 obs. down to 1617 obs.\n",
      "\n",
      "Pre-filter data cleaning...\n",
      "Pandas version: 1.2.2\n",
      "\tGet beam type from orbit orientation and ground track: ['Weak' 'Strong']\n",
      "\tCast some columns to:\n",
      "\t\ttype float: ['lat', 'lon', 'h_can', 'h_te_best', 'ter_slp']\n",
      "\t\ttype integer: ['n_ca_ph', 'n_seg_ph', 'n_toc_ph']\n",
      "Quality filtering with aggressive land-cover based (v3) filters updated in Jan/Feb 2022 ...\n",
      "\n",
      "Filtering by quality\n",
      "\tBefore quality filtering: \t\t116701 observations in the input dataframe.\n",
      "\tAfter msw_flg=0: \t\t64775 observations in the dataframe.\n",
      "\tAfter beam_type=Strong: \t\t37984 observations in the dataframe.\n",
      "\tAfter seg_snow=1: \t\t37962 observations in the dataframe.\n",
      "\tLand cover threshold dictionary: \n",
      "{0: 0, 111: 60, 113: 60, 112: 60, 114: 60, 115: 60, 116: 60, 121: 50, 123: 50, 122: 50, 124: 50, 125: 50, 126: 50, 20: 20, 30: 10, 90: 10, 100: 5, 60: 5, 40: 0, 50: 0, 70: 0, 80: 0, 200: 0}\n",
      "\tAfter land-cover specific h_can thresholds: \t\t9281 observations in the dataframe.\n",
      "\tAfter h_can_unc <5, seg_cover<32767, sol_el<5, sig_topo<2.5, h_dif_ref<25: \t\t2341 observations in the dataframe.\n",
      "\tAfter month filters: 4-10\n",
      "\tAfter all quality filtering: \t\t2341 observations in the output dataframe.\n",
      "\tReturning a pandas data frame.\n",
      "\tFiltered obs. for columns: ['lon', 'lat', 'rh25', 'rh50', 'rh60', 'rh70', 'rh75', 'rh80', 'rh90', 'h_can', 'h_max_can', 'ter_slp', 'h_te_best', 'seg_landcov', 'sol_el', 'y', 'm', 'doy', 'seg_cover']\n",
      "\tData frame shape: (2341, 19) \n",
      "\n",
      "Converting to geopandas data frame in lat/lon ...\n",
      "\n",
      "Getting stack fn from:  /projects/shared-buckets/nathanmthomas/DPS_tile_lists/Topo_tindex_master.csv\n",
      "\t s3://maap-ops-workspace/nathanmthomas/dps_output/do_topo_stack_3-1-5_ubuntu/master/2022/04/11/05/16/26/160492/Copernicus_26004_cog_topo_stack.tif\n",
      "\n",
      "Getting stack fn from:  /projects/shared-buckets/nathanmthomas/DPS_tile_lists/HLS_tindex_master.csv\n",
      "\t s3://maap-ops-workspace/nathanmthomas/dps_output/do_HLS_stack_3-1-2_ubuntu/master/2022/04/11/15/13/42/701509/HLS_26004_07-01_09-01_2019_2021.tif\n",
      "\n",
      "Extract covars for 2341 ATL08 obs...\n",
      "\tExtracting raster values from:  s3://maap-ops-workspace/nathanmthomas/dps_output/do_topo_stack_3-1-5_ubuntu/master/2022/04/11/05/16/26/160492/Copernicus_26004_cog_topo_stack.tif\n",
      "\tRe-project points to match raster...\n",
      "\tReturning 2341 points with 5 new raster value columns: ['elevation', 'slope', 'tsri', 'tpi', 'slopemask']\n",
      "\tExtracting raster values from:  s3://maap-ops-workspace/nathanmthomas/dps_output/do_HLS_stack_3-1-2_ubuntu/master/2022/04/11/15/13/42/701509/HLS_26004_07-01_09-01_2019_2021.tif\n",
      "Traceback (most recent call last):\n",
      "  File \"rasterio/_base.pyx\", line 261, in rasterio._base.DatasetBase.__init__\n",
      "  File \"rasterio/_shim.pyx\", line 78, in rasterio._shim.open_dataset\n",
      "  File \"rasterio/_err.pyx\", line 215, in rasterio._err.exc_wrap_pointer\n",
      "rasterio._err.CPLE_AWSObjectNotFoundError: The specified key does not exist.\n",
      "\n",
      "During handling of the above exception, another exception occurred:\n",
      "\n",
      "Traceback (most recent call last):\n",
      "  File \"/projects/Developer/icesat2_boreal/lib/tile_atl08.py\", line 392, in <module>\n",
      "    main()\n",
      "  File \"/projects/Developer/icesat2_boreal/lib/tile_atl08.py\", line 367, in main\n",
      "    atl08_gdf = ExtractUtils.extract_value_gdf(landsat_covar_fn, atl08_gdf, landsat_cols_list, reproject=False)\n",
      "  File \"/projects/Developer/icesat2_boreal/lib/ExtractUtils.py\", line 147, in extract_value_gdf\n",
      "    r_src = rio.open(r_fn)\n",
      "  File \"/opt/conda/lib/python3.7/site-packages/rasterio/env.py\", line 435, in wrapper\n",
      "    return f(*args, **kwds)\n",
      "  File \"/opt/conda/lib/python3.7/site-packages/rasterio/__init__.py\", line 220, in open\n",
      "    s = DatasetReader(path, driver=driver, sharing=sharing, **kwargs)\n",
      "  File \"rasterio/_base.pyx\", line 263, in rasterio._base.DatasetBase.__init__\n",
      "rasterio.errors.RasterioIOError: The specified key does not exist.\n",
      "CPU times: user 3.13 s, sys: 1.24 s, total: 4.37 s\n",
      "Wall time: 5min 7s\n"
     ]
    }
   ],
   "source": [
    "%%time\n",
    "TILE_NUM = 26004 #1392 #NEED_TILES[6]\n",
    "args = f\"\\\n",
    "-LC_filter True \\\n",
    "--extract_covars \\\n",
    "--do_30m \\\n",
    "--do_dps \\\n",
    "-years_list 2019 2020 2021 \\\n",
    "-o /projects/my-public-bucket/atl08_filt_covar_tiles \\\n",
    "-in_tile_num {TILE_NUM} \\\n",
    "-in_tile_fn /projects/shared-buckets/nathanmthomas/boreal_tiles_v003.gpkg \\\n",
    "-in_tile_layer boreal_tiles_v003 \\\n",
    "-in_tile_id_col tile_num \\\n",
    "-csv_list_fn /projects/shared-buckets/lduncanson/DPS_tile_lists/ATL08_tindex_master.csv \\\n",
    "-topo_stack_list_fn /projects/shared-buckets/nathanmthomas/DPS_tile_lists/Topo_tindex_master.csv \\\n",
    "-landsat_stack_list_fn /projects/shared-buckets/nathanmthomas/DPS_tile_lists/HLS_tindex_master.csv \\\n",
    "-user_stacks nathanmthomas \\\n",
    "-user_atl08 lduncanson \\\n",
    "-thresh_sol_el 5 \\\n",
    "-v_ATL08 5 -minmonth 4 -maxmonth 10\"\n",
    "print(args)\n",
    "!python /projects/Developer/icesat2_boreal/lib/tile_atl08.py $args"
   ]
  },
  {
   "cell_type": "code",
   "execution_count": null,
   "id": "1d95ecbc",
   "metadata": {},
   "outputs": [],
   "source": []
  }
 ],
 "metadata": {
  "kernelspec": {
   "display_name": "Python 3 (ipykernel)",
   "language": "python",
   "name": "python3"
  },
  "language_info": {
   "codemirror_mode": {
    "name": "ipython",
    "version": 3
   },
   "file_extension": ".py",
   "mimetype": "text/x-python",
   "name": "python",
   "nbconvert_exporter": "python",
   "pygments_lexer": "ipython3",
   "version": "3.7.8"
  }
 },
 "nbformat": 4,
 "nbformat_minor": 5
}
