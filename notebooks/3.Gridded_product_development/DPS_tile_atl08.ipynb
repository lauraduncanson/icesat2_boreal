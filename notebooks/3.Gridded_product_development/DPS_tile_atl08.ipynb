{
 "cells": [
  {
   "cell_type": "code",
   "execution_count": 1,
   "id": "according-elephant",
   "metadata": {},
   "outputs": [],
   "source": [
    "from maap.maap import MAAP\n",
    "maap = MAAP(maap_host='api.ops.maap-project.org')"
   ]
  },
  {
   "cell_type": "markdown",
   "id": "ranging-saturday",
   "metadata": {},
   "source": [
    "# Launch DPS for tile_atl08.py"
   ]
  },
  {
   "cell_type": "code",
   "execution_count": 2,
   "id": "cathedral-niagara",
   "metadata": {},
   "outputs": [
    {
     "name": "stderr",
     "output_type": "stream",
     "text": [
      "/projects/.local/lib/python3.7/site-packages/geopandas/_compat.py:110: UserWarning: The Shapely GEOS version (3.8.0-CAPI-1.13.1 ) is incompatible with the GEOS version PyGEOS was compiled with (3.10.1-CAPI-1.16.0). Conversions between both will be slow.\n",
      "  shapely_geos_version, geos_capi_version_string\n"
     ]
    },
    {
     "name": "stdout",
     "output_type": "stream",
     "text": [
      "Requirement already satisfied: xmltodict in /opt/conda/lib/python3.7/site-packages (0.13.0)\n",
      "\u001b[33mWARNING: Running pip as the 'root' user can result in broken permissions and conflicting behaviour with the system package manager. It is recommended to use a virtual environment instead: https://pip.pypa.io/warnings/venv\u001b[0m\u001b[33m\n",
      "\u001b[0m\u001b[33mWARNING: You are using pip version 22.0.3; however, version 22.3 is available.\n",
      "You should consider upgrading via the '/opt/conda/bin/python -m pip install --upgrade pip' command.\u001b[0m\u001b[33m\n",
      "\u001b[0mRequirement already satisfied: fsspec in /opt/conda/lib/python3.7/site-packages (2022.10.0)\n",
      "\u001b[33mWARNING: Running pip as the 'root' user can result in broken permissions and conflicting behaviour with the system package manager. It is recommended to use a virtual environment instead: https://pip.pypa.io/warnings/venv\u001b[0m\u001b[33m\n",
      "\u001b[0m\u001b[33mWARNING: You are using pip version 22.0.3; however, version 22.3 is available.\n",
      "You should consider upgrading via the '/opt/conda/bin/python -m pip install --upgrade pip' command.\u001b[0m\u001b[33m\n",
      "\u001b[0mRequirement already satisfied: h5py==3.1.0 in /projects/.local/lib/python3.7/site-packages (from -r /projects/icesat2_boreal/dps/requirements_main.txt (line 3)) (3.1.0)\n",
      "Requirement already satisfied: pandas==1.2.2 in /opt/conda/lib/python3.7/site-packages (from -r /projects/icesat2_boreal/dps/requirements_main.txt (line 4)) (1.2.2)\n",
      "Requirement already satisfied: pygeos==0.12.0 in /opt/conda/lib/python3.7/site-packages (from -r /projects/icesat2_boreal/dps/requirements_main.txt (line 7)) (0.12.0)\n",
      "Requirement already satisfied: rtree==0.9.7 in /projects/.local/lib/python3.7/site-packages (from -r /projects/icesat2_boreal/dps/requirements_main.txt (line 8)) (0.9.7)\n",
      "Requirement already satisfied: numpy==1.21.0 in /projects/.local/lib/python3.7/site-packages (from -r /projects/icesat2_boreal/dps/requirements_main.txt (line 9)) (1.21.0)\n",
      "Requirement already satisfied: geopandas==0.9.0 in /projects/.local/lib/python3.7/site-packages (from -r /projects/icesat2_boreal/dps/requirements_main.txt (line 12)) (0.9.0)\n",
      "Requirement already satisfied: rasterio==1.2.6 in /projects/.local/lib/python3.7/site-packages (from -r /projects/icesat2_boreal/dps/requirements_main.txt (line 13)) (1.2.6)\n",
      "Requirement already satisfied: importlib_resources in /opt/conda/lib/python3.7/site-packages (from -r /projects/icesat2_boreal/dps/requirements_main.txt (line 14)) (5.10.0)\n",
      "Requirement already satisfied: contextily in /opt/conda/lib/python3.7/site-packages (from -r /projects/icesat2_boreal/dps/requirements_main.txt (line 15)) (1.2.0)\n",
      "Requirement already satisfied: fsspec in /opt/conda/lib/python3.7/site-packages (from -r /projects/icesat2_boreal/dps/requirements_main.txt (line 16)) (2022.10.0)\n",
      "Requirement already satisfied: s3fs==0.3.4 in /opt/conda/lib/python3.7/site-packages (from -r /projects/icesat2_boreal/dps/requirements_main.txt (line 17)) (0.3.4)\n",
      "Requirement already satisfied: rio-cogeo==2.3.1 in /projects/.local/lib/python3.7/site-packages (from -r /projects/icesat2_boreal/dps/requirements_main.txt (line 22)) (2.3.1)\n",
      "Requirement already satisfied: rio-tiler==2.1.4 in /opt/conda/lib/python3.7/site-packages (from -r /projects/icesat2_boreal/dps/requirements_main.txt (line 23)) (2.1.4)\n",
      "Requirement already satisfied: morecantile==2.1.4 in /opt/conda/lib/python3.7/site-packages (from -r /projects/icesat2_boreal/dps/requirements_main.txt (line 25)) (2.1.4)\n",
      "Requirement already satisfied: pystac-client in /opt/conda/lib/python3.7/site-packages (from -r /projects/icesat2_boreal/dps/requirements_main.txt (line 26)) (0.5.1)\n",
      "Requirement already satisfied: cachetools in /opt/conda/lib/python3.7/site-packages (from -r /projects/icesat2_boreal/dps/requirements_main.txt (line 48)) (5.2.0)\n",
      "Requirement already satisfied: cached-property in /projects/.local/lib/python3.7/site-packages (from h5py==3.1.0->-r /projects/icesat2_boreal/dps/requirements_main.txt (line 3)) (1.5.2)\n",
      "Requirement already satisfied: python-dateutil>=2.7.3 in /projects/.local/lib/python3.7/site-packages (from pandas==1.2.2->-r /projects/icesat2_boreal/dps/requirements_main.txt (line 4)) (2.8.0)\n",
      "Requirement already satisfied: pytz>=2017.3 in /opt/conda/lib/python3.7/site-packages (from pandas==1.2.2->-r /projects/icesat2_boreal/dps/requirements_main.txt (line 4)) (2021.1)\n",
      "Requirement already satisfied: shapely>=1.6 in /projects/.local/lib/python3.7/site-packages (from geopandas==0.9.0->-r /projects/icesat2_boreal/dps/requirements_main.txt (line 12)) (1.7.1)\n",
      "Requirement already satisfied: pyproj>=2.2.0 in /projects/.local/lib/python3.7/site-packages (from geopandas==0.9.0->-r /projects/icesat2_boreal/dps/requirements_main.txt (line 12)) (3.2.1)\n",
      "Requirement already satisfied: fiona>=1.8 in /projects/.local/lib/python3.7/site-packages (from geopandas==0.9.0->-r /projects/icesat2_boreal/dps/requirements_main.txt (line 12)) (1.8.20)\n",
      "Requirement already satisfied: click>=4.0 in /opt/conda/lib/python3.7/site-packages (from rasterio==1.2.6->-r /projects/icesat2_boreal/dps/requirements_main.txt (line 13)) (8.0.1)\n",
      "Requirement already satisfied: cligj>=0.5 in /projects/.local/lib/python3.7/site-packages (from rasterio==1.2.6->-r /projects/icesat2_boreal/dps/requirements_main.txt (line 13)) (0.7.2)\n",
      "Requirement already satisfied: setuptools in /opt/conda/lib/python3.7/site-packages (from rasterio==1.2.6->-r /projects/icesat2_boreal/dps/requirements_main.txt (line 13)) (41.4.0)\n",
      "Requirement already satisfied: attrs in /opt/conda/lib/python3.7/site-packages (from rasterio==1.2.6->-r /projects/icesat2_boreal/dps/requirements_main.txt (line 13)) (20.3.0)\n",
      "Requirement already satisfied: affine in /projects/.local/lib/python3.7/site-packages (from rasterio==1.2.6->-r /projects/icesat2_boreal/dps/requirements_main.txt (line 13)) (2.3.0)\n",
      "Requirement already satisfied: click-plugins in /projects/.local/lib/python3.7/site-packages (from rasterio==1.2.6->-r /projects/icesat2_boreal/dps/requirements_main.txt (line 13)) (1.1.1)\n",
      "Requirement already satisfied: certifi in /opt/conda/lib/python3.7/site-packages (from rasterio==1.2.6->-r /projects/icesat2_boreal/dps/requirements_main.txt (line 13)) (2021.5.30)\n",
      "Requirement already satisfied: snuggs>=1.4.1 in /projects/.local/lib/python3.7/site-packages (from rasterio==1.2.6->-r /projects/icesat2_boreal/dps/requirements_main.txt (line 13)) (1.4.7)\n",
      "Requirement already satisfied: botocore>=1.12.91 in /opt/conda/lib/python3.7/site-packages/botocore-1.20.72-py3.7.egg (from s3fs==0.3.4->-r /projects/icesat2_boreal/dps/requirements_main.txt (line 17)) (1.20.72)\n",
      "Requirement already satisfied: boto3>=1.9.91 in /opt/conda/lib/python3.7/site-packages/boto3-1.17.72-py3.7.egg (from s3fs==0.3.4->-r /projects/icesat2_boreal/dps/requirements_main.txt (line 17)) (1.17.72)\n",
      "Requirement already satisfied: pydantic in /projects/.local/lib/python3.7/site-packages (from rio-cogeo==2.3.1->-r /projects/icesat2_boreal/dps/requirements_main.txt (line 22)) (1.8.2)\n",
      "Requirement already satisfied: pystac>=0.5.3 in /opt/conda/lib/python3.7/site-packages (from rio-tiler==2.1.4->-r /projects/icesat2_boreal/dps/requirements_main.txt (line 23)) (1.5.0)\n",
      "Requirement already satisfied: rio-color in /projects/.local/lib/python3.7/site-packages (from rio-tiler==2.1.4->-r /projects/icesat2_boreal/dps/requirements_main.txt (line 23)) (1.0.4)\n",
      "Requirement already satisfied: requests in /projects/.local/lib/python3.7/site-packages (from rio-tiler==2.1.4->-r /projects/icesat2_boreal/dps/requirements_main.txt (line 23)) (2.27.1)\n",
      "Requirement already satisfied: numexpr in /projects/.local/lib/python3.7/site-packages (from rio-tiler==2.1.4->-r /projects/icesat2_boreal/dps/requirements_main.txt (line 23)) (2.7.3)\n",
      "Requirement already satisfied: zipp>=3.1.0 in /opt/conda/lib/python3.7/site-packages (from importlib_resources->-r /projects/icesat2_boreal/dps/requirements_main.txt (line 14)) (3.4.1)\n",
      "Requirement already satisfied: matplotlib in /opt/conda/lib/python3.7/site-packages/matplotlib-3.4.2-py3.7-linux-x86_64.egg (from contextily->-r /projects/icesat2_boreal/dps/requirements_main.txt (line 15)) (3.4.2)\n",
      "Requirement already satisfied: geopy in /projects/.local/lib/python3.7/site-packages (from contextily->-r /projects/icesat2_boreal/dps/requirements_main.txt (line 15)) (2.2.0)\n",
      "Requirement already satisfied: xyzservices in /opt/conda/lib/python3.7/site-packages (from contextily->-r /projects/icesat2_boreal/dps/requirements_main.txt (line 15)) (2022.9.0)\n",
      "Requirement already satisfied: pillow in /opt/conda/lib/python3.7/site-packages/Pillow-8.2.0-py3.7-linux-x86_64.egg (from contextily->-r /projects/icesat2_boreal/dps/requirements_main.txt (line 15)) (8.2.0)\n",
      "Requirement already satisfied: joblib in /projects/.local/lib/python3.7/site-packages (from contextily->-r /projects/icesat2_boreal/dps/requirements_main.txt (line 15)) (1.0.1)\n",
      "Requirement already satisfied: mercantile in /projects/.local/lib/python3.7/site-packages (from contextily->-r /projects/icesat2_boreal/dps/requirements_main.txt (line 15)) (1.2.1)\n",
      "Requirement already satisfied: jmespath<1.0.0,>=0.7.1 in /opt/conda/lib/python3.7/site-packages/jmespath-0.10.0-py3.7.egg (from boto3>=1.9.91->s3fs==0.3.4->-r /projects/icesat2_boreal/dps/requirements_main.txt (line 17)) (0.10.0)\n",
      "Requirement already satisfied: s3transfer<0.5.0,>=0.4.0 in /opt/conda/lib/python3.7/site-packages/s3transfer-0.4.2-py3.7.egg (from boto3>=1.9.91->s3fs==0.3.4->-r /projects/icesat2_boreal/dps/requirements_main.txt (line 17)) (0.4.2)\n",
      "Requirement already satisfied: urllib3<1.27,>=1.25.4 in /projects/.local/lib/python3.7/site-packages (from botocore>=1.12.91->s3fs==0.3.4->-r /projects/icesat2_boreal/dps/requirements_main.txt (line 17)) (1.26.7)\n",
      "Requirement already satisfied: importlib-metadata in /opt/conda/lib/python3.7/site-packages (from click>=4.0->rasterio==1.2.6->-r /projects/icesat2_boreal/dps/requirements_main.txt (line 13)) (3.7.3)\n",
      "Requirement already satisfied: munch in /projects/.local/lib/python3.7/site-packages (from fiona>=1.8->geopandas==0.9.0->-r /projects/icesat2_boreal/dps/requirements_main.txt (line 12)) (2.5.0)\n",
      "Requirement already satisfied: six>=1.7 in /opt/conda/lib/python3.7/site-packages (from fiona>=1.8->geopandas==0.9.0->-r /projects/icesat2_boreal/dps/requirements_main.txt (line 12)) (1.12.0)\n",
      "Requirement already satisfied: typing-extensions>=3.7 in /opt/conda/lib/python3.7/site-packages (from pystac>=0.5.3->rio-tiler==2.1.4->-r /projects/icesat2_boreal/dps/requirements_main.txt (line 23)) (3.7.4.3)\n",
      "Requirement already satisfied: idna<4,>=2.5 in /opt/conda/lib/python3.7/site-packages (from requests->rio-tiler==2.1.4->-r /projects/icesat2_boreal/dps/requirements_main.txt (line 23)) (2.8)\n",
      "Requirement already satisfied: charset-normalizer~=2.0.0 in /projects/.local/lib/python3.7/site-packages (from requests->rio-tiler==2.1.4->-r /projects/icesat2_boreal/dps/requirements_main.txt (line 23)) (2.0.10)\n",
      "Requirement already satisfied: pyparsing>=2.1.6 in /opt/conda/lib/python3.7/site-packages (from snuggs>=1.4.1->rasterio==1.2.6->-r /projects/icesat2_boreal/dps/requirements_main.txt (line 13)) (2.4.7)\n",
      "Requirement already satisfied: geographiclib<2,>=1.49 in /projects/.local/lib/python3.7/site-packages (from geopy->contextily->-r /projects/icesat2_boreal/dps/requirements_main.txt (line 15)) (1.52)\n",
      "Requirement already satisfied: cycler>=0.10 in /opt/conda/lib/python3.7/site-packages/cycler-0.10.0-py3.7.egg (from matplotlib->contextily->-r /projects/icesat2_boreal/dps/requirements_main.txt (line 15)) (0.10.0)\n",
      "Requirement already satisfied: kiwisolver>=1.0.1 in /opt/conda/lib/python3.7/site-packages/kiwisolver-1.3.1-py3.7-linux-x86_64.egg (from matplotlib->contextily->-r /projects/icesat2_boreal/dps/requirements_main.txt (line 15)) (1.3.1)\n",
      "Requirement already satisfied: rio-mucho in /projects/.local/lib/python3.7/site-packages (from rio-color->rio-tiler==2.1.4->-r /projects/icesat2_boreal/dps/requirements_main.txt (line 23)) (1.0.0)\n",
      "\u001b[33mWARNING: Running pip as the 'root' user can result in broken permissions and conflicting behaviour with the system package manager. It is recommended to use a virtual environment instead: https://pip.pypa.io/warnings/venv\u001b[0m\u001b[33m\n",
      "\u001b[0m\u001b[33mWARNING: You are using pip version 22.0.3; however, version 22.3 is available.\n",
      "You should consider upgrading via the '/opt/conda/bin/python -m pip install --upgrade pip' command.\u001b[0m\u001b[33m\n",
      "\u001b[0m"
     ]
    }
   ],
   "source": [
    "import os\n",
    "import geopandas\n",
    "import pandas as pd\n",
    "import glob\n",
    "import datetime\n",
    "!pip install xmltodict\n",
    "import xmltodict\n",
    "import sys\n",
    "sys.path.append('/projects/icesat2_boreal/lib')\n",
    "import ExtractUtils\n",
    "!pip install fsspec\n",
    "!pip install -U -r '/projects/icesat2_boreal/dps/requirements_main.txt'"
   ]
  },
  {
   "cell_type": "code",
   "execution_count": 90,
   "id": "commercial-enhancement",
   "metadata": {},
   "outputs": [],
   "source": [
    "DPS_DATA_TYPE = 'ATL08_filt'\n",
    "DPS_ALG_NAME = 'run_tile_atl08_ubuntu'\n",
    "DPS_MONTH = '10'\n",
    "\n",
    "OUT_MASTER_CSV_JSON_DIR = '/projects/my-public-bucket/DPS_tile_lists/fall2022'\n",
    "\n",
    "tindex_master_fn        = os.path.join(OUT_MASTER_CSV_JSON_DIR, f'{DPS_DATA_TYPE}_tindex_master.csv')\n",
    "tile_matches_geojson_fn = os.path.join(OUT_MASTER_CSV_JSON_DIR, f'{DPS_DATA_TYPE}_tindex_master.json')\n",
    "out_mosaic_json_fn      = os.path.join(OUT_MASTER_CSV_JSON_DIR, f'{DPS_DATA_TYPE}_tindex_master_mosaic.json')"
   ]
  },
  {
   "cell_type": "code",
   "execution_count": 91,
   "id": "certified-converter",
   "metadata": {},
   "outputs": [
    {
     "name": "stdout",
     "output_type": "stream",
     "text": [
      "/projects/.local/lib/python3.7/site-packages/geopandas/_compat.py:110: UserWarning: The Shapely GEOS version (3.8.0-CAPI-1.13.1 ) is incompatible with the GEOS version PyGEOS was compiled with (3.10.1-CAPI-1.16.0). Conversions between both will be slow.\n",
      "  shapely_geos_version, geos_capi_version_string\n",
      "\n",
      "Building a list of tiles:\n",
      "MAAP version:\t\ttile_atl08\n",
      "Type:\t\tATL08_filt\n",
      "Year:\t\t2022\n",
      "Month:\t\t['10']\n",
      "Days:\t\t1-31\n",
      "\n",
      "Output dir:  /projects/my-public-bucket/DPS_tile_lists/fall2022\n",
      "                                             s3_path  ...                                               file\n",
      "0  s3://maap-ops-workspace/lduncanson/dps_output/...  ...  atl08_005_30m_filt_topo_landsat_20221025_2490.csv\n",
      "2  s3://maap-ops-workspace/lduncanson/dps_output/...  ...  atl08_005_30m_filt_topo_landsat_20221025_0042.csv\n",
      "\n",
      "[2 rows x 3 columns]\n",
      "\n",
      "No duplicates found.\n",
      "\n",
      "# of duplicate tiles: 0\n",
      "Final # of tiles: 2\n",
      "df shape :                                              s3_path  ...  n_obs\n",
      "2  s3://maap-ops-workspace/lduncanson/dps_output/...  ...   5902\n",
      "0  s3://maap-ops-workspace/lduncanson/dps_output/...  ...  21859\n",
      "\n",
      "[2 rows x 5 columns]\n",
      "Writing tindex master csv: /projects/my-public-bucket/DPS_tile_lists/fall2022/ATL08_filt_tindex_master.csv\n",
      "\n",
      "real\t0m6.242s\n",
      "user\t0m2.594s\n",
      "sys\t0m2.384s\n",
      "CPU times: user 78.8 ms, sys: 24.4 ms, total: 103 ms\n",
      "Wall time: 6.41 s\n"
     ]
    }
   ],
   "source": [
    "%%time\n",
    "!time python /projects/icesat2_boreal/lib/build_tindex_master.py -t ATL08_filt -alg_name $DPS_ALG_NAME -y 2022 --dps_month_list $DPS_MONTH --maap_version tile_atl08 -o $OUT_MASTER_CSV_JSON_DIR"
   ]
  },
  {
   "cell_type": "code",
   "execution_count": 45,
   "id": "accepted-happening",
   "metadata": {},
   "outputs": [
    {
     "name": "stdout",
     "output_type": "stream",
     "text": [
      "CPU times: user 3 µs, sys: 0 ns, total: 3 µs\n",
      "Wall time: 7.63 µs\n",
      "/projects/.local/lib/python3.7/site-packages/geopandas/_compat.py:110: UserWarning: The Shapely GEOS version (3.8.0-CAPI-1.13.1 ) is incompatible with the GEOS version PyGEOS was compiled with (3.10.1-CAPI-1.16.0). Conversions between both will be slow.\n",
      "  shapely_geos_version, geos_capi_version_string\n",
      "\n",
      "Building a list of tiles:\n",
      "MAAP version:\t\tmaster\n",
      "Type:\t\tATL08\n",
      "Year:\t\t2022\n",
      "Month:\t\t['10']\n",
      "Days:\t\t1-31\n",
      "\n",
      "Output dir:  /projects/my-public-bucket/DPS_tile_lists/fall2022/10\n",
      "                                             s3_path  ...                                              file\n",
      "0  s3://maap-ops-workspace/lduncanson/dps_output/...  ...  ATL08_30m_20181024212200_04010105_005_01_30m.csv\n",
      "1  s3://maap-ops-workspace/lduncanson/dps_output/...  ...  ATL08_30m_20181025034435_04050106_005_01_30m.csv\n",
      "2  s3://maap-ops-workspace/lduncanson/dps_output/...  ...  ATL08_30m_20181024100254_03940102_005_01_30m.csv\n",
      "3  s3://maap-ops-workspace/lduncanson/dps_output/...  ...  ATL08_30m_20181024180251_03990103_005_01_30m.csv\n",
      "4  s3://maap-ops-workspace/lduncanson/dps_output/...  ...  ATL08_30m_20181025020453_04040105_005_01_30m.csv\n",
      "\n",
      "[5 rows x 3 columns]\n",
      "/opt/conda/lib/python3.7/site-packages/pandas/core/indexing.py:1597: SettingWithCopyWarning: \n",
      "A value is trying to be set on a copy of a slice from a DataFrame.\n",
      "Try using .loc[row_indexer,col_indexer] = value instead\n",
      "\n",
      "See the caveats in the documentation: https://pandas.pydata.org/pandas-docs/stable/user_guide/indexing.html#returning-a-view-versus-a-copy\n",
      "  self.obj[key] = value\n",
      "/opt/conda/lib/python3.7/site-packages/pandas/core/indexing.py:1720: SettingWithCopyWarning: \n",
      "A value is trying to be set on a copy of a slice from a DataFrame.\n",
      "Try using .loc[row_indexer,col_indexer] = value instead\n",
      "\n",
      "See the caveats in the documentation: https://pandas.pydata.org/pandas-docs/stable/user_guide/indexing.html#returning-a-view-versus-a-copy\n",
      "  self._setitem_single_column(loc, value, pi)\n",
      "# of duplicate tiles: 18\n",
      "Final # of tiles: 44305\n",
      "df shape :                                               s3_path  ... tile_num\n",
      "10  s3://maap-ops-workspace/lduncanson/dps_output/...  ...       NA\n",
      "9   s3://maap-ops-workspace/lduncanson/dps_output/...  ...       NA\n",
      "8   s3://maap-ops-workspace/lduncanson/dps_output/...  ...       NA\n",
      "7   s3://maap-ops-workspace/lduncanson/dps_output/...  ...       NA\n",
      "6   s3://maap-ops-workspace/lduncanson/dps_output/...  ...       NA\n",
      "\n",
      "[5 rows x 4 columns]\n",
      "Writing tindex master csv: /projects/my-public-bucket/DPS_tile_lists/fall2022/10/ATL08_tindex_master.csv\n",
      "\n",
      "real\t19m4.974s\n",
      "user\t2m48.342s\n",
      "sys\t0m10.333s\n"
     ]
    }
   ],
   "source": [
    "# Get index of ATL08 csv from extraction\n",
    "DPS_DATA_TYPE = 'ATL08'\n",
    "DPS_ALG_NAME = 'run_extract_filter_atl08_ubuntu'\n",
    "DPS_RUN = '10'\n",
    "\n",
    "OUT_MASTER_CSV_JSON_DIR = '/projects/my-public-bucket/DPS_tile_lists/fall2022'\n",
    "%time\n",
    "!time python /projects/icesat2_boreal/lib/build_tindex_master.py -t ATL08 -alg_name $DPS_ALG_NAME -y 2022 --dps_month_list $DPS_RUN --maap_version master -o $OUT_MASTER_CSV_JSON_DIR"
   ]
  },
  {
   "cell_type": "markdown",
   "id": "occasional-arrest",
   "metadata": {},
   "source": [
    "#### Set the names of the data frames to create"
   ]
  },
  {
   "cell_type": "code",
   "execution_count": 5,
   "id": "diagnostic-orbit",
   "metadata": {},
   "outputs": [],
   "source": [
    "# Topo and Landsat tindex_master csvs from build_tindex_master.py\n",
    "topo_tindex_fn    = \"/projects/shared-buckets/nathanmthomas/DPS_tile_lists/Topo_tindex_master.csv\"\n",
    "#landsat_tindex_fn = \"/projects/my-public-bucket/DPS_tile_lists/Landsat_tindex_master.csv\"\n",
    "#HLS_tindex_fn     = \"/projects/my-public-bucket/DPS_tile_lists/HLS_tindex_master.csv\"\n",
    "HLS_tindex_fn     = \"/projects/shared-buckets/nathanmthomas/DPS_tile_lists/HLS/fall2022/HLS_stack_2022_v2/HLS_tindex_master.csv\"\n",
    "\n",
    "topo_df = pd.read_csv(topo_tindex_fn)\n",
    "hls_df = pd.read_csv(HLS_tindex_fn)"
   ]
  },
  {
   "cell_type": "code",
   "execution_count": 7,
   "id": "shaped-venezuela",
   "metadata": {},
   "outputs": [
    {
     "data": {
      "text/plain": [
       "'https://s3.console.aws.amazon.com/s3/buckets/maap-ops-workspace/nathanmthomas/dps_output/do_topo_stack_3-1-5_ubuntu/ops/2021/07/23/23/32/27/934649/Copernicus_3457_covars_cog_topo_stack.tif'"
      ]
     },
     "execution_count": 7,
     "metadata": {},
     "output_type": "execute_result"
    }
   ],
   "source": [
    "\n",
    "topo_df = pd.read_csv(topo_tindex_fn)\n",
    "topo_df[topo_df.tile_num == 3457].local_path.tolist()[0].replace('/projects/my-private-bucket', 'https://s3.console.aws.amazon.com/s3/buckets/maap-ops-workspace/nathanmthomas')\n"
   ]
  },
  {
   "cell_type": "markdown",
   "id": "cordless-serum",
   "metadata": {},
   "source": [
    "## Get tile ids for which both Topo and HLS stacks exist\n",
    "* join on tile_num"
   ]
  },
  {
   "cell_type": "code",
   "execution_count": 6,
   "id": "divided-theory",
   "metadata": {},
   "outputs": [
    {
     "name": "stdout",
     "output_type": "stream",
     "text": [
      "Total # tiles ready for tile_atl08.py :\t5185\n"
     ]
    }
   ],
   "source": [
    "#model_ready_tiles_fn = \"s3://maap-ops-workspace/shared/nathanmthomas/DPS_tile_lists/model_ready_tiles.csv\"\n",
    "model_ready_tiles_fn = \"/projects/my-public-bucket/DPS_tile_lists/fall2022/model_ready_tiles.csv\"\n",
    "model_ready_tiles = hls_df[['tile_num','local_path']].join(topo_df[['tile_num','local_path']].set_index('tile_num'), how='inner', on='tile_num',lsuffix='_hls',rsuffix='_topo')\n",
    "model_ready_tiles.to_csv(model_ready_tiles_fn)\n",
    "if False:\n",
    "    # Check some\n",
    "    IDX = 4000\n",
    "    print( model_ready_tiles.local_path_hls.to_list()[IDX])\n",
    "    print( model_ready_tiles.local_path_topo.to_list()[IDX])\n",
    "\n",
    "INPUT_TILE_NUM_LIST = model_ready_tiles.tile_num.to_list()\n",
    "print(f'Total # tiles ready for tile_atl08.py :\\t{len(INPUT_TILE_NUM_LIST)}')\n"
   ]
  },
  {
   "cell_type": "code",
   "execution_count": 3,
   "id": "becoming-memory",
   "metadata": {},
   "outputs": [
    {
     "name": "stdout",
     "output_type": "stream",
     "text": [
      "s3 index path for pandas read: s3://maap-ops-workspace/shared/lduncanson/DPS_tile_lists/fall2022/ATL08_filt_tindex_master.csv\n",
      "                      count\n",
      "tile_group                 \n",
      "alaska extra             20\n",
      "canada extra             49\n",
      "conus extra              98\n",
      "eurasia central        1169\n",
      "eurasia east           1098\n",
      "eurasia north           159\n",
      "eurasia west            612\n",
      "europe north            358\n",
      "fennoscand south         26\n",
      "north america centra    714\n",
      "north america east      494\n",
      "north america west      470\n",
      "uk                       70\n",
      "Tile status report for ATL08_filt from s3://maap-ops-workspace/shared/lduncanson/DPS_tile_lists/fall2022/ATL08_filt_tindex_master.csv:\n",
      "\t# of boreal tiles in boreal v003:\t\t\t5337\n",
      "\t# of boreal tiles in water:\t\t\t\t0\n",
      "\t# of boreal tiles used study (from Topo coverage):\t5337\n",
      "\t# of boreal tiles with ATL08_filt:\t\t\t\t2\n",
      "\t# of boreal tiles still needing ATL08_filt from all:\t5335\n"
     ]
    },
    {
     "data": {
      "image/png": "[encoded data removed]",
      "text/plain": [
       "<Figure size 576x576 with 1 Axes>"
      ]
     },
     "metadata": {
      "needs_background": "light"
     },
     "output_type": "display_data"
    }
   ],
   "source": [
    "TILE_ATL08_TILES_NEEDED = ExtractUtils.GET_TILES_NEEDED(DPS_DATA_TYPE = 'ATL08_filt',  tindex_master_fn = 's3://maap-ops-workspace/shared/lduncanson/DPS_tile_lists/fall2022/ATL08_filt_tindex_master.csv', boreal_tile_index_path = '/projects/my-public-bucket/boreal_tiles_v003.gpkg')"
   ]
  },
  {
   "cell_type": "markdown",
   "id": "experimental-density",
   "metadata": {},
   "source": [
    "#### Model ready tiles needed (red)\n",
    "* model ready tiles have topo and HLS comps"
   ]
  },
  {
   "cell_type": "code",
   "execution_count": 8,
   "id": "patent-sitting",
   "metadata": {},
   "outputs": [
    {
     "name": "stdout",
     "output_type": "stream",
     "text": [
      "5335\n",
      "5183\n"
     ]
    },
    {
     "data": {
      "image/png": "[encoded data removed]",
      "text/plain": [
       "<Figure size 576x576 with 1 Axes>"
      ]
     },
     "metadata": {
      "needs_background": "light"
     },
     "output_type": "display_data"
    }
   ],
   "source": [
    "print(len(TILE_ATL08_TILES_NEEDED))\n",
    "boreal_tile_index_path = '/projects/shared-buckets/nathanmthomas/boreal_tiles_v003_old.gpkg'\n",
    "boreal_tile_index = geopandas.read_file(boreal_tile_index_path)\n",
    "ax=boreal_tile_index.boundary.plot()\n",
    "boreal_tile_index_model_ready = boreal_tile_index[(boreal_tile_index.tile_num.isin(model_ready_tiles.tile_num.to_list())) & \\\n",
    "                                                          (boreal_tile_index.tile_num.isin(TILE_ATL08_TILES_NEEDED)) # & \\\n",
    "                                                          #(boreal_tile_index.to_crs(4326).geometry.bounds.maxy > 45)\n",
    "                                                 ]\n",
    "boreal_tile_index_model_ready.plot(color='red', ax=ax)\n",
    "print(len(boreal_tile_index_model_ready))"
   ]
  },
  {
   "cell_type": "code",
   "execution_count": 9,
   "id": "pacific-coordinator",
   "metadata": {},
   "outputs": [
    {
     "data": {
      "text/plain": [
       "5183"
      ]
     },
     "execution_count": 9,
     "metadata": {},
     "output_type": "execute_result"
    }
   ],
   "source": [
    "INPUT_TILE_NUM_LIST = boreal_tile_index_model_ready.tile_num.to_list()\n",
    "\n",
    "len(INPUT_TILE_NUM_LIST)"
   ]
  },
  {
   "cell_type": "markdown",
   "id": "dental-shopping",
   "metadata": {},
   "source": [
    "##### Test: get a subset of tile ids for test tiles (Norway and others in NA)"
   ]
  },
  {
   "cell_type": "code",
   "execution_count": 10,
   "id": "selected-bibliography",
   "metadata": {},
   "outputs": [],
   "source": [
    "DO_EXPERIMENT = False\n",
    "\n",
    "if DO_EXPERIMENT:\n",
    "    NORWAY_TILE_LIST = pd.read_csv('/projects/shared-buckets/lduncanson/misc_files/norway_tiles.csv').layer.tolist()\n",
    "\n",
    "    DELTA_TILE_LIST = [3365,3366,3367,3458,3459,3460,3353,3354,3355] + [3361, 3362]\n",
    "    BONA_TILE_LIST  = [3270,3271,3272, 3456,3457,  3363,3364,3365] + [3268, 3269]\n",
    "    HEALY_TILE_LIST = [ 3551,3552,3553,3645,3646,3647] + [3648, 3649, 3555, 3554]\n",
    "\n",
    "    #DELTA_TILE_LIST = [3365,3366,3367,3458,3460,3353,3354,3355,3549]\n",
    "    #BONA_TILE_LIST  = [3270,3271,3272,3364,3456,3457,3458,3364,3365]\n",
    "    #HEALY_TILE_LIST = [3456,3457,3458,3551,3552, 3553,3645,3646,3647]\n",
    "    INPUT_EXPERIMENT_TILE_NUM_LIST = NORWAY_TILE_LIST + DELTA_TILE_LIST + BONA_TILE_LIST + HEALY_TILE_LIST\n",
    "    ALASKA_TILE_LIST =  list(range(3268,3272+1))+\\\n",
    "                        list(range(3361,3366+1))+\\\n",
    "                        list(range(3454,3459+1))+\\\n",
    "                        list(range(3549,3555+1))+\\\n",
    "                        list(range(3643,3648+1))\n",
    "\n",
    "    INPUT_EXPERIMENT_TILE_NUM_LIST = NORWAY_TILE_LIST + ALASKA_TILE_LIST\n",
    "    len(INPUT_EXPERIMENT_TILE_NUM_LIST)"
   ]
  },
  {
   "cell_type": "markdown",
   "id": "exciting-breath",
   "metadata": {},
   "source": [
    "#### Read in the latest tindex and compare with a previous set of completed tiles to see which ones still need to be run"
   ]
  },
  {
   "cell_type": "code",
   "execution_count": 11,
   "id": "advisory-conditions",
   "metadata": {},
   "outputs": [],
   "source": [
    "if DO_EXPERIMENT:\n",
    "    import numpy as np\n",
    "    #tindex_master_fn = '/projects/my-private-bucket/dps_output/run_tile_atl08_ubuntu/master/2022/run_no_LC_height_thresholds/ATL08_filt_tindex_master.csv'\n",
    "    NAME_TEST_SUBDIR = 'run_LC_height_thresholds_v2'\n",
    "    tindex_master_DIR = f'/projects/my-private-bucket/dps_output/run_tile_atl08_ubuntu/master/2022/{NAME_TEST_SUBDIR}'\n",
    "    !python /projects/icesat2_boreal/lib/build_tindex_master.py -t ATL08_filt -y 2022 -m $NAME_TEST_SUBDIR -o $tindex_master_DIR\n",
    "\n",
    "    tindex_master_fn = os.path.join(tindex_master_DIR, 'ATL08_filt_tindex_master.csv')\n",
    "    tiles_completed = pd.read_csv(tindex_master_fn)\n",
    "\n",
    "    print(f'Tiles completed: {len(tiles_completed)}')\n",
    "    tile_nums_missing = np.setdiff1d(DPS_INPUT_TILE_NUM_LIST, tiles_completed.tile_num)\n",
    "    print(f'Tiles missing: {len(tile_nums_missing)}')\n",
    "    INPUT_EXPERIMENT_TILE_NUM_LIST = tile_nums_missing.tolist()\n",
    "    print(len(INPUT_EXPERIMENT_TILE_NUM_LIST))"
   ]
  },
  {
   "cell_type": "code",
   "execution_count": 13,
   "id": "ranging-yemen",
   "metadata": {},
   "outputs": [
    {
     "data": {
      "text/plain": [
       "44305"
      ]
     },
     "execution_count": 13,
     "metadata": {},
     "output_type": "execute_result"
    }
   ],
   "source": [
    "tindex_master_fn = '/projects/shared-buckets/lduncanson/DPS_tile_lists/ATL08_tindex_master.csv'\n",
    "tindex_master_fn = '/projects/shared-buckets/lduncanson/DPS_tile_lists/fall2022/ATL08_tindex_master.csv'\n",
    "tiles = pd.read_csv(tindex_master_fn)\n",
    "len(tiles)"
   ]
  },
  {
   "cell_type": "code",
   "execution_count": 14,
   "id": "labeled-grove",
   "metadata": {},
   "outputs": [],
   "source": [
    "if DO_EXPERIMENT:\n",
    "    tiles_completed_no_LC = pd.read_csv('/projects/my-private-bucket/dps_output/run_tile_atl08_ubuntu/master/2022/run_no_LC_height_thresholds/ATL08_filt_tindex_master.csv')\n",
    "    tiles_completed_LC = pd.read_csv('/projects/my-private-bucket/dps_output/run_tile_atl08_ubuntu/master/2022/run_LC_height_thresholds/ATL08_filt_tindex_master.csv')\n",
    "    print(f\"# tiles for no LC:\\t{len(tiles_completed_no_LC)}\")\n",
    "    print(f\"# tiles for LC:\\t\\t{len(tiles_completed_LC)}\")\n",
    "    tile_nums_missing_no_LC = np.setdiff1d(INPUT_TEST_TILE_NUM_LIST, tiles_completed_no_LC.tile_num)\n",
    "    tile_nums_missing_LC = np.setdiff1d(INPUT_TEST_TILE_NUM_LIST, tiles_completed_LC.tile_num)\n",
    "    tile_nums_missing_no_LC = set(INPUT_TEST_TILE_NUM_LIST) - set(tiles_completed_no_LC.tile_num)\n",
    "    tile_nums_missing_LC = set(INPUT_TEST_TILE_NUM_LIST) - set(tiles_completed_LC.tile_num)\n",
    "    print(f\"tiles missing for no LC:\\t{tile_nums_missing_no_LC}\")\n",
    "    print(f\"tiles missing for LC:\\t\\t{tile_nums_missing_LC}\")\n",
    "\n",
    "    #print(f\"tiles for no LC:\\t{tiles_completed_no_LC.tile_num}\")\n",
    "    #print(f\"tiles for LC:\\t\\t{tiles_completed_LC.tile_num}\")\n",
    "\n",
    "    # The missing tiles common to both runs probably wont process b/c they have no ATL08 over land, or no corresponding Landsat or Topo tiles.\n",
    "    # Those missing that are different in each set need to be run\n",
    "    DPS_INPUT_TILE_NUM_LIST_no_LC = list(set(tiles_completed_LC.tile_num) - set(tiles_completed_no_LC.tile_num))\n",
    "    DPS_INPUT_TILE_NUM_LIST_LC = list(set(tiles_completed_no_LC.tile_num) - set(tiles_completed_LC.tile_num))\n",
    "    print(f\"Tiles still needed for no LC run: {DPS_INPUT_TILE_NUM_LIST_no_LC}\")\n",
    "    print(f\"Tiles still needed for LC run: {DPS_INPUT_TILE_NUM_LIST_LC}\")"
   ]
  },
  {
   "cell_type": "code",
   "execution_count": 15,
   "id": "dependent-scheme",
   "metadata": {},
   "outputs": [],
   "source": [
    "if DO_EXPERIMENT:\n",
    "    month_dir_str = 'run_LC_height_thresholds'\n",
    "    index_out_dir = os.path.join('/projects/my-private-bucket/dps_output/run_tile_atl08_ubuntu/master/2022', month_dir_str)\n",
    "    !python /projects/icesat2_boreal/lib/build_tindex_master.py -t ATL08_filt -y 2022 -m $month_dir_str -o $index_out_dir"
   ]
  },
  {
   "cell_type": "code",
   "execution_count": 16,
   "id": "threaded-adoption",
   "metadata": {},
   "outputs": [
    {
     "name": "stdout",
     "output_type": "stream",
     "text": [
      "Running DPS on the FULL list of input\n",
      "List length: 5183\n"
     ]
    }
   ],
   "source": [
    "TEST_DPS  = False\n",
    "\n",
    "if TEST_DPS:\n",
    "    DPS_INPUT_TILE_NUM_LIST = INPUT_TEST_TILE_NUM_LIST\n",
    "    \n",
    "    if True:\n",
    "        #!python /projects/icesat2_boreal/lib/build_tindex_master_v2.py -t ATL08_filt -y 2022 -m $month_dir_str -o $index_out_dir\n",
    "        t = pd.read_csv(os.path.join(index_out_dir,'ATL08_filt_tindex_master.csv'))\n",
    "        COMPLETED_TILES = t.tile_num.to_list()\n",
    "        NEED_TILES = list(set(DPS_INPUT_TILE_NUM_LIST) - set(COMPLETED_TILES))\n",
    "\n",
    "        print(NEED_TILES)\n",
    "        DPS_INPUT_TILE_NUM_LIST = NEED_TILES\n",
    "    \n",
    "else:\n",
    "    if DO_EXPERIMENT:\n",
    "        print('Running DPS on the FULL list of EXPERIMENT input')\n",
    "        DPS_INPUT_TILE_NUM_LIST = INPUT_EXPERIMENT_TILE_NUM_LIST\n",
    "    else:\n",
    "        print('Running DPS on the FULL list of input')\n",
    "        DPS_INPUT_TILE_NUM_LIST = INPUT_TILE_NUM_LIST\n",
    "    \n",
    "print(f\"List length: {len(DPS_INPUT_TILE_NUM_LIST)}\")"
   ]
  },
  {
   "cell_type": "markdown",
   "id": "accurate-region",
   "metadata": {},
   "source": [
    "## Customize the DPS run (choose params, set up the params dictionary)"
   ]
  },
  {
   "cell_type": "code",
   "execution_count": 17,
   "id": "fallen-sally",
   "metadata": {},
   "outputs": [],
   "source": [
    "# Set a default params dict\n",
    "in_param_dict = {\n",
    "                        'in_tile_num': '',\n",
    "                        'in_tile_fn': 'https://maap-ops-workspace.s3.amazonaws.com/shared/nathanmthomas/boreal_tiles_v003.gpkg',\n",
    "                        'in_tile_layer': 'boreal_tiles_v003',\n",
    "                        'csv_list_fn': 's3://maap-ops-workspace/shared/lduncanson/DPS_tile_lists/ATL08_tindex_master.csv',\n",
    "                        'topo_stack_list_fn': 's3://maap-ops-workspace/shared/nathanmthomas/DPS_tile_lists/Topo_tindex_master.csv',\n",
    "                        'landsat_stack_list_fn': 's3://maap-ops-workspace/shared/nathanmthomas/DPS_tile_lists/Landsat_tindex_master.csv',\n",
    "                        'landsat_cols_list': 'Blue Green Red NIR SWIR NDVI SAVI MSAVI NDMI EVI NBR NBR2 TCB TCG TCW ValidMask Xgeo Ygeo', \n",
    "                        'years_list': '2020',\n",
    "                        'user_stacks': 'nathanmthomas',\n",
    "                        'user_atl08': 'lduncanson',\n",
    "                        'thresh_sol_el': 0,\n",
    "                        'v_ATL08': 5,\n",
    "                        'minmonth': 6,\n",
    "                        'maxmonth': 9,\n",
    "                        'LC_filter': False\n",
    "    }\n",
    "\n",
    "# Norway test 01 --> run_no_LC_height_thresholds_v2\n",
    "# Just include sol_el so we can use sol_el < 5\n",
    "in_param_dict_norway01 = in_param_dict\n",
    "in_param_dict_norway01['years_list']    = '2019 2020 2021'\n",
    "in_param_dict_norway01['thresh_sol_el'] = 5\n",
    "in_param_dict_norway01['minmonth']      = 4\n",
    "in_param_dict_norway01['maxmonth']      = 10\n",
    "in_param_dict_norway01['LC_filter']     = False\n",
    "\n",
    "# Norway test 02 --> run_LC_height_thresholds_v2\n",
    "# Use v005 ATL08, which will apply lc-based thresholds, extend to all months\n",
    "# NOTE!! make sure you manually update to use the correct filter in tile_atl08.py\n",
    "in_param_dict_norway02 = in_param_dict\n",
    "in_param_dict_norway02['years_list']    = '2019 2020 2021'\n",
    "in_param_dict_norway02['thresh_sol_el'] = 5\n",
    "in_param_dict_norway02['minmonth']      = 4\n",
    "in_param_dict_norway02['maxmonth']      = 10\n",
    "in_param_dict_norway02['LC_filter']     = True\n",
    "\n",
    "# THIS IS THE FINAL SET FOR SPRING-2022 and SUMMER-2022 versions\n",
    "# Norway test 03 --> run_LC_height_thresholds_HLS\n",
    "# same as test 02, but with HLS composites from 2019 - 2021\n",
    "# NOTE: HLS composites have SWIR2 JulianDate yearDate\n",
    "in_param_dict_norway03 = in_param_dict\n",
    "in_param_dict_norway03['landsat_stack_list_fn'] = 's3://maap-ops-workspace/shared/nathanmthomas/DPS_tile_lists/HLS_tindex_master.csv'\n",
    "in_param_dict_norway03['landsat_cols_list']     = 'Blue Green Red NIR SWIR SWIR2 NDVI SAVI MSAVI NDMI EVI NBR NBR2 TCB TCG TCW ValidMask Xgeo Ygeo JulianDate yearDate'\n",
    "in_param_dict_norway03['years_list']            = '2019 2020 2021'\n",
    "in_param_dict_norway03['thresh_sol_el']         = 5\n",
    "in_param_dict_norway03['minmonth']              = 4\n",
    "in_param_dict_norway03['maxmonth']              = 10\n",
    "in_param_dict_norway03['LC_filter']             = True"
   ]
  },
  {
   "cell_type": "markdown",
   "id": "precious-index",
   "metadata": {},
   "source": [
    "### FaLL 2022 run  \n",
    "update with new HLS comps"
   ]
  },
  {
   "cell_type": "code",
   "execution_count": 19,
   "id": "stable-prediction",
   "metadata": {},
   "outputs": [
    {
     "data": {
      "text/plain": [
       "{'in_tile_num': '',\n",
       " 'in_tile_fn': 'https://maap-ops-workspace.s3.amazonaws.com/shared/nathanmthomas/boreal_tiles_v003.gpkg',\n",
       " 'in_tile_layer': 'boreal_tiles_v003',\n",
       " 'csv_list_fn': 's3://maap-ops-workspace/shared/lduncanson/DPS_tile_lists/ATL08_tindex_master.csv',\n",
       " 'topo_stack_list_fn': 's3://maap-ops-workspace/shared/nathanmthomas/DPS_tile_lists/Topo_tindex_master.csv',\n",
       " 'landsat_stack_list_fn': 's3://maap-ops-workspace/shared/nathanmthomas/DPS_tile_lists/HLS/fall2022/HLS_stack_2022_v2/HLS_tindex_master.csv',\n",
       " 'landsat_cols_list': 'Blue Green Red NIR SWIR SWIR2 NDVI SAVI MSAVI NDMI EVI NBR NBR2 TCB TCG TCW ValidMask Xgeo Ygeo JulianDate yearDate',\n",
       " 'years_list': '2019 2020 2021',\n",
       " 'user_stacks': 'nathanmthomas',\n",
       " 'user_atl08': 'lduncanson',\n",
       " 'thresh_sol_el': 5,\n",
       " 'v_ATL08': 5,\n",
       " 'minmonth': 4,\n",
       " 'maxmonth': 10,\n",
       " 'LC_filter': True}"
      ]
     },
     "execution_count": 19,
     "metadata": {},
     "output_type": "execute_result"
    }
   ],
   "source": [
    "in_param_dict = in_param_dict_norway03\n",
    "in_param_dict.update([('landsat_stack_list_fn', HLS_tindex_fn.replace('/projects/shared-buckets', 's3://maap-ops-workspace/shared'))])\n",
    "in_param_dict"
   ]
  },
  {
   "cell_type": "code",
   "execution_count": 20,
   "id": "alert-vatican",
   "metadata": {},
   "outputs": [
    {
     "data": {
      "text/plain": [
       "5183"
      ]
     },
     "execution_count": 20,
     "metadata": {},
     "output_type": "execute_result"
    }
   ],
   "source": [
    "DPS_INPUT_TILE_NUM_LIST = INPUT_TILE_NUM_LIST #INPUT_TILE_NUM_LIST[0:10] #INPUT_TILE_NUM_LIST[10:]\n",
    "len(DPS_INPUT_TILE_NUM_LIST)"
   ]
  },
  {
   "cell_type": "markdown",
   "id": "divided-passage",
   "metadata": {},
   "source": [
    "## Run a DPS job across the list"
   ]
  },
  {
   "cell_type": "code",
   "execution_count": 21,
   "id": "arbitrary-mainstream",
   "metadata": {},
   "outputs": [],
   "source": [
    "RUN_NAME = 'atl08_with_hls'"
   ]
  },
  {
   "cell_type": "code",
   "execution_count": null,
   "id": "excited-college",
   "metadata": {},
   "outputs": [
    {
     "name": "stdout",
     "output_type": "stream",
     "text": [
      "# of input tiles for DPS: 5183\n",
      "DPS run #: 1\t| tile num: 4\t| submit status: success\t| job id: 976c6b1f-8f2a-43ac-a0cb-4a136b9e5ba5\n",
      "DPS run #: 25\t| tile num: 32\t| submit status: success\t| job id: 4a306360-83c1-4c9d-8b38-62720bceb9f7\n",
      "DPS run #: 50\t| tile num: 60\t| submit status: success\t| job id: e30b6d6c-0279-4aeb-821f-42ebe7b63ed8\n",
      "DPS run #: 100\t| tile num: 112\t| submit status: success\t| job id: 734fc0ce-0025-4bf2-83a6-3584bd653c78\n",
      "DPS run #: 200\t| tile num: 216\t| submit status: success\t| job id: 1798ce8d-0eae-42cd-a19d-9523d6f85847\n",
      "DPS run #: 300\t| tile num: 319\t| submit status: success\t| job id: 89afd857-9095-408d-8dce-f0c4a317563d\n",
      "DPS run #: 400\t| tile num: 428\t| submit status: success\t| job id: ea94cfd0-d663-428d-9e87-006c4ee9cf7a\n",
      "DPS run #: 500\t| tile num: 539\t| submit status: success\t| job id: 81137167-c134-428f-9df1-844382843fa3\n",
      "DPS run #: 750\t| tile num: 795\t| submit status: success\t| job id: 137a3c29-278f-45ae-b98a-0e7fb78ccf09\n",
      "DPS run #: 1000\t| tile num: 1045\t| submit status: success\t| job id: f92a87e7-4380-40e8-b719-3d6b1cd9bf8c\n",
      "DPS run #: 1250\t| tile num: 1295\t| submit status: success\t| job id: 889a1d9b-d187-43bd-8c92-366ab7f4b3c0\n"
     ]
    }
   ],
   "source": [
    "%%time\n",
    "submit_results_df_list = []\n",
    "len_input_list = len(DPS_INPUT_TILE_NUM_LIST)\n",
    "print(f\"# of input tiles for DPS: {len_input_list}\")\n",
    "\n",
    "for i, INPUT_TILE_NUM in enumerate(DPS_INPUT_TILE_NUM_LIST):\n",
    "\n",
    "    DPS_num = i+1\n",
    "    IDENTIFIER = 'run_tile_atl08'\n",
    "    ALGO_ID = f'{IDENTIFIER}_ubuntu'\n",
    "    USER = 'lduncanson'\n",
    "    WORKER_TYPE = 'maap-dps-worker-16gb'\n",
    "    \n",
    "    in_param_dict['in_tile_num'] = INPUT_TILE_NUM\n",
    "    \n",
    "    submit_result = maap.submitJob(\n",
    "            identifier=IDENTIFIER,\n",
    "            algo_id=ALGO_ID,\n",
    "            version='tile_atl08',\n",
    "            username=USER, # username needs to be the same as whoever created the workspace\n",
    "            queue=WORKER_TYPE,\n",
    "            **in_param_dict\n",
    "        )\n",
    "    \n",
    "    # Build a dataframe of submission details\n",
    "    submit_result['dps_num'] = DPS_num\n",
    "    submit_result['tile_num'] = INPUT_TILE_NUM\n",
    "    submit_result['submit_time'] = datetime.datetime.now()\n",
    "    submit_result['dbs_job_hour'] =datetime.datetime.now().hour\n",
    "    submit_result['algo_id'] = ALGO_ID\n",
    "    submit_result['user'] = USER\n",
    "    submit_result['worker_type'] = WORKER_TYPE\n",
    "\n",
    "    # Append to a list of data frames of submission results\n",
    "    submit_results_df_list.append(pd.DataFrame([submit_result]))\n",
    "    \n",
    "    if DPS_num in [1, 25,50, 100,200,300,400,500, 750, 1000, 1250, 1500, 1750, 2000, 2250, 2500, 2750, 3000, 3250, 3500, 3750, 4000, 4250, 5000, 7000, 9000, 11000, 13000, 15000, 17000, 19000, 21000, 24000, len_input_list]:\n",
    "        print(f\"DPS run #: {DPS_num}\\t| tile num: {INPUT_TILE_NUM}\\t| submit status: {submit_result['status']}\\t| job id: {submit_result['job_id']}\") \n",
    "        \n",
    "# Build a final submission results df and save\n",
    "submit_results_df = pd.concat(submit_results_df_list)\n",
    "submit_results_df['run_name'] = RUN_NAME\n",
    "nowtime = pd.Timestamp.now().strftime('%Y%m%d%H%M')\n",
    "print(f\"Current time:\\t{nowtime}\")\n",
    "submit_results_df.to_csv(f'/projects/my-public-bucket/dps_submission_results/DPS_{IDENTIFIER}_submission_results_{len_input_list}_{nowtime}.csv')\n",
    "#submit_results_df"
   ]
  },
  {
   "cell_type": "markdown",
   "id": "funny-victory",
   "metadata": {},
   "source": [
    "After almost any DPS job, you have to assess what succeeded and failed. This involves:\n",
    "1. building a table of job status based on job ids captured in the job_results_df from the DPS run chunk (this takes 40 mins for ~47k jobs) --> this tells you how many jobs failed\n",
    "2. merging the job status table with the job results df --> this tells you which specific granules (or tile nums) failed\n",
    "3. building another input list of granules for a follow-up DPS\n",
    "## Assess DPS results\n",
    "Build a table of job status based on job id - how many jobs failed?"
   ]
  },
  {
   "cell_type": "code",
   "execution_count": 85,
   "id": "regular-female",
   "metadata": {},
   "outputs": [
    {
     "name": "stdout",
     "output_type": "stream",
     "text": [
      "DPS alg:\t\trun_tile_atl08\n",
      "DPS launch time:\t202210251407\n",
      "Count total jobs:\t1\n",
      "Count pending jobs:\t0\n",
      "Count running jobs:\t0\n",
      "Count succeeded jobs:\t1\n",
      "Count failed jobs:\t0\n",
      "% of failed jobs:\tNothing has failed...yet\n",
      "\n",
      "CPU times: user 17 ms, sys: 6.32 ms, total: 23.3 ms\n",
      "Wall time: 262 ms\n"
     ]
    }
   ],
   "source": [
    "%%time\n",
    "LIST_SUBMISSIONS = sorted(glob.glob(f'/projects/my-public-bucket/dps_submission_results/DPS_{IDENTIFIER}_submission_results_*.csv'),key=ExtractUtils.func, reverse=True)\n",
    "for DPS_DATETIME in [nowtime]:\n",
    "    for fn in LIST_SUBMISSIONS:\n",
    "        if DPS_DATETIME in fn and not 'job_status' in fn:\n",
    "            DPS_alg_id = os.path.basename(fn.split('_submission_results_')[0].replace('DPS_',''))\n",
    "            thentime = fn.split('_')[-1].replace('.csv','')\n",
    "            print(f'DPS alg:\\t\\t{DPS_alg_id}')\n",
    "            print(f'DPS launch time:\\t{thentime}')\n",
    "            z = ExtractUtils.BUILD_TABLE_JOBSTATUS(pd.read_csv(fn))\n",
    "            # Save job status table\n",
    "            z.to_csv(f'/projects/my-public-bucket/dps_submission_results/DPS_{IDENTIFIER}_submission_results_job_status_{len(z)}_{thentime}.csv')"
   ]
  },
  {
   "cell_type": "code",
   "execution_count": 86,
   "id": "rolled-alignment",
   "metadata": {},
   "outputs": [
    {
     "name": "stdout",
     "output_type": "stream",
     "text": [
      "[35060, 609, 40239]\n"
     ]
    }
   ],
   "source": [
    "print(z[z['wps:Status'] =='Succeeded'].tile_num.to_list())"
   ]
  },
  {
   "cell_type": "code",
   "execution_count": 87,
   "id": "practical-kernel",
   "metadata": {},
   "outputs": [
    {
     "data": {
      "text/plain": [
       "[26004, 27365]"
      ]
     },
     "execution_count": 87,
     "metadata": {},
     "output_type": "execute_result"
    }
   ],
   "source": [
    "DPS_INPUT_TILE_NUM_LIST = z[z['wps:Status'] =='Failed'].tile_num.to_list()\n",
    "DPS_INPUT_TILE_NUM_LIST"
   ]
  },
  {
   "cell_type": "code",
   "execution_count": 99,
   "id": "original-company",
   "metadata": {},
   "outputs": [
    {
     "data": {
      "text/plain": [
       "OrderedDict([('wps:Result',\n",
       "              OrderedDict([('@xmlns:ows', 'http://www.opengis.net/ows/2.0'),\n",
       "                           ('@xmlns:schemaLocation',\n",
       "                            'http://schemas.opengis.net/wps/2.0/wps.xsd'),\n",
       "                           ('@xmlns:wps', 'http://www.opengis.net/wps/2.0'),\n",
       "                           ('@xmlns:xsi',\n",
       "                            'http://www.w3.org/2001/XMLSchema-instance'),\n",
       "                           ('wps:JobID',\n",
       "                            'b5524f4d-d4b6-4472-93b3-d3496cd30147'),\n",
       "                           ('wps:Output',\n",
       "                            OrderedDict([('@id',\n",
       "                                          'output-2022-04-21T04:15:06.212846'),\n",
       "                                         ('wps:Data',\n",
       "                                          ['http://maap-ops-workspace.s3-website-us-west-2.amazonaws.com/lduncanson/dps_output/run_tile_atl08_ubuntu/tile_atl08/2022/04/21/04/15/06/212846',\n",
       "                                           's3://s3.us-west-2.amazonaws.com:80/maap-ops-workspace/lduncanson/dps_output/run_tile_atl08_ubuntu/tile_atl08/2022/04/21/04/15/06/212846',\n",
       "                                           'https://s3.console.aws.amazon.com/s3/buckets/maap-ops-workspace/lduncanson/dps_output/run_tile_atl08_ubuntu/tile_atl08/2022/04/21/04/15/06/212846/?region=us-east-1&tab=overview'])]))]))])"
      ]
     },
     "execution_count": 99,
     "metadata": {},
     "output_type": "execute_result"
    }
   ],
   "source": [
    "xmltodict.parse(maap.getJobResult(z[z['wps:Status'] =='Succeeded'].iloc[0].job_id).content)"
   ]
  },
  {
   "cell_type": "code",
   "execution_count": 110,
   "id": "british-meaning",
   "metadata": {},
   "outputs": [
    {
     "data": {
      "text/plain": [
       "OrderedDict([('wps:Result',\n",
       "              OrderedDict([('@xmlns:ows', 'http://www.opengis.net/ows/2.0'),\n",
       "                           ('@xmlns:schemaLocation',\n",
       "                            'http://schemas.opengis.net/wps/2.0/wps.xsd'),\n",
       "                           ('@xmlns:wps', 'http://www.opengis.net/wps/2.0'),\n",
       "                           ('@xmlns:xsi',\n",
       "                            'http://www.w3.org/2001/XMLSchema-instance'),\n",
       "                           ('wps:JobID',\n",
       "                            '4daa6c40-429c-4458-a1af-655cc2eebdd4'),\n",
       "                           ('wps:Output',\n",
       "                            OrderedDict([('@id', 'traceback'),\n",
       "                                         ('wps:Data',\n",
       "                                          'activate does not accept more than one argument:\\n[\\'/app/icesat2_boreal/dps/alg_2-4/run_tile_atl08.sh\\', \\'4543\\', \\'boreal_tiles_v003\\', \\'s3://maap-ops-workspace/shared/lduncanson/DPS_tile_lists/ATL08_tindex_master.csv\\', \\'s3://maap-ops-workspace/shared/nathanmthomas/DPS_tile_lists/Topo_tindex_master.csv\\', \\'s3://maap-ops-workspace/shared/nathanmthomas/DPS_tile_lists/HLS_tindex_master.csv\\', \\'Blue Green Red NIR SWIR SWIR2 NDVI SAVI MSAVI NDMI EVI NBR NBR2 TCB TCG TCW ValidMask Xgeo Ygeo JulianDate yearDate\\', \\'2019 2020 2021\\', \\'nathanmthomas\\', \\'lduncanson\\', \\'5\\', \\'5\\', \\'4\\', \\'10\\', \\'True\\']\\n\\n+ /app/icesat2_boreal/dps/alg_2-4/run_tile_atl08.sh 4543 boreal_tiles_v003 s3://maap-ops-workspace/shared/lduncanson/DPS_tile_lists/ATL08_tindex_master.csv s3://maap-ops-workspace/shared/nathanmthomas/DPS_tile_lists/Topo_tindex_master.csv s3://maap-ops-workspace/shared/nathanmthomas/DPS_tile_lists/HLS_tindex_master.csv \\'Blue Green Red NIR SWIR SWIR2 NDVI SAVI MSAVI NDMI EVI NBR NBR2 TCB TCG TCW ValidMask Xgeo Ygeo JulianDate yearDate\\' \\'2019 2020 2021\\' nathanmthomas lduncanson 5 5 4 10 True\\n+++ dirname /app/icesat2_boreal/dps/alg_2-4/run_tile_atl08.sh\\n++ cd /app/icesat2_boreal/dps/alg_2-4\\n++ pwd -P\\n+ basedir=/app/icesat2_boreal/dps/alg_2-4\\n+ unset PROJ_LIB\\n+ mkdir output\\n+ FILENAMELIST=($(ls -d input/*gpkg))\\n++ ls -d input/boreal_tiles_v003.gpkg\\n+ INPUT1=/data/work/jobs/2022/04/21/04/11/job-run_tile_atl08_ubuntu__tile_atl08-20220421T040432.875884Z/input/boreal_tiles_v003.gpkg\\n+ OUTPUTDIR=/data/work/jobs/2022/04/21/04/11/job-run_tile_atl08_ubuntu__tile_atl08-20220421T040432.875884Z/output\\n+ python /app/icesat2_boreal/dps/alg_2-4/../../lib/tile_atl08.py --extract_covars --do_dps --do_30m -o /data/work/jobs/2022/04/21/04/11/job-run_tile_atl08_ubuntu__tile_atl08-20220421T040432.875884Z/output -in_tile_num 4543 -in_tile_fn /data/work/jobs/2022/04/21/04/11/job-run_tile_atl08_ubuntu__tile_atl08-20220421T040432.875884Z/input/boreal_tiles_v003.gpkg -in_tile_layer boreal_tiles_v003 -csv_list_fn s3://maap-ops-workspace/shared/lduncanson/DPS_tile_lists/ATL08_tindex_master.csv -topo_stack_list_fn s3://maap-ops-workspace/shared/nathanmthomas/DPS_tile_lists/Topo_tindex_master.csv -landsat_stack_list_fn s3://maap-ops-workspace/shared/nathanmthomas/DPS_tile_lists/HLS_tindex_master.csv -landsat_cols_list Blue Green Red NIR SWIR SWIR2 NDVI SAVI MSAVI NDMI EVI NBR NBR2 TCB TCG TCW ValidMask Xgeo Ygeo JulianDate yearDate -years_list 2019 2020 2021 -user_stacks nathanmthomas -user_atl08 lduncanson -thresh_sol_el 5 -v_ATL08 5 -minmonth 4 -maxmonth 10 -LC_filter True\\nERROR 1: PROJ: proj_create_from_database: Open of /opt/conda/envs/icesat2_boreal/share/proj failed\\nTraceback (most recent call last):\\n  File \"/opt/conda/envs/icesat2_boreal/lib/python3.10/site-packages/urllib3/connection.py\", line 174, in _new_conn\\n    conn = connection.create_connection(\\n  File \"/opt/conda/envs/icesat2_boreal/lib/python3.10/site-packages/urllib3/util/connection.py\", line 95, in create_connection\\n    raise err\\n  File \"/opt/conda/envs/icesat2_boreal/lib/python3.10/site-packages/urllib3/util/connection.py\", line 85, in create_connection\\n    sock.connect(sa)\\nTimeoutError: [Errno 110] Connection timed out\\n\\nDuring handling of the above exception, another exception occurred:\\n\\nTraceback (most recent call last):\\n  File \"/opt/conda/envs/icesat2_boreal/lib/python3.10/site-packages/urllib3/connectionpool.py\", line 703, in urlopen\\n    httplib_response = self._make_request(\\n  File \"/opt/conda/envs/icesat2_boreal/lib/python3.10/site-packages/urllib3/connectionpool.py\", line 386, in _make_request\\n    self._validate_conn(conn)\\n  File \"/opt/conda/envs/icesat2_boreal/lib/python3.10/site-packages/urllib3/connectionpool.py\", line 1040, in _validate_conn\\n    conn.connect()\\n  File \"/opt/conda/envs/icesat2_boreal/lib/python3.10/site-packages/urllib3/connection.py\", line 358, in connect\\n    self.sock = conn = self._new_conn()\\n  File \"/opt/conda/envs/icesat2_boreal/lib/python3.10/site-packages/urllib3/connection.py\", line 179, in _new_conn\\n    raise ConnectTimeoutError(\\nurllib3.exceptions.ConnectTimeoutError: (<urllib3.connection.HTTPSConnection object at 0x7f51404e65c0>, \\'Connection to api.ops.maap-project.org timed out. (connect timeout=None)\\')\\n\\nDuring handling of the above exception, another exception occurred:\\n\\nTraceback (most recent call last):\\n  File \"/opt/conda/envs/icesat2_boreal/lib/python3.10/site-packages/requests/adapters.py\", line 440, in send\\n    resp = conn.urlopen(\\n  File \"/opt/conda/envs/icesat2_boreal/lib/python3.10/site-packages/urllib3/connectionpool.py\", line 785, in urlopen\\n    retries = retries.increment(\\n  File \"/opt/conda/envs/icesat2_boreal/lib/python3.10/site-packages/urllib3/util/retry.py\", line 592, in increment\\n    raise MaxRetryError(_pool, url, error or ResponseError(cause))\\nurllib3.exceptions.MaxRetryError: HTTPSConnectionPool(host=\\'api.ops.maap-project.org\\', port=443): Max retries exceeded with url: /api/cmr/granules?short_name=ATL08&version=005&bounding_box=143.78267093244824%2C45.44345219816385%2C145.35480705278127%2C46.56236249664874&temporal=2020-04-01T00%3A00%3A00Z%2C2020-10-31T23%3A59%3A59Z&page_num=1&page_size=20 (Caused by ConnectTimeoutError(<urllib3.connection.HTTPSConnection object at 0x7f51404e65c0>, \\'Connection to api.ops.maap-project.org timed out. (connect timeout=None)\\'))\\n\\nDuring handling of the above exception, another exception occurred:\\n\\nTraceback (most recent call last):\\n  File \"/app/icesat2_boreal/dps/alg_2-4/../../lib/tile_atl08.py\", line 392, in <module>\\n    main()\\n  File \"/app/icesat2_boreal/dps/alg_2-4/../../lib/tile_atl08.py\", line 252, in main\\n    all_atl08_for_tile = ExtractUtils.maap_search_get_h5_list(tile_num=in_tile_num, id_col=in_tile_id_col, tile_fn=in_tile_fn, layer=in_tile_layer, DATE_START=date_start, DATE_END=date_end, YEARS=years_list, version=v_ATL08)\\n  File \"/app/icesat2_boreal/lib/ExtractUtils.py\", line 120, in maap_search_get_h5_list\\n    result_chain = itertools.chain.from_iterable([maap.searchGranule(**query) for query in queries])\\n  File \"/app/icesat2_boreal/lib/ExtractUtils.py\", line 120, in <listcomp>\\n    result_chain = itertools.chain.from_iterable([maap.searchGranule(**query) for query in queries])\\n  File \"/home/ops/src/maappy/maap/maap.py\", line 112, in searchGranule\\n    results = self._CMR.get_search_results(url=self._SEARCH_GRANULE_URL, limit=limit, **kwargs)\\n  File \"/home/ops/src/maappy/maap/utils/CMR.py\", line 35, in get_search_results\\n    response = requests.get(\\n  File \"/opt/conda/envs/icesat2_boreal/lib/python3.10/site-packages/requests/api.py\", line 75, in get\\n    return request(\\'get\\', url, params=params, **kwargs)\\n  File \"/opt/conda/envs/icesat2_boreal/lib/python3.10/site-packages/requests/api.py\", line 61, in request\\n    return session.request(method=method, url=url, **kwargs)\\n  File \"/opt/conda/envs/icesat2_boreal/lib/python3.10/site-packages/requests/sessions.py\", line 529, in request\\n    resp = self.send(prep, **send_kwargs)\\n  File \"/opt/conda/envs/icesat2_boreal/lib/python3.10/site-packages/requests/sessions.py\", line 645, in send\\n    r = adapter.send(request, **kwargs)\\n  File \"/opt/conda/envs/icesat2_boreal/lib/python3.10/site-packages/requests/adapters.py\", line 507, in send\\n    raise ConnectTimeout(e, request=request)\\nrequests.exceptions.ConnectTimeout: HTTPSConnectionPool(host=\\'api.ops.maap-project.org\\', port=443): Max retries exceeded with url: /api/cmr/granules?short_name=ATL08&version=005&bounding_box=143.78267093244824%2C45.44345219816385%2C145.35480705278127%2C46.56236249664874&temporal=2020-04-01T00%3A00%3A00Z%2C2020-10-31T23%3A59%3A59Z&page_num=1&page_size=20 (Caused by ConnectTimeoutError(<urllib3.connection.HTTPSConnection object at 0x7f51404e65c0>, \\'Connection to api.ops.maap-project.org timed out. (connect timeout=None)\\'))\\n+ cp _stderr.txt _alt_traceback.txt')]))]))])"
      ]
     },
     "execution_count": 110,
     "metadata": {},
     "output_type": "execute_result"
    }
   ],
   "source": [
    "xmltodict.parse(maap.getJobResult(z[z['wps:Status'] =='Failed'].iloc[20].job_id).content)"
   ]
  },
  {
   "cell_type": "code",
   "execution_count": null,
   "id": "traditional-toolbox",
   "metadata": {},
   "outputs": [],
   "source": [
    "%%time\n",
    "TILE_NUM = 26004 #1392 #NEED_TILES[6]\n",
    "args = f\"\\\n",
    "-LC_filter True \\\n",
    "--extract_covars \\\n",
    "--do_30m \\\n",
    "--do_dps \\\n",
    "-years_list 2019 2020 2021 \\\n",
    "-o /projects/my-public-bucket/atl08_filt_covar_tiles \\\n",
    "-in_tile_num {TILE_NUM} \\\n",
    "-in_tile_fn /projects/shared-buckets/nathanmthomas/boreal_tiles_v003.gpkg \\\n",
    "-in_tile_layer boreal_tiles_v003 \\\n",
    "-in_tile_id_col tile_num \\\n",
    "-csv_list_fn /projects/shared-buckets/lduncanson/DPS_tile_lists/ATL08_tindex_master.csv \\\n",
    "-topo_stack_list_fn /projects/shared-buckets/nathanmthomas/DPS_tile_lists/Topo_tindex_master.csv \\\n",
    "-landsat_stack_list_fn /projects/shared-buckets/nathanmthomas/DPS_tile_lists/HLS_tindex_master.csv \\\n",
    "-user_stacks nathanmthomas \\\n",
    "-user_atl08 lduncanson \\\n",
    "-thresh_sol_el 5 \\\n",
    "-v_ATL08 5 -minmonth 4 -maxmonth 10\"\n",
    "print(args)\n",
    "!python /projects/Developer/icesat2_boreal/lib/tile_atl08.py $args"
   ]
  },
  {
   "cell_type": "code",
   "execution_count": null,
   "id": "innovative-conspiracy",
   "metadata": {},
   "outputs": [],
   "source": []
  }
 ],
 "metadata": {
  "kernelspec": {
   "display_name": "Python 3",
   "language": "python",
   "name": "python3"
  },
  "language_info": {
   "codemirror_mode": {
    "name": "ipython",
    "version": 3
   },
   "file_extension": ".py",
   "mimetype": "text/x-python",
   "name": "python",
   "nbconvert_exporter": "python",
   "pygments_lexer": "ipython3",
   "version": "3.7.4"
  }
 },
 "nbformat": 4,
 "nbformat_minor": 5
}
