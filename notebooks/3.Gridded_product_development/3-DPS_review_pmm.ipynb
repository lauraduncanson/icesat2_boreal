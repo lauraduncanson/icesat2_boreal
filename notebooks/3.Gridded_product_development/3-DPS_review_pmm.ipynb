{
 "cells": [
  {
   "cell_type": "markdown",
   "id": "brave-manufacturer",
   "metadata": {},
   "source": [
    "# Review DPS outputs\n",
    "Make a mosaic of DPS outputs.\n",
    "\n",
    "1. make a list of the DPS output paths with build_tindex.master.py\n",
    "2. Identify duplicate tiles\n",
    "3. Identify matching tiles; merge tindex.master with the original index tile file\n",
    "4. make mosaicjson\n",
    "5. View DPS results"
   ]
  },
  {
   "cell_type": "code",
   "execution_count": 1,
   "id": "annoying-visit",
   "metadata": {},
   "outputs": [
    {
     "name": "stderr",
     "output_type": "stream",
     "text": [
      "/projects/.local/lib/python3.7/site-packages/geopandas/_compat.py:110: UserWarning: The Shapely GEOS version (3.8.0-CAPI-1.13.1 ) is incompatible with the GEOS version PyGEOS was compiled with (3.10.1-CAPI-1.16.0). Conversions between both will be slow.\n",
      "  shapely_geos_version, geos_capi_version_string\n"
     ]
    },
    {
     "name": "stdout",
     "output_type": "stream",
     "text": [
      "Requirement already satisfied: h5py==3.1.0 in /projects/.local/lib/python3.7/site-packages (from -r /projects/Developer/icesat2_boreal/dps/requirements_main.txt (line 3)) (3.1.0)\n",
      "Requirement already satisfied: pandas==1.2.2 in /projects/.local/lib/python3.7/site-packages (from -r /projects/Developer/icesat2_boreal/dps/requirements_main.txt (line 4)) (1.2.2)\n",
      "Requirement already satisfied: pygeos==0.12.0 in /projects/.local/lib/python3.7/site-packages (from -r /projects/Developer/icesat2_boreal/dps/requirements_main.txt (line 7)) (0.12.0)\n",
      "Requirement already satisfied: rtree==0.9.7 in /projects/.local/lib/python3.7/site-packages (from -r /projects/Developer/icesat2_boreal/dps/requirements_main.txt (line 8)) (0.9.7)\n",
      "Requirement already satisfied: numpy==1.21.0 in /projects/.local/lib/python3.7/site-packages (from -r /projects/Developer/icesat2_boreal/dps/requirements_main.txt (line 9)) (1.21.0)\n",
      "Requirement already satisfied: geopandas==0.9.0 in /projects/.local/lib/python3.7/site-packages (from -r /projects/Developer/icesat2_boreal/dps/requirements_main.txt (line 12)) (0.9.0)\n",
      "Requirement already satisfied: rasterio==1.2.6 in /projects/.local/lib/python3.7/site-packages (from -r /projects/Developer/icesat2_boreal/dps/requirements_main.txt (line 13)) (1.2.6)\n",
      "Requirement already satisfied: importlib_resources in /projects/.local/lib/python3.7/site-packages (from -r /projects/Developer/icesat2_boreal/dps/requirements_main.txt (line 14)) (5.4.0)\n",
      "Requirement already satisfied: contextily in /opt/conda/lib/python3.7/site-packages (from -r /projects/Developer/icesat2_boreal/dps/requirements_main.txt (line 15)) (1.2.0)\n",
      "Requirement already satisfied: fsspec in /opt/conda/lib/python3.7/site-packages (from -r /projects/Developer/icesat2_boreal/dps/requirements_main.txt (line 16)) (2022.2.0)\n",
      "Requirement already satisfied: s3fs in /opt/conda/lib/python3.7/site-packages (from -r /projects/Developer/icesat2_boreal/dps/requirements_main.txt (line 17)) (2022.2.0)\n",
      "Requirement already satisfied: rio-cogeo==2.3.1 in /projects/.local/lib/python3.7/site-packages (from -r /projects/Developer/icesat2_boreal/dps/requirements_main.txt (line 22)) (2.3.1)\n",
      "Requirement already satisfied: rio-tiler==2.1.4 in /projects/.local/lib/python3.7/site-packages (from -r /projects/Developer/icesat2_boreal/dps/requirements_main.txt (line 23)) (2.1.4)\n",
      "Requirement already satisfied: morecantile==2.1.4 in /projects/.local/lib/python3.7/site-packages (from -r /projects/Developer/icesat2_boreal/dps/requirements_main.txt (line 25)) (2.1.4)\n",
      "Requirement already satisfied: pystac-client in /projects/.local/lib/python3.7/site-packages (from -r /projects/Developer/icesat2_boreal/dps/requirements_main.txt (line 26)) (0.3.2)\n",
      "Requirement already satisfied: cached-property in /projects/.local/lib/python3.7/site-packages (from h5py==3.1.0->-r /projects/Developer/icesat2_boreal/dps/requirements_main.txt (line 3)) (1.5.2)\n",
      "Requirement already satisfied: python-dateutil>=2.7.3 in /opt/conda/lib/python3.7/site-packages (from pandas==1.2.2->-r /projects/Developer/icesat2_boreal/dps/requirements_main.txt (line 4)) (2.8.2)\n",
      "Requirement already satisfied: pytz>=2017.3 in /opt/conda/lib/python3.7/site-packages (from pandas==1.2.2->-r /projects/Developer/icesat2_boreal/dps/requirements_main.txt (line 4)) (2021.1)\n",
      "Requirement already satisfied: shapely>=1.6 in /projects/.local/lib/python3.7/site-packages (from geopandas==0.9.0->-r /projects/Developer/icesat2_boreal/dps/requirements_main.txt (line 12)) (1.7.1)\n",
      "Requirement already satisfied: fiona>=1.8 in /projects/.local/lib/python3.7/site-packages (from geopandas==0.9.0->-r /projects/Developer/icesat2_boreal/dps/requirements_main.txt (line 12)) (1.8.20)\n",
      "Requirement already satisfied: pyproj>=2.2.0 in /opt/conda/lib/python3.7/site-packages (from geopandas==0.9.0->-r /projects/Developer/icesat2_boreal/dps/requirements_main.txt (line 12)) (2.6.1.post1)\n",
      "Requirement already satisfied: affine in /opt/conda/lib/python3.7/site-packages (from rasterio==1.2.6->-r /projects/Developer/icesat2_boreal/dps/requirements_main.txt (line 13)) (2.3.0)\n",
      "Requirement already satisfied: setuptools in /opt/conda/lib/python3.7/site-packages (from rasterio==1.2.6->-r /projects/Developer/icesat2_boreal/dps/requirements_main.txt (line 13)) (49.6.0.post20201009)\n",
      "Requirement already satisfied: snuggs>=1.4.1 in /opt/conda/lib/python3.7/site-packages (from rasterio==1.2.6->-r /projects/Developer/icesat2_boreal/dps/requirements_main.txt (line 13)) (1.4.7)\n",
      "Requirement already satisfied: click>=4.0 in /opt/conda/lib/python3.7/site-packages (from rasterio==1.2.6->-r /projects/Developer/icesat2_boreal/dps/requirements_main.txt (line 13)) (7.1.2)\n",
      "Requirement already satisfied: attrs in /opt/conda/lib/python3.7/site-packages (from rasterio==1.2.6->-r /projects/Developer/icesat2_boreal/dps/requirements_main.txt (line 13)) (20.2.0)\n",
      "Requirement already satisfied: cligj>=0.5 in /opt/conda/lib/python3.7/site-packages (from rasterio==1.2.6->-r /projects/Developer/icesat2_boreal/dps/requirements_main.txt (line 13)) (0.7.0)\n",
      "Requirement already satisfied: certifi in /opt/conda/lib/python3.7/site-packages (from rasterio==1.2.6->-r /projects/Developer/icesat2_boreal/dps/requirements_main.txt (line 13)) (2021.5.30)\n",
      "Requirement already satisfied: click-plugins in /opt/conda/lib/python3.7/site-packages (from rasterio==1.2.6->-r /projects/Developer/icesat2_boreal/dps/requirements_main.txt (line 13)) (1.1.1)\n",
      "Requirement already satisfied: pydantic in /projects/.local/lib/python3.7/site-packages (from rio-cogeo==2.3.1->-r /projects/Developer/icesat2_boreal/dps/requirements_main.txt (line 22)) (1.8.2)\n",
      "Requirement already satisfied: pystac>=0.5.3 in /projects/.local/lib/python3.7/site-packages (from rio-tiler==2.1.4->-r /projects/Developer/icesat2_boreal/dps/requirements_main.txt (line 23)) (1.2.0)\n",
      "Requirement already satisfied: requests in /projects/.local/lib/python3.7/site-packages (from rio-tiler==2.1.4->-r /projects/Developer/icesat2_boreal/dps/requirements_main.txt (line 23)) (2.27.1)\n",
      "Requirement already satisfied: rio-color in /projects/.local/lib/python3.7/site-packages (from rio-tiler==2.1.4->-r /projects/Developer/icesat2_boreal/dps/requirements_main.txt (line 23)) (1.0.3)\n",
      "Requirement already satisfied: numexpr in /projects/.local/lib/python3.7/site-packages (from rio-tiler==2.1.4->-r /projects/Developer/icesat2_boreal/dps/requirements_main.txt (line 23)) (2.7.3)\n",
      "Requirement already satisfied: boto3 in /opt/conda/lib/python3.7/site-packages (from rio-tiler==2.1.4->-r /projects/Developer/icesat2_boreal/dps/requirements_main.txt (line 23)) (1.20.24)\n",
      "Requirement already satisfied: zipp>=3.1.0 in /opt/conda/lib/python3.7/site-packages (from importlib_resources->-r /projects/Developer/icesat2_boreal/dps/requirements_main.txt (line 14)) (3.6.0)\n",
      "Requirement already satisfied: pillow in /projects/.local/lib/python3.7/site-packages (from contextily->-r /projects/Developer/icesat2_boreal/dps/requirements_main.txt (line 15)) (8.3.2)\n",
      "Requirement already satisfied: matplotlib in /opt/conda/lib/python3.7/site-packages (from contextily->-r /projects/Developer/icesat2_boreal/dps/requirements_main.txt (line 15)) (3.2.2)\n",
      "Requirement already satisfied: xyzservices in /projects/.local/lib/python3.7/site-packages (from contextily->-r /projects/Developer/icesat2_boreal/dps/requirements_main.txt (line 15)) (2022.3.0)\n",
      "Requirement already satisfied: mercantile in /projects/.local/lib/python3.7/site-packages (from contextily->-r /projects/Developer/icesat2_boreal/dps/requirements_main.txt (line 15)) (1.2.1)\n",
      "Requirement already satisfied: geopy in /projects/.local/lib/python3.7/site-packages (from contextily->-r /projects/Developer/icesat2_boreal/dps/requirements_main.txt (line 15)) (2.2.0)\n",
      "Requirement already satisfied: joblib in /projects/.local/lib/python3.7/site-packages (from contextily->-r /projects/Developer/icesat2_boreal/dps/requirements_main.txt (line 15)) (1.0.1)\n",
      "Requirement already satisfied: aiobotocore~=2.1.0 in /opt/conda/lib/python3.7/site-packages (from s3fs->-r /projects/Developer/icesat2_boreal/dps/requirements_main.txt (line 17)) (2.1.2)\n",
      "Requirement already satisfied: aiohttp<=4 in /projects/.local/lib/python3.7/site-packages (from s3fs->-r /projects/Developer/icesat2_boreal/dps/requirements_main.txt (line 17)) (3.7.4.post0)\n",
      "Requirement already satisfied: wrapt>=1.10.10 in /projects/.local/lib/python3.7/site-packages (from aiobotocore~=2.1.0->s3fs->-r /projects/Developer/icesat2_boreal/dps/requirements_main.txt (line 17)) (1.12.1)\n",
      "Requirement already satisfied: botocore<1.23.25,>=1.23.24 in /opt/conda/lib/python3.7/site-packages (from aiobotocore~=2.1.0->s3fs->-r /projects/Developer/icesat2_boreal/dps/requirements_main.txt (line 17)) (1.23.24)\n",
      "Requirement already satisfied: aioitertools>=0.5.1 in /projects/.local/lib/python3.7/site-packages (from aiobotocore~=2.1.0->s3fs->-r /projects/Developer/icesat2_boreal/dps/requirements_main.txt (line 17)) (0.8.0)\n",
      "Requirement already satisfied: chardet<5.0,>=2.0 in /opt/conda/lib/python3.7/site-packages (from aiohttp<=4->s3fs->-r /projects/Developer/icesat2_boreal/dps/requirements_main.txt (line 17)) (3.0.4)\n",
      "Requirement already satisfied: async-timeout<4.0,>=3.0 in /projects/.local/lib/python3.7/site-packages (from aiohttp<=4->s3fs->-r /projects/Developer/icesat2_boreal/dps/requirements_main.txt (line 17)) (3.0.1)\n",
      "Requirement already satisfied: yarl<2.0,>=1.0 in /projects/.local/lib/python3.7/site-packages (from aiohttp<=4->s3fs->-r /projects/Developer/icesat2_boreal/dps/requirements_main.txt (line 17)) (1.6.3)\n",
      "Requirement already satisfied: typing-extensions>=3.6.5 in /opt/conda/lib/python3.7/site-packages (from aiohttp<=4->s3fs->-r /projects/Developer/icesat2_boreal/dps/requirements_main.txt (line 17)) (3.10.0.2)\n",
      "Requirement already satisfied: multidict<7.0,>=4.5 in /projects/.local/lib/python3.7/site-packages (from aiohttp<=4->s3fs->-r /projects/Developer/icesat2_boreal/dps/requirements_main.txt (line 17)) (5.1.0)\n",
      "Requirement already satisfied: six>=1.7 in /opt/conda/lib/python3.7/site-packages (from fiona>=1.8->geopandas==0.9.0->-r /projects/Developer/icesat2_boreal/dps/requirements_main.txt (line 12)) (1.15.0)\n",
      "Requirement already satisfied: munch in /projects/.local/lib/python3.7/site-packages (from fiona>=1.8->geopandas==0.9.0->-r /projects/Developer/icesat2_boreal/dps/requirements_main.txt (line 12)) (2.5.0)\n",
      "Requirement already satisfied: idna<4,>=2.5 in /opt/conda/lib/python3.7/site-packages (from requests->rio-tiler==2.1.4->-r /projects/Developer/icesat2_boreal/dps/requirements_main.txt (line 23)) (2.10)\n",
      "Requirement already satisfied: urllib3<1.27,>=1.21.1 in /opt/conda/lib/python3.7/site-packages (from requests->rio-tiler==2.1.4->-r /projects/Developer/icesat2_boreal/dps/requirements_main.txt (line 23)) (1.25.11)\n",
      "Requirement already satisfied: charset-normalizer~=2.0.0 in /projects/.local/lib/python3.7/site-packages (from requests->rio-tiler==2.1.4->-r /projects/Developer/icesat2_boreal/dps/requirements_main.txt (line 23)) (2.0.12)\n",
      "Requirement already satisfied: pyparsing>=2.1.6 in /opt/conda/lib/python3.7/site-packages (from snuggs>=1.4.1->rasterio==1.2.6->-r /projects/Developer/icesat2_boreal/dps/requirements_main.txt (line 13)) (2.4.7)\n",
      "Requirement already satisfied: jmespath<1.0.0,>=0.7.1 in /opt/conda/lib/python3.7/site-packages/jmespath-0.10.0-py3.7.egg (from boto3->rio-tiler==2.1.4->-r /projects/Developer/icesat2_boreal/dps/requirements_main.txt (line 23)) (0.10.0)\n",
      "Requirement already satisfied: s3transfer<0.6.0,>=0.5.0 in /opt/conda/lib/python3.7/site-packages/s3transfer-0.5.0-py3.7.egg (from boto3->rio-tiler==2.1.4->-r /projects/Developer/icesat2_boreal/dps/requirements_main.txt (line 23)) (0.5.0)\n",
      "Requirement already satisfied: geographiclib<2,>=1.49 in /projects/.local/lib/python3.7/site-packages (from geopy->contextily->-r /projects/Developer/icesat2_boreal/dps/requirements_main.txt (line 15)) (1.52)\n",
      "Requirement already satisfied: kiwisolver>=1.0.1 in /opt/conda/lib/python3.7/site-packages (from matplotlib->contextily->-r /projects/Developer/icesat2_boreal/dps/requirements_main.txt (line 15)) (1.3.1)\n",
      "Requirement already satisfied: cycler>=0.10 in /opt/conda/lib/python3.7/site-packages (from matplotlib->contextily->-r /projects/Developer/icesat2_boreal/dps/requirements_main.txt (line 15)) (0.10.0)\n",
      "Requirement already satisfied: rio-mucho in /projects/.local/lib/python3.7/site-packages (from rio-color->rio-tiler==2.1.4->-r /projects/Developer/icesat2_boreal/dps/requirements_main.txt (line 23)) (1.0.0)\n",
      "\u001b[33mWARNING: Running pip as the 'root' user can result in broken permissions and conflicting behaviour with the system package manager. It is recommended to use a virtual environment instead: https://pip.pypa.io/warnings/venv\u001b[0m\u001b[33m\n",
      "\u001b[0m\u001b[33mWARNING: You are using pip version 22.0.3; however, version 22.0.4 is available.\n",
      "You should consider upgrading via the '/opt/conda/bin/python3.7 -m pip install --upgrade pip' command.\u001b[0m\u001b[33m\n",
      "\u001b[0mRequirement already satisfied: pystac in /projects/.local/lib/python3.7/site-packages (1.2.0)\n",
      "Requirement already satisfied: python-dateutil>=2.7.0 in /opt/conda/lib/python3.7/site-packages (from pystac) (2.8.2)\n",
      "Requirement already satisfied: typing-extensions>=3.7 in /opt/conda/lib/python3.7/site-packages (from pystac) (3.10.0.2)\n",
      "Requirement already satisfied: six>=1.5 in /opt/conda/lib/python3.7/site-packages (from python-dateutil>=2.7.0->pystac) (1.15.0)\n",
      "\u001b[33mWARNING: Running pip as the 'root' user can result in broken permissions and conflicting behaviour with the system package manager. It is recommended to use a virtual environment instead: https://pip.pypa.io/warnings/venv\u001b[0m\u001b[33m\n",
      "\u001b[0m\u001b[33mWARNING: You are using pip version 22.0.3; however, version 22.0.4 is available.\n",
      "You should consider upgrading via the '/opt/conda/bin/python3.7 -m pip install --upgrade pip' command.\u001b[0m\u001b[33m\n",
      "\u001b[0m"
     ]
    }
   ],
   "source": [
    "import geopandas\n",
    "import pandas as pd\n",
    "import os\n",
    "import json\n",
    "import collections\n",
    "import numpy as np\n",
    "import sys\n",
    "sys.path.append('/projects/icesat2_boreal/lib')\n",
    "sys.path.append('/projects/Developer/icesat2_boreal/lib')\n",
    "import maplib_folium\n",
    "def local_to_s3(url, user = 'nathanmthomas', type='public'):\n",
    "    ''' A Function to convert local paths to s3 urls'''\n",
    "    if type is 'public':\n",
    "        replacement_str = f's3://maap-ops-workspace/shared/{user}'\n",
    "    else:\n",
    "        replacement_str = f's3://maap-ops-workspace/{user}'\n",
    "    return url.replace(f'/projects/my-{type}-bucket', replacement_str)\n",
    "\n",
    "!pip install -U -r '/projects/Developer/icesat2_boreal/dps/requirements_main.txt'\n",
    "!pip install pystac"
   ]
  },
  {
   "cell_type": "markdown",
   "id": "straight-arthritis",
   "metadata": {},
   "source": [
    "# Choose a DPS data type; get its tile index master file\n",
    "Get a filename of the master list DPS output tiles returned with _build_tindexmaster.py"
   ]
  },
  {
   "cell_type": "code",
   "execution_count": 2,
   "id": "increased-slave",
   "metadata": {},
   "outputs": [
    {
     "name": "stdout",
     "output_type": "stream",
     "text": [
      "/projects/.local/lib/python3.7/site-packages/geopandas/_compat.py:110: UserWarning: The Shapely GEOS version (3.8.0-CAPI-1.13.1 ) is incompatible with the GEOS version PyGEOS was compiled with (3.10.1-CAPI-1.16.0). Conversions between both will be slow.\n",
      "  shapely_geos_version, geos_capi_version_string\n",
      "\n",
      "Building a list of tiles:\n",
      "MAAP version:\t\tmaster\n",
      "Type:\t\tHLS\n",
      "Year:\t\t2022\n",
      "Month:\t\t03\n",
      "Days:\t\t24-31\n",
      "\n",
      "Output dir:  s3://maap-ops-workspace/nathanmthomas/dps_output/do_HLS_stack_3-1-2_ubuntu/master/2022/03\n",
      "                                             s3_path  ...                                file\n",
      "0  s3://maap-ops-workspace/nathanmthomas/dps_outp...  ...     HLS_7_06-01_09-15_2019_2021.tif\n",
      "1  s3://maap-ops-workspace/nathanmthomas/dps_outp...  ...   HLS_178_06-01_09-15_2019_2021.tif\n",
      "2  s3://maap-ops-workspace/nathanmthomas/dps_outp...  ...   HLS_275_06-01_09-15_2019_2021.tif\n",
      "3  s3://maap-ops-workspace/nathanmthomas/dps_outp...  ...  HLS_3848_06-01_09-15_2019_2021.tif\n",
      "4  s3://maap-ops-workspace/nathanmthomas/dps_outp...  ...     HLS_4_06-01_09-15_2019_2021.tif\n",
      "\n",
      "[5 rows x 3 columns]\n",
      "# of duplicate tiles: 0\n",
      "Final # of tiles: 57\n",
      "df shape :                                              s3_path  ... tile_num\n",
      "0  s3://maap-ops-workspace/nathanmthomas/dps_outp...  ...        7\n",
      "1  s3://maap-ops-workspace/nathanmthomas/dps_outp...  ...      178\n",
      "2  s3://maap-ops-workspace/nathanmthomas/dps_outp...  ...      275\n",
      "3  s3://maap-ops-workspace/nathanmthomas/dps_outp...  ...     3848\n",
      "4  s3://maap-ops-workspace/nathanmthomas/dps_outp...  ...        4\n",
      "\n",
      "[5 rows x 4 columns]\n",
      "Writing tindex master csv: s3://maap-ops-workspace/nathanmthomas/dps_output/do_HLS_stack_3-1-2_ubuntu/master/2022/03/HLS_tindex_master.csv\n"
     ]
    }
   ],
   "source": [
    "DPS_DATA_TYPE = 'HLS' #\"Topo\" \"Landsat\" \"ATL08\" \"ATL08_filt\" \"AGB\"\n",
    "DPS_DATA_USER = 'nathanmthomas' #'nathanmthomas' 'lduncanson'\n",
    "TEST_HLS = True\n",
    "DPS = True\n",
    "\n",
    "if TEST_HLS:\n",
    "    # Run tests on set of NORWAY + AK + MISC or any other tiles of interest in DPS_mscomp nb\n",
    "    # misc tests \n",
    "    #NAME_HLS_TEST = 'test_mc0_3yrs'\n",
    "    #NAME_HLS_TEST = 'test_single_years'\n",
    "    #NAME_HLS_TEST = '03'\n",
    "    #DAY_START_TEST = 24    \n",
    "    \n",
    "    # better tests\n",
    "    NAME_HLS_TEST = 'test_mc10_3yrs'\n",
    "    DAY_START_TEST = 23\n",
    "    NAME_HLS_TEST = '03'#'test_mc40_3yrs'\n",
    "    DAY_START_TEST = 24\n",
    "    \n",
    "    ENDSTR = '.tif'\n",
    "    if DPS:\n",
    "        OUT_MASTER_CSV_JSON_DIR = f's3://maap-ops-workspace/{DPS_DATA_USER}/dps_output/do_HLS_stack_3-1-2_ubuntu/master/2022/{NAME_HLS_TEST}'  #LOCAL_WRITE_DIR = f'/projects/my-private-bucket/dps_output/do_HLS_stack_3-1-2_ubuntu/master/2022/{NAME_HLS_TEST}'\n",
    "        !python /projects/Developer/icesat2_boreal/lib/build_tindex_master.py -t HLS -y 2022 -m $NAME_HLS_TEST -d_min $DAY_START_TEST -o $OUT_MASTER_CSV_JSON_DIR --ends_with_str $ENDSTR\n",
    "    else:\n",
    "        LOCAL_DIR_PART = f'shared/nathanmthomas/test_hls/{NAME_HLS_TEST}'\n",
    "        OUT_MASTER_CSV_JSON_DIR = f'/projects/my-public-bucket/test_hls/{NAME_HLS_TEST}'\n",
    "        !python /projects/Developer/icesat2_boreal/lib/build_tindex_master.py -t HLS --LOCAL_TEST -local_dir $LOCAL_DIR_PART -o $OUT_MASTER_CSV_JSON_DIR --ends_with_str $ENDSTR\n",
    "else:\n",
    "    #OUT_MASTER_CSV_JSON_DIR = f'/projects/shared-buckets/{DPS_DATA_USER}/DPS_tile_lists'\n",
    "    OUT_MASTER_CSV_JSON_DIR = f's3://maap-ops-workspace/shared/{DPS_DATA_USER}/DPS_tile_lists'\n",
    "    #!python /projects/Developer/icesat2_boreal/lib/build_tindex_master.py -t HLS -y 2022 -m 03 -d_min 23\n",
    "\n",
    "tindex_master_fn        = os.path.join(OUT_MASTER_CSV_JSON_DIR, f'{DPS_DATA_TYPE}_tindex_master.csv')\n",
    "tile_matches_geojson_fn = os.path.join(OUT_MASTER_CSV_JSON_DIR, f'{DPS_DATA_TYPE}_tindex_master.json') \n",
    "out_mosaic_json_fn      = os.path.join(OUT_MASTER_CSV_JSON_DIR, f'{DPS_DATA_TYPE}_tindex_master_mosaic.json') \n",
    "    \n",
    "#tindex_master_fn = '/projects/my-private-bucket/dps_output/run_tile_atl08_ubuntu/master/2022/run_LC_height_thresholds/ATL08_filt_tindex_master.csv'\n",
    "\n",
    "#Get other tile index master files\n",
    "ATL08_filt_sample_tindex_master_fn = 's3://maap-ops-workspace/shared/lduncanson/DPS_tile_lists/ATL08_filt_sample_tindex_master.csv'\n",
    "#ATL08_filt_tindex_master_fn       = '/projects/test_dps/ATL08_filt_tindex_master.csv'#'s3://maap-ops-workspace/shared/lduncanson/DPS_tile_lists/ATL08_filt_tindex_master.csv'\n",
    "ATL08_filt_tindex_master_fn        = 's3://maap-ops-workspace/shared/lduncanson/DPS_tile_lists/ATL08_filt_tindex_master.csv'\n",
    "Topo_tindex_master_fn              = '/projects/shared-buckets/nathanmthomas/DPS_tile_lists/Topo_tindex_master.csv'\n",
    "\n",
    "Topo_tindex_master                 =  pd.read_csv(Topo_tindex_master_fn)\n",
    "ATL08_filt_tindex_master           =  pd.read_csv(ATL08_filt_tindex_master_fn)\n",
    "ATL08_filt_sample_tindex_master    =  pd.read_csv(ATL08_filt_sample_tindex_master_fn)\n",
    "\n"
   ]
  },
  {
   "cell_type": "code",
   "execution_count": 3,
   "id": "coated-secretariat",
   "metadata": {},
   "outputs": [
    {
     "name": "stdout",
     "output_type": "stream",
     "text": [
      "python /projects/Developer/icesat2_boreal/lib/build_tindex_master.py -t HLS -y 2022 -m 03 -d_min 24 -o s3://maap-ops-workspace/nathanmthomas/dps_output/do_HLS_stack_3-1-2_ubuntu/master/2022/03 --ends_with_str .tif\n"
     ]
    }
   ],
   "source": [
    "print(f\"python /projects/Developer/icesat2_boreal/lib/build_tindex_master.py -t HLS -y 2022 -m {NAME_HLS_TEST} -d_min {DAY_START_TEST} -o {OUT_MASTER_CSV_JSON_DIR} --ends_with_str {ENDSTR}\")"
   ]
  },
  {
   "cell_type": "code",
   "execution_count": 4,
   "id": "sophisticated-tuner",
   "metadata": {},
   "outputs": [
    {
     "name": "stdout",
     "output_type": "stream",
     "text": [
      "Building master tile index for: HLS\n",
      "python: can't open file '/projects/icesat2_boreal/lib/build_tindex_master_v2.py': [Errno 2] No such file or directory\n"
     ]
    }
   ],
   "source": [
    "UPDATE_TINDEX = False\n",
    "\n",
    "if not os.path.isfile(tindex_master_fn):\n",
    "     UPDATE_TINDEX = True\n",
    "else:\n",
    "    print('Using existing tindex')\n",
    "    print(tindex_master_fn)\n",
    "\n",
    "    \n",
    "if UPDATE_TINDEX:\n",
    "    print(f\"Building master tile index for: {DPS_DATA_TYPE}\")\n",
    "    dps_month = 'run_LC_height_thresholds'\n",
    "    d_min = 1\n",
    "    #os.system(f\"python /projects/icesat2_boreal/lib/build_tindex_master.py --type {DPS_DATA_TYPE} -m {dps_month} -d_min {d_min}\")\n",
    "    !python /projects/icesat2_boreal/lib/build_tindex_master_v2.py --type $DPS_DATA_TYPE -m $dps_month -d_min $d_min\n"
   ]
  },
  {
   "cell_type": "markdown",
   "id": "wanted-sussex",
   "metadata": {},
   "source": [
    "### Get the tiles needed for the data of interest"
   ]
  },
  {
   "cell_type": "code",
   "execution_count": 5,
   "id": "patent-subcommittee",
   "metadata": {},
   "outputs": [
    {
     "name": "stdout",
     "output_type": "stream",
     "text": [
      "# of expected HLS tiles:\t\t\t\t\t\t57\n",
      "# of expected covar (from Topo) tiles:\t\t\t\t\t5072\n",
      "# of HLS tiles needed (compared with ATL08_filt_tindex_master.csv):\t0\n",
      "# of total tiles supposedly needed (from boreal_tiles_v003.gpkg):\t5190\n",
      "[]\n"
     ]
    }
   ],
   "source": [
    "# Build up a dataframe from the list of dps output files\n",
    "tindex_master = pd.read_csv(tindex_master_fn)\n",
    "\n",
    "if DPS_DATA_TYPE == 'Landsat' or DPS_DATA_TYPE == 'HLS' or DPS_DATA_TYPE == 'Topo':\n",
    "    DPS_DATA_USER = 'nathanmthomas'\n",
    "    \n",
    "tindex_master['s3'] = [local_to_s3(local_path, user=DPS_DATA_USER, type = 'private') for local_path in tindex_master['local_path']]\n",
    "print(f\"# of expected {DPS_DATA_TYPE} tiles:\\t\\t\\t\\t\\t\\t{len(tindex_master)}\")\n",
    "\n",
    "# Wherever there is a 90k Topo tile, there should be data...\n",
    "# Get all covar tiles that should account for the set of output we want\n",
    "tiles_covars = pd.read_csv(Topo_tindex_master_fn).tile_num\n",
    "print(f\"# of expected covar (from Topo) tiles:\\t\\t\\t\\t\\t{len(tiles_covars)}\")\n",
    "\n",
    "# Get all boreal tiles\n",
    "boreal_tile_index_path = '/projects/shared-buckets/nathanmthomas/boreal_tiles_v003.gpkg' \n",
    "boreal_tile_index = geopandas.read_file(boreal_tile_index_path)\n",
    "#boreal_tile_index.astype({'layer':'int'})\n",
    "#boreal_tile_index.rename(columns={\"layer\":\"tile_num\"}, inplace=True)\n",
    "boreal_tile_index[\"tile_num\"] = boreal_tile_index[\"tile_num\"].astype(int)\n",
    "\n",
    "bad_tiles = [3540,3634,3728,3823,3916,4004] #Dropping the tiles near antimeridian that reproject poorly.\n",
    "# For some reason, doing this causes 'MosaicJSON.from_features()' to fail...(below)\n",
    "if True:\n",
    "    # Remove bad tiles\n",
    "    boreal_tile_index = boreal_tile_index[~boreal_tile_index['tile_num'].isin(bad_tiles)]\n",
    "    \n",
    "    \n",
    "select_needs = [3360,2994,3190,2840,3012,3014,3017,2932,1261,1263,1264,988,978,794, 380,378,411,821,861,\n",
    "                812,765,764,1308,1302,1469,1406,2495,2883,2965,3321,3509,3510,3327,3335,2976,2906,2907,2894,2814,4253,4293,4403,4440,4408,4372,4477,3986]\n",
    "tile_matches_select_needs = boreal_tile_index.merge(ATL08_filt_tindex_master[ATL08_filt_tindex_master['tile_num'].isin(select_needs)], how='right', on='tile_num')\n",
    "print(f\"# of {DPS_DATA_TYPE} tiles needed (compared with {os.path.basename(ATL08_filt_tindex_master_fn)}):\\t{len(tile_matches_select_needs)}\")\n",
    "\n",
    "print(f\"# of total tiles supposedly needed (from {os.path.basename(boreal_tile_index_path)}):\\t{len(boreal_tile_index)}\")\n",
    "\n",
    "if len(tile_matches_select_needs)<100:\n",
    "    print([t for t in tile_matches_select_needs.tile_num])\n"
   ]
  },
  {
   "cell_type": "markdown",
   "id": "seasonal-watson",
   "metadata": {},
   "source": [
    "### Identify duplicate tiles"
   ]
  },
  {
   "cell_type": "code",
   "execution_count": 6,
   "id": "numerous-special",
   "metadata": {},
   "outputs": [
    {
     "name": "stdout",
     "output_type": "stream",
     "text": [
      "[]\n"
     ]
    }
   ],
   "source": [
    "duplicate_tiles = [item for item, count in collections.Counter(tindex_master[\"tile_num\"]).items() if count > 1]\n",
    "print(duplicate_tiles)"
   ]
  },
  {
   "cell_type": "markdown",
   "id": "skilled-armenia",
   "metadata": {},
   "source": [
    "### Identify completed, missing, failed, & duplicate tiles"
   ]
  },
  {
   "cell_type": "code",
   "execution_count": 7,
   "id": "dependent-concentrate",
   "metadata": {},
   "outputs": [
    {
     "name": "stdout",
     "output_type": "stream",
     "text": [
      "Tile status report for HLS from s3://maap-ops-workspace/nathanmthomas/dps_output/do_HLS_stack_3-1-2_ubuntu/master/2022/03/HLS_tindex_master.csv:\n",
      "\t# tiles matched:\t\t5190\n",
      "\t# tiles missing:\t\t124\n",
      "\t# tiles duplicated: \t\t0\n",
      "Missing tiles:\t[4096, 2, 3, 7, 8, 1547, 15, 529, 530, 22, 2584, 2585, 33, 4134, 44, 569, 66, 1602, 1603, 4163, 4165, 4164, 4171, 4173, 4174, 96, 4198, 4199, 4201, 115, 1658, 4226, 135, 651, 652, 4247, 4248, 4253, 4258, 4269, 4270, 1715, 1716, 695, 696, 4289, 4290, 4291, 4292, 4301, 4309, 740, 4327, 4328, 3824, 4337, 4338, 1781, 4362, 4363, 4364, 4365, 276, 4375, 302, 4400, 4401, 4412, 4413, 4419, 329, 330, 3917, 4437, 4438, 3935, 3936, 3937, 3938, 358, 364, 4471, 4472, 4473, 4481, 389, 4487, 395, 3983, 4504, 4511, 4512, 4515, 420, 4005, 4516, 4517, 4522, 4523, 4524, 4530, 4531, 4532, 4021, 4022, 4539, 4544, 450, 451, 452, 453, 454, 4549, 4550, 4556, 4557, 1490, 4060, 4063, 4064, 4065, 489, 490, 4095]\n",
      "Bad tiles:\t[3540, 3634, 3728, 3823, 3916, 4004]\n"
     ]
    },
    {
     "data": {
      "text/plain": [
       "<matplotlib.axes._subplots.AxesSubplot at 0x7f5d6aa367d0>"
      ]
     },
     "execution_count": 7,
     "metadata": {},
     "output_type": "execute_result"
    },
    {
     "data": {
      "image/png": "[encoded data removed]",
      "text/plain": [
       "<Figure size 432x288 with 1 Axes>"
      ]
     },
     "metadata": {
      "needs_background": "light"
     },
     "output_type": "display_data"
    }
   ],
   "source": [
    "print(f\"Tile status report for {DPS_DATA_TYPE} from {tindex_master_fn}:\")\n",
    "# For the tindex_master, convert it into vector tiles that show the tiles we have\n",
    "# Select the rows we have results for\n",
    "tile_index_matches = boreal_tile_index.merge(tindex_master[~tindex_master['tile_num'].isin(bad_tiles)][['tile_num','s3_path','local_path']], how='left', on='tile_num')\n",
    "#tile_matches_atl08_filt_samples = boreal_tile_index.merge(ATL08_filt_sample_tindex_master[~ATL08_filt_sample_tindex_master['tile_num'].isin(bad_tiles)], how='right', on='tile_num')\n",
    "print(f'\\t# tiles matched:\\t\\t{len(tile_index_matches)}')\n",
    "\n",
    "# Use the Topo tiles (COVAR set) to get the diff of what tiles we have and what we want\n",
    "# MISSING TILES = DIFF(tiles_we_want, tiles_we_have)\n",
    "#tile_nums_missing = np.setdiff1d(tiles_covars, tile_index_matches.tile_num)\n",
    "tile_nums_missing_list = list(set(tiles_covars) - set(tile_index_matches.tile_num))\n",
    "tile_nums_missing_list = list(set(tile_index_matches.tile_num) - set(tiles_covars))\n",
    "# The ATL08 tiles we have may not exactly match the set of COVAR tiles we have\n",
    "# Use the set of ATL08 tiles we have, crossed with the tiles we're missing (based on COVAR set), to get tiles we're missing that we should definitely proces (b/c we have both COVAR and ATL08 tiles for them)\n",
    "#tile_index_missing = boreal_tile_index.merge(boreal_tile_index[boreal_tile_index['tile_num'].isin(tile_nums_missing_list)], how='right', on='tile_num')\n",
    "#tile_index_missing = boreal_tile_index.merge(tindex_master[tindex_master['tile_num'].isin(tile_nums_missing_list)], how='inner', on='tile_num')\n",
    "tile_index_missing = boreal_tile_index[boreal_tile_index['tile_num'].isin(tile_nums_missing_list)]\n",
    "\n",
    "print(f'\\t# tiles missing:\\t\\t{len(tile_index_missing)}')\n",
    "tile_index_missing.to_file(f'/projects/my-public-bucket/DPS_tile_lists/Need_{DPS_DATA_TYPE}_tindex_master.gpkg', driver='GPKG')\n",
    "#print(tile_index_missing.head())\n",
    "\n",
    "# Meh, this doesnt give us fails\n",
    "#tile_matches_failed = boreal_tile_index.merge(Topo_tindex_master[Topo_tindex_master['tile_num'].isin(tile_nums_missing)], how='right', on='tile_num')\n",
    "#print(f'Missing b/c failed: \\t{len(tile_matches_failed)}')\n",
    "\n",
    "# Duplicates are also removed in build_tindex_master\n",
    "tile_matches_duplicates = boreal_tile_index.merge(tiles_covars[tiles_covars.isin(duplicate_tiles)], how='right', on='tile_num')\n",
    "print(f'\\t# tiles duplicated: \\t\\t{len(tile_matches_duplicates)}')\n",
    "\n",
    "# Drop duplicates\n",
    "tile_index_matches = tile_index_matches.drop_duplicates(subset=['tile_num'], keep='last')\n",
    "print(f\"Missing tiles:\\t{tile_nums_missing_list}\")\n",
    "print(f\"Bad tiles:\\t{bad_tiles}\")\n",
    "\n",
    "ax = tile_index_matches.plot(color='black')\n",
    "tile_index_missing.plot(column='tile_group', ax=ax)\n"
   ]
  },
  {
   "cell_type": "code",
   "execution_count": 8,
   "id": "handled-purpose",
   "metadata": {},
   "outputs": [
    {
     "data": {
      "text/html": [
       "<div>\n",
       "<style scoped>\n",
       "    .dataframe tbody tr th:only-of-type {\n",
       "        vertical-align: middle;\n",
       "    }\n",
       "\n",
       "    .dataframe tbody tr th {\n",
       "        vertical-align: top;\n",
       "    }\n",
       "\n",
       "    .dataframe thead th {\n",
       "        text-align: right;\n",
       "    }\n",
       "</style>\n",
       "<table border=\"1\" class=\"dataframe\">\n",
       "  <thead>\n",
       "    <tr style=\"text-align: right;\">\n",
       "      <th></th>\n",
       "      <th>tile_num</th>\n",
       "      <th>tile_version</th>\n",
       "      <th>tile_group</th>\n",
       "      <th>map_version</th>\n",
       "      <th>geometry</th>\n",
       "      <th>s3_path</th>\n",
       "      <th>local_path</th>\n",
       "      <th>s3</th>\n",
       "    </tr>\n",
       "  </thead>\n",
       "  <tbody>\n",
       "    <tr>\n",
       "      <th>3</th>\n",
       "      <td>4</td>\n",
       "      <td>version 1</td>\n",
       "      <td>eurasia west</td>\n",
       "      <td>None</td>\n",
       "      <td>POLYGON ((-2241478.000 9333304.000, -2151478.0...</td>\n",
       "      <td>s3://maap-ops-workspace/nathanmthomas/dps_outp...</td>\n",
       "      <td>/projects/my-private-bucket/dps_output/do_HLS_...</td>\n",
       "      <td>s3://maap-ops-workspace/nathanmthomas/dps_outp...</td>\n",
       "    </tr>\n",
       "    <tr>\n",
       "      <th>6</th>\n",
       "      <td>7</td>\n",
       "      <td>version 1</td>\n",
       "      <td>eurasia west</td>\n",
       "      <td>None</td>\n",
       "      <td>POLYGON ((-1971478.000 9333304.000, -1881478.0...</td>\n",
       "      <td>s3://maap-ops-workspace/nathanmthomas/dps_outp...</td>\n",
       "      <td>/projects/my-private-bucket/dps_output/do_HLS_...</td>\n",
       "      <td>s3://maap-ops-workspace/nathanmthomas/dps_outp...</td>\n",
       "    </tr>\n",
       "    <tr>\n",
       "      <th>11</th>\n",
       "      <td>12</td>\n",
       "      <td>version 1</td>\n",
       "      <td>eurasia west</td>\n",
       "      <td>None</td>\n",
       "      <td>POLYGON ((-2061478.000 9243304.000, -1971478.0...</td>\n",
       "      <td>s3://maap-ops-workspace/nathanmthomas/dps_outp...</td>\n",
       "      <td>/projects/my-private-bucket/dps_output/do_HLS_...</td>\n",
       "      <td>s3://maap-ops-workspace/nathanmthomas/dps_outp...</td>\n",
       "    </tr>\n",
       "    <tr>\n",
       "      <th>13</th>\n",
       "      <td>14</td>\n",
       "      <td>version 1</td>\n",
       "      <td>eurasia west</td>\n",
       "      <td>None</td>\n",
       "      <td>POLYGON ((-1881478.000 9243304.000, -1791478.0...</td>\n",
       "      <td>s3://maap-ops-workspace/nathanmthomas/dps_outp...</td>\n",
       "      <td>/projects/my-private-bucket/dps_output/do_HLS_...</td>\n",
       "      <td>s3://maap-ops-workspace/nathanmthomas/dps_outp...</td>\n",
       "    </tr>\n",
       "    <tr>\n",
       "      <th>16</th>\n",
       "      <td>17</td>\n",
       "      <td>version 1</td>\n",
       "      <td>eurasia west</td>\n",
       "      <td>None</td>\n",
       "      <td>POLYGON ((-2241478.000 9153304.000, -2151478.0...</td>\n",
       "      <td>s3://maap-ops-workspace/nathanmthomas/dps_outp...</td>\n",
       "      <td>/projects/my-private-bucket/dps_output/do_HLS_...</td>\n",
       "      <td>s3://maap-ops-workspace/nathanmthomas/dps_outp...</td>\n",
       "    </tr>\n",
       "  </tbody>\n",
       "</table>\n",
       "</div>"
      ],
      "text/plain": [
       "    tile_num tile_version    tile_group map_version  \\\n",
       "3          4    version 1  eurasia west        None   \n",
       "6          7    version 1  eurasia west        None   \n",
       "11        12    version 1  eurasia west        None   \n",
       "13        14    version 1  eurasia west        None   \n",
       "16        17    version 1  eurasia west        None   \n",
       "\n",
       "                                             geometry  \\\n",
       "3   POLYGON ((-2241478.000 9333304.000, -2151478.0...   \n",
       "6   POLYGON ((-1971478.000 9333304.000, -1881478.0...   \n",
       "11  POLYGON ((-2061478.000 9243304.000, -1971478.0...   \n",
       "13  POLYGON ((-1881478.000 9243304.000, -1791478.0...   \n",
       "16  POLYGON ((-2241478.000 9153304.000, -2151478.0...   \n",
       "\n",
       "                                              s3_path  \\\n",
       "3   s3://maap-ops-workspace/nathanmthomas/dps_outp...   \n",
       "6   s3://maap-ops-workspace/nathanmthomas/dps_outp...   \n",
       "11  s3://maap-ops-workspace/nathanmthomas/dps_outp...   \n",
       "13  s3://maap-ops-workspace/nathanmthomas/dps_outp...   \n",
       "16  s3://maap-ops-workspace/nathanmthomas/dps_outp...   \n",
       "\n",
       "                                           local_path  \\\n",
       "3   /projects/my-private-bucket/dps_output/do_HLS_...   \n",
       "6   /projects/my-private-bucket/dps_output/do_HLS_...   \n",
       "11  /projects/my-private-bucket/dps_output/do_HLS_...   \n",
       "13  /projects/my-private-bucket/dps_output/do_HLS_...   \n",
       "16  /projects/my-private-bucket/dps_output/do_HLS_...   \n",
       "\n",
       "                                                   s3  \n",
       "3   s3://maap-ops-workspace/nathanmthomas/dps_outp...  \n",
       "6   s3://maap-ops-workspace/nathanmthomas/dps_outp...  \n",
       "11  s3://maap-ops-workspace/nathanmthomas/dps_outp...  \n",
       "13  s3://maap-ops-workspace/nathanmthomas/dps_outp...  \n",
       "16  s3://maap-ops-workspace/nathanmthomas/dps_outp...  "
      ]
     },
     "execution_count": 8,
     "metadata": {},
     "output_type": "execute_result"
    }
   ],
   "source": [
    "if 's3_path' in tile_index_matches.columns:\n",
    "    tile_index_matches['s3'] = tile_index_matches['s3_path']\n",
    "    \n",
    "tile_index_matches = tile_index_matches[tile_index_matches['s3'].notna()]\n",
    "tile_index_matches.head()"
   ]
  },
  {
   "cell_type": "markdown",
   "id": "induced-hierarchy",
   "metadata": {},
   "source": [
    "## Build a MosaicJSON"
   ]
  },
  {
   "cell_type": "markdown",
   "id": "biological-security",
   "metadata": {},
   "source": [
    "##### Build tile geojsons needed for mosaic jsons"
   ]
  },
  {
   "cell_type": "code",
   "execution_count": 9,
   "id": "female-kitty",
   "metadata": {},
   "outputs": [],
   "source": [
    "tile_matches_geojson_string = tile_index_matches.to_crs(\"EPSG:4326\").to_json()\n",
    "tile_matches_geojson = json.loads(tile_matches_geojson_string)\n",
    "#Write copy to disk for debug\n",
    "#tile_matches_geojson_fn = f's3://maap-ops-workspace/shared/{DPS_DATA_USER}/DPS_tile_lists/{DPS_DATA_TYPE}_tindex_master.json' \n",
    "tile_index_matches.to_file(tile_matches_geojson_fn, driver='GeoJSON')\n",
    "\n",
    "if len(tile_index_missing) > 0:\n",
    "    tile_index_missing_geojson_string = tile_index_missing.to_crs(\"EPSG:4326\").to_json()\n",
    "    tile_index_missing_geojson = json.loads(tile_index_missing_geojson_string)\n"
   ]
  },
  {
   "cell_type": "code",
   "execution_count": 10,
   "id": "everyday-terrorism",
   "metadata": {},
   "outputs": [
    {
     "name": "stdout",
     "output_type": "stream",
     "text": [
      "Building s3://maap-ops-workspace/nathanmthomas/dps_output/do_HLS_stack_3-1-2_ubuntu/master/2022/03/HLS_tindex_master_mosaic.json\n"
     ]
    }
   ],
   "source": [
    "from typing import Dict\n",
    "\n",
    "from cogeo_mosaic.mosaic import MosaicJSON\n",
    "from cogeo_mosaic.backends import MosaicBackend\n",
    "\n",
    "def get_accessor(feature: Dict):\n",
    "    \"\"\"Return specific feature identifier.\"\"\"\n",
    "    return feature[\"properties\"][\"s3\"]\n",
    "\n",
    "#out_mosaic_json_fn = f's3://maap-ops-workspace/shared/{DPS_DATA_USER}/DPS_tile_lists/{DPS_DATA_TYPE}_tindex_master_mosaic.json' \n",
    "##out_mosaic_json_fn = f's3://maap-ops-workspace/shared/alexdevseed/DPS_tile_lists/{DPS_DATA_TYPE}_tindex_master_mosaic.json' \n",
    "\n",
    "print(f\"Building {out_mosaic_json_fn}\")\n",
    "mosaicdata = MosaicJSON.from_features(tile_matches_geojson.get('features'), minzoom=6, maxzoom=18, accessor=get_accessor)\n",
    "\n",
    "with MosaicBackend(out_mosaic_json_fn, mosaic_def=mosaicdata) as mosaic:\n",
    "    mosaic.write(overwrite=True)"
   ]
  },
  {
   "cell_type": "markdown",
   "id": "generous-pixel",
   "metadata": {},
   "source": [
    "## View the Results with Folium"
   ]
  },
  {
   "cell_type": "code",
   "execution_count": 11,
   "id": "robust-router",
   "metadata": {},
   "outputs": [],
   "source": [
    "from folium import Map, TileLayer, GeoJson, LayerControl, Icon, Marker, features, Figure, CircleMarker\n",
    "from folium import plugins\n",
    "\n",
    "# Setup the mosaic tiling\n",
    "tiler_base = \"https://jqsd6bqdsf.execute-api.us-west-2.amazonaws.com/\" #titiler.maap-project.org\n",
    "tiler_mosaic =  \"\".join([tiler_base, \"mosaicjson/tiles/{z}/{x}/{y}\"])\n",
    "\n",
    "import branca.colormap as cm\n",
    "import matplotlib.cm\n",
    "pal_height_cmap = cm.LinearColormap(colors = ['black','#636363','#fc8d59','#fee08b','#ffffbf','#d9ef8b','#91cf60','#1a9850'], vmin=0, vmax=10)\n",
    "pal_height_cmap.caption = 'Vegetation height from  ATL08 @ 30 m (h_can; rh98)'\n",
    "#pal_height_cmap\n",
    "\n",
    "dem_tiles_index_path = '/projects/shared-buckets/nathanmthomas/dem30m_tiles.geojson'\n",
    "dem_tiles_index = geopandas.read_file(dem_tiles_index_path)\n",
    "dem_tiles_index['tile_num'] = dem_tiles_index.index\n",
    "dem_tiles_index.to_file('/projects/my-public-bucket/dem30m_tiles_v2.geojson')"
   ]
  },
  {
   "cell_type": "code",
   "execution_count": null,
   "id": "answering-mechanics",
   "metadata": {},
   "outputs": [],
   "source": [
    "maplib_folium.MAP_DPS_RESULTS(tiler_mosaic, DPS_DATA_TYPE, boreal_tile_index, tile_index_matches, tile_index_missing, \n",
    "                              mosaic_json_dict = {\n",
    "                                        'agb_mosaic_json_s3_fn': 's3://maap-ops-workspace/shared/lduncanson/DPS_tile_lists/AGB_tindex_master_mosaic.json',\n",
    "                                        'topo_mosaic_json_s3_fn': 's3://maap-ops-workspace/shared/nathanmthomas/DPS_tile_lists/Topo_tindex_master_mosaic.json',\n",
    "                                        'mscomp_mosaic_json_s3_fn': out_mosaic_json_fn #'s3://maap-ops-workspace/shared/nathanmthomas/DPS_tile_lists/HLS_tindex_master_mosaic.json'\n",
    "                                    },\n",
    "                             MS_BANDMAX=.5,\n",
    "                             MS_BANDNUM=4,\n",
    "                             MS_BANDCOLORBAR='hot'\n",
    "                             )"
   ]
  },
  {
   "cell_type": "code",
   "execution_count": null,
   "id": "vulnerable-forth",
   "metadata": {},
   "outputs": [],
   "source": [
    "maplib_folium.MAP_DPS_RESULTS(tiler_mosaic, DPS_DATA_TYPE, dem_tiles_index, tile_index_matches, tile_index_missing, \n",
    "                              mosaic_json_dict = {\n",
    "                                        'agb_mosaic_json_s3_fn': 's3://maap-ops-workspace/shared/lduncanson/DPS_tile_lists/AGB_tindex_master_mosaic.json',\n",
    "                                        'topo_mosaic_json_s3_fn': 's3://maap-ops-workspace/shared/nathanmthomas/DPS_tile_lists/Topo_tindex_master_mosaic.json',\n",
    "                                        'mscomp_mosaic_json_s3_fn': out_mosaic_json_fn #'s3://maap-ops-workspace/shared/nathanmthomas/DPS_tile_lists/HLS_tindex_master_mosaic.json'\n",
    "                                    },\n",
    "                             MS_BANDMAX=1,\n",
    "                             MS_BANDNUM=7,\n",
    "                             MS_BANDCOLORBAR='viridis'\n",
    "                             )"
   ]
  },
  {
   "cell_type": "code",
   "execution_count": null,
   "id": "assisted-prophet",
   "metadata": {},
   "outputs": [],
   "source": [
    "maplib_folium.map_tile_n_obs(tindex_master_fn='s3://maap-ops-workspace/shared/lduncanson/DPS_tile_lists/ATL08_filt_tindex_master.csv', \n",
    "                   map_name = '# of filtered ATL08 obs. from night & day', max_n_obs=15000)"
   ]
  },
  {
   "cell_type": "code",
   "execution_count": null,
   "id": "democratic-thomas",
   "metadata": {},
   "outputs": [],
   "source": [
    "maplib_folium.map_tile_n_obs(tindex_master_fn='s3://maap-ops-workspace/shared/lduncanson/DPS_tile_lists/ATL08_filt_sample_tindex_master.csv', \n",
    "                   map_name = '# of samples of filtered ATL08 obs. from night', max_n_obs=250)"
   ]
  },
  {
   "cell_type": "code",
   "execution_count": null,
   "id": "dying-interstate",
   "metadata": {},
   "outputs": [],
   "source": []
  },
  {
   "cell_type": "code",
   "execution_count": null,
   "id": "specified-aruba",
   "metadata": {},
   "outputs": [],
   "source": [
    "maplib_folium.map_tile_atl08(2804, DO_NIGHT=True)"
   ]
  }
 ],
 "metadata": {
  "kernelspec": {
   "display_name": "Python 3",
   "language": "python",
   "name": "python3"
  },
  "language_info": {
   "codemirror_mode": {
    "name": "ipython",
    "version": 3
   },
   "file_extension": ".py",
   "mimetype": "text/x-python",
   "name": "python",
   "nbconvert_exporter": "python",
   "pygments_lexer": "ipython3",
   "version": "3.7.4"
  }
 },
 "nbformat": 4,
 "nbformat_minor": 5
}
