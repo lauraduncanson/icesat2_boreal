{
 "cells": [
  {
   "cell_type": "markdown",
   "metadata": {},
   "source": [
    "# Identify Landsat Scenes for Covariate\n",
    "\n",
    "Using the USGS STAC based sat-api, query Landsat 8 scences for a given aoi (analysis tile), over time window of interest, with additional quality filters. Save the resulting query to a geojson catalog file for use in the next step Greenest Pixel Compositing."
   ]
  },
  {
   "cell_type": "code",
   "execution_count": 1,
   "metadata": {},
   "outputs": [
    {
     "name": "stderr",
     "output_type": "stream",
     "text": [
      "/opt/conda/lib/python3.7/site-packages/geopandas/_compat.py:110: UserWarning: The Shapely GEOS version (3.8.0-CAPI-1.13.1 ) is incompatible with the GEOS version PyGEOS was compiled with (3.8.1-CAPI-1.13.3). Conversions between both will be slow.\n",
      "  shapely_geos_version, geos_capi_version_string\n"
     ]
    }
   ],
   "source": [
    "import os\n",
    "import json\n",
    "import requests\n",
    "import datetime\n",
    "\n",
    "from CovariateUtils import get_index_tile"
   ]
  },
  {
   "cell_type": "code",
   "execution_count": 20,
   "metadata": {},
   "outputs": [],
   "source": [
    "# Search for imagery\n",
    "# https://github.com/developmentseed/example-jupyter-notebooks/blob/landsat-search/notebooks/Landsat8-Search/L8-USGS-satapi.ipynb\n",
    "\n",
    "\n",
    "sat_api_url = \"https://landsatlook.usgs.gov/sat-api\"\n",
    "\n",
    "def query_satapi(query):\n",
    "    headers = {\n",
    "            \"Content-Type\": \"application/json\",\n",
    "            \"Accept-Encoding\": \"gzip\",\n",
    "            \"Accept\": \"application/geo+json\",\n",
    "        }\n",
    "\n",
    "    url = f\"{sat_api_url}/stac/search\"\n",
    "    data = requests.post(url, headers=headers, json=query).json()\n",
    "    \n",
    "    return data\n",
    "\n",
    "def query_year(year, bbox, min_cloud, max_cloud):\n",
    "    '''Given the year, finds the number of scenes matching the query and returns it.'''\n",
    "    date_min = '-'.join([str(year), \"06-01\"])\n",
    "    date_max = '-'.join([str(year), \"09-15\"])\n",
    "    start_date = datetime.datetime.strptime(date_min, \"%Y-%m-%d\")\n",
    "    end_date = datetime.datetime.strptime(date_max, \"%Y-%m-%d\") \n",
    "    start = start_date.strftime(\"%Y-%m-%dT00:00:00Z\")\n",
    "    end = end_date.strftime(\"%Y-%m-%dT23:59:59Z\")\n",
    "    \n",
    "    query = {\n",
    "    \"time\": f\"{start}/{end}\",\n",
    "    \"bbox\":bbox,\n",
    "    \"query\": {\n",
    "        \"collections\": [\"landsat-c2l2-sr\"],\n",
    "        \"platform\": {\"in\": [\"LANDSAT_8\"]},\n",
    "        \"eo:cloud_cover\": {\"gte\": min_cloud, \"lt\": max_cloud},\n",
    "        \"landsat:collection_category\":{\"in\": [\"T1\"]}\n",
    "    },\n",
    "    \"limit\": 20 # We limit to 500 items per Page (requests) to make sure sat-api doesn't fail to return big features collection\n",
    "    }\n",
    "    \n",
    "    data = query_satapi(query)\n",
    "    \n",
    "    # you can't trouble shoot if you don't return the actual results\n",
    "    return data"
   ]
  },
  {
   "cell_type": "code",
   "execution_count": 3,
   "metadata": {},
   "outputs": [],
   "source": [
    "geojson_path_albers = \"/projects/maap-users/alexdevseed/boreal_tiles.gpkg\"\n",
    "layer = \"boreal_tiles_albers\"\n",
    "tile_n = 30543\n",
    "\n",
    "tile_id = get_index_tile(geojson_path_albers, tile_n, buffer=0, layer = layer)"
   ]
  },
  {
   "cell_type": "code",
   "execution_count": 21,
   "metadata": {
    "tags": []
   },
   "outputs": [
    {
     "name": "stdout",
     "output_type": "stream",
     "text": [
      "[4, 8, 12, 7, 4, 7]\n"
     ]
    }
   ],
   "source": [
    "# Accessing imagery\n",
    "# Select an area of interest\n",
    "#bbox_list = [[-105,45,-100,50], [-101,45,-100,46]] # Not Boreal Enough\n",
    "bbox_list = [tile_id['bbox_4326']]\n",
    "min_cloud = 0\n",
    "max_cloud = 20\n",
    "years = range(2015,2020 + 1)\n",
    "for bbox in bbox_list:\n",
    "    # Geojson of total scenes - Change to list of scenes\n",
    "    response_by_year = [query_year(year, bbox, min_cloud, max_cloud ) for year in years]\n",
    "    scene_totals = [each['meta']['found'] for each in response_by_year]\n",
    "    print(scene_totals)"
   ]
  },
  {
   "cell_type": "code",
   "execution_count": 6,
   "metadata": {},
   "outputs": [],
   "source": [
    "# Take the search over several years, write the geojson response for each\n",
    "## TODO: need unique catalog names that indicate bbox tile, and time range used.\n",
    "save_path = '/projects/maap-users/alexdevseed/landsat8/sample2'\n",
    "if (not os.path.isdir(save_path)): os.mkdir(save_path)\n",
    "catalogs = []\n",
    "for yr in range(0,len(years)):\n",
    "    catalog = os.path.join(save_path, f'response-{tile_n}-{years[yr]}.json')\n",
    "    with open(catalog, 'w') as jsonfile:\n",
    "        json.dump(response_by_year[yr], jsonfile)\n",
    "        catalogs.append(catalog)"
   ]
  },
  {
   "cell_type": "code",
   "execution_count": 55,
   "metadata": {},
   "outputs": [],
   "source": [
    "import boto3\n",
    "def get_json(s3path, output_dir):\n",
    "    '''\n",
    "    Download a json from S3 to the output directory\n",
    "    '''\n",
    "    aws_session = boto3.session.Session()\n",
    "    s3 = aws_session.resource('s3')\n",
    "    output_file = os.path.join(output_dir, os.path.basename(s3path))\n",
    "    #TODO split the bucket name from the s3 path\n",
    "    bucket_name = s3path.split(\"/\")[2]\n",
    "    s3_key = \"/\".join(samples3.split(\"/\")[3:])\n",
    "    s3.Bucket(bucket_name).download_file(s3_key, output_file)\n",
    "    \n",
    "    with open(output_file) as f:\n",
    "        catalog = json.load(f) \n",
    "    return catalog\n",
    "\n",
    "samplehttp = \"https://maap-ops-dataset.s3.amazonaws.com/maap-users/alexdevseed/landsat8/sample2/locals3-30543-2018.json\"\n",
    "samples3 = '\"s3://maap-ops-dataset/maap-users/alexdevseed/landsat8/sample2/locals3-30543-2018.json'\n",
    "test = get_json(samples3, '/projects/tmp')"
   ]
  },
  {
   "cell_type": "code",
   "execution_count": 57,
   "metadata": {},
   "outputs": [
    {
     "data": {
      "text/plain": [
       "7"
      ]
     },
     "execution_count": 57,
     "metadata": {},
     "output_type": "execute_result"
    }
   ],
   "source": []
  },
  {
   "cell_type": "markdown",
   "metadata": {},
   "source": [
    "### Exploring Results as Spatial layer\n",
    "\n",
    "The return from the api is a valid geojson per page. You can directly plot this on a map (e.g. folium). Below is an expirement to convert to geopandas, however only the 'properties' key is maintained as an attribute, which isn't going to work since we also need the 'assests'. TODO: Need to flatten the json before loading to geopandas."
   ]
  },
  {
   "cell_type": "code",
   "execution_count": 7,
   "metadata": {},
   "outputs": [
    {
     "name": "stdout",
     "output_type": "stream",
     "text": [
      "\u001b[33mWARNING: You are using pip version 21.0; however, version 21.0.1 is available.\n",
      "You should consider upgrading via the '/opt/conda/bin/python -m pip install --upgrade pip' command.\u001b[0m\n",
      "Note: you may need to restart the kernel to use updated packages.\n",
      "\u001b[33mWARNING: You are using pip version 21.0; however, version 21.0.1 is available.\n",
      "You should consider upgrading via the '/opt/conda/bin/python -m pip install --upgrade pip' command.\u001b[0m\n",
      "Note: you may need to restart the kernel to use updated packages.\n",
      "\u001b[33mWARNING: You are using pip version 21.0; however, version 21.0.1 is available.\n",
      "You should consider upgrading via the '/opt/conda/bin/python -m pip install --upgrade pip' command.\u001b[0m\n",
      "Note: you may need to restart the kernel to use updated packages.\n"
     ]
    }
   ],
   "source": [
    "## TODO: change to conda install -c conda-forge\n",
    "%pip install -q folium\n",
    "%pip install -q geopandas\n",
    "%pip install -q shapely"
   ]
  },
  {
   "cell_type": "code",
   "execution_count": 6,
   "metadata": {},
   "outputs": [
    {
     "name": "stderr",
     "output_type": "stream",
     "text": [
      "/opt/conda/lib/python3.7/site-packages/geopandas/_compat.py:88: UserWarning: The Shapely GEOS version (3.8.0-CAPI-1.13.1 ) is incompatible with the GEOS version PyGEOS was compiled with (3.9.0-CAPI-1.16.2). Conversions between both will be slow.\n",
      "  shapely_geos_version, geos_capi_version_string\n"
     ]
    }
   ],
   "source": [
    "import geopandas as gpd\n",
    "import folium\n",
    "import shapely as shp"
   ]
  },
  {
   "cell_type": "code",
   "execution_count": 69,
   "metadata": {},
   "outputs": [],
   "source": [
    "# Silly but it's easier to write the json to file and read back in right now to get a valid geopandas frame.\n",
    "# Dilemna reading geojson with geopandas only pull the \"properties\" in as attributes\n",
    "#with open(f'response-{yr}.json', 'w') as jsonfile:\n",
    "#    json.dump(response, jsonfile)\n",
    "\n",
    "#scenes_poly1 = gpd.read_file('response.json')\n",
    "#scenes_poly1.head()"
   ]
  },
  {
   "cell_type": "code",
   "execution_count": 25,
   "metadata": {},
   "outputs": [
    {
     "name": "stdout",
     "output_type": "stream",
     "text": [
      "geometry\n",
      "collection\n",
      "eo:gsd\n",
      "eo:platform\n",
      "eo:off_nadir\n",
      "datetime\n",
      "eo:cloud_cover\n",
      "eo:sun_azimuth\n",
      "eo:sun_elevation\n",
      "eo:instrument\n",
      "landsat:cloud_cover_land\n",
      "landsat:wrs_type\n",
      "landsat:wrs_path\n",
      "landsat:wrs_row\n",
      "landsat:scene_id\n",
      "landsat:collection_category\n",
      "landsat:collection_number\n",
      "eo:bands\n"
     ]
    },
    {
     "data": {
      "text/html": [
       "<div>\n",
       "<style scoped>\n",
       "    .dataframe tbody tr th:only-of-type {\n",
       "        vertical-align: middle;\n",
       "    }\n",
       "\n",
       "    .dataframe tbody tr th {\n",
       "        vertical-align: top;\n",
       "    }\n",
       "\n",
       "    .dataframe thead th {\n",
       "        text-align: right;\n",
       "    }\n",
       "</style>\n",
       "<table border=\"1\" class=\"dataframe\">\n",
       "  <thead>\n",
       "    <tr style=\"text-align: right;\">\n",
       "      <th></th>\n",
       "      <th>geometry</th>\n",
       "      <th>collection</th>\n",
       "      <th>eo:gsd</th>\n",
       "      <th>eo:platform</th>\n",
       "      <th>eo:off_nadir</th>\n",
       "      <th>datetime</th>\n",
       "      <th>eo:cloud_cover</th>\n",
       "      <th>eo:sun_azimuth</th>\n",
       "      <th>eo:sun_elevation</th>\n",
       "      <th>eo:instrument</th>\n",
       "      <th>landsat:cloud_cover_land</th>\n",
       "      <th>landsat:wrs_type</th>\n",
       "      <th>landsat:wrs_path</th>\n",
       "      <th>landsat:wrs_row</th>\n",
       "      <th>landsat:scene_id</th>\n",
       "      <th>landsat:collection_category</th>\n",
       "      <th>landsat:collection_number</th>\n",
       "      <th>eo:bands</th>\n",
       "    </tr>\n",
       "  </thead>\n",
       "  <tbody>\n",
       "    <tr>\n",
       "      <th>0</th>\n",
       "      <td>POLYGON ((-115.41707 51.34486, -112.84599 50.8...</td>\n",
       "      <td>landsat-c2l2-sr</td>\n",
       "      <td>30</td>\n",
       "      <td>LANDSAT_8</td>\n",
       "      <td>0</td>\n",
       "      <td>2020-09-12</td>\n",
       "      <td>7.52</td>\n",
       "      <td>158.563845</td>\n",
       "      <td>41.608270</td>\n",
       "      <td>OLI_TIRS</td>\n",
       "      <td>7.52</td>\n",
       "      <td>2</td>\n",
       "      <td>42</td>\n",
       "      <td>25</td>\n",
       "      <td>LC80420252020256LGN00</td>\n",
       "      <td>T1</td>\n",
       "      <td>02</td>\n",
       "      <td>[{'name': 'SR_B1', 'common_name': 'coastal', '...</td>\n",
       "    </tr>\n",
       "    <tr>\n",
       "      <th>1</th>\n",
       "      <td>POLYGON ((-118.50724 51.34424, -115.93869 50.8...</td>\n",
       "      <td>landsat-c2l2-sr</td>\n",
       "      <td>30</td>\n",
       "      <td>LANDSAT_8</td>\n",
       "      <td>0</td>\n",
       "      <td>2020-09-10</td>\n",
       "      <td>1.05</td>\n",
       "      <td>158.090227</td>\n",
       "      <td>42.304487</td>\n",
       "      <td>OLI_TIRS</td>\n",
       "      <td>1.05</td>\n",
       "      <td>2</td>\n",
       "      <td>44</td>\n",
       "      <td>25</td>\n",
       "      <td>LC80440252020254LGN00</td>\n",
       "      <td>T1</td>\n",
       "      <td>02</td>\n",
       "      <td>[{'name': 'SR_B1', 'common_name': 'coastal', '...</td>\n",
       "    </tr>\n",
       "    <tr>\n",
       "      <th>2</th>\n",
       "      <td>POLYGON ((-117.90877 52.76004, -115.25862 52.3...</td>\n",
       "      <td>landsat-c2l2-sr</td>\n",
       "      <td>30</td>\n",
       "      <td>LANDSAT_8</td>\n",
       "      <td>0</td>\n",
       "      <td>2020-09-10</td>\n",
       "      <td>3.36</td>\n",
       "      <td>159.224638</td>\n",
       "      <td>41.108349</td>\n",
       "      <td>OLI_TIRS</td>\n",
       "      <td>3.36</td>\n",
       "      <td>2</td>\n",
       "      <td>44</td>\n",
       "      <td>24</td>\n",
       "      <td>LC80440242020254LGN00</td>\n",
       "      <td>T1</td>\n",
       "      <td>02</td>\n",
       "      <td>[{'name': 'SR_B1', 'common_name': 'coastal', '...</td>\n",
       "    </tr>\n",
       "    <tr>\n",
       "      <th>3</th>\n",
       "      <td>POLYGON ((-115.40458 51.34469, -112.83365 50.8...</td>\n",
       "      <td>landsat-c2l2-sr</td>\n",
       "      <td>30</td>\n",
       "      <td>LANDSAT_8</td>\n",
       "      <td>0</td>\n",
       "      <td>2020-08-27</td>\n",
       "      <td>11.83</td>\n",
       "      <td>154.645789</td>\n",
       "      <td>46.985874</td>\n",
       "      <td>OLI_TIRS</td>\n",
       "      <td>11.83</td>\n",
       "      <td>2</td>\n",
       "      <td>042</td>\n",
       "      <td>025</td>\n",
       "      <td>LC80420252020240LGN00</td>\n",
       "      <td>T1</td>\n",
       "      <td>02</td>\n",
       "      <td>[{'center_wavelength': 0.44, 'name': 'SR_B1', ...</td>\n",
       "    </tr>\n",
       "    <tr>\n",
       "      <th>4</th>\n",
       "      <td>POLYGON ((-118.49433 51.34467, -115.92631 50.8...</td>\n",
       "      <td>landsat-c2l2-sr</td>\n",
       "      <td>30</td>\n",
       "      <td>LANDSAT_8</td>\n",
       "      <td>0</td>\n",
       "      <td>2020-08-25</td>\n",
       "      <td>12.54</td>\n",
       "      <td>154.152875</td>\n",
       "      <td>47.615272</td>\n",
       "      <td>OLI_TIRS</td>\n",
       "      <td>12.54</td>\n",
       "      <td>2</td>\n",
       "      <td>044</td>\n",
       "      <td>025</td>\n",
       "      <td>LC80440252020238LGN00</td>\n",
       "      <td>T1</td>\n",
       "      <td>02</td>\n",
       "      <td>[{'center_wavelength': 0.44, 'name': 'SR_B1', ...</td>\n",
       "    </tr>\n",
       "  </tbody>\n",
       "</table>\n",
       "</div>"
      ],
      "text/plain": [
       "                                            geometry       collection  eo:gsd  \\\n",
       "0  POLYGON ((-115.41707 51.34486, -112.84599 50.8...  landsat-c2l2-sr      30   \n",
       "1  POLYGON ((-118.50724 51.34424, -115.93869 50.8...  landsat-c2l2-sr      30   \n",
       "2  POLYGON ((-117.90877 52.76004, -115.25862 52.3...  landsat-c2l2-sr      30   \n",
       "3  POLYGON ((-115.40458 51.34469, -112.83365 50.8...  landsat-c2l2-sr      30   \n",
       "4  POLYGON ((-118.49433 51.34467, -115.92631 50.8...  landsat-c2l2-sr      30   \n",
       "\n",
       "  eo:platform  eo:off_nadir    datetime  eo:cloud_cover  eo:sun_azimuth  \\\n",
       "0   LANDSAT_8             0  2020-09-12            7.52      158.563845   \n",
       "1   LANDSAT_8             0  2020-09-10            1.05      158.090227   \n",
       "2   LANDSAT_8             0  2020-09-10            3.36      159.224638   \n",
       "3   LANDSAT_8             0  2020-08-27           11.83      154.645789   \n",
       "4   LANDSAT_8             0  2020-08-25           12.54      154.152875   \n",
       "\n",
       "   eo:sun_elevation eo:instrument  landsat:cloud_cover_land landsat:wrs_type  \\\n",
       "0         41.608270      OLI_TIRS                      7.52                2   \n",
       "1         42.304487      OLI_TIRS                      1.05                2   \n",
       "2         41.108349      OLI_TIRS                      3.36                2   \n",
       "3         46.985874      OLI_TIRS                     11.83                2   \n",
       "4         47.615272      OLI_TIRS                     12.54                2   \n",
       "\n",
       "  landsat:wrs_path landsat:wrs_row       landsat:scene_id  \\\n",
       "0               42              25  LC80420252020256LGN00   \n",
       "1               44              25  LC80440252020254LGN00   \n",
       "2               44              24  LC80440242020254LGN00   \n",
       "3              042             025  LC80420252020240LGN00   \n",
       "4              044             025  LC80440252020238LGN00   \n",
       "\n",
       "  landsat:collection_category landsat:collection_number  \\\n",
       "0                          T1                        02   \n",
       "1                          T1                        02   \n",
       "2                          T1                        02   \n",
       "3                          T1                        02   \n",
       "4                          T1                        02   \n",
       "\n",
       "                                            eo:bands  \n",
       "0  [{'name': 'SR_B1', 'common_name': 'coastal', '...  \n",
       "1  [{'name': 'SR_B1', 'common_name': 'coastal', '...  \n",
       "2  [{'name': 'SR_B1', 'common_name': 'coastal', '...  \n",
       "3  [{'center_wavelength': 0.44, 'name': 'SR_B1', ...  \n",
       "4  [{'center_wavelength': 0.44, 'name': 'SR_B1', ...  "
      ]
     },
     "execution_count": 25,
     "metadata": {},
     "output_type": "execute_result"
    }
   ],
   "source": [
    "# This works but you have to manually set the crs\n",
    "yr = 5\n",
    "scenes_poly = gpd.GeoDataFrame.from_features(response_by_year[yr], crs='epsg:4326')\n",
    "for col in scenes_poly.columns: print(col)\n",
    "\n",
    "scenes_poly.head()\n"
   ]
  },
  {
   "cell_type": "code",
   "execution_count": 26,
   "metadata": {},
   "outputs": [
    {
     "data": {
      "text/html": [
       "<div style=\"width:100%;\"><div style=\"position:relative;width:100%;height:0;padding-bottom:60%;\"><span style=\"color:#565656\">Make this Notebook Trusted to load map: File -> Trust Notebook</span><iframe src=\"about:blank\" style=\"position:absolute;width:100%;height:100%;left:0;top:0;border:none !important;\" data-html=%3C%21DOCTYPE%20html%3E%0A%3Chead%3E%20%20%20%20%0A%20%20%20%20%3Cmeta%20http-equiv%3D%22content-type%22%20content%3D%22text/html%3B%20charset%3DUTF-8%22%20/%3E%0A%20%20%20%20%0A%20%20%20%20%20%20%20%20%3Cscript%3E%0A%20%20%20%20%20%20%20%20%20%20%20%20L_NO_TOUCH%20%3D%20false%3B%0A%20%20%20%20%20%20%20%20%20%20%20%20L_DISABLE_3D%20%3D%20false%3B%0A%20%20%20%20%20%20%20%20%3C/script%3E%0A%20%20%20%20%0A%20%20%20%20%3Cstyle%3Ehtml%2C%20body%20%7Bwidth%3A%20100%25%3Bheight%3A%20100%25%3Bmargin%3A%200%3Bpadding%3A%200%3B%7D%3C/style%3E%0A%20%20%20%20%3Cstyle%3E%23map%20%7Bposition%3Aabsolute%3Btop%3A0%3Bbottom%3A0%3Bright%3A0%3Bleft%3A0%3B%7D%3C/style%3E%0A%20%20%20%20%3Cscript%20src%3D%22https%3A//cdn.jsdelivr.net/npm/leaflet%401.6.0/dist/leaflet.js%22%3E%3C/script%3E%0A%20%20%20%20%3Cscript%20src%3D%22https%3A//code.jquery.com/jquery-1.12.4.min.js%22%3E%3C/script%3E%0A%20%20%20%20%3Cscript%20src%3D%22https%3A//maxcdn.bootstrapcdn.com/bootstrap/3.2.0/js/bootstrap.min.js%22%3E%3C/script%3E%0A%20%20%20%20%3Cscript%20src%3D%22https%3A//cdnjs.cloudflare.com/ajax/libs/Leaflet.awesome-markers/2.0.2/leaflet.awesome-markers.js%22%3E%3C/script%3E%0A%20%20%20%20%3Clink%20rel%3D%22stylesheet%22%20href%3D%22https%3A//cdn.jsdelivr.net/npm/leaflet%401.6.0/dist/leaflet.css%22/%3E%0A%20%20%20%20%3Clink%20rel%3D%22stylesheet%22%20href%3D%22https%3A//maxcdn.bootstrapcdn.com/bootstrap/3.2.0/css/bootstrap.min.css%22/%3E%0A%20%20%20%20%3Clink%20rel%3D%22stylesheet%22%20href%3D%22https%3A//maxcdn.bootstrapcdn.com/bootstrap/3.2.0/css/bootstrap-theme.min.css%22/%3E%0A%20%20%20%20%3Clink%20rel%3D%22stylesheet%22%20href%3D%22https%3A//maxcdn.bootstrapcdn.com/font-awesome/4.6.3/css/font-awesome.min.css%22/%3E%0A%20%20%20%20%3Clink%20rel%3D%22stylesheet%22%20href%3D%22https%3A//cdnjs.cloudflare.com/ajax/libs/Leaflet.awesome-markers/2.0.2/leaflet.awesome-markers.css%22/%3E%0A%20%20%20%20%3Clink%20rel%3D%22stylesheet%22%20href%3D%22https%3A//cdn.jsdelivr.net/gh/python-visualization/folium/folium/templates/leaflet.awesome.rotate.min.css%22/%3E%0A%20%20%20%20%0A%20%20%20%20%20%20%20%20%20%20%20%20%3Cmeta%20name%3D%22viewport%22%20content%3D%22width%3Ddevice-width%2C%0A%20%20%20%20%20%20%20%20%20%20%20%20%20%20%20%20initial-scale%3D1.0%2C%20maximum-scale%3D1.0%2C%20user-scalable%3Dno%22%20/%3E%0A%20%20%20%20%20%20%20%20%20%20%20%20%3Cstyle%3E%0A%20%20%20%20%20%20%20%20%20%20%20%20%20%20%20%20%23map_6aa348a6ac6d4a3c8f5ee04bd50f8e8c%20%7B%0A%20%20%20%20%20%20%20%20%20%20%20%20%20%20%20%20%20%20%20%20position%3A%20relative%3B%0A%20%20%20%20%20%20%20%20%20%20%20%20%20%20%20%20%20%20%20%20width%3A%20100.0%25%3B%0A%20%20%20%20%20%20%20%20%20%20%20%20%20%20%20%20%20%20%20%20height%3A%20100.0%25%3B%0A%20%20%20%20%20%20%20%20%20%20%20%20%20%20%20%20%20%20%20%20left%3A%200.0%25%3B%0A%20%20%20%20%20%20%20%20%20%20%20%20%20%20%20%20%20%20%20%20top%3A%200.0%25%3B%0A%20%20%20%20%20%20%20%20%20%20%20%20%20%20%20%20%7D%0A%20%20%20%20%20%20%20%20%20%20%20%20%3C/style%3E%0A%20%20%20%20%20%20%20%20%0A%3C/head%3E%0A%3Cbody%3E%20%20%20%20%0A%20%20%20%20%0A%20%20%20%20%20%20%20%20%20%20%20%20%3Cdiv%20class%3D%22folium-map%22%20id%3D%22map_6aa348a6ac6d4a3c8f5ee04bd50f8e8c%22%20%3E%3C/div%3E%0A%20%20%20%20%20%20%20%20%0A%3C/body%3E%0A%3Cscript%3E%20%20%20%20%0A%20%20%20%20%0A%20%20%20%20%20%20%20%20%20%20%20%20var%20map_6aa348a6ac6d4a3c8f5ee04bd50f8e8c%20%3D%20L.map%28%0A%20%20%20%20%20%20%20%20%20%20%20%20%20%20%20%20%22map_6aa348a6ac6d4a3c8f5ee04bd50f8e8c%22%2C%0A%20%20%20%20%20%20%20%20%20%20%20%20%20%20%20%20%7B%0A%20%20%20%20%20%20%20%20%20%20%20%20%20%20%20%20%20%20%20%20center%3A%20%5B51.0%2C%20-116.0%5D%2C%0A%20%20%20%20%20%20%20%20%20%20%20%20%20%20%20%20%20%20%20%20crs%3A%20L.CRS.EPSG3857%2C%0A%20%20%20%20%20%20%20%20%20%20%20%20%20%20%20%20%20%20%20%20zoom%3A%206%2C%0A%20%20%20%20%20%20%20%20%20%20%20%20%20%20%20%20%20%20%20%20zoomControl%3A%20true%2C%0A%20%20%20%20%20%20%20%20%20%20%20%20%20%20%20%20%20%20%20%20preferCanvas%3A%20false%2C%0A%20%20%20%20%20%20%20%20%20%20%20%20%20%20%20%20%7D%0A%20%20%20%20%20%20%20%20%20%20%20%20%29%3B%0A%0A%20%20%20%20%20%20%20%20%20%20%20%20%0A%0A%20%20%20%20%20%20%20%20%0A%20%20%20%20%0A%20%20%20%20%20%20%20%20%20%20%20%20var%20tile_layer_fbbe34f2fd1444d5ae0fac5e400c3d90%20%3D%20L.tileLayer%28%0A%20%20%20%20%20%20%20%20%20%20%20%20%20%20%20%20%22https%3A//cartodb-basemaps-%7Bs%7D.global.ssl.fastly.net/light_all/%7Bz%7D/%7Bx%7D/%7By%7D.png%22%2C%0A%20%20%20%20%20%20%20%20%20%20%20%20%20%20%20%20%7B%22attribution%22%3A%20%22%5Cu0026copy%3B%20%5Cu003ca%20href%3D%5C%22http%3A//www.openstreetmap.org/copyright%5C%22%5Cu003eOpenStreetMap%5Cu003c/a%5Cu003e%20contributors%20%5Cu0026copy%3B%20%5Cu003ca%20href%3D%5C%22http%3A//cartodb.com/attributions%5C%22%5Cu003eCartoDB%5Cu003c/a%5Cu003e%2C%20CartoDB%20%5Cu003ca%20href%20%3D%5C%22http%3A//cartodb.com/attributions%5C%22%5Cu003eattributions%5Cu003c/a%5Cu003e%22%2C%20%22detectRetina%22%3A%20false%2C%20%22maxNativeZoom%22%3A%2018%2C%20%22maxZoom%22%3A%2018%2C%20%22minZoom%22%3A%200%2C%20%22noWrap%22%3A%20false%2C%20%22opacity%22%3A%201%2C%20%22subdomains%22%3A%20%22abc%22%2C%20%22tms%22%3A%20false%7D%0A%20%20%20%20%20%20%20%20%20%20%20%20%29.addTo%28map_6aa348a6ac6d4a3c8f5ee04bd50f8e8c%29%3B%0A%20%20%20%20%20%20%20%20%0A%20%20%20%20%0A%0A%20%20%20%20%20%20%20%20function%20geo_json_732df2529acb49639bf45b90b17ba5f2_onEachFeature%28feature%2C%20layer%29%20%7B%0A%20%20%20%20%20%20%20%20%20%20%20%20layer.on%28%7B%0A%20%20%20%20%20%20%20%20%20%20%20%20%7D%29%3B%0A%20%20%20%20%20%20%20%20%7D%3B%0A%20%20%20%20%20%20%20%20var%20geo_json_732df2529acb49639bf45b90b17ba5f2%20%3D%20L.geoJson%28null%2C%20%7B%0A%20%20%20%20%20%20%20%20%20%20%20%20%20%20%20%20onEachFeature%3A%20geo_json_732df2529acb49639bf45b90b17ba5f2_onEachFeature%2C%0A%20%20%20%20%20%20%20%20%20%20%20%20%0A%20%20%20%20%20%20%20%20%7D%29%3B%0A%0A%20%20%20%20%20%20%20%20function%20geo_json_732df2529acb49639bf45b90b17ba5f2_add%20%28data%29%20%7B%0A%20%20%20%20%20%20%20%20%20%20%20%20geo_json_732df2529acb49639bf45b90b17ba5f2%0A%20%20%20%20%20%20%20%20%20%20%20%20%20%20%20%20.addData%28data%29%0A%20%20%20%20%20%20%20%20%20%20%20%20%20%20%20%20.addTo%28map_6aa348a6ac6d4a3c8f5ee04bd50f8e8c%29%3B%0A%20%20%20%20%20%20%20%20%7D%0A%20%20%20%20%20%20%20%20%20%20%20%20geo_json_732df2529acb49639bf45b90b17ba5f2_add%28%7B%22bbox%22%3A%20%5B-119.18920669646796%2C%2049.20290726997375%2C%20-112.15501077458795%2C%2052.76036322350594%5D%2C%20%22features%22%3A%20%5B%7B%22bbox%22%3A%20%5B-116.09958970841775%2C%2049.20335367596073%2C%20-112.84598959253317%2C%2051.344858670551176%5D%2C%20%22geometry%22%3A%20%7B%22coordinates%22%3A%20%5B%5B%5B-115.41707121394768%2C%2051.344858670551176%5D%2C%20%5B-112.84598959253317%2C%2050.89745960486603%5D%2C%20%5B-113.61612672993249%2C%2049.20335367596073%5D%2C%20%5B-116.09958970841775%2C%2049.64369001833209%5D%2C%20%5B-115.41707121394768%2C%2051.344858670551176%5D%5D%5D%2C%20%22type%22%3A%20%22Polygon%22%7D%2C%20%22id%22%3A%20%220%22%2C%20%22properties%22%3A%20%7B%22collection%22%3A%20%22landsat-c2l2-sr%22%2C%20%22datetime%22%3A%20%222020-09-12%22%2C%20%22eo%3Abands%22%3A%20%5B%7B%22center_wavelength%22%3A%200.44%2C%20%22common_name%22%3A%20%22coastal%22%2C%20%22gsd%22%3A%2030%2C%20%22name%22%3A%20%22SR_B1%22%7D%2C%20%7B%22center_wavelength%22%3A%200.48%2C%20%22common_name%22%3A%20%22blue%22%2C%20%22gsd%22%3A%2030%2C%20%22name%22%3A%20%22SR_B2%22%7D%2C%20%7B%22center_wavelength%22%3A%200.56%2C%20%22common_name%22%3A%20%22green%22%2C%20%22gsd%22%3A%2030%2C%20%22name%22%3A%20%22SR_B3%22%7D%2C%20%7B%22center_wavelength%22%3A%200.65%2C%20%22common_name%22%3A%20%22red%22%2C%20%22gsd%22%3A%2030%2C%20%22name%22%3A%20%22SR_B4%22%7D%2C%20%7B%22center_wavelength%22%3A%200.86%2C%20%22common_name%22%3A%20%22nir08%22%2C%20%22gsd%22%3A%2030%2C%20%22name%22%3A%20%22SR_B5%22%7D%2C%20%7B%22center_wavelength%22%3A%201.6%2C%20%22common_name%22%3A%20%22swir16%22%2C%20%22gsd%22%3A%2030%2C%20%22name%22%3A%20%22SR_B6%22%7D%2C%20%7B%22center_wavelength%22%3A%202.2%2C%20%22common_name%22%3A%20%22swir22%22%2C%20%22gsd%22%3A%2030%2C%20%22name%22%3A%20%22SR_B7%22%7D%5D%2C%20%22eo%3Acloud_cover%22%3A%207.52%2C%20%22eo%3Agsd%22%3A%2030%2C%20%22eo%3Ainstrument%22%3A%20%22OLI_TIRS%22%2C%20%22eo%3Aoff_nadir%22%3A%200%2C%20%22eo%3Aplatform%22%3A%20%22LANDSAT_8%22%2C%20%22eo%3Asun_azimuth%22%3A%20158.56384548%2C%20%22eo%3Asun_elevation%22%3A%2041.60827033%2C%20%22landsat%3Acloud_cover_land%22%3A%207.52%2C%20%22landsat%3Acollection_category%22%3A%20%22T1%22%2C%20%22landsat%3Acollection_number%22%3A%20%2202%22%2C%20%22landsat%3Ascene_id%22%3A%20%22LC80420252020256LGN00%22%2C%20%22landsat%3Awrs_path%22%3A%20%2242%22%2C%20%22landsat%3Awrs_row%22%3A%20%2225%22%2C%20%22landsat%3Awrs_type%22%3A%20%222%22%7D%2C%20%22type%22%3A%20%22Feature%22%7D%2C%20%7B%22bbox%22%3A%20%5B-119.18920669646796%2C%2049.203187088245365%2C%20-115.93868664286146%2C%2051.344238512276384%5D%2C%20%22geometry%22%3A%20%7B%22coordinates%22%3A%20%5B%5B%5B-118.50723637674469%2C%2051.344238512276384%5D%2C%20%5B-115.93868664286146%2C%2050.89751753130429%5D%2C%20%5B-116.70642941239804%2C%2049.203187088245365%5D%2C%20%5B-119.18920669646796%2C%2049.64349111248801%5D%2C%20%5B-118.50723637674469%2C%2051.344238512276384%5D%5D%5D%2C%20%22type%22%3A%20%22Polygon%22%7D%2C%20%22id%22%3A%20%221%22%2C%20%22properties%22%3A%20%7B%22collection%22%3A%20%22landsat-c2l2-sr%22%2C%20%22datetime%22%3A%20%222020-09-10%22%2C%20%22eo%3Abands%22%3A%20%5B%7B%22center_wavelength%22%3A%200.44%2C%20%22common_name%22%3A%20%22coastal%22%2C%20%22gsd%22%3A%2030%2C%20%22name%22%3A%20%22SR_B1%22%7D%2C%20%7B%22center_wavelength%22%3A%200.48%2C%20%22common_name%22%3A%20%22blue%22%2C%20%22gsd%22%3A%2030%2C%20%22name%22%3A%20%22SR_B2%22%7D%2C%20%7B%22center_wavelength%22%3A%200.56%2C%20%22common_name%22%3A%20%22green%22%2C%20%22gsd%22%3A%2030%2C%20%22name%22%3A%20%22SR_B3%22%7D%2C%20%7B%22center_wavelength%22%3A%200.65%2C%20%22common_name%22%3A%20%22red%22%2C%20%22gsd%22%3A%2030%2C%20%22name%22%3A%20%22SR_B4%22%7D%2C%20%7B%22center_wavelength%22%3A%200.86%2C%20%22common_name%22%3A%20%22nir08%22%2C%20%22gsd%22%3A%2030%2C%20%22name%22%3A%20%22SR_B5%22%7D%2C%20%7B%22center_wavelength%22%3A%201.6%2C%20%22common_name%22%3A%20%22swir16%22%2C%20%22gsd%22%3A%2030%2C%20%22name%22%3A%20%22SR_B6%22%7D%2C%20%7B%22center_wavelength%22%3A%202.2%2C%20%22common_name%22%3A%20%22swir22%22%2C%20%22gsd%22%3A%2030%2C%20%22name%22%3A%20%22SR_B7%22%7D%5D%2C%20%22eo%3Acloud_cover%22%3A%201.05%2C%20%22eo%3Agsd%22%3A%2030%2C%20%22eo%3Ainstrument%22%3A%20%22OLI_TIRS%22%2C%20%22eo%3Aoff_nadir%22%3A%200%2C%20%22eo%3Aplatform%22%3A%20%22LANDSAT_8%22%2C%20%22eo%3Asun_azimuth%22%3A%20158.09022674%2C%20%22eo%3Asun_elevation%22%3A%2042.30448692%2C%20%22landsat%3Acloud_cover_land%22%3A%201.05%2C%20%22landsat%3Acollection_category%22%3A%20%22T1%22%2C%20%22landsat%3Acollection_number%22%3A%20%2202%22%2C%20%22landsat%3Ascene_id%22%3A%20%22LC80440252020254LGN00%22%2C%20%22landsat%3Awrs_path%22%3A%20%2244%22%2C%20%22landsat%3Awrs_row%22%3A%20%2225%22%2C%20%22landsat%3Awrs_type%22%3A%20%222%22%7D%2C%20%22type%22%3A%20%22Feature%22%7D%2C%20%7B%22bbox%22%3A%20%5B-118.62347152771555%2C%2050.61210498205411%2C%20-115.25861686443166%2C%2052.760042768571104%5D%2C%20%22geometry%22%3A%20%7B%22coordinates%22%3A%20%5B%5B%5B-117.90877305799988%2C%2052.760042768571104%5D%2C%20%5B-115.25861686443166%2C%2052.30243819253314%5D%2C%20%5B-116.06851276118756%2C%2050.61210498205411%5D%2C%20%5B-118.62347152771555%2C%2051.06129528143015%5D%2C%20%5B-117.90877305799988%2C%2052.760042768571104%5D%5D%5D%2C%20%22type%22%3A%20%22Polygon%22%7D%2C%20%22id%22%3A%20%222%22%2C%20%22properties%22%3A%20%7B%22collection%22%3A%20%22landsat-c2l2-sr%22%2C%20%22datetime%22%3A%20%222020-09-10%22%2C%20%22eo%3Abands%22%3A%20%5B%7B%22center_wavelength%22%3A%200.44%2C%20%22common_name%22%3A%20%22coastal%22%2C%20%22gsd%22%3A%2030%2C%20%22name%22%3A%20%22SR_B1%22%7D%2C%20%7B%22center_wavelength%22%3A%200.48%2C%20%22common_name%22%3A%20%22blue%22%2C%20%22gsd%22%3A%2030%2C%20%22name%22%3A%20%22SR_B2%22%7D%2C%20%7B%22center_wavelength%22%3A%200.56%2C%20%22common_name%22%3A%20%22green%22%2C%20%22gsd%22%3A%2030%2C%20%22name%22%3A%20%22SR_B3%22%7D%2C%20%7B%22center_wavelength%22%3A%200.65%2C%20%22common_name%22%3A%20%22red%22%2C%20%22gsd%22%3A%2030%2C%20%22name%22%3A%20%22SR_B4%22%7D%2C%20%7B%22center_wavelength%22%3A%200.86%2C%20%22common_name%22%3A%20%22nir08%22%2C%20%22gsd%22%3A%2030%2C%20%22name%22%3A%20%22SR_B5%22%7D%2C%20%7B%22center_wavelength%22%3A%201.6%2C%20%22common_name%22%3A%20%22swir16%22%2C%20%22gsd%22%3A%2030%2C%20%22name%22%3A%20%22SR_B6%22%7D%2C%20%7B%22center_wavelength%22%3A%202.2%2C%20%22common_name%22%3A%20%22swir22%22%2C%20%22gsd%22%3A%2030%2C%20%22name%22%3A%20%22SR_B7%22%7D%5D%2C%20%22eo%3Acloud_cover%22%3A%203.36%2C%20%22eo%3Agsd%22%3A%2030%2C%20%22eo%3Ainstrument%22%3A%20%22OLI_TIRS%22%2C%20%22eo%3Aoff_nadir%22%3A%200%2C%20%22eo%3Aplatform%22%3A%20%22LANDSAT_8%22%2C%20%22eo%3Asun_azimuth%22%3A%20159.2246375%2C%20%22eo%3Asun_elevation%22%3A%2041.10834882%2C%20%22landsat%3Acloud_cover_land%22%3A%203.36%2C%20%22landsat%3Acollection_category%22%3A%20%22T1%22%2C%20%22landsat%3Acollection_number%22%3A%20%2202%22%2C%20%22landsat%3Ascene_id%22%3A%20%22LC80440242020254LGN00%22%2C%20%22landsat%3Awrs_path%22%3A%20%2244%22%2C%20%22landsat%3Awrs_row%22%3A%20%2224%22%2C%20%22landsat%3Awrs_type%22%3A%20%222%22%7D%2C%20%22type%22%3A%20%22Feature%22%7D%2C%20%7B%22bbox%22%3A%20%5B-116.08754059085223%2C%2049.20300336634377%2C%20-112.83365099868112%2C%2051.34468924745816%5D%2C%20%22geometry%22%3A%20%7B%22coordinates%22%3A%20%5B%5B%5B-115.40458468879419%2C%2051.34468924745816%5D%2C%20%5B-112.83365099868112%2C%2050.89701916451639%5D%2C%20%5B-113.60420441141582%2C%2049.20300336634377%5D%2C%20%5B-116.08754059085223%2C%2049.64359568383107%5D%2C%20%5B-115.40458468879419%2C%2051.34468924745816%5D%5D%5D%2C%20%22type%22%3A%20%22Polygon%22%7D%2C%20%22id%22%3A%20%223%22%2C%20%22properties%22%3A%20%7B%22collection%22%3A%20%22landsat-c2l2-sr%22%2C%20%22datetime%22%3A%20%222020-08-27%22%2C%20%22eo%3Abands%22%3A%20%5B%7B%22center_wavelength%22%3A%200.44%2C%20%22common_name%22%3A%20%22coastal%22%2C%20%22gsd%22%3A%2030%2C%20%22name%22%3A%20%22SR_B1%22%7D%2C%20%7B%22center_wavelength%22%3A%200.48%2C%20%22common_name%22%3A%20%22blue%22%2C%20%22gsd%22%3A%2030%2C%20%22name%22%3A%20%22SR_B2%22%7D%2C%20%7B%22center_wavelength%22%3A%200.56%2C%20%22common_name%22%3A%20%22green%22%2C%20%22gsd%22%3A%2030%2C%20%22name%22%3A%20%22SR_B3%22%7D%2C%20%7B%22center_wavelength%22%3A%200.65%2C%20%22common_name%22%3A%20%22red%22%2C%20%22gsd%22%3A%2030%2C%20%22name%22%3A%20%22SR_B4%22%7D%2C%20%7B%22center_wavelength%22%3A%200.86%2C%20%22common_name%22%3A%20%22nir08%22%2C%20%22gsd%22%3A%2030%2C%20%22name%22%3A%20%22SR_B5%22%7D%2C%20%7B%22center_wavelength%22%3A%201.6%2C%20%22common_name%22%3A%20%22swir16%22%2C%20%22gsd%22%3A%2030%2C%20%22name%22%3A%20%22SR_B6%22%7D%2C%20%7B%22center_wavelength%22%3A%202.2%2C%20%22common_name%22%3A%20%22swir22%22%2C%20%22gsd%22%3A%2030%2C%20%22name%22%3A%20%22SR_B7%22%7D%5D%2C%20%22eo%3Acloud_cover%22%3A%2011.83%2C%20%22eo%3Agsd%22%3A%2030%2C%20%22eo%3Ainstrument%22%3A%20%22OLI_TIRS%22%2C%20%22eo%3Aoff_nadir%22%3A%200%2C%20%22eo%3Aplatform%22%3A%20%22LANDSAT_8%22%2C%20%22eo%3Asun_azimuth%22%3A%20154.64578898%2C%20%22eo%3Asun_elevation%22%3A%2046.98587395%2C%20%22landsat%3Acloud_cover_land%22%3A%2011.83%2C%20%22landsat%3Acollection_category%22%3A%20%22T1%22%2C%20%22landsat%3Acollection_number%22%3A%20%2202%22%2C%20%22landsat%3Ascene_id%22%3A%20%22LC80420252020240LGN00%22%2C%20%22landsat%3Awrs_path%22%3A%20%22042%22%2C%20%22landsat%3Awrs_row%22%3A%20%22025%22%2C%20%22landsat%3Awrs_type%22%3A%20%222%22%7D%2C%20%22type%22%3A%20%22Feature%22%7D%2C%20%7B%22bbox%22%3A%20%5B-119.175907094953%2C%2049.20315284076662%2C%20-115.92631130529502%2C%2051.34467369722521%5D%2C%20%22geometry%22%3A%20%7B%22coordinates%22%3A%20%5B%5B%5B-118.49432764270809%2C%2051.34467369722521%5D%2C%20%5B-115.92631130529502%2C%2050.89767415422941%5D%2C%20%5B-116.6932508472346%2C%2049.20315284076662%5D%2C%20%5B-119.175907094953%2C%2049.643472060261054%5D%2C%20%5B-118.49432764270809%2C%2051.34467369722521%5D%5D%5D%2C%20%22type%22%3A%20%22Polygon%22%7D%2C%20%22id%22%3A%20%224%22%2C%20%22properties%22%3A%20%7B%22collection%22%3A%20%22landsat-c2l2-sr%22%2C%20%22datetime%22%3A%20%222020-08-25%22%2C%20%22eo%3Abands%22%3A%20%5B%7B%22center_wavelength%22%3A%200.44%2C%20%22common_name%22%3A%20%22coastal%22%2C%20%22gsd%22%3A%2030%2C%20%22name%22%3A%20%22SR_B1%22%7D%2C%20%7B%22center_wavelength%22%3A%200.48%2C%20%22common_name%22%3A%20%22blue%22%2C%20%22gsd%22%3A%2030%2C%20%22name%22%3A%20%22SR_B2%22%7D%2C%20%7B%22center_wavelength%22%3A%200.56%2C%20%22common_name%22%3A%20%22green%22%2C%20%22gsd%22%3A%2030%2C%20%22name%22%3A%20%22SR_B3%22%7D%2C%20%7B%22center_wavelength%22%3A%200.65%2C%20%22common_name%22%3A%20%22red%22%2C%20%22gsd%22%3A%2030%2C%20%22name%22%3A%20%22SR_B4%22%7D%2C%20%7B%22center_wavelength%22%3A%200.86%2C%20%22common_name%22%3A%20%22nir08%22%2C%20%22gsd%22%3A%2030%2C%20%22name%22%3A%20%22SR_B5%22%7D%2C%20%7B%22center_wavelength%22%3A%201.6%2C%20%22common_name%22%3A%20%22swir16%22%2C%20%22gsd%22%3A%2030%2C%20%22name%22%3A%20%22SR_B6%22%7D%2C%20%7B%22center_wavelength%22%3A%202.2%2C%20%22common_name%22%3A%20%22swir22%22%2C%20%22gsd%22%3A%2030%2C%20%22name%22%3A%20%22SR_B7%22%7D%5D%2C%20%22eo%3Acloud_cover%22%3A%2012.54%2C%20%22eo%3Agsd%22%3A%2030%2C%20%22eo%3Ainstrument%22%3A%20%22OLI_TIRS%22%2C%20%22eo%3Aoff_nadir%22%3A%200%2C%20%22eo%3Aplatform%22%3A%20%22LANDSAT_8%22%2C%20%22eo%3Asun_azimuth%22%3A%20154.15287517%2C%20%22eo%3Asun_elevation%22%3A%2047.61527237%2C%20%22landsat%3Acloud_cover_land%22%3A%2012.54%2C%20%22landsat%3Acollection_category%22%3A%20%22T1%22%2C%20%22landsat%3Acollection_number%22%3A%20%2202%22%2C%20%22landsat%3Ascene_id%22%3A%20%22LC80440252020238LGN00%22%2C%20%22landsat%3Awrs_path%22%3A%20%22044%22%2C%20%22landsat%3Awrs_row%22%3A%20%22025%22%2C%20%22landsat%3Awrs_type%22%3A%20%222%22%7D%2C%20%22type%22%3A%20%22Feature%22%7D%2C%20%7B%22bbox%22%3A%20%5B-117.05786508531547%2C%2050.61260777732641%2C%20-113.69453881890651%2C%2052.76036322350594%5D%2C%20%22geometry%22%3A%20%7B%22coordinates%22%3A%20%5B%5B%5B-116.34433357562214%2C%2052.76036322350594%5D%2C%20%5B-113.69453881890651%2C%2052.3029940227544%5D%2C%20%5B-114.506288658315%2C%2050.61260777732641%5D%2C%20%5B-117.05786508531547%2C%2051.06149505891649%5D%2C%20%5B-116.34433357562214%2C%2052.76036322350594%5D%5D%5D%2C%20%22type%22%3A%20%22Polygon%22%7D%2C%20%22id%22%3A%20%225%22%2C%20%22properties%22%3A%20%7B%22collection%22%3A%20%22landsat-c2l2-sr%22%2C%20%22datetime%22%3A%20%222020-08-18%22%2C%20%22eo%3Abands%22%3A%20%5B%7B%22center_wavelength%22%3A%200.44%2C%20%22common_name%22%3A%20%22coastal%22%2C%20%22gsd%22%3A%2030%2C%20%22name%22%3A%20%22SR_B1%22%7D%2C%20%7B%22center_wavelength%22%3A%200.48%2C%20%22common_name%22%3A%20%22blue%22%2C%20%22gsd%22%3A%2030%2C%20%22name%22%3A%20%22SR_B2%22%7D%2C%20%7B%22center_wavelength%22%3A%200.56%2C%20%22common_name%22%3A%20%22green%22%2C%20%22gsd%22%3A%2030%2C%20%22name%22%3A%20%22SR_B3%22%7D%2C%20%7B%22center_wavelength%22%3A%200.65%2C%20%22common_name%22%3A%20%22red%22%2C%20%22gsd%22%3A%2030%2C%20%22name%22%3A%20%22SR_B4%22%7D%2C%20%7B%22center_wavelength%22%3A%200.86%2C%20%22common_name%22%3A%20%22nir08%22%2C%20%22gsd%22%3A%2030%2C%20%22name%22%3A%20%22SR_B5%22%7D%2C%20%7B%22center_wavelength%22%3A%201.6%2C%20%22common_name%22%3A%20%22swir16%22%2C%20%22gsd%22%3A%2030%2C%20%22name%22%3A%20%22SR_B6%22%7D%2C%20%7B%22center_wavelength%22%3A%202.2%2C%20%22common_name%22%3A%20%22swir22%22%2C%20%22gsd%22%3A%2030%2C%20%22name%22%3A%20%22SR_B7%22%7D%5D%2C%20%22eo%3Acloud_cover%22%3A%205.78%2C%20%22eo%3Agsd%22%3A%2030%2C%20%22eo%3Ainstrument%22%3A%20%22OLI_TIRS%22%2C%20%22eo%3Aoff_nadir%22%3A%200%2C%20%22eo%3Aplatform%22%3A%20%22LANDSAT_8%22%2C%20%22eo%3Asun_azimuth%22%3A%20153.93700135%2C%20%22eo%3Asun_elevation%22%3A%2048.63109222%2C%20%22landsat%3Acloud_cover_land%22%3A%205.78%2C%20%22landsat%3Acollection_category%22%3A%20%22T1%22%2C%20%22landsat%3Acollection_number%22%3A%20%2202%22%2C%20%22landsat%3Ascene_id%22%3A%20%22LC80430242020231LGN00%22%2C%20%22landsat%3Awrs_path%22%3A%20%2243%22%2C%20%22landsat%3Awrs_row%22%3A%20%2224%22%2C%20%22landsat%3Awrs_type%22%3A%20%222%22%7D%2C%20%22type%22%3A%20%22Feature%22%7D%2C%20%7B%22bbox%22%3A%20%5B-117.62504135472344%2C%2049.203183611828386%2C%20-114.37291302341585%2C%2051.34528961885128%5D%2C%20%22geometry%22%3A%20%7B%22coordinates%22%3A%20%5B%5B%5B-116.94450626256469%2C%2051.34528961885128%5D%2C%20%5B-114.37291302341585%2C%2050.89732729424457%5D%2C%20%5B-115.1418176349457%2C%2049.203183611828386%5D%2C%20%5B-117.62504135472344%2C%2049.643615185423435%5D%2C%20%5B-116.94450626256469%2C%2051.34528961885128%5D%5D%5D%2C%20%22type%22%3A%20%22Polygon%22%7D%2C%20%22id%22%3A%20%226%22%2C%20%22properties%22%3A%20%7B%22collection%22%3A%20%22landsat-c2l2-sr%22%2C%20%22datetime%22%3A%20%222020-08-18%22%2C%20%22eo%3Abands%22%3A%20%5B%7B%22center_wavelength%22%3A%200.44%2C%20%22common_name%22%3A%20%22coastal%22%2C%20%22gsd%22%3A%2030%2C%20%22name%22%3A%20%22SR_B1%22%7D%2C%20%7B%22center_wavelength%22%3A%200.48%2C%20%22common_name%22%3A%20%22blue%22%2C%20%22gsd%22%3A%2030%2C%20%22name%22%3A%20%22SR_B2%22%7D%2C%20%7B%22center_wavelength%22%3A%200.56%2C%20%22common_name%22%3A%20%22green%22%2C%20%22gsd%22%3A%2030%2C%20%22name%22%3A%20%22SR_B3%22%7D%2C%20%7B%22center_wavelength%22%3A%200.65%2C%20%22common_name%22%3A%20%22red%22%2C%20%22gsd%22%3A%2030%2C%20%22name%22%3A%20%22SR_B4%22%7D%2C%20%7B%22center_wavelength%22%3A%200.86%2C%20%22common_name%22%3A%20%22nir08%22%2C%20%22gsd%22%3A%2030%2C%20%22name%22%3A%20%22SR_B5%22%7D%2C%20%7B%22center_wavelength%22%3A%201.6%2C%20%22common_name%22%3A%20%22swir16%22%2C%20%22gsd%22%3A%2030%2C%20%22name%22%3A%20%22SR_B6%22%7D%2C%20%7B%22center_wavelength%22%3A%202.2%2C%20%22common_name%22%3A%20%22swir22%22%2C%20%22gsd%22%3A%2030%2C%20%22name%22%3A%20%22SR_B7%22%7D%5D%2C%20%22eo%3Acloud_cover%22%3A%205.57%2C%20%22eo%3Agsd%22%3A%2030%2C%20%22eo%3Ainstrument%22%3A%20%22OLI_TIRS%22%2C%20%22eo%3Aoff_nadir%22%3A%200%2C%20%22eo%3Aplatform%22%3A%20%22LANDSAT_8%22%2C%20%22eo%3Asun_azimuth%22%3A%20152.45605289%2C%20%22eo%3Asun_elevation%22%3A%2049.74389109%2C%20%22landsat%3Acloud_cover_land%22%3A%205.57%2C%20%22landsat%3Acollection_category%22%3A%20%22T1%22%2C%20%22landsat%3Acollection_number%22%3A%20%2202%22%2C%20%22landsat%3Ascene_id%22%3A%20%22LC80430252020231LGN00%22%2C%20%22landsat%3Awrs_path%22%3A%20%2243%22%2C%20%22landsat%3Awrs_row%22%3A%20%2225%22%2C%20%22landsat%3Awrs_type%22%3A%20%222%22%7D%2C%20%22type%22%3A%20%22Feature%22%7D%2C%20%7B%22bbox%22%3A%20%5B-117.05700821966289%2C%2050.61232916690923%2C%20-113.69415980471014%2C%2052.760086169054524%5D%2C%20%22geometry%22%3A%20%7B%22coordinates%22%3A%20%5B%5B%5B-116.34300401982154%2C%2052.760086169054524%5D%2C%20%5B-113.69415980471014%2C%2052.30217391991959%5D%2C%20%5B-114.50587930675987%2C%2050.61232916690923%5D%2C%20%5B-117.05700821966289%2C%2051.060955935555555%5D%2C%20%5B-116.34300401982154%2C%2052.760086169054524%5D%5D%5D%2C%20%22type%22%3A%20%22Polygon%22%7D%2C%20%22id%22%3A%20%227%22%2C%20%22properties%22%3A%20%7B%22collection%22%3A%20%22landsat-c2l2-sr%22%2C%20%22datetime%22%3A%20%222020-08-02%22%2C%20%22eo%3Abands%22%3A%20%5B%7B%22center_wavelength%22%3A%200.44%2C%20%22common_name%22%3A%20%22coastal%22%2C%20%22gsd%22%3A%2030%2C%20%22name%22%3A%20%22SR_B1%22%7D%2C%20%7B%22center_wavelength%22%3A%200.48%2C%20%22common_name%22%3A%20%22blue%22%2C%20%22gsd%22%3A%2030%2C%20%22name%22%3A%20%22SR_B2%22%7D%2C%20%7B%22center_wavelength%22%3A%200.56%2C%20%22common_name%22%3A%20%22green%22%2C%20%22gsd%22%3A%2030%2C%20%22name%22%3A%20%22SR_B3%22%7D%2C%20%7B%22center_wavelength%22%3A%200.65%2C%20%22common_name%22%3A%20%22red%22%2C%20%22gsd%22%3A%2030%2C%20%22name%22%3A%20%22SR_B4%22%7D%2C%20%7B%22center_wavelength%22%3A%200.86%2C%20%22common_name%22%3A%20%22nir08%22%2C%20%22gsd%22%3A%2030%2C%20%22name%22%3A%20%22SR_B5%22%7D%2C%20%7B%22center_wavelength%22%3A%201.6%2C%20%22common_name%22%3A%20%22swir16%22%2C%20%22gsd%22%3A%2030%2C%20%22name%22%3A%20%22SR_B6%22%7D%2C%20%7B%22center_wavelength%22%3A%202.2%2C%20%22common_name%22%3A%20%22swir22%22%2C%20%22gsd%22%3A%2030%2C%20%22name%22%3A%20%22SR_B7%22%7D%5D%2C%20%22eo%3Acloud_cover%22%3A%2011.67%2C%20%22eo%3Agsd%22%3A%2030%2C%20%22eo%3Ainstrument%22%3A%20%22OLI_TIRS%22%2C%20%22eo%3Aoff_nadir%22%3A%200%2C%20%22eo%3Aplatform%22%3A%20%22LANDSAT_8%22%2C%20%22eo%3Asun_azimuth%22%3A%20150.74454144%2C%20%22eo%3Asun_elevation%22%3A%2052.95761575%2C%20%22landsat%3Acloud_cover_land%22%3A%2011.67%2C%20%22landsat%3Acollection_category%22%3A%20%22T1%22%2C%20%22landsat%3Acollection_number%22%3A%20%2202%22%2C%20%22landsat%3Ascene_id%22%3A%20%22LC80430242020215LGN00%22%2C%20%22landsat%3Awrs_path%22%3A%20%2243%22%2C%20%22landsat%3Awrs_row%22%3A%20%2224%22%2C%20%22landsat%3Awrs_type%22%3A%20%222%22%7D%2C%20%22type%22%3A%20%22Feature%22%7D%2C%20%7B%22bbox%22%3A%20%5B-117.05700821966289%2C%2050.61232916690923%2C%20-113.69415980471014%2C%2052.760086169054524%5D%2C%20%22geometry%22%3A%20%7B%22coordinates%22%3A%20%5B%5B%5B-116.34300401982154%2C%2052.760086169054524%5D%2C%20%5B-113.69415980471014%2C%2052.30217391991959%5D%2C%20%5B-114.50587930675987%2C%2050.61232916690923%5D%2C%20%5B-117.05700821966289%2C%2051.060955935555555%5D%2C%20%5B-116.34300401982154%2C%2052.760086169054524%5D%5D%5D%2C%20%22type%22%3A%20%22Polygon%22%7D%2C%20%22id%22%3A%20%228%22%2C%20%22properties%22%3A%20%7B%22collection%22%3A%20%22landsat-c2l2-sr%22%2C%20%22datetime%22%3A%20%222020-08-02%22%2C%20%22eo%3Abands%22%3A%20%5B%7B%22center_wavelength%22%3A%200.44%2C%20%22common_name%22%3A%20%22coastal%22%2C%20%22gsd%22%3A%2030%2C%20%22name%22%3A%20%22SR_B1%22%7D%2C%20%7B%22center_wavelength%22%3A%200.48%2C%20%22common_name%22%3A%20%22blue%22%2C%20%22gsd%22%3A%2030%2C%20%22name%22%3A%20%22SR_B2%22%7D%2C%20%7B%22center_wavelength%22%3A%200.56%2C%20%22common_name%22%3A%20%22green%22%2C%20%22gsd%22%3A%2030%2C%20%22name%22%3A%20%22SR_B3%22%7D%2C%20%7B%22center_wavelength%22%3A%200.65%2C%20%22common_name%22%3A%20%22red%22%2C%20%22gsd%22%3A%2030%2C%20%22name%22%3A%20%22SR_B4%22%7D%2C%20%7B%22center_wavelength%22%3A%200.86%2C%20%22common_name%22%3A%20%22nir08%22%2C%20%22gsd%22%3A%2030%2C%20%22name%22%3A%20%22SR_B5%22%7D%2C%20%7B%22center_wavelength%22%3A%201.6%2C%20%22common_name%22%3A%20%22swir16%22%2C%20%22gsd%22%3A%2030%2C%20%22name%22%3A%20%22SR_B6%22%7D%2C%20%7B%22center_wavelength%22%3A%202.2%2C%20%22common_name%22%3A%20%22swir22%22%2C%20%22gsd%22%3A%2030%2C%20%22name%22%3A%20%22SR_B7%22%7D%5D%2C%20%22eo%3Acloud_cover%22%3A%2011.67%2C%20%22eo%3Agsd%22%3A%2030%2C%20%22eo%3Ainstrument%22%3A%20%22OLI_TIRS%22%2C%20%22eo%3Aoff_nadir%22%3A%200%2C%20%22eo%3Aplatform%22%3A%20%22LANDSAT_8%22%2C%20%22eo%3Asun_azimuth%22%3A%20150.74454144%2C%20%22eo%3Asun_elevation%22%3A%2052.95761575%2C%20%22landsat%3Acloud_cover_land%22%3A%2011.67%2C%20%22landsat%3Acollection_category%22%3A%20%22T1%22%2C%20%22landsat%3Acollection_number%22%3A%20%2202%22%2C%20%22landsat%3Ascene_id%22%3A%20%22LC80430242020215LGN00%22%2C%20%22landsat%3Awrs_path%22%3A%20%2243%22%2C%20%22landsat%3Awrs_row%22%3A%20%2224%22%2C%20%22landsat%3Awrs_type%22%3A%20%222%22%7D%2C%20%22type%22%3A%20%22Feature%22%7D%2C%20%7B%22bbox%22%3A%20%5B-117.62379826029208%2C%2049.20290726997375%2C%20-114.37245652513333%2C%2051.34501924074813%5D%2C%20%22geometry%22%3A%20%7B%22coordinates%22%3A%20%5B%5B%5B-116.94321437504824%2C%2051.34501924074813%5D%2C%20%5B-114.37245652513333%2C%2050.89785668934269%5D%2C%20%5B-115.14141612753961%2C%2049.20290726997375%5D%2C%20%5B-117.62379826029208%2C%2049.64389173036654%5D%2C%20%5B-116.94321437504824%2C%2051.34501924074813%5D%5D%5D%2C%20%22type%22%3A%20%22Polygon%22%7D%2C%20%22id%22%3A%20%229%22%2C%20%22properties%22%3A%20%7B%22collection%22%3A%20%22landsat-c2l2-sr%22%2C%20%22datetime%22%3A%20%222020-08-02%22%2C%20%22eo%3Abands%22%3A%20%5B%7B%22center_wavelength%22%3A%200.44%2C%20%22common_name%22%3A%20%22coastal%22%2C%20%22gsd%22%3A%2030%2C%20%22name%22%3A%20%22SR_B1%22%7D%2C%20%7B%22center_wavelength%22%3A%200.48%2C%20%22common_name%22%3A%20%22blue%22%2C%20%22gsd%22%3A%2030%2C%20%22name%22%3A%20%22SR_B2%22%7D%2C%20%7B%22center_wavelength%22%3A%200.56%2C%20%22common_name%22%3A%20%22green%22%2C%20%22gsd%22%3A%2030%2C%20%22name%22%3A%20%22SR_B3%22%7D%2C%20%7B%22center_wavelength%22%3A%200.65%2C%20%22common_name%22%3A%20%22red%22%2C%20%22gsd%22%3A%2030%2C%20%22name%22%3A%20%22SR_B4%22%7D%2C%20%7B%22center_wavelength%22%3A%200.86%2C%20%22common_name%22%3A%20%22nir08%22%2C%20%22gsd%22%3A%2030%2C%20%22name%22%3A%20%22SR_B5%22%7D%2C%20%7B%22center_wavelength%22%3A%201.6%2C%20%22common_name%22%3A%20%22swir16%22%2C%20%22gsd%22%3A%2030%2C%20%22name%22%3A%20%22SR_B6%22%7D%2C%20%7B%22center_wavelength%22%3A%202.2%2C%20%22common_name%22%3A%20%22swir22%22%2C%20%22gsd%22%3A%2030%2C%20%22name%22%3A%20%22SR_B7%22%7D%5D%2C%20%22eo%3Acloud_cover%22%3A%206.58%2C%20%22eo%3Agsd%22%3A%2030%2C%20%22eo%3Ainstrument%22%3A%20%22OLI_TIRS%22%2C%20%22eo%3Aoff_nadir%22%3A%200%2C%20%22eo%3Aplatform%22%3A%20%22LANDSAT_8%22%2C%20%22eo%3Asun_azimuth%22%3A%20148.99981388%2C%20%22eo%3Asun_elevation%22%3A%2054.01427389%2C%20%22landsat%3Acloud_cover_land%22%3A%206.58%2C%20%22landsat%3Acollection_category%22%3A%20%22T1%22%2C%20%22landsat%3Acollection_number%22%3A%20%2202%22%2C%20%22landsat%3Ascene_id%22%3A%20%22LC80430252020215LGN00%22%2C%20%22landsat%3Awrs_path%22%3A%20%2243%22%2C%20%22landsat%3Awrs_row%22%3A%20%2225%22%2C%20%22landsat%3Awrs_type%22%3A%20%222%22%7D%2C%20%22type%22%3A%20%22Feature%22%7D%2C%20%7B%22bbox%22%3A%20%5B-116.08587359674867%2C%2049.20324854607921%2C%20-112.83315337343183%2C%2051.345205082552624%5D%2C%20%22geometry%22%3A%20%7B%22coordinates%22%3A%20%5B%5B%5B-115.40284366841352%2C%2051.345205082552624%5D%2C%20%5B-112.83315337343183%2C%2050.897811151453816%5D%2C%20%5B-113.60336371930345%2C%2049.20324854607921%5D%2C%20%5B-116.08587359674867%2C%2049.64385237768459%5D%2C%20%5B-115.40284366841352%2C%2051.345205082552624%5D%5D%5D%2C%20%22type%22%3A%20%22Polygon%22%7D%2C%20%22id%22%3A%20%2210%22%2C%20%22properties%22%3A%20%7B%22collection%22%3A%20%22landsat-c2l2-sr%22%2C%20%22datetime%22%3A%20%222020-07-26%22%2C%20%22eo%3Abands%22%3A%20%5B%7B%22center_wavelength%22%3A%200.44%2C%20%22common_name%22%3A%20%22coastal%22%2C%20%22gsd%22%3A%2030%2C%20%22name%22%3A%20%22SR_B1%22%7D%2C%20%7B%22center_wavelength%22%3A%200.48%2C%20%22common_name%22%3A%20%22blue%22%2C%20%22gsd%22%3A%2030%2C%20%22name%22%3A%20%22SR_B2%22%7D%2C%20%7B%22center_wavelength%22%3A%200.56%2C%20%22common_name%22%3A%20%22green%22%2C%20%22gsd%22%3A%2030%2C%20%22name%22%3A%20%22SR_B3%22%7D%2C%20%7B%22center_wavelength%22%3A%200.65%2C%20%22common_name%22%3A%20%22red%22%2C%20%22gsd%22%3A%2030%2C%20%22name%22%3A%20%22SR_B4%22%7D%2C%20%7B%22center_wavelength%22%3A%200.86%2C%20%22common_name%22%3A%20%22nir08%22%2C%20%22gsd%22%3A%2030%2C%20%22name%22%3A%20%22SR_B5%22%7D%2C%20%7B%22center_wavelength%22%3A%201.6%2C%20%22common_name%22%3A%20%22swir16%22%2C%20%22gsd%22%3A%2030%2C%20%22name%22%3A%20%22SR_B6%22%7D%2C%20%7B%22center_wavelength%22%3A%202.2%2C%20%22common_name%22%3A%20%22swir22%22%2C%20%22gsd%22%3A%2030%2C%20%22name%22%3A%20%22SR_B7%22%7D%5D%2C%20%22eo%3Acloud_cover%22%3A%200.83%2C%20%22eo%3Agsd%22%3A%2030%2C%20%22eo%3Ainstrument%22%3A%20%22OLI_TIRS%22%2C%20%22eo%3Aoff_nadir%22%3A%200%2C%20%22eo%3Aplatform%22%3A%20%22LANDSAT_8%22%2C%20%22eo%3Asun_azimuth%22%3A%20147.80793387%2C%20%22eo%3Asun_elevation%22%3A%2055.58288975%2C%20%22landsat%3Acloud_cover_land%22%3A%200.83%2C%20%22landsat%3Acollection_category%22%3A%20%22T1%22%2C%20%22landsat%3Acollection_number%22%3A%20%2202%22%2C%20%22landsat%3Ascene_id%22%3A%20%22LC80420252020208LGN00%22%2C%20%22landsat%3Awrs_path%22%3A%20%2242%22%2C%20%22landsat%3Awrs_row%22%3A%20%2225%22%2C%20%22landsat%3Awrs_type%22%3A%20%222%22%7D%2C%20%22type%22%3A%20%22Feature%22%7D%2C%20%7B%22bbox%22%3A%20%5B-115.52006798574457%2C%2050.612191568823434%2C%20-112.15501077458795%2C%2052.7601930541689%5D%2C%20%22geometry%22%3A%20%7B%22coordinates%22%3A%20%5B%5B%5B-114.80496904411665%2C%2052.7601930541689%5D%2C%20%5B-112.15501077458795%2C%2052.30261575072797%5D%2C%20%5B-112.96585935256599%2C%2050.612191568823434%5D%2C%20%5B-115.52006798574457%2C%2051.06119202835118%5D%2C%20%5B-114.80496904411665%2C%2052.7601930541689%5D%5D%5D%2C%20%22type%22%3A%20%22Polygon%22%7D%2C%20%22id%22%3A%20%2211%22%2C%20%22properties%22%3A%20%7B%22collection%22%3A%20%22landsat-c2l2-sr%22%2C%20%22datetime%22%3A%20%222020-07-26%22%2C%20%22eo%3Abands%22%3A%20%5B%7B%22center_wavelength%22%3A%200.44%2C%20%22common_name%22%3A%20%22coastal%22%2C%20%22gsd%22%3A%2030%2C%20%22name%22%3A%20%22SR_B1%22%7D%2C%20%7B%22center_wavelength%22%3A%200.48%2C%20%22common_name%22%3A%20%22blue%22%2C%20%22gsd%22%3A%2030%2C%20%22name%22%3A%20%22SR_B2%22%7D%2C%20%7B%22center_wavelength%22%3A%200.56%2C%20%22common_name%22%3A%20%22green%22%2C%20%22gsd%22%3A%2030%2C%20%22name%22%3A%20%22SR_B3%22%7D%2C%20%7B%22center_wavelength%22%3A%200.65%2C%20%22common_name%22%3A%20%22red%22%2C%20%22gsd%22%3A%2030%2C%20%22name%22%3A%20%22SR_B4%22%7D%2C%20%7B%22center_wavelength%22%3A%200.86%2C%20%22common_name%22%3A%20%22nir08%22%2C%20%22gsd%22%3A%2030%2C%20%22name%22%3A%20%22SR_B5%22%7D%2C%20%7B%22center_wavelength%22%3A%201.6%2C%20%22common_name%22%3A%20%22swir16%22%2C%20%22gsd%22%3A%2030%2C%20%22name%22%3A%20%22SR_B6%22%7D%2C%20%7B%22center_wavelength%22%3A%202.2%2C%20%22common_name%22%3A%20%22swir22%22%2C%20%22gsd%22%3A%2030%2C%20%22name%22%3A%20%22SR_B7%22%7D%5D%2C%20%22eo%3Acloud_cover%22%3A%200.11%2C%20%22eo%3Agsd%22%3A%2030%2C%20%22eo%3Ainstrument%22%3A%20%22OLI_TIRS%22%2C%20%22eo%3Aoff_nadir%22%3A%200%2C%20%22eo%3Aplatform%22%3A%20%22LANDSAT_8%22%2C%20%22eo%3Asun_azimuth%22%3A%20149.66257582%2C%20%22eo%3Asun_elevation%22%3A%2054.54605922%2C%20%22landsat%3Acloud_cover_land%22%3A%200.11%2C%20%22landsat%3Acollection_category%22%3A%20%22T1%22%2C%20%22landsat%3Acollection_number%22%3A%20%2202%22%2C%20%22landsat%3Ascene_id%22%3A%20%22LC80420242020208LGN00%22%2C%20%22landsat%3Awrs_path%22%3A%20%2242%22%2C%20%22landsat%3Awrs_row%22%3A%20%2224%22%2C%20%22landsat%3Awrs_type%22%3A%20%222%22%7D%2C%20%22type%22%3A%20%22Feature%22%7D%2C%20%7B%22bbox%22%3A%20%5B-115.52006798574457%2C%2050.612191568823434%2C%20-112.15501077458795%2C%2052.7601930541689%5D%2C%20%22geometry%22%3A%20%7B%22coordinates%22%3A%20%5B%5B%5B-114.80496904411665%2C%2052.7601930541689%5D%2C%20%5B-112.15501077458795%2C%2052.30261575072797%5D%2C%20%5B-112.96585935256599%2C%2050.612191568823434%5D%2C%20%5B-115.52006798574457%2C%2051.06119202835118%5D%2C%20%5B-114.80496904411665%2C%2052.7601930541689%5D%5D%5D%2C%20%22type%22%3A%20%22Polygon%22%7D%2C%20%22id%22%3A%20%2212%22%2C%20%22properties%22%3A%20%7B%22collection%22%3A%20%22landsat-c2l2-sr%22%2C%20%22datetime%22%3A%20%222020-07-26%22%2C%20%22eo%3Abands%22%3A%20%5B%7B%22center_wavelength%22%3A%200.44%2C%20%22common_name%22%3A%20%22coastal%22%2C%20%22gsd%22%3A%2030%2C%20%22name%22%3A%20%22SR_B1%22%7D%2C%20%7B%22center_wavelength%22%3A%200.48%2C%20%22common_name%22%3A%20%22blue%22%2C%20%22gsd%22%3A%2030%2C%20%22name%22%3A%20%22SR_B2%22%7D%2C%20%7B%22center_wavelength%22%3A%200.56%2C%20%22common_name%22%3A%20%22green%22%2C%20%22gsd%22%3A%2030%2C%20%22name%22%3A%20%22SR_B3%22%7D%2C%20%7B%22center_wavelength%22%3A%200.65%2C%20%22common_name%22%3A%20%22red%22%2C%20%22gsd%22%3A%2030%2C%20%22name%22%3A%20%22SR_B4%22%7D%2C%20%7B%22center_wavelength%22%3A%200.86%2C%20%22common_name%22%3A%20%22nir08%22%2C%20%22gsd%22%3A%2030%2C%20%22name%22%3A%20%22SR_B5%22%7D%2C%20%7B%22center_wavelength%22%3A%201.6%2C%20%22common_name%22%3A%20%22swir16%22%2C%20%22gsd%22%3A%2030%2C%20%22name%22%3A%20%22SR_B6%22%7D%2C%20%7B%22center_wavelength%22%3A%202.2%2C%20%22common_name%22%3A%20%22swir22%22%2C%20%22gsd%22%3A%2030%2C%20%22name%22%3A%20%22SR_B7%22%7D%5D%2C%20%22eo%3Acloud_cover%22%3A%200.11%2C%20%22eo%3Agsd%22%3A%2030%2C%20%22eo%3Ainstrument%22%3A%20%22OLI_TIRS%22%2C%20%22eo%3Aoff_nadir%22%3A%200%2C%20%22eo%3Aplatform%22%3A%20%22LANDSAT_8%22%2C%20%22eo%3Asun_azimuth%22%3A%20149.66257582%2C%20%22eo%3Asun_elevation%22%3A%2054.54605922%2C%20%22landsat%3Acloud_cover_land%22%3A%200.11%2C%20%22landsat%3Acollection_category%22%3A%20%22T1%22%2C%20%22landsat%3Acollection_number%22%3A%20%2202%22%2C%20%22landsat%3Ascene_id%22%3A%20%22LC80420242020208LGN00%22%2C%20%22landsat%3Awrs_path%22%3A%20%22042%22%2C%20%22landsat%3Awrs_row%22%3A%20%22024%22%2C%20%22landsat%3Awrs_type%22%3A%20%222%22%7D%2C%20%22type%22%3A%20%22Feature%22%7D%2C%20%7B%22bbox%22%3A%20%5B-116.08587359674867%2C%2049.20324854607921%2C%20-112.83315337343183%2C%2051.345205082552624%5D%2C%20%22geometry%22%3A%20%7B%22coordinates%22%3A%20%5B%5B%5B-115.40284366841352%2C%2051.345205082552624%5D%2C%20%5B-112.83315337343183%2C%2050.897811151453816%5D%2C%20%5B-113.60336371930345%2C%2049.20324854607921%5D%2C%20%5B-116.08587359674867%2C%2049.64385237768459%5D%2C%20%5B-115.40284366841352%2C%2051.345205082552624%5D%5D%5D%2C%20%22type%22%3A%20%22Polygon%22%7D%2C%20%22id%22%3A%20%2213%22%2C%20%22properties%22%3A%20%7B%22collection%22%3A%20%22landsat-c2l2-sr%22%2C%20%22datetime%22%3A%20%222020-07-26%22%2C%20%22eo%3Abands%22%3A%20%5B%7B%22center_wavelength%22%3A%200.44%2C%20%22common_name%22%3A%20%22coastal%22%2C%20%22gsd%22%3A%2030%2C%20%22name%22%3A%20%22SR_B1%22%7D%2C%20%7B%22center_wavelength%22%3A%200.48%2C%20%22common_name%22%3A%20%22blue%22%2C%20%22gsd%22%3A%2030%2C%20%22name%22%3A%20%22SR_B2%22%7D%2C%20%7B%22center_wavelength%22%3A%200.56%2C%20%22common_name%22%3A%20%22green%22%2C%20%22gsd%22%3A%2030%2C%20%22name%22%3A%20%22SR_B3%22%7D%2C%20%7B%22center_wavelength%22%3A%200.65%2C%20%22common_name%22%3A%20%22red%22%2C%20%22gsd%22%3A%2030%2C%20%22name%22%3A%20%22SR_B4%22%7D%2C%20%7B%22center_wavelength%22%3A%200.86%2C%20%22common_name%22%3A%20%22nir08%22%2C%20%22gsd%22%3A%2030%2C%20%22name%22%3A%20%22SR_B5%22%7D%2C%20%7B%22center_wavelength%22%3A%201.6%2C%20%22common_name%22%3A%20%22swir16%22%2C%20%22gsd%22%3A%2030%2C%20%22name%22%3A%20%22SR_B6%22%7D%2C%20%7B%22center_wavelength%22%3A%202.2%2C%20%22common_name%22%3A%20%22swir22%22%2C%20%22gsd%22%3A%2030%2C%20%22name%22%3A%20%22SR_B7%22%7D%5D%2C%20%22eo%3Acloud_cover%22%3A%200.83%2C%20%22eo%3Agsd%22%3A%2030%2C%20%22eo%3Ainstrument%22%3A%20%22OLI_TIRS%22%2C%20%22eo%3Aoff_nadir%22%3A%200%2C%20%22eo%3Aplatform%22%3A%20%22LANDSAT_8%22%2C%20%22eo%3Asun_azimuth%22%3A%20147.80793387%2C%20%22eo%3Asun_elevation%22%3A%2055.58288975%2C%20%22landsat%3Acloud_cover_land%22%3A%200.83%2C%20%22landsat%3Acollection_category%22%3A%20%22T1%22%2C%20%22landsat%3Acollection_number%22%3A%20%2202%22%2C%20%22landsat%3Ascene_id%22%3A%20%22LC80420252020208LGN00%22%2C%20%22landsat%3Awrs_path%22%3A%20%2242%22%2C%20%22landsat%3Awrs_row%22%3A%20%2225%22%2C%20%22landsat%3Awrs_type%22%3A%20%222%22%7D%2C%20%22type%22%3A%20%22Feature%22%7D%2C%20%7B%22bbox%22%3A%20%5B-115.52737551849651%2C%2050.61206974715602%2C%20-112.16160895016733%2C%2052.760233970753276%5D%2C%20%22geometry%22%3A%20%7B%22coordinates%22%3A%20%5B%5B%5B-114.8120898816081%2C%2052.760233970753276%5D%2C%20%5B-112.16160895016733%2C%2052.30255103899191%5D%2C%20%5B-112.97306326382127%2C%2050.61206974715602%5D%2C%20%5B-115.52737551849651%2C%2051.061448539403095%5D%2C%20%5B-114.8120898816081%2C%2052.760233970753276%5D%5D%5D%2C%20%22type%22%3A%20%22Polygon%22%7D%2C%20%22id%22%3A%20%2214%22%2C%20%22properties%22%3A%20%7B%22collection%22%3A%20%22landsat-c2l2-sr%22%2C%20%22datetime%22%3A%20%222020-07-10%22%2C%20%22eo%3Abands%22%3A%20%5B%7B%22center_wavelength%22%3A%200.44%2C%20%22common_name%22%3A%20%22coastal%22%2C%20%22gsd%22%3A%2030%2C%20%22name%22%3A%20%22SR_B1%22%7D%2C%20%7B%22center_wavelength%22%3A%200.48%2C%20%22common_name%22%3A%20%22blue%22%2C%20%22gsd%22%3A%2030%2C%20%22name%22%3A%20%22SR_B2%22%7D%2C%20%7B%22center_wavelength%22%3A%200.56%2C%20%22common_name%22%3A%20%22green%22%2C%20%22gsd%22%3A%2030%2C%20%22name%22%3A%20%22SR_B3%22%7D%2C%20%7B%22center_wavelength%22%3A%200.65%2C%20%22common_name%22%3A%20%22red%22%2C%20%22gsd%22%3A%2030%2C%20%22name%22%3A%20%22SR_B4%22%7D%2C%20%7B%22center_wavelength%22%3A%200.86%2C%20%22common_name%22%3A%20%22nir08%22%2C%20%22gsd%22%3A%2030%2C%20%22name%22%3A%20%22SR_B5%22%7D%2C%20%7B%22center_wavelength%22%3A%201.6%2C%20%22common_name%22%3A%20%22swir16%22%2C%20%22gsd%22%3A%2030%2C%20%22name%22%3A%20%22SR_B6%22%7D%2C%20%7B%22center_wavelength%22%3A%202.2%2C%20%22common_name%22%3A%20%22swir22%22%2C%20%22gsd%22%3A%2030%2C%20%22name%22%3A%20%22SR_B7%22%7D%5D%2C%20%22eo%3Acloud_cover%22%3A%2018.2%2C%20%22eo%3Agsd%22%3A%2030%2C%20%22eo%3Ainstrument%22%3A%20%22OLI_TIRS%22%2C%20%22eo%3Aoff_nadir%22%3A%200%2C%20%22eo%3Aplatform%22%3A%20%22LANDSAT_8%22%2C%20%22eo%3Asun_azimuth%22%3A%20148.26694502%2C%20%22eo%3Asun_elevation%22%3A%2057.34320906%2C%20%22landsat%3Acloud_cover_land%22%3A%2018.2%2C%20%22landsat%3Acollection_category%22%3A%20%22T1%22%2C%20%22landsat%3Acollection_number%22%3A%20%2202%22%2C%20%22landsat%3Ascene_id%22%3A%20%22LC80420242020192LGN00%22%2C%20%22landsat%3Awrs_path%22%3A%20%2242%22%2C%20%22landsat%3Awrs_row%22%3A%20%2224%22%2C%20%22landsat%3Awrs_type%22%3A%20%222%22%7D%2C%20%22type%22%3A%20%22Feature%22%7D%5D%2C%20%22type%22%3A%20%22FeatureCollection%22%7D%29%3B%0A%0A%20%20%20%20%20%20%20%20%0A%20%20%20%20%0A%20%20%20%20%20%20%20%20function%20geo_json_ca15ce41ef174683b1d483bee1248efc_styler%28feature%29%20%7B%0A%20%20%20%20%20%20%20%20%20%20%20%20switch%28feature.id%29%20%7B%0A%20%20%20%20%20%20%20%20%20%20%20%20%20%20%20%20default%3A%0A%20%20%20%20%20%20%20%20%20%20%20%20%20%20%20%20%20%20%20%20return%20%7B%22color%22%3A%20%22%23ff0000%22%2C%20%22fillColor%22%3A%20%22%23ff0000%22%7D%3B%0A%20%20%20%20%20%20%20%20%20%20%20%20%7D%0A%20%20%20%20%20%20%20%20%7D%0A%0A%20%20%20%20%20%20%20%20function%20geo_json_ca15ce41ef174683b1d483bee1248efc_onEachFeature%28feature%2C%20layer%29%20%7B%0A%20%20%20%20%20%20%20%20%20%20%20%20layer.on%28%7B%0A%20%20%20%20%20%20%20%20%20%20%20%20%7D%29%3B%0A%20%20%20%20%20%20%20%20%7D%3B%0A%20%20%20%20%20%20%20%20var%20geo_json_ca15ce41ef174683b1d483bee1248efc%20%3D%20L.geoJson%28null%2C%20%7B%0A%20%20%20%20%20%20%20%20%20%20%20%20%20%20%20%20onEachFeature%3A%20geo_json_ca15ce41ef174683b1d483bee1248efc_onEachFeature%2C%0A%20%20%20%20%20%20%20%20%20%20%20%20%0A%20%20%20%20%20%20%20%20%20%20%20%20%20%20%20%20style%3A%20geo_json_ca15ce41ef174683b1d483bee1248efc_styler%2C%0A%20%20%20%20%20%20%20%20%7D%29%3B%0A%0A%20%20%20%20%20%20%20%20function%20geo_json_ca15ce41ef174683b1d483bee1248efc_add%20%28data%29%20%7B%0A%20%20%20%20%20%20%20%20%20%20%20%20geo_json_ca15ce41ef174683b1d483bee1248efc%0A%20%20%20%20%20%20%20%20%20%20%20%20%20%20%20%20.addData%28data%29%0A%20%20%20%20%20%20%20%20%20%20%20%20%20%20%20%20.addTo%28map_6aa348a6ac6d4a3c8f5ee04bd50f8e8c%29%3B%0A%20%20%20%20%20%20%20%20%7D%0A%20%20%20%20%20%20%20%20%20%20%20%20geo_json_ca15ce41ef174683b1d483bee1248efc_add%28%7B%22features%22%3A%20%5B%7B%22geometry%22%3A%20%7B%22coordinates%22%3A%20%5B%5B%5B-115.5%2C%2050.5%5D%2C%20%5B-115.5%2C%2051.5%5D%2C%20%5B-116.5%2C%2051.5%5D%2C%20%5B-116.5%2C%2050.5%5D%2C%20%5B-115.5%2C%2050.5%5D%5D%5D%2C%20%22type%22%3A%20%22Polygon%22%7D%2C%20%22id%22%3A%20%220%22%2C%20%22type%22%3A%20%22Feature%22%7D%5D%2C%20%22type%22%3A%20%22FeatureCollection%22%7D%29%3B%0A%0A%20%20%20%20%20%20%20%20%0A%3C/script%3E onload=\"this.contentDocument.open();this.contentDocument.write(    decodeURIComponent(this.getAttribute('data-html')));this.contentDocument.close();\" allowfullscreen webkitallowfullscreen mozallowfullscreen></iframe></div></div>"
      ],
      "text/plain": [
       "<folium.folium.Map at 0x7f47fecedb10>"
      ]
     },
     "execution_count": 26,
     "metadata": {},
     "output_type": "execute_result"
    }
   ],
   "source": [
    "#sc_bbox = scenes_poly.total_bounds #scene boundaries is not as useful as the original bbox to query\n",
    "# TODO: loop over years to check that the bbox is covered, n < 8 in 1 year testing has less than full coverage.\n",
    "sc_bbox = bbox_list[1]\n",
    "sc_bbox_polygon = shp.geometry.box(sc_bbox[0], sc_bbox[1], sc_bbox[2], sc_bbox[3])\n",
    "center = sc_bbox_polygon.centroid\n",
    "\n",
    "m = folium.Map(\n",
    "    location=[center.y,center.x],\n",
    "    tiles=\"cartodbpositron\",\n",
    "    zoom_start=6,\n",
    ")\n",
    "\n",
    "bbox_style = {'fillColor': '#ff0000', 'color': '#ff0000'}\n",
    "\n",
    "folium.GeoJson(scenes_poly, name=\"geojson\").add_to(m)\n",
    "folium.GeoJson(sc_bbox_polygon,\n",
    "               name=\"bbox\",\n",
    "               style_function=lambda x:bbox_style).add_to(m)\n",
    "\n",
    "m"
   ]
  },
  {
   "cell_type": "markdown",
   "metadata": {},
   "source": [
    "### Cache the results\n",
    "\n",
    "> Note: For testing purposes, a local copy of a sample bbox was downloaded. In the real analysis the DPS jobs will read data as needed directly from USGS buckets. This code is here simply to demonstrate how it can be done.\n",
    "\n",
    "TODO move data reading to next step.\n",
    "\n",
    "1. Cache the json from the query (save as files)\n",
    "1. Loop over a few of them, and download the source\n",
    "1. Write a new copy of the json with internal ADE urls to the same files"
   ]
  },
  {
   "cell_type": "code",
   "execution_count": 18,
   "metadata": {},
   "outputs": [],
   "source": [
    "import boto3\n",
    "import botocore\n",
    "\n",
    "aws_session2 = boto3.session.Session(\n",
    "    aws_access_key_id=aws_access_key_id,\n",
    "    aws_secret_access_key=aws_secret_access_key,\n",
    ")\n",
    "s3 = aws_session2.resource('s3')"
   ]
  },
  {
   "cell_type": "code",
   "execution_count": 7,
   "metadata": {},
   "outputs": [],
   "source": [
    "# read the json file catalog\n",
    "def write_local_data_and_catalog(catalog, bands):\n",
    "    '''Given path to a response json from a sat-api query, make a copy changing urls to local paths'''\n",
    "    with open(catalog) as f:\n",
    "        asset_catalog = json.load(f)\n",
    "        for feature in asset_catalog['features']:\n",
    "            new_dir = os.path.join(save_path, feature['id'])\n",
    "            if (not os.path.isdir(new_dir)): os.mkdir(new_dir)\n",
    "            #download the assests\n",
    "            for band in bands:\n",
    "                try:\n",
    "                    key = feature['assets'][f'SR_{band}.TIF']['href'].replace('https://landsatlook.usgs.gov/data/', '')\n",
    "                    output_file = os.path.join(new_dir, os.path.basename(key))\n",
    "                    #print(key)\n",
    "                    ## Uncomment next line to actually download the data as a local sample\n",
    "                    #s3.Bucket('usgs-landsat').download_file(key, output_file, ExtraArgs={'RequestPayer':'requester'})\n",
    "                    feature['assets'][f'SR_{band}.TIF']['href'] = output_file\n",
    "                except botocore.exceptions.ClientError as e:\n",
    "                    if e.response['Error']['Code'] == \"404\":\n",
    "                        print(\"The object does not exist.\")\n",
    "                    else:\n",
    "                        raise\n",
    "        # save and updated catalog with local paths\n",
    "        local_catalog = catalog.replace('response', 'locals3')\n",
    "        with open(local_catalog,'w') as jsonfile:\n",
    "            json.dump(asset_catalog, jsonfile)\n",
    "        \n",
    "        return local_catalog"
   ]
  },
  {
   "cell_type": "code",
   "execution_count": 8,
   "metadata": {},
   "outputs": [],
   "source": [
    "# if not catalogs then read file names from save_path response-{yr}.json\n",
    "bands = [''.join([\"B\",str(item)])for item in range(2,8,1)]\n",
    "local_catalogs = [write_local_data_and_catalog(catalog, bands) for catalog in catalogs]"
   ]
  },
  {
   "cell_type": "code",
   "execution_count": 33,
   "metadata": {},
   "outputs": [
    {
     "data": {
      "text/plain": [
       "'/projects/alexdevseed/landsat8/sample2/local-2015.json'"
      ]
     },
     "execution_count": 33,
     "metadata": {},
     "output_type": "execute_result"
    }
   ],
   "source": [
    "write_local_data_and_catalog(catalogs[0], bands)"
   ]
  },
  {
   "cell_type": "code",
   "execution_count": 16,
   "metadata": {},
   "outputs": [],
   "source": [
    "#write a maap s3 based catalog\n",
    "def write_local_data_and_catalog_s3(catalog, bands):\n",
    "    '''Given path to a response json from a sat-api query, make a copy changing urls to local paths'''\n",
    "    with open(catalog) as f:\n",
    "        asset_catalog = json.load(f)\n",
    "        for feature in asset_catalog['features']:\n",
    "            #new_dir = os.path.join(save_path, feature['id'])\n",
    "            #if (not os.path.isdir(new_dir)): os.mkdir(new_dir)\n",
    "            #download the assests\n",
    "            for band in bands:\n",
    "                try:\n",
    "                    key = feature['assets'][f'SR_{band}.TIF']['href'].replace(\n",
    "                        'https://landsatlook.usgs.gov/data/',\n",
    "                        '')\n",
    "                    output_file = os.path.join(\n",
    "                        f's3://maap-ops-dataset/alexdevseed/landsat8/sample2/{feature[\"id\"]}/'\n",
    "                        , os.path.basename(key))\n",
    "                    #print(key)\n",
    "                    ## Uncomment next line to actually download the data as a local sample\n",
    "                    #s3.Bucket('usgs-landsat').download_file(key, output_file, ExtraArgs={'RequestPayer':'requester'})\n",
    "                    feature['assets'][f'SR_{band}.TIF']['href'] = output_file\n",
    "                except botocore.exceptions.ClientError as e:\n",
    "                    if e.response['Error']['Code'] == \"404\":\n",
    "                        print(\"The object does not exist.\")\n",
    "                    else:\n",
    "                        raise\n",
    "        # save and updated catalog with local paths\n",
    "        local_catalog = catalog.replace('response', 'locals3')\n",
    "        with open(local_catalog,'w') as jsonfile:\n",
    "            json.dump(asset_catalog, jsonfile)\n",
    "        \n",
    "        return local_catalog"
   ]
  },
  {
   "cell_type": "code",
   "execution_count": 17,
   "metadata": {},
   "outputs": [],
   "source": [
    "# if not catalogs then read file names from save_path response-{yr}.json\n",
    "bands = [''.join([\"B\",str(item)])for item in range(2,7,1)]\n",
    "local_catalogs = [write_local_data_and_catalog_s3(catalog, bands) for catalog in catalogs]"
   ]
  },
  {
   "cell_type": "code",
   "execution_count": null,
   "metadata": {
    "tags": [
     "outputPrepend"
    ]
   },
   "outputs": [],
   "source": [
    "## Retrieving Pixels\n",
    "bands = [2,3,4,5,6]\n",
    "bbox = bbox_list[1]\n",
    "# TODO: \n",
    "# Loop over each scene\n",
    "response = response_by_year[1]\n",
    "# Each season should actually be it's own DPS job\n",
    "for item in response['features']:\n",
    "    # for each scene Loop over bands 2,3,4,5,6 (assets)\n",
    "    for band in bands:\n",
    "        # For each scene, read subset set by bounding box\n",
    "        asset = item['assets'][f'SR_B{band}.TIF']['href']\n",
    "        # Convert to S3 url for use with requester pays\n",
    "        cog = asset.replace('https://landsatlook.usgs.gov/data/', 's3://usgs-landsat/')\n",
    "        print(cog) \n",
    "        # Since the source files are per band, the 1st band in a given file is default\n",
    "        # Bound Box reprojected on the fly to the native projection of the asset\n",
    "        #subset, crs, transform = extract_subset(cog, bbox, 1)\n",
    "\n",
    "    # stack the bands into the same array with n layers (z direction)?\n",
    "    # optional: calculate indexes based on the bands and store as additional layers\n",
    "    # save cog to disk (could be a kea or Zarr(xarray))\n",
    "# after looping, make a VRT of cogs so it can be treated as a single file ?\n",
    "\n",
    "# Questions, \n",
    "# 1. should the tiling scheme be LonLat 1 degree, the end Equal area projection, or utm zone based? take bbox reproject to LonLat for the query\n",
    "# 2. do we need the QA band or can we do that separate, the only limitation on cogs is that the storage type needs to be identical in all bands. Kea or Zarr could accomodate, or if the pixels are cloud filtered before saving the stack then a COG is ok."
   ]
  },
  {
   "cell_type": "code",
   "execution_count": 18,
   "metadata": {},
   "outputs": [
    {
     "name": "stdout",
     "output_type": "stream",
     "text": [
      "{'driver': 'GTiff', 'dtype': 'uint16', 'nodata': 0.0, 'width': 7831, 'height': 7921, 'count': 1, 'crs': CRS.from_epsg(32611), 'transform': Affine(30.0, 0.0, 492885.0,\n",
      "       0.0, -30.0, 5846415.0), 'blockxsize': 256, 'blockysize': 256, 'tiled': True, 'compress': 'deflate', 'interleave': 'band'}\n"
     ]
    }
   ],
   "source": [
    "import boto3\n",
    "from rasterio.session import AWSSession\n",
    "import rasterio as rio\n",
    "aws_session = AWSSession(boto3.Session())\n",
    "with rio.Env(aws_session):\n",
    "    with rio.open('s3://maap-ops-dataset/alexdevseed/landsat8/sample2/LC08_L2SP_043024_20160604_20200906_02_T1/LC08_L2SP_043024_20160604_20200906_02_T1_SR_B4.TIF', 'r') as src:\n",
    "        print(src.profile)"
   ]
  },
  {
   "cell_type": "code",
   "execution_count": 59,
   "metadata": {},
   "outputs": [
    {
     "data": {
      "text/plain": [
       "'stuffLC08_L2SP_044024_20150812_20200909_02_T1'"
      ]
     },
     "execution_count": 59,
     "metadata": {},
     "output_type": "execute_result"
    }
   ],
   "source": [
    "test = \"LC08_L2SP_044024_20150812_20200909_02_T1_SR\"\n",
    "f'stuff{test[:-3]}'"
   ]
  }
 ],
 "metadata": {
  "kernelspec": {
   "display_name": "Python 3",
   "language": "python",
   "name": "python3"
  },
  "language_info": {
   "codemirror_mode": {
    "name": "ipython",
    "version": 3
   },
   "file_extension": ".py",
   "mimetype": "text/x-python",
   "name": "python",
   "nbconvert_exporter": "python",
   "pygments_lexer": "ipython3",
   "version": "3.7.8"
  }
 },
 "nbformat": 4,
 "nbformat_minor": 4
}
