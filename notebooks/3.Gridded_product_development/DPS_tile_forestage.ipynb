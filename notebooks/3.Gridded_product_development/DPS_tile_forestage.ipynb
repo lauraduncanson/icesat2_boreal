{
 "cells": [
  {
   "cell_type": "code",
   "execution_count": 2,
   "id": "ea7bcf9f",
   "metadata": {
    "tags": []
   },
   "outputs": [],
   "source": [
    "from maap.maap import MAAP\n",
    "maap = MAAP(maap_host='api.maap-project.org')"
   ]
  },
  {
   "cell_type": "markdown",
   "id": "330e3ace",
   "metadata": {},
   "source": [
    "# Launch DPS for `tile_forestage.py`"
   ]
  },
  {
   "cell_type": "code",
   "execution_count": 3,
   "id": "5c541eee",
   "metadata": {
    "tags": []
   },
   "outputs": [
    {
     "name": "stdout",
     "output_type": "stream",
     "text": [
      "NASA MAAP\n"
     ]
    }
   ],
   "source": [
    "import os\n",
    "import geopandas as gpd\n",
    "import pandas as pd\n",
    "import glob\n",
    "import datetime\n",
    "\n",
    "import sys\n",
    "sys.path.append('/projects/code/icesat2_boreal/lib')\n",
    "import ExtractUtils"
   ]
  },
  {
   "cell_type": "markdown",
   "id": "3dcb10ef-b19d-45dd-92b6-2144822256ad",
   "metadata": {
    "tags": []
   },
   "source": [
    "## Steps to commit, build DPS registration yaml, register DPS algorithm from yaml\n",
    "### Commit with Tag for running\n",
    "1) Tag the version of the repo that works to run your alg. Use a *tag* of `build_stack_v2024_1` or whatever is appropriate (eg, for AGB runs maybe do `boreal_agb_2023_v1` for consistency?)\n",
    "  - to maintain sanity, use this GitHub *tag* also as the `algorithm_version` that you need to supply to your algorithm config yaml  \n",
    "2) think now about how you want your output organized:  \n",
    "  - remember, the output will be like: `dps_output/<algorithm name>/<algorithm_version>/<IDENTIFIER>`  \n",
    "  - note: identifier for biomass runs should be `AGB_2020` , for height `HT_2020`  \n",
    "  - if different types of `AGB_2020` runs (eg like is you are testing different sets of parameters associated with model dev/application you can keep the results separate from one run to the next, delivering the output into different subdirs, by modifying this IDENTIFIER like this: `AGB_2020/run_param_set01`     \n",
    "    \n",
    "  \n",
    "3) follow git instructions (every time!!):  \n",
    " - git add changes  \n",
    " - git commit -m 'message'  \n",
    " - git tag -f `tile_forestage_v1`    \n",
    " - git push  \n",
    " - git push origin -f `tile_forestage_v1`  \n",
    "\n",
    "3) if it looks weird check git log to make sure tag is at same place as origin and dps"
   ]
  },
  {
   "cell_type": "markdown",
   "id": "7ba0b895-6891-4003-a625-7bd4c49869cb",
   "metadata": {},
   "source": [
    "### Use MAAP Registration call in notebook chunk to register DPS algorithm\n",
    " - We need to register a DPS algorithm called `run_build_stack_LC` before proceeding to the chunks below..."
   ]
  },
  {
   "cell_type": "code",
   "execution_count": 64,
   "id": "7810c9e6-5dc8-4969-b1f4-beb3d06e9d96",
   "metadata": {
    "tags": []
   },
   "outputs": [
    {
     "data": {
      "text/plain": [
       "'{\"code\": 200, \"message\": {\"id\": \"d792fbc54ac0fdaf73ec0dc5195d4910e4d630da\", \"short_id\": \"d792fbc5\", \"created_at\": \"2025-01-24T20:20:30.000+00:00\", \"parent_ids\": [\"3cca08adba35a8a7e0ddaf6203f42f1e813ff536\"], \"title\": \"Registering algorithm: run_tile_forestage\", \"message\": \"Registering algorithm: run_tile_forestage\", \"author_name\": \"root\", \"author_email\": \"root@f2a98435594f\", \"authored_date\": \"2025-01-24T20:20:30.000+00:00\", \"committer_name\": \"root\", \"committer_email\": \"root@f2a98435594f\", \"committed_date\": \"2025-01-24T20:20:30.000+00:00\", \"trailers\": {}, \"extended_trailers\": {}, \"web_url\": \"https://repo.maap-project.org/root/register-job-hysds-v4/-/commit/d792fbc54ac0fdaf73ec0dc5195d4910e4d630da\", \"stats\": {\"additions\": 0, \"deletions\": 0, \"total\": 0}, \"status\": \"pending\", \"project_id\": 3, \"last_pipeline\": {\"id\": 15087, \"iid\": 1869, \"project_id\": 3, \"sha\": \"d792fbc54ac0fdaf73ec0dc5195d4910e4d630da\", \"ref\": \"hysds-v5\", \"status\": \"pending\", \"source\": \"push\", \"created_at\": \"2025-01-24T20:20:31.284Z\", \"updated_at\": \"2025-01-24T20:20:31.768Z\", \"web_url\": \"https://repo.maap-project.org/root/register-job-hysds-v4/-/pipelines/15087\"}, \"job_web_url\": \"https://repo.maap-project.org/root/register-job-hysds-v4/-/jobs/15380\", \"job_log_url\": \"https://repo.maap-project.org/root/register-job-hysds-v4/-/jobs/15380/raw\"}}\\n'"
      ]
     },
     "execution_count": 64,
     "metadata": {},
     "output_type": "execute_result"
    }
   ],
   "source": [
    "maap.register_algorithm_from_yaml_file(\"/projects/code/icesat2_boreal/dps/registered/run_tile_forestage.yml\").text"
   ]
  },
  {
   "cell_type": "code",
   "execution_count": 5,
   "id": "d6cb0ec4-f54b-40ab-8b80-b0d46524342f",
   "metadata": {
    "tags": []
   },
   "outputs": [],
   "source": [
    "# Boreal Tiles \n",
    "boreal_tiles_model_ready_fn = 'https://maap-ops-workspace.s3.amazonaws.com/shared/montesano/databank/boreal_tiles_v004.gpkg'\n",
    "boreal_tiles = gpd.read_file(boreal_tiles_model_ready_fn)\n",
    "m = boreal_tiles.explore(color='red')"
   ]
  },
  {
   "cell_type": "markdown",
   "id": "836409b4",
   "metadata": {},
   "source": [
    "# Build a DPS list"
   ]
  },
  {
   "cell_type": "code",
   "execution_count": 6,
   "id": "819c19c8-5da2-417b-8489-6a21e903e460",
   "metadata": {
    "tags": []
   },
   "outputs": [
    {
     "name": "stdout",
     "output_type": "stream",
     "text": [
      "5344\n"
     ]
    }
   ],
   "source": [
    "DPS_INPUT_TILE_NUM_LIST = boreal_tiles['tile_num'].to_list()\n",
    "print(len(DPS_INPUT_TILE_NUM_LIST))"
   ]
  },
  {
   "cell_type": "code",
   "execution_count": 67,
   "id": "8857874a",
   "metadata": {
    "tags": []
   },
   "outputs": [],
   "source": [
    "RUN_MISSING_TILES = True\n",
    "MISSING_TILES = list(range(3543, 3563+1)) + list(range(3448, 3493+1)) + list(range(3355,3400+1)) +  list(range(3262,3307+1) )\n",
    "MISSING_TILES = list(range(3553, 3573+1)) + list(range(3458, 3478+1)) + list(range(3365,3385+1)) +  list(range(3272,3292+1) )\n",
    "\n",
    "if RUN_MISSING_TILES:\n",
    "    DPS_INPUT_TILE_NUM_LIST = MISSING_TILES"
   ]
  },
  {
   "cell_type": "code",
   "execution_count": 68,
   "id": "cc5082d9",
   "metadata": {
    "tags": []
   },
   "outputs": [
    {
     "data": {
      "text/plain": [
       "84"
      ]
     },
     "execution_count": 68,
     "metadata": {},
     "output_type": "execute_result"
    }
   ],
   "source": [
    "len(DPS_INPUT_TILE_NUM_LIST)"
   ]
  },
  {
   "cell_type": "markdown",
   "id": "c0fea3b7",
   "metadata": {},
   "source": [
    "#### Note: make sure the `in_params_dict` coincides with the args of `tile_forestage.py`"
   ]
  },
  {
   "cell_type": "code",
   "execution_count": 69,
   "id": "65681b96",
   "metadata": {
    "tags": []
   },
   "outputs": [],
   "source": [
    "in_params_dict = {\n",
    "            'in_url': 'https://datapub.gfz-potsdam.de/download/10.5880.GFZ.1.4.2023.006-VEnuo/GAMIv2-1_2010-2020_100m.nc',\n",
    "            'in_vector_fn': 'https://maap-ops-workspace.s3.amazonaws.com/shared/montesano/databank/boreal_tiles_v004.gpkg' ,\n",
    "            'in_id_col': 'tile_num',\n",
    "            'in_id_num': '' ,\n",
    "            'year': '2020'\n",
    "            }"
   ]
  },
  {
   "cell_type": "code",
   "execution_count": 70,
   "id": "cf6b76d6",
   "metadata": {
    "tags": []
   },
   "outputs": [
    {
     "data": {
      "text/plain": [
       "{'in_url': 'https://datapub.gfz-potsdam.de/download/10.5880.GFZ.1.4.2023.006-VEnuo/GAMIv2-1_2010-2020_100m.nc',\n",
       " 'in_vector_fn': 'https://maap-ops-workspace.s3.amazonaws.com/shared/montesano/databank/boreal_tiles_v004.gpkg',\n",
       " 'in_id_col': 'tile_num',\n",
       " 'in_id_num': '',\n",
       " 'year': '2020'}"
      ]
     },
     "execution_count": 70,
     "metadata": {},
     "output_type": "execute_result"
    }
   ],
   "source": [
    "in_params_dict"
   ]
  },
  {
   "cell_type": "markdown",
   "id": "ab36fce6-0fa4-45a4-b0b7-4d908d2347a1",
   "metadata": {},
   "source": [
    "## Setup DPS run info"
   ]
  },
  {
   "cell_type": "code",
   "execution_count": 71,
   "id": "5e619703-7095-4f06-b707-9497690434ae",
   "metadata": {
    "tags": []
   },
   "outputs": [],
   "source": [
    "# MAAP algorithm version name\n",
    "IDENTIFIER='forestage_2020'\n",
    "MAAP_VERSION = 'tile_forestage_v1'\n",
    "ALGO_ID = \"run_tile_forestage\"\n",
    "USER = 'montesano'\n",
    "WORKER_TYPE = 'maap-dps-gedi_boreal_worker-16gb'"
   ]
  },
  {
   "cell_type": "code",
   "execution_count": 72,
   "id": "01c52cde-1d06-4007-a637-34988938b099",
   "metadata": {
    "tags": []
   },
   "outputs": [
    {
     "name": "stdout",
     "output_type": "stream",
     "text": [
      "run_tile_forestage, tile_forestage_v1, forestage_2020\n"
     ]
    }
   ],
   "source": [
    "RUN_NAME = IDENTIFIER\n",
    "print(f\"{ALGO_ID}, {MAAP_VERSION}, {RUN_NAME}\")"
   ]
  },
  {
   "cell_type": "markdown",
   "id": "86193dd5",
   "metadata": {},
   "source": [
    "## Run a DPS job across the list"
   ]
  },
  {
   "cell_type": "code",
   "execution_count": 73,
   "id": "4abfe38b",
   "metadata": {
    "tags": []
   },
   "outputs": [
    {
     "name": "stdout",
     "output_type": "stream",
     "text": [
      "# of input tiles for DPS: 84\n",
      "DPS run #: 1\t| tile num: 3553\t| submit status: success\t| job id: 9e81845e-90d8-4950-8c68-09f222e827e5\n",
      "DPS run #: 5\t| tile num: 3557\t| submit status: success\t| job id: 03727cf1-5228-449f-b950-bafb8db0f57e\n",
      "DPS run #: 10\t| tile num: 3562\t| submit status: success\t| job id: 4b4310ae-bc55-4fdc-8a13-91e158718149\n",
      "DPS run #: 50\t| tile num: 3372\t| submit status: success\t| job id: b7dbd3f2-3d87-4f3c-b329-1ec8981be42a\n",
      "DPS run #: 84\t| tile num: 3292\t| submit status: success\t| job id: cfda8489-fbe7-4821-84ff-d058a9dad501\n",
      "Current time:\t202501241242\n",
      "<class 'pandas.core.frame.DataFrame'>\n",
      "Index: 84 entries, 0 to 0\n",
      "Data columns (total 10 columns):\n",
      " #   Column         Non-Null Count  Dtype \n",
      "---  ------         --------------  ----- \n",
      " 0   dps_num        84 non-null     int64 \n",
      " 1   tile_num       84 non-null     int64 \n",
      " 2   submit_time    84 non-null     object\n",
      " 3   dbs_job_hour   84 non-null     int64 \n",
      " 4   algo_id        84 non-null     object\n",
      " 5   user           84 non-null     object\n",
      " 6   worker_type    84 non-null     object\n",
      " 7   job_id         84 non-null     object\n",
      " 8   submit_status  84 non-null     object\n",
      " 9   run_name       84 non-null     object\n",
      "dtypes: int64(3), object(7)\n",
      "memory usage: 7.2+ KB\n",
      "CPU times: user 1.8 s, sys: 28 ms, total: 1.82 s\n",
      "Wall time: 9.91 s\n"
     ]
    }
   ],
   "source": [
    "%%time\n",
    "\n",
    "import json\n",
    "\n",
    "submit_results_df_list = []\n",
    "len_input_list = len(DPS_INPUT_TILE_NUM_LIST)\n",
    "print(f\"# of input tiles for DPS: {len_input_list}\")\n",
    "\n",
    "for i, INPUT_TILE_NUM in enumerate(DPS_INPUT_TILE_NUM_LIST):\n",
    "    \n",
    "    DPS_num = i+1\n",
    "    \n",
    "    # Update the in_params_dict with th current INPUT_TILE_NUM\n",
    "    in_params_dict['in_id_num'] = INPUT_TILE_NUM\n",
    "    \n",
    "    submit_result = maap.submitJob(\n",
    "            identifier=IDENTIFIER,\n",
    "            algo_id=ALGO_ID,\n",
    "            version=MAAP_VERSION,\n",
    "            username=USER, # username needs to be the same as workspace owner\n",
    "            queue=WORKER_TYPE,\n",
    "            **in_params_dict\n",
    "        )\n",
    "    \n",
    "    # Build a dataframe of submission details\n",
    "    submit_result_df = pd.DataFrame( \n",
    "        {\n",
    "                'dps_num':[DPS_num],\n",
    "                'tile_num':[INPUT_TILE_NUM],\n",
    "                'submit_time':[datetime.datetime.now().strftime('%Y-%m-%d-%H-%M-%s')],\n",
    "                'dbs_job_hour': [datetime.datetime.now().hour],\n",
    "                'algo_id': [ALGO_ID],\n",
    "                'user': [USER],\n",
    "                'worker_type': [WORKER_TYPE],\n",
    "                'job_id': [submit_result.id],\n",
    "                'submit_status': [submit_result.status],\n",
    "            \n",
    "        } \n",
    "    )\n",
    "    \n",
    "    # Append to a list of data frames of submission results\n",
    "    submit_results_df_list.append(submit_result_df)\n",
    "    \n",
    "    if DPS_num in [1, 5, 10, 50, 100, 250, 500, 750, 1000, 1500, 2000, 2500, 3000, 3500, 4000, 4500, 5000, 7000, 9000, 11000, 13000, 15000, 17000, 19000, 21000, 24000, len_input_list]:\n",
    "        print(f\"DPS run #: {DPS_num}\\t| tile num: {INPUT_TILE_NUM}\\t| submit status: {submit_result.status}\\t| job id: {submit_result.id}\") \n",
    "        \n",
    "# Build a final submission results df and save\n",
    "submit_results_df = pd.concat(submit_results_df_list)\n",
    "submit_results_df['run_name'] = RUN_NAME\n",
    "nowtime = pd.Timestamp.now().strftime('%Y%m%d%H%M')\n",
    "print(f\"Current time:\\t{nowtime}\")\n",
    "submit_results_df.to_csv(f'/projects/my-public-bucket/dps_submission_results/DPS_{ALGO_ID}_{RUN_NAME}_submission_results_{len_input_list}_{nowtime}.csv')\n",
    "submit_results_df.info()"
   ]
  },
  {
   "cell_type": "markdown",
   "id": "62af6d0a",
   "metadata": {
    "tags": []
   },
   "source": [
    "After almost any DPS job, you have to assess what was marked as `success` and `fail`.  \n",
    "\n",
    "This involves:\n",
    "1. building a table of job status based on job ids captured in the job_results_df from the DPS run chunk (this takes 40 mins for ~47k jobs). This tells you how many jobs failed.\n",
    "2. merging the `job status table` with the `job results df`. This tells you which specific granules (or tile nums) failed.\n",
    "3. building another input list of granules/tiles for a follow-up DPS run.\n",
    "## Assess DPS results\n",
    "Build a table of job status based on job id - how many jobs failed?"
   ]
  },
  {
   "cell_type": "code",
   "execution_count": null,
   "id": "267b6baa-e4be-4991-b164-d0df18e4f141",
   "metadata": {
    "tags": []
   },
   "outputs": [],
   "source": [
    "LIST_SUBMISSIONS = sorted(glob.glob(f'/projects/my-public-bucket/dps_submission_results/DPS_{ALGO_ID}_*_submission_results_*.csv'),key=ExtractUtils.func, reverse=True)\n",
    "LIST_SUBMISSIONS[0:1]"
   ]
  },
  {
   "cell_type": "code",
   "execution_count": 85,
   "id": "6f8194d3-233e-403e-979c-d269812941ff",
   "metadata": {
    "tags": []
   },
   "outputs": [
    {
     "name": "stdout",
     "output_type": "stream",
     "text": [
      "DPS alg:\t\trun_tile_forestage_forestage_2020\n",
      "DPS run name:\t\tforestage_2020\n",
      "DPS launch time:\t202501241242\n",
      "multiprocessing...\n",
      "Count total jobs:\t84\n",
      "Count pending jobs:\t0\n",
      "Count running jobs:\t9\n",
      "Count succeeded jobs:\t12\n",
      "Count failed jobs:\t63\n",
      "% of failed jobs:\t84.0\n",
      "\n",
      "Count offline jobs: 0\n",
      "\n",
      "CPU times: user 46.4 ms, sys: 299 ms, total: 345 ms\n",
      "Wall time: 1.12 s\n"
     ]
    }
   ],
   "source": [
    "%%time\n",
    "\n",
    "running_list = []\n",
    "fails_list = []\n",
    "success_list = []\n",
    "offline_list = []\n",
    "\n",
    "#for DPS_DATETIME in [nowtime]:\n",
    "for fn in LIST_SUBMISSIONS[0:1]:\n",
    "    #if DPS_DATETIME in fn and not 'job_status' in fn:\n",
    "\n",
    "    DPS_alg_id = os.path.basename(fn.split('_submission_results_')[0].replace('DPS_',''))\n",
    "    thentime = fn.split('_')[-1].replace('.csv','')\n",
    "    print(f'DPS alg:\\t\\t{DPS_alg_id}')\n",
    "    print(f'DPS run name:\\t\\t{RUN_NAME}')\n",
    "    print(f'DPS launch time:\\t{thentime}')\n",
    "\n",
    "    # Build job status table\n",
    "    df_jstatus = ExtractUtils.BUILD_TABLE_JOBSTATUS(pd.read_csv(fn))\n",
    "\n",
    "    # Save job status table\n",
    "    df_jstatus.to_csv(f'/projects/my-public-bucket/dps_submission_results/DPS_{RUN_NAME}_submission_results_job_status_{len(df_jstatus)}_{thentime}.csv')\n",
    "\n",
    "    # Get current fails df and append to list\n",
    "    df_jstatus['run_type'] = RUN_NAME\n",
    "\n",
    "    running_list.append(df_jstatus[ (df_jstatus['status'] == 'Running') ] )\n",
    "    fails_list.append(  df_jstatus[ (df_jstatus['status'] == 'Failed') ] )\n",
    "    success_list.append(df_jstatus[ (df_jstatus['status'] == 'Succeeded') ] )\n",
    "    offline_list.append(df_jstatus[ (df_jstatus['status'] == 'Offline') ] )\n",
    "    print(f\"Count offline jobs: {df_jstatus[ (df_jstatus['status'] == 'Offline') ].shape[0]}\\n\")\n",
    "            \n",
    "df_all_running = pd.concat(running_list)          \n",
    "df_all_fails =   pd.concat(fails_list)\n",
    "df_all_success = pd.concat(success_list)\n",
    "df_all_offline = pd.concat(offline_list)"
   ]
  },
  {
   "cell_type": "code",
   "execution_count": 63,
   "id": "95b8fa5e-f39f-4107-9c69-a01b70e2fd33",
   "metadata": {
    "scrolled": true,
    "tags": []
   },
   "outputs": [
    {
     "name": "stdout",
     "output_type": "stream",
     "text": [
      "delete: s3://maap-ops-workspace/montesano/dps_output/run_tile_forestage/tile_forestage_v1/forestage_2020/2025/01/24/09/16/44/194373/_stderr.txt\n",
      "delete: s3://maap-ops-workspace/montesano/dps_output/run_tile_forestage/tile_forestage_v1/forestage_2020/2025/01/24/09/16/44/194373/_stdout.txt\n",
      "delete: s3://maap-ops-workspace/montesano/dps_output/run_tile_forestage/tile_forestage_v1/forestage_2020/2025/01/24/09/16/44/194373/forestage_2020_0003545.tif\n",
      "delete: s3://maap-ops-workspace/montesano/dps_output/run_tile_forestage/tile_forestage_v1/forestage_2020/2025/01/24/09/16/58/149924/output-2025-01-24T09:16:58.149924.dataset.json\n",
      "delete: s3://maap-ops-workspace/montesano/dps_output/run_tile_forestage/tile_forestage_v1/forestage_2020/2025/01/24/09/16/58/149924/output-2025-01-24T09:16:58.149924.met.json\n",
      "delete: s3://maap-ops-workspace/montesano/dps_output/run_tile_forestage/tile_forestage_v1/forestage_2020/2025/01/24/09/18/54/909416/_stdout.txt\n",
      "delete: s3://maap-ops-workspace/montesano/dps_output/run_tile_forestage/tile_forestage_v1/forestage_2020/2025/01/24/09/16/44/194373/output-2025-01-24T09:16:44.194373.met.json\n",
      "delete: s3://maap-ops-workspace/montesano/dps_output/run_tile_forestage/tile_forestage_v1/forestage_2020/2025/01/24/09/16/58/149924/_stdout.txt\n",
      "delete: s3://maap-ops-workspace/montesano/dps_output/run_tile_forestage/tile_forestage_v1/forestage_2020/2025/01/24/09/16/58/149924/forestage_2020_0003449.tif\n",
      "delete: s3://maap-ops-workspace/montesano/dps_output/run_tile_forestage/tile_forestage_v1/forestage_2020/2025/01/24/09/18/54/909416/_stderr.txt\n",
      "delete: s3://maap-ops-workspace/montesano/dps_output/run_tile_forestage/tile_forestage_v1/forestage_2020/2025/01/24/09/16/58/149924/_stderr.txt\n",
      "delete: s3://maap-ops-workspace/montesano/dps_output/run_tile_forestage/tile_forestage_v1/forestage_2020/2025/01/24/09/16/44/194373/output-2025-01-24T09:16:44.194373.context.json\n",
      "delete: s3://maap-ops-workspace/montesano/dps_output/run_tile_forestage/tile_forestage_v1/forestage_2020/2025/01/24/09/16/44/194373/output-2025-01-24T09:16:44.194373.dataset.json\n",
      "delete: s3://maap-ops-workspace/montesano/dps_output/run_tile_forestage/tile_forestage_v1/forestage_2020/2025/01/24/09/16/58/149924/output-2025-01-24T09:16:58.149924.context.json\n",
      "delete: s3://maap-ops-workspace/montesano/dps_output/run_tile_forestage/tile_forestage_v1/forestage_2020/2025/01/24/09/18/54/909416/forestage_2020_0003360.tif\n",
      "delete: s3://maap-ops-workspace/montesano/dps_output/run_tile_forestage/tile_forestage_v1/forestage_2020/2025/01/24/09/18/54/909416/output-2025-01-24T09:18:54.909416.dataset.json\n",
      "delete: s3://maap-ops-workspace/montesano/dps_output/run_tile_forestage/tile_forestage_v1/forestage_2020/2025/01/24/09/18/54/909416/output-2025-01-24T09:18:54.909416.met.json\n",
      "delete: s3://maap-ops-workspace/montesano/dps_output/run_tile_forestage/tile_forestage_v1/forestage_2020/2025/01/24/09/19/19/388992/_stdout.txt\n",
      "delete: s3://maap-ops-workspace/montesano/dps_output/run_tile_forestage/tile_forestage_v1/forestage_2020/2025/01/24/09/19/19/388992/output-2025-01-24T09:19:19.388992.dataset.json\n",
      "delete: s3://maap-ops-workspace/montesano/dps_output/run_tile_forestage/tile_forestage_v1/forestage_2020/2025/01/24/09/19/19/388992/forestage_2020_0003358.tif\n",
      "delete: s3://maap-ops-workspace/montesano/dps_output/run_tile_forestage/tile_forestage_v1/forestage_2020/2025/01/24/09/19/19/388992/output-2025-01-24T09:19:19.388992.context.json\n",
      "delete: s3://maap-ops-workspace/montesano/dps_output/run_tile_forestage/tile_forestage_v1/forestage_2020/2025/01/24/09/19/19/388992/output-2025-01-24T09:19:19.388992.met.json\n",
      "delete: s3://maap-ops-workspace/montesano/dps_output/run_tile_forestage/tile_forestage_v1/forestage_2020/2025/01/24/09/20/00/560745/_stderr.txt\n",
      "delete: s3://maap-ops-workspace/montesano/dps_output/run_tile_forestage/tile_forestage_v1/forestage_2020/2025/01/24/09/19/19/388992/_stderr.txt\n",
      "delete: s3://maap-ops-workspace/montesano/dps_output/run_tile_forestage/tile_forestage_v1/forestage_2020/2025/01/24/09/18/54/909416/output-2025-01-24T09:18:54.909416.context.json\n",
      "delete: s3://maap-ops-workspace/montesano/dps_output/run_tile_forestage/tile_forestage_v1/forestage_2020/2025/01/24/09/20/00/560745/_stdout.txt\n",
      "delete: s3://maap-ops-workspace/montesano/dps_output/run_tile_forestage/tile_forestage_v1/forestage_2020/2025/01/24/09/20/00/560745/forestage_2020_0003359.tif\n",
      "delete: s3://maap-ops-workspace/montesano/dps_output/run_tile_forestage/tile_forestage_v1/forestage_2020/2025/01/24/09/20/00/560745/output-2025-01-24T09:20:00.560745.dataset.json\n",
      "delete: s3://maap-ops-workspace/montesano/dps_output/run_tile_forestage/tile_forestage_v1/forestage_2020/2025/01/24/09/20/00/560745/output-2025-01-24T09:20:00.560745.met.json\n",
      "delete: s3://maap-ops-workspace/montesano/dps_output/run_tile_forestage/tile_forestage_v1/forestage_2020/2025/01/24/09/20/13/396456/_stderr.txt\n",
      "delete: s3://maap-ops-workspace/montesano/dps_output/run_tile_forestage/tile_forestage_v1/forestage_2020/2025/01/24/09/20/00/560745/output-2025-01-24T09:20:00.560745.context.json\n",
      "delete: s3://maap-ops-workspace/montesano/dps_output/run_tile_forestage/tile_forestage_v1/forestage_2020/2025/01/24/09/20/13/396456/output-2025-01-24T09:20:13.396456.context.json\n",
      "delete: s3://maap-ops-workspace/montesano/dps_output/run_tile_forestage/tile_forestage_v1/forestage_2020/2025/01/24/09/20/13/396456/forestage_2020_0003450.tif\n",
      "delete: s3://maap-ops-workspace/montesano/dps_output/run_tile_forestage/tile_forestage_v1/forestage_2020/2025/01/24/09/20/13/396456/output-2025-01-24T09:20:13.396456.dataset.json\n",
      "delete: s3://maap-ops-workspace/montesano/dps_output/run_tile_forestage/tile_forestage_v1/forestage_2020/2025/01/24/09/20/13/396456/_stdout.txt\n",
      "delete: s3://maap-ops-workspace/montesano/dps_output/run_tile_forestage/tile_forestage_v1/forestage_2020/2025/01/24/09/20/13/396456/output-2025-01-24T09:20:13.396456.met.json\n",
      "delete: s3://maap-ops-workspace/montesano/dps_output/run_tile_forestage/tile_forestage_v1/forestage_2020/2025/01/24/09/20/45/071689/_stderr.txt\n",
      "delete: s3://maap-ops-workspace/montesano/dps_output/run_tile_forestage/tile_forestage_v1/forestage_2020/2025/01/24/09/20/45/071689/forestage_2020_0003547.tif\n",
      "delete: s3://maap-ops-workspace/montesano/dps_output/run_tile_forestage/tile_forestage_v1/forestage_2020/2025/01/24/09/20/45/071689/_stdout.txt\n",
      "delete: s3://maap-ops-workspace/montesano/dps_output/run_tile_forestage/tile_forestage_v1/forestage_2020/2025/01/24/09/20/45/071689/output-2025-01-24T09:20:45.071689.context.json\n",
      "delete: s3://maap-ops-workspace/montesano/dps_output/run_tile_forestage/tile_forestage_v1/forestage_2020/2025/01/24/09/20/45/071689/output-2025-01-24T09:20:45.071689.dataset.json\n",
      "delete: s3://maap-ops-workspace/montesano/dps_output/run_tile_forestage/tile_forestage_v1/forestage_2020/2025/01/24/09/20/45/071689/output-2025-01-24T09:20:45.071689.met.json\n",
      "delete: s3://maap-ops-workspace/montesano/dps_output/run_tile_forestage/tile_forestage_v1/forestage_2020/2025/01/24/09/21/05/289357/_stderr.txt\n",
      "delete: s3://maap-ops-workspace/montesano/dps_output/run_tile_forestage/tile_forestage_v1/forestage_2020/2025/01/24/09/21/05/289357/_stdout.txt\n",
      "delete: s3://maap-ops-workspace/montesano/dps_output/run_tile_forestage/tile_forestage_v1/forestage_2020/2025/01/24/09/21/05/289357/forestage_2020_0003546.tif\n",
      "delete: s3://maap-ops-workspace/montesano/dps_output/run_tile_forestage/tile_forestage_v1/forestage_2020/2025/01/24/09/21/05/289357/output-2025-01-24T09:21:05.289357.dataset.json\n",
      "delete: s3://maap-ops-workspace/montesano/dps_output/run_tile_forestage/tile_forestage_v1/forestage_2020/2025/01/24/09/21/05/289357/output-2025-01-24T09:21:05.289357.context.json\n",
      "delete: s3://maap-ops-workspace/montesano/dps_output/run_tile_forestage/tile_forestage_v1/forestage_2020/2025/01/24/09/21/10/074251/_stderr.txt\n",
      "delete: s3://maap-ops-workspace/montesano/dps_output/run_tile_forestage/tile_forestage_v1/forestage_2020/2025/01/24/09/21/05/289357/output-2025-01-24T09:21:05.289357.met.json\n",
      "delete: s3://maap-ops-workspace/montesano/dps_output/run_tile_forestage/tile_forestage_v1/forestage_2020/2025/01/24/09/21/10/074251/_stdout.txt\n",
      "delete: s3://maap-ops-workspace/montesano/dps_output/run_tile_forestage/tile_forestage_v1/forestage_2020/2025/01/24/09/21/10/074251/forestage_2020_0003265.tif\n",
      "delete: s3://maap-ops-workspace/montesano/dps_output/run_tile_forestage/tile_forestage_v1/forestage_2020/2025/01/24/09/21/10/074251/output-2025-01-24T09:21:10.074251.context.json\n",
      "delete: s3://maap-ops-workspace/montesano/dps_output/run_tile_forestage/tile_forestage_v1/forestage_2020/2025/01/24/09/21/10/074251/output-2025-01-24T09:21:10.074251.dataset.json\n",
      "delete: s3://maap-ops-workspace/montesano/dps_output/run_tile_forestage/tile_forestage_v1/forestage_2020/2025/01/24/09/21/52/816832/_stderr.txt\n",
      "delete: s3://maap-ops-workspace/montesano/dps_output/run_tile_forestage/tile_forestage_v1/forestage_2020/2025/01/24/09/21/10/074251/output-2025-01-24T09:21:10.074251.met.json\n",
      "delete: s3://maap-ops-workspace/montesano/dps_output/run_tile_forestage/tile_forestage_v1/forestage_2020/2025/01/24/09/21/52/816832/_stdout.txt\n",
      "delete: s3://maap-ops-workspace/montesano/dps_output/run_tile_forestage/tile_forestage_v1/forestage_2020/2025/01/24/09/21/52/816832/forestage_2020_0003266.tif\n",
      "delete: s3://maap-ops-workspace/montesano/dps_output/run_tile_forestage/tile_forestage_v1/forestage_2020/2025/01/24/09/21/52/816832/output-2025-01-24T09:21:52.816832.dataset.json\n",
      "delete: s3://maap-ops-workspace/montesano/dps_output/run_tile_forestage/tile_forestage_v1/forestage_2020/2025/01/24/09/21/52/816832/output-2025-01-24T09:21:52.816832.met.json\n",
      "delete: s3://maap-ops-workspace/montesano/dps_output/run_tile_forestage/tile_forestage_v1/forestage_2020/2025/01/24/09/21/52/816832/output-2025-01-24T09:21:52.816832.context.json\n",
      "delete: s3://maap-ops-workspace/montesano/dps_output/run_tile_forestage/tile_forestage_v1/forestage_2020/2025/01/24/09/21/53/331271/_stderr.txt\n",
      "delete: s3://maap-ops-workspace/montesano/dps_output/run_tile_forestage/tile_forestage_v1/forestage_2020/2025/01/24/09/21/53/331271/_stdout.txt\n",
      "delete: s3://maap-ops-workspace/montesano/dps_output/run_tile_forestage/tile_forestage_v1/forestage_2020/2025/01/24/09/21/53/331271/output-2025-01-24T09:21:53.331271.context.json\n",
      "delete: s3://maap-ops-workspace/montesano/dps_output/run_tile_forestage/tile_forestage_v1/forestage_2020/2025/01/24/09/21/53/331271/forestage_2020_0003356.tif\n",
      "delete: s3://maap-ops-workspace/montesano/dps_output/run_tile_forestage/tile_forestage_v1/forestage_2020/2025/01/24/09/21/53/331271/output-2025-01-24T09:21:53.331271.dataset.json\n",
      "delete: s3://maap-ops-workspace/montesano/dps_output/run_tile_forestage/tile_forestage_v1/forestage_2020/2025/01/24/09/24/09/947137/_stderr.txt\n",
      "delete: s3://maap-ops-workspace/montesano/dps_output/run_tile_forestage/tile_forestage_v1/forestage_2020/2025/01/24/09/21/53/331271/output-2025-01-24T09:21:53.331271.met.json\n",
      "delete: s3://maap-ops-workspace/montesano/dps_output/run_tile_forestage/tile_forestage_v1/forestage_2020/2025/01/24/09/24/09/947137/_stdout.txt\n",
      "delete: s3://maap-ops-workspace/montesano/dps_output/run_tile_forestage/tile_forestage_v1/forestage_2020/2025/01/24/09/24/09/947137/forestage_2020_0003543.tif\n",
      "delete: s3://maap-ops-workspace/montesano/dps_output/run_tile_forestage/tile_forestage_v1/forestage_2020/2025/01/24/09/24/09/947137/output-2025-01-24T09:24:09.947137.met.json\n",
      "delete: s3://maap-ops-workspace/montesano/dps_output/run_tile_forestage/tile_forestage_v1/forestage_2020/2025/01/24/09/24/09/947137/output-2025-01-24T09:24:09.947137.context.json\n",
      "delete: s3://maap-ops-workspace/montesano/dps_output/run_tile_forestage/tile_forestage_v1/forestage_2020/2025/01/24/09/29/30/637777/_stdout.txt\n",
      "delete: s3://maap-ops-workspace/montesano/dps_output/run_tile_forestage/tile_forestage_v1/forestage_2020/2025/01/24/09/29/30/637777/_stderr.txt\n",
      "delete: s3://maap-ops-workspace/montesano/dps_output/run_tile_forestage/tile_forestage_v1/forestage_2020/2025/01/24/09/29/30/637777/forestage_2020_0003554.tif\n",
      "delete: s3://maap-ops-workspace/montesano/dps_output/run_tile_forestage/tile_forestage_v1/forestage_2020/2025/01/24/09/24/09/947137/output-2025-01-24T09:24:09.947137.dataset.json\n",
      "delete: s3://maap-ops-workspace/montesano/dps_output/run_tile_forestage/tile_forestage_v1/forestage_2020/2025/01/24/09/29/30/637777/output-2025-01-24T09:29:30.637777.met.json\n",
      "delete: s3://maap-ops-workspace/montesano/dps_output/run_tile_forestage/tile_forestage_v1/forestage_2020/2025/01/24/09/29/30/637777/output-2025-01-24T09:29:30.637777.dataset.json\n",
      "delete: s3://maap-ops-workspace/montesano/dps_output/run_tile_forestage/tile_forestage_v1/forestage_2020/2025/01/24/09/29/30/637777/output-2025-01-24T09:29:30.637777.context.json\n",
      "delete: s3://maap-ops-workspace/montesano/dps_output/run_tile_forestage/tile_forestage_v1/forestage_2020/2025/01/24/09/30/23/586408/_stderr.txt\n",
      "delete: s3://maap-ops-workspace/montesano/dps_output/run_tile_forestage/tile_forestage_v1/forestage_2020/2025/01/24/09/30/23/586408/_stdout.txt\n",
      "delete: s3://maap-ops-workspace/montesano/dps_output/run_tile_forestage/tile_forestage_v1/forestage_2020/2025/01/24/09/30/23/586408/forestage_2020_0003483.tif\n",
      "delete: s3://maap-ops-workspace/montesano/dps_output/run_tile_forestage/tile_forestage_v1/forestage_2020/2025/01/24/09/30/23/586408/output-2025-01-24T09:30:23.586408.context.json\n",
      "delete: s3://maap-ops-workspace/montesano/dps_output/run_tile_forestage/tile_forestage_v1/forestage_2020/2025/01/24/09/30/23/586408/output-2025-01-24T09:30:23.586408.dataset.json\n",
      "delete: s3://maap-ops-workspace/montesano/dps_output/run_tile_forestage/tile_forestage_v1/forestage_2020/2025/01/24/09/30/23/586408/output-2025-01-24T09:30:23.586408.met.json\n",
      "delete: s3://maap-ops-workspace/montesano/dps_output/run_tile_forestage/tile_forestage_v1/forestage_2020/2025/01/24/09/30/29/025777/_stdout.txt\n",
      "delete: s3://maap-ops-workspace/montesano/dps_output/run_tile_forestage/tile_forestage_v1/forestage_2020/2025/01/24/09/30/29/025777/forestage_2020_0003454.tif\n",
      "delete: s3://maap-ops-workspace/montesano/dps_output/run_tile_forestage/tile_forestage_v1/forestage_2020/2025/01/24/09/30/29/025777/_stderr.txt\n",
      "delete: s3://maap-ops-workspace/montesano/dps_output/run_tile_forestage/tile_forestage_v1/forestage_2020/2025/01/24/09/30/29/025777/output-2025-01-24T09:30:29.025777.dataset.json\n",
      "delete: s3://maap-ops-workspace/montesano/dps_output/run_tile_forestage/tile_forestage_v1/forestage_2020/2025/01/24/09/30/29/025777/output-2025-01-24T09:30:29.025777.met.json\n",
      "delete: s3://maap-ops-workspace/montesano/dps_output/run_tile_forestage/tile_forestage_v1/forestage_2020/2025/01/24/09/30/43/692483/_stderr.txt\n",
      "delete: s3://maap-ops-workspace/montesano/dps_output/run_tile_forestage/tile_forestage_v1/forestage_2020/2025/01/24/09/30/29/025777/output-2025-01-24T09:30:29.025777.context.json\n",
      "delete: s3://maap-ops-workspace/montesano/dps_output/run_tile_forestage/tile_forestage_v1/forestage_2020/2025/01/24/09/30/43/692483/_stdout.txt\n",
      "delete: s3://maap-ops-workspace/montesano/dps_output/run_tile_forestage/tile_forestage_v1/forestage_2020/2025/01/24/09/30/43/692483/output-2025-01-24T09:30:43.692483.context.json\n",
      "delete: s3://maap-ops-workspace/montesano/dps_output/run_tile_forestage/tile_forestage_v1/forestage_2020/2025/01/24/09/30/43/692483/forestage_2020_0003473.tif\n",
      "delete: s3://maap-ops-workspace/montesano/dps_output/run_tile_forestage/tile_forestage_v1/forestage_2020/2025/01/24/09/30/48/061507/_stderr.txt\n",
      "delete: s3://maap-ops-workspace/montesano/dps_output/run_tile_forestage/tile_forestage_v1/forestage_2020/2025/01/24/09/30/43/692483/output-2025-01-24T09:30:43.692483.dataset.json\n",
      "delete: s3://maap-ops-workspace/montesano/dps_output/run_tile_forestage/tile_forestage_v1/forestage_2020/2025/01/24/09/30/43/692483/output-2025-01-24T09:30:43.692483.met.json\n",
      "delete: s3://maap-ops-workspace/montesano/dps_output/run_tile_forestage/tile_forestage_v1/forestage_2020/2025/01/24/09/30/48/061507/forestage_2020_0003462.tif\n",
      "delete: s3://maap-ops-workspace/montesano/dps_output/run_tile_forestage/tile_forestage_v1/forestage_2020/2025/01/24/09/30/48/061507/_stdout.txt\n",
      "delete: s3://maap-ops-workspace/montesano/dps_output/run_tile_forestage/tile_forestage_v1/forestage_2020/2025/01/24/09/30/48/061507/output-2025-01-24T09:30:48.061507.context.json\n",
      "delete: s3://maap-ops-workspace/montesano/dps_output/run_tile_forestage/tile_forestage_v1/forestage_2020/2025/01/24/09/30/48/061507/output-2025-01-24T09:30:48.061507.met.json\n",
      "delete: s3://maap-ops-workspace/montesano/dps_output/run_tile_forestage/tile_forestage_v1/forestage_2020/2025/01/24/09/30/48/061507/output-2025-01-24T09:30:48.061507.dataset.json\n",
      "delete: s3://maap-ops-workspace/montesano/dps_output/run_tile_forestage/tile_forestage_v1/forestage_2020/2025/01/24/09/30/48/151380/_stderr.txt\n",
      "delete: s3://maap-ops-workspace/montesano/dps_output/run_tile_forestage/tile_forestage_v1/forestage_2020/2025/01/24/09/30/48/151380/_stdout.txt\n",
      "delete: s3://maap-ops-workspace/montesano/dps_output/run_tile_forestage/tile_forestage_v1/forestage_2020/2025/01/24/09/30/48/151380/output-2025-01-24T09:30:48.151380.context.json\n",
      "delete: s3://maap-ops-workspace/montesano/dps_output/run_tile_forestage/tile_forestage_v1/forestage_2020/2025/01/24/09/30/48/151380/output-2025-01-24T09:30:48.151380.met.json\n",
      "delete: s3://maap-ops-workspace/montesano/dps_output/run_tile_forestage/tile_forestage_v1/forestage_2020/2025/01/24/09/30/48/151380/output-2025-01-24T09:30:48.151380.dataset.json\n",
      "delete: s3://maap-ops-workspace/montesano/dps_output/run_tile_forestage/tile_forestage_v1/forestage_2020/2025/01/24/09/31/02/685746/_stderr.txt\n",
      "delete: s3://maap-ops-workspace/montesano/dps_output/run_tile_forestage/tile_forestage_v1/forestage_2020/2025/01/24/09/30/48/151380/forestage_2020_0003376.tif\n",
      "delete: s3://maap-ops-workspace/montesano/dps_output/run_tile_forestage/tile_forestage_v1/forestage_2020/2025/01/24/09/31/02/685746/_stdout.txt\n",
      "delete: s3://maap-ops-workspace/montesano/dps_output/run_tile_forestage/tile_forestage_v1/forestage_2020/2025/01/24/09/31/02/685746/output-2025-01-24T09:31:02.685746.context.json\n",
      "delete: s3://maap-ops-workspace/montesano/dps_output/run_tile_forestage/tile_forestage_v1/forestage_2020/2025/01/24/09/31/02/685746/output-2025-01-24T09:31:02.685746.met.json\n",
      "delete: s3://maap-ops-workspace/montesano/dps_output/run_tile_forestage/tile_forestage_v1/forestage_2020/2025/01/24/09/31/02/685746/output-2025-01-24T09:31:02.685746.dataset.json\n",
      "delete: s3://maap-ops-workspace/montesano/dps_output/run_tile_forestage/tile_forestage_v1/forestage_2020/2025/01/24/09/31/02/685746/forestage_2020_0003378.tif\n",
      "delete: s3://maap-ops-workspace/montesano/dps_output/run_tile_forestage/tile_forestage_v1/forestage_2020/2025/01/24/09/31/50/056540/_stderr.txt\n",
      "delete: s3://maap-ops-workspace/montesano/dps_output/run_tile_forestage/tile_forestage_v1/forestage_2020/2025/01/24/09/31/50/056540/_stdout.txt\n",
      "delete: s3://maap-ops-workspace/montesano/dps_output/run_tile_forestage/tile_forestage_v1/forestage_2020/2025/01/24/09/31/50/056540/forestage_2020_0003479.tif\n",
      "delete: s3://maap-ops-workspace/montesano/dps_output/run_tile_forestage/tile_forestage_v1/forestage_2020/2025/01/24/09/31/50/056540/output-2025-01-24T09:31:50.056540.dataset.json\n",
      "delete: s3://maap-ops-workspace/montesano/dps_output/run_tile_forestage/tile_forestage_v1/forestage_2020/2025/01/24/09/31/50/056540/output-2025-01-24T09:31:50.056540.context.json\n",
      "delete: s3://maap-ops-workspace/montesano/dps_output/run_tile_forestage/tile_forestage_v1/forestage_2020/2025/01/24/09/31/50/056540/output-2025-01-24T09:31:50.056540.met.json\n",
      "delete: s3://maap-ops-workspace/montesano/dps_output/run_tile_forestage/tile_forestage_v1/forestage_2020/2025/01/24/09/32/17/203917/forestage_2020_0003557.tif\n",
      "delete: s3://maap-ops-workspace/montesano/dps_output/run_tile_forestage/tile_forestage_v1/forestage_2020/2025/01/24/09/32/17/203917/_stdout.txt\n",
      "delete: s3://maap-ops-workspace/montesano/dps_output/run_tile_forestage/tile_forestage_v1/forestage_2020/2025/01/24/09/32/17/203917/_stderr.txt\n",
      "delete: s3://maap-ops-workspace/montesano/dps_output/run_tile_forestage/tile_forestage_v1/forestage_2020/2025/01/24/09/32/17/203917/output-2025-01-24T09:32:17.203917.dataset.json\n",
      "delete: s3://maap-ops-workspace/montesano/dps_output/run_tile_forestage/tile_forestage_v1/forestage_2020/2025/01/24/09/32/17/203917/output-2025-01-24T09:32:17.203917.context.json\n",
      "delete: s3://maap-ops-workspace/montesano/dps_output/run_tile_forestage/tile_forestage_v1/forestage_2020/2025/01/24/09/32/17/203917/output-2025-01-24T09:32:17.203917.met.json\n",
      "delete: s3://maap-ops-workspace/montesano/dps_output/run_tile_forestage/tile_forestage_v1/forestage_2020/2025/01/24/09/34/04/253813/_stderr.txt\n",
      "delete: s3://maap-ops-workspace/montesano/dps_output/run_tile_forestage/tile_forestage_v1/forestage_2020/2025/01/24/09/34/04/253813/forestage_2020_0003493.tif\n",
      "delete: s3://maap-ops-workspace/montesano/dps_output/run_tile_forestage/tile_forestage_v1/forestage_2020/2025/01/24/09/34/04/253813/_stdout.txt\n",
      "delete: s3://maap-ops-workspace/montesano/dps_output/run_tile_forestage/tile_forestage_v1/forestage_2020/2025/01/24/09/34/04/253813/output-2025-01-24T09:34:04.253813.context.json\n",
      "delete: s3://maap-ops-workspace/montesano/dps_output/run_tile_forestage/tile_forestage_v1/forestage_2020/2025/01/24/09/34/04/253813/output-2025-01-24T09:34:04.253813.dataset.json\n",
      "delete: s3://maap-ops-workspace/montesano/dps_output/run_tile_forestage/tile_forestage_v1/forestage_2020/2025/01/24/09/34/17/684520/_stderr.txt\n",
      "delete: s3://maap-ops-workspace/montesano/dps_output/run_tile_forestage/tile_forestage_v1/forestage_2020/2025/01/24/09/34/17/684520/forestage_2020_0003267.tif\n",
      "delete: s3://maap-ops-workspace/montesano/dps_output/run_tile_forestage/tile_forestage_v1/forestage_2020/2025/01/24/09/34/04/253813/output-2025-01-24T09:34:04.253813.met.json\n",
      "delete: s3://maap-ops-workspace/montesano/dps_output/run_tile_forestage/tile_forestage_v1/forestage_2020/2025/01/24/09/34/17/684520/_stdout.txt\n",
      "delete: s3://maap-ops-workspace/montesano/dps_output/run_tile_forestage/tile_forestage_v1/forestage_2020/2025/01/24/09/34/17/684520/output-2025-01-24T09:34:17.684520.context.json\n",
      "delete: s3://maap-ops-workspace/montesano/dps_output/run_tile_forestage/tile_forestage_v1/forestage_2020/2025/01/24/09/34/17/684520/output-2025-01-24T09:34:17.684520.met.json\n",
      "delete: s3://maap-ops-workspace/montesano/dps_output/run_tile_forestage/tile_forestage_v1/forestage_2020/2025/01/24/09/34/17/684520/output-2025-01-24T09:34:17.684520.dataset.json\n",
      "delete: s3://maap-ops-workspace/montesano/dps_output/run_tile_forestage/tile_forestage_v1/forestage_2020/2025/01/24/09/34/48/975703/_stdout.txt\n",
      "delete: s3://maap-ops-workspace/montesano/dps_output/run_tile_forestage/tile_forestage_v1/forestage_2020/2025/01/24/09/34/48/975703/forestage_2020_0003372.tif\n",
      "delete: s3://maap-ops-workspace/montesano/dps_output/run_tile_forestage/tile_forestage_v1/forestage_2020/2025/01/24/09/34/48/975703/output-2025-01-24T09:34:48.975703.context.json\n",
      "delete: s3://maap-ops-workspace/montesano/dps_output/run_tile_forestage/tile_forestage_v1/forestage_2020/2025/01/24/09/34/48/975703/_stderr.txt\n",
      "delete: s3://maap-ops-workspace/montesano/dps_output/run_tile_forestage/tile_forestage_v1/forestage_2020/2025/01/24/09/38/51/204459/_stderr.txt\n",
      "delete: s3://maap-ops-workspace/montesano/dps_output/run_tile_forestage/tile_forestage_v1/forestage_2020/2025/01/24/09/34/48/975703/output-2025-01-24T09:34:48.975703.met.json\n",
      "delete: s3://maap-ops-workspace/montesano/dps_output/run_tile_forestage/tile_forestage_v1/forestage_2020/2025/01/24/09/38/51/204459/_stdout.txt\n",
      "delete: s3://maap-ops-workspace/montesano/dps_output/run_tile_forestage/tile_forestage_v1/forestage_2020/2025/01/24/09/34/48/975703/output-2025-01-24T09:34:48.975703.dataset.json\n",
      "delete: s3://maap-ops-workspace/montesano/dps_output/run_tile_forestage/tile_forestage_v1/forestage_2020/2025/01/24/09/38/51/204459/output-2025-01-24T09:38:51.204459.context.json\n",
      "delete: s3://maap-ops-workspace/montesano/dps_output/run_tile_forestage/tile_forestage_v1/forestage_2020/2025/01/24/09/38/51/204459/forestage_2020_0003288.tif\n",
      "delete: s3://maap-ops-workspace/montesano/dps_output/run_tile_forestage/tile_forestage_v1/forestage_2020/2025/01/24/09/38/51/204459/output-2025-01-24T09:38:51.204459.dataset.json\n",
      "delete: s3://maap-ops-workspace/montesano/dps_output/run_tile_forestage/tile_forestage_v1/forestage_2020/2025/01/24/09/38/51/204459/output-2025-01-24T09:38:51.204459.met.json\n",
      "delete: s3://maap-ops-workspace/montesano/dps_output/run_tile_forestage/tile_forestage_v1/forestage_2020/2025/01/24/09/39/18/591347/_stdout.txt\n",
      "delete: s3://maap-ops-workspace/montesano/dps_output/run_tile_forestage/tile_forestage_v1/forestage_2020/2025/01/24/09/39/18/591347/forestage_2020_0003373.tif\n",
      "delete: s3://maap-ops-workspace/montesano/dps_output/run_tile_forestage/tile_forestage_v1/forestage_2020/2025/01/24/09/39/18/591347/_stderr.txt\n",
      "delete: s3://maap-ops-workspace/montesano/dps_output/run_tile_forestage/tile_forestage_v1/forestage_2020/2025/01/24/09/39/18/591347/output-2025-01-24T09:39:18.591347.dataset.json\n",
      "delete: s3://maap-ops-workspace/montesano/dps_output/run_tile_forestage/tile_forestage_v1/forestage_2020/2025/01/24/09/39/18/591347/output-2025-01-24T09:39:18.591347.context.json\n",
      "delete: s3://maap-ops-workspace/montesano/dps_output/run_tile_forestage/tile_forestage_v1/forestage_2020/2025/01/24/09/39/18/591347/output-2025-01-24T09:39:18.591347.met.json\n",
      "delete: s3://maap-ops-workspace/montesano/dps_output/run_tile_forestage/tile_forestage_v1/forestage_2020/2025/01/24/09/40/30/261883/_stderr.txt\n",
      "delete: s3://maap-ops-workspace/montesano/dps_output/run_tile_forestage/tile_forestage_v1/forestage_2020/2025/01/24/09/40/30/261883/forestage_2020_0003478.tif\n",
      "delete: s3://maap-ops-workspace/montesano/dps_output/run_tile_forestage/tile_forestage_v1/forestage_2020/2025/01/24/09/40/30/261883/_stdout.txt\n",
      "delete: s3://maap-ops-workspace/montesano/dps_output/run_tile_forestage/tile_forestage_v1/forestage_2020/2025/01/24/09/40/30/261883/output-2025-01-24T09:40:30.261883.context.json\n",
      "delete: s3://maap-ops-workspace/montesano/dps_output/run_tile_forestage/tile_forestage_v1/forestage_2020/2025/01/24/09/40/30/261883/output-2025-01-24T09:40:30.261883.dataset.json\n",
      "delete: s3://maap-ops-workspace/montesano/dps_output/run_tile_forestage/tile_forestage_v1/forestage_2020/2025/01/24/09/49/00/838439/_stderr.txt\n",
      "delete: s3://maap-ops-workspace/montesano/dps_output/run_tile_forestage/tile_forestage_v1/forestage_2020/2025/01/24/09/49/00/838439/_stdout.txt\n",
      "delete: s3://maap-ops-workspace/montesano/dps_output/run_tile_forestage/tile_forestage_v1/forestage_2020/2025/01/24/09/40/30/261883/output-2025-01-24T09:40:30.261883.met.json\n",
      "delete: s3://maap-ops-workspace/montesano/dps_output/run_tile_forestage/tile_forestage_v1/forestage_2020/2025/01/24/09/49/00/838439/output-2025-01-24T09:49:00.838439.context.json\n",
      "delete: s3://maap-ops-workspace/montesano/dps_output/run_tile_forestage/tile_forestage_v1/forestage_2020/2025/01/24/09/49/00/838439/output-2025-01-24T09:49:00.838439.met.json\n",
      "delete: s3://maap-ops-workspace/montesano/dps_output/run_tile_forestage/tile_forestage_v1/forestage_2020/2025/01/24/09/49/00/838439/forestage_2020_0003464.tif\n",
      "delete: s3://maap-ops-workspace/montesano/dps_output/run_tile_forestage/tile_forestage_v1/forestage_2020/2025/01/24/09/49/00/838439/output-2025-01-24T09:49:00.838439.dataset.json\n",
      "delete: s3://maap-ops-workspace/montesano/dps_output/run_tile_forestage/tile_forestage_v1/forestage_2020/2025/01/24/09/49/09/275557/_stdout.txt\n",
      "delete: s3://maap-ops-workspace/montesano/dps_output/run_tile_forestage/tile_forestage_v1/forestage_2020/2025/01/24/09/49/09/275557/_stderr.txt\n",
      "delete: s3://maap-ops-workspace/montesano/dps_output/run_tile_forestage/tile_forestage_v1/forestage_2020/2025/01/24/09/49/09/275557/output-2025-01-24T09:49:09.275557.context.json\n",
      "delete: s3://maap-ops-workspace/montesano/dps_output/run_tile_forestage/tile_forestage_v1/forestage_2020/2025/01/24/09/49/09/275557/output-2025-01-24T09:49:09.275557.dataset.json\n",
      "delete: s3://maap-ops-workspace/montesano/dps_output/run_tile_forestage/tile_forestage_v1/forestage_2020/2025/01/24/09/49/09/275557/forestage_2020_0003383.tif\n",
      "delete: s3://maap-ops-workspace/montesano/dps_output/run_tile_forestage/tile_forestage_v1/forestage_2020/2025/01/24/09/49/09/275557/output-2025-01-24T09:49:09.275557.met.json\n"
     ]
    }
   ],
   "source": [
    "#!aws s3 rm --recursive s3://maap-ops-workspace/montesano/dps_output/run_tile_forestage/"
   ]
  },
  {
   "cell_type": "code",
   "execution_count": 28,
   "id": "3e278cea-e2b4-44d0-a93f-dea80e8250a1",
   "metadata": {
    "tags": []
   },
   "outputs": [
    {
     "name": "stdout",
     "output_type": "stream",
     "text": [
      "[]\n"
     ]
    }
   ],
   "source": [
    "# New list = fails + still running + failed to even submit\n",
    "FAILS = df_all_fails.tile_num.to_list() +\\\n",
    "        df_all_running.tile_num.to_list() +\\\n",
    "        df_all_offline.tile_num.to_list() +\\\n",
    "        list(set(df_jstatus[df_jstatus.submit_status == 'failed'].tile_num.to_list()))\n",
    "FAILS = [int(i) for i in FAILS]\n",
    "len(FAILS)\n",
    "print(FAILS)\n",
    "DPS_INPUT_TILE_NUM_LIST=FAILS"
   ]
  }
 ],
 "metadata": {
  "kernelspec": {
   "display_name": "Python 3 (ipykernel)",
   "language": "python",
   "name": "python3"
  },
  "language_info": {
   "codemirror_mode": {
    "name": "ipython",
    "version": 3
   },
   "file_extension": ".py",
   "mimetype": "text/x-python",
   "name": "python",
   "nbconvert_exporter": "python",
   "pygments_lexer": "ipython3",
   "version": "3.10.13"
  }
 },
 "nbformat": 4,
 "nbformat_minor": 5
}
