{
 "cells": [
  {
   "cell_type": "markdown",
   "id": "outer-husband",
   "metadata": {},
   "source": [
    "## Combine CSV tables to create boreal-wide training table"
   ]
  },
  {
   "cell_type": "code",
   "execution_count": 1,
   "id": "dynamic-dynamics",
   "metadata": {},
   "outputs": [
    {
     "name": "stdout",
     "output_type": "stream",
     "text": [
      "[1] 3968\n"
     ]
    }
   ],
   "source": [
    "## Create single output table\n",
    "sample_n <- 3\n",
    "tile_list <- read.csv('/projects/my-public-bucket/DPS_tile_lists/ATL08_filt_sample_tindex_master.csv')\n",
    "n_tiles <- nrow(tile_list)\n",
    "print(n_tiles)\n",
    "for(i in 1:n_tiles){\n",
    "    temp_data <- read.csv(tile_list$local_path[i])\n",
    "    nrows <- nrow(temp_data)\n",
    "    indices <- seq(1:nrows)\n",
    "    if(nrows>sample_n){\n",
    "        samples <- sample(indices, sample_n, replace=FALSE)\n",
    "    sample_data <- sample(temp_data[samples,])\n",
    "    if(i==1){\n",
    "        out_data <- sample_data\n",
    "    } else{\n",
    "        out_data <- rbind(out_data, sample_data)\n",
    "    }\n",
    "    rm(temp_data)\n",
    "    }\n",
    "}\n",
    "\n",
    "write.csv(out_data, file='/projects/my-private-bucket/boreal_train_data_v2.csv')"
   ]
  },
  {
   "cell_type": "code",
   "execution_count": null,
   "id": "filled-comment",
   "metadata": {},
   "outputs": [],
   "source": []
  }
 ],
 "metadata": {
  "kernelspec": {
   "display_name": "R [conda env:r-with-gdal]",
   "language": "R",
   "name": "conda-env-r-with-gdal-r"
  },
  "language_info": {
   "codemirror_mode": "r",
   "file_extension": ".r",
   "mimetype": "text/x-r-source",
   "name": "R",
   "pygments_lexer": "r",
   "version": "4.1.1"
  }
 },
 "nbformat": 4,
 "nbformat_minor": 5
}
