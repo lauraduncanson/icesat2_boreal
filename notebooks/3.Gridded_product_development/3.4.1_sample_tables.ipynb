{
 "cells": [
  {
   "cell_type": "markdown",
   "id": "passing-south",
   "metadata": {},
   "source": [
    "## Combine CSV tables to create boreal-wide training table"
   ]
  },
  {
   "cell_type": "code",
   "execution_count": 6,
   "id": "faced-annual",
   "metadata": {
    "tags": []
   },
   "outputs": [
    {
     "name": "stdout",
     "output_type": "stream",
     "text": [
      "[1] 4942\n",
      "[1] 1\n"
     ]
    },
    {
     "ename": "ERROR",
     "evalue": "Error: IOError: Failed to open local file '/projects/my-private-bucket/dps_output/run_extract_atl08_covars/extract_atl08_covars/2020/2024/03/05/14/48/16/551605/atl08_006_030m_2020_2020_06_09_filt_covars_027636.parquet'. Detail: [errno 2] No such file or directory\n",
     "output_type": "error",
     "traceback": [
      "Error: IOError: Failed to open local file '/projects/my-private-bucket/dps_output/run_extract_atl08_covars/extract_atl08_covars/2020/2024/03/05/14/48/16/551605/atl08_006_030m_2020_2020_06_09_filt_covars_027636.parquet'. Detail: [errno 2] No such file or directory\nTraceback:\n",
      "1. read_parquet(tile_list$local_path[i])",
      "2. make_readable_file(file, mmap = mmap)",
      "3. mmap_open(file)",
      "4. io___MemoryMappedFile__Open(path, mode)"
     ]
    }
   ],
   "source": [
    "library(arrow)\n",
    "\n",
    "## Create single output table\n",
    "sample_n <- 3\n",
    "\n",
    "tile_list <- read.csv('/projects/shared-buckets/montesano/DPS_tile_lists/ATL08/extract_atl08_covars/2020/ATL08_filt_tindex_master.csv')\n",
    "n_tiles <- nrow(tile_list)\n",
    "print(n_tiles)\n",
    "for(i in 1:n_tiles){\n",
    "    print(i)\n",
    "    temp_data <- read_parquet(tile_list$local_path[i])\n",
    "    head(temp_data)\n",
    "    #filter to only good data\n",
    "    filter <- which(temp_data$doy >= 150 & temp_data$doy <= 250 & temp_data$sol_el < 0 & temp_data$ValidMask > 0)\n",
    "    if(length(filter)>0){\n",
    "        temp_data <- temp_data[filter,]\n",
    "        nrows <- nrow(temp_data)\n",
    "        indices <- seq(1:nrows)\n",
    "        if(nrows>sample_n){\n",
    "            samples <- sample(indices, sample_n, replace=FALSE)\n",
    "            sample_data <- as.data.frame(temp_data[samples,])\n",
    "        if(i==1){\n",
    "            out_data <- sample_data\n",
    "            str(out_data)\n",
    "        } else{\n",
    "            out_data <- rbind(sample_data, out_data)\n",
    "        }\n",
    "        rm(temp_data)\n",
    "        }\n",
    "    }\n",
    "    \n",
    "}\n",
    "head(out_data)\n",
    "write.csv(out_data, file='/projects/my-private-bucket/boreal_train_data_v11.csv', row.names=FALSE)"
   ]
  },
  {
   "cell_type": "code",
   "execution_count": 4,
   "id": "2284d4b3-06d3-467b-bed5-3c4d6d052843",
   "metadata": {
    "tags": []
   },
   "outputs": [
    {
     "name": "stderr",
     "output_type": "stream",
     "text": [
      "Warning message in install.packages(\"arrow\"):\n",
      "“installation of package ‘arrow’ had non-zero exit status”\n",
      "Updating HTML index of packages in '.Library'\n",
      "\n",
      "Making 'packages.html' ...\n",
      " done\n",
      "\n"
     ]
    }
   ],
   "source": [
    "install.packages('arrow')"
   ]
  },
  {
   "cell_type": "code",
   "execution_count": 5,
   "id": "3afafce1-0c9e-4b93-91eb-d88ae34650d3",
   "metadata": {
    "tags": []
   },
   "outputs": [
    {
     "name": "stderr",
     "output_type": "stream",
     "text": [
      "\n",
      "Attaching package: ‘arrow’\n",
      "\n",
      "\n",
      "The following object is masked from ‘package:utils’:\n",
      "\n",
      "    timestamp\n",
      "\n",
      "\n"
     ]
    }
   ],
   "source": [
    "library(arrow)\n"
   ]
  },
  {
   "cell_type": "code",
   "execution_count": 2,
   "id": "round-criminal",
   "metadata": {},
   "outputs": [],
   "source": [
    "temp_data <- read.csv(tile_list$local_path[i])"
   ]
  },
  {
   "cell_type": "code",
   "execution_count": 3,
   "id": "binary-warrant",
   "metadata": {},
   "outputs": [
    {
     "name": "stdout",
     "output_type": "stream",
     "text": [
      "'data.frame':\t739 obs. of  46 variables:\n",
      " $ lon        : num  -95.2 -95.2 -95.2 -95.2 -95.2 ...\n",
      " $ lat        : num  59.2 59.2 59.2 59.2 59.2 ...\n",
      " $ rh25       : num  1.286 1.11 0.744 1.873 0.748 ...\n",
      " $ rh50       : num  2.809 2.27 1.931 2.607 0.949 ...\n",
      " $ rh60       : num  2.92 3.39 2.74 3.06 1.45 ...\n",
      " $ rh70       : num  4.58 3.99 3.81 4.8 1.67 ...\n",
      " $ rh75       : num  5.11 4.43 4.13 5.07 2 ...\n",
      " $ rh80       : num  5.21 4.7 4.8 5.7 2.45 ...\n",
      " $ rh90       : num  5.64 5.38 6.79 6.41 3.41 ...\n",
      " $ h_can      : num  7.14 6.79 8.15 7.99 5.84 ...\n",
      " $ h_max_can  : num  7.66 7.8 8.24 8.4 6.65 ...\n",
      " $ ter_slp    : num  -0.001442 -0.001442 0.000381 0.000381 -0.003557 ...\n",
      " $ h_te_best  : num  14.9 14.9 14.8 14.8 14.9 ...\n",
      " $ seg_landcov: int  111 111 111 111 111 111 121 121 121 121 ...\n",
      " $ sol_el     : num  0.17 0.17 0.17 0.17 0.17 ...\n",
      " $ y          : int  2020 2020 2020 2020 2020 2020 2020 2020 2020 2020 ...\n",
      " $ m          : int  9 9 9 9 9 9 6 6 6 6 ...\n",
      " $ doy        : int  263 263 263 263 263 263 176 176 176 176 ...\n",
      " $ seg_cover  : int  76 76 76 76 81 81 44 44 54 54 ...\n",
      " $ geometry   : chr  \"POINT (3600265.9428737387 4764507.30469268)\" \"POINT (3600237.993484212 4764519.320461829)\" \"POINT (3600098.386376533 4764579.315600935)\" \"POINT (3600070.456967705 4764591.334053609)\" ...\n",
      " $ elevation  : num  64.2 64.3 62.6 63.6 63.7 ...\n",
      " $ slope      : num  0.378 0.953 0.753 0.425 0.409 ...\n",
      " $ tsri       : num  0.198858 0.019404 0.747322 0.602573 0.000882 ...\n",
      " $ tpi        : num  0.621 0.705 -0.502 0.437 0.175 ...\n",
      " $ slopemask  : num  1 1 1 1 1 1 1 1 1 1 ...\n",
      " $ Blue       : num  0.0153 0.0143 0.0165 0.0131 0.0134 ...\n",
      " $ Green      : num  0.0271 0.0267 0.0316 0.0259 0.0266 ...\n",
      " $ Red        : num  0.0188 0.0177 0.0219 0.0169 0.0163 ...\n",
      " $ NIR        : num  0.18 0.176 0.189 0.183 0.201 ...\n",
      " $ SWIR       : num  0.1069 0.1002 0.1143 0.0971 0.1163 ...\n",
      " $ SWIR2      : num  0.0524 0.0486 0.0546 0.0441 0.0521 ...\n",
      " $ NDVI       : num  0.811 0.817 0.793 0.831 0.85 ...\n",
      " $ SAVI       : num  0.346 0.342 0.353 0.356 0.386 ...\n",
      " $ MSAVI      : num  0.306 0.301 0.315 0.316 0.352 ...\n",
      " $ NDMI       : num  0.255 0.274 0.247 0.306 0.267 ...\n",
      " $ EVI        : num  0.342 0.337 0.35 0.35 0.386 ...\n",
      " $ NBR        : num  0.549 0.567 0.552 0.611 0.588 ...\n",
      " $ NBR2       : num  0.342 0.347 0.353 0.375 0.381 ...\n",
      " $ TCB        : num  0.162 0.156 0.173 0.158 0.175 ...\n",
      " $ TCG        : num  0.139 0.136 0.146 0.142 0.157 ...\n",
      " $ TCW        : num  -0.0323 -0.0288 -0.0339 -0.026 -0.0362 ...\n",
      " $ ValidMask  : num  1 1 1 1 1 1 1 1 1 1 ...\n",
      " $ Xgeo       : num  4825039 4825009 4824889 4824859 4824769 ...\n",
      " $ Ygeo       : num  3539717 3539747 3539807 3539807 3539837 ...\n",
      " $ JulianDate : num  225 225 225 225 225 225 225 225 225 225 ...\n",
      " $ yearDate   : num  2020 2020 2020 2020 2020 2020 2020 2020 2020 2020 ...\n"
     ]
    }
   ],
   "source": [
    "str(temp_data)"
   ]
  },
  {
   "cell_type": "code",
   "execution_count": 15,
   "id": "promising-connectivity",
   "metadata": {
    "collapsed": true,
    "jupyter": {
     "outputs_hidden": true
    }
   },
   "outputs": [
    {
     "name": "stdout",
     "output_type": "stream",
     "text": [
      "[1] 4581\n",
      "[1] 1\n",
      "[1] 1524\n",
      "         lon      lat      rh25      rh50      rh60      rh70   rh75     rh80\n",
      "1974 160.545 58.34854 0.7129364 0.8373413 0.9348999 0.9569397 1.0047 1.027551\n",
      "         rh90    h_can h_max_can     ter_slp h_te_best seg_landcov   sol_el\n",
      "1974 1.118488 1.671506  1.876038 -0.03982722  952.6729          30 3.796769\n",
      "        y m doy seg_cover                                    geometry elevation\n",
      "1974 2019 6 166        19 POINT (-1107918.797375895 2194147.01659329)  932.6371\n",
      "        slope      tsri      tpi slopemask  Blue Green   Red   NIR  SWIR SWIR2\n",
      "1974 11.66689 0.5311331 1.290588         1 0.626 0.964 0.839 2.348 2.489 1.766\n",
      "          NDVI      SAVI     MSAVI        NDMI     EVI       NBR      NBR2\n",
      "1974 0.4734861 0.6139138 0.5912094 -0.02915031 1.02319 0.1414682 0.1699177\n",
      "          TCB      TCG       TCW ValidMask    Xgeo     Ygeo JulianDate yearDate\n",
      "1974 3.117737 1.621255 -0.844941         1 2186869 -1100623        208     2020\n",
      "[1] 2\n",
      "[1] 889\n",
      "          lon      lat      rh25     rh50     rh60     rh70     rh75     rh80\n",
      "2504 146.1937 59.69317 0.7701302 2.834427 4.059929 5.254473 5.820787 6.387102\n",
      "        rh90    h_can h_max_can      ter_slp h_te_best seg_landcov    sol_el\n",
      "2504 7.51973 8.425833  8.652359 0.0001804822  118.8445          20 -3.938341\n",
      "        y m doy seg_cover                                      geometry\n",
      "2504 2020 6 176        26 POINT (-1797716.5424821498 2646680.932610036)\n",
      "     elevation     slope      tsri        tpi slopemask  Blue Green   Red   NIR\n",
      "2504  104.6524 0.5260505 0.1290182 -0.1384201         1 0.256 0.521 0.436 2.924\n",
      "      SWIR     SWIR2      NDVI      SAVI     MSAVI      NDMI     EVI     NBR\n",
      "2504 1.899 0.9580001 0.7404761 0.9668393 0.8263519 0.2125233 1.34632 0.50644\n",
      "          NBR2      TCB      TCG        TCW ValidMask    Xgeo     Ygeo\n",
      "2504 0.3293664 2.781695 2.211987 -0.5777684         1 2667079 -1818103\n",
      "     JulianDate yearDate\n",
      "2504        216     2021\n",
      "[1] 3\n",
      "[1] 9\n",
      "        lon      lat     rh25     rh50     rh60     rh70     rh75     rh80\n",
      "37 119.9318 53.13712 1.170715 1.699371 1.963489 2.393933 2.534164 2.819641\n",
      "       rh90    h_can h_max_can   ter_slp h_te_best seg_landcov    sol_el    y m\n",
      "37 3.129523 5.489436  6.414062 0.0451161  587.8766         113 0.5568449 2019 6\n",
      "   doy seg_cover                                   geometry elevation    slope\n",
      "37 167        77 POINT (-3482143.358541446 3115753.6190315)  602.7791 6.778778\n",
      "        tsri       tpi slopemask  Blue Green   Red   NIR  SWIR     SWIR2\n",
      "37 0.5111518 0.2200317         1 0.301 0.573 0.316 3.124 1.758 0.8200001\n",
      "        NDVI     SAVI     MSAVI      NDMI      EVI       NBR     NBR2      TCB\n",
      "37 0.8162791 1.069036 0.8822167 0.2798033 1.865781 0.5841784 0.363848 2.816994\n",
      "        TCG        TCW ValidMask    Xgeo     Ygeo JulianDate yearDate\n",
      "37 2.437469 -0.4752212         1 3052639 -3419023        177     2021\n",
      "[1] 4\n",
      "[1] 516\n",
      "          lon      lat       rh25       rh50      rh60      rh70      rh75\n",
      "667 -115.4563 68.10316 -0.2001915 0.03064728 0.1204193 0.2166382 0.2711945\n",
      "         rh80      rh90     h_can h_max_can     ter_slp h_te_best seg_landcov\n",
      "667 0.3257507 0.4348633 0.5221533 0.5439758 -0.00265284  133.7647          30\n",
      "      sol_el    y m doy seg_cover                                     geometry\n",
      "667 4.635191 2020 7 197         0 POINT (2276675.2318959106 4320964.782847675)\n",
      "    elevation    slope      tsri       tpi slopemask  Blue Green   Red   NIR\n",
      "667  154.1941 1.649264 0.3389013 0.9054565         1 0.604 0.786 0.836 2.437\n",
      "     SWIR SWIR2      NDVI      SAVI     MSAVI        NDMI      EVI       NBR\n",
      "667 2.741 1.701 0.4891537 0.6364962 0.6080585 -0.05870995 1.020265 0.1778637\n",
      "         NBR2      TCB    TCG       TCW ValidMask    Xgeo    Ygeo JulianDate\n",
      "667 0.2341288 3.167393 1.6467 -1.039863         1 4311469 2286197        209\n",
      "    yearDate\n",
      "667     2020\n",
      "[1] 5\n",
      "[1] 2066\n",
      "           lon      lat      rh25     rh50     rh60     rh70     rh75     rh80\n",
      "2080 -103.4966 54.45705 0.7359314 1.410583 1.612878 1.833228 1.946411 2.324451\n",
      "        rh90    h_can h_max_can      ter_slp h_te_best seg_landcov  sol_el    y\n",
      "2080 2.96825 3.213816  3.275208 -0.006803202  334.1829         111 2.76229 2019\n",
      "     m doy seg_cover                                     geometry elevation\n",
      "2080 6 162        81 POINT (3921326.3643498877 4104478.411931806)  363.3591\n",
      "         slope      tsri       tpi slopemask  Blue Green   Red   NIR SWIR SWIR2\n",
      "2080 0.4356614 0.7677146 -0.589386         1 0.275 0.578 0.474 3.425 1.59 0.749\n",
      "          NDVI     SAVI    MSAVI      NDMI      EVI       NBR      NBR2\n",
      "2080 0.7568607 1.006251 0.842205 0.3659023 1.416979 0.6411116 0.3595554\n",
      "          TCB      TCG        TCW ValidMask    Xgeo    Ygeo JulianDate yearDate\n",
      "2080 3.021361 2.604116 -0.2636979         1 4066099 3959687        207     2021\n"
     ]
    },
    {
     "data": {
      "text/html": [
       "<table class=\"dataframe\">\n",
       "<caption>A data.frame: 6 × 46</caption>\n",
       "<thead>\n",
       "\t<tr><th></th><th scope=col>lon</th><th scope=col>lat</th><th scope=col>rh25</th><th scope=col>rh50</th><th scope=col>rh60</th><th scope=col>rh70</th><th scope=col>rh75</th><th scope=col>rh80</th><th scope=col>rh90</th><th scope=col>h_can</th><th scope=col>⋯</th><th scope=col>NBR</th><th scope=col>NBR2</th><th scope=col>TCB</th><th scope=col>TCG</th><th scope=col>TCW</th><th scope=col>ValidMask</th><th scope=col>Xgeo</th><th scope=col>Ygeo</th><th scope=col>JulianDate</th><th scope=col>yearDate</th></tr>\n",
       "\t<tr><th></th><th scope=col>&lt;dbl&gt;</th><th scope=col>&lt;dbl&gt;</th><th scope=col>&lt;dbl&gt;</th><th scope=col>&lt;dbl&gt;</th><th scope=col>&lt;dbl&gt;</th><th scope=col>&lt;dbl&gt;</th><th scope=col>&lt;dbl&gt;</th><th scope=col>&lt;dbl&gt;</th><th scope=col>&lt;dbl&gt;</th><th scope=col>&lt;dbl&gt;</th><th scope=col>⋯</th><th scope=col>&lt;dbl&gt;</th><th scope=col>&lt;dbl&gt;</th><th scope=col>&lt;dbl&gt;</th><th scope=col>&lt;dbl&gt;</th><th scope=col>&lt;dbl&gt;</th><th scope=col>&lt;dbl&gt;</th><th scope=col>&lt;dbl&gt;</th><th scope=col>&lt;dbl&gt;</th><th scope=col>&lt;dbl&gt;</th><th scope=col>&lt;dbl&gt;</th></tr>\n",
       "</thead>\n",
       "<tbody>\n",
       "\t<tr><th scope=row>2080</th><td>-103.4966</td><td>54.45705</td><td> 0.7359314</td><td>1.41058350</td><td>1.6128784</td><td>1.8332275</td><td>1.9464111</td><td>2.3244507</td><td>2.9682495</td><td>3.2138159</td><td>⋯</td><td>0.6411116</td><td>0.3595554</td><td>3.021361</td><td>2.604116</td><td>-0.2636979</td><td>1</td><td>4066099</td><td> 3959687</td><td>207</td><td>2021</td></tr>\n",
       "\t<tr><th scope=row>667</th><td>-115.4563</td><td>68.10316</td><td>-0.2001915</td><td>0.03064728</td><td>0.1204193</td><td>0.2166382</td><td>0.2711945</td><td>0.3257507</td><td>0.4348633</td><td>0.5221533</td><td>⋯</td><td>0.1778637</td><td>0.2341288</td><td>3.167393</td><td>1.646700</td><td>-1.0398631</td><td>1</td><td>4311469</td><td> 2286197</td><td>209</td><td>2020</td></tr>\n",
       "\t<tr><th scope=row>37</th><td> 119.9318</td><td>53.13712</td><td> 1.1707153</td><td>1.69937134</td><td>1.9634888</td><td>2.3939331</td><td>2.5341644</td><td>2.8196411</td><td>3.1295227</td><td>5.4894360</td><td>⋯</td><td>0.5841784</td><td>0.3638480</td><td>2.816994</td><td>2.437469</td><td>-0.4752212</td><td>1</td><td>3052639</td><td>-3419023</td><td>177</td><td>2021</td></tr>\n",
       "\t<tr><th scope=row>2504</th><td> 146.1937</td><td>59.69317</td><td> 0.7701302</td><td>2.83442688</td><td>4.0599289</td><td>5.2544731</td><td>5.8207874</td><td>6.3871017</td><td>7.5197304</td><td>8.4258333</td><td>⋯</td><td>0.5064400</td><td>0.3293664</td><td>2.781695</td><td>2.211987</td><td>-0.5777684</td><td>1</td><td>2667079</td><td>-1818103</td><td>216</td><td>2021</td></tr>\n",
       "\t<tr><th scope=row>1974</th><td> 160.5450</td><td>58.34854</td><td> 0.7129364</td><td>0.83734131</td><td>0.9348999</td><td>0.9569397</td><td>1.0046997</td><td>1.0275513</td><td>1.1184875</td><td>1.6715063</td><td>⋯</td><td>0.1414682</td><td>0.1699177</td><td>3.117737</td><td>1.621255</td><td>-0.8449410</td><td>1</td><td>2186869</td><td>-1100623</td><td>208</td><td>2020</td></tr>\n",
       "\t<tr><th scope=row>18131</th><td> 124.0091</td><td>53.74983</td><td> 0.8687286</td><td>1.28918457</td><td>1.6258301</td><td>1.8937927</td><td>1.9629822</td><td>2.1700500</td><td>2.5513733</td><td>4.0606982</td><td>⋯</td><td>0.7088879</td><td>0.4382767</td><td>3.230027</td><td>3.167476</td><td>-0.3542775</td><td>1</td><td>3009529</td><td>-3308923</td><td>188</td><td>2021</td></tr>\n",
       "</tbody>\n",
       "</table>\n"
      ],
      "text/latex": [
       "A data.frame: 6 × 46\n",
       "\\begin{tabular}{r|lllllllllllllllllllll}\n",
       "  & lon & lat & rh25 & rh50 & rh60 & rh70 & rh75 & rh80 & rh90 & h\\_can & ⋯ & NBR & NBR2 & TCB & TCG & TCW & ValidMask & Xgeo & Ygeo & JulianDate & yearDate\\\\\n",
       "  & <dbl> & <dbl> & <dbl> & <dbl> & <dbl> & <dbl> & <dbl> & <dbl> & <dbl> & <dbl> & ⋯ & <dbl> & <dbl> & <dbl> & <dbl> & <dbl> & <dbl> & <dbl> & <dbl> & <dbl> & <dbl>\\\\\n",
       "\\hline\n",
       "\t2080 & -103.4966 & 54.45705 &  0.7359314 & 1.41058350 & 1.6128784 & 1.8332275 & 1.9464111 & 2.3244507 & 2.9682495 & 3.2138159 & ⋯ & 0.6411116 & 0.3595554 & 3.021361 & 2.604116 & -0.2636979 & 1 & 4066099 &  3959687 & 207 & 2021\\\\\n",
       "\t667 & -115.4563 & 68.10316 & -0.2001915 & 0.03064728 & 0.1204193 & 0.2166382 & 0.2711945 & 0.3257507 & 0.4348633 & 0.5221533 & ⋯ & 0.1778637 & 0.2341288 & 3.167393 & 1.646700 & -1.0398631 & 1 & 4311469 &  2286197 & 209 & 2020\\\\\n",
       "\t37 &  119.9318 & 53.13712 &  1.1707153 & 1.69937134 & 1.9634888 & 2.3939331 & 2.5341644 & 2.8196411 & 3.1295227 & 5.4894360 & ⋯ & 0.5841784 & 0.3638480 & 2.816994 & 2.437469 & -0.4752212 & 1 & 3052639 & -3419023 & 177 & 2021\\\\\n",
       "\t2504 &  146.1937 & 59.69317 &  0.7701302 & 2.83442688 & 4.0599289 & 5.2544731 & 5.8207874 & 6.3871017 & 7.5197304 & 8.4258333 & ⋯ & 0.5064400 & 0.3293664 & 2.781695 & 2.211987 & -0.5777684 & 1 & 2667079 & -1818103 & 216 & 2021\\\\\n",
       "\t1974 &  160.5450 & 58.34854 &  0.7129364 & 0.83734131 & 0.9348999 & 0.9569397 & 1.0046997 & 1.0275513 & 1.1184875 & 1.6715063 & ⋯ & 0.1414682 & 0.1699177 & 3.117737 & 1.621255 & -0.8449410 & 1 & 2186869 & -1100623 & 208 & 2020\\\\\n",
       "\t18131 &  124.0091 & 53.74983 &  0.8687286 & 1.28918457 & 1.6258301 & 1.8937927 & 1.9629822 & 2.1700500 & 2.5513733 & 4.0606982 & ⋯ & 0.7088879 & 0.4382767 & 3.230027 & 3.167476 & -0.3542775 & 1 & 3009529 & -3308923 & 188 & 2021\\\\\n",
       "\\end{tabular}\n"
      ],
      "text/markdown": [
       "\n",
       "A data.frame: 6 × 46\n",
       "\n",
       "| <!--/--> | lon &lt;dbl&gt; | lat &lt;dbl&gt; | rh25 &lt;dbl&gt; | rh50 &lt;dbl&gt; | rh60 &lt;dbl&gt; | rh70 &lt;dbl&gt; | rh75 &lt;dbl&gt; | rh80 &lt;dbl&gt; | rh90 &lt;dbl&gt; | h_can &lt;dbl&gt; | ⋯ ⋯ | NBR &lt;dbl&gt; | NBR2 &lt;dbl&gt; | TCB &lt;dbl&gt; | TCG &lt;dbl&gt; | TCW &lt;dbl&gt; | ValidMask &lt;dbl&gt; | Xgeo &lt;dbl&gt; | Ygeo &lt;dbl&gt; | JulianDate &lt;dbl&gt; | yearDate &lt;dbl&gt; |\n",
       "|---|---|---|---|---|---|---|---|---|---|---|---|---|---|---|---|---|---|---|---|---|---|\n",
       "| 2080 | -103.4966 | 54.45705 |  0.7359314 | 1.41058350 | 1.6128784 | 1.8332275 | 1.9464111 | 2.3244507 | 2.9682495 | 3.2138159 | ⋯ | 0.6411116 | 0.3595554 | 3.021361 | 2.604116 | -0.2636979 | 1 | 4066099 |  3959687 | 207 | 2021 |\n",
       "| 667 | -115.4563 | 68.10316 | -0.2001915 | 0.03064728 | 0.1204193 | 0.2166382 | 0.2711945 | 0.3257507 | 0.4348633 | 0.5221533 | ⋯ | 0.1778637 | 0.2341288 | 3.167393 | 1.646700 | -1.0398631 | 1 | 4311469 |  2286197 | 209 | 2020 |\n",
       "| 37 |  119.9318 | 53.13712 |  1.1707153 | 1.69937134 | 1.9634888 | 2.3939331 | 2.5341644 | 2.8196411 | 3.1295227 | 5.4894360 | ⋯ | 0.5841784 | 0.3638480 | 2.816994 | 2.437469 | -0.4752212 | 1 | 3052639 | -3419023 | 177 | 2021 |\n",
       "| 2504 |  146.1937 | 59.69317 |  0.7701302 | 2.83442688 | 4.0599289 | 5.2544731 | 5.8207874 | 6.3871017 | 7.5197304 | 8.4258333 | ⋯ | 0.5064400 | 0.3293664 | 2.781695 | 2.211987 | -0.5777684 | 1 | 2667079 | -1818103 | 216 | 2021 |\n",
       "| 1974 |  160.5450 | 58.34854 |  0.7129364 | 0.83734131 | 0.9348999 | 0.9569397 | 1.0046997 | 1.0275513 | 1.1184875 | 1.6715063 | ⋯ | 0.1414682 | 0.1699177 | 3.117737 | 1.621255 | -0.8449410 | 1 | 2186869 | -1100623 | 208 | 2020 |\n",
       "| 18131 |  124.0091 | 53.74983 |  0.8687286 | 1.28918457 | 1.6258301 | 1.8937927 | 1.9629822 | 2.1700500 | 2.5513733 | 4.0606982 | ⋯ | 0.7088879 | 0.4382767 | 3.230027 | 3.167476 | -0.3542775 | 1 | 3009529 | -3308923 | 188 | 2021 |\n",
       "\n"
      ],
      "text/plain": [
       "      lon       lat      rh25       rh50       rh60      rh70      rh75     \n",
       "2080  -103.4966 54.45705  0.7359314 1.41058350 1.6128784 1.8332275 1.9464111\n",
       "667   -115.4563 68.10316 -0.2001915 0.03064728 0.1204193 0.2166382 0.2711945\n",
       "37     119.9318 53.13712  1.1707153 1.69937134 1.9634888 2.3939331 2.5341644\n",
       "2504   146.1937 59.69317  0.7701302 2.83442688 4.0599289 5.2544731 5.8207874\n",
       "1974   160.5450 58.34854  0.7129364 0.83734131 0.9348999 0.9569397 1.0046997\n",
       "18131  124.0091 53.74983  0.8687286 1.28918457 1.6258301 1.8937927 1.9629822\n",
       "      rh80      rh90      h_can     ⋯ NBR       NBR2      TCB      TCG     \n",
       "2080  2.3244507 2.9682495 3.2138159 ⋯ 0.6411116 0.3595554 3.021361 2.604116\n",
       "667   0.3257507 0.4348633 0.5221533 ⋯ 0.1778637 0.2341288 3.167393 1.646700\n",
       "37    2.8196411 3.1295227 5.4894360 ⋯ 0.5841784 0.3638480 2.816994 2.437469\n",
       "2504  6.3871017 7.5197304 8.4258333 ⋯ 0.5064400 0.3293664 2.781695 2.211987\n",
       "1974  1.0275513 1.1184875 1.6715063 ⋯ 0.1414682 0.1699177 3.117737 1.621255\n",
       "18131 2.1700500 2.5513733 4.0606982 ⋯ 0.7088879 0.4382767 3.230027 3.167476\n",
       "      TCW        ValidMask Xgeo    Ygeo     JulianDate yearDate\n",
       "2080  -0.2636979 1         4066099  3959687 207        2021    \n",
       "667   -1.0398631 1         4311469  2286197 209        2020    \n",
       "37    -0.4752212 1         3052639 -3419023 177        2021    \n",
       "2504  -0.5777684 1         2667079 -1818103 216        2021    \n",
       "1974  -0.8449410 1         2186869 -1100623 208        2020    \n",
       "18131 -0.3542775 1         3009529 -3308923 188        2021    "
      ]
     },
     "metadata": {},
     "output_type": "display_data"
    }
   ],
   "source": [
    "## Create single output table\n",
    "sample_n <- 1\n",
    "tile_list <- read.csv('/projects/shared-buckets/nathanmthomas/DPS_tile_lists/ATL08_filt_tindex_master.csv')\n",
    "n_tiles <- nrow(tile_list)\n",
    "print(n_tiles)\n",
    "for(i in 1:5){\n",
    "    print(i)\n",
    "    temp_data <- read.csv(tile_list$local_path[i])\n",
    "    #filter to only good data\n",
    "    filter <- which(temp_data$doy >= 130 & temp_data$doy <= 250 & abs(temp_data$sol_el) < 5 & temp_data$ValidMask > 0)\n",
    "    if(length(filter)>0){\n",
    "        temp_data <- temp_data[filter,]\n",
    "\n",
    "        nrows <- nrow(temp_data)\n",
    "        indices <- seq(1:nrows)\n",
    "        if(nrows>sample_n){\n",
    "            samples <- sample(indices, sample_n, replace=FALSE)\n",
    "            print(samples)\n",
    "            sample_data <- as.data.frame(temp_data[samples,])\n",
    "            print(sample_data)\n",
    "        if(!exists(\"out_data\")){\n",
    "            out_data <- as.data.frame(sample_data)\n",
    "        } else{\n",
    "            out_data <- rbind(sample_data, out_data)\n",
    "            #str(out_data)\n",
    "        }\n",
    "        rm(temp_data)\n",
    "        }\n",
    "    }\n",
    "    \n",
    "}\n",
    "head(out_data)\n",
    "out_data <- as.data.frame(out_data)\n",
    "write.csv(out_data, file='/projects/my-private-bucket/boreal_train_data_test.csv')"
   ]
  },
  {
   "cell_type": "code",
   "execution_count": 6,
   "id": "professional-castle",
   "metadata": {},
   "outputs": [
    {
     "data": {
      "text/html": [
       "<table class=\"dataframe\">\n",
       "<caption>A data.frame: 6 × 47</caption>\n",
       "<thead>\n",
       "\t<tr><th></th><th scope=col>X</th><th scope=col>lon</th><th scope=col>lat</th><th scope=col>rh25</th><th scope=col>rh50</th><th scope=col>rh60</th><th scope=col>rh70</th><th scope=col>rh75</th><th scope=col>rh80</th><th scope=col>rh90</th><th scope=col>⋯</th><th scope=col>NBR</th><th scope=col>NBR2</th><th scope=col>TCB</th><th scope=col>TCG</th><th scope=col>TCW</th><th scope=col>ValidMask</th><th scope=col>Xgeo</th><th scope=col>Ygeo</th><th scope=col>JulianDate</th><th scope=col>yearDate</th></tr>\n",
       "\t<tr><th></th><th scope=col>&lt;int&gt;</th><th scope=col>&lt;dbl&gt;</th><th scope=col>&lt;dbl&gt;</th><th scope=col>&lt;dbl&gt;</th><th scope=col>&lt;dbl&gt;</th><th scope=col>&lt;dbl&gt;</th><th scope=col>&lt;dbl&gt;</th><th scope=col>&lt;dbl&gt;</th><th scope=col>&lt;dbl&gt;</th><th scope=col>&lt;dbl&gt;</th><th scope=col>⋯</th><th scope=col>&lt;dbl&gt;</th><th scope=col>&lt;dbl&gt;</th><th scope=col>&lt;dbl&gt;</th><th scope=col>&lt;dbl&gt;</th><th scope=col>&lt;dbl&gt;</th><th scope=col>&lt;int&gt;</th><th scope=col>&lt;dbl&gt;</th><th scope=col>&lt;dbl&gt;</th><th scope=col>&lt;int&gt;</th><th scope=col>&lt;int&gt;</th></tr>\n",
       "</thead>\n",
       "<tbody>\n",
       "\t<tr><th scope=row>1</th><td>1465</td><td>5.544486</td><td>60.70709</td><td>0.6613464</td><td>0.9009743</td><td>0.9926147</td><td>1.0735359</td><td>1.1561775</td><td>1.2711334</td><td>1.3311234</td><td>⋯</td><td>0.2937275</td><td>0.1919064</td><td>0.2654094</td><td>0.1669617</td><td>-0.05633675</td><td>1</td><td>8983099</td><td>-1852423</td><td>238</td><td>2019</td></tr>\n",
       "\t<tr><th scope=row>2</th><td>4379</td><td>6.381042</td><td>61.32202</td><td>0.7783508</td><td>1.2868042</td><td>1.3886475</td><td>1.4892212</td><td>1.5412598</td><td>1.6014648</td><td>1.7470581</td><td>⋯</td><td>0.2959276</td><td>0.2595765</td><td>0.3251627</td><td>0.2080078</td><td>-0.09673485</td><td>1</td><td>8891539</td><td>-1845043</td><td>204</td><td>2021</td></tr>\n",
       "\t<tr><th scope=row>3</th><td> 405</td><td>6.093237</td><td>60.25357</td><td>2.2578182</td><td>2.8664017</td><td>3.1752823</td><td>3.4513290</td><td>3.6709633</td><td>3.8591988</td><td>4.2902008</td><td>⋯</td><td>0.4957907</td><td>0.2969543</td><td>0.3189700</td><td>0.2450805</td><td>-0.05444074</td><td>1</td><td>9020959</td><td>-1914163</td><td>245</td><td>2021</td></tr>\n",
       "\t<tr><th scope=row>4</th><td> 411</td><td>6.579039</td><td>62.48170</td><td>2.8862000</td><td>3.0283661</td><td>3.0853363</td><td>3.1863632</td><td>3.2485065</td><td>3.2856201</td><td>3.3698219</td><td>⋯</td><td>0.4514562</td><td>0.3300395</td><td>0.2718228</td><td>0.1985875</td><td>-0.06823550</td><td>1</td><td>8862379</td><td>-1871743</td><td>204</td><td>2021</td></tr>\n",
       "\t<tr><th scope=row>5</th><td> 686</td><td>8.013400</td><td>61.19866</td><td>0.5439453</td><td>0.5439453</td><td>0.5439453</td><td>0.5439453</td><td>0.5439453</td><td>0.5439453</td><td>0.5439453</td><td>⋯</td><td>0.5397226</td><td>0.3706897</td><td>0.1229727</td><td>0.0907332</td><td>-0.02088962</td><td>1</td><td>8901349</td><td>-1969783</td><td>206</td><td>2021</td></tr>\n",
       "\t<tr><th scope=row>6</th><td>   2</td><td>8.933409</td><td>61.56754</td><td>3.8388977</td><td>5.4116821</td><td>5.8993652</td><td>6.2874634</td><td>6.4337158</td><td>6.6973755</td><td>8.4284424</td><td>⋯</td><td>0.6208597</td><td>0.3944851</td><td>0.2049988</td><td>0.1762704</td><td>-0.03115869</td><td>1</td><td>8794189</td><td>-1941373</td><td>229</td><td>2020</td></tr>\n",
       "</tbody>\n",
       "</table>\n"
      ],
      "text/latex": [
       "A data.frame: 6 × 47\n",
       "\\begin{tabular}{r|lllllllllllllllllllll}\n",
       "  & X & lon & lat & rh25 & rh50 & rh60 & rh70 & rh75 & rh80 & rh90 & ⋯ & NBR & NBR2 & TCB & TCG & TCW & ValidMask & Xgeo & Ygeo & JulianDate & yearDate\\\\\n",
       "  & <int> & <dbl> & <dbl> & <dbl> & <dbl> & <dbl> & <dbl> & <dbl> & <dbl> & <dbl> & ⋯ & <dbl> & <dbl> & <dbl> & <dbl> & <dbl> & <int> & <dbl> & <dbl> & <int> & <int>\\\\\n",
       "\\hline\n",
       "\t1 & 1465 & 5.544486 & 60.70709 & 0.6613464 & 0.9009743 & 0.9926147 & 1.0735359 & 1.1561775 & 1.2711334 & 1.3311234 & ⋯ & 0.2937275 & 0.1919064 & 0.2654094 & 0.1669617 & -0.05633675 & 1 & 8983099 & -1852423 & 238 & 2019\\\\\n",
       "\t2 & 4379 & 6.381042 & 61.32202 & 0.7783508 & 1.2868042 & 1.3886475 & 1.4892212 & 1.5412598 & 1.6014648 & 1.7470581 & ⋯ & 0.2959276 & 0.2595765 & 0.3251627 & 0.2080078 & -0.09673485 & 1 & 8891539 & -1845043 & 204 & 2021\\\\\n",
       "\t3 &  405 & 6.093237 & 60.25357 & 2.2578182 & 2.8664017 & 3.1752823 & 3.4513290 & 3.6709633 & 3.8591988 & 4.2902008 & ⋯ & 0.4957907 & 0.2969543 & 0.3189700 & 0.2450805 & -0.05444074 & 1 & 9020959 & -1914163 & 245 & 2021\\\\\n",
       "\t4 &  411 & 6.579039 & 62.48170 & 2.8862000 & 3.0283661 & 3.0853363 & 3.1863632 & 3.2485065 & 3.2856201 & 3.3698219 & ⋯ & 0.4514562 & 0.3300395 & 0.2718228 & 0.1985875 & -0.06823550 & 1 & 8862379 & -1871743 & 204 & 2021\\\\\n",
       "\t5 &  686 & 8.013400 & 61.19866 & 0.5439453 & 0.5439453 & 0.5439453 & 0.5439453 & 0.5439453 & 0.5439453 & 0.5439453 & ⋯ & 0.5397226 & 0.3706897 & 0.1229727 & 0.0907332 & -0.02088962 & 1 & 8901349 & -1969783 & 206 & 2021\\\\\n",
       "\t6 &    2 & 8.933409 & 61.56754 & 3.8388977 & 5.4116821 & 5.8993652 & 6.2874634 & 6.4337158 & 6.6973755 & 8.4284424 & ⋯ & 0.6208597 & 0.3944851 & 0.2049988 & 0.1762704 & -0.03115869 & 1 & 8794189 & -1941373 & 229 & 2020\\\\\n",
       "\\end{tabular}\n"
      ],
      "text/markdown": [
       "\n",
       "A data.frame: 6 × 47\n",
       "\n",
       "| <!--/--> | X &lt;int&gt; | lon &lt;dbl&gt; | lat &lt;dbl&gt; | rh25 &lt;dbl&gt; | rh50 &lt;dbl&gt; | rh60 &lt;dbl&gt; | rh70 &lt;dbl&gt; | rh75 &lt;dbl&gt; | rh80 &lt;dbl&gt; | rh90 &lt;dbl&gt; | ⋯ ⋯ | NBR &lt;dbl&gt; | NBR2 &lt;dbl&gt; | TCB &lt;dbl&gt; | TCG &lt;dbl&gt; | TCW &lt;dbl&gt; | ValidMask &lt;int&gt; | Xgeo &lt;dbl&gt; | Ygeo &lt;dbl&gt; | JulianDate &lt;int&gt; | yearDate &lt;int&gt; |\n",
       "|---|---|---|---|---|---|---|---|---|---|---|---|---|---|---|---|---|---|---|---|---|---|\n",
       "| 1 | 1465 | 5.544486 | 60.70709 | 0.6613464 | 0.9009743 | 0.9926147 | 1.0735359 | 1.1561775 | 1.2711334 | 1.3311234 | ⋯ | 0.2937275 | 0.1919064 | 0.2654094 | 0.1669617 | -0.05633675 | 1 | 8983099 | -1852423 | 238 | 2019 |\n",
       "| 2 | 4379 | 6.381042 | 61.32202 | 0.7783508 | 1.2868042 | 1.3886475 | 1.4892212 | 1.5412598 | 1.6014648 | 1.7470581 | ⋯ | 0.2959276 | 0.2595765 | 0.3251627 | 0.2080078 | -0.09673485 | 1 | 8891539 | -1845043 | 204 | 2021 |\n",
       "| 3 |  405 | 6.093237 | 60.25357 | 2.2578182 | 2.8664017 | 3.1752823 | 3.4513290 | 3.6709633 | 3.8591988 | 4.2902008 | ⋯ | 0.4957907 | 0.2969543 | 0.3189700 | 0.2450805 | -0.05444074 | 1 | 9020959 | -1914163 | 245 | 2021 |\n",
       "| 4 |  411 | 6.579039 | 62.48170 | 2.8862000 | 3.0283661 | 3.0853363 | 3.1863632 | 3.2485065 | 3.2856201 | 3.3698219 | ⋯ | 0.4514562 | 0.3300395 | 0.2718228 | 0.1985875 | -0.06823550 | 1 | 8862379 | -1871743 | 204 | 2021 |\n",
       "| 5 |  686 | 8.013400 | 61.19866 | 0.5439453 | 0.5439453 | 0.5439453 | 0.5439453 | 0.5439453 | 0.5439453 | 0.5439453 | ⋯ | 0.5397226 | 0.3706897 | 0.1229727 | 0.0907332 | -0.02088962 | 1 | 8901349 | -1969783 | 206 | 2021 |\n",
       "| 6 |    2 | 8.933409 | 61.56754 | 3.8388977 | 5.4116821 | 5.8993652 | 6.2874634 | 6.4337158 | 6.6973755 | 8.4284424 | ⋯ | 0.6208597 | 0.3944851 | 0.2049988 | 0.1762704 | -0.03115869 | 1 | 8794189 | -1941373 | 229 | 2020 |\n",
       "\n"
      ],
      "text/plain": [
       "  X    lon      lat      rh25      rh50      rh60      rh70      rh75     \n",
       "1 1465 5.544486 60.70709 0.6613464 0.9009743 0.9926147 1.0735359 1.1561775\n",
       "2 4379 6.381042 61.32202 0.7783508 1.2868042 1.3886475 1.4892212 1.5412598\n",
       "3  405 6.093237 60.25357 2.2578182 2.8664017 3.1752823 3.4513290 3.6709633\n",
       "4  411 6.579039 62.48170 2.8862000 3.0283661 3.0853363 3.1863632 3.2485065\n",
       "5  686 8.013400 61.19866 0.5439453 0.5439453 0.5439453 0.5439453 0.5439453\n",
       "6    2 8.933409 61.56754 3.8388977 5.4116821 5.8993652 6.2874634 6.4337158\n",
       "  rh80      rh90      ⋯ NBR       NBR2      TCB       TCG       TCW        \n",
       "1 1.2711334 1.3311234 ⋯ 0.2937275 0.1919064 0.2654094 0.1669617 -0.05633675\n",
       "2 1.6014648 1.7470581 ⋯ 0.2959276 0.2595765 0.3251627 0.2080078 -0.09673485\n",
       "3 3.8591988 4.2902008 ⋯ 0.4957907 0.2969543 0.3189700 0.2450805 -0.05444074\n",
       "4 3.2856201 3.3698219 ⋯ 0.4514562 0.3300395 0.2718228 0.1985875 -0.06823550\n",
       "5 0.5439453 0.5439453 ⋯ 0.5397226 0.3706897 0.1229727 0.0907332 -0.02088962\n",
       "6 6.6973755 8.4284424 ⋯ 0.6208597 0.3944851 0.2049988 0.1762704 -0.03115869\n",
       "  ValidMask Xgeo    Ygeo     JulianDate yearDate\n",
       "1 1         8983099 -1852423 238        2019    \n",
       "2 1         8891539 -1845043 204        2021    \n",
       "3 1         9020959 -1914163 245        2021    \n",
       "4 1         8862379 -1871743 204        2021    \n",
       "5 1         8901349 -1969783 206        2021    \n",
       "6 1         8794189 -1941373 229        2020    "
      ]
     },
     "metadata": {},
     "output_type": "display_data"
    }
   ],
   "source": [
    "#remove first column\n",
    "file='/projects/my-private-bucket/boreal_train_data_v10.csv'\n",
    "data <- read.csv(file)\n",
    "head(data)\n",
    "cols <- ncol(data)\n",
    "data <- data[,2:cols]\n",
    "write.csv(data, file='/projects/my-private-bucket/boreal_train_data_v11.csv', row.names=FALSE)"
   ]
  },
  {
   "cell_type": "code",
   "execution_count": null,
   "id": "overhead-language",
   "metadata": {},
   "outputs": [],
   "source": []
  }
 ],
 "metadata": {
  "kernelspec": {
   "display_name": "R",
   "language": "R",
   "name": "ir"
  },
  "language_info": {
   "codemirror_mode": "r",
   "file_extension": ".r",
   "mimetype": "text/x-r-source",
   "name": "R",
   "pygments_lexer": "r",
   "version": "4.2.3"
  }
 },
 "nbformat": 4,
 "nbformat_minor": 5
}
