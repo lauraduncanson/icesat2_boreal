{
 "cells": [
  {
   "cell_type": "markdown",
   "id": "a601d65a",
   "metadata": {},
   "source": [
    "# Debug STAC query for HLS S30, L30"
   ]
  },
  {
   "cell_type": "code",
   "execution_count": 16,
   "id": "266f4166",
   "metadata": {},
   "outputs": [],
   "source": [
    "from pystac_client import Client\n",
    "import pandas as pd\n",
    "\n",
    "def query_stac(bbox, datetime, cloudcover, collection_list=[\"HLSS30.v2.0\",\"HLSL30.v2.0\"]):\n",
    "    catalog = Client.open(\"https://cmr.earthdata.nasa.gov/stac/LPCLOUD\")\n",
    "    \n",
    "    search = catalog.search(\n",
    "        collections=collection_list,\n",
    "        bbox=bbox, #[-122.4969372889167, 59.282959601314104, -120.20175133769581, 60.40424594544261],\n",
    "        datetime=datetime, #['2020-06-01T00:00:00Z','2021-06-15T23:59:59Z'],\n",
    "        # max_items=80, # for testing\n",
    "        # query={\"eo:cloud_cover\":{\"lt\":20}} #doesn't work\n",
    "    )\n",
    "    results = search.get_all_items_as_dict()\n",
    "    \n",
    "    filtered_results = []\n",
    "    for i in results['features']:\n",
    "        if int(i['properties']['eo:cloud_cover']) <= cloudcover:\n",
    "            filtered_results.append(i)\n",
    "    \n",
    "    results['features'] = filtered_results\n",
    "    \n",
    "    return results\n"
   ]
  },
  {
   "cell_type": "markdown",
   "id": "3ed53fbb",
   "metadata": {},
   "source": [
    "# Manual EarthData search    "
   ]
  },
  {
   "cell_type": "code",
   "execution_count": 41,
   "id": "01489cbe",
   "metadata": {},
   "outputs": [
    {
     "name": "stdout",
     "output_type": "stream",
     "text": [
      "\n",
      "Conducting HLS search now... ['HLSS30.v2.0']\n"
     ]
    }
   ],
   "source": [
    "HLS_product_version = 2.0\n",
    "HLS_product_list = [f\"HLSL30.v{HLS_product_version}\", f\"HLSS30.v{HLS_product_version}\"]\n",
    "HLS_product_list = [f\"HLSS30.v{HLS_product_version}\"]\n",
    "\n",
    "STARTDATE = '2021-01-01'\n",
    "ENDDATE = '2021-02-15'\n",
    "\n",
    "print(f'\\nConducting HLS search now... {HLS_product_list}')\n",
    "\n",
    "manual_link = f'https://search.earthdata.nasa.gov/search/granules?p=C2021957295-LPCLOUD&pg[0][v]=f&pg[0][qt]={STARTDATE}T00%3A00%3A00.000Z%2C{ENDDATE}T23%3A59%3A59.999Z&pg[0][gsk]=-start_date&q=HLSS30&tl=1676070115.136!3!!&lat=33.041963238815576&long=-84.65625000000001'\n",
    "\n",
    "results = query_stac([-122.45, 59.28, -120.20, 60.40], [f'{STARTDATE}T00:00:00Z',f'{ENDDATE}T23:59:59Z'], 20, collection_list = HLS_product_list)"
   ]
  },
  {
   "cell_type": "code",
   "execution_count": 42,
   "id": "d1fb0edd",
   "metadata": {},
   "outputs": [
    {
     "data": {
      "text/plain": [
       "{'type': 'Feature',\n",
       " 'id': 'HLS.S30.T11VLH.2021043T192519.v2.0',\n",
       " 'stac_version': '1.0.0',\n",
       " 'stac_extensions': ['https://stac-extensions.github.io/eo/v1.0.0/schema.json'],\n",
       " 'collection': 'HLSS30.v2.0',\n",
       " 'geometry': {'type': 'Polygon',\n",
       "  'coordinates': [[[-120.6196282, 60.2993491],\n",
       "    [-118.6339723, 60.3386088],\n",
       "    [-118.6850101, 61.323456],\n",
       "    [-120.7302681, 61.2831872],\n",
       "    [-120.6196282, 60.2993491]]]},\n",
       " 'bbox': [-120.730268, 60.299349, -118.633972, 61.323456],\n",
       " 'links': [{'rel': 'self',\n",
       "   'href': 'https://cmr.earthdata.nasa.gov/stac/LPCLOUD/collections/HLSS30.v2.0/items/HLS.S30.T11VLH.2021043T192519.v2.0'},\n",
       "  {'rel': 'parent',\n",
       "   'href': 'https://cmr.earthdata.nasa.gov/stac/LPCLOUD/collections/HLSS30.v2.0'},\n",
       "  {'rel': 'collection',\n",
       "   'href': 'https://cmr.earthdata.nasa.gov/stac/LPCLOUD/collections/HLSS30.v2.0'},\n",
       "  {'rel': 'root', 'href': 'https://cmr.earthdata.nasa.gov/stac/'},\n",
       "  {'rel': 'provider', 'href': 'https://cmr.earthdata.nasa.gov/stac/LPCLOUD'},\n",
       "  {'rel': 'via',\n",
       "   'href': 'https://cmr.earthdata.nasa.gov/search/concepts/G2158106647-LPCLOUD.json'},\n",
       "  {'rel': 'via',\n",
       "   'href': 'https://cmr.earthdata.nasa.gov/search/concepts/G2158106647-LPCLOUD.umm_json'}],\n",
       " 'properties': {'eo:cloud_cover': 8,\n",
       "  'datetime': '2021-02-12T19:27:38.302Z',\n",
       "  'start_datetime': '2021-02-12T19:27:38.302Z',\n",
       "  'end_datetime': '2021-02-12T19:27:38.302Z'},\n",
       " 'assets': {'SAA': {'href': 'https://data.lpdaac.earthdatacloud.nasa.gov/lp-prod-protected/HLSS30.020/HLS.S30.T11VLH.2021043T192519.v2.0/HLS.S30.T11VLH.2021043T192519.v2.0.SAA.tif',\n",
       "   'title': 'Download HLS.S30.T11VLH.2021043T192519.v2.0.SAA.tif'},\n",
       "  'B01': {'href': 'https://data.lpdaac.earthdatacloud.nasa.gov/lp-prod-protected/HLSS30.020/HLS.S30.T11VLH.2021043T192519.v2.0/HLS.S30.T11VLH.2021043T192519.v2.0.B01.tif',\n",
       "   'title': 'Download HLS.S30.T11VLH.2021043T192519.v2.0.B01.tif'},\n",
       "  'B02': {'href': 'https://data.lpdaac.earthdatacloud.nasa.gov/lp-prod-protected/HLSS30.020/HLS.S30.T11VLH.2021043T192519.v2.0/HLS.S30.T11VLH.2021043T192519.v2.0.B02.tif',\n",
       "   'title': 'Download HLS.S30.T11VLH.2021043T192519.v2.0.B02.tif'},\n",
       "  'B08': {'href': 'https://data.lpdaac.earthdatacloud.nasa.gov/lp-prod-protected/HLSS30.020/HLS.S30.T11VLH.2021043T192519.v2.0/HLS.S30.T11VLH.2021043T192519.v2.0.B08.tif',\n",
       "   'title': 'Download HLS.S30.T11VLH.2021043T192519.v2.0.B08.tif'},\n",
       "  'B10': {'href': 'https://data.lpdaac.earthdatacloud.nasa.gov/lp-prod-protected/HLSS30.020/HLS.S30.T11VLH.2021043T192519.v2.0/HLS.S30.T11VLH.2021043T192519.v2.0.B10.tif',\n",
       "   'title': 'Download HLS.S30.T11VLH.2021043T192519.v2.0.B10.tif'},\n",
       "  'B09': {'href': 'https://data.lpdaac.earthdatacloud.nasa.gov/lp-prod-protected/HLSS30.020/HLS.S30.T11VLH.2021043T192519.v2.0/HLS.S30.T11VLH.2021043T192519.v2.0.B09.tif',\n",
       "   'title': 'Download HLS.S30.T11VLH.2021043T192519.v2.0.B09.tif'},\n",
       "  'VAA': {'href': 'https://data.lpdaac.earthdatacloud.nasa.gov/lp-prod-protected/HLSS30.020/HLS.S30.T11VLH.2021043T192519.v2.0/HLS.S30.T11VLH.2021043T192519.v2.0.VAA.tif',\n",
       "   'title': 'Download HLS.S30.T11VLH.2021043T192519.v2.0.VAA.tif'},\n",
       "  'Fmask': {'href': 'https://data.lpdaac.earthdatacloud.nasa.gov/lp-prod-protected/HLSS30.020/HLS.S30.T11VLH.2021043T192519.v2.0/HLS.S30.T11VLH.2021043T192519.v2.0.Fmask.tif',\n",
       "   'title': 'Download HLS.S30.T11VLH.2021043T192519.v2.0.Fmask.tif'},\n",
       "  'B07': {'href': 'https://data.lpdaac.earthdatacloud.nasa.gov/lp-prod-protected/HLSS30.020/HLS.S30.T11VLH.2021043T192519.v2.0/HLS.S30.T11VLH.2021043T192519.v2.0.B07.tif',\n",
       "   'title': 'Download HLS.S30.T11VLH.2021043T192519.v2.0.B07.tif'},\n",
       "  'B11': {'href': 'https://data.lpdaac.earthdatacloud.nasa.gov/lp-prod-protected/HLSS30.020/HLS.S30.T11VLH.2021043T192519.v2.0/HLS.S30.T11VLH.2021043T192519.v2.0.B11.tif',\n",
       "   'title': 'Download HLS.S30.T11VLH.2021043T192519.v2.0.B11.tif'},\n",
       "  'B04': {'href': 'https://data.lpdaac.earthdatacloud.nasa.gov/lp-prod-protected/HLSS30.020/HLS.S30.T11VLH.2021043T192519.v2.0/HLS.S30.T11VLH.2021043T192519.v2.0.B04.tif',\n",
       "   'title': 'Download HLS.S30.T11VLH.2021043T192519.v2.0.B04.tif'},\n",
       "  'B12': {'href': 'https://data.lpdaac.earthdatacloud.nasa.gov/lp-prod-protected/HLSS30.020/HLS.S30.T11VLH.2021043T192519.v2.0/HLS.S30.T11VLH.2021043T192519.v2.0.B12.tif',\n",
       "   'title': 'Download HLS.S30.T11VLH.2021043T192519.v2.0.B12.tif'},\n",
       "  'B05': {'href': 'https://data.lpdaac.earthdatacloud.nasa.gov/lp-prod-protected/HLSS30.020/HLS.S30.T11VLH.2021043T192519.v2.0/HLS.S30.T11VLH.2021043T192519.v2.0.B05.tif',\n",
       "   'title': 'Download HLS.S30.T11VLH.2021043T192519.v2.0.B05.tif'},\n",
       "  'VZA': {'href': 'https://data.lpdaac.earthdatacloud.nasa.gov/lp-prod-protected/HLSS30.020/HLS.S30.T11VLH.2021043T192519.v2.0/HLS.S30.T11VLH.2021043T192519.v2.0.VZA.tif',\n",
       "   'title': 'Download HLS.S30.T11VLH.2021043T192519.v2.0.VZA.tif'},\n",
       "  'B03': {'href': 'https://data.lpdaac.earthdatacloud.nasa.gov/lp-prod-protected/HLSS30.020/HLS.S30.T11VLH.2021043T192519.v2.0/HLS.S30.T11VLH.2021043T192519.v2.0.B03.tif',\n",
       "   'title': 'Download HLS.S30.T11VLH.2021043T192519.v2.0.B03.tif'},\n",
       "  'B8A': {'href': 'https://data.lpdaac.earthdatacloud.nasa.gov/lp-prod-protected/HLSS30.020/HLS.S30.T11VLH.2021043T192519.v2.0/HLS.S30.T11VLH.2021043T192519.v2.0.B8A.tif',\n",
       "   'title': 'Download HLS.S30.T11VLH.2021043T192519.v2.0.B8A.tif'},\n",
       "  'SZA': {'href': 'https://data.lpdaac.earthdatacloud.nasa.gov/lp-prod-protected/HLSS30.020/HLS.S30.T11VLH.2021043T192519.v2.0/HLS.S30.T11VLH.2021043T192519.v2.0.SZA.tif',\n",
       "   'title': 'Download HLS.S30.T11VLH.2021043T192519.v2.0.SZA.tif'},\n",
       "  'B06': {'href': 'https://data.lpdaac.earthdatacloud.nasa.gov/lp-prod-protected/HLSS30.020/HLS.S30.T11VLH.2021043T192519.v2.0/HLS.S30.T11VLH.2021043T192519.v2.0.B06.tif',\n",
       "   'title': 'Download HLS.S30.T11VLH.2021043T192519.v2.0.B06.tif'},\n",
       "  'browse': {'href': 'https://data.lpdaac.earthdatacloud.nasa.gov/lp-prod-public/HLSS30.020/HLS.S30.T11VLH.2021043T192519.v2.0/HLS.S30.T11VLH.2021043T192519.v2.0.jpg',\n",
       "   'type': 'image/jpeg',\n",
       "   'title': 'Download HLS.S30.T11VLH.2021043T192519.v2.0.jpg'},\n",
       "  'metadata': {'href': 'https://cmr.earthdata.nasa.gov/search/concepts/G2158106647-LPCLOUD.xml',\n",
       "   'type': 'application/xml'}}}"
      ]
     },
     "execution_count": 42,
     "metadata": {},
     "output_type": "execute_result"
    }
   ],
   "source": [
    "pd.DataFrame(results).features.to_list()[0]"
   ]
  },
  {
   "cell_type": "code",
   "execution_count": null,
   "id": "c1675c90",
   "metadata": {},
   "outputs": [],
   "source": []
  }
 ],
 "metadata": {
  "kernelspec": {
   "display_name": "Python 3 (ipykernel)",
   "language": "python",
   "name": "python3"
  },
  "language_info": {
   "codemirror_mode": {
    "name": "ipython",
    "version": 3
   },
   "file_extension": ".py",
   "mimetype": "text/x-python",
   "name": "python",
   "nbconvert_exporter": "python",
   "pygments_lexer": "ipython3",
   "version": "3.7.8"
  }
 },
 "nbformat": 4,
 "nbformat_minor": 5
}
