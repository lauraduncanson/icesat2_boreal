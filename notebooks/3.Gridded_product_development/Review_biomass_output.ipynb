{
 "cells": [
  {
   "cell_type": "markdown",
   "id": "4678525c",
   "metadata": {},
   "source": [
    "# Review output from MAAP DPS for ABoVE Boreal Biomass Project: Summer 2022 update\n",
    "* Boreal biomass cloud-optimized geotiff (COG) tiles are brought together in a MosaicJSON file that is mapped with Folium\n",
    "* to update the AGB tindex master csv and its corresponding MosaicJson, run _build_mosaic_json.ipynb_\n",
    "\n",
    "Paul Montesano, Laura Duncanson (PI), Nathan Thomas"
   ]
  },
  {
   "cell_type": "markdown",
   "id": "e9c55bef",
   "metadata": {},
   "source": [
    "## Attention: adjust path\n",
    "##### Path to your icesat2_boreal/lib dir - clone the icesat2_boreal GitHub repository\n",
    "https://github.com/lauraduncanson/icesat2_boreal.git"
   ]
  },
  {
   "cell_type": "code",
   "execution_count": 1,
   "id": "4a398aaf",
   "metadata": {},
   "outputs": [],
   "source": [
    "ICESAT2_BOREAL_REPO_PATH = '/projects/icesat2_boreal' # /projects/Developer/icesat2_boreal/lib\n",
    "ICESAT2_BOREAL_LIB_PATH = ICESAT2_BOREAL_REPO_PATH + '/lib'"
   ]
  },
  {
   "cell_type": "code",
   "execution_count": 2,
   "id": "9355d221",
   "metadata": {},
   "outputs": [
    {
     "name": "stdout",
     "output_type": "stream",
     "text": [
      "Requirement already satisfied: s3fs in /opt/conda/lib/python3.7/site-packages (2023.1.0)\n",
      "Requirement already satisfied: fsspec==2023.1.0 in /opt/conda/lib/python3.7/site-packages (from s3fs) (2023.1.0)\n",
      "Requirement already satisfied: aiobotocore~=2.4.2 in /opt/conda/lib/python3.7/site-packages (from s3fs) (2.4.2)\n",
      "Requirement already satisfied: aiohttp!=4.0.0a0,!=4.0.0a1 in /projects/.local/lib/python3.7/site-packages (from s3fs) (3.7.4.post0)\n",
      "Requirement already satisfied: wrapt>=1.10.10 in /projects/.local/lib/python3.7/site-packages (from aiobotocore~=2.4.2->s3fs) (1.12.1)\n",
      "Requirement already satisfied: aioitertools>=0.5.1 in /projects/.local/lib/python3.7/site-packages (from aiobotocore~=2.4.2->s3fs) (0.8.0)\n",
      "Requirement already satisfied: botocore<1.27.60,>=1.27.59 in /projects/.local/lib/python3.7/site-packages (from aiobotocore~=2.4.2->s3fs) (1.27.59)\n",
      "Requirement already satisfied: multidict<7.0,>=4.5 in /projects/.local/lib/python3.7/site-packages (from aiohttp!=4.0.0a0,!=4.0.0a1->s3fs) (5.1.0)\n",
      "Requirement already satisfied: async-timeout<4.0,>=3.0 in /projects/.local/lib/python3.7/site-packages (from aiohttp!=4.0.0a0,!=4.0.0a1->s3fs) (3.0.1)\n",
      "Requirement already satisfied: typing-extensions>=3.6.5 in /opt/conda/lib/python3.7/site-packages (from aiohttp!=4.0.0a0,!=4.0.0a1->s3fs) (3.10.0.2)\n",
      "Requirement already satisfied: chardet<5.0,>=2.0 in /opt/conda/lib/python3.7/site-packages (from aiohttp!=4.0.0a0,!=4.0.0a1->s3fs) (3.0.4)\n",
      "Requirement already satisfied: yarl<2.0,>=1.0 in /projects/.local/lib/python3.7/site-packages (from aiohttp!=4.0.0a0,!=4.0.0a1->s3fs) (1.6.3)\n",
      "Requirement already satisfied: attrs>=17.3.0 in /opt/conda/lib/python3.7/site-packages (from aiohttp!=4.0.0a0,!=4.0.0a1->s3fs) (20.2.0)\n",
      "Requirement already satisfied: urllib3<1.27,>=1.25.4 in /opt/conda/lib/python3.7/site-packages (from botocore<1.27.60,>=1.27.59->aiobotocore~=2.4.2->s3fs) (1.25.11)\n",
      "Requirement already satisfied: python-dateutil<3.0.0,>=2.1 in /opt/conda/lib/python3.7/site-packages (from botocore<1.27.60,>=1.27.59->aiobotocore~=2.4.2->s3fs) (2.8.2)\n",
      "Requirement already satisfied: jmespath<2.0.0,>=0.7.1 in /opt/conda/lib/python3.7/site-packages/jmespath-0.10.0-py3.7.egg (from botocore<1.27.60,>=1.27.59->aiobotocore~=2.4.2->s3fs) (0.10.0)\n",
      "Requirement already satisfied: idna>=2.0 in /opt/conda/lib/python3.7/site-packages (from yarl<2.0,>=1.0->aiohttp!=4.0.0a0,!=4.0.0a1->s3fs) (2.10)\n",
      "Requirement already satisfied: six>=1.5 in /opt/conda/lib/python3.7/site-packages (from python-dateutil<3.0.0,>=2.1->botocore<1.27.60,>=1.27.59->aiobotocore~=2.4.2->s3fs) (1.15.0)\n",
      "\u001b[33mWARNING: Running pip as the 'root' user can result in broken permissions and conflicting behaviour with the system package manager. It is recommended to use a virtual environment instead: https://pip.pypa.io/warnings/venv\u001b[0m\u001b[33m\n",
      "\u001b[0m\u001b[33mWARNING: You are using pip version 22.0.3; however, version 23.0 is available.\n",
      "You should consider upgrading via the '/opt/conda/bin/python3.7 -m pip install --upgrade pip' command.\u001b[0m\u001b[33m\n",
      "\u001b[0m"
     ]
    }
   ],
   "source": [
    "# For some reason this is needed to get s3fs to work in ExtractUtils\n",
    "# this upgrades to 0.3.4 even though we already specify this version in requirements_main...\n",
    "!pip install s3fs --upgrade"
   ]
  },
  {
   "cell_type": "code",
   "execution_count": 3,
   "id": "5b258e48",
   "metadata": {},
   "outputs": [
    {
     "name": "stderr",
     "output_type": "stream",
     "text": [
      "/projects/.local/lib/python3.7/site-packages/geopandas/_compat.py:110: UserWarning: The Shapely GEOS version (3.8.0-CAPI-1.13.1 ) is incompatible with the GEOS version PyGEOS was compiled with (3.10.1-CAPI-1.16.0). Conversions between both will be slow.\n",
      "  shapely_geos_version, geos_capi_version_string\n"
     ]
    },
    {
     "name": "stdout",
     "output_type": "stream",
     "text": [
      "Importing packages complete.\n"
     ]
    }
   ],
   "source": [
    "try:\n",
    "    import geopandas as gpd\n",
    "except ModuleNotFoundError:\n",
    "    print('Need to pip install packages...')\n",
    "    !pip install -U -r $ICESAT2_BOREAL_REPO_PATH/dps/requirements_main.txt\n",
    "    \n",
    "import geopandas\n",
    "import pandas as pd\n",
    "import os\n",
    "import json\n",
    "import collections\n",
    "import numpy as np\n",
    "import sys\n",
    "import s3fs\n",
    "import matplotlib.pyplot as plt\n",
    "sys.path.append(ICESAT2_BOREAL_LIB_PATH)\n",
    "sys.path.append('/projects/Developer/icesat2_boreal/lib')\n",
    "import maplib_folium\n",
    "import ExtractUtils\n",
    "from folium import TileLayer\n",
    "print(\"Importing packages complete.\")"
   ]
  },
  {
   "cell_type": "markdown",
   "id": "315c703b",
   "metadata": {},
   "source": [
    "## Set up paths to MosaicJson files needed to map output"
   ]
  },
  {
   "cell_type": "code",
   "execution_count": 4,
   "id": "895a862c",
   "metadata": {},
   "outputs": [],
   "source": [
    "AGB_prelim_tindex_master_fn = 's3://maap-ops-workspace/shared/lduncanson/DPS_tile_lists/AGB_tindex_master.csv'\n",
    "AGB_prelim_mosaic_json_fn = 's3://maap-ops-workspace/shared/lduncanson/DPS_tile_lists/AGB_tindex_master_mosaic.json'\n",
    "\n",
    "AGB_v2_tindex_master_fn = 's3://maap-ops-workspace/shared/nathanmthomas/DPS_tile_lists/v2/AGB_tindex_master.csv'  # <-- 07 indicates the summer update\n",
    "AGB_v2_mosaic_json_fn   = 's3://maap-ops-workspace/shared/nathanmthomas/DPS_tile_lists/v2/AGB_tindex_master_mosaic.json'\n",
    "\n",
    "AGB_spring2022_tindex_master_fn = 's3://maap-ops-workspace/shared/nathanmthomas/DPS_tile_lists/06/AGB_tindex_master.csv'  # <-- 07 indicates the summer update\n",
    "AGB_spring2022_mosaic_json_fn   = 's3://maap-ops-workspace/shared/nathanmthomas/DPS_tile_lists/06/AGB_tindex_master_mosaic.json'\n",
    "\n",
    "AGB_summer2022_tindex_master_fn = 's3://maap-ops-workspace/shared/nathanmthomas/DPS_tile_lists/07/AGB_tindex_master.csv'  # <-- 07 indicates the summer update\n",
    "AGB_summer2022_mosaic_json_fn   = 's3://maap-ops-workspace/shared/nathanmthomas/DPS_tile_lists/07/AGB_tindex_master_mosaic.json'\n",
    "\n",
    "AGB_fall2022_tindex_master_fn = 's3://maap-ops-workspace/shared/nathanmthomas/DPS_tile_lists/AGB/fall2022/map_boreal_2022_v3/11/AGB_tindex_master.csv'\n",
    "AGB_fall2022_mosaic_json_fn = 's3://maap-ops-workspace/shared/nathanmthomas/DPS_tile_lists/AGB/fall2022/map_boreal_2022_v3/11/AGB_tindex_master_mosaic.json'\n",
    "\n",
    "AGB_fall2022_noground_tindex_master_fn = 's3://maap-ops-workspace/shared/nathanmthomas/DPS_tile_lists/AGB/fall2022/with_atl03_rh/map_boreal_2022_rh_noground_v1/12/AGB_tindex_master.csv'\n",
    "AGB_fall2022_noground_mosaic_json_fn = 's3://maap-ops-workspace/shared/nathanmthomas/DPS_tile_lists/AGB/fall2022/with_atl03_rh/map_boreal_2022_rh_noground_v1/12/AGB_tindex_master_mosaic.json'\n",
    "\n",
    "#HLS_tindex_master_fn = 's3://maap-ops-workspace/shared/nathanmthomas/DPS_tile_lists/HLS_test_redo/spring2022/HLS_tindex_master.csv'\n",
    "#HLS_mosaic_json_fn   = 's3://maap-ops-workspace/shared/nathanmthomas/DPS_tile_lists/HLS_test_redo/spring2022/HLS_tindex_master_mosaic.json'\n",
    "\n",
    "#HLS_tindex_c2020_master_fn = f's3://maap-ops-workspace/shared/nathanmthomas/DPS_tile_lists/HLS/fall2022/HLS_stack_2022_v2/HLS_tindex_master.csv'\n",
    "#HLS_mosaic_c2020_json_fn   = f's3://maap-ops-workspace/shared/nathanmthomas/DPS_tile_lists/HLS/fall2022/HLS_stack_2022_v2/HLS_tindex_master_mosaic.json'\n",
    "\n",
    "# Final HLS comp for c2020\n",
    "HLS_tindex_c2020_master_fn = f's3://maap-ops-workspace/shared/nathanmthomas/DPS_tile_lists/HLS/c2020/HLS_stack_2022_v2/HLS_tindex_mastercsv'\n",
    "HLS_mosaic_c2020_json_fn = f's3://maap-ops-workspace/shared/nathanmthomas/DPS_tile_lists/HLS/c2020/HLS_stack_2022_v2/HLS_tindex_master_mosaic.json'\n",
    "\n",
    "Topo_tindex_master_fn  = 's3://maap-ops-workspace/shared/nathanmthomas/DPS_tile_lists/Topo_tindex_master.csv'\n",
    "Topo_mosaic_json_fn  = 's3://maap-ops-workspace/shared/nathanmthomas/DPS_tile_lists/Topo_tindex_master_mosaic.json'\n",
    "\n",
    "#ATL08_filt_tindex_master_fn = 's3://maap-ops-workspace/shared/nathanmthomas/DPS_tile_lists/ATL08_filt_tindex_master.csv'\n",
    "ATL08_filt_tindex_master_fn = 's3://maap-ops-workspace/shared/lduncanson/DPS_tile_lists/fall2022/ATL08_filt_tindex_master.csv'\n",
    "#ATL08_filt_tindex_json_fn= \"/projects/my-public-bucket/DPS_tile_lists/ATL08_filt_tindex_master.json\"\n",
    "\n",
    "#LC_mosaic_json_fn = 's3://maap-ops-workspace/shared/nathanmthomas/DPS_tile_lists/09/LC_tindex_master_mosaic.json'\n",
    "\n",
    "# Final LC mosaic for c2020\n",
    "LC_mosaic_json_fn = 's3://maap-ops-workspace/shared/nathanmthomas/DPS_tile_lists/LC/LC_tindex_master_mosaic.json'\n",
    "\n",
    "boreal_tile_index_path = '/projects/shared-buckets/nathanmthomas/boreal_tiles_v003.gpkg' "
   ]
  },
  {
   "cell_type": "code",
   "execution_count": 5,
   "id": "d5071af8",
   "metadata": {},
   "outputs": [],
   "source": [
    "import matplotlib\n",
    "matplotlib.rcParams['figure.figsize'] = [30, 10]\n",
    "import importlib\n",
    "import ExtractUtils\n",
    "importlib.reload(ExtractUtils)\n",
    "\n",
    "Ht_fall2022_noground_tindex_master_fn = 's3://maap-ops-workspace/shared/lduncanson/DPS_tile_lists/fall2022/AGB_tindex_master_height.csv'\n",
    "AGB_fall2022_noground_tindex_master_fn = 's3://maap-ops-workspace/shared/lduncanson/DPS_tile_lists/fall2022/AGB_tindex_master_noground.csv'\n",
    "AGB_fall2022_ground_tindex_master_fn = 's3://maap-ops-workspace/shared/lduncanson/DPS_tile_lists/fall2022/AGB_tindex_master_ground.csv'\n",
    "\n",
    "BAD_TILE_LIST = [3540,3634,3728,3823,3916,4004,41995,41807,41619]\n",
    "if False:\n",
    "    Ht_mosaic_json_fn_noground, CURRENT_tindex_matches_gdf = ExtractUtils.build_mosaic_json(Ht_fall2022_noground_tindex_master_fn, \n",
    "                                                                                          boreal_tile_index_path = '/projects/shared-buckets/nathanmthomas/boreal_tiles_v003.gpkg', \n",
    "                                                                                           BAD_TILE_LIST = BAD_TILE_LIST, \n",
    "                                                                                           cols_list = ['tile_num','s3_path','local_path'])\n",
    "\n",
    "    AGB_mosaic_json_fn_noground, CURRENT_tindex_matches_gdf = ExtractUtils.build_mosaic_json(AGB_fall2022_noground_tindex_master_fn, \n",
    "                                                                                          boreal_tile_index_path = '/projects/shared-buckets/nathanmthomas/boreal_tiles_v003.gpkg', \n",
    "                                                                                           BAD_TILE_LIST = BAD_TILE_LIST, \n",
    "                                                                                           cols_list = ['tile_num','s3_path','local_path'])\n",
    "\n",
    "    AGB_mosaic_json_fn_ground, CURRENT_tindex_matches_gdf = ExtractUtils.build_mosaic_json(AGB_fall2022_ground_tindex_master_fn, \n",
    "                                                                                          boreal_tile_index_path = '/projects/shared-buckets/nathanmthomas/boreal_tiles_v003.gpkg', \n",
    "                                                                                           BAD_TILE_LIST = BAD_TILE_LIST, \n",
    "                                                                                           cols_list = ['tile_num','s3_path','local_path'])"
   ]
  },
  {
   "cell_type": "code",
   "execution_count": 6,
   "id": "d1b0059f",
   "metadata": {},
   "outputs": [],
   "source": [
    "# Get all boreal tiles\n",
    "boreal_tile_index = geopandas.read_file(boreal_tile_index_path)\n",
    "\n",
    "#fig, ax = plt.subplots(nrows=1, ncols=1, figsize=(15,10))\n",
    "#boreal_tile_index[\"tile_num\"] = boreal_tile_index[\"tile_num\"].astype(int)\n",
    "#boreal_tile_index.plot(column='tile_num', linewidth=0.1, legend=True, ax=ax, cmap='Spectral')"
   ]
  },
  {
   "cell_type": "code",
   "execution_count": 7,
   "id": "d9d07fb5",
   "metadata": {},
   "outputs": [
    {
     "data": {
      "text/plain": [
       "['/projects/my-private-bucket/dps_output/run_boreal_biomass_quick_v2_ubuntu/map_boreal_2022_v3/2022/11/16/13/59/29/451625/boreal_agb_202211161668607096_0011.tif']"
      ]
     },
     "execution_count": 7,
     "metadata": {},
     "output_type": "execute_result"
    }
   ],
   "source": [
    "# Get the tindex of the AGB COGs for mapping\n",
    "tindex_master = pd.read_csv(AGB_fall2022_tindex_master_fn, storage_options={'anon':True})\n",
    "tindex_master[tindex_master.tile_num == 11].local_path.to_list()"
   ]
  },
  {
   "cell_type": "code",
   "execution_count": 8,
   "id": "2d9f0d94",
   "metadata": {},
   "outputs": [],
   "source": [
    "if False:\n",
    "    # Write tindex list to private-bucket\n",
    "    pd.read_csv(HLS_tindex_master_fn, storage_options={'anon':True}).to_csv('s3://maap-ops-workspace/nathanmthomas/DPS_tile_lists/HLS_tindex_master.csv')\n",
    "    pd.read_csv(Topo_tindex_master_fn, storage_options={'anon':True}).to_csv('s3://maap-ops-workspace/nathanmthomas/DPS_tile_lists/Topo_tindex_master.csv')\n",
    "    pd.read_csv(ATL08_filt_tindex_master_fn, storage_options={'anon':True}).to_csv('s3://maap-ops-workspace/nathanmthomas/DPS_tile_lists/ATL08_filt_tindex_master.csv')"
   ]
  },
  {
   "cell_type": "markdown",
   "id": "9d81067b",
   "metadata": {},
   "source": [
    "### Summary of intermediate (ATL08 filt, HLS, Topo) and AGB output"
   ]
  },
  {
   "cell_type": "code",
   "execution_count": null,
   "id": "66e7b6ff",
   "metadata": {},
   "outputs": [],
   "source": [
    "ATL08filt_TILES_NEEDED = ExtractUtils.GET_TILES_NEEDED(DPS_DATA_TYPE = 'ATL08_filt', \\\n",
    "                                           tindex_master_fn = ATL08_filt_tindex_master_fn,\\\n",
    "                                                boreal_tile_index_path = boreal_tile_index_path)"
   ]
  },
  {
   "cell_type": "code",
   "execution_count": null,
   "id": "bb37a5a8",
   "metadata": {},
   "outputs": [],
   "source": [
    "TOPO_TILES_NEEDED = ExtractUtils.GET_TILES_NEEDED(DPS_DATA_TYPE = 'Topo', \\\n",
    "                                           tindex_master_fn = Topo_tindex_master_fn,\\\n",
    "                                                boreal_tile_index_path = boreal_tile_index_path)"
   ]
  },
  {
   "cell_type": "code",
   "execution_count": null,
   "id": "1a406da6",
   "metadata": {},
   "outputs": [],
   "source": [
    "HLS_TILES_NEEDED = ExtractUtils.GET_TILES_NEEDED(DPS_DATA_TYPE = 'HLS', \\\n",
    "                                           tindex_master_fn = HLS_tindex_master_fn,\\\n",
    "                                                 bad_tiles = [], \\\n",
    "                                                boreal_tile_index_path = boreal_tile_index_path)"
   ]
  },
  {
   "cell_type": "code",
   "execution_count": null,
   "id": "a4d5745f",
   "metadata": {},
   "outputs": [],
   "source": [
    "AGB_TILES_NEEDED = ExtractUtils.GET_TILES_NEEDED(DPS_DATA_TYPE = 'AGB', \\\n",
    "                                                tindex_master_fn = AGB_fall2022_tindex_master_fn,\\\n",
    "                                                 bad_tiles = [], \\\n",
    "                                                boreal_tile_index_path = boreal_tile_index_path)"
   ]
  },
  {
   "cell_type": "code",
   "execution_count": 9,
   "id": "37030341",
   "metadata": {},
   "outputs": [
    {
     "data": {
      "text/plain": [
       "(4714, 7)"
      ]
     },
     "execution_count": 9,
     "metadata": {},
     "output_type": "execute_result"
    }
   ],
   "source": [
    "BAD_TILE_LIST = [3540,3634,3728,3823,3916,4004,41995,41807,41619]\n",
    "\n",
    "# For the tindex_master, convert it into vector tiles that show the tiles we have\n",
    "cols_list = ['tile_num','s3_path','local_path']\n",
    "\n",
    "# Select the rows we have results for\n",
    "tile_index_matches = boreal_tile_index.merge(tindex_master[~tindex_master['tile_num'].isin(BAD_TILE_LIST)][cols_list], how='right', on='tile_num')\n",
    "tile_index_matches = tile_index_matches[tile_index_matches['s3_path'].notna()]\n",
    "tile_index_matches.shape"
   ]
  },
  {
   "cell_type": "code",
   "execution_count": 10,
   "id": "804df46d",
   "metadata": {},
   "outputs": [],
   "source": [
    "# Testing overview resampling builds for COGs\n",
    "if False:\n",
    "    in_fn = '/projects/my-public-bucket/boreal_agb_202205041651623844_0042.tif'\n",
    "    out_fn = '/projects/my-public-bucket/boreal_agb_202205041651623844_0042-TEST_GDAL_OVERVIEWS.tif'\n",
    "    !gdal_translate -co OVERVIEW_RESAMPLING=AVERAGE -of COG $in_fn $out_fn "
   ]
  },
  {
   "cell_type": "markdown",
   "id": "9a927e43",
   "metadata": {},
   "source": [
    "# View s3 map layers"
   ]
  },
  {
   "cell_type": "code",
   "execution_count": 11,
   "id": "e2babb38",
   "metadata": {},
   "outputs": [],
   "source": [
    "# Setup the mosaic tiling\n",
    "tiler_base = \"https://jqsd6bqdsf.execute-api.us-west-2.amazonaws.com/\" #titiler.maap-project.org\n",
    "tiler_mosaic =  \"\".join([tiler_base, \"mosaicjson/tiles/{z}/{x}/{y}\"])"
   ]
  },
  {
   "cell_type": "code",
   "execution_count": 12,
   "id": "9f84a5eb",
   "metadata": {},
   "outputs": [],
   "source": [
    "# Fill in your favorite tile numbers that will highlight in red \n",
    "CHECK_TILE_LIST = [] #[3585,4108,1037,1549]\n",
    "if False:\n",
    "    df = gpd.read_file('/projects/my-public-bucket/DPS_tile_lists/HLS_irregular_tiles.gpkg')\n",
    "    CHECK_TILE_LIST = df.tile_num.to_list()"
   ]
  },
  {
   "cell_type": "code",
   "execution_count": 13,
   "id": "ac127a0f",
   "metadata": {},
   "outputs": [
    {
     "data": {
      "text/plain": [
       "<module 'maplib_folium' from '/projects/Developer/icesat2_boreal/lib/maplib_folium.py'>"
      ]
     },
     "execution_count": 13,
     "metadata": {},
     "output_type": "execute_result"
    }
   ],
   "source": [
    "import importlib\n",
    "import maplib_folium\n",
    "importlib.reload(maplib_folium)"
   ]
  },
  {
   "cell_type": "markdown",
   "id": "6647a601",
   "metadata": {},
   "source": [
    "### Create tile layers of various MS comp layers available for mapping"
   ]
  },
  {
   "cell_type": "code",
   "execution_count": 14,
   "id": "68913014",
   "metadata": {},
   "outputs": [],
   "source": [
    "# Choose a MS band to map\n",
    "MS_BANDNAME = 'NBR2'\n",
    "MS_BANDMIN=0.25\n",
    "MS_BANDMAX=0.45 \n",
    "MS_BANDNUM=13 \n",
    "MS_BANDCOLORBAR='nipy_spectral'\n",
    "\n",
    "#\n",
    "# Specify the mosaic jsons of various composites\n",
    "#\n",
    "# initial HLS compfor c2020 built in fall 2022\n",
    "HLS_mosaic_fall2022_json_fn = f's3://maap-ops-workspace/shared/nathanmthomas/DPS_tile_lists/HLS/fall2022/HLS_stack_2022_v2/HLS_tindex_master_mosaic.json'\n",
    "HLS_mosaic_fall2022_FIX_json_fn = f's3://maap-ops-workspace/shared/nathanmthomas/DPS_tile_lists/HLS/fall2022_fix_irregulars/HLS_stack_2022_v2/12/HLS_tindex_master_mosaic.json'\n",
    "\n",
    "# Final HLS comp for c2020\n",
    "HLS_mosaic_c2020_json_fn = f's3://maap-ops-workspace/shared/nathanmthomas/DPS_tile_lists/HLS/c2020/HLS_stack_2022_v2/HLS_tindex_master_mosaic.json'\n",
    "\n",
    "# Final HLS comp for c2015\n",
    "HLS_mosaic_c2015_json_fn = f's3://maap-ops-workspace/shared/nathanmthomas/DPS_tile_lists/HLS/c2015/HLS_stack_2022_v2/11/HLS_tindex_master_mosaic.json' \n",
    "\n",
    "# Test of HLS comp for late winter c2020\n",
    "HLS_mosaic_c2020latewinter_json_fn = 's3://maap-ops-workspace/shared/nathanmthomas/DPS_tile_lists/HLS/c2020latewinter/HLS_stack_2022_v2/HLS_tindex_master_mosaic.json'\n",
    "\n",
    "# Tile Layers\n",
    "mscomp_fall2022_FIX_tiles_layer = TileLayer(\n",
    "            tiles= f\"{tiler_mosaic}?url={HLS_mosaic_fall2022_FIX_json_fn}&rescale={MS_BANDMIN},{MS_BANDMAX}&bidx={MS_BANDNUM}&colormap_name={MS_BANDCOLORBAR}\",\n",
    "            opacity=1,\n",
    "            name=\"fixed tiles HLS comp\",\n",
    "            attr=\"MAAP\",\n",
    "            overlay=True\n",
    "        )\n",
    "\n",
    "mscomp_c2020_tiles_layer = TileLayer(\n",
    "            tiles= f\"{tiler_mosaic}?url={HLS_mosaic_c2020_json_fn}&rescale={MS_BANDMIN},{MS_BANDMAX}&bidx={MS_BANDNUM}&colormap_name={MS_BANDCOLORBAR}\",\n",
    "            opacity=1,\n",
    "            name=\"final c2020 HLS comp\",\n",
    "            attr=\"MAAP\",\n",
    "            overlay=True\n",
    "        )\n",
    "\n",
    "mscomp_c2015_tiles_layer = TileLayer(\n",
    "            tiles= f\"{tiler_mosaic}?url={HLS_mosaic_c2015_json_fn}&rescale={MS_BANDMIN},{MS_BANDMAX}&bidx={MS_BANDNUM}&colormap_name={MS_BANDCOLORBAR}\",\n",
    "            opacity=1,\n",
    "            name=\"final c2015 HLS comp\",\n",
    "            attr=\"MAAP\",\n",
    "            overlay=True\n",
    "        )\n",
    "\n",
    "mscomp_c2020latewinter_tiles_layer = TileLayer(\n",
    "            tiles= f\"{tiler_mosaic}?url={HLS_mosaic_c2020latewinter_json_fn}&rescale={MS_BANDMIN},{MS_BANDMAX}&bidx={MS_BANDNUM}&colormap_name={MS_BANDCOLORBAR}\",\n",
    "            opacity=1,\n",
    "            name=\"Late Winter c2020 HLS comp\",\n",
    "            attr=\"MAAP\",\n",
    "            overlay=True\n",
    "        )\n",
    "\n",
    "# Dict for specifying a different MS comp band to map\n",
    "MS_BAND_kwargs = {\n",
    "    'MS_BANDNAME': MS_BANDNAME,\n",
    "    'MS_BANDMIN' : MS_BANDMIN ,\n",
    "    'MS_BANDMAX' : MS_BANDMAX , \n",
    "    'MS_BANDNUM' : MS_BANDNUM, \n",
    "    'MS_BANDCOLORBAR' : MS_BANDCOLORBAR,\n",
    "}"
   ]
  },
  {
   "cell_type": "code",
   "execution_count": 15,
   "id": "aa033e7b",
   "metadata": {},
   "outputs": [],
   "source": [
    "MAX_AGB = 125\n",
    "\n",
    "# AGB_ground_tiles_layer = TileLayer(\n",
    "#             tiles= f\"{tiler_mosaic}?url={AGB_mosaic_json_fn_ground}&rescale=0,{MAX_AGB}&bidx=1&colormap_name=viridis\",\n",
    "#             opacity=1,\n",
    "#             name=\"AGB summer 2022\",\n",
    "#             attr=\"MAAP\",\n",
    "#             overlay=True\n",
    "#         )\n",
    "\n",
    "\n",
    "AGB_summer2022_tiles_layer = TileLayer(\n",
    "            tiles= f\"{tiler_mosaic}?url={AGB_summer2022_mosaic_json_fn}&rescale=0,{MAX_AGB}&bidx=1&colormap_name=viridis\",\n",
    "            opacity=1,\n",
    "            name=\"AGB summer 2022\",\n",
    "            attr=\"MAAP\",\n",
    "            overlay=True\n",
    "        )\n",
    "AGB_spring2022_tiles_layer = TileLayer(\n",
    "            tiles= f\"{tiler_mosaic}?url={AGB_spring2022_mosaic_json_fn}&rescale=0,{MAX_AGB}&bidx=1&colormap_name=viridis\",\n",
    "            opacity=1,\n",
    "            name=\"AGB spring 2022\",\n",
    "            attr=\"MAAP\",\n",
    "            overlay=True\n",
    "        )\n",
    "AGB_v2_tiles_layer = TileLayer(\n",
    "            tiles= f\"{tiler_mosaic}?url={AGB_v2_mosaic_json_fn}&rescale=0,{MAX_AGB}&bidx=1&colormap_name=viridis\",\n",
    "            opacity=1,\n",
    "            name=\"AGB v2 2022\",\n",
    "            attr=\"MAAP\",\n",
    "            overlay=True\n",
    "        )\n",
    "MAX_HT = 30\n",
    "Ht_mosaic_json_fn_noground = 's3://maap-ops-workspace/shared/lduncanson/DPS_tile_lists/fall2022/AGB_tindex_master_height_mosaic.json'\n",
    "Ht_tiles_layer  = TileLayer(\n",
    "            tiles= f\"{tiler_mosaic}?url={Ht_mosaic_json_fn_noground}&rescale=0,{MAX_HT}&bidx=1&colormap_name=magma\",\n",
    "            opacity=1,\n",
    "            name=\"Height 2020\",\n",
    "            attr=\"MAAP\",\n",
    "            overlay=True\n",
    "        )"
   ]
  },
  {
   "cell_type": "code",
   "execution_count": null,
   "id": "1523c93d",
   "metadata": {},
   "outputs": [],
   "source": [
    "maplib_folium.MAP_DPS_RESULTS(tiler_mosaic, \n",
    "                              boreal_tile_index[~boreal_tile_index['tile_num'].isin(BAD_TILE_LIST)], #bad_tiles \n",
    "                              #geopandas.read_file( '/projects/my-public-bucket/analyze_agb/footprints_terrapulse-pub-data_boreal-tcc-unclipped-1995.gpkg'), # rm tiles [444, 576, 695, 805, 913,1127, 1197]\n",
    "                              tile_index_matches, \n",
    "                              boreal_tile_index[boreal_tile_index['tile_num'].isin(CHECK_TILE_LIST)], \n",
    "                              MATCH_TILES_NAME='AGB tiles',\n",
    "                              CHECK_TILES_NAME='Tiles to check',\n",
    "                              mosaic_json_dict = \n",
    "                                  {     ######### PRODUCT LAYERS #######\n",
    "                                        #---NASA ABoVE Aboveground Boreal Woody Biomass Density\n",
    "                                        'agb_mosaic_json_s3_fn':       AGB_fall2022_mosaic_json_fn, #AGB_mosaic_json_fn_noground\n",
    "                                        'topo_mosaic_json_s3_fn':      Topo_mosaic_json_fn,\n",
    "                                        'mscomp_mosaic_json_s3_fn':    HLS_mosaic_c2020_json_fn,\n",
    "                                        ######### ANALYSIS LAYERS ######\n",
    "                                        'worldcover_json_s3_fn':       LC_mosaic_json_fn,  \n",
    "                                        'tp_standage2020_json_s3_fn':  None,\n",
    "                                        'tp_tcc2020_json_s3_fn':       None,\n",
    "                                        'tp_tcc2020slope_json_s3_fn':  None,\n",
    "                                        'tp_tcc2020pvalue_json_s3_fn': None, \n",
    "                                    },\n",
    "                              max_AGB_display = MAX_AGB, max_AGBSE_display = 20,\n",
    "                              map_width=1250, map_height=500,\n",
    "                                                           mscomp_rgb_dict = None,\n",
    "                            **MS_BAND_kwargs,\n",
    "                            SHOW_WIDGETS=False,\n",
    "                            ADD_TILELAYER = Ht_tiles_layer  \n",
    "                             )"
   ]
  },
  {
   "cell_type": "markdown",
   "id": "234f85c5",
   "metadata": {},
   "source": [
    "Sites to spot check: \n",
    "\n",
    "N 58.41332 E 7.25588  \n",
    "- notice barren is showing high AGB  \n",
    "- does masking out barren LC interfere with AGB prediction over actual barren that isnt class'd as such?  \n",
    "- If this is the case - then we DONT want to remove BARREN prior to prediction - rather - just mask out after the fact - that way, small barren extents wont be horribly wrong due to near non-existant training\n",
    "\n",
    "N 58.15207 E 6.85672"
   ]
  },
  {
   "cell_type": "code",
   "execution_count": null,
   "id": "e31e6801",
   "metadata": {},
   "outputs": [],
   "source": [
    "FOCAL_TILE = 11\n",
    "m=maplib_folium.map_tile_atl08(FOCAL_TILE, tiler_mosaic, boreal_tile_index, ATL08_filt_tindex_master_fn = ATL08_filt_tindex_master_fn,\n",
    "                             mosaic_json_dict = {'agb_mosaic_json_s3_fn': AGB_fall2022_mosaic_json_fn}, DO_NIGHT=False, map_width=1600, map_height=500, OVERVIEW_MAP=False,\n",
    "                            max_AGB_display = 150, max_AGBSE_display = 20)\n",
    "m"
   ]
  },
  {
   "cell_type": "code",
   "execution_count": null,
   "id": "e08f85ff",
   "metadata": {},
   "outputs": [],
   "source": [
    "MISSING_TILES = [3082, 2918, 40664, 2745,      # AK & NW Ca\n",
    "                42809,                         # NE Sib Beringia\n",
    "                1854, 1789, 1321, 36238, 1262, # Hudson Bay and Quebec\n",
    "                1505, 1392, 34210, 33975,      # Southern edge,  mostly below 45N - might not have ATL08 processed\n",
    "                37, 10, 148, 169, 446,         # Scand - 10 very little land so no ATL08?\n",
    "                162, 629,                             # Western Russia\n",
    "                27365,                                # Crimea\n",
    "                1761,2651,2970,3417,3604, 4080        # Central and Eastern Siberia\n",
    "                ]\n",
    "print(MISSING_TILES)\n",
    "len(MISSING_TILES)"
   ]
  },
  {
   "cell_type": "code",
   "execution_count": null,
   "id": "ceb5e8da",
   "metadata": {},
   "outputs": [],
   "source": [
    "MISSING_TILES_for_redo = []\n",
    "MISSING_ATL08 = []\n",
    "MISSING_HLS = []\n",
    "MISSING_Topo = []\n",
    "\n",
    "ATL08_filt_tindex = pd.read_csv(ATL08_filt_tindex_master_fn, storage_options={'anon':True})\n",
    "HLS_tindex = pd.read_csv(HLS_tindex_master_fn, storage_options={'anon':True})\n",
    "Topo_tindex = pd.read_csv(Topo_tindex_master_fn, storage_options={'anon':True})\n",
    "\n",
    "AGB_tindex = pd.read_csv(AGB_tindex_master_fn, storage_options={'anon':True})\n",
    "\n",
    "for t in MISSING_TILES:\n",
    "\n",
    "    if t in ATL08_filt_tindex.tile_num.to_list() and HLS_tindex.tile_num.to_list() and Topo_tindex.tile_num.to_list():\n",
    "        MISSING_TILES_for_redo.append(t)\n",
    "        \n",
    "        # Just confirm that this tile is in fact not in the AGB tindex< if so, flag it with a print out.\n",
    "        if t in AGB_tindex.tile_num.to_list():\n",
    "            print(f\"Tile {t} is in the AGB tindex, so maybe its not showing?\")\n",
    "    else:\n",
    "        if t not in ATL08_filt_tindex.tile_num.to_list():\n",
    "            MISSING_ATL08.append(t)\n",
    "        if t not in HLS_tindex.tile_num.to_list():\n",
    "            MISSING_HLS.append(t)\n",
    "        if t not in Topo_tindex.tile_num.to_list():\n",
    "            MISSING_Topo.append(t)\n",
    "            \n",
    "print(f\"AGB does NOT exist for these {len(MISSING_TILES_for_redo)} tiles, but ATL08 filt, HLS, & Topo tiles do:\\n{MISSING_TILES_for_redo}\\nRe-do AGB run for these tiles.\")"
   ]
  },
  {
   "cell_type": "raw",
   "id": "54c47d2a",
   "metadata": {},
   "source": [
    "MISSING_ATL08"
   ]
  },
  {
   "cell_type": "code",
   "execution_count": null,
   "id": "2bd3eb70",
   "metadata": {},
   "outputs": [],
   "source": [
    "MISSING_HLS"
   ]
  },
  {
   "cell_type": "code",
   "execution_count": null,
   "id": "63eaf58b",
   "metadata": {},
   "outputs": [],
   "source": [
    "MISSING_Topo"
   ]
  },
  {
   "cell_type": "code",
   "execution_count": null,
   "id": "49f007ec",
   "metadata": {},
   "outputs": [],
   "source": []
  }
 ],
 "metadata": {
  "kernelspec": {
   "display_name": "Python 3 (ipykernel)",
   "language": "python",
   "name": "python3"
  },
  "language_info": {
   "codemirror_mode": {
    "name": "ipython",
    "version": 3
   },
   "file_extension": ".py",
   "mimetype": "text/x-python",
   "name": "python",
   "nbconvert_exporter": "python",
   "pygments_lexer": "ipython3",
   "version": "3.7.8"
  }
 },
 "nbformat": 4,
 "nbformat_minor": 5
}
