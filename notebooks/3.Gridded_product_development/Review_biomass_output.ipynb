{
 "cells": [
  {
   "cell_type": "markdown",
   "id": "north-papua",
   "metadata": {},
   "source": [
    "# Review output from MAAP DPS for ABoVE Boreal Biomass Project: Summer 2022 update\n",
    "* Boreal biomass cloud-optimized geotiff (COG) tiles are brought together in a MosaicJSON file that is mapped with Folium\n",
    "* to update the AGB tindex master csv and its corresponding MosaicJson, run _build_mosaic_json.ipynb_\n",
    "\n",
    "Paul Montesano, Laura Duncanson (PI), Nathan Thomas"
   ]
  },
  {
   "cell_type": "markdown",
   "id": "operational-exclusive",
   "metadata": {},
   "source": [
    "## Attention: adjust path\n",
    "##### Path to your icesat2_boreal/lib dir - clone the icesat2_boreal GitHub repository\n",
    "https://github.com/lauraduncanson/icesat2_boreal.git"
   ]
  },
  {
   "cell_type": "code",
   "execution_count": 2,
   "id": "fixed-affect",
   "metadata": {},
   "outputs": [],
   "source": [
    "ICESAT2_BOREAL_REPO_PATH = '/projects/icesat2_boreal' # /projects/Developer/icesat2_boreal/lib\n",
    "ICESAT2_BOREAL_LIB_PATH = ICESAT2_BOREAL_REPO_PATH + '/lib'"
   ]
  },
  {
   "cell_type": "code",
   "execution_count": 3,
   "id": "critical-architect",
   "metadata": {},
   "outputs": [
    {
     "name": "stderr",
     "output_type": "stream",
     "text": [
      "/projects/.local/lib/python3.7/site-packages/geopandas/_compat.py:110: UserWarning: The Shapely GEOS version (3.8.0-CAPI-1.13.1 ) is incompatible with the GEOS version PyGEOS was compiled with (3.10.1-CAPI-1.16.0). Conversions between both will be slow.\n",
      "  shapely_geos_version, geos_capi_version_string\n"
     ]
    },
    {
     "name": "stdout",
     "output_type": "stream",
     "text": [
      "Importing packages complete.\n"
     ]
    }
   ],
   "source": [
    "try:\n",
    "    import geopandas as gpd\n",
    "except ModuleNotFoundError:\n",
    "    print('Need to pip install packages...')\n",
    "    !pip install -U -r $ICESAT2_BOREAL_REPO_PATH/dps/requirements_main.txt\n",
    "    \n",
    "import geopandas\n",
    "import pandas as pd\n",
    "import os\n",
    "import json\n",
    "import collections\n",
    "import numpy as np\n",
    "import sys\n",
    "import s3fs\n",
    "import matplotlib.pyplot as plt\n",
    "sys.path.append(ICESAT2_BOREAL_LIB_PATH)\n",
    "import maplib_folium\n",
    "import ExtractUtils\n",
    "print(\"Importing packages complete.\")"
   ]
  },
  {
   "cell_type": "markdown",
   "id": "stupid-newport",
   "metadata": {},
   "source": [
    "## Set up paths to MosaicJson files needed to map output"
   ]
  },
  {
   "cell_type": "code",
   "execution_count": 4,
   "id": "motivated-mauritius",
   "metadata": {},
   "outputs": [],
   "source": [
    "AGB_tindex_master_fn = 's3://maap-ops-workspace/shared/nathanmthomas/DPS_tile_lists/07/AGB_tindex_master.csv'  # <-- 07 indicates the summer update\n",
    "AGB_mosaic_json_fn   = 's3://maap-ops-workspace/shared/nathanmthomas/DPS_tile_lists/07/AGB_tindex_master_mosaic.json'\n",
    "\n",
    "HLS_tindex_master_fn = 's3://maap-ops-workspace/shared/nathanmthomas/DPS_tile_lists/HLS_test_redo/spring2022/HLS_tindex_master.csv'\n",
    "HLS_mosaic_json_fn   = 's3://maap-ops-workspace/shared/nathanmthomas/DPS_tile_lists/HLS_test_redo/spring2022/HLS_tindex_master_mosaic.json'\n",
    "\n",
    "Topo_tindex_master_fn  = 's3://maap-ops-workspace/shared/nathanmthomas/DPS_tile_lists/Topo_tindex_master.csv'\n",
    "Topo_mosaic_json_fn  = 's3://maap-ops-workspace/shared/nathanmthomas/DPS_tile_lists/Topo_tindex_master_mosaic.json'\n",
    "\n",
    "ATL08_filt_tindex_master_fn = 's3://maap-ops-workspace/shared/nathanmthomas/DPS_tile_lists/ATL08_filt_tindex_master.csv'\n",
    "ATL08_filt_tindex_json_fn= \"/projects/my-public-bucket/DPS_tile_lists/ATL08_filt_tindex_master.json\"\n",
    "\n",
    "boreal_tile_index_path = '/projects/shared-buckets/nathanmthomas/boreal_tiles_v003.gpkg' "
   ]
  },
  {
   "cell_type": "code",
   "execution_count": 5,
   "id": "minor-index",
   "metadata": {},
   "outputs": [],
   "source": [
    "# Get all boreal tiles\n",
    "boreal_tile_index = geopandas.read_file(boreal_tile_index_path)\n",
    "\n",
    "#fig, ax = plt.subplots(nrows=1, ncols=1, figsize=(15,10))\n",
    "#boreal_tile_index[\"tile_num\"] = boreal_tile_index[\"tile_num\"].astype(int)\n",
    "#boreal_tile_index.plot(column='tile_num', linewidth=0.1, legend=True, ax=ax, cmap='Spectral')"
   ]
  },
  {
   "cell_type": "code",
   "execution_count": 6,
   "id": "meaning-benjamin",
   "metadata": {},
   "outputs": [
    {
     "data": {
      "text/html": [
       "<div>\n",
       "<style scoped>\n",
       "    .dataframe tbody tr th:only-of-type {\n",
       "        vertical-align: middle;\n",
       "    }\n",
       "\n",
       "    .dataframe tbody tr th {\n",
       "        vertical-align: top;\n",
       "    }\n",
       "\n",
       "    .dataframe thead th {\n",
       "        text-align: right;\n",
       "    }\n",
       "</style>\n",
       "<table border=\"1\" class=\"dataframe\">\n",
       "  <thead>\n",
       "    <tr style=\"text-align: right;\">\n",
       "      <th></th>\n",
       "      <th>Unnamed: 0</th>\n",
       "      <th>s3_path</th>\n",
       "      <th>local_path</th>\n",
       "      <th>file</th>\n",
       "      <th>tile_num</th>\n",
       "    </tr>\n",
       "  </thead>\n",
       "  <tbody>\n",
       "    <tr>\n",
       "      <th>0</th>\n",
       "      <td>120</td>\n",
       "      <td>s3://maap-ops-workspace/lduncanson/dps_output/...</td>\n",
       "      <td>/projects/my-private-bucket/dps_output/run_bor...</td>\n",
       "      <td>boreal_agb_202207151657929200_0296.tif</td>\n",
       "      <td>296</td>\n",
       "    </tr>\n",
       "    <tr>\n",
       "      <th>1</th>\n",
       "      <td>119</td>\n",
       "      <td>s3://maap-ops-workspace/lduncanson/dps_output/...</td>\n",
       "      <td>/projects/my-private-bucket/dps_output/run_bor...</td>\n",
       "      <td>boreal_agb_202207151657929110_0059.tif</td>\n",
       "      <td>59</td>\n",
       "    </tr>\n",
       "    <tr>\n",
       "      <th>2</th>\n",
       "      <td>118</td>\n",
       "      <td>s3://maap-ops-workspace/lduncanson/dps_output/...</td>\n",
       "      <td>/projects/my-private-bucket/dps_output/run_bor...</td>\n",
       "      <td>boreal_agb_202207151657928418_0092.tif</td>\n",
       "      <td>92</td>\n",
       "    </tr>\n",
       "    <tr>\n",
       "      <th>3</th>\n",
       "      <td>117</td>\n",
       "      <td>s3://maap-ops-workspace/lduncanson/dps_output/...</td>\n",
       "      <td>/projects/my-private-bucket/dps_output/run_bor...</td>\n",
       "      <td>boreal_agb_202207151657928196_0222.tif</td>\n",
       "      <td>222</td>\n",
       "    </tr>\n",
       "    <tr>\n",
       "      <th>4</th>\n",
       "      <td>116</td>\n",
       "      <td>s3://maap-ops-workspace/lduncanson/dps_output/...</td>\n",
       "      <td>/projects/my-private-bucket/dps_output/run_bor...</td>\n",
       "      <td>boreal_agb_202207151657927668_0062.tif</td>\n",
       "      <td>62</td>\n",
       "    </tr>\n",
       "  </tbody>\n",
       "</table>\n",
       "</div>"
      ],
      "text/plain": [
       "   Unnamed: 0                                            s3_path  \\\n",
       "0         120  s3://maap-ops-workspace/lduncanson/dps_output/...   \n",
       "1         119  s3://maap-ops-workspace/lduncanson/dps_output/...   \n",
       "2         118  s3://maap-ops-workspace/lduncanson/dps_output/...   \n",
       "3         117  s3://maap-ops-workspace/lduncanson/dps_output/...   \n",
       "4         116  s3://maap-ops-workspace/lduncanson/dps_output/...   \n",
       "\n",
       "                                          local_path  \\\n",
       "0  /projects/my-private-bucket/dps_output/run_bor...   \n",
       "1  /projects/my-private-bucket/dps_output/run_bor...   \n",
       "2  /projects/my-private-bucket/dps_output/run_bor...   \n",
       "3  /projects/my-private-bucket/dps_output/run_bor...   \n",
       "4  /projects/my-private-bucket/dps_output/run_bor...   \n",
       "\n",
       "                                     file  tile_num  \n",
       "0  boreal_agb_202207151657929200_0296.tif       296  \n",
       "1  boreal_agb_202207151657929110_0059.tif        59  \n",
       "2  boreal_agb_202207151657928418_0092.tif        92  \n",
       "3  boreal_agb_202207151657928196_0222.tif       222  \n",
       "4  boreal_agb_202207151657927668_0062.tif        62  "
      ]
     },
     "execution_count": 6,
     "metadata": {},
     "output_type": "execute_result"
    }
   ],
   "source": [
    "# Get the tindex of the AGB COGs for mapping\n",
    "tindex_master = pd.read_csv(AGB_tindex_master_fn, storage_options={'anon':True})\n",
    "tindex_master.head()"
   ]
  },
  {
   "cell_type": "code",
   "execution_count": 7,
   "id": "vanilla-stations",
   "metadata": {},
   "outputs": [],
   "source": [
    "if False:\n",
    "    # Write tindex list to private-bucket\n",
    "    pd.read_csv(HLS_tindex_master_fn, storage_options={'anon':True}).to_csv('s3://maap-ops-workspace/nathanmthomas/DPS_tile_lists/HLS_tindex_master.csv')\n",
    "    pd.read_csv(Topo_tindex_master_fn, storage_options={'anon':True}).to_csv('s3://maap-ops-workspace/nathanmthomas/DPS_tile_lists/Topo_tindex_master.csv')\n",
    "    pd.read_csv(ATL08_filt_tindex_master_fn, storage_options={'anon':True}).to_csv('s3://maap-ops-workspace/nathanmthomas/DPS_tile_lists/ATL08_filt_tindex_master.csv')"
   ]
  },
  {
   "cell_type": "markdown",
   "id": "civic-sharing",
   "metadata": {},
   "source": [
    "### Summary of intermediate (ATL08 filt, HLS, Topo) and AGB output"
   ]
  },
  {
   "cell_type": "code",
   "execution_count": null,
   "id": "civil-intelligence",
   "metadata": {},
   "outputs": [],
   "source": [
    "ATL08filt_TILES_NEEDED = ExtractUtils.GET_TILES_NEEDED(DPS_DATA_TYPE = 'ATL08_filt', \\\n",
    "                                           tindex_master_fn = ATL08_filt_tindex_master_fn,\\\n",
    "                                                boreal_tile_index_path = boreal_tile_index_path)"
   ]
  },
  {
   "cell_type": "code",
   "execution_count": null,
   "id": "latter-leadership",
   "metadata": {},
   "outputs": [],
   "source": [
    "TOPO_TILES_NEEDED = ExtractUtils.GET_TILES_NEEDED(DPS_DATA_TYPE = 'Topo', \\\n",
    "                                           tindex_master_fn = Topo_tindex_master_fn,\\\n",
    "                                                boreal_tile_index_path = boreal_tile_index_path)"
   ]
  },
  {
   "cell_type": "code",
   "execution_count": null,
   "id": "precious-bicycle",
   "metadata": {},
   "outputs": [],
   "source": [
    "HLS_TILES_NEEDED = ExtractUtils.GET_TILES_NEEDED(DPS_DATA_TYPE = 'HLS', \\\n",
    "                                           tindex_master_fn = HLS_tindex_master_fn,\\\n",
    "                                                 bad_tiles = [], \\\n",
    "                                                boreal_tile_index_path = boreal_tile_index_path)"
   ]
  },
  {
   "cell_type": "code",
   "execution_count": null,
   "id": "isolated-holly",
   "metadata": {},
   "outputs": [],
   "source": [
    "AGB_TILES_NEEDED = ExtractUtils.GET_TILES_NEEDED(DPS_DATA_TYPE = 'AGB', \\\n",
    "                                                tindex_master_fn = AGB_tindex_master_fn,\\\n",
    "                                                 bad_tiles = [], \\\n",
    "                                                boreal_tile_index_path = boreal_tile_index_path)"
   ]
  },
  {
   "cell_type": "code",
   "execution_count": 8,
   "id": "spatial-electronics",
   "metadata": {},
   "outputs": [
    {
     "data": {
      "text/plain": [
       "(4579, 7)"
      ]
     },
     "execution_count": 8,
     "metadata": {},
     "output_type": "execute_result"
    }
   ],
   "source": [
    "BAD_TILE_LIST = [3540,3634,3728,3823,3916,4004]\n",
    "\n",
    "# For the tindex_master, convert it into vector tiles that show the tiles we have\n",
    "cols_list = ['tile_num','s3_path','local_path']\n",
    "\n",
    "# Select the rows we have results for\n",
    "tile_index_matches = boreal_tile_index.merge(tindex_master[~tindex_master['tile_num'].isin(BAD_TILE_LIST)][cols_list], how='right', on='tile_num')\n",
    "tile_index_matches = tile_index_matches[tile_index_matches['s3_path'].notna()]\n",
    "tile_index_matches.shape"
   ]
  },
  {
   "cell_type": "code",
   "execution_count": 9,
   "id": "saving-regular",
   "metadata": {},
   "outputs": [],
   "source": [
    "# Testing overview resampling builds for COGs\n",
    "if False:\n",
    "    in_fn = '/projects/my-public-bucket/boreal_agb_202205041651623844_0042.tif'\n",
    "    out_fn = '/projects/my-public-bucket/boreal_agb_202205041651623844_0042-TEST_GDAL_OVERVIEWS.tif'\n",
    "    !gdal_translate -co OVERVIEW_RESAMPLING=AVERAGE -of COG $in_fn $out_fn "
   ]
  },
  {
   "cell_type": "markdown",
   "id": "civil-terminology",
   "metadata": {},
   "source": [
    "# View s3 map layers"
   ]
  },
  {
   "cell_type": "code",
   "execution_count": 10,
   "id": "current-amino",
   "metadata": {},
   "outputs": [],
   "source": [
    "# Setup the mosaic tiling\n",
    "tiler_base = \"https://jqsd6bqdsf.execute-api.us-west-2.amazonaws.com/\" #titiler.maap-project.org\n",
    "tiler_mosaic =  \"\".join([tiler_base, \"mosaicjson/tiles/{z}/{x}/{y}\"])"
   ]
  },
  {
   "cell_type": "code",
   "execution_count": 11,
   "id": "prescription-tattoo",
   "metadata": {},
   "outputs": [],
   "source": [
    "# Fill in your favorite tile numbers that will highlight in red \n",
    "CHECK_TILE_LIST = [] #[3585,4108,1037,1549]"
   ]
  },
  {
   "cell_type": "code",
   "execution_count": null,
   "id": "reverse-holmes",
   "metadata": {},
   "outputs": [],
   "source": [
    "maplib_folium.MAP_DPS_RESULTS(tiler_mosaic, \n",
    "                              boreal_tile_index[~boreal_tile_index['tile_num'].isin(BAD_TILE_LIST)], #bad_tiles \n",
    "                              #geopandas.read_file( '/projects/my-public-bucket/analyze_agb/footprints_terrapulse-pub-data_boreal-tcc-unclipped-1995.gpkg'), # rm tiles [444, 576, 695, 805, 913,1127, 1197]\n",
    "                              tile_index_matches, \n",
    "                              boreal_tile_index[boreal_tile_index['tile_num'].isin(CHECK_TILE_LIST)], \n",
    "                              MATCH_TILES_NAME='AGB tiles',\n",
    "                              CHECK_TILES_NAME='Tiles to check',\n",
    "                              mosaic_json_dict = \n",
    "                                  {     ######### PRODUCT LAYERS #######\n",
    "                                        #---NASA ABoVE Aboveground Boreal Woody Biomass Density\n",
    "                                        'agb_mosaic_json_s3_fn':    AGB_mosaic_json_fn,\n",
    "                                        'topo_mosaic_json_s3_fn':   Topo_mosaic_json_fn,\n",
    "                                        'mscomp_mosaic_json_s3_fn': HLS_mosaic_json_fn,\n",
    "                                        ######### ANALYSIS LAYERS ######\n",
    "                                        'worldcover_json_s3_fn':       None,  \n",
    "                                        'tp_standage2020_json_s3_fn':  None,\n",
    "                                        'tp_tcc2020_json_s3_fn':       None,\n",
    "                                        'tp_tcc2020slope_json_s3_fn':  None,\n",
    "                                        'tp_tcc2020pvalue_json_s3_fn': None, \n",
    "                                    },\n",
    "                              max_AGB_display = 150, max_AGBSE_display = 20,\n",
    "                              map_width=1250, map_height=500,\n",
    "                                                           mscomp_rgb_dict = None,\n",
    "                            MS_BANDNAME = 'NBR2',\n",
    "                            MS_BANDMIN=0.25,\n",
    "                            MS_BANDMAX=0.45, #1.1,\n",
    "                            MS_BANDNUM=13, #9,\n",
    "                            MS_BANDCOLORBAR='nipy_spectral',\n",
    "                            SHOW_WIDGETS=False\n",
    "                             )"
   ]
  },
  {
   "cell_type": "code",
   "execution_count": null,
   "id": "dramatic-chick",
   "metadata": {},
   "outputs": [],
   "source": [
    "FOCAL_TILE = 40664\n",
    "m=maplib_folium.map_tile_atl08(FOCAL_TILE, tiler_mosaic, boreal_tile_index, ATL08_filt_tindex_master_fn = ATL08_filt_tindex_master_fn,\n",
    "                             mosaic_json_dict = {'agb_mosaic_json_s3_fn': AGB_mosaic_json_fn}, DO_NIGHT=False, map_width=500, map_height=500, OVERVIEW_MAP=False,\n",
    "                            max_AGB_display = 150, max_AGBSE_display = 20)\n",
    "m"
   ]
  },
  {
   "cell_type": "code",
   "execution_count": null,
   "id": "associate-institute",
   "metadata": {},
   "outputs": [],
   "source": [
    "MISSING_TILES = [3082, 2918, 40664, 2745,      # AK & NW Ca\n",
    "                42809,                         # NE Sib Beringia\n",
    "                1854, 1789, 1321, 36238, 1262, # Hudson Bay and Quebec\n",
    "                1505, 1392, 34210, 33975,      # Southern edge,  mostly below 45N - might not have ATL08 processed\n",
    "                37, 10, 148, 169, 446,         # Scand - 10 very little land so no ATL08?\n",
    "                162, 629,                             # Western Russia\n",
    "                27365,                                # Crimea\n",
    "                1761,2651,2970,3417,3604, 4080        # Central and Eastern Siberia\n",
    "                ]\n",
    "print(MISSING_TILES)\n",
    "len(MISSING_TILES)"
   ]
  },
  {
   "cell_type": "code",
   "execution_count": null,
   "id": "yellow-vampire",
   "metadata": {},
   "outputs": [],
   "source": [
    "MISSING_TILES_for_redo = []\n",
    "MISSING_ATL08 = []\n",
    "MISSING_HLS = []\n",
    "MISSING_Topo = []\n",
    "\n",
    "ATL08_filt_tindex = pd.read_csv(ATL08_filt_tindex_master_fn, storage_options={'anon':True})\n",
    "HLS_tindex = pd.read_csv(HLS_tindex_master_fn, storage_options={'anon':True})\n",
    "Topo_tindex = pd.read_csv(Topo_tindex_master_fn, storage_options={'anon':True})\n",
    "\n",
    "AGB_tindex = pd.read_csv(AGB_tindex_master_fn, storage_options={'anon':True})\n",
    "\n",
    "for t in MISSING_TILES:\n",
    "\n",
    "    if t in ATL08_filt_tindex.tile_num.to_list() and HLS_tindex.tile_num.to_list() and Topo_tindex.tile_num.to_list():\n",
    "        MISSING_TILES_for_redo.append(t)\n",
    "        \n",
    "        # Just confirm that this tile is in fact not in the AGB tindex< if so, flag it with a print out.\n",
    "        if t in AGB_tindex.tile_num.to_list():\n",
    "            print(f\"Tile {t} is in the AGB tindex, so maybe its not showing?\")\n",
    "    else:\n",
    "        if t not in ATL08_filt_tindex.tile_num.to_list():\n",
    "            MISSING_ATL08.append(t)\n",
    "        if t not in HLS_tindex.tile_num.to_list():\n",
    "            MISSING_HLS.append(t)\n",
    "        if t not in Topo_tindex.tile_num.to_list():\n",
    "            MISSING_Topo.append(t)\n",
    "            \n",
    "print(f\"AGB does NOT exist for these {len(MISSING_TILES_for_redo)} tiles, but ATL08 filt, HLS, & Topo tiles do:\\n{MISSING_TILES_for_redo}\\nRe-do AGB run for these tiles.\")"
   ]
  },
  {
   "cell_type": "raw",
   "id": "breeding-planet",
   "metadata": {},
   "source": [
    "MISSING_ATL08"
   ]
  },
  {
   "cell_type": "code",
   "execution_count": null,
   "id": "lasting-planning",
   "metadata": {},
   "outputs": [],
   "source": [
    "MISSING_HLS"
   ]
  },
  {
   "cell_type": "code",
   "execution_count": null,
   "id": "median-building",
   "metadata": {},
   "outputs": [],
   "source": [
    "MISSING_Topo"
   ]
  },
  {
   "cell_type": "code",
   "execution_count": null,
   "id": "approved-gallery",
   "metadata": {},
   "outputs": [],
   "source": []
  }
 ],
 "metadata": {
  "kernelspec": {
   "display_name": "Python 3",
   "language": "python",
   "name": "python3"
  },
  "language_info": {
   "codemirror_mode": {
    "name": "ipython",
    "version": 3
   },
   "file_extension": ".py",
   "mimetype": "text/x-python",
   "name": "python",
   "nbconvert_exporter": "python",
   "pygments_lexer": "ipython3",
   "version": "3.7.4"
  }
 },
 "nbformat": 4,
 "nbformat_minor": 5
}
