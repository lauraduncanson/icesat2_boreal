{
 "cells": [
  {
   "cell_type": "code",
   "execution_count": null,
   "metadata": {},
   "outputs": [],
   "source": []
  },
  {
   "cell_type": "code",
   "execution_count": 1,
   "metadata": {},
   "outputs": [
    {
     "name": "stderr",
     "output_type": "stream",
     "text": [
      "Loading required package: pacman\n",
      "Warning message in library(package, lib.loc = lib.loc, character.only = TRUE, logical.return = TRUE, :\n",
      "“there is no package called ‘pacman’”"
     ]
    },
    {
     "ename": "ERROR",
     "evalue": "Error in p_load(rnaturalearth, rnaturalearthdata, raster): could not find function \"p_load\"\n",
     "output_type": "error",
     "traceback": [
      "Error in p_load(rnaturalearth, rnaturalearthdata, raster): could not find function \"p_load\"\nTraceback:\n"
     ]
    }
   ],
   "source": [
    "require(pacman)\n",
    "\n",
    "p_load(rnaturalearth,rnaturalearthdata,raster)\n",
    "\n",
    "world <- ne_countries(scale = \"medium\", returnclass = \"sf\")\n",
    "\n",
    "class(world)\n",
    "plot(world[1]$geometry, axes=T,xlim=c(-180,180), ylim=c(40,90))\n",
    "\n",
    "boreal<-shapefile(\"C:\\\\Users\\\\USUARIO\\\\Downloads\\\\borealbiome\\\\boreal.shp\")\n",
    "plot(boreal, add=T, col=\"green\")\n",
    "crs(boreal)<-CRS(\"+init=epsg:4326\")\n",
    "\n",
    "boreal_b<-buffer(boreal, width=5)\n",
    "plot(boreal_b, add=T, border=\"blue\", lwd=2)\n",
    "\n",
    "ext <- floor(extent(boreal_b))\n",
    "rr <- raster(ext, res=0.5)\n",
    "rr <- rasterize(boreal_b, rr, field=1)\n",
    "rr[!is.na(rr[])]<-1:length(rr[!is.na(rr[])])\n",
    "plot(rr, add=T, col=\"red\")\n",
    "\n",
    "boreal_b_shp<-rasterToPolygons(rr)\n",
    "\n",
    "writeOGR(boreal_b_shp,\"C:\\\\Users\\\\USUARIO\\\\Downloads\",\"boreal_b_shp\", drive=\"ESRI Shapefile\")\n"
   ]
  },
  {
   "cell_type": "code",
   "execution_count": null,
   "metadata": {},
   "outputs": [],
   "source": []
  }
 ],
 "metadata": {
  "kernelspec": {
   "display_name": "Python 3 (ipykernel)",
   "language": "python",
   "name": "python3"
  },
  "language_info": {
   "codemirror_mode": {
    "name": "ipython",
    "version": 3
   },
   "file_extension": ".py",
   "mimetype": "text/x-python",
   "name": "python",
   "nbconvert_exporter": "python",
   "pygments_lexer": "ipython3",
   "version": "3.7.8"
  }
 },
 "nbformat": 4,
 "nbformat_minor": 4
}
