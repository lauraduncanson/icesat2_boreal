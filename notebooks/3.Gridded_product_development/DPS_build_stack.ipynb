{
 "cells": [
  {
   "cell_type": "code",
   "execution_count": 1,
   "id": "c3cb6796",
   "metadata": {},
   "outputs": [],
   "source": [
    "from maap.maap import MAAP\n",
    "maap = MAAP(maap_host='api.ops.maap-project.org')"
   ]
  },
  {
   "cell_type": "code",
   "execution_count": 2,
   "id": "ba6abf1d",
   "metadata": {},
   "outputs": [
    {
     "name": "stdout",
     "output_type": "stream",
     "text": [
      "Requirement already satisfied: h5py==3.1.0 in /projects/.local/lib/python3.7/site-packages (from -r /projects/Developer/icesat2_boreal/dps/requirements_main.txt (line 3)) (3.1.0)\n",
      "Requirement already satisfied: pandas==1.2.2 in /projects/.local/lib/python3.7/site-packages (from -r /projects/Developer/icesat2_boreal/dps/requirements_main.txt (line 4)) (1.2.2)\n",
      "Requirement already satisfied: pygeos==0.12.0 in /projects/.local/lib/python3.7/site-packages (from -r /projects/Developer/icesat2_boreal/dps/requirements_main.txt (line 7)) (0.12.0)\n",
      "Requirement already satisfied: rtree==0.9.7 in /projects/.local/lib/python3.7/site-packages (from -r /projects/Developer/icesat2_boreal/dps/requirements_main.txt (line 8)) (0.9.7)\n",
      "Requirement already satisfied: numpy==1.21.0 in /projects/.local/lib/python3.7/site-packages (from -r /projects/Developer/icesat2_boreal/dps/requirements_main.txt (line 9)) (1.21.0)\n",
      "Requirement already satisfied: geopandas==0.9.0 in /projects/.local/lib/python3.7/site-packages (from -r /projects/Developer/icesat2_boreal/dps/requirements_main.txt (line 12)) (0.9.0)\n",
      "Requirement already satisfied: rasterio==1.2.6 in /projects/.local/lib/python3.7/site-packages (from -r /projects/Developer/icesat2_boreal/dps/requirements_main.txt (line 13)) (1.2.6)\n",
      "Requirement already satisfied: importlib_resources in /projects/.local/lib/python3.7/site-packages (from -r /projects/Developer/icesat2_boreal/dps/requirements_main.txt (line 14)) (5.10.1)\n",
      "Requirement already satisfied: contextily in /projects/.local/lib/python3.7/site-packages (from -r /projects/Developer/icesat2_boreal/dps/requirements_main.txt (line 15)) (1.2.0)\n",
      "Requirement already satisfied: fsspec in /projects/.local/lib/python3.7/site-packages (from -r /projects/Developer/icesat2_boreal/dps/requirements_main.txt (line 16)) (2022.11.0)\n",
      "Requirement already satisfied: s3fs==0.3.4 in /opt/conda/lib/python3.7/site-packages (from -r /projects/Developer/icesat2_boreal/dps/requirements_main.txt (line 17)) (0.3.4)\n",
      "Requirement already satisfied: rio-cogeo==2.3.1 in /projects/.local/lib/python3.7/site-packages (from -r /projects/Developer/icesat2_boreal/dps/requirements_main.txt (line 22)) (2.3.1)\n",
      "Requirement already satisfied: rio-tiler==2.1.4 in /opt/conda/lib/python3.7/site-packages (from -r /projects/Developer/icesat2_boreal/dps/requirements_main.txt (line 23)) (2.1.4)\n",
      "Requirement already satisfied: morecantile==2.1.4 in /projects/.local/lib/python3.7/site-packages (from -r /projects/Developer/icesat2_boreal/dps/requirements_main.txt (line 25)) (2.1.4)\n",
      "Requirement already satisfied: pystac-client in /projects/.local/lib/python3.7/site-packages (from -r /projects/Developer/icesat2_boreal/dps/requirements_main.txt (line 26)) (0.5.1)\n",
      "Requirement already satisfied: cachetools in /projects/.local/lib/python3.7/site-packages (from -r /projects/Developer/icesat2_boreal/dps/requirements_main.txt (line 48)) (5.2.0)\n",
      "Requirement already satisfied: cached-property in /projects/.local/lib/python3.7/site-packages (from h5py==3.1.0->-r /projects/Developer/icesat2_boreal/dps/requirements_main.txt (line 3)) (1.5.2)\n",
      "Requirement already satisfied: pytz>=2017.3 in /opt/conda/lib/python3.7/site-packages (from pandas==1.2.2->-r /projects/Developer/icesat2_boreal/dps/requirements_main.txt (line 4)) (2021.1)\n",
      "Requirement already satisfied: python-dateutil>=2.7.3 in /opt/conda/lib/python3.7/site-packages (from pandas==1.2.2->-r /projects/Developer/icesat2_boreal/dps/requirements_main.txt (line 4)) (2.8.2)\n",
      "Requirement already satisfied: fiona>=1.8 in /projects/.local/lib/python3.7/site-packages (from geopandas==0.9.0->-r /projects/Developer/icesat2_boreal/dps/requirements_main.txt (line 12)) (1.8.20)\n",
      "Requirement already satisfied: pyproj>=2.2.0 in /opt/conda/lib/python3.7/site-packages (from geopandas==0.9.0->-r /projects/Developer/icesat2_boreal/dps/requirements_main.txt (line 12)) (2.6.1.post1)\n",
      "Requirement already satisfied: shapely>=1.6 in /projects/.local/lib/python3.7/site-packages (from geopandas==0.9.0->-r /projects/Developer/icesat2_boreal/dps/requirements_main.txt (line 12)) (1.7.1)\n",
      "Requirement already satisfied: attrs in /opt/conda/lib/python3.7/site-packages (from rasterio==1.2.6->-r /projects/Developer/icesat2_boreal/dps/requirements_main.txt (line 13)) (20.2.0)\n",
      "Requirement already satisfied: click>=4.0 in /opt/conda/lib/python3.7/site-packages (from rasterio==1.2.6->-r /projects/Developer/icesat2_boreal/dps/requirements_main.txt (line 13)) (7.1.2)\n",
      "Requirement already satisfied: setuptools in /opt/conda/lib/python3.7/site-packages (from rasterio==1.2.6->-r /projects/Developer/icesat2_boreal/dps/requirements_main.txt (line 13)) (49.6.0.post20201009)\n",
      "Requirement already satisfied: affine in /opt/conda/lib/python3.7/site-packages (from rasterio==1.2.6->-r /projects/Developer/icesat2_boreal/dps/requirements_main.txt (line 13)) (2.3.0)\n",
      "Requirement already satisfied: cligj>=0.5 in /opt/conda/lib/python3.7/site-packages (from rasterio==1.2.6->-r /projects/Developer/icesat2_boreal/dps/requirements_main.txt (line 13)) (0.7.0)\n",
      "Requirement already satisfied: snuggs>=1.4.1 in /opt/conda/lib/python3.7/site-packages (from rasterio==1.2.6->-r /projects/Developer/icesat2_boreal/dps/requirements_main.txt (line 13)) (1.4.7)\n",
      "Requirement already satisfied: certifi in /opt/conda/lib/python3.7/site-packages (from rasterio==1.2.6->-r /projects/Developer/icesat2_boreal/dps/requirements_main.txt (line 13)) (2021.5.30)\n",
      "Requirement already satisfied: click-plugins in /opt/conda/lib/python3.7/site-packages (from rasterio==1.2.6->-r /projects/Developer/icesat2_boreal/dps/requirements_main.txt (line 13)) (1.1.1)\n",
      "Requirement already satisfied: botocore>=1.12.91 in /projects/.local/lib/python3.7/site-packages (from s3fs==0.3.4->-r /projects/Developer/icesat2_boreal/dps/requirements_main.txt (line 17)) (1.27.59)\n",
      "Requirement already satisfied: boto3>=1.9.91 in /projects/.local/lib/python3.7/site-packages (from s3fs==0.3.4->-r /projects/Developer/icesat2_boreal/dps/requirements_main.txt (line 17)) (1.24.59)\n",
      "Requirement already satisfied: pydantic in /projects/.local/lib/python3.7/site-packages (from rio-cogeo==2.3.1->-r /projects/Developer/icesat2_boreal/dps/requirements_main.txt (line 22)) (1.8.2)\n",
      "Requirement already satisfied: rio-color in /projects/.local/lib/python3.7/site-packages (from rio-tiler==2.1.4->-r /projects/Developer/icesat2_boreal/dps/requirements_main.txt (line 23)) (1.0.3)\n",
      "Requirement already satisfied: numexpr in /projects/.local/lib/python3.7/site-packages (from rio-tiler==2.1.4->-r /projects/Developer/icesat2_boreal/dps/requirements_main.txt (line 23)) (2.7.3)\n",
      "Requirement already satisfied: pystac>=0.5.3 in /projects/.local/lib/python3.7/site-packages (from rio-tiler==2.1.4->-r /projects/Developer/icesat2_boreal/dps/requirements_main.txt (line 23)) (1.5.0)\n",
      "Requirement already satisfied: requests in /projects/.local/lib/python3.7/site-packages (from rio-tiler==2.1.4->-r /projects/Developer/icesat2_boreal/dps/requirements_main.txt (line 23)) (2.27.1)\n",
      "Requirement already satisfied: zipp>=3.1.0 in /opt/conda/lib/python3.7/site-packages (from importlib_resources->-r /projects/Developer/icesat2_boreal/dps/requirements_main.txt (line 14)) (3.6.0)\n",
      "Requirement already satisfied: joblib in /projects/.local/lib/python3.7/site-packages (from contextily->-r /projects/Developer/icesat2_boreal/dps/requirements_main.txt (line 15)) (1.0.1)\n",
      "Requirement already satisfied: xyzservices in /projects/.local/lib/python3.7/site-packages (from contextily->-r /projects/Developer/icesat2_boreal/dps/requirements_main.txt (line 15)) (2022.3.0)\n",
      "Requirement already satisfied: pillow in /projects/.local/lib/python3.7/site-packages (from contextily->-r /projects/Developer/icesat2_boreal/dps/requirements_main.txt (line 15)) (8.3.2)\n",
      "Requirement already satisfied: mercantile in /projects/.local/lib/python3.7/site-packages (from contextily->-r /projects/Developer/icesat2_boreal/dps/requirements_main.txt (line 15)) (1.2.1)\n",
      "Requirement already satisfied: matplotlib in /opt/conda/lib/python3.7/site-packages (from contextily->-r /projects/Developer/icesat2_boreal/dps/requirements_main.txt (line 15)) (3.2.2)\n",
      "Requirement already satisfied: geopy in /projects/.local/lib/python3.7/site-packages (from contextily->-r /projects/Developer/icesat2_boreal/dps/requirements_main.txt (line 15)) (2.2.0)\n",
      "Requirement already satisfied: jmespath<2.0.0,>=0.7.1 in /opt/conda/lib/python3.7/site-packages/jmespath-0.10.0-py3.7.egg (from boto3>=1.9.91->s3fs==0.3.4->-r /projects/Developer/icesat2_boreal/dps/requirements_main.txt (line 17)) (0.10.0)\n",
      "Requirement already satisfied: s3transfer<0.7.0,>=0.6.0 in /projects/.local/lib/python3.7/site-packages (from boto3>=1.9.91->s3fs==0.3.4->-r /projects/Developer/icesat2_boreal/dps/requirements_main.txt (line 17)) (0.6.0)\n",
      "Requirement already satisfied: urllib3<1.27,>=1.25.4 in /opt/conda/lib/python3.7/site-packages (from botocore>=1.12.91->s3fs==0.3.4->-r /projects/Developer/icesat2_boreal/dps/requirements_main.txt (line 17)) (1.25.11)\n",
      "Requirement already satisfied: six>=1.7 in /opt/conda/lib/python3.7/site-packages (from fiona>=1.8->geopandas==0.9.0->-r /projects/Developer/icesat2_boreal/dps/requirements_main.txt (line 12)) (1.15.0)\n",
      "Requirement already satisfied: munch in /projects/.local/lib/python3.7/site-packages (from fiona>=1.8->geopandas==0.9.0->-r /projects/Developer/icesat2_boreal/dps/requirements_main.txt (line 12)) (2.5.0)\n",
      "Requirement already satisfied: typing-extensions>=3.7 in /opt/conda/lib/python3.7/site-packages (from pystac>=0.5.3->rio-tiler==2.1.4->-r /projects/Developer/icesat2_boreal/dps/requirements_main.txt (line 23)) (3.10.0.2)\n",
      "Requirement already satisfied: idna<4,>=2.5 in /opt/conda/lib/python3.7/site-packages (from requests->rio-tiler==2.1.4->-r /projects/Developer/icesat2_boreal/dps/requirements_main.txt (line 23)) (2.10)\n",
      "Requirement already satisfied: charset-normalizer~=2.0.0 in /projects/.local/lib/python3.7/site-packages (from requests->rio-tiler==2.1.4->-r /projects/Developer/icesat2_boreal/dps/requirements_main.txt (line 23)) (2.0.12)\n",
      "Requirement already satisfied: pyparsing>=2.1.6 in /opt/conda/lib/python3.7/site-packages (from snuggs>=1.4.1->rasterio==1.2.6->-r /projects/Developer/icesat2_boreal/dps/requirements_main.txt (line 13)) (2.4.7)\n",
      "Requirement already satisfied: geographiclib<2,>=1.49 in /projects/.local/lib/python3.7/site-packages (from geopy->contextily->-r /projects/Developer/icesat2_boreal/dps/requirements_main.txt (line 15)) (1.52)\n",
      "Requirement already satisfied: kiwisolver>=1.0.1 in /opt/conda/lib/python3.7/site-packages (from matplotlib->contextily->-r /projects/Developer/icesat2_boreal/dps/requirements_main.txt (line 15)) (1.3.1)\n",
      "Requirement already satisfied: cycler>=0.10 in /opt/conda/lib/python3.7/site-packages (from matplotlib->contextily->-r /projects/Developer/icesat2_boreal/dps/requirements_main.txt (line 15)) (0.10.0)\n",
      "Requirement already satisfied: rio-mucho in /projects/.local/lib/python3.7/site-packages (from rio-color->rio-tiler==2.1.4->-r /projects/Developer/icesat2_boreal/dps/requirements_main.txt (line 23)) (1.0.0)\n",
      "\u001b[33mWARNING: Running pip as the 'root' user can result in broken permissions and conflicting behaviour with the system package manager. It is recommended to use a virtual environment instead: https://pip.pypa.io/warnings/venv\u001b[0m\u001b[33m\n",
      "\u001b[0m\u001b[33mWARNING: You are using pip version 22.0.3; however, version 22.3.1 is available.\n",
      "You should consider upgrading via the '/opt/conda/bin/python3.7 -m pip install --upgrade pip' command.\u001b[0m\u001b[33m\n",
      "\u001b[0m"
     ]
    }
   ],
   "source": [
    "!pip install -U -r /projects/Developer/icesat2_boreal/dps/requirements_main.txt"
   ]
  },
  {
   "cell_type": "markdown",
   "id": "42cafe2e",
   "metadata": {},
   "source": [
    "# Launch DPS for build_stack.py"
   ]
  },
  {
   "cell_type": "code",
   "execution_count": 3,
   "id": "84c51e31",
   "metadata": {},
   "outputs": [
    {
     "name": "stderr",
     "output_type": "stream",
     "text": [
      "/projects/.local/lib/python3.7/site-packages/geopandas/_compat.py:110: UserWarning: The Shapely GEOS version (3.8.0-CAPI-1.13.1 ) is incompatible with the GEOS version PyGEOS was compiled with (3.10.1-CAPI-1.16.0). Conversions between both will be slow.\n",
      "  shapely_geos_version, geos_capi_version_string\n"
     ]
    },
    {
     "name": "stdout",
     "output_type": "stream",
     "text": [
      "Requirement already satisfied: xmltodict in /opt/conda/lib/python3.7/site-packages (0.13.0)\n",
      "\u001b[33mWARNING: Running pip as the 'root' user can result in broken permissions and conflicting behaviour with the system package manager. It is recommended to use a virtual environment instead: https://pip.pypa.io/warnings/venv\u001b[0m\u001b[33m\n",
      "\u001b[0m\u001b[33mWARNING: You are using pip version 22.0.3; however, version 22.3.1 is available.\n",
      "You should consider upgrading via the '/opt/conda/bin/python3.7 -m pip install --upgrade pip' command.\u001b[0m\u001b[33m\n",
      "\u001b[0m"
     ]
    }
   ],
   "source": [
    "import os\n",
    "import geopandas\n",
    "import pandas as pd\n",
    "import glob\n",
    "import datetime\n",
    "!pip install xmltodict\n",
    "import xmltodict\n",
    "import sys\n",
    "sys.path.append('/projects/Developer/icesat2_boreal/lib')\n",
    "import ExtractUtils"
   ]
  },
  {
   "cell_type": "markdown",
   "id": "9e05eb72",
   "metadata": {},
   "source": [
    "# Test (locally) the script for DPS"
   ]
  },
  {
   "cell_type": "markdown",
   "id": "9a79713a",
   "metadata": {},
   "source": [
    "##### To run build_stack.py across a tiled raster dataset you need a bunch of args that we'll gather into a dictionary\n",
    "\n",
    "s3 you need to have a vector footprint of that dataset"
   ]
  },
  {
   "cell_type": "code",
   "execution_count": 4,
   "id": "550d58b9",
   "metadata": {},
   "outputs": [],
   "source": [
    "TILE_NUM = 1615"
   ]
  },
  {
   "cell_type": "markdown",
   "id": "04886e3d",
   "metadata": {},
   "source": [
    "#### Dictionary preparation makes this script very flexible and transferable to another s3 dataset\n",
    "This dictionary is specific to the ESA Worldcover dataset.  \n",
    "To run '`build_stack.py` across another dataset, just prepare another dictionary here and everything below should be exactly the same.  "
   ]
  },
  {
   "cell_type": "code",
   "execution_count": 5,
   "id": "6eac839e",
   "metadata": {},
   "outputs": [],
   "source": [
    "# ESA Worldcover 2020\n",
    "BUILD_STACK_DICT = {\n",
    "            #'INDEX_FN': '/projects/my-public-bucket/boreal_tiles_v003.gpkg',\n",
    "            'INDEX_FN': 'https://maap-ops-workspace.s3.amazonaws.com/shared/nathanmthomas/boreal_tiles_v003.gpkg',\n",
    "            'ID_COL_NAME': 'tile_num',\n",
    "            'TILE_NUM':TILE_NUM,\n",
    "            'INDEX_LYR': 'boreal_tiles_v003',\n",
    "            # Worldcover data is accessed via its footprint, with a 's3_path' col identifying the s3 locations of each tile\n",
    "            'RASTER_NAME': 'esa_worldcover_v100_2020',\n",
    "            #'COVAR_TILE_FN': '/projects/my-public-bucket/analyze_agb/footprints_v100_2020_v100_2020_map-s3.gpkg',\n",
    "            'COVAR_TILE_FN': 'https://maap-ops-workspace.s3.amazonaws.com/shared/nathanmthomas/analyze_agb/footprints_v100_2020_v100_2020_map-s3.gpkg',\n",
    "            'IN_COVAR_S3_COL': 's3_path',\n",
    "            'OUTDIR': '/projects/my-public-bucket/DPS_ESA_LC',\n",
    "            'NODATA_VAL': 0,\n",
    "            'OUTPUT_CLIP_COG_FN':'',\n",
    "            'CREDENTIALS_FN': None\n",
    "        }"
   ]
  },
  {
   "cell_type": "code",
   "execution_count": 6,
   "id": "f56d5ec2",
   "metadata": {},
   "outputs": [],
   "source": [
    "# INDEX clip shapes should be in equal area\n",
    "# COVAR_TILE_FN tiles (of raster COGs) should be in 4326\n",
    "args = f\"\\\n",
    "    --in_tile_fn {BUILD_STACK_DICT['INDEX_FN']} \\\n",
    "    --in_tile_id_col {BUILD_STACK_DICT['ID_COL_NAME']} \\\n",
    "    --in_tile_num {BUILD_STACK_DICT['TILE_NUM']} \\\n",
    "    --tile_buffer_m 0 \\\n",
    "    --in_tile_layer {BUILD_STACK_DICT['INDEX_LYR']} \\\n",
    "    -o {BUILD_STACK_DICT['OUTDIR']} \\\n",
    "    --topo_off \\\n",
    "    --covar_src_name {BUILD_STACK_DICT['RASTER_NAME']} \\\n",
    "    --covar_tile_fn {BUILD_STACK_DICT['COVAR_TILE_FN']} \\\n",
    "    --in_covar_s3_col {BUILD_STACK_DICT['IN_COVAR_S3_COL']} \\\n",
    "    --input_nodata_value {BUILD_STACK_DICT['NODATA_VAL']} \\\n",
    "    --clip\""
   ]
  },
  {
   "cell_type": "code",
   "execution_count": 8,
   "id": "25e3ea59",
   "metadata": {},
   "outputs": [
    {
     "name": "stdout",
     "output_type": "stream",
     "text": [
      "/projects/.local/lib/python3.7/site-packages/geopandas/_compat.py:110: UserWarning: The Shapely GEOS version (3.8.0-CAPI-1.13.1 ) is incompatible with the GEOS version PyGEOS was compiled with (3.10.1-CAPI-1.16.0). Conversions between both will be slow.\n",
      "  shapely_geos_version, geos_capi_version_string\n",
      "\n",
      "---Running build_stack()---\n",
      "\n",
      "The covariate's filename(s) intersecting the 0 m bbox for tile id 1615:\n",
      " s3://esa-worldcover/v100/2020/map/ESA_WorldCover_10m_2020_v100_N45W084_Map.tif\n",
      "bbox: [5048522.564673773, 5193303.643996402, 5138522.529666357, 5283303.645755118]\n",
      "Writing stack as cloud-optimized geotiff: /projects/my-public-bucket/DPS_ESA_LC/esa_worldcover_v100_2020_1615_cog.tif\n",
      "Clipping to feature polygon...\n",
      "Orig stack shape:\t\t (1, 3000, 3000)\n",
      "Output resolution:\t\t (30, 30)\n",
      "Writing img to memory...\n",
      "/projects/Developer/icesat2_boreal/lib/build_stack.py:94: RasterioDeprecationWarning: Source dataset should be opened in read-only mode. Use of datasets opened in modes other than 'r' will be disallowed in a future version.\n",
      "  input_nodata_value=input_nodata_value\n",
      "{'driver': 'VRT', 'dtype': 'uint8', 'nodata': 0, 'width': 3000, 'height': 3000, 'count': 1, 'crs': CRS.from_wkt('PROJCS[\"unnamed\",GEOGCS[\"GRS 1980(IUGG, 1980)\",DATUM[\"unknown\",SPHEROID[\"GRS80\",6378137,298.257222101],TOWGS84[0,0,0,0,0,0,0]],PRIMEM[\"Greenwich\",0],UNIT[\"degree\",0.0174532925199433]],PROJECTION[\"Albers_Conic_Equal_Area\"],PARAMETER[\"standard_parallel_1\",50],PARAMETER[\"standard_parallel_2\",70],PARAMETER[\"latitude_of_center\",40],PARAMETER[\"longitude_of_center\",180],PARAMETER[\"false_easting\",0],PARAMETER[\"false_northing\",0],UNIT[\"Meter\",1],AXIS[\"Easting\",EAST],AXIS[\"Northing\",NORTH]]'), 'transform': Affine(29.999994458550592, 0.0, 5048522.564673773,\n",
      "       0.0, -29.999994458550592, 5283303.645755118), 'blockxsize': 512, 'blockysize': 128, 'tiled': True}\n",
      "Reading input: <open WarpedVRT name='WarpedVRT(/vsimem/ac63274d-2092-4037-8e55-16cd0be1abf6/ac63274d-2092-4037-8e55-16cd0be1abf6.tif)' mode='r'>\n",
      "\u001b[?25l  [####################################]  100%\u001b[?25h\n",
      "Adding overviews...\n",
      "Updating dataset tags...\n",
      "Writing output to: /projects/my-public-bucket/DPS_ESA_LC/esa_worldcover_v100_2020_1615_cog.tif\n",
      "Image written to disk:\t\t /projects/my-public-bucket/DPS_ESA_LC/esa_worldcover_v100_2020_1615_cog.tif\n"
     ]
    }
   ],
   "source": [
    "!python /projects/Developer/icesat2_boreal/lib/build_stack.py $args"
   ]
  },
  {
   "cell_type": "code",
   "execution_count": 8,
   "id": "8c5b526b",
   "metadata": {},
   "outputs": [],
   "source": [
    "DPS_INPUT_TILE_NUM_LIST = []"
   ]
  },
  {
   "cell_type": "markdown",
   "id": "d780f42d",
   "metadata": {},
   "source": [
    "# Register DPS algorithm\n",
    "We need to register a DPS algorithm called 'run_build_stack' before proceeding to the chunks below..."
   ]
  },
  {
   "cell_type": "code",
   "execution_count": 73,
   "id": "3acb44d1",
   "metadata": {},
   "outputs": [
    {
     "name": "stdout",
     "output_type": "stream",
     "text": [
      "{\n",
      "  \"algorithm_name\": \"run_build_stack\",\n",
      "  \"code_version\": \"master\",\n",
      "  \"environment_name\": \"ubuntu\",\n",
      "  \"repo_url\": \"https://github.com/lauraduncanson/icesat2_boreal.git\",\n",
      "  \"docker_container_url\": \"mas.dit.maap-project.org/root/maap-workspaces/base_images/vanilla:dit\",\n",
      "  \"queue\": \"8GB\",\n",
      "  \"algorithm_description\": \"DPS run to create ESA LandCover masks\",\n",
      "  \"build_command\": \"icesat2_boreal/dps/build_command_main.sh\",\n",
      "  \"script_command\": \"icesat2_boreal/dps/alg_3-1-3/run.sh\",\n",
      "  \"disk_space\": \"10GB\",\n",
      "  \"algorithm_params\": [\n",
      "    {\n",
      "      \"field\": \"covar_tile_url\",\n",
      "      \"download\": true\n",
      "    },\n",
      "    {\n",
      "      \"field\": \"in_tile_url\",\n",
      "      \"download\": true\n",
      "    },\n",
      "    {\n",
      "      \"field\": \"covar_tile_fn\",\n",
      "      \"download\": false\n",
      "    },\n",
      "    {\n",
      "      \"field\": \"in_tile_fn\",\n",
      "      \"download\": false\n",
      "    },\n",
      "    {\n",
      "      \"field\": \"in_tile_id_col\",\n",
      "      \"download\": false\n",
      "    },\n",
      "    {\n",
      "      \"field\": \"in_tile_num\",\n",
      "      \"download\": false\n",
      "    },\n",
      "    {\n",
      "      \"field\": \"tile_buffer_m\",\n",
      "      \"download\": false\n",
      "    },\n",
      "    {\n",
      "      \"field\": \"in_tile_layer\",\n",
      "      \"download\": false\n",
      "    },\n",
      "    {\n",
      "      \"field\": \"covar_src_name\",\n",
      "      \"download\": false\n",
      "    },\n",
      "    {\n",
      "      \"field\": \"in_covar_s3_col\",\n",
      "      \"download\": false\n",
      "    },\n",
      "    {\n",
      "      \"field\": \"input_nodata_value\",\n",
      "      \"download\": false\n",
      "    }\n",
      "  ]\n",
      "}\n",
      "{\"code\": 200, \"message\": {\"id\": \"9e72b9ee45b580f458a8c176e25f30493c29d050\", \"short_id\": \"9e72b9ee\", \"created_at\": \"2022-09-15T13:11:29.000+00:00\", \"parent_ids\": [\"573143ad4b03564d7cbf008a6098ffa656cf2f30\"], \"title\": \"Registering algorithm: run_build_stack_ubuntu\", \"message\": \"Registering algorithm: run_build_stack_ubuntu\", \"author_name\": \"www-data\", \"author_email\": \"www-data@ip-10-46-1-136\", \"authored_date\": \"2022-09-15T13:11:29.000+00:00\", \"committer_name\": \"www-data\", \"committer_email\": \"www-data@ip-10-46-1-136\", \"committed_date\": \"2022-09-15T13:11:29.000+00:00\", \"trailers\": {}, \"web_url\": \"https://repo.ops.maap-project.org/root/register-job/-/commit/9e72b9ee45b580f458a8c176e25f30493c29d050\", \"stats\": {\"additions\": 0, \"deletions\": 0, \"total\": 0}, \"status\": \"pending\", \"project_id\": 2, \"last_pipeline\": {\"id\": 680, \"iid\": 578, \"project_id\": 2, \"sha\": \"9e72b9ee45b580f458a8c176e25f30493c29d050\", \"ref\": \"master\", \"status\": \"pending\", \"source\": \"push\", \"created_at\": \"2022-09-15T13:11:30.437Z\", \"updated_at\": \"2022-09-15T13:11:30.835Z\", \"web_url\": \"https://repo.ops.maap-project.org/root/register-job/-/pipelines/680\"}, \"job_web_url\": \"https://repo.ops.maap-project.org/root/register-job/-/jobs/826\", \"job_log_url\": \"https://repo.ops.maap-project.org/root/register-job/-/jobs/826/raw\"}, \"error\": \"Invalid queue in request: {'algorithm_name': 'run_build_stack', 'code_version': 'master', 'environment_name': 'ubuntu', 'repo_url': 'https://github.com/lauraduncanson/icesat2_boreal.git', 'docker_container_url': 'mas.dit.maap-project.org/root/maap-workspaces/base_images/vanilla:dit', 'queue': '8GB', 'algorithm_description': 'DPS run to create ESA LandCover masks', 'build_command': 'icesat2_boreal/dps/build_command_main.sh', 'script_command': 'icesat2_boreal/dps/alg_3-1-3/run.sh', 'disk_space': '10GB', 'algorithm_params': [{'field': 'covar_tile_url', 'download': True}, {'field': 'in_tile_url', 'download': True}, {'field': 'covar_tile_fn', 'download': False}, {'field': 'in_tile_fn', 'download': False}, {'field': 'in_tile_id_col', 'download': False}, {'field': 'in_tile_num', 'download': False}, {'field': 'tile_buffer_m', 'download': False}, {'field': 'in_tile_layer', 'download': False}, {'field': 'covar_src_name', 'download': False}, {'field': 'in_covar_s3_col', 'download': False}, {'field': 'input_nodata_value', 'download': False}]}\"}\n",
      "\n"
     ]
    }
   ],
   "source": [
    "!python /projects/register-algorithm /projects/Developer/icesat2_boreal/dps/alg_3-1-3/algorithm_config.yaml"
   ]
  },
  {
   "cell_type": "markdown",
   "id": "e91b8c89",
   "metadata": {},
   "source": [
    "# Build a DPS list"
   ]
  },
  {
   "cell_type": "code",
   "execution_count": 74,
   "id": "19007107",
   "metadata": {},
   "outputs": [],
   "source": [
    "RUN_NAME = 'build_stack_test'"
   ]
  },
  {
   "cell_type": "code",
   "execution_count": 107,
   "id": "ceb4ad66",
   "metadata": {},
   "outputs": [
    {
     "name": "stdout",
     "output_type": "stream",
     "text": [
      "5245\n",
      "5245 tiles in s3://maap-ops-workspace/shared/nathanmthomas/DPS_tile_lists/HLS_test_redo/spring2022/HLS_tindex_master.csv\n",
      "HLS_tindex_master.csv has the most tiles. Using this for DPS tiles list.\n",
      "5220\n"
     ]
    }
   ],
   "source": [
    "HLS_tindex_master_fn = 's3://maap-ops-workspace/shared/nathanmthomas/DPS_tile_lists/HLS_test_redo/spring2022/HLS_tindex_master.csv'\n",
    "Topo_tindex_master_fn = 's3://maap-ops-workspace/shared/nathanmthomas/DPS_tile_lists/Topo_tindex_master.csv'\n",
    "\n",
    "DPS_INPUT_TILE_NUM_LIST = []\n",
    "for tindex_fn in [HLS_tindex_master_fn, Topo_tindex_master_fn]:\n",
    "    tindex = pd.read_csv(tindex_fn)\n",
    "    \n",
    "    print(len(tindex['tile_num'].values))\n",
    "    \n",
    "    if len(tindex['tile_num'].values) > len(DPS_INPUT_TILE_NUM_LIST):\n",
    "        print(f\"{len(tindex['tile_num'].values)} tiles in {tindex_fn}\")\n",
    "        print(f'{os.path.basename(tindex_fn)} has the most tiles. Using this for DPS tiles list.')\n",
    "        DPS_INPUT_TILE_NUM_LIST = tindex['tile_num'].values\n"
   ]
  },
  {
   "cell_type": "markdown",
   "id": "060b484c",
   "metadata": {},
   "source": [
    "#### Note: make sure the `in_params_dict` coincides with the args of `build_stack.py`"
   ]
  },
  {
   "cell_type": "code",
   "execution_count": 108,
   "id": "5456664d",
   "metadata": {},
   "outputs": [],
   "source": [
    "#'INDEX_FN': '/projects/my-public-bucket/boreal_tiles_v003.gpkg',\n",
    "in_params_dict = {\n",
    "            'covar_tile_url': 'https://maap-ops-workspace.s3.amazonaws.com/shared/nathanmthomas/analyze_agb/footprints_v100_2020_v100_2020_map-s3.gpkg',\n",
    "            'in_tile_url': 'https://maap-ops-workspace.s3.amazonaws.com/shared/nathanmthomas/boreal_tiles_v003.gpkg',\n",
    "            'covar_tile_fn': 'footprints_v100_2020_v100_2020_map-s3.gpkg',\n",
    "            'in_tile_fn': 'boreal_tiles_v003.gpkg',\n",
    "            'in_tile_id_col': 'tile_num',\n",
    "            'in_tile_num':\"\",\n",
    "            'tile_buffer_m': 0,\n",
    "            'in_tile_layer': 'boreal_tiles_v003',\n",
    "            #'output_dir': 'dummy',  # a dummy dir so i dont have to change the .yaml now\n",
    "            #'topo_off': 'dummy', # functionality to turn off build a 'topo' stack is FALSE by default - so we have to set this flag (which turns OFF topo building) - this is hardcoded in the .sh now - if we want to build a topo stack with this script, need to learn how to set this flag with params dict \n",
    "            'covar_src_name': 'esa_worldcover_v100_2020',\n",
    "            'in_covar_s3_col': 's3_path',\n",
    "            'input_nodata_value': 0,\n",
    "            'shape': 3000\n",
    "            #'clip': 'dummy' # this is hardcoded in the .sh now - if we want to build a topo stack with this script, need to learn how to set this flag with params dict \n",
    "        }"
   ]
  },
  {
   "cell_type": "code",
   "execution_count": 110,
   "id": "e194d213",
   "metadata": {},
   "outputs": [
    {
     "data": {
      "text/plain": [
       "{'covar_tile_url': 'https://maap-ops-workspace.s3.amazonaws.com/shared/nathanmthomas/analyze_agb/footprints_v100_2020_v100_2020_map-s3.gpkg',\n",
       " 'in_tile_url': 'https://maap-ops-workspace.s3.amazonaws.com/shared/nathanmthomas/boreal_tiles_v003.gpkg',\n",
       " 'covar_tile_fn': 'footprints_v100_2020_v100_2020_map-s3.gpkg',\n",
       " 'in_tile_fn': 'boreal_tiles_v003.gpkg',\n",
       " 'in_tile_id_col': 'tile_num',\n",
       " 'in_tile_num': '',\n",
       " 'tile_buffer_m': 0,\n",
       " 'in_tile_layer': 'boreal_tiles_v003',\n",
       " 'covar_src_name': 'esa_worldcover_v100_2020',\n",
       " 'in_covar_s3_col': 's3_path',\n",
       " 'input_nodata_value': 0}"
      ]
     },
     "execution_count": 110,
     "metadata": {},
     "output_type": "execute_result"
    }
   ],
   "source": [
    "in_params_dict"
   ]
  },
  {
   "cell_type": "markdown",
   "id": "6b3694a7",
   "metadata": {},
   "source": [
    "## Run a DPS job across the list"
   ]
  },
  {
   "cell_type": "code",
   "execution_count": 175,
   "id": "aa2d73e0",
   "metadata": {},
   "outputs": [
    {
     "name": "stdout",
     "output_type": "stream",
     "text": [
      "# of input tiles for DPS: 2\n",
      "DPS run #: 1\t| tile num: 3855\t| submit status: success\t| job id: 8c922119-0f49-4965-92cd-ba1fc26d0b35\n",
      "DPS run #: 2\t| tile num: 24389\t| submit status: success\t| job id: cd4e13a0-5bea-41ab-bba8-d0094a3da955\n",
      "Current time:\t202209161759\n",
      "CPU times: user 29.5 ms, sys: 361 µs, total: 29.9 ms\n",
      "Wall time: 455 ms\n"
     ]
    },
    {
     "data": {
      "text/html": [
       "<div>\n",
       "<style scoped>\n",
       "    .dataframe tbody tr th:only-of-type {\n",
       "        vertical-align: middle;\n",
       "    }\n",
       "\n",
       "    .dataframe tbody tr th {\n",
       "        vertical-align: top;\n",
       "    }\n",
       "\n",
       "    .dataframe thead th {\n",
       "        text-align: right;\n",
       "    }\n",
       "</style>\n",
       "<table border=\"1\" class=\"dataframe\">\n",
       "  <thead>\n",
       "    <tr style=\"text-align: right;\">\n",
       "      <th></th>\n",
       "      <th>status</th>\n",
       "      <th>http_status_code</th>\n",
       "      <th>job_id</th>\n",
       "      <th>dps_num</th>\n",
       "      <th>tile_num</th>\n",
       "      <th>submit_time</th>\n",
       "      <th>dbs_job_hour</th>\n",
       "      <th>algo_id</th>\n",
       "      <th>user</th>\n",
       "      <th>worker_type</th>\n",
       "      <th>run_name</th>\n",
       "    </tr>\n",
       "  </thead>\n",
       "  <tbody>\n",
       "    <tr>\n",
       "      <th>0</th>\n",
       "      <td>success</td>\n",
       "      <td>200</td>\n",
       "      <td>8c922119-0f49-4965-92cd-ba1fc26d0b35</td>\n",
       "      <td>1</td>\n",
       "      <td>3855</td>\n",
       "      <td>2022-09-16 17:59:07.241520</td>\n",
       "      <td>17</td>\n",
       "      <td>run_build_stack_ubuntu</td>\n",
       "      <td>nathanmthomas</td>\n",
       "      <td>maap-dps-worker-8gb</td>\n",
       "      <td>build_stack_test</td>\n",
       "    </tr>\n",
       "    <tr>\n",
       "      <th>0</th>\n",
       "      <td>success</td>\n",
       "      <td>200</td>\n",
       "      <td>cd4e13a0-5bea-41ab-bba8-d0094a3da955</td>\n",
       "      <td>2</td>\n",
       "      <td>24389</td>\n",
       "      <td>2022-09-16 17:59:07.307532</td>\n",
       "      <td>17</td>\n",
       "      <td>run_build_stack_ubuntu</td>\n",
       "      <td>nathanmthomas</td>\n",
       "      <td>maap-dps-worker-8gb</td>\n",
       "      <td>build_stack_test</td>\n",
       "    </tr>\n",
       "  </tbody>\n",
       "</table>\n",
       "</div>"
      ],
      "text/plain": [
       "    status  http_status_code                                job_id  dps_num  \\\n",
       "0  success               200  8c922119-0f49-4965-92cd-ba1fc26d0b35        1   \n",
       "0  success               200  cd4e13a0-5bea-41ab-bba8-d0094a3da955        2   \n",
       "\n",
       "   tile_num                submit_time  dbs_job_hour                 algo_id  \\\n",
       "0      3855 2022-09-16 17:59:07.241520            17  run_build_stack_ubuntu   \n",
       "0     24389 2022-09-16 17:59:07.307532            17  run_build_stack_ubuntu   \n",
       "\n",
       "            user          worker_type          run_name  \n",
       "0  nathanmthomas  maap-dps-worker-8gb  build_stack_test  \n",
       "0  nathanmthomas  maap-dps-worker-8gb  build_stack_test  "
      ]
     },
     "execution_count": 175,
     "metadata": {},
     "output_type": "execute_result"
    }
   ],
   "source": [
    "%%time\n",
    "# import logging\n",
    "# logger = logging.getLogger()\n",
    "# logger.setLevel(logging.DEBUG)\n",
    "import json\n",
    "\n",
    "submit_results_df_list = []\n",
    "len_input_list = len(DPS_INPUT_TILE_NUM_LIST)\n",
    "print(f\"# of input tiles for DPS: {len_input_list}\")\n",
    "\n",
    "for i, INPUT_TILE_NUM in enumerate(DPS_INPUT_TILE_NUM_LIST):\n",
    "    \n",
    "    DPS_num = i+1\n",
    "    IDENTIFIER = 'run_build_stack'\n",
    "    ALGO_ID = f'{IDENTIFIER}_ubuntu'\n",
    "    USER = 'nathanmthomas'\n",
    "    WORKER_TYPE = 'maap-dps-worker-8gb'\n",
    "    \n",
    "    # Update the in_params_dict with th current INPUT_TILE_NUM\n",
    "    in_params_dict['in_tile_num'] = INPUT_TILE_NUM\n",
    "    \n",
    "    submit_result = maap.submitJob(\n",
    "            identifier=IDENTIFIER,\n",
    "            algo_id=ALGO_ID,\n",
    "            version='master',\n",
    "            username=USER, # username needs to be the same as whoever created the workspace\n",
    "            queue=WORKER_TYPE,\n",
    "            **in_params_dict\n",
    "        )\n",
    "    \n",
    "    #print(submit_result)\n",
    "    #break\n",
    "    \n",
    "    # Build a dataframe of submission details\n",
    "    submit_result['dps_num'] = DPS_num\n",
    "    submit_result['tile_num'] = INPUT_TILE_NUM\n",
    "    submit_result['submit_time'] = datetime.datetime.now()\n",
    "    submit_result['dbs_job_hour'] =datetime.datetime.now().hour\n",
    "    submit_result['algo_id'] = ALGO_ID\n",
    "    submit_result['user'] = USER\n",
    "    submit_result['worker_type'] = WORKER_TYPE\n",
    "\n",
    "    # Append to a list of data frames of submission results\n",
    "    submit_results_df_list.append(pd.DataFrame([submit_result]))\n",
    "    \n",
    "    if DPS_num in [1, 25,50, 100,200,300,400,500, 750, 1000, 1250, 1500, 1750, 2000, 2250, 2500, 2750, 3000, 3250, 3500, 3750, 4000, 4250, 5000, 7000, 9000, 11000, 13000, 15000, 17000, 19000, 21000, 24000, len_input_list]:\n",
    "        print(f\"DPS run #: {DPS_num}\\t| tile num: {INPUT_TILE_NUM}\\t| submit status: {submit_result['status']}\\t| job id: {submit_result['job_id']}\") \n",
    "        \n",
    "# Build a final submission results df and save\n",
    "submit_results_df = pd.concat(submit_results_df_list)\n",
    "submit_results_df['run_name'] = RUN_NAME\n",
    "nowtime = pd.Timestamp.now().strftime('%Y%m%d%H%M')\n",
    "print(f\"Current time:\\t{nowtime}\")\n",
    "submit_results_df.to_csv(f'/projects/my-public-bucket/dps_submission_results/DPS_{IDENTIFIER}_submission_results_{len_input_list}_{nowtime}.csv')\n",
    "submit_results_df\n"
   ]
  },
  {
   "cell_type": "markdown",
   "id": "f9a15012",
   "metadata": {},
   "source": [
    "After almost any DPS job, you have to assess what succeeded and failed. This involves:\n",
    "1. building a table of job status based on job ids captured in the job_results_df from the DPS run chunk (this takes 40 mins for ~47k jobs) --> this tells you how many jobs failed\n",
    "2. merging the job status table with the job results df --> this tells you which specific granules (or tile nums) failed\n",
    "3. building another input list of granules for a follow-up DPS\n",
    "## Assess DPS results\n",
    "Build a table of job status based on job id - how many jobs failed?"
   ]
  },
  {
   "cell_type": "code",
   "execution_count": 181,
   "id": "7b149b3b",
   "metadata": {},
   "outputs": [
    {
     "name": "stdout",
     "output_type": "stream",
     "text": [
      "DPS alg:\t\trun_build_stack\n",
      "DPS launch time:\t202209161759\n",
      "Count total jobs:\t2\n",
      "Count pending jobs:\t0\n",
      "Count running jobs:\t0\n",
      "Count succeeded jobs:\t2\n",
      "Count failed jobs:\t0\n",
      "% of failed jobs:\tNothing has failed...yet\n",
      "\n",
      "CPU times: user 29.5 ms, sys: 3.61 ms, total: 33.1 ms\n",
      "Wall time: 975 ms\n"
     ]
    }
   ],
   "source": [
    "%%time\n",
    "LIST_SUBMISSIONS = sorted(glob.glob(f'/projects/my-public-bucket/dps_submission_results/DPS_{IDENTIFIER}_submission_results_*.csv'),key=ExtractUtils.func, reverse=True)\n",
    "for DPS_DATETIME in [nowtime]:\n",
    "    for fn in LIST_SUBMISSIONS:\n",
    "        if DPS_DATETIME in fn and not 'job_status' in fn:\n",
    "            DPS_alg_id = os.path.basename(fn.split('_submission_results_')[0].replace('DPS_',''))\n",
    "            thentime = fn.split('_')[-1].replace('.csv','')\n",
    "            print(f'DPS alg:\\t\\t{DPS_alg_id}')\n",
    "            print(f'DPS launch time:\\t{thentime}')\n",
    "            z = ExtractUtils.BUILD_TABLE_JOBSTATUS(pd.read_csv(fn))\n",
    "            # Save job status table\n",
    "            z.to_csv(f'/projects/my-public-bucket/dps_submission_results/DPS_{IDENTIFIER}_submission_results_job_status_{len(z)}_{thentime}.csv')"
   ]
  },
  {
   "cell_type": "code",
   "execution_count": 179,
   "id": "f1f7b06f",
   "metadata": {},
   "outputs": [
    {
     "data": {
      "text/plain": [
       "[24389]"
      ]
     },
     "execution_count": 179,
     "metadata": {},
     "output_type": "execute_result"
    }
   ],
   "source": [
    "z[z['wps:Status'] =='Succeeded'].tile_num.to_list()"
   ]
  },
  {
   "cell_type": "code",
   "execution_count": 157,
   "id": "2a4f7bb9",
   "metadata": {},
   "outputs": [
    {
     "data": {
      "text/plain": [
       "{'wps:Result': {'@xmlns:ows': 'http://www.opengis.net/ows/2.0',\n",
       "  '@xmlns:schemaLocation': 'http://schemas.opengis.net/wps/2.0/wps.xsd',\n",
       "  '@xmlns:wps': 'http://www.opengis.net/wps/2.0',\n",
       "  '@xmlns:xsi': 'http://www.w3.org/2001/XMLSchema-instance',\n",
       "  'wps:JobID': '4087d811-f95f-4f47-9f31-59923ff80e51',\n",
       "  'wps:Output': {'@id': 'traceback',\n",
       "   'wps:Data': 'activate does not accept more than one argument:\\n[\\'/app/icesat2_boreal/dps/alg_3-1-3/run.sh\\', \\'footprints_v100_2020_v100_2020_map-s3.gpkg\\', \\'boreal_tiles_v003.gpkg\\', \\'tile_num\\', \\'980\\', \\'0\\', \\'boreal_tiles_v003\\', \\'esa_worldcover_v100_2020\\', \\'s3_path\\', \\'0\\']\\n\\n+ /app/icesat2_boreal/dps/alg_3-1-3/run.sh footprints_v100_2020_v100_2020_map-s3.gpkg boreal_tiles_v003.gpkg tile_num 980 0 boreal_tiles_v003 esa_worldcover_v100_2020 s3_path 0\\n+ unset PROJ_LIB\\n+ mkdir output\\n+++ dirname /app/icesat2_boreal/dps/alg_3-1-3/run.sh\\n++ cd /app/icesat2_boreal/dps/alg_3-1-3\\n++ pwd -P\\n+ basedir=/app/icesat2_boreal/dps/alg_3-1-3\\n+ FILENAMELIST=($(ls -d input/*))\\n++ ls -d input/boreal_tiles_v003.gpkg input/footprints_v100_2020_v100_2020_map-s3.gpkg\\n+ COVAR_TILE_FN=/data/work/jobs/2022/09/16/12/52/job-run_build_stack_ubuntu__master-20220916T125127.670401Z/input/footprints_v100_2020_v100_2020_map-s3.gpkg\\n+ IN_TILE_FN=/data/work/jobs/2022/09/16/12/52/job-run_build_stack_ubuntu__master-20220916T125127.670401Z/input/boreal_tiles_v003.gpkg\\n+ OUTPUTDIR=/data/work/jobs/2022/09/16/12/52/job-run_build_stack_ubuntu__master-20220916T125127.670401Z/output\\n+ python /app/icesat2_boreal/dps/alg_3-1-3/../../lib/build_stack.py --covar_tile_fn /data/work/jobs/2022/09/16/12/52/job-run_build_stack_ubuntu__master-20220916T125127.670401Z/input/footprints_v100_2020_v100_2020_map-s3.gpkg --in_tile_fn /data/work/jobs/2022/09/16/12/52/job-run_build_stack_ubuntu__master-20220916T125127.670401Z/input/boreal_tiles_v003.gpkg --in_tile_id_col tile_num --in_tile_num 980 --tile_buffer_m 0 --in_tile_layer boreal_tiles_v003 --output_dir /data/work/jobs/2022/09/16/12/52/job-run_build_stack_ubuntu__master-20220916T125127.670401Z/output --topo_off --covar_src_name esa_worldcover_v100_2020 --in_covar_s3_col s3_path --input_nodata_value 0 --clip\\nERROR 1: PROJ: proj_create_from_database: Open of /opt/conda/envs/icesat2_boreal/share/proj failed\\nTraceback (most recent call last):\\n  File \"rasterio/_base.pyx\", line 261, in rasterio._base.DatasetBase.__init__\\n  File \"rasterio/_shim.pyx\", line 78, in rasterio._shim.open_dataset\\n  File \"rasterio/_err.pyx\", line 216, in rasterio._err.exc_wrap_pointer\\nrasterio._err.CPLE_HttpResponseError: CURL error: Could not resolve host: esa-worldcover.s3.amazonaws.com\\n\\nDuring handling of the above exception, another exception occurred:\\n\\nTraceback (most recent call last):\\n  File \"/app/icesat2_boreal/dps/alg_3-1-3/../../lib/build_stack.py\", line 196, in <module>\\n    main()\\n  File \"/app/icesat2_boreal/dps/alg_3-1-3/../../lib/build_stack.py\", line 179, in main\\n    build_stack_(stack_tile_fn, \\n  File \"/app/icesat2_boreal/dps/alg_3-1-3/../../lib/build_stack.py\", line 55, in build_stack_\\n    img = mosaic_reader(file_s3, reader, bbox, tile_parts[\\'tile_crs\\'], tile_parts[\\'tile_crs\\'], height, width) \\n  File \"/opt/conda/envs/icesat2_boreal/lib/python3.10/site-packages/rio_tiler/mosaic/reader.py\", line 80, in mosaic_reader\\n    for img, asset in filter_tasks(tasks, allowed_exceptions=allowed_exceptions,):\\n  File \"/opt/conda/envs/icesat2_boreal/lib/python3.10/site-packages/rio_tiler/tasks.py\", line 33, in filter_tasks\\n    yield future.result(), asset\\n  File \"/opt/conda/envs/icesat2_boreal/lib/python3.10/concurrent/futures/_base.py\", line 451, in result\\n    return self.__get_result()\\n  File \"/opt/conda/envs/icesat2_boreal/lib/python3.10/concurrent/futures/_base.py\", line 403, in __get_result\\n    raise self._exception\\n  File \"/opt/conda/envs/icesat2_boreal/lib/python3.10/concurrent/futures/thread.py\", line 58, in run\\n    result = self.fn(*self.args, **self.kwargs)\\n  File \"/app/icesat2_boreal/dps/alg_3-1-3/../../lib/build_stack.py\", line 23, in reader\\n    with COGReader(src_path) as cog:\\n  File \"<attrs generated init rio_tiler.io.cogeo.COGReader>\", line 14, in __init__\\n  File \"/opt/conda/envs/icesat2_boreal/lib/python3.10/site-packages/rio_tiler/io/cogeo.py\", line 99, in __attrs_post_init__\\n    self.dataset = self.dataset or rasterio.open(self.filepath)\\n  File \"/opt/conda/envs/icesat2_boreal/lib/python3.10/site-packages/rasterio/env.py\", line 437, in wrapper\\n    return f(*args, **kwds)\\n  File \"/opt/conda/envs/icesat2_boreal/lib/python3.10/site-packages/rasterio/__init__.py\", line 220, in open\\n    s = DatasetReader(path, driver=driver, sharing=sharing, **kwargs)\\n  File \"rasterio/_base.pyx\", line 263, in rasterio._base.DatasetBase.__init__\\nrasterio.errors.RasterioIOError: CURL error: Could not resolve host: esa-worldcover.s3.amazonaws.com\\n+ cp _stderr.txt _alt_traceback.txt'}}}"
      ]
     },
     "execution_count": 157,
     "metadata": {},
     "output_type": "execute_result"
    }
   ],
   "source": [
    "xmltodict.parse(maap.getJobResult(z[z['wps:Status'] =='Failed'].iloc[1].job_id).content)"
   ]
  },
  {
   "cell_type": "markdown",
   "id": "04b24fdc",
   "metadata": {},
   "source": [
    "## Update the DPS input tiles list with only the tiles that failed - then run the DPS submit chunk above"
   ]
  },
  {
   "cell_type": "code",
   "execution_count": 160,
   "id": "82c40c6a",
   "metadata": {},
   "outputs": [
    {
     "data": {
      "text/plain": [
       "[2917, 980, 25175, 25740, 2981, 3879]"
      ]
     },
     "execution_count": 160,
     "metadata": {},
     "output_type": "execute_result"
    }
   ],
   "source": [
    "DPS_INPUT_TILE_NUM_LIST = z[z['wps:Status'] =='Failed'].tile_num.to_list()\n",
    "len(DPS_INPUT_TILE_NUM_LIST)\n",
    "DPS_INPUT_TILE_NUM_LIST"
   ]
  },
  {
   "cell_type": "code",
   "execution_count": 162,
   "id": "e7f78ac5",
   "metadata": {},
   "outputs": [
    {
     "data": {
      "text/plain": [
       "32"
      ]
     },
     "execution_count": 162,
     "metadata": {},
     "output_type": "execute_result"
    }
   ],
   "source": [
    "STRAGGLER_TILE_LIST = [3269, 3088, 2917, 2513, 2228, 1554, 1274, 1200, 620, 980, 790, 23828, 24389, 24108, 23501, 23830, 108, 25175, 25458, 25740, 163, 28967, 1172, 1431, 2981, 3531, 4463, 3879, 4207, 4445, 2888, 3790]\n",
    "DPS_INPUT_TILE_NUM_LIST = STRAGGLER_TILE_LIST\n",
    "len(DPS_INPUT_TILE_NUM_LIST)"
   ]
  },
  {
   "cell_type": "code",
   "execution_count": 169,
   "id": "dd44f575",
   "metadata": {},
   "outputs": [
    {
     "data": {
      "text/plain": [
       "6"
      ]
     },
     "execution_count": 169,
     "metadata": {},
     "output_type": "execute_result"
    }
   ],
   "source": [
    "FINISHED_LIST = z[z['wps:Status'] =='Succeeded'].tile_num.to_list()\n",
    "DPS_INPUT_TILE_NUM_LIST = set(STRAGGLER_TILE_LIST) - set(FINISHED_LIST)\n",
    "len(DPS_INPUT_TILE_NUM_LIST)"
   ]
  },
  {
   "cell_type": "code",
   "execution_count": 174,
   "id": "2822c6f8",
   "metadata": {},
   "outputs": [],
   "source": [
    "STRAGGLER_TILE_LIST2 = [3855,24389]\n",
    "DPS_INPUT_TILE_NUM_LIST = STRAGGLER_TILE_LIST2"
   ]
  }
 ],
 "metadata": {
  "kernelspec": {
   "display_name": "Python 3 (ipykernel)",
   "language": "python",
   "name": "python3"
  },
  "language_info": {
   "codemirror_mode": {
    "name": "ipython",
    "version": 3
   },
   "file_extension": ".py",
   "mimetype": "text/x-python",
   "name": "python",
   "nbconvert_exporter": "python",
   "pygments_lexer": "ipython3",
   "version": "3.7.8"
  }
 },
 "nbformat": 4,
 "nbformat_minor": 5
}
