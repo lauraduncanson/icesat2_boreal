{
 "cells": [
  {
   "cell_type": "markdown",
   "id": "cfea2c53",
   "metadata": {},
   "source": [
    "# Visualization of DPS results in a map"
   ]
  },
  {
   "cell_type": "code",
   "execution_count": 1,
   "id": "7191a05a",
   "metadata": {},
   "outputs": [
    {
     "name": "stdout",
     "output_type": "stream",
     "text": [
      "Requirement already satisfied: cogeo-mosaic in /projects/.local/lib/python3.7/site-packages (3.0.2)\n",
      "Requirement already satisfied: morecantile>=2.1 in /projects/.local/lib/python3.7/site-packages (from cogeo-mosaic) (2.1.2)\n",
      "Requirement already satisfied: mercantile in /projects/.local/lib/python3.7/site-packages (from cogeo-mosaic) (1.2.1)\n",
      "Requirement already satisfied: requests in /projects/.local/lib/python3.7/site-packages (from cogeo-mosaic) (2.27.1)\n",
      "Requirement already satisfied: pygeos>=0.10 in /projects/.local/lib/python3.7/site-packages (from cogeo-mosaic) (0.10.2)\n",
      "Requirement already satisfied: cachetools in /projects/.local/lib/python3.7/site-packages (from cogeo-mosaic) (4.2.2)\n",
      "Requirement already satisfied: supermercado in /projects/.local/lib/python3.7/site-packages (from cogeo-mosaic) (0.2.0)\n",
      "Requirement already satisfied: attrs in /opt/conda/lib/python3.7/site-packages (from cogeo-mosaic) (20.2.0)\n",
      "Requirement already satisfied: rio-tiler>=2.0 in /projects/.local/lib/python3.7/site-packages (from cogeo-mosaic) (2.1.0)\n",
      "Requirement already satisfied: pydantic in /projects/.local/lib/python3.7/site-packages (from cogeo-mosaic) (1.8.2)\n",
      "Requirement already satisfied: rasterio in /projects/.local/lib/python3.7/site-packages (from cogeo-mosaic) (1.2.6)\n",
      "Requirement already satisfied: numpy>=1.13 in /projects/.local/lib/python3.7/site-packages (from pygeos>=0.10->cogeo-mosaic) (1.21.0)\n",
      "Requirement already satisfied: cligj>=0.5 in /opt/conda/lib/python3.7/site-packages (from rasterio->cogeo-mosaic) (0.7.0)\n",
      "Requirement already satisfied: setuptools in /opt/conda/lib/python3.7/site-packages (from rasterio->cogeo-mosaic) (49.6.0.post20201009)\n",
      "Requirement already satisfied: certifi in /opt/conda/lib/python3.7/site-packages (from rasterio->cogeo-mosaic) (2021.5.30)\n",
      "Requirement already satisfied: click>=4.0 in /opt/conda/lib/python3.7/site-packages (from rasterio->cogeo-mosaic) (7.1.2)\n",
      "Requirement already satisfied: snuggs>=1.4.1 in /opt/conda/lib/python3.7/site-packages (from rasterio->cogeo-mosaic) (1.4.7)\n",
      "Requirement already satisfied: affine in /opt/conda/lib/python3.7/site-packages (from rasterio->cogeo-mosaic) (2.3.0)\n",
      "Requirement already satisfied: click-plugins in /opt/conda/lib/python3.7/site-packages (from rasterio->cogeo-mosaic) (1.1.1)\n",
      "Requirement already satisfied: pystac>=0.5.3 in /projects/.local/lib/python3.7/site-packages (from rio-tiler>=2.0->cogeo-mosaic) (1.2.0)\n",
      "Requirement already satisfied: numexpr in /projects/.local/lib/python3.7/site-packages (from rio-tiler>=2.0->cogeo-mosaic) (2.7.3)\n",
      "Requirement already satisfied: rio-color in /projects/.local/lib/python3.7/site-packages (from rio-tiler>=2.0->cogeo-mosaic) (1.0.3)\n",
      "Requirement already satisfied: importlib-resources>=1.1.0 in /projects/.local/lib/python3.7/site-packages (from rio-tiler>=2.0->cogeo-mosaic) (5.2.0)\n",
      "Requirement already satisfied: boto3 in /projects/.local/lib/python3.7/site-packages (from rio-tiler>=2.0->cogeo-mosaic) (1.17.106)\n",
      "Requirement already satisfied: typing-extensions>=3.7.4.3 in /opt/conda/lib/python3.7/site-packages (from pydantic->cogeo-mosaic) (3.10.0.2)\n",
      "Requirement already satisfied: idna<4,>=2.5 in /opt/conda/lib/python3.7/site-packages (from requests->cogeo-mosaic) (2.10)\n",
      "Requirement already satisfied: urllib3<1.27,>=1.21.1 in /opt/conda/lib/python3.7/site-packages (from requests->cogeo-mosaic) (1.25.11)\n",
      "Requirement already satisfied: charset-normalizer~=2.0.0 in /projects/.local/lib/python3.7/site-packages (from requests->cogeo-mosaic) (2.0.12)\n",
      "Requirement already satisfied: zipp>=3.1.0 in /opt/conda/lib/python3.7/site-packages (from importlib-resources>=1.1.0->rio-tiler>=2.0->cogeo-mosaic) (3.6.0)\n",
      "Requirement already satisfied: python-dateutil>=2.7.0 in /opt/conda/lib/python3.7/site-packages (from pystac>=0.5.3->rio-tiler>=2.0->cogeo-mosaic) (2.8.2)\n",
      "Requirement already satisfied: pyparsing>=2.1.6 in /opt/conda/lib/python3.7/site-packages (from snuggs>=1.4.1->rasterio->cogeo-mosaic) (2.4.7)\n",
      "Requirement already satisfied: botocore<1.21.0,>=1.20.106 in /projects/.local/lib/python3.7/site-packages (from boto3->rio-tiler>=2.0->cogeo-mosaic) (1.20.106)\n",
      "Requirement already satisfied: s3transfer<0.5.0,>=0.4.0 in /projects/.local/lib/python3.7/site-packages (from boto3->rio-tiler>=2.0->cogeo-mosaic) (0.4.2)\n",
      "Requirement already satisfied: jmespath<1.0.0,>=0.7.1 in /opt/conda/lib/python3.7/site-packages/jmespath-0.10.0-py3.7.egg (from boto3->rio-tiler>=2.0->cogeo-mosaic) (0.10.0)\n",
      "Requirement already satisfied: rio-mucho in /projects/.local/lib/python3.7/site-packages (from rio-color->rio-tiler>=2.0->cogeo-mosaic) (1.0.0)\n",
      "Requirement already satisfied: six>=1.5 in /opt/conda/lib/python3.7/site-packages (from python-dateutil>=2.7.0->pystac>=0.5.3->rio-tiler>=2.0->cogeo-mosaic) (1.15.0)\n",
      "\u001b[33mWARNING: Running pip as the 'root' user can result in broken permissions and conflicting behaviour with the system package manager. It is recommended to use a virtual environment instead: https://pip.pypa.io/warnings/venv\u001b[0m\u001b[33m\n",
      "\u001b[0m"
     ]
    }
   ],
   "source": [
    "!pip install cogeo-mosaic"
   ]
  },
  {
   "cell_type": "code",
   "execution_count": 2,
   "id": "f1f46855",
   "metadata": {},
   "outputs": [
    {
     "name": "stderr",
     "output_type": "stream",
     "text": [
      "/projects/.local/lib/python3.7/site-packages/geopandas/_compat.py:110: UserWarning: The Shapely GEOS version (3.8.0-CAPI-1.13.1 ) is incompatible with the GEOS version PyGEOS was compiled with (3.9.1-CAPI-1.14.2). Conversions between both will be slow.\n",
      "  shapely_geos_version, geos_capi_version_string\n"
     ]
    }
   ],
   "source": [
    "from glob import glob\n",
    "import os\n",
    "import json\n",
    "import urllib\n",
    "from typing import Dict\n",
    "\n",
    "import folium\n",
    "import geopandas as gpd\n",
    "from cogeo_mosaic.mosaic import MosaicJSON\n",
    "from cogeo_mosaic.backends import MosaicBackend"
   ]
  },
  {
   "cell_type": "code",
   "execution_count": 3,
   "id": "9a2ddc4b",
   "metadata": {},
   "outputs": [],
   "source": [
    "def local_to_s3(url):\n",
    "    return url.replace(\"/projects/my-private-bucket\", \"s3://maap-ops-workspace/nathanmthomas\")\n",
    "    \n",
    "def s3_to_https(url):\n",
    "    parts = url.split(\"/\")\n",
    "    return os.path.join('https://',f'{parts[2]}.s3.amazonaws.com', *parts[3:])"
   ]
  },
  {
   "cell_type": "code",
   "execution_count": 4,
   "id": "701a61f2",
   "metadata": {},
   "outputs": [
    {
     "ename": "DriverError",
     "evalue": "/projects/tile-index2.shp: No such file or directory",
     "output_type": "error",
     "traceback": [
      "\u001b[0;31m---------------------------------------------------------------------------\u001b[0m",
      "\u001b[0;31mCPLE_OpenFailedError\u001b[0m                      Traceback (most recent call last)",
      "\u001b[0;32mfiona/_shim.pyx\u001b[0m in \u001b[0;36mfiona._shim.gdal_open_vector\u001b[0;34m()\u001b[0m\n",
      "\u001b[0;32mfiona/_err.pyx\u001b[0m in \u001b[0;36mfiona._err.exc_wrap_pointer\u001b[0;34m()\u001b[0m\n",
      "\u001b[0;31mCPLE_OpenFailedError\u001b[0m: /projects/tile-index2.shp: No such file or directory",
      "\nDuring handling of the above exception, another exception occurred:\n",
      "\u001b[0;31mDriverError\u001b[0m                               Traceback (most recent call last)",
      "\u001b[0;32m/tmp/ipykernel_1125/2598417601.py\u001b[0m in \u001b[0;36m<module>\u001b[0;34m\u001b[0m\n\u001b[1;32m      1\u001b[0m \u001b[0mdps_files\u001b[0m \u001b[0;34m=\u001b[0m \u001b[0;34m'/projects/tile-index2.shp'\u001b[0m\u001b[0;34m\u001b[0m\u001b[0;34m\u001b[0m\u001b[0m\n\u001b[0;32m----> 2\u001b[0;31m \u001b[0mdps_output\u001b[0m \u001b[0;34m=\u001b[0m \u001b[0mgpd\u001b[0m\u001b[0;34m.\u001b[0m\u001b[0mread_file\u001b[0m\u001b[0;34m(\u001b[0m\u001b[0mdps_files\u001b[0m\u001b[0;34m)\u001b[0m\u001b[0;34m\u001b[0m\u001b[0;34m\u001b[0m\u001b[0m\n\u001b[0m\u001b[1;32m      3\u001b[0m \u001b[0mdps_output\u001b[0m\u001b[0;34m.\u001b[0m\u001b[0mhead\u001b[0m\u001b[0;34m(\u001b[0m\u001b[0;34m)\u001b[0m\u001b[0;34m\u001b[0m\u001b[0;34m\u001b[0m\u001b[0m\n",
      "\u001b[0;32m~/.local/lib/python3.7/site-packages/geopandas/io/file.py\u001b[0m in \u001b[0;36m_read_file\u001b[0;34m(filename, bbox, mask, rows, **kwargs)\u001b[0m\n\u001b[1;32m    158\u001b[0m \u001b[0;34m\u001b[0m\u001b[0m\n\u001b[1;32m    159\u001b[0m     \u001b[0;32mwith\u001b[0m \u001b[0mfiona_env\u001b[0m\u001b[0;34m(\u001b[0m\u001b[0;34m)\u001b[0m\u001b[0;34m:\u001b[0m\u001b[0;34m\u001b[0m\u001b[0;34m\u001b[0m\u001b[0m\n\u001b[0;32m--> 160\u001b[0;31m         \u001b[0;32mwith\u001b[0m \u001b[0mreader\u001b[0m\u001b[0;34m(\u001b[0m\u001b[0mpath_or_bytes\u001b[0m\u001b[0;34m,\u001b[0m \u001b[0;34m**\u001b[0m\u001b[0mkwargs\u001b[0m\u001b[0;34m)\u001b[0m \u001b[0;32mas\u001b[0m \u001b[0mfeatures\u001b[0m\u001b[0;34m:\u001b[0m\u001b[0;34m\u001b[0m\u001b[0;34m\u001b[0m\u001b[0m\n\u001b[0m\u001b[1;32m    161\u001b[0m \u001b[0;34m\u001b[0m\u001b[0m\n\u001b[1;32m    162\u001b[0m             \u001b[0;31m# In a future Fiona release the crs attribute of features will\u001b[0m\u001b[0;34m\u001b[0m\u001b[0;34m\u001b[0m\u001b[0;34m\u001b[0m\u001b[0m\n",
      "\u001b[0;32m~/.local/lib/python3.7/site-packages/fiona/env.py\u001b[0m in \u001b[0;36mwrapper\u001b[0;34m(*args, **kwargs)\u001b[0m\n\u001b[1;32m    406\u001b[0m     \u001b[0;32mdef\u001b[0m \u001b[0mwrapper\u001b[0m\u001b[0;34m(\u001b[0m\u001b[0;34m*\u001b[0m\u001b[0margs\u001b[0m\u001b[0;34m,\u001b[0m \u001b[0;34m**\u001b[0m\u001b[0mkwargs\u001b[0m\u001b[0;34m)\u001b[0m\u001b[0;34m:\u001b[0m\u001b[0;34m\u001b[0m\u001b[0;34m\u001b[0m\u001b[0m\n\u001b[1;32m    407\u001b[0m         \u001b[0;32mif\u001b[0m \u001b[0mlocal\u001b[0m\u001b[0;34m.\u001b[0m\u001b[0m_env\u001b[0m\u001b[0;34m:\u001b[0m\u001b[0;34m\u001b[0m\u001b[0;34m\u001b[0m\u001b[0m\n\u001b[0;32m--> 408\u001b[0;31m             \u001b[0;32mreturn\u001b[0m \u001b[0mf\u001b[0m\u001b[0;34m(\u001b[0m\u001b[0;34m*\u001b[0m\u001b[0margs\u001b[0m\u001b[0;34m,\u001b[0m \u001b[0;34m**\u001b[0m\u001b[0mkwargs\u001b[0m\u001b[0;34m)\u001b[0m\u001b[0;34m\u001b[0m\u001b[0;34m\u001b[0m\u001b[0m\n\u001b[0m\u001b[1;32m    409\u001b[0m         \u001b[0;32melse\u001b[0m\u001b[0;34m:\u001b[0m\u001b[0;34m\u001b[0m\u001b[0;34m\u001b[0m\u001b[0m\n\u001b[1;32m    410\u001b[0m             \u001b[0;32mif\u001b[0m \u001b[0misinstance\u001b[0m\u001b[0;34m(\u001b[0m\u001b[0margs\u001b[0m\u001b[0;34m[\u001b[0m\u001b[0;36m0\u001b[0m\u001b[0;34m]\u001b[0m\u001b[0;34m,\u001b[0m \u001b[0mstr\u001b[0m\u001b[0;34m)\u001b[0m\u001b[0;34m:\u001b[0m\u001b[0;34m\u001b[0m\u001b[0;34m\u001b[0m\u001b[0m\n",
      "\u001b[0;32m~/.local/lib/python3.7/site-packages/fiona/__init__.py\u001b[0m in \u001b[0;36mopen\u001b[0;34m(fp, mode, driver, schema, crs, encoding, layer, vfs, enabled_drivers, crs_wkt, **kwargs)\u001b[0m\n\u001b[1;32m    255\u001b[0m         \u001b[0;32mif\u001b[0m \u001b[0mmode\u001b[0m \u001b[0;32min\u001b[0m \u001b[0;34m(\u001b[0m\u001b[0;34m'a'\u001b[0m\u001b[0;34m,\u001b[0m \u001b[0;34m'r'\u001b[0m\u001b[0;34m)\u001b[0m\u001b[0;34m:\u001b[0m\u001b[0;34m\u001b[0m\u001b[0;34m\u001b[0m\u001b[0m\n\u001b[1;32m    256\u001b[0m             c = Collection(path, mode, driver=driver, encoding=encoding,\n\u001b[0;32m--> 257\u001b[0;31m                            layer=layer, enabled_drivers=enabled_drivers, **kwargs)\n\u001b[0m\u001b[1;32m    258\u001b[0m         \u001b[0;32melif\u001b[0m \u001b[0mmode\u001b[0m \u001b[0;34m==\u001b[0m \u001b[0;34m'w'\u001b[0m\u001b[0;34m:\u001b[0m\u001b[0;34m\u001b[0m\u001b[0;34m\u001b[0m\u001b[0m\n\u001b[1;32m    259\u001b[0m             \u001b[0;32mif\u001b[0m \u001b[0mschema\u001b[0m\u001b[0;34m:\u001b[0m\u001b[0;34m\u001b[0m\u001b[0;34m\u001b[0m\u001b[0m\n",
      "\u001b[0;32m~/.local/lib/python3.7/site-packages/fiona/collection.py\u001b[0m in \u001b[0;36m__init__\u001b[0;34m(self, path, mode, driver, schema, crs, encoding, layer, vsi, archive, enabled_drivers, crs_wkt, ignore_fields, ignore_geometry, **kwargs)\u001b[0m\n\u001b[1;32m    160\u001b[0m             \u001b[0;32mif\u001b[0m \u001b[0mself\u001b[0m\u001b[0;34m.\u001b[0m\u001b[0mmode\u001b[0m \u001b[0;34m==\u001b[0m \u001b[0;34m'r'\u001b[0m\u001b[0;34m:\u001b[0m\u001b[0;34m\u001b[0m\u001b[0;34m\u001b[0m\u001b[0m\n\u001b[1;32m    161\u001b[0m                 \u001b[0mself\u001b[0m\u001b[0;34m.\u001b[0m\u001b[0msession\u001b[0m \u001b[0;34m=\u001b[0m \u001b[0mSession\u001b[0m\u001b[0;34m(\u001b[0m\u001b[0;34m)\u001b[0m\u001b[0;34m\u001b[0m\u001b[0;34m\u001b[0m\u001b[0m\n\u001b[0;32m--> 162\u001b[0;31m                 \u001b[0mself\u001b[0m\u001b[0;34m.\u001b[0m\u001b[0msession\u001b[0m\u001b[0;34m.\u001b[0m\u001b[0mstart\u001b[0m\u001b[0;34m(\u001b[0m\u001b[0mself\u001b[0m\u001b[0;34m,\u001b[0m \u001b[0;34m**\u001b[0m\u001b[0mkwargs\u001b[0m\u001b[0;34m)\u001b[0m\u001b[0;34m\u001b[0m\u001b[0;34m\u001b[0m\u001b[0m\n\u001b[0m\u001b[1;32m    163\u001b[0m             \u001b[0;32melif\u001b[0m \u001b[0mself\u001b[0m\u001b[0;34m.\u001b[0m\u001b[0mmode\u001b[0m \u001b[0;32min\u001b[0m \u001b[0;34m(\u001b[0m\u001b[0;34m'a'\u001b[0m\u001b[0;34m,\u001b[0m \u001b[0;34m'w'\u001b[0m\u001b[0;34m)\u001b[0m\u001b[0;34m:\u001b[0m\u001b[0;34m\u001b[0m\u001b[0;34m\u001b[0m\u001b[0m\n\u001b[1;32m    164\u001b[0m                 \u001b[0mself\u001b[0m\u001b[0;34m.\u001b[0m\u001b[0msession\u001b[0m \u001b[0;34m=\u001b[0m \u001b[0mWritingSession\u001b[0m\u001b[0;34m(\u001b[0m\u001b[0;34m)\u001b[0m\u001b[0;34m\u001b[0m\u001b[0;34m\u001b[0m\u001b[0m\n",
      "\u001b[0;32mfiona/ogrext.pyx\u001b[0m in \u001b[0;36mfiona.ogrext.Session.start\u001b[0;34m()\u001b[0m\n",
      "\u001b[0;32mfiona/_shim.pyx\u001b[0m in \u001b[0;36mfiona._shim.gdal_open_vector\u001b[0;34m()\u001b[0m\n",
      "\u001b[0;31mDriverError\u001b[0m: /projects/tile-index2.shp: No such file or directory"
     ]
    }
   ],
   "source": [
    "dps_files = '/projects/tile-index2.shp'\n",
    "dps_output = gpd.read_file(dps_files)\n",
    "dps_output.head()"
   ]
  },
  {
   "cell_type": "code",
   "execution_count": null,
   "id": "522e0957",
   "metadata": {},
   "outputs": [],
   "source": [
    "dps_output['s3'] = local_to_s3(dps_output['location'])"
   ]
  },
  {
   "cell_type": "code",
   "execution_count": null,
   "id": "36ac7328",
   "metadata": {},
   "outputs": [],
   "source": [
    "tile_index_path = '/projects/shared-buckets/nathanmthomas/boreal_grid_albers90k_gpkg.gpkg'\n",
    "tile_index = gpd.read_file(tile_index_path)"
   ]
  },
  {
   "cell_type": "code",
   "execution_count": null,
   "id": "52cb510d",
   "metadata": {},
   "outputs": [],
   "source": [
    "albers = tile_index.crs\n",
    "dps_output.set_crs(albers, inplace=True)"
   ]
  },
  {
   "cell_type": "code",
   "execution_count": null,
   "id": "fd4ece12",
   "metadata": {},
   "outputs": [],
   "source": [
    "dps_output_4236 = dps_output.to_crs(\"EPSG:4326\")"
   ]
  },
  {
   "cell_type": "code",
   "execution_count": null,
   "id": "a232c387",
   "metadata": {},
   "outputs": [],
   "source": [
    "m = folium.Map()\n",
    "folium.GeoJson(dps_output_4236).add_to(m)\n",
    "m"
   ]
  },
  {
   "cell_type": "markdown",
   "id": "49588115",
   "metadata": {},
   "source": [
    "## Create MosaicJson"
   ]
  },
  {
   "cell_type": "code",
   "execution_count": null,
   "id": "9d765011",
   "metadata": {},
   "outputs": [],
   "source": [
    "def get_accessor(feature: Dict):\n",
    "    \"\"\"Return specific feature identifier.\"\"\"\n",
    "    return feature[\"properties\"][\"s3\"]\n",
    "\n"
   ]
  },
  {
   "cell_type": "code",
   "execution_count": null,
   "id": "99cfc2de",
   "metadata": {},
   "outputs": [],
   "source": [
    "geojson = json.loads(dps_output_4236.to_json())"
   ]
  },
  {
   "cell_type": "code",
   "execution_count": null,
   "id": "abc26cf5",
   "metadata": {},
   "outputs": [],
   "source": [
    "mosaicdata = MosaicJSON.from_features(geojson.get('features'), minzoom=8, maxzoom=16, accessor=get_accessor)"
   ]
  },
  {
   "cell_type": "code",
   "execution_count": null,
   "id": "c791fb2c",
   "metadata": {},
   "outputs": [],
   "source": [
    "mosaic_json = \"/projects/my-public-bucket/elev_check.json\"\n",
    "with MosaicBackend(mosaic_json, mosaic_def=mosaicdata) as mosaic:\n",
    "    mosaic.write(overwrite=True)\n",
    "\n"
   ]
  },
  {
   "cell_type": "markdown",
   "id": "1ffbef19",
   "metadata": {},
   "source": [
    "## See it on a map"
   ]
  },
  {
   "cell_type": "code",
   "execution_count": null,
   "id": "b457a55a",
   "metadata": {},
   "outputs": [],
   "source": [
    "wmts_url = \"https://h9su0upami.execute-api.us-east-1.amazonaws.com/mosaicjson/WMTSCapabilities.xml\"\n",
    "params = {\n",
    "    \"tile_format\":\"png\",\n",
    "    \"tile_scale\":\"1\",\n",
    "    \"pixel_selection\":\"first\",\n",
    "    \"TileMatrixSetId\":\"WebMercatorQuad\",\n",
    "    \"url\":\"https://maap-ops-workspace.s3.amazonaws.com/shared/nathanmthomas/elev_check.json\",\n",
    "    \"bidx\":\"3\", # Select which band to use\n",
    "    \"resampling_method\":\"nearest\",\n",
    "    \"rescale\":\"0,1\", # Values in data are from 0 to 1\n",
    "    \"return_mask\":\"true\",\n",
    "    \"colormap_name\":\"magma\" # Any colormap from matplotlib will work\n",
    "}\n",
    "\n",
    "wmts_call = \"?\".join([wmts_url, urllib.parse.urlencode(params)])\n",
    "\n",
    "# Note Jupyter bug add amp; incorrectly when printing the url\n",
    "wmts_call"
   ]
  },
  {
   "cell_type": "code",
   "execution_count": null,
   "id": "0a1ec37c",
   "metadata": {},
   "outputs": [],
   "source": [
    "import ipycmc\n",
    "w = ipycmc.MapCMC()\n",
    "w"
   ]
  },
  {
   "cell_type": "code",
   "execution_count": null,
   "id": "deb5c895",
   "metadata": {},
   "outputs": [],
   "source": [
    "# This adds a new layer to the map above, call Cloud Optimized GeoTIFF\n",
    "w.load_layer_config(wmts_call, \"wmts/xml\")\n",
    "\n"
   ]
  }
 ],
 "metadata": {
  "kernelspec": {
   "display_name": "Python [conda env:root] *",
   "language": "python",
   "name": "conda-root-py"
  },
  "language_info": {
   "codemirror_mode": {
    "name": "ipython",
    "version": 3
   },
   "file_extension": ".py",
   "mimetype": "text/x-python",
   "name": "python",
   "nbconvert_exporter": "python",
   "pygments_lexer": "ipython3",
   "version": "3.7.8"
  }
 },
 "nbformat": 4,
 "nbformat_minor": 5
}
