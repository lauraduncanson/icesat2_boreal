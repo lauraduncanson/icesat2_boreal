{
 "cells": [
  {
   "cell_type": "markdown",
   "id": "american-adrian",
   "metadata": {},
   "source": [
    "# Validate ICESAT2 biomass map based on Norwegian forest resource map (SR16) created from lidar and ALS reference maps from NEON in North America\n",
    "The Norwegian ALS derived AGB maps are available from https://kart8.nibio.no/nedlasting/dashboard"
   ]
  },
  {
   "cell_type": "markdown",
   "id": "respected-cover",
   "metadata": {},
   "source": [
    "## Parameters to change"
   ]
  },
  {
   "cell_type": "code",
   "execution_count": 1,
   "id": "general-labor",
   "metadata": {},
   "outputs": [],
   "source": [
    "# name of directory where new tiles are\n",
    "dir_output_laura= \"/projects/shared-buckets/lduncanson/norway_test_data/\"\n",
    "dir_name=\"combo_night_solar\" # this is the only part that one should modify to run on every different iteration\n",
    "\n",
    "# folder where tile indexes are exported (not sure why I was not able to export in my public bucket anymore)\n",
    "output_dir_tiles=\"/projects/my-public-bucket/norway_test_data/tiles/\"\n",
    "dir.create(output_dir_tiles, showWarnings=F)\n",
    "\n",
    "# Here is to define the band number in the ICESAT-2 BIOMASS product that corresponds to the AGB\n",
    "AGB_band=1 # is it really number 1?\n"
   ]
  },
  {
   "cell_type": "markdown",
   "id": "organizational-compromise",
   "metadata": {},
   "source": [
    "## Load libraries"
   ]
  },
  {
   "cell_type": "code",
   "execution_count": 6,
   "id": "better-raleigh",
   "metadata": {},
   "outputs": [],
   "source": [
    "#install.packages('terra')\n",
    "#install.packages('rgeos')\n",
    "#install.packages('leaflet')\n",
    "#install.packages('sp')\n",
    "#install.packages('ggplot2')\n",
    "library(raster)\n",
    "library(terra)\n",
    "library(rgeos)\n",
    "library(leaflet)\n",
    "library(sp)\n",
    "library(gdalUtils)\n",
    "library(rgdal)\n",
    "library(ggplot2)\n",
    "library(dplyr)"
   ]
  },
  {
   "cell_type": "markdown",
   "id": "american-lloyd",
   "metadata": {},
   "source": [
    "## Load reference SR16 data (native resolution 16 m)"
   ]
  },
  {
   "cell_type": "code",
   "execution_count": 7,
   "id": "interpreted-scholar",
   "metadata": {},
   "outputs": [],
   "source": [
    "AGB_data= list.files(pattern=\"AGB*\", full=T)\n",
    "AGB_data_IDs= as.numeric(gsub(\"[^\\\\d]+\", \"\", AGB_data, perl=TRUE))\n",
    "\n",
    "year_ALS_data= list.files(pattern=\"year*\")"
   ]
  },
  {
   "cell_type": "markdown",
   "id": "spread-university",
   "metadata": {},
   "source": [
    "#### example of how the data look like"
   ]
  },
  {
   "cell_type": "code",
   "execution_count": 8,
   "id": "steady-probability",
   "metadata": {},
   "outputs": [],
   "source": [
    "#par(mfrow=c(2,2), mar=c(4,4,4,4))\n",
    "#plot(stack(AGB_data[1])[[1]], main=\"AGB (t/ha)\")\n",
    "#plot(stack(AGB_data[1])[[2]], main=\"lower CI (t/ha)\")\n",
    "#plot(stack(AGB_data[1])[[3]], main=\"upper CI (t/ha)\")\n",
    "\n",
    "#plot(raster(year_ALS_data[1]), main=\"year ALS was collected\")"
   ]
  },
  {
   "cell_type": "markdown",
   "id": "suburban-solid",
   "metadata": {},
   "source": [
    "## Load shapefile of areas of interest"
   ]
  },
  {
   "cell_type": "code",
   "execution_count": 9,
   "id": "worldwide-there",
   "metadata": {},
   "outputs": [
    {
     "ename": "ERROR",
     "evalue": "Error in ogrInfo(dsn = dsn, layer = layer, encoding = encoding, use_iconv = use_iconv, : Cannot open data source\n",
     "output_type": "error",
     "traceback": [
      "Error in ogrInfo(dsn = dsn, layer = layer, encoding = encoding, use_iconv = use_iconv, : Cannot open data source\nTraceback:\n",
      "1. readOGR(getwd(), \"aois\")",
      "2. suppressMessages(ogr_info <- ogrInfo(dsn = dsn, layer = layer, \n .     encoding = encoding, use_iconv = use_iconv, swapAxisOrder = swapAxisOrder, \n .     require_geomType = require_geomType, morphFromESRI = morphFromESRI, \n .     dumpSRS = dumpSRS))",
      "3. withCallingHandlers(expr, message = function(c) if (inherits(c, \n .     classes)) tryInvokeRestart(\"muffleMessage\"))",
      "4. ogrInfo(dsn = dsn, layer = layer, encoding = encoding, use_iconv = use_iconv, \n .     swapAxisOrder = swapAxisOrder, require_geomType = require_geomType, \n .     morphFromESRI = morphFromESRI, dumpSRS = dumpSRS)"
     ]
    }
   ],
   "source": [
    "aois=readOGR(getwd(),\"aois\")\n",
    "aois_WGS84=spTransform(aois, \"+proj=longlat +ellps=WGS84 +datum=WGS84 +no_defs \") # reporject to WGS 84 for plotting in leaflet"
   ]
  },
  {
   "cell_type": "markdown",
   "id": "hazardous-bracket",
   "metadata": {},
   "source": [
    "## Plot the aois using leaflet"
   ]
  },
  {
   "cell_type": "code",
   "execution_count": 6,
   "id": "bulgarian-battle",
   "metadata": {},
   "outputs": [],
   "source": [
    "# plot the aois using leaflet\n",
    "#m <- leaflet(aois_WGS84) %>%\n",
    "#    addTiles() %>% # Add default OpenStreetMap map tiles\n",
    "#    addPolygons(color = \"#444444\", weight = 1, smoothFactor = 0.5,\n",
    "#    opacity = 1.0, fillOpacity = 0.5, label = ~id,\n",
    "#                labelOptions = labelOptions(noHide = T, textsize = \"15px\"))# %>%\n",
    "#m  # Print the map"
   ]
  },
  {
   "cell_type": "markdown",
   "id": "indoor-assist",
   "metadata": {},
   "source": [
    "## Load ICESAT2 biomass tiles"
   ]
  },
  {
   "cell_type": "code",
   "execution_count": 5,
   "id": "interracial-asbestos",
   "metadata": {},
   "outputs": [
    {
     "data": {
      "text/html": [
       "10"
      ],
      "text/latex": [
       "10"
      ],
      "text/markdown": [
       "10"
      ],
      "text/plain": [
       "[1] 10"
      ]
     },
     "metadata": {},
     "output_type": "display_data"
    }
   ],
   "source": [
    "# old tiles that Tony provided originally\n",
    "#path_biomass_tiles=\"/projects/shared-buckets/tonyumd/Norway_agb_tiles\"\n",
    "\n",
    "# new tiles\n",
    "#path_biomass_tiles=paste0(\"/projects/shared-buckets/lduncanson/norway_test_data/\", dir_name)\n",
    "\n",
    "path_biomass_tiles=paste0(\"/projects/my-private-bucket/dps_output/run_boreal_biomass_v2_ubuntu/master/2022/\", dir_name)\n",
    "\n",
    "\n",
    "# recursively find the tiles in the directory\n",
    "tiles=list.files(path_biomass_tiles, full=T, pattern=\"*cog.tif\", recursive=T)\n",
    "length(tiles)\n",
    "\n",
    "#if cog output not working\n",
    "tiles= list.files(path=path_biomass_tiles, pattern=\"*tmp.tif\", full=TRUE, recursive=TRUE)\n",
    "#print(AGB_data)\n",
    "\n",
    "tiles <- tiles[which(endsWith(tiles, 'tif'))]\n",
    "print(tiles)"
   ]
  },
  {
   "cell_type": "markdown",
   "id": "irish-vegetation",
   "metadata": {},
   "source": [
    "### create tile index (only if it's not already existing)"
   ]
  },
  {
   "cell_type": "code",
   "execution_count": 6,
   "id": "reserved-third",
   "metadata": {},
   "outputs": [
    {
     "name": "stdout",
     "output_type": "stream",
     "text": [
      "OGR data source with driver: ESRI Shapefile \n",
      "Source: \"/projects/my-private-bucket/norway_test_data/tiles\", layer: \"prediction_tiles_baseline_run\"\n",
      "with 10 features\n",
      "It has 1 fields\n"
     ]
    }
   ],
   "source": [
    "tile_index=gdalUtils::gdaltindex(\n",
    "  paste0(output_dir_tiles,\"prediction_tiles_\",dir_name,\".shp\"),\n",
    "  tiles\n",
    ")\n",
    "tile_index=readOGR(output_dir_tiles, paste0(\"prediction_tiles_\",dir_name))"
   ]
  },
  {
   "cell_type": "code",
   "execution_count": 9,
   "id": "upper-plymouth",
   "metadata": {},
   "outputs": [],
   "source": [
    "# reporject aois to match crs of ICESat-2 tiles\n",
    "aois_reproject= spTransform(aois, raster::crs(tile_index))"
   ]
  },
  {
   "cell_type": "code",
   "execution_count": 10,
   "id": "occupied-cruise",
   "metadata": {},
   "outputs": [],
   "source": [
    "# if one wants to check whether the ICESAT-2 biomass tiles cover all aois\n",
    "#plot(aois_reproject)\n",
    "#plot(tile_index, add=T, border=\"red\")"
   ]
  },
  {
   "cell_type": "markdown",
   "id": "interior-slide",
   "metadata": {},
   "source": [
    "# Now iterate through each SR16 AGB area and validate ICESAT2 biomass"
   ]
  },
  {
   "cell_type": "markdown",
   "id": "absolute-utility",
   "metadata": {},
   "source": [
    "### create output dir where outputs are saved (only if one wants to print out maps and plots)\n"
   ]
  },
  {
   "cell_type": "code",
   "execution_count": 11,
   "id": "mexican-crazy",
   "metadata": {},
   "outputs": [],
   "source": [
    "#dir.create(paste0(getwd(),\"/output\"), showWarnings=F)"
   ]
  },
  {
   "cell_type": "markdown",
   "id": "cleared-bandwidth",
   "metadata": {},
   "source": [
    "### create output dataframe for reporting RMSE and BIAS values"
   ]
  },
  {
   "cell_type": "code",
   "execution_count": 12,
   "id": "swedish-locator",
   "metadata": {},
   "outputs": [],
   "source": [
    "results=data.frame(ID=NA\n",
    "                  ,RMSE=NA\n",
    "                  ,BIAS=NA\n",
    "                  ,RMSE_rel=NA\n",
    "                  ,BIAS_rel=NA)"
   ]
  },
  {
   "cell_type": "markdown",
   "id": "digital-uruguay",
   "metadata": {},
   "source": [
    "### Iterate through each aoi and validate"
   ]
  },
  {
   "cell_type": "code",
   "execution_count": null,
   "id": "cleared-sitting",
   "metadata": {},
   "outputs": [],
   "source": [
    "for (i in 1:6){#nrow(aois)\n",
    "   print(i)\n",
    "    # select one aoi\n",
    "    aoi=aois_reproject[i,]\n",
    "    results[i,]$ID=aoi$id\n",
    "\n",
    "    # select the aoi from ICESAT 2 that overlaps\n",
    "    aoi_ICESAT= tile_index[gIntersects(tile_index, aoi, byid=T)[1,],]\n",
    "\n",
    "    # selected the AGB from lidar and from ICESAT2\n",
    "    AGB_SR16 = rast(AGB_data[AGB_data_IDs==aoi$id])[[1]]\n",
    "    \n",
    "    # if there are no tiles with ICESAT 2 data then skip\n",
    "    if (nrow(aoi_ICESAT)==0){next}\n",
    "\n",
    "    # if there is only one tile of ICESAT 2 data\n",
    "    if (nrow(aoi_ICESAT)==1){\n",
    "        AGB_ICESAT= rast(aoi_ICESAT$location)\n",
    "        AGB_ICESAT= terra::crop(AGB_ICESAT, aoi)\n",
    "        \n",
    "    } \n",
    "\n",
    "    # if there are multiple of ICESAT 2 data, then mosaic them and get an average value\n",
    "     if (nrow(aoi_ICESAT)>1){\n",
    "         \n",
    "        AGB_ICESAT= rast(aoi_ICESAT[1,]$location)\n",
    "        AGB_ICESAT= terra::crop(AGB_ICESAT, aoi)\n",
    "\n",
    "        for (j in 2:nrow(aoi_ICESAT)){\n",
    "            one_more= rast(aoi_ICESAT[1,]$location)\n",
    "            one_more= terra::crop(one_more, aoi)\n",
    "\n",
    "            AGB_ICESAT= terra::mosaic((AGB_ICESAT),(one_more), fun=\"mean\" )\n",
    "            #AGB_ICESAT= AGB_ICESAT %>% raster()\n",
    "        }\n",
    "        AGB_ICESAT= terra::crop(AGB_ICESAT, aoi)\n",
    "    } \n",
    "    \n",
    "    # resample AGB from lidar to the same pizel size and crs of ICESAT2\n",
    "    AGB_SR16_resampled= terra::resample(AGB_SR16,AGB_ICESAT )\n",
    "\n",
    "    # mask out non-forest pixels\n",
    "    AGB_ICESAT_masked= terra::mask(AGB_ICESAT,AGB_SR16_resampled )\n",
    "   \n",
    "    # compute residuals between the two maps\n",
    "    residuals= AGB_SR16_resampled-AGB_ICESAT_masked[[AGB_band]]\n",
    "    \n",
    "    # write out raster results (only if one wants the )\n",
    "    #raster::writeRaster(AGB_SR16_resampled, file=paste0(getwd(),\"/output/reference_aoi_\",aoi$id,\".tif\"), format=\"GTiff\")\n",
    "    #raster::writeRaster(AGB_ICESAT_masked, file=paste0(getwd(),\"/output/ICESAT_aoi_\",aoi$id,\".tif\"), format=\"GTiff\")\n",
    "    #raster::writeRaster(AGB_SR16_resampled, file=paste0(getwd(),\"/output/residuals_aoi_\",aoi$id,\".tif\"), format=\"GTiff\")\n",
    "\n",
    "   # compute RMSE and BIAS\n",
    "    RMSE=as.numeric(sqrt(global(residuals^2, fun=\"mean\", na.rm=T)))\n",
    "    BIAS= as.numeric(global(residuals, fun=\"mean\", na.rm=T))\n",
    "\n",
    "    # compute relative RMSE and BIAS as % of the mean\n",
    "    RMSE_rel= RMSE/as.numeric(global(AGB_SR16_resampled, fun=\"mean\", na.rm=T))*100\n",
    "    BIAS_rel= BIAS/as.numeric(global(AGB_SR16_resampled, fun=\"mean\", na.rm=T))*100\n",
    "\n",
    "    results[i,]$RMSE=RMSE\n",
    "    results[i,]$BIAS=BIAS\n",
    "    results[i,]$RMSE_rel=RMSE_rel\n",
    "    results[i,]$BIAS_rel=BIAS_rel\n",
    "    \n",
    "    # 2d histogram with default option\n",
    "    #scatterPlot= ggplot(data.frame(pred=terra::values(AGB_ICESAT_masked[[AGB_band]]), reference=terra::values(AGB_SR16_resampled))\n",
    "     #      , aes(x=pred, y=reference) ) +\n",
    "      #geom_bin2d(bins=70) +\n",
    "      #scale_fill_continuous(type = \"viridis\") +\n",
    "      #geom_abline(intercept = 0, slope = 1)+\n",
    "      #ggtitle(paste0(\"aoi_n\", aoi$id))\n",
    "      #theme_bw()\n",
    "   # export scatterplot\n",
    "    #jpeg(paste0(getwd(),\"/output/scatterplot_aoi_\", aoi$id,\".jpg\"), width = 500, height = 500)\n",
    "    #scatterPlot\n",
    "    #dev.off()\n",
    "\n",
    "}\n",
    "\n",
    "print(\"run OK!\")"
   ]
  },
  {
   "cell_type": "code",
   "execution_count": null,
   "id": "opening-survey",
   "metadata": {},
   "outputs": [],
   "source": [
    "results=results[order(results$ID, decreasing=F),]\n",
    "results %>% \n",
    " mutate_if(is.numeric, round,2)"
   ]
  },
  {
   "cell_type": "markdown",
   "id": "liquid-silver",
   "metadata": {},
   "source": [
    "## plot again the aois to check where things aren't great"
   ]
  },
  {
   "cell_type": "code",
   "execution_count": null,
   "id": "residential-introduction",
   "metadata": {},
   "outputs": [],
   "source": [
    "# plot the aois using leaflet\n",
    "m <- leaflet(aois_WGS84) %>%\n",
    "    addTiles() %>% # Add default OpenStreetMap map tiles\n",
    "    addPolygons(color = \"#444444\", weight = 1, smoothFactor = 0.5,\n",
    "    opacity = 1.0, fillOpacity = 0.5, label = ~id,\n",
    "                labelOptions = labelOptions(noHide = T, textsize = \"15px\"))# %>%\n",
    "m  # Print the map"
   ]
  },
  {
   "cell_type": "markdown",
   "id": "textile-planner",
   "metadata": {},
   "source": [
    "## Output to CSV"
   ]
  },
  {
   "cell_type": "code",
   "execution_count": null,
   "id": "agreed-diagram",
   "metadata": {},
   "outputs": [],
   "source": [
    "csv_dir <- '/projects/my-public-bucket/norway_test_data/iteration_results/'\n",
    "out_name <- paste(csv_dir, dir_name, '.csv', sep='')\n",
    "print(out_name)\n",
    "write.csv(results, file=out_name)"
   ]
  },
  {
   "cell_type": "code",
   "execution_count": null,
   "id": "radio-paris",
   "metadata": {},
   "outputs": [],
   "source": []
  }
 ],
 "metadata": {
  "kernelspec": {
   "display_name": "R [conda env:r-with-gdal]",
   "language": "R",
   "name": "conda-env-r-with-gdal-r"
  },
  "language_info": {
   "codemirror_mode": "r",
   "file_extension": ".r",
   "mimetype": "text/x-r-source",
   "name": "R",
   "pygments_lexer": "r",
   "version": "4.1.1"
  }
 },
 "nbformat": 4,
 "nbformat_minor": 5
}
