{
 "cells": [
  {
   "cell_type": "markdown",
   "metadata": {},
   "source": [
    "# 1.3 Reference map production (LVIS)\n",
    "#### This notebook will return geotiffs for all LVIS metrics across all LVIS ABoVE campaigns\n",
    "##### It will search for LVISL2 ASCII data, get their urls, and submit a batch job to run lvis_metrics.R\n",
    "##### Returns: a data dir with geotiffs of LVIS metrics\n",
    "###### Notes: \n",
    "###### uses lvis_metrics.R in GitHub repo pahbs/airborne (/jabba/code/airborne)\n",
    "###### uses run_lvis_metrics.sh in /jabba/code/dps_code/run_lvis_metrics.sh"
   ]
  },
  {
   "cell_type": "code",
   "execution_count": null,
   "metadata": {},
   "outputs": [],
   "source": [
    "from maap.maap import MAAP\n",
    "maap = MAAP()\n",
    "\n",
    "# import printing package to help display outputs\n",
    "from pprint import pprint\n",
    "\n",
    "import ipycmc\n",
    "w = ipycmc.MapCMC()"
   ]
  },
  {
   "cell_type": "code",
   "execution_count": 47,
   "metadata": {},
   "outputs": [],
   "source": [
    "# Using LD's function to return URL list of LVIS granules\n",
    "def get_granules_list(granules):\n",
    "    url_list = []\n",
    "    granules_list = []\n",
    "    for res in granules:\n",
    "        url_list.append(res.getDownloadUrl())\n",
    "\n",
    "    for url in url_list:\n",
    "        if url[0:5] == 's3://':\n",
    "            url = url[5:].split('/')\n",
    "            url[0] += '.s3.amazonaws.com'\n",
    "            url = 'https://' + '/'.join(url)\n",
    "        print(url)\n",
    "        granules_list.append(url)\n",
    "    return granules_list"
   ]
  },
  {
   "cell_type": "code",
   "execution_count": 49,
   "metadata": {},
   "outputs": [
    {
     "name": "stdout",
     "output_type": "stream",
     "text": [
      "https://cumulus-map-internal.s3.amazonaws.com/file-staging/nasa-map/ABLVIS2___001/LVIS2_ABoVE2017_0629_R1803_056233.TXT\n",
      "https://cumulus-map-internal.s3.amazonaws.com/file-staging/nasa-map/ABLVIS2___001/LVIS2_ABoVE2017_0629_R1803_056593.TXT\n",
      "https://cumulus-map-internal.s3.amazonaws.com/file-staging/nasa-map/ABLVIS2___001/LVIS2_ABoVE2017_0629_R1803_057198.TXT\n",
      "https://cumulus-map-internal.s3.amazonaws.com/file-staging/nasa-map/ABLVIS2___001/LVIS2_ABoVE2017_0629_R1803_057748.TXT\n",
      "https://cumulus-map-internal.s3.amazonaws.com/file-staging/nasa-map/ABLVIS2___001/LVIS2_ABoVE2017_0629_R1803_058064.TXT\n",
      "https://cumulus-map-internal.s3.amazonaws.com/file-staging/nasa-map/ABLVIS2___001/LVIS2_ABoVE2017_0629_R1803_058321.TXT\n",
      "https://cumulus-map-internal.s3.amazonaws.com/file-staging/nasa-map/ABLVIS2___001/LVIS2_ABoVE2017_0629_R1803_058625.TXT\n",
      "https://cumulus-map-internal.s3.amazonaws.com/file-staging/nasa-map/ABLVIS2___001/LVIS2_ABoVE2017_0629_R1803_058822.TXT\n",
      "https://cumulus-map-internal.s3.amazonaws.com/file-staging/nasa-map/ABLVIS2___001/LVIS2_ABoVE2017_0629_R1803_059030.TXT\n",
      "https://cumulus-map-internal.s3.amazonaws.com/file-staging/nasa-map/ABLVIS2___001/LVIS2_ABoVE2017_0629_R1803_059217.TXT\n",
      "https://cumulus-map-internal.s3.amazonaws.com/file-staging/nasa-map/LVISF2___001/LVISF2_ABoVE2019_0712_R2003_066604.TXT\n",
      "https://cumulus-map-internal.s3.amazonaws.com/file-staging/nasa-map/LVISF2___001/LVISF2_ABoVE2019_0712_R2003_066765.TXT\n",
      "https://cumulus-map-internal.s3.amazonaws.com/file-staging/nasa-map/LVISF2___001/LVISF2_ABoVE2019_0712_R2003_066867.TXT\n",
      "https://cumulus-map-internal.s3.amazonaws.com/file-staging/nasa-map/LVISF2___001/LVISF2_ABoVE2019_0712_R2003_066954.TXT\n",
      "https://cumulus-map-internal.s3.amazonaws.com/file-staging/nasa-map/LVISF2___001/LVISF2_ABoVE2019_0712_R2003_067064.TXT\n",
      "https://cumulus-map-internal.s3.amazonaws.com/file-staging/nasa-map/LVISF2___001/LVISF2_ABoVE2019_0712_R2003_067173.TXT\n",
      "https://cumulus-map-internal.s3.amazonaws.com/file-staging/nasa-map/LVISF2___001/LVISF2_ABoVE2019_0712_R2003_067263.TXT\n",
      "https://cumulus-map-internal.s3.amazonaws.com/file-staging/nasa-map/LVISF2___001/LVISF2_ABoVE2019_0712_R2003_067369.TXT\n",
      "https://cumulus-map-internal.s3.amazonaws.com/file-staging/nasa-map/LVISF2___001/LVISF2_ABoVE2019_0712_R2003_067457.TXT\n",
      "https://cumulus-map-internal.s3.amazonaws.com/file-staging/nasa-map/LVISF2___001/LVISF2_ABoVE2019_0712_R2003_068000.TXT\n"
     ]
    }
   ],
   "source": [
    "# Get list of LVIS granules of interest from both LVIS campaigns\n",
    "LVIS_ABOVE_BBOX = \"-165,50,-90,71\"\n",
    "LVISL2_2017 = \"C1200125288-NASA_MAAP\"\n",
    "LVISL2_2019 = \"C1200235708-NASA_MAAP\"\n",
    "\n",
    "LVIS_COLLECTION_LIST = [LVISL2_2017, LVISL2_2019]\n",
    "\n",
    "# Limited by LVIS_ABOVE_BBOX\n",
    "MAX_LVIS_FLIGHTLINES = 3000 # 1051 and 2528 flightlines, respectively, for LVIS 2017 and 2019\n",
    "\n",
    "for collection in collection_list:\n",
    "    granules = maap.searchGranule(collection_concept_id=LVIS_COLLECTION_LIST, bounding_box=LVIS_ABOVE_BBOX, limit=MAX_LVIS_FLIGHTLINES)\n",
    "    #pprint(granules[0], depth=2)\n",
    "    granules_list_LVIS = get_granules_list(granules)"
   ]
  },
  {
   "cell_type": "code",
   "execution_count": null,
   "metadata": {},
   "outputs": [],
   "source": [
    "# DPS SUBMISSION ---- NOT YET WORKING ----\n",
    "\n",
    "# Here is where I submit a job \n",
    "# identified with 'algo_id' (in yaml file)\n",
    "# that specifies a bash script (/jabba/code/dps_code/run_lvis_metrics.sh) \n",
    "# that will call the 'algorithm' (lvis_metrics.R)\n",
    "# that takes a number of args: Rscript /jabba/code/airborne/lvis_metrics.R ${GRANULE_URL} -r ${GRID_RES} -y ${YEAR} --root_dir ${ROOT_DIR} --snap_grid ${SNAP_GRID}\n",
    "\n",
    "# CHANGE the submitJob args!\n",
    "for granule in granules_list_LVIS:\n",
    "    submit_result = maap.submitJob(identifier=\"ice2\", algo_id=\"ice2_h5tocsv_ubuntu\", \n",
    "                               version=\"master\", \n",
    "                               username=\"r2d2\", \n",
    "                               ice2_granules=granule)\n",
    "    print(submit_result)"
   ]
  }
 ],
 "metadata": {
  "kernelspec": {
   "display_name": "Python 3",
   "language": "python",
   "name": "python3"
  },
  "language_info": {
   "codemirror_mode": {
    "name": "ipython",
    "version": 3
   },
   "file_extension": ".py",
   "mimetype": "text/x-python",
   "name": "python",
   "nbconvert_exporter": "python",
   "pygments_lexer": "ipython3",
   "version": "3.7.6"
  }
 },
 "nbformat": 4,
 "nbformat_minor": 4
}
