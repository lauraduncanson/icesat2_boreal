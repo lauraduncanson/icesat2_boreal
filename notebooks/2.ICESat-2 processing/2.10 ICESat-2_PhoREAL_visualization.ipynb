{
 "cells": [
  {
   "cell_type": "code",
   "execution_count": null,
   "metadata": {},
   "outputs": [],
   "source": [
    "import sys\n",
    "sys.path.insert(0, '../../../../above/gitlab_repos/PhoREAL/source_code')\n",
    "\n",
    "from icesatReader import get_atl03_struct\n",
    "from icesatReader import get_atl08_struct\n",
    "from icesatPlot import getPlot"
   ]
  },
  {
   "cell_type": "code",
   "execution_count": null,
   "metadata": {},
   "outputs": [],
   "source": [
    "# As a place holder..\n",
    "\n",
    "atl03filepath = '/projects/jabba/data/bbox_nsib1/ATL03_20190615091900_11930305_002_01.h5'\n",
    "atl08filepath = '/projects/jabba/data/bbox_nsib1/ATL08_20190615091900_11930305_002_01.h5'\n",
    "\n",
    "# And specifying a groundtrack\n",
    "gt = 'gt1r'"
   ]
  },
  {
   "cell_type": "code",
   "execution_count": null,
   "metadata": {},
   "outputs": [],
   "source": [
    "# Read in the ATL03 Struct\n",
    "'''\n",
    "Inputs: the ATL03 file path, the groundtrack, and an associated ATL08 File Path (for photon-level classifications)\n",
    "Output: An ATL03 Struct, with an associated pandas DF\n",
    "'''\n",
    "atl03 = get_atl03_struct(atl03filepath, gt, atl08filepath)\n",
    "\n",
    "# Read in ATL08 Struct\n",
    "'''\n",
    "Inputs: The ATL08 File Path, a groundtrack, and the ATL03 struct (to match boundaries and extents)\n",
    "Output: An ATL08 struct, with an associated pandas DF\n",
    "'''\n",
    "atl08 = get_atl08_struct(atl08filepath, gt, atl03)"
   ]
  },
  {
   "cell_type": "code",
   "execution_count": null,
   "metadata": {},
   "outputs": [],
   "source": [
    "'''\n",
    "getPlot(xData, yData, xLabel, yLabel, title, outPath, origTitle, filterType = [], filterData = [], filterNum = [])\n",
    "xData: n-sized array on the x-axis\n",
    "yData: n-sized array on the y-axis\n",
    "xLabel: Label for the x-axis\n",
    "yLabel: Label for the y-axis\n",
    "Title: Title for top of plot\n",
    "outPath: Left blank, i.e.([])\n",
    "origTitle: Left blank, i.e.([])\n",
    "filterType: For symbolizatoin, either 'class' for classification or 'signal_conf' for signal confidence\n",
    "filterData: n-sized array for either the classification or the signal confidence\n",
    "filterNum: Class numbers to include (e.g.,[-1,0,1,2,3] for all classificatoins)\n",
    "...-1 unclassified, noise\n",
    "....0 unclassified, noise\n",
    "....1 ground\n",
    "....2 canopy\n",
    "....3 high canopy\n",
    "\n",
    "\n",
    "'''\n",
    "\n",
    "%matplotlib inline \n",
    "\n",
    "getPlot(atl03.df.alongtrack, atl03.df.h_ph, 'Along Track (m)', 'Height (m)','ICESat-2 Alongtrack Height',[],[],\n",
    "        filterType = 'class',filterData = atl03.df.classification,filterNum = [-1,0,1,2,3])"
   ]
  }
 ],
 "metadata": {
  "kernelspec": {
   "display_name": "Python 3",
   "language": "python",
   "name": "python3"
  },
  "language_info": {
   "codemirror_mode": {
    "name": "ipython",
    "version": 3
   },
   "file_extension": ".py",
   "mimetype": "text/x-python",
   "name": "python",
   "nbconvert_exporter": "python",
   "pygments_lexer": "ipython3",
   "version": "3.7.6"
  }
 },
 "nbformat": 4,
 "nbformat_minor": 4
}
