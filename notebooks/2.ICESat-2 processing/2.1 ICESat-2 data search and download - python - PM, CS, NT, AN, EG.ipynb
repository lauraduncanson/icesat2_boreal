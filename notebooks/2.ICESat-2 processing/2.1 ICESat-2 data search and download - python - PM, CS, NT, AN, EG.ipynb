{
 "cells": [
  {
   "cell_type": "markdown",
   "metadata": {},
   "source": [
    "# 2.1 ICESat-2 data search and download\n",
    "#### This notebook uses the MAAP python library to search for ATL08 data with a bounding box and date range\n",
    "#### Returns: a python list of granule URLs\n",
    "###### Notes:\n",
    "###### This nb does not actually downloading, rather, it returns granule URLs in s3 buckets\n",
    "###### For this reason, this nb uses code from 1.3 (LVIS search and download) instead of code/icesat2/search_atlas.ipynb"
   ]
  },
  {
   "cell_type": "code",
   "execution_count": null,
   "metadata": {},
   "outputs": [],
   "source": [
    "from maap.maap import MAAP\n",
    "maap = MAAP()\n",
    "\n",
    "# import printing package to help display outputs\n",
    "from pprint import pprint"
   ]
  },
  {
   "cell_type": "code",
   "execution_count": null,
   "metadata": {},
   "outputs": [],
   "source": [
    "# Using LD's function to return URL list of granules\n",
    "def get_granules_list(granules):\n",
    "    url_list = []\n",
    "    granules_list = []\n",
    "    for res in granules:\n",
    "        url_list.append(res.getDownloadUrl())\n",
    "\n",
    "    for url in url_list:\n",
    "        if url[0:5] == 's3://':\n",
    "            url = url[5:].split('/')\n",
    "            url[0] += '.s3.amazonaws.com'\n",
    "            url = 'https://' + '/'.join(url)\n",
    "        print(url)\n",
    "        granules_list.append(url)\n",
    "    return granules_list"
   ]
  },
  {
   "cell_type": "code",
   "execution_count": null,
   "metadata": {},
   "outputs": [],
   "source": [
    "# Get list of ATL08 granules of interest\n",
    "BBOX_NA = \"-165,50,-45, 71\"\n",
    "\n",
    "COLLECTID_ATL08_V3 = \"C1200235747-NASA_MAAP\"\n",
    "\n",
    "# Note: we want to be able to do a 'recurring' seasonal search, regardless of year\n",
    "DATERANGE_2019_SUMMER = '2019-06-01T00:00:00Z,2019-09-30T23:59:59Z'\n",
    "\n",
    "# We dont really want a limit: Not really sure how to set this; just use very high number?\n",
    "MAX_ATL08_ORBITS = 5000\n",
    "\n",
    "granules = maap.searchGranule(collection_concept_id=COLLECTID_ATL08_V3, temporal=DATERANGE_2019_SUMMER, bounding_box=LVIS_ABOVE_BBOX, limit=MAX_ATL08_ORBITS)\n",
    "#pprint(granules[0], depth=2)\n",
    "\n",
    "# This is a list of the granule URLs for processing\n",
    "granules_list_ATL08 = get_granules_list(granules)"
   ]
  },
  {
   "cell_type": "code",
   "execution_count": null,
   "metadata": {},
   "outputs": [],
   "source": []
  }
 ],
 "metadata": {
  "kernelspec": {
   "display_name": "Python 3",
   "language": "python",
   "name": "python3"
  },
  "language_info": {
   "codemirror_mode": {
    "name": "ipython",
    "version": 3
   },
   "file_extension": ".py",
   "mimetype": "text/x-python",
   "name": "python",
   "nbconvert_exporter": "python",
   "pygments_lexer": "ipython3",
   "version": "3.7.6"
  }
 },
 "nbformat": 4,
 "nbformat_minor": 4
}
