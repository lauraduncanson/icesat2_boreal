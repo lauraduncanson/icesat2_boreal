{
 "cells": [
  {
   "cell_type": "code",
   "execution_count": null,
   "metadata": {},
   "outputs": [],
   "source": [
    "# 2.3 ICESat-2 extraction, filtering\n",
    "#### This notebook uses a DPS job to run extract_atl08.py to convert h5's to csv's, then appends all csv's into a pandas geodataframe.\n",
    "#### Returns: a pandas geodataframe that should hold the entire set of ATL08 data for this project\n",
    "###### Notes:\n",
    "###### "
   ]
  },
  {
   "cell_type": "code",
   "execution_count": null,
   "metadata": {},
   "outputs": [],
   "source": [
    "import geopandas as gpd\n",
    "from geopandas import GeoDataFrame\n",
    "from geopandas.tools import sjoin\n",
    "import pandas as pd\n",
    "import glob\n",
    "import os\n",
    "\n",
    "# Run extract_at08.py as a DPS job (see nb 1.3 for template of how this can be done)\n",
    "DPS_OUTPUT_DIR = '/projects/jabba/dps_output'"
   ]
  },
  {
   "cell_type": "code",
   "execution_count": null,
   "metadata": {},
   "outputs": [],
   "source": [
    "# DPS SUBMISSION ---- NOT YET WORKING ----\n",
    "\n",
    "# Here is where I submit a job \n",
    "# identified with 'algo_id' (in yaml file)\n",
    "# that specifies a bash script (/jabba/code/dps_code/run_extract_atl08.sh) \n",
    "# that will call the 'algorithm' (extract_atl08.py)\n",
    "# that takes an granule URL specifying a .H5 file : python /jabba/code/airborne/lvis_metrics.R ${GRANULE_URL} -output ??\n",
    "\n",
    "# Uses granule list from nb 2.1\n",
    "# CHANGE the submitJob args!\n",
    "for granule in granules_list_ATL08:\n",
    "    submit_result = maap.submitJob(identifier=\"ice2\", algo_id=\"ice2_h5tocsv_ubuntu\", \n",
    "                               version=\"master\", \n",
    "                               username=\"r2d2\", \n",
    "                               ice2_granules=granule)\n",
    "    print(submit_result)"
   ]
  },
  {
   "cell_type": "code",
   "execution_count": null,
   "metadata": {},
   "outputs": [],
   "source": [
    "# Merge all CSV from extract_at08.py into a geodataframe\n",
    "\n",
    "os.chdir(DPS_OUTPUT_DIR)\n",
    "extension = 'csv'\n",
    "all_atl08_csvs = [i for i in glob.glob('ATL08*.{}'.format(extension))]\n",
    "\n",
    "# Merge all files in the list\n",
    "atl08 = pd.concat([pd.read_csv(f) for f in all_atl08_csvs ])\n",
    "\n",
    "# Probably not necessary\n",
    "atl08.to_csv( \"atl08_merged.csv\", index=False, encoding='utf-8-sig')\n",
    "\n",
    "# CREATE GEOPANDAS DATAFRAME WITH SPATIAL REF\n",
    "#atl08 = GeoDataFrame(atl08, geometry=gpd.points_from_xy(atl08.lon, atl08.lat), crs='epsg:4326')\n",
    "atl08 = GeoDataFrame(atl08, crs='epsg:4326',\n",
    "    geometry=[Point(float(X), float(Y), float(Z)) for X,Y,Z in zip(atl08.lon, atl08.lat, atl08.h_te_best)])\n",
    "\n",
    "print(f\"There are {atl08.shape[0]} observations in this geodataframe.\")\n",
    "atl08.head()"
   ]
  }
 ],
 "metadata": {
  "kernelspec": {
   "display_name": "Python 3",
   "language": "python",
   "name": "python3"
  },
  "language_info": {
   "codemirror_mode": {
    "name": "ipython",
    "version": 3
   },
   "file_extension": ".py",
   "mimetype": "text/x-python",
   "name": "python",
   "nbconvert_exporter": "python",
   "pygments_lexer": "ipython3",
   "version": "3.7.6"
  }
 },
 "nbformat": 4,
 "nbformat_minor": 4
}
