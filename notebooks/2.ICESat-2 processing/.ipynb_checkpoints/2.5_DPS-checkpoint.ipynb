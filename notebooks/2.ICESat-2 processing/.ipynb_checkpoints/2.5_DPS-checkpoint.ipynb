{
 "cells": [
  {
   "cell_type": "code",
   "execution_count": 1,
   "metadata": {},
   "outputs": [
    {
     "ename": "ModuleNotFoundError",
     "evalue": "No module named 'boto3'",
     "output_type": "error",
     "traceback": [
      "\u001b[0;31m---------------------------------------------------------------------------\u001b[0m",
      "\u001b[0;31mModuleNotFoundError\u001b[0m                       Traceback (most recent call last)",
      "\u001b[0;32m<ipython-input-1-39a8ca477425>\u001b[0m in \u001b[0;36m<module>\u001b[0;34m\u001b[0m\n\u001b[0;32m----> 1\u001b[0;31m \u001b[0;32mfrom\u001b[0m \u001b[0mmaap\u001b[0m\u001b[0;34m.\u001b[0m\u001b[0mmaap\u001b[0m \u001b[0;32mimport\u001b[0m \u001b[0mMAAP\u001b[0m\u001b[0;34m\u001b[0m\u001b[0;34m\u001b[0m\u001b[0m\n\u001b[0m\u001b[1;32m      2\u001b[0m \u001b[0mmaap\u001b[0m \u001b[0;34m=\u001b[0m \u001b[0mMAAP\u001b[0m\u001b[0;34m(\u001b[0m\u001b[0;34m)\u001b[0m\u001b[0;34m\u001b[0m\u001b[0;34m\u001b[0m\u001b[0m\n\u001b[1;32m      3\u001b[0m \u001b[0;34m\u001b[0m\u001b[0m\n\u001b[1;32m      4\u001b[0m \u001b[0;32mimport\u001b[0m \u001b[0mipycmc\u001b[0m\u001b[0;34m\u001b[0m\u001b[0;34m\u001b[0m\u001b[0m\n\u001b[1;32m      5\u001b[0m \u001b[0mw\u001b[0m \u001b[0;34m=\u001b[0m \u001b[0mipycmc\u001b[0m\u001b[0;34m.\u001b[0m\u001b[0mMapCMC\u001b[0m\u001b[0;34m(\u001b[0m\u001b[0;34m)\u001b[0m\u001b[0;34m\u001b[0m\u001b[0;34m\u001b[0m\u001b[0m\n",
      "\u001b[0;32m/opt/conda/lib/python3.7/site-packages/maapPy-0.3.0-py3.7.egg/maap/maap.py\u001b[0m in \u001b[0;36m<module>\u001b[0;34m\u001b[0m\n\u001b[1;32m      1\u001b[0m \u001b[0;32mimport\u001b[0m \u001b[0mlogging\u001b[0m\u001b[0;34m\u001b[0m\u001b[0;34m\u001b[0m\u001b[0m\n\u001b[0;32m----> 2\u001b[0;31m \u001b[0;32mimport\u001b[0m \u001b[0mboto3\u001b[0m\u001b[0;34m\u001b[0m\u001b[0;34m\u001b[0m\u001b[0m\n\u001b[0m\u001b[1;32m      3\u001b[0m \u001b[0;32mimport\u001b[0m \u001b[0muuid\u001b[0m\u001b[0;34m\u001b[0m\u001b[0;34m\u001b[0m\u001b[0m\n\u001b[1;32m      4\u001b[0m \u001b[0;32mimport\u001b[0m \u001b[0murllib\u001b[0m\u001b[0;34m.\u001b[0m\u001b[0mparse\u001b[0m\u001b[0;34m\u001b[0m\u001b[0;34m\u001b[0m\u001b[0m\n\u001b[1;32m      5\u001b[0m \u001b[0;32mimport\u001b[0m \u001b[0mtime\u001b[0m\u001b[0;34m\u001b[0m\u001b[0;34m\u001b[0m\u001b[0m\n",
      "\u001b[0;31mModuleNotFoundError\u001b[0m: No module named 'boto3'"
     ]
    }
   ],
   "source": [
    "from maap.maap import MAAP\n",
    "maap = MAAP()\n",
    "\n",
    "import ipycmc\n",
    "w = ipycmc.MapCMC()\n",
    "w"
   ]
  },
  {
   "cell_type": "code",
   "execution_count": 3,
   "metadata": {},
   "outputs": [
    {
     "name": "stdout",
     "output_type": "stream",
     "text": [
      "# conda environments:\n",
      "#\n",
      "base                  *  /opt/conda\n",
      "phorealpy                /opt/conda/envs/phorealpy\n",
      "                         /projects/.local/share/r-miniconda\n",
      "                         /projects/.local/share/r-miniconda/envs/r-reticulate\n",
      "\n"
     ]
    }
   ],
   "source": [
    "!conda env list"
   ]
  },
  {
   "cell_type": "code",
   "execution_count": 2,
   "metadata": {},
   "outputs": [
    {
     "ename": "NameError",
     "evalue": "name 'MAAP' is not defined",
     "output_type": "error",
     "traceback": [
      "\u001b[0;31m---------------------------------------------------------------------------\u001b[0m",
      "\u001b[0;31mNameError\u001b[0m                                 Traceback (most recent call last)",
      "\u001b[0;32m<ipython-input-2-309a76709077>\u001b[0m in \u001b[0;36m<module>\u001b[0;34m\u001b[0m\n\u001b[1;32m      9\u001b[0m \u001b[0;32mimport\u001b[0m \u001b[0mos\u001b[0m\u001b[0;34m\u001b[0m\u001b[0;34m\u001b[0m\u001b[0m\n\u001b[1;32m     10\u001b[0m \u001b[0;32mfrom\u001b[0m \u001b[0mos\u001b[0m \u001b[0;32mimport\u001b[0m \u001b[0msystem\u001b[0m\u001b[0;34m\u001b[0m\u001b[0;34m\u001b[0m\u001b[0m\n\u001b[0;32m---> 11\u001b[0;31m \u001b[0mmaap\u001b[0m \u001b[0;34m=\u001b[0m \u001b[0mMAAP\u001b[0m\u001b[0;34m(\u001b[0m\u001b[0;34m)\u001b[0m\u001b[0;34m\u001b[0m\u001b[0;34m\u001b[0m\u001b[0m\n\u001b[0m",
      "\u001b[0;31mNameError\u001b[0m: name 'MAAP' is not defined"
     ]
    }
   ],
   "source": [
    "#load some other functions from maap.maap import MAAP\n",
    "import ipycmc\n",
    "import sys\n",
    "import maap\n",
    "import json\n",
    "import sys\n",
    "import shutil\n",
    "import requests\n",
    "import os\n",
    "from os import system\n",
    "maap = MAAP()"
   ]
  },
  {
   "cell_type": "code",
   "execution_count": null,
   "metadata": {},
   "outputs": [],
   "source": [
    "#Step 2 - pull some data over area of interest\n",
    "#First, run function to return a list of granules toward batch processing\n",
    "def get_granules_list(granules):\n",
    "    url_list = []\n",
    "    output_list = []\n",
    "    for res in granules:\n",
    "        url_list.append(res.getDownloadUrl())\n",
    "\n",
    "    for url in url_list:\n",
    "        if url[0:5] == 's3://':\n",
    "            url = url[5:].split('/')\n",
    "            url[0] += '.s3.amazonaws.com'\n",
    "            url = 'https://' + '/'.join(url)\n",
    "        print(url)\n",
    "        output_list.append(url)\n",
    "    return output_list"
   ]
  },
  {
   "cell_type": "code",
   "execution_count": null,
   "metadata": {},
   "outputs": [],
   "source": [
    "#Step 2 cont.\n",
    "#function to download a list of granules locally\n",
    "def download_granules(granules, output_dir):\n",
    "    url_list = []\n",
    "    for res in granules:\n",
    "        url_list.append(res.getDownloadUrl())\n",
    "\n",
    "    for url in url_list:\n",
    "        if url[0:5] == 's3://':\n",
    "            url = url[5:].split('/')\n",
    "            url[0] += '.s3.amazonaws.com'\n",
    "            url = 'https://' + '/'.join(url)\n",
    "        print(url)\n",
    "        name = output_dir + url.split('/')[-1]\n",
    "        print(name)\n",
    "        r = requests.get(url, allow_redirects=True)\n",
    "        open(name, 'wb').write(r.content)"
   ]
  },
  {
   "cell_type": "code",
   "execution_count": null,
   "metadata": {},
   "outputs": [],
   "source": [
    "# Step 2 cont.\n",
    "#download the files of interest to local workspace\n",
    "\n",
    "ice2_granules=maap.searchGranule(collection_concept_id=\"C1200116818-NASA_MAAP\", bounding_box=\"-80.4602629492514,43.657343370336264,-79.5284782205537,44.37013441014951\", limit=50)\n",
    "\n",
    "count=0\n",
    "for f in range(len(ice2_granules)):\n",
    "    #ID = s[f]['Granule']['DataGranule']['ProducerGranuleId']\n",
    "    ID = ice2_granules[f]['Granule']['OnlineAccessURLs']['OnlineAccessURL']['URL']                    \n",
    "    #print(ID)\n",
    "    count=count+1\n",
    "    download_dir = '/projects/r2d2/gedi_test_granules'\n",
    "    existingfiles = [file for file in os.listdir(download_dir)]\n",
    "    if ID in existingfiles:\n",
    "        print('file exists...')\n",
    "    else:                        \n",
    "        ice2_granules[f].getLocalPath(download_dir)    \n",
    "print(count)"
   ]
  },
  {
   "cell_type": "code",
   "execution_count": null,
   "metadata": {},
   "outputs": [],
   "source": [
    "# Step 7 - run a DPS job!\n",
    "#first, pick the files you want to run in DPS\n",
    "#bounding box North America north of 50 degrees lat\n",
    "ice2_granules=maap.searchGranule(collection_concept_id=\"C1200116818-NASA_MAAP\", bounding_box=\"-152.5534776481967,50.0,-50.78405971406124,80.10902122001679\", limit=10000)\n"
   ]
  },
  {
   "cell_type": "code",
   "execution_count": null,
   "metadata": {},
   "outputs": [],
   "source": [
    "#Step 7 cont.\n",
    "#try to submit a MAAP job on a single file\n",
    "result = maap.submitJob(\n",
    "    identifier='ice2_h5tocsv_ubuntu',\n",
    "    algo_id='ice2_h5tocsv',\n",
    "    version='master',\n",
    "    username='r2d2',\n",
    "    ice2_granules='https://cumulus-map-internal.s3.amazonaws.com/file-staging/nasa-map/ATL08___002/ATL08_20190612084236_11470302_002_01.h5')\n",
    "print(result)"
   ]
  },
  {
   "cell_type": "code",
   "execution_count": null,
   "metadata": {},
   "outputs": [],
   "source": [
    "#Step 8\n",
    "#submit many jobs in a loop to process many files\n",
    "#ices_granule_id is the list of all the files, this loops through and submits a job for each\n",
    "for g in ice2_granule_id:\n",
    "    granule = g\n",
    "    submit_result = maap.submitJob(identifier='ice2', \n",
    "                                   algo_id='ice2_h5tocsv_ubuntu', \n",
    "                                   version='master', \n",
    "                                   username='r2d2', \n",
    "                                   ice2_granules=granule)\n",
    "    print(submit_result)\n",
    "    \n",
    "    #simplified version\n",
    "    for g in ice2_granules:\n",
    "    granule = g.getDownloadUrl()\n",
    "    submit_result = maap.submitJob(identifier=\"ice2_h5tocsv_ubuntu:master\", algo_id=\"ice2_h5tocsv\", \n",
    "                               version=\"master\", \n",
    "                               username=\"r2d2\", \n",
    "                               ice2_granules=granule)\n",
    "    print(submit_result)"
   ]
  },
  {
   "cell_type": "code",
   "execution_count": null,
   "metadata": {},
   "outputs": [],
   "source": [
    "#Step 9: analyze results\n",
    "#move all output csv files from super nested dps_output folder to a folder of interest\n",
    "import os, glob\n",
    "import shutil\n",
    "output_dir = \"/projects/r2d2/icesat2_batch_demo/csv_out\"\n",
    "base_dir = \"/projects/r2d2/dps_output/run_icesat2_gabon_ubuntu\"\n",
    "for file in glob.glob(\"/projects/r2d2/dps_output/run_icesat2_gabon_ubuntu/master/2020/05/12/**/*.csv\", recursive=True):\n",
    "    print(file)\n",
    "    shutil.copyfile(file, os.path.join(output_dir, os.path.basename(file)))"
   ]
  }
 ],
 "metadata": {
  "kernelspec": {
   "display_name": "Python 3",
   "language": "python",
   "name": "python3"
  },
  "language_info": {
   "codemirror_mode": {
    "name": "ipython",
    "version": 3
   },
   "file_extension": ".py",
   "mimetype": "text/x-python",
   "name": "python",
   "nbconvert_exporter": "python",
   "pygments_lexer": "ipython3",
   "version": "3.7.6"
  }
 },
 "nbformat": 4,
 "nbformat_minor": 4
}
