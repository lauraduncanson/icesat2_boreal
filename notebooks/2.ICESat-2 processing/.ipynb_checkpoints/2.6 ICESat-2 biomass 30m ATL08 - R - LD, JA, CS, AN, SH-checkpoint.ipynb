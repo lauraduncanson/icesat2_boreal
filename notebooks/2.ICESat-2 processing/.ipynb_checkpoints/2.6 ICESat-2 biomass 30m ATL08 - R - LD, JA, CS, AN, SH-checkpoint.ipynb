{
 "cells": [
  {
   "cell_type": "markdown",
   "metadata": {},
   "source": [
    "# 2.6 ICESat-2 biomass 30m ATL08"
   ]
  },
  {
   "cell_type": "code",
   "execution_count": 102,
   "metadata": {},
   "outputs": [],
   "source": [
    "#### i) Description\n",
    "#### This notebook use GEDI-derived AGB models for estimating sparse ICESat-2 AGB using 30 m ATL08 product.\n",
    "\n",
    "#### ii) How the algorithm works?\n",
    "#### GEDI-derived AGB models are loaded in R and applied over the ICESat-2 30m ATL08 data. \n",
    "\n",
    "#### iii) Inputs\n",
    "####  - gedi_model: GEDI-derived AGB model\n",
    "####  - ice2_30_atl08: list containing the path to the ATL08 files\n",
    "####  - outdir: output directory for saving ICESat-2 AGB estimates\n",
    "####  - offset: offset applied in the model\n",
    "####  - gedi_vars: GEDI variables used in the model\n",
    "####  - ice_vars: ICESat-2 variables equivalent to GEDI variables\n",
    "####  - overwrite: if TRUE will overwrite existing output files\n",
    "\n",
    "#### iii) Outputs\n",
    "####  -ICEsat-2 AGB estimates are saved as csv in the outdir\n",
    "\n",
    "\n",
    "#----------------------------------------------#\n",
    "############# functions ########################\n",
    "#----------------------------------------------#\n",
    "applyToBoreal<-function(model,ice2_30_atl08, outdir=getwd(), offset=10, gedi_vars=c('RH_98', 'RH_20'), ice_vars=c(\"h_can\", \"rh25\"), overwrite=FALSE){\n",
    "  \n",
    "  pb <- txtProgressBar(min = 0, max = length(ice2_30_atl08), style = 3)\n",
    "  i.s=0\n",
    "  \n",
    "  for ( i in ice2_30_atl08){\n",
    "      print(i)\n",
    "    i.s<-i.s+1\n",
    "    setTxtProgressBar(pb, i.s)\n",
    "       # reading ICEsat-2 30m ATL08 file\n",
    "    L <- readLines(i, n = 1)\n",
    "        \n",
    "    if (!length(L)==0) {\n",
    "            \n",
    "    if (grepl(\";\", L)) ice_i<-read.csv2(i, head=T) else ice_i<-read.table(i, sep=\",\", head=T)\n",
    "      \n",
    "    #print(head(ice_i))\n",
    "    ice_i<-as.data.frame(ice_i)\n",
    "    ice_i_sub<-na.omit(sapply(ice_i[,ice_vars],function(x) as.numeric(as.character(x))))\n",
    "    \n",
    "    list_outputs<-list.files(outdir)\n",
    "    if (!is.null(nrow(ice_i_sub))) {\n",
    "      \n",
    "      if (file.exists(file.path(outdir, basename(i)))) {\n",
    "        if (overwrite==FALSE){\n",
    "        print(paste0(\"Skipping file\",basename(i),\". It has been already processed\"))\n",
    "        include=FALSE  \n",
    "        } else {\n",
    "          include=TRUE  \n",
    "         } \n",
    "      } else { include=TRUE}\n",
    "      \n",
    "      if ( include==TRUE){\n",
    "      \n",
    "      newdata <- as.data.frame(sqrt(ice_i_sub))\n",
    "      \n",
    "      #rename variables to match model\n",
    "      names(newdata)=gedi_vars\n",
    "      \n",
    "      #adjust for offset in model fits (note, this was 20 for ages, and now it's 100; essentially we added to all the height metrics so they would never be negative)\n",
    "      newdata <- newdata+offset\n",
    "      \n",
    "      #define C\n",
    "      C <- mean(model$fitted.values)/mean(model$model$`sqrt(AGBD)`)\n",
    "      \n",
    "      #we multiply by C in case there is a systematic over or under estimation in the model (bias correction)\n",
    "      ice_i$agbd_pred<-C*(predict(model, newdata=newdata)^2)\n",
    "      write.table(ice_i,paste0(outdir, '/', basename(i)), sep=\";\", row.names = F)\n",
    "      }\n",
    "     }  \n",
    "    }\n",
    "   }                           \n",
    "  close(pb)\n",
    "}"
   ]
  },
  {
   "cell_type": "code",
   "execution_count": 18,
   "metadata": {},
   "outputs": [],
   "source": [
    "# Importing GEDI-derived AGB models\n",
    "gedi_model <- readRDS('~/csilva/gedi_agb_model/predict_ENT_coarse_fit_ENT_sqrt_sqrt_Snowdon_1.rds')\n",
    "#this is a simple placeholder of a square root transformed model\n",
    "#read in some icesat2 data, then make a dataframe of sqrt(RH98) and sqrt(RH20)\n",
    "#When applying this automatically we can search the variable names in the model object for application, but for now we can hard code"
   ]
  },
  {
   "cell_type": "code",
   "execution_count": 20,
   "metadata": {},
   "outputs": [
    {
     "data": {
      "text/plain": [
       "\n",
       "Call:\n",
       "lm(formula = paste(\"sqrt(AGBD)~\", paste(paste(\"sqrt(\", predictor_names, \n",
       "    \")\", sep = \"\"), collapse = \"+\")), data = train_data_fit_stratum)\n",
       "\n",
       "Residuals:\n",
       "     Min       1Q   Median       3Q      Max \n",
       "-13.7057  -2.1572  -0.0334   2.0397  12.7109 \n",
       "\n",
       "Coefficients:\n",
       "             Estimate Std. Error t value Pr(>|t|)    \n",
       "(Intercept) -138.2682     3.4818  -39.71   <2e-16 ***\n",
       "sqrt(RH_20)    5.8403     0.3922   14.89   <2e-16 ***\n",
       "sqrt(RH_98)    8.2150     0.1837   44.72   <2e-16 ***\n",
       "---\n",
       "Signif. codes:  0 ‘***’ 0.001 ‘**’ 0.01 ‘*’ 0.05 ‘.’ 0.1 ‘ ’ 1\n",
       "\n",
       "Residual standard error: 3.48 on 2002 degrees of freedom\n",
       "Multiple R-squared:  0.6505,\tAdjusted R-squared:  0.6501 \n",
       "F-statistic:  1863 on 2 and 2002 DF,  p-value: < 2.2e-16\n"
      ]
     },
     "metadata": {},
     "output_type": "display_data"
    },
    {
     "data": {
      "text/html": [
       "<dl class=dl-horizontal>\n",
       "\t<dt>(Intercept)</dt>\n",
       "\t\t<dd>-138.268243715982</dd>\n",
       "\t<dt>sqrt(RH_20)</dt>\n",
       "\t\t<dd>5.84030116360067</dd>\n",
       "\t<dt>sqrt(RH_98)</dt>\n",
       "\t\t<dd>8.21498072073452</dd>\n",
       "</dl>\n"
      ],
      "text/latex": [
       "\\begin{description*}\n",
       "\\item[(Intercept)] -138.268243715982\n",
       "\\item[sqrt(RH\\textbackslash{}\\_20)] 5.84030116360067\n",
       "\\item[sqrt(RH\\textbackslash{}\\_98)] 8.21498072073452\n",
       "\\end{description*}\n"
      ],
      "text/markdown": [
       "(Intercept)\n",
       ":   -138.268243715982sqrt(RH_20)\n",
       ":   5.84030116360067sqrt(RH_98)\n",
       ":   8.21498072073452\n",
       "\n"
      ],
      "text/plain": [
       "(Intercept) sqrt(RH_20) sqrt(RH_98) \n",
       "-138.268244    5.840301    8.214981 "
      ]
     },
     "metadata": {},
     "output_type": "display_data"
    }
   ],
   "source": [
    "# summary\n",
    "summary(gedi_model)"
   ]
  },
  {
   "cell_type": "code",
   "execution_count": 38,
   "metadata": {},
   "outputs": [
    {
     "data": {
      "text/html": [
       "<dl class=dl-horizontal>\n",
       "\t<dt>(Intercept)</dt>\n",
       "\t\t<dd>-138.268243715982</dd>\n",
       "\t<dt>sqrt(RH_20)</dt>\n",
       "\t\t<dd>5.84030116360067</dd>\n",
       "\t<dt>sqrt(RH_98)</dt>\n",
       "\t\t<dd>8.21498072073452</dd>\n",
       "</dl>\n"
      ],
      "text/latex": [
       "\\begin{description*}\n",
       "\\item[(Intercept)] -138.268243715982\n",
       "\\item[sqrt(RH\\textbackslash{}\\_20)] 5.84030116360067\n",
       "\\item[sqrt(RH\\textbackslash{}\\_98)] 8.21498072073452\n",
       "\\end{description*}\n"
      ],
      "text/markdown": [
       "(Intercept)\n",
       ":   -138.268243715982sqrt(RH_20)\n",
       ":   5.84030116360067sqrt(RH_98)\n",
       ":   8.21498072073452\n",
       "\n"
      ],
      "text/plain": [
       "(Intercept) sqrt(RH_20) sqrt(RH_98) \n",
       "-138.268244    5.840301    8.214981 "
      ]
     },
     "metadata": {},
     "output_type": "display_data"
    },
    {
     "data": {
      "text/html": [
       "'/projects/r2d2/output_23//ATL08_20181014001049_02350102_003_01.csv'"
      ],
      "text/latex": [
       "'/projects/r2d2/output\\_23//ATL08\\_20181014001049\\_02350102\\_003\\_01.csv'"
      ],
      "text/markdown": [
       "'/projects/r2d2/output_23//ATL08_20181014001049_02350102_003_01.csv'"
      ],
      "text/plain": [
       "[1] \"/projects/r2d2/output_23//ATL08_20181014001049_02350102_003_01.csv\""
      ]
     },
     "metadata": {},
     "output_type": "display_data"
    },
    {
     "data": {
      "text/html": [
       "1284"
      ],
      "text/latex": [
       "1284"
      ],
      "text/markdown": [
       "1284"
      ],
      "text/plain": [
       "[1] 1284"
      ]
     },
     "metadata": {},
     "output_type": "display_data"
    }
   ],
   "source": [
    "# GEDI and ICEsat-2 variables\n",
    "coef(gedi_model)\n",
    "gedi_vars<-c('RH_20', 'RH_98')\n",
    "ice_vars<-c('rh25', 'rh95')\n",
    "\n",
    "# importing list of ICESat-2 30m ATL08\n",
    "icews<-\"~/r2d2/output_23/\" # using 100m ATL08 for now\n",
    "ice2_30_atl08<-list.files(icews, \".csv\", full.names = T)\n",
    "\n",
    "# print firt file in the list\n",
    "ice2_30_atl08[1]\n",
    "# length of the list\n",
    "length(ice2_30_atl08)"
   ]
  },
  {
   "cell_type": "code",
   "execution_count": 36,
   "metadata": {},
   "outputs": [],
   "source": [
    "# output directory\n",
    "outdir='~/r2d2/output_notebook_2.6'\n",
    "\n",
    "# adjust for offset in model fits (note, this was 20 for ages, and now it's 100; essentially we added to all the height metrics so they would never be negative)\n",
    "offset=10"
   ]
  },
  {
   "cell_type": "code",
   "execution_count": null,
   "metadata": {},
   "outputs": [],
   "source": [
    "# Apply GEDI AGB model to boreal\n",
    "applyToBoreal(model=gedi_model,ice2_30_atl08=ice2_30_atl08, outdir=outdir, offset=offset, gedi_vars=gedi_vars, ice_vars=ice_vars, overwrite=FALSE)"
   ]
  }
 ],
 "metadata": {
  "kernelspec": {
   "display_name": "R",
   "language": "R",
   "name": "ir"
  },
  "language_info": {
   "codemirror_mode": "r",
   "file_extension": ".r",
   "mimetype": "text/x-r-source",
   "name": "R",
   "pygments_lexer": "r",
   "version": "3.6.1"
  }
 },
 "nbformat": 4,
 "nbformat_minor": 4
}
