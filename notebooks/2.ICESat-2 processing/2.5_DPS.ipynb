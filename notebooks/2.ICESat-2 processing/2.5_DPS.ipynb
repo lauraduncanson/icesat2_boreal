{
 "cells": [
  {
   "cell_type": "code",
   "execution_count": 71,
   "metadata": {},
   "outputs": [],
   "source": [
    "from maap.maap import MAAP\n",
    "maap = MAAP()\n",
    "\n",
    "import ipycmc\n",
    "w = ipycmc.MapCMC()"
   ]
  },
  {
   "cell_type": "code",
   "execution_count": 72,
   "metadata": {},
   "outputs": [],
   "source": [
    "#load some other functions from maap.maap import MAAP\n",
    "import ipycmc\n",
    "import sys\n",
    "import maap\n",
    "import json\n",
    "import sys\n",
    "import shutil\n",
    "import requests\n",
    "import os\n",
    "from os import system\n",
    "maap = MAAP()"
   ]
  },
  {
   "cell_type": "code",
   "execution_count": 73,
   "metadata": {},
   "outputs": [],
   "source": [
    "#Step 2 - pull some data over area of interest\n",
    "#First, run function to return a list of granules toward batch processing\n",
    "def get_granules_list(granules):\n",
    "    url_list = []\n",
    "    output_list = []\n",
    "    for res in granules:\n",
    "        url_list.append(res.getDownloadUrl())\n",
    "\n",
    "    for url in url_list:\n",
    "        if url[0:5] == 's3://':\n",
    "            url = url[5:].split('/')\n",
    "            url[0] += '.s3.amazonaws.com'\n",
    "            url = 'https://' + '/'.join(url)\n",
    "        print(url)\n",
    "        output_list.append(url)\n",
    "    return output_list"
   ]
  },
  {
   "cell_type": "code",
   "execution_count": 74,
   "metadata": {},
   "outputs": [],
   "source": [
    "#Step 2 cont.\n",
    "#function to download a list of granules locally\n",
    "def download_granules(granules, output_dir):\n",
    "    url_list = []\n",
    "    for res in granules:\n",
    "        url_list.append(res.getDownloadUrl())\n",
    "\n",
    "    for url in url_list:\n",
    "        if url[0:5] == 's3://':\n",
    "            url = url[5:].split('/')\n",
    "            url[0] += '.s3.amazonaws.com'\n",
    "            url = 'https://' + '/'.join(url)\n",
    "        print(url)\n",
    "        name = output_dir + url.split('/')[-1]\n",
    "        print(name)\n",
    "        r = requests.get(url, allow_redirects=True)\n",
    "        open(name, 'wb').write(r.content)"
   ]
  },
  {
   "cell_type": "code",
   "execution_count": 165,
   "metadata": {},
   "outputs": [
    {
     "name": "stdout",
     "output_type": "stream",
     "text": [
      "20\n"
     ]
    }
   ],
   "source": [
    "# Step 2 cont.\n",
    "#download the files of interest to local workspace\n",
    "\n",
    "#atl03_granules=maap.searchGranule(collection_concept_id=\"C1200166513-NASA_MAAP\", bounding_box=\"-180.0,50.0,180.0,90.0\", limit=10)\n",
    "#atl08_granules=maap.searchGranule(collection_concept_id=\"C1200235747-NASA_MAAP\", bounding_box=\"-180.0,50.0,180.0,90.0\", limit=10)\n",
    "\n",
    "atl03_granules=maap.searchGranule(collection_concept_id=\"C1200166513-NASA_MAAP\", bounding_box=\"-102.7684,43.17366,-97.32037,47.48166\")\n",
    "atl08_granules=maap.searchGranule(collection_concept_id=\"C1200235747-NASA_MAAP\", bounding_box=\"-102.7684,43.17366,-97.32037,47.48166\")\n",
    "\n",
    "count=0\n",
    "for f in range(0,len(atl03_granules)):\n",
    "    ID = atl03_granules[f]['Granule']['OnlineAccessURLs']['OnlineAccessURL']['URL']\n",
    "    ID2 = atl08_granules[f]['Granule']['OnlineAccessURLs']['OnlineAccessURL']['URL']\n",
    "    #print(ID)\n",
    "    count=count+1\n",
    "    download_dir = '/projects/above/testing/30m_testing/'\n",
    "    existingfiles = [file for file in os.listdir(download_dir)]\n",
    "    if ID in existingfiles or ID2 in existingfiles:\n",
    "        print('file exists...')\n",
    "    else:                        \n",
    "        atl03_granules[f].getLocalPath(download_dir) \n",
    "        atl08_granules[f].getLocalPath(download_dir)    \n",
    "print(count)"
   ]
  },
  {
   "cell_type": "code",
   "execution_count": 76,
   "metadata": {},
   "outputs": [
    {
     "name": "stdout",
     "output_type": "stream",
     "text": [
      "https://cumulus-map-internal.s3.amazonaws.com/file-staging/nasa-map/ATL03___002/ATL03_20181014001049_02350102_002_01.h5\n",
      "https://cumulus-map-internal.s3.amazonaws.com/file-staging/nasa-map/ATL03___002/ATL03_20181014001920_02350103_002_01.h5\n",
      "https://cumulus-map-internal.s3.amazonaws.com/file-staging/nasa-map/ATL03___002/ATL03_20181014002445_02350104_002_01.h5\n",
      "https://cumulus-map-internal.s3.amazonaws.com/file-staging/nasa-map/ATL03___002/ATL03_20181014002954_02350105_002_01.h5\n",
      "https://cumulus-map-internal.s3.amazonaws.com/file-staging/nasa-map/ATL03___002/ATL03_20181014003519_02350106_002_01.h5\n",
      "https://cumulus-map-internal.s3.amazonaws.com/file-staging/nasa-map/ATL03___002/ATL03_20181014014507_02360102_002_01.h5\n",
      "https://cumulus-map-internal.s3.amazonaws.com/file-staging/nasa-map/ATL03___002/ATL03_20181014015337_02360103_002_01.h5\n",
      "https://cumulus-map-internal.s3.amazonaws.com/file-staging/nasa-map/ATL03___002/ATL03_20181014015902_02360104_002_01.h5\n",
      "https://cumulus-map-internal.s3.amazonaws.com/file-staging/nasa-map/ATL03___002/ATL03_20181014020411_02360105_002_01.h5\n",
      "https://cumulus-map-internal.s3.amazonaws.com/file-staging/nasa-map/ATL03___002/ATL03_20181014020936_02360106_002_01.h5\n",
      "https://cumulus-map-internal.s3.amazonaws.com/file-staging/nasa-map/ATL08___003/ATL08_20181014001049_02350102_003_01.h5\n",
      "https://cumulus-map-internal.s3.amazonaws.com/file-staging/nasa-map/ATL08___003/ATL08_20181014001920_02350103_003_01.h5\n",
      "https://cumulus-map-internal.s3.amazonaws.com/file-staging/nasa-map/ATL08___003/ATL08_20181014002445_02350104_003_01.h5\n",
      "https://cumulus-map-internal.s3.amazonaws.com/file-staging/nasa-map/ATL08___003/ATL08_20181014002954_02350105_003_01.h5\n",
      "https://cumulus-map-internal.s3.amazonaws.com/file-staging/nasa-map/ATL08___003/ATL08_20181014003519_02350106_003_01.h5\n",
      "https://cumulus-map-internal.s3.amazonaws.com/file-staging/nasa-map/ATL08___003/ATL08_20181014014507_02360102_003_01.h5\n",
      "https://cumulus-map-internal.s3.amazonaws.com/file-staging/nasa-map/ATL08___003/ATL08_20181014015337_02360103_003_01.h5\n",
      "https://cumulus-map-internal.s3.amazonaws.com/file-staging/nasa-map/ATL08___003/ATL08_20181014015902_02360104_003_01.h5\n",
      "https://cumulus-map-internal.s3.amazonaws.com/file-staging/nasa-map/ATL08___003/ATL08_20181014020411_02360105_003_01.h5\n",
      "https://cumulus-map-internal.s3.amazonaws.com/file-staging/nasa-map/ATL08___003/ATL08_20181014020936_02360106_003_01.h5\n"
     ]
    }
   ],
   "source": [
    "#figure out how to ensure matched pairs\n",
    "output_list_03 =  get_granules_list(atl03_granules)\n",
    "output_list_08 =  get_granules_list(atl08_granules)"
   ]
  },
  {
   "cell_type": "code",
   "execution_count": 142,
   "metadata": {},
   "outputs": [
    {
     "name": "stdout",
     "output_type": "stream",
     "text": [
      "https://cumulus-map-internal.s3.amazonaws.com/file-staging/nasa-map/ATL03___002/ATL03_20181014015337_02360103_002_01.h5\n",
      "https://cumulus-map-internal.s3.amazonaws.com/file-staging/nasa-map/ATL08___003/ATL08_20181014015337_02360103_003_01.h5\n"
     ]
    }
   ],
   "source": [
    "#atl03_granules[0].getDownloadUrl()\n",
    "print(output_list_03[6])\n",
    "print(output_list_08[6])\n",
    "#ATL08_30m_20181014001920_02350103_003_01"
   ]
  },
  {
   "cell_type": "code",
   "execution_count": 11,
   "metadata": {},
   "outputs": [],
   "source": [
    "#Test the code on the downloaded data, typically in command line\n",
    "# conda create "
   ]
  },
  {
   "cell_type": "code",
   "execution_count": null,
   "metadata": {},
   "outputs": [],
   "source": [
    "# Step 7 - run a DPS job!\n",
    "#first, pick the files you want to run in DPS\n",
    "#bounding box North America north of 50 degrees lat\n",
    "ice2_granules=maap.searchGranule(collection_concept_id=\"C1200116818-NASA_MAAP\", bounding_box=\"-152.5534776481967,50.0,-50.78405971406124,80.10902122001679\", limit=10000)\n"
   ]
  },
  {
   "cell_type": "code",
   "execution_count": 158,
   "metadata": {},
   "outputs": [
    {
     "name": "stdout",
     "output_type": "stream",
     "text": [
      "{'status': 'success', 'http_status_code': 200, 'job_id': 'b08076db-9845-47b9-a9a4-b1e09e932ba0'}\n"
     ]
    }
   ],
   "source": [
    "#Step 7 cont.\n",
    "#try to submit a MAAP job on a single file\n",
    "result = maap.submitJob(\n",
    "    identifier='nothing',\n",
    "    algo_id='run_rebinning_ubuntu',\n",
    "    version='master',\n",
    "    username='r2d2',\n",
    "    #ice2_granules='https://cumulus-map-internal.s3.amazonaws.com/file-staging/nasa-map/ATL08___002/ATL08_20190612084236_11470302_002_01.h5')\n",
    "    input_atl03 = output_list_03[6],\n",
    "    input_atl08 = output_list_08[6],\n",
    "    output = '/output')\n",
    "print(result)"
   ]
  },
  {
   "cell_type": "code",
   "execution_count": 93,
   "metadata": {},
   "outputs": [
    {
     "name": "stdout",
     "output_type": "stream",
     "text": [
      "{'status': 'success', 'http_status_code': 200, 'job_id': 'da714755-0f25-4e76-a824-45406757169a'}\n",
      "{'status': 'success', 'http_status_code': 200, 'job_id': '1c804afd-89d2-43d9-83bd-2a65bd659aa6'}\n",
      "{'status': 'success', 'http_status_code': 200, 'job_id': '39fedad4-6ad2-4c99-a344-4badbf847a81'}\n",
      "{'status': 'success', 'http_status_code': 200, 'job_id': 'bfa83104-4dc7-4652-b487-a7d70cae719c'}\n",
      "{'status': 'success', 'http_status_code': 200, 'job_id': '1903d9b3-4951-4da5-b4de-1b31dec72133'}\n",
      "{'status': 'success', 'http_status_code': 200, 'job_id': 'add2a941-438e-46ca-ad4d-317bfc745089'}\n",
      "{'status': 'success', 'http_status_code': 200, 'job_id': 'a0006dcb-ab68-45ad-9538-b5148c4b81e2'}\n",
      "{'status': 'success', 'http_status_code': 200, 'job_id': 'df09879a-7c45-4edc-adeb-f7eba65356e9'}\n",
      "{'status': 'success', 'http_status_code': 200, 'job_id': 'b77e3b59-ed5a-457e-b37e-366e4f4074b6'}\n",
      "{'status': 'success', 'http_status_code': 200, 'job_id': 'fc24fee3-a15b-46ca-a0ff-403da11ba1ea'}\n"
     ]
    }
   ],
   "source": [
    "#Step 8\n",
    "#submit many jobs in a loop to process many files\n",
    "#ices_granule_id is the list of all the files, this loops through and submits a job for each\n",
    "#for g in range(0,len(atl03_granules)):\n",
    "#    granule = g\n",
    "#    submit_result = maap.submitJob(identifier='ice2', \n",
    "#                                   algo_id='run_rebinning_ubuntu', \n",
    "#                                   version='master', \n",
    "#                                   username='r2d2', \n",
    "#                                   ice2_granules=granule)\n",
    "#    print(submit_result)\n",
    "    \n",
    "    #simplified version\n",
    "for g in range(0,len(output_list_03)):\n",
    "    submit_result = maap.submitJob(identifier=\"nothing\",\n",
    "                                   algo_id=\"run_rebinning_ubuntu\",\n",
    "                                   version=\"master\",\n",
    "                                   username=\"r2d2\",\n",
    "                                   input_atl03=output_list_03[g], \n",
    "                                   input_atl08=output_list_08[g],\n",
    "                                   output = '/')\n",
    "    print(submit_result)"
   ]
  },
  {
   "cell_type": "code",
   "execution_count": null,
   "metadata": {},
   "outputs": [],
   "source": [
    "#Step 9: analyze results\n",
    "#move all output csv files from super nested dps_output folder to a folder of interest\n",
    "import os, glob\n",
    "import shutil\n",
    "output_dir = \"/projects/r2d2/icesat2_batch_demo/csv_out\"\n",
    "base_dir = \"/projects/r2d2/dps_output/run_icesat2_gabon_ubuntu\"\n",
    "for file in glob.glob(\"/projects/r2d2/dps_output/run_icesat2_gabon_ubuntu/master/2020/05/12/**/*.csv\", recursive=True):\n",
    "    print(file)\n",
    "    shutil.copyfile(file, os.path.join(output_dir, os.path.basename(file)))"
   ]
  },
  {
   "cell_type": "code",
   "execution_count": 1,
   "metadata": {},
   "outputs": [
    {
     "data": {
      "image/png": "[encoded data removed]",
      "text/plain": [
       "<Figure size 432x288 with 1 Axes>"
      ]
     },
     "metadata": {
      "needs_background": "light"
     },
     "output_type": "display_data"
    }
   ],
   "source": [
    "import h5py\n",
    "import numpy as np\n",
    "atl08 = '/projects/r2d2/dps_output/run_rebinning_ubuntu/master/2021/02/25/19/30/30/580717/ATL08_30m_20181014001049_02350102_003_01.h5'\n",
    "atl08 = '/projects/r2d2/dps_output/run_rebinning_ubuntu/master/2021/02/25/20/04/36/755529/ATL08_30m_20181014001049_02350102_003_01.h5'\n",
    "#atl08 = '/projects/r2d2/dps_output/run_rebinning_ubuntu/master/2021/02/25/20/04/33/115612/ATL08_30m_20181014001920_02350103_003_01.h5'\n",
    "#atl08 = '/projects/above/testing/30m_testing/outputs/ATL08_30m_20181014001049_02350102_003_01.h5'\n",
    "atl08 = '/projects/r2d2/dps_output/run_rebinning_ubuntu/master/2021/02/25/20/02/14/904879/ATL08_30m_20181014002445_02350104_003_01.h5'\n",
    "atl08 = '/projects/r2d2/dps_output/run_rebinning_ubuntu/master/2021/02/25/20/02/18/011001/ATL08_30m_20181014003519_02350106_003_01.h5'\n",
    "atl08 = '/projects/r2d2/dps_output/run_rebinning_ubuntu/master/2021/02/25/20/04/33/115612/ATL08_30m_20181014001920_02350103_003_01.h5'\n",
    "atl08 = '/projects/r2d2/dps_output/run_rebinning_ubuntu/master/2021/02/26/00/11/27/770529/ATL08_30m_20181014015337_02360103_003_01.h5'\n",
    "atl08 = '/projects/above/testing/30m_testing/outputs/ATL08_30m_20181014015337_02360103_003_01.h5'\n",
    "atl08 = '/projects/r2d2/dps_output/run_rebinning_ubuntu/master/2021/02/26/01/42/50/043564/ATL08_30m_20181014015337_02360103_003_01.h5'\n",
    "f = h5py.File(atl08,'r')\n",
    "#x = np.asarray(f['gt1l/land_segments/30m_segment/msw_flag'])\n",
    "#x = np.asarray(f['gt1l/land_segments/30m_segment/latitude'])\n",
    "#x = np.asarray(f['gt1l/land_segments/30m_segment/gedi_rh_100'])\n",
    "x = np.asarray(f['gt1l/land_segments/30m_segment/atl03_ground_median'])\n",
    "#x = np.asarray(f['gt1l/land_segments/30m_segment/bin_id'])\n",
    "#x = np.asarray(f['gt1l/land_segments/30m_segment/atl03_n_ground'])\n",
    "#x = np.asarray(f['gt1l/land_segments/canopy/h_canopy'])\n",
    "import matplotlib.pyplot as plt\n",
    "plt.plot(x,'.')\n",
    "\n"
   ]
  },
  {
   "cell_type": "code",
   "execution_count": null,
   "metadata": {},
   "outputs": [],
   "source": []
  }
 ],
 "metadata": {
  "kernelspec": {
   "display_name": "Python 3",
   "language": "python",
   "name": "python3"
  },
  "language_info": {
   "codemirror_mode": {
    "name": "ipython",
    "version": 3
   },
   "file_extension": ".py",
   "mimetype": "text/x-python",
   "name": "python",
   "nbconvert_exporter": "python",
   "pygments_lexer": "ipython3",
   "version": "3.7.6"
  }
 },
 "nbformat": 4,
 "nbformat_minor": 4
}
