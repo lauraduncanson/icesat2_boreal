{
 "cells": [
  {
   "cell_type": "markdown",
   "id": "bdb4b186-a9ee-47fc-b746-fbb6da6d69b5",
   "metadata": {},
   "source": [
    "# Process ATL08 in Boreal with 30m rebinning via Sliderule \n",
    "\n",
    "Early versions of the ICESat-2 ATL08 processing workflow steps:\n",
    "1. convert ATL08 100 m granules into ATL08 30 m granules\n",
    "2. clip to tiles, filter, and convert the ATL08 30 m from .h5 granules to .csvs\n",
    "\n",
    "This version aims to do all of those steps to simplify the process.  This notebook will show:\n",
    "1. Select a particular tile\n",
    "2. Use Sliderule to:  \n",
    " pull out all of the measurements over a specific tile  \n",
    " arrange them into 30m along-track segments using the `above_classifier`  \n",
    "3. Filter the ATL08 geodataframe returning geoparquet files for each tile"
   ]
  },
  {
   "cell_type": "markdown",
   "id": "1afd9cb1-72ed-4ba4-a9bb-7439af32d228",
   "metadata": {},
   "source": [
    "## Import libaries\n",
    "Importing libs, in particular the sliderule.  This is installed onto the workspace with a conda call such as:\n",
    "\n",
    "`conda install -c conda-forge sliderule`\n",
    "\n",
    "After the package is installed in the workspace, it can be imported as normal"
   ]
  },
  {
   "cell_type": "code",
   "execution_count": null,
   "id": "44317fe9-2967-46a8-8edf-1e026d8e8434",
   "metadata": {
    "tags": []
   },
   "outputs": [],
   "source": [
    "conda update -c conda-forge sliderule"
   ]
  },
  {
   "cell_type": "code",
   "execution_count": 30,
   "id": "f9ab4102-1080-4ed6-8338-8f11ccd46380",
   "metadata": {
    "tags": []
   },
   "outputs": [],
   "source": [
    "import matplotlib.pyplot as plt\n",
    "import matplotlib\n",
    "import geopandas as gpd\n",
    "import logging \n",
    "import sliderule\n",
    "from sliderule import icesat2"
   ]
  },
  {
   "cell_type": "code",
   "execution_count": 31,
   "id": "3528820b-45f1-438e-99fa-16554c914ac1",
   "metadata": {
    "tags": []
   },
   "outputs": [
    {
     "data": {
      "text/plain": [
       "'4.7.1'"
      ]
     },
     "execution_count": 31,
     "metadata": {},
     "output_type": "execute_result"
    }
   ],
   "source": [
    "sliderule.__version__"
   ]
  },
  {
   "cell_type": "code",
   "execution_count": 35,
   "id": "246755e0-3dbf-4d2e-88ce-77b9151c49c2",
   "metadata": {
    "tags": []
   },
   "outputs": [
    {
     "name": "stderr",
     "output_type": "stream",
     "text": [
      "INFO:sliderule.sliderule:Setting URL to slideruleearth.io\n",
      "INFO:sliderule.sliderule:Login status to slideruleearth.io/sliderule: failure\n"
     ]
    },
    {
     "data": {
      "text/plain": [
       "True"
      ]
     },
     "execution_count": 35,
     "metadata": {},
     "output_type": "execute_result"
    }
   ],
   "source": [
    "sliderule.init()"
   ]
  },
  {
   "cell_type": "code",
   "execution_count": 36,
   "id": "a2880e42-f832-48ad-92ea-ae42c009b440",
   "metadata": {
    "tags": []
   },
   "outputs": [],
   "source": [
    "ICESAT2_BOREAL_REPO_PATH = '/projects/code/icesat2_boreal'               #'/projects/icesat2_boreal' # /projects/Developer/icesat2_boreal/lib\n",
    "ICESAT2_BOREAL_LIB_PATH = ICESAT2_BOREAL_REPO_PATH + '/lib'\n",
    "import sys, os\n",
    "sys.path.append(ICESAT2_BOREAL_LIB_PATH)\n",
    "import CovariateUtils\n",
    "import maplib_folium\n",
    "import mosaiclib\n",
    "from mosaiclib import *\n",
    "from pathlib import Path\n",
    "import glob"
   ]
  },
  {
   "cell_type": "markdown",
   "id": "e3350172-5600-4f3b-8753-52c4766972d0",
   "metadata": {},
   "source": [
    "## Part 1: Read Boreal Tile Geopackage w/ locations of tiles\n",
    "\n",
    "Tiles define the polygon extents used in the spatial selection of ATL03/08"
   ]
  },
  {
   "cell_type": "code",
   "execution_count": 37,
   "id": "e536c1fd-8ed3-4fc4-9608-dd19617d1073",
   "metadata": {
    "tags": []
   },
   "outputs": [],
   "source": [
    "# Boreal Tiles \n",
    "boreal_tiles_model_ready_fn = '/projects/shared-buckets/montesano/databank/boreal_tiles_v004_model_ready.gpkg'\n",
    "boreal_tiles = gpd.read_file(boreal_tiles_model_ready_fn)"
   ]
  },
  {
   "cell_type": "code",
   "execution_count": 38,
   "id": "369ea96a-13ea-46d1-a9b0-83f2ebebe73c",
   "metadata": {
    "tags": []
   },
   "outputs": [
    {
     "data": {
      "text/plain": [
       "4956"
      ]
     },
     "execution_count": 38,
     "metadata": {},
     "output_type": "execute_result"
    }
   ],
   "source": [
    "len(boreal_tiles)"
   ]
  },
  {
   "cell_type": "markdown",
   "id": "8038b865-a855-4804-a4bf-90031224bdac",
   "metadata": {},
   "source": [
    "## Part 2: Collect ATL08 by tile via Sliderule\n",
    "\n",
    "Next part uses Sliderule to find ATL08 measurements within a tile.  Sliderule will also re-aggregate ATL08 data from 100 m alongtrack measurements to 30 m alongtrack measurements using `PhoReal`.  The result will put the results in a `geopandas` dataframe.\n",
    "\n",
    "\n",
    "### Initialize Sliderule Client\n",
    "- For public use, the default organization's node is `sliderule`;  \n",
    "- For non-public use and testing, the `utexas` node can be used.  \n",
    "     + a `.netrc` file will need to be configured.\n",
    "- Number of nodes will increase speed, for now we will just use '1'\n",
    "- More info on initializing is given here: https://slideruleearth.io/web/rtd/api_reference/icesat2.html#init\n",
    "\n",
    "`NOTE`: (Feb 2024)   \n",
    "using public branch of SlideRule  \n",
    "    + the latest bug fix isnt on this public branch  \n",
    "    + better to run on `utexas` node - but need to figure out permissions issue when run from ADE  \n",
    "    \n",
    "flag bug will still be here (2/22/2024) \n",
    "+ any flag that uses integers\n",
    "+ indexing bug - so flag get incorrectly associated to the observations"
   ]
  },
  {
   "cell_type": "markdown",
   "id": "5d792e6a-f1e5-42f1-a393-7eaca7b4e5b9",
   "metadata": {
    "tags": []
   },
   "source": [
    "### Processing parameters\n",
    "\n",
    "For the sliderule query, we need to establish search parameters, these include:\n",
    " - Our geographic AOI (the tile extent)\n",
    " - t0 and t1 time start and time stop to query.  For testing we are just doing 1 year's worth of data\n",
    " - SRT (surface type) is defaulted to land, this is a required paramter but is not important for ATL08 sliderule\n",
    " - 'len' is the length of each extent in meters - this should be our bin size\n",
    " - 'res'  step distance for successive extents in meters - this needs to be the same as len for our purposes\n",
    " - 'pass_invalid' flag indicating whether or not extents that fail validation checks are still used and returned in the results - set 'True'\n",
    " - 'atl08_class' is set to ground, canopy, and top of canopy\n",
    " - 'atl08_fields' should be set to all fields of interest, in our case fields that we want to later apply filtering\n",
    " \n",
    " As for fields required, for the current iteration of filtering, `['h_can', 'h_can_unc','h_dif_ref','m','msw_flg','beam_type','seg_snow', 'sig_topo','seg_cover','sol_el','seg_landcov']` are used.  There are a few differences in PhoREAL naming conventions and Sliderule.  PhoREAL naming conventions were created to fit better into other functionality of PhoREAL while SlideRule fields are pulled directly from ATL08 (for the most part).  Here are how these map:\n",
    " \n",
    "```\n",
    "PhoREAL     : Sliderule\n",
    "h_can       : h_canopy #(default field, doesn't need to be listed)\n",
    "h_can_unc   : canopy/h_canopy_uncertainty #(field is in the 'canopy' subfield)\n",
    "h_dif_ref   : h_dif_ref\n",
    "m           : time #(month needs to be unpacked)\n",
    "msw_flag    : msw_flag\n",
    "beam_type   : spot #(will need to be converted to 'weak' and 'strong')\n",
    "seg_snow    : snowcover #(default field)\n",
    "sig_topo    : sigma_topo\n",
    "seg_cover   : canopy/segment_cover #(field is in the 'canopy' subfield)\n",
    "sol_el      : solar_elevation\n",
    "seg_landcov : segment_landcover\n",
    "rh25        : canopy_h_metrics[3]\n",
    "rh50        : canopy_h_metrics[8]\n",
    "rh60        : canopy_h_metrics[10]\n",
    "rh70        : canopy_h_metrics[12]\n",
    "rh75        : canopy_h_metrics[13]\n",
    "rh80        : canopy_h_metrics[14]\n",
    "rh85        : canopy_h_metrics[15]\n",
    "rh90        : canopy_h_metrics[16]\n",
    "rh95        : canopy_h_metrics[17]\n",
    "```\n",
    "\n",
    "Also the relative height metrics stored in PhoREAL as `rh25, rh50, rh60` etc. are stored in the `canopy_h_metrics`.  `canopy_h_metrics` store the percentile metrics as shown:\n",
    "```\n",
    "0 ,  1,  2,  3,  4,  5,  6,  7,  8,  9, 10, 11, 12, 13, 14, 15, 16, 17\n",
    "10, 15, 20, 25, 30, 35, 40, 45, 50, 55, 60, 65, 70, 75, 80, 85, 90, 95\n",
    "```\n",
    "\n",
    " First we will convert the extent to a polygon object"
   ]
  },
  {
   "cell_type": "markdown",
   "id": "8792229b-6831-4784-a064-04e930035b74",
   "metadata": {},
   "source": [
    "## Process ATL08 boreal\n",
    "We custom process ATL08 for our boreal map. This involves:  \n",
    "1. wrapping SlideRule and locking most SlideRule parameters\n",
    "2. returning a geodataframe from SlideRule within the function\n",
    "3. applying downstream custom ATL08 quality filtering on this geodataframe\n",
    "4. writing a geoparquet of the final set of filtered ATL08; writing a companion metadata CSV  "
   ]
  },
  {
   "cell_type": "code",
   "execution_count": 7,
   "id": "8c630741-b239-444c-b6ed-4ae04a1b3512",
   "metadata": {
    "tags": []
   },
   "outputs": [],
   "source": [
    "from multiprocessing import Pool\n",
    "from functools import partial"
   ]
  },
  {
   "cell_type": "code",
   "execution_count": 8,
   "id": "40b03498-6234-4033-b1f0-1eed377bcb8e",
   "metadata": {
    "tags": []
   },
   "outputs": [
    {
     "data": {
      "text/plain": [
       "31"
      ]
     },
     "execution_count": 8,
     "metadata": {},
     "output_type": "execute_result"
    }
   ],
   "source": [
    "import multiprocessing as mp\n",
    "n_cpu = mp.cpu_count() - 1\n",
    "n_cpu"
   ]
  },
  {
   "cell_type": "markdown",
   "id": "647de1c5-cbe2-4868-843a-b72b86abd874",
   "metadata": {
    "tags": []
   },
   "source": [
    "### Build a list of missing tiles"
   ]
  },
  {
   "cell_type": "code",
   "execution_count": 9,
   "id": "c2f9c625-5075-417f-93c1-744c585d6ff5",
   "metadata": {
    "tags": []
   },
   "outputs": [],
   "source": [
    "YEAR_ATL08 = 2020"
   ]
  },
  {
   "cell_type": "code",
   "execution_count": 10,
   "id": "06dbb84d-7b19-4c61-b1bb-067767c50d4c",
   "metadata": {
    "tags": []
   },
   "outputs": [],
   "source": [
    "import s3fs"
   ]
  },
  {
   "cell_type": "code",
   "execution_count": 11,
   "id": "de444de0-511e-4305-afc3-48dc421e6795",
   "metadata": {
    "tags": []
   },
   "outputs": [],
   "source": [
    "s3 = s3fs.S3FileSystem(anon=False)"
   ]
  },
  {
   "cell_type": "code",
   "execution_count": 12,
   "id": "ac6ca917-8053-494d-842a-3f9f343a14bf",
   "metadata": {
    "tags": []
   },
   "outputs": [],
   "source": [
    "def get_missing_boreal_tiles_atl08(boreal_tiles, GLOB_STR=f'/projects/my-private-bucket/data/process_atl08_boreal/030m/{YEAR_ATL08}/*.parquet'):\n",
    "    missing_tile_list = []\n",
    "    f_list = glob.glob(GLOB_STR)\n",
    "    # This glob wasnt updating???\n",
    "    #f_list = s3.glob('s3://maap-ops-workspace/montesano/data/process_atl08_boreal/030m/2020/*.parquet')\n",
    "    completed_tile_list = [int(f.split('_')[-1].split('.')[0]) for f in f_list]\n",
    "    print(f'Completed tiles: {len(completed_tile_list)}')\n",
    "    missing_tile_list = boreal_tiles[~boreal_tiles.tile_num.isin(completed_tile_list)].tile_num.to_list()\n",
    "    print(f'Missing tiles: {len(missing_tile_list)}')\n",
    "    return missing_tile_list"
   ]
  },
  {
   "cell_type": "code",
   "execution_count": null,
   "id": "50a8f4b3-6463-47d8-b4ea-7eb20e36a784",
   "metadata": {
    "tags": []
   },
   "outputs": [],
   "source": [
    "boreal_select = boreal_tiles[boreal_tiles.tile_num.isin(get_missing_boreal_tiles_atl08(boreal_tiles))]\n",
    "\n",
    "m = boreal_tiles.explore(color='black')\n",
    "boreal_select.explore(m=m, color='red')"
   ]
  },
  {
   "cell_type": "markdown",
   "id": "46be4691-2519-4f44-8243-d401c257e60c",
   "metadata": {},
   "source": [
    "## Initialize server to process ATL08 with SlidRule"
   ]
  },
  {
   "cell_type": "code",
   "execution_count": 39,
   "id": "834d2720-d85a-4b2e-80bd-da441ff74128",
   "metadata": {
    "tags": []
   },
   "outputs": [],
   "source": [
    "import process_atl08_boreal\n",
    "import time"
   ]
  },
  {
   "cell_type": "code",
   "execution_count": 40,
   "id": "4df844fc-b44e-41ab-9820-4fd1bf662e0d",
   "metadata": {
    "tags": []
   },
   "outputs": [
    {
     "data": {
      "text/plain": [
       "<module 'process_atl08_boreal' from '/projects/code/icesat2_boreal/lib/process_atl08_boreal.py'>"
      ]
     },
     "execution_count": 40,
     "metadata": {},
     "output_type": "execute_result"
    }
   ],
   "source": [
    "import importlib\n",
    "importlib.reload(process_atl08_boreal)"
   ]
  },
  {
   "cell_type": "code",
   "execution_count": 41,
   "id": "d6a9e326-3b90-4369-ba59-24482618081d",
   "metadata": {
    "tags": []
   },
   "outputs": [],
   "source": [
    "def sliderule_init(PUBLIC=False):\n",
    "    logging.basicConfig(level=logging.INFO)\n",
    "    if PUBLIC:\n",
    "        sliderule.init(\"slideruleearth.io\", verbose=True, loglevel=logging.INFO, \n",
    "                     organization='sliderule', #'utexas'\n",
    "                     desired_nodes=5)\n",
    "    else:\n",
    "        # This version has the update that fixes an insidious flag bug (2/22/2024)\n",
    "        sliderule.init(\"slideruleearth.io\", verbose=True, loglevel=logging.INFO, \n",
    "                     organization='utexas', \n",
    "                     desired_nodes=10, time_to_live=720)"
   ]
  },
  {
   "cell_type": "code",
   "execution_count": 42,
   "id": "3c03bca6-2772-4530-8789-e8ef9f5034fb",
   "metadata": {
    "tags": []
   },
   "outputs": [
    {
     "name": "stderr",
     "output_type": "stream",
     "text": [
      "INFO:sliderule.sliderule:Setting URL to slideruleearth.io\n",
      "INFO:sliderule.sliderule:Login status to slideruleearth.io/sliderule: failure\n"
     ]
    },
    {
     "data": {
      "text/plain": [
       "True"
      ]
     },
     "execution_count": 42,
     "metadata": {},
     "output_type": "execute_result"
    }
   ],
   "source": [
    "sliderule.init()"
   ]
  },
  {
   "cell_type": "code",
   "execution_count": null,
   "id": "44dc59c5-41e0-45f5-a731-e347cf0e09fd",
   "metadata": {
    "tags": []
   },
   "outputs": [],
   "source": [
    "sliderule_init(PUBLIC=False)"
   ]
  },
  {
   "cell_type": "markdown",
   "id": "d18e9742-46f7-486f-b3f2-a2987ea4d811",
   "metadata": {},
   "source": [
    "### Examine antimeridian (aka dateline) lon value issue\n",
    "\n",
    "Dateline tile issue: 179 or -179 with .99999 (5 decimal places) will return 0 obs - but .9999 (4 decimal places) works  \n",
    "Need to truncate dateline lons to 4 decimal places"
   ]
  },
  {
   "cell_type": "code",
   "execution_count": 21,
   "id": "ecacfbea-cef9-4961-a7aa-e4b8664be60f",
   "metadata": {
    "tags": []
   },
   "outputs": [
    {
     "data": {
      "text/plain": [
       "[{'lon': -164.29320231386376, 'lat': 64.84902812660454},\n",
       " {'lon': -163.83496294529945, 'lat': 65.62353946868593},\n",
       " {'lon': -165.7687890462486, 'lat': 65.80241344492612},\n",
       " {'lon': -166.1756276008608, 'lat': 65.02272232340817},\n",
       " {'lon': -164.29320231386376, 'lat': 64.84902812660454}]"
      ]
     },
     "execution_count": 21,
     "metadata": {},
     "output_type": "execute_result"
    }
   ],
   "source": [
    "region = sliderule.toregion(boreal_tiles[boreal_tiles.tile_num == 3638].to_crs(4326), cellsize=0.02)\n",
    "region['poly']"
   ]
  },
  {
   "cell_type": "code",
   "execution_count": 22,
   "id": "e325e571-e9d6-4b4e-984a-1aba00abf026",
   "metadata": {
    "tags": []
   },
   "outputs": [],
   "source": [
    "t0_year=2019 \n",
    "t1_year=2019 \n",
    "minmonth=6 \n",
    "maxmonth=9\n",
    "seg_length = 30\n",
    "maxday = 30\n",
    "\n",
    "params_atl08 = {\n",
    "        # \"poly\": [{'lat': 67.2030717135289, 'lon': 179.999}, \n",
    "        #          {'lat': 66.40422871891515, 'lon': 179.999}, \n",
    "        #          {'lat': 66.39431431980967, 'lon': 178.15683833158522}, \n",
    "        #          {'lat': 67.19283094209065, 'lon': 178.09924555388685}],\n",
    "        # \"poly\": [{'lat': 67.20295965989025, 'lon': -179.80114256174957}, \n",
    "        #          {'lat': 66.40412023797514, 'lon': -179.80717097235674}, \n",
    "        #          {'lat': 66.40422871891515, 'lon': -179.99999}, \n",
    "        #          {'lat': 67.2030717135289, 'lon': -179.99999}],\n",
    "        \"poly\": region['poly'],\n",
    "        \"t0\": f'{t0_year}-{minmonth:02}-01T00:00:00Z',\n",
    "        \"t1\": f'{t1_year}-{maxmonth:02}-{maxday}T00:00:00Z',\n",
    "        \"srt\": icesat2.SRT_LAND,\n",
    "        \"len\": seg_length,\n",
    "        \"res\": seg_length,\n",
    "        \"pass_invalid\": True, \n",
    "        \"atl08_class\": [\"atl08_ground\", \"atl08_canopy\", \"atl08_top_of_canopy\"],\n",
    "        \"atl08_fields\": [\"canopy/h_canopy_uncertainty\",\"h_dif_ref\",\"msw_flag\",\"sigma_topo\",\"segment_landcover\",\"canopy/segment_cover\",\"segment_snowcover\",\"terrain/h_te_uncertainty\"],\n",
    "    #'segment_cover' and 'h_canopy_uncertainty' need to be added\n",
    "        #\"atl08_fields\": [\"h_dif_ref\",\"msw_flag\",\"sigma_topo\",\"segment_landcover\"],\n",
    "        \"phoreal\": {\"binsize\": 1.0, \"geoloc\": \"center\", \"above_classifier\": True, \"use_abs_h\": False, \"send_waveform\": False}\n",
    "    }"
   ]
  },
  {
   "cell_type": "code",
   "execution_count": 23,
   "id": "d5fa45c4-75e1-4cd8-a82c-4aaf480c8b9c",
   "metadata": {
    "tags": []
   },
   "outputs": [],
   "source": [
    "import math\n",
    "\n",
    "def truncate(number, digits) -> float:\n",
    "    # Improve accuracy with floating point operations, to avoid truncate(16.4, 2) = 16.39 or truncate(-1.13, 2) = -1.12\n",
    "    nbDecimals = len(str(number).split('.')[1]) \n",
    "    if nbDecimals <= digits:\n",
    "        return number\n",
    "    stepper = 10.0 ** digits\n",
    "    return math.trunc(stepper * number) / stepper"
   ]
  },
  {
   "cell_type": "code",
   "execution_count": 24,
   "id": "1d5c1996-5aec-42c2-8f0b-7313fb7ccc65",
   "metadata": {
    "tags": []
   },
   "outputs": [
    {
     "name": "stdout",
     "output_type": "stream",
     "text": [
      "Orig: -164.29320231386376\n",
      "Orig: -163.83496294529945\n",
      "Orig: -165.7687890462486\n",
      "Orig: -166.1756276008608\n",
      "Orig: -164.29320231386376\n"
     ]
    }
   ],
   "source": [
    "for i,point in enumerate(params_atl08['poly']):\n",
    "    print(f\"Orig: {point['lon']}\")\n",
    "    if abs(point['lon']) > 179.9999:\n",
    "        params_atl08['poly'][i]['lon'] = truncate(point['lon'], 4)\n",
    "        print(f\"\\tTruncated: {params_atl08['poly'][i]['lon']}\")"
   ]
  },
  {
   "cell_type": "code",
   "execution_count": 121,
   "id": "dcef70c5-eae1-47a1-8e17-0a5b8807559a",
   "metadata": {
    "tags": []
   },
   "outputs": [],
   "source": [
    "params_atl08[\"poly\"] = params_atl03[\"poly\"]"
   ]
  },
  {
   "cell_type": "code",
   "execution_count": 122,
   "id": "5e6c239c-5c37-45fa-afeb-b05757ce1431",
   "metadata": {
    "tags": []
   },
   "outputs": [
    {
     "name": "stderr",
     "output_type": "stream",
     "text": [
      "INFO:sliderule.sliderule:request <AppServer.42269> retrieved 21 resources from CMR\n",
      "INFO:sliderule.sliderule:Starting proxy for atl08 to process 21 resource(s) with 21 thread(s)\n",
      "INFO:sliderule.sliderule:request <AppServer.42270> processing initialized on ATL03_20190726011248_04270405_006_02.h5 ...\n",
      "INFO:sliderule.sliderule:request <AppServer.42271> processing initialized on ATL03_20190823234858_08690405_006_02.h5 ...\n",
      "INFO:sliderule.sliderule:request <AppServer.42164> processing initialized on ATL03_20190716131008_02820403_006_02.h5 ...\n",
      "INFO:sliderule.sliderule:request <AppServer.42225> processing initialized on ATL03_20190912102226_11660403_006_02.h5 ...\n",
      "INFO:sliderule.sliderule:request <AppServer.42466> processing initialized on ATL03_20190925221644_13720405_006_02.h5 ...\n",
      "INFO:sliderule.sliderule:request <AppServer.42205> processing initialized on ATL03_20190917223321_12500405_006_02.h5 ...\n",
      "INFO:sliderule.sliderule:request <AppServer.42467> processing initialized on ATL03_20190623024510_13110305_006_02.h5 ...\n",
      "INFO:sliderule.sliderule:request <AppServer.47622> processing initialized on ATL03_20190712131827_02210403_006_02.h5 ...\n",
      "INFO:sliderule.sliderule:request <AppServer.47621> processing initialized on ATL03_20190722012105_03660405_006_02.h5 ...\n",
      "INFO:sliderule.sliderule:request <AppServer.42148> processing initialized on ATL03_20190908103045_11050403_006_02.h5 ...\n",
      "INFO:sliderule.sliderule:request <AppServer.42165> processing initialized on ATL03_20190810115440_06630403_006_02.h5 ...\n",
      "INFO:sliderule.sliderule:request <AppServer.42224> processing initialized on ATL03_20190617143416_12270303_006_02.h5 ...\n",
      "INFO:sliderule.sliderule:request <AppServer.42206> processing initialized on ATL03_20190613144236_11660303_006_02.h5 ...\n",
      "INFO:sliderule.sliderule:request <AppServer.47623> processing initialized on ATL03_20190806120300_06020403_006_02.h5 ...\n",
      "INFO:sliderule.sliderule:request <AppServer.42149> processing initialized on ATL03_20190819235717_08080405_006_02.h5 ...\n",
      "INFO:sliderule.sliderule:request <AppServer.2428> processing initialized on ATL03_20190827234038_09300405_006_02.h5 ...\n",
      "INFO:sliderule.sliderule:request <AppServer.2429> processing initialized on ATL03_20190814114620_07240403_006_02.h5 ...\n",
      "INFO:sliderule.sliderule:request <AppServer.42062> processing initialized on ATL03_20190619025330_12500305_006_02.h5 ...\n",
      "INFO:sliderule.sliderule:request <AppServer.42279> processing initialized on ATL03_20190921222502_13110405_006_02.h5 ...\n",
      "INFO:sliderule.sliderule:request <AppServer.42061> processing initialized on ATL03_20190916101407_12270403_006_02.h5 ...\n",
      "INFO:sliderule.sliderule:request <AppServer.42278> processing initialized on ATL03_20190609145056_11050303_006_02.h5 ...\n",
      "INFO:sliderule.sliderule:Successfully completed processing resource [5 out of 21]: ATL03_20190716131008_02820403_006_02.h5\n",
      "INFO:sliderule.sliderule:Successfully completed processing resource [3 out of 21]: ATL03_20190916101407_12270403_006_02.h5\n",
      "INFO:sliderule.sliderule:Successfully completed processing resource [8 out of 21]: ATL03_20190617143416_12270303_006_02.h5\n",
      "INFO:sliderule.sliderule:Successfully completed processing resource [18 out of 21]: ATL03_20190912102226_11660403_006_02.h5\n",
      "INFO:sliderule.sliderule:Successfully completed processing resource [13 out of 21]: ATL03_20190619025330_12500305_006_02.h5\n",
      "INFO:sliderule.sliderule:Successfully completed processing resource [2 out of 21]: ATL03_20190827234038_09300405_006_02.h5\n",
      "INFO:sliderule.sliderule:Successfully completed processing resource [15 out of 21]: ATL03_20190810115440_06630403_006_02.h5\n",
      "INFO:sliderule.sliderule:Successfully completed processing resource [6 out of 21]: ATL03_20190917223321_12500405_006_02.h5\n",
      "INFO:sliderule.sliderule:Successfully completed processing resource [10 out of 21]: ATL03_20190925221644_13720405_006_02.h5\n",
      "INFO:sliderule.sliderule:Successfully completed processing resource [12 out of 21]: ATL03_20190814114620_07240403_006_02.h5\n",
      "INFO:sliderule.sliderule:Successfully completed processing resource [19 out of 21]: ATL03_20190819235717_08080405_006_02.h5\n",
      "INFO:sliderule.sliderule:Successfully completed processing resource [9 out of 21]: ATL03_20190908103045_11050403_006_02.h5\n",
      "INFO:sliderule.sliderule:Successfully completed processing resource [16 out of 21]: ATL03_20190613144236_11660303_006_02.h5\n",
      "INFO:sliderule.sliderule:Successfully completed processing resource [21 out of 21]: ATL03_20190806120300_06020403_006_02.h5\n",
      "INFO:sliderule.sliderule:Successfully completed processing resource [7 out of 21]: ATL03_20190609145056_11050303_006_02.h5\n",
      "INFO:sliderule.sliderule:Successfully completed processing resource [17 out of 21]: ATL03_20190921222502_13110405_006_02.h5\n",
      "INFO:sliderule.sliderule:Successfully completed processing resource [11 out of 21]: ATL03_20190712131827_02210403_006_02.h5\n",
      "INFO:sliderule.sliderule:Successfully completed processing resource [20 out of 21]: ATL03_20190623024510_13110305_006_02.h5\n",
      "INFO:sliderule.sliderule:Successfully completed processing resource [1 out of 21]: ATL03_20190722012105_03660405_006_02.h5\n",
      "INFO:sliderule.sliderule:Successfully completed processing resource [14 out of 21]: ATL03_20190823234858_08690405_006_02.h5\n",
      "INFO:sliderule.sliderule:Successfully completed processing resource [4 out of 21]: ATL03_20190726011248_04270405_006_02.h5\n"
     ]
    }
   ],
   "source": [
    "###############################\n",
    "# Run SlideRule's implementation of PhoReal processing of ATL03 into custom ATL08\n",
    "# https://slideruleearth.io/web/rtd/api_reference/icesat2.html#atl08p\n",
    "atl08 = icesat2.atl08p(params_atl08, keep_id=True)"
   ]
  },
  {
   "cell_type": "code",
   "execution_count": 162,
   "id": "908e904c-bbd0-4649-a8e8-02b54f51e00c",
   "metadata": {
    "tags": []
   },
   "outputs": [
    {
     "data": {
      "text/plain": [
       "{'poly': [{'lon': -164.59880804615614, 'lat': 63.9795347685367},\n",
       "  {'lon': -163.8174981607396, 'lat': 65.12722812594399},\n",
       "  {'lon': -165.01091475681622, 'lat': 65.93953104273795},\n",
       "  {'lon': -165.79175770914316, 'lat': 64.77836673666994},\n",
       "  {'lon': -164.59880804615614, 'lat': 63.9795347685367}],\n",
       " 't0': '2019-06-01T00:00:00Z',\n",
       " 't1': '2019-09-30T00:00:00Z',\n",
       " 'srt': 0,\n",
       " 'len': 30,\n",
       " 'res': 30,\n",
       " 'pass_invalid': True,\n",
       " 'atl08_class': ['atl08_ground', 'atl08_canopy', 'atl08_top_of_canopy'],\n",
       " 'atl08_fields': ['canopy/h_canopy_uncertainty',\n",
       "  'h_dif_ref',\n",
       "  'msw_flag',\n",
       "  'sigma_topo',\n",
       "  'segment_landcover',\n",
       "  'canopy/segment_cover',\n",
       "  'segment_snowcover',\n",
       "  'terrain/h_te_uncertainty'],\n",
       " 'phoreal': {'binsize': 1.0,\n",
       "  'geoloc': 'center',\n",
       "  'above_classifier': True,\n",
       "  'use_abs_h': False,\n",
       "  'send_waveform': False}}"
      ]
     },
     "execution_count": 162,
     "metadata": {},
     "output_type": "execute_result"
    }
   ],
   "source": [
    "params_atl08"
   ]
  },
  {
   "cell_type": "code",
   "execution_count": 126,
   "id": "c2d9594c-db08-4008-9ec9-d5d5f87505a7",
   "metadata": {
    "tags": []
   },
   "outputs": [
    {
     "name": "stderr",
     "output_type": "stream",
     "text": [
      "/tmp/ipykernel_1781/2399443695.py:1: UserWarning: CRS mismatch between the CRS of left geometries and the CRS of right geometries.\n",
      "Use `to_crs()` to reproject one of the input geometries to match the CRS of the other.\n",
      "\n",
      "Left CRS: EPSG:7912\n",
      "Right CRS: EPSG:4326\n",
      "\n",
      "  atl08_uav_05 = gpd.clip(atl08.reset_index().drop('time', axis=1), foot_uav.iloc[[5]])\n"
     ]
    }
   ],
   "source": [
    "atl08_uav_05 = gpd.clip(atl08.reset_index().drop('time', axis=1), foot_uav.iloc[[5]])"
   ]
  },
  {
   "cell_type": "code",
   "execution_count": 44,
   "id": "4081f390-0003-42cb-a34f-e25b659c24ab",
   "metadata": {
    "tags": []
   },
   "outputs": [],
   "source": [
    "#atl08_uav_05.explore(m=m_atl03, marker_type=\"circle\", color='red', column='h_canopy')"
   ]
  },
  {
   "cell_type": "code",
   "execution_count": 36,
   "id": "d568b0f6-bdfc-445c-ad1f-b049b360dcf9",
   "metadata": {
    "tags": []
   },
   "outputs": [],
   "source": [
    "import importlib\n",
    "import FilterUtils"
   ]
  },
  {
   "cell_type": "code",
   "execution_count": 45,
   "id": "f07d2039-412a-4424-9379-63cf254dae31",
   "metadata": {
    "tags": []
   },
   "outputs": [
    {
     "data": {
      "text/plain": [
       "<module 'process_atl08_boreal' from '/projects/code/icesat2_boreal/lib/process_atl08_boreal.py'>"
      ]
     },
     "execution_count": 45,
     "metadata": {},
     "output_type": "execute_result"
    }
   ],
   "source": [
    "importlib.reload(FilterUtils)"
   ]
  },
  {
   "cell_type": "code",
   "execution_count": null,
   "id": "7e290b9d-3cfb-4e44-ae50-d5390547a287",
   "metadata": {
    "tags": []
   },
   "outputs": [],
   "source": [
    "# Test filtering\n",
    "atl08, atl08_meta = FilterUtils.filter_atl08_qual_v5(atl08, atl08_cols_list = ['rh25','rh50','rh60','rh70','rh75','rh80','rh90','h_can','h_max_can', 'ter_slp','h_te_best', 'seg_landcov','sol_el','y','m','doy'], RETURN_METADATA=True)"
   ]
  },
  {
   "cell_type": "markdown",
   "id": "c40c89c0-336c-43d2-93ea-46758f082442",
   "metadata": {},
   "source": [
    "### Test custom SlideRule wrapper for boreal ATL08 processing"
   ]
  },
  {
   "cell_type": "code",
   "execution_count": null,
   "id": "c0274e24-370a-4058-a04d-7c318675e717",
   "metadata": {},
   "outputs": [],
   "source": [
    "importlib.reload(process_atl08_boreal)"
   ]
  },
  {
   "cell_type": "code",
   "execution_count": 45,
   "id": "56730245-8c2f-462d-8ebe-a5be722f0755",
   "metadata": {
    "tags": []
   },
   "outputs": [
    {
     "name": "stderr",
     "output_type": "stream",
     "text": [
      "Setting URL to slideruleearth.io\n",
      "INFO:sliderule.sliderule:Setting URL to slideruleearth.io\n",
      "Login status to slideruleearth.io/utexas: success\n",
      "INFO:sliderule.sliderule:Login status to slideruleearth.io/utexas: success\n",
      "Client (version (4, 7, 1)) is out of date with the server (version (4, 8, 0))\n",
      "WARNING:sliderule.sliderule:Client (version (4, 7, 1)) is out of date with the server (version (4, 8, 0))\n"
     ]
    },
    {
     "name": "stdout",
     "output_type": "stream",
     "text": [
      "Truncated -179.99999 t0 -179.9999\n",
      "Truncated -179.99999 t0 -179.9999\n",
      "ATL08 obs for tile 354000 from sliderule: 0\n"
     ]
    },
    {
     "ename": "KeyError",
     "evalue": "'canopy_h_metrics'",
     "output_type": "error",
     "traceback": [
      "\u001b[0;31m---------------------------------------------------------------------------\u001b[0m",
      "\u001b[0;31mKeyError\u001b[0m                                  Traceback (most recent call last)",
      "File \u001b[0;32m/opt/conda/envs/pangeo/lib/python3.10/site-packages/pandas/core/indexes/base.py:3791\u001b[0m, in \u001b[0;36mIndex.get_loc\u001b[0;34m(self, key)\u001b[0m\n\u001b[1;32m   3790\u001b[0m \u001b[38;5;28;01mtry\u001b[39;00m:\n\u001b[0;32m-> 3791\u001b[0m     \u001b[38;5;28;01mreturn\u001b[39;00m \u001b[38;5;28;43mself\u001b[39;49m\u001b[38;5;241;43m.\u001b[39;49m\u001b[43m_engine\u001b[49m\u001b[38;5;241;43m.\u001b[39;49m\u001b[43mget_loc\u001b[49m\u001b[43m(\u001b[49m\u001b[43mcasted_key\u001b[49m\u001b[43m)\u001b[49m\n\u001b[1;32m   3792\u001b[0m \u001b[38;5;28;01mexcept\u001b[39;00m \u001b[38;5;167;01mKeyError\u001b[39;00m \u001b[38;5;28;01mas\u001b[39;00m err:\n",
      "File \u001b[0;32mindex.pyx:152\u001b[0m, in \u001b[0;36mpandas._libs.index.IndexEngine.get_loc\u001b[0;34m()\u001b[0m\n",
      "File \u001b[0;32mindex.pyx:181\u001b[0m, in \u001b[0;36mpandas._libs.index.IndexEngine.get_loc\u001b[0;34m()\u001b[0m\n",
      "File \u001b[0;32mpandas/_libs/hashtable_class_helper.pxi:7080\u001b[0m, in \u001b[0;36mpandas._libs.hashtable.PyObjectHashTable.get_item\u001b[0;34m()\u001b[0m\n",
      "File \u001b[0;32mpandas/_libs/hashtable_class_helper.pxi:7088\u001b[0m, in \u001b[0;36mpandas._libs.hashtable.PyObjectHashTable.get_item\u001b[0;34m()\u001b[0m\n",
      "\u001b[0;31mKeyError\u001b[0m: 'canopy_h_metrics'",
      "\nThe above exception was the direct cause of the following exception:\n",
      "\u001b[0;31mKeyError\u001b[0m                                  Traceback (most recent call last)",
      "Cell \u001b[0;32mIn[45], line 5\u001b[0m\n\u001b[1;32m      3\u001b[0m YEAR \u001b[38;5;241m=\u001b[39m \u001b[38;5;241m2020\u001b[39m\n\u001b[1;32m      4\u001b[0m OUTDIR \u001b[38;5;241m=\u001b[39m os\u001b[38;5;241m.\u001b[39mpath\u001b[38;5;241m.\u001b[39mjoin(\u001b[38;5;124m'\u001b[39m\u001b[38;5;124m/projects/my-private-bucket/data/process_atl08_boreal\u001b[39m\u001b[38;5;124m'\u001b[39m,\u001b[38;5;124mf\u001b[39m\u001b[38;5;124m'\u001b[39m\u001b[38;5;132;01m{\u001b[39;00mRES\u001b[38;5;132;01m:\u001b[39;00m\u001b[38;5;124m03\u001b[39m\u001b[38;5;132;01m}\u001b[39;00m\u001b[38;5;124mm\u001b[39m\u001b[38;5;124m'\u001b[39m, \u001b[38;5;124mf\u001b[39m\u001b[38;5;124m'\u001b[39m\u001b[38;5;132;01m{\u001b[39;00mYEAR\u001b[38;5;132;01m}\u001b[39;00m\u001b[38;5;124m_test\u001b[39m\u001b[38;5;124m'\u001b[39m)\n\u001b[0;32m----> 5\u001b[0m at08 \u001b[38;5;241m=\u001b[39m \u001b[43mprocess_atl08_boreal\u001b[49m\u001b[38;5;241;43m.\u001b[39;49m\u001b[43mprocess_atl08_boreal\u001b[49m\u001b[43m(\u001b[49m\u001b[38;5;241;43m354000\u001b[39;49m\u001b[43m,\u001b[49m\u001b[43m \u001b[49m\u001b[43mpolygon_gdf_fn\u001b[49m\u001b[38;5;241;43m=\u001b[39;49m\u001b[43mboreal_tiles_model_ready_fn\u001b[49m\u001b[43m,\u001b[49m\u001b[43m \u001b[49m\u001b[43mid_col_num\u001b[49m\u001b[43m \u001b[49m\u001b[38;5;241;43m=\u001b[39;49m\u001b[43m \u001b[49m\u001b[38;5;124;43m'\u001b[39;49m\u001b[38;5;124;43mtile_num\u001b[39;49m\u001b[38;5;124;43m'\u001b[39;49m\u001b[43m,\u001b[49m\u001b[43m \u001b[49m\u001b[43mt0_year\u001b[49m\u001b[38;5;241;43m=\u001b[39;49m\u001b[43mYEAR\u001b[49m\u001b[43m,\u001b[49m\u001b[43m \u001b[49m\u001b[43mt1_year\u001b[49m\u001b[38;5;241;43m=\u001b[39;49m\u001b[43mYEAR\u001b[49m\u001b[43m,\u001b[49m\u001b[43m \u001b[49m\u001b[43mminmonth\u001b[49m\u001b[38;5;241;43m=\u001b[39;49m\u001b[38;5;241;43m8\u001b[39;49m\u001b[43m,\u001b[49m\u001b[43m \u001b[49m\u001b[43mmaxmonth\u001b[49m\u001b[38;5;241;43m=\u001b[39;49m\u001b[38;5;241;43m8\u001b[39;49m\u001b[43m,\u001b[49m\u001b[43m \u001b[49m\u001b[43mseg_length\u001b[49m\u001b[43m \u001b[49m\u001b[38;5;241;43m=\u001b[39;49m\u001b[43m \u001b[49m\u001b[38;5;241;43m30\u001b[39;49m\u001b[43m,\u001b[49m\u001b[43m \u001b[49m\u001b[43moutdir\u001b[49m\u001b[38;5;241;43m=\u001b[39;49m\u001b[43mOUTDIR\u001b[49m\u001b[43m,\u001b[49m\u001b[43m \u001b[49m\u001b[43mRETURN_DF\u001b[49m\u001b[38;5;241;43m=\u001b[39;49m\u001b[38;5;28;43;01mTrue\u001b[39;49;00m\u001b[43m,\u001b[49m\u001b[43m \u001b[49m\u001b[43mDEBUG\u001b[49m\u001b[38;5;241;43m=\u001b[39;49m\u001b[38;5;28;43;01mFalse\u001b[39;49;00m\u001b[43m)\u001b[49m\n",
      "File \u001b[0;32m~/code/icesat2_boreal/lib/process_atl08_boreal.py:99\u001b[0m, in \u001b[0;36mprocess_atl08_boreal\u001b[0;34m(polygon_id, polygon_gdf_fn, id_col_num, t0_year, t1_year, minmonth, maxmonth, seg_length, outdir, atl08_cols_list, RETURN_DF, DEBUG)\u001b[0m\n\u001b[1;32m     93\u001b[0m \u001b[38;5;28mprint\u001b[39m(\u001b[38;5;124mf\u001b[39m\u001b[38;5;124m'\u001b[39m\u001b[38;5;124mATL08 obs for tile \u001b[39m\u001b[38;5;132;01m{\u001b[39;00mpolygon_id\u001b[38;5;132;01m:\u001b[39;00m\u001b[38;5;124m06\u001b[39m\u001b[38;5;132;01m}\u001b[39;00m\u001b[38;5;124m from sliderule: \u001b[39m\u001b[38;5;132;01m{\u001b[39;00matl08\u001b[38;5;241m.\u001b[39mshape[\u001b[38;5;241m0\u001b[39m]\u001b[38;5;132;01m}\u001b[39;00m\u001b[38;5;124m'\u001b[39m)\n\u001b[1;32m     95\u001b[0m \u001b[38;5;66;03m###############################\u001b[39;00m\n\u001b[1;32m     96\u001b[0m \u001b[38;5;66;03m#### Project-specific formatting\u001b[39;00m\n\u001b[1;32m     97\u001b[0m \u001b[38;5;66;03m# Format for filtering\u001b[39;00m\n\u001b[1;32m     98\u001b[0m \u001b[38;5;66;03m# Unpack the canopy_h_metrics into discrete fields\u001b[39;00m\n\u001b[0;32m---> 99\u001b[0m atl08[\u001b[38;5;124m'\u001b[39m\u001b[38;5;124mrh25\u001b[39m\u001b[38;5;124m'\u001b[39m] \u001b[38;5;241m=\u001b[39m [l[\u001b[38;5;241m3\u001b[39m] \u001b[38;5;28;01mfor\u001b[39;00m l \u001b[38;5;129;01min\u001b[39;00m \u001b[43matl08\u001b[49m\u001b[43m[\u001b[49m\u001b[38;5;124;43m'\u001b[39;49m\u001b[38;5;124;43mcanopy_h_metrics\u001b[39;49m\u001b[38;5;124;43m'\u001b[39;49m\u001b[43m]\u001b[49m]\n\u001b[1;32m    100\u001b[0m atl08[\u001b[38;5;124m'\u001b[39m\u001b[38;5;124mrh50\u001b[39m\u001b[38;5;124m'\u001b[39m] \u001b[38;5;241m=\u001b[39m [l[\u001b[38;5;241m8\u001b[39m] \u001b[38;5;28;01mfor\u001b[39;00m l \u001b[38;5;129;01min\u001b[39;00m atl08[\u001b[38;5;124m'\u001b[39m\u001b[38;5;124mcanopy_h_metrics\u001b[39m\u001b[38;5;124m'\u001b[39m]]\n\u001b[1;32m    101\u001b[0m atl08[\u001b[38;5;124m'\u001b[39m\u001b[38;5;124mrh60\u001b[39m\u001b[38;5;124m'\u001b[39m] \u001b[38;5;241m=\u001b[39m [l[\u001b[38;5;241m10\u001b[39m] \u001b[38;5;28;01mfor\u001b[39;00m l \u001b[38;5;129;01min\u001b[39;00m atl08[\u001b[38;5;124m'\u001b[39m\u001b[38;5;124mcanopy_h_metrics\u001b[39m\u001b[38;5;124m'\u001b[39m]]\n",
      "File \u001b[0;32m/opt/conda/envs/pangeo/lib/python3.10/site-packages/geopandas/geodataframe.py:1474\u001b[0m, in \u001b[0;36mGeoDataFrame.__getitem__\u001b[0;34m(self, key)\u001b[0m\n\u001b[1;32m   1468\u001b[0m \u001b[38;5;28;01mdef\u001b[39;00m \u001b[38;5;21m__getitem__\u001b[39m(\u001b[38;5;28mself\u001b[39m, key):\n\u001b[1;32m   1469\u001b[0m \u001b[38;5;250m    \u001b[39m\u001b[38;5;124;03m\"\"\"\u001b[39;00m\n\u001b[1;32m   1470\u001b[0m \u001b[38;5;124;03m    If the result is a column containing only 'geometry', return a\u001b[39;00m\n\u001b[1;32m   1471\u001b[0m \u001b[38;5;124;03m    GeoSeries. If it's a DataFrame with any columns of GeometryDtype,\u001b[39;00m\n\u001b[1;32m   1472\u001b[0m \u001b[38;5;124;03m    return a GeoDataFrame.\u001b[39;00m\n\u001b[1;32m   1473\u001b[0m \u001b[38;5;124;03m    \"\"\"\u001b[39;00m\n\u001b[0;32m-> 1474\u001b[0m     result \u001b[38;5;241m=\u001b[39m \u001b[38;5;28;43msuper\u001b[39;49m\u001b[43m(\u001b[49m\u001b[43m)\u001b[49m\u001b[38;5;241;43m.\u001b[39;49m\u001b[38;5;21;43m__getitem__\u001b[39;49m\u001b[43m(\u001b[49m\u001b[43mkey\u001b[49m\u001b[43m)\u001b[49m\n\u001b[1;32m   1475\u001b[0m     \u001b[38;5;66;03m# Custom logic to avoid waiting for pandas GH51895\u001b[39;00m\n\u001b[1;32m   1476\u001b[0m     \u001b[38;5;66;03m# result is not geometry dtype for multi-indexes\u001b[39;00m\n\u001b[1;32m   1477\u001b[0m     \u001b[38;5;28;01mif\u001b[39;00m (\n\u001b[1;32m   1478\u001b[0m         pd\u001b[38;5;241m.\u001b[39mapi\u001b[38;5;241m.\u001b[39mtypes\u001b[38;5;241m.\u001b[39mis_scalar(key)\n\u001b[1;32m   1479\u001b[0m         \u001b[38;5;129;01mand\u001b[39;00m key \u001b[38;5;241m==\u001b[39m \u001b[38;5;124m\"\u001b[39m\u001b[38;5;124m\"\u001b[39m\n\u001b[0;32m   (...)\u001b[0m\n\u001b[1;32m   1482\u001b[0m         \u001b[38;5;129;01mand\u001b[39;00m \u001b[38;5;129;01mnot\u001b[39;00m is_geometry_type(result)\n\u001b[1;32m   1483\u001b[0m     ):\n",
      "File \u001b[0;32m/opt/conda/envs/pangeo/lib/python3.10/site-packages/pandas/core/frame.py:3893\u001b[0m, in \u001b[0;36mDataFrame.__getitem__\u001b[0;34m(self, key)\u001b[0m\n\u001b[1;32m   3891\u001b[0m \u001b[38;5;28;01mif\u001b[39;00m \u001b[38;5;28mself\u001b[39m\u001b[38;5;241m.\u001b[39mcolumns\u001b[38;5;241m.\u001b[39mnlevels \u001b[38;5;241m>\u001b[39m \u001b[38;5;241m1\u001b[39m:\n\u001b[1;32m   3892\u001b[0m     \u001b[38;5;28;01mreturn\u001b[39;00m \u001b[38;5;28mself\u001b[39m\u001b[38;5;241m.\u001b[39m_getitem_multilevel(key)\n\u001b[0;32m-> 3893\u001b[0m indexer \u001b[38;5;241m=\u001b[39m \u001b[38;5;28;43mself\u001b[39;49m\u001b[38;5;241;43m.\u001b[39;49m\u001b[43mcolumns\u001b[49m\u001b[38;5;241;43m.\u001b[39;49m\u001b[43mget_loc\u001b[49m\u001b[43m(\u001b[49m\u001b[43mkey\u001b[49m\u001b[43m)\u001b[49m\n\u001b[1;32m   3894\u001b[0m \u001b[38;5;28;01mif\u001b[39;00m is_integer(indexer):\n\u001b[1;32m   3895\u001b[0m     indexer \u001b[38;5;241m=\u001b[39m [indexer]\n",
      "File \u001b[0;32m/opt/conda/envs/pangeo/lib/python3.10/site-packages/pandas/core/indexes/base.py:3798\u001b[0m, in \u001b[0;36mIndex.get_loc\u001b[0;34m(self, key)\u001b[0m\n\u001b[1;32m   3793\u001b[0m     \u001b[38;5;28;01mif\u001b[39;00m \u001b[38;5;28misinstance\u001b[39m(casted_key, \u001b[38;5;28mslice\u001b[39m) \u001b[38;5;129;01mor\u001b[39;00m (\n\u001b[1;32m   3794\u001b[0m         \u001b[38;5;28misinstance\u001b[39m(casted_key, abc\u001b[38;5;241m.\u001b[39mIterable)\n\u001b[1;32m   3795\u001b[0m         \u001b[38;5;129;01mand\u001b[39;00m \u001b[38;5;28many\u001b[39m(\u001b[38;5;28misinstance\u001b[39m(x, \u001b[38;5;28mslice\u001b[39m) \u001b[38;5;28;01mfor\u001b[39;00m x \u001b[38;5;129;01min\u001b[39;00m casted_key)\n\u001b[1;32m   3796\u001b[0m     ):\n\u001b[1;32m   3797\u001b[0m         \u001b[38;5;28;01mraise\u001b[39;00m InvalidIndexError(key)\n\u001b[0;32m-> 3798\u001b[0m     \u001b[38;5;28;01mraise\u001b[39;00m \u001b[38;5;167;01mKeyError\u001b[39;00m(key) \u001b[38;5;28;01mfrom\u001b[39;00m \u001b[38;5;21;01merr\u001b[39;00m\n\u001b[1;32m   3799\u001b[0m \u001b[38;5;28;01mexcept\u001b[39;00m \u001b[38;5;167;01mTypeError\u001b[39;00m:\n\u001b[1;32m   3800\u001b[0m     \u001b[38;5;66;03m# If we have a listlike key, _check_indexing_error will raise\u001b[39;00m\n\u001b[1;32m   3801\u001b[0m     \u001b[38;5;66;03m#  InvalidIndexError. Otherwise we fall through and re-raise\u001b[39;00m\n\u001b[1;32m   3802\u001b[0m     \u001b[38;5;66;03m#  the TypeError.\u001b[39;00m\n\u001b[1;32m   3803\u001b[0m     \u001b[38;5;28mself\u001b[39m\u001b[38;5;241m.\u001b[39m_check_indexing_error(key)\n",
      "\u001b[0;31mKeyError\u001b[0m: 'canopy_h_metrics'"
     ]
    }
   ],
   "source": [
    "sliderule_init()\n",
    "RES = 30\n",
    "YEAR = 2020\n",
    "OUTDIR = os.path.join('/projects/my-private-bucket/data/process_atl08_boreal',f'{RES:03}m', f'{YEAR}_test')\n",
    "at08 = process_atl08_boreal.process_atl08_boreal(354000, polygon_gdf_fn=boreal_tiles_model_ready_fn, id_col_num = 'tile_num', t0_year=YEAR, t1_year=YEAR, minmonth=8, maxmonth=8, seg_length = 30, outdir=OUTDIR, RETURN_DF=True, DEBUG=False)"
   ]
  },
  {
   "cell_type": "markdown",
   "id": "f37f83e9-b9b1-4a0e-89c5-418004cb5c26",
   "metadata": {},
   "source": [
    "## Apply multiprocessing of custom SlideRule wrapper for large batches\n",
    "stagger multiprocessing, re-initialize server, handle server exceptions, assess missing tiles, continue the cycle until no more missing tiles  "
   ]
  },
  {
   "cell_type": "code",
   "execution_count": 19,
   "id": "e7e3ce56-4ea4-4c1b-9874-667b44f68d17",
   "metadata": {
    "tags": []
   },
   "outputs": [],
   "source": [
    "missing_tile_list = [354000]"
   ]
  },
  {
   "cell_type": "code",
   "execution_count": null,
   "id": "76b42aae-c40f-47a5-bc38-826db6064b60",
   "metadata": {
    "tags": []
   },
   "outputs": [],
   "source": [
    "sliderule_init(Public=True)\n",
    "\n",
    "## Loop over multiprocessing subsets of N and wait T seconds\n",
    "# Loop over N and wait\n",
    "N = 10\n",
    "T = 5\n",
    "\n",
    "RES = 30\n",
    "YEAR = '2020'\n",
    "OUTDIR = os.path.join('/projects/my-private-bucket/data/process_atl08_boreal',f'{RES:03}m', YEAR)\n",
    "!mkdir -p $OUTDIR\n",
    "    \n",
    "missing_tile_list = get_missing_boreal_tiles_atl08(boreal_tiles, GLOB_STR=f'{OUTDIR}/*.parquet')\n",
    "\n",
    "while len(missing_tile_list) > 0:\n",
    "    \n",
    "    missing_tile_list = get_missing_boreal_tiles_atl08(boreal_tiles, GLOB_STR=f'{OUTDIR}/*.parquet')\n",
    "    \n",
    "    ######\n",
    "    # Multiprocessing 'process_atl08_boreal()' : SlideRule requests and Custom Filtering\n",
    "    #####\n",
    "    \n",
    "    try:\n",
    "        with Pool(processes=N) as pool:\n",
    "            pool.map(partial(process_atl08_boreal.process_atl08_boreal, polygon_gdf_fn=boreal_tiles_model_ready_fn, id_col_num = 'tile_num', t0_year=YEAR, t1_year=YEAR, minmonth=6, maxmonth=9, seg_length = RES, \n",
    "                             outdir=OUTDIR, \n",
    "                             RETURN_DF=False), \n",
    "                                    #boreal_tiles.tile_num.to_list() # All 4956 tiles\n",
    "                                     missing_tile_list # Manually stagger runs over list\n",
    "                                     )\n",
    "    except:\n",
    "        print('\\nServer died? try again...')\n",
    "        print(f'Wait for {T*2} seconds, then re-initialize server...\\n')\n",
    "        time.sleep(T*2)\n",
    "        sliderule_init()\n",
    "        \n",
    "    print(f'\\n\\n\\n---------Wait for {T} seconds...----------\\n\\n\\n')\n",
    "    time.sleep(T)"
   ]
  },
  {
   "cell_type": "markdown",
   "id": "47c303b1-a064-4cc5-82b3-5aeff1009e92",
   "metadata": {},
   "source": [
    "### Basic multiprocessing"
   ]
  },
  {
   "cell_type": "code",
   "execution_count": null,
   "id": "d2a7cec8-4676-42a7-bd91-c7783bb07b76",
   "metadata": {
    "tags": []
   },
   "outputs": [],
   "source": [
    "%%time\n",
    "\n",
    "######\n",
    "# Multiprocessing 'process_atl08_boreal()' : SlideRule requests and Custom Filtering\n",
    "#####\n",
    "\n",
    "RES = 30\n",
    "YEAR = '2020'\n",
    "OUTDIR = os.path.join('/projects/my-private-bucket/data/process_atl08_boreal',f'{RES:03}m', YEAR)\n",
    "\n",
    "missing_tile_list = get_missing_boreal_tiles_atl08(boreal_tiles, GLOB_STR=f'{OUTDIR}/*.parquet')\n",
    "\n",
    "with Pool(processes=10) as pool:\n",
    "    pool.map(partial(process_atl08_boreal.process_atl08_boreal, polygon_gdf_fn=boreal_tiles_model_ready_fn, id_col_num = 'tile_num', t0_year=2020, t1_year=2020, minmonth=6, maxmonth=9, seg_length = RES, \n",
    "                     outdir=OUTDIR, \n",
    "                     RETURN_DF=False), \n",
    "                              #boreal_tiles.tile_num.to_list()[0:31]\n",
    "                              #FOCAL_TILE_LIST[-2:] # Test selection of 31 tiles\n",
    "                              #boreal_tiles.tile_num.to_list() # All 4956 tiles\n",
    "                              missing_tile_list # Manually stagger runs over lists of 100\n",
    "                             )"
   ]
  }
 ],
 "metadata": {
  "kernelspec": {
   "display_name": "Python 3 (ipykernel)",
   "language": "python",
   "name": "python3"
  },
  "language_info": {
   "codemirror_mode": {
    "name": "ipython",
    "version": 3
   },
   "file_extension": ".py",
   "mimetype": "text/x-python",
   "name": "python",
   "nbconvert_exporter": "python",
   "pygments_lexer": "ipython3",
   "version": "3.10.13"
  }
 },
 "nbformat": 4,
 "nbformat_minor": 5
}
