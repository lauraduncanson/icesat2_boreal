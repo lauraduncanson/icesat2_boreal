{
 "metadata": {
  "language_info": {
   "codemirror_mode": {
    "name": "ipython",
    "version": 3
   },
   "file_extension": ".py",
   "mimetype": "text/x-python",
   "name": "python",
   "nbconvert_exporter": "python",
   "pygments_lexer": "ipython3",
   "version": 3
  },
  "orig_nbformat": 2
 },
 "nbformat": 4,
 "nbformat_minor": 2,
 "cells": [
  {
   "source": [
    "# Create Elevation Index\n",
    "\n",
    "Copernicus 30m DEM on AWS open data does not have a spatial index of the available tiles. We need to generate one, joining it to the spatial index provided. The polygon index can then be used to query for scenes matching an analysis aoi."
   ],
   "cell_type": "markdown",
   "metadata": {}
  }
 ]
}