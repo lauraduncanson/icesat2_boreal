{
 "cells": [
  {
   "cell_type": "markdown",
   "metadata": {},
   "source": [
    "# Create Elevation Index\n",
    "\n",
    "Copernicus 30m DEM on [AWS open data](https://copernicus-dem-30m.s3.amazonaws.com/readme.html) does not have a spatial index of the available tiles. We need to generate one, joining it to the spatial index provided. The polygon index can then be used to query for scenes matching an analysis aoi.\n",
    "\n",
    "\n",
    "1. Download the index shapefile provided by copernicus\n",
    "2. Table join index vectors with list of available files on s3\n",
    "3. Save joined index\n",
    "4. Create visual to determine data availability\n"
   ]
  },
  {
   "cell_type": "code",
   "execution_count": 18,
   "metadata": {},
   "outputs": [],
   "source": [
    "import boto3\n",
    "import geopandas as gpd\n",
    "import os\n",
    "import pandas as pd\n",
    "\n",
    "index_dir = \"/projects/maap-users/alexdevseed/\"\n",
    "index_zip = os.path.join(index_dir, \"grid.zip\")\n",
    "index_shp = os.path.join(index_dir, \"dem30mGrid.shp\")"
   ]
  },
  {
   "cell_type": "code",
   "execution_count": 9,
   "metadata": {},
   "outputs": [
    {
     "name": "stdout",
     "output_type": "stream",
     "text": [
      "--2021-03-29 22:36:39--  https://copernicus-dem-30m.s3.amazonaws.com/grid.zip\n",
      "Resolving copernicus-dem-30m.s3.amazonaws.com (copernicus-dem-30m.s3.amazonaws.com)... 52.219.72.18\n",
      "Connecting to copernicus-dem-30m.s3.amazonaws.com (copernicus-dem-30m.s3.amazonaws.com)|52.219.72.18|:443... connected.\n",
      "HTTP request sent, awaiting response... 200 OK\n",
      "Length: 2244913 (2.1M) [application/x-zip-compressed]\n",
      "Saving to: ‘/projects/maap-users/alexdevseed/grid.zip’\n",
      "\n",
      "/projects/maap-user 100%[===================>]   2.14M  3.38MB/s    in 0.6s    \n",
      "\n",
      "2021-03-29 22:36:40 (3.38 MB/s) - ‘/projects/maap-users/alexdevseed/grid.zip’ saved [2244913/2244913]\n",
      "\n",
      "Archive:  /projects/maap-users/alexdevseed/grid.zip\n",
      "  inflating: /projects/maap-users/alexdevseed/dem30mGrid.dbf  \n",
      "  inflating: /projects/maap-users/alexdevseed/dem30mGrid.json  \n",
      "  inflating: /projects/maap-users/alexdevseed/dem30mGrid.prj  \n",
      "  inflating: /projects/maap-users/alexdevseed/dem30mGrid.shp  \n",
      "  inflating: /projects/maap-users/alexdevseed/dem30mGrid.shx  \n"
     ]
    }
   ],
   "source": [
    "#https://copernicus-dem-30m.s3.amazonaws.com/grid.zip\n",
    "# save as cop_dem_30m.zip\n",
    "!wget https://copernicus-dem-30m.s3.amazonaws.com/grid.zip -O $index_zip\n",
    "!unzip -d $index_dir $index_zip"
   ]
  },
  {
   "cell_type": "code",
   "execution_count": 19,
   "metadata": {},
   "outputs": [
    {
     "data": {
      "text/html": [
       "<div>\n",
       "<style scoped>\n",
       "    .dataframe tbody tr th:only-of-type {\n",
       "        vertical-align: middle;\n",
       "    }\n",
       "\n",
       "    .dataframe tbody tr th {\n",
       "        vertical-align: top;\n",
       "    }\n",
       "\n",
       "    .dataframe thead th {\n",
       "        text-align: right;\n",
       "    }\n",
       "</style>\n",
       "<table border=\"1\" class=\"dataframe\">\n",
       "  <thead>\n",
       "    <tr style=\"text-align: right;\">\n",
       "      <th></th>\n",
       "      <th>id</th>\n",
       "      <th>geometry</th>\n",
       "    </tr>\n",
       "  </thead>\n",
       "  <tbody>\n",
       "    <tr>\n",
       "      <th>0</th>\n",
       "      <td>Copernicus_DSM_COG_10_N85_00_W180_00_DEM</td>\n",
       "      <td>POLYGON ((-180.001 85.000, -180.001 86.000, -1...</td>\n",
       "    </tr>\n",
       "    <tr>\n",
       "      <th>1</th>\n",
       "      <td>Copernicus_DSM_COG_10_N85_00_W179_00_DEM</td>\n",
       "      <td>POLYGON ((-179.001 85.000, -179.001 86.000, -1...</td>\n",
       "    </tr>\n",
       "    <tr>\n",
       "      <th>2</th>\n",
       "      <td>Copernicus_DSM_COG_10_N85_00_W178_00_DEM</td>\n",
       "      <td>POLYGON ((-178.001 85.000, -178.001 86.000, -1...</td>\n",
       "    </tr>\n",
       "    <tr>\n",
       "      <th>3</th>\n",
       "      <td>Copernicus_DSM_COG_10_N85_00_W177_00_DEM</td>\n",
       "      <td>POLYGON ((-177.001 85.000, -177.001 86.000, -1...</td>\n",
       "    </tr>\n",
       "    <tr>\n",
       "      <th>4</th>\n",
       "      <td>Copernicus_DSM_COG_10_N85_00_W176_00_DEM</td>\n",
       "      <td>POLYGON ((-176.001 85.000, -176.001 86.000, -1...</td>\n",
       "    </tr>\n",
       "  </tbody>\n",
       "</table>\n",
       "</div>"
      ],
      "text/plain": [
       "                                         id  \\\n",
       "0  Copernicus_DSM_COG_10_N85_00_W180_00_DEM   \n",
       "1  Copernicus_DSM_COG_10_N85_00_W179_00_DEM   \n",
       "2  Copernicus_DSM_COG_10_N85_00_W178_00_DEM   \n",
       "3  Copernicus_DSM_COG_10_N85_00_W177_00_DEM   \n",
       "4  Copernicus_DSM_COG_10_N85_00_W176_00_DEM   \n",
       "\n",
       "                                            geometry  \n",
       "0  POLYGON ((-180.001 85.000, -180.001 86.000, -1...  \n",
       "1  POLYGON ((-179.001 85.000, -179.001 86.000, -1...  \n",
       "2  POLYGON ((-178.001 85.000, -178.001 86.000, -1...  \n",
       "3  POLYGON ((-177.001 85.000, -177.001 86.000, -1...  \n",
       "4  POLYGON ((-176.001 85.000, -176.001 86.000, -1...  "
      ]
     },
     "execution_count": 19,
     "metadata": {},
     "output_type": "execute_result"
    }
   ],
   "source": [
    "dem_30m_index = gpd.read_file(index_shp)\n",
    "dem_30m_index.head()"
   ]
  },
  {
   "cell_type": "code",
   "execution_count": 16,
   "metadata": {},
   "outputs": [],
   "source": [
    "s3 = boto3.resource('s3')\n",
    "bucket = s3.Bucket('copernicus-dem-30m')\n",
    "bucket_files = [s3_file.key for s3_file in bucket.objects.all()]"
   ]
  },
  {
   "cell_type": "code",
   "execution_count": 49,
   "metadata": {},
   "outputs": [
    {
     "data": {
      "text/html": [
       "<div>\n",
       "<style scoped>\n",
       "    .dataframe tbody tr th:only-of-type {\n",
       "        vertical-align: middle;\n",
       "    }\n",
       "\n",
       "    .dataframe tbody tr th {\n",
       "        vertical-align: top;\n",
       "    }\n",
       "\n",
       "    .dataframe thead th {\n",
       "        text-align: right;\n",
       "    }\n",
       "</style>\n",
       "<table border=\"1\" class=\"dataframe\">\n",
       "  <thead>\n",
       "    <tr style=\"text-align: right;\">\n",
       "      <th></th>\n",
       "      <th>key</th>\n",
       "      <th>id</th>\n",
       "      <th>s3</th>\n",
       "    </tr>\n",
       "  </thead>\n",
       "  <tbody>\n",
       "    <tr>\n",
       "      <th>0</th>\n",
       "      <td>Copernicus_DSM_COG_10_N00_00_E006_00_DEM/Coper...</td>\n",
       "      <td>Copernicus_DSM_COG_10_N00_00_E006_00_DEM</td>\n",
       "      <td>s3://copernicus-dem-30m/Copernicus_DSM_COG_10_...</td>\n",
       "    </tr>\n",
       "    <tr>\n",
       "      <th>1</th>\n",
       "      <td>Copernicus_DSM_COG_10_N00_00_E009_00_DEM/Coper...</td>\n",
       "      <td>Copernicus_DSM_COG_10_N00_00_E009_00_DEM</td>\n",
       "      <td>s3://copernicus-dem-30m/Copernicus_DSM_COG_10_...</td>\n",
       "    </tr>\n",
       "    <tr>\n",
       "      <th>2</th>\n",
       "      <td>Copernicus_DSM_COG_10_N00_00_E010_00_DEM/Coper...</td>\n",
       "      <td>Copernicus_DSM_COG_10_N00_00_E010_00_DEM</td>\n",
       "      <td>s3://copernicus-dem-30m/Copernicus_DSM_COG_10_...</td>\n",
       "    </tr>\n",
       "    <tr>\n",
       "      <th>3</th>\n",
       "      <td>Copernicus_DSM_COG_10_N00_00_E011_00_DEM/Coper...</td>\n",
       "      <td>Copernicus_DSM_COG_10_N00_00_E011_00_DEM</td>\n",
       "      <td>s3://copernicus-dem-30m/Copernicus_DSM_COG_10_...</td>\n",
       "    </tr>\n",
       "    <tr>\n",
       "      <th>4</th>\n",
       "      <td>Copernicus_DSM_COG_10_N00_00_E012_00_DEM/Coper...</td>\n",
       "      <td>Copernicus_DSM_COG_10_N00_00_E012_00_DEM</td>\n",
       "      <td>s3://copernicus-dem-30m/Copernicus_DSM_COG_10_...</td>\n",
       "    </tr>\n",
       "  </tbody>\n",
       "</table>\n",
       "</div>"
      ],
      "text/plain": [
       "                                                 key  \\\n",
       "0  Copernicus_DSM_COG_10_N00_00_E006_00_DEM/Coper...   \n",
       "1  Copernicus_DSM_COG_10_N00_00_E009_00_DEM/Coper...   \n",
       "2  Copernicus_DSM_COG_10_N00_00_E010_00_DEM/Coper...   \n",
       "3  Copernicus_DSM_COG_10_N00_00_E011_00_DEM/Coper...   \n",
       "4  Copernicus_DSM_COG_10_N00_00_E012_00_DEM/Coper...   \n",
       "\n",
       "                                         id  \\\n",
       "0  Copernicus_DSM_COG_10_N00_00_E006_00_DEM   \n",
       "1  Copernicus_DSM_COG_10_N00_00_E009_00_DEM   \n",
       "2  Copernicus_DSM_COG_10_N00_00_E010_00_DEM   \n",
       "3  Copernicus_DSM_COG_10_N00_00_E011_00_DEM   \n",
       "4  Copernicus_DSM_COG_10_N00_00_E012_00_DEM   \n",
       "\n",
       "                                                  s3  \n",
       "0  s3://copernicus-dem-30m/Copernicus_DSM_COG_10_...  \n",
       "1  s3://copernicus-dem-30m/Copernicus_DSM_COG_10_...  \n",
       "2  s3://copernicus-dem-30m/Copernicus_DSM_COG_10_...  \n",
       "3  s3://copernicus-dem-30m/Copernicus_DSM_COG_10_...  \n",
       "4  s3://copernicus-dem-30m/Copernicus_DSM_COG_10_...  "
      ]
     },
     "execution_count": 49,
     "metadata": {},
     "output_type": "execute_result"
    }
   ],
   "source": [
    "\n",
    "bf_df = pd.DataFrame(bucket_files, columns=[\"key\"])\n",
    "bf_df[\"id\"] = bf_df[\"key\"].str.split(pat=\"/\").str[0]\n",
    "bf_df[\"s3\"] = \"s3://copernicus-dem-30m/\" + bf_df[\"key\"]\n",
    "bf_df.head()"
   ]
  },
  {
   "cell_type": "code",
   "execution_count": 48,
   "metadata": {},
   "outputs": [
    {
     "ename": "TypeError",
     "evalue": "sequence item 1: expected str instance, StringMethods found",
     "output_type": "error",
     "traceback": [
      "\u001b[0;31m---------------------------------------------------------------------------\u001b[0m",
      "\u001b[0;31mTypeError\u001b[0m                                 Traceback (most recent call last)",
      "\u001b[0;32m<ipython-input-48-195d15e427c3>\u001b[0m in \u001b[0;36m<module>\u001b[0;34m\u001b[0m\n\u001b[0;32m----> 1\u001b[0;31m \u001b[0;34m\"\"\u001b[0m\u001b[0;34m.\u001b[0m\u001b[0mjoin\u001b[0m\u001b[0;34m(\u001b[0m\u001b[0;34m[\u001b[0m\u001b[0;34m\"a\"\u001b[0m\u001b[0;34m,\u001b[0m\u001b[0mbf_df\u001b[0m\u001b[0;34m.\u001b[0m\u001b[0mloc\u001b[0m\u001b[0;34m[\u001b[0m\u001b[0;36m1\u001b[0m\u001b[0;34m:\u001b[0m\u001b[0;36m3\u001b[0m\u001b[0;34m,\u001b[0m \u001b[0;34m\"key\"\u001b[0m\u001b[0;34m]\u001b[0m\u001b[0;34m.\u001b[0m\u001b[0mstr\u001b[0m\u001b[0;34m]\u001b[0m\u001b[0;34m)\u001b[0m\u001b[0;34m\u001b[0m\u001b[0;34m\u001b[0m\u001b[0m\n\u001b[0m",
      "\u001b[0;31mTypeError\u001b[0m: sequence item 1: expected str instance, StringMethods found"
     ]
    }
   ],
   "source": [
    "\"\".join([\"a\",bf_df.loc[1:3, \"key\"].str])"
   ]
  }
 ],
 "metadata": {
  "kernelspec": {
   "display_name": "Python [conda env:root] *",
   "language": "python",
   "name": "conda-root-py"
  },
  "language_info": {
   "codemirror_mode": {
    "name": "ipython",
    "version": 3
   },
   "file_extension": ".py",
   "mimetype": "text/x-python",
   "name": "python",
   "nbconvert_exporter": "python",
   "pygments_lexer": "ipython3",
   "version": "3.7.8"
  }
 },
 "nbformat": 4,
 "nbformat_minor": 4
}
