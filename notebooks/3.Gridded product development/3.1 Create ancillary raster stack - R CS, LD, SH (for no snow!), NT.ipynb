{
 "cells": [
  {
   "cell_type": "markdown",
   "metadata": {},
   "source": [
    "# Create covariate stacks"
   ]
  },
  {
   "cell_type": "markdown",
   "metadata": {},
   "source": [
    "### Covariates will be derived by reducing satellite imagery to useful modelling layers\n",
    "#### Covariates can include: Landsat 8, NASADEM, Sentinel-2, Sentinel-1\n",
    "\n",
    "### Inputs:\n",
    "#### bbox_img_tile: An image tile extent will provide the bbox that accesses cloud-optimized GeoTiffs\n",
    "#### filters: search for imagery based on days-of-year, cloudcover, year range\n",
    "##### Note: Image tile extent will be dictated by data volume of covars & CPU RAM"
   ]
  },
  {
   "cell_type": "code",
   "execution_count": 1,
   "metadata": {},
   "outputs": [],
   "source": [
    "# Search for imagery\n",
    "# https://github.com/developmentseed/example-jupyter-notebooks/blob/landsat-search/notebooks/Landsat8-Search/L8-USGS-satapi.ipynb\n",
    "import os\n",
    "import json\n",
    "import requests\n",
    "import datetime\n",
    "\n",
    "sat_api_url = \"https://landsatlook.usgs.gov/sat-api\"\n",
    "\n",
    "def query_satapi(query):\n",
    "    headers = {\n",
    "            \"Content-Type\": \"application/json\",\n",
    "            \"Accept-Encoding\": \"gzip\",\n",
    "            \"Accept\": \"application/geo+json\",\n",
    "        }\n",
    "\n",
    "    url = f\"{sat_api_url}/stac/search\"\n",
    "    data = requests.post(url, headers=headers, json=query).json()\n",
    "    \n",
    "    return data\n",
    "\n",
    "def query_year(year, bbox, min_cloud, max_cloud):\n",
    "    '''Given the year, finds the number of scenes matching the query and returns it.'''\n",
    "    date_min = '-'.join([str(year), \"06-01\"])\n",
    "    date_max = '-'.join([str(year), \"09-15\"])\n",
    "    start_date = datetime.datetime.strptime(date_min, \"%Y-%m-%d\")\n",
    "    end_date = datetime.datetime.strptime(date_max, \"%Y-%m-%d\") \n",
    "    start = start_date.strftime(\"%Y-%m-%dT00:00:00Z\")\n",
    "    end = end_date.strftime(\"%Y-%m-%dT23:59:59Z\")\n",
    "    \n",
    "    query = {\n",
    "    \"time\": f\"{start}/{end}\",\n",
    "    \"bbox\":bbox,\n",
    "    \"query\": {\n",
    "        \"eo:platform\": {\"eq\": \"LANDSAT_8\"},\n",
    "        \"eo:cloud_cover\": {\"gte\": min_cloud, \"lt\": max_cloud},\n",
    "        \"collection\":{\"eq\": \"landsat-c2l2-sr\"},\n",
    "        \"landsat:collection_category\":{\"eq\": \"T1\"}\n",
    "        },\n",
    "    \"limit\": 20 # We limit to 500 items per Page (requests) to make sure sat-api doesn't fail to return big features collection\n",
    "    }\n",
    "    \n",
    "    data = query_satapi(query)\n",
    "    \n",
    "    # you can't trouble shoot if you don't return the actual results\n",
    "    return data"
   ]
  },
  {
   "cell_type": "code",
   "execution_count": 4,
   "metadata": {
    "tags": []
   },
   "outputs": [
    {
     "name": "stdout",
     "output_type": "stream",
     "text": [
      "[78, 80, 99, 95, 58, 97]\n",
      "[12, 20, 19, 17, 17, 15]\n"
     ]
    }
   ],
   "source": [
    "# Accessing imagery\n",
    "# Select an area of interest\n",
    "bbox_list = [[-105,45,-100,50], [-101,45,-100,46]]\n",
    "min_cloud = 0\n",
    "max_cloud = 20\n",
    "for bbox in bbox_list:\n",
    "    # Geojson of total scenes - Change to list of scenes\n",
    "    response_by_year = [query_year(year, bbox, min_cloud, max_cloud ) for year in range(2015,2020 + 1)]\n",
    "    scene_totals = [each['meta']['found'] for each in response_by_year]\n",
    "    print(scene_totals)"
   ]
  },
  {
   "cell_type": "markdown",
   "metadata": {},
   "source": [
    "## Debugging\n",
    "\n",
    "The next few code chunks were inserted just to debug why the query was returning so many results for such a small bounding box. The answer was that bbox needs to be outside the query, and adding a platform and tier to the query reduces even more. Note: everything in the query section follows a very specific format. TODO link the STAC docs explaining the query language."
   ]
  },
  {
   "cell_type": "code",
   "execution_count": 2,
   "metadata": {},
   "outputs": [
    {
     "output_type": "execute_result",
     "data": {
      "text/plain": [
       "15"
      ]
     },
     "metadata": {},
     "execution_count": 2
    }
   ],
   "source": [
    "# It's better to just return the whole response, so you can iterate and debug through it.\n",
    "bbox_list = [[-105,45,-100,50], [-101,45,-100,46]]\n",
    "min_cloud = 0\n",
    "max_cloud = 20\n",
    "\n",
    "response = query_year(2020, bbox_list[1], min_cloud, max_cloud) \n",
    "scenes = response['meta']['found']\n",
    "scenes"
   ]
  },
  {
   "cell_type": "code",
   "execution_count": 3,
   "metadata": {},
   "outputs": [],
   "source": [
    "import geopandas as gpd\n",
    "import folium\n",
    "import shapely as shp"
   ]
  },
  {
   "cell_type": "code",
   "execution_count": 13,
   "metadata": {},
   "outputs": [
    {
     "output_type": "execute_result",
     "data": {
      "text/plain": [
       "  stac_version                                    stac_extensions  \\\n",
       "0        0.7.0  [eo, https://landsat.usgs.gov/stac/landsat-ext...   \n",
       "1        0.7.0  [eo, https://landsat.usgs.gov/stac/landsat-ext...   \n",
       "2        0.7.0  [eo, https://landsat.usgs.gov/stac/landsat-ext...   \n",
       "3        0.7.0  [eo, https://landsat.usgs.gov/stac/landsat-ext...   \n",
       "4        0.7.0  [eo, https://landsat.usgs.gov/stac/landsat-ext...   \n",
       "\n",
       "                                         id     type  \\\n",
       "0  LC08_L2SP_031029_20200915_20200919_02_T1  Feature   \n",
       "1  LC08_L2SP_032029_20200906_20200918_02_T1  Feature   \n",
       "2  LC08_L2SP_031029_20200830_20200906_02_T1  Feature   \n",
       "3  LC08_L2SP_033028_20200828_20200906_02_T1  Feature   \n",
       "4  LC08_L2SP_031029_20200814_20200920_02_T1  Feature   \n",
       "\n",
       "                                                bbox  \\\n",
       "0  [-101.13607861934508, 43.54013885249283, -98.2...   \n",
       "1  [-102.67717345493412, 43.54013847978296, -99.7...   \n",
       "2  [-101.12521442256967, 43.53958813721917, -98.2...   \n",
       "3  [-103.73600586930044, 44.95902708400003, -100....   \n",
       "4  [-101.11327736974626, 43.540385402129104, -98....   \n",
       "\n",
       "                                            geometry  \\\n",
       "0  {'type': 'Polygon', 'coordinates': [[[-100.561...   \n",
       "1  {'type': 'Polygon', 'coordinates': [[[-102.102...   \n",
       "2  {'type': 'Polygon', 'coordinates': [[[-100.550...   \n",
       "3  {'type': 'Polygon', 'coordinates': [[[-103.138...   \n",
       "4  {'type': 'Polygon', 'coordinates': [[[-100.538...   \n",
       "\n",
       "                                         description  \\\n",
       "0  Landsat Collection 2 Level-2 Surface Reflectan...   \n",
       "1  Landsat Collection 2 Level-2 Surface Reflectan...   \n",
       "2  Landsat Collection 2 Level-2 Surface Reflectan...   \n",
       "3  Landsat Collection 2 Level-2 Surface Reflectan...   \n",
       "4  Landsat Collection 2 Level-2 Surface Reflectan...   \n",
       "\n",
       "                                          properties  \\\n",
       "0  {'collection': 'landsat-c2l2-sr', 'eo:gsd': 30...   \n",
       "1  {'collection': 'landsat-c2l2-sr', 'eo:gsd': 30...   \n",
       "2  {'collection': 'landsat-c2l2-sr', 'eo:gsd': 30...   \n",
       "3  {'collection': 'landsat-c2l2-sr', 'eo:gsd': 30...   \n",
       "4  {'collection': 'landsat-c2l2-sr', 'eo:gsd': 30...   \n",
       "\n",
       "                                              assets  \\\n",
       "0  {'thumbnail': {'href': 'https://landsatlook.us...   \n",
       "1  {'thumbnail': {'href': 'https://landsatlook.us...   \n",
       "2  {'thumbnail': {'href': 'https://landsatlook.us...   \n",
       "3  {'thumbnail': {'href': 'https://landsatlook.us...   \n",
       "4  {'thumbnail': {'href': 'https://landsatlook.us...   \n",
       "\n",
       "                                               links       collection  \n",
       "0  [{'rel': 'self', 'href': 'https://landsatlook....  landsat-c2l2-sr  \n",
       "1  [{'rel': 'self', 'href': 'https://landsatlook....  landsat-c2l2-sr  \n",
       "2  [{'rel': 'self', 'href': 'https://landsatlook....  landsat-c2l2-sr  \n",
       "3  [{'rel': 'self', 'href': 'https://landsatlook....  landsat-c2l2-sr  \n",
       "4  [{'rel': 'self', 'href': 'https://landsatlook....  landsat-c2l2-sr  "
      ],
      "text/html": "<div>\n<style scoped>\n    .dataframe tbody tr th:only-of-type {\n        vertical-align: middle;\n    }\n\n    .dataframe tbody tr th {\n        vertical-align: top;\n    }\n\n    .dataframe thead th {\n        text-align: right;\n    }\n</style>\n<table border=\"1\" class=\"dataframe\">\n  <thead>\n    <tr style=\"text-align: right;\">\n      <th></th>\n      <th>stac_version</th>\n      <th>stac_extensions</th>\n      <th>id</th>\n      <th>type</th>\n      <th>bbox</th>\n      <th>geometry</th>\n      <th>description</th>\n      <th>properties</th>\n      <th>assets</th>\n      <th>links</th>\n      <th>collection</th>\n    </tr>\n  </thead>\n  <tbody>\n    <tr>\n      <th>0</th>\n      <td>0.7.0</td>\n      <td>[eo, https://landsat.usgs.gov/stac/landsat-ext...</td>\n      <td>LC08_L2SP_031029_20200915_20200919_02_T1</td>\n      <td>Feature</td>\n      <td>[-101.13607861934508, 43.54013885249283, -98.2...</td>\n      <td>{'type': 'Polygon', 'coordinates': [[[-100.561...</td>\n      <td>Landsat Collection 2 Level-2 Surface Reflectan...</td>\n      <td>{'collection': 'landsat-c2l2-sr', 'eo:gsd': 30...</td>\n      <td>{'thumbnail': {'href': 'https://landsatlook.us...</td>\n      <td>[{'rel': 'self', 'href': 'https://landsatlook....</td>\n      <td>landsat-c2l2-sr</td>\n    </tr>\n    <tr>\n      <th>1</th>\n      <td>0.7.0</td>\n      <td>[eo, https://landsat.usgs.gov/stac/landsat-ext...</td>\n      <td>LC08_L2SP_032029_20200906_20200918_02_T1</td>\n      <td>Feature</td>\n      <td>[-102.67717345493412, 43.54013847978296, -99.7...</td>\n      <td>{'type': 'Polygon', 'coordinates': [[[-102.102...</td>\n      <td>Landsat Collection 2 Level-2 Surface Reflectan...</td>\n      <td>{'collection': 'landsat-c2l2-sr', 'eo:gsd': 30...</td>\n      <td>{'thumbnail': {'href': 'https://landsatlook.us...</td>\n      <td>[{'rel': 'self', 'href': 'https://landsatlook....</td>\n      <td>landsat-c2l2-sr</td>\n    </tr>\n    <tr>\n      <th>2</th>\n      <td>0.7.0</td>\n      <td>[eo, https://landsat.usgs.gov/stac/landsat-ext...</td>\n      <td>LC08_L2SP_031029_20200830_20200906_02_T1</td>\n      <td>Feature</td>\n      <td>[-101.12521442256967, 43.53958813721917, -98.2...</td>\n      <td>{'type': 'Polygon', 'coordinates': [[[-100.550...</td>\n      <td>Landsat Collection 2 Level-2 Surface Reflectan...</td>\n      <td>{'collection': 'landsat-c2l2-sr', 'eo:gsd': 30...</td>\n      <td>{'thumbnail': {'href': 'https://landsatlook.us...</td>\n      <td>[{'rel': 'self', 'href': 'https://landsatlook....</td>\n      <td>landsat-c2l2-sr</td>\n    </tr>\n    <tr>\n      <th>3</th>\n      <td>0.7.0</td>\n      <td>[eo, https://landsat.usgs.gov/stac/landsat-ext...</td>\n      <td>LC08_L2SP_033028_20200828_20200906_02_T1</td>\n      <td>Feature</td>\n      <td>[-103.73600586930044, 44.95902708400003, -100....</td>\n      <td>{'type': 'Polygon', 'coordinates': [[[-103.138...</td>\n      <td>Landsat Collection 2 Level-2 Surface Reflectan...</td>\n      <td>{'collection': 'landsat-c2l2-sr', 'eo:gsd': 30...</td>\n      <td>{'thumbnail': {'href': 'https://landsatlook.us...</td>\n      <td>[{'rel': 'self', 'href': 'https://landsatlook....</td>\n      <td>landsat-c2l2-sr</td>\n    </tr>\n    <tr>\n      <th>4</th>\n      <td>0.7.0</td>\n      <td>[eo, https://landsat.usgs.gov/stac/landsat-ext...</td>\n      <td>LC08_L2SP_031029_20200814_20200920_02_T1</td>\n      <td>Feature</td>\n      <td>[-101.11327736974626, 43.540385402129104, -98....</td>\n      <td>{'type': 'Polygon', 'coordinates': [[[-100.538...</td>\n      <td>Landsat Collection 2 Level-2 Surface Reflectan...</td>\n      <td>{'collection': 'landsat-c2l2-sr', 'eo:gsd': 30...</td>\n      <td>{'thumbnail': {'href': 'https://landsatlook.us...</td>\n      <td>[{'rel': 'self', 'href': 'https://landsatlook....</td>\n      <td>landsat-c2l2-sr</td>\n    </tr>\n  </tbody>\n</table>\n</div>"
     },
     "metadata": {},
     "execution_count": 13
    }
   ],
   "source": [
    "scenes_poly = gpd.GeoDataFrame(response[\"features\"])\n",
    "scenes_poly.head()"
   ]
  },
  {
   "cell_type": "code",
   "execution_count": 45,
   "metadata": {},
   "outputs": [
    {
     "name": "stdout",
     "output_type": "stream",
     "text": [
      "LC08_L2SP_031029_20200915_20200919_02_T1\n",
      "LC08_L2SP_032029_20200906_20200918_02_T1\n",
      "LC08_L2SP_031029_20200830_20200906_02_T1\n",
      "LC08_L2SP_033028_20200828_20200906_02_T1\n",
      "LC08_L2SP_031029_20200814_20200920_02_T1\n",
      "LC08_L2SP_033028_20200812_20200918_02_T1\n",
      "LC08_L2SP_032029_20200805_20200916_02_T1\n",
      "LC08_L2SP_032029_20200805_20200821_02_T1\n",
      "LC08_L2SP_033028_20200727_20200908_02_T1\n",
      "LC08_L2SP_033028_20200727_20200806_02_T1\n",
      "LC08_L2SP_032029_20200704_20200913_02_T1\n",
      "LC08_L2SP_031029_20200627_20200823_02_T1\n",
      "LC08_L2SP_031028_20200627_20200824_02_T1\n",
      "LC08_L2SP_031028_20200611_20200824_02_T1\n",
      "LC08_L2SP_031029_20200611_20200824_02_T1\n"
     ]
    }
   ],
   "source": [
    "# Some helpful ways to debug\n",
    "#response['features'][0]\n",
    "#for item in response['features']: print(item['id'])"
   ]
  },
  {
   "cell_type": "code",
   "execution_count": 14,
   "metadata": {},
   "outputs": [
    {
     "output_type": "error",
     "ename": "AttributeError",
     "evalue": "'dict' object has no attribute 'is_empty'",
     "traceback": [
      "\u001b[0;31m---------------------------------------------------------------------------\u001b[0m",
      "\u001b[0;31mAttributeError\u001b[0m                            Traceback (most recent call last)",
      "\u001b[0;32m<ipython-input-14-68b896782747>\u001b[0m in \u001b[0;36m<module>\u001b[0;34m\u001b[0m\n\u001b[0;32m----> 1\u001b[0;31m \u001b[0msc_bbox\u001b[0m \u001b[0;34m=\u001b[0m \u001b[0mscenes_poly\u001b[0m\u001b[0;34m.\u001b[0m\u001b[0mtotal_bounds\u001b[0m\u001b[0;34m\u001b[0m\u001b[0;34m\u001b[0m\u001b[0m\n\u001b[0m\u001b[1;32m      2\u001b[0m \u001b[0mcenter\u001b[0m \u001b[0;34m=\u001b[0m \u001b[0mshp\u001b[0m\u001b[0;34m.\u001b[0m\u001b[0mgeometry\u001b[0m\u001b[0;34m.\u001b[0m\u001b[0mbox\u001b[0m\u001b[0;34m(\u001b[0m\u001b[0msc_bbox\u001b[0m\u001b[0;34m[\u001b[0m\u001b[0;36m0\u001b[0m\u001b[0;34m]\u001b[0m\u001b[0;34m,\u001b[0m \u001b[0msc_bbox\u001b[0m\u001b[0;34m[\u001b[0m\u001b[0;36m1\u001b[0m\u001b[0;34m]\u001b[0m\u001b[0;34m,\u001b[0m \u001b[0msc_bbox\u001b[0m\u001b[0;34m[\u001b[0m\u001b[0;36m2\u001b[0m\u001b[0;34m]\u001b[0m\u001b[0;34m,\u001b[0m \u001b[0msc_bbox\u001b[0m\u001b[0;34m[\u001b[0m\u001b[0;36m3\u001b[0m\u001b[0;34m]\u001b[0m\u001b[0;34m)\u001b[0m\u001b[0;34m.\u001b[0m\u001b[0mcentroid\u001b[0m\u001b[0;34m\u001b[0m\u001b[0;34m\u001b[0m\u001b[0m\n\u001b[1;32m      3\u001b[0m \u001b[0;34m\u001b[0m\u001b[0m\n\u001b[1;32m      4\u001b[0m m = folium.Map(\n\u001b[1;32m      5\u001b[0m     \u001b[0mlocation\u001b[0m\u001b[0;34m=\u001b[0m\u001b[0mcenter\u001b[0m\u001b[0;34m,\u001b[0m\u001b[0;34m\u001b[0m\u001b[0;34m\u001b[0m\u001b[0m\n",
      "\u001b[0;32m~/anaconda3/envs/geo/lib/python3.8/site-packages/pandas/core/generic.py\u001b[0m in \u001b[0;36m__getattr__\u001b[0;34m(self, name)\u001b[0m\n\u001b[1;32m   5128\u001b[0m             \u001b[0;32mif\u001b[0m \u001b[0mself\u001b[0m\u001b[0;34m.\u001b[0m\u001b[0m_info_axis\u001b[0m\u001b[0;34m.\u001b[0m\u001b[0m_can_hold_identifiers_and_holds_name\u001b[0m\u001b[0;34m(\u001b[0m\u001b[0mname\u001b[0m\u001b[0;34m)\u001b[0m\u001b[0;34m:\u001b[0m\u001b[0;34m\u001b[0m\u001b[0;34m\u001b[0m\u001b[0m\n\u001b[1;32m   5129\u001b[0m                 \u001b[0;32mreturn\u001b[0m \u001b[0mself\u001b[0m\u001b[0;34m[\u001b[0m\u001b[0mname\u001b[0m\u001b[0;34m]\u001b[0m\u001b[0;34m\u001b[0m\u001b[0;34m\u001b[0m\u001b[0m\n\u001b[0;32m-> 5130\u001b[0;31m             \u001b[0;32mreturn\u001b[0m \u001b[0mobject\u001b[0m\u001b[0;34m.\u001b[0m\u001b[0m__getattribute__\u001b[0m\u001b[0;34m(\u001b[0m\u001b[0mself\u001b[0m\u001b[0;34m,\u001b[0m \u001b[0mname\u001b[0m\u001b[0;34m)\u001b[0m\u001b[0;34m\u001b[0m\u001b[0;34m\u001b[0m\u001b[0m\n\u001b[0m\u001b[1;32m   5131\u001b[0m \u001b[0;34m\u001b[0m\u001b[0m\n\u001b[1;32m   5132\u001b[0m     \u001b[0;32mdef\u001b[0m \u001b[0m__setattr__\u001b[0m\u001b[0;34m(\u001b[0m\u001b[0mself\u001b[0m\u001b[0;34m,\u001b[0m \u001b[0mname\u001b[0m\u001b[0;34m:\u001b[0m \u001b[0mstr\u001b[0m\u001b[0;34m,\u001b[0m \u001b[0mvalue\u001b[0m\u001b[0;34m)\u001b[0m \u001b[0;34m->\u001b[0m \u001b[0;32mNone\u001b[0m\u001b[0;34m:\u001b[0m\u001b[0;34m\u001b[0m\u001b[0;34m\u001b[0m\u001b[0m\n",
      "\u001b[0;32m~/anaconda3/envs/geo/lib/python3.8/site-packages/geopandas/base.py\u001b[0m in \u001b[0;36mtotal_bounds\u001b[0;34m(self)\u001b[0m\n\u001b[1;32m    586\u001b[0m         \u001b[0mthe\u001b[0m \u001b[0mseries\u001b[0m\u001b[0;34m.\u001b[0m\u001b[0;34m\u001b[0m\u001b[0;34m\u001b[0m\u001b[0m\n\u001b[1;32m    587\u001b[0m         \"\"\"\n\u001b[0;32m--> 588\u001b[0;31m         \u001b[0;32mreturn\u001b[0m \u001b[0mGeometryArray\u001b[0m\u001b[0;34m(\u001b[0m\u001b[0mself\u001b[0m\u001b[0;34m.\u001b[0m\u001b[0mgeometry\u001b[0m\u001b[0;34m.\u001b[0m\u001b[0mvalues\u001b[0m\u001b[0;34m)\u001b[0m\u001b[0;34m.\u001b[0m\u001b[0mtotal_bounds\u001b[0m\u001b[0;34m\u001b[0m\u001b[0;34m\u001b[0m\u001b[0m\n\u001b[0m\u001b[1;32m    589\u001b[0m \u001b[0;34m\u001b[0m\u001b[0m\n\u001b[1;32m    590\u001b[0m     \u001b[0;34m@\u001b[0m\u001b[0mproperty\u001b[0m\u001b[0;34m\u001b[0m\u001b[0;34m\u001b[0m\u001b[0m\n",
      "\u001b[0;32m~/anaconda3/envs/geo/lib/python3.8/site-packages/geopandas/array.py\u001b[0m in \u001b[0;36mtotal_bounds\u001b[0;34m(self)\u001b[0m\n\u001b[1;32m    684\u001b[0m             \u001b[0;31m# TODO with numpy >= 1.15, the 'initial' argument can be used\u001b[0m\u001b[0;34m\u001b[0m\u001b[0;34m\u001b[0m\u001b[0;34m\u001b[0m\u001b[0m\n\u001b[1;32m    685\u001b[0m             \u001b[0;32mreturn\u001b[0m \u001b[0mnp\u001b[0m\u001b[0;34m.\u001b[0m\u001b[0marray\u001b[0m\u001b[0;34m(\u001b[0m\u001b[0;34m[\u001b[0m\u001b[0mnp\u001b[0m\u001b[0;34m.\u001b[0m\u001b[0mnan\u001b[0m\u001b[0;34m,\u001b[0m \u001b[0mnp\u001b[0m\u001b[0;34m.\u001b[0m\u001b[0mnan\u001b[0m\u001b[0;34m,\u001b[0m \u001b[0mnp\u001b[0m\u001b[0;34m.\u001b[0m\u001b[0mnan\u001b[0m\u001b[0;34m,\u001b[0m \u001b[0mnp\u001b[0m\u001b[0;34m.\u001b[0m\u001b[0mnan\u001b[0m\u001b[0;34m]\u001b[0m\u001b[0;34m)\u001b[0m\u001b[0;34m\u001b[0m\u001b[0;34m\u001b[0m\u001b[0m\n\u001b[0;32m--> 686\u001b[0;31m         \u001b[0mb\u001b[0m \u001b[0;34m=\u001b[0m \u001b[0mself\u001b[0m\u001b[0;34m.\u001b[0m\u001b[0mbounds\u001b[0m\u001b[0;34m\u001b[0m\u001b[0;34m\u001b[0m\u001b[0m\n\u001b[0m\u001b[1;32m    687\u001b[0m         return np.array(\n\u001b[1;32m    688\u001b[0m             (\n",
      "\u001b[0;32m~/anaconda3/envs/geo/lib/python3.8/site-packages/geopandas/array.py\u001b[0m in \u001b[0;36mbounds\u001b[0;34m(self)\u001b[0m\n\u001b[1;32m    676\u001b[0m     \u001b[0;34m@\u001b[0m\u001b[0mproperty\u001b[0m\u001b[0;34m\u001b[0m\u001b[0;34m\u001b[0m\u001b[0m\n\u001b[1;32m    677\u001b[0m     \u001b[0;32mdef\u001b[0m \u001b[0mbounds\u001b[0m\u001b[0;34m(\u001b[0m\u001b[0mself\u001b[0m\u001b[0;34m)\u001b[0m\u001b[0;34m:\u001b[0m\u001b[0;34m\u001b[0m\u001b[0;34m\u001b[0m\u001b[0m\n\u001b[0;32m--> 678\u001b[0;31m         \u001b[0;32mreturn\u001b[0m \u001b[0mvectorized\u001b[0m\u001b[0;34m.\u001b[0m\u001b[0mbounds\u001b[0m\u001b[0;34m(\u001b[0m\u001b[0mself\u001b[0m\u001b[0;34m.\u001b[0m\u001b[0mdata\u001b[0m\u001b[0;34m)\u001b[0m\u001b[0;34m\u001b[0m\u001b[0;34m\u001b[0m\u001b[0m\n\u001b[0m\u001b[1;32m    679\u001b[0m \u001b[0;34m\u001b[0m\u001b[0m\n\u001b[1;32m    680\u001b[0m     \u001b[0;34m@\u001b[0m\u001b[0mproperty\u001b[0m\u001b[0;34m\u001b[0m\u001b[0;34m\u001b[0m\u001b[0m\n",
      "\u001b[0;32m~/anaconda3/envs/geo/lib/python3.8/site-packages/geopandas/_vectorized.py\u001b[0m in \u001b[0;36mbounds\u001b[0;34m(data)\u001b[0m\n\u001b[1;32m    859\u001b[0m     \u001b[0;31m# as those return an empty tuple, not resulting in a 2D array\u001b[0m\u001b[0;34m\u001b[0m\u001b[0;34m\u001b[0m\u001b[0;34m\u001b[0m\u001b[0m\n\u001b[1;32m    860\u001b[0m     bounds = np.array(\n\u001b[0;32m--> 861\u001b[0;31m         [\n\u001b[0m\u001b[1;32m    862\u001b[0m             \u001b[0mgeom\u001b[0m\u001b[0;34m.\u001b[0m\u001b[0mbounds\u001b[0m\u001b[0;34m\u001b[0m\u001b[0;34m\u001b[0m\u001b[0m\n\u001b[1;32m    863\u001b[0m             \u001b[0;32mif\u001b[0m \u001b[0;32mnot\u001b[0m \u001b[0;34m(\u001b[0m\u001b[0mgeom\u001b[0m \u001b[0;32mis\u001b[0m \u001b[0;32mNone\u001b[0m \u001b[0;32mor\u001b[0m \u001b[0mgeom\u001b[0m\u001b[0;34m.\u001b[0m\u001b[0mis_empty\u001b[0m\u001b[0;34m)\u001b[0m\u001b[0;34m\u001b[0m\u001b[0;34m\u001b[0m\u001b[0m\n",
      "\u001b[0;32m~/anaconda3/envs/geo/lib/python3.8/site-packages/geopandas/_vectorized.py\u001b[0m in \u001b[0;36m<listcomp>\u001b[0;34m(.0)\u001b[0m\n\u001b[1;32m    861\u001b[0m         [\n\u001b[1;32m    862\u001b[0m             \u001b[0mgeom\u001b[0m\u001b[0;34m.\u001b[0m\u001b[0mbounds\u001b[0m\u001b[0;34m\u001b[0m\u001b[0;34m\u001b[0m\u001b[0m\n\u001b[0;32m--> 863\u001b[0;31m             \u001b[0;32mif\u001b[0m \u001b[0;32mnot\u001b[0m \u001b[0;34m(\u001b[0m\u001b[0mgeom\u001b[0m \u001b[0;32mis\u001b[0m \u001b[0;32mNone\u001b[0m \u001b[0;32mor\u001b[0m \u001b[0mgeom\u001b[0m\u001b[0;34m.\u001b[0m\u001b[0mis_empty\u001b[0m\u001b[0;34m)\u001b[0m\u001b[0;34m\u001b[0m\u001b[0;34m\u001b[0m\u001b[0m\n\u001b[0m\u001b[1;32m    864\u001b[0m             \u001b[0;32melse\u001b[0m \u001b[0;34m(\u001b[0m\u001b[0mnp\u001b[0m\u001b[0;34m.\u001b[0m\u001b[0mnan\u001b[0m\u001b[0;34m,\u001b[0m \u001b[0mnp\u001b[0m\u001b[0;34m.\u001b[0m\u001b[0mnan\u001b[0m\u001b[0;34m,\u001b[0m \u001b[0mnp\u001b[0m\u001b[0;34m.\u001b[0m\u001b[0mnan\u001b[0m\u001b[0;34m,\u001b[0m \u001b[0mnp\u001b[0m\u001b[0;34m.\u001b[0m\u001b[0mnan\u001b[0m\u001b[0;34m)\u001b[0m\u001b[0;34m\u001b[0m\u001b[0;34m\u001b[0m\u001b[0m\n\u001b[1;32m    865\u001b[0m             \u001b[0;32mfor\u001b[0m \u001b[0mgeom\u001b[0m \u001b[0;32min\u001b[0m \u001b[0mdata\u001b[0m\u001b[0;34m\u001b[0m\u001b[0;34m\u001b[0m\u001b[0m\n",
      "\u001b[0;31mAttributeError\u001b[0m: 'dict' object has no attribute 'is_empty'"
     ]
    }
   ],
   "source": [
    "sc_bbox = scenes_poly.total_bounds\n",
    "center = shp.geometry.box(sc_bbox[0], sc_bbox[1], sc_bbox[2], sc_bbox[3]).centroid\n",
    "\n",
    "m = folium.Map(\n",
    "    location=center,\n",
    "    tiles=\"cartodbpositron\",\n",
    "    zoom_start=6,\n",
    ")\n",
    "folium.GeoJson(scenes_poly, name=\"geojson\").add_to(m)\n",
    "m"
   ]
  },
  {
   "cell_type": "markdown",
   "metadata": {},
   "source": [
    "## Accessing Data\n",
    "\n",
    "Now that we've queried for which landsat scenes to use in a given analysis tile, we need to setup AWS authentication and iterate over the assets, subsetting based on the tile (bbox). An AWS IAM account access key and secret are required so the bill goes to the right place for any requester pays costs."
   ]
  },
  {
   "cell_type": "code",
   "execution_count": 5,
   "metadata": {},
   "outputs": [
    {
     "name": "stdout",
     "output_type": "stream",
     "text": [
      "\u001b[33mWARNING: You are using pip version 21.0; however, version 21.0.1 is available.\n",
      "You should consider upgrading via the '/opt/conda/bin/python -m pip install --upgrade pip' command.\u001b[0m\n",
      "Note: you may need to restart the kernel to use updated packages.\n",
      "\u001b[33mWARNING: You are using pip version 21.0; however, version 21.0.1 is available.\n",
      "You should consider upgrading via the '/opt/conda/bin/python -m pip install --upgrade pip' command.\u001b[0m\n",
      "Note: you may need to restart the kernel to use updated packages.\n",
      "\u001b[33mWARNING: You are using pip version 21.0; however, version 21.0.1 is available.\n",
      "You should consider upgrading via the '/opt/conda/bin/python -m pip install --upgrade pip' command.\u001b[0m\n",
      "Note: you may need to restart the kernel to use updated packages.\n",
      "\u001b[33mWARNING: You are using pip version 21.0; however, version 21.0.1 is available.\n",
      "You should consider upgrading via the '/opt/conda/bin/python -m pip install --upgrade pip' command.\u001b[0m\n",
      "Note: you may need to restart the kernel to use updated packages.\n",
      "env: CURL_CA_BUNDLE=/etc/ssl/certs/ca-certificates.crt\n"
     ]
    }
   ],
   "source": [
    "# Skip if you already have everything installed\n",
    "%pip install -q python-dotenv\n",
    "%pip install -q boto3\n",
    "%pip install -q rasterio\n",
    "%pip install -q pyproj\n",
    "# TODO add the CURL ssl path to the .env file\n",
    "%env CURL_CA_BUNDLE=/etc/ssl/certs/ca-certificates.crt"
   ]
  },
  {
   "cell_type": "code",
   "execution_count": 6,
   "metadata": {},
   "outputs": [
    {
     "data": {
      "text/plain": [
       "True"
      ]
     },
     "execution_count": 6,
     "metadata": {},
     "output_type": "execute_result"
    }
   ],
   "source": [
    "# load env variables from a .env file\n",
    "import os\n",
    "import rasterio as rio\n",
    "from rasterio.session import AWSSession \n",
    "import numpy as np\n",
    "import pyproj\n",
    "import boto3\n",
    "from matplotlib.pyplot import imshow\n",
    "from dotenv import load_dotenv\n",
    "load_dotenv()"
   ]
  },
  {
   "cell_type": "code",
   "execution_count": null,
   "metadata": {},
   "outputs": [],
   "source": [
    "# One option is to read this from the env, should work in ADE\n",
    "# TODO: how do you pass secrets to DPS jobs?\n",
    "\n",
    "aws_access_key_id=os.getenv('aws_access_key_id')\n",
    "aws_secret_access_key=os.getenv('aws_secret_access_key')\n",
    "if aws_access_key_id is None:\n",
    "    aws_access_key_id = input(\"AWS Access Key Id\")\n",
    "if aws_secret_access_key is None:\n",
    "    aws_secret_access_key = input(\"AWS Secret Access Key\")\n"
   ]
  },
  {
   "cell_type": "code",
   "execution_count": 13,
   "metadata": {},
   "outputs": [],
   "source": [
    "# Processing imagery (band math)\n",
    "# is this done on the fly? No\n",
    "\n",
    "\n",
    "# Authenticate to aws to access a requester pays bucket\n",
    "aws_session = AWSSession(boto3.Session(aws_access_key_id=aws_access_key_id,\n",
    "                                      aws_secret_access_key=aws_secret_access_key),\n",
    "                        requester_pays=True)"
   ]
  },
  {
   "cell_type": "code",
   "execution_count": null,
   "metadata": {},
   "outputs": [],
   "source": [
    "# Verify what credential are being used and that requester pays is set if needed\n",
    "aws_session.credentials"
   ]
  },
  {
   "cell_type": "markdown",
   "metadata": {},
   "source": [
    "### Verify that S3 access works"
   ]
  },
  {
   "cell_type": "code",
   "execution_count": 16,
   "metadata": {},
   "outputs": [
    {
     "name": "stdout",
     "output_type": "stream",
     "text": [
      "s3://usgs-landsat/collection02/level-2/standard/oli-tirs/2015/032/028/LC08_L2SP_032028_20150824_20200908_02_T1/LC08_L2SP_032028_20150824_20200908_02_T1_SR_B3.TIF\n"
     ]
    }
   ],
   "source": [
    "# The returned data is actually geojson, could load into a geopandas dataframe\n",
    "\n",
    "# Get the first feature, and lookup the url of Band 4 asset\n",
    "asset = response_by_year[0]['features'][1]['assets']['SR_B3.TIF']['href']\n",
    "\n",
    "# Convert to S3 url for use with requester pays\n",
    "cog = asset.replace('https://landsatlook.usgs.gov/data/', 's3://usgs-landsat/')\n",
    "print(cog)"
   ]
  },
  {
   "cell_type": "code",
   "execution_count": 18,
   "metadata": {},
   "outputs": [
    {
     "name": "stdout",
     "output_type": "stream",
     "text": [
      "{'driver': 'GTiff', 'dtype': 'uint16', 'nodata': 0.0, 'width': 7921, 'height': 8031, 'count': 1, 'crs': CRS.from_epsg(32614), 'transform': Affine(30.0, 0.0, 248385.0,\n",
      "       0.0, -30.0, 5218815.0), 'blockxsize': 256, 'blockysize': 256, 'tiled': True, 'compress': 'deflate', 'interleave': 'band'}\n"
     ]
    },
    {
     "data": {
      "text/plain": [
       "<matplotlib.image.AxesImage at 0x7efb34e64e10>"
      ]
     },
     "execution_count": 18,
     "metadata": {},
     "output_type": "execute_result"
    },
    {
     "data": {
      "image/png": "[encoded data removed]",
      "text/plain": [
       "<Figure size 432x288 with 1 Axes>"
      ]
     },
     "metadata": {
      "needs_background": "light"
     },
     "output_type": "display_data"
    }
   ],
   "source": [
    "# Basic access example\n",
    "with rio.Env(aws_session):\n",
    "    with rio.open(cog) as src:\n",
    "        profile = src.profile\n",
    "        arr = src.read(1)\n",
    "        print(profile)\n",
    "\n",
    "#plot the raster\n",
    "imshow(arr)"
   ]
  },
  {
   "cell_type": "markdown",
   "metadata": {},
   "source": [
    "### Get Stacks of Data\n",
    "\n",
    "For each scene, request a subset fitting the tile bbox and stack all the required bands.\n",
    "Alternately one could just save each file as is - but long term this is not the cloud optimized method."
   ]
  },
  {
   "cell_type": "code",
   "execution_count": 1,
   "metadata": {},
   "outputs": [],
   "source": [
    "def reproject_bbox(src, bbox, bbox_crs='epsg:4326'):\n",
    "    '''\n",
    "    Convert the bounding box to local coordinates of the data\n",
    "    src is the raster data handler\n",
    "    bbox, and bbox_crs supplied by user\n",
    "    returns a rasterio window object \n",
    "    '''\n",
    "    # bbox has 2 sets, row,col\n",
    "    data_crs=pyproj.Proj(src.crs)\n",
    "    bbox_crs=pyproj.Proj(init=bbox_crs)\n",
    "    lower = pyproj.transform(bbox_crs, data_crs, bbox[0], bbox[1])\n",
    "    upper = pyproj.transform(bbox_crs, data_crs, bbox[2], bbox[3])\n",
    "    \n",
    "    bottom, left = src.index(lower[0], lower[1])\n",
    "    top, right = src.index(upper[0], upper[1])\n",
    "    \n",
    "    # merge back into a window\n",
    "    # Remember gdal reads from the upper left corner\n",
    "    width = abs(top-bottom)\n",
    "    height = abs(right-left)\n",
    "    local_window = rasterio.windows.Window(left, top, width, height)\n",
    "    #print(local_window)\n",
    "    return local_window\n",
    "\n",
    "def extract_subset(cog, bbox, band):\n",
    "    '''\n",
    "    Given a path to an S3 COG geotiff, a bbox in latlon(e.g. wgs84), a band.\n",
    "    Extracts a subset of an image by reading a window. \n",
    "    When used with COGs will only read the required portion of the file.\n",
    "    BBOX format [minX, minY, maxX, maxY]\n",
    "    bbox = [11.6, -0.1, 11.7, -0.0]\n",
    "    Band is the layer in the file, a single band tif, only has 1.\n",
    "    '''\n",
    "    \n",
    "    with rio.Env(aws_session):\n",
    "        with rasterio.open(cog) as src:\n",
    "            local_window = reproject_bbox(src, bbox, bbox_crs='epsg:4326')\n",
    "            # query the subset with a window\n",
    "            # todo: modify to allow multiband data sources\n",
    "            subset = src.read(band, window=local_window)\n",
    "        \n",
    "    return subset, src.crs, src.transform"
   ]
  },
  {
   "cell_type": "code",
   "execution_count": null,
   "metadata": {
    "tags": [
     "outputPrepend"
    ]
   },
   "outputs": [],
   "source": [
    "## Retrieving Pixels\n",
    "bands = [2,3,4,5,6]\n",
    "bbox = bbox_list[1]\n",
    "# TODO: \n",
    "# Loop over each scene\n",
    "response = response_by_year[1]\n",
    "# Each season should actually be it's own DPS job\n",
    "for item in response['features']:\n",
    "    # for each scene Loop over bands 2,3,4,5,6 (assets)\n",
    "    for band in bands:\n",
    "        # For each scene, read subset set by bounding box\n",
    "        asset = item['assets'][f'SR_B{band}.TIF']['href']\n",
    "        # Convert to S3 url for use with requester pays\n",
    "        cog = asset.replace('https://landsatlook.usgs.gov/data/', 's3://usgs-landsat/')\n",
    "        print(cog) \n",
    "        # Since the source files are per band, the 1st band in a given file is default\n",
    "        # Bound Box reprojected on the fly to the native projection of the asset\n",
    "        #subset, crs, transform = extract_subset(cog, bbox, 1)\n",
    "\n",
    "    # stack the bands into the same array with n layers (z direction)?\n",
    "    # optional: calculate indexes based on the bands and store as additional layers\n",
    "    # save cog to disk (could be a kea or Zarr(xarray))\n",
    "# after looping, make a VRT of cogs so it can be treated as a single file ?\n",
    "\n",
    "# Questions, \n",
    "# 1. should the tiling scheme be LonLat 1 degree, the end Equal area projection, or utm zone based? take bbox reproject to LonLat for the query\n",
    "# 2. do we need the QA band or can we do that separate, the only limitation on cogs is that the storage type needs to be identical in all bands. Kea or Zarr could accomodate, or if the pixels are cloud filtered before saving the stack then a COG is ok."
   ]
  },
  {
   "cell_type": "markdown",
   "metadata": {},
   "source": [
    "## Greenest Pixel Selection"
   ]
  },
  {
   "cell_type": "code",
   "execution_count": 33,
   "metadata": {},
   "outputs": [
    {
     "name": "stdout",
     "output_type": "stream",
     "text": [
      "ndvi1 =  [[1.2 1.2 nan]\n",
      " [1.2 2.2 1.2]\n",
      " [1.2 1.2 1.2]]\n",
      "ndvi2 =  [[2.2 2.2 2.2]\n",
      " [2.2 1.2 2.2]\n",
      " [2.2 2.2 2.2]]\n",
      "ndvi3 =  [[2.2 1.2 3.2]\n",
      " [1.2 1.2 1.2]\n",
      " [2.2 2.2 3.2]]\n"
     ]
    }
   ],
   "source": [
    "# Test case for making greenest pixel comps with numpy arrays\n",
    "import numpy as np\n",
    "#imagine 3 ndvi layers from 3 seperate images such that\n",
    "\n",
    "ndvi1 = np.array([[1.2, 1.2, np.NaN],[1.2, 2.2, 1.2],[1.2, 1.2, 1.2]])\n",
    "\n",
    "ndvi2 = np.array([[2.2, 2.2, 2.2],[2.2, 1.2, 2.2],[2.2, 2.2, 2.2]])\n",
    "\n",
    "ndvi3 = np.array([[2.2, 1.2, 3.2],[1.2, 1.2, 1.2],[2.2, 2.2, 3.2]])\n",
    "\n",
    "print('ndvi1 = ', ndvi1)\n",
    "print('ndvi2 = ', ndvi2)\n",
    "print('ndvi3 = ', ndvi3)"
   ]
  },
  {
   "cell_type": "code",
   "execution_count": 34,
   "metadata": {},
   "outputs": [
    {
     "name": "stdout",
     "output_type": "stream",
     "text": [
      "[[5 5 5]\n",
      " [5 5 5]\n",
      " [5 5 5]]\n",
      "[[6 6 6]\n",
      " [6 6 6]\n",
      " [6 6 6]]\n",
      "[[7 7 7]\n",
      " [7 7 7]\n",
      " [7 7 7]]\n"
     ]
    }
   ],
   "source": [
    "# Now 3 'Red' bands where numbers can be anything\n",
    "#(but kept the same here for easy tracking, such that:)\n",
    "\n",
    "Red1 = np.array([[5, 5, 5],[5, 5, 5],[5, 5, 5]])\n",
    "\n",
    "Red2 = np.array([[6, 6, 6],[6, 6, 6],[6, 6, 6]])\n",
    "\n",
    "Red3 = np.array([[7, 7, 7],[7, 7, 7],[7, 7, 7]])\n",
    "\n",
    "print(Red1)\n",
    "print(Red2)\n",
    "print(Red3)\n",
    "# create array of all Green bands\n",
    "\n",
    "Stack = np.array([Red1, Red2, Red3])"
   ]
  },
  {
   "cell_type": "code",
   "execution_count": 36,
   "metadata": {},
   "outputs": [
    {
     "name": "stdout",
     "output_type": "stream",
     "text": [
      "[[1 1 2]\n",
      " [1 0 1]\n",
      " [1 1 2]]\n"
     ]
    }
   ],
   "source": [
    "# now, find the index value (position) of the max ndvi layers (based on\n",
    "# first axis: imagine drilling down through a stack/cube)\n",
    "\n",
    "max = np.nanargmax((ndvi1,ndvi2,ndvi3),axis=0,)\n",
    "print(max)"
   ]
  },
  {
   "cell_type": "code",
   "execution_count": 26,
   "metadata": {},
   "outputs": [],
   "source": [
    "# Index the Green bands in 'Stack' based on argmax index position\n",
    "RedComposite = Stack[max,max,max]"
   ]
  },
  {
   "cell_type": "code",
   "execution_count": 27,
   "metadata": {},
   "outputs": [
    {
     "name": "stdout",
     "output_type": "stream",
     "text": [
      "[[6 6 5]\n",
      " [6 5 6]\n",
      " [6 6 7]]\n"
     ]
    }
   ],
   "source": [
    "print(RedComposite)"
   ]
  }
 ],
 "metadata": {
  "kernelspec": {
   "display_name": "Python 3",
   "language": "python",
   "name": "python3"
  },
  "language_info": {
   "codemirror_mode": {
    "name": "ipython",
    "version": 3
   },
   "file_extension": ".py",
   "mimetype": "text/x-python",
   "name": "python",
   "nbconvert_exporter": "python",
   "pygments_lexer": "ipython3",
   "version": "3.8.3-final"
  }
 },
 "nbformat": 4,
 "nbformat_minor": 4
}