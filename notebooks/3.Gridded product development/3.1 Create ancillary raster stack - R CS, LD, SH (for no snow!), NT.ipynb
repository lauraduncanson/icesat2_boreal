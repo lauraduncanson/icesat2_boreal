{
 "cells": [
  {
   "cell_type": "markdown",
   "metadata": {},
   "source": [
    "# Create covariate stacks"
   ]
  },
  {
   "cell_type": "markdown",
   "metadata": {},
   "source": [
    "### Covariates will be derived by reducing satellite imagery to useful modelling layers\n",
    "#### Covariates can include: Landsat 8, NASADEM, Sentinel-2, Sentinel-1\n",
    "\n",
    "### Inputs:\n",
    "#### bbox_img_tile: An image tile extent will provide the bbox that accesses cloud-optimized GeoTiffs\n",
    "#### filters: search for imagery based on days-of-year, cloudcover, year range\n",
    "##### Note: Image tile extent will be dictated by data volume of covars & CPU RAM"
   ]
  },
  {
   "cell_type": "code",
   "execution_count": 40,
   "metadata": {},
   "outputs": [],
   "source": [
    "# Search for imagery\n",
    "# https://github.com/developmentseed/example-jupyter-notebooks/blob/landsat-search/notebooks/Landsat8-Search/L8-USGS-satapi.ipynb\n",
    "import os\n",
    "import json\n",
    "import requests\n",
    "import datetime\n",
    "\n",
    "sat_api_url = \"https://landsatlook.usgs.gov/sat-api\"\n",
    "\n",
    "def query_satapi(query):\n",
    "    headers = {\n",
    "            \"Content-Type\": \"application/json\",\n",
    "            \"Accept-Encoding\": \"gzip\",\n",
    "            \"Accept\": \"application/geo+json\",\n",
    "        }\n",
    "\n",
    "    url = f\"{sat_api_url}/stac/search\"\n",
    "    data = requests.post(url, headers=headers, json=query).json()\n",
    "    \n",
    "    return data\n",
    "\n",
    "def query_year(year, bbox, min_cloud, max_cloud):\n",
    "    '''Given the year, finds the number of scenes matching the query and returns it.'''\n",
    "    date_min = '-'.join([str(year), \"06-01\"])\n",
    "    date_max = '-'.join([str(year), \"09-15\"])\n",
    "    start_date = datetime.datetime.strptime(date_min, \"%Y-%m-%d\")\n",
    "    end_date = datetime.datetime.strptime(date_max, \"%Y-%m-%d\") \n",
    "    start = start_date.strftime(\"%Y-%m-%dT00:00:00Z\")\n",
    "    end = end_date.strftime(\"%Y-%m-%dT23:59:59Z\")\n",
    "    \n",
    "    query = {\n",
    "    \"time\": f\"{start}/{end}\",\n",
    "    \"bbox\":bbox,\n",
    "    \"query\": {\n",
    "        \"eo:platform\": {\"eq\": \"LANDSAT_8\"},\n",
    "        \"eo:cloud_cover\": {\"gte\": min_cloud, \"lt\": max_cloud},\n",
    "        \"collection\":{\"eq\": \"landsat-c2l2-sr\"},\n",
    "        \"landsat:collection_category\":{\"eq\": \"T1\"}\n",
    "        },\n",
    "    \"limit\": 20 # We limit to 500 items per Page (requests) to make sure sat-api doesn't fail to return big features collection\n",
    "    }\n",
    "    \n",
    "    data = query_satapi(query)\n",
    "    \n",
    "    # you can't trouble shoot if you don't return the actual results\n",
    "    return data"
   ]
  },
  {
   "cell_type": "code",
   "execution_count": 44,
   "metadata": {
    "tags": []
   },
   "outputs": [
    {
     "output_type": "stream",
     "name": "stdout",
     "text": [
      "[78, 80, 99, 95, 58, 97]\n",
      "[12, 20, 19, 17, 17, 15]\n"
     ]
    }
   ],
   "source": [
    "# Accessing imagery\n",
    "# Select an area of interest\n",
    "bbox_list = [[-105,45,-100,50], [-101,45,-100,46]]\n",
    "min_cloud = 0\n",
    "max_cloud = 20\n",
    "for bbox in bbox_list:\n",
    "    # Geojson of total scenes - Change to list of scenes\n",
    "    response_by_year = [query_year(year, bbox, min_cloud, max_cloud ) for year in range(2015,2020 + 1)]\n",
    "    scene_totals = [each['meta']['found'] for each in response_by_year]\n",
    "    print(scene_totals)"
   ]
  },
  {
   "source": [
    "## Debugging\n",
    "\n",
    "The next few code chunks were inserted just to debug why the query was returning so many results for such a small bounding box. The answer was that bbox needs to be outside the query, and adding a platform and tier to the query reduces even more. Note: everything in the query section follows a very specific format. TODO link the STAC docs explaining the query language."
   ],
   "cell_type": "markdown",
   "metadata": {}
  },
  {
   "cell_type": "code",
   "execution_count": 41,
   "metadata": {},
   "outputs": [
    {
     "output_type": "execute_result",
     "data": {
      "text/plain": [
       "15"
      ]
     },
     "metadata": {},
     "execution_count": 41
    }
   ],
   "source": [
    "# It's better to just return the whole response, so you can iterate and debug through it.\n",
    "bbox_list = [[-105,45,-100,50], [-101,45,-100,46]]\n",
    "min_cloud = 0\n",
    "max_cloud = 20\n",
    "\n",
    "response = query_year(2020, bbox_list[1], min_cloud, max_cloud) \n",
    "scenes = response['meta']['found']\n",
    "scenes"
   ]
  },
  {
   "cell_type": "code",
   "execution_count": 45,
   "metadata": {},
   "outputs": [
    {
     "output_type": "stream",
     "name": "stdout",
     "text": [
      "LC08_L2SP_031029_20200915_20200919_02_T1\nLC08_L2SP_032029_20200906_20200918_02_T1\nLC08_L2SP_031029_20200830_20200906_02_T1\nLC08_L2SP_033028_20200828_20200906_02_T1\nLC08_L2SP_031029_20200814_20200920_02_T1\nLC08_L2SP_033028_20200812_20200918_02_T1\nLC08_L2SP_032029_20200805_20200916_02_T1\nLC08_L2SP_032029_20200805_20200821_02_T1\nLC08_L2SP_033028_20200727_20200908_02_T1\nLC08_L2SP_033028_20200727_20200806_02_T1\nLC08_L2SP_032029_20200704_20200913_02_T1\nLC08_L2SP_031029_20200627_20200823_02_T1\nLC08_L2SP_031028_20200627_20200824_02_T1\nLC08_L2SP_031028_20200611_20200824_02_T1\nLC08_L2SP_031029_20200611_20200824_02_T1\n"
     ]
    }
   ],
   "source": [
    "# Some helpful ways to debug\n",
    "#response['features'][0]\n",
    "#for item in response['features']: print(item['id'])"
   ]
  },
  {
   "source": [
    "## Accessing Data\n",
    "\n",
    "Now that we've queried for which landsat scenes to use in a given analysis tile, we need to setup AWS authentication and iterate over the assets, subsetting based on the tile (bbox). An AWS IAM account access key and secret are required so the bill goes to the right place for any requester pays costs."
   ],
   "cell_type": "markdown",
   "metadata": {}
  },
  {
   "cell_type": "code",
   "execution_count": null,
   "metadata": {},
   "outputs": [],
   "source": [
    "aws_access_key_id='?'\n",
    "aws_secret_access_key='?'"
   ]
  },
  {
   "cell_type": "code",
   "execution_count": null,
   "metadata": {},
   "outputs": [],
   "source": [
    "# Processing imagery (band math)\n",
    "# is this done on the fly? No\n",
    "\n",
    "# Authenticate to aws to access a requester pays bucket\n",
    "aws_session = AWSSession(boto3.Session(aws_access_key_id=aws_access_key_id,\n",
    "                                      aws_secret_access_key=aws_secret_access_key),                           requester_pays=True)"
   ]
  },
  {
   "cell_type": "code",
   "execution_count": 54,
   "metadata": {},
   "outputs": [
    {
     "output_type": "stream",
     "name": "stdout",
     "text": [
      "s3://usgs-landsat/collection02/level-2/standard/oli-tirs/2015/032/028/LC08_L2SP_032028_20150909_20200908_02_T1/LC08_L2SP_032028_20150909_20200908_02_T1_SR_B4.TIF\n"
     ]
    }
   ],
   "source": [
    "# The returned data is actually geojson, could load into a geopandas dataframe\n",
    "\n",
    "# Get the first feature, and lookup the url of Band 4 asset\n",
    "asset = response_by_year[0]['features'][0]['assets']['SR_B4.TIF']['href']\n",
    "\n",
    "# Convert to S3 url for use with requester pays\n",
    "cog = asset.replace('https://landsatlook.usgs.gov/data/', 's3://usgs-landsat/')\n",
    "print(cog)"
   ]
  },
  {
   "cell_type": "code",
   "execution_count": null,
   "metadata": {},
   "outputs": [],
   "source": [
    "with rio.Env(aws_session):\n",
    "    with rio.open(cog) as src:\n",
    "        profile = src.profile\n",
    "        arr = src.read(1)\n",
    "\n",
    "#plot the raster\n",
    "imshow(arr)"
   ]
  },
  {
   "cell_type": "code",
   "execution_count": null,
   "metadata": {},
   "outputs": [],
   "source": [
    "# Adding processed imagery to a covariate stack"
   ]
  },
  {
   "cell_type": "code",
   "execution_count": null,
   "metadata": {},
   "outputs": [],
   "source": []
  }
 ],
 "metadata": {
  "kernelspec": {
   "display_name": "Python 3",
   "language": "python",
   "name": "python3"
  },
  "language_info": {
   "codemirror_mode": {
    "name": "ipython",
    "version": 3
   },
   "file_extension": ".py",
   "mimetype": "text/x-python",
   "name": "python",
   "nbconvert_exporter": "python",
   "pygments_lexer": "ipython3",
   "version": "3.8.3-final"
  }
 },
 "nbformat": 4,
 "nbformat_minor": 4
}