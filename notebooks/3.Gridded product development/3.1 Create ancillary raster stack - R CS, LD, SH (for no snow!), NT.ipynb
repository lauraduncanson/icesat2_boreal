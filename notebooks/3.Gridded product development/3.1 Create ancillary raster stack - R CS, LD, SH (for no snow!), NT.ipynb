{
 "cells": [
  {
   "cell_type": "markdown",
   "metadata": {},
   "source": [
    "# Create covariate stacks"
   ]
  },
  {
   "cell_type": "markdown",
   "metadata": {},
   "source": [
    "### Covariates will be derived by reducing satellite imagery to useful modelling layers\n",
    "#### Covariates can include: Landsat 8, NASADEM, Sentinel-2, Sentinel-1\n",
    "\n",
    "### Inputs:\n",
    "#### bbox_img_tile: An image tile extent will provide the bbox that accesses cloud-optimized GeoTiffs\n",
    "#### filters: search for imagery based on days-of-year, cloudcover, year range\n",
    "##### Note: Image tile extent will be dictated by data volume of covars & CPU RAM"
   ]
  },
  {
   "cell_type": "code",
   "execution_count": 1,
   "metadata": {},
   "outputs": [],
   "source": [
    "# Search for imagery\n",
    "# https://github.com/developmentseed/example-jupyter-notebooks/blob/landsat-search/notebooks/Landsat8-Search/L8-USGS-satapi.ipynb\n",
    "import os\n",
    "import json\n",
    "import requests\n",
    "import datetime\n",
    "\n",
    "sat_api_url = \"https://landsatlook.usgs.gov/sat-api\"\n",
    "\n",
    "def query_satapi(query):\n",
    "    headers = {\n",
    "            \"Content-Type\": \"application/json\",\n",
    "            \"Accept-Encoding\": \"gzip\",\n",
    "            \"Accept\": \"application/geo+json\",\n",
    "        }\n",
    "\n",
    "    url = f\"{sat_api_url}/stac/search\"\n",
    "    data = requests.post(url, headers=headers, json=query).json()\n",
    "    \n",
    "    return data\n",
    "\n",
    "def query_year(year, bbox, min_cloud, max_cloud):\n",
    "    '''Given the year, finds the number of scenes matching the query and returns it.'''\n",
    "    date_min = '-'.join([str(year), \"06-01\"])\n",
    "    date_max = '-'.join([str(year), \"09-15\"])\n",
    "    start_date = datetime.datetime.strptime(date_min, \"%Y-%m-%d\")\n",
    "    end_date = datetime.datetime.strptime(date_max, \"%Y-%m-%d\") \n",
    "    start = start_date.strftime(\"%Y-%m-%dT00:00:00Z\")\n",
    "    end = end_date.strftime(\"%Y-%m-%dT23:59:59Z\")\n",
    "    \n",
    "    query = {\n",
    "    \"time\": f\"{start}/{end}\",\n",
    "    \"bbox\":bbox,\n",
    "    \"query\": {\n",
    "        \"eo:platform\": {\"eq\": \"LANDSAT_8\"},\n",
    "        \"eo:cloud_cover\": {\"gte\": min_cloud, \"lt\": max_cloud},\n",
    "        \"collection\":{\"eq\": \"landsat-c2l2-sr\"},\n",
    "        \"landsat:collection_category\":{\"eq\": \"T1\"}\n",
    "        },\n",
    "    \"limit\": 20 # We limit to 500 items per Page (requests) to make sure sat-api doesn't fail to return big features collection\n",
    "    }\n",
    "    \n",
    "    data = query_satapi(query)\n",
    "    \n",
    "    # you can't trouble shoot if you don't return the actual results\n",
    "    return data"
   ]
  },
  {
   "cell_type": "code",
   "execution_count": 2,
   "metadata": {
    "tags": []
   },
   "outputs": [
    {
     "output_type": "stream",
     "name": "stdout",
     "text": [
      "[78, 80, 99, 95, 58, 97]\n",
      "[12, 20, 19, 17, 17, 15]\n"
     ]
    }
   ],
   "source": [
    "# Accessing imagery\n",
    "# Select an area of interest\n",
    "bbox_list = [[-105,45,-100,50], [-101,45,-100,46]]\n",
    "min_cloud = 0\n",
    "max_cloud = 20\n",
    "for bbox in bbox_list:\n",
    "    # Geojson of total scenes - Change to list of scenes\n",
    "    response_by_year = [query_year(year, bbox, min_cloud, max_cloud ) for year in range(2015,2020 + 1)]\n",
    "    scene_totals = [each['meta']['found'] for each in response_by_year]\n",
    "    print(scene_totals)"
   ]
  },
  {
   "source": [
    "## Debugging\n",
    "\n",
    "The next few code chunks were inserted just to debug why the query was returning so many results for such a small bounding box. The answer was that bbox needs to be outside the query, and adding a platform and tier to the query reduces even more. Note: everything in the query section follows a very specific format. TODO link the STAC docs explaining the query language."
   ],
   "cell_type": "markdown",
   "metadata": {}
  },
  {
   "cell_type": "code",
   "execution_count": 41,
   "metadata": {},
   "outputs": [
    {
     "output_type": "execute_result",
     "data": {
      "text/plain": [
       "15"
      ]
     },
     "metadata": {},
     "execution_count": 41
    }
   ],
   "source": [
    "# It's better to just return the whole response, so you can iterate and debug through it.\n",
    "bbox_list = [[-105,45,-100,50], [-101,45,-100,46]]\n",
    "min_cloud = 0\n",
    "max_cloud = 20\n",
    "\n",
    "response = query_year(2020, bbox_list[1], min_cloud, max_cloud) \n",
    "scenes = response['meta']['found']\n",
    "scenes"
   ]
  },
  {
   "cell_type": "code",
   "execution_count": 45,
   "metadata": {},
   "outputs": [
    {
     "output_type": "stream",
     "name": "stdout",
     "text": [
      "LC08_L2SP_031029_20200915_20200919_02_T1\nLC08_L2SP_032029_20200906_20200918_02_T1\nLC08_L2SP_031029_20200830_20200906_02_T1\nLC08_L2SP_033028_20200828_20200906_02_T1\nLC08_L2SP_031029_20200814_20200920_02_T1\nLC08_L2SP_033028_20200812_20200918_02_T1\nLC08_L2SP_032029_20200805_20200916_02_T1\nLC08_L2SP_032029_20200805_20200821_02_T1\nLC08_L2SP_033028_20200727_20200908_02_T1\nLC08_L2SP_033028_20200727_20200806_02_T1\nLC08_L2SP_032029_20200704_20200913_02_T1\nLC08_L2SP_031029_20200627_20200823_02_T1\nLC08_L2SP_031028_20200627_20200824_02_T1\nLC08_L2SP_031028_20200611_20200824_02_T1\nLC08_L2SP_031029_20200611_20200824_02_T1\n"
     ]
    }
   ],
   "source": [
    "# Some helpful ways to debug\n",
    "#response['features'][0]\n",
    "#for item in response['features']: print(item['id'])"
   ]
  },
  {
   "source": [
    "## Accessing Data\n",
    "\n",
    "Now that we've queried for which landsat scenes to use in a given analysis tile, we need to setup AWS authentication and iterate over the assets, subsetting based on the tile (bbox). An AWS IAM account access key and secret are required so the bill goes to the right place for any requester pays costs."
   ],
   "cell_type": "markdown",
   "metadata": {}
  },
  {
   "cell_type": "code",
   "execution_count": 3,
   "metadata": {},
   "outputs": [
    {
     "output_type": "stream",
     "name": "stdout",
     "text": [
      "Note: you may need to restart the kernel to use updated packages.\n",
      "Note: you may need to restart the kernel to use updated packages.\n",
      "Note: you may need to restart the kernel to use updated packages.\n",
      "Note: you may need to restart the kernel to use updated packages.\n",
      "env: CURL_CA_BUNDLE=/etc/ssl/certs/ca-certificates.crt\n"
     ]
    }
   ],
   "source": [
    "# Skip if you already have everything installed\n",
    "%pip install -q python-dotenv\n",
    "%pip install -q boto3\n",
    "%pip install -q rasterio\n",
    "%pip install -q pyproj\n",
    "# TODO add the CURL ssl path to the .env file\n",
    "%env CURL_CA_BUNDLE=/etc/ssl/certs/ca-certificates.crt"
   ]
  },
  {
   "cell_type": "code",
   "execution_count": 4,
   "metadata": {},
   "outputs": [
    {
     "output_type": "execute_result",
     "data": {
      "text/plain": [
       "True"
      ]
     },
     "metadata": {},
     "execution_count": 4
    }
   ],
   "source": [
    "# load env variables from a .env file\n",
    "import os\n",
    "import rasterio as rio\n",
    "from rasterio.session import AWSSession \n",
    "import numpy as np\n",
    "import pyproj\n",
    "import boto3\n",
    "from matplotlib.pyplot import imshow\n",
    "from dotenv import load_dotenv\n",
    "load_dotenv()"
   ]
  },
  {
   "cell_type": "code",
   "execution_count": 5,
   "metadata": {},
   "outputs": [],
   "source": [
    "# One option is to read this from the env, should work in ADE\n",
    "# TODO: how do you pass secrets to DPS jobs?\n",
    "\n",
    "aws_access_key_id=os.getenv('aws_access_key_id')\n",
    "aws_secret_access_key=os.getenv('aws_secret_access_key')"
   ]
  },
  {
   "cell_type": "code",
   "execution_count": 6,
   "metadata": {},
   "outputs": [],
   "source": [
    "# Processing imagery (band math)\n",
    "# is this done on the fly? No\n",
    "\n",
    "\n",
    "# Authenticate to aws to access a requester pays bucket\n",
    "aws_session = AWSSession(boto3.Session(aws_access_key_id=aws_access_key_id,\n",
    "                                      aws_secret_access_key=aws_secret_access_key),\n",
    "                        requester_pays=True)"
   ]
  },
  {
   "cell_type": "code",
   "execution_count": 7,
   "metadata": {},
   "outputs": [
    {
     "output_type": "stream",
     "name": "stdout",
     "text": [
      "s3://usgs-landsat/collection02/level-2/standard/oli-tirs/2015/032/028/LC08_L2SP_032028_20150824_20200908_02_T1/LC08_L2SP_032028_20150824_20200908_02_T1_SR_B3.TIF\n"
     ]
    }
   ],
   "source": [
    "# The returned data is actually geojson, could load into a geopandas dataframe\n",
    "\n",
    "# Get the first feature, and lookup the url of Band 4 asset\n",
    "asset = response_by_year[0]['features'][1]['assets']['SR_B3.TIF']['href']\n",
    "\n",
    "# Convert to S3 url for use with requester pays\n",
    "cog = asset.replace('https://landsatlook.usgs.gov/data/', 's3://usgs-landsat/')\n",
    "print(cog)"
   ]
  },
  {
   "cell_type": "code",
   "execution_count": 8,
   "metadata": {},
   "outputs": [
    {
     "output_type": "error",
     "ename": "RasterioIOError",
     "evalue": "'/vsis3/usgs-landsat/collection02/level-2/standard/oli-tirs/2015/032/028/LC08_L2SP_032028_20150824_20200908_02_T1/LC08_L2SP_032028_20150824_20200908_02_T1_SR_B3.TIF' not recognized as a supported file format.",
     "traceback": [
      "\u001b[0;31m---------------------------------------------------------------------------\u001b[0m",
      "\u001b[0;31mCPLE_OpenFailedError\u001b[0m                      Traceback (most recent call last)",
      "\u001b[0;32mrasterio/_base.pyx\u001b[0m in \u001b[0;36mrasterio._base.DatasetBase.__init__\u001b[0;34m()\u001b[0m\n",
      "\u001b[0;32mrasterio/_shim.pyx\u001b[0m in \u001b[0;36mrasterio._shim.open_dataset\u001b[0;34m()\u001b[0m\n",
      "\u001b[0;32mrasterio/_err.pyx\u001b[0m in \u001b[0;36mrasterio._err.exc_wrap_pointer\u001b[0;34m()\u001b[0m\n",
      "\u001b[0;31mCPLE_OpenFailedError\u001b[0m: '/vsis3/usgs-landsat/collection02/level-2/standard/oli-tirs/2015/032/028/LC08_L2SP_032028_20150824_20200908_02_T1/LC08_L2SP_032028_20150824_20200908_02_T1_SR_B3.TIF' not recognized as a supported file format.",
      "\nDuring handling of the above exception, another exception occurred:\n",
      "\u001b[0;31mRasterioIOError\u001b[0m                           Traceback (most recent call last)",
      "\u001b[0;32m<ipython-input-8-b50adbcebe5c>\u001b[0m in \u001b[0;36m<module>\u001b[0;34m\u001b[0m\n\u001b[1;32m      1\u001b[0m \u001b[0;31m# Basic access example\u001b[0m\u001b[0;34m\u001b[0m\u001b[0;34m\u001b[0m\u001b[0;34m\u001b[0m\u001b[0m\n\u001b[1;32m      2\u001b[0m \u001b[0;32mwith\u001b[0m \u001b[0mrio\u001b[0m\u001b[0;34m.\u001b[0m\u001b[0mEnv\u001b[0m\u001b[0;34m(\u001b[0m\u001b[0maws_session\u001b[0m\u001b[0;34m)\u001b[0m\u001b[0;34m:\u001b[0m\u001b[0;34m\u001b[0m\u001b[0;34m\u001b[0m\u001b[0m\n\u001b[0;32m----> 3\u001b[0;31m     \u001b[0;32mwith\u001b[0m \u001b[0mrio\u001b[0m\u001b[0;34m.\u001b[0m\u001b[0mopen\u001b[0m\u001b[0;34m(\u001b[0m\u001b[0mcog\u001b[0m\u001b[0;34m)\u001b[0m \u001b[0;32mas\u001b[0m \u001b[0msrc\u001b[0m\u001b[0;34m:\u001b[0m\u001b[0;34m\u001b[0m\u001b[0;34m\u001b[0m\u001b[0m\n\u001b[0m\u001b[1;32m      4\u001b[0m         \u001b[0mprofile\u001b[0m \u001b[0;34m=\u001b[0m \u001b[0msrc\u001b[0m\u001b[0;34m.\u001b[0m\u001b[0mprofile\u001b[0m\u001b[0;34m\u001b[0m\u001b[0;34m\u001b[0m\u001b[0m\n\u001b[1;32m      5\u001b[0m         \u001b[0marr\u001b[0m \u001b[0;34m=\u001b[0m \u001b[0msrc\u001b[0m\u001b[0;34m.\u001b[0m\u001b[0mread\u001b[0m\u001b[0;34m(\u001b[0m\u001b[0;36m1\u001b[0m\u001b[0;34m)\u001b[0m\u001b[0;34m\u001b[0m\u001b[0;34m\u001b[0m\u001b[0m\n",
      "\u001b[0;32m~/.local/lib/python3.8/site-packages/rasterio/env.py\u001b[0m in \u001b[0;36mwrapper\u001b[0;34m(*args, **kwds)\u001b[0m\n\u001b[1;32m    431\u001b[0m \u001b[0;34m\u001b[0m\u001b[0m\n\u001b[1;32m    432\u001b[0m         \u001b[0;32mwith\u001b[0m \u001b[0menv_ctor\u001b[0m\u001b[0;34m(\u001b[0m\u001b[0msession\u001b[0m\u001b[0;34m=\u001b[0m\u001b[0msession\u001b[0m\u001b[0;34m)\u001b[0m\u001b[0;34m:\u001b[0m\u001b[0;34m\u001b[0m\u001b[0;34m\u001b[0m\u001b[0m\n\u001b[0;32m--> 433\u001b[0;31m             \u001b[0;32mreturn\u001b[0m \u001b[0mf\u001b[0m\u001b[0;34m(\u001b[0m\u001b[0;34m*\u001b[0m\u001b[0margs\u001b[0m\u001b[0;34m,\u001b[0m \u001b[0;34m**\u001b[0m\u001b[0mkwds\u001b[0m\u001b[0;34m)\u001b[0m\u001b[0;34m\u001b[0m\u001b[0;34m\u001b[0m\u001b[0m\n\u001b[0m\u001b[1;32m    434\u001b[0m \u001b[0;34m\u001b[0m\u001b[0m\n\u001b[1;32m    435\u001b[0m     \u001b[0;32mreturn\u001b[0m \u001b[0mwrapper\u001b[0m\u001b[0;34m\u001b[0m\u001b[0;34m\u001b[0m\u001b[0m\n",
      "\u001b[0;32m~/.local/lib/python3.8/site-packages/rasterio/__init__.py\u001b[0m in \u001b[0;36mopen\u001b[0;34m(fp, mode, driver, width, height, count, crs, transform, dtype, nodata, sharing, **kwargs)\u001b[0m\n\u001b[1;32m    219\u001b[0m         \u001b[0;31m# None.\u001b[0m\u001b[0;34m\u001b[0m\u001b[0;34m\u001b[0m\u001b[0;34m\u001b[0m\u001b[0m\n\u001b[1;32m    220\u001b[0m         \u001b[0;32mif\u001b[0m \u001b[0mmode\u001b[0m \u001b[0;34m==\u001b[0m \u001b[0;34m'r'\u001b[0m\u001b[0;34m:\u001b[0m\u001b[0;34m\u001b[0m\u001b[0;34m\u001b[0m\u001b[0m\n\u001b[0;32m--> 221\u001b[0;31m             \u001b[0ms\u001b[0m \u001b[0;34m=\u001b[0m \u001b[0mDatasetReader\u001b[0m\u001b[0;34m(\u001b[0m\u001b[0mpath\u001b[0m\u001b[0;34m,\u001b[0m \u001b[0mdriver\u001b[0m\u001b[0;34m=\u001b[0m\u001b[0mdriver\u001b[0m\u001b[0;34m,\u001b[0m \u001b[0msharing\u001b[0m\u001b[0;34m=\u001b[0m\u001b[0msharing\u001b[0m\u001b[0;34m,\u001b[0m \u001b[0;34m**\u001b[0m\u001b[0mkwargs\u001b[0m\u001b[0;34m)\u001b[0m\u001b[0;34m\u001b[0m\u001b[0;34m\u001b[0m\u001b[0m\n\u001b[0m\u001b[1;32m    222\u001b[0m         \u001b[0;32melif\u001b[0m \u001b[0mmode\u001b[0m \u001b[0;34m==\u001b[0m \u001b[0;34m\"r+\"\u001b[0m\u001b[0;34m:\u001b[0m\u001b[0;34m\u001b[0m\u001b[0;34m\u001b[0m\u001b[0m\n\u001b[1;32m    223\u001b[0m             s = get_writer_for_path(path, driver=driver)(\n",
      "\u001b[0;32mrasterio/_base.pyx\u001b[0m in \u001b[0;36mrasterio._base.DatasetBase.__init__\u001b[0;34m()\u001b[0m\n",
      "\u001b[0;31mRasterioIOError\u001b[0m: '/vsis3/usgs-landsat/collection02/level-2/standard/oli-tirs/2015/032/028/LC08_L2SP_032028_20150824_20200908_02_T1/LC08_L2SP_032028_20150824_20200908_02_T1_SR_B3.TIF' not recognized as a supported file format."
     ]
    }
   ],
   "source": [
    "# Basic access example\n",
    "with rio.Env(aws_session):\n",
    "    with rio.open(cog) as src:\n",
    "        profile = src.profile\n",
    "        arr = src.read(1)\n",
    "        print(profile)\n",
    "\n",
    "#plot the raster\n",
    "imshow(arr)"
   ]
  },
  {
   "cell_type": "code",
   "execution_count": 1,
   "metadata": {},
   "outputs": [],
   "source": [
    "def reproject_bbox(src, bbox, bbox_crs='epsg:4326'):\n",
    "    '''\n",
    "    Convert the bounding box to local coordinates of the data\n",
    "    src is the raster data handler\n",
    "    bbox, and bbox_crs supplied by user\n",
    "    returns a rasterio window object \n",
    "    '''\n",
    "    # bbox has 2 sets, row,col\n",
    "    data_crs=pyproj.Proj(src.crs)\n",
    "    bbox_crs=pyproj.Proj(init=bbox_crs)\n",
    "    lower = pyproj.transform(bbox_crs, data_crs, bbox[0], bbox[1])\n",
    "    upper = pyproj.transform(bbox_crs, data_crs, bbox[2], bbox[3])\n",
    "    \n",
    "    bottom, left = src.index(lower[0], lower[1])\n",
    "    top, right = src.index(upper[0], upper[1])\n",
    "    \n",
    "    # merge back into a window\n",
    "    # Remember gdal reads from the upper left corner\n",
    "    width = abs(top-bottom)\n",
    "    height = abs(right-left)\n",
    "    local_window = rasterio.windows.Window(left, top, width, height)\n",
    "    #print(local_window)\n",
    "    return local_window\n",
    "\n",
    "def extract_subset(cog, bbox, band):\n",
    "    '''\n",
    "    Given a path to an S3 COG geotiff, a bbox in latlon(e.g. wgs84), a band.\n",
    "    Extracts a subset of an image by reading a window. \n",
    "    When used with COGs will only read the required portion of the file.\n",
    "    BBOX format [minX, minY, maxX, maxY]\n",
    "    bbox = [11.6, -0.1, 11.7, -0.0]\n",
    "    Band is the layer in the file, a single band tif, only has 1.\n",
    "    '''\n",
    "    \n",
    "    with rio.Env(aws_session):\n",
    "        with rasterio.open(cog) as src:\n",
    "            local_window = reproject_bbox(src, bbox, bbox_crs='epsg:4326')\n",
    "            # query the subset with a window\n",
    "            # todo: modify to allow multiband data sources\n",
    "            subset = src.read(band, window=local_window)\n",
    "        \n",
    "    return subset, src.crs, src.transform"
   ]
  },
  {
   "cell_type": "code",
   "execution_count": 10,
   "metadata": {
    "tags": [
     "outputPrepend"
    ]
   },
   "outputs": [
    {
     "output_type": "stream",
     "name": "stdout",
     "text": [
      "0190727_20200827_02_T1/LC08_L2SP_031028_20190727_20200827_02_T1_SR_B3.TIF\ns3://usgs-landsat/collection02/level-2/standard/oli-tirs/2019/031/028/LC08_L2SP_031028_20190727_20200827_02_T1/LC08_L2SP_031028_20190727_20200827_02_T1_SR_B4.TIF\ns3://usgs-landsat/collection02/level-2/standard/oli-tirs/2019/031/028/LC08_L2SP_031028_20190727_20200827_02_T1/LC08_L2SP_031028_20190727_20200827_02_T1_SR_B5.TIF\ns3://usgs-landsat/collection02/level-2/standard/oli-tirs/2019/031/028/LC08_L2SP_031028_20190727_20200827_02_T1/LC08_L2SP_031028_20190727_20200827_02_T1_SR_B6.TIF\ns3://usgs-landsat/collection02/level-2/standard/oli-tirs/2019/033/028/LC08_L2SP_033028_20190725_20200827_02_T1/LC08_L2SP_033028_20190725_20200827_02_T1_SR_B2.TIF\ns3://usgs-landsat/collection02/level-2/standard/oli-tirs/2019/033/028/LC08_L2SP_033028_20190725_20200827_02_T1/LC08_L2SP_033028_20190725_20200827_02_T1_SR_B3.TIF\ns3://usgs-landsat/collection02/level-2/standard/oli-tirs/2019/033/028/LC08_L2SP_033028_20190725_20200827_02_T1/LC08_L2SP_033028_20190725_20200827_02_T1_SR_B4.TIF\ns3://usgs-landsat/collection02/level-2/standard/oli-tirs/2019/033/028/LC08_L2SP_033028_20190725_20200827_02_T1/LC08_L2SP_033028_20190725_20200827_02_T1_SR_B5.TIF\ns3://usgs-landsat/collection02/level-2/standard/oli-tirs/2019/033/028/LC08_L2SP_033028_20190725_20200827_02_T1/LC08_L2SP_033028_20190725_20200827_02_T1_SR_B6.TIF\ns3://usgs-landsat/collection02/level-2/standard/oli-tirs/2019/031/028/LC08_L2SP_031028_20190711_20200827_02_T1/LC08_L2SP_031028_20190711_20200827_02_T1_SR_B2.TIF\ns3://usgs-landsat/collection02/level-2/standard/oli-tirs/2019/031/028/LC08_L2SP_031028_20190711_20200827_02_T1/LC08_L2SP_031028_20190711_20200827_02_T1_SR_B3.TIF\ns3://usgs-landsat/collection02/level-2/standard/oli-tirs/2019/031/028/LC08_L2SP_031028_20190711_20200827_02_T1/LC08_L2SP_031028_20190711_20200827_02_T1_SR_B4.TIF\ns3://usgs-landsat/collection02/level-2/standard/oli-tirs/2019/031/028/LC08_L2SP_031028_20190711_20200827_02_T1/LC08_L2SP_031028_20190711_20200827_02_T1_SR_B5.TIF\ns3://usgs-landsat/collection02/level-2/standard/oli-tirs/2019/031/028/LC08_L2SP_031028_20190711_20200827_02_T1/LC08_L2SP_031028_20190711_20200827_02_T1_SR_B6.TIF\ns3://usgs-landsat/collection02/level-2/standard/oli-tirs/2019/031/029/LC08_L2SP_031029_20190711_20200827_02_T1/LC08_L2SP_031029_20190711_20200827_02_T1_SR_B2.TIF\ns3://usgs-landsat/collection02/level-2/standard/oli-tirs/2019/031/029/LC08_L2SP_031029_20190711_20200827_02_T1/LC08_L2SP_031029_20190711_20200827_02_T1_SR_B3.TIF\ns3://usgs-landsat/collection02/level-2/standard/oli-tirs/2019/031/029/LC08_L2SP_031029_20190711_20200827_02_T1/LC08_L2SP_031029_20190711_20200827_02_T1_SR_B4.TIF\ns3://usgs-landsat/collection02/level-2/standard/oli-tirs/2019/031/029/LC08_L2SP_031029_20190711_20200827_02_T1/LC08_L2SP_031029_20190711_20200827_02_T1_SR_B5.TIF\ns3://usgs-landsat/collection02/level-2/standard/oli-tirs/2019/031/029/LC08_L2SP_031029_20190711_20200827_02_T1/LC08_L2SP_031029_20190711_20200827_02_T1_SR_B6.TIF\ns3://usgs-landsat/collection02/level-2/standard/oli-tirs/2019/032/028/LC08_L2SP_032028_20190702_20200827_02_T1/LC08_L2SP_032028_20190702_20200827_02_T1_SR_B2.TIF\ns3://usgs-landsat/collection02/level-2/standard/oli-tirs/2019/032/028/LC08_L2SP_032028_20190702_20200827_02_T1/LC08_L2SP_032028_20190702_20200827_02_T1_SR_B3.TIF\ns3://usgs-landsat/collection02/level-2/standard/oli-tirs/2019/032/028/LC08_L2SP_032028_20190702_20200827_02_T1/LC08_L2SP_032028_20190702_20200827_02_T1_SR_B4.TIF\ns3://usgs-landsat/collection02/level-2/standard/oli-tirs/2019/032/028/LC08_L2SP_032028_20190702_20200827_02_T1/LC08_L2SP_032028_20190702_20200827_02_T1_SR_B5.TIF\ns3://usgs-landsat/collection02/level-2/standard/oli-tirs/2019/032/028/LC08_L2SP_032028_20190702_20200827_02_T1/LC08_L2SP_032028_20190702_20200827_02_T1_SR_B6.TIF\ns3://usgs-landsat/collection02/level-2/standard/oli-tirs/2019/032/029/LC08_L2SP_032029_20190702_20200827_02_T1/LC08_L2SP_032029_20190702_20200827_02_T1_SR_B2.TIF\ns3://usgs-landsat/collection02/level-2/standard/oli-tirs/2019/032/029/LC08_L2SP_032029_20190702_20200827_02_T1/LC08_L2SP_032029_20190702_20200827_02_T1_SR_B3.TIF\ns3://usgs-landsat/collection02/level-2/standard/oli-tirs/2019/032/029/LC08_L2SP_032029_20190702_20200827_02_T1/LC08_L2SP_032029_20190702_20200827_02_T1_SR_B4.TIF\ns3://usgs-landsat/collection02/level-2/standard/oli-tirs/2019/032/029/LC08_L2SP_032029_20190702_20200827_02_T1/LC08_L2SP_032029_20190702_20200827_02_T1_SR_B5.TIF\ns3://usgs-landsat/collection02/level-2/standard/oli-tirs/2019/032/029/LC08_L2SP_032029_20190702_20200827_02_T1/LC08_L2SP_032029_20190702_20200827_02_T1_SR_B6.TIF\ns3://usgs-landsat/collection02/level-2/standard/oli-tirs/2019/031/029/LC08_L2SP_031029_20190625_20200827_02_T1/LC08_L2SP_031029_20190625_20200827_02_T1_SR_B2.TIF\ns3://usgs-landsat/collection02/level-2/standard/oli-tirs/2019/031/029/LC08_L2SP_031029_20190625_20200827_02_T1/LC08_L2SP_031029_20190625_20200827_02_T1_SR_B3.TIF\ns3://usgs-landsat/collection02/level-2/standard/oli-tirs/2019/031/029/LC08_L2SP_031029_20190625_20200827_02_T1/LC08_L2SP_031029_20190625_20200827_02_T1_SR_B4.TIF\ns3://usgs-landsat/collection02/level-2/standard/oli-tirs/2019/031/029/LC08_L2SP_031029_20190625_20200827_02_T1/LC08_L2SP_031029_20190625_20200827_02_T1_SR_B5.TIF\ns3://usgs-landsat/collection02/level-2/standard/oli-tirs/2019/031/029/LC08_L2SP_031029_20190625_20200827_02_T1/LC08_L2SP_031029_20190625_20200827_02_T1_SR_B6.TIF\ns3://usgs-landsat/collection02/level-2/standard/oli-tirs/2019/031/028/LC08_L2SP_031028_20190625_20200828_02_T1/LC08_L2SP_031028_20190625_20200828_02_T1_SR_B2.TIF\ns3://usgs-landsat/collection02/level-2/standard/oli-tirs/2019/031/028/LC08_L2SP_031028_20190625_20200828_02_T1/LC08_L2SP_031028_20190625_20200828_02_T1_SR_B3.TIF\ns3://usgs-landsat/collection02/level-2/standard/oli-tirs/2019/031/028/LC08_L2SP_031028_20190625_20200828_02_T1/LC08_L2SP_031028_20190625_20200828_02_T1_SR_B4.TIF\ns3://usgs-landsat/collection02/level-2/standard/oli-tirs/2019/031/028/LC08_L2SP_031028_20190625_20200828_02_T1/LC08_L2SP_031028_20190625_20200828_02_T1_SR_B5.TIF\ns3://usgs-landsat/collection02/level-2/standard/oli-tirs/2019/031/028/LC08_L2SP_031028_20190625_20200828_02_T1/LC08_L2SP_031028_20190625_20200828_02_T1_SR_B6.TIF\ns3://usgs-landsat/collection02/level-2/standard/oli-tirs/2019/032/028/LC08_L2SP_032028_20190616_20200827_02_T1/LC08_L2SP_032028_20190616_20200827_02_T1_SR_B2.TIF\ns3://usgs-landsat/collection02/level-2/standard/oli-tirs/2019/032/028/LC08_L2SP_032028_20190616_20200827_02_T1/LC08_L2SP_032028_20190616_20200827_02_T1_SR_B3.TIF\ns3://usgs-landsat/collection02/level-2/standard/oli-tirs/2019/032/028/LC08_L2SP_032028_20190616_20200827_02_T1/LC08_L2SP_032028_20190616_20200827_02_T1_SR_B4.TIF\ns3://usgs-landsat/collection02/level-2/standard/oli-tirs/2019/032/028/LC08_L2SP_032028_20190616_20200827_02_T1/LC08_L2SP_032028_20190616_20200827_02_T1_SR_B5.TIF\ns3://usgs-landsat/collection02/level-2/standard/oli-tirs/2019/032/028/LC08_L2SP_032028_20190616_20200827_02_T1/LC08_L2SP_032028_20190616_20200827_02_T1_SR_B6.TIF\ns3://usgs-landsat/collection02/level-2/standard/oli-tirs/2019/031/029/LC08_L2SP_031029_20190609_20200828_02_T1/LC08_L2SP_031029_20190609_20200828_02_T1_SR_B2.TIF\ns3://usgs-landsat/collection02/level-2/standard/oli-tirs/2019/031/029/LC08_L2SP_031029_20190609_20200828_02_T1/LC08_L2SP_031029_20190609_20200828_02_T1_SR_B3.TIF\ns3://usgs-landsat/collection02/level-2/standard/oli-tirs/2019/031/029/LC08_L2SP_031029_20190609_20200828_02_T1/LC08_L2SP_031029_20190609_20200828_02_T1_SR_B4.TIF\ns3://usgs-landsat/collection02/level-2/standard/oli-tirs/2019/031/029/LC08_L2SP_031029_20190609_20200828_02_T1/LC08_L2SP_031029_20190609_20200828_02_T1_SR_B5.TIF\ns3://usgs-landsat/collection02/level-2/standard/oli-tirs/2019/031/029/LC08_L2SP_031029_20190609_20200828_02_T1/LC08_L2SP_031029_20190609_20200828_02_T1_SR_B6.TIF\ns3://usgs-landsat/collection02/level-2/standard/oli-tirs/2020/031/029/LC08_L2SP_031029_20200915_20200919_02_T1/LC08_L2SP_031029_20200915_20200919_02_T1_SR_B2.TIF\ns3://usgs-landsat/collection02/level-2/standard/oli-tirs/2020/031/029/LC08_L2SP_031029_20200915_20200919_02_T1/LC08_L2SP_031029_20200915_20200919_02_T1_SR_B3.TIF\ns3://usgs-landsat/collection02/level-2/standard/oli-tirs/2020/031/029/LC08_L2SP_031029_20200915_20200919_02_T1/LC08_L2SP_031029_20200915_20200919_02_T1_SR_B4.TIF\ns3://usgs-landsat/collection02/level-2/standard/oli-tirs/2020/031/029/LC08_L2SP_031029_20200915_20200919_02_T1/LC08_L2SP_031029_20200915_20200919_02_T1_SR_B5.TIF\ns3://usgs-landsat/collection02/level-2/standard/oli-tirs/2020/031/029/LC08_L2SP_031029_20200915_20200919_02_T1/LC08_L2SP_031029_20200915_20200919_02_T1_SR_B6.TIF\ns3://usgs-landsat/collection02/level-2/standard/oli-tirs/2020/032/029/LC08_L2SP_032029_20200906_20200918_02_T1/LC08_L2SP_032029_20200906_20200918_02_T1_SR_B2.TIF\ns3://usgs-landsat/collection02/level-2/standard/oli-tirs/2020/032/029/LC08_L2SP_032029_20200906_20200918_02_T1/LC08_L2SP_032029_20200906_20200918_02_T1_SR_B3.TIF\ns3://usgs-landsat/collection02/level-2/standard/oli-tirs/2020/032/029/LC08_L2SP_032029_20200906_20200918_02_T1/LC08_L2SP_032029_20200906_20200918_02_T1_SR_B4.TIF\ns3://usgs-landsat/collection02/level-2/standard/oli-tirs/2020/032/029/LC08_L2SP_032029_20200906_20200918_02_T1/LC08_L2SP_032029_20200906_20200918_02_T1_SR_B5.TIF\ns3://usgs-landsat/collection02/level-2/standard/oli-tirs/2020/032/029/LC08_L2SP_032029_20200906_20200918_02_T1/LC08_L2SP_032029_20200906_20200918_02_T1_SR_B6.TIF\ns3://usgs-landsat/collection02/level-2/standard/oli-tirs/2020/031/029/LC08_L2SP_031029_20200830_20200906_02_T1/LC08_L2SP_031029_20200830_20200906_02_T1_SR_B2.TIF\ns3://usgs-landsat/collection02/level-2/standard/oli-tirs/2020/031/029/LC08_L2SP_031029_20200830_20200906_02_T1/LC08_L2SP_031029_20200830_20200906_02_T1_SR_B3.TIF\ns3://usgs-landsat/collection02/level-2/standard/oli-tirs/2020/031/029/LC08_L2SP_031029_20200830_20200906_02_T1/LC08_L2SP_031029_20200830_20200906_02_T1_SR_B4.TIF\ns3://usgs-landsat/collection02/level-2/standard/oli-tirs/2020/031/029/LC08_L2SP_031029_20200830_20200906_02_T1/LC08_L2SP_031029_20200830_20200906_02_T1_SR_B5.TIF\ns3://usgs-landsat/collection02/level-2/standard/oli-tirs/2020/031/029/LC08_L2SP_031029_20200830_20200906_02_T1/LC08_L2SP_031029_20200830_20200906_02_T1_SR_B6.TIF\ns3://usgs-landsat/collection02/level-2/standard/oli-tirs/2020/033/028/LC08_L2SP_033028_20200828_20200906_02_T1/LC08_L2SP_033028_20200828_20200906_02_T1_SR_B2.TIF\ns3://usgs-landsat/collection02/level-2/standard/oli-tirs/2020/033/028/LC08_L2SP_033028_20200828_20200906_02_T1/LC08_L2SP_033028_20200828_20200906_02_T1_SR_B3.TIF\ns3://usgs-landsat/collection02/level-2/standard/oli-tirs/2020/033/028/LC08_L2SP_033028_20200828_20200906_02_T1/LC08_L2SP_033028_20200828_20200906_02_T1_SR_B4.TIF\ns3://usgs-landsat/collection02/level-2/standard/oli-tirs/2020/033/028/LC08_L2SP_033028_20200828_20200906_02_T1/LC08_L2SP_033028_20200828_20200906_02_T1_SR_B5.TIF\ns3://usgs-landsat/collection02/level-2/standard/oli-tirs/2020/033/028/LC08_L2SP_033028_20200828_20200906_02_T1/LC08_L2SP_033028_20200828_20200906_02_T1_SR_B6.TIF\ns3://usgs-landsat/collection02/level-2/standard/oli-tirs/2020/031/029/LC08_L2SP_031029_20200814_20200920_02_T1/LC08_L2SP_031029_20200814_20200920_02_T1_SR_B2.TIF\ns3://usgs-landsat/collection02/level-2/standard/oli-tirs/2020/031/029/LC08_L2SP_031029_20200814_20200920_02_T1/LC08_L2SP_031029_20200814_20200920_02_T1_SR_B3.TIF\ns3://usgs-landsat/collection02/level-2/standard/oli-tirs/2020/031/029/LC08_L2SP_031029_20200814_20200920_02_T1/LC08_L2SP_031029_20200814_20200920_02_T1_SR_B4.TIF\ns3://usgs-landsat/collection02/level-2/standard/oli-tirs/2020/031/029/LC08_L2SP_031029_20200814_20200920_02_T1/LC08_L2SP_031029_20200814_20200920_02_T1_SR_B5.TIF\ns3://usgs-landsat/collection02/level-2/standard/oli-tirs/2020/031/029/LC08_L2SP_031029_20200814_20200920_02_T1/LC08_L2SP_031029_20200814_20200920_02_T1_SR_B6.TIF\ns3://usgs-landsat/collection02/level-2/standard/oli-tirs/2020/033/028/LC08_L2SP_033028_20200812_20200918_02_T1/LC08_L2SP_033028_20200812_20200918_02_T1_SR_B2.TIF\ns3://usgs-landsat/collection02/level-2/standard/oli-tirs/2020/033/028/LC08_L2SP_033028_20200812_20200918_02_T1/LC08_L2SP_033028_20200812_20200918_02_T1_SR_B3.TIF\ns3://usgs-landsat/collection02/level-2/standard/oli-tirs/2020/033/028/LC08_L2SP_033028_20200812_20200918_02_T1/LC08_L2SP_033028_20200812_20200918_02_T1_SR_B4.TIF\ns3://usgs-landsat/collection02/level-2/standard/oli-tirs/2020/033/028/LC08_L2SP_033028_20200812_20200918_02_T1/LC08_L2SP_033028_20200812_20200918_02_T1_SR_B5.TIF\ns3://usgs-landsat/collection02/level-2/standard/oli-tirs/2020/033/028/LC08_L2SP_033028_20200812_20200918_02_T1/LC08_L2SP_033028_20200812_20200918_02_T1_SR_B6.TIF\ns3://usgs-landsat/collection02/level-2/standard/oli-tirs/2020/032/029/LC08_L2SP_032029_20200805_20200916_02_T1/LC08_L2SP_032029_20200805_20200916_02_T1_SR_B2.TIF\ns3://usgs-landsat/collection02/level-2/standard/oli-tirs/2020/032/029/LC08_L2SP_032029_20200805_20200916_02_T1/LC08_L2SP_032029_20200805_20200916_02_T1_SR_B3.TIF\ns3://usgs-landsat/collection02/level-2/standard/oli-tirs/2020/032/029/LC08_L2SP_032029_20200805_20200916_02_T1/LC08_L2SP_032029_20200805_20200916_02_T1_SR_B4.TIF\ns3://usgs-landsat/collection02/level-2/standard/oli-tirs/2020/032/029/LC08_L2SP_032029_20200805_20200916_02_T1/LC08_L2SP_032029_20200805_20200916_02_T1_SR_B5.TIF\ns3://usgs-landsat/collection02/level-2/standard/oli-tirs/2020/032/029/LC08_L2SP_032029_20200805_20200916_02_T1/LC08_L2SP_032029_20200805_20200916_02_T1_SR_B6.TIF\ns3://usgs-landsat/collection02/level-2/standard/oli-tirs/2020/032/029/LC08_L2SP_032029_20200805_20200821_02_T1/LC08_L2SP_032029_20200805_20200821_02_T1_SR_B2.TIF\ns3://usgs-landsat/collection02/level-2/standard/oli-tirs/2020/032/029/LC08_L2SP_032029_20200805_20200821_02_T1/LC08_L2SP_032029_20200805_20200821_02_T1_SR_B3.TIF\ns3://usgs-landsat/collection02/level-2/standard/oli-tirs/2020/032/029/LC08_L2SP_032029_20200805_20200821_02_T1/LC08_L2SP_032029_20200805_20200821_02_T1_SR_B4.TIF\ns3://usgs-landsat/collection02/level-2/standard/oli-tirs/2020/032/029/LC08_L2SP_032029_20200805_20200821_02_T1/LC08_L2SP_032029_20200805_20200821_02_T1_SR_B5.TIF\ns3://usgs-landsat/collection02/level-2/standard/oli-tirs/2020/032/029/LC08_L2SP_032029_20200805_20200821_02_T1/LC08_L2SP_032029_20200805_20200821_02_T1_SR_B6.TIF\ns3://usgs-landsat/collection02/level-2/standard/oli-tirs/2020/033/028/LC08_L2SP_033028_20200727_20200908_02_T1/LC08_L2SP_033028_20200727_20200908_02_T1_SR_B2.TIF\ns3://usgs-landsat/collection02/level-2/standard/oli-tirs/2020/033/028/LC08_L2SP_033028_20200727_20200908_02_T1/LC08_L2SP_033028_20200727_20200908_02_T1_SR_B3.TIF\ns3://usgs-landsat/collection02/level-2/standard/oli-tirs/2020/033/028/LC08_L2SP_033028_20200727_20200908_02_T1/LC08_L2SP_033028_20200727_20200908_02_T1_SR_B4.TIF\ns3://usgs-landsat/collection02/level-2/standard/oli-tirs/2020/033/028/LC08_L2SP_033028_20200727_20200908_02_T1/LC08_L2SP_033028_20200727_20200908_02_T1_SR_B5.TIF\ns3://usgs-landsat/collection02/level-2/standard/oli-tirs/2020/033/028/LC08_L2SP_033028_20200727_20200908_02_T1/LC08_L2SP_033028_20200727_20200908_02_T1_SR_B6.TIF\ns3://usgs-landsat/collection02/level-2/standard/oli-tirs/2020/033/028/LC08_L2SP_033028_20200727_20200806_02_T1/LC08_L2SP_033028_20200727_20200806_02_T1_SR_B2.TIF\ns3://usgs-landsat/collection02/level-2/standard/oli-tirs/2020/033/028/LC08_L2SP_033028_20200727_20200806_02_T1/LC08_L2SP_033028_20200727_20200806_02_T1_SR_B3.TIF\ns3://usgs-landsat/collection02/level-2/standard/oli-tirs/2020/033/028/LC08_L2SP_033028_20200727_20200806_02_T1/LC08_L2SP_033028_20200727_20200806_02_T1_SR_B4.TIF\ns3://usgs-landsat/collection02/level-2/standard/oli-tirs/2020/033/028/LC08_L2SP_033028_20200727_20200806_02_T1/LC08_L2SP_033028_20200727_20200806_02_T1_SR_B5.TIF\ns3://usgs-landsat/collection02/level-2/standard/oli-tirs/2020/033/028/LC08_L2SP_033028_20200727_20200806_02_T1/LC08_L2SP_033028_20200727_20200806_02_T1_SR_B6.TIF\ns3://usgs-landsat/collection02/level-2/standard/oli-tirs/2020/032/029/LC08_L2SP_032029_20200704_20200913_02_T1/LC08_L2SP_032029_20200704_20200913_02_T1_SR_B2.TIF\ns3://usgs-landsat/collection02/level-2/standard/oli-tirs/2020/032/029/LC08_L2SP_032029_20200704_20200913_02_T1/LC08_L2SP_032029_20200704_20200913_02_T1_SR_B3.TIF\ns3://usgs-landsat/collection02/level-2/standard/oli-tirs/2020/032/029/LC08_L2SP_032029_20200704_20200913_02_T1/LC08_L2SP_032029_20200704_20200913_02_T1_SR_B4.TIF\ns3://usgs-landsat/collection02/level-2/standard/oli-tirs/2020/032/029/LC08_L2SP_032029_20200704_20200913_02_T1/LC08_L2SP_032029_20200704_20200913_02_T1_SR_B5.TIF\ns3://usgs-landsat/collection02/level-2/standard/oli-tirs/2020/032/029/LC08_L2SP_032029_20200704_20200913_02_T1/LC08_L2SP_032029_20200704_20200913_02_T1_SR_B6.TIF\ns3://usgs-landsat/collection02/level-2/standard/oli-tirs/2020/031/029/LC08_L2SP_031029_20200627_20200823_02_T1/LC08_L2SP_031029_20200627_20200823_02_T1_SR_B2.TIF\ns3://usgs-landsat/collection02/level-2/standard/oli-tirs/2020/031/029/LC08_L2SP_031029_20200627_20200823_02_T1/LC08_L2SP_031029_20200627_20200823_02_T1_SR_B3.TIF\ns3://usgs-landsat/collection02/level-2/standard/oli-tirs/2020/031/029/LC08_L2SP_031029_20200627_20200823_02_T1/LC08_L2SP_031029_20200627_20200823_02_T1_SR_B4.TIF\ns3://usgs-landsat/collection02/level-2/standard/oli-tirs/2020/031/029/LC08_L2SP_031029_20200627_20200823_02_T1/LC08_L2SP_031029_20200627_20200823_02_T1_SR_B5.TIF\ns3://usgs-landsat/collection02/level-2/standard/oli-tirs/2020/031/029/LC08_L2SP_031029_20200627_20200823_02_T1/LC08_L2SP_031029_20200627_20200823_02_T1_SR_B6.TIF\ns3://usgs-landsat/collection02/level-2/standard/oli-tirs/2020/031/028/LC08_L2SP_031028_20200627_20200824_02_T1/LC08_L2SP_031028_20200627_20200824_02_T1_SR_B2.TIF\ns3://usgs-landsat/collection02/level-2/standard/oli-tirs/2020/031/028/LC08_L2SP_031028_20200627_20200824_02_T1/LC08_L2SP_031028_20200627_20200824_02_T1_SR_B3.TIF\ns3://usgs-landsat/collection02/level-2/standard/oli-tirs/2020/031/028/LC08_L2SP_031028_20200627_20200824_02_T1/LC08_L2SP_031028_20200627_20200824_02_T1_SR_B4.TIF\ns3://usgs-landsat/collection02/level-2/standard/oli-tirs/2020/031/028/LC08_L2SP_031028_20200627_20200824_02_T1/LC08_L2SP_031028_20200627_20200824_02_T1_SR_B5.TIF\ns3://usgs-landsat/collection02/level-2/standard/oli-tirs/2020/031/028/LC08_L2SP_031028_20200627_20200824_02_T1/LC08_L2SP_031028_20200627_20200824_02_T1_SR_B6.TIF\ns3://usgs-landsat/collection02/level-2/standard/oli-tirs/2020/031/028/LC08_L2SP_031028_20200611_20200824_02_T1/LC08_L2SP_031028_20200611_20200824_02_T1_SR_B2.TIF\ns3://usgs-landsat/collection02/level-2/standard/oli-tirs/2020/031/028/LC08_L2SP_031028_20200611_20200824_02_T1/LC08_L2SP_031028_20200611_20200824_02_T1_SR_B3.TIF\ns3://usgs-landsat/collection02/level-2/standard/oli-tirs/2020/031/028/LC08_L2SP_031028_20200611_20200824_02_T1/LC08_L2SP_031028_20200611_20200824_02_T1_SR_B4.TIF\ns3://usgs-landsat/collection02/level-2/standard/oli-tirs/2020/031/028/LC08_L2SP_031028_20200611_20200824_02_T1/LC08_L2SP_031028_20200611_20200824_02_T1_SR_B5.TIF\ns3://usgs-landsat/collection02/level-2/standard/oli-tirs/2020/031/028/LC08_L2SP_031028_20200611_20200824_02_T1/LC08_L2SP_031028_20200611_20200824_02_T1_SR_B6.TIF\ns3://usgs-landsat/collection02/level-2/standard/oli-tirs/2020/031/029/LC08_L2SP_031029_20200611_20200824_02_T1/LC08_L2SP_031029_20200611_20200824_02_T1_SR_B2.TIF\ns3://usgs-landsat/collection02/level-2/standard/oli-tirs/2020/031/029/LC08_L2SP_031029_20200611_20200824_02_T1/LC08_L2SP_031029_20200611_20200824_02_T1_SR_B3.TIF\ns3://usgs-landsat/collection02/level-2/standard/oli-tirs/2020/031/029/LC08_L2SP_031029_20200611_20200824_02_T1/LC08_L2SP_031029_20200611_20200824_02_T1_SR_B4.TIF\ns3://usgs-landsat/collection02/level-2/standard/oli-tirs/2020/031/029/LC08_L2SP_031029_20200611_20200824_02_T1/LC08_L2SP_031029_20200611_20200824_02_T1_SR_B5.TIF\ns3://usgs-landsat/collection02/level-2/standard/oli-tirs/2020/031/029/LC08_L2SP_031029_20200611_20200824_02_T1/LC08_L2SP_031029_20200611_20200824_02_T1_SR_B6.TIF\n"
     ]
    }
   ],
   "source": [
    "## Retrieving Pixels\n",
    "bands = [2,3,4,5,6]\n",
    "bbox = bbox_list[1]\n",
    "# TODO: \n",
    "# Loop over each scene\n",
    "response = response_by_year[1]\n",
    "# Each season should actually be it's own DPS job\n",
    "for item in response['features']:\n",
    "    # for each scene Loop over bands 2,3,4,5,6 (assets)\n",
    "    for band in bands:\n",
    "        # For each scene, read subset set by bounding box\n",
    "        asset = item['assets'][f'SR_B{band}.TIF']['href']\n",
    "        # Convert to S3 url for use with requester pays\n",
    "        cog = asset.replace('https://landsatlook.usgs.gov/data/', 's3://usgs-landsat/')\n",
    "        print(cog) \n",
    "        # Since the source files are per band, the 1st band in a given file is default\n",
    "        # Bound Box reprojected on the fly to the native projection of the asset\n",
    "        #subset, crs, transform = extract_subset(cog, bbox, 1)\n",
    "\n",
    "    # stack the bands into the same array with n layers (z direction)?\n",
    "    # optional: calculate indexes based on the bands and store as additional layers\n",
    "    # save cog to disk (could be a kea or Zarr(xarray))\n",
    "# after looping, make a VRT of cogs so it can be treated as a single file ?\n",
    "\n",
    "# Questions, \n",
    "# 1. should the tiling scheme be LonLat 1 degree, the end Equal area projection, or utm zone based? take bbox reproject to LonLat for the query\n",
    "# 2. do we need the QA band or can we do that separate, the only limitation on cogs is that the storage type needs to be identical in all bands. Kea or Zarr could accomodate, or if the pixels are cloud filtered before saving the stack then a COG is ok."
   ]
  },
  {
   "cell_type": "code",
   "execution_count": null,
   "metadata": {},
   "outputs": [],
   "source": [
    "# Adding processed imagery to a covariate stack"
   ]
  },
  {
   "cell_type": "code",
   "execution_count": null,
   "metadata": {},
   "outputs": [],
   "source": []
  }
 ],
 "metadata": {
  "kernelspec": {
   "display_name": "Python 3",
   "language": "python",
   "name": "python3"
  },
  "language_info": {
   "codemirror_mode": {
    "name": "ipython",
    "version": 3
   },
   "file_extension": ".py",
   "mimetype": "text/x-python",
   "name": "python",
   "nbconvert_exporter": "python",
   "pygments_lexer": "ipython3",
   "version": "3.8.3-final"
  }
 },
 "nbformat": 4,
 "nbformat_minor": 4
}