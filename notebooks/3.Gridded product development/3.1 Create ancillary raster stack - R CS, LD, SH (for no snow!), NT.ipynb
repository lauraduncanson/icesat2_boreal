{
 "cells": [
  {
   "cell_type": "markdown",
   "metadata": {},
   "source": [
    "# Create covariate stacks"
   ]
  },
  {
   "cell_type": "markdown",
   "metadata": {},
   "source": [
    "### Covariates will be derived by reducing satellite imagery to useful modelling layers\n",
    "#### Covariates can include: Landsat 8, NASADEM, Sentinel-2, Sentinel-1\n",
    "\n",
    "### Inputs:\n",
    "#### bbox_img_tile: An image tile extent will provide the bbox that accesses cloud-optimized GeoTiffs\n",
    "#### filters: search for imagery based on days-of-year, cloudcover, year range\n",
    "##### Note: Image tile extent will be dictated by data volume of covars & CPU RAM"
   ]
  },
  {
   "cell_type": "code",
   "execution_count": 1,
   "metadata": {},
   "outputs": [],
   "source": [
    "# Search for imagery\n",
    "# https://github.com/developmentseed/example-jupyter-notebooks/blob/landsat-search/notebooks/Landsat8-Search/L8-USGS-satapi.ipynb\n",
    "import os\n",
    "import json\n",
    "import requests\n",
    "import datetime\n",
    "\n",
    "sat_api_url = \"https://landsatlook.usgs.gov/sat-api\"\n",
    "\n",
    "def query_satapi(query):\n",
    "    headers = {\n",
    "            \"Content-Type\": \"application/json\",\n",
    "            \"Accept-Encoding\": \"gzip\",\n",
    "            \"Accept\": \"application/geo+json\",\n",
    "        }\n",
    "\n",
    "    url = f\"{sat_api_url}/stac/search\"\n",
    "    data = requests.post(url, headers=headers, json=query).json()\n",
    "    \n",
    "    return data\n",
    "\n",
    "def query_year(year, bbox, min_cloud, max_cloud):\n",
    "    '''Given the year, finds the number of scenes matching the query and returns it.'''\n",
    "    date_min = '-'.join([str(year), \"06-01\"])\n",
    "    date_max = '-'.join([str(year), \"09-15\"])\n",
    "    start_date = datetime.datetime.strptime(date_min, \"%Y-%m-%d\")\n",
    "    end_date = datetime.datetime.strptime(date_max, \"%Y-%m-%d\") \n",
    "    start = start_date.strftime(\"%Y-%m-%dT00:00:00Z\")\n",
    "    end = end_date.strftime(\"%Y-%m-%dT23:59:59Z\")\n",
    "    \n",
    "    query = {\n",
    "    \"time\": f\"{start}/{end}\",\n",
    "    \"bbox\":bbox,\n",
    "    \"query\": {\n",
    "        \"eo:platform\": {\"eq\": \"LANDSAT_8\"},\n",
    "        \"eo:cloud_cover\": {\"gte\": min_cloud, \"lt\": max_cloud},\n",
    "        \"collection\":{\"eq\": \"landsat-c2l2-sr\"},\n",
    "        \"landsat:collection_category\":{\"eq\": \"T1\"}\n",
    "        },\n",
    "    \"limit\": 20 # We limit to 500 items per Page (requests) to make sure sat-api doesn't fail to return big features collection\n",
    "    }\n",
    "    \n",
    "    data = query_satapi(query)\n",
    "    \n",
    "    # you can't trouble shoot if you don't return the actual results\n",
    "    return data"
   ]
  },
  {
   "cell_type": "code",
   "execution_count": 4,
   "metadata": {
    "tags": []
   },
   "outputs": [
    {
     "name": "stdout",
     "output_type": "stream",
     "text": [
      "[40, 50, 67, 56, 29, 56]\n",
      "[7, 13, 19, 17, 4, 15]\n"
     ]
    }
   ],
   "source": [
    "# Accessing imagery\n",
    "# Select an area of interest\n",
    "#bbox_list = [[-105,45,-100,50], [-101,45,-100,46]] # Not Boreal Enough\n",
    "bbox_list = [[-116,50,-112,55],[-116.5,50.5,-115.5,51.5]]\n",
    "min_cloud = 0\n",
    "max_cloud = 20\n",
    "years = range(2015,2020 + 1)\n",
    "for bbox in bbox_list:\n",
    "    # Geojson of total scenes - Change to list of scenes\n",
    "    response_by_year = [query_year(year, bbox, min_cloud, max_cloud ) for year in years]\n",
    "    scene_totals = [each['meta']['found'] for each in response_by_year]\n",
    "    print(scene_totals)"
   ]
  },
  {
   "cell_type": "code",
   "execution_count": 16,
   "metadata": {},
   "outputs": [],
   "source": [
    "### Optional ###\n",
    "# Take the search over several years, write the geojson response for each\n",
    "save_path = '/projects/alexdevseed/landsat8/sample2'\n",
    "if (not os.path.isdir(save_path)): os.mkdir(save_path)\n",
    "for yr in range(1,len(years)):\n",
    "    catalog = os.path.join(save_path, f'response-{years[yr]}.json')\n",
    "    with open(catalog, 'w') as jsonfile:\n",
    "        json.dump(response_by_year[yr], jsonfile)"
   ]
  },
  {
   "cell_type": "markdown",
   "metadata": {},
   "source": [
    "## Debugging\n",
    "\n",
    "The next few code chunks were inserted just to debug why the query was returning so many results for such a small bounding box. The answer was that bbox needs to be outside the query, and adding a platform and tier to the query reduces even more. Note: everything in the query section follows a very specific format. TODO link the STAC docs explaining the query language."
   ]
  },
  {
   "cell_type": "code",
   "execution_count": 30,
   "metadata": {},
   "outputs": [],
   "source": [
    "# It's better to just return the whole response, so you can iterate and debug through it.\n",
    "#bbox_list = [[-105,45,-100,50], [-101,45,-100,46]]\n",
    "#min_cloud = 0\n",
    "#max_cloud = 20\n",
    "\n",
    "#yr = 2020\n",
    "#response = query_year(yr, bbox_list[1], min_cloud, max_cloud) \n",
    "#scenes = response['meta']['found']\n",
    "#scenes"
   ]
  },
  {
   "cell_type": "code",
   "execution_count": 45,
   "metadata": {},
   "outputs": [
    {
     "name": "stdout",
     "output_type": "stream",
     "text": [
      "LC08_L2SP_031029_20200915_20200919_02_T1\n",
      "LC08_L2SP_032029_20200906_20200918_02_T1\n",
      "LC08_L2SP_031029_20200830_20200906_02_T1\n",
      "LC08_L2SP_033028_20200828_20200906_02_T1\n",
      "LC08_L2SP_031029_20200814_20200920_02_T1\n",
      "LC08_L2SP_033028_20200812_20200918_02_T1\n",
      "LC08_L2SP_032029_20200805_20200916_02_T1\n",
      "LC08_L2SP_032029_20200805_20200821_02_T1\n",
      "LC08_L2SP_033028_20200727_20200908_02_T1\n",
      "LC08_L2SP_033028_20200727_20200806_02_T1\n",
      "LC08_L2SP_032029_20200704_20200913_02_T1\n",
      "LC08_L2SP_031029_20200627_20200823_02_T1\n",
      "LC08_L2SP_031028_20200627_20200824_02_T1\n",
      "LC08_L2SP_031028_20200611_20200824_02_T1\n",
      "LC08_L2SP_031029_20200611_20200824_02_T1\n"
     ]
    }
   ],
   "source": [
    "# Some helpful ways to debug\n",
    "#response['features'][0]\n",
    "#for item in response['features']: print(item['id'])"
   ]
  },
  {
   "cell_type": "markdown",
   "metadata": {},
   "source": [
    "### Exploring Results as Spatial layer\n",
    "\n",
    "The return from the api is a valid geojson per page. You can directly plot this on a map (e.g. folium). Below is an expirement to convert to geopandas, however only the 'properties' key is maintained as an attribute, which isn't going to work since we also need the 'assests'. TODO: Need to flatten the json before loading to geopandas."
   ]
  },
  {
   "cell_type": "code",
   "execution_count": 7,
   "metadata": {},
   "outputs": [
    {
     "name": "stdout",
     "output_type": "stream",
     "text": [
      "\u001b[33mWARNING: You are using pip version 21.0; however, version 21.0.1 is available.\n",
      "You should consider upgrading via the '/opt/conda/bin/python -m pip install --upgrade pip' command.\u001b[0m\n",
      "Note: you may need to restart the kernel to use updated packages.\n",
      "\u001b[33mWARNING: You are using pip version 21.0; however, version 21.0.1 is available.\n",
      "You should consider upgrading via the '/opt/conda/bin/python -m pip install --upgrade pip' command.\u001b[0m\n",
      "Note: you may need to restart the kernel to use updated packages.\n",
      "\u001b[33mWARNING: You are using pip version 21.0; however, version 21.0.1 is available.\n",
      "You should consider upgrading via the '/opt/conda/bin/python -m pip install --upgrade pip' command.\u001b[0m\n",
      "Note: you may need to restart the kernel to use updated packages.\n"
     ]
    }
   ],
   "source": [
    "%pip install -q folium\n",
    "%pip install -q geopandas\n",
    "%pip install -q shapely"
   ]
  },
  {
   "cell_type": "code",
   "execution_count": 6,
   "metadata": {},
   "outputs": [
    {
     "name": "stderr",
     "output_type": "stream",
     "text": [
      "/opt/conda/lib/python3.7/site-packages/geopandas/_compat.py:88: UserWarning: The Shapely GEOS version (3.8.0-CAPI-1.13.1 ) is incompatible with the GEOS version PyGEOS was compiled with (3.9.0-CAPI-1.16.2). Conversions between both will be slow.\n",
      "  shapely_geos_version, geos_capi_version_string\n"
     ]
    }
   ],
   "source": [
    "import geopandas as gpd\n",
    "import folium\n",
    "import shapely as shp"
   ]
  },
  {
   "cell_type": "code",
   "execution_count": 69,
   "metadata": {},
   "outputs": [],
   "source": [
    "# Silly but it's easier to write the json to file and read back in right now to get a valid geopandas frame.\n",
    "# Dilemna reading geojson with geopandas only pull the \"properties\" in as attributes\n",
    "#with open(f'response-{yr}.json', 'w') as jsonfile:\n",
    "#    json.dump(response, jsonfile)\n",
    "\n",
    "#scenes_poly1 = gpd.read_file('response.json')\n",
    "#scenes_poly1.head()"
   ]
  },
  {
   "cell_type": "code",
   "execution_count": 9,
   "metadata": {},
   "outputs": [
    {
     "name": "stdout",
     "output_type": "stream",
     "text": [
      "geometry\n",
      "collection\n",
      "eo:gsd\n",
      "eo:platform\n",
      "eo:off_nadir\n",
      "datetime\n",
      "eo:cloud_cover\n",
      "eo:sun_azimuth\n",
      "eo:sun_elevation\n",
      "eo:instrument\n",
      "landsat:cloud_cover_land\n",
      "landsat:wrs_type\n",
      "landsat:wrs_path\n",
      "landsat:wrs_row\n",
      "landsat:scene_id\n",
      "landsat:collection_category\n",
      "landsat:collection_number\n",
      "eo:bands\n"
     ]
    },
    {
     "data": {
      "text/html": [
       "<div>\n",
       "<style scoped>\n",
       "    .dataframe tbody tr th:only-of-type {\n",
       "        vertical-align: middle;\n",
       "    }\n",
       "\n",
       "    .dataframe tbody tr th {\n",
       "        vertical-align: top;\n",
       "    }\n",
       "\n",
       "    .dataframe thead th {\n",
       "        text-align: right;\n",
       "    }\n",
       "</style>\n",
       "<table border=\"1\" class=\"dataframe\">\n",
       "  <thead>\n",
       "    <tr style=\"text-align: right;\">\n",
       "      <th></th>\n",
       "      <th>geometry</th>\n",
       "      <th>collection</th>\n",
       "      <th>eo:gsd</th>\n",
       "      <th>eo:platform</th>\n",
       "      <th>eo:off_nadir</th>\n",
       "      <th>datetime</th>\n",
       "      <th>eo:cloud_cover</th>\n",
       "      <th>eo:sun_azimuth</th>\n",
       "      <th>eo:sun_elevation</th>\n",
       "      <th>eo:instrument</th>\n",
       "      <th>landsat:cloud_cover_land</th>\n",
       "      <th>landsat:wrs_type</th>\n",
       "      <th>landsat:wrs_path</th>\n",
       "      <th>landsat:wrs_row</th>\n",
       "      <th>landsat:scene_id</th>\n",
       "      <th>landsat:collection_category</th>\n",
       "      <th>landsat:collection_number</th>\n",
       "      <th>eo:bands</th>\n",
       "    </tr>\n",
       "  </thead>\n",
       "  <tbody>\n",
       "    <tr>\n",
       "      <th>0</th>\n",
       "      <td>POLYGON ((-118.49783 51.34652, -115.92969 50.8...</td>\n",
       "      <td>landsat-c2l2-sr</td>\n",
       "      <td>30</td>\n",
       "      <td>LANDSAT_8</td>\n",
       "      <td>0</td>\n",
       "      <td>2015-08-12</td>\n",
       "      <td>1.75</td>\n",
       "      <td>150.784357</td>\n",
       "      <td>51.637969</td>\n",
       "      <td>OLI_TIRS</td>\n",
       "      <td>1.75</td>\n",
       "      <td>2</td>\n",
       "      <td>44</td>\n",
       "      <td>25</td>\n",
       "      <td>LC80440252015224LGN01</td>\n",
       "      <td>T1</td>\n",
       "      <td>02</td>\n",
       "      <td>[{'name': 'SR_B1', 'common_name': 'coastal', '...</td>\n",
       "    </tr>\n",
       "    <tr>\n",
       "      <th>1</th>\n",
       "      <td>POLYGON ((-117.89902 52.76147, -115.24930 52.3...</td>\n",
       "      <td>landsat-c2l2-sr</td>\n",
       "      <td>30</td>\n",
       "      <td>LANDSAT_8</td>\n",
       "      <td>0</td>\n",
       "      <td>2015-08-12</td>\n",
       "      <td>2.25</td>\n",
       "      <td>152.379351</td>\n",
       "      <td>50.551883</td>\n",
       "      <td>OLI_TIRS</td>\n",
       "      <td>2.25</td>\n",
       "      <td>2</td>\n",
       "      <td>44</td>\n",
       "      <td>24</td>\n",
       "      <td>LC80440242015224LGN01</td>\n",
       "      <td>T1</td>\n",
       "      <td>02</td>\n",
       "      <td>[{'name': 'SR_B1', 'common_name': 'coastal', '...</td>\n",
       "    </tr>\n",
       "    <tr>\n",
       "      <th>2</th>\n",
       "      <td>POLYGON ((-114.81137 52.76215, -112.15990 52.3...</td>\n",
       "      <td>landsat-c2l2-sr</td>\n",
       "      <td>30</td>\n",
       "      <td>LANDSAT_8</td>\n",
       "      <td>0</td>\n",
       "      <td>2015-06-27</td>\n",
       "      <td>2.00</td>\n",
       "      <td>148.264403</td>\n",
       "      <td>58.635764</td>\n",
       "      <td>OLI_TIRS</td>\n",
       "      <td>2.00</td>\n",
       "      <td>2</td>\n",
       "      <td>42</td>\n",
       "      <td>24</td>\n",
       "      <td>LC80420242015178LGN01</td>\n",
       "      <td>T1</td>\n",
       "      <td>02</td>\n",
       "      <td>[{'name': 'SR_B1', 'common_name': 'coastal', '...</td>\n",
       "    </tr>\n",
       "    <tr>\n",
       "      <th>3</th>\n",
       "      <td>POLYGON ((-115.40926 51.34637, -112.83816 50.8...</td>\n",
       "      <td>landsat-c2l2-sr</td>\n",
       "      <td>30</td>\n",
       "      <td>LANDSAT_8</td>\n",
       "      <td>0</td>\n",
       "      <td>2015-06-27</td>\n",
       "      <td>1.04</td>\n",
       "      <td>146.117358</td>\n",
       "      <td>59.645130</td>\n",
       "      <td>OLI_TIRS</td>\n",
       "      <td>1.04</td>\n",
       "      <td>2</td>\n",
       "      <td>42</td>\n",
       "      <td>25</td>\n",
       "      <td>LC80420252015178LGN01</td>\n",
       "      <td>T1</td>\n",
       "      <td>02</td>\n",
       "      <td>[{'name': 'SR_B1', 'common_name': 'coastal', '...</td>\n",
       "    </tr>\n",
       "    <tr>\n",
       "      <th>4</th>\n",
       "      <td>POLYGON ((-118.49655 51.34680, -115.92839 50.8...</td>\n",
       "      <td>landsat-c2l2-sr</td>\n",
       "      <td>30</td>\n",
       "      <td>LANDSAT_8</td>\n",
       "      <td>0</td>\n",
       "      <td>2015-06-25</td>\n",
       "      <td>15.48</td>\n",
       "      <td>146.231020</td>\n",
       "      <td>59.744489</td>\n",
       "      <td>OLI_TIRS</td>\n",
       "      <td>15.48</td>\n",
       "      <td>2</td>\n",
       "      <td>44</td>\n",
       "      <td>25</td>\n",
       "      <td>LC80440252015176LGN03</td>\n",
       "      <td>T1</td>\n",
       "      <td>02</td>\n",
       "      <td>[{'name': 'SR_B1', 'common_name': 'coastal', '...</td>\n",
       "    </tr>\n",
       "  </tbody>\n",
       "</table>\n",
       "</div>"
      ],
      "text/plain": [
       "                                            geometry       collection  eo:gsd  \\\n",
       "0  POLYGON ((-118.49783 51.34652, -115.92969 50.8...  landsat-c2l2-sr      30   \n",
       "1  POLYGON ((-117.89902 52.76147, -115.24930 52.3...  landsat-c2l2-sr      30   \n",
       "2  POLYGON ((-114.81137 52.76215, -112.15990 52.3...  landsat-c2l2-sr      30   \n",
       "3  POLYGON ((-115.40926 51.34637, -112.83816 50.8...  landsat-c2l2-sr      30   \n",
       "4  POLYGON ((-118.49655 51.34680, -115.92839 50.8...  landsat-c2l2-sr      30   \n",
       "\n",
       "  eo:platform  eo:off_nadir    datetime  eo:cloud_cover  eo:sun_azimuth  \\\n",
       "0   LANDSAT_8             0  2015-08-12            1.75      150.784357   \n",
       "1   LANDSAT_8             0  2015-08-12            2.25      152.379351   \n",
       "2   LANDSAT_8             0  2015-06-27            2.00      148.264403   \n",
       "3   LANDSAT_8             0  2015-06-27            1.04      146.117358   \n",
       "4   LANDSAT_8             0  2015-06-25           15.48      146.231020   \n",
       "\n",
       "   eo:sun_elevation eo:instrument  landsat:cloud_cover_land landsat:wrs_type  \\\n",
       "0         51.637969      OLI_TIRS                      1.75                2   \n",
       "1         50.551883      OLI_TIRS                      2.25                2   \n",
       "2         58.635764      OLI_TIRS                      2.00                2   \n",
       "3         59.645130      OLI_TIRS                      1.04                2   \n",
       "4         59.744489      OLI_TIRS                     15.48                2   \n",
       "\n",
       "  landsat:wrs_path landsat:wrs_row       landsat:scene_id  \\\n",
       "0               44              25  LC80440252015224LGN01   \n",
       "1               44              24  LC80440242015224LGN01   \n",
       "2               42              24  LC80420242015178LGN01   \n",
       "3               42              25  LC80420252015178LGN01   \n",
       "4               44              25  LC80440252015176LGN03   \n",
       "\n",
       "  landsat:collection_category landsat:collection_number  \\\n",
       "0                          T1                        02   \n",
       "1                          T1                        02   \n",
       "2                          T1                        02   \n",
       "3                          T1                        02   \n",
       "4                          T1                        02   \n",
       "\n",
       "                                            eo:bands  \n",
       "0  [{'name': 'SR_B1', 'common_name': 'coastal', '...  \n",
       "1  [{'name': 'SR_B1', 'common_name': 'coastal', '...  \n",
       "2  [{'name': 'SR_B1', 'common_name': 'coastal', '...  \n",
       "3  [{'name': 'SR_B1', 'common_name': 'coastal', '...  \n",
       "4  [{'name': 'SR_B1', 'common_name': 'coastal', '...  "
      ]
     },
     "execution_count": 9,
     "metadata": {},
     "output_type": "execute_result"
    }
   ],
   "source": [
    "# This works but you have to manually set the crs\n",
    "yr = 0\n",
    "scenes_poly = gpd.GeoDataFrame.from_features(response_by_year[yr], crs='epsg:4326')\n",
    "for col in scenes_poly.columns: print(col)\n",
    "\n",
    "scenes_poly.head()\n"
   ]
  },
  {
   "cell_type": "code",
   "execution_count": 10,
   "metadata": {},
   "outputs": [
    {
     "data": {
      "text/html": [
       "<div style=\"width:100%;\"><div style=\"position:relative;width:100%;height:0;padding-bottom:60%;\"><span style=\"color:#565656\">Make this Notebook Trusted to load map: File -> Trust Notebook</span><iframe src=\"about:blank\" style=\"position:absolute;width:100%;height:100%;left:0;top:0;border:none !important;\" data-html=%3C%21DOCTYPE%20html%3E%0A%3Chead%3E%20%20%20%20%0A%20%20%20%20%3Cmeta%20http-equiv%3D%22content-type%22%20content%3D%22text/html%3B%20charset%3DUTF-8%22%20/%3E%0A%20%20%20%20%0A%20%20%20%20%20%20%20%20%3Cscript%3E%0A%20%20%20%20%20%20%20%20%20%20%20%20L_NO_TOUCH%20%3D%20false%3B%0A%20%20%20%20%20%20%20%20%20%20%20%20L_DISABLE_3D%20%3D%20false%3B%0A%20%20%20%20%20%20%20%20%3C/script%3E%0A%20%20%20%20%0A%20%20%20%20%3Cstyle%3Ehtml%2C%20body%20%7Bwidth%3A%20100%25%3Bheight%3A%20100%25%3Bmargin%3A%200%3Bpadding%3A%200%3B%7D%3C/style%3E%0A%20%20%20%20%3Cstyle%3E%23map%20%7Bposition%3Aabsolute%3Btop%3A0%3Bbottom%3A0%3Bright%3A0%3Bleft%3A0%3B%7D%3C/style%3E%0A%20%20%20%20%3Cscript%20src%3D%22https%3A//cdn.jsdelivr.net/npm/leaflet%401.6.0/dist/leaflet.js%22%3E%3C/script%3E%0A%20%20%20%20%3Cscript%20src%3D%22https%3A//code.jquery.com/jquery-1.12.4.min.js%22%3E%3C/script%3E%0A%20%20%20%20%3Cscript%20src%3D%22https%3A//maxcdn.bootstrapcdn.com/bootstrap/3.2.0/js/bootstrap.min.js%22%3E%3C/script%3E%0A%20%20%20%20%3Cscript%20src%3D%22https%3A//cdnjs.cloudflare.com/ajax/libs/Leaflet.awesome-markers/2.0.2/leaflet.awesome-markers.js%22%3E%3C/script%3E%0A%20%20%20%20%3Clink%20rel%3D%22stylesheet%22%20href%3D%22https%3A//cdn.jsdelivr.net/npm/leaflet%401.6.0/dist/leaflet.css%22/%3E%0A%20%20%20%20%3Clink%20rel%3D%22stylesheet%22%20href%3D%22https%3A//maxcdn.bootstrapcdn.com/bootstrap/3.2.0/css/bootstrap.min.css%22/%3E%0A%20%20%20%20%3Clink%20rel%3D%22stylesheet%22%20href%3D%22https%3A//maxcdn.bootstrapcdn.com/bootstrap/3.2.0/css/bootstrap-theme.min.css%22/%3E%0A%20%20%20%20%3Clink%20rel%3D%22stylesheet%22%20href%3D%22https%3A//maxcdn.bootstrapcdn.com/font-awesome/4.6.3/css/font-awesome.min.css%22/%3E%0A%20%20%20%20%3Clink%20rel%3D%22stylesheet%22%20href%3D%22https%3A//cdnjs.cloudflare.com/ajax/libs/Leaflet.awesome-markers/2.0.2/leaflet.awesome-markers.css%22/%3E%0A%20%20%20%20%3Clink%20rel%3D%22stylesheet%22%20href%3D%22https%3A//cdn.jsdelivr.net/gh/python-visualization/folium/folium/templates/leaflet.awesome.rotate.min.css%22/%3E%0A%20%20%20%20%0A%20%20%20%20%20%20%20%20%20%20%20%20%3Cmeta%20name%3D%22viewport%22%20content%3D%22width%3Ddevice-width%2C%0A%20%20%20%20%20%20%20%20%20%20%20%20%20%20%20%20initial-scale%3D1.0%2C%20maximum-scale%3D1.0%2C%20user-scalable%3Dno%22%20/%3E%0A%20%20%20%20%20%20%20%20%20%20%20%20%3Cstyle%3E%0A%20%20%20%20%20%20%20%20%20%20%20%20%20%20%20%20%23map_ea1d90f2dc71408182ac1109ede8ff75%20%7B%0A%20%20%20%20%20%20%20%20%20%20%20%20%20%20%20%20%20%20%20%20position%3A%20relative%3B%0A%20%20%20%20%20%20%20%20%20%20%20%20%20%20%20%20%20%20%20%20width%3A%20100.0%25%3B%0A%20%20%20%20%20%20%20%20%20%20%20%20%20%20%20%20%20%20%20%20height%3A%20100.0%25%3B%0A%20%20%20%20%20%20%20%20%20%20%20%20%20%20%20%20%20%20%20%20left%3A%200.0%25%3B%0A%20%20%20%20%20%20%20%20%20%20%20%20%20%20%20%20%20%20%20%20top%3A%200.0%25%3B%0A%20%20%20%20%20%20%20%20%20%20%20%20%20%20%20%20%7D%0A%20%20%20%20%20%20%20%20%20%20%20%20%3C/style%3E%0A%20%20%20%20%20%20%20%20%0A%3C/head%3E%0A%3Cbody%3E%20%20%20%20%0A%20%20%20%20%0A%20%20%20%20%20%20%20%20%20%20%20%20%3Cdiv%20class%3D%22folium-map%22%20id%3D%22map_ea1d90f2dc71408182ac1109ede8ff75%22%20%3E%3C/div%3E%0A%20%20%20%20%20%20%20%20%0A%3C/body%3E%0A%3Cscript%3E%20%20%20%20%0A%20%20%20%20%0A%20%20%20%20%20%20%20%20%20%20%20%20var%20map_ea1d90f2dc71408182ac1109ede8ff75%20%3D%20L.map%28%0A%20%20%20%20%20%20%20%20%20%20%20%20%20%20%20%20%22map_ea1d90f2dc71408182ac1109ede8ff75%22%2C%0A%20%20%20%20%20%20%20%20%20%20%20%20%20%20%20%20%7B%0A%20%20%20%20%20%20%20%20%20%20%20%20%20%20%20%20%20%20%20%20center%3A%20%5B51.0%2C%20-116.0%5D%2C%0A%20%20%20%20%20%20%20%20%20%20%20%20%20%20%20%20%20%20%20%20crs%3A%20L.CRS.EPSG3857%2C%0A%20%20%20%20%20%20%20%20%20%20%20%20%20%20%20%20%20%20%20%20zoom%3A%206%2C%0A%20%20%20%20%20%20%20%20%20%20%20%20%20%20%20%20%20%20%20%20zoomControl%3A%20true%2C%0A%20%20%20%20%20%20%20%20%20%20%20%20%20%20%20%20%20%20%20%20preferCanvas%3A%20false%2C%0A%20%20%20%20%20%20%20%20%20%20%20%20%20%20%20%20%7D%0A%20%20%20%20%20%20%20%20%20%20%20%20%29%3B%0A%0A%20%20%20%20%20%20%20%20%20%20%20%20%0A%0A%20%20%20%20%20%20%20%20%0A%20%20%20%20%0A%20%20%20%20%20%20%20%20%20%20%20%20var%20tile_layer_6d55eb320afc483496092f0a9dba6200%20%3D%20L.tileLayer%28%0A%20%20%20%20%20%20%20%20%20%20%20%20%20%20%20%20%22https%3A//cartodb-basemaps-%7Bs%7D.global.ssl.fastly.net/light_all/%7Bz%7D/%7Bx%7D/%7By%7D.png%22%2C%0A%20%20%20%20%20%20%20%20%20%20%20%20%20%20%20%20%7B%22attribution%22%3A%20%22%5Cu0026copy%3B%20%5Cu003ca%20href%3D%5C%22http%3A//www.openstreetmap.org/copyright%5C%22%5Cu003eOpenStreetMap%5Cu003c/a%5Cu003e%20contributors%20%5Cu0026copy%3B%20%5Cu003ca%20href%3D%5C%22http%3A//cartodb.com/attributions%5C%22%5Cu003eCartoDB%5Cu003c/a%5Cu003e%2C%20CartoDB%20%5Cu003ca%20href%20%3D%5C%22http%3A//cartodb.com/attributions%5C%22%5Cu003eattributions%5Cu003c/a%5Cu003e%22%2C%20%22detectRetina%22%3A%20false%2C%20%22maxNativeZoom%22%3A%2018%2C%20%22maxZoom%22%3A%2018%2C%20%22minZoom%22%3A%200%2C%20%22noWrap%22%3A%20false%2C%20%22opacity%22%3A%201%2C%20%22subdomains%22%3A%20%22abc%22%2C%20%22tms%22%3A%20false%7D%0A%20%20%20%20%20%20%20%20%20%20%20%20%29.addTo%28map_ea1d90f2dc71408182ac1109ede8ff75%29%3B%0A%20%20%20%20%20%20%20%20%0A%20%20%20%20%0A%0A%20%20%20%20%20%20%20%20function%20geo_json_99c482968b4048f0a95b904515400755_onEachFeature%28feature%2C%20layer%29%20%7B%0A%20%20%20%20%20%20%20%20%20%20%20%20layer.on%28%7B%0A%20%20%20%20%20%20%20%20%20%20%20%20%7D%29%3B%0A%20%20%20%20%20%20%20%20%7D%3B%0A%20%20%20%20%20%20%20%20var%20geo_json_99c482968b4048f0a95b904515400755%20%3D%20L.geoJson%28null%2C%20%7B%0A%20%20%20%20%20%20%20%20%20%20%20%20%20%20%20%20onEachFeature%3A%20geo_json_99c482968b4048f0a95b904515400755_onEachFeature%2C%0A%20%20%20%20%20%20%20%20%20%20%20%20%0A%20%20%20%20%20%20%20%20%7D%29%3B%0A%0A%20%20%20%20%20%20%20%20function%20geo_json_99c482968b4048f0a95b904515400755_add%20%28data%29%20%7B%0A%20%20%20%20%20%20%20%20%20%20%20%20geo_json_99c482968b4048f0a95b904515400755%0A%20%20%20%20%20%20%20%20%20%20%20%20%20%20%20%20.addData%28data%29%0A%20%20%20%20%20%20%20%20%20%20%20%20%20%20%20%20.addTo%28map_ea1d90f2dc71408182ac1109ede8ff75%29%3B%0A%20%20%20%20%20%20%20%20%7D%0A%20%20%20%20%20%20%20%20%20%20%20%20geo_json_99c482968b4048f0a95b904515400755_add%28%7B%22bbox%22%3A%20%5B-119.19385911141124%2C%2049.204817646377336%2C%20-112.15989876865541%2C%2052.76214619447341%5D%2C%20%22features%22%3A%20%5B%7B%22bbox%22%3A%20%5B-119.17972853107702%2C%2049.20505269057738%2C%20-115.92968638874873%2C%2051.346517364997844%5D%2C%20%22geometry%22%3A%20%7B%22coordinates%22%3A%20%5B%5B%5B-118.49783389055901%2C%2051.346517364997844%5D%2C%20%5B-115.92968638874873%2C%2050.89932388362292%5D%2C%20%5B-116.69735761833692%2C%2049.20505269057738%5D%2C%20%5B-119.17972853107702%2C%2049.64528923565621%5D%2C%20%5B-118.49783389055901%2C%2051.346517364997844%5D%5D%5D%2C%20%22type%22%3A%20%22Polygon%22%7D%2C%20%22id%22%3A%20%220%22%2C%20%22properties%22%3A%20%7B%22collection%22%3A%20%22landsat-c2l2-sr%22%2C%20%22datetime%22%3A%20%222015-08-12%22%2C%20%22eo%3Abands%22%3A%20%5B%7B%22center_wavelength%22%3A%200.44%2C%20%22common_name%22%3A%20%22coastal%22%2C%20%22gsd%22%3A%2030%2C%20%22name%22%3A%20%22SR_B1%22%7D%2C%20%7B%22center_wavelength%22%3A%200.48%2C%20%22common_name%22%3A%20%22blue%22%2C%20%22gsd%22%3A%2030%2C%20%22name%22%3A%20%22SR_B2%22%7D%2C%20%7B%22center_wavelength%22%3A%200.56%2C%20%22common_name%22%3A%20%22green%22%2C%20%22gsd%22%3A%2030%2C%20%22name%22%3A%20%22SR_B3%22%7D%2C%20%7B%22center_wavelength%22%3A%200.65%2C%20%22common_name%22%3A%20%22red%22%2C%20%22gsd%22%3A%2030%2C%20%22name%22%3A%20%22SR_B4%22%7D%2C%20%7B%22center_wavelength%22%3A%200.86%2C%20%22common_name%22%3A%20%22nir08%22%2C%20%22gsd%22%3A%2030%2C%20%22name%22%3A%20%22SR_B5%22%7D%2C%20%7B%22center_wavelength%22%3A%201.6%2C%20%22common_name%22%3A%20%22swir16%22%2C%20%22gsd%22%3A%2030%2C%20%22name%22%3A%20%22SR_B6%22%7D%2C%20%7B%22center_wavelength%22%3A%202.2%2C%20%22common_name%22%3A%20%22swir22%22%2C%20%22gsd%22%3A%2030%2C%20%22name%22%3A%20%22SR_B7%22%7D%5D%2C%20%22eo%3Acloud_cover%22%3A%201.75%2C%20%22eo%3Agsd%22%3A%2030%2C%20%22eo%3Ainstrument%22%3A%20%22OLI_TIRS%22%2C%20%22eo%3Aoff_nadir%22%3A%200%2C%20%22eo%3Aplatform%22%3A%20%22LANDSAT_8%22%2C%20%22eo%3Asun_azimuth%22%3A%20150.78435697%2C%20%22eo%3Asun_elevation%22%3A%2051.63796863%2C%20%22landsat%3Acloud_cover_land%22%3A%201.75%2C%20%22landsat%3Acollection_category%22%3A%20%22T1%22%2C%20%22landsat%3Acollection_number%22%3A%20%2202%22%2C%20%22landsat%3Ascene_id%22%3A%20%22LC80440252015224LGN01%22%2C%20%22landsat%3Awrs_path%22%3A%20%2244%22%2C%20%22landsat%3Awrs_row%22%3A%20%2225%22%2C%20%22landsat%3Awrs_type%22%3A%20%222%22%7D%2C%20%22type%22%3A%20%22Feature%22%7D%2C%20%7B%22bbox%22%3A%20%5B-118.61323871523281%2C%2050.61419150957292%2C%20-115.24929678249184%2C%2052.76146558560138%5D%2C%20%22geometry%22%3A%20%7B%22coordinates%22%3A%20%5B%5B%5B-117.89902162578908%2C%2052.76146558560138%5D%2C%20%5B-115.24929678249184%2C%2052.30445835277388%5D%2C%20%5B-116.05956671812005%2C%2050.61419150957292%5D%2C%20%5B-118.61323871523281%2C%2051.06251616676307%5D%2C%20%5B-117.89902162578908%2C%2052.76146558560138%5D%5D%5D%2C%20%22type%22%3A%20%22Polygon%22%7D%2C%20%22id%22%3A%20%221%22%2C%20%22properties%22%3A%20%7B%22collection%22%3A%20%22landsat-c2l2-sr%22%2C%20%22datetime%22%3A%20%222015-08-12%22%2C%20%22eo%3Abands%22%3A%20%5B%7B%22center_wavelength%22%3A%200.44%2C%20%22common_name%22%3A%20%22coastal%22%2C%20%22gsd%22%3A%2030%2C%20%22name%22%3A%20%22SR_B1%22%7D%2C%20%7B%22center_wavelength%22%3A%200.48%2C%20%22common_name%22%3A%20%22blue%22%2C%20%22gsd%22%3A%2030%2C%20%22name%22%3A%20%22SR_B2%22%7D%2C%20%7B%22center_wavelength%22%3A%200.56%2C%20%22common_name%22%3A%20%22green%22%2C%20%22gsd%22%3A%2030%2C%20%22name%22%3A%20%22SR_B3%22%7D%2C%20%7B%22center_wavelength%22%3A%200.65%2C%20%22common_name%22%3A%20%22red%22%2C%20%22gsd%22%3A%2030%2C%20%22name%22%3A%20%22SR_B4%22%7D%2C%20%7B%22center_wavelength%22%3A%200.86%2C%20%22common_name%22%3A%20%22nir08%22%2C%20%22gsd%22%3A%2030%2C%20%22name%22%3A%20%22SR_B5%22%7D%2C%20%7B%22center_wavelength%22%3A%201.6%2C%20%22common_name%22%3A%20%22swir16%22%2C%20%22gsd%22%3A%2030%2C%20%22name%22%3A%20%22SR_B6%22%7D%2C%20%7B%22center_wavelength%22%3A%202.2%2C%20%22common_name%22%3A%20%22swir22%22%2C%20%22gsd%22%3A%2030%2C%20%22name%22%3A%20%22SR_B7%22%7D%5D%2C%20%22eo%3Acloud_cover%22%3A%202.25%2C%20%22eo%3Agsd%22%3A%2030%2C%20%22eo%3Ainstrument%22%3A%20%22OLI_TIRS%22%2C%20%22eo%3Aoff_nadir%22%3A%200%2C%20%22eo%3Aplatform%22%3A%20%22LANDSAT_8%22%2C%20%22eo%3Asun_azimuth%22%3A%20152.3793514%2C%20%22eo%3Asun_elevation%22%3A%2050.55188347%2C%20%22landsat%3Acloud_cover_land%22%3A%202.25%2C%20%22landsat%3Acollection_category%22%3A%20%22T1%22%2C%20%22landsat%3Acollection_number%22%3A%20%2202%22%2C%20%22landsat%3Ascene_id%22%3A%20%22LC80440242015224LGN01%22%2C%20%22landsat%3Awrs_path%22%3A%20%2244%22%2C%20%22landsat%3Awrs_row%22%3A%20%2224%22%2C%20%22landsat%3Awrs_type%22%3A%20%222%22%7D%2C%20%22type%22%3A%20%22Feature%22%7D%2C%20%7B%22bbox%22%3A%20%5B-115.5258786688907%2C%2050.61399305574639%2C%20-112.15989876865541%2C%2052.76214619447341%5D%2C%20%22geometry%22%3A%20%7B%22coordinates%22%3A%20%5B%5B%5B-114.81136740219996%2C%2052.76214619447341%5D%2C%20%5B-112.15989876865541%2C%2052.30445594784792%5D%2C%20%5B-112.97102337009287%2C%2050.61399305574639%5D%2C%20%5B-115.5258786688907%2C%2051.06366622104335%5D%2C%20%5B-114.81136740219996%2C%2052.76214619447341%5D%5D%5D%2C%20%22type%22%3A%20%22Polygon%22%7D%2C%20%22id%22%3A%20%222%22%2C%20%22properties%22%3A%20%7B%22collection%22%3A%20%22landsat-c2l2-sr%22%2C%20%22datetime%22%3A%20%222015-06-27%22%2C%20%22eo%3Abands%22%3A%20%5B%7B%22center_wavelength%22%3A%200.44%2C%20%22common_name%22%3A%20%22coastal%22%2C%20%22gsd%22%3A%2030%2C%20%22name%22%3A%20%22SR_B1%22%7D%2C%20%7B%22center_wavelength%22%3A%200.48%2C%20%22common_name%22%3A%20%22blue%22%2C%20%22gsd%22%3A%2030%2C%20%22name%22%3A%20%22SR_B2%22%7D%2C%20%7B%22center_wavelength%22%3A%200.56%2C%20%22common_name%22%3A%20%22green%22%2C%20%22gsd%22%3A%2030%2C%20%22name%22%3A%20%22SR_B3%22%7D%2C%20%7B%22center_wavelength%22%3A%200.65%2C%20%22common_name%22%3A%20%22red%22%2C%20%22gsd%22%3A%2030%2C%20%22name%22%3A%20%22SR_B4%22%7D%2C%20%7B%22center_wavelength%22%3A%200.86%2C%20%22common_name%22%3A%20%22nir08%22%2C%20%22gsd%22%3A%2030%2C%20%22name%22%3A%20%22SR_B5%22%7D%2C%20%7B%22center_wavelength%22%3A%201.6%2C%20%22common_name%22%3A%20%22swir16%22%2C%20%22gsd%22%3A%2030%2C%20%22name%22%3A%20%22SR_B6%22%7D%2C%20%7B%22center_wavelength%22%3A%202.2%2C%20%22common_name%22%3A%20%22swir22%22%2C%20%22gsd%22%3A%2030%2C%20%22name%22%3A%20%22SR_B7%22%7D%5D%2C%20%22eo%3Acloud_cover%22%3A%202.0%2C%20%22eo%3Agsd%22%3A%2030%2C%20%22eo%3Ainstrument%22%3A%20%22OLI_TIRS%22%2C%20%22eo%3Aoff_nadir%22%3A%200%2C%20%22eo%3Aplatform%22%3A%20%22LANDSAT_8%22%2C%20%22eo%3Asun_azimuth%22%3A%20148.26440302%2C%20%22eo%3Asun_elevation%22%3A%2058.63576441%2C%20%22landsat%3Acloud_cover_land%22%3A%202.0%2C%20%22landsat%3Acollection_category%22%3A%20%22T1%22%2C%20%22landsat%3Acollection_number%22%3A%20%2202%22%2C%20%22landsat%3Ascene_id%22%3A%20%22LC80420242015178LGN01%22%2C%20%22landsat%3Awrs_path%22%3A%20%2242%22%2C%20%22landsat%3Awrs_row%22%3A%20%2224%22%2C%20%22landsat%3Awrs_type%22%3A%20%222%22%7D%2C%20%22type%22%3A%20%22Feature%22%7D%2C%20%7B%22bbox%22%3A%20%5B-116.09207581484254%2C%2049.20502208727335%2C%20-112.83816294013049%2C%2051.3463715975251%5D%2C%20%22geometry%22%3A%20%7B%22coordinates%22%3A%20%5B%5B%5B-115.40926491630906%2C%2051.3463715975251%5D%2C%20%5B-112.83816294013049%2C%2050.899069854569895%5D%2C%20%5B-113.60859753717145%2C%2049.20502208727335%5D%2C%20%5B-116.09207581484254%2C%2049.64552024374876%5D%2C%20%5B-115.40926491630906%2C%2051.3463715975251%5D%5D%5D%2C%20%22type%22%3A%20%22Polygon%22%7D%2C%20%22id%22%3A%20%223%22%2C%20%22properties%22%3A%20%7B%22collection%22%3A%20%22landsat-c2l2-sr%22%2C%20%22datetime%22%3A%20%222015-06-27%22%2C%20%22eo%3Abands%22%3A%20%5B%7B%22center_wavelength%22%3A%200.44%2C%20%22common_name%22%3A%20%22coastal%22%2C%20%22gsd%22%3A%2030%2C%20%22name%22%3A%20%22SR_B1%22%7D%2C%20%7B%22center_wavelength%22%3A%200.48%2C%20%22common_name%22%3A%20%22blue%22%2C%20%22gsd%22%3A%2030%2C%20%22name%22%3A%20%22SR_B2%22%7D%2C%20%7B%22center_wavelength%22%3A%200.56%2C%20%22common_name%22%3A%20%22green%22%2C%20%22gsd%22%3A%2030%2C%20%22name%22%3A%20%22SR_B3%22%7D%2C%20%7B%22center_wavelength%22%3A%200.65%2C%20%22common_name%22%3A%20%22red%22%2C%20%22gsd%22%3A%2030%2C%20%22name%22%3A%20%22SR_B4%22%7D%2C%20%7B%22center_wavelength%22%3A%200.86%2C%20%22common_name%22%3A%20%22nir08%22%2C%20%22gsd%22%3A%2030%2C%20%22name%22%3A%20%22SR_B5%22%7D%2C%20%7B%22center_wavelength%22%3A%201.6%2C%20%22common_name%22%3A%20%22swir16%22%2C%20%22gsd%22%3A%2030%2C%20%22name%22%3A%20%22SR_B6%22%7D%2C%20%7B%22center_wavelength%22%3A%202.2%2C%20%22common_name%22%3A%20%22swir22%22%2C%20%22gsd%22%3A%2030%2C%20%22name%22%3A%20%22SR_B7%22%7D%5D%2C%20%22eo%3Acloud_cover%22%3A%201.04%2C%20%22eo%3Agsd%22%3A%2030%2C%20%22eo%3Ainstrument%22%3A%20%22OLI_TIRS%22%2C%20%22eo%3Aoff_nadir%22%3A%200%2C%20%22eo%3Aplatform%22%3A%20%22LANDSAT_8%22%2C%20%22eo%3Asun_azimuth%22%3A%20146.11735809%2C%20%22eo%3Asun_elevation%22%3A%2059.64512998%2C%20%22landsat%3Acloud_cover_land%22%3A%201.04%2C%20%22landsat%3Acollection_category%22%3A%20%22T1%22%2C%20%22landsat%3Acollection_number%22%3A%20%2202%22%2C%20%22landsat%3Ascene_id%22%3A%20%22LC80420252015178LGN01%22%2C%20%22landsat%3Awrs_path%22%3A%20%2242%22%2C%20%22landsat%3Awrs_row%22%3A%20%2225%22%2C%20%22landsat%3Awrs_type%22%3A%20%222%22%7D%2C%20%22type%22%3A%20%22Feature%22%7D%2C%20%7B%22bbox%22%3A%20%5B-119.17891006692831%2C%2049.2050505294097%2C%20-115.9283943903837%2C%2051.34680354451751%5D%2C%20%22geometry%22%3A%20%7B%22coordinates%22%3A%20%5B%5B%5B-118.4965508613479%2C%2051.34680354451751%5D%2C%20%5B-115.9283943903837%2C%2050.8998516093494%5D%2C%20%5B-116.6965339269811%2C%2049.2050505294097%5D%2C%20%5B-119.17891006692831%2C%2049.645574517560966%5D%2C%20%5B-118.4965508613479%2C%2051.34680354451751%5D%5D%5D%2C%20%22type%22%3A%20%22Polygon%22%7D%2C%20%22id%22%3A%20%224%22%2C%20%22properties%22%3A%20%7B%22collection%22%3A%20%22landsat-c2l2-sr%22%2C%20%22datetime%22%3A%20%222015-06-25%22%2C%20%22eo%3Abands%22%3A%20%5B%7B%22center_wavelength%22%3A%200.44%2C%20%22common_name%22%3A%20%22coastal%22%2C%20%22gsd%22%3A%2030%2C%20%22name%22%3A%20%22SR_B1%22%7D%2C%20%7B%22center_wavelength%22%3A%200.48%2C%20%22common_name%22%3A%20%22blue%22%2C%20%22gsd%22%3A%2030%2C%20%22name%22%3A%20%22SR_B2%22%7D%2C%20%7B%22center_wavelength%22%3A%200.56%2C%20%22common_name%22%3A%20%22green%22%2C%20%22gsd%22%3A%2030%2C%20%22name%22%3A%20%22SR_B3%22%7D%2C%20%7B%22center_wavelength%22%3A%200.65%2C%20%22common_name%22%3A%20%22red%22%2C%20%22gsd%22%3A%2030%2C%20%22name%22%3A%20%22SR_B4%22%7D%2C%20%7B%22center_wavelength%22%3A%200.86%2C%20%22common_name%22%3A%20%22nir08%22%2C%20%22gsd%22%3A%2030%2C%20%22name%22%3A%20%22SR_B5%22%7D%2C%20%7B%22center_wavelength%22%3A%201.6%2C%20%22common_name%22%3A%20%22swir16%22%2C%20%22gsd%22%3A%2030%2C%20%22name%22%3A%20%22SR_B6%22%7D%2C%20%7B%22center_wavelength%22%3A%202.2%2C%20%22common_name%22%3A%20%22swir22%22%2C%20%22gsd%22%3A%2030%2C%20%22name%22%3A%20%22SR_B7%22%7D%5D%2C%20%22eo%3Acloud_cover%22%3A%2015.48%2C%20%22eo%3Agsd%22%3A%2030%2C%20%22eo%3Ainstrument%22%3A%20%22OLI_TIRS%22%2C%20%22eo%3Aoff_nadir%22%3A%200%2C%20%22eo%3Aplatform%22%3A%20%22LANDSAT_8%22%2C%20%22eo%3Asun_azimuth%22%3A%20146.23101966%2C%20%22eo%3Asun_elevation%22%3A%2059.74448867%2C%20%22landsat%3Acloud_cover_land%22%3A%2015.48%2C%20%22landsat%3Acollection_category%22%3A%20%22T1%22%2C%20%22landsat%3Acollection_number%22%3A%20%2202%22%2C%20%22landsat%3Ascene_id%22%3A%20%22LC80440252015176LGN03%22%2C%20%22landsat%3Awrs_path%22%3A%20%2244%22%2C%20%22landsat%3Awrs_row%22%3A%20%2225%22%2C%20%22landsat%3Awrs_type%22%3A%20%222%22%7D%2C%20%22type%22%3A%20%22Feature%22%7D%2C%20%7B%22bbox%22%3A%20%5B-116.10371982474037%2C%2049.20510256491698%2C%20-112.85012456776072%2C%2051.34652311205045%5D%2C%20%22geometry%22%3A%20%7B%22coordinates%22%3A%20%5B%5B%5B-115.42046016154237%2C%2051.34652311205045%5D%2C%20%5B-112.85012456776072%2C%2050.89895653753466%5D%2C%20%5B-113.62053877511897%2C%2049.20510256491698%5D%2C%20%5B-116.10371982474037%2C%2049.64507128275813%5D%2C%20%5B-115.42046016154237%2C%2051.34652311205045%5D%5D%5D%2C%20%22type%22%3A%20%22Polygon%22%7D%2C%20%22id%22%3A%20%225%22%2C%20%22properties%22%3A%20%7B%22collection%22%3A%20%22landsat-c2l2-sr%22%2C%20%22datetime%22%3A%20%222015-06-11%22%2C%20%22eo%3Abands%22%3A%20%5B%7B%22center_wavelength%22%3A%200.44%2C%20%22common_name%22%3A%20%22coastal%22%2C%20%22gsd%22%3A%2030%2C%20%22name%22%3A%20%22SR_B1%22%7D%2C%20%7B%22center_wavelength%22%3A%200.48%2C%20%22common_name%22%3A%20%22blue%22%2C%20%22gsd%22%3A%2030%2C%20%22name%22%3A%20%22SR_B2%22%7D%2C%20%7B%22center_wavelength%22%3A%200.56%2C%20%22common_name%22%3A%20%22green%22%2C%20%22gsd%22%3A%2030%2C%20%22name%22%3A%20%22SR_B3%22%7D%2C%20%7B%22center_wavelength%22%3A%200.65%2C%20%22common_name%22%3A%20%22red%22%2C%20%22gsd%22%3A%2030%2C%20%22name%22%3A%20%22SR_B4%22%7D%2C%20%7B%22center_wavelength%22%3A%200.86%2C%20%22common_name%22%3A%20%22nir08%22%2C%20%22gsd%22%3A%2030%2C%20%22name%22%3A%20%22SR_B5%22%7D%2C%20%7B%22center_wavelength%22%3A%201.6%2C%20%22common_name%22%3A%20%22swir16%22%2C%20%22gsd%22%3A%2030%2C%20%22name%22%3A%20%22SR_B6%22%7D%2C%20%7B%22center_wavelength%22%3A%202.2%2C%20%22common_name%22%3A%20%22swir22%22%2C%20%22gsd%22%3A%2030%2C%20%22name%22%3A%20%22SR_B7%22%7D%5D%2C%20%22eo%3Acloud_cover%22%3A%204.52%2C%20%22eo%3Agsd%22%3A%2030%2C%20%22eo%3Ainstrument%22%3A%20%22OLI_TIRS%22%2C%20%22eo%3Aoff_nadir%22%3A%200%2C%20%22eo%3Aplatform%22%3A%20%22LANDSAT_8%22%2C%20%22eo%3Asun_azimuth%22%3A%20147.66248964%2C%20%22eo%3Asun_elevation%22%3A%2059.73623013%2C%20%22landsat%3Acloud_cover_land%22%3A%204.52%2C%20%22landsat%3Acollection_category%22%3A%20%22T1%22%2C%20%22landsat%3Acollection_number%22%3A%20%2202%22%2C%20%22landsat%3Ascene_id%22%3A%20%22LC80420252015162LGN01%22%2C%20%22landsat%3Awrs_path%22%3A%20%2242%22%2C%20%22landsat%3Awrs_row%22%3A%20%2225%22%2C%20%22landsat%3Awrs_type%22%3A%20%222%22%7D%2C%20%22type%22%3A%20%22Feature%22%7D%2C%20%7B%22bbox%22%3A%20%5B-119.19385911141124%2C%2049.204817646377336%2C%20-115.94332956384415%2C%2051.346626673212484%5D%2C%20%22geometry%22%3A%20%7B%22coordinates%22%3A%20%5B%5B%5B-118.51033023523594%2C%2051.346626673212484%5D%2C%20%5B-115.94332956384415%2C%2050.899717962455995%5D%2C%20%5B-116.71095011267434%2C%2049.204817646377336%5D%2C%20%5B-119.19385911141124%2C%2049.645292101466744%5D%2C%20%5B-118.51033023523594%2C%2051.346626673212484%5D%5D%5D%2C%20%22type%22%3A%20%22Polygon%22%7D%2C%20%22id%22%3A%20%226%22%2C%20%22properties%22%3A%20%7B%22collection%22%3A%20%22landsat-c2l2-sr%22%2C%20%22datetime%22%3A%20%222015-06-09%22%2C%20%22eo%3Abands%22%3A%20%5B%7B%22center_wavelength%22%3A%200.44%2C%20%22common_name%22%3A%20%22coastal%22%2C%20%22gsd%22%3A%2030%2C%20%22name%22%3A%20%22SR_B1%22%7D%2C%20%7B%22center_wavelength%22%3A%200.48%2C%20%22common_name%22%3A%20%22blue%22%2C%20%22gsd%22%3A%2030%2C%20%22name%22%3A%20%22SR_B2%22%7D%2C%20%7B%22center_wavelength%22%3A%200.56%2C%20%22common_name%22%3A%20%22green%22%2C%20%22gsd%22%3A%2030%2C%20%22name%22%3A%20%22SR_B3%22%7D%2C%20%7B%22center_wavelength%22%3A%200.65%2C%20%22common_name%22%3A%20%22red%22%2C%20%22gsd%22%3A%2030%2C%20%22name%22%3A%20%22SR_B4%22%7D%2C%20%7B%22center_wavelength%22%3A%200.86%2C%20%22common_name%22%3A%20%22nir08%22%2C%20%22gsd%22%3A%2030%2C%20%22name%22%3A%20%22SR_B5%22%7D%2C%20%7B%22center_wavelength%22%3A%201.6%2C%20%22common_name%22%3A%20%22swir16%22%2C%20%22gsd%22%3A%2030%2C%20%22name%22%3A%20%22SR_B6%22%7D%2C%20%7B%22center_wavelength%22%3A%202.2%2C%20%22common_name%22%3A%20%22swir22%22%2C%20%22gsd%22%3A%2030%2C%20%22name%22%3A%20%22SR_B7%22%7D%5D%2C%20%22eo%3Acloud_cover%22%3A%2014.72%2C%20%22eo%3Agsd%22%3A%2030%2C%20%22eo%3Ainstrument%22%3A%20%22OLI_TIRS%22%2C%20%22eo%3Aoff_nadir%22%3A%200%2C%20%22eo%3Aplatform%22%3A%20%22LANDSAT_8%22%2C%20%22eo%3Asun_azimuth%22%3A%20147.93216475%2C%20%22eo%3Asun_elevation%22%3A%2059.63018652%2C%20%22landsat%3Acloud_cover_land%22%3A%2014.72%2C%20%22landsat%3Acollection_category%22%3A%20%22T1%22%2C%20%22landsat%3Acollection_number%22%3A%20%2202%22%2C%20%22landsat%3Ascene_id%22%3A%20%22LC80440252015160LGN03%22%2C%20%22landsat%3Awrs_path%22%3A%20%2244%22%2C%20%22landsat%3Awrs_row%22%3A%20%2225%22%2C%20%22landsat%3Awrs_type%22%3A%20%222%22%7D%2C%20%22type%22%3A%20%22Feature%22%7D%5D%2C%20%22type%22%3A%20%22FeatureCollection%22%7D%29%3B%0A%0A%20%20%20%20%20%20%20%20%0A%20%20%20%20%0A%20%20%20%20%20%20%20%20function%20geo_json_361db32edca74c3daa2020163f561caf_styler%28feature%29%20%7B%0A%20%20%20%20%20%20%20%20%20%20%20%20switch%28feature.id%29%20%7B%0A%20%20%20%20%20%20%20%20%20%20%20%20%20%20%20%20default%3A%0A%20%20%20%20%20%20%20%20%20%20%20%20%20%20%20%20%20%20%20%20return%20%7B%22color%22%3A%20%22%23ff0000%22%2C%20%22fillColor%22%3A%20%22%23ff0000%22%7D%3B%0A%20%20%20%20%20%20%20%20%20%20%20%20%7D%0A%20%20%20%20%20%20%20%20%7D%0A%0A%20%20%20%20%20%20%20%20function%20geo_json_361db32edca74c3daa2020163f561caf_onEachFeature%28feature%2C%20layer%29%20%7B%0A%20%20%20%20%20%20%20%20%20%20%20%20layer.on%28%7B%0A%20%20%20%20%20%20%20%20%20%20%20%20%7D%29%3B%0A%20%20%20%20%20%20%20%20%7D%3B%0A%20%20%20%20%20%20%20%20var%20geo_json_361db32edca74c3daa2020163f561caf%20%3D%20L.geoJson%28null%2C%20%7B%0A%20%20%20%20%20%20%20%20%20%20%20%20%20%20%20%20onEachFeature%3A%20geo_json_361db32edca74c3daa2020163f561caf_onEachFeature%2C%0A%20%20%20%20%20%20%20%20%20%20%20%20%0A%20%20%20%20%20%20%20%20%20%20%20%20%20%20%20%20style%3A%20geo_json_361db32edca74c3daa2020163f561caf_styler%2C%0A%20%20%20%20%20%20%20%20%7D%29%3B%0A%0A%20%20%20%20%20%20%20%20function%20geo_json_361db32edca74c3daa2020163f561caf_add%20%28data%29%20%7B%0A%20%20%20%20%20%20%20%20%20%20%20%20geo_json_361db32edca74c3daa2020163f561caf%0A%20%20%20%20%20%20%20%20%20%20%20%20%20%20%20%20.addData%28data%29%0A%20%20%20%20%20%20%20%20%20%20%20%20%20%20%20%20.addTo%28map_ea1d90f2dc71408182ac1109ede8ff75%29%3B%0A%20%20%20%20%20%20%20%20%7D%0A%20%20%20%20%20%20%20%20%20%20%20%20geo_json_361db32edca74c3daa2020163f561caf_add%28%7B%22features%22%3A%20%5B%7B%22geometry%22%3A%20%7B%22coordinates%22%3A%20%5B%5B%5B-115.5%2C%2050.5%5D%2C%20%5B-115.5%2C%2051.5%5D%2C%20%5B-116.5%2C%2051.5%5D%2C%20%5B-116.5%2C%2050.5%5D%2C%20%5B-115.5%2C%2050.5%5D%5D%5D%2C%20%22type%22%3A%20%22Polygon%22%7D%2C%20%22id%22%3A%20%220%22%2C%20%22type%22%3A%20%22Feature%22%7D%5D%2C%20%22type%22%3A%20%22FeatureCollection%22%7D%29%3B%0A%0A%20%20%20%20%20%20%20%20%0A%3C/script%3E onload=\"this.contentDocument.open();this.contentDocument.write(    decodeURIComponent(this.getAttribute('data-html')));this.contentDocument.close();\" allowfullscreen webkitallowfullscreen mozallowfullscreen></iframe></div></div>"
      ],
      "text/plain": [
       "<folium.folium.Map at 0x7f47fed8de10>"
      ]
     },
     "execution_count": 10,
     "metadata": {},
     "output_type": "execute_result"
    }
   ],
   "source": [
    "#sc_bbox = scenes_poly.total_bounds #scene boundaries is not as useful as the original bbox to query\n",
    "# TODO: loop over years to check that the bbox is covered, n < 8 in 1 year testing has less than full coverage.\n",
    "sc_bbox = bbox_list[1]\n",
    "sc_bbox_polygon = shp.geometry.box(sc_bbox[0], sc_bbox[1], sc_bbox[2], sc_bbox[3])\n",
    "center = sc_bbox_polygon.centroid\n",
    "\n",
    "m = folium.Map(\n",
    "    location=[center.y,center.x],\n",
    "    tiles=\"cartodbpositron\",\n",
    "    zoom_start=6,\n",
    ")\n",
    "\n",
    "bbox_style = {'fillColor': '#ff0000', 'color': '#ff0000'}\n",
    "\n",
    "folium.GeoJson(scenes_poly, name=\"geojson\").add_to(m)\n",
    "folium.GeoJson(sc_bbox_polygon,\n",
    "               name=\"bbox\",\n",
    "               style_function=lambda x:bbox_style).add_to(m)\n",
    "\n",
    "m"
   ]
  },
  {
   "cell_type": "markdown",
   "metadata": {},
   "source": [
    "## Accessing Data\n",
    "\n",
    "Now that we've queried for which landsat scenes to use in a given analysis tile, we need to setup AWS authentication and iterate over the assets, subsetting based on the tile (bbox). An AWS IAM account access key and secret are required so the bill goes to the right place for any requester pays costs."
   ]
  },
  {
   "cell_type": "code",
   "execution_count": 5,
   "metadata": {},
   "outputs": [
    {
     "name": "stdout",
     "output_type": "stream",
     "text": [
      "\u001b[33mWARNING: You are using pip version 21.0; however, version 21.0.1 is available.\n",
      "You should consider upgrading via the '/opt/conda/bin/python -m pip install --upgrade pip' command.\u001b[0m\n",
      "Note: you may need to restart the kernel to use updated packages.\n",
      "\u001b[33mWARNING: You are using pip version 21.0; however, version 21.0.1 is available.\n",
      "You should consider upgrading via the '/opt/conda/bin/python -m pip install --upgrade pip' command.\u001b[0m\n",
      "Note: you may need to restart the kernel to use updated packages.\n",
      "\u001b[33mWARNING: You are using pip version 21.0; however, version 21.0.1 is available.\n",
      "You should consider upgrading via the '/opt/conda/bin/python -m pip install --upgrade pip' command.\u001b[0m\n",
      "Note: you may need to restart the kernel to use updated packages.\n",
      "\u001b[33mWARNING: You are using pip version 21.0; however, version 21.0.1 is available.\n",
      "You should consider upgrading via the '/opt/conda/bin/python -m pip install --upgrade pip' command.\u001b[0m\n",
      "Note: you may need to restart the kernel to use updated packages.\n",
      "env: CURL_CA_BUNDLE=/etc/ssl/certs/ca-certificates.crt\n"
     ]
    }
   ],
   "source": [
    "# Skip if you already have everything installed\n",
    "%pip install -q python-dotenv\n",
    "%pip install -q boto3\n",
    "%pip install -q rasterio\n",
    "%pip install -q pyproj\n",
    "# TODO add the CURL ssl path to the .env file\n",
    "%env CURL_CA_BUNDLE=/etc/ssl/certs/ca-certificates.crt"
   ]
  },
  {
   "cell_type": "code",
   "execution_count": 41,
   "metadata": {},
   "outputs": [
    {
     "data": {
      "text/plain": [
       "True"
      ]
     },
     "execution_count": 41,
     "metadata": {},
     "output_type": "execute_result"
    }
   ],
   "source": [
    "# load env variables from a .env file\n",
    "import os\n",
    "import rasterio as rio\n",
    "from rasterio.session import AWSSession \n",
    "import numpy as np\n",
    "import pyproj\n",
    "import boto3\n",
    "from matplotlib.pyplot import imshow\n",
    "from dotenv import load_dotenv\n",
    "load_dotenv()"
   ]
  },
  {
   "cell_type": "code",
   "execution_count": null,
   "metadata": {},
   "outputs": [],
   "source": [
    "# One option is to read this from the env, should work in ADE\n",
    "# TODO: how do you pass secrets to DPS jobs?\n",
    "\n",
    "aws_access_key_id=os.getenv('aws_access_key_id')\n",
    "aws_secret_access_key=os.getenv('aws_secret_access_key')\n",
    "if aws_access_key_id is None:\n",
    "    aws_access_key_id = input(\"AWS Access Key Id\")\n",
    "if aws_secret_access_key is None:\n",
    "    aws_secret_access_key = input(\"AWS Secret Access Key\")\n"
   ]
  },
  {
   "cell_type": "code",
   "execution_count": 42,
   "metadata": {},
   "outputs": [],
   "source": [
    "# Processing imagery (band math)\n",
    "# is this done on the fly? No\n",
    "\n",
    "\n",
    "# Authenticate to aws to access a requester pays bucket\n",
    "aws_session = AWSSession(boto3.Session(aws_access_key_id=aws_access_key_id,\n",
    "                                      aws_secret_access_key=aws_secret_access_key),\n",
    "                        requester_pays=True)"
   ]
  },
  {
   "cell_type": "code",
   "execution_count": null,
   "metadata": {},
   "outputs": [],
   "source": [
    "# Verify what credential are being used and that requester pays is set if needed\n",
    "aws_session.credentials"
   ]
  },
  {
   "cell_type": "markdown",
   "metadata": {},
   "source": [
    "### Verify that S3 access works"
   ]
  },
  {
   "cell_type": "code",
   "execution_count": 16,
   "metadata": {},
   "outputs": [
    {
     "name": "stdout",
     "output_type": "stream",
     "text": [
      "s3://usgs-landsat/collection02/level-2/standard/oli-tirs/2015/032/028/LC08_L2SP_032028_20150824_20200908_02_T1/LC08_L2SP_032028_20150824_20200908_02_T1_SR_B3.TIF\n"
     ]
    }
   ],
   "source": [
    "# The returned data is actually geojson, could load into a geopandas dataframe\n",
    "\n",
    "# Get the first feature, and lookup the url of Band 4 asset\n",
    "asset = response_by_year[0]['features'][1]['assets']['SR_B3.TIF']['href']\n",
    "\n",
    "# Convert to S3 url for use with requester pays\n",
    "cog = asset.replace('https://landsatlook.usgs.gov/data/', 's3://usgs-landsat/')\n",
    "print(cog)"
   ]
  },
  {
   "cell_type": "code",
   "execution_count": 18,
   "metadata": {},
   "outputs": [
    {
     "name": "stdout",
     "output_type": "stream",
     "text": [
      "{'driver': 'GTiff', 'dtype': 'uint16', 'nodata': 0.0, 'width': 7921, 'height': 8031, 'count': 1, 'crs': CRS.from_epsg(32614), 'transform': Affine(30.0, 0.0, 248385.0,\n",
      "       0.0, -30.0, 5218815.0), 'blockxsize': 256, 'blockysize': 256, 'tiled': True, 'compress': 'deflate', 'interleave': 'band'}\n"
     ]
    },
    {
     "data": {
      "text/plain": [
       "<matplotlib.image.AxesImage at 0x7efb34e64e10>"
      ]
     },
     "execution_count": 18,
     "metadata": {},
     "output_type": "execute_result"
    },
    {
     "data": {
      "image/png": "[encoded data removed]",
      "text/plain": [
       "<Figure size 432x288 with 1 Axes>"
      ]
     },
     "metadata": {
      "needs_background": "light"
     },
     "output_type": "display_data"
    }
   ],
   "source": [
    "# Basic access example\n",
    "with rio.Env(aws_session):\n",
    "    with rio.open(cog) as src:\n",
    "        profile = src.profile\n",
    "        arr = src.read(1)\n",
    "        print(profile)\n",
    "\n",
    "#plot the raster\n",
    "imshow(arr)"
   ]
  },
  {
   "cell_type": "markdown",
   "metadata": {},
   "source": [
    "### Cache the results\n",
    "\n",
    "1. Cache the json from the query (save as files)\n",
    "1. Loop over a few of them, and download the source\n",
    "1. Write a new copy of the json with internal ADE urls to the same files"
   ]
  },
  {
   "cell_type": "code",
   "execution_count": 58,
   "metadata": {},
   "outputs": [],
   "source": [
    "import boto3\n",
    "import botocore\n",
    "\n",
    "aws_session2 = boto3.session.Session(\n",
    "    aws_access_key_id=aws_access_key_id,\n",
    "    aws_secret_access_key=aws_secret_access_key,\n",
    ")\n",
    "s3 = aws_session2.resource('s3')"
   ]
  },
  {
   "cell_type": "code",
   "execution_count": 74,
   "metadata": {},
   "outputs": [],
   "source": [
    "# read the json file catalog\n",
    "def write_local_catalog(catalog, bands):\n",
    "    '''Given path to a response json from a sat-api query, make a copy changing urls to local paths'''\n",
    "    with open(catalog) as f:\n",
    "        asset_catalog = json.load(f)\n",
    "        for feature in asset_catalog['features']:\n",
    "            new_dir = os.path.join(save_path, feature['id'])\n",
    "            if (not os.path.isdir(new_dir)): os.mkdir(new_dir)\n",
    "            #download the assests\n",
    "            for band in bands:\n",
    "                try:\n",
    "                    key = feature['assets'][f'SR_{band}.TIF']['href'].replace('https://landsatlook.usgs.gov/data/', '')\n",
    "                    output_file = os.path.join(new_dir, os.path.basename(key))\n",
    "                    #print(key)\n",
    "                    s3.Bucket('usgs-landsat').download_file(key, output_file, ExtraArgs={'RequestPayer':'requester'})\n",
    "                    feature['assets'][f'SR_{band}.TIF']['href'] = output_file\n",
    "                except botocore.exceptions.ClientError as e:\n",
    "                    if e.response['Error']['Code'] == \"404\":\n",
    "                        print(\"The object does not exist.\")\n",
    "                    else:\n",
    "                        raise\n",
    "        # save and updated catalog with local paths\n",
    "        local_catalog = catalog.replace('response', 'local')\n",
    "        with open(local_catalog,'w') as jsonfile:\n",
    "            json.dump(asset_catalog, jsonfile)\n",
    "        \n",
    "        return local_catalog"
   ]
  },
  {
   "cell_type": "code",
   "execution_count": null,
   "metadata": {},
   "outputs": [],
   "source": [
    "bands = [''.join([\"B\",str(item)])for item in range(2,7,1)]\n",
    "local_catalogs = [write_local_catalog(catalog, bands) for catalog in ]"
   ]
  },
  {
   "cell_type": "markdown",
   "metadata": {},
   "source": [
    "### Get Stacks of Data\n",
    "\n",
    "For each scene, request a subset fitting the tile bbox and stack all the required bands.\n",
    "Alternately one could just save each file as is - but long term this is not the cloud optimized method."
   ]
  },
  {
   "cell_type": "code",
   "execution_count": 1,
   "metadata": {},
   "outputs": [],
   "source": [
    "def reproject_bbox(src, bbox, bbox_crs='epsg:4326'):\n",
    "    '''\n",
    "    Convert the bounding box to local coordinates of the data\n",
    "    src is the raster data handler\n",
    "    bbox, and bbox_crs supplied by user\n",
    "    returns a rasterio window object \n",
    "    '''\n",
    "    # bbox has 2 sets, row,col\n",
    "    data_crs=pyproj.Proj(src.crs)\n",
    "    bbox_crs=pyproj.Proj(init=bbox_crs)\n",
    "    lower = pyproj.transform(bbox_crs, data_crs, bbox[0], bbox[1])\n",
    "    upper = pyproj.transform(bbox_crs, data_crs, bbox[2], bbox[3])\n",
    "    \n",
    "    bottom, left = src.index(lower[0], lower[1])\n",
    "    top, right = src.index(upper[0], upper[1])\n",
    "    \n",
    "    # merge back into a window\n",
    "    # Remember gdal reads from the upper left corner\n",
    "    width = abs(top-bottom)\n",
    "    height = abs(right-left)\n",
    "    local_window = rasterio.windows.Window(left, top, width, height)\n",
    "    #print(local_window)\n",
    "    return local_window\n",
    "\n",
    "def extract_subset(cog, bbox, band):\n",
    "    '''\n",
    "    Given a path to an S3 COG geotiff, a bbox in latlon(e.g. wgs84), a band.\n",
    "    Extracts a subset of an image by reading a window. \n",
    "    When used with COGs will only read the required portion of the file.\n",
    "    BBOX format [minX, minY, maxX, maxY]\n",
    "    bbox = [11.6, -0.1, 11.7, -0.0]\n",
    "    Band is the layer in the file, a single band tif, only has 1.\n",
    "    '''\n",
    "    \n",
    "    with rio.Env(aws_session):\n",
    "        with rasterio.open(cog) as src:\n",
    "            local_window = reproject_bbox(src, bbox, bbox_crs='epsg:4326')\n",
    "            # query the subset with a window\n",
    "            # todo: modify to allow multiband data sources\n",
    "            subset = src.read(band, window=local_window)\n",
    "        \n",
    "    return subset, src.crs, src.transform"
   ]
  },
  {
   "cell_type": "code",
   "execution_count": null,
   "metadata": {
    "tags": [
     "outputPrepend"
    ]
   },
   "outputs": [],
   "source": [
    "## Retrieving Pixels\n",
    "bands = [2,3,4,5,6]\n",
    "bbox = bbox_list[1]\n",
    "# TODO: \n",
    "# Loop over each scene\n",
    "response = response_by_year[1]\n",
    "# Each season should actually be it's own DPS job\n",
    "for item in response['features']:\n",
    "    # for each scene Loop over bands 2,3,4,5,6 (assets)\n",
    "    for band in bands:\n",
    "        # For each scene, read subset set by bounding box\n",
    "        asset = item['assets'][f'SR_B{band}.TIF']['href']\n",
    "        # Convert to S3 url for use with requester pays\n",
    "        cog = asset.replace('https://landsatlook.usgs.gov/data/', 's3://usgs-landsat/')\n",
    "        print(cog) \n",
    "        # Since the source files are per band, the 1st band in a given file is default\n",
    "        # Bound Box reprojected on the fly to the native projection of the asset\n",
    "        #subset, crs, transform = extract_subset(cog, bbox, 1)\n",
    "\n",
    "    # stack the bands into the same array with n layers (z direction)?\n",
    "    # optional: calculate indexes based on the bands and store as additional layers\n",
    "    # save cog to disk (could be a kea or Zarr(xarray))\n",
    "# after looping, make a VRT of cogs so it can be treated as a single file ?\n",
    "\n",
    "# Questions, \n",
    "# 1. should the tiling scheme be LonLat 1 degree, the end Equal area projection, or utm zone based? take bbox reproject to LonLat for the query\n",
    "# 2. do we need the QA band or can we do that separate, the only limitation on cogs is that the storage type needs to be identical in all bands. Kea or Zarr could accomodate, or if the pixels are cloud filtered before saving the stack then a COG is ok."
   ]
  },
  {
   "cell_type": "markdown",
   "metadata": {},
   "source": [
    "## Greenest Pixel Selection"
   ]
  },
  {
   "cell_type": "code",
   "execution_count": 33,
   "metadata": {},
   "outputs": [
    {
     "name": "stdout",
     "output_type": "stream",
     "text": [
      "ndvi1 =  [[1.2 1.2 nan]\n",
      " [1.2 2.2 1.2]\n",
      " [1.2 1.2 1.2]]\n",
      "ndvi2 =  [[2.2 2.2 2.2]\n",
      " [2.2 1.2 2.2]\n",
      " [2.2 2.2 2.2]]\n",
      "ndvi3 =  [[2.2 1.2 3.2]\n",
      " [1.2 1.2 1.2]\n",
      " [2.2 2.2 3.2]]\n"
     ]
    }
   ],
   "source": [
    "# Test case for making greenest pixel comps with numpy arrays\n",
    "import numpy as np\n",
    "#imagine 3 ndvi layers from 3 seperate images such that\n",
    "\n",
    "ndvi1 = np.array([[1.2, 1.2, np.NaN],[1.2, 2.2, 1.2],[1.2, 1.2, 1.2]])\n",
    "\n",
    "ndvi2 = np.array([[2.2, 2.2, 2.2],[2.2, 1.2, 2.2],[2.2, 2.2, 2.2]])\n",
    "\n",
    "ndvi3 = np.array([[2.2, 1.2, 3.2],[1.2, 1.2, 1.2],[2.2, 2.2, 3.2]])\n",
    "\n",
    "print('ndvi1 = ', ndvi1)\n",
    "print('ndvi2 = ', ndvi2)\n",
    "print('ndvi3 = ', ndvi3)"
   ]
  },
  {
   "cell_type": "code",
   "execution_count": 34,
   "metadata": {},
   "outputs": [
    {
     "name": "stdout",
     "output_type": "stream",
     "text": [
      "[[5 5 5]\n",
      " [5 5 5]\n",
      " [5 5 5]]\n",
      "[[6 6 6]\n",
      " [6 6 6]\n",
      " [6 6 6]]\n",
      "[[7 7 7]\n",
      " [7 7 7]\n",
      " [7 7 7]]\n"
     ]
    }
   ],
   "source": [
    "# Now 3 'Red' bands where numbers can be anything\n",
    "#(but kept the same here for easy tracking, such that:)\n",
    "\n",
    "Red1 = np.array([[5, 5, 5],[5, 5, 5],[5, 5, 5]])\n",
    "\n",
    "Red2 = np.array([[6, 6, 6],[6, 6, 6],[6, 6, 6]])\n",
    "\n",
    "Red3 = np.array([[7, 7, 7],[7, 7, 7],[7, 7, 7]])\n",
    "\n",
    "print(Red1)\n",
    "print(Red2)\n",
    "print(Red3)\n",
    "# create array of all Green bands\n",
    "\n",
    "Stack = np.array([Red1, Red2, Red3])"
   ]
  },
  {
   "cell_type": "code",
   "execution_count": 36,
   "metadata": {},
   "outputs": [
    {
     "name": "stdout",
     "output_type": "stream",
     "text": [
      "[[1 1 2]\n",
      " [1 0 1]\n",
      " [1 1 2]]\n"
     ]
    }
   ],
   "source": [
    "# now, find the index value (position) of the max ndvi layers (based on\n",
    "# first axis: imagine drilling down through a stack/cube)\n",
    "\n",
    "max = np.nanargmax((ndvi1,ndvi2,ndvi3),axis=0,)\n",
    "print(max)"
   ]
  },
  {
   "cell_type": "code",
   "execution_count": 26,
   "metadata": {},
   "outputs": [],
   "source": [
    "# Index the Green bands in 'Stack' based on argmax index position\n",
    "RedComposite = Stack[max,max,max]"
   ]
  },
  {
   "cell_type": "code",
   "execution_count": 27,
   "metadata": {},
   "outputs": [
    {
     "name": "stdout",
     "output_type": "stream",
     "text": [
      "[[6 6 5]\n",
      " [6 5 6]\n",
      " [6 6 7]]\n"
     ]
    }
   ],
   "source": [
    "print(RedComposite)"
   ]
  }
 ],
 "metadata": {
  "kernelspec": {
   "display_name": "Python 3",
   "language": "python",
   "name": "python3"
  },
  "language_info": {
   "codemirror_mode": {
    "name": "ipython",
    "version": 3
   },
   "file_extension": ".py",
   "mimetype": "text/x-python",
   "name": "python",
   "nbconvert_exporter": "python",
   "pygments_lexer": "ipython3",
   "version": "3.7.8"
  }
 },
 "nbformat": 4,
 "nbformat_minor": 4
}
