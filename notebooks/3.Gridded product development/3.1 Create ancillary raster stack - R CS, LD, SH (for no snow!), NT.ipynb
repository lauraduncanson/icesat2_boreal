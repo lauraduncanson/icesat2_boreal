{
 "cells": [
  {
   "cell_type": "markdown",
   "metadata": {},
   "source": [
    "# Create covariate stacks"
   ]
  },
  {
   "cell_type": "markdown",
   "metadata": {},
   "source": [
    "### Covariates will be derived by reducing satellite imagery to useful modelling layers\n",
    "#### Covariates can include: Landsat 8, NASADEM, Sentinel-2, Sentinel-1\n",
    "\n",
    "### Inputs:\n",
    "#### bbox_img_tile: An image tile extent will provide the bbox that accesses cloud-optimized GeoTiffs\n",
    "#### filters: search for imagery based on days-of-year, cloudcover, year range\n",
    "##### Note: Image tile extent will be dictated by data volume of covars & CPU RAM"
   ]
  },
  {
   "cell_type": "code",
   "execution_count": 7,
   "metadata": {},
   "outputs": [],
   "source": [
    "# Search for imagery\n",
    "# https://github.com/developmentseed/example-jupyter-notebooks/blob/landsat-search/notebooks/Landsat8-Search/L8-USGS-satapi.ipynb\n",
    "import os\n",
    "import json\n",
    "import requests\n",
    "import datetime\n",
    "\n",
    "sat_api_url = \"https://landsatlook.usgs.gov/sat-api\"\n",
    "\n",
    "def query_satapi(query):\n",
    "    headers = {\n",
    "            \"Content-Type\": \"application/json\",\n",
    "            \"Accept-Encoding\": \"gzip\",\n",
    "            \"Accept\": \"application/geo+json\",\n",
    "        }\n",
    "\n",
    "    url = f\"{sat_api_url}/stac/search\"\n",
    "    data = requests.post(url, headers=headers, json=query).json()\n",
    "    \n",
    "    return data\n",
    "\n",
    "def query_year(year, bbox, min_cloud, max_cloud):\n",
    "    '''Given the year, finds the number of scenes matching the query and returns it.'''\n",
    "    date_min = '-'.join([str(year), \"06-01\"])\n",
    "    date_max = '-'.join([str(year), \"09-15\"])\n",
    "    start_date = datetime.datetime.strptime(date_min, \"%Y-%m-%d\")\n",
    "    end_date = datetime.datetime.strptime(date_max, \"%Y-%m-%d\") \n",
    "    start = start_date.strftime(\"%Y-%m-%dT00:00:00Z\")\n",
    "    end = end_date.strftime(\"%Y-%m-%dT23:59:59Z\")\n",
    "    \n",
    "    query = {\n",
    "    \"time\": f\"{start}/{end}\",\n",
    "    \"query\": {\n",
    "        \"bbox\":bbox,\n",
    "        \"eo:cloud_cover\": {\"gte\": min_cloud, \"lt\": max_cloud},\n",
    "        \"collection\":{\"eq\": \"landsat-c2l2-sr\"}\n",
    "        },\n",
    "    \"limit\": 500 # We limit to 500 items per Page (requests) to make sure sat-api doesn't fail to return big features collection\n",
    "    }\n",
    "    \n",
    "    data = query_satapi(query)\n",
    "    scenes = data['meta']['found']\n",
    "    \n",
    "    return scenes"
   ]
  },
  {
   "cell_type": "code",
   "execution_count": 11,
   "metadata": {},
   "outputs": [
    {
     "name": "stdout",
     "output_type": "stream",
     "text": [
      "[46585, 45151, 47858, 47872, 48947, 50710]\n",
      "[46585, 45151, 47858, 47872, 48947, 50710]\n"
     ]
    }
   ],
   "source": [
    "# Accessing imagery\n",
    "# Select an area of interest\n",
    "bbox_list = [[-105,45,-100,50], [-101,45,-100,46]]\n",
    "min_cloud = 0\n",
    "max_cloud = 20\n",
    "for bbox in bbox_list:\n",
    "    # Geojson of total scenes - Change to list of scenes\n",
    "    scene_totals = [query_year(year, bbox, min_cloud, max_cloud ) for year in range(2015,2020 + 1)]\n",
    "    print(scene_totals)"
   ]
  },
  {
   "cell_type": "code",
   "execution_count": null,
   "metadata": {},
   "outputs": [],
   "source": [
    "# Processing imagery (band math)\n",
    "# is this done on the fly?"
   ]
  },
  {
   "cell_type": "code",
   "execution_count": null,
   "metadata": {},
   "outputs": [],
   "source": [
    "# Adding processed imagery to a covariate stack"
   ]
  },
  {
   "cell_type": "code",
   "execution_count": 6,
   "metadata": {},
   "outputs": [
    {
     "name": "stdout",
     "output_type": "stream",
     "text": [
      "ndvi1 =  [[1.2 1.2 1.2]\n",
      " [1.2 2.2 1.2]\n",
      " [1.2 1.2 1.2]]\n",
      "ndvi1 =  [[2.2 2.2 2.2]\n",
      " [2.2 1.2 2.2]\n",
      " [2.2 2.2 2.2]]\n",
      "ndvi1 =  [[2.2 1.2 3.2]\n",
      " [1.2 1.2 1.2]\n",
      " [2.2 2.2 3.2]]\n"
     ]
    }
   ],
   "source": [
    "# Test case for making greenest pixel comps with numpy arrays\n",
    "import numpy as np\n",
    "#imagine 3 ndvi layers from 3 seperate images such that\n",
    "\n",
    "ndvi1 = np.array([[1.2, 1.2, 1.2],[1.2, 2.2, 1.2],[1.2, 1.2, 1.2]])\n",
    "\n",
    "ndvi2 = np.array([[2.2, 2.2, 2.2],[2.2, 1.2, 2.2],[2.2, 2.2, 2.2]])\n",
    "\n",
    "ndvi3 = np.array([[2.2, 1.2, 3.2],[1.2, 1.2, 1.2],[2.2, 2.2, 3.2]])\n",
    "\n",
    "print('ndvi1 = ', ndvi1)\n",
    "print('ndvi2 = ', ndvi2)\n",
    "print('ndvi3 = ', ndvi3)"
   ]
  },
  {
   "cell_type": "code",
   "execution_count": 2,
   "metadata": {},
   "outputs": [
    {
     "name": "stdout",
     "output_type": "stream",
     "text": [
      "[[5 5 5]\n",
      " [5 5 5]\n",
      " [5 5 5]]\n",
      "[[6 6 6]\n",
      " [6 6 6]\n",
      " [6 6 6]]\n",
      "[[7 7 7]\n",
      " [7 7 7]\n",
      " [7 7 7]]\n"
     ]
    }
   ],
   "source": [
    "# Now 3 'Red' bands where numbers can be anything\n",
    "#(but kept the same here for easy tracking, such that:)\n",
    "\n",
    "Red1 = np.array([[5, 5, 5],[5, 5, 5],[5, 5, 5]])\n",
    "\n",
    "Red2 = np.array([[6, 6, 6],[6, 6, 6],[6, 6, 6]])\n",
    "\n",
    "Red3 = np.array([[7, 7, 7],[7, 7, 7],[7, 7, 7]])\n",
    "\n",
    "print(Red1)\n",
    "print(Red2)\n",
    "print(Red3)\n",
    "# create array of all Green bands\n",
    "\n",
    "Stack = np.array([Red1, Red2, Red3])"
   ]
  },
  {
   "cell_type": "code",
   "execution_count": 3,
   "metadata": {},
   "outputs": [
    {
     "name": "stdout",
     "output_type": "stream",
     "text": [
      "[[1 1 2]\n",
      " [1 0 1]\n",
      " [1 1 2]]\n"
     ]
    }
   ],
   "source": [
    "# now, find the index value (position) of the max ndvi layers (based on\n",
    "# first axis: imagine drilling down through a stack/cube)\n",
    "\n",
    "max = np.argmax((ndvi1,ndvi2,ndvi3),axis=0)\n",
    "print(max)"
   ]
  },
  {
   "cell_type": "code",
   "execution_count": 4,
   "metadata": {},
   "outputs": [],
   "source": [
    "# Index the Green bands in 'Stack' based on argmax index position\n",
    "RedComposite = Stack[max,max,max]"
   ]
  },
  {
   "cell_type": "code",
   "execution_count": 5,
   "metadata": {},
   "outputs": [
    {
     "name": "stdout",
     "output_type": "stream",
     "text": [
      "[[6 6 7]\n",
      " [6 5 6]\n",
      " [6 6 7]]\n"
     ]
    }
   ],
   "source": [
    "print(RedComposite)"
   ]
  },
  {
   "cell_type": "code",
   "execution_count": null,
   "metadata": {},
   "outputs": [],
   "source": []
  }
 ],
 "metadata": {
  "kernelspec": {
   "display_name": "Python 3",
   "language": "python",
   "name": "python3"
  },
  "language_info": {
   "codemirror_mode": {
    "name": "ipython",
    "version": 3
   },
   "file_extension": ".py",
   "mimetype": "text/x-python",
   "name": "python",
   "nbconvert_exporter": "python",
   "pygments_lexer": "ipython3",
   "version": "3.7.6"
  }
 },
 "nbformat": 4,
 "nbformat_minor": 4
}
