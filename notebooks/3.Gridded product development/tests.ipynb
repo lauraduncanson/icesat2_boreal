{
 "cells": [
  {
   "cell_type": "code",
   "execution_count": 1,
   "metadata": {},
   "outputs": [],
   "source": [
    "import geopandas as gpd"
   ]
  },
  {
   "cell_type": "code",
   "execution_count": 2,
   "metadata": {},
   "outputs": [],
   "source": [
    "gpkg = \"/projects/maap-users/alexdevseed/boreal_tiles.gpkg\""
   ]
  },
  {
   "cell_type": "code",
   "execution_count": 5,
   "metadata": {},
   "outputs": [
    {
     "name": "stderr",
     "output_type": "stream",
     "text": [
      "/opt/conda/lib/python3.7/site-packages/geopandas/geodataframe.py:577: RuntimeWarning: Sequential read of iterator was interrupted. Resetting iterator. This can negatively impact the performance.\n",
      "  for feature in features_lst:\n"
     ]
    }
   ],
   "source": [
    "layer1 = gpd.read_file(gpkg, layer = \"boreal_tiles_albers\")"
   ]
  },
  {
   "cell_type": "code",
   "execution_count": 9,
   "metadata": {},
   "outputs": [
    {
     "name": "stderr",
     "output_type": "stream",
     "text": [
      "/opt/conda/lib/python3.7/site-packages/pyproj/crs/crs.py:543: UserWarning: You will likely lose important projection information when converting to a PROJ string from another format. See: https://proj.org/faq.html#what-is-the-best-format-for-describing-coordinate-reference-systems\n",
      "  proj_string = self.to_proj4()\n"
     ]
    },
    {
     "data": {
      "text/plain": [
       "{'proj': 'aea',\n",
       " 'lat_0': 40,\n",
       " 'lon_0': 180,\n",
       " 'lat_1': 50,\n",
       " 'lat_2': 70,\n",
       " 'x_0': 0,\n",
       " 'y_0': 0,\n",
       " 'datum': 'NAD83',\n",
       " 'units': 'm',\n",
       " 'no_defs': None,\n",
       " 'type': 'crs'}"
      ]
     },
     "execution_count": 9,
     "metadata": {},
     "output_type": "execute_result"
    }
   ],
   "source": [
    "layer1.crs.to_dict()"
   ]
  },
  {
   "cell_type": "code",
   "execution_count": 10,
   "metadata": {},
   "outputs": [],
   "source": [
    "import os"
   ]
  },
  {
   "cell_type": "code",
   "execution_count": 13,
   "metadata": {},
   "outputs": [
    {
     "data": {
      "text/plain": [
       "'boreal_tiles'"
      ]
     },
     "execution_count": 13,
     "metadata": {},
     "output_type": "execute_result"
    }
   ],
   "source": [
    "os.path.splitext(os.path.basename(gpkg))[0]"
   ]
  },
  {
   "cell_type": "code",
   "execution_count": 18,
   "metadata": {},
   "outputs": [
    {
     "data": {
      "text/html": [
       "<div>\n",
       "<style scoped>\n",
       "    .dataframe tbody tr th:only-of-type {\n",
       "        vertical-align: middle;\n",
       "    }\n",
       "\n",
       "    .dataframe tbody tr th {\n",
       "        vertical-align: top;\n",
       "    }\n",
       "\n",
       "    .dataframe thead th {\n",
       "        text-align: right;\n",
       "    }\n",
       "</style>\n",
       "<table border=\"1\" class=\"dataframe\">\n",
       "  <thead>\n",
       "    <tr style=\"text-align: right;\">\n",
       "      <th></th>\n",
       "      <th>layer</th>\n",
       "      <th>geometry</th>\n",
       "    </tr>\n",
       "  </thead>\n",
       "  <tbody>\n",
       "    <tr>\n",
       "      <th>0</th>\n",
       "      <td>1.0</td>\n",
       "      <td>POLYGON ((5.47190 56.37314, 5.04985 56.51011, ...</td>\n",
       "    </tr>\n",
       "    <tr>\n",
       "      <th>1</th>\n",
       "      <td>2.0</td>\n",
       "      <td>POLYGON ((5.04985 56.51011, 4.62462 56.64562, ...</td>\n",
       "    </tr>\n",
       "    <tr>\n",
       "      <th>2</th>\n",
       "      <td>3.0</td>\n",
       "      <td>POLYGON ((4.62462 56.64562, 4.19620 56.77964, ...</td>\n",
       "    </tr>\n",
       "    <tr>\n",
       "      <th>3</th>\n",
       "      <td>4.0</td>\n",
       "      <td>POLYGON ((4.19620 56.77964, 3.76460 56.91216, ...</td>\n",
       "    </tr>\n",
       "    <tr>\n",
       "      <th>4</th>\n",
       "      <td>5.0</td>\n",
       "      <td>POLYGON ((3.76460 56.91216, 3.32981 57.04317, ...</td>\n",
       "    </tr>\n",
       "  </tbody>\n",
       "</table>\n",
       "</div>"
      ],
      "text/plain": [
       "   layer                                           geometry\n",
       "0    1.0  POLYGON ((5.47190 56.37314, 5.04985 56.51011, ...\n",
       "1    2.0  POLYGON ((5.04985 56.51011, 4.62462 56.64562, ...\n",
       "2    3.0  POLYGON ((4.62462 56.64562, 4.19620 56.77964, ...\n",
       "3    4.0  POLYGON ((4.19620 56.77964, 3.76460 56.91216, ...\n",
       "4    5.0  POLYGON ((3.76460 56.91216, 3.32981 57.04317, ..."
      ]
     },
     "execution_count": 18,
     "metadata": {},
     "output_type": "execute_result"
    }
   ],
   "source": [
    "layer1.to_crs(4326).head()"
   ]
  },
  {
   "cell_type": "code",
   "execution_count": 10,
   "metadata": {},
   "outputs": [
    {
     "data": {
      "text/plain": [
       "1    POLYGON ((5.05155 56.50957, 5.05144 56.50948, ...\n",
       "dtype: geometry"
      ]
     },
     "execution_count": 10,
     "metadata": {},
     "output_type": "execute_result"
    }
   ],
   "source": [
    "layer1['geometry'].iloc[1:2].buffer(120).to_crs(4326)"
   ]
  },
  {
   "cell_type": "code",
   "execution_count": null,
   "metadata": {},
   "outputs": [],
   "source": [
    "test= {}\n",
    "test['a'] = layer1.iloc[1]\n",
    "test['a'].bounds"
   ]
  },
  {
   "cell_type": "code",
   "execution_count": 1,
   "metadata": {},
   "outputs": [],
   "source": [
    "# TODO make this a formal test and check the outputs\n",
    "from CovariateUtils import write_cog, get_index_tile"
   ]
  },
  {
   "cell_type": "code",
   "execution_count": 2,
   "metadata": {},
   "outputs": [
    {
     "name": "stderr",
     "output_type": "stream",
     "text": [
      "/opt/conda/lib/python3.7/site-packages/geopandas/geodataframe.py:577: RuntimeWarning: Sequential read of iterator was interrupted. Resetting iterator. This can negatively impact the performance.\n",
      "  for feature in features_lst:\n"
     ]
    }
   ],
   "source": [
    "gpkg = \"/projects/maap-users/alexdevseed/boreal_tiles.gpkg\"\n",
    "check = get_index_tile(gpkg, 30543, buffer=120, layer = \"boreal_tiles_albers\")"
   ]
  },
  {
   "cell_type": "code",
   "execution_count": 3,
   "metadata": {},
   "outputs": [
    {
     "data": {
      "text/plain": [
       "{'geom_orig':          layer                                           geometry\n",
       " 30542  30543.0  POLYGON ((3818522.000 3153304.000, 3848522.000...,\n",
       " 'geom_orig_buffered': 30542    POLYGON ((3818402.000 3153304.000, 3818402.578...\n",
       " dtype: geometry,\n",
       " 'bbox_orig': [3818522.0, 3123304.0, 3848522.0, 3153304.0],\n",
       " 'tile_crs': <Projected CRS: PROJCS[\"unknown\",GEOGCS[\"GCS_unknown\",DATUM[\"North ...>\n",
       " Name: unknown\n",
       " Axis Info [cartesian]:\n",
       " - [east]: Easting (metre)\n",
       " - [north]: Northing (metre)\n",
       " Area of Use:\n",
       " - undefined\n",
       " Coordinate Operation:\n",
       " - name: unnamed\n",
       " - method: Albers Equal Area\n",
       " Datum: North American Datum 1983\n",
       " - Ellipsoid: GRS 1980\n",
       " - Prime Meridian: Greenwich,\n",
       " 'geom_4326':          layer                                           geometry\n",
       " 30542  30543.0  POLYGON ((-116.50937 50.94613, -116.26013 50.7...,\n",
       " 'bbox_4326': [30543.0, <shapely.geometry.polygon.Polygon at 0x7f4d0d1305d0>],\n",
       " 'geom_4326_buffered': 30542    POLYGON ((-116.51037 50.94700, -116.51023 50.9...\n",
       " dtype: geometry,\n",
       " 'bbox_4326_buffered': [-116.85654266331528,\n",
       "  50.569137423828685,\n",
       "  -116.25842893875881,\n",
       "  50.94720468625677]}"
      ]
     },
     "execution_count": 3,
     "metadata": {},
     "output_type": "execute_result"
    }
   ],
   "source": [
    "check"
   ]
  }
 ],
 "metadata": {
  "kernelspec": {
   "display_name": "Python 3",
   "language": "python",
   "name": "python3"
  },
  "language_info": {
   "codemirror_mode": {
    "name": "ipython",
    "version": 3
   },
   "file_extension": ".py",
   "mimetype": "text/x-python",
   "name": "python",
   "nbconvert_exporter": "python",
   "pygments_lexer": "ipython3",
   "version": "3.7.8"
  }
 },
 "nbformat": 4,
 "nbformat_minor": 4
}
