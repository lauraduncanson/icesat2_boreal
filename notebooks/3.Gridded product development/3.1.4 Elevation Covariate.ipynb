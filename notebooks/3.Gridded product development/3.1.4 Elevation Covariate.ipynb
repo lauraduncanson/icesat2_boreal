{
 "cells": [
  {
   "cell_type": "markdown",
   "metadata": {},
   "source": [
    "# Elevation Covariate\n",
    "\n",
    "Read elevation data by a bounding box tile for stacking with other covariates in analysis.\n",
    "Initial version uses SRTM v3 available as Cloud Optimized Geotiffs in MAAP."
   ]
  },
  {
   "cell_type": "code",
   "execution_count": 13,
   "metadata": {},
   "outputs": [],
   "source": [
    "from maap.maap import MAAP\n",
    "maap = MAAP()\n",
    "from pprint import pprint"
   ]
  },
  {
   "cell_type": "code",
   "execution_count": 4,
   "metadata": {},
   "outputs": [],
   "source": [
    "# generated from this EDSC search: https://ade.maap-project.org:30052/search/granules?p=C1200271393-NASA_MAAP&q=SRTM&tl=1598404169!4!!\n",
    "collection_info = maap.searchCollection(concept_id=\"C1200271393-NASA_MAAP\", limit=1000)"
   ]
  },
  {
   "cell_type": "code",
   "execution_count": 16,
   "metadata": {},
   "outputs": [],
   "source": [
    "short_name = collection_info[0]['Collection']['ShortName']\n"
   ]
  },
  {
   "cell_type": "code",
   "execution_count": 19,
   "metadata": {},
   "outputs": [],
   "source": [
    "bbox = '-101,45,-100,46'\n",
    "granule_results = maap.searchGranule(short_name=short_name, bounding_box=bbox , limit=20)"
   ]
  },
  {
   "cell_type": "code",
   "execution_count": null,
   "metadata": {},
   "outputs": [],
   "source": [
    "len(granule_results)"
   ]
  },
  {
   "cell_type": "markdown",
   "metadata": {},
   "source": [
    "## Inspect the results\n"
   ]
  },
  {
   "cell_type": "code",
   "execution_count": 30,
   "metadata": {},
   "outputs": [
    {
     "name": "stderr",
     "output_type": "stream",
     "text": [
      "/opt/conda/lib/python3.7/site-packages/geopandas/_compat.py:88: UserWarning: The Shapely GEOS version (3.8.0-CAPI-1.13.1 ) is incompatible with the GEOS version PyGEOS was compiled with (3.8.1-CAPI-1.13.3). Conversions between both will be slow.\n",
      "  shapely_geos_version, geos_capi_version_string\n"
     ]
    }
   ],
   "source": [
    "import geopandas as gpd\n",
    "import folium\n",
    "import shapely as shp\n"
   ]
  },
  {
   "cell_type": "code",
   "execution_count": 44,
   "metadata": {},
   "outputs": [],
   "source": [
    "def make_polygons(item):\n",
    "    bounds = item['Granule']['Spatial']['HorizontalSpatialDomain']['Geometry']['BoundingRectangle']\n",
    "    item_bbox = [float(value) for value in bounds.values()]\n",
    "    bbox_polygon = shp.geometry.box(\n",
    "        item_bbox[0], \n",
    "        item_bbox[1],\n",
    "        item_bbox[2], \n",
    "        item_bbox[3]\n",
    "    )\n",
    "    return bbox_polygon"
   ]
  },
  {
   "cell_type": "code",
   "execution_count": 46,
   "metadata": {},
   "outputs": [
    {
     "data": {
      "text/plain": [
       "0    POLYGON ((-100.99972 45.00028, -100.99972 43.9...\n",
       "1    POLYGON ((-98.99972 45.00028, -98.99972 43.999...\n",
       "2    POLYGON ((-98.99972 47.00028, -98.99972 45.999...\n",
       "3    POLYGON ((-100.99972 46.00028, -100.99972 44.9...\n",
       "4    POLYGON ((-100.99972 47.00028, -100.99972 45.9...\n",
       "5    POLYGON ((-99.99972 45.00028, -99.99972 43.999...\n",
       "6    POLYGON ((-99.99972 46.00028, -99.99972 44.999...\n",
       "7    POLYGON ((-98.99972 46.00028, -98.99972 44.999...\n",
       "8    POLYGON ((-99.99972 47.00028, -99.99972 45.999...\n",
       "dtype: geometry"
      ]
     },
     "execution_count": 46,
     "metadata": {},
     "output_type": "execute_result"
    }
   ],
   "source": [
    "item = granule_results[0]\n",
    "bounds = item['Granule']['Spatial']['HorizontalSpatialDomain']['Geometry']['BoundingRectangle']\n",
    "check = make_polygons(item)\n",
    "geometries = gpd.GeoSeries([make_polygons(item) for item in granule_results])\n",
    "geometries"
   ]
  },
  {
   "cell_type": "markdown",
   "metadata": {},
   "source": [
    "## Read the data for the Box\n",
    "\n",
    "For each result read the subwindow. After reading all the subwindows, merge them together as a single  array. \n",
    "\n",
    "Q: is it easier to make a vrt of the files and then request the subwindow, or does that waste time?"
   ]
  }
 ],
 "metadata": {
  "kernelspec": {
   "display_name": "Python 3",
   "language": "python",
   "name": "python3"
  },
  "language_info": {
   "codemirror_mode": {
    "name": "ipython",
    "version": 3
   },
   "file_extension": ".py",
   "mimetype": "text/x-python",
   "name": "python",
   "nbconvert_exporter": "python",
   "pygments_lexer": "ipython3",
   "version": "3.7.8"
  }
 },
 "nbformat": 4,
 "nbformat_minor": 4
}
