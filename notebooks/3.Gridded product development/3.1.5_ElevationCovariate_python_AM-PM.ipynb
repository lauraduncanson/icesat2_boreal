{
 "cells": [
  {
   "cell_type": "markdown",
   "metadata": {},
   "source": [
    "# Elevation Covariate\n",
    "\n",
    "Read elevation data by a bounding box tile for stacking with other covariates in analysis.\n",
    "Initial version uses SRTM v3 available as Cloud Optimized Geotiffs in MAAP.\n",
    "\n",
    "\n",
    "1. Get bbox of tile\n",
    "2. Buffer/extend bbox at min 1 pixel (can be more, no prob)3\n",
    "3. Read the elev data\n",
    "4. Write elevation data to /tmp in order to read back in as a gdal dataset that gdal.DEMProcessing wants.\n",
    "5. Clip and write_band for elev\n",
    "6. Compute the 3 covars in memory with for loop; for covar in covars: calc, clip, write_band\n",
    "    a. use GDAL DEMProcessing or gdaldem via python os.subprocess.run()\n"
   ]
  },
  {
   "cell_type": "code",
   "execution_count": 1,
   "metadata": {},
   "outputs": [
    {
     "name": "stdout",
     "output_type": "stream",
     "text": [
      "Collecting package metadata (current_repodata.json): ...working... done\n",
      "Solving environment: ...working... done\n",
      "\n",
      "## Package Plan ##\n",
      "\n",
      "  environment location: /opt/conda\n",
      "\n",
      "  added / updated specs:\n",
      "    - folium\n",
      "    - geopandas\n",
      "    - rasterio\n",
      "    - rio-cogeo\n",
      "\n",
      "\n",
      "The following packages will be downloaded:\n",
      "\n",
      "    package                    |            build\n",
      "    ---------------------------|-----------------\n",
      "    branca-0.4.2               |     pyhd8ed1ab_0          26 KB  conda-forge\n",
      "    certifi-2020.12.5          |   py37h89c1867_1         143 KB  conda-forge\n",
      "    conda-4.10.0               |   py37h89c1867_1         3.1 MB  conda-forge\n",
      "    fiona-1.8.18               |   py37h527b4ca_0         1.1 MB  conda-forge\n",
      "    folium-0.12.0              |     pyhd8ed1ab_1          64 KB  conda-forge\n",
      "    geopandas-0.9.0            |     pyhd8ed1ab_0         957 KB  conda-forge\n",
      "    libspatialindex-1.9.3      |       h9c3ff4c_3         4.6 MB  conda-forge\n",
      "    morecantile-2.1.0          |     pyhd8ed1ab_0          24 KB  conda-forge\n",
      "    munch-2.5.0                |             py_0          12 KB  conda-forge\n",
      "    openssl-1.1.1k             |       h7f98852_0         2.1 MB  conda-forge\n",
      "    pydantic-1.8.1             |   py37h5e8e339_1         2.2 MB  conda-forge\n",
      "    rio-cogeo-2.1.4            |     pyhd8ed1ab_0          18 KB  conda-forge\n",
      "    rtree-0.9.7                |   py37h0b55af0_1          45 KB  conda-forge\n",
      "    shapely-1.7.1              |   py37hba0730f_1         448 KB  conda-forge\n",
      "    typing-extensions-3.7.4.3  |                0           8 KB  conda-forge\n",
      "    ------------------------------------------------------------\n",
      "                                           Total:        14.8 MB\n",
      "\n",
      "The following NEW packages will be INSTALLED:\n",
      "\n",
      "  branca             conda-forge/noarch::branca-0.4.2-pyhd8ed1ab_0\n",
      "  fiona              conda-forge/linux-64::fiona-1.8.18-py37h527b4ca_0\n",
      "  folium             conda-forge/noarch::folium-0.12.0-pyhd8ed1ab_1\n",
      "  geopandas          conda-forge/noarch::geopandas-0.9.0-pyhd8ed1ab_0\n",
      "  libspatialindex    conda-forge/linux-64::libspatialindex-1.9.3-h9c3ff4c_3\n",
      "  morecantile        conda-forge/noarch::morecantile-2.1.0-pyhd8ed1ab_0\n",
      "  munch              conda-forge/noarch::munch-2.5.0-py_0\n",
      "  pydantic           conda-forge/linux-64::pydantic-1.8.1-py37h5e8e339_1\n",
      "  rio-cogeo          conda-forge/noarch::rio-cogeo-2.1.4-pyhd8ed1ab_0\n",
      "  rtree              conda-forge/linux-64::rtree-0.9.7-py37h0b55af0_1\n",
      "  shapely            conda-forge/linux-64::shapely-1.7.1-py37hba0730f_1\n",
      "  typing-extensions  conda-forge/noarch::typing-extensions-3.7.4.3-0\n",
      "\n",
      "The following packages will be UPDATED:\n",
      "\n",
      "  certifi                          2020.12.5-py37h89c1867_0 --> 2020.12.5-py37h89c1867_1\n",
      "  conda                                4.9.2-py37h89c1867_0 --> 4.10.0-py37h89c1867_1\n",
      "  openssl                                 1.1.1i-h7f98852_0 --> 1.1.1k-h7f98852_0\n",
      "\n",
      "\n",
      "Preparing transaction: ...working... done\n",
      "Verifying transaction: ...working... done\n",
      "Executing transaction: ...working... done\n",
      "\n",
      "Note: you may need to restart the kernel to use updated packages.\n"
     ]
    }
   ],
   "source": [
    "#only run this block if needed in a new workspace, TODO: add to conda env.yml\n",
    "%conda install -yq -c conda-forge rasterio geopandas folium rio-cogeo"
   ]
  },
  {
   "cell_type": "code",
   "execution_count": 37,
   "metadata": {},
   "outputs": [],
   "source": [
    "import sys\n",
    "import json\n",
    "import os\n",
    "from pprint import pprint\n",
    "\n",
    "from osgeo import gdal\n",
    "\n",
    "import boto3\n",
    "\n",
    "import matplotlib.pyplot as plt\n",
    "from matplotlib.pyplot import imshow\n",
    "import numpy as np\n",
    "import numpy.ma as ma\n",
    "from pyproj import Proj, Transformer\n",
    "\n",
    "\n",
    "\n",
    "import geopandas as gpd\n",
    "import shapely as shp\n",
    "import folium\n",
    "from shapely.geometry import box\n",
    "from fiona.crs import from_epsg\n",
    "\n",
    "import rasterio as rio\n",
    "from rasterio.session import AWSSession \n",
    "from rasterio.plot import show\n",
    "from rasterio.mask import mask\n",
    "from rasterio.warp import *\n",
    "from rasterio.merge import merge\n",
    "from rasterio import windows\n",
    "from rasterio.io import MemoryFile\n",
    "from rio_cogeo.profiles import cog_profiles\n",
    "from rio_cogeo.cogeo import cog_translate\n",
    "\n",
    "from maap.maap import MAAP\n",
    "maap = MAAP()\n"
   ]
  },
  {
   "cell_type": "markdown",
   "metadata": {},
   "source": [
    "### 1. Get the bbox of the tile"
   ]
  },
  {
   "cell_type": "code",
   "execution_count": 2,
   "metadata": {},
   "outputs": [
    {
     "name": "stdout",
     "output_type": "stream",
     "text": [
      "(-117.3, 50.6, -117.0, 50.9)\n"
     ]
    }
   ],
   "source": [
    "# Get bbox extent\n",
    "geojson_path = '/projects/maap-users/alexdevseed/boreal_tiles_latlong.geojson'\n",
    "bbox_ID = 40349 #ID to match covar testing\n",
    "#bbox_ID = 40311 #temp testing coastal\n",
    "\n",
    "tile_index = gpd.read_file(geojson_path)\n",
    "buffer = 0.001\n",
    "in_geom_buffered = tile_index['geometry'].iloc[(bbox_ID-1)].buffer(buffer)\n",
    "in_bbox = tile_index['geometry'].iloc[(bbox_ID-1)].bounds\n",
    "\n",
    "print(in_bbox)"
   ]
  },
  {
   "cell_type": "markdown",
   "metadata": {},
   "source": [
    "Use the bbox to find DEMs"
   ]
  },
  {
   "cell_type": "code",
   "execution_count": 3,
   "metadata": {},
   "outputs": [
    {
     "data": {
      "text/html": [
       "<div>\n",
       "<style scoped>\n",
       "    .dataframe tbody tr th:only-of-type {\n",
       "        vertical-align: middle;\n",
       "    }\n",
       "\n",
       "    .dataframe tbody tr th {\n",
       "        vertical-align: top;\n",
       "    }\n",
       "\n",
       "    .dataframe thead th {\n",
       "        text-align: right;\n",
       "    }\n",
       "</style>\n",
       "<table border=\"1\" class=\"dataframe\">\n",
       "  <thead>\n",
       "    <tr style=\"text-align: right;\">\n",
       "      <th></th>\n",
       "      <th>id</th>\n",
       "      <th>key</th>\n",
       "      <th>s3</th>\n",
       "      <th>geometry</th>\n",
       "    </tr>\n",
       "  </thead>\n",
       "  <tbody>\n",
       "    <tr>\n",
       "      <th>5100</th>\n",
       "      <td>Copernicus_DSM_COG_10_N50_00_W118_00_DEM</td>\n",
       "      <td>Copernicus_DSM_COG_10_N50_00_W118_00_DEM/Coper...</td>\n",
       "      <td>s3://copernicus-dem-30m/Copernicus_DSM_COG_10_...</td>\n",
       "      <td>POLYGON ((-118.00021 50.00014, -118.00021 51.0...</td>\n",
       "    </tr>\n",
       "    <tr>\n",
       "      <th>5101</th>\n",
       "      <td>Copernicus_DSM_COG_10_N50_00_W117_00_DEM</td>\n",
       "      <td>Copernicus_DSM_COG_10_N50_00_W117_00_DEM/Coper...</td>\n",
       "      <td>s3://copernicus-dem-30m/Copernicus_DSM_COG_10_...</td>\n",
       "      <td>POLYGON ((-117.00021 50.00014, -117.00021 51.0...</td>\n",
       "    </tr>\n",
       "  </tbody>\n",
       "</table>\n",
       "</div>"
      ],
      "text/plain": [
       "                                            id  \\\n",
       "5100  Copernicus_DSM_COG_10_N50_00_W118_00_DEM   \n",
       "5101  Copernicus_DSM_COG_10_N50_00_W117_00_DEM   \n",
       "\n",
       "                                                    key  \\\n",
       "5100  Copernicus_DSM_COG_10_N50_00_W118_00_DEM/Coper...   \n",
       "5101  Copernicus_DSM_COG_10_N50_00_W117_00_DEM/Coper...   \n",
       "\n",
       "                                                     s3  \\\n",
       "5100  s3://copernicus-dem-30m/Copernicus_DSM_COG_10_...   \n",
       "5101  s3://copernicus-dem-30m/Copernicus_DSM_COG_10_...   \n",
       "\n",
       "                                               geometry  \n",
       "5100  POLYGON ((-118.00021 50.00014, -118.00021 51.0...  \n",
       "5101  POLYGON ((-117.00021 50.00014, -117.00021 51.0...  "
      ]
     },
     "execution_count": 3,
     "metadata": {},
     "output_type": "execute_result"
    }
   ],
   "source": [
    "# Read the copernicus index file\n",
    "cop30dem_geojson = '/projects/maap-users/alexdevseed/dem30m_tiles.geojson'\n",
    "cop30dem = gpd.read_file(cop30dem_geojson)\n",
    "\n",
    "# intersect with the bbox tile\n",
    "selection = cop30dem.loc[cop30dem.intersects(in_geom_buffered)]\n",
    "selection.head()"
   ]
  },
  {
   "cell_type": "markdown",
   "metadata": {},
   "source": [
    "### 2. Buffer/extend bbox"
   ]
  },
  {
   "cell_type": "code",
   "execution_count": 4,
   "metadata": {},
   "outputs": [
    {
     "name": "stdout",
     "output_type": "stream",
     "text": [
      "(-117.3, 50.6, -117.0, 50.9)\n",
      "(-117.301, 50.599000000000004, -116.999, 50.900999999999996)\n"
     ]
    },
    {
     "data": {
      "text/html": [
       "<div style=\"width:100%;\"><div style=\"position:relative;width:100%;height:0;padding-bottom:60%;\"><span style=\"color:#565656\">Make this Notebook Trusted to load map: File -> Trust Notebook</span><iframe src=\"about:blank\" style=\"position:absolute;width:100%;height:100%;left:0;top:0;border:none !important;\" data-html=%3C%21DOCTYPE%20html%3E%0A%3Chead%3E%20%20%20%20%0A%20%20%20%20%3Cmeta%20http-equiv%3D%22content-type%22%20content%3D%22text/html%3B%20charset%3DUTF-8%22%20/%3E%0A%20%20%20%20%0A%20%20%20%20%20%20%20%20%3Cscript%3E%0A%20%20%20%20%20%20%20%20%20%20%20%20L_NO_TOUCH%20%3D%20false%3B%0A%20%20%20%20%20%20%20%20%20%20%20%20L_DISABLE_3D%20%3D%20false%3B%0A%20%20%20%20%20%20%20%20%3C/script%3E%0A%20%20%20%20%0A%20%20%20%20%3Cstyle%3Ehtml%2C%20body%20%7Bwidth%3A%20100%25%3Bheight%3A%20100%25%3Bmargin%3A%200%3Bpadding%3A%200%3B%7D%3C/style%3E%0A%20%20%20%20%3Cstyle%3E%23map%20%7Bposition%3Aabsolute%3Btop%3A0%3Bbottom%3A0%3Bright%3A0%3Bleft%3A0%3B%7D%3C/style%3E%0A%20%20%20%20%3Cscript%20src%3D%22https%3A//cdn.jsdelivr.net/npm/leaflet%401.6.0/dist/leaflet.js%22%3E%3C/script%3E%0A%20%20%20%20%3Cscript%20src%3D%22https%3A//code.jquery.com/jquery-1.12.4.min.js%22%3E%3C/script%3E%0A%20%20%20%20%3Cscript%20src%3D%22https%3A//maxcdn.bootstrapcdn.com/bootstrap/3.2.0/js/bootstrap.min.js%22%3E%3C/script%3E%0A%20%20%20%20%3Cscript%20src%3D%22https%3A//cdnjs.cloudflare.com/ajax/libs/Leaflet.awesome-markers/2.0.2/leaflet.awesome-markers.js%22%3E%3C/script%3E%0A%20%20%20%20%3Clink%20rel%3D%22stylesheet%22%20href%3D%22https%3A//cdn.jsdelivr.net/npm/leaflet%401.6.0/dist/leaflet.css%22/%3E%0A%20%20%20%20%3Clink%20rel%3D%22stylesheet%22%20href%3D%22https%3A//maxcdn.bootstrapcdn.com/bootstrap/3.2.0/css/bootstrap.min.css%22/%3E%0A%20%20%20%20%3Clink%20rel%3D%22stylesheet%22%20href%3D%22https%3A//maxcdn.bootstrapcdn.com/bootstrap/3.2.0/css/bootstrap-theme.min.css%22/%3E%0A%20%20%20%20%3Clink%20rel%3D%22stylesheet%22%20href%3D%22https%3A//maxcdn.bootstrapcdn.com/font-awesome/4.6.3/css/font-awesome.min.css%22/%3E%0A%20%20%20%20%3Clink%20rel%3D%22stylesheet%22%20href%3D%22https%3A//cdnjs.cloudflare.com/ajax/libs/Leaflet.awesome-markers/2.0.2/leaflet.awesome-markers.css%22/%3E%0A%20%20%20%20%3Clink%20rel%3D%22stylesheet%22%20href%3D%22https%3A//cdn.jsdelivr.net/gh/python-visualization/folium/folium/templates/leaflet.awesome.rotate.min.css%22/%3E%0A%20%20%20%20%0A%20%20%20%20%20%20%20%20%20%20%20%20%3Cmeta%20name%3D%22viewport%22%20content%3D%22width%3Ddevice-width%2C%0A%20%20%20%20%20%20%20%20%20%20%20%20%20%20%20%20initial-scale%3D1.0%2C%20maximum-scale%3D1.0%2C%20user-scalable%3Dno%22%20/%3E%0A%20%20%20%20%20%20%20%20%20%20%20%20%3Cstyle%3E%0A%20%20%20%20%20%20%20%20%20%20%20%20%20%20%20%20%23map_94a7ad5cd91b4576a436ca71d5fe16d4%20%7B%0A%20%20%20%20%20%20%20%20%20%20%20%20%20%20%20%20%20%20%20%20position%3A%20relative%3B%0A%20%20%20%20%20%20%20%20%20%20%20%20%20%20%20%20%20%20%20%20width%3A%20100.0%25%3B%0A%20%20%20%20%20%20%20%20%20%20%20%20%20%20%20%20%20%20%20%20height%3A%20100.0%25%3B%0A%20%20%20%20%20%20%20%20%20%20%20%20%20%20%20%20%20%20%20%20left%3A%200.0%25%3B%0A%20%20%20%20%20%20%20%20%20%20%20%20%20%20%20%20%20%20%20%20top%3A%200.0%25%3B%0A%20%20%20%20%20%20%20%20%20%20%20%20%20%20%20%20%7D%0A%20%20%20%20%20%20%20%20%20%20%20%20%3C/style%3E%0A%20%20%20%20%20%20%20%20%0A%3C/head%3E%0A%3Cbody%3E%20%20%20%20%0A%20%20%20%20%0A%20%20%20%20%20%20%20%20%20%20%20%20%3Cdiv%20class%3D%22folium-map%22%20id%3D%22map_94a7ad5cd91b4576a436ca71d5fe16d4%22%20%3E%3C/div%3E%0A%20%20%20%20%20%20%20%20%0A%3C/body%3E%0A%3Cscript%3E%20%20%20%20%0A%20%20%20%20%0A%20%20%20%20%20%20%20%20%20%20%20%20var%20map_94a7ad5cd91b4576a436ca71d5fe16d4%20%3D%20L.map%28%0A%20%20%20%20%20%20%20%20%20%20%20%20%20%20%20%20%22map_94a7ad5cd91b4576a436ca71d5fe16d4%22%2C%0A%20%20%20%20%20%20%20%20%20%20%20%20%20%20%20%20%7B%0A%20%20%20%20%20%20%20%20%20%20%20%20%20%20%20%20%20%20%20%20center%3A%20%5B50.6%2C%20-117.0%5D%2C%0A%20%20%20%20%20%20%20%20%20%20%20%20%20%20%20%20%20%20%20%20crs%3A%20L.CRS.EPSG3857%2C%0A%20%20%20%20%20%20%20%20%20%20%20%20%20%20%20%20%20%20%20%20zoom%3A%2015%2C%0A%20%20%20%20%20%20%20%20%20%20%20%20%20%20%20%20%20%20%20%20zoomControl%3A%20true%2C%0A%20%20%20%20%20%20%20%20%20%20%20%20%20%20%20%20%20%20%20%20preferCanvas%3A%20false%2C%0A%20%20%20%20%20%20%20%20%20%20%20%20%20%20%20%20%7D%0A%20%20%20%20%20%20%20%20%20%20%20%20%29%3B%0A%0A%20%20%20%20%20%20%20%20%20%20%20%20%0A%0A%20%20%20%20%20%20%20%20%0A%20%20%20%20%0A%20%20%20%20%20%20%20%20%20%20%20%20var%20tile_layer_f63e8c1d2e474fe7af3190ddfb67b86f%20%3D%20L.tileLayer%28%0A%20%20%20%20%20%20%20%20%20%20%20%20%20%20%20%20%22https%3A//cartodb-basemaps-%7Bs%7D.global.ssl.fastly.net/light_all/%7Bz%7D/%7Bx%7D/%7By%7D.png%22%2C%0A%20%20%20%20%20%20%20%20%20%20%20%20%20%20%20%20%7B%22attribution%22%3A%20%22%5Cu0026copy%3B%20%5Cu003ca%20href%3D%5C%22http%3A//www.openstreetmap.org/copyright%5C%22%5Cu003eOpenStreetMap%5Cu003c/a%5Cu003e%20contributors%20%5Cu0026copy%3B%20%5Cu003ca%20href%3D%5C%22http%3A//cartodb.com/attributions%5C%22%5Cu003eCartoDB%5Cu003c/a%5Cu003e%2C%20CartoDB%20%5Cu003ca%20href%20%3D%5C%22http%3A//cartodb.com/attributions%5C%22%5Cu003eattributions%5Cu003c/a%5Cu003e%22%2C%20%22detectRetina%22%3A%20false%2C%20%22maxNativeZoom%22%3A%2018%2C%20%22maxZoom%22%3A%2018%2C%20%22minZoom%22%3A%200%2C%20%22noWrap%22%3A%20false%2C%20%22opacity%22%3A%201%2C%20%22subdomains%22%3A%20%22abc%22%2C%20%22tms%22%3A%20false%7D%0A%20%20%20%20%20%20%20%20%20%20%20%20%29.addTo%28map_94a7ad5cd91b4576a436ca71d5fe16d4%29%3B%0A%20%20%20%20%20%20%20%20%0A%20%20%20%20%0A%0A%20%20%20%20%20%20%20%20function%20geo_json_3e9146c5ffc14a60a5a1d14b77ceab5e_onEachFeature%28feature%2C%20layer%29%20%7B%0A%20%20%20%20%20%20%20%20%20%20%20%20layer.on%28%7B%0A%20%20%20%20%20%20%20%20%20%20%20%20%7D%29%3B%0A%20%20%20%20%20%20%20%20%7D%3B%0A%20%20%20%20%20%20%20%20var%20geo_json_3e9146c5ffc14a60a5a1d14b77ceab5e%20%3D%20L.geoJson%28null%2C%20%7B%0A%20%20%20%20%20%20%20%20%20%20%20%20%20%20%20%20onEachFeature%3A%20geo_json_3e9146c5ffc14a60a5a1d14b77ceab5e_onEachFeature%2C%0A%20%20%20%20%20%20%20%20%20%20%20%20%0A%20%20%20%20%20%20%20%20%7D%29%3B%0A%0A%20%20%20%20%20%20%20%20function%20geo_json_3e9146c5ffc14a60a5a1d14b77ceab5e_add%20%28data%29%20%7B%0A%20%20%20%20%20%20%20%20%20%20%20%20geo_json_3e9146c5ffc14a60a5a1d14b77ceab5e%0A%20%20%20%20%20%20%20%20%20%20%20%20%20%20%20%20.addData%28data%29%0A%20%20%20%20%20%20%20%20%20%20%20%20%20%20%20%20.addTo%28map_94a7ad5cd91b4576a436ca71d5fe16d4%29%3B%0A%20%20%20%20%20%20%20%20%7D%0A%20%20%20%20%20%20%20%20%20%20%20%20geo_json_3e9146c5ffc14a60a5a1d14b77ceab5e_add%28%7B%22bbox%22%3A%20%5B-118.00020833333335%2C%2050.000138888888884%2C%20-116.00020833333335%2C%2051.000138888888884%5D%2C%20%22features%22%3A%20%5B%7B%22bbox%22%3A%20%5B-118.00020833333335%2C%2050.000138888888884%2C%20-117.00020833333335%2C%2051.000138888888884%5D%2C%20%22geometry%22%3A%20%7B%22coordinates%22%3A%20%5B%5B%5B-118.00020833333335%2C%2050.000138888888884%5D%2C%20%5B-118.00020833333335%2C%2051.000138888888884%5D%2C%20%5B-117.00020833333335%2C%2051.000138888888884%5D%2C%20%5B-117.00020833333335%2C%2050.000138888888884%5D%2C%20%5B-118.00020833333335%2C%2050.000138888888884%5D%5D%5D%2C%20%22type%22%3A%20%22Polygon%22%7D%2C%20%22id%22%3A%20%225100%22%2C%20%22properties%22%3A%20%7B%22id%22%3A%20%22Copernicus_DSM_COG_10_N50_00_W118_00_DEM%22%2C%20%22key%22%3A%20%22Copernicus_DSM_COG_10_N50_00_W118_00_DEM/Copernicus_DSM_COG_10_N50_00_W118_00_DEM.tif%22%2C%20%22s3%22%3A%20%22s3%3A//copernicus-dem-30m/Copernicus_DSM_COG_10_N50_00_W118_00_DEM/Copernicus_DSM_COG_10_N50_00_W118_00_DEM.tif%22%7D%2C%20%22type%22%3A%20%22Feature%22%7D%2C%20%7B%22bbox%22%3A%20%5B-117.00020833333335%2C%2050.000138888888884%2C%20-116.00020833333335%2C%2051.000138888888884%5D%2C%20%22geometry%22%3A%20%7B%22coordinates%22%3A%20%5B%5B%5B-117.00020833333335%2C%2050.000138888888884%5D%2C%20%5B-117.00020833333335%2C%2051.000138888888884%5D%2C%20%5B-116.00020833333335%2C%2051.000138888888884%5D%2C%20%5B-116.00020833333335%2C%2050.000138888888884%5D%2C%20%5B-117.00020833333335%2C%2050.000138888888884%5D%5D%5D%2C%20%22type%22%3A%20%22Polygon%22%7D%2C%20%22id%22%3A%20%225101%22%2C%20%22properties%22%3A%20%7B%22id%22%3A%20%22Copernicus_DSM_COG_10_N50_00_W117_00_DEM%22%2C%20%22key%22%3A%20%22Copernicus_DSM_COG_10_N50_00_W117_00_DEM/Copernicus_DSM_COG_10_N50_00_W117_00_DEM.tif%22%2C%20%22s3%22%3A%20%22s3%3A//copernicus-dem-30m/Copernicus_DSM_COG_10_N50_00_W117_00_DEM/Copernicus_DSM_COG_10_N50_00_W117_00_DEM.tif%22%7D%2C%20%22type%22%3A%20%22Feature%22%7D%5D%2C%20%22type%22%3A%20%22FeatureCollection%22%7D%29%3B%0A%0A%20%20%20%20%20%20%20%20%0A%20%20%20%20%0A%20%20%20%20%20%20%20%20function%20geo_json_eb0d4e6deb9445b78a18bff9358494a0_styler%28feature%29%20%7B%0A%20%20%20%20%20%20%20%20%20%20%20%20switch%28feature.id%29%20%7B%0A%20%20%20%20%20%20%20%20%20%20%20%20%20%20%20%20default%3A%0A%20%20%20%20%20%20%20%20%20%20%20%20%20%20%20%20%20%20%20%20return%20%7B%22color%22%3A%20%22%23ff0000%22%2C%20%22fillColor%22%3A%20%22%23ff0000%22%7D%3B%0A%20%20%20%20%20%20%20%20%20%20%20%20%7D%0A%20%20%20%20%20%20%20%20%7D%0A%0A%20%20%20%20%20%20%20%20function%20geo_json_eb0d4e6deb9445b78a18bff9358494a0_onEachFeature%28feature%2C%20layer%29%20%7B%0A%20%20%20%20%20%20%20%20%20%20%20%20layer.on%28%7B%0A%20%20%20%20%20%20%20%20%20%20%20%20%7D%29%3B%0A%20%20%20%20%20%20%20%20%7D%3B%0A%20%20%20%20%20%20%20%20var%20geo_json_eb0d4e6deb9445b78a18bff9358494a0%20%3D%20L.geoJson%28null%2C%20%7B%0A%20%20%20%20%20%20%20%20%20%20%20%20%20%20%20%20onEachFeature%3A%20geo_json_eb0d4e6deb9445b78a18bff9358494a0_onEachFeature%2C%0A%20%20%20%20%20%20%20%20%20%20%20%20%0A%20%20%20%20%20%20%20%20%20%20%20%20%20%20%20%20style%3A%20geo_json_eb0d4e6deb9445b78a18bff9358494a0_styler%2C%0A%20%20%20%20%20%20%20%20%7D%29%3B%0A%0A%20%20%20%20%20%20%20%20function%20geo_json_eb0d4e6deb9445b78a18bff9358494a0_add%20%28data%29%20%7B%0A%20%20%20%20%20%20%20%20%20%20%20%20geo_json_eb0d4e6deb9445b78a18bff9358494a0%0A%20%20%20%20%20%20%20%20%20%20%20%20%20%20%20%20.addData%28data%29%0A%20%20%20%20%20%20%20%20%20%20%20%20%20%20%20%20.addTo%28map_94a7ad5cd91b4576a436ca71d5fe16d4%29%3B%0A%20%20%20%20%20%20%20%20%7D%0A%20%20%20%20%20%20%20%20%20%20%20%20geo_json_eb0d4e6deb9445b78a18bff9358494a0_add%28%7B%22features%22%3A%20%5B%7B%22geometry%22%3A%20%7B%22coordinates%22%3A%20%5B%5B%5B-117.0%2C%2050.6%5D%2C%20%5B-117.0%2C%2050.9%5D%2C%20%5B-117.3%2C%2050.9%5D%2C%20%5B-117.3%2C%2050.6%5D%2C%20%5B-117.0%2C%2050.6%5D%5D%5D%2C%20%22type%22%3A%20%22Polygon%22%7D%2C%20%22id%22%3A%20%220%22%2C%20%22type%22%3A%20%22Feature%22%7D%5D%2C%20%22type%22%3A%20%22FeatureCollection%22%7D%29%3B%0A%0A%20%20%20%20%20%20%20%20%0A%20%20%20%20%0A%20%20%20%20%20%20%20%20function%20geo_json_e033b3f461e742aebb3cd12bf4f402da_styler%28feature%29%20%7B%0A%20%20%20%20%20%20%20%20%20%20%20%20switch%28feature.id%29%20%7B%0A%20%20%20%20%20%20%20%20%20%20%20%20%20%20%20%20default%3A%0A%20%20%20%20%20%20%20%20%20%20%20%20%20%20%20%20%20%20%20%20return%20%7B%22color%22%3A%20%22%23fdae61%22%2C%20%22fillColor%22%3A%20%22%23fdae61%22%7D%3B%0A%20%20%20%20%20%20%20%20%20%20%20%20%7D%0A%20%20%20%20%20%20%20%20%7D%0A%0A%20%20%20%20%20%20%20%20function%20geo_json_e033b3f461e742aebb3cd12bf4f402da_onEachFeature%28feature%2C%20layer%29%20%7B%0A%20%20%20%20%20%20%20%20%20%20%20%20layer.on%28%7B%0A%20%20%20%20%20%20%20%20%20%20%20%20%7D%29%3B%0A%20%20%20%20%20%20%20%20%7D%3B%0A%20%20%20%20%20%20%20%20var%20geo_json_e033b3f461e742aebb3cd12bf4f402da%20%3D%20L.geoJson%28null%2C%20%7B%0A%20%20%20%20%20%20%20%20%20%20%20%20%20%20%20%20onEachFeature%3A%20geo_json_e033b3f461e742aebb3cd12bf4f402da_onEachFeature%2C%0A%20%20%20%20%20%20%20%20%20%20%20%20%0A%20%20%20%20%20%20%20%20%20%20%20%20%20%20%20%20style%3A%20geo_json_e033b3f461e742aebb3cd12bf4f402da_styler%2C%0A%20%20%20%20%20%20%20%20%7D%29%3B%0A%0A%20%20%20%20%20%20%20%20function%20geo_json_e033b3f461e742aebb3cd12bf4f402da_add%20%28data%29%20%7B%0A%20%20%20%20%20%20%20%20%20%20%20%20geo_json_e033b3f461e742aebb3cd12bf4f402da%0A%20%20%20%20%20%20%20%20%20%20%20%20%20%20%20%20.addData%28data%29%0A%20%20%20%20%20%20%20%20%20%20%20%20%20%20%20%20.addTo%28map_94a7ad5cd91b4576a436ca71d5fe16d4%29%3B%0A%20%20%20%20%20%20%20%20%7D%0A%20%20%20%20%20%20%20%20%20%20%20%20geo_json_e033b3f461e742aebb3cd12bf4f402da_add%28%7B%22features%22%3A%20%5B%7B%22geometry%22%3A%20%7B%22coordinates%22%3A%20%5B%5B%5B-116.999%2C%2050.599000000000004%5D%2C%20%5B-116.999%2C%2050.900999999999996%5D%2C%20%5B-117.301%2C%2050.900999999999996%5D%2C%20%5B-117.301%2C%2050.599000000000004%5D%2C%20%5B-116.999%2C%2050.599000000000004%5D%5D%5D%2C%20%22type%22%3A%20%22Polygon%22%7D%2C%20%22id%22%3A%20%220%22%2C%20%22type%22%3A%20%22Feature%22%7D%5D%2C%20%22type%22%3A%20%22FeatureCollection%22%7D%29%3B%0A%0A%20%20%20%20%20%20%20%20%0A%3C/script%3E onload=\"this.contentDocument.open();this.contentDocument.write(    decodeURIComponent(this.getAttribute('data-html')));this.contentDocument.close();\" allowfullscreen webkitallowfullscreen mozallowfullscreen></iframe></div></div>"
      ],
      "text/plain": [
       "<folium.folium.Map at 0x7f12d7f83510>"
      ]
     },
     "execution_count": 4,
     "metadata": {},
     "output_type": "execute_result"
    }
   ],
   "source": [
    "# Reformat bbox\n",
    "#bbox_list =  [float(value) for value in converted_in_bbox.split(',')]\n",
    "bbox_list = in_bbox\n",
    "print(bbox_list)\n",
    "# Elevation covar calc will require consideration of tile edges. We want seemlessness across adjacent tiles\n",
    "# To handle this, use this buffered bbox to extract elevation data, process it to the covars, then clip by original bbox\n",
    "bbox_buffered = in_geom_buffered.bounds\n",
    "# TODO: Probably need a 'bbox_buffered_list' from the above geometry...\n",
    "print(bbox_buffered)\n",
    "\n",
    "# Get centroid of bbox\n",
    "#center = shp.geometry.box(*bbox_list).centroid\n",
    "center = in_geom_buffered.centroid\n",
    "\n",
    "m = folium.Map(\n",
    "    # Zoom to center\n",
    "    #location=[center.y,center.x],\n",
    "    # Zoom to corner\n",
    "    location=[bbox_list[1], bbox_list[2]],\n",
    "    tiles=\"cartodbpositron\",\n",
    "    zoom_start=15,\n",
    ")\n",
    "\n",
    "bbox_style = {'fillColor': '#ff0000', 'color': '#ff0000'}\n",
    "bbox_buf_style = {'fillColor': '#fdae61', 'color': '#fdae61'}\n",
    "\n",
    "folium.GeoJson(selection, name=\"tiles\").add_to(m)\n",
    "folium.GeoJson(shp.geometry.box(*bbox_list), \n",
    "               name=\"bbox\",\n",
    "               style_function=lambda x:bbox_style).add_to(m)\n",
    "folium.GeoJson(shp.geometry.box(*bbox_buffered), \n",
    "               name=\"bbox_buf\",\n",
    "               style_function=lambda x:bbox_buf_style).add_to(m)\n",
    "m"
   ]
  },
  {
   "cell_type": "markdown",
   "metadata": {},
   "source": [
    "### Read the elevation data (for the bbox)\n",
    "\n",
    "For each result read the subwindow. After reading all the subwindows, merge them together as a single  array. "
   ]
  },
  {
   "cell_type": "code",
   "execution_count": 48,
   "metadata": {},
   "outputs": [
    {
     "name": "stdout",
     "output_type": "stream",
     "text": [
      "The DEM filenames for the bbox:\n",
      " s3://copernicus-dem-30m/Copernicus_DSM_COG_10_N50_00_W117_00_DEM/Copernicus_DSM_COG_10_N50_00_W117_00_DEM.tif\n",
      "s3://copernicus-dem-30m/Copernicus_DSM_COG_10_N50_00_W118_00_DEM/Copernicus_DSM_COG_10_N50_00_W118_00_DEM.tif\n"
     ]
    }
   ],
   "source": [
    "# Set up and aws session\n",
    "aws_session = AWSSession(boto3.Session())\n",
    "# Get the s3 urls to the granules\n",
    "file_s3 = selection[\"s3\"].to_list()\n",
    "file_s3.sort()\n",
    "print(\"The DEM filenames for the bbox:\\n\", '\\n'.join(file_s3))\n"
   ]
  },
  {
   "cell_type": "code",
   "execution_count": 49,
   "metadata": {},
   "outputs": [
    {
     "data": {
      "image/png": "[encoded data removed]",
      "text/plain": [
       "<Figure size 432x288 with 1 Axes>"
      ]
     },
     "metadata": {
      "needs_background": "light"
     },
     "output_type": "display_data"
    },
    {
     "data": {
      "text/plain": [
       "<AxesSubplot:>"
      ]
     },
     "execution_count": 49,
     "metadata": {},
     "output_type": "execute_result"
    }
   ],
   "source": [
    "if False:\n",
    "    # prove that we can read the aws files, an overview should be faster\n",
    "    # https://automating-gis-processes.github.io/CSC/notebooks/L5/read-cogs.html\n",
    "    with rio.Env(aws_session):\n",
    "        with rio.open(file_s3[0], 'r') as src:\n",
    "            # List of overviews from biggest to smallest\n",
    "            oviews = src.overviews(1)\n",
    "\n",
    "            # Retrieve the smallest thumbnail\n",
    "            oview = oviews[1]\n",
    "            thumbnail = src.read(1, out_shape=(1, int(src.height // oview), int(src.width // oview)))\n",
    "\n",
    "    show(thumbnail)\n",
    "\n",
    "# Create a mosaic from all the images\n",
    "with rio.Env(aws_session):\n",
    "    sources = [rio.open(raster, 'r') for raster in file_s3]\n",
    "\n",
    "# Merge the source files\n",
    "# TODO: test passing all s3 sources\n",
    "mosaic, out_trans = merge(sources, bounds = bbox_list)\n",
    "\n",
    "# Mask the NoData values so it can be plotted correctly\n",
    "# Since the DEM doesn't have nodata we need a Coastal/Water mask if we want to drop those pixels\n",
    "# TODO - potentially use a slope = 0 to mask water?\n",
    "#masked_mosaic = ma.masked_values(mosaic, int(sources[0].nodatavals[0]))\n",
    "show(mosaic, cmap = 'terrain')"
   ]
  },
  {
   "cell_type": "markdown",
   "metadata": {},
   "source": [
    "### Write Results as Cloud Optimized Geotiff\n",
    "Write elevation data to /tmp in order to read back in as a gdal dataset (that gdal.DEMProcessing wants) in order to calc that remaining topo covars."
   ]
  },
  {
   "cell_type": "code",
   "execution_count": 69,
   "metadata": {},
   "outputs": [],
   "source": [
    "# Functions \n",
    "# copied from pygeotools/iolib.py\n",
    "#Given input dataset, return a masked array for the input band\n",
    "def ds_getma(ds, bnum=1):\n",
    "    \"\"\"Get masked array from input GDAL Dataset\n",
    "    Parameters\n",
    "    ----------\n",
    "    ds : gdal.Dataset \n",
    "        Input GDAL Datset\n",
    "    bnum : int, optional\n",
    "        Band number\n",
    "    \n",
    "    Returns\n",
    "    -------\n",
    "    np.ma.array    \n",
    "        Masked array containing raster values\n",
    "    \"\"\"\n",
    "    b = ds.GetRasterBand(bnum)\n",
    "    return b_getma(b)\n",
    "\n",
    "#Given input band, return a masked array\n",
    "def b_getma(b):\n",
    "    \"\"\"Get masked array from input GDAL Band\n",
    "    Parameters\n",
    "    ----------\n",
    "    b : gdal.Band \n",
    "        Input GDAL Band \n",
    "    \n",
    "    Returns\n",
    "    -------\n",
    "    np.ma.array    \n",
    "        Masked array containing raster values\n",
    "    \"\"\"\n",
    "    b_ndv = get_ndv_b(b)\n",
    "    #bma = np.ma.masked_equal(b.ReadAsArray(), b_ndv)\n",
    "    #This is more appropriate for float, handles precision issues\n",
    "    bma = np.ma.masked_values(b.ReadAsArray(), b_ndv)\n",
    "    return bma\n",
    "#Return nodata value for GDAL band\n",
    "def get_ndv_b(b):\n",
    "    \"\"\"Get NoData value for GDAL band.\n",
    "    If NoDataValue is not set in the band, \n",
    "    extract upper left and lower right pixel values.\n",
    "    Otherwise assume NoDataValue is 0.\n",
    " \n",
    "    Parameters\n",
    "    ----------\n",
    "    b : GDALRasterBand object \n",
    "        This is the input band.\n",
    " \n",
    "    Returns\n",
    "    -------\n",
    "    b_ndv : float \n",
    "        NoData value \n",
    "    \"\"\"\n",
    "\n",
    "    b_ndv = b.GetNoDataValue()\n",
    "    if b_ndv is None:\n",
    "        #Check ul pixel for ndv\n",
    "        ns = b.XSize\n",
    "        nl = b.YSize\n",
    "        ul = float(b.ReadAsArray(0, 0, 1, 1))\n",
    "        #ur = float(b.ReadAsArray(ns-1, 0, 1, 1))\n",
    "        lr = float(b.ReadAsArray(ns-1, nl-1, 1, 1))\n",
    "        #ll = float(b.ReadAsArray(0, nl-1, 1, 1))\n",
    "        #Probably better to use 3/4 corner criterion\n",
    "        #if ul == ur == lr == ll:\n",
    "        if np.isnan(ul) or ul == lr:\n",
    "            b_ndv = ul\n",
    "        else:\n",
    "            #Assume ndv is 0\n",
    "            b_ndv = 0\n",
    "    elif np.isnan(b_ndv):\n",
    "        b_dt = gdal.GetDataTypeName(b.DataType)\n",
    "        if 'Float' in b_dt:\n",
    "            b_ndv = np.nan\n",
    "        else:\n",
    "            b_ndv = 0\n",
    "    print(\"NoData Value: \",b_ndv)\n",
    "    return b_ndv\n",
    "\n",
    "# copied from 3.1.2\n",
    "# TODO: create library of functions used acrosss notebooks\n",
    "def define_raster(file, in_bbox, epsg=\"epsg:4326\"):\n",
    "    '''Read the first raster to get its transform and crs'''\n",
    "    with rio.open(file, 'r') as f:\n",
    "        bbox = transform_bounds(epsg, f.crs, *in_bbox)\n",
    "        #w = windows.from_bounds(*bbox, transform=f.transform)\n",
    "        #band = f.read(1, window=w, masked=True)\n",
    "        band, out_transform = merge([f],bounds=bbox)\n",
    "    return f.crs, out_transform\n",
    "        \n",
    "def MaskArrays(file, in_bbox, epsg=\"epsg:4326\"):\n",
    "    '''Read a window of data from the raster matching the tile bbox'''\n",
    "    print(file)\n",
    "    with rio.open(file, 'r') as f:\n",
    "        bbox = transform_bounds(epsg, f.crs, *in_bbox)\n",
    "        #w = windows.from_bounds(*bbox, transform=f.transform)\n",
    "        #band = f.read(1, window=w, masked=True)\n",
    "        band, out_transform = merge([f],bounds=bbox)\n",
    "    return np.ma.masked_array(band[0].astype(float), mask=f.nodata)\n",
    "\n",
    "# Specify GeoTIFF structure\n",
    "def write_cog(stack, out_fn, out_crs, out_transform, bandnames):\n",
    "    # Get the rio-cogeo profile for deflate compression, modify some of the options\n",
    "    dst_profile = cog_profiles.get(\"deflate\")\n",
    "    dst_profile['blockxsize']=256\n",
    "    dst_profile['blockysize']=256\n",
    "    dst_profile['predictor']=2\n",
    "    dst_profile['zlevel']=7\n",
    "    \n",
    "    print('Orig stack shape: ',stack.shape)\n",
    "    \n",
    "    src_profile = dict(\n",
    "        driver=\"GTiff\",\n",
    "        height=stack.shape[1],\n",
    "        width=stack.shape[2],\n",
    "        count=stack.shape[0],\n",
    "        dtype=stack.dtype,\n",
    "        crs=out_crs,\n",
    "        transform=out_transform,\n",
    "        nodata=None)\n",
    "\n",
    "    with MemoryFile() as memfile:\n",
    "        with memfile.open(**src_profile) as mem: \n",
    "            \n",
    "            # Populate the input file with NumPy array\n",
    "            #mem.write(stack)\n",
    "            # Move last position (-1) to the first (0)\n",
    "            print('New stack shape: ', np.moveaxis(stack, -1, 0).shape)\n",
    "            mem.write(np.moveaxis(stack, -1, 0))\n",
    "            \n",
    "            print('Writing img to memory...')\n",
    "            \n",
    "            for n in range(len(bandnames)):\n",
    "                mem.set_band_description(n+1, bandnames[n])\n",
    "        \n",
    "            cog_translate(\n",
    "                mem,\n",
    "                # To avoid rewriting over the infile\n",
    "                out_fn,\n",
    "                dst_profile,\n",
    "                in_memory=True,\n",
    "                quiet=True)\n",
    "    \n",
    "    print('Image written to disk: ', out_fn)"
   ]
  },
  {
   "cell_type": "code",
   "execution_count": 32,
   "metadata": {},
   "outputs": [
    {
     "name": "stdout",
     "output_type": "stream",
     "text": [
      "Stack shape:  (1, 1080, 720)\n",
      "Writing img to memory...\n"
     ]
    },
    {
     "name": "stderr",
     "output_type": "stream",
     "text": [
      "/opt/conda/lib/python3.7/site-packages/ipykernel_launcher.py:136: RasterioDeprecationWarning: Source dataset should be opened in read-only mode. Use of datasets opened in modes other than 'r' will be disallowed in a future version.\n"
     ]
    },
    {
     "name": "stdout",
     "output_type": "stream",
     "text": [
      "Image written to disk:  /tmp/40349_cog_dem.tif\n",
      "CPU times: user 359 ms, sys: 24.8 ms, total: 384 ms\n",
      "Wall time: 382 ms\n"
     ]
    }
   ],
   "source": [
    "%%time\n",
    "# TODO: format outname correctly to coincide with Landsat covars\n",
    "data_path = \"/tmp\"\n",
    "tileid = str(bbox_ID)\n",
    "ext = \"cog_dem.tif\"\n",
    "dem_cog_fn = os.path.join(data_path, \"_\".join([tileid, ext]))\n",
    "# TODO: ---NOT WRITING COG --only seeing the companion *tif.aux.xml file -----\n",
    "#out_crs, out_transform = define_raster(file_s3[0], bbox_buffered, epsg=\"epsg:4326\")\n",
    "write_cog(mosaic, dem_cog_fn, sources[0].crs, out_trans, [\"elevation\"])"
   ]
  },
  {
   "cell_type": "markdown",
   "metadata": {},
   "source": [
    "### Derive topographic covariates from DEM\n",
    "This step uses gdaldem to access the DEM COG, calc a topo covar, and write each covariate to a separate COG"
   ]
  },
  {
   "cell_type": "code",
   "execution_count": 71,
   "metadata": {},
   "outputs": [
    {
     "name": "stdout",
     "output_type": "stream",
     "text": [
      "Calculating Slope...\n",
      "NoData Value:  -9999.0\n",
      "Calculating TPI...\n",
      "NoData Value:  -9999.0\n",
      "Calculating TSRI...\n",
      "NoData Value:  -9999.0\n",
      "Stack shape:  (1080, 720, 3)\n",
      "Stack shape:  (3, 1080, 720)\n"
     ]
    },
    {
     "ename": "ValueError",
     "evalue": "Source shape (3, 1080, 720) is inconsistent with given indexes 1080",
     "output_type": "error",
     "traceback": [
      "\u001b[0;31m---------------------------------------------------------------------------\u001b[0m",
      "\u001b[0;31mValueError\u001b[0m                                Traceback (most recent call last)",
      "\u001b[0;32m<ipython-input-71-0ac5a13378e7>\u001b[0m in \u001b[0;36m<module>\u001b[0;34m\u001b[0m\n\u001b[1;32m     38\u001b[0m     \u001b[0;32mreturn\u001b[0m\u001b[0;34m(\u001b[0m\u001b[0mtopo_stack\u001b[0m\u001b[0;34m)\u001b[0m\u001b[0;34m\u001b[0m\u001b[0;34m\u001b[0m\u001b[0m\n\u001b[1;32m     39\u001b[0m \u001b[0;34m\u001b[0m\u001b[0m\n\u001b[0;32m---> 40\u001b[0;31m \u001b[0mtopo_stack\u001b[0m \u001b[0;34m=\u001b[0m \u001b[0mmake_topo_stack_cog\u001b[0m\u001b[0;34m(\u001b[0m\u001b[0mdem_cog_fn\u001b[0m\u001b[0;34m,\u001b[0m \u001b[0mtopo_stack_cog_fn\u001b[0m\u001b[0;34m)\u001b[0m\u001b[0;34m\u001b[0m\u001b[0;34m\u001b[0m\u001b[0m\n\u001b[0m\u001b[1;32m     41\u001b[0m \u001b[0;34m\u001b[0m\u001b[0m\n\u001b[1;32m     42\u001b[0m \u001b[0;31m# This should work once you figure out the move axis of the stack: need 3 bands\u001b[0m\u001b[0;34m\u001b[0m\u001b[0;34m\u001b[0m\u001b[0;34m\u001b[0m\u001b[0m\n",
      "\u001b[0;32m<ipython-input-71-0ac5a13378e7>\u001b[0m in \u001b[0;36mmake_topo_stack_cog\u001b[0;34m(dem_fn, tsri_cog_fn)\u001b[0m\n\u001b[1;32m     34\u001b[0m \u001b[0;34m\u001b[0m\u001b[0m\n\u001b[1;32m     35\u001b[0m     \u001b[0;31m# TODO: somehow need to move axis of the stack\u001b[0m\u001b[0;34m\u001b[0m\u001b[0;34m\u001b[0m\u001b[0;34m\u001b[0m\u001b[0m\n\u001b[0;32m---> 36\u001b[0;31m     \u001b[0mwrite_cog\u001b[0m\u001b[0;34m(\u001b[0m\u001b[0mtopo_stack\u001b[0m\u001b[0;34m,\u001b[0m \u001b[0mtsri_cog_fn\u001b[0m\u001b[0;34m,\u001b[0m \u001b[0msources\u001b[0m\u001b[0;34m[\u001b[0m\u001b[0;36m0\u001b[0m\u001b[0;34m]\u001b[0m\u001b[0;34m.\u001b[0m\u001b[0mcrs\u001b[0m\u001b[0;34m,\u001b[0m \u001b[0mout_trans\u001b[0m\u001b[0;34m,\u001b[0m \u001b[0;34m[\u001b[0m\u001b[0;34m\"slope\"\u001b[0m\u001b[0;34m,\u001b[0m\u001b[0;34m\"tsri\"\u001b[0m\u001b[0;34m,\u001b[0m\u001b[0;34m\"tpi\"\u001b[0m\u001b[0;34m]\u001b[0m\u001b[0;34m)\u001b[0m\u001b[0;34m\u001b[0m\u001b[0;34m\u001b[0m\u001b[0m\n\u001b[0m\u001b[1;32m     37\u001b[0m \u001b[0;34m\u001b[0m\u001b[0m\n\u001b[1;32m     38\u001b[0m     \u001b[0;32mreturn\u001b[0m\u001b[0;34m(\u001b[0m\u001b[0mtopo_stack\u001b[0m\u001b[0;34m)\u001b[0m\u001b[0;34m\u001b[0m\u001b[0;34m\u001b[0m\u001b[0m\n",
      "\u001b[0;32m<ipython-input-69-e2ce830ae9c1>\u001b[0m in \u001b[0;36mwrite_cog\u001b[0;34m(stack, out_fn, out_crs, out_transform, bandnames)\u001b[0m\n\u001b[1;32m    128\u001b[0m             \u001b[0;31m#mem.write(stack)\u001b[0m\u001b[0;34m\u001b[0m\u001b[0;34m\u001b[0m\u001b[0;34m\u001b[0m\u001b[0m\n\u001b[1;32m    129\u001b[0m             \u001b[0mprint\u001b[0m\u001b[0;34m(\u001b[0m\u001b[0;34m'Stack shape: '\u001b[0m\u001b[0;34m,\u001b[0m \u001b[0mnp\u001b[0m\u001b[0;34m.\u001b[0m\u001b[0mmoveaxis\u001b[0m\u001b[0;34m(\u001b[0m\u001b[0mstack\u001b[0m\u001b[0;34m,\u001b[0m \u001b[0;34m-\u001b[0m\u001b[0;36m1\u001b[0m\u001b[0;34m,\u001b[0m \u001b[0;36m0\u001b[0m\u001b[0;34m)\u001b[0m\u001b[0;34m.\u001b[0m\u001b[0mshape\u001b[0m\u001b[0;34m)\u001b[0m\u001b[0;34m\u001b[0m\u001b[0;34m\u001b[0m\u001b[0m\n\u001b[0;32m--> 130\u001b[0;31m             \u001b[0mmem\u001b[0m\u001b[0;34m.\u001b[0m\u001b[0mwrite\u001b[0m\u001b[0;34m(\u001b[0m\u001b[0mnp\u001b[0m\u001b[0;34m.\u001b[0m\u001b[0mmoveaxis\u001b[0m\u001b[0;34m(\u001b[0m\u001b[0mstack\u001b[0m\u001b[0;34m,\u001b[0m \u001b[0;34m-\u001b[0m\u001b[0;36m1\u001b[0m\u001b[0;34m,\u001b[0m \u001b[0;36m0\u001b[0m\u001b[0;34m)\u001b[0m\u001b[0;34m)\u001b[0m\u001b[0;34m\u001b[0m\u001b[0;34m\u001b[0m\u001b[0m\n\u001b[0m\u001b[1;32m    131\u001b[0m \u001b[0;34m\u001b[0m\u001b[0m\n\u001b[1;32m    132\u001b[0m             \u001b[0mprint\u001b[0m\u001b[0;34m(\u001b[0m\u001b[0;34m'Writing img to memory...'\u001b[0m\u001b[0;34m)\u001b[0m\u001b[0;34m\u001b[0m\u001b[0;34m\u001b[0m\u001b[0m\n",
      "\u001b[0;32mrasterio/_io.pyx\u001b[0m in \u001b[0;36mrasterio._io.DatasetWriterBase.write\u001b[0;34m()\u001b[0m\n",
      "\u001b[0;31mValueError\u001b[0m: Source shape (3, 1080, 720) is inconsistent with given indexes 1080"
     ]
    }
   ],
   "source": [
    "\n",
    "topo_stack_cog_fn = os.path.join(os.path.splitext(dem_cog_fn)[0] + '_topo_stack.tif')\n",
    "\n",
    "def make_topo_stack_cog(dem_fn, tsri_cog_fn):\n",
    "    '''Calcs the topo covars, returns them as masked arrays, masks all where slope=0, stacks, clips, writes\n",
    "    '''\n",
    "    \n",
    "    dem_ds = gdal.Open(str(dem_fn))\n",
    "     \n",
    "    # Slope\n",
    "    print(\"Calculating Slope...\")\n",
    "    slope = gdal.DEMProcessing('', dem_ds, 'slope', format='MEM')\n",
    "    slope_ma = ds_getma(slope)\n",
    "    slope_ma = np.ma.masked_equal(slope_ma, 0)\n",
    "    \n",
    "    # TPI\n",
    "    print(\"Calculating TPI...\")\n",
    "    tpi = gdal.DEMProcessing('', dem_ds, 'tpi', format='MEM')\n",
    "    tpi_ma = ds_getma(tpi)  \n",
    "    tpi_ma = np.ma.masked_where(np.ma.getmask(slope_ma), tpi_ma) \n",
    "    \n",
    "    # TSRI\n",
    "    # topo solar radiation index (a transformation of aspect; 0 - 1) TSRI = 0.5−cos((π/180)(aspect−30))/2\n",
    "    # Matasci et al 2018: https://doi.org/10.1016/j.rse.2017.12.020\n",
    "    print(\"Calculating TSRI...\")\n",
    "    aspect = gdal.DEMProcessing('', dem_ds, 'aspect', format='MEM')\n",
    "    aspect_ma = ds_getma(aspect)\n",
    "    tsri_ma = 0.5 - np.cos((np.pi/180.) * (aspect_ma - 30.))/2.\n",
    "    tsri_ma = np.ma.masked_where(np.ma.getmask(slope_ma), tsri_ma) \n",
    "    \n",
    "    # Stack\n",
    "    topo_stack = np.dstack([slope_ma, tsri_ma, tpi_ma])\n",
    "    \n",
    "    # TODO: CLip stack to original bbox\n",
    "    \n",
    "    # TODO: somehow need to move axis of the stack\n",
    "    write_cog(topo_stack, tsri_cog_fn, sources[0].crs, out_trans, [\"slope\",\"tsri\",\"tpi\"])\n",
    "    \n",
    "    return(topo_stack)\n",
    "\n",
    "#TODO: get shape right\n",
    "topo_stack = make_topo_stack_cog(dem_cog_fn, topo_stack_cog_fn)\n",
    "\n",
    "# This should work once you figure out the move axis of the stack: need 3 bands\n",
    "if False:\n",
    "    n: int = len(topo_stack)\n",
    "    topo_cmaps = [\"cividis\", \"magma\", \"RdBu\"]\n",
    "    print(topo_stack.shape)\n",
    "\n",
    "    for i in range(n):\n",
    "        show(topo_stack[i], cmap=topo_cmaps[i])\n",
    "\n"
   ]
  }
 ],
 "metadata": {
  "kernelspec": {
   "display_name": "Python 3",
   "language": "python",
   "name": "python3"
  },
  "language_info": {
   "codemirror_mode": {
    "name": "ipython",
    "version": 3
   },
   "file_extension": ".py",
   "mimetype": "text/x-python",
   "name": "python",
   "nbconvert_exporter": "python",
   "pygments_lexer": "ipython3",
   "version": "3.7.8"
  }
 },
 "nbformat": 4,
 "nbformat_minor": 4
}
