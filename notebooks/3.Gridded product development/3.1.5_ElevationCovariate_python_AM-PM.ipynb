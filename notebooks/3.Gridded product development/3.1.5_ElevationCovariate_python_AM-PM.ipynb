{
 "cells": [
  {
   "cell_type": "markdown",
   "metadata": {},
   "source": [
    "# Elevation Covariate\n",
    "\n",
    "Read elevation data by a bounding box tile for stacking with other covariates in analysis.\n",
    "Initial version uses SRTM v3 available as Cloud Optimized Geotiffs in MAAP.\n",
    "\n",
    "\n",
    "1. Get bbox of tile\n",
    "2. Buffer/extend bbox at min 1 pixel (can be more, no prob)3\n",
    "3. Read the elev data\n",
    "    1. save in /tmp\n",
    "4. Clip and write_band for elev\n",
    "5. Compute the 3 covars in memory with for loop; for covar in covars: calc, clip, write_band\n",
    "    1. use GDAL DEMProcessing or gdaldem via python os.subprocess.run()\n"
   ]
  },
  {
   "cell_type": "code",
   "execution_count": 4,
   "metadata": {},
   "outputs": [
    {
     "name": "stdout",
     "output_type": "stream",
     "text": [
      "Collecting package metadata (current_repodata.json): ...working... done\n",
      "Solving environment: ...working... done\n",
      "\n",
      "# All requested packages already installed.\n",
      "\n",
      "\n",
      "Note: you may need to restart the kernel to use updated packages.\n"
     ]
    }
   ],
   "source": [
    "#only run this block if needed in a new workspace\n",
    "%conda install -yq -c conda-forge rasterio geopandas folium"
   ]
  },
  {
   "cell_type": "code",
   "execution_count": 5,
   "metadata": {},
   "outputs": [],
   "source": [
    "import sys\n",
    "import json\n",
    "import os\n",
    "from pprint import pprint\n",
    "\n",
    "import rasterio as rio\n",
    "import geopandas as gpd\n",
    "import shapely as shp\n",
    "import folium\n",
    "from shapely.geometry import box\n",
    "from fiona.crs import from_epsg\n",
    "from rasterio.mask import mask\n",
    "from rasterio.warp import *\n",
    "from rasterio.merge import merge\n",
    "from rasterio import windows\n",
    "import numpy as np\n",
    "import matplotlib.pyplot as plt\n",
    "\n",
    "from maap.maap import MAAP\n",
    "maap = MAAP()\n"
   ]
  },
  {
   "cell_type": "markdown",
   "metadata": {},
   "source": [
    "### 1. Get the bbox of the tile"
   ]
  },
  {
   "cell_type": "code",
   "execution_count": 46,
   "metadata": {},
   "outputs": [
    {
     "name": "stdout",
     "output_type": "stream",
     "text": [
      "(-117.3, 50.6, -117.0, 50.9)\n"
     ]
    }
   ],
   "source": [
    "# Get bbox extent\n",
    "geojson_path = '/projects/maap-users/alexdevseed/boreal_tiles_latlong.geojson'\n",
    "bbox_ID = 40349 #ID to match covar testing\n",
    "#bbox_ID = 40311 #temp testing coastal\n",
    "\n",
    "tile_index = gpd.read_file(geojson_path)\n",
    "buffer = 0.001\n",
    "in_geom_buffered = tile_index['geometry'].iloc[(bbox_ID-1)].buffer(buffer)\n",
    "in_bbox = tile_index['geometry'].iloc[(bbox_ID-1)].bounds\n",
    "\n",
    "print(in_bbox)"
   ]
  },
  {
   "cell_type": "markdown",
   "metadata": {},
   "source": [
    "Use the bbox to find DEMs"
   ]
  },
  {
   "cell_type": "code",
   "execution_count": 47,
   "metadata": {},
   "outputs": [
    {
     "data": {
      "text/html": [
       "<div>\n",
       "<style scoped>\n",
       "    .dataframe tbody tr th:only-of-type {\n",
       "        vertical-align: middle;\n",
       "    }\n",
       "\n",
       "    .dataframe tbody tr th {\n",
       "        vertical-align: top;\n",
       "    }\n",
       "\n",
       "    .dataframe thead th {\n",
       "        text-align: right;\n",
       "    }\n",
       "</style>\n",
       "<table border=\"1\" class=\"dataframe\">\n",
       "  <thead>\n",
       "    <tr style=\"text-align: right;\">\n",
       "      <th></th>\n",
       "      <th>id</th>\n",
       "      <th>key</th>\n",
       "      <th>s3</th>\n",
       "      <th>geometry</th>\n",
       "    </tr>\n",
       "  </thead>\n",
       "  <tbody>\n",
       "    <tr>\n",
       "      <th>5100</th>\n",
       "      <td>Copernicus_DSM_COG_10_N50_00_W118_00_DEM</td>\n",
       "      <td>Copernicus_DSM_COG_10_N50_00_W118_00_DEM/Coper...</td>\n",
       "      <td>s3://copernicus-dem-30m/Copernicus_DSM_COG_10_...</td>\n",
       "      <td>POLYGON ((-118.00021 50.00014, -118.00021 51.0...</td>\n",
       "    </tr>\n",
       "    <tr>\n",
       "      <th>5101</th>\n",
       "      <td>Copernicus_DSM_COG_10_N50_00_W117_00_DEM</td>\n",
       "      <td>Copernicus_DSM_COG_10_N50_00_W117_00_DEM/Coper...</td>\n",
       "      <td>s3://copernicus-dem-30m/Copernicus_DSM_COG_10_...</td>\n",
       "      <td>POLYGON ((-117.00021 50.00014, -117.00021 51.0...</td>\n",
       "    </tr>\n",
       "  </tbody>\n",
       "</table>\n",
       "</div>"
      ],
      "text/plain": [
       "                                            id  \\\n",
       "5100  Copernicus_DSM_COG_10_N50_00_W118_00_DEM   \n",
       "5101  Copernicus_DSM_COG_10_N50_00_W117_00_DEM   \n",
       "\n",
       "                                                    key  \\\n",
       "5100  Copernicus_DSM_COG_10_N50_00_W118_00_DEM/Coper...   \n",
       "5101  Copernicus_DSM_COG_10_N50_00_W117_00_DEM/Coper...   \n",
       "\n",
       "                                                     s3  \\\n",
       "5100  s3://copernicus-dem-30m/Copernicus_DSM_COG_10_...   \n",
       "5101  s3://copernicus-dem-30m/Copernicus_DSM_COG_10_...   \n",
       "\n",
       "                                               geometry  \n",
       "5100  POLYGON ((-118.00021 50.00014, -118.00021 51.0...  \n",
       "5101  POLYGON ((-117.00021 50.00014, -117.00021 51.0...  "
      ]
     },
     "execution_count": 47,
     "metadata": {},
     "output_type": "execute_result"
    }
   ],
   "source": [
    "# Read the copernicus index file\n",
    "cop30dem_geojson = '/projects/maap-users/alexdevseed/dem30m_tiles.geojson'\n",
    "cop30dem = gpd.read_file(cop30dem_geojson)\n",
    "\n",
    "# intersect with the bbox tile\n",
    "selection = cop30dem.loc[cop30dem.intersects(in_geom_buffered)]\n",
    "selection.head()"
   ]
  },
  {
   "cell_type": "markdown",
   "metadata": {},
   "source": [
    "### 2. Buffer/extend bbox"
   ]
  },
  {
   "cell_type": "code",
   "execution_count": 48,
   "metadata": {},
   "outputs": [
    {
     "name": "stdout",
     "output_type": "stream",
     "text": [
      "(-117.301, 50.599000000000004, -116.999, 50.900999999999996)\n"
     ]
    },
    {
     "data": {
      "text/html": [
       "<div style=\"width:100%;\"><div style=\"position:relative;width:100%;height:0;padding-bottom:60%;\"><span style=\"color:#565656\">Make this Notebook Trusted to load map: File -> Trust Notebook</span><iframe src=\"about:blank\" style=\"position:absolute;width:100%;height:100%;left:0;top:0;border:none !important;\" data-html=%3C%21DOCTYPE%20html%3E%0A%3Chead%3E%20%20%20%20%0A%20%20%20%20%3Cmeta%20http-equiv%3D%22content-type%22%20content%3D%22text/html%3B%20charset%3DUTF-8%22%20/%3E%0A%20%20%20%20%0A%20%20%20%20%20%20%20%20%3Cscript%3E%0A%20%20%20%20%20%20%20%20%20%20%20%20L_NO_TOUCH%20%3D%20false%3B%0A%20%20%20%20%20%20%20%20%20%20%20%20L_DISABLE_3D%20%3D%20false%3B%0A%20%20%20%20%20%20%20%20%3C/script%3E%0A%20%20%20%20%0A%20%20%20%20%3Cstyle%3Ehtml%2C%20body%20%7Bwidth%3A%20100%25%3Bheight%3A%20100%25%3Bmargin%3A%200%3Bpadding%3A%200%3B%7D%3C/style%3E%0A%20%20%20%20%3Cstyle%3E%23map%20%7Bposition%3Aabsolute%3Btop%3A0%3Bbottom%3A0%3Bright%3A0%3Bleft%3A0%3B%7D%3C/style%3E%0A%20%20%20%20%3Cscript%20src%3D%22https%3A//cdn.jsdelivr.net/npm/leaflet%401.6.0/dist/leaflet.js%22%3E%3C/script%3E%0A%20%20%20%20%3Cscript%20src%3D%22https%3A//code.jquery.com/jquery-1.12.4.min.js%22%3E%3C/script%3E%0A%20%20%20%20%3Cscript%20src%3D%22https%3A//maxcdn.bootstrapcdn.com/bootstrap/3.2.0/js/bootstrap.min.js%22%3E%3C/script%3E%0A%20%20%20%20%3Cscript%20src%3D%22https%3A//cdnjs.cloudflare.com/ajax/libs/Leaflet.awesome-markers/2.0.2/leaflet.awesome-markers.js%22%3E%3C/script%3E%0A%20%20%20%20%3Clink%20rel%3D%22stylesheet%22%20href%3D%22https%3A//cdn.jsdelivr.net/npm/leaflet%401.6.0/dist/leaflet.css%22/%3E%0A%20%20%20%20%3Clink%20rel%3D%22stylesheet%22%20href%3D%22https%3A//maxcdn.bootstrapcdn.com/bootstrap/3.2.0/css/bootstrap.min.css%22/%3E%0A%20%20%20%20%3Clink%20rel%3D%22stylesheet%22%20href%3D%22https%3A//maxcdn.bootstrapcdn.com/bootstrap/3.2.0/css/bootstrap-theme.min.css%22/%3E%0A%20%20%20%20%3Clink%20rel%3D%22stylesheet%22%20href%3D%22https%3A//maxcdn.bootstrapcdn.com/font-awesome/4.6.3/css/font-awesome.min.css%22/%3E%0A%20%20%20%20%3Clink%20rel%3D%22stylesheet%22%20href%3D%22https%3A//cdnjs.cloudflare.com/ajax/libs/Leaflet.awesome-markers/2.0.2/leaflet.awesome-markers.css%22/%3E%0A%20%20%20%20%3Clink%20rel%3D%22stylesheet%22%20href%3D%22https%3A//cdn.jsdelivr.net/gh/python-visualization/folium/folium/templates/leaflet.awesome.rotate.min.css%22/%3E%0A%20%20%20%20%0A%20%20%20%20%20%20%20%20%20%20%20%20%3Cmeta%20name%3D%22viewport%22%20content%3D%22width%3Ddevice-width%2C%0A%20%20%20%20%20%20%20%20%20%20%20%20%20%20%20%20initial-scale%3D1.0%2C%20maximum-scale%3D1.0%2C%20user-scalable%3Dno%22%20/%3E%0A%20%20%20%20%20%20%20%20%20%20%20%20%3Cstyle%3E%0A%20%20%20%20%20%20%20%20%20%20%20%20%20%20%20%20%23map_096c1d9168d544478fd410d1e6b725d4%20%7B%0A%20%20%20%20%20%20%20%20%20%20%20%20%20%20%20%20%20%20%20%20position%3A%20relative%3B%0A%20%20%20%20%20%20%20%20%20%20%20%20%20%20%20%20%20%20%20%20width%3A%20100.0%25%3B%0A%20%20%20%20%20%20%20%20%20%20%20%20%20%20%20%20%20%20%20%20height%3A%20100.0%25%3B%0A%20%20%20%20%20%20%20%20%20%20%20%20%20%20%20%20%20%20%20%20left%3A%200.0%25%3B%0A%20%20%20%20%20%20%20%20%20%20%20%20%20%20%20%20%20%20%20%20top%3A%200.0%25%3B%0A%20%20%20%20%20%20%20%20%20%20%20%20%20%20%20%20%7D%0A%20%20%20%20%20%20%20%20%20%20%20%20%3C/style%3E%0A%20%20%20%20%20%20%20%20%0A%3C/head%3E%0A%3Cbody%3E%20%20%20%20%0A%20%20%20%20%0A%20%20%20%20%20%20%20%20%20%20%20%20%3Cdiv%20class%3D%22folium-map%22%20id%3D%22map_096c1d9168d544478fd410d1e6b725d4%22%20%3E%3C/div%3E%0A%20%20%20%20%20%20%20%20%0A%3C/body%3E%0A%3Cscript%3E%20%20%20%20%0A%20%20%20%20%0A%20%20%20%20%20%20%20%20%20%20%20%20var%20map_096c1d9168d544478fd410d1e6b725d4%20%3D%20L.map%28%0A%20%20%20%20%20%20%20%20%20%20%20%20%20%20%20%20%22map_096c1d9168d544478fd410d1e6b725d4%22%2C%0A%20%20%20%20%20%20%20%20%20%20%20%20%20%20%20%20%7B%0A%20%20%20%20%20%20%20%20%20%20%20%20%20%20%20%20%20%20%20%20center%3A%20%5B50.6%2C%20-117.0%5D%2C%0A%20%20%20%20%20%20%20%20%20%20%20%20%20%20%20%20%20%20%20%20crs%3A%20L.CRS.EPSG3857%2C%0A%20%20%20%20%20%20%20%20%20%20%20%20%20%20%20%20%20%20%20%20zoom%3A%2015%2C%0A%20%20%20%20%20%20%20%20%20%20%20%20%20%20%20%20%20%20%20%20zoomControl%3A%20true%2C%0A%20%20%20%20%20%20%20%20%20%20%20%20%20%20%20%20%20%20%20%20preferCanvas%3A%20false%2C%0A%20%20%20%20%20%20%20%20%20%20%20%20%20%20%20%20%7D%0A%20%20%20%20%20%20%20%20%20%20%20%20%29%3B%0A%0A%20%20%20%20%20%20%20%20%20%20%20%20%0A%0A%20%20%20%20%20%20%20%20%0A%20%20%20%20%0A%20%20%20%20%20%20%20%20%20%20%20%20var%20tile_layer_db328325aaaf4bdeafab08438c434629%20%3D%20L.tileLayer%28%0A%20%20%20%20%20%20%20%20%20%20%20%20%20%20%20%20%22https%3A//cartodb-basemaps-%7Bs%7D.global.ssl.fastly.net/light_all/%7Bz%7D/%7Bx%7D/%7By%7D.png%22%2C%0A%20%20%20%20%20%20%20%20%20%20%20%20%20%20%20%20%7B%22attribution%22%3A%20%22%5Cu0026copy%3B%20%5Cu003ca%20href%3D%5C%22http%3A//www.openstreetmap.org/copyright%5C%22%5Cu003eOpenStreetMap%5Cu003c/a%5Cu003e%20contributors%20%5Cu0026copy%3B%20%5Cu003ca%20href%3D%5C%22http%3A//cartodb.com/attributions%5C%22%5Cu003eCartoDB%5Cu003c/a%5Cu003e%2C%20CartoDB%20%5Cu003ca%20href%20%3D%5C%22http%3A//cartodb.com/attributions%5C%22%5Cu003eattributions%5Cu003c/a%5Cu003e%22%2C%20%22detectRetina%22%3A%20false%2C%20%22maxNativeZoom%22%3A%2018%2C%20%22maxZoom%22%3A%2018%2C%20%22minZoom%22%3A%200%2C%20%22noWrap%22%3A%20false%2C%20%22opacity%22%3A%201%2C%20%22subdomains%22%3A%20%22abc%22%2C%20%22tms%22%3A%20false%7D%0A%20%20%20%20%20%20%20%20%20%20%20%20%29.addTo%28map_096c1d9168d544478fd410d1e6b725d4%29%3B%0A%20%20%20%20%20%20%20%20%0A%20%20%20%20%0A%0A%20%20%20%20%20%20%20%20function%20geo_json_4ab4c90a43af47249901c70ca8f097f8_onEachFeature%28feature%2C%20layer%29%20%7B%0A%20%20%20%20%20%20%20%20%20%20%20%20layer.on%28%7B%0A%20%20%20%20%20%20%20%20%20%20%20%20%7D%29%3B%0A%20%20%20%20%20%20%20%20%7D%3B%0A%20%20%20%20%20%20%20%20var%20geo_json_4ab4c90a43af47249901c70ca8f097f8%20%3D%20L.geoJson%28null%2C%20%7B%0A%20%20%20%20%20%20%20%20%20%20%20%20%20%20%20%20onEachFeature%3A%20geo_json_4ab4c90a43af47249901c70ca8f097f8_onEachFeature%2C%0A%20%20%20%20%20%20%20%20%20%20%20%20%0A%20%20%20%20%20%20%20%20%7D%29%3B%0A%0A%20%20%20%20%20%20%20%20function%20geo_json_4ab4c90a43af47249901c70ca8f097f8_add%20%28data%29%20%7B%0A%20%20%20%20%20%20%20%20%20%20%20%20geo_json_4ab4c90a43af47249901c70ca8f097f8%0A%20%20%20%20%20%20%20%20%20%20%20%20%20%20%20%20.addData%28data%29%0A%20%20%20%20%20%20%20%20%20%20%20%20%20%20%20%20.addTo%28map_096c1d9168d544478fd410d1e6b725d4%29%3B%0A%20%20%20%20%20%20%20%20%7D%0A%20%20%20%20%20%20%20%20%20%20%20%20geo_json_4ab4c90a43af47249901c70ca8f097f8_add%28%7B%22bbox%22%3A%20%5B-118.00020833333335%2C%2050.000138888888884%2C%20-116.00020833333335%2C%2051.000138888888884%5D%2C%20%22features%22%3A%20%5B%7B%22bbox%22%3A%20%5B-118.00020833333335%2C%2050.000138888888884%2C%20-117.00020833333335%2C%2051.000138888888884%5D%2C%20%22geometry%22%3A%20%7B%22coordinates%22%3A%20%5B%5B%5B-118.00020833333335%2C%2050.000138888888884%5D%2C%20%5B-118.00020833333335%2C%2051.000138888888884%5D%2C%20%5B-117.00020833333335%2C%2051.000138888888884%5D%2C%20%5B-117.00020833333335%2C%2050.000138888888884%5D%2C%20%5B-118.00020833333335%2C%2050.000138888888884%5D%5D%5D%2C%20%22type%22%3A%20%22Polygon%22%7D%2C%20%22id%22%3A%20%225100%22%2C%20%22properties%22%3A%20%7B%22id%22%3A%20%22Copernicus_DSM_COG_10_N50_00_W118_00_DEM%22%2C%20%22key%22%3A%20%22Copernicus_DSM_COG_10_N50_00_W118_00_DEM/Copernicus_DSM_COG_10_N50_00_W118_00_DEM.tif%22%2C%20%22s3%22%3A%20%22s3%3A//copernicus-dem-30m/Copernicus_DSM_COG_10_N50_00_W118_00_DEM/Copernicus_DSM_COG_10_N50_00_W118_00_DEM.tif%22%7D%2C%20%22type%22%3A%20%22Feature%22%7D%2C%20%7B%22bbox%22%3A%20%5B-117.00020833333335%2C%2050.000138888888884%2C%20-116.00020833333335%2C%2051.000138888888884%5D%2C%20%22geometry%22%3A%20%7B%22coordinates%22%3A%20%5B%5B%5B-117.00020833333335%2C%2050.000138888888884%5D%2C%20%5B-117.00020833333335%2C%2051.000138888888884%5D%2C%20%5B-116.00020833333335%2C%2051.000138888888884%5D%2C%20%5B-116.00020833333335%2C%2050.000138888888884%5D%2C%20%5B-117.00020833333335%2C%2050.000138888888884%5D%5D%5D%2C%20%22type%22%3A%20%22Polygon%22%7D%2C%20%22id%22%3A%20%225101%22%2C%20%22properties%22%3A%20%7B%22id%22%3A%20%22Copernicus_DSM_COG_10_N50_00_W117_00_DEM%22%2C%20%22key%22%3A%20%22Copernicus_DSM_COG_10_N50_00_W117_00_DEM/Copernicus_DSM_COG_10_N50_00_W117_00_DEM.tif%22%2C%20%22s3%22%3A%20%22s3%3A//copernicus-dem-30m/Copernicus_DSM_COG_10_N50_00_W117_00_DEM/Copernicus_DSM_COG_10_N50_00_W117_00_DEM.tif%22%7D%2C%20%22type%22%3A%20%22Feature%22%7D%5D%2C%20%22type%22%3A%20%22FeatureCollection%22%7D%29%3B%0A%0A%20%20%20%20%20%20%20%20%0A%20%20%20%20%0A%20%20%20%20%20%20%20%20function%20geo_json_556dab02d3ae4549b1c6a044c75285ef_styler%28feature%29%20%7B%0A%20%20%20%20%20%20%20%20%20%20%20%20switch%28feature.id%29%20%7B%0A%20%20%20%20%20%20%20%20%20%20%20%20%20%20%20%20default%3A%0A%20%20%20%20%20%20%20%20%20%20%20%20%20%20%20%20%20%20%20%20return%20%7B%22color%22%3A%20%22%23ff0000%22%2C%20%22fillColor%22%3A%20%22%23ff0000%22%7D%3B%0A%20%20%20%20%20%20%20%20%20%20%20%20%7D%0A%20%20%20%20%20%20%20%20%7D%0A%0A%20%20%20%20%20%20%20%20function%20geo_json_556dab02d3ae4549b1c6a044c75285ef_onEachFeature%28feature%2C%20layer%29%20%7B%0A%20%20%20%20%20%20%20%20%20%20%20%20layer.on%28%7B%0A%20%20%20%20%20%20%20%20%20%20%20%20%7D%29%3B%0A%20%20%20%20%20%20%20%20%7D%3B%0A%20%20%20%20%20%20%20%20var%20geo_json_556dab02d3ae4549b1c6a044c75285ef%20%3D%20L.geoJson%28null%2C%20%7B%0A%20%20%20%20%20%20%20%20%20%20%20%20%20%20%20%20onEachFeature%3A%20geo_json_556dab02d3ae4549b1c6a044c75285ef_onEachFeature%2C%0A%20%20%20%20%20%20%20%20%20%20%20%20%0A%20%20%20%20%20%20%20%20%20%20%20%20%20%20%20%20style%3A%20geo_json_556dab02d3ae4549b1c6a044c75285ef_styler%2C%0A%20%20%20%20%20%20%20%20%7D%29%3B%0A%0A%20%20%20%20%20%20%20%20function%20geo_json_556dab02d3ae4549b1c6a044c75285ef_add%20%28data%29%20%7B%0A%20%20%20%20%20%20%20%20%20%20%20%20geo_json_556dab02d3ae4549b1c6a044c75285ef%0A%20%20%20%20%20%20%20%20%20%20%20%20%20%20%20%20.addData%28data%29%0A%20%20%20%20%20%20%20%20%20%20%20%20%20%20%20%20.addTo%28map_096c1d9168d544478fd410d1e6b725d4%29%3B%0A%20%20%20%20%20%20%20%20%7D%0A%20%20%20%20%20%20%20%20%20%20%20%20geo_json_556dab02d3ae4549b1c6a044c75285ef_add%28%7B%22features%22%3A%20%5B%7B%22geometry%22%3A%20%7B%22coordinates%22%3A%20%5B%5B%5B-117.0%2C%2050.6%5D%2C%20%5B-117.0%2C%2050.9%5D%2C%20%5B-117.3%2C%2050.9%5D%2C%20%5B-117.3%2C%2050.6%5D%2C%20%5B-117.0%2C%2050.6%5D%5D%5D%2C%20%22type%22%3A%20%22Polygon%22%7D%2C%20%22id%22%3A%20%220%22%2C%20%22type%22%3A%20%22Feature%22%7D%5D%2C%20%22type%22%3A%20%22FeatureCollection%22%7D%29%3B%0A%0A%20%20%20%20%20%20%20%20%0A%20%20%20%20%0A%20%20%20%20%20%20%20%20function%20geo_json_26d1bae792f047da87f63d5372ca54db_styler%28feature%29%20%7B%0A%20%20%20%20%20%20%20%20%20%20%20%20switch%28feature.id%29%20%7B%0A%20%20%20%20%20%20%20%20%20%20%20%20%20%20%20%20default%3A%0A%20%20%20%20%20%20%20%20%20%20%20%20%20%20%20%20%20%20%20%20return%20%7B%22color%22%3A%20%22%23fdae61%22%2C%20%22fillColor%22%3A%20%22%23fdae61%22%7D%3B%0A%20%20%20%20%20%20%20%20%20%20%20%20%7D%0A%20%20%20%20%20%20%20%20%7D%0A%0A%20%20%20%20%20%20%20%20function%20geo_json_26d1bae792f047da87f63d5372ca54db_onEachFeature%28feature%2C%20layer%29%20%7B%0A%20%20%20%20%20%20%20%20%20%20%20%20layer.on%28%7B%0A%20%20%20%20%20%20%20%20%20%20%20%20%7D%29%3B%0A%20%20%20%20%20%20%20%20%7D%3B%0A%20%20%20%20%20%20%20%20var%20geo_json_26d1bae792f047da87f63d5372ca54db%20%3D%20L.geoJson%28null%2C%20%7B%0A%20%20%20%20%20%20%20%20%20%20%20%20%20%20%20%20onEachFeature%3A%20geo_json_26d1bae792f047da87f63d5372ca54db_onEachFeature%2C%0A%20%20%20%20%20%20%20%20%20%20%20%20%0A%20%20%20%20%20%20%20%20%20%20%20%20%20%20%20%20style%3A%20geo_json_26d1bae792f047da87f63d5372ca54db_styler%2C%0A%20%20%20%20%20%20%20%20%7D%29%3B%0A%0A%20%20%20%20%20%20%20%20function%20geo_json_26d1bae792f047da87f63d5372ca54db_add%20%28data%29%20%7B%0A%20%20%20%20%20%20%20%20%20%20%20%20geo_json_26d1bae792f047da87f63d5372ca54db%0A%20%20%20%20%20%20%20%20%20%20%20%20%20%20%20%20.addData%28data%29%0A%20%20%20%20%20%20%20%20%20%20%20%20%20%20%20%20.addTo%28map_096c1d9168d544478fd410d1e6b725d4%29%3B%0A%20%20%20%20%20%20%20%20%7D%0A%20%20%20%20%20%20%20%20%20%20%20%20geo_json_26d1bae792f047da87f63d5372ca54db_add%28%7B%22features%22%3A%20%5B%7B%22geometry%22%3A%20%7B%22coordinates%22%3A%20%5B%5B%5B-116.999%2C%2050.599000000000004%5D%2C%20%5B-116.999%2C%2050.900999999999996%5D%2C%20%5B-117.301%2C%2050.900999999999996%5D%2C%20%5B-117.301%2C%2050.599000000000004%5D%2C%20%5B-116.999%2C%2050.599000000000004%5D%5D%5D%2C%20%22type%22%3A%20%22Polygon%22%7D%2C%20%22id%22%3A%20%220%22%2C%20%22type%22%3A%20%22Feature%22%7D%5D%2C%20%22type%22%3A%20%22FeatureCollection%22%7D%29%3B%0A%0A%20%20%20%20%20%20%20%20%0A%3C/script%3E onload=\"this.contentDocument.open();this.contentDocument.write(    decodeURIComponent(this.getAttribute('data-html')));this.contentDocument.close();\" allowfullscreen webkitallowfullscreen mozallowfullscreen></iframe></div></div>"
      ],
      "text/plain": [
       "<folium.folium.Map at 0x7fdffdd96050>"
      ]
     },
     "execution_count": 48,
     "metadata": {},
     "output_type": "execute_result"
    }
   ],
   "source": [
    "# Reformat bbox\n",
    "#bbox_list =  [float(value) for value in converted_in_bbox.split(',')]\n",
    "bbox_list = in_bbox\n",
    "# Elevation covar calc will require consideration of tile edges. We want seemlessness across adjacent tiles\n",
    "# To handle this, use this buffered bbox to extract elevation data, process it to the covars, then clip by original bbox\n",
    "bbox_buffered = in_geom_buffered.bounds\n",
    "# TODO: Probably need a 'bbox_buffered_list' from the above geometry...\n",
    "print(bbox_buffered)\n",
    "\n",
    "# Get centroid of bbox\n",
    "#center = shp.geometry.box(*bbox_list).centroid\n",
    "center = in_geom_buffered.centroid\n",
    "\n",
    "m = folium.Map(\n",
    "    # Zoom to center\n",
    "    #location=[center.y,center.x],\n",
    "    # Zoom to corner\n",
    "    location=[bbox_list[1], bbox_list[2]],\n",
    "    tiles=\"cartodbpositron\",\n",
    "    zoom_start=15,\n",
    ")\n",
    "\n",
    "bbox_style = {'fillColor': '#ff0000', 'color': '#ff0000'}\n",
    "bbox_buf_style = {'fillColor': '#fdae61', 'color': '#fdae61'}\n",
    "\n",
    "folium.GeoJson(selection, name=\"tiles\").add_to(m)\n",
    "folium.GeoJson(shp.geometry.box(*bbox_list), \n",
    "               name=\"bbox\",\n",
    "               style_function=lambda x:bbox_style).add_to(m)\n",
    "folium.GeoJson(shp.geometry.box(*bbox_buffered), \n",
    "               name=\"bbox_buf\",\n",
    "               style_function=lambda x:bbox_buf_style).add_to(m)\n",
    "m"
   ]
  },
  {
   "cell_type": "markdown",
   "metadata": {},
   "source": [
    "### Read the elevation data (for the bbox)\n",
    "\n",
    "For each result read the subwindow. After reading all the subwindows, merge them together as a single  array. "
   ]
  },
  {
   "cell_type": "code",
   "execution_count": 18,
   "metadata": {},
   "outputs": [],
   "source": [
    "import rasterio as rio\n",
    "from rasterio.merge import merge\n",
    "from rasterio.session import AWSSession \n",
    "from rasterio.plot import show\n",
    "import boto3\n",
    "from matplotlib.pyplot import imshow\n",
    "import numpy as np\n",
    "import numpy.ma as ma\n",
    "from pyproj import Proj, Transformer\n",
    "\n",
    "def hillshade(array,azimuth,angle_altitude):\n",
    "    azimuth = 360.0 - azimuth \n",
    "\n",
    "    x, y = np.gradient(array)\n",
    "    slope = np.pi/2. - np.arctan(np.sqrt(x*x + y*y))\n",
    "    aspect = np.arctan2(-x, y)\n",
    "    azimuthrad = azimuth*np.pi/180.\n",
    "    altituderad = angle_altitude*np.pi/180.\n",
    "\n",
    "    shaded = np.sin(altituderad)*np.sin(slope) + np.cos(altituderad)*np.cos(slope)*np.cos((azimuthrad - np.pi/2.) - aspect)\n",
    "\n",
    "    return 255*(shaded + 1)/2\n",
    "\n",
    "def plot_band_array(band_array,refl_extent,title,cbar_label,colormap='spectral',alpha=1):\n",
    "    plt.imshow(band_array,extent=refl_extent,alpha=alpha); \n",
    "    cbar = plt.colorbar(); plt.set_cmap(colormap); \n",
    "    cbar.set_label(cbar_label,rotation=270,labelpad=20)\n",
    "    plt.title(title); ax = plt.gca(); \n",
    "    ax.ticklabel_format(useOffset=False, style='plain') #do not use scientific notation #\n",
    "    rotatexlabels = plt.setp(ax.get_xticklabels(),rotation=90) #rotate x tick labels 90 degree"
   ]
  },
  {
   "cell_type": "code",
   "execution_count": 39,
   "metadata": {},
   "outputs": [
    {
     "data": {
      "text/plain": [
       "['s3://copernicus-dem-30m/Copernicus_DSM_COG_10_N50_00_W129_00_DEM/Copernicus_DSM_COG_10_N50_00_W129_00_DEM.tif']"
      ]
     },
     "execution_count": 39,
     "metadata": {},
     "output_type": "execute_result"
    }
   ],
   "source": [
    "# Set up and aws session\n",
    "aws_session = AWSSession(boto3.Session())\n",
    "# Get the s3 urls to the granules\n",
    "file_s3 = selection[\"s3\"].to_list()\n",
    "file_s3.sort()\n",
    "file_s3"
   ]
  },
  {
   "cell_type": "code",
   "execution_count": 40,
   "metadata": {},
   "outputs": [
    {
     "data": {
      "image/png": "[encoded data removed]",
      "text/plain": [
       "<Figure size 432x288 with 1 Axes>"
      ]
     },
     "metadata": {
      "needs_background": "light"
     },
     "output_type": "display_data"
    },
    {
     "data": {
      "text/plain": [
       "<AxesSubplot:>"
      ]
     },
     "execution_count": 40,
     "metadata": {},
     "output_type": "execute_result"
    }
   ],
   "source": [
    "# prove that we can read the aws files, an overview should be faster\n",
    "# https://automating-gis-processes.github.io/CSC/notebooks/L5/read-cogs.html\n",
    "with rio.Env(aws_session):\n",
    "    with rio.open(file_s3[0], 'r') as src:\n",
    "        # List of overviews from biggest to smallest\n",
    "        oviews = src.overviews(1)\n",
    "\n",
    "        # Retrieve the smallest thumbnail\n",
    "        oview = oviews[1]\n",
    "        thumbnail = src.read(1, out_shape=(1, int(src.height // oview), int(src.width // oview)))\n",
    "\n",
    "show(thumbnail)"
   ]
  },
  {
   "cell_type": "code",
   "execution_count": 43,
   "metadata": {},
   "outputs": [],
   "source": [
    "# Create a mosaic from all the images\n",
    "with rio.Env(aws_session):\n",
    "    sources = [rio.open(raster) for raster in file_s3]"
   ]
  },
  {
   "cell_type": "code",
   "execution_count": 44,
   "metadata": {},
   "outputs": [],
   "source": [
    "# Merge the source files\n",
    "# TODO: test passing all s3 sources\n",
    "mosaic, out_trans = merge(sources, bounds = bbox_list)"
   ]
  },
  {
   "cell_type": "code",
   "execution_count": 45,
   "metadata": {},
   "outputs": [
    {
     "data": {
      "image/png": "[encoded data removed]",
      "text/plain": [
       "<Figure size 432x288 with 1 Axes>"
      ]
     },
     "metadata": {
      "needs_background": "light"
     },
     "output_type": "display_data"
    },
    {
     "data": {
      "text/plain": [
       "<AxesSubplot:>"
      ]
     },
     "execution_count": 45,
     "metadata": {},
     "output_type": "execute_result"
    }
   ],
   "source": [
    "# Mask the NoData values so it can be plotted correctly\n",
    "# Since the DEM doesn't have nodata we need a Coastal/Water mask if we want to drop those pixels\n",
    "#masked_mosaic = ma.masked_values(mosaic, int(sources[0].nodatavals[0]))\n",
    "show(mosaic, cmap = 'terrain')"
   ]
  },
  {
   "cell_type": "code",
   "execution_count": 42,
   "metadata": {},
   "outputs": [
    {
     "data": {
      "text/plain": [
       "{'driver': 'GTiff', 'dtype': 'float32', 'nodata': None, 'width': 2400, 'height': 3600, 'count': 1, 'crs': CRS.from_epsg(4326), 'transform': Affine(0.00041666666666666664, 0.0, -129.00020833333335,\n",
       "       0.0, -0.0002777777777777778, 51.00013888888889), 'blockxsize': 1024, 'blockysize': 1024, 'tiled': True, 'compress': 'deflate', 'interleave': 'band'}"
      ]
     },
     "execution_count": 42,
     "metadata": {},
     "output_type": "execute_result"
    }
   ],
   "source": []
  },
  {
   "cell_type": "markdown",
   "metadata": {},
   "source": [
    "### Write Results as Cloud Optimized Geotiff (Optional)\n",
    "This step is included just to demonstrate writing the results to file for use in a later processing step."
   ]
  },
  {
   "cell_type": "code",
   "execution_count": null,
   "metadata": {},
   "outputs": [],
   "source": [
    "# Functions copied from 3.1.2\n",
    "# TODO: create library of functions used acrosss notebooks\n",
    "def define_raster(file, in_bbox, epsg=\"epsg:4326\"):\n",
    "    '''Read the first raster to get its transform and crs'''\n",
    "    with rio.open(file, 'r') as f:\n",
    "        bbox = transform_bounds(epsg, f.crs, *in_bbox)\n",
    "        #w = windows.from_bounds(*bbox, transform=f.transform)\n",
    "        #band = f.read(1, window=w, masked=True)\n",
    "        band, out_transform = merge([f],bounds=bbox)\n",
    "    return f.crs, out_transform\n",
    "        \n",
    "def MaskArrays(file, in_bbox, epsg=\"epsg:4326\"):\n",
    "    '''Read a window of data from the raster matching the tile bbox'''\n",
    "    print(file)\n",
    "    with rio.open(file, 'r') as f:\n",
    "        bbox = transform_bounds(epsg, f.crs, *in_bbox)\n",
    "        #w = windows.from_bounds(*bbox, transform=f.transform)\n",
    "        #band = f.read(1, window=w, masked=True)\n",
    "        band, out_transform = merge([f],bounds=bbox)\n",
    "    return np.ma.masked_array(band[0].astype(float), mask=f.nodata)\n",
    "\n",
    "def Write_to_disk(comp_stack, out_name):\n",
    "    print(\"Writing to disk: {}\".format(out_name))\n",
    "    #TODO: full COG writing: higher compression, overviews, tile size, nodata\n",
    "    kwargs=({'driver':'GTiff',\n",
    "             'height':comp_stack.shape[0],\n",
    "             'width':comp_stack.shape[1],\n",
    "             'count':comp_stack.shape[2],\n",
    "             'dtype':comp_stack.dtype,\n",
    "             'crs':out_crs,\n",
    "             'transform':out_transform,   #<--- TODO: should 'out_transform' be an input to this function?\n",
    "             'compress':'deflate'\n",
    "            })\n",
    "    with rasterio.open(out_name, 'w', **kwargs) as dst:\n",
    "        dst.write(np.moveaxis(comp_stack, [0, 1, 2], [2, 1, 0]))"
   ]
  },
  {
   "cell_type": "code",
   "execution_count": null,
   "metadata": {},
   "outputs": [],
   "source": [
    "# TODO: format outname correctly to coincide with Landsat covars\n",
    "data_path = \"/projects/maap-users/username/\"\n",
    "tileid = \"example\"\n",
    "ext = \"_dem.tif\"\n",
    "dem_cog_fn = os.path.join(data_path, \".\".join([tileid, ext]))\n",
    "# TODO: \n",
    "#define_raster()\n",
    "#Write_to_disk(masked_mosaic, dem_cog_fn)"
   ]
  },
  {
   "cell_type": "markdown",
   "metadata": {},
   "source": [
    "### Derive topographic covariates from DEM\n",
    "This step uses gdaldem to access the DEM COG, calc a topo covar, and write each covariate to a separate COG"
   ]
  },
  {
   "cell_type": "code",
   "execution_count": null,
   "metadata": {},
   "outputs": [],
   "source": [
    "import os\n",
    "# Format elev covar names\n",
    "# example path\n",
    "\n",
    "slope_cog_fn = \"\".join(os.path.splitext(dem_cog_fn)[0], '_slope.tif')\n",
    "tpi_cog_fn   = \"\".join(os.path.splitext(dem_cog_fn)[0], '_tpi.tif')\n",
    "tsri_cog_fn  = \"\".join(os.path.splitext(dem_cog_fn)[0], '_tsri.tif')"
   ]
  },
  {
   "cell_type": "code",
   "execution_count": null,
   "metadata": {},
   "outputs": [],
   "source": [
    "from osgeo import gdal\n",
    "\n",
    "def make_tsri(elevation, tsri_cog_fn):\n",
    "    # TSRI\n",
    "    # topo solar radiation index (a transformation of aspect; 0 - 1) TSRI = 0.5−cos((π/180)(aspect−30))/2\n",
    "    # Matasci et al 2018: https://doi.org/10.1016/j.rse.2017.12.020\n",
    "    # Use gdaldem API to handle tmp aspect calc in memory\n",
    "    # Aspect is an intermediate step before calc'ing TSRI. Should we hold it in memory?\n",
    "    print(\"Calculating Aspect from masked dem mosaic...\")\n",
    "    aspect = gdal.DEMProcessing('', elevation, 'aspect', format='MEM')\n",
    "\n",
    "    tsri = 0.5 − np.cos((np.pi/180.)(aspect − 30.))/2.\n",
    "    Write_to_disk(tsri, tsri_cog_fn)\n",
    "\n",
    "make_tsri(masked_mosaic, tsri_cog_fn)"
   ]
  },
  {
   "cell_type": "code",
   "execution_count": null,
   "metadata": {},
   "outputs": [],
   "source": [
    "## Paul - This assumes we've written the elevation to disk\n",
    "# @Alex - is this more like what we'll want?\n",
    "# TODO: all covar calcs will now be done in memory and written, band-by-band to a 'topo covars stack'\n",
    "if dem_cog_fn.is_file():\n",
    "    # Call gdaldem at cmd line to read in the elev file on disk\n",
    "    # Slope\n",
    "    # Use gdaldem command line tool to handle elev covar calcs\n",
    "    # https://gdal.org/drivers/raster/cog.html\n",
    "    # -compute_edges\n",
    "    !gdaldem slope -of COG -zero_for_flat $dem_cog_fn $slope_cog_fn\n",
    "\n",
    "    # TPI\n",
    "    # topo position index (a measure of local concavity/convexity; -1 1) gdaldem TPI\n",
    "    # -compute_edges\n",
    "    !gdaldem tpi -of COG $dem_cog_fn $tpi_cog_fn\n",
    "else:\n",
    "    if hasattr(masked_mosaic, 'shape'): \n",
    "        print(\"Calculating Slope from masked dem mosaic...\")\n",
    "        slope = gdal.DEMProcessing('', elevation, 'slope', format='MEM')\n",
    "        Write_to_disk(slope, slope_cog_fn)\n",
    "        print(\"Calculating TPI from masked dem mosaic...\")\n",
    "        tpi = gdal.DEMProcessing('', elevation, 'tpi', format='MEM')\n",
    "        Write_to_disk(tpi, tpi_cog_fn)\n",
    "    else:\n",
    "        print(\"Cannot calculate slope and TPI.\\n{} is not written to disk and its array does not exist.\".format(dem_cog_fn))"
   ]
  }
 ],
 "metadata": {
  "kernelspec": {
   "display_name": "Python 3",
   "language": "python",
   "name": "python3"
  },
  "language_info": {
   "codemirror_mode": {
    "name": "ipython",
    "version": 3
   },
   "file_extension": ".py",
   "mimetype": "text/x-python",
   "name": "python",
   "nbconvert_exporter": "python",
   "pygments_lexer": "ipython3",
   "version": "3.7.8"
  }
 },
 "nbformat": 4,
 "nbformat_minor": 4
}
