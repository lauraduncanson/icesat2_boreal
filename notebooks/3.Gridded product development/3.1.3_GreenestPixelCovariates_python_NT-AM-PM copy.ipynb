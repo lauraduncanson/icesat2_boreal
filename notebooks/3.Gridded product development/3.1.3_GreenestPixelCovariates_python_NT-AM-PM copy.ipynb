{
 "cells": [
  {
   "cell_type": "markdown",
   "metadata": {},
   "source": [
    "# Greenest Pixel Covariates\n",
    "\n",
    "Using the Greenest Pixel stack of bands, calculate varies covariates: TCB, TCG, TCW, SAVI (MSAVI?), NDMI, NBR, NBR2"
   ]
  },
  {
   "cell_type": "code",
   "execution_count": null,
   "metadata": {},
   "outputs": [],
   "source": [
    "# DEPRECATED\n",
    "\n",
    "#!pip install geopandas\n",
    "#!pip install rio-cogeo"
   ]
  },
  {
   "cell_type": "code",
   "execution_count": 1,
   "metadata": {},
   "outputs": [
    {
     "name": "stderr",
     "output_type": "stream",
     "text": [
      "/opt/conda/lib/python3.7/site-packages/geopandas/_compat.py:110: UserWarning: The Shapely GEOS version (3.8.0-CAPI-1.13.1 ) is incompatible with the GEOS version PyGEOS was compiled with (3.8.1-CAPI-1.13.3). Conversions between both will be slow.\n",
      "  shapely_geos_version, geos_capi_version_string\n"
     ]
    }
   ],
   "source": [
    "import json\n",
    "import os\n",
    "import rasterio as rio\n",
    "import geopandas as gpd\n",
    "from shapely.geometry import box\n",
    "from fiona.crs import from_epsg\n",
    "from rasterio.mask import mask\n",
    "import numpy as np\n",
    "import matplotlib.pyplot as plt\n",
    "\n",
    "import os\n",
    "import tarfile\n",
    "import rasterio\n",
    "\n",
    "from rasterio.io import MemoryFile\n",
    "from rasterio.transform import from_bounds\n",
    "\n",
    "from rio_cogeo.cogeo import cog_translate\n",
    "from rio_cogeo.profiles import cog_profiles\n"
   ]
  },
  {
   "cell_type": "code",
   "execution_count": 2,
   "metadata": {},
   "outputs": [],
   "source": [
    "# FUNCTION TO READ IN BANDS FROM EXISTING IMAGE\n",
    "\n",
    "infile = '/projects/bobafett/LandsatComposites/LandsatComposites/Landsat8_40349_comp.tif'\n",
    "\n",
    "def ReadInBand(file, band):\n",
    "    with rio.open(file, 'r') as f:\n",
    "        global crs\n",
    "        crs = f.crs\n",
    "        global transform\n",
    "        transform = f.transform\n",
    "        Arr = f.read(band)\n",
    "        \n",
    "    return np.ma.masked_array(Arr.astype(np.float32()), mask=f.nodata)"
   ]
  },
  {
   "cell_type": "code",
   "execution_count": 3,
   "metadata": {},
   "outputs": [],
   "source": [
    "# Co-var functions\n",
    "# Reads in bands on the fly, as needed\n",
    "\n",
    "# SAVI\n",
    "def calcSAVI(red, nir):\n",
    "    savi = ((nir - red)/(nir + red + 0.5))*(1.5)\n",
    "    print('SAVI Created')\n",
    "    return savi\n",
    "\n",
    "# MASAVI\n",
    "def calcMSAVI(red, nir):\n",
    "    msavi = (2 * nir + 1 - np.sqrt((2 * nir + 1)**2 - 8 * (nir - red))) / 2\n",
    "    print('MSAVI Created')\n",
    "    return msavi\n",
    "\n",
    "# NDMI\n",
    "def calcNDMI(nir, swir):\n",
    "    ndmi = (nir - swir)/(nir + swir)\n",
    "    print('NDMI Created')\n",
    "    return ndmi\n",
    "\n",
    "# EVI\n",
    "def calcEVI(blue, red, nir):\n",
    "    evi = 2.5 * ((nir - red) / (nir + 6 * red - 7.5 * blue + 1))\n",
    "    print('EVI Created')\n",
    "    return evi\n",
    "\n",
    "# NBR\n",
    "def calcNBR(nir, swir2):\n",
    "    nbr = (nir - swir2)/(nir + swir2)\n",
    "    print('NBR Created')\n",
    "    return nbr\n",
    "\n",
    "# NBR2\n",
    "def calcNBR2(swir, swir2):    \n",
    "    nbr2 = (swir - swir2)/(swir + swir2)\n",
    "    print('NBR2 Created')\n",
    "    return nbr2\n",
    "\n",
    "# Tasseled Cap\n",
    "tc_coef = [\n",
    "    (0.3029, 0.2786, 0.4733, 0.5599, 0.5080, 0.1872), #brightness\n",
    "    (-0.2941, -0.2430, -0.5424, 0.7276, 0.0713, -0.1608), #greenness\n",
    "    (0.1511, 0.1973, 0.3283, 0.3407, -0.7117, -0.4559) #wetness\n",
    "    ]\n",
    "\n",
    "def tasseled_cap(bands, tc_coef):\n",
    "    '''\n",
    "    Compute the tasseled cap indices: brightness, greenness, wetness\n",
    "    bands - a 6-layer 3-D (images) or 2-D array (samples) or an OrderedDict with appropriate band names\n",
    "    tc_coef - a list of 3 tuples, each with 6 coefficients\n",
    "    '''\n",
    "    in_arr = ReadInBand(infile, bands).astype(np.float)\n",
    "    \n",
    "    #print(np.max(in_arr))\n",
    "    if np.shape(in_arr)[0] != 5: # must have 6 bands - insert SWIR2\n",
    "        raise ValueError(\"Input array must have 6 bands\")\n",
    "    \n",
    "    if len(np.shape(in_arr)) == 3:\n",
    "        tc = np.zeros( (3, in_arr.shape[1], in_arr.shape[2]), dtype = np.float32() )\n",
    "    elif len(np.shape(in_arr)) == 2:\n",
    "        tc = np.zeros( (2, in_arr.shape[1]), dtype = np.float32() )\n",
    "    else:\n",
    "        print('BANDS SHAPE ERROR')\n",
    "    \n",
    "    for i, t in enumerate(tc_coef):\n",
    "        for b in range(5): # should be 6\n",
    "            tc[i] += (in_arr[b] * t[b]).astype(np.float32())\n",
    "           \n",
    "    print('TC Created')\n",
    "    return tc[0], tc[1], tc[2] \n",
    "    "
   ]
  },
  {
   "cell_type": "code",
   "execution_count": 4,
   "metadata": {},
   "outputs": [],
   "source": [
    "# This takes the NumPy array and writes it to a COG with good compression \n",
    "\n",
    "# Specify GeoTIFF structure\n",
    "def write_cog(stack, infile):\n",
    "    # Get the rio-cogeo profile for deflate compression, modify some of the options\n",
    "    dst_profile = cog_profiles.get(\"deflate\")\n",
    "    dst_profile['blockxsize']=256\n",
    "    dst_profile['blockysize']=256\n",
    "    dst_profile['predictor']=2\n",
    "    dst_profile['zlevel']=7\n",
    "    print('dst_profile = ', dst_profile)\n",
    "\n",
    "    src_profile = dict(\n",
    "        driver=\"GTiff\",\n",
    "        height=stack.shape[1],\n",
    "        width=stack.shape[2],\n",
    "        count=stack.shape[0],\n",
    "        dtype=stack.dtype,\n",
    "        crs=crs,\n",
    "        transform=transform,\n",
    "        nodata=np.nan)\n",
    "    print('src_profile = ', src_profile)\n",
    "\n",
    "    with MemoryFile() as memfile:\n",
    "        with memfile.open(**src_profile) as mem:        \n",
    "            # Populate the input file with NumPy array\n",
    "            mem.write(stack)\n",
    "            print('write imgf to memory')\n",
    "        \n",
    "            cog_translate(\n",
    "                mem,\n",
    "                # To avoid rewriting over the infile\n",
    "                infile.replace('.tif','_cog.tif'),\n",
    "                dst_profile,\n",
    "                in_memory=True,\n",
    "                quiet=True)\n",
    "    \n",
    "    print('Image written to disk')"
   ]
  },
  {
   "cell_type": "code",
   "execution_count": 5,
   "metadata": {},
   "outputs": [
    {
     "name": "stdout",
     "output_type": "stream",
     "text": [
      "SAVI Created\n",
      "MSAVI Created\n",
      "NDMI Created\n",
      "EVI Created\n",
      "NBR Created\n",
      "NBR2 Created\n",
      "TC Created\n"
     ]
    }
   ],
   "source": [
    "# Read bands and calculate indices\n",
    "Blue = ReadInBand(infile, 1)\n",
    "Green = ReadInBand(infile, 2)\n",
    "Red = ReadInBand(infile, 3)\n",
    "NIR = ReadInBand(infile, 4)\n",
    "SWIR = ReadInBand(infile, 5)\n",
    "NDVI = ReadInBand(infile, 6)\n",
    "\n",
    "# reads bands on the fly\n",
    "\n",
    "SAVI = calcSAVI(Red, NIR)\n",
    "\n",
    "MSAVI = calcMSAVI(Red, NIR)\n",
    "\n",
    "NDMI = calcNDMI(NIR, SWIR)\n",
    "\n",
    "EVI = calcEVI(Blue, Red, NIR)\n",
    "\n",
    "NBR = calcNBR(NIR, NDVI) # should be NIR, SWIR2\n",
    "\n",
    "NBR2 = calcNBR2(SWIR, NDVI) # should be SWIR, SWIR2\n",
    "\n",
    "TCB, TCG, TCW = tasseled_cap([1,2,3,4,5],tc_coef)\n",
    "\n"
   ]
  },
  {
   "cell_type": "code",
   "execution_count": 6,
   "metadata": {},
   "outputs": [
    {
     "name": "stdout",
     "output_type": "stream",
     "text": [
      "(15, 1114, 708)\n"
     ]
    }
   ],
   "source": [
    "stack = np.transpose([Blue, Green, Red, NIR, SWIR, NDVI, SAVI, MSAVI, NDMI, EVI, NBR, NBR2, TCB, TCG, TCW], [0, 1, 2]) \n",
    "print(np.shape(stack))"
   ]
  },
  {
   "cell_type": "code",
   "execution_count": 7,
   "metadata": {},
   "outputs": [
    {
     "name": "stderr",
     "output_type": "stream",
     "text": [
      "/opt/conda/lib/python3.7/site-packages/ipykernel_launcher.py:36: RasterioDeprecationWarning: Source dataset should be opened in read-only mode. Use of datasets opened in modes other than 'r' will be disallowed in a future version.\n",
      "Reading input: <open DatasetWriter name='/vsimem/a356aca3-16c5-42c2-84b9-7596b88bcd8e/a356aca3-16c5-42c2-84b9-7596b88bcd8e.tif' mode='w+'>\n"
     ]
    },
    {
     "name": "stdout",
     "output_type": "stream",
     "text": [
      "dst_profile =  {'driver': 'GTiff', 'interleave': 'pixel', 'tiled': True, 'blockxsize': 256, 'blockysize': 256, 'compress': 'DEFLATE', 'predictor': 2, 'zlevel': 7}\n",
      "dst_profile =  {'driver': 'GTiff', 'height': 1114, 'width': 708, 'count': 15, 'dtype': dtype('float32'), 'crs': CRS.from_epsg(32611), 'transform': Affine(30.0, 0.0, 478768.65756464977,\n",
      "       0.0, -30.0, 5638747.466976735), 'nodata': nan}\n",
      "write band to memory\n"
     ]
    },
    {
     "name": "stderr",
     "output_type": "stream",
     "text": [
      "Adding overviews...\n",
      "Updating dataset tags...\n",
      "Writing output to: /projects/bobafett/LandsatComposites/LandsatComposites/Landsat8_40349_comp_cog.tif\n"
     ]
    },
    {
     "name": "stdout",
     "output_type": "stream",
     "text": [
      "band written to image\n"
     ]
    }
   ],
   "source": [
    "write_cog(stack, infile)"
   ]
  },
  {
   "cell_type": "code",
   "execution_count": 20,
   "metadata": {},
   "outputs": [],
   "source": [
    "# Non-COG\n",
    "# Function to append the band to existing image\n",
    "\n",
    "def Add_Band_to_Stack(band, bandnum):\n",
    "    kwargs=({'driver':'GTiff',\n",
    "             'height':band.shape[0],\n",
    "             'width':band.shape[1],\n",
    "             'dtype':band.dtype,\n",
    "             'crs':crs,\n",
    "             'count':bandnum,\n",
    "             'transform':transform,\n",
    "             'compress':'deflate'\n",
    "            })\n",
    "        # tmp to avoid unning 3.1.2 again\n",
    "    outfile = infile.replace('.tif','_copy.tif')\n",
    "    with rio.open(outfile, 'w+', **kwargs) as dst:\n",
    "        dst.write_band(bandnum, band)"
   ]
  },
  {
   "cell_type": "code",
   "execution_count": 9,
   "metadata": {},
   "outputs": [],
   "source": [
    "# Add bands to the existing stack\n",
    "# Calculates Index on the fly to not store in memory\n",
    "\n",
    "Add_Band_to_Stack(calcSAVI(), 7)\n",
    "Add_Band_to_Stack(calcMSAVI(), 8)\n",
    "Add_Band_to_Stack(calcNDMI(), 9)\n",
    "Add_Band_to_Stack(calcEVI(), 10)\n",
    "Add_Band_to_Stack(calcNBR(), 11)\n",
    "Add_Band_to_Stack(calcNBR2(), 12)\n",
    "Add_Band_to_Stack(tasseled_cap([1,2,3,4,5],tc_coef)[0], 13)\n",
    "Add_Band_to_Stack(tasseled_cap([1,2,3,4,5],tc_coef)[1], 14)\n",
    "Add_Band_to_Stack(tasseled_cap([1,2,3,4,5],tc_coef)[2], 15)"
   ]
  },
  {
   "cell_type": "code",
   "execution_count": 5,
   "metadata": {},
   "outputs": [
    {
     "name": "stdout",
     "output_type": "stream",
     "text": [
      "1.499793757734085\n",
      "1.0\n",
      "0.6513997089290301\n",
      "50630.0\n",
      "1.0000322586718617\n",
      "1.000031244904719\n",
      "106916.3993\n",
      "18369.903\n",
      "34282.3334\n"
     ]
    }
   ],
   "source": [
    "# calculate indices for checking\n",
    "\n",
    "SAVI = calcSAVI()\n",
    "MSAVI = calcMSAVI()\n",
    "NDMI = calcNDMI()\n",
    "EVI = calcEVI()\n",
    "NBR = calcNBR()\n",
    "NBR2 = calcNBR2()\n",
    "\n",
    "tc_coef = [\n",
    "    (0.3029, 0.2786, 0.4733, 0.5599, 0.5080, 0.1872), #brightness\n",
    "    (-0.2941, -0.2430, -0.5424, 0.7276, 0.0713, -0.1608), #greenness\n",
    "    (0.1511, 0.1973, 0.3283, 0.3407, -0.7117, -0.4559) #wetness\n",
    "    ]\n",
    "\n",
    "TCB, TCG, TCW = tasseled_cap([1,2,3,4,5],tc_coef)\n",
    "\n",
    "print(np.max(SAVI))\n",
    "print(np.max(MSAVI))\n",
    "print(np.max(NDMI))\n",
    "print(np.max(EVI))\n",
    "print(np.max(NBR))\n",
    "print(np.max(NBR2))\n",
    "\n",
    "print(np.max(TCB))\n",
    "print(np.max(TCG))\n",
    "print(np.max(TCW))\n"
   ]
  },
  {
   "cell_type": "code",
   "execution_count": 6,
   "metadata": {},
   "outputs": [
    {
     "data": {
      "text/plain": [
       "<matplotlib.image.AxesImage at 0x7faf4a8df650>"
      ]
     },
     "execution_count": 6,
     "metadata": {},
     "output_type": "execute_result"
    },
    {
     "data": {
      "image/png": "[encoded data removed]",
      "text/plain": [
       "<Figure size 432x288 with 1 Axes>"
      ]
     },
     "metadata": {
      "needs_background": "light"
     },
     "output_type": "display_data"
    }
   ],
   "source": [
    "plt.imshow(NDMI, cmap=\"terrain\")"
   ]
  },
  {
   "cell_type": "code",
   "execution_count": 13,
   "metadata": {},
   "outputs": [],
   "source": [
    "# Brute write out\n",
    "\n",
    "def Write_to_disk(comp_stack, out_name):\n",
    "    #TODO: full COG writing: higher compression, overviews, tile size, nodata\n",
    "    kwargs=({'driver':'GTiff',\n",
    "             'height':comp_stack.shape[0],\n",
    "             'width':comp_stack.shape[1],\n",
    "             'count':comp_stack.shape[2],\n",
    "             'dtype':comp_stack.dtype,\n",
    "             'crs':crs,\n",
    "             'transform':transform,\n",
    "             'compress':'deflate'\n",
    "            })\n",
    "    with rio.open(out_name, 'w', **kwargs) as dst:\n",
    "        dst.write(np.moveaxis(comp_stack, [0, 1, 2], [2, 1, 0]))\n",
    "        \n",
    "comp_stack = np.dstack([SAVI, MSAVI, NDMI, EVI, NBR, NBR2, TCB, TCG, TCW])\n",
    "out_name = '/projects/bobafett/LandsatComposites/LandsatComposites/Landsat8_40349_comp_indices.tif'\n",
    "Write_to_disk(comp_stack, out_name)"
   ]
  },
  {
   "cell_type": "code",
   "execution_count": null,
   "metadata": {},
   "outputs": [],
   "source": []
  }
 ],
 "metadata": {
  "kernelspec": {
   "display_name": "Python 3",
   "language": "python",
   "name": "python3"
  },
  "language_info": {
   "codemirror_mode": {
    "name": "ipython",
    "version": 3
   },
   "file_extension": ".py",
   "mimetype": "text/x-python",
   "name": "python",
   "nbconvert_exporter": "python",
   "pygments_lexer": "ipython3",
   "version": "3.7.8"
  }
 },
 "nbformat": 4,
 "nbformat_minor": 4
}
