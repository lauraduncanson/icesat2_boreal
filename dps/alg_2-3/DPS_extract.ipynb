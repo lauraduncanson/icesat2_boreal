{
 "cells": [
  {
   "cell_type": "code",
   "execution_count": 1,
   "id": "behind-sunday",
   "metadata": {},
   "outputs": [],
   "source": [
    "from maap.maap import MAAP\n",
    "maap = MAAP(maap_host='api.ops.maap-project.org')"
   ]
  },
  {
   "cell_type": "markdown",
   "id": "asian-browse",
   "metadata": {},
   "source": [
    "# Launch DPS for extract_filter_atl08.py\n",
    "using the rebinned 30m h5 granules"
   ]
  },
  {
   "cell_type": "code",
   "execution_count": 2,
   "id": "golden-internet",
   "metadata": {},
   "outputs": [],
   "source": [
    "from os import path\n",
    "import os, glob"
   ]
  },
  {
   "cell_type": "code",
   "execution_count": 3,
   "id": "southern-earthquake",
   "metadata": {},
   "outputs": [
    {
     "name": "stdout",
     "output_type": "stream",
     "text": [
      "/projects/icesat2_boreal/dps/alg_2-3\n"
     ]
    }
   ],
   "source": [
    "curr_dir = wk_dir = os.path.dirname(os.path.realpath('__file__'))\n",
    "print(curr_dir)"
   ]
  },
  {
   "cell_type": "markdown",
   "id": "incorporate-curve",
   "metadata": {},
   "source": [
    "## Test extract_filter_atl08.py code on Test Data\n",
    "We are running extract_filter_atl08.py (but *FILTERING* is turned off):\n",
    "\n",
    "python /projects/icesat2_boreal/lib/extract_filter_atl08.py -o \"/projects/test_data/test_data_30m\" -i \"/projects/my-private-bucket/dps_output/run_rebinning_ubuntu/master/2022/02/25/18/51/17/542274/ATL08_30m_20190721220156_03640403_005_01.h5\" --no-filter-qual --do_30m\n",
    "\n",
    "python /projects/icesat2_boreal/lib/extract_filter_atl08.py -o \"/projects/test_data/test_data_30m\" -i \"https://maap-ops-workspace.s3.amazonaws.com.com/lduncanson/dps_output/run_rebinning_ubuntu/master/2022/02/25/18/51/17/542274/ATL08_30m_20190721220156_03640403_005_01.h5\" --no-filter-qual --do_30m\n",
    "\n",
    "python lib/extract_filter_atl08.py -i \"path/to/h5file\" -o \"path/of/out/dir\" --no-filter-qual --do_30m"
   ]
  },
  {
   "cell_type": "markdown",
   "id": "broadband-tucson",
   "metadata": {},
   "source": [
    "### Build the input list of granules"
   ]
  },
  {
   "cell_type": "code",
   "execution_count": 5,
   "id": "comparable-range",
   "metadata": {},
   "outputs": [
    {
     "name": "stdout",
     "output_type": "stream",
     "text": [
      "CPU times: user 192 ms, sys: 315 ms, total: 508 ms\n",
      "Wall time: 1min 31s\n"
     ]
    },
    {
     "data": {
      "text/plain": [
       "1019"
      ]
     },
     "execution_count": 5,
     "metadata": {},
     "output_type": "execute_result"
    }
   ],
   "source": [
    "%%time\n",
    "INPUT_ATL08_GRANULE_LIST = glob.glob(\"/projects/my-private-bucket/dps_output/run_rebinning_ubuntu/master/2022/02/**/*.h5\", recursive=True)\n",
    "len(INPUT_ATL08_GRANULE_LIST)"
   ]
  },
  {
   "cell_type": "markdown",
   "id": "conventional-madness",
   "metadata": {},
   "source": [
    "## Run a DPS job across the list\n",
    "glob.glob takes quite awhile to list all the files in the output directory of the 30 m outputs; divide this up by processing date to loop over a job submission per file, with a file set per day of 30 m outputs\n"
   ]
  },
  {
   "cell_type": "code",
   "execution_count": null,
   "id": "alpine-portfolio",
   "metadata": {},
   "outputs": [],
   "source": [
    "RUN_DPS  = True\n",
    "\n",
    "if RUN_DPS:\n",
    "    ##################################\n",
    "    #Test DPS submission on a single file\n",
    "    for i, INPUT_ATL08_GRANULE in enumerate(INPUT_ATL08_GRANULE_LIST[0]):\n",
    "        \n",
    "        DPS_num = i+1\n",
    "        in_param_dict = {\n",
    "                            'input_file': INPUT_ATL08_GRANULE\n",
    "                        }\n",
    "\n",
    "        submit_result = maap.submitJob(\n",
    "                identifier='run_extract_filter_atl08',\n",
    "                algo_id='run_extract_filter_atl08_ubuntu',\n",
    "                version='master',\n",
    "                username='lduncanson', # username needs to be the same as whoever created the workspace\n",
    "                queue='maap-dps-worker-8gb',\n",
    "                **in_param_dict\n",
    "            )\n",
    "\n",
    "        #submit_result = 'submit test'\n",
    "        if DPS_num in [1, 100, 500, 1000, 3000, len(INPUT_ATL08_GRANULE_LIST)]:\n",
    "           print(f\"DPS run num: {DPS_num}, granule name: {INPUT_ATL08_GRANULE}, job info: {submit_result}\") \n",
    " "
   ]
  }
 ],
 "metadata": {
  "kernelspec": {
   "display_name": "Python 3",
   "language": "python",
   "name": "python3"
  },
  "language_info": {
   "codemirror_mode": {
    "name": "ipython",
    "version": 3
   },
   "file_extension": ".py",
   "mimetype": "text/x-python",
   "name": "python",
   "nbconvert_exporter": "python",
   "pygments_lexer": "ipython3",
   "version": "3.7.4"
  }
 },
 "nbformat": 4,
 "nbformat_minor": 5
}
