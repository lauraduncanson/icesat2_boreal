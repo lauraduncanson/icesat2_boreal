{
 "cells": [
  {
   "cell_type": "code",
   "execution_count": 1,
   "id": "animal-yellow",
   "metadata": {},
   "outputs": [],
   "source": [
    "from maap.maap import MAAP\n",
    "maap = MAAP(maap_host='api.ops.maap-project.org')"
   ]
  },
  {
   "cell_type": "markdown",
   "id": "optical-smell",
   "metadata": {},
   "source": [
    "# Launch DPS for extract_filter_atl08.py\n",
    "using the rebinned 30m h5 granules"
   ]
  },
  {
   "cell_type": "code",
   "execution_count": 20,
   "id": "general-hazard",
   "metadata": {},
   "outputs": [],
   "source": [
    "from os import path\n",
    "import os, glob\n",
    "import datetime\n",
    "import pandas as pd"
   ]
  },
  {
   "cell_type": "code",
   "execution_count": 3,
   "id": "negative-house",
   "metadata": {},
   "outputs": [
    {
     "name": "stdout",
     "output_type": "stream",
     "text": [
      "/projects/icesat2_boreal/dps/alg_2-3\n"
     ]
    }
   ],
   "source": [
    "curr_dir = wk_dir = os.path.dirname(os.path.realpath('__file__'))\n",
    "print(curr_dir)"
   ]
  },
  {
   "cell_type": "markdown",
   "id": "super-constitution",
   "metadata": {},
   "source": [
    "## Test extract_filter_atl08.py code on Test Data\n",
    "We are running extract_filter_atl08.py (but *FILTERING* is turned off):\n",
    "\n",
    "python /projects/icesat2_boreal/lib/extract_filter_atl08.py -o \"/projects/test_data/test_data_30m\" -i \"/projects/my-private-bucket/dps_output/run_rebinning_ubuntu/master/2022/02/25/18/51/17/542274/ATL08_30m_20190721220156_03640403_005_01.h5\" --no-filter-qual --do_30m\n",
    "\n",
    "python /projects/icesat2_boreal/lib/extract_filter_atl08.py -o \"/projects/test_data/test_data_30m\" -i \"https://maap-ops-workspace.s3.amazonaws.com.com/lduncanson/dps_output/run_rebinning_ubuntu/master/2022/02/25/18/51/17/542274/ATL08_30m_20190721220156_03640403_005_01.h5\" --no-filter-qual --do_30m\n",
    "\n",
    "python lib/extract_filter_atl08.py -i \"path/to/h5file\" -o \"path/of/out/dir\" --no-filter-qual --do_30m"
   ]
  },
  {
   "cell_type": "markdown",
   "id": "reserved-fancy",
   "metadata": {},
   "source": [
    "### Build the input list of granules\n",
    "##### replace the local path with the https url"
   ]
  },
  {
   "cell_type": "code",
   "execution_count": 11,
   "id": "different-puppy",
   "metadata": {},
   "outputs": [
    {
     "name": "stdout",
     "output_type": "stream",
     "text": [
      "# rebinned (30m) ATL08 granules: 1107\n",
      "CPU times: user 307 ms, sys: 444 ms, total: 751 ms\n",
      "Wall time: 5min 12s\n"
     ]
    }
   ],
   "source": [
    "%%time\n",
    "INPUT_ATL08_GRANULE_LIST = glob.glob(\"/projects/my-private-bucket/dps_output/run_rebinning_ubuntu/master/2022/**/*.h5\", recursive=True)\n",
    "INPUT_ATL08_GRANULE_LIST = [i.replace(\"/projects/my-private-bucket\", \"https://maap-ops-workspace.s3.amazonaws.com/lduncanson\") for i in INPUT_ATL08_GRANULE_LIST]\n",
    "len(INPUT_ATL08_GRANULE_LIST)\n",
    "print(f\"# rebinned (30m) ATL08 granules: {len(INPUT_ATL08_GRANULE_LIST)}\")"
   ]
  },
  {
   "cell_type": "markdown",
   "id": "crazy-freight",
   "metadata": {},
   "source": [
    "#### Set TEST, get list"
   ]
  },
  {
   "cell_type": "code",
   "execution_count": 13,
   "id": "hungarian-intermediate",
   "metadata": {},
   "outputs": [
    {
     "name": "stdout",
     "output_type": "stream",
     "text": [
      "Running DPS on a SUBSET list of input\n"
     ]
    },
    {
     "data": {
      "text/plain": [
       "'https://maap-ops-workspace.s3.amazonaws.com/lduncanson/dps_output/run_rebinning_ubuntu/master/2022/03/01/03/56/48/796638/ATL08_30m_20190421213931_03610303_005_01.h5'"
      ]
     },
     "execution_count": 13,
     "metadata": {},
     "output_type": "execute_result"
    }
   ],
   "source": [
    "TEST_DPS  = True\n",
    "\n",
    "if TEST_DPS:\n",
    "    print('Running DPS on a SUBSET list of input')\n",
    "    DPS_INPUT_ATL08_GRANULE_LIST = INPUT_ATL08_GRANULE_LIST[-10:]\n",
    "else:\n",
    "    print('Running DPS on the FULL list of input')\n",
    "    DPS_INPUT_ATL08_GRANULE_LIST = INPUT_ATL08_GRANULE_LIST\n",
    "    \n",
    "DPS_INPUT_ATL08_GRANULE_LIST[-1]"
   ]
  },
  {
   "cell_type": "markdown",
   "id": "heard-peter",
   "metadata": {},
   "source": [
    "## Run a DPS job across the list"
   ]
  },
  {
   "cell_type": "code",
   "execution_count": 21,
   "id": "assured-development",
   "metadata": {},
   "outputs": [
    {
     "name": "stdout",
     "output_type": "stream",
     "text": [
      "{'status': 'success', 'http_status_code': 200, 'job_id': 'ea360c16-a06e-4a96-9634-9076867d3c4a', 'dps_num': 1, 'tile_num': 'https://maap-ops-workspace.s3.amazonaws.com/lduncanson/dps_output/run_rebinning_ubuntu/master/2022/02/28/22/17/20/729492/ATL08_30m_20181014093633_02410102_005_01.h5', 'submit_time': datetime.datetime(2022, 3, 1, 19, 32, 7, 108405), 'dbs_job_hour': 19, 'algo_id': 'run_extract_filter_atl08_ubuntu', 'user': 'lduncanson', 'worker_type': 'maap-dps-worker-8gb'}\n"
     ]
    },
    {
     "data": {
      "text/html": [
       "<div>\n",
       "<style scoped>\n",
       "    .dataframe tbody tr th:only-of-type {\n",
       "        vertical-align: middle;\n",
       "    }\n",
       "\n",
       "    .dataframe tbody tr th {\n",
       "        vertical-align: top;\n",
       "    }\n",
       "\n",
       "    .dataframe thead th {\n",
       "        text-align: right;\n",
       "    }\n",
       "</style>\n",
       "<table border=\"1\" class=\"dataframe\">\n",
       "  <thead>\n",
       "    <tr style=\"text-align: right;\">\n",
       "      <th></th>\n",
       "      <th>status</th>\n",
       "      <th>http_status_code</th>\n",
       "      <th>job_id</th>\n",
       "      <th>dps_num</th>\n",
       "      <th>tile_num</th>\n",
       "      <th>submit_time</th>\n",
       "      <th>dbs_job_hour</th>\n",
       "      <th>algo_id</th>\n",
       "      <th>user</th>\n",
       "      <th>worker_type</th>\n",
       "    </tr>\n",
       "  </thead>\n",
       "  <tbody>\n",
       "    <tr>\n",
       "      <th>0</th>\n",
       "      <td>success</td>\n",
       "      <td>200</td>\n",
       "      <td>ea360c16-a06e-4a96-9634-9076867d3c4a</td>\n",
       "      <td>1</td>\n",
       "      <td>https://maap-ops-workspace.s3.amazonaws.com/ld...</td>\n",
       "      <td>2022-03-01 19:32:07.108405</td>\n",
       "      <td>19</td>\n",
       "      <td>run_extract_filter_atl08_ubuntu</td>\n",
       "      <td>lduncanson</td>\n",
       "      <td>maap-dps-worker-8gb</td>\n",
       "    </tr>\n",
       "    <tr>\n",
       "      <th>0</th>\n",
       "      <td>success</td>\n",
       "      <td>200</td>\n",
       "      <td>c8ff1fc9-45ed-47c0-9995-72931ea3b310</td>\n",
       "      <td>2</td>\n",
       "      <td>https://maap-ops-workspace.s3.amazonaws.com/ld...</td>\n",
       "      <td>2022-03-01 19:32:07.194752</td>\n",
       "      <td>19</td>\n",
       "      <td>run_extract_filter_atl08_ubuntu</td>\n",
       "      <td>lduncanson</td>\n",
       "      <td>maap-dps-worker-8gb</td>\n",
       "    </tr>\n",
       "    <tr>\n",
       "      <th>0</th>\n",
       "      <td>success</td>\n",
       "      <td>200</td>\n",
       "      <td>cab5b165-5fb8-4643-bdd7-730986133fac</td>\n",
       "      <td>3</td>\n",
       "      <td>https://maap-ops-workspace.s3.amazonaws.com/ld...</td>\n",
       "      <td>2022-03-01 19:32:07.277363</td>\n",
       "      <td>19</td>\n",
       "      <td>run_extract_filter_atl08_ubuntu</td>\n",
       "      <td>lduncanson</td>\n",
       "      <td>maap-dps-worker-8gb</td>\n",
       "    </tr>\n",
       "    <tr>\n",
       "      <th>0</th>\n",
       "      <td>success</td>\n",
       "      <td>200</td>\n",
       "      <td>e85fb88a-6d33-4382-8a9c-2f4492473ed8</td>\n",
       "      <td>4</td>\n",
       "      <td>https://maap-ops-workspace.s3.amazonaws.com/ld...</td>\n",
       "      <td>2022-03-01 19:32:07.393903</td>\n",
       "      <td>19</td>\n",
       "      <td>run_extract_filter_atl08_ubuntu</td>\n",
       "      <td>lduncanson</td>\n",
       "      <td>maap-dps-worker-8gb</td>\n",
       "    </tr>\n",
       "    <tr>\n",
       "      <th>0</th>\n",
       "      <td>success</td>\n",
       "      <td>200</td>\n",
       "      <td>7ab8f183-c1a3-4d9b-a0e3-17e8d0b71148</td>\n",
       "      <td>5</td>\n",
       "      <td>https://maap-ops-workspace.s3.amazonaws.com/ld...</td>\n",
       "      <td>2022-03-01 19:32:07.529159</td>\n",
       "      <td>19</td>\n",
       "      <td>run_extract_filter_atl08_ubuntu</td>\n",
       "      <td>lduncanson</td>\n",
       "      <td>maap-dps-worker-8gb</td>\n",
       "    </tr>\n",
       "    <tr>\n",
       "      <th>0</th>\n",
       "      <td>success</td>\n",
       "      <td>200</td>\n",
       "      <td>688e7e32-3130-4594-bc6a-0b227b4a7e10</td>\n",
       "      <td>6</td>\n",
       "      <td>https://maap-ops-workspace.s3.amazonaws.com/ld...</td>\n",
       "      <td>2022-03-01 19:32:07.644433</td>\n",
       "      <td>19</td>\n",
       "      <td>run_extract_filter_atl08_ubuntu</td>\n",
       "      <td>lduncanson</td>\n",
       "      <td>maap-dps-worker-8gb</td>\n",
       "    </tr>\n",
       "    <tr>\n",
       "      <th>0</th>\n",
       "      <td>success</td>\n",
       "      <td>200</td>\n",
       "      <td>7085b5f6-c63e-486b-9b82-6b5a239add82</td>\n",
       "      <td>7</td>\n",
       "      <td>https://maap-ops-workspace.s3.amazonaws.com/ld...</td>\n",
       "      <td>2022-03-01 19:32:07.735843</td>\n",
       "      <td>19</td>\n",
       "      <td>run_extract_filter_atl08_ubuntu</td>\n",
       "      <td>lduncanson</td>\n",
       "      <td>maap-dps-worker-8gb</td>\n",
       "    </tr>\n",
       "    <tr>\n",
       "      <th>0</th>\n",
       "      <td>success</td>\n",
       "      <td>200</td>\n",
       "      <td>d10d404d-50ec-452f-84a0-36c71c937527</td>\n",
       "      <td>8</td>\n",
       "      <td>https://maap-ops-workspace.s3.amazonaws.com/ld...</td>\n",
       "      <td>2022-03-01 19:32:07.818285</td>\n",
       "      <td>19</td>\n",
       "      <td>run_extract_filter_atl08_ubuntu</td>\n",
       "      <td>lduncanson</td>\n",
       "      <td>maap-dps-worker-8gb</td>\n",
       "    </tr>\n",
       "    <tr>\n",
       "      <th>0</th>\n",
       "      <td>success</td>\n",
       "      <td>200</td>\n",
       "      <td>8f1ce028-253e-480e-a28e-6aa1617dcb48</td>\n",
       "      <td>9</td>\n",
       "      <td>https://maap-ops-workspace.s3.amazonaws.com/ld...</td>\n",
       "      <td>2022-03-01 19:32:07.938641</td>\n",
       "      <td>19</td>\n",
       "      <td>run_extract_filter_atl08_ubuntu</td>\n",
       "      <td>lduncanson</td>\n",
       "      <td>maap-dps-worker-8gb</td>\n",
       "    </tr>\n",
       "    <tr>\n",
       "      <th>0</th>\n",
       "      <td>success</td>\n",
       "      <td>200</td>\n",
       "      <td>627f91fe-c67d-41f3-845b-69f6638913a6</td>\n",
       "      <td>10</td>\n",
       "      <td>https://maap-ops-workspace.s3.amazonaws.com/ld...</td>\n",
       "      <td>2022-03-01 19:32:08.146047</td>\n",
       "      <td>19</td>\n",
       "      <td>run_extract_filter_atl08_ubuntu</td>\n",
       "      <td>lduncanson</td>\n",
       "      <td>maap-dps-worker-8gb</td>\n",
       "    </tr>\n",
       "  </tbody>\n",
       "</table>\n",
       "</div>"
      ],
      "text/plain": [
       "    status  http_status_code                                job_id  dps_num  \\\n",
       "0  success               200  ea360c16-a06e-4a96-9634-9076867d3c4a        1   \n",
       "0  success               200  c8ff1fc9-45ed-47c0-9995-72931ea3b310        2   \n",
       "0  success               200  cab5b165-5fb8-4643-bdd7-730986133fac        3   \n",
       "0  success               200  e85fb88a-6d33-4382-8a9c-2f4492473ed8        4   \n",
       "0  success               200  7ab8f183-c1a3-4d9b-a0e3-17e8d0b71148        5   \n",
       "0  success               200  688e7e32-3130-4594-bc6a-0b227b4a7e10        6   \n",
       "0  success               200  7085b5f6-c63e-486b-9b82-6b5a239add82        7   \n",
       "0  success               200  d10d404d-50ec-452f-84a0-36c71c937527        8   \n",
       "0  success               200  8f1ce028-253e-480e-a28e-6aa1617dcb48        9   \n",
       "0  success               200  627f91fe-c67d-41f3-845b-69f6638913a6       10   \n",
       "\n",
       "                                            tile_num  \\\n",
       "0  https://maap-ops-workspace.s3.amazonaws.com/ld...   \n",
       "0  https://maap-ops-workspace.s3.amazonaws.com/ld...   \n",
       "0  https://maap-ops-workspace.s3.amazonaws.com/ld...   \n",
       "0  https://maap-ops-workspace.s3.amazonaws.com/ld...   \n",
       "0  https://maap-ops-workspace.s3.amazonaws.com/ld...   \n",
       "0  https://maap-ops-workspace.s3.amazonaws.com/ld...   \n",
       "0  https://maap-ops-workspace.s3.amazonaws.com/ld...   \n",
       "0  https://maap-ops-workspace.s3.amazonaws.com/ld...   \n",
       "0  https://maap-ops-workspace.s3.amazonaws.com/ld...   \n",
       "0  https://maap-ops-workspace.s3.amazonaws.com/ld...   \n",
       "\n",
       "                 submit_time  dbs_job_hour                          algo_id  \\\n",
       "0 2022-03-01 19:32:07.108405            19  run_extract_filter_atl08_ubuntu   \n",
       "0 2022-03-01 19:32:07.194752            19  run_extract_filter_atl08_ubuntu   \n",
       "0 2022-03-01 19:32:07.277363            19  run_extract_filter_atl08_ubuntu   \n",
       "0 2022-03-01 19:32:07.393903            19  run_extract_filter_atl08_ubuntu   \n",
       "0 2022-03-01 19:32:07.529159            19  run_extract_filter_atl08_ubuntu   \n",
       "0 2022-03-01 19:32:07.644433            19  run_extract_filter_atl08_ubuntu   \n",
       "0 2022-03-01 19:32:07.735843            19  run_extract_filter_atl08_ubuntu   \n",
       "0 2022-03-01 19:32:07.818285            19  run_extract_filter_atl08_ubuntu   \n",
       "0 2022-03-01 19:32:07.938641            19  run_extract_filter_atl08_ubuntu   \n",
       "0 2022-03-01 19:32:08.146047            19  run_extract_filter_atl08_ubuntu   \n",
       "\n",
       "         user          worker_type  \n",
       "0  lduncanson  maap-dps-worker-8gb  \n",
       "0  lduncanson  maap-dps-worker-8gb  \n",
       "0  lduncanson  maap-dps-worker-8gb  \n",
       "0  lduncanson  maap-dps-worker-8gb  \n",
       "0  lduncanson  maap-dps-worker-8gb  \n",
       "0  lduncanson  maap-dps-worker-8gb  \n",
       "0  lduncanson  maap-dps-worker-8gb  \n",
       "0  lduncanson  maap-dps-worker-8gb  \n",
       "0  lduncanson  maap-dps-worker-8gb  \n",
       "0  lduncanson  maap-dps-worker-8gb  "
      ]
     },
     "execution_count": 21,
     "metadata": {},
     "output_type": "execute_result"
    }
   ],
   "source": [
    "job_results_list = []\n",
    "\n",
    "for i, INPUT_ATL08_GRANULE in enumerate(DPS_INPUT_ATL08_GRANULE_LIST):\n",
    "\n",
    "    DPS_num = i+1\n",
    "    IDENTIFIER = 'run_extract_filter_atl08'\n",
    "    ALGO_ID = f'{IDENTIFIER}_ubuntu'\n",
    "    USER = 'lduncanson'\n",
    "    WORKER_TYPE = 'maap-dps-worker-8gb'\n",
    "    \n",
    "    in_param_dict = {\n",
    "                        'input_file': INPUT_ATL08_GRANULE\n",
    "                    }\n",
    "\n",
    "    submit_result = maap.submitJob(\n",
    "            identifier=IDENTIFIER,\n",
    "            algo_id=ALGO_ID,\n",
    "            version='master',\n",
    "            username=USER, # username needs to be the same as whoever created the workspace\n",
    "            queue=WORKER_TYPE,\n",
    "            **in_param_dict\n",
    "        )\n",
    "    \n",
    "    # Build a dataframe of submission details\n",
    "    submit_result['dps_num'] = DPS_num\n",
    "    submit_result['tile_num'] = INPUT_ATL08_GRANULE\n",
    "    submit_result['submit_time'] = datetime.datetime.now()\n",
    "    submit_result['dbs_job_hour'] =datetime.datetime.now().hour\n",
    "    submit_result['algo_id'] = ALGO_ID\n",
    "    submit_result['user'] = USER\n",
    "    submit_result['worker_type'] = WORKER_TYPE\n",
    "    job_results_list.append(pd.DataFrame([submit_result]))\n",
    "    \n",
    "    if DPS_num in [1, 100, 500, 1000, 3000, len(INPUT_ATL08_GRANULE_LIST)]:\n",
    "        #print(f\"DPS run #: {DPS_num} | granule name: {os.path.basename(INPUT_ATL08_GRANULE)} | job info: {submit_result}\") \n",
    "        print(submit_result)\n",
    "        \n",
    "job_results_df = pd.concat(job_results_list)\n",
    "job_results_df"
   ]
  },
  {
   "cell_type": "code",
   "execution_count": 31,
   "id": "cross-georgia",
   "metadata": {},
   "outputs": [
    {
     "name": "stdout",
     "output_type": "stream",
     "text": [
      "The data frame show you submitted 10 jobs. Check the returned results to see if the total returned = total submitted...\n",
      "For DPS job that returned results in hour 18, # granules that ran: 0\n",
      "For DPS job that returned results in hour 19, # granules that ran: 14\n",
      "For DPS job that returned results in hour 20, # granules that ran: 0\n",
      "For DPS job that returned results in hour 21, # granules that ran: 0\n"
     ]
    }
   ],
   "source": [
    "print(f\"The data frame show you submitted {len(job_results_df)} jobs. Check the returned results to see if the total returned = total submitted...\")\n",
    "for JOB_HOUR in [18,19,20, 21]:\n",
    "    returned_results_list = glob.glob(f\"/projects/my-private-bucket/dps_output/run_extract_filter_atl08_ubuntu/master/2022/03/01/{JOB_HOUR}/**/_stdout.txt\", recursive=True)\n",
    "    print(f\"For DPS job that returned results in hour {JOB_HOUR}, # granules that ran: {len(returned_results_list)}\")"
   ]
  },
  {
   "cell_type": "code",
   "execution_count": 48,
   "id": "pending-democrat",
   "metadata": {},
   "outputs": [
    {
     "data": {
      "text/plain": [
       "512"
      ]
     },
     "execution_count": 48,
     "metadata": {},
     "output_type": "execute_result"
    }
   ],
   "source": [
    "os.system( 'python /projects/icesat2_boreal/lib/build_tindex_master.py -t ATL08 -dps_year 2021 --outdir /projects/my-public-bucket/test_output')"
   ]
  }
 ],
 "metadata": {
  "kernelspec": {
   "display_name": "Python 3",
   "language": "python",
   "name": "python3"
  },
  "language_info": {
   "codemirror_mode": {
    "name": "ipython",
    "version": 3
   },
   "file_extension": ".py",
   "mimetype": "text/x-python",
   "name": "python",
   "nbconvert_exporter": "python",
   "pygments_lexer": "ipython3",
   "version": "3.7.4"
  }
 },
 "nbformat": 4,
 "nbformat_minor": 5
}
