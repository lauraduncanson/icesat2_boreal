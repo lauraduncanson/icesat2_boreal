{
 "cells": [
  {
   "cell_type": "code",
   "execution_count": 1,
   "id": "every-columbus",
   "metadata": {},
   "outputs": [],
   "source": [
    "from maap.maap import MAAP\n",
    "maap = MAAP(maap_host='api.ops.maap-project.org')"
   ]
  },
  {
   "cell_type": "markdown",
   "id": "played-balloon",
   "metadata": {},
   "source": [
    "# Launch DPS for extract_filter_atl08.py\n",
    "using the rebinned 30m h5 granules"
   ]
  },
  {
   "cell_type": "code",
   "execution_count": 2,
   "id": "familiar-banner",
   "metadata": {},
   "outputs": [],
   "source": [
    "from os import path\n",
    "import os, glob"
   ]
  },
  {
   "cell_type": "code",
   "execution_count": 3,
   "id": "chicken-willow",
   "metadata": {},
   "outputs": [
    {
     "name": "stdout",
     "output_type": "stream",
     "text": [
      "/projects/icesat2_boreal/dps/alg_2-3\n"
     ]
    }
   ],
   "source": [
    "curr_dir = wk_dir = os.path.dirname(os.path.realpath('__file__'))\n",
    "print(curr_dir)"
   ]
  },
  {
   "cell_type": "markdown",
   "id": "chief-vegetable",
   "metadata": {},
   "source": [
    "## Test extract_filter_atl08.py code on Test Data\n",
    "We are running extract_filter_atl08.py (but *FILTERING* is turned off):\n",
    "\n",
    "python /projects/icesat2_boreal/lib/extract_filter_atl08.py -o \"/projects/test_data/test_data_30m\" -i \"/projects/my-private-bucket/dps_output/run_rebinning_ubuntu/master/2022/02/25/18/51/17/542274/ATL08_30m_20190721220156_03640403_005_01.h5\" --no-filter-qual --do_30m\n",
    "\n",
    "python /projects/icesat2_boreal/lib/extract_filter_atl08.py -o \"/projects/test_data/test_data_30m\" -i \"https://maap-ops-workspace.s3.amazonaws.com.com/lduncanson/dps_output/run_rebinning_ubuntu/master/2022/02/25/18/51/17/542274/ATL08_30m_20190721220156_03640403_005_01.h5\" --no-filter-qual --do_30m\n",
    "\n",
    "python lib/extract_filter_atl08.py -i \"path/to/h5file\" -o \"path/of/out/dir\" --no-filter-qual --do_30m"
   ]
  },
  {
   "cell_type": "markdown",
   "id": "rotary-christmas",
   "metadata": {},
   "source": [
    "### Build the input list of granules\n",
    "##### replace the local path with the https url"
   ]
  },
  {
   "cell_type": "code",
   "execution_count": 47,
   "id": "dried-spain",
   "metadata": {},
   "outputs": [
    {
     "name": "stdout",
     "output_type": "stream",
     "text": [
      "CPU times: user 268 ms, sys: 410 ms, total: 678 ms\n",
      "Wall time: 4min 12s\n"
     ]
    },
    {
     "data": {
      "text/plain": [
       "1019"
      ]
     },
     "execution_count": 47,
     "metadata": {},
     "output_type": "execute_result"
    }
   ],
   "source": [
    "%%time\n",
    "INPUT_ATL08_GRANULE_LIST = [i.replace(\"/projects/my-private-bucket\", \"https://maap-ops-workspace.s3.amazonaws.com/lduncanson\") for i in glob.glob(\"/projects/my-private-bucket/dps_output/run_rebinning_ubuntu/master/2022/02/**/*.h5\", recursive=True)]\n",
    "len(INPUT_ATL08_GRANULE_LIST)"
   ]
  },
  {
   "cell_type": "markdown",
   "id": "consecutive-tobago",
   "metadata": {},
   "source": [
    "#### Set TEST, get list"
   ]
  },
  {
   "cell_type": "code",
   "execution_count": 46,
   "id": "legislative-dialogue",
   "metadata": {},
   "outputs": [
    {
     "data": {
      "text/plain": [
       "'https://maap-ops-workspace.s3.amazonaws.com/lduncanson/dps_output/run_rebinning_ubuntu/master/2022/02/26/00/11/54/852581/ATL08_30m_20181014003519_02350106_005_01.h5'"
      ]
     },
     "execution_count": 46,
     "metadata": {},
     "output_type": "execute_result"
    }
   ],
   "source": [
    "TEST_DPS  = True\n",
    "\n",
    "if TEST_DPS:\n",
    "    DPS_INPUT_ATL08_GRANULE_LIST = INPUT_ATL08_GRANULE_LIST[-10:]\n",
    "else:\n",
    "    DPS_INPUT_ATL08_GRANULE_LIST = INPUT_ATL08_GRANULE_LIST\n",
    "    \n",
    "DPS_INPUT_ATL08_GRANULE_LIST[-1]"
   ]
  },
  {
   "cell_type": "markdown",
   "id": "diverse-mystery",
   "metadata": {},
   "source": [
    "## Run a DPS job across the list"
   ]
  },
  {
   "cell_type": "code",
   "execution_count": 44,
   "id": "ordinary-aggregate",
   "metadata": {},
   "outputs": [
    {
     "name": "stdout",
     "output_type": "stream",
     "text": [
      "DPS run #: 1 | granule name: ATL08_30m_20210713125446_03041202_005_01.h5 | job info: {'status': 'success', 'http_status_code': 200, 'job_id': 'ab4503c2-c65b-41e5-80f2-ecea558f6524'}\n",
      "DPS run #: 10 | granule name: ATL08_30m_20181014003519_02350106_005_01.h5 | job info: {'status': 'success', 'http_status_code': 200, 'job_id': '2a02cb77-21b1-4f5b-a80e-71f53ee19900'}\n"
     ]
    }
   ],
   "source": [
    "for i, INPUT_ATL08_GRANULE in enumerate(DPS_INPUT_ATL08_GRANULE_LIST):\n",
    "\n",
    "    DPS_num = i+1\n",
    "    in_param_dict = {\n",
    "                        'input_file': INPUT_ATL08_GRANULE\n",
    "                    }\n",
    "\n",
    "    submit_result = maap.submitJob(\n",
    "            identifier='run_extract_filter_atl08',\n",
    "            algo_id='run_extract_filter_atl08_ubuntu',\n",
    "            version='master',\n",
    "            username='lduncanson', # username needs to be the same as whoever created the workspace\n",
    "            queue='maap-dps-worker-8gb',\n",
    "            **in_param_dict\n",
    "        )\n",
    "\n",
    "    #submit_result = 'submit test'\n",
    "    if DPS_num in [1, 100, 500, 1000, 3000, len(INPUT_ATL08_GRANULE_LIST)]:\n",
    "       print(f\"DPS run #: {DPS_num} | granule name: {os.path.basename(INPUT_ATL08_GRANULE)} | job info: {submit_result}\") "
   ]
  },
  {
   "cell_type": "code",
   "execution_count": 48,
   "id": "completed-carol",
   "metadata": {},
   "outputs": [
    {
     "data": {
      "text/plain": [
       "512"
      ]
     },
     "execution_count": 48,
     "metadata": {},
     "output_type": "execute_result"
    }
   ],
   "source": [
    "os.system( 'python /projects/icesat2_boreal/lib/build_tindex_master.py -t ATL08 -dps_year 2021 --outdir /projects/my-public-bucket/test_output')"
   ]
  }
 ],
 "metadata": {
  "kernelspec": {
   "display_name": "Python 3",
   "language": "python",
   "name": "python3"
  },
  "language_info": {
   "codemirror_mode": {
    "name": "ipython",
    "version": 3
   },
   "file_extension": ".py",
   "mimetype": "text/x-python",
   "name": "python",
   "nbconvert_exporter": "python",
   "pygments_lexer": "ipython3",
   "version": "3.7.4"
  }
 },
 "nbformat": 4,
 "nbformat_minor": 5
}
