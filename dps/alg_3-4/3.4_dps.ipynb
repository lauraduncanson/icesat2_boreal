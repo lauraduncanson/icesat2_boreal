{
 "cells": [
  {
   "cell_type": "code",
   "execution_count": 22,
   "id": "overall-syria",
   "metadata": {},
   "outputs": [],
   "source": [
    "from maap.maap import MAAP\n",
    "maap = MAAP(maap_host='api.ops.maap-project.org')"
   ]
  },
  {
   "cell_type": "markdown",
   "id": "coordinated-underground",
   "metadata": {},
   "source": [
    "# Launch DPS for mapBoreal.R"
   ]
  },
  {
   "cell_type": "code",
   "execution_count": 23,
   "id": "dramatic-frost",
   "metadata": {},
   "outputs": [
    {
     "name": "stdout",
     "output_type": "stream",
     "text": [
      "Requirement already satisfied: xmltodict in /opt/conda/lib/python3.7/site-packages (0.12.0)\n",
      "\u001b[33mWARNING: Running pip as the 'root' user can result in broken permissions and conflicting behaviour with the system package manager. It is recommended to use a virtual environment instead: https://pip.pypa.io/warnings/venv\u001b[0m\u001b[33m\n",
      "\u001b[0m\u001b[33mWARNING: You are using pip version 22.0.3; however, version 22.0.4 is available.\n",
      "You should consider upgrading via the '/opt/conda/bin/python -m pip install --upgrade pip' command.\u001b[0m\u001b[33m\n",
      "\u001b[0m"
     ]
    }
   ],
   "source": [
    "import os\n",
    "import geopandas\n",
    "import pandas as pd\n",
    "import json\n",
    "import datetime\n",
    "!pip install xmltodict\n",
    "import xmltodict\n",
    "\n",
    "def local_to_s3(url, user='lduncanson'):\n",
    "    ''' A Function to convert local paths to s3 urls'''\n",
    "    return url.replace('/projects/my-private-bucket', f's3://maap-ops-workspace/{user}')\n",
    "def local_to_https(url, user='lduncanson'):\n",
    "    ''' A Function to convert local paths to https urls'''\n",
    "    return url.replace('/projects/my-private-bucket', f'https://s3.console.aws.amazon.com/s3/buckets/maap-ops-workspace/{user}')\n",
    "def local_to_https_uswest2(url, user='lduncanson'):\n",
    "    ''' A Function to convert local paths to https us-west-s urls'''\n",
    "    return url.replace('/projects/my-private-bucket', f'https://maap-ops-workspace.s3.us-west-2.amazonaws.com/{user}')"
   ]
  },
  {
   "cell_type": "code",
   "execution_count": 24,
   "id": "norman-association",
   "metadata": {},
   "outputs": [],
   "source": [
    "#atl08_filt_tindex_master =   pd.read_csv('s3://maap-ops-workspace/lduncanson/dps_output/run_tile_atl08_ubuntu/master/2022/03/ATL08_filt_tindex_master.csv')\n",
    "\n",
    "atl08_filt_tindex_master =   pd.read_csv('s3://maap-ops-workspace/lduncanson/dps_output/run_tile_atl08_ubuntu/master/2022/03/ATL08_filt_tindex_master.csv')\n",
    "topo_tindex_master =         pd.read_csv('s3://maap-ops-workspace/shared/nathanmthomas/DPS_tile_lists/Topo_tindex_master.csv')\n",
    "landsat_tindex_master =      pd.read_csv('s3://maap-ops-workspace/shared/nathanmthomas/DPS_tile_lists/HLS_tindex_master.csv')\n",
    "\n",
    "# Convert al local_paths to s3\n",
    "#.. for data produced by 'lduncanson' workspace\n",
    "atl08_filt_tindex_master['https'] = [local_to_https_uswest2(local_path, user='lduncanson') for local_path in atl08_filt_tindex_master['local_path']]\n",
    "\n",
    "#.. for data produced by 'nathanmthomas' workspace\n",
    "for tindex_master in [topo_tindex_master, landsat_tindex_master]:\n",
    "    tindex_master['https'] = [local_to_https_uswest2(local_path, user='nathanmthomas') for local_path in tindex_master['local_path']]"
   ]
  },
  {
   "cell_type": "markdown",
   "id": "historical-spirituality",
   "metadata": {},
   "source": [
    "# Use the ATL08 filtered tindex master list to tell you which tiles you'll run"
   ]
  },
  {
   "cell_type": "code",
   "execution_count": 25,
   "id": "dirty-mobile",
   "metadata": {},
   "outputs": [
    {
     "name": "stdout",
     "output_type": "stream",
     "text": [
      "16\n"
     ]
    }
   ],
   "source": [
    "\n",
    "NORWAY_TILE_LIST = pd.read_csv('/projects/my-public-bucket/misc_files/norway_tiles.csv').layer.tolist()\n",
    "\n",
    "NORWAY_TILE_LIST = [42,199,200,223,224,386,387,11,49,111,112,131]\n",
    "\n",
    "DELTA_TILE_LIST = [3459]\n",
    "\n",
    "BONA_TILE_LIST  = [3364,3365]\n",
    "\n",
    "HEALY_TILE_LIST = [3552]\n",
    "\n",
    "INPUT_EXPERIMENT_TILE_NUM_LIST = NORWAY_TILE_LIST + DELTA_TILE_LIST + BONA_TILE_LIST + HEALY_TILE_LIST\n",
    "#INPUT_EXPERIMENT_TILE_NUM_LIST = NORWAY_TILE_LIST\n",
    "#DPS_INPUT_TILE_NUM_LIST = INPUT_EXPERIMENT_TILE_NUM_LIST\n",
    "#len(DPS_INPUT_TILE_NUM_LIST)\n",
    "\n",
    "#ALASKA_TILE_LIST =  list(range(3268,3272+1))+\\\n",
    "#                    list(range(3361,3366+1))+\\\n",
    "#                    list(range(3454,3459+1))+\\\n",
    "#                    list(range(3549,3555+1))+\\\n",
    "#                    list(range(3643,3648+1))\n",
    "\n",
    "INPUT_EXPERIMENT_TILE_NUM_LIST = NORWAY_TILE_LIST + DELTA_TILE_LIST + BONA_TILE_LIST + HEALY_TILE_LIST\n",
    "print(len(INPUT_EXPERIMENT_TILE_NUM_LIST))\n",
    "DPS_INPUT_TILE_NUM_LIST = INPUT_EXPERIMENT_TILE_NUM_LIST\n"
   ]
  },
  {
   "cell_type": "code",
   "execution_count": 26,
   "id": "timely-jewelry",
   "metadata": {},
   "outputs": [
    {
     "name": "stdout",
     "output_type": "stream",
     "text": [
      "https://maap-ops-workspace.s3.us-west-2.amazonaws.com/lduncanson/dps_output/run_tile_atl08_ubuntu/master/2022/03/29/18/29/59/983365/atl08_005_30m_filt_topo_landsat_20220329_0042.csv\n",
      "https://maap-ops-workspace.s3.us-west-2.amazonaws.com/nathanmthomas/dps_output/do_topo_stack_3-1-5_ubuntu/ops/2021/09/15/18/18/44/208345/Copernicus_42_covars_cog_topo_stack.tif\n",
      "https://maap-ops-workspace.s3.us-west-2.amazonaws.com/nathanmthomas/dps_output/do_HLS_stack_3-1-2_ubuntu/master/2022/03/24/22/02/23/520013/HLS_42_06-01_09-15_2019_2021.tif\n"
     ]
    }
   ],
   "source": [
    "# Check retrieval of s3 path with a tle_num\n",
    "in_atl08_https =  atl08_filt_tindex_master['https'].loc[atl08_filt_tindex_master['tile_num'] == DPS_INPUT_TILE_NUM_LIST[0]].tolist()[0]\n",
    "in_topo_https = topo_tindex_master['https'].loc[topo_tindex_master['tile_num'] == DPS_INPUT_TILE_NUM_LIST[0]].tolist()[0]\n",
    "in_landsat_https = landsat_tindex_master['https'].loc[landsat_tindex_master['tile_num'] == DPS_INPUT_TILE_NUM_LIST[0]].tolist()[0]\n",
    "print(in_atl08_https)\n",
    "print(in_topo_https)\n",
    "print(in_landsat_https)"
   ]
  },
  {
   "cell_type": "markdown",
   "id": "european-worship",
   "metadata": {},
   "source": [
    "## Get files for boreal biomass models & boreal wide sample\n"
   ]
  },
  {
   "cell_type": "code",
   "execution_count": 27,
   "id": "published-greece",
   "metadata": {},
   "outputs": [],
   "source": [
    "bio_models_https = 'https://s3.console.aws.amazon.com/s3/buckets/maap-ops-workspace/lduncanson/my-private-bucket/bio_models.tar'\n",
    "\n",
    "train_data_https = 'https://maap-ops-workspace.s3.us-west-2.amazonaws.com/lduncanson/boreal_train_data_v3.csv'"
   ]
  },
  {
   "cell_type": "code",
   "execution_count": 28,
   "id": "fitted-conviction",
   "metadata": {},
   "outputs": [
    {
     "data": {
      "text/plain": [
       "'https://s3.console.aws.amazon.com/s3/buckets/maap-ops-workspace/lduncanson/my-private-bucket/bio_models.tar'"
      ]
     },
     "execution_count": 28,
     "metadata": {},
     "output_type": "execute_result"
    }
   ],
   "source": [
    "bio_models_https"
   ]
  },
  {
   "cell_type": "markdown",
   "id": "incorporate-bachelor",
   "metadata": {},
   "source": [
    "## Test from Terminal"
   ]
  },
  {
   "cell_type": "code",
   "execution_count": 29,
   "id": "balanced-algeria",
   "metadata": {},
   "outputs": [],
   "source": [
    "# put latest test data in a test folder (outside repo)\n",
    "# Terminal:\n",
    "                           \n",
    "# file 1: /projects/testing/input/atl08_004_30m_filt_topo_landsat_20220208_0042.csv\n",
    "# file 2: /projects/shared-buckets/nathanmthomas/alg_34_testing/Copernicus_42_covars_cog_topo_stack.tif\n",
    "# file 3: /projects/shared-buckets/nathanmthomas/alg_34_testing/Landsat8_42_comp_cog_2015-2020_dps.tif\n",
    "#file 4: /projects/my-private-bucket/boreal_train_data_v3.csv\n",
    "#file 5: /projects/my-private-bucket/bio_models.tar\n",
    "#file 6: 42\n",
    "# file 7:\n",
    "\n",
    "# ./run_boreal_biomass.sh file1 file2 file3 file4 file5 file6 file7\n",
    "#ATL08_CSV= /projects/testing/input/atl08_005_30m_filt_topo_landsat_20220322_0042.csv\n",
    "#TOPO_TIF=/projects/shared-buckets/nathanmthomas/alg_34_testing/Copernicus_42_covars_cog_topo_stack.tif\n",
    "#LANDSAT_TIF= /projects/shared-buckets/nathanmthomas/alg_34_testing/Landsat8_42_comp_cog_2015-2020_dps.tif\n",
    "#DO_SLOPE_VALID_MASK= 'TRUE'\n",
    "#ATL08_SAMPLE_CSV=/projects/my-private-bucket/boreal_train_data_v3.csv\n",
    "#in_tile_num=42\n",
    "#in_tile_fn=/projects/shared-buckets/nathanmthomas/boreal_grid_albers90k_gpkg.gpkg\n",
    "\n",
    "#python /projects/icesat2_boreal/lib/merge_neighbors_atl08.py -in_tile_num 42 -in_tile_fn /projects/shared-buckets/nathanmthomas/boreal_tiles_v003.gpkg -in_tile_field 'tile_num' -csv_list_fn s3://maap-ops-workspace/shared/lduncanson/DPS_tile_lists/ATL08_filt_tindex_master.csv -out_dir /projects/testing/output/\n",
    "#echo $cmd\n",
    "#eval $cmd\n",
    "\n",
    "# Set the output merged CSV name to a var\n",
    "#MERGED_ATL08_CSV=$(ls ${OUTPUTDIR}/atl08_005_30m_filt_merge_neighbors* | head -1)\n",
    "\n",
    "# Run mapBoreal with merged CSV as input\n",
    "#conda activate r-with-gdal\n",
    "\n",
    "\n",
    "#Rscript /projects/icesat2_boreal/lib/mapBoreal.R /projects/testing/output/atl08_004_30m_filt_merge_neighbors_0042.csv /projects/shared-buckets/nathanmthomas/alg_34_testing/Copernicus_42_covars_cog_topo_stack.tif /projects/shared-buckets/nathanmthomas/alg_34_testing/HLS_42_06-01_09-15_2019_2021.tif 'TRUE' /projects/my-private-bucket/boreal_train_data_v3.csv 2 2 100 300 5 TRUE 100 3000 \n",
    "\n"
   ]
  },
  {
   "cell_type": "markdown",
   "id": "indirect-begin",
   "metadata": {},
   "source": [
    "## Run a DPS job\n"
   ]
  },
  {
   "cell_type": "code",
   "execution_count": 30,
   "id": "tough-tactics",
   "metadata": {},
   "outputs": [
    {
     "name": "stdout",
     "output_type": "stream",
     "text": [
      "# of input tiles for DPS: 16\n",
      "DPS run #: 1\t| tile num: 42\t| submit status: success\t| job id: bd4cdd6b-47b9-4236-80d3-01faa62ff027\n",
      "DPS run #: 2\t| tile num: 199\t| submit status: success\t| job id: ed40f42e-f738-4b7f-95b4-bc121bed5344\n",
      "Current time:\t202204201941\n",
      "CPU times: user 208 ms, sys: 18.2 ms, total: 227 ms\n",
      "Wall time: 4.31 s\n"
     ]
    },
    {
     "data": {
      "text/html": [
       "<div>\n",
       "<style scoped>\n",
       "    .dataframe tbody tr th:only-of-type {\n",
       "        vertical-align: middle;\n",
       "    }\n",
       "\n",
       "    .dataframe tbody tr th {\n",
       "        vertical-align: top;\n",
       "    }\n",
       "\n",
       "    .dataframe thead th {\n",
       "        text-align: right;\n",
       "    }\n",
       "</style>\n",
       "<table border=\"1\" class=\"dataframe\">\n",
       "  <thead>\n",
       "    <tr style=\"text-align: right;\">\n",
       "      <th></th>\n",
       "      <th>status</th>\n",
       "      <th>http_status_code</th>\n",
       "      <th>job_id</th>\n",
       "      <th>dps_num</th>\n",
       "      <th>tile_num</th>\n",
       "      <th>submit_time</th>\n",
       "      <th>dbs_job_hour</th>\n",
       "      <th>algo_id</th>\n",
       "      <th>user</th>\n",
       "      <th>worker_type</th>\n",
       "    </tr>\n",
       "  </thead>\n",
       "  <tbody>\n",
       "    <tr>\n",
       "      <th>0</th>\n",
       "      <td>success</td>\n",
       "      <td>200</td>\n",
       "      <td>bd4cdd6b-47b9-4236-80d3-01faa62ff027</td>\n",
       "      <td>1</td>\n",
       "      <td>42</td>\n",
       "      <td>2022-04-20 19:41:49.734906</td>\n",
       "      <td>19</td>\n",
       "      <td>run_boreal_biomass_v3_ubuntu</td>\n",
       "      <td>lduncanson</td>\n",
       "      <td>maap-dps-worker-32gb</td>\n",
       "    </tr>\n",
       "    <tr>\n",
       "      <th>0</th>\n",
       "      <td>success</td>\n",
       "      <td>200</td>\n",
       "      <td>ed40f42e-f738-4b7f-95b4-bc121bed5344</td>\n",
       "      <td>2</td>\n",
       "      <td>199</td>\n",
       "      <td>2022-04-20 19:41:49.804950</td>\n",
       "      <td>19</td>\n",
       "      <td>run_boreal_biomass_v3_ubuntu</td>\n",
       "      <td>lduncanson</td>\n",
       "      <td>maap-dps-worker-32gb</td>\n",
       "    </tr>\n",
       "    <tr>\n",
       "      <th>0</th>\n",
       "      <td>success</td>\n",
       "      <td>200</td>\n",
       "      <td>46916d6f-f9da-4e6b-a267-024c3ab0fa18</td>\n",
       "      <td>3</td>\n",
       "      <td>200</td>\n",
       "      <td>2022-04-20 19:41:49.900017</td>\n",
       "      <td>19</td>\n",
       "      <td>run_boreal_biomass_v3_ubuntu</td>\n",
       "      <td>lduncanson</td>\n",
       "      <td>maap-dps-worker-32gb</td>\n",
       "    </tr>\n",
       "    <tr>\n",
       "      <th>0</th>\n",
       "      <td>success</td>\n",
       "      <td>200</td>\n",
       "      <td>b0168938-aa5e-4065-93c1-6502b3b5d095</td>\n",
       "      <td>4</td>\n",
       "      <td>223</td>\n",
       "      <td>2022-04-20 19:41:50.092734</td>\n",
       "      <td>19</td>\n",
       "      <td>run_boreal_biomass_v3_ubuntu</td>\n",
       "      <td>lduncanson</td>\n",
       "      <td>maap-dps-worker-32gb</td>\n",
       "    </tr>\n",
       "    <tr>\n",
       "      <th>0</th>\n",
       "      <td>success</td>\n",
       "      <td>200</td>\n",
       "      <td>f12215b1-a0d9-4171-b081-72449279c31c</td>\n",
       "      <td>5</td>\n",
       "      <td>224</td>\n",
       "      <td>2022-04-20 19:41:50.320751</td>\n",
       "      <td>19</td>\n",
       "      <td>run_boreal_biomass_v3_ubuntu</td>\n",
       "      <td>lduncanson</td>\n",
       "      <td>maap-dps-worker-32gb</td>\n",
       "    </tr>\n",
       "    <tr>\n",
       "      <th>0</th>\n",
       "      <td>success</td>\n",
       "      <td>200</td>\n",
       "      <td>bd4af487-8ffd-48e9-8b3f-df3ff4156900</td>\n",
       "      <td>6</td>\n",
       "      <td>386</td>\n",
       "      <td>2022-04-20 19:41:50.545531</td>\n",
       "      <td>19</td>\n",
       "      <td>run_boreal_biomass_v3_ubuntu</td>\n",
       "      <td>lduncanson</td>\n",
       "      <td>maap-dps-worker-32gb</td>\n",
       "    </tr>\n",
       "    <tr>\n",
       "      <th>0</th>\n",
       "      <td>success</td>\n",
       "      <td>200</td>\n",
       "      <td>8357f1c7-3e48-46ac-bba3-82eff2b54ea8</td>\n",
       "      <td>7</td>\n",
       "      <td>387</td>\n",
       "      <td>2022-04-20 19:41:50.779986</td>\n",
       "      <td>19</td>\n",
       "      <td>run_boreal_biomass_v3_ubuntu</td>\n",
       "      <td>lduncanson</td>\n",
       "      <td>maap-dps-worker-32gb</td>\n",
       "    </tr>\n",
       "    <tr>\n",
       "      <th>0</th>\n",
       "      <td>success</td>\n",
       "      <td>200</td>\n",
       "      <td>dfef3bdb-4f2b-4242-b8bb-02e52ed7cb1c</td>\n",
       "      <td>8</td>\n",
       "      <td>11</td>\n",
       "      <td>2022-04-20 19:41:50.986554</td>\n",
       "      <td>19</td>\n",
       "      <td>run_boreal_biomass_v3_ubuntu</td>\n",
       "      <td>lduncanson</td>\n",
       "      <td>maap-dps-worker-32gb</td>\n",
       "    </tr>\n",
       "    <tr>\n",
       "      <th>0</th>\n",
       "      <td>success</td>\n",
       "      <td>200</td>\n",
       "      <td>bb0d3a84-2c5d-4ac9-a9b9-26cb8332f48e</td>\n",
       "      <td>9</td>\n",
       "      <td>49</td>\n",
       "      <td>2022-04-20 19:41:51.248851</td>\n",
       "      <td>19</td>\n",
       "      <td>run_boreal_biomass_v3_ubuntu</td>\n",
       "      <td>lduncanson</td>\n",
       "      <td>maap-dps-worker-32gb</td>\n",
       "    </tr>\n",
       "    <tr>\n",
       "      <th>0</th>\n",
       "      <td>success</td>\n",
       "      <td>200</td>\n",
       "      <td>a1724057-7a20-4cae-8eca-17b4155e961f</td>\n",
       "      <td>10</td>\n",
       "      <td>111</td>\n",
       "      <td>2022-04-20 19:41:52.602767</td>\n",
       "      <td>19</td>\n",
       "      <td>run_boreal_biomass_v3_ubuntu</td>\n",
       "      <td>lduncanson</td>\n",
       "      <td>maap-dps-worker-32gb</td>\n",
       "    </tr>\n",
       "    <tr>\n",
       "      <th>0</th>\n",
       "      <td>success</td>\n",
       "      <td>200</td>\n",
       "      <td>fd530249-5bac-4e4d-9799-47b66731cf36</td>\n",
       "      <td>11</td>\n",
       "      <td>112</td>\n",
       "      <td>2022-04-20 19:41:52.733057</td>\n",
       "      <td>19</td>\n",
       "      <td>run_boreal_biomass_v3_ubuntu</td>\n",
       "      <td>lduncanson</td>\n",
       "      <td>maap-dps-worker-32gb</td>\n",
       "    </tr>\n",
       "    <tr>\n",
       "      <th>0</th>\n",
       "      <td>success</td>\n",
       "      <td>200</td>\n",
       "      <td>2f461100-df25-4986-ac0b-dcefe60f29fc</td>\n",
       "      <td>12</td>\n",
       "      <td>131</td>\n",
       "      <td>2022-04-20 19:41:52.820158</td>\n",
       "      <td>19</td>\n",
       "      <td>run_boreal_biomass_v3_ubuntu</td>\n",
       "      <td>lduncanson</td>\n",
       "      <td>maap-dps-worker-32gb</td>\n",
       "    </tr>\n",
       "    <tr>\n",
       "      <th>0</th>\n",
       "      <td>success</td>\n",
       "      <td>200</td>\n",
       "      <td>d6dc5537-6cdc-43f5-9c47-86a60d63b5e4</td>\n",
       "      <td>13</td>\n",
       "      <td>3459</td>\n",
       "      <td>2022-04-20 19:41:52.898582</td>\n",
       "      <td>19</td>\n",
       "      <td>run_boreal_biomass_v3_ubuntu</td>\n",
       "      <td>lduncanson</td>\n",
       "      <td>maap-dps-worker-32gb</td>\n",
       "    </tr>\n",
       "    <tr>\n",
       "      <th>0</th>\n",
       "      <td>success</td>\n",
       "      <td>200</td>\n",
       "      <td>496ce80f-da4f-4d09-85e9-f4ee3ef1c2eb</td>\n",
       "      <td>14</td>\n",
       "      <td>3364</td>\n",
       "      <td>2022-04-20 19:41:53.087350</td>\n",
       "      <td>19</td>\n",
       "      <td>run_boreal_biomass_v3_ubuntu</td>\n",
       "      <td>lduncanson</td>\n",
       "      <td>maap-dps-worker-32gb</td>\n",
       "    </tr>\n",
       "    <tr>\n",
       "      <th>0</th>\n",
       "      <td>success</td>\n",
       "      <td>200</td>\n",
       "      <td>ec7b4791-7a4a-40bb-9802-b62db72c69df</td>\n",
       "      <td>15</td>\n",
       "      <td>3365</td>\n",
       "      <td>2022-04-20 19:41:53.386338</td>\n",
       "      <td>19</td>\n",
       "      <td>run_boreal_biomass_v3_ubuntu</td>\n",
       "      <td>lduncanson</td>\n",
       "      <td>maap-dps-worker-32gb</td>\n",
       "    </tr>\n",
       "    <tr>\n",
       "      <th>0</th>\n",
       "      <td>success</td>\n",
       "      <td>200</td>\n",
       "      <td>db44e173-1ee3-41c3-b958-789db7422889</td>\n",
       "      <td>16</td>\n",
       "      <td>3552</td>\n",
       "      <td>2022-04-20 19:41:53.574867</td>\n",
       "      <td>19</td>\n",
       "      <td>run_boreal_biomass_v3_ubuntu</td>\n",
       "      <td>lduncanson</td>\n",
       "      <td>maap-dps-worker-32gb</td>\n",
       "    </tr>\n",
       "  </tbody>\n",
       "</table>\n",
       "</div>"
      ],
      "text/plain": [
       "    status  http_status_code                                job_id  dps_num  \\\n",
       "0  success               200  bd4cdd6b-47b9-4236-80d3-01faa62ff027        1   \n",
       "0  success               200  ed40f42e-f738-4b7f-95b4-bc121bed5344        2   \n",
       "0  success               200  46916d6f-f9da-4e6b-a267-024c3ab0fa18        3   \n",
       "0  success               200  b0168938-aa5e-4065-93c1-6502b3b5d095        4   \n",
       "0  success               200  f12215b1-a0d9-4171-b081-72449279c31c        5   \n",
       "0  success               200  bd4af487-8ffd-48e9-8b3f-df3ff4156900        6   \n",
       "0  success               200  8357f1c7-3e48-46ac-bba3-82eff2b54ea8        7   \n",
       "0  success               200  dfef3bdb-4f2b-4242-b8bb-02e52ed7cb1c        8   \n",
       "0  success               200  bb0d3a84-2c5d-4ac9-a9b9-26cb8332f48e        9   \n",
       "0  success               200  a1724057-7a20-4cae-8eca-17b4155e961f       10   \n",
       "0  success               200  fd530249-5bac-4e4d-9799-47b66731cf36       11   \n",
       "0  success               200  2f461100-df25-4986-ac0b-dcefe60f29fc       12   \n",
       "0  success               200  d6dc5537-6cdc-43f5-9c47-86a60d63b5e4       13   \n",
       "0  success               200  496ce80f-da4f-4d09-85e9-f4ee3ef1c2eb       14   \n",
       "0  success               200  ec7b4791-7a4a-40bb-9802-b62db72c69df       15   \n",
       "0  success               200  db44e173-1ee3-41c3-b958-789db7422889       16   \n",
       "\n",
       "   tile_num                submit_time  dbs_job_hour  \\\n",
       "0        42 2022-04-20 19:41:49.734906            19   \n",
       "0       199 2022-04-20 19:41:49.804950            19   \n",
       "0       200 2022-04-20 19:41:49.900017            19   \n",
       "0       223 2022-04-20 19:41:50.092734            19   \n",
       "0       224 2022-04-20 19:41:50.320751            19   \n",
       "0       386 2022-04-20 19:41:50.545531            19   \n",
       "0       387 2022-04-20 19:41:50.779986            19   \n",
       "0        11 2022-04-20 19:41:50.986554            19   \n",
       "0        49 2022-04-20 19:41:51.248851            19   \n",
       "0       111 2022-04-20 19:41:52.602767            19   \n",
       "0       112 2022-04-20 19:41:52.733057            19   \n",
       "0       131 2022-04-20 19:41:52.820158            19   \n",
       "0      3459 2022-04-20 19:41:52.898582            19   \n",
       "0      3364 2022-04-20 19:41:53.087350            19   \n",
       "0      3365 2022-04-20 19:41:53.386338            19   \n",
       "0      3552 2022-04-20 19:41:53.574867            19   \n",
       "\n",
       "                        algo_id        user           worker_type  \n",
       "0  run_boreal_biomass_v3_ubuntu  lduncanson  maap-dps-worker-32gb  \n",
       "0  run_boreal_biomass_v3_ubuntu  lduncanson  maap-dps-worker-32gb  \n",
       "0  run_boreal_biomass_v3_ubuntu  lduncanson  maap-dps-worker-32gb  \n",
       "0  run_boreal_biomass_v3_ubuntu  lduncanson  maap-dps-worker-32gb  \n",
       "0  run_boreal_biomass_v3_ubuntu  lduncanson  maap-dps-worker-32gb  \n",
       "0  run_boreal_biomass_v3_ubuntu  lduncanson  maap-dps-worker-32gb  \n",
       "0  run_boreal_biomass_v3_ubuntu  lduncanson  maap-dps-worker-32gb  \n",
       "0  run_boreal_biomass_v3_ubuntu  lduncanson  maap-dps-worker-32gb  \n",
       "0  run_boreal_biomass_v3_ubuntu  lduncanson  maap-dps-worker-32gb  \n",
       "0  run_boreal_biomass_v3_ubuntu  lduncanson  maap-dps-worker-32gb  \n",
       "0  run_boreal_biomass_v3_ubuntu  lduncanson  maap-dps-worker-32gb  \n",
       "0  run_boreal_biomass_v3_ubuntu  lduncanson  maap-dps-worker-32gb  \n",
       "0  run_boreal_biomass_v3_ubuntu  lduncanson  maap-dps-worker-32gb  \n",
       "0  run_boreal_biomass_v3_ubuntu  lduncanson  maap-dps-worker-32gb  \n",
       "0  run_boreal_biomass_v3_ubuntu  lduncanson  maap-dps-worker-32gb  \n",
       "0  run_boreal_biomass_v3_ubuntu  lduncanson  maap-dps-worker-32gb  "
      ]
     },
     "execution_count": 30,
     "metadata": {},
     "output_type": "execute_result"
    }
   ],
   "source": [
    "%%time\n",
    "submit_results_df_list = []\n",
    "len_input_list = len(DPS_INPUT_TILE_NUM_LIST)\n",
    "print(f\"# of input tiles for DPS: {len_input_list}\")\n",
    "\n",
    "for i, INPUT_TILE_NUM in enumerate(DPS_INPUT_TILE_NUM_LIST):\n",
    "\n",
    "    DPS_num = i+1\n",
    "    IDENTIFIER = 'run_boreal_biomass_v3'\n",
    "    ALGO_ID = f'{IDENTIFIER}_ubuntu'\n",
    "    USER = 'lduncanson'\n",
    "    WORKER_TYPE = 'maap-dps-worker-32gb'\n",
    "    \n",
    "    # Maybe we're using an input tile list that isnt built directly from an ATL08_filt CSV\n",
    "    # so, check if we have filtered ATL08 for this tile:\n",
    "    if INPUT_TILE_NUM in atl08_filt_tindex_master['tile_num'].to_list():\n",
    "        \n",
    "        # Get the s3 paths of the corresponding input filenames with an input tile_num\n",
    "        in_atl08_https =  atl08_filt_tindex_master['https'].loc[atl08_filt_tindex_master['tile_num'] == INPUT_TILE_NUM].tolist()[0]\n",
    "        in_topo_https = topo_tindex_master['https'].loc[topo_tindex_master['tile_num'] == INPUT_TILE_NUM].tolist()[0]\n",
    "        in_landsat_https = landsat_tindex_master['https'].loc[landsat_tindex_master['tile_num'] == INPUT_TILE_NUM].tolist()[0]\n",
    "    else:\n",
    "        print(f\"No filtered ATL08 for tile {INPUT_TILE_NUM}. Moving on..\" )\n",
    "        continue\n",
    "    \n",
    "    # iters is the number of iterations of RH model fits; set to low (2-5) to test, 30-50 for production\n",
    "    # 30 yields run times ~4 hours\n",
    "        \n",
    "    # ppside is the number of subtile splits. 2=4 subtiles, 3=9 subtiles\n",
    "    # increasing ppside reduces memory, increases length to completion\n",
    "    \n",
    "    # minDOY is the min possible DOY to search for tile training data. The default is set to May 1\n",
    "    # If sufficient data are found in growing season, minDOY will not be used\n",
    "    \n",
    "    # maxDOY is the max possible DOY to search for tile training data. The default is Sept 30.\n",
    "    \n",
    "    # max_sol_el is the max solar elevation possible to search. The default is 0\n",
    "    \n",
    "    # expand_training as TRUE sets iterative searching for training data up to min_n, starting with solar_el<0 and growing season and then:\n",
    "    # searches solar_el up to max_sol_el then\n",
    "    # searches iteratively one month later after growing season until maxDOY then\n",
    "    # searches iteratively one month earlier before growing season until minDOY\n",
    "    # if expand_training=FALSE the growing season sol_el<0 will be taken, and if none, no data will return\n",
    "    \n",
    "    # min_n is the tile training number desired, that expand_training will search until it is fulfilled (or the max available)\n",
    "    \n",
    "    #local_train_perc is the percent tile training data vs. boreal-wide training data. 100 = all local, 0 = all boreal wide\n",
    "    \n",
    "    \n",
    "    in_param_dict = {\n",
    "                                    'in_atl08_fn': 's3://maap-ops-workspace/lduncanson/dps_output/run_tile_atl08_ubuntu/master/2022/03/ATL08_filt_tindex_master.csv',\n",
    "                                    'in_topo_fn': f\"input/{os.path.basename(in_topo_https)}\",\n",
    "                                    'in_landsat_fn': f\"input/{os.path.basename(in_landsat_https)}\",\n",
    "                                    'in_atl08_fn_url': in_atl08_https,\n",
    "                                    'in_topo_fn_url': in_topo_https,\n",
    "                                    'in_landsat_fn_url': in_landsat_https,\n",
    "                                    'DO_SLOPE_VALID_MASK': 'TRUE',\n",
    "                                    'in_atl08_sample_fn':f\"input/{os.path.basename(train_data_https)}\",\n",
    "                                    'in_atl08_sample_url':train_data_https,\n",
    "                                    'in_tile_num': INPUT_TILE_NUM,\n",
    "                                    'in_tile_fn_url': 'https://maap-ops-workspace.s3.amazonaws.com/shared/nathanmthomas/boreal_tiles_v003.gpkg',\n",
    "                                    'in_tile_fn': 'input/boreal_tiles_v003.gpkg',\n",
    "                                    'in_tile_field': 'tile_num',\n",
    "                                    'iters': 5,\n",
    "                                    'ppside': 2,\n",
    "                                    'minDOY':1,\n",
    "                                    'maxDOY':365,\n",
    "                                    'max_sol_el':5,\n",
    "                                    'expand_training': 'TRUE',\n",
    "                                    'local_train_perc': 100,\n",
    "                                    'min_n': 3000                                    \n",
    "                }\n",
    "    \n",
    "    submit_result = maap.submitJob(\n",
    "            identifier=IDENTIFIER,\n",
    "            algo_id=ALGO_ID,\n",
    "            version='master',\n",
    "            username=USER, # username needs to be the same as whoever created the workspace\n",
    "            queue=WORKER_TYPE,\n",
    "            **in_param_dict\n",
    "        )\n",
    "\n",
    "    # Build a dataframe of submission details\n",
    "    submit_result['dps_num'] = DPS_num\n",
    "    submit_result['tile_num'] = INPUT_TILE_NUM\n",
    "    submit_result['submit_time'] = datetime.datetime.now()\n",
    "    submit_result['dbs_job_hour'] =datetime.datetime.now().hour\n",
    "    submit_result['algo_id'] = ALGO_ID\n",
    "    submit_result['user'] = USER\n",
    "    submit_result['worker_type'] = WORKER_TYPE\n",
    "\n",
    "    # Append to a list of data frames of submission results\n",
    "    submit_results_df_list.append(pd.DataFrame([submit_result]))\n",
    "    \n",
    "    if DPS_num in [1, 2, 25, 50, 100, 500, 1000, 1500, 2000, 3000, 5000, 7000, 9000, 11000, 13000, 15000, 17000, 19000, 21000, 24000]:\n",
    "        print(f\"DPS run #: {DPS_num}\\t| tile num: {INPUT_TILE_NUM}\\t| submit status: {submit_result['status']}\\t| job id: {submit_result['job_id']}\") \n",
    "        #local_path\n",
    "\n",
    "# Build a final submission results df and save\n",
    "submit_results_df = pd.concat(submit_results_df_list)\n",
    "nowtime = pd.Timestamp.now().strftime('%Y%m%d%H%M')\n",
    "print(f\"Current time:\\t{nowtime}\")\n",
    "submit_results_df.to_csv(f'/projects/my-public-bucket/DPS_{IDENTIFIER}_submission_results_{len_input_list}_{nowtime}.csv')\n",
    "submit_results_df"
   ]
  },
  {
   "cell_type": "markdown",
   "id": "lined-techno",
   "metadata": {},
   "source": [
    "## Assess DPS Results"
   ]
  },
  {
   "cell_type": "code",
   "execution_count": 33,
   "id": "confident-adoption",
   "metadata": {},
   "outputs": [
    {
     "name": "stdout",
     "output_type": "stream",
     "text": [
      "Count total jobs:\t16\n",
      "Count pending jobs:\t0\n",
      "Count running jobs:\t0\n",
      "Count succeeded jobs:\t16\n",
      "Count failed jobs:\t0\n",
      "% of failed jobs:\t0.0\n",
      "CPU times: user 165 ms, sys: 15.9 ms, total: 181 ms\n",
      "Wall time: 513 ms\n"
     ]
    }
   ],
   "source": [
    "%%time\n",
    "def BUILD_TABLE_JOBSTATUS(submit_results_df):\n",
    "    import xmltodict\n",
    "    df = pd.concat([pd.DataFrame(xmltodict.parse(maap.getJobStatus(job_id).content)).transpose() for job_id in submit_results_df.job_id.to_list()])\n",
    "    return df\n",
    "\n",
    "job_status_df = BUILD_TABLE_JOBSTATUS(submit_results_df)\n",
    "#print(job_status_df.head())\n",
    "\n",
    "num_jobs = submit_results_df.shape[0]\n",
    "z = submit_results_df.merge(job_status_df, how='left', left_on='job_id',  right_on='wps:JobID')\n",
    "\n",
    "print(f'Count total jobs:\\t{num_jobs}')\n",
    "print(f\"Count pending jobs:\\t{z[z['wps:Status'] =='Accepted'].shape[0]}\")\n",
    "print(f\"Count running jobs:\\t{z[z['wps:Status'] =='Running'].shape[0]}\")\n",
    "print(f\"Count succeeded jobs:\\t{z[z['wps:Status'] =='Succeeded'].shape[0]}\")\n",
    "print(f\"Count failed jobs:\\t{z[z['wps:Status'] =='Failed'].shape[0]}\")\n",
    "print(f\"% of failed jobs:\\t{round(z[z['wps:Status'] =='Failed'].shape[0] / ( z[z['wps:Status'] =='Failed'].shape[0] + z[z['wps:Status'] =='Succeeded'].shape[0] ), 4) * 100}\")"
   ]
  },
  {
   "cell_type": "code",
   "execution_count": 100,
   "id": "auburn-beast",
   "metadata": {},
   "outputs": [
    {
     "data": {
      "text/plain": [
       "OrderedDict([('wps:Result',\n",
       "              OrderedDict([('@xmlns:ows', 'http://www.opengis.net/ows/2.0'),\n",
       "                           ('@xmlns:schemaLocation',\n",
       "                            'http://schemas.opengis.net/wps/2.0/wps.xsd'),\n",
       "                           ('@xmlns:wps', 'http://www.opengis.net/wps/2.0'),\n",
       "                           ('@xmlns:xsi',\n",
       "                            'http://www.w3.org/2001/XMLSchema-instance'),\n",
       "                           ('wps:JobID',\n",
       "                            'fd103a8d-83b1-41d7-b795-f2f328f16269'),\n",
       "                           ('wps:Output',\n",
       "                            OrderedDict([('@id',\n",
       "                                          'output-2022-03-22T19:20:58.003202'),\n",
       "                                         ('wps:Data',\n",
       "                                          ['http://maap-ops-workspace.s3-website-us-west-2.amazonaws.com/lduncanson/dps_output/run_tile_atl08_ubuntu/master/2022/03/22/19/20/58/003202',\n",
       "                                           's3://s3.us-west-2.amazonaws.com:80/maap-ops-workspace/lduncanson/dps_output/run_tile_atl08_ubuntu/master/2022/03/22/19/20/58/003202',\n",
       "                                           'https://s3.console.aws.amazon.com/s3/buckets/maap-ops-workspace/lduncanson/dps_output/run_tile_atl08_ubuntu/master/2022/03/22/19/20/58/003202/?region=us-east-1&tab=overview'])]))]))])"
      ]
     },
     "execution_count": 100,
     "metadata": {},
     "output_type": "execute_result"
    }
   ],
   "source": [
    "xmltodict.parse(maap.getJobResult(z[z['wps:Status'] =='Succeeded'].iloc[0].job_id).content)"
   ]
  },
  {
   "cell_type": "code",
   "execution_count": 37,
   "id": "continent-sucking",
   "metadata": {
    "collapsed": true,
    "jupyter": {
     "outputs_hidden": true
    }
   },
   "outputs": [
    {
     "data": {
      "text/plain": [
       "OrderedDict([('wps:Result',\n",
       "              OrderedDict([('@xmlns:ows', 'http://www.opengis.net/ows/2.0'),\n",
       "                           ('@xmlns:schemaLocation',\n",
       "                            'http://schemas.opengis.net/wps/2.0/wps.xsd'),\n",
       "                           ('@xmlns:wps', 'http://www.opengis.net/wps/2.0'),\n",
       "                           ('@xmlns:xsi',\n",
       "                            'http://www.w3.org/2001/XMLSchema-instance'),\n",
       "                           ('wps:JobID',\n",
       "                            '051994c0-ae30-4cda-a900-4850a5151b1e'),\n",
       "                           ('wps:Output',\n",
       "                            OrderedDict([('@id', 'traceback'),\n",
       "                                         ('wps:Data',\n",
       "                                          'activate does not accept more than one argument:\\n[\\'/app/icesat2_boreal/dps/alg_3-4/run_boreal_biomass.sh\\', \\'input/atl08_005_30m_filt_topo_landsat_20220322_0011.csv\\', \\'input/Copernicus_11_covars_cog_topo_stack.tif\\', \\'input/Landsat8_11_comp_cog_2015-2020_dps.tif\\', \\'TRUE\\', \\'input/boreal_train_data_v3.csv\\', \\'11\\', \\'input/boreal_tiles_v003.gpkg\\', \\'5\\', \\'2\\']\\n\\n+ /app/icesat2_boreal/dps/alg_3-4/run_boreal_biomass.sh input/atl08_005_30m_filt_topo_landsat_20220322_0011.csv input/Copernicus_11_covars_cog_topo_stack.tif input/Landsat8_11_comp_cog_2015-2020_dps.tif TRUE input/boreal_train_data_v3.csv 11 input/boreal_tiles_v003.gpkg 5 2\\n+++ dirname /app/icesat2_boreal/dps/alg_3-4/run_boreal_biomass.sh\\n++ cd /app/icesat2_boreal/dps/alg_3-4\\n++ pwd -P\\n+ basedir=/app/icesat2_boreal/dps/alg_3-4\\n+ unset PROJ_LIB\\n+ mkdir output\\n+ ATL08_tindex_master_fn=s3://maap-ops-workspace/shared/lduncanson/DPS_tile_lists/2022_map_iterations/ATL08_filt_tindex_master_combo_night_solar.csv\\n+ ATL08_CSV=input/atl08_005_30m_filt_topo_landsat_20220322_0011.csv\\n+ TOPO_TIF=input/Copernicus_11_covars_cog_topo_stack.tif\\n+ LANDSAT_TIF=input/Landsat8_11_comp_cog_2015-2020_dps.tif\\n+ DO_SLOPE_VALID_MASK=TRUE\\n+ ATL08_SAMPLE_CSV=input/boreal_train_data_v3.csv\\n+ in_tile_num=11\\n+ in_tile_fn=input/boreal_tiles_v003.gpkg\\n+ iters=5\\n+ ppside=2\\n+ TAR_FILE=/app/icesat2_boreal/dps/alg_3-4/../../lib/bio_models.tar\\n+ tar -xf /app/icesat2_boreal/dps/alg_3-4/../../lib/bio_models.tar\\n+ OUTPUTDIR=/data/work/jobs/2022/03/23/15/56/job-run_boreal_biomass_v2_ubuntu__master-20220323T155411.587198Z/output\\n+ cmd=\\'python /app/icesat2_boreal/dps/alg_3-4/../../lib/merge_neighbors_atl08.py -in_tile_num 11 -in_tile_fn input/boreal_tiles_v003.gpkg -in_tile_field layer -csv_list_fn s3://maap-ops-workspace/shared/lduncanson/DPS_tile_lists/2022_map_iterations/ATL08_filt_tindex_master_combo_night_solar.csv -out_dir /data/work/jobs/2022/03/23/15/56/job-run_boreal_biomass_v2_ubuntu__master-20220323T155411.587198Z/output\\'\\n+ echo python /app/icesat2_boreal/dps/alg_3-4/../../lib/merge_neighbors_atl08.py -in_tile_num 11 -in_tile_fn input/boreal_tiles_v003.gpkg -in_tile_field layer -csv_list_fn s3://maap-ops-workspace/shared/lduncanson/DPS_tile_lists/2022_map_iterations/ATL08_filt_tindex_master_combo_night_solar.csv -out_dir /data/work/jobs/2022/03/23/15/56/job-run_boreal_biomass_v2_ubuntu__master-20220323T155411.587198Z/output\\n+ eval python /app/icesat2_boreal/dps/alg_3-4/../../lib/merge_neighbors_atl08.py -in_tile_num 11 -in_tile_fn input/boreal_tiles_v003.gpkg -in_tile_field layer -csv_list_fn s3://maap-ops-workspace/shared/lduncanson/DPS_tile_lists/2022_map_iterations/ATL08_filt_tindex_master_combo_night_solar.csv -out_dir /data/work/jobs/2022/03/23/15/56/job-run_boreal_biomass_v2_ubuntu__master-20220323T155411.587198Z/output\\n++ python /app/icesat2_boreal/dps/alg_3-4/../../lib/merge_neighbors_atl08.py -in_tile_num 11 -in_tile_fn input/boreal_tiles_v003.gpkg -in_tile_field layer -csv_list_fn s3://maap-ops-workspace/shared/lduncanson/DPS_tile_lists/2022_map_iterations/ATL08_filt_tindex_master_combo_night_solar.csv -out_dir /data/work/jobs/2022/03/23/15/56/job-run_boreal_biomass_v2_ubuntu__master-20220323T155411.587198Z/output\\nERROR 1: PROJ: proj_create_from_database: Open of /opt/conda/envs/icesat2_boreal/share/proj failed\\nTraceback (most recent call last):\\n  File \"/opt/conda/envs/icesat2_boreal/lib/python3.10/site-packages/pandas/core/indexes/base.py\", line 3621, in get_loc\\n    return self._engine.get_loc(casted_key)\\n  File \"pandas/_libs/index.pyx\", line 136, in pandas._libs.index.IndexEngine.get_loc\\n  File \"pandas/_libs/index.pyx\", line 163, in pandas._libs.index.IndexEngine.get_loc\\n  File \"pandas/_libs/hashtable_class_helper.pxi\", line 5198, in pandas._libs.hashtable.PyObjectHashTable.get_item\\n  File \"pandas/_libs/hashtable_class_helper.pxi\", line 5206, in pandas._libs.hashtable.PyObjectHashTable.get_item\\nKeyError: \\'layer\\'\\n\\nThe above exception was the direct cause of the following exception:\\n\\nTraceback (most recent call last):\\n  File \"/app/icesat2_boreal/dps/alg_3-4/../../lib/merge_neighbors_atl08.py\", line 108, in <module>\\n    main()\\n  File \"/app/icesat2_boreal/dps/alg_3-4/../../lib/merge_neighbors_atl08.py\", line 71, in main\\n    in_tile_gdf[in_tile_field] = in_tile_gdf[in_tile_field].astype(int)\\n  File \"/opt/conda/envs/icesat2_boreal/lib/python3.10/site-packages/geopandas/geodataframe.py\", line 1327, in __getitem__\\n    result = super().__getitem__(key)\\n  File \"/opt/conda/envs/icesat2_boreal/lib/python3.10/site-packages/pandas/core/frame.py\", line 3505, in __getitem__\\n    indexer = self.columns.get_loc(key)\\n  File \"/opt/conda/envs/icesat2_boreal/lib/python3.10/site-packages/pandas/core/indexes/base.py\", line 3623, in get_loc\\n    raise KeyError(key) from err\\nKeyError: \\'layer\\'\\n++ head -1\\n++ ls \\'/data/work/jobs/2022/03/23/15/56/job-run_boreal_biomass_v2_ubuntu__master-20220323T155411.587198Z/output/atl08_004_30m_filt_merge_neighbors*\\'\\nls: cannot access \\'/data/work/jobs/2022/03/23/15/56/job-run_boreal_biomass_v2_ubuntu__master-20220323T155411.587198Z/output/atl08_004_30m_filt_merge_neighbors*\\': No such file or directory\\n+ MERGED_ATL08_CSV=\\n+ conda activate r-with-gdal\\n+ local cmd=activate\\n+ case \"$cmd\" in\\n+ __conda_activate activate r-with-gdal\\n+ \\'[\\' -n \\'\\' \\']\\'\\n+ local ask_conda\\n++ PS1=\\'(icesat2_boreal) \\'\\n++ __conda_exe shell.posix activate r-with-gdal\\n++ __add_sys_prefix_to_path\\n++ \\'[\\' -n \\'\\' \\']\\'\\n+++ dirname /opt/conda/bin/conda\\n++ SYSP=/opt/conda/bin\\n+++ dirname /opt/conda/bin\\n++ SYSP=/opt/conda\\n++ \\'[\\' -n \\'\\' \\']\\'\\n++ PATH=/opt/conda/bin:/opt/conda/envs/icesat2_boreal/bin:/opt/conda/condabin:/opt/conda/bin:/usr/local/sbin:/usr/local/bin:/usr/sbin:/usr/bin:/sbin:/bin\\n++ export PATH\\n++ /opt/conda/bin/conda shell.posix activate r-with-gdal\\n+ ask_conda=\\'. \"/opt/conda/envs/icesat2_boreal/etc/conda/deactivate.d/proj4-deactivate.sh\"\\n. \"/opt/conda/envs/icesat2_boreal/etc/conda/deactivate.d/libglib_deactivate.sh\"\\n. \"/opt/conda/envs/icesat2_boreal/etc/conda/deactivate.d/geotiff-deactivate.sh\"\\n. \"/opt/conda/envs/icesat2_boreal/etc/conda/deactivate.d/gdal-deactivate.sh\"\\nPS1=\\'\\\\\\'\\'(r-with-gdal) \\'\\\\\\'\\'\\nexport PATH=\\'\\\\\\'\\'/opt/conda/envs/r-with-gdal/bin:/opt/conda/condabin:/opt/conda/bin:/usr/local/sbin:/usr/local/bin:/usr/sbin:/usr/bin:/sbin:/bin\\'\\\\\\'\\'\\nexport CONDA_PREFIX=\\'\\\\\\'\\'/opt/conda/envs/r-with-gdal\\'\\\\\\'\\'\\nexport CONDA_SHLVL=\\'\\\\\\'\\'2\\'\\\\\\'\\'\\nexport CONDA_DEFAULT_ENV=\\'\\\\\\'\\'r-with-gdal\\'\\\\\\'\\'\\nexport CONDA_PROMPT_MODIFIER=\\'\\\\\\'\\'(r-with-gdal) \\'\\\\\\'\\'\\nexport CONDA_EXE=\\'\\\\\\'\\'/opt/conda/bin/conda\\'\\\\\\'\\'\\nexport _CE_M=\\'\\\\\\'\\'\\'\\\\\\'\\'\\nexport _CE_CONDA=\\'\\\\\\'\\'\\'\\\\\\'\\'\\nexport CONDA_PYTHON_EXE=\\'\\\\\\'\\'/opt/conda/bin/python\\'\\\\\\'\\'\\nexport CONDA_PREFIX_1=\\'\\\\\\'\\'/opt/conda/envs/icesat2_boreal\\'\\\\\\'\\'\\n. \"/opt/conda/envs/r-with-gdal/etc/conda/activate.d/activate-binutils_linux-64.sh\"\\n. \"/opt/conda/envs/r-with-gdal/etc/conda/activate.d/activate-gcc_linux-64.sh\"\\n. \"/opt/conda/envs/r-with-gdal/etc/conda/activate.d/activate-gfortran_linux-64.sh\"\\n. \"/opt/conda/envs/r-with-gdal/etc/conda/activate.d/activate-gxx_linux-64.sh\"\\n. \"/opt/conda/envs/r-with-gdal/etc/conda/activate.d/activate-r-base.sh\"\\n. \"/opt/conda/envs/r-with-gdal/etc/conda/activate.d/gdal-activate.sh\"\\n. \"/opt/conda/envs/r-with-gdal/etc/conda/activate.d/geotiff-activate.sh\"\\n. \"/opt/conda/envs/r-with-gdal/etc/conda/activate.d/libglib_activate.sh\"\\n. \"/opt/conda/envs/r-with-gdal/etc/conda/activate.d/proj4-activate.sh\"\\n. \"/opt/conda/envs/r-with-gdal/etc/conda/activate.d/udunits2-activate.sh\"\\'\\n+ eval \\'. \"/opt/conda/envs/icesat2_boreal/etc/conda/deactivate.d/proj4-deactivate.sh\"\\n. \"/opt/conda/envs/icesat2_boreal/etc/conda/deactivate.d/libglib_deactivate.sh\"\\n. \"/opt/conda/envs/icesat2_boreal/etc/conda/deactivate.d/geotiff-deactivate.sh\"\\n. \"/opt/conda/envs/icesat2_boreal/etc/conda/deactivate.d/gdal-deactivate.sh\"\\nPS1=\\'\\\\\\'\\'(r-with-gdal) \\'\\\\\\'\\'\\nexport PATH=\\'\\\\\\'\\'/opt/conda/envs/r-with-gdal/bin:/opt/conda/condabin:/opt/conda/bin:/usr/local/sbin:/usr/local/bin:/usr/sbin:/usr/bin:/sbin:/bin\\'\\\\\\'\\'\\nexport CONDA_PREFIX=\\'\\\\\\'\\'/opt/conda/envs/r-with-gdal\\'\\\\\\'\\'\\nexport CONDA_SHLVL=\\'\\\\\\'\\'2\\'\\\\\\'\\'\\nexport CONDA_DEFAULT_ENV=\\'\\\\\\'\\'r-with-gdal\\'\\\\\\'\\'\\nexport CONDA_PROMPT_MODIFIER=\\'\\\\\\'\\'(r-with-gdal) \\'\\\\\\'\\'\\nexport CONDA_EXE=\\'\\\\\\'\\'/opt/conda/bin/conda\\'\\\\\\'\\'\\nexport _CE_M=\\'\\\\\\'\\'\\'\\\\\\'\\'\\nexport _CE_CONDA=\\'\\\\\\'\\'\\'\\\\\\'\\'\\nexport CONDA_PYTHON_EXE=\\'\\\\\\'\\'/opt/conda/bin/python\\'\\\\\\'\\'\\nexport CONDA_PREFIX_1=\\'\\\\\\'\\'/opt/conda/envs/icesat2_boreal\\'\\\\\\'\\'\\n. \"/opt/conda/envs/r-with-gdal/etc/conda/activate.d/activate-binutils_linux-64.sh\"\\n. \"/opt/conda/envs/r-with-gdal/etc/conda/activate.d/activate-gcc_linux-64.sh\"\\n. \"/opt/conda/envs/r-with-gdal/etc/conda/activate.d/activate-gfortran_linux-64.sh\"\\n. \"/opt/conda/envs/r-with-gdal/etc/conda/activate.d/activate-gxx_linux-64.sh\"\\n. \"/opt/conda/envs/r-with-gdal/etc/conda/activate.d/activate-r-base.sh\"\\n. \"/opt/conda/envs/r-with-gdal/etc/conda/activate.d/gdal-activate.sh\"\\n. \"/opt/conda/envs/r-with-gdal/etc/conda/activate.d/geotiff-activate.sh\"\\n. \"/opt/conda/envs/r-with-gdal/etc/conda/activate.d/libglib_activate.sh\"\\n. \"/opt/conda/envs/r-with-gdal/etc/conda/activate.d/proj4-activate.sh\"\\n. \"/opt/conda/envs/r-with-gdal/etc/conda/activate.d/udunits2-activate.sh\"\\'\\n++ . /opt/conda/envs/icesat2_boreal/etc/conda/deactivate.d/proj4-deactivate.sh\\n+++ unset PROJ_LIB\\n+++ unset PROJ_NETWORK\\n+++ \\'[\\' -n /opt/conda/share/proj \\']\\'\\n+++ export PROJ_LIB=/opt/conda/share/proj\\n+++ PROJ_LIB=/opt/conda/share/proj\\n+++ unset _CONDA_SET_PROJ_LIB\\n++ . /opt/conda/envs/icesat2_boreal/etc/conda/deactivate.d/libglib_deactivate.sh\\n+++ export GSETTINGS_SCHEMA_DIR=\\n+++ GSETTINGS_SCHEMA_DIR=\\n+++ unset GSETTINGS_SCHEMA_DIR_CONDA_BACKUP\\n+++ \\'[\\' -z \\']\\'\\n+++ unset GSETTINGS_SCHEMA_DIR\\n++ . /opt/conda/envs/icesat2_boreal/etc/conda/deactivate.d/geotiff-deactivate.sh\\n+++ unset GEOTIFF_CSV\\n+++ [[ -n \\'\\' ]]\\n++ . /opt/conda/envs/icesat2_boreal/etc/conda/deactivate.d/gdal-deactivate.sh\\n+++ unset GDAL_DATA\\n+++ [[ -n /opt/conda/share/gdal ]]\\n+++ export GDAL_DATA=/opt/conda/share/gdal\\n+++ GDAL_DATA=/opt/conda/share/gdal\\n+++ unset _CONDA_SET_GDAL_DATA\\n+++ unset GDAL_DRIVER_PATH\\n+++ [[ -n \\'\\' ]]\\n+++ unset CPL_ZIP_ENCODING\\n++ PS1=\\'(r-with-gdal) \\'\\n++ export PATH=/opt/conda/envs/r-with-gdal/bin:/opt/conda/condabin:/opt/conda/bin:/usr/local/sbin:/usr/local/bin:/usr/sbin:/usr/bin:/sbin:/bin\\n++ PATH=/opt/conda/envs/r-with-gdal/bin:/opt/conda/condabin:/opt/conda/bin:/usr/local/sbin:/usr/local/bin:/usr/sbin:/usr/bin:/sbin:/bin\\n++ export CONDA_PREFIX=/opt/conda/envs/r-with-gdal\\n++ CONDA_PREFIX=/opt/conda/envs/r-with-gdal\\n++ export CONDA_SHLVL=2\\n++ CONDA_SHLVL=2\\n++ export CONDA_DEFAULT_ENV=r-with-gdal\\n++ CONDA_DEFAULT_ENV=r-with-gdal\\n++ export \\'CONDA_PROMPT_MODIFIER=(r-with-gdal) \\'\\n++ CONDA_PROMPT_MODIFIER=\\'(r-with-gdal) \\'\\n++ export CONDA_EXE=/opt/conda/bin/conda\\n++ CONDA_EXE=/opt/conda/bin/conda\\n++ export _CE_M=\\n++ _CE_M=\\n++ export _CE_CONDA=\\n++ _CE_CONDA=\\n++ export CONDA_PYTHON_EXE=/opt/conda/bin/python\\n++ CONDA_PYTHON_EXE=/opt/conda/bin/python\\n++ export CONDA_PREFIX_1=/opt/conda/envs/icesat2_boreal\\n++ CONDA_PREFIX_1=/opt/conda/envs/icesat2_boreal\\n++ . /opt/conda/envs/r-with-gdal/etc/conda/activate.d/activate-binutils_linux-64.sh\\n+++ \\'[\\' 0 = 1 \\']\\'\\n+++ echo x86_64-conda-linux-gnu\\n+++ grep powerpc\\n+++ GOLD_USED=ld.gold\\n+++ _tc_activation activate x86_64-conda-linux-gnu- addr2line ar as c++filt elfedit gprof ld ld.gold nm objcopy objdump ranlib readelf size strings strip\\n+++ local act_nature=activate\\n+++ shift\\n+++ local tc_prefix=x86_64-conda-linux-gnu-\\n+++ shift\\n+++ local thing\\n+++ local newval\\n+++ local from\\n+++ local to\\n+++ local pass\\n+++ \\'[\\' activate = activate \\']\\'\\n+++ from=\\n+++ to=CONDA_BACKUP_\\n+++ for pass in check apply\\n+++ for thing in \"$@\"\\n+++ case \"${thing}\" in\\n+++ newval=/opt/conda/envs/r-with-gdal/bin/x86_64-conda-linux-gnu-addr2line\\n+++ \\'[\\' \\'!\\' -x /opt/conda/envs/r-with-gdal/bin/x86_64-conda-linux-gnu-addr2line \\']\\'\\n+++ \\'[\\' check = apply \\']\\'\\n+++ for thing in \"$@\"\\n+++ case \"${thing}\" in\\n+++ newval=/opt/conda/envs/r-with-gdal/bin/x86_64-conda-linux-gnu-ar\\n+++ \\'[\\' \\'!\\' -x /opt/conda/envs/r-with-gdal/bin/x86_64-conda-linux-gnu-ar \\']\\'\\n+++ \\'[\\' check = apply \\']\\'\\n+++ for thing in \"$@\"\\n+++ case \"${thing}\" in\\n+++ newval=/opt/conda/envs/r-with-gdal/bin/x86_64-conda-linux-gnu-as\\n+++ \\'[\\' \\'!\\' -x /opt/conda/envs/r-with-gdal/bin/x86_64-conda-linux-gnu-as \\']\\'\\n+++ \\'[\\' check = apply \\']\\'\\n+++ for thing in \"$@\"\\n+++ case \"${thing}\" in\\n+++ newval=/opt/conda/envs/r-with-gdal/bin/x86_64-conda-linux-gnu-c++filt\\n+++ \\'[\\' \\'!\\' -x /opt/conda/envs/r-with-gdal/bin/x86_64-conda-linux-gnu-c++filt \\']\\'\\n+++ \\'[\\' check = apply \\']\\'\\n+++ for thing in \"$@\"\\n+++ case \"${thing}\" in\\n+++ newval=/opt/conda/envs/r-with-gdal/bin/x86_64-conda-linux-gnu-elfedit\\n+++ \\'[\\' \\'!\\' -x /opt/conda/envs/r-with-gdal/bin/x86_64-conda-linux-gnu-elfedit \\']\\'\\n+++ \\'[\\' check = apply \\']\\'\\n+++ for thing in \"$@\"\\n+++ case \"${thing}\" in\\n+++ newval=/opt/conda/envs/r-with-gdal/bin/x86_64-conda-linux-gnu-gprof\\n+++ \\'[\\' \\'!\\' -x /opt/conda/envs/r-with-gdal/bin/x86_64-conda-linux-gnu-gprof \\']\\'\\n+++ \\'[\\' check = apply \\']\\'\\n+++ for thing in \"$@\"\\n+++ case \"${thing}\" in\\n+++ newval=/opt/conda/envs/r-with-gdal/bin/x86_64-conda-linux-gnu-ld\\n+++ \\'[\\' \\'!\\' -x /opt/conda/envs/r-with-gdal/bin/x86_64-conda-linux-gnu-ld \\']\\'\\n+++ \\'[\\' check = apply \\']\\'\\n+++ for thing in \"$@\"\\n+++ case \"${thing}\" in\\n+++ newval=/opt/conda/envs/r-with-gdal/bin/x86_64-conda-linux-gnu-ld.gold\\n+++ \\'[\\' \\'!\\' -x /opt/conda/envs/r-with-gdal/bin/x86_64-conda-linux-gnu-ld.gold \\']\\'\\n+++ \\'[\\' check = apply \\']\\'\\n+++ for thing in \"$@\"\\n+++ case \"${thing}\" in\\n+++ newval=/opt/conda/envs/r-with-gdal/bin/x86_64-conda-linux-gnu-nm\\n+++ \\'[\\' \\'!\\' -x /opt/conda/envs/r-with-gdal/bin/x86_64-conda-linux-gnu-nm \\']\\'\\n+++ \\'[\\' check = apply \\']\\'\\n+++ for thing in \"$@\"\\n+++ case \"${thing}\" in\\n+++ newval=/opt/conda/envs/r-with-gdal/bin/x86_64-conda-linux-gnu-objcopy\\n+++ \\'[\\' \\'!\\' -x /opt/conda/envs/r-with-gdal/bin/x86_64-conda-linux-gnu-objcopy \\']\\'\\n+++ \\'[\\' check = apply \\']\\'\\n+++ for thing in \"$@\"\\n+++ case \"${thing}\" in\\n+++ newval=/opt/conda/envs/r-with-gdal/bin/x86_64-conda-linux-gnu-objdump\\n+++ \\'[\\' \\'!\\' -x /opt/conda/envs/r-with-gdal/bin/x86_64-conda-linux-gnu-objdump \\']\\'\\n+++ \\'[\\' check = apply \\']\\'\\n+++ for thing in \"$@\"\\n+++ case \"${thing}\" in\\n+++ newval=/opt/conda/envs/r-with-gdal/bin/x86_64-conda-linux-gnu-ranlib\\n+++ \\'[\\' \\'!\\' -x /opt/conda/envs/r-with-gdal/bin/x86_64-conda-linux-gnu-ranlib \\']\\'\\n+++ \\'[\\' check = apply \\']\\'\\n+++ for thing in \"$@\"\\n+++ case \"${thing}\" in\\n+++ newval=/opt/conda/envs/r-with-gdal/bin/x86_64-conda-linux-gnu-readelf\\n+++ \\'[\\' \\'!\\' -x /opt/conda/envs/r-with-gdal/bin/x86_64-conda-linux-gnu-readelf \\']\\'\\n+++ \\'[\\' check = apply \\']\\'\\n+++ for thing in \"$@\"\\n+++ case \"${thing}\" in\\n+++ newval=/opt/conda/envs/r-with-gdal/bin/x86_64-conda-linux-gnu-size\\n+++ \\'[\\' \\'!\\' -x /opt/conda/envs/r-with-gdal/bin/x86_64-conda-linux-gnu-size \\']\\'\\n+++ \\'[\\' check = apply \\']\\'\\n+++ for thing in \"$@\"\\n+++ case \"${thing}\" in\\n+++ newval=/opt/conda/envs/r-with-gdal/bin/x86_64-conda-linux-gnu-strings\\n+++ \\'[\\' \\'!\\' -x /opt/conda/envs/r-with-gdal/bin/x86_64-conda-linux-gnu-strings \\']\\'\\n+++ \\'[\\' check = apply \\']\\'\\n+++ for thing in \"$@\"\\n+++ case \"${thing}\" in\\n+++ newval=/opt/conda/envs/r-with-gdal/bin/x86_64-conda-linux-gnu-strip\\n+++ \\'[\\' \\'!\\' -x /opt/conda/envs/r-with-gdal/bin/x86_64-conda-linux-gnu-strip \\']\\'\\n+++ \\'[\\' check = apply \\']\\'\\n+++ for pass in check apply\\n+++ for thing in \"$@\"\\n+++ case \"${thing}\" in\\n+++ newval=/opt/conda/envs/r-with-gdal/bin/x86_64-conda-linux-gnu-addr2line\\n+++ \\'[\\' \\'!\\' -x /opt/conda/envs/r-with-gdal/bin/x86_64-conda-linux-gnu-addr2line \\']\\'\\n+++ \\'[\\' apply = apply \\']\\'\\n++++ echo addr2line\\n++++ tr a-z+-. A-ZX__\\n+++ thing=ADDR2LINE\\n+++ eval \\'oldval=$ADDR2LINE\\'\\n++++ oldval=\\n+++ \\'[\\' -n \\'\\' \\']\\'\\n+++ eval unset \\'${to}${thing}\\'\\n++++ unset CONDA_BACKUP_ADDR2LINE\\n+++ \\'[\\' -n /opt/conda/envs/r-with-gdal/bin/x86_64-conda-linux-gnu-addr2line \\']\\'\\n+++ eval export \\'\\'\\\\\\'\\'ADDR2LINE=/opt/conda/envs/r-with-gdal/bin/x86_64-conda-linux-gnu-addr2line\\'\\\\\\'\\'\\'\\n++++ export ADDR2LINE=/opt/conda/envs/r-with-gdal/bin/x86_64-conda-linux-gnu-addr2line\\n++++ ADDR2LINE=/opt/conda/envs/r-with-gdal/bin/x86_64-conda-linux-gnu-addr2line\\n+++ for thing in \"$@\"\\n+++ case \"${thing}\" in\\n+++ newval=/opt/conda/envs/r-with-gdal/bin/x86_64-conda-linux-gnu-ar\\n+++ \\'[\\' \\'!\\' -x /opt/conda/envs/r-with-gdal/bin/x86_64-conda-linux-gnu-ar \\']\\'\\n+++ \\'[\\' apply = apply \\']\\'\\n++++ echo ar\\n++++ tr a-z+-. A-ZX__\\n+++ thing=AR\\n+++ eval \\'oldval=$AR\\'\\n++++ oldval=\\n+++ \\'[\\' -n \\'\\' \\']\\'\\n+++ eval unset \\'${to}${thing}\\'\\n++++ unset CONDA_BACKUP_AR\\n+++ \\'[\\' -n /opt/conda/envs/r-with-gdal/bin/x86_64-conda-linux-gnu-ar \\']\\'\\n+++ eval export \\'\\'\\\\\\'\\'AR=/opt/conda/envs/r-with-gdal/bin/x86_64-conda-linux-gnu-ar\\'\\\\\\'\\'\\'\\n++++ export AR=/opt/conda/envs/r-with-gdal/bin/x86_64-conda-linux-gnu-ar\\n++++ AR=/opt/conda/envs/r-with-gdal/bin/x86_64-conda-linux-gnu-ar\\n+++ for thing in \"$@\"\\n+++ case \"${thing}\" in\\n+++ newval=/opt/conda/envs/r-with-gdal/bin/x86_64-conda-linux-gnu-as\\n+++ \\'[\\' \\'!\\' -x /opt/conda/envs/r-with-gdal/bin/x86_64-conda-linux-gnu-as \\']\\'\\n+++ \\'[\\' apply = apply \\']\\'\\n++++ echo as\\n++++ tr a-z+-. A-ZX__\\n+++ thing=AS\\n+++ eval \\'oldval=$AS\\'\\n++++ oldval=\\n+++ \\'[\\' -n \\'\\' \\']\\'\\n+++ eval unset \\'${to}${thing}\\'\\n++++ unset CONDA_BACKUP_AS\\n+++ \\'[\\' -n /opt/conda/envs/r-with-gdal/bin/x86_64-conda-linux-gnu-as \\']\\'\\n+++ eval export \\'\\'\\\\\\'\\'AS=/opt/conda/envs/r-with-gdal/bin/x86_64-conda-linux-gnu-as\\'\\\\\\'\\'\\'\\n++++ export AS=/opt/conda/envs/r-with-gdal/bin/x86_64-conda-linux-gnu-as\\n++++ AS=/opt/conda/envs/r-with-gdal/bin/x86_64-conda-linux-gnu-as\\n+++ for thing in \"$@\"\\n+++ case \"${thing}\" in\\n+++ newval=/opt/conda/envs/r-with-gdal/bin/x86_64-conda-linux-gnu-c++filt\\n+++ \\'[\\' \\'!\\' -x /opt/conda/envs/r-with-gdal/bin/x86_64-conda-linux-gnu-c++filt \\']\\'\\n+++ \\'[\\' apply = apply \\']\\'\\n++++ echo c++filt\\n++++ tr a-z+-. A-ZX__\\n+++ thing=CXXFILT\\n+++ eval \\'oldval=$CXXFILT\\'\\n++++ oldval=\\n+++ \\'[\\' -n \\'\\' \\']\\'\\n+++ eval unset \\'${to}${thing}\\'\\n++++ unset CONDA_BACKUP_CXXFILT\\n+++ \\'[\\' -n /opt/conda/envs/r-with-gdal/bin/x86_64-conda-linux-gnu-c++filt \\']\\'\\n+++ eval export \\'\\'\\\\\\'\\'CXXFILT=/opt/conda/envs/r-with-gdal/bin/x86_64-conda-linux-gnu-c++filt\\'\\\\\\'\\'\\'\\n++++ export CXXFILT=/opt/conda/envs/r-with-gdal/bin/x86_64-conda-linux-gnu-c++filt\\n++++ CXXFILT=/opt/conda/envs/r-with-gdal/bin/x86_64-conda-linux-gnu-c++filt\\n+++ for thing in \"$@\"\\n+++ case \"${thing}\" in\\n+++ newval=/opt/conda/envs/r-with-gdal/bin/x86_64-conda-linux-gnu-elfedit\\n+++ \\'[\\' \\'!\\' -x /opt/conda/envs/r-with-gdal/bin/x86_64-conda-linux-gnu-elfedit \\']\\'\\n+++ \\'[\\' apply = apply \\']\\'\\n++++ echo elfedit\\n++++ tr a-z+-. A-ZX__\\n+++ thing=ELFEDIT\\n+++ eval \\'oldval=$ELFEDIT\\'\\n++++ oldval=\\n+++ \\'[\\' -n \\'\\' \\']\\'\\n+++ eval unset \\'${to}${thing}\\'\\n++++ unset CONDA_BACKUP_ELFEDIT\\n+++ \\'[\\' -n /opt/conda/envs/r-with-gdal/bin/x86_64-conda-linux-gnu-elfedit \\']\\'\\n+++ eval export \\'\\'\\\\\\'\\'ELFEDIT=/opt/conda/envs/r-with-gdal/bin/x86_64-conda-linux-gnu-elfedit\\'\\\\\\'\\'\\'\\n++++ export ELFEDIT=/opt/conda/envs/r-with-gdal/bin/x86_64-conda-linux-gnu-elfedit\\n++++ ELFEDIT=/opt/conda/envs/r-with-gdal/bin/x86_64-conda-linux-gnu-elfedit\\n+++ for thing in \"$@\"\\n+++ case \"${thing}\" in\\n+++ newval=/opt/conda/envs/r-with-gdal/bin/x86_64-conda-linux-gnu-gprof\\n+++ \\'[\\' \\'!\\' -x /opt/conda/envs/r-with-gdal/bin/x86_64-conda-linux-gnu-gprof \\']\\'\\n+++ \\'[\\' apply = apply \\']\\'\\n++++ echo gprof\\n++++ tr a-z+-. A-ZX__\\n+++ thing=GPROF\\n+++ eval \\'oldval=$GPROF\\'\\n++++ oldval=\\n+++ \\'[\\' -n \\'\\' \\']\\'\\n+++ eval unset \\'${to}${thing}\\'\\n++++ unset CONDA_BACKUP_GPROF\\n+++ \\'[\\' -n /opt/conda/envs/r-with-gdal/bin/x86_64-conda-linux-gnu-gprof \\']\\'\\n+++ eval export \\'\\'\\\\\\'\\'GPROF=/opt/conda/envs/r-with-gdal/bin/x86_64-conda-linux-gnu-gprof\\'\\\\\\'\\'\\'\\n++++ export GPROF=/opt/conda/envs/r-with-gdal/bin/x86_64-conda-linux-gnu-gprof\\n++++ GPROF=/opt/conda/envs/r-with-gdal/bin/x86_64-conda-linux-gnu-gprof\\n+++ for thing in \"$@\"\\n+++ case \"${thing}\" in\\n+++ newval=/opt/conda/envs/r-with-gdal/bin/x86_64-conda-linux-gnu-ld\\n+++ \\'[\\' \\'!\\' -x /opt/conda/envs/r-with-gdal/bin/x86_64-conda-linux-gnu-ld \\']\\'\\n+++ \\'[\\' apply = apply \\']\\'\\n++++ echo ld\\n++++ tr a-z+-. A-ZX__\\n+++ thing=LD\\n+++ eval \\'oldval=$LD\\'\\n++++ oldval=\\n+++ \\'[\\' -n \\'\\' \\']\\'\\n+++ eval unset \\'${to}${thing}\\'\\n++++ unset CONDA_BACKUP_LD\\n+++ \\'[\\' -n /opt/conda/envs/r-with-gdal/bin/x86_64-conda-linux-gnu-ld \\']\\'\\n+++ eval export \\'\\'\\\\\\'\\'LD=/opt/conda/envs/r-with-gdal/bin/x86_64-conda-linux-gnu-ld\\'\\\\\\'\\'\\'\\n++++ export LD=/opt/conda/envs/r-with-gdal/bin/x86_64-conda-linux-gnu-ld\\n++++ LD=/opt/conda/envs/r-with-gdal/bin/x86_64-conda-linux-gnu-ld\\n+++ for thing in \"$@\"\\n+++ case \"${thing}\" in\\n+++ newval=/opt/conda/envs/r-with-gdal/bin/x86_64-conda-linux-gnu-ld.gold\\n+++ \\'[\\' \\'!\\' -x /opt/conda/envs/r-with-gdal/bin/x86_64-conda-linux-gnu-ld.gold \\']\\'\\n+++ \\'[\\' apply = apply \\']\\'\\n++++ echo ld.gold\\n++++ tr a-z+-. A-ZX__\\n+++ thing=LD_GOLD\\n+++ eval \\'oldval=$LD_GOLD\\'\\n++++ oldval=\\n+++ \\'[\\' -n \\'\\' \\']\\'\\n+++ eval unset \\'${to}${thing}\\'\\n++++ unset CONDA_BACKUP_LD_GOLD\\n+++ \\'[\\' -n /opt/conda/envs/r-with-gdal/bin/x86_64-conda-linux-gnu-ld.gold \\']\\'\\n+++ eval export \\'\\'\\\\\\'\\'LD_GOLD=/opt/conda/envs/r-with-gdal/bin/x86_64-conda-linux-gnu-ld.gold\\'\\\\\\'\\'\\'\\n++++ export LD_GOLD=/opt/conda/envs/r-with-gdal/bin/x86_64-conda-linux-gnu-ld.gold\\n++++ LD_GOLD=/opt/conda/envs/r-with-gdal/bin/x86_64-conda-linux-gnu-ld.gold\\n+++ for thing in \"$@\"\\n+++ case \"${thing}\" in\\n+++ newval=/opt/conda/envs/r-with-gdal/bin/x86_64-conda-linux-gnu-nm\\n+++ \\'[\\' \\'!\\' -x /opt/conda/envs/r-with-gdal/bin/x86_64-conda-linux-gnu-nm \\']\\'\\n+++ \\'[\\' apply = apply \\']\\'\\n++++ echo nm\\n++++ tr a-z+-. A-ZX__\\n+++ thing=NM\\n+++ eval \\'oldval=$NM\\'\\n++++ oldval=\\n+++ \\'[\\' -n \\'\\' \\']\\'\\n+++ eval unset \\'${to}${thing}\\'\\n++++ unset CONDA_BACKUP_NM\\n+++ \\'[\\' -n /opt/conda/envs/r-with-gdal/bin/x86_64-conda-linux-gnu-nm \\']\\'\\n+++ eval export \\'\\'\\\\\\'\\'NM=/opt/conda/envs/r-with-gdal/bin/x86_64-conda-linux-gnu-nm\\'\\\\\\'\\'\\'\\n++++ export NM=/opt/conda/envs/r-with-gdal/bin/x86_64-conda-linux-gnu-nm\\n++++ NM=/opt/conda/envs/r-with-gdal/bin/x86_64-conda-linux-gnu-nm\\n+++ for thing in \"$@\"\\n+++ case \"${thing}\" in\\n+++ newval=/opt/conda/envs/r-with-gdal/bin/x86_64-conda-linux-gnu-objcopy\\n+++ \\'[\\' \\'!\\' -x /opt/conda/envs/r-with-gdal/bin/x86_64-conda-linux-gnu-objcopy \\']\\'\\n+++ \\'[\\' apply = apply \\']\\'\\n++++ echo objcopy\\n++++ tr a-z+-. A-ZX__\\n+++ thing=OBJCOPY\\n+++ eval \\'oldval=$OBJCOPY\\'\\n++++ oldval=\\n+++ \\'[\\' -n \\'\\' \\']\\'\\n+++ eval unset \\'${to}${thing}\\'\\n++++ unset CONDA_BACKUP_OBJCOPY\\n+++ \\'[\\' -n /opt/conda/envs/r-with-gdal/bin/x86_64-conda-linux-gnu-objcopy \\']\\'\\n+++ eval export \\'\\'\\\\\\'\\'OBJCOPY=/opt/conda/envs/r-with-gdal/bin/x86_64-conda-linux-gnu-objcopy\\'\\\\\\'\\'\\'\\n++++ export OBJCOPY=/opt/conda/envs/r-with-gdal/bin/x86_64-conda-linux-gnu-objcopy\\n++++ OBJCOPY=/opt/conda/envs/r-with-gdal/bin/x86_64-conda-linux-gnu-objcopy\\n+++ for thing in \"$@\"\\n+++ case \"${thing}\" in\\n+++ newval=/opt/conda/envs/r-with-gdal/bin/x86_64-conda-linux-gnu-objdump\\n+++ \\'[\\' \\'!\\' -x /opt/conda/envs/r-with-gdal/bin/x86_64-conda-linux-gnu-objdump \\']\\'\\n+++ \\'[\\' apply = apply \\']\\'\\n++++ echo objdump\\n++++ tr a-z+-. A-ZX__\\n+++ thing=OBJDUMP\\n+++ eval \\'oldval=$OBJDUMP\\'\\n++++ oldval=\\n+++ \\'[\\' -n \\'\\' \\']\\'\\n+++ eval unset \\'${to}${thing}\\'\\n++++ unset CONDA_BACKUP_OBJDUMP\\n+++ \\'[\\' -n /opt/conda/envs/r-with-gdal/bin/x86_64-conda-linux-gnu-objdump \\']\\'\\n+++ eval export \\'\\'\\\\\\'\\'OBJDUMP=/opt/conda/envs/r-with-gdal/bin/x86_64-conda-linux-gnu-objdump\\'\\\\\\'\\'\\'\\n++++ export OBJDUMP=/opt/conda/envs/r-with-gdal/bin/x86_64-conda-linux-gnu-objdump\\n++++ OBJDUMP=/opt/conda/envs/r-with-gdal/bin/x86_64-conda-linux-gnu-objdump\\n+++ for thing in \"$@\"\\n+++ case \"${thing}\" in\\n+++ newval=/opt/conda/envs/r-with-gdal/bin/x86_64-conda-linux-gnu-ranlib\\n+++ \\'[\\' \\'!\\' -x /opt/conda/envs/r-with-gdal/bin/x86_64-conda-linux-gnu-ranlib \\']\\'\\n+++ \\'[\\' apply = apply \\']\\'\\n++++ echo ranlib\\n++++ tr a-z+-. A-ZX__\\n+++ thing=RANLIB\\n+++ eval \\'oldval=$RANLIB\\'\\n++++ oldval=\\n+++ \\'[\\' -n \\'\\' \\']\\'\\n+++ eval unset \\'${to}${thing}\\'\\n++++ unset CONDA_BACKUP_RANLIB\\n+++ \\'[\\' -n /opt/conda/envs/r-with-gdal/bin/x86_64-conda-linux-gnu-ranlib \\']\\'\\n+++ eval export \\'\\'\\\\\\'\\'RANLIB=/opt/conda/envs/r-with-gdal/bin/x86_64-conda-linux-gnu-ranlib\\'\\\\\\'\\'\\'\\n++++ export RANLIB=/opt/conda/envs/r-with-gdal/bin/x86_64-conda-linux-gnu-ranlib\\n++++ RANLIB=/opt/conda/envs/r-with-gdal/bin/x86_64-conda-linux-gnu-ranlib\\n+++ for thing in \"$@\"\\n+++ case \"${thing}\" in\\n+++ newval=/opt/conda/envs/r-with-gdal/bin/x86_64-conda-linux-gnu-readelf\\n+++ \\'[\\' \\'!\\' -x /opt/conda/envs/r-with-gdal/bin/x86_64-conda-linux-gnu-readelf \\']\\'\\n+++ \\'[\\' apply = apply \\']\\'\\n++++ echo readelf\\n++++ tr a-z+-. A-ZX__\\n+++ thing=READELF\\n+++ eval \\'oldval=$READELF\\'\\n++++ oldval=\\n+++ \\'[\\' -n \\'\\' \\']\\'\\n+++ eval unset \\'${to}${thing}\\'\\n++++ unset CONDA_BACKUP_READELF\\n+++ \\'[\\' -n /opt/conda/envs/r-with-gdal/bin/x86_64-conda-linux-gnu-readelf \\']\\'\\n+++ eval export \\'\\'\\\\\\'\\'READELF=/opt/conda/envs/r-with-gdal/bin/x86_64-conda-linux-gnu-readelf\\'\\\\\\'\\'\\'\\n++++ export READELF=/opt/conda/envs/r-with-gdal/bin/x86_64-conda-linux-gnu-readelf\\n++++ READELF=/opt/conda/envs/r-with-gdal/bin/x86_64-conda-linux-gnu-readelf\\n+++ for thing in \"$@\"\\n+++ case \"${thing}\" in\\n+++ newval=/opt/conda/envs/r-with-gdal/bin/x86_64-conda-linux-gnu-size\\n+++ \\'[\\' \\'!\\' -x /opt/conda/envs/r-with-gdal/bin/x86_64-conda-linux-gnu-size \\']\\'\\n+++ \\'[\\' apply = apply \\']\\'\\n++++ echo size\\n++++ tr a-z+-. A-ZX__\\n+++ thing=SIZE\\n+++ eval \\'oldval=$SIZE\\'\\n++++ oldval=\\n+++ \\'[\\' -n \\'\\' \\']\\'\\n+++ eval unset \\'${to}${thing}\\'\\n++++ unset CONDA_BACKUP_SIZE\\n+++ \\'[\\' -n /opt/conda/envs/r-with-gdal/bin/x86_64-conda-linux-gnu-size \\']\\'\\n+++ eval export \\'\\'\\\\\\'\\'SIZE=/opt/conda/envs/r-with-gdal/bin/x86_64-conda-linux-gnu-size\\'\\\\\\'\\'\\'\\n++++ export SIZE=/opt/conda/envs/r-with-gdal/bin/x86_64-conda-linux-gnu-size\\n++++ SIZE=/opt/conda/envs/r-with-gdal/bin/x86_64-conda-linux-gnu-size\\n+++ for thing in \"$@\"\\n+++ case \"${thing}\" in\\n+++ newval=/opt/conda/envs/r-with-gdal/bin/x86_64-conda-linux-gnu-strings\\n+++ \\'[\\' \\'!\\' -x /opt/conda/envs/r-with-gdal/bin/x86_64-conda-linux-gnu-strings \\']\\'\\n+++ \\'[\\' apply = apply \\']\\'\\n++++ echo strings\\n++++ tr a-z+-. A-ZX__\\n+++ thing=STRINGS\\n+++ eval \\'oldval=$STRINGS\\'\\n++++ oldval=\\n+++ \\'[\\' -n \\'\\' \\']\\'\\n+++ eval unset \\'${to}${thing}\\'\\n++++ unset CONDA_BACKUP_STRINGS\\n+++ \\'[\\' -n /opt/conda/envs/r-with-gdal/bin/x86_64-conda-linux-gnu-strings \\']\\'\\n+++ eval export \\'\\'\\\\\\'\\'STRINGS=/opt/conda/envs/r-with-gdal/bin/x86_64-conda-linux-gnu-strings\\'\\\\\\'\\'\\'\\n++++ export STRINGS=/opt/conda/envs/r-with-gdal/bin/x86_64-conda-linux-gnu-strings\\n++++ STRINGS=/opt/conda/envs/r-with-gdal/bin/x86_64-conda-linux-gnu-strings\\n+++ for thing in \"$@\"\\n+++ case \"${thing}\" in\\n+++ newval=/opt/conda/envs/r-with-gdal/bin/x86_64-conda-linux-gnu-strip\\n+++ \\'[\\' \\'!\\' -x /opt/conda/envs/r-with-gdal/bin/x86_64-conda-linux-gnu-strip \\']\\'\\n+++ \\'[\\' apply = apply \\']\\'\\n++++ echo strip\\n++++ tr a-z+-. A-ZX__\\n+++ thing=STRIP\\n+++ eval \\'oldval=$STRIP\\'\\n++++ oldval=\\n+++ \\'[\\' -n \\'\\' \\']\\'\\n+++ eval unset \\'${to}${thing}\\'\\n++++ unset CONDA_BACKUP_STRIP\\n+++ \\'[\\' -n /opt/conda/envs/r-with-gdal/bin/x86_64-conda-linux-gnu-strip \\']\\'\\n+++ eval export \\'\\'\\\\\\'\\'STRIP=/opt/conda/envs/r-with-gdal/bin/x86_64-conda-linux-gnu-strip\\'\\\\\\'\\'\\'\\n++++ export STRIP=/opt/conda/envs/r-with-gdal/bin/x86_64-conda-linux-gnu-strip\\n++++ STRIP=/opt/conda/envs/r-with-gdal/bin/x86_64-conda-linux-gnu-strip\\n+++ return 0\\n+++ \\'[\\' 0 -ne 0 \\']\\'\\n+++ \\'[\\' 0 = 1 \\']\\'\\n++ . /opt/conda/envs/r-with-gdal/etc/conda/activate.d/activate-gcc_linux-64.sh\\n+++ \\'[\\' 0 = 1 \\']\\'\\n+++ CFLAGS_USED=\\'-march=nocona -mtune=haswell -ftree-vectorize -fPIC -fstack-protector-strong -fno-plt -O2 -ffunction-sections -pipe -isystem /opt/conda/envs/r-with-gdal/include\\'\\n+++ DEBUG_CFLAGS_USED=\\'-march=nocona -mtune=haswell -ftree-vectorize -fPIC -fstack-protector-all -fno-plt -Og -g -Wall -Wextra -fvar-tracking-assignments -ffunction-sections -pipe -isystem /opt/conda/envs/r-with-gdal/include\\'\\n+++ CPPFLAGS_USED=\\'-DNDEBUG -D_FORTIFY_SOURCE=2 -O2 -isystem /opt/conda/envs/r-with-gdal/include\\'\\n+++ DEBUG_CPPFLAGS_USED=\\'-D_DEBUG -D_FORTIFY_SOURCE=2 -Og -isystem /opt/conda/envs/r-with-gdal/include\\'\\n+++ LDFLAGS_USED=\\'-Wl,-O2 -Wl,--sort-common -Wl,--as-needed -Wl,-z,relro -Wl,-z,now -Wl,--disable-new-dtags -Wl,--gc-sections -Wl,--allow-shlib-undefined -Wl,-rpath,/opt/conda/envs/r-with-gdal/lib -Wl,-rpath-link,/opt/conda/envs/r-with-gdal/lib -L/opt/conda/envs/r-with-gdal/lib\\'\\n+++ CMAKE_PREFIX_PATH_USED=/opt/conda/envs/r-with-gdal:/opt/conda/envs/r-with-gdal/x86_64-conda-linux-gnu/sysroot/usr\\n+++ \\'[\\' 0 = 1 \\']\\'\\n+++ _CONDA_PYTHON_SYSCONFIGDATA_NAME_USED=_sysconfigdata_x86_64_conda_cos6_linux_gnu\\n+++ \\'[\\' -n _sysconfigdata_x86_64_conda_cos6_linux_gnu \\']\\'\\n+++ \\'[\\' -n \\'\\' \\']\\'\\n+++ _CMAKE_ARGS=\\'-DCMAKE_AR=/opt/conda/envs/r-with-gdal/bin/x86_64-conda-linux-gnu-ar -DCMAKE_CXX_COMPILER_AR=/opt/conda/envs/r-with-gdal/bin/x86_64-conda-linux-gnu-gcc-ar -DCMAKE_C_COMPILER_AR=/opt/conda/envs/r-with-gdal/bin/x86_64-conda-linux-gnu-gcc-ar\\'\\n+++ _CMAKE_ARGS=\\'-DCMAKE_AR=/opt/conda/envs/r-with-gdal/bin/x86_64-conda-linux-gnu-ar -DCMAKE_CXX_COMPILER_AR=/opt/conda/envs/r-with-gdal/bin/x86_64-conda-linux-gnu-gcc-ar -DCMAKE_C_COMPILER_AR=/opt/conda/envs/r-with-gdal/bin/x86_64-conda-linux-gnu-gcc-ar -DCMAKE_RANLIB=/opt/conda/envs/r-with-gdal/bin/x86_64-conda-linux-gnu-ranlib -DCMAKE_CXX_COMPILER_RANLIB=/opt/conda/envs/r-with-gdal/bin/x86_64-conda-linux-gnu-gcc-ranlib -DCMAKE_C_COMPILER_RANLIB=/opt/conda/envs/r-with-gdal/bin/x86_64-conda-linux-gnu-gcc-ranlib\\'\\n+++ _CMAKE_ARGS=\\'-DCMAKE_AR=/opt/conda/envs/r-with-gdal/bin/x86_64-conda-linux-gnu-ar -DCMAKE_CXX_COMPILER_AR=/opt/conda/envs/r-with-gdal/bin/x86_64-conda-linux-gnu-gcc-ar -DCMAKE_C_COMPILER_AR=/opt/conda/envs/r-with-gdal/bin/x86_64-conda-linux-gnu-gcc-ar -DCMAKE_RANLIB=/opt/conda/envs/r-with-gdal/bin/x86_64-conda-linux-gnu-ranlib -DCMAKE_CXX_COMPILER_RANLIB=/opt/conda/envs/r-with-gdal/bin/x86_64-conda-linux-gnu-gcc-ranlib -DCMAKE_C_COMPILER_RANLIB=/opt/conda/envs/r-with-gdal/bin/x86_64-conda-linux-gnu-gcc-ranlib -DCMAKE_LINKER=/opt/conda/envs/r-with-gdal/bin/x86_64-conda-linux-gnu-ld -DCMAKE_STRIP=/opt/conda/envs/r-with-gdal/bin/x86_64-conda-linux-gnu-strip\\'\\n+++ \\'[\\' 0 = 1 \\']\\'\\n+++ \\'[\\' \\'\\' = 1 \\']\\'\\n+++ _tc_activation activate x86_64-conda-linux-gnu- HOST,x86_64-conda-linux-gnu BUILD,x86_64-conda-linux-gnu CONDA_TOOLCHAIN_HOST,x86_64-conda-linux-gnu CONDA_TOOLCHAIN_BUILD,x86_64-conda-linux-gnu cc cpp gcc gcc-ar gcc-nm gcc-ranlib \\'CPPFLAGS,-DNDEBUG -D_FORTIFY_SOURCE=2 -O2 -isystem /opt/conda/envs/r-with-gdal/include \\' \\'CFLAGS,-march=nocona -mtune=haswell -ftree-vectorize -fPIC -fstack-protector-strong -fno-plt -O2 -ffunction-sections -pipe -isystem /opt/conda/envs/r-with-gdal/include \\' \\'LDFLAGS,-Wl,-O2 -Wl,--sort-common -Wl,--as-needed -Wl,-z,relro -Wl,-z,now -Wl,--disable-new-dtags -Wl,--gc-sections -Wl,--allow-shlib-undefined -Wl,-rpath,/opt/conda/envs/r-with-gdal/lib -Wl,-rpath-link,/opt/conda/envs/r-with-gdal/lib -L/opt/conda/envs/r-with-gdal/lib \\' \\'DEBUG_CPPFLAGS,-D_DEBUG -D_FORTIFY_SOURCE=2 -Og -isystem /opt/conda/envs/r-with-gdal/include \\' \\'DEBUG_CFLAGS,-march=nocona -mtune=haswell -ftree-vectorize -fPIC -fstack-protector-all -fno-plt -Og -g -Wall -Wextra -fvar-tracking-assignments -ffunction-sections -pipe -isystem /opt/conda/envs/r-with-gdal/include \\' CMAKE_PREFIX_PATH,/opt/conda/envs/r-with-gdal:/opt/conda/envs/r-with-gdal/x86_64-conda-linux-gnu/sysroot/usr _CONDA_PYTHON_SYSCONFIGDATA_NAME,_sysconfigdata_x86_64_conda_cos6_linux_gnu CONDA_BUILD_SYSROOT,/opt/conda/envs/r-with-gdal/x86_64-conda-linux-gnu/sysroot CONDA_BUILD_CROSS_COMPILATION, CC_FOR_BUILD,/opt/conda/envs/r-with-gdal/bin/x86_64-conda-linux-gnu-cc build_alias,x86_64-conda-linux-gnu host_alias,x86_64-conda-linux-gnu \\'CMAKE_ARGS,-DCMAKE_AR=/opt/conda/envs/r-with-gdal/bin/x86_64-conda-linux-gnu-ar -DCMAKE_CXX_COMPILER_AR=/opt/conda/envs/r-with-gdal/bin/x86_64-conda-linux-gnu-gcc-ar -DCMAKE_C_COMPILER_AR=/opt/conda/envs/r-with-gdal/bin/x86_64-conda-linux-gnu-gcc-ar -DCMAKE_RANLIB=/opt/conda/envs/r-with-gdal/bin/x86_64-conda-linux-gnu-ranlib -DCMAKE_CXX_COMPILER_RANLIB=/opt/conda/envs/r-with-gdal/bin/x86_64-conda-linux-gnu-gcc-ranlib -DCMAKE_C_COMPILER_RANLIB=/opt/conda/envs/r-with-gdal/bin/x86_64-conda-linux-gnu-gcc-ranlib -DCMAKE_LINKER=/opt/conda/envs/r-with-gdal/bin/x86_64-conda-linux-gnu-ld -DCMAKE_STRIP=/opt/conda/envs/r-with-gdal/bin/x86_64-conda-linux-gnu-strip\\'\\n+++ local act_nature=activate\\n+++ shift\\n+++ local tc_prefix=x86_64-conda-linux-gnu-\\n+++ shift\\n+++ local thing\\n+++ local newval\\n+++ local from\\n+++ local to\\n+++ local pass\\n+++ \\'[\\' activate = activate \\']\\'\\n+++ from=\\n+++ to=CONDA_BACKUP_\\n+++ for pass in check apply\\n+++ for thing in \"$@\"\\n+++ case \"${thing}\" in\\n++++ echo HOST,x86_64-conda-linux-gnu\\n++++ sed \\'s,^[^\\\\,]*\\\\,\\\\(.*\\\\),\\\\1,\\'\\n+++ newval=x86_64-conda-linux-gnu\\n++++ echo HOST,x86_64-conda-linux-gnu\\n++++ sed \\'s,^\\\\([^\\\\,]*\\\\)\\\\,.*,\\\\1,\\'\\n+++ thing=HOST\\n+++ \\'[\\' check = apply \\']\\'\\n+++ for thing in \"$@\"\\n+++ case \"${thing}\" in\\n++++ echo BUILD,x86_64-conda-linux-gnu\\n++++ sed \\'s,^[^\\\\,]*\\\\,\\\\(.*\\\\),\\\\1,\\'\\n+++ newval=x86_64-conda-linux-gnu\\n++++ echo BUILD,x86_64-conda-linux-gnu\\n++++ sed \\'s,^\\\\([^\\\\,]*\\\\)\\\\,.*,\\\\1,\\'\\n+++ thing=BUILD\\n+++ \\'[\\' check = apply \\']\\'\\n+++ for thing in \"$@\"\\n+++ case \"${thing}\" in\\n++++ echo CONDA_TOOLCHAIN_HOST,x86_64-conda-linux-gnu\\n++++ sed \\'s,^[^\\\\,]*\\\\,\\\\(.*\\\\),\\\\1,\\'\\n+++ newval=x86_64-conda-linux-gnu\\n++++ echo CONDA_TOOLCHAIN_HOST,x86_64-conda-linux-gnu\\n++++ sed \\'s,^\\\\([^\\\\,]*\\\\)\\\\,.*,\\\\1,\\'\\n+++ thing=CONDA_TOOLCHAIN_HOST\\n+++ \\'[\\' check = apply \\']\\'\\n+++ for thing in \"$@\"\\n+++ case \"${thing}\" in\\n++++ echo CONDA_TOOLCHAIN_BUILD,x86_64-conda-linux-gnu\\n++++ sed \\'s,^[^\\\\,]*\\\\,\\\\(.*\\\\),\\\\1,\\'\\n+++ newval=x86_64-conda-linux-gnu\\n++++ echo CONDA_TOOLCHAIN_BUILD,x86_64-conda-linux-gnu\\n++++ sed \\'s,^\\\\([^\\\\,]*\\\\)\\\\,.*,\\\\1,\\'\\n+++ thing=CONDA_TOOLCHAIN_BUILD\\n+++ \\'[\\' check = apply \\']\\'\\n+++ for thing in \"$@\"\\n+++ case \"${thing}\" in\\n+++ newval=/opt/conda/envs/r-with-gdal/bin/x86_64-conda-linux-gnu-cc\\n++++ echo cc\\n++++ tr a-z+- A-ZX_\\n+++ thing=CC\\n+++ \\'[\\' \\'!\\' -x /opt/conda/envs/r-with-gdal/bin/x86_64-conda-linux-gnu-cc \\']\\'\\n+++ \\'[\\' check = apply \\']\\'\\n+++ for thing in \"$@\"\\n+++ case \"${thing}\" in\\n+++ newval=/opt/conda/envs/r-with-gdal/bin/x86_64-conda-linux-gnu-cpp\\n++++ echo cpp\\n++++ tr a-z+- A-ZX_\\n+++ thing=CPP\\n+++ \\'[\\' \\'!\\' -x /opt/conda/envs/r-with-gdal/bin/x86_64-conda-linux-gnu-cpp \\']\\'\\n+++ \\'[\\' check = apply \\']\\'\\n+++ for thing in \"$@\"\\n+++ case \"${thing}\" in\\n+++ newval=/opt/conda/envs/r-with-gdal/bin/x86_64-conda-linux-gnu-gcc\\n++++ echo gcc\\n++++ tr a-z+- A-ZX_\\n+++ thing=GCC\\n+++ \\'[\\' \\'!\\' -x /opt/conda/envs/r-with-gdal/bin/x86_64-conda-linux-gnu-gcc \\']\\'\\n+++ \\'[\\' check = apply \\']\\'\\n+++ for thing in \"$@\"\\n+++ case \"${thing}\" in\\n+++ newval=/opt/conda/envs/r-with-gdal/bin/x86_64-conda-linux-gnu-gcc-ar\\n++++ echo gcc-ar\\n++++ tr a-z+- A-ZX_\\n+++ thing=GCC_AR\\n+++ \\'[\\' \\'!\\' -x /opt/conda/envs/r-with-gdal/bin/x86_64-conda-linux-gnu-gcc-ar \\']\\'\\n+++ \\'[\\' check = apply \\']\\'\\n+++ for thing in \"$@\"\\n+++ case \"${thing}\" in\\n+++ newval=/opt/conda/envs/r-with-gdal/bin/x86_64-conda-linux-gnu-gcc-nm\\n++++ echo gcc-nm\\n++++ tr a-z+- A-ZX_\\n+++ thing=GCC_NM\\n+++ \\'[\\' \\'!\\' -x /opt/conda/envs/r-with-gdal/bin/x86_64-conda-linux-gnu-gcc-nm \\']\\'\\n+++ \\'[\\' check = apply \\']\\'\\n+++ for thing in \"$@\"\\n+++ case \"${thing}\" in\\n+++ newval=/opt/conda/envs/r-with-gdal/bin/x86_64-conda-linux-gnu-gcc-ranlib\\n++++ echo gcc-ranlib\\n++++ tr a-z+- A-ZX_\\n+++ thing=GCC_RANLIB\\n+++ \\'[\\' \\'!\\' -x /opt/conda/envs/r-with-gdal/bin/x86_64-conda-linux-gnu-gcc-ranlib \\']\\'\\n+++ \\'[\\' check = apply \\']\\'\\n+++ for thing in \"$@\"\\n+++ case \"${thing}\" in\\n++++ echo \\'CPPFLAGS,-DNDEBUG -D_FORTIFY_SOURCE=2 -O2 -isystem /opt/conda/envs/r-with-gdal/include \\'\\n++++ sed \\'s,^[^\\\\,]*\\\\,\\\\(.*\\\\),\\\\1,\\'\\n+++ newval=\\'-DNDEBUG -D_FORTIFY_SOURCE=2 -O2 -isystem /opt/conda/envs/r-with-gdal/include \\'\\n++++ echo \\'CPPFLAGS,-DNDEBUG -D_FORTIFY_SOURCE=2 -O2 -isystem /opt/conda/envs/r-with-gdal/include \\'\\n++++ sed \\'s,^\\\\([^\\\\,]*\\\\)\\\\,.*,\\\\1,\\'\\n+++ thing=CPPFLAGS\\n+++ \\'[\\' check = apply \\']\\'\\n+++ for thing in \"$@\"\\n+++ case \"${thing}\" in\\n++++ echo \\'CFLAGS,-march=nocona -mtune=haswell -ftree-vectorize -fPIC -fstack-protector-strong -fno-plt -O2 -ffunction-sections -pipe -isystem /opt/conda/envs/r-with-gdal/include \\'\\n++++ sed \\'s,^[^\\\\,]*\\\\,\\\\(.*\\\\),\\\\1,\\'\\n+++ newval=\\'-march=nocona -mtune=haswell -ftree-vectorize -fPIC -fstack-protector-strong -fno-plt -O2 -ffunction-sections -pipe -isystem /opt/conda/envs/r-with-gdal/include \\'\\n++++ echo \\'CFLAGS,-march=nocona -mtune=haswell -ftree-vectorize -fPIC -fstack-protector-strong -fno-plt -O2 -ffunction-sections -pipe -isystem /opt/conda/envs/r-with-gdal/include \\'\\n++++ sed \\'s,^\\\\([^\\\\,]*\\\\)\\\\,.*,\\\\1,\\'\\n+++ thing=CFLAGS\\n+++ \\'[\\' check = apply \\']\\'\\n+++ for thing in \"$@\"\\n+++ case \"${thing}\" in\\n++++ echo \\'LDFLAGS,-Wl,-O2 -Wl,--sort-common -Wl,--as-needed -Wl,-z,relro -Wl,-z,now -Wl,--disable-new-dtags -Wl,--gc-sections -Wl,--allow-shlib-undefined -Wl,-rpath,/opt/conda/envs/r-with-gdal/lib -Wl,-rpath-link,/opt/conda/envs/r-with-gdal/lib -L/opt/conda/envs/r-with-gdal/lib \\'\\n++++ sed \\'s,^[^\\\\,]*\\\\,\\\\(.*\\\\),\\\\1,\\'\\n+++ newval=\\'-Wl,-O2 -Wl,--sort-common -Wl,--as-needed -Wl,-z,relro -Wl,-z,now -Wl,--disable-new-dtags -Wl,--gc-sections -Wl,--allow-shlib-undefined -Wl,-rpath,/opt/conda/envs/r-with-gdal/lib -Wl,-rpath-link,/opt/conda/envs/r-with-gdal/lib -L/opt/conda/envs/r-with-gdal/lib \\'\\n++++ echo \\'LDFLAGS,-Wl,-O2 -Wl,--sort-common -Wl,--as-needed -Wl,-z,relro -Wl,-z,now -Wl,--disable-new-dtags -Wl,--gc-sections -Wl,--allow-shlib-undefined -Wl,-rpath,/opt/conda/envs/r-with-gdal/lib -Wl,-rpath-link,/opt/conda/envs/r-with-gdal/lib -L/opt/conda/envs/r-with-gdal/lib \\'\\n++++ sed \\'s,^\\\\([^\\\\,]*\\\\)\\\\,.*,\\\\1,\\'\\n+++ thing=LDFLAGS\\n+++ \\'[\\' check = apply \\']\\'\\n+++ for thing in \"$@\"\\n+++ case \"${thing}\" in\\n++++ echo \\'DEBUG_CPPFLAGS,-D_DEBUG -D_FORTIFY_SOURCE=2 -Og -isystem /opt/conda/envs/r-with-gdal/include \\'\\n++++ sed \\'s,^[^\\\\,]*\\\\,\\\\(.*\\\\),\\\\1,\\'\\n+++ newval=\\'-D_DEBUG -D_FORTIFY_SOURCE=2 -Og -isystem /opt/conda/envs/r-with-gdal/include \\'\\n++++ echo \\'DEBUG_CPPFLAGS,-D_DEBUG -D_FORTIFY_SOURCE=2 -Og -isystem /opt/conda/envs/r-with-gdal/include \\'\\n++++ sed \\'s,^\\\\([^\\\\,]*\\\\)\\\\,.*,\\\\1,\\'\\n+++ thing=DEBUG_CPPFLAGS\\n+++ \\'[\\' check = apply \\']\\'\\n+++ for thing in \"$@\"\\n+++ case \"${thing}\" in\\n++++ echo \\'DEBUG_CFLAGS,-march=nocona -mtune=haswell -ftree-vectorize -fPIC -fstack-protector-all -fno-plt -Og -g -Wall -Wextra -fvar-tracking-assignments -ffunction-sections -pipe -isystem /opt/conda/envs/r-with-gdal/include \\'\\n++++ sed \\'s,^[^\\\\,]*\\\\,\\\\(.*\\\\),\\\\1,\\'\\n+++ newval=\\'-march=nocona -mtune=haswell -ftree-vectorize -fPIC -fstack-protector-all -fno-plt -Og -g -Wall -Wextra -fvar-tracking-assignments -ffunction-sections -pipe -isystem /opt/conda/envs/r-with-gdal/include \\'\\n++++ echo \\'DEBUG_CFLAGS,-march=nocona -mtune=haswell -ftree-vectorize -fPIC -fstack-protector-all -fno-plt -Og -g -Wall -Wextra -fvar-tracking-assignments -ffunction-sections -pipe -isystem /opt/conda/envs/r-with-gdal/include \\'\\n++++ sed \\'s,^\\\\([^\\\\,]*\\\\)\\\\,.*,\\\\1,\\'\\n+++ thing=DEBUG_CFLAGS\\n+++ \\'[\\' check = apply \\']\\'\\n+++ for thing in \"$@\"\\n+++ case \"${thing}\" in\\n++++ echo CMAKE_PREFIX_PATH,/opt/conda/envs/r-with-gdal:/opt/conda/envs/r-with-gdal/x86_64-conda-linux-gnu/sysroot/usr\\n++++ sed \\'s,^[^\\\\,]*\\\\,\\\\(.*\\\\),\\\\1,\\'\\n+++ newval=/opt/conda/envs/r-with-gdal:/opt/conda/envs/r-with-gdal/x86_64-conda-linux-gnu/sysroot/usr\\n++++ echo CMAKE_PREFIX_PATH,/opt/conda/envs/r-with-gdal:/opt/conda/envs/r-with-gdal/x86_64-conda-linux-gnu/sysroot/usr\\n++++ sed \\'s,^\\\\([^\\\\,]*\\\\)\\\\,.*,\\\\1,\\'\\n+++ thing=CMAKE_PREFIX_PATH\\n+++ \\'[\\' check = apply \\']\\'\\n+++ for thing in \"$@\"\\n+++ case \"${thing}\" in\\n++++ echo _CONDA_PYTHON_SYSCONFIGDATA_NAME,_sysconfigdata_x86_64_conda_cos6_linux_gnu\\n++++ sed \\'s,^[^\\\\,]*\\\\,\\\\(.*\\\\),\\\\1,\\'\\n+++ newval=_sysconfigdata_x86_64_conda_cos6_linux_gnu\\n++++ echo _CONDA_PYTHON_SYSCONFIGDATA_NAME,_sysconfigdata_x86_64_conda_cos6_linux_gnu\\n++++ sed \\'s,^\\\\([^\\\\,]*\\\\)\\\\,.*,\\\\1,\\'\\n+++ thing=_CONDA_PYTHON_SYSCONFIGDATA_NAME\\n+++ \\'[\\' check = apply \\']\\'\\n+++ for thing in \"$@\"\\n+++ case \"${thing}\" in\\n++++ echo CONDA_BUILD_SYSROOT,/opt/conda/envs/r-with-gdal/x86_64-conda-linux-gnu/sysroot\\n++++ sed \\'s,^[^\\\\,]*\\\\,\\\\(.*\\\\),\\\\1,\\'\\n+++ newval=/opt/conda/envs/r-with-gdal/x86_64-conda-linux-gnu/sysroot\\n++++ echo CONDA_BUILD_SYSROOT,/opt/conda/envs/r-with-gdal/x86_64-conda-linux-gnu/sysroot\\n++++ sed \\'s,^\\\\([^\\\\,]*\\\\)\\\\,.*,\\\\1,\\'\\n+++ thing=CONDA_BUILD_SYSROOT\\n+++ \\'[\\' check = apply \\']\\'\\n+++ for thing in \"$@\"\\n+++ case \"${thing}\" in\\n++++ echo CONDA_BUILD_CROSS_COMPILATION,\\n++++ sed \\'s,^[^\\\\,]*\\\\,\\\\(.*\\\\),\\\\1,\\'\\n+++ newval=\\n++++ echo CONDA_BUILD_CROSS_COMPILATION,\\n++++ sed \\'s,^\\\\([^\\\\,]*\\\\)\\\\,.*,\\\\1,\\'\\n+++ thing=CONDA_BUILD_CROSS_COMPILATION\\n+++ \\'[\\' check = apply \\']\\'\\n+++ for thing in \"$@\"\\n+++ case \"${thing}\" in\\n++++ echo CC_FOR_BUILD,/opt/conda/envs/r-with-gdal/bin/x86_64-conda-linux-gnu-cc\\n++++ sed \\'s,^[^\\\\,]*\\\\,\\\\(.*\\\\),\\\\1,\\'\\n+++ newval=/opt/conda/envs/r-with-gdal/bin/x86_64-conda-linux-gnu-cc\\n++++ echo CC_FOR_BUILD,/opt/conda/envs/r-with-gdal/bin/x86_64-conda-linux-gnu-cc\\n++++ sed \\'s,^\\\\([^\\\\,]*\\\\)\\\\,.*,\\\\1,\\'\\n+++ thing=CC_FOR_BUILD\\n+++ \\'[\\' check = apply \\']\\'\\n+++ for thing in \"$@\"\\n+++ case \"${thing}\" in\\n++++ echo build_alias,x86_64-conda-linux-gnu\\n++++ sed \\'s,^[^\\\\,]*\\\\,\\\\(.*\\\\),\\\\1,\\'\\n+++ newval=x86_64-conda-linux-gnu\\n++++ echo build_alias,x86_64-conda-linux-gnu\\n++++ sed \\'s,^\\\\([^\\\\,]*\\\\)\\\\,.*,\\\\1,\\'\\n+++ thing=build_alias\\n+++ \\'[\\' check = apply \\']\\'\\n+++ for thing in \"$@\"\\n+++ case \"${thing}\" in\\n++++ echo host_alias,x86_64-conda-linux-gnu\\n++++ sed \\'s,^[^\\\\,]*\\\\,\\\\(.*\\\\),\\\\1,\\'\\n+++ newval=x86_64-conda-linux-gnu\\n++++ echo host_alias,x86_64-conda-linux-gnu\\n++++ sed \\'s,^\\\\([^\\\\,]*\\\\)\\\\,.*,\\\\1,\\'\\n+++ thing=host_alias\\n+++ \\'[\\' check = apply \\']\\'\\n+++ for thing in \"$@\"\\n+++ case \"${thing}\" in\\n++++ echo \\'CMAKE_ARGS,-DCMAKE_AR=/opt/conda/envs/r-with-gdal/bin/x86_64-conda-linux-gnu-ar -DCMAKE_CXX_COMPILER_AR=/opt/conda/envs/r-with-gdal/bin/x86_64-conda-linux-gnu-gcc-ar -DCMAKE_C_COMPILER_AR=/opt/conda/envs/r-with-gdal/bin/x86_64-conda-linux-gnu-gcc-ar -DCMAKE_RANLIB=/opt/conda/envs/r-with-gdal/bin/x86_64-conda-linux-gnu-ranlib -DCMAKE_CXX_COMPILER_RANLIB=/opt/conda/envs/r-with-gdal/bin/x86_64-conda-linux-gnu-gcc-ranlib -DCMAKE_C_COMPILER_RANLIB=/opt/conda/envs/r-with-gdal/bin/x86_64-conda-linux-gnu-gcc-ranlib -DCMAKE_LINKER=/opt/conda/envs/r-with-gdal/bin/x86_64-conda-linux-gnu-ld -DCMAKE_STRIP=/opt/conda/envs/r-with-gdal/bin/x86_64-conda-linux-gnu-strip\\'\\n++++ sed \\'s,^[^\\\\,]*\\\\,\\\\(.*\\\\),\\\\1,\\'\\n+++ newval=\\'-DCMAKE_AR=/opt/conda/envs/r-with-gdal/bin/x86_64-conda-linux-gnu-ar -DCMAKE_CXX_COMPILER_AR=/opt/conda/envs/r-with-gdal/bin/x86_64-conda-linux-gnu-gcc-ar -DCMAKE_C_COMPILER_AR=/opt/conda/envs/r-with-gdal/bin/x86_64-conda-linux-gnu-gcc-ar -DCMAKE_RANLIB=/opt/conda/envs/r-with-gdal/bin/x86_64-conda-linux-gnu-ranlib -DCMAKE_CXX_COMPILER_RANLIB=/opt/conda/envs/r-with-gdal/bin/x86_64-conda-linux-gnu-gcc-ranlib -DCMAKE_C_COMPILER_RANLIB=/opt/conda/envs/r-with-gdal/bin/x86_64-conda-linux-gnu-gcc-ranlib -DCMAKE_LINKER=/opt/conda/envs/r-with-gdal/bin/x86_64-conda-linux-gnu-ld -DCMAKE_STRIP=/opt/conda/envs/r-with-gdal/bin/x86_64-conda-linux-gnu-strip\\'\\n++++ echo \\'CMAKE_ARGS,-DCMAKE_AR=/opt/conda/envs/r-with-gdal/bin/x86_64-conda-linux-gnu-ar -DCMAKE_CXX_COMPILER_AR=/opt/conda/envs/r-with-gdal/bin/x86_64-conda-linux-gnu-gcc-ar -DCMAKE_C_COMPILER_AR=/opt/conda/envs/r-with-gdal/bin/x86_64-conda-linux-gnu-gcc-ar -DCMAKE_RANLIB=/opt/conda/envs/r-with-gdal/bin/x86_64-conda-linux-gnu-ranlib -DCMAKE_CXX_COMPILER_RANLIB=/opt/conda/envs/r-with-gdal/bin/x86_64-conda-linux-gnu-gcc-ranlib -DCMAKE_C_COMPILER_RANLIB=/opt/conda/envs/r-with-gdal/bin/x86_64-conda-linux-gnu-gcc-ranlib -DCMAKE_LINKER=/opt/conda/envs/r-with-gdal/bin/x86_64-conda-linux-gnu-ld -DCMAKE_STRIP=/opt/conda/envs/r-with-gdal/bin/x86_64-conda-linux-gnu-strip\\'\\n++++ sed \\'s,^\\\\([^\\\\,]*\\\\)\\\\,.*,\\\\1,\\'\\n+++ thing=CMAKE_ARGS\\n+++ \\'[\\' check = apply \\']\\'\\n+++ for pass in check apply\\n+++ for thing in \"$@\"\\n+++ case \"${thing}\" in\\n++++ echo HOST,x86_64-conda-linux-gnu\\n++++ sed \\'s,^[^\\\\,]*\\\\,\\\\(.*\\\\),\\\\1,\\'\\n+++ newval=x86_64-conda-linux-gnu\\n++++ echo HOST,x86_64-conda-linux-gnu\\n++++ sed \\'s,^\\\\([^\\\\,]*\\\\)\\\\,.*,\\\\1,\\'\\n+++ thing=HOST\\n+++ \\'[\\' apply = apply \\']\\'\\n+++ eval \\'oldval=$HOST\\'\\n++++ oldval=\\n+++ \\'[\\' -n \\'\\' \\']\\'\\n+++ eval unset \\'${to}${thing}\\'\\n++++ unset CONDA_BACKUP_HOST\\n+++ \\'[\\' -n x86_64-conda-linux-gnu \\']\\'\\n+++ eval export \\'\\'\\\\\\'\\'HOST=x86_64-conda-linux-gnu\\'\\\\\\'\\'\\'\\n++++ export HOST=x86_64-conda-linux-gnu\\n++++ HOST=x86_64-conda-linux-gnu\\n+++ for thing in \"$@\"\\n+++ case \"${thing}\" in\\n++++ echo BUILD,x86_64-conda-linux-gnu\\n++++ sed \\'s,^[^\\\\,]*\\\\,\\\\(.*\\\\),\\\\1,\\'\\n+++ newval=x86_64-conda-linux-gnu\\n++++ echo BUILD,x86_64-conda-linux-gnu\\n++++ sed \\'s,^\\\\([^\\\\,]*\\\\)\\\\,.*,\\\\1,\\'\\n+++ thing=BUILD\\n+++ \\'[\\' apply = apply \\']\\'\\n+++ eval \\'oldval=$BUILD\\'\\n++++ oldval=\\n+++ \\'[\\' -n \\'\\' \\']\\'\\n+++ eval unset \\'${to}${thing}\\'\\n++++ unset CONDA_BACKUP_BUILD\\n+++ \\'[\\' -n x86_64-conda-linux-gnu \\']\\'\\n+++ eval export \\'\\'\\\\\\'\\'BUILD=x86_64-conda-linux-gnu\\'\\\\\\'\\'\\'\\n++++ export BUILD=x86_64-conda-linux-gnu\\n++++ BUILD=x86_64-conda-linux-gnu\\n+++ for thing in \"$@\"\\n+++ case \"${thing}\" in\\n++++ echo CONDA_TOOLCHAIN_HOST,x86_64-conda-linux-gnu\\n++++ sed \\'s,^[^\\\\,]*\\\\,\\\\(.*\\\\),\\\\1,\\'\\n+++ newval=x86_64-conda-linux-gnu\\n++++ echo CONDA_TOOLCHAIN_HOST,x86_64-conda-linux-gnu\\n++++ sed \\'s,^\\\\([^\\\\,]*\\\\)\\\\,.*,\\\\1,\\'\\n+++ thing=CONDA_TOOLCHAIN_HOST\\n+++ \\'[\\' apply = apply \\']\\'\\n+++ eval \\'oldval=$CONDA_TOOLCHAIN_HOST\\'\\n++++ oldval=\\n+++ \\'[\\' -n \\'\\' \\']\\'\\n+++ eval unset \\'${to}${thing}\\'\\n++++ unset CONDA_BACKUP_CONDA_TOOLCHAIN_HOST\\n+++ \\'[\\' -n x86_64-conda-linux-gnu \\']\\'\\n+++ eval export \\'\\'\\\\\\'\\'CONDA_TOOLCHAIN_HOST=x86_64-conda-linux-gnu\\'\\\\\\'\\'\\'\\n++++ export CONDA_TOOLCHAIN_HOST=x86_64-conda-linux-gnu\\n++++ CONDA_TOOLCHAIN_HOST=x86_64-conda-linux-gnu\\n+++ for thing in \"$@\"\\n+++ case \"${thing}\" in\\n++++ echo CONDA_TOOLCHAIN_BUILD,x86_64-conda-linux-gnu\\n++++ sed \\'s,^[^\\\\,]*\\\\,\\\\(.*\\\\),\\\\1,\\'\\n+++ newval=x86_64-conda-linux-gnu\\n++++ echo CONDA_TOOLCHAIN_BUILD,x86_64-conda-linux-gnu\\n++++ sed \\'s,^\\\\([^\\\\,]*\\\\)\\\\,.*,\\\\1,\\'\\n+++ thing=CONDA_TOOLCHAIN_BUILD\\n+++ \\'[\\' apply = apply \\']\\'\\n+++ eval \\'oldval=$CONDA_TOOLCHAIN_BUILD\\'\\n++++ oldval=\\n+++ \\'[\\' -n \\'\\' \\']\\'\\n+++ eval unset \\'${to}${thing}\\'\\n++++ unset CONDA_BACKUP_CONDA_TOOLCHAIN_BUILD\\n+++ \\'[\\' -n x86_64-conda-linux-gnu \\']\\'\\n+++ eval export \\'\\'\\\\\\'\\'CONDA_TOOLCHAIN_BUILD=x86_64-conda-linux-gnu\\'\\\\\\'\\'\\'\\n++++ export CONDA_TOOLCHAIN_BUILD=x86_64-conda-linux-gnu\\n++++ CONDA_TOOLCHAIN_BUILD=x86_64-conda-linux-gnu\\n+++ for thing in \"$@\"\\n+++ case \"${thing}\" in\\n+++ newval=/opt/conda/envs/r-with-gdal/bin/x86_64-conda-linux-gnu-cc\\n++++ echo cc\\n++++ tr a-z+- A-ZX_\\n+++ thing=CC\\n+++ \\'[\\' \\'!\\' -x /opt/conda/envs/r-with-gdal/bin/x86_64-conda-linux-gnu-cc \\']\\'\\n+++ \\'[\\' apply = apply \\']\\'\\n+++ eval \\'oldval=$CC\\'\\n++++ oldval=\\n+++ \\'[\\' -n \\'\\' \\']\\'\\n+++ eval unset \\'${to}${thing}\\'\\n++++ unset CONDA_BACKUP_CC\\n+++ \\'[\\' -n /opt/conda/envs/r-with-gdal/bin/x86_64-conda-linux-gnu-cc \\']\\'\\n+++ eval export \\'\\'\\\\\\'\\'CC=/opt/conda/envs/r-with-gdal/bin/x86_64-conda-linux-gnu-cc\\'\\\\\\'\\'\\'\\n++++ export CC=/opt/conda/envs/r-with-gdal/bin/x86_64-conda-linux-gnu-cc\\n++++ CC=/opt/conda/envs/r-with-gdal/bin/x86_64-conda-linux-gnu-cc\\n+++ for thing in \"$@\"\\n+++ case \"${thing}\" in\\n+++ newval=/opt/conda/envs/r-with-gdal/bin/x86_64-conda-linux-gnu-cpp\\n++++ echo cpp\\n++++ tr a-z+- A-ZX_\\n+++ thing=CPP\\n+++ \\'[\\' \\'!\\' -x /opt/conda/envs/r-with-gdal/bin/x86_64-conda-linux-gnu-cpp \\']\\'\\n+++ \\'[\\' apply = apply \\']\\'\\n+++ eval \\'oldval=$CPP\\'\\n++++ oldval=\\n+++ \\'[\\' -n \\'\\' \\']\\'\\n+++ eval unset \\'${to}${thing}\\'\\n++++ unset CONDA_BACKUP_CPP\\n+++ \\'[\\' -n /opt/conda/envs/r-with-gdal/bin/x86_64-conda-linux-gnu-cpp \\']\\'\\n+++ eval export \\'\\'\\\\\\'\\'CPP=/opt/conda/envs/r-with-gdal/bin/x86_64-conda-linux-gnu-cpp\\'\\\\\\'\\'\\'\\n++++ export CPP=/opt/conda/envs/r-with-gdal/bin/x86_64-conda-linux-gnu-cpp\\n++++ CPP=/opt/conda/envs/r-with-gdal/bin/x86_64-conda-linux-gnu-cpp\\n+++ for thing in \"$@\"\\n+++ case \"${thing}\" in\\n+++ newval=/opt/conda/envs/r-with-gdal/bin/x86_64-conda-linux-gnu-gcc\\n++++ echo gcc\\n++++ tr a-z+- A-ZX_\\n+++ thing=GCC\\n+++ \\'[\\' \\'!\\' -x /opt/conda/envs/r-with-gdal/bin/x86_64-conda-linux-gnu-gcc \\']\\'\\n+++ \\'[\\' apply = apply \\']\\'\\n+++ eval \\'oldval=$GCC\\'\\n++++ oldval=\\n+++ \\'[\\' -n \\'\\' \\']\\'\\n+++ eval unset \\'${to}${thing}\\'\\n++++ unset CONDA_BACKUP_GCC\\n+++ \\'[\\' -n /opt/conda/envs/r-with-gdal/bin/x86_64-conda-linux-gnu-gcc \\']\\'\\n+++ eval export \\'\\'\\\\\\'\\'GCC=/opt/conda/envs/r-with-gdal/bin/x86_64-conda-linux-gnu-gcc\\'\\\\\\'\\'\\'\\n++++ export GCC=/opt/conda/envs/r-with-gdal/bin/x86_64-conda-linux-gnu-gcc\\n++++ GCC=/opt/conda/envs/r-with-gdal/bin/x86_64-conda-linux-gnu-gcc\\n+++ for thing in \"$@\"\\n+++ case \"${thing}\" in\\n+++ newval=/opt/conda/envs/r-with-gdal/bin/x86_64-conda-linux-gnu-gcc-ar\\n++++ echo gcc-ar\\n++++ tr a-z+- A-ZX_\\n+++ thing=GCC_AR\\n+++ \\'[\\' \\'!\\' -x /opt/conda/envs/r-with-gdal/bin/x86_64-conda-linux-gnu-gcc-ar \\']\\'\\n+++ \\'[\\' apply = apply \\']\\'\\n+++ eval \\'oldval=$GCC_AR\\'\\n++++ oldval=\\n+++ \\'[\\' -n \\'\\' \\']\\'\\n+++ eval unset \\'${to}${thing}\\'\\n++++ unset CONDA_BACKUP_GCC_AR\\n+++ \\'[\\' -n /opt/conda/envs/r-with-gdal/bin/x86_64-conda-linux-gnu-gcc-ar \\']\\'\\n+++ eval export \\'\\'\\\\\\'\\'GCC_AR=/opt/conda/envs/r-with-gdal/bin/x86_64-conda-linux-gnu-gcc-ar\\'\\\\\\'\\'\\'\\n++++ export GCC_AR=/opt/conda/envs/r-with-gdal/bin/x86_64-conda-linux-gnu-gcc-ar\\n++++ GCC_AR=/opt/conda/envs/r-with-gdal/bin/x86_64-conda-linux-gnu-gcc-ar\\n+++ for thing in \"$@\"\\n+++ case \"${thing}\" in\\n+++ newval=/opt/conda/envs/r-with-gdal/bin/x86_64-conda-linux-gnu-gcc-nm\\n++++ echo gcc-nm\\n++++ tr a-z+- A-ZX_\\n+++ thing=GCC_NM\\n+++ \\'[\\' \\'!\\' -x /opt/conda/envs/r-with-gdal/bin/x86_64-conda-linux-gnu-gcc-nm \\']\\'\\n+++ \\'[\\' apply = apply \\']\\'\\n+++ eval \\'oldval=$GCC_NM\\'\\n++++ oldval=\\n+++ \\'[\\' -n \\'\\' \\']\\'\\n+++ eval unset \\'${to}${thing}\\'\\n++++ unset CONDA_BACKUP_GCC_NM\\n+++ \\'[\\' -n /opt/conda/envs/r-with-gdal/bin/x86_64-conda-linux-gnu-gcc-nm \\']\\'\\n+++ eval export \\'\\'\\\\\\'\\'GCC_NM=/opt/conda/envs/r-with-gdal/bin/x86_64-conda-linux-gnu-gcc-nm\\'\\\\\\'\\'\\'\\n++++ export GCC_NM=/opt/conda/envs/r-with-gdal/bin/x86_64-conda-linux-gnu-gcc-nm\\n++++ GCC_NM=/opt/conda/envs/r-with-gdal/bin/x86_64-conda-linux-gnu-gcc-nm\\n+++ for thing in \"$@\"\\n+++ case \"${thing}\" in\\n+++ newval=/opt/conda/envs/r-with-gdal/bin/x86_64-conda-linux-gnu-gcc-ranlib\\n++++ echo gcc-ranlib\\n++++ tr a-z+- A-ZX_\\n+++ thing=GCC_RANLIB\\n+++ \\'[\\' \\'!\\' -x /opt/conda/envs/r-with-gdal/bin/x86_64-conda-linux-gnu-gcc-ranlib \\']\\'\\n+++ \\'[\\' apply = apply \\']\\'\\n+++ eval \\'oldval=$GCC_RANLIB\\'\\n++++ oldval=\\n+++ \\'[\\' -n \\'\\' \\']\\'\\n+++ eval unset \\'${to}${thing}\\'\\n++++ unset CONDA_BACKUP_GCC_RANLIB\\n+++ \\'[\\' -n /opt/conda/envs/r-with-gdal/bin/x86_64-conda-linux-gnu-gcc-ranlib \\']\\'\\n+++ eval export \\'\\'\\\\\\'\\'GCC_RANLIB=/opt/conda/envs/r-with-gdal/bin/x86_64-conda-linux-gnu-gcc-ranlib\\'\\\\\\'\\'\\'\\n++++ export GCC_RANLIB=/opt/conda/envs/r-with-gdal/bin/x86_64-conda-linux-gnu-gcc-ranlib\\n++++ GCC_RANLIB=/opt/conda/envs/r-with-gdal/bin/x86_64-conda-linux-gnu-gcc-ranlib\\n+++ for thing in \"$@\"\\n+++ case \"${thing}\" in\\n++++ echo \\'CPPFLAGS,-DNDEBUG -D_FORTIFY_SOURCE=2 -O2 -isystem /opt/conda/envs/r-with-gdal/include \\'\\n++++ sed \\'s,^[^\\\\,]*\\\\,\\\\(.*\\\\),\\\\1,\\'\\n+++ newval=\\'-DNDEBUG -D_FORTIFY_SOURCE=2 -O2 -isystem /opt/conda/envs/r-with-gdal/include \\'\\n++++ echo \\'CPPFLAGS,-DNDEBUG -D_FORTIFY_SOURCE=2 -O2 -isystem /opt/conda/envs/r-with-gdal/include \\'\\n++++ sed \\'s,^\\\\([^\\\\,]*\\\\)\\\\,.*,\\\\1,\\'\\n+++ thing=CPPFLAGS\\n+++ \\'[\\' apply = apply \\']\\'\\n+++ eval \\'oldval=$CPPFLAGS\\'\\n++++ oldval=\\n+++ \\'[\\' -n \\'\\' \\']\\'\\n+++ eval unset \\'${to}${thing}\\'\\n++++ unset CONDA_BACKUP_CPPFLAGS\\n+++ \\'[\\' -n \\'-DNDEBUG -D_FORTIFY_SOURCE=2 -O2 -isystem /opt/conda/envs/r-with-gdal/include \\' \\']\\'\\n+++ eval export \\'\\'\\\\\\'\\'CPPFLAGS=-DNDEBUG -D_FORTIFY_SOURCE=2 -O2 -isystem /opt/conda/envs/r-with-gdal/include \\'\\\\\\'\\'\\'\\n++++ export \\'CPPFLAGS=-DNDEBUG -D_FORTIFY_SOURCE=2 -O2 -isystem /opt/conda/envs/r-with-gdal/include \\'\\n++++ CPPFLAGS=\\'-DNDEBUG -D_FORTIFY_SOURCE=2 -O2 -isystem /opt/conda/envs/r-with-gdal/include \\'\\n+++ for thing in \"$@\"\\n+++ case \"${thing}\" in\\n++++ echo \\'CFLAGS,-march=nocona -mtune=haswell -ftree-vectorize -fPIC -fstack-protector-strong -fno-plt -O2 -ffunction-sections -pipe -isystem /opt/conda/envs/r-with-gdal/include \\'\\n++++ sed \\'s,^[^\\\\,]*\\\\,\\\\(.*\\\\),\\\\1,\\'\\n+++ newval=\\'-march=nocona -mtune=haswell -ftree-vectorize -fPIC -fstack-protector-strong -fno-plt -O2 -ffunction-sections -pipe -isystem /opt/conda/envs/r-with-gdal/include \\'\\n++++ echo \\'CFLAGS,-march=nocona -mtune=haswell -ftree-vectorize -fPIC -fstack-protector-strong -fno-plt -O2 -ffunction-sections -pipe -isystem /opt/conda/envs/r-with-gdal/include \\'\\n++++ sed \\'s,^\\\\([^\\\\,]*\\\\)\\\\,.*,\\\\1,\\'\\n+++ thing=CFLAGS\\n+++ \\'[\\' apply = apply \\']\\'\\n+++ eval \\'oldval=$CFLAGS\\'\\n++++ oldval=\\n+++ \\'[\\' -n \\'\\' \\']\\'\\n+++ eval unset \\'${to}${thing}\\'\\n++++ unset CONDA_BACKUP_CFLAGS\\n+++ \\'[\\' -n \\'-march=nocona -mtune=haswell -ftree-vectorize -fPIC -fstack-protector-strong -fno-plt -O2 -ffunction-sections -pipe -isystem /opt/conda/envs/r-with-gdal/include \\' \\']\\'\\n+++ eval export \\'\\'\\\\\\'\\'CFLAGS=-march=nocona -mtune=haswell -ftree-vectorize -fPIC -fstack-protector-strong -fno-plt -O2 -ffunction-sections -pipe -isystem /opt/conda/envs/r-with-gdal/include \\'\\\\\\'\\'\\'\\n++++ export \\'CFLAGS=-march=nocona -mtune=haswell -ftree-vectorize -fPIC -fstack-protector-strong -fno-plt -O2 -ffunction-sections -pipe -isystem /opt/conda/envs/r-with-gdal/include \\'\\n++++ CFLAGS=\\'-march=nocona -mtune=haswell -ftree-vectorize -fPIC -fstack-protector-strong -fno-plt -O2 -ffunction-sections -pipe -isystem /opt/conda/envs/r-with-gdal/include \\'\\n+++ for thing in \"$@\"\\n+++ case \"${thing}\" in\\n++++ echo \\'LDFLAGS,-Wl,-O2 -Wl,--sort-common -Wl,--as-needed -Wl,-z,relro -Wl,-z,now -Wl,--disable-new-dtags -Wl,--gc-sections -Wl,--allow-shlib-undefined -Wl,-rpath,/opt/conda/envs/r-with-gdal/lib -Wl,-rpath-link,/opt/conda/envs/r-with-gdal/lib -L/opt/conda/envs/r-with-gdal/lib \\'\\n++++ sed \\'s,^[^\\\\,]*\\\\,\\\\(.*\\\\),\\\\1,\\'\\n+++ newval=\\'-Wl,-O2 -Wl,--sort-common -Wl,--as-needed -Wl,-z,relro -Wl,-z,now -Wl,--disable-new-dtags -Wl,--gc-sections -Wl,--allow-shlib-undefined -Wl,-rpath,/opt/conda/envs/r-with-gdal/lib -Wl,-rpath-link,/opt/conda/envs/r-with-gdal/lib -L/opt/conda/envs/r-with-gdal/lib \\'\\n++++ echo \\'LDFLAGS,-Wl,-O2 -Wl,--sort-common -Wl,--as-needed -Wl,-z,relro -Wl,-z,now -Wl,--disable-new-dtags -Wl,--gc-sections -Wl,--allow-shlib-undefined -Wl,-rpath,/opt/conda/envs/r-with-gdal/lib -Wl,-rpath-link,/opt/conda/envs/r-with-gdal/lib -L/opt/conda/envs/r-with-gdal/lib \\'\\n++++ sed \\'s,^\\\\([^\\\\,]*\\\\)\\\\,.*,\\\\1,\\'\\n+++ thing=LDFLAGS\\n+++ \\'[\\' apply = apply \\']\\'\\n+++ eval \\'oldval=$LDFLAGS\\'\\n++++ oldval=\\n+++ \\'[\\' -n \\'\\' \\']\\'\\n+++ eval unset \\'${to}${thing}\\'\\n++++ unset CONDA_BACKUP_LDFLAGS\\n+++ \\'[\\' -n \\'-Wl,-O2 -Wl,--sort-common -Wl,--as-needed -Wl,-z,relro -Wl,-z,now -Wl,--disable-new-dtags -Wl,--gc-sections -Wl,--allow-shlib-undefined -Wl,-rpath,/opt/conda/envs/r-with-gdal/lib -Wl,-rpath-link,/opt/conda/envs/r-with-gdal/lib -L/opt/conda/envs/r-with-gdal/lib \\' \\']\\'\\n+++ eval export \\'\\'\\\\\\'\\'LDFLAGS=-Wl,-O2 -Wl,--sort-common -Wl,--as-needed -Wl,-z,relro -Wl,-z,now -Wl,--disable-new-dtags -Wl,--gc-sections -Wl,--allow-shlib-undefined -Wl,-rpath,/opt/conda/envs/r-with-gdal/lib -Wl,-rpath-link,/opt/conda/envs/r-with-gdal/lib -L/opt/conda/envs/r-with-gdal/lib \\'\\\\\\'\\'\\'\\n++++ export \\'LDFLAGS=-Wl,-O2 -Wl,--sort-common -Wl,--as-needed -Wl,-z,relro -Wl,-z,now -Wl,--disable-new-dtags -Wl,--gc-sections -Wl,--allow-shlib-undefined -Wl,-rpath,/opt/conda/envs/r-with-gdal/lib -Wl,-rpath-link,/opt/conda/envs/r-with-gdal/lib -L/opt/conda/envs/r-with-gdal/lib \\'\\n++++ LDFLAGS=\\'-Wl,-O2 -Wl,--sort-common -Wl,--as-needed -Wl,-z,relro -Wl,-z,now -Wl,--disable-new-dtags -Wl,--gc-sections -Wl,--allow-shlib-undefined -Wl,-rpath,/opt/conda/envs/r-with-gdal/lib -Wl,-rpath-link,/opt/conda/envs/r-with-gdal/lib -L/opt/conda/envs/r-with-gdal/lib \\'\\n+++ for thing in \"$@\"\\n+++ case \"${thing}\" in\\n++++ echo \\'DEBUG_CPPFLAGS,-D_DEBUG -D_FORTIFY_SOURCE=2 -Og -isystem /opt/conda/envs/r-with-gdal/include \\'\\n++++ sed \\'s,^[^\\\\,]*\\\\,\\\\(.*\\\\),\\\\1,\\'\\n+++ newval=\\'-D_DEBUG -D_FORTIFY_SOURCE=2 -Og -isystem /opt/conda/envs/r-with-gdal/include \\'\\n++++ echo \\'DEBUG_CPPFLAGS,-D_DEBUG -D_FORTIFY_SOURCE=2 -Og -isystem /opt/conda/envs/r-with-gdal/include \\'\\n++++ sed \\'s,^\\\\([^\\\\,]*\\\\)\\\\,.*,\\\\1,\\'\\n+++ thing=DEBUG_CPPFLAGS\\n+++ \\'[\\' apply = apply \\']\\'\\n+++ eval \\'oldval=$DEBUG_CPPFLAGS\\'\\n++++ oldval=\\n+++ \\'[\\' -n \\'\\' \\']\\'\\n+++ eval unset \\'${to}${thing}\\'\\n++++ unset CONDA_BACKUP_DEBUG_CPPFLAGS\\n+++ \\'[\\' -n \\'-D_DEBUG -D_FORTIFY_SOURCE=2 -Og -isystem /opt/conda/envs/r-with-gdal/include \\' \\']\\'\\n+++ eval export \\'\\'\\\\\\'\\'DEBUG_CPPFLAGS=-D_DEBUG -D_FORTIFY_SOURCE=2 -Og -isystem /opt/conda/envs/r-with-gdal/include \\'\\\\\\'\\'\\'\\n++++ export \\'DEBUG_CPPFLAGS=-D_DEBUG -D_FORTIFY_SOURCE=2 -Og -isystem /opt/conda/envs/r-with-gdal/include \\'\\n++++ DEBUG_CPPFLAGS=\\'-D_DEBUG -D_FORTIFY_SOURCE=2 -Og -isystem /opt/conda/envs/r-with-gdal/include \\'\\n+++ for thing in \"$@\"\\n+++ case \"${thing}\" in\\n++++ echo \\'DEBUG_CFLAGS,-march=nocona -mtune=haswell -ftree-vectorize -fPIC -fstack-protector-all -fno-plt -Og -g -Wall -Wextra -fvar-tracking-assignments -ffunction-sections -pipe -isystem /opt/conda/envs/r-with-gdal/include \\'\\n++++ sed \\'s,^[^\\\\,]*\\\\,\\\\(.*\\\\),\\\\1,\\'\\n+++ newval=\\'-march=nocona -mtune=haswell -ftree-vectorize -fPIC -fstack-protector-all -fno-plt -Og -g -Wall -Wextra -fvar-tracking-assignments -ffunction-sections -pipe -isystem /opt/conda/envs/r-with-gdal/include \\'\\n++++ echo \\'DEBUG_CFLAGS,-march=nocona -mtune=haswell -ftree-vectorize -fPIC -fstack-protector-all -fno-plt -Og -g -Wall -Wextra -fvar-tracking-assignments -ffunction-sections -pipe -isystem /opt/conda/envs/r-with-gdal/include \\'\\n++++ sed \\'s,^\\\\([^\\\\,]*\\\\)\\\\,.*,\\\\1,\\'\\n+++ thing=DEBUG_CFLAGS\\n+++ \\'[\\' apply = apply \\']\\'\\n+++ eval \\'oldval=$DEBUG_CFLAGS\\'\\n++++ oldval=\\n+++ \\'[\\' -n \\'\\' \\']\\'\\n+++ eval unset \\'${to}${thing}\\'\\n++++ unset CONDA_BACKUP_DEBUG_CFLAGS\\n+++ \\'[\\' -n \\'-march=nocona -mtune=haswell -ftree-vectorize -fPIC -fstack-protector-all -fno-plt -Og -g -Wall -Wextra -fvar-tracking-assignments -ffunction-sections -pipe -isystem /opt/conda/envs/r-with-gdal/include \\' \\']\\'\\n+++ eval export \\'\\'\\\\\\'\\'DEBUG_CFLAGS=-march=nocona -mtune=haswell -ftree-vectorize -fPIC -fstack-protector-all -fno-plt -Og -g -Wall -Wextra -fvar-tracking-assignments -ffunction-sections -pipe -isystem /opt/conda/envs/r-with-gdal/include \\'\\\\\\'\\'\\'\\n++++ export \\'DEBUG_CFLAGS=-march=nocona -mtune=haswell -ftree-vectorize -fPIC -fstack-protector-all -fno-plt -Og -g -Wall -Wextra -fvar-tracking-assignments -ffunction-sections -pipe -isystem /opt/conda/envs/r-with-gdal/include \\'\\n++++ DEBUG_CFLAGS=\\'-march=nocona -mtune=haswell -ftree-vectorize -fPIC -fstack-protector-all -fno-plt -Og -g -Wall -Wextra -fvar-tracking-assignments -ffunction-sections -pipe -isystem /opt/conda/envs/r-with-gdal/include \\'\\n+++ for thing in \"$@\"\\n+++ case \"${thing}\" in\\n++++ echo CMAKE_PREFIX_PATH,/opt/conda/envs/r-with-gdal:/opt/conda/envs/r-with-gdal/x86_64-conda-linux-gnu/sysroot/usr\\n++++ sed \\'s,^[^\\\\,]*\\\\,\\\\(.*\\\\),\\\\1,\\'\\n+++ newval=/opt/conda/envs/r-with-gdal:/opt/conda/envs/r-with-gdal/x86_64-conda-linux-gnu/sysroot/usr\\n++++ echo CMAKE_PREFIX_PATH,/opt/conda/envs/r-with-gdal:/opt/conda/envs/r-with-gdal/x86_64-conda-linux-gnu/sysroot/usr\\n++++ sed \\'s,^\\\\([^\\\\,]*\\\\)\\\\,.*,\\\\1,\\'\\n+++ thing=CMAKE_PREFIX_PATH\\n+++ \\'[\\' apply = apply \\']\\'\\n+++ eval \\'oldval=$CMAKE_PREFIX_PATH\\'\\n++++ oldval=\\n+++ \\'[\\' -n \\'\\' \\']\\'\\n+++ eval unset \\'${to}${thing}\\'\\n++++ unset CONDA_BACKUP_CMAKE_PREFIX_PATH\\n+++ \\'[\\' -n /opt/conda/envs/r-with-gdal:/opt/conda/envs/r-with-gdal/x86_64-conda-linux-gnu/sysroot/usr \\']\\'\\n+++ eval export \\'\\'\\\\\\'\\'CMAKE_PREFIX_PATH=/opt/conda/envs/r-with-gdal:/opt/conda/envs/r-with-gdal/x86_64-conda-linux-gnu/sysroot/usr\\'\\\\\\'\\'\\'\\n++++ export CMAKE_PREFIX_PATH=/opt/conda/envs/r-with-gdal:/opt/conda/envs/r-with-gdal/x86_64-conda-linux-gnu/sysroot/usr\\n++++ CMAKE_PREFIX_PATH=/opt/conda/envs/r-with-gdal:/opt/conda/envs/r-with-gdal/x86_64-conda-linux-gnu/sysroot/usr\\n+++ for thing in \"$@\"\\n+++ case \"${thing}\" in\\n++++ echo _CONDA_PYTHON_SYSCONFIGDATA_NAME,_sysconfigdata_x86_64_conda_cos6_linux_gnu\\n++++ sed \\'s,^[^\\\\,]*\\\\,\\\\(.*\\\\),\\\\1,\\'\\n+++ newval=_sysconfigdata_x86_64_conda_cos6_linux_gnu\\n++++ echo _CONDA_PYTHON_SYSCONFIGDATA_NAME,_sysconfigdata_x86_64_conda_cos6_linux_gnu\\n++++ sed \\'s,^\\\\([^\\\\,]*\\\\)\\\\,.*,\\\\1,\\'\\n+++ thing=_CONDA_PYTHON_SYSCONFIGDATA_NAME\\n+++ \\'[\\' apply = apply \\']\\'\\n+++ eval \\'oldval=$_CONDA_PYTHON_SYSCONFIGDATA_NAME\\'\\n++++ oldval=\\n+++ \\'[\\' -n \\'\\' \\']\\'\\n+++ eval unset \\'${to}${thing}\\'\\n++++ unset CONDA_BACKUP__CONDA_PYTHON_SYSCONFIGDATA_NAME\\n+++ \\'[\\' -n _sysconfigdata_x86_64_conda_cos6_linux_gnu \\']\\'\\n+++ eval export \\'\\'\\\\\\'\\'_CONDA_PYTHON_SYSCONFIGDATA_NAME=_sysconfigdata_x86_64_conda_cos6_linux_gnu\\'\\\\\\'\\'\\'\\n++++ export _CONDA_PYTHON_SYSCONFIGDATA_NAME=_sysconfigdata_x86_64_conda_cos6_linux_gnu\\n++++ _CONDA_PYTHON_SYSCONFIGDATA_NAME=_sysconfigdata_x86_64_conda_cos6_linux_gnu\\n+++ for thing in \"$@\"\\n+++ case \"${thing}\" in\\n++++ echo CONDA_BUILD_SYSROOT,/opt/conda/envs/r-with-gdal/x86_64-conda-linux-gnu/sysroot\\n++++ sed \\'s,^[^\\\\,]*\\\\,\\\\(.*\\\\),\\\\1,\\'\\n+++ newval=/opt/conda/envs/r-with-gdal/x86_64-conda-linux-gnu/sysroot\\n++++ echo CONDA_BUILD_SYSROOT,/opt/conda/envs/r-with-gdal/x86_64-conda-linux-gnu/sysroot\\n++++ sed \\'s,^\\\\([^\\\\,]*\\\\)\\\\,.*,\\\\1,\\'\\n+++ thing=CONDA_BUILD_SYSROOT\\n+++ \\'[\\' apply = apply \\']\\'\\n+++ eval \\'oldval=$CONDA_BUILD_SYSROOT\\'\\n++++ oldval=\\n+++ \\'[\\' -n \\'\\' \\']\\'\\n+++ eval unset \\'${to}${thing}\\'\\n++++ unset CONDA_BACKUP_CONDA_BUILD_SYSROOT\\n+++ \\'[\\' -n /opt/conda/envs/r-with-gdal/x86_64-conda-linux-gnu/sysroot \\']\\'\\n+++ eval export \\'\\'\\\\\\'\\'CONDA_BUILD_SYSROOT=/opt/conda/envs/r-with-gdal/x86_64-conda-linux-gnu/sysroot\\'\\\\\\'\\'\\'\\n++++ export CONDA_BUILD_SYSROOT=/opt/conda/envs/r-with-gdal/x86_64-conda-linux-gnu/sysroot\\n++++ CONDA_BUILD_SYSROOT=/opt/conda/envs/r-with-gdal/x86_64-conda-linux-gnu/sysroot\\n+++ for thing in \"$@\"\\n+++ case \"${thing}\" in\\n++++ echo CONDA_BUILD_CROSS_COMPILATION,\\n++++ sed \\'s,^[^\\\\,]*\\\\,\\\\(.*\\\\),\\\\1,\\'\\n+++ newval=\\n++++ echo CONDA_BUILD_CROSS_COMPILATION,\\n++++ sed \\'s,^\\\\([^\\\\,]*\\\\)\\\\,.*,\\\\1,\\'\\n+++ thing=CONDA_BUILD_CROSS_COMPILATION\\n+++ \\'[\\' apply = apply \\']\\'\\n+++ eval \\'oldval=$CONDA_BUILD_CROSS_COMPILATION\\'\\n++++ oldval=\\n+++ \\'[\\' -n \\'\\' \\']\\'\\n+++ eval unset \\'${to}${thing}\\'\\n++++ unset CONDA_BACKUP_CONDA_BUILD_CROSS_COMPILATION\\n+++ \\'[\\' -n \\'\\' \\']\\'\\n+++ eval unset \\'${from}${thing}\\'\\n++++ unset CONDA_BUILD_CROSS_COMPILATION\\n+++ for thing in \"$@\"\\n+++ case \"${thing}\" in\\n++++ echo CC_FOR_BUILD,/opt/conda/envs/r-with-gdal/bin/x86_64-conda-linux-gnu-cc\\n++++ sed \\'s,^[^\\\\,]*\\\\,\\\\(.*\\\\),\\\\1,\\'\\n+++ newval=/opt/conda/envs/r-with-gdal/bin/x86_64-conda-linux-gnu-cc\\n++++ echo CC_FOR_BUILD,/opt/conda/envs/r-with-gdal/bin/x86_64-conda-linux-gnu-cc\\n++++ sed \\'s,^\\\\([^\\\\,]*\\\\)\\\\,.*,\\\\1,\\'\\n+++ thing=CC_FOR_BUILD\\n+++ \\'[\\' apply = apply \\']\\'\\n+++ eval \\'oldval=$CC_FOR_BUILD\\'\\n++++ oldval=\\n+++ \\'[\\' -n \\'\\' \\']\\'\\n+++ eval unset \\'${to}${thing}\\'\\n++++ unset CONDA_BACKUP_CC_FOR_BUILD\\n+++ \\'[\\' -n /opt/conda/envs/r-with-gdal/bin/x86_64-conda-linux-gnu-cc \\']\\'\\n+++ eval export \\'\\'\\\\\\'\\'CC_FOR_BUILD=/opt/conda/envs/r-with-gdal/bin/x86_64-conda-linux-gnu-cc\\'\\\\\\'\\'\\'\\n++++ export CC_FOR_BUILD=/opt/conda/envs/r-with-gdal/bin/x86_64-conda-linux-gnu-cc\\n++++ CC_FOR_BUILD=/opt/conda/envs/r-with-gdal/bin/x86_64-conda-linux-gnu-cc\\n+++ for thing in \"$@\"\\n+++ case \"${thing}\" in\\n++++ echo build_alias,x86_64-conda-linux-gnu\\n++++ sed \\'s,^[^\\\\,]*\\\\,\\\\(.*\\\\),\\\\1,\\'\\n+++ newval=x86_64-conda-linux-gnu\\n++++ echo build_alias,x86_64-conda-linux-gnu\\n++++ sed \\'s,^\\\\([^\\\\,]*\\\\)\\\\,.*,\\\\1,\\'\\n+++ thing=build_alias\\n+++ \\'[\\' apply = apply \\']\\'\\n+++ eval \\'oldval=$build_alias\\'\\n++++ oldval=\\n+++ \\'[\\' -n \\'\\' \\']\\'\\n+++ eval unset \\'${to}${thing}\\'\\n++++ unset CONDA_BACKUP_build_alias\\n+++ \\'[\\' -n x86_64-conda-linux-gnu \\']\\'\\n+++ eval export \\'\\'\\\\\\'\\'build_alias=x86_64-conda-linux-gnu\\'\\\\\\'\\'\\'\\n++++ export build_alias=x86_64-conda-linux-gnu\\n++++ build_alias=x86_64-conda-linux-gnu\\n+++ for thing in \"$@\"\\n+++ case \"${thing}\" in\\n++++ echo host_alias,x86_64-conda-linux-gnu\\n++++ sed \\'s,^[^\\\\,]*\\\\,\\\\(.*\\\\),\\\\1,\\'\\n+++ newval=x86_64-conda-linux-gnu\\n++++ echo host_alias,x86_64-conda-linux-gnu\\n++++ sed \\'s,^\\\\([^\\\\,]*\\\\)\\\\,.*,\\\\1,\\'\\n+++ thing=host_alias\\n+++ \\'[\\' apply = apply \\']\\'\\n+++ eval \\'oldval=$host_alias\\'\\n++++ oldval=\\n+++ \\'[\\' -n \\'\\' \\']\\'\\n+++ eval unset \\'${to}${thing}\\'\\n++++ unset CONDA_BACKUP_host_alias\\n+++ \\'[\\' -n x86_64-conda-linux-gnu \\']\\'\\n+++ eval export \\'\\'\\\\\\'\\'host_alias=x86_64-conda-linux-gnu\\'\\\\\\'\\'\\'\\n++++ export host_alias=x86_64-conda-linux-gnu\\n++++ host_alias=x86_64-conda-linux-gnu\\n+++ for thing in \"$@\"\\n+++ case \"${thing}\" in\\n++++ echo \\'CMAKE_ARGS,-DCMAKE_AR=/opt/conda/envs/r-with-gdal/bin/x86_64-conda-linux-gnu-ar -DCMAKE_CXX_COMPILER_AR=/opt/conda/envs/r-with-gdal/bin/x86_64-conda-linux-gnu-gcc-ar -DCMAKE_C_COMPILER_AR=/opt/conda/envs/r-with-gdal/bin/x86_64-conda-linux-gnu-gcc-ar -DCMAKE_RANLIB=/opt/conda/envs/r-with-gdal/bin/x86_64-conda-linux-gnu-ranlib -DCMAKE_CXX_COMPILER_RANLIB=/opt/conda/envs/r-with-gdal/bin/x86_64-conda-linux-gnu-gcc-ranlib -DCMAKE_C_COMPILER_RANLIB=/opt/conda/envs/r-with-gdal/bin/x86_64-conda-linux-gnu-gcc-ranlib -DCMAKE_LINKER=/opt/conda/envs/r-with-gdal/bin/x86_64-conda-linux-gnu-ld -DCMAKE_STRIP=/opt/conda/envs/r-with-gdal/bin/x86_64-conda-linux-gnu-strip\\'\\n++++ sed \\'s,^[^\\\\,]*\\\\,\\\\(.*\\\\),\\\\1,\\'\\n+++ newval=\\'-DCMAKE_AR=/opt/conda/envs/r-with-gdal/bin/x86_64-conda-linux-gnu-ar -DCMAKE_CXX_COMPILER_AR=/opt/conda/envs/r-with-gdal/bin/x86_64-conda-linux-gnu-gcc-ar -DCMAKE_C_COMPILER_AR=/opt/conda/envs/r-with-gdal/bin/x86_64-conda-linux-gnu-gcc-ar -DCMAKE_RANLIB=/opt/conda/envs/r-with-gdal/bin/x86_64-conda-linux-gnu-ranlib -DCMAKE_CXX_COMPILER_RANLIB=/opt/conda/envs/r-with-gdal/bin/x86_64-conda-linux-gnu-gcc-ranlib -DCMAKE_C_COMPILER_RANLIB=/opt/conda/envs/r-with-gdal/bin/x86_64-conda-linux-gnu-gcc-ranlib -DCMAKE_LINKER=/opt/conda/envs/r-with-gdal/bin/x86_64-conda-linux-gnu-ld -DCMAKE_STRIP=/opt/conda/envs/r-with-gdal/bin/x86_64-conda-linux-gnu-strip\\'\\n++++ echo \\'CMAKE_ARGS,-DCMAKE_AR=/opt/conda/envs/r-with-gdal/bin/x86_64-conda-linux-gnu-ar -DCMAKE_CXX_COMPILER_AR=/opt/conda/envs/r-with-gdal/bin/x86_64-conda-linux-gnu-gcc-ar -DCMAKE_C_COMPILER_AR=/opt/conda/envs/r-with-gdal/bin/x86_64-conda-linux-gnu-gcc-ar -DCMAKE_RANLIB=/opt/conda/envs/r-with-gdal/bin/x86_64-conda-linux-gnu-ranlib -DCMAKE_CXX_COMPILER_RANLIB=/opt/conda/envs/r-with-gdal/bin/x86_64-conda-linux-gnu-gcc-ranlib -DCMAKE_C_COMPILER_RANLIB=/opt/conda/envs/r-with-gdal/bin/x86_64-conda-linux-gnu-gcc-ranlib -DCMAKE_LINKER=/opt/conda/envs/r-with-gdal/bin/x86_64-conda-linux-gnu-ld -DCMAKE_STRIP=/opt/conda/envs/r-with-gdal/bin/x86_64-conda-linux-gnu-strip\\'\\n++++ sed \\'s,^\\\\([^\\\\,]*\\\\)\\\\,.*,\\\\1,\\'\\n+++ thing=CMAKE_ARGS\\n+++ \\'[\\' apply = apply \\']\\'\\n+++ eval \\'oldval=$CMAKE_ARGS\\'\\n++++ oldval=\\n+++ \\'[\\' -n \\'\\' \\']\\'\\n+++ eval unset \\'${to}${thing}\\'\\n++++ unset CONDA_BACKUP_CMAKE_ARGS\\n+++ \\'[\\' -n \\'-DCMAKE_AR=/opt/conda/envs/r-with-gdal/bin/x86_64-conda-linux-gnu-ar -DCMAKE_CXX_COMPILER_AR=/opt/conda/envs/r-with-gdal/bin/x86_64-conda-linux-gnu-gcc-ar -DCMAKE_C_COMPILER_AR=/opt/conda/envs/r-with-gdal/bin/x86_64-conda-linux-gnu-gcc-ar -DCMAKE_RANLIB=/opt/conda/envs/r-with-gdal/bin/x86_64-conda-linux-gnu-ranlib -DCMAKE_CXX_COMPILER_RANLIB=/opt/conda/envs/r-with-gdal/bin/x86_64-conda-linux-gnu-gcc-ranlib -DCMAKE_C_COMPILER_RANLIB=/opt/conda/envs/r-with-gdal/bin/x86_64-conda-linux-gnu-gcc-ranlib -DCMAKE_LINKER=/opt/conda/envs/r-with-gdal/bin/x86_64-conda-linux-gnu-ld -DCMAKE_STRIP=/opt/conda/envs/r-with-gdal/bin/x86_64-conda-linux-gnu-strip\\' \\']\\'\\n+++ eval export \\'\\'\\\\\\'\\'CMAKE_ARGS=-DCMAKE_AR=/opt/conda/envs/r-with-gdal/bin/x86_64-conda-linux-gnu-ar -DCMAKE_CXX_COMPILER_AR=/opt/conda/envs/r-with-gdal/bin/x86_64-conda-linux-gnu-gcc-ar -DCMAKE_C_COMPILER_AR=/opt/conda/envs/r-with-gdal/bin/x86_64-conda-linux-gnu-gcc-ar -DCMAKE_RANLIB=/opt/conda/envs/r-with-gdal/bin/x86_64-conda-linux-gnu-ranlib -DCMAKE_CXX_COMPILER_RANLIB=/opt/conda/envs/r-with-gdal/bin/x86_64-conda-linux-gnu-gcc-ranlib -DCMAKE_C_COMPILER_RANLIB=/opt/conda/envs/r-with-gdal/bin/x86_64-conda-linux-gnu-gcc-ranlib -DCMAKE_LINKER=/opt/conda/envs/r-with-gdal/bin/x86_64-conda-linux-gnu-ld -DCMAKE_STRIP=/opt/conda/envs/r-with-gdal/bin/x86_64-conda-linux-gnu-strip\\'\\\\\\'\\'\\'\\n++++ export \\'CMAKE_ARGS=-DCMAKE_AR=/opt/conda/envs/r-with-gdal/bin/x86_64-conda-linux-gnu-ar -DCMAKE_CXX_COMPILER_AR=/opt/conda/envs/r-with-gdal/bin/x86_64-conda-linux-gnu-gcc-ar -DCMAKE_C_COMPILER_AR=/opt/conda/envs/r-with-gdal/bin/x86_64-conda-linux-gnu-gcc-ar -DCMAKE_RANLIB=/opt/conda/envs/r-with-gdal/bin/x86_64-conda-linux-gnu-ranlib -DCMAKE_CXX_COMPILER_RANLIB=/opt/conda/envs/r-with-gdal/bin/x86_64-conda-linux-gnu-gcc-ranlib -DCMAKE_C_COMPILER_RANLIB=/opt/conda/envs/r-with-gdal/bin/x86_64-conda-linux-gnu-gcc-ranlib -DCMAKE_LINKER=/opt/conda/envs/r-with-gdal/bin/x86_64-conda-linux-gnu-ld -DCMAKE_STRIP=/opt/conda/envs/r-with-gdal/bin/x86_64-conda-linux-gnu-strip\\'\\n++++ CMAKE_ARGS=\\'-DCMAKE_AR=/opt/conda/envs/r-with-gdal/bin/x86_64-conda-linux-gnu-ar -DCMAKE_CXX_COMPILER_AR=/opt/conda/envs/r-with-gdal/bin/x86_64-conda-linux-gnu-gcc-ar -DCMAKE_C_COMPILER_AR=/opt/conda/envs/r-with-gdal/bin/x86_64-conda-linux-gnu-gcc-ar -DCMAKE_RANLIB=/opt/conda/envs/r-with-gdal/bin/x86_64-conda-linux-gnu-ranlib -DCMAKE_CXX_COMPILER_RANLIB=/opt/conda/envs/r-with-gdal/bin/x86_64-conda-linux-gnu-gcc-ranlib -DCMAKE_C_COMPILER_RANLIB=/opt/conda/envs/r-with-gdal/bin/x86_64-conda-linux-gnu-gcc-ranlib -DCMAKE_LINKER=/opt/conda/envs/r-with-gdal/bin/x86_64-conda-linux-gnu-ld -DCMAKE_STRIP=/opt/conda/envs/r-with-gdal/bin/x86_64-conda-linux-gnu-strip\\'\\n+++ return 0\\n+++ unset _CMAKE_ARGS\\n+++ \\'[\\' \\'\\' = 1 \\']\\'\\n+++ \\'[\\' 0 -ne 0 \\']\\'\\n+++ \\'[\\' 0 = 1 \\']\\'\\n+++ \\'[\\' -n \\'\\' \\']\\'\\n++ . /opt/conda/envs/r-with-gdal/etc/conda/activate.d/activate-gfortran_linux-64.sh\\n+++ \\'[\\' 0 = 1 \\']\\'\\n+++ FFLAGS_USED=\\'-fopenmp -march=nocona -mtune=haswell -ftree-vectorize -fPIC -fstack-protector-strong -fno-plt -O2 -ffunction-sections -pipe -isystem /opt/conda/envs/r-with-gdal/include\\'\\n+++ \\'[\\' 0 = 1 \\']\\'\\n+++ _tc_activation activate x86_64-conda-linux-gnu- gfortran f95 FC_FOR_BUILD,/opt/conda/envs/r-with-gdal/bin/x86_64-conda-linux-gnu-gfortran \\'FFLAGS,-fopenmp -march=nocona -mtune=haswell -ftree-vectorize -fPIC -fstack-protector-strong -fno-plt -O2 -ffunction-sections -pipe -isystem /opt/conda/envs/r-with-gdal/include \\' \\'FORTRANFLAGS,-fopenmp -march=nocona -mtune=haswell -ftree-vectorize -fPIC -fstack-protector-strong -fno-plt -O2 -ffunction-sections -pipe -isystem /opt/conda/envs/r-with-gdal/include \\' \\'DEBUG_FFLAGS,-fopenmp -march=nocona -mtune=haswell -ftree-vectorize -fPIC -fstack-protector-strong -fno-plt -O2 -ffunction-sections -pipe -isystem /opt/conda/envs/r-with-gdal/include -fopenmp -march=nocona -mtune=haswell -ftree-vectorize -fPIC -fstack-protector-all -fno-plt -Og -g -Wall -Wextra -fcheck=all -fbacktrace -fimplicit-none -fvar-tracking-assignments -ffunction-sections -pipe \\' \\'DEBUG_FORTRANFLAGS,-fopenmp -march=nocona -mtune=haswell -ftree-vectorize -fPIC -fstack-protector-strong -fno-plt -O2 -ffunction-sections -pipe -isystem /opt/conda/envs/r-with-gdal/include -fopenmp -march=nocona -mtune=haswell -ftree-vectorize -fPIC -fstack-protector-all -fno-plt -Og -g -Wall -Wextra -fcheck=all -fbacktrace -fimplicit-none -fvar-tracking-assignments -ffunction-sections -pipe \\'\\n+++ local act_nature=activate\\n+++ shift\\n+++ local tc_prefix=x86_64-conda-linux-gnu-\\n+++ shift\\n+++ local thing\\n+++ local newval\\n+++ local from\\n+++ local to\\n+++ local pass\\n+++ \\'[\\' activate = activate \\']\\'\\n+++ from=\\n+++ to=CONDA_BACKUP_\\n+++ for pass in check apply\\n+++ for thing in \"$@\"\\n+++ case \"${thing}\" in\\n+++ newval=/opt/conda/envs/r-with-gdal/bin/x86_64-conda-linux-gnu-gfortran\\n+++ \\'[\\' \\'!\\' -x /opt/conda/envs/r-with-gdal/bin/x86_64-conda-linux-gnu-gfortran \\']\\'\\n+++ \\'[\\' check = apply \\']\\'\\n+++ for thing in \"$@\"\\n+++ case \"${thing}\" in\\n+++ newval=/opt/conda/envs/r-with-gdal/bin/x86_64-conda-linux-gnu-f95\\n+++ \\'[\\' \\'!\\' -x /opt/conda/envs/r-with-gdal/bin/x86_64-conda-linux-gnu-f95 \\']\\'\\n+++ \\'[\\' check = apply \\']\\'\\n+++ for thing in \"$@\"\\n+++ case \"${thing}\" in\\n++++ echo FC_FOR_BUILD,/opt/conda/envs/r-with-gdal/bin/x86_64-conda-linux-gnu-gfortran\\n++++ sed \\'s,^[^\\\\,]*\\\\,\\\\(.*\\\\),\\\\1,\\'\\n+++ newval=/opt/conda/envs/r-with-gdal/bin/x86_64-conda-linux-gnu-gfortran\\n++++ echo FC_FOR_BUILD,/opt/conda/envs/r-with-gdal/bin/x86_64-conda-linux-gnu-gfortran\\n++++ sed \\'s,^\\\\([^\\\\,]*\\\\)\\\\,.*,\\\\1,\\'\\n+++ thing=FC_FOR_BUILD\\n+++ \\'[\\' check = apply \\']\\'\\n+++ for thing in \"$@\"\\n+++ case \"${thing}\" in\\n++++ echo \\'FFLAGS,-fopenmp -march=nocona -mtune=haswell -ftree-vectorize -fPIC -fstack-protector-strong -fno-plt -O2 -ffunction-sections -pipe -isystem /opt/conda/envs/r-with-gdal/include \\'\\n++++ sed \\'s,^[^\\\\,]*\\\\,\\\\(.*\\\\),\\\\1,\\'\\n+++ newval=\\'-fopenmp -march=nocona -mtune=haswell -ftree-vectorize -fPIC -fstack-protector-strong -fno-plt -O2 -ffunction-sections -pipe -isystem /opt/conda/envs/r-with-gdal/include \\'\\n++++ echo \\'FFLAGS,-fopenmp -march=nocona -mtune=haswell -ftree-vectorize -fPIC -fstack-protector-strong -fno-plt -O2 -ffunction-sections -pipe -isystem /opt/conda/envs/r-with-gdal/include \\'\\n++++ sed \\'s,^\\\\([^\\\\,]*\\\\)\\\\,.*,\\\\1,\\'\\n+++ thing=FFLAGS\\n+++ \\'[\\' check = apply \\']\\'\\n+++ for thing in \"$@\"\\n+++ case \"${thing}\" in\\n++++ echo \\'FORTRANFLAGS,-fopenmp -march=nocona -mtune=haswell -ftree-vectorize -fPIC -fstack-protector-strong -fno-plt -O2 -ffunction-sections -pipe -isystem /opt/conda/envs/r-with-gdal/include \\'\\n++++ sed \\'s,^[^\\\\,]*\\\\,\\\\(.*\\\\),\\\\1,\\'\\n+++ newval=\\'-fopenmp -march=nocona -mtune=haswell -ftree-vectorize -fPIC -fstack-protector-strong -fno-plt -O2 -ffunction-sections -pipe -isystem /opt/conda/envs/r-with-gdal/include \\'\\n++++ echo \\'FORTRANFLAGS,-fopenmp -march=nocona -mtune=haswell -ftree-vectorize -fPIC -fstack-protector-strong -fno-plt -O2 -ffunction-sections -pipe -isystem /opt/conda/envs/r-with-gdal/include \\'\\n++++ sed \\'s,^\\\\([^\\\\,]*\\\\)\\\\,.*,\\\\1,\\'\\n+++ thing=FORTRANFLAGS\\n+++ \\'[\\' check = apply \\']\\'\\n+++ for thing in \"$@\"\\n+++ case \"${thing}\" in\\n++++ echo \\'DEBUG_FFLAGS,-fopenmp -march=nocona -mtune=haswell -ftree-vectorize -fPIC -fstack-protector-strong -fno-plt -O2 -ffunction-sections -pipe -isystem /opt/conda/envs/r-with-gdal/include -fopenmp -march=nocona -mtune=haswell -ftree-vectorize -fPIC -fstack-protector-all -fno-plt -Og -g -Wall -Wextra -fcheck=all -fbacktrace -fimplicit-none -fvar-tracking-assignments -ffunction-sections -pipe \\'\\n++++ sed \\'s,^[^\\\\,]*\\\\,\\\\(.*\\\\),\\\\1,\\'\\n+++ newval=\\'-fopenmp -march=nocona -mtune=haswell -ftree-vectorize -fPIC -fstack-protector-strong -fno-plt -O2 -ffunction-sections -pipe -isystem /opt/conda/envs/r-with-gdal/include -fopenmp -march=nocona -mtune=haswell -ftree-vectorize -fPIC -fstack-protector-all -fno-plt -Og -g -Wall -Wextra -fcheck=all -fbacktrace -fimplicit-none -fvar-tracking-assignments -ffunction-sections -pipe \\'\\n++++ echo \\'DEBUG_FFLAGS,-fopenmp -march=nocona -mtune=haswell -ftree-vectorize -fPIC -fstack-protector-strong -fno-plt -O2 -ffunction-sections -pipe -isystem /opt/conda/envs/r-with-gdal/include -fopenmp -march=nocona -mtune=haswell -ftree-vectorize -fPIC -fstack-protector-all -fno-plt -Og -g -Wall -Wextra -fcheck=all -fbacktrace -fimplicit-none -fvar-tracking-assignments -ffunction-sections -pipe \\'\\n++++ sed \\'s,^\\\\([^\\\\,]*\\\\)\\\\,.*,\\\\1,\\'\\n+++ thing=DEBUG_FFLAGS\\n+++ \\'[\\' check = apply \\']\\'\\n+++ for thing in \"$@\"\\n+++ case \"${thing}\" in\\n++++ echo \\'DEBUG_FORTRANFLAGS,-fopenmp -march=nocona -mtune=haswell -ftree-vectorize -fPIC -fstack-protector-strong -fno-plt -O2 -ffunction-sections -pipe -isystem /opt/conda/envs/r-with-gdal/include -fopenmp -march=nocona -mtune=haswell -ftree-vectorize -fPIC -fstack-protector-all -fno-plt -Og -g -Wall -Wextra -fcheck=all -fbacktrace -fimplicit-none -fvar-tracking-assignments -ffunction-sections -pipe \\'\\n++++ sed \\'s,^[^\\\\,]*\\\\,\\\\(.*\\\\),\\\\1,\\'\\n+++ newval=\\'-fopenmp -march=nocona -mtune=haswell -ftree-vectorize -fPIC -fstack-protector-strong -fno-plt -O2 -ffunction-sections -pipe -isystem /opt/conda/envs/r-with-gdal/include -fopenmp -march=nocona -mtune=haswell -ftree-vectorize -fPIC -fstack-protector-all -fno-plt -Og -g -Wall -Wextra -fcheck=all -fbacktrace -fimplicit-none -fvar-tracking-assignments -ffunction-sections -pipe \\'\\n++++ echo \\'DEBUG_FORTRANFLAGS,-fopenmp -march=nocona -mtune=haswell -ftree-vectorize -fPIC -fstack-protector-strong -fno-plt -O2 -ffunction-sections -pipe -isystem /opt/conda/envs/r-with-gdal/include -fopenmp -march=nocona -mtune=haswell -ftree-vectorize -fPIC -fstack-protector-all -fno-plt -Og -g -Wall -Wextra -fcheck=all -fbacktrace -fimplicit-none -fvar-tracking-assignments -ffunction-sections -pipe \\'\\n++++ sed \\'s,^\\\\([^\\\\,]*\\\\)\\\\,.*,\\\\1,\\'\\n+++ thing=DEBUG_FORTRANFLAGS\\n+++ \\'[\\' check = apply \\']\\'\\n+++ for pass in check apply\\n+++ for thing in \"$@\"\\n+++ case \"${thing}\" in\\n+++ newval=/opt/conda/envs/r-with-gdal/bin/x86_64-conda-linux-gnu-gfortran\\n+++ \\'[\\' \\'!\\' -x /opt/conda/envs/r-with-gdal/bin/x86_64-conda-linux-gnu-gfortran \\']\\'\\n+++ \\'[\\' apply = apply \\']\\'\\n++++ echo gfortran\\n++++ tr a-z+- A-ZX_\\n+++ thing=GFORTRAN\\n+++ eval \\'oldval=$GFORTRAN\\'\\n++++ oldval=\\n+++ \\'[\\' -n \\'\\' \\']\\'\\n+++ eval unset \\'${to}${thing}\\'\\n++++ unset CONDA_BACKUP_GFORTRAN\\n+++ \\'[\\' -n /opt/conda/envs/r-with-gdal/bin/x86_64-conda-linux-gnu-gfortran \\']\\'\\n+++ eval export \\'\\'\\\\\\'\\'GFORTRAN=/opt/conda/envs/r-with-gdal/bin/x86_64-conda-linux-gnu-gfortran\\'\\\\\\'\\'\\'\\n++++ export GFORTRAN=/opt/conda/envs/r-with-gdal/bin/x86_64-conda-linux-gnu-gfortran\\n++++ GFORTRAN=/opt/conda/envs/r-with-gdal/bin/x86_64-conda-linux-gnu-gfortran\\n+++ for thing in \"$@\"\\n+++ case \"${thing}\" in\\n+++ newval=/opt/conda/envs/r-with-gdal/bin/x86_64-conda-linux-gnu-f95\\n+++ \\'[\\' \\'!\\' -x /opt/conda/envs/r-with-gdal/bin/x86_64-conda-linux-gnu-f95 \\']\\'\\n+++ \\'[\\' apply = apply \\']\\'\\n++++ echo f95\\n++++ tr a-z+- A-ZX_\\n+++ thing=F95\\n+++ eval \\'oldval=$F95\\'\\n++++ oldval=\\n+++ \\'[\\' -n \\'\\' \\']\\'\\n+++ eval unset \\'${to}${thing}\\'\\n++++ unset CONDA_BACKUP_F95\\n+++ \\'[\\' -n /opt/conda/envs/r-with-gdal/bin/x86_64-conda-linux-gnu-f95 \\']\\'\\n+++ eval export \\'\\'\\\\\\'\\'F95=/opt/conda/envs/r-with-gdal/bin/x86_64-conda-linux-gnu-f95\\'\\\\\\'\\'\\'\\n++++ export F95=/opt/conda/envs/r-with-gdal/bin/x86_64-conda-linux-gnu-f95\\n++++ F95=/opt/conda/envs/r-with-gdal/bin/x86_64-conda-linux-gnu-f95\\n+++ for thing in \"$@\"\\n+++ case \"${thing}\" in\\n++++ echo FC_FOR_BUILD,/opt/conda/envs/r-with-gdal/bin/x86_64-conda-linux-gnu-gfortran\\n++++ sed \\'s,^[^\\\\,]*\\\\,\\\\(.*\\\\),\\\\1,\\'\\n+++ newval=/opt/conda/envs/r-with-gdal/bin/x86_64-conda-linux-gnu-gfortran\\n++++ echo FC_FOR_BUILD,/opt/conda/envs/r-with-gdal/bin/x86_64-conda-linux-gnu-gfortran\\n++++ sed \\'s,^\\\\([^\\\\,]*\\\\)\\\\,.*,\\\\1,\\'\\n+++ thing=FC_FOR_BUILD\\n+++ \\'[\\' apply = apply \\']\\'\\n++++ echo FC_FOR_BUILD\\n++++ tr a-z+- A-ZX_\\n+++ thing=FC_FOR_BUILD\\n+++ eval \\'oldval=$FC_FOR_BUILD\\'\\n++++ oldval=\\n+++ \\'[\\' -n \\'\\' \\']\\'\\n+++ eval unset \\'${to}${thing}\\'\\n++++ unset CONDA_BACKUP_FC_FOR_BUILD\\n+++ \\'[\\' -n /opt/conda/envs/r-with-gdal/bin/x86_64-conda-linux-gnu-gfortran \\']\\'\\n+++ eval export \\'\\'\\\\\\'\\'FC_FOR_BUILD=/opt/conda/envs/r-with-gdal/bin/x86_64-conda-linux-gnu-gfortran\\'\\\\\\'\\'\\'\\n++++ export FC_FOR_BUILD=/opt/conda/envs/r-with-gdal/bin/x86_64-conda-linux-gnu-gfortran\\n++++ FC_FOR_BUILD=/opt/conda/envs/r-with-gdal/bin/x86_64-conda-linux-gnu-gfortran\\n+++ for thing in \"$@\"\\n+++ case \"${thing}\" in\\n++++ echo \\'FFLAGS,-fopenmp -march=nocona -mtune=haswell -ftree-vectorize -fPIC -fstack-protector-strong -fno-plt -O2 -ffunction-sections -pipe -isystem /opt/conda/envs/r-with-gdal/include \\'\\n++++ sed \\'s,^[^\\\\,]*\\\\,\\\\(.*\\\\),\\\\1,\\'\\n+++ newval=\\'-fopenmp -march=nocona -mtune=haswell -ftree-vectorize -fPIC -fstack-protector-strong -fno-plt -O2 -ffunction-sections -pipe -isystem /opt/conda/envs/r-with-gdal/include \\'\\n++++ echo \\'FFLAGS,-fopenmp -march=nocona -mtune=haswell -ftree-vectorize -fPIC -fstack-protector-strong -fno-plt -O2 -ffunction-sections -pipe -isystem /opt/conda/envs/r-with-gdal/include \\'\\n++++ sed \\'s,^\\\\([^\\\\,]*\\\\)\\\\,.*,\\\\1,\\'\\n+++ thing=FFLAGS\\n+++ \\'[\\' apply = apply \\']\\'\\n++++ echo FFLAGS\\n++++ tr a-z+- A-ZX_\\n+++ thing=FFLAGS\\n+++ eval \\'oldval=$FFLAGS\\'\\n++++ oldval=\\n+++ \\'[\\' -n \\'\\' \\']\\'\\n+++ eval unset \\'${to}${thing}\\'\\n++++ unset CONDA_BACKUP_FFLAGS\\n+++ \\'[\\' -n \\'-fopenmp -march=nocona -mtune=haswell -ftree-vectorize -fPIC -fstack-protector-strong -fno-plt -O2 -ffunction-sections -pipe -isystem /opt/conda/envs/r-with-gdal/include \\' \\']\\'\\n+++ eval export \\'\\'\\\\\\'\\'FFLAGS=-fopenmp -march=nocona -mtune=haswell -ftree-vectorize -fPIC -fstack-protector-strong -fno-plt -O2 -ffunction-sections -pipe -isystem /opt/conda/envs/r-with-gdal/include \\'\\\\\\'\\'\\'\\n++++ export \\'FFLAGS=-fopenmp -march=nocona -mtune=haswell -ftree-vectorize -fPIC -fstack-protector-strong -fno-plt -O2 -ffunction-sections -pipe -isystem /opt/conda/envs/r-with-gdal/include \\'\\n++++ FFLAGS=\\'-fopenmp -march=nocona -mtune=haswell -ftree-vectorize -fPIC -fstack-protector-strong -fno-plt -O2 -ffunction-sections -pipe -isystem /opt/conda/envs/r-with-gdal/include \\'\\n+++ for thing in \"$@\"\\n+++ case \"${thing}\" in\\n++++ echo \\'FORTRANFLAGS,-fopenmp -march=nocona -mtune=haswell -ftree-vectorize -fPIC -fstack-protector-strong -fno-plt -O2 -ffunction-sections -pipe -isystem /opt/conda/envs/r-with-gdal/include \\'\\n++++ sed \\'s,^[^\\\\,]*\\\\,\\\\(.*\\\\),\\\\1,\\'\\n+++ newval=\\'-fopenmp -march=nocona -mtune=haswell -ftree-vectorize -fPIC -fstack-protector-strong -fno-plt -O2 -ffunction-sections -pipe -isystem /opt/conda/envs/r-with-gdal/include \\'\\n++++ echo \\'FORTRANFLAGS,-fopenmp -march=nocona -mtune=haswell -ftree-vectorize -fPIC -fstack-protector-strong -fno-plt -O2 -ffunction-sections -pipe -isystem /opt/conda/envs/r-with-gdal/include \\'\\n++++ sed \\'s,^\\\\([^\\\\,]*\\\\)\\\\,.*,\\\\1,\\'\\n+++ thing=FORTRANFLAGS\\n+++ \\'[\\' apply = apply \\']\\'\\n++++ echo FORTRANFLAGS\\n++++ tr a-z+- A-ZX_\\n+++ thing=FORTRANFLAGS\\n+++ eval \\'oldval=$FORTRANFLAGS\\'\\n++++ oldval=\\n+++ \\'[\\' -n \\'\\' \\']\\'\\n+++ eval unset \\'${to}${thing}\\'\\n++++ unset CONDA_BACKUP_FORTRANFLAGS\\n+++ \\'[\\' -n \\'-fopenmp -march=nocona -mtune=haswell -ftree-vectorize -fPIC -fstack-protector-strong -fno-plt -O2 -ffunction-sections -pipe -isystem /opt/conda/envs/r-with-gdal/include \\' \\']\\'\\n+++ eval export \\'\\'\\\\\\'\\'FORTRANFLAGS=-fopenmp -march=nocona -mtune=haswell -ftree-vectorize -fPIC -fstack-protector-strong -fno-plt -O2 -ffunction-sections -pipe -isystem /opt/conda/envs/r-with-gdal/include \\'\\\\\\'\\'\\'\\n++++ export \\'FORTRANFLAGS=-fopenmp -march=nocona -mtune=haswell -ftree-vectorize -fPIC -fstack-protector-strong -fno-plt -O2 -ffunction-sections -pipe -isystem /opt/conda/envs/r-with-gdal/include \\'\\n++++ FORTRANFLAGS=\\'-fopenmp -march=nocona -mtune=haswell -ftree-vectorize -fPIC -fstack-protector-strong -fno-plt -O2 -ffunction-sections -pipe -isystem /opt/conda/envs/r-with-gdal/include \\'\\n+++ for thing in \"$@\"\\n+++ case \"${thing}\" in\\n++++ echo \\'DEBUG_FFLAGS,-fopenmp -march=nocona -mtune=haswell -ftree-vectorize -fPIC -fstack-protector-strong -fno-plt -O2 -ffunction-sections -pipe -isystem /opt/conda/envs/r-with-gdal/include -fopenmp -march=nocona -mtune=haswell -ftree-vectorize -fPIC -fstack-protector-all -fno-plt -Og -g -Wall -Wextra -fcheck=all -fbacktrace -fimplicit-none -fvar-tracking-assignments -ffunction-sections -pipe \\'\\n++++ sed \\'s,^[^\\\\,]*\\\\,\\\\(.*\\\\),\\\\1,\\'\\n+++ newval=\\'-fopenmp -march=nocona -mtune=haswell -ftree-vectorize -fPIC -fstack-protector-strong -fno-plt -O2 -ffunction-sections -pipe -isystem /opt/conda/envs/r-with-gdal/include -fopenmp -march=nocona -mtune=haswell -ftree-vectorize -fPIC -fstack-protector-all -fno-plt -Og -g -Wall -Wextra -fcheck=all -fbacktrace -fimplicit-none -fvar-tracking-assignments -ffunction-sections -pipe \\'\\n++++ echo \\'DEBUG_FFLAGS,-fopenmp -march=nocona -mtune=haswell -ftree-vectorize -fPIC -fstack-protector-strong -fno-plt -O2 -ffunction-sections -pipe -isystem /opt/conda/envs/r-with-gdal/include -fopenmp -march=nocona -mtune=haswell -ftree-vectorize -fPIC -fstack-protector-all -fno-plt -Og -g -Wall -Wextra -fcheck=all -fbacktrace -fimplicit-none -fvar-tracking-assignments -ffunction-sections -pipe \\'\\n++++ sed \\'s,^\\\\([^\\\\,]*\\\\)\\\\,.*,\\\\1,\\'\\n+++ thing=DEBUG_FFLAGS\\n+++ \\'[\\' apply = apply \\']\\'\\n++++ echo DEBUG_FFLAGS\\n++++ tr a-z+- A-ZX_\\n+++ thing=DEBUG_FFLAGS\\n+++ eval \\'oldval=$DEBUG_FFLAGS\\'\\n++++ oldval=\\n+++ \\'[\\' -n \\'\\' \\']\\'\\n+++ eval unset \\'${to}${thing}\\'\\n++++ unset CONDA_BACKUP_DEBUG_FFLAGS\\n+++ \\'[\\' -n \\'-fopenmp -march=nocona -mtune=haswell -ftree-vectorize -fPIC -fstack-protector-strong -fno-plt -O2 -ffunction-sections -pipe -isystem /opt/conda/envs/r-with-gdal/include -fopenmp -march=nocona -mtune=haswell -ftree-vectorize -fPIC -fstack-protector-all -fno-plt -Og -g -Wall -Wextra -fcheck=all -fbacktrace -fimplicit-none -fvar-tracking-assignments -ffunction-sections -pipe \\' \\']\\'\\n+++ eval export \\'\\'\\\\\\'\\'DEBUG_FFLAGS=-fopenmp -march=nocona -mtune=haswell -ftree-vectorize -fPIC -fstack-protector-strong -fno-plt -O2 -ffunction-sections -pipe -isystem /opt/conda/envs/r-with-gdal/include -fopenmp -march=nocona -mtune=haswell -ftree-vectorize -fPIC -fstack-protector-all -fno-plt -Og -g -Wall -Wextra -fcheck=all -fbacktrace -fimplicit-none -fvar-tracking-assignments -ffunction-sections -pipe \\'\\\\\\'\\'\\'\\n++++ export \\'DEBUG_FFLAGS=-fopenmp -march=nocona -mtune=haswell -ftree-vectorize -fPIC -fstack-protector-strong -fno-plt -O2 -ffunction-sections -pipe -isystem /opt/conda/envs/r-with-gdal/include -fopenmp -march=nocona -mtune=haswell -ftree-vectorize -fPIC -fstack-protector-all -fno-plt -Og -g -Wall -Wextra -fcheck=all -fbacktrace -fimplicit-none -fvar-tracking-assignments -ffunction-sections -pipe \\'\\n++++ DEBUG_FFLAGS=\\'-fopenmp -march=nocona -mtune=haswell -ftree-vectorize -fPIC -fstack-protector-strong -fno-plt -O2 -ffunction-sections -pipe -isystem /opt/conda/envs/r-with-gdal/include -fopenmp -march=nocona -mtune=haswell -ftree-vectorize -fPIC -fstack-protector-all -fno-plt -Og -g -Wall -Wextra -fcheck=all -fbacktrace -fimplicit-none -fvar-tracking-assignments -ffunction-sections -pipe \\'\\n+++ for thing in \"$@\"\\n+++ case \"${thing}\" in\\n++++ echo \\'DEBUG_FORTRANFLAGS,-fopenmp -march=nocona -mtune=haswell -ftree-vectorize -fPIC -fstack-protector-strong -fno-plt -O2 -ffunction-sections -pipe -isystem /opt/conda/envs/r-with-gdal/include -fopenmp -march=nocona -mtune=haswell -ftree-vectorize -fPIC -fstack-protector-all -fno-plt -Og -g -Wall -Wextra -fcheck=all -fbacktrace -fimplicit-none -fvar-tracking-assignments -ffunction-sections -pipe \\'\\n++++ sed \\'s,^[^\\\\,]*\\\\,\\\\(.*\\\\),\\\\1,\\'\\n+++ newval=\\'-fopenmp -march=nocona -mtune=haswell -ftree-vectorize -fPIC -fstack-protector-strong -fno-plt -O2 -ffunction-sections -pipe -isystem /opt/conda/envs/r-with-gdal/include -fopenmp -march=nocona -mtune=haswell -ftree-vectorize -fPIC -fstack-protector-all -fno-plt -Og -g -Wall -Wextra -fcheck=all -fbacktrace -fimplicit-none -fvar-tracking-assignments -ffunction-sections -pipe \\'\\n++++ echo \\'DEBUG_FORTRANFLAGS,-fopenmp -march=nocona -mtune=haswell -ftree-vectorize -fPIC -fstack-protector-strong -fno-plt -O2 -ffunction-sections -pipe -isystem /opt/conda/envs/r-with-gdal/include -fopenmp -march=nocona -mtune=haswell -ftree-vectorize -fPIC -fstack-protector-all -fno-plt -Og -g -Wall -Wextra -fcheck=all -fbacktrace -fimplicit-none -fvar-tracking-assignments -ffunction-sections -pipe \\'\\n++++ sed \\'s,^\\\\([^\\\\,]*\\\\)\\\\,.*,\\\\1,\\'\\n+++ thing=DEBUG_FORTRANFLAGS\\n+++ \\'[\\' apply = apply \\']\\'\\n++++ echo DEBUG_FORTRANFLAGS\\n++++ tr a-z+- A-ZX_\\n+++ thing=DEBUG_FORTRANFLAGS\\n+++ eval \\'oldval=$DEBUG_FORTRANFLAGS\\'\\n++++ oldval=\\n+++ \\'[\\' -n \\'\\' \\']\\'\\n+++ eval unset \\'${to}${thing}\\'\\n++++ unset CONDA_BACKUP_DEBUG_FORTRANFLAGS\\n+++ \\'[\\' -n \\'-fopenmp -march=nocona -mtune=haswell -ftree-vectorize -fPIC -fstack-protector-strong -fno-plt -O2 -ffunction-sections -pipe -isystem /opt/conda/envs/r-with-gdal/include -fopenmp -march=nocona -mtune=haswell -ftree-vectorize -fPIC -fstack-protector-all -fno-plt -Og -g -Wall -Wextra -fcheck=all -fbacktrace -fimplicit-none -fvar-tracking-assignments -ffunction-sections -pipe \\' \\']\\'\\n+++ eval export \\'\\'\\\\\\'\\'DEBUG_FORTRANFLAGS=-fopenmp -march=nocona -mtune=haswell -ftree-vectorize -fPIC -fstack-protector-strong -fno-plt -O2 -ffunction-sections -pipe -isystem /opt/conda/envs/r-with-gdal/include -fopenmp -march=nocona -mtune=haswell -ftree-vectorize -fPIC -fstack-protector-all -fno-plt -Og -g -Wall -Wextra -fcheck=all -fbacktrace -fimplicit-none -fvar-tracking-assignments -ffunction-sections -pipe \\'\\\\\\'\\'\\'\\n++++ export \\'DEBUG_FORTRANFLAGS=-fopenmp -march=nocona -mtune=haswell -ftree-vectorize -fPIC -fstack-protector-strong -fno-plt -O2 -ffunction-sections -pipe -isystem /opt/conda/envs/r-with-gdal/include -fopenmp -march=nocona -mtune=haswell -ftree-vectorize -fPIC -fstack-protector-all -fno-plt -Og -g -Wall -Wextra -fcheck=all -fbacktrace -fimplicit-none -fvar-tracking-assignments -ffunction-sections -pipe \\'\\n++++ DEBUG_FORTRANFLAGS=\\'-fopenmp -march=nocona -mtune=haswell -ftree-vectorize -fPIC -fstack-protector-strong -fno-plt -O2 -ffunction-sections -pipe -isystem /opt/conda/envs/r-with-gdal/include -fopenmp -march=nocona -mtune=haswell -ftree-vectorize -fPIC -fstack-protector-all -fno-plt -Og -g -Wall -Wextra -fcheck=all -fbacktrace -fimplicit-none -fvar-tracking-assignments -ffunction-sections -pipe \\'\\n+++ return 0\\n+++ _tc_activation activate x86_64-conda-linux-gnu- FC,/opt/conda/envs/r-with-gdal/bin/x86_64-conda-linux-gnu-gfortran F77,/opt/conda/envs/r-with-gdal/bin/x86_64-conda-linux-gnu-gfortran F90,/opt/conda/envs/r-with-gdal/bin/x86_64-conda-linux-gnu-gfortran\\n+++ local act_nature=activate\\n+++ shift\\n+++ local tc_prefix=x86_64-conda-linux-gnu-\\n+++ shift\\n+++ local thing\\n+++ local newval\\n+++ local from\\n+++ local to\\n+++ local pass\\n+++ \\'[\\' activate = activate \\']\\'\\n+++ from=\\n+++ to=CONDA_BACKUP_\\n+++ for pass in check apply\\n+++ for thing in \"$@\"\\n+++ case \"${thing}\" in\\n++++ echo FC,/opt/conda/envs/r-with-gdal/bin/x86_64-conda-linux-gnu-gfortran\\n++++ sed \\'s,^[^\\\\,]*\\\\,\\\\(.*\\\\),\\\\1,\\'\\n+++ newval=/opt/conda/envs/r-with-gdal/bin/x86_64-conda-linux-gnu-gfortran\\n++++ echo FC,/opt/conda/envs/r-with-gdal/bin/x86_64-conda-linux-gnu-gfortran\\n++++ sed \\'s,^\\\\([^\\\\,]*\\\\)\\\\,.*,\\\\1,\\'\\n+++ thing=FC\\n+++ \\'[\\' check = apply \\']\\'\\n+++ for thing in \"$@\"\\n+++ case \"${thing}\" in\\n++++ echo F77,/opt/conda/envs/r-with-gdal/bin/x86_64-conda-linux-gnu-gfortran\\n++++ sed \\'s,^[^\\\\,]*\\\\,\\\\(.*\\\\),\\\\1,\\'\\n+++ newval=/opt/conda/envs/r-with-gdal/bin/x86_64-conda-linux-gnu-gfortran\\n++++ echo F77,/opt/conda/envs/r-with-gdal/bin/x86_64-conda-linux-gnu-gfortran\\n++++ sed \\'s,^\\\\([^\\\\,]*\\\\)\\\\,.*,\\\\1,\\'\\n+++ thing=F77\\n+++ \\'[\\' check = apply \\']\\'\\n+++ for thing in \"$@\"\\n+++ case \"${thing}\" in\\n++++ echo F90,/opt/conda/envs/r-with-gdal/bin/x86_64-conda-linux-gnu-gfortran\\n++++ sed \\'s,^[^\\\\,]*\\\\,\\\\(.*\\\\),\\\\1,\\'\\n+++ newval=/opt/conda/envs/r-with-gdal/bin/x86_64-conda-linux-gnu-gfortran\\n++++ echo F90,/opt/conda/envs/r-with-gdal/bin/x86_64-conda-linux-gnu-gfortran\\n++++ sed \\'s,^\\\\([^\\\\,]*\\\\)\\\\,.*,\\\\1,\\'\\n+++ thing=F90\\n+++ \\'[\\' check = apply \\']\\'\\n+++ for pass in check apply\\n+++ for thing in \"$@\"\\n+++ case \"${thing}\" in\\n++++ echo FC,/opt/conda/envs/r-with-gdal/bin/x86_64-conda-linux-gnu-gfortran\\n++++ sed \\'s,^[^\\\\,]*\\\\,\\\\(.*\\\\),\\\\1,\\'\\n+++ newval=/opt/conda/envs/r-with-gdal/bin/x86_64-conda-linux-gnu-gfortran\\n++++ echo FC,/opt/conda/envs/r-with-gdal/bin/x86_64-conda-linux-gnu-gfortran\\n++++ sed \\'s,^\\\\([^\\\\,]*\\\\)\\\\,.*,\\\\1,\\'\\n+++ thing=FC\\n+++ \\'[\\' apply = apply \\']\\'\\n++++ echo FC\\n++++ tr a-z+- A-ZX_\\n+++ thing=FC\\n+++ eval \\'oldval=$FC\\'\\n++++ oldval=\\n+++ \\'[\\' -n \\'\\' \\']\\'\\n+++ eval unset \\'${to}${thing}\\'\\n++++ unset CONDA_BACKUP_FC\\n+++ \\'[\\' -n /opt/conda/envs/r-with-gdal/bin/x86_64-conda-linux-gnu-gfortran \\']\\'\\n+++ eval export \\'\\'\\\\\\'\\'FC=/opt/conda/envs/r-with-gdal/bin/x86_64-conda-linux-gnu-gfortran\\'\\\\\\'\\'\\'\\n++++ export FC=/opt/conda/envs/r-with-gdal/bin/x86_64-conda-linux-gnu-gfortran\\n++++ FC=/opt/conda/envs/r-with-gdal/bin/x86_64-conda-linux-gnu-gfortran\\n+++ for thing in \"$@\"\\n+++ case \"${thing}\" in\\n++++ echo F77,/opt/conda/envs/r-with-gdal/bin/x86_64-conda-linux-gnu-gfortran\\n++++ sed \\'s,^[^\\\\,]*\\\\,\\\\(.*\\\\),\\\\1,\\'\\n+++ newval=/opt/conda/envs/r-with-gdal/bin/x86_64-conda-linux-gnu-gfortran\\n++++ echo F77,/opt/conda/envs/r-with-gdal/bin/x86_64-conda-linux-gnu-gfortran\\n++++ sed \\'s,^\\\\([^\\\\,]*\\\\)\\\\,.*,\\\\1,\\'\\n+++ thing=F77\\n+++ \\'[\\' apply = apply \\']\\'\\n++++ echo F77\\n++++ tr a-z+- A-ZX_\\n+++ thing=F77\\n+++ eval \\'oldval=$F77\\'\\n++++ oldval=\\n+++ \\'[\\' -n \\'\\' \\']\\'\\n+++ eval unset \\'${to}${thing}\\'\\n++++ unset CONDA_BACKUP_F77\\n+++ \\'[\\' -n /opt/conda/envs/r-with-gdal/bin/x86_64-conda-linux-gnu-gfortran \\']\\'\\n+++ eval export \\'\\'\\\\\\'\\'F77=/opt/conda/envs/r-with-gdal/bin/x86_64-conda-linux-gnu-gfortran\\'\\\\\\'\\'\\'\\n++++ export F77=/opt/conda/envs/r-with-gdal/bin/x86_64-conda-linux-gnu-gfortran\\n++++ F77=/opt/conda/envs/r-with-gdal/bin/x86_64-conda-linux-gnu-gfortran\\n+++ for thing in \"$@\"\\n+++ case \"${thing}\" in\\n++++ echo F90,/opt/conda/envs/r-with-gdal/bin/x86_64-conda-linux-gnu-gfortran\\n++++ sed \\'s,^[^\\\\,]*\\\\,\\\\(.*\\\\),\\\\1,\\'\\n+++ newval=/opt/conda/envs/r-with-gdal/bin/x86_64-conda-linux-gnu-gfortran\\n++++ echo F90,/opt/conda/envs/r-with-gdal/bin/x86_64-conda-linux-gnu-gfortran\\n++++ sed \\'s,^\\\\([^\\\\,]*\\\\)\\\\,.*,\\\\1,\\'\\n+++ thing=F90\\n+++ \\'[\\' apply = apply \\']\\'\\n++++ echo F90\\n++++ tr a-z+- A-ZX_\\n+++ thing=F90\\n+++ eval \\'oldval=$F90\\'\\n++++ oldval=\\n+++ \\'[\\' -n \\'\\' \\']\\'\\n+++ eval unset \\'${to}${thing}\\'\\n++++ unset CONDA_BACKUP_F90\\n+++ \\'[\\' -n /opt/conda/envs/r-with-gdal/bin/x86_64-conda-linux-gnu-gfortran \\']\\'\\n+++ eval export \\'\\'\\\\\\'\\'F90=/opt/conda/envs/r-with-gdal/bin/x86_64-conda-linux-gnu-gfortran\\'\\\\\\'\\'\\'\\n++++ export F90=/opt/conda/envs/r-with-gdal/bin/x86_64-conda-linux-gnu-gfortran\\n++++ F90=/opt/conda/envs/r-with-gdal/bin/x86_64-conda-linux-gnu-gfortran\\n+++ return 0\\n+++ \\'[\\' 0 -ne 0 \\']\\'\\n+++ \\'[\\' 0 = 1 \\']\\'\\n++ . /opt/conda/envs/r-with-gdal/etc/conda/activate.d/activate-gxx_linux-64.sh\\n+++ \\'[\\' 0 = 1 \\']\\'\\n+++ CXXFLAGS_USED=\\'-fvisibility-inlines-hidden -std=c++17 -fmessage-length=0 -march=nocona -mtune=haswell -ftree-vectorize -fPIC -fstack-protector-strong -fno-plt -O2 -ffunction-sections -pipe -isystem /opt/conda/envs/r-with-gdal/include\\'\\n+++ DEBUG_CXXFLAGS_USED=\\'-fvisibility-inlines-hidden -std=c++17 -fmessage-length=0 -march=nocona -mtune=haswell -ftree-vectorize -fPIC -fstack-protector-all -fno-plt -Og -g -Wall -Wextra -fvar-tracking-assignments -ffunction-sections -pipe -isystem /opt/conda/envs/r-with-gdal/include\\'\\n+++ \\'[\\' 0 = 1 \\']\\'\\n+++ _tc_activation activate x86_64-conda-linux-gnu- c++ g++ \\'CXXFLAGS,-fvisibility-inlines-hidden -std=c++17 -fmessage-length=0 -march=nocona -mtune=haswell -ftree-vectorize -fPIC -fstack-protector-strong -fno-plt -O2 -ffunction-sections -pipe -isystem /opt/conda/envs/r-with-gdal/include \\' \\'DEBUG_CXXFLAGS,-fvisibility-inlines-hidden -std=c++17 -fmessage-length=0 -march=nocona -mtune=haswell -ftree-vectorize -fPIC -fstack-protector-all -fno-plt -Og -g -Wall -Wextra -fvar-tracking-assignments -ffunction-sections -pipe -isystem /opt/conda/envs/r-with-gdal/include \\' CXX_FOR_BUILD,/opt/conda/envs/r-with-gdal/bin/x86_64-conda-linux-gnu-c++\\n+++ local act_nature=activate\\n+++ shift\\n+++ local tc_prefix=x86_64-conda-linux-gnu-\\n+++ shift\\n+++ local thing\\n+++ local newval\\n+++ local from\\n+++ local to\\n+++ local pass\\n+++ \\'[\\' activate = activate \\']\\'\\n+++ from=\\n+++ to=CONDA_BACKUP_\\n+++ for pass in check apply\\n+++ for thing in \"$@\"\\n+++ case \"${thing}\" in\\n+++ newval=/opt/conda/envs/r-with-gdal/bin/x86_64-conda-linux-gnu-c++\\n+++ \\'[\\' \\'!\\' -x /opt/conda/envs/r-with-gdal/bin/x86_64-conda-linux-gnu-c++ \\']\\'\\n+++ \\'[\\' check = apply \\']\\'\\n+++ for thing in \"$@\"\\n+++ case \"${thing}\" in\\n+++ newval=/opt/conda/envs/r-with-gdal/bin/x86_64-conda-linux-gnu-g++\\n+++ \\'[\\' \\'!\\' -x /opt/conda/envs/r-with-gdal/bin/x86_64-conda-linux-gnu-g++ \\']\\'\\n+++ \\'[\\' check = apply \\']\\'\\n+++ for thing in \"$@\"\\n+++ case \"${thing}\" in\\n++++ echo \\'CXXFLAGS,-fvisibility-inlines-hidden -std=c++17 -fmessage-length=0 -march=nocona -mtune=haswell -ftree-vectorize -fPIC -fstack-protector-strong -fno-plt -O2 -ffunction-sections -pipe -isystem /opt/conda/envs/r-with-gdal/include \\'\\n++++ sed \\'s,^[^\\\\,]*\\\\,\\\\(.*\\\\),\\\\1,\\'\\n+++ newval=\\'-fvisibility-inlines-hidden -std=c++17 -fmessage-length=0 -march=nocona -mtune=haswell -ftree-vectorize -fPIC -fstack-protector-strong -fno-plt -O2 -ffunction-sections -pipe -isystem /opt/conda/envs/r-with-gdal/include \\'\\n++++ echo \\'CXXFLAGS,-fvisibility-inlines-hidden -std=c++17 -fmessage-length=0 -march=nocona -mtune=haswell -ftree-vectorize -fPIC -fstack-protector-strong -fno-plt -O2 -ffunction-sections -pipe -isystem /opt/conda/envs/r-with-gdal/include \\'\\n++++ sed \\'s,^\\\\([^\\\\,]*\\\\)\\\\,.*,\\\\1,\\'\\n+++ thing=CXXFLAGS\\n+++ \\'[\\' check = apply \\']\\'\\n+++ for thing in \"$@\"\\n+++ case \"${thing}\" in\\n++++ echo \\'DEBUG_CXXFLAGS,-fvisibility-inlines-hidden -std=c++17 -fmessage-length=0 -march=nocona -mtune=haswell -ftree-vectorize -fPIC -fstack-protector-all -fno-plt -Og -g -Wall -Wextra -fvar-tracking-assignments -ffunction-sections -pipe -isystem /opt/conda/envs/r-with-gdal/include \\'\\n++++ sed \\'s,^[^\\\\,]*\\\\,\\\\(.*\\\\),\\\\1,\\'\\n+++ newval=\\'-fvisibility-inlines-hidden -std=c++17 -fmessage-length=0 -march=nocona -mtune=haswell -ftree-vectorize -fPIC -fstack-protector-all -fno-plt -Og -g -Wall -Wextra -fvar-tracking-assignments -ffunction-sections -pipe -isystem /opt/conda/envs/r-with-gdal/include \\'\\n++++ echo \\'DEBUG_CXXFLAGS,-fvisibility-inlines-hidden -std=c++17 -fmessage-length=0 -march=nocona -mtune=haswell -ftree-vectorize -fPIC -fstack-protector-all -fno-plt -Og -g -Wall -Wextra -fvar-tracking-assignments -ffunction-sections -pipe -isystem /opt/conda/envs/r-with-gdal/include \\'\\n++++ sed \\'s,^\\\\([^\\\\,]*\\\\)\\\\,.*,\\\\1,\\'\\n+++ thing=DEBUG_CXXFLAGS\\n+++ \\'[\\' check = apply \\']\\'\\n+++ for thing in \"$@\"\\n+++ case \"${thing}\" in\\n++++ echo CXX_FOR_BUILD,/opt/conda/envs/r-with-gdal/bin/x86_64-conda-linux-gnu-c++\\n++++ sed \\'s,^[^\\\\,]*\\\\,\\\\(.*\\\\),\\\\1,\\'\\n+++ newval=/opt/conda/envs/r-with-gdal/bin/x86_64-conda-linux-gnu-c++\\n++++ echo CXX_FOR_BUILD,/opt/conda/envs/r-with-gdal/bin/x86_64-conda-linux-gnu-c++\\n++++ sed \\'s,^\\\\([^\\\\,]*\\\\)\\\\,.*,\\\\1,\\'\\n+++ thing=CXX_FOR_BUILD\\n+++ \\'[\\' check = apply \\']\\'\\n+++ for pass in check apply\\n+++ for thing in \"$@\"\\n+++ case \"${thing}\" in\\n+++ newval=/opt/conda/envs/r-with-gdal/bin/x86_64-conda-linux-gnu-c++\\n+++ \\'[\\' \\'!\\' -x /opt/conda/envs/r-with-gdal/bin/x86_64-conda-linux-gnu-c++ \\']\\'\\n+++ \\'[\\' apply = apply \\']\\'\\n++++ echo c++\\n++++ tr a-z+- A-ZX_\\n+++ thing=CXX\\n+++ eval \\'oldval=$CXX\\'\\n++++ oldval=\\n+++ \\'[\\' -n \\'\\' \\']\\'\\n+++ eval unset \\'${to}${thing}\\'\\n++++ unset CONDA_BACKUP_CXX\\n+++ \\'[\\' -n /opt/conda/envs/r-with-gdal/bin/x86_64-conda-linux-gnu-c++ \\']\\'\\n+++ eval export \\'\\'\\\\\\'\\'CXX=/opt/conda/envs/r-with-gdal/bin/x86_64-conda-linux-gnu-c++\\'\\\\\\'\\'\\'\\n++++ export CXX=/opt/conda/envs/r-with-gdal/bin/x86_64-conda-linux-gnu-c++\\n++++ CXX=/opt/conda/envs/r-with-gdal/bin/x86_64-conda-linux-gnu-c++\\n+++ for thing in \"$@\"\\n+++ case \"${thing}\" in\\n+++ newval=/opt/conda/envs/r-with-gdal/bin/x86_64-conda-linux-gnu-g++\\n+++ \\'[\\' \\'!\\' -x /opt/conda/envs/r-with-gdal/bin/x86_64-conda-linux-gnu-g++ \\']\\'\\n+++ \\'[\\' apply = apply \\']\\'\\n++++ echo g++\\n++++ tr a-z+- A-ZX_\\n+++ thing=GXX\\n+++ eval \\'oldval=$GXX\\'\\n++++ oldval=\\n+++ \\'[\\' -n \\'\\' \\']\\'\\n+++ eval unset \\'${to}${thing}\\'\\n++++ unset CONDA_BACKUP_GXX\\n+++ \\'[\\' -n /opt/conda/envs/r-with-gdal/bin/x86_64-conda-linux-gnu-g++ \\']\\'\\n+++ eval export \\'\\'\\\\\\'\\'GXX=/opt/conda/envs/r-with-gdal/bin/x86_64-conda-linux-gnu-g++\\'\\\\\\'\\'\\'\\n++++ export GXX=/opt/conda/envs/r-with-gdal/bin/x86_64-conda-linux-gnu-g++\\n++++ GXX=/opt/conda/envs/r-with-gdal/bin/x86_64-conda-linux-gnu-g++\\n+++ for thing in \"$@\"\\n+++ case \"${thing}\" in\\n++++ echo \\'CXXFLAGS,-fvisibility-inlines-hidden -std=c++17 -fmessage-length=0 -march=nocona -mtune=haswell -ftree-vectorize -fPIC -fstack-protector-strong -fno-plt -O2 -ffunction-sections -pipe -isystem /opt/conda/envs/r-with-gdal/include \\'\\n++++ sed \\'s,^[^\\\\,]*\\\\,\\\\(.*\\\\),\\\\1,\\'\\n+++ newval=\\'-fvisibility-inlines-hidden -std=c++17 -fmessage-length=0 -march=nocona -mtune=haswell -ftree-vectorize -fPIC -fstack-protector-strong -fno-plt -O2 -ffunction-sections -pipe -isystem /opt/conda/envs/r-with-gdal/include \\'\\n++++ echo \\'CXXFLAGS,-fvisibility-inlines-hidden -std=c++17 -fmessage-length=0 -march=nocona -mtune=haswell -ftree-vectorize -fPIC -fstack-protector-strong -fno-plt -O2 -ffunction-sections -pipe -isystem /opt/conda/envs/r-with-gdal/include \\'\\n++++ sed \\'s,^\\\\([^\\\\,]*\\\\)\\\\,.*,\\\\1,\\'\\n+++ thing=CXXFLAGS\\n+++ \\'[\\' apply = apply \\']\\'\\n++++ echo CXXFLAGS\\n++++ tr a-z+- A-ZX_\\n+++ thing=CXXFLAGS\\n+++ eval \\'oldval=$CXXFLAGS\\'\\n++++ oldval=\\n+++ \\'[\\' -n \\'\\' \\']\\'\\n+++ eval unset \\'${to}${thing}\\'\\n++++ unset CONDA_BACKUP_CXXFLAGS\\n+++ \\'[\\' -n \\'-fvisibility-inlines-hidden -std=c++17 -fmessage-length=0 -march=nocona -mtune=haswell -ftree-vectorize -fPIC -fstack-protector-strong -fno-plt -O2 -ffunction-sections -pipe -isystem /opt/conda/envs/r-with-gdal/include \\' \\']\\'\\n+++ eval export \\'\\'\\\\\\'\\'CXXFLAGS=-fvisibility-inlines-hidden -std=c++17 -fmessage-length=0 -march=nocona -mtune=haswell -ftree-vectorize -fPIC -fstack-protector-strong -fno-plt -O2 -ffunction-sections -pipe -isystem /opt/conda/envs/r-with-gdal/include \\'\\\\\\'\\'\\'\\n++++ export \\'CXXFLAGS=-fvisibility-inlines-hidden -std=c++17 -fmessage-length=0 -march=nocona -mtune=haswell -ftree-vectorize -fPIC -fstack-protector-strong -fno-plt -O2 -ffunction-sections -pipe -isystem /opt/conda/envs/r-with-gdal/include \\'\\n++++ CXXFLAGS=\\'-fvisibility-inlines-hidden -std=c++17 -fmessage-length=0 -march=nocona -mtune=haswell -ftree-vectorize -fPIC -fstack-protector-strong -fno-plt -O2 -ffunction-sections -pipe -isystem /opt/conda/envs/r-with-gdal/include \\'\\n+++ for thing in \"$@\"\\n+++ case \"${thing}\" in\\n++++ echo \\'DEBUG_CXXFLAGS,-fvisibility-inlines-hidden -std=c++17 -fmessage-length=0 -march=nocona -mtune=haswell -ftree-vectorize -fPIC -fstack-protector-all -fno-plt -Og -g -Wall -Wextra -fvar-tracking-assignments -ffunction-sections -pipe -isystem /opt/conda/envs/r-with-gdal/include \\'\\n++++ sed \\'s,^[^\\\\,]*\\\\,\\\\(.*\\\\),\\\\1,\\'\\n+++ newval=\\'-fvisibility-inlines-hidden -std=c++17 -fmessage-length=0 -march=nocona -mtune=haswell -ftree-vectorize -fPIC -fstack-protector-all -fno-plt -Og -g -Wall -Wextra -fvar-tracking-assignments -ffunction-sections -pipe -isystem /opt/conda/envs/r-with-gdal/include \\'\\n++++ echo \\'DEBUG_CXXFLAGS,-fvisibility-inlines-hidden -std=c++17 -fmessage-length=0 -march=nocona -mtune=haswell -ftree-vectorize -fPIC -fstack-protector-all -fno-plt -Og -g -Wall -Wextra -fvar-tracking-assignments -ffunction-sections -pipe -isystem /opt/conda/envs/r-with-gdal/include \\'\\n++++ sed \\'s,^\\\\([^\\\\,]*\\\\)\\\\,.*,\\\\1,\\'\\n+++ thing=DEBUG_CXXFLAGS\\n+++ \\'[\\' apply = apply \\']\\'\\n++++ echo DEBUG_CXXFLAGS\\n++++ tr a-z+- A-ZX_\\n+++ thing=DEBUG_CXXFLAGS\\n+++ eval \\'oldval=$DEBUG_CXXFLAGS\\'\\n++++ oldval=\\n+++ \\'[\\' -n \\'\\' \\']\\'\\n+++ eval unset \\'${to}${thing}\\'\\n++++ unset CONDA_BACKUP_DEBUG_CXXFLAGS\\n+++ \\'[\\' -n \\'-fvisibility-inlines-hidden -std=c++17 -fmessage-length=0 -march=nocona -mtune=haswell -ftree-vectorize -fPIC -fstack-protector-all -fno-plt -Og -g -Wall -Wextra -fvar-tracking-assignments -ffunction-sections -pipe -isystem /opt/conda/envs/r-with-gdal/include \\' \\']\\'\\n+++ eval export \\'\\'\\\\\\'\\'DEBUG_CXXFLAGS=-fvisibility-inlines-hidden -std=c++17 -fmessage-length=0 -march=nocona -mtune=haswell -ftree-vectorize -fPIC -fstack-protector-all -fno-plt -Og -g -Wall -Wextra -fvar-tracking-assignments -ffunction-sections -pipe -isystem /opt/conda/envs/r-with-gdal/include \\'\\\\\\'\\'\\'\\n++++ export \\'DEBUG_CXXFLAGS=-fvisibility-inlines-hidden -std=c++17 -fmessage-length=0 -march=nocona -mtune=haswell -ftree-vectorize -fPIC -fstack-protector-all -fno-plt -Og -g -Wall -Wextra -fvar-tracking-assignments -ffunction-sections -pipe -isystem /opt/conda/envs/r-with-gdal/include \\'\\n++++ DEBUG_CXXFLAGS=\\'-fvisibility-inlines-hidden -std=c++17 -fmessage-length=0 -march=nocona -mtune=haswell -ftree-vectorize -fPIC -fstack-protector-all -fno-plt -Og -g -Wall -Wextra -fvar-tracking-assignments -ffunction-sections -pipe -isystem /opt/conda/envs/r-with-gdal/include \\'\\n+++ for thing in \"$@\"\\n+++ case \"${thing}\" in\\n++++ echo CXX_FOR_BUILD,/opt/conda/envs/r-with-gdal/bin/x86_64-conda-linux-gnu-c++\\n++++ sed \\'s,^[^\\\\,]*\\\\,\\\\(.*\\\\),\\\\1,\\'\\n+++ newval=/opt/conda/envs/r-with-gdal/bin/x86_64-conda-linux-gnu-c++\\n++++ echo CXX_FOR_BUILD,/opt/conda/envs/r-with-gdal/bin/x86_64-conda-linux-gnu-c++\\n++++ sed \\'s,^\\\\([^\\\\,]*\\\\)\\\\,.*,\\\\1,\\'\\n+++ thing=CXX_FOR_BUILD\\n+++ \\'[\\' apply = apply \\']\\'\\n++++ echo CXX_FOR_BUILD\\n++++ tr a-z+- A-ZX_\\n+++ thing=CXX_FOR_BUILD\\n+++ eval \\'oldval=$CXX_FOR_BUILD\\'\\n++++ oldval=\\n+++ \\'[\\' -n \\'\\' \\']\\'\\n+++ eval unset \\'${to}${thing}\\'\\n++++ unset CONDA_BACKUP_CXX_FOR_BUILD\\n+++ \\'[\\' -n /opt/conda/envs/r-with-gdal/bin/x86_64-conda-linux-gnu-c++ \\']\\'\\n+++ eval export \\'\\'\\\\\\'\\'CXX_FOR_BUILD=/opt/conda/envs/r-with-gdal/bin/x86_64-conda-linux-gnu-c++\\'\\\\\\'\\'\\'\\n++++ export CXX_FOR_BUILD=/opt/conda/envs/r-with-gdal/bin/x86_64-conda-linux-gnu-c++\\n++++ CXX_FOR_BUILD=/opt/conda/envs/r-with-gdal/bin/x86_64-conda-linux-gnu-c++\\n+++ return 0\\n+++ \\'[\\' 0 -ne 0 \\']\\'\\n+++ \\'[\\' 0 = 1 \\']\\'\\n++ . /opt/conda/envs/r-with-gdal/etc/conda/activate.d/activate-r-base.sh\\n+++ R CMD javareconf\\n+++ true\\n+++ [[ ! -z \\'\\' ]]\\n+++ export RSTUDIO_WHICH_R=/opt/conda/envs/r-with-gdal/bin/R\\n+++ RSTUDIO_WHICH_R=/opt/conda/envs/r-with-gdal/bin/R\\n++ . /opt/conda/envs/r-with-gdal/etc/conda/activate.d/gdal-activate.sh\\n+++ [[ -n /opt/conda/share/gdal ]]\\n+++ export _CONDA_SET_GDAL_DATA=/opt/conda/share/gdal\\n+++ _CONDA_SET_GDAL_DATA=/opt/conda/share/gdal\\n+++ [[ -n \\'\\' ]]\\n+++ \\'[\\' -d /opt/conda/envs/r-with-gdal/share/gdal \\']\\'\\n+++ export GDAL_DATA=/opt/conda/envs/r-with-gdal/share/gdal\\n+++ GDAL_DATA=/opt/conda/envs/r-with-gdal/share/gdal\\n+++ export GDAL_DRIVER_PATH=/opt/conda/envs/r-with-gdal/lib/gdalplugins\\n+++ GDAL_DRIVER_PATH=/opt/conda/envs/r-with-gdal/lib/gdalplugins\\n+++ [[ ! -d /opt/conda/envs/r-with-gdal/lib/gdalplugins ]]\\n+++ unset GDAL_DRIVER_PATH\\n+++ export CPL_ZIP_ENCODING=UTF-8\\n+++ CPL_ZIP_ENCODING=UTF-8\\n++ . /opt/conda/envs/r-with-gdal/etc/conda/activate.d/geotiff-activate.sh\\n+++ [[ -n \\'\\' ]]\\n+++ \\'[\\' -d /opt/conda/envs/r-with-gdal/share/epsg_csv \\']\\'\\n+++ \\'[\\' -d /opt/conda/envs/r-with-gdal/Library/share/epsg_csv \\']\\'\\n++ . /opt/conda/envs/r-with-gdal/etc/conda/activate.d/libglib_activate.sh\\n+++ export GSETTINGS_SCHEMA_DIR_CONDA_BACKUP=\\n+++ GSETTINGS_SCHEMA_DIR_CONDA_BACKUP=\\n+++ export GSETTINGS_SCHEMA_DIR=/opt/conda/envs/r-with-gdal/share/glib-2.0/schemas\\n+++ GSETTINGS_SCHEMA_DIR=/opt/conda/envs/r-with-gdal/share/glib-2.0/schemas\\n++ . /opt/conda/envs/r-with-gdal/etc/conda/activate.d/proj4-activate.sh\\n+++ \\'[\\' -n /opt/conda/share/proj \\']\\'\\n+++ export _CONDA_SET_PROJ_LIB=/opt/conda/share/proj\\n+++ _CONDA_SET_PROJ_LIB=/opt/conda/share/proj\\n+++ \\'[\\' -d /opt/conda/envs/r-with-gdal/share/proj \\']\\'\\n+++ export PROJ_LIB=/opt/conda/envs/r-with-gdal/share/proj\\n+++ PROJ_LIB=/opt/conda/envs/r-with-gdal/share/proj\\n+++ \\'[\\' -f /opt/conda/envs/r-with-gdal/share/proj/copyright_and_licenses.csv \\']\\'\\n+++ export PROJ_NETWORK=ON\\n+++ PROJ_NETWORK=ON\\n++ . /opt/conda/envs/r-with-gdal/etc/conda/activate.d/udunits2-activate.sh\\n+++ [[ -n \\'\\' ]]\\n+++ \\'[\\' -d /opt/conda/envs/r-with-gdal/share/udunits \\']\\'\\n+++ export UDUNITS2_XML_PATH=/opt/conda/envs/r-with-gdal/share/udunits/udunits2.xml\\n+++ UDUNITS2_XML_PATH=/opt/conda/envs/r-with-gdal/share/udunits/udunits2.xml\\n+ __conda_hashr\\n+ \\'[\\' -n \\'\\' \\']\\'\\n+ \\'[\\' -n \\'\\' \\']\\'\\n+ hash -r\\n+ Rscript /app/icesat2_boreal/dps/alg_3-4/../../lib/mapBoreal.R input/Copernicus_11_covars_cog_topo_stack.tif input/Landsat8_11_comp_cog_2015-2020_dps.tif TRUE input/boreal_train_data_v3.csv 5 2\\nrandomForest 4.6-14\\nType rfNews() to see new features/changes/bug fixes.\\nLoading required package: sp\\nPlease note that rgdal will be retired by the end of 2023,\\nplan transition to sf/stars/terra functions using GDAL and PROJ\\nat your earliest convenience.\\n\\nrgdal: version: 1.5-28, (SVN revision 1158)\\nGeospatial Data Abstraction Library extensions to R successfully loaded\\nLoaded GDAL runtime: GDAL 3.4.1, released 2021/12/27\\nPath to GDAL shared files: /opt/conda/envs/r-with-gdal/share/gdal\\nGDAL binary built with GEOS: TRUE \\nLoaded PROJ runtime: Rel. 8.2.1, January 1st, 2022, [PJ_VERSION: 821]\\nPath to PROJ shared files: /opt/conda/envs/r-with-gdal/share/proj\\nPROJ CDN enabled: TRUE\\nLinking to sp version:1.4-6\\nTo mute warnings of possible GDAL/OSR exportToProj4() degradation,\\nuse options(\"rgdal_show_exportToProj4_warnings\"=\"none\") before loading sp or rgdal.\\n\\nAttaching package: ‘data.table’\\n\\nThe following object is masked from ‘package:raster’:\\n\\n    shift\\n\\n\\nAttaching package: ‘ggplot2’\\n\\nThe following object is masked from ‘package:randomForest’:\\n\\n    margin\\n\\nError in .local(.Object, ...) : \\n\\nError in .rasterObjectFromFile(x, objecttype = \"RasterBrick\", ...) : \\n  Cannot create a RasterLayer object from this file. (file does not exist)\\nCalls: stack ... .quickStackOneFile -> brick -> brick -> .rasterObjectFromFile\\nExecution halted\\n+ cp _stderr.txt _alt_traceback.txt')]))]))])"
      ]
     },
     "execution_count": 37,
     "metadata": {},
     "output_type": "execute_result"
    }
   ],
   "source": [
    "xmltodict.parse(maap.getJobResult(z[z['wps:Status'] =='Failed'].iloc[10].job_id).content)"
   ]
  },
  {
   "cell_type": "markdown",
   "id": "cathedral-inspector",
   "metadata": {},
   "source": [
    "## After successful DPS run, create AGB tindex"
   ]
  },
  {
   "cell_type": "code",
   "execution_count": 19,
   "id": "electoral-remains",
   "metadata": {},
   "outputs": [
    {
     "name": "stdout",
     "output_type": "stream",
     "text": [
      "/projects/.local/lib/python3.7/site-packages/geopandas/_compat.py:110: UserWarning: The Shapely GEOS version (3.8.0-CAPI-1.13.1 ) is incompatible with the GEOS version PyGEOS was compiled with (3.9.1-CAPI-1.14.2). Conversions between both will be slow.\n",
      "  shapely_geos_version, geos_capi_version_string\n",
      "\n",
      "Building a list of tiles:\n",
      "MAAP version:\t\tmaster\n",
      "Type:\t\tAGB\n",
      "Year:\t\t2022\n",
      "Month:\t\t03\n",
      "Days:\t\t1-31\n",
      "\n",
      "Output dir:  /projects/my-private-bucket/dps_output/run_boreal_biomass_v2_ubuntu/master/2022/03\n",
      "                                             s3_path  ...                              file\n",
      "0  s3://maap-ops-workspace/lduncanson/dps_output/...  ...  boreal_agb_20220330_0200_tmp.tif\n",
      "1  s3://maap-ops-workspace/lduncanson/dps_output/...  ...  boreal_agb_20220330_0042_tmp.tif\n",
      "2  s3://maap-ops-workspace/lduncanson/dps_output/...  ...  boreal_agb_20220330_0011_tmp.tif\n",
      "3  s3://maap-ops-workspace/lduncanson/dps_output/...  ...  boreal_agb_20220330_0199_tmp.tif\n",
      "4  s3://maap-ops-workspace/lduncanson/dps_output/...  ...  boreal_agb_20220330_0223_tmp.tif\n",
      "\n",
      "[5 rows x 3 columns]\n",
      "# of duplicate tiles: 6\n",
      "Final # of tiles: 16\n",
      "df shape :                                              s3_path  ... tile_num\n",
      "0  s3://maap-ops-workspace/lduncanson/dps_output/...  ...     0200\n",
      "1  s3://maap-ops-workspace/lduncanson/dps_output/...  ...     0042\n",
      "2  s3://maap-ops-workspace/lduncanson/dps_output/...  ...     0011\n",
      "3  s3://maap-ops-workspace/lduncanson/dps_output/...  ...     0199\n",
      "4  s3://maap-ops-workspace/lduncanson/dps_output/...  ...     0223\n",
      "\n",
      "[5 rows x 4 columns]\n",
      "Writing tindex master csv: /projects/my-private-bucket/dps_output/run_boreal_biomass_v2_ubuntu/master/2022/03/AGB_tindex_master.csv\n"
     ]
    }
   ],
   "source": [
    "## create AGB tindex (? before you've run jobs??)\n",
    "month_dir_str = '03'\n",
    "index_out_dir = os.path.join('/projects/my-private-bucket/dps_output/run_boreal_biomass_v2_ubuntu/master/2022', month_dir_str)\n",
    "!python /projects/icesat2_boreal/lib/build_tindex_master.py -t 'AGB' -y 2022 -m $month_dir_str -o $index_out_dir"
   ]
  },
  {
   "cell_type": "code",
   "execution_count": 20,
   "id": "boxed-reggae",
   "metadata": {},
   "outputs": [
    {
     "name": "stdout",
     "output_type": "stream",
     "text": [
      "[]\n",
      "# of tiles to run: 0\n",
      " []\n"
     ]
    }
   ],
   "source": [
    "TEST_DPS  = True\n",
    "\n",
    "if TEST_DPS:\n",
    "    \n",
    "    if True:\n",
    "        #!python /projects/icesat2_boreal/lib/build_tindex_master_v2.py -t AGB -y 2022 -m $month_dir_str -o $index_out_dir\n",
    "        t = pd.read_csv(os.path.join(index_out_dir,'AGB_tindex_master.csv'))\n",
    "        COMPLETED_TILES = t.tile_num.to_list()\n",
    "        NEED_TILES = list(set(DPS_INPUT_TILE_NUM_LIST) - set(COMPLETED_TILES))\n",
    "\n",
    "        print(NEED_TILES)\n",
    "        DPS_INPUT_TILE_NUM_LIST = NEED_TILES\n",
    "    \n",
    "else:\n",
    "    DPS_INPUT_TILE_NUM_LIST = INPUT_TILE_NUM_LIST\n",
    "   \n",
    "\n",
    "#DPS_INPUT_TILE_NUM_LIST = [248, 273, 272, 271, 324]\n",
    "print(f\"# of tiles to run: {len(DPS_INPUT_TILE_NUM_LIST)}\\n\", DPS_INPUT_TILE_NUM_LIST)\n"
   ]
  },
  {
   "cell_type": "markdown",
   "id": "patent-devon",
   "metadata": {},
   "source": [
    "## Get other lists just of missing tiles (various ways)"
   ]
  },
  {
   "cell_type": "code",
   "execution_count": 8,
   "id": "massive-character",
   "metadata": {},
   "outputs": [
    {
     "name": "stdout",
     "output_type": "stream",
     "text": [
      "1\n",
      "1\n"
     ]
    }
   ],
   "source": [
    "need_tindex_master = pd.read_csv('/projects/my-public-bucket/DPS_tile_lists/Need_AGB_tindex_master.csv')\n",
    "print(len(need_tindex_master))\n",
    "\n",
    "INPUT_TILE_NUM_LIST = need_tindex_master.tile_num.tolist()\n",
    "\n",
    "# Remove duplicate tile nums\n",
    "INPUT_TILE_NUM_LIST = list(set(INPUT_TILE_NUM_LIST))\n",
    "\n",
    "print(len(INPUT_TILE_NUM_LIST))\n",
    "\n",
    "INPUT_TILE_NUM_LIST_NEED = INPUT_TILE_NUM_LIST"
   ]
  },
  {
   "cell_type": "code",
   "execution_count": 9,
   "id": "considerable-advisory",
   "metadata": {},
   "outputs": [
    {
     "data": {
      "text/plain": [
       "11"
      ]
     },
     "execution_count": 9,
     "metadata": {},
     "output_type": "execute_result"
    }
   ],
   "source": [
    "weird_tiles = [4304, 4305, 4221, 4220, 1785, 1718, 1720, 1661, 1257, 1318, 1317]\n",
    "werid_tiles = [1255, 1196, 949, 1062, 1063, 1005, 950, 1004]\n",
    "INPUT_TILE_NUM_LIST = weird_tiles\n",
    "len(INPUT_TILE_NUM_LIST)"
   ]
  },
  {
   "cell_type": "code",
   "execution_count": 10,
   "id": "bibliographic-breakfast",
   "metadata": {},
   "outputs": [
    {
     "name": "stdout",
     "output_type": "stream",
     "text": [
      "45\n",
      "[978, 988, 978, 988, 1263, 1261, 1264, 794, 2932, 3190, 3012, 3014, 3360, 3017, 378, 765, 812, 821, 764, 861, 1302, 1308, 1469, 2894, 2883, 2965, 2976, 3327, 3321, 3510, 3509, 4372, 4440, 4477, 2994, 1406, 2840, 411, 380, 3335, 2495, 4403, 2906, 2907, 2814]\n"
     ]
    }
   ],
   "source": [
    "# Get all boreal tiles\n",
    "ATL08_filt_tindex_master =   pd.read_csv('s3://maap-ops-workspace/shared/lduncanson/DPS_tile_lists/ATL08_filt_tindex_master.csv')\n",
    "boreal_tile_index_path = '/projects/shared-buckets/nathanmthomas/boreal_grid_albers90k_gpkg.gpkg'\n",
    "boreal_tile_index = geopandas.read_file(boreal_tile_index_path)\n",
    "boreal_tile_index.rename(columns={\"layer\":\"tile_num\"}, inplace=True)\n",
    "boreal_tile_index[\"tile_num\"] = boreal_tile_index[\"tile_num\"].astype(int)\n",
    "\n",
    "bad_tiles = [3540,3634,3728,3823,3916,4004] #Dropping the tiles near antimeridian that reproject poorly.\n",
    "select_needs = [3360,2994,3190,2840,3012,3014,3017,2932,1261,1263,1264,988,978,794, 380,378,411,821,861,\n",
    "                812,765,764,1308,1302,1469,1406,2495,2883,2965,3321,3509,3510,3327,3335,2976,2906,2907,2894,2814,4253,4293,4403,4440,4408,4372,4477,3986]\n",
    "\n",
    "# Remove bad tiles\n",
    "boreal_tile_index = boreal_tile_index[~boreal_tile_index['tile_num'].isin(bad_tiles)]\n",
    "    \n",
    "#print(boreal_tile_index.head())\n",
    "tile_matches_select_needs = boreal_tile_index.merge(ATL08_filt_tindex_master[ATL08_filt_tindex_master['tile_num'].isin(select_needs)], how='right', on='tile_num')\n",
    "print(len(tile_matches_select_needs))\n",
    "select_needs_filt = print([t for t in tile_matches_select_needs.tile_num])"
   ]
  },
  {
   "cell_type": "code",
   "execution_count": 32,
   "id": "southern-attitude",
   "metadata": {},
   "outputs": [
    {
     "name": "stdout",
     "output_type": "stream",
     "text": [
      "45\n",
      "4\n",
      "[3986 4253 4293 4408]\n",
      "70\n",
      "[  65  106  127  250  361  417  493  566  568  618  741  753  786  798\n",
      "  801  830  848  876  877  927 1273 1287 1318 1402 1438 1439 1440 1604\n",
      " 1848 1850 1852 1936 2425 2426 2952 3124 3355 3540 3542 3634 3728 3823\n",
      " 3845 3846 3895 3916 4004 4007 4018 4083 4176 4204 4250 4256 4307 4325\n",
      " 4342 4395 4417 4444 4450 4451 4463 4467 4468 4483 4499 4510 4527 4534]\n"
     ]
    },
    {
     "data": {
      "text/plain": [
       "70"
      ]
     },
     "execution_count": 32,
     "metadata": {},
     "output_type": "execute_result"
    }
   ],
   "source": [
    "#select_needs_filt = [978, 988, 978, 988, 1263, 1261, 1264, 794, 2932, 3190, 3012, 3014, 3360, 3017, 378, 765, 812, 821, 764, 861, 1302, 1308, 1469, 2894, 2883, 2965, 2976, 3327, 3321, 3510, 3509, 4372, 4440, 4477, 2994, 1406, 2840, 411, 380, 3335, 2495, 4403, 2906, 2907, 2814]\n",
    "\n",
    "print(len(select_needs_filt))\n",
    "\n",
    "import numpy as np\n",
    "tile_nums_missing_but_wont_run = np.setdiff1d(select_needs, select_needs_filt)\n",
    "print(len(tile_nums_missing_but_wont_run))\n",
    "print(tile_nums_missing_but_wont_run)\n",
    "\n",
    "tile_nums_missing_periphery = np.setdiff1d(INPUT_TILE_NUM_LIST_NEED, select_needs_filt)\n",
    "print(len(tile_nums_missing_periphery))\n",
    "print(tile_nums_missing_periphery)\n",
    "INPUT_TILE_NUM_LIST = tile_nums_missing_periphery\n",
    "len(INPUT_TILE_NUM_LIST)    "
   ]
  },
  {
   "cell_type": "code",
   "execution_count": 18,
   "id": "funny-reconstruction",
   "metadata": {},
   "outputs": [],
   "source": [
    "INPUT_TILE_NUM_LIST = [4440,4372,4477]"
   ]
  },
  {
   "cell_type": "markdown",
   "id": "adolescent-entry",
   "metadata": {},
   "source": [
    "## Send output cog.tif tiles somewhere"
   ]
  },
  {
   "cell_type": "code",
   "execution_count": 12,
   "id": "crazy-torture",
   "metadata": {},
   "outputs": [],
   "source": [
    "import glob\n",
    "out_files = glob.glob(\"/projects/my-private-bucket/dps_output/run_boreal_biomass_ubuntu/master/2022/02/baseline_run/**/*cog.tif\", recursive=True)"
   ]
  },
  {
   "cell_type": "code",
   "execution_count": 13,
   "id": "touched-hindu",
   "metadata": {},
   "outputs": [
    {
     "name": "stdout",
     "output_type": "stream",
     "text": [
      "['/projects/my-private-bucket/dps_output/run_boreal_biomass_ubuntu/master/2022/02/baseline_run/02/23/49/35/272239/boreal_agb_20220202_0200_cog.tif', '/projects/my-private-bucket/dps_output/run_boreal_biomass_ubuntu/master/2022/02/baseline_run/03/01/42/37/290043/boreal_agb_20220203_0224_cog.tif', '/projects/my-private-bucket/dps_output/run_boreal_biomass_ubuntu/master/2022/02/baseline_run/03/01/52/46/430279/boreal_agb_20220203_0387_cog.tif', '/projects/my-private-bucket/dps_output/run_boreal_biomass_ubuntu/master/2022/02/baseline_run/03/02/21/50/348844/boreal_agb_20220203_0386_cog.tif', '/projects/my-private-bucket/dps_output/run_boreal_biomass_ubuntu/master/2022/02/baseline_run/03/03/01/42/237812/boreal_agb_20220203_0199_cog.tif', '/projects/my-private-bucket/dps_output/run_boreal_biomass_ubuntu/master/2022/02/baseline_run/03/03/06/47/336472/boreal_agb_20220203_0223_cog.tif', '/projects/my-private-bucket/dps_output/run_boreal_biomass_ubuntu/master/2022/02/baseline_run/03/03/08/52/152954/boreal_agb_20220203_0042_cog.tif', '/projects/my-private-bucket/dps_output/run_boreal_biomass_ubuntu/master/2022/02/baseline_run/03/06/47/53/128079/boreal_agb_20220203_0111_cog.tif', '/projects/my-private-bucket/dps_output/run_boreal_biomass_ubuntu/master/2022/02/baseline_run/03/06/59/17/037689/boreal_agb_20220203_0112_cog.tif', '/projects/my-private-bucket/dps_output/run_boreal_biomass_ubuntu/master/2022/02/baseline_run/03/07/25/06/085526/boreal_agb_20220203_0049_cog.tif']\n"
     ]
    }
   ],
   "source": [
    "print(out_files)"
   ]
  },
  {
   "cell_type": "code",
   "execution_count": null,
   "id": "twelve-start",
   "metadata": {},
   "outputs": [],
   "source": [
    "TEST_SUBDIR = 'add_solar'\n",
    "OUTDIR = f'/projects/my-private-bucket/dps_output/run_boreal_biomass_v2_ubuntu/master/2022/{TEST_SUBDIR}'\n",
    "!python /projects/icesat2_boreal/lib/build_tindex_master.py -y 2022 -m $TEST_SUBDIR -o $OUTDIR"
   ]
  }
 ],
 "metadata": {
  "kernelspec": {
   "display_name": "Python 3",
   "language": "python",
   "name": "python3"
  },
  "language_info": {
   "codemirror_mode": {
    "name": "ipython",
    "version": 3
   },
   "file_extension": ".py",
   "mimetype": "text/x-python",
   "name": "python",
   "nbconvert_exporter": "python",
   "pygments_lexer": "ipython3",
   "version": "3.7.4"
  }
 },
 "nbformat": 4,
 "nbformat_minor": 5
}
