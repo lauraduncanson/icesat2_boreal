{
 "cells": [
  {
   "cell_type": "code",
   "execution_count": 2,
   "id": "sticky-humidity",
   "metadata": {},
   "outputs": [],
   "source": [
    "from maap.maap import MAAP\n",
    "maap = MAAP(maap_host='api.ops.maap-project.org')"
   ]
  },
  {
   "cell_type": "markdown",
   "id": "attached-resource",
   "metadata": {},
   "source": [
    "# Launch DPS for tile_atl08.py"
   ]
  },
  {
   "cell_type": "code",
   "execution_count": 3,
   "id": "parental-presence",
   "metadata": {},
   "outputs": [
    {
     "name": "stderr",
     "output_type": "stream",
     "text": [
      "/projects/.local/lib/python3.7/site-packages/geopandas/_compat.py:110: UserWarning: The Shapely GEOS version (3.8.0-CAPI-1.13.1 ) is incompatible with the GEOS version PyGEOS was compiled with (3.9.1-CAPI-1.14.2). Conversions between both will be slow.\n",
      "  shapely_geos_version, geos_capi_version_string\n"
     ]
    }
   ],
   "source": [
    "import os\n",
    "import geopandas\n",
    "import pandas as pd"
   ]
  },
  {
   "cell_type": "code",
   "execution_count": 15,
   "id": "optical-column",
   "metadata": {},
   "outputs": [],
   "source": [
    "def get_stack_fn(stack_list_fn, in_tile_num):\n",
    "    # Find most recent topo/Landsat stack path for tile in list of stack paths from *tindex_master.csv\n",
    "    all_stacks_df = pd.read_csv(stack_list_fn)\n",
    "    stack_for_tile = all_stacks_df[all_stacks_df['location'].str.contains(\"_\"+str(in_tile_num))]\n",
    "    [print(i) for i in stack_for_tile.path.to_list()]\n",
    "    stack_for_tile_fn = stack_for_tile.path.to_list()[0]\n",
    "    if len(stack_for_tile)==0:\n",
    "        stack_for_tile_fn = None\n",
    "    return(stack_for_tile_fn)\n",
    "\n",
    "# nmt added: code that returns df of landsat locations and tile number\n",
    "# This is basically CountOutput.py\n",
    "def get_stack_df(dps_dir, TYPE, dps_year):\n",
    "    \n",
    "    if \"Landsat\" in TYPE:\n",
    "        root = f\"/projects/my-private-bucket/dps_output/do_landsat_stack_3-1-2_ubuntu/ops/{dps_year}/\"\n",
    "        ends_with_str = \"_dps.tif\"\n",
    "    if \"Topo\" in TYPE:\n",
    "        root = f\"/projects/my-private-bucket/dps_output/do_topo_stack_3-1-5_ubuntu/ops/{dps_year}/\"\n",
    "        ends_with_str = \"_stack.tif\"\n",
    "    if \"ATL08\" in TYPE:\n",
    "        root = f\"/projects/my-private-bucket/dps_output/run_extract_ubuntu/ops/{dps_year}/\"\n",
    "        ends_with_str = \"0m.csv\"\n",
    "            \n",
    "    df = pd.DataFrame(columns=['location', 'tile_num'])\n",
    "\n",
    "    for dir, subdir, files in os.walk(root):\n",
    "        for fname in files:\n",
    "            if fname.endswith(ends_with_str): \n",
    "                 \n",
    "                tile_num = fname.split('_')[1]\n",
    "                   \n",
    "                if \"ATL08\" in TYPE:\n",
    "                    df = df.append({'location':os.path.join(dir+\"/\", fname)},ignore_index=True)\n",
    "                else:\n",
    "                    df = df.append({'location':os.path.join(dir+\"/\", fname), 'tile_num':tile_num},ignore_index=True)\n",
    "        \n",
    "    return df\n",
    "\n",
    "# Topo and Landsat tindex_master csvs from CountOutput.py\n",
    "topo_tindex = \"/projects/my-public-bucket/DPS_tile_lists/Topo_tindex_master.csv\"\n",
    "landsat_tindex = \"/projects/my-public-bucket/DPS_tile_lists/Landsat_tindex_master.csv\"\n",
    "\n",
    "# Model-read subset of tiles for which Topo and Landsat coincide\n",
    "model_ready_tiles_topo = \"/projects/my-public-bucket/DPS_tile_lists/model_ready_tiles_topo_paths.csv\"\n",
    "model_ready_tiles_landsat = \"/projects/my-public-bucket/DPS_tile_lists/model_ready_tiles_landsat_paths.csv\""
   ]
  },
  {
   "cell_type": "markdown",
   "id": "external-elite",
   "metadata": {},
   "source": [
    "## Get df's from tindex_master csvs for Topo and Landsat tiles"
   ]
  },
  {
   "cell_type": "code",
   "execution_count": 16,
   "id": "electrical-composite",
   "metadata": {},
   "outputs": [
    {
     "ename": "NameError",
     "evalue": "name 'args' is not defined",
     "output_type": "error",
     "traceback": [
      "\u001b[0;31m---------------------------------------------------------------------------\u001b[0m",
      "\u001b[0;31mNameError\u001b[0m                                 Traceback (most recent call last)",
      "\u001b[0;32m<ipython-input-16-64cfffd94d8c>\u001b[0m in \u001b[0;36m<module>\u001b[0;34m\u001b[0m\n\u001b[1;32m      9\u001b[0m     \u001b[0mtopo_root\u001b[0m \u001b[0;34m=\u001b[0m \u001b[0ms3_stem\u001b[0m \u001b[0;34m+\u001b[0m \u001b[0;34m'/dps_output/do_topo_stack_3-1-5_ubuntu'\u001b[0m\u001b[0;34m\u001b[0m\u001b[0;34m\u001b[0m\u001b[0m\n\u001b[1;32m     10\u001b[0m \u001b[0;34m\u001b[0m\u001b[0m\n\u001b[0;32m---> 11\u001b[0;31m     \u001b[0mls8_df\u001b[0m \u001b[0;34m=\u001b[0m \u001b[0mget_stack_df\u001b[0m\u001b[0;34m(\u001b[0m\u001b[0mls8_root\u001b[0m\u001b[0;34m,\u001b[0m \u001b[0;34m\"Landsat\"\u001b[0m\u001b[0;34m)\u001b[0m\u001b[0;34m\u001b[0m\u001b[0;34m\u001b[0m\u001b[0m\n\u001b[0m\u001b[1;32m     12\u001b[0m     \u001b[0mtopo_df\u001b[0m \u001b[0;34m=\u001b[0m \u001b[0mget_stack_df\u001b[0m\u001b[0;34m(\u001b[0m\u001b[0mtopo_root\u001b[0m\u001b[0;34m,\u001b[0m \u001b[0;34m\"Topo\"\u001b[0m\u001b[0;34m)\u001b[0m\u001b[0;34m\u001b[0m\u001b[0;34m\u001b[0m\u001b[0m\n",
      "\u001b[0;32m<ipython-input-15-f86f29f333fe>\u001b[0m in \u001b[0;36mget_stack_df\u001b[0;34m(dps_dir, TYPE)\u001b[0m\n\u001b[1;32m     14\u001b[0m \u001b[0;34m\u001b[0m\u001b[0m\n\u001b[1;32m     15\u001b[0m     \u001b[0;32mif\u001b[0m \u001b[0;34m\"Landsat\"\u001b[0m \u001b[0;32min\u001b[0m \u001b[0mTYPE\u001b[0m\u001b[0;34m:\u001b[0m\u001b[0;34m\u001b[0m\u001b[0;34m\u001b[0m\u001b[0m\n\u001b[0;32m---> 16\u001b[0;31m         \u001b[0mroot\u001b[0m \u001b[0;34m=\u001b[0m \u001b[0;34mf\"/projects/my-private-bucket/dps_output/do_landsat_stack_3-1-2_ubuntu/ops/{args.dps_year}/\"\u001b[0m\u001b[0;34m\u001b[0m\u001b[0;34m\u001b[0m\u001b[0m\n\u001b[0m\u001b[1;32m     17\u001b[0m         \u001b[0mends_with_str\u001b[0m \u001b[0;34m=\u001b[0m \u001b[0;34m\"_dps.tif\"\u001b[0m\u001b[0;34m\u001b[0m\u001b[0;34m\u001b[0m\u001b[0m\n\u001b[1;32m     18\u001b[0m     \u001b[0;32mif\u001b[0m \u001b[0;34m\"Topo\"\u001b[0m \u001b[0;32min\u001b[0m \u001b[0mTYPE\u001b[0m\u001b[0;34m:\u001b[0m\u001b[0;34m\u001b[0m\u001b[0;34m\u001b[0m\u001b[0m\n",
      "\u001b[0;31mNameError\u001b[0m: name 'args' is not defined"
     ]
    }
   ],
   "source": [
    "if os.path.isfile(landsat_tindex) and os.path.isfile(topo_tindex):\n",
    "    ls8_df = pd.read_csv(landsat_tindex)\n",
    "    topo_df = pd.read_csv(topo_tindex)\n",
    "else:\n",
    "    s3_stem = 'https://s3.console.aws.amazon.com/s3/buckets/maap-ops-workspace/nathanmthomas'\n",
    "    local_stem = '/projects/my-private-bucket'\n",
    "\n",
    "    ls8_root =  s3_stem + '/dps_output/do_landsat_stack_3-1-2_ubuntu'\n",
    "    topo_root = s3_stem + '/dps_output/do_topo_stack_3-1-5_ubuntu'\n",
    "    \n",
    "    ls8_df = get_stack_df(ls8_root, \"Landsat\")\n",
    "    topo_df = get_stack_df(topo_root, \"Topo\")"
   ]
  },
  {
   "cell_type": "markdown",
   "id": "judicial-breathing",
   "metadata": {},
   "source": [
    "## Get tile nums for coincident Topo and Landsat tiles"
   ]
  },
  {
   "cell_type": "code",
   "execution_count": 7,
   "id": "legal-coalition",
   "metadata": {},
   "outputs": [
    {
     "name": "stdout",
     "output_type": "stream",
     "text": [
      "                                          local_path tile_num\n",
      "0  /projects/my-private-bucket/dps_output/do_land...      986\n",
      "1  /projects/my-private-bucket/dps_output/do_land...      987\n",
      "2  /projects/my-private-bucket/dps_output/do_land...      979\n",
      "3  /projects/my-private-bucket/dps_output/do_land...      984\n",
      "4  /projects/my-private-bucket/dps_output/do_land...      982\n",
      "                                          local_path tile_num\n",
      "0  /projects/my-private-bucket/dps_output/do_topo...      986\n",
      "1  /projects/my-private-bucket/dps_output/do_topo...      987\n",
      "2  /projects/my-private-bucket/dps_output/do_topo...      979\n",
      "3  /projects/my-private-bucket/dps_output/do_topo...      984\n",
      "4  /projects/my-private-bucket/dps_output/do_topo...      982\n",
      "4465 4465\n"
     ]
    }
   ],
   "source": [
    "# added by nmt: get filenames of co-incident landsat and topo\n",
    "\n",
    "topo_sub_df = pd.DataFrame(columns=['local_path','tile_num'])\n",
    "ls8_sub_df = pd.DataFrame(columns=['local_path','tile_num'])\n",
    "\n",
    "for i in range(len(ls8_df['tile_num'])):\n",
    "    ls_tile_num = ls8_df['tile_num'][i]\n",
    "    for j in range(len(topo_df['tile_num'])):\n",
    "        topo_tile_num = topo_df['tile_num'][j]\n",
    "        if ls_tile_num == topo_tile_num:\n",
    "            # Only need to choose one, but we'll do 2 and then check\n",
    "            ls8_sub_df = ls8_sub_df.append({'local_path':ls8_df['local_path'][i],'tile_num':ls8_df['tile_num'][i].astype(int)}, ignore_index=True)\n",
    "            topo_sub_df = topo_sub_df.append({'local_path':topo_df['local_path'][j],'tile_num':topo_df['tile_num'][j].astype(int)}, ignore_index=True)\n",
    "\n",
    "#ls8_sub_df['tile_num'] = ls8_sub_df['tile_num'].astype(float, errors = 'raise')\n",
    "print(ls8_sub_df.head())\n",
    "print(topo_sub_df.head())\n",
    "print(len(ls8_sub_df),len(topo_sub_df))\n",
    "\n",
    "topo_sub_df.to_csv( model_ready_tiles_topo, index=False, encoding='utf-8-sig')\n",
    "ls8_sub_df.to_csv( model_ready_tiles_landsat, index=False, encoding='utf-8-sig')"
   ]
  },
  {
   "cell_type": "code",
   "execution_count": 4,
   "id": "architectural-citation",
   "metadata": {},
   "outputs": [
    {
     "data": {
      "text/plain": [
       "4465"
      ]
     },
     "execution_count": 4,
     "metadata": {},
     "output_type": "execute_result"
    }
   ],
   "source": [
    "topo_sub_df = pd.read_csv(\"/projects/shared-buckets/nathanmthomas/DPS_tile_lists/model_ready_tiles_topo_paths.csv\")\n",
    "INPUT_TILE_NUM_LIST = topo_sub_df['tile_num'].values.astype(int).tolist()\n",
    "len(INPUT_TILE_NUM_LIST)"
   ]
  },
  {
   "cell_type": "markdown",
   "id": "killing-lighting",
   "metadata": {},
   "source": [
    "## Run a DPS job"
   ]
  },
  {
   "cell_type": "code",
   "execution_count": 8,
   "id": "ruled-centre",
   "metadata": {},
   "outputs": [
    {
     "name": "stdout",
     "output_type": "stream",
     "text": [
      "DPS run num: 1, tile num: 986, job info: {'status': 'success', 'http_status_code': 200, 'job_id': 'e1af65b7-fc6f-4b53-b701-6a18f5d0480c'}\n"
     ]
    }
   ],
   "source": [
    "#\"https://maap-ops-workspace.s3.amazonaws.com.com/lduncanson\"\n",
    "#s3_stem = 'https://s3.console.aws.amazon.com/s3/buckets/maap-ops-workspace/nathanmthomas'\n",
    "#local_stem = '/projects/my-private-bucket'\n",
    "RUN_DPS  = True\n",
    "if RUN_DPS:\n",
    "    ##################################\n",
    "    #Test DPS submission on a single file\n",
    "    for i, INPUT_TILE_NUM in enumerate(INPUT_TILE_NUM_LIST[0:1]):\n",
    "        DPS_num = i+1\n",
    "        if True:\n",
    "            in_param_dict = {\n",
    "                                'in_tile_num': INPUT_TILE_NUM,\n",
    "                                'in_tile_fn': 'https://maap-ops-workspace.s3.amazonaws.com/shared/nathanmthomas/boreal_grid_albers90k_gpkg.gpkg',\n",
    "                                'in_tile_layer': 'grid_boreal_albers90k_gpkg',\n",
    "                                'csv_list_fn': 's3://maap-ops-workspace/shared/lduncanson/DPS_tile_lists/ATL08_tindex_master.csv',\n",
    "                                'topo_stack_list_fn': 's3://maap-ops-workspace/shared/nathanmthomas/DPS_tile_lists/Topo_tindex_master.csv',\n",
    "                                'landsat_stack_list_fn': 's3://maap-ops-workspace/shared/nathanmthomas/DPS_tile_lists/Landsat_tindex_master.csv',\n",
    "                                'user_stacks': 'nathanmthomas',\n",
    "                                'user_atl08': 'lduncanson'\n",
    "            }\n",
    "\n",
    "            submit_result = maap.submitJob(\n",
    "                identifier='run_tile_atl08',\n",
    "                algo_id='run_tile_atl08_ubuntu',\n",
    "                version='master',\n",
    "                username='lduncanson', # username needs to be the same as whoever created the workspace\n",
    "                queue='maap-dps-worker-8gb',\n",
    "                **in_param_dict\n",
    "            )\n",
    "\n",
    "        #submit_result = 'submit test'\n",
    "        if DPS_num in [1, 100,500,1000,3000, len(INPUT_TILE_NUM_LIST)]:\n",
    "           print(f\"DPS run num: {DPS_num}, tile num: {INPUT_TILE_NUM}, job info: {submit_result}\") \n",
    " "
   ]
  },
  {
   "cell_type": "code",
   "execution_count": null,
   "id": "systematic-wellington",
   "metadata": {},
   "outputs": [],
   "source": []
  }
 ],
 "metadata": {
  "kernelspec": {
   "display_name": "Python 3",
   "language": "python",
   "name": "python3"
  },
  "language_info": {
   "codemirror_mode": {
    "name": "ipython",
    "version": 3
   },
   "file_extension": ".py",
   "mimetype": "text/x-python",
   "name": "python",
   "nbconvert_exporter": "python",
   "pygments_lexer": "ipython3",
   "version": "3.7.3"
  }
 },
 "nbformat": 4,
 "nbformat_minor": 5
}
